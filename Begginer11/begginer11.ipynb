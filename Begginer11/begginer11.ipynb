{
 "cells": [
  {
   "cell_type": "code",
   "execution_count": 1,
   "id": "27562579",
   "metadata": {},
   "outputs": [],
   "source": [
    "import numpy as np # linear algebra\n",
    "import pandas as pd # data processing, CSV file I/O (e.g. pd.read_csv)"
   ]
  },
  {
   "cell_type": "code",
   "execution_count": 2,
   "id": "f33217fc",
   "metadata": {},
   "outputs": [
    {
     "name": "stdout",
     "output_type": "stream",
     "text": [
      "<class 'pandas.core.frame.DataFrame'>\n",
      "Int64Index: 2000 entries, 0 to 399\n",
      "Data columns (total 8 columns):\n",
      " #   Column    Non-Null Count  Dtype  \n",
      "---  ------    --------------  -----  \n",
      " 0   id        2000 non-null   int64  \n",
      " 1   age       2000 non-null   int64  \n",
      " 2   sex       2000 non-null   object \n",
      " 3   bmi       2000 non-null   float64\n",
      " 4   children  2000 non-null   int64  \n",
      " 5   smoker    2000 non-null   object \n",
      " 6   region    2000 non-null   object \n",
      " 7   charges   1600 non-null   float64\n",
      "dtypes: float64(2), int64(3), object(3)\n",
      "memory usage: 140.6+ KB\n"
     ]
    },
    {
     "data": {
      "text/html": [
       "<div>\n",
       "<style scoped>\n",
       "    .dataframe tbody tr th:only-of-type {\n",
       "        vertical-align: middle;\n",
       "    }\n",
       "\n",
       "    .dataframe tbody tr th {\n",
       "        vertical-align: top;\n",
       "    }\n",
       "\n",
       "    .dataframe thead th {\n",
       "        text-align: right;\n",
       "    }\n",
       "</style>\n",
       "<table border=\"1\" class=\"dataframe\">\n",
       "  <thead>\n",
       "    <tr style=\"text-align: right;\">\n",
       "      <th></th>\n",
       "      <th>id</th>\n",
       "      <th>age</th>\n",
       "      <th>sex</th>\n",
       "      <th>bmi</th>\n",
       "      <th>children</th>\n",
       "      <th>smoker</th>\n",
       "      <th>region</th>\n",
       "      <th>charges</th>\n",
       "    </tr>\n",
       "  </thead>\n",
       "  <tbody>\n",
       "    <tr>\n",
       "      <th>0</th>\n",
       "      <td>0</td>\n",
       "      <td>26</td>\n",
       "      <td>male</td>\n",
       "      <td>32.665465</td>\n",
       "      <td>3</td>\n",
       "      <td>no</td>\n",
       "      <td>southeast</td>\n",
       "      <td>0.0</td>\n",
       "    </tr>\n",
       "    <tr>\n",
       "      <th>1</th>\n",
       "      <td>1</td>\n",
       "      <td>41</td>\n",
       "      <td>male</td>\n",
       "      <td>29.798725</td>\n",
       "      <td>1</td>\n",
       "      <td>no</td>\n",
       "      <td>southwest</td>\n",
       "      <td>0.0</td>\n",
       "    </tr>\n",
       "    <tr>\n",
       "      <th>2</th>\n",
       "      <td>2</td>\n",
       "      <td>28</td>\n",
       "      <td>male</td>\n",
       "      <td>32.722029</td>\n",
       "      <td>0</td>\n",
       "      <td>yes</td>\n",
       "      <td>northwest</td>\n",
       "      <td>1.0</td>\n",
       "    </tr>\n",
       "    <tr>\n",
       "      <th>3</th>\n",
       "      <td>3</td>\n",
       "      <td>20</td>\n",
       "      <td>female</td>\n",
       "      <td>38.429831</td>\n",
       "      <td>2</td>\n",
       "      <td>no</td>\n",
       "      <td>southeast</td>\n",
       "      <td>0.0</td>\n",
       "    </tr>\n",
       "    <tr>\n",
       "      <th>4</th>\n",
       "      <td>4</td>\n",
       "      <td>45</td>\n",
       "      <td>female</td>\n",
       "      <td>29.641854</td>\n",
       "      <td>1</td>\n",
       "      <td>no</td>\n",
       "      <td>northwest</td>\n",
       "      <td>0.0</td>\n",
       "    </tr>\n",
       "    <tr>\n",
       "      <th>5</th>\n",
       "      <td>5</td>\n",
       "      <td>20</td>\n",
       "      <td>male</td>\n",
       "      <td>37.785937</td>\n",
       "      <td>2</td>\n",
       "      <td>yes</td>\n",
       "      <td>southeast</td>\n",
       "      <td>1.0</td>\n",
       "    </tr>\n",
       "    <tr>\n",
       "      <th>6</th>\n",
       "      <td>6</td>\n",
       "      <td>37</td>\n",
       "      <td>male</td>\n",
       "      <td>43.393374</td>\n",
       "      <td>2</td>\n",
       "      <td>no</td>\n",
       "      <td>northeast</td>\n",
       "      <td>0.0</td>\n",
       "    </tr>\n",
       "    <tr>\n",
       "      <th>7</th>\n",
       "      <td>7</td>\n",
       "      <td>41</td>\n",
       "      <td>female</td>\n",
       "      <td>32.280407</td>\n",
       "      <td>1</td>\n",
       "      <td>no</td>\n",
       "      <td>northeast</td>\n",
       "      <td>0.0</td>\n",
       "    </tr>\n",
       "    <tr>\n",
       "      <th>8</th>\n",
       "      <td>8</td>\n",
       "      <td>40</td>\n",
       "      <td>male</td>\n",
       "      <td>28.865828</td>\n",
       "      <td>1</td>\n",
       "      <td>no</td>\n",
       "      <td>northeast</td>\n",
       "      <td>0.0</td>\n",
       "    </tr>\n",
       "    <tr>\n",
       "      <th>9</th>\n",
       "      <td>9</td>\n",
       "      <td>54</td>\n",
       "      <td>female</td>\n",
       "      <td>33.870887</td>\n",
       "      <td>2</td>\n",
       "      <td>no</td>\n",
       "      <td>northeast</td>\n",
       "      <td>0.0</td>\n",
       "    </tr>\n",
       "    <tr>\n",
       "      <th>10</th>\n",
       "      <td>10</td>\n",
       "      <td>34</td>\n",
       "      <td>female</td>\n",
       "      <td>23.449091</td>\n",
       "      <td>2</td>\n",
       "      <td>no</td>\n",
       "      <td>southwest</td>\n",
       "      <td>0.0</td>\n",
       "    </tr>\n",
       "    <tr>\n",
       "      <th>11</th>\n",
       "      <td>11</td>\n",
       "      <td>24</td>\n",
       "      <td>female</td>\n",
       "      <td>32.275964</td>\n",
       "      <td>0</td>\n",
       "      <td>no</td>\n",
       "      <td>northwest</td>\n",
       "      <td>0.0</td>\n",
       "    </tr>\n",
       "    <tr>\n",
       "      <th>12</th>\n",
       "      <td>12</td>\n",
       "      <td>41</td>\n",
       "      <td>male</td>\n",
       "      <td>32.544462</td>\n",
       "      <td>1</td>\n",
       "      <td>no</td>\n",
       "      <td>northeast</td>\n",
       "      <td>0.0</td>\n",
       "    </tr>\n",
       "    <tr>\n",
       "      <th>13</th>\n",
       "      <td>14</td>\n",
       "      <td>55</td>\n",
       "      <td>female</td>\n",
       "      <td>33.110985</td>\n",
       "      <td>2</td>\n",
       "      <td>no</td>\n",
       "      <td>northeast</td>\n",
       "      <td>0.0</td>\n",
       "    </tr>\n",
       "    <tr>\n",
       "      <th>14</th>\n",
       "      <td>15</td>\n",
       "      <td>20</td>\n",
       "      <td>male</td>\n",
       "      <td>34.089663</td>\n",
       "      <td>0</td>\n",
       "      <td>no</td>\n",
       "      <td>northeast</td>\n",
       "      <td>0.0</td>\n",
       "    </tr>\n",
       "    <tr>\n",
       "      <th>15</th>\n",
       "      <td>16</td>\n",
       "      <td>54</td>\n",
       "      <td>male</td>\n",
       "      <td>33.100872</td>\n",
       "      <td>0</td>\n",
       "      <td>no</td>\n",
       "      <td>southeast</td>\n",
       "      <td>0.0</td>\n",
       "    </tr>\n",
       "    <tr>\n",
       "      <th>16</th>\n",
       "      <td>17</td>\n",
       "      <td>28</td>\n",
       "      <td>female</td>\n",
       "      <td>24.597390</td>\n",
       "      <td>0</td>\n",
       "      <td>no</td>\n",
       "      <td>southeast</td>\n",
       "      <td>0.0</td>\n",
       "    </tr>\n",
       "    <tr>\n",
       "      <th>17</th>\n",
       "      <td>18</td>\n",
       "      <td>49</td>\n",
       "      <td>female</td>\n",
       "      <td>28.908255</td>\n",
       "      <td>1</td>\n",
       "      <td>no</td>\n",
       "      <td>northeast</td>\n",
       "      <td>0.0</td>\n",
       "    </tr>\n",
       "    <tr>\n",
       "      <th>18</th>\n",
       "      <td>19</td>\n",
       "      <td>46</td>\n",
       "      <td>female</td>\n",
       "      <td>44.516402</td>\n",
       "      <td>1</td>\n",
       "      <td>no</td>\n",
       "      <td>northeast</td>\n",
       "      <td>0.0</td>\n",
       "    </tr>\n",
       "    <tr>\n",
       "      <th>19</th>\n",
       "      <td>20</td>\n",
       "      <td>18</td>\n",
       "      <td>male</td>\n",
       "      <td>26.978577</td>\n",
       "      <td>0</td>\n",
       "      <td>no</td>\n",
       "      <td>northeast</td>\n",
       "      <td>0.0</td>\n",
       "    </tr>\n",
       "  </tbody>\n",
       "</table>\n",
       "</div>"
      ],
      "text/plain": [
       "    id  age     sex        bmi  children smoker     region  charges\n",
       "0    0   26    male  32.665465         3     no  southeast      0.0\n",
       "1    1   41    male  29.798725         1     no  southwest      0.0\n",
       "2    2   28    male  32.722029         0    yes  northwest      1.0\n",
       "3    3   20  female  38.429831         2     no  southeast      0.0\n",
       "4    4   45  female  29.641854         1     no  northwest      0.0\n",
       "5    5   20    male  37.785937         2    yes  southeast      1.0\n",
       "6    6   37    male  43.393374         2     no  northeast      0.0\n",
       "7    7   41  female  32.280407         1     no  northeast      0.0\n",
       "8    8   40    male  28.865828         1     no  northeast      0.0\n",
       "9    9   54  female  33.870887         2     no  northeast      0.0\n",
       "10  10   34  female  23.449091         2     no  southwest      0.0\n",
       "11  11   24  female  32.275964         0     no  northwest      0.0\n",
       "12  12   41    male  32.544462         1     no  northeast      0.0\n",
       "13  14   55  female  33.110985         2     no  northeast      0.0\n",
       "14  15   20    male  34.089663         0     no  northeast      0.0\n",
       "15  16   54    male  33.100872         0     no  southeast      0.0\n",
       "16  17   28  female  24.597390         0     no  southeast      0.0\n",
       "17  18   49  female  28.908255         1     no  northeast      0.0\n",
       "18  19   46  female  44.516402         1     no  northeast      0.0\n",
       "19  20   18    male  26.978577         0     no  northeast      0.0"
      ]
     },
     "execution_count": 2,
     "metadata": {},
     "output_type": "execute_result"
    }
   ],
   "source": [
    "train=pd.read_csv(\"./train.csv\")\n",
    "test=pd.read_csv(\"./test.csv\")\n",
    "submit_sample=pd.read_csv(\"./sample_submit.csv\", header=None)\n",
    "\n",
    "df = pd.concat([train, test], sort=False)\n",
    "df.info()\n",
    "df.head(20)"
   ]
  },
  {
   "cell_type": "markdown",
   "id": "331334ce",
   "metadata": {},
   "source": [
    "# Pandas Profiling"
   ]
  },
  {
   "cell_type": "code",
   "execution_count": 3,
   "id": "eea0076d",
   "metadata": {
    "scrolled": true
   },
   "outputs": [],
   "source": [
    "# import pandas_profiling\n",
    "\n",
    "# df.profile_report()"
   ]
  },
  {
   "cell_type": "markdown",
   "id": "0da38f24",
   "metadata": {},
   "source": [
    "### Divide dataset into two parts (categorical , numerical)"
   ]
  },
  {
   "cell_type": "code",
   "execution_count": 4,
   "id": "29ad7dfe",
   "metadata": {},
   "outputs": [
    {
     "name": "stdout",
     "output_type": "stream",
     "text": [
      "CategoricaL:\n",
      "['sex', 'smoker', 'region']\n",
      "\n",
      "NumericaL:\n",
      "['id', 'age', 'bmi', 'children', 'charges']\n"
     ]
    }
   ],
   "source": [
    "categorical, numerical = [],[]\n",
    "for z in df.columns:\n",
    "    t = df.dtypes[z]\n",
    "    if t=='object':\n",
    "        categorical.append(z)\n",
    "    else:\n",
    "        numerical.append(z)\n",
    "print(\"CategoricaL:\\n{}\".format(categorical))\n",
    "print(\"\\nNumericaL:\\n{}\".format(numerical))"
   ]
  },
  {
   "cell_type": "markdown",
   "id": "e08e3726",
   "metadata": {},
   "source": [
    "### Heat map for Correlation coefficient"
   ]
  },
  {
   "cell_type": "code",
   "execution_count": 5,
   "id": "6c879976",
   "metadata": {},
   "outputs": [
    {
     "data": {
      "text/plain": [
       "<AxesSubplot:>"
      ]
     },
     "execution_count": 5,
     "metadata": {},
     "output_type": "execute_result"
    },
    {
     "data": {
      "image/png": "[encoded data removed]",
      "text/plain": [
       "<Figure size 1080x1080 with 2 Axes>"
      ]
     },
     "metadata": {
      "needs_background": "light"
     },
     "output_type": "display_data"
    }
   ],
   "source": [
    "import seaborn as sns\n",
    "import matplotlib.pyplot as plt\n",
    "\n",
    "df_corr = df.corr()\n",
    "plt.figure(figsize=(15, 15)) \n",
    "sns.heatmap(df_corr, vmax=1, vmin=-1, center=0, square=True, annot=True)"
   ]
  },
  {
   "cell_type": "markdown",
   "id": "d19c0933",
   "metadata": {},
   "source": [
    "### Scatter plot"
   ]
  },
  {
   "cell_type": "code",
   "execution_count": 6,
   "id": "abca01f1",
   "metadata": {},
   "outputs": [
    {
     "data": {
      "image/png": "[encoded data removed]",
      "text/plain": [
       "<Figure size 2160x5040 with 5 Axes>"
      ]
     },
     "metadata": {
      "needs_background": "light"
     },
     "output_type": "display_data"
    }
   ],
   "source": [
    "# We shall plot these figures\n",
    "plt.figure(figsize=(30, 70))\n",
    "sns.set(font_scale= 1.2)\n",
    "sns.set_style('whitegrid')\n",
    "\n",
    "for i, features in enumerate(numerical):\n",
    "    plt.subplot(10, 4, i+1)\n",
    "    plt.scatter(data=df.iloc[:len(train)], x=features, y='charges', color =\"blue\")\n",
    "    plt.xlabel(features)\n",
    "    plt.ylabel('charges')\n",
    "    \n",
    "sns.despine()"
   ]
  },
  {
   "cell_type": "markdown",
   "id": "2398b70b",
   "metadata": {},
   "source": [
    "### Creating Dummy values"
   ]
  },
  {
   "cell_type": "code",
   "execution_count": 7,
   "id": "81d8f7de",
   "metadata": {},
   "outputs": [],
   "source": [
    "df =pd.get_dummies(df, columns=categorical, drop_first=True)"
   ]
  },
  {
   "cell_type": "markdown",
   "id": "b3297ab9",
   "metadata": {},
   "source": [
    "### Separate Data"
   ]
  },
  {
   "cell_type": "code",
   "execution_count": 8,
   "id": "75ac8014",
   "metadata": {},
   "outputs": [
    {
     "data": {
      "text/html": [
       "<div>\n",
       "<style scoped>\n",
       "    .dataframe tbody tr th:only-of-type {\n",
       "        vertical-align: middle;\n",
       "    }\n",
       "\n",
       "    .dataframe tbody tr th {\n",
       "        vertical-align: top;\n",
       "    }\n",
       "\n",
       "    .dataframe thead th {\n",
       "        text-align: right;\n",
       "    }\n",
       "</style>\n",
       "<table border=\"1\" class=\"dataframe\">\n",
       "  <thead>\n",
       "    <tr style=\"text-align: right;\">\n",
       "      <th></th>\n",
       "      <th>id</th>\n",
       "      <th>age</th>\n",
       "      <th>bmi</th>\n",
       "      <th>children</th>\n",
       "      <th>charges</th>\n",
       "      <th>sex_male</th>\n",
       "      <th>smoker_yes</th>\n",
       "      <th>region_northwest</th>\n",
       "      <th>region_southeast</th>\n",
       "      <th>region_southwest</th>\n",
       "    </tr>\n",
       "  </thead>\n",
       "  <tbody>\n",
       "    <tr>\n",
       "      <th>0</th>\n",
       "      <td>0</td>\n",
       "      <td>26</td>\n",
       "      <td>32.665465</td>\n",
       "      <td>3</td>\n",
       "      <td>0.0</td>\n",
       "      <td>1</td>\n",
       "      <td>0</td>\n",
       "      <td>0</td>\n",
       "      <td>1</td>\n",
       "      <td>0</td>\n",
       "    </tr>\n",
       "    <tr>\n",
       "      <th>1</th>\n",
       "      <td>1</td>\n",
       "      <td>41</td>\n",
       "      <td>29.798725</td>\n",
       "      <td>1</td>\n",
       "      <td>0.0</td>\n",
       "      <td>1</td>\n",
       "      <td>0</td>\n",
       "      <td>0</td>\n",
       "      <td>0</td>\n",
       "      <td>1</td>\n",
       "    </tr>\n",
       "    <tr>\n",
       "      <th>2</th>\n",
       "      <td>2</td>\n",
       "      <td>28</td>\n",
       "      <td>32.722029</td>\n",
       "      <td>0</td>\n",
       "      <td>1.0</td>\n",
       "      <td>1</td>\n",
       "      <td>1</td>\n",
       "      <td>1</td>\n",
       "      <td>0</td>\n",
       "      <td>0</td>\n",
       "    </tr>\n",
       "    <tr>\n",
       "      <th>3</th>\n",
       "      <td>3</td>\n",
       "      <td>20</td>\n",
       "      <td>38.429831</td>\n",
       "      <td>2</td>\n",
       "      <td>0.0</td>\n",
       "      <td>0</td>\n",
       "      <td>0</td>\n",
       "      <td>0</td>\n",
       "      <td>1</td>\n",
       "      <td>0</td>\n",
       "    </tr>\n",
       "    <tr>\n",
       "      <th>4</th>\n",
       "      <td>4</td>\n",
       "      <td>45</td>\n",
       "      <td>29.641854</td>\n",
       "      <td>1</td>\n",
       "      <td>0.0</td>\n",
       "      <td>0</td>\n",
       "      <td>0</td>\n",
       "      <td>1</td>\n",
       "      <td>0</td>\n",
       "      <td>0</td>\n",
       "    </tr>\n",
       "  </tbody>\n",
       "</table>\n",
       "</div>"
      ],
      "text/plain": [
       "   id  age        bmi  children  charges  sex_male  smoker_yes  \\\n",
       "0   0   26  32.665465         3      0.0         1           0   \n",
       "1   1   41  29.798725         1      0.0         1           0   \n",
       "2   2   28  32.722029         0      1.0         1           1   \n",
       "3   3   20  38.429831         2      0.0         0           0   \n",
       "4   4   45  29.641854         1      0.0         0           0   \n",
       "\n",
       "   region_northwest  region_southeast  region_southwest  \n",
       "0                 0                 1                 0  \n",
       "1                 0                 0                 1  \n",
       "2                 1                 0                 0  \n",
       "3                 0                 1                 0  \n",
       "4                 1                 0                 0  "
      ]
     },
     "execution_count": 8,
     "metadata": {},
     "output_type": "execute_result"
    }
   ],
   "source": [
    "#df = pd.get_dummies(df)\n",
    "train = df[:len(train)]\n",
    "test = df[len(train):]\n",
    "df.head()"
   ]
  },
  {
   "cell_type": "markdown",
   "id": "c5162a14",
   "metadata": {},
   "source": [
    "### LightGBM"
   ]
  },
  {
   "cell_type": "code",
   "execution_count": 9,
   "id": "904b7f6f",
   "metadata": {},
   "outputs": [],
   "source": [
    "y_train = train['charges']\n",
    "X_train = train.drop(['charges'], axis=1)\n",
    "X_test = test.drop(['charges'], axis=1)\n"
   ]
  },
  {
   "cell_type": "code",
   "execution_count": 10,
   "id": "537bf39b",
   "metadata": {},
   "outputs": [],
   "source": [
    "import optuna.integration.lightgbm as lgb # Optuna \n",
    "# import lightgbm as lgb \n",
    "from sklearn.model_selection import KFold, StratifiedKFold\n",
    "from sklearn.metrics import f1_score"
   ]
  },
  {
   "cell_type": "code",
   "execution_count": null,
   "id": "3d442c7d",
   "metadata": {},
   "outputs": [
    {
     "name": "stderr",
     "output_type": "stream",
     "text": [
      "\u001b[32m[I 2021-06-12 15:41:30,228]\u001b[0m A new study created in memory with name: no-name-a223a624-6c2d-4927-a24d-c4e5075867fd\u001b[0m\n",
      "feature_fraction, val_score: inf:   0%|                                                          | 0/7 [00:00<?, ?it/s]"
     ]
    },
    {
     "name": "stdout",
     "output_type": "stream",
     "text": [
      "Training until validation scores don't improve for 10 rounds\n",
      "[100]\ttrain's multi_logloss: 0.342547\teval's multi_logloss: 0.392804\n",
      "[200]\ttrain's multi_logloss: 0.237981\teval's multi_logloss: 0.345968\n",
      "Early stopping, best iteration is:\n",
      "[265]\ttrain's multi_logloss: 0.191915\teval's multi_logloss: 0.33943\n"
     ]
    },
    {
     "name": "stderr",
     "output_type": "stream",
     "text": [
      "feature_fraction, val_score: 0.339430:  14%|######4                                      | 1/7 [00:00<00:05,  1.15it/s]\u001b[32m[I 2021-06-12 15:41:31,100]\u001b[0m Trial 0 finished with value: 0.33942954725714536 and parameters: {'feature_fraction': 0.8}. Best is trial 0 with value: 0.33942954725714536.\u001b[0m\n",
      "feature_fraction, val_score: 0.339430:  14%|######4                                      | 1/7 [00:00<00:05,  1.15it/s]"
     ]
    },
    {
     "name": "stdout",
     "output_type": "stream",
     "text": [
      "Training until validation scores don't improve for 10 rounds\n",
      "[100]\ttrain's multi_logloss: 0.356509\teval's multi_logloss: 0.409916\n",
      "[200]\ttrain's multi_logloss: 0.248076\teval's multi_logloss: 0.357354\n",
      "[300]\ttrain's multi_logloss: 0.181052\teval's multi_logloss: 0.34415\n",
      "Early stopping, best iteration is:\n",
      "[296]\ttrain's multi_logloss: 0.183275\teval's multi_logloss: 0.343923\n"
     ]
    },
    {
     "name": "stderr",
     "output_type": "stream",
     "text": [
      "feature_fraction, val_score: 0.339430:  29%|############8                                | 2/7 [00:01<00:04,  1.16it/s]\u001b[32m[I 2021-06-12 15:41:31,965]\u001b[0m Trial 1 finished with value: 0.34392281368472644 and parameters: {'feature_fraction': 0.7}. Best is trial 0 with value: 0.33942954725714536.\u001b[0m\n",
      "feature_fraction, val_score: 0.339430:  29%|############8                                | 2/7 [00:01<00:04,  1.16it/s]"
     ]
    },
    {
     "name": "stdout",
     "output_type": "stream",
     "text": [
      "Training until validation scores don't improve for 10 rounds\n",
      "[100]\ttrain's multi_logloss: 0.334787\teval's multi_logloss: 0.380964\n",
      "[200]\ttrain's multi_logloss: 0.232172\teval's multi_logloss: 0.34051\n",
      "Early stopping, best iteration is:\n",
      "[229]\ttrain's multi_logloss: 0.21101\teval's multi_logloss: 0.338055\n"
     ]
    },
    {
     "name": "stderr",
     "output_type": "stream",
     "text": [
      "feature_fraction, val_score: 0.338055:  43%|###################2                         | 3/7 [00:02<00:03,  1.27it/s]\u001b[32m[I 2021-06-12 15:41:32,662]\u001b[0m Trial 2 finished with value: 0.33805524002871007 and parameters: {'feature_fraction': 0.8999999999999999}. Best is trial 2 with value: 0.33805524002871007.\u001b[0m\n",
      "feature_fraction, val_score: 0.338055:  43%|###################2                         | 3/7 [00:02<00:03,  1.27it/s]"
     ]
    },
    {
     "name": "stdout",
     "output_type": "stream",
     "text": [
      "Training until validation scores don't improve for 10 rounds\n",
      "[100]\ttrain's multi_logloss: 0.372485\teval's multi_logloss: 0.426657\n",
      "[200]\ttrain's multi_logloss: 0.263919\teval's multi_logloss: 0.369664\n",
      "[300]\ttrain's multi_logloss: 0.197006\teval's multi_logloss: 0.34876\n",
      "Early stopping, best iteration is:\n",
      "[349]\ttrain's multi_logloss: 0.171737\teval's multi_logloss: 0.345644\n"
     ]
    },
    {
     "name": "stderr",
     "output_type": "stream",
     "text": [
      "feature_fraction, val_score: 0.338055:  57%|#########################7                   | 4/7 [00:03<00:02,  1.17it/s]\u001b[32m[I 2021-06-12 15:41:33,614]\u001b[0m Trial 3 finished with value: 0.345643547208844 and parameters: {'feature_fraction': 0.5}. Best is trial 2 with value: 0.33805524002871007.\u001b[0m\n",
      "feature_fraction, val_score: 0.338055:  57%|#########################7                   | 4/7 [00:03<00:02,  1.17it/s]"
     ]
    },
    {
     "name": "stdout",
     "output_type": "stream",
     "text": [
      "Training until validation scores don't improve for 10 rounds\n",
      "[100]\ttrain's multi_logloss: 0.329947\teval's multi_logloss: 0.373655\n",
      "[200]\ttrain's multi_logloss: 0.229401\teval's multi_logloss: 0.341164\n"
     ]
    },
    {
     "name": "stderr",
     "output_type": "stream",
     "text": [
      "feature_fraction, val_score: 0.338055:  71%|################################1            | 5/7 [00:04<00:01,  1.23it/s]\u001b[32m[I 2021-06-12 15:41:34,353]\u001b[0m Trial 4 finished with value: 0.3411640891928062 and parameters: {'feature_fraction': 1.0}. Best is trial 2 with value: 0.33805524002871007.\u001b[0m\n",
      "feature_fraction, val_score: 0.338055:  71%|################################1            | 5/7 [00:04<00:01,  1.23it/s]"
     ]
    },
    {
     "name": "stdout",
     "output_type": "stream",
     "text": [
      "Early stopping, best iteration is:\n",
      "[200]\ttrain's multi_logloss: 0.229401\teval's multi_logloss: 0.341164\n",
      "Training until validation scores don't improve for 10 rounds\n",
      "[100]\ttrain's multi_logloss: 0.372485\teval's multi_logloss: 0.426657\n",
      "[200]\ttrain's multi_logloss: 0.263919\teval's multi_logloss: 0.369664\n",
      "[300]\ttrain's multi_logloss: 0.197006\teval's multi_logloss: 0.34876\n",
      "Early stopping, best iteration is:\n",
      "[349]\ttrain's multi_logloss: 0.171737\teval's multi_logloss: 0.345644\n"
     ]
    },
    {
     "name": "stderr",
     "output_type": "stream",
     "text": [
      "feature_fraction, val_score: 0.338055:  86%|######################################5      | 6/7 [00:05<00:01,  1.06s/it]\u001b[32m[I 2021-06-12 15:41:35,904]\u001b[0m Trial 5 finished with value: 0.345643547208844 and parameters: {'feature_fraction': 0.6}. Best is trial 2 with value: 0.33805524002871007.\u001b[0m\n",
      "feature_fraction, val_score: 0.338055:  86%|######################################5      | 6/7 [00:05<00:01,  1.06s/it]"
     ]
    },
    {
     "name": "stdout",
     "output_type": "stream",
     "text": [
      "Training until validation scores don't improve for 10 rounds\n",
      "[100]\ttrain's multi_logloss: 0.453082\teval's multi_logloss: 0.544789\n"
     ]
    },
    {
     "name": "stderr",
     "output_type": "stream",
     "text": [
      "feature_fraction, val_score: 0.338055: 100%|#############################################| 7/7 [00:06<00:00,  1.06it/s]\u001b[32m[I 2021-06-12 15:41:36,612]\u001b[0m Trial 6 finished with value: 0.505445979603196 and parameters: {'feature_fraction': 0.4}. Best is trial 2 with value: 0.33805524002871007.\u001b[0m\n",
      "feature_fraction, val_score: 0.338055: 100%|#############################################| 7/7 [00:06<00:00,  1.10it/s]\n",
      "num_leaves, val_score: 0.338055:   0%|                                                          | 0/20 [00:00<?, ?it/s]"
     ]
    },
    {
     "name": "stdout",
     "output_type": "stream",
     "text": [
      "[200]\ttrain's multi_logloss: 0.345446\teval's multi_logloss: 0.505887\n",
      "Early stopping, best iteration is:\n",
      "[190]\ttrain's multi_logloss: 0.352925\teval's multi_logloss: 0.505446\n",
      "Training until validation scores don't improve for 10 rounds\n",
      "[100]\ttrain's multi_logloss: 0.334787\teval's multi_logloss: 0.380964\n",
      "[200]\ttrain's multi_logloss: 0.232382\teval's multi_logloss: 0.341094\n",
      "Early stopping, best iteration is:\n",
      "[230]\ttrain's multi_logloss: 0.210711\teval's multi_logloss: 0.338473\n"
     ]
    },
    {
     "name": "stderr",
     "output_type": "stream",
     "text": [
      "num_leaves, val_score: 0.338055:   5%|##5                                               | 1/20 [00:00<00:15,  1.20it/s]\u001b[32m[I 2021-06-12 15:41:37,452]\u001b[0m Trial 7 finished with value: 0.3384725613228663 and parameters: {'num_leaves': 113}. Best is trial 7 with value: 0.3384725613228663.\u001b[0m\n",
      "num_leaves, val_score: 0.338055:   5%|##5                                               | 1/20 [00:00<00:15,  1.20it/s]"
     ]
    },
    {
     "name": "stdout",
     "output_type": "stream",
     "text": [
      "Training until validation scores don't improve for 10 rounds\n",
      "[100]\ttrain's multi_logloss: 0.334787\teval's multi_logloss: 0.380964\n",
      "[200]\ttrain's multi_logloss: 0.232382\teval's multi_logloss: 0.341094\n",
      "Early stopping, best iteration is:\n",
      "[230]\ttrain's multi_logloss: 0.210711\teval's multi_logloss: 0.338473\n"
     ]
    },
    {
     "name": "stderr",
     "output_type": "stream",
     "text": [
      "num_leaves, val_score: 0.338055:  10%|#####                                             | 2/20 [00:01<00:15,  1.19it/s]\u001b[32m[I 2021-06-12 15:41:38,300]\u001b[0m Trial 8 finished with value: 0.3384725613228663 and parameters: {'num_leaves': 83}. Best is trial 7 with value: 0.3384725613228663.\u001b[0m\n",
      "num_leaves, val_score: 0.338055:  10%|#####                                             | 2/20 [00:01<00:15,  1.19it/s]"
     ]
    },
    {
     "name": "stdout",
     "output_type": "stream",
     "text": [
      "Training until validation scores don't improve for 10 rounds\n",
      "[100]\ttrain's multi_logloss: 0.334787\teval's multi_logloss: 0.380964\n",
      "[200]\ttrain's multi_logloss: 0.232382\teval's multi_logloss: 0.341094\n",
      "Early stopping, best iteration is:\n",
      "[230]\ttrain's multi_logloss: 0.210711\teval's multi_logloss: 0.338473\n"
     ]
    },
    {
     "name": "stderr",
     "output_type": "stream",
     "text": [
      "num_leaves, val_score: 0.338055:  15%|#######5                                          | 3/20 [00:02<00:14,  1.15it/s]\u001b[32m[I 2021-06-12 15:41:39,209]\u001b[0m Trial 9 finished with value: 0.3384725613228663 and parameters: {'num_leaves': 115}. Best is trial 7 with value: 0.3384725613228663.\u001b[0m\n",
      "num_leaves, val_score: 0.338055:  15%|#######5                                          | 3/20 [00:02<00:14,  1.15it/s]"
     ]
    },
    {
     "name": "stdout",
     "output_type": "stream",
     "text": [
      "Training until validation scores don't improve for 10 rounds\n",
      "[100]\ttrain's multi_logloss: 0.334787\teval's multi_logloss: 0.380964\n",
      "[200]\ttrain's multi_logloss: 0.232382\teval's multi_logloss: 0.341094\n",
      "Early stopping, best iteration is:\n",
      "[230]\ttrain's multi_logloss: 0.210711\teval's multi_logloss: 0.338473\n"
     ]
    },
    {
     "name": "stderr",
     "output_type": "stream",
     "text": [
      "num_leaves, val_score: 0.338055:  20%|##########                                        | 4/20 [00:03<00:14,  1.10it/s]\u001b[32m[I 2021-06-12 15:41:40,183]\u001b[0m Trial 10 finished with value: 0.3384725613228663 and parameters: {'num_leaves': 138}. Best is trial 7 with value: 0.3384725613228663.\u001b[0m\n",
      "num_leaves, val_score: 0.338055:  20%|##########                                        | 4/20 [00:03<00:14,  1.10it/s]"
     ]
    },
    {
     "name": "stdout",
     "output_type": "stream",
     "text": [
      "Training until validation scores don't improve for 10 rounds\n",
      "[100]\ttrain's multi_logloss: 0.334787\teval's multi_logloss: 0.380964\n",
      "[200]\ttrain's multi_logloss: 0.232382\teval's multi_logloss: 0.341094\n",
      "Early stopping, best iteration is:\n",
      "[230]\ttrain's multi_logloss: 0.210711\teval's multi_logloss: 0.338473\n"
     ]
    },
    {
     "name": "stderr",
     "output_type": "stream",
     "text": [
      "num_leaves, val_score: 0.338055:  25%|############5                                     | 5/20 [00:04<00:13,  1.15it/s]\u001b[32m[I 2021-06-12 15:41:40,968]\u001b[0m Trial 11 finished with value: 0.3384725613228663 and parameters: {'num_leaves': 182}. Best is trial 7 with value: 0.3384725613228663.\u001b[0m\n",
      "num_leaves, val_score: 0.338055:  25%|############5                                     | 5/20 [00:04<00:13,  1.15it/s]"
     ]
    },
    {
     "name": "stdout",
     "output_type": "stream",
     "text": [
      "Training until validation scores don't improve for 10 rounds\n",
      "[100]\ttrain's multi_logloss: 0.334787\teval's multi_logloss: 0.380964\n",
      "[200]\ttrain's multi_logloss: 0.232382\teval's multi_logloss: 0.341094\n",
      "Early stopping, best iteration is:\n",
      "[230]\ttrain's multi_logloss: 0.210711\teval's multi_logloss: 0.338473\n"
     ]
    },
    {
     "name": "stderr",
     "output_type": "stream",
     "text": [
      "num_leaves, val_score: 0.338055:  30%|###############                                   | 6/20 [00:05<00:12,  1.11it/s]\u001b[32m[I 2021-06-12 15:41:41,931]\u001b[0m Trial 12 finished with value: 0.3384725613228663 and parameters: {'num_leaves': 234}. Best is trial 7 with value: 0.3384725613228663.\u001b[0m\n",
      "num_leaves, val_score: 0.338055:  30%|###############                                   | 6/20 [00:05<00:12,  1.11it/s]"
     ]
    },
    {
     "name": "stdout",
     "output_type": "stream",
     "text": [
      "Training until validation scores don't improve for 10 rounds\n",
      "[100]\ttrain's multi_logloss: 0.334889\teval's multi_logloss: 0.381108\n",
      "[200]\ttrain's multi_logloss: 0.232339\teval's multi_logloss: 0.341117\n",
      "Early stopping, best iteration is:\n",
      "[229]\ttrain's multi_logloss: 0.21157\teval's multi_logloss: 0.338915\n"
     ]
    },
    {
     "name": "stderr",
     "output_type": "stream",
     "text": [
      "num_leaves, val_score: 0.338055:  35%|#################5                                | 7/20 [00:06<00:10,  1.20it/s]\u001b[32m[I 2021-06-12 15:41:42,631]\u001b[0m Trial 13 finished with value: 0.3389149824954578 and parameters: {'num_leaves': 38}. Best is trial 7 with value: 0.3384725613228663.\u001b[0m\n",
      "num_leaves, val_score: 0.338055:  35%|#################5                                | 7/20 [00:06<00:10,  1.20it/s]"
     ]
    },
    {
     "name": "stdout",
     "output_type": "stream",
     "text": [
      "Training until validation scores don't improve for 10 rounds\n",
      "[100]\ttrain's multi_logloss: 0.334787\teval's multi_logloss: 0.380964\n",
      "[200]\ttrain's multi_logloss: 0.232382\teval's multi_logloss: 0.341094\n",
      "Early stopping, best iteration is:\n",
      "[230]\ttrain's multi_logloss: 0.210711\teval's multi_logloss: 0.338473\n"
     ]
    },
    {
     "name": "stderr",
     "output_type": "stream",
     "text": [
      "num_leaves, val_score: 0.338055:  40%|####################                              | 8/20 [00:06<00:10,  1.18it/s]\u001b[32m[I 2021-06-12 15:41:43,511]\u001b[0m Trial 14 finished with value: 0.3384725613228663 and parameters: {'num_leaves': 133}. Best is trial 7 with value: 0.3384725613228663.\u001b[0m\n",
      "num_leaves, val_score: 0.338055:  40%|####################                              | 8/20 [00:06<00:10,  1.18it/s]"
     ]
    },
    {
     "name": "stdout",
     "output_type": "stream",
     "text": [
      "Training until validation scores don't improve for 10 rounds\n",
      "[100]\ttrain's multi_logloss: 0.334787\teval's multi_logloss: 0.380964\n",
      "[200]\ttrain's multi_logloss: 0.232382\teval's multi_logloss: 0.341094\n",
      "Early stopping, best iteration is:\n",
      "[230]\ttrain's multi_logloss: 0.210711\teval's multi_logloss: 0.338473\n"
     ]
    },
    {
     "name": "stderr",
     "output_type": "stream",
     "text": [
      "num_leaves, val_score: 0.338055:  45%|######################5                           | 9/20 [00:07<00:09,  1.22it/s]\u001b[32m[I 2021-06-12 15:41:44,270]\u001b[0m Trial 15 finished with value: 0.3384725613228663 and parameters: {'num_leaves': 147}. Best is trial 7 with value: 0.3384725613228663.\u001b[0m\n",
      "num_leaves, val_score: 0.338055:  45%|######################5                           | 9/20 [00:07<00:09,  1.22it/s]"
     ]
    },
    {
     "name": "stdout",
     "output_type": "stream",
     "text": [
      "Training until validation scores don't improve for 10 rounds\n",
      "[100]\ttrain's multi_logloss: 0.334787\teval's multi_logloss: 0.380964\n",
      "[200]\ttrain's multi_logloss: 0.232382\teval's multi_logloss: 0.341094\n",
      "Early stopping, best iteration is:\n",
      "[230]\ttrain's multi_logloss: 0.210711\teval's multi_logloss: 0.338473\n"
     ]
    },
    {
     "name": "stderr",
     "output_type": "stream",
     "text": [
      "num_leaves, val_score: 0.338055:  50%|########################5                        | 10/20 [00:08<00:08,  1.23it/s]\u001b[32m[I 2021-06-12 15:41:45,065]\u001b[0m Trial 16 finished with value: 0.3384725613228663 and parameters: {'num_leaves': 239}. Best is trial 7 with value: 0.3384725613228663.\u001b[0m\n",
      "num_leaves, val_score: 0.338055:  50%|########################5                        | 10/20 [00:08<00:08,  1.23it/s]"
     ]
    },
    {
     "name": "stdout",
     "output_type": "stream",
     "text": [
      "Training until validation scores don't improve for 10 rounds\n",
      "[100]\ttrain's multi_logloss: 0.420296\teval's multi_logloss: 0.402923\n",
      "[200]\ttrain's multi_logloss: 0.373504\teval's multi_logloss: 0.361844\n",
      "[300]\ttrain's multi_logloss: 0.352915\teval's multi_logloss: 0.349765\n"
     ]
    },
    {
     "name": "stderr",
     "output_type": "stream",
     "text": [
      "num_leaves, val_score: 0.338055:  55%|##########################9                      | 11/20 [00:08<00:06,  1.48it/s]\u001b[32m[I 2021-06-12 15:41:45,429]\u001b[0m Trial 17 finished with value: 0.34120703035332656 and parameters: {'num_leaves': 3}. Best is trial 7 with value: 0.3384725613228663.\u001b[0m\n",
      "num_leaves, val_score: 0.338055:  55%|##########################9                      | 11/20 [00:08<00:06,  1.48it/s]"
     ]
    },
    {
     "name": "stdout",
     "output_type": "stream",
     "text": [
      "[400]\ttrain's multi_logloss: 0.339509\teval's multi_logloss: 0.344863\n",
      "[500]\ttrain's multi_logloss: 0.328788\teval's multi_logloss: 0.341303\n",
      "Early stopping, best iteration is:\n",
      "[494]\ttrain's multi_logloss: 0.32933\teval's multi_logloss: 0.341207\n",
      "Training until validation scores don't improve for 10 rounds\n",
      "[100]\ttrain's multi_logloss: 0.334787\teval's multi_logloss: 0.380964\n",
      "[200]\ttrain's multi_logloss: 0.232382\teval's multi_logloss: 0.341094\n",
      "Early stopping, best iteration is:\n",
      "[230]\ttrain's multi_logloss: 0.210711\teval's multi_logloss: 0.338473\n"
     ]
    },
    {
     "name": "stderr",
     "output_type": "stream",
     "text": [
      "num_leaves, val_score: 0.338055:  60%|#############################4                   | 12/20 [00:09<00:05,  1.39it/s]\u001b[32m[I 2021-06-12 15:41:46,249]\u001b[0m Trial 18 finished with value: 0.3384725613228663 and parameters: {'num_leaves': 82}. Best is trial 7 with value: 0.3384725613228663.\u001b[0m\n",
      "num_leaves, val_score: 0.338055:  60%|#############################4                   | 12/20 [00:09<00:05,  1.39it/s]"
     ]
    },
    {
     "name": "stdout",
     "output_type": "stream",
     "text": [
      "Training until validation scores don't improve for 10 rounds\n",
      "[100]\ttrain's multi_logloss: 0.334787\teval's multi_logloss: 0.380964\n",
      "[200]\ttrain's multi_logloss: 0.232382\teval's multi_logloss: 0.341094\n",
      "Early stopping, best iteration is:\n",
      "[230]\ttrain's multi_logloss: 0.210711\teval's multi_logloss: 0.338473\n"
     ]
    },
    {
     "name": "stderr",
     "output_type": "stream",
     "text": [
      "num_leaves, val_score: 0.338055:  65%|###############################8                 | 13/20 [00:10<00:05,  1.35it/s]\u001b[32m[I 2021-06-12 15:41:47,037]\u001b[0m Trial 19 finished with value: 0.3384725613228663 and parameters: {'num_leaves': 64}. Best is trial 7 with value: 0.3384725613228663.\u001b[0m\n",
      "num_leaves, val_score: 0.338055:  65%|###############################8                 | 13/20 [00:10<00:05,  1.35it/s]"
     ]
    },
    {
     "name": "stdout",
     "output_type": "stream",
     "text": [
      "Training until validation scores don't improve for 10 rounds\n",
      "[100]\ttrain's multi_logloss: 0.334787\teval's multi_logloss: 0.380964\n",
      "[200]\ttrain's multi_logloss: 0.232382\teval's multi_logloss: 0.341094\n",
      "Early stopping, best iteration is:\n",
      "[230]\ttrain's multi_logloss: 0.210711\teval's multi_logloss: 0.338473\n"
     ]
    },
    {
     "name": "stderr",
     "output_type": "stream",
     "text": [
      "num_leaves, val_score: 0.338055:  70%|##################################3              | 14/20 [00:11<00:04,  1.34it/s]\u001b[32m[I 2021-06-12 15:41:47,789]\u001b[0m Trial 20 finished with value: 0.3384725613228663 and parameters: {'num_leaves': 87}. Best is trial 7 with value: 0.3384725613228663.\u001b[0m\n",
      "num_leaves, val_score: 0.338055:  70%|##################################3              | 14/20 [00:11<00:04,  1.34it/s]"
     ]
    },
    {
     "name": "stdout",
     "output_type": "stream",
     "text": [
      "Training until validation scores don't improve for 10 rounds\n",
      "[100]\ttrain's multi_logloss: 0.334787\teval's multi_logloss: 0.380964\n",
      "[200]\ttrain's multi_logloss: 0.232382\teval's multi_logloss: 0.341094\n",
      "Early stopping, best iteration is:\n",
      "[230]\ttrain's multi_logloss: 0.210711\teval's multi_logloss: 0.338473\n"
     ]
    },
    {
     "name": "stderr",
     "output_type": "stream",
     "text": [
      "num_leaves, val_score: 0.338055:  75%|####################################7            | 15/20 [00:12<00:04,  1.23it/s]\u001b[32m[I 2021-06-12 15:41:48,754]\u001b[0m Trial 21 finished with value: 0.3384725613228663 and parameters: {'num_leaves': 182}. Best is trial 7 with value: 0.3384725613228663.\u001b[0m\n",
      "num_leaves, val_score: 0.338055:  75%|####################################7            | 15/20 [00:12<00:04,  1.23it/s]"
     ]
    },
    {
     "name": "stdout",
     "output_type": "stream",
     "text": [
      "Training until validation scores don't improve for 10 rounds\n",
      "[100]\ttrain's multi_logloss: 0.338197\teval's multi_logloss: 0.381132\n"
     ]
    },
    {
     "name": "stderr",
     "output_type": "stream",
     "text": [
      "num_leaves, val_score: 0.338055:  80%|#######################################2         | 16/20 [00:12<00:02,  1.36it/s]\u001b[32m[I 2021-06-12 15:41:49,307]\u001b[0m Trial 22 finished with value: 0.339158503706976 and parameters: {'num_leaves': 26}. Best is trial 7 with value: 0.3384725613228663.\u001b[0m\n",
      "num_leaves, val_score: 0.338055:  80%|#######################################2         | 16/20 [00:12<00:02,  1.36it/s]"
     ]
    },
    {
     "name": "stdout",
     "output_type": "stream",
     "text": [
      "[200]\ttrain's multi_logloss: 0.240005\teval's multi_logloss: 0.341257\n",
      "Early stopping, best iteration is:\n",
      "[229]\ttrain's multi_logloss: 0.220787\teval's multi_logloss: 0.339159\n",
      "Training until validation scores don't improve for 10 rounds\n",
      "[100]\ttrain's multi_logloss: 0.334787\teval's multi_logloss: 0.380964\n",
      "[200]\ttrain's multi_logloss: 0.232382\teval's multi_logloss: 0.341094\n",
      "Early stopping, best iteration is:\n",
      "[230]\ttrain's multi_logloss: 0.210711\teval's multi_logloss: 0.338473\n"
     ]
    },
    {
     "name": "stderr",
     "output_type": "stream",
     "text": [
      "num_leaves, val_score: 0.338055:  85%|#########################################6       | 17/20 [00:13<00:02,  1.34it/s]\u001b[32m[I 2021-06-12 15:41:50,084]\u001b[0m Trial 23 finished with value: 0.3384725613228663 and parameters: {'num_leaves': 111}. Best is trial 7 with value: 0.3384725613228663.\u001b[0m\n",
      "num_leaves, val_score: 0.338055:  85%|#########################################6       | 17/20 [00:13<00:02,  1.34it/s]"
     ]
    },
    {
     "name": "stdout",
     "output_type": "stream",
     "text": [
      "Training until validation scores don't improve for 10 rounds\n",
      "[100]\ttrain's multi_logloss: 0.334787\teval's multi_logloss: 0.380964\n",
      "[200]\ttrain's multi_logloss: 0.232382\teval's multi_logloss: 0.341094\n",
      "Early stopping, best iteration is:\n",
      "[230]\ttrain's multi_logloss: 0.210711\teval's multi_logloss: 0.338473\n"
     ]
    },
    {
     "name": "stderr",
     "output_type": "stream",
     "text": [
      "num_leaves, val_score: 0.338055:  90%|############################################1    | 18/20 [00:14<00:01,  1.35it/s]\u001b[32m[I 2021-06-12 15:41:50,811]\u001b[0m Trial 24 finished with value: 0.3384725613228663 and parameters: {'num_leaves': 187}. Best is trial 7 with value: 0.3384725613228663.\u001b[0m\n",
      "num_leaves, val_score: 0.338055:  90%|############################################1    | 18/20 [00:14<00:01,  1.35it/s]"
     ]
    },
    {
     "name": "stdout",
     "output_type": "stream",
     "text": [
      "Training until validation scores don't improve for 10 rounds\n",
      "[100]\ttrain's multi_logloss: 0.334787\teval's multi_logloss: 0.380964\n",
      "[200]\ttrain's multi_logloss: 0.232382\teval's multi_logloss: 0.341094\n",
      "Early stopping, best iteration is:\n",
      "[230]\ttrain's multi_logloss: 0.210711\teval's multi_logloss: 0.338473\n"
     ]
    },
    {
     "name": "stderr",
     "output_type": "stream",
     "text": [
      "num_leaves, val_score: 0.338055:  95%|##############################################5  | 19/20 [00:14<00:00,  1.36it/s]\u001b[32m[I 2021-06-12 15:41:51,528]\u001b[0m Trial 25 finished with value: 0.3384725613228663 and parameters: {'num_leaves': 193}. Best is trial 7 with value: 0.3384725613228663.\u001b[0m\n",
      "num_leaves, val_score: 0.338055:  95%|##############################################5  | 19/20 [00:14<00:00,  1.36it/s]"
     ]
    },
    {
     "name": "stdout",
     "output_type": "stream",
     "text": [
      "Training until validation scores don't improve for 10 rounds\n",
      "[100]\ttrain's multi_logloss: 0.334787\teval's multi_logloss: 0.380964\n",
      "[200]\ttrain's multi_logloss: 0.232382\teval's multi_logloss: 0.341094\n"
     ]
    },
    {
     "name": "stderr",
     "output_type": "stream",
     "text": [
      "\r",
      "num_leaves, val_score: 0.338055:  95%|##############################################5  | 19/20 [00:15<00:00,  1.36it/s]"
     ]
    },
    {
     "name": "stdout",
     "output_type": "stream",
     "text": [
      "Early stopping, best iteration is:\n",
      "[230]\ttrain's multi_logloss: 0.210711\teval's multi_logloss: 0.338473\n"
     ]
    },
    {
     "name": "stderr",
     "output_type": "stream",
     "text": [
      "num_leaves, val_score: 0.338055: 100%|#################################################| 20/20 [00:15<00:00,  1.30it/s]\u001b[32m[I 2021-06-12 15:41:52,389]\u001b[0m Trial 26 finished with value: 0.3384725613228663 and parameters: {'num_leaves': 108}. Best is trial 7 with value: 0.3384725613228663.\u001b[0m\n",
      "num_leaves, val_score: 0.338055: 100%|#################################################| 20/20 [00:15<00:00,  1.27it/s]\n",
      "bagging, val_score: 0.338055:   0%|                                                             | 0/10 [00:00<?, ?it/s]"
     ]
    },
    {
     "name": "stdout",
     "output_type": "stream",
     "text": [
      "Training until validation scores don't improve for 10 rounds\n",
      "[100]\ttrain's multi_logloss: 0.338809\teval's multi_logloss: 0.382145\n",
      "[200]\ttrain's multi_logloss: 0.238036\teval's multi_logloss: 0.340932\n",
      "Early stopping, best iteration is:\n",
      "[237]\ttrain's multi_logloss: 0.212362\teval's multi_logloss: 0.338312\n"
     ]
    },
    {
     "name": "stderr",
     "output_type": "stream",
     "text": [
      "bagging, val_score: 0.338055:  10%|#####3                                               | 1/10 [00:00<00:06,  1.42it/s]\u001b[32m[I 2021-06-12 15:41:53,102]\u001b[0m Trial 27 finished with value: 0.3383118999418637 and parameters: {'bagging_fraction': 0.7537900113274416, 'bagging_freq': 2}. Best is trial 27 with value: 0.3383118999418637.\u001b[0m\n",
      "bagging, val_score: 0.338055:  10%|#####3                                               | 1/10 [00:00<00:06,  1.42it/s]"
     ]
    },
    {
     "name": "stdout",
     "output_type": "stream",
     "text": [
      "Training until validation scores don't improve for 10 rounds\n",
      "[100]\ttrain's multi_logloss: 0.366402\teval's multi_logloss: 0.387351\n"
     ]
    },
    {
     "name": "stderr",
     "output_type": "stream",
     "text": [
      "\r",
      "bagging, val_score: 0.338055:  10%|#####3                                               | 1/10 [00:01<00:06,  1.42it/s]"
     ]
    },
    {
     "name": "stdout",
     "output_type": "stream",
     "text": [
      "[200]\ttrain's multi_logloss: 0.283076\teval's multi_logloss: 0.352346\n",
      "Early stopping, best iteration is:\n",
      "[235]\ttrain's multi_logloss: 0.265011\teval's multi_logloss: 0.347302\n"
     ]
    },
    {
     "name": "stderr",
     "output_type": "stream",
     "text": [
      "bagging, val_score: 0.338055:  20%|##########6                                          | 2/10 [00:01<00:04,  1.67it/s]\u001b[32m[I 2021-06-12 15:41:53,628]\u001b[0m Trial 28 finished with value: 0.34730218620672304 and parameters: {'bagging_fraction': 0.4769650275678281, 'bagging_freq': 6}. Best is trial 27 with value: 0.3383118999418637.\u001b[0m\n",
      "bagging, val_score: 0.338055:  20%|##########6                                          | 2/10 [00:01<00:04,  1.67it/s]"
     ]
    },
    {
     "name": "stdout",
     "output_type": "stream",
     "text": [
      "Training until validation scores don't improve for 10 rounds\n",
      "[100]\ttrain's multi_logloss: 0.345834\teval's multi_logloss: 0.381592\n",
      "[200]\ttrain's multi_logloss: 0.250244\teval's multi_logloss: 0.343285\n"
     ]
    },
    {
     "name": "stderr",
     "output_type": "stream",
     "text": [
      "\r",
      "bagging, val_score: 0.338055:  20%|##########6                                          | 2/10 [00:01<00:04,  1.67it/s]"
     ]
    },
    {
     "name": "stdout",
     "output_type": "stream",
     "text": [
      "Early stopping, best iteration is:\n",
      "[258]\ttrain's multi_logloss: 0.211889\teval's multi_logloss: 0.339736\n"
     ]
    },
    {
     "name": "stderr",
     "output_type": "stream",
     "text": [
      "bagging, val_score: 0.338055:  30%|###############9                                     | 3/10 [00:01<00:04,  1.50it/s]\u001b[32m[I 2021-06-12 15:41:54,379]\u001b[0m Trial 29 finished with value: 0.33973625882841707 and parameters: {'bagging_fraction': 0.6707309610363758, 'bagging_freq': 3}. Best is trial 27 with value: 0.3383118999418637.\u001b[0m\n",
      "bagging, val_score: 0.338055:  30%|###############9                                     | 3/10 [00:01<00:04,  1.50it/s]"
     ]
    },
    {
     "name": "stdout",
     "output_type": "stream",
     "text": [
      "Training until validation scores don't improve for 10 rounds\n",
      "[100]\ttrain's multi_logloss: 0.373887\teval's multi_logloss: 0.393029\n",
      "[200]\ttrain's multi_logloss: 0.294019\teval's multi_logloss: 0.351286\n",
      "Early stopping, best iteration is:\n",
      "[272]\ttrain's multi_logloss: 0.257034\teval's multi_logloss: 0.344506\n"
     ]
    },
    {
     "name": "stderr",
     "output_type": "stream",
     "text": [
      "bagging, val_score: 0.338055:  40%|#####################2                               | 4/10 [00:02<00:03,  1.59it/s]\u001b[32m[I 2021-06-12 15:41:54,942]\u001b[0m Trial 30 finished with value: 0.34450578742564203 and parameters: {'bagging_fraction': 0.4144536104699542, 'bagging_freq': 1}. Best is trial 27 with value: 0.3383118999418637.\u001b[0m\n",
      "bagging, val_score: 0.338055:  40%|#####################2                               | 4/10 [00:02<00:03,  1.59it/s]"
     ]
    },
    {
     "name": "stdout",
     "output_type": "stream",
     "text": [
      "Training until validation scores don't improve for 10 rounds\n",
      "[100]\ttrain's multi_logloss: 0.340418\teval's multi_logloss: 0.38124\n",
      "[200]\ttrain's multi_logloss: 0.240638\teval's multi_logloss: 0.338549\n",
      "Early stopping, best iteration is:\n",
      "[230]\ttrain's multi_logloss: 0.219106\teval's multi_logloss: 0.336333\n"
     ]
    },
    {
     "name": "stderr",
     "output_type": "stream",
     "text": [
      "bagging, val_score: 0.336333:  50%|##########################5                          | 5/10 [00:03<00:03,  1.53it/s]\u001b[32m[I 2021-06-12 15:41:55,639]\u001b[0m Trial 31 finished with value: 0.336333474123973 and parameters: {'bagging_fraction': 0.7415952603673214, 'bagging_freq': 5}. Best is trial 31 with value: 0.336333474123973.\u001b[0m\n",
      "bagging, val_score: 0.336333:  50%|##########################5                          | 5/10 [00:03<00:03,  1.53it/s]"
     ]
    },
    {
     "name": "stdout",
     "output_type": "stream",
     "text": [
      "Training until validation scores don't improve for 10 rounds\n",
      "[100]\ttrain's multi_logloss: 0.345218\teval's multi_logloss: 0.382568\n"
     ]
    },
    {
     "name": "stderr",
     "output_type": "stream",
     "text": [
      "\r",
      "bagging, val_score: 0.336333:  50%|##########################5                          | 5/10 [00:03<00:03,  1.53it/s]"
     ]
    },
    {
     "name": "stdout",
     "output_type": "stream",
     "text": [
      "[200]\ttrain's multi_logloss: 0.248339\teval's multi_logloss: 0.342831\n",
      "Early stopping, best iteration is:\n",
      "[225]\ttrain's multi_logloss: 0.230319\teval's multi_logloss: 0.34002\n"
     ]
    },
    {
     "name": "stderr",
     "output_type": "stream",
     "text": [
      "bagging, val_score: 0.336333:  60%|###############################8                     | 6/10 [00:03<00:02,  1.57it/s]\u001b[32m[I 2021-06-12 15:41:56,247]\u001b[0m Trial 32 finished with value: 0.3400196757855606 and parameters: {'bagging_fraction': 0.6916479557431533, 'bagging_freq': 5}. Best is trial 31 with value: 0.336333474123973.\u001b[0m\n",
      "bagging, val_score: 0.336333:  60%|###############################8                     | 6/10 [00:03<00:02,  1.57it/s]"
     ]
    },
    {
     "name": "stdout",
     "output_type": "stream",
     "text": [
      "Training until validation scores don't improve for 10 rounds\n",
      "[100]\ttrain's multi_logloss: 0.325799\teval's multi_logloss: 0.38113\n",
      "[200]\ttrain's multi_logloss: 0.217468\teval's multi_logloss: 0.341177\n"
     ]
    },
    {
     "name": "stderr",
     "output_type": "stream",
     "text": [
      "bagging, val_score: 0.336333:  70%|#####################################                | 7/10 [00:04<00:01,  1.56it/s]\u001b[32m[I 2021-06-12 15:41:56,890]\u001b[0m Trial 33 finished with value: 0.3393903007290987 and parameters: {'bagging_fraction': 0.920554983106317, 'bagging_freq': 1}. Best is trial 31 with value: 0.336333474123973.\u001b[0m\n",
      "bagging, val_score: 0.336333:  70%|#####################################                | 7/10 [00:04<00:01,  1.56it/s]"
     ]
    },
    {
     "name": "stdout",
     "output_type": "stream",
     "text": [
      "Early stopping, best iteration is:\n",
      "[220]\ttrain's multi_logloss: 0.202153\teval's multi_logloss: 0.33939\n",
      "Training until validation scores don't improve for 10 rounds\n",
      "[100]\ttrain's multi_logloss: 0.359703\teval's multi_logloss: 0.387967\n",
      "[200]\ttrain's multi_logloss: 0.27172\teval's multi_logloss: 0.348154\n",
      "Early stopping, best iteration is:\n",
      "[225]\ttrain's multi_logloss: 0.255841\teval's multi_logloss: 0.343454\n"
     ]
    },
    {
     "name": "stderr",
     "output_type": "stream",
     "text": [
      "bagging, val_score: 0.336333:  80%|##########################################4          | 8/10 [00:05<00:01,  1.66it/s]\u001b[32m[I 2021-06-12 15:41:57,417]\u001b[0m Trial 34 finished with value: 0.3434537416899416 and parameters: {'bagging_fraction': 0.5427806959014774, 'bagging_freq': 5}. Best is trial 31 with value: 0.336333474123973.\u001b[0m\n",
      "bagging, val_score: 0.336333:  80%|##########################################4          | 8/10 [00:05<00:01,  1.66it/s]"
     ]
    },
    {
     "name": "stdout",
     "output_type": "stream",
     "text": [
      "Training until validation scores don't improve for 10 rounds\n",
      "[100]\ttrain's multi_logloss: 0.321396\teval's multi_logloss: 0.380597\n",
      "[200]\ttrain's multi_logloss: 0.212848\teval's multi_logloss: 0.337532\n",
      "Early stopping, best iteration is:\n",
      "[224]\ttrain's multi_logloss: 0.194118\teval's multi_logloss: 0.335993\n"
     ]
    },
    {
     "name": "stderr",
     "output_type": "stream",
     "text": [
      "bagging, val_score: 0.335993:  90%|###############################################7     | 9/10 [00:05<00:00,  1.58it/s]\u001b[32m[I 2021-06-12 15:41:58,112]\u001b[0m Trial 35 finished with value: 0.3359932897452484 and parameters: {'bagging_fraction': 0.9973978424841979, 'bagging_freq': 4}. Best is trial 35 with value: 0.3359932897452484.\u001b[0m\n",
      "bagging, val_score: 0.335993:  90%|###############################################7     | 9/10 [00:05<00:00,  1.58it/s]"
     ]
    },
    {
     "name": "stdout",
     "output_type": "stream",
     "text": [
      "Training until validation scores don't improve for 10 rounds\n",
      "[100]\ttrain's multi_logloss: 0.351966\teval's multi_logloss: 0.384655\n",
      "[200]\ttrain's multi_logloss: 0.26071\teval's multi_logloss: 0.343329\n",
      "Early stopping, best iteration is:\n",
      "[240]\ttrain's multi_logloss: 0.234158\teval's multi_logloss: 0.339058\n"
     ]
    },
    {
     "name": "stderr",
     "output_type": "stream",
     "text": [
      "bagging, val_score: 0.335993: 100%|####################################################| 10/10 [00:06<00:00,  1.42it/s]\u001b[32m[I 2021-06-12 15:41:58,977]\u001b[0m Trial 36 finished with value: 0.3390583620757765 and parameters: {'bagging_fraction': 0.6066431672604848, 'bagging_freq': 3}. Best is trial 35 with value: 0.3359932897452484.\u001b[0m\n",
      "bagging, val_score: 0.335993: 100%|####################################################| 10/10 [00:06<00:00,  1.52it/s]\n",
      "feature_fraction_stage2, val_score: 0.335993:   0%|                                              | 0/6 [00:00<?, ?it/s]"
     ]
    },
    {
     "name": "stdout",
     "output_type": "stream",
     "text": [
      "Training until validation scores don't improve for 10 rounds\n",
      "[100]\ttrain's multi_logloss: 0.318783\teval's multi_logloss: 0.371166\n"
     ]
    },
    {
     "name": "stderr",
     "output_type": "stream",
     "text": [
      "feature_fraction_stage2, val_score: 0.335993:  17%|######3                               | 1/6 [00:00<00:03,  1.53it/s]\u001b[32m[I 2021-06-12 15:41:59,641]\u001b[0m Trial 37 finished with value: 0.33607752584746187 and parameters: {'feature_fraction': 0.948}. Best is trial 37 with value: 0.33607752584746187.\u001b[0m\n",
      "feature_fraction_stage2, val_score: 0.335993:  17%|######3                               | 1/6 [00:00<00:03,  1.53it/s]"
     ]
    },
    {
     "name": "stdout",
     "output_type": "stream",
     "text": [
      "[200]\ttrain's multi_logloss: 0.20816\teval's multi_logloss: 0.336589\n",
      "Early stopping, best iteration is:\n",
      "[191]\ttrain's multi_logloss: 0.216306\teval's multi_logloss: 0.336078\n",
      "Training until validation scores don't improve for 10 rounds\n",
      "[100]\ttrain's multi_logloss: 0.318783\teval's multi_logloss: 0.371166\n"
     ]
    },
    {
     "name": "stderr",
     "output_type": "stream",
     "text": [
      "feature_fraction_stage2, val_score: 0.335993:  33%|############6                         | 2/6 [00:01<00:02,  1.56it/s]\u001b[32m[I 2021-06-12 15:42:00,275]\u001b[0m Trial 38 finished with value: 0.33607752584746187 and parameters: {'feature_fraction': 0.9799999999999999}. Best is trial 37 with value: 0.33607752584746187.\u001b[0m\n",
      "feature_fraction_stage2, val_score: 0.335993:  33%|############6                         | 2/6 [00:01<00:02,  1.56it/s]"
     ]
    },
    {
     "name": "stdout",
     "output_type": "stream",
     "text": [
      "[200]\ttrain's multi_logloss: 0.20816\teval's multi_logloss: 0.336589\n",
      "Early stopping, best iteration is:\n",
      "[191]\ttrain's multi_logloss: 0.216306\teval's multi_logloss: 0.336078\n",
      "Training until validation scores don't improve for 10 rounds\n",
      "[100]\ttrain's multi_logloss: 0.321396\teval's multi_logloss: 0.380597\n",
      "[200]\ttrain's multi_logloss: 0.212848\teval's multi_logloss: 0.337532\n",
      "Early stopping, best iteration is:\n",
      "[224]\ttrain's multi_logloss: 0.194118\teval's multi_logloss: 0.335993\n"
     ]
    },
    {
     "name": "stderr",
     "output_type": "stream",
     "text": [
      "feature_fraction_stage2, val_score: 0.335993:  50%|###################                   | 3/6 [00:02<00:02,  1.33it/s]\u001b[32m[I 2021-06-12 15:42:01,157]\u001b[0m Trial 39 finished with value: 0.3359932897452484 and parameters: {'feature_fraction': 0.8839999999999999}. Best is trial 39 with value: 0.3359932897452484.\u001b[0m\n",
      "feature_fraction_stage2, val_score: 0.335993:  50%|###################                   | 3/6 [00:02<00:02,  1.33it/s]"
     ]
    },
    {
     "name": "stdout",
     "output_type": "stream",
     "text": [
      "Training until validation scores don't improve for 10 rounds\n",
      "[100]\ttrain's multi_logloss: 0.321396\teval's multi_logloss: 0.380597\n",
      "[200]\ttrain's multi_logloss: 0.212848\teval's multi_logloss: 0.337532\n",
      "Early stopping, best iteration is:\n",
      "[224]\ttrain's multi_logloss: 0.194118\teval's multi_logloss: 0.335993\n"
     ]
    },
    {
     "name": "stderr",
     "output_type": "stream",
     "text": [
      "feature_fraction_stage2, val_score: 0.335993:  67%|#########################3            | 4/6 [00:02<00:01,  1.36it/s]\u001b[32m[I 2021-06-12 15:42:01,873]\u001b[0m Trial 40 finished with value: 0.3359932897452484 and parameters: {'feature_fraction': 0.9159999999999999}. Best is trial 39 with value: 0.3359932897452484.\u001b[0m\n",
      "feature_fraction_stage2, val_score: 0.335993:  67%|#########################3            | 4/6 [00:02<00:01,  1.36it/s]"
     ]
    },
    {
     "name": "stdout",
     "output_type": "stream",
     "text": [
      "Training until validation scores don't improve for 10 rounds\n",
      "[100]\ttrain's multi_logloss: 0.321396\teval's multi_logloss: 0.380597\n",
      "[200]\ttrain's multi_logloss: 0.212848\teval's multi_logloss: 0.337532\n",
      "Early stopping, best iteration is:\n",
      "[224]\ttrain's multi_logloss: 0.194118\teval's multi_logloss: 0.335993\n"
     ]
    },
    {
     "name": "stderr",
     "output_type": "stream",
     "text": [
      "feature_fraction_stage2, val_score: 0.335993:  83%|###############################6      | 5/6 [00:03<00:00,  1.33it/s]\u001b[32m[I 2021-06-12 15:42:02,651]\u001b[0m Trial 41 finished with value: 0.3359932897452484 and parameters: {'feature_fraction': 0.852}. Best is trial 39 with value: 0.3359932897452484.\u001b[0m\n",
      "feature_fraction_stage2, val_score: 0.335993:  83%|###############################6      | 5/6 [00:03<00:00,  1.33it/s]"
     ]
    },
    {
     "name": "stdout",
     "output_type": "stream",
     "text": [
      "Training until validation scores don't improve for 10 rounds\n",
      "[100]\ttrain's multi_logloss: 0.327981\teval's multi_logloss: 0.395305\n",
      "[200]\ttrain's multi_logloss: 0.215975\teval's multi_logloss: 0.349372\n",
      "Early stopping, best iteration is:\n",
      "[261]\ttrain's multi_logloss: 0.17112\teval's multi_logloss: 0.344148\n"
     ]
    },
    {
     "name": "stderr",
     "output_type": "stream",
     "text": [
      "feature_fraction_stage2, val_score: 0.335993: 100%|######################################| 6/6 [00:04<00:00,  1.24it/s]\u001b[32m[I 2021-06-12 15:42:03,564]\u001b[0m Trial 42 finished with value: 0.3441475666305617 and parameters: {'feature_fraction': 0.82}. Best is trial 39 with value: 0.3359932897452484.\u001b[0m\n",
      "feature_fraction_stage2, val_score: 0.335993: 100%|######################################| 6/6 [00:04<00:00,  1.31it/s]\n",
      "regularization_factors, val_score: 0.335993:   0%|                                              | 0/20 [00:00<?, ?it/s]"
     ]
    },
    {
     "name": "stdout",
     "output_type": "stream",
     "text": [
      "Training until validation scores don't improve for 10 rounds\n",
      "[100]\ttrain's multi_logloss: 0.342333\teval's multi_logloss: 0.386819\n",
      "[200]\ttrain's multi_logloss: 0.241343\teval's multi_logloss: 0.338749\n",
      "Early stopping, best iteration is:\n",
      "[236]\ttrain's multi_logloss: 0.215895\teval's multi_logloss: 0.335496\n"
     ]
    },
    {
     "name": "stderr",
     "output_type": "stream",
     "text": [
      "regularization_factors, val_score: 0.335496:   5%|#9                                    | 1/20 [00:00<00:12,  1.49it/s]\u001b[32m[I 2021-06-12 15:42:04,240]\u001b[0m Trial 43 finished with value: 0.3354955727543736 and parameters: {'lambda_l1': 0.0036289625065829387, 'lambda_l2': 0.9673959844189075}. Best is trial 43 with value: 0.3354955727543736.\u001b[0m\n",
      "regularization_factors, val_score: 0.335496:   5%|#9                                    | 1/20 [00:00<00:12,  1.49it/s]"
     ]
    },
    {
     "name": "stdout",
     "output_type": "stream",
     "text": [
      "Training until validation scores don't improve for 10 rounds\n",
      "[100]\ttrain's multi_logloss: 0.417689\teval's multi_logloss: 0.410962\n",
      "[200]\ttrain's multi_logloss: 0.363525\teval's multi_logloss: 0.367422\n",
      "[300]\ttrain's multi_logloss: 0.341452\teval's multi_logloss: 0.353627\n",
      "[400]\ttrain's multi_logloss: 0.332151\teval's multi_logloss: 0.349184\n",
      "[500]\ttrain's multi_logloss: 0.326562\teval's multi_logloss: 0.347189\n",
      "[600]\ttrain's multi_logloss: 0.323209\teval's multi_logloss: 0.346328\n",
      "[700]\ttrain's multi_logloss: 0.321573\teval's multi_logloss: 0.345609\n",
      "[800]\ttrain's multi_logloss: 0.320544\teval's multi_logloss: 0.344987\n"
     ]
    },
    {
     "name": "stderr",
     "output_type": "stream",
     "text": [
      "\r",
      "regularization_factors, val_score: 0.335496:   5%|#9                                    | 1/20 [00:01<00:12,  1.49it/s]"
     ]
    },
    {
     "name": "stdout",
     "output_type": "stream",
     "text": [
      "[900]\ttrain's multi_logloss: 0.320192\teval's multi_logloss: 0.344745\n",
      "[1000]\ttrain's multi_logloss: 0.320099\teval's multi_logloss: 0.344663\n",
      "Did not meet early stopping. Best iteration is:\n",
      "[1000]\ttrain's multi_logloss: 0.320099\teval's multi_logloss: 0.344663\n"
     ]
    },
    {
     "name": "stderr",
     "output_type": "stream",
     "text": [
      "regularization_factors, val_score: 0.335496:  10%|###8                                  | 2/20 [00:01<00:15,  1.17it/s]\u001b[32m[I 2021-06-12 15:42:05,226]\u001b[0m Trial 44 finished with value: 0.344662705646754 and parameters: {'lambda_l1': 6.159426974505429, 'lambda_l2': 2.419755260149743e-05}. Best is trial 43 with value: 0.3354955727543736.\u001b[0m\n",
      "regularization_factors, val_score: 0.335496:  10%|###8                                  | 2/20 [00:01<00:15,  1.17it/s]"
     ]
    },
    {
     "name": "stdout",
     "output_type": "stream",
     "text": [
      "Training until validation scores don't improve for 10 rounds\n",
      "[100]\ttrain's multi_logloss: 0.321397\teval's multi_logloss: 0.380598\n",
      "[200]\ttrain's multi_logloss: 0.212535\teval's multi_logloss: 0.337859\n",
      "Early stopping, best iteration is:\n",
      "[217]\ttrain's multi_logloss: 0.199057\teval's multi_logloss: 0.336568\n"
     ]
    },
    {
     "name": "stderr",
     "output_type": "stream",
     "text": [
      "regularization_factors, val_score: 0.335496:  15%|#####7                                | 3/20 [00:03<00:19,  1.15s/it]\u001b[32m[I 2021-06-12 15:42:06,727]\u001b[0m Trial 45 finished with value: 0.33656789352955974 and parameters: {'lambda_l1': 5.503091278285626e-07, 'lambda_l2': 3.5085383869581e-07}. Best is trial 43 with value: 0.3354955727543736.\u001b[0m\n",
      "regularization_factors, val_score: 0.335496:  15%|#####7                                | 3/20 [00:03<00:19,  1.15s/it]"
     ]
    },
    {
     "name": "stdout",
     "output_type": "stream",
     "text": [
      "Training until validation scores don't improve for 10 rounds\n",
      "[100]\ttrain's multi_logloss: 0.321435\teval's multi_logloss: 0.380531\n",
      "[200]\ttrain's multi_logloss: 0.212361\teval's multi_logloss: 0.33813\n",
      "Early stopping, best iteration is:\n",
      "[217]\ttrain's multi_logloss: 0.199027\teval's multi_logloss: 0.336823\n"
     ]
    },
    {
     "name": "stderr",
     "output_type": "stream",
     "text": [
      "regularization_factors, val_score: 0.335496:  20%|#######6                              | 4/20 [00:04<00:17,  1.07s/it]\u001b[32m[I 2021-06-12 15:42:07,679]\u001b[0m Trial 46 finished with value: 0.3368225423191681 and parameters: {'lambda_l1': 2.945316369502485e-05, 'lambda_l2': 0.0023131150567456235}. Best is trial 43 with value: 0.3354955727543736.\u001b[0m\n",
      "regularization_factors, val_score: 0.335496:  20%|#######6                              | 4/20 [00:04<00:17,  1.07s/it]"
     ]
    },
    {
     "name": "stdout",
     "output_type": "stream",
     "text": [
      "Training until validation scores don't improve for 10 rounds\n",
      "[100]\ttrain's multi_logloss: 0.377588\teval's multi_logloss: 0.390107\n",
      "[200]\ttrain's multi_logloss: 0.297823\teval's multi_logloss: 0.342451\n",
      "[300]\ttrain's multi_logloss: 0.246126\teval's multi_logloss: 0.334362\n"
     ]
    },
    {
     "name": "stderr",
     "output_type": "stream",
     "text": [
      "regularization_factors, val_score: 0.333887:  25%|#########5                            | 5/20 [00:04<00:14,  1.04it/s]\u001b[32m[I 2021-06-12 15:42:08,433]\u001b[0m Trial 47 finished with value: 0.333886559504741 and parameters: {'lambda_l1': 1.5151378580099146, 'lambda_l2': 2.1620813997693912e-05}. Best is trial 47 with value: 0.333886559504741.\u001b[0m\n",
      "regularization_factors, val_score: 0.333887:  25%|#########5                            | 5/20 [00:04<00:14,  1.04it/s]"
     ]
    },
    {
     "name": "stdout",
     "output_type": "stream",
     "text": [
      "Early stopping, best iteration is:\n",
      "[340]\ttrain's multi_logloss: 0.230559\teval's multi_logloss: 0.333887\n",
      "Training until validation scores don't improve for 10 rounds\n",
      "[100]\ttrain's multi_logloss: 0.321297\teval's multi_logloss: 0.380772\n"
     ]
    },
    {
     "name": "stderr",
     "output_type": "stream",
     "text": [
      "regularization_factors, val_score: 0.333887:  30%|###########4                          | 6/20 [00:05<00:11,  1.19it/s]\u001b[32m[I 2021-06-12 15:42:09,037]\u001b[0m Trial 48 finished with value: 0.33675887657997505 and parameters: {'lambda_l1': 5.9282550123127986e-05, 'lambda_l2': 0.0006507599483324475}. Best is trial 47 with value: 0.333886559504741.\u001b[0m\n",
      "regularization_factors, val_score: 0.333887:  30%|###########4                          | 6/20 [00:05<00:11,  1.19it/s]"
     ]
    },
    {
     "name": "stdout",
     "output_type": "stream",
     "text": [
      "[200]\ttrain's multi_logloss: 0.212389\teval's multi_logloss: 0.338169\n",
      "Early stopping, best iteration is:\n",
      "[222]\ttrain's multi_logloss: 0.195024\teval's multi_logloss: 0.336759\n",
      "Training until validation scores don't improve for 10 rounds\n",
      "[100]\ttrain's multi_logloss: 0.425124\teval's multi_logloss: 0.417159\n",
      "[200]\ttrain's multi_logloss: 0.375375\teval's multi_logloss: 0.374426\n",
      "[300]\ttrain's multi_logloss: 0.356865\teval's multi_logloss: 0.360997\n",
      "[400]\ttrain's multi_logloss: 0.348902\teval's multi_logloss: 0.355192\n",
      "[500]\ttrain's multi_logloss: 0.345213\teval's multi_logloss: 0.352123\n",
      "[600]\ttrain's multi_logloss: 0.343502\teval's multi_logloss: 0.350474\n",
      "[700]\ttrain's multi_logloss: 0.342473\teval's multi_logloss: 0.3496\n",
      "[800]\ttrain's multi_logloss: 0.342106\teval's multi_logloss: 0.349269\n",
      "[900]\ttrain's multi_logloss: 0.341961\teval's multi_logloss: 0.349146\n",
      "[1000]\ttrain's multi_logloss: 0.341846\teval's multi_logloss: 0.34904\n",
      "Did not meet early stopping. Best iteration is:\n",
      "[1000]\ttrain's multi_logloss: 0.341846\teval's multi_logloss: 0.34904\n"
     ]
    },
    {
     "name": "stderr",
     "output_type": "stream",
     "text": [
      "regularization_factors, val_score: 0.333887:  35%|#############3                        | 7/20 [00:06<00:10,  1.25it/s]\u001b[32m[I 2021-06-12 15:42:09,760]\u001b[0m Trial 49 finished with value: 0.34903969097767196 and parameters: {'lambda_l1': 8.716937971662906, 'lambda_l2': 0.0026129583201574607}. Best is trial 47 with value: 0.333886559504741.\u001b[0m\n",
      "regularization_factors, val_score: 0.333887:  35%|#############3                        | 7/20 [00:06<00:10,  1.25it/s]"
     ]
    },
    {
     "name": "stdout",
     "output_type": "stream",
     "text": [
      "Training until validation scores don't improve for 10 rounds\n",
      "[100]\ttrain's multi_logloss: 0.321332\teval's multi_logloss: 0.380864\n"
     ]
    },
    {
     "name": "stderr",
     "output_type": "stream",
     "text": [
      "\r",
      "regularization_factors, val_score: 0.333887:  35%|#############3                        | 7/20 [00:06<00:10,  1.25it/s]"
     ]
    },
    {
     "name": "stdout",
     "output_type": "stream",
     "text": [
      "[200]\ttrain's multi_logloss: 0.211997\teval's multi_logloss: 0.3381\n",
      "Early stopping, best iteration is:\n",
      "[222]\ttrain's multi_logloss: 0.194739\teval's multi_logloss: 0.336239\n"
     ]
    },
    {
     "name": "stderr",
     "output_type": "stream",
     "text": [
      "regularization_factors, val_score: 0.333887:  40%|###############2                      | 8/20 [00:06<00:08,  1.35it/s]\u001b[32m[I 2021-06-12 15:42:10,377]\u001b[0m Trial 50 finished with value: 0.3362390694985125 and parameters: {'lambda_l1': 3.1747193970141455e-05, 'lambda_l2': 1.2479009634777677e-08}. Best is trial 47 with value: 0.333886559504741.\u001b[0m\n",
      "regularization_factors, val_score: 0.333887:  40%|###############2                      | 8/20 [00:06<00:08,  1.35it/s]"
     ]
    },
    {
     "name": "stdout",
     "output_type": "stream",
     "text": [
      "Training until validation scores don't improve for 10 rounds\n",
      "[100]\ttrain's multi_logloss: 0.332646\teval's multi_logloss: 0.383031\n"
     ]
    },
    {
     "name": "stderr",
     "output_type": "stream",
     "text": [
      "regularization_factors, val_score: 0.333887:  45%|#################1                    | 9/20 [00:07<00:07,  1.43it/s]\u001b[32m[I 2021-06-12 15:42:10,984]\u001b[0m Trial 51 finished with value: 0.3347784883793742 and parameters: {'lambda_l1': 0.27528523286337514, 'lambda_l2': 0.0011453015136736711}. Best is trial 47 with value: 0.333886559504741.\u001b[0m\n"
     ]
    },
    {
     "name": "stdout",
     "output_type": "stream",
     "text": [
      "[200]\ttrain's multi_logloss: 0.229557\teval's multi_logloss: 0.336074\n",
      "Early stopping, best iteration is:\n",
      "[227]\ttrain's multi_logloss: 0.209603\teval's multi_logloss: 0.334778\n"
     ]
    },
    {
     "name": "stderr",
     "output_type": "stream",
     "text": [
      "\r",
      "regularization_factors, val_score: 0.333887:  45%|#################1                    | 9/20 [00:07<00:07,  1.43it/s]"
     ]
    },
    {
     "name": "stdout",
     "output_type": "stream",
     "text": [
      "Training until validation scores don't improve for 10 rounds\n",
      "[100]\ttrain's multi_logloss: 0.321764\teval's multi_logloss: 0.380391\n"
     ]
    },
    {
     "name": "stderr",
     "output_type": "stream",
     "text": [
      "regularization_factors, val_score: 0.333887:  50%|##################5                  | 10/20 [00:07<00:06,  1.51it/s]\u001b[32m[I 2021-06-12 15:42:11,566]\u001b[0m Trial 52 finished with value: 0.3345237147760266 and parameters: {'lambda_l1': 9.137940365451063e-06, 'lambda_l2': 0.02136822028047605}. Best is trial 47 with value: 0.333886559504741.\u001b[0m\n",
      "regularization_factors, val_score: 0.333887:  50%|##################5                  | 10/20 [00:07<00:06,  1.51it/s]"
     ]
    },
    {
     "name": "stdout",
     "output_type": "stream",
     "text": [
      "[200]\ttrain's multi_logloss: 0.213173\teval's multi_logloss: 0.336633\n",
      "Early stopping, best iteration is:\n",
      "[217]\ttrain's multi_logloss: 0.199476\teval's multi_logloss: 0.334524\n",
      "Training until validation scores don't improve for 10 rounds\n",
      "[100]\ttrain's multi_logloss: 0.321738\teval's multi_logloss: 0.38137\n"
     ]
    },
    {
     "name": "stderr",
     "output_type": "stream",
     "text": [
      "regularization_factors, val_score: 0.333887:  55%|####################3                | 11/20 [00:08<00:05,  1.55it/s]\u001b[32m[I 2021-06-12 15:42:12,173]\u001b[0m Trial 53 finished with value: 0.3358151231140738 and parameters: {'lambda_l1': 0.015530680236577383, 'lambda_l2': 2.6266837900968426e-06}. Best is trial 47 with value: 0.333886559504741.\u001b[0m\n",
      "regularization_factors, val_score: 0.333887:  55%|####################3                | 11/20 [00:08<00:05,  1.55it/s]"
     ]
    },
    {
     "name": "stdout",
     "output_type": "stream",
     "text": [
      "[200]\ttrain's multi_logloss: 0.213466\teval's multi_logloss: 0.336647\n",
      "Early stopping, best iteration is:\n",
      "[210]\ttrain's multi_logloss: 0.205494\teval's multi_logloss: 0.335815\n",
      "Training until validation scores don't improve for 10 rounds\n",
      "[100]\ttrain's multi_logloss: 0.333802\teval's multi_logloss: 0.38514\n",
      "[200]\ttrain's multi_logloss: 0.229655\teval's multi_logloss: 0.340435\n"
     ]
    },
    {
     "name": "stderr",
     "output_type": "stream",
     "text": [
      "regularization_factors, val_score: 0.333887:  60%|######################2              | 12/20 [00:09<00:05,  1.58it/s]\u001b[32m[I 2021-06-12 15:42:12,780]\u001b[0m Trial 54 finished with value: 0.33855201588506917 and parameters: {'lambda_l1': 1.2590418908482901e-08, 'lambda_l2': 0.5301474405538824}. Best is trial 47 with value: 0.333886559504741.\u001b[0m\n",
      "regularization_factors, val_score: 0.333887:  60%|######################2              | 12/20 [00:09<00:05,  1.58it/s]"
     ]
    },
    {
     "name": "stdout",
     "output_type": "stream",
     "text": [
      "Early stopping, best iteration is:\n",
      "[231]\ttrain's multi_logloss: 0.206821\teval's multi_logloss: 0.338552\n",
      "Training until validation scores don't improve for 10 rounds\n",
      "[100]\ttrain's multi_logloss: 0.324012\teval's multi_logloss: 0.382661\n"
     ]
    },
    {
     "name": "stderr",
     "output_type": "stream",
     "text": [
      "regularization_factors, val_score: 0.333887:  65%|########################             | 13/20 [00:09<00:04,  1.58it/s]\u001b[32m[I 2021-06-12 15:42:13,412]\u001b[0m Trial 55 finished with value: 0.33584013115093614 and parameters: {'lambda_l1': 8.746626128146208e-07, 'lambda_l2': 0.11663625065507846}. Best is trial 47 with value: 0.333886559504741.\u001b[0m\n",
      "regularization_factors, val_score: 0.333887:  65%|########################             | 13/20 [00:09<00:04,  1.58it/s]"
     ]
    },
    {
     "name": "stdout",
     "output_type": "stream",
     "text": [
      "[200]\ttrain's multi_logloss: 0.2165\teval's multi_logloss: 0.337993\n",
      "Early stopping, best iteration is:\n",
      "[221]\ttrain's multi_logloss: 0.200347\teval's multi_logloss: 0.33584\n",
      "Training until validation scores don't improve for 10 rounds\n",
      "[100]\ttrain's multi_logloss: 0.322551\teval's multi_logloss: 0.381195\n"
     ]
    },
    {
     "name": "stderr",
     "output_type": "stream",
     "text": [
      "\r",
      "regularization_factors, val_score: 0.333887:  65%|########################             | 13/20 [00:10<00:04,  1.58it/s]"
     ]
    },
    {
     "name": "stdout",
     "output_type": "stream",
     "text": [
      "[200]\ttrain's multi_logloss: 0.214697\teval's multi_logloss: 0.337198\n",
      "Early stopping, best iteration is:\n",
      "[227]\ttrain's multi_logloss: 0.193455\teval's multi_logloss: 0.335065\n"
     ]
    },
    {
     "name": "stderr",
     "output_type": "stream",
     "text": [
      "regularization_factors, val_score: 0.333887:  70%|#########################9           | 14/20 [00:10<00:03,  1.58it/s]\u001b[32m[I 2021-06-12 15:42:14,037]\u001b[0m Trial 56 finished with value: 0.335064806620477 and parameters: {'lambda_l1': 3.88376866909504e-07, 'lambda_l2': 0.06040287082901589}. Best is trial 47 with value: 0.333886559504741.\u001b[0m\n",
      "regularization_factors, val_score: 0.333887:  70%|#########################9           | 14/20 [00:10<00:03,  1.58it/s]"
     ]
    },
    {
     "name": "stdout",
     "output_type": "stream",
     "text": [
      "Training until validation scores don't improve for 10 rounds\n",
      "[100]\ttrain's multi_logloss: 0.321422\teval's multi_logloss: 0.380858\n"
     ]
    },
    {
     "name": "stderr",
     "output_type": "stream",
     "text": [
      "regularization_factors, val_score: 0.333887:  75%|###########################7         | 15/20 [00:11<00:03,  1.60it/s]\u001b[32m[I 2021-06-12 15:42:14,655]\u001b[0m Trial 57 finished with value: 0.3380211475660968 and parameters: {'lambda_l1': 0.0030798399975348494, 'lambda_l2': 1.6259195592216283e-05}. Best is trial 47 with value: 0.333886559504741.\u001b[0m\n",
      "regularization_factors, val_score: 0.333887:  75%|###########################7         | 15/20 [00:11<00:03,  1.60it/s]"
     ]
    },
    {
     "name": "stdout",
     "output_type": "stream",
     "text": [
      "[200]\ttrain's multi_logloss: 0.212481\teval's multi_logloss: 0.338935\n",
      "Early stopping, best iteration is:\n",
      "[210]\ttrain's multi_logloss: 0.204647\teval's multi_logloss: 0.338021\n",
      "Training until validation scores don't improve for 10 rounds\n",
      "[100]\ttrain's multi_logloss: 0.333312\teval's multi_logloss: 0.383726\n"
     ]
    },
    {
     "name": "stderr",
     "output_type": "stream",
     "text": [
      "regularization_factors, val_score: 0.333887:  80%|#############################6       | 16/20 [00:11<00:02,  1.59it/s]\u001b[32m[I 2021-06-12 15:42:15,287]\u001b[0m Trial 58 finished with value: 0.33528477183591543 and parameters: {'lambda_l1': 0.2721480925907018, 'lambda_l2': 0.027454019977464657}. Best is trial 47 with value: 0.333886559504741.\u001b[0m\n",
      "regularization_factors, val_score: 0.333887:  80%|#############################6       | 16/20 [00:11<00:02,  1.59it/s]"
     ]
    },
    {
     "name": "stdout",
     "output_type": "stream",
     "text": [
      "[200]\ttrain's multi_logloss: 0.230622\teval's multi_logloss: 0.33635\n",
      "Early stopping, best iteration is:\n",
      "[217]\ttrain's multi_logloss: 0.217854\teval's multi_logloss: 0.335285\n",
      "Training until validation scores don't improve for 10 rounds\n",
      "[100]\ttrain's multi_logloss: 0.321397\teval's multi_logloss: 0.380594\n"
     ]
    },
    {
     "name": "stderr",
     "output_type": "stream",
     "text": [
      "\r",
      "regularization_factors, val_score: 0.333887:  80%|#############################6       | 16/20 [00:12<00:02,  1.59it/s]"
     ]
    },
    {
     "name": "stdout",
     "output_type": "stream",
     "text": [
      "[200]\ttrain's multi_logloss: 0.212395\teval's multi_logloss: 0.337182\n",
      "Early stopping, best iteration is:\n",
      "[219]\ttrain's multi_logloss: 0.197539\teval's multi_logloss: 0.336091\n"
     ]
    },
    {
     "name": "stderr",
     "output_type": "stream",
     "text": [
      "regularization_factors, val_score: 0.333887:  85%|###############################4     | 17/20 [00:12<00:01,  1.50it/s]\u001b[32m[I 2021-06-12 15:42:16,038]\u001b[0m Trial 59 finished with value: 0.33609145073389524 and parameters: {'lambda_l1': 3.4549029918000504e-08, 'lambda_l2': 1.1689148202589574e-07}. Best is trial 47 with value: 0.333886559504741.\u001b[0m\n",
      "regularization_factors, val_score: 0.333887:  85%|###############################4     | 17/20 [00:12<00:01,  1.50it/s]"
     ]
    },
    {
     "name": "stdout",
     "output_type": "stream",
     "text": [
      "Training until validation scores don't improve for 10 rounds\n",
      "[100]\ttrain's multi_logloss: 0.321278\teval's multi_logloss: 0.380779\n"
     ]
    },
    {
     "name": "stderr",
     "output_type": "stream",
     "text": [
      "regularization_factors, val_score: 0.333887:  90%|#################################3   | 18/20 [00:13<00:01,  1.56it/s]\u001b[32m[I 2021-06-12 15:42:16,623]\u001b[0m Trial 60 finished with value: 0.33732568855555967 and parameters: {'lambda_l1': 0.00035220522577673706, 'lambda_l2': 7.040808675299333e-05}. Best is trial 47 with value: 0.333886559504741.\u001b[0m\n",
      "regularization_factors, val_score: 0.333887:  90%|#################################3   | 18/20 [00:13<00:01,  1.56it/s]"
     ]
    },
    {
     "name": "stdout",
     "output_type": "stream",
     "text": [
      "[200]\ttrain's multi_logloss: 0.211883\teval's multi_logloss: 0.338515\n",
      "Early stopping, best iteration is:\n",
      "[212]\ttrain's multi_logloss: 0.202266\teval's multi_logloss: 0.337326\n",
      "Training until validation scores don't improve for 10 rounds\n",
      "[100]\ttrain's multi_logloss: 0.388086\teval's multi_logloss: 0.399583\n",
      "[200]\ttrain's multi_logloss: 0.303818\teval's multi_logloss: 0.348316\n"
     ]
    },
    {
     "name": "stderr",
     "output_type": "stream",
     "text": [
      "regularization_factors, val_score: 0.333887:  95%|###################################1 | 19/20 [00:13<00:00,  1.53it/s]\u001b[32m[I 2021-06-12 15:42:17,309]\u001b[0m Trial 61 finished with value: 0.33631445774785884 and parameters: {'lambda_l1': 4.620061392252075e-06, 'lambda_l2': 5.5996164613990285}. Best is trial 47 with value: 0.333886559504741.\u001b[0m\n",
      "regularization_factors, val_score: 0.333887:  95%|###################################1 | 19/20 [00:13<00:00,  1.53it/s]"
     ]
    },
    {
     "name": "stdout",
     "output_type": "stream",
     "text": [
      "[300]\ttrain's multi_logloss: 0.252345\teval's multi_logloss: 0.336532\n",
      "Early stopping, best iteration is:\n",
      "[314]\ttrain's multi_logloss: 0.246254\teval's multi_logloss: 0.336314\n",
      "Training until validation scores don't improve for 10 rounds\n",
      "[100]\ttrain's multi_logloss: 0.337152\teval's multi_logloss: 0.383608\n"
     ]
    },
    {
     "name": "stderr",
     "output_type": "stream",
     "text": [
      "\r",
      "regularization_factors, val_score: 0.333887:  95%|###################################1 | 19/20 [00:14<00:00,  1.53it/s]"
     ]
    },
    {
     "name": "stdout",
     "output_type": "stream",
     "text": [
      "[200]\ttrain's multi_logloss: 0.235975\teval's multi_logloss: 0.335717\n",
      "Early stopping, best iteration is:\n",
      "[236]\ttrain's multi_logloss: 0.210459\teval's multi_logloss: 0.333964\n"
     ]
    },
    {
     "name": "stderr",
     "output_type": "stream",
     "text": [
      "regularization_factors, val_score: 0.333887: 100%|#####################################| 20/20 [00:14<00:00,  1.57it/s]\u001b[32m[I 2021-06-12 15:42:17,900]\u001b[0m Trial 62 finished with value: 0.3339635763864722 and parameters: {'lambda_l1': 0.3603328769025898, 'lambda_l2': 0.010183414980277262}. Best is trial 47 with value: 0.333886559504741.\u001b[0m\n",
      "regularization_factors, val_score: 0.333887: 100%|#####################################| 20/20 [00:14<00:00,  1.40it/s]\n",
      "min_data_in_leaf, val_score: 0.333887:   0%|                                                     | 0/5 [00:00<?, ?it/s]"
     ]
    },
    {
     "name": "stdout",
     "output_type": "stream",
     "text": [
      "Training until validation scores don't improve for 10 rounds\n",
      "[100]\ttrain's multi_logloss: 0.396331\teval's multi_logloss: 0.391686\n",
      "[200]\ttrain's multi_logloss: 0.329764\teval's multi_logloss: 0.347372\n",
      "[300]\ttrain's multi_logloss: 0.294279\teval's multi_logloss: 0.335667\n"
     ]
    },
    {
     "name": "stderr",
     "output_type": "stream",
     "text": [
      "min_data_in_leaf, val_score: 0.332504:  20%|#########                                    | 1/5 [00:00<00:02,  1.83it/s]\u001b[32m[I 2021-06-12 15:42:18,455]\u001b[0m Trial 63 finished with value: 0.33250396903892665 and parameters: {'min_child_samples': 50}. Best is trial 63 with value: 0.33250396903892665.\u001b[0m\n",
      "min_data_in_leaf, val_score: 0.332504:  20%|#########                                    | 1/5 [00:00<00:02,  1.83it/s]"
     ]
    },
    {
     "name": "stdout",
     "output_type": "stream",
     "text": [
      "[400]\ttrain's multi_logloss: 0.269245\teval's multi_logloss: 0.332561\n",
      "Early stopping, best iteration is:\n",
      "[391]\ttrain's multi_logloss: 0.271504\teval's multi_logloss: 0.332504\n",
      "Training until validation scores don't improve for 10 rounds\n",
      "[100]\ttrain's multi_logloss: 0.414614\teval's multi_logloss: 0.406854\n",
      "[200]\ttrain's multi_logloss: 0.359753\teval's multi_logloss: 0.364429\n",
      "[300]\ttrain's multi_logloss: 0.332456\teval's multi_logloss: 0.34891\n",
      "[400]\ttrain's multi_logloss: 0.312629\teval's multi_logloss: 0.342906\n"
     ]
    },
    {
     "name": "stderr",
     "output_type": "stream",
     "text": [
      "min_data_in_leaf, val_score: 0.332504:  40%|##################                           | 2/5 [00:01<00:01,  1.98it/s]\u001b[32m[I 2021-06-12 15:42:18,934]\u001b[0m Trial 64 finished with value: 0.3422973529514131 and parameters: {'min_child_samples': 100}. Best is trial 63 with value: 0.33250396903892665.\u001b[0m\n",
      "min_data_in_leaf, val_score: 0.332504:  40%|##################                           | 2/5 [00:01<00:01,  1.98it/s]"
     ]
    },
    {
     "name": "stdout",
     "output_type": "stream",
     "text": [
      "Early stopping, best iteration is:\n",
      "[429]\ttrain's multi_logloss: 0.308241\teval's multi_logloss: 0.342297\n",
      "Training until validation scores don't improve for 10 rounds\n",
      "[100]\ttrain's multi_logloss: 0.382333\teval's multi_logloss: 0.390809\n",
      "[200]\ttrain's multi_logloss: 0.306582\teval's multi_logloss: 0.341079\n"
     ]
    },
    {
     "name": "stderr",
     "output_type": "stream",
     "text": [
      "min_data_in_leaf, val_score: 0.332504:  60%|###########################                  | 3/5 [00:01<00:01,  1.85it/s]\u001b[32m[I 2021-06-12 15:42:19,517]\u001b[0m Trial 65 finished with value: 0.3326746165277043 and parameters: {'min_child_samples': 25}. Best is trial 63 with value: 0.33250396903892665.\u001b[0m\n",
      "min_data_in_leaf, val_score: 0.332504:  60%|###########################                  | 3/5 [00:01<00:01,  1.85it/s]"
     ]
    },
    {
     "name": "stdout",
     "output_type": "stream",
     "text": [
      "[300]\ttrain's multi_logloss: 0.258035\teval's multi_logloss: 0.332785\n",
      "Early stopping, best iteration is:\n",
      "[303]\ttrain's multi_logloss: 0.256885\teval's multi_logloss: 0.332675\n",
      "Training until validation scores don't improve for 10 rounds\n",
      "[100]\ttrain's multi_logloss: 0.352759\teval's multi_logloss: 0.39098\n",
      "[200]\ttrain's multi_logloss: 0.260578\teval's multi_logloss: 0.346687\n"
     ]
    },
    {
     "name": "stderr",
     "output_type": "stream",
     "text": [
      "\r",
      "min_data_in_leaf, val_score: 0.332504:  60%|###########################                  | 3/5 [00:02<00:01,  1.85it/s]"
     ]
    },
    {
     "name": "stdout",
     "output_type": "stream",
     "text": [
      "[300]\ttrain's multi_logloss: 0.207416\teval's multi_logloss: 0.339204\n",
      "Early stopping, best iteration is:\n",
      "[299]\ttrain's multi_logloss: 0.207838\teval's multi_logloss: 0.339175\n"
     ]
    },
    {
     "name": "stderr",
     "output_type": "stream",
     "text": [
      "min_data_in_leaf, val_score: 0.332504:  80%|####################################         | 4/5 [00:02<00:00,  1.37it/s]\u001b[32m[I 2021-06-12 15:42:20,541]\u001b[0m Trial 66 finished with value: 0.3391752610627744 and parameters: {'min_child_samples': 5}. Best is trial 63 with value: 0.33250396903892665.\u001b[0m\n",
      "min_data_in_leaf, val_score: 0.332504:  80%|####################################         | 4/5 [00:02<00:00,  1.37it/s]"
     ]
    },
    {
     "name": "stdout",
     "output_type": "stream",
     "text": [
      "Training until validation scores don't improve for 10 rounds\n",
      "[100]\ttrain's multi_logloss: 0.362996\teval's multi_logloss: 0.391793\n",
      "[200]\ttrain's multi_logloss: 0.275457\teval's multi_logloss: 0.345737\n",
      "[300]\ttrain's multi_logloss: 0.224455\teval's multi_logloss: 0.336956\n",
      "Early stopping, best iteration is:\n",
      "[360]\ttrain's multi_logloss: 0.201458\teval's multi_logloss: 0.336173\n"
     ]
    },
    {
     "name": "stderr",
     "output_type": "stream",
     "text": [
      "min_data_in_leaf, val_score: 0.332504: 100%|#############################################| 5/5 [00:03<00:00,  1.24it/s]\u001b[32m[I 2021-06-12 15:42:21,476]\u001b[0m Trial 67 finished with value: 0.33617287321356193 and parameters: {'min_child_samples': 10}. Best is trial 63 with value: 0.33250396903892665.\u001b[0m\n",
      "min_data_in_leaf, val_score: 0.332504: 100%|#############################################| 5/5 [00:03<00:00,  1.40it/s]\n",
      "\u001b[32m[I 2021-06-12 15:42:21,504]\u001b[0m A new study created in memory with name: no-name-c644f699-fb56-4388-a5c5-dc15d43b7590\u001b[0m\n",
      "feature_fraction, val_score: inf:   0%|                                                          | 0/7 [00:00<?, ?it/s]"
     ]
    },
    {
     "name": "stdout",
     "output_type": "stream",
     "text": [
      "Training until validation scores don't improve for 10 rounds\n",
      "[100]\ttrain's multi_logloss: 0.326755\teval's multi_logloss: 0.390181\n",
      "Early stopping, best iteration is:\n",
      "[172]\ttrain's multi_logloss: 0.249631\teval's multi_logloss: 0.364702\n"
     ]
    },
    {
     "name": "stderr",
     "output_type": "stream",
     "text": [
      "feature_fraction, val_score: 0.364702:  14%|######4                                      | 1/7 [00:00<00:02,  2.01it/s]\u001b[32m[I 2021-06-12 15:42:22,008]\u001b[0m Trial 0 finished with value: 0.36470173060059696 and parameters: {'feature_fraction': 1.0}. Best is trial 0 with value: 0.36470173060059696.\u001b[0m\n",
      "feature_fraction, val_score: 0.364702:  14%|######4                                      | 1/7 [00:00<00:02,  2.01it/s]"
     ]
    },
    {
     "name": "stdout",
     "output_type": "stream",
     "text": [
      "Training until validation scores don't improve for 10 rounds\n",
      "[100]\ttrain's multi_logloss: 0.353331\teval's multi_logloss: 0.424781\n",
      "[200]\ttrain's multi_logloss: 0.245632\teval's multi_logloss: 0.378962\n"
     ]
    },
    {
     "name": "stderr",
     "output_type": "stream",
     "text": [
      "feature_fraction, val_score: 0.364702:  29%|############8                                | 2/7 [00:01<00:03,  1.67it/s]\u001b[32m[I 2021-06-12 15:42:22,680]\u001b[0m Trial 1 finished with value: 0.3719621932038776 and parameters: {'feature_fraction': 0.7}. Best is trial 0 with value: 0.36470173060059696.\u001b[0m\n",
      "feature_fraction, val_score: 0.364702:  29%|############8                                | 2/7 [00:01<00:03,  1.67it/s]"
     ]
    },
    {
     "name": "stdout",
     "output_type": "stream",
     "text": [
      "Early stopping, best iteration is:\n",
      "[249]\ttrain's multi_logloss: 0.209669\teval's multi_logloss: 0.371962\n",
      "Training until validation scores don't improve for 10 rounds\n",
      "[100]\ttrain's multi_logloss: 0.453618\teval's multi_logloss: 0.550819\n",
      "[200]\ttrain's multi_logloss: 0.344462\teval's multi_logloss: 0.512996\n"
     ]
    },
    {
     "name": "stderr",
     "output_type": "stream",
     "text": [
      "feature_fraction, val_score: 0.364702:  43%|###################2                         | 3/7 [00:01<00:02,  1.66it/s]\u001b[32m[I 2021-06-12 15:42:23,283]\u001b[0m Trial 2 finished with value: 0.5020033292672594 and parameters: {'feature_fraction': 0.4}. Best is trial 0 with value: 0.36470173060059696.\u001b[0m\n",
      "feature_fraction, val_score: 0.364702:  43%|###################2                         | 3/7 [00:01<00:02,  1.66it/s]"
     ]
    },
    {
     "name": "stdout",
     "output_type": "stream",
     "text": [
      "Early stopping, best iteration is:\n",
      "[230]\ttrain's multi_logloss: 0.316598\teval's multi_logloss: 0.502003\n",
      "Training until validation scores don't improve for 10 rounds\n",
      "[100]\ttrain's multi_logloss: 0.331478\teval's multi_logloss: 0.401039\n",
      "[200]\ttrain's multi_logloss: 0.228784\teval's multi_logloss: 0.370463\n",
      "Early stopping, best iteration is:\n",
      "[190]\ttrain's multi_logloss: 0.236507\teval's multi_logloss: 0.370144\n"
     ]
    },
    {
     "name": "stderr",
     "output_type": "stream",
     "text": [
      "feature_fraction, val_score: 0.364702:  57%|#########################7                   | 4/7 [00:02<00:01,  1.73it/s]\u001b[32m[I 2021-06-12 15:42:23,829]\u001b[0m Trial 3 finished with value: 0.3701437719729265 and parameters: {'feature_fraction': 0.8999999999999999}. Best is trial 0 with value: 0.36470173060059696.\u001b[0m\n",
      "feature_fraction, val_score: 0.364702:  57%|#########################7                   | 4/7 [00:02<00:01,  1.73it/s]"
     ]
    },
    {
     "name": "stdout",
     "output_type": "stream",
     "text": [
      "Training until validation scores don't improve for 10 rounds\n",
      "[100]\ttrain's multi_logloss: 0.370643\teval's multi_logloss: 0.441018\n",
      "[200]\ttrain's multi_logloss: 0.261949\teval's multi_logloss: 0.390804\n"
     ]
    },
    {
     "name": "stderr",
     "output_type": "stream",
     "text": [
      "\r",
      "feature_fraction, val_score: 0.364702:  57%|#########################7                   | 4/7 [00:03<00:01,  1.73it/s]"
     ]
    },
    {
     "name": "stdout",
     "output_type": "stream",
     "text": [
      "[300]\ttrain's multi_logloss: 0.194801\teval's multi_logloss: 0.374519\n",
      "Early stopping, best iteration is:\n",
      "[299]\ttrain's multi_logloss: 0.195419\teval's multi_logloss: 0.374484\n"
     ]
    },
    {
     "name": "stderr",
     "output_type": "stream",
     "text": [
      "feature_fraction, val_score: 0.364702:  71%|################################1            | 5/7 [00:03<00:01,  1.53it/s]\u001b[32m[I 2021-06-12 15:42:24,612]\u001b[0m Trial 4 finished with value: 0.37448411402538734 and parameters: {'feature_fraction': 0.5}. Best is trial 0 with value: 0.36470173060059696.\u001b[0m\n",
      "feature_fraction, val_score: 0.364702:  71%|################################1            | 5/7 [00:03<00:01,  1.53it/s]"
     ]
    },
    {
     "name": "stdout",
     "output_type": "stream",
     "text": [
      "Training until validation scores don't improve for 10 rounds\n",
      "[100]\ttrain's multi_logloss: 0.370643\teval's multi_logloss: 0.441018\n",
      "[200]\ttrain's multi_logloss: 0.261949\teval's multi_logloss: 0.390804\n"
     ]
    },
    {
     "name": "stderr",
     "output_type": "stream",
     "text": [
      "\r",
      "feature_fraction, val_score: 0.364702:  71%|################################1            | 5/7 [00:03<00:01,  1.53it/s]"
     ]
    },
    {
     "name": "stdout",
     "output_type": "stream",
     "text": [
      "[300]\ttrain's multi_logloss: 0.194801\teval's multi_logloss: 0.374519\n",
      "Early stopping, best iteration is:\n",
      "[299]\ttrain's multi_logloss: 0.195419\teval's multi_logloss: 0.374484\n"
     ]
    },
    {
     "name": "stderr",
     "output_type": "stream",
     "text": [
      "feature_fraction, val_score: 0.364702:  86%|######################################5      | 6/7 [00:03<00:00,  1.43it/s]\u001b[32m[I 2021-06-12 15:42:25,396]\u001b[0m Trial 5 finished with value: 0.37448411402538734 and parameters: {'feature_fraction': 0.6}. Best is trial 0 with value: 0.36470173060059696.\u001b[0m\n",
      "feature_fraction, val_score: 0.364702:  86%|######################################5      | 6/7 [00:03<00:00,  1.43it/s]"
     ]
    },
    {
     "name": "stdout",
     "output_type": "stream",
     "text": [
      "Training until validation scores don't improve for 10 rounds\n",
      "[100]\ttrain's multi_logloss: 0.340033\teval's multi_logloss: 0.409211\n",
      "[200]\ttrain's multi_logloss: 0.234988\teval's multi_logloss: 0.371727\n"
     ]
    },
    {
     "name": "stderr",
     "output_type": "stream",
     "text": [
      "feature_fraction, val_score: 0.364702: 100%|#############################################| 7/7 [00:04<00:00,  1.46it/s]\u001b[32m[I 2021-06-12 15:42:26,058]\u001b[0m Trial 6 finished with value: 0.3669945897780588 and parameters: {'feature_fraction': 0.8}. Best is trial 0 with value: 0.36470173060059696.\u001b[0m\n",
      "feature_fraction, val_score: 0.364702: 100%|#############################################| 7/7 [00:04<00:00,  1.54it/s]\n",
      "num_leaves, val_score: 0.364702:   0%|                                                          | 0/20 [00:00<?, ?it/s]"
     ]
    },
    {
     "name": "stdout",
     "output_type": "stream",
     "text": [
      "Early stopping, best iteration is:\n",
      "[239]\ttrain's multi_logloss: 0.206217\teval's multi_logloss: 0.366995\n",
      "Training until validation scores don't improve for 10 rounds\n",
      "[100]\ttrain's multi_logloss: 0.326755\teval's multi_logloss: 0.390182\n",
      "Early stopping, best iteration is:\n",
      "[170]\ttrain's multi_logloss: 0.251537\teval's multi_logloss: 0.364658\n"
     ]
    },
    {
     "name": "stderr",
     "output_type": "stream",
     "text": [
      "num_leaves, val_score: 0.364658:   5%|##5                                               | 1/20 [00:00<00:09,  1.96it/s]\u001b[32m[I 2021-06-12 15:42:26,573]\u001b[0m Trial 7 finished with value: 0.3646575400985712 and parameters: {'num_leaves': 44}. Best is trial 7 with value: 0.3646575400985712.\u001b[0m\n",
      "num_leaves, val_score: 0.364658:   5%|##5                                               | 1/20 [00:00<00:09,  1.96it/s]"
     ]
    },
    {
     "name": "stdout",
     "output_type": "stream",
     "text": [
      "Training until validation scores don't improve for 10 rounds\n",
      "[100]\ttrain's multi_logloss: 0.326755\teval's multi_logloss: 0.390182\n",
      "Early stopping, best iteration is:\n",
      "[170]\ttrain's multi_logloss: 0.251537\teval's multi_logloss: 0.364657\n"
     ]
    },
    {
     "name": "stderr",
     "output_type": "stream",
     "text": [
      "num_leaves, val_score: 0.364657:  10%|#####                                             | 2/20 [00:01<00:09,  1.88it/s]\u001b[32m[I 2021-06-12 15:42:27,120]\u001b[0m Trial 8 finished with value: 0.36465716843791324 and parameters: {'num_leaves': 256}. Best is trial 8 with value: 0.36465716843791324.\u001b[0m\n",
      "num_leaves, val_score: 0.364657:  10%|#####                                             | 2/20 [00:01<00:09,  1.88it/s]"
     ]
    },
    {
     "name": "stdout",
     "output_type": "stream",
     "text": [
      "Training until validation scores don't improve for 10 rounds\n",
      "[100]\ttrain's multi_logloss: 0.326755\teval's multi_logloss: 0.390182\n",
      "Early stopping, best iteration is:\n",
      "[170]\ttrain's multi_logloss: 0.251537\teval's multi_logloss: 0.364657\n"
     ]
    },
    {
     "name": "stderr",
     "output_type": "stream",
     "text": [
      "num_leaves, val_score: 0.364657:  15%|#######5                                          | 3/20 [00:01<00:08,  1.91it/s]\u001b[32m[I 2021-06-12 15:42:27,633]\u001b[0m Trial 9 finished with value: 0.36465716843791324 and parameters: {'num_leaves': 87}. Best is trial 8 with value: 0.36465716843791324.\u001b[0m\n",
      "num_leaves, val_score: 0.364657:  15%|#######5                                          | 3/20 [00:01<00:08,  1.91it/s]"
     ]
    },
    {
     "name": "stdout",
     "output_type": "stream",
     "text": [
      "Training until validation scores don't improve for 10 rounds\n",
      "[100]\ttrain's multi_logloss: 0.326755\teval's multi_logloss: 0.390182\n",
      "Early stopping, best iteration is:\n",
      "[170]\ttrain's multi_logloss: 0.251537\teval's multi_logloss: 0.364657\n"
     ]
    },
    {
     "name": "stderr",
     "output_type": "stream",
     "text": [
      "num_leaves, val_score: 0.364657:  20%|##########                                        | 4/20 [00:02<00:08,  1.79it/s]\u001b[32m[I 2021-06-12 15:42:28,248]\u001b[0m Trial 10 finished with value: 0.36465716843791324 and parameters: {'num_leaves': 197}. Best is trial 8 with value: 0.36465716843791324.\u001b[0m\n",
      "num_leaves, val_score: 0.364657:  20%|##########                                        | 4/20 [00:02<00:08,  1.79it/s]"
     ]
    },
    {
     "name": "stdout",
     "output_type": "stream",
     "text": [
      "Training until validation scores don't improve for 10 rounds\n",
      "[100]\ttrain's multi_logloss: 0.326755\teval's multi_logloss: 0.390182\n",
      "Early stopping, best iteration is:\n",
      "[170]\ttrain's multi_logloss: 0.251537\teval's multi_logloss: 0.364657\n"
     ]
    },
    {
     "name": "stderr",
     "output_type": "stream",
     "text": [
      "num_leaves, val_score: 0.364657:  25%|############5                                     | 5/20 [00:02<00:08,  1.77it/s]\u001b[32m[I 2021-06-12 15:42:28,821]\u001b[0m Trial 11 finished with value: 0.36465716843791324 and parameters: {'num_leaves': 169}. Best is trial 8 with value: 0.36465716843791324.\u001b[0m\n",
      "num_leaves, val_score: 0.364657:  25%|############5                                     | 5/20 [00:02<00:08,  1.77it/s]"
     ]
    },
    {
     "name": "stdout",
     "output_type": "stream",
     "text": [
      "Training until validation scores don't improve for 10 rounds\n",
      "[100]\ttrain's multi_logloss: 0.326755\teval's multi_logloss: 0.390182\n"
     ]
    },
    {
     "name": "stderr",
     "output_type": "stream",
     "text": [
      "num_leaves, val_score: 0.364657:  30%|###############                                   | 6/20 [00:03<00:08,  1.60it/s]\u001b[32m[I 2021-06-12 15:42:29,561]\u001b[0m Trial 12 finished with value: 0.36465716843791324 and parameters: {'num_leaves': 235}. Best is trial 8 with value: 0.36465716843791324.\u001b[0m\n",
      "num_leaves, val_score: 0.364657:  30%|###############                                   | 6/20 [00:03<00:08,  1.60it/s]"
     ]
    },
    {
     "name": "stdout",
     "output_type": "stream",
     "text": [
      "Early stopping, best iteration is:\n",
      "[170]\ttrain's multi_logloss: 0.251537\teval's multi_logloss: 0.364657\n",
      "Training until validation scores don't improve for 10 rounds\n",
      "[100]\ttrain's multi_logloss: 0.326755\teval's multi_logloss: 0.390182\n",
      "Early stopping, best iteration is:\n",
      "[170]\ttrain's multi_logloss: 0.251537\teval's multi_logloss: 0.364657\n"
     ]
    },
    {
     "name": "stderr",
     "output_type": "stream",
     "text": [
      "num_leaves, val_score: 0.364657:  35%|#################5                                | 7/20 [00:04<00:07,  1.65it/s]\u001b[32m[I 2021-06-12 15:42:30,133]\u001b[0m Trial 13 finished with value: 0.36465716843791324 and parameters: {'num_leaves': 66}. Best is trial 8 with value: 0.36465716843791324.\u001b[0m\n",
      "num_leaves, val_score: 0.364657:  35%|#################5                                | 7/20 [00:04<00:07,  1.65it/s]"
     ]
    },
    {
     "name": "stdout",
     "output_type": "stream",
     "text": [
      "Training until validation scores don't improve for 10 rounds\n",
      "[100]\ttrain's multi_logloss: 0.342903\teval's multi_logloss: 0.390581\n"
     ]
    },
    {
     "name": "stderr",
     "output_type": "stream",
     "text": [
      "num_leaves, val_score: 0.362597:  40%|####################                              | 8/20 [00:04<00:06,  1.90it/s]\u001b[32m[I 2021-06-12 15:42:30,485]\u001b[0m Trial 14 finished with value: 0.36259686129477525 and parameters: {'num_leaves': 16}. Best is trial 14 with value: 0.36259686129477525.\u001b[0m\n",
      "num_leaves, val_score: 0.362597:  40%|####################                              | 8/20 [00:04<00:06,  1.90it/s]"
     ]
    },
    {
     "name": "stdout",
     "output_type": "stream",
     "text": [
      "[200]\ttrain's multi_logloss: 0.260334\teval's multi_logloss: 0.363804\n",
      "Early stopping, best iteration is:\n",
      "[190]\ttrain's multi_logloss: 0.266437\teval's multi_logloss: 0.362597\n",
      "Training until validation scores don't improve for 10 rounds\n",
      "[100]\ttrain's multi_logloss: 0.415265\teval's multi_logloss: 0.405128\n",
      "[200]\ttrain's multi_logloss: 0.373152\teval's multi_logloss: 0.366603\n"
     ]
    },
    {
     "name": "stderr",
     "output_type": "stream",
     "text": [
      "num_leaves, val_score: 0.339424:  45%|######################5                           | 9/20 [00:04<00:05,  2.13it/s]\u001b[32m[I 2021-06-12 15:42:30,828]\u001b[0m Trial 15 finished with value: 0.3394244392931127 and parameters: {'num_leaves': 3}. Best is trial 15 with value: 0.3394244392931127.\u001b[0m\n",
      "num_leaves, val_score: 0.339424:  45%|######################5                           | 9/20 [00:04<00:05,  2.13it/s]"
     ]
    },
    {
     "name": "stdout",
     "output_type": "stream",
     "text": [
      "[300]\ttrain's multi_logloss: 0.352529\teval's multi_logloss: 0.35268\n",
      "[400]\ttrain's multi_logloss: 0.338023\teval's multi_logloss: 0.345544\n",
      "[500]\ttrain's multi_logloss: 0.32714\teval's multi_logloss: 0.340458\n",
      "Early stopping, best iteration is:\n",
      "[535]\ttrain's multi_logloss: 0.323813\teval's multi_logloss: 0.339424\n",
      "Training until validation scores don't improve for 10 rounds\n",
      "[100]\ttrain's multi_logloss: 0.326755\teval's multi_logloss: 0.390182\n",
      "Early stopping, best iteration is:\n",
      "[170]\ttrain's multi_logloss: 0.251537\teval's multi_logloss: 0.364657\n"
     ]
    },
    {
     "name": "stderr",
     "output_type": "stream",
     "text": [
      "num_leaves, val_score: 0.339424:  50%|########################5                        | 10/20 [00:05<00:05,  1.99it/s]\u001b[32m[I 2021-06-12 15:42:31,403]\u001b[0m Trial 16 finished with value: 0.36465716843791324 and parameters: {'num_leaves': 208}. Best is trial 15 with value: 0.3394244392931127.\u001b[0m\n",
      "num_leaves, val_score: 0.339424:  50%|########################5                        | 10/20 [00:05<00:05,  1.99it/s]"
     ]
    },
    {
     "name": "stdout",
     "output_type": "stream",
     "text": [
      "Training until validation scores don't improve for 10 rounds\n",
      "[100]\ttrain's multi_logloss: 0.326755\teval's multi_logloss: 0.390182\n",
      "Early stopping, best iteration is:\n",
      "[170]\ttrain's multi_logloss: 0.251537\teval's multi_logloss: 0.364657"
     ]
    },
    {
     "name": "stderr",
     "output_type": "stream",
     "text": [
      "num_leaves, val_score: 0.339424:  55%|##########################9                      | 11/20 [00:05<00:04,  1.90it/s]\u001b[32m[I 2021-06-12 15:42:31,989]\u001b[0m Trial 17 finished with value: 0.36465716843791324 and parameters: {'num_leaves': 116}. Best is trial 15 with value: 0.3394244392931127.\u001b[0m\n",
      "num_leaves, val_score: 0.339424:  55%|##########################9                      | 11/20 [00:05<00:04,  1.90it/s]"
     ]
    },
    {
     "name": "stdout",
     "output_type": "stream",
     "text": [
      "\n",
      "Training until validation scores don't improve for 10 rounds\n"
     ]
    },
    {
     "name": "stderr",
     "output_type": "stream",
     "text": [
      "num_leaves, val_score: 0.339424:  60%|#############################4                   | 12/20 [00:06<00:03,  2.26it/s]\u001b[32m[I 2021-06-12 15:42:32,235]\u001b[0m Trial 18 finished with value: 0.34366627086391305 and parameters: {'num_leaves': 4}. Best is trial 15 with value: 0.3394244392931127.\u001b[0m\n",
      "num_leaves, val_score: 0.339424:  60%|#############################4                   | 12/20 [00:06<00:03,  2.26it/s]"
     ]
    },
    {
     "name": "stdout",
     "output_type": "stream",
     "text": [
      "[100]\ttrain's multi_logloss: 0.39711\teval's multi_logloss: 0.395198\n",
      "[200]\ttrain's multi_logloss: 0.3505\teval's multi_logloss: 0.352425\n",
      "[300]\ttrain's multi_logloss: 0.327421\teval's multi_logloss: 0.343666\n",
      "Early stopping, best iteration is:\n",
      "[300]\ttrain's multi_logloss: 0.327421\teval's multi_logloss: 0.343666\n",
      "Training until validation scores don't improve for 10 rounds\n"
     ]
    },
    {
     "name": "stderr",
     "output_type": "stream",
     "text": [
      "\r",
      "num_leaves, val_score: 0.339424:  60%|#############################4                   | 12/20 [00:06<00:03,  2.26it/s]"
     ]
    },
    {
     "name": "stdout",
     "output_type": "stream",
     "text": [
      "[100]\ttrain's multi_logloss: 0.352772\teval's multi_logloss: 0.391394\n",
      "[200]\ttrain's multi_logloss: 0.278485\teval's multi_logloss: 0.35838\n",
      "Early stopping, best iteration is:\n",
      "[240]\ttrain's multi_logloss: 0.258882\teval's multi_logloss: 0.353762\n"
     ]
    },
    {
     "name": "stderr",
     "output_type": "stream",
     "text": [
      "num_leaves, val_score: 0.339424:  65%|###############################8                 | 13/20 [00:06<00:02,  2.47it/s]\u001b[32m[I 2021-06-12 15:42:32,558]\u001b[0m Trial 19 finished with value: 0.3537615118401437 and parameters: {'num_leaves': 12}. Best is trial 15 with value: 0.3394244392931127.\u001b[0m\n",
      "num_leaves, val_score: 0.339424:  65%|###############################8                 | 13/20 [00:06<00:02,  2.47it/s]"
     ]
    },
    {
     "name": "stdout",
     "output_type": "stream",
     "text": [
      "Training until validation scores don't improve for 10 rounds\n",
      "[100]\ttrain's multi_logloss: 0.415265\teval's multi_logloss: 0.405128\n",
      "[200]\ttrain's multi_logloss: 0.373152\teval's multi_logloss: 0.366603\n",
      "[300]\ttrain's multi_logloss: 0.352529\teval's multi_logloss: 0.35268\n"
     ]
    },
    {
     "name": "stderr",
     "output_type": "stream",
     "text": [
      "num_leaves, val_score: 0.339424:  70%|##################################3              | 14/20 [00:06<00:02,  2.44it/s]\u001b[32m[I 2021-06-12 15:42:32,978]\u001b[0m Trial 20 finished with value: 0.3394244392931127 and parameters: {'num_leaves': 3}. Best is trial 15 with value: 0.3394244392931127.\u001b[0m\n",
      "num_leaves, val_score: 0.339424:  70%|##################################3              | 14/20 [00:06<00:02,  2.44it/s]"
     ]
    },
    {
     "name": "stdout",
     "output_type": "stream",
     "text": [
      "[400]\ttrain's multi_logloss: 0.338023\teval's multi_logloss: 0.345544\n",
      "[500]\ttrain's multi_logloss: 0.32714\teval's multi_logloss: 0.340458\n",
      "Early stopping, best iteration is:\n",
      "[535]\ttrain's multi_logloss: 0.323813\teval's multi_logloss: 0.339424\n",
      "Training until validation scores don't improve for 10 rounds\n",
      "[100]\ttrain's multi_logloss: 0.326755\teval's multi_logloss: 0.390182\n",
      "Early stopping, best iteration is:\n",
      "[170]\ttrain's multi_logloss: 0.251537\teval's multi_logloss: 0.364657\n"
     ]
    },
    {
     "name": "stderr",
     "output_type": "stream",
     "text": [
      "num_leaves, val_score: 0.339424:  75%|####################################7            | 15/20 [00:07<00:02,  2.23it/s]\u001b[32m[I 2021-06-12 15:42:33,517]\u001b[0m Trial 21 finished with value: 0.36465716843791324 and parameters: {'num_leaves': 53}. Best is trial 15 with value: 0.3394244392931127.\u001b[0m\n",
      "num_leaves, val_score: 0.339424:  75%|####################################7            | 15/20 [00:07<00:02,  2.23it/s]"
     ]
    },
    {
     "name": "stdout",
     "output_type": "stream",
     "text": [
      "Training until validation scores don't improve for 10 rounds\n",
      "[100]\ttrain's multi_logloss: 0.326755\teval's multi_logloss: 0.390182\n",
      "Early stopping, best iteration is:\n",
      "[170]\ttrain's multi_logloss: 0.251537\teval's multi_logloss: 0.364657\n"
     ]
    },
    {
     "name": "stderr",
     "output_type": "stream",
     "text": [
      "num_leaves, val_score: 0.339424:  80%|#######################################2         | 16/20 [00:07<00:01,  2.11it/s]\u001b[32m[I 2021-06-12 15:42:34,050]\u001b[0m Trial 22 finished with value: 0.36465716843791324 and parameters: {'num_leaves': 107}. Best is trial 15 with value: 0.3394244392931127.\u001b[0m\n",
      "num_leaves, val_score: 0.339424:  80%|#######################################2         | 16/20 [00:07<00:01,  2.11it/s]"
     ]
    },
    {
     "name": "stdout",
     "output_type": "stream",
     "text": [
      "Training until validation scores don't improve for 10 rounds\n",
      "[100]\ttrain's multi_logloss: 0.326755\teval's multi_logloss: 0.390182\n"
     ]
    },
    {
     "name": "stderr",
     "output_type": "stream",
     "text": [
      "num_leaves, val_score: 0.339424:  85%|#########################################6       | 17/20 [00:08<00:01,  1.92it/s]\u001b[32m[I 2021-06-12 15:42:34,681]\u001b[0m Trial 23 finished with value: 0.36465716843791324 and parameters: {'num_leaves': 148}. Best is trial 15 with value: 0.3394244392931127.\u001b[0m\n",
      "num_leaves, val_score: 0.339424:  85%|#########################################6       | 17/20 [00:08<00:01,  1.92it/s]"
     ]
    },
    {
     "name": "stdout",
     "output_type": "stream",
     "text": [
      "Early stopping, best iteration is:\n",
      "[170]\ttrain's multi_logloss: 0.251537\teval's multi_logloss: 0.364657\n",
      "Training until validation scores don't improve for 10 rounds\n",
      "[100]\ttrain's multi_logloss: 0.327675\teval's multi_logloss: 0.390282\n",
      "Early stopping, best iteration is:\n",
      "[173]\ttrain's multi_logloss: 0.251296\teval's multi_logloss: 0.364592\n"
     ]
    },
    {
     "name": "stderr",
     "output_type": "stream",
     "text": [
      "num_leaves, val_score: 0.339424:  90%|############################################1    | 18/20 [00:09<00:01,  1.99it/s]\u001b[32m[I 2021-06-12 15:42:35,136]\u001b[0m Trial 24 finished with value: 0.3645921985027043 and parameters: {'num_leaves': 28}. Best is trial 15 with value: 0.3394244392931127.\u001b[0m\n",
      "num_leaves, val_score: 0.339424:  90%|############################################1    | 18/20 [00:09<00:01,  1.99it/s]"
     ]
    },
    {
     "name": "stdout",
     "output_type": "stream",
     "text": [
      "Training until validation scores don't improve for 10 rounds\n",
      "[100]\ttrain's multi_logloss: 0.326755\teval's multi_logloss: 0.390182\n"
     ]
    },
    {
     "name": "stderr",
     "output_type": "stream",
     "text": [
      "num_leaves, val_score: 0.339424:  95%|##############################################5  | 19/20 [00:09<00:00,  1.88it/s]\u001b[32m[I 2021-06-12 15:42:35,741]\u001b[0m Trial 25 finished with value: 0.36465716843791324 and parameters: {'num_leaves': 78}. Best is trial 15 with value: 0.3394244392931127.\u001b[0m\n",
      "num_leaves, val_score: 0.339424:  95%|##############################################5  | 19/20 [00:09<00:00,  1.88it/s]"
     ]
    },
    {
     "name": "stdout",
     "output_type": "stream",
     "text": [
      "Early stopping, best iteration is:\n",
      "[170]\ttrain's multi_logloss: 0.251537\teval's multi_logloss: 0.364657\n",
      "Training until validation scores don't improve for 10 rounds\n",
      "[100]\ttrain's multi_logloss: 0.327136\teval's multi_logloss: 0.390088\n",
      "Early stopping, best iteration is:\n",
      "[172]\ttrain's multi_logloss: 0.25089\teval's multi_logloss: 0.364664\n"
     ]
    },
    {
     "name": "stderr",
     "output_type": "stream",
     "text": [
      "num_leaves, val_score: 0.339424: 100%|#################################################| 20/20 [00:10<00:00,  1.81it/s]\u001b[32m[I 2021-06-12 15:42:36,340]\u001b[0m Trial 26 finished with value: 0.3646644921624158 and parameters: {'num_leaves': 30}. Best is trial 15 with value: 0.3394244392931127.\u001b[0m\n",
      "num_leaves, val_score: 0.339424: 100%|#################################################| 20/20 [00:10<00:00,  1.95it/s]\n",
      "bagging, val_score: 0.339424:   0%|                                                             | 0/10 [00:00<?, ?it/s]"
     ]
    },
    {
     "name": "stdout",
     "output_type": "stream",
     "text": [
      "Training until validation scores don't improve for 10 rounds\n",
      "[100]\ttrain's multi_logloss: 0.415978\teval's multi_logloss: 0.406464\n",
      "[200]\ttrain's multi_logloss: 0.374026\teval's multi_logloss: 0.367438\n",
      "[300]\ttrain's multi_logloss: 0.354712\teval's multi_logloss: 0.351879\n"
     ]
    },
    {
     "name": "stderr",
     "output_type": "stream",
     "text": [
      "bagging, val_score: 0.339424:  10%|#####3                                               | 1/10 [00:00<00:02,  3.42it/s]\u001b[32m[I 2021-06-12 15:42:36,640]\u001b[0m Trial 27 finished with value: 0.3425320655550507 and parameters: {'bagging_fraction': 0.9583041254589866, 'bagging_freq': 2}. Best is trial 27 with value: 0.3425320655550507.\u001b[0m\n",
      "bagging, val_score: 0.339424:  10%|#####3                                               | 1/10 [00:00<00:02,  3.42it/s]"
     ]
    },
    {
     "name": "stdout",
     "output_type": "stream",
     "text": [
      "[400]\ttrain's multi_logloss: 0.340684\teval's multi_logloss: 0.34487\n",
      "Early stopping, best iteration is:\n",
      "[468]\ttrain's multi_logloss: 0.332806\teval's multi_logloss: 0.342532\n",
      "Training until validation scores don't improve for 10 rounds\n",
      "[100]\ttrain's multi_logloss: 0.415924\teval's multi_logloss: 0.406291\n",
      "[200]\ttrain's multi_logloss: 0.374303\teval's multi_logloss: 0.367396\n"
     ]
    },
    {
     "name": "stderr",
     "output_type": "stream",
     "text": [
      "bagging, val_score: 0.339424:  20%|##########6                                          | 2/10 [00:00<00:02,  3.33it/s]\u001b[32m[I 2021-06-12 15:42:36,947]\u001b[0m Trial 28 finished with value: 0.34182262043533596 and parameters: {'bagging_fraction': 0.9485707413158999, 'bagging_freq': 5}. Best is trial 28 with value: 0.34182262043533596.\u001b[0m\n",
      "bagging, val_score: 0.339424:  20%|##########6                                          | 2/10 [00:00<00:02,  3.33it/s]"
     ]
    },
    {
     "name": "stdout",
     "output_type": "stream",
     "text": [
      "[300]\ttrain's multi_logloss: 0.355369\teval's multi_logloss: 0.352671\n",
      "[400]\ttrain's multi_logloss: 0.340788\teval's multi_logloss: 0.345141\n",
      "Early stopping, best iteration is:\n",
      "[470]\ttrain's multi_logloss: 0.332959\teval's multi_logloss: 0.341823\n",
      "Training until validation scores don't improve for 10 rounds\n",
      "[100]\ttrain's multi_logloss: 0.414655\teval's multi_logloss: 0.404742\n"
     ]
    },
    {
     "name": "stderr",
     "output_type": "stream",
     "text": [
      "bagging, val_score: 0.339424:  30%|###############9                                     | 3/10 [00:00<00:02,  3.45it/s]\u001b[32m[I 2021-06-12 15:42:37,224]\u001b[0m Trial 29 finished with value: 0.34610273440225414 and parameters: {'bagging_fraction': 0.7154838662062736, 'bagging_freq': 6}. Best is trial 28 with value: 0.34182262043533596.\u001b[0m\n",
      "bagging, val_score: 0.339424:  30%|###############9                                     | 3/10 [00:00<00:02,  3.45it/s]"
     ]
    },
    {
     "name": "stdout",
     "output_type": "stream",
     "text": [
      "[200]\ttrain's multi_logloss: 0.372507\teval's multi_logloss: 0.364964\n",
      "[300]\ttrain's multi_logloss: 0.35187\teval's multi_logloss: 0.35252\n",
      "[400]\ttrain's multi_logloss: 0.337756\teval's multi_logloss: 0.346952\n",
      "Early stopping, best iteration is:\n",
      "[414]\ttrain's multi_logloss: 0.336099\teval's multi_logloss: 0.346103\n",
      "Training until validation scores don't improve for 10 rounds\n"
     ]
    },
    {
     "name": "stderr",
     "output_type": "stream",
     "text": [
      "bagging, val_score: 0.339424:  40%|#####################2                               | 4/10 [00:01<00:01,  3.70it/s]\u001b[32m[I 2021-06-12 15:42:37,463]\u001b[0m Trial 30 finished with value: 0.3474941109345891 and parameters: {'bagging_fraction': 0.5791802193151406, 'bagging_freq': 7}. Best is trial 28 with value: 0.34182262043533596.\u001b[0m\n",
      "bagging, val_score: 0.339424:  40%|#####################2                               | 4/10 [00:01<00:01,  3.70it/s]"
     ]
    },
    {
     "name": "stdout",
     "output_type": "stream",
     "text": [
      "[100]\ttrain's multi_logloss: 0.415035\teval's multi_logloss: 0.402862\n",
      "[200]\ttrain's multi_logloss: 0.373069\teval's multi_logloss: 0.367614\n",
      "[300]\ttrain's multi_logloss: 0.351363\teval's multi_logloss: 0.353903\n",
      "Early stopping, best iteration is:\n",
      "[378]\ttrain's multi_logloss: 0.340168\teval's multi_logloss: 0.347494\n",
      "Training until validation scores don't improve for 10 rounds\n"
     ]
    },
    {
     "name": "stderr",
     "output_type": "stream",
     "text": [
      "bagging, val_score: 0.339424:  50%|##########################5                          | 5/10 [00:01<00:01,  3.94it/s]\u001b[32m[I 2021-06-12 15:42:37,688]\u001b[0m Trial 31 finished with value: 0.34862568152745793 and parameters: {'bagging_fraction': 0.8061005078892545, 'bagging_freq': 7}. Best is trial 28 with value: 0.34182262043533596.\u001b[0m\n",
      "bagging, val_score: 0.339424:  50%|##########################5                          | 5/10 [00:01<00:01,  3.94it/s]"
     ]
    },
    {
     "name": "stdout",
     "output_type": "stream",
     "text": [
      "[100]\ttrain's multi_logloss: 0.415116\teval's multi_logloss: 0.405665\n",
      "[200]\ttrain's multi_logloss: 0.373176\teval's multi_logloss: 0.365677\n",
      "[300]\ttrain's multi_logloss: 0.351954\teval's multi_logloss: 0.353021\n",
      "Early stopping, best iteration is:\n",
      "[350]\ttrain's multi_logloss: 0.344155\teval's multi_logloss: 0.348626\n",
      "Training until validation scores don't improve for 10 rounds\n",
      "[100]\ttrain's multi_logloss: 0.415093\teval's multi_logloss: 0.40472\n",
      "[200]\ttrain's multi_logloss: 0.372869\teval's multi_logloss: 0.366563\n",
      "[300]\ttrain's multi_logloss: 0.352607\teval's multi_logloss: 0.352818\n",
      "[400]\ttrain's multi_logloss: 0.3375\teval's multi_logloss: 0.347474\n"
     ]
    },
    {
     "name": "stderr",
     "output_type": "stream",
     "text": [
      "bagging, val_score: 0.339424:  60%|###############################8                     | 6/10 [00:01<00:01,  3.58it/s]\u001b[32m[I 2021-06-12 15:42:38,017]\u001b[0m Trial 32 finished with value: 0.34595446616735054 and parameters: {'bagging_fraction': 0.780707571520372, 'bagging_freq': 2}. Best is trial 28 with value: 0.34182262043533596.\u001b[0m\n",
      "bagging, val_score: 0.339424:  60%|###############################8                     | 6/10 [00:01<00:01,  3.58it/s]"
     ]
    },
    {
     "name": "stdout",
     "output_type": "stream",
     "text": [
      "Early stopping, best iteration is:\n",
      "[432]\ttrain's multi_logloss: 0.333254\teval's multi_logloss: 0.345954\n",
      "Training until validation scores don't improve for 10 rounds\n",
      "[100]\ttrain's multi_logloss: 0.415806\teval's multi_logloss: 0.404591\n",
      "[200]\ttrain's multi_logloss: 0.371616\teval's multi_logloss: 0.367016\n",
      "[300]\ttrain's multi_logloss: 0.350596\teval's multi_logloss: 0.353743\n"
     ]
    },
    {
     "name": "stderr",
     "output_type": "stream",
     "text": [
      "bagging, val_score: 0.339424:  70%|#####################################                | 7/10 [00:01<00:00,  3.82it/s]\u001b[32m[I 2021-06-12 15:42:38,242]\u001b[0m Trial 33 finished with value: 0.3470835616850622 and parameters: {'bagging_fraction': 0.5375724990953974, 'bagging_freq': 4}. Best is trial 28 with value: 0.34182262043533596.\u001b[0m\n",
      "bagging, val_score: 0.339424:  70%|#####################################                | 7/10 [00:01<00:00,  3.82it/s]"
     ]
    },
    {
     "name": "stdout",
     "output_type": "stream",
     "text": [
      "Early stopping, best iteration is:\n",
      "[380]\ttrain's multi_logloss: 0.338694\teval's multi_logloss: 0.347084\n",
      "Training until validation scores don't improve for 10 rounds\n",
      "[100]\ttrain's multi_logloss: 0.415024\teval's multi_logloss: 0.4055\n",
      "[200]\ttrain's multi_logloss: 0.372703\teval's multi_logloss: 0.365577\n",
      "[300]\ttrain's multi_logloss: 0.352161\teval's multi_logloss: 0.354185\n"
     ]
    },
    {
     "name": "stderr",
     "output_type": "stream",
     "text": [
      "bagging, val_score: 0.339424:  80%|##########################################4          | 8/10 [00:02<00:00,  3.87it/s]\u001b[32m[I 2021-06-12 15:42:38,493]\u001b[0m Trial 34 finished with value: 0.3464504139417198 and parameters: {'bagging_fraction': 0.6891962180648357, 'bagging_freq': 6}. Best is trial 28 with value: 0.34182262043533596.\u001b[0m\n",
      "bagging, val_score: 0.339424:  80%|##########################################4          | 8/10 [00:02<00:00,  3.87it/s]"
     ]
    },
    {
     "name": "stdout",
     "output_type": "stream",
     "text": [
      "[400]\ttrain's multi_logloss: 0.338155\teval's multi_logloss: 0.347835\n",
      "Early stopping, best iteration is:\n",
      "[414]\ttrain's multi_logloss: 0.336579\teval's multi_logloss: 0.34645\n",
      "Training until validation scores don't improve for 10 rounds\n",
      "[100]\ttrain's multi_logloss: 0.414893\teval's multi_logloss: 0.403936\n",
      "[200]\ttrain's multi_logloss: 0.373093\teval's multi_logloss: 0.366407\n"
     ]
    },
    {
     "name": "stderr",
     "output_type": "stream",
     "text": [
      "bagging, val_score: 0.339424:  90%|###############################################7     | 9/10 [00:02<00:00,  3.97it/s]\u001b[32m[I 2021-06-12 15:42:38,731]\u001b[0m Trial 35 finished with value: 0.35360204880880436 and parameters: {'bagging_fraction': 0.5414642626864675, 'bagging_freq': 6}. Best is trial 28 with value: 0.34182262043533596.\u001b[0m\n",
      "bagging, val_score: 0.339424:  90%|###############################################7     | 9/10 [00:02<00:00,  3.97it/s]"
     ]
    },
    {
     "name": "stdout",
     "output_type": "stream",
     "text": [
      "[300]\ttrain's multi_logloss: 0.351211\teval's multi_logloss: 0.355989\n",
      "Early stopping, best iteration is:\n",
      "[324]\ttrain's multi_logloss: 0.347616\teval's multi_logloss: 0.353602\n",
      "Training until validation scores don't improve for 10 rounds\n",
      "[100]\ttrain's multi_logloss: 0.415192\teval's multi_logloss: 0.404457\n",
      "[200]\ttrain's multi_logloss: 0.372393\teval's multi_logloss: 0.36683\n"
     ]
    },
    {
     "name": "stderr",
     "output_type": "stream",
     "text": [
      "bagging, val_score: 0.339424: 100%|####################################################| 10/10 [00:02<00:00,  3.96it/s]\u001b[32m[I 2021-06-12 15:42:38,985]\u001b[0m Trial 36 finished with value: 0.3482961998080731 and parameters: {'bagging_fraction': 0.7446515910463737, 'bagging_freq': 2}. Best is trial 28 with value: 0.34182262043533596.\u001b[0m\n",
      "bagging, val_score: 0.339424: 100%|####################################################| 10/10 [00:02<00:00,  3.79it/s]\n",
      "feature_fraction_stage2, val_score: 0.339424:   0%|                                              | 0/3 [00:00<?, ?it/s]"
     ]
    },
    {
     "name": "stdout",
     "output_type": "stream",
     "text": [
      "[300]\ttrain's multi_logloss: 0.351802\teval's multi_logloss: 0.353654\n",
      "Early stopping, best iteration is:\n",
      "[376]\ttrain's multi_logloss: 0.340128\teval's multi_logloss: 0.348296\n",
      "Training until validation scores don't improve for 10 rounds\n",
      "[100]\ttrain's multi_logloss: 0.415265\teval's multi_logloss: 0.405128\n",
      "[200]\ttrain's multi_logloss: 0.373152\teval's multi_logloss: 0.366603\n"
     ]
    },
    {
     "name": "stderr",
     "output_type": "stream",
     "text": [
      "\r",
      "feature_fraction_stage2, val_score: 0.339424:   0%|                                              | 0/3 [00:00<?, ?it/s]"
     ]
    },
    {
     "name": "stdout",
     "output_type": "stream",
     "text": [
      "[300]\ttrain's multi_logloss: 0.352529\teval's multi_logloss: 0.35268\n",
      "[400]\ttrain's multi_logloss: 0.338023\teval's multi_logloss: 0.345544\n",
      "[500]\ttrain's multi_logloss: 0.32714\teval's multi_logloss: 0.340458\n",
      "Early stopping, best iteration is:\n",
      "[535]\ttrain's multi_logloss: 0.323813\teval's multi_logloss: 0.339424\n"
     ]
    },
    {
     "name": "stderr",
     "output_type": "stream",
     "text": [
      "feature_fraction_stage2, val_score: 0.339424:  33%|############6                         | 1/3 [00:00<00:00,  2.81it/s]\u001b[32m[I 2021-06-12 15:42:39,349]\u001b[0m Trial 37 finished with value: 0.3394244392931127 and parameters: {'feature_fraction': 0.9840000000000001}. Best is trial 37 with value: 0.3394244392931127.\u001b[0m\n",
      "feature_fraction_stage2, val_score: 0.339424:  33%|############6                         | 1/3 [00:00<00:00,  2.81it/s]"
     ]
    },
    {
     "name": "stdout",
     "output_type": "stream",
     "text": [
      "Training until validation scores don't improve for 10 rounds\n",
      "[100]\ttrain's multi_logloss: 0.419059\teval's multi_logloss: 0.409855\n",
      "[200]\ttrain's multi_logloss: 0.373995\teval's multi_logloss: 0.367616\n",
      "[300]\ttrain's multi_logloss: 0.353264\teval's multi_logloss: 0.353503\n",
      "[400]\ttrain's multi_logloss: 0.338793\teval's multi_logloss: 0.345856\n"
     ]
    },
    {
     "name": "stderr",
     "output_type": "stream",
     "text": [
      "feature_fraction_stage2, val_score: 0.338988:  67%|#########################3            | 2/3 [00:00<00:00,  2.79it/s]\u001b[32m[I 2021-06-12 15:42:39,708]\u001b[0m Trial 38 finished with value: 0.33898818303956524 and parameters: {'feature_fraction': 0.92}. Best is trial 38 with value: 0.33898818303956524.\u001b[0m\n",
      "feature_fraction_stage2, val_score: 0.338988:  67%|#########################3            | 2/3 [00:00<00:00,  2.79it/s]"
     ]
    },
    {
     "name": "stdout",
     "output_type": "stream",
     "text": [
      "[500]\ttrain's multi_logloss: 0.328036\teval's multi_logloss: 0.341175\n",
      "[600]\ttrain's multi_logloss: 0.318256\teval's multi_logloss: 0.339236\n",
      "Early stopping, best iteration is:\n",
      "[614]\ttrain's multi_logloss: 0.317098\teval's multi_logloss: 0.338988\n",
      "Training until validation scores don't improve for 10 rounds\n",
      "[100]\ttrain's multi_logloss: 0.415265\teval's multi_logloss: 0.405128\n",
      "[200]\ttrain's multi_logloss: 0.373152\teval's multi_logloss: 0.366603\n",
      "[300]\ttrain's multi_logloss: 0.352529\teval's multi_logloss: 0.35268\n",
      "[400]\ttrain's multi_logloss: 0.338023\teval's multi_logloss: 0.345544\n",
      "[500]\ttrain's multi_logloss: 0.32714\teval's multi_logloss: 0.340458\n",
      "Early stopping, best iteration is:\n",
      "[535]\ttrain's multi_logloss: 0.323813\teval's multi_logloss: 0.339424\n"
     ]
    },
    {
     "name": "stderr",
     "output_type": "stream",
     "text": [
      "feature_fraction_stage2, val_score: 0.338988: 100%|######################################| 3/3 [00:01<00:00,  2.96it/s]\u001b[32m[I 2021-06-12 15:42:40,022]\u001b[0m Trial 39 finished with value: 0.3394244392931127 and parameters: {'feature_fraction': 0.9520000000000001}. Best is trial 38 with value: 0.33898818303956524.\u001b[0m\n",
      "feature_fraction_stage2, val_score: 0.338988: 100%|######################################| 3/3 [00:01<00:00,  2.90it/s]\n",
      "regularization_factors, val_score: 0.338988:   0%|                                              | 0/20 [00:00<?, ?it/s]"
     ]
    },
    {
     "name": "stdout",
     "output_type": "stream",
     "text": [
      "Training until validation scores don't improve for 10 rounds\n",
      "[100]\ttrain's multi_logloss: 0.419059\teval's multi_logloss: 0.409855\n",
      "[200]\ttrain's multi_logloss: 0.373995\teval's multi_logloss: 0.367616\n",
      "[300]\ttrain's multi_logloss: 0.353264\teval's multi_logloss: 0.353503\n"
     ]
    },
    {
     "name": "stderr",
     "output_type": "stream",
     "text": [
      "regularization_factors, val_score: 0.338988:   5%|#9                                    | 1/20 [00:00<00:07,  2.68it/s]\u001b[32m[I 2021-06-12 15:42:40,407]\u001b[0m Trial 40 finished with value: 0.33898821287306874 and parameters: {'lambda_l1': 2.469012316225719e-05, 'lambda_l2': 1.5812229806625942e-05}. Best is trial 40 with value: 0.33898821287306874.\u001b[0m\n",
      "regularization_factors, val_score: 0.338988:   5%|#9                                    | 1/20 [00:00<00:07,  2.68it/s]"
     ]
    },
    {
     "name": "stdout",
     "output_type": "stream",
     "text": [
      "[400]\ttrain's multi_logloss: 0.338793\teval's multi_logloss: 0.345856\n",
      "[500]\ttrain's multi_logloss: 0.328037\teval's multi_logloss: 0.341175\n",
      "[600]\ttrain's multi_logloss: 0.318256\teval's multi_logloss: 0.339236\n",
      "Early stopping, best iteration is:\n",
      "[614]\ttrain's multi_logloss: 0.317098\teval's multi_logloss: 0.338988\n",
      "Training until validation scores don't improve for 10 rounds\n",
      "[100]\ttrain's multi_logloss: 0.419081\teval's multi_logloss: 0.409875\n",
      "[200]\ttrain's multi_logloss: 0.374018\teval's multi_logloss: 0.367631\n",
      "[300]\ttrain's multi_logloss: 0.353293\teval's multi_logloss: 0.353605\n",
      "[400]\ttrain's multi_logloss: 0.338863\teval's multi_logloss: 0.345817\n"
     ]
    },
    {
     "name": "stderr",
     "output_type": "stream",
     "text": [
      "regularization_factors, val_score: 0.338988:  10%|###8                                  | 2/20 [00:00<00:06,  2.79it/s]\u001b[32m[I 2021-06-12 15:42:40,757]\u001b[0m Trial 41 finished with value: 0.34025422221973856 and parameters: {'lambda_l1': 0.003295989426367309, 'lambda_l2': 0.007061509009904064}. Best is trial 40 with value: 0.33898821287306874.\u001b[0m\n",
      "regularization_factors, val_score: 0.338988:  10%|###8                                  | 2/20 [00:00<00:06,  2.79it/s]"
     ]
    },
    {
     "name": "stdout",
     "output_type": "stream",
     "text": [
      "[500]\ttrain's multi_logloss: 0.328119\teval's multi_logloss: 0.341102\n",
      "Early stopping, best iteration is:\n",
      "[533]\ttrain's multi_logloss: 0.324784\teval's multi_logloss: 0.340254\n",
      "Training until validation scores don't improve for 10 rounds\n",
      "[100]\ttrain's multi_logloss: 0.419059\teval's multi_logloss: 0.409855\n",
      "[200]\ttrain's multi_logloss: 0.373995\teval's multi_logloss: 0.367616\n",
      "[300]\ttrain's multi_logloss: 0.353264\teval's multi_logloss: 0.353503\n",
      "[400]\ttrain's multi_logloss: 0.338793\teval's multi_logloss: 0.345856\n",
      "[500]\ttrain's multi_logloss: 0.328036\teval's multi_logloss: 0.341175\n"
     ]
    },
    {
     "name": "stderr",
     "output_type": "stream",
     "text": [
      "regularization_factors, val_score: 0.338988:  15%|#####7                                | 3/20 [00:01<00:06,  2.67it/s]\u001b[32m[I 2021-06-12 15:42:41,150]\u001b[0m Trial 42 finished with value: 0.33898818466431363 and parameters: {'lambda_l1': 1.4531239628722184e-06, 'lambda_l2': 1.1117122424033002e-08}. Best is trial 42 with value: 0.33898818466431363.\u001b[0m\n",
      "regularization_factors, val_score: 0.338988:  15%|#####7                                | 3/20 [00:01<00:06,  2.67it/s]"
     ]
    },
    {
     "name": "stdout",
     "output_type": "stream",
     "text": [
      "[600]\ttrain's multi_logloss: 0.318256\teval's multi_logloss: 0.339236\n",
      "Early stopping, best iteration is:\n",
      "[614]\ttrain's multi_logloss: 0.317098\teval's multi_logloss: 0.338988\n",
      "Training until validation scores don't improve for 10 rounds\n",
      "[100]\ttrain's multi_logloss: 0.419059\teval's multi_logloss: 0.409855\n",
      "[200]\ttrain's multi_logloss: 0.373995\teval's multi_logloss: 0.367616\n"
     ]
    },
    {
     "name": "stderr",
     "output_type": "stream",
     "text": [
      "\r",
      "regularization_factors, val_score: 0.338988:  15%|#####7                                | 3/20 [00:01<00:06,  2.67it/s]"
     ]
    },
    {
     "name": "stdout",
     "output_type": "stream",
     "text": [
      "[300]\ttrain's multi_logloss: 0.353264\teval's multi_logloss: 0.353503\n",
      "[400]\ttrain's multi_logloss: 0.338793\teval's multi_logloss: 0.345856\n",
      "[500]\ttrain's multi_logloss: 0.328037\teval's multi_logloss: 0.341175\n",
      "[600]\ttrain's multi_logloss: 0.318256\teval's multi_logloss: 0.339236\n",
      "Early stopping, best iteration is:\n",
      "[614]\ttrain's multi_logloss: 0.317098\teval's multi_logloss: 0.338988\n"
     ]
    },
    {
     "name": "stderr",
     "output_type": "stream",
     "text": [
      "regularization_factors, val_score: 0.338988:  20%|#######6                              | 4/20 [00:01<00:06,  2.59it/s]\u001b[32m[I 2021-06-12 15:42:41,552]\u001b[0m Trial 43 finished with value: 0.3389882159922887 and parameters: {'lambda_l1': 2.928435288294862e-05, 'lambda_l2': 1.9248698284321903e-06}. Best is trial 42 with value: 0.33898818466431363.\u001b[0m\n",
      "regularization_factors, val_score: 0.338988:  20%|#######6                              | 4/20 [00:01<00:06,  2.59it/s]"
     ]
    },
    {
     "name": "stdout",
     "output_type": "stream",
     "text": [
      "Training until validation scores don't improve for 10 rounds\n",
      "[100]\ttrain's multi_logloss: 0.41907\teval's multi_logloss: 0.409865\n",
      "[200]\ttrain's multi_logloss: 0.374008\teval's multi_logloss: 0.367625\n",
      "[300]\ttrain's multi_logloss: 0.353286\teval's multi_logloss: 0.353585\n"
     ]
    },
    {
     "name": "stderr",
     "output_type": "stream",
     "text": [
      "regularization_factors, val_score: 0.338988:  25%|#########5                            | 5/20 [00:01<00:05,  2.74it/s]\u001b[32m[I 2021-06-12 15:42:41,880]\u001b[0m Trial 44 finished with value: 0.3401902591712531 and parameters: {'lambda_l1': 0.0033896185829907, 'lambda_l2': 0.0014915391699888074}. Best is trial 42 with value: 0.33898818466431363.\u001b[0m\n",
      "regularization_factors, val_score: 0.338988:  25%|#########5                            | 5/20 [00:01<00:05,  2.74it/s]"
     ]
    },
    {
     "name": "stdout",
     "output_type": "stream",
     "text": [
      "[400]\ttrain's multi_logloss: 0.338861\teval's multi_logloss: 0.345684\n",
      "[500]\ttrain's multi_logloss: 0.328125\teval's multi_logloss: 0.341036\n",
      "Early stopping, best iteration is:\n",
      "[533]\ttrain's multi_logloss: 0.324805\teval's multi_logloss: 0.34019\n",
      "Training until validation scores don't improve for 10 rounds\n",
      "[100]\ttrain's multi_logloss: 0.419059\teval's multi_logloss: 0.409855\n",
      "[200]\ttrain's multi_logloss: 0.373995\teval's multi_logloss: 0.367616\n",
      "[300]\ttrain's multi_logloss: 0.353264\teval's multi_logloss: 0.353503\n",
      "[400]\ttrain's multi_logloss: 0.338793\teval's multi_logloss: 0.345856\n",
      "[500]\ttrain's multi_logloss: 0.328037\teval's multi_logloss: 0.341175\n",
      "[600]\ttrain's multi_logloss: 0.318256\teval's multi_logloss: 0.339236\n"
     ]
    },
    {
     "name": "stderr",
     "output_type": "stream",
     "text": [
      "regularization_factors, val_score: 0.338988:  30%|###########4                          | 6/20 [00:02<00:05,  2.71it/s]\u001b[32m[I 2021-06-12 15:42:42,256]\u001b[0m Trial 45 finished with value: 0.3389881958701946 and parameters: {'lambda_l1': 1.0945260670521705e-05, 'lambda_l2': 4.368942758677941e-06}. Best is trial 42 with value: 0.33898818466431363.\u001b[0m\n",
      "regularization_factors, val_score: 0.338988:  30%|###########4                          | 6/20 [00:02<00:05,  2.71it/s]"
     ]
    },
    {
     "name": "stdout",
     "output_type": "stream",
     "text": [
      "Early stopping, best iteration is:\n",
      "[614]\ttrain's multi_logloss: 0.317098\teval's multi_logloss: 0.338988\n",
      "Training until validation scores don't improve for 10 rounds\n",
      "[100]\ttrain's multi_logloss: 0.422931\teval's multi_logloss: 0.413719\n",
      "[200]\ttrain's multi_logloss: 0.377284\teval's multi_logloss: 0.370018\n"
     ]
    },
    {
     "name": "stderr",
     "output_type": "stream",
     "text": [
      "\r",
      "regularization_factors, val_score: 0.338988:  30%|###########4                          | 6/20 [00:02<00:05,  2.71it/s]"
     ]
    },
    {
     "name": "stdout",
     "output_type": "stream",
     "text": [
      "[300]\ttrain's multi_logloss: 0.357043\teval's multi_logloss: 0.355673\n",
      "[400]\ttrain's multi_logloss: 0.343577\teval's multi_logloss: 0.347535\n",
      "[500]\ttrain's multi_logloss: 0.333323\teval's multi_logloss: 0.342255\n",
      "[600]\ttrain's multi_logloss: 0.324579\teval's multi_logloss: 0.339329\n",
      "Early stopping, best iteration is:\n",
      "[608]\ttrain's multi_logloss: 0.32401\teval's multi_logloss: 0.339059\n"
     ]
    },
    {
     "name": "stderr",
     "output_type": "stream",
     "text": [
      "regularization_factors, val_score: 0.338988:  35%|#############3                        | 7/20 [00:02<00:04,  2.72it/s]\u001b[32m[I 2021-06-12 15:42:42,622]\u001b[0m Trial 46 finished with value: 0.33905916243730394 and parameters: {'lambda_l1': 0.00040503703784006243, 'lambda_l2': 1.910684642974086}. Best is trial 42 with value: 0.33898818466431363.\u001b[0m\n",
      "regularization_factors, val_score: 0.338988:  35%|#############3                        | 7/20 [00:02<00:04,  2.72it/s]"
     ]
    },
    {
     "name": "stdout",
     "output_type": "stream",
     "text": [
      "Training until validation scores don't improve for 10 rounds\n",
      "[100]\ttrain's multi_logloss: 0.419205\teval's multi_logloss: 0.409964\n",
      "[200]\ttrain's multi_logloss: 0.374262\teval's multi_logloss: 0.367719\n",
      "[300]\ttrain's multi_logloss: 0.353576\teval's multi_logloss: 0.353617\n"
     ]
    },
    {
     "name": "stderr",
     "output_type": "stream",
     "text": [
      "regularization_factors, val_score: 0.338900:  40%|###############2                      | 8/20 [00:02<00:04,  2.71it/s]\u001b[32m[I 2021-06-12 15:42:42,993]\u001b[0m Trial 47 finished with value: 0.3388995697351143 and parameters: {'lambda_l1': 0.06355614941580565, 'lambda_l2': 2.2737602165422017e-06}. Best is trial 47 with value: 0.3388995697351143.\u001b[0m\n",
      "regularization_factors, val_score: 0.338900:  40%|###############2                      | 8/20 [00:02<00:04,  2.71it/s]"
     ]
    },
    {
     "name": "stdout",
     "output_type": "stream",
     "text": [
      "[400]\ttrain's multi_logloss: 0.339122\teval's multi_logloss: 0.34585\n",
      "[500]\ttrain's multi_logloss: 0.328379\teval's multi_logloss: 0.341163\n",
      "[600]\ttrain's multi_logloss: 0.318598\teval's multi_logloss: 0.339154\n",
      "Early stopping, best iteration is:\n",
      "[614]\ttrain's multi_logloss: 0.317448\teval's multi_logloss: 0.3389\n",
      "Training until validation scores don't improve for 10 rounds\n",
      "[100]\ttrain's multi_logloss: 0.419059\teval's multi_logloss: 0.409855\n",
      "[200]\ttrain's multi_logloss: 0.373995\teval's multi_logloss: 0.367616\n",
      "[300]\ttrain's multi_logloss: 0.353264\teval's multi_logloss: 0.353503\n",
      "[400]\ttrain's multi_logloss: 0.338793\teval's multi_logloss: 0.345856\n",
      "[500]\ttrain's multi_logloss: 0.328037\teval's multi_logloss: 0.341175\n"
     ]
    },
    {
     "name": "stderr",
     "output_type": "stream",
     "text": [
      "regularization_factors, val_score: 0.338900:  45%|#################1                    | 9/20 [00:03<00:04,  2.70it/s]\u001b[32m[I 2021-06-12 15:42:43,369]\u001b[0m Trial 48 finished with value: 0.3389882017197099 and parameters: {'lambda_l1': 1.6743029305738102e-05, 'lambda_l2': 1.2591312815136318e-07}. Best is trial 47 with value: 0.3388995697351143.\u001b[0m\n",
      "regularization_factors, val_score: 0.338900:  45%|#################1                    | 9/20 [00:03<00:04,  2.70it/s]"
     ]
    },
    {
     "name": "stdout",
     "output_type": "stream",
     "text": [
      "[600]\ttrain's multi_logloss: 0.318256\teval's multi_logloss: 0.339236\n",
      "Early stopping, best iteration is:\n",
      "[614]\ttrain's multi_logloss: 0.317098\teval's multi_logloss: 0.338988\n",
      "Training until validation scores don't improve for 10 rounds\n",
      "[100]\ttrain's multi_logloss: 0.419403\teval's multi_logloss: 0.410167\n",
      "[200]\ttrain's multi_logloss: 0.37459\teval's multi_logloss: 0.368006\n"
     ]
    },
    {
     "name": "stderr",
     "output_type": "stream",
     "text": [
      "regularization_factors, val_score: 0.338900:  50%|##################5                  | 10/20 [00:03<00:03,  2.97it/s]\u001b[32m[I 2021-06-12 15:42:43,629]\u001b[0m Trial 49 finished with value: 0.3460620233251878 and parameters: {'lambda_l1': 0.15066880301208974, 'lambda_l2': 1.1650251297260964e-06}. Best is trial 47 with value: 0.3388995697351143.\u001b[0m\n",
      "regularization_factors, val_score: 0.338900:  50%|##################5                  | 10/20 [00:03<00:03,  2.97it/s]"
     ]
    },
    {
     "name": "stdout",
     "output_type": "stream",
     "text": [
      "[300]\ttrain's multi_logloss: 0.354014\teval's multi_logloss: 0.353844\n",
      "Early stopping, best iteration is:\n",
      "[388]\ttrain's multi_logloss: 0.341143\teval's multi_logloss: 0.346062\n",
      "Training until validation scores don't improve for 10 rounds\n",
      "[100]\ttrain's multi_logloss: 0.429939\teval's multi_logloss: 0.420569\n",
      "[200]\ttrain's multi_logloss: 0.387117\teval's multi_logloss: 0.37788\n",
      "[300]\ttrain's multi_logloss: 0.369846\teval's multi_logloss: 0.363894\n"
     ]
    },
    {
     "name": "stderr",
     "output_type": "stream",
     "text": [
      "regularization_factors, val_score: 0.338900:  55%|####################3                | 11/20 [00:04<00:03,  2.45it/s]\u001b[32m[I 2021-06-12 15:42:44,198]\u001b[0m Trial 50 finished with value: 0.3479591457931257 and parameters: {'lambda_l1': 4.257305520476654, 'lambda_l2': 0.3653793011915897}. Best is trial 47 with value: 0.3388995697351143.\u001b[0m\n",
      "regularization_factors, val_score: 0.338900:  55%|####################3                | 11/20 [00:04<00:03,  2.45it/s]"
     ]
    },
    {
     "name": "stdout",
     "output_type": "stream",
     "text": [
      "[400]\ttrain's multi_logloss: 0.35908\teval's multi_logloss: 0.35639\n",
      "[500]\ttrain's multi_logloss: 0.351549\teval's multi_logloss: 0.351377\n",
      "[600]\ttrain's multi_logloss: 0.3457\teval's multi_logloss: 0.348483\n",
      "Early stopping, best iteration is:\n",
      "[625]\ttrain's multi_logloss: 0.344558\teval's multi_logloss: 0.347959\n",
      "Training until validation scores don't improve for 10 rounds\n",
      "[100]\ttrain's multi_logloss: 0.419059\teval's multi_logloss: 0.409855\n",
      "[200]\ttrain's multi_logloss: 0.373995\teval's multi_logloss: 0.367616\n",
      "[300]\ttrain's multi_logloss: 0.353264\teval's multi_logloss: 0.353503\n",
      "[400]\ttrain's multi_logloss: 0.338793\teval's multi_logloss: 0.345856\n",
      "[500]\ttrain's multi_logloss: 0.328036\teval's multi_logloss: 0.341175\n"
     ]
    },
    {
     "name": "stderr",
     "output_type": "stream",
     "text": [
      "regularization_factors, val_score: 0.338900:  60%|######################2              | 12/20 [00:04<00:03,  2.50it/s]\u001b[32m[I 2021-06-12 15:42:44,580]\u001b[0m Trial 51 finished with value: 0.3389881830751921 and parameters: {'lambda_l1': 2.7869719104861346e-08, 'lambda_l2': 1.061978814386205e-08}. Best is trial 47 with value: 0.3388995697351143.\u001b[0m\n",
      "regularization_factors, val_score: 0.338900:  60%|######################2              | 12/20 [00:04<00:03,  2.50it/s]"
     ]
    },
    {
     "name": "stdout",
     "output_type": "stream",
     "text": [
      "[600]\ttrain's multi_logloss: 0.318256\teval's multi_logloss: 0.339236\n",
      "Early stopping, best iteration is:\n",
      "[614]\ttrain's multi_logloss: 0.317098\teval's multi_logloss: 0.338988\n",
      "Training until validation scores don't improve for 10 rounds\n",
      "[100]\ttrain's multi_logloss: 0.419059\teval's multi_logloss: 0.409855\n",
      "[200]\ttrain's multi_logloss: 0.373995\teval's multi_logloss: 0.367616\n"
     ]
    },
    {
     "name": "stderr",
     "output_type": "stream",
     "text": [
      "\r",
      "regularization_factors, val_score: 0.338900:  60%|######################2              | 12/20 [00:04<00:03,  2.50it/s]"
     ]
    },
    {
     "name": "stdout",
     "output_type": "stream",
     "text": [
      "[300]\ttrain's multi_logloss: 0.353264\teval's multi_logloss: 0.353503\n",
      "[400]\ttrain's multi_logloss: 0.338793\teval's multi_logloss: 0.345856\n",
      "[500]\ttrain's multi_logloss: 0.328036\teval's multi_logloss: 0.341175\n",
      "[600]\ttrain's multi_logloss: 0.318256\teval's multi_logloss: 0.339236\n",
      "Early stopping, best iteration is:\n",
      "[614]\ttrain's multi_logloss: 0.317098\teval's multi_logloss: 0.338988\n"
     ]
    },
    {
     "name": "stderr",
     "output_type": "stream",
     "text": [
      "regularization_factors, val_score: 0.338900:  65%|########################             | 13/20 [00:04<00:02,  2.53it/s]\u001b[32m[I 2021-06-12 15:42:44,965]\u001b[0m Trial 52 finished with value: 0.3389881830669527 and parameters: {'lambda_l1': 2.1426810603715e-08, 'lambda_l2': 1.101924788987067e-08}. Best is trial 47 with value: 0.3388995697351143.\u001b[0m\n",
      "regularization_factors, val_score: 0.338900:  65%|########################             | 13/20 [00:04<00:02,  2.53it/s]"
     ]
    },
    {
     "name": "stdout",
     "output_type": "stream",
     "text": [
      "Training until validation scores don't improve for 10 rounds\n",
      "[100]\ttrain's multi_logloss: 0.42046\teval's multi_logloss: 0.411164\n",
      "[200]\ttrain's multi_logloss: 0.375815\teval's multi_logloss: 0.368945\n",
      "[300]\ttrain's multi_logloss: 0.355481\teval's multi_logloss: 0.354826\n"
     ]
    },
    {
     "name": "stderr",
     "output_type": "stream",
     "text": [
      "regularization_factors, val_score: 0.338701:  70%|#########################9           | 14/20 [00:05<00:02,  2.55it/s]\u001b[32m[I 2021-06-12 15:42:45,347]\u001b[0m Trial 53 finished with value: 0.3387009348929577 and parameters: {'lambda_l1': 0.5689895616589934, 'lambda_l2': 9.334034087610108e-05}. Best is trial 53 with value: 0.3387009348929577.\u001b[0m\n",
      "regularization_factors, val_score: 0.338701:  70%|#########################9           | 14/20 [00:05<00:02,  2.55it/s]"
     ]
    },
    {
     "name": "stdout",
     "output_type": "stream",
     "text": [
      "[400]\ttrain's multi_logloss: 0.341579\teval's multi_logloss: 0.346798\n",
      "[500]\ttrain's multi_logloss: 0.33117\teval's multi_logloss: 0.341749\n",
      "[600]\ttrain's multi_logloss: 0.321967\teval's multi_logloss: 0.338995\n",
      "Early stopping, best iteration is:\n",
      "[615]\ttrain's multi_logloss: 0.320872\teval's multi_logloss: 0.338701\n",
      "Training until validation scores don't improve for 10 rounds\n",
      "[100]\ttrain's multi_logloss: 0.440456\teval's multi_logloss: 0.431333\n",
      "[200]\ttrain's multi_logloss: 0.399573\teval's multi_logloss: 0.389004\n",
      "[300]\ttrain's multi_logloss: 0.384699\teval's multi_logloss: 0.374242\n",
      "[400]\ttrain's multi_logloss: 0.377029\teval's multi_logloss: 0.367956\n",
      "[500]\ttrain's multi_logloss: 0.372233\teval's multi_logloss: 0.363735\n",
      "[600]\ttrain's multi_logloss: 0.369333\teval's multi_logloss: 0.361113\n",
      "[700]\ttrain's multi_logloss: 0.367632\teval's multi_logloss: 0.35991\n",
      "[800]\ttrain's multi_logloss: 0.365752\teval's multi_logloss: 0.358395\n",
      "[900]\ttrain's multi_logloss: 0.364291\teval's multi_logloss: 0.35741\n",
      "Early stopping, best iteration is:\n",
      "[901]\ttrain's multi_logloss: 0.364284\teval's multi_logloss: 0.357398\n"
     ]
    },
    {
     "name": "stderr",
     "output_type": "stream",
     "text": [
      "regularization_factors, val_score: 0.338701:  75%|###########################7         | 15/20 [00:05<00:02,  2.30it/s]\u001b[32m[I 2021-06-12 15:42:45,883]\u001b[0m Trial 54 finished with value: 0.3573977480323052 and parameters: {'lambda_l1': 9.790221207708539, 'lambda_l2': 9.039174744886332e-05}. Best is trial 53 with value: 0.3387009348929577.\u001b[0m\n",
      "regularization_factors, val_score: 0.338701:  75%|###########################7         | 15/20 [00:05<00:02,  2.30it/s]"
     ]
    },
    {
     "name": "stdout",
     "output_type": "stream",
     "text": [
      "Training until validation scores don't improve for 10 rounds\n",
      "[100]\ttrain's multi_logloss: 0.420113\teval's multi_logloss: 0.4109\n",
      "[200]\ttrain's multi_logloss: 0.375465\teval's multi_logloss: 0.368617\n",
      "[300]\ttrain's multi_logloss: 0.355108\teval's multi_logloss: 0.354627\n"
     ]
    },
    {
     "name": "stderr",
     "output_type": "stream",
     "text": [
      "regularization_factors, val_score: 0.338701:  80%|#############################6       | 16/20 [00:06<00:01,  2.42it/s]\u001b[32m[I 2021-06-12 15:42:46,244]\u001b[0m Trial 55 finished with value: 0.3395996226302033 and parameters: {'lambda_l1': 0.4162623900246259, 'lambda_l2': 0.030566763610607072}. Best is trial 53 with value: 0.3387009348929577.\u001b[0m\n",
      "regularization_factors, val_score: 0.338701:  80%|#############################6       | 16/20 [00:06<00:01,  2.42it/s]"
     ]
    },
    {
     "name": "stdout",
     "output_type": "stream",
     "text": [
      "[400]\ttrain's multi_logloss: 0.340838\teval's multi_logloss: 0.346535\n",
      "[500]\ttrain's multi_logloss: 0.330397\teval's multi_logloss: 0.341429\n",
      "Early stopping, best iteration is:\n",
      "[570]\ttrain's multi_logloss: 0.323635\teval's multi_logloss: 0.3396\n",
      "Training until validation scores don't improve for 10 rounds\n",
      "[100]\ttrain's multi_logloss: 0.419121\teval's multi_logloss: 0.409878\n",
      "[200]\ttrain's multi_logloss: 0.374103\teval's multi_logloss: 0.367775\n",
      "[300]\ttrain's multi_logloss: 0.353361\teval's multi_logloss: 0.353547\n",
      "[400]\ttrain's multi_logloss: 0.338913\teval's multi_logloss: 0.345775\n",
      "[500]\ttrain's multi_logloss: 0.328178\teval's multi_logloss: 0.341087\n",
      "[600]\ttrain's multi_logloss: 0.31841\teval's multi_logloss: 0.339197\n"
     ]
    },
    {
     "name": "stderr",
     "output_type": "stream",
     "text": [
      "regularization_factors, val_score: 0.338701:  85%|###############################4     | 17/20 [00:06<00:01,  2.47it/s]\u001b[32m[I 2021-06-12 15:42:46,629]\u001b[0m Trial 56 finished with value: 0.33893598821269916 and parameters: {'lambda_l1': 0.027721607855181185, 'lambda_l2': 0.00012972945806276388}. Best is trial 53 with value: 0.3387009348929577.\u001b[0m\n",
      "regularization_factors, val_score: 0.338701:  85%|###############################4     | 17/20 [00:06<00:01,  2.47it/s]"
     ]
    },
    {
     "name": "stdout",
     "output_type": "stream",
     "text": [
      "Early stopping, best iteration is:\n",
      "[614]\ttrain's multi_logloss: 0.317262\teval's multi_logloss: 0.338936\n",
      "Training until validation scores don't improve for 10 rounds\n",
      "[100]\ttrain's multi_logloss: 0.421885\teval's multi_logloss: 0.412828\n",
      "[200]\ttrain's multi_logloss: 0.377516\teval's multi_logloss: 0.370486\n"
     ]
    },
    {
     "name": "stderr",
     "output_type": "stream",
     "text": [
      "\r",
      "regularization_factors, val_score: 0.338701:  85%|###############################4     | 17/20 [00:06<00:01,  2.47it/s]"
     ]
    },
    {
     "name": "stdout",
     "output_type": "stream",
     "text": [
      "[300]\ttrain's multi_logloss: 0.357731\teval's multi_logloss: 0.356743\n",
      "[400]\ttrain's multi_logloss: 0.344514\teval's multi_logloss: 0.348087\n",
      "[500]\ttrain's multi_logloss: 0.334386\teval's multi_logloss: 0.342964\n",
      "[600]\ttrain's multi_logloss: 0.325948\teval's multi_logloss: 0.339829\n",
      "Early stopping, best iteration is:\n",
      "[605]\ttrain's multi_logloss: 0.325554\teval's multi_logloss: 0.339576\n"
     ]
    },
    {
     "name": "stderr",
     "output_type": "stream",
     "text": [
      "regularization_factors, val_score: 0.338701:  90%|#################################3   | 18/20 [00:06<00:00,  2.52it/s]\u001b[32m[I 2021-06-12 15:42:47,009]\u001b[0m Trial 57 finished with value: 0.33957584617018205 and parameters: {'lambda_l1': 1.1420807063547391, 'lambda_l2': 1.2261661144460493e-07}. Best is trial 53 with value: 0.3387009348929577.\u001b[0m\n",
      "regularization_factors, val_score: 0.338701:  90%|#################################3   | 18/20 [00:06<00:00,  2.52it/s]"
     ]
    },
    {
     "name": "stdout",
     "output_type": "stream",
     "text": [
      "Training until validation scores don't improve for 10 rounds\n",
      "[100]\ttrain's multi_logloss: 0.419139\teval's multi_logloss: 0.409895\n",
      "[200]\ttrain's multi_logloss: 0.374125\teval's multi_logloss: 0.36779\n",
      "[300]\ttrain's multi_logloss: 0.353394\teval's multi_logloss: 0.353607\n"
     ]
    },
    {
     "name": "stderr",
     "output_type": "stream",
     "text": [
      "regularization_factors, val_score: 0.338701:  95%|###################################1 | 19/20 [00:07<00:00,  2.64it/s]\u001b[32m[I 2021-06-12 15:42:47,346]\u001b[0m Trial 58 finished with value: 0.3401543918212616 and parameters: {'lambda_l1': 0.035606547000449365, 'lambda_l2': 3.819639741178888e-05}. Best is trial 53 with value: 0.3387009348929577.\u001b[0m\n",
      "regularization_factors, val_score: 0.338701:  95%|###################################1 | 19/20 [00:07<00:00,  2.64it/s]"
     ]
    },
    {
     "name": "stdout",
     "output_type": "stream",
     "text": [
      "[400]\ttrain's multi_logloss: 0.338975\teval's multi_logloss: 0.345689\n",
      "[500]\ttrain's multi_logloss: 0.328215\teval's multi_logloss: 0.340995\n",
      "Early stopping, best iteration is:\n",
      "[533]\ttrain's multi_logloss: 0.32489\teval's multi_logloss: 0.340154\n",
      "Training until validation scores don't improve for 10 rounds\n",
      "[100]\ttrain's multi_logloss: 0.419079\teval's multi_logloss: 0.409873\n",
      "[200]\ttrain's multi_logloss: 0.374019\teval's multi_logloss: 0.367633\n",
      "[300]\ttrain's multi_logloss: 0.353295\teval's multi_logloss: 0.353607\n",
      "[400]\ttrain's multi_logloss: 0.338864\teval's multi_logloss: 0.34582\n"
     ]
    },
    {
     "name": "stderr",
     "output_type": "stream",
     "text": [
      "regularization_factors, val_score: 0.338701: 100%|#####################################| 20/20 [00:08<00:00,  1.82it/s]\u001b[32m[I 2021-06-12 15:42:48,297]\u001b[0m Trial 59 finished with value: 0.3402311911663062 and parameters: {'lambda_l1': 0.007400069625432902, 'lambda_l2': 0.0013285868575697252}. Best is trial 53 with value: 0.3387009348929577.\u001b[0m\n",
      "regularization_factors, val_score: 0.338701: 100%|#####################################| 20/20 [00:08<00:00,  2.42it/s]\n",
      "min_data_in_leaf, val_score: 0.338701:   0%|                                                     | 0/5 [00:00<?, ?it/s]"
     ]
    },
    {
     "name": "stdout",
     "output_type": "stream",
     "text": [
      "[500]\ttrain's multi_logloss: 0.328117\teval's multi_logloss: 0.341074\n",
      "Early stopping, best iteration is:\n",
      "[533]\ttrain's multi_logloss: 0.324792\teval's multi_logloss: 0.340231\n",
      "Training until validation scores don't improve for 10 rounds\n",
      "[100]\ttrain's multi_logloss: 0.420333\teval's multi_logloss: 0.411286\n",
      "[200]\ttrain's multi_logloss: 0.375708\teval's multi_logloss: 0.36884\n"
     ]
    },
    {
     "name": "stderr",
     "output_type": "stream",
     "text": [
      "\r",
      "min_data_in_leaf, val_score: 0.337837:   0%|                                                     | 0/5 [00:00<?, ?it/s]"
     ]
    },
    {
     "name": "stdout",
     "output_type": "stream",
     "text": [
      "[300]\ttrain's multi_logloss: 0.35535\teval's multi_logloss: 0.353971\n",
      "[400]\ttrain's multi_logloss: 0.341441\teval's multi_logloss: 0.345369\n",
      "[500]\ttrain's multi_logloss: 0.330656\teval's multi_logloss: 0.339787\n",
      "Early stopping, best iteration is:\n",
      "[569]\ttrain's multi_logloss: 0.323716\teval's multi_logloss: 0.337837\n"
     ]
    },
    {
     "name": "stderr",
     "output_type": "stream",
     "text": [
      "min_data_in_leaf, val_score: 0.337837:  20%|#########                                    | 1/5 [00:00<00:01,  2.70it/s]\u001b[32m[I 2021-06-12 15:42:48,674]\u001b[0m Trial 60 finished with value: 0.3378367661165314 and parameters: {'min_child_samples': 10}. Best is trial 60 with value: 0.3378367661165314.\u001b[0m\n",
      "min_data_in_leaf, val_score: 0.337837:  20%|#########                                    | 1/5 [00:00<00:01,  2.70it/s]"
     ]
    },
    {
     "name": "stdout",
     "output_type": "stream",
     "text": [
      "Training until validation scores don't improve for 10 rounds\n",
      "[100]\ttrain's multi_logloss: 0.421129\teval's multi_logloss: 0.411566\n",
      "[200]\ttrain's multi_logloss: 0.376953\teval's multi_logloss: 0.369366\n",
      "[300]\ttrain's multi_logloss: 0.357373\teval's multi_logloss: 0.354667\n"
     ]
    },
    {
     "name": "stderr",
     "output_type": "stream",
     "text": [
      "min_data_in_leaf, val_score: 0.337837:  40%|##################                           | 2/5 [00:00<00:01,  2.80it/s]\u001b[32m[I 2021-06-12 15:42:49,024]\u001b[0m Trial 61 finished with value: 0.3393276390362601 and parameters: {'min_child_samples': 50}. Best is trial 60 with value: 0.3378367661165314.\u001b[0m\n",
      "min_data_in_leaf, val_score: 0.337837:  40%|##################                           | 2/5 [00:00<00:01,  2.80it/s]"
     ]
    },
    {
     "name": "stdout",
     "output_type": "stream",
     "text": [
      "[400]\ttrain's multi_logloss: 0.343994\teval's multi_logloss: 0.346474\n",
      "[500]\ttrain's multi_logloss: 0.334062\teval's multi_logloss: 0.341275\n",
      "Early stopping, best iteration is:\n",
      "[570]\ttrain's multi_logloss: 0.328483\teval's multi_logloss: 0.339328\n",
      "Training until validation scores don't improve for 10 rounds\n",
      "[100]\ttrain's multi_logloss: 0.42058\teval's multi_logloss: 0.411424\n"
     ]
    },
    {
     "name": "stderr",
     "output_type": "stream",
     "text": [
      "min_data_in_leaf, val_score: 0.337837:  60%|###########################                  | 3/5 [00:00<00:00,  3.26it/s]\u001b[32m[I 2021-06-12 15:42:49,270]\u001b[0m Trial 62 finished with value: 0.346740363981923 and parameters: {'min_child_samples': 25}. Best is trial 60 with value: 0.3378367661165314.\u001b[0m\n",
      "min_data_in_leaf, val_score: 0.337837:  60%|###########################                  | 3/5 [00:00<00:00,  3.26it/s]"
     ]
    },
    {
     "name": "stdout",
     "output_type": "stream",
     "text": [
      "[200]\ttrain's multi_logloss: 0.376063\teval's multi_logloss: 0.369157\n",
      "[300]\ttrain's multi_logloss: 0.356193\teval's multi_logloss: 0.354674\n",
      "Early stopping, best iteration is:\n",
      "[385]\ttrain's multi_logloss: 0.344025\teval's multi_logloss: 0.34674\n",
      "Training until validation scores don't improve for 10 rounds\n",
      "[100]\ttrain's multi_logloss: 0.42033\teval's multi_logloss: 0.411298\n",
      "[200]\ttrain's multi_logloss: 0.375608\teval's multi_logloss: 0.368494\n",
      "[300]\ttrain's multi_logloss: 0.355311\teval's multi_logloss: 0.354063\n",
      "[400]\ttrain's multi_logloss: 0.341429\teval's multi_logloss: 0.345357\n",
      "[500]\ttrain's multi_logloss: 0.33047\teval's multi_logloss: 0.339731\n",
      "Early stopping, best iteration is:\n",
      "[570]\ttrain's multi_logloss: 0.323476\teval's multi_logloss: 0.337639\n"
     ]
    },
    {
     "name": "stderr",
     "output_type": "stream",
     "text": [
      "min_data_in_leaf, val_score: 0.337639:  80%|####################################         | 4/5 [00:01<00:00,  3.05it/s]\u001b[32m[I 2021-06-12 15:42:49,627]\u001b[0m Trial 63 finished with value: 0.337639351321238 and parameters: {'min_child_samples': 5}. Best is trial 63 with value: 0.337639351321238.\u001b[0m\n",
      "min_data_in_leaf, val_score: 0.337639:  80%|####################################         | 4/5 [00:01<00:00,  3.05it/s]"
     ]
    },
    {
     "name": "stdout",
     "output_type": "stream",
     "text": [
      "Training until validation scores don't improve for 10 rounds\n",
      "[100]\ttrain's multi_logloss: 0.427349\teval's multi_logloss: 0.417674\n",
      "[200]\ttrain's multi_logloss: 0.382355\teval's multi_logloss: 0.372508\n",
      "[300]\ttrain's multi_logloss: 0.362528\teval's multi_logloss: 0.356474\n",
      "[400]\ttrain's multi_logloss: 0.350056\teval's multi_logloss: 0.347833\n"
     ]
    },
    {
     "name": "stderr",
     "output_type": "stream",
     "text": [
      "min_data_in_leaf, val_score: 0.337639: 100%|#############################################| 5/5 [00:01<00:00,  3.16it/s]\u001b[32m[I 2021-06-12 15:42:49,928]\u001b[0m Trial 64 finished with value: 0.34349582205483103 and parameters: {'min_child_samples': 100}. Best is trial 63 with value: 0.337639351321238.\u001b[0m\n",
      "min_data_in_leaf, val_score: 0.337639: 100%|#############################################| 5/5 [00:01<00:00,  3.07it/s]\n",
      "\u001b[32m[I 2021-06-12 15:42:49,951]\u001b[0m A new study created in memory with name: no-name-64c2825e-9249-4e08-82e1-c5ba82c0d7e6\u001b[0m\n",
      "feature_fraction, val_score: inf:   0%|                                                          | 0/7 [00:00<?, ?it/s]"
     ]
    },
    {
     "name": "stdout",
     "output_type": "stream",
     "text": [
      "Early stopping, best iteration is:\n",
      "[489]\ttrain's multi_logloss: 0.34192\teval's multi_logloss: 0.343496\n",
      "Training until validation scores don't improve for 10 rounds\n",
      "[100]\ttrain's multi_logloss: 0.36707\teval's multi_logloss: 0.451458\n",
      "[200]\ttrain's multi_logloss: 0.257706\teval's multi_logloss: 0.408873\n"
     ]
    },
    {
     "name": "stderr",
     "output_type": "stream",
     "text": [
      "feature_fraction, val_score: 0.402452:  14%|######4                                      | 1/7 [00:00<00:04,  1.43it/s]\u001b[32m[I 2021-06-12 15:42:50,654]\u001b[0m Trial 0 finished with value: 0.40245197942123817 and parameters: {'feature_fraction': 0.5}. Best is trial 0 with value: 0.40245197942123817.\u001b[0m\n",
      "feature_fraction, val_score: 0.402452:  14%|######4                                      | 1/7 [00:00<00:04,  1.43it/s]"
     ]
    },
    {
     "name": "stdout",
     "output_type": "stream",
     "text": [
      "Early stopping, best iteration is:\n",
      "[255]\ttrain's multi_logloss: 0.216602\teval's multi_logloss: 0.402452\n",
      "Training until validation scores don't improve for 10 rounds\n",
      "[100]\ttrain's multi_logloss: 0.337058\teval's multi_logloss: 0.427805\n",
      "Early stopping, best iteration is:\n",
      "[186]\ttrain's multi_logloss: 0.243414\teval's multi_logloss: 0.399475"
     ]
    },
    {
     "name": "stderr",
     "output_type": "stream",
     "text": [
      "feature_fraction, val_score: 0.399475:  29%|############8                                | 2/7 [00:01<00:03,  1.66it/s]\u001b[32m[I 2021-06-12 15:42:51,192]\u001b[0m Trial 1 finished with value: 0.3994754830939341 and parameters: {'feature_fraction': 0.8}. Best is trial 1 with value: 0.3994754830939341.\u001b[0m\n",
      "feature_fraction, val_score: 0.399475:  29%|############8                                | 2/7 [00:01<00:03,  1.66it/s]"
     ]
    },
    {
     "name": "stdout",
     "output_type": "stream",
     "text": [
      "\n",
      "Training until validation scores don't improve for 10 rounds\n",
      "[100]\ttrain's multi_logloss: 0.324496\teval's multi_logloss: 0.414744\n",
      "Early stopping, best iteration is:\n",
      "[162]\ttrain's multi_logloss: 0.254027\teval's multi_logloss: 0.393984\n"
     ]
    },
    {
     "name": "stderr",
     "output_type": "stream",
     "text": [
      "feature_fraction, val_score: 0.393984:  43%|###################2                         | 3/7 [00:01<00:02,  1.86it/s]\u001b[32m[I 2021-06-12 15:42:51,651]\u001b[0m Trial 2 finished with value: 0.39398361285408334 and parameters: {'feature_fraction': 1.0}. Best is trial 2 with value: 0.39398361285408334.\u001b[0m\n",
      "feature_fraction, val_score: 0.393984:  43%|###################2                         | 3/7 [00:01<00:02,  1.86it/s]"
     ]
    },
    {
     "name": "stdout",
     "output_type": "stream",
     "text": [
      "Training until validation scores don't improve for 10 rounds\n",
      "[100]\ttrain's multi_logloss: 0.350671\teval's multi_logloss: 0.439889\n"
     ]
    },
    {
     "name": "stderr",
     "output_type": "stream",
     "text": [
      "feature_fraction, val_score: 0.393984:  57%|#########################7                   | 4/7 [00:02<00:01,  1.80it/s]\u001b[32m[I 2021-06-12 15:42:52,232]\u001b[0m Trial 3 finished with value: 0.40181241340254836 and parameters: {'feature_fraction': 0.7}. Best is trial 2 with value: 0.39398361285408334.\u001b[0m\n",
      "feature_fraction, val_score: 0.393984:  57%|#########################7                   | 4/7 [00:02<00:01,  1.80it/s]"
     ]
    },
    {
     "name": "stdout",
     "output_type": "stream",
     "text": [
      "[200]\ttrain's multi_logloss: 0.242147\teval's multi_logloss: 0.403067\n",
      "Early stopping, best iteration is:\n",
      "[217]\ttrain's multi_logloss: 0.229258\teval's multi_logloss: 0.401812\n",
      "Training until validation scores don't improve for 10 rounds\n",
      "[100]\ttrain's multi_logloss: 0.454417\teval's multi_logloss: 0.543045\n",
      "[200]\ttrain's multi_logloss: 0.34632\teval's multi_logloss: 0.50207\n"
     ]
    },
    {
     "name": "stderr",
     "output_type": "stream",
     "text": [
      "\r",
      "feature_fraction, val_score: 0.393984:  57%|#########################7                   | 4/7 [00:03<00:01,  1.80it/s]"
     ]
    },
    {
     "name": "stdout",
     "output_type": "stream",
     "text": [
      "[300]\ttrain's multi_logloss: 0.272053\teval's multi_logloss: 0.47636\n",
      "Early stopping, best iteration is:\n",
      "[302]\ttrain's multi_logloss: 0.270493\teval's multi_logloss: 0.475813\n"
     ]
    },
    {
     "name": "stderr",
     "output_type": "stream",
     "text": [
      "feature_fraction, val_score: 0.393984:  71%|################################1            | 5/7 [00:03<00:01,  1.58it/s]\u001b[32m[I 2021-06-12 15:42:53,003]\u001b[0m Trial 4 finished with value: 0.47581293041336775 and parameters: {'feature_fraction': 0.4}. Best is trial 2 with value: 0.39398361285408334.\u001b[0m\n",
      "feature_fraction, val_score: 0.393984:  71%|################################1            | 5/7 [00:03<00:01,  1.58it/s]"
     ]
    },
    {
     "name": "stdout",
     "output_type": "stream",
     "text": [
      "Training until validation scores don't improve for 10 rounds\n",
      "[100]\ttrain's multi_logloss: 0.36707\teval's multi_logloss: 0.451458\n",
      "[200]\ttrain's multi_logloss: 0.257706\teval's multi_logloss: 0.408873\n"
     ]
    },
    {
     "name": "stderr",
     "output_type": "stream",
     "text": [
      "feature_fraction, val_score: 0.393984:  86%|######################################5      | 6/7 [00:03<00:00,  1.54it/s]\u001b[32m[I 2021-06-12 15:42:53,684]\u001b[0m Trial 5 finished with value: 0.40245197942123817 and parameters: {'feature_fraction': 0.6}. Best is trial 2 with value: 0.39398361285408334.\u001b[0m\n",
      "feature_fraction, val_score: 0.393984:  86%|######################################5      | 6/7 [00:03<00:00,  1.54it/s]"
     ]
    },
    {
     "name": "stdout",
     "output_type": "stream",
     "text": [
      "Early stopping, best iteration is:\n",
      "[255]\ttrain's multi_logloss: 0.216602\teval's multi_logloss: 0.402452\n",
      "Training until validation scores don't improve for 10 rounds\n",
      "[100]\ttrain's multi_logloss: 0.328473\teval's multi_logloss: 0.416148\n",
      "Early stopping, best iteration is:\n",
      "[175]\ttrain's multi_logloss: 0.246022\teval's multi_logloss: 0.395688\n"
     ]
    },
    {
     "name": "stderr",
     "output_type": "stream",
     "text": [
      "feature_fraction, val_score: 0.393984: 100%|#############################################| 7/7 [00:04<00:00,  1.67it/s]\u001b[32m[I 2021-06-12 15:42:54,184]\u001b[0m Trial 6 finished with value: 0.3956881215002809 and parameters: {'feature_fraction': 0.8999999999999999}. Best is trial 2 with value: 0.39398361285408334.\u001b[0m\n",
      "feature_fraction, val_score: 0.393984: 100%|#############################################| 7/7 [00:04<00:00,  1.65it/s]\n",
      "num_leaves, val_score: 0.393984:   0%|                                                          | 0/20 [00:00<?, ?it/s]"
     ]
    },
    {
     "name": "stdout",
     "output_type": "stream",
     "text": [
      "Training until validation scores don't improve for 10 rounds\n",
      "[100]\ttrain's multi_logloss: 0.324496\teval's multi_logloss: 0.414744\n",
      "Early stopping, best iteration is:\n",
      "[163]\ttrain's multi_logloss: 0.253095\teval's multi_logloss: 0.393753\n"
     ]
    },
    {
     "name": "stderr",
     "output_type": "stream",
     "text": [
      "num_leaves, val_score: 0.393753:   5%|##5                                               | 1/20 [00:00<00:10,  1.87it/s]\u001b[32m[I 2021-06-12 15:42:54,725]\u001b[0m Trial 7 finished with value: 0.3937531279099705 and parameters: {'num_leaves': 82}. Best is trial 7 with value: 0.3937531279099705.\u001b[0m\n",
      "num_leaves, val_score: 0.393753:   5%|##5                                               | 1/20 [00:00<00:10,  1.87it/s]"
     ]
    },
    {
     "name": "stdout",
     "output_type": "stream",
     "text": [
      "Training until validation scores don't improve for 10 rounds\n",
      "[100]\ttrain's multi_logloss: 0.324496\teval's multi_logloss: 0.414744\n"
     ]
    },
    {
     "name": "stderr",
     "output_type": "stream",
     "text": [
      "num_leaves, val_score: 0.393753:  10%|#####                                             | 2/20 [00:01<00:10,  1.65it/s]\u001b[32m[I 2021-06-12 15:42:55,381]\u001b[0m Trial 8 finished with value: 0.3937531279099705 and parameters: {'num_leaves': 237}. Best is trial 7 with value: 0.3937531279099705.\u001b[0m\n",
      "num_leaves, val_score: 0.393753:  10%|#####                                             | 2/20 [00:01<00:10,  1.65it/s]"
     ]
    },
    {
     "name": "stdout",
     "output_type": "stream",
     "text": [
      "Early stopping, best iteration is:\n",
      "[163]\ttrain's multi_logloss: 0.253095\teval's multi_logloss: 0.393753\n",
      "Training until validation scores don't improve for 10 rounds\n",
      "[100]\ttrain's multi_logloss: 0.324496\teval's multi_logloss: 0.414744\n"
     ]
    },
    {
     "name": "stderr",
     "output_type": "stream",
     "text": [
      "num_leaves, val_score: 0.393753:  15%|#######5                                          | 3/20 [00:02<00:12,  1.40it/s]\u001b[32m[I 2021-06-12 15:42:56,223]\u001b[0m Trial 9 finished with value: 0.3937531279099705 and parameters: {'num_leaves': 195}. Best is trial 7 with value: 0.3937531279099705.\u001b[0m\n",
      "num_leaves, val_score: 0.393753:  15%|#######5                                          | 3/20 [00:02<00:12,  1.40it/s]"
     ]
    },
    {
     "name": "stdout",
     "output_type": "stream",
     "text": [
      "Early stopping, best iteration is:\n",
      "[163]\ttrain's multi_logloss: 0.253095\teval's multi_logloss: 0.393753\n",
      "Training until validation scores don't improve for 10 rounds\n",
      "[100]\ttrain's multi_logloss: 0.324496\teval's multi_logloss: 0.414744\n",
      "Early stopping, best iteration is:\n",
      "[163]\ttrain's multi_logloss: 0.253095\teval's multi_logloss: 0.393753\n"
     ]
    },
    {
     "name": "stderr",
     "output_type": "stream",
     "text": [
      "num_leaves, val_score: 0.393753:  20%|##########                                        | 4/20 [00:02<00:09,  1.60it/s]\u001b[32m[I 2021-06-12 15:42:56,710]\u001b[0m Trial 10 finished with value: 0.3937526975556334 and parameters: {'num_leaves': 42}. Best is trial 10 with value: 0.3937526975556334.\u001b[0m\n",
      "num_leaves, val_score: 0.393753:  20%|##########                                        | 4/20 [00:02<00:09,  1.60it/s]"
     ]
    },
    {
     "name": "stdout",
     "output_type": "stream",
     "text": [
      "Training until validation scores don't improve for 10 rounds\n",
      "[100]\ttrain's multi_logloss: 0.324496\teval's multi_logloss: 0.414744\n",
      "Early stopping, best iteration is:\n",
      "[163]\ttrain's multi_logloss: 0.253095\teval's multi_logloss: 0.393753\n"
     ]
    },
    {
     "name": "stderr",
     "output_type": "stream",
     "text": [
      "num_leaves, val_score: 0.393753:  25%|############5                                     | 5/20 [00:03<00:08,  1.72it/s]\u001b[32m[I 2021-06-12 15:42:57,216]\u001b[0m Trial 11 finished with value: 0.3937531279099705 and parameters: {'num_leaves': 178}. Best is trial 10 with value: 0.3937526975556334.\u001b[0m\n",
      "num_leaves, val_score: 0.393753:  25%|############5                                     | 5/20 [00:03<00:08,  1.72it/s]"
     ]
    },
    {
     "name": "stdout",
     "output_type": "stream",
     "text": [
      "Training until validation scores don't improve for 10 rounds\n",
      "[100]\ttrain's multi_logloss: 0.334693\teval's multi_logloss: 0.414616\n"
     ]
    },
    {
     "name": "stderr",
     "output_type": "stream",
     "text": [
      "num_leaves, val_score: 0.392106:  30%|###############                                   | 6/20 [00:03<00:06,  2.09it/s]\u001b[32m[I 2021-06-12 15:42:57,494]\u001b[0m Trial 12 finished with value: 0.39210618468277314 and parameters: {'num_leaves': 17}. Best is trial 12 with value: 0.39210618468277314.\u001b[0m\n",
      "num_leaves, val_score: 0.392106:  30%|###############                                   | 6/20 [00:03<00:06,  2.09it/s]"
     ]
    },
    {
     "name": "stdout",
     "output_type": "stream",
     "text": [
      "Early stopping, best iteration is:\n",
      "[165]\ttrain's multi_logloss: 0.27225\teval's multi_logloss: 0.392106\n",
      "Training until validation scores don't improve for 10 rounds\n",
      "[100]\ttrain's multi_logloss: 0.373048\teval's multi_logloss: 0.418734\n",
      "[200]\ttrain's multi_logloss: 0.316263\teval's multi_logloss: 0.392673\n"
     ]
    },
    {
     "name": "stderr",
     "output_type": "stream",
     "text": [
      "num_leaves, val_score: 0.392106:  35%|#################5                                | 7/20 [00:03<00:04,  2.63it/s]\u001b[32m[I 2021-06-12 15:42:57,673]\u001b[0m Trial 13 finished with value: 0.39267317551816017 and parameters: {'num_leaves': 6}. Best is trial 12 with value: 0.39210618468277314.\u001b[0m\n",
      "num_leaves, val_score: 0.392106:  35%|#################5                                | 7/20 [00:03<00:04,  2.63it/s]"
     ]
    },
    {
     "name": "stdout",
     "output_type": "stream",
     "text": [
      "Early stopping, best iteration is:\n",
      "[200]\ttrain's multi_logloss: 0.316263\teval's multi_logloss: 0.392673\n",
      "Training until validation scores don't improve for 10 rounds\n",
      "[100]\ttrain's multi_logloss: 0.324496\teval's multi_logloss: 0.414744\n",
      "Early stopping, best iteration is:\n",
      "[163]\ttrain's multi_logloss: 0.253095\teval's multi_logloss: 0.393753\n"
     ]
    },
    {
     "name": "stderr",
     "output_type": "stream",
     "text": [
      "num_leaves, val_score: 0.392106:  40%|####################                              | 8/20 [00:03<00:04,  2.41it/s]\u001b[32m[I 2021-06-12 15:42:58,161]\u001b[0m Trial 14 finished with value: 0.3937531279099705 and parameters: {'num_leaves': 148}. Best is trial 12 with value: 0.39210618468277314.\u001b[0m\n",
      "num_leaves, val_score: 0.392106:  40%|####################                              | 8/20 [00:03<00:04,  2.41it/s]"
     ]
    },
    {
     "name": "stdout",
     "output_type": "stream",
     "text": [
      "Training until validation scores don't improve for 10 rounds\n",
      "[100]\ttrain's multi_logloss: 0.324993\teval's multi_logloss: 0.414581\n"
     ]
    },
    {
     "name": "stderr",
     "output_type": "stream",
     "text": [
      "num_leaves, val_score: 0.392106:  45%|######################5                           | 9/20 [00:04<00:04,  2.47it/s]\u001b[32m[I 2021-06-12 15:42:58,546]\u001b[0m Trial 15 finished with value: 0.3939945824435526 and parameters: {'num_leaves': 28}. Best is trial 12 with value: 0.39210618468277314.\u001b[0m\n",
      "num_leaves, val_score: 0.392106:  45%|######################5                           | 9/20 [00:04<00:04,  2.47it/s]"
     ]
    },
    {
     "name": "stdout",
     "output_type": "stream",
     "text": [
      "Early stopping, best iteration is:\n",
      "[163]\ttrain's multi_logloss: 0.255381\teval's multi_logloss: 0.393995\n",
      "Training until validation scores don't improve for 10 rounds\n",
      "[100]\ttrain's multi_logloss: 0.324496\teval's multi_logloss: 0.414744\n",
      "Early stopping, best iteration is:\n",
      "[163]\ttrain's multi_logloss: 0.253095\teval's multi_logloss: 0.393753\n"
     ]
    },
    {
     "name": "stderr",
     "output_type": "stream",
     "text": [
      "num_leaves, val_score: 0.392106:  50%|########################5                        | 10/20 [00:04<00:04,  2.32it/s]\u001b[32m[I 2021-06-12 15:42:59,036]\u001b[0m Trial 16 finished with value: 0.3937531279099705 and parameters: {'num_leaves': 165}. Best is trial 12 with value: 0.39210618468277314.\u001b[0m\n",
      "num_leaves, val_score: 0.392106:  50%|########################5                        | 10/20 [00:04<00:04,  2.32it/s]"
     ]
    },
    {
     "name": "stdout",
     "output_type": "stream",
     "text": [
      "Training until validation scores don't improve for 10 rounds\n",
      "[100]\ttrain's multi_logloss: 0.324496\teval's multi_logloss: 0.414744\n"
     ]
    },
    {
     "name": "stderr",
     "output_type": "stream",
     "text": [
      "num_leaves, val_score: 0.392106:  55%|##########################9                      | 11/20 [00:05<00:04,  2.24it/s]\u001b[32m[I 2021-06-12 15:42:59,515]\u001b[0m Trial 17 finished with value: 0.3937531279099705 and parameters: {'num_leaves': 100}. Best is trial 12 with value: 0.39210618468277314.\u001b[0m\n",
      "num_leaves, val_score: 0.392106:  55%|##########################9                      | 11/20 [00:05<00:04,  2.24it/s]"
     ]
    },
    {
     "name": "stdout",
     "output_type": "stream",
     "text": [
      "Early stopping, best iteration is:\n",
      "[163]\ttrain's multi_logloss: 0.253095\teval's multi_logloss: 0.393753\n",
      "Training until validation scores don't improve for 10 rounds\n",
      "[100]\ttrain's multi_logloss: 0.449913\teval's multi_logloss: 0.476509\n",
      "[200]\ttrain's multi_logloss: 0.402851\teval's multi_logloss: 0.436196\n"
     ]
    },
    {
     "name": "stderr",
     "output_type": "stream",
     "text": [
      "num_leaves, val_score: 0.392106:  60%|#############################4                   | 12/20 [00:05<00:03,  2.50it/s]\u001b[32m[I 2021-06-12 15:42:59,808]\u001b[0m Trial 18 finished with value: 0.39450071403765113 and parameters: {'num_leaves': 2}. Best is trial 12 with value: 0.39210618468277314.\u001b[0m\n",
      "num_leaves, val_score: 0.392106:  60%|#############################4                   | 12/20 [00:05<00:03,  2.50it/s]"
     ]
    },
    {
     "name": "stdout",
     "output_type": "stream",
     "text": [
      "[300]\ttrain's multi_logloss: 0.380579\teval's multi_logloss: 0.418598\n",
      "[400]\ttrain's multi_logloss: 0.366782\teval's multi_logloss: 0.406227\n",
      "[500]\ttrain's multi_logloss: 0.356861\teval's multi_logloss: 0.399163\n",
      "Early stopping, best iteration is:\n",
      "[585]\ttrain's multi_logloss: 0.350087\teval's multi_logloss: 0.394501\n",
      "Training until validation scores don't improve for 10 rounds\n",
      "[100]\ttrain's multi_logloss: 0.449913\teval's multi_logloss: 0.476509\n",
      "[200]\ttrain's multi_logloss: 0.402851\teval's multi_logloss: 0.436196\n",
      "[300]\ttrain's multi_logloss: 0.380579\teval's multi_logloss: 0.418598\n",
      "[400]\ttrain's multi_logloss: 0.366782\teval's multi_logloss: 0.406227\n",
      "[500]\ttrain's multi_logloss: 0.356861\teval's multi_logloss: 0.399163\n"
     ]
    },
    {
     "name": "stderr",
     "output_type": "stream",
     "text": [
      "num_leaves, val_score: 0.392106:  65%|###############################8                 | 13/20 [00:05<00:02,  2.69it/s]\u001b[32m[I 2021-06-12 15:43:00,116]\u001b[0m Trial 19 finished with value: 0.39450071403765113 and parameters: {'num_leaves': 2}. Best is trial 12 with value: 0.39210618468277314.\u001b[0m\n",
      "num_leaves, val_score: 0.392106:  65%|###############################8                 | 13/20 [00:05<00:02,  2.69it/s]"
     ]
    },
    {
     "name": "stdout",
     "output_type": "stream",
     "text": [
      "Early stopping, best iteration is:\n",
      "[585]\ttrain's multi_logloss: 0.350087\teval's multi_logloss: 0.394501\n",
      "Training until validation scores don't improve for 10 rounds\n",
      "[100]\ttrain's multi_logloss: 0.324496\teval's multi_logloss: 0.414744\n",
      "Early stopping, best iteration is:\n",
      "[163]\ttrain's multi_logloss: 0.253095\teval's multi_logloss: 0.393753\n"
     ]
    },
    {
     "name": "stderr",
     "output_type": "stream",
     "text": [
      "num_leaves, val_score: 0.392106:  70%|##################################3              | 14/20 [00:06<00:02,  2.47it/s]\u001b[32m[I 2021-06-12 15:43:00,598]\u001b[0m Trial 20 finished with value: 0.3937531279099705 and parameters: {'num_leaves': 57}. Best is trial 12 with value: 0.39210618468277314.\u001b[0m\n",
      "num_leaves, val_score: 0.392106:  75%|####################################7            | 15/20 [00:06<00:01,  3.02it/s]\u001b[32m[I 2021-06-12 15:43:00,757]\u001b[0m Trial 21 finished with value: 0.3950318525294881 and parameters: {'num_leaves': 7}. Best is trial 12 with value: 0.39210618468277314.\u001b[0m\n",
      "num_leaves, val_score: 0.392106:  75%|####################################7            | 15/20 [00:06<00:01,  3.02it/s]"
     ]
    },
    {
     "name": "stdout",
     "output_type": "stream",
     "text": [
      "Training until validation scores don't improve for 10 rounds\n",
      "[100]\ttrain's multi_logloss: 0.368156\teval's multi_logloss: 0.416813\n",
      "Early stopping, best iteration is:\n",
      "[160]\ttrain's multi_logloss: 0.325361\teval's multi_logloss: 0.395032\n",
      "Training until validation scores don't improve for 10 rounds\n",
      "[100]\ttrain's multi_logloss: 0.324496\teval's multi_logloss: 0.414744\n",
      "Early stopping, best iteration is:\n",
      "[163]\ttrain's multi_logloss: 0.253095\teval's multi_logloss: 0.393753\n"
     ]
    },
    {
     "name": "stderr",
     "output_type": "stream",
     "text": [
      "num_leaves, val_score: 0.392106:  80%|#######################################2         | 16/20 [00:07<00:01,  2.56it/s]\u001b[32m[I 2021-06-12 15:43:01,287]\u001b[0m Trial 22 finished with value: 0.3937531279099705 and parameters: {'num_leaves': 99}. Best is trial 12 with value: 0.39210618468277314.\u001b[0m\n",
      "num_leaves, val_score: 0.392106:  80%|#######################################2         | 16/20 [00:07<00:01,  2.56it/s]"
     ]
    },
    {
     "name": "stdout",
     "output_type": "stream",
     "text": [
      "Training until validation scores don't improve for 10 rounds\n",
      "[100]\ttrain's multi_logloss: 0.324496\teval's multi_logloss: 0.414744\n",
      "Early stopping, best iteration is:\n",
      "[163]\ttrain's multi_logloss: 0.253095\teval's multi_logloss: 0.393753\n"
     ]
    },
    {
     "name": "stderr",
     "output_type": "stream",
     "text": [
      "num_leaves, val_score: 0.392106:  85%|#########################################6       | 17/20 [00:07<00:01,  2.29it/s]\u001b[32m[I 2021-06-12 15:43:01,832]\u001b[0m Trial 23 finished with value: 0.3937531279099705 and parameters: {'num_leaves': 63}. Best is trial 12 with value: 0.39210618468277314.\u001b[0m\n",
      "num_leaves, val_score: 0.392106:  85%|#########################################6       | 17/20 [00:07<00:01,  2.29it/s]"
     ]
    },
    {
     "name": "stdout",
     "output_type": "stream",
     "text": [
      "Training until validation scores don't improve for 10 rounds\n"
     ]
    },
    {
     "name": "stderr",
     "output_type": "stream",
     "text": [
      "\r",
      "num_leaves, val_score: 0.392106:  85%|#########################################6       | 17/20 [00:08<00:01,  2.29it/s]"
     ]
    },
    {
     "name": "stdout",
     "output_type": "stream",
     "text": [
      "[100]\ttrain's multi_logloss: 0.325912\teval's multi_logloss: 0.414921\n",
      "Early stopping, best iteration is:\n",
      "[165]\ttrain's multi_logloss: 0.255662\teval's multi_logloss: 0.39523\n"
     ]
    },
    {
     "name": "stderr",
     "output_type": "stream",
     "text": [
      "num_leaves, val_score: 0.392106:  90%|############################################1    | 18/20 [00:08<00:00,  2.02it/s]\u001b[32m[I 2021-06-12 15:43:02,458]\u001b[0m Trial 24 finished with value: 0.3952298305540012 and parameters: {'num_leaves': 26}. Best is trial 12 with value: 0.39210618468277314.\u001b[0m\n",
      "num_leaves, val_score: 0.392106:  90%|############################################1    | 18/20 [00:08<00:00,  2.02it/s]"
     ]
    },
    {
     "name": "stdout",
     "output_type": "stream",
     "text": [
      "Training until validation scores don't improve for 10 rounds\n",
      "[100]\ttrain's multi_logloss: 0.324496\teval's multi_logloss: 0.414744\n",
      "Early stopping, best iteration is:\n",
      "[163]\ttrain's multi_logloss: 0.253095\teval's multi_logloss: 0.393753\n"
     ]
    },
    {
     "name": "stderr",
     "output_type": "stream",
     "text": [
      "num_leaves, val_score: 0.392106:  95%|##############################################5  | 19/20 [00:08<00:00,  1.93it/s]\u001b[32m[I 2021-06-12 15:43:03,034]\u001b[0m Trial 25 finished with value: 0.3937531279099705 and parameters: {'num_leaves': 122}. Best is trial 12 with value: 0.39210618468277314.\u001b[0m\n",
      "num_leaves, val_score: 0.392106:  95%|##############################################5  | 19/20 [00:08<00:00,  1.93it/s]"
     ]
    },
    {
     "name": "stdout",
     "output_type": "stream",
     "text": [
      "Training until validation scores don't improve for 10 rounds\n",
      "[100]\ttrain's multi_logloss: 0.324496\teval's multi_logloss: 0.414744\n",
      "Early stopping, best iteration is:\n",
      "[163]\ttrain's multi_logloss: 0.253095\teval's multi_logloss: 0.393753\n"
     ]
    },
    {
     "name": "stderr",
     "output_type": "stream",
     "text": [
      "num_leaves, val_score: 0.392106: 100%|#################################################| 20/20 [00:09<00:00,  1.94it/s]\u001b[32m[I 2021-06-12 15:43:03,541]\u001b[0m Trial 26 finished with value: 0.3937531279099705 and parameters: {'num_leaves': 224}. Best is trial 12 with value: 0.39210618468277314.\u001b[0m\n",
      "num_leaves, val_score: 0.392106: 100%|#################################################| 20/20 [00:09<00:00,  2.14it/s]\n",
      "bagging, val_score: 0.392106:   0%|                                                             | 0/10 [00:00<?, ?it/s]"
     ]
    },
    {
     "name": "stdout",
     "output_type": "stream",
     "text": [
      "Training until validation scores don't improve for 10 rounds\n",
      "[100]\ttrain's multi_logloss: 0.353172\teval's multi_logloss: 0.413257\n"
     ]
    },
    {
     "name": "stderr",
     "output_type": "stream",
     "text": [
      "bagging, val_score: 0.389819:  10%|#####3                                               | 1/10 [00:00<00:03,  2.85it/s]\u001b[32m[I 2021-06-12 15:43:03,900]\u001b[0m Trial 27 finished with value: 0.3898192859390174 and parameters: {'bagging_fraction': 0.45203225622098475, 'bagging_freq': 2}. Best is trial 27 with value: 0.3898192859390174.\u001b[0m\n",
      "bagging, val_score: 0.389819:  10%|#####3                                               | 1/10 [00:00<00:03,  2.85it/s]"
     ]
    },
    {
     "name": "stdout",
     "output_type": "stream",
     "text": [
      "[200]\ttrain's multi_logloss: 0.27565\teval's multi_logloss: 0.390994\n",
      "Early stopping, best iteration is:\n",
      "[190]\ttrain's multi_logloss: 0.281588\teval's multi_logloss: 0.389819\n",
      "Training until validation scores don't improve for 10 rounds\n"
     ]
    },
    {
     "name": "stderr",
     "output_type": "stream",
     "text": [
      "bagging, val_score: 0.389819:  20%|##########6                                          | 2/10 [00:00<00:03,  2.63it/s]\u001b[32m[I 2021-06-12 15:43:04,301]\u001b[0m Trial 28 finished with value: 0.3915704315320599 and parameters: {'bagging_fraction': 0.7303248939934297, 'bagging_freq': 4}. Best is trial 27 with value: 0.3898192859390174.\u001b[0m\n",
      "bagging, val_score: 0.389819:  20%|##########6                                          | 2/10 [00:00<00:03,  2.63it/s]"
     ]
    },
    {
     "name": "stdout",
     "output_type": "stream",
     "text": [
      "[100]\ttrain's multi_logloss: 0.336986\teval's multi_logloss: 0.409701\n",
      "Early stopping, best iteration is:\n",
      "[164]\ttrain's multi_logloss: 0.277376\teval's multi_logloss: 0.39157\n",
      "Training until validation scores don't improve for 10 rounds\n"
     ]
    },
    {
     "name": "stderr",
     "output_type": "stream",
     "text": [
      "bagging, val_score: 0.389819:  30%|###############9                                     | 3/10 [00:01<00:02,  2.99it/s]\u001b[32m[I 2021-06-12 15:43:04,579]\u001b[0m Trial 29 finished with value: 0.39721585916737423 and parameters: {'bagging_fraction': 0.6054613392863331, 'bagging_freq': 6}. Best is trial 27 with value: 0.3898192859390174.\u001b[0m\n",
      "bagging, val_score: 0.389819:  30%|###############9                                     | 3/10 [00:01<00:02,  2.99it/s]"
     ]
    },
    {
     "name": "stdout",
     "output_type": "stream",
     "text": [
      "[100]\ttrain's multi_logloss: 0.342607\teval's multi_logloss: 0.41507\n",
      "Early stopping, best iteration is:\n",
      "[150]\ttrain's multi_logloss: 0.293839\teval's multi_logloss: 0.397216\n",
      "Training until validation scores don't improve for 10 rounds\n"
     ]
    },
    {
     "name": "stderr",
     "output_type": "stream",
     "text": [
      "bagging, val_score: 0.389819:  40%|#####################2                               | 4/10 [00:01<00:01,  3.08it/s]\u001b[32m[I 2021-06-12 15:43:04,891]\u001b[0m Trial 30 finished with value: 0.4009960313553229 and parameters: {'bagging_fraction': 0.933209252073359, 'bagging_freq': 2}. Best is trial 27 with value: 0.3898192859390174.\u001b[0m\n",
      "bagging, val_score: 0.389819:  40%|#####################2                               | 4/10 [00:01<00:01,  3.08it/s]"
     ]
    },
    {
     "name": "stdout",
     "output_type": "stream",
     "text": [
      "[100]\ttrain's multi_logloss: 0.330771\teval's multi_logloss: 0.417545\n",
      "Early stopping, best iteration is:\n",
      "[178]\ttrain's multi_logloss: 0.26026\teval's multi_logloss: 0.400996\n",
      "Training until validation scores don't improve for 10 rounds\n"
     ]
    },
    {
     "name": "stderr",
     "output_type": "stream",
     "text": [
      "\r",
      "bagging, val_score: 0.389819:  40%|#####################2                               | 4/10 [00:01<00:01,  3.08it/s]"
     ]
    },
    {
     "name": "stdout",
     "output_type": "stream",
     "text": [
      "[100]\ttrain's multi_logloss: 0.334397\teval's multi_logloss: 0.41407\n",
      "Early stopping, best iteration is:\n",
      "[188]\ttrain's multi_logloss: 0.256319\teval's multi_logloss: 0.391482\n"
     ]
    },
    {
     "name": "stderr",
     "output_type": "stream",
     "text": [
      "bagging, val_score: 0.389819:  50%|##########################5                          | 5/10 [00:01<00:01,  2.95it/s]\u001b[32m[I 2021-06-12 15:43:05,254]\u001b[0m Trial 31 finished with value: 0.3914817278799715 and parameters: {'bagging_fraction': 0.7937281169164495, 'bagging_freq': 5}. Best is trial 27 with value: 0.3898192859390174.\u001b[0m\n",
      "bagging, val_score: 0.389819:  50%|##########################5                          | 5/10 [00:01<00:01,  2.95it/s]"
     ]
    },
    {
     "name": "stdout",
     "output_type": "stream",
     "text": [
      "Training until validation scores don't improve for 10 rounds\n",
      "[100]\ttrain's multi_logloss: 0.339915\teval's multi_logloss: 0.41422\n"
     ]
    },
    {
     "name": "stderr",
     "output_type": "stream",
     "text": [
      "bagging, val_score: 0.389819:  60%|###############################8                     | 6/10 [00:02<00:01,  3.01it/s]\u001b[32m[I 2021-06-12 15:43:05,574]\u001b[0m Trial 32 finished with value: 0.39237317494514407 and parameters: {'bagging_fraction': 0.6283259936150578, 'bagging_freq': 7}. Best is trial 27 with value: 0.3898192859390174.\u001b[0m\n",
      "bagging, val_score: 0.389819:  60%|###############################8                     | 6/10 [00:02<00:01,  3.01it/s]"
     ]
    },
    {
     "name": "stdout",
     "output_type": "stream",
     "text": [
      "Early stopping, best iteration is:\n",
      "[175]\ttrain's multi_logloss: 0.272552\teval's multi_logloss: 0.392373\n",
      "Training until validation scores don't improve for 10 rounds\n"
     ]
    },
    {
     "name": "stderr",
     "output_type": "stream",
     "text": [
      "\r",
      "bagging, val_score: 0.389819:  60%|###############################8                     | 6/10 [00:02<00:01,  3.01it/s]"
     ]
    },
    {
     "name": "stdout",
     "output_type": "stream",
     "text": [
      "[100]\ttrain's multi_logloss: 0.338466\teval's multi_logloss: 0.412954\n",
      "Early stopping, best iteration is:\n",
      "[185]\ttrain's multi_logloss: 0.2637\teval's multi_logloss: 0.391733\n"
     ]
    },
    {
     "name": "stderr",
     "output_type": "stream",
     "text": [
      "bagging, val_score: 0.389819:  70%|#####################################                | 7/10 [00:02<00:01,  2.88it/s]\u001b[32m[I 2021-06-12 15:43:05,951]\u001b[0m Trial 33 finished with value: 0.39173331702904807 and parameters: {'bagging_fraction': 0.679405270533169, 'bagging_freq': 1}. Best is trial 27 with value: 0.3898192859390174.\u001b[0m\n",
      "bagging, val_score: 0.389819:  70%|#####################################                | 7/10 [00:02<00:01,  2.88it/s]"
     ]
    },
    {
     "name": "stdout",
     "output_type": "stream",
     "text": [
      "Training until validation scores don't improve for 10 rounds\n",
      "[100]\ttrain's multi_logloss: 0.331145\teval's multi_logloss: 0.412739\n"
     ]
    },
    {
     "name": "stderr",
     "output_type": "stream",
     "text": [
      "bagging, val_score: 0.389819:  80%|##########################################4          | 8/10 [00:02<00:00,  2.84it/s]\u001b[32m[I 2021-06-12 15:43:06,314]\u001b[0m Trial 34 finished with value: 0.39927658420633083 and parameters: {'bagging_fraction': 0.8924214272318673, 'bagging_freq': 3}. Best is trial 27 with value: 0.3898192859390174.\u001b[0m\n",
      "bagging, val_score: 0.389819:  80%|##########################################4          | 8/10 [00:02<00:00,  2.84it/s]"
     ]
    },
    {
     "name": "stdout",
     "output_type": "stream",
     "text": [
      "Early stopping, best iteration is:\n",
      "[186]\ttrain's multi_logloss: 0.255961\teval's multi_logloss: 0.399277\n",
      "Training until validation scores don't improve for 10 rounds\n",
      "[100]\ttrain's multi_logloss: 0.342066\teval's multi_logloss: 0.414565\n"
     ]
    },
    {
     "name": "stderr",
     "output_type": "stream",
     "text": [
      "bagging, val_score: 0.389235:  90%|###############################################7     | 9/10 [00:03<00:00,  2.85it/s]\u001b[32m[I 2021-06-12 15:43:06,662]\u001b[0m Trial 35 finished with value: 0.38923490847305886 and parameters: {'bagging_fraction': 0.5949460406454452, 'bagging_freq': 5}. Best is trial 35 with value: 0.38923490847305886.\u001b[0m\n",
      "bagging, val_score: 0.389235:  90%|###############################################7     | 9/10 [00:03<00:00,  2.85it/s]"
     ]
    },
    {
     "name": "stdout",
     "output_type": "stream",
     "text": [
      "[200]\ttrain's multi_logloss: 0.260607\teval's multi_logloss: 0.390166\n",
      "Early stopping, best iteration is:\n",
      "[206]\ttrain's multi_logloss: 0.256853\teval's multi_logloss: 0.389235\n",
      "Training until validation scores don't improve for 10 rounds\n"
     ]
    },
    {
     "name": "stderr",
     "output_type": "stream",
     "text": [
      "bagging, val_score: 0.389235: 100%|####################################################| 10/10 [00:03<00:00,  2.82it/s]\u001b[32m[I 2021-06-12 15:43:07,026]\u001b[0m Trial 36 finished with value: 0.4065484303250975 and parameters: {'bagging_fraction': 0.991665382307209, 'bagging_freq': 2}. Best is trial 35 with value: 0.38923490847305886.\u001b[0m\n",
      "bagging, val_score: 0.389235: 100%|####################################################| 10/10 [00:03<00:00,  2.87it/s]"
     ]
    },
    {
     "name": "stdout",
     "output_type": "stream",
     "text": [
      "[100]\ttrain's multi_logloss: 0.331125\teval's multi_logloss: 0.419798\n",
      "Early stopping, best iteration is:\n",
      "[158]\ttrain's multi_logloss: 0.277056\teval's multi_logloss: 0.406548\n"
     ]
    },
    {
     "name": "stderr",
     "output_type": "stream",
     "text": [
      "\n",
      "feature_fraction_stage2, val_score: 0.389235:   0%|                                              | 0/3 [00:00<?, ?it/s]"
     ]
    },
    {
     "name": "stdout",
     "output_type": "stream",
     "text": [
      "Training until validation scores don't improve for 10 rounds\n",
      "[100]\ttrain's multi_logloss: 0.349379\teval's multi_logloss: 0.418821\n"
     ]
    },
    {
     "name": "stderr",
     "output_type": "stream",
     "text": [
      "feature_fraction_stage2, val_score: 0.386376:  33%|############6                         | 1/3 [00:00<00:00,  2.38it/s]\u001b[32m[I 2021-06-12 15:43:07,454]\u001b[0m Trial 37 finished with value: 0.38637621334321365 and parameters: {'feature_fraction': 0.92}. Best is trial 37 with value: 0.38637621334321365.\u001b[0m\n",
      "feature_fraction_stage2, val_score: 0.386376:  33%|############6                         | 1/3 [00:00<00:00,  2.38it/s]"
     ]
    },
    {
     "name": "stdout",
     "output_type": "stream",
     "text": [
      "[200]\ttrain's multi_logloss: 0.26408\teval's multi_logloss: 0.386967\n",
      "Early stopping, best iteration is:\n",
      "[203]\ttrain's multi_logloss: 0.262255\teval's multi_logloss: 0.386376\n",
      "Training until validation scores don't improve for 10 rounds\n"
     ]
    },
    {
     "name": "stderr",
     "output_type": "stream",
     "text": [
      "\r",
      "feature_fraction_stage2, val_score: 0.386376:  33%|############6                         | 1/3 [00:00<00:00,  2.38it/s]"
     ]
    },
    {
     "name": "stdout",
     "output_type": "stream",
     "text": [
      "[100]\ttrain's multi_logloss: 0.342066\teval's multi_logloss: 0.414565\n",
      "[200]\ttrain's multi_logloss: 0.260607\teval's multi_logloss: 0.390166\n",
      "Early stopping, best iteration is:\n",
      "[206]\ttrain's multi_logloss: 0.256853\teval's multi_logloss: 0.389235\n"
     ]
    },
    {
     "name": "stderr",
     "output_type": "stream",
     "text": [
      "feature_fraction_stage2, val_score: 0.386376:  67%|#########################3            | 2/3 [00:00<00:00,  2.64it/s]\u001b[32m[I 2021-06-12 15:43:07,803]\u001b[0m Trial 38 finished with value: 0.38923490847305886 and parameters: {'feature_fraction': 0.9840000000000001}. Best is trial 37 with value: 0.38637621334321365.\u001b[0m\n",
      "feature_fraction_stage2, val_score: 0.386376:  67%|#########################3            | 2/3 [00:00<00:00,  2.64it/s]"
     ]
    },
    {
     "name": "stdout",
     "output_type": "stream",
     "text": [
      "Training until validation scores don't improve for 10 rounds\n",
      "[100]\ttrain's multi_logloss: 0.342066\teval's multi_logloss: 0.414565\n"
     ]
    },
    {
     "name": "stderr",
     "output_type": "stream",
     "text": [
      "feature_fraction_stage2, val_score: 0.386376: 100%|######################################| 3/3 [00:01<00:00,  2.47it/s]\u001b[32m[I 2021-06-12 15:43:08,241]\u001b[0m Trial 39 finished with value: 0.38923490847305886 and parameters: {'feature_fraction': 0.9520000000000001}. Best is trial 37 with value: 0.38637621334321365.\u001b[0m\n",
      "feature_fraction_stage2, val_score: 0.386376: 100%|######################################| 3/3 [00:01<00:00,  2.48it/s]\n",
      "regularization_factors, val_score: 0.386376:   0%|                                              | 0/20 [00:00<?, ?it/s]"
     ]
    },
    {
     "name": "stdout",
     "output_type": "stream",
     "text": [
      "[200]\ttrain's multi_logloss: 0.260607\teval's multi_logloss: 0.390166\n",
      "Early stopping, best iteration is:\n",
      "[206]\ttrain's multi_logloss: 0.256853\teval's multi_logloss: 0.389235\n",
      "Training until validation scores don't improve for 10 rounds\n"
     ]
    },
    {
     "name": "stderr",
     "output_type": "stream",
     "text": [
      "\r",
      "regularization_factors, val_score: 0.386287:   0%|                                              | 0/20 [00:00<?, ?it/s]"
     ]
    },
    {
     "name": "stdout",
     "output_type": "stream",
     "text": [
      "[100]\ttrain's multi_logloss: 0.349979\teval's multi_logloss: 0.418983\n",
      "[200]\ttrain's multi_logloss: 0.264841\teval's multi_logloss: 0.387007\n",
      "Early stopping, best iteration is:\n",
      "[203]\ttrain's multi_logloss: 0.263039\teval's multi_logloss: 0.386287\n"
     ]
    },
    {
     "name": "stderr",
     "output_type": "stream",
     "text": [
      "regularization_factors, val_score: 0.386287:   5%|#9                                    | 1/20 [00:00<00:07,  2.66it/s]\u001b[32m[I 2021-06-12 15:43:08,628]\u001b[0m Trial 40 finished with value: 0.3862874877504857 and parameters: {'lambda_l1': 0.017883139396234798, 'lambda_l2': 0.00013144404899427862}. Best is trial 40 with value: 0.3862874877504857.\u001b[0m\n",
      "regularization_factors, val_score: 0.386287:   5%|#9                                    | 1/20 [00:00<00:07,  2.66it/s]"
     ]
    },
    {
     "name": "stdout",
     "output_type": "stream",
     "text": [
      "Training until validation scores don't improve for 10 rounds\n",
      "[100]\ttrain's multi_logloss: 0.350962\teval's multi_logloss: 0.419118\n"
     ]
    },
    {
     "name": "stderr",
     "output_type": "stream",
     "text": [
      "regularization_factors, val_score: 0.386287:  10%|###8                                  | 2/20 [00:00<00:07,  2.54it/s]\u001b[32m[I 2021-06-12 15:43:09,035]\u001b[0m Trial 41 finished with value: 0.3865226991940288 and parameters: {'lambda_l1': 9.530190529710325e-08, 'lambda_l2': 0.08877060752913946}. Best is trial 40 with value: 0.3862874877504857.\u001b[0m\n",
      "regularization_factors, val_score: 0.386287:  10%|###8                                  | 2/20 [00:00<00:07,  2.54it/s]"
     ]
    },
    {
     "name": "stdout",
     "output_type": "stream",
     "text": [
      "[200]\ttrain's multi_logloss: 0.266213\teval's multi_logloss: 0.387009\n",
      "Early stopping, best iteration is:\n",
      "[203]\ttrain's multi_logloss: 0.264427\teval's multi_logloss: 0.386523\n",
      "Training until validation scores don't improve for 10 rounds\n",
      "[100]\ttrain's multi_logloss: 0.378777\teval's multi_logloss: 0.426934\n"
     ]
    },
    {
     "name": "stderr",
     "output_type": "stream",
     "text": [
      "regularization_factors, val_score: 0.386032:  15%|#####7                                | 3/20 [00:01<00:06,  2.53it/s]\u001b[32m[I 2021-06-12 15:43:09,429]\u001b[0m Trial 42 finished with value: 0.3860318742645226 and parameters: {'lambda_l1': 1.28963078438187, 'lambda_l2': 2.1676385704309913e-08}. Best is trial 42 with value: 0.3860318742645226.\u001b[0m\n",
      "regularization_factors, val_score: 0.386032:  15%|#####7                                | 3/20 [00:01<00:06,  2.53it/s]"
     ]
    },
    {
     "name": "stdout",
     "output_type": "stream",
     "text": [
      "[200]\ttrain's multi_logloss: 0.307858\teval's multi_logloss: 0.391604\n",
      "Early stopping, best iteration is:\n",
      "[266]\ttrain's multi_logloss: 0.280004\teval's multi_logloss: 0.386032\n",
      "Training until validation scores don't improve for 10 rounds\n"
     ]
    },
    {
     "name": "stderr",
     "output_type": "stream",
     "text": [
      "\r",
      "regularization_factors, val_score: 0.386032:  15%|#####7                                | 3/20 [00:01<00:06,  2.53it/s]"
     ]
    },
    {
     "name": "stdout",
     "output_type": "stream",
     "text": [
      "[100]\ttrain's multi_logloss: 0.349806\teval's multi_logloss: 0.418721\n",
      "[200]\ttrain's multi_logloss: 0.264626\teval's multi_logloss: 0.387247\n",
      "Early stopping, best iteration is:\n",
      "[203]\ttrain's multi_logloss: 0.262842\teval's multi_logloss: 0.386639\n"
     ]
    },
    {
     "name": "stderr",
     "output_type": "stream",
     "text": [
      "regularization_factors, val_score: 0.386032:  20%|#######6                              | 4/20 [00:01<00:06,  2.59it/s]\u001b[32m[I 2021-06-12 15:43:09,802]\u001b[0m Trial 43 finished with value: 0.3866387065372615 and parameters: {'lambda_l1': 6.2906389531707565e-06, 'lambda_l2': 0.022194699659950343}. Best is trial 42 with value: 0.3860318742645226.\u001b[0m\n",
      "regularization_factors, val_score: 0.386032:  20%|#######6                              | 4/20 [00:01<00:06,  2.59it/s]"
     ]
    },
    {
     "name": "stdout",
     "output_type": "stream",
     "text": [
      "Training until validation scores don't improve for 10 rounds\n",
      "[100]\ttrain's multi_logloss: 0.350619\teval's multi_logloss: 0.418681\n"
     ]
    },
    {
     "name": "stderr",
     "output_type": "stream",
     "text": [
      "regularization_factors, val_score: 0.386032:  25%|#########5                            | 5/20 [00:01<00:05,  2.58it/s]\u001b[32m[I 2021-06-12 15:43:10,193]\u001b[0m Trial 44 finished with value: 0.38620972671806447 and parameters: {'lambda_l1': 4.547766840245743e-08, 'lambda_l2': 0.07232612929060826}. Best is trial 42 with value: 0.3860318742645226.\u001b[0m\n",
      "regularization_factors, val_score: 0.386032:  25%|#########5                            | 5/20 [00:01<00:05,  2.58it/s]"
     ]
    },
    {
     "name": "stdout",
     "output_type": "stream",
     "text": [
      "[200]\ttrain's multi_logloss: 0.265531\teval's multi_logloss: 0.386916\n",
      "Early stopping, best iteration is:\n",
      "[203]\ttrain's multi_logloss: 0.263746\teval's multi_logloss: 0.38621\n",
      "Training until validation scores don't improve for 10 rounds\n"
     ]
    },
    {
     "name": "stderr",
     "output_type": "stream",
     "text": [
      "regularization_factors, val_score: 0.386032:  30%|###########4                          | 6/20 [00:02<00:05,  2.43it/s]\u001b[32m[I 2021-06-12 15:43:10,650]\u001b[0m Trial 45 finished with value: 0.3910936382648456 and parameters: {'lambda_l1': 0.40683814146488273, 'lambda_l2': 8.609049698612611e-07}. Best is trial 42 with value: 0.3860318742645226.\u001b[0m\n",
      "regularization_factors, val_score: 0.386032:  30%|###########4                          | 6/20 [00:02<00:05,  2.43it/s]"
     ]
    },
    {
     "name": "stdout",
     "output_type": "stream",
     "text": [
      "[100]\ttrain's multi_logloss: 0.358335\teval's multi_logloss: 0.42067\n",
      "Early stopping, best iteration is:\n",
      "[185]\ttrain's multi_logloss: 0.286521\teval's multi_logloss: 0.391094\n",
      "Training until validation scores don't improve for 10 rounds\n",
      "[100]\ttrain's multi_logloss: 0.351614\teval's multi_logloss: 0.418827\n",
      "[200]\ttrain's multi_logloss: 0.267516\teval's multi_logloss: 0.388224\n",
      "Early stopping, best iteration is:\n",
      "[206]\ttrain's multi_logloss: 0.264142\teval's multi_logloss: 0.387419\n"
     ]
    },
    {
     "name": "stderr",
     "output_type": "stream",
     "text": [
      "regularization_factors, val_score: 0.386032:  35%|#############3                        | 7/20 [00:02<00:05,  2.26it/s]\u001b[32m[I 2021-06-12 15:43:11,161]\u001b[0m Trial 46 finished with value: 0.3874192279042399 and parameters: {'lambda_l1': 0.09086482601206378, 'lambda_l2': 8.730194627833027e-05}. Best is trial 42 with value: 0.3860318742645226.\u001b[0m\n",
      "regularization_factors, val_score: 0.386032:  35%|#############3                        | 7/20 [00:02<00:05,  2.26it/s]"
     ]
    },
    {
     "name": "stdout",
     "output_type": "stream",
     "text": [
      "Training until validation scores don't improve for 10 rounds\n",
      "[100]\ttrain's multi_logloss: 0.387468\teval's multi_logloss: 0.433189\n"
     ]
    },
    {
     "name": "stderr",
     "output_type": "stream",
     "text": [
      "regularization_factors, val_score: 0.386032:  40%|###############2                      | 8/20 [00:03<00:05,  2.22it/s]\u001b[32m[I 2021-06-12 15:43:11,624]\u001b[0m Trial 47 finished with value: 0.3882693578963984 and parameters: {'lambda_l1': 0.24234274133322337, 'lambda_l2': 2.9980689891885026}. Best is trial 42 with value: 0.3860318742645226.\u001b[0m\n",
      "regularization_factors, val_score: 0.386032:  40%|###############2                      | 8/20 [00:03<00:05,  2.22it/s]"
     ]
    },
    {
     "name": "stdout",
     "output_type": "stream",
     "text": [
      "[200]\ttrain's multi_logloss: 0.313089\teval's multi_logloss: 0.395092\n",
      "Early stopping, best iteration is:\n",
      "[255]\ttrain's multi_logloss: 0.288971\teval's multi_logloss: 0.388269\n",
      "Training until validation scores don't improve for 10 rounds\n",
      "[100]\ttrain's multi_logloss: 0.349379\teval's multi_logloss: 0.418821\n",
      "[200]\ttrain's multi_logloss: 0.264082\teval's multi_logloss: 0.386909\n",
      "Early stopping, best iteration is:\n",
      "[203]\ttrain's multi_logloss: 0.26226\teval's multi_logloss: 0.386304\n"
     ]
    },
    {
     "name": "stderr",
     "output_type": "stream",
     "text": [
      "regularization_factors, val_score: 0.386032:  45%|#################1                    | 9/20 [00:03<00:04,  2.25it/s]\u001b[32m[I 2021-06-12 15:43:12,060]\u001b[0m Trial 48 finished with value: 0.38630366880961375 and parameters: {'lambda_l1': 7.811917020014818e-06, 'lambda_l2': 4.3468346636344414e-08}. Best is trial 42 with value: 0.3860318742645226.\u001b[0m\n",
      "regularization_factors, val_score: 0.386032:  45%|#################1                    | 9/20 [00:03<00:04,  2.25it/s]"
     ]
    },
    {
     "name": "stdout",
     "output_type": "stream",
     "text": [
      "Training until validation scores don't improve for 10 rounds\n",
      "[100]\ttrain's multi_logloss: 0.353031\teval's multi_logloss: 0.419619\n"
     ]
    },
    {
     "name": "stderr",
     "output_type": "stream",
     "text": [
      "regularization_factors, val_score: 0.386032:  50%|##################5                  | 10/20 [00:04<00:04,  2.31it/s]\u001b[32m[I 2021-06-12 15:43:12,462]\u001b[0m Trial 49 finished with value: 0.38803852410368556 and parameters: {'lambda_l1': 0.15491613057429568, 'lambda_l2': 2.327592032142703e-06}. Best is trial 42 with value: 0.3860318742645226.\u001b[0m\n",
      "regularization_factors, val_score: 0.386032:  50%|##################5                  | 10/20 [00:04<00:04,  2.31it/s]"
     ]
    },
    {
     "name": "stdout",
     "output_type": "stream",
     "text": [
      "[200]\ttrain's multi_logloss: 0.269931\teval's multi_logloss: 0.388637\n",
      "Early stopping, best iteration is:\n",
      "[207]\ttrain's multi_logloss: 0.266053\teval's multi_logloss: 0.388039\n",
      "Training until validation scores don't improve for 10 rounds\n",
      "[100]\ttrain's multi_logloss: 0.349573\teval's multi_logloss: 0.418637\n",
      "[200]\ttrain's multi_logloss: 0.264307\teval's multi_logloss: 0.386762\n"
     ]
    },
    {
     "name": "stderr",
     "output_type": "stream",
     "text": [
      "regularization_factors, val_score: 0.386032:  55%|####################3                | 11/20 [00:04<00:04,  2.02it/s]\u001b[32m[I 2021-06-12 15:43:13,100]\u001b[0m Trial 50 finished with value: 0.3862215662353722 and parameters: {'lambda_l1': 0.000585629642717888, 'lambda_l2': 1.2003285513740272e-08}. Best is trial 42 with value: 0.3860318742645226.\u001b[0m\n",
      "regularization_factors, val_score: 0.386032:  55%|####################3                | 11/20 [00:04<00:04,  2.02it/s]"
     ]
    },
    {
     "name": "stdout",
     "output_type": "stream",
     "text": [
      "Early stopping, best iteration is:\n",
      "[203]\ttrain's multi_logloss: 0.262525\teval's multi_logloss: 0.386222\n",
      "Training until validation scores don't improve for 10 rounds\n",
      "[100]\ttrain's multi_logloss: 0.34979\teval's multi_logloss: 0.418489\n"
     ]
    },
    {
     "name": "stderr",
     "output_type": "stream",
     "text": [
      "regularization_factors, val_score: 0.386032:  60%|######################2              | 12/20 [00:05<00:03,  2.00it/s]\u001b[32m[I 2021-06-12 15:43:13,608]\u001b[0m Trial 51 finished with value: 0.38640074381724693 and parameters: {'lambda_l1': 1.0159476639898718e-08, 'lambda_l2': 0.01982847801579478}. Best is trial 42 with value: 0.3860318742645226.\u001b[0m\n",
      "regularization_factors, val_score: 0.386032:  60%|######################2              | 12/20 [00:05<00:03,  2.00it/s]"
     ]
    },
    {
     "name": "stdout",
     "output_type": "stream",
     "text": [
      "[200]\ttrain's multi_logloss: 0.264524\teval's multi_logloss: 0.386998\n",
      "Early stopping, best iteration is:\n",
      "[203]\ttrain's multi_logloss: 0.262734\teval's multi_logloss: 0.386401\n",
      "Training until validation scores don't improve for 10 rounds\n",
      "[100]\ttrain's multi_logloss: 0.432979\teval's multi_logloss: 0.456169\n",
      "[200]\ttrain's multi_logloss: 0.378955\teval's multi_logloss: 0.414576\n",
      "[300]\ttrain's multi_logloss: 0.356077\teval's multi_logloss: 0.401255\n",
      "[400]\ttrain's multi_logloss: 0.342559\teval's multi_logloss: 0.395855\n"
     ]
    },
    {
     "name": "stderr",
     "output_type": "stream",
     "text": [
      "regularization_factors, val_score: 0.386032:  65%|########################             | 13/20 [00:05<00:03,  1.90it/s]\u001b[32m[I 2021-06-12 15:43:14,198]\u001b[0m Trial 52 finished with value: 0.39257009984050467 and parameters: {'lambda_l1': 4.979582938497533, 'lambda_l2': 6.3342415183585175}. Best is trial 42 with value: 0.3860318742645226.\u001b[0m\n",
      "regularization_factors, val_score: 0.386032:  65%|########################             | 13/20 [00:05<00:03,  1.90it/s]"
     ]
    },
    {
     "name": "stdout",
     "output_type": "stream",
     "text": [
      "[500]\ttrain's multi_logloss: 0.333592\teval's multi_logloss: 0.392786\n",
      "Early stopping, best iteration is:\n",
      "[505]\ttrain's multi_logloss: 0.333256\teval's multi_logloss: 0.39257\n",
      "Training until validation scores don't improve for 10 rounds\n",
      "[100]\ttrain's multi_logloss: 0.354524\teval's multi_logloss: 0.420044\n",
      "[200]\ttrain's multi_logloss: 0.270804\teval's multi_logloss: 0.387545"
     ]
    },
    {
     "name": "stderr",
     "output_type": "stream",
     "text": [
      "regularization_factors, val_score: 0.386032:  70%|#########################9           | 14/20 [00:06<00:03,  1.93it/s]\u001b[32m[I 2021-06-12 15:43:14,693]\u001b[0m Trial 53 finished with value: 0.38695938884604325 and parameters: {'lambda_l1': 6.271265158298791e-07, 'lambda_l2': 0.3061080174015147}. Best is trial 42 with value: 0.3860318742645226.\u001b[0m\n",
      "regularization_factors, val_score: 0.386032:  70%|#########################9           | 14/20 [00:06<00:03,  1.93it/s]"
     ]
    },
    {
     "name": "stdout",
     "output_type": "stream",
     "text": [
      "\n",
      "Early stopping, best iteration is:\n",
      "[205]\ttrain's multi_logloss: 0.267912\teval's multi_logloss: 0.386959\n",
      "Training until validation scores don't improve for 10 rounds\n"
     ]
    },
    {
     "name": "stderr",
     "output_type": "stream",
     "text": [
      "\r",
      "regularization_factors, val_score: 0.386032:  70%|#########################9           | 14/20 [00:06<00:03,  1.93it/s]"
     ]
    },
    {
     "name": "stdout",
     "output_type": "stream",
     "text": [
      "[100]\ttrain's multi_logloss: 0.3494\teval's multi_logloss: 0.418747\n",
      "[200]\ttrain's multi_logloss: 0.264207\teval's multi_logloss: 0.387457\n",
      "Early stopping, best iteration is:\n",
      "[203]\ttrain's multi_logloss: 0.262374\teval's multi_logloss: 0.386849\n"
     ]
    },
    {
     "name": "stderr",
     "output_type": "stream",
     "text": [
      "regularization_factors, val_score: 0.386032:  75%|###########################7         | 15/20 [00:06<00:02,  2.08it/s]\u001b[32m[I 2021-06-12 15:43:15,093]\u001b[0m Trial 54 finished with value: 0.38684934223374473 and parameters: {'lambda_l1': 0.0011027580570821972, 'lambda_l2': 0.001037956945838551}. Best is trial 42 with value: 0.3860318742645226.\u001b[0m\n",
      "regularization_factors, val_score: 0.386032:  75%|###########################7         | 15/20 [00:06<00:02,  2.08it/s]"
     ]
    },
    {
     "name": "stdout",
     "output_type": "stream",
     "text": [
      "Training until validation scores don't improve for 10 rounds\n",
      "[100]\ttrain's multi_logloss: 0.3495\teval's multi_logloss: 0.418506\n"
     ]
    },
    {
     "name": "stderr",
     "output_type": "stream",
     "text": [
      "regularization_factors, val_score: 0.386032:  80%|#############################6       | 16/20 [00:07<00:01,  2.07it/s]\u001b[32m[I 2021-06-12 15:43:15,580]\u001b[0m Trial 55 finished with value: 0.3864029746562061 and parameters: {'lambda_l1': 2.0292098141284807e-05, 'lambda_l2': 0.0014825733393340496}. Best is trial 42 with value: 0.3860318742645226.\u001b[0m\n",
      "regularization_factors, val_score: 0.386032:  80%|#############################6       | 16/20 [00:07<00:01,  2.07it/s]"
     ]
    },
    {
     "name": "stdout",
     "output_type": "stream",
     "text": [
      "[200]\ttrain's multi_logloss: 0.264257\teval's multi_logloss: 0.387001\n",
      "Early stopping, best iteration is:\n",
      "[203]\ttrain's multi_logloss: 0.262461\teval's multi_logloss: 0.386403\n",
      "Training until validation scores don't improve for 10 rounds\n",
      "[100]\ttrain's multi_logloss: 0.349379\teval's multi_logloss: 0.418821\n",
      "[200]\ttrain's multi_logloss: 0.26408\teval's multi_logloss: 0.386967\n",
      "Early stopping, best iteration is:\n",
      "[203]\ttrain's multi_logloss: 0.262255\teval's multi_logloss: 0.386376\n"
     ]
    },
    {
     "name": "stderr",
     "output_type": "stream",
     "text": [
      "regularization_factors, val_score: 0.386032:  85%|###############################4     | 17/20 [00:07<00:01,  2.03it/s]\u001b[32m[I 2021-06-12 15:43:16,096]\u001b[0m Trial 56 finished with value: 0.38637620106528303 and parameters: {'lambda_l1': 1.8208668850005326e-08, 'lambda_l2': 7.411714116538178e-06}. Best is trial 42 with value: 0.3860318742645226.\u001b[0m\n",
      "regularization_factors, val_score: 0.386032:  85%|###############################4     | 17/20 [00:07<00:01,  2.03it/s]"
     ]
    },
    {
     "name": "stdout",
     "output_type": "stream",
     "text": [
      "Training until validation scores don't improve for 10 rounds\n",
      "[100]\ttrain's multi_logloss: 0.431664\teval's multi_logloss: 0.454941\n",
      "[200]\ttrain's multi_logloss: 0.384821\teval's multi_logloss: 0.418149\n"
     ]
    },
    {
     "name": "stderr",
     "output_type": "stream",
     "text": [
      "regularization_factors, val_score: 0.386032:  90%|#################################3   | 18/20 [00:08<00:00,  2.08it/s]\u001b[32m[I 2021-06-12 15:43:16,550]\u001b[0m Trial 57 finished with value: 0.39913992135355736 and parameters: {'lambda_l1': 8.577194523042175, 'lambda_l2': 0.675887830551843}. Best is trial 42 with value: 0.3860318742645226.\u001b[0m\n",
      "regularization_factors, val_score: 0.386032:  90%|#################################3   | 18/20 [00:08<00:00,  2.08it/s]"
     ]
    },
    {
     "name": "stdout",
     "output_type": "stream",
     "text": [
      "[300]\ttrain's multi_logloss: 0.368348\teval's multi_logloss: 0.40633\n",
      "[400]\ttrain's multi_logloss: 0.359111\teval's multi_logloss: 0.401269\n",
      "Early stopping, best iteration is:\n",
      "[461]\ttrain's multi_logloss: 0.355376\teval's multi_logloss: 0.39914\n",
      "Training until validation scores don't improve for 10 rounds\n"
     ]
    },
    {
     "name": "stderr",
     "output_type": "stream",
     "text": [
      "\r",
      "regularization_factors, val_score: 0.386032:  90%|#################################3   | 18/20 [00:08<00:00,  2.08it/s]"
     ]
    },
    {
     "name": "stdout",
     "output_type": "stream",
     "text": [
      "[100]\ttrain's multi_logloss: 0.349435\teval's multi_logloss: 0.418833\n",
      "[200]\ttrain's multi_logloss: 0.26444\teval's multi_logloss: 0.387207\n",
      "Early stopping, best iteration is:\n",
      "[203]\ttrain's multi_logloss: 0.262627\teval's multi_logloss: 0.386575\n"
     ]
    },
    {
     "name": "stderr",
     "output_type": "stream",
     "text": [
      "regularization_factors, val_score: 0.386032:  95%|###################################1 | 19/20 [00:08<00:00,  2.22it/s]\u001b[32m[I 2021-06-12 15:43:16,926]\u001b[0m Trial 58 finished with value: 0.386574951916878 and parameters: {'lambda_l1': 0.005252705343835044, 'lambda_l2': 1.6189391340011188e-07}. Best is trial 42 with value: 0.3860318742645226.\u001b[0m\n",
      "regularization_factors, val_score: 0.386032:  95%|###################################1 | 19/20 [00:08<00:00,  2.22it/s]"
     ]
    },
    {
     "name": "stdout",
     "output_type": "stream",
     "text": [
      "Training until validation scores don't improve for 10 rounds\n",
      "[100]\ttrain's multi_logloss: 0.349459\teval's multi_logloss: 0.418746\n"
     ]
    },
    {
     "name": "stderr",
     "output_type": "stream",
     "text": [
      "regularization_factors, val_score: 0.386032: 100%|#####################################| 20/20 [00:09<00:00,  2.16it/s]\u001b[32m[I 2021-06-12 15:43:17,418]\u001b[0m Trial 59 finished with value: 0.3861216106558354 and parameters: {'lambda_l1': 5.350370450693331e-05, 'lambda_l2': 0.0095481665261034}. Best is trial 42 with value: 0.3860318742645226.\u001b[0m\n",
      "regularization_factors, val_score: 0.386032: 100%|#####################################| 20/20 [00:09<00:00,  2.18it/s]\n",
      "min_data_in_leaf, val_score: 0.386032:   0%|                                                     | 0/5 [00:00<?, ?it/s]"
     ]
    },
    {
     "name": "stdout",
     "output_type": "stream",
     "text": [
      "[200]\ttrain's multi_logloss: 0.264363\teval's multi_logloss: 0.386732\n",
      "Early stopping, best iteration is:\n",
      "[203]\ttrain's multi_logloss: 0.262571\teval's multi_logloss: 0.386122\n",
      "Training until validation scores don't improve for 10 rounds\n"
     ]
    },
    {
     "name": "stderr",
     "output_type": "stream",
     "text": [
      "\r",
      "min_data_in_leaf, val_score: 0.386032:   0%|                                                     | 0/5 [00:00<?, ?it/s]"
     ]
    },
    {
     "name": "stdout",
     "output_type": "stream",
     "text": [
      "[100]\ttrain's multi_logloss: 0.358965\teval's multi_logloss: 0.432746\n",
      "[200]\ttrain's multi_logloss: 0.28034\teval's multi_logloss: 0.401772\n",
      "Early stopping, best iteration is:\n",
      "[220]\ttrain's multi_logloss: 0.270291\teval's multi_logloss: 0.399449\n"
     ]
    },
    {
     "name": "stderr",
     "output_type": "stream",
     "text": [
      "min_data_in_leaf, val_score: 0.386032:  20%|#########                                    | 1/5 [00:00<00:01,  2.14it/s]\u001b[32m[I 2021-06-12 15:43:17,892]\u001b[0m Trial 60 finished with value: 0.3994487968264133 and parameters: {'min_child_samples': 5}. Best is trial 60 with value: 0.3994487968264133.\u001b[0m\n",
      "min_data_in_leaf, val_score: 0.386032:  20%|#########                                    | 1/5 [00:00<00:01,  2.14it/s]"
     ]
    },
    {
     "name": "stdout",
     "output_type": "stream",
     "text": [
      "Training until validation scores don't improve for 10 rounds\n",
      "[100]\ttrain's multi_logloss: 0.400408\teval's multi_logloss: 0.431885\n",
      "[200]\ttrain's multi_logloss: 0.34265\teval's multi_logloss: 0.396641\n"
     ]
    },
    {
     "name": "stderr",
     "output_type": "stream",
     "text": [
      "min_data_in_leaf, val_score: 0.386032:  40%|##################                           | 2/5 [00:00<00:01,  2.54it/s]\u001b[32m[I 2021-06-12 15:43:18,236]\u001b[0m Trial 61 finished with value: 0.39047837677167335 and parameters: {'min_child_samples': 50}. Best is trial 61 with value: 0.39047837677167335.\u001b[0m\n",
      "min_data_in_leaf, val_score: 0.386032:  40%|##################                           | 2/5 [00:00<00:01,  2.54it/s]"
     ]
    },
    {
     "name": "stdout",
     "output_type": "stream",
     "text": [
      "Early stopping, best iteration is:\n",
      "[255]\ttrain's multi_logloss: 0.323544\teval's multi_logloss: 0.390478\n",
      "Training until validation scores don't improve for 10 rounds\n",
      "[100]\ttrain's multi_logloss: 0.382807\teval's multi_logloss: 0.427188\n",
      "[200]\ttrain's multi_logloss: 0.315482\teval's multi_logloss: 0.392305\n"
     ]
    },
    {
     "name": "stderr",
     "output_type": "stream",
     "text": [
      "min_data_in_leaf, val_score: 0.382276:  60%|###########################                  | 3/5 [00:01<00:01,  1.88it/s]\u001b[32m[I 2021-06-12 15:43:18,932]\u001b[0m Trial 62 finished with value: 0.3822764576451832 and parameters: {'min_child_samples': 25}. Best is trial 62 with value: 0.3822764576451832.\u001b[0m\n",
      "min_data_in_leaf, val_score: 0.382276:  60%|###########################                  | 3/5 [00:01<00:01,  1.88it/s]"
     ]
    },
    {
     "name": "stdout",
     "output_type": "stream",
     "text": [
      "[300]\ttrain's multi_logloss: 0.278478\teval's multi_logloss: 0.382354\n",
      "Early stopping, best iteration is:\n",
      "[301]\ttrain's multi_logloss: 0.278201\teval's multi_logloss: 0.382276\n",
      "Training until validation scores don't improve for 10 rounds\n",
      "[100]\ttrain's multi_logloss: 0.36513\teval's multi_logloss: 0.42956\n",
      "[200]\ttrain's multi_logloss: 0.289477\teval's multi_logloss: 0.397799\n"
     ]
    },
    {
     "name": "stderr",
     "output_type": "stream",
     "text": [
      "min_data_in_leaf, val_score: 0.382276:  80%|####################################         | 4/5 [00:02<00:00,  1.36it/s]\u001b[32m[I 2021-06-12 15:43:19,982]\u001b[0m Trial 63 finished with value: 0.3924836139191611 and parameters: {'min_child_samples': 10}. Best is trial 62 with value: 0.3822764576451832.\u001b[0m\n",
      "min_data_in_leaf, val_score: 0.382276:  80%|####################################         | 4/5 [00:02<00:00,  1.36it/s]"
     ]
    },
    {
     "name": "stdout",
     "output_type": "stream",
     "text": [
      "Early stopping, best iteration is:\n",
      "[270]\ttrain's multi_logloss: 0.259521\teval's multi_logloss: 0.392484\n",
      "Training until validation scores don't improve for 10 rounds\n",
      "[100]\ttrain's multi_logloss: 0.438623\teval's multi_logloss: 0.467201\n",
      "[200]\ttrain's multi_logloss: 0.377138\teval's multi_logloss: 0.416378\n",
      "[300]\ttrain's multi_logloss: 0.347468\teval's multi_logloss: 0.398264\n",
      "[400]\ttrain's multi_logloss: 0.329523\teval's multi_logloss: 0.389961\n"
     ]
    },
    {
     "name": "stderr",
     "output_type": "stream",
     "text": [
      "min_data_in_leaf, val_score: 0.382276: 100%|#############################################| 5/5 [00:03<00:00,  1.55it/s]\u001b[32m[I 2021-06-12 15:43:20,469]\u001b[0m Trial 64 finished with value: 0.38661106641131615 and parameters: {'min_child_samples': 100}. Best is trial 62 with value: 0.3822764576451832.\u001b[0m\n",
      "min_data_in_leaf, val_score: 0.382276: 100%|#############################################| 5/5 [00:03<00:00,  1.64it/s]\n",
      "\u001b[32m[I 2021-06-12 15:43:20,494]\u001b[0m A new study created in memory with name: no-name-8e942899-1f3a-4623-ae30-b03950f5288c\u001b[0m\n",
      "feature_fraction, val_score: inf:   0%|                                                          | 0/7 [00:00<?, ?it/s]"
     ]
    },
    {
     "name": "stdout",
     "output_type": "stream",
     "text": [
      "Early stopping, best iteration is:\n",
      "[457]\ttrain's multi_logloss: 0.321844\teval's multi_logloss: 0.386611\n",
      "Training until validation scores don't improve for 10 rounds\n",
      "[100]\ttrain's multi_logloss: 0.322149\teval's multi_logloss: 0.42403\n",
      "Early stopping, best iteration is:\n",
      "[150]\ttrain's multi_logloss: 0.26537\teval's multi_logloss: 0.403935\n"
     ]
    },
    {
     "name": "stderr",
     "output_type": "stream",
     "text": [
      "feature_fraction, val_score: 0.403935:  14%|######4                                      | 1/7 [00:00<00:02,  2.12it/s]\u001b[32m[I 2021-06-12 15:43:20,972]\u001b[0m Trial 0 finished with value: 0.4039349996830258 and parameters: {'feature_fraction': 1.0}. Best is trial 0 with value: 0.4039349996830258.\u001b[0m\n",
      "feature_fraction, val_score: 0.403935:  14%|######4                                      | 1/7 [00:00<00:02,  2.12it/s]"
     ]
    },
    {
     "name": "stdout",
     "output_type": "stream",
     "text": [
      "Training until validation scores don't improve for 10 rounds\n",
      "[100]\ttrain's multi_logloss: 0.366622\teval's multi_logloss: 0.460173\n",
      "[200]\ttrain's multi_logloss: 0.259382\teval's multi_logloss: 0.413143\n",
      "[300]\ttrain's multi_logloss: 0.19254\teval's multi_logloss: 0.402365\n"
     ]
    },
    {
     "name": "stderr",
     "output_type": "stream",
     "text": [
      "\r",
      "feature_fraction, val_score: 0.402284:  14%|######4                                      | 1/7 [00:01<00:02,  2.12it/s]"
     ]
    },
    {
     "name": "stdout",
     "output_type": "stream",
     "text": [
      "Early stopping, best iteration is:\n",
      "[302]\ttrain's multi_logloss: 0.191599\teval's multi_logloss: 0.402284\n"
     ]
    },
    {
     "name": "stderr",
     "output_type": "stream",
     "text": [
      "feature_fraction, val_score: 0.402284:  29%|############8                                | 2/7 [00:01<00:04,  1.04it/s]\u001b[32m[I 2021-06-12 15:43:22,271]\u001b[0m Trial 1 finished with value: 0.40228362257260974 and parameters: {'feature_fraction': 0.6}. Best is trial 1 with value: 0.40228362257260974.\u001b[0m\n",
      "feature_fraction, val_score: 0.402284:  29%|############8                                | 2/7 [00:01<00:04,  1.04it/s]"
     ]
    },
    {
     "name": "stdout",
     "output_type": "stream",
     "text": [
      "Training until validation scores don't improve for 10 rounds\n",
      "[100]\ttrain's multi_logloss: 0.349546\teval's multi_logloss: 0.447862\n",
      "[200]\ttrain's multi_logloss: 0.24284\teval's multi_logloss: 0.406766\n",
      "Early stopping, best iteration is:\n",
      "[245]\ttrain's multi_logloss: 0.210157\teval's multi_logloss: 0.399273\n"
     ]
    },
    {
     "name": "stderr",
     "output_type": "stream",
     "text": [
      "feature_fraction, val_score: 0.399273:  43%|###################2                         | 3/7 [00:02<00:03,  1.20it/s]\u001b[32m[I 2021-06-12 15:43:22,957]\u001b[0m Trial 2 finished with value: 0.39927275106201293 and parameters: {'feature_fraction': 0.7}. Best is trial 2 with value: 0.39927275106201293.\u001b[0m\n",
      "feature_fraction, val_score: 0.399273:  43%|###################2                         | 3/7 [00:02<00:03,  1.20it/s]"
     ]
    },
    {
     "name": "stdout",
     "output_type": "stream",
     "text": [
      "Training until validation scores don't improve for 10 rounds\n",
      "[100]\ttrain's multi_logloss: 0.327236\teval's multi_logloss: 0.427436\n",
      "[200]\ttrain's multi_logloss: 0.225916\teval's multi_logloss: 0.401524\n",
      "Early stopping, best iteration is:\n",
      "[219]\ttrain's multi_logloss: 0.212278\teval's multi_logloss: 0.39969\n"
     ]
    },
    {
     "name": "stderr",
     "output_type": "stream",
     "text": [
      "feature_fraction, val_score: 0.399273:  57%|#########################7                   | 4/7 [00:03<00:02,  1.32it/s]\u001b[32m[I 2021-06-12 15:43:23,599]\u001b[0m Trial 3 finished with value: 0.3996896813634806 and parameters: {'feature_fraction': 0.8999999999999999}. Best is trial 2 with value: 0.39927275106201293.\u001b[0m\n",
      "feature_fraction, val_score: 0.399273:  57%|#########################7                   | 4/7 [00:03<00:02,  1.32it/s]"
     ]
    },
    {
     "name": "stdout",
     "output_type": "stream",
     "text": [
      "Training until validation scores don't improve for 10 rounds\n",
      "[100]\ttrain's multi_logloss: 0.335733\teval's multi_logloss: 0.434528\n",
      "[200]\ttrain's multi_logloss: 0.231532\teval's multi_logloss: 0.400724\n"
     ]
    },
    {
     "name": "stderr",
     "output_type": "stream",
     "text": [
      "feature_fraction, val_score: 0.395347:  71%|################################1            | 5/7 [00:03<00:01,  1.25it/s]\u001b[32m[I 2021-06-12 15:43:24,472]\u001b[0m Trial 4 finished with value: 0.3953469459768124 and parameters: {'feature_fraction': 0.8}. Best is trial 4 with value: 0.3953469459768124.\u001b[0m\n",
      "feature_fraction, val_score: 0.395347:  71%|################################1            | 5/7 [00:03<00:01,  1.25it/s]"
     ]
    },
    {
     "name": "stdout",
     "output_type": "stream",
     "text": [
      "Early stopping, best iteration is:\n",
      "[244]\ttrain's multi_logloss: 0.200407\teval's multi_logloss: 0.395347\n",
      "Training until validation scores don't improve for 10 rounds\n",
      "[100]\ttrain's multi_logloss: 0.366622\teval's multi_logloss: 0.460173\n",
      "[200]\ttrain's multi_logloss: 0.259382\teval's multi_logloss: 0.413143\n"
     ]
    },
    {
     "name": "stderr",
     "output_type": "stream",
     "text": [
      "\r",
      "feature_fraction, val_score: 0.395347:  71%|################################1            | 5/7 [00:05<00:01,  1.25it/s]"
     ]
    },
    {
     "name": "stdout",
     "output_type": "stream",
     "text": [
      "[300]\ttrain's multi_logloss: 0.19254\teval's multi_logloss: 0.402365\n",
      "Early stopping, best iteration is:\n",
      "[302]\ttrain's multi_logloss: 0.191599\teval's multi_logloss: 0.402284\n"
     ]
    },
    {
     "name": "stderr",
     "output_type": "stream",
     "text": [
      "feature_fraction, val_score: 0.395347:  86%|######################################5      | 6/7 [00:05<00:00,  1.12it/s]\u001b[32m[I 2021-06-12 15:43:25,547]\u001b[0m Trial 5 finished with value: 0.40228362257260974 and parameters: {'feature_fraction': 0.5}. Best is trial 4 with value: 0.3953469459768124.\u001b[0m\n",
      "feature_fraction, val_score: 0.395347:  86%|######################################5      | 6/7 [00:05<00:00,  1.12it/s]"
     ]
    },
    {
     "name": "stdout",
     "output_type": "stream",
     "text": [
      "Training until validation scores don't improve for 10 rounds\n",
      "[100]\ttrain's multi_logloss: 0.452942\teval's multi_logloss: 0.559486\n",
      "[200]\ttrain's multi_logloss: 0.345878\teval's multi_logloss: 0.522459\n"
     ]
    },
    {
     "name": "stderr",
     "output_type": "stream",
     "text": [
      "feature_fraction, val_score: 0.395347: 100%|#############################################| 7/7 [00:05<00:00,  1.11it/s]\u001b[32m[I 2021-06-12 15:43:26,458]\u001b[0m Trial 6 finished with value: 0.5057822468037989 and parameters: {'feature_fraction': 0.4}. Best is trial 4 with value: 0.3953469459768124.\u001b[0m\n",
      "feature_fraction, val_score: 0.395347: 100%|#############################################| 7/7 [00:05<00:00,  1.17it/s]\n",
      "num_leaves, val_score: 0.395347:   0%|                                                          | 0/20 [00:00<?, ?it/s]"
     ]
    },
    {
     "name": "stdout",
     "output_type": "stream",
     "text": [
      "Early stopping, best iteration is:\n",
      "[273]\ttrain's multi_logloss: 0.289907\teval's multi_logloss: 0.505782\n",
      "Training until validation scores don't improve for 10 rounds\n",
      "[100]\ttrain's multi_logloss: 0.335709\teval's multi_logloss: 0.434588\n",
      "[200]\ttrain's multi_logloss: 0.231574\teval's multi_logloss: 0.400109\n",
      "Early stopping, best iteration is:\n",
      "[247]\ttrain's multi_logloss: 0.198316\teval's multi_logloss: 0.394868\n"
     ]
    },
    {
     "name": "stderr",
     "output_type": "stream",
     "text": [
      "num_leaves, val_score: 0.394868:   5%|##5                                               | 1/20 [00:00<00:13,  1.37it/s]\u001b[32m[I 2021-06-12 15:43:27,193]\u001b[0m Trial 7 finished with value: 0.3948682435344789 and parameters: {'num_leaves': 219}. Best is trial 7 with value: 0.3948682435344789.\u001b[0m\n",
      "num_leaves, val_score: 0.394868:   5%|##5                                               | 1/20 [00:00<00:13,  1.37it/s]"
     ]
    },
    {
     "name": "stdout",
     "output_type": "stream",
     "text": [
      "Training until validation scores don't improve for 10 rounds\n",
      "[100]\ttrain's multi_logloss: 0.335709\teval's multi_logloss: 0.434588\n",
      "[200]\ttrain's multi_logloss: 0.231574\teval's multi_logloss: 0.400109\n",
      "Early stopping, best iteration is:\n",
      "[247]\ttrain's multi_logloss: 0.198316\teval's multi_logloss: 0.394868\n"
     ]
    },
    {
     "name": "stderr",
     "output_type": "stream",
     "text": [
      "num_leaves, val_score: 0.394868:  10%|#####                                             | 2/20 [00:01<00:13,  1.36it/s]\u001b[32m[I 2021-06-12 15:43:27,929]\u001b[0m Trial 8 finished with value: 0.3948682435344789 and parameters: {'num_leaves': 210}. Best is trial 7 with value: 0.3948682435344789.\u001b[0m\n",
      "num_leaves, val_score: 0.394868:  10%|#####                                             | 2/20 [00:01<00:13,  1.36it/s]"
     ]
    },
    {
     "name": "stdout",
     "output_type": "stream",
     "text": [
      "Training until validation scores don't improve for 10 rounds\n",
      "[100]\ttrain's multi_logloss: 0.335709\teval's multi_logloss: 0.434588\n",
      "[200]\ttrain's multi_logloss: 0.231574\teval's multi_logloss: 0.400109\n",
      "Early stopping, best iteration is:\n",
      "[247]\ttrain's multi_logloss: 0.198316\teval's multi_logloss: 0.394868\n"
     ]
    },
    {
     "name": "stderr",
     "output_type": "stream",
     "text": [
      "num_leaves, val_score: 0.394868:  15%|#######5                                          | 3/20 [00:02<00:12,  1.32it/s]\u001b[32m[I 2021-06-12 15:43:28,713]\u001b[0m Trial 9 finished with value: 0.3948682435344789 and parameters: {'num_leaves': 176}. Best is trial 7 with value: 0.3948682435344789.\u001b[0m\n",
      "num_leaves, val_score: 0.394868:  15%|#######5                                          | 3/20 [00:02<00:12,  1.32it/s]"
     ]
    },
    {
     "name": "stdout",
     "output_type": "stream",
     "text": [
      "Training until validation scores don't improve for 10 rounds\n",
      "[100]\ttrain's multi_logloss: 0.366026\teval's multi_logloss: 0.439001\n"
     ]
    },
    {
     "name": "stderr",
     "output_type": "stream",
     "text": [
      "num_leaves, val_score: 0.393748:  20%|##########                                        | 4/20 [00:02<00:09,  1.69it/s]\u001b[32m[I 2021-06-12 15:43:29,048]\u001b[0m Trial 10 finished with value: 0.3937483695634044 and parameters: {'num_leaves': 11}. Best is trial 10 with value: 0.3937483695634044.\u001b[0m\n",
      "num_leaves, val_score: 0.393748:  20%|##########                                        | 4/20 [00:02<00:09,  1.69it/s]"
     ]
    },
    {
     "name": "stdout",
     "output_type": "stream",
     "text": [
      "[200]\ttrain's multi_logloss: 0.289031\teval's multi_logloss: 0.400388\n",
      "Early stopping, best iteration is:\n",
      "[250]\ttrain's multi_logloss: 0.265433\teval's multi_logloss: 0.393748\n",
      "Training until validation scores don't improve for 10 rounds\n",
      "[100]\ttrain's multi_logloss: 0.335709\teval's multi_logloss: 0.434588\n",
      "[200]\ttrain's multi_logloss: 0.231574\teval's multi_logloss: 0.400109\n",
      "Early stopping, best iteration is:\n",
      "[247]\ttrain's multi_logloss: 0.198316\teval's multi_logloss: 0.394868\n"
     ]
    },
    {
     "name": "stderr",
     "output_type": "stream",
     "text": [
      "num_leaves, val_score: 0.393748:  25%|############5                                     | 5/20 [00:03<00:10,  1.48it/s]\u001b[32m[I 2021-06-12 15:43:29,875]\u001b[0m Trial 11 finished with value: 0.3948682435344789 and parameters: {'num_leaves': 204}. Best is trial 10 with value: 0.3937483695634044.\u001b[0m\n",
      "num_leaves, val_score: 0.393748:  25%|############5                                     | 5/20 [00:03<00:10,  1.48it/s]"
     ]
    },
    {
     "name": "stdout",
     "output_type": "stream",
     "text": [
      "Training until validation scores don't improve for 10 rounds\n",
      "[100]\ttrain's multi_logloss: 0.335709\teval's multi_logloss: 0.434588\n",
      "[200]\ttrain's multi_logloss: 0.231574\teval's multi_logloss: 0.400109\n",
      "Early stopping, best iteration is:\n",
      "[247]\ttrain's multi_logloss: 0.198316\teval's multi_logloss: 0.394868\n"
     ]
    },
    {
     "name": "stderr",
     "output_type": "stream",
     "text": [
      "num_leaves, val_score: 0.393748:  30%|###############                                   | 6/20 [00:04<00:09,  1.47it/s]\u001b[32m[I 2021-06-12 15:43:30,567]\u001b[0m Trial 12 finished with value: 0.3948682435344789 and parameters: {'num_leaves': 69}. Best is trial 10 with value: 0.3937483695634044.\u001b[0m\n",
      "num_leaves, val_score: 0.393748:  30%|###############                                   | 6/20 [00:04<00:09,  1.47it/s]"
     ]
    },
    {
     "name": "stdout",
     "output_type": "stream",
     "text": [
      "Training until validation scores don't improve for 10 rounds\n",
      "[100]\ttrain's multi_logloss: 0.335709\teval's multi_logloss: 0.434588\n",
      "[200]\ttrain's multi_logloss: 0.231574\teval's multi_logloss: 0.400109\n",
      "Early stopping, best iteration is:\n",
      "[247]\ttrain's multi_logloss: 0.198316\teval's multi_logloss: 0.394868\n"
     ]
    },
    {
     "name": "stderr",
     "output_type": "stream",
     "text": [
      "num_leaves, val_score: 0.393748:  35%|#################5                                | 7/20 [00:05<00:09,  1.31it/s]\u001b[32m[I 2021-06-12 15:43:31,501]\u001b[0m Trial 13 finished with value: 0.3948682435344789 and parameters: {'num_leaves': 194}. Best is trial 10 with value: 0.3937483695634044.\u001b[0m\n",
      "num_leaves, val_score: 0.393748:  35%|#################5                                | 7/20 [00:05<00:09,  1.31it/s]"
     ]
    },
    {
     "name": "stdout",
     "output_type": "stream",
     "text": [
      "Training until validation scores don't improve for 10 rounds\n",
      "[100]\ttrain's multi_logloss: 0.335709\teval's multi_logloss: 0.434588\n",
      "[200]\ttrain's multi_logloss: 0.231574\teval's multi_logloss: 0.400109\n",
      "Early stopping, best iteration is:\n",
      "[247]\ttrain's multi_logloss: 0.198316\teval's multi_logloss: 0.394868\n"
     ]
    },
    {
     "name": "stderr",
     "output_type": "stream",
     "text": [
      "num_leaves, val_score: 0.393748:  40%|####################                              | 8/20 [00:05<00:09,  1.33it/s]\u001b[32m[I 2021-06-12 15:43:32,228]\u001b[0m Trial 14 finished with value: 0.3948682435344789 and parameters: {'num_leaves': 142}. Best is trial 10 with value: 0.3937483695634044.\u001b[0m\n",
      "num_leaves, val_score: 0.393748:  40%|####################                              | 8/20 [00:05<00:09,  1.33it/s]"
     ]
    },
    {
     "name": "stdout",
     "output_type": "stream",
     "text": [
      "Training until validation scores don't improve for 10 rounds\n",
      "[100]\ttrain's multi_logloss: 0.335709\teval's multi_logloss: 0.434588\n",
      "[200]\ttrain's multi_logloss: 0.231574\teval's multi_logloss: 0.400109\n",
      "Early stopping, best iteration is:\n",
      "[247]\ttrain's multi_logloss: 0.198316\teval's multi_logloss: 0.394868\n"
     ]
    },
    {
     "name": "stderr",
     "output_type": "stream",
     "text": [
      "num_leaves, val_score: 0.393748:  45%|######################5                           | 9/20 [00:06<00:08,  1.36it/s]\u001b[32m[I 2021-06-12 15:43:32,935]\u001b[0m Trial 15 finished with value: 0.3948682435344789 and parameters: {'num_leaves': 135}. Best is trial 10 with value: 0.3937483695634044.\u001b[0m\n",
      "num_leaves, val_score: 0.393748:  45%|######################5                           | 9/20 [00:06<00:08,  1.36it/s]"
     ]
    },
    {
     "name": "stdout",
     "output_type": "stream",
     "text": [
      "Training until validation scores don't improve for 10 rounds\n",
      "[100]\ttrain's multi_logloss: 0.335709\teval's multi_logloss: 0.434588\n",
      "[200]\ttrain's multi_logloss: 0.231574\teval's multi_logloss: 0.400109\n",
      "Early stopping, best iteration is:\n",
      "[247]\ttrain's multi_logloss: 0.198316\teval's multi_logloss: 0.394868\n"
     ]
    },
    {
     "name": "stderr",
     "output_type": "stream",
     "text": [
      "num_leaves, val_score: 0.393748:  50%|########################5                        | 10/20 [00:07<00:07,  1.36it/s]\u001b[32m[I 2021-06-12 15:43:33,670]\u001b[0m Trial 16 finished with value: 0.3948682435344789 and parameters: {'num_leaves': 211}. Best is trial 10 with value: 0.3937483695634044.\u001b[0m\n",
      "num_leaves, val_score: 0.393748:  50%|########################5                        | 10/20 [00:07<00:07,  1.36it/s]"
     ]
    },
    {
     "name": "stdout",
     "output_type": "stream",
     "text": [
      "Training until validation scores don't improve for 10 rounds\n",
      "[100]\ttrain's multi_logloss: 0.376306\teval's multi_logloss: 0.442169\n",
      "[200]\ttrain's multi_logloss: 0.30733\teval's multi_logloss: 0.404807\n"
     ]
    },
    {
     "name": "stderr",
     "output_type": "stream",
     "text": [
      "num_leaves, val_score: 0.393748:  55%|##########################9                      | 11/20 [00:07<00:05,  1.65it/s]\u001b[32m[I 2021-06-12 15:43:33,978]\u001b[0m Trial 17 finished with value: 0.3963049098731481 and parameters: {'num_leaves': 8}. Best is trial 10 with value: 0.3937483695634044.\u001b[0m\n",
      "num_leaves, val_score: 0.393748:  55%|##########################9                      | 11/20 [00:07<00:05,  1.65it/s]"
     ]
    },
    {
     "name": "stdout",
     "output_type": "stream",
     "text": [
      "Early stopping, best iteration is:\n",
      "[255]\ttrain's multi_logloss: 0.285051\teval's multi_logloss: 0.396305\n",
      "Training until validation scores don't improve for 10 rounds\n",
      "[100]\ttrain's multi_logloss: 0.366026\teval's multi_logloss: 0.439001\n"
     ]
    },
    {
     "name": "stderr",
     "output_type": "stream",
     "text": [
      "num_leaves, val_score: 0.393748:  60%|#############################4                   | 12/20 [00:07<00:04,  1.93it/s]\u001b[32m[I 2021-06-12 15:43:34,293]\u001b[0m Trial 18 finished with value: 0.3937483695634044 and parameters: {'num_leaves': 11}. Best is trial 10 with value: 0.3937483695634044.\u001b[0m\n",
      "num_leaves, val_score: 0.393748:  60%|#############################4                   | 12/20 [00:07<00:04,  1.93it/s]"
     ]
    },
    {
     "name": "stdout",
     "output_type": "stream",
     "text": [
      "[200]\ttrain's multi_logloss: 0.289031\teval's multi_logloss: 0.400388\n",
      "Early stopping, best iteration is:\n",
      "[250]\ttrain's multi_logloss: 0.265433\teval's multi_logloss: 0.393748\n",
      "Training until validation scores don't improve for 10 rounds\n"
     ]
    },
    {
     "name": "stderr",
     "output_type": "stream",
     "text": [
      "num_leaves, val_score: 0.393748:  65%|###############################8                 | 13/20 [00:08<00:03,  2.22it/s]\u001b[32m[I 2021-06-12 15:43:34,590]\u001b[0m Trial 19 finished with value: 0.394926022144728 and parameters: {'num_leaves': 10}. Best is trial 10 with value: 0.3937483695634044.\u001b[0m\n",
      "num_leaves, val_score: 0.393748:  65%|###############################8                 | 13/20 [00:08<00:03,  2.22it/s]"
     ]
    },
    {
     "name": "stdout",
     "output_type": "stream",
     "text": [
      "[100]\ttrain's multi_logloss: 0.369146\teval's multi_logloss: 0.439902\n",
      "[200]\ttrain's multi_logloss: 0.294418\teval's multi_logloss: 0.402216\n",
      "Early stopping, best iteration is:\n",
      "[250]\ttrain's multi_logloss: 0.271969\teval's multi_logloss: 0.394926\n",
      "Training until validation scores don't improve for 10 rounds\n",
      "[100]\ttrain's multi_logloss: 0.335709\teval's multi_logloss: 0.434588\n",
      "[200]\ttrain's multi_logloss: 0.231574\teval's multi_logloss: 0.400109\n",
      "Early stopping, best iteration is:\n",
      "[247]\ttrain's multi_logloss: 0.198316\teval's multi_logloss: 0.394868\n"
     ]
    },
    {
     "name": "stderr",
     "output_type": "stream",
     "text": [
      "num_leaves, val_score: 0.393748:  70%|##################################3              | 14/20 [00:08<00:03,  1.92it/s]\u001b[32m[I 2021-06-12 15:43:35,273]\u001b[0m Trial 20 finished with value: 0.3948682435344789 and parameters: {'num_leaves': 50}. Best is trial 10 with value: 0.3937483695634044.\u001b[0m\n",
      "num_leaves, val_score: 0.393748:  70%|##################################3              | 14/20 [00:08<00:03,  1.92it/s]"
     ]
    },
    {
     "name": "stdout",
     "output_type": "stream",
     "text": [
      "Training until validation scores don't improve for 10 rounds\n",
      "[100]\ttrain's multi_logloss: 0.335709\teval's multi_logloss: 0.434588\n",
      "[200]\ttrain's multi_logloss: 0.231574\teval's multi_logloss: 0.400109\n",
      "Early stopping, best iteration is:\n",
      "[247]\ttrain's multi_logloss: 0.198316\teval's multi_logloss: 0.394868\n"
     ]
    },
    {
     "name": "stderr",
     "output_type": "stream",
     "text": [
      "num_leaves, val_score: 0.393748:  75%|####################################7            | 15/20 [00:09<00:02,  1.76it/s]\u001b[32m[I 2021-06-12 15:43:35,953]\u001b[0m Trial 21 finished with value: 0.3948682435344789 and parameters: {'num_leaves': 58}. Best is trial 10 with value: 0.3937483695634044.\u001b[0m\n",
      "num_leaves, val_score: 0.393748:  75%|####################################7            | 15/20 [00:09<00:02,  1.76it/s]"
     ]
    },
    {
     "name": "stdout",
     "output_type": "stream",
     "text": [
      "Training until validation scores don't improve for 10 rounds\n",
      "[100]\ttrain's multi_logloss: 0.335709\teval's multi_logloss: 0.434588\n",
      "[200]\ttrain's multi_logloss: 0.231574\teval's multi_logloss: 0.400109\n",
      "Early stopping, best iteration is:\n",
      "[247]\ttrain's multi_logloss: 0.198316\teval's multi_logloss: 0.394868\n"
     ]
    },
    {
     "name": "stderr",
     "output_type": "stream",
     "text": [
      "num_leaves, val_score: 0.393748:  80%|#######################################2         | 16/20 [00:10<00:02,  1.65it/s]\u001b[32m[I 2021-06-12 15:43:36,649]\u001b[0m Trial 22 finished with value: 0.3948682435344789 and parameters: {'num_leaves': 93}. Best is trial 10 with value: 0.3937483695634044.\u001b[0m\n",
      "num_leaves, val_score: 0.393748:  80%|#######################################2         | 16/20 [00:10<00:02,  1.65it/s]"
     ]
    },
    {
     "name": "stdout",
     "output_type": "stream",
     "text": [
      "Training until validation scores don't improve for 10 rounds\n",
      "[100]\ttrain's multi_logloss: 0.335709\teval's multi_logloss: 0.434588\n",
      "[200]\ttrain's multi_logloss: 0.231574\teval's multi_logloss: 0.400109\n",
      "Early stopping, best iteration is:\n",
      "[247]\ttrain's multi_logloss: 0.198316\teval's multi_logloss: 0.394868\n"
     ]
    },
    {
     "name": "stderr",
     "output_type": "stream",
     "text": [
      "num_leaves, val_score: 0.393748:  85%|#########################################6       | 17/20 [00:10<00:01,  1.54it/s]\u001b[32m[I 2021-06-12 15:43:37,396]\u001b[0m Trial 23 finished with value: 0.3948682435344789 and parameters: {'num_leaves': 255}. Best is trial 10 with value: 0.3937483695634044.\u001b[0m\n",
      "num_leaves, val_score: 0.393748:  85%|#########################################6       | 17/20 [00:10<00:01,  1.54it/s]"
     ]
    },
    {
     "name": "stdout",
     "output_type": "stream",
     "text": [
      "Training until validation scores don't improve for 10 rounds\n",
      "[100]\ttrain's multi_logloss: 0.33717\teval's multi_logloss: 0.433916\n"
     ]
    },
    {
     "name": "stderr",
     "output_type": "stream",
     "text": [
      "\r",
      "num_leaves, val_score: 0.393748:  85%|#########################################6       | 17/20 [00:11<00:01,  1.54it/s]"
     ]
    },
    {
     "name": "stdout",
     "output_type": "stream",
     "text": [
      "[200]\ttrain's multi_logloss: 0.235168\teval's multi_logloss: 0.400427\n",
      "Early stopping, best iteration is:\n",
      "[247]\ttrain's multi_logloss: 0.203403\teval's multi_logloss: 0.39481\n"
     ]
    },
    {
     "name": "stderr",
     "output_type": "stream",
     "text": [
      "num_leaves, val_score: 0.393748:  90%|############################################1    | 18/20 [00:11<00:01,  1.60it/s]\u001b[32m[I 2021-06-12 15:43:37,961]\u001b[0m Trial 24 finished with value: 0.39480996666521145 and parameters: {'num_leaves': 29}. Best is trial 10 with value: 0.3937483695634044.\u001b[0m\n",
      "num_leaves, val_score: 0.393748:  90%|############################################1    | 18/20 [00:11<00:01,  1.60it/s]"
     ]
    },
    {
     "name": "stdout",
     "output_type": "stream",
     "text": [
      "Training until validation scores don't improve for 10 rounds\n",
      "[100]\ttrain's multi_logloss: 0.335709\teval's multi_logloss: 0.434588\n",
      "[200]\ttrain's multi_logloss: 0.231574\teval's multi_logloss: 0.400109\n",
      "Early stopping, best iteration is:\n",
      "[247]\ttrain's multi_logloss: 0.198316\teval's multi_logloss: 0.394868\n"
     ]
    },
    {
     "name": "stderr",
     "output_type": "stream",
     "text": [
      "num_leaves, val_score: 0.393748:  95%|##############################################5  | 19/20 [00:12<00:00,  1.44it/s]\u001b[32m[I 2021-06-12 15:43:38,822]\u001b[0m Trial 25 finished with value: 0.3948682435344789 and parameters: {'num_leaves': 98}. Best is trial 10 with value: 0.3937483695634044.\u001b[0m\n",
      "num_leaves, val_score: 0.393748:  95%|##############################################5  | 19/20 [00:12<00:00,  1.44it/s]"
     ]
    },
    {
     "name": "stdout",
     "output_type": "stream",
     "text": [
      "Training until validation scores don't improve for 10 rounds\n",
      "[100]\ttrain's multi_logloss: 0.397477\teval's multi_logloss: 0.453114\n",
      "[200]\ttrain's multi_logloss: 0.34215\teval's multi_logloss: 0.416765\n",
      "[300]\ttrain's multi_logloss: 0.318033\teval's multi_logloss: 0.402566\n",
      "Early stopping, best iteration is:\n",
      "[330]\ttrain's multi_logloss: 0.312659\teval's multi_logloss: 0.40039\n"
     ]
    },
    {
     "name": "stderr",
     "output_type": "stream",
     "text": [
      "num_leaves, val_score: 0.393748: 100%|#################################################| 20/20 [00:12<00:00,  1.78it/s]\u001b[32m[I 2021-06-12 15:43:39,070]\u001b[0m Trial 26 finished with value: 0.4003902753837513 and parameters: {'num_leaves': 4}. Best is trial 10 with value: 0.3937483695634044.\u001b[0m\n",
      "num_leaves, val_score: 0.393748: 100%|#################################################| 20/20 [00:12<00:00,  1.59it/s]\n",
      "bagging, val_score: 0.393748:   0%|                                                             | 0/10 [00:00<?, ?it/s]"
     ]
    },
    {
     "name": "stdout",
     "output_type": "stream",
     "text": [
      "Training until validation scores don't improve for 10 rounds\n",
      "[100]\ttrain's multi_logloss: 0.374975\teval's multi_logloss: 0.442391\n"
     ]
    },
    {
     "name": "stderr",
     "output_type": "stream",
     "text": [
      "bagging, val_score: 0.393748:  10%|#####3                                               | 1/10 [00:00<00:02,  3.22it/s]\u001b[32m[I 2021-06-12 15:43:39,391]\u001b[0m Trial 27 finished with value: 0.39631495871044653 and parameters: {'bagging_fraction': 0.4731765401714988, 'bagging_freq': 3}. Best is trial 27 with value: 0.39631495871044653.\u001b[0m\n",
      "bagging, val_score: 0.393748:  10%|#####3                                               | 1/10 [00:00<00:02,  3.22it/s]"
     ]
    },
    {
     "name": "stdout",
     "output_type": "stream",
     "text": [
      "[200]\ttrain's multi_logloss: 0.300402\teval's multi_logloss: 0.404424\n",
      "Early stopping, best iteration is:\n",
      "[264]\ttrain's multi_logloss: 0.271175\teval's multi_logloss: 0.396315\n",
      "Training until validation scores don't improve for 10 rounds\n",
      "[100]\ttrain's multi_logloss: 0.36505\teval's multi_logloss: 0.439853\n",
      "[200]\ttrain's multi_logloss: 0.287225\teval's multi_logloss: 0.401591\n"
     ]
    },
    {
     "name": "stderr",
     "output_type": "stream",
     "text": [
      "bagging, val_score: 0.393748:  20%|##########6                                          | 2/10 [00:00<00:02,  2.81it/s]\u001b[32m[I 2021-06-12 15:43:39,780]\u001b[0m Trial 28 finished with value: 0.3941340177525291 and parameters: {'bagging_fraction': 0.8680803048415602, 'bagging_freq': 4}. Best is trial 28 with value: 0.3941340177525291.\u001b[0m\n",
      "bagging, val_score: 0.393748:  20%|##########6                                          | 2/10 [00:00<00:02,  2.81it/s]"
     ]
    },
    {
     "name": "stdout",
     "output_type": "stream",
     "text": [
      "[300]\ttrain's multi_logloss: 0.244833\teval's multi_logloss: 0.394452\n",
      "Early stopping, best iteration is:\n",
      "[295]\ttrain's multi_logloss: 0.246577\teval's multi_logloss: 0.394134\n",
      "Training until validation scores don't improve for 10 rounds\n",
      "[100]\ttrain's multi_logloss: 0.368375\teval's multi_logloss: 0.441862\n"
     ]
    },
    {
     "name": "stderr",
     "output_type": "stream",
     "text": [
      "bagging, val_score: 0.393748:  30%|###############9                                     | 3/10 [00:01<00:02,  2.96it/s]\u001b[32m[I 2021-06-12 15:43:40,095]\u001b[0m Trial 29 finished with value: 0.39733542330239724 and parameters: {'bagging_fraction': 0.6974855811829374, 'bagging_freq': 7}. Best is trial 28 with value: 0.3941340177525291.\u001b[0m\n",
      "bagging, val_score: 0.393748:  30%|###############9                                     | 3/10 [00:01<00:02,  2.96it/s]"
     ]
    },
    {
     "name": "stdout",
     "output_type": "stream",
     "text": [
      "[200]\ttrain's multi_logloss: 0.291494\teval's multi_logloss: 0.40367\n",
      "Early stopping, best iteration is:\n",
      "[257]\ttrain's multi_logloss: 0.264852\teval's multi_logloss: 0.397335\n",
      "Training until validation scores don't improve for 10 rounds\n"
     ]
    },
    {
     "name": "stderr",
     "output_type": "stream",
     "text": [
      "\r",
      "bagging, val_score: 0.393748:  30%|###############9                                     | 3/10 [00:01<00:02,  2.96it/s]"
     ]
    },
    {
     "name": "stdout",
     "output_type": "stream",
     "text": [
      "[100]\ttrain's multi_logloss: 0.373055\teval's multi_logloss: 0.440871\n",
      "[200]\ttrain's multi_logloss: 0.297048\teval's multi_logloss: 0.404024\n",
      "Early stopping, best iteration is:\n",
      "[264]\ttrain's multi_logloss: 0.269243\teval's multi_logloss: 0.398617\n"
     ]
    },
    {
     "name": "stderr",
     "output_type": "stream",
     "text": [
      "bagging, val_score: 0.393748:  40%|#####################2                               | 4/10 [00:01<00:02,  2.97it/s]\u001b[32m[I 2021-06-12 15:43:40,432]\u001b[0m Trial 30 finished with value: 0.3986174025514121 and parameters: {'bagging_fraction': 0.5424351021556957, 'bagging_freq': 6}. Best is trial 28 with value: 0.3941340177525291.\u001b[0m\n",
      "bagging, val_score: 0.393748:  40%|#####################2                               | 4/10 [00:01<00:02,  2.97it/s]"
     ]
    },
    {
     "name": "stdout",
     "output_type": "stream",
     "text": [
      "Training until validation scores don't improve for 10 rounds\n",
      "[100]\ttrain's multi_logloss: 0.372306\teval's multi_logloss: 0.441566\n",
      "[200]\ttrain's multi_logloss: 0.295141\teval's multi_logloss: 0.404954"
     ]
    },
    {
     "name": "stderr",
     "output_type": "stream",
     "text": [
      "bagging, val_score: 0.393748:  50%|##########################5                          | 5/10 [00:01<00:01,  3.10it/s]\u001b[32m[I 2021-06-12 15:43:40,728]\u001b[0m Trial 31 finished with value: 0.40262542752315483 and parameters: {'bagging_fraction': 0.6060423293809153, 'bagging_freq': 6}. Best is trial 28 with value: 0.3941340177525291.\u001b[0m\n",
      "bagging, val_score: 0.393748:  50%|##########################5                          | 5/10 [00:01<00:01,  3.10it/s]"
     ]
    },
    {
     "name": "stdout",
     "output_type": "stream",
     "text": [
      "\n",
      "Early stopping, best iteration is:\n",
      "[235]\ttrain's multi_logloss: 0.278699\teval's multi_logloss: 0.402625\n",
      "Training until validation scores don't improve for 10 rounds\n"
     ]
    },
    {
     "name": "stderr",
     "output_type": "stream",
     "text": [
      "\r",
      "bagging, val_score: 0.391799:  50%|##########################5                          | 5/10 [00:01<00:01,  3.10it/s]"
     ]
    },
    {
     "name": "stdout",
     "output_type": "stream",
     "text": [
      "[100]\ttrain's multi_logloss: 0.367515\teval's multi_logloss: 0.439957\n",
      "[200]\ttrain's multi_logloss: 0.290008\teval's multi_logloss: 0.400021\n",
      "Early stopping, best iteration is:\n",
      "[250]\ttrain's multi_logloss: 0.267082\teval's multi_logloss: 0.391799\n"
     ]
    },
    {
     "name": "stderr",
     "output_type": "stream",
     "text": [
      "bagging, val_score: 0.391799:  60%|###############################8                     | 6/10 [00:01<00:01,  3.13it/s]\u001b[32m[I 2021-06-12 15:43:41,038]\u001b[0m Trial 32 finished with value: 0.3917986096631475 and parameters: {'bagging_fraction': 0.7443985861081386, 'bagging_freq': 5}. Best is trial 32 with value: 0.3917986096631475.\u001b[0m\n",
      "bagging, val_score: 0.391799:  60%|###############################8                     | 6/10 [00:01<00:01,  3.13it/s]"
     ]
    },
    {
     "name": "stdout",
     "output_type": "stream",
     "text": [
      "Training until validation scores don't improve for 10 rounds\n",
      "[100]\ttrain's multi_logloss: 0.364701\teval's multi_logloss: 0.443529\n"
     ]
    },
    {
     "name": "stderr",
     "output_type": "stream",
     "text": [
      "bagging, val_score: 0.391799:  70%|#####################################                | 7/10 [00:02<00:01,  3.00it/s]\u001b[32m[I 2021-06-12 15:43:41,404]\u001b[0m Trial 33 finished with value: 0.39936385993636553 and parameters: {'bagging_fraction': 0.9283643540314823, 'bagging_freq': 7}. Best is trial 32 with value: 0.3917986096631475.\u001b[0m\n",
      "bagging, val_score: 0.391799:  70%|#####################################                | 7/10 [00:02<00:01,  3.00it/s]"
     ]
    },
    {
     "name": "stdout",
     "output_type": "stream",
     "text": [
      "[200]\ttrain's multi_logloss: 0.287621\teval's multi_logloss: 0.406029\n",
      "Early stopping, best iteration is:\n",
      "[253]\ttrain's multi_logloss: 0.262767\teval's multi_logloss: 0.399364\n",
      "Training until validation scores don't improve for 10 rounds\n"
     ]
    },
    {
     "name": "stderr",
     "output_type": "stream",
     "text": [
      "\r",
      "bagging, val_score: 0.391799:  70%|#####################################                | 7/10 [00:02<00:01,  3.00it/s]"
     ]
    },
    {
     "name": "stdout",
     "output_type": "stream",
     "text": [
      "[100]\ttrain's multi_logloss: 0.364944\teval's multi_logloss: 0.440048\n",
      "[200]\ttrain's multi_logloss: 0.287892\teval's multi_logloss: 0.401313\n",
      "Early stopping, best iteration is:\n",
      "[248]\ttrain's multi_logloss: 0.265206\teval's multi_logloss: 0.394864\n"
     ]
    },
    {
     "name": "stderr",
     "output_type": "stream",
     "text": [
      "bagging, val_score: 0.391799:  80%|##########################################4          | 8/10 [00:02<00:00,  3.07it/s]\u001b[32m[I 2021-06-12 15:43:41,712]\u001b[0m Trial 34 finished with value: 0.39486441881384987 and parameters: {'bagging_fraction': 0.8753172122535384, 'bagging_freq': 5}. Best is trial 32 with value: 0.3917986096631475.\u001b[0m\n",
      "bagging, val_score: 0.391799:  80%|##########################################4          | 8/10 [00:02<00:00,  3.07it/s]"
     ]
    },
    {
     "name": "stdout",
     "output_type": "stream",
     "text": [
      "Training until validation scores don't improve for 10 rounds\n",
      "[100]\ttrain's multi_logloss: 0.375595\teval's multi_logloss: 0.442782\n",
      "[200]\ttrain's multi_logloss: 0.302075\teval's multi_logloss: 0.403077\n"
     ]
    },
    {
     "name": "stderr",
     "output_type": "stream",
     "text": [
      "bagging, val_score: 0.391799:  90%|###############################################7     | 9/10 [00:02<00:00,  2.97it/s]\u001b[32m[I 2021-06-12 15:43:42,074]\u001b[0m Trial 35 finished with value: 0.39470123963134907 and parameters: {'bagging_fraction': 0.43750775471124614, 'bagging_freq': 1}. Best is trial 32 with value: 0.3917986096631475.\u001b[0m\n",
      "bagging, val_score: 0.391799:  90%|###############################################7     | 9/10 [00:02<00:00,  2.97it/s]"
     ]
    },
    {
     "name": "stdout",
     "output_type": "stream",
     "text": [
      "Early stopping, best iteration is:\n",
      "[282]\ttrain's multi_logloss: 0.267838\teval's multi_logloss: 0.394701\n",
      "Training until validation scores don't improve for 10 rounds\n",
      "[100]\ttrain's multi_logloss: 0.378289\teval's multi_logloss: 0.440703\n"
     ]
    },
    {
     "name": "stderr",
     "output_type": "stream",
     "text": [
      "bagging, val_score: 0.391799: 100%|####################################################| 10/10 [00:03<00:00,  3.05it/s]\u001b[32m[I 2021-06-12 15:43:42,382]\u001b[0m Trial 36 finished with value: 0.39854331981492425 and parameters: {'bagging_fraction': 0.42632717245027163, 'bagging_freq': 6}. Best is trial 32 with value: 0.3917986096631475.\u001b[0m\n",
      "bagging, val_score: 0.391799: 100%|####################################################| 10/10 [00:03<00:00,  3.02it/s]\n",
      "feature_fraction_stage2, val_score: 0.391799:   0%|                                              | 0/6 [00:00<?, ?it/s]"
     ]
    },
    {
     "name": "stdout",
     "output_type": "stream",
     "text": [
      "[200]\ttrain's multi_logloss: 0.303884\teval's multi_logloss: 0.406504\n",
      "Early stopping, best iteration is:\n",
      "[264]\ttrain's multi_logloss: 0.276512\teval's multi_logloss: 0.398543\n",
      "Training until validation scores don't improve for 10 rounds\n"
     ]
    },
    {
     "name": "stderr",
     "output_type": "stream",
     "text": [
      "\r",
      "feature_fraction_stage2, val_score: 0.391799:   0%|                                              | 0/6 [00:00<?, ?it/s]"
     ]
    },
    {
     "name": "stdout",
     "output_type": "stream",
     "text": [
      "[100]\ttrain's multi_logloss: 0.367515\teval's multi_logloss: 0.439957\n",
      "[200]\ttrain's multi_logloss: 0.290008\teval's multi_logloss: 0.400021\n",
      "Early stopping, best iteration is:\n",
      "[250]\ttrain's multi_logloss: 0.267082\teval's multi_logloss: 0.391799\n"
     ]
    },
    {
     "name": "stderr",
     "output_type": "stream",
     "text": [
      "feature_fraction_stage2, val_score: 0.391799:  17%|######3                               | 1/6 [00:00<00:01,  3.33it/s]\u001b[32m[I 2021-06-12 15:43:42,694]\u001b[0m Trial 37 finished with value: 0.3917986096631475 and parameters: {'feature_fraction': 0.784}. Best is trial 37 with value: 0.3917986096631475.\u001b[0m\n",
      "feature_fraction_stage2, val_score: 0.391799:  17%|######3                               | 1/6 [00:00<00:01,  3.33it/s]"
     ]
    },
    {
     "name": "stdout",
     "output_type": "stream",
     "text": [
      "Training until validation scores don't improve for 10 rounds\n",
      "[100]\ttrain's multi_logloss: 0.357439\teval's multi_logloss: 0.433479\n"
     ]
    },
    {
     "name": "stderr",
     "output_type": "stream",
     "text": [
      "feature_fraction_stage2, val_score: 0.391799:  33%|############6                         | 2/6 [00:00<00:01,  3.74it/s]\u001b[32m[I 2021-06-12 15:43:42,938]\u001b[0m Trial 38 finished with value: 0.40086405013254023 and parameters: {'feature_fraction': 0.88}. Best is trial 37 with value: 0.3917986096631475.\u001b[0m\n",
      "feature_fraction_stage2, val_score: 0.391799:  33%|############6                         | 2/6 [00:00<00:01,  3.74it/s]"
     ]
    },
    {
     "name": "stdout",
     "output_type": "stream",
     "text": [
      "[200]\ttrain's multi_logloss: 0.283851\teval's multi_logloss: 0.40098\n",
      "Early stopping, best iteration is:\n",
      "[190]\ttrain's multi_logloss: 0.288821\teval's multi_logloss: 0.400864\n",
      "Training until validation scores don't improve for 10 rounds\n",
      "[100]\ttrain's multi_logloss: 0.367515\teval's multi_logloss: 0.439957\n"
     ]
    },
    {
     "name": "stderr",
     "output_type": "stream",
     "text": [
      "feature_fraction_stage2, val_score: 0.391799:  50%|###################                   | 3/6 [00:00<00:00,  3.49it/s]\u001b[32m[I 2021-06-12 15:43:43,248]\u001b[0m Trial 39 finished with value: 0.3917986096631475 and parameters: {'feature_fraction': 0.7520000000000001}. Best is trial 37 with value: 0.3917986096631475.\u001b[0m\n",
      "feature_fraction_stage2, val_score: 0.391799:  50%|###################                   | 3/6 [00:00<00:00,  3.49it/s]"
     ]
    },
    {
     "name": "stdout",
     "output_type": "stream",
     "text": [
      "[200]\ttrain's multi_logloss: 0.290008\teval's multi_logloss: 0.400021\n",
      "Early stopping, best iteration is:\n",
      "[250]\ttrain's multi_logloss: 0.267082\teval's multi_logloss: 0.391799\n",
      "Training until validation scores don't improve for 10 rounds\n"
     ]
    },
    {
     "name": "stderr",
     "output_type": "stream",
     "text": [
      "feature_fraction_stage2, val_score: 0.391799:  67%|#########################3            | 4/6 [00:01<00:00,  3.72it/s]\u001b[32m[I 2021-06-12 15:43:43,488]\u001b[0m Trial 40 finished with value: 0.40086405013254023 and parameters: {'feature_fraction': 0.8480000000000001}. Best is trial 37 with value: 0.3917986096631475.\u001b[0m\n",
      "feature_fraction_stage2, val_score: 0.391799:  67%|#########################3            | 4/6 [00:01<00:00,  3.72it/s]"
     ]
    },
    {
     "name": "stdout",
     "output_type": "stream",
     "text": [
      "[100]\ttrain's multi_logloss: 0.357439\teval's multi_logloss: 0.433479\n",
      "[200]\ttrain's multi_logloss: 0.283851\teval's multi_logloss: 0.40098\n",
      "Early stopping, best iteration is:\n",
      "[190]\ttrain's multi_logloss: 0.288821\teval's multi_logloss: 0.400864\n",
      "Training until validation scores don't improve for 10 rounds\n"
     ]
    },
    {
     "name": "stderr",
     "output_type": "stream",
     "text": [
      "\r",
      "feature_fraction_stage2, val_score: 0.391799:  67%|#########################3            | 4/6 [00:01<00:00,  3.72it/s]"
     ]
    },
    {
     "name": "stdout",
     "output_type": "stream",
     "text": [
      "[100]\ttrain's multi_logloss: 0.367515\teval's multi_logloss: 0.439957\n",
      "[200]\ttrain's multi_logloss: 0.290008\teval's multi_logloss: 0.400021\n",
      "Early stopping, best iteration is:\n",
      "[250]\ttrain's multi_logloss: 0.267082\teval's multi_logloss: 0.391799\n"
     ]
    },
    {
     "name": "stderr",
     "output_type": "stream",
     "text": [
      "feature_fraction_stage2, val_score: 0.391799:  83%|###############################6      | 5/6 [00:01<00:00,  3.47it/s]\u001b[32m[I 2021-06-12 15:43:43,810]\u001b[0m Trial 41 finished with value: 0.3917986096631475 and parameters: {'feature_fraction': 0.8160000000000001}. Best is trial 37 with value: 0.3917986096631475.\u001b[0m\n",
      "feature_fraction_stage2, val_score: 0.391799:  83%|###############################6      | 5/6 [00:01<00:00,  3.47it/s]"
     ]
    },
    {
     "name": "stdout",
     "output_type": "stream",
     "text": [
      "Training until validation scores don't improve for 10 rounds\n",
      "[100]\ttrain's multi_logloss: 0.382359\teval's multi_logloss: 0.453584\n"
     ]
    },
    {
     "name": "stderr",
     "output_type": "stream",
     "text": [
      "\r",
      "feature_fraction_stage2, val_score: 0.391799:  83%|###############################6      | 5/6 [00:01<00:00,  3.47it/s]"
     ]
    },
    {
     "name": "stdout",
     "output_type": "stream",
     "text": [
      "[200]\ttrain's multi_logloss: 0.300704\teval's multi_logloss: 0.409065\n",
      "[300]\ttrain's multi_logloss: 0.255953\teval's multi_logloss: 0.397279\n",
      "Early stopping, best iteration is:\n",
      "[301]\ttrain's multi_logloss: 0.255681\teval's multi_logloss: 0.397204\n"
     ]
    },
    {
     "name": "stderr",
     "output_type": "stream",
     "text": [
      "feature_fraction_stage2, val_score: 0.391799: 100%|######################################| 6/6 [00:01<00:00,  2.98it/s]\u001b[32m[I 2021-06-12 15:43:44,239]\u001b[0m Trial 42 finished with value: 0.3972043418726268 and parameters: {'feature_fraction': 0.7200000000000001}. Best is trial 37 with value: 0.3917986096631475.\u001b[0m\n",
      "feature_fraction_stage2, val_score: 0.391799: 100%|######################################| 6/6 [00:01<00:00,  3.24it/s]\n",
      "regularization_factors, val_score: 0.391799:   0%|                                              | 0/20 [00:00<?, ?it/s]"
     ]
    },
    {
     "name": "stdout",
     "output_type": "stream",
     "text": [
      "Training until validation scores don't improve for 10 rounds\n",
      "[100]\ttrain's multi_logloss: 0.391658\teval's multi_logloss: 0.450713\n",
      "[200]\ttrain's multi_logloss: 0.324635\teval's multi_logloss: 0.410625\n"
     ]
    },
    {
     "name": "stderr",
     "output_type": "stream",
     "text": [
      "regularization_factors, val_score: 0.391799:   5%|#9                                    | 1/20 [00:00<00:07,  2.61it/s]\u001b[32m[I 2021-06-12 15:43:44,630]\u001b[0m Trial 43 finished with value: 0.39720900219046945 and parameters: {'lambda_l1': 1.7008392563399968, 'lambda_l2': 0.04697889894461702}. Best is trial 43 with value: 0.39720900219046945.\u001b[0m\n",
      "regularization_factors, val_score: 0.391799:   5%|#9                                    | 1/20 [00:00<00:07,  2.61it/s]"
     ]
    },
    {
     "name": "stdout",
     "output_type": "stream",
     "text": [
      "[300]\ttrain's multi_logloss: 0.291534\teval's multi_logloss: 0.397946\n",
      "Early stopping, best iteration is:\n",
      "[325]\ttrain's multi_logloss: 0.285561\teval's multi_logloss: 0.397209\n",
      "Training until validation scores don't improve for 10 rounds\n",
      "[100]\ttrain's multi_logloss: 0.367609\teval's multi_logloss: 0.439994\n"
     ]
    },
    {
     "name": "stderr",
     "output_type": "stream",
     "text": [
      "regularization_factors, val_score: 0.391799:  10%|###8                                  | 2/20 [00:00<00:06,  2.85it/s]\u001b[32m[I 2021-06-12 15:43:44,958]\u001b[0m Trial 44 finished with value: 0.39225354820539027 and parameters: {'lambda_l1': 0.00025638312866717994, 'lambda_l2': 0.008992836832581052}. Best is trial 44 with value: 0.39225354820539027.\u001b[0m\n",
      "regularization_factors, val_score: 0.391799:  10%|###8                                  | 2/20 [00:00<00:06,  2.85it/s]"
     ]
    },
    {
     "name": "stdout",
     "output_type": "stream",
     "text": [
      "[200]\ttrain's multi_logloss: 0.290014\teval's multi_logloss: 0.400222\n",
      "Early stopping, best iteration is:\n",
      "[250]\ttrain's multi_logloss: 0.267022\teval's multi_logloss: 0.392254\n",
      "Training until validation scores don't improve for 10 rounds\n"
     ]
    }
   ],
   "source": [
    "y_lgb_preds = []\n",
    "models = []\n",
    "y_lgb_oof_train = np.zeros((len(X_train),3))\n",
    "cv = StratifiedKFold(n_splits=5, shuffle=True, random_state=0)\n",
    "\n",
    "params = {\n",
    "    'task' : 'train',\n",
    "    'boosting_type' : 'gbdt',\n",
    "    'objective': 'multiclass',\n",
    "    'num_class': 3,\n",
    "    'metric' : 'multi_logloss',\n",
    "    'max_bin' : 255,\n",
    "    'num_leaves' : 40,\n",
    "    'learning_rate' : 0.01,\n",
    "    'feature_fraction' : 0.9,\n",
    "    'bagging_fraction' : 0.8,\n",
    "    'bagging_freq': 5,\n",
    "    'verbose' : -1\n",
    "}\n",
    "\n",
    "# Cross Validation\n",
    "for fold_id, (train_index, valid_index) in enumerate(cv.split(X_train,y_train)):\n",
    "    X_tr = X_train.iloc[train_index, :]\n",
    "    X_val = X_train.iloc[valid_index, :]\n",
    "    y_tr = y_train.iloc[train_index]\n",
    "    y_val = y_train.iloc[valid_index]\n",
    "    \n",
    "    # Train Dataset\n",
    "    lgb_train = lgb.Dataset(X_tr, y_tr)\n",
    "\n",
    "    # Evaluation Dataset (early_stopping_rounds)\n",
    "    lgb_eval = lgb.Dataset(X_val, y_val, reference=lgb_train)\n",
    "    \n",
    "    evals_result = {} #結果を格納するための辞書\n",
    "    # train\n",
    "    gbm = lgb.train(params,\n",
    "                    lgb_train,\n",
    "                    valid_sets=[lgb_train, lgb_eval],\n",
    "                    valid_names=['train','eval'],\n",
    "                    num_boost_round=1000,\n",
    "                    early_stopping_rounds=10,\n",
    "                    verbose_eval=100,\n",
    "                    evals_result=evals_result\n",
    "                   )\n",
    "    # Out-of-hold of train data\n",
    "    y_lgb_oof_train[valid_index] = \\\n",
    "        gbm.predict(X_val, num_iteration=gbm.best_iteration)\n",
    "    \n",
    "    # Prediction for X_test data\n",
    "    y_pred = gbm.predict(X_test, num_iteration=gbm.best_iteration)\n",
    "    \n",
    "    # Append Prediction data \n",
    "    y_lgb_preds.append(y_pred)\n",
    "    models.append(gbm)\n"
   ]
  },
  {
   "cell_type": "markdown",
   "id": "d8e7246f",
   "metadata": {},
   "source": [
    "### Validation data vs Prediction Data"
   ]
  },
  {
   "cell_type": "code",
   "execution_count": null,
   "id": "4e884773",
   "metadata": {},
   "outputs": [],
   "source": [
    "train_metric = evals_result['train']['multi_logloss']\n",
    "eval_metric = evals_result['eval']['multi_logloss']\n",
    "train_metric[:5], eval_metric[:5]"
   ]
  },
  {
   "cell_type": "code",
   "execution_count": null,
   "id": "0403c5e0",
   "metadata": {},
   "outputs": [],
   "source": [
    "plt.plot(train_metric, label='train multi_logloss')\n",
    "plt.plot(eval_metric, label='eval multi_logloss')\n",
    "plt.grid()\n",
    "plt.legend()\n",
    "plt.ylim(0, 1)\n",
    "\n",
    "plt.xlabel('rounds')\n",
    "plt.ylabel('multi_logloss')\n",
    "plt.grid(True)\n",
    "plt.show()"
   ]
  },
  {
   "cell_type": "code",
   "execution_count": null,
   "id": "19736006",
   "metadata": {},
   "outputs": [],
   "source": [
    "y_lgb_oof_train_max = np.argmax(y_lgb_oof_train, axis=1)\n",
    "f1_score(y_true=y_train, y_pred=y_lgb_oof_train_max, average='macro')"
   ]
  },
  {
   "cell_type": "code",
   "execution_count": null,
   "id": "d777af0f",
   "metadata": {},
   "outputs": [],
   "source": [
    "y_pred_max = np.argmax(sum(y_lgb_preds)/len(y_lgb_preds), axis=1)\n",
    "y_pred_max = list(y_pred_max)\n",
    "y_pred_max[:10]"
   ]
  },
  {
   "cell_type": "code",
   "execution_count": null,
   "id": "392e1190",
   "metadata": {},
   "outputs": [],
   "source": [
    "submit_sample.head()"
   ]
  },
  {
   "cell_type": "markdown",
   "id": "e22aed72",
   "metadata": {},
   "source": [
    "提出"
   ]
  },
  {
   "cell_type": "code",
   "execution_count": null,
   "id": "d2acd402",
   "metadata": {},
   "outputs": [],
   "source": [
    "submit_sample[1] = y_pred_max\n",
    "submit_sample.to_csv('submit.csv',index = False,  header=None)"
   ]
  },
  {
   "cell_type": "code",
   "execution_count": null,
   "id": "a4226d34",
   "metadata": {},
   "outputs": [],
   "source": [
    "submit_sample.head()"
   ]
  },
  {
   "cell_type": "code",
   "execution_count": null,
   "id": "c6f9b151",
   "metadata": {},
   "outputs": [],
   "source": []
  }
 ],
 "metadata": {
  "kernelspec": {
   "display_name": "Python 3",
   "language": "python",
   "name": "python3"
  },
  "language_info": {
   "codemirror_mode": {
    "name": "ipython",
    "version": 3
   },
   "file_extension": ".py",
   "mimetype": "text/x-python",
   "name": "python",
   "nbconvert_exporter": "python",
   "pygments_lexer": "ipython3",
   "version": "3.8.8"
  }
 },
 "nbformat": 4,
 "nbformat_minor": 5
}
