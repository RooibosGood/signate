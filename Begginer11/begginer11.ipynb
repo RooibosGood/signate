{
 "cells": [
  {
   "cell_type": "code",
   "execution_count": 1,
   "id": "27562579",
   "metadata": {},
   "outputs": [],
   "source": [
    "import numpy as np # linear algebra\n",
    "import pandas as pd # data processing, CSV file I/O (e.g. pd.read_csv)"
   ]
  },
  {
   "cell_type": "code",
   "execution_count": 2,
   "id": "f33217fc",
   "metadata": {},
   "outputs": [
    {
     "name": "stdout",
     "output_type": "stream",
     "text": [
      "<class 'pandas.core.frame.DataFrame'>\n",
      "Int64Index: 2000 entries, 0 to 399\n",
      "Data columns (total 8 columns):\n",
      " #   Column    Non-Null Count  Dtype  \n",
      "---  ------    --------------  -----  \n",
      " 0   id        2000 non-null   int64  \n",
      " 1   age       2000 non-null   int64  \n",
      " 2   sex       2000 non-null   object \n",
      " 3   bmi       2000 non-null   float64\n",
      " 4   children  2000 non-null   int64  \n",
      " 5   smoker    2000 non-null   object \n",
      " 6   region    2000 non-null   object \n",
      " 7   charges   1600 non-null   float64\n",
      "dtypes: float64(2), int64(3), object(3)\n",
      "memory usage: 140.6+ KB\n"
     ]
    },
    {
     "data": {
      "text/html": [
       "<div>\n",
       "<style scoped>\n",
       "    .dataframe tbody tr th:only-of-type {\n",
       "        vertical-align: middle;\n",
       "    }\n",
       "\n",
       "    .dataframe tbody tr th {\n",
       "        vertical-align: top;\n",
       "    }\n",
       "\n",
       "    .dataframe thead th {\n",
       "        text-align: right;\n",
       "    }\n",
       "</style>\n",
       "<table border=\"1\" class=\"dataframe\">\n",
       "  <thead>\n",
       "    <tr style=\"text-align: right;\">\n",
       "      <th></th>\n",
       "      <th>id</th>\n",
       "      <th>age</th>\n",
       "      <th>sex</th>\n",
       "      <th>bmi</th>\n",
       "      <th>children</th>\n",
       "      <th>smoker</th>\n",
       "      <th>region</th>\n",
       "      <th>charges</th>\n",
       "    </tr>\n",
       "  </thead>\n",
       "  <tbody>\n",
       "    <tr>\n",
       "      <th>0</th>\n",
       "      <td>0</td>\n",
       "      <td>26</td>\n",
       "      <td>male</td>\n",
       "      <td>32.665465</td>\n",
       "      <td>3</td>\n",
       "      <td>no</td>\n",
       "      <td>southeast</td>\n",
       "      <td>0.0</td>\n",
       "    </tr>\n",
       "    <tr>\n",
       "      <th>1</th>\n",
       "      <td>1</td>\n",
       "      <td>41</td>\n",
       "      <td>male</td>\n",
       "      <td>29.798725</td>\n",
       "      <td>1</td>\n",
       "      <td>no</td>\n",
       "      <td>southwest</td>\n",
       "      <td>0.0</td>\n",
       "    </tr>\n",
       "    <tr>\n",
       "      <th>2</th>\n",
       "      <td>2</td>\n",
       "      <td>28</td>\n",
       "      <td>male</td>\n",
       "      <td>32.722029</td>\n",
       "      <td>0</td>\n",
       "      <td>yes</td>\n",
       "      <td>northwest</td>\n",
       "      <td>1.0</td>\n",
       "    </tr>\n",
       "    <tr>\n",
       "      <th>3</th>\n",
       "      <td>3</td>\n",
       "      <td>20</td>\n",
       "      <td>female</td>\n",
       "      <td>38.429831</td>\n",
       "      <td>2</td>\n",
       "      <td>no</td>\n",
       "      <td>southeast</td>\n",
       "      <td>0.0</td>\n",
       "    </tr>\n",
       "    <tr>\n",
       "      <th>4</th>\n",
       "      <td>4</td>\n",
       "      <td>45</td>\n",
       "      <td>female</td>\n",
       "      <td>29.641854</td>\n",
       "      <td>1</td>\n",
       "      <td>no</td>\n",
       "      <td>northwest</td>\n",
       "      <td>0.0</td>\n",
       "    </tr>\n",
       "    <tr>\n",
       "      <th>5</th>\n",
       "      <td>5</td>\n",
       "      <td>20</td>\n",
       "      <td>male</td>\n",
       "      <td>37.785937</td>\n",
       "      <td>2</td>\n",
       "      <td>yes</td>\n",
       "      <td>southeast</td>\n",
       "      <td>1.0</td>\n",
       "    </tr>\n",
       "    <tr>\n",
       "      <th>6</th>\n",
       "      <td>6</td>\n",
       "      <td>37</td>\n",
       "      <td>male</td>\n",
       "      <td>43.393374</td>\n",
       "      <td>2</td>\n",
       "      <td>no</td>\n",
       "      <td>northeast</td>\n",
       "      <td>0.0</td>\n",
       "    </tr>\n",
       "    <tr>\n",
       "      <th>7</th>\n",
       "      <td>7</td>\n",
       "      <td>41</td>\n",
       "      <td>female</td>\n",
       "      <td>32.280407</td>\n",
       "      <td>1</td>\n",
       "      <td>no</td>\n",
       "      <td>northeast</td>\n",
       "      <td>0.0</td>\n",
       "    </tr>\n",
       "    <tr>\n",
       "      <th>8</th>\n",
       "      <td>8</td>\n",
       "      <td>40</td>\n",
       "      <td>male</td>\n",
       "      <td>28.865828</td>\n",
       "      <td>1</td>\n",
       "      <td>no</td>\n",
       "      <td>northeast</td>\n",
       "      <td>0.0</td>\n",
       "    </tr>\n",
       "    <tr>\n",
       "      <th>9</th>\n",
       "      <td>9</td>\n",
       "      <td>54</td>\n",
       "      <td>female</td>\n",
       "      <td>33.870887</td>\n",
       "      <td>2</td>\n",
       "      <td>no</td>\n",
       "      <td>northeast</td>\n",
       "      <td>0.0</td>\n",
       "    </tr>\n",
       "    <tr>\n",
       "      <th>10</th>\n",
       "      <td>10</td>\n",
       "      <td>34</td>\n",
       "      <td>female</td>\n",
       "      <td>23.449091</td>\n",
       "      <td>2</td>\n",
       "      <td>no</td>\n",
       "      <td>southwest</td>\n",
       "      <td>0.0</td>\n",
       "    </tr>\n",
       "    <tr>\n",
       "      <th>11</th>\n",
       "      <td>11</td>\n",
       "      <td>24</td>\n",
       "      <td>female</td>\n",
       "      <td>32.275964</td>\n",
       "      <td>0</td>\n",
       "      <td>no</td>\n",
       "      <td>northwest</td>\n",
       "      <td>0.0</td>\n",
       "    </tr>\n",
       "    <tr>\n",
       "      <th>12</th>\n",
       "      <td>12</td>\n",
       "      <td>41</td>\n",
       "      <td>male</td>\n",
       "      <td>32.544462</td>\n",
       "      <td>1</td>\n",
       "      <td>no</td>\n",
       "      <td>northeast</td>\n",
       "      <td>0.0</td>\n",
       "    </tr>\n",
       "    <tr>\n",
       "      <th>13</th>\n",
       "      <td>14</td>\n",
       "      <td>55</td>\n",
       "      <td>female</td>\n",
       "      <td>33.110985</td>\n",
       "      <td>2</td>\n",
       "      <td>no</td>\n",
       "      <td>northeast</td>\n",
       "      <td>0.0</td>\n",
       "    </tr>\n",
       "    <tr>\n",
       "      <th>14</th>\n",
       "      <td>15</td>\n",
       "      <td>20</td>\n",
       "      <td>male</td>\n",
       "      <td>34.089663</td>\n",
       "      <td>0</td>\n",
       "      <td>no</td>\n",
       "      <td>northeast</td>\n",
       "      <td>0.0</td>\n",
       "    </tr>\n",
       "    <tr>\n",
       "      <th>15</th>\n",
       "      <td>16</td>\n",
       "      <td>54</td>\n",
       "      <td>male</td>\n",
       "      <td>33.100872</td>\n",
       "      <td>0</td>\n",
       "      <td>no</td>\n",
       "      <td>southeast</td>\n",
       "      <td>0.0</td>\n",
       "    </tr>\n",
       "    <tr>\n",
       "      <th>16</th>\n",
       "      <td>17</td>\n",
       "      <td>28</td>\n",
       "      <td>female</td>\n",
       "      <td>24.597390</td>\n",
       "      <td>0</td>\n",
       "      <td>no</td>\n",
       "      <td>southeast</td>\n",
       "      <td>0.0</td>\n",
       "    </tr>\n",
       "    <tr>\n",
       "      <th>17</th>\n",
       "      <td>18</td>\n",
       "      <td>49</td>\n",
       "      <td>female</td>\n",
       "      <td>28.908255</td>\n",
       "      <td>1</td>\n",
       "      <td>no</td>\n",
       "      <td>northeast</td>\n",
       "      <td>0.0</td>\n",
       "    </tr>\n",
       "    <tr>\n",
       "      <th>18</th>\n",
       "      <td>19</td>\n",
       "      <td>46</td>\n",
       "      <td>female</td>\n",
       "      <td>44.516402</td>\n",
       "      <td>1</td>\n",
       "      <td>no</td>\n",
       "      <td>northeast</td>\n",
       "      <td>0.0</td>\n",
       "    </tr>\n",
       "    <tr>\n",
       "      <th>19</th>\n",
       "      <td>20</td>\n",
       "      <td>18</td>\n",
       "      <td>male</td>\n",
       "      <td>26.978577</td>\n",
       "      <td>0</td>\n",
       "      <td>no</td>\n",
       "      <td>northeast</td>\n",
       "      <td>0.0</td>\n",
       "    </tr>\n",
       "  </tbody>\n",
       "</table>\n",
       "</div>"
      ],
      "text/plain": [
       "    id  age     sex        bmi  children smoker     region  charges\n",
       "0    0   26    male  32.665465         3     no  southeast      0.0\n",
       "1    1   41    male  29.798725         1     no  southwest      0.0\n",
       "2    2   28    male  32.722029         0    yes  northwest      1.0\n",
       "3    3   20  female  38.429831         2     no  southeast      0.0\n",
       "4    4   45  female  29.641854         1     no  northwest      0.0\n",
       "5    5   20    male  37.785937         2    yes  southeast      1.0\n",
       "6    6   37    male  43.393374         2     no  northeast      0.0\n",
       "7    7   41  female  32.280407         1     no  northeast      0.0\n",
       "8    8   40    male  28.865828         1     no  northeast      0.0\n",
       "9    9   54  female  33.870887         2     no  northeast      0.0\n",
       "10  10   34  female  23.449091         2     no  southwest      0.0\n",
       "11  11   24  female  32.275964         0     no  northwest      0.0\n",
       "12  12   41    male  32.544462         1     no  northeast      0.0\n",
       "13  14   55  female  33.110985         2     no  northeast      0.0\n",
       "14  15   20    male  34.089663         0     no  northeast      0.0\n",
       "15  16   54    male  33.100872         0     no  southeast      0.0\n",
       "16  17   28  female  24.597390         0     no  southeast      0.0\n",
       "17  18   49  female  28.908255         1     no  northeast      0.0\n",
       "18  19   46  female  44.516402         1     no  northeast      0.0\n",
       "19  20   18    male  26.978577         0     no  northeast      0.0"
      ]
     },
     "execution_count": 2,
     "metadata": {},
     "output_type": "execute_result"
    }
   ],
   "source": [
    "train=pd.read_csv(\"./train.csv\")\n",
    "test=pd.read_csv(\"./test.csv\")\n",
    "submit_sample=pd.read_csv(\"./sample_submit.csv\", header=None)\n",
    "\n",
    "df = pd.concat([train, test], sort=False)\n",
    "df.info()\n",
    "df.head(20)"
   ]
  },
  {
   "cell_type": "markdown",
   "id": "331334ce",
   "metadata": {},
   "source": [
    "# Pandas Profiling"
   ]
  },
  {
   "cell_type": "code",
   "execution_count": 3,
   "id": "eea0076d",
   "metadata": {
    "scrolled": true
   },
   "outputs": [],
   "source": [
    "#import pandas_profiling\n",
    "\n",
    "# df.profile_report()"
   ]
  },
  {
   "cell_type": "markdown",
   "id": "fd7a5efd",
   "metadata": {},
   "source": [
    "### Histogram"
   ]
  },
  {
   "cell_type": "code",
   "execution_count": 4,
   "id": "d7c97fd3",
   "metadata": {},
   "outputs": [],
   "source": [
    "import seaborn as sns\n",
    "import matplotlib.pyplot as plt"
   ]
  },
  {
   "cell_type": "code",
   "execution_count": 5,
   "id": "6d44ba59",
   "metadata": {},
   "outputs": [
    {
     "data": {
      "image/png": "[encoded data removed]",
      "text/plain": [
       "<Figure size 720x360 with 1 Axes>"
      ]
     },
     "metadata": {
      "needs_background": "light"
     },
     "output_type": "display_data"
    }
   ],
   "source": [
    "# Histogram BMI (male, female)\n",
    "plt.figure(figsize=(10, 5))\n",
    "plt.hist(train[train['sex']=='male']['bmi'], bins=20, label=['male'], rwidth=0.6,density=True)\n",
    "plt.hist(train[train['sex']=='female']['bmi'], bins=20, label=['female'], rwidth=0.6,density=True)\n",
    "\n",
    "plt.xlabel('bmi')\n",
    "plt.legend(loc='upper right')\n",
    "plt.grid(True)\n",
    "plt.show()"
   ]
  },
  {
   "cell_type": "code",
   "execution_count": 6,
   "id": "0803d76e",
   "metadata": {},
   "outputs": [
    {
     "data": {
      "image/png": "[encoded data removed]",
      "text/plain": [
       "<Figure size 1080x720 with 1 Axes>"
      ]
     },
     "metadata": {
      "needs_background": "light"
     },
     "output_type": "display_data"
    }
   ],
   "source": [
    "## Histogram BMI (male, female)\n",
    "plt.figure(figsize=(15, 10))\n",
    "plt.hist(train.query('age < 30')['bmi'], bins=20, label=['age  < 30'], rwidth=0.6,density=True)\n",
    "plt.hist(train.query('30 <= age < 40')['bmi'], bins=20, label=['30 <= age < 40'], rwidth=0.6,density=True)\n",
    "plt.hist(train.query('40 <= age < 50')['bmi'], bins=20, label=['40 <= age < 50'], rwidth=0.6,density=True)\n",
    "plt.hist(train.query('age >= 50')['bmi'], bins=20, label=['>= 50'], rwidth=0.6,density=True)\n",
    "\n",
    "plt.xlabel('bmi')\n",
    "plt.legend(loc='upper right')\n",
    "plt.grid(True)\n",
    "plt.show()"
   ]
  },
  {
   "cell_type": "code",
   "execution_count": 7,
   "id": "d3160865",
   "metadata": {},
   "outputs": [
    {
     "name": "stdout",
     "output_type": "stream",
     "text": [
      "0    0.78500\n",
      "1    0.12375\n",
      "2    0.09125\n",
      "Name: charges, dtype: float64\n",
      "0    0.889423\n",
      "1    0.100962\n",
      "2    0.009615\n",
      "Name: charges, dtype: float64\n",
      "0    0.770878\n",
      "1    0.209850\n",
      "2    0.019272\n",
      "Name: charges, dtype: float64\n",
      "0    0.823404\n",
      "1    0.100000\n",
      "2    0.076596\n",
      "Name: charges, dtype: float64\n",
      "0    0.694534\n",
      "2    0.228296\n",
      "1    0.077170\n",
      "Name: charges, dtype: float64\n",
      "0    0.750000\n",
      "2    0.194444\n",
      "1    0.055556\n",
      "Name: charges, dtype: float64\n"
     ]
    }
   ],
   "source": [
    "print(train['charges'].value_counts()/len(train['charges']))\n",
    "train_bmi_normal = train.query('bmi < 25')['charges']\n",
    "print(train_bmi_normal.value_counts()/len(train_bmi_normal))\n",
    "train_bmi_preobese = train.query('25 <= bmi < 30')['charges']\n",
    "print(train_bmi_preobese.value_counts()/len(train_bmi_preobese))\n",
    "train_bmi_obese1 = train.query('30 <= bmi < 35')['charges']\n",
    "print(train_bmi_obese1.value_counts()/len(train_bmi_obese1))\n",
    "train_bmi_obese2 = train.query('35 <= bmi < 40')['charges']\n",
    "print(train_bmi_obese2.value_counts()/len(train_bmi_obese2))\n",
    "train_bmi_obese3 = train.query('40 <= bmi')['charges']\n",
    "print(train_bmi_obese3.value_counts()/len(train_bmi_obese3))"
   ]
  },
  {
   "cell_type": "code",
   "execution_count": 8,
   "id": "0c209b27",
   "metadata": {},
   "outputs": [
    {
     "data": {
      "text/html": [
       "<div>\n",
       "<style scoped>\n",
       "    .dataframe tbody tr th:only-of-type {\n",
       "        vertical-align: middle;\n",
       "    }\n",
       "\n",
       "    .dataframe tbody tr th {\n",
       "        vertical-align: top;\n",
       "    }\n",
       "\n",
       "    .dataframe thead th {\n",
       "        text-align: right;\n",
       "    }\n",
       "</style>\n",
       "<table border=\"1\" class=\"dataframe\">\n",
       "  <thead>\n",
       "    <tr style=\"text-align: right;\">\n",
       "      <th></th>\n",
       "      <th>id</th>\n",
       "      <th>age</th>\n",
       "      <th>sex</th>\n",
       "      <th>bmi</th>\n",
       "      <th>children</th>\n",
       "      <th>smoker</th>\n",
       "      <th>region</th>\n",
       "      <th>charges</th>\n",
       "      <th>bmi_who</th>\n",
       "    </tr>\n",
       "  </thead>\n",
       "  <tbody>\n",
       "    <tr>\n",
       "      <th>0</th>\n",
       "      <td>0</td>\n",
       "      <td>26</td>\n",
       "      <td>male</td>\n",
       "      <td>32.665465</td>\n",
       "      <td>3</td>\n",
       "      <td>no</td>\n",
       "      <td>southeast</td>\n",
       "      <td>0.0</td>\n",
       "      <td>3.0</td>\n",
       "    </tr>\n",
       "    <tr>\n",
       "      <th>1</th>\n",
       "      <td>1</td>\n",
       "      <td>41</td>\n",
       "      <td>male</td>\n",
       "      <td>29.798725</td>\n",
       "      <td>1</td>\n",
       "      <td>no</td>\n",
       "      <td>southwest</td>\n",
       "      <td>0.0</td>\n",
       "      <td>2.0</td>\n",
       "    </tr>\n",
       "    <tr>\n",
       "      <th>2</th>\n",
       "      <td>2</td>\n",
       "      <td>28</td>\n",
       "      <td>male</td>\n",
       "      <td>32.722029</td>\n",
       "      <td>0</td>\n",
       "      <td>yes</td>\n",
       "      <td>northwest</td>\n",
       "      <td>1.0</td>\n",
       "      <td>3.0</td>\n",
       "    </tr>\n",
       "    <tr>\n",
       "      <th>3</th>\n",
       "      <td>3</td>\n",
       "      <td>20</td>\n",
       "      <td>female</td>\n",
       "      <td>38.429831</td>\n",
       "      <td>2</td>\n",
       "      <td>no</td>\n",
       "      <td>southeast</td>\n",
       "      <td>0.0</td>\n",
       "      <td>4.0</td>\n",
       "    </tr>\n",
       "    <tr>\n",
       "      <th>4</th>\n",
       "      <td>4</td>\n",
       "      <td>45</td>\n",
       "      <td>female</td>\n",
       "      <td>29.641854</td>\n",
       "      <td>1</td>\n",
       "      <td>no</td>\n",
       "      <td>northwest</td>\n",
       "      <td>0.0</td>\n",
       "      <td>2.0</td>\n",
       "    </tr>\n",
       "    <tr>\n",
       "      <th>5</th>\n",
       "      <td>5</td>\n",
       "      <td>20</td>\n",
       "      <td>male</td>\n",
       "      <td>37.785937</td>\n",
       "      <td>2</td>\n",
       "      <td>yes</td>\n",
       "      <td>southeast</td>\n",
       "      <td>1.0</td>\n",
       "      <td>4.0</td>\n",
       "    </tr>\n",
       "    <tr>\n",
       "      <th>6</th>\n",
       "      <td>6</td>\n",
       "      <td>37</td>\n",
       "      <td>male</td>\n",
       "      <td>43.393374</td>\n",
       "      <td>2</td>\n",
       "      <td>no</td>\n",
       "      <td>northeast</td>\n",
       "      <td>0.0</td>\n",
       "      <td>5.0</td>\n",
       "    </tr>\n",
       "    <tr>\n",
       "      <th>7</th>\n",
       "      <td>7</td>\n",
       "      <td>41</td>\n",
       "      <td>female</td>\n",
       "      <td>32.280407</td>\n",
       "      <td>1</td>\n",
       "      <td>no</td>\n",
       "      <td>northeast</td>\n",
       "      <td>0.0</td>\n",
       "      <td>3.0</td>\n",
       "    </tr>\n",
       "    <tr>\n",
       "      <th>8</th>\n",
       "      <td>8</td>\n",
       "      <td>40</td>\n",
       "      <td>male</td>\n",
       "      <td>28.865828</td>\n",
       "      <td>1</td>\n",
       "      <td>no</td>\n",
       "      <td>northeast</td>\n",
       "      <td>0.0</td>\n",
       "      <td>2.0</td>\n",
       "    </tr>\n",
       "    <tr>\n",
       "      <th>9</th>\n",
       "      <td>9</td>\n",
       "      <td>54</td>\n",
       "      <td>female</td>\n",
       "      <td>33.870887</td>\n",
       "      <td>2</td>\n",
       "      <td>no</td>\n",
       "      <td>northeast</td>\n",
       "      <td>0.0</td>\n",
       "      <td>3.0</td>\n",
       "    </tr>\n",
       "    <tr>\n",
       "      <th>10</th>\n",
       "      <td>10</td>\n",
       "      <td>34</td>\n",
       "      <td>female</td>\n",
       "      <td>23.449091</td>\n",
       "      <td>2</td>\n",
       "      <td>no</td>\n",
       "      <td>southwest</td>\n",
       "      <td>0.0</td>\n",
       "      <td>1.0</td>\n",
       "    </tr>\n",
       "    <tr>\n",
       "      <th>11</th>\n",
       "      <td>11</td>\n",
       "      <td>24</td>\n",
       "      <td>female</td>\n",
       "      <td>32.275964</td>\n",
       "      <td>0</td>\n",
       "      <td>no</td>\n",
       "      <td>northwest</td>\n",
       "      <td>0.0</td>\n",
       "      <td>3.0</td>\n",
       "    </tr>\n",
       "    <tr>\n",
       "      <th>12</th>\n",
       "      <td>12</td>\n",
       "      <td>41</td>\n",
       "      <td>male</td>\n",
       "      <td>32.544462</td>\n",
       "      <td>1</td>\n",
       "      <td>no</td>\n",
       "      <td>northeast</td>\n",
       "      <td>0.0</td>\n",
       "      <td>3.0</td>\n",
       "    </tr>\n",
       "    <tr>\n",
       "      <th>13</th>\n",
       "      <td>14</td>\n",
       "      <td>55</td>\n",
       "      <td>female</td>\n",
       "      <td>33.110985</td>\n",
       "      <td>2</td>\n",
       "      <td>no</td>\n",
       "      <td>northeast</td>\n",
       "      <td>0.0</td>\n",
       "      <td>3.0</td>\n",
       "    </tr>\n",
       "    <tr>\n",
       "      <th>14</th>\n",
       "      <td>15</td>\n",
       "      <td>20</td>\n",
       "      <td>male</td>\n",
       "      <td>34.089663</td>\n",
       "      <td>0</td>\n",
       "      <td>no</td>\n",
       "      <td>northeast</td>\n",
       "      <td>0.0</td>\n",
       "      <td>3.0</td>\n",
       "    </tr>\n",
       "    <tr>\n",
       "      <th>15</th>\n",
       "      <td>16</td>\n",
       "      <td>54</td>\n",
       "      <td>male</td>\n",
       "      <td>33.100872</td>\n",
       "      <td>0</td>\n",
       "      <td>no</td>\n",
       "      <td>southeast</td>\n",
       "      <td>0.0</td>\n",
       "      <td>3.0</td>\n",
       "    </tr>\n",
       "    <tr>\n",
       "      <th>16</th>\n",
       "      <td>17</td>\n",
       "      <td>28</td>\n",
       "      <td>female</td>\n",
       "      <td>24.597390</td>\n",
       "      <td>0</td>\n",
       "      <td>no</td>\n",
       "      <td>southeast</td>\n",
       "      <td>0.0</td>\n",
       "      <td>1.0</td>\n",
       "    </tr>\n",
       "    <tr>\n",
       "      <th>17</th>\n",
       "      <td>18</td>\n",
       "      <td>49</td>\n",
       "      <td>female</td>\n",
       "      <td>28.908255</td>\n",
       "      <td>1</td>\n",
       "      <td>no</td>\n",
       "      <td>northeast</td>\n",
       "      <td>0.0</td>\n",
       "      <td>2.0</td>\n",
       "    </tr>\n",
       "    <tr>\n",
       "      <th>18</th>\n",
       "      <td>19</td>\n",
       "      <td>46</td>\n",
       "      <td>female</td>\n",
       "      <td>44.516402</td>\n",
       "      <td>1</td>\n",
       "      <td>no</td>\n",
       "      <td>northeast</td>\n",
       "      <td>0.0</td>\n",
       "      <td>5.0</td>\n",
       "    </tr>\n",
       "    <tr>\n",
       "      <th>19</th>\n",
       "      <td>20</td>\n",
       "      <td>18</td>\n",
       "      <td>male</td>\n",
       "      <td>26.978577</td>\n",
       "      <td>0</td>\n",
       "      <td>no</td>\n",
       "      <td>northeast</td>\n",
       "      <td>0.0</td>\n",
       "      <td>2.0</td>\n",
       "    </tr>\n",
       "  </tbody>\n",
       "</table>\n",
       "</div>"
      ],
      "text/plain": [
       "    id  age     sex        bmi  children smoker     region  charges  bmi_who\n",
       "0    0   26    male  32.665465         3     no  southeast      0.0      3.0\n",
       "1    1   41    male  29.798725         1     no  southwest      0.0      2.0\n",
       "2    2   28    male  32.722029         0    yes  northwest      1.0      3.0\n",
       "3    3   20  female  38.429831         2     no  southeast      0.0      4.0\n",
       "4    4   45  female  29.641854         1     no  northwest      0.0      2.0\n",
       "5    5   20    male  37.785937         2    yes  southeast      1.0      4.0\n",
       "6    6   37    male  43.393374         2     no  northeast      0.0      5.0\n",
       "7    7   41  female  32.280407         1     no  northeast      0.0      3.0\n",
       "8    8   40    male  28.865828         1     no  northeast      0.0      2.0\n",
       "9    9   54  female  33.870887         2     no  northeast      0.0      3.0\n",
       "10  10   34  female  23.449091         2     no  southwest      0.0      1.0\n",
       "11  11   24  female  32.275964         0     no  northwest      0.0      3.0\n",
       "12  12   41    male  32.544462         1     no  northeast      0.0      3.0\n",
       "13  14   55  female  33.110985         2     no  northeast      0.0      3.0\n",
       "14  15   20    male  34.089663         0     no  northeast      0.0      3.0\n",
       "15  16   54    male  33.100872         0     no  southeast      0.0      3.0\n",
       "16  17   28  female  24.597390         0     no  southeast      0.0      1.0\n",
       "17  18   49  female  28.908255         1     no  northeast      0.0      2.0\n",
       "18  19   46  female  44.516402         1     no  northeast      0.0      5.0\n",
       "19  20   18    male  26.978577         0     no  northeast      0.0      2.0"
      ]
     },
     "execution_count": 8,
     "metadata": {},
     "output_type": "execute_result"
    }
   ],
   "source": [
    "# BMI WHO基準\n",
    "df.loc[df['bmi'] < 25, 'bmi_who'] = 1\n",
    "df.loc[((df['bmi'] >= 25) & (df['bmi'] < 30)), 'bmi_who'] = 2\n",
    "df.loc[((df['bmi'] >= 30) & (df['bmi'] < 35)), 'bmi_who'] = 3\n",
    "df.loc[((df['bmi'] >= 35) & (df['bmi'] < 40)), 'bmi_who'] = 4\n",
    "df.loc[(df['bmi'] >= 40), 'bmi_who'] = 5\n",
    "df.head(20)"
   ]
  },
  {
   "cell_type": "markdown",
   "id": "0da38f24",
   "metadata": {},
   "source": [
    "### Divide dataset into two parts (categorical , numerical)"
   ]
  },
  {
   "cell_type": "code",
   "execution_count": 9,
   "id": "29ad7dfe",
   "metadata": {},
   "outputs": [
    {
     "name": "stdout",
     "output_type": "stream",
     "text": [
      "CategoricaL:\n",
      "['sex', 'smoker', 'region']\n",
      "\n",
      "NumericaL:\n",
      "['id', 'age', 'bmi', 'children', 'charges', 'bmi_who']\n"
     ]
    }
   ],
   "source": [
    "categorical, numerical = [],[]\n",
    "for z in df.columns:\n",
    "    t = df.dtypes[z]\n",
    "    if t=='object':\n",
    "        categorical.append(z)\n",
    "    else:\n",
    "        numerical.append(z)\n",
    "print(\"CategoricaL:\\n{}\".format(categorical))\n",
    "print(\"\\nNumericaL:\\n{}\".format(numerical))"
   ]
  },
  {
   "cell_type": "markdown",
   "id": "e08e3726",
   "metadata": {},
   "source": [
    "### Heat map for Correlation coefficient"
   ]
  },
  {
   "cell_type": "code",
   "execution_count": 10,
   "id": "6c879976",
   "metadata": {},
   "outputs": [
    {
     "data": {
      "text/plain": [
       "<AxesSubplot:>"
      ]
     },
     "execution_count": 10,
     "metadata": {},
     "output_type": "execute_result"
    },
    {
     "data": {
      "image/png": "[encoded data removed]",
      "text/plain": [
       "<Figure size 1080x1080 with 2 Axes>"
      ]
     },
     "metadata": {
      "needs_background": "light"
     },
     "output_type": "display_data"
    }
   ],
   "source": [
    "df_corr = df.corr()\n",
    "plt.figure(figsize=(15, 15)) \n",
    "sns.heatmap(df_corr, vmax=1, vmin=-1, center=0, square=True, annot=True)"
   ]
  },
  {
   "cell_type": "markdown",
   "id": "d19c0933",
   "metadata": {},
   "source": [
    "### Scatter plot"
   ]
  },
  {
   "cell_type": "code",
   "execution_count": 11,
   "id": "abca01f1",
   "metadata": {},
   "outputs": [
    {
     "data": {
      "image/png": "[encoded data removed]",
      "text/plain": [
       "<Figure size 2160x5040 with 6 Axes>"
      ]
     },
     "metadata": {
      "needs_background": "light"
     },
     "output_type": "display_data"
    }
   ],
   "source": [
    "# We shall plot these figures\n",
    "plt.figure(figsize=(30, 70))\n",
    "sns.set(font_scale= 2.4)\n",
    "sns.set_style('whitegrid')\n",
    "\n",
    "for i, features in enumerate(numerical):\n",
    "    plt.subplot(10, 4, i+1)\n",
    "    plt.scatter(data=df.iloc[:len(train)], x=features, y='age', color =\"blue\")\n",
    "    plt.xlabel(features)\n",
    "    plt.ylabel('age')\n",
    "    \n",
    "sns.despine()"
   ]
  },
  {
   "cell_type": "code",
   "execution_count": null,
   "id": "6ae2d0e5",
   "metadata": {},
   "outputs": [],
   "source": []
  },
  {
   "cell_type": "markdown",
   "id": "2398b70b",
   "metadata": {},
   "source": [
    "### Creating Dummy values"
   ]
  },
  {
   "cell_type": "code",
   "execution_count": 12,
   "id": "81d8f7de",
   "metadata": {},
   "outputs": [],
   "source": [
    "df =pd.get_dummies(df, columns=categorical, drop_first=True)"
   ]
  },
  {
   "cell_type": "markdown",
   "id": "b3297ab9",
   "metadata": {},
   "source": [
    "### Separate Data"
   ]
  },
  {
   "cell_type": "code",
   "execution_count": 13,
   "id": "75ac8014",
   "metadata": {},
   "outputs": [
    {
     "data": {
      "text/html": [
       "<div>\n",
       "<style scoped>\n",
       "    .dataframe tbody tr th:only-of-type {\n",
       "        vertical-align: middle;\n",
       "    }\n",
       "\n",
       "    .dataframe tbody tr th {\n",
       "        vertical-align: top;\n",
       "    }\n",
       "\n",
       "    .dataframe thead th {\n",
       "        text-align: right;\n",
       "    }\n",
       "</style>\n",
       "<table border=\"1\" class=\"dataframe\">\n",
       "  <thead>\n",
       "    <tr style=\"text-align: right;\">\n",
       "      <th></th>\n",
       "      <th>id</th>\n",
       "      <th>age</th>\n",
       "      <th>bmi</th>\n",
       "      <th>children</th>\n",
       "      <th>charges</th>\n",
       "      <th>bmi_who</th>\n",
       "      <th>sex_male</th>\n",
       "      <th>smoker_yes</th>\n",
       "      <th>region_northwest</th>\n",
       "      <th>region_southeast</th>\n",
       "      <th>region_southwest</th>\n",
       "    </tr>\n",
       "  </thead>\n",
       "  <tbody>\n",
       "    <tr>\n",
       "      <th>0</th>\n",
       "      <td>0</td>\n",
       "      <td>26</td>\n",
       "      <td>32.665465</td>\n",
       "      <td>3</td>\n",
       "      <td>0.0</td>\n",
       "      <td>3.0</td>\n",
       "      <td>1</td>\n",
       "      <td>0</td>\n",
       "      <td>0</td>\n",
       "      <td>1</td>\n",
       "      <td>0</td>\n",
       "    </tr>\n",
       "    <tr>\n",
       "      <th>1</th>\n",
       "      <td>1</td>\n",
       "      <td>41</td>\n",
       "      <td>29.798725</td>\n",
       "      <td>1</td>\n",
       "      <td>0.0</td>\n",
       "      <td>2.0</td>\n",
       "      <td>1</td>\n",
       "      <td>0</td>\n",
       "      <td>0</td>\n",
       "      <td>0</td>\n",
       "      <td>1</td>\n",
       "    </tr>\n",
       "    <tr>\n",
       "      <th>2</th>\n",
       "      <td>2</td>\n",
       "      <td>28</td>\n",
       "      <td>32.722029</td>\n",
       "      <td>0</td>\n",
       "      <td>1.0</td>\n",
       "      <td>3.0</td>\n",
       "      <td>1</td>\n",
       "      <td>1</td>\n",
       "      <td>1</td>\n",
       "      <td>0</td>\n",
       "      <td>0</td>\n",
       "    </tr>\n",
       "    <tr>\n",
       "      <th>3</th>\n",
       "      <td>3</td>\n",
       "      <td>20</td>\n",
       "      <td>38.429831</td>\n",
       "      <td>2</td>\n",
       "      <td>0.0</td>\n",
       "      <td>4.0</td>\n",
       "      <td>0</td>\n",
       "      <td>0</td>\n",
       "      <td>0</td>\n",
       "      <td>1</td>\n",
       "      <td>0</td>\n",
       "    </tr>\n",
       "    <tr>\n",
       "      <th>4</th>\n",
       "      <td>4</td>\n",
       "      <td>45</td>\n",
       "      <td>29.641854</td>\n",
       "      <td>1</td>\n",
       "      <td>0.0</td>\n",
       "      <td>2.0</td>\n",
       "      <td>0</td>\n",
       "      <td>0</td>\n",
       "      <td>1</td>\n",
       "      <td>0</td>\n",
       "      <td>0</td>\n",
       "    </tr>\n",
       "  </tbody>\n",
       "</table>\n",
       "</div>"
      ],
      "text/plain": [
       "   id  age        bmi  children  charges  bmi_who  sex_male  smoker_yes  \\\n",
       "0   0   26  32.665465         3      0.0      3.0         1           0   \n",
       "1   1   41  29.798725         1      0.0      2.0         1           0   \n",
       "2   2   28  32.722029         0      1.0      3.0         1           1   \n",
       "3   3   20  38.429831         2      0.0      4.0         0           0   \n",
       "4   4   45  29.641854         1      0.0      2.0         0           0   \n",
       "\n",
       "   region_northwest  region_southeast  region_southwest  \n",
       "0                 0                 1                 0  \n",
       "1                 0                 0                 1  \n",
       "2                 1                 0                 0  \n",
       "3                 0                 1                 0  \n",
       "4                 1                 0                 0  "
      ]
     },
     "execution_count": 13,
     "metadata": {},
     "output_type": "execute_result"
    }
   ],
   "source": [
    "#df = pd.get_dummies(df)\n",
    "train = df[:len(train)]\n",
    "test = df[len(train):]\n",
    "df.head()"
   ]
  },
  {
   "cell_type": "markdown",
   "id": "c5162a14",
   "metadata": {},
   "source": [
    "### LightGBM"
   ]
  },
  {
   "cell_type": "code",
   "execution_count": 14,
   "id": "904b7f6f",
   "metadata": {},
   "outputs": [],
   "source": [
    "y_train = train['charges']\n",
    "X_train = train.drop(['id','charges'], axis=1)\n",
    "X_test = test.drop(['id','charges'], axis=1)\n"
   ]
  },
  {
   "cell_type": "code",
   "execution_count": 15,
   "id": "537bf39b",
   "metadata": {},
   "outputs": [],
   "source": [
    "import optuna.integration.lightgbm as lgb # Optuna \n",
    "#import lightgbm as lgb \n",
    "from sklearn.model_selection import KFold, StratifiedKFold\n",
    "from sklearn.metrics import f1_score"
   ]
  },
  {
   "cell_type": "code",
   "execution_count": null,
   "id": "3d442c7d",
   "metadata": {},
   "outputs": [
    {
     "name": "stderr",
     "output_type": "stream",
     "text": [
      "\u001b[32m[I 2021-06-12 21:11:58,650]\u001b[0m A new study created in memory with name: no-name-fab33987-c69b-48c5-bc69-1588052f0f1c\u001b[0m\n",
      "feature_fraction, val_score: inf:   0%|                                                          | 0/7 [00:00<?, ?it/s]"
     ]
    },
    {
     "name": "stdout",
     "output_type": "stream",
     "text": [
      "Training until validation scores don't improve for 10 rounds\n",
      "[100]\ttrain's multi_logloss: 0.37984\teval's multi_logloss: 0.432986\n",
      "[200]\ttrain's multi_logloss: 0.280768\teval's multi_logloss: 0.380267\n",
      "Early stopping, best iteration is:\n",
      "[276]\ttrain's multi_logloss: 0.234577\teval's multi_logloss: 0.365956\n"
     ]
    },
    {
     "name": "stderr",
     "output_type": "stream",
     "text": [
      "feature_fraction, val_score: 0.365956:  14%|######4                                      | 1/7 [00:01<00:06,  1.10s/it]\u001b[32m[I 2021-06-12 21:11:59,760]\u001b[0m Trial 0 finished with value: 0.3659557307186101 and parameters: {'feature_fraction': 0.6}. Best is trial 0 with value: 0.3659557307186101.\u001b[0m\n",
      "feature_fraction, val_score: 0.365956:  14%|######4                                      | 1/7 [00:01<00:06,  1.10s/it]"
     ]
    },
    {
     "name": "stdout",
     "output_type": "stream",
     "text": [
      "Training until validation scores don't improve for 10 rounds\n",
      "[100]\ttrain's multi_logloss: 0.345044\teval's multi_logloss: 0.39215\n",
      "[200]\ttrain's multi_logloss: 0.249504\teval's multi_logloss: 0.356125\n",
      "Early stopping, best iteration is:\n",
      "[225]\ttrain's multi_logloss: 0.233123\teval's multi_logloss: 0.3531\n"
     ]
    },
    {
     "name": "stderr",
     "output_type": "stream",
     "text": [
      "feature_fraction, val_score: 0.353100:  29%|############8                                | 2/7 [00:01<00:04,  1.03it/s]\u001b[32m[I 2021-06-12 21:12:00,642]\u001b[0m Trial 1 finished with value: 0.35309968847730244 and parameters: {'feature_fraction': 0.8999999999999999}. Best is trial 1 with value: 0.35309968847730244.\u001b[0m\n",
      "feature_fraction, val_score: 0.353100:  29%|############8                                | 2/7 [00:01<00:04,  1.03it/s]"
     ]
    },
    {
     "name": "stdout",
     "output_type": "stream",
     "text": [
      "Training until validation scores don't improve for 10 rounds\n",
      "[100]\ttrain's multi_logloss: 0.341052\teval's multi_logloss: 0.385301\n",
      "[200]\ttrain's multi_logloss: 0.246705\teval's multi_logloss: 0.350544\n",
      "Early stopping, best iteration is:\n",
      "[220]\ttrain's multi_logloss: 0.233547\teval's multi_logloss: 0.348134\n"
     ]
    },
    {
     "name": "stderr",
     "output_type": "stream",
     "text": [
      "feature_fraction, val_score: 0.348134:  43%|###################2                         | 3/7 [00:02<00:03,  1.03it/s]\u001b[32m[I 2021-06-12 21:12:01,606]\u001b[0m Trial 2 finished with value: 0.34813377734767054 and parameters: {'feature_fraction': 1.0}. Best is trial 2 with value: 0.34813377734767054.\u001b[0m\n",
      "feature_fraction, val_score: 0.348134:  43%|###################2                         | 3/7 [00:02<00:03,  1.03it/s]"
     ]
    },
    {
     "name": "stdout",
     "output_type": "stream",
     "text": [
      "Training until validation scores don't improve for 10 rounds\n",
      "[100]\ttrain's multi_logloss: 0.37984\teval's multi_logloss: 0.432986\n",
      "[200]\ttrain's multi_logloss: 0.280768\teval's multi_logloss: 0.380267\n"
     ]
    },
    {
     "name": "stderr",
     "output_type": "stream",
     "text": [
      "\r",
      "feature_fraction, val_score: 0.348134:  43%|###################2                         | 3/7 [00:04<00:03,  1.03it/s]"
     ]
    },
    {
     "name": "stdout",
     "output_type": "stream",
     "text": [
      "Early stopping, best iteration is:\n",
      "[276]\ttrain's multi_logloss: 0.234577\teval's multi_logloss: 0.365956\n"
     ]
    },
    {
     "name": "stderr",
     "output_type": "stream",
     "text": [
      "feature_fraction, val_score: 0.348134:  57%|#########################7                   | 4/7 [00:04<00:03,  1.03s/it]\u001b[32m[I 2021-06-12 21:12:02,720]\u001b[0m Trial 3 finished with value: 0.3659557307186101 and parameters: {'feature_fraction': 0.5}. Best is trial 2 with value: 0.34813377734767054.\u001b[0m\n",
      "feature_fraction, val_score: 0.348134:  57%|#########################7                   | 4/7 [00:04<00:03,  1.03s/it]"
     ]
    },
    {
     "name": "stdout",
     "output_type": "stream",
     "text": [
      "Training until validation scores don't improve for 10 rounds\n",
      "[100]\ttrain's multi_logloss: 0.3516\teval's multi_logloss: 0.399054\n",
      "[200]\ttrain's multi_logloss: 0.254276\teval's multi_logloss: 0.357537\n",
      "Early stopping, best iteration is:\n",
      "[241]\ttrain's multi_logloss: 0.227711\teval's multi_logloss: 0.352278\n"
     ]
    },
    {
     "name": "stderr",
     "output_type": "stream",
     "text": [
      "feature_fraction, val_score: 0.348134:  71%|################################1            | 5/7 [00:05<00:02,  1.01s/it]\u001b[32m[I 2021-06-12 21:12:03,694]\u001b[0m Trial 4 finished with value: 0.35227761695396537 and parameters: {'feature_fraction': 0.8}. Best is trial 2 with value: 0.34813377734767054.\u001b[0m\n",
      "feature_fraction, val_score: 0.348134:  71%|################################1            | 5/7 [00:05<00:02,  1.01s/it]"
     ]
    },
    {
     "name": "stdout",
     "output_type": "stream",
     "text": [
      "Training until validation scores don't improve for 10 rounds\n",
      "[100]\ttrain's multi_logloss: 0.481469\teval's multi_logloss: 0.546981\n",
      "[200]\ttrain's multi_logloss: 0.388773\teval's multi_logloss: 0.503611\n",
      "Early stopping, best iteration is:\n",
      "[279]\ttrain's multi_logloss: 0.339319\teval's multi_logloss: 0.484384\n"
     ]
    },
    {
     "name": "stderr",
     "output_type": "stream",
     "text": [
      "feature_fraction, val_score: 0.348134:  86%|######################################5      | 6/7 [00:05<00:00,  1.01it/s]\u001b[32m[I 2021-06-12 21:12:04,644]\u001b[0m Trial 5 finished with value: 0.48438416083551467 and parameters: {'feature_fraction': 0.4}. Best is trial 2 with value: 0.34813377734767054.\u001b[0m\n",
      "feature_fraction, val_score: 0.348134:  86%|######################################5      | 6/7 [00:05<00:00,  1.01it/s]"
     ]
    },
    {
     "name": "stdout",
     "output_type": "stream",
     "text": [
      "Training until validation scores don't improve for 10 rounds\n",
      "[100]\ttrain's multi_logloss: 0.364245\teval's multi_logloss: 0.414978\n",
      "[200]\ttrain's multi_logloss: 0.265242\teval's multi_logloss: 0.366107\n",
      "Early stopping, best iteration is:\n",
      "[257]\ttrain's multi_logloss: 0.229109\teval's multi_logloss: 0.35894\n"
     ]
    },
    {
     "name": "stderr",
     "output_type": "stream",
     "text": [
      "feature_fraction, val_score: 0.348134: 100%|#############################################| 7/7 [00:06<00:00,  1.03it/s]\u001b[32m[I 2021-06-12 21:12:05,587]\u001b[0m Trial 6 finished with value: 0.3589395805842727 and parameters: {'feature_fraction': 0.7}. Best is trial 2 with value: 0.34813377734767054.\u001b[0m\n",
      "feature_fraction, val_score: 0.348134: 100%|#############################################| 7/7 [00:06<00:00,  1.01it/s]\n",
      "num_leaves, val_score: 0.348134:   0%|                                                          | 0/20 [00:00<?, ?it/s]"
     ]
    },
    {
     "name": "stdout",
     "output_type": "stream",
     "text": [
      "Training until validation scores don't improve for 10 rounds\n",
      "[100]\ttrain's multi_logloss: 0.414792\teval's multi_logloss: 0.406533\n",
      "[200]\ttrain's multi_logloss: 0.370958\teval's multi_logloss: 0.36887\n",
      "[300]\ttrain's multi_logloss: 0.350392\teval's multi_logloss: 0.35756\n"
     ]
    },
    {
     "name": "stderr",
     "output_type": "stream",
     "text": [
      "num_leaves, val_score: 0.348134:   5%|##5                                               | 1/20 [00:00<00:04,  3.94it/s]\u001b[32m[I 2021-06-12 21:12:05,850]\u001b[0m Trial 7 finished with value: 0.35746198870603463 and parameters: {'num_leaves': 3}. Best is trial 7 with value: 0.35746198870603463.\u001b[0m\n",
      "num_leaves, val_score: 0.348134:   5%|##5                                               | 1/20 [00:00<00:04,  3.94it/s]"
     ]
    },
    {
     "name": "stdout",
     "output_type": "stream",
     "text": [
      "Early stopping, best iteration is:\n",
      "[303]\ttrain's multi_logloss: 0.349956\teval's multi_logloss: 0.357462\n",
      "Training until validation scores don't improve for 10 rounds\n",
      "[100]\ttrain's multi_logloss: 0.341052\teval's multi_logloss: 0.385301\n",
      "[200]\ttrain's multi_logloss: 0.246513\teval's multi_logloss: 0.350607\n",
      "Early stopping, best iteration is:\n",
      "[220]\ttrain's multi_logloss: 0.233197\teval's multi_logloss: 0.348231\n"
     ]
    },
    {
     "name": "stderr",
     "output_type": "stream",
     "text": [
      "num_leaves, val_score: 0.348134:  10%|#####                                             | 2/20 [00:01<00:10,  1.76it/s]\u001b[32m[I 2021-06-12 21:12:06,640]\u001b[0m Trial 8 finished with value: 0.34823068614142144 and parameters: {'num_leaves': 55}. Best is trial 8 with value: 0.34823068614142144.\u001b[0m\n",
      "num_leaves, val_score: 0.348134:  10%|#####                                             | 2/20 [00:01<00:10,  1.76it/s]"
     ]
    },
    {
     "name": "stdout",
     "output_type": "stream",
     "text": [
      "Training until validation scores don't improve for 10 rounds\n",
      "[100]\ttrain's multi_logloss: 0.341052\teval's multi_logloss: 0.385301\n",
      "[200]\ttrain's multi_logloss: 0.246513\teval's multi_logloss: 0.350607\n",
      "Early stopping, best iteration is:\n",
      "[220]\ttrain's multi_logloss: 0.233197\teval's multi_logloss: 0.348231\n"
     ]
    },
    {
     "name": "stderr",
     "output_type": "stream",
     "text": [
      "num_leaves, val_score: 0.348134:  15%|#######5                                          | 3/20 [00:01<00:12,  1.40it/s]\u001b[32m[I 2021-06-12 21:12:07,528]\u001b[0m Trial 9 finished with value: 0.34823068614142144 and parameters: {'num_leaves': 196}. Best is trial 8 with value: 0.34823068614142144.\u001b[0m\n",
      "num_leaves, val_score: 0.348134:  15%|#######5                                          | 3/20 [00:01<00:12,  1.40it/s]"
     ]
    },
    {
     "name": "stdout",
     "output_type": "stream",
     "text": [
      "Training until validation scores don't improve for 10 rounds\n",
      "[100]\ttrain's multi_logloss: 0.391752\teval's multi_logloss: 0.389953\n",
      "[200]\ttrain's multi_logloss: 0.339984\teval's multi_logloss: 0.352114\n"
     ]
    },
    {
     "name": "stderr",
     "output_type": "stream",
     "text": [
      "num_leaves, val_score: 0.345462:  20%|##########                                        | 4/20 [00:02<00:08,  1.82it/s]\u001b[32m[I 2021-06-12 21:12:07,824]\u001b[0m Trial 10 finished with value: 0.3454622173932564 and parameters: {'num_leaves': 5}. Best is trial 10 with value: 0.3454622173932564.\u001b[0m\n",
      "num_leaves, val_score: 0.345462:  20%|##########                                        | 4/20 [00:02<00:08,  1.82it/s]"
     ]
    },
    {
     "name": "stdout",
     "output_type": "stream",
     "text": [
      "Early stopping, best iteration is:\n",
      "[274]\ttrain's multi_logloss: 0.32093\teval's multi_logloss: 0.345462\n",
      "Training until validation scores don't improve for 10 rounds\n",
      "[100]\ttrain's multi_logloss: 0.341052\teval's multi_logloss: 0.385301\n",
      "[200]\ttrain's multi_logloss: 0.246513\teval's multi_logloss: 0.350607\n",
      "Early stopping, best iteration is:\n",
      "[220]\ttrain's multi_logloss: 0.233197\teval's multi_logloss: 0.348231\n"
     ]
    },
    {
     "name": "stderr",
     "output_type": "stream",
     "text": [
      "num_leaves, val_score: 0.345462:  25%|############5                                     | 5/20 [00:03<00:10,  1.48it/s]\u001b[32m[I 2021-06-12 21:12:08,720]\u001b[0m Trial 11 finished with value: 0.34823068614142144 and parameters: {'num_leaves': 122}. Best is trial 10 with value: 0.3454622173932564.\u001b[0m\n",
      "num_leaves, val_score: 0.345462:  25%|############5                                     | 5/20 [00:03<00:10,  1.48it/s]"
     ]
    },
    {
     "name": "stdout",
     "output_type": "stream",
     "text": [
      "Training until validation scores don't improve for 10 rounds\n",
      "[100]\ttrain's multi_logloss: 0.341052\teval's multi_logloss: 0.385301\n",
      "[200]\ttrain's multi_logloss: 0.246513\teval's multi_logloss: 0.350607\n",
      "Early stopping, best iteration is:\n",
      "[220]\ttrain's multi_logloss: 0.233197\teval's multi_logloss: 0.348231\n"
     ]
    },
    {
     "name": "stderr",
     "output_type": "stream",
     "text": [
      "num_leaves, val_score: 0.345462:  30%|###############                                   | 6/20 [00:03<00:10,  1.37it/s]\u001b[32m[I 2021-06-12 21:12:09,552]\u001b[0m Trial 12 finished with value: 0.34823068614142144 and parameters: {'num_leaves': 242}. Best is trial 10 with value: 0.3454622173932564.\u001b[0m\n",
      "num_leaves, val_score: 0.345462:  30%|###############                                   | 6/20 [00:03<00:10,  1.37it/s]"
     ]
    }
   ],
   "source": [
    "y_lgb_preds = []\n",
    "models = []\n",
    "y_lgb_oof_train = np.zeros((len(X_train),3))\n",
    "cv = StratifiedKFold(n_splits=4, shuffle=True, random_state=0)\n",
    "\n",
    "params = {\n",
    "    'task' : 'train',\n",
    "    'boosting_type' : 'gbdt',\n",
    "    'objective': 'multiclass',\n",
    "    'num_class': 3,\n",
    "    'metric' : 'multi_logloss',\n",
    "    'max_bin' : 255,\n",
    "    'num_leaves' : 40,\n",
    "    'learning_rate' : 0.01,\n",
    "    'feature_fraction' : 0.9,\n",
    "    'bagging_fraction' : 0.8,\n",
    "    'bagging_freq': 5,\n",
    "    'verbose' : -1\n",
    "}\n",
    "\n",
    "# Cross Validation\n",
    "for fold_id, (train_index, valid_index) in enumerate(cv.split(X_train,y_train)):\n",
    "    X_tr = X_train.iloc[train_index, :]\n",
    "    X_val = X_train.iloc[valid_index, :]\n",
    "    y_tr = y_train.iloc[train_index]\n",
    "    y_val = y_train.iloc[valid_index]\n",
    "    \n",
    "    # Train Dataset\n",
    "    lgb_train = lgb.Dataset(X_tr, y_tr)\n",
    "\n",
    "    # Evaluation Dataset (early_stopping_rounds)\n",
    "    lgb_eval = lgb.Dataset(X_val, y_val, reference=lgb_train)\n",
    "    \n",
    "    evals_result = {} #結果を格納するための辞書\n",
    "    # train\n",
    "    gbm = lgb.train(params,\n",
    "                    lgb_train,\n",
    "                    valid_sets=[lgb_train, lgb_eval],\n",
    "                    valid_names=['train','eval'],\n",
    "                    num_boost_round=1000,\n",
    "                    early_stopping_rounds=10,\n",
    "                    verbose_eval=100,\n",
    "                    evals_result=evals_result\n",
    "                   )\n",
    "    # Out-of-hold of train data\n",
    "    y_lgb_oof_train[valid_index] = \\\n",
    "        gbm.predict(X_val, num_iteration=gbm.best_iteration)\n",
    "    \n",
    "    # Prediction for X_test data\n",
    "    y_pred = gbm.predict(X_test, num_iteration=gbm.best_iteration)\n",
    "    \n",
    "    # Append Prediction data \n",
    "    y_lgb_preds.append(y_pred)\n",
    "    models.append(gbm)\n"
   ]
  },
  {
   "cell_type": "markdown",
   "id": "a9c1eaa0",
   "metadata": {},
   "source": [
    "### Validation data vs Prediction Data"
   ]
  },
  {
   "cell_type": "code",
   "execution_count": null,
   "id": "db436e76",
   "metadata": {},
   "outputs": [],
   "source": [
    "train_metric = evals_result['train']['multi_logloss']\n",
    "eval_metric = evals_result['eval']['multi_logloss']\n",
    "\n",
    "train_metric[:5], eval_metric[:5]"
   ]
  },
  {
   "cell_type": "code",
   "execution_count": null,
   "id": "4a306b06",
   "metadata": {},
   "outputs": [],
   "source": [
    "plt.figure(figsize=(10, 10))\n",
    "\n",
    "plt.plot(train_metric, label='train multi_logloss')\n",
    "plt.plot(eval_metric, label='eval multi_logloss')\n",
    "plt.grid()\n",
    "plt.legend()\n",
    "plt.ylim(0 , 0.6)\n",
    "\n",
    "plt.xlabel('rounds')\n",
    "plt.ylabel('multi_logloss')\n",
    "plt.grid(True)\n",
    "plt.show()"
   ]
  },
  {
   "cell_type": "code",
   "execution_count": null,
   "id": "6a7d4854",
   "metadata": {},
   "outputs": [],
   "source": [
    "y_lgb_oof_train_max = np.argmax(y_lgb_oof_train, axis=1)\n",
    "print(f1_score(y_true=y_train, y_pred=y_lgb_oof_train_max, average='macro'))\n",
    "\n",
    "# LGB plog importance\n",
    "lgb.plot_importance(gbm, height=0.5, figsize=(8,8))"
   ]
  },
  {
   "cell_type": "code",
   "execution_count": null,
   "id": "d777af0f",
   "metadata": {},
   "outputs": [],
   "source": [
    "y_pred_max = np.argmax(sum(y_lgb_preds)/len(y_lgb_preds), axis=1)\n",
    "y_pred_max = list(y_pred_max)\n",
    "y_pred_max[:10]"
   ]
  },
  {
   "cell_type": "code",
   "execution_count": null,
   "id": "74e6e877",
   "metadata": {},
   "outputs": [],
   "source": [
    "submit_sample.head()"
   ]
  },
  {
   "cell_type": "markdown",
   "id": "bd971b20",
   "metadata": {},
   "source": [
    "提出"
   ]
  },
  {
   "cell_type": "code",
   "execution_count": null,
   "id": "0a1edf60",
   "metadata": {},
   "outputs": [],
   "source": [
    "submit_sample[1] = y_pred_max\n",
    "submit_sample.to_csv('submit.csv',index = False,  header=None)"
   ]
  },
  {
   "cell_type": "code",
   "execution_count": null,
   "id": "164c3bbf",
   "metadata": {},
   "outputs": [],
   "source": [
    "submit_sample.head()"
   ]
  },
  {
   "cell_type": "code",
   "execution_count": null,
   "id": "94b94953",
   "metadata": {},
   "outputs": [],
   "source": []
  }
 ],
 "metadata": {
  "kernelspec": {
   "display_name": "Python 3",
   "language": "python",
   "name": "python3"
  },
  "language_info": {
   "codemirror_mode": {
    "name": "ipython",
    "version": 3
   },
   "file_extension": ".py",
   "mimetype": "text/x-python",
   "name": "python",
   "nbconvert_exporter": "python",
   "pygments_lexer": "ipython3",
   "version": "3.8.8"
  }
 },
 "nbformat": 4,
 "nbformat_minor": 5
}
