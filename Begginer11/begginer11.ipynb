{
 "cells": [
  {
   "cell_type": "code",
   "execution_count": 1,
   "id": "27562579",
   "metadata": {},
   "outputs": [],
   "source": [
    "import numpy as np # linear algebra\n",
    "import pandas as pd # data processing, CSV file I/O (e.g. pd.read_csv)"
   ]
  },
  {
   "cell_type": "code",
   "execution_count": 2,
   "id": "f33217fc",
   "metadata": {},
   "outputs": [
    {
     "name": "stdout",
     "output_type": "stream",
     "text": [
      "<class 'pandas.core.frame.DataFrame'>\n",
      "Int64Index: 2000 entries, 0 to 399\n",
      "Data columns (total 8 columns):\n",
      " #   Column    Non-Null Count  Dtype  \n",
      "---  ------    --------------  -----  \n",
      " 0   id        2000 non-null   int64  \n",
      " 1   age       2000 non-null   int64  \n",
      " 2   sex       2000 non-null   object \n",
      " 3   bmi       2000 non-null   float64\n",
      " 4   children  2000 non-null   int64  \n",
      " 5   smoker    2000 non-null   object \n",
      " 6   region    2000 non-null   object \n",
      " 7   charges   1600 non-null   float64\n",
      "dtypes: float64(2), int64(3), object(3)\n",
      "memory usage: 140.6+ KB\n"
     ]
    },
    {
     "data": {
      "text/html": [
       "<div>\n",
       "<style scoped>\n",
       "    .dataframe tbody tr th:only-of-type {\n",
       "        vertical-align: middle;\n",
       "    }\n",
       "\n",
       "    .dataframe tbody tr th {\n",
       "        vertical-align: top;\n",
       "    }\n",
       "\n",
       "    .dataframe thead th {\n",
       "        text-align: right;\n",
       "    }\n",
       "</style>\n",
       "<table border=\"1\" class=\"dataframe\">\n",
       "  <thead>\n",
       "    <tr style=\"text-align: right;\">\n",
       "      <th></th>\n",
       "      <th>id</th>\n",
       "      <th>age</th>\n",
       "      <th>sex</th>\n",
       "      <th>bmi</th>\n",
       "      <th>children</th>\n",
       "      <th>smoker</th>\n",
       "      <th>region</th>\n",
       "      <th>charges</th>\n",
       "    </tr>\n",
       "  </thead>\n",
       "  <tbody>\n",
       "    <tr>\n",
       "      <th>0</th>\n",
       "      <td>0</td>\n",
       "      <td>26</td>\n",
       "      <td>male</td>\n",
       "      <td>32.665465</td>\n",
       "      <td>3</td>\n",
       "      <td>no</td>\n",
       "      <td>southeast</td>\n",
       "      <td>0.0</td>\n",
       "    </tr>\n",
       "    <tr>\n",
       "      <th>1</th>\n",
       "      <td>1</td>\n",
       "      <td>41</td>\n",
       "      <td>male</td>\n",
       "      <td>29.798725</td>\n",
       "      <td>1</td>\n",
       "      <td>no</td>\n",
       "      <td>southwest</td>\n",
       "      <td>0.0</td>\n",
       "    </tr>\n",
       "    <tr>\n",
       "      <th>2</th>\n",
       "      <td>2</td>\n",
       "      <td>28</td>\n",
       "      <td>male</td>\n",
       "      <td>32.722029</td>\n",
       "      <td>0</td>\n",
       "      <td>yes</td>\n",
       "      <td>northwest</td>\n",
       "      <td>1.0</td>\n",
       "    </tr>\n",
       "    <tr>\n",
       "      <th>3</th>\n",
       "      <td>3</td>\n",
       "      <td>20</td>\n",
       "      <td>female</td>\n",
       "      <td>38.429831</td>\n",
       "      <td>2</td>\n",
       "      <td>no</td>\n",
       "      <td>southeast</td>\n",
       "      <td>0.0</td>\n",
       "    </tr>\n",
       "    <tr>\n",
       "      <th>4</th>\n",
       "      <td>4</td>\n",
       "      <td>45</td>\n",
       "      <td>female</td>\n",
       "      <td>29.641854</td>\n",
       "      <td>1</td>\n",
       "      <td>no</td>\n",
       "      <td>northwest</td>\n",
       "      <td>0.0</td>\n",
       "    </tr>\n",
       "    <tr>\n",
       "      <th>5</th>\n",
       "      <td>5</td>\n",
       "      <td>20</td>\n",
       "      <td>male</td>\n",
       "      <td>37.785937</td>\n",
       "      <td>2</td>\n",
       "      <td>yes</td>\n",
       "      <td>southeast</td>\n",
       "      <td>1.0</td>\n",
       "    </tr>\n",
       "    <tr>\n",
       "      <th>6</th>\n",
       "      <td>6</td>\n",
       "      <td>37</td>\n",
       "      <td>male</td>\n",
       "      <td>43.393374</td>\n",
       "      <td>2</td>\n",
       "      <td>no</td>\n",
       "      <td>northeast</td>\n",
       "      <td>0.0</td>\n",
       "    </tr>\n",
       "    <tr>\n",
       "      <th>7</th>\n",
       "      <td>7</td>\n",
       "      <td>41</td>\n",
       "      <td>female</td>\n",
       "      <td>32.280407</td>\n",
       "      <td>1</td>\n",
       "      <td>no</td>\n",
       "      <td>northeast</td>\n",
       "      <td>0.0</td>\n",
       "    </tr>\n",
       "    <tr>\n",
       "      <th>8</th>\n",
       "      <td>8</td>\n",
       "      <td>40</td>\n",
       "      <td>male</td>\n",
       "      <td>28.865828</td>\n",
       "      <td>1</td>\n",
       "      <td>no</td>\n",
       "      <td>northeast</td>\n",
       "      <td>0.0</td>\n",
       "    </tr>\n",
       "    <tr>\n",
       "      <th>9</th>\n",
       "      <td>9</td>\n",
       "      <td>54</td>\n",
       "      <td>female</td>\n",
       "      <td>33.870887</td>\n",
       "      <td>2</td>\n",
       "      <td>no</td>\n",
       "      <td>northeast</td>\n",
       "      <td>0.0</td>\n",
       "    </tr>\n",
       "    <tr>\n",
       "      <th>10</th>\n",
       "      <td>10</td>\n",
       "      <td>34</td>\n",
       "      <td>female</td>\n",
       "      <td>23.449091</td>\n",
       "      <td>2</td>\n",
       "      <td>no</td>\n",
       "      <td>southwest</td>\n",
       "      <td>0.0</td>\n",
       "    </tr>\n",
       "    <tr>\n",
       "      <th>11</th>\n",
       "      <td>11</td>\n",
       "      <td>24</td>\n",
       "      <td>female</td>\n",
       "      <td>32.275964</td>\n",
       "      <td>0</td>\n",
       "      <td>no</td>\n",
       "      <td>northwest</td>\n",
       "      <td>0.0</td>\n",
       "    </tr>\n",
       "    <tr>\n",
       "      <th>12</th>\n",
       "      <td>12</td>\n",
       "      <td>41</td>\n",
       "      <td>male</td>\n",
       "      <td>32.544462</td>\n",
       "      <td>1</td>\n",
       "      <td>no</td>\n",
       "      <td>northeast</td>\n",
       "      <td>0.0</td>\n",
       "    </tr>\n",
       "    <tr>\n",
       "      <th>13</th>\n",
       "      <td>14</td>\n",
       "      <td>55</td>\n",
       "      <td>female</td>\n",
       "      <td>33.110985</td>\n",
       "      <td>2</td>\n",
       "      <td>no</td>\n",
       "      <td>northeast</td>\n",
       "      <td>0.0</td>\n",
       "    </tr>\n",
       "    <tr>\n",
       "      <th>14</th>\n",
       "      <td>15</td>\n",
       "      <td>20</td>\n",
       "      <td>male</td>\n",
       "      <td>34.089663</td>\n",
       "      <td>0</td>\n",
       "      <td>no</td>\n",
       "      <td>northeast</td>\n",
       "      <td>0.0</td>\n",
       "    </tr>\n",
       "    <tr>\n",
       "      <th>15</th>\n",
       "      <td>16</td>\n",
       "      <td>54</td>\n",
       "      <td>male</td>\n",
       "      <td>33.100872</td>\n",
       "      <td>0</td>\n",
       "      <td>no</td>\n",
       "      <td>southeast</td>\n",
       "      <td>0.0</td>\n",
       "    </tr>\n",
       "    <tr>\n",
       "      <th>16</th>\n",
       "      <td>17</td>\n",
       "      <td>28</td>\n",
       "      <td>female</td>\n",
       "      <td>24.597390</td>\n",
       "      <td>0</td>\n",
       "      <td>no</td>\n",
       "      <td>southeast</td>\n",
       "      <td>0.0</td>\n",
       "    </tr>\n",
       "    <tr>\n",
       "      <th>17</th>\n",
       "      <td>18</td>\n",
       "      <td>49</td>\n",
       "      <td>female</td>\n",
       "      <td>28.908255</td>\n",
       "      <td>1</td>\n",
       "      <td>no</td>\n",
       "      <td>northeast</td>\n",
       "      <td>0.0</td>\n",
       "    </tr>\n",
       "    <tr>\n",
       "      <th>18</th>\n",
       "      <td>19</td>\n",
       "      <td>46</td>\n",
       "      <td>female</td>\n",
       "      <td>44.516402</td>\n",
       "      <td>1</td>\n",
       "      <td>no</td>\n",
       "      <td>northeast</td>\n",
       "      <td>0.0</td>\n",
       "    </tr>\n",
       "    <tr>\n",
       "      <th>19</th>\n",
       "      <td>20</td>\n",
       "      <td>18</td>\n",
       "      <td>male</td>\n",
       "      <td>26.978577</td>\n",
       "      <td>0</td>\n",
       "      <td>no</td>\n",
       "      <td>northeast</td>\n",
       "      <td>0.0</td>\n",
       "    </tr>\n",
       "  </tbody>\n",
       "</table>\n",
       "</div>"
      ],
      "text/plain": [
       "    id  age     sex        bmi  children smoker     region  charges\n",
       "0    0   26    male  32.665465         3     no  southeast      0.0\n",
       "1    1   41    male  29.798725         1     no  southwest      0.0\n",
       "2    2   28    male  32.722029         0    yes  northwest      1.0\n",
       "3    3   20  female  38.429831         2     no  southeast      0.0\n",
       "4    4   45  female  29.641854         1     no  northwest      0.0\n",
       "5    5   20    male  37.785937         2    yes  southeast      1.0\n",
       "6    6   37    male  43.393374         2     no  northeast      0.0\n",
       "7    7   41  female  32.280407         1     no  northeast      0.0\n",
       "8    8   40    male  28.865828         1     no  northeast      0.0\n",
       "9    9   54  female  33.870887         2     no  northeast      0.0\n",
       "10  10   34  female  23.449091         2     no  southwest      0.0\n",
       "11  11   24  female  32.275964         0     no  northwest      0.0\n",
       "12  12   41    male  32.544462         1     no  northeast      0.0\n",
       "13  14   55  female  33.110985         2     no  northeast      0.0\n",
       "14  15   20    male  34.089663         0     no  northeast      0.0\n",
       "15  16   54    male  33.100872         0     no  southeast      0.0\n",
       "16  17   28  female  24.597390         0     no  southeast      0.0\n",
       "17  18   49  female  28.908255         1     no  northeast      0.0\n",
       "18  19   46  female  44.516402         1     no  northeast      0.0\n",
       "19  20   18    male  26.978577         0     no  northeast      0.0"
      ]
     },
     "execution_count": 2,
     "metadata": {},
     "output_type": "execute_result"
    }
   ],
   "source": [
    "train=pd.read_csv(\"./train.csv\")\n",
    "test=pd.read_csv(\"./test.csv\")\n",
    "submit_sample=pd.read_csv(\"./sample_submit.csv\", header=None)\n",
    "\n",
    "df = pd.concat([train, test], sort=False)\n",
    "df.info()\n",
    "df.head(20)"
   ]
  },
  {
   "cell_type": "markdown",
   "id": "331334ce",
   "metadata": {},
   "source": [
    "# Pandas Profiling"
   ]
  },
  {
   "cell_type": "code",
   "execution_count": 3,
   "id": "eea0076d",
   "metadata": {
    "scrolled": true
   },
   "outputs": [],
   "source": [
    "#import pandas_profiling\n",
    "\n",
    "# df.profile_report()"
   ]
  },
  {
   "cell_type": "markdown",
   "id": "fd7a5efd",
   "metadata": {},
   "source": [
    "### Histogram"
   ]
  },
  {
   "cell_type": "code",
   "execution_count": 4,
   "id": "d49bc73c",
   "metadata": {},
   "outputs": [],
   "source": [
    "import seaborn as sns\n",
    "import matplotlib.pyplot as plt"
   ]
  },
  {
   "cell_type": "code",
   "execution_count": 5,
   "id": "6d44ba59",
   "metadata": {},
   "outputs": [
    {
     "data": {
      "image/png": "[encoded data removed]",
      "text/plain": [
       "<Figure size 720x360 with 1 Axes>"
      ]
     },
     "metadata": {
      "needs_background": "light"
     },
     "output_type": "display_data"
    }
   ],
   "source": [
    "# Histogram BMI (male, female)\n",
    "plt.figure(figsize=(10, 5))\n",
    "plt.hist(train[train['sex']=='male']['bmi'], bins=20, label=['male'], rwidth=0.6,density=True)\n",
    "plt.hist(train[train['sex']=='female']['bmi'], bins=20, label=['female'], rwidth=0.6,density=True)\n",
    "\n",
    "plt.xlabel('bmi')\n",
    "plt.legend(loc='upper right')\n",
    "plt.grid(True)\n",
    "plt.show()"
   ]
  },
  {
   "cell_type": "code",
   "execution_count": 6,
   "id": "0803d76e",
   "metadata": {},
   "outputs": [
    {
     "data": {
      "image/png": "[encoded data removed]",
      "text/plain": [
       "<Figure size 1080x720 with 1 Axes>"
      ]
     },
     "metadata": {
      "needs_background": "light"
     },
     "output_type": "display_data"
    }
   ],
   "source": [
    "## Histogram BMI (male, female)\n",
    "plt.figure(figsize=(15, 10))\n",
    "plt.hist(train.query('age < 30')['bmi'], bins=20, label=['age  < 30'], rwidth=0.6,density=True)\n",
    "plt.hist(train.query('30 <= age < 40')['bmi'], bins=20, label=['30 <= age < 40'], rwidth=0.6,density=True)\n",
    "plt.hist(train.query('40 <= age < 50')['bmi'], bins=20, label=['40 <= age < 50'], rwidth=0.6,density=True)\n",
    "plt.hist(train.query('age >= 50')['bmi'], bins=20, label=['>= 50'], rwidth=0.6,density=True)\n",
    "\n",
    "plt.xlabel('bmi')\n",
    "plt.legend(loc='upper right')\n",
    "plt.grid(True)\n",
    "plt.show()"
   ]
  },
  {
   "cell_type": "code",
   "execution_count": 7,
   "id": "91f8b607",
   "metadata": {},
   "outputs": [
    {
     "name": "stdout",
     "output_type": "stream",
     "text": [
      "0    0.78500\n",
      "1    0.12375\n",
      "2    0.09125\n",
      "Name: charges, dtype: float64\n",
      "0    0.889423\n",
      "1    0.100962\n",
      "2    0.009615\n",
      "Name: charges, dtype: float64\n",
      "0    0.770878\n",
      "1    0.209850\n",
      "2    0.019272\n",
      "Name: charges, dtype: float64\n",
      "0    0.823404\n",
      "1    0.100000\n",
      "2    0.076596\n",
      "Name: charges, dtype: float64\n",
      "0    0.694534\n",
      "2    0.228296\n",
      "1    0.077170\n",
      "Name: charges, dtype: float64\n",
      "0    0.750000\n",
      "2    0.194444\n",
      "1    0.055556\n",
      "Name: charges, dtype: float64\n"
     ]
    }
   ],
   "source": [
    "print(train['charges'].value_counts()/len(train['charges']))\n",
    "train_bmi_normal = train.query('bmi < 25')['charges']\n",
    "print(train_bmi_normal.value_counts()/len(train_bmi_normal))\n",
    "train_bmi_preobese = train.query('25 <= bmi < 30')['charges']\n",
    "print(train_bmi_preobese.value_counts()/len(train_bmi_preobese))\n",
    "train_bmi_obese1 = train.query('30 <= bmi < 35')['charges']\n",
    "print(train_bmi_obese1.value_counts()/len(train_bmi_obese1))\n",
    "train_bmi_obese2 = train.query('35 <= bmi < 40')['charges']\n",
    "print(train_bmi_obese2.value_counts()/len(train_bmi_obese2))\n",
    "train_bmi_obese3 = train.query('40 <= bmi')['charges']\n",
    "print(train_bmi_obese3.value_counts()/len(train_bmi_obese3))"
   ]
  },
  {
   "cell_type": "code",
   "execution_count": 8,
   "id": "42135939",
   "metadata": {},
   "outputs": [
    {
     "data": {
      "text/html": [
       "<div>\n",
       "<style scoped>\n",
       "    .dataframe tbody tr th:only-of-type {\n",
       "        vertical-align: middle;\n",
       "    }\n",
       "\n",
       "    .dataframe tbody tr th {\n",
       "        vertical-align: top;\n",
       "    }\n",
       "\n",
       "    .dataframe thead th {\n",
       "        text-align: right;\n",
       "    }\n",
       "</style>\n",
       "<table border=\"1\" class=\"dataframe\">\n",
       "  <thead>\n",
       "    <tr style=\"text-align: right;\">\n",
       "      <th></th>\n",
       "      <th>id</th>\n",
       "      <th>age</th>\n",
       "      <th>sex</th>\n",
       "      <th>bmi</th>\n",
       "      <th>children</th>\n",
       "      <th>smoker</th>\n",
       "      <th>region</th>\n",
       "      <th>charges</th>\n",
       "      <th>bmi_who</th>\n",
       "    </tr>\n",
       "  </thead>\n",
       "  <tbody>\n",
       "    <tr>\n",
       "      <th>0</th>\n",
       "      <td>0</td>\n",
       "      <td>26</td>\n",
       "      <td>male</td>\n",
       "      <td>32.665465</td>\n",
       "      <td>3</td>\n",
       "      <td>no</td>\n",
       "      <td>southeast</td>\n",
       "      <td>0.0</td>\n",
       "      <td>3.0</td>\n",
       "    </tr>\n",
       "    <tr>\n",
       "      <th>1</th>\n",
       "      <td>1</td>\n",
       "      <td>41</td>\n",
       "      <td>male</td>\n",
       "      <td>29.798725</td>\n",
       "      <td>1</td>\n",
       "      <td>no</td>\n",
       "      <td>southwest</td>\n",
       "      <td>0.0</td>\n",
       "      <td>2.0</td>\n",
       "    </tr>\n",
       "    <tr>\n",
       "      <th>2</th>\n",
       "      <td>2</td>\n",
       "      <td>28</td>\n",
       "      <td>male</td>\n",
       "      <td>32.722029</td>\n",
       "      <td>0</td>\n",
       "      <td>yes</td>\n",
       "      <td>northwest</td>\n",
       "      <td>1.0</td>\n",
       "      <td>3.0</td>\n",
       "    </tr>\n",
       "    <tr>\n",
       "      <th>3</th>\n",
       "      <td>3</td>\n",
       "      <td>20</td>\n",
       "      <td>female</td>\n",
       "      <td>38.429831</td>\n",
       "      <td>2</td>\n",
       "      <td>no</td>\n",
       "      <td>southeast</td>\n",
       "      <td>0.0</td>\n",
       "      <td>4.0</td>\n",
       "    </tr>\n",
       "    <tr>\n",
       "      <th>4</th>\n",
       "      <td>4</td>\n",
       "      <td>45</td>\n",
       "      <td>female</td>\n",
       "      <td>29.641854</td>\n",
       "      <td>1</td>\n",
       "      <td>no</td>\n",
       "      <td>northwest</td>\n",
       "      <td>0.0</td>\n",
       "      <td>2.0</td>\n",
       "    </tr>\n",
       "    <tr>\n",
       "      <th>5</th>\n",
       "      <td>5</td>\n",
       "      <td>20</td>\n",
       "      <td>male</td>\n",
       "      <td>37.785937</td>\n",
       "      <td>2</td>\n",
       "      <td>yes</td>\n",
       "      <td>southeast</td>\n",
       "      <td>1.0</td>\n",
       "      <td>4.0</td>\n",
       "    </tr>\n",
       "    <tr>\n",
       "      <th>6</th>\n",
       "      <td>6</td>\n",
       "      <td>37</td>\n",
       "      <td>male</td>\n",
       "      <td>43.393374</td>\n",
       "      <td>2</td>\n",
       "      <td>no</td>\n",
       "      <td>northeast</td>\n",
       "      <td>0.0</td>\n",
       "      <td>5.0</td>\n",
       "    </tr>\n",
       "    <tr>\n",
       "      <th>7</th>\n",
       "      <td>7</td>\n",
       "      <td>41</td>\n",
       "      <td>female</td>\n",
       "      <td>32.280407</td>\n",
       "      <td>1</td>\n",
       "      <td>no</td>\n",
       "      <td>northeast</td>\n",
       "      <td>0.0</td>\n",
       "      <td>3.0</td>\n",
       "    </tr>\n",
       "    <tr>\n",
       "      <th>8</th>\n",
       "      <td>8</td>\n",
       "      <td>40</td>\n",
       "      <td>male</td>\n",
       "      <td>28.865828</td>\n",
       "      <td>1</td>\n",
       "      <td>no</td>\n",
       "      <td>northeast</td>\n",
       "      <td>0.0</td>\n",
       "      <td>2.0</td>\n",
       "    </tr>\n",
       "    <tr>\n",
       "      <th>9</th>\n",
       "      <td>9</td>\n",
       "      <td>54</td>\n",
       "      <td>female</td>\n",
       "      <td>33.870887</td>\n",
       "      <td>2</td>\n",
       "      <td>no</td>\n",
       "      <td>northeast</td>\n",
       "      <td>0.0</td>\n",
       "      <td>3.0</td>\n",
       "    </tr>\n",
       "    <tr>\n",
       "      <th>10</th>\n",
       "      <td>10</td>\n",
       "      <td>34</td>\n",
       "      <td>female</td>\n",
       "      <td>23.449091</td>\n",
       "      <td>2</td>\n",
       "      <td>no</td>\n",
       "      <td>southwest</td>\n",
       "      <td>0.0</td>\n",
       "      <td>1.0</td>\n",
       "    </tr>\n",
       "    <tr>\n",
       "      <th>11</th>\n",
       "      <td>11</td>\n",
       "      <td>24</td>\n",
       "      <td>female</td>\n",
       "      <td>32.275964</td>\n",
       "      <td>0</td>\n",
       "      <td>no</td>\n",
       "      <td>northwest</td>\n",
       "      <td>0.0</td>\n",
       "      <td>3.0</td>\n",
       "    </tr>\n",
       "    <tr>\n",
       "      <th>12</th>\n",
       "      <td>12</td>\n",
       "      <td>41</td>\n",
       "      <td>male</td>\n",
       "      <td>32.544462</td>\n",
       "      <td>1</td>\n",
       "      <td>no</td>\n",
       "      <td>northeast</td>\n",
       "      <td>0.0</td>\n",
       "      <td>3.0</td>\n",
       "    </tr>\n",
       "    <tr>\n",
       "      <th>13</th>\n",
       "      <td>14</td>\n",
       "      <td>55</td>\n",
       "      <td>female</td>\n",
       "      <td>33.110985</td>\n",
       "      <td>2</td>\n",
       "      <td>no</td>\n",
       "      <td>northeast</td>\n",
       "      <td>0.0</td>\n",
       "      <td>3.0</td>\n",
       "    </tr>\n",
       "    <tr>\n",
       "      <th>14</th>\n",
       "      <td>15</td>\n",
       "      <td>20</td>\n",
       "      <td>male</td>\n",
       "      <td>34.089663</td>\n",
       "      <td>0</td>\n",
       "      <td>no</td>\n",
       "      <td>northeast</td>\n",
       "      <td>0.0</td>\n",
       "      <td>3.0</td>\n",
       "    </tr>\n",
       "    <tr>\n",
       "      <th>15</th>\n",
       "      <td>16</td>\n",
       "      <td>54</td>\n",
       "      <td>male</td>\n",
       "      <td>33.100872</td>\n",
       "      <td>0</td>\n",
       "      <td>no</td>\n",
       "      <td>southeast</td>\n",
       "      <td>0.0</td>\n",
       "      <td>3.0</td>\n",
       "    </tr>\n",
       "    <tr>\n",
       "      <th>16</th>\n",
       "      <td>17</td>\n",
       "      <td>28</td>\n",
       "      <td>female</td>\n",
       "      <td>24.597390</td>\n",
       "      <td>0</td>\n",
       "      <td>no</td>\n",
       "      <td>southeast</td>\n",
       "      <td>0.0</td>\n",
       "      <td>1.0</td>\n",
       "    </tr>\n",
       "    <tr>\n",
       "      <th>17</th>\n",
       "      <td>18</td>\n",
       "      <td>49</td>\n",
       "      <td>female</td>\n",
       "      <td>28.908255</td>\n",
       "      <td>1</td>\n",
       "      <td>no</td>\n",
       "      <td>northeast</td>\n",
       "      <td>0.0</td>\n",
       "      <td>2.0</td>\n",
       "    </tr>\n",
       "    <tr>\n",
       "      <th>18</th>\n",
       "      <td>19</td>\n",
       "      <td>46</td>\n",
       "      <td>female</td>\n",
       "      <td>44.516402</td>\n",
       "      <td>1</td>\n",
       "      <td>no</td>\n",
       "      <td>northeast</td>\n",
       "      <td>0.0</td>\n",
       "      <td>5.0</td>\n",
       "    </tr>\n",
       "    <tr>\n",
       "      <th>19</th>\n",
       "      <td>20</td>\n",
       "      <td>18</td>\n",
       "      <td>male</td>\n",
       "      <td>26.978577</td>\n",
       "      <td>0</td>\n",
       "      <td>no</td>\n",
       "      <td>northeast</td>\n",
       "      <td>0.0</td>\n",
       "      <td>2.0</td>\n",
       "    </tr>\n",
       "  </tbody>\n",
       "</table>\n",
       "</div>"
      ],
      "text/plain": [
       "    id  age     sex        bmi  children smoker     region  charges  bmi_who\n",
       "0    0   26    male  32.665465         3     no  southeast      0.0      3.0\n",
       "1    1   41    male  29.798725         1     no  southwest      0.0      2.0\n",
       "2    2   28    male  32.722029         0    yes  northwest      1.0      3.0\n",
       "3    3   20  female  38.429831         2     no  southeast      0.0      4.0\n",
       "4    4   45  female  29.641854         1     no  northwest      0.0      2.0\n",
       "5    5   20    male  37.785937         2    yes  southeast      1.0      4.0\n",
       "6    6   37    male  43.393374         2     no  northeast      0.0      5.0\n",
       "7    7   41  female  32.280407         1     no  northeast      0.0      3.0\n",
       "8    8   40    male  28.865828         1     no  northeast      0.0      2.0\n",
       "9    9   54  female  33.870887         2     no  northeast      0.0      3.0\n",
       "10  10   34  female  23.449091         2     no  southwest      0.0      1.0\n",
       "11  11   24  female  32.275964         0     no  northwest      0.0      3.0\n",
       "12  12   41    male  32.544462         1     no  northeast      0.0      3.0\n",
       "13  14   55  female  33.110985         2     no  northeast      0.0      3.0\n",
       "14  15   20    male  34.089663         0     no  northeast      0.0      3.0\n",
       "15  16   54    male  33.100872         0     no  southeast      0.0      3.0\n",
       "16  17   28  female  24.597390         0     no  southeast      0.0      1.0\n",
       "17  18   49  female  28.908255         1     no  northeast      0.0      2.0\n",
       "18  19   46  female  44.516402         1     no  northeast      0.0      5.0\n",
       "19  20   18    male  26.978577         0     no  northeast      0.0      2.0"
      ]
     },
     "execution_count": 8,
     "metadata": {},
     "output_type": "execute_result"
    }
   ],
   "source": [
    "# BMI WHO基準\n",
    "df.loc[df['bmi'] < 25, 'bmi_who'] = 1\n",
    "df.loc[((df['bmi'] >= 25) & (df['bmi'] < 30)), 'bmi_who'] = 2\n",
    "df.loc[((df['bmi'] >= 30) & (df['bmi'] < 35)), 'bmi_who'] = 3\n",
    "df.loc[((df['bmi'] >= 35) & (df['bmi'] < 40)), 'bmi_who'] = 4\n",
    "df.loc[(df['bmi'] >= 40), 'bmi_who'] = 5\n",
    "df.head(20)"
   ]
  },
  {
   "cell_type": "markdown",
   "id": "0da38f24",
   "metadata": {},
   "source": [
    "### Divide dataset into two parts (categorical , numerical)"
   ]
  },
  {
   "cell_type": "code",
   "execution_count": 9,
   "id": "29ad7dfe",
   "metadata": {},
   "outputs": [
    {
     "name": "stdout",
     "output_type": "stream",
     "text": [
      "CategoricaL:\n",
      "['sex', 'smoker', 'region']\n",
      "\n",
      "NumericaL:\n",
      "['id', 'age', 'bmi', 'children', 'charges', 'bmi_who']\n"
     ]
    }
   ],
   "source": [
    "categorical, numerical = [],[]\n",
    "for z in df.columns:\n",
    "    t = df.dtypes[z]\n",
    "    if t=='object':\n",
    "        categorical.append(z)\n",
    "    else:\n",
    "        numerical.append(z)\n",
    "print(\"CategoricaL:\\n{}\".format(categorical))\n",
    "print(\"\\nNumericaL:\\n{}\".format(numerical))"
   ]
  },
  {
   "cell_type": "markdown",
   "id": "e08e3726",
   "metadata": {},
   "source": [
    "### Heat map for Correlation coefficient"
   ]
  },
  {
   "cell_type": "code",
   "execution_count": 10,
   "id": "6c879976",
   "metadata": {},
   "outputs": [
    {
     "data": {
      "text/plain": [
       "<AxesSubplot:>"
      ]
     },
     "execution_count": 10,
     "metadata": {},
     "output_type": "execute_result"
    },
    {
     "data": {
      "image/png": "[encoded data removed]",
      "text/plain": [
       "<Figure size 1080x1080 with 2 Axes>"
      ]
     },
     "metadata": {
      "needs_background": "light"
     },
     "output_type": "display_data"
    }
   ],
   "source": [
    "df_corr = df.corr()\n",
    "plt.figure(figsize=(15, 15)) \n",
    "sns.heatmap(df_corr, vmax=1, vmin=-1, center=0, square=True, annot=True)"
   ]
  },
  {
   "cell_type": "markdown",
   "id": "d19c0933",
   "metadata": {},
   "source": [
    "### Scatter plot"
   ]
  },
  {
   "cell_type": "code",
   "execution_count": 11,
   "id": "abca01f1",
   "metadata": {},
   "outputs": [
    {
     "data": {
      "image/png": "[encoded data removed]",
      "text/plain": [
       "<Figure size 2160x5040 with 6 Axes>"
      ]
     },
     "metadata": {
      "needs_background": "light"
     },
     "output_type": "display_data"
    }
   ],
   "source": [
    "# We shall plot these figures\n",
    "plt.figure(figsize=(30, 70))\n",
    "sns.set(font_scale= 2.4)\n",
    "sns.set_style('whitegrid')\n",
    "\n",
    "for i, features in enumerate(numerical):\n",
    "    plt.subplot(10, 4, i+1)\n",
    "    plt.scatter(data=df.iloc[:len(train)], x=features, y='age', color =\"blue\")\n",
    "    plt.xlabel(features)\n",
    "    plt.ylabel('age')\n",
    "    \n",
    "sns.despine()"
   ]
  },
  {
   "cell_type": "code",
   "execution_count": null,
   "id": "6ae2d0e5",
   "metadata": {},
   "outputs": [],
   "source": []
  },
  {
   "cell_type": "markdown",
   "id": "2398b70b",
   "metadata": {},
   "source": [
    "### Creating Dummy values"
   ]
  },
  {
   "cell_type": "code",
   "execution_count": 12,
   "id": "81d8f7de",
   "metadata": {},
   "outputs": [],
   "source": [
    "df =pd.get_dummies(df, columns=categorical, drop_first=True)"
   ]
  },
  {
   "cell_type": "markdown",
   "id": "b3297ab9",
   "metadata": {},
   "source": [
    "### Separate Data"
   ]
  },
  {
   "cell_type": "code",
   "execution_count": 13,
   "id": "75ac8014",
   "metadata": {},
   "outputs": [
    {
     "data": {
      "text/html": [
       "<div>\n",
       "<style scoped>\n",
       "    .dataframe tbody tr th:only-of-type {\n",
       "        vertical-align: middle;\n",
       "    }\n",
       "\n",
       "    .dataframe tbody tr th {\n",
       "        vertical-align: top;\n",
       "    }\n",
       "\n",
       "    .dataframe thead th {\n",
       "        text-align: right;\n",
       "    }\n",
       "</style>\n",
       "<table border=\"1\" class=\"dataframe\">\n",
       "  <thead>\n",
       "    <tr style=\"text-align: right;\">\n",
       "      <th></th>\n",
       "      <th>id</th>\n",
       "      <th>age</th>\n",
       "      <th>bmi</th>\n",
       "      <th>children</th>\n",
       "      <th>charges</th>\n",
       "      <th>bmi_who</th>\n",
       "      <th>sex_male</th>\n",
       "      <th>smoker_yes</th>\n",
       "      <th>region_northwest</th>\n",
       "      <th>region_southeast</th>\n",
       "      <th>region_southwest</th>\n",
       "    </tr>\n",
       "  </thead>\n",
       "  <tbody>\n",
       "    <tr>\n",
       "      <th>0</th>\n",
       "      <td>0</td>\n",
       "      <td>26</td>\n",
       "      <td>32.665465</td>\n",
       "      <td>3</td>\n",
       "      <td>0.0</td>\n",
       "      <td>3.0</td>\n",
       "      <td>1</td>\n",
       "      <td>0</td>\n",
       "      <td>0</td>\n",
       "      <td>1</td>\n",
       "      <td>0</td>\n",
       "    </tr>\n",
       "    <tr>\n",
       "      <th>1</th>\n",
       "      <td>1</td>\n",
       "      <td>41</td>\n",
       "      <td>29.798725</td>\n",
       "      <td>1</td>\n",
       "      <td>0.0</td>\n",
       "      <td>2.0</td>\n",
       "      <td>1</td>\n",
       "      <td>0</td>\n",
       "      <td>0</td>\n",
       "      <td>0</td>\n",
       "      <td>1</td>\n",
       "    </tr>\n",
       "    <tr>\n",
       "      <th>2</th>\n",
       "      <td>2</td>\n",
       "      <td>28</td>\n",
       "      <td>32.722029</td>\n",
       "      <td>0</td>\n",
       "      <td>1.0</td>\n",
       "      <td>3.0</td>\n",
       "      <td>1</td>\n",
       "      <td>1</td>\n",
       "      <td>1</td>\n",
       "      <td>0</td>\n",
       "      <td>0</td>\n",
       "    </tr>\n",
       "    <tr>\n",
       "      <th>3</th>\n",
       "      <td>3</td>\n",
       "      <td>20</td>\n",
       "      <td>38.429831</td>\n",
       "      <td>2</td>\n",
       "      <td>0.0</td>\n",
       "      <td>4.0</td>\n",
       "      <td>0</td>\n",
       "      <td>0</td>\n",
       "      <td>0</td>\n",
       "      <td>1</td>\n",
       "      <td>0</td>\n",
       "    </tr>\n",
       "    <tr>\n",
       "      <th>4</th>\n",
       "      <td>4</td>\n",
       "      <td>45</td>\n",
       "      <td>29.641854</td>\n",
       "      <td>1</td>\n",
       "      <td>0.0</td>\n",
       "      <td>2.0</td>\n",
       "      <td>0</td>\n",
       "      <td>0</td>\n",
       "      <td>1</td>\n",
       "      <td>0</td>\n",
       "      <td>0</td>\n",
       "    </tr>\n",
       "  </tbody>\n",
       "</table>\n",
       "</div>"
      ],
      "text/plain": [
       "   id  age        bmi  children  charges  bmi_who  sex_male  smoker_yes  \\\n",
       "0   0   26  32.665465         3      0.0      3.0         1           0   \n",
       "1   1   41  29.798725         1      0.0      2.0         1           0   \n",
       "2   2   28  32.722029         0      1.0      3.0         1           1   \n",
       "3   3   20  38.429831         2      0.0      4.0         0           0   \n",
       "4   4   45  29.641854         1      0.0      2.0         0           0   \n",
       "\n",
       "   region_northwest  region_southeast  region_southwest  \n",
       "0                 0                 1                 0  \n",
       "1                 0                 0                 1  \n",
       "2                 1                 0                 0  \n",
       "3                 0                 1                 0  \n",
       "4                 1                 0                 0  "
      ]
     },
     "execution_count": 13,
     "metadata": {},
     "output_type": "execute_result"
    }
   ],
   "source": [
    "#df = pd.get_dummies(df)\n",
    "train = df[:len(train)]\n",
    "test = df[len(train):]\n",
    "df.head()"
   ]
  },
  {
   "cell_type": "markdown",
   "id": "c5162a14",
   "metadata": {},
   "source": [
    "### LightGBM"
   ]
  },
  {
   "cell_type": "code",
   "execution_count": 14,
   "id": "904b7f6f",
   "metadata": {},
   "outputs": [],
   "source": [
    "y_train = train['charges']\n",
    "X_train = train.drop(['id','charges'], axis=1)\n",
    "X_test = test.drop(['id','charges'], axis=1)\n"
   ]
  },
  {
   "cell_type": "code",
   "execution_count": 15,
   "id": "537bf39b",
   "metadata": {},
   "outputs": [],
   "source": [
    "import optuna.integration.lightgbm as lgb # Optuna \n",
    "#import lightgbm as lgb \n",
    "from sklearn.model_selection import KFold, StratifiedKFold\n",
    "from sklearn.metrics import f1_score"
   ]
  },
  {
   "cell_type": "markdown",
   "id": "9d96ca6a",
   "metadata": {},
   "source": [
    "### lightGBM boosting type = rf"
   ]
  },
  {
   "cell_type": "code",
   "execution_count": 16,
   "id": "b0eefea4",
   "metadata": {},
   "outputs": [
    {
     "name": "stderr",
     "output_type": "stream",
     "text": [
      "\u001b[32m[I 2021-06-13 10:10:56,248]\u001b[0m A new study created in memory with name: no-name-8445e6a6-7ea4-461c-9947-813ec3c2f476\u001b[0m\n",
      "feature_fraction, val_score: 0.379199:   0%|             | 0/7 [00:00<?, ?it/s]\u001b[32m[I 2021-06-13 10:10:56,326]\u001b[0m Trial 0 finished with value: 0.37919931082193087 and parameters: {'feature_fraction': 0.8}. Best is trial 0 with value: 0.37919931082193087.\u001b[0m\n",
      "feature_fraction, val_score: 0.373015:  29%|#4   | 2/7 [00:00<00:00, 10.42it/s]\u001b[32m[I 2021-06-13 10:10:56,443]\u001b[0m Trial 1 finished with value: 0.3730149667018546 and parameters: {'feature_fraction': 0.7}. Best is trial 1 with value: 0.3730149667018546.\u001b[0m\n",
      "feature_fraction, val_score: 0.373015:  29%|#4   | 2/7 [00:00<00:00, 10.42it/s]"
     ]
    },
    {
     "name": "stdout",
     "output_type": "stream",
     "text": [
      "Training until validation scores don't improve for 10 rounds\n",
      "Early stopping, best iteration is:\n",
      "[3]\ttrain's multi_logloss: 0.355596\teval's multi_logloss: 0.379199\n",
      "Training until validation scores don't improve for 10 rounds\n",
      "Early stopping, best iteration is:\n",
      "[12]\ttrain's multi_logloss: 0.33887\teval's multi_logloss: 0.373015\n"
     ]
    },
    {
     "name": "stderr",
     "output_type": "stream",
     "text": [
      "feature_fraction, val_score: 0.373015:  29%|#4   | 2/7 [00:00<00:00, 10.42it/s]\u001b[32m[I 2021-06-13 10:10:56,597]\u001b[0m Trial 2 finished with value: 0.37992327875442783 and parameters: {'feature_fraction': 1.0}. Best is trial 1 with value: 0.3730149667018546.\u001b[0m\n",
      "feature_fraction, val_score: 0.373015:  43%|##1  | 3/7 [00:00<00:00, 10.42it/s]"
     ]
    },
    {
     "name": "stdout",
     "output_type": "stream",
     "text": [
      "Training until validation scores don't improve for 10 rounds\n",
      "Early stopping, best iteration is:\n",
      "[28]\ttrain's multi_logloss: 0.371474\teval's multi_logloss: 0.379923\n",
      "Training until validation scores don't improve for 10 rounds\n"
     ]
    },
    {
     "name": "stderr",
     "output_type": "stream",
     "text": [
      "feature_fraction, val_score: 0.373015:  57%|##8  | 4/7 [00:00<00:00,  7.88it/s]\u001b[32m[I 2021-06-13 10:10:56,739]\u001b[0m Trial 3 finished with value: 0.3769506653818868 and parameters: {'feature_fraction': 0.6}. Best is trial 1 with value: 0.3730149667018546.\u001b[0m\n",
      "feature_fraction, val_score: 0.373015:  57%|##8  | 4/7 [00:00<00:00,  7.88it/s]\u001b[32m[I 2021-06-13 10:10:56,810]\u001b[0m Trial 4 finished with value: 0.45891549644335994 and parameters: {'feature_fraction': 0.4}. Best is trial 1 with value: 0.3730149667018546.\u001b[0m\n",
      "feature_fraction, val_score: 0.373015:  71%|###5 | 5/7 [00:00<00:00,  7.88it/s]"
     ]
    },
    {
     "name": "stdout",
     "output_type": "stream",
     "text": [
      "Early stopping, best iteration is:\n",
      "[25]\ttrain's multi_logloss: 0.342054\teval's multi_logloss: 0.376951\n",
      "Training until validation scores don't improve for 10 rounds\n",
      "Early stopping, best iteration is:\n",
      "[2]\ttrain's multi_logloss: 0.383529\teval's multi_logloss: 0.458915\n",
      "Training until validation scores don't improve for 10 rounds\n"
     ]
    },
    {
     "name": "stderr",
     "output_type": "stream",
     "text": [
      "feature_fraction, val_score: 0.373015:  86%|####2| 6/7 [00:00<00:00,  8.32it/s]\u001b[32m[I 2021-06-13 10:10:56,962]\u001b[0m Trial 5 finished with value: 0.3769506653818868 and parameters: {'feature_fraction': 0.5}. Best is trial 1 with value: 0.3730149667018546.\u001b[0m\n",
      "feature_fraction, val_score: 0.373015:  86%|####2| 6/7 [00:00<00:00,  8.32it/s]"
     ]
    },
    {
     "name": "stdout",
     "output_type": "stream",
     "text": [
      "Early stopping, best iteration is:\n",
      "[25]\ttrain's multi_logloss: 0.342054\teval's multi_logloss: 0.376951\n",
      "Training until validation scores don't improve for 10 rounds\n",
      "Early stopping, best iteration is:\n",
      "[28]\ttrain's multi_logloss: 0.363874\teval's multi_logloss: 0.384765"
     ]
    },
    {
     "name": "stderr",
     "output_type": "stream",
     "text": [
      "feature_fraction, val_score: 0.373015: 100%|#####| 7/7 [00:00<00:00,  7.25it/s]\u001b[32m[I 2021-06-13 10:10:57,154]\u001b[0m Trial 6 finished with value: 0.3847646733017399 and parameters: {'feature_fraction': 0.8999999999999999}. Best is trial 1 with value: 0.3730149667018546.\u001b[0m\n",
      "feature_fraction, val_score: 0.373015: 100%|#####| 7/7 [00:00<00:00,  7.73it/s]\n",
      "num_leaves, val_score: 0.373015:   0%|                  | 0/20 [00:00<?, ?it/s]"
     ]
    },
    {
     "name": "stdout",
     "output_type": "stream",
     "text": [
      "\n",
      "Training until validation scores don't improve for 10 rounds\n",
      "Early stopping, best iteration is:\n",
      "[12]\ttrain's multi_logloss: 0.33887\teval's multi_logloss: 0.373015\n"
     ]
    },
    {
     "name": "stderr",
     "output_type": "stream",
     "text": [
      "num_leaves, val_score: 0.373015:   5%|5         | 1/20 [00:00<00:02,  6.58it/s]\u001b[32m[I 2021-06-13 10:10:57,316]\u001b[0m Trial 7 finished with value: 0.3730149667018546 and parameters: {'num_leaves': 244}. Best is trial 7 with value: 0.3730149667018546.\u001b[0m\n",
      "num_leaves, val_score: 0.373015:  10%|#         | 2/20 [00:00<00:02,  7.46it/s]\u001b[32m[I 2021-06-13 10:10:57,438]\u001b[0m Trial 8 finished with value: 0.3730149667018546 and parameters: {'num_leaves': 225}. Best is trial 7 with value: 0.3730149667018546.\u001b[0m\n",
      "num_leaves, val_score: 0.373015:  10%|#         | 2/20 [00:00<00:02,  7.46it/s]"
     ]
    },
    {
     "name": "stdout",
     "output_type": "stream",
     "text": [
      "Training until validation scores don't improve for 10 rounds\n",
      "Early stopping, best iteration is:\n",
      "[12]\ttrain's multi_logloss: 0.33887\teval's multi_logloss: 0.373015\n",
      "Training until validation scores don't improve for 10 rounds\n",
      "Early stopping, best iteration is:\n",
      "[12]\ttrain's multi_logloss: 0.33887\teval's multi_logloss: 0.373015\n"
     ]
    },
    {
     "name": "stderr",
     "output_type": "stream",
     "text": [
      "num_leaves, val_score: 0.373015:  15%|#5        | 3/20 [00:00<00:02,  8.40it/s]\u001b[32m[I 2021-06-13 10:10:57,539]\u001b[0m Trial 9 finished with value: 0.3730149667018546 and parameters: {'num_leaves': 159}. Best is trial 7 with value: 0.3730149667018546.\u001b[0m\n",
      "num_leaves, val_score: 0.373015:  20%|##        | 4/20 [00:00<00:01,  8.68it/s]\u001b[32m[I 2021-06-13 10:10:57,650]\u001b[0m Trial 10 finished with value: 0.3730149667018546 and parameters: {'num_leaves': 104}. Best is trial 7 with value: 0.3730149667018546.\u001b[0m\n",
      "num_leaves, val_score: 0.373015:  20%|##        | 4/20 [00:00<00:01,  8.68it/s]"
     ]
    },
    {
     "name": "stdout",
     "output_type": "stream",
     "text": [
      "Training until validation scores don't improve for 10 rounds\n",
      "Early stopping, best iteration is:\n",
      "[12]\ttrain's multi_logloss: 0.33887\teval's multi_logloss: 0.373015\n",
      "Training until validation scores don't improve for 10 rounds\n",
      "Early stopping, best iteration is:\n",
      "[12]\ttrain's multi_logloss: 0.33887\teval's multi_logloss: 0.373015\n"
     ]
    },
    {
     "name": "stderr",
     "output_type": "stream",
     "text": [
      "num_leaves, val_score: 0.373015:  25%|##5       | 5/20 [00:00<00:01,  9.02it/s]\u001b[32m[I 2021-06-13 10:10:57,751]\u001b[0m Trial 11 finished with value: 0.3730149667018546 and parameters: {'num_leaves': 153}. Best is trial 7 with value: 0.3730149667018546.\u001b[0m\n",
      "num_leaves, val_score: 0.373015:  30%|###       | 6/20 [00:00<00:01,  8.74it/s]\u001b[32m[I 2021-06-13 10:10:57,873]\u001b[0m Trial 12 finished with value: 0.3730149667018546 and parameters: {'num_leaves': 250}. Best is trial 7 with value: 0.3730149667018546.\u001b[0m\n",
      "num_leaves, val_score: 0.373015:  30%|###       | 6/20 [00:00<00:01,  8.74it/s]"
     ]
    },
    {
     "name": "stdout",
     "output_type": "stream",
     "text": [
      "Training until validation scores don't improve for 10 rounds\n",
      "Early stopping, best iteration is:\n",
      "[12]\ttrain's multi_logloss: 0.33887\teval's multi_logloss: 0.373015\n",
      "Training until validation scores don't improve for 10 rounds\n"
     ]
    },
    {
     "name": "stderr",
     "output_type": "stream",
     "text": [
      "num_leaves, val_score: 0.373015:  35%|###5      | 7/20 [00:00<00:01,  8.82it/s]\u001b[32m[I 2021-06-13 10:10:57,994]\u001b[0m Trial 13 finished with value: 0.3730149667018546 and parameters: {'num_leaves': 194}. Best is trial 7 with value: 0.3730149667018546.\u001b[0m\n",
      "num_leaves, val_score: 0.373015:  40%|####      | 8/20 [00:00<00:01,  8.62it/s]\u001b[32m[I 2021-06-13 10:10:58,106]\u001b[0m Trial 14 finished with value: 0.3730149667018546 and parameters: {'num_leaves': 180}. Best is trial 7 with value: 0.3730149667018546.\u001b[0m\n",
      "num_leaves, val_score: 0.373015:  40%|####      | 8/20 [00:00<00:01,  8.62it/s]"
     ]
    },
    {
     "name": "stdout",
     "output_type": "stream",
     "text": [
      "Early stopping, best iteration is:\n",
      "[12]\ttrain's multi_logloss: 0.33887\teval's multi_logloss: 0.373015\n",
      "Training until validation scores don't improve for 10 rounds\n",
      "Early stopping, best iteration is:\n",
      "[12]\ttrain's multi_logloss: 0.33887\teval's multi_logloss: 0.373015\n",
      "Training until validation scores don't improve for 10 rounds\n"
     ]
    },
    {
     "name": "stderr",
     "output_type": "stream",
     "text": [
      "num_leaves, val_score: 0.373015:  45%|####5     | 9/20 [00:01<00:01,  8.50it/s]\u001b[32m[I 2021-06-13 10:10:58,227]\u001b[0m Trial 15 finished with value: 0.3730149667018546 and parameters: {'num_leaves': 218}. Best is trial 7 with value: 0.3730149667018546.\u001b[0m\n",
      "num_leaves, val_score: 0.373015:  45%|####5     | 9/20 [00:01<00:01,  8.50it/s]\u001b[32m[I 2021-06-13 10:10:58,328]\u001b[0m Trial 16 finished with value: 0.37302632132939206 and parameters: {'num_leaves': 37}. Best is trial 7 with value: 0.3730149667018546.\u001b[0m\n",
      "num_leaves, val_score: 0.373015:  50%|####5    | 10/20 [00:01<00:01,  8.50it/s]"
     ]
    },
    {
     "name": "stdout",
     "output_type": "stream",
     "text": [
      "Early stopping, best iteration is:\n",
      "[12]\ttrain's multi_logloss: 0.33887\teval's multi_logloss: 0.373015\n",
      "Training until validation scores don't improve for 10 rounds\n",
      "Early stopping, best iteration is:\n",
      "[12]\ttrain's multi_logloss: 0.338903\teval's multi_logloss: 0.373026\n",
      "Training until validation scores don't improve for 10 rounds\n"
     ]
    },
    {
     "name": "stderr",
     "output_type": "stream",
     "text": [
      "num_leaves, val_score: 0.373015:  55%|####9    | 11/20 [00:01<00:01,  8.55it/s]\u001b[32m[I 2021-06-13 10:10:58,463]\u001b[0m Trial 17 finished with value: 0.3730149667018546 and parameters: {'num_leaves': 98}. Best is trial 7 with value: 0.3730149667018546.\u001b[0m\n",
      "num_leaves, val_score: 0.373015:  60%|#####3   | 12/20 [00:01<00:00,  8.33it/s]\u001b[32m[I 2021-06-13 10:10:58,591]\u001b[0m Trial 18 finished with value: 0.3730149667018546 and parameters: {'num_leaves': 254}. Best is trial 7 with value: 0.3730149667018546.\u001b[0m\n",
      "num_leaves, val_score: 0.373015:  60%|#####3   | 12/20 [00:01<00:00,  8.33it/s]"
     ]
    },
    {
     "name": "stdout",
     "output_type": "stream",
     "text": [
      "Early stopping, best iteration is:\n",
      "[12]\ttrain's multi_logloss: 0.33887\teval's multi_logloss: 0.373015\n",
      "Training until validation scores don't improve for 10 rounds\n",
      "Early stopping, best iteration is:\n",
      "[12]\ttrain's multi_logloss: 0.33887\teval's multi_logloss: 0.373015\n",
      "Training until validation scores don't improve for 10 rounds"
     ]
    },
    {
     "name": "stderr",
     "output_type": "stream",
     "text": [
      "num_leaves, val_score: 0.373015:  65%|#####8   | 13/20 [00:01<00:00,  8.30it/s]\u001b[32m[I 2021-06-13 10:10:58,712]\u001b[0m Trial 19 finished with value: 0.3730149667018546 and parameters: {'num_leaves': 235}. Best is trial 7 with value: 0.3730149667018546.\u001b[0m\n",
      "num_leaves, val_score: 0.373015:  70%|######3  | 14/20 [00:01<00:00,  8.64it/s]\u001b[32m[I 2021-06-13 10:10:58,813]\u001b[0m Trial 20 finished with value: 0.3730149667018546 and parameters: {'num_leaves': 213}. Best is trial 7 with value: 0.3730149667018546.\u001b[0m\n"
     ]
    },
    {
     "name": "stdout",
     "output_type": "stream",
     "text": [
      "\n",
      "Early stopping, best iteration is:\n",
      "[12]\ttrain's multi_logloss: 0.33887\teval's multi_logloss: 0.373015\n",
      "Training until validation scores don't improve for 10 rounds\n",
      "Early stopping, best iteration is:\n",
      "[12]\ttrain's multi_logloss: 0.33887\teval's multi_logloss: 0.373015\n"
     ]
    },
    {
     "name": "stderr",
     "output_type": "stream",
     "text": [
      "num_leaves, val_score: 0.373015:  75%|######7  | 15/20 [00:01<00:00,  8.74it/s]\u001b[32m[I 2021-06-13 10:10:58,934]\u001b[0m Trial 21 finished with value: 0.3730149667018546 and parameters: {'num_leaves': 256}. Best is trial 7 with value: 0.3730149667018546.\u001b[0m\n",
      "num_leaves, val_score: 0.373015:  75%|######7  | 15/20 [00:01<00:00,  8.74it/s]"
     ]
    },
    {
     "name": "stdout",
     "output_type": "stream",
     "text": [
      "Training until validation scores don't improve for 10 rounds\n",
      "Early stopping, best iteration is:\n",
      "[12]\ttrain's multi_logloss: 0.33887\teval's multi_logloss: 0.373015\n",
      "Training until validation scores don't improve for 10 rounds\n",
      "Early stopping, best iteration is:\n",
      "[12]\ttrain's multi_logloss: 0.33887\teval's multi_logloss: 0.373015\n"
     ]
    },
    {
     "name": "stderr",
     "output_type": "stream",
     "text": [
      "num_leaves, val_score: 0.373015:  80%|#######2 | 16/20 [00:01<00:00,  8.38it/s]\u001b[32m[I 2021-06-13 10:10:59,056]\u001b[0m Trial 22 finished with value: 0.3730149667018546 and parameters: {'num_leaves': 55}. Best is trial 7 with value: 0.3730149667018546.\u001b[0m\n",
      "num_leaves, val_score: 0.373015:  85%|#######6 | 17/20 [00:02<00:00,  8.18it/s]\u001b[32m[I 2021-06-13 10:10:59,187]\u001b[0m Trial 23 finished with value: 0.3730149667018546 and parameters: {'num_leaves': 204}. Best is trial 7 with value: 0.3730149667018546.\u001b[0m\n",
      "num_leaves, val_score: 0.373015:  85%|#######6 | 17/20 [00:02<00:00,  8.18it/s]"
     ]
    },
    {
     "name": "stdout",
     "output_type": "stream",
     "text": [
      "Training until validation scores don't improve for 10 rounds\n",
      "Early stopping, best iteration is:\n",
      "[12]\ttrain's multi_logloss: 0.33887\teval's multi_logloss: 0.373015\n",
      "Training until validation scores don't improve for 10 rounds\n",
      "Early stopping, best iteration is:\n",
      "[12]\ttrain's multi_logloss: 0.33887\teval's multi_logloss: 0.373015\n"
     ]
    },
    {
     "name": "stderr",
     "output_type": "stream",
     "text": [
      "num_leaves, val_score: 0.373015:  90%|########1| 18/20 [00:02<00:00,  8.36it/s]\u001b[32m[I 2021-06-13 10:10:59,307]\u001b[0m Trial 24 finished with value: 0.3730149667018546 and parameters: {'num_leaves': 252}. Best is trial 7 with value: 0.3730149667018546.\u001b[0m\n",
      "num_leaves, val_score: 0.373015:  95%|########5| 19/20 [00:02<00:00,  8.32it/s]\u001b[32m[I 2021-06-13 10:10:59,420]\u001b[0m Trial 25 finished with value: 0.3737825042517946 and parameters: {'num_leaves': 16}. Best is trial 7 with value: 0.3730149667018546.\u001b[0m\n",
      "num_leaves, val_score: 0.373015:  95%|########5| 19/20 [00:02<00:00,  8.32it/s]"
     ]
    },
    {
     "name": "stdout",
     "output_type": "stream",
     "text": [
      "Training until validation scores don't improve for 10 rounds\n",
      "Early stopping, best iteration is:\n",
      "[25]\ttrain's multi_logloss: 0.347775\teval's multi_logloss: 0.373783\n",
      "Training until validation scores don't improve for 10 rounds\n",
      "Early stopping, best iteration is:\n",
      "[12]\ttrain's multi_logloss: 0.33887\teval's multi_logloss: 0.373015\n"
     ]
    },
    {
     "name": "stderr",
     "output_type": "stream",
     "text": [
      "num_leaves, val_score: 0.373015: 100%|#########| 20/20 [00:02<00:00,  8.73it/s]\u001b[32m[I 2021-06-13 10:10:59,531]\u001b[0m Trial 26 finished with value: 0.3730149667018546 and parameters: {'num_leaves': 130}. Best is trial 7 with value: 0.3730149667018546.\u001b[0m\n",
      "num_leaves, val_score: 0.373015: 100%|#########| 20/20 [00:02<00:00,  8.45it/s]\n",
      "bagging, val_score: 0.373015:  10%|#3           | 1/10 [00:00<00:00,  9.68it/s]\u001b[32m[I 2021-06-13 10:10:59,643]\u001b[0m Trial 27 finished with value: 0.3771820871059479 and parameters: {'bagging_fraction': 0.7658685785217778, 'bagging_freq': 2}. Best is trial 27 with value: 0.3771820871059479.\u001b[0m\n",
      "bagging, val_score: 0.373015:  10%|#3           | 1/10 [00:00<00:00,  9.68it/s]\u001b[32m[I 2021-06-13 10:10:59,723]\u001b[0m Trial 28 finished with value: 0.3748306845567911 and parameters: {'bagging_fraction': 0.46404523421442445, 'bagging_freq': 2}. Best is trial 28 with value: 0.3748306845567911.\u001b[0m\n",
      "bagging, val_score: 0.373015:  20%|##6          | 2/10 [00:00<00:00,  9.68it/s]"
     ]
    },
    {
     "name": "stdout",
     "output_type": "stream",
     "text": [
      "Training until validation scores don't improve for 10 rounds\n",
      "Early stopping, best iteration is:\n",
      "[12]\ttrain's multi_logloss: 0.340351\teval's multi_logloss: 0.377182\n",
      "Training until validation scores don't improve for 10 rounds\n",
      "Early stopping, best iteration is:\n",
      "[13]\ttrain's multi_logloss: 0.366311\teval's multi_logloss: 0.374831\n",
      "Training until validation scores don't improve for 10 rounds"
     ]
    },
    {
     "name": "stderr",
     "output_type": "stream",
     "text": [
      "bagging, val_score: 0.373015:  30%|###9         | 3/10 [00:00<00:00, 12.05it/s]\u001b[32m[I 2021-06-13 10:10:59,794]\u001b[0m Trial 29 finished with value: 0.3809908513876637 and parameters: {'bagging_fraction': 0.5769291990562719, 'bagging_freq': 4}. Best is trial 28 with value: 0.3748306845567911.\u001b[0m\n",
      "bagging, val_score: 0.373015:  30%|###9         | 3/10 [00:00<00:00, 12.05it/s]\u001b[32m[I 2021-06-13 10:10:59,865]\u001b[0m Trial 30 finished with value: 0.3827094467921649 and parameters: {'bagging_fraction': 0.5614460709205513, 'bagging_freq': 1}. Best is trial 28 with value: 0.3748306845567911.\u001b[0m\n",
      "bagging, val_score: 0.373015:  50%|######5      | 5/10 [00:00<00:00, 13.03it/s]\u001b[32m[I 2021-06-13 10:10:59,936]\u001b[0m Trial 31 finished with value: 0.3747279203540732 and parameters: {'bagging_fraction': 0.613791249051366, 'bagging_freq': 7}. Best is trial 31 with value: 0.3747279203540732.\u001b[0m\n"
     ]
    },
    {
     "name": "stdout",
     "output_type": "stream",
     "text": [
      "\n",
      "Early stopping, best iteration is:\n",
      "[3]\ttrain's multi_logloss: 0.382935\teval's multi_logloss: 0.380991\n",
      "Training until validation scores don't improve for 10 rounds\n",
      "Early stopping, best iteration is:\n",
      "[7]\ttrain's multi_logloss: 0.357148\teval's multi_logloss: 0.382709\n",
      "Training until validation scores don't improve for 10 rounds\n",
      "Early stopping, best iteration is:\n",
      "[5]\ttrain's multi_logloss: 0.367398\teval's multi_logloss: 0.374728\n"
     ]
    },
    {
     "name": "stderr",
     "output_type": "stream",
     "text": [
      "bagging, val_score: 0.373015:  50%|######5      | 5/10 [00:00<00:00, 13.03it/s]\u001b[32m[I 2021-06-13 10:11:00,078]\u001b[0m Trial 32 finished with value: 0.37522364502039074 and parameters: {'bagging_fraction': 0.7781160590083029, 'bagging_freq': 4}. Best is trial 31 with value: 0.3747279203540732.\u001b[0m\n",
      "bagging, val_score: 0.373015:  60%|#######8     | 6/10 [00:00<00:00, 13.03it/s]"
     ]
    },
    {
     "name": "stdout",
     "output_type": "stream",
     "text": [
      "Training until validation scores don't improve for 10 rounds\n",
      "Early stopping, best iteration is:\n",
      "[24]\ttrain's multi_logloss: 0.335325\teval's multi_logloss: 0.375224\n",
      "Training until validation scores don't improve for 10 rounds\n",
      "Early stopping, best iteration is:\n",
      "[12]\ttrain's multi_logloss: 0.356258\teval's multi_logloss: 0.382481\n"
     ]
    },
    {
     "name": "stderr",
     "output_type": "stream",
     "text": [
      "bagging, val_score: 0.373015:  70%|#########1   | 7/10 [00:00<00:00, 10.95it/s]\u001b[32m[I 2021-06-13 10:11:00,166]\u001b[0m Trial 33 finished with value: 0.38248051377688114 and parameters: {'bagging_fraction': 0.6662388199485112, 'bagging_freq': 7}. Best is trial 31 with value: 0.3747279203540732.\u001b[0m\n",
      "bagging, val_score: 0.373015:  70%|#########1   | 7/10 [00:00<00:00, 10.95it/s]\u001b[32m[I 2021-06-13 10:11:00,237]\u001b[0m Trial 34 finished with value: 0.3794121094441525 and parameters: {'bagging_fraction': 0.5526336859434332, 'bagging_freq': 6}. Best is trial 31 with value: 0.3747279203540732.\u001b[0m\n",
      "bagging, val_score: 0.373015:  90%|###########7 | 9/10 [00:00<00:00, 11.96it/s]\u001b[32m[I 2021-06-13 10:11:00,308]\u001b[0m Trial 35 finished with value: 0.37808509257866296 and parameters: {'bagging_fraction': 0.4427845018019376, 'bagging_freq': 1}. Best is trial 31 with value: 0.3747279203540732.\u001b[0m\n",
      "bagging, val_score: 0.373015:  90%|###########7 | 9/10 [00:00<00:00, 11.96it/s]"
     ]
    },
    {
     "name": "stdout",
     "output_type": "stream",
     "text": [
      "Training until validation scores don't improve for 10 rounds\n",
      "Early stopping, best iteration is:\n",
      "[3]\ttrain's multi_logloss: 0.388339\teval's multi_logloss: 0.379412\n",
      "Training until validation scores don't improve for 10 rounds\n",
      "Early stopping, best iteration is:\n",
      "[8]\ttrain's multi_logloss: 0.364263\teval's multi_logloss: 0.378085\n",
      "Training until validation scores don't improve for 10 rounds\n"
     ]
    },
    {
     "name": "stderr",
     "output_type": "stream",
     "text": [
      "bagging, val_score: 0.370198:  90%|###########7 | 9/10 [00:00<00:00, 11.96it/s]\u001b[32m[I 2021-06-13 10:11:00,391]\u001b[0m Trial 36 finished with value: 0.3701976558884572 and parameters: {'bagging_fraction': 0.42301786905593747, 'bagging_freq': 2}. Best is trial 36 with value: 0.3701976558884572.\u001b[0m\n",
      "bagging, val_score: 0.370198: 100%|############| 10/10 [00:00<00:00, 11.74it/s]\n",
      "feature_fraction_stage2, val_score: 0.370198:   0%|      | 0/6 [00:00<?, ?it/s]\u001b[32m[I 2021-06-13 10:11:00,482]\u001b[0m Trial 37 finished with value: 0.3701976558884572 and parameters: {'feature_fraction': 0.62}. Best is trial 37 with value: 0.3701976558884572.\u001b[0m\n",
      "feature_fraction_stage2, val_score: 0.370198:  33%|3| 2/6 [00:00<00:00, 13.18it\u001b[32m[I 2021-06-13 10:11:00,563]\u001b[0m Trial 38 finished with value: 0.3701976558884572 and parameters: {'feature_fraction': 0.716}. Best is trial 37 with value: 0.3701976558884572.\u001b[0m\n",
      "feature_fraction_stage2, val_score: 0.370198:  33%|3| 2/6 [00:00<00:00, 13.18it"
     ]
    },
    {
     "name": "stdout",
     "output_type": "stream",
     "text": [
      "Early stopping, best iteration is:\n",
      "[13]\ttrain's multi_logloss: 0.369511\teval's multi_logloss: 0.370198\n",
      "Training until validation scores don't improve for 10 rounds\n",
      "Early stopping, best iteration is:\n",
      "[13]\ttrain's multi_logloss: 0.369511\teval's multi_logloss: 0.370198\n",
      "Training until validation scores don't improve for 10 rounds\n",
      "Early stopping, best iteration is:\n",
      "[13]\ttrain's multi_logloss: 0.369511\teval's multi_logloss: 0.370198\n",
      "Training until validation scores don't improve for 10 rounds"
     ]
    },
    {
     "name": "stderr",
     "output_type": "stream",
     "text": [
      "feature_fraction_stage2, val_score: 0.370198:  33%|3| 2/6 [00:00<00:00, 13.18it\u001b[32m[I 2021-06-13 10:11:00,634]\u001b[0m Trial 39 finished with value: 0.3848213276068007 and parameters: {'feature_fraction': 0.7799999999999999}. Best is trial 37 with value: 0.3701976558884572.\u001b[0m\n",
      "feature_fraction_stage2, val_score: 0.370198:  67%|6| 4/6 [00:00<00:00, 13.29it\u001b[32m[I 2021-06-13 10:11:00,704]\u001b[0m Trial 40 finished with value: 0.3701976558884572 and parameters: {'feature_fraction': 0.652}. Best is trial 37 with value: 0.3701976558884572.\u001b[0m\n",
      "feature_fraction_stage2, val_score: 0.370198:  67%|6| 4/6 [00:00<00:00, 13.29it\u001b[32m[I 2021-06-13 10:11:00,765]\u001b[0m Trial 41 finished with value: 0.3848213276068007 and parameters: {'feature_fraction': 0.748}. Best is trial 37 with value: 0.3701976558884572.\u001b[0m\n"
     ]
    },
    {
     "name": "stdout",
     "output_type": "stream",
     "text": [
      "\n",
      "Early stopping, best iteration is:\n",
      "[5]\ttrain's multi_logloss: 0.380151\teval's multi_logloss: 0.384821\n",
      "Training until validation scores don't improve for 10 rounds\n",
      "Early stopping, best iteration is:\n",
      "[13]\ttrain's multi_logloss: 0.369511\teval's multi_logloss: 0.370198\n",
      "Training until validation scores don't improve for 10 rounds\n",
      "Early stopping, best iteration is:\n",
      "[5]\ttrain's multi_logloss: 0.380151\teval's multi_logloss: 0.384821\n"
     ]
    },
    {
     "name": "stderr",
     "output_type": "stream",
     "text": [
      "feature_fraction_stage2, val_score: 0.370198: 100%|#| 6/6 [00:00<00:00, 13.57it\u001b[32m[I 2021-06-13 10:11:00,846]\u001b[0m Trial 42 finished with value: 0.3701976558884572 and parameters: {'feature_fraction': 0.6839999999999999}. Best is trial 37 with value: 0.3701976558884572.\u001b[0m\n",
      "feature_fraction_stage2, val_score: 0.370198: 100%|#| 6/6 [00:00<00:00, 13.24it\n",
      "regularization_factors, val_score: 0.370191:   0%|      | 0/20 [00:00<?, ?it/s]\u001b[32m[I 2021-06-13 10:11:00,937]\u001b[0m Trial 43 finished with value: 0.3701910207118738 and parameters: {'lambda_l1': 0.0005869804904790936, 'lambda_l2': 9.661545242938306e-05}. Best is trial 43 with value: 0.3701910207118738.\u001b[0m\n",
      "regularization_factors, val_score: 0.370191:   5%| | 1/20 [00:00<00:01, 11.24it"
     ]
    },
    {
     "name": "stdout",
     "output_type": "stream",
     "text": [
      "Training until validation scores don't improve for 10 rounds\n",
      "Early stopping, best iteration is:\n",
      "[13]\ttrain's multi_logloss: 0.369511\teval's multi_logloss: 0.370198\n",
      "Training until validation scores don't improve for 10 rounds\n",
      "Early stopping, best iteration is:\n",
      "[13]\ttrain's multi_logloss: 0.369526\teval's multi_logloss: 0.370191\n",
      "Training until validation scores don't improve for 10 rounds\n"
     ]
    },
    {
     "name": "stderr",
     "output_type": "stream",
     "text": [
      "regularization_factors, val_score: 0.370138:  10%|1| 2/20 [00:00<00:01, 10.39it\u001b[32m[I 2021-06-13 10:11:01,049]\u001b[0m Trial 44 finished with value: 0.37013752122202936 and parameters: {'lambda_l1': 0.004281563387150964, 'lambda_l2': 1.8519462143210932e-06}. Best is trial 44 with value: 0.37013752122202936.\u001b[0m\n",
      "regularization_factors, val_score: 0.370138:  10%|1| 2/20 [00:00<00:01, 10.39it\u001b[32m[I 2021-06-13 10:11:01,140]\u001b[0m Trial 45 finished with value: 0.37019201662522827 and parameters: {'lambda_l1': 2.019519098483426e-05, 'lambda_l2': 8.888047547017516e-05}. Best is trial 44 with value: 0.37013752122202936.\u001b[0m\n",
      "regularization_factors, val_score: 0.370138:  15%|1| 3/20 [00:00<00:01, 10.39it"
     ]
    },
    {
     "name": "stdout",
     "output_type": "stream",
     "text": [
      "Early stopping, best iteration is:\n",
      "[13]\ttrain's multi_logloss: 0.369552\teval's multi_logloss: 0.370138\n",
      "Training until validation scores don't improve for 10 rounds\n",
      "Early stopping, best iteration is:\n",
      "[13]\ttrain's multi_logloss: 0.369521\teval's multi_logloss: 0.370192\n"
     ]
    },
    {
     "name": "stderr",
     "output_type": "stream",
     "text": [
      "regularization_factors, val_score: 0.370138:  20%|2| 4/20 [00:00<00:01, 10.40it\u001b[32m[I 2021-06-13 10:11:01,241]\u001b[0m Trial 46 finished with value: 0.3723284669443758 and parameters: {'lambda_l1': 0.6062045987348468, 'lambda_l2': 1.5739388879672414e-05}. Best is trial 44 with value: 0.37013752122202936.\u001b[0m\n",
      "regularization_factors, val_score: 0.370138:  20%|2| 4/20 [00:00<00:01, 10.40it\u001b[32m[I 2021-06-13 10:11:01,322]\u001b[0m Trial 47 finished with value: 0.3701976463378724 and parameters: {'lambda_l1': 1.5011511697600114e-07, 'lambda_l2': 2.0498048728165712e-06}. Best is trial 44 with value: 0.37013752122202936.\u001b[0m\n",
      "regularization_factors, val_score: 0.370138:  25%|2| 5/20 [00:00<00:01, 10.40it"
     ]
    },
    {
     "name": "stdout",
     "output_type": "stream",
     "text": [
      "Training until validation scores don't improve for 10 rounds\n",
      "Early stopping, best iteration is:\n",
      "[13]\ttrain's multi_logloss: 0.374857\teval's multi_logloss: 0.372328\n",
      "Training until validation scores don't improve for 10 rounds\n",
      "Early stopping, best iteration is:\n",
      "[13]\ttrain's multi_logloss: 0.369511\teval's multi_logloss: 0.370198\n",
      "Training until validation scores don't improve for 10 rounds\n"
     ]
    },
    {
     "name": "stderr",
     "output_type": "stream",
     "text": [
      "regularization_factors, val_score: 0.370138:  30%|3| 6/20 [00:00<00:01, 11.21it\u001b[32m[I 2021-06-13 10:11:01,403]\u001b[0m Trial 48 finished with value: 0.3701976599179925 and parameters: {'lambda_l1': 1.117738408172719e-06, 'lambda_l2': 7.432134409201188e-08}. Best is trial 44 with value: 0.37013752122202936.\u001b[0m\n",
      "regularization_factors, val_score: 0.370138:  30%|3| 6/20 [00:00<00:01, 11.21it\u001b[32m[I 2021-06-13 10:11:01,487]\u001b[0m Trial 49 finished with value: 0.37019767227573924 and parameters: {'lambda_l1': 4.178246754744538e-06, 'lambda_l2': 1.0136273527928683e-08}. Best is trial 44 with value: 0.37013752122202936.\u001b[0m\n",
      "regularization_factors, val_score: 0.370138:  40%|4| 8/20 [00:00<00:01, 11.65it\u001b[32m[I 2021-06-13 10:11:01,568]\u001b[0m Trial 50 finished with value: 0.3701829094607674 and parameters: {'lambda_l1': 0.000127324649796477, 'lambda_l2': 0.001371945024263943}. Best is trial 44 with value: 0.37013752122202936.\u001b[0m\n",
      "regularization_factors, val_score: 0.370138:  40%|4| 8/20 [00:00<00:01, 11.65it"
     ]
    },
    {
     "name": "stdout",
     "output_type": "stream",
     "text": [
      "Early stopping, best iteration is:\n",
      "[13]\ttrain's multi_logloss: 0.369511\teval's multi_logloss: 0.370198\n",
      "Training until validation scores don't improve for 10 rounds\n",
      "Early stopping, best iteration is:\n",
      "[13]\ttrain's multi_logloss: 0.369511\teval's multi_logloss: 0.370198\n",
      "Training until validation scores don't improve for 10 rounds\n",
      "Early stopping, best iteration is:\n",
      "[13]\ttrain's multi_logloss: 0.369514\teval's multi_logloss: 0.370183\n"
     ]
    },
    {
     "name": "stderr",
     "output_type": "stream",
     "text": [
      "regularization_factors, val_score: 0.370138:  40%|4| 8/20 [00:00<00:01, 11.65it\u001b[32m[I 2021-06-13 10:11:01,637]\u001b[0m Trial 51 finished with value: 0.3804155990467965 and parameters: {'lambda_l1': 1.7576514117341226, 'lambda_l2': 3.7531212449754797e-07}. Best is trial 44 with value: 0.37013752122202936.\u001b[0m\n",
      "regularization_factors, val_score: 0.370046:  50%|5| 10/20 [00:00<00:00, 12.46i\u001b[32m[I 2021-06-13 10:11:01,708]\u001b[0m Trial 52 finished with value: 0.37004588390682613 and parameters: {'lambda_l1': 0.08102461224029472, 'lambda_l2': 1.5033819695233156e-06}. Best is trial 52 with value: 0.37004588390682613.\u001b[0m\n",
      "regularization_factors, val_score: 0.370046:  50%|5| 10/20 [00:00<00:00, 12.46i"
     ]
    },
    {
     "name": "stdout",
     "output_type": "stream",
     "text": [
      "Training until validation scores don't improve for 10 rounds\n",
      "Early stopping, best iteration is:\n",
      "[13]\ttrain's multi_logloss: 0.384865\teval's multi_logloss: 0.380416\n",
      "Training until validation scores don't improve for 10 rounds\n",
      "Early stopping, best iteration is:\n",
      "[13]\ttrain's multi_logloss: 0.370177\teval's multi_logloss: 0.370046\n",
      "Training until validation scores don't improve for 10 rounds\n",
      "Early stopping, best iteration is:\n",
      "[13]\ttrain's multi_logloss: 0.3705\teval's multi_logloss: 0.369703\n"
     ]
    },
    {
     "name": "stderr",
     "output_type": "stream",
     "text": [
      "regularization_factors, val_score: 0.369703:  50%|5| 10/20 [00:00<00:00, 12.46i\u001b[32m[I 2021-06-13 10:11:01,794]\u001b[0m Trial 53 finished with value: 0.36970272444662894 and parameters: {'lambda_l1': 0.03887437927783004, 'lambda_l2': 0.4446391452287798}. Best is trial 53 with value: 0.36970272444662894.\u001b[0m\n",
      "regularization_factors, val_score: 0.369703:  60%|6| 12/20 [00:01<00:00, 12.22i\u001b[32m[I 2021-06-13 10:11:01,874]\u001b[0m Trial 54 finished with value: 0.377112547455436 and parameters: {'lambda_l1': 0.058732239474296254, 'lambda_l2': 1.5898415786233564}. Best is trial 53 with value: 0.36970272444662894.\u001b[0m\n",
      "regularization_factors, val_score: 0.369703:  60%|6| 12/20 [00:01<00:00, 12.22i\u001b[32m[I 2021-06-13 10:11:01,945]\u001b[0m Trial 55 finished with value: 0.39552107971466927 and parameters: {'lambda_l1': 0.025232858269337754, 'lambda_l2': 8.120398716518814}. Best is trial 53 with value: 0.36970272444662894.\u001b[0m\n",
      "regularization_factors, val_score: 0.369703:  65%|6| 13/20 [00:01<00:00, 12.22i"
     ]
    },
    {
     "name": "stdout",
     "output_type": "stream",
     "text": [
      "Training until validation scores don't improve for 10 rounds\n",
      "Early stopping, best iteration is:\n",
      "[13]\ttrain's multi_logloss: 0.377213\teval's multi_logloss: 0.377113\n",
      "Training until validation scores don't improve for 10 rounds\n",
      "Early stopping, best iteration is:\n",
      "[3]\ttrain's multi_logloss: 0.407574\teval's multi_logloss: 0.395521\n",
      "Training until validation scores don't improve for 10 rounds\n",
      "Early stopping, best iteration is:\n",
      "[11]\ttrain's multi_logloss: 0.370078\teval's multi_logloss: 0.371523\n"
     ]
    },
    {
     "name": "stderr",
     "output_type": "stream",
     "text": [
      "regularization_factors, val_score: 0.369703:  70%|7| 14/20 [00:01<00:00, 12.52i\u001b[32m[I 2021-06-13 10:11:02,026]\u001b[0m Trial 56 finished with value: 0.37152346504792777 and parameters: {'lambda_l1': 0.16385849497787083, 'lambda_l2': 0.038395229734292886}. Best is trial 53 with value: 0.36970272444662894.\u001b[0m\n",
      "regularization_factors, val_score: 0.369703:  70%|7| 14/20 [00:01<00:00, 12.52i\u001b[32m[I 2021-06-13 10:11:02,105]\u001b[0m Trial 57 finished with value: 0.39479572676131647 and parameters: {'lambda_l1': 8.054631728003047, 'lambda_l2': 0.011052628058652628}. Best is trial 53 with value: 0.36970272444662894.\u001b[0m\n",
      "regularization_factors, val_score: 0.367931:  80%|8| 16/20 [00:01<00:00, 12.52i\u001b[32m[I 2021-06-13 10:11:02,188]\u001b[0m Trial 58 finished with value: 0.3679314744932001 and parameters: {'lambda_l1': 0.006367119011395967, 'lambda_l2': 0.31384235320969056}. Best is trial 58 with value: 0.3679314744932001.\u001b[0m\n",
      "regularization_factors, val_score: 0.367931:  80%|8| 16/20 [00:01<00:00, 12.52i"
     ]
    },
    {
     "name": "stdout",
     "output_type": "stream",
     "text": [
      "Training until validation scores don't improve for 10 rounds\n",
      "Early stopping, best iteration is:\n",
      "[12]\ttrain's multi_logloss: 0.407153\teval's multi_logloss: 0.394796\n",
      "Training until validation scores don't improve for 10 rounds\n",
      "Early stopping, best iteration is:\n",
      "[13]\ttrain's multi_logloss: 0.369097\teval's multi_logloss: 0.367931\n",
      "Training until validation scores don't improve for 10 rounds\n"
     ]
    },
    {
     "name": "stderr",
     "output_type": "stream",
     "text": [
      "regularization_factors, val_score: 0.367931:  80%|8| 16/20 [00:01<00:00, 12.52i\u001b[32m[I 2021-06-13 10:11:02,287]\u001b[0m Trial 59 finished with value: 0.3689551994048523 and parameters: {'lambda_l1': 0.0018184254449323644, 'lambda_l2': 0.43808674018644483}. Best is trial 58 with value: 0.3679314744932001.\u001b[0m\n",
      "regularization_factors, val_score: 0.367931:  90%|9| 18/20 [00:01<00:00, 11.95i\u001b[32m[I 2021-06-13 10:11:02,370]\u001b[0m Trial 60 finished with value: 0.37122515859041916 and parameters: {'lambda_l1': 0.0015875013614892939, 'lambda_l2': 0.12771330767074343}. Best is trial 58 with value: 0.3679314744932001.\u001b[0m\n",
      "regularization_factors, val_score: 0.367931:  90%|9| 18/20 [00:01<00:00, 11.95i"
     ]
    },
    {
     "name": "stdout",
     "output_type": "stream",
     "text": [
      "Early stopping, best iteration is:\n",
      "[13]\ttrain's multi_logloss: 0.369362\teval's multi_logloss: 0.368955\n",
      "Training until validation scores don't improve for 10 rounds\n",
      "Early stopping, best iteration is:\n",
      "[11]\ttrain's multi_logloss: 0.368385\teval's multi_logloss: 0.371225\n",
      "Training until validation scores don't improve for 10 rounds\n",
      "Early stopping, best iteration is:\n",
      "[13]\ttrain's multi_logloss: 0.369493\teval's multi_logloss: 0.370176\n"
     ]
    },
    {
     "name": "stderr",
     "output_type": "stream",
     "text": [
      "regularization_factors, val_score: 0.367931:  90%|9| 18/20 [00:01<00:00, 11.95i\u001b[32m[I 2021-06-13 10:11:02,469]\u001b[0m Trial 61 finished with value: 0.3701755171303408 and parameters: {'lambda_l1': 8.602602720269982e-05, 'lambda_l2': 0.00470905584358196}. Best is trial 58 with value: 0.3679314744932001.\u001b[0m\n",
      "regularization_factors, val_score: 0.367931: 100%|#| 20/20 [00:01<00:00, 12.07i\u001b[32m[I 2021-06-13 10:11:02,532]\u001b[0m Trial 62 finished with value: 0.40219377152962116 and parameters: {'lambda_l1': 0.0033991404300045816, 'lambda_l2': 9.172638886654134}. Best is trial 58 with value: 0.3679314744932001.\u001b[0m\n",
      "regularization_factors, val_score: 0.367931: 100%|#| 20/20 [00:01<00:00, 11.94i\n",
      "min_data_in_leaf, val_score: 0.367931:   0%|             | 0/5 [00:00<?, ?it/s]\u001b[32m[I 2021-06-13 10:11:02,601]\u001b[0m Trial 63 finished with value: 0.454185228217125 and parameters: {'min_child_samples': 100}. Best is trial 63 with value: 0.454185228217125.\u001b[0m\n",
      "min_data_in_leaf, val_score: 0.365592:  20%|#    | 1/5 [00:00<00:00,  6.68it/s]"
     ]
    },
    {
     "name": "stdout",
     "output_type": "stream",
     "text": [
      "Training until validation scores don't improve for 10 rounds\n",
      "Early stopping, best iteration is:\n",
      "[3]\ttrain's multi_logloss: 0.413101\teval's multi_logloss: 0.402194\n",
      "Training until validation scores don't improve for 10 rounds\n",
      "Early stopping, best iteration is:\n",
      "[5]\ttrain's multi_logloss: 0.455398\teval's multi_logloss: 0.454185\n",
      "Training until validation scores don't improve for 10 rounds\n",
      "Early stopping, best iteration is:\n",
      "[13]\ttrain's multi_logloss: 0.313411\teval's multi_logloss: 0.365592\n"
     ]
    },
    {
     "name": "stderr",
     "output_type": "stream",
     "text": [
      "min_data_in_leaf, val_score: 0.365592:  40%|##   | 2/5 [00:00<00:00, 13.19it/s]\u001b[32m[I 2021-06-13 10:11:02,694]\u001b[0m Trial 64 finished with value: 0.3655917265341785 and parameters: {'min_child_samples': 5}. Best is trial 64 with value: 0.3655917265341785.\u001b[0m\n",
      "min_data_in_leaf, val_score: 0.365592:  40%|##   | 2/5 [00:00<00:00, 13.19it/s]\u001b[32m[I 2021-06-13 10:11:02,744]\u001b[0m Trial 65 finished with value: 0.3784595648901693 and parameters: {'min_child_samples': 50}. Best is trial 64 with value: 0.3655917265341785.\u001b[0m\n",
      "min_data_in_leaf, val_score: 0.365592:  80%|#### | 4/5 [00:00<00:00, 13.73it/s]\u001b[32m[I 2021-06-13 10:11:02,835]\u001b[0m Trial 66 finished with value: 0.36620373401541156 and parameters: {'min_child_samples': 10}. Best is trial 64 with value: 0.3655917265341785.\u001b[0m\n",
      "min_data_in_leaf, val_score: 0.365592:  80%|#### | 4/5 [00:00<00:00, 13.73it/s]"
     ]
    },
    {
     "name": "stdout",
     "output_type": "stream",
     "text": [
      "Training until validation scores don't improve for 10 rounds\n",
      "Early stopping, best iteration is:\n",
      "[5]\ttrain's multi_logloss: 0.39181\teval's multi_logloss: 0.37846\n",
      "Training until validation scores don't improve for 10 rounds\n",
      "Early stopping, best iteration is:\n",
      "[13]\ttrain's multi_logloss: 0.340799\teval's multi_logloss: 0.366204\n",
      "Training until validation scores don't improve for 10 rounds\n",
      "Early stopping, best iteration is:\n",
      "[13]\ttrain's multi_logloss: 0.377414\teval's multi_logloss: 0.375001\n"
     ]
    },
    {
     "name": "stderr",
     "output_type": "stream",
     "text": [
      "\u001b[32m[I 2021-06-13 10:11:02,906]\u001b[0m Trial 67 finished with value: 0.3750013171342785 and parameters: {'min_child_samples': 25}. Best is trial 64 with value: 0.3655917265341785.\u001b[0m\n",
      "min_data_in_leaf, val_score: 0.365592: 100%|#####| 5/5 [00:00<00:00, 13.44it/s]\n",
      "\u001b[32m[I 2021-06-13 10:11:02,934]\u001b[0m A new study created in memory with name: no-name-ab087859-3826-4801-b69d-32a671bc4e47\u001b[0m\n",
      "feature_fraction, val_score: 0.449342:  14%|7    | 1/7 [00:00<00:01,  5.57it/s]\u001b[32m[I 2021-06-13 10:11:03,118]\u001b[0m Trial 0 finished with value: 0.44934226301173824 and parameters: {'feature_fraction': 1.0}. Best is trial 0 with value: 0.44934226301173824.\u001b[0m\n",
      "feature_fraction, val_score: 0.449342:  14%|7    | 1/7 [00:00<00:01,  5.57it/s]"
     ]
    },
    {
     "name": "stdout",
     "output_type": "stream",
     "text": [
      "Training until validation scores don't improve for 10 rounds\n",
      "Early stopping, best iteration is:\n",
      "[25]\ttrain's multi_logloss: 0.360219\teval's multi_logloss: 0.449342\n",
      "Training until validation scores don't improve for 10 rounds\n"
     ]
    },
    {
     "name": "stderr",
     "output_type": "stream",
     "text": [
      "feature_fraction, val_score: 0.394835:  29%|#4   | 2/7 [00:00<00:00,  7.42it/s]\u001b[32m[I 2021-06-13 10:11:03,219]\u001b[0m Trial 1 finished with value: 0.39483488210118545 and parameters: {'feature_fraction': 0.5}. Best is trial 1 with value: 0.39483488210118545.\u001b[0m\n",
      "feature_fraction, val_score: 0.394835:  29%|#4   | 2/7 [00:00<00:00,  7.42it/s]\u001b[32m[I 2021-06-13 10:11:03,300]\u001b[0m Trial 2 finished with value: 0.4100504708034097 and parameters: {'feature_fraction': 0.8}. Best is trial 1 with value: 0.39483488210118545.\u001b[0m\n",
      "feature_fraction, val_score: 0.394835:  43%|##1  | 3/7 [00:00<00:00,  7.42it/s]"
     ]
    },
    {
     "name": "stdout",
     "output_type": "stream",
     "text": [
      "Early stopping, best iteration is:\n",
      "[7]\ttrain's multi_logloss: 0.344656\teval's multi_logloss: 0.394835\n",
      "Training until validation scores don't improve for 10 rounds\n",
      "Early stopping, best iteration is:\n",
      "[4]\ttrain's multi_logloss: 0.336538\teval's multi_logloss: 0.41005\n",
      "Training until validation scores don't improve for 10 rounds"
     ]
    },
    {
     "name": "stderr",
     "output_type": "stream",
     "text": [
      "feature_fraction, val_score: 0.394835:  57%|##8  | 4/7 [00:00<00:00,  9.97it/s]\u001b[32m[I 2021-06-13 10:11:03,381]\u001b[0m Trial 3 finished with value: 0.4052343309650677 and parameters: {'feature_fraction': 0.7}. Best is trial 1 with value: 0.39483488210118545.\u001b[0m\n",
      "feature_fraction, val_score: 0.394835:  57%|##8  | 4/7 [00:00<00:00,  9.97it/s]\u001b[32m[I 2021-06-13 10:11:03,460]\u001b[0m Trial 4 finished with value: 0.39483488210118545 and parameters: {'feature_fraction': 0.6}. Best is trial 1 with value: 0.39483488210118545.\u001b[0m\n",
      "feature_fraction, val_score: 0.394835:  71%|###5 | 5/7 [00:00<00:00,  9.97it/s]"
     ]
    },
    {
     "name": "stdout",
     "output_type": "stream",
     "text": [
      "\n",
      "Early stopping, best iteration is:\n",
      "[5]\ttrain's multi_logloss: 0.335515\teval's multi_logloss: 0.405234\n",
      "Training until validation scores don't improve for 10 rounds\n",
      "Early stopping, best iteration is:\n",
      "[7]\ttrain's multi_logloss: 0.344656\teval's multi_logloss: 0.394835\n",
      "Training until validation scores don't improve for 10 rounds\n",
      "Early stopping, best iteration is:\n",
      "[6]\ttrain's multi_logloss: 0.345539\teval's multi_logloss: 0.427511\n"
     ]
    },
    {
     "name": "stderr",
     "output_type": "stream",
     "text": [
      "feature_fraction, val_score: 0.394835:  86%|####2| 6/7 [00:00<00:00, 11.21it/s]\u001b[32m[I 2021-06-13 10:11:03,541]\u001b[0m Trial 5 finished with value: 0.4275110686091982 and parameters: {'feature_fraction': 0.8999999999999999}. Best is trial 1 with value: 0.39483488210118545.\u001b[0m\n",
      "feature_fraction, val_score: 0.394835:  86%|####2| 6/7 [00:00<00:00, 11.21it/s]\u001b[32m[I 2021-06-13 10:11:03,603]\u001b[0m Trial 6 finished with value: 0.43885372256002264 and parameters: {'feature_fraction': 0.4}. Best is trial 1 with value: 0.39483488210118545.\u001b[0m\n",
      "feature_fraction, val_score: 0.394835: 100%|#####| 7/7 [00:00<00:00, 10.49it/s]\n",
      "num_leaves, val_score: 0.394835:   0%|                  | 0/20 [00:00<?, ?it/s]\u001b[32m[I 2021-06-13 10:11:03,692]\u001b[0m Trial 7 finished with value: 0.39483488210118545 and parameters: {'num_leaves': 72}. Best is trial 7 with value: 0.39483488210118545.\u001b[0m\n",
      "num_leaves, val_score: 0.394835:   5%|5         | 1/20 [00:00<00:01, 12.06it/s]"
     ]
    },
    {
     "name": "stdout",
     "output_type": "stream",
     "text": [
      "Training until validation scores don't improve for 10 rounds\n",
      "Early stopping, best iteration is:\n",
      "[2]\ttrain's multi_logloss: 0.380438\teval's multi_logloss: 0.438854\n",
      "Training until validation scores don't improve for 10 rounds\n",
      "Early stopping, best iteration is:\n",
      "[7]\ttrain's multi_logloss: 0.344656\teval's multi_logloss: 0.394835\n",
      "Training until validation scores don't improve for 10 rounds\n"
     ]
    },
    {
     "name": "stderr",
     "output_type": "stream",
     "text": [
      "num_leaves, val_score: 0.394835:  10%|#         | 2/20 [00:00<00:01, 11.64it/s]\u001b[32m[I 2021-06-13 10:11:03,785]\u001b[0m Trial 8 finished with value: 0.39483488210118545 and parameters: {'num_leaves': 216}. Best is trial 7 with value: 0.39483488210118545.\u001b[0m\n",
      "num_leaves, val_score: 0.394835:  10%|#         | 2/20 [00:00<00:01, 11.64it/s]\u001b[32m[I 2021-06-13 10:11:03,864]\u001b[0m Trial 9 finished with value: 0.39483488210118545 and parameters: {'num_leaves': 86}. Best is trial 7 with value: 0.39483488210118545.\u001b[0m\n",
      "num_leaves, val_score: 0.394835:  20%|##        | 4/20 [00:00<00:01, 12.12it/s]\u001b[32m[I 2021-06-13 10:11:03,946]\u001b[0m Trial 10 finished with value: 0.39483488210118545 and parameters: {'num_leaves': 76}. Best is trial 7 with value: 0.39483488210118545.\u001b[0m\n",
      "num_leaves, val_score: 0.394835:  20%|##        | 4/20 [00:00<00:01, 12.12it/s]"
     ]
    },
    {
     "name": "stdout",
     "output_type": "stream",
     "text": [
      "Early stopping, best iteration is:\n",
      "[7]\ttrain's multi_logloss: 0.344656\teval's multi_logloss: 0.394835\n",
      "Training until validation scores don't improve for 10 rounds\n",
      "Early stopping, best iteration is:\n",
      "[7]\ttrain's multi_logloss: 0.344656\teval's multi_logloss: 0.394835\n",
      "Training until validation scores don't improve for 10 rounds\n",
      "Early stopping, best iteration is:\n",
      "[7]\ttrain's multi_logloss: 0.344656\teval's multi_logloss: 0.394835\n",
      "Training until validation scores don't improve for 10 rounds\n"
     ]
    },
    {
     "name": "stderr",
     "output_type": "stream",
     "text": [
      "num_leaves, val_score: 0.394835:  20%|##        | 4/20 [00:00<00:01, 12.12it/s]\u001b[32m[I 2021-06-13 10:11:04,038]\u001b[0m Trial 11 finished with value: 0.39483488210118545 and parameters: {'num_leaves': 218}. Best is trial 7 with value: 0.39483488210118545.\u001b[0m\n",
      "num_leaves, val_score: 0.394835:  30%|###       | 6/20 [00:00<00:01, 12.11it/s]\u001b[32m[I 2021-06-13 10:11:04,119]\u001b[0m Trial 12 finished with value: 0.39483488210118545 and parameters: {'num_leaves': 177}. Best is trial 7 with value: 0.39483488210118545.\u001b[0m\n",
      "num_leaves, val_score: 0.394835:  30%|###       | 6/20 [00:00<00:01, 12.11it/s]\u001b[32m[I 2021-06-13 10:11:04,200]\u001b[0m Trial 13 finished with value: 0.39483488210118545 and parameters: {'num_leaves': 127}. Best is trial 7 with value: 0.39483488210118545.\u001b[0m\n",
      "num_leaves, val_score: 0.394835:  35%|###5      | 7/20 [00:00<00:01, 12.11it/s]"
     ]
    },
    {
     "name": "stdout",
     "output_type": "stream",
     "text": [
      "Early stopping, best iteration is:\n",
      "[7]\ttrain's multi_logloss: 0.344656\teval's multi_logloss: 0.394835\n",
      "Training until validation scores don't improve for 10 rounds\n",
      "Early stopping, best iteration is:\n",
      "[7]\ttrain's multi_logloss: 0.344656\teval's multi_logloss: 0.394835\n",
      "Training until validation scores don't improve for 10 rounds\n",
      "Early stopping, best iteration is:\n",
      "[7]\ttrain's multi_logloss: 0.344656\teval's multi_logloss: 0.394835\n"
     ]
    },
    {
     "name": "stderr",
     "output_type": "stream",
     "text": [
      "num_leaves, val_score: 0.394835:  40%|####      | 8/20 [00:00<00:01, 11.70it/s]\u001b[32m[I 2021-06-13 10:11:04,291]\u001b[0m Trial 14 finished with value: 0.39483488210118545 and parameters: {'num_leaves': 60}. Best is trial 7 with value: 0.39483488210118545.\u001b[0m\n",
      "num_leaves, val_score: 0.394835:  40%|####      | 8/20 [00:00<00:01, 11.70it/s]\u001b[32m[I 2021-06-13 10:11:04,372]\u001b[0m Trial 15 finished with value: 0.39483488210118545 and parameters: {'num_leaves': 162}. Best is trial 7 with value: 0.39483488210118545.\u001b[0m\n",
      "num_leaves, val_score: 0.394835:  45%|####5     | 9/20 [00:00<00:00, 11.70it/s]"
     ]
    },
    {
     "name": "stdout",
     "output_type": "stream",
     "text": [
      "Training until validation scores don't improve for 10 rounds\n",
      "Early stopping, best iteration is:\n",
      "[7]\ttrain's multi_logloss: 0.344656\teval's multi_logloss: 0.394835\n",
      "Training until validation scores don't improve for 10 rounds\n",
      "Early stopping, best iteration is:\n",
      "[7]\ttrain's multi_logloss: 0.344656\teval's multi_logloss: 0.394835\n",
      "Training until validation scores don't improve for 10 rounds\n"
     ]
    },
    {
     "name": "stderr",
     "output_type": "stream",
     "text": [
      "num_leaves, val_score: 0.394835:  50%|####5    | 10/20 [00:00<00:00, 11.63it/s]\u001b[32m[I 2021-06-13 10:11:04,463]\u001b[0m Trial 16 finished with value: 0.39483488210118545 and parameters: {'num_leaves': 145}. Best is trial 7 with value: 0.39483488210118545.\u001b[0m\n",
      "num_leaves, val_score: 0.394835:  50%|####5    | 10/20 [00:00<00:00, 11.63it/s]\u001b[32m[I 2021-06-13 10:11:04,521]\u001b[0m Trial 17 finished with value: 0.3966516670455134 and parameters: {'num_leaves': 7}. Best is trial 7 with value: 0.39483488210118545.\u001b[0m\n",
      "num_leaves, val_score: 0.394835:  60%|#####3   | 12/20 [00:00<00:00, 12.37it/s]\u001b[32m[I 2021-06-13 10:11:04,604]\u001b[0m Trial 18 finished with value: 0.39483488210118545 and parameters: {'num_leaves': 238}. Best is trial 7 with value: 0.39483488210118545.\u001b[0m\n",
      "num_leaves, val_score: 0.394835:  60%|#####3   | 12/20 [00:01<00:00, 12.37it/s]"
     ]
    },
    {
     "name": "stdout",
     "output_type": "stream",
     "text": [
      "Early stopping, best iteration is:\n",
      "[7]\ttrain's multi_logloss: 0.344656\teval's multi_logloss: 0.394835\n",
      "Training until validation scores don't improve for 10 rounds\n",
      "Early stopping, best iteration is:\n",
      "[5]\ttrain's multi_logloss: 0.373001\teval's multi_logloss: 0.396652\n",
      "Training until validation scores don't improve for 10 rounds\n",
      "Early stopping, best iteration is:\n",
      "[7]\ttrain's multi_logloss: 0.344656\teval's multi_logloss: 0.394835\n",
      "Training until validation scores don't improve for 10 rounds\n"
     ]
    },
    {
     "name": "stderr",
     "output_type": "stream",
     "text": [
      "num_leaves, val_score: 0.394024:  60%|#####3   | 12/20 [00:01<00:00, 12.37it/s]\u001b[32m[I 2021-06-13 10:11:04,685]\u001b[0m Trial 19 finished with value: 0.394023899482776 and parameters: {'num_leaves': 15}. Best is trial 19 with value: 0.394023899482776.\u001b[0m\n",
      "num_leaves, val_score: 0.393453:  70%|######3  | 14/20 [00:01<00:00, 12.90it/s]\u001b[32m[I 2021-06-13 10:11:04,746]\u001b[0m Trial 20 finished with value: 0.3934529986283019 and parameters: {'num_leaves': 10}. Best is trial 20 with value: 0.3934529986283019.\u001b[0m\n",
      "num_leaves, val_score: 0.393453:  70%|######3  | 14/20 [00:01<00:00, 12.90it/s]\u001b[32m[I 2021-06-13 10:11:04,817]\u001b[0m Trial 21 finished with value: 0.3963063263533792 and parameters: {'num_leaves': 6}. Best is trial 20 with value: 0.3934529986283019.\u001b[0m\n",
      "num_leaves, val_score: 0.393453:  75%|######7  | 15/20 [00:01<00:00, 12.90it/s]"
     ]
    },
    {
     "name": "stdout",
     "output_type": "stream",
     "text": [
      "Early stopping, best iteration is:\n",
      "[5]\ttrain's multi_logloss: 0.355362\teval's multi_logloss: 0.394024\n",
      "Training until validation scores don't improve for 10 rounds\n",
      "Early stopping, best iteration is:\n",
      "[5]\ttrain's multi_logloss: 0.365339\teval's multi_logloss: 0.393453\n",
      "Training until validation scores don't improve for 10 rounds\n",
      "Early stopping, best iteration is:\n",
      "[5]\ttrain's multi_logloss: 0.377184\teval's multi_logloss: 0.396306\n",
      "Training until validation scores don't improve for 10 rounds\n"
     ]
    },
    {
     "name": "stderr",
     "output_type": "stream",
     "text": [
      "num_leaves, val_score: 0.393453:  80%|#######2 | 16/20 [00:01<00:00, 12.99it/s]\u001b[32m[I 2021-06-13 10:11:04,905]\u001b[0m Trial 22 finished with value: 0.3949386447337403 and parameters: {'num_leaves': 32}. Best is trial 20 with value: 0.3934529986283019.\u001b[0m\n",
      "num_leaves, val_score: 0.393453:  80%|#######2 | 16/20 [00:01<00:00, 12.99it/s]\u001b[32m[I 2021-06-13 10:11:04,959]\u001b[0m Trial 23 finished with value: 0.43652420129557207 and parameters: {'num_leaves': 2}. Best is trial 20 with value: 0.3934529986283019.\u001b[0m\n",
      "num_leaves, val_score: 0.393453:  90%|########1| 18/20 [00:01<00:00, 12.77it/s]\u001b[32m[I 2021-06-13 10:11:05,060]\u001b[0m Trial 24 finished with value: 0.39483488210118545 and parameters: {'num_leaves': 38}. Best is trial 20 with value: 0.3934529986283019.\u001b[0m\n",
      "num_leaves, val_score: 0.393453:  90%|########1| 18/20 [00:01<00:00, 12.77it/s]"
     ]
    },
    {
     "name": "stdout",
     "output_type": "stream",
     "text": [
      "Early stopping, best iteration is:\n",
      "[7]\ttrain's multi_logloss: 0.344832\teval's multi_logloss: 0.394939\n",
      "Training until validation scores don't improve for 10 rounds\n",
      "Early stopping, best iteration is:\n",
      "[7]\ttrain's multi_logloss: 0.437074\teval's multi_logloss: 0.436524\n",
      "Training until validation scores don't improve for 10 rounds\n",
      "Early stopping, best iteration is:\n",
      "[7]\ttrain's multi_logloss: 0.344656\teval's multi_logloss: 0.394835\n",
      "Training until validation scores don't improve for 10 rounds\n"
     ]
    },
    {
     "name": "stderr",
     "output_type": "stream",
     "text": [
      "num_leaves, val_score: 0.393453:  90%|########1| 18/20 [00:01<00:00, 12.77it/s]\u001b[32m[I 2021-06-13 10:11:05,171]\u001b[0m Trial 25 finished with value: 0.39483488210118545 and parameters: {'num_leaves': 113}. Best is trial 20 with value: 0.3934529986283019.\u001b[0m\n",
      "num_leaves, val_score: 0.393453: 100%|#########| 20/20 [00:01<00:00, 11.50it/s]\u001b[32m[I 2021-06-13 10:11:05,272]\u001b[0m Trial 26 finished with value: 0.3949286568973875 and parameters: {'num_leaves': 34}. Best is trial 20 with value: 0.3934529986283019.\u001b[0m\n",
      "num_leaves, val_score: 0.393453: 100%|#########| 20/20 [00:01<00:00, 12.04it/s]\n",
      "bagging, val_score: 0.393453:   0%|                     | 0/10 [00:00<?, ?it/s]\u001b[32m[I 2021-06-13 10:11:05,343]\u001b[0m Trial 27 finished with value: 0.39756977868653737 and parameters: {'bagging_fraction': 0.7128469970496026, 'bagging_freq': 3}. Best is trial 27 with value: 0.39756977868653737.\u001b[0m\n",
      "bagging, val_score: 0.393453:  10%|#3           | 1/10 [00:00<00:00, 16.47it/s]"
     ]
    },
    {
     "name": "stdout",
     "output_type": "stream",
     "text": [
      "Early stopping, best iteration is:\n",
      "[7]\ttrain's multi_logloss: 0.344656\teval's multi_logloss: 0.394835\n",
      "Training until validation scores don't improve for 10 rounds\n",
      "Early stopping, best iteration is:\n",
      "[7]\ttrain's multi_logloss: 0.344746\teval's multi_logloss: 0.394929\n",
      "Training until validation scores don't improve for 10 rounds\n",
      "Early stopping, best iteration is:\n",
      "[5]\ttrain's multi_logloss: 0.365883\teval's multi_logloss: 0.39757\n"
     ]
    },
    {
     "name": "stderr",
     "output_type": "stream",
     "text": [
      "bagging, val_score: 0.393453:  20%|##6          | 2/10 [00:00<00:00, 16.47it/s]\u001b[32m[I 2021-06-13 10:11:05,412]\u001b[0m Trial 28 finished with value: 0.39439881769327767 and parameters: {'bagging_fraction': 0.9819975740032528, 'bagging_freq': 4}. Best is trial 28 with value: 0.39439881769327767.\u001b[0m\n",
      "bagging, val_score: 0.393453:  20%|##6          | 2/10 [00:00<00:00, 16.47it/s]\u001b[32m[I 2021-06-13 10:11:05,465]\u001b[0m Trial 29 finished with value: 0.39564033545577354 and parameters: {'bagging_fraction': 0.8065357353019803, 'bagging_freq': 4}. Best is trial 28 with value: 0.39439881769327767.\u001b[0m\n",
      "bagging, val_score: 0.393453:  40%|#####2       | 4/10 [00:00<00:00, 16.64it/s]\u001b[32m[I 2021-06-13 10:11:05,525]\u001b[0m Trial 30 finished with value: 0.3937451070639471 and parameters: {'bagging_fraction': 0.7458319838817575, 'bagging_freq': 6}. Best is trial 30 with value: 0.3937451070639471.\u001b[0m\n",
      "bagging, val_score: 0.393453:  40%|#####2       | 4/10 [00:00<00:00, 16.64it/s]"
     ]
    },
    {
     "name": "stdout",
     "output_type": "stream",
     "text": [
      "Training until validation scores don't improve for 10 rounds\n",
      "Early stopping, best iteration is:\n",
      "[7]\ttrain's multi_logloss: 0.362221\teval's multi_logloss: 0.394399\n",
      "Training until validation scores don't improve for 10 rounds\n",
      "Early stopping, best iteration is:\n",
      "[5]\ttrain's multi_logloss: 0.366049\teval's multi_logloss: 0.39564\n",
      "Training until validation scores don't improve for 10 rounds\n",
      "Early stopping, best iteration is:\n",
      "[5]\ttrain's multi_logloss: 0.365716\teval's multi_logloss: 0.393745\n",
      "Training until validation scores don't improve for 10 rounds"
     ]
    },
    {
     "name": "stderr",
     "output_type": "stream",
     "text": [
      "bagging, val_score: 0.392833:  40%|#####2       | 4/10 [00:00<00:00, 16.64it/s]\u001b[32m[I 2021-06-13 10:11:05,596]\u001b[0m Trial 31 finished with value: 0.3928334303856536 and parameters: {'bagging_fraction': 0.9192339240698764, 'bagging_freq': 4}. Best is trial 31 with value: 0.3928334303856536.\u001b[0m\n",
      "bagging, val_score: 0.392833:  60%|#######8     | 6/10 [00:00<00:00, 16.44it/s]\u001b[32m[I 2021-06-13 10:11:05,657]\u001b[0m Trial 32 finished with value: 0.3948746537980685 and parameters: {'bagging_fraction': 0.5980070037006276, 'bagging_freq': 4}. Best is trial 31 with value: 0.3928334303856536.\u001b[0m\n",
      "bagging, val_score: 0.392833:  60%|#######8     | 6/10 [00:00<00:00, 16.44it/s]"
     ]
    },
    {
     "name": "stdout",
     "output_type": "stream",
     "text": [
      "\n",
      "Early stopping, best iteration is:\n",
      "[7]\ttrain's multi_logloss: 0.364012\teval's multi_logloss: 0.392833\n",
      "Training until validation scores don't improve for 10 rounds\n",
      "Early stopping, best iteration is:\n",
      "[5]\ttrain's multi_logloss: 0.369987\teval's multi_logloss: 0.394875\n",
      "Training until validation scores don't improve for 10 rounds\n",
      "Early stopping, best iteration is:\n",
      "[8]\ttrain's multi_logloss: 0.370161\teval's multi_logloss: 0.394877\n"
     ]
    },
    {
     "name": "stderr",
     "output_type": "stream",
     "text": [
      "\u001b[32m[I 2021-06-13 10:11:05,737]\u001b[0m Trial 33 finished with value: 0.394877105817802 and parameters: {'bagging_fraction': 0.5786669576688834, 'bagging_freq': 5}. Best is trial 31 with value: 0.3928334303856536.\u001b[0m\n",
      "bagging, val_score: 0.392833:  80%|##########4  | 8/10 [00:00<00:00, 14.99it/s]\u001b[32m[I 2021-06-13 10:11:05,806]\u001b[0m Trial 34 finished with value: 0.3962221948060815 and parameters: {'bagging_fraction': 0.5062471838173899, 'bagging_freq': 1}. Best is trial 31 with value: 0.3928334303856536.\u001b[0m\n",
      "bagging, val_score: 0.392833:  80%|##########4  | 8/10 [00:00<00:00, 14.99it/s]\u001b[32m[I 2021-06-13 10:11:05,867]\u001b[0m Trial 35 finished with value: 0.39417417534894983 and parameters: {'bagging_fraction': 0.8398315484694736, 'bagging_freq': 2}. Best is trial 31 with value: 0.3928334303856536.\u001b[0m\n",
      "bagging, val_score: 0.392833:  90%|###########7 | 9/10 [00:00<00:00, 14.99it/s]"
     ]
    },
    {
     "name": "stdout",
     "output_type": "stream",
     "text": [
      "Training until validation scores don't improve for 10 rounds\n",
      "Early stopping, best iteration is:\n",
      "[8]\ttrain's multi_logloss: 0.373255\teval's multi_logloss: 0.396222\n",
      "Training until validation scores don't improve for 10 rounds\n",
      "Early stopping, best iteration is:\n",
      "[10]\ttrain's multi_logloss: 0.364507\teval's multi_logloss: 0.394174\n",
      "Training until validation scores don't improve for 10 rounds\n",
      "Early stopping, best iteration is:\n",
      "[25]\ttrain's multi_logloss: 0.371088\teval's multi_logloss: 0.396466\n"
     ]
    },
    {
     "name": "stderr",
     "output_type": "stream",
     "text": [
      "bagging, val_score: 0.392833: 100%|############| 10/10 [00:00<00:00, 14.10it/s]\u001b[32m[I 2021-06-13 10:11:05,959]\u001b[0m Trial 36 finished with value: 0.39646613256950064 and parameters: {'bagging_fraction': 0.45271818922770224, 'bagging_freq': 3}. Best is trial 31 with value: 0.3928334303856536.\u001b[0m\n",
      "bagging, val_score: 0.392833: 100%|############| 10/10 [00:00<00:00, 14.72it/s]\n",
      "feature_fraction_stage2, val_score: 0.392833:   0%|      | 0/6 [00:00<?, ?it/s]\u001b[32m[I 2021-06-13 10:11:06,020]\u001b[0m Trial 37 finished with value: 0.43888302306352805 and parameters: {'feature_fraction': 0.42}. Best is trial 37 with value: 0.43888302306352805.\u001b[0m\n",
      "feature_fraction_stage2, val_score: 0.392833:  33%|3| 2/6 [00:00<00:00, 17.35it\u001b[32m[I 2021-06-13 10:11:06,081]\u001b[0m Trial 38 finished with value: 0.3928334303856536 and parameters: {'feature_fraction': 0.58}. Best is trial 38 with value: 0.3928334303856536.\u001b[0m\n",
      "feature_fraction_stage2, val_score: 0.392833:  33%|3| 2/6 [00:00<00:00, 17.35it\u001b[32m[I 2021-06-13 10:11:06,152]\u001b[0m Trial 39 finished with value: 0.3928334303856536 and parameters: {'feature_fraction': 0.5479999999999999}. Best is trial 38 with value: 0.3928334303856536.\u001b[0m\n",
      "feature_fraction_stage2, val_score: 0.392833:  50%|5| 3/6 [00:00<00:00, 17.35it"
     ]
    },
    {
     "name": "stdout",
     "output_type": "stream",
     "text": [
      "Training until validation scores don't improve for 10 rounds\n",
      "Early stopping, best iteration is:\n",
      "[2]\ttrain's multi_logloss: 0.398854\teval's multi_logloss: 0.438883\n",
      "Training until validation scores don't improve for 10 rounds\n",
      "Early stopping, best iteration is:\n",
      "[7]\ttrain's multi_logloss: 0.364012\teval's multi_logloss: 0.392833\n",
      "Training until validation scores don't improve for 10 rounds\n",
      "Early stopping, best iteration is:\n",
      "[7]\ttrain's multi_logloss: 0.364012\teval's multi_logloss: 0.392833\n",
      "Training until validation scores don't improve for 10 rounds\n"
     ]
    },
    {
     "name": "stderr",
     "output_type": "stream",
     "text": [
      "feature_fraction_stage2, val_score: 0.392833:  67%|6| 4/6 [00:00<00:00, 16.02it\u001b[32m[I 2021-06-13 10:11:06,213]\u001b[0m Trial 40 finished with value: 0.3928334303856536 and parameters: {'feature_fraction': 0.516}. Best is trial 38 with value: 0.3928334303856536.\u001b[0m\n",
      "feature_fraction_stage2, val_score: 0.392833:  67%|6| 4/6 [00:00<00:00, 16.02it\u001b[32m[I 2021-06-13 10:11:06,271]\u001b[0m Trial 41 finished with value: 0.43888302306352805 and parameters: {'feature_fraction': 0.45199999999999996}. Best is trial 38 with value: 0.3928334303856536.\u001b[0m\n",
      "feature_fraction_stage2, val_score: 0.392833: 100%|#| 6/6 [00:00<00:00, 17.54it\u001b[32m[I 2021-06-13 10:11:06,322]\u001b[0m Trial 42 finished with value: 0.43888302306352805 and parameters: {'feature_fraction': 0.484}. Best is trial 38 with value: 0.3928334303856536.\u001b[0m\n",
      "feature_fraction_stage2, val_score: 0.392833: 100%|#| 6/6 [00:00<00:00, 16.75it\n",
      "regularization_factors, val_score: 0.392833:   0%|      | 0/20 [00:00<?, ?it/s]"
     ]
    },
    {
     "name": "stdout",
     "output_type": "stream",
     "text": [
      "Early stopping, best iteration is:\n",
      "[7]\ttrain's multi_logloss: 0.364012\teval's multi_logloss: 0.392833\n",
      "Training until validation scores don't improve for 10 rounds\n",
      "Early stopping, best iteration is:\n",
      "[2]\ttrain's multi_logloss: 0.398854\teval's multi_logloss: 0.438883\n",
      "Training until validation scores don't improve for 10 rounds\n",
      "Early stopping, best iteration is:\n",
      "[2]\ttrain's multi_logloss: 0.398854\teval's multi_logloss: 0.438883\n",
      "Training until validation scores don't improve for 10 rounds\n",
      "Early stopping, best iteration is:\n",
      "[8]\ttrain's multi_logloss: 0.396091\teval's multi_logloss: 0.38907\n"
     ]
    },
    {
     "name": "stderr",
     "output_type": "stream",
     "text": [
      "regularization_factors, val_score: 0.389070:   0%|      | 0/20 [00:00<?, ?it/s]\u001b[32m[I 2021-06-13 10:11:06,395]\u001b[0m Trial 43 finished with value: 0.3890696652746939 and parameters: {'lambda_l1': 3.317325841698037, 'lambda_l2': 4.112586744511425}. Best is trial 43 with value: 0.3890696652746939.\u001b[0m\n",
      "regularization_factors, val_score: 0.389070:  10%|1| 2/20 [00:00<00:01, 15.23it\u001b[32m[I 2021-06-13 10:11:06,458]\u001b[0m Trial 44 finished with value: 0.39097027828342135 and parameters: {'lambda_l1': 7.39086383859691e-07, 'lambda_l2': 9.741761191532092}. Best is trial 43 with value: 0.3890696652746939.\u001b[0m\n",
      "regularization_factors, val_score: 0.389070:  10%|1| 2/20 [00:00<00:01, 15.23it\u001b[32m[I 2021-06-13 10:11:06,515]\u001b[0m Trial 45 finished with value: 0.40006290861632293 and parameters: {'lambda_l1': 0.0006541045371079435, 'lambda_l2': 0.05281070265070096}. Best is trial 43 with value: 0.3890696652746939.\u001b[0m\n",
      "regularization_factors, val_score: 0.389070:  20%|2| 4/20 [00:00<00:01, 15.89it\u001b[32m[I 2021-06-13 10:11:06,580]\u001b[0m Trial 46 finished with value: 0.3928333907022205 and parameters: {'lambda_l1': 8.780525913387586e-07, 'lambda_l2': 2.312210732205749e-06}. Best is trial 43 with value: 0.3890696652746939.\u001b[0m\n",
      "regularization_factors, val_score: 0.389070:  20%|2| 4/20 [00:00<00:01, 15.89it"
     ]
    },
    {
     "name": "stdout",
     "output_type": "stream",
     "text": [
      "Training until validation scores don't improve for 10 rounds\n",
      "Early stopping, best iteration is:\n",
      "[8]\ttrain's multi_logloss: 0.395727\teval's multi_logloss: 0.39097\n",
      "Training until validation scores don't improve for 10 rounds\n",
      "Early stopping, best iteration is:\n",
      "[5]\ttrain's multi_logloss: 0.365703\teval's multi_logloss: 0.400063\n",
      "Training until validation scores don't improve for 10 rounds\n",
      "Early stopping, best iteration is:\n",
      "[7]\ttrain's multi_logloss: 0.364012\teval's multi_logloss: 0.392833\n",
      "Training until validation scores don't improve for 10 rounds\n",
      "Early stopping, best iteration is:\n",
      "[5]\ttrain's multi_logloss: 0.385479\teval's multi_logloss: 0.391077"
     ]
    },
    {
     "name": "stderr",
     "output_type": "stream",
     "text": [
      "regularization_factors, val_score: 0.389070:  20%|2| 4/20 [00:00<00:01, 15.89it\u001b[32m[I 2021-06-13 10:11:06,642]\u001b[0m Trial 47 finished with value: 0.39107673259711234 and parameters: {'lambda_l1': 4.221061588831161, 'lambda_l2': 0.00018539132510496384}. Best is trial 43 with value: 0.3890696652746939.\u001b[0m\n",
      "regularization_factors, val_score: 0.388494:  30%|3| 6/20 [00:00<00:00, 16.36it\u001b[32m[I 2021-06-13 10:11:06,699]\u001b[0m Trial 48 finished with value: 0.3884941464391417 and parameters: {'lambda_l1': 5.1723782111056575, 'lambda_l2': 0.0009238852217752036}. Best is trial 48 with value: 0.3884941464391417.\u001b[0m\n",
      "regularization_factors, val_score: 0.388494:  30%|3| 6/20 [00:00<00:00, 16.36it\u001b[32m[I 2021-06-13 10:11:06,765]\u001b[0m Trial 49 finished with value: 0.39299671469760084 and parameters: {'lambda_l1': 1.0920222531188151e-07, 'lambda_l2': 0.025111922516352133}. Best is trial 48 with value: 0.3884941464391417.\u001b[0m\n",
      "regularization_factors, val_score: 0.388494:  35%|3| 7/20 [00:00<00:00, 16.36it"
     ]
    },
    {
     "name": "stdout",
     "output_type": "stream",
     "text": [
      "\n",
      "Training until validation scores don't improve for 10 rounds\n",
      "Early stopping, best iteration is:\n",
      "[5]\ttrain's multi_logloss: 0.389831\teval's multi_logloss: 0.388494\n",
      "Training until validation scores don't improve for 10 rounds\n",
      "Early stopping, best iteration is:\n",
      "[7]\ttrain's multi_logloss: 0.364052\teval's multi_logloss: 0.392997\n",
      "Training until validation scores don't improve for 10 rounds\n",
      "Early stopping, best iteration is:\n",
      "[5]\ttrain's multi_logloss: 0.365254\teval's multi_logloss: 0.400364\n"
     ]
    },
    {
     "name": "stderr",
     "output_type": "stream",
     "text": [
      "regularization_factors, val_score: 0.388494:  40%|4| 8/20 [00:00<00:00, 16.43it\u001b[32m[I 2021-06-13 10:11:06,816]\u001b[0m Trial 50 finished with value: 0.400364481194087 and parameters: {'lambda_l1': 0.15094181529850648, 'lambda_l2': 3.4604296013393003e-07}. Best is trial 48 with value: 0.3884941464391417.\u001b[0m\n",
      "regularization_factors, val_score: 0.388494:  40%|4| 8/20 [00:00<00:00, 16.43it\u001b[32m[I 2021-06-13 10:11:06,877]\u001b[0m Trial 51 finished with value: 0.3928334104400743 and parameters: {'lambda_l1': 1.5016449267472906e-07, 'lambda_l2': 1.2233161183401826e-06}. Best is trial 48 with value: 0.3884941464391417.\u001b[0m\n",
      "regularization_factors, val_score: 0.388494:  50%|5| 10/20 [00:00<00:00, 16.45i\u001b[32m[I 2021-06-13 10:11:06,937]\u001b[0m Trial 52 finished with value: 0.39060061328369455 and parameters: {'lambda_l1': 0.03335029967072812, 'lambda_l2': 1.0575804952500518}. Best is trial 48 with value: 0.3884941464391417.\u001b[0m\n",
      "regularization_factors, val_score: 0.388494:  50%|5| 10/20 [00:00<00:00, 16.45i"
     ]
    },
    {
     "name": "stdout",
     "output_type": "stream",
     "text": [
      "Training until validation scores don't improve for 10 rounds\n",
      "Early stopping, best iteration is:\n",
      "[7]\ttrain's multi_logloss: 0.364012\teval's multi_logloss: 0.392833\n",
      "Training until validation scores don't improve for 10 rounds\n",
      "Early stopping, best iteration is:\n",
      "[5]\ttrain's multi_logloss: 0.365727\teval's multi_logloss: 0.390601\n",
      "Training until validation scores don't improve for 10 rounds\n",
      "Early stopping, best iteration is:\n",
      "[7]\ttrain's multi_logloss: 0.364011\teval's multi_logloss: 0.39283\n"
     ]
    },
    {
     "name": "stderr",
     "output_type": "stream",
     "text": [
      "\u001b[32m[I 2021-06-13 10:11:07,038]\u001b[0m Trial 53 finished with value: 0.39283045229341007 and parameters: {'lambda_l1': 8.95957354163637e-05, 'lambda_l2': 0.0001685702565135812}. Best is trial 48 with value: 0.3884941464391417.\u001b[0m\n",
      "regularization_factors, val_score: 0.388494:  60%|6| 12/20 [00:00<00:00, 14.07i\u001b[32m[I 2021-06-13 10:11:07,119]\u001b[0m Trial 54 finished with value: 0.3931622740330637 and parameters: {'lambda_l1': 9.209805509967305, 'lambda_l2': 0.015908695709298835}. Best is trial 48 with value: 0.3884941464391417.\u001b[0m\n",
      "regularization_factors, val_score: 0.388494:  60%|6| 12/20 [00:00<00:00, 14.07i\u001b[32m[I 2021-06-13 10:11:07,201]\u001b[0m Trial 55 finished with value: 0.4019865305047256 and parameters: {'lambda_l1': 0.4713095971510008, 'lambda_l2': 1.4809652851487627e-08}. Best is trial 48 with value: 0.3884941464391417.\u001b[0m\n",
      "regularization_factors, val_score: 0.388494:  65%|6| 13/20 [00:00<00:00, 14.07i"
     ]
    },
    {
     "name": "stdout",
     "output_type": "stream",
     "text": [
      "Training until validation scores don't improve for 10 rounds\n",
      "Early stopping, best iteration is:\n",
      "[8]\ttrain's multi_logloss: 0.402549\teval's multi_logloss: 0.393162\n",
      "Training until validation scores don't improve for 10 rounds\n",
      "Early stopping, best iteration is:\n",
      "[5]\ttrain's multi_logloss: 0.367774\teval's multi_logloss: 0.401987\n",
      "Training until validation scores don't improve for 10 rounds\n",
      "Early stopping, best iteration is:\n",
      "[5]\ttrain's multi_logloss: 0.386028\teval's multi_logloss: 0.385719\n"
     ]
    },
    {
     "name": "stderr",
     "output_type": "stream",
     "text": [
      "regularization_factors, val_score: 0.385719:  70%|7| 14/20 [00:00<00:00, 13.45i\u001b[32m[I 2021-06-13 10:11:07,290]\u001b[0m Trial 56 finished with value: 0.38571852907051307 and parameters: {'lambda_l1': 0.008743611504598594, 'lambda_l2': 4.8348153882022755}. Best is trial 56 with value: 0.38571852907051307.\u001b[0m\n",
      "regularization_factors, val_score: 0.385719:  70%|7| 14/20 [00:01<00:00, 13.45i\u001b[32m[I 2021-06-13 10:11:07,360]\u001b[0m Trial 57 finished with value: 0.39310539688639634 and parameters: {'lambda_l1': 0.008519010881013643, 'lambda_l2': 0.0018871556326379372}. Best is trial 56 with value: 0.38571852907051307.\u001b[0m\n",
      "regularization_factors, val_score: 0.385719:  80%|8| 16/20 [00:01<00:00, 13.37i\u001b[32m[I 2021-06-13 10:11:07,433]\u001b[0m Trial 58 finished with value: 0.38831098962466776 and parameters: {'lambda_l1': 4.634210187960989e-05, 'lambda_l2': 0.5014630046528962}. Best is trial 56 with value: 0.38571852907051307.\u001b[0m\n",
      "regularization_factors, val_score: 0.385719:  80%|8| 16/20 [00:01<00:00, 13.37i\u001b[32m[I 2021-06-13 10:11:07,512]\u001b[0m Trial 59 finished with value: 0.40025037392993856 and parameters: {'lambda_l1': 4.745389144723432e-05, 'lambda_l2': 0.4106253284077139}. Best is trial 56 with value: 0.38571852907051307.\u001b[0m\n",
      "regularization_factors, val_score: 0.385719:  85%|8| 17/20 [00:01<00:00, 13.37i"
     ]
    },
    {
     "name": "stdout",
     "output_type": "stream",
     "text": [
      "Training until validation scores don't improve for 10 rounds\n",
      "Early stopping, best iteration is:\n",
      "[7]\ttrain's multi_logloss: 0.364163\teval's multi_logloss: 0.393105\n",
      "Training until validation scores don't improve for 10 rounds\n",
      "Early stopping, best iteration is:\n",
      "[8]\ttrain's multi_logloss: 0.366493\teval's multi_logloss: 0.388311\n",
      "Training until validation scores don't improve for 10 rounds\n",
      "Early stopping, best iteration is:\n",
      "[5]\ttrain's multi_logloss: 0.366008\teval's multi_logloss: 0.40025\n"
     ]
    },
    {
     "name": "stderr",
     "output_type": "stream",
     "text": [
      "regularization_factors, val_score: 0.385719:  90%|9| 18/20 [00:01<00:00, 13.31i\u001b[32m[I 2021-06-13 10:11:07,585]\u001b[0m Trial 60 finished with value: 0.3909475705243714 and parameters: {'lambda_l1': 0.0019662215820370646, 'lambda_l2': 9.897726449092525}. Best is trial 56 with value: 0.38571852907051307.\u001b[0m\n",
      "regularization_factors, val_score: 0.385719:  90%|9| 18/20 [00:01<00:00, 13.31i\u001b[32m[I 2021-06-13 10:11:07,664]\u001b[0m Trial 61 finished with value: 0.38708876603681724 and parameters: {'lambda_l1': 1.2870055831460883e-05, 'lambda_l2': 0.5469795498474171}. Best is trial 56 with value: 0.38571852907051307.\u001b[0m\n",
      "regularization_factors, val_score: 0.385719: 100%|#| 20/20 [00:01<00:00, 13.33i"
     ]
    },
    {
     "name": "stdout",
     "output_type": "stream",
     "text": [
      "Training until validation scores don't improve for 10 rounds\n",
      "Early stopping, best iteration is:\n",
      "[8]\ttrain's multi_logloss: 0.396007\teval's multi_logloss: 0.390948\n",
      "Training until validation scores don't improve for 10 rounds\n",
      "Early stopping, best iteration is:\n",
      "[8]\ttrain's multi_logloss: 0.366615\teval's multi_logloss: 0.387089\n",
      "Training until validation scores don't improve for 10 rounds\n",
      "Early stopping, best iteration is:\n",
      "[5]\ttrain's multi_logloss: 0.365116\teval's multi_logloss: 0.399865\n"
     ]
    },
    {
     "name": "stderr",
     "output_type": "stream",
     "text": [
      "\u001b[32m[I 2021-06-13 10:11:07,737]\u001b[0m Trial 62 finished with value: 0.39986507461750137 and parameters: {'lambda_l1': 1.5256049531662113e-05, 'lambda_l2': 0.13579005897679644}. Best is trial 56 with value: 0.38571852907051307.\u001b[0m\n",
      "regularization_factors, val_score: 0.385719: 100%|#| 20/20 [00:01<00:00, 14.16i\n",
      "min_data_in_leaf, val_score: 0.385719:   0%|             | 0/5 [00:00<?, ?it/s]\u001b[32m[I 2021-06-13 10:11:07,807]\u001b[0m Trial 63 finished with value: 0.3860373210888023 and parameters: {'min_child_samples': 25}. Best is trial 63 with value: 0.3860373210888023.\u001b[0m\n",
      "min_data_in_leaf, val_score: 0.380328:  40%|##   | 2/5 [00:00<00:00, 16.20it/s]\u001b[32m[I 2021-06-13 10:11:07,868]\u001b[0m Trial 64 finished with value: 0.3803284350542581 and parameters: {'min_child_samples': 10}. Best is trial 64 with value: 0.3803284350542581.\u001b[0m\n",
      "min_data_in_leaf, val_score: 0.380328:  40%|##   | 2/5 [00:00<00:00, 16.20it/s]\u001b[32m[I 2021-06-13 10:11:07,927]\u001b[0m Trial 65 finished with value: 0.3927701587748421 and parameters: {'min_child_samples': 100}. Best is trial 64 with value: 0.3803284350542581.\u001b[0m\n",
      "min_data_in_leaf, val_score: 0.380328:  60%|###  | 3/5 [00:00<00:00, 16.20it/s]"
     ]
    },
    {
     "name": "stdout",
     "output_type": "stream",
     "text": [
      "Training until validation scores don't improve for 10 rounds\n",
      "Early stopping, best iteration is:\n",
      "[5]\ttrain's multi_logloss: 0.386508\teval's multi_logloss: 0.386037\n",
      "Training until validation scores don't improve for 10 rounds\n",
      "Early stopping, best iteration is:\n",
      "[8]\ttrain's multi_logloss: 0.381834\teval's multi_logloss: 0.380328\n",
      "Training until validation scores don't improve for 10 rounds\n",
      "Early stopping, best iteration is:\n",
      "[5]\ttrain's multi_logloss: 0.400286\teval's multi_logloss: 0.39277\n",
      "Training until validation scores don't improve for 10 rounds\n",
      "Early stopping, best iteration is:\n",
      "[5]\ttrain's multi_logloss: 0.39261\teval's multi_logloss: 0.392756"
     ]
    },
    {
     "name": "stderr",
     "output_type": "stream",
     "text": [
      "min_data_in_leaf, val_score: 0.380328:  80%|#### | 4/5 [00:00<00:00, 17.17it/s]\u001b[32m[I 2021-06-13 10:11:07,980]\u001b[0m Trial 66 finished with value: 0.39275630422442537 and parameters: {'min_child_samples': 50}. Best is trial 64 with value: 0.3803284350542581.\u001b[0m\n",
      "min_data_in_leaf, val_score: 0.380328:  80%|#### | 4/5 [00:00<00:00, 17.17it/s]\u001b[32m[I 2021-06-13 10:11:08,049]\u001b[0m Trial 67 finished with value: 0.3824758787159196 and parameters: {'min_child_samples': 5}. Best is trial 64 with value: 0.3803284350542581.\u001b[0m\n",
      "min_data_in_leaf, val_score: 0.380328: 100%|#####| 5/5 [00:00<00:00, 16.35it/s]\n",
      "\u001b[32m[I 2021-06-13 10:11:08,061]\u001b[0m A new study created in memory with name: no-name-47bb4d98-4a72-4913-90d1-e48126b6ad6c\u001b[0m\n",
      "feature_fraction, val_score: inf:   0%|                  | 0/7 [00:00<?, ?it/s]"
     ]
    },
    {
     "name": "stdout",
     "output_type": "stream",
     "text": [
      "\n",
      "Training until validation scores don't improve for 10 rounds\n",
      "Early stopping, best iteration is:\n",
      "[8]\ttrain's multi_logloss: 0.381848\teval's multi_logloss: 0.382476\n",
      "Training until validation scores don't improve for 10 rounds\n",
      "Early stopping, best iteration is:\n",
      "[10]\ttrain's multi_logloss: 0.357299\teval's multi_logloss: 0.519186\n"
     ]
    },
    {
     "name": "stderr",
     "output_type": "stream",
     "text": [
      "feature_fraction, val_score: 0.519186:   0%|             | 0/7 [00:00<?, ?it/s]\u001b[32m[I 2021-06-13 10:11:08,172]\u001b[0m Trial 0 finished with value: 0.5191864556708222 and parameters: {'feature_fraction': 0.8999999999999999}. Best is trial 0 with value: 0.5191864556708222.\u001b[0m\n",
      "feature_fraction, val_score: 0.464396:  29%|#4   | 2/7 [00:00<00:00, 10.99it/s]\u001b[32m[I 2021-06-13 10:11:08,253]\u001b[0m Trial 1 finished with value: 0.4643956123702562 and parameters: {'feature_fraction': 0.8}. Best is trial 1 with value: 0.4643956123702562.\u001b[0m\n",
      "feature_fraction, val_score: 0.441661:  29%|#4   | 2/7 [00:00<00:00, 10.99it/s]\u001b[32m[I 2021-06-13 10:11:08,334]\u001b[0m Trial 2 finished with value: 0.4416610578326716 and parameters: {'feature_fraction': 0.7}. Best is trial 2 with value: 0.4416610578326716.\u001b[0m\n",
      "feature_fraction, val_score: 0.441661:  43%|##1  | 3/7 [00:00<00:00, 10.99it/s]"
     ]
    },
    {
     "name": "stdout",
     "output_type": "stream",
     "text": [
      "Training until validation scores don't improve for 10 rounds\n",
      "Early stopping, best iteration is:\n",
      "[9]\ttrain's multi_logloss: 0.335973\teval's multi_logloss: 0.464396\n",
      "Training until validation scores don't improve for 10 rounds\n",
      "Early stopping, best iteration is:\n",
      "[7]\ttrain's multi_logloss: 0.33158\teval's multi_logloss: 0.441661\n",
      "Training until validation scores don't improve for 10 rounds\n"
     ]
    },
    {
     "name": "stderr",
     "output_type": "stream",
     "text": [
      "feature_fraction, val_score: 0.441197:  57%|##8  | 4/7 [00:00<00:00, 10.98it/s]\u001b[32m[I 2021-06-13 10:11:08,435]\u001b[0m Trial 3 finished with value: 0.4411974194229456 and parameters: {'feature_fraction': 0.5}. Best is trial 3 with value: 0.4411974194229456.\u001b[0m\n",
      "feature_fraction, val_score: 0.441197:  57%|##8  | 4/7 [00:00<00:00, 10.98it/s]\u001b[32m[I 2021-06-13 10:11:08,506]\u001b[0m Trial 4 finished with value: 0.46983712612808076 and parameters: {'feature_fraction': 0.4}. Best is trial 3 with value: 0.4411974194229456.\u001b[0m\n",
      "feature_fraction, val_score: 0.441197:  86%|####2| 6/7 [00:00<00:00, 11.89it/s]\u001b[32m[I 2021-06-13 10:11:08,595]\u001b[0m Trial 5 finished with value: 0.5488204878771676 and parameters: {'feature_fraction': 1.0}. Best is trial 3 with value: 0.4411974194229456.\u001b[0m\n",
      "feature_fraction, val_score: 0.441197:  86%|####2| 6/7 [00:00<00:00, 11.89it/s]"
     ]
    },
    {
     "name": "stdout",
     "output_type": "stream",
     "text": [
      "Early stopping, best iteration is:\n",
      "[6]\ttrain's multi_logloss: 0.349137\teval's multi_logloss: 0.441197\n",
      "Training until validation scores don't improve for 10 rounds\n",
      "Early stopping, best iteration is:\n",
      "[2]\ttrain's multi_logloss: 0.383941\teval's multi_logloss: 0.469837\n",
      "Training until validation scores don't improve for 10 rounds\n",
      "Early stopping, best iteration is:\n",
      "[11]\ttrain's multi_logloss: 0.369107\teval's multi_logloss: 0.54882\n",
      "Training until validation scores don't improve for 10 rounds"
     ]
    },
    {
     "name": "stderr",
     "output_type": "stream",
     "text": [
      "feature_fraction, val_score: 0.441197:  86%|####2| 6/7 [00:00<00:00, 11.89it/s]\u001b[32m[I 2021-06-13 10:11:08,678]\u001b[0m Trial 6 finished with value: 0.4411974194229456 and parameters: {'feature_fraction': 0.6}. Best is trial 3 with value: 0.4411974194229456.\u001b[0m\n",
      "feature_fraction, val_score: 0.441197: 100%|#####| 7/7 [00:00<00:00, 11.53it/s]\n",
      "num_leaves, val_score: 0.441197:   0%|                  | 0/20 [00:00<?, ?it/s]\u001b[32m[I 2021-06-13 10:11:08,759]\u001b[0m Trial 7 finished with value: 0.4411974194229456 and parameters: {'num_leaves': 107}. Best is trial 7 with value: 0.4411974194229456.\u001b[0m\n",
      "num_leaves, val_score: 0.441197:   5%|5         | 1/20 [00:00<00:01, 14.13it/s]"
     ]
    },
    {
     "name": "stdout",
     "output_type": "stream",
     "text": [
      "\n",
      "Early stopping, best iteration is:\n",
      "[6]\ttrain's multi_logloss: 0.349137\teval's multi_logloss: 0.441197\n",
      "Training until validation scores don't improve for 10 rounds\n",
      "Early stopping, best iteration is:\n",
      "[6]\ttrain's multi_logloss: 0.349137\teval's multi_logloss: 0.441197\n",
      "Training until validation scores don't improve for 10 rounds\n"
     ]
    },
    {
     "name": "stderr",
     "output_type": "stream",
     "text": [
      "num_leaves, val_score: 0.441197:  10%|#         | 2/20 [00:00<00:01, 13.19it/s]\u001b[32m[I 2021-06-13 10:11:08,848]\u001b[0m Trial 8 finished with value: 0.4411974194229456 and parameters: {'num_leaves': 47}. Best is trial 7 with value: 0.4411974194229456.\u001b[0m\n",
      "num_leaves, val_score: 0.441197:  10%|#         | 2/20 [00:00<00:01, 13.19it/s]\u001b[32m[I 2021-06-13 10:11:08,920]\u001b[0m Trial 9 finished with value: 0.4411974194229456 and parameters: {'num_leaves': 61}. Best is trial 7 with value: 0.4411974194229456.\u001b[0m\n",
      "num_leaves, val_score: 0.441197:  20%|##        | 4/20 [00:00<00:01, 12.22it/s]"
     ]
    },
    {
     "name": "stdout",
     "output_type": "stream",
     "text": [
      "Early stopping, best iteration is:\n",
      "[6]\ttrain's multi_logloss: 0.349137\teval's multi_logloss: 0.441197\n",
      "Training until validation scores don't improve for 10 rounds\n",
      "Early stopping, best iteration is:\n",
      "[6]\ttrain's multi_logloss: 0.349137\teval's multi_logloss: 0.441197\n",
      "Training until validation scores don't improve for 10 rounds\n",
      "Early stopping, best iteration is:\n",
      "[6]\ttrain's multi_logloss: 0.349137\teval's multi_logloss: 0.441197\n"
     ]
    },
    {
     "name": "stderr",
     "output_type": "stream",
     "text": [
      "\u001b[32m[I 2021-06-13 10:11:09,020]\u001b[0m Trial 10 finished with value: 0.4411974194229456 and parameters: {'num_leaves': 134}. Best is trial 7 with value: 0.4411974194229456.\u001b[0m\n",
      "num_leaves, val_score: 0.441197:  20%|##        | 4/20 [00:00<00:01, 12.22it/s]\u001b[32m[I 2021-06-13 10:11:09,113]\u001b[0m Trial 11 finished with value: 0.4411974194229456 and parameters: {'num_leaves': 64}. Best is trial 7 with value: 0.4411974194229456.\u001b[0m\n",
      "num_leaves, val_score: 0.441197:  30%|###       | 6/20 [00:00<00:01, 11.31it/s]\u001b[32m[I 2021-06-13 10:11:09,212]\u001b[0m Trial 12 finished with value: 0.4411974194229456 and parameters: {'num_leaves': 49}. Best is trial 7 with value: 0.4411974194229456.\u001b[0m\n",
      "num_leaves, val_score: 0.441197:  30%|###       | 6/20 [00:00<00:01, 11.31it/s]"
     ]
    },
    {
     "name": "stdout",
     "output_type": "stream",
     "text": [
      "Training until validation scores don't improve for 10 rounds\n",
      "Early stopping, best iteration is:\n",
      "[6]\ttrain's multi_logloss: 0.349137\teval's multi_logloss: 0.441197\n",
      "Training until validation scores don't improve for 10 rounds\n",
      "Early stopping, best iteration is:\n",
      "[6]\ttrain's multi_logloss: 0.349137\teval's multi_logloss: 0.441197\n",
      "Training until validation scores don't improve for 10 rounds\n"
     ]
    },
    {
     "name": "stderr",
     "output_type": "stream",
     "text": [
      "num_leaves, val_score: 0.441197:  30%|###       | 6/20 [00:00<00:01, 11.31it/s]\u001b[32m[I 2021-06-13 10:11:09,305]\u001b[0m Trial 13 finished with value: 0.4411974194229456 and parameters: {'num_leaves': 139}. Best is trial 7 with value: 0.4411974194229456.\u001b[0m\n",
      "num_leaves, val_score: 0.441197:  40%|####      | 8/20 [00:00<00:01, 11.49it/s]\u001b[32m[I 2021-06-13 10:11:09,376]\u001b[0m Trial 14 finished with value: 0.4411974194229456 and parameters: {'num_leaves': 136}. Best is trial 7 with value: 0.4411974194229456.\u001b[0m\n",
      "num_leaves, val_score: 0.441197:  40%|####      | 8/20 [00:00<00:01, 11.49it/s]\u001b[32m[I 2021-06-13 10:11:09,455]\u001b[0m Trial 15 finished with value: 0.4411974194229456 and parameters: {'num_leaves': 70}. Best is trial 7 with value: 0.4411974194229456.\u001b[0m\n",
      "num_leaves, val_score: 0.441197:  45%|####5     | 9/20 [00:00<00:00, 11.49it/s]"
     ]
    },
    {
     "name": "stdout",
     "output_type": "stream",
     "text": [
      "Early stopping, best iteration is:\n",
      "[6]\ttrain's multi_logloss: 0.349137\teval's multi_logloss: 0.441197\n",
      "Training until validation scores don't improve for 10 rounds\n",
      "Early stopping, best iteration is:\n",
      "[6]\ttrain's multi_logloss: 0.349137\teval's multi_logloss: 0.441197\n",
      "Training until validation scores don't improve for 10 rounds\n",
      "Early stopping, best iteration is:\n",
      "[6]\ttrain's multi_logloss: 0.349137\teval's multi_logloss: 0.441197\n",
      "Training until validation scores don't improve for 10 rounds"
     ]
    },
    {
     "name": "stderr",
     "output_type": "stream",
     "text": [
      "num_leaves, val_score: 0.441197:  50%|####5    | 10/20 [00:00<00:00, 11.74it/s]\u001b[32m[I 2021-06-13 10:11:09,538]\u001b[0m Trial 16 finished with value: 0.4411974194229456 and parameters: {'num_leaves': 220}. Best is trial 7 with value: 0.4411974194229456.\u001b[0m\n",
      "num_leaves, val_score: 0.441197:  50%|####5    | 10/20 [00:00<00:00, 11.74it/s]\u001b[32m[I 2021-06-13 10:11:09,627]\u001b[0m Trial 17 finished with value: 0.4411974194229456 and parameters: {'num_leaves': 204}. Best is trial 7 with value: 0.4411974194229456.\u001b[0m\n",
      "num_leaves, val_score: 0.441197:  55%|####9    | 11/20 [00:00<00:00, 11.74it/s]"
     ]
    },
    {
     "name": "stdout",
     "output_type": "stream",
     "text": [
      "\n",
      "Early stopping, best iteration is:\n",
      "[6]\ttrain's multi_logloss: 0.349137\teval's multi_logloss: 0.441197\n",
      "Training until validation scores don't improve for 10 rounds\n",
      "Early stopping, best iteration is:\n",
      "[6]\ttrain's multi_logloss: 0.349137\teval's multi_logloss: 0.441197\n",
      "Training until validation scores don't improve for 10 rounds\n",
      "Early stopping, best iteration is:\n",
      "[6]\ttrain's multi_logloss: 0.370614\teval's multi_logloss: 0.448237\n"
     ]
    },
    {
     "name": "stderr",
     "output_type": "stream",
     "text": [
      "num_leaves, val_score: 0.441197:  60%|#####3   | 12/20 [00:01<00:00, 12.24it/s]\u001b[32m[I 2021-06-13 10:11:09,690]\u001b[0m Trial 18 finished with value: 0.44823705034840394 and parameters: {'num_leaves': 8}. Best is trial 7 with value: 0.4411974194229456.\u001b[0m\n",
      "num_leaves, val_score: 0.441197:  60%|#####3   | 12/20 [00:01<00:00, 12.24it/s]\u001b[32m[I 2021-06-13 10:11:09,740]\u001b[0m Trial 19 finished with value: 0.4694384728863982 and parameters: {'num_leaves': 2}. Best is trial 7 with value: 0.4411974194229456.\u001b[0m\n",
      "num_leaves, val_score: 0.441197:  70%|######3  | 14/20 [00:01<00:00, 12.80it/s]\u001b[32m[I 2021-06-13 10:11:09,831]\u001b[0m Trial 20 finished with value: 0.4411974194229456 and parameters: {'num_leaves': 103}. Best is trial 7 with value: 0.4411974194229456.\u001b[0m\n",
      "num_leaves, val_score: 0.441197:  70%|######3  | 14/20 [00:01<00:00, 12.80it/s]"
     ]
    },
    {
     "name": "stdout",
     "output_type": "stream",
     "text": [
      "Training until validation scores don't improve for 10 rounds\n",
      "Early stopping, best iteration is:\n",
      "[7]\ttrain's multi_logloss: 0.428476\teval's multi_logloss: 0.469438\n",
      "Training until validation scores don't improve for 10 rounds\n",
      "Early stopping, best iteration is:\n",
      "[6]\ttrain's multi_logloss: 0.349137\teval's multi_logloss: 0.441197\n",
      "Training until validation scores don't improve for 10 rounds\n",
      "Early stopping, best iteration is:\n",
      "[6]\ttrain's multi_logloss: 0.349137\teval's multi_logloss: 0.441197\n"
     ]
    },
    {
     "name": "stderr",
     "output_type": "stream",
     "text": [
      "num_leaves, val_score: 0.441197:  70%|######3  | 14/20 [00:01<00:00, 12.80it/s]\u001b[32m[I 2021-06-13 10:11:09,912]\u001b[0m Trial 21 finished with value: 0.4411974194229456 and parameters: {'num_leaves': 183}. Best is trial 7 with value: 0.4411974194229456.\u001b[0m\n",
      "num_leaves, val_score: 0.441197:  80%|#######2 | 16/20 [00:01<00:00, 12.60it/s]\u001b[32m[I 2021-06-13 10:11:09,993]\u001b[0m Trial 22 finished with value: 0.4411974194229456 and parameters: {'num_leaves': 98}. Best is trial 7 with value: 0.4411974194229456.\u001b[0m\n",
      "num_leaves, val_score: 0.441197:  80%|#######2 | 16/20 [00:01<00:00, 12.60it/s]\u001b[32m[I 2021-06-13 10:11:10,074]\u001b[0m Trial 23 finished with value: 0.44123801669767204 and parameters: {'num_leaves': 31}. Best is trial 7 with value: 0.4411974194229456.\u001b[0m\n",
      "num_leaves, val_score: 0.441197:  85%|#######6 | 17/20 [00:01<00:00, 12.60it/s]"
     ]
    },
    {
     "name": "stdout",
     "output_type": "stream",
     "text": [
      "Training until validation scores don't improve for 10 rounds\n",
      "Early stopping, best iteration is:\n",
      "[6]\ttrain's multi_logloss: 0.349137\teval's multi_logloss: 0.441197\n",
      "Training until validation scores don't improve for 10 rounds\n",
      "Early stopping, best iteration is:\n",
      "[6]\ttrain's multi_logloss: 0.349566\teval's multi_logloss: 0.441238\n",
      "Training until validation scores don't improve for 10 rounds\n"
     ]
    },
    {
     "name": "stderr",
     "output_type": "stream",
     "text": [
      "num_leaves, val_score: 0.441197:  90%|########1| 18/20 [00:01<00:00, 12.28it/s]\u001b[32m[I 2021-06-13 10:11:10,175]\u001b[0m Trial 24 finished with value: 0.4411974194229456 and parameters: {'num_leaves': 184}. Best is trial 7 with value: 0.4411974194229456.\u001b[0m\n",
      "num_leaves, val_score: 0.441197:  90%|########1| 18/20 [00:01<00:00, 12.28it/s]\u001b[32m[I 2021-06-13 10:11:10,266]\u001b[0m Trial 25 finished with value: 0.4411974194229456 and parameters: {'num_leaves': 104}. Best is trial 7 with value: 0.4411974194229456.\u001b[0m\n",
      "num_leaves, val_score: 0.441197:  95%|########5| 19/20 [00:01<00:00, 12.28it/s]"
     ]
    },
    {
     "name": "stdout",
     "output_type": "stream",
     "text": [
      "Early stopping, best iteration is:\n",
      "[6]\ttrain's multi_logloss: 0.349137\teval's multi_logloss: 0.441197\n",
      "Training until validation scores don't improve for 10 rounds\n",
      "Early stopping, best iteration is:\n",
      "[6]\ttrain's multi_logloss: 0.349137\teval's multi_logloss: 0.441197\n",
      "Training until validation scores don't improve for 10 rounds\n",
      "Early stopping, best iteration is:\n",
      "[6]\ttrain's multi_logloss: 0.349137\teval's multi_logloss: 0.441197\n"
     ]
    },
    {
     "name": "stderr",
     "output_type": "stream",
     "text": [
      "num_leaves, val_score: 0.441197: 100%|#########| 20/20 [00:01<00:00, 11.85it/s]\u001b[32m[I 2021-06-13 10:11:10,355]\u001b[0m Trial 26 finished with value: 0.4411974194229456 and parameters: {'num_leaves': 256}. Best is trial 7 with value: 0.4411974194229456.\u001b[0m\n",
      "num_leaves, val_score: 0.441197: 100%|#########| 20/20 [00:01<00:00, 11.98it/s]\n",
      "bagging, val_score: 0.433943:  10%|#3           | 1/10 [00:00<00:01,  6.60it/s]\u001b[32m[I 2021-06-13 10:11:10,517]\u001b[0m Trial 27 finished with value: 0.4339427948067022 and parameters: {'bagging_fraction': 0.807672921764615, 'bagging_freq': 7}. Best is trial 27 with value: 0.4339427948067022.\u001b[0m\n",
      "bagging, val_score: 0.433943:  10%|#3           | 1/10 [00:00<00:01,  6.60it/s]"
     ]
    },
    {
     "name": "stdout",
     "output_type": "stream",
     "text": [
      "Training until validation scores don't improve for 10 rounds\n",
      "Early stopping, best iteration is:\n",
      "[33]\ttrain's multi_logloss: 0.333495\teval's multi_logloss: 0.433943\n",
      "Training until validation scores don't improve for 10 rounds\n"
     ]
    },
    {
     "name": "stderr",
     "output_type": "stream",
     "text": [
      "bagging, val_score: 0.433943:  10%|#3           | 1/10 [00:00<00:01,  6.60it/s]\u001b[32m[I 2021-06-13 10:11:10,600]\u001b[0m Trial 28 finished with value: 0.43966693804498524 and parameters: {'bagging_fraction': 0.7471116336200923, 'bagging_freq': 1}. Best is trial 27 with value: 0.4339427948067022.\u001b[0m\n",
      "bagging, val_score: 0.433943:  20%|##6          | 2/10 [00:00<00:01,  6.60it/s]"
     ]
    },
    {
     "name": "stdout",
     "output_type": "stream",
     "text": [
      "Early stopping, best iteration is:\n",
      "[7]\ttrain's multi_logloss: 0.338802\teval's multi_logloss: 0.439667\n",
      "Training until validation scores don't improve for 10 rounds\n",
      "Early stopping, best iteration is:\n",
      "[61]\ttrain's multi_logloss: 0.32666\teval's multi_logloss: 0.426151\n"
     ]
    },
    {
     "name": "stderr",
     "output_type": "stream",
     "text": [
      "bagging, val_score: 0.426151:  30%|###9         | 3/10 [00:00<00:01,  6.60it/s]\u001b[32m[I 2021-06-13 10:11:10,820]\u001b[0m Trial 29 finished with value: 0.4261506494729791 and parameters: {'bagging_fraction': 0.7859752600214835, 'bagging_freq': 6}. Best is trial 29 with value: 0.4261506494729791.\u001b[0m\n",
      "bagging, val_score: 0.426151:  30%|###9         | 3/10 [00:00<00:01,  6.60it/s]\u001b[32m[I 2021-06-13 10:11:10,891]\u001b[0m Trial 30 finished with value: 0.44686217541631906 and parameters: {'bagging_fraction': 0.7041331959040731, 'bagging_freq': 4}. Best is trial 29 with value: 0.4261506494729791.\u001b[0m\n",
      "bagging, val_score: 0.426151:  40%|#####2       | 4/10 [00:00<00:00,  6.60it/s]"
     ]
    },
    {
     "name": "stdout",
     "output_type": "stream",
     "text": [
      "Training until validation scores don't improve for 10 rounds\n",
      "Early stopping, best iteration is:\n",
      "[6]\ttrain's multi_logloss: 0.352356\teval's multi_logloss: 0.446862\n",
      "Training until validation scores don't improve for 10 rounds\n"
     ]
    },
    {
     "name": "stderr",
     "output_type": "stream",
     "text": [
      "bagging, val_score: 0.426151:  50%|######5      | 5/10 [00:00<00:00,  7.50it/s]\u001b[32m[I 2021-06-13 10:11:11,044]\u001b[0m Trial 31 finished with value: 0.43662494758511416 and parameters: {'bagging_fraction': 0.45761512818945965, 'bagging_freq': 2}. Best is trial 29 with value: 0.4261506494729791.\u001b[0m\n",
      "bagging, val_score: 0.426151:  50%|######5      | 5/10 [00:00<00:00,  7.50it/s]\u001b[32m[I 2021-06-13 10:11:11,125]\u001b[0m Trial 32 finished with value: 0.45449669735991755 and parameters: {'bagging_fraction': 0.47564521921307346, 'bagging_freq': 3}. Best is trial 29 with value: 0.4261506494729791.\u001b[0m\n",
      "bagging, val_score: 0.426151:  60%|#######8     | 6/10 [00:00<00:00,  7.50it/s]"
     ]
    },
    {
     "name": "stdout",
     "output_type": "stream",
     "text": [
      "Early stopping, best iteration is:\n",
      "[35]\ttrain's multi_logloss: 0.3522\teval's multi_logloss: 0.436625\n",
      "Training until validation scores don't improve for 10 rounds\n",
      "Early stopping, best iteration is:\n",
      "[7]\ttrain's multi_logloss: 0.357736\teval's multi_logloss: 0.454497\n",
      "Training until validation scores don't improve for 10 rounds\n",
      "Early stopping, best iteration is:\n",
      "[6]\ttrain's multi_logloss: 0.330487\teval's multi_logloss: 0.434813"
     ]
    },
    {
     "name": "stderr",
     "output_type": "stream",
     "text": [
      "bagging, val_score: 0.426151:  70%|#########1   | 7/10 [00:00<00:00,  8.69it/s]\u001b[32m[I 2021-06-13 10:11:11,226]\u001b[0m Trial 33 finished with value: 0.4348130964642784 and parameters: {'bagging_fraction': 0.9433971052887651, 'bagging_freq': 3}. Best is trial 29 with value: 0.4261506494729791.\u001b[0m\n",
      "bagging, val_score: 0.426151:  70%|#########1   | 7/10 [00:00<00:00,  8.69it/s]\u001b[32m[I 2021-06-13 10:11:11,307]\u001b[0m Trial 34 finished with value: 0.4373375921647931 and parameters: {'bagging_fraction': 0.8333999154401168, 'bagging_freq': 7}. Best is trial 29 with value: 0.4261506494729791.\u001b[0m\n",
      "bagging, val_score: 0.426151:  90%|###########7 | 9/10 [00:01<00:00,  9.97it/s]\u001b[32m[I 2021-06-13 10:11:11,378]\u001b[0m Trial 35 finished with value: 0.44339818305995027 and parameters: {'bagging_fraction': 0.45267720438763287, 'bagging_freq': 1}. Best is trial 29 with value: 0.4261506494729791.\u001b[0m\n",
      "bagging, val_score: 0.426151:  90%|###########7 | 9/10 [00:01<00:00,  9.97it/s]"
     ]
    },
    {
     "name": "stdout",
     "output_type": "stream",
     "text": [
      "\n",
      "Training until validation scores don't improve for 10 rounds\n",
      "Early stopping, best iteration is:\n",
      "[6]\ttrain's multi_logloss: 0.347824\teval's multi_logloss: 0.437338\n",
      "Training until validation scores don't improve for 10 rounds\n",
      "Early stopping, best iteration is:\n",
      "[7]\ttrain's multi_logloss: 0.359983\teval's multi_logloss: 0.443398\n",
      "Training until validation scores don't improve for 10 rounds\n"
     ]
    },
    {
     "name": "stderr",
     "output_type": "stream",
     "text": [
      "bagging, val_score: 0.426151:  90%|###########7 | 9/10 [00:01<00:00,  9.97it/s]\u001b[32m[I 2021-06-13 10:11:11,468]\u001b[0m Trial 36 finished with value: 0.43083691616631353 and parameters: {'bagging_fraction': 0.9002091184602704, 'bagging_freq': 7}. Best is trial 29 with value: 0.4261506494729791.\u001b[0m\n",
      "bagging, val_score: 0.426151: 100%|############| 10/10 [00:01<00:00,  8.99it/s]\n",
      "feature_fraction_stage2, val_score: 0.426151:   0%|      | 0/6 [00:00<?, ?it/s]\u001b[32m[I 2021-06-13 10:11:11,545]\u001b[0m Trial 37 finished with value: 0.4728184674434428 and parameters: {'feature_fraction': 0.484}. Best is trial 37 with value: 0.4728184674434428.\u001b[0m\n",
      "feature_fraction_stage2, val_score: 0.426151:  17%|1| 1/6 [00:00<00:00, 13.70it"
     ]
    },
    {
     "name": "stdout",
     "output_type": "stream",
     "text": [
      "Early stopping, best iteration is:\n",
      "[6]\ttrain's multi_logloss: 0.337483\teval's multi_logloss: 0.430837\n",
      "Training until validation scores don't improve for 10 rounds\n",
      "Early stopping, best iteration is:\n",
      "[2]\ttrain's multi_logloss: 0.387611\teval's multi_logloss: 0.472818\n",
      "Training until validation scores don't improve for 10 rounds\n"
     ]
    },
    {
     "name": "stderr",
     "output_type": "stream",
     "text": [
      "feature_fraction_stage2, val_score: 0.426151:  33%|3| 2/6 [00:00<00:00,  7.02it\u001b[32m[I 2021-06-13 10:11:11,762]\u001b[0m Trial 38 finished with value: 0.4261506494729791 and parameters: {'feature_fraction': 0.5479999999999999}. Best is trial 38 with value: 0.4261506494729791.\u001b[0m\n",
      "feature_fraction_stage2, val_score: 0.426151:  33%|3| 2/6 [00:00<00:00,  7.02it\u001b[32m[I 2021-06-13 10:11:11,820]\u001b[0m Trial 39 finished with value: 0.4728184674434428 and parameters: {'feature_fraction': 0.45199999999999996}. Best is trial 38 with value: 0.4261506494729791.\u001b[0m\n",
      "feature_fraction_stage2, val_score: 0.426151:  50%|5| 3/6 [00:00<00:00,  7.02it"
     ]
    },
    {
     "name": "stdout",
     "output_type": "stream",
     "text": [
      "Early stopping, best iteration is:\n",
      "[61]\ttrain's multi_logloss: 0.32666\teval's multi_logloss: 0.426151\n",
      "Training until validation scores don't improve for 10 rounds\n",
      "Early stopping, best iteration is:\n",
      "[2]\ttrain's multi_logloss: 0.387611\teval's multi_logloss: 0.472818\n",
      "Training until validation scores don't improve for 10 rounds\n"
     ]
    },
    {
     "name": "stderr",
     "output_type": "stream",
     "text": [
      "feature_fraction_stage2, val_score: 0.426151:  67%|6| 4/6 [00:00<00:00,  7.18it\u001b[32m[I 2021-06-13 10:11:12,042]\u001b[0m Trial 40 finished with value: 0.4261506494729791 and parameters: {'feature_fraction': 0.516}. Best is trial 38 with value: 0.4261506494729791.\u001b[0m\n",
      "feature_fraction_stage2, val_score: 0.426151:  67%|6| 4/6 [00:00<00:00,  7.18it\u001b[32m[I 2021-06-13 10:11:12,102]\u001b[0m Trial 41 finished with value: 0.4728184674434428 and parameters: {'feature_fraction': 0.42}. Best is trial 38 with value: 0.4261506494729791.\u001b[0m\n",
      "feature_fraction_stage2, val_score: 0.426151:  83%|8| 5/6 [00:00<00:00,  7.18it"
     ]
    },
    {
     "name": "stdout",
     "output_type": "stream",
     "text": [
      "Early stopping, best iteration is:\n",
      "[61]\ttrain's multi_logloss: 0.32666\teval's multi_logloss: 0.426151\n",
      "Training until validation scores don't improve for 10 rounds\n",
      "Early stopping, best iteration is:\n",
      "[2]\ttrain's multi_logloss: 0.387611\teval's multi_logloss: 0.472818\n",
      "Training until validation scores don't improve for 10 rounds\n"
     ]
    },
    {
     "name": "stderr",
     "output_type": "stream",
     "text": [
      "feature_fraction_stage2, val_score: 0.426151: 100%|#| 6/6 [00:00<00:00,  7.02it\u001b[32m[I 2021-06-13 10:11:12,325]\u001b[0m Trial 42 finished with value: 0.4261506494729791 and parameters: {'feature_fraction': 0.58}. Best is trial 38 with value: 0.4261506494729791.\u001b[0m\n",
      "feature_fraction_stage2, val_score: 0.426151: 100%|#| 6/6 [00:00<00:00,  6.98it\n",
      "regularization_factors, val_score: 0.426151:   0%|      | 0/20 [00:00<?, ?it/s]"
     ]
    },
    {
     "name": "stdout",
     "output_type": "stream",
     "text": [
      "Early stopping, best iteration is:\n",
      "[61]\ttrain's multi_logloss: 0.32666\teval's multi_logloss: 0.426151\n",
      "Training until validation scores don't improve for 10 rounds\n"
     ]
    },
    {
     "name": "stderr",
     "output_type": "stream",
     "text": [
      "regularization_factors, val_score: 0.426151:   5%| | 1/20 [00:00<00:04,  4.53it\u001b[32m[I 2021-06-13 10:11:12,557]\u001b[0m Trial 43 finished with value: 0.42654510865021 and parameters: {'lambda_l1': 0.09280567042769008, 'lambda_l2': 0.004574012180439459}. Best is trial 43 with value: 0.42654510865021.\u001b[0m\n",
      "regularization_factors, val_score: 0.426151:   5%| | 1/20 [00:00<00:04,  4.53it\u001b[32m[I 2021-06-13 10:11:12,656]\u001b[0m Trial 44 finished with value: 0.4401872658204444 and parameters: {'lambda_l1': 3.905305158269239e-05, 'lambda_l2': 1.8009065222472427}. Best is trial 43 with value: 0.42654510865021.\u001b[0m\n",
      "regularization_factors, val_score: 0.426151:  10%|1| 2/20 [00:00<00:03,  4.53it"
     ]
    },
    {
     "name": "stdout",
     "output_type": "stream",
     "text": [
      "Early stopping, best iteration is:\n",
      "[61]\ttrain's multi_logloss: 0.330515\teval's multi_logloss: 0.426545\n",
      "Training until validation scores don't improve for 10 rounds\n",
      "Early stopping, best iteration is:\n",
      "[24]\ttrain's multi_logloss: 0.351661\teval's multi_logloss: 0.440187\n",
      "Training until validation scores don't improve for 10 rounds\n"
     ]
    },
    {
     "name": "stderr",
     "output_type": "stream",
     "text": [
      "regularization_factors, val_score: 0.426151:  15%|1| 3/20 [00:00<00:02,  7.53it\u001b[32m[I 2021-06-13 10:11:12,768]\u001b[0m Trial 45 finished with value: 0.44012538188367584 and parameters: {'lambda_l1': 0.0005152381397749088, 'lambda_l2': 1.2433833147835565}. Best is trial 43 with value: 0.42654510865021.\u001b[0m\n",
      "regularization_factors, val_score: 0.426151:  15%|1| 3/20 [00:00<00:02,  7.53it"
     ]
    },
    {
     "name": "stdout",
     "output_type": "stream",
     "text": [
      "Early stopping, best iteration is:\n",
      "[24]\ttrain's multi_logloss: 0.347529\teval's multi_logloss: 0.440125\n",
      "Training until validation scores don't improve for 10 rounds\n",
      "Early stopping, best iteration is:\n",
      "[61]\ttrain's multi_logloss: 0.329196\teval's multi_logloss: 0.426371"
     ]
    },
    {
     "name": "stderr",
     "output_type": "stream",
     "text": [
      "regularization_factors, val_score: 0.426151:  20%|2| 4/20 [00:00<00:02,  6.10it\u001b[32m[I 2021-06-13 10:11:12,982]\u001b[0m Trial 46 finished with value: 0.42637141584132443 and parameters: {'lambda_l1': 0.048882088430038696, 'lambda_l2': 4.627385103915759e-05}. Best is trial 46 with value: 0.42637141584132443.\u001b[0m\n",
      "regularization_factors, val_score: 0.426151:  20%|2| 4/20 [00:00<00:02,  6.10it\u001b[32m[I 2021-06-13 10:11:13,051]\u001b[0m Trial 47 finished with value: 0.457066040309702 and parameters: {'lambda_l1': 5.007899323614767, 'lambda_l2': 0.002893727705342445}. Best is trial 46 with value: 0.42637141584132443.\u001b[0m\n",
      "regularization_factors, val_score: 0.426151:  25%|2| 5/20 [00:00<00:02,  6.10it"
     ]
    },
    {
     "name": "stdout",
     "output_type": "stream",
     "text": [
      "\n",
      "Training until validation scores don't improve for 10 rounds\n",
      "Early stopping, best iteration is:\n",
      "[12]\ttrain's multi_logloss: 0.37449\teval's multi_logloss: 0.457066\n",
      "Training until validation scores don't improve for 10 rounds\n"
     ]
    },
    {
     "name": "stderr",
     "output_type": "stream",
     "text": [
      "regularization_factors, val_score: 0.426080:  30%|3| 6/20 [00:00<00:02,  6.05it\u001b[32m[I 2021-06-13 10:11:13,316]\u001b[0m Trial 48 finished with value: 0.42608049017358274 and parameters: {'lambda_l1': 6.554838138663709e-05, 'lambda_l2': 2.1619892877957654e-06}. Best is trial 48 with value: 0.42608049017358274.\u001b[0m\n",
      "regularization_factors, val_score: 0.426080:  30%|3| 6/20 [00:00<00:02,  6.05it"
     ]
    },
    {
     "name": "stdout",
     "output_type": "stream",
     "text": [
      "Early stopping, best iteration is:\n",
      "[61]\ttrain's multi_logloss: 0.326741\teval's multi_logloss: 0.42608\n",
      "Training until validation scores don't improve for 10 rounds\n"
     ]
    },
    {
     "name": "stderr",
     "output_type": "stream",
     "text": [
      "regularization_factors, val_score: 0.426080:  35%|3| 7/20 [00:01<00:02,  5.55it\u001b[32m[I 2021-06-13 10:11:13,538]\u001b[0m Trial 49 finished with value: 0.42618265720482645 and parameters: {'lambda_l1': 1.6444706205298295e-07, 'lambda_l2': 2.136118882476808e-07}. Best is trial 48 with value: 0.42608049017358274.\u001b[0m\n",
      "regularization_factors, val_score: 0.426080:  35%|3| 7/20 [00:01<00:02,  5.55it"
     ]
    },
    {
     "name": "stdout",
     "output_type": "stream",
     "text": [
      "Early stopping, best iteration is:\n",
      "[61]\ttrain's multi_logloss: 0.326667\teval's multi_logloss: 0.426183\n",
      "Training until validation scores don't improve for 10 rounds\n"
     ]
    },
    {
     "name": "stderr",
     "output_type": "stream",
     "text": [
      "regularization_factors, val_score: 0.426080:  40%|4| 8/20 [00:01<00:02,  5.14it\u001b[32m[I 2021-06-13 10:11:13,770]\u001b[0m Trial 50 finished with value: 0.42624344068080966 and parameters: {'lambda_l1': 0.00030058695417586656, 'lambda_l2': 1.7679872986904544e-07}. Best is trial 48 with value: 0.42608049017358274.\u001b[0m\n",
      "regularization_factors, val_score: 0.426080:  40%|4| 8/20 [00:01<00:02,  5.14it"
     ]
    },
    {
     "name": "stdout",
     "output_type": "stream",
     "text": [
      "Early stopping, best iteration is:\n",
      "[61]\ttrain's multi_logloss: 0.326912\teval's multi_logloss: 0.426243\n",
      "Training until validation scores don't improve for 10 rounds\n"
     ]
    },
    {
     "name": "stderr",
     "output_type": "stream",
     "text": [
      "regularization_factors, val_score: 0.426080:  45%|4| 9/20 [00:01<00:02,  4.88it\u001b[32m[I 2021-06-13 10:11:14,003]\u001b[0m Trial 51 finished with value: 0.4261247549663308 and parameters: {'lambda_l1': 1.8652858067567491e-06, 'lambda_l2': 8.172672181489217e-06}. Best is trial 48 with value: 0.42608049017358274.\u001b[0m\n",
      "regularization_factors, val_score: 0.426080:  45%|4| 9/20 [00:01<00:02,  4.88it"
     ]
    },
    {
     "name": "stdout",
     "output_type": "stream",
     "text": [
      "Early stopping, best iteration is:\n",
      "[61]\ttrain's multi_logloss: 0.326643\teval's multi_logloss: 0.426125\n",
      "Training until validation scores don't improve for 10 rounds\n"
     ]
    },
    {
     "name": "stderr",
     "output_type": "stream",
     "text": [
      "regularization_factors, val_score: 0.426080:  50%|5| 10/20 [00:01<00:02,  4.83i\u001b[32m[I 2021-06-13 10:11:14,215]\u001b[0m Trial 52 finished with value: 0.42643156290764855 and parameters: {'lambda_l1': 0.05179129133682518, 'lambda_l2': 0.0025237604764854265}. Best is trial 48 with value: 0.42608049017358274.\u001b[0m\n",
      "regularization_factors, val_score: 0.426080:  50%|5| 10/20 [00:01<00:02,  4.83i"
     ]
    },
    {
     "name": "stdout",
     "output_type": "stream",
     "text": [
      "Early stopping, best iteration is:\n",
      "[61]\ttrain's multi_logloss: 0.3292\teval's multi_logloss: 0.426432\n",
      "Training until validation scores don't improve for 10 rounds\n"
     ]
    },
    {
     "name": "stderr",
     "output_type": "stream",
     "text": [
      "regularization_factors, val_score: 0.426080:  55%|5| 11/20 [00:02<00:01,  4.60i\u001b[32m[I 2021-06-13 10:11:14,458]\u001b[0m Trial 53 finished with value: 0.4261804514089517 and parameters: {'lambda_l1': 3.056562465058889e-06, 'lambda_l2': 2.5357499299447048e-08}. Best is trial 48 with value: 0.42608049017358274.\u001b[0m\n",
      "regularization_factors, val_score: 0.426080:  55%|5| 11/20 [00:02<00:01,  4.60i"
     ]
    },
    {
     "name": "stdout",
     "output_type": "stream",
     "text": [
      "Early stopping, best iteration is:\n",
      "[61]\ttrain's multi_logloss: 0.32669\teval's multi_logloss: 0.42618\n",
      "Training until validation scores don't improve for 10 rounds\n"
     ]
    },
    {
     "name": "stderr",
     "output_type": "stream",
     "text": [
      "regularization_factors, val_score: 0.426080:  60%|6| 12/20 [00:02<00:01,  4.46i\u001b[32m[I 2021-06-13 10:11:14,700]\u001b[0m Trial 54 finished with value: 0.426201303215476 and parameters: {'lambda_l1': 1.1879201462395146e-07, 'lambda_l2': 7.488398163036119e-06}. Best is trial 48 with value: 0.42608049017358274.\u001b[0m\n",
      "regularization_factors, val_score: 0.426080:  60%|6| 12/20 [00:02<00:01,  4.46i"
     ]
    },
    {
     "name": "stdout",
     "output_type": "stream",
     "text": [
      "Early stopping, best iteration is:\n",
      "[61]\ttrain's multi_logloss: 0.326689\teval's multi_logloss: 0.426201\n",
      "Training until validation scores don't improve for 10 rounds\n"
     ]
    },
    {
     "name": "stderr",
     "output_type": "stream",
     "text": [
      "regularization_factors, val_score: 0.426080:  65%|6| 13/20 [00:02<00:01,  4.40i\u001b[32m[I 2021-06-13 10:11:14,942]\u001b[0m Trial 55 finished with value: 0.4262093200298402 and parameters: {'lambda_l1': 3.5718021209042944e-06, 'lambda_l2': 3.7815743996440795e-06}. Best is trial 48 with value: 0.42608049017358274.\u001b[0m\n",
      "regularization_factors, val_score: 0.426080:  65%|6| 13/20 [00:02<00:01,  4.40i"
     ]
    },
    {
     "name": "stdout",
     "output_type": "stream",
     "text": [
      "Early stopping, best iteration is:\n",
      "[61]\ttrain's multi_logloss: 0.326694\teval's multi_logloss: 0.426209\n",
      "Training until validation scores don't improve for 10 rounds\n"
     ]
    },
    {
     "name": "stderr",
     "output_type": "stream",
     "text": [
      "regularization_factors, val_score: 0.426080:  70%|7| 14/20 [00:02<00:01,  4.01i\u001b[32m[I 2021-06-13 10:11:15,246]\u001b[0m Trial 56 finished with value: 0.426143606613119 and parameters: {'lambda_l1': 1.7819585354035307e-08, 'lambda_l2': 2.5905701124172737e-06}. Best is trial 48 with value: 0.42608049017358274.\u001b[0m\n",
      "regularization_factors, val_score: 0.426080:  70%|7| 14/20 [00:02<00:01,  4.01i"
     ]
    },
    {
     "name": "stdout",
     "output_type": "stream",
     "text": [
      "Early stopping, best iteration is:\n",
      "[61]\ttrain's multi_logloss: 0.326624\teval's multi_logloss: 0.426144\n",
      "Training until validation scores don't improve for 10 rounds\n"
     ]
    },
    {
     "name": "stderr",
     "output_type": "stream",
     "text": [
      "regularization_factors, val_score: 0.426079:  75%|7| 15/20 [00:03<00:01,  4.04i\u001b[32m[I 2021-06-13 10:11:15,486]\u001b[0m Trial 57 finished with value: 0.4260792395446347 and parameters: {'lambda_l1': 6.223859923998532e-06, 'lambda_l2': 0.00014246151488721758}. Best is trial 57 with value: 0.4260792395446347.\u001b[0m\n",
      "regularization_factors, val_score: 0.426079:  75%|7| 15/20 [00:03<00:01,  4.04i"
     ]
    },
    {
     "name": "stdout",
     "output_type": "stream",
     "text": [
      "Early stopping, best iteration is:\n",
      "[61]\ttrain's multi_logloss: 0.326741\teval's multi_logloss: 0.426079\n",
      "Training until validation scores don't improve for 10 rounds\n"
     ]
    },
    {
     "name": "stderr",
     "output_type": "stream",
     "text": [
      "regularization_factors, val_score: 0.426079:  80%|8| 16/20 [00:03<00:00,  4.08i\u001b[32m[I 2021-06-13 10:11:15,720]\u001b[0m Trial 58 finished with value: 0.4262309763633456 and parameters: {'lambda_l1': 0.0008517422388141731, 'lambda_l2': 0.00021375771410776372}. Best is trial 57 with value: 0.4260792395446347.\u001b[0m\n",
      "regularization_factors, val_score: 0.426079:  80%|8| 16/20 [00:03<00:00,  4.08i\u001b[32m[I 2021-06-13 10:11:15,801]\u001b[0m Trial 59 finished with value: 0.44877413092404794 and parameters: {'lambda_l1': 4.530740147366361e-05, 'lambda_l2': 0.24137601079396995}. Best is trial 57 with value: 0.4260792395446347.\u001b[0m\n",
      "regularization_factors, val_score: 0.426079:  85%|8| 17/20 [00:03<00:00,  4.08i"
     ]
    },
    {
     "name": "stdout",
     "output_type": "stream",
     "text": [
      "Early stopping, best iteration is:\n",
      "[61]\ttrain's multi_logloss: 0.326961\teval's multi_logloss: 0.426231\n",
      "Training until validation scores don't improve for 10 rounds\n",
      "Early stopping, best iteration is:\n",
      "[7]\ttrain's multi_logloss: 0.346091\teval's multi_logloss: 0.448774\n",
      "Training until validation scores don't improve for 10 rounds\n"
     ]
    },
    {
     "name": "stderr",
     "output_type": "stream",
     "text": [
      "regularization_factors, val_score: 0.426079:  90%|9| 18/20 [00:03<00:00,  4.89i\u001b[32m[I 2021-06-13 10:11:16,033]\u001b[0m Trial 60 finished with value: 0.4265170579221531 and parameters: {'lambda_l1': 0.00470302812318036, 'lambda_l2': 0.049318779368641714}. Best is trial 57 with value: 0.4260792395446347.\u001b[0m\n",
      "regularization_factors, val_score: 0.426079:  90%|9| 18/20 [00:03<00:00,  4.89i"
     ]
    },
    {
     "name": "stdout",
     "output_type": "stream",
     "text": [
      "Early stopping, best iteration is:\n",
      "[61]\ttrain's multi_logloss: 0.328114\teval's multi_logloss: 0.426517\n",
      "Training until validation scores don't improve for 10 rounds\n"
     ]
    },
    {
     "name": "stderr",
     "output_type": "stream",
     "text": [
      "regularization_factors, val_score: 0.426075:  95%|9| 19/20 [00:03<00:00,  4.72i\u001b[32m[I 2021-06-13 10:11:16,266]\u001b[0m Trial 61 finished with value: 0.42607452107642574 and parameters: {'lambda_l1': 2.8556526854934285e-05, 'lambda_l2': 0.00018082501895251349}. Best is trial 61 with value: 0.42607452107642574.\u001b[0m\n",
      "regularization_factors, val_score: 0.426075:  95%|9| 19/20 [00:03<00:00,  4.72i"
     ]
    },
    {
     "name": "stdout",
     "output_type": "stream",
     "text": [
      "Early stopping, best iteration is:\n",
      "[61]\ttrain's multi_logloss: 0.326747\teval's multi_logloss: 0.426075\n",
      "Training until validation scores don't improve for 10 rounds\n"
     ]
    },
    {
     "name": "stderr",
     "output_type": "stream",
     "text": [
      "regularization_factors, val_score: 0.426075: 100%|#| 20/20 [00:04<00:00,  4.57i\u001b[32m[I 2021-06-13 10:11:16,509]\u001b[0m Trial 62 finished with value: 0.4260809788701622 and parameters: {'lambda_l1': 2.4359736723059833e-07, 'lambda_l2': 0.00021041499050615344}. Best is trial 61 with value: 0.42607452107642574.\u001b[0m\n",
      "regularization_factors, val_score: 0.426075: 100%|#| 20/20 [00:04<00:00,  4.79i\n",
      "min_data_in_leaf, val_score: 0.426075:   0%|             | 0/5 [00:00<?, ?it/s]\u001b[32m[I 2021-06-13 10:11:16,597]\u001b[0m Trial 63 finished with value: 0.46090052846013985 and parameters: {'min_child_samples': 50}. Best is trial 63 with value: 0.46090052846013985.\u001b[0m\n",
      "min_data_in_leaf, val_score: 0.426075:  20%|#    | 1/5 [00:00<00:00, 11.90it/s]"
     ]
    },
    {
     "name": "stdout",
     "output_type": "stream",
     "text": [
      "Early stopping, best iteration is:\n",
      "[61]\ttrain's multi_logloss: 0.326744\teval's multi_logloss: 0.426081\n",
      "Training until validation scores don't improve for 10 rounds\n",
      "Early stopping, best iteration is:\n",
      "[11]\ttrain's multi_logloss: 0.368804\teval's multi_logloss: 0.460901\n",
      "Training until validation scores don't improve for 10 rounds\n"
     ]
    },
    {
     "name": "stderr",
     "output_type": "stream",
     "text": [
      "min_data_in_leaf, val_score: 0.426075:  40%|##   | 2/5 [00:00<00:00,  5.68it/s]\u001b[32m[I 2021-06-13 10:11:16,869]\u001b[0m Trial 64 finished with value: 0.42801063704769676 and parameters: {'min_child_samples': 5}. Best is trial 64 with value: 0.42801063704769676.\u001b[0m\n",
      "min_data_in_leaf, val_score: 0.426075:  40%|##   | 2/5 [00:00<00:00,  5.68it/s]"
     ]
    },
    {
     "name": "stdout",
     "output_type": "stream",
     "text": [
      "Early stopping, best iteration is:\n",
      "[61]\ttrain's multi_logloss: 0.257209\teval's multi_logloss: 0.428011\n",
      "Training until validation scores don't improve for 10 rounds\n"
     ]
    },
    {
     "name": "stderr",
     "output_type": "stream",
     "text": [
      "min_data_in_leaf, val_score: 0.426075:  60%|###  | 3/5 [00:00<00:00,  4.19it/s]\u001b[32m[I 2021-06-13 10:11:17,201]\u001b[0m Trial 65 finished with value: 0.4265100097055693 and parameters: {'min_child_samples': 10}. Best is trial 65 with value: 0.4265100097055693.\u001b[0m\n",
      "min_data_in_leaf, val_score: 0.426075:  60%|###  | 3/5 [00:00<00:00,  4.19it/s]\u001b[32m[I 2021-06-13 10:11:17,264]\u001b[0m Trial 66 finished with value: 0.4484306089441327 and parameters: {'min_child_samples': 100}. Best is trial 65 with value: 0.4265100097055693.\u001b[0m\n",
      "min_data_in_leaf, val_score: 0.426075:  80%|#### | 4/5 [00:00<00:00,  4.19it/s]"
     ]
    },
    {
     "name": "stdout",
     "output_type": "stream",
     "text": [
      "Early stopping, best iteration is:\n",
      "[61]\ttrain's multi_logloss: 0.28927\teval's multi_logloss: 0.42651\n",
      "Training until validation scores don't improve for 10 rounds\n",
      "Early stopping, best iteration is:\n",
      "[8]\ttrain's multi_logloss: 0.382927\teval's multi_logloss: 0.448431\n",
      "Training until validation scores don't improve for 10 rounds\n"
     ]
    },
    {
     "name": "stderr",
     "output_type": "stream",
     "text": [
      "min_data_in_leaf, val_score: 0.426075: 100%|#####| 5/5 [00:00<00:00,  5.46it/s]\u001b[32m[I 2021-06-13 10:11:17,466]\u001b[0m Trial 67 finished with value: 0.42677094364756696 and parameters: {'min_child_samples': 25}. Best is trial 65 with value: 0.4265100097055693.\u001b[0m\n",
      "min_data_in_leaf, val_score: 0.426075: 100%|#####| 5/5 [00:00<00:00,  5.26it/s]\n",
      "\u001b[32m[I 2021-06-13 10:11:17,497]\u001b[0m A new study created in memory with name: no-name-40271ba8-1d13-4275-a854-98f4b81a51cb\u001b[0m\n",
      "feature_fraction, val_score: 0.386090:   0%|             | 0/7 [00:00<?, ?it/s]\u001b[32m[I 2021-06-13 10:11:17,588]\u001b[0m Trial 0 finished with value: 0.38609031856095044 and parameters: {'feature_fraction': 0.7}. Best is trial 0 with value: 0.38609031856095044.\u001b[0m\n",
      "feature_fraction, val_score: 0.386090:  14%|7    | 1/7 [00:00<00:00, 10.98it/s]"
     ]
    },
    {
     "name": "stdout",
     "output_type": "stream",
     "text": [
      "Early stopping, best iteration is:\n",
      "[61]\ttrain's multi_logloss: 0.336263\teval's multi_logloss: 0.426771\n",
      "Training until validation scores don't improve for 10 rounds\n",
      "Early stopping, best iteration is:\n",
      "[11]\ttrain's multi_logloss: 0.336769\teval's multi_logloss: 0.38609\n",
      "Training until validation scores don't improve for 10 rounds\n"
     ]
    },
    {
     "name": "stderr",
     "output_type": "stream",
     "text": [
      "feature_fraction, val_score: 0.386090:  29%|#4   | 2/7 [00:00<00:00, 12.36it/s]\u001b[32m[I 2021-06-13 10:11:17,666]\u001b[0m Trial 1 finished with value: 0.4259780661247548 and parameters: {'feature_fraction': 0.8999999999999999}. Best is trial 0 with value: 0.38609031856095044.\u001b[0m\n",
      "feature_fraction, val_score: 0.386090:  29%|#4   | 2/7 [00:00<00:00, 12.36it/s]\u001b[32m[I 2021-06-13 10:11:17,790]\u001b[0m Trial 2 finished with value: 0.41111187287836104 and parameters: {'feature_fraction': 1.0}. Best is trial 0 with value: 0.38609031856095044.\u001b[0m\n",
      "feature_fraction, val_score: 0.386090:  43%|##1  | 3/7 [00:00<00:00, 12.36it/s]"
     ]
    },
    {
     "name": "stdout",
     "output_type": "stream",
     "text": [
      "Early stopping, best iteration is:\n",
      "[4]\ttrain's multi_logloss: 0.357119\teval's multi_logloss: 0.425978\n",
      "Training until validation scores don't improve for 10 rounds\n",
      "Early stopping, best iteration is:\n",
      "[25]\ttrain's multi_logloss: 0.374299\teval's multi_logloss: 0.411112\n",
      "Training until validation scores don't improve for 10 rounds\n"
     ]
    },
    {
     "name": "stderr",
     "output_type": "stream",
     "text": [
      "feature_fraction, val_score: 0.386090:  57%|##8  | 4/7 [00:00<00:00,  9.84it/s]\u001b[32m[I 2021-06-13 10:11:17,890]\u001b[0m Trial 3 finished with value: 0.39625482372898596 and parameters: {'feature_fraction': 0.6}. Best is trial 0 with value: 0.38609031856095044.\u001b[0m\n",
      "feature_fraction, val_score: 0.386090:  57%|##8  | 4/7 [00:00<00:00,  9.84it/s]\u001b[32m[I 2021-06-13 10:11:17,951]\u001b[0m Trial 4 finished with value: 0.4530732265071503 and parameters: {'feature_fraction': 0.4}. Best is trial 0 with value: 0.38609031856095044.\u001b[0m\n",
      "feature_fraction, val_score: 0.386090:  86%|####2| 6/7 [00:00<00:00, 11.73it/s]\u001b[32m[I 2021-06-13 10:11:18,022]\u001b[0m Trial 5 finished with value: 0.39871993069706596 and parameters: {'feature_fraction': 0.8}. Best is trial 0 with value: 0.38609031856095044.\u001b[0m\n",
      "feature_fraction, val_score: 0.386090:  86%|####2| 6/7 [00:00<00:00, 11.73it/s]"
     ]
    },
    {
     "name": "stdout",
     "output_type": "stream",
     "text": [
      "Early stopping, best iteration is:\n",
      "[7]\ttrain's multi_logloss: 0.346714\teval's multi_logloss: 0.396255\n",
      "Training until validation scores don't improve for 10 rounds\n",
      "Early stopping, best iteration is:\n",
      "[2]\ttrain's multi_logloss: 0.380301\teval's multi_logloss: 0.453073\n",
      "Training until validation scores don't improve for 10 rounds\n",
      "Early stopping, best iteration is:\n",
      "[4]\ttrain's multi_logloss: 0.341292\teval's multi_logloss: 0.39872\n",
      "Training until validation scores don't improve for 10 rounds\n"
     ]
    },
    {
     "name": "stderr",
     "output_type": "stream",
     "text": [
      "feature_fraction, val_score: 0.386090:  86%|####2| 6/7 [00:00<00:00, 11.73it/s]\u001b[32m[I 2021-06-13 10:11:18,113]\u001b[0m Trial 6 finished with value: 0.39625482372898596 and parameters: {'feature_fraction': 0.5}. Best is trial 0 with value: 0.38609031856095044.\u001b[0m\n",
      "feature_fraction, val_score: 0.386090: 100%|#####| 7/7 [00:00<00:00, 11.35it/s]\n",
      "num_leaves, val_score: 0.386090:   0%|                  | 0/20 [00:00<?, ?it/s]\u001b[32m[I 2021-06-13 10:11:18,204]\u001b[0m Trial 7 finished with value: 0.38609031856095044 and parameters: {'num_leaves': 152}. Best is trial 7 with value: 0.38609031856095044.\u001b[0m\n",
      "num_leaves, val_score: 0.386090:   5%|5         | 1/20 [00:00<00:01, 12.07it/s]"
     ]
    },
    {
     "name": "stdout",
     "output_type": "stream",
     "text": [
      "Early stopping, best iteration is:\n",
      "[7]\ttrain's multi_logloss: 0.346714\teval's multi_logloss: 0.396255\n",
      "Training until validation scores don't improve for 10 rounds\n",
      "Early stopping, best iteration is:\n",
      "[11]\ttrain's multi_logloss: 0.336769\teval's multi_logloss: 0.38609\n",
      "Training until validation scores don't improve for 10 rounds\n",
      "Early stopping, best iteration is:\n",
      "[11]\ttrain's multi_logloss: 0.336828\teval's multi_logloss: 0.385838\n"
     ]
    },
    {
     "name": "stderr",
     "output_type": "stream",
     "text": [
      "num_leaves, val_score: 0.385838:  10%|#         | 2/20 [00:00<00:01, 10.99it/s]\u001b[32m[I 2021-06-13 10:11:18,305]\u001b[0m Trial 8 finished with value: 0.385837531994136 and parameters: {'num_leaves': 34}. Best is trial 8 with value: 0.385837531994136.\u001b[0m\n",
      "num_leaves, val_score: 0.385838:  10%|#         | 2/20 [00:00<00:01, 10.99it/s]\u001b[32m[I 2021-06-13 10:11:18,396]\u001b[0m Trial 9 finished with value: 0.38609031856095044 and parameters: {'num_leaves': 245}. Best is trial 8 with value: 0.385837531994136.\u001b[0m\n",
      "num_leaves, val_score: 0.385838:  20%|##        | 4/20 [00:00<00:01, 10.91it/s]\u001b[32m[I 2021-06-13 10:11:18,487]\u001b[0m Trial 10 finished with value: 0.38609031856095044 and parameters: {'num_leaves': 53}. Best is trial 8 with value: 0.385837531994136.\u001b[0m\n",
      "num_leaves, val_score: 0.385838:  20%|##        | 4/20 [00:00<00:01, 10.91it/s]"
     ]
    },
    {
     "name": "stdout",
     "output_type": "stream",
     "text": [
      "Training until validation scores don't improve for 10 rounds\n",
      "Early stopping, best iteration is:\n",
      "[11]\ttrain's multi_logloss: 0.336769\teval's multi_logloss: 0.38609\n",
      "Training until validation scores don't improve for 10 rounds\n",
      "Early stopping, best iteration is:\n",
      "[11]\ttrain's multi_logloss: 0.336769\teval's multi_logloss: 0.38609\n",
      "Training until validation scores don't improve for 10 rounds\n"
     ]
    },
    {
     "name": "stderr",
     "output_type": "stream",
     "text": [
      "num_leaves, val_score: 0.385838:  20%|##        | 4/20 [00:00<00:01, 10.91it/s]\u001b[32m[I 2021-06-13 10:11:18,589]\u001b[0m Trial 11 finished with value: 0.38609031856095044 and parameters: {'num_leaves': 134}. Best is trial 8 with value: 0.385837531994136.\u001b[0m\n",
      "num_leaves, val_score: 0.385838:  30%|###       | 6/20 [00:00<00:01, 10.95it/s]\u001b[32m[I 2021-06-13 10:11:18,679]\u001b[0m Trial 12 finished with value: 0.38609031856095044 and parameters: {'num_leaves': 134}. Best is trial 8 with value: 0.385837531994136.\u001b[0m\n",
      "num_leaves, val_score: 0.385838:  30%|###       | 6/20 [00:00<00:01, 10.95it/s]"
     ]
    },
    {
     "name": "stdout",
     "output_type": "stream",
     "text": [
      "Early stopping, best iteration is:\n",
      "[11]\ttrain's multi_logloss: 0.336769\teval's multi_logloss: 0.38609\n",
      "Training until validation scores don't improve for 10 rounds\n",
      "Early stopping, best iteration is:\n",
      "[11]\ttrain's multi_logloss: 0.336769\teval's multi_logloss: 0.38609\n",
      "Training until validation scores don't improve for 10 rounds\n",
      "Early stopping, best iteration is:\n",
      "[11]\ttrain's multi_logloss: 0.336769\teval's multi_logloss: 0.38609\n"
     ]
    },
    {
     "name": "stderr",
     "output_type": "stream",
     "text": [
      "num_leaves, val_score: 0.385838:  30%|###       | 6/20 [00:00<00:01, 10.95it/s]\u001b[32m[I 2021-06-13 10:11:18,770]\u001b[0m Trial 13 finished with value: 0.38609031856095044 and parameters: {'num_leaves': 178}. Best is trial 8 with value: 0.385837531994136.\u001b[0m\n",
      "num_leaves, val_score: 0.385838:  40%|####      | 8/20 [00:00<00:01, 10.73it/s]\u001b[32m[I 2021-06-13 10:11:18,861]\u001b[0m Trial 14 finished with value: 0.38609031856095044 and parameters: {'num_leaves': 207}. Best is trial 8 with value: 0.385837531994136.\u001b[0m\n",
      "num_leaves, val_score: 0.385838:  40%|####      | 8/20 [00:00<00:01, 10.73it/s]\u001b[32m[I 2021-06-13 10:11:18,952]\u001b[0m Trial 15 finished with value: 0.38609031856095044 and parameters: {'num_leaves': 66}. Best is trial 8 with value: 0.385837531994136.\u001b[0m\n",
      "num_leaves, val_score: 0.385838:  45%|####5     | 9/20 [00:00<00:01, 10.73it/s]"
     ]
    },
    {
     "name": "stdout",
     "output_type": "stream",
     "text": [
      "Training until validation scores don't improve for 10 rounds\n",
      "Early stopping, best iteration is:\n",
      "[11]\ttrain's multi_logloss: 0.336769\teval's multi_logloss: 0.38609\n",
      "Training until validation scores don't improve for 10 rounds\n",
      "Early stopping, best iteration is:\n",
      "[11]\ttrain's multi_logloss: 0.336769\teval's multi_logloss: 0.38609\n",
      "Training until validation scores don't improve for 10 rounds\n"
     ]
    },
    {
     "name": "stderr",
     "output_type": "stream",
     "text": [
      "num_leaves, val_score: 0.385838:  50%|####5    | 10/20 [00:00<00:00, 10.07it/s]\u001b[32m[I 2021-06-13 10:11:19,084]\u001b[0m Trial 16 finished with value: 0.38609031856095044 and parameters: {'num_leaves': 164}. Best is trial 8 with value: 0.385837531994136.\u001b[0m\n",
      "num_leaves, val_score: 0.385838:  50%|####5    | 10/20 [00:01<00:00, 10.07it/s]\u001b[32m[I 2021-06-13 10:11:19,185]\u001b[0m Trial 17 finished with value: 0.38648324070336615 and parameters: {'num_leaves': 18}. Best is trial 8 with value: 0.385837531994136.\u001b[0m\n",
      "num_leaves, val_score: 0.385838:  55%|####9    | 11/20 [00:01<00:00, 10.07it/s]"
     ]
    },
    {
     "name": "stdout",
     "output_type": "stream",
     "text": [
      "Early stopping, best iteration is:\n",
      "[11]\ttrain's multi_logloss: 0.336769\teval's multi_logloss: 0.38609\n",
      "Training until validation scores don't improve for 10 rounds\n",
      "Early stopping, best iteration is:\n",
      "[11]\ttrain's multi_logloss: 0.347701\teval's multi_logloss: 0.386483\n",
      "Training until validation scores don't improve for 10 rounds\n"
     ]
    },
    {
     "name": "stderr",
     "output_type": "stream",
     "text": [
      "num_leaves, val_score: 0.385838:  60%|#####3   | 12/20 [00:01<00:00,  9.79it/s]\u001b[32m[I 2021-06-13 10:11:19,307]\u001b[0m Trial 18 finished with value: 0.38609031856095044 and parameters: {'num_leaves': 84}. Best is trial 8 with value: 0.385837531994136.\u001b[0m\n",
      "num_leaves, val_score: 0.385336:  60%|#####3   | 12/20 [00:01<00:00,  9.79it/s]\u001b[32m[I 2021-06-13 10:11:19,358]\u001b[0m Trial 19 finished with value: 0.38533638051863456 and parameters: {'num_leaves': 4}. Best is trial 19 with value: 0.38533638051863456.\u001b[0m\n",
      "num_leaves, val_score: 0.383575:  70%|######3  | 14/20 [00:01<00:00, 11.08it/s]\u001b[32m[I 2021-06-13 10:11:19,436]\u001b[0m Trial 20 finished with value: 0.3835750695545094 and parameters: {'num_leaves': 11}. Best is trial 20 with value: 0.3835750695545094.\u001b[0m\n",
      "num_leaves, val_score: 0.383575:  70%|######3  | 14/20 [00:01<00:00, 11.08it/s]"
     ]
    },
    {
     "name": "stdout",
     "output_type": "stream",
     "text": [
      "Early stopping, best iteration is:\n",
      "[11]\ttrain's multi_logloss: 0.336769\teval's multi_logloss: 0.38609\n",
      "Training until validation scores don't improve for 10 rounds\n",
      "Early stopping, best iteration is:\n",
      "[7]\ttrain's multi_logloss: 0.391262\teval's multi_logloss: 0.385336\n",
      "Training until validation scores don't improve for 10 rounds\n",
      "Early stopping, best iteration is:\n",
      "[11]\ttrain's multi_logloss: 0.360722\teval's multi_logloss: 0.383575\n",
      "Training until validation scores don't improve for 10 rounds\n",
      "Early stopping, best iteration is:\n",
      "[5]\ttrain's multi_logloss: 0.382217\teval's multi_logloss: 0.382392\n"
     ]
    },
    {
     "name": "stderr",
     "output_type": "stream",
     "text": [
      "num_leaves, val_score: 0.382392:  70%|######3  | 14/20 [00:01<00:00, 11.08it/s]\u001b[32m[I 2021-06-13 10:11:19,497]\u001b[0m Trial 21 finished with value: 0.38239218841308614 and parameters: {'num_leaves': 5}. Best is trial 21 with value: 0.38239218841308614.\u001b[0m\n",
      "num_leaves, val_score: 0.382392:  80%|#######2 | 16/20 [00:01<00:00, 11.46it/s]\u001b[32m[I 2021-06-13 10:11:19,590]\u001b[0m Trial 22 finished with value: 0.38609031856095044 and parameters: {'num_leaves': 96}. Best is trial 21 with value: 0.38239218841308614.\u001b[0m\n",
      "num_leaves, val_score: 0.382392:  80%|#######2 | 16/20 [00:01<00:00, 11.46it/s]\u001b[32m[I 2021-06-13 10:11:19,651]\u001b[0m Trial 23 finished with value: 0.38239218841308614 and parameters: {'num_leaves': 5}. Best is trial 21 with value: 0.38239218841308614.\u001b[0m\n",
      "num_leaves, val_score: 0.382392:  85%|#######6 | 17/20 [00:01<00:00, 11.46it/s]"
     ]
    },
    {
     "name": "stdout",
     "output_type": "stream",
     "text": [
      "Training until validation scores don't improve for 10 rounds\n",
      "Early stopping, best iteration is:\n",
      "[11]\ttrain's multi_logloss: 0.336769\teval's multi_logloss: 0.38609\n",
      "Training until validation scores don't improve for 10 rounds\n",
      "Early stopping, best iteration is:\n",
      "[5]\ttrain's multi_logloss: 0.382217\teval's multi_logloss: 0.382392\n",
      "Training until validation scores don't improve for 10 rounds\n"
     ]
    },
    {
     "name": "stderr",
     "output_type": "stream",
     "text": [
      "num_leaves, val_score: 0.382392:  90%|########1| 18/20 [00:01<00:00, 11.73it/s]\u001b[32m[I 2021-06-13 10:11:19,752]\u001b[0m Trial 24 finished with value: 0.38609031856095044 and parameters: {'num_leaves': 42}. Best is trial 21 with value: 0.38239218841308614.\u001b[0m\n",
      "num_leaves, val_score: 0.382392:  90%|########1| 18/20 [00:01<00:00, 11.73it/s]\u001b[32m[I 2021-06-13 10:11:19,853]\u001b[0m Trial 25 finished with value: 0.38609031856095044 and parameters: {'num_leaves': 95}. Best is trial 21 with value: 0.38239218841308614.\u001b[0m\n",
      "num_leaves, val_score: 0.382392: 100%|#########| 20/20 [00:01<00:00, 11.92it/s]\u001b[32m[I 2021-06-13 10:11:19,914]\u001b[0m Trial 26 finished with value: 0.4282360627903319 and parameters: {'num_leaves': 2}. Best is trial 21 with value: 0.38239218841308614.\u001b[0m\n",
      "num_leaves, val_score: 0.382392: 100%|#########| 20/20 [00:01<00:00, 11.16it/s]\n",
      "  0%|                                                   | 0/10 [00:00<?, ?it/s]"
     ]
    },
    {
     "name": "stdout",
     "output_type": "stream",
     "text": [
      "Early stopping, best iteration is:\n",
      "[11]\ttrain's multi_logloss: 0.336769\teval's multi_logloss: 0.38609\n",
      "Training until validation scores don't improve for 10 rounds\n",
      "Early stopping, best iteration is:\n",
      "[11]\ttrain's multi_logloss: 0.336769\teval's multi_logloss: 0.38609\n",
      "Training until validation scores don't improve for 10 rounds\n",
      "Early stopping, best iteration is:\n",
      "[12]\ttrain's multi_logloss: 0.440424\teval's multi_logloss: 0.428236\n"
     ]
    },
    {
     "name": "stderr",
     "output_type": "stream",
     "text": [
      "bagging, val_score: 0.381014:   0%|                     | 0/10 [00:00<?, ?it/s]\u001b[32m[I 2021-06-13 10:11:19,985]\u001b[0m Trial 27 finished with value: 0.38101373325005367 and parameters: {'bagging_fraction': 0.481341812600457, 'bagging_freq': 4}. Best is trial 27 with value: 0.38101373325005367.\u001b[0m\n",
      "bagging, val_score: 0.380508:  20%|##6          | 2/10 [00:00<00:00, 17.92it/s]\u001b[32m[I 2021-06-13 10:11:20,035]\u001b[0m Trial 28 finished with value: 0.3805075291057618 and parameters: {'bagging_fraction': 0.4589138567712575, 'bagging_freq': 4}. Best is trial 28 with value: 0.3805075291057618.\u001b[0m\n",
      "bagging, val_score: 0.380508:  20%|##6          | 2/10 [00:00<00:00, 17.92it/s]\u001b[32m[I 2021-06-13 10:11:20,094]\u001b[0m Trial 29 finished with value: 0.3837346569170872 and parameters: {'bagging_fraction': 0.8460878192993435, 'bagging_freq': 4}. Best is trial 28 with value: 0.3805075291057618.\u001b[0m\n",
      "bagging, val_score: 0.377025:  30%|###9         | 3/10 [00:00<00:00, 17.92it/s]"
     ]
    },
    {
     "name": "stdout",
     "output_type": "stream",
     "text": [
      "Training until validation scores don't improve for 10 rounds\n",
      "Early stopping, best iteration is:\n",
      "[8]\ttrain's multi_logloss: 0.388143\teval's multi_logloss: 0.381014\n",
      "Training until validation scores don't improve for 10 rounds\n",
      "Early stopping, best iteration is:\n",
      "[8]\ttrain's multi_logloss: 0.3923\teval's multi_logloss: 0.380508\n",
      "Training until validation scores don't improve for 10 rounds\n",
      "Early stopping, best iteration is:\n",
      "[11]\ttrain's multi_logloss: 0.383836\teval's multi_logloss: 0.383735\n",
      "Training until validation scores don't improve for 10 rounds\n",
      "Early stopping, best iteration is:\n",
      "[5]\ttrain's multi_logloss: 0.380496\teval's multi_logloss: 0.377025\n"
     ]
    },
    {
     "name": "stderr",
     "output_type": "stream",
     "text": [
      "bagging, val_score: 0.377025:  40%|#####2       | 4/10 [00:00<00:00, 17.96it/s]\u001b[32m[I 2021-06-13 10:11:20,147]\u001b[0m Trial 30 finished with value: 0.37702505642953177 and parameters: {'bagging_fraction': 0.9026039467775638, 'bagging_freq': 2}. Best is trial 30 with value: 0.37702505642953177.\u001b[0m\n",
      "bagging, val_score: 0.372398:  40%|#####2       | 4/10 [00:00<00:00, 17.96it/s]\u001b[32m[I 2021-06-13 10:11:20,207]\u001b[0m Trial 31 finished with value: 0.3723976459048176 and parameters: {'bagging_fraction': 0.5174361245997765, 'bagging_freq': 6}. Best is trial 31 with value: 0.3723976459048176.\u001b[0m\n",
      "bagging, val_score: 0.372398:  60%|#######8     | 6/10 [00:00<00:00, 17.95it/s]\u001b[32m[I 2021-06-13 10:11:20,258]\u001b[0m Trial 32 finished with value: 0.37975376706463576 and parameters: {'bagging_fraction': 0.7110246839389784, 'bagging_freq': 4}. Best is trial 31 with value: 0.3723976459048176.\u001b[0m\n",
      "bagging, val_score: 0.372398:  60%|#######8     | 6/10 [00:00<00:00, 17.95it/s]\u001b[32m[I 2021-06-13 10:11:20,319]\u001b[0m Trial 33 finished with value: 0.3770964901287976 and parameters: {'bagging_fraction': 0.9066966575661531, 'bagging_freq': 2}. Best is trial 31 with value: 0.3723976459048176.\u001b[0m\n",
      "bagging, val_score: 0.372398:  70%|#########1   | 7/10 [00:00<00:00, 17.95it/s]"
     ]
    },
    {
     "name": "stdout",
     "output_type": "stream",
     "text": [
      "Training until validation scores don't improve for 10 rounds\n",
      "Early stopping, best iteration is:\n",
      "[12]\ttrain's multi_logloss: 0.381473\teval's multi_logloss: 0.372398\n",
      "Training until validation scores don't improve for 10 rounds\n",
      "Early stopping, best iteration is:\n",
      "[5]\ttrain's multi_logloss: 0.382262\teval's multi_logloss: 0.379754\n",
      "Training until validation scores don't improve for 10 rounds\n",
      "Early stopping, best iteration is:\n",
      "[5]\ttrain's multi_logloss: 0.381444\teval's multi_logloss: 0.377096\n",
      "Training until validation scores don't improve for 10 rounds\n",
      "Early stopping, best iteration is:\n",
      "[8]\ttrain's multi_logloss: 0.38269\teval's multi_logloss: 0.371699\n"
     ]
    },
    {
     "name": "stderr",
     "output_type": "stream",
     "text": [
      "bagging, val_score: 0.371699:  80%|##########4  | 8/10 [00:00<00:00, 17.46it/s]\u001b[32m[I 2021-06-13 10:11:20,380]\u001b[0m Trial 34 finished with value: 0.37169891154687223 and parameters: {'bagging_fraction': 0.5366003680395561, 'bagging_freq': 5}. Best is trial 34 with value: 0.37169891154687223.\u001b[0m\n",
      "bagging, val_score: 0.371699:  80%|##########4  | 8/10 [00:00<00:00, 17.46it/s]\u001b[32m[I 2021-06-13 10:11:20,440]\u001b[0m Trial 35 finished with value: 0.38487777956718106 and parameters: {'bagging_fraction': 0.42650770812193844, 'bagging_freq': 7}. Best is trial 34 with value: 0.37169891154687223.\u001b[0m\n",
      "bagging, val_score: 0.371699: 100%|############| 10/10 [00:00<00:00, 17.64it/s]\u001b[32m[I 2021-06-13 10:11:20,491]\u001b[0m Trial 36 finished with value: 0.37980524411841815 and parameters: {'bagging_fraction': 0.5279637596779075, 'bagging_freq': 2}. Best is trial 34 with value: 0.37169891154687223.\u001b[0m\n",
      "bagging, val_score: 0.371699: 100%|############| 10/10 [00:00<00:00, 17.64it/s]\n",
      "feature_fraction_stage2, val_score: 0.371699:   0%|      | 0/6 [00:00<?, ?it/s]\u001b[32m[I 2021-06-13 10:11:20,562]\u001b[0m Trial 37 finished with value: 0.3798790158543314 and parameters: {'feature_fraction': 0.748}. Best is trial 37 with value: 0.3798790158543314.\u001b[0m\n",
      "feature_fraction_stage2, val_score: 0.371699:  17%|1| 1/6 [00:00<00:00, 15.90it"
     ]
    },
    {
     "name": "stdout",
     "output_type": "stream",
     "text": [
      "Training until validation scores don't improve for 10 rounds\n",
      "Early stopping, best iteration is:\n",
      "[11]\ttrain's multi_logloss: 0.388213\teval's multi_logloss: 0.384878\n",
      "Training until validation scores don't improve for 10 rounds\n",
      "Early stopping, best iteration is:\n",
      "[5]\ttrain's multi_logloss: 0.380629\teval's multi_logloss: 0.379805\n",
      "Training until validation scores don't improve for 10 rounds\n",
      "Early stopping, best iteration is:\n",
      "[9]\ttrain's multi_logloss: 0.389174\teval's multi_logloss: 0.379879\n",
      "Training until validation scores don't improve for 10 rounds\n",
      "Early stopping, best iteration is:\n",
      "[8]\ttrain's multi_logloss: 0.38269\teval's multi_logloss: 0.371699\n"
     ]
    },
    {
     "name": "stderr",
     "output_type": "stream",
     "text": [
      "feature_fraction_stage2, val_score: 0.371699:  33%|3| 2/6 [00:00<00:00, 17.62it\u001b[32m[I 2021-06-13 10:11:20,620]\u001b[0m Trial 38 finished with value: 0.37169891154687223 and parameters: {'feature_fraction': 0.716}. Best is trial 38 with value: 0.37169891154687223.\u001b[0m\n",
      "feature_fraction_stage2, val_score: 0.371699:  33%|3| 2/6 [00:00<00:00, 17.62it\u001b[32m[I 2021-06-13 10:11:20,673]\u001b[0m Trial 39 finished with value: 0.37169891154687223 and parameters: {'feature_fraction': 0.6839999999999999}. Best is trial 38 with value: 0.37169891154687223.\u001b[0m\n",
      "feature_fraction_stage2, val_score: 0.371699:  67%|6| 4/6 [00:00<00:00, 16.93it\u001b[32m[I 2021-06-13 10:11:20,734]\u001b[0m Trial 40 finished with value: 0.3798790158543314 and parameters: {'feature_fraction': 0.7799999999999999}. Best is trial 38 with value: 0.37169891154687223.\u001b[0m\n",
      "feature_fraction_stage2, val_score: 0.371699:  67%|6| 4/6 [00:00<00:00, 16.93it\u001b[32m[I 2021-06-13 10:11:20,794]\u001b[0m Trial 41 finished with value: 0.37169891154687223 and parameters: {'feature_fraction': 0.62}. Best is trial 38 with value: 0.37169891154687223.\u001b[0m\n",
      "feature_fraction_stage2, val_score: 0.371699:  83%|8| 5/6 [00:00<00:00, 16.93it"
     ]
    },
    {
     "name": "stdout",
     "output_type": "stream",
     "text": [
      "Training until validation scores don't improve for 10 rounds\n",
      "Early stopping, best iteration is:\n",
      "[8]\ttrain's multi_logloss: 0.38269\teval's multi_logloss: 0.371699\n",
      "Training until validation scores don't improve for 10 rounds\n",
      "Early stopping, best iteration is:\n",
      "[9]\ttrain's multi_logloss: 0.389174\teval's multi_logloss: 0.379879\n",
      "Training until validation scores don't improve for 10 rounds\n",
      "Early stopping, best iteration is:\n",
      "[8]\ttrain's multi_logloss: 0.38269\teval's multi_logloss: 0.371699\n"
     ]
    },
    {
     "name": "stderr",
     "output_type": "stream",
     "text": [
      "feature_fraction_stage2, val_score: 0.371699: 100%|#| 6/6 [00:00<00:00, 17.37it\u001b[32m[I 2021-06-13 10:11:20,855]\u001b[0m Trial 42 finished with value: 0.37169891154687223 and parameters: {'feature_fraction': 0.652}. Best is trial 38 with value: 0.37169891154687223.\u001b[0m\n",
      "feature_fraction_stage2, val_score: 0.371699: 100%|#| 6/6 [00:00<00:00, 16.83it\n",
      "regularization_factors, val_score: 0.371699:   0%|      | 0/20 [00:00<?, ?it/s]\u001b[32m[I 2021-06-13 10:11:20,916]\u001b[0m Trial 43 finished with value: 0.3716988391207978 and parameters: {'lambda_l1': 4.5588158880614914e-05, 'lambda_l2': 4.6929875503090446e-05}. Best is trial 43 with value: 0.3716988391207978.\u001b[0m\n",
      "regularization_factors, val_score: 0.371699:  10%|1| 2/20 [00:00<00:00, 18.10it\u001b[32m[I 2021-06-13 10:11:20,978]\u001b[0m Trial 44 finished with value: 0.3779450526994404 and parameters: {'lambda_l1': 0.5563666765362336, 'lambda_l2': 3.942318266946401e-08}. Best is trial 43 with value: 0.3716988391207978.\u001b[0m\n",
      "regularization_factors, val_score: 0.371699:  10%|1| 2/20 [00:00<00:00, 18.10it"
     ]
    },
    {
     "name": "stdout",
     "output_type": "stream",
     "text": [
      "Training until validation scores don't improve for 10 rounds\n",
      "Early stopping, best iteration is:\n",
      "[8]\ttrain's multi_logloss: 0.38269\teval's multi_logloss: 0.371699\n",
      "Training until validation scores don't improve for 10 rounds\n",
      "Early stopping, best iteration is:\n",
      "[8]\ttrain's multi_logloss: 0.382689\teval's multi_logloss: 0.371699\n",
      "Training until validation scores don't improve for 10 rounds\n",
      "Early stopping, best iteration is:\n",
      "[8]\ttrain's multi_logloss: 0.382478\teval's multi_logloss: 0.377945\n",
      "Training until validation scores don't improve for 10 rounds"
     ]
    },
    {
     "name": "stderr",
     "output_type": "stream",
     "text": [
      "regularization_factors, val_score: 0.371699:  10%|1| 2/20 [00:00<00:00, 18.10it\u001b[32m[I 2021-06-13 10:11:21,057]\u001b[0m Trial 45 finished with value: 0.3796615420429563 and parameters: {'lambda_l1': 0.6452414289040016, 'lambda_l2': 9.13529601534051e-06}. Best is trial 43 with value: 0.3716988391207978.\u001b[0m\n",
      "regularization_factors, val_score: 0.371699:  20%|2| 4/20 [00:00<00:01, 15.34it\u001b[32m[I 2021-06-13 10:11:21,118]\u001b[0m Trial 46 finished with value: 0.3979373684448314 and parameters: {'lambda_l1': 5.976543547697144, 'lambda_l2': 0.00034745451468891776}. Best is trial 43 with value: 0.3716988391207978.\u001b[0m\n",
      "regularization_factors, val_score: 0.371699:  20%|2| 4/20 [00:00<00:01, 15.34it\u001b[32m[I 2021-06-13 10:11:21,187]\u001b[0m Trial 47 finished with value: 0.3895787675697331 and parameters: {'lambda_l1': 3.364955488524881, 'lambda_l2': 2.5638432270662665e-06}. Best is trial 43 with value: 0.3716988391207978.\u001b[0m\n",
      "regularization_factors, val_score: 0.371699:  25%|2| 5/20 [00:00<00:00, 15.34it"
     ]
    },
    {
     "name": "stdout",
     "output_type": "stream",
     "text": [
      "\n",
      "Early stopping, best iteration is:\n",
      "[10]\ttrain's multi_logloss: 0.382492\teval's multi_logloss: 0.379662\n",
      "Training until validation scores don't improve for 10 rounds\n",
      "Early stopping, best iteration is:\n",
      "[12]\ttrain's multi_logloss: 0.404152\teval's multi_logloss: 0.397937\n",
      "Training until validation scores don't improve for 10 rounds\n",
      "Early stopping, best iteration is:\n",
      "[8]\ttrain's multi_logloss: 0.394138\teval's multi_logloss: 0.389579\n",
      "Training until validation scores don't improve for 10 rounds\n"
     ]
    },
    {
     "name": "stderr",
     "output_type": "stream",
     "text": [
      "regularization_factors, val_score: 0.370932:  30%|3| 6/20 [00:00<00:00, 14.86it\u001b[32m[I 2021-06-13 10:11:21,260]\u001b[0m Trial 48 finished with value: 0.3709324714037992 and parameters: {'lambda_l1': 2.330200396337451e-06, 'lambda_l2': 0.0956410378883906}. Best is trial 48 with value: 0.3709324714037992.\u001b[0m\n",
      "regularization_factors, val_score: 0.370932:  30%|3| 6/20 [00:00<00:00, 14.86it\u001b[32m[I 2021-06-13 10:11:21,321]\u001b[0m Trial 49 finished with value: 0.37169825017631125 and parameters: {'lambda_l1': 1.863904886380654e-06, 'lambda_l2': 0.0004852430878430391}. Best is trial 48 with value: 0.3709324714037992.\u001b[0m\n",
      "regularization_factors, val_score: 0.370932:  40%|4| 8/20 [00:00<00:00, 15.85it\u001b[32m[I 2021-06-13 10:11:21,371]\u001b[0m Trial 50 finished with value: 0.3716989089954599 and parameters: {'lambda_l1': 4.408875298737572e-08, 'lambda_l2': 1.8627585803573374e-06}. Best is trial 48 with value: 0.3709324714037992.\u001b[0m\n",
      "regularization_factors, val_score: 0.370932:  40%|4| 8/20 [00:00<00:00, 15.85it"
     ]
    },
    {
     "name": "stdout",
     "output_type": "stream",
     "text": [
      "Early stopping, best iteration is:\n",
      "[8]\ttrain's multi_logloss: 0.381584\teval's multi_logloss: 0.370932\n",
      "Training until validation scores don't improve for 10 rounds\n",
      "Early stopping, best iteration is:\n",
      "[8]\ttrain's multi_logloss: 0.382685\teval's multi_logloss: 0.371698\n",
      "Training until validation scores don't improve for 10 rounds\n",
      "Early stopping, best iteration is:\n",
      "[8]\ttrain's multi_logloss: 0.38269\teval's multi_logloss: 0.371699\n",
      "Training until validation scores don't improve for 10 rounds\n"
     ]
    },
    {
     "name": "stderr",
     "output_type": "stream",
     "text": [
      "regularization_factors, val_score: 0.370932:  40%|4| 8/20 [00:00<00:00, 15.85it\u001b[32m[I 2021-06-13 10:11:21,432]\u001b[0m Trial 51 finished with value: 0.37169850146161726 and parameters: {'lambda_l1': 0.001249643978432459, 'lambda_l2': 0.00013362190164944914}. Best is trial 48 with value: 0.3709324714037992.\u001b[0m\n",
      "regularization_factors, val_score: 0.370932:  50%|5| 10/20 [00:00<00:00, 16.22i\u001b[32m[I 2021-06-13 10:11:21,493]\u001b[0m Trial 52 finished with value: 0.3849785527495385 and parameters: {'lambda_l1': 2.767572462349679, 'lambda_l2': 3.059795651943952e-07}. Best is trial 48 with value: 0.3709324714037992.\u001b[0m\n",
      "regularization_factors, val_score: 0.370932:  50%|5| 10/20 [00:00<00:00, 16.22i\u001b[32m[I 2021-06-13 10:11:21,560]\u001b[0m Trial 53 finished with value: 0.3865291332265018 and parameters: {'lambda_l1': 3.998086853072778e-08, 'lambda_l2': 1.1643533266264403}. Best is trial 48 with value: 0.3709324714037992.\u001b[0m\n",
      "regularization_factors, val_score: 0.370932:  55%|5| 11/20 [00:00<00:00, 16.22i"
     ]
    },
    {
     "name": "stdout",
     "output_type": "stream",
     "text": [
      "Early stopping, best iteration is:\n",
      "[8]\ttrain's multi_logloss: 0.382687\teval's multi_logloss: 0.371699\n",
      "Training until validation scores don't improve for 10 rounds\n",
      "Early stopping, best iteration is:\n",
      "[8]\ttrain's multi_logloss: 0.390665\teval's multi_logloss: 0.384979\n",
      "Training until validation scores don't improve for 10 rounds\n",
      "Early stopping, best iteration is:\n",
      "[8]\ttrain's multi_logloss: 0.382817\teval's multi_logloss: 0.386529\n",
      "Training until validation scores don't improve for 10 rounds\n"
     ]
    },
    {
     "name": "stderr",
     "output_type": "stream",
     "text": [
      "regularization_factors, val_score: 0.370932:  60%|6| 12/20 [00:00<00:00, 15.27i\u001b[32m[I 2021-06-13 10:11:21,638]\u001b[0m Trial 54 finished with value: 0.3714631581670806 and parameters: {'lambda_l1': 4.332322425424317e-06, 'lambda_l2': 0.05864490944013798}. Best is trial 48 with value: 0.3709324714037992.\u001b[0m\n",
      "regularization_factors, val_score: 0.370932:  60%|6| 12/20 [00:00<00:00, 15.27i\u001b[32m[I 2021-06-13 10:11:21,703]\u001b[0m Trial 55 finished with value: 0.37325706090021726 and parameters: {'lambda_l1': 3.759794186390421e-06, 'lambda_l2': 0.18117541614783209}. Best is trial 48 with value: 0.3709324714037992.\u001b[0m\n",
      "regularization_factors, val_score: 0.370932:  70%|7| 14/20 [00:00<00:00, 15.12i\u001b[32m[I 2021-06-13 10:11:21,773]\u001b[0m Trial 56 finished with value: 0.37149681042291405 and parameters: {'lambda_l1': 0.0033210386535009757, 'lambda_l2': 0.020556237697868178}. Best is trial 48 with value: 0.3709324714037992.\u001b[0m\n",
      "regularization_factors, val_score: 0.370932:  70%|7| 14/20 [00:00<00:00, 15.12i"
     ]
    },
    {
     "name": "stdout",
     "output_type": "stream",
     "text": [
      "Early stopping, best iteration is:\n",
      "[8]\ttrain's multi_logloss: 0.381613\teval's multi_logloss: 0.371463\n",
      "Training until validation scores don't improve for 10 rounds\n",
      "Early stopping, best iteration is:\n",
      "[8]\ttrain's multi_logloss: 0.381082\teval's multi_logloss: 0.373257\n",
      "Training until validation scores don't improve for 10 rounds\n",
      "Early stopping, best iteration is:\n",
      "[8]\ttrain's multi_logloss: 0.381887\teval's multi_logloss: 0.371497\n",
      "Training until validation scores don't improve for 10 rounds\n"
     ]
    },
    {
     "name": "stderr",
     "output_type": "stream",
     "text": [
      "regularization_factors, val_score: 0.370932:  70%|7| 14/20 [00:00<00:00, 15.12i\u001b[32m[I 2021-06-13 10:11:21,854]\u001b[0m Trial 57 finished with value: 0.4077302586513572 and parameters: {'lambda_l1': 1.2163808697385103e-06, 'lambda_l2': 7.601493996496122}. Best is trial 48 with value: 0.3709324714037992.\u001b[0m\n",
      "regularization_factors, val_score: 0.370932:  80%|8| 16/20 [00:01<00:00, 14.68i\u001b[32m[I 2021-06-13 10:11:21,915]\u001b[0m Trial 58 finished with value: 0.37150042421723173 and parameters: {'lambda_l1': 6.313349412797068e-05, 'lambda_l2': 0.017066999382205114}. Best is trial 48 with value: 0.3709324714037992.\u001b[0m\n",
      "regularization_factors, val_score: 0.370932:  80%|8| 16/20 [00:01<00:00, 14.68i\u001b[32m[I 2021-06-13 10:11:21,986]\u001b[0m Trial 59 finished with value: 0.37172686343904876 and parameters: {'lambda_l1': 0.023342490400951463, 'lambda_l2': 0.0069114057859689425}. Best is trial 48 with value: 0.3709324714037992.\u001b[0m\n",
      "regularization_factors, val_score: 0.370932:  85%|8| 17/20 [00:01<00:00, 14.68i"
     ]
    },
    {
     "name": "stdout",
     "output_type": "stream",
     "text": [
      "Early stopping, best iteration is:\n",
      "[12]\ttrain's multi_logloss: 0.404997\teval's multi_logloss: 0.40773\n",
      "Training until validation scores don't improve for 10 rounds\n",
      "Early stopping, best iteration is:\n",
      "[8]\ttrain's multi_logloss: 0.381915\teval's multi_logloss: 0.3715\n",
      "Training until validation scores don't improve for 10 rounds\n",
      "Early stopping, best iteration is:\n",
      "[8]\ttrain's multi_logloss: 0.382101\teval's multi_logloss: 0.371727\n"
     ]
    },
    {
     "name": "stderr",
     "output_type": "stream",
     "text": [
      "regularization_factors, val_score: 0.370932:  90%|9| 18/20 [00:01<00:00, 14.50i\u001b[32m[I 2021-06-13 10:11:22,057]\u001b[0m Trial 60 finished with value: 0.4076148829133768 and parameters: {'lambda_l1': 2.79936122473624e-07, 'lambda_l2': 7.56869334638216}. Best is trial 48 with value: 0.3709324714037992.\u001b[0m\n",
      "regularization_factors, val_score: 0.370932:  90%|9| 18/20 [00:01<00:00, 14.50i\u001b[32m[I 2021-06-13 10:11:22,127]\u001b[0m Trial 61 finished with value: 0.3736677444839348 and parameters: {'lambda_l1': 2.2631169427594568e-05, 'lambda_l2': 0.3314942716460897}. Best is trial 48 with value: 0.3709324714037992.\u001b[0m\n",
      "regularization_factors, val_score: 0.370932: 100%|#| 20/20 [00:01<00:00, 14.71i\u001b[32m[I 2021-06-13 10:11:22,196]\u001b[0m Trial 62 finished with value: 0.3716442218805785 and parameters: {'lambda_l1': 1.887817950876574e-07, 'lambda_l2': 0.006206513916803081}. Best is trial 48 with value: 0.3709324714037992.\u001b[0m\n",
      "regularization_factors, val_score: 0.370932: 100%|#| 20/20 [00:01<00:00, 14.98i\n",
      "  0%|                                                    | 0/5 [00:00<?, ?it/s]"
     ]
    },
    {
     "name": "stdout",
     "output_type": "stream",
     "text": [
      "Training until validation scores don't improve for 10 rounds\n",
      "Early stopping, best iteration is:\n",
      "[12]\ttrain's multi_logloss: 0.404897\teval's multi_logloss: 0.407615\n",
      "Training until validation scores don't improve for 10 rounds\n",
      "Early stopping, best iteration is:\n",
      "[8]\ttrain's multi_logloss: 0.380047\teval's multi_logloss: 0.373668\n",
      "Training until validation scores don't improve for 10 rounds\n",
      "Early stopping, best iteration is:\n",
      "[8]\ttrain's multi_logloss: 0.382195\teval's multi_logloss: 0.371644\n"
     ]
    },
    {
     "name": "stderr",
     "output_type": "stream",
     "text": [
      "min_data_in_leaf, val_score: 0.370932:   0%|             | 0/5 [00:00<?, ?it/s]\u001b[32m[I 2021-06-13 10:11:22,269]\u001b[0m Trial 63 finished with value: 0.3942814535264724 and parameters: {'min_child_samples': 50}. Best is trial 63 with value: 0.3942814535264724.\u001b[0m\n",
      "min_data_in_leaf, val_score: 0.370932:  40%|##   | 2/5 [00:00<00:00, 16.75it/s]\u001b[32m[I 2021-06-13 10:11:22,320]\u001b[0m Trial 64 finished with value: 0.3784902100651875 and parameters: {'min_child_samples': 5}. Best is trial 64 with value: 0.3784902100651875.\u001b[0m\n",
      "min_data_in_leaf, val_score: 0.370932:  40%|##   | 2/5 [00:00<00:00, 16.75it/s]\u001b[32m[I 2021-06-13 10:11:22,368]\u001b[0m Trial 65 finished with value: 0.4223260377374079 and parameters: {'min_child_samples': 100}. Best is trial 64 with value: 0.3784902100651875.\u001b[0m\n",
      "min_data_in_leaf, val_score: 0.370932:  80%|#### | 4/5 [00:00<00:00, 18.20it/s]\u001b[32m[I 2021-06-13 10:11:22,421]\u001b[0m Trial 66 finished with value: 0.38023811684894754 and parameters: {'min_child_samples': 25}. Best is trial 64 with value: 0.3784902100651875.\u001b[0m\n",
      "min_data_in_leaf, val_score: 0.370932:  80%|#### | 4/5 [00:00<00:00, 18.20it/s]"
     ]
    },
    {
     "name": "stdout",
     "output_type": "stream",
     "text": [
      "Training until validation scores don't improve for 10 rounds\n",
      "Early stopping, best iteration is:\n",
      "[7]\ttrain's multi_logloss: 0.39614\teval's multi_logloss: 0.394281\n",
      "Training until validation scores don't improve for 10 rounds\n",
      "Early stopping, best iteration is:\n",
      "[5]\ttrain's multi_logloss: 0.373878\teval's multi_logloss: 0.37849\n",
      "Training until validation scores don't improve for 10 rounds\n",
      "Early stopping, best iteration is:\n",
      "[5]\ttrain's multi_logloss: 0.427092\teval's multi_logloss: 0.422326\n",
      "Training until validation scores don't improve for 10 rounds\n",
      "Early stopping, best iteration is:\n",
      "[10]\ttrain's multi_logloss: 0.382525\teval's multi_logloss: 0.380238\n"
     ]
    },
    {
     "name": "stderr",
     "output_type": "stream",
     "text": [
      "min_data_in_leaf, val_score: 0.370932:  80%|#### | 4/5 [00:00<00:00, 18.20it/s]\u001b[32m[I 2021-06-13 10:11:22,482]\u001b[0m Trial 67 finished with value: 0.37518518709816506 and parameters: {'min_child_samples': 10}. Best is trial 67 with value: 0.37518518709816506.\u001b[0m\n",
      "min_data_in_leaf, val_score: 0.370932: 100%|#####| 5/5 [00:00<00:00, 17.64it/s]\n"
     ]
    },
    {
     "name": "stdout",
     "output_type": "stream",
     "text": [
      "Training until validation scores don't improve for 10 rounds\n",
      "Early stopping, best iteration is:\n",
      "[8]\ttrain's multi_logloss: 0.376252\teval's multi_logloss: 0.375185\n"
     ]
    }
   ],
   "source": [
    "y_lgb_rf_preds = []\n",
    "models_rf = []\n",
    "y_lgb_rf_oof_train = np.zeros((len(X_train),3))\n",
    "cv = StratifiedKFold(n_splits=4, shuffle=True, random_state=0)\n",
    "\n",
    "params = {\n",
    "    'task' : 'train',\n",
    "    'boosting_type' : 'rf',\n",
    "    'objective': 'multiclass',\n",
    "    'num_class': 3,\n",
    "    'metric' : 'multi_logloss',\n",
    "    'max_bin' : 255,\n",
    "    'num_leaves' : 40,\n",
    "    'learning_rate' : 0.01,\n",
    "    'feature_fraction' : 0.9,\n",
    "    'bagging_fraction' : 0.8,\n",
    "    'bagging_freq': 5,\n",
    "    'verbose' : -1\n",
    "}\n",
    "\n",
    "# Cross Validation\n",
    "for fold_id, (train_index, valid_index) in enumerate(cv.split(X_train,y_train)):\n",
    "    X_tr = X_train.iloc[train_index, :]\n",
    "    X_val = X_train.iloc[valid_index, :]\n",
    "    y_tr = y_train.iloc[train_index]\n",
    "    y_val = y_train.iloc[valid_index]\n",
    "    \n",
    "    # Train Dataset\n",
    "    lgb_train = lgb.Dataset(X_tr, y_tr)\n",
    "\n",
    "    # Evaluation Dataset (early_stopping_rounds)\n",
    "    lgb_eval = lgb.Dataset(X_val, y_val, reference=lgb_train)\n",
    "    \n",
    "    rf_evals_result = {} #結果を格納するための辞書\n",
    "    # train\n",
    "    gbm_rf = lgb.train(params,\n",
    "                    lgb_train,\n",
    "                    valid_sets=[lgb_train, lgb_eval],\n",
    "                    valid_names=['train','eval'],\n",
    "                    num_boost_round=1000,\n",
    "                    early_stopping_rounds=10,\n",
    "                    verbose_eval=100,\n",
    "                    evals_result=rf_evals_result\n",
    "                   )\n",
    "    # Out-of-hold of train data\n",
    "    y_lgb_rf_oof_train[valid_index] = \\\n",
    "        gbm_rf.predict(X_val, num_iteration=gbm_rf.best_iteration)\n",
    "    \n",
    "    # Prediction for X_test data\n",
    "    y_pred = gbm_rf.predict(X_test, num_iteration=gbm_rf.best_iteration)\n",
    "    \n",
    "    # Append Prediction data \n",
    "    y_lgb_rf_preds.append(y_pred)\n",
    "    models_rf.append(gbm_rf)\n"
   ]
  },
  {
   "cell_type": "markdown",
   "id": "8491a138",
   "metadata": {},
   "source": [
    "### lightGBM boosting type = gbdt"
   ]
  },
  {
   "cell_type": "code",
   "execution_count": 17,
   "id": "3d442c7d",
   "metadata": {},
   "outputs": [
    {
     "name": "stderr",
     "output_type": "stream",
     "text": [
      "\u001b[32m[I 2021-06-13 10:11:22,532]\u001b[0m A new study created in memory with name: no-name-1d8e5f1b-52a2-43d5-8981-894031a8a79a\u001b[0m\n",
      "feature_fraction, val_score: inf:   0%|                  | 0/7 [00:00<?, ?it/s]"
     ]
    },
    {
     "name": "stdout",
     "output_type": "stream",
     "text": [
      "Training until validation scores don't improve for 100 rounds\n",
      "[100]\ttrain's multi_logloss: 0.37984\teval's multi_logloss: 0.432986\n",
      "[200]\ttrain's multi_logloss: 0.280768\teval's multi_logloss: 0.380267\n",
      "[300]\ttrain's multi_logloss: 0.222714\teval's multi_logloss: 0.365391\n",
      "[400]\ttrain's multi_logloss: 0.182163\teval's multi_logloss: 0.366486\n",
      "Early stopping, best iteration is:\n",
      "[325]\ttrain's multi_logloss: 0.211222\teval's multi_logloss: 0.364907\n"
     ]
    },
    {
     "name": "stderr",
     "output_type": "stream",
     "text": [
      "feature_fraction, val_score: 0.364907:  14%|7    | 1/7 [00:01<00:09,  1.54s/it]\u001b[32m[I 2021-06-13 10:11:24,080]\u001b[0m Trial 0 finished with value: 0.36490714723444534 and parameters: {'feature_fraction': 0.5}. Best is trial 0 with value: 0.36490714723444534.\u001b[0m\n",
      "feature_fraction, val_score: 0.364907:  14%|7    | 1/7 [00:01<00:09,  1.54s/it]"
     ]
    },
    {
     "name": "stdout",
     "output_type": "stream",
     "text": [
      "Training until validation scores don't improve for 100 rounds\n",
      "[100]\ttrain's multi_logloss: 0.37984\teval's multi_logloss: 0.432986\n",
      "[200]\ttrain's multi_logloss: 0.280768\teval's multi_logloss: 0.380267\n",
      "[300]\ttrain's multi_logloss: 0.222714\teval's multi_logloss: 0.365391\n",
      "[400]\ttrain's multi_logloss: 0.182163\teval's multi_logloss: 0.366486\n",
      "Early stopping, best iteration is:\n",
      "[325]\ttrain's multi_logloss: 0.211222\teval's multi_logloss: 0.364907\n"
     ]
    },
    {
     "name": "stderr",
     "output_type": "stream",
     "text": [
      "feature_fraction, val_score: 0.364907:  29%|#4   | 2/7 [00:03<00:07,  1.50s/it]\u001b[32m[I 2021-06-13 10:11:25,563]\u001b[0m Trial 1 finished with value: 0.36490714723444534 and parameters: {'feature_fraction': 0.6}. Best is trial 0 with value: 0.36490714723444534.\u001b[0m\n",
      "feature_fraction, val_score: 0.364907:  29%|#4   | 2/7 [00:03<00:07,  1.50s/it]"
     ]
    },
    {
     "name": "stdout",
     "output_type": "stream",
     "text": [
      "Training until validation scores don't improve for 100 rounds\n",
      "[100]\ttrain's multi_logloss: 0.341052\teval's multi_logloss: 0.385301\n",
      "[200]\ttrain's multi_logloss: 0.246705\teval's multi_logloss: 0.350544\n"
     ]
    },
    {
     "name": "stderr",
     "output_type": "stream",
     "text": [
      "\r",
      "feature_fraction, val_score: 0.348134:  29%|#4   | 2/7 [00:04<00:07,  1.50s/it]"
     ]
    },
    {
     "name": "stdout",
     "output_type": "stream",
     "text": [
      "[300]\ttrain's multi_logloss: 0.184858\teval's multi_logloss: 0.356806\n",
      "Early stopping, best iteration is:\n",
      "[220]\ttrain's multi_logloss: 0.233547\teval's multi_logloss: 0.348134\n"
     ]
    },
    {
     "name": "stderr",
     "output_type": "stream",
     "text": [
      "feature_fraction, val_score: 0.348134:  43%|##1  | 3/7 [00:04<00:05,  1.36s/it]\u001b[32m[I 2021-06-13 10:11:26,739]\u001b[0m Trial 2 finished with value: 0.34813377734767065 and parameters: {'feature_fraction': 1.0}. Best is trial 2 with value: 0.34813377734767065.\u001b[0m\n",
      "feature_fraction, val_score: 0.348134:  43%|##1  | 3/7 [00:04<00:05,  1.36s/it]"
     ]
    },
    {
     "name": "stdout",
     "output_type": "stream",
     "text": [
      "Training until validation scores don't improve for 100 rounds\n",
      "[100]\ttrain's multi_logloss: 0.3516\teval's multi_logloss: 0.399054\n",
      "[200]\ttrain's multi_logloss: 0.254276\teval's multi_logloss: 0.357537\n",
      "[300]\ttrain's multi_logloss: 0.195063\teval's multi_logloss: 0.353289\n",
      "Early stopping, best iteration is:\n",
      "[275]\ttrain's multi_logloss: 0.208072\teval's multi_logloss: 0.352274\n"
     ]
    },
    {
     "name": "stderr",
     "output_type": "stream",
     "text": [
      "feature_fraction, val_score: 0.348134:  57%|##8  | 4/7 [00:05<00:04,  1.40s/it]\u001b[32m[I 2021-06-13 10:11:28,218]\u001b[0m Trial 3 finished with value: 0.3522739137819963 and parameters: {'feature_fraction': 0.8}. Best is trial 2 with value: 0.34813377734767065.\u001b[0m\n",
      "feature_fraction, val_score: 0.348134:  57%|##8  | 4/7 [00:05<00:04,  1.40s/it]"
     ]
    },
    {
     "name": "stdout",
     "output_type": "stream",
     "text": [
      "Training until validation scores don't improve for 100 rounds\n",
      "[100]\ttrain's multi_logloss: 0.364245\teval's multi_logloss: 0.414978\n",
      "[200]\ttrain's multi_logloss: 0.265242\teval's multi_logloss: 0.366107\n",
      "[300]\ttrain's multi_logloss: 0.206493\teval's multi_logloss: 0.357627\n"
     ]
    },
    {
     "name": "stderr",
     "output_type": "stream",
     "text": [
      "\r",
      "feature_fraction, val_score: 0.348134:  57%|##8  | 4/7 [00:07<00:04,  1.40s/it]"
     ]
    },
    {
     "name": "stdout",
     "output_type": "stream",
     "text": [
      "Early stopping, best iteration is:\n",
      "[276]\ttrain's multi_logloss: 0.218591\teval's multi_logloss: 0.357296\n"
     ]
    },
    {
     "name": "stderr",
     "output_type": "stream",
     "text": [
      "feature_fraction, val_score: 0.348134:  71%|###5 | 5/7 [00:07<00:02,  1.41s/it]\u001b[32m[I 2021-06-13 10:11:29,631]\u001b[0m Trial 4 finished with value: 0.35729559569615127 and parameters: {'feature_fraction': 0.7}. Best is trial 2 with value: 0.34813377734767065.\u001b[0m\n",
      "feature_fraction, val_score: 0.348134:  71%|###5 | 5/7 [00:07<00:02,  1.41s/it]"
     ]
    },
    {
     "name": "stdout",
     "output_type": "stream",
     "text": [
      "Training until validation scores don't improve for 100 rounds\n",
      "[100]\ttrain's multi_logloss: 0.345044\teval's multi_logloss: 0.39215\n",
      "[200]\ttrain's multi_logloss: 0.249504\teval's multi_logloss: 0.356125\n",
      "[300]\ttrain's multi_logloss: 0.189301\teval's multi_logloss: 0.358152\n",
      "Early stopping, best iteration is:\n",
      "[225]\ttrain's multi_logloss: 0.233123\teval's multi_logloss: 0.3531\n"
     ]
    },
    {
     "name": "stderr",
     "output_type": "stream",
     "text": [
      "feature_fraction, val_score: 0.348134:  86%|####2| 6/7 [00:08<00:01,  1.33s/it]\u001b[32m[I 2021-06-13 10:11:30,814]\u001b[0m Trial 5 finished with value: 0.35309968847730233 and parameters: {'feature_fraction': 0.8999999999999999}. Best is trial 2 with value: 0.34813377734767065.\u001b[0m\n",
      "feature_fraction, val_score: 0.348134:  86%|####2| 6/7 [00:08<00:01,  1.33s/it]"
     ]
    },
    {
     "name": "stdout",
     "output_type": "stream",
     "text": [
      "Training until validation scores don't improve for 100 rounds\n",
      "[100]\ttrain's multi_logloss: 0.481469\teval's multi_logloss: 0.546981\n",
      "[200]\ttrain's multi_logloss: 0.388773\teval's multi_logloss: 0.503611\n",
      "[300]\ttrain's multi_logloss: 0.327547\teval's multi_logloss: 0.480078\n",
      "[400]\ttrain's multi_logloss: 0.27911\teval's multi_logloss: 0.461919\n",
      "[500]\ttrain's multi_logloss: 0.242649\teval's multi_logloss: 0.453562\n",
      "[600]\ttrain's multi_logloss: 0.208947\teval's multi_logloss: 0.444102\n",
      "[700]\ttrain's multi_logloss: 0.182553\teval's multi_logloss: 0.441442\n",
      "[800]\ttrain's multi_logloss: 0.160973\teval's multi_logloss: 0.440174\n",
      "[900]\ttrain's multi_logloss: 0.142637\teval's multi_logloss: 0.442464\n",
      "Early stopping, best iteration is:\n",
      "[849]\ttrain's multi_logloss: 0.151204\teval's multi_logloss: 0.439728\n"
     ]
    },
    {
     "name": "stderr",
     "output_type": "stream",
     "text": [
      "feature_fraction, val_score: 0.348134: 100%|#####| 7/7 [00:11<00:00,  1.93s/it]\u001b[32m[I 2021-06-13 10:11:33,973]\u001b[0m Trial 6 finished with value: 0.43972753877930304 and parameters: {'feature_fraction': 0.4}. Best is trial 2 with value: 0.34813377734767065.\u001b[0m\n",
      "feature_fraction, val_score: 0.348134: 100%|#####| 7/7 [00:11<00:00,  1.63s/it]\n",
      "num_leaves, val_score: 0.348134:   0%|                  | 0/20 [00:00<?, ?it/s]"
     ]
    },
    {
     "name": "stdout",
     "output_type": "stream",
     "text": [
      "Training until validation scores don't improve for 100 rounds\n",
      "[100]\ttrain's multi_logloss: 0.341052\teval's multi_logloss: 0.385301\n",
      "[200]\ttrain's multi_logloss: 0.246513\teval's multi_logloss: 0.350607\n",
      "[300]\ttrain's multi_logloss: 0.184954\teval's multi_logloss: 0.356943\n",
      "Early stopping, best iteration is:\n",
      "[220]\ttrain's multi_logloss: 0.233197\teval's multi_logloss: 0.348231\n"
     ]
    },
    {
     "name": "stderr",
     "output_type": "stream",
     "text": [
      "num_leaves, val_score: 0.348134:   5%|5         | 1/20 [00:01<00:24,  1.28s/it]\u001b[32m[I 2021-06-13 10:11:35,264]\u001b[0m Trial 7 finished with value: 0.3482306861414214 and parameters: {'num_leaves': 130}. Best is trial 7 with value: 0.3482306861414214.\u001b[0m\n",
      "num_leaves, val_score: 0.348134:   5%|5         | 1/20 [00:01<00:24,  1.28s/it]"
     ]
    },
    {
     "name": "stdout",
     "output_type": "stream",
     "text": [
      "Training until validation scores don't improve for 100 rounds\n",
      "[100]\ttrain's multi_logloss: 0.341052\teval's multi_logloss: 0.385301\n",
      "[200]\ttrain's multi_logloss: 0.246513\teval's multi_logloss: 0.350607\n",
      "[300]\ttrain's multi_logloss: 0.184954\teval's multi_logloss: 0.356943\n",
      "Early stopping, best iteration is:\n",
      "[220]\ttrain's multi_logloss: 0.233197\teval's multi_logloss: 0.348231\n"
     ]
    },
    {
     "name": "stderr",
     "output_type": "stream",
     "text": [
      "num_leaves, val_score: 0.348134:  10%|#         | 2/20 [00:02<00:22,  1.24s/it]\u001b[32m[I 2021-06-13 10:11:36,475]\u001b[0m Trial 8 finished with value: 0.3482306861414214 and parameters: {'num_leaves': 104}. Best is trial 7 with value: 0.3482306861414214.\u001b[0m\n",
      "num_leaves, val_score: 0.348134:  10%|#         | 2/20 [00:02<00:22,  1.24s/it]"
     ]
    },
    {
     "name": "stdout",
     "output_type": "stream",
     "text": [
      "Training until validation scores don't improve for 100 rounds\n",
      "[100]\ttrain's multi_logloss: 0.341052\teval's multi_logloss: 0.385301\n",
      "[200]\ttrain's multi_logloss: 0.246513\teval's multi_logloss: 0.350607\n",
      "[300]\ttrain's multi_logloss: 0.184954\teval's multi_logloss: 0.356943\n",
      "Early stopping, best iteration is:\n",
      "[220]\ttrain's multi_logloss: 0.233197\teval's multi_logloss: 0.348231\n"
     ]
    },
    {
     "name": "stderr",
     "output_type": "stream",
     "text": [
      "num_leaves, val_score: 0.348134:  15%|#5        | 3/20 [00:03<00:21,  1.28s/it]\u001b[32m[I 2021-06-13 10:11:37,814]\u001b[0m Trial 9 finished with value: 0.3482306861414214 and parameters: {'num_leaves': 162}. Best is trial 7 with value: 0.3482306861414214.\u001b[0m\n",
      "num_leaves, val_score: 0.348134:  15%|#5        | 3/20 [00:03<00:21,  1.28s/it]"
     ]
    },
    {
     "name": "stdout",
     "output_type": "stream",
     "text": [
      "Training until validation scores don't improve for 100 rounds\n",
      "[100]\ttrain's multi_logloss: 0.341052\teval's multi_logloss: 0.385301\n",
      "[200]\ttrain's multi_logloss: 0.246513\teval's multi_logloss: 0.350607\n",
      "[300]\ttrain's multi_logloss: 0.184954\teval's multi_logloss: 0.356943\n",
      "Early stopping, best iteration is:\n",
      "[220]\ttrain's multi_logloss: 0.233197\teval's multi_logloss: 0.348231\n"
     ]
    },
    {
     "name": "stderr",
     "output_type": "stream",
     "text": [
      "num_leaves, val_score: 0.348134:  20%|##        | 4/20 [00:05<00:20,  1.27s/it]\u001b[32m[I 2021-06-13 10:11:39,046]\u001b[0m Trial 10 finished with value: 0.3482306861414214 and parameters: {'num_leaves': 184}. Best is trial 7 with value: 0.3482306861414214.\u001b[0m\n",
      "num_leaves, val_score: 0.348134:  20%|##        | 4/20 [00:05<00:20,  1.27s/it]"
     ]
    },
    {
     "name": "stdout",
     "output_type": "stream",
     "text": [
      "Training until validation scores don't improve for 100 rounds\n",
      "[100]\ttrain's multi_logloss: 0.414792\teval's multi_logloss: 0.406533\n",
      "[200]\ttrain's multi_logloss: 0.370958\teval's multi_logloss: 0.36887\n",
      "[300]\ttrain's multi_logloss: 0.350392\teval's multi_logloss: 0.35756\n",
      "[400]\ttrain's multi_logloss: 0.33641\teval's multi_logloss: 0.351717\n"
     ]
    },
    {
     "name": "stderr",
     "output_type": "stream",
     "text": [
      "num_leaves, val_score: 0.348027:  25%|##5       | 5/20 [00:05<00:15,  1.04s/it]\u001b[32m[I 2021-06-13 10:11:39,682]\u001b[0m Trial 11 finished with value: 0.348027444740538 and parameters: {'num_leaves': 3}. Best is trial 11 with value: 0.348027444740538.\u001b[0m\n",
      "num_leaves, val_score: 0.348027:  25%|##5       | 5/20 [00:05<00:15,  1.04s/it]"
     ]
    },
    {
     "name": "stdout",
     "output_type": "stream",
     "text": [
      "[500]\ttrain's multi_logloss: 0.32618\teval's multi_logloss: 0.34861\n",
      "[600]\ttrain's multi_logloss: 0.318565\teval's multi_logloss: 0.348671\n",
      "Early stopping, best iteration is:\n",
      "[530]\ttrain's multi_logloss: 0.323573\teval's multi_logloss: 0.348027\n",
      "Training until validation scores don't improve for 100 rounds\n",
      "[100]\ttrain's multi_logloss: 0.341052\teval's multi_logloss: 0.385301\n",
      "[200]\ttrain's multi_logloss: 0.246523\teval's multi_logloss: 0.35062\n",
      "[300]\ttrain's multi_logloss: 0.185087\teval's multi_logloss: 0.356714\n",
      "Early stopping, best iteration is:\n",
      "[220]\ttrain's multi_logloss: 0.233183\teval's multi_logloss: 0.348045\n"
     ]
    },
    {
     "name": "stderr",
     "output_type": "stream",
     "text": [
      "num_leaves, val_score: 0.348027:  30%|###       | 6/20 [00:06<00:15,  1.08s/it]\u001b[32m[I 2021-06-13 10:11:40,850]\u001b[0m Trial 12 finished with value: 0.34804484547580694 and parameters: {'num_leaves': 41}. Best is trial 11 with value: 0.348027444740538.\u001b[0m\n",
      "num_leaves, val_score: 0.348027:  30%|###       | 6/20 [00:06<00:15,  1.08s/it]"
     ]
    },
    {
     "name": "stdout",
     "output_type": "stream",
     "text": [
      "Training until validation scores don't improve for 100 rounds\n",
      "[100]\ttrain's multi_logloss: 0.341052\teval's multi_logloss: 0.385301\n",
      "[200]\ttrain's multi_logloss: 0.246513\teval's multi_logloss: 0.350607\n",
      "[300]\ttrain's multi_logloss: 0.184954\teval's multi_logloss: 0.356943\n",
      "Early stopping, best iteration is:\n",
      "[220]\ttrain's multi_logloss: 0.233197\teval's multi_logloss: 0.348231\n"
     ]
    },
    {
     "name": "stderr",
     "output_type": "stream",
     "text": [
      "num_leaves, val_score: 0.348027:  35%|###5      | 7/20 [00:08<00:14,  1.14s/it]\u001b[32m[I 2021-06-13 10:11:42,121]\u001b[0m Trial 13 finished with value: 0.3482306861414214 and parameters: {'num_leaves': 149}. Best is trial 11 with value: 0.348027444740538.\u001b[0m\n",
      "num_leaves, val_score: 0.348027:  35%|###5      | 7/20 [00:08<00:14,  1.14s/it]"
     ]
    },
    {
     "name": "stdout",
     "output_type": "stream",
     "text": [
      "Training until validation scores don't improve for 100 rounds\n",
      "[100]\ttrain's multi_logloss: 0.341052\teval's multi_logloss: 0.385301\n",
      "[200]\ttrain's multi_logloss: 0.246513\teval's multi_logloss: 0.350607\n",
      "[300]\ttrain's multi_logloss: 0.184954\teval's multi_logloss: 0.356943\n",
      "Early stopping, best iteration is:\n",
      "[220]\ttrain's multi_logloss: 0.233197\teval's multi_logloss: 0.348231\n"
     ]
    },
    {
     "name": "stderr",
     "output_type": "stream",
     "text": [
      "num_leaves, val_score: 0.348027:  40%|####      | 8/20 [00:09<00:14,  1.19s/it]\u001b[32m[I 2021-06-13 10:11:43,393]\u001b[0m Trial 14 finished with value: 0.3482306861414214 and parameters: {'num_leaves': 141}. Best is trial 11 with value: 0.348027444740538.\u001b[0m\n",
      "num_leaves, val_score: 0.348027:  40%|####      | 8/20 [00:09<00:14,  1.19s/it]"
     ]
    },
    {
     "name": "stdout",
     "output_type": "stream",
     "text": [
      "Training until validation scores don't improve for 100 rounds\n",
      "[100]\ttrain's multi_logloss: 0.341052\teval's multi_logloss: 0.385301\n",
      "[200]\ttrain's multi_logloss: 0.246513\teval's multi_logloss: 0.350607\n",
      "[300]\ttrain's multi_logloss: 0.184954\teval's multi_logloss: 0.356943\n",
      "Early stopping, best iteration is:\n",
      "[220]\ttrain's multi_logloss: 0.233197\teval's multi_logloss: 0.348231\n"
     ]
    },
    {
     "name": "stderr",
     "output_type": "stream",
     "text": [
      "num_leaves, val_score: 0.348027:  45%|####5     | 9/20 [00:10<00:13,  1.19s/it]\u001b[32m[I 2021-06-13 10:11:44,604]\u001b[0m Trial 15 finished with value: 0.3482306861414214 and parameters: {'num_leaves': 109}. Best is trial 11 with value: 0.348027444740538.\u001b[0m\n",
      "num_leaves, val_score: 0.348027:  45%|####5     | 9/20 [00:10<00:13,  1.19s/it]"
     ]
    },
    {
     "name": "stdout",
     "output_type": "stream",
     "text": [
      "Training until validation scores don't improve for 100 rounds\n",
      "[100]\ttrain's multi_logloss: 0.341052\teval's multi_logloss: 0.385301\n",
      "[200]\ttrain's multi_logloss: 0.246513\teval's multi_logloss: 0.350607\n",
      "[300]\ttrain's multi_logloss: 0.184954\teval's multi_logloss: 0.356943\n",
      "Early stopping, best iteration is:\n",
      "[220]\ttrain's multi_logloss: 0.233197\teval's multi_logloss: 0.348231\n"
     ]
    },
    {
     "name": "stderr",
     "output_type": "stream",
     "text": [
      "num_leaves, val_score: 0.348027:  50%|####5    | 10/20 [00:11<00:12,  1.23s/it]\u001b[32m[I 2021-06-13 10:11:45,917]\u001b[0m Trial 16 finished with value: 0.3482306861414214 and parameters: {'num_leaves': 222}. Best is trial 11 with value: 0.348027444740538.\u001b[0m\n",
      "num_leaves, val_score: 0.348027:  50%|####5    | 10/20 [00:11<00:12,  1.23s/it]"
     ]
    },
    {
     "name": "stdout",
     "output_type": "stream",
     "text": [
      "Training until validation scores don't improve for 100 rounds\n",
      "[100]\ttrain's multi_logloss: 0.378354\teval's multi_logloss: 0.388508\n",
      "[200]\ttrain's multi_logloss: 0.319041\teval's multi_logloss: 0.351423\n",
      "[300]\ttrain's multi_logloss: 0.288789\teval's multi_logloss: 0.348437\n",
      "Early stopping, best iteration is:\n",
      "[269]\ttrain's multi_logloss: 0.29675\teval's multi_logloss: 0.346945\n"
     ]
    },
    {
     "name": "stderr",
     "output_type": "stream",
     "text": [
      "num_leaves, val_score: 0.346945:  55%|####9    | 11/20 [00:12<00:09,  1.01s/it]\u001b[32m[I 2021-06-13 10:11:46,432]\u001b[0m Trial 17 finished with value: 0.3469446436296706 and parameters: {'num_leaves': 7}. Best is trial 17 with value: 0.3469446436296706.\u001b[0m\n",
      "num_leaves, val_score: 0.346945:  55%|####9    | 11/20 [00:12<00:09,  1.01s/it]"
     ]
    },
    {
     "name": "stdout",
     "output_type": "stream",
     "text": [
      "Training until validation scores don't improve for 100 rounds\n",
      "[100]\ttrain's multi_logloss: 0.414792\teval's multi_logloss: 0.406533\n",
      "[200]\ttrain's multi_logloss: 0.370958\teval's multi_logloss: 0.36887\n",
      "[300]\ttrain's multi_logloss: 0.350392\teval's multi_logloss: 0.35756\n",
      "[400]\ttrain's multi_logloss: 0.33641\teval's multi_logloss: 0.351717\n",
      "[500]\ttrain's multi_logloss: 0.32618\teval's multi_logloss: 0.34861\n"
     ]
    },
    {
     "name": "stderr",
     "output_type": "stream",
     "text": [
      "num_leaves, val_score: 0.346945:  60%|#####3   | 12/20 [00:13<00:07,  1.13it/s]\u001b[32m[I 2021-06-13 10:11:47,025]\u001b[0m Trial 18 finished with value: 0.348027444740538 and parameters: {'num_leaves': 3}. Best is trial 17 with value: 0.3469446436296706.\u001b[0m\n",
      "num_leaves, val_score: 0.346945:  60%|#####3   | 12/20 [00:13<00:07,  1.13it/s]"
     ]
    },
    {
     "name": "stdout",
     "output_type": "stream",
     "text": [
      "[600]\ttrain's multi_logloss: 0.318565\teval's multi_logloss: 0.348671\n",
      "Early stopping, best iteration is:\n",
      "[530]\ttrain's multi_logloss: 0.323573\teval's multi_logloss: 0.348027\n",
      "Training until validation scores don't improve for 100 rounds\n",
      "[100]\ttrain's multi_logloss: 0.400829\teval's multi_logloss: 0.394089\n",
      "[200]\ttrain's multi_logloss: 0.352069\teval's multi_logloss: 0.354792\n",
      "[300]\ttrain's multi_logloss: 0.329943\teval's multi_logloss: 0.346691\n",
      "[400]\ttrain's multi_logloss: 0.314756\teval's multi_logloss: 0.344532\n",
      "[500]\ttrain's multi_logloss: 0.301453\teval's multi_logloss: 0.344036\n"
     ]
    },
    {
     "name": "stderr",
     "output_type": "stream",
     "text": [
      "num_leaves, val_score: 0.342830:  65%|#####8   | 13/20 [00:13<00:05,  1.23it/s]\u001b[32m[I 2021-06-13 10:11:47,682]\u001b[0m Trial 19 finished with value: 0.3428304321977896 and parameters: {'num_leaves': 4}. Best is trial 19 with value: 0.3428304321977896.\u001b[0m\n",
      "num_leaves, val_score: 0.342830:  65%|#####8   | 13/20 [00:13<00:05,  1.23it/s]"
     ]
    },
    {
     "name": "stdout",
     "output_type": "stream",
     "text": [
      "Early stopping, best iteration is:\n",
      "[470]\ttrain's multi_logloss: 0.305315\teval's multi_logloss: 0.34283\n",
      "Training until validation scores don't improve for 100 rounds\n",
      "[100]\ttrain's multi_logloss: 0.341052\teval's multi_logloss: 0.385301\n",
      "[200]\ttrain's multi_logloss: 0.246513\teval's multi_logloss: 0.350607\n",
      "[300]\ttrain's multi_logloss: 0.184954\teval's multi_logloss: 0.356943\n",
      "Early stopping, best iteration is:\n",
      "[220]\ttrain's multi_logloss: 0.233197\teval's multi_logloss: 0.348231\n"
     ]
    },
    {
     "name": "stderr",
     "output_type": "stream",
     "text": [
      "num_leaves, val_score: 0.342830:  70%|######3  | 14/20 [00:14<00:05,  1.07it/s]\u001b[32m[I 2021-06-13 10:11:48,882]\u001b[0m Trial 20 finished with value: 0.3482306861414214 and parameters: {'num_leaves': 54}. Best is trial 19 with value: 0.3428304321977896.\u001b[0m\n",
      "num_leaves, val_score: 0.342830:  70%|######3  | 14/20 [00:14<00:05,  1.07it/s]"
     ]
    },
    {
     "name": "stdout",
     "output_type": "stream",
     "text": [
      "Training until validation scores don't improve for 100 rounds\n",
      "[100]\ttrain's multi_logloss: 0.341052\teval's multi_logloss: 0.385301\n",
      "[200]\ttrain's multi_logloss: 0.246513\teval's multi_logloss: 0.350607\n",
      "[300]\ttrain's multi_logloss: 0.184954\teval's multi_logloss: 0.356943\n",
      "Early stopping, best iteration is:\n",
      "[220]\ttrain's multi_logloss: 0.233197\teval's multi_logloss: 0.348231\n"
     ]
    },
    {
     "name": "stderr",
     "output_type": "stream",
     "text": [
      "num_leaves, val_score: 0.342830:  75%|######7  | 15/20 [00:16<00:05,  1.03s/it]\u001b[32m[I 2021-06-13 10:11:50,125]\u001b[0m Trial 21 finished with value: 0.3482306861414214 and parameters: {'num_leaves': 48}. Best is trial 19 with value: 0.3428304321977896.\u001b[0m\n",
      "num_leaves, val_score: 0.342830:  75%|######7  | 15/20 [00:16<00:05,  1.03s/it]"
     ]
    },
    {
     "name": "stdout",
     "output_type": "stream",
     "text": [
      "Training until validation scores don't improve for 100 rounds\n",
      "[100]\ttrain's multi_logloss: 0.400829\teval's multi_logloss: 0.394089\n",
      "[200]\ttrain's multi_logloss: 0.352069\teval's multi_logloss: 0.354792\n",
      "[300]\ttrain's multi_logloss: 0.329943\teval's multi_logloss: 0.346691\n",
      "[400]\ttrain's multi_logloss: 0.314756\teval's multi_logloss: 0.344532\n",
      "[500]\ttrain's multi_logloss: 0.301453\teval's multi_logloss: 0.344036\n"
     ]
    },
    {
     "name": "stderr",
     "output_type": "stream",
     "text": [
      "num_leaves, val_score: 0.342830:  80%|#######2 | 16/20 [00:16<00:03,  1.12it/s]\u001b[32m[I 2021-06-13 10:11:50,720]\u001b[0m Trial 22 finished with value: 0.3428304321977896 and parameters: {'num_leaves': 4}. Best is trial 19 with value: 0.3428304321977896.\u001b[0m\n",
      "num_leaves, val_score: 0.342830:  80%|#######2 | 16/20 [00:16<00:03,  1.12it/s]"
     ]
    },
    {
     "name": "stdout",
     "output_type": "stream",
     "text": [
      "Early stopping, best iteration is:\n",
      "[470]\ttrain's multi_logloss: 0.305315\teval's multi_logloss: 0.34283\n",
      "Training until validation scores don't improve for 100 rounds\n",
      "[100]\ttrain's multi_logloss: 0.341052\teval's multi_logloss: 0.385301\n",
      "[200]\ttrain's multi_logloss: 0.246513\teval's multi_logloss: 0.350607\n",
      "[300]\ttrain's multi_logloss: 0.184954\teval's multi_logloss: 0.356943\n",
      "Early stopping, best iteration is:\n",
      "[220]\ttrain's multi_logloss: 0.233197\teval's multi_logloss: 0.348231\n"
     ]
    },
    {
     "name": "stderr",
     "output_type": "stream",
     "text": [
      "num_leaves, val_score: 0.342830:  85%|#######6 | 17/20 [00:18<00:03,  1.03s/it]\u001b[32m[I 2021-06-13 10:11:52,060]\u001b[0m Trial 23 finished with value: 0.3482306861414214 and parameters: {'num_leaves': 77}. Best is trial 19 with value: 0.3428304321977896.\u001b[0m\n",
      "num_leaves, val_score: 0.342830:  85%|#######6 | 17/20 [00:18<00:03,  1.03s/it]"
     ]
    },
    {
     "name": "stdout",
     "output_type": "stream",
     "text": [
      "Training until validation scores don't improve for 100 rounds\n",
      "[100]\ttrain's multi_logloss: 0.341873\teval's multi_logloss: 0.385523\n",
      "[200]\ttrain's multi_logloss: 0.250577\teval's multi_logloss: 0.351848\n",
      "[300]\ttrain's multi_logloss: 0.194033\teval's multi_logloss: 0.357275\n",
      "Early stopping, best iteration is:\n",
      "[222]\ttrain's multi_logloss: 0.237119\teval's multi_logloss: 0.349687\n"
     ]
    },
    {
     "name": "stderr",
     "output_type": "stream",
     "text": [
      "num_leaves, val_score: 0.342830:  90%|########1| 18/20 [00:19<00:02,  1.11s/it]\u001b[32m[I 2021-06-13 10:11:53,363]\u001b[0m Trial 24 finished with value: 0.3496866761526117 and parameters: {'num_leaves': 27}. Best is trial 19 with value: 0.3428304321977896.\u001b[0m\n",
      "num_leaves, val_score: 0.342830:  90%|########1| 18/20 [00:19<00:02,  1.11s/it]"
     ]
    },
    {
     "name": "stdout",
     "output_type": "stream",
     "text": [
      "Training until validation scores don't improve for 100 rounds\n",
      "[100]\ttrain's multi_logloss: 0.341052\teval's multi_logloss: 0.385301\n",
      "[200]\ttrain's multi_logloss: 0.246513\teval's multi_logloss: 0.350607\n",
      "[300]\ttrain's multi_logloss: 0.184954\teval's multi_logloss: 0.356943\n",
      "Early stopping, best iteration is:\n",
      "[220]\ttrain's multi_logloss: 0.233197\teval's multi_logloss: 0.348231\n"
     ]
    },
    {
     "name": "stderr",
     "output_type": "stream",
     "text": [
      "num_leaves, val_score: 0.342830:  95%|########5| 19/20 [00:20<00:01,  1.14s/it]\u001b[32m[I 2021-06-13 10:11:54,564]\u001b[0m Trial 25 finished with value: 0.3482306861414214 and parameters: {'num_leaves': 77}. Best is trial 19 with value: 0.3428304321977896.\u001b[0m\n",
      "num_leaves, val_score: 0.342830:  95%|########5| 19/20 [00:20<00:01,  1.14s/it]"
     ]
    },
    {
     "name": "stdout",
     "output_type": "stream",
     "text": [
      "Training until validation scores don't improve for 100 rounds\n",
      "[100]\ttrain's multi_logloss: 0.34618\teval's multi_logloss: 0.385503\n",
      "[200]\ttrain's multi_logloss: 0.261365\teval's multi_logloss: 0.350879\n"
     ]
    },
    {
     "name": "stderr",
     "output_type": "stream",
     "text": [
      "num_leaves, val_score: 0.342830: 100%|#########| 20/20 [00:21<00:00,  1.06s/it]\u001b[32m[I 2021-06-13 10:11:55,462]\u001b[0m Trial 26 finished with value: 0.34893601741773717 and parameters: {'num_leaves': 21}. Best is trial 19 with value: 0.3428304321977896.\u001b[0m\n",
      "num_leaves, val_score: 0.342830: 100%|#########| 20/20 [00:21<00:00,  1.07s/it]\n",
      "bagging, val_score: 0.342830:   0%|                     | 0/10 [00:00<?, ?it/s]"
     ]
    },
    {
     "name": "stdout",
     "output_type": "stream",
     "text": [
      "[300]\ttrain's multi_logloss: 0.209825\teval's multi_logloss: 0.354394\n",
      "Early stopping, best iteration is:\n",
      "[222]\ttrain's multi_logloss: 0.24892\teval's multi_logloss: 0.348936\n",
      "Training until validation scores don't improve for 100 rounds\n",
      "[100]\ttrain's multi_logloss: 0.401744\teval's multi_logloss: 0.399613\n",
      "[200]\ttrain's multi_logloss: 0.353028\teval's multi_logloss: 0.359724\n",
      "[300]\ttrain's multi_logloss: 0.330495\teval's multi_logloss: 0.350216\n"
     ]
    },
    {
     "name": "stderr",
     "output_type": "stream",
     "text": [
      "bagging, val_score: 0.342830:  10%|#3           | 1/10 [00:00<00:04,  2.07it/s]\u001b[32m[I 2021-06-13 10:11:55,959]\u001b[0m Trial 27 finished with value: 0.3471893903482055 and parameters: {'bagging_fraction': 0.4102032777042255, 'bagging_freq': 2}. Best is trial 27 with value: 0.3471893903482055.\u001b[0m\n",
      "bagging, val_score: 0.342830:  10%|#3           | 1/10 [00:00<00:04,  2.07it/s]"
     ]
    },
    {
     "name": "stdout",
     "output_type": "stream",
     "text": [
      "[400]\ttrain's multi_logloss: 0.314907\teval's multi_logloss: 0.348234\n",
      "Early stopping, best iteration is:\n",
      "[366]\ttrain's multi_logloss: 0.319613\teval's multi_logloss: 0.347189\n",
      "Training until validation scores don't improve for 100 rounds\n",
      "[100]\ttrain's multi_logloss: 0.399695\teval's multi_logloss: 0.392776\n",
      "[200]\ttrain's multi_logloss: 0.350742\teval's multi_logloss: 0.35223\n",
      "[300]\ttrain's multi_logloss: 0.328834\teval's multi_logloss: 0.344879\n"
     ]
    },
    {
     "name": "stderr",
     "output_type": "stream",
     "text": [
      "bagging, val_score: 0.342830:  20%|##6          | 2/10 [00:00<00:03,  2.11it/s]\u001b[32m[I 2021-06-13 10:11:56,421]\u001b[0m Trial 28 finished with value: 0.34442518522499943 and parameters: {'bagging_fraction': 0.9087574030767327, 'bagging_freq': 2}. Best is trial 28 with value: 0.34442518522499943.\u001b[0m\n",
      "bagging, val_score: 0.342830:  20%|##6          | 2/10 [00:00<00:03,  2.11it/s]"
     ]
    },
    {
     "name": "stdout",
     "output_type": "stream",
     "text": [
      "[400]\ttrain's multi_logloss: 0.313686\teval's multi_logloss: 0.345214\n",
      "Early stopping, best iteration is:\n",
      "[322]\ttrain's multi_logloss: 0.325215\teval's multi_logloss: 0.344425\n",
      "Training until validation scores don't improve for 100 rounds\n",
      "[100]\ttrain's multi_logloss: 0.399607\teval's multi_logloss: 0.395254\n",
      "[200]\ttrain's multi_logloss: 0.350087\teval's multi_logloss: 0.356209\n",
      "[300]\ttrain's multi_logloss: 0.327685\teval's multi_logloss: 0.348172\n",
      "[400]\ttrain's multi_logloss: 0.312145\teval's multi_logloss: 0.346851\n"
     ]
    },
    {
     "name": "stderr",
     "output_type": "stream",
     "text": [
      "bagging, val_score: 0.342830:  30%|###9         | 3/10 [00:01<00:03,  1.85it/s]\u001b[32m[I 2021-06-13 10:11:57,054]\u001b[0m Trial 29 finished with value: 0.34606127681270005 and parameters: {'bagging_fraction': 0.7147663201620125, 'bagging_freq': 1}. Best is trial 28 with value: 0.34442518522499943.\u001b[0m\n",
      "bagging, val_score: 0.342830:  30%|###9         | 3/10 [00:01<00:03,  1.85it/s]"
     ]
    },
    {
     "name": "stdout",
     "output_type": "stream",
     "text": [
      "[500]\ttrain's multi_logloss: 0.299774\teval's multi_logloss: 0.3462\n",
      "Early stopping, best iteration is:\n",
      "[484]\ttrain's multi_logloss: 0.301604\teval's multi_logloss: 0.346061\n",
      "Training until validation scores don't improve for 100 rounds\n",
      "[100]\ttrain's multi_logloss: 0.399645\teval's multi_logloss: 0.393549\n",
      "[200]\ttrain's multi_logloss: 0.351092\teval's multi_logloss: 0.354822\n",
      "[300]\ttrain's multi_logloss: 0.328516\teval's multi_logloss: 0.345786\n"
     ]
    },
    {
     "name": "stderr",
     "output_type": "stream",
     "text": [
      "bagging, val_score: 0.342830:  40%|#####2       | 4/10 [00:02<00:03,  1.79it/s]\u001b[32m[I 2021-06-13 10:11:57,638]\u001b[0m Trial 30 finished with value: 0.3451119225282142 and parameters: {'bagging_fraction': 0.7901996388576698, 'bagging_freq': 3}. Best is trial 28 with value: 0.34442518522499943.\u001b[0m\n",
      "bagging, val_score: 0.342830:  40%|#####2       | 4/10 [00:02<00:03,  1.79it/s]"
     ]
    },
    {
     "name": "stdout",
     "output_type": "stream",
     "text": [
      "[400]\ttrain's multi_logloss: 0.313165\teval's multi_logloss: 0.345304\n",
      "[500]\ttrain's multi_logloss: 0.300711\teval's multi_logloss: 0.346263\n",
      "Early stopping, best iteration is:\n",
      "[405]\ttrain's multi_logloss: 0.312426\teval's multi_logloss: 0.345112\n",
      "Training until validation scores don't improve for 100 rounds\n",
      "[100]\ttrain's multi_logloss: 0.400107\teval's multi_logloss: 0.395402\n",
      "[200]\ttrain's multi_logloss: 0.350659\teval's multi_logloss: 0.355615\n",
      "[300]\ttrain's multi_logloss: 0.327198\teval's multi_logloss: 0.347324\n"
     ]
    },
    {
     "name": "stderr",
     "output_type": "stream",
     "text": [
      "bagging, val_score: 0.342830:  50%|######5      | 5/10 [00:02<00:02,  1.87it/s]\u001b[32m[I 2021-06-13 10:11:58,132]\u001b[0m Trial 31 finished with value: 0.3457517571988298 and parameters: {'bagging_fraction': 0.5809637143358801, 'bagging_freq': 1}. Best is trial 28 with value: 0.34442518522499943.\u001b[0m\n",
      "bagging, val_score: 0.342830:  50%|######5      | 5/10 [00:02<00:02,  1.87it/s]"
     ]
    },
    {
     "name": "stdout",
     "output_type": "stream",
     "text": [
      "[400]\ttrain's multi_logloss: 0.311881\teval's multi_logloss: 0.346242\n",
      "Early stopping, best iteration is:\n",
      "[365]\ttrain's multi_logloss: 0.316751\teval's multi_logloss: 0.345752\n",
      "Training until validation scores don't improve for 100 rounds\n",
      "[100]\ttrain's multi_logloss: 0.400547\teval's multi_logloss: 0.393425\n",
      "[200]\ttrain's multi_logloss: 0.352136\teval's multi_logloss: 0.352565\n",
      "[300]\ttrain's multi_logloss: 0.330124\teval's multi_logloss: 0.346061\n",
      "[400]\ttrain's multi_logloss: 0.315791\teval's multi_logloss: 0.346197\n",
      "[500]\ttrain's multi_logloss: 0.303831\teval's multi_logloss: 0.344834\n",
      "[600]\ttrain's multi_logloss: 0.293307\teval's multi_logloss: 0.345862\n"
     ]
    },
    {
     "name": "stderr",
     "output_type": "stream",
     "text": [
      "bagging, val_score: 0.342830:  60%|#######8     | 6/10 [00:03<00:02,  1.71it/s]\u001b[32m[I 2021-06-13 10:11:58,810]\u001b[0m Trial 32 finished with value: 0.3442900896339966 and parameters: {'bagging_fraction': 0.8783838863518351, 'bagging_freq': 6}. Best is trial 32 with value: 0.3442900896339966.\u001b[0m\n",
      "bagging, val_score: 0.342830:  60%|#######8     | 6/10 [00:03<00:02,  1.71it/s]"
     ]
    },
    {
     "name": "stdout",
     "output_type": "stream",
     "text": [
      "Early stopping, best iteration is:\n",
      "[552]\ttrain's multi_logloss: 0.298031\teval's multi_logloss: 0.34429\n",
      "Training until validation scores don't improve for 100 rounds\n",
      "[100]\ttrain's multi_logloss: 0.401598\teval's multi_logloss: 0.396662\n",
      "[200]\ttrain's multi_logloss: 0.352268\teval's multi_logloss: 0.356005\n",
      "[300]\ttrain's multi_logloss: 0.330962\teval's multi_logloss: 0.350706\n",
      "Early stopping, best iteration is:\n",
      "[270]\ttrain's multi_logloss: 0.336254\teval's multi_logloss: 0.349944\n"
     ]
    },
    {
     "name": "stderr",
     "output_type": "stream",
     "text": [
      "bagging, val_score: 0.342830:  70%|#########1   | 7/10 [00:03<00:01,  1.83it/s]\u001b[32m[I 2021-06-13 10:11:59,275]\u001b[0m Trial 33 finished with value: 0.3499443300812581 and parameters: {'bagging_fraction': 0.6231883361377947, 'bagging_freq': 6}. Best is trial 32 with value: 0.3442900896339966.\u001b[0m\n",
      "bagging, val_score: 0.342830:  70%|#########1   | 7/10 [00:03<00:01,  1.83it/s]"
     ]
    },
    {
     "name": "stdout",
     "output_type": "stream",
     "text": [
      "Training until validation scores don't improve for 100 rounds\n",
      "[100]\ttrain's multi_logloss: 0.398921\teval's multi_logloss: 0.394101\n",
      "[200]\ttrain's multi_logloss: 0.350263\teval's multi_logloss: 0.354736\n",
      "[300]\ttrain's multi_logloss: 0.328177\teval's multi_logloss: 0.346777\n",
      "[400]\ttrain's multi_logloss: 0.312445\teval's multi_logloss: 0.345616\n",
      "[500]\ttrain's multi_logloss: 0.29986\teval's multi_logloss: 0.346313\n",
      "Early stopping, best iteration is:\n",
      "[417]\ttrain's multi_logloss: 0.310157\teval's multi_logloss: 0.345354\n"
     ]
    },
    {
     "name": "stderr",
     "output_type": "stream",
     "text": [
      "bagging, val_score: 0.342830:  80%|##########4  | 8/10 [00:04<00:01,  1.82it/s]\u001b[32m[I 2021-06-13 10:11:59,840]\u001b[0m Trial 34 finished with value: 0.34535439529452555 and parameters: {'bagging_fraction': 0.8071108444866589, 'bagging_freq': 1}. Best is trial 32 with value: 0.3442900896339966.\u001b[0m\n",
      "bagging, val_score: 0.342830:  80%|##########4  | 8/10 [00:04<00:01,  1.82it/s]"
     ]
    },
    {
     "name": "stdout",
     "output_type": "stream",
     "text": [
      "Training until validation scores don't improve for 100 rounds\n",
      "[100]\ttrain's multi_logloss: 0.399805\teval's multi_logloss: 0.394266\n",
      "[200]\ttrain's multi_logloss: 0.35112\teval's multi_logloss: 0.354087\n"
     ]
    },
    {
     "name": "stderr",
     "output_type": "stream",
     "text": [
      "bagging, val_score: 0.342830:  90%|###########7 | 9/10 [00:04<00:00,  1.92it/s]\u001b[32m[I 2021-06-13 10:12:00,284]\u001b[0m Trial 35 finished with value: 0.3448799152816339 and parameters: {'bagging_fraction': 0.824867319646376, 'bagging_freq': 3}. Best is trial 32 with value: 0.3442900896339966.\u001b[0m\n",
      "bagging, val_score: 0.342830:  90%|###########7 | 9/10 [00:04<00:00,  1.92it/s]"
     ]
    },
    {
     "name": "stdout",
     "output_type": "stream",
     "text": [
      "[300]\ttrain's multi_logloss: 0.3286\teval's multi_logloss: 0.345806\n",
      "[400]\ttrain's multi_logloss: 0.313395\teval's multi_logloss: 0.34575\n",
      "Early stopping, best iteration is:\n",
      "[318]\ttrain's multi_logloss: 0.325573\teval's multi_logloss: 0.34488\n",
      "Training until validation scores don't improve for 100 rounds\n",
      "[100]\ttrain's multi_logloss: 0.400645\teval's multi_logloss: 0.393761\n",
      "[200]\ttrain's multi_logloss: 0.350972\teval's multi_logloss: 0.353803\n",
      "[300]\ttrain's multi_logloss: 0.328632\teval's multi_logloss: 0.346882\n"
     ]
    },
    {
     "name": "stderr",
     "output_type": "stream",
     "text": [
      "bagging, val_score: 0.342830: 100%|############| 10/10 [00:05<00:00,  1.87it/s]\u001b[32m[I 2021-06-13 10:12:00,857]\u001b[0m Trial 36 finished with value: 0.3449837921869668 and parameters: {'bagging_fraction': 0.8168509285710014, 'bagging_freq': 7}. Best is trial 32 with value: 0.3442900896339966.\u001b[0m\n",
      "bagging, val_score: 0.342830: 100%|############| 10/10 [00:05<00:00,  1.86it/s]\n",
      "  0%|                                                    | 0/3 [00:00<?, ?it/s]"
     ]
    },
    {
     "name": "stdout",
     "output_type": "stream",
     "text": [
      "[400]\ttrain's multi_logloss: 0.31423\teval's multi_logloss: 0.345562\n",
      "[500]\ttrain's multi_logloss: 0.302033\teval's multi_logloss: 0.346063\n",
      "Early stopping, best iteration is:\n",
      "[448]\ttrain's multi_logloss: 0.308112\teval's multi_logloss: 0.344984\n"
     ]
    },
    {
     "name": "stderr",
     "output_type": "stream",
     "text": [
      "\r",
      "feature_fraction_stage2, val_score: 0.342830:   0%|      | 0/3 [00:00<?, ?it/s]"
     ]
    },
    {
     "name": "stdout",
     "output_type": "stream",
     "text": [
      "Training until validation scores don't improve for 100 rounds\n",
      "[100]\ttrain's multi_logloss: 0.400829\teval's multi_logloss: 0.394089\n",
      "[200]\ttrain's multi_logloss: 0.352069\teval's multi_logloss: 0.354792\n",
      "[300]\ttrain's multi_logloss: 0.329943\teval's multi_logloss: 0.346691\n",
      "[400]\ttrain's multi_logloss: 0.314756\teval's multi_logloss: 0.344532\n"
     ]
    },
    {
     "name": "stderr",
     "output_type": "stream",
     "text": [
      "feature_fraction_stage2, val_score: 0.342830:  33%|3| 1/3 [00:00<00:01,  1.48it\u001b[32m[I 2021-06-13 10:12:01,547]\u001b[0m Trial 37 finished with value: 0.3428304321977896 and parameters: {'feature_fraction': 0.9840000000000001}. Best is trial 37 with value: 0.3428304321977896.\u001b[0m\n",
      "feature_fraction_stage2, val_score: 0.342830:  33%|3| 1/3 [00:00<00:01,  1.48it"
     ]
    },
    {
     "name": "stdout",
     "output_type": "stream",
     "text": [
      "[500]\ttrain's multi_logloss: 0.301453\teval's multi_logloss: 0.344036\n",
      "Early stopping, best iteration is:\n",
      "[470]\ttrain's multi_logloss: 0.305315\teval's multi_logloss: 0.34283\n",
      "Training until validation scores don't improve for 100 rounds\n",
      "[100]\ttrain's multi_logloss: 0.405196\teval's multi_logloss: 0.400333\n",
      "[200]\ttrain's multi_logloss: 0.353641\teval's multi_logloss: 0.356511\n",
      "[300]\ttrain's multi_logloss: 0.330404\teval's multi_logloss: 0.348245\n",
      "[400]\ttrain's multi_logloss: 0.31502\teval's multi_logloss: 0.345548\n",
      "[500]\ttrain's multi_logloss: 0.301878\teval's multi_logloss: 0.345529\n"
     ]
    },
    {
     "name": "stderr",
     "output_type": "stream",
     "text": [
      "feature_fraction_stage2, val_score: 0.342830:  67%|6| 2/3 [00:01<00:00,  1.55it\u001b[32m[I 2021-06-13 10:12:02,167]\u001b[0m Trial 38 finished with value: 0.3445775166353427 and parameters: {'feature_fraction': 0.92}. Best is trial 37 with value: 0.3428304321977896.\u001b[0m\n",
      "feature_fraction_stage2, val_score: 0.342830:  67%|6| 2/3 [00:01<00:00,  1.55it"
     ]
    },
    {
     "name": "stdout",
     "output_type": "stream",
     "text": [
      "Early stopping, best iteration is:\n",
      "[469]\ttrain's multi_logloss: 0.305822\teval's multi_logloss: 0.344578\n",
      "Training until validation scores don't improve for 100 rounds\n",
      "[100]\ttrain's multi_logloss: 0.400829\teval's multi_logloss: 0.394089\n",
      "[200]\ttrain's multi_logloss: 0.352069\teval's multi_logloss: 0.354792\n",
      "[300]\ttrain's multi_logloss: 0.329943\teval's multi_logloss: 0.346691\n",
      "[400]\ttrain's multi_logloss: 0.314756\teval's multi_logloss: 0.344532\n"
     ]
    },
    {
     "name": "stderr",
     "output_type": "stream",
     "text": [
      "feature_fraction_stage2, val_score: 0.342830: 100%|#| 3/3 [00:01<00:00,  1.58it\u001b[32m[I 2021-06-13 10:12:02,775]\u001b[0m Trial 39 finished with value: 0.3428304321977896 and parameters: {'feature_fraction': 0.9520000000000001}. Best is trial 37 with value: 0.3428304321977896.\u001b[0m\n",
      "feature_fraction_stage2, val_score: 0.342830: 100%|#| 3/3 [00:01<00:00,  1.56it\n",
      "regularization_factors, val_score: 0.342830:   0%|      | 0/20 [00:00<?, ?it/s]"
     ]
    },
    {
     "name": "stdout",
     "output_type": "stream",
     "text": [
      "[500]\ttrain's multi_logloss: 0.301453\teval's multi_logloss: 0.344036\n",
      "Early stopping, best iteration is:\n",
      "[470]\ttrain's multi_logloss: 0.305315\teval's multi_logloss: 0.34283\n",
      "Training until validation scores don't improve for 100 rounds\n",
      "[100]\ttrain's multi_logloss: 0.403362\teval's multi_logloss: 0.396931\n",
      "[200]\ttrain's multi_logloss: 0.355544\teval's multi_logloss: 0.356831\n",
      "[300]\ttrain's multi_logloss: 0.335238\teval's multi_logloss: 0.348565\n",
      "[400]\ttrain's multi_logloss: 0.321114\teval's multi_logloss: 0.3449\n"
     ]
    },
    {
     "name": "stderr",
     "output_type": "stream",
     "text": [
      "regularization_factors, val_score: 0.342830:   5%| | 1/20 [00:00<00:13,  1.40it\u001b[32m[I 2021-06-13 10:12:03,503]\u001b[0m Trial 40 finished with value: 0.3428902641001084 and parameters: {'lambda_l1': 0.696989224079615, 'lambda_l2': 0.022125325232486354}. Best is trial 40 with value: 0.3428902641001084.\u001b[0m\n",
      "regularization_factors, val_score: 0.342830:   5%| | 1/20 [00:00<00:13,  1.40it"
     ]
    },
    {
     "name": "stdout",
     "output_type": "stream",
     "text": [
      "[500]\ttrain's multi_logloss: 0.308907\teval's multi_logloss: 0.34339\n",
      "Early stopping, best iteration is:\n",
      "[465]\ttrain's multi_logloss: 0.313158\teval's multi_logloss: 0.34289\n",
      "Training until validation scores don't improve for 100 rounds\n",
      "[100]\ttrain's multi_logloss: 0.400831\teval's multi_logloss: 0.39409\n",
      "[200]\ttrain's multi_logloss: 0.352071\teval's multi_logloss: 0.354793\n",
      "[300]\ttrain's multi_logloss: 0.329946\teval's multi_logloss: 0.346692\n"
     ]
    },
    {
     "name": "stderr",
     "output_type": "stream",
     "text": [
      "\r",
      "regularization_factors, val_score: 0.342830:   5%| | 1/20 [00:01<00:13,  1.40it"
     ]
    },
    {
     "name": "stdout",
     "output_type": "stream",
     "text": [
      "[400]\ttrain's multi_logloss: 0.314759\teval's multi_logloss: 0.344532\n",
      "[500]\ttrain's multi_logloss: 0.301457\teval's multi_logloss: 0.344036\n",
      "Early stopping, best iteration is:\n",
      "[470]\ttrain's multi_logloss: 0.305319\teval's multi_logloss: 0.34283\n"
     ]
    },
    {
     "name": "stderr",
     "output_type": "stream",
     "text": [
      "regularization_factors, val_score: 0.342830:  10%|1| 2/20 [00:01<00:12,  1.49it\u001b[32m[I 2021-06-13 10:12:04,148]\u001b[0m Trial 41 finished with value: 0.34283048893887785 and parameters: {'lambda_l1': 0.00038673490384108066, 'lambda_l2': 3.7485591643932394e-08}. Best is trial 41 with value: 0.34283048893887785.\u001b[0m\n",
      "regularization_factors, val_score: 0.342830:  10%|1| 2/20 [00:01<00:12,  1.49it"
     ]
    },
    {
     "name": "stdout",
     "output_type": "stream",
     "text": [
      "Training until validation scores don't improve for 100 rounds\n",
      "[100]\ttrain's multi_logloss: 0.402758\teval's multi_logloss: 0.396056\n",
      "[200]\ttrain's multi_logloss: 0.354641\teval's multi_logloss: 0.355775\n",
      "[300]\ttrain's multi_logloss: 0.333569\teval's multi_logloss: 0.347789\n",
      "[400]\ttrain's multi_logloss: 0.319195\teval's multi_logloss: 0.344919\n",
      "[500]\ttrain's multi_logloss: 0.306718\teval's multi_logloss: 0.343598\n"
     ]
    },
    {
     "name": "stderr",
     "output_type": "stream",
     "text": [
      "regularization_factors, val_score: 0.342830:  15%|1| 3/20 [00:01<00:11,  1.52it\u001b[32m[I 2021-06-13 10:12:04,792]\u001b[0m Trial 42 finished with value: 0.34311491102416225 and parameters: {'lambda_l1': 0.3465746107578434, 'lambda_l2': 0.26391826434664656}. Best is trial 41 with value: 0.34283048893887785.\u001b[0m\n",
      "regularization_factors, val_score: 0.342830:  15%|1| 3/20 [00:02<00:11,  1.52it"
     ]
    },
    {
     "name": "stdout",
     "output_type": "stream",
     "text": [
      "Early stopping, best iteration is:\n",
      "[466]\ttrain's multi_logloss: 0.310919\teval's multi_logloss: 0.343115\n",
      "Training until validation scores don't improve for 100 rounds\n",
      "[100]\ttrain's multi_logloss: 0.401016\teval's multi_logloss: 0.394276\n",
      "[200]\ttrain's multi_logloss: 0.352068\teval's multi_logloss: 0.354768\n",
      "[300]\ttrain's multi_logloss: 0.330073\teval's multi_logloss: 0.346887\n",
      "[400]\ttrain's multi_logloss: 0.314973\teval's multi_logloss: 0.344504\n",
      "[500]\ttrain's multi_logloss: 0.301695\teval's multi_logloss: 0.343804\n",
      "Early stopping, best iteration is:\n",
      "[470]\ttrain's multi_logloss: 0.305553\teval's multi_logloss: 0.342478\n"
     ]
    },
    {
     "name": "stderr",
     "output_type": "stream",
     "text": [
      "regularization_factors, val_score: 0.342478:  20%|2| 4/20 [00:02<00:10,  1.48it\u001b[32m[I 2021-06-13 10:12:05,481]\u001b[0m Trial 43 finished with value: 0.34247803270496535 and parameters: {'lambda_l1': 0.0017313969883910984, 'lambda_l2': 0.056336020670869374}. Best is trial 43 with value: 0.34247803270496535.\u001b[0m\n",
      "regularization_factors, val_score: 0.342478:  20%|2| 4/20 [00:02<00:10,  1.48it"
     ]
    },
    {
     "name": "stdout",
     "output_type": "stream",
     "text": [
      "Training until validation scores don't improve for 100 rounds\n",
      "[100]\ttrain's multi_logloss: 0.401481\teval's multi_logloss: 0.394729\n",
      "[200]\ttrain's multi_logloss: 0.353027\teval's multi_logloss: 0.354814\n",
      "[300]\ttrain's multi_logloss: 0.331557\teval's multi_logloss: 0.346787\n",
      "[400]\ttrain's multi_logloss: 0.31681\teval's multi_logloss: 0.344491\n",
      "[500]\ttrain's multi_logloss: 0.303802\teval's multi_logloss: 0.343664\n"
     ]
    },
    {
     "name": "stderr",
     "output_type": "stream",
     "text": [
      "regularization_factors, val_score: 0.342478:  25%|2| 5/20 [00:03<00:09,  1.51it\u001b[32m[I 2021-06-13 10:12:06,127]\u001b[0m Trial 44 finished with value: 0.3426567982234265 and parameters: {'lambda_l1': 0.22409418350388052, 'lambda_l2': 2.9049845847126873e-06}. Best is trial 43 with value: 0.34247803270496535.\u001b[0m\n",
      "regularization_factors, val_score: 0.342478:  25%|2| 5/20 [00:03<00:09,  1.51it"
     ]
    },
    {
     "name": "stdout",
     "output_type": "stream",
     "text": [
      "Early stopping, best iteration is:\n",
      "[470]\ttrain's multi_logloss: 0.307651\teval's multi_logloss: 0.342657\n",
      "Training until validation scores don't improve for 100 rounds\n",
      "[100]\ttrain's multi_logloss: 0.40083\teval's multi_logloss: 0.394089\n",
      "[200]\ttrain's multi_logloss: 0.35207\teval's multi_logloss: 0.354792\n",
      "[300]\ttrain's multi_logloss: 0.329944\teval's multi_logloss: 0.346692\n",
      "[400]\ttrain's multi_logloss: 0.314757\teval's multi_logloss: 0.344532\n"
     ]
    },
    {
     "name": "stderr",
     "output_type": "stream",
     "text": [
      "regularization_factors, val_score: 0.342478:  30%|3| 6/20 [00:03<00:09,  1.54it\u001b[32m[I 2021-06-13 10:12:06,755]\u001b[0m Trial 45 finished with value: 0.342830379108728 and parameters: {'lambda_l1': 3.990471628232771e-07, 'lambda_l2': 0.00013472384469482787}. Best is trial 43 with value: 0.34247803270496535.\u001b[0m\n",
      "regularization_factors, val_score: 0.342478:  30%|3| 6/20 [00:03<00:09,  1.54it"
     ]
    },
    {
     "name": "stdout",
     "output_type": "stream",
     "text": [
      "[500]\ttrain's multi_logloss: 0.301454\teval's multi_logloss: 0.344036\n",
      "Early stopping, best iteration is:\n",
      "[470]\ttrain's multi_logloss: 0.305316\teval's multi_logloss: 0.34283\n",
      "Training until validation scores don't improve for 100 rounds\n",
      "[100]\ttrain's multi_logloss: 0.400856\teval's multi_logloss: 0.39412\n",
      "[200]\ttrain's multi_logloss: 0.352103\teval's multi_logloss: 0.354787\n",
      "[300]\ttrain's multi_logloss: 0.330095\teval's multi_logloss: 0.346902\n",
      "[400]\ttrain's multi_logloss: 0.314833\teval's multi_logloss: 0.344673\n"
     ]
    },
    {
     "name": "stderr",
     "output_type": "stream",
     "text": [
      "regularization_factors, val_score: 0.342478:  35%|3| 7/20 [00:04<00:08,  1.50it\u001b[32m[I 2021-06-13 10:12:07,447]\u001b[0m Trial 46 finished with value: 0.3428208727334338 and parameters: {'lambda_l1': 1.001629222458959e-06, 'lambda_l2': 0.008506148673724677}. Best is trial 43 with value: 0.34247803270496535.\u001b[0m\n",
      "regularization_factors, val_score: 0.342478:  35%|3| 7/20 [00:04<00:08,  1.50it"
     ]
    },
    {
     "name": "stdout",
     "output_type": "stream",
     "text": [
      "[500]\ttrain's multi_logloss: 0.301402\teval's multi_logloss: 0.344047\n",
      "Early stopping, best iteration is:\n",
      "[470]\ttrain's multi_logloss: 0.305341\teval's multi_logloss: 0.342821\n",
      "Training until validation scores don't improve for 100 rounds\n",
      "[100]\ttrain's multi_logloss: 0.40083\teval's multi_logloss: 0.394089\n",
      "[200]\ttrain's multi_logloss: 0.35207\teval's multi_logloss: 0.354792\n",
      "[300]\ttrain's multi_logloss: 0.329944\teval's multi_logloss: 0.346692\n",
      "[400]\ttrain's multi_logloss: 0.314757\teval's multi_logloss: 0.344532\n",
      "[500]\ttrain's multi_logloss: 0.301454\teval's multi_logloss: 0.344036\n",
      "Early stopping, best iteration is:\n",
      "[470]\ttrain's multi_logloss: 0.305317\teval's multi_logloss: 0.34283\n"
     ]
    },
    {
     "name": "stderr",
     "output_type": "stream",
     "text": [
      "regularization_factors, val_score: 0.342478:  40%|4| 8/20 [00:05<00:07,  1.55it\u001b[32m[I 2021-06-13 10:12:08,060]\u001b[0m Trial 47 finished with value: 0.3428304560463791 and parameters: {'lambda_l1': 0.00016141820271014883, 'lambda_l2': 4.567905126755809e-08}. Best is trial 43 with value: 0.34247803270496535.\u001b[0m\n",
      "regularization_factors, val_score: 0.342478:  40%|4| 8/20 [00:05<00:07,  1.55it"
     ]
    },
    {
     "name": "stdout",
     "output_type": "stream",
     "text": [
      "Training until validation scores don't improve for 100 rounds\n",
      "[100]\ttrain's multi_logloss: 0.40083\teval's multi_logloss: 0.394089\n",
      "[200]\ttrain's multi_logloss: 0.352069\teval's multi_logloss: 0.354792\n",
      "[300]\ttrain's multi_logloss: 0.329944\teval's multi_logloss: 0.346692\n",
      "[400]\ttrain's multi_logloss: 0.314756\teval's multi_logloss: 0.344532\n"
     ]
    },
    {
     "name": "stderr",
     "output_type": "stream",
     "text": [
      "regularization_factors, val_score: 0.342478:  45%|4| 9/20 [00:05<00:07,  1.56it\u001b[32m[I 2021-06-13 10:12:08,677]\u001b[0m Trial 48 finished with value: 0.34283044527489337 and parameters: {'lambda_l1': 8.836492160030808e-05, 'lambda_l2': 6.328286837188802e-08}. Best is trial 43 with value: 0.34247803270496535.\u001b[0m\n",
      "regularization_factors, val_score: 0.342478:  45%|4| 9/20 [00:05<00:07,  1.56it"
     ]
    },
    {
     "name": "stdout",
     "output_type": "stream",
     "text": [
      "[500]\ttrain's multi_logloss: 0.301454\teval's multi_logloss: 0.344036\n",
      "Early stopping, best iteration is:\n",
      "[470]\ttrain's multi_logloss: 0.305316\teval's multi_logloss: 0.34283\n",
      "Training until validation scores don't improve for 100 rounds\n",
      "[100]\ttrain's multi_logloss: 0.402825\teval's multi_logloss: 0.396374\n",
      "[200]\ttrain's multi_logloss: 0.354996\teval's multi_logloss: 0.356274\n",
      "[300]\ttrain's multi_logloss: 0.334453\teval's multi_logloss: 0.348201\n",
      "[400]\ttrain's multi_logloss: 0.320336\teval's multi_logloss: 0.344949\n",
      "[500]\ttrain's multi_logloss: 0.307725\teval's multi_logloss: 0.343291\n",
      "Early stopping, best iteration is:\n",
      "[465]\ttrain's multi_logloss: 0.312049\teval's multi_logloss: 0.342855\n"
     ]
    },
    {
     "name": "stderr",
     "output_type": "stream",
     "text": [
      "regularization_factors, val_score: 0.342478:  50%|5| 10/20 [00:06<00:06,  1.51i\u001b[32m[I 2021-06-13 10:12:09,402]\u001b[0m Trial 49 finished with value: 0.3428553312425322 and parameters: {'lambda_l1': 0.5931158549900858, 'lambda_l2': 3.1047480642202476e-06}. Best is trial 43 with value: 0.34247803270496535.\u001b[0m\n",
      "regularization_factors, val_score: 0.342478:  50%|5| 10/20 [00:06<00:06,  1.51i"
     ]
    },
    {
     "name": "stdout",
     "output_type": "stream",
     "text": [
      "Training until validation scores don't improve for 100 rounds\n",
      "[100]\ttrain's multi_logloss: 0.412811\teval's multi_logloss: 0.405709\n",
      "[200]\ttrain's multi_logloss: 0.36341\teval's multi_logloss: 0.362141\n",
      "[300]\ttrain's multi_logloss: 0.342847\teval's multi_logloss: 0.352385\n",
      "[400]\ttrain's multi_logloss: 0.329694\teval's multi_logloss: 0.346583\n",
      "[500]\ttrain's multi_logloss: 0.319182\teval's multi_logloss: 0.343949\n"
     ]
    },
    {
     "name": "stderr",
     "output_type": "stream",
     "text": [
      "regularization_factors, val_score: 0.342478:  55%|5| 11/20 [00:07<00:06,  1.48i\u001b[32m[I 2021-06-13 10:12:10,098]\u001b[0m Trial 50 finished with value: 0.3435472425974105 and parameters: {'lambda_l1': 0.0063807026654689215, 'lambda_l2': 4.548978161184464}. Best is trial 43 with value: 0.34247803270496535.\u001b[0m\n",
      "regularization_factors, val_score: 0.342478:  55%|5| 11/20 [00:07<00:06,  1.48i"
     ]
    },
    {
     "name": "stdout",
     "output_type": "stream",
     "text": [
      "[600]\ttrain's multi_logloss: 0.310823\teval's multi_logloss: 0.344652\n",
      "Early stopping, best iteration is:\n",
      "[530]\ttrain's multi_logloss: 0.316657\teval's multi_logloss: 0.343547\n",
      "Training until validation scores don't improve for 100 rounds\n",
      "[100]\ttrain's multi_logloss: 0.400875\teval's multi_logloss: 0.394139\n",
      "[200]\ttrain's multi_logloss: 0.352027\teval's multi_logloss: 0.354756\n",
      "[300]\ttrain's multi_logloss: 0.329873\teval's multi_logloss: 0.346884\n"
     ]
    },
    {
     "name": "stderr",
     "output_type": "stream",
     "text": [
      "\r",
      "regularization_factors, val_score: 0.342478:  55%|5| 11/20 [00:07<00:06,  1.48i"
     ]
    },
    {
     "name": "stdout",
     "output_type": "stream",
     "text": [
      "[400]\ttrain's multi_logloss: 0.314689\teval's multi_logloss: 0.344649\n",
      "[500]\ttrain's multi_logloss: 0.301495\teval's multi_logloss: 0.343833\n",
      "Early stopping, best iteration is:\n",
      "[470]\ttrain's multi_logloss: 0.30541\teval's multi_logloss: 0.342658\n"
     ]
    },
    {
     "name": "stderr",
     "output_type": "stream",
     "text": [
      "regularization_factors, val_score: 0.342478:  60%|6| 12/20 [00:07<00:05,  1.51i\u001b[32m[I 2021-06-13 10:12:10,725]\u001b[0m Trial 51 finished with value: 0.34265756605110553 and parameters: {'lambda_l1': 0.013270413399955525, 'lambda_l2': 2.713568968680447e-05}. Best is trial 43 with value: 0.34247803270496535.\u001b[0m\n",
      "regularization_factors, val_score: 0.342478:  60%|6| 12/20 [00:07<00:05,  1.51i"
     ]
    },
    {
     "name": "stdout",
     "output_type": "stream",
     "text": [
      "Training until validation scores don't improve for 100 rounds\n",
      "[100]\ttrain's multi_logloss: 0.400831\teval's multi_logloss: 0.394244\n",
      "[200]\ttrain's multi_logloss: 0.352011\teval's multi_logloss: 0.354844\n",
      "[300]\ttrain's multi_logloss: 0.329978\teval's multi_logloss: 0.347016\n",
      "[400]\ttrain's multi_logloss: 0.314715\teval's multi_logloss: 0.344904\n"
     ]
    },
    {
     "name": "stderr",
     "output_type": "stream",
     "text": [
      "regularization_factors, val_score: 0.342478:  65%|6| 13/20 [00:08<00:04,  1.48i\u001b[32m[I 2021-06-13 10:12:11,441]\u001b[0m Trial 52 finished with value: 0.3429567614608546 and parameters: {'lambda_l1': 0.015481160330176255, 'lambda_l2': 2.2480308861892106e-06}. Best is trial 43 with value: 0.34247803270496535.\u001b[0m\n",
      "regularization_factors, val_score: 0.342478:  65%|6| 13/20 [00:08<00:04,  1.48i"
     ]
    },
    {
     "name": "stdout",
     "output_type": "stream",
     "text": [
      "[500]\ttrain's multi_logloss: 0.301493\teval's multi_logloss: 0.344108\n",
      "Early stopping, best iteration is:\n",
      "[470]\ttrain's multi_logloss: 0.305407\teval's multi_logloss: 0.342957\n",
      "Training until validation scores don't improve for 100 rounds\n",
      "[100]\ttrain's multi_logloss: 0.415577\teval's multi_logloss: 0.40954\n",
      "[200]\ttrain's multi_logloss: 0.371206\teval's multi_logloss: 0.368775\n",
      "[300]\ttrain's multi_logloss: 0.353359\teval's multi_logloss: 0.35733\n",
      "[400]\ttrain's multi_logloss: 0.342962\teval's multi_logloss: 0.35167\n",
      "[500]\ttrain's multi_logloss: 0.335658\teval's multi_logloss: 0.349307\n",
      "[600]\ttrain's multi_logloss: 0.330334\teval's multi_logloss: 0.347814\n",
      "[700]\ttrain's multi_logloss: 0.326125\teval's multi_logloss: 0.346953\n",
      "[800]\ttrain's multi_logloss: 0.322734\teval's multi_logloss: 0.346758\n",
      "Early stopping, best iteration is:\n",
      "[735]\ttrain's multi_logloss: 0.324891\teval's multi_logloss: 0.346746\n"
     ]
    },
    {
     "name": "stderr",
     "output_type": "stream",
     "text": [
      "regularization_factors, val_score: 0.342478:  70%|7| 14/20 [00:09<00:04,  1.32i\u001b[32m[I 2021-06-13 10:12:12,399]\u001b[0m Trial 53 finished with value: 0.3467455185677491 and parameters: {'lambda_l1': 3.8631659797421762, 'lambda_l2': 0.001098867086858256}. Best is trial 43 with value: 0.34247803270496535.\u001b[0m\n",
      "regularization_factors, val_score: 0.342478:  70%|7| 14/20 [00:09<00:04,  1.32i"
     ]
    },
    {
     "name": "stdout",
     "output_type": "stream",
     "text": [
      "Training until validation scores don't improve for 100 rounds\n",
      "[100]\ttrain's multi_logloss: 0.403522\teval's multi_logloss: 0.396671\n",
      "[200]\ttrain's multi_logloss: 0.354875\teval's multi_logloss: 0.355877\n",
      "[300]\ttrain's multi_logloss: 0.333737\teval's multi_logloss: 0.347577\n",
      "[400]\ttrain's multi_logloss: 0.319393\teval's multi_logloss: 0.344565\n",
      "[500]\ttrain's multi_logloss: 0.30719\teval's multi_logloss: 0.343002\n"
     ]
    },
    {
     "name": "stderr",
     "output_type": "stream",
     "text": [
      "regularization_factors, val_score: 0.342478:  75%|7| 15/20 [00:10<00:03,  1.35i\u001b[32m[I 2021-06-13 10:12:13,095]\u001b[0m Trial 54 finished with value: 0.3427402777616912 and parameters: {'lambda_l1': 0.0018418453125090925, 'lambda_l2': 0.9427026117510408}. Best is trial 43 with value: 0.34247803270496535.\u001b[0m\n",
      "regularization_factors, val_score: 0.342478:  75%|7| 15/20 [00:10<00:03,  1.35i"
     ]
    },
    {
     "name": "stdout",
     "output_type": "stream",
     "text": [
      "[600]\ttrain's multi_logloss: 0.29771\teval's multi_logloss: 0.345185\n",
      "Early stopping, best iteration is:\n",
      "[530]\ttrain's multi_logloss: 0.30448\teval's multi_logloss: 0.34274\n",
      "Training until validation scores don't improve for 100 rounds\n",
      "[100]\ttrain's multi_logloss: 0.400829\teval's multi_logloss: 0.394089\n",
      "[200]\ttrain's multi_logloss: 0.352069\teval's multi_logloss: 0.354792\n",
      "[300]\ttrain's multi_logloss: 0.329943\teval's multi_logloss: 0.346691\n"
     ]
    },
    {
     "name": "stderr",
     "output_type": "stream",
     "text": [
      "\r",
      "regularization_factors, val_score: 0.342478:  75%|7| 15/20 [00:10<00:03,  1.35i"
     ]
    },
    {
     "name": "stdout",
     "output_type": "stream",
     "text": [
      "[400]\ttrain's multi_logloss: 0.314756\teval's multi_logloss: 0.344532\n",
      "[500]\ttrain's multi_logloss: 0.301453\teval's multi_logloss: 0.344036\n",
      "Early stopping, best iteration is:\n",
      "[470]\ttrain's multi_logloss: 0.305315\teval's multi_logloss: 0.34283\n"
     ]
    },
    {
     "name": "stderr",
     "output_type": "stream",
     "text": [
      "regularization_factors, val_score: 0.342478:  80%|8| 16/20 [00:10<00:02,  1.38i\u001b[32m[I 2021-06-13 10:12:13,782]\u001b[0m Trial 55 finished with value: 0.3428304324009828 and parameters: {'lambda_l1': 5.96773266039041e-06, 'lambda_l2': 1.8606197338588346e-06}. Best is trial 43 with value: 0.34247803270496535.\u001b[0m\n",
      "regularization_factors, val_score: 0.342478:  80%|8| 16/20 [00:10<00:02,  1.38i"
     ]
    },
    {
     "name": "stdout",
     "output_type": "stream",
     "text": [
      "Training until validation scores don't improve for 100 rounds\n",
      "[100]\ttrain's multi_logloss: 0.400916\teval's multi_logloss: 0.394268\n",
      "[200]\ttrain's multi_logloss: 0.352007\teval's multi_logloss: 0.354828\n",
      "[300]\ttrain's multi_logloss: 0.329942\teval's multi_logloss: 0.346769\n",
      "[400]\ttrain's multi_logloss: 0.314791\teval's multi_logloss: 0.34463\n"
     ]
    },
    {
     "name": "stderr",
     "output_type": "stream",
     "text": [
      "regularization_factors, val_score: 0.342478:  85%|8| 17/20 [00:11<00:02,  1.43i\u001b[32m[I 2021-06-13 10:12:14,417]\u001b[0m Trial 56 finished with value: 0.3425785854800155 and parameters: {'lambda_l1': 1.6779556006415093e-08, 'lambda_l2': 0.04448674410234984}. Best is trial 43 with value: 0.34247803270496535.\u001b[0m\n",
      "regularization_factors, val_score: 0.342478:  85%|8| 17/20 [00:11<00:02,  1.43i"
     ]
    },
    {
     "name": "stdout",
     "output_type": "stream",
     "text": [
      "[500]\ttrain's multi_logloss: 0.301486\teval's multi_logloss: 0.343786\n",
      "Early stopping, best iteration is:\n",
      "[470]\ttrain's multi_logloss: 0.305325\teval's multi_logloss: 0.342579\n",
      "Training until validation scores don't improve for 100 rounds\n",
      "[100]\ttrain's multi_logloss: 0.400989\teval's multi_logloss: 0.394457\n",
      "[200]\ttrain's multi_logloss: 0.352182\teval's multi_logloss: 0.354989\n",
      "[300]\ttrain's multi_logloss: 0.330233\teval's multi_logloss: 0.347099\n",
      "[400]\ttrain's multi_logloss: 0.315086\teval's multi_logloss: 0.344662\n",
      "[500]\ttrain's multi_logloss: 0.301766\teval's multi_logloss: 0.344134\n",
      "Early stopping, best iteration is:\n",
      "[470]\ttrain's multi_logloss: 0.305629\teval's multi_logloss: 0.342879\n"
     ]
    },
    {
     "name": "stderr",
     "output_type": "stream",
     "text": [
      "regularization_factors, val_score: 0.342478:  90%|9| 18/20 [00:12<00:01,  1.47i\u001b[32m[I 2021-06-13 10:12:15,061]\u001b[0m Trial 57 finished with value: 0.3428787877088375 and parameters: {'lambda_l1': 4.566549210274351e-08, 'lambda_l2': 0.06746323146063685}. Best is trial 43 with value: 0.34247803270496535.\u001b[0m\n",
      "regularization_factors, val_score: 0.342478:  90%|9| 18/20 [00:12<00:01,  1.47i"
     ]
    },
    {
     "name": "stdout",
     "output_type": "stream",
     "text": [
      "Training until validation scores don't improve for 100 rounds\n",
      "[100]\ttrain's multi_logloss: 0.41948\teval's multi_logloss: 0.411735\n",
      "[200]\ttrain's multi_logloss: 0.368708\teval's multi_logloss: 0.366273\n",
      "[300]\ttrain's multi_logloss: 0.348002\teval's multi_logloss: 0.354852\n",
      "[400]\ttrain's multi_logloss: 0.335122\teval's multi_logloss: 0.348482\n",
      "[500]\ttrain's multi_logloss: 0.325469\teval's multi_logloss: 0.346122\n",
      "[600]\ttrain's multi_logloss: 0.317464\teval's multi_logloss: 0.345529\n",
      "[700]\ttrain's multi_logloss: 0.310478\teval's multi_logloss: 0.344148\n"
     ]
    },
    {
     "name": "stderr",
     "output_type": "stream",
     "text": [
      "regularization_factors, val_score: 0.342478:  95%|9| 19/20 [00:13<00:00,  1.28i\u001b[32m[I 2021-06-13 10:12:16,062]\u001b[0m Trial 58 finished with value: 0.34409316679593177 and parameters: {'lambda_l1': 1.6661528131342258e-08, 'lambda_l2': 7.576499724273009}. Best is trial 43 with value: 0.34247803270496535.\u001b[0m\n",
      "regularization_factors, val_score: 0.342478:  95%|9| 19/20 [00:13<00:00,  1.28i"
     ]
    },
    {
     "name": "stdout",
     "output_type": "stream",
     "text": [
      "[800]\ttrain's multi_logloss: 0.304235\teval's multi_logloss: 0.345132\n",
      "Early stopping, best iteration is:\n",
      "[720]\ttrain's multi_logloss: 0.309263\teval's multi_logloss: 0.344093\n",
      "Training until validation scores don't improve for 100 rounds\n",
      "[100]\ttrain's multi_logloss: 0.400838\teval's multi_logloss: 0.394101\n",
      "[200]\ttrain's multi_logloss: 0.352078\teval's multi_logloss: 0.354799\n",
      "[300]\ttrain's multi_logloss: 0.329955\teval's multi_logloss: 0.346697\n"
     ]
    },
    {
     "name": "stderr",
     "output_type": "stream",
     "text": [
      "\r",
      "regularization_factors, val_score: 0.342478:  95%|9| 19/20 [00:13<00:00,  1.28i"
     ]
    },
    {
     "name": "stdout",
     "output_type": "stream",
     "text": [
      "[400]\ttrain's multi_logloss: 0.314792\teval's multi_logloss: 0.344437\n",
      "[500]\ttrain's multi_logloss: 0.301387\teval's multi_logloss: 0.343794\n",
      "Early stopping, best iteration is:\n",
      "[470]\ttrain's multi_logloss: 0.305322\teval's multi_logloss: 0.342573\n"
     ]
    },
    {
     "name": "stderr",
     "output_type": "stream",
     "text": [
      "regularization_factors, val_score: 0.342478: 100%|#| 20/20 [00:13<00:00,  1.36i\u001b[32m[I 2021-06-13 10:12:16,695]\u001b[0m Trial 59 finished with value: 0.34257317204779836 and parameters: {'lambda_l1': 1.6613688264015874e-05, 'lambda_l2': 0.002183111366883565}. Best is trial 43 with value: 0.34247803270496535.\u001b[0m\n",
      "regularization_factors, val_score: 0.342478: 100%|#| 20/20 [00:13<00:00,  1.44i\n",
      "min_data_in_leaf, val_score: 0.342478:   0%|             | 0/5 [00:00<?, ?it/s]"
     ]
    },
    {
     "name": "stdout",
     "output_type": "stream",
     "text": [
      "Training until validation scores don't improve for 100 rounds\n",
      "[100]\ttrain's multi_logloss: 0.405777\teval's multi_logloss: 0.402186\n",
      "[200]\ttrain's multi_logloss: 0.359039\teval's multi_logloss: 0.361668\n",
      "[300]\ttrain's multi_logloss: 0.337363\teval's multi_logloss: 0.351903\n",
      "[400]\ttrain's multi_logloss: 0.323362\teval's multi_logloss: 0.348273\n"
     ]
    },
    {
     "name": "stderr",
     "output_type": "stream",
     "text": [
      "min_data_in_leaf, val_score: 0.342478:  20%|#    | 1/5 [00:00<00:02,  1.39it/s]\u001b[32m[I 2021-06-13 10:12:17,431]\u001b[0m Trial 60 finished with value: 0.3461887595868809 and parameters: {'min_child_samples': 50}. Best is trial 60 with value: 0.3461887595868809.\u001b[0m\n",
      "min_data_in_leaf, val_score: 0.342478:  20%|#    | 1/5 [00:00<00:02,  1.39it/s]"
     ]
    },
    {
     "name": "stdout",
     "output_type": "stream",
     "text": [
      "[500]\ttrain's multi_logloss: 0.311283\teval's multi_logloss: 0.346751\n",
      "Early stopping, best iteration is:\n",
      "[490]\ttrain's multi_logloss: 0.312417\teval's multi_logloss: 0.346189\n",
      "Training until validation scores don't improve for 100 rounds\n",
      "[100]\ttrain's multi_logloss: 0.415795\teval's multi_logloss: 0.414141\n",
      "[200]\ttrain's multi_logloss: 0.368861\teval's multi_logloss: 0.373702\n",
      "[300]\ttrain's multi_logloss: 0.346679\teval's multi_logloss: 0.359573\n",
      "[400]\ttrain's multi_logloss: 0.333148\teval's multi_logloss: 0.353061\n",
      "[500]\ttrain's multi_logloss: 0.322824\teval's multi_logloss: 0.350412\n",
      "[600]\ttrain's multi_logloss: 0.314886\teval's multi_logloss: 0.350184\n"
     ]
    },
    {
     "name": "stderr",
     "output_type": "stream",
     "text": [
      "min_data_in_leaf, val_score: 0.342478:  40%|##   | 2/5 [00:01<00:02,  1.44it/s]\u001b[32m[I 2021-06-13 10:12:18,109]\u001b[0m Trial 61 finished with value: 0.3495273339542926 and parameters: {'min_child_samples': 100}. Best is trial 60 with value: 0.3461887595868809.\u001b[0m\n",
      "min_data_in_leaf, val_score: 0.342478:  40%|##   | 2/5 [00:01<00:02,  1.44it/s]"
     ]
    },
    {
     "name": "stdout",
     "output_type": "stream",
     "text": [
      "Early stopping, best iteration is:\n",
      "[535]\ttrain's multi_logloss: 0.31995\teval's multi_logloss: 0.349527\n",
      "Training until validation scores don't improve for 100 rounds\n",
      "[100]\ttrain's multi_logloss: 0.401616\teval's multi_logloss: 0.394685\n",
      "[200]\ttrain's multi_logloss: 0.353083\teval's multi_logloss: 0.355541\n",
      "[300]\ttrain's multi_logloss: 0.331321\teval's multi_logloss: 0.348417\n",
      "[400]\ttrain's multi_logloss: 0.316511\teval's multi_logloss: 0.345598\n",
      "[500]\ttrain's multi_logloss: 0.303723\teval's multi_logloss: 0.344744\n",
      "Early stopping, best iteration is:\n",
      "[470]\ttrain's multi_logloss: 0.307339\teval's multi_logloss: 0.34354\n"
     ]
    },
    {
     "name": "stderr",
     "output_type": "stream",
     "text": [
      "min_data_in_leaf, val_score: 0.342478:  60%|###  | 3/5 [00:02<00:01,  1.52it/s]\u001b[32m[I 2021-06-13 10:12:18,724]\u001b[0m Trial 62 finished with value: 0.34353990009559626 and parameters: {'min_child_samples': 25}. Best is trial 62 with value: 0.34353990009559626.\u001b[0m\n",
      "min_data_in_leaf, val_score: 0.342478:  60%|###  | 3/5 [00:02<00:01,  1.52it/s]"
     ]
    },
    {
     "name": "stdout",
     "output_type": "stream",
     "text": [
      "Training until validation scores don't improve for 100 rounds\n",
      "[100]\ttrain's multi_logloss: 0.399022\teval's multi_logloss: 0.393687\n",
      "[200]\ttrain's multi_logloss: 0.348914\teval's multi_logloss: 0.353402\n",
      "[300]\ttrain's multi_logloss: 0.325251\teval's multi_logloss: 0.34656\n"
     ]
    },
    {
     "name": "stderr",
     "output_type": "stream",
     "text": [
      "min_data_in_leaf, val_score: 0.342478:  80%|#### | 4/5 [00:02<00:00,  1.58it/s]\u001b[32m[I 2021-06-13 10:12:19,310]\u001b[0m Trial 63 finished with value: 0.3451605907884283 and parameters: {'min_child_samples': 5}. Best is trial 62 with value: 0.34353990009559626.\u001b[0m\n",
      "min_data_in_leaf, val_score: 0.342478:  80%|#### | 4/5 [00:02<00:00,  1.58it/s]"
     ]
    },
    {
     "name": "stdout",
     "output_type": "stream",
     "text": [
      "[400]\ttrain's multi_logloss: 0.309042\teval's multi_logloss: 0.34612\n",
      "Early stopping, best iteration is:\n",
      "[375]\ttrain's multi_logloss: 0.312631\teval's multi_logloss: 0.345161\n",
      "Training until validation scores don't improve for 100 rounds\n",
      "[100]\ttrain's multi_logloss: 0.399682\teval's multi_logloss: 0.393434\n",
      "[200]\ttrain's multi_logloss: 0.349825\teval's multi_logloss: 0.352638\n",
      "[300]\ttrain's multi_logloss: 0.326814\teval's multi_logloss: 0.345705\n"
     ]
    },
    {
     "name": "stderr",
     "output_type": "stream",
     "text": [
      "min_data_in_leaf, val_score: 0.342478: 100%|#####| 5/5 [00:03<00:00,  1.67it/s]\u001b[32m[I 2021-06-13 10:12:19,845]\u001b[0m Trial 64 finished with value: 0.3444693123374412 and parameters: {'min_child_samples': 10}. Best is trial 62 with value: 0.34353990009559626.\u001b[0m\n",
      "min_data_in_leaf, val_score: 0.342478: 100%|#####| 5/5 [00:03<00:00,  1.59it/s]\n",
      "\u001b[32m[I 2021-06-13 10:12:19,905]\u001b[0m A new study created in memory with name: no-name-23405df9-2233-46d3-892b-c8e569590592\u001b[0m\n",
      "feature_fraction, val_score: inf:   0%|                  | 0/7 [00:00<?, ?it/s]"
     ]
    },
    {
     "name": "stdout",
     "output_type": "stream",
     "text": [
      "[400]\ttrain's multi_logloss: 0.31041\teval's multi_logloss: 0.345551\n",
      "Early stopping, best iteration is:\n",
      "[379]\ttrain's multi_logloss: 0.313397\teval's multi_logloss: 0.344469\n",
      "Training until validation scores don't improve for 100 rounds\n",
      "[100]\ttrain's multi_logloss: 0.483765\teval's multi_logloss: 0.549818\n",
      "[200]\ttrain's multi_logloss: 0.392999\teval's multi_logloss: 0.50598\n",
      "[300]\ttrain's multi_logloss: 0.332464\teval's multi_logloss: 0.479972\n",
      "[400]\ttrain's multi_logloss: 0.283325\teval's multi_logloss: 0.462788\n",
      "[500]\ttrain's multi_logloss: 0.246943\teval's multi_logloss: 0.453166\n",
      "[600]\ttrain's multi_logloss: 0.21351\teval's multi_logloss: 0.444854\n",
      "[700]\ttrain's multi_logloss: 0.186828\teval's multi_logloss: 0.442973\n",
      "[800]\ttrain's multi_logloss: 0.164536\teval's multi_logloss: 0.444336\n",
      "Early stopping, best iteration is:\n",
      "[728]\ttrain's multi_logloss: 0.179816\teval's multi_logloss: 0.442173\n"
     ]
    },
    {
     "name": "stderr",
     "output_type": "stream",
     "text": [
      "feature_fraction, val_score: 0.442173:  14%|7    | 1/7 [00:02<00:15,  2.62s/it]\u001b[32m[I 2021-06-13 10:12:22,527]\u001b[0m Trial 0 finished with value: 0.44217262173629257 and parameters: {'feature_fraction': 0.4}. Best is trial 0 with value: 0.44217262173629257.\u001b[0m\n",
      "feature_fraction, val_score: 0.442173:  14%|7    | 1/7 [00:02<00:15,  2.62s/it]"
     ]
    },
    {
     "name": "stdout",
     "output_type": "stream",
     "text": [
      "Training until validation scores don't improve for 100 rounds\n",
      "[100]\ttrain's multi_logloss: 0.336864\teval's multi_logloss: 0.392789\n",
      "[200]\ttrain's multi_logloss: 0.246222\teval's multi_logloss: 0.363713\n"
     ]
    },
    {
     "name": "stderr",
     "output_type": "stream",
     "text": [
      "feature_fraction, val_score: 0.363713:  29%|#4   | 2/7 [00:03<00:08,  1.77s/it]\u001b[32m[I 2021-06-13 10:12:23,709]\u001b[0m Trial 1 finished with value: 0.36371254784101426 and parameters: {'feature_fraction': 1.0}. Best is trial 1 with value: 0.36371254784101426.\u001b[0m\n",
      "feature_fraction, val_score: 0.363713:  29%|#4   | 2/7 [00:03<00:08,  1.77s/it]"
     ]
    },
    {
     "name": "stdout",
     "output_type": "stream",
     "text": [
      "[300]\ttrain's multi_logloss: 0.187461\teval's multi_logloss: 0.372993\n",
      "Early stopping, best iteration is:\n",
      "[200]\ttrain's multi_logloss: 0.246222\teval's multi_logloss: 0.363713\n",
      "Training until validation scores don't improve for 100 rounds\n",
      "[100]\ttrain's multi_logloss: 0.364001\teval's multi_logloss: 0.41608\n",
      "[200]\ttrain's multi_logloss: 0.267114\teval's multi_logloss: 0.371177\n",
      "[300]\ttrain's multi_logloss: 0.21022\teval's multi_logloss: 0.366446\n",
      "[400]\ttrain's multi_logloss: 0.168675\teval's multi_logloss: 0.372678\n",
      "Early stopping, best iteration is:\n",
      "[305]\ttrain's multi_logloss: 0.207624\teval's multi_logloss: 0.36621\n"
     ]
    },
    {
     "name": "stderr",
     "output_type": "stream",
     "text": [
      "feature_fraction, val_score: 0.363713:  43%|##1  | 3/7 [00:05<00:06,  1.58s/it]\u001b[32m[I 2021-06-13 10:12:25,072]\u001b[0m Trial 2 finished with value: 0.3662099019000064 and parameters: {'feature_fraction': 0.7}. Best is trial 1 with value: 0.36371254784101426.\u001b[0m\n",
      "feature_fraction, val_score: 0.363713:  43%|##1  | 3/7 [00:05<00:06,  1.58s/it]"
     ]
    },
    {
     "name": "stdout",
     "output_type": "stream",
     "text": [
      "Training until validation scores don't improve for 100 rounds\n",
      "[100]\ttrain's multi_logloss: 0.350243\teval's multi_logloss: 0.404597\n",
      "[200]\ttrain's multi_logloss: 0.255928\teval's multi_logloss: 0.368004\n",
      "[300]\ttrain's multi_logloss: 0.198148\teval's multi_logloss: 0.366684\n",
      "Early stopping, best iteration is:\n",
      "[270]\ttrain's multi_logloss: 0.213799\teval's multi_logloss: 0.365694\n"
     ]
    },
    {
     "name": "stderr",
     "output_type": "stream",
     "text": [
      "feature_fraction, val_score: 0.363713:  57%|##8  | 4/7 [00:06<00:04,  1.50s/it]\u001b[32m[I 2021-06-13 10:12:26,445]\u001b[0m Trial 3 finished with value: 0.3656943645639018 and parameters: {'feature_fraction': 0.8}. Best is trial 1 with value: 0.36371254784101426.\u001b[0m\n",
      "feature_fraction, val_score: 0.363713:  57%|##8  | 4/7 [00:06<00:04,  1.50s/it]"
     ]
    },
    {
     "name": "stdout",
     "output_type": "stream",
     "text": [
      "Training until validation scores don't improve for 100 rounds\n",
      "[100]\ttrain's multi_logloss: 0.381127\teval's multi_logloss: 0.430084\n",
      "[200]\ttrain's multi_logloss: 0.284384\teval's multi_logloss: 0.378444\n",
      "[300]\ttrain's multi_logloss: 0.226521\teval's multi_logloss: 0.366542\n",
      "[400]\ttrain's multi_logloss: 0.186435\teval's multi_logloss: 0.367181\n",
      "Early stopping, best iteration is:\n",
      "[356]\ttrain's multi_logloss: 0.203218\teval's multi_logloss: 0.365093\n"
     ]
    },
    {
     "name": "stderr",
     "output_type": "stream",
     "text": [
      "feature_fraction, val_score: 0.363713:  71%|###5 | 5/7 [00:08<00:03,  1.53s/it]\u001b[32m[I 2021-06-13 10:12:28,025]\u001b[0m Trial 4 finished with value: 0.36509274076568765 and parameters: {'feature_fraction': 0.5}. Best is trial 1 with value: 0.36371254784101426.\u001b[0m\n",
      "feature_fraction, val_score: 0.363713:  71%|###5 | 5/7 [00:08<00:03,  1.53s/it]"
     ]
    },
    {
     "name": "stdout",
     "output_type": "stream",
     "text": [
      "Training until validation scores don't improve for 100 rounds\n",
      "[100]\ttrain's multi_logloss: 0.341504\teval's multi_logloss: 0.397872\n",
      "[200]\ttrain's multi_logloss: 0.249744\teval's multi_logloss: 0.366796\n",
      "[300]\ttrain's multi_logloss: 0.191512\teval's multi_logloss: 0.367654\n",
      "Early stopping, best iteration is:\n",
      "[217]\ttrain's multi_logloss: 0.23836\teval's multi_logloss: 0.366397\n"
     ]
    },
    {
     "name": "stderr",
     "output_type": "stream",
     "text": [
      "feature_fraction, val_score: 0.363713:  86%|####2| 6/7 [00:09<00:01,  1.39s/it]\u001b[32m[I 2021-06-13 10:12:29,157]\u001b[0m Trial 5 finished with value: 0.36639724346693003 and parameters: {'feature_fraction': 0.8999999999999999}. Best is trial 1 with value: 0.36371254784101426.\u001b[0m\n",
      "feature_fraction, val_score: 0.363713:  86%|####2| 6/7 [00:09<00:01,  1.39s/it]"
     ]
    },
    {
     "name": "stdout",
     "output_type": "stream",
     "text": [
      "Training until validation scores don't improve for 100 rounds\n",
      "[100]\ttrain's multi_logloss: 0.381127\teval's multi_logloss: 0.430084\n",
      "[200]\ttrain's multi_logloss: 0.284384\teval's multi_logloss: 0.378444\n",
      "[300]\ttrain's multi_logloss: 0.226521\teval's multi_logloss: 0.366542\n",
      "[400]\ttrain's multi_logloss: 0.186435\teval's multi_logloss: 0.367181\n",
      "Early stopping, best iteration is:\n",
      "[356]\ttrain's multi_logloss: 0.203218\teval's multi_logloss: 0.365093\n"
     ]
    },
    {
     "name": "stderr",
     "output_type": "stream",
     "text": [
      "feature_fraction, val_score: 0.363713: 100%|#####| 7/7 [00:10<00:00,  1.45s/it]\u001b[32m[I 2021-06-13 10:12:30,701]\u001b[0m Trial 6 finished with value: 0.36509274076568765 and parameters: {'feature_fraction': 0.6}. Best is trial 1 with value: 0.36371254784101426.\u001b[0m\n",
      "feature_fraction, val_score: 0.363713: 100%|#####| 7/7 [00:10<00:00,  1.54s/it]\n",
      "num_leaves, val_score: 0.363713:   0%|                  | 0/20 [00:00<?, ?it/s]"
     ]
    },
    {
     "name": "stdout",
     "output_type": "stream",
     "text": [
      "Training until validation scores don't improve for 100 rounds\n",
      "[100]\ttrain's multi_logloss: 0.336864\teval's multi_logloss: 0.392789\n",
      "[200]\ttrain's multi_logloss: 0.246232\teval's multi_logloss: 0.363725\n"
     ]
    },
    {
     "name": "stderr",
     "output_type": "stream",
     "text": [
      "num_leaves, val_score: 0.363713:   5%|5         | 1/20 [00:01<00:22,  1.21s/it]\u001b[32m[I 2021-06-13 10:12:31,927]\u001b[0m Trial 7 finished with value: 0.3637246358386285 and parameters: {'num_leaves': 102}. Best is trial 7 with value: 0.3637246358386285.\u001b[0m\n",
      "num_leaves, val_score: 0.363713:   5%|5         | 1/20 [00:01<00:22,  1.21s/it]"
     ]
    },
    {
     "name": "stdout",
     "output_type": "stream",
     "text": [
      "[300]\ttrain's multi_logloss: 0.187857\teval's multi_logloss: 0.372727\n",
      "Early stopping, best iteration is:\n",
      "[200]\ttrain's multi_logloss: 0.246232\teval's multi_logloss: 0.363725\n",
      "Training until validation scores don't improve for 100 rounds\n",
      "[100]\ttrain's multi_logloss: 0.336864\teval's multi_logloss: 0.392789\n",
      "[200]\ttrain's multi_logloss: 0.246232\teval's multi_logloss: 0.363725\n"
     ]
    },
    {
     "name": "stderr",
     "output_type": "stream",
     "text": [
      "num_leaves, val_score: 0.363713:  10%|#         | 2/20 [00:02<00:20,  1.16s/it]\u001b[32m[I 2021-06-13 10:12:33,059]\u001b[0m Trial 8 finished with value: 0.3637246358386285 and parameters: {'num_leaves': 148}. Best is trial 7 with value: 0.3637246358386285.\u001b[0m\n",
      "num_leaves, val_score: 0.363713:  10%|#         | 2/20 [00:02<00:20,  1.16s/it]"
     ]
    },
    {
     "name": "stdout",
     "output_type": "stream",
     "text": [
      "[300]\ttrain's multi_logloss: 0.187857\teval's multi_logloss: 0.372727\n",
      "Early stopping, best iteration is:\n",
      "[200]\ttrain's multi_logloss: 0.246232\teval's multi_logloss: 0.363725\n",
      "Training until validation scores don't improve for 100 rounds\n",
      "[100]\ttrain's multi_logloss: 0.336864\teval's multi_logloss: 0.392789\n",
      "[200]\ttrain's multi_logloss: 0.246232\teval's multi_logloss: 0.363725\n"
     ]
    },
    {
     "name": "stderr",
     "output_type": "stream",
     "text": [
      "num_leaves, val_score: 0.363713:  15%|#5        | 3/20 [00:03<00:20,  1.19s/it]\u001b[32m[I 2021-06-13 10:12:34,280]\u001b[0m Trial 9 finished with value: 0.3637246358386285 and parameters: {'num_leaves': 181}. Best is trial 7 with value: 0.3637246358386285.\u001b[0m\n",
      "num_leaves, val_score: 0.363713:  15%|#5        | 3/20 [00:03<00:20,  1.19s/it]"
     ]
    },
    {
     "name": "stdout",
     "output_type": "stream",
     "text": [
      "[300]\ttrain's multi_logloss: 0.187857\teval's multi_logloss: 0.372727\n",
      "Early stopping, best iteration is:\n",
      "[200]\ttrain's multi_logloss: 0.246232\teval's multi_logloss: 0.363725\n",
      "Training until validation scores don't improve for 100 rounds\n",
      "[100]\ttrain's multi_logloss: 0.336864\teval's multi_logloss: 0.392789\n",
      "[200]\ttrain's multi_logloss: 0.246232\teval's multi_logloss: 0.363725\n"
     ]
    },
    {
     "name": "stderr",
     "output_type": "stream",
     "text": [
      "num_leaves, val_score: 0.363713:  20%|##        | 4/20 [00:04<00:19,  1.20s/it]\u001b[32m[I 2021-06-13 10:12:35,491]\u001b[0m Trial 10 finished with value: 0.3637246358386285 and parameters: {'num_leaves': 180}. Best is trial 7 with value: 0.3637246358386285.\u001b[0m\n",
      "num_leaves, val_score: 0.363713:  20%|##        | 4/20 [00:04<00:19,  1.20s/it]"
     ]
    },
    {
     "name": "stdout",
     "output_type": "stream",
     "text": [
      "[300]\ttrain's multi_logloss: 0.187857\teval's multi_logloss: 0.372727\n",
      "Early stopping, best iteration is:\n",
      "[200]\ttrain's multi_logloss: 0.246232\teval's multi_logloss: 0.363725\n",
      "Training until validation scores don't improve for 100 rounds\n",
      "[100]\ttrain's multi_logloss: 0.336864\teval's multi_logloss: 0.392789\n",
      "[200]\ttrain's multi_logloss: 0.246232\teval's multi_logloss: 0.363725\n"
     ]
    },
    {
     "name": "stderr",
     "output_type": "stream",
     "text": [
      "num_leaves, val_score: 0.363713:  25%|##5       | 5/20 [00:05<00:17,  1.16s/it]\u001b[32m[I 2021-06-13 10:12:36,570]\u001b[0m Trial 11 finished with value: 0.36372462367679853 and parameters: {'num_leaves': 45}. Best is trial 11 with value: 0.36372462367679853.\u001b[0m\n",
      "num_leaves, val_score: 0.363713:  25%|##5       | 5/20 [00:05<00:17,  1.16s/it]"
     ]
    },
    {
     "name": "stdout",
     "output_type": "stream",
     "text": [
      "[300]\ttrain's multi_logloss: 0.187857\teval's multi_logloss: 0.372727\n",
      "Early stopping, best iteration is:\n",
      "[200]\ttrain's multi_logloss: 0.246232\teval's multi_logloss: 0.363725\n",
      "Training until validation scores don't improve for 100 rounds\n",
      "[100]\ttrain's multi_logloss: 0.336864\teval's multi_logloss: 0.392789\n",
      "[200]\ttrain's multi_logloss: 0.246232\teval's multi_logloss: 0.363725\n"
     ]
    },
    {
     "name": "stderr",
     "output_type": "stream",
     "text": [
      "num_leaves, val_score: 0.363713:  30%|###       | 6/20 [00:07<00:16,  1.18s/it]\u001b[32m[I 2021-06-13 10:12:37,800]\u001b[0m Trial 12 finished with value: 0.3637246358386285 and parameters: {'num_leaves': 189}. Best is trial 11 with value: 0.36372462367679853.\u001b[0m\n",
      "num_leaves, val_score: 0.363713:  30%|###       | 6/20 [00:07<00:16,  1.18s/it]"
     ]
    },
    {
     "name": "stdout",
     "output_type": "stream",
     "text": [
      "[300]\ttrain's multi_logloss: 0.187857\teval's multi_logloss: 0.372727\n",
      "Early stopping, best iteration is:\n",
      "[200]\ttrain's multi_logloss: 0.246232\teval's multi_logloss: 0.363725\n",
      "Training until validation scores don't improve for 100 rounds\n",
      "[100]\ttrain's multi_logloss: 0.336864\teval's multi_logloss: 0.392789\n",
      "[200]\ttrain's multi_logloss: 0.246232\teval's multi_logloss: 0.363725\n"
     ]
    },
    {
     "name": "stderr",
     "output_type": "stream",
     "text": [
      "num_leaves, val_score: 0.363713:  35%|###5      | 7/20 [00:08<00:15,  1.16s/it]\u001b[32m[I 2021-06-13 10:12:38,900]\u001b[0m Trial 13 finished with value: 0.3637246358386285 and parameters: {'num_leaves': 75}. Best is trial 11 with value: 0.36372462367679853.\u001b[0m\n",
      "num_leaves, val_score: 0.363713:  35%|###5      | 7/20 [00:08<00:15,  1.16s/it]"
     ]
    },
    {
     "name": "stdout",
     "output_type": "stream",
     "text": [
      "[300]\ttrain's multi_logloss: 0.187857\teval's multi_logloss: 0.372727\n",
      "Early stopping, best iteration is:\n",
      "[200]\ttrain's multi_logloss: 0.246232\teval's multi_logloss: 0.363725\n",
      "Training until validation scores don't improve for 100 rounds\n",
      "[100]\ttrain's multi_logloss: 0.336864\teval's multi_logloss: 0.392789\n",
      "[200]\ttrain's multi_logloss: 0.246232\teval's multi_logloss: 0.363725\n"
     ]
    },
    {
     "name": "stderr",
     "output_type": "stream",
     "text": [
      "num_leaves, val_score: 0.363713:  40%|####      | 8/20 [00:09<00:13,  1.16s/it]\u001b[32m[I 2021-06-13 10:12:40,071]\u001b[0m Trial 14 finished with value: 0.3637246358386285 and parameters: {'num_leaves': 67}. Best is trial 11 with value: 0.36372462367679853.\u001b[0m\n",
      "num_leaves, val_score: 0.363713:  40%|####      | 8/20 [00:09<00:13,  1.16s/it]"
     ]
    },
    {
     "name": "stdout",
     "output_type": "stream",
     "text": [
      "[300]\ttrain's multi_logloss: 0.187857\teval's multi_logloss: 0.372727\n",
      "Early stopping, best iteration is:\n",
      "[200]\ttrain's multi_logloss: 0.246232\teval's multi_logloss: 0.363725\n",
      "Training until validation scores don't improve for 100 rounds\n",
      "[100]\ttrain's multi_logloss: 0.336864\teval's multi_logloss: 0.392789\n",
      "[200]\ttrain's multi_logloss: 0.246232\teval's multi_logloss: 0.363725\n"
     ]
    },
    {
     "name": "stderr",
     "output_type": "stream",
     "text": [
      "\r",
      "num_leaves, val_score: 0.363713:  40%|####      | 8/20 [00:10<00:13,  1.16s/it]"
     ]
    },
    {
     "name": "stdout",
     "output_type": "stream",
     "text": [
      "[300]\ttrain's multi_logloss: 0.187857\teval's multi_logloss: 0.372727\n",
      "Early stopping, best iteration is:\n",
      "[200]\ttrain's multi_logloss: 0.246232\teval's multi_logloss: 0.363725\n"
     ]
    },
    {
     "name": "stderr",
     "output_type": "stream",
     "text": [
      "num_leaves, val_score: 0.363713:  45%|####5     | 9/20 [00:10<00:12,  1.18s/it]\u001b[32m[I 2021-06-13 10:12:41,302]\u001b[0m Trial 15 finished with value: 0.3637246358386285 and parameters: {'num_leaves': 215}. Best is trial 11 with value: 0.36372462367679853.\u001b[0m\n",
      "num_leaves, val_score: 0.363713:  45%|####5     | 9/20 [00:10<00:12,  1.18s/it]"
     ]
    },
    {
     "name": "stdout",
     "output_type": "stream",
     "text": [
      "Training until validation scores don't improve for 100 rounds\n",
      "[100]\ttrain's multi_logloss: 0.336864\teval's multi_logloss: 0.392789\n",
      "[200]\ttrain's multi_logloss: 0.246232\teval's multi_logloss: 0.363725\n"
     ]
    },
    {
     "name": "stderr",
     "output_type": "stream",
     "text": [
      "num_leaves, val_score: 0.363713:  50%|####5    | 10/20 [00:11<00:11,  1.17s/it]\u001b[32m[I 2021-06-13 10:12:42,430]\u001b[0m Trial 16 finished with value: 0.3637246358386285 and parameters: {'num_leaves': 111}. Best is trial 11 with value: 0.36372462367679853.\u001b[0m\n",
      "num_leaves, val_score: 0.363713:  50%|####5    | 10/20 [00:11<00:11,  1.17s/it]"
     ]
    },
    {
     "name": "stdout",
     "output_type": "stream",
     "text": [
      "[300]\ttrain's multi_logloss: 0.187857\teval's multi_logloss: 0.372727\n",
      "Early stopping, best iteration is:\n",
      "[200]\ttrain's multi_logloss: 0.246232\teval's multi_logloss: 0.363725\n",
      "Training until validation scores don't improve for 100 rounds\n",
      "[100]\ttrain's multi_logloss: 0.374868\teval's multi_logloss: 0.393279\n",
      "[200]\ttrain's multi_logloss: 0.316904\teval's multi_logloss: 0.360053\n"
     ]
    },
    {
     "name": "stderr",
     "output_type": "stream",
     "text": [
      "\r",
      "num_leaves, val_score: 0.353952:  50%|####5    | 10/20 [00:12<00:11,  1.17s/it]"
     ]
    },
    {
     "name": "stdout",
     "output_type": "stream",
     "text": [
      "[300]\ttrain's multi_logloss: 0.288933\teval's multi_logloss: 0.355092\n",
      "[400]\ttrain's multi_logloss: 0.267376\teval's multi_logloss: 0.355315\n",
      "Early stopping, best iteration is:\n",
      "[335]\ttrain's multi_logloss: 0.280321\teval's multi_logloss: 0.353952\n"
     ]
    },
    {
     "name": "stderr",
     "output_type": "stream",
     "text": [
      "num_leaves, val_score: 0.353952:  55%|####9    | 11/20 [00:12<00:08,  1.01it/s]\u001b[32m[I 2021-06-13 10:12:43,015]\u001b[0m Trial 17 finished with value: 0.35395233468551623 and parameters: {'num_leaves': 7}. Best is trial 17 with value: 0.35395233468551623.\u001b[0m\n",
      "num_leaves, val_score: 0.353952:  55%|####9    | 11/20 [00:12<00:08,  1.01it/s]"
     ]
    },
    {
     "name": "stdout",
     "output_type": "stream",
     "text": [
      "Training until validation scores don't improve for 100 rounds\n",
      "[100]\ttrain's multi_logloss: 0.37059\teval's multi_logloss: 0.391468\n",
      "[200]\ttrain's multi_logloss: 0.310167\teval's multi_logloss: 0.358875\n",
      "[300]\ttrain's multi_logloss: 0.279827\teval's multi_logloss: 0.35334\n"
     ]
    },
    {
     "name": "stderr",
     "output_type": "stream",
     "text": [
      "num_leaves, val_score: 0.352956:  60%|#####3   | 12/20 [00:13<00:07,  1.11it/s]\u001b[32m[I 2021-06-13 10:12:43,712]\u001b[0m Trial 18 finished with value: 0.35295577484858254 and parameters: {'num_leaves': 8}. Best is trial 18 with value: 0.35295577484858254.\u001b[0m\n",
      "num_leaves, val_score: 0.352956:  60%|#####3   | 12/20 [00:13<00:07,  1.11it/s]"
     ]
    },
    {
     "name": "stdout",
     "output_type": "stream",
     "text": [
      "[400]\ttrain's multi_logloss: 0.256083\teval's multi_logloss: 0.353749\n",
      "Early stopping, best iteration is:\n",
      "[335]\ttrain's multi_logloss: 0.270502\teval's multi_logloss: 0.352956\n",
      "Training until validation scores don't improve for 100 rounds\n",
      "[100]\ttrain's multi_logloss: 0.363009\teval's multi_logloss: 0.390115\n",
      "[200]\ttrain's multi_logloss: 0.297678\teval's multi_logloss: 0.357169\n",
      "[300]\ttrain's multi_logloss: 0.263124\teval's multi_logloss: 0.353263\n",
      "[400]\ttrain's multi_logloss: 0.235775\teval's multi_logloss: 0.354294\n",
      "Early stopping, best iteration is:\n",
      "[350]\ttrain's multi_logloss: 0.249083\teval's multi_logloss: 0.35257\n"
     ]
    },
    {
     "name": "stderr",
     "output_type": "stream",
     "text": [
      "num_leaves, val_score: 0.352570:  65%|#####8   | 13/20 [00:13<00:06,  1.14it/s]\u001b[32m[I 2021-06-13 10:12:44,529]\u001b[0m Trial 19 finished with value: 0.35256977618444124 and parameters: {'num_leaves': 10}. Best is trial 19 with value: 0.35256977618444124.\u001b[0m\n",
      "num_leaves, val_score: 0.352570:  65%|#####8   | 13/20 [00:13<00:06,  1.14it/s]"
     ]
    },
    {
     "name": "stdout",
     "output_type": "stream",
     "text": [
      "Training until validation scores don't improve for 100 rounds\n",
      "[100]\ttrain's multi_logloss: 0.348378\teval's multi_logloss: 0.38973\n",
      "[200]\ttrain's multi_logloss: 0.272853\teval's multi_logloss: 0.357662\n",
      "[300]\ttrain's multi_logloss: 0.229181\teval's multi_logloss: 0.356731\n"
     ]
    },
    {
     "name": "stderr",
     "output_type": "stream",
     "text": [
      "num_leaves, val_score: 0.352570:  70%|######3  | 14/20 [00:14<00:05,  1.12it/s]\u001b[32m[I 2021-06-13 10:12:45,467]\u001b[0m Trial 20 finished with value: 0.3567215884643021 and parameters: {'num_leaves': 16}. Best is trial 19 with value: 0.35256977618444124.\u001b[0m\n",
      "num_leaves, val_score: 0.352570:  70%|######3  | 14/20 [00:14<00:05,  1.12it/s]"
     ]
    },
    {
     "name": "stdout",
     "output_type": "stream",
     "text": [
      "[400]\ttrain's multi_logloss: 0.195355\teval's multi_logloss: 0.361468\n",
      "Early stopping, best iteration is:\n",
      "[302]\ttrain's multi_logloss: 0.228402\teval's multi_logloss: 0.356722\n",
      "Training until validation scores don't improve for 100 rounds\n",
      "[100]\ttrain's multi_logloss: 0.352552\teval's multi_logloss: 0.389538\n",
      "[200]\ttrain's multi_logloss: 0.279471\teval's multi_logloss: 0.357293\n",
      "[300]\ttrain's multi_logloss: 0.238546\teval's multi_logloss: 0.354811\n",
      "[400]\ttrain's multi_logloss: 0.206818\teval's multi_logloss: 0.358363\n",
      "Early stopping, best iteration is:\n",
      "[303]\ttrain's multi_logloss: 0.237469\teval's multi_logloss: 0.354748\n"
     ]
    },
    {
     "name": "stderr",
     "output_type": "stream",
     "text": [
      "num_leaves, val_score: 0.352570:  75%|######7  | 15/20 [00:15<00:04,  1.15it/s]\u001b[32m[I 2021-06-13 10:12:46,293]\u001b[0m Trial 21 finished with value: 0.3547477378920376 and parameters: {'num_leaves': 14}. Best is trial 19 with value: 0.35256977618444124.\u001b[0m\n",
      "num_leaves, val_score: 0.352570:  75%|######7  | 15/20 [00:15<00:04,  1.15it/s]"
     ]
    },
    {
     "name": "stdout",
     "output_type": "stream",
     "text": [
      "Training until validation scores don't improve for 100 rounds\n",
      "[100]\ttrain's multi_logloss: 0.336854\teval's multi_logloss: 0.392788\n",
      "[200]\ttrain's multi_logloss: 0.246305\teval's multi_logloss: 0.364117\n"
     ]
    },
    {
     "name": "stderr",
     "output_type": "stream",
     "text": [
      "num_leaves, val_score: 0.352570:  80%|#######2 | 16/20 [00:16<00:03,  1.05it/s]\u001b[32m[I 2021-06-13 10:12:47,442]\u001b[0m Trial 22 finished with value: 0.36411658420825643 and parameters: {'num_leaves': 39}. Best is trial 19 with value: 0.35256977618444124.\u001b[0m\n",
      "num_leaves, val_score: 0.352570:  80%|#######2 | 16/20 [00:16<00:03,  1.05it/s]"
     ]
    },
    {
     "name": "stdout",
     "output_type": "stream",
     "text": [
      "[300]\ttrain's multi_logloss: 0.186766\teval's multi_logloss: 0.371024\n",
      "Early stopping, best iteration is:\n",
      "[200]\ttrain's multi_logloss: 0.246305\teval's multi_logloss: 0.364117\n",
      "Training until validation scores don't improve for 100 rounds\n",
      "[100]\ttrain's multi_logloss: 0.336864\teval's multi_logloss: 0.392789\n",
      "[200]\ttrain's multi_logloss: 0.246232\teval's multi_logloss: 0.363725\n"
     ]
    },
    {
     "name": "stderr",
     "output_type": "stream",
     "text": [
      "num_leaves, val_score: 0.352570:  85%|#######6 | 17/20 [00:17<00:03,  1.03s/it]\u001b[32m[I 2021-06-13 10:12:48,654]\u001b[0m Trial 23 finished with value: 0.3637246358386285 and parameters: {'num_leaves': 251}. Best is trial 19 with value: 0.35256977618444124.\u001b[0m\n",
      "num_leaves, val_score: 0.352570:  85%|#######6 | 17/20 [00:17<00:03,  1.03s/it]"
     ]
    },
    {
     "name": "stdout",
     "output_type": "stream",
     "text": [
      "[300]\ttrain's multi_logloss: 0.187857\teval's multi_logloss: 0.372727\n",
      "Early stopping, best iteration is:\n",
      "[200]\ttrain's multi_logloss: 0.246232\teval's multi_logloss: 0.363725\n",
      "Training until validation scores don't improve for 100 rounds\n",
      "[100]\ttrain's multi_logloss: 0.336864\teval's multi_logloss: 0.392789\n",
      "[200]\ttrain's multi_logloss: 0.246232\teval's multi_logloss: 0.363725\n",
      "[300]\ttrain's multi_logloss: 0.187857\teval's multi_logloss: 0.372728\n",
      "Early stopping, best iteration is:\n",
      "[200]\ttrain's multi_logloss: 0.246232\teval's multi_logloss: 0.363725\n"
     ]
    },
    {
     "name": "stderr",
     "output_type": "stream",
     "text": [
      "num_leaves, val_score: 0.352570:  90%|########1| 18/20 [00:19<00:02,  1.18s/it]\u001b[32m[I 2021-06-13 10:12:50,163]\u001b[0m Trial 24 finished with value: 0.3637245862699491 and parameters: {'num_leaves': 42}. Best is trial 19 with value: 0.35256977618444124.\u001b[0m\n",
      "num_leaves, val_score: 0.352570:  90%|########1| 18/20 [00:19<00:02,  1.18s/it]"
     ]
    },
    {
     "name": "stdout",
     "output_type": "stream",
     "text": [
      "Training until validation scores don't improve for 100 rounds\n",
      "[100]\ttrain's multi_logloss: 0.336864\teval's multi_logloss: 0.392789\n",
      "[200]\ttrain's multi_logloss: 0.246232\teval's multi_logloss: 0.363725\n"
     ]
    },
    {
     "name": "stderr",
     "output_type": "stream",
     "text": [
      "num_leaves, val_score: 0.352570:  95%|########5| 19/20 [00:20<00:01,  1.19s/it]\u001b[32m[I 2021-06-13 10:12:51,364]\u001b[0m Trial 25 finished with value: 0.3637246358386285 and parameters: {'num_leaves': 80}. Best is trial 19 with value: 0.35256977618444124.\u001b[0m\n",
      "num_leaves, val_score: 0.352570:  95%|########5| 19/20 [00:20<00:01,  1.19s/it]"
     ]
    },
    {
     "name": "stdout",
     "output_type": "stream",
     "text": [
      "[300]\ttrain's multi_logloss: 0.187857\teval's multi_logloss: 0.372727\n",
      "Early stopping, best iteration is:\n",
      "[200]\ttrain's multi_logloss: 0.246232\teval's multi_logloss: 0.363725\n",
      "Training until validation scores don't improve for 100 rounds\n",
      "[100]\ttrain's multi_logloss: 0.413604\teval's multi_logloss: 0.410186\n",
      "[200]\ttrain's multi_logloss: 0.369668\teval's multi_logloss: 0.375351\n",
      "[300]\ttrain's multi_logloss: 0.349966\teval's multi_logloss: 0.365767\n",
      "[400]\ttrain's multi_logloss: 0.336317\teval's multi_logloss: 0.360014\n",
      "[500]\ttrain's multi_logloss: 0.326825\teval's multi_logloss: 0.356632\n",
      "[600]\ttrain's multi_logloss: 0.319587\teval's multi_logloss: 0.354942\n",
      "[700]\ttrain's multi_logloss: 0.313813\teval's multi_logloss: 0.354569\n",
      "Early stopping, best iteration is:\n",
      "[665]\ttrain's multi_logloss: 0.315446\teval's multi_logloss: 0.354304\n"
     ]
    },
    {
     "name": "stderr",
     "output_type": "stream",
     "text": [
      "num_leaves, val_score: 0.352570: 100%|#########| 20/20 [00:21<00:00,  1.05s/it]\u001b[32m[I 2021-06-13 10:12:52,119]\u001b[0m Trial 26 finished with value: 0.35430438317601143 and parameters: {'num_leaves': 3}. Best is trial 19 with value: 0.35256977618444124.\u001b[0m\n",
      "num_leaves, val_score: 0.352570: 100%|#########| 20/20 [00:21<00:00,  1.07s/it]\n",
      "bagging, val_score: 0.352570:   0%|                     | 0/10 [00:00<?, ?it/s]"
     ]
    },
    {
     "name": "stdout",
     "output_type": "stream",
     "text": [
      "Training until validation scores don't improve for 100 rounds\n",
      "[100]\ttrain's multi_logloss: 0.364722\teval's multi_logloss: 0.391047\n",
      "[200]\ttrain's multi_logloss: 0.299327\teval's multi_logloss: 0.357195\n",
      "[300]\ttrain's multi_logloss: 0.266034\teval's multi_logloss: 0.353185\n"
     ]
    },
    {
     "name": "stderr",
     "output_type": "stream",
     "text": [
      "bagging, val_score: 0.350843:  10%|#3           | 1/10 [00:00<00:07,  1.28it/s]\u001b[32m[I 2021-06-13 10:12:52,914]\u001b[0m Trial 27 finished with value: 0.35084318440686857 and parameters: {'bagging_fraction': 0.712209565472206, 'bagging_freq': 7}. Best is trial 27 with value: 0.35084318440686857.\u001b[0m\n"
     ]
    },
    {
     "name": "stdout",
     "output_type": "stream",
     "text": [
      "[400]\ttrain's multi_logloss: 0.240901\teval's multi_logloss: 0.352364\n",
      "Early stopping, best iteration is:\n",
      "[364]\ttrain's multi_logloss: 0.24983\teval's multi_logloss: 0.350843\n"
     ]
    },
    {
     "name": "stderr",
     "output_type": "stream",
     "text": [
      "\r",
      "bagging, val_score: 0.350843:  10%|#3           | 1/10 [00:00<00:07,  1.28it/s]"
     ]
    },
    {
     "name": "stdout",
     "output_type": "stream",
     "text": [
      "Training until validation scores don't improve for 100 rounds\n",
      "[100]\ttrain's multi_logloss: 0.369449\teval's multi_logloss: 0.390813\n",
      "[200]\ttrain's multi_logloss: 0.305048\teval's multi_logloss: 0.357631\n",
      "[300]\ttrain's multi_logloss: 0.271811\teval's multi_logloss: 0.355246\n"
     ]
    },
    {
     "name": "stderr",
     "output_type": "stream",
     "text": [
      "bagging, val_score: 0.350843:  20%|##6          | 2/10 [00:01<00:05,  1.40it/s]\u001b[32m[I 2021-06-13 10:12:53,573]\u001b[0m Trial 28 finished with value: 0.3538026403013438 and parameters: {'bagging_fraction': 0.5043777402575113, 'bagging_freq': 4}. Best is trial 27 with value: 0.35084318440686857.\u001b[0m\n",
      "bagging, val_score: 0.350843:  20%|##6          | 2/10 [00:01<00:05,  1.40it/s]"
     ]
    },
    {
     "name": "stdout",
     "output_type": "stream",
     "text": [
      "Early stopping, best iteration is:\n",
      "[268]\ttrain's multi_logloss: 0.281724\teval's multi_logloss: 0.353803\n",
      "Training until validation scores don't improve for 100 rounds\n",
      "[100]\ttrain's multi_logloss: 0.362024\teval's multi_logloss: 0.390624\n",
      "[200]\ttrain's multi_logloss: 0.296786\teval's multi_logloss: 0.36136\n",
      "[300]\ttrain's multi_logloss: 0.261217\teval's multi_logloss: 0.356861\n",
      "[400]\ttrain's multi_logloss: 0.234667\teval's multi_logloss: 0.355735\n"
     ]
    },
    {
     "name": "stderr",
     "output_type": "stream",
     "text": [
      "bagging, val_score: 0.350843:  30%|###9         | 3/10 [00:02<00:05,  1.31it/s]\u001b[32m[I 2021-06-13 10:12:54,411]\u001b[0m Trial 29 finished with value: 0.35546733958360804 and parameters: {'bagging_fraction': 0.8245292062758942, 'bagging_freq': 3}. Best is trial 27 with value: 0.35084318440686857.\u001b[0m\n",
      "bagging, val_score: 0.350843:  30%|###9         | 3/10 [00:02<00:05,  1.31it/s]"
     ]
    },
    {
     "name": "stdout",
     "output_type": "stream",
     "text": [
      "Early stopping, best iteration is:\n",
      "[390]\ttrain's multi_logloss: 0.237122\teval's multi_logloss: 0.355467\n",
      "Training until validation scores don't improve for 100 rounds\n",
      "[100]\ttrain's multi_logloss: 0.363178\teval's multi_logloss: 0.390216\n",
      "[200]\ttrain's multi_logloss: 0.297925\teval's multi_logloss: 0.359732\n",
      "[300]\ttrain's multi_logloss: 0.263634\teval's multi_logloss: 0.357433\n",
      "[400]\ttrain's multi_logloss: 0.237828\teval's multi_logloss: 0.355675\n"
     ]
    },
    {
     "name": "stderr",
     "output_type": "stream",
     "text": [
      "bagging, val_score: 0.350843:  40%|#####2       | 4/10 [00:03<00:04,  1.23it/s]\u001b[32m[I 2021-06-13 10:12:55,289]\u001b[0m Trial 30 finished with value: 0.354716539488384 and parameters: {'bagging_fraction': 0.7674751340050555, 'bagging_freq': 4}. Best is trial 27 with value: 0.35084318440686857.\u001b[0m\n",
      "bagging, val_score: 0.350843:  40%|#####2       | 4/10 [00:03<00:04,  1.23it/s]"
     ]
    },
    {
     "name": "stdout",
     "output_type": "stream",
     "text": [
      "Early stopping, best iteration is:\n",
      "[384]\ttrain's multi_logloss: 0.241043\teval's multi_logloss: 0.354717\n",
      "Training until validation scores don't improve for 100 rounds\n",
      "[100]\ttrain's multi_logloss: 0.362932\teval's multi_logloss: 0.390485\n",
      "[200]\ttrain's multi_logloss: 0.298529\teval's multi_logloss: 0.355069\n",
      "[300]\ttrain's multi_logloss: 0.263693\teval's multi_logloss: 0.350934\n",
      "[400]\ttrain's multi_logloss: 0.237364\teval's multi_logloss: 0.352239\n",
      "Early stopping, best iteration is:\n",
      "[305]\ttrain's multi_logloss: 0.262196\teval's multi_logloss: 0.350586\n"
     ]
    },
    {
     "name": "stderr",
     "output_type": "stream",
     "text": [
      "bagging, val_score: 0.350586:  50%|######5      | 5/10 [00:03<00:03,  1.30it/s]\u001b[32m[I 2021-06-13 10:12:55,983]\u001b[0m Trial 31 finished with value: 0.3505856618036973 and parameters: {'bagging_fraction': 0.7033888211624655, 'bagging_freq': 5}. Best is trial 31 with value: 0.3505856618036973.\u001b[0m\n",
      "bagging, val_score: 0.350586:  50%|######5      | 5/10 [00:03<00:03,  1.30it/s]"
     ]
    },
    {
     "name": "stdout",
     "output_type": "stream",
     "text": [
      "Training until validation scores don't improve for 100 rounds\n",
      "[100]\ttrain's multi_logloss: 0.36319\teval's multi_logloss: 0.389776\n",
      "[200]\ttrain's multi_logloss: 0.298778\teval's multi_logloss: 0.356408\n",
      "[300]\ttrain's multi_logloss: 0.26437\teval's multi_logloss: 0.351089\n"
     ]
    },
    {
     "name": "stderr",
     "output_type": "stream",
     "text": [
      "bagging, val_score: 0.350504:  60%|#######8     | 6/10 [00:04<00:02,  1.35it/s]\u001b[32m[I 2021-06-13 10:12:56,672]\u001b[0m Trial 32 finished with value: 0.35050374349457825 and parameters: {'bagging_fraction': 0.7076320587836888, 'bagging_freq': 3}. Best is trial 32 with value: 0.35050374349457825.\u001b[0m\n",
      "bagging, val_score: 0.350504:  60%|#######8     | 6/10 [00:04<00:02,  1.35it/s]"
     ]
    },
    {
     "name": "stdout",
     "output_type": "stream",
     "text": [
      "[400]\ttrain's multi_logloss: 0.237481\teval's multi_logloss: 0.352604\n",
      "Early stopping, best iteration is:\n",
      "[315]\ttrain's multi_logloss: 0.260419\teval's multi_logloss: 0.350504\n",
      "Training until validation scores don't improve for 100 rounds\n",
      "[100]\ttrain's multi_logloss: 0.371404\teval's multi_logloss: 0.395725\n",
      "[200]\ttrain's multi_logloss: 0.308678\teval's multi_logloss: 0.358031\n",
      "[300]\ttrain's multi_logloss: 0.276347\teval's multi_logloss: 0.351109\n",
      "[400]\ttrain's multi_logloss: 0.250962\teval's multi_logloss: 0.35324\n"
     ]
    },
    {
     "name": "stderr",
     "output_type": "stream",
     "text": [
      "bagging, val_score: 0.350135:  70%|#########1   | 7/10 [00:05<00:02,  1.32it/s]\u001b[32m[I 2021-06-13 10:12:57,456]\u001b[0m Trial 33 finished with value: 0.35013484933632566 and parameters: {'bagging_fraction': 0.42850771093593293, 'bagging_freq': 3}. Best is trial 33 with value: 0.35013484933632566.\u001b[0m\n",
      "bagging, val_score: 0.350135:  70%|#########1   | 7/10 [00:05<00:02,  1.32it/s]"
     ]
    },
    {
     "name": "stdout",
     "output_type": "stream",
     "text": [
      "Early stopping, best iteration is:\n",
      "[325]\ttrain's multi_logloss: 0.269459\teval's multi_logloss: 0.350135\n",
      "Training until validation scores don't improve for 100 rounds\n",
      "[100]\ttrain's multi_logloss: 0.364127\teval's multi_logloss: 0.390922\n",
      "[200]\ttrain's multi_logloss: 0.299499\teval's multi_logloss: 0.354537\n",
      "[300]\ttrain's multi_logloss: 0.265267\teval's multi_logloss: 0.349641\n",
      "[400]\ttrain's multi_logloss: 0.238694\teval's multi_logloss: 0.349246\n",
      "[500]\ttrain's multi_logloss: 0.216332\teval's multi_logloss: 0.348685\n",
      "Early stopping, best iteration is:\n",
      "[480]\ttrain's multi_logloss: 0.220111\teval's multi_logloss: 0.348462\n"
     ]
    },
    {
     "name": "stderr",
     "output_type": "stream",
     "text": [
      "bagging, val_score: 0.348462:  80%|##########4  | 8/10 [00:06<00:01,  1.21it/s]\u001b[32m[I 2021-06-13 10:12:58,435]\u001b[0m Trial 34 finished with value: 0.3484622301460364 and parameters: {'bagging_fraction': 0.6989335868066489, 'bagging_freq': 6}. Best is trial 34 with value: 0.3484622301460364.\u001b[0m\n",
      "bagging, val_score: 0.348462:  80%|##########4  | 8/10 [00:06<00:01,  1.21it/s]"
     ]
    },
    {
     "name": "stdout",
     "output_type": "stream",
     "text": [
      "Training until validation scores don't improve for 100 rounds\n",
      "[100]\ttrain's multi_logloss: 0.366729\teval's multi_logloss: 0.390494\n",
      "[200]\ttrain's multi_logloss: 0.30297\teval's multi_logloss: 0.354485\n",
      "[300]\ttrain's multi_logloss: 0.26915\teval's multi_logloss: 0.352169\n"
     ]
    },
    {
     "name": "stderr",
     "output_type": "stream",
     "text": [
      "bagging, val_score: 0.348462:  90%|###########7 | 9/10 [00:06<00:00,  1.29it/s]\u001b[32m[I 2021-06-13 10:12:59,100]\u001b[0m Trial 35 finished with value: 0.35124989630058706 and parameters: {'bagging_fraction': 0.5510552154279367, 'bagging_freq': 3}. Best is trial 34 with value: 0.3484622301460364.\u001b[0m\n",
      "bagging, val_score: 0.348462:  90%|###########7 | 9/10 [00:06<00:00,  1.29it/s]"
     ]
    },
    {
     "name": "stdout",
     "output_type": "stream",
     "text": [
      "[400]\ttrain's multi_logloss: 0.243237\teval's multi_logloss: 0.35575\n",
      "Early stopping, best iteration is:\n",
      "[306]\ttrain's multi_logloss: 0.267306\teval's multi_logloss: 0.35125\n",
      "Training until validation scores don't improve for 100 rounds\n",
      "[100]\ttrain's multi_logloss: 0.367697\teval's multi_logloss: 0.392067\n",
      "[200]\ttrain's multi_logloss: 0.305496\teval's multi_logloss: 0.356492\n",
      "[300]\ttrain's multi_logloss: 0.272131\teval's multi_logloss: 0.352587\n",
      "[400]\ttrain's multi_logloss: 0.245685\teval's multi_logloss: 0.353401\n",
      "Early stopping, best iteration is:\n",
      "[308]\ttrain's multi_logloss: 0.269696\teval's multi_logloss: 0.351846\n"
     ]
    },
    {
     "name": "stderr",
     "output_type": "stream",
     "text": [
      "bagging, val_score: 0.348462: 100%|############| 10/10 [00:07<00:00,  1.30it/s]\u001b[32m[I 2021-06-13 10:12:59,858]\u001b[0m Trial 36 finished with value: 0.35184638088796594 and parameters: {'bagging_fraction': 0.5222848598724827, 'bagging_freq': 2}. Best is trial 34 with value: 0.3484622301460364.\u001b[0m\n",
      "bagging, val_score: 0.348462: 100%|############| 10/10 [00:07<00:00,  1.29it/s]\n",
      "feature_fraction_stage2, val_score: 0.348462:   0%|      | 0/3 [00:00<?, ?it/s]"
     ]
    },
    {
     "name": "stdout",
     "output_type": "stream",
     "text": [
      "Training until validation scores don't improve for 100 rounds\n",
      "[100]\ttrain's multi_logloss: 0.364127\teval's multi_logloss: 0.390922\n",
      "[200]\ttrain's multi_logloss: 0.299499\teval's multi_logloss: 0.354537\n",
      "[300]\ttrain's multi_logloss: 0.265267\teval's multi_logloss: 0.349641\n",
      "[400]\ttrain's multi_logloss: 0.238694\teval's multi_logloss: 0.349246\n",
      "[500]\ttrain's multi_logloss: 0.216332\teval's multi_logloss: 0.348685\n"
     ]
    },
    {
     "name": "stderr",
     "output_type": "stream",
     "text": [
      "feature_fraction_stage2, val_score: 0.348462:  33%|3| 1/3 [00:00<00:01,  1.02it\u001b[32m[I 2021-06-13 10:13:00,856]\u001b[0m Trial 37 finished with value: 0.3484622301460364 and parameters: {'feature_fraction': 0.9840000000000001}. Best is trial 37 with value: 0.3484622301460364.\u001b[0m\n",
      "feature_fraction_stage2, val_score: 0.348462:  33%|3| 1/3 [00:00<00:01,  1.02it"
     ]
    },
    {
     "name": "stdout",
     "output_type": "stream",
     "text": [
      "Early stopping, best iteration is:\n",
      "[480]\ttrain's multi_logloss: 0.220111\teval's multi_logloss: 0.348462\n",
      "Training until validation scores don't improve for 100 rounds\n",
      "[100]\ttrain's multi_logloss: 0.364127\teval's multi_logloss: 0.390922\n",
      "[200]\ttrain's multi_logloss: 0.299499\teval's multi_logloss: 0.354537\n",
      "[300]\ttrain's multi_logloss: 0.265267\teval's multi_logloss: 0.349641\n",
      "[400]\ttrain's multi_logloss: 0.238694\teval's multi_logloss: 0.349246\n",
      "[500]\ttrain's multi_logloss: 0.216332\teval's multi_logloss: 0.348685\n",
      "Early stopping, best iteration is:\n",
      "[480]\ttrain's multi_logloss: 0.220111\teval's multi_logloss: 0.348462\n"
     ]
    },
    {
     "name": "stderr",
     "output_type": "stream",
     "text": [
      "feature_fraction_stage2, val_score: 0.348462:  67%|6| 2/3 [00:02<00:01,  1.02s/\u001b[32m[I 2021-06-13 10:13:01,903]\u001b[0m Trial 38 finished with value: 0.3484622301460364 and parameters: {'feature_fraction': 0.9520000000000001}. Best is trial 37 with value: 0.3484622301460364.\u001b[0m\n",
      "feature_fraction_stage2, val_score: 0.348462:  67%|6| 2/3 [00:02<00:01,  1.02s/"
     ]
    },
    {
     "name": "stdout",
     "output_type": "stream",
     "text": [
      "Training until validation scores don't improve for 100 rounds\n",
      "[100]\ttrain's multi_logloss: 0.369781\teval's multi_logloss: 0.395845\n",
      "[200]\ttrain's multi_logloss: 0.301937\teval's multi_logloss: 0.355763\n",
      "[300]\ttrain's multi_logloss: 0.267842\teval's multi_logloss: 0.35018\n"
     ]
    },
    {
     "name": "stderr",
     "output_type": "stream",
     "text": [
      "\r",
      "feature_fraction_stage2, val_score: 0.348462:  67%|6| 2/3 [00:02<00:01,  1.02s/"
     ]
    },
    {
     "name": "stdout",
     "output_type": "stream",
     "text": [
      "[400]\ttrain's multi_logloss: 0.241958\teval's multi_logloss: 0.349274\n",
      "Early stopping, best iteration is:\n",
      "[366]\ttrain's multi_logloss: 0.249553\teval's multi_logloss: 0.348825\n"
     ]
    },
    {
     "name": "stderr",
     "output_type": "stream",
     "text": [
      "feature_fraction_stage2, val_score: 0.348462: 100%|#| 3/3 [00:02<00:00,  1.11it\u001b[32m[I 2021-06-13 10:13:02,670]\u001b[0m Trial 39 finished with value: 0.34882513443539653 and parameters: {'feature_fraction': 0.92}. Best is trial 37 with value: 0.3484622301460364.\u001b[0m\n",
      "feature_fraction_stage2, val_score: 0.348462: 100%|#| 3/3 [00:02<00:00,  1.07it\n",
      "regularization_factors, val_score: 0.348462:   0%|      | 0/20 [00:00<?, ?it/s]"
     ]
    },
    {
     "name": "stdout",
     "output_type": "stream",
     "text": [
      "Training until validation scores don't improve for 100 rounds\n",
      "[100]\ttrain's multi_logloss: 0.369175\teval's multi_logloss: 0.39366\n",
      "[200]\ttrain's multi_logloss: 0.305715\teval's multi_logloss: 0.356838\n",
      "[300]\ttrain's multi_logloss: 0.273145\teval's multi_logloss: 0.351229\n"
     ]
    },
    {
     "name": "stderr",
     "output_type": "stream",
     "text": [
      "regularization_factors, val_score: 0.348462:   5%| | 1/20 [00:00<00:15,  1.19it\u001b[32m[I 2021-06-13 10:13:03,528]\u001b[0m Trial 40 finished with value: 0.3501629555955473 and parameters: {'lambda_l1': 0.3417712061707446, 'lambda_l2': 2.2666389041658487e-08}. Best is trial 40 with value: 0.3501629555955473.\u001b[0m\n",
      "regularization_factors, val_score: 0.348462:   5%| | 1/20 [00:00<00:15,  1.19it"
     ]
    },
    {
     "name": "stdout",
     "output_type": "stream",
     "text": [
      "[400]\ttrain's multi_logloss: 0.248091\teval's multi_logloss: 0.352005\n",
      "Early stopping, best iteration is:\n",
      "[342]\ttrain's multi_logloss: 0.262381\teval's multi_logloss: 0.350163\n",
      "Training until validation scores don't improve for 100 rounds\n",
      "[100]\ttrain's multi_logloss: 0.365502\teval's multi_logloss: 0.39173\n",
      "[200]\ttrain's multi_logloss: 0.301319\teval's multi_logloss: 0.356395\n",
      "[300]\ttrain's multi_logloss: 0.267531\teval's multi_logloss: 0.351867\n",
      "[400]\ttrain's multi_logloss: 0.241318\teval's multi_logloss: 0.351812\n",
      "[500]\ttrain's multi_logloss: 0.219589\teval's multi_logloss: 0.350798\n",
      "Early stopping, best iteration is:\n",
      "[462]\ttrain's multi_logloss: 0.227148\teval's multi_logloss: 0.350391\n"
     ]
    },
    {
     "name": "stderr",
     "output_type": "stream",
     "text": [
      "regularization_factors, val_score: 0.348462:  10%|1| 2/20 [00:01<00:16,  1.07it\u001b[32m[I 2021-06-13 10:13:04,517]\u001b[0m Trial 41 finished with value: 0.35039081772280456 and parameters: {'lambda_l1': 0.08458039384211817, 'lambda_l2': 0.00025389091810937444}. Best is trial 40 with value: 0.3501629555955473.\u001b[0m\n",
      "regularization_factors, val_score: 0.348462:  10%|1| 2/20 [00:01<00:16,  1.07it"
     ]
    },
    {
     "name": "stdout",
     "output_type": "stream",
     "text": [
      "Training until validation scores don't improve for 100 rounds\n",
      "[100]\ttrain's multi_logloss: 0.402348\teval's multi_logloss: 0.411583\n",
      "[200]\ttrain's multi_logloss: 0.339863\teval's multi_logloss: 0.365961\n",
      "[300]\ttrain's multi_logloss: 0.310805\teval's multi_logloss: 0.353815\n",
      "[400]\ttrain's multi_logloss: 0.291013\teval's multi_logloss: 0.350162\n",
      "[500]\ttrain's multi_logloss: 0.275828\teval's multi_logloss: 0.348279\n"
     ]
    },
    {
     "name": "stderr",
     "output_type": "stream",
     "text": [
      "regularization_factors, val_score: 0.348175:  15%|1| 3/20 [00:02<00:16,  1.02it\u001b[32m[I 2021-06-13 10:13:05,564]\u001b[0m Trial 42 finished with value: 0.34817503954361995 and parameters: {'lambda_l1': 0.11231016456104242, 'lambda_l2': 6.286082916018766}. Best is trial 42 with value: 0.34817503954361995.\u001b[0m\n",
      "regularization_factors, val_score: 0.348175:  15%|1| 3/20 [00:02<00:16,  1.02it"
     ]
    },
    {
     "name": "stdout",
     "output_type": "stream",
     "text": [
      "Early stopping, best iteration is:\n",
      "[480]\ttrain's multi_logloss: 0.278725\teval's multi_logloss: 0.348175\n",
      "Training until validation scores don't improve for 100 rounds\n",
      "[100]\ttrain's multi_logloss: 0.409657\teval's multi_logloss: 0.41354\n",
      "[200]\ttrain's multi_logloss: 0.355743\teval's multi_logloss: 0.371211\n",
      "[300]\ttrain's multi_logloss: 0.33269\teval's multi_logloss: 0.358805\n",
      "[400]\ttrain's multi_logloss: 0.318804\teval's multi_logloss: 0.353487\n",
      "[500]\ttrain's multi_logloss: 0.308436\teval's multi_logloss: 0.351817\n",
      "[600]\ttrain's multi_logloss: 0.300751\teval's multi_logloss: 0.352475\n",
      "Early stopping, best iteration is:\n",
      "[504]\ttrain's multi_logloss: 0.308054\teval's multi_logloss: 0.351623\n"
     ]
    },
    {
     "name": "stderr",
     "output_type": "stream",
     "text": [
      "regularization_factors, val_score: 0.348175:  20%|2| 4/20 [00:03<00:15,  1.03it\u001b[32m[I 2021-06-13 10:13:06,504]\u001b[0m Trial 43 finished with value: 0.3516229963034661 and parameters: {'lambda_l1': 2.9514948388545834, 'lambda_l2': 2.7898582143142305}. Best is trial 42 with value: 0.34817503954361995.\u001b[0m\n",
      "regularization_factors, val_score: 0.348175:  20%|2| 4/20 [00:03<00:15,  1.03it"
     ]
    },
    {
     "name": "stdout",
     "output_type": "stream",
     "text": [
      "Training until validation scores don't improve for 100 rounds\n",
      "[100]\ttrain's multi_logloss: 0.398935\teval's multi_logloss: 0.407505\n",
      "[200]\ttrain's multi_logloss: 0.345438\teval's multi_logloss: 0.367065\n",
      "[300]\ttrain's multi_logloss: 0.323004\teval's multi_logloss: 0.355689\n",
      "[400]\ttrain's multi_logloss: 0.308652\teval's multi_logloss: 0.351173\n",
      "[500]\ttrain's multi_logloss: 0.298558\teval's multi_logloss: 0.35062\n"
     ]
    },
    {
     "name": "stderr",
     "output_type": "stream",
     "text": [
      "regularization_factors, val_score: 0.348175:  25%|2| 5/20 [00:04<00:14,  1.02it\u001b[32m[I 2021-06-13 10:13:07,518]\u001b[0m Trial 44 finished with value: 0.35042638238304574 and parameters: {'lambda_l1': 3.0213201082748857, 'lambda_l2': 0.0007337334489315677}. Best is trial 42 with value: 0.34817503954361995.\u001b[0m\n",
      "regularization_factors, val_score: 0.348175:  25%|2| 5/20 [00:04<00:14,  1.02it"
     ]
    },
    {
     "name": "stdout",
     "output_type": "stream",
     "text": [
      "[600]\ttrain's multi_logloss: 0.291274\teval's multi_logloss: 0.351745\n",
      "Early stopping, best iteration is:\n",
      "[504]\ttrain's multi_logloss: 0.298229\teval's multi_logloss: 0.350426\n",
      "Training until validation scores don't improve for 100 rounds\n",
      "[100]\ttrain's multi_logloss: 0.40863\teval's multi_logloss: 0.412386\n",
      "[200]\ttrain's multi_logloss: 0.358536\teval's multi_logloss: 0.372279\n",
      "[300]\ttrain's multi_logloss: 0.338638\teval's multi_logloss: 0.360868\n",
      "[400]\ttrain's multi_logloss: 0.326616\teval's multi_logloss: 0.354891\n",
      "[500]\ttrain's multi_logloss: 0.319215\teval's multi_logloss: 0.352844\n",
      "[600]\ttrain's multi_logloss: 0.313831\teval's multi_logloss: 0.353501\n",
      "Early stopping, best iteration is:\n",
      "[504]\ttrain's multi_logloss: 0.319022\teval's multi_logloss: 0.352756\n"
     ]
    },
    {
     "name": "stderr",
     "output_type": "stream",
     "text": [
      "regularization_factors, val_score: 0.348175:  30%|3| 6/20 [00:05<00:13,  1.06it\u001b[32m[I 2021-06-13 10:13:08,388]\u001b[0m Trial 45 finished with value: 0.3527564218225301 and parameters: {'lambda_l1': 4.274862304380615, 'lambda_l2': 6.617048207191222e-06}. Best is trial 42 with value: 0.34817503954361995.\u001b[0m\n",
      "regularization_factors, val_score: 0.348175:  30%|3| 6/20 [00:05<00:13,  1.06it"
     ]
    },
    {
     "name": "stdout",
     "output_type": "stream",
     "text": [
      "Training until validation scores don't improve for 100 rounds\n",
      "[100]\ttrain's multi_logloss: 0.413137\teval's multi_logloss: 0.416315\n",
      "[200]\ttrain's multi_logloss: 0.356762\teval's multi_logloss: 0.371378\n",
      "[300]\ttrain's multi_logloss: 0.332263\teval's multi_logloss: 0.358174\n",
      "[400]\ttrain's multi_logloss: 0.317016\teval's multi_logloss: 0.352549\n",
      "[500]\ttrain's multi_logloss: 0.305556\teval's multi_logloss: 0.351241\n"
     ]
    },
    {
     "name": "stderr",
     "output_type": "stream",
     "text": [
      "regularization_factors, val_score: 0.348175:  35%|3| 7/20 [00:06<00:12,  1.02it\u001b[32m[I 2021-06-13 10:13:09,436]\u001b[0m Trial 46 finished with value: 0.35104822235125055 and parameters: {'lambda_l1': 2.2635685968117527, 'lambda_l2': 5.190070878649036}. Best is trial 42 with value: 0.34817503954361995.\u001b[0m\n",
      "regularization_factors, val_score: 0.348175:  35%|3| 7/20 [00:06<00:12,  1.02it"
     ]
    },
    {
     "name": "stdout",
     "output_type": "stream",
     "text": [
      "[600]\ttrain's multi_logloss: 0.29673\teval's multi_logloss: 0.351888\n",
      "Early stopping, best iteration is:\n",
      "[504]\ttrain's multi_logloss: 0.305153\teval's multi_logloss: 0.351048\n",
      "Training until validation scores don't improve for 100 rounds\n",
      "[100]\ttrain's multi_logloss: 0.384306\teval's multi_logloss: 0.39968\n",
      "[200]\ttrain's multi_logloss: 0.321106\teval's multi_logloss: 0.35989\n",
      "[300]\ttrain's multi_logloss: 0.290774\teval's multi_logloss: 0.352037\n",
      "[400]\ttrain's multi_logloss: 0.268844\teval's multi_logloss: 0.349233\n"
     ]
    },
    {
     "name": "stderr",
     "output_type": "stream",
     "text": [
      "regularization_factors, val_score: 0.348091:  40%|4| 8/20 [00:07<00:11,  1.04it\u001b[32m[I 2021-06-13 10:13:10,356]\u001b[0m Trial 47 finished with value: 0.3480913971634962 and parameters: {'lambda_l1': 0.00032960363765441086, 'lambda_l2': 2.7222927939805444}. Best is trial 47 with value: 0.3480913971634962.\u001b[0m\n",
      "regularization_factors, val_score: 0.348091:  40%|4| 8/20 [00:07<00:11,  1.04it"
     ]
    },
    {
     "name": "stdout",
     "output_type": "stream",
     "text": [
      "[500]\ttrain's multi_logloss: 0.250983\teval's multi_logloss: 0.349338\n",
      "Early stopping, best iteration is:\n",
      "[424]\ttrain's multi_logloss: 0.263915\teval's multi_logloss: 0.348091\n",
      "Training until validation scores don't improve for 100 rounds\n",
      "[100]\ttrain's multi_logloss: 0.366057\teval's multi_logloss: 0.392484\n",
      "[200]\ttrain's multi_logloss: 0.3018\teval's multi_logloss: 0.357193\n",
      "[300]\ttrain's multi_logloss: 0.268333\teval's multi_logloss: 0.353039\n",
      "[400]\ttrain's multi_logloss: 0.242701\teval's multi_logloss: 0.353922\n",
      "[500]\ttrain's multi_logloss: 0.22106\teval's multi_logloss: 0.352179\n",
      "Early stopping, best iteration is:\n",
      "[462]\ttrain's multi_logloss: 0.228754\teval's multi_logloss: 0.351416\n"
     ]
    },
    {
     "name": "stderr",
     "output_type": "stream",
     "text": [
      "regularization_factors, val_score: 0.348091:  45%|4| 9/20 [00:08<00:11,  1.00s/\u001b[32m[I 2021-06-13 10:13:11,456]\u001b[0m Trial 48 finished with value: 0.35141558153848806 and parameters: {'lambda_l1': 0.12412668155028185, 'lambda_l2': 1.1957179071710764e-08}. Best is trial 47 with value: 0.3480913971634962.\u001b[0m\n",
      "regularization_factors, val_score: 0.348091:  45%|4| 9/20 [00:08<00:11,  1.00s/"
     ]
    },
    {
     "name": "stdout",
     "output_type": "stream",
     "text": [
      "Training until validation scores don't improve for 100 rounds\n",
      "[100]\ttrain's multi_logloss: 0.36414\teval's multi_logloss: 0.390928\n",
      "[200]\ttrain's multi_logloss: 0.299664\teval's multi_logloss: 0.354549\n",
      "[300]\ttrain's multi_logloss: 0.265544\teval's multi_logloss: 0.349489\n"
     ]
    },
    {
     "name": "stderr",
     "output_type": "stream",
     "text": [
      "regularization_factors, val_score: 0.348091:  50%|5| 10/20 [00:09<00:09,  1.10i\u001b[32m[I 2021-06-13 10:13:12,150]\u001b[0m Trial 49 finished with value: 0.3490406776018256 and parameters: {'lambda_l1': 1.1498092214952181e-07, 'lambda_l2': 0.0018564604644626978}. Best is trial 47 with value: 0.3480913971634962.\u001b[0m\n",
      "regularization_factors, val_score: 0.348091:  50%|5| 10/20 [00:09<00:09,  1.10i"
     ]
    },
    {
     "name": "stdout",
     "output_type": "stream",
     "text": [
      "Early stopping, best iteration is:\n",
      "[294]\ttrain's multi_logloss: 0.26714\teval's multi_logloss: 0.349041\n",
      "Training until validation scores don't improve for 100 rounds\n",
      "[100]\ttrain's multi_logloss: 0.365074\teval's multi_logloss: 0.391681\n",
      "[200]\ttrain's multi_logloss: 0.300591\teval's multi_logloss: 0.355075\n",
      "[300]\ttrain's multi_logloss: 0.266438\teval's multi_logloss: 0.349985\n",
      "[400]\ttrain's multi_logloss: 0.239783\teval's multi_logloss: 0.34964\n",
      "[500]\ttrain's multi_logloss: 0.217983\teval's multi_logloss: 0.348258\n",
      "Early stopping, best iteration is:\n",
      "[480]\ttrain's multi_logloss: 0.22199\teval's multi_logloss: 0.347752\n"
     ]
    },
    {
     "name": "stderr",
     "output_type": "stream",
     "text": [
      "regularization_factors, val_score: 0.347752:  55%|5| 11/20 [00:10<00:08,  1.05i\u001b[32m[I 2021-06-13 10:13:13,199]\u001b[0m Trial 50 finished with value: 0.34775173352117117 and parameters: {'lambda_l1': 2.5901251817438783e-05, 'lambda_l2': 0.07497628982590326}. Best is trial 50 with value: 0.34775173352117117.\u001b[0m\n",
      "regularization_factors, val_score: 0.347752:  55%|5| 11/20 [00:10<00:08,  1.05i"
     ]
    },
    {
     "name": "stdout",
     "output_type": "stream",
     "text": [
      "Training until validation scores don't improve for 100 rounds\n",
      "[100]\ttrain's multi_logloss: 0.364509\teval's multi_logloss: 0.390942\n",
      "[200]\ttrain's multi_logloss: 0.300069\teval's multi_logloss: 0.354168\n",
      "[300]\ttrain's multi_logloss: 0.266451\teval's multi_logloss: 0.349379\n",
      "[400]\ttrain's multi_logloss: 0.24029\teval's multi_logloss: 0.349715\n"
     ]
    },
    {
     "name": "stderr",
     "output_type": "stream",
     "text": [
      "\r",
      "regularization_factors, val_score: 0.347752:  55%|5| 11/20 [00:11<00:08,  1.05i"
     ]
    },
    {
     "name": "stdout",
     "output_type": "stream",
     "text": [
      "[500]\ttrain's multi_logloss: 0.218171\teval's multi_logloss: 0.349069\n",
      "Early stopping, best iteration is:\n",
      "[456]\ttrain's multi_logloss: 0.226885\teval's multi_logloss: 0.348486\n"
     ]
    },
    {
     "name": "stderr",
     "output_type": "stream",
     "text": [
      "regularization_factors, val_score: 0.347752:  60%|6| 12/20 [00:11<00:07,  1.02i\u001b[32m[I 2021-06-13 10:13:14,240]\u001b[0m Trial 51 finished with value: 0.34848572446255516 and parameters: {'lambda_l1': 1.818796601410903e-05, 'lambda_l2': 0.05060730145980354}. Best is trial 50 with value: 0.34775173352117117.\u001b[0m\n",
      "regularization_factors, val_score: 0.347752:  60%|6| 12/20 [00:11<00:07,  1.02i"
     ]
    },
    {
     "name": "stdout",
     "output_type": "stream",
     "text": [
      "Training until validation scores don't improve for 100 rounds\n",
      "[100]\ttrain's multi_logloss: 0.366123\teval's multi_logloss: 0.391687\n",
      "[200]\ttrain's multi_logloss: 0.301932\teval's multi_logloss: 0.355145\n",
      "[300]\ttrain's multi_logloss: 0.268495\teval's multi_logloss: 0.350366\n"
     ]
    },
    {
     "name": "stderr",
     "output_type": "stream",
     "text": [
      "regularization_factors, val_score: 0.347752:  65%|6| 13/20 [00:12<00:06,  1.11i\u001b[32m[I 2021-06-13 10:13:14,965]\u001b[0m Trial 52 finished with value: 0.3500710579571743 and parameters: {'lambda_l1': 0.0003073298874077372, 'lambda_l2': 0.18089910914989973}. Best is trial 50 with value: 0.34775173352117117.\u001b[0m\n",
      "regularization_factors, val_score: 0.347752:  65%|6| 13/20 [00:12<00:06,  1.11i"
     ]
    },
    {
     "name": "stdout",
     "output_type": "stream",
     "text": [
      "Early stopping, best iteration is:\n",
      "[294]\ttrain's multi_logloss: 0.270074\teval's multi_logloss: 0.350071\n",
      "Training until validation scores don't improve for 100 rounds\n",
      "[100]\ttrain's multi_logloss: 0.365359\teval's multi_logloss: 0.391659\n",
      "[200]\ttrain's multi_logloss: 0.30052\teval's multi_logloss: 0.355139\n",
      "[300]\ttrain's multi_logloss: 0.266846\teval's multi_logloss: 0.351139\n"
     ]
    },
    {
     "name": "stderr",
     "output_type": "stream",
     "text": [
      "regularization_factors, val_score: 0.347752:  70%|7| 14/20 [00:13<00:05,  1.17i\u001b[32m[I 2021-06-13 10:13:15,714]\u001b[0m Trial 53 finished with value: 0.35076163351255896 and parameters: {'lambda_l1': 2.477827991801762e-06, 'lambda_l2': 0.10269041154263046}. Best is trial 50 with value: 0.34775173352117117.\u001b[0m\n",
      "regularization_factors, val_score: 0.347752:  70%|7| 14/20 [00:13<00:05,  1.17i"
     ]
    },
    {
     "name": "stdout",
     "output_type": "stream",
     "text": [
      "Early stopping, best iteration is:\n",
      "[293]\ttrain's multi_logloss: 0.268738\teval's multi_logloss: 0.350762\n",
      "Training until validation scores don't improve for 100 rounds\n",
      "[100]\ttrain's multi_logloss: 0.369596\teval's multi_logloss: 0.392872\n",
      "[200]\ttrain's multi_logloss: 0.305276\teval's multi_logloss: 0.355881\n",
      "[300]\ttrain's multi_logloss: 0.272226\teval's multi_logloss: 0.350743\n",
      "[400]\ttrain's multi_logloss: 0.246735\teval's multi_logloss: 0.349515\n",
      "[500]\ttrain's multi_logloss: 0.22611\teval's multi_logloss: 0.349503\n",
      "Early stopping, best iteration is:\n",
      "[462]\ttrain's multi_logloss: 0.233427\teval's multi_logloss: 0.348805\n"
     ]
    },
    {
     "name": "stderr",
     "output_type": "stream",
     "text": [
      "regularization_factors, val_score: 0.347752:  75%|7| 15/20 [00:14<00:04,  1.11i\u001b[32m[I 2021-06-13 10:13:16,728]\u001b[0m Trial 54 finished with value: 0.3488049901899863 and parameters: {'lambda_l1': 0.0027193794401148908, 'lambda_l2': 0.5103059232361249}. Best is trial 50 with value: 0.34775173352117117.\u001b[0m\n",
      "regularization_factors, val_score: 0.347752:  75%|7| 15/20 [00:14<00:04,  1.11i"
     ]
    },
    {
     "name": "stdout",
     "output_type": "stream",
     "text": [
      "Training until validation scores don't improve for 100 rounds\n",
      "[100]\ttrain's multi_logloss: 0.364119\teval's multi_logloss: 0.39105\n",
      "[200]\ttrain's multi_logloss: 0.299717\teval's multi_logloss: 0.354166\n",
      "[300]\ttrain's multi_logloss: 0.26576\teval's multi_logloss: 0.348561\n",
      "[400]\ttrain's multi_logloss: 0.239937\teval's multi_logloss: 0.348108\n",
      "[500]\ttrain's multi_logloss: 0.217209\teval's multi_logloss: 0.348468\n"
     ]
    },
    {
     "name": "stderr",
     "output_type": "stream",
     "text": [
      "regularization_factors, val_score: 0.347338:  80%|8| 16/20 [00:15<00:03,  1.05i\u001b[32m[I 2021-06-13 10:13:17,780]\u001b[0m Trial 55 finished with value: 0.34733780831135064 and parameters: {'lambda_l1': 0.0005661750078323535, 'lambda_l2': 0.0074826389006094765}. Best is trial 55 with value: 0.34733780831135064.\u001b[0m\n",
      "regularization_factors, val_score: 0.347338:  80%|8| 16/20 [00:15<00:03,  1.05i"
     ]
    },
    {
     "name": "stdout",
     "output_type": "stream",
     "text": [
      "Early stopping, best iteration is:\n",
      "[456]\ttrain's multi_logloss: 0.22621\teval's multi_logloss: 0.347338\n",
      "Training until validation scores don't improve for 100 rounds\n",
      "[100]\ttrain's multi_logloss: 0.364057\teval's multi_logloss: 0.391007\n",
      "[200]\ttrain's multi_logloss: 0.299664\teval's multi_logloss: 0.354602\n",
      "[300]\ttrain's multi_logloss: 0.265976\teval's multi_logloss: 0.349277\n",
      "[400]\ttrain's multi_logloss: 0.239748\teval's multi_logloss: 0.348751\n",
      "Early stopping, best iteration is:\n",
      "[342]\ttrain's multi_logloss: 0.254765\teval's multi_logloss: 0.348437\n"
     ]
    },
    {
     "name": "stderr",
     "output_type": "stream",
     "text": [
      "regularization_factors, val_score: 0.347338:  85%|8| 17/20 [00:15<00:02,  1.10i\u001b[32m[I 2021-06-13 10:13:18,587]\u001b[0m Trial 56 finished with value: 0.3484365468484985 and parameters: {'lambda_l1': 1.5781182565083414e-06, 'lambda_l2': 0.009507473589438492}. Best is trial 55 with value: 0.34733780831135064.\u001b[0m\n",
      "regularization_factors, val_score: 0.347338:  85%|8| 17/20 [00:15<00:02,  1.10i"
     ]
    },
    {
     "name": "stdout",
     "output_type": "stream",
     "text": [
      "Training until validation scores don't improve for 100 rounds\n",
      "[100]\ttrain's multi_logloss: 0.364148\teval's multi_logloss: 0.391203\n",
      "[200]\ttrain's multi_logloss: 0.299683\teval's multi_logloss: 0.354775\n",
      "[300]\ttrain's multi_logloss: 0.265981\teval's multi_logloss: 0.349845\n",
      "[400]\ttrain's multi_logloss: 0.240478\teval's multi_logloss: 0.347947\n",
      "[500]\ttrain's multi_logloss: 0.217475\teval's multi_logloss: 0.346989\n",
      "Early stopping, best iteration is:\n",
      "[486]\ttrain's multi_logloss: 0.220218\teval's multi_logloss: 0.346679\n"
     ]
    },
    {
     "name": "stderr",
     "output_type": "stream",
     "text": [
      "regularization_factors, val_score: 0.346679:  90%|9| 18/20 [00:17<00:01,  1.03i\u001b[32m[I 2021-06-13 10:13:19,698]\u001b[0m Trial 57 finished with value: 0.3466788688801941 and parameters: {'lambda_l1': 0.0034925155884373187, 'lambda_l2': 1.876142508522156e-05}. Best is trial 57 with value: 0.3466788688801941.\u001b[0m\n",
      "regularization_factors, val_score: 0.346679:  90%|9| 18/20 [00:17<00:01,  1.03i"
     ]
    },
    {
     "name": "stdout",
     "output_type": "stream",
     "text": [
      "Training until validation scores don't improve for 100 rounds\n",
      "[100]\ttrain's multi_logloss: 0.36403\teval's multi_logloss: 0.391106\n",
      "[200]\ttrain's multi_logloss: 0.299669\teval's multi_logloss: 0.354889\n",
      "[300]\ttrain's multi_logloss: 0.26533\teval's multi_logloss: 0.349663\n",
      "[400]\ttrain's multi_logloss: 0.239096\teval's multi_logloss: 0.348596\n",
      "[500]\ttrain's multi_logloss: 0.216543\teval's multi_logloss: 0.347937\n"
     ]
    },
    {
     "name": "stderr",
     "output_type": "stream",
     "text": [
      "regularization_factors, val_score: 0.346679:  95%|9| 19/20 [00:18<00:00,  1.02i\u001b[32m[I 2021-06-13 10:13:20,697]\u001b[0m Trial 58 finished with value: 0.3473008276821971 and parameters: {'lambda_l1': 0.0012610240306865, 'lambda_l2': 1.2956271285005232e-05}. Best is trial 57 with value: 0.3466788688801941.\u001b[0m\n",
      "regularization_factors, val_score: 0.346679:  95%|9| 19/20 [00:18<00:00,  1.02i"
     ]
    },
    {
     "name": "stdout",
     "output_type": "stream",
     "text": [
      "Early stopping, best iteration is:\n",
      "[462]\ttrain's multi_logloss: 0.224345\teval's multi_logloss: 0.347301\n",
      "Training until validation scores don't improve for 100 rounds\n",
      "[100]\ttrain's multi_logloss: 0.364302\teval's multi_logloss: 0.391121\n",
      "[200]\ttrain's multi_logloss: 0.299664\teval's multi_logloss: 0.35438\n",
      "[300]\ttrain's multi_logloss: 0.265752\teval's multi_logloss: 0.349295\n",
      "[400]\ttrain's multi_logloss: 0.238903\teval's multi_logloss: 0.347443\n",
      "[500]\ttrain's multi_logloss: 0.216964\teval's multi_logloss: 0.346421\n",
      "Early stopping, best iteration is:\n",
      "[498]\ttrain's multi_logloss: 0.217448\teval's multi_logloss: 0.346174\n"
     ]
    },
    {
     "name": "stderr",
     "output_type": "stream",
     "text": [
      "regularization_factors, val_score: 0.346174: 100%|#| 20/20 [00:19<00:00,  1.03s\u001b[32m[I 2021-06-13 10:13:21,841]\u001b[0m Trial 59 finished with value: 0.34617415413067193 and parameters: {'lambda_l1': 0.007431959447856127, 'lambda_l2': 2.3815857801477576e-06}. Best is trial 59 with value: 0.34617415413067193.\u001b[0m\n",
      "regularization_factors, val_score: 0.346174: 100%|#| 20/20 [00:19<00:00,  1.04i\n",
      "min_data_in_leaf, val_score: 0.346174:   0%|             | 0/5 [00:00<?, ?it/s]"
     ]
    },
    {
     "name": "stdout",
     "output_type": "stream",
     "text": [
      "Training until validation scores don't improve for 100 rounds\n",
      "[100]\ttrain's multi_logloss: 0.430206\teval's multi_logloss: 0.434737\n",
      "[200]\ttrain's multi_logloss: 0.368439\teval's multi_logloss: 0.380796\n",
      "[300]\ttrain's multi_logloss: 0.339596\teval's multi_logloss: 0.361516\n",
      "[400]\ttrain's multi_logloss: 0.320987\teval's multi_logloss: 0.35105\n",
      "[500]\ttrain's multi_logloss: 0.307369\teval's multi_logloss: 0.346144\n",
      "[600]\ttrain's multi_logloss: 0.296201\teval's multi_logloss: 0.346718\n",
      "[700]\ttrain's multi_logloss: 0.286172\teval's multi_logloss: 0.345136\n"
     ]
    },
    {
     "name": "stderr",
     "output_type": "stream",
     "text": [
      "min_data_in_leaf, val_score: 0.344885:  20%|#    | 1/5 [00:01<00:04,  1.08s/it]\u001b[32m[I 2021-06-13 10:13:22,942]\u001b[0m Trial 60 finished with value: 0.3448850251958328 and parameters: {'min_child_samples': 100}. Best is trial 60 with value: 0.3448850251958328.\u001b[0m\n",
      "min_data_in_leaf, val_score: 0.344885:  20%|#    | 1/5 [00:01<00:04,  1.08s/it]"
     ]
    },
    {
     "name": "stdout",
     "output_type": "stream",
     "text": [
      "[800]\ttrain's multi_logloss: 0.277503\teval's multi_logloss: 0.34796\n",
      "Early stopping, best iteration is:\n",
      "[708]\ttrain's multi_logloss: 0.285616\teval's multi_logloss: 0.344885\n",
      "Training until validation scores don't improve for 100 rounds\n",
      "[100]\ttrain's multi_logloss: 0.356066\teval's multi_logloss: 0.391268\n",
      "[200]\ttrain's multi_logloss: 0.286971\teval's multi_logloss: 0.357444\n",
      "[300]\ttrain's multi_logloss: 0.249998\teval's multi_logloss: 0.352333\n",
      "[400]\ttrain's multi_logloss: 0.222882\teval's multi_logloss: 0.351494\n",
      "[500]\ttrain's multi_logloss: 0.200502\teval's multi_logloss: 0.348641\n"
     ]
    },
    {
     "name": "stderr",
     "output_type": "stream",
     "text": [
      "min_data_in_leaf, val_score: 0.344885:  40%|##   | 2/5 [00:02<00:03,  1.11s/it]\u001b[32m[I 2021-06-13 10:13:24,056]\u001b[0m Trial 61 finished with value: 0.3479762876075869 and parameters: {'min_child_samples': 10}. Best is trial 60 with value: 0.3448850251958328.\u001b[0m\n",
      "min_data_in_leaf, val_score: 0.344885:  40%|##   | 2/5 [00:02<00:03,  1.11s/it]"
     ]
    },
    {
     "name": "stdout",
     "output_type": "stream",
     "text": [
      "Early stopping, best iteration is:\n",
      "[491]\ttrain's multi_logloss: 0.202419\teval's multi_logloss: 0.347976\n",
      "Training until validation scores don't improve for 100 rounds\n",
      "[100]\ttrain's multi_logloss: 0.385979\teval's multi_logloss: 0.399103\n",
      "[200]\ttrain's multi_logloss: 0.326976\teval's multi_logloss: 0.364618\n",
      "[300]\ttrain's multi_logloss: 0.295692\teval's multi_logloss: 0.355576\n",
      "[400]\ttrain's multi_logloss: 0.270512\teval's multi_logloss: 0.352127\n",
      "[500]\ttrain's multi_logloss: 0.251493\teval's multi_logloss: 0.351466\n",
      "Early stopping, best iteration is:\n",
      "[492]\ttrain's multi_logloss: 0.252574\teval's multi_logloss: 0.350762\n"
     ]
    },
    {
     "name": "stderr",
     "output_type": "stream",
     "text": [
      "min_data_in_leaf, val_score: 0.344885:  60%|###  | 3/5 [00:03<00:02,  1.06s/it]\u001b[32m[I 2021-06-13 10:13:25,064]\u001b[0m Trial 62 finished with value: 0.350761879806059 and parameters: {'min_child_samples': 50}. Best is trial 60 with value: 0.3448850251958328.\u001b[0m\n",
      "min_data_in_leaf, val_score: 0.344885:  60%|###  | 3/5 [00:03<00:02,  1.06s/it]"
     ]
    },
    {
     "name": "stdout",
     "output_type": "stream",
     "text": [
      "Training until validation scores don't improve for 100 rounds\n",
      "[100]\ttrain's multi_logloss: 0.367552\teval's multi_logloss: 0.391278\n",
      "[200]\ttrain's multi_logloss: 0.303531\teval's multi_logloss: 0.357416\n",
      "[300]\ttrain's multi_logloss: 0.271164\teval's multi_logloss: 0.351023\n"
     ]
    },
    {
     "name": "stderr",
     "output_type": "stream",
     "text": [
      "min_data_in_leaf, val_score: 0.344885:  80%|#### | 4/5 [00:03<00:00,  1.06it/s]\u001b[32m[I 2021-06-13 10:13:25,832]\u001b[0m Trial 63 finished with value: 0.3509754962650209 and parameters: {'min_child_samples': 25}. Best is trial 60 with value: 0.3448850251958328.\u001b[0m\n",
      "min_data_in_leaf, val_score: 0.344885:  80%|#### | 4/5 [00:03<00:00,  1.06it/s]"
     ]
    },
    {
     "name": "stdout",
     "output_type": "stream",
     "text": [
      "[400]\ttrain's multi_logloss: 0.245135\teval's multi_logloss: 0.351455\n",
      "Early stopping, best iteration is:\n",
      "[302]\ttrain's multi_logloss: 0.270634\teval's multi_logloss: 0.350975\n",
      "Training until validation scores don't improve for 100 rounds\n",
      "[100]\ttrain's multi_logloss: 0.349516\teval's multi_logloss: 0.390444\n",
      "[200]\ttrain's multi_logloss: 0.27626\teval's multi_logloss: 0.357288\n",
      "[300]\ttrain's multi_logloss: 0.239318\teval's multi_logloss: 0.355115\n",
      "[400]\ttrain's multi_logloss: 0.210413\teval's multi_logloss: 0.356165\n",
      "Early stopping, best iteration is:\n",
      "[318]\ttrain's multi_logloss: 0.234116\teval's multi_logloss: 0.354068\n"
     ]
    },
    {
     "name": "stderr",
     "output_type": "stream",
     "text": [
      "min_data_in_leaf, val_score: 0.344885: 100%|#####| 5/5 [00:04<00:00,  1.14it/s]\u001b[32m[I 2021-06-13 10:13:26,599]\u001b[0m Trial 64 finished with value: 0.3540683432796607 and parameters: {'min_child_samples': 5}. Best is trial 60 with value: 0.3448850251958328.\u001b[0m\n",
      "min_data_in_leaf, val_score: 0.344885: 100%|#####| 5/5 [00:04<00:00,  1.05it/s]\n",
      "\u001b[32m[I 2021-06-13 10:13:26,692]\u001b[0m A new study created in memory with name: no-name-d27eac60-6e5f-4cdc-84f4-82b7eb04f0fe\u001b[0m\n",
      "feature_fraction, val_score: inf:   0%|                  | 0/7 [00:00<?, ?it/s]"
     ]
    },
    {
     "name": "stdout",
     "output_type": "stream",
     "text": [
      "Training until validation scores don't improve for 100 rounds\n",
      "[100]\ttrain's multi_logloss: 0.3757\teval's multi_logloss: 0.448859\n",
      "[200]\ttrain's multi_logloss: 0.277444\teval's multi_logloss: 0.403061\n",
      "[300]\ttrain's multi_logloss: 0.219523\teval's multi_logloss: 0.396885\n",
      "[400]\ttrain's multi_logloss: 0.179578\teval's multi_logloss: 0.400192\n",
      "Early stopping, best iteration is:\n",
      "[315]\ttrain's multi_logloss: 0.212755\teval's multi_logloss: 0.396726\n"
     ]
    },
    {
     "name": "stderr",
     "output_type": "stream",
     "text": [
      "feature_fraction, val_score: 0.396726:  14%|7    | 1/7 [00:01<00:08,  1.41s/it]\u001b[32m[I 2021-06-13 10:13:28,121]\u001b[0m Trial 0 finished with value: 0.3967255427202416 and parameters: {'feature_fraction': 0.5}. Best is trial 0 with value: 0.3967255427202416.\u001b[0m\n",
      "feature_fraction, val_score: 0.396726:  14%|7    | 1/7 [00:01<00:08,  1.41s/it]"
     ]
    },
    {
     "name": "stdout",
     "output_type": "stream",
     "text": [
      "Training until validation scores don't improve for 100 rounds\n",
      "[100]\ttrain's multi_logloss: 0.357526\teval's multi_logloss: 0.438094\n",
      "[200]\ttrain's multi_logloss: 0.259865\teval's multi_logloss: 0.400206\n",
      "[300]\ttrain's multi_logloss: 0.202848\teval's multi_logloss: 0.401425\n",
      "Early stopping, best iteration is:\n",
      "[224]\ttrain's multi_logloss: 0.243521\teval's multi_logloss: 0.398769\n"
     ]
    },
    {
     "name": "stderr",
     "output_type": "stream",
     "text": [
      "feature_fraction, val_score: 0.396726:  29%|#4   | 2/7 [00:02<00:06,  1.23s/it]\u001b[32m[I 2021-06-13 10:13:29,211]\u001b[0m Trial 1 finished with value: 0.39876900033872326 and parameters: {'feature_fraction': 0.7}. Best is trial 0 with value: 0.3967255427202416.\u001b[0m\n",
      "feature_fraction, val_score: 0.396726:  29%|#4   | 2/7 [00:02<00:06,  1.23s/it]"
     ]
    },
    {
     "name": "stdout",
     "output_type": "stream",
     "text": [
      "Training until validation scores don't improve for 100 rounds\n",
      "[100]\ttrain's multi_logloss: 0.482922\teval's multi_logloss: 0.552121\n",
      "[200]\ttrain's multi_logloss: 0.391297\teval's multi_logloss: 0.508539\n",
      "[300]\ttrain's multi_logloss: 0.330799\teval's multi_logloss: 0.483114\n",
      "[400]\ttrain's multi_logloss: 0.282448\teval's multi_logloss: 0.464849\n",
      "[500]\ttrain's multi_logloss: 0.246195\teval's multi_logloss: 0.455007\n",
      "[600]\ttrain's multi_logloss: 0.212688\teval's multi_logloss: 0.446609\n",
      "[700]\ttrain's multi_logloss: 0.186473\teval's multi_logloss: 0.446538\n",
      "Early stopping, best iteration is:\n",
      "[679]\ttrain's multi_logloss: 0.191285\teval's multi_logloss: 0.445464\n"
     ]
    },
    {
     "name": "stderr",
     "output_type": "stream",
     "text": [
      "feature_fraction, val_score: 0.396726:  43%|##1  | 3/7 [00:05<00:07,  1.97s/it]\u001b[32m[I 2021-06-13 10:13:32,064]\u001b[0m Trial 2 finished with value: 0.4454636035765842 and parameters: {'feature_fraction': 0.4}. Best is trial 0 with value: 0.3967255427202416.\u001b[0m\n",
      "feature_fraction, val_score: 0.396726:  43%|##1  | 3/7 [00:05<00:07,  1.97s/it]"
     ]
    },
    {
     "name": "stdout",
     "output_type": "stream",
     "text": [
      "Training until validation scores don't improve for 100 rounds\n",
      "[100]\ttrain's multi_logloss: 0.334017\teval's multi_logloss: 0.425086\n",
      "[200]\ttrain's multi_logloss: 0.24209\teval's multi_logloss: 0.406513\n"
     ]
    },
    {
     "name": "stderr",
     "output_type": "stream",
     "text": [
      "feature_fraction, val_score: 0.396726:  57%|##8  | 4/7 [00:06<00:04,  1.60s/it]\u001b[32m[I 2021-06-13 10:13:33,093]\u001b[0m Trial 3 finished with value: 0.40578674364423784 and parameters: {'feature_fraction': 0.8999999999999999}. Best is trial 0 with value: 0.3967255427202416.\u001b[0m\n",
      "feature_fraction, val_score: 0.396726:  57%|##8  | 4/7 [00:06<00:04,  1.60s/it]"
     ]
    },
    {
     "name": "stdout",
     "output_type": "stream",
     "text": [
      "Early stopping, best iteration is:\n",
      "[191]\ttrain's multi_logloss: 0.248939\teval's multi_logloss: 0.405787\n",
      "Training until validation scores don't improve for 100 rounds\n",
      "[100]\ttrain's multi_logloss: 0.328926\teval's multi_logloss: 0.423198\n",
      "[200]\ttrain's multi_logloss: 0.237851\teval's multi_logloss: 0.408342\n"
     ]
    },
    {
     "name": "stderr",
     "output_type": "stream",
     "text": [
      "feature_fraction, val_score: 0.396726:  71%|###5 | 5/7 [00:07<00:02,  1.43s/it]\u001b[32m[I 2021-06-13 10:13:34,231]\u001b[0m Trial 4 finished with value: 0.40732318046680405 and parameters: {'feature_fraction': 1.0}. Best is trial 0 with value: 0.3967255427202416.\u001b[0m\n",
      "feature_fraction, val_score: 0.396726:  71%|###5 | 5/7 [00:07<00:02,  1.43s/it]"
     ]
    },
    {
     "name": "stdout",
     "output_type": "stream",
     "text": [
      "Early stopping, best iteration is:\n",
      "[195]\ttrain's multi_logloss: 0.241812\teval's multi_logloss: 0.407323\n",
      "Training until validation scores don't improve for 100 rounds\n",
      "[100]\ttrain's multi_logloss: 0.3757\teval's multi_logloss: 0.448859\n",
      "[200]\ttrain's multi_logloss: 0.277444\teval's multi_logloss: 0.403061\n",
      "[300]\ttrain's multi_logloss: 0.219523\teval's multi_logloss: 0.396885\n",
      "[400]\ttrain's multi_logloss: 0.179578\teval's multi_logloss: 0.400192\n",
      "Early stopping, best iteration is:\n",
      "[315]\ttrain's multi_logloss: 0.212755\teval's multi_logloss: 0.396726\n"
     ]
    },
    {
     "name": "stderr",
     "output_type": "stream",
     "text": [
      "feature_fraction, val_score: 0.396726:  86%|####2| 6/7 [00:08<00:01,  1.43s/it]\u001b[32m[I 2021-06-13 10:13:35,656]\u001b[0m Trial 5 finished with value: 0.3967255427202416 and parameters: {'feature_fraction': 0.6}. Best is trial 0 with value: 0.3967255427202416.\u001b[0m\n",
      "feature_fraction, val_score: 0.396726:  86%|####2| 6/7 [00:08<00:01,  1.43s/it]"
     ]
    },
    {
     "name": "stdout",
     "output_type": "stream",
     "text": [
      "Training until validation scores don't improve for 100 rounds\n",
      "[100]\ttrain's multi_logloss: 0.342801\teval's multi_logloss: 0.430665\n",
      "[200]\ttrain's multi_logloss: 0.248356\teval's multi_logloss: 0.400644\n"
     ]
    },
    {
     "name": "stderr",
     "output_type": "stream",
     "text": [
      "\r",
      "feature_fraction, val_score: 0.396726:  86%|####2| 6/7 [00:10<00:01,  1.43s/it]"
     ]
    },
    {
     "name": "stdout",
     "output_type": "stream",
     "text": [
      "[300]\ttrain's multi_logloss: 0.19098\teval's multi_logloss: 0.407947\n",
      "Early stopping, best iteration is:\n",
      "[214]\ttrain's multi_logloss: 0.238593\teval's multi_logloss: 0.400415\n"
     ]
    },
    {
     "name": "stderr",
     "output_type": "stream",
     "text": [
      "feature_fraction, val_score: 0.396726: 100%|#####| 7/7 [00:10<00:00,  1.32s/it]\u001b[32m[I 2021-06-13 10:13:36,738]\u001b[0m Trial 6 finished with value: 0.4004151514848862 and parameters: {'feature_fraction': 0.8}. Best is trial 0 with value: 0.3967255427202416.\u001b[0m\n",
      "feature_fraction, val_score: 0.396726: 100%|#####| 7/7 [00:10<00:00,  1.43s/it]\n",
      "num_leaves, val_score: 0.396726:   0%|                  | 0/20 [00:00<?, ?it/s]"
     ]
    },
    {
     "name": "stdout",
     "output_type": "stream",
     "text": [
      "Training until validation scores don't improve for 100 rounds\n",
      "[100]\ttrain's multi_logloss: 0.3757\teval's multi_logloss: 0.448859\n",
      "[200]\ttrain's multi_logloss: 0.277444\teval's multi_logloss: 0.40306\n",
      "[300]\ttrain's multi_logloss: 0.219522\teval's multi_logloss: 0.396882\n",
      "[400]\ttrain's multi_logloss: 0.179644\teval's multi_logloss: 0.400006\n",
      "Early stopping, best iteration is:\n",
      "[315]\ttrain's multi_logloss: 0.212754\teval's multi_logloss: 0.396723\n"
     ]
    },
    {
     "name": "stderr",
     "output_type": "stream",
     "text": [
      "num_leaves, val_score: 0.396723:   5%|5         | 1/20 [00:01<00:28,  1.51s/it]\u001b[32m[I 2021-06-13 10:13:38,256]\u001b[0m Trial 7 finished with value: 0.3967230392926775 and parameters: {'num_leaves': 176}. Best is trial 7 with value: 0.3967230392926775.\u001b[0m\n",
      "num_leaves, val_score: 0.396723:   5%|5         | 1/20 [00:01<00:28,  1.51s/it]"
     ]
    },
    {
     "name": "stdout",
     "output_type": "stream",
     "text": [
      "Training until validation scores don't improve for 100 rounds\n",
      "[100]\ttrain's multi_logloss: 0.3757\teval's multi_logloss: 0.448859\n",
      "[200]\ttrain's multi_logloss: 0.277444\teval's multi_logloss: 0.40306\n",
      "[300]\ttrain's multi_logloss: 0.219522\teval's multi_logloss: 0.396882\n",
      "[400]\ttrain's multi_logloss: 0.179644\teval's multi_logloss: 0.400006\n",
      "Early stopping, best iteration is:\n",
      "[315]\ttrain's multi_logloss: 0.212754\teval's multi_logloss: 0.396723\n"
     ]
    },
    {
     "name": "stderr",
     "output_type": "stream",
     "text": [
      "num_leaves, val_score: 0.396723:  10%|#         | 2/20 [00:02<00:26,  1.47s/it]\u001b[32m[I 2021-06-13 10:13:39,689]\u001b[0m Trial 8 finished with value: 0.3967230392926775 and parameters: {'num_leaves': 71}. Best is trial 7 with value: 0.3967230392926775.\u001b[0m\n",
      "num_leaves, val_score: 0.396723:  10%|#         | 2/20 [00:02<00:26,  1.47s/it]"
     ]
    },
    {
     "name": "stdout",
     "output_type": "stream",
     "text": [
      "Training until validation scores don't improve for 100 rounds\n",
      "[100]\ttrain's multi_logloss: 0.3757\teval's multi_logloss: 0.448859\n",
      "[200]\ttrain's multi_logloss: 0.277444\teval's multi_logloss: 0.40306\n",
      "[300]\ttrain's multi_logloss: 0.219522\teval's multi_logloss: 0.396882\n",
      "[400]\ttrain's multi_logloss: 0.179644\teval's multi_logloss: 0.400006\n",
      "Early stopping, best iteration is:\n",
      "[315]\ttrain's multi_logloss: 0.212754\teval's multi_logloss: 0.396723\n"
     ]
    },
    {
     "name": "stderr",
     "output_type": "stream",
     "text": [
      "num_leaves, val_score: 0.396723:  15%|#5        | 3/20 [00:04<00:24,  1.45s/it]\u001b[32m[I 2021-06-13 10:13:41,122]\u001b[0m Trial 9 finished with value: 0.3967230392926775 and parameters: {'num_leaves': 187}. Best is trial 7 with value: 0.3967230392926775.\u001b[0m\n",
      "num_leaves, val_score: 0.396723:  15%|#5        | 3/20 [00:04<00:24,  1.45s/it]"
     ]
    },
    {
     "name": "stdout",
     "output_type": "stream",
     "text": [
      "Training until validation scores don't improve for 100 rounds\n",
      "[100]\ttrain's multi_logloss: 0.416914\teval's multi_logloss: 0.461443\n",
      "[200]\ttrain's multi_logloss: 0.348556\teval's multi_logloss: 0.415023\n",
      "[300]\ttrain's multi_logloss: 0.316016\teval's multi_logloss: 0.400552\n",
      "[400]\ttrain's multi_logloss: 0.296973\teval's multi_logloss: 0.394415\n",
      "[500]\ttrain's multi_logloss: 0.28277\teval's multi_logloss: 0.392835\n",
      "[600]\ttrain's multi_logloss: 0.271542\teval's multi_logloss: 0.392659\n",
      "Early stopping, best iteration is:\n",
      "[580]\ttrain's multi_logloss: 0.273804\teval's multi_logloss: 0.391753\n"
     ]
    },
    {
     "name": "stderr",
     "output_type": "stream",
     "text": [
      "num_leaves, val_score: 0.391753:  20%|##        | 4/20 [00:05<00:19,  1.22s/it]\u001b[32m[I 2021-06-13 10:13:41,997]\u001b[0m Trial 10 finished with value: 0.39175284890799633 and parameters: {'num_leaves': 5}. Best is trial 10 with value: 0.39175284890799633.\u001b[0m\n",
      "num_leaves, val_score: 0.391753:  20%|##        | 4/20 [00:05<00:19,  1.22s/it]"
     ]
    },
    {
     "name": "stdout",
     "output_type": "stream",
     "text": [
      "Training until validation scores don't improve for 100 rounds\n",
      "[100]\ttrain's multi_logloss: 0.3757\teval's multi_logloss: 0.448859\n",
      "[200]\ttrain's multi_logloss: 0.277444\teval's multi_logloss: 0.40306\n",
      "[300]\ttrain's multi_logloss: 0.219522\teval's multi_logloss: 0.396882\n",
      "[400]\ttrain's multi_logloss: 0.179644\teval's multi_logloss: 0.400006\n",
      "Early stopping, best iteration is:\n",
      "[315]\ttrain's multi_logloss: 0.212754\teval's multi_logloss: 0.396723\n"
     ]
    },
    {
     "name": "stderr",
     "output_type": "stream",
     "text": [
      "num_leaves, val_score: 0.391753:  25%|##5       | 5/20 [00:06<00:19,  1.32s/it]\u001b[32m[I 2021-06-13 10:13:43,490]\u001b[0m Trial 11 finished with value: 0.3967230392926775 and parameters: {'num_leaves': 195}. Best is trial 10 with value: 0.39175284890799633.\u001b[0m\n",
      "num_leaves, val_score: 0.391753:  25%|##5       | 5/20 [00:06<00:19,  1.32s/it]"
     ]
    },
    {
     "name": "stdout",
     "output_type": "stream",
     "text": [
      "Training until validation scores don't improve for 100 rounds\n",
      "[100]\ttrain's multi_logloss: 0.3757\teval's multi_logloss: 0.448859\n",
      "[200]\ttrain's multi_logloss: 0.277444\teval's multi_logloss: 0.40306\n",
      "[300]\ttrain's multi_logloss: 0.219522\teval's multi_logloss: 0.396882\n",
      "[400]\ttrain's multi_logloss: 0.179644\teval's multi_logloss: 0.400006\n",
      "Early stopping, best iteration is:\n",
      "[315]\ttrain's multi_logloss: 0.212754\teval's multi_logloss: 0.396723\n"
     ]
    },
    {
     "name": "stderr",
     "output_type": "stream",
     "text": [
      "num_leaves, val_score: 0.391753:  30%|###       | 6/20 [00:08<00:18,  1.35s/it]\u001b[32m[I 2021-06-13 10:13:44,883]\u001b[0m Trial 12 finished with value: 0.3967230392926775 and parameters: {'num_leaves': 97}. Best is trial 10 with value: 0.39175284890799633.\u001b[0m\n",
      "num_leaves, val_score: 0.391753:  30%|###       | 6/20 [00:08<00:18,  1.35s/it]"
     ]
    },
    {
     "name": "stdout",
     "output_type": "stream",
     "text": [
      "Training until validation scores don't improve for 100 rounds\n",
      "[100]\ttrain's multi_logloss: 0.3757\teval's multi_logloss: 0.448859\n",
      "[200]\ttrain's multi_logloss: 0.277444\teval's multi_logloss: 0.40306\n",
      "[300]\ttrain's multi_logloss: 0.219522\teval's multi_logloss: 0.396882\n",
      "[400]\ttrain's multi_logloss: 0.179644\teval's multi_logloss: 0.400006\n",
      "Early stopping, best iteration is:\n",
      "[315]\ttrain's multi_logloss: 0.212754\teval's multi_logloss: 0.396723\n"
     ]
    },
    {
     "name": "stderr",
     "output_type": "stream",
     "text": [
      "num_leaves, val_score: 0.391753:  35%|###5      | 7/20 [00:09<00:17,  1.38s/it]\u001b[32m[I 2021-06-13 10:13:46,337]\u001b[0m Trial 13 finished with value: 0.3967230392926775 and parameters: {'num_leaves': 50}. Best is trial 10 with value: 0.39175284890799633.\u001b[0m\n",
      "num_leaves, val_score: 0.391753:  35%|###5      | 7/20 [00:09<00:17,  1.38s/it]"
     ]
    },
    {
     "name": "stdout",
     "output_type": "stream",
     "text": [
      "Training until validation scores don't improve for 100 rounds\n",
      "[100]\ttrain's multi_logloss: 0.3757\teval's multi_logloss: 0.448859\n",
      "[200]\ttrain's multi_logloss: 0.277444\teval's multi_logloss: 0.40306\n",
      "[300]\ttrain's multi_logloss: 0.219522\teval's multi_logloss: 0.396882\n",
      "[400]\ttrain's multi_logloss: 0.179644\teval's multi_logloss: 0.400006\n",
      "Early stopping, best iteration is:\n",
      "[315]\ttrain's multi_logloss: 0.212754\teval's multi_logloss: 0.396723\n"
     ]
    },
    {
     "name": "stderr",
     "output_type": "stream",
     "text": [
      "num_leaves, val_score: 0.391753:  40%|####      | 8/20 [00:11<00:16,  1.40s/it]\u001b[32m[I 2021-06-13 10:13:47,789]\u001b[0m Trial 14 finished with value: 0.3967230392926775 and parameters: {'num_leaves': 79}. Best is trial 10 with value: 0.39175284890799633.\u001b[0m\n",
      "num_leaves, val_score: 0.391753:  40%|####      | 8/20 [00:11<00:16,  1.40s/it]"
     ]
    },
    {
     "name": "stdout",
     "output_type": "stream",
     "text": [
      "Training until validation scores don't improve for 100 rounds\n",
      "[100]\ttrain's multi_logloss: 0.3757\teval's multi_logloss: 0.448859\n",
      "[200]\ttrain's multi_logloss: 0.277444\teval's multi_logloss: 0.40306\n",
      "[300]\ttrain's multi_logloss: 0.219522\teval's multi_logloss: 0.396882\n",
      "[400]\ttrain's multi_logloss: 0.179644\teval's multi_logloss: 0.400006\n",
      "Early stopping, best iteration is:\n",
      "[315]\ttrain's multi_logloss: 0.212754\teval's multi_logloss: 0.396723\n"
     ]
    },
    {
     "name": "stderr",
     "output_type": "stream",
     "text": [
      "num_leaves, val_score: 0.391753:  45%|####5     | 9/20 [00:12<00:15,  1.43s/it]\u001b[32m[I 2021-06-13 10:13:49,271]\u001b[0m Trial 15 finished with value: 0.3967230392926775 and parameters: {'num_leaves': 248}. Best is trial 10 with value: 0.39175284890799633.\u001b[0m\n",
      "num_leaves, val_score: 0.391753:  45%|####5     | 9/20 [00:12<00:15,  1.43s/it]"
     ]
    },
    {
     "name": "stdout",
     "output_type": "stream",
     "text": [
      "Training until validation scores don't improve for 100 rounds\n",
      "[100]\ttrain's multi_logloss: 0.390404\teval's multi_logloss: 0.451803\n",
      "[200]\ttrain's multi_logloss: 0.30475\teval's multi_logloss: 0.405699\n",
      "[300]\ttrain's multi_logloss: 0.257396\teval's multi_logloss: 0.395603\n",
      "[400]\ttrain's multi_logloss: 0.226478\teval's multi_logloss: 0.393901\n"
     ]
    },
    {
     "name": "stderr",
     "output_type": "stream",
     "text": [
      "num_leaves, val_score: 0.391753:  50%|####5    | 10/20 [00:13<00:12,  1.30s/it]\u001b[32m[I 2021-06-13 10:13:50,273]\u001b[0m Trial 16 finished with value: 0.39309193818104887 and parameters: {'num_leaves': 14}. Best is trial 10 with value: 0.39175284890799633.\u001b[0m\n",
      "num_leaves, val_score: 0.391753:  50%|####5    | 10/20 [00:13<00:12,  1.30s/it]"
     ]
    },
    {
     "name": "stdout",
     "output_type": "stream",
     "text": [
      "Early stopping, best iteration is:\n",
      "[385]\ttrain's multi_logloss: 0.230602\teval's multi_logloss: 0.393092\n",
      "Training until validation scores don't improve for 100 rounds\n",
      "[100]\ttrain's multi_logloss: 0.40556\teval's multi_logloss: 0.456339\n",
      "[200]\ttrain's multi_logloss: 0.329771\teval's multi_logloss: 0.40916\n",
      "[300]\ttrain's multi_logloss: 0.29073\teval's multi_logloss: 0.396368\n",
      "[400]\ttrain's multi_logloss: 0.266762\teval's multi_logloss: 0.392318\n"
     ]
    },
    {
     "name": "stderr",
     "output_type": "stream",
     "text": [
      "num_leaves, val_score: 0.391645:  55%|####9    | 11/20 [00:14<00:10,  1.12s/it]\u001b[32m[I 2021-06-13 10:13:50,987]\u001b[0m Trial 17 finished with value: 0.39164517584076675 and parameters: {'num_leaves': 8}. Best is trial 17 with value: 0.39164517584076675.\u001b[0m\n",
      "num_leaves, val_score: 0.391645:  55%|####9    | 11/20 [00:14<00:10,  1.12s/it]"
     ]
    },
    {
     "name": "stdout",
     "output_type": "stream",
     "text": [
      "Early stopping, best iteration is:\n",
      "[385]\ttrain's multi_logloss: 0.270011\teval's multi_logloss: 0.391645\n",
      "Training until validation scores don't improve for 100 rounds\n",
      "[100]\ttrain's multi_logloss: 0.412421\teval's multi_logloss: 0.459019\n",
      "[200]\ttrain's multi_logloss: 0.341417\teval's multi_logloss: 0.411661\n",
      "[300]\ttrain's multi_logloss: 0.306414\teval's multi_logloss: 0.398108\n",
      "[400]\ttrain's multi_logloss: 0.285874\teval's multi_logloss: 0.392557\n",
      "[500]\ttrain's multi_logloss: 0.26993\teval's multi_logloss: 0.391691\n",
      "[600]\ttrain's multi_logloss: 0.257103\teval's multi_logloss: 0.392495\n",
      "Early stopping, best iteration is:\n",
      "[515]\ttrain's multi_logloss: 0.268067\teval's multi_logloss: 0.390925\n"
     ]
    },
    {
     "name": "stderr",
     "output_type": "stream",
     "text": [
      "num_leaves, val_score: 0.390925:  60%|#####3   | 12/20 [00:15<00:08,  1.04s/it]\u001b[32m[I 2021-06-13 10:13:51,838]\u001b[0m Trial 18 finished with value: 0.3909247500868752 and parameters: {'num_leaves': 6}. Best is trial 18 with value: 0.3909247500868752.\u001b[0m\n",
      "num_leaves, val_score: 0.390925:  60%|#####3   | 12/20 [00:15<00:08,  1.04s/it]"
     ]
    },
    {
     "name": "stdout",
     "output_type": "stream",
     "text": [
      "Training until validation scores don't improve for 100 rounds\n",
      "[100]\ttrain's multi_logloss: 0.408745\teval's multi_logloss: 0.45788\n",
      "[200]\ttrain's multi_logloss: 0.335243\teval's multi_logloss: 0.410015\n",
      "[300]\ttrain's multi_logloss: 0.29825\teval's multi_logloss: 0.397296\n",
      "[400]\ttrain's multi_logloss: 0.275897\teval's multi_logloss: 0.392545\n",
      "[500]\ttrain's multi_logloss: 0.258449\teval's multi_logloss: 0.391806\n"
     ]
    },
    {
     "name": "stderr",
     "output_type": "stream",
     "text": [
      "num_leaves, val_score: 0.390925:  65%|#####8   | 13/20 [00:15<00:06,  1.02it/s]\u001b[32m[I 2021-06-13 10:13:52,672]\u001b[0m Trial 19 finished with value: 0.3910256124715843 and parameters: {'num_leaves': 7}. Best is trial 18 with value: 0.3909247500868752.\u001b[0m\n",
      "num_leaves, val_score: 0.390925:  65%|#####8   | 13/20 [00:15<00:06,  1.02it/s]"
     ]
    },
    {
     "name": "stdout",
     "output_type": "stream",
     "text": [
      "[600]\ttrain's multi_logloss: 0.244674\teval's multi_logloss: 0.393096\n",
      "Early stopping, best iteration is:\n",
      "[515]\ttrain's multi_logloss: 0.256445\teval's multi_logloss: 0.391026\n",
      "Training until validation scores don't improve for 100 rounds\n",
      "[100]\ttrain's multi_logloss: 0.37567\teval's multi_logloss: 0.448869\n",
      "[200]\ttrain's multi_logloss: 0.277343\teval's multi_logloss: 0.403378\n",
      "[300]\ttrain's multi_logloss: 0.219317\teval's multi_logloss: 0.397139\n",
      "[400]\ttrain's multi_logloss: 0.179514\teval's multi_logloss: 0.400099\n",
      "Early stopping, best iteration is:\n",
      "[315]\ttrain's multi_logloss: 0.212543\teval's multi_logloss: 0.396928\n"
     ]
    },
    {
     "name": "stderr",
     "output_type": "stream",
     "text": [
      "num_leaves, val_score: 0.390925:  70%|######3  | 14/20 [00:17<00:06,  1.11s/it]\u001b[32m[I 2021-06-13 10:13:54,105]\u001b[0m Trial 20 finished with value: 0.3969276406062439 and parameters: {'num_leaves': 38}. Best is trial 18 with value: 0.3909247500868752.\u001b[0m\n",
      "num_leaves, val_score: 0.390925:  70%|######3  | 14/20 [00:17<00:06,  1.11s/it]"
     ]
    },
    {
     "name": "stdout",
     "output_type": "stream",
     "text": [
      "Training until validation scores don't improve for 100 rounds\n",
      "[100]\ttrain's multi_logloss: 0.3757\teval's multi_logloss: 0.448859\n",
      "[200]\ttrain's multi_logloss: 0.277444\teval's multi_logloss: 0.40306\n",
      "[300]\ttrain's multi_logloss: 0.219522\teval's multi_logloss: 0.396882\n",
      "[400]\ttrain's multi_logloss: 0.179644\teval's multi_logloss: 0.400006\n",
      "Early stopping, best iteration is:\n",
      "[315]\ttrain's multi_logloss: 0.212754\teval's multi_logloss: 0.396723\n"
     ]
    },
    {
     "name": "stderr",
     "output_type": "stream",
     "text": [
      "num_leaves, val_score: 0.390925:  75%|######7  | 15/20 [00:18<00:06,  1.23s/it]\u001b[32m[I 2021-06-13 10:13:55,599]\u001b[0m Trial 21 finished with value: 0.3967230392926775 and parameters: {'num_leaves': 126}. Best is trial 18 with value: 0.3909247500868752.\u001b[0m\n",
      "num_leaves, val_score: 0.390925:  75%|######7  | 15/20 [00:18<00:06,  1.23s/it]"
     ]
    },
    {
     "name": "stdout",
     "output_type": "stream",
     "text": [
      "Training until validation scores don't improve for 100 rounds\n",
      "[100]\ttrain's multi_logloss: 0.37567\teval's multi_logloss: 0.448869\n",
      "[200]\ttrain's multi_logloss: 0.277343\teval's multi_logloss: 0.403378\n",
      "[300]\ttrain's multi_logloss: 0.219317\teval's multi_logloss: 0.397139\n",
      "[400]\ttrain's multi_logloss: 0.179514\teval's multi_logloss: 0.400099\n",
      "Early stopping, best iteration is:\n",
      "[315]\ttrain's multi_logloss: 0.212543\teval's multi_logloss: 0.396928\n"
     ]
    },
    {
     "name": "stderr",
     "output_type": "stream",
     "text": [
      "num_leaves, val_score: 0.390925:  80%|#######2 | 16/20 [00:20<00:05,  1.27s/it]\u001b[32m[I 2021-06-13 10:13:56,957]\u001b[0m Trial 22 finished with value: 0.3969276406062439 and parameters: {'num_leaves': 38}. Best is trial 18 with value: 0.3909247500868752.\u001b[0m\n",
      "num_leaves, val_score: 0.390925:  80%|#######2 | 16/20 [00:20<00:05,  1.27s/it]"
     ]
    },
    {
     "name": "stdout",
     "output_type": "stream",
     "text": [
      "Training until validation scores don't improve for 100 rounds\n",
      "[100]\ttrain's multi_logloss: 0.3757\teval's multi_logloss: 0.448859\n",
      "[200]\ttrain's multi_logloss: 0.277444\teval's multi_logloss: 0.40306\n",
      "[300]\ttrain's multi_logloss: 0.219522\teval's multi_logloss: 0.396882\n",
      "[400]\ttrain's multi_logloss: 0.179644\teval's multi_logloss: 0.400006\n",
      "Early stopping, best iteration is:\n",
      "[315]\ttrain's multi_logloss: 0.212754\teval's multi_logloss: 0.396723\n"
     ]
    },
    {
     "name": "stderr",
     "output_type": "stream",
     "text": [
      "num_leaves, val_score: 0.390925:  85%|#######6 | 17/20 [00:21<00:04,  1.38s/it]\u001b[32m[I 2021-06-13 10:13:58,583]\u001b[0m Trial 23 finished with value: 0.3967230392926775 and parameters: {'num_leaves': 112}. Best is trial 18 with value: 0.3909247500868752.\u001b[0m\n",
      "num_leaves, val_score: 0.390925:  85%|#######6 | 17/20 [00:21<00:04,  1.38s/it]"
     ]
    },
    {
     "name": "stdout",
     "output_type": "stream",
     "text": [
      "Training until validation scores don't improve for 100 rounds\n",
      "[100]\ttrain's multi_logloss: 0.3757\teval's multi_logloss: 0.448859\n",
      "[200]\ttrain's multi_logloss: 0.277444\teval's multi_logloss: 0.40306\n",
      "[300]\ttrain's multi_logloss: 0.219522\teval's multi_logloss: 0.396882\n",
      "[400]\ttrain's multi_logloss: 0.179644\teval's multi_logloss: 0.400006\n",
      "Early stopping, best iteration is:\n",
      "[315]\ttrain's multi_logloss: 0.212754\teval's multi_logloss: 0.396723\n"
     ]
    },
    {
     "name": "stderr",
     "output_type": "stream",
     "text": [
      "num_leaves, val_score: 0.390925:  90%|########1| 18/20 [00:23<00:02,  1.41s/it]\u001b[32m[I 2021-06-13 10:14:00,087]\u001b[0m Trial 24 finished with value: 0.3967230392926775 and parameters: {'num_leaves': 161}. Best is trial 18 with value: 0.3909247500868752.\u001b[0m\n",
      "num_leaves, val_score: 0.390925:  90%|########1| 18/20 [00:23<00:02,  1.41s/it]"
     ]
    },
    {
     "name": "stdout",
     "output_type": "stream",
     "text": [
      "Training until validation scores don't improve for 100 rounds\n",
      "[100]\ttrain's multi_logloss: 0.3757\teval's multi_logloss: 0.448859\n",
      "[200]\ttrain's multi_logloss: 0.277444\teval's multi_logloss: 0.40306\n",
      "[300]\ttrain's multi_logloss: 0.219522\teval's multi_logloss: 0.396882\n",
      "[400]\ttrain's multi_logloss: 0.179644\teval's multi_logloss: 0.400006\n",
      "Early stopping, best iteration is:\n",
      "[315]\ttrain's multi_logloss: 0.212754\teval's multi_logloss: 0.396723\n"
     ]
    },
    {
     "name": "stderr",
     "output_type": "stream",
     "text": [
      "num_leaves, val_score: 0.390925:  95%|########5| 19/20 [00:24<00:01,  1.46s/it]\u001b[32m[I 2021-06-13 10:14:01,651]\u001b[0m Trial 25 finished with value: 0.3967230392926775 and parameters: {'num_leaves': 248}. Best is trial 18 with value: 0.3909247500868752.\u001b[0m\n",
      "num_leaves, val_score: 0.390925:  95%|########5| 19/20 [00:24<00:01,  1.46s/it]"
     ]
    },
    {
     "name": "stdout",
     "output_type": "stream",
     "text": [
      "Training until validation scores don't improve for 100 rounds\n",
      "[100]\ttrain's multi_logloss: 0.377484\teval's multi_logloss: 0.448797\n",
      "[200]\ttrain's multi_logloss: 0.280872\teval's multi_logloss: 0.403912\n",
      "[300]\ttrain's multi_logloss: 0.224441\teval's multi_logloss: 0.397542\n",
      "[400]\ttrain's multi_logloss: 0.18655\teval's multi_logloss: 0.399767\n",
      "Early stopping, best iteration is:\n",
      "[312]\ttrain's multi_logloss: 0.219516\teval's multi_logloss: 0.397289\n"
     ]
    },
    {
     "name": "stderr",
     "output_type": "stream",
     "text": [
      "num_leaves, val_score: 0.390925: 100%|#########| 20/20 [00:26<00:00,  1.37s/it]\u001b[32m[I 2021-06-13 10:14:02,809]\u001b[0m Trial 26 finished with value: 0.39728942825491637 and parameters: {'num_leaves': 27}. Best is trial 18 with value: 0.3909247500868752.\u001b[0m\n",
      "num_leaves, val_score: 0.390925: 100%|#########| 20/20 [00:26<00:00,  1.30s/it]\n",
      "bagging, val_score: 0.390925:   0%|                     | 0/10 [00:00<?, ?it/s]"
     ]
    },
    {
     "name": "stdout",
     "output_type": "stream",
     "text": [
      "Training until validation scores don't improve for 100 rounds\n",
      "[100]\ttrain's multi_logloss: 0.414666\teval's multi_logloss: 0.460259\n",
      "[200]\ttrain's multi_logloss: 0.345714\teval's multi_logloss: 0.413544\n",
      "[300]\ttrain's multi_logloss: 0.31217\teval's multi_logloss: 0.397603\n",
      "[400]\ttrain's multi_logloss: 0.290991\teval's multi_logloss: 0.391548\n",
      "[500]\ttrain's multi_logloss: 0.275596\teval's multi_logloss: 0.391081\n",
      "[600]\ttrain's multi_logloss: 0.263116\teval's multi_logloss: 0.391619\n",
      "Early stopping, best iteration is:\n",
      "[552]\ttrain's multi_logloss: 0.269043\teval's multi_logloss: 0.390589\n"
     ]
    },
    {
     "name": "stderr",
     "output_type": "stream",
     "text": [
      "bagging, val_score: 0.390589:  10%|#3           | 1/10 [00:00<00:07,  1.13it/s]\u001b[32m[I 2021-06-13 10:14:03,707]\u001b[0m Trial 27 finished with value: 0.39058882788724975 and parameters: {'bagging_fraction': 0.5088930382777467, 'bagging_freq': 4}. Best is trial 27 with value: 0.39058882788724975.\u001b[0m\n",
      "bagging, val_score: 0.390589:  10%|#3           | 1/10 [00:00<00:07,  1.13it/s]"
     ]
    },
    {
     "name": "stdout",
     "output_type": "stream",
     "text": [
      "Training until validation scores don't improve for 100 rounds\n",
      "[100]\ttrain's multi_logloss: 0.41353\teval's multi_logloss: 0.460277\n",
      "[200]\ttrain's multi_logloss: 0.343516\teval's multi_logloss: 0.412372\n",
      "[300]\ttrain's multi_logloss: 0.309076\teval's multi_logloss: 0.397031\n",
      "[400]\ttrain's multi_logloss: 0.287976\teval's multi_logloss: 0.391352\n",
      "[500]\ttrain's multi_logloss: 0.271859\teval's multi_logloss: 0.390208\n"
     ]
    },
    {
     "name": "stderr",
     "output_type": "stream",
     "text": [
      "bagging, val_score: 0.390087:  20%|##6          | 2/10 [00:01<00:06,  1.24it/s]\u001b[32m[I 2021-06-13 10:14:04,453]\u001b[0m Trial 28 finished with value: 0.39008662535274524 and parameters: {'bagging_fraction': 0.6341917918989621, 'bagging_freq': 5}. Best is trial 28 with value: 0.39008662535274524.\u001b[0m\n",
      "bagging, val_score: 0.390087:  20%|##6          | 2/10 [00:01<00:06,  1.24it/s]"
     ]
    },
    {
     "name": "stdout",
     "output_type": "stream",
     "text": [
      "[600]\ttrain's multi_logloss: 0.259449\teval's multi_logloss: 0.391764\n",
      "Early stopping, best iteration is:\n",
      "[502]\ttrain's multi_logloss: 0.271577\teval's multi_logloss: 0.390087\n",
      "Training until validation scores don't improve for 100 rounds\n",
      "[100]\ttrain's multi_logloss: 0.412345\teval's multi_logloss: 0.458496\n",
      "[200]\ttrain's multi_logloss: 0.341266\teval's multi_logloss: 0.411899\n",
      "[300]\ttrain's multi_logloss: 0.306528\teval's multi_logloss: 0.397961\n"
     ]
    },
    {
     "name": "stderr",
     "output_type": "stream",
     "text": [
      "bagging, val_score: 0.390087:  30%|###9         | 3/10 [00:02<00:04,  1.42it/s]\u001b[32m[I 2021-06-13 10:14:05,048]\u001b[0m Trial 29 finished with value: 0.3914463234546814 and parameters: {'bagging_fraction': 0.7357288336153405, 'bagging_freq': 5}. Best is trial 28 with value: 0.39008662535274524.\u001b[0m\n",
      "bagging, val_score: 0.390087:  30%|###9         | 3/10 [00:02<00:04,  1.42it/s]"
     ]
    },
    {
     "name": "stdout",
     "output_type": "stream",
     "text": [
      "[400]\ttrain's multi_logloss: 0.285757\teval's multi_logloss: 0.391907\n",
      "Early stopping, best iteration is:\n",
      "[395]\ttrain's multi_logloss: 0.286865\teval's multi_logloss: 0.391446\n",
      "Training until validation scores don't improve for 100 rounds\n",
      "[100]\ttrain's multi_logloss: 0.414195\teval's multi_logloss: 0.461455\n",
      "[200]\ttrain's multi_logloss: 0.345381\teval's multi_logloss: 0.416001\n",
      "[300]\ttrain's multi_logloss: 0.310113\teval's multi_logloss: 0.398369\n",
      "[400]\ttrain's multi_logloss: 0.289337\teval's multi_logloss: 0.393768\n",
      "[500]\ttrain's multi_logloss: 0.274059\teval's multi_logloss: 0.391937\n",
      "[600]\ttrain's multi_logloss: 0.26074\teval's multi_logloss: 0.391179\n"
     ]
    },
    {
     "name": "stderr",
     "output_type": "stream",
     "text": [
      "bagging, val_score: 0.390087:  40%|#####2       | 4/10 [00:03<00:04,  1.29it/s]\u001b[32m[I 2021-06-13 10:14:05,926]\u001b[0m Trial 30 finished with value: 0.39027670681640747 and parameters: {'bagging_fraction': 0.6032934058866319, 'bagging_freq': 7}. Best is trial 28 with value: 0.39008662535274524.\u001b[0m\n",
      "bagging, val_score: 0.390087:  40%|#####2       | 4/10 [00:03<00:04,  1.29it/s]"
     ]
    },
    {
     "name": "stdout",
     "output_type": "stream",
     "text": [
      "Early stopping, best iteration is:\n",
      "[553]\ttrain's multi_logloss: 0.266897\teval's multi_logloss: 0.390277\n",
      "Training until validation scores don't improve for 100 rounds\n",
      "[100]\ttrain's multi_logloss: 0.413035\teval's multi_logloss: 0.460905\n",
      "[200]\ttrain's multi_logloss: 0.34209\teval's multi_logloss: 0.414373\n",
      "[300]\ttrain's multi_logloss: 0.307643\teval's multi_logloss: 0.400062\n",
      "[400]\ttrain's multi_logloss: 0.286361\teval's multi_logloss: 0.394618\n",
      "[500]\ttrain's multi_logloss: 0.270758\teval's multi_logloss: 0.393941\n",
      "[600]\ttrain's multi_logloss: 0.257583\teval's multi_logloss: 0.394331"
     ]
    },
    {
     "name": "stderr",
     "output_type": "stream",
     "text": [
      "bagging, val_score: 0.390087:  50%|######5      | 5/10 [00:03<00:03,  1.27it/s]\u001b[32m[I 2021-06-13 10:14:06,733]\u001b[0m Trial 31 finished with value: 0.3934933014211759 and parameters: {'bagging_fraction': 0.7318490040325238, 'bagging_freq': 2}. Best is trial 28 with value: 0.39008662535274524.\u001b[0m\n",
      "bagging, val_score: 0.390087:  50%|######5      | 5/10 [00:03<00:03,  1.27it/s]"
     ]
    },
    {
     "name": "stdout",
     "output_type": "stream",
     "text": [
      "\n",
      "Early stopping, best iteration is:\n",
      "[540]\ttrain's multi_logloss: 0.265293\teval's multi_logloss: 0.393493\n",
      "Training until validation scores don't improve for 100 rounds\n",
      "[100]\ttrain's multi_logloss: 0.410975\teval's multi_logloss: 0.459538\n",
      "[200]\ttrain's multi_logloss: 0.340073\teval's multi_logloss: 0.412639\n",
      "[300]\ttrain's multi_logloss: 0.305332\teval's multi_logloss: 0.399978\n",
      "[400]\ttrain's multi_logloss: 0.285136\teval's multi_logloss: 0.397546\n",
      "[500]\ttrain's multi_logloss: 0.269302\teval's multi_logloss: 0.397481\n",
      "Early stopping, best iteration is:\n",
      "[435]\ttrain's multi_logloss: 0.279269\teval's multi_logloss: 0.396852\n"
     ]
    },
    {
     "name": "stderr",
     "output_type": "stream",
     "text": [
      "bagging, val_score: 0.390087:  60%|#######8     | 6/10 [00:04<00:03,  1.33it/s]\u001b[32m[I 2021-06-13 10:14:07,417]\u001b[0m Trial 32 finished with value: 0.39685199047028136 and parameters: {'bagging_fraction': 0.959163355797255, 'bagging_freq': 1}. Best is trial 28 with value: 0.39008662535274524.\u001b[0m\n",
      "bagging, val_score: 0.390087:  60%|#######8     | 6/10 [00:04<00:03,  1.33it/s]"
     ]
    },
    {
     "name": "stdout",
     "output_type": "stream",
     "text": [
      "Training until validation scores don't improve for 100 rounds\n",
      "[100]\ttrain's multi_logloss: 0.414594\teval's multi_logloss: 0.461271\n",
      "[200]\ttrain's multi_logloss: 0.345696\teval's multi_logloss: 0.414073\n",
      "[300]\ttrain's multi_logloss: 0.312346\teval's multi_logloss: 0.397794\n",
      "[400]\ttrain's multi_logloss: 0.290687\teval's multi_logloss: 0.390607\n",
      "[500]\ttrain's multi_logloss: 0.275309\teval's multi_logloss: 0.389118\n",
      "[600]\ttrain's multi_logloss: 0.263108\teval's multi_logloss: 0.389338\n",
      "Early stopping, best iteration is:\n",
      "[566]\ttrain's multi_logloss: 0.267059\teval's multi_logloss: 0.388105\n"
     ]
    },
    {
     "name": "stderr",
     "output_type": "stream",
     "text": [
      "bagging, val_score: 0.388105:  70%|#########1   | 7/10 [00:05<00:02,  1.27it/s]\u001b[32m[I 2021-06-13 10:14:08,264]\u001b[0m Trial 33 finished with value: 0.3881046576023129 and parameters: {'bagging_fraction': 0.5217512948039049, 'bagging_freq': 4}. Best is trial 33 with value: 0.3881046576023129.\u001b[0m\n",
      "bagging, val_score: 0.388105:  70%|#########1   | 7/10 [00:05<00:02,  1.27it/s]"
     ]
    },
    {
     "name": "stdout",
     "output_type": "stream",
     "text": [
      "Training until validation scores don't improve for 100 rounds\n",
      "[100]\ttrain's multi_logloss: 0.417124\teval's multi_logloss: 0.461038\n",
      "[200]\ttrain's multi_logloss: 0.347592\teval's multi_logloss: 0.41479\n",
      "[300]\ttrain's multi_logloss: 0.314222\teval's multi_logloss: 0.398955\n",
      "[400]\ttrain's multi_logloss: 0.294498\teval's multi_logloss: 0.392268\n",
      "[500]\ttrain's multi_logloss: 0.279415\teval's multi_logloss: 0.390975\n",
      "[600]\ttrain's multi_logloss: 0.26696\teval's multi_logloss: 0.390578\n",
      "[700]\ttrain's multi_logloss: 0.25678\teval's multi_logloss: 0.391427\n"
     ]
    },
    {
     "name": "stderr",
     "output_type": "stream",
     "text": [
      "bagging, val_score: 0.388105:  80%|##########4  | 8/10 [00:06<00:01,  1.23it/s]\u001b[32m[I 2021-06-13 10:14:09,152]\u001b[0m Trial 34 finished with value: 0.39014428869197715 and parameters: {'bagging_fraction': 0.4128020310481755, 'bagging_freq': 2}. Best is trial 33 with value: 0.3881046576023129.\u001b[0m\n",
      "bagging, val_score: 0.388105:  80%|##########4  | 8/10 [00:06<00:01,  1.23it/s]"
     ]
    },
    {
     "name": "stdout",
     "output_type": "stream",
     "text": [
      "Early stopping, best iteration is:\n",
      "[624]\ttrain's multi_logloss: 0.264617\teval's multi_logloss: 0.390144\n",
      "Training until validation scores don't improve for 100 rounds\n",
      "[100]\ttrain's multi_logloss: 0.415905\teval's multi_logloss: 0.460871\n",
      "[200]\ttrain's multi_logloss: 0.34623\teval's multi_logloss: 0.413225\n",
      "[300]\ttrain's multi_logloss: 0.312887\teval's multi_logloss: 0.398836\n",
      "[400]\ttrain's multi_logloss: 0.293441\teval's multi_logloss: 0.39162\n",
      "[500]\ttrain's multi_logloss: 0.278616\teval's multi_logloss: 0.389948\n"
     ]
    },
    {
     "name": "stderr",
     "output_type": "stream",
     "text": [
      "bagging, val_score: 0.388105:  90%|###########7 | 9/10 [00:07<00:00,  1.21it/s]\u001b[32m[I 2021-06-13 10:14:10,010]\u001b[0m Trial 35 finished with value: 0.38937875268217 and parameters: {'bagging_fraction': 0.43766000138854283, 'bagging_freq': 3}. Best is trial 33 with value: 0.3881046576023129.\u001b[0m\n",
      "bagging, val_score: 0.388105:  90%|###########7 | 9/10 [00:07<00:00,  1.21it/s]"
     ]
    },
    {
     "name": "stdout",
     "output_type": "stream",
     "text": [
      "[600]\ttrain's multi_logloss: 0.266005\teval's multi_logloss: 0.390126\n",
      "Early stopping, best iteration is:\n",
      "[540]\ttrain's multi_logloss: 0.273261\teval's multi_logloss: 0.389379\n",
      "Training until validation scores don't improve for 100 rounds\n",
      "[100]\ttrain's multi_logloss: 0.414503\teval's multi_logloss: 0.461176\n",
      "[200]\ttrain's multi_logloss: 0.345405\teval's multi_logloss: 0.413766\n",
      "[300]\ttrain's multi_logloss: 0.311758\teval's multi_logloss: 0.397248\n",
      "[400]\ttrain's multi_logloss: 0.290269\teval's multi_logloss: 0.39101\n",
      "[500]\ttrain's multi_logloss: 0.275054\teval's multi_logloss: 0.390131\n",
      "Early stopping, best iteration is:\n",
      "[496]\ttrain's multi_logloss: 0.275641\teval's multi_logloss: 0.389956\n"
     ]
    },
    {
     "name": "stderr",
     "output_type": "stream",
     "text": [
      "bagging, val_score: 0.388105: 100%|############| 10/10 [00:07<00:00,  1.24it/s]\u001b[32m[I 2021-06-13 10:14:10,767]\u001b[0m Trial 36 finished with value: 0.3899560301611416 and parameters: {'bagging_fraction': 0.5252104405277895, 'bagging_freq': 4}. Best is trial 33 with value: 0.3881046576023129.\u001b[0m\n",
      "bagging, val_score: 0.388105: 100%|############| 10/10 [00:07<00:00,  1.26it/s]\n",
      "feature_fraction_stage2, val_score: 0.388105:   0%|      | 0/6 [00:00<?, ?it/s]"
     ]
    },
    {
     "name": "stdout",
     "output_type": "stream",
     "text": [
      "Training until validation scores don't improve for 100 rounds\n",
      "[100]\ttrain's multi_logloss: 0.414594\teval's multi_logloss: 0.461271\n",
      "[200]\ttrain's multi_logloss: 0.345696\teval's multi_logloss: 0.414073\n",
      "[300]\ttrain's multi_logloss: 0.312346\teval's multi_logloss: 0.397794\n",
      "[400]\ttrain's multi_logloss: 0.290687\teval's multi_logloss: 0.390607\n",
      "[500]\ttrain's multi_logloss: 0.275309\teval's multi_logloss: 0.389118\n",
      "[600]\ttrain's multi_logloss: 0.263108\teval's multi_logloss: 0.389338\n",
      "Early stopping, best iteration is:\n",
      "[566]\ttrain's multi_logloss: 0.267059\teval's multi_logloss: 0.388105\n"
     ]
    },
    {
     "name": "stderr",
     "output_type": "stream",
     "text": [
      "feature_fraction_stage2, val_score: 0.388105:  17%|1| 1/6 [00:00<00:04,  1.10it\u001b[32m[I 2021-06-13 10:14:11,685]\u001b[0m Trial 37 finished with value: 0.3881046576023129 and parameters: {'feature_fraction': 0.5479999999999999}. Best is trial 37 with value: 0.3881046576023129.\u001b[0m\n",
      "feature_fraction_stage2, val_score: 0.388105:  17%|1| 1/6 [00:00<00:04,  1.10it"
     ]
    },
    {
     "name": "stdout",
     "output_type": "stream",
     "text": [
      "Training until validation scores don't improve for 100 rounds\n",
      "[100]\ttrain's multi_logloss: 0.414594\teval's multi_logloss: 0.461271\n",
      "[200]\ttrain's multi_logloss: 0.345696\teval's multi_logloss: 0.414073\n",
      "[300]\ttrain's multi_logloss: 0.312346\teval's multi_logloss: 0.397794\n",
      "[400]\ttrain's multi_logloss: 0.290687\teval's multi_logloss: 0.390607\n",
      "[500]\ttrain's multi_logloss: 0.275309\teval's multi_logloss: 0.389118\n",
      "[600]\ttrain's multi_logloss: 0.263108\teval's multi_logloss: 0.389338\n",
      "Early stopping, best iteration is:\n",
      "[566]\ttrain's multi_logloss: 0.267059\teval's multi_logloss: 0.388105\n"
     ]
    },
    {
     "name": "stderr",
     "output_type": "stream",
     "text": [
      "feature_fraction_stage2, val_score: 0.388105:  33%|3| 2/6 [00:01<00:03,  1.16it\u001b[32m[I 2021-06-13 10:14:12,520]\u001b[0m Trial 38 finished with value: 0.3881046576023129 and parameters: {'feature_fraction': 0.516}. Best is trial 37 with value: 0.3881046576023129.\u001b[0m\n",
      "feature_fraction_stage2, val_score: 0.388105:  33%|3| 2/6 [00:01<00:03,  1.16it"
     ]
    },
    {
     "name": "stdout",
     "output_type": "stream",
     "text": [
      "Training until validation scores don't improve for 100 rounds\n",
      "[100]\ttrain's multi_logloss: 0.414594\teval's multi_logloss: 0.461271\n",
      "[200]\ttrain's multi_logloss: 0.345696\teval's multi_logloss: 0.414073\n",
      "[300]\ttrain's multi_logloss: 0.312346\teval's multi_logloss: 0.397794\n",
      "[400]\ttrain's multi_logloss: 0.290687\teval's multi_logloss: 0.390607\n",
      "[500]\ttrain's multi_logloss: 0.275309\teval's multi_logloss: 0.389118\n",
      "[600]\ttrain's multi_logloss: 0.263108\teval's multi_logloss: 0.389338\n",
      "Early stopping, best iteration is:\n",
      "[566]\ttrain's multi_logloss: 0.267059\teval's multi_logloss: 0.388105\n"
     ]
    },
    {
     "name": "stderr",
     "output_type": "stream",
     "text": [
      "feature_fraction_stage2, val_score: 0.388105:  50%|5| 3/6 [00:02<00:02,  1.16it\u001b[32m[I 2021-06-13 10:14:13,388]\u001b[0m Trial 39 finished with value: 0.3881046576023129 and parameters: {'feature_fraction': 0.58}. Best is trial 37 with value: 0.3881046576023129.\u001b[0m\n",
      "feature_fraction_stage2, val_score: 0.388105:  50%|5| 3/6 [00:02<00:02,  1.16it"
     ]
    },
    {
     "name": "stdout",
     "output_type": "stream",
     "text": [
      "Training until validation scores don't improve for 100 rounds\n",
      "[100]\ttrain's multi_logloss: 0.52753\teval's multi_logloss: 0.558196\n",
      "[200]\ttrain's multi_logloss: 0.463228\teval's multi_logloss: 0.516742\n",
      "[300]\ttrain's multi_logloss: 0.417514\teval's multi_logloss: 0.481289\n",
      "[400]\ttrain's multi_logloss: 0.380173\teval's multi_logloss: 0.456712\n",
      "[500]\ttrain's multi_logloss: 0.353785\teval's multi_logloss: 0.440675\n",
      "[600]\ttrain's multi_logloss: 0.32893\teval's multi_logloss: 0.425256\n",
      "[700]\ttrain's multi_logloss: 0.310787\teval's multi_logloss: 0.41606\n",
      "[800]\ttrain's multi_logloss: 0.295009\teval's multi_logloss: 0.409191\n",
      "[900]\ttrain's multi_logloss: 0.281448\teval's multi_logloss: 0.407403\n",
      "[1000]\ttrain's multi_logloss: 0.270431\teval's multi_logloss: 0.404572\n",
      "Did not meet early stopping. Best iteration is:\n",
      "[1000]\ttrain's multi_logloss: 0.270431\teval's multi_logloss: 0.404572\n"
     ]
    },
    {
     "name": "stderr",
     "output_type": "stream",
     "text": [
      "feature_fraction_stage2, val_score: 0.388105:  67%|6| 4/6 [00:03<00:02,  1.03s/\u001b[32m[I 2021-06-13 10:14:14,670]\u001b[0m Trial 40 finished with value: 0.4045715170218825 and parameters: {'feature_fraction': 0.45199999999999996}. Best is trial 37 with value: 0.3881046576023129.\u001b[0m\n",
      "feature_fraction_stage2, val_score: 0.388105:  67%|6| 4/6 [00:03<00:02,  1.03s/"
     ]
    },
    {
     "name": "stdout",
     "output_type": "stream",
     "text": [
      "Training until validation scores don't improve for 100 rounds\n",
      "[100]\ttrain's multi_logloss: 0.52753\teval's multi_logloss: 0.558196\n",
      "[200]\ttrain's multi_logloss: 0.463228\teval's multi_logloss: 0.516742\n",
      "[300]\ttrain's multi_logloss: 0.417514\teval's multi_logloss: 0.481289\n",
      "[400]\ttrain's multi_logloss: 0.380173\teval's multi_logloss: 0.456712\n",
      "[500]\ttrain's multi_logloss: 0.353785\teval's multi_logloss: 0.440675\n",
      "[600]\ttrain's multi_logloss: 0.32893\teval's multi_logloss: 0.425256\n",
      "[700]\ttrain's multi_logloss: 0.310787\teval's multi_logloss: 0.41606\n",
      "[800]\ttrain's multi_logloss: 0.295009\teval's multi_logloss: 0.409191\n",
      "[900]\ttrain's multi_logloss: 0.281448\teval's multi_logloss: 0.407403\n",
      "[1000]\ttrain's multi_logloss: 0.270431\teval's multi_logloss: 0.404572\n",
      "Did not meet early stopping. Best iteration is:\n",
      "[1000]\ttrain's multi_logloss: 0.270431\teval's multi_logloss: 0.404572\n"
     ]
    },
    {
     "name": "stderr",
     "output_type": "stream",
     "text": [
      "feature_fraction_stage2, val_score: 0.388105:  83%|8| 5/6 [00:05<00:01,  1.13s/\u001b[32m[I 2021-06-13 10:14:15,983]\u001b[0m Trial 41 finished with value: 0.4045715170218825 and parameters: {'feature_fraction': 0.42}. Best is trial 37 with value: 0.3881046576023129.\u001b[0m\n",
      "feature_fraction_stage2, val_score: 0.388105:  83%|8| 5/6 [00:05<00:01,  1.13s/"
     ]
    },
    {
     "name": "stdout",
     "output_type": "stream",
     "text": [
      "Training until validation scores don't improve for 100 rounds\n",
      "[100]\ttrain's multi_logloss: 0.52753\teval's multi_logloss: 0.558196\n",
      "[200]\ttrain's multi_logloss: 0.463228\teval's multi_logloss: 0.516742\n",
      "[300]\ttrain's multi_logloss: 0.417514\teval's multi_logloss: 0.481289\n",
      "[400]\ttrain's multi_logloss: 0.380173\teval's multi_logloss: 0.456712\n",
      "[500]\ttrain's multi_logloss: 0.353785\teval's multi_logloss: 0.440675\n",
      "[600]\ttrain's multi_logloss: 0.32893\teval's multi_logloss: 0.425256\n",
      "[700]\ttrain's multi_logloss: 0.310787\teval's multi_logloss: 0.41606\n",
      "[800]\ttrain's multi_logloss: 0.295009\teval's multi_logloss: 0.409191\n",
      "[900]\ttrain's multi_logloss: 0.281448\teval's multi_logloss: 0.407403\n",
      "[1000]\ttrain's multi_logloss: 0.270431\teval's multi_logloss: 0.404572\n",
      "Did not meet early stopping. Best iteration is:\n",
      "[1000]\ttrain's multi_logloss: 0.270431\teval's multi_logloss: 0.404572\n"
     ]
    },
    {
     "name": "stderr",
     "output_type": "stream",
     "text": [
      "feature_fraction_stage2, val_score: 0.388105: 100%|#| 6/6 [00:06<00:00,  1.17s/\u001b[32m[I 2021-06-13 10:14:17,239]\u001b[0m Trial 42 finished with value: 0.4045715170218825 and parameters: {'feature_fraction': 0.484}. Best is trial 37 with value: 0.3881046576023129.\u001b[0m\n",
      "feature_fraction_stage2, val_score: 0.388105: 100%|#| 6/6 [00:06<00:00,  1.08s/\n",
      "regularization_factors, val_score: 0.388105:   0%|      | 0/20 [00:00<?, ?it/s]"
     ]
    },
    {
     "name": "stdout",
     "output_type": "stream",
     "text": [
      "Training until validation scores don't improve for 100 rounds\n",
      "[100]\ttrain's multi_logloss: 0.415552\teval's multi_logloss: 0.461986\n",
      "[200]\ttrain's multi_logloss: 0.346696\teval's multi_logloss: 0.414738\n",
      "[300]\ttrain's multi_logloss: 0.313481\teval's multi_logloss: 0.398593\n",
      "[400]\ttrain's multi_logloss: 0.292039\teval's multi_logloss: 0.391651\n",
      "[500]\ttrain's multi_logloss: 0.277064\teval's multi_logloss: 0.39019\n",
      "[600]\ttrain's multi_logloss: 0.265192\teval's multi_logloss: 0.39069\n"
     ]
    },
    {
     "name": "stderr",
     "output_type": "stream",
     "text": [
      "\r",
      "regularization_factors, val_score: 0.388105:   0%|      | 0/20 [00:00<?, ?it/s]"
     ]
    },
    {
     "name": "stdout",
     "output_type": "stream",
     "text": [
      "Early stopping, best iteration is:\n",
      "[572]\ttrain's multi_logloss: 0.268301\teval's multi_logloss: 0.389567\n"
     ]
    },
    {
     "name": "stderr",
     "output_type": "stream",
     "text": [
      "regularization_factors, val_score: 0.388105:   5%| | 1/20 [00:00<00:17,  1.08it\u001b[32m[I 2021-06-13 10:14:18,178]\u001b[0m Trial 43 finished with value: 0.3895672572007141 and parameters: {'lambda_l1': 0.002136101823378286, 'lambda_l2': 0.13836203777903394}. Best is trial 43 with value: 0.3895672572007141.\u001b[0m\n",
      "regularization_factors, val_score: 0.388105:   5%| | 1/20 [00:00<00:17,  1.08it"
     ]
    },
    {
     "name": "stdout",
     "output_type": "stream",
     "text": [
      "Training until validation scores don't improve for 100 rounds\n",
      "[100]\ttrain's multi_logloss: 0.423319\teval's multi_logloss: 0.466525\n",
      "[200]\ttrain's multi_logloss: 0.35651\teval's multi_logloss: 0.420274\n",
      "[300]\ttrain's multi_logloss: 0.324794\teval's multi_logloss: 0.403808\n",
      "[400]\ttrain's multi_logloss: 0.305523\teval's multi_logloss: 0.396218\n",
      "[500]\ttrain's multi_logloss: 0.292707\teval's multi_logloss: 0.392899\n",
      "[600]\ttrain's multi_logloss: 0.282453\teval's multi_logloss: 0.392786\n",
      "[700]\ttrain's multi_logloss: 0.273885\teval's multi_logloss: 0.391092\n",
      "[800]\ttrain's multi_logloss: 0.266458\teval's multi_logloss: 0.391974\n"
     ]
    },
    {
     "name": "stderr",
     "output_type": "stream",
     "text": [
      "regularization_factors, val_score: 0.388105:  10%|1| 2/20 [00:01<00:17,  1.01it\u001b[32m[I 2021-06-13 10:14:19,227]\u001b[0m Trial 44 finished with value: 0.3903991957349309 and parameters: {'lambda_l1': 0.8938768927727431, 'lambda_l2': 3.003609663798109e-07}. Best is trial 43 with value: 0.3895672572007141.\u001b[0m\n",
      "regularization_factors, val_score: 0.388105:  10%|1| 2/20 [00:01<00:17,  1.01it"
     ]
    },
    {
     "name": "stdout",
     "output_type": "stream",
     "text": [
      "Early stopping, best iteration is:\n",
      "[732]\ttrain's multi_logloss: 0.271375\teval's multi_logloss: 0.390399\n",
      "Training until validation scores don't improve for 100 rounds\n",
      "[100]\ttrain's multi_logloss: 0.420039\teval's multi_logloss: 0.46475\n",
      "[200]\ttrain's multi_logloss: 0.350805\teval's multi_logloss: 0.417285\n",
      "[300]\ttrain's multi_logloss: 0.317631\teval's multi_logloss: 0.400565\n",
      "[400]\ttrain's multi_logloss: 0.296835\teval's multi_logloss: 0.393157\n",
      "[500]\ttrain's multi_logloss: 0.282766\teval's multi_logloss: 0.390571\n",
      "[600]\ttrain's multi_logloss: 0.271391\teval's multi_logloss: 0.391126\n",
      "[700]\ttrain's multi_logloss: 0.261843\teval's multi_logloss: 0.388717\n",
      "[800]\ttrain's multi_logloss: 0.253249\teval's multi_logloss: 0.390105"
     ]
    },
    {
     "name": "stderr",
     "output_type": "stream",
     "text": [
      "\r",
      "regularization_factors, val_score: 0.388105:  10%|1| 2/20 [00:03<00:17,  1.01it"
     ]
    },
    {
     "name": "stdout",
     "output_type": "stream",
     "text": [
      "\n",
      "Early stopping, best iteration is:\n",
      "[732]\ttrain's multi_logloss: 0.259059\teval's multi_logloss: 0.388357\n"
     ]
    },
    {
     "name": "stderr",
     "output_type": "stream",
     "text": [
      "regularization_factors, val_score: 0.388105:  15%|1| 3/20 [00:03<00:17,  1.06s/\u001b[32m[I 2021-06-13 10:14:20,348]\u001b[0m Trial 45 finished with value: 0.38835662318838055 and parameters: {'lambda_l1': 7.474492237899582e-06, 'lambda_l2': 0.7119031128028194}. Best is trial 45 with value: 0.38835662318838055.\u001b[0m\n",
      "regularization_factors, val_score: 0.388105:  15%|1| 3/20 [00:03<00:17,  1.06s/"
     ]
    },
    {
     "name": "stdout",
     "output_type": "stream",
     "text": [
      "Training until validation scores don't improve for 100 rounds\n",
      "[100]\ttrain's multi_logloss: 0.41499\teval's multi_logloss: 0.461669\n",
      "[200]\ttrain's multi_logloss: 0.34617\teval's multi_logloss: 0.414576\n",
      "[300]\ttrain's multi_logloss: 0.312888\teval's multi_logloss: 0.3984\n",
      "[400]\ttrain's multi_logloss: 0.291426\teval's multi_logloss: 0.391407\n",
      "[500]\ttrain's multi_logloss: 0.276196\teval's multi_logloss: 0.390024\n",
      "[600]\ttrain's multi_logloss: 0.264251\teval's multi_logloss: 0.390423\n",
      "Early stopping, best iteration is:\n",
      "[572]\ttrain's multi_logloss: 0.267411\teval's multi_logloss: 0.389278\n"
     ]
    },
    {
     "name": "stderr",
     "output_type": "stream",
     "text": [
      "regularization_factors, val_score: 0.388105:  20%|2| 4/20 [00:03<00:15,  1.01it\u001b[32m[I 2021-06-13 10:14:21,236]\u001b[0m Trial 46 finished with value: 0.38927750240726217 and parameters: {'lambda_l1': 6.138005596582394e-08, 'lambda_l2': 0.0667668194644561}. Best is trial 45 with value: 0.38835662318838055.\u001b[0m\n",
      "regularization_factors, val_score: 0.388105:  20%|2| 4/20 [00:03<00:15,  1.01it"
     ]
    },
    {
     "name": "stdout",
     "output_type": "stream",
     "text": [
      "Training until validation scores don't improve for 100 rounds\n",
      "[100]\ttrain's multi_logloss: 0.414594\teval's multi_logloss: 0.461271\n",
      "[200]\ttrain's multi_logloss: 0.345696\teval's multi_logloss: 0.414073\n",
      "[300]\ttrain's multi_logloss: 0.312346\teval's multi_logloss: 0.397794\n",
      "[400]\ttrain's multi_logloss: 0.290687\teval's multi_logloss: 0.390607\n",
      "[500]\ttrain's multi_logloss: 0.275309\teval's multi_logloss: 0.389118\n"
     ]
    },
    {
     "name": "stderr",
     "output_type": "stream",
     "text": [
      "\r",
      "regularization_factors, val_score: 0.388105:  20%|2| 4/20 [00:04<00:15,  1.01it"
     ]
    },
    {
     "name": "stdout",
     "output_type": "stream",
     "text": [
      "[600]\ttrain's multi_logloss: 0.263108\teval's multi_logloss: 0.389338\n",
      "Early stopping, best iteration is:\n",
      "[566]\ttrain's multi_logloss: 0.267059\teval's multi_logloss: 0.388105\n"
     ]
    },
    {
     "name": "stderr",
     "output_type": "stream",
     "text": [
      "regularization_factors, val_score: 0.388105:  25%|2| 5/20 [00:04<00:14,  1.04it\u001b[32m[I 2021-06-13 10:14:22,162]\u001b[0m Trial 47 finished with value: 0.3881046578957435 and parameters: {'lambda_l1': 5.172592536741601e-07, 'lambda_l2': 2.816597210105808e-07}. Best is trial 47 with value: 0.3881046578957435.\u001b[0m\n",
      "regularization_factors, val_score: 0.388105:  25%|2| 5/20 [00:04<00:14,  1.04it"
     ]
    },
    {
     "name": "stdout",
     "output_type": "stream",
     "text": [
      "Training until validation scores don't improve for 100 rounds\n",
      "[100]\ttrain's multi_logloss: 0.414878\teval's multi_logloss: 0.461593\n",
      "[200]\ttrain's multi_logloss: 0.346055\teval's multi_logloss: 0.414673\n",
      "[300]\ttrain's multi_logloss: 0.312714\teval's multi_logloss: 0.398373\n",
      "[400]\ttrain's multi_logloss: 0.29125\teval's multi_logloss: 0.391174\n",
      "[500]\ttrain's multi_logloss: 0.276014\teval's multi_logloss: 0.389536\n"
     ]
    },
    {
     "name": "stderr",
     "output_type": "stream",
     "text": [
      "\r",
      "regularization_factors, val_score: 0.388105:  25%|2| 5/20 [00:05<00:14,  1.04it"
     ]
    },
    {
     "name": "stdout",
     "output_type": "stream",
     "text": [
      "[600]\ttrain's multi_logloss: 0.263981\teval's multi_logloss: 0.390088\n",
      "Early stopping, best iteration is:\n",
      "[572]\ttrain's multi_logloss: 0.26717\teval's multi_logloss: 0.388909\n"
     ]
    },
    {
     "name": "stderr",
     "output_type": "stream",
     "text": [
      "regularization_factors, val_score: 0.388105:  30%|3| 6/20 [00:05<00:13,  1.07it\u001b[32m[I 2021-06-13 10:14:23,031]\u001b[0m Trial 48 finished with value: 0.3889090212541912 and parameters: {'lambda_l1': 0.0018889530736435488, 'lambda_l2': 0.04986376709511832}. Best is trial 47 with value: 0.3881046578957435.\u001b[0m\n",
      "regularization_factors, val_score: 0.388105:  30%|3| 6/20 [00:05<00:13,  1.07it"
     ]
    },
    {
     "name": "stdout",
     "output_type": "stream",
     "text": [
      "Training until validation scores don't improve for 100 rounds\n",
      "[100]\ttrain's multi_logloss: 0.420806\teval's multi_logloss: 0.464753\n",
      "[200]\ttrain's multi_logloss: 0.353449\teval's multi_logloss: 0.418607\n",
      "[300]\ttrain's multi_logloss: 0.32128\teval's multi_logloss: 0.40206\n",
      "[400]\ttrain's multi_logloss: 0.301298\teval's multi_logloss: 0.394982\n",
      "[500]\ttrain's multi_logloss: 0.288012\teval's multi_logloss: 0.392629\n",
      "[600]\ttrain's multi_logloss: 0.277339\teval's multi_logloss: 0.392505\n",
      "[700]\ttrain's multi_logloss: 0.26838\teval's multi_logloss: 0.390205\n"
     ]
    },
    {
     "name": "stderr",
     "output_type": "stream",
     "text": [
      "regularization_factors, val_score: 0.388105:  35%|3| 7/20 [00:06<00:12,  1.01it\u001b[32m[I 2021-06-13 10:14:24,143]\u001b[0m Trial 49 finished with value: 0.38947752257262236 and parameters: {'lambda_l1': 0.6529182230332827, 'lambda_l2': 0.007918803599944265}. Best is trial 47 with value: 0.3881046578957435.\u001b[0m\n"
     ]
    },
    {
     "name": "stdout",
     "output_type": "stream",
     "text": [
      "[800]\ttrain's multi_logloss: 0.260537\teval's multi_logloss: 0.391419\n",
      "Early stopping, best iteration is:\n",
      "[732]\ttrain's multi_logloss: 0.26573\teval's multi_logloss: 0.389478\n"
     ]
    },
    {
     "name": "stderr",
     "output_type": "stream",
     "text": [
      "\r",
      "regularization_factors, val_score: 0.388105:  35%|3| 7/20 [00:06<00:12,  1.01it"
     ]
    },
    {
     "name": "stdout",
     "output_type": "stream",
     "text": [
      "Training until validation scores don't improve for 100 rounds\n",
      "[100]\ttrain's multi_logloss: 0.415893\teval's multi_logloss: 0.462323\n",
      "[200]\ttrain's multi_logloss: 0.346986\teval's multi_logloss: 0.41487\n",
      "[300]\ttrain's multi_logloss: 0.313727\teval's multi_logloss: 0.398697\n",
      "[400]\ttrain's multi_logloss: 0.292358\teval's multi_logloss: 0.391633\n",
      "[500]\ttrain's multi_logloss: 0.277406\teval's multi_logloss: 0.389838\n",
      "[600]\ttrain's multi_logloss: 0.265558\teval's multi_logloss: 0.390504\n",
      "Early stopping, best iteration is:\n",
      "[572]\ttrain's multi_logloss: 0.26865\teval's multi_logloss: 0.389364\n"
     ]
    },
    {
     "name": "stderr",
     "output_type": "stream",
     "text": [
      "regularization_factors, val_score: 0.388105:  40%|4| 8/20 [00:07<00:11,  1.05it\u001b[32m[I 2021-06-13 10:14:25,021]\u001b[0m Trial 50 finished with value: 0.3893640500070423 and parameters: {'lambda_l1': 1.8887287050419605e-05, 'lambda_l2': 0.18313024016029464}. Best is trial 47 with value: 0.3881046578957435.\u001b[0m\n",
      "regularization_factors, val_score: 0.388105:  40%|4| 8/20 [00:07<00:11,  1.05it"
     ]
    },
    {
     "name": "stdout",
     "output_type": "stream",
     "text": [
      "Training until validation scores don't improve for 100 rounds\n",
      "[100]\ttrain's multi_logloss: 0.416683\teval's multi_logloss: 0.462419\n",
      "[200]\ttrain's multi_logloss: 0.347865\teval's multi_logloss: 0.415452\n",
      "[300]\ttrain's multi_logloss: 0.31454\teval's multi_logloss: 0.39939\n",
      "[400]\ttrain's multi_logloss: 0.293476\teval's multi_logloss: 0.392672\n",
      "[500]\ttrain's multi_logloss: 0.278771\teval's multi_logloss: 0.390315\n",
      "[600]\ttrain's multi_logloss: 0.267013\teval's multi_logloss: 0.391184\n",
      "[700]\ttrain's multi_logloss: 0.25703\teval's multi_logloss: 0.389363\n",
      "[800]\ttrain's multi_logloss: 0.247709\teval's multi_logloss: 0.391147\n",
      "Early stopping, best iteration is:\n",
      "[733]\ttrain's multi_logloss: 0.253885\teval's multi_logloss: 0.388949\n"
     ]
    },
    {
     "name": "stderr",
     "output_type": "stream",
     "text": [
      "regularization_factors, val_score: 0.388105:  45%|4| 9/20 [00:08<00:11,  1.01s/\u001b[32m[I 2021-06-13 10:14:26,152]\u001b[0m Trial 51 finished with value: 0.3889492021832455 and parameters: {'lambda_l1': 0.026645691196781958, 'lambda_l2': 0.2558472045352009}. Best is trial 47 with value: 0.3881046578957435.\u001b[0m\n",
      "regularization_factors, val_score: 0.388105:  45%|4| 9/20 [00:08<00:11,  1.01s/"
     ]
    },
    {
     "name": "stdout",
     "output_type": "stream",
     "text": [
      "Training until validation scores don't improve for 100 rounds\n",
      "[100]\ttrain's multi_logloss: 0.414582\teval's multi_logloss: 0.461445\n",
      "[200]\ttrain's multi_logloss: 0.345685\teval's multi_logloss: 0.41441\n",
      "[300]\ttrain's multi_logloss: 0.312336\teval's multi_logloss: 0.398059\n",
      "[400]\ttrain's multi_logloss: 0.290718\teval's multi_logloss: 0.390677\n",
      "[500]\ttrain's multi_logloss: 0.27546\teval's multi_logloss: 0.389267\n",
      "[600]\ttrain's multi_logloss: 0.263303\teval's multi_logloss: 0.389948\n",
      "Early stopping, best iteration is:\n",
      "[572]\ttrain's multi_logloss: 0.266581\teval's multi_logloss: 0.388732\n"
     ]
    },
    {
     "name": "stderr",
     "output_type": "stream",
     "text": [
      "regularization_factors, val_score: 0.388105:  50%|5| 10/20 [00:09<00:09,  1.03i\u001b[32m[I 2021-06-13 10:14:27,024]\u001b[0m Trial 52 finished with value: 0.38873201651059186 and parameters: {'lambda_l1': 0.003261450660994407, 'lambda_l2': 0.0003367156747899166}. Best is trial 47 with value: 0.3881046578957435.\u001b[0m\n",
      "regularization_factors, val_score: 0.388105:  50%|5| 10/20 [00:09<00:09,  1.03i"
     ]
    },
    {
     "name": "stdout",
     "output_type": "stream",
     "text": [
      "Training until validation scores don't improve for 100 rounds\n",
      "[100]\ttrain's multi_logloss: 0.414594\teval's multi_logloss: 0.461271\n",
      "[200]\ttrain's multi_logloss: 0.345696\teval's multi_logloss: 0.414073\n",
      "[300]\ttrain's multi_logloss: 0.312346\teval's multi_logloss: 0.397794\n",
      "[400]\ttrain's multi_logloss: 0.290687\teval's multi_logloss: 0.390607\n",
      "[500]\ttrain's multi_logloss: 0.275309\teval's multi_logloss: 0.389118\n",
      "[600]\ttrain's multi_logloss: 0.263108\teval's multi_logloss: 0.389338\n",
      "Early stopping, best iteration is:\n",
      "[566]\ttrain's multi_logloss: 0.267059\teval's multi_logloss: 0.388105\n"
     ]
    },
    {
     "name": "stderr",
     "output_type": "stream",
     "text": [
      "regularization_factors, val_score: 0.388105:  55%|5| 11/20 [00:10<00:08,  1.05i\u001b[32m[I 2021-06-13 10:14:27,953]\u001b[0m Trial 53 finished with value: 0.3881046576526353 and parameters: {'lambda_l1': 2.466922615807611e-08, 'lambda_l2': 8.620668323590762e-08}. Best is trial 53 with value: 0.3881046576526353.\u001b[0m\n",
      "regularization_factors, val_score: 0.388105:  55%|5| 11/20 [00:10<00:08,  1.05i"
     ]
    },
    {
     "name": "stdout",
     "output_type": "stream",
     "text": [
      "Training until validation scores don't improve for 100 rounds\n",
      "[100]\ttrain's multi_logloss: 0.414594\teval's multi_logloss: 0.461271\n",
      "[200]\ttrain's multi_logloss: 0.345696\teval's multi_logloss: 0.414073\n",
      "[300]\ttrain's multi_logloss: 0.312346\teval's multi_logloss: 0.397794\n",
      "[400]\ttrain's multi_logloss: 0.290687\teval's multi_logloss: 0.390607\n",
      "[500]\ttrain's multi_logloss: 0.275309\teval's multi_logloss: 0.389118\n"
     ]
    },
    {
     "name": "stderr",
     "output_type": "stream",
     "text": [
      "\r",
      "regularization_factors, val_score: 0.388105:  55%|5| 11/20 [00:11<00:08,  1.05i"
     ]
    },
    {
     "name": "stdout",
     "output_type": "stream",
     "text": [
      "[600]\ttrain's multi_logloss: 0.263108\teval's multi_logloss: 0.389338\n",
      "Early stopping, best iteration is:\n",
      "[566]\ttrain's multi_logloss: 0.267059\teval's multi_logloss: 0.388105\n"
     ]
    },
    {
     "name": "stderr",
     "output_type": "stream",
     "text": [
      "regularization_factors, val_score: 0.388105:  60%|6| 12/20 [00:11<00:07,  1.09i\u001b[32m[I 2021-06-13 10:14:28,793]\u001b[0m Trial 54 finished with value: 0.38810465762530066 and parameters: {'lambda_l1': 1.1172861708441298e-08, 'lambda_l2': 2.8480730871753804e-08}. Best is trial 54 with value: 0.38810465762530066.\u001b[0m\n",
      "regularization_factors, val_score: 0.388105:  60%|6| 12/20 [00:11<00:07,  1.09i"
     ]
    },
    {
     "name": "stdout",
     "output_type": "stream",
     "text": [
      "Training until validation scores don't improve for 100 rounds\n",
      "[100]\ttrain's multi_logloss: 0.414594\teval's multi_logloss: 0.461271\n",
      "[200]\ttrain's multi_logloss: 0.345696\teval's multi_logloss: 0.414073\n",
      "[300]\ttrain's multi_logloss: 0.312346\teval's multi_logloss: 0.397794\n",
      "[400]\ttrain's multi_logloss: 0.290687\teval's multi_logloss: 0.390607\n",
      "[500]\ttrain's multi_logloss: 0.275309\teval's multi_logloss: 0.389118\n",
      "[600]\ttrain's multi_logloss: 0.263108\teval's multi_logloss: 0.389338\n",
      "Early stopping, best iteration is:\n",
      "[566]\ttrain's multi_logloss: 0.267059\teval's multi_logloss: 0.388105\n"
     ]
    },
    {
     "name": "stderr",
     "output_type": "stream",
     "text": [
      "regularization_factors, val_score: 0.388105:  65%|6| 13/20 [00:12<00:06,  1.08i\u001b[32m[I 2021-06-13 10:14:29,741]\u001b[0m Trial 55 finished with value: 0.3881046576230739 and parameters: {'lambda_l1': 1.1004322004402764e-08, 'lambda_l2': 1.621235803657282e-08}. Best is trial 55 with value: 0.3881046576230739.\u001b[0m\n",
      "regularization_factors, val_score: 0.388105:  65%|6| 13/20 [00:12<00:06,  1.08i"
     ]
    },
    {
     "name": "stdout",
     "output_type": "stream",
     "text": [
      "Training until validation scores don't improve for 100 rounds\n",
      "[100]\ttrain's multi_logloss: 0.414594\teval's multi_logloss: 0.461271\n",
      "[200]\ttrain's multi_logloss: 0.345696\teval's multi_logloss: 0.414073\n",
      "[300]\ttrain's multi_logloss: 0.312346\teval's multi_logloss: 0.397794\n",
      "[400]\ttrain's multi_logloss: 0.290687\teval's multi_logloss: 0.390607\n",
      "[500]\ttrain's multi_logloss: 0.275309\teval's multi_logloss: 0.389118\n",
      "[600]\ttrain's multi_logloss: 0.263108\teval's multi_logloss: 0.389338\n"
     ]
    },
    {
     "name": "stderr",
     "output_type": "stream",
     "text": [
      "regularization_factors, val_score: 0.388105:  70%|7| 14/20 [00:13<00:05,  1.10i\u001b[32m[I 2021-06-13 10:14:30,588]\u001b[0m Trial 56 finished with value: 0.3881046576186489 and parameters: {'lambda_l1': 1.1337626458043628e-08, 'lambda_l2': 1.1773027376334026e-08}. Best is trial 56 with value: 0.3881046576186489.\u001b[0m\n",
      "regularization_factors, val_score: 0.388105:  70%|7| 14/20 [00:13<00:05,  1.10i"
     ]
    },
    {
     "name": "stdout",
     "output_type": "stream",
     "text": [
      "Early stopping, best iteration is:\n",
      "[566]\ttrain's multi_logloss: 0.267059\teval's multi_logloss: 0.388105\n",
      "Training until validation scores don't improve for 100 rounds\n",
      "[100]\ttrain's multi_logloss: 0.414594\teval's multi_logloss: 0.461271\n",
      "[200]\ttrain's multi_logloss: 0.345696\teval's multi_logloss: 0.414073\n",
      "[300]\ttrain's multi_logloss: 0.312346\teval's multi_logloss: 0.397794\n",
      "[400]\ttrain's multi_logloss: 0.290687\teval's multi_logloss: 0.390607\n",
      "[500]\ttrain's multi_logloss: 0.275309\teval's multi_logloss: 0.389118\n",
      "[600]\ttrain's multi_logloss: 0.263108\teval's multi_logloss: 0.389338\n"
     ]
    },
    {
     "name": "stderr",
     "output_type": "stream",
     "text": [
      "regularization_factors, val_score: 0.388105:  75%|7| 15/20 [00:14<00:04,  1.08i\u001b[32m[I 2021-06-13 10:14:31,557]\u001b[0m Trial 57 finished with value: 0.3881046596146564 and parameters: {'lambda_l1': 7.883360014268502e-07, 'lambda_l2': 6.5874231009075875e-06}. Best is trial 56 with value: 0.3881046576186489.\u001b[0m\n",
      "regularization_factors, val_score: 0.388105:  75%|7| 15/20 [00:14<00:04,  1.08i"
     ]
    },
    {
     "name": "stdout",
     "output_type": "stream",
     "text": [
      "Early stopping, best iteration is:\n",
      "[566]\ttrain's multi_logloss: 0.267059\teval's multi_logloss: 0.388105\n",
      "Training until validation scores don't improve for 100 rounds\n",
      "[100]\ttrain's multi_logloss: 0.414594\teval's multi_logloss: 0.461271\n",
      "[200]\ttrain's multi_logloss: 0.345696\teval's multi_logloss: 0.414073\n",
      "[300]\ttrain's multi_logloss: 0.312346\teval's multi_logloss: 0.397794\n",
      "[400]\ttrain's multi_logloss: 0.290687\teval's multi_logloss: 0.390607\n",
      "[500]\ttrain's multi_logloss: 0.275309\teval's multi_logloss: 0.389118\n",
      "[600]\ttrain's multi_logloss: 0.263108\teval's multi_logloss: 0.389338"
     ]
    },
    {
     "name": "stderr",
     "output_type": "stream",
     "text": [
      "\r",
      "regularization_factors, val_score: 0.388105:  75%|7| 15/20 [00:15<00:04,  1.08i"
     ]
    },
    {
     "name": "stdout",
     "output_type": "stream",
     "text": [
      "\n",
      "Early stopping, best iteration is:\n",
      "[566]\ttrain's multi_logloss: 0.267059\teval's multi_logloss: 0.388105\n"
     ]
    },
    {
     "name": "stderr",
     "output_type": "stream",
     "text": [
      "regularization_factors, val_score: 0.388105:  80%|8| 16/20 [00:15<00:03,  1.10i\u001b[32m[I 2021-06-13 10:14:32,420]\u001b[0m Trial 58 finished with value: 0.38810465960422447 and parameters: {'lambda_l1': 1.0068068934902411e-08, 'lambda_l2': 7.604457154172953e-06}. Best is trial 56 with value: 0.3881046576186489.\u001b[0m\n",
      "regularization_factors, val_score: 0.388105:  80%|8| 16/20 [00:15<00:03,  1.10i"
     ]
    },
    {
     "name": "stdout",
     "output_type": "stream",
     "text": [
      "Training until validation scores don't improve for 100 rounds\n",
      "[100]\ttrain's multi_logloss: 0.414594\teval's multi_logloss: 0.461271\n",
      "[200]\ttrain's multi_logloss: 0.345696\teval's multi_logloss: 0.414073\n",
      "[300]\ttrain's multi_logloss: 0.312346\teval's multi_logloss: 0.397794\n",
      "[400]\ttrain's multi_logloss: 0.290688\teval's multi_logloss: 0.390607\n",
      "[500]\ttrain's multi_logloss: 0.27531\teval's multi_logloss: 0.389118\n",
      "[600]\ttrain's multi_logloss: 0.263109\teval's multi_logloss: 0.389338\n",
      "Early stopping, best iteration is:\n",
      "[566]\ttrain's multi_logloss: 0.26706\teval's multi_logloss: 0.388105\n"
     ]
    },
    {
     "name": "stderr",
     "output_type": "stream",
     "text": [
      "regularization_factors, val_score: 0.388105:  85%|8| 17/20 [00:16<00:02,  1.12i\u001b[32m[I 2021-06-13 10:14:33,287]\u001b[0m Trial 59 finished with value: 0.38810467047593095 and parameters: {'lambda_l1': 3.274344296426741e-05, 'lambda_l2': 5.4846565471657764e-06}. Best is trial 56 with value: 0.3881046576186489.\u001b[0m\n",
      "regularization_factors, val_score: 0.388105:  85%|8| 17/20 [00:16<00:02,  1.12i"
     ]
    },
    {
     "name": "stdout",
     "output_type": "stream",
     "text": [
      "Training until validation scores don't improve for 100 rounds\n",
      "[100]\ttrain's multi_logloss: 0.414594\teval's multi_logloss: 0.461271\n",
      "[200]\ttrain's multi_logloss: 0.345696\teval's multi_logloss: 0.414073\n",
      "[300]\ttrain's multi_logloss: 0.312346\teval's multi_logloss: 0.397794\n",
      "[400]\ttrain's multi_logloss: 0.290687\teval's multi_logloss: 0.390607\n",
      "[500]\ttrain's multi_logloss: 0.275309\teval's multi_logloss: 0.389118\n",
      "[600]\ttrain's multi_logloss: 0.263108\teval's multi_logloss: 0.389338\n",
      "Early stopping, best iteration is:\n",
      "[566]\ttrain's multi_logloss: 0.267059\teval's multi_logloss: 0.388105\n"
     ]
    },
    {
     "name": "stderr",
     "output_type": "stream",
     "text": [
      "regularization_factors, val_score: 0.388105:  90%|9| 18/20 [00:16<00:01,  1.11i\u001b[32m[I 2021-06-13 10:14:34,197]\u001b[0m Trial 60 finished with value: 0.3881046577160454 and parameters: {'lambda_l1': 2.62162783327695e-07, 'lambda_l2': 1.5220943976776375e-08}. Best is trial 56 with value: 0.3881046576186489.\u001b[0m\n",
      "regularization_factors, val_score: 0.388105:  90%|9| 18/20 [00:16<00:01,  1.11i"
     ]
    },
    {
     "name": "stdout",
     "output_type": "stream",
     "text": [
      "Training until validation scores don't improve for 100 rounds\n",
      "[100]\ttrain's multi_logloss: 0.414595\teval's multi_logloss: 0.461271\n",
      "[200]\ttrain's multi_logloss: 0.345697\teval's multi_logloss: 0.414073\n",
      "[300]\ttrain's multi_logloss: 0.312347\teval's multi_logloss: 0.397794\n",
      "[400]\ttrain's multi_logloss: 0.290688\teval's multi_logloss: 0.390607\n",
      "[500]\ttrain's multi_logloss: 0.27531\teval's multi_logloss: 0.389118\n"
     ]
    },
    {
     "name": "stderr",
     "output_type": "stream",
     "text": [
      "\r",
      "regularization_factors, val_score: 0.388105:  90%|9| 18/20 [00:17<00:01,  1.11i"
     ]
    },
    {
     "name": "stdout",
     "output_type": "stream",
     "text": [
      "[600]\ttrain's multi_logloss: 0.26311\teval's multi_logloss: 0.389338\n",
      "Early stopping, best iteration is:\n",
      "[566]\ttrain's multi_logloss: 0.26706\teval's multi_logloss: 0.388105\n"
     ]
    },
    {
     "name": "stderr",
     "output_type": "stream",
     "text": [
      "regularization_factors, val_score: 0.388105:  95%|9| 19/20 [00:17<00:00,  1.13i\u001b[32m[I 2021-06-13 10:14:35,044]\u001b[0m Trial 61 finished with value: 0.3881046827842198 and parameters: {'lambda_l1': 1.6603945383782342e-06, 'lambda_l2': 9.552568161673291e-05}. Best is trial 56 with value: 0.3881046576186489.\u001b[0m\n",
      "regularization_factors, val_score: 0.388105:  95%|9| 19/20 [00:17<00:00,  1.13i"
     ]
    },
    {
     "name": "stdout",
     "output_type": "stream",
     "text": [
      "Training until validation scores don't improve for 100 rounds\n",
      "[100]\ttrain's multi_logloss: 0.447078\teval's multi_logloss: 0.484223\n",
      "[200]\ttrain's multi_logloss: 0.375832\teval's multi_logloss: 0.432711\n",
      "[300]\ttrain's multi_logloss: 0.341349\teval's multi_logloss: 0.412679\n",
      "[400]\ttrain's multi_logloss: 0.321905\teval's multi_logloss: 0.403\n",
      "[500]\ttrain's multi_logloss: 0.309264\teval's multi_logloss: 0.398751\n",
      "[600]\ttrain's multi_logloss: 0.299526\teval's multi_logloss: 0.397327\n",
      "[700]\ttrain's multi_logloss: 0.291341\teval's multi_logloss: 0.394583\n",
      "[800]\ttrain's multi_logloss: 0.284401\teval's multi_logloss: 0.394011\n",
      "[900]\ttrain's multi_logloss: 0.277889\teval's multi_logloss: 0.394322\n"
     ]
    },
    {
     "name": "stderr",
     "output_type": "stream",
     "text": [
      "regularization_factors, val_score: 0.388105: 100%|#| 20/20 [00:19<00:00,  1.00i\u001b[32m[I 2021-06-13 10:14:36,313]\u001b[0m Trial 62 finished with value: 0.39338951305474834 and parameters: {'lambda_l1': 0.00012411723499412993, 'lambda_l2': 6.117308046470651}. Best is trial 56 with value: 0.3881046576186489.\u001b[0m\n"
     ]
    },
    {
     "name": "stdout",
     "output_type": "stream",
     "text": [
      "Early stopping, best iteration is:\n",
      "[834]\ttrain's multi_logloss: 0.282027\teval's multi_logloss: 0.39339\n"
     ]
    },
    {
     "name": "stderr",
     "output_type": "stream",
     "text": [
      "regularization_factors, val_score: 0.388105: 100%|#| 20/20 [00:19<00:00,  1.05i\n",
      "min_data_in_leaf, val_score: 0.388105:   0%|             | 0/5 [00:00<?, ?it/s]"
     ]
    },
    {
     "name": "stdout",
     "output_type": "stream",
     "text": [
      "Training until validation scores don't improve for 100 rounds\n",
      "[100]\ttrain's multi_logloss: 0.406667\teval's multi_logloss: 0.460432\n",
      "[200]\ttrain's multi_logloss: 0.333185\teval's multi_logloss: 0.415035\n",
      "[300]\ttrain's multi_logloss: 0.296183\teval's multi_logloss: 0.402103\n"
     ]
    },
    {
     "name": "stderr",
     "output_type": "stream",
     "text": [
      "\r",
      "min_data_in_leaf, val_score: 0.388105:   0%|             | 0/5 [00:00<?, ?it/s]"
     ]
    },
    {
     "name": "stdout",
     "output_type": "stream",
     "text": [
      "[400]\ttrain's multi_logloss: 0.272655\teval's multi_logloss: 0.398293\n",
      "[500]\ttrain's multi_logloss: 0.255296\teval's multi_logloss: 0.400207\n",
      "Early stopping, best iteration is:\n",
      "[412]\ttrain's multi_logloss: 0.270439\teval's multi_logloss: 0.397605\n"
     ]
    },
    {
     "name": "stderr",
     "output_type": "stream",
     "text": [
      "min_data_in_leaf, val_score: 0.388105:  20%|#    | 1/5 [00:00<00:02,  1.47it/s]\u001b[32m[I 2021-06-13 10:14:37,002]\u001b[0m Trial 63 finished with value: 0.3976050844582732 and parameters: {'min_child_samples': 5}. Best is trial 63 with value: 0.3976050844582732.\u001b[0m\n",
      "min_data_in_leaf, val_score: 0.388105:  20%|#    | 1/5 [00:00<00:02,  1.47it/s]"
     ]
    },
    {
     "name": "stdout",
     "output_type": "stream",
     "text": [
      "Training until validation scores don't improve for 100 rounds\n",
      "[100]\ttrain's multi_logloss: 0.426448\teval's multi_logloss: 0.463671\n",
      "[200]\ttrain's multi_logloss: 0.360597\teval's multi_logloss: 0.418017\n",
      "[300]\ttrain's multi_logloss: 0.328641\teval's multi_logloss: 0.401436\n",
      "[400]\ttrain's multi_logloss: 0.309291\teval's multi_logloss: 0.394715\n",
      "[500]\ttrain's multi_logloss: 0.295334\teval's multi_logloss: 0.392608\n",
      "Early stopping, best iteration is:\n",
      "[497]\ttrain's multi_logloss: 0.295673\teval's multi_logloss: 0.392515\n"
     ]
    },
    {
     "name": "stderr",
     "output_type": "stream",
     "text": [
      "min_data_in_leaf, val_score: 0.388105:  40%|##   | 2/5 [00:01<00:02,  1.30it/s]\u001b[32m[I 2021-06-13 10:14:37,826]\u001b[0m Trial 64 finished with value: 0.39251539516699724 and parameters: {'min_child_samples': 50}. Best is trial 64 with value: 0.39251539516699724.\u001b[0m\n",
      "min_data_in_leaf, val_score: 0.388105:  40%|##   | 2/5 [00:01<00:02,  1.30it/s]"
     ]
    },
    {
     "name": "stdout",
     "output_type": "stream",
     "text": [
      "Training until validation scores don't improve for 100 rounds\n",
      "[100]\ttrain's multi_logloss: 0.409499\teval's multi_logloss: 0.459909\n",
      "[200]\ttrain's multi_logloss: 0.337802\teval's multi_logloss: 0.413414\n",
      "[300]\ttrain's multi_logloss: 0.302141\teval's multi_logloss: 0.398581\n",
      "[400]\ttrain's multi_logloss: 0.279542\teval's multi_logloss: 0.394969\n"
     ]
    },
    {
     "name": "stderr",
     "output_type": "stream",
     "text": [
      "min_data_in_leaf, val_score: 0.388105:  60%|###  | 3/5 [00:02<00:01,  1.46it/s]\u001b[32m[I 2021-06-13 10:14:38,421]\u001b[0m Trial 65 finished with value: 0.3941944446104192 and parameters: {'min_child_samples': 10}. Best is trial 64 with value: 0.39251539516699724.\u001b[0m\n",
      "min_data_in_leaf, val_score: 0.388105:  60%|###  | 3/5 [00:02<00:01,  1.46it/s]"
     ]
    },
    {
     "name": "stdout",
     "output_type": "stream",
     "text": [
      "[500]\ttrain's multi_logloss: 0.263178\teval's multi_logloss: 0.396521\n",
      "Early stopping, best iteration is:\n",
      "[412]\ttrain's multi_logloss: 0.277412\teval's multi_logloss: 0.394194\n",
      "Training until validation scores don't improve for 100 rounds\n",
      "[100]\ttrain's multi_logloss: 0.460599\teval's multi_logloss: 0.485935\n",
      "[200]\ttrain's multi_logloss: 0.391024\teval's multi_logloss: 0.432685\n",
      "[300]\ttrain's multi_logloss: 0.356178\teval's multi_logloss: 0.409923\n",
      "[400]\ttrain's multi_logloss: 0.33745\teval's multi_logloss: 0.400704\n",
      "[500]\ttrain's multi_logloss: 0.32445\teval's multi_logloss: 0.3961\n",
      "[600]\ttrain's multi_logloss: 0.315075\teval's multi_logloss: 0.393322\n",
      "[700]\ttrain's multi_logloss: 0.30706\teval's multi_logloss: 0.390876\n",
      "[800]\ttrain's multi_logloss: 0.300801\teval's multi_logloss: 0.390945\n",
      "Early stopping, best iteration is:\n",
      "[720]\ttrain's multi_logloss: 0.305778\teval's multi_logloss: 0.39006\n"
     ]
    },
    {
     "name": "stderr",
     "output_type": "stream",
     "text": [
      "min_data_in_leaf, val_score: 0.388105:  80%|#### | 4/5 [00:03<00:00,  1.27it/s]\u001b[32m[I 2021-06-13 10:14:39,367]\u001b[0m Trial 66 finished with value: 0.3900598371869142 and parameters: {'min_child_samples': 100}. Best is trial 66 with value: 0.3900598371869142.\u001b[0m\n",
      "min_data_in_leaf, val_score: 0.388105:  80%|#### | 4/5 [00:03<00:00,  1.27it/s]"
     ]
    },
    {
     "name": "stdout",
     "output_type": "stream",
     "text": [
      "Training until validation scores don't improve for 100 rounds\n",
      "[100]\ttrain's multi_logloss: 0.416339\teval's multi_logloss: 0.461539\n",
      "[200]\ttrain's multi_logloss: 0.348067\teval's multi_logloss: 0.415003\n",
      "[300]\ttrain's multi_logloss: 0.31516\teval's multi_logloss: 0.398307\n",
      "[400]\ttrain's multi_logloss: 0.294632\teval's multi_logloss: 0.391609\n",
      "[500]\ttrain's multi_logloss: 0.279865\teval's multi_logloss: 0.390187\n",
      "[600]\ttrain's multi_logloss: 0.268099\teval's multi_logloss: 0.39093\n",
      "Early stopping, best iteration is:\n",
      "[552]\ttrain's multi_logloss: 0.273612\teval's multi_logloss: 0.389609\n"
     ]
    },
    {
     "name": "stderr",
     "output_type": "stream",
     "text": [
      "min_data_in_leaf, val_score: 0.388105: 100%|#####| 5/5 [00:03<00:00,  1.23it/s]\u001b[32m[I 2021-06-13 10:14:40,216]\u001b[0m Trial 67 finished with value: 0.389608543862036 and parameters: {'min_child_samples': 25}. Best is trial 67 with value: 0.389608543862036.\u001b[0m\n",
      "min_data_in_leaf, val_score: 0.388105: 100%|#####| 5/5 [00:03<00:00,  1.28it/s]\n",
      "\u001b[32m[I 2021-06-13 10:14:40,287]\u001b[0m A new study created in memory with name: no-name-6f3d5f28-bdfd-4d56-ba96-b2c07c70bd51\u001b[0m\n",
      "feature_fraction, val_score: inf:   0%|                  | 0/7 [00:00<?, ?it/s]"
     ]
    },
    {
     "name": "stdout",
     "output_type": "stream",
     "text": [
      "Training until validation scores don't improve for 100 rounds\n",
      "[100]\ttrain's multi_logloss: 0.381746\teval's multi_logloss: 0.431284\n",
      "[200]\ttrain's multi_logloss: 0.286048\teval's multi_logloss: 0.380657\n",
      "[300]\ttrain's multi_logloss: 0.229391\teval's multi_logloss: 0.366536\n",
      "[400]\ttrain's multi_logloss: 0.188946\teval's multi_logloss: 0.368886\n",
      "Early stopping, best iteration is:\n",
      "[333]\ttrain's multi_logloss: 0.21424\teval's multi_logloss: 0.366185\n"
     ]
    },
    {
     "name": "stderr",
     "output_type": "stream",
     "text": [
      "feature_fraction, val_score: 0.366185:  14%|7    | 1/7 [00:01<00:08,  1.48s/it]\u001b[32m[I 2021-06-13 10:14:41,771]\u001b[0m Trial 0 finished with value: 0.3661852368745396 and parameters: {'feature_fraction': 0.6}. Best is trial 0 with value: 0.3661852368745396.\u001b[0m\n",
      "feature_fraction, val_score: 0.366185:  14%|7    | 1/7 [00:01<00:08,  1.48s/it]"
     ]
    },
    {
     "name": "stdout",
     "output_type": "stream",
     "text": [
      "Training until validation scores don't improve for 100 rounds\n",
      "[100]\ttrain's multi_logloss: 0.484597\teval's multi_logloss: 0.543133\n",
      "[200]\ttrain's multi_logloss: 0.393608\teval's multi_logloss: 0.501204\n",
      "[300]\ttrain's multi_logloss: 0.3313\teval's multi_logloss: 0.479032\n",
      "[400]\ttrain's multi_logloss: 0.282273\teval's multi_logloss: 0.463021\n",
      "[500]\ttrain's multi_logloss: 0.245833\teval's multi_logloss: 0.453823\n",
      "[600]\ttrain's multi_logloss: 0.212052\teval's multi_logloss: 0.44731\n",
      "[700]\ttrain's multi_logloss: 0.18562\teval's multi_logloss: 0.447908\n",
      "Early stopping, best iteration is:\n",
      "[602]\ttrain's multi_logloss: 0.211173\teval's multi_logloss: 0.446906\n"
     ]
    },
    {
     "name": "stderr",
     "output_type": "stream",
     "text": [
      "feature_fraction, val_score: 0.366185:  29%|#4   | 2/7 [00:03<00:09,  1.92s/it]\u001b[32m[I 2021-06-13 10:14:43,999]\u001b[0m Trial 1 finished with value: 0.446906281576868 and parameters: {'feature_fraction': 0.4}. Best is trial 0 with value: 0.3661852368745396.\u001b[0m\n",
      "feature_fraction, val_score: 0.366185:  29%|#4   | 2/7 [00:03<00:09,  1.92s/it]"
     ]
    },
    {
     "name": "stdout",
     "output_type": "stream",
     "text": [
      "Training until validation scores don't improve for 100 rounds\n",
      "[100]\ttrain's multi_logloss: 0.339838\teval's multi_logloss: 0.391782\n",
      "[200]\ttrain's multi_logloss: 0.253557\teval's multi_logloss: 0.360701\n",
      "[300]\ttrain's multi_logloss: 0.193273\teval's multi_logloss: 0.362904\n",
      "Early stopping, best iteration is:\n",
      "[240]\ttrain's multi_logloss: 0.225988\teval's multi_logloss: 0.356603\n"
     ]
    },
    {
     "name": "stderr",
     "output_type": "stream",
     "text": [
      "feature_fraction, val_score: 0.356603:  43%|##1  | 3/7 [00:04<00:06,  1.61s/it]\u001b[32m[I 2021-06-13 10:14:45,240]\u001b[0m Trial 2 finished with value: 0.3566033422654168 and parameters: {'feature_fraction': 1.0}. Best is trial 2 with value: 0.3566033422654168.\u001b[0m\n",
      "feature_fraction, val_score: 0.356603:  43%|##1  | 3/7 [00:04<00:06,  1.61s/it]"
     ]
    },
    {
     "name": "stdout",
     "output_type": "stream",
     "text": [
      "Training until validation scores don't improve for 100 rounds\n",
      "[100]\ttrain's multi_logloss: 0.351879\teval's multi_logloss: 0.403627\n",
      "[200]\ttrain's multi_logloss: 0.260058\teval's multi_logloss: 0.363522\n",
      "[300]\ttrain's multi_logloss: 0.202973\teval's multi_logloss: 0.363324\n",
      "Early stopping, best iteration is:\n",
      "[225]\ttrain's multi_logloss: 0.243704\teval's multi_logloss: 0.360121\n"
     ]
    },
    {
     "name": "stderr",
     "output_type": "stream",
     "text": [
      "feature_fraction, val_score: 0.356603:  57%|##8  | 4/7 [00:06<00:04,  1.45s/it]\u001b[32m[I 2021-06-13 10:14:46,441]\u001b[0m Trial 3 finished with value: 0.3601213788886541 and parameters: {'feature_fraction': 0.8}. Best is trial 2 with value: 0.3566033422654168.\u001b[0m\n",
      "feature_fraction, val_score: 0.356603:  57%|##8  | 4/7 [00:06<00:04,  1.45s/it]"
     ]
    },
    {
     "name": "stdout",
     "output_type": "stream",
     "text": [
      "Training until validation scores don't improve for 100 rounds\n",
      "[100]\ttrain's multi_logloss: 0.344324\teval's multi_logloss: 0.397285\n",
      "[200]\ttrain's multi_logloss: 0.25489\teval's multi_logloss: 0.361084\n",
      "[300]\ttrain's multi_logloss: 0.196648\teval's multi_logloss: 0.364688\n",
      "Early stopping, best iteration is:\n",
      "[225]\ttrain's multi_logloss: 0.238139\teval's multi_logloss: 0.359785\n"
     ]
    },
    {
     "name": "stderr",
     "output_type": "stream",
     "text": [
      "feature_fraction, val_score: 0.356603:  71%|###5 | 5/7 [00:07<00:02,  1.37s/it]\u001b[32m[I 2021-06-13 10:14:47,670]\u001b[0m Trial 4 finished with value: 0.3597849155100368 and parameters: {'feature_fraction': 0.8999999999999999}. Best is trial 2 with value: 0.3566033422654168.\u001b[0m\n",
      "feature_fraction, val_score: 0.356603:  71%|###5 | 5/7 [00:07<00:02,  1.37s/it]"
     ]
    },
    {
     "name": "stdout",
     "output_type": "stream",
     "text": [
      "Training until validation scores don't improve for 100 rounds\n",
      "[100]\ttrain's multi_logloss: 0.365703\teval's multi_logloss: 0.416457\n",
      "[200]\ttrain's multi_logloss: 0.269679\teval's multi_logloss: 0.370682\n",
      "[300]\ttrain's multi_logloss: 0.213011\teval's multi_logloss: 0.365911\n",
      "Early stopping, best iteration is:\n",
      "[255]\ttrain's multi_logloss: 0.23596\teval's multi_logloss: 0.364642\n"
     ]
    },
    {
     "name": "stderr",
     "output_type": "stream",
     "text": [
      "feature_fraction, val_score: 0.356603:  86%|####2| 6/7 [00:08<00:01,  1.35s/it]\u001b[32m[I 2021-06-13 10:14:48,974]\u001b[0m Trial 5 finished with value: 0.36464188078214993 and parameters: {'feature_fraction': 0.7}. Best is trial 2 with value: 0.3566033422654168.\u001b[0m\n",
      "feature_fraction, val_score: 0.356603:  86%|####2| 6/7 [00:08<00:01,  1.35s/it]"
     ]
    },
    {
     "name": "stdout",
     "output_type": "stream",
     "text": [
      "Training until validation scores don't improve for 100 rounds\n",
      "[100]\ttrain's multi_logloss: 0.381746\teval's multi_logloss: 0.431284\n",
      "[200]\ttrain's multi_logloss: 0.286048\teval's multi_logloss: 0.380657\n",
      "[300]\ttrain's multi_logloss: 0.229391\teval's multi_logloss: 0.366536\n",
      "[400]\ttrain's multi_logloss: 0.188946\teval's multi_logloss: 0.368886\n",
      "Early stopping, best iteration is:\n",
      "[333]\ttrain's multi_logloss: 0.21424\teval's multi_logloss: 0.366185\n"
     ]
    },
    {
     "name": "stderr",
     "output_type": "stream",
     "text": [
      "feature_fraction, val_score: 0.356603: 100%|#####| 7/7 [00:10<00:00,  1.51s/it]\u001b[32m[I 2021-06-13 10:14:50,823]\u001b[0m Trial 6 finished with value: 0.3661852368745396 and parameters: {'feature_fraction': 0.5}. Best is trial 2 with value: 0.3566033422654168.\u001b[0m\n",
      "feature_fraction, val_score: 0.356603: 100%|#####| 7/7 [00:10<00:00,  1.51s/it]\n",
      "num_leaves, val_score: 0.356603:   0%|                  | 0/20 [00:00<?, ?it/s]"
     ]
    },
    {
     "name": "stdout",
     "output_type": "stream",
     "text": [
      "Training until validation scores don't improve for 100 rounds\n",
      "[100]\ttrain's multi_logloss: 0.339838\teval's multi_logloss: 0.391782\n",
      "[200]\ttrain's multi_logloss: 0.253687\teval's multi_logloss: 0.360549\n",
      "[300]\ttrain's multi_logloss: 0.194076\teval's multi_logloss: 0.363061\n",
      "Early stopping, best iteration is:\n",
      "[235]\ttrain's multi_logloss: 0.229762\teval's multi_logloss: 0.356989\n"
     ]
    },
    {
     "name": "stderr",
     "output_type": "stream",
     "text": [
      "num_leaves, val_score: 0.356603:   5%|5         | 1/20 [00:01<00:26,  1.37s/it]\u001b[32m[I 2021-06-13 10:14:52,204]\u001b[0m Trial 7 finished with value: 0.3569894181242089 and parameters: {'num_leaves': 136}. Best is trial 7 with value: 0.3569894181242089.\u001b[0m\n",
      "num_leaves, val_score: 0.356603:   5%|5         | 1/20 [00:01<00:26,  1.37s/it]"
     ]
    },
    {
     "name": "stdout",
     "output_type": "stream",
     "text": [
      "Training until validation scores don't improve for 100 rounds\n",
      "[100]\ttrain's multi_logloss: 0.339838\teval's multi_logloss: 0.391782\n",
      "[200]\ttrain's multi_logloss: 0.253687\teval's multi_logloss: 0.360549\n",
      "[300]\ttrain's multi_logloss: 0.194076\teval's multi_logloss: 0.363061\n",
      "Early stopping, best iteration is:\n",
      "[235]\ttrain's multi_logloss: 0.229762\teval's multi_logloss: 0.356989\n"
     ]
    },
    {
     "name": "stderr",
     "output_type": "stream",
     "text": [
      "num_leaves, val_score: 0.356603:  10%|#         | 2/20 [00:02<00:24,  1.36s/it]\u001b[32m[I 2021-06-13 10:14:53,557]\u001b[0m Trial 8 finished with value: 0.3569894181242089 and parameters: {'num_leaves': 218}. Best is trial 7 with value: 0.3569894181242089.\u001b[0m\n",
      "num_leaves, val_score: 0.356603:  10%|#         | 2/20 [00:02<00:24,  1.36s/it]"
     ]
    },
    {
     "name": "stdout",
     "output_type": "stream",
     "text": [
      "Training until validation scores don't improve for 100 rounds\n",
      "[100]\ttrain's multi_logloss: 0.339838\teval's multi_logloss: 0.391782\n",
      "[200]\ttrain's multi_logloss: 0.253687\teval's multi_logloss: 0.360549\n",
      "[300]\ttrain's multi_logloss: 0.194076\teval's multi_logloss: 0.363061\n",
      "Early stopping, best iteration is:\n",
      "[235]\ttrain's multi_logloss: 0.229762\teval's multi_logloss: 0.356989\n"
     ]
    },
    {
     "name": "stderr",
     "output_type": "stream",
     "text": [
      "num_leaves, val_score: 0.356603:  15%|#5        | 3/20 [00:04<00:22,  1.32s/it]\u001b[32m[I 2021-06-13 10:14:54,847]\u001b[0m Trial 9 finished with value: 0.3569894181242089 and parameters: {'num_leaves': 195}. Best is trial 7 with value: 0.3569894181242089.\u001b[0m\n",
      "num_leaves, val_score: 0.356603:  15%|#5        | 3/20 [00:04<00:22,  1.32s/it]"
     ]
    },
    {
     "name": "stdout",
     "output_type": "stream",
     "text": [
      "Training until validation scores don't improve for 100 rounds\n",
      "[100]\ttrain's multi_logloss: 0.339838\teval's multi_logloss: 0.391783\n",
      "[200]\ttrain's multi_logloss: 0.25374\teval's multi_logloss: 0.36057\n",
      "[300]\ttrain's multi_logloss: 0.193095\teval's multi_logloss: 0.362327\n",
      "Early stopping, best iteration is:\n",
      "[235]\ttrain's multi_logloss: 0.229965\teval's multi_logloss: 0.356286\n"
     ]
    },
    {
     "name": "stderr",
     "output_type": "stream",
     "text": [
      "num_leaves, val_score: 0.356286:  20%|##        | 4/20 [00:05<00:20,  1.29s/it]\u001b[32m[I 2021-06-13 10:14:56,080]\u001b[0m Trial 10 finished with value: 0.356285752417002 and parameters: {'num_leaves': 36}. Best is trial 10 with value: 0.356285752417002.\u001b[0m\n",
      "num_leaves, val_score: 0.356286:  20%|##        | 4/20 [00:05<00:20,  1.29s/it]"
     ]
    },
    {
     "name": "stdout",
     "output_type": "stream",
     "text": [
      "Training until validation scores don't improve for 100 rounds\n",
      "[100]\ttrain's multi_logloss: 0.339838\teval's multi_logloss: 0.391782\n",
      "[200]\ttrain's multi_logloss: 0.253687\teval's multi_logloss: 0.360549\n",
      "[300]\ttrain's multi_logloss: 0.194076\teval's multi_logloss: 0.363061\n",
      "Early stopping, best iteration is:\n",
      "[235]\ttrain's multi_logloss: 0.229762\teval's multi_logloss: 0.356989\n"
     ]
    },
    {
     "name": "stderr",
     "output_type": "stream",
     "text": [
      "num_leaves, val_score: 0.356286:  25%|##5       | 5/20 [00:06<00:19,  1.31s/it]\u001b[32m[I 2021-06-13 10:14:57,419]\u001b[0m Trial 11 finished with value: 0.3569894181242089 and parameters: {'num_leaves': 214}. Best is trial 10 with value: 0.356285752417002.\u001b[0m\n",
      "num_leaves, val_score: 0.356286:  25%|##5       | 5/20 [00:06<00:19,  1.31s/it]"
     ]
    },
    {
     "name": "stdout",
     "output_type": "stream",
     "text": [
      "Training until validation scores don't improve for 100 rounds\n",
      "[100]\ttrain's multi_logloss: 0.377541\teval's multi_logloss: 0.395275\n",
      "[200]\ttrain's multi_logloss: 0.319916\teval's multi_logloss: 0.360624\n",
      "[300]\ttrain's multi_logloss: 0.291759\teval's multi_logloss: 0.352307\n",
      "Early stopping, best iteration is:\n",
      "[275]\ttrain's multi_logloss: 0.298079\teval's multi_logloss: 0.351716\n"
     ]
    },
    {
     "name": "stderr",
     "output_type": "stream",
     "text": [
      "num_leaves, val_score: 0.351716:  30%|###       | 6/20 [00:07<00:14,  1.05s/it]\u001b[32m[I 2021-06-13 10:14:57,966]\u001b[0m Trial 12 finished with value: 0.3517157764769425 and parameters: {'num_leaves': 7}. Best is trial 12 with value: 0.3517157764769425.\u001b[0m\n",
      "num_leaves, val_score: 0.351716:  30%|###       | 6/20 [00:07<00:14,  1.05s/it]"
     ]
    },
    {
     "name": "stdout",
     "output_type": "stream",
     "text": [
      "Training until validation scores don't improve for 100 rounds\n",
      "[100]\ttrain's multi_logloss: 0.339838\teval's multi_logloss: 0.391782\n",
      "[200]\ttrain's multi_logloss: 0.253687\teval's multi_logloss: 0.360549\n",
      "[300]\ttrain's multi_logloss: 0.194076\teval's multi_logloss: 0.363061\n",
      "Early stopping, best iteration is:\n",
      "[235]\ttrain's multi_logloss: 0.229762\teval's multi_logloss: 0.356989\n"
     ]
    },
    {
     "name": "stderr",
     "output_type": "stream",
     "text": [
      "num_leaves, val_score: 0.351716:  35%|###5      | 7/20 [00:08<00:14,  1.15s/it]\u001b[32m[I 2021-06-13 10:14:59,330]\u001b[0m Trial 13 finished with value: 0.3569894181242089 and parameters: {'num_leaves': 182}. Best is trial 12 with value: 0.3517157764769425.\u001b[0m\n",
      "num_leaves, val_score: 0.351716:  35%|###5      | 7/20 [00:08<00:14,  1.15s/it]"
     ]
    },
    {
     "name": "stdout",
     "output_type": "stream",
     "text": [
      "Training until validation scores don't improve for 100 rounds\n",
      "[100]\ttrain's multi_logloss: 0.364547\teval's multi_logloss: 0.393252\n",
      "[200]\ttrain's multi_logloss: 0.301145\teval's multi_logloss: 0.359466\n"
     ]
    },
    {
     "name": "stderr",
     "output_type": "stream",
     "text": [
      "num_leaves, val_score: 0.351716:  40%|####      | 8/20 [00:09<00:11,  1.01it/s]\u001b[32m[I 2021-06-13 10:14:59,984]\u001b[0m Trial 14 finished with value: 0.3529392236925869 and parameters: {'num_leaves': 10}. Best is trial 12 with value: 0.3517157764769425.\u001b[0m\n",
      "num_leaves, val_score: 0.351716:  40%|####      | 8/20 [00:09<00:11,  1.01it/s]"
     ]
    },
    {
     "name": "stdout",
     "output_type": "stream",
     "text": [
      "[300]\ttrain's multi_logloss: 0.265726\teval's multi_logloss: 0.354204\n",
      "Early stopping, best iteration is:\n",
      "[269]\ttrain's multi_logloss: 0.275305\teval's multi_logloss: 0.352939\n",
      "Training until validation scores don't improve for 100 rounds\n",
      "[100]\ttrain's multi_logloss: 0.339838\teval's multi_logloss: 0.391782\n",
      "[200]\ttrain's multi_logloss: 0.253687\teval's multi_logloss: 0.360549\n",
      "[300]\ttrain's multi_logloss: 0.194076\teval's multi_logloss: 0.363061\n",
      "Early stopping, best iteration is:\n",
      "[235]\ttrain's multi_logloss: 0.229762\teval's multi_logloss: 0.356989\n"
     ]
    },
    {
     "name": "stderr",
     "output_type": "stream",
     "text": [
      "num_leaves, val_score: 0.351716:  45%|####5     | 9/20 [00:10<00:11,  1.07s/it]\u001b[32m[I 2021-06-13 10:15:01,216]\u001b[0m Trial 15 finished with value: 0.3569894181242089 and parameters: {'num_leaves': 81}. Best is trial 12 with value: 0.3517157764769425.\u001b[0m\n",
      "num_leaves, val_score: 0.351716:  45%|####5     | 9/20 [00:10<00:11,  1.07s/it]"
     ]
    },
    {
     "name": "stdout",
     "output_type": "stream",
     "text": [
      "Training until validation scores don't improve for 100 rounds\n",
      "[100]\ttrain's multi_logloss: 0.339838\teval's multi_logloss: 0.391782\n",
      "[200]\ttrain's multi_logloss: 0.253687\teval's multi_logloss: 0.360549\n",
      "[300]\ttrain's multi_logloss: 0.194076\teval's multi_logloss: 0.363061\n",
      "Early stopping, best iteration is:\n",
      "[235]\ttrain's multi_logloss: 0.229762\teval's multi_logloss: 0.356989\n"
     ]
    },
    {
     "name": "stderr",
     "output_type": "stream",
     "text": [
      "num_leaves, val_score: 0.351716:  50%|####5    | 10/20 [00:11<00:11,  1.16s/it]\u001b[32m[I 2021-06-13 10:15:02,577]\u001b[0m Trial 16 finished with value: 0.3569894181242089 and parameters: {'num_leaves': 207}. Best is trial 12 with value: 0.3517157764769425.\u001b[0m\n",
      "num_leaves, val_score: 0.351716:  50%|####5    | 10/20 [00:11<00:11,  1.16s/it]"
     ]
    },
    {
     "name": "stdout",
     "output_type": "stream",
     "text": [
      "Training until validation scores don't improve for 100 rounds\n",
      "[100]\ttrain's multi_logloss: 0.339838\teval's multi_logloss: 0.391782\n",
      "[200]\ttrain's multi_logloss: 0.253687\teval's multi_logloss: 0.360549\n",
      "[300]\ttrain's multi_logloss: 0.194076\teval's multi_logloss: 0.363061\n",
      "Early stopping, best iteration is:\n",
      "[235]\ttrain's multi_logloss: 0.229762\teval's multi_logloss: 0.356989\n"
     ]
    },
    {
     "name": "stderr",
     "output_type": "stream",
     "text": [
      "num_leaves, val_score: 0.351716:  55%|####9    | 11/20 [00:13<00:10,  1.21s/it]\u001b[32m[I 2021-06-13 10:15:03,888]\u001b[0m Trial 17 finished with value: 0.3569894181242089 and parameters: {'num_leaves': 72}. Best is trial 12 with value: 0.3517157764769425.\u001b[0m\n",
      "num_leaves, val_score: 0.351716:  55%|####9    | 11/20 [00:13<00:10,  1.21s/it]"
     ]
    },
    {
     "name": "stdout",
     "output_type": "stream",
     "text": [
      "Training until validation scores don't improve for 100 rounds\n",
      "[100]\ttrain's multi_logloss: 0.383067\teval's multi_logloss: 0.3973\n",
      "[200]\ttrain's multi_logloss: 0.328422\teval's multi_logloss: 0.36137\n",
      "[300]\ttrain's multi_logloss: 0.301658\teval's multi_logloss: 0.352029\n",
      "[400]\ttrain's multi_logloss: 0.282144\teval's multi_logloss: 0.352454\n",
      "Early stopping, best iteration is:\n",
      "[345]\ttrain's multi_logloss: 0.292367\teval's multi_logloss: 0.351431\n"
     ]
    },
    {
     "name": "stderr",
     "output_type": "stream",
     "text": [
      "num_leaves, val_score: 0.351431:  60%|#####3   | 12/20 [00:13<00:08,  1.01s/it]\u001b[32m[I 2021-06-13 10:15:04,443]\u001b[0m Trial 18 finished with value: 0.35143130838541004 and parameters: {'num_leaves': 6}. Best is trial 18 with value: 0.35143130838541004.\u001b[0m\n",
      "num_leaves, val_score: 0.351431:  60%|#####3   | 12/20 [00:13<00:08,  1.01s/it]"
     ]
    },
    {
     "name": "stdout",
     "output_type": "stream",
     "text": [
      "Training until validation scores don't improve for 100 rounds\n",
      "[100]\ttrain's multi_logloss: 0.343481\teval's multi_logloss: 0.39156\n",
      "[200]\ttrain's multi_logloss: 0.262991\teval's multi_logloss: 0.361187\n",
      "[300]\ttrain's multi_logloss: 0.210446\teval's multi_logloss: 0.36179\n",
      "Early stopping, best iteration is:\n",
      "[235]\ttrain's multi_logloss: 0.241759\teval's multi_logloss: 0.356755\n"
     ]
    },
    {
     "name": "stderr",
     "output_type": "stream",
     "text": [
      "num_leaves, val_score: 0.351431:  65%|#####8   | 13/20 [00:14<00:06,  1.02it/s]\u001b[32m[I 2021-06-13 10:15:05,380]\u001b[0m Trial 19 finished with value: 0.35675489318673237 and parameters: {'num_leaves': 23}. Best is trial 18 with value: 0.35143130838541004.\u001b[0m\n",
      "num_leaves, val_score: 0.351431:  65%|#####8   | 13/20 [00:14<00:06,  1.02it/s]"
     ]
    },
    {
     "name": "stdout",
     "output_type": "stream",
     "text": [
      "Training until validation scores don't improve for 100 rounds\n",
      "[100]\ttrain's multi_logloss: 0.339838\teval's multi_logloss: 0.391782\n",
      "[200]\ttrain's multi_logloss: 0.253687\teval's multi_logloss: 0.360549\n",
      "[300]\ttrain's multi_logloss: 0.194076\teval's multi_logloss: 0.363061\n",
      "Early stopping, best iteration is:\n",
      "[235]\ttrain's multi_logloss: 0.229762\teval's multi_logloss: 0.356989\n"
     ]
    },
    {
     "name": "stderr",
     "output_type": "stream",
     "text": [
      "num_leaves, val_score: 0.351431:  70%|######3  | 14/20 [00:15<00:06,  1.08s/it]\u001b[32m[I 2021-06-13 10:15:06,680]\u001b[0m Trial 20 finished with value: 0.3569894181242089 and parameters: {'num_leaves': 63}. Best is trial 18 with value: 0.35143130838541004.\u001b[0m\n",
      "num_leaves, val_score: 0.351431:  70%|######3  | 14/20 [00:15<00:06,  1.08s/it]"
     ]
    },
    {
     "name": "stdout",
     "output_type": "stream",
     "text": [
      "Training until validation scores don't improve for 100 rounds\n",
      "[100]\ttrain's multi_logloss: 0.396869\teval's multi_logloss: 0.404662\n",
      "[200]\ttrain's multi_logloss: 0.348519\teval's multi_logloss: 0.364388\n",
      "[300]\ttrain's multi_logloss: 0.327617\teval's multi_logloss: 0.353181\n",
      "[400]\ttrain's multi_logloss: 0.313017\teval's multi_logloss: 0.349037\n",
      "[500]\ttrain's multi_logloss: 0.300645\teval's multi_logloss: 0.34891\n",
      "Early stopping, best iteration is:\n",
      "[445]\ttrain's multi_logloss: 0.307461\teval's multi_logloss: 0.348744"
     ]
    },
    {
     "name": "stderr",
     "output_type": "stream",
     "text": [
      "num_leaves, val_score: 0.348744:  75%|######7  | 15/20 [00:16<00:04,  1.07it/s]\u001b[32m[I 2021-06-13 10:15:07,255]\u001b[0m Trial 21 finished with value: 0.3487439324311739 and parameters: {'num_leaves': 4}. Best is trial 21 with value: 0.3487439324311739.\u001b[0m\n",
      "num_leaves, val_score: 0.348744:  75%|######7  | 15/20 [00:16<00:04,  1.07it/s]"
     ]
    },
    {
     "name": "stdout",
     "output_type": "stream",
     "text": [
      "\n",
      "Training until validation scores don't improve for 100 rounds\n",
      "[100]\ttrain's multi_logloss: 0.339838\teval's multi_logloss: 0.391782\n",
      "[200]\ttrain's multi_logloss: 0.253687\teval's multi_logloss: 0.360549\n",
      "[300]\ttrain's multi_logloss: 0.194076\teval's multi_logloss: 0.363061\n",
      "Early stopping, best iteration is:\n",
      "[235]\ttrain's multi_logloss: 0.229762\teval's multi_logloss: 0.356989\n"
     ]
    },
    {
     "name": "stderr",
     "output_type": "stream",
     "text": [
      "num_leaves, val_score: 0.348744:  80%|#######2 | 16/20 [00:17<00:04,  1.08s/it]\u001b[32m[I 2021-06-13 10:15:08,678]\u001b[0m Trial 22 finished with value: 0.3569894181242089 and parameters: {'num_leaves': 111}. Best is trial 21 with value: 0.3487439324311739.\u001b[0m\n",
      "num_leaves, val_score: 0.348744:  80%|#######2 | 16/20 [00:17<00:04,  1.08s/it]"
     ]
    },
    {
     "name": "stdout",
     "output_type": "stream",
     "text": [
      "Training until validation scores don't improve for 100 rounds\n",
      "[100]\ttrain's multi_logloss: 0.339838\teval's multi_logloss: 0.391782\n",
      "[200]\ttrain's multi_logloss: 0.253687\teval's multi_logloss: 0.360549\n",
      "[300]\ttrain's multi_logloss: 0.194076\teval's multi_logloss: 0.363061\n",
      "Early stopping, best iteration is:\n",
      "[235]\ttrain's multi_logloss: 0.229762\teval's multi_logloss: 0.356989\n"
     ]
    },
    {
     "name": "stderr",
     "output_type": "stream",
     "text": [
      "num_leaves, val_score: 0.348744:  85%|#######6 | 17/20 [00:19<00:03,  1.17s/it]\u001b[32m[I 2021-06-13 10:15:10,071]\u001b[0m Trial 23 finished with value: 0.3569894181242089 and parameters: {'num_leaves': 256}. Best is trial 21 with value: 0.3487439324311739.\u001b[0m\n",
      "num_leaves, val_score: 0.348744:  85%|#######6 | 17/20 [00:19<00:03,  1.17s/it]"
     ]
    },
    {
     "name": "stdout",
     "output_type": "stream",
     "text": [
      "Training until validation scores don't improve for 100 rounds\n",
      "[100]\ttrain's multi_logloss: 0.339838\teval's multi_logloss: 0.391782\n",
      "[200]\ttrain's multi_logloss: 0.253687\teval's multi_logloss: 0.360549\n",
      "[300]\ttrain's multi_logloss: 0.194074\teval's multi_logloss: 0.363039\n",
      "Early stopping, best iteration is:\n",
      "[235]\ttrain's multi_logloss: 0.229762\teval's multi_logloss: 0.356989\n"
     ]
    },
    {
     "name": "stderr",
     "output_type": "stream",
     "text": [
      "num_leaves, val_score: 0.348744:  90%|########1| 18/20 [00:20<00:02,  1.19s/it]\u001b[32m[I 2021-06-13 10:15:11,292]\u001b[0m Trial 24 finished with value: 0.356989435077339 and parameters: {'num_leaves': 42}. Best is trial 21 with value: 0.3487439324311739.\u001b[0m\n",
      "num_leaves, val_score: 0.348744:  90%|########1| 18/20 [00:20<00:02,  1.19s/it]"
     ]
    },
    {
     "name": "stdout",
     "output_type": "stream",
     "text": [
      "Training until validation scores don't improve for 100 rounds\n",
      "[100]\ttrain's multi_logloss: 0.339838\teval's multi_logloss: 0.391782\n",
      "[200]\ttrain's multi_logloss: 0.253687\teval's multi_logloss: 0.360549\n",
      "[300]\ttrain's multi_logloss: 0.194076\teval's multi_logloss: 0.363061\n",
      "Early stopping, best iteration is:\n",
      "[235]\ttrain's multi_logloss: 0.229762\teval's multi_logloss: 0.356989\n"
     ]
    },
    {
     "name": "stderr",
     "output_type": "stream",
     "text": [
      "num_leaves, val_score: 0.348744:  95%|########5| 19/20 [00:21<00:01,  1.23s/it]\u001b[32m[I 2021-06-13 10:15:12,622]\u001b[0m Trial 25 finished with value: 0.3569894181242089 and parameters: {'num_leaves': 108}. Best is trial 21 with value: 0.3487439324311739.\u001b[0m\n",
      "num_leaves, val_score: 0.348744:  95%|########5| 19/20 [00:21<00:01,  1.23s/it]"
     ]
    },
    {
     "name": "stdout",
     "output_type": "stream",
     "text": [
      "Training until validation scores don't improve for 100 rounds\n",
      "[100]\ttrain's multi_logloss: 0.339838\teval's multi_logloss: 0.391782\n",
      "[200]\ttrain's multi_logloss: 0.253687\teval's multi_logloss: 0.360549\n",
      "[300]\ttrain's multi_logloss: 0.194076\teval's multi_logloss: 0.363061\n",
      "Early stopping, best iteration is:\n",
      "[235]\ttrain's multi_logloss: 0.229762\teval's multi_logloss: 0.356989\n"
     ]
    },
    {
     "name": "stderr",
     "output_type": "stream",
     "text": [
      "num_leaves, val_score: 0.348744: 100%|#########| 20/20 [00:23<00:00,  1.26s/it]\u001b[32m[I 2021-06-13 10:15:13,965]\u001b[0m Trial 26 finished with value: 0.3569894181242089 and parameters: {'num_leaves': 147}. Best is trial 21 with value: 0.3487439324311739.\u001b[0m\n",
      "num_leaves, val_score: 0.348744: 100%|#########| 20/20 [00:23<00:00,  1.16s/it]\n",
      "bagging, val_score: 0.348744:   0%|                     | 0/10 [00:00<?, ?it/s]"
     ]
    },
    {
     "name": "stdout",
     "output_type": "stream",
     "text": [
      "Training until validation scores don't improve for 100 rounds\n",
      "[100]\ttrain's multi_logloss: 0.39852\teval's multi_logloss: 0.404785\n",
      "[200]\ttrain's multi_logloss: 0.350452\teval's multi_logloss: 0.364847\n",
      "[300]\ttrain's multi_logloss: 0.329044\teval's multi_logloss: 0.35414\n",
      "[400]\ttrain's multi_logloss: 0.314089\teval's multi_logloss: 0.348395\n",
      "[500]\ttrain's multi_logloss: 0.302728\teval's multi_logloss: 0.349178\n",
      "Early stopping, best iteration is:\n",
      "[404]\ttrain's multi_logloss: 0.313441\teval's multi_logloss: 0.347939\n"
     ]
    },
    {
     "name": "stderr",
     "output_type": "stream",
     "text": [
      "bagging, val_score: 0.347939:  10%|#3           | 1/10 [00:00<00:04,  1.94it/s]\u001b[32m[I 2021-06-13 10:15:14,489]\u001b[0m Trial 27 finished with value: 0.3479391181647393 and parameters: {'bagging_fraction': 0.5195540894076469, 'bagging_freq': 4}. Best is trial 27 with value: 0.3479391181647393.\u001b[0m\n",
      "bagging, val_score: 0.347939:  10%|#3           | 1/10 [00:00<00:04,  1.94it/s]"
     ]
    },
    {
     "name": "stdout",
     "output_type": "stream",
     "text": [
      "Training until validation scores don't improve for 100 rounds\n",
      "[100]\ttrain's multi_logloss: 0.397467\teval's multi_logloss: 0.40584\n",
      "[200]\ttrain's multi_logloss: 0.349083\teval's multi_logloss: 0.365809\n",
      "[300]\ttrain's multi_logloss: 0.327838\teval's multi_logloss: 0.354962\n",
      "[400]\ttrain's multi_logloss: 0.312744\teval's multi_logloss: 0.353556\n",
      "[500]\ttrain's multi_logloss: 0.300447\teval's multi_logloss: 0.352357\n"
     ]
    },
    {
     "name": "stderr",
     "output_type": "stream",
     "text": [
      "bagging, val_score: 0.347939:  20%|##6          | 2/10 [00:01<00:04,  1.69it/s]\u001b[32m[I 2021-06-13 10:15:15,143]\u001b[0m Trial 28 finished with value: 0.3520159718400957 and parameters: {'bagging_fraction': 0.7532114567228749, 'bagging_freq': 2}. Best is trial 27 with value: 0.3479391181647393.\u001b[0m\n",
      "bagging, val_score: 0.347939:  20%|##6          | 2/10 [00:01<00:04,  1.69it/s]"
     ]
    },
    {
     "name": "stdout",
     "output_type": "stream",
     "text": [
      "[600]\ttrain's multi_logloss: 0.289916\teval's multi_logloss: 0.352526\n",
      "Early stopping, best iteration is:\n",
      "[530]\ttrain's multi_logloss: 0.29701\teval's multi_logloss: 0.352016\n",
      "Training until validation scores don't improve for 100 rounds\n",
      "[100]\ttrain's multi_logloss: 0.397604\teval's multi_logloss: 0.406775\n",
      "[200]\ttrain's multi_logloss: 0.348575\teval's multi_logloss: 0.364645\n",
      "[300]\ttrain's multi_logloss: 0.328228\teval's multi_logloss: 0.355263\n",
      "[400]\ttrain's multi_logloss: 0.313403\teval's multi_logloss: 0.35375\n",
      "[500]\ttrain's multi_logloss: 0.300913\teval's multi_logloss: 0.352561\n",
      "[600]\ttrain's multi_logloss: 0.290437\teval's multi_logloss: 0.353617\n"
     ]
    },
    {
     "name": "stderr",
     "output_type": "stream",
     "text": [
      "bagging, val_score: 0.347939:  30%|###9         | 3/10 [00:01<00:04,  1.54it/s]\u001b[32m[I 2021-06-13 10:15:15,852]\u001b[0m Trial 29 finished with value: 0.3523894204267601 and parameters: {'bagging_fraction': 0.899067177622513, 'bagging_freq': 1}. Best is trial 27 with value: 0.3479391181647393.\u001b[0m\n",
      "bagging, val_score: 0.347939:  30%|###9         | 3/10 [00:01<00:04,  1.54it/s]"
     ]
    },
    {
     "name": "stdout",
     "output_type": "stream",
     "text": [
      "Early stopping, best iteration is:\n",
      "[507]\ttrain's multi_logloss: 0.300214\teval's multi_logloss: 0.352389\n",
      "Training until validation scores don't improve for 100 rounds\n",
      "[100]\ttrain's multi_logloss: 0.39869\teval's multi_logloss: 0.404019\n",
      "[200]\ttrain's multi_logloss: 0.349865\teval's multi_logloss: 0.365916\n",
      "[300]\ttrain's multi_logloss: 0.329281\teval's multi_logloss: 0.353608\n",
      "[400]\ttrain's multi_logloss: 0.316291\teval's multi_logloss: 0.350154\n"
     ]
    },
    {
     "name": "stderr",
     "output_type": "stream",
     "text": [
      "bagging, val_score: 0.347045:  40%|#####2       | 4/10 [00:02<00:03,  1.61it/s]\u001b[32m[I 2021-06-13 10:15:16,427]\u001b[0m Trial 30 finished with value: 0.3470445266780342 and parameters: {'bagging_fraction': 0.4284577087137984, 'bagging_freq': 6}. Best is trial 30 with value: 0.3470445266780342.\u001b[0m\n",
      "bagging, val_score: 0.347045:  40%|#####2       | 4/10 [00:02<00:03,  1.61it/s]"
     ]
    },
    {
     "name": "stdout",
     "output_type": "stream",
     "text": [
      "[500]\ttrain's multi_logloss: 0.304495\teval's multi_logloss: 0.347727\n",
      "Early stopping, best iteration is:\n",
      "[474]\ttrain's multi_logloss: 0.307412\teval's multi_logloss: 0.347045\n",
      "Training until validation scores don't improve for 100 rounds\n",
      "[100]\ttrain's multi_logloss: 0.398303\teval's multi_logloss: 0.406057\n",
      "[200]\ttrain's multi_logloss: 0.350359\teval's multi_logloss: 0.36944\n",
      "[300]\ttrain's multi_logloss: 0.329975\teval's multi_logloss: 0.356005\n",
      "[400]\ttrain's multi_logloss: 0.31515\teval's multi_logloss: 0.352162\n",
      "[500]\ttrain's multi_logloss: 0.302214\teval's multi_logloss: 0.349222\n",
      "[600]\ttrain's multi_logloss: 0.29234\teval's multi_logloss: 0.350993\n",
      "Early stopping, best iteration is:\n",
      "[508]\ttrain's multi_logloss: 0.301018\teval's multi_logloss: 0.348775\n"
     ]
    },
    {
     "name": "stderr",
     "output_type": "stream",
     "text": [
      "bagging, val_score: 0.347045:  50%|######5      | 5/10 [00:03<00:03,  1.62it/s]\u001b[32m[I 2021-06-13 10:15:17,046]\u001b[0m Trial 31 finished with value: 0.34877516605577435 and parameters: {'bagging_fraction': 0.5327590260378402, 'bagging_freq': 5}. Best is trial 30 with value: 0.3470445266780342.\u001b[0m\n",
      "bagging, val_score: 0.347045:  50%|######5      | 5/10 [00:03<00:03,  1.62it/s]"
     ]
    },
    {
     "name": "stdout",
     "output_type": "stream",
     "text": [
      "Training until validation scores don't improve for 100 rounds\n",
      "[100]\ttrain's multi_logloss: 0.39707\teval's multi_logloss: 0.405592\n",
      "[200]\ttrain's multi_logloss: 0.34758\teval's multi_logloss: 0.363347\n",
      "[300]\ttrain's multi_logloss: 0.326441\teval's multi_logloss: 0.351742\n",
      "[400]\ttrain's multi_logloss: 0.312523\teval's multi_logloss: 0.34708\n",
      "[500]\ttrain's multi_logloss: 0.300167\teval's multi_logloss: 0.34864\n"
     ]
    },
    {
     "name": "stderr",
     "output_type": "stream",
     "text": [
      "bagging, val_score: 0.346741:  60%|#######8     | 6/10 [00:03<00:02,  1.61it/s]\u001b[32m[I 2021-06-13 10:15:17,666]\u001b[0m Trial 32 finished with value: 0.346741204271882 and parameters: {'bagging_fraction': 0.761841294847885, 'bagging_freq': 7}. Best is trial 32 with value: 0.346741204271882.\u001b[0m\n",
      "bagging, val_score: 0.346741:  60%|#######8     | 6/10 [00:03<00:02,  1.61it/s]"
     ]
    },
    {
     "name": "stdout",
     "output_type": "stream",
     "text": [
      "Early stopping, best iteration is:\n",
      "[434]\ttrain's multi_logloss: 0.308034\teval's multi_logloss: 0.346741\n",
      "Training until validation scores don't improve for 100 rounds\n",
      "[100]\ttrain's multi_logloss: 0.399175\teval's multi_logloss: 0.409841\n",
      "[200]\ttrain's multi_logloss: 0.350047\teval's multi_logloss: 0.367435\n",
      "[300]\ttrain's multi_logloss: 0.330581\teval's multi_logloss: 0.358362\n",
      "[400]\ttrain's multi_logloss: 0.316719\teval's multi_logloss: 0.357486\n"
     ]
    },
    {
     "name": "stderr",
     "output_type": "stream",
     "text": [
      "bagging, val_score: 0.346741:  70%|#########1   | 7/10 [00:04<00:01,  1.66it/s]\u001b[32m[I 2021-06-13 10:15:18,241]\u001b[0m Trial 33 finished with value: 0.3566922931927021 and parameters: {'bagging_fraction': 0.9915522325059614, 'bagging_freq': 7}. Best is trial 32 with value: 0.346741204271882.\u001b[0m\n",
      "bagging, val_score: 0.346741:  70%|#########1   | 7/10 [00:04<00:01,  1.66it/s]"
     ]
    },
    {
     "name": "stdout",
     "output_type": "stream",
     "text": [
      "[500]\ttrain's multi_logloss: 0.305044\teval's multi_logloss: 0.357244\n",
      "Early stopping, best iteration is:\n",
      "[440]\ttrain's multi_logloss: 0.31201\teval's multi_logloss: 0.356692\n",
      "Training until validation scores don't improve for 100 rounds\n",
      "[100]\ttrain's multi_logloss: 0.398029\teval's multi_logloss: 0.407933\n",
      "[200]\ttrain's multi_logloss: 0.349759\teval's multi_logloss: 0.36592\n",
      "[300]\ttrain's multi_logloss: 0.328697\teval's multi_logloss: 0.357529\n"
     ]
    },
    {
     "name": "stderr",
     "output_type": "stream",
     "text": [
      "bagging, val_score: 0.346741:  80%|##########4  | 8/10 [00:04<00:01,  1.70it/s]\u001b[32m[I 2021-06-13 10:15:18,786]\u001b[0m Trial 34 finished with value: 0.3532263604433961 and parameters: {'bagging_fraction': 0.911574114198222, 'bagging_freq': 6}. Best is trial 32 with value: 0.346741204271882.\u001b[0m\n",
      "bagging, val_score: 0.346741:  80%|##########4  | 8/10 [00:04<00:01,  1.70it/s]"
     ]
    },
    {
     "name": "stdout",
     "output_type": "stream",
     "text": [
      "[400]\ttrain's multi_logloss: 0.312995\teval's multi_logloss: 0.353851\n",
      "[500]\ttrain's multi_logloss: 0.301442\teval's multi_logloss: 0.354008\n",
      "Early stopping, best iteration is:\n",
      "[425]\ttrain's multi_logloss: 0.309498\teval's multi_logloss: 0.353226\n",
      "Training until validation scores don't improve for 100 rounds\n",
      "[100]\ttrain's multi_logloss: 0.398347\teval's multi_logloss: 0.406741\n",
      "[200]\ttrain's multi_logloss: 0.348769\teval's multi_logloss: 0.364895\n"
     ]
    },
    {
     "name": "stderr",
     "output_type": "stream",
     "text": [
      "bagging, val_score: 0.346741:  90%|###########7 | 9/10 [00:05<00:00,  1.80it/s]\u001b[32m[I 2021-06-13 10:15:19,280]\u001b[0m Trial 35 finished with value: 0.35155021754229127 and parameters: {'bagging_fraction': 0.8624169926468885, 'bagging_freq': 4}. Best is trial 32 with value: 0.346741204271882.\u001b[0m\n",
      "bagging, val_score: 0.346741:  90%|###########7 | 9/10 [00:05<00:00,  1.80it/s]"
     ]
    },
    {
     "name": "stdout",
     "output_type": "stream",
     "text": [
      "[300]\ttrain's multi_logloss: 0.327018\teval's multi_logloss: 0.354961\n",
      "[400]\ttrain's multi_logloss: 0.312753\teval's multi_logloss: 0.352288\n",
      "Early stopping, best iteration is:\n",
      "[352]\ttrain's multi_logloss: 0.319153\teval's multi_logloss: 0.35155\n",
      "Training until validation scores don't improve for 100 rounds\n",
      "[100]\ttrain's multi_logloss: 0.39789\teval's multi_logloss: 0.403262\n",
      "[200]\ttrain's multi_logloss: 0.349263\teval's multi_logloss: 0.36358\n",
      "[300]\ttrain's multi_logloss: 0.32731\teval's multi_logloss: 0.354239\n"
     ]
    },
    {
     "name": "stderr",
     "output_type": "stream",
     "text": [
      "bagging, val_score: 0.346741: 100%|############| 10/10 [00:05<00:00,  1.76it/s]\u001b[32m[I 2021-06-13 10:15:19,866]\u001b[0m Trial 36 finished with value: 0.3486282209867897 and parameters: {'bagging_fraction': 0.6104809990784263, 'bagging_freq': 4}. Best is trial 32 with value: 0.346741204271882.\u001b[0m\n",
      "bagging, val_score: 0.346741: 100%|############| 10/10 [00:05<00:00,  1.70it/s]\n",
      "feature_fraction_stage2, val_score: 0.346741:   0%|      | 0/3 [00:00<?, ?it/s]"
     ]
    },
    {
     "name": "stdout",
     "output_type": "stream",
     "text": [
      "[400]\ttrain's multi_logloss: 0.311702\teval's multi_logloss: 0.349386\n",
      "[500]\ttrain's multi_logloss: 0.300297\teval's multi_logloss: 0.349613\n",
      "Early stopping, best iteration is:\n",
      "[408]\ttrain's multi_logloss: 0.310461\teval's multi_logloss: 0.348628\n",
      "Training until validation scores don't improve for 100 rounds\n",
      "[100]\ttrain's multi_logloss: 0.39707\teval's multi_logloss: 0.405592\n",
      "[200]\ttrain's multi_logloss: 0.34758\teval's multi_logloss: 0.363347\n",
      "[300]\ttrain's multi_logloss: 0.326441\teval's multi_logloss: 0.351742\n"
     ]
    },
    {
     "name": "stderr",
     "output_type": "stream",
     "text": [
      "feature_fraction_stage2, val_score: 0.346741:  33%|3| 1/3 [00:00<00:01,  1.80it\u001b[32m[I 2021-06-13 10:15:20,439]\u001b[0m Trial 37 finished with value: 0.346741204271882 and parameters: {'feature_fraction': 0.9520000000000001}. Best is trial 37 with value: 0.346741204271882.\u001b[0m\n",
      "feature_fraction_stage2, val_score: 0.346741:  33%|3| 1/3 [00:00<00:01,  1.80it"
     ]
    },
    {
     "name": "stdout",
     "output_type": "stream",
     "text": [
      "[400]\ttrain's multi_logloss: 0.312523\teval's multi_logloss: 0.34708\n",
      "[500]\ttrain's multi_logloss: 0.300167\teval's multi_logloss: 0.34864\n",
      "Early stopping, best iteration is:\n",
      "[434]\ttrain's multi_logloss: 0.308034\teval's multi_logloss: 0.346741\n",
      "Training until validation scores don't improve for 100 rounds\n",
      "[100]\ttrain's multi_logloss: 0.401652\teval's multi_logloss: 0.409722\n",
      "[200]\ttrain's multi_logloss: 0.349936\teval's multi_logloss: 0.364466\n",
      "[300]\ttrain's multi_logloss: 0.32809\teval's multi_logloss: 0.35251\n"
     ]
    },
    {
     "name": "stderr",
     "output_type": "stream",
     "text": [
      "feature_fraction_stage2, val_score: 0.346741:  67%|6| 2/3 [00:01<00:00,  1.82it\u001b[32m[I 2021-06-13 10:15:20,983]\u001b[0m Trial 38 finished with value: 0.3478952874374904 and parameters: {'feature_fraction': 0.92}. Best is trial 37 with value: 0.346741204271882.\u001b[0m\n",
      "feature_fraction_stage2, val_score: 0.346741:  67%|6| 2/3 [00:01<00:00,  1.82it"
     ]
    },
    {
     "name": "stdout",
     "output_type": "stream",
     "text": [
      "[400]\ttrain's multi_logloss: 0.314023\teval's multi_logloss: 0.348112\n",
      "[500]\ttrain's multi_logloss: 0.301749\teval's multi_logloss: 0.349059\n",
      "Early stopping, best iteration is:\n",
      "[433]\ttrain's multi_logloss: 0.30969\teval's multi_logloss: 0.347895\n",
      "Training until validation scores don't improve for 100 rounds\n",
      "[100]\ttrain's multi_logloss: 0.39707\teval's multi_logloss: 0.405592\n",
      "[200]\ttrain's multi_logloss: 0.34758\teval's multi_logloss: 0.363347\n",
      "[300]\ttrain's multi_logloss: 0.326441\teval's multi_logloss: 0.351742\n",
      "[400]\ttrain's multi_logloss: 0.312523\teval's multi_logloss: 0.34708\n",
      "[500]\ttrain's multi_logloss: 0.300167\teval's multi_logloss: 0.34864\n"
     ]
    },
    {
     "name": "stderr",
     "output_type": "stream",
     "text": [
      "feature_fraction_stage2, val_score: 0.346741: 100%|#| 3/3 [00:01<00:00,  1.77it\u001b[32m[I 2021-06-13 10:15:21,571]\u001b[0m Trial 39 finished with value: 0.346741204271882 and parameters: {'feature_fraction': 0.9840000000000001}. Best is trial 37 with value: 0.346741204271882.\u001b[0m\n",
      "feature_fraction_stage2, val_score: 0.346741: 100%|#| 3/3 [00:01<00:00,  1.77it\n",
      "regularization_factors, val_score: 0.346741:   0%|      | 0/20 [00:00<?, ?it/s]"
     ]
    },
    {
     "name": "stdout",
     "output_type": "stream",
     "text": [
      "Early stopping, best iteration is:\n",
      "[434]\ttrain's multi_logloss: 0.308034\teval's multi_logloss: 0.346741\n",
      "Training until validation scores don't improve for 100 rounds\n",
      "[100]\ttrain's multi_logloss: 0.397287\teval's multi_logloss: 0.405916\n",
      "[200]\ttrain's multi_logloss: 0.347907\teval's multi_logloss: 0.36364\n",
      "[300]\ttrain's multi_logloss: 0.326839\teval's multi_logloss: 0.351943\n"
     ]
    },
    {
     "name": "stderr",
     "output_type": "stream",
     "text": [
      "regularization_factors, val_score: 0.346741:   5%| | 1/20 [00:00<00:11,  1.59it\u001b[32m[I 2021-06-13 10:15:22,215]\u001b[0m Trial 40 finished with value: 0.3468357867359493 and parameters: {'lambda_l1': 0.04291623952572216, 'lambda_l2': 0.0068477865805303345}. Best is trial 40 with value: 0.3468357867359493.\u001b[0m\n",
      "regularization_factors, val_score: 0.346741:   5%| | 1/20 [00:00<00:11,  1.59it"
     ]
    },
    {
     "name": "stdout",
     "output_type": "stream",
     "text": [
      "[400]\ttrain's multi_logloss: 0.312949\teval's multi_logloss: 0.347189\n",
      "[500]\ttrain's multi_logloss: 0.300747\teval's multi_logloss: 0.349201\n",
      "Early stopping, best iteration is:\n",
      "[434]\ttrain's multi_logloss: 0.30851\teval's multi_logloss: 0.346836\n",
      "Training until validation scores don't improve for 100 rounds\n",
      "[100]\ttrain's multi_logloss: 0.397185\teval's multi_logloss: 0.405833\n",
      "[200]\ttrain's multi_logloss: 0.347743\teval's multi_logloss: 0.363618\n",
      "[300]\ttrain's multi_logloss: 0.326612\teval's multi_logloss: 0.352052\n",
      "[400]\ttrain's multi_logloss: 0.312633\teval's multi_logloss: 0.347143\n"
     ]
    },
    {
     "name": "stderr",
     "output_type": "stream",
     "text": [
      "regularization_factors, val_score: 0.346741:  10%|1| 2/20 [00:01<00:10,  1.72it\u001b[32m[I 2021-06-13 10:15:22,759]\u001b[0m Trial 41 finished with value: 0.3470449986683489 and parameters: {'lambda_l1': 0.022547212989737626, 'lambda_l2': 0.00106019632413842}. Best is trial 40 with value: 0.3468357867359493.\u001b[0m\n",
      "regularization_factors, val_score: 0.346741:  10%|1| 2/20 [00:01<00:10,  1.72it"
     ]
    },
    {
     "name": "stdout",
     "output_type": "stream",
     "text": [
      "[500]\ttrain's multi_logloss: 0.300275\teval's multi_logloss: 0.348275\n",
      "Early stopping, best iteration is:\n",
      "[406]\ttrain's multi_logloss: 0.3119\teval's multi_logloss: 0.347045\n",
      "Training until validation scores don't improve for 100 rounds\n",
      "[100]\ttrain's multi_logloss: 0.398035\teval's multi_logloss: 0.405996\n",
      "[200]\ttrain's multi_logloss: 0.349127\teval's multi_logloss: 0.363757\n",
      "[300]\ttrain's multi_logloss: 0.328652\teval's multi_logloss: 0.351624\n",
      "[400]\ttrain's multi_logloss: 0.31476\teval's multi_logloss: 0.34732\n"
     ]
    },
    {
     "name": "stderr",
     "output_type": "stream",
     "text": [
      "regularization_factors, val_score: 0.346741:  15%|1| 3/20 [00:01<00:09,  1.71it\u001b[32m[I 2021-06-13 10:15:23,352]\u001b[0m Trial 42 finished with value: 0.3470789900788527 and parameters: {'lambda_l1': 0.2559397057774712, 'lambda_l2': 0.0021286017079160885}. Best is trial 40 with value: 0.3468357867359493.\u001b[0m\n",
      "regularization_factors, val_score: 0.346741:  15%|1| 3/20 [00:01<00:09,  1.71it"
     ]
    },
    {
     "name": "stdout",
     "output_type": "stream",
     "text": [
      "[500]\ttrain's multi_logloss: 0.302459\teval's multi_logloss: 0.34893\n",
      "Early stopping, best iteration is:\n",
      "[448]\ttrain's multi_logloss: 0.308511\teval's multi_logloss: 0.347079\n",
      "Training until validation scores don't improve for 100 rounds\n",
      "[100]\ttrain's multi_logloss: 0.397226\teval's multi_logloss: 0.405871\n",
      "[200]\ttrain's multi_logloss: 0.347806\teval's multi_logloss: 0.363694\n",
      "[300]\ttrain's multi_logloss: 0.326693\teval's multi_logloss: 0.352132\n",
      "[400]\ttrain's multi_logloss: 0.312828\teval's multi_logloss: 0.347302\n",
      "[500]\ttrain's multi_logloss: 0.300328\teval's multi_logloss: 0.348904\n"
     ]
    },
    {
     "name": "stderr",
     "output_type": "stream",
     "text": [
      "regularization_factors, val_score: 0.346741:  20%|2| 4/20 [00:02<00:09,  1.64it\u001b[32m[I 2021-06-13 10:15:24,001]\u001b[0m Trial 43 finished with value: 0.34710881376015834 and parameters: {'lambda_l1': 0.004657824812502885, 'lambda_l2': 0.023865877298048163}. Best is trial 40 with value: 0.3468357867359493.\u001b[0m\n",
      "regularization_factors, val_score: 0.346741:  20%|2| 4/20 [00:02<00:09,  1.64it"
     ]
    },
    {
     "name": "stdout",
     "output_type": "stream",
     "text": [
      "Early stopping, best iteration is:\n",
      "[434]\ttrain's multi_logloss: 0.308344\teval's multi_logloss: 0.347109\n",
      "Training until validation scores don't improve for 100 rounds\n",
      "[100]\ttrain's multi_logloss: 0.397072\teval's multi_logloss: 0.405594\n",
      "[200]\ttrain's multi_logloss: 0.347582\teval's multi_logloss: 0.363348\n",
      "[300]\ttrain's multi_logloss: 0.326445\teval's multi_logloss: 0.351743\n",
      "[400]\ttrain's multi_logloss: 0.312527\teval's multi_logloss: 0.347081\n"
     ]
    },
    {
     "name": "stderr",
     "output_type": "stream",
     "text": [
      "regularization_factors, val_score: 0.346741:  25%|2| 5/20 [00:02<00:08,  1.67it\u001b[32m[I 2021-06-13 10:15:24,576]\u001b[0m Trial 44 finished with value: 0.3467410824600266 and parameters: {'lambda_l1': 1.1034820675692324e-07, 'lambda_l2': 0.0005747385720349973}. Best is trial 44 with value: 0.3467410824600266.\u001b[0m\n",
      "regularization_factors, val_score: 0.346741:  25%|2| 5/20 [00:02<00:08,  1.67it"
     ]
    },
    {
     "name": "stdout",
     "output_type": "stream",
     "text": [
      "[500]\ttrain's multi_logloss: 0.300173\teval's multi_logloss: 0.348639\n",
      "Early stopping, best iteration is:\n",
      "[434]\ttrain's multi_logloss: 0.308038\teval's multi_logloss: 0.346741\n",
      "Training until validation scores don't improve for 100 rounds\n",
      "[100]\ttrain's multi_logloss: 0.39707\teval's multi_logloss: 0.405592\n",
      "[200]\ttrain's multi_logloss: 0.347581\teval's multi_logloss: 0.363348\n",
      "[300]\ttrain's multi_logloss: 0.326442\teval's multi_logloss: 0.351742\n"
     ]
    },
    {
     "name": "stderr",
     "output_type": "stream",
     "text": [
      "regularization_factors, val_score: 0.346741:  30%|3| 6/20 [00:03<00:08,  1.69it\u001b[32m[I 2021-06-13 10:15:25,151]\u001b[0m Trial 45 finished with value: 0.346741126520448 and parameters: {'lambda_l1': 0.0001057890954361661, 'lambda_l2': 1.9106367590923478e-06}. Best is trial 44 with value: 0.3467410824600266.\u001b[0m\n",
      "regularization_factors, val_score: 0.346741:  30%|3| 6/20 [00:03<00:08,  1.69it"
     ]
    },
    {
     "name": "stdout",
     "output_type": "stream",
     "text": [
      "[400]\ttrain's multi_logloss: 0.312524\teval's multi_logloss: 0.34708\n",
      "[500]\ttrain's multi_logloss: 0.300168\teval's multi_logloss: 0.34864\n",
      "Early stopping, best iteration is:\n",
      "[434]\ttrain's multi_logloss: 0.308035\teval's multi_logloss: 0.346741\n",
      "Training until validation scores don't improve for 100 rounds\n",
      "[100]\ttrain's multi_logloss: 0.39707\teval's multi_logloss: 0.405592\n",
      "[200]\ttrain's multi_logloss: 0.34758\teval's multi_logloss: 0.363347\n",
      "[300]\ttrain's multi_logloss: 0.326441\teval's multi_logloss: 0.351742\n",
      "[400]\ttrain's multi_logloss: 0.312523\teval's multi_logloss: 0.34708\n"
     ]
    },
    {
     "name": "stderr",
     "output_type": "stream",
     "text": [
      "regularization_factors, val_score: 0.346741:  35%|3| 7/20 [00:04<00:07,  1.64it\u001b[32m[I 2021-06-13 10:15:25,798]\u001b[0m Trial 46 finished with value: 0.34674120423926363 and parameters: {'lambda_l1': 5.877199106571962e-07, 'lambda_l2': 1.701726840340936e-07}. Best is trial 44 with value: 0.3467410824600266.\u001b[0m\n",
      "regularization_factors, val_score: 0.346741:  35%|3| 7/20 [00:04<00:07,  1.64it"
     ]
    },
    {
     "name": "stdout",
     "output_type": "stream",
     "text": [
      "[500]\ttrain's multi_logloss: 0.300167\teval's multi_logloss: 0.34864\n",
      "Early stopping, best iteration is:\n",
      "[434]\ttrain's multi_logloss: 0.308034\teval's multi_logloss: 0.346741\n",
      "Training until validation scores don't improve for 100 rounds\n",
      "[100]\ttrain's multi_logloss: 0.406795\teval's multi_logloss: 0.412607\n",
      "[200]\ttrain's multi_logloss: 0.357289\teval's multi_logloss: 0.368503\n",
      "[300]\ttrain's multi_logloss: 0.337493\teval's multi_logloss: 0.354059\n",
      "[400]\ttrain's multi_logloss: 0.324867\teval's multi_logloss: 0.347258\n",
      "[500]\ttrain's multi_logloss: 0.314686\teval's multi_logloss: 0.346632\n",
      "[600]\ttrain's multi_logloss: 0.306561\teval's multi_logloss: 0.344926\n",
      "Early stopping, best iteration is:\n",
      "[595]\ttrain's multi_logloss: 0.30691\teval's multi_logloss: 0.344835\n"
     ]
    },
    {
     "name": "stderr",
     "output_type": "stream",
     "text": [
      "regularization_factors, val_score: 0.344835:  40%|4| 8/20 [00:04<00:07,  1.52it\u001b[32m[I 2021-06-13 10:15:26,554]\u001b[0m Trial 47 finished with value: 0.3448350894850997 and parameters: {'lambda_l1': 0.021792338318697917, 'lambda_l2': 3.1560254907341636}. Best is trial 47 with value: 0.3448350894850997.\u001b[0m\n",
      "regularization_factors, val_score: 0.344835:  40%|4| 8/20 [00:04<00:07,  1.52it"
     ]
    },
    {
     "name": "stdout",
     "output_type": "stream",
     "text": [
      "Training until validation scores don't improve for 100 rounds\n",
      "[100]\ttrain's multi_logloss: 0.402531\teval's multi_logloss: 0.409759\n",
      "[200]\ttrain's multi_logloss: 0.355606\teval's multi_logloss: 0.367472\n",
      "[300]\ttrain's multi_logloss: 0.33585\teval's multi_logloss: 0.354007\n",
      "[400]\ttrain's multi_logloss: 0.32327\teval's multi_logloss: 0.347504\n",
      "[500]\ttrain's multi_logloss: 0.313279\teval's multi_logloss: 0.346247\n"
     ]
    },
    {
     "name": "stderr",
     "output_type": "stream",
     "text": [
      "regularization_factors, val_score: 0.344589:  45%|4| 9/20 [00:05<00:07,  1.44it\u001b[32m[I 2021-06-13 10:15:27,337]\u001b[0m Trial 48 finished with value: 0.34458858062392445 and parameters: {'lambda_l1': 1.3731204678926032, 'lambda_l2': 0.0006654451172712952}. Best is trial 48 with value: 0.34458858062392445.\u001b[0m\n",
      "regularization_factors, val_score: 0.344589:  45%|4| 9/20 [00:05<00:07,  1.44it"
     ]
    },
    {
     "name": "stdout",
     "output_type": "stream",
     "text": [
      "[600]\ttrain's multi_logloss: 0.306111\teval's multi_logloss: 0.344617\n",
      "[700]\ttrain's multi_logloss: 0.299144\teval's multi_logloss: 0.34573\n",
      "Early stopping, best iteration is:\n",
      "[602]\ttrain's multi_logloss: 0.305989\teval's multi_logloss: 0.344589\n",
      "Training until validation scores don't improve for 100 rounds\n",
      "[100]\ttrain's multi_logloss: 0.397778\teval's multi_logloss: 0.40602\n",
      "[200]\ttrain's multi_logloss: 0.348634\teval's multi_logloss: 0.363932\n",
      "[300]\ttrain's multi_logloss: 0.327807\teval's multi_logloss: 0.351934\n",
      "[400]\ttrain's multi_logloss: 0.31398\teval's multi_logloss: 0.3473\n"
     ]
    },
    {
     "name": "stderr",
     "output_type": "stream",
     "text": [
      "regularization_factors, val_score: 0.344589:  50%|5| 10/20 [00:06<00:06,  1.47i\u001b[32m[I 2021-06-13 10:15:27,986]\u001b[0m Trial 49 finished with value: 0.3470371105775149 and parameters: {'lambda_l1': 2.034631163029814e-05, 'lambda_l2': 0.20665186089780124}. Best is trial 48 with value: 0.34458858062392445.\u001b[0m\n",
      "regularization_factors, val_score: 0.344589:  50%|5| 10/20 [00:06<00:06,  1.47i"
     ]
    },
    {
     "name": "stdout",
     "output_type": "stream",
     "text": [
      "[500]\ttrain's multi_logloss: 0.301851\teval's multi_logloss: 0.349539\n",
      "Early stopping, best iteration is:\n",
      "[434]\ttrain's multi_logloss: 0.309457\teval's multi_logloss: 0.347037\n",
      "Training until validation scores don't improve for 100 rounds\n",
      "[100]\ttrain's multi_logloss: 0.42956\teval's multi_logloss: 0.433776\n",
      "[200]\ttrain's multi_logloss: 0.387864\teval's multi_logloss: 0.392391\n",
      "[300]\ttrain's multi_logloss: 0.372956\teval's multi_logloss: 0.377628\n",
      "[400]\ttrain's multi_logloss: 0.365458\teval's multi_logloss: 0.371105\n",
      "[500]\ttrain's multi_logloss: 0.361264\teval's multi_logloss: 0.368225\n",
      "[600]\ttrain's multi_logloss: 0.358532\teval's multi_logloss: 0.36616\n",
      "[700]\ttrain's multi_logloss: 0.356836\teval's multi_logloss: 0.365038\n",
      "[800]\ttrain's multi_logloss: 0.355343\teval's multi_logloss: 0.364067\n",
      "[900]\ttrain's multi_logloss: 0.354276\teval's multi_logloss: 0.363172\n",
      "[1000]\ttrain's multi_logloss: 0.353275\teval's multi_logloss: 0.362496\n",
      "Did not meet early stopping. Best iteration is:\n",
      "[1000]\ttrain's multi_logloss: 0.353275\teval's multi_logloss: 0.362496\n"
     ]
    },
    {
     "name": "stderr",
     "output_type": "stream",
     "text": [
      "regularization_factors, val_score: 0.344589:  55%|5| 11/20 [00:07<00:06,  1.29i\u001b[32m[I 2021-06-13 10:15:28,974]\u001b[0m Trial 50 finished with value: 0.36249610464150644 and parameters: {'lambda_l1': 8.745111408197754, 'lambda_l2': 5.193925020621706e-06}. Best is trial 48 with value: 0.34458858062392445.\u001b[0m\n",
      "regularization_factors, val_score: 0.344589:  55%|5| 11/20 [00:07<00:06,  1.29i"
     ]
    },
    {
     "name": "stdout",
     "output_type": "stream",
     "text": [
      "Training until validation scores don't improve for 100 rounds\n",
      "[100]\ttrain's multi_logloss: 0.429228\teval's multi_logloss: 0.433951\n",
      "[200]\ttrain's multi_logloss: 0.384286\teval's multi_logloss: 0.389891\n",
      "[300]\ttrain's multi_logloss: 0.367155\teval's multi_logloss: 0.373454\n",
      "[400]\ttrain's multi_logloss: 0.358049\teval's multi_logloss: 0.366057\n",
      "[500]\ttrain's multi_logloss: 0.35159\teval's multi_logloss: 0.361828\n",
      "[600]\ttrain's multi_logloss: 0.347912\teval's multi_logloss: 0.359184\n",
      "[700]\ttrain's multi_logloss: 0.34523\teval's multi_logloss: 0.357863\n",
      "[800]\ttrain's multi_logloss: 0.342861\teval's multi_logloss: 0.356758\n",
      "[900]\ttrain's multi_logloss: 0.341343\teval's multi_logloss: 0.355621\n"
     ]
    },
    {
     "name": "stderr",
     "output_type": "stream",
     "text": [
      "regularization_factors, val_score: 0.344589:  60%|6| 12/20 [00:08<00:07,  1.13i\u001b[32m[I 2021-06-13 10:15:30,125]\u001b[0m Trial 51 finished with value: 0.3548250823493906 and parameters: {'lambda_l1': 6.263743297194861, 'lambda_l2': 3.525256198837367}. Best is trial 48 with value: 0.34458858062392445.\u001b[0m\n",
      "regularization_factors, val_score: 0.344589:  60%|6| 12/20 [00:08<00:07,  1.13i"
     ]
    },
    {
     "name": "stdout",
     "output_type": "stream",
     "text": [
      "[1000]\ttrain's multi_logloss: 0.339746\teval's multi_logloss: 0.354825\n",
      "Did not meet early stopping. Best iteration is:\n",
      "[1000]\ttrain's multi_logloss: 0.339746\teval's multi_logloss: 0.354825\n",
      "Training until validation scores don't improve for 100 rounds\n",
      "[100]\ttrain's multi_logloss: 0.419993\teval's multi_logloss: 0.425797\n",
      "[200]\ttrain's multi_logloss: 0.370721\teval's multi_logloss: 0.379275\n",
      "[300]\ttrain's multi_logloss: 0.350618\teval's multi_logloss: 0.362921\n",
      "[400]\ttrain's multi_logloss: 0.339535\teval's multi_logloss: 0.355389\n",
      "[500]\ttrain's multi_logloss: 0.331645\teval's multi_logloss: 0.351437\n",
      "[600]\ttrain's multi_logloss: 0.32533\teval's multi_logloss: 0.348315\n",
      "[700]\ttrain's multi_logloss: 0.319803\teval's multi_logloss: 0.34753\n",
      "[800]\ttrain's multi_logloss: 0.314907\teval's multi_logloss: 0.347403\n",
      "[900]\ttrain's multi_logloss: 0.31082\teval's multi_logloss: 0.346174\n",
      "[1000]\ttrain's multi_logloss: 0.307055\teval's multi_logloss: 0.345679\n",
      "Did not meet early stopping. Best iteration is:\n",
      "[1000]\ttrain's multi_logloss: 0.307055\teval's multi_logloss: 0.345679\n"
     ]
    },
    {
     "name": "stderr",
     "output_type": "stream",
     "text": [
      "regularization_factors, val_score: 0.344589:  65%|6| 13/20 [00:09<00:06,  1.02i\u001b[32m[I 2021-06-13 10:15:31,316]\u001b[0m Trial 52 finished with value: 0.3456786050625382 and parameters: {'lambda_l1': 1.6951433430828, 'lambda_l2': 5.850681208066334}. Best is trial 48 with value: 0.34458858062392445.\u001b[0m\n",
      "regularization_factors, val_score: 0.344589:  65%|6| 13/20 [00:09<00:06,  1.02i"
     ]
    },
    {
     "name": "stdout",
     "output_type": "stream",
     "text": [
      "Training until validation scores don't improve for 100 rounds\n",
      "[100]\ttrain's multi_logloss: 0.397048\teval's multi_logloss: 0.405527\n",
      "[200]\ttrain's multi_logloss: 0.347509\teval's multi_logloss: 0.363243\n",
      "[300]\ttrain's multi_logloss: 0.326404\teval's multi_logloss: 0.35182\n"
     ]
    },
    {
     "name": "stderr",
     "output_type": "stream",
     "text": [
      "regularization_factors, val_score: 0.344589:  70%|7| 14/20 [00:10<00:05,  1.13i\u001b[32m[I 2021-06-13 10:15:31,981]\u001b[0m Trial 53 finished with value: 0.3468147897965661 and parameters: {'lambda_l1': 0.00138456156158792, 'lambda_l2': 1.0852298166549346e-08}. Best is trial 48 with value: 0.34458858062392445.\u001b[0m\n",
      "regularization_factors, val_score: 0.344589:  70%|7| 14/20 [00:10<00:05,  1.13i"
     ]
    },
    {
     "name": "stdout",
     "output_type": "stream",
     "text": [
      "[400]\ttrain's multi_logloss: 0.312441\teval's multi_logloss: 0.347105\n",
      "[500]\ttrain's multi_logloss: 0.300015\teval's multi_logloss: 0.348539\n",
      "Early stopping, best iteration is:\n",
      "[434]\ttrain's multi_logloss: 0.30792\teval's multi_logloss: 0.346815\n",
      "Training until validation scores don't improve for 100 rounds\n",
      "[100]\ttrain's multi_logloss: 0.398704\teval's multi_logloss: 0.406357\n",
      "[200]\ttrain's multi_logloss: 0.350078\teval's multi_logloss: 0.364215\n",
      "[300]\ttrain's multi_logloss: 0.329955\teval's multi_logloss: 0.350967\n",
      "[400]\ttrain's multi_logloss: 0.316344\teval's multi_logloss: 0.346193\n",
      "[500]\ttrain's multi_logloss: 0.304493\teval's multi_logloss: 0.346883\n"
     ]
    },
    {
     "name": "stderr",
     "output_type": "stream",
     "text": [
      "regularization_factors, val_score: 0.344589:  75%|7| 15/20 [00:10<00:03,  1.25i\u001b[32m[I 2021-06-13 10:15:32,583]\u001b[0m Trial 54 finished with value: 0.3460217607326105 and parameters: {'lambda_l1': 0.43628418195677254, 'lambda_l2': 3.095291269890277e-05}. Best is trial 48 with value: 0.34458858062392445.\u001b[0m\n",
      "regularization_factors, val_score: 0.344589:  75%|7| 15/20 [00:11<00:03,  1.25i"
     ]
    },
    {
     "name": "stdout",
     "output_type": "stream",
     "text": [
      "Early stopping, best iteration is:\n",
      "[433]\ttrain's multi_logloss: 0.312163\teval's multi_logloss: 0.346022\n",
      "Training until validation scores don't improve for 100 rounds\n",
      "[100]\ttrain's multi_logloss: 0.397816\teval's multi_logloss: 0.406204\n",
      "[200]\ttrain's multi_logloss: 0.348656\teval's multi_logloss: 0.363917\n",
      "[300]\ttrain's multi_logloss: 0.327893\teval's multi_logloss: 0.351948\n",
      "[400]\ttrain's multi_logloss: 0.313969\teval's multi_logloss: 0.347161\n"
     ]
    },
    {
     "name": "stderr",
     "output_type": "stream",
     "text": [
      "regularization_factors, val_score: 0.344589:  80%|8| 16/20 [00:11<00:02,  1.35i\u001b[32m[I 2021-06-13 10:15:33,190]\u001b[0m Trial 55 finished with value: 0.34688356528639175 and parameters: {'lambda_l1': 0.08273033122161591, 'lambda_l2': 0.12281715115683405}. Best is trial 48 with value: 0.34458858062392445.\u001b[0m\n",
      "regularization_factors, val_score: 0.344589:  80%|8| 16/20 [00:11<00:02,  1.35i"
     ]
    },
    {
     "name": "stdout",
     "output_type": "stream",
     "text": [
      "[500]\ttrain's multi_logloss: 0.301905\teval's multi_logloss: 0.349178\n",
      "Early stopping, best iteration is:\n",
      "[434]\ttrain's multi_logloss: 0.309465\teval's multi_logloss: 0.346884\n",
      "Training until validation scores don't improve for 100 rounds\n",
      "[100]\ttrain's multi_logloss: 0.399298\teval's multi_logloss: 0.40796\n",
      "[200]\ttrain's multi_logloss: 0.35028\teval's multi_logloss: 0.365178\n",
      "[300]\ttrain's multi_logloss: 0.330166\teval's multi_logloss: 0.352007\n",
      "[400]\ttrain's multi_logloss: 0.316386\teval's multi_logloss: 0.347169\n"
     ]
    },
    {
     "name": "stderr",
     "output_type": "stream",
     "text": [
      "regularization_factors, val_score: 0.344589:  85%|8| 17/20 [00:12<00:02,  1.39i\u001b[32m[I 2021-06-13 10:15:33,857]\u001b[0m Trial 56 finished with value: 0.3470165665909421 and parameters: {'lambda_l1': 0.0005391187555687893, 'lambda_l2': 0.6840557926874887}. Best is trial 48 with value: 0.34458858062392445.\u001b[0m\n",
      "regularization_factors, val_score: 0.344589:  85%|8| 17/20 [00:12<00:02,  1.39i"
     ]
    },
    {
     "name": "stdout",
     "output_type": "stream",
     "text": [
      "[500]\ttrain's multi_logloss: 0.304797\teval's multi_logloss: 0.348781\n",
      "Early stopping, best iteration is:\n",
      "[434]\ttrain's multi_logloss: 0.312084\teval's multi_logloss: 0.347017\n",
      "Training until validation scores don't improve for 100 rounds\n",
      "[100]\ttrain's multi_logloss: 0.397107\teval's multi_logloss: 0.405701\n",
      "[200]\ttrain's multi_logloss: 0.347695\teval's multi_logloss: 0.36345\n",
      "[300]\ttrain's multi_logloss: 0.326491\teval's multi_logloss: 0.351939\n"
     ]
    },
    {
     "name": "stderr",
     "output_type": "stream",
     "text": [
      "regularization_factors, val_score: 0.344589:  90%|9| 18/20 [00:12<00:01,  1.47i\u001b[32m[I 2021-06-13 10:15:34,452]\u001b[0m Trial 57 finished with value: 0.3464412688788878 and parameters: {'lambda_l1': 0.008809851232927159, 'lambda_l2': 8.420302632829133e-05}. Best is trial 48 with value: 0.34458858062392445.\u001b[0m\n",
      "regularization_factors, val_score: 0.344589:  90%|9| 18/20 [00:12<00:01,  1.47i"
     ]
    },
    {
     "name": "stdout",
     "output_type": "stream",
     "text": [
      "[400]\ttrain's multi_logloss: 0.31263\teval's multi_logloss: 0.347043\n",
      "[500]\ttrain's multi_logloss: 0.300381\teval's multi_logloss: 0.348506\n",
      "Early stopping, best iteration is:\n",
      "[434]\ttrain's multi_logloss: 0.308159\teval's multi_logloss: 0.346441\n",
      "Training until validation scores don't improve for 100 rounds\n",
      "[100]\ttrain's multi_logloss: 0.401988\teval's multi_logloss: 0.409286\n",
      "[200]\ttrain's multi_logloss: 0.354817\teval's multi_logloss: 0.366896\n",
      "[300]\ttrain's multi_logloss: 0.334819\teval's multi_logloss: 0.353455\n",
      "[400]\ttrain's multi_logloss: 0.322087\teval's multi_logloss: 0.347237\n",
      "[500]\ttrain's multi_logloss: 0.311811\teval's multi_logloss: 0.346362\n"
     ]
    },
    {
     "name": "stderr",
     "output_type": "stream",
     "text": [
      "regularization_factors, val_score: 0.344589:  95%|9| 19/20 [00:13<00:00,  1.41i\u001b[32m[I 2021-06-13 10:15:35,218]\u001b[0m Trial 58 finished with value: 0.3450262832900507 and parameters: {'lambda_l1': 1.2236632000944867, 'lambda_l2': 1.3788580365883686e-08}. Best is trial 48 with value: 0.34458858062392445.\u001b[0m\n",
      "regularization_factors, val_score: 0.344589:  95%|9| 19/20 [00:13<00:00,  1.41i"
     ]
    },
    {
     "name": "stdout",
     "output_type": "stream",
     "text": [
      "[600]\ttrain's multi_logloss: 0.304364\teval's multi_logloss: 0.345046\n",
      "[700]\ttrain's multi_logloss: 0.297344\teval's multi_logloss: 0.346318\n",
      "Early stopping, best iteration is:\n",
      "[602]\ttrain's multi_logloss: 0.304242\teval's multi_logloss: 0.345026\n",
      "Training until validation scores don't improve for 100 rounds\n",
      "[100]\ttrain's multi_logloss: 0.397217\teval's multi_logloss: 0.405863\n",
      "[200]\ttrain's multi_logloss: 0.347789\teval's multi_logloss: 0.363692\n",
      "[300]\ttrain's multi_logloss: 0.326701\teval's multi_logloss: 0.352036\n",
      "[400]\ttrain's multi_logloss: 0.312762\teval's multi_logloss: 0.347148\n"
     ]
    },
    {
     "name": "stderr",
     "output_type": "stream",
     "text": [
      "regularization_factors, val_score: 0.344589: 100%|#| 20/20 [00:14<00:00,  1.42i\u001b[32m[I 2021-06-13 10:15:35,905]\u001b[0m Trial 59 finished with value: 0.3469235869806289 and parameters: {'lambda_l1': 2.6347162459390233e-05, 'lambda_l2': 0.025892992263893872}. Best is trial 48 with value: 0.34458858062392445.\u001b[0m\n",
      "regularization_factors, val_score: 0.344589: 100%|#| 20/20 [00:14<00:00,  1.40i\n",
      "min_data_in_leaf, val_score: 0.344589:   0%|             | 0/5 [00:00<?, ?it/s]"
     ]
    },
    {
     "name": "stdout",
     "output_type": "stream",
     "text": [
      "[500]\ttrain's multi_logloss: 0.300351\teval's multi_logloss: 0.348844\n",
      "Early stopping, best iteration is:\n",
      "[434]\ttrain's multi_logloss: 0.308276\teval's multi_logloss: 0.346924\n",
      "Training until validation scores don't improve for 100 rounds\n",
      "[100]\ttrain's multi_logloss: 0.408051\teval's multi_logloss: 0.414743\n",
      "[200]\ttrain's multi_logloss: 0.363265\teval's multi_logloss: 0.373648\n",
      "[300]\ttrain's multi_logloss: 0.343568\teval's multi_logloss: 0.359239\n",
      "[400]\ttrain's multi_logloss: 0.33148\teval's multi_logloss: 0.353316\n",
      "[500]\ttrain's multi_logloss: 0.321958\teval's multi_logloss: 0.351126\n",
      "[600]\ttrain's multi_logloss: 0.314667\teval's multi_logloss: 0.34847\n"
     ]
    },
    {
     "name": "stderr",
     "output_type": "stream",
     "text": [
      "min_data_in_leaf, val_score: 0.344589:  20%|#    | 1/5 [00:00<00:03,  1.32it/s]\u001b[32m[I 2021-06-13 10:15:36,673]\u001b[0m Trial 60 finished with value: 0.34846133034909543 and parameters: {'min_child_samples': 50}. Best is trial 60 with value: 0.34846133034909543.\u001b[0m\n",
      "min_data_in_leaf, val_score: 0.344589:  20%|#    | 1/5 [00:00<00:03,  1.32it/s]"
     ]
    },
    {
     "name": "stdout",
     "output_type": "stream",
     "text": [
      "[700]\ttrain's multi_logloss: 0.307757\teval's multi_logloss: 0.348947\n",
      "Early stopping, best iteration is:\n",
      "[601]\ttrain's multi_logloss: 0.31461\teval's multi_logloss: 0.348461\n",
      "Training until validation scores don't improve for 100 rounds\n",
      "[100]\ttrain's multi_logloss: 0.40362\teval's multi_logloss: 0.409967\n",
      "[200]\ttrain's multi_logloss: 0.357218\teval's multi_logloss: 0.367756\n",
      "[300]\ttrain's multi_logloss: 0.337761\teval's multi_logloss: 0.354267\n",
      "[400]\ttrain's multi_logloss: 0.325814\teval's multi_logloss: 0.348132\n",
      "[500]\ttrain's multi_logloss: 0.315743\teval's multi_logloss: 0.347562\n",
      "[600]\ttrain's multi_logloss: 0.308543\teval's multi_logloss: 0.344961\n",
      "[700]\ttrain's multi_logloss: 0.301559\teval's multi_logloss: 0.345976\n",
      "Early stopping, best iteration is:\n",
      "[602]\ttrain's multi_logloss: 0.308419\teval's multi_logloss: 0.344934\n"
     ]
    },
    {
     "name": "stderr",
     "output_type": "stream",
     "text": [
      "min_data_in_leaf, val_score: 0.344589:  40%|##   | 2/5 [00:01<00:02,  1.32it/s]\u001b[32m[I 2021-06-13 10:15:37,437]\u001b[0m Trial 61 finished with value: 0.34493390433764665 and parameters: {'min_child_samples': 25}. Best is trial 61 with value: 0.34493390433764665.\u001b[0m\n",
      "min_data_in_leaf, val_score: 0.344589:  40%|##   | 2/5 [00:01<00:02,  1.32it/s]"
     ]
    },
    {
     "name": "stdout",
     "output_type": "stream",
     "text": [
      "Training until validation scores don't improve for 100 rounds\n",
      "[100]\ttrain's multi_logloss: 0.401069\teval's multi_logloss: 0.409044\n",
      "[200]\ttrain's multi_logloss: 0.353761\teval's multi_logloss: 0.366014\n",
      "[300]\ttrain's multi_logloss: 0.334532\teval's multi_logloss: 0.35221\n",
      "[400]\ttrain's multi_logloss: 0.3221\teval's multi_logloss: 0.346052\n",
      "[500]\ttrain's multi_logloss: 0.311947\teval's multi_logloss: 0.344761\n",
      "[600]\ttrain's multi_logloss: 0.304446\teval's multi_logloss: 0.342958\n",
      "Early stopping, best iteration is:\n",
      "[595]\ttrain's multi_logloss: 0.304691\teval's multi_logloss: 0.342815\n"
     ]
    },
    {
     "name": "stderr",
     "output_type": "stream",
     "text": [
      "min_data_in_leaf, val_score: 0.342815:  60%|###  | 3/5 [00:02<00:01,  1.25it/s]\u001b[32m[I 2021-06-13 10:15:38,286]\u001b[0m Trial 62 finished with value: 0.34281497855835213 and parameters: {'min_child_samples': 5}. Best is trial 62 with value: 0.34281497855835213.\u001b[0m\n",
      "min_data_in_leaf, val_score: 0.342815:  60%|###  | 3/5 [00:02<00:01,  1.25it/s]"
     ]
    },
    {
     "name": "stdout",
     "output_type": "stream",
     "text": [
      "Training until validation scores don't improve for 100 rounds\n",
      "[100]\ttrain's multi_logloss: 0.428252\teval's multi_logloss: 0.429083\n",
      "[200]\ttrain's multi_logloss: 0.379874\teval's multi_logloss: 0.383622\n",
      "[300]\ttrain's multi_logloss: 0.355717\teval's multi_logloss: 0.366528\n",
      "[400]\ttrain's multi_logloss: 0.341498\teval's multi_logloss: 0.358796\n",
      "[500]\ttrain's multi_logloss: 0.332359\teval's multi_logloss: 0.354022\n",
      "[600]\ttrain's multi_logloss: 0.325221\teval's multi_logloss: 0.351036\n",
      "[700]\ttrain's multi_logloss: 0.319035\teval's multi_logloss: 0.349953\n",
      "[800]\ttrain's multi_logloss: 0.31394\teval's multi_logloss: 0.349569\n",
      "[900]\ttrain's multi_logloss: 0.309452\teval's multi_logloss: 0.348818\n",
      "[1000]\ttrain's multi_logloss: 0.305743\teval's multi_logloss: 0.349277\n",
      "Did not meet early stopping. Best iteration is:\n",
      "[1000]\ttrain's multi_logloss: 0.305743\teval's multi_logloss: 0.349277\n"
     ]
    },
    {
     "name": "stderr",
     "output_type": "stream",
     "text": [
      "min_data_in_leaf, val_score: 0.342815:  80%|#### | 4/5 [00:03<00:00,  1.08it/s]\u001b[32m[I 2021-06-13 10:15:39,396]\u001b[0m Trial 63 finished with value: 0.3492770685428966 and parameters: {'min_child_samples': 100}. Best is trial 62 with value: 0.34281497855835213.\u001b[0m\n",
      "min_data_in_leaf, val_score: 0.342815:  80%|#### | 4/5 [00:03<00:00,  1.08it/s]"
     ]
    },
    {
     "name": "stdout",
     "output_type": "stream",
     "text": [
      "Training until validation scores don't improve for 100 rounds\n",
      "[100]\ttrain's multi_logloss: 0.401431\teval's multi_logloss: 0.409153\n",
      "[200]\ttrain's multi_logloss: 0.354182\teval's multi_logloss: 0.365784\n",
      "[300]\ttrain's multi_logloss: 0.334612\teval's multi_logloss: 0.352378\n",
      "[400]\ttrain's multi_logloss: 0.322374\teval's multi_logloss: 0.346636\n",
      "[500]\ttrain's multi_logloss: 0.312542\teval's multi_logloss: 0.345155\n",
      "[600]\ttrain's multi_logloss: 0.305035\teval's multi_logloss: 0.343003\n",
      "Early stopping, best iteration is:\n",
      "[560]\ttrain's multi_logloss: 0.30757\teval's multi_logloss: 0.34277\n"
     ]
    },
    {
     "name": "stderr",
     "output_type": "stream",
     "text": [
      "min_data_in_leaf, val_score: 0.342770: 100%|#####| 5/5 [00:04<00:00,  1.15it/s]\u001b[32m[I 2021-06-13 10:15:40,182]\u001b[0m Trial 64 finished with value: 0.3427699830864601 and parameters: {'min_child_samples': 10}. Best is trial 64 with value: 0.3427699830864601.\u001b[0m\n",
      "min_data_in_leaf, val_score: 0.342770: 100%|#####| 5/5 [00:04<00:00,  1.17it/s]\n"
     ]
    }
   ],
   "source": [
    "y_lgb_preds = []\n",
    "models = []\n",
    "y_lgb_oof_train = np.zeros((len(X_train),3))\n",
    "cv = StratifiedKFold(n_splits=4, shuffle=True, random_state=0)\n",
    "\n",
    "params = {\n",
    "    'task' : 'train',\n",
    "    'boosting_type' : 'gbdt',\n",
    "    'objective': 'multiclass',\n",
    "    'num_class': 3,\n",
    "    'metric' : 'multi_logloss',\n",
    "    'max_bin' : 255,\n",
    "    'num_leaves' : 40,\n",
    "    'learning_rate' : 0.01,\n",
    "    'feature_fraction' : 0.9,\n",
    "    'bagging_fraction' : 0.8,\n",
    "    'bagging_freq': 5,\n",
    "    'verbose' : -1\n",
    "}\n",
    "\n",
    "# Cross Validation\n",
    "for fold_id, (train_index, valid_index) in enumerate(cv.split(X_train,y_train)):\n",
    "    X_tr = X_train.iloc[train_index, :]\n",
    "    X_val = X_train.iloc[valid_index, :]\n",
    "    y_tr = y_train.iloc[train_index]\n",
    "    y_val = y_train.iloc[valid_index]\n",
    "    \n",
    "    # Train Dataset\n",
    "    lgb_train = lgb.Dataset(X_tr, y_tr)\n",
    "\n",
    "    # Evaluation Dataset (early_stopping_rounds)\n",
    "    lgb_eval = lgb.Dataset(X_val, y_val, reference=lgb_train)\n",
    "    \n",
    "    evals_result = {} #結果を格納するための辞書\n",
    "    # train\n",
    "    gbm = lgb.train(params,\n",
    "                    lgb_train,\n",
    "                    valid_sets=[lgb_train, lgb_eval],\n",
    "                    valid_names=['train','eval'],\n",
    "                    num_boost_round=1000,\n",
    "                    early_stopping_rounds=100,\n",
    "                    verbose_eval=100,\n",
    "                    evals_result=evals_result\n",
    "                   )\n",
    "    # Out-of-hold of train data\n",
    "    y_lgb_oof_train[valid_index] = \\\n",
    "        gbm.predict(X_val, num_iteration=gbm.best_iteration)\n",
    "    \n",
    "    # Prediction for X_test data\n",
    "    y_pred = gbm.predict(X_test, num_iteration=gbm.best_iteration)\n",
    "    \n",
    "    # Append Prediction data \n",
    "    y_lgb_preds.append(y_pred)\n",
    "    models.append(gbm)\n"
   ]
  },
  {
   "cell_type": "markdown",
   "id": "a9c1eaa0",
   "metadata": {},
   "source": [
    "### Validation data vs Prediction Data"
   ]
  },
  {
   "cell_type": "code",
   "execution_count": 18,
   "id": "db436e76",
   "metadata": {},
   "outputs": [
    {
     "data": {
      "text/plain": [
       "([0.6581984561925914,\n",
       "  0.6499396937908725,\n",
       "  0.6420959237707823,\n",
       "  0.6346598742453907,\n",
       "  0.6275866235022505],\n",
       " [0.6595520039079643,\n",
       "  0.6520752152907537,\n",
       "  0.6449819541408003,\n",
       "  0.638241827025477,\n",
       "  0.6318907335645011],\n",
       " [0.5857801678324156,\n",
       "  0.3918625318931677,\n",
       "  0.38617861720071744,\n",
       "  0.38507239726219017,\n",
       "  0.37792331080773595],\n",
       " [0.5893935722088061,\n",
       "  0.3951922518647875,\n",
       "  0.38503395517545336,\n",
       "  0.38515391775903607,\n",
       "  0.37869548027754696])"
      ]
     },
     "execution_count": 18,
     "metadata": {},
     "output_type": "execute_result"
    }
   ],
   "source": [
    "train_metric = evals_result['train']['multi_logloss']\n",
    "eval_metric = evals_result['eval']['multi_logloss']\n",
    "rf_train_metric = rf_evals_result['train']['multi_logloss']\n",
    "rf_eval_metric = rf_evals_result['eval']['multi_logloss']\n",
    "train_metric[:5], eval_metric[:5],rf_train_metric[:5], rf_eval_metric[:5]"
   ]
  },
  {
   "cell_type": "code",
   "execution_count": 19,
   "id": "4a306b06",
   "metadata": {},
   "outputs": [
    {
     "data": {
      "image/png": "[encoded data removed]",
      "text/plain": [
       "<Figure size 720x720 with 1 Axes>"
      ]
     },
     "metadata": {},
     "output_type": "display_data"
    }
   ],
   "source": [
    "plt.figure(figsize=(10, 10))\n",
    "\n",
    "plt.plot(train_metric, label='train multi_logloss')\n",
    "plt.plot(eval_metric, label='eval multi_logloss')\n",
    "plt.plot(rf_train_metric, label='rf_train multi_logloss')\n",
    "plt.plot(rf_eval_metric, label='rf_eval multi_logloss')\n",
    "\n",
    "plt.grid()\n",
    "plt.legend()\n",
    "plt.ylim(0 , 0.6)\n",
    "\n",
    "plt.xlabel('rounds')\n",
    "plt.ylabel('multi_logloss')\n",
    "plt.grid(True)\n",
    "plt.show()"
   ]
  },
  {
   "cell_type": "code",
   "execution_count": 20,
   "id": "6a7d4854",
   "metadata": {},
   "outputs": [
    {
     "name": "stdout",
     "output_type": "stream",
     "text": [
      "lightGBM(gbdt) = 0.7166397095541033\n",
      "lightGBM(rf) = 0.7417572744303226\n",
      "lightGBM(total) = 0.7322578749000618\n"
     ]
    },
    {
     "data": {
      "text/plain": [
       "<AxesSubplot:title={'center':'Feature importance'}, xlabel='Feature importance', ylabel='Features'>"
      ]
     },
     "execution_count": 20,
     "metadata": {},
     "output_type": "execute_result"
    },
    {
     "data": {
      "image/png": "[encoded data removed]",
      "text/plain": [
       "<Figure size 576x576 with 1 Axes>"
      ]
     },
     "metadata": {},
     "output_type": "display_data"
    },
    {
     "data": {
      "image/png": "[encoded data removed]",
      "text/plain": [
       "<Figure size 576x576 with 1 Axes>"
      ]
     },
     "metadata": {},
     "output_type": "display_data"
    }
   ],
   "source": [
    "y_lgb_oof_train_max = np.argmax(y_lgb_oof_train, axis=1)\n",
    "print(\"lightGBM(gbdt) = {}\".format(f1_score(y_true=y_train, y_pred=y_lgb_oof_train_max, average='macro')))\n",
    "y_lgb_rf_oof_train_max = np.argmax(y_lgb_rf_oof_train, axis=1)\n",
    "print(\"lightGBM(rf) = {}\".format(f1_score(y_true=y_train, y_pred=y_lgb_rf_oof_train_max, average='macro')))\n",
    "# 結果の統合\n",
    "y_lgb_total_oof_train = (y_lgb_oof_train + y_lgb_rf_oof_train)/2\n",
    "y_lgb_total_oof_train_max = np.argmax(y_lgb_total_oof_train, axis=1)\n",
    "print(\"lightGBM(total) = {}\".format(f1_score(y_true=y_train, y_pred=y_lgb_total_oof_train_max, average='macro')))\n",
    "\n",
    "# LGB plog importance\n",
    "lgb.plot_importance(gbm, height=0.5, figsize=(8,8))\n",
    "lgb.plot_importance(gbm_rf, height=0.5, figsize=(8,8))"
   ]
  },
  {
   "cell_type": "code",
   "execution_count": 21,
   "id": "d777af0f",
   "metadata": {},
   "outputs": [
    {
     "data": {
      "text/plain": [
       "[0, 2, 0, 0, 0, 0, 0, 0, 0, 0]"
      ]
     },
     "execution_count": 21,
     "metadata": {},
     "output_type": "execute_result"
    }
   ],
   "source": [
    "y_lgb_total_preds = y_lgb_preds + y_lgb_rf_preds\n",
    "y_pred_max = np.argmax(sum(y_lgb_total_preds)/len(y_lgb_total_preds), axis=1)\n",
    "y_pred_max = list(y_pred_max)\n",
    "y_pred_max[:10]"
   ]
  },
  {
   "cell_type": "code",
   "execution_count": 22,
   "id": "74e6e877",
   "metadata": {},
   "outputs": [
    {
     "data": {
      "text/html": [
       "<div>\n",
       "<style scoped>\n",
       "    .dataframe tbody tr th:only-of-type {\n",
       "        vertical-align: middle;\n",
       "    }\n",
       "\n",
       "    .dataframe tbody tr th {\n",
       "        vertical-align: top;\n",
       "    }\n",
       "\n",
       "    .dataframe thead th {\n",
       "        text-align: right;\n",
       "    }\n",
       "</style>\n",
       "<table border=\"1\" class=\"dataframe\">\n",
       "  <thead>\n",
       "    <tr style=\"text-align: right;\">\n",
       "      <th></th>\n",
       "      <th>0</th>\n",
       "      <th>1</th>\n",
       "    </tr>\n",
       "  </thead>\n",
       "  <tbody>\n",
       "    <tr>\n",
       "      <th>0</th>\n",
       "      <td>13</td>\n",
       "      <td>0</td>\n",
       "    </tr>\n",
       "    <tr>\n",
       "      <th>1</th>\n",
       "      <td>23</td>\n",
       "      <td>0</td>\n",
       "    </tr>\n",
       "    <tr>\n",
       "      <th>2</th>\n",
       "      <td>27</td>\n",
       "      <td>0</td>\n",
       "    </tr>\n",
       "    <tr>\n",
       "      <th>3</th>\n",
       "      <td>28</td>\n",
       "      <td>0</td>\n",
       "    </tr>\n",
       "    <tr>\n",
       "      <th>4</th>\n",
       "      <td>29</td>\n",
       "      <td>0</td>\n",
       "    </tr>\n",
       "  </tbody>\n",
       "</table>\n",
       "</div>"
      ],
      "text/plain": [
       "    0  1\n",
       "0  13  0\n",
       "1  23  0\n",
       "2  27  0\n",
       "3  28  0\n",
       "4  29  0"
      ]
     },
     "execution_count": 22,
     "metadata": {},
     "output_type": "execute_result"
    }
   ],
   "source": [
    "submit_sample.head()"
   ]
  },
  {
   "cell_type": "markdown",
   "id": "bd971b20",
   "metadata": {},
   "source": [
    "提出"
   ]
  },
  {
   "cell_type": "code",
   "execution_count": 23,
   "id": "0a1edf60",
   "metadata": {},
   "outputs": [],
   "source": [
    "submit_sample[1] = y_pred_max\n",
    "submit_sample.to_csv('submit.csv',index = False,  header=None)"
   ]
  },
  {
   "cell_type": "code",
   "execution_count": 24,
   "id": "164c3bbf",
   "metadata": {},
   "outputs": [
    {
     "data": {
      "text/html": [
       "<div>\n",
       "<style scoped>\n",
       "    .dataframe tbody tr th:only-of-type {\n",
       "        vertical-align: middle;\n",
       "    }\n",
       "\n",
       "    .dataframe tbody tr th {\n",
       "        vertical-align: top;\n",
       "    }\n",
       "\n",
       "    .dataframe thead th {\n",
       "        text-align: right;\n",
       "    }\n",
       "</style>\n",
       "<table border=\"1\" class=\"dataframe\">\n",
       "  <thead>\n",
       "    <tr style=\"text-align: right;\">\n",
       "      <th></th>\n",
       "      <th>0</th>\n",
       "      <th>1</th>\n",
       "    </tr>\n",
       "  </thead>\n",
       "  <tbody>\n",
       "    <tr>\n",
       "      <th>0</th>\n",
       "      <td>13</td>\n",
       "      <td>0</td>\n",
       "    </tr>\n",
       "    <tr>\n",
       "      <th>1</th>\n",
       "      <td>23</td>\n",
       "      <td>2</td>\n",
       "    </tr>\n",
       "    <tr>\n",
       "      <th>2</th>\n",
       "      <td>27</td>\n",
       "      <td>0</td>\n",
       "    </tr>\n",
       "    <tr>\n",
       "      <th>3</th>\n",
       "      <td>28</td>\n",
       "      <td>0</td>\n",
       "    </tr>\n",
       "    <tr>\n",
       "      <th>4</th>\n",
       "      <td>29</td>\n",
       "      <td>0</td>\n",
       "    </tr>\n",
       "  </tbody>\n",
       "</table>\n",
       "</div>"
      ],
      "text/plain": [
       "    0  1\n",
       "0  13  0\n",
       "1  23  2\n",
       "2  27  0\n",
       "3  28  0\n",
       "4  29  0"
      ]
     },
     "execution_count": 24,
     "metadata": {},
     "output_type": "execute_result"
    }
   ],
   "source": [
    "submit_sample.head()"
   ]
  },
  {
   "cell_type": "code",
   "execution_count": null,
   "id": "94b94953",
   "metadata": {},
   "outputs": [],
   "source": []
  }
 ],
 "metadata": {
  "kernelspec": {
   "display_name": "Python 3",
   "language": "python",
   "name": "python3"
  },
  "language_info": {
   "codemirror_mode": {
    "name": "ipython",
    "version": 3
   },
   "file_extension": ".py",
   "mimetype": "text/x-python",
   "name": "python",
   "nbconvert_exporter": "python",
   "pygments_lexer": "ipython3",
   "version": "3.8.8"
  }
 },
 "nbformat": 4,
 "nbformat_minor": 5
}
