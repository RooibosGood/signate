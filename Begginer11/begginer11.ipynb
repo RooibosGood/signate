{
 "cells": [
  {
   "cell_type": "code",
   "execution_count": 1,
   "id": "27562579",
   "metadata": {},
   "outputs": [],
   "source": [
    "import numpy as np # linear algebra\n",
    "import pandas as pd # data processing, CSV file I/O (e.g. pd.read_csv)"
   ]
  },
  {
   "cell_type": "code",
   "execution_count": 2,
   "id": "f33217fc",
   "metadata": {},
   "outputs": [
    {
     "name": "stdout",
     "output_type": "stream",
     "text": [
      "<class 'pandas.core.frame.DataFrame'>\n",
      "Int64Index: 2000 entries, 0 to 399\n",
      "Data columns (total 8 columns):\n",
      " #   Column    Non-Null Count  Dtype  \n",
      "---  ------    --------------  -----  \n",
      " 0   id        2000 non-null   int64  \n",
      " 1   age       2000 non-null   int64  \n",
      " 2   sex       2000 non-null   object \n",
      " 3   bmi       2000 non-null   float64\n",
      " 4   children  2000 non-null   int64  \n",
      " 5   smoker    2000 non-null   object \n",
      " 6   region    2000 non-null   object \n",
      " 7   charges   1600 non-null   float64\n",
      "dtypes: float64(2), int64(3), object(3)\n",
      "memory usage: 140.6+ KB\n"
     ]
    },
    {
     "data": {
      "text/html": [
       "<div>\n",
       "<style scoped>\n",
       "    .dataframe tbody tr th:only-of-type {\n",
       "        vertical-align: middle;\n",
       "    }\n",
       "\n",
       "    .dataframe tbody tr th {\n",
       "        vertical-align: top;\n",
       "    }\n",
       "\n",
       "    .dataframe thead th {\n",
       "        text-align: right;\n",
       "    }\n",
       "</style>\n",
       "<table border=\"1\" class=\"dataframe\">\n",
       "  <thead>\n",
       "    <tr style=\"text-align: right;\">\n",
       "      <th></th>\n",
       "      <th>id</th>\n",
       "      <th>age</th>\n",
       "      <th>sex</th>\n",
       "      <th>bmi</th>\n",
       "      <th>children</th>\n",
       "      <th>smoker</th>\n",
       "      <th>region</th>\n",
       "      <th>charges</th>\n",
       "    </tr>\n",
       "  </thead>\n",
       "  <tbody>\n",
       "    <tr>\n",
       "      <th>0</th>\n",
       "      <td>0</td>\n",
       "      <td>26</td>\n",
       "      <td>male</td>\n",
       "      <td>32.665465</td>\n",
       "      <td>3</td>\n",
       "      <td>no</td>\n",
       "      <td>southeast</td>\n",
       "      <td>0.0</td>\n",
       "    </tr>\n",
       "    <tr>\n",
       "      <th>1</th>\n",
       "      <td>1</td>\n",
       "      <td>41</td>\n",
       "      <td>male</td>\n",
       "      <td>29.798725</td>\n",
       "      <td>1</td>\n",
       "      <td>no</td>\n",
       "      <td>southwest</td>\n",
       "      <td>0.0</td>\n",
       "    </tr>\n",
       "    <tr>\n",
       "      <th>2</th>\n",
       "      <td>2</td>\n",
       "      <td>28</td>\n",
       "      <td>male</td>\n",
       "      <td>32.722029</td>\n",
       "      <td>0</td>\n",
       "      <td>yes</td>\n",
       "      <td>northwest</td>\n",
       "      <td>1.0</td>\n",
       "    </tr>\n",
       "    <tr>\n",
       "      <th>3</th>\n",
       "      <td>3</td>\n",
       "      <td>20</td>\n",
       "      <td>female</td>\n",
       "      <td>38.429831</td>\n",
       "      <td>2</td>\n",
       "      <td>no</td>\n",
       "      <td>southeast</td>\n",
       "      <td>0.0</td>\n",
       "    </tr>\n",
       "    <tr>\n",
       "      <th>4</th>\n",
       "      <td>4</td>\n",
       "      <td>45</td>\n",
       "      <td>female</td>\n",
       "      <td>29.641854</td>\n",
       "      <td>1</td>\n",
       "      <td>no</td>\n",
       "      <td>northwest</td>\n",
       "      <td>0.0</td>\n",
       "    </tr>\n",
       "    <tr>\n",
       "      <th>5</th>\n",
       "      <td>5</td>\n",
       "      <td>20</td>\n",
       "      <td>male</td>\n",
       "      <td>37.785937</td>\n",
       "      <td>2</td>\n",
       "      <td>yes</td>\n",
       "      <td>southeast</td>\n",
       "      <td>1.0</td>\n",
       "    </tr>\n",
       "    <tr>\n",
       "      <th>6</th>\n",
       "      <td>6</td>\n",
       "      <td>37</td>\n",
       "      <td>male</td>\n",
       "      <td>43.393374</td>\n",
       "      <td>2</td>\n",
       "      <td>no</td>\n",
       "      <td>northeast</td>\n",
       "      <td>0.0</td>\n",
       "    </tr>\n",
       "    <tr>\n",
       "      <th>7</th>\n",
       "      <td>7</td>\n",
       "      <td>41</td>\n",
       "      <td>female</td>\n",
       "      <td>32.280407</td>\n",
       "      <td>1</td>\n",
       "      <td>no</td>\n",
       "      <td>northeast</td>\n",
       "      <td>0.0</td>\n",
       "    </tr>\n",
       "    <tr>\n",
       "      <th>8</th>\n",
       "      <td>8</td>\n",
       "      <td>40</td>\n",
       "      <td>male</td>\n",
       "      <td>28.865828</td>\n",
       "      <td>1</td>\n",
       "      <td>no</td>\n",
       "      <td>northeast</td>\n",
       "      <td>0.0</td>\n",
       "    </tr>\n",
       "    <tr>\n",
       "      <th>9</th>\n",
       "      <td>9</td>\n",
       "      <td>54</td>\n",
       "      <td>female</td>\n",
       "      <td>33.870887</td>\n",
       "      <td>2</td>\n",
       "      <td>no</td>\n",
       "      <td>northeast</td>\n",
       "      <td>0.0</td>\n",
       "    </tr>\n",
       "    <tr>\n",
       "      <th>10</th>\n",
       "      <td>10</td>\n",
       "      <td>34</td>\n",
       "      <td>female</td>\n",
       "      <td>23.449091</td>\n",
       "      <td>2</td>\n",
       "      <td>no</td>\n",
       "      <td>southwest</td>\n",
       "      <td>0.0</td>\n",
       "    </tr>\n",
       "    <tr>\n",
       "      <th>11</th>\n",
       "      <td>11</td>\n",
       "      <td>24</td>\n",
       "      <td>female</td>\n",
       "      <td>32.275964</td>\n",
       "      <td>0</td>\n",
       "      <td>no</td>\n",
       "      <td>northwest</td>\n",
       "      <td>0.0</td>\n",
       "    </tr>\n",
       "    <tr>\n",
       "      <th>12</th>\n",
       "      <td>12</td>\n",
       "      <td>41</td>\n",
       "      <td>male</td>\n",
       "      <td>32.544462</td>\n",
       "      <td>1</td>\n",
       "      <td>no</td>\n",
       "      <td>northeast</td>\n",
       "      <td>0.0</td>\n",
       "    </tr>\n",
       "    <tr>\n",
       "      <th>13</th>\n",
       "      <td>14</td>\n",
       "      <td>55</td>\n",
       "      <td>female</td>\n",
       "      <td>33.110985</td>\n",
       "      <td>2</td>\n",
       "      <td>no</td>\n",
       "      <td>northeast</td>\n",
       "      <td>0.0</td>\n",
       "    </tr>\n",
       "    <tr>\n",
       "      <th>14</th>\n",
       "      <td>15</td>\n",
       "      <td>20</td>\n",
       "      <td>male</td>\n",
       "      <td>34.089663</td>\n",
       "      <td>0</td>\n",
       "      <td>no</td>\n",
       "      <td>northeast</td>\n",
       "      <td>0.0</td>\n",
       "    </tr>\n",
       "    <tr>\n",
       "      <th>15</th>\n",
       "      <td>16</td>\n",
       "      <td>54</td>\n",
       "      <td>male</td>\n",
       "      <td>33.100872</td>\n",
       "      <td>0</td>\n",
       "      <td>no</td>\n",
       "      <td>southeast</td>\n",
       "      <td>0.0</td>\n",
       "    </tr>\n",
       "    <tr>\n",
       "      <th>16</th>\n",
       "      <td>17</td>\n",
       "      <td>28</td>\n",
       "      <td>female</td>\n",
       "      <td>24.597390</td>\n",
       "      <td>0</td>\n",
       "      <td>no</td>\n",
       "      <td>southeast</td>\n",
       "      <td>0.0</td>\n",
       "    </tr>\n",
       "    <tr>\n",
       "      <th>17</th>\n",
       "      <td>18</td>\n",
       "      <td>49</td>\n",
       "      <td>female</td>\n",
       "      <td>28.908255</td>\n",
       "      <td>1</td>\n",
       "      <td>no</td>\n",
       "      <td>northeast</td>\n",
       "      <td>0.0</td>\n",
       "    </tr>\n",
       "    <tr>\n",
       "      <th>18</th>\n",
       "      <td>19</td>\n",
       "      <td>46</td>\n",
       "      <td>female</td>\n",
       "      <td>44.516402</td>\n",
       "      <td>1</td>\n",
       "      <td>no</td>\n",
       "      <td>northeast</td>\n",
       "      <td>0.0</td>\n",
       "    </tr>\n",
       "    <tr>\n",
       "      <th>19</th>\n",
       "      <td>20</td>\n",
       "      <td>18</td>\n",
       "      <td>male</td>\n",
       "      <td>26.978577</td>\n",
       "      <td>0</td>\n",
       "      <td>no</td>\n",
       "      <td>northeast</td>\n",
       "      <td>0.0</td>\n",
       "    </tr>\n",
       "  </tbody>\n",
       "</table>\n",
       "</div>"
      ],
      "text/plain": [
       "    id  age     sex        bmi  children smoker     region  charges\n",
       "0    0   26    male  32.665465         3     no  southeast      0.0\n",
       "1    1   41    male  29.798725         1     no  southwest      0.0\n",
       "2    2   28    male  32.722029         0    yes  northwest      1.0\n",
       "3    3   20  female  38.429831         2     no  southeast      0.0\n",
       "4    4   45  female  29.641854         1     no  northwest      0.0\n",
       "5    5   20    male  37.785937         2    yes  southeast      1.0\n",
       "6    6   37    male  43.393374         2     no  northeast      0.0\n",
       "7    7   41  female  32.280407         1     no  northeast      0.0\n",
       "8    8   40    male  28.865828         1     no  northeast      0.0\n",
       "9    9   54  female  33.870887         2     no  northeast      0.0\n",
       "10  10   34  female  23.449091         2     no  southwest      0.0\n",
       "11  11   24  female  32.275964         0     no  northwest      0.0\n",
       "12  12   41    male  32.544462         1     no  northeast      0.0\n",
       "13  14   55  female  33.110985         2     no  northeast      0.0\n",
       "14  15   20    male  34.089663         0     no  northeast      0.0\n",
       "15  16   54    male  33.100872         0     no  southeast      0.0\n",
       "16  17   28  female  24.597390         0     no  southeast      0.0\n",
       "17  18   49  female  28.908255         1     no  northeast      0.0\n",
       "18  19   46  female  44.516402         1     no  northeast      0.0\n",
       "19  20   18    male  26.978577         0     no  northeast      0.0"
      ]
     },
     "execution_count": 2,
     "metadata": {},
     "output_type": "execute_result"
    }
   ],
   "source": [
    "train=pd.read_csv(\"./train.csv\")\n",
    "test=pd.read_csv(\"./test.csv\")\n",
    "submit_sample=pd.read_csv(\"./sample_submit.csv\", header=None)\n",
    "\n",
    "df = pd.concat([train, test], sort=False)\n",
    "df.info()\n",
    "df.head(20)"
   ]
  },
  {
   "cell_type": "markdown",
   "id": "331334ce",
   "metadata": {},
   "source": [
    "# Pandas Profiling"
   ]
  },
  {
   "cell_type": "code",
   "execution_count": 3,
   "id": "eea0076d",
   "metadata": {
    "scrolled": true
   },
   "outputs": [],
   "source": [
    "#import pandas_profiling\n",
    "\n",
    "# df.profile_report()"
   ]
  },
  {
   "cell_type": "markdown",
   "id": "fd7a5efd",
   "metadata": {},
   "source": [
    "### Histogram"
   ]
  },
  {
   "cell_type": "code",
   "execution_count": 4,
   "id": "d49bc73c",
   "metadata": {},
   "outputs": [],
   "source": [
    "import seaborn as sns\n",
    "import matplotlib.pyplot as plt"
   ]
  },
  {
   "cell_type": "code",
   "execution_count": 5,
   "id": "6d44ba59",
   "metadata": {},
   "outputs": [
    {
     "data": {
      "image/png": "[encoded data removed]",
      "text/plain": [
       "<Figure size 720x360 with 1 Axes>"
      ]
     },
     "metadata": {
      "needs_background": "light"
     },
     "output_type": "display_data"
    }
   ],
   "source": [
    "# Histogram BMI (male, female)\n",
    "plt.figure(figsize=(10, 5))\n",
    "plt.hist(train[train['sex']=='male']['bmi'], bins=20, label=['male'], rwidth=0.6,density=True)\n",
    "plt.hist(train[train['sex']=='female']['bmi'], bins=20, label=['female'], rwidth=0.6,density=True)\n",
    "\n",
    "plt.xlabel('bmi')\n",
    "plt.legend(loc='upper right')\n",
    "plt.grid(True)\n",
    "plt.show()"
   ]
  },
  {
   "cell_type": "code",
   "execution_count": 6,
   "id": "0803d76e",
   "metadata": {},
   "outputs": [
    {
     "data": {
      "image/png": "[encoded data removed]",
      "text/plain": [
       "<Figure size 1080x720 with 1 Axes>"
      ]
     },
     "metadata": {
      "needs_background": "light"
     },
     "output_type": "display_data"
    }
   ],
   "source": [
    "## Histogram BMI (male, female)\n",
    "plt.figure(figsize=(15, 10))\n",
    "plt.hist(train.query('age < 30')['bmi'], bins=20, label=['age  < 30'], rwidth=0.6,density=True)\n",
    "plt.hist(train.query('30 <= age < 40')['bmi'], bins=20, label=['30 <= age < 40'], rwidth=0.6,density=True)\n",
    "plt.hist(train.query('40 <= age < 50')['bmi'], bins=20, label=['40 <= age < 50'], rwidth=0.6,density=True)\n",
    "plt.hist(train.query('age >= 50')['bmi'], bins=20, label=['>= 50'], rwidth=0.6,density=True)\n",
    "\n",
    "plt.xlabel('bmi')\n",
    "plt.legend(loc='upper right')\n",
    "plt.grid(True)\n",
    "plt.show()"
   ]
  },
  {
   "cell_type": "code",
   "execution_count": 7,
   "id": "91f8b607",
   "metadata": {},
   "outputs": [
    {
     "name": "stdout",
     "output_type": "stream",
     "text": [
      "0    0.78500\n",
      "1    0.12375\n",
      "2    0.09125\n",
      "Name: charges, dtype: float64\n",
      "0    0.889423\n",
      "1    0.100962\n",
      "2    0.009615\n",
      "Name: charges, dtype: float64\n",
      "0    0.770878\n",
      "1    0.209850\n",
      "2    0.019272\n",
      "Name: charges, dtype: float64\n",
      "0    0.823404\n",
      "1    0.100000\n",
      "2    0.076596\n",
      "Name: charges, dtype: float64\n",
      "0    0.694534\n",
      "2    0.228296\n",
      "1    0.077170\n",
      "Name: charges, dtype: float64\n",
      "0    0.750000\n",
      "2    0.194444\n",
      "1    0.055556\n",
      "Name: charges, dtype: float64\n"
     ]
    }
   ],
   "source": [
    "print(train['charges'].value_counts()/len(train['charges']))\n",
    "train_bmi_normal = train.query('bmi < 25')['charges']\n",
    "print(train_bmi_normal.value_counts()/len(train_bmi_normal))\n",
    "train_bmi_preobese = train.query('25 <= bmi < 30')['charges']\n",
    "print(train_bmi_preobese.value_counts()/len(train_bmi_preobese))\n",
    "train_bmi_obese1 = train.query('30 <= bmi < 35')['charges']\n",
    "print(train_bmi_obese1.value_counts()/len(train_bmi_obese1))\n",
    "train_bmi_obese2 = train.query('35 <= bmi < 40')['charges']\n",
    "print(train_bmi_obese2.value_counts()/len(train_bmi_obese2))\n",
    "train_bmi_obese3 = train.query('40 <= bmi')['charges']\n",
    "print(train_bmi_obese3.value_counts()/len(train_bmi_obese3))"
   ]
  },
  {
   "cell_type": "code",
   "execution_count": 8,
   "id": "42135939",
   "metadata": {},
   "outputs": [
    {
     "data": {
      "text/html": [
       "<div>\n",
       "<style scoped>\n",
       "    .dataframe tbody tr th:only-of-type {\n",
       "        vertical-align: middle;\n",
       "    }\n",
       "\n",
       "    .dataframe tbody tr th {\n",
       "        vertical-align: top;\n",
       "    }\n",
       "\n",
       "    .dataframe thead th {\n",
       "        text-align: right;\n",
       "    }\n",
       "</style>\n",
       "<table border=\"1\" class=\"dataframe\">\n",
       "  <thead>\n",
       "    <tr style=\"text-align: right;\">\n",
       "      <th></th>\n",
       "      <th>id</th>\n",
       "      <th>age</th>\n",
       "      <th>sex</th>\n",
       "      <th>bmi</th>\n",
       "      <th>children</th>\n",
       "      <th>smoker</th>\n",
       "      <th>region</th>\n",
       "      <th>charges</th>\n",
       "      <th>bmi_who</th>\n",
       "    </tr>\n",
       "  </thead>\n",
       "  <tbody>\n",
       "    <tr>\n",
       "      <th>0</th>\n",
       "      <td>0</td>\n",
       "      <td>26</td>\n",
       "      <td>male</td>\n",
       "      <td>32.665465</td>\n",
       "      <td>3</td>\n",
       "      <td>no</td>\n",
       "      <td>southeast</td>\n",
       "      <td>0.0</td>\n",
       "      <td>3.0</td>\n",
       "    </tr>\n",
       "    <tr>\n",
       "      <th>1</th>\n",
       "      <td>1</td>\n",
       "      <td>41</td>\n",
       "      <td>male</td>\n",
       "      <td>29.798725</td>\n",
       "      <td>1</td>\n",
       "      <td>no</td>\n",
       "      <td>southwest</td>\n",
       "      <td>0.0</td>\n",
       "      <td>2.0</td>\n",
       "    </tr>\n",
       "    <tr>\n",
       "      <th>2</th>\n",
       "      <td>2</td>\n",
       "      <td>28</td>\n",
       "      <td>male</td>\n",
       "      <td>32.722029</td>\n",
       "      <td>0</td>\n",
       "      <td>yes</td>\n",
       "      <td>northwest</td>\n",
       "      <td>1.0</td>\n",
       "      <td>3.0</td>\n",
       "    </tr>\n",
       "    <tr>\n",
       "      <th>3</th>\n",
       "      <td>3</td>\n",
       "      <td>20</td>\n",
       "      <td>female</td>\n",
       "      <td>38.429831</td>\n",
       "      <td>2</td>\n",
       "      <td>no</td>\n",
       "      <td>southeast</td>\n",
       "      <td>0.0</td>\n",
       "      <td>4.0</td>\n",
       "    </tr>\n",
       "    <tr>\n",
       "      <th>4</th>\n",
       "      <td>4</td>\n",
       "      <td>45</td>\n",
       "      <td>female</td>\n",
       "      <td>29.641854</td>\n",
       "      <td>1</td>\n",
       "      <td>no</td>\n",
       "      <td>northwest</td>\n",
       "      <td>0.0</td>\n",
       "      <td>2.0</td>\n",
       "    </tr>\n",
       "    <tr>\n",
       "      <th>5</th>\n",
       "      <td>5</td>\n",
       "      <td>20</td>\n",
       "      <td>male</td>\n",
       "      <td>37.785937</td>\n",
       "      <td>2</td>\n",
       "      <td>yes</td>\n",
       "      <td>southeast</td>\n",
       "      <td>1.0</td>\n",
       "      <td>4.0</td>\n",
       "    </tr>\n",
       "    <tr>\n",
       "      <th>6</th>\n",
       "      <td>6</td>\n",
       "      <td>37</td>\n",
       "      <td>male</td>\n",
       "      <td>43.393374</td>\n",
       "      <td>2</td>\n",
       "      <td>no</td>\n",
       "      <td>northeast</td>\n",
       "      <td>0.0</td>\n",
       "      <td>5.0</td>\n",
       "    </tr>\n",
       "    <tr>\n",
       "      <th>7</th>\n",
       "      <td>7</td>\n",
       "      <td>41</td>\n",
       "      <td>female</td>\n",
       "      <td>32.280407</td>\n",
       "      <td>1</td>\n",
       "      <td>no</td>\n",
       "      <td>northeast</td>\n",
       "      <td>0.0</td>\n",
       "      <td>3.0</td>\n",
       "    </tr>\n",
       "    <tr>\n",
       "      <th>8</th>\n",
       "      <td>8</td>\n",
       "      <td>40</td>\n",
       "      <td>male</td>\n",
       "      <td>28.865828</td>\n",
       "      <td>1</td>\n",
       "      <td>no</td>\n",
       "      <td>northeast</td>\n",
       "      <td>0.0</td>\n",
       "      <td>2.0</td>\n",
       "    </tr>\n",
       "    <tr>\n",
       "      <th>9</th>\n",
       "      <td>9</td>\n",
       "      <td>54</td>\n",
       "      <td>female</td>\n",
       "      <td>33.870887</td>\n",
       "      <td>2</td>\n",
       "      <td>no</td>\n",
       "      <td>northeast</td>\n",
       "      <td>0.0</td>\n",
       "      <td>3.0</td>\n",
       "    </tr>\n",
       "    <tr>\n",
       "      <th>10</th>\n",
       "      <td>10</td>\n",
       "      <td>34</td>\n",
       "      <td>female</td>\n",
       "      <td>23.449091</td>\n",
       "      <td>2</td>\n",
       "      <td>no</td>\n",
       "      <td>southwest</td>\n",
       "      <td>0.0</td>\n",
       "      <td>1.0</td>\n",
       "    </tr>\n",
       "    <tr>\n",
       "      <th>11</th>\n",
       "      <td>11</td>\n",
       "      <td>24</td>\n",
       "      <td>female</td>\n",
       "      <td>32.275964</td>\n",
       "      <td>0</td>\n",
       "      <td>no</td>\n",
       "      <td>northwest</td>\n",
       "      <td>0.0</td>\n",
       "      <td>3.0</td>\n",
       "    </tr>\n",
       "    <tr>\n",
       "      <th>12</th>\n",
       "      <td>12</td>\n",
       "      <td>41</td>\n",
       "      <td>male</td>\n",
       "      <td>32.544462</td>\n",
       "      <td>1</td>\n",
       "      <td>no</td>\n",
       "      <td>northeast</td>\n",
       "      <td>0.0</td>\n",
       "      <td>3.0</td>\n",
       "    </tr>\n",
       "    <tr>\n",
       "      <th>13</th>\n",
       "      <td>14</td>\n",
       "      <td>55</td>\n",
       "      <td>female</td>\n",
       "      <td>33.110985</td>\n",
       "      <td>2</td>\n",
       "      <td>no</td>\n",
       "      <td>northeast</td>\n",
       "      <td>0.0</td>\n",
       "      <td>3.0</td>\n",
       "    </tr>\n",
       "    <tr>\n",
       "      <th>14</th>\n",
       "      <td>15</td>\n",
       "      <td>20</td>\n",
       "      <td>male</td>\n",
       "      <td>34.089663</td>\n",
       "      <td>0</td>\n",
       "      <td>no</td>\n",
       "      <td>northeast</td>\n",
       "      <td>0.0</td>\n",
       "      <td>3.0</td>\n",
       "    </tr>\n",
       "    <tr>\n",
       "      <th>15</th>\n",
       "      <td>16</td>\n",
       "      <td>54</td>\n",
       "      <td>male</td>\n",
       "      <td>33.100872</td>\n",
       "      <td>0</td>\n",
       "      <td>no</td>\n",
       "      <td>southeast</td>\n",
       "      <td>0.0</td>\n",
       "      <td>3.0</td>\n",
       "    </tr>\n",
       "    <tr>\n",
       "      <th>16</th>\n",
       "      <td>17</td>\n",
       "      <td>28</td>\n",
       "      <td>female</td>\n",
       "      <td>24.597390</td>\n",
       "      <td>0</td>\n",
       "      <td>no</td>\n",
       "      <td>southeast</td>\n",
       "      <td>0.0</td>\n",
       "      <td>1.0</td>\n",
       "    </tr>\n",
       "    <tr>\n",
       "      <th>17</th>\n",
       "      <td>18</td>\n",
       "      <td>49</td>\n",
       "      <td>female</td>\n",
       "      <td>28.908255</td>\n",
       "      <td>1</td>\n",
       "      <td>no</td>\n",
       "      <td>northeast</td>\n",
       "      <td>0.0</td>\n",
       "      <td>2.0</td>\n",
       "    </tr>\n",
       "    <tr>\n",
       "      <th>18</th>\n",
       "      <td>19</td>\n",
       "      <td>46</td>\n",
       "      <td>female</td>\n",
       "      <td>44.516402</td>\n",
       "      <td>1</td>\n",
       "      <td>no</td>\n",
       "      <td>northeast</td>\n",
       "      <td>0.0</td>\n",
       "      <td>5.0</td>\n",
       "    </tr>\n",
       "    <tr>\n",
       "      <th>19</th>\n",
       "      <td>20</td>\n",
       "      <td>18</td>\n",
       "      <td>male</td>\n",
       "      <td>26.978577</td>\n",
       "      <td>0</td>\n",
       "      <td>no</td>\n",
       "      <td>northeast</td>\n",
       "      <td>0.0</td>\n",
       "      <td>2.0</td>\n",
       "    </tr>\n",
       "  </tbody>\n",
       "</table>\n",
       "</div>"
      ],
      "text/plain": [
       "    id  age     sex        bmi  children smoker     region  charges  bmi_who\n",
       "0    0   26    male  32.665465         3     no  southeast      0.0      3.0\n",
       "1    1   41    male  29.798725         1     no  southwest      0.0      2.0\n",
       "2    2   28    male  32.722029         0    yes  northwest      1.0      3.0\n",
       "3    3   20  female  38.429831         2     no  southeast      0.0      4.0\n",
       "4    4   45  female  29.641854         1     no  northwest      0.0      2.0\n",
       "5    5   20    male  37.785937         2    yes  southeast      1.0      4.0\n",
       "6    6   37    male  43.393374         2     no  northeast      0.0      5.0\n",
       "7    7   41  female  32.280407         1     no  northeast      0.0      3.0\n",
       "8    8   40    male  28.865828         1     no  northeast      0.0      2.0\n",
       "9    9   54  female  33.870887         2     no  northeast      0.0      3.0\n",
       "10  10   34  female  23.449091         2     no  southwest      0.0      1.0\n",
       "11  11   24  female  32.275964         0     no  northwest      0.0      3.0\n",
       "12  12   41    male  32.544462         1     no  northeast      0.0      3.0\n",
       "13  14   55  female  33.110985         2     no  northeast      0.0      3.0\n",
       "14  15   20    male  34.089663         0     no  northeast      0.0      3.0\n",
       "15  16   54    male  33.100872         0     no  southeast      0.0      3.0\n",
       "16  17   28  female  24.597390         0     no  southeast      0.0      1.0\n",
       "17  18   49  female  28.908255         1     no  northeast      0.0      2.0\n",
       "18  19   46  female  44.516402         1     no  northeast      0.0      5.0\n",
       "19  20   18    male  26.978577         0     no  northeast      0.0      2.0"
      ]
     },
     "execution_count": 8,
     "metadata": {},
     "output_type": "execute_result"
    }
   ],
   "source": [
    "# BMI WHO基準\n",
    "df.loc[df['bmi'] < 25, 'bmi_who'] = 1\n",
    "df.loc[((df['bmi'] >= 25) & (df['bmi'] < 30)), 'bmi_who'] = 2\n",
    "df.loc[((df['bmi'] >= 30) & (df['bmi'] < 35)), 'bmi_who'] = 3\n",
    "df.loc[((df['bmi'] >= 35) & (df['bmi'] < 40)), 'bmi_who'] = 4\n",
    "df.loc[(df['bmi'] >= 40), 'bmi_who'] = 5\n",
    "df.head(20)"
   ]
  },
  {
   "cell_type": "markdown",
   "id": "0da38f24",
   "metadata": {},
   "source": [
    "### Divide dataset into two parts (categorical , numerical)"
   ]
  },
  {
   "cell_type": "code",
   "execution_count": 9,
   "id": "29ad7dfe",
   "metadata": {},
   "outputs": [
    {
     "name": "stdout",
     "output_type": "stream",
     "text": [
      "CategoricaL:\n",
      "['sex', 'smoker', 'region']\n",
      "\n",
      "NumericaL:\n",
      "['id', 'age', 'bmi', 'children', 'charges', 'bmi_who']\n"
     ]
    }
   ],
   "source": [
    "categorical, numerical = [],[]\n",
    "for z in df.columns:\n",
    "    t = df.dtypes[z]\n",
    "    if t=='object':\n",
    "        categorical.append(z)\n",
    "    else:\n",
    "        numerical.append(z)\n",
    "print(\"CategoricaL:\\n{}\".format(categorical))\n",
    "print(\"\\nNumericaL:\\n{}\".format(numerical))"
   ]
  },
  {
   "cell_type": "markdown",
   "id": "e08e3726",
   "metadata": {},
   "source": [
    "### Heat map for Correlation coefficient"
   ]
  },
  {
   "cell_type": "code",
   "execution_count": 10,
   "id": "6c879976",
   "metadata": {},
   "outputs": [
    {
     "data": {
      "text/plain": [
       "<AxesSubplot:>"
      ]
     },
     "execution_count": 10,
     "metadata": {},
     "output_type": "execute_result"
    },
    {
     "data": {
      "image/png": "[encoded data removed]",
      "text/plain": [
       "<Figure size 1080x1080 with 2 Axes>"
      ]
     },
     "metadata": {
      "needs_background": "light"
     },
     "output_type": "display_data"
    }
   ],
   "source": [
    "df_corr = df.corr()\n",
    "plt.figure(figsize=(15, 15)) \n",
    "sns.heatmap(df_corr, vmax=1, vmin=-1, center=0, square=True, annot=True)"
   ]
  },
  {
   "cell_type": "markdown",
   "id": "d19c0933",
   "metadata": {},
   "source": [
    "### Scatter plot"
   ]
  },
  {
   "cell_type": "code",
   "execution_count": 11,
   "id": "abca01f1",
   "metadata": {},
   "outputs": [
    {
     "data": {
      "image/png": "[encoded data removed]",
      "text/plain": [
       "<Figure size 2160x5040 with 6 Axes>"
      ]
     },
     "metadata": {
      "needs_background": "light"
     },
     "output_type": "display_data"
    }
   ],
   "source": [
    "# We shall plot these figures\n",
    "plt.figure(figsize=(30, 70))\n",
    "sns.set(font_scale= 2.4)\n",
    "sns.set_style('whitegrid')\n",
    "\n",
    "for i, features in enumerate(numerical):\n",
    "    plt.subplot(10, 4, i+1)\n",
    "    plt.scatter(data=df.iloc[:len(train)], x=features, y='age', color =\"blue\")\n",
    "    plt.xlabel(features)\n",
    "    plt.ylabel('age')\n",
    "    \n",
    "sns.despine()"
   ]
  },
  {
   "cell_type": "code",
   "execution_count": null,
   "id": "6ae2d0e5",
   "metadata": {},
   "outputs": [],
   "source": []
  },
  {
   "cell_type": "markdown",
   "id": "2398b70b",
   "metadata": {},
   "source": [
    "### Creating Dummy values"
   ]
  },
  {
   "cell_type": "code",
   "execution_count": 12,
   "id": "81d8f7de",
   "metadata": {},
   "outputs": [],
   "source": [
    "df =pd.get_dummies(df, columns=categorical, drop_first=True)"
   ]
  },
  {
   "cell_type": "markdown",
   "id": "b3297ab9",
   "metadata": {},
   "source": [
    "### Separate Data"
   ]
  },
  {
   "cell_type": "code",
   "execution_count": 13,
   "id": "75ac8014",
   "metadata": {},
   "outputs": [
    {
     "data": {
      "text/html": [
       "<div>\n",
       "<style scoped>\n",
       "    .dataframe tbody tr th:only-of-type {\n",
       "        vertical-align: middle;\n",
       "    }\n",
       "\n",
       "    .dataframe tbody tr th {\n",
       "        vertical-align: top;\n",
       "    }\n",
       "\n",
       "    .dataframe thead th {\n",
       "        text-align: right;\n",
       "    }\n",
       "</style>\n",
       "<table border=\"1\" class=\"dataframe\">\n",
       "  <thead>\n",
       "    <tr style=\"text-align: right;\">\n",
       "      <th></th>\n",
       "      <th>id</th>\n",
       "      <th>age</th>\n",
       "      <th>bmi</th>\n",
       "      <th>children</th>\n",
       "      <th>charges</th>\n",
       "      <th>bmi_who</th>\n",
       "      <th>sex_male</th>\n",
       "      <th>smoker_yes</th>\n",
       "      <th>region_northwest</th>\n",
       "      <th>region_southeast</th>\n",
       "      <th>region_southwest</th>\n",
       "    </tr>\n",
       "  </thead>\n",
       "  <tbody>\n",
       "    <tr>\n",
       "      <th>0</th>\n",
       "      <td>0</td>\n",
       "      <td>26</td>\n",
       "      <td>32.665465</td>\n",
       "      <td>3</td>\n",
       "      <td>0.0</td>\n",
       "      <td>3.0</td>\n",
       "      <td>1</td>\n",
       "      <td>0</td>\n",
       "      <td>0</td>\n",
       "      <td>1</td>\n",
       "      <td>0</td>\n",
       "    </tr>\n",
       "    <tr>\n",
       "      <th>1</th>\n",
       "      <td>1</td>\n",
       "      <td>41</td>\n",
       "      <td>29.798725</td>\n",
       "      <td>1</td>\n",
       "      <td>0.0</td>\n",
       "      <td>2.0</td>\n",
       "      <td>1</td>\n",
       "      <td>0</td>\n",
       "      <td>0</td>\n",
       "      <td>0</td>\n",
       "      <td>1</td>\n",
       "    </tr>\n",
       "    <tr>\n",
       "      <th>2</th>\n",
       "      <td>2</td>\n",
       "      <td>28</td>\n",
       "      <td>32.722029</td>\n",
       "      <td>0</td>\n",
       "      <td>1.0</td>\n",
       "      <td>3.0</td>\n",
       "      <td>1</td>\n",
       "      <td>1</td>\n",
       "      <td>1</td>\n",
       "      <td>0</td>\n",
       "      <td>0</td>\n",
       "    </tr>\n",
       "    <tr>\n",
       "      <th>3</th>\n",
       "      <td>3</td>\n",
       "      <td>20</td>\n",
       "      <td>38.429831</td>\n",
       "      <td>2</td>\n",
       "      <td>0.0</td>\n",
       "      <td>4.0</td>\n",
       "      <td>0</td>\n",
       "      <td>0</td>\n",
       "      <td>0</td>\n",
       "      <td>1</td>\n",
       "      <td>0</td>\n",
       "    </tr>\n",
       "    <tr>\n",
       "      <th>4</th>\n",
       "      <td>4</td>\n",
       "      <td>45</td>\n",
       "      <td>29.641854</td>\n",
       "      <td>1</td>\n",
       "      <td>0.0</td>\n",
       "      <td>2.0</td>\n",
       "      <td>0</td>\n",
       "      <td>0</td>\n",
       "      <td>1</td>\n",
       "      <td>0</td>\n",
       "      <td>0</td>\n",
       "    </tr>\n",
       "  </tbody>\n",
       "</table>\n",
       "</div>"
      ],
      "text/plain": [
       "   id  age        bmi  children  charges  bmi_who  sex_male  smoker_yes  \\\n",
       "0   0   26  32.665465         3      0.0      3.0         1           0   \n",
       "1   1   41  29.798725         1      0.0      2.0         1           0   \n",
       "2   2   28  32.722029         0      1.0      3.0         1           1   \n",
       "3   3   20  38.429831         2      0.0      4.0         0           0   \n",
       "4   4   45  29.641854         1      0.0      2.0         0           0   \n",
       "\n",
       "   region_northwest  region_southeast  region_southwest  \n",
       "0                 0                 1                 0  \n",
       "1                 0                 0                 1  \n",
       "2                 1                 0                 0  \n",
       "3                 0                 1                 0  \n",
       "4                 1                 0                 0  "
      ]
     },
     "execution_count": 13,
     "metadata": {},
     "output_type": "execute_result"
    }
   ],
   "source": [
    "#df = pd.get_dummies(df)\n",
    "train = df[:len(train)]\n",
    "test = df[len(train):]\n",
    "df.head()"
   ]
  },
  {
   "cell_type": "markdown",
   "id": "c5162a14",
   "metadata": {},
   "source": [
    "### LightGBM"
   ]
  },
  {
   "cell_type": "code",
   "execution_count": 14,
   "id": "904b7f6f",
   "metadata": {},
   "outputs": [],
   "source": [
    "y_train = train['charges']\n",
    "X_train = train.drop(['id','charges'], axis=1)\n",
    "X_test = test.drop(['id','charges'], axis=1)\n"
   ]
  },
  {
   "cell_type": "code",
   "execution_count": 15,
   "id": "537bf39b",
   "metadata": {},
   "outputs": [],
   "source": [
    "import optuna.integration.lightgbm as lgb # Optuna \n",
    "#import lightgbm as lgb \n",
    "from sklearn.model_selection import KFold, StratifiedKFold\n",
    "from sklearn.metrics import f1_score"
   ]
  },
  {
   "cell_type": "code",
   "execution_count": 16,
   "id": "3d442c7d",
   "metadata": {},
   "outputs": [
    {
     "name": "stderr",
     "output_type": "stream",
     "text": [
      "\u001b[32m[I 2021-06-12 21:11:58,650]\u001b[0m A new study created in memory with name: no-name-fab33987-c69b-48c5-bc69-1588052f0f1c\u001b[0m\n",
      "feature_fraction, val_score: inf:   0%|                                                          | 0/7 [00:00<?, ?it/s]"
     ]
    },
    {
     "name": "stdout",
     "output_type": "stream",
     "text": [
      "Training until validation scores don't improve for 10 rounds\n",
      "[100]\ttrain's multi_logloss: 0.37984\teval's multi_logloss: 0.432986\n",
      "[200]\ttrain's multi_logloss: 0.280768\teval's multi_logloss: 0.380267\n",
      "Early stopping, best iteration is:\n",
      "[276]\ttrain's multi_logloss: 0.234577\teval's multi_logloss: 0.365956\n"
     ]
    },
    {
     "name": "stderr",
     "output_type": "stream",
     "text": [
      "feature_fraction, val_score: 0.365956:  14%|######4                                      | 1/7 [00:01<00:06,  1.10s/it]\u001b[32m[I 2021-06-12 21:11:59,760]\u001b[0m Trial 0 finished with value: 0.3659557307186101 and parameters: {'feature_fraction': 0.6}. Best is trial 0 with value: 0.3659557307186101.\u001b[0m\n",
      "feature_fraction, val_score: 0.365956:  14%|######4                                      | 1/7 [00:01<00:06,  1.10s/it]"
     ]
    },
    {
     "name": "stdout",
     "output_type": "stream",
     "text": [
      "Training until validation scores don't improve for 10 rounds\n",
      "[100]\ttrain's multi_logloss: 0.345044\teval's multi_logloss: 0.39215\n",
      "[200]\ttrain's multi_logloss: 0.249504\teval's multi_logloss: 0.356125\n",
      "Early stopping, best iteration is:\n",
      "[225]\ttrain's multi_logloss: 0.233123\teval's multi_logloss: 0.3531\n"
     ]
    },
    {
     "name": "stderr",
     "output_type": "stream",
     "text": [
      "feature_fraction, val_score: 0.353100:  29%|############8                                | 2/7 [00:01<00:04,  1.03it/s]\u001b[32m[I 2021-06-12 21:12:00,642]\u001b[0m Trial 1 finished with value: 0.35309968847730244 and parameters: {'feature_fraction': 0.8999999999999999}. Best is trial 1 with value: 0.35309968847730244.\u001b[0m\n",
      "feature_fraction, val_score: 0.353100:  29%|############8                                | 2/7 [00:01<00:04,  1.03it/s]"
     ]
    },
    {
     "name": "stdout",
     "output_type": "stream",
     "text": [
      "Training until validation scores don't improve for 10 rounds\n",
      "[100]\ttrain's multi_logloss: 0.341052\teval's multi_logloss: 0.385301\n",
      "[200]\ttrain's multi_logloss: 0.246705\teval's multi_logloss: 0.350544\n",
      "Early stopping, best iteration is:\n",
      "[220]\ttrain's multi_logloss: 0.233547\teval's multi_logloss: 0.348134\n"
     ]
    },
    {
     "name": "stderr",
     "output_type": "stream",
     "text": [
      "feature_fraction, val_score: 0.348134:  43%|###################2                         | 3/7 [00:02<00:03,  1.03it/s]\u001b[32m[I 2021-06-12 21:12:01,606]\u001b[0m Trial 2 finished with value: 0.34813377734767054 and parameters: {'feature_fraction': 1.0}. Best is trial 2 with value: 0.34813377734767054.\u001b[0m\n",
      "feature_fraction, val_score: 0.348134:  43%|###################2                         | 3/7 [00:02<00:03,  1.03it/s]"
     ]
    },
    {
     "name": "stdout",
     "output_type": "stream",
     "text": [
      "Training until validation scores don't improve for 10 rounds\n",
      "[100]\ttrain's multi_logloss: 0.37984\teval's multi_logloss: 0.432986\n",
      "[200]\ttrain's multi_logloss: 0.280768\teval's multi_logloss: 0.380267\n"
     ]
    },
    {
     "name": "stderr",
     "output_type": "stream",
     "text": [
      "\r",
      "feature_fraction, val_score: 0.348134:  43%|###################2                         | 3/7 [00:04<00:03,  1.03it/s]"
     ]
    },
    {
     "name": "stdout",
     "output_type": "stream",
     "text": [
      "Early stopping, best iteration is:\n",
      "[276]\ttrain's multi_logloss: 0.234577\teval's multi_logloss: 0.365956\n"
     ]
    },
    {
     "name": "stderr",
     "output_type": "stream",
     "text": [
      "feature_fraction, val_score: 0.348134:  57%|#########################7                   | 4/7 [00:04<00:03,  1.03s/it]\u001b[32m[I 2021-06-12 21:12:02,720]\u001b[0m Trial 3 finished with value: 0.3659557307186101 and parameters: {'feature_fraction': 0.5}. Best is trial 2 with value: 0.34813377734767054.\u001b[0m\n",
      "feature_fraction, val_score: 0.348134:  57%|#########################7                   | 4/7 [00:04<00:03,  1.03s/it]"
     ]
    },
    {
     "name": "stdout",
     "output_type": "stream",
     "text": [
      "Training until validation scores don't improve for 10 rounds\n",
      "[100]\ttrain's multi_logloss: 0.3516\teval's multi_logloss: 0.399054\n",
      "[200]\ttrain's multi_logloss: 0.254276\teval's multi_logloss: 0.357537\n",
      "Early stopping, best iteration is:\n",
      "[241]\ttrain's multi_logloss: 0.227711\teval's multi_logloss: 0.352278\n"
     ]
    },
    {
     "name": "stderr",
     "output_type": "stream",
     "text": [
      "feature_fraction, val_score: 0.348134:  71%|################################1            | 5/7 [00:05<00:02,  1.01s/it]\u001b[32m[I 2021-06-12 21:12:03,694]\u001b[0m Trial 4 finished with value: 0.35227761695396537 and parameters: {'feature_fraction': 0.8}. Best is trial 2 with value: 0.34813377734767054.\u001b[0m\n",
      "feature_fraction, val_score: 0.348134:  71%|################################1            | 5/7 [00:05<00:02,  1.01s/it]"
     ]
    },
    {
     "name": "stdout",
     "output_type": "stream",
     "text": [
      "Training until validation scores don't improve for 10 rounds\n",
      "[100]\ttrain's multi_logloss: 0.481469\teval's multi_logloss: 0.546981\n",
      "[200]\ttrain's multi_logloss: 0.388773\teval's multi_logloss: 0.503611\n",
      "Early stopping, best iteration is:\n",
      "[279]\ttrain's multi_logloss: 0.339319\teval's multi_logloss: 0.484384\n"
     ]
    },
    {
     "name": "stderr",
     "output_type": "stream",
     "text": [
      "feature_fraction, val_score: 0.348134:  86%|######################################5      | 6/7 [00:05<00:00,  1.01it/s]\u001b[32m[I 2021-06-12 21:12:04,644]\u001b[0m Trial 5 finished with value: 0.48438416083551467 and parameters: {'feature_fraction': 0.4}. Best is trial 2 with value: 0.34813377734767054.\u001b[0m\n",
      "feature_fraction, val_score: 0.348134:  86%|######################################5      | 6/7 [00:05<00:00,  1.01it/s]"
     ]
    },
    {
     "name": "stdout",
     "output_type": "stream",
     "text": [
      "Training until validation scores don't improve for 10 rounds\n",
      "[100]\ttrain's multi_logloss: 0.364245\teval's multi_logloss: 0.414978\n",
      "[200]\ttrain's multi_logloss: 0.265242\teval's multi_logloss: 0.366107\n",
      "Early stopping, best iteration is:\n",
      "[257]\ttrain's multi_logloss: 0.229109\teval's multi_logloss: 0.35894\n"
     ]
    },
    {
     "name": "stderr",
     "output_type": "stream",
     "text": [
      "feature_fraction, val_score: 0.348134: 100%|#############################################| 7/7 [00:06<00:00,  1.03it/s]\u001b[32m[I 2021-06-12 21:12:05,587]\u001b[0m Trial 6 finished with value: 0.3589395805842727 and parameters: {'feature_fraction': 0.7}. Best is trial 2 with value: 0.34813377734767054.\u001b[0m\n",
      "feature_fraction, val_score: 0.348134: 100%|#############################################| 7/7 [00:06<00:00,  1.01it/s]\n",
      "num_leaves, val_score: 0.348134:   0%|                                                          | 0/20 [00:00<?, ?it/s]"
     ]
    },
    {
     "name": "stdout",
     "output_type": "stream",
     "text": [
      "Training until validation scores don't improve for 10 rounds\n",
      "[100]\ttrain's multi_logloss: 0.414792\teval's multi_logloss: 0.406533\n",
      "[200]\ttrain's multi_logloss: 0.370958\teval's multi_logloss: 0.36887\n",
      "[300]\ttrain's multi_logloss: 0.350392\teval's multi_logloss: 0.35756\n"
     ]
    },
    {
     "name": "stderr",
     "output_type": "stream",
     "text": [
      "num_leaves, val_score: 0.348134:   5%|##5                                               | 1/20 [00:00<00:04,  3.94it/s]\u001b[32m[I 2021-06-12 21:12:05,850]\u001b[0m Trial 7 finished with value: 0.35746198870603463 and parameters: {'num_leaves': 3}. Best is trial 7 with value: 0.35746198870603463.\u001b[0m\n",
      "num_leaves, val_score: 0.348134:   5%|##5                                               | 1/20 [00:00<00:04,  3.94it/s]"
     ]
    },
    {
     "name": "stdout",
     "output_type": "stream",
     "text": [
      "Early stopping, best iteration is:\n",
      "[303]\ttrain's multi_logloss: 0.349956\teval's multi_logloss: 0.357462\n",
      "Training until validation scores don't improve for 10 rounds\n",
      "[100]\ttrain's multi_logloss: 0.341052\teval's multi_logloss: 0.385301\n",
      "[200]\ttrain's multi_logloss: 0.246513\teval's multi_logloss: 0.350607\n",
      "Early stopping, best iteration is:\n",
      "[220]\ttrain's multi_logloss: 0.233197\teval's multi_logloss: 0.348231\n"
     ]
    },
    {
     "name": "stderr",
     "output_type": "stream",
     "text": [
      "num_leaves, val_score: 0.348134:  10%|#####                                             | 2/20 [00:01<00:10,  1.76it/s]\u001b[32m[I 2021-06-12 21:12:06,640]\u001b[0m Trial 8 finished with value: 0.34823068614142144 and parameters: {'num_leaves': 55}. Best is trial 8 with value: 0.34823068614142144.\u001b[0m\n",
      "num_leaves, val_score: 0.348134:  10%|#####                                             | 2/20 [00:01<00:10,  1.76it/s]"
     ]
    },
    {
     "name": "stdout",
     "output_type": "stream",
     "text": [
      "Training until validation scores don't improve for 10 rounds\n",
      "[100]\ttrain's multi_logloss: 0.341052\teval's multi_logloss: 0.385301\n",
      "[200]\ttrain's multi_logloss: 0.246513\teval's multi_logloss: 0.350607\n",
      "Early stopping, best iteration is:\n",
      "[220]\ttrain's multi_logloss: 0.233197\teval's multi_logloss: 0.348231\n"
     ]
    },
    {
     "name": "stderr",
     "output_type": "stream",
     "text": [
      "num_leaves, val_score: 0.348134:  15%|#######5                                          | 3/20 [00:01<00:12,  1.40it/s]\u001b[32m[I 2021-06-12 21:12:07,528]\u001b[0m Trial 9 finished with value: 0.34823068614142144 and parameters: {'num_leaves': 196}. Best is trial 8 with value: 0.34823068614142144.\u001b[0m\n",
      "num_leaves, val_score: 0.348134:  15%|#######5                                          | 3/20 [00:01<00:12,  1.40it/s]"
     ]
    },
    {
     "name": "stdout",
     "output_type": "stream",
     "text": [
      "Training until validation scores don't improve for 10 rounds\n",
      "[100]\ttrain's multi_logloss: 0.391752\teval's multi_logloss: 0.389953\n",
      "[200]\ttrain's multi_logloss: 0.339984\teval's multi_logloss: 0.352114\n"
     ]
    },
    {
     "name": "stderr",
     "output_type": "stream",
     "text": [
      "num_leaves, val_score: 0.345462:  20%|##########                                        | 4/20 [00:02<00:08,  1.82it/s]\u001b[32m[I 2021-06-12 21:12:07,824]\u001b[0m Trial 10 finished with value: 0.3454622173932564 and parameters: {'num_leaves': 5}. Best is trial 10 with value: 0.3454622173932564.\u001b[0m\n",
      "num_leaves, val_score: 0.345462:  20%|##########                                        | 4/20 [00:02<00:08,  1.82it/s]"
     ]
    },
    {
     "name": "stdout",
     "output_type": "stream",
     "text": [
      "Early stopping, best iteration is:\n",
      "[274]\ttrain's multi_logloss: 0.32093\teval's multi_logloss: 0.345462\n",
      "Training until validation scores don't improve for 10 rounds\n",
      "[100]\ttrain's multi_logloss: 0.341052\teval's multi_logloss: 0.385301\n",
      "[200]\ttrain's multi_logloss: 0.246513\teval's multi_logloss: 0.350607\n",
      "Early stopping, best iteration is:\n",
      "[220]\ttrain's multi_logloss: 0.233197\teval's multi_logloss: 0.348231\n"
     ]
    },
    {
     "name": "stderr",
     "output_type": "stream",
     "text": [
      "num_leaves, val_score: 0.345462:  25%|############5                                     | 5/20 [00:03<00:10,  1.48it/s]\u001b[32m[I 2021-06-12 21:12:08,720]\u001b[0m Trial 11 finished with value: 0.34823068614142144 and parameters: {'num_leaves': 122}. Best is trial 10 with value: 0.3454622173932564.\u001b[0m\n",
      "num_leaves, val_score: 0.345462:  25%|############5                                     | 5/20 [00:03<00:10,  1.48it/s]"
     ]
    },
    {
     "name": "stdout",
     "output_type": "stream",
     "text": [
      "Training until validation scores don't improve for 10 rounds\n",
      "[100]\ttrain's multi_logloss: 0.341052\teval's multi_logloss: 0.385301\n",
      "[200]\ttrain's multi_logloss: 0.246513\teval's multi_logloss: 0.350607\n",
      "Early stopping, best iteration is:\n",
      "[220]\ttrain's multi_logloss: 0.233197\teval's multi_logloss: 0.348231\n"
     ]
    },
    {
     "name": "stderr",
     "output_type": "stream",
     "text": [
      "num_leaves, val_score: 0.345462:  30%|###############                                   | 6/20 [00:03<00:10,  1.37it/s]\u001b[32m[I 2021-06-12 21:12:09,552]\u001b[0m Trial 12 finished with value: 0.34823068614142144 and parameters: {'num_leaves': 242}. Best is trial 10 with value: 0.3454622173932564.\u001b[0m\n",
      "num_leaves, val_score: 0.345462:  30%|###############                                   | 6/20 [00:03<00:10,  1.37it/s]"
     ]
    },
    {
     "name": "stdout",
     "output_type": "stream",
     "text": [
      "Training until validation scores don't improve for 10 rounds\n",
      "[100]\ttrain's multi_logloss: 0.341052\teval's multi_logloss: 0.385301\n",
      "[200]\ttrain's multi_logloss: 0.246513\teval's multi_logloss: 0.350607\n",
      "Early stopping, best iteration is:\n",
      "[220]\ttrain's multi_logloss: 0.233197\teval's multi_logloss: 0.348231\n"
     ]
    },
    {
     "name": "stderr",
     "output_type": "stream",
     "text": [
      "num_leaves, val_score: 0.345462:  35%|#################5                                | 7/20 [00:04<00:10,  1.28it/s]\u001b[32m[I 2021-06-12 21:12:10,444]\u001b[0m Trial 13 finished with value: 0.34823068614142144 and parameters: {'num_leaves': 212}. Best is trial 10 with value: 0.3454622173932564.\u001b[0m\n",
      "num_leaves, val_score: 0.345462:  35%|#################5                                | 7/20 [00:04<00:10,  1.28it/s]"
     ]
    },
    {
     "name": "stdout",
     "output_type": "stream",
     "text": [
      "Training until validation scores don't improve for 10 rounds\n",
      "[100]\ttrain's multi_logloss: 0.341052\teval's multi_logloss: 0.385301\n",
      "[200]\ttrain's multi_logloss: 0.246513\teval's multi_logloss: 0.350607\n",
      "Early stopping, best iteration is:\n",
      "[220]\ttrain's multi_logloss: 0.233197\teval's multi_logloss: 0.348231\n"
     ]
    },
    {
     "name": "stderr",
     "output_type": "stream",
     "text": [
      "num_leaves, val_score: 0.345462:  40%|####################                              | 8/20 [00:05<00:09,  1.24it/s]\u001b[32m[I 2021-06-12 21:12:11,313]\u001b[0m Trial 14 finished with value: 0.34823068614142144 and parameters: {'num_leaves': 211}. Best is trial 10 with value: 0.3454622173932564.\u001b[0m\n",
      "num_leaves, val_score: 0.345462:  40%|####################                              | 8/20 [00:05<00:09,  1.24it/s]"
     ]
    },
    {
     "name": "stdout",
     "output_type": "stream",
     "text": [
      "Training until validation scores don't improve for 10 rounds\n",
      "[100]\ttrain's multi_logloss: 0.341052\teval's multi_logloss: 0.385301\n",
      "[200]\ttrain's multi_logloss: 0.246513\teval's multi_logloss: 0.350607\n",
      "Early stopping, best iteration is:\n",
      "[220]\ttrain's multi_logloss: 0.233197\teval's multi_logloss: 0.348231\n"
     ]
    },
    {
     "name": "stderr",
     "output_type": "stream",
     "text": [
      "num_leaves, val_score: 0.345462:  45%|######################5                           | 9/20 [00:06<00:08,  1.23it/s]\u001b[32m[I 2021-06-12 21:12:12,133]\u001b[0m Trial 15 finished with value: 0.34823068614142144 and parameters: {'num_leaves': 144}. Best is trial 10 with value: 0.3454622173932564.\u001b[0m\n",
      "num_leaves, val_score: 0.345462:  45%|######################5                           | 9/20 [00:06<00:08,  1.23it/s]"
     ]
    },
    {
     "name": "stdout",
     "output_type": "stream",
     "text": [
      "Training until validation scores don't improve for 10 rounds\n",
      "[100]\ttrain's multi_logloss: 0.341052\teval's multi_logloss: 0.385301\n",
      "[200]\ttrain's multi_logloss: 0.246513\teval's multi_logloss: 0.350607\n",
      "Early stopping, best iteration is:\n",
      "[220]\ttrain's multi_logloss: 0.233197\teval's multi_logloss: 0.348231\n"
     ]
    },
    {
     "name": "stderr",
     "output_type": "stream",
     "text": [
      "num_leaves, val_score: 0.345462:  50%|########################5                        | 10/20 [00:07<00:08,  1.22it/s]\u001b[32m[I 2021-06-12 21:12:12,958]\u001b[0m Trial 16 finished with value: 0.34823068614142144 and parameters: {'num_leaves': 221}. Best is trial 10 with value: 0.3454622173932564.\u001b[0m\n",
      "num_leaves, val_score: 0.345462:  50%|########################5                        | 10/20 [00:07<00:08,  1.22it/s]"
     ]
    },
    {
     "name": "stdout",
     "output_type": "stream",
     "text": [
      "Training until validation scores don't improve for 10 rounds\n",
      "[100]\ttrain's multi_logloss: 0.365961\teval's multi_logloss: 0.387791\n"
     ]
    },
    {
     "name": "stderr",
     "output_type": "stream",
     "text": [
      "num_leaves, val_score: 0.345462:  55%|##########################9                      | 11/20 [00:07<00:06,  1.44it/s]\u001b[32m[I 2021-06-12 21:12:13,385]\u001b[0m Trial 17 finished with value: 0.3487608117184331 and parameters: {'num_leaves': 10}. Best is trial 10 with value: 0.3454622173932564.\u001b[0m\n",
      "num_leaves, val_score: 0.345462:  55%|##########################9                      | 11/20 [00:07<00:06,  1.44it/s]"
     ]
    },
    {
     "name": "stdout",
     "output_type": "stream",
     "text": [
      "[200]\ttrain's multi_logloss: 0.29854\teval's multi_logloss: 0.35105\n",
      "Early stopping, best iteration is:\n",
      "[235]\ttrain's multi_logloss: 0.28465\teval's multi_logloss: 0.348761\n",
      "Training until validation scores don't improve for 10 rounds\n",
      "[100]\ttrain's multi_logloss: 0.341052\teval's multi_logloss: 0.385301\n",
      "[200]\ttrain's multi_logloss: 0.246513\teval's multi_logloss: 0.350607\n",
      "Early stopping, best iteration is:\n",
      "[220]\ttrain's multi_logloss: 0.233197\teval's multi_logloss: 0.348231\n"
     ]
    },
    {
     "name": "stderr",
     "output_type": "stream",
     "text": [
      "num_leaves, val_score: 0.345462:  60%|#############################4                   | 12/20 [00:08<00:05,  1.37it/s]\u001b[32m[I 2021-06-12 21:12:14,198]\u001b[0m Trial 18 finished with value: 0.34823068614142144 and parameters: {'num_leaves': 57}. Best is trial 10 with value: 0.3454622173932564.\u001b[0m\n",
      "num_leaves, val_score: 0.345462:  60%|#############################4                   | 12/20 [00:08<00:05,  1.37it/s]"
     ]
    },
    {
     "name": "stdout",
     "output_type": "stream",
     "text": [
      "Training until validation scores don't improve for 10 rounds\n",
      "[100]\ttrain's multi_logloss: 0.341052\teval's multi_logloss: 0.385301\n",
      "[200]\ttrain's multi_logloss: 0.246513\teval's multi_logloss: 0.350607\n",
      "Early stopping, best iteration is:\n",
      "[220]\ttrain's multi_logloss: 0.233197\teval's multi_logloss: 0.348231\n"
     ]
    },
    {
     "name": "stderr",
     "output_type": "stream",
     "text": [
      "num_leaves, val_score: 0.345462:  65%|###############################8                 | 13/20 [00:09<00:05,  1.25it/s]\u001b[32m[I 2021-06-12 21:12:15,163]\u001b[0m Trial 19 finished with value: 0.34823068614142144 and parameters: {'num_leaves': 61}. Best is trial 10 with value: 0.3454622173932564.\u001b[0m\n",
      "num_leaves, val_score: 0.345462:  65%|###############################8                 | 13/20 [00:09<00:05,  1.25it/s]"
     ]
    },
    {
     "name": "stdout",
     "output_type": "stream",
     "text": [
      "Training until validation scores don't improve for 10 rounds\n",
      "[100]\ttrain's multi_logloss: 0.341052\teval's multi_logloss: 0.385301\n",
      "[200]\ttrain's multi_logloss: 0.246513\teval's multi_logloss: 0.350607\n",
      "Early stopping, best iteration is:\n",
      "[220]\ttrain's multi_logloss: 0.233197\teval's multi_logloss: 0.348231\n"
     ]
    },
    {
     "name": "stderr",
     "output_type": "stream",
     "text": [
      "num_leaves, val_score: 0.345462:  70%|##################################3              | 14/20 [00:10<00:05,  1.19it/s]\u001b[32m[I 2021-06-12 21:12:16,081]\u001b[0m Trial 20 finished with value: 0.34823068614142144 and parameters: {'num_leaves': 48}. Best is trial 10 with value: 0.3454622173932564.\u001b[0m\n",
      "num_leaves, val_score: 0.345462:  70%|##################################3              | 14/20 [00:10<00:05,  1.19it/s]"
     ]
    },
    {
     "name": "stdout",
     "output_type": "stream",
     "text": [
      "Training until validation scores don't improve for 10 rounds\n",
      "[100]\ttrain's multi_logloss: 0.341052\teval's multi_logloss: 0.385301\n",
      "[200]\ttrain's multi_logloss: 0.246513\teval's multi_logloss: 0.350607\n",
      "Early stopping, best iteration is:\n",
      "[220]\ttrain's multi_logloss: 0.233197\teval's multi_logloss: 0.348231\n"
     ]
    },
    {
     "name": "stderr",
     "output_type": "stream",
     "text": [
      "num_leaves, val_score: 0.345462:  75%|####################################7            | 15/20 [00:11<00:04,  1.20it/s]\u001b[32m[I 2021-06-12 21:12:16,895]\u001b[0m Trial 21 finished with value: 0.34823068614142144 and parameters: {'num_leaves': 104}. Best is trial 10 with value: 0.3454622173932564.\u001b[0m\n",
      "num_leaves, val_score: 0.345462:  75%|####################################7            | 15/20 [00:11<00:04,  1.20it/s]"
     ]
    },
    {
     "name": "stdout",
     "output_type": "stream",
     "text": [
      "Training until validation scores don't improve for 10 rounds\n",
      "[100]\ttrain's multi_logloss: 0.341383\teval's multi_logloss: 0.385535\n",
      "[200]\ttrain's multi_logloss: 0.248483\teval's multi_logloss: 0.350974\n",
      "Early stopping, best iteration is:\n",
      "[226]\ttrain's multi_logloss: 0.231727\teval's multi_logloss: 0.348845\n"
     ]
    },
    {
     "name": "stderr",
     "output_type": "stream",
     "text": [
      "num_leaves, val_score: 0.345462:  80%|#######################################2         | 16/20 [00:12<00:03,  1.23it/s]\u001b[32m[I 2021-06-12 21:12:17,679]\u001b[0m Trial 22 finished with value: 0.3488449648802967 and parameters: {'num_leaves': 29}. Best is trial 10 with value: 0.3454622173932564.\u001b[0m\n",
      "num_leaves, val_score: 0.345462:  80%|#######################################2         | 16/20 [00:12<00:03,  1.23it/s]"
     ]
    },
    {
     "name": "stdout",
     "output_type": "stream",
     "text": [
      "Training until validation scores don't improve for 10 rounds\n",
      "[100]\ttrain's multi_logloss: 0.341052\teval's multi_logloss: 0.385301\n",
      "[200]\ttrain's multi_logloss: 0.246513\teval's multi_logloss: 0.350607\n",
      "Early stopping, best iteration is:\n",
      "[220]\ttrain's multi_logloss: 0.233197\teval's multi_logloss: 0.348231\n"
     ]
    },
    {
     "name": "stderr",
     "output_type": "stream",
     "text": [
      "num_leaves, val_score: 0.345462:  85%|#########################################6       | 17/20 [00:12<00:02,  1.20it/s]\u001b[32m[I 2021-06-12 21:12:18,551]\u001b[0m Trial 23 finished with value: 0.34823068614142144 and parameters: {'num_leaves': 86}. Best is trial 10 with value: 0.3454622173932564.\u001b[0m\n",
      "num_leaves, val_score: 0.345462:  85%|#########################################6       | 17/20 [00:12<00:02,  1.20it/s]"
     ]
    },
    {
     "name": "stdout",
     "output_type": "stream",
     "text": [
      "Training until validation scores don't improve for 10 rounds\n",
      "[100]\ttrain's multi_logloss: 0.341052\teval's multi_logloss: 0.385301\n",
      "[200]\ttrain's multi_logloss: 0.246513\teval's multi_logloss: 0.350607\n",
      "Early stopping, best iteration is:\n",
      "[220]\ttrain's multi_logloss: 0.233197\teval's multi_logloss: 0.348231\n"
     ]
    },
    {
     "name": "stderr",
     "output_type": "stream",
     "text": [
      "num_leaves, val_score: 0.345462:  90%|############################################1    | 18/20 [00:13<00:01,  1.18it/s]\u001b[32m[I 2021-06-12 21:12:19,442]\u001b[0m Trial 24 finished with value: 0.34823068614142144 and parameters: {'num_leaves': 163}. Best is trial 10 with value: 0.3454622173932564.\u001b[0m\n",
      "num_leaves, val_score: 0.345462:  90%|############################################1    | 18/20 [00:13<00:01,  1.18it/s]"
     ]
    },
    {
     "name": "stdout",
     "output_type": "stream",
     "text": [
      "Training until validation scores don't improve for 10 rounds\n",
      "[100]\ttrain's multi_logloss: 0.341052\teval's multi_logloss: 0.385301\n",
      "[200]\ttrain's multi_logloss: 0.246513\teval's multi_logloss: 0.350607\n",
      "Early stopping, best iteration is:\n",
      "[220]\ttrain's multi_logloss: 0.233197\teval's multi_logloss: 0.348231\n"
     ]
    },
    {
     "name": "stderr",
     "output_type": "stream",
     "text": [
      "num_leaves, val_score: 0.345462:  95%|##############################################5  | 19/20 [00:14<00:00,  1.18it/s]\u001b[32m[I 2021-06-12 21:12:20,286]\u001b[0m Trial 25 finished with value: 0.34823068614142144 and parameters: {'num_leaves': 168}. Best is trial 10 with value: 0.3454622173932564.\u001b[0m\n",
      "num_leaves, val_score: 0.345462:  95%|##############################################5  | 19/20 [00:14<00:00,  1.18it/s]"
     ]
    },
    {
     "name": "stdout",
     "output_type": "stream",
     "text": [
      "Training until validation scores don't improve for 10 rounds\n",
      "[100]\ttrain's multi_logloss: 0.341052\teval's multi_logloss: 0.385301\n",
      "[200]\ttrain's multi_logloss: 0.246513\teval's multi_logloss: 0.350607\n",
      "Early stopping, best iteration is:\n",
      "[220]\ttrain's multi_logloss: 0.233197\teval's multi_logloss: 0.348231\n"
     ]
    },
    {
     "name": "stderr",
     "output_type": "stream",
     "text": [
      "num_leaves, val_score: 0.345462: 100%|#################################################| 20/20 [00:15<00:00,  1.08it/s]\u001b[32m[I 2021-06-12 21:12:21,396]\u001b[0m Trial 26 finished with value: 0.34823068614142144 and parameters: {'num_leaves': 250}. Best is trial 10 with value: 0.3454622173932564.\u001b[0m\n",
      "num_leaves, val_score: 0.345462: 100%|#################################################| 20/20 [00:15<00:00,  1.27it/s]\n",
      "bagging, val_score: 0.345462:   0%|                                                             | 0/10 [00:00<?, ?it/s]"
     ]
    },
    {
     "name": "stdout",
     "output_type": "stream",
     "text": [
      "Training until validation scores don't improve for 10 rounds\n",
      "[100]\ttrain's multi_logloss: 0.394054\teval's multi_logloss: 0.395849\n"
     ]
    },
    {
     "name": "stderr",
     "output_type": "stream",
     "text": [
      "bagging, val_score: 0.345462:  10%|#####3                                               | 1/10 [00:00<00:03,  2.78it/s]\u001b[32m[I 2021-06-12 21:12:21,768]\u001b[0m Trial 27 finished with value: 0.35218642985438264 and parameters: {'bagging_fraction': 0.4068870787168876, 'bagging_freq': 6}. Best is trial 27 with value: 0.35218642985438264.\u001b[0m\n",
      "bagging, val_score: 0.345462:  10%|#####3                                               | 1/10 [00:00<00:03,  2.78it/s]"
     ]
    },
    {
     "name": "stdout",
     "output_type": "stream",
     "text": [
      "[200]\ttrain's multi_logloss: 0.343639\teval's multi_logloss: 0.359072\n",
      "Early stopping, best iteration is:\n",
      "[264]\ttrain's multi_logloss: 0.327042\teval's multi_logloss: 0.352186\n",
      "Training until validation scores don't improve for 10 rounds\n"
     ]
    },
    {
     "name": "stderr",
     "output_type": "stream",
     "text": [
      "\r",
      "bagging, val_score: 0.345367:  10%|#####3                                               | 1/10 [00:00<00:03,  2.78it/s]"
     ]
    },
    {
     "name": "stdout",
     "output_type": "stream",
     "text": [
      "[100]\ttrain's multi_logloss: 0.390516\teval's multi_logloss: 0.38998\n",
      "[200]\ttrain's multi_logloss: 0.338976\teval's multi_logloss: 0.350041\n",
      "Early stopping, best iteration is:\n",
      "[240]\ttrain's multi_logloss: 0.327642\teval's multi_logloss: 0.345367\n"
     ]
    },
    {
     "name": "stderr",
     "output_type": "stream",
     "text": [
      "bagging, val_score: 0.345367:  20%|##########6                                          | 2/10 [00:00<00:02,  2.92it/s]\u001b[32m[I 2021-06-12 21:12:22,098]\u001b[0m Trial 28 finished with value: 0.34536688782227926 and parameters: {'bagging_fraction': 0.9125017523581556, 'bagging_freq': 6}. Best is trial 28 with value: 0.34536688782227926.\u001b[0m\n",
      "bagging, val_score: 0.345367:  20%|##########6                                          | 2/10 [00:00<00:02,  2.92it/s]"
     ]
    },
    {
     "name": "stdout",
     "output_type": "stream",
     "text": [
      "Training until validation scores don't improve for 10 rounds\n",
      "[100]\ttrain's multi_logloss: 0.390992\teval's multi_logloss: 0.388922\n",
      "[200]\ttrain's multi_logloss: 0.338798\teval's multi_logloss: 0.351059\n"
     ]
    },
    {
     "name": "stderr",
     "output_type": "stream",
     "text": [
      "bagging, val_score: 0.345176:  30%|###############9                                     | 3/10 [00:01<00:02,  2.73it/s]\u001b[32m[I 2021-06-12 21:12:22,493]\u001b[0m Trial 29 finished with value: 0.345176088692905 and parameters: {'bagging_fraction': 0.905002829955327, 'bagging_freq': 2}. Best is trial 29 with value: 0.345176088692905.\u001b[0m\n",
      "bagging, val_score: 0.345176:  30%|###############9                                     | 3/10 [00:01<00:02,  2.73it/s]"
     ]
    },
    {
     "name": "stdout",
     "output_type": "stream",
     "text": [
      "[300]\ttrain's multi_logloss: 0.313823\teval's multi_logloss: 0.345337\n",
      "Early stopping, best iteration is:\n",
      "[302]\ttrain's multi_logloss: 0.313466\teval's multi_logloss: 0.345176\n",
      "Training until validation scores don't improve for 10 rounds\n",
      "[100]\ttrain's multi_logloss: 0.391087\teval's multi_logloss: 0.389441\n"
     ]
    },
    {
     "name": "stderr",
     "output_type": "stream",
     "text": [
      "bagging, val_score: 0.345176:  40%|#####################2                               | 4/10 [00:01<00:02,  2.89it/s]\u001b[32m[I 2021-06-12 21:12:22,810]\u001b[0m Trial 30 finished with value: 0.3462642136851978 and parameters: {'bagging_fraction': 0.8903650386085882, 'bagging_freq': 7}. Best is trial 29 with value: 0.345176088692905.\u001b[0m\n",
      "bagging, val_score: 0.345176:  40%|#####################2                               | 4/10 [00:01<00:02,  2.89it/s]"
     ]
    },
    {
     "name": "stdout",
     "output_type": "stream",
     "text": [
      "[200]\ttrain's multi_logloss: 0.338763\teval's multi_logloss: 0.350049\n",
      "Early stopping, best iteration is:\n",
      "[239]\ttrain's multi_logloss: 0.327938\teval's multi_logloss: 0.346264\n",
      "Training until validation scores don't improve for 10 rounds\n",
      "[100]\ttrain's multi_logloss: 0.390749\teval's multi_logloss: 0.390411\n",
      "[200]\ttrain's multi_logloss: 0.338457\teval's multi_logloss: 0.352836\n"
     ]
    },
    {
     "name": "stderr",
     "output_type": "stream",
     "text": [
      "bagging, val_score: 0.345176:  50%|##########################5                          | 5/10 [00:01<00:01,  2.74it/s]\u001b[32m[I 2021-06-12 21:12:23,208]\u001b[0m Trial 31 finished with value: 0.3476443112362934 and parameters: {'bagging_fraction': 0.7815966905753882, 'bagging_freq': 1}. Best is trial 29 with value: 0.345176088692905.\u001b[0m\n",
      "bagging, val_score: 0.345176:  50%|##########################5                          | 5/10 [00:01<00:01,  2.74it/s]"
     ]
    },
    {
     "name": "stdout",
     "output_type": "stream",
     "text": [
      "Early stopping, best iteration is:\n",
      "[263]\ttrain's multi_logloss: 0.320912\teval's multi_logloss: 0.347644\n",
      "Training until validation scores don't improve for 10 rounds\n",
      "[100]\ttrain's multi_logloss: 0.391431\teval's multi_logloss: 0.388785\n"
     ]
    },
    {
     "name": "stderr",
     "output_type": "stream",
     "text": [
      "bagging, val_score: 0.342982:  60%|###############################8                     | 6/10 [00:02<00:01,  2.69it/s]\u001b[32m[I 2021-06-12 21:12:23,592]\u001b[0m Trial 32 finished with value: 0.34298182844914826 and parameters: {'bagging_fraction': 0.9579553740840215, 'bagging_freq': 6}. Best is trial 32 with value: 0.34298182844914826.\u001b[0m\n",
      "bagging, val_score: 0.342982:  60%|###############################8                     | 6/10 [00:02<00:01,  2.69it/s]"
     ]
    },
    {
     "name": "stdout",
     "output_type": "stream",
     "text": [
      "[200]\ttrain's multi_logloss: 0.339752\teval's multi_logloss: 0.349078\n",
      "Early stopping, best iteration is:\n",
      "[274]\ttrain's multi_logloss: 0.32092\teval's multi_logloss: 0.342982\n",
      "Training until validation scores don't improve for 10 rounds\n"
     ]
    },
    {
     "name": "stderr",
     "output_type": "stream",
     "text": [
      "bagging, val_score: 0.342982:  70%|#####################################                | 7/10 [00:02<00:01,  2.95it/s]\u001b[32m[I 2021-06-12 21:12:23,864]\u001b[0m Trial 33 finished with value: 0.3487812673459692 and parameters: {'bagging_fraction': 0.6059944673865405, 'bagging_freq': 7}. Best is trial 32 with value: 0.34298182844914826.\u001b[0m\n",
      "bagging, val_score: 0.342982:  70%|#####################################                | 7/10 [00:02<00:01,  2.95it/s]"
     ]
    },
    {
     "name": "stdout",
     "output_type": "stream",
     "text": [
      "[100]\ttrain's multi_logloss: 0.392111\teval's multi_logloss: 0.392325\n",
      "[200]\ttrain's multi_logloss: 0.339848\teval's multi_logloss: 0.352944\n",
      "Early stopping, best iteration is:\n",
      "[238]\ttrain's multi_logloss: 0.328771\teval's multi_logloss: 0.348781\n",
      "Training until validation scores don't improve for 10 rounds\n",
      "[100]\ttrain's multi_logloss: 0.39165\teval's multi_logloss: 0.389648\n",
      "[200]\ttrain's multi_logloss: 0.339767\teval's multi_logloss: 0.350115\n",
      "Early stopping, best iteration is:\n",
      "[264]\ttrain's multi_logloss: 0.32269\teval's multi_logloss: 0.346135\n"
     ]
    },
    {
     "name": "stderr",
     "output_type": "stream",
     "text": [
      "bagging, val_score: 0.342982:  80%|##########################################4          | 8/10 [00:02<00:00,  2.99it/s]\u001b[32m[I 2021-06-12 21:12:24,190]\u001b[0m Trial 34 finished with value: 0.3461348035932575 and parameters: {'bagging_fraction': 0.8617374949720871, 'bagging_freq': 6}. Best is trial 32 with value: 0.34298182844914826.\u001b[0m\n",
      "bagging, val_score: 0.342982:  80%|##########################################4          | 8/10 [00:02<00:00,  2.99it/s]"
     ]
    },
    {
     "name": "stdout",
     "output_type": "stream",
     "text": [
      "Training until validation scores don't improve for 10 rounds\n",
      "[100]\ttrain's multi_logloss: 0.391532\teval's multi_logloss: 0.388921\n",
      "[200]\ttrain's multi_logloss: 0.339883\teval's multi_logloss: 0.35344\n"
     ]
    },
    {
     "name": "stderr",
     "output_type": "stream",
     "text": [
      "bagging, val_score: 0.342982:  90%|###############################################7     | 9/10 [00:03<00:00,  3.17it/s]\u001b[32m[I 2021-06-12 21:12:24,461]\u001b[0m Trial 35 finished with value: 0.3495226488558659 and parameters: {'bagging_fraction': 0.5339027689022887, 'bagging_freq': 4}. Best is trial 32 with value: 0.34298182844914826.\u001b[0m\n",
      "bagging, val_score: 0.342982:  90%|###############################################7     | 9/10 [00:03<00:00,  3.17it/s]"
     ]
    },
    {
     "name": "stdout",
     "output_type": "stream",
     "text": [
      "Early stopping, best iteration is:\n",
      "[240]\ttrain's multi_logloss: 0.328309\teval's multi_logloss: 0.349523\n",
      "Training until validation scores don't improve for 10 rounds\n",
      "[100]\ttrain's multi_logloss: 0.392987\teval's multi_logloss: 0.392494\n"
     ]
    },
    {
     "name": "stderr",
     "output_type": "stream",
     "text": [
      "bagging, val_score: 0.342982: 100%|####################################################| 10/10 [00:03<00:00,  3.37it/s]\u001b[32m[I 2021-06-12 21:12:24,717]\u001b[0m Trial 36 finished with value: 0.35108816257375464 and parameters: {'bagging_fraction': 0.6040376061327049, 'bagging_freq': 6}. Best is trial 32 with value: 0.34298182844914826.\u001b[0m\n",
      "bagging, val_score: 0.342982: 100%|####################################################| 10/10 [00:03<00:00,  3.02it/s]\n",
      "feature_fraction_stage2, val_score: 0.342982:   0%|                                              | 0/3 [00:00<?, ?it/s]"
     ]
    },
    {
     "name": "stdout",
     "output_type": "stream",
     "text": [
      "[200]\ttrain's multi_logloss: 0.340752\teval's multi_logloss: 0.352725\n",
      "Early stopping, best iteration is:\n",
      "[215]\ttrain's multi_logloss: 0.336209\teval's multi_logloss: 0.351088\n",
      "Training until validation scores don't improve for 10 rounds\n",
      "[100]\ttrain's multi_logloss: 0.39608\teval's multi_logloss: 0.395874\n"
     ]
    },
    {
     "name": "stderr",
     "output_type": "stream",
     "text": [
      "feature_fraction_stage2, val_score: 0.342982:  33%|############6                         | 1/3 [00:00<00:00,  3.29it/s]\u001b[32m[I 2021-06-12 21:12:25,032]\u001b[0m Trial 37 finished with value: 0.3461393615294911 and parameters: {'feature_fraction': 0.92}. Best is trial 37 with value: 0.3461393615294911.\u001b[0m\n",
      "feature_fraction_stage2, val_score: 0.342982:  33%|############6                         | 1/3 [00:00<00:00,  3.29it/s]"
     ]
    },
    {
     "name": "stdout",
     "output_type": "stream",
     "text": [
      "[200]\ttrain's multi_logloss: 0.341499\teval's multi_logloss: 0.352768\n",
      "Early stopping, best iteration is:\n",
      "[268]\ttrain's multi_logloss: 0.323688\teval's multi_logloss: 0.346139\n",
      "Training until validation scores don't improve for 10 rounds\n"
     ]
    },
    {
     "name": "stderr",
     "output_type": "stream",
     "text": [
      "\r",
      "feature_fraction_stage2, val_score: 0.342982:  33%|############6                         | 1/3 [00:00<00:00,  3.29it/s]"
     ]
    },
    {
     "name": "stdout",
     "output_type": "stream",
     "text": [
      "[100]\ttrain's multi_logloss: 0.391431\teval's multi_logloss: 0.388785\n",
      "[200]\ttrain's multi_logloss: 0.339752\teval's multi_logloss: 0.349078\n",
      "Early stopping, best iteration is:\n",
      "[274]\ttrain's multi_logloss: 0.32092\teval's multi_logloss: 0.342982\n"
     ]
    },
    {
     "name": "stderr",
     "output_type": "stream",
     "text": [
      "feature_fraction_stage2, val_score: 0.342982:  67%|#########################3            | 2/3 [00:00<00:00,  3.30it/s]\u001b[32m[I 2021-06-12 21:12:25,334]\u001b[0m Trial 38 finished with value: 0.34298182844914826 and parameters: {'feature_fraction': 0.9840000000000001}. Best is trial 38 with value: 0.34298182844914826.\u001b[0m\n",
      "feature_fraction_stage2, val_score: 0.342982:  67%|#########################3            | 2/3 [00:00<00:00,  3.30it/s]"
     ]
    },
    {
     "name": "stdout",
     "output_type": "stream",
     "text": [
      "Training until validation scores don't improve for 10 rounds\n",
      "[100]\ttrain's multi_logloss: 0.391431\teval's multi_logloss: 0.388785\n",
      "[200]\ttrain's multi_logloss: 0.339752\teval's multi_logloss: 0.349078\n"
     ]
    },
    {
     "name": "stderr",
     "output_type": "stream",
     "text": [
      "feature_fraction_stage2, val_score: 0.342982: 100%|######################################| 3/3 [00:00<00:00,  3.35it/s]\u001b[32m[I 2021-06-12 21:12:25,626]\u001b[0m Trial 39 finished with value: 0.34298182844914826 and parameters: {'feature_fraction': 0.9520000000000001}. Best is trial 38 with value: 0.34298182844914826.\u001b[0m\n",
      "feature_fraction_stage2, val_score: 0.342982: 100%|######################################| 3/3 [00:00<00:00,  3.32it/s]\n",
      "regularization_factors, val_score: 0.342982:   0%|                                              | 0/20 [00:00<?, ?it/s]"
     ]
    },
    {
     "name": "stdout",
     "output_type": "stream",
     "text": [
      "Early stopping, best iteration is:\n",
      "[274]\ttrain's multi_logloss: 0.32092\teval's multi_logloss: 0.342982\n",
      "Training until validation scores don't improve for 10 rounds\n",
      "[100]\ttrain's multi_logloss: 0.392304\teval's multi_logloss: 0.38953\n"
     ]
    },
    {
     "name": "stderr",
     "output_type": "stream",
     "text": [
      "regularization_factors, val_score: 0.342982:   5%|#9                                    | 1/20 [00:00<00:06,  2.90it/s]\u001b[32m[I 2021-06-12 21:12:25,981]\u001b[0m Trial 40 finished with value: 0.34312240337320177 and parameters: {'lambda_l1': 1.1355961246725074e-05, 'lambda_l2': 0.27188628950275634}. Best is trial 40 with value: 0.34312240337320177.\u001b[0m\n",
      "regularization_factors, val_score: 0.342982:   5%|#9                                    | 1/20 [00:00<00:06,  2.90it/s]"
     ]
    },
    {
     "name": "stdout",
     "output_type": "stream",
     "text": [
      "[200]\ttrain's multi_logloss: 0.341052\teval's multi_logloss: 0.349489\n",
      "Early stopping, best iteration is:\n",
      "[274]\ttrain's multi_logloss: 0.322624\teval's multi_logloss: 0.343122\n",
      "Training until validation scores don't improve for 10 rounds\n",
      "[100]\ttrain's multi_logloss: 0.396916\teval's multi_logloss: 0.39274\n",
      "[200]\ttrain's multi_logloss: 0.345643\teval's multi_logloss: 0.351899\n",
      "[300]\ttrain's multi_logloss: 0.323636\teval's multi_logloss: 0.342923\n"
     ]
    },
    {
     "name": "stderr",
     "output_type": "stream",
     "text": [
      "regularization_factors, val_score: 0.342923:  10%|###8                                  | 2/20 [00:00<00:06,  2.70it/s]\u001b[32m[I 2021-06-12 21:12:26,365]\u001b[0m Trial 41 finished with value: 0.3429226968063984 and parameters: {'lambda_l1': 0.00011141487122880625, 'lambda_l2': 1.858355506061126}. Best is trial 41 with value: 0.3429226968063984.\u001b[0m\n",
      "regularization_factors, val_score: 0.342923:  10%|###8                                  | 2/20 [00:00<00:06,  2.70it/s]"
     ]
    },
    {
     "name": "stdout",
     "output_type": "stream",
     "text": [
      "Early stopping, best iteration is:\n",
      "[300]\ttrain's multi_logloss: 0.323636\teval's multi_logloss: 0.342923\n",
      "Training until validation scores don't improve for 10 rounds\n",
      "[100]\ttrain's multi_logloss: 0.391431\teval's multi_logloss: 0.388785\n"
     ]
    },
    {
     "name": "stderr",
     "output_type": "stream",
     "text": [
      "regularization_factors, val_score: 0.342923:  15%|#####7                                | 3/20 [00:01<00:05,  2.91it/s]\u001b[32m[I 2021-06-12 21:12:26,680]\u001b[0m Trial 42 finished with value: 0.34298184099098 and parameters: {'lambda_l1': 7.307985656214454e-06, 'lambda_l2': 3.516444749907544e-08}. Best is trial 41 with value: 0.3429226968063984.\u001b[0m\n",
      "regularization_factors, val_score: 0.342923:  15%|#####7                                | 3/20 [00:01<00:05,  2.91it/s]"
     ]
    },
    {
     "name": "stdout",
     "output_type": "stream",
     "text": [
      "[200]\ttrain's multi_logloss: 0.339752\teval's multi_logloss: 0.349078\n",
      "Early stopping, best iteration is:\n",
      "[274]\ttrain's multi_logloss: 0.32092\teval's multi_logloss: 0.342982\n",
      "Training until validation scores don't improve for 10 rounds\n",
      "[100]\ttrain's multi_logloss: 0.391825\teval's multi_logloss: 0.389681\n",
      "[200]\ttrain's multi_logloss: 0.34063\teval's multi_logloss: 0.349542\n",
      "Early stopping, best iteration is:\n",
      "[274]\ttrain's multi_logloss: 0.322081\teval's multi_logloss: 0.343269\n"
     ]
    },
    {
     "name": "stderr",
     "output_type": "stream",
     "text": [
      "regularization_factors, val_score: 0.342923:  20%|#######6                              | 4/20 [00:01<00:05,  2.98it/s]\u001b[32m[I 2021-06-12 21:12:27,003]\u001b[0m Trial 43 finished with value: 0.34326861721743707 and parameters: {'lambda_l1': 0.08296759767848153, 'lambda_l2': 0.07544501002536017}. Best is trial 41 with value: 0.3429226968063984.\u001b[0m\n",
      "regularization_factors, val_score: 0.342923:  20%|#######6                              | 4/20 [00:01<00:05,  2.98it/s]"
     ]
    },
    {
     "name": "stdout",
     "output_type": "stream",
     "text": [
      "Training until validation scores don't improve for 10 rounds\n",
      "[100]\ttrain's multi_logloss: 0.391432\teval's multi_logloss: 0.388786\n"
     ]
    },
    {
     "name": "stderr",
     "output_type": "stream",
     "text": [
      "regularization_factors, val_score: 0.342923:  25%|#########5                            | 5/20 [00:01<00:05,  2.93it/s]\u001b[32m[I 2021-06-12 21:12:27,355]\u001b[0m Trial 44 finished with value: 0.3429820058844083 and parameters: {'lambda_l1': 3.2271781860385117e-06, 'lambda_l2': 0.00018463559343240285}. Best is trial 41 with value: 0.3429226968063984.\u001b[0m\n",
      "regularization_factors, val_score: 0.342923:  25%|#########5                            | 5/20 [00:01<00:05,  2.93it/s]"
     ]
    },
    {
     "name": "stdout",
     "output_type": "stream",
     "text": [
      "[200]\ttrain's multi_logloss: 0.339753\teval's multi_logloss: 0.349078\n",
      "Early stopping, best iteration is:\n",
      "[274]\ttrain's multi_logloss: 0.320921\teval's multi_logloss: 0.342982\n",
      "Training until validation scores don't improve for 10 rounds\n"
     ]
    },
    {
     "name": "stderr",
     "output_type": "stream",
     "text": [
      "regularization_factors, val_score: 0.342923:  30%|###########4                          | 6/20 [00:02<00:04,  3.07it/s]\u001b[32m[I 2021-06-12 21:12:27,651]\u001b[0m Trial 45 finished with value: 0.34335393168404815 and parameters: {'lambda_l1': 0.29404557438656137, 'lambda_l2': 2.948823930817348e-08}. Best is trial 41 with value: 0.3429226968063984.\u001b[0m\n",
      "regularization_factors, val_score: 0.342923:  30%|###########4                          | 6/20 [00:02<00:04,  3.07it/s]"
     ]
    },
    {
     "name": "stdout",
     "output_type": "stream",
     "text": [
      "[100]\ttrain's multi_logloss: 0.392399\teval's multi_logloss: 0.389499\n",
      "[200]\ttrain's multi_logloss: 0.341592\teval's multi_logloss: 0.349586\n",
      "Early stopping, best iteration is:\n",
      "[272]\ttrain's multi_logloss: 0.323854\teval's multi_logloss: 0.343354\n",
      "Training until validation scores don't improve for 10 rounds\n",
      "[100]\ttrain's multi_logloss: 0.391365\teval's multi_logloss: 0.388842\n",
      "[200]\ttrain's multi_logloss: 0.339723\teval's multi_logloss: 0.349194\n"
     ]
    },
    {
     "name": "stderr",
     "output_type": "stream",
     "text": [
      "regularization_factors, val_score: 0.342923:  35%|#############3                        | 7/20 [00:02<00:04,  3.14it/s]\u001b[32m[I 2021-06-12 21:12:27,954]\u001b[0m Trial 46 finished with value: 0.34314776823234383 and parameters: {'lambda_l1': 0.00031649122863640274, 'lambda_l2': 0.004104894139160697}. Best is trial 41 with value: 0.3429226968063984.\u001b[0m\n",
      "regularization_factors, val_score: 0.342923:  35%|#############3                        | 7/20 [00:02<00:04,  3.14it/s]"
     ]
    },
    {
     "name": "stdout",
     "output_type": "stream",
     "text": [
      "Early stopping, best iteration is:\n",
      "[274]\ttrain's multi_logloss: 0.320932\teval's multi_logloss: 0.343148\n",
      "Training until validation scores don't improve for 10 rounds\n",
      "[100]\ttrain's multi_logloss: 0.391437\teval's multi_logloss: 0.388792\n"
     ]
    },
    {
     "name": "stderr",
     "output_type": "stream",
     "text": [
      "regularization_factors, val_score: 0.342923:  40%|###############2                      | 8/20 [00:02<00:03,  3.22it/s]\u001b[32m[I 2021-06-12 21:12:28,247]\u001b[0m Trial 47 finished with value: 0.3429672509536183 and parameters: {'lambda_l1': 2.590648797053391e-05, 'lambda_l2': 0.0017259535049828742}. Best is trial 41 with value: 0.3429226968063984.\u001b[0m\n",
      "regularization_factors, val_score: 0.342923:  40%|###############2                      | 8/20 [00:02<00:03,  3.22it/s]"
     ]
    },
    {
     "name": "stdout",
     "output_type": "stream",
     "text": [
      "[200]\ttrain's multi_logloss: 0.339759\teval's multi_logloss: 0.349081\n",
      "Early stopping, best iteration is:\n",
      "[274]\ttrain's multi_logloss: 0.320943\teval's multi_logloss: 0.342967\n",
      "Training until validation scores don't improve for 10 rounds\n",
      "[100]\ttrain's multi_logloss: 0.391416\teval's multi_logloss: 0.38898\n",
      "[200]\ttrain's multi_logloss: 0.33991\teval's multi_logloss: 0.349244\n"
     ]
    },
    {
     "name": "stderr",
     "output_type": "stream",
     "text": [
      "regularization_factors, val_score: 0.342923:  45%|#################1                    | 9/20 [00:02<00:03,  3.02it/s]\u001b[32m[I 2021-06-12 21:12:28,623]\u001b[0m Trial 48 finished with value: 0.34326380498668707 and parameters: {'lambda_l1': 0.001544480143561345, 'lambda_l2': 8.39955489147531e-05}. Best is trial 41 with value: 0.3429226968063984.\u001b[0m\n",
      "regularization_factors, val_score: 0.342923:  45%|#################1                    | 9/20 [00:02<00:03,  3.02it/s]"
     ]
    },
    {
     "name": "stdout",
     "output_type": "stream",
     "text": [
      "Early stopping, best iteration is:\n",
      "[274]\ttrain's multi_logloss: 0.321279\teval's multi_logloss: 0.343264\n",
      "Training until validation scores don't improve for 10 rounds\n",
      "[100]\ttrain's multi_logloss: 0.391431\teval's multi_logloss: 0.388859\n"
     ]
    },
    {
     "name": "stderr",
     "output_type": "stream",
     "text": [
      "regularization_factors, val_score: 0.342923:  50%|##################5                  | 10/20 [00:03<00:03,  3.10it/s]\u001b[32m[I 2021-06-12 21:12:28,927]\u001b[0m Trial 49 finished with value: 0.3431830357175422 and parameters: {'lambda_l1': 0.004416340926769964, 'lambda_l2': 0.0030438680260983122}. Best is trial 41 with value: 0.3429226968063984.\u001b[0m\n",
      "regularization_factors, val_score: 0.342923:  50%|##################5                  | 10/20 [00:03<00:03,  3.10it/s]"
     ]
    },
    {
     "name": "stdout",
     "output_type": "stream",
     "text": [
      "[200]\ttrain's multi_logloss: 0.339797\teval's multi_logloss: 0.349149\n",
      "Early stopping, best iteration is:\n",
      "[274]\ttrain's multi_logloss: 0.321096\teval's multi_logloss: 0.343183\n",
      "Training until validation scores don't improve for 10 rounds\n",
      "[100]\ttrain's multi_logloss: 0.409528\teval's multi_logloss: 0.404031\n",
      "[200]\ttrain's multi_logloss: 0.356637\teval's multi_logloss: 0.359203\n",
      "[300]\ttrain's multi_logloss: 0.335023\teval's multi_logloss: 0.3464\n"
     ]
    },
    {
     "name": "stderr",
     "output_type": "stream",
     "text": [
      "regularization_factors, val_score: 0.342923:  55%|####################3                | 11/20 [00:03<00:03,  2.90it/s]\u001b[32m[I 2021-06-12 21:12:29,322]\u001b[0m Trial 50 finished with value: 0.34456235485798686 and parameters: {'lambda_l1': 1.1381534781654664e-08, 'lambda_l2': 6.9571804080514195}. Best is trial 41 with value: 0.3429226968063984.\u001b[0m\n",
      "regularization_factors, val_score: 0.342923:  55%|####################3                | 11/20 [00:03<00:03,  2.90it/s]"
     ]
    },
    {
     "name": "stdout",
     "output_type": "stream",
     "text": [
      "Early stopping, best iteration is:\n",
      "[366]\ttrain's multi_logloss: 0.325708\teval's multi_logloss: 0.344562\n",
      "Training until validation scores don't improve for 10 rounds\n",
      "[100]\ttrain's multi_logloss: 0.391431\teval's multi_logloss: 0.388785\n"
     ]
    },
    {
     "name": "stderr",
     "output_type": "stream",
     "text": [
      "regularization_factors, val_score: 0.342923:  60%|######################2              | 12/20 [00:03<00:02,  3.01it/s]\u001b[32m[I 2021-06-12 21:12:29,627]\u001b[0m Trial 51 finished with value: 0.34298183480759803 and parameters: {'lambda_l1': 1.4675386592177758e-08, 'lambda_l2': 6.783019798369671e-06}. Best is trial 41 with value: 0.3429226968063984.\u001b[0m\n",
      "regularization_factors, val_score: 0.342923:  60%|######################2              | 12/20 [00:03<00:02,  3.01it/s]"
     ]
    },
    {
     "name": "stdout",
     "output_type": "stream",
     "text": [
      "[200]\ttrain's multi_logloss: 0.339752\teval's multi_logloss: 0.349078\n",
      "Early stopping, best iteration is:\n",
      "[274]\ttrain's multi_logloss: 0.32092\teval's multi_logloss: 0.342982\n",
      "Training until validation scores don't improve for 10 rounds\n",
      "[100]\ttrain's multi_logloss: 0.409893\teval's multi_logloss: 0.404268\n",
      "[200]\ttrain's multi_logloss: 0.356969\teval's multi_logloss: 0.359388\n",
      "[300]\ttrain's multi_logloss: 0.335328\teval's multi_logloss: 0.346472\n"
     ]
    },
    {
     "name": "stderr",
     "output_type": "stream",
     "text": [
      "regularization_factors, val_score: 0.342923:  65%|########################             | 13/20 [00:04<00:02,  2.75it/s]\u001b[32m[I 2021-06-12 21:12:30,062]\u001b[0m Trial 52 finished with value: 0.3445260275704795 and parameters: {'lambda_l1': 6.066918603116119e-07, 'lambda_l2': 7.140072793443393}. Best is trial 41 with value: 0.3429226968063984.\u001b[0m\n",
      "regularization_factors, val_score: 0.342923:  65%|########################             | 13/20 [00:04<00:02,  2.75it/s]"
     ]
    },
    {
     "name": "stdout",
     "output_type": "stream",
     "text": [
      "Early stopping, best iteration is:\n",
      "[366]\ttrain's multi_logloss: 0.326045\teval's multi_logloss: 0.344526\n",
      "Training until validation scores don't improve for 10 rounds\n",
      "[100]\ttrain's multi_logloss: 0.392385\teval's multi_logloss: 0.389596\n"
     ]
    },
    {
     "name": "stderr",
     "output_type": "stream",
     "text": [
      "regularization_factors, val_score: 0.342923:  70%|#########################9           | 14/20 [00:04<00:02,  2.87it/s]\u001b[32m[I 2021-06-12 21:12:30,376]\u001b[0m Trial 53 finished with value: 0.34349882988938624 and parameters: {'lambda_l1': 4.7387045742923045e-05, 'lambda_l2': 0.2991351708332478}. Best is trial 41 with value: 0.3429226968063984.\u001b[0m\n",
      "regularization_factors, val_score: 0.342923:  70%|#########################9           | 14/20 [00:04<00:02,  2.87it/s]"
     ]
    },
    {
     "name": "stdout",
     "output_type": "stream",
     "text": [
      "[200]\ttrain's multi_logloss: 0.341149\teval's multi_logloss: 0.349513\n",
      "Early stopping, best iteration is:\n",
      "[274]\ttrain's multi_logloss: 0.322782\teval's multi_logloss: 0.343499\n",
      "Training until validation scores don't improve for 10 rounds\n",
      "[100]\ttrain's multi_logloss: 0.391431\teval's multi_logloss: 0.388785\n",
      "[200]\ttrain's multi_logloss: 0.339752\teval's multi_logloss: 0.349078\n",
      "Early stopping, best iteration is:\n",
      "[274]\ttrain's multi_logloss: 0.32092\teval's multi_logloss: 0.342982\n"
     ]
    },
    {
     "name": "stderr",
     "output_type": "stream",
     "text": [
      "regularization_factors, val_score: 0.342923:  75%|###########################7         | 15/20 [00:05<00:01,  2.83it/s]\u001b[32m[I 2021-06-12 21:12:30,742]\u001b[0m Trial 54 finished with value: 0.34298183204156507 and parameters: {'lambda_l1': 9.626606107436317e-08, 'lambda_l2': 3.6915634796246446e-06}. Best is trial 41 with value: 0.3429226968063984.\u001b[0m\n",
      "regularization_factors, val_score: 0.342923:  75%|###########################7         | 15/20 [00:05<00:01,  2.83it/s]"
     ]
    },
    {
     "name": "stdout",
     "output_type": "stream",
     "text": [
      "Training until validation scores don't improve for 10 rounds\n",
      "[100]\ttrain's multi_logloss: 0.39143\teval's multi_logloss: 0.38903\n",
      "[200]\ttrain's multi_logloss: 0.339951\teval's multi_logloss: 0.349349\n"
     ]
    },
    {
     "name": "stderr",
     "output_type": "stream",
     "text": [
      "regularization_factors, val_score: 0.342923:  80%|#############################6       | 16/20 [00:05<00:01,  2.84it/s]\u001b[32m[I 2021-06-12 21:12:31,089]\u001b[0m Trial 55 finished with value: 0.34320006022711497 and parameters: {'lambda_l1': 0.013379637222835665, 'lambda_l2': 0.016376117589081755}. Best is trial 41 with value: 0.3429226968063984.\u001b[0m\n",
      "regularization_factors, val_score: 0.342923:  80%|#############################6       | 16/20 [00:05<00:01,  2.84it/s]"
     ]
    },
    {
     "name": "stdout",
     "output_type": "stream",
     "text": [
      "Early stopping, best iteration is:\n",
      "[273]\ttrain's multi_logloss: 0.321529\teval's multi_logloss: 0.3432\n",
      "Training until validation scores don't improve for 10 rounds\n",
      "[100]\ttrain's multi_logloss: 0.419082\teval's multi_logloss: 0.414733\n",
      "[200]\ttrain's multi_logloss: 0.372462\teval's multi_logloss: 0.372849\n",
      "[300]\ttrain's multi_logloss: 0.354774\teval's multi_logloss: 0.359622\n",
      "[400]\ttrain's multi_logloss: 0.345729\teval's multi_logloss: 0.354377\n"
     ]
    },
    {
     "name": "stderr",
     "output_type": "stream",
     "text": [
      "regularization_factors, val_score: 0.342923:  85%|###############################4     | 17/20 [00:06<00:01,  2.35it/s]\u001b[32m[I 2021-06-12 21:12:31,689]\u001b[0m Trial 56 finished with value: 0.3508060498274759 and parameters: {'lambda_l1': 5.822922299520975, 'lambda_l2': 1.6030897300658165}. Best is trial 41 with value: 0.3429226968063984.\u001b[0m\n",
      "regularization_factors, val_score: 0.342923:  85%|###############################4     | 17/20 [00:06<00:01,  2.35it/s]"
     ]
    },
    {
     "name": "stdout",
     "output_type": "stream",
     "text": [
      "[500]\ttrain's multi_logloss: 0.340157\teval's multi_logloss: 0.35183\n",
      "Early stopping, best iteration is:\n",
      "[546]\ttrain's multi_logloss: 0.338121\teval's multi_logloss: 0.350806\n",
      "Training until validation scores don't improve for 10 rounds\n"
     ]
    },
    {
     "name": "stderr",
     "output_type": "stream",
     "text": [
      "\r",
      "regularization_factors, val_score: 0.342923:  85%|###############################4     | 17/20 [00:06<00:01,  2.35it/s]"
     ]
    },
    {
     "name": "stdout",
     "output_type": "stream",
     "text": [
      "[100]\ttrain's multi_logloss: 0.391433\teval's multi_logloss: 0.388787\n",
      "[200]\ttrain's multi_logloss: 0.339754\teval's multi_logloss: 0.349079\n",
      "Early stopping, best iteration is:\n",
      "[274]\ttrain's multi_logloss: 0.320954\teval's multi_logloss: 0.342951\n"
     ]
    },
    {
     "name": "stderr",
     "output_type": "stream",
     "text": [
      "regularization_factors, val_score: 0.342923:  90%|#################################3   | 18/20 [00:06<00:00,  2.54it/s]\u001b[32m[I 2021-06-12 21:12:32,003]\u001b[0m Trial 57 finished with value: 0.34295059341994133 and parameters: {'lambda_l1': 0.0004457451821088369, 'lambda_l2': 1.1762452348065194e-06}. Best is trial 41 with value: 0.3429226968063984.\u001b[0m\n",
      "regularization_factors, val_score: 0.342923:  90%|#################################3   | 18/20 [00:06<00:00,  2.54it/s]"
     ]
    },
    {
     "name": "stdout",
     "output_type": "stream",
     "text": [
      "Training until validation scores don't improve for 10 rounds\n",
      "[100]\ttrain's multi_logloss: 0.391432\teval's multi_logloss: 0.388786\n",
      "[200]\ttrain's multi_logloss: 0.339753\teval's multi_logloss: 0.349078\n"
     ]
    },
    {
     "name": "stderr",
     "output_type": "stream",
     "text": [
      "regularization_factors, val_score: 0.342923:  95%|###################################1 | 19/20 [00:06<00:00,  2.72it/s]\u001b[32m[I 2021-06-12 21:12:32,312]\u001b[0m Trial 58 finished with value: 0.34295024110781674 and parameters: {'lambda_l1': 0.00024962005460839353, 'lambda_l2': 4.7154977387812597e-07}. Best is trial 41 with value: 0.3429226968063984.\u001b[0m\n",
      "regularization_factors, val_score: 0.342923:  95%|###################################1 | 19/20 [00:06<00:00,  2.72it/s]"
     ]
    },
    {
     "name": "stdout",
     "output_type": "stream",
     "text": [
      "Early stopping, best iteration is:\n",
      "[274]\ttrain's multi_logloss: 0.320953\teval's multi_logloss: 0.34295\n",
      "Training until validation scores don't improve for 10 rounds\n",
      "[100]\ttrain's multi_logloss: 0.391432\teval's multi_logloss: 0.388786\n"
     ]
    },
    {
     "name": "stderr",
     "output_type": "stream",
     "text": [
      "regularization_factors, val_score: 0.342923: 100%|#####################################| 20/20 [00:07<00:00,  2.69it/s]\u001b[32m[I 2021-06-12 21:12:32,692]\u001b[0m Trial 59 finished with value: 0.34298199564511256 and parameters: {'lambda_l1': 9.76869857189234e-05, 'lambda_l2': 2.7779911415668413e-07}. Best is trial 41 with value: 0.3429226968063984.\u001b[0m\n",
      "regularization_factors, val_score: 0.342923: 100%|#####################################| 20/20 [00:07<00:00,  2.83it/s]\n",
      "min_data_in_leaf, val_score: 0.342923:   0%|                                                     | 0/5 [00:00<?, ?it/s]"
     ]
    },
    {
     "name": "stdout",
     "output_type": "stream",
     "text": [
      "[200]\ttrain's multi_logloss: 0.339753\teval's multi_logloss: 0.349078\n",
      "Early stopping, best iteration is:\n",
      "[274]\ttrain's multi_logloss: 0.32092\teval's multi_logloss: 0.342982\n",
      "Training until validation scores don't improve for 10 rounds\n",
      "[100]\ttrain's multi_logloss: 0.411351\teval's multi_logloss: 0.410641\n",
      "[200]\ttrain's multi_logloss: 0.364339\teval's multi_logloss: 0.371183\n",
      "[300]\ttrain's multi_logloss: 0.340817\teval's multi_logloss: 0.355211\n"
     ]
    },
    {
     "name": "stderr",
     "output_type": "stream",
     "text": [
      "min_data_in_leaf, val_score: 0.342923:  20%|#########                                    | 1/5 [00:00<00:01,  2.37it/s]\u001b[32m[I 2021-06-12 21:12:33,123]\u001b[0m Trial 60 finished with value: 0.3526168915262321 and parameters: {'min_child_samples': 100}. Best is trial 60 with value: 0.3526168915262321.\u001b[0m\n",
      "min_data_in_leaf, val_score: 0.342923:  20%|#########                                    | 1/5 [00:00<00:01,  2.37it/s]"
     ]
    },
    {
     "name": "stdout",
     "output_type": "stream",
     "text": [
      "Early stopping, best iteration is:\n",
      "[354]\ttrain's multi_logloss: 0.332854\teval's multi_logloss: 0.352617\n",
      "Training until validation scores don't improve for 10 rounds\n",
      "[100]\ttrain's multi_logloss: 0.39562\teval's multi_logloss: 0.392068\n"
     ]
    },
    {
     "name": "stderr",
     "output_type": "stream",
     "text": [
      "min_data_in_leaf, val_score: 0.342923:  40%|##################                           | 2/5 [00:00<00:01,  2.85it/s]\u001b[32m[I 2021-06-12 21:12:33,424]\u001b[0m Trial 61 finished with value: 0.34322481496403595 and parameters: {'min_child_samples': 10}. Best is trial 61 with value: 0.34322481496403595.\u001b[0m\n",
      "min_data_in_leaf, val_score: 0.342923:  40%|##################                           | 2/5 [00:00<00:01,  2.85it/s]"
     ]
    },
    {
     "name": "stdout",
     "output_type": "stream",
     "text": [
      "[200]\ttrain's multi_logloss: 0.344147\teval's multi_logloss: 0.350743\n",
      "Early stopping, best iteration is:\n",
      "[276]\ttrain's multi_logloss: 0.326161\teval's multi_logloss: 0.343225\n",
      "Training until validation scores don't improve for 10 rounds\n"
     ]
    },
    {
     "name": "stderr",
     "output_type": "stream",
     "text": [
      "\r",
      "min_data_in_leaf, val_score: 0.342923:  40%|##################                           | 2/5 [00:01<00:01,  2.85it/s]"
     ]
    },
    {
     "name": "stdout",
     "output_type": "stream",
     "text": [
      "[100]\ttrain's multi_logloss: 0.39544\teval's multi_logloss: 0.393109\n",
      "[200]\ttrain's multi_logloss: 0.343681\teval's multi_logloss: 0.351606\n",
      "Early stopping, best iteration is:\n",
      "[276]\ttrain's multi_logloss: 0.325506\teval's multi_logloss: 0.344095\n"
     ]
    },
    {
     "name": "stderr",
     "output_type": "stream",
     "text": [
      "min_data_in_leaf, val_score: 0.342923:  60%|###########################                  | 3/5 [00:01<00:00,  3.04it/s]\u001b[32m[I 2021-06-12 21:12:33,726]\u001b[0m Trial 62 finished with value: 0.34409515788737255 and parameters: {'min_child_samples': 5}. Best is trial 61 with value: 0.34322481496403595.\u001b[0m\n",
      "min_data_in_leaf, val_score: 0.342923:  60%|###########################                  | 3/5 [00:01<00:00,  3.04it/s]"
     ]
    },
    {
     "name": "stdout",
     "output_type": "stream",
     "text": [
      "Training until validation scores don't improve for 10 rounds\n",
      "[100]\ttrain's multi_logloss: 0.397573\teval's multi_logloss: 0.393484\n",
      "[200]\ttrain's multi_logloss: 0.346751\teval's multi_logloss: 0.352712\n"
     ]
    },
    {
     "name": "stderr",
     "output_type": "stream",
     "text": [
      "min_data_in_leaf, val_score: 0.342923:  80%|####################################         | 4/5 [00:01<00:00,  3.07it/s]\u001b[32m[I 2021-06-12 21:12:34,047]\u001b[0m Trial 63 finished with value: 0.34369201297745755 and parameters: {'min_child_samples': 25}. Best is trial 61 with value: 0.34322481496403595.\u001b[0m\n",
      "min_data_in_leaf, val_score: 0.342923:  80%|####################################         | 4/5 [00:01<00:00,  3.07it/s]"
     ]
    },
    {
     "name": "stdout",
     "output_type": "stream",
     "text": [
      "[300]\ttrain's multi_logloss: 0.324953\teval's multi_logloss: 0.343692\n",
      "Early stopping, best iteration is:\n",
      "[300]\ttrain's multi_logloss: 0.324953\teval's multi_logloss: 0.343692\n",
      "Training until validation scores don't improve for 10 rounds\n",
      "[100]\ttrain's multi_logloss: 0.402424\teval's multi_logloss: 0.398796\n",
      "[200]\ttrain's multi_logloss: 0.352468\teval's multi_logloss: 0.357326\n",
      "[300]\ttrain's multi_logloss: 0.330823\teval's multi_logloss: 0.346333\n",
      "[400]\ttrain's multi_logloss: 0.315862\teval's multi_logloss: 0.34431\n",
      "Early stopping, best iteration is:\n",
      "[396]\ttrain's multi_logloss: 0.316308\teval's multi_logloss: 0.344234\n"
     ]
    },
    {
     "name": "stderr",
     "output_type": "stream",
     "text": [
      "min_data_in_leaf, val_score: 0.342923: 100%|#############################################| 5/5 [00:01<00:00,  2.81it/s]\u001b[32m[I 2021-06-12 21:12:34,458]\u001b[0m Trial 64 finished with value: 0.34423413732048486 and parameters: {'min_child_samples': 50}. Best is trial 61 with value: 0.34322481496403595.\u001b[0m\n",
      "min_data_in_leaf, val_score: 0.342923: 100%|#############################################| 5/5 [00:01<00:00,  2.84it/s]\n",
      "\u001b[32m[I 2021-06-12 21:12:34,482]\u001b[0m A new study created in memory with name: no-name-a96223ed-4b21-4237-8014-0f32a81ac1d6\u001b[0m\n",
      "feature_fraction, val_score: inf:   0%|                                                          | 0/7 [00:00<?, ?it/s]"
     ]
    },
    {
     "name": "stdout",
     "output_type": "stream",
     "text": [
      "Training until validation scores don't improve for 10 rounds\n",
      "[100]\ttrain's multi_logloss: 0.381127\teval's multi_logloss: 0.430084\n",
      "[200]\ttrain's multi_logloss: 0.284384\teval's multi_logloss: 0.378444\n",
      "[300]\ttrain's multi_logloss: 0.226521\teval's multi_logloss: 0.366542\n",
      "Early stopping, best iteration is:\n",
      "[310]\ttrain's multi_logloss: 0.222284\teval's multi_logloss: 0.365667\n"
     ]
    },
    {
     "name": "stderr",
     "output_type": "stream",
     "text": [
      "feature_fraction, val_score: 0.365667:  14%|######4                                      | 1/7 [00:01<00:06,  1.01s/it]\u001b[32m[I 2021-06-12 21:12:35,495]\u001b[0m Trial 0 finished with value: 0.36566665534233367 and parameters: {'feature_fraction': 0.6}. Best is trial 0 with value: 0.36566665534233367.\u001b[0m\n",
      "feature_fraction, val_score: 0.365667:  14%|######4                                      | 1/7 [00:01<00:06,  1.01s/it]"
     ]
    },
    {
     "name": "stdout",
     "output_type": "stream",
     "text": [
      "Training until validation scores don't improve for 10 rounds\n",
      "[100]\ttrain's multi_logloss: 0.341504\teval's multi_logloss: 0.397872\n"
     ]
    },
    {
     "name": "stderr",
     "output_type": "stream",
     "text": [
      "feature_fraction, val_score: 0.365667:  29%|############8                                | 2/7 [00:01<00:04,  1.22it/s]\u001b[32m[I 2021-06-12 21:12:36,182]\u001b[0m Trial 1 finished with value: 0.3665340000256166 and parameters: {'feature_fraction': 0.8999999999999999}. Best is trial 0 with value: 0.36566665534233367.\u001b[0m\n",
      "feature_fraction, val_score: 0.365667:  29%|############8                                | 2/7 [00:01<00:04,  1.22it/s]"
     ]
    },
    {
     "name": "stdout",
     "output_type": "stream",
     "text": [
      "[200]\ttrain's multi_logloss: 0.249744\teval's multi_logloss: 0.366796\n",
      "Early stopping, best iteration is:\n",
      "[204]\ttrain's multi_logloss: 0.247109\teval's multi_logloss: 0.366534\n",
      "Training until validation scores don't improve for 10 rounds\n",
      "[100]\ttrain's multi_logloss: 0.350243\teval's multi_logloss: 0.404597\n",
      "[200]\ttrain's multi_logloss: 0.255928\teval's multi_logloss: 0.368004\n",
      "Early stopping, best iteration is:\n",
      "[241]\ttrain's multi_logloss: 0.229667\teval's multi_logloss: 0.365853\n"
     ]
    },
    {
     "name": "stderr",
     "output_type": "stream",
     "text": [
      "feature_fraction, val_score: 0.365667:  43%|###################2                         | 3/7 [00:02<00:03,  1.23it/s]\u001b[32m[I 2021-06-12 21:12:36,988]\u001b[0m Trial 2 finished with value: 0.36585343999074127 and parameters: {'feature_fraction': 0.8}. Best is trial 0 with value: 0.36566665534233367.\u001b[0m\n",
      "feature_fraction, val_score: 0.365667:  43%|###################2                         | 3/7 [00:02<00:03,  1.23it/s]"
     ]
    },
    {
     "name": "stdout",
     "output_type": "stream",
     "text": [
      "Training until validation scores don't improve for 10 rounds\n",
      "[100]\ttrain's multi_logloss: 0.364001\teval's multi_logloss: 0.41608\n",
      "[200]\ttrain's multi_logloss: 0.267114\teval's multi_logloss: 0.371177\n",
      "Early stopping, best iteration is:\n",
      "[248]\ttrain's multi_logloss: 0.237328\teval's multi_logloss: 0.366799\n"
     ]
    },
    {
     "name": "stderr",
     "output_type": "stream",
     "text": [
      "feature_fraction, val_score: 0.365667:  57%|#########################7                   | 4/7 [00:03<00:02,  1.21it/s]\u001b[32m[I 2021-06-12 21:12:37,831]\u001b[0m Trial 3 finished with value: 0.36679883022073895 and parameters: {'feature_fraction': 0.7}. Best is trial 0 with value: 0.36566665534233367.\u001b[0m\n",
      "feature_fraction, val_score: 0.365667:  57%|#########################7                   | 4/7 [00:03<00:02,  1.21it/s]"
     ]
    },
    {
     "name": "stdout",
     "output_type": "stream",
     "text": [
      "Training until validation scores don't improve for 10 rounds\n",
      "[100]\ttrain's multi_logloss: 0.381127\teval's multi_logloss: 0.430084\n",
      "[200]\ttrain's multi_logloss: 0.284384\teval's multi_logloss: 0.378444\n",
      "[300]\ttrain's multi_logloss: 0.226521\teval's multi_logloss: 0.366542\n",
      "Early stopping, best iteration is:\n",
      "[310]\ttrain's multi_logloss: 0.222284\teval's multi_logloss: 0.365667\n"
     ]
    },
    {
     "name": "stderr",
     "output_type": "stream",
     "text": [
      "feature_fraction, val_score: 0.365667:  71%|################################1            | 5/7 [00:04<00:01,  1.14it/s]\u001b[32m[I 2021-06-12 21:12:38,805]\u001b[0m Trial 4 finished with value: 0.36566665534233367 and parameters: {'feature_fraction': 0.5}. Best is trial 0 with value: 0.36566665534233367.\u001b[0m\n",
      "feature_fraction, val_score: 0.365667:  71%|################################1            | 5/7 [00:04<00:01,  1.14it/s]"
     ]
    },
    {
     "name": "stdout",
     "output_type": "stream",
     "text": [
      "Training until validation scores don't improve for 10 rounds\n",
      "[100]\ttrain's multi_logloss: 0.336864\teval's multi_logloss: 0.392789\n"
     ]
    },
    {
     "name": "stderr",
     "output_type": "stream",
     "text": [
      "feature_fraction, val_score: 0.363713:  86%|######################################5      | 6/7 [00:05<00:00,  1.21it/s]\u001b[32m[I 2021-06-12 21:12:39,524]\u001b[0m Trial 5 finished with value: 0.36371254784101426 and parameters: {'feature_fraction': 1.0}. Best is trial 5 with value: 0.36371254784101426.\u001b[0m\n",
      "feature_fraction, val_score: 0.363713:  86%|######################################5      | 6/7 [00:05<00:00,  1.21it/s]"
     ]
    },
    {
     "name": "stdout",
     "output_type": "stream",
     "text": [
      "[200]\ttrain's multi_logloss: 0.246222\teval's multi_logloss: 0.363713\n",
      "Early stopping, best iteration is:\n",
      "[200]\ttrain's multi_logloss: 0.246222\teval's multi_logloss: 0.363713\n",
      "Training until validation scores don't improve for 10 rounds\n",
      "[100]\ttrain's multi_logloss: 0.483765\teval's multi_logloss: 0.549818\n",
      "[200]\ttrain's multi_logloss: 0.392999\teval's multi_logloss: 0.50598\n",
      "Early stopping, best iteration is:\n",
      "[279]\ttrain's multi_logloss: 0.344877\teval's multi_logloss: 0.483434\n"
     ]
    },
    {
     "name": "stderr",
     "output_type": "stream",
     "text": [
      "feature_fraction, val_score: 0.363713: 100%|#############################################| 7/7 [00:05<00:00,  1.22it/s]\u001b[32m[I 2021-06-12 21:12:40,344]\u001b[0m Trial 6 finished with value: 0.4834339602201597 and parameters: {'feature_fraction': 0.4}. Best is trial 5 with value: 0.36371254784101426.\u001b[0m\n",
      "feature_fraction, val_score: 0.363713: 100%|#############################################| 7/7 [00:05<00:00,  1.19it/s]\n",
      "num_leaves, val_score: 0.363713:   0%|                                                          | 0/20 [00:00<?, ?it/s]"
     ]
    },
    {
     "name": "stdout",
     "output_type": "stream",
     "text": [
      "Training until validation scores don't improve for 10 rounds\n",
      "[100]\ttrain's multi_logloss: 0.336854\teval's multi_logloss: 0.392788\n"
     ]
    },
    {
     "name": "stderr",
     "output_type": "stream",
     "text": [
      "\r",
      "num_leaves, val_score: 0.363713:   0%|                                                          | 0/20 [00:00<?, ?it/s]"
     ]
    },
    {
     "name": "stdout",
     "output_type": "stream",
     "text": [
      "[200]\ttrain's multi_logloss: 0.246305\teval's multi_logloss: 0.364117\n",
      "Early stopping, best iteration is:\n",
      "[200]\ttrain's multi_logloss: 0.246305\teval's multi_logloss: 0.364117\n"
     ]
    },
    {
     "name": "stderr",
     "output_type": "stream",
     "text": [
      "num_leaves, val_score: 0.363713:   5%|##5                                               | 1/20 [00:00<00:14,  1.33it/s]\u001b[32m[I 2021-06-12 21:12:41,103]\u001b[0m Trial 7 finished with value: 0.36411658420825654 and parameters: {'num_leaves': 39}. Best is trial 7 with value: 0.36411658420825654.\u001b[0m\n",
      "num_leaves, val_score: 0.363713:   5%|##5                                               | 1/20 [00:00<00:14,  1.33it/s]"
     ]
    },
    {
     "name": "stdout",
     "output_type": "stream",
     "text": [
      "Training until validation scores don't improve for 10 rounds\n",
      "[100]\ttrain's multi_logloss: 0.336864\teval's multi_logloss: 0.392789\n"
     ]
    },
    {
     "name": "stderr",
     "output_type": "stream",
     "text": [
      "num_leaves, val_score: 0.363713:  10%|#####                                             | 2/20 [00:01<00:14,  1.23it/s]\u001b[32m[I 2021-06-12 21:12:41,958]\u001b[0m Trial 8 finished with value: 0.3637246358386285 and parameters: {'num_leaves': 256}. Best is trial 8 with value: 0.3637246358386285.\u001b[0m\n",
      "num_leaves, val_score: 0.363713:  10%|#####                                             | 2/20 [00:01<00:14,  1.23it/s]"
     ]
    },
    {
     "name": "stdout",
     "output_type": "stream",
     "text": [
      "[200]\ttrain's multi_logloss: 0.246232\teval's multi_logloss: 0.363725\n",
      "Early stopping, best iteration is:\n",
      "[200]\ttrain's multi_logloss: 0.246232\teval's multi_logloss: 0.363725\n",
      "Training until validation scores don't improve for 10 rounds\n",
      "[100]\ttrain's multi_logloss: 0.338421\teval's multi_logloss: 0.39221\n"
     ]
    },
    {
     "name": "stderr",
     "output_type": "stream",
     "text": [
      "num_leaves, val_score: 0.362750:  15%|#######5                                          | 3/20 [00:02<00:12,  1.38it/s]\u001b[32m[I 2021-06-12 21:12:42,579]\u001b[0m Trial 9 finished with value: 0.3627500651538565 and parameters: {'num_leaves': 25}. Best is trial 9 with value: 0.3627500651538565.\u001b[0m\n",
      "num_leaves, val_score: 0.362750:  15%|#######5                                          | 3/20 [00:02<00:12,  1.38it/s]"
     ]
    },
    {
     "name": "stdout",
     "output_type": "stream",
     "text": [
      "[200]\ttrain's multi_logloss: 0.252295\teval's multi_logloss: 0.36275\n",
      "Early stopping, best iteration is:\n",
      "[200]\ttrain's multi_logloss: 0.252295\teval's multi_logloss: 0.36275\n",
      "Training until validation scores don't improve for 10 rounds\n",
      "[100]\ttrain's multi_logloss: 0.336864\teval's multi_logloss: 0.392789\n"
     ]
    },
    {
     "name": "stderr",
     "output_type": "stream",
     "text": [
      "\r",
      "num_leaves, val_score: 0.362750:  15%|#######5                                          | 3/20 [00:03<00:12,  1.38it/s]"
     ]
    },
    {
     "name": "stdout",
     "output_type": "stream",
     "text": [
      "[200]\ttrain's multi_logloss: 0.246232\teval's multi_logloss: 0.363725\n",
      "Early stopping, best iteration is:\n",
      "[200]\ttrain's multi_logloss: 0.246232\teval's multi_logloss: 0.363725\n"
     ]
    },
    {
     "name": "stderr",
     "output_type": "stream",
     "text": [
      "num_leaves, val_score: 0.362750:  20%|##########                                        | 4/20 [00:03<00:12,  1.31it/s]\u001b[32m[I 2021-06-12 21:12:43,396]\u001b[0m Trial 10 finished with value: 0.3637246358386285 and parameters: {'num_leaves': 64}. Best is trial 9 with value: 0.3627500651538565.\u001b[0m\n",
      "num_leaves, val_score: 0.362750:  20%|##########                                        | 4/20 [00:03<00:12,  1.31it/s]"
     ]
    },
    {
     "name": "stdout",
     "output_type": "stream",
     "text": [
      "Training until validation scores don't improve for 10 rounds\n",
      "[100]\ttrain's multi_logloss: 0.336864\teval's multi_logloss: 0.392789\n"
     ]
    },
    {
     "name": "stderr",
     "output_type": "stream",
     "text": [
      "num_leaves, val_score: 0.362750:  25%|############5                                     | 5/20 [00:03<00:11,  1.31it/s]\u001b[32m[I 2021-06-12 21:12:44,163]\u001b[0m Trial 11 finished with value: 0.3637246358386285 and parameters: {'num_leaves': 242}. Best is trial 9 with value: 0.3627500651538565.\u001b[0m\n",
      "num_leaves, val_score: 0.362750:  25%|############5                                     | 5/20 [00:03<00:11,  1.31it/s]"
     ]
    },
    {
     "name": "stdout",
     "output_type": "stream",
     "text": [
      "[200]\ttrain's multi_logloss: 0.246232\teval's multi_logloss: 0.363725\n",
      "Early stopping, best iteration is:\n",
      "[200]\ttrain's multi_logloss: 0.246232\teval's multi_logloss: 0.363725\n",
      "Training until validation scores don't improve for 10 rounds\n",
      "[100]\ttrain's multi_logloss: 0.336864\teval's multi_logloss: 0.392789\n"
     ]
    },
    {
     "name": "stderr",
     "output_type": "stream",
     "text": [
      "\r",
      "num_leaves, val_score: 0.362750:  25%|############5                                     | 5/20 [00:04<00:11,  1.31it/s]"
     ]
    },
    {
     "name": "stdout",
     "output_type": "stream",
     "text": [
      "[200]\ttrain's multi_logloss: 0.246232\teval's multi_logloss: 0.363725\n",
      "Early stopping, best iteration is:\n",
      "[200]\ttrain's multi_logloss: 0.246232\teval's multi_logloss: 0.363725\n"
     ]
    },
    {
     "name": "stderr",
     "output_type": "stream",
     "text": [
      "num_leaves, val_score: 0.362750:  30%|###############                                   | 6/20 [00:04<00:11,  1.27it/s]\u001b[32m[I 2021-06-12 21:12:45,004]\u001b[0m Trial 12 finished with value: 0.3637246358386285 and parameters: {'num_leaves': 198}. Best is trial 9 with value: 0.3627500651538565.\u001b[0m\n",
      "num_leaves, val_score: 0.362750:  30%|###############                                   | 6/20 [00:04<00:11,  1.27it/s]"
     ]
    },
    {
     "name": "stdout",
     "output_type": "stream",
     "text": [
      "Training until validation scores don't improve for 10 rounds\n",
      "[100]\ttrain's multi_logloss: 0.336855\teval's multi_logloss: 0.392789\n"
     ]
    },
    {
     "name": "stderr",
     "output_type": "stream",
     "text": [
      "num_leaves, val_score: 0.362750:  35%|#################5                                | 7/20 [00:05<00:09,  1.32it/s]\u001b[32m[I 2021-06-12 21:12:45,695]\u001b[0m Trial 13 finished with value: 0.36375431511635353 and parameters: {'num_leaves': 38}. Best is trial 9 with value: 0.3627500651538565.\u001b[0m\n",
      "num_leaves, val_score: 0.362750:  35%|#################5                                | 7/20 [00:05<00:09,  1.32it/s]"
     ]
    },
    {
     "name": "stdout",
     "output_type": "stream",
     "text": [
      "[200]\ttrain's multi_logloss: 0.246511\teval's multi_logloss: 0.363771\n",
      "Early stopping, best iteration is:\n",
      "[202]\ttrain's multi_logloss: 0.245066\teval's multi_logloss: 0.363754\n",
      "Training until validation scores don't improve for 10 rounds\n",
      "[100]\ttrain's multi_logloss: 0.336864\teval's multi_logloss: 0.392789\n"
     ]
    },
    {
     "name": "stderr",
     "output_type": "stream",
     "text": [
      "num_leaves, val_score: 0.362750:  40%|####################                              | 8/20 [00:06<00:08,  1.35it/s]\u001b[32m[I 2021-06-12 21:12:46,403]\u001b[0m Trial 14 finished with value: 0.3637246358386285 and parameters: {'num_leaves': 72}. Best is trial 9 with value: 0.3627500651538565.\u001b[0m\n",
      "num_leaves, val_score: 0.362750:  40%|####################                              | 8/20 [00:06<00:08,  1.35it/s]"
     ]
    },
    {
     "name": "stdout",
     "output_type": "stream",
     "text": [
      "[200]\ttrain's multi_logloss: 0.246232\teval's multi_logloss: 0.363725\n",
      "Early stopping, best iteration is:\n",
      "[200]\ttrain's multi_logloss: 0.246232\teval's multi_logloss: 0.363725\n",
      "Training until validation scores don't improve for 10 rounds\n",
      "[100]\ttrain's multi_logloss: 0.336864\teval's multi_logloss: 0.392789\n"
     ]
    },
    {
     "name": "stderr",
     "output_type": "stream",
     "text": [
      "num_leaves, val_score: 0.362750:  45%|######################5                           | 9/20 [00:06<00:08,  1.36it/s]\u001b[32m[I 2021-06-12 21:12:47,121]\u001b[0m Trial 15 finished with value: 0.3637246358386285 and parameters: {'num_leaves': 105}. Best is trial 9 with value: 0.3627500651538565.\u001b[0m\n",
      "num_leaves, val_score: 0.362750:  45%|######################5                           | 9/20 [00:06<00:08,  1.36it/s]"
     ]
    },
    {
     "name": "stdout",
     "output_type": "stream",
     "text": [
      "[200]\ttrain's multi_logloss: 0.246232\teval's multi_logloss: 0.363725\n",
      "Early stopping, best iteration is:\n",
      "[200]\ttrain's multi_logloss: 0.246232\teval's multi_logloss: 0.363725\n",
      "Training until validation scores don't improve for 10 rounds\n",
      "[100]\ttrain's multi_logloss: 0.336864\teval's multi_logloss: 0.392789\n",
      "[200]\ttrain's multi_logloss: 0.246232\teval's multi_logloss: 0.363725\n",
      "Early stopping, best iteration is:\n",
      "[200]\ttrain's multi_logloss: 0.246232\teval's multi_logloss: 0.363725\n"
     ]
    },
    {
     "name": "stderr",
     "output_type": "stream",
     "text": [
      "num_leaves, val_score: 0.362750:  50%|########################5                        | 10/20 [00:07<00:08,  1.23it/s]\u001b[32m[I 2021-06-12 21:12:48,116]\u001b[0m Trial 16 finished with value: 0.3637246358386285 and parameters: {'num_leaves': 166}. Best is trial 9 with value: 0.3627500651538565.\u001b[0m\n",
      "num_leaves, val_score: 0.362750:  50%|########################5                        | 10/20 [00:07<00:08,  1.23it/s]"
     ]
    },
    {
     "name": "stdout",
     "output_type": "stream",
     "text": [
      "Training until validation scores don't improve for 10 rounds\n",
      "[100]\ttrain's multi_logloss: 0.458246\teval's multi_logloss: 0.452299\n",
      "[200]\ttrain's multi_logloss: 0.410469\teval's multi_logloss: 0.408909\n",
      "[300]\ttrain's multi_logloss: 0.387953\teval's multi_logloss: 0.394375\n",
      "[400]\ttrain's multi_logloss: 0.373749\teval's multi_logloss: 0.381576\n"
     ]
    },
    {
     "name": "stderr",
     "output_type": "stream",
     "text": [
      "num_leaves, val_score: 0.362750:  55%|##########################9                      | 11/20 [00:08<00:06,  1.48it/s]\u001b[32m[I 2021-06-12 21:12:48,473]\u001b[0m Trial 17 finished with value: 0.3706442830813782 and parameters: {'num_leaves': 2}. Best is trial 9 with value: 0.3627500651538565.\u001b[0m\n",
      "num_leaves, val_score: 0.362750:  55%|##########################9                      | 11/20 [00:08<00:06,  1.48it/s]"
     ]
    },
    {
     "name": "stdout",
     "output_type": "stream",
     "text": [
      "[500]\ttrain's multi_logloss: 0.363882\teval's multi_logloss: 0.373934\n",
      "Early stopping, best iteration is:\n",
      "[535]\ttrain's multi_logloss: 0.360942\teval's multi_logloss: 0.370644\n",
      "Training until validation scores don't improve for 10 rounds\n",
      "[100]\ttrain's multi_logloss: 0.336864\teval's multi_logloss: 0.392789\n"
     ]
    },
    {
     "name": "stderr",
     "output_type": "stream",
     "text": [
      "\r",
      "num_leaves, val_score: 0.362750:  55%|##########################9                      | 11/20 [00:08<00:06,  1.48it/s]"
     ]
    },
    {
     "name": "stdout",
     "output_type": "stream",
     "text": [
      "[200]\ttrain's multi_logloss: 0.246232\teval's multi_logloss: 0.363725\n",
      "Early stopping, best iteration is:\n",
      "[200]\ttrain's multi_logloss: 0.246232\teval's multi_logloss: 0.363725\n"
     ]
    },
    {
     "name": "stderr",
     "output_type": "stream",
     "text": [
      "num_leaves, val_score: 0.362750:  60%|#############################4                   | 12/20 [00:08<00:05,  1.38it/s]\u001b[32m[I 2021-06-12 21:12:49,319]\u001b[0m Trial 18 finished with value: 0.3637246358386285 and parameters: {'num_leaves': 256}. Best is trial 9 with value: 0.3627500651538565.\u001b[0m\n",
      "num_leaves, val_score: 0.362750:  60%|#############################4                   | 12/20 [00:08<00:05,  1.38it/s]"
     ]
    },
    {
     "name": "stdout",
     "output_type": "stream",
     "text": [
      "Training until validation scores don't improve for 10 rounds\n",
      "[100]\ttrain's multi_logloss: 0.336864\teval's multi_logloss: 0.392789\n"
     ]
    },
    {
     "name": "stderr",
     "output_type": "stream",
     "text": [
      "num_leaves, val_score: 0.362750:  65%|###############################8                 | 13/20 [00:10<00:05,  1.21it/s]\u001b[32m[I 2021-06-12 21:12:50,381]\u001b[0m Trial 19 finished with value: 0.3637246358386285 and parameters: {'num_leaves': 140}. Best is trial 9 with value: 0.3627500651538565.\u001b[0m\n",
      "num_leaves, val_score: 0.362750:  65%|###############################8                 | 13/20 [00:10<00:05,  1.21it/s]"
     ]
    },
    {
     "name": "stdout",
     "output_type": "stream",
     "text": [
      "[200]\ttrain's multi_logloss: 0.246232\teval's multi_logloss: 0.363725\n",
      "Early stopping, best iteration is:\n",
      "[200]\ttrain's multi_logloss: 0.246232\teval's multi_logloss: 0.363725\n",
      "Training until validation scores don't improve for 10 rounds\n",
      "[100]\ttrain's multi_logloss: 0.336864\teval's multi_logloss: 0.392789\n"
     ]
    },
    {
     "name": "stderr",
     "output_type": "stream",
     "text": [
      "num_leaves, val_score: 0.362750:  70%|##################################3              | 14/20 [00:10<00:04,  1.24it/s]\u001b[32m[I 2021-06-12 21:12:51,134]\u001b[0m Trial 20 finished with value: 0.3637246358386285 and parameters: {'num_leaves': 193}. Best is trial 9 with value: 0.3627500651538565.\u001b[0m\n",
      "num_leaves, val_score: 0.362750:  70%|##################################3              | 14/20 [00:10<00:04,  1.24it/s]"
     ]
    },
    {
     "name": "stdout",
     "output_type": "stream",
     "text": [
      "[200]\ttrain's multi_logloss: 0.246232\teval's multi_logloss: 0.363725\n",
      "Early stopping, best iteration is:\n",
      "[200]\ttrain's multi_logloss: 0.246232\teval's multi_logloss: 0.363725\n",
      "Training until validation scores don't improve for 10 rounds\n",
      "[100]\ttrain's multi_logloss: 0.413604\teval's multi_logloss: 0.410186\n",
      "[200]\ttrain's multi_logloss: 0.369668\teval's multi_logloss: 0.375351\n",
      "[300]\ttrain's multi_logloss: 0.349966\teval's multi_logloss: 0.365767\n"
     ]
    },
    {
     "name": "stderr",
     "output_type": "stream",
     "text": [
      "num_leaves, val_score: 0.359685:  75%|####################################7            | 15/20 [00:11<00:03,  1.50it/s]\u001b[32m[I 2021-06-12 21:12:51,470]\u001b[0m Trial 21 finished with value: 0.3596850639029737 and parameters: {'num_leaves': 3}. Best is trial 21 with value: 0.3596850639029737.\u001b[0m\n",
      "num_leaves, val_score: 0.359685:  75%|####################################7            | 15/20 [00:11<00:03,  1.50it/s]"
     ]
    },
    {
     "name": "stdout",
     "output_type": "stream",
     "text": [
      "[400]\ttrain's multi_logloss: 0.336317\teval's multi_logloss: 0.360014\n",
      "Early stopping, best iteration is:\n",
      "[395]\ttrain's multi_logloss: 0.336944\teval's multi_logloss: 0.359685\n",
      "Training until validation scores don't improve for 10 rounds\n"
     ]
    },
    {
     "name": "stderr",
     "output_type": "stream",
     "text": [
      "\r",
      "num_leaves, val_score: 0.356521:  75%|####################################7            | 15/20 [00:11<00:03,  1.50it/s]"
     ]
    },
    {
     "name": "stdout",
     "output_type": "stream",
     "text": [
      "[100]\ttrain's multi_logloss: 0.356976\teval's multi_logloss: 0.389443\n",
      "[200]\ttrain's multi_logloss: 0.287285\teval's multi_logloss: 0.356521\n",
      "Early stopping, best iteration is:\n",
      "[200]\ttrain's multi_logloss: 0.287285\teval's multi_logloss: 0.356521\n"
     ]
    },
    {
     "name": "stderr",
     "output_type": "stream",
     "text": [
      "num_leaves, val_score: 0.356521:  80%|#######################################2         | 16/20 [00:11<00:02,  1.75it/s]\u001b[32m[I 2021-06-12 21:12:51,822]\u001b[0m Trial 22 finished with value: 0.3565211059704068 and parameters: {'num_leaves': 12}. Best is trial 22 with value: 0.3565211059704068.\u001b[0m\n",
      "num_leaves, val_score: 0.356521:  80%|#######################################2         | 16/20 [00:11<00:02,  1.75it/s]"
     ]
    },
    {
     "name": "stdout",
     "output_type": "stream",
     "text": [
      "Training until validation scores don't improve for 10 rounds\n",
      "[100]\ttrain's multi_logloss: 0.348378\teval's multi_logloss: 0.38973\n"
     ]
    },
    {
     "name": "stderr",
     "output_type": "stream",
     "text": [
      "num_leaves, val_score: 0.356521:  85%|#########################################6       | 17/20 [00:11<00:01,  1.88it/s]\u001b[32m[I 2021-06-12 21:12:52,267]\u001b[0m Trial 23 finished with value: 0.3576617672374349 and parameters: {'num_leaves': 16}. Best is trial 22 with value: 0.3565211059704068.\u001b[0m\n",
      "num_leaves, val_score: 0.356521:  85%|#########################################6       | 17/20 [00:11<00:01,  1.88it/s]"
     ]
    },
    {
     "name": "stdout",
     "output_type": "stream",
     "text": [
      "[200]\ttrain's multi_logloss: 0.272853\teval's multi_logloss: 0.357662\n",
      "Early stopping, best iteration is:\n",
      "[200]\ttrain's multi_logloss: 0.272853\teval's multi_logloss: 0.357662\n",
      "Training until validation scores don't improve for 10 rounds\n",
      "[100]\ttrain's multi_logloss: 0.336864\teval's multi_logloss: 0.392789\n"
     ]
    },
    {
     "name": "stderr",
     "output_type": "stream",
     "text": [
      "num_leaves, val_score: 0.356521:  90%|############################################1    | 18/20 [00:12<00:01,  1.69it/s]\u001b[32m[I 2021-06-12 21:12:53,000]\u001b[0m Trial 24 finished with value: 0.3637246358386285 and parameters: {'num_leaves': 79}. Best is trial 22 with value: 0.3565211059704068.\u001b[0m\n",
      "num_leaves, val_score: 0.356521:  90%|############################################1    | 18/20 [00:12<00:01,  1.69it/s]"
     ]
    },
    {
     "name": "stdout",
     "output_type": "stream",
     "text": [
      "[200]\ttrain's multi_logloss: 0.246232\teval's multi_logloss: 0.363725\n",
      "Early stopping, best iteration is:\n",
      "[200]\ttrain's multi_logloss: 0.246232\teval's multi_logloss: 0.363725\n",
      "Training until validation scores don't improve for 10 rounds\n",
      "[100]\ttrain's multi_logloss: 0.380648\teval's multi_logloss: 0.394161\n",
      "[200]\ttrain's multi_logloss: 0.325806\teval's multi_logloss: 0.359263\n"
     ]
    },
    {
     "name": "stderr",
     "output_type": "stream",
     "text": [
      "num_leaves, val_score: 0.354712:  95%|##############################################5  | 19/20 [00:12<00:00,  1.96it/s]\u001b[32m[I 2021-06-12 21:12:53,313]\u001b[0m Trial 25 finished with value: 0.3547115032347577 and parameters: {'num_leaves': 6}. Best is trial 25 with value: 0.3547115032347577.\u001b[0m\n",
      "num_leaves, val_score: 0.354712:  95%|##############################################5  | 19/20 [00:12<00:00,  1.96it/s]"
     ]
    },
    {
     "name": "stdout",
     "output_type": "stream",
     "text": [
      "Early stopping, best iteration is:\n",
      "[265]\ttrain's multi_logloss: 0.307845\teval's multi_logloss: 0.354712\n",
      "Training until validation scores don't improve for 10 rounds\n",
      "[100]\ttrain's multi_logloss: 0.336864\teval's multi_logloss: 0.392789\n"
     ]
    },
    {
     "name": "stderr",
     "output_type": "stream",
     "text": [
      "num_leaves, val_score: 0.354712: 100%|#################################################| 20/20 [00:13<00:00,  1.71it/s]\u001b[32m[I 2021-06-12 21:12:54,077]\u001b[0m Trial 26 finished with value: 0.3637246358386285 and parameters: {'num_leaves': 106}. Best is trial 25 with value: 0.3547115032347577.\u001b[0m\n"
     ]
    },
    {
     "name": "stdout",
     "output_type": "stream",
     "text": [
      "[200]\ttrain's multi_logloss: 0.246232\teval's multi_logloss: 0.363725\n",
      "Early stopping, best iteration is:\n",
      "[200]\ttrain's multi_logloss: 0.246232\teval's multi_logloss: 0.363725\n"
     ]
    },
    {
     "name": "stderr",
     "output_type": "stream",
     "text": [
      "num_leaves, val_score: 0.354712: 100%|#################################################| 20/20 [00:13<00:00,  1.46it/s]\n",
      "bagging, val_score: 0.354712:   0%|                                                             | 0/10 [00:00<?, ?it/s]"
     ]
    },
    {
     "name": "stdout",
     "output_type": "stream",
     "text": [
      "Training until validation scores don't improve for 10 rounds\n",
      "[100]\ttrain's multi_logloss: 0.381092\teval's multi_logloss: 0.393064\n"
     ]
    },
    {
     "name": "stderr",
     "output_type": "stream",
     "text": [
      "bagging, val_score: 0.354712:  10%|#####3                                               | 1/10 [00:00<00:03,  2.98it/s]\u001b[32m[I 2021-06-12 21:12:54,425]\u001b[0m Trial 27 finished with value: 0.3595185693304728 and parameters: {'bagging_fraction': 0.9743204123935697, 'bagging_freq': 7}. Best is trial 27 with value: 0.3595185693304728.\u001b[0m\n",
      "bagging, val_score: 0.354712:  10%|#####3                                               | 1/10 [00:00<00:03,  2.98it/s]"
     ]
    },
    {
     "name": "stdout",
     "output_type": "stream",
     "text": [
      "[200]\ttrain's multi_logloss: 0.328127\teval's multi_logloss: 0.360709\n",
      "Early stopping, best iteration is:\n",
      "[225]\ttrain's multi_logloss: 0.32038\teval's multi_logloss: 0.359519\n",
      "Training until validation scores don't improve for 10 rounds\n",
      "[100]\ttrain's multi_logloss: 0.380627\teval's multi_logloss: 0.392489\n"
     ]
    },
    {
     "name": "stderr",
     "output_type": "stream",
     "text": [
      "bagging, val_score: 0.354712:  20%|##########6                                          | 2/10 [00:00<00:02,  3.19it/s]\u001b[32m[I 2021-06-12 21:12:54,723]\u001b[0m Trial 28 finished with value: 0.358244095456819 and parameters: {'bagging_fraction': 0.9331237800768347, 'bagging_freq': 5}. Best is trial 28 with value: 0.358244095456819.\u001b[0m\n",
      "bagging, val_score: 0.354712:  20%|##########6                                          | 2/10 [00:00<00:02,  3.19it/s]"
     ]
    },
    {
     "name": "stdout",
     "output_type": "stream",
     "text": [
      "[200]\ttrain's multi_logloss: 0.32685\teval's multi_logloss: 0.360862\n",
      "Early stopping, best iteration is:\n",
      "[250]\ttrain's multi_logloss: 0.312567\teval's multi_logloss: 0.358244\n",
      "Training until validation scores don't improve for 10 rounds\n",
      "[100]\ttrain's multi_logloss: 0.38487\teval's multi_logloss: 0.394443\n",
      "[200]\ttrain's multi_logloss: 0.327586\teval's multi_logloss: 0.357737\n",
      "[300]\ttrain's multi_logloss: 0.302676\teval's multi_logloss: 0.349823\n",
      "Early stopping, best iteration is:\n",
      "[294]\ttrain's multi_logloss: 0.304021\teval's multi_logloss: 0.349145\n"
     ]
    },
    {
     "name": "stderr",
     "output_type": "stream",
     "text": [
      "bagging, val_score: 0.349145:  30%|###############9                                     | 3/10 [00:01<00:02,  2.95it/s]\u001b[32m[I 2021-06-12 21:12:55,093]\u001b[0m Trial 29 finished with value: 0.34914545136580444 and parameters: {'bagging_fraction': 0.5030496811272075, 'bagging_freq': 7}. Best is trial 29 with value: 0.34914545136580444.\u001b[0m\n",
      "bagging, val_score: 0.349145:  30%|###############9                                     | 3/10 [00:01<00:02,  2.95it/s]"
     ]
    },
    {
     "name": "stdout",
     "output_type": "stream",
     "text": [
      "Training until validation scores don't improve for 10 rounds\n",
      "[100]\ttrain's multi_logloss: 0.379786\teval's multi_logloss: 0.394159\n",
      "[200]\ttrain's multi_logloss: 0.326241\teval's multi_logloss: 0.362383\n"
     ]
    },
    {
     "name": "stderr",
     "output_type": "stream",
     "text": [
      "bagging, val_score: 0.349145:  40%|#####################2                               | 4/10 [00:01<00:01,  3.20it/s]\u001b[32m[I 2021-06-12 21:12:55,365]\u001b[0m Trial 30 finished with value: 0.359425003212984 and parameters: {'bagging_fraction': 0.8974697603695891, 'bagging_freq': 6}. Best is trial 29 with value: 0.34914545136580444.\u001b[0m\n",
      "bagging, val_score: 0.349145:  40%|#####################2                               | 4/10 [00:01<00:01,  3.20it/s]"
     ]
    },
    {
     "name": "stdout",
     "output_type": "stream",
     "text": [
      "Early stopping, best iteration is:\n",
      "[240]\ttrain's multi_logloss: 0.314431\teval's multi_logloss: 0.359425\n",
      "Training until validation scores don't improve for 10 rounds\n",
      "[100]\ttrain's multi_logloss: 0.38127\teval's multi_logloss: 0.394248\n"
     ]
    },
    {
     "name": "stderr",
     "output_type": "stream",
     "text": [
      "bagging, val_score: 0.349145:  50%|##########################5                          | 5/10 [00:01<00:01,  3.10it/s]\u001b[32m[I 2021-06-12 21:12:55,704]\u001b[0m Trial 31 finished with value: 0.35247393860869103 and parameters: {'bagging_fraction': 0.7373638035908154, 'bagging_freq': 5}. Best is trial 29 with value: 0.34914545136580444.\u001b[0m\n",
      "bagging, val_score: 0.349145:  50%|##########################5                          | 5/10 [00:01<00:01,  3.10it/s]"
     ]
    },
    {
     "name": "stdout",
     "output_type": "stream",
     "text": [
      "[200]\ttrain's multi_logloss: 0.325759\teval's multi_logloss: 0.356197\n",
      "[300]\ttrain's multi_logloss: 0.299084\teval's multi_logloss: 0.352839\n",
      "Early stopping, best iteration is:\n",
      "[290]\ttrain's multi_logloss: 0.301443\teval's multi_logloss: 0.352474\n",
      "Training until validation scores don't improve for 10 rounds\n"
     ]
    },
    {
     "name": "stderr",
     "output_type": "stream",
     "text": [
      "bagging, val_score: 0.349145:  60%|###############################8                     | 6/10 [00:01<00:01,  3.22it/s]\u001b[32m[I 2021-06-12 21:12:55,993]\u001b[0m Trial 32 finished with value: 0.35348649074375216 and parameters: {'bagging_fraction': 0.6144167630469733, 'bagging_freq': 5}. Best is trial 29 with value: 0.34914545136580444.\u001b[0m\n",
      "bagging, val_score: 0.349145:  60%|###############################8                     | 6/10 [00:01<00:01,  3.22it/s]"
     ]
    },
    {
     "name": "stdout",
     "output_type": "stream",
     "text": [
      "[100]\ttrain's multi_logloss: 0.381\teval's multi_logloss: 0.392872\n",
      "[200]\ttrain's multi_logloss: 0.325351\teval's multi_logloss: 0.356737\n",
      "Early stopping, best iteration is:\n",
      "[250]\ttrain's multi_logloss: 0.311273\teval's multi_logloss: 0.353486\n",
      "Training until validation scores don't improve for 10 rounds\n",
      "[100]\ttrain's multi_logloss: 0.380811\teval's multi_logloss: 0.392692\n",
      "[200]\ttrain's multi_logloss: 0.325973\teval's multi_logloss: 0.361181\n"
     ]
    },
    {
     "name": "stderr",
     "output_type": "stream",
     "text": [
      "bagging, val_score: 0.349145:  70%|#####################################                | 7/10 [00:02<00:00,  3.20it/s]\u001b[32m[I 2021-06-12 21:12:56,309]\u001b[0m Trial 33 finished with value: 0.35534665256035786 and parameters: {'bagging_fraction': 0.854743509970721, 'bagging_freq': 4}. Best is trial 29 with value: 0.34914545136580444.\u001b[0m\n",
      "bagging, val_score: 0.349145:  70%|#####################################                | 7/10 [00:02<00:00,  3.20it/s]"
     ]
    },
    {
     "name": "stdout",
     "output_type": "stream",
     "text": [
      "Early stopping, best iteration is:\n",
      "[268]\ttrain's multi_logloss: 0.307252\teval's multi_logloss: 0.355347\n",
      "Training until validation scores don't improve for 10 rounds\n",
      "[100]\ttrain's multi_logloss: 0.380398\teval's multi_logloss: 0.393827\n"
     ]
    },
    {
     "name": "stderr",
     "output_type": "stream",
     "text": [
      "bagging, val_score: 0.349145:  80%|##########################################4          | 8/10 [00:02<00:00,  3.02it/s]\u001b[32m[I 2021-06-12 21:12:56,682]\u001b[0m Trial 34 finished with value: 0.3535598552380204 and parameters: {'bagging_fraction': 0.8514989845761254, 'bagging_freq': 6}. Best is trial 29 with value: 0.34914545136580444.\u001b[0m\n",
      "bagging, val_score: 0.349145:  80%|##########################################4          | 8/10 [00:02<00:00,  3.02it/s]"
     ]
    },
    {
     "name": "stdout",
     "output_type": "stream",
     "text": [
      "[200]\ttrain's multi_logloss: 0.326231\teval's multi_logloss: 0.361768\n",
      "[300]\ttrain's multi_logloss: 0.299347\teval's multi_logloss: 0.354283\n",
      "Early stopping, best iteration is:\n",
      "[324]\ttrain's multi_logloss: 0.294985\teval's multi_logloss: 0.35356\n",
      "Training until validation scores don't improve for 10 rounds\n"
     ]
    },
    {
     "name": "stderr",
     "output_type": "stream",
     "text": [
      "\r",
      "bagging, val_score: 0.349145:  80%|##########################################4          | 8/10 [00:02<00:00,  3.02it/s]"
     ]
    },
    {
     "name": "stdout",
     "output_type": "stream",
     "text": [
      "[100]\ttrain's multi_logloss: 0.379857\teval's multi_logloss: 0.392952\n",
      "[200]\ttrain's multi_logloss: 0.325248\teval's multi_logloss: 0.358878\n",
      "Early stopping, best iteration is:\n",
      "[282]\ttrain's multi_logloss: 0.303308\teval's multi_logloss: 0.352539\n"
     ]
    },
    {
     "name": "stderr",
     "output_type": "stream",
     "text": [
      "bagging, val_score: 0.349145:  90%|###############################################7     | 9/10 [00:02<00:00,  3.04it/s]\u001b[32m[I 2021-06-12 21:12:57,005]\u001b[0m Trial 35 finished with value: 0.35253905883562825 and parameters: {'bagging_fraction': 0.717308342610532, 'bagging_freq': 3}. Best is trial 29 with value: 0.34914545136580444.\u001b[0m\n",
      "bagging, val_score: 0.349145:  90%|###############################################7     | 9/10 [00:02<00:00,  3.04it/s]"
     ]
    },
    {
     "name": "stdout",
     "output_type": "stream",
     "text": [
      "Training until validation scores don't improve for 10 rounds\n",
      "[100]\ttrain's multi_logloss: 0.382767\teval's multi_logloss: 0.394641\n",
      "[200]\ttrain's multi_logloss: 0.327178\teval's multi_logloss: 0.358373\n"
     ]
    },
    {
     "name": "stderr",
     "output_type": "stream",
     "text": [
      "bagging, val_score: 0.349145: 100%|####################################################| 10/10 [00:03<00:00,  3.17it/s]\u001b[32m[I 2021-06-12 21:12:57,288]\u001b[0m Trial 36 finished with value: 0.35347179855889815 and parameters: {'bagging_fraction': 0.48950439868749557, 'bagging_freq': 4}. Best is trial 29 with value: 0.34914545136580444.\u001b[0m\n",
      "bagging, val_score: 0.349145: 100%|####################################################| 10/10 [00:03<00:00,  3.12it/s]\n",
      "feature_fraction_stage2, val_score: 0.349145:   0%|                                              | 0/3 [00:00<?, ?it/s]"
     ]
    },
    {
     "name": "stdout",
     "output_type": "stream",
     "text": [
      "Early stopping, best iteration is:\n",
      "[248]\ttrain's multi_logloss: 0.313887\teval's multi_logloss: 0.353472\n",
      "Training until validation scores don't improve for 10 rounds\n",
      "[100]\ttrain's multi_logloss: 0.38487\teval's multi_logloss: 0.394443\n"
     ]
    },
    {
     "name": "stderr",
     "output_type": "stream",
     "text": [
      "feature_fraction_stage2, val_score: 0.349145:  33%|############6                         | 1/3 [00:00<00:00,  3.07it/s]\u001b[32m[I 2021-06-12 21:12:57,624]\u001b[0m Trial 37 finished with value: 0.34914545136580444 and parameters: {'feature_fraction': 0.9520000000000001}. Best is trial 37 with value: 0.34914545136580444.\u001b[0m\n",
      "feature_fraction_stage2, val_score: 0.349145:  33%|############6                         | 1/3 [00:00<00:00,  3.07it/s]"
     ]
    },
    {
     "name": "stdout",
     "output_type": "stream",
     "text": [
      "[200]\ttrain's multi_logloss: 0.327586\teval's multi_logloss: 0.357737\n",
      "[300]\ttrain's multi_logloss: 0.302676\teval's multi_logloss: 0.349823\n",
      "Early stopping, best iteration is:\n",
      "[294]\ttrain's multi_logloss: 0.304021\teval's multi_logloss: 0.349145\n",
      "Training until validation scores don't improve for 10 rounds\n",
      "[100]\ttrain's multi_logloss: 0.38487\teval's multi_logloss: 0.394443\n",
      "[200]\ttrain's multi_logloss: 0.327586\teval's multi_logloss: 0.357737\n",
      "[300]\ttrain's multi_logloss: 0.302676\teval's multi_logloss: 0.349823\n",
      "Early stopping, best iteration is:\n",
      "[294]\ttrain's multi_logloss: 0.304021\teval's multi_logloss: 0.349145\n"
     ]
    },
    {
     "name": "stderr",
     "output_type": "stream",
     "text": [
      "feature_fraction_stage2, val_score: 0.349145:  67%|#########################3            | 2/3 [00:00<00:00,  3.03it/s]\u001b[32m[I 2021-06-12 21:12:57,955]\u001b[0m Trial 38 finished with value: 0.34914545136580444 and parameters: {'feature_fraction': 0.9840000000000001}. Best is trial 37 with value: 0.34914545136580444.\u001b[0m\n",
      "feature_fraction_stage2, val_score: 0.349145:  67%|#########################3            | 2/3 [00:00<00:00,  3.03it/s]"
     ]
    },
    {
     "name": "stdout",
     "output_type": "stream",
     "text": [
      "Training until validation scores don't improve for 10 rounds\n",
      "[100]\ttrain's multi_logloss: 0.390325\teval's multi_logloss: 0.399377\n",
      "[200]\ttrain's multi_logloss: 0.33061\teval's multi_logloss: 0.358993\n"
     ]
    },
    {
     "name": "stderr",
     "output_type": "stream",
     "text": [
      "feature_fraction_stage2, val_score: 0.349145: 100%|######################################| 3/3 [00:00<00:00,  3.17it/s]\u001b[32m[I 2021-06-12 21:12:58,255]\u001b[0m Trial 39 finished with value: 0.35071840883953703 and parameters: {'feature_fraction': 0.92}. Best is trial 37 with value: 0.34914545136580444.\u001b[0m\n",
      "feature_fraction_stage2, val_score: 0.349145: 100%|######################################| 3/3 [00:00<00:00,  3.12it/s]\n",
      "regularization_factors, val_score: 0.349145:   0%|                                              | 0/20 [00:00<?, ?it/s]"
     ]
    },
    {
     "name": "stdout",
     "output_type": "stream",
     "text": [
      "Early stopping, best iteration is:\n",
      "[274]\ttrain's multi_logloss: 0.310306\teval's multi_logloss: 0.350718\n",
      "Training until validation scores don't improve for 10 rounds\n",
      "[100]\ttrain's multi_logloss: 0.38487\teval's multi_logloss: 0.394443\n"
     ]
    },
    {
     "name": "stderr",
     "output_type": "stream",
     "text": [
      "regularization_factors, val_score: 0.349145:   5%|#9                                    | 1/20 [00:00<00:07,  2.61it/s]\u001b[32m[I 2021-06-12 21:12:58,648]\u001b[0m Trial 40 finished with value: 0.34914545550994974 and parameters: {'lambda_l1': 1.5653062475791655e-06, 'lambda_l2': 1.2929098678227592e-08}. Best is trial 40 with value: 0.34914545550994974.\u001b[0m\n",
      "regularization_factors, val_score: 0.349145:   5%|#9                                    | 1/20 [00:00<00:07,  2.61it/s]"
     ]
    },
    {
     "name": "stdout",
     "output_type": "stream",
     "text": [
      "[200]\ttrain's multi_logloss: 0.327586\teval's multi_logloss: 0.357737\n",
      "[300]\ttrain's multi_logloss: 0.302677\teval's multi_logloss: 0.349823\n",
      "Early stopping, best iteration is:\n",
      "[294]\ttrain's multi_logloss: 0.304021\teval's multi_logloss: 0.349145\n",
      "Training until validation scores don't improve for 10 rounds\n"
     ]
    },
    {
     "name": "stderr",
     "output_type": "stream",
     "text": [
      "\r",
      "regularization_factors, val_score: 0.349145:   5%|#9                                    | 1/20 [00:00<00:07,  2.61it/s]"
     ]
    },
    {
     "name": "stdout",
     "output_type": "stream",
     "text": [
      "[100]\ttrain's multi_logloss: 0.384821\teval's multi_logloss: 0.394491\n",
      "[200]\ttrain's multi_logloss: 0.327537\teval's multi_logloss: 0.35787\n",
      "Early stopping, best iteration is:\n",
      "[273]\ttrain's multi_logloss: 0.308218\teval's multi_logloss: 0.350243\n"
     ]
    },
    {
     "name": "stderr",
     "output_type": "stream",
     "text": [
      "regularization_factors, val_score: 0.349145:  10%|###8                                  | 2/20 [00:00<00:06,  2.89it/s]\u001b[32m[I 2021-06-12 21:12:58,969]\u001b[0m Trial 41 finished with value: 0.35024281265022666 and parameters: {'lambda_l1': 4.150808047146819e-07, 'lambda_l2': 0.0010115630520500765}. Best is trial 40 with value: 0.34914545550994974.\u001b[0m\n",
      "regularization_factors, val_score: 0.349145:  10%|###8                                  | 2/20 [00:00<00:06,  2.89it/s]"
     ]
    },
    {
     "name": "stdout",
     "output_type": "stream",
     "text": [
      "Training until validation scores don't improve for 10 rounds\n",
      "[100]\ttrain's multi_logloss: 0.38747\teval's multi_logloss: 0.395988\n",
      "[200]\ttrain's multi_logloss: 0.330889\teval's multi_logloss: 0.358919\n"
     ]
    },
    {
     "name": "stderr",
     "output_type": "stream",
     "text": [
      "regularization_factors, val_score: 0.349145:  15%|#####7                                | 3/20 [00:01<00:05,  2.98it/s]\u001b[32m[I 2021-06-12 21:12:59,292]\u001b[0m Trial 42 finished with value: 0.3512589971548734 and parameters: {'lambda_l1': 0.35775279968107115, 'lambda_l2': 0.001627594435546446}. Best is trial 40 with value: 0.34914545550994974.\u001b[0m\n",
      "regularization_factors, val_score: 0.349145:  15%|#####7                                | 3/20 [00:01<00:05,  2.98it/s]"
     ]
    },
    {
     "name": "stdout",
     "output_type": "stream",
     "text": [
      "Early stopping, best iteration is:\n",
      "[259]\ttrain's multi_logloss: 0.315332\teval's multi_logloss: 0.351259\n",
      "Training until validation scores don't improve for 10 rounds\n",
      "[100]\ttrain's multi_logloss: 0.40905\teval's multi_logloss: 0.411106\n"
     ]
    },
    {
     "name": "stderr",
     "output_type": "stream",
     "text": [
      "regularization_factors, val_score: 0.349145:  20%|#######6                              | 4/20 [00:01<00:05,  2.88it/s]\u001b[32m[I 2021-06-12 21:12:59,657]\u001b[0m Trial 43 finished with value: 0.35378802529324493 and parameters: {'lambda_l1': 8.416457801812499e-08, 'lambda_l2': 4.375849484206027}. Best is trial 40 with value: 0.34914545550994974.\u001b[0m\n",
      "regularization_factors, val_score: 0.349145:  20%|#######6                              | 4/20 [00:01<00:05,  2.88it/s]"
     ]
    },
    {
     "name": "stdout",
     "output_type": "stream",
     "text": [
      "[200]\ttrain's multi_logloss: 0.350602\teval's multi_logloss: 0.366732\n",
      "[300]\ttrain's multi_logloss: 0.326457\teval's multi_logloss: 0.355522\n",
      "Early stopping, best iteration is:\n",
      "[322]\ttrain's multi_logloss: 0.32285\teval's multi_logloss: 0.353788\n",
      "Training until validation scores don't improve for 10 rounds\n"
     ]
    },
    {
     "name": "stderr",
     "output_type": "stream",
     "text": [
      "\r",
      "regularization_factors, val_score: 0.349145:  20%|#######6                              | 4/20 [00:01<00:05,  2.88it/s]"
     ]
    },
    {
     "name": "stdout",
     "output_type": "stream",
     "text": [
      "[100]\ttrain's multi_logloss: 0.387409\teval's multi_logloss: 0.395265\n",
      "[200]\ttrain's multi_logloss: 0.330784\teval's multi_logloss: 0.358207\n",
      "Early stopping, best iteration is:\n",
      "[273]\ttrain's multi_logloss: 0.31233\teval's multi_logloss: 0.349896\n"
     ]
    },
    {
     "name": "stderr",
     "output_type": "stream",
     "text": [
      "regularization_factors, val_score: 0.349145:  25%|#########5                            | 5/20 [00:01<00:04,  3.01it/s]\u001b[32m[I 2021-06-12 21:12:59,961]\u001b[0m Trial 44 finished with value: 0.349896010209493 and parameters: {'lambda_l1': 0.20640194857736013, 'lambda_l2': 0.19489803636908637}. Best is trial 40 with value: 0.34914545550994974.\u001b[0m\n",
      "regularization_factors, val_score: 0.349145:  25%|#########5                            | 5/20 [00:01<00:04,  3.01it/s]"
     ]
    },
    {
     "name": "stdout",
     "output_type": "stream",
     "text": [
      "Training until validation scores don't improve for 10 rounds\n",
      "[100]\ttrain's multi_logloss: 0.384817\teval's multi_logloss: 0.394488\n"
     ]
    },
    {
     "name": "stderr",
     "output_type": "stream",
     "text": [
      "regularization_factors, val_score: 0.349145:  30%|###########4                          | 6/20 [00:02<00:04,  2.86it/s]\u001b[32m[I 2021-06-12 21:13:00,344]\u001b[0m Trial 45 finished with value: 0.35024219795482614 and parameters: {'lambda_l1': 1.697184339573735e-07, 'lambda_l2': 0.00048111667940651246}. Best is trial 40 with value: 0.34914545550994974.\u001b[0m\n",
      "regularization_factors, val_score: 0.349145:  30%|###########4                          | 6/20 [00:02<00:04,  2.86it/s]"
     ]
    },
    {
     "name": "stdout",
     "output_type": "stream",
     "text": [
      "[200]\ttrain's multi_logloss: 0.327533\teval's multi_logloss: 0.357869\n",
      "Early stopping, best iteration is:\n",
      "[273]\ttrain's multi_logloss: 0.308214\teval's multi_logloss: 0.350242\n",
      "Training until validation scores don't improve for 10 rounds\n",
      "[100]\ttrain's multi_logloss: 0.38487\teval's multi_logloss: 0.394443\n",
      "[200]\ttrain's multi_logloss: 0.327586\teval's multi_logloss: 0.357737\n",
      "[300]\ttrain's multi_logloss: 0.302677\teval's multi_logloss: 0.349823\n"
     ]
    },
    {
     "name": "stderr",
     "output_type": "stream",
     "text": [
      "regularization_factors, val_score: 0.349145:  35%|#############3                        | 7/20 [00:02<00:04,  2.84it/s]\u001b[32m[I 2021-06-12 21:13:00,700]\u001b[0m Trial 46 finished with value: 0.3491454531117428 and parameters: {'lambda_l1': 1.696764755642006e-08, 'lambda_l2': 1.2211519251281464e-06}. Best is trial 46 with value: 0.3491454531117428.\u001b[0m\n",
      "regularization_factors, val_score: 0.349145:  35%|#############3                        | 7/20 [00:02<00:04,  2.84it/s]"
     ]
    },
    {
     "name": "stdout",
     "output_type": "stream",
     "text": [
      "Early stopping, best iteration is:\n",
      "[294]\ttrain's multi_logloss: 0.304021\teval's multi_logloss: 0.349145\n",
      "Training until validation scores don't improve for 10 rounds\n",
      "[100]\ttrain's multi_logloss: 0.384802\teval's multi_logloss: 0.39435\n"
     ]
    },
    {
     "name": "stderr",
     "output_type": "stream",
     "text": [
      "regularization_factors, val_score: 0.349145:  40%|###############2                      | 8/20 [00:02<00:04,  2.94it/s]\u001b[32m[I 2021-06-12 21:13:01,017]\u001b[0m Trial 47 finished with value: 0.3501596667807653 and parameters: {'lambda_l1': 1.9603293507682459e-07, 'lambda_l2': 0.005412873728061167}. Best is trial 46 with value: 0.3491454531117428.\u001b[0m\n",
      "regularization_factors, val_score: 0.349145:  40%|###############2                      | 8/20 [00:02<00:04,  2.94it/s]"
     ]
    },
    {
     "name": "stdout",
     "output_type": "stream",
     "text": [
      "[200]\ttrain's multi_logloss: 0.327513\teval's multi_logloss: 0.357709\n",
      "Early stopping, best iteration is:\n",
      "[275]\ttrain's multi_logloss: 0.307785\teval's multi_logloss: 0.35016\n",
      "Training until validation scores don't improve for 10 rounds\n"
     ]
    },
    {
     "name": "stderr",
     "output_type": "stream",
     "text": [
      "\r",
      "regularization_factors, val_score: 0.349145:  40%|###############2                      | 8/20 [00:03<00:04,  2.94it/s]"
     ]
    },
    {
     "name": "stdout",
     "output_type": "stream",
     "text": [
      "[100]\ttrain's multi_logloss: 0.384769\teval's multi_logloss: 0.394458\n",
      "[200]\ttrain's multi_logloss: 0.327523\teval's multi_logloss: 0.357969\n",
      "Early stopping, best iteration is:\n",
      "[275]\ttrain's multi_logloss: 0.307737\teval's multi_logloss: 0.350604\n"
     ]
    },
    {
     "name": "stderr",
     "output_type": "stream",
     "text": [
      "regularization_factors, val_score: 0.349145:  45%|#################1                    | 9/20 [00:03<00:03,  2.93it/s]\u001b[32m[I 2021-06-12 21:13:01,360]\u001b[0m Trial 48 finished with value: 0.35060363824670554 and parameters: {'lambda_l1': 8.297993593512798e-07, 'lambda_l2': 0.0017065259673821555}. Best is trial 46 with value: 0.3491454531117428.\u001b[0m\n",
      "regularization_factors, val_score: 0.349145:  45%|#################1                    | 9/20 [00:03<00:03,  2.93it/s]"
     ]
    },
    {
     "name": "stdout",
     "output_type": "stream",
     "text": [
      "Training until validation scores don't improve for 10 rounds\n",
      "[100]\ttrain's multi_logloss: 0.385944\teval's multi_logloss: 0.393931\n",
      "[200]\ttrain's multi_logloss: 0.329127\teval's multi_logloss: 0.357147\n"
     ]
    },
    {
     "name": "stderr",
     "output_type": "stream",
     "text": [
      "regularization_factors, val_score: 0.347971:  50%|##################5                  | 10/20 [00:03<00:03,  2.92it/s]\u001b[32m[I 2021-06-12 21:13:01,702]\u001b[0m Trial 49 finished with value: 0.3479705771380217 and parameters: {'lambda_l1': 0.0040789862350089625, 'lambda_l2': 0.19427155281347908}. Best is trial 49 with value: 0.3479705771380217.\u001b[0m\n",
      "regularization_factors, val_score: 0.347971:  50%|##################5                  | 10/20 [00:03<00:03,  2.92it/s]"
     ]
    },
    {
     "name": "stdout",
     "output_type": "stream",
     "text": [
      "[300]\ttrain's multi_logloss: 0.304466\teval's multi_logloss: 0.348446\n",
      "Early stopping, best iteration is:\n",
      "[294]\ttrain's multi_logloss: 0.305771\teval's multi_logloss: 0.347971\n",
      "Training until validation scores don't improve for 10 rounds\n",
      "[100]\ttrain's multi_logloss: 0.407808\teval's multi_logloss: 0.409937\n"
     ]
    },
    {
     "name": "stderr",
     "output_type": "stream",
     "text": [
      "regularization_factors, val_score: 0.347971:  55%|####################3                | 11/20 [00:03<00:03,  2.82it/s]\u001b[32m[I 2021-06-12 21:13:02,088]\u001b[0m Trial 50 finished with value: 0.3529292820625484 and parameters: {'lambda_l1': 0.0010544117526188515, 'lambda_l2': 4.057140455991874}. Best is trial 49 with value: 0.3479705771380217.\u001b[0m\n",
      "regularization_factors, val_score: 0.347971:  55%|####################3                | 11/20 [00:03<00:03,  2.82it/s]"
     ]
    },
    {
     "name": "stdout",
     "output_type": "stream",
     "text": [
      "[200]\ttrain's multi_logloss: 0.349436\teval's multi_logloss: 0.365776\n",
      "[300]\ttrain's multi_logloss: 0.325288\teval's multi_logloss: 0.354648\n",
      "Early stopping, best iteration is:\n",
      "[322]\ttrain's multi_logloss: 0.321663\teval's multi_logloss: 0.352929\n",
      "Training until validation scores don't improve for 10 rounds\n",
      "[100]\ttrain's multi_logloss: 0.384847\teval's multi_logloss: 0.394434\n",
      "[200]\ttrain's multi_logloss: 0.327509\teval's multi_logloss: 0.357829\n"
     ]
    },
    {
     "name": "stderr",
     "output_type": "stream",
     "text": [
      "regularization_factors, val_score: 0.347971:  60%|######################2              | 12/20 [00:04<00:02,  2.81it/s]\u001b[32m[I 2021-06-12 21:13:02,447]\u001b[0m Trial 51 finished with value: 0.34924087476180504 and parameters: {'lambda_l1': 0.0007255359229272226, 'lambda_l2': 1.0916107225045758e-06}. Best is trial 49 with value: 0.3479705771380217.\u001b[0m\n",
      "regularization_factors, val_score: 0.347971:  60%|######################2              | 12/20 [00:04<00:02,  2.81it/s]"
     ]
    },
    {
     "name": "stdout",
     "output_type": "stream",
     "text": [
      "[300]\ttrain's multi_logloss: 0.302561\teval's multi_logloss: 0.350018\n",
      "Early stopping, best iteration is:\n",
      "[294]\ttrain's multi_logloss: 0.303936\teval's multi_logloss: 0.349241\n",
      "Training until validation scores don't improve for 10 rounds\n",
      "[100]\ttrain's multi_logloss: 0.38487\teval's multi_logloss: 0.394443\n"
     ]
    },
    {
     "name": "stderr",
     "output_type": "stream",
     "text": [
      "regularization_factors, val_score: 0.347971:  65%|########################             | 13/20 [00:04<00:02,  2.75it/s]\u001b[32m[I 2021-06-12 21:13:02,830]\u001b[0m Trial 52 finished with value: 0.3491455594896176 and parameters: {'lambda_l1': 3.923219385248887e-05, 'lambda_l2': 3.01998915680301e-06}. Best is trial 49 with value: 0.3479705771380217.\u001b[0m\n",
      "regularization_factors, val_score: 0.347971:  65%|########################             | 13/20 [00:04<00:02,  2.75it/s]"
     ]
    },
    {
     "name": "stdout",
     "output_type": "stream",
     "text": [
      "[200]\ttrain's multi_logloss: 0.327587\teval's multi_logloss: 0.357738\n",
      "[300]\ttrain's multi_logloss: 0.302677\teval's multi_logloss: 0.349823\n",
      "Early stopping, best iteration is:\n",
      "[294]\ttrain's multi_logloss: 0.304022\teval's multi_logloss: 0.349146\n",
      "Training until validation scores don't improve for 10 rounds\n",
      "[100]\ttrain's multi_logloss: 0.384924\teval's multi_logloss: 0.394123\n",
      "[200]\ttrain's multi_logloss: 0.327815\teval's multi_logloss: 0.357657\n"
     ]
    },
    {
     "name": "stderr",
     "output_type": "stream",
     "text": [
      "regularization_factors, val_score: 0.347971:  70%|#########################9           | 14/20 [00:04<00:02,  2.81it/s]\u001b[32m[I 2021-06-12 21:13:03,166]\u001b[0m Trial 53 finished with value: 0.3495424188381223 and parameters: {'lambda_l1': 0.017926742497250785, 'lambda_l2': 1.4667844721359258e-06}. Best is trial 49 with value: 0.3479705771380217.\u001b[0m\n",
      "regularization_factors, val_score: 0.347971:  70%|#########################9           | 14/20 [00:04<00:02,  2.81it/s]"
     ]
    },
    {
     "name": "stdout",
     "output_type": "stream",
     "text": [
      "Early stopping, best iteration is:\n",
      "[275]\ttrain's multi_logloss: 0.307985\teval's multi_logloss: 0.349542\n",
      "Training until validation scores don't improve for 10 rounds\n",
      "[100]\ttrain's multi_logloss: 0.445691\teval's multi_logloss: 0.441384\n",
      "[200]\ttrain's multi_logloss: 0.403911\teval's multi_logloss: 0.402269\n",
      "[300]\ttrain's multi_logloss: 0.389173\teval's multi_logloss: 0.388415\n",
      "[400]\ttrain's multi_logloss: 0.382591\teval's multi_logloss: 0.382722\n",
      "[500]\ttrain's multi_logloss: 0.379206\teval's multi_logloss: 0.380162\n"
     ]
    },
    {
     "name": "stderr",
     "output_type": "stream",
     "text": [
      "regularization_factors, val_score: 0.347971:  75%|###########################7         | 15/20 [00:05<00:01,  2.52it/s]\u001b[32m[I 2021-06-12 21:13:03,662]\u001b[0m Trial 54 finished with value: 0.3780239666039117 and parameters: {'lambda_l1': 9.919067508504291, 'lambda_l2': 3.107946200191447e-08}. Best is trial 49 with value: 0.3479705771380217.\u001b[0m\n",
      "regularization_factors, val_score: 0.347971:  75%|###########################7         | 15/20 [00:05<00:01,  2.52it/s]"
     ]
    },
    {
     "name": "stdout",
     "output_type": "stream",
     "text": [
      "[600]\ttrain's multi_logloss: 0.376707\teval's multi_logloss: 0.37829\n",
      "Early stopping, best iteration is:\n",
      "[609]\ttrain's multi_logloss: 0.376436\teval's multi_logloss: 0.378024\n",
      "Training until validation scores don't improve for 10 rounds\n",
      "[100]\ttrain's multi_logloss: 0.384871\teval's multi_logloss: 0.394444\n"
     ]
    },
    {
     "name": "stderr",
     "output_type": "stream",
     "text": [
      "regularization_factors, val_score: 0.347971:  80%|#############################6       | 16/20 [00:05<00:01,  2.60it/s]\u001b[32m[I 2021-06-12 21:13:04,015]\u001b[0m Trial 55 finished with value: 0.3491455771977868 and parameters: {'lambda_l1': 2.4727860377845167e-05, 'lambda_l2': 4.309909051531047e-05}. Best is trial 49 with value: 0.3479705771380217.\u001b[0m\n",
      "regularization_factors, val_score: 0.347971:  80%|#############################6       | 16/20 [00:05<00:01,  2.60it/s]"
     ]
    },
    {
     "name": "stdout",
     "output_type": "stream",
     "text": [
      "[200]\ttrain's multi_logloss: 0.327587\teval's multi_logloss: 0.357738\n",
      "[300]\ttrain's multi_logloss: 0.302677\teval's multi_logloss: 0.349823\n",
      "Early stopping, best iteration is:\n",
      "[294]\ttrain's multi_logloss: 0.304022\teval's multi_logloss: 0.349146\n",
      "Training until validation scores don't improve for 10 rounds\n",
      "[100]\ttrain's multi_logloss: 0.385329\teval's multi_logloss: 0.394344\n",
      "[200]\ttrain's multi_logloss: 0.328177\teval's multi_logloss: 0.357821\n",
      "[300]\ttrain's multi_logloss: 0.303304\teval's multi_logloss: 0.3498\n"
     ]
    },
    {
     "name": "stderr",
     "output_type": "stream",
     "text": [
      "regularization_factors, val_score: 0.347971:  85%|###############################4     | 17/20 [00:06<00:01,  2.63it/s]\u001b[32m[I 2021-06-12 21:13:04,387]\u001b[0m Trial 56 finished with value: 0.34908436832842155 and parameters: {'lambda_l1': 0.013378906565203259, 'lambda_l2': 0.06649725968176216}. Best is trial 49 with value: 0.3479705771380217.\u001b[0m\n",
      "regularization_factors, val_score: 0.347971:  85%|###############################4     | 17/20 [00:06<00:01,  2.63it/s]"
     ]
    },
    {
     "name": "stdout",
     "output_type": "stream",
     "text": [
      "Early stopping, best iteration is:\n",
      "[294]\ttrain's multi_logloss: 0.304666\teval's multi_logloss: 0.349084\n",
      "Training until validation scores don't improve for 10 rounds\n",
      "[100]\ttrain's multi_logloss: 0.385483\teval's multi_logloss: 0.394268\n"
     ]
    },
    {
     "name": "stderr",
     "output_type": "stream",
     "text": [
      "regularization_factors, val_score: 0.347971:  90%|#################################3   | 18/20 [00:06<00:00,  2.72it/s]\u001b[32m[I 2021-06-12 21:13:04,722]\u001b[0m Trial 57 finished with value: 0.34953987859578395 and parameters: {'lambda_l1': 0.015341396018049215, 'lambda_l2': 0.08190953830698035}. Best is trial 49 with value: 0.3479705771380217.\u001b[0m\n",
      "regularization_factors, val_score: 0.347971:  90%|#################################3   | 18/20 [00:06<00:00,  2.72it/s]"
     ]
    },
    {
     "name": "stdout",
     "output_type": "stream",
     "text": [
      "[200]\ttrain's multi_logloss: 0.328393\teval's multi_logloss: 0.357672\n",
      "Early stopping, best iteration is:\n",
      "[275]\ttrain's multi_logloss: 0.30868\teval's multi_logloss: 0.34954\n",
      "Training until validation scores don't improve for 10 rounds\n",
      "[100]\ttrain's multi_logloss: 0.38607\teval's multi_logloss: 0.39383\n",
      "[200]\ttrain's multi_logloss: 0.32912\teval's multi_logloss: 0.357309\n",
      "[300]\ttrain's multi_logloss: 0.304718\teval's multi_logloss: 0.348637\n",
      "Early stopping, best iteration is:\n",
      "[294]\ttrain's multi_logloss: 0.306021\teval's multi_logloss: 0.348261\n"
     ]
    },
    {
     "name": "stderr",
     "output_type": "stream",
     "text": [
      "regularization_factors, val_score: 0.347971:  95%|###################################1 | 19/20 [00:06<00:00,  2.74it/s]\u001b[32m[I 2021-06-12 21:13:05,080]\u001b[0m Trial 58 finished with value: 0.34826104738784663 and parameters: {'lambda_l1': 0.007480683697703128, 'lambda_l2': 0.220903167564444}. Best is trial 49 with value: 0.3479705771380217.\u001b[0m\n",
      "regularization_factors, val_score: 0.347971:  95%|###################################1 | 19/20 [00:06<00:00,  2.74it/s]"
     ]
    },
    {
     "name": "stdout",
     "output_type": "stream",
     "text": [
      "Training until validation scores don't improve for 10 rounds\n",
      "[100]\ttrain's multi_logloss: 0.464434\teval's multi_logloss: 0.459995\n",
      "[200]\ttrain's multi_logloss: 0.41381\teval's multi_logloss: 0.411542\n",
      "[300]\ttrain's multi_logloss: 0.3943\teval's multi_logloss: 0.393381\n",
      "[400]\ttrain's multi_logloss: 0.384353\teval's multi_logloss: 0.384744\n",
      "[500]\ttrain's multi_logloss: 0.379237\teval's multi_logloss: 0.38075\n",
      "[600]\ttrain's multi_logloss: 0.375895\teval's multi_logloss: 0.378497\n"
     ]
    },
    {
     "name": "stderr",
     "output_type": "stream",
     "text": [
      "regularization_factors, val_score: 0.347971: 100%|#####################################| 20/20 [00:07<00:00,  2.27it/s]\u001b[32m[I 2021-06-12 21:13:05,696]\u001b[0m Trial 59 finished with value: 0.37610046412835074 and parameters: {'lambda_l1': 8.81506811401392, 'lambda_l2': 9.294465241136178}. Best is trial 49 with value: 0.3479705771380217.\u001b[0m\n",
      "regularization_factors, val_score: 0.347971: 100%|#####################################| 20/20 [00:07<00:00,  2.69it/s]\n",
      "min_data_in_leaf, val_score: 0.347971:   0%|                                                     | 0/5 [00:00<?, ?it/s]"
     ]
    },
    {
     "name": "stdout",
     "output_type": "stream",
     "text": [
      "[700]\ttrain's multi_logloss: 0.372615\teval's multi_logloss: 0.37645\n",
      "Early stopping, best iteration is:\n",
      "[743]\ttrain's multi_logloss: 0.372232\teval's multi_logloss: 0.3761\n",
      "Training until validation scores don't improve for 10 rounds\n"
     ]
    },
    {
     "name": "stderr",
     "output_type": "stream",
     "text": [
      "\r",
      "min_data_in_leaf, val_score: 0.347971:   0%|                                                     | 0/5 [00:00<?, ?it/s]"
     ]
    },
    {
     "name": "stdout",
     "output_type": "stream",
     "text": [
      "[100]\ttrain's multi_logloss: 0.405655\teval's multi_logloss: 0.408983\n",
      "[200]\ttrain's multi_logloss: 0.351725\teval's multi_logloss: 0.36972\n",
      "Early stopping, best iteration is:\n",
      "[277]\ttrain's multi_logloss: 0.330135\teval's multi_logloss: 0.357811\n"
     ]
    },
    {
     "name": "stderr",
     "output_type": "stream",
     "text": [
      "min_data_in_leaf, val_score: 0.347971:  20%|#########                                    | 1/5 [00:00<00:01,  3.07it/s]\u001b[32m[I 2021-06-12 21:13:06,031]\u001b[0m Trial 60 finished with value: 0.3578108066905299 and parameters: {'min_child_samples': 50}. Best is trial 60 with value: 0.3578108066905299.\u001b[0m\n",
      "min_data_in_leaf, val_score: 0.347971:  20%|#########                                    | 1/5 [00:00<00:01,  3.07it/s]"
     ]
    },
    {
     "name": "stdout",
     "output_type": "stream",
     "text": [
      "Training until validation scores don't improve for 10 rounds\n",
      "[100]\ttrain's multi_logloss: 0.388617\teval's multi_logloss: 0.395188\n",
      "[200]\ttrain's multi_logloss: 0.332096\teval's multi_logloss: 0.358281\n"
     ]
    },
    {
     "name": "stderr",
     "output_type": "stream",
     "text": [
      "min_data_in_leaf, val_score: 0.347441:  40%|##################                           | 2/5 [00:00<00:01,  2.68it/s]\u001b[32m[I 2021-06-12 21:13:06,437]\u001b[0m Trial 61 finished with value: 0.3474412139194731 and parameters: {'min_child_samples': 25}. Best is trial 61 with value: 0.3474412139194731.\u001b[0m\n",
      "min_data_in_leaf, val_score: 0.347441:  40%|##################                           | 2/5 [00:00<00:01,  2.68it/s]"
     ]
    },
    {
     "name": "stdout",
     "output_type": "stream",
     "text": [
      "[300]\ttrain's multi_logloss: 0.307724\teval's multi_logloss: 0.34992\n",
      "Early stopping, best iteration is:\n",
      "[343]\ttrain's multi_logloss: 0.300134\teval's multi_logloss: 0.347441\n",
      "Training until validation scores don't improve for 10 rounds\n"
     ]
    },
    {
     "name": "stderr",
     "output_type": "stream",
     "text": [
      "\r",
      "min_data_in_leaf, val_score: 0.347441:  40%|##################                           | 2/5 [00:01<00:01,  2.68it/s]"
     ]
    },
    {
     "name": "stdout",
     "output_type": "stream",
     "text": [
      "[100]\ttrain's multi_logloss: 0.380058\teval's multi_logloss: 0.394938\n",
      "[200]\ttrain's multi_logloss: 0.319078\teval's multi_logloss: 0.360202\n",
      "Early stopping, best iteration is:\n",
      "[259]\ttrain's multi_logloss: 0.300847\teval's multi_logloss: 0.353881\n"
     ]
    },
    {
     "name": "stderr",
     "output_type": "stream",
     "text": [
      "min_data_in_leaf, val_score: 0.347441:  60%|###########################                  | 3/5 [00:01<00:00,  2.92it/s]\u001b[32m[I 2021-06-12 21:13:06,745]\u001b[0m Trial 62 finished with value: 0.3538812692768911 and parameters: {'min_child_samples': 5}. Best is trial 61 with value: 0.3474412139194731.\u001b[0m\n",
      "min_data_in_leaf, val_score: 0.347441:  60%|###########################                  | 3/5 [00:01<00:00,  2.92it/s]"
     ]
    },
    {
     "name": "stdout",
     "output_type": "stream",
     "text": [
      "Training until validation scores don't improve for 10 rounds\n",
      "[100]\ttrain's multi_logloss: 0.439506\teval's multi_logloss: 0.442988\n",
      "[200]\ttrain's multi_logloss: 0.379829\teval's multi_logloss: 0.3912\n"
     ]
    },
    {
     "name": "stderr",
     "output_type": "stream",
     "text": [
      "\r",
      "min_data_in_leaf, val_score: 0.347441:  60%|###########################                  | 3/5 [00:01<00:00,  2.92it/s]"
     ]
    },
    {
     "name": "stdout",
     "output_type": "stream",
     "text": [
      "[300]\ttrain's multi_logloss: 0.353274\teval's multi_logloss: 0.367989\n",
      "[400]\ttrain's multi_logloss: 0.338112\teval's multi_logloss: 0.356336\n",
      "Early stopping, best iteration is:\n",
      "[434]\ttrain's multi_logloss: 0.333149\teval's multi_logloss: 0.353398\n"
     ]
    },
    {
     "name": "stderr",
     "output_type": "stream",
     "text": [
      "min_data_in_leaf, val_score: 0.347441:  80%|####################################         | 4/5 [00:01<00:00,  2.60it/s]\u001b[32m[I 2021-06-12 21:13:07,195]\u001b[0m Trial 63 finished with value: 0.35339784640417504 and parameters: {'min_child_samples': 100}. Best is trial 61 with value: 0.3474412139194731.\u001b[0m\n",
      "min_data_in_leaf, val_score: 0.347441:  80%|####################################         | 4/5 [00:01<00:00,  2.60it/s]"
     ]
    },
    {
     "name": "stdout",
     "output_type": "stream",
     "text": [
      "Training until validation scores don't improve for 10 rounds\n",
      "[100]\ttrain's multi_logloss: 0.381486\teval's multi_logloss: 0.394116\n",
      "[200]\ttrain's multi_logloss: 0.322948\teval's multi_logloss: 0.360132\n"
     ]
    },
    {
     "name": "stderr",
     "output_type": "stream",
     "text": [
      "min_data_in_leaf, val_score: 0.347441: 100%|#############################################| 5/5 [00:01<00:00,  2.77it/s]\u001b[32m[I 2021-06-12 21:13:07,511]\u001b[0m Trial 64 finished with value: 0.3513575713744126 and parameters: {'min_child_samples': 10}. Best is trial 61 with value: 0.3474412139194731.\u001b[0m\n",
      "min_data_in_leaf, val_score: 0.347441: 100%|#############################################| 5/5 [00:01<00:00,  2.76it/s]\n",
      "\u001b[32m[I 2021-06-12 21:13:07,542]\u001b[0m A new study created in memory with name: no-name-0202a5b9-dc13-404b-a53b-1d877b56f4c9\u001b[0m\n",
      "feature_fraction, val_score: inf:   0%|                                                          | 0/7 [00:00<?, ?it/s]"
     ]
    },
    {
     "name": "stdout",
     "output_type": "stream",
     "text": [
      "Early stopping, best iteration is:\n",
      "[273]\ttrain's multi_logloss: 0.302297\teval's multi_logloss: 0.351358\n",
      "Training until validation scores don't improve for 10 rounds\n",
      "[100]\ttrain's multi_logloss: 0.334017\teval's multi_logloss: 0.425086\n",
      "Early stopping, best iteration is:\n",
      "[160]\ttrain's multi_logloss: 0.272946\teval's multi_logloss: 0.406464\n"
     ]
    },
    {
     "name": "stderr",
     "output_type": "stream",
     "text": [
      "feature_fraction, val_score: 0.406464:  14%|######4                                      | 1/7 [00:00<00:03,  1.72it/s]\u001b[32m[I 2021-06-12 21:13:08,130]\u001b[0m Trial 0 finished with value: 0.40646405544001146 and parameters: {'feature_fraction': 0.8999999999999999}. Best is trial 0 with value: 0.40646405544001146.\u001b[0m\n",
      "feature_fraction, val_score: 0.406464:  14%|######4                                      | 1/7 [00:00<00:03,  1.72it/s]"
     ]
    },
    {
     "name": "stdout",
     "output_type": "stream",
     "text": [
      "Training until validation scores don't improve for 10 rounds\n",
      "[100]\ttrain's multi_logloss: 0.328926\teval's multi_logloss: 0.423198\n",
      "Early stopping, best iteration is:\n",
      "[143]\ttrain's multi_logloss: 0.283795\teval's multi_logloss: 0.410013\n"
     ]
    },
    {
     "name": "stderr",
     "output_type": "stream",
     "text": [
      "feature_fraction, val_score: 0.406464:  29%|############8                                | 2/7 [00:01<00:02,  1.81it/s]\u001b[32m[I 2021-06-12 21:13:08,666]\u001b[0m Trial 1 finished with value: 0.41001296193440945 and parameters: {'feature_fraction': 1.0}. Best is trial 0 with value: 0.40646405544001146.\u001b[0m\n",
      "feature_fraction, val_score: 0.406464:  29%|############8                                | 2/7 [00:01<00:02,  1.81it/s]"
     ]
    },
    {
     "name": "stdout",
     "output_type": "stream",
     "text": [
      "Training until validation scores don't improve for 10 rounds\n",
      "[100]\ttrain's multi_logloss: 0.482922\teval's multi_logloss: 0.552121\n",
      "[200]\ttrain's multi_logloss: 0.391297\teval's multi_logloss: 0.508539\n",
      "[300]\ttrain's multi_logloss: 0.330799\teval's multi_logloss: 0.483114\n",
      "[400]\ttrain's multi_logloss: 0.282448\teval's multi_logloss: 0.464849\n",
      "Early stopping, best iteration is:\n",
      "[429]\ttrain's multi_logloss: 0.271817\teval's multi_logloss: 0.462292\n"
     ]
    },
    {
     "name": "stderr",
     "output_type": "stream",
     "text": [
      "feature_fraction, val_score: 0.406464:  43%|###################2                         | 3/7 [00:02<00:03,  1.13it/s]\u001b[32m[I 2021-06-12 21:13:09,955]\u001b[0m Trial 2 finished with value: 0.46229165313426046 and parameters: {'feature_fraction': 0.4}. Best is trial 0 with value: 0.40646405544001146.\u001b[0m\n",
      "feature_fraction, val_score: 0.406464:  43%|###################2                         | 3/7 [00:02<00:03,  1.13it/s]"
     ]
    },
    {
     "name": "stdout",
     "output_type": "stream",
     "text": [
      "Training until validation scores don't improve for 10 rounds\n",
      "[100]\ttrain's multi_logloss: 0.357526\teval's multi_logloss: 0.438094\n",
      "[200]\ttrain's multi_logloss: 0.259865\teval's multi_logloss: 0.400206\n",
      "Early stopping, best iteration is:\n",
      "[224]\ttrain's multi_logloss: 0.243521\teval's multi_logloss: 0.398769\n"
     ]
    },
    {
     "name": "stderr",
     "output_type": "stream",
     "text": [
      "feature_fraction, val_score: 0.398769:  57%|#########################7                   | 4/7 [00:03<00:02,  1.19it/s]\u001b[32m[I 2021-06-12 21:13:10,716]\u001b[0m Trial 3 finished with value: 0.39876900033872326 and parameters: {'feature_fraction': 0.7}. Best is trial 3 with value: 0.39876900033872326.\u001b[0m\n",
      "feature_fraction, val_score: 0.398769:  57%|#########################7                   | 4/7 [00:03<00:02,  1.19it/s]"
     ]
    },
    {
     "name": "stdout",
     "output_type": "stream",
     "text": [
      "Training until validation scores don't improve for 10 rounds\n",
      "[100]\ttrain's multi_logloss: 0.3757\teval's multi_logloss: 0.448859\n",
      "[200]\ttrain's multi_logloss: 0.277444\teval's multi_logloss: 0.403061\n",
      "Early stopping, best iteration is:\n",
      "[255]\ttrain's multi_logloss: 0.241695\teval's multi_logloss: 0.39694\n"
     ]
    },
    {
     "name": "stderr",
     "output_type": "stream",
     "text": [
      "feature_fraction, val_score: 0.396940:  71%|################################1            | 5/7 [00:03<00:01,  1.20it/s]\u001b[32m[I 2021-06-12 21:13:11,542]\u001b[0m Trial 4 finished with value: 0.39694039273396664 and parameters: {'feature_fraction': 0.6}. Best is trial 4 with value: 0.39694039273396664.\u001b[0m\n",
      "feature_fraction, val_score: 0.396940:  71%|################################1            | 5/7 [00:03<00:01,  1.20it/s]"
     ]
    },
    {
     "name": "stdout",
     "output_type": "stream",
     "text": [
      "Training until validation scores don't improve for 10 rounds\n",
      "[100]\ttrain's multi_logloss: 0.3757\teval's multi_logloss: 0.448859\n",
      "[200]\ttrain's multi_logloss: 0.277444\teval's multi_logloss: 0.403061\n",
      "Early stopping, best iteration is:\n",
      "[255]\ttrain's multi_logloss: 0.241695\teval's multi_logloss: 0.39694\n"
     ]
    },
    {
     "name": "stderr",
     "output_type": "stream",
     "text": [
      "feature_fraction, val_score: 0.396940:  86%|######################################5      | 6/7 [00:04<00:00,  1.21it/s]\u001b[32m[I 2021-06-12 21:13:12,350]\u001b[0m Trial 5 finished with value: 0.39694039273396664 and parameters: {'feature_fraction': 0.5}. Best is trial 4 with value: 0.39694039273396664.\u001b[0m\n",
      "feature_fraction, val_score: 0.396940:  86%|######################################5      | 6/7 [00:04<00:00,  1.21it/s]"
     ]
    },
    {
     "name": "stdout",
     "output_type": "stream",
     "text": [
      "Training until validation scores don't improve for 10 rounds\n",
      "[100]\ttrain's multi_logloss: 0.342801\teval's multi_logloss: 0.430665\n"
     ]
    },
    {
     "name": "stderr",
     "output_type": "stream",
     "text": [
      "feature_fraction, val_score: 0.396940: 100%|#############################################| 7/7 [00:05<00:00,  1.29it/s]\u001b[32m[I 2021-06-12 21:13:13,016]\u001b[0m Trial 6 finished with value: 0.40054488429600466 and parameters: {'feature_fraction': 0.8}. Best is trial 4 with value: 0.39694039273396664.\u001b[0m\n",
      "feature_fraction, val_score: 0.396940: 100%|#############################################| 7/7 [00:05<00:00,  1.28it/s]\n",
      "num_leaves, val_score: 0.396940:   0%|                                                          | 0/20 [00:00<?, ?it/s]"
     ]
    },
    {
     "name": "stdout",
     "output_type": "stream",
     "text": [
      "[200]\ttrain's multi_logloss: 0.248356\teval's multi_logloss: 0.400644\n",
      "Early stopping, best iteration is:\n",
      "[199]\ttrain's multi_logloss: 0.249127\teval's multi_logloss: 0.400545\n",
      "Training until validation scores don't improve for 10 rounds\n",
      "[100]\ttrain's multi_logloss: 0.3757\teval's multi_logloss: 0.448859\n",
      "[200]\ttrain's multi_logloss: 0.277444\teval's multi_logloss: 0.40306\n",
      "Early stopping, best iteration is:\n",
      "[255]\ttrain's multi_logloss: 0.241694\teval's multi_logloss: 0.39694\n"
     ]
    },
    {
     "name": "stderr",
     "output_type": "stream",
     "text": [
      "num_leaves, val_score: 0.396940:   5%|##5                                               | 1/20 [00:00<00:15,  1.19it/s]\u001b[32m[I 2021-06-12 21:13:13,864]\u001b[0m Trial 7 finished with value: 0.3969397105959699 and parameters: {'num_leaves': 138}. Best is trial 7 with value: 0.3969397105959699.\u001b[0m\n",
      "num_leaves, val_score: 0.396940:   5%|##5                                               | 1/20 [00:00<00:15,  1.19it/s]"
     ]
    },
    {
     "name": "stdout",
     "output_type": "stream",
     "text": [
      "Training until validation scores don't improve for 10 rounds\n",
      "[100]\ttrain's multi_logloss: 0.3757\teval's multi_logloss: 0.448859\n",
      "[200]\ttrain's multi_logloss: 0.277444\teval's multi_logloss: 0.40306\n",
      "Early stopping, best iteration is:\n",
      "[255]\ttrain's multi_logloss: 0.241694\teval's multi_logloss: 0.39694\n"
     ]
    },
    {
     "name": "stderr",
     "output_type": "stream",
     "text": [
      "num_leaves, val_score: 0.396940:  10%|#####                                             | 2/20 [00:01<00:15,  1.15it/s]\u001b[32m[I 2021-06-12 21:13:14,752]\u001b[0m Trial 8 finished with value: 0.3969397105959699 and parameters: {'num_leaves': 251}. Best is trial 7 with value: 0.3969397105959699.\u001b[0m\n",
      "num_leaves, val_score: 0.396940:  10%|#####                                             | 2/20 [00:01<00:15,  1.15it/s]"
     ]
    },
    {
     "name": "stdout",
     "output_type": "stream",
     "text": [
      "Training until validation scores don't improve for 10 rounds\n",
      "[100]\ttrain's multi_logloss: 0.3757\teval's multi_logloss: 0.448859\n",
      "[200]\ttrain's multi_logloss: 0.277444\teval's multi_logloss: 0.40306\n",
      "Early stopping, best iteration is:\n",
      "[255]\ttrain's multi_logloss: 0.241694\teval's multi_logloss: 0.39694\n"
     ]
    },
    {
     "name": "stderr",
     "output_type": "stream",
     "text": [
      "num_leaves, val_score: 0.396940:  15%|#######5                                          | 3/20 [00:02<00:14,  1.17it/s]\u001b[32m[I 2021-06-12 21:13:15,596]\u001b[0m Trial 9 finished with value: 0.3969397105959699 and parameters: {'num_leaves': 90}. Best is trial 7 with value: 0.3969397105959699.\u001b[0m\n",
      "num_leaves, val_score: 0.396940:  15%|#######5                                          | 3/20 [00:02<00:14,  1.17it/s]"
     ]
    },
    {
     "name": "stdout",
     "output_type": "stream",
     "text": [
      "Training until validation scores don't improve for 10 rounds\n",
      "[100]\ttrain's multi_logloss: 0.3757\teval's multi_logloss: 0.448859\n",
      "[200]\ttrain's multi_logloss: 0.277444\teval's multi_logloss: 0.40306\n",
      "Early stopping, best iteration is:\n",
      "[255]\ttrain's multi_logloss: 0.241694\teval's multi_logloss: 0.39694\n"
     ]
    },
    {
     "name": "stderr",
     "output_type": "stream",
     "text": [
      "num_leaves, val_score: 0.396940:  20%|##########                                        | 4/20 [00:03<00:13,  1.16it/s]\u001b[32m[I 2021-06-12 21:13:16,461]\u001b[0m Trial 10 finished with value: 0.3969397105959699 and parameters: {'num_leaves': 140}. Best is trial 7 with value: 0.3969397105959699.\u001b[0m\n",
      "num_leaves, val_score: 0.396940:  20%|##########                                        | 4/20 [00:03<00:13,  1.16it/s]"
     ]
    },
    {
     "name": "stdout",
     "output_type": "stream",
     "text": [
      "Training until validation scores don't improve for 10 rounds\n",
      "[100]\ttrain's multi_logloss: 0.3757\teval's multi_logloss: 0.448859\n",
      "[200]\ttrain's multi_logloss: 0.277444\teval's multi_logloss: 0.40306\n",
      "Early stopping, best iteration is:\n",
      "[255]\ttrain's multi_logloss: 0.241694\teval's multi_logloss: 0.39694\n"
     ]
    },
    {
     "name": "stderr",
     "output_type": "stream",
     "text": [
      "num_leaves, val_score: 0.396940:  25%|############5                                     | 5/20 [00:04<00:13,  1.15it/s]\u001b[32m[I 2021-06-12 21:13:17,340]\u001b[0m Trial 11 finished with value: 0.3969397105959699 and parameters: {'num_leaves': 178}. Best is trial 7 with value: 0.3969397105959699.\u001b[0m\n",
      "num_leaves, val_score: 0.396940:  25%|############5                                     | 5/20 [00:04<00:13,  1.15it/s]"
     ]
    },
    {
     "name": "stdout",
     "output_type": "stream",
     "text": [
      "Training until validation scores don't improve for 10 rounds\n",
      "[100]\ttrain's multi_logloss: 0.3757\teval's multi_logloss: 0.448859\n",
      "[200]\ttrain's multi_logloss: 0.277444\teval's multi_logloss: 0.40306\n",
      "Early stopping, best iteration is:\n",
      "[255]\ttrain's multi_logloss: 0.241694\teval's multi_logloss: 0.39694\n"
     ]
    },
    {
     "name": "stderr",
     "output_type": "stream",
     "text": [
      "num_leaves, val_score: 0.396940:  30%|###############                                   | 6/20 [00:05<00:11,  1.17it/s]\u001b[32m[I 2021-06-12 21:13:18,177]\u001b[0m Trial 12 finished with value: 0.3969397105959699 and parameters: {'num_leaves': 55}. Best is trial 7 with value: 0.3969397105959699.\u001b[0m\n",
      "num_leaves, val_score: 0.396940:  30%|###############                                   | 6/20 [00:05<00:11,  1.17it/s]"
     ]
    },
    {
     "name": "stdout",
     "output_type": "stream",
     "text": [
      "Training until validation scores don't improve for 10 rounds\n",
      "[100]\ttrain's multi_logloss: 0.3757\teval's multi_logloss: 0.448859\n",
      "[200]\ttrain's multi_logloss: 0.277444\teval's multi_logloss: 0.40306\n",
      "Early stopping, best iteration is:\n",
      "[255]\ttrain's multi_logloss: 0.241694\teval's multi_logloss: 0.39694\n"
     ]
    },
    {
     "name": "stderr",
     "output_type": "stream",
     "text": [
      "num_leaves, val_score: 0.396940:  35%|#################5                                | 7/20 [00:05<00:11,  1.18it/s]\u001b[32m[I 2021-06-12 21:13:19,004]\u001b[0m Trial 13 finished with value: 0.3969397105959699 and parameters: {'num_leaves': 120}. Best is trial 7 with value: 0.3969397105959699.\u001b[0m\n",
      "num_leaves, val_score: 0.396940:  35%|#################5                                | 7/20 [00:05<00:11,  1.18it/s]"
     ]
    },
    {
     "name": "stdout",
     "output_type": "stream",
     "text": [
      "Training until validation scores don't improve for 10 rounds\n",
      "[100]\ttrain's multi_logloss: 0.3757\teval's multi_logloss: 0.448859\n",
      "[200]\ttrain's multi_logloss: 0.277444\teval's multi_logloss: 0.40306\n",
      "Early stopping, best iteration is:\n",
      "[255]\ttrain's multi_logloss: 0.241694\teval's multi_logloss: 0.39694\n"
     ]
    },
    {
     "name": "stderr",
     "output_type": "stream",
     "text": [
      "num_leaves, val_score: 0.396940:  40%|####################                              | 8/20 [00:06<00:10,  1.16it/s]\u001b[32m[I 2021-06-12 21:13:19,901]\u001b[0m Trial 14 finished with value: 0.3969397105959699 and parameters: {'num_leaves': 246}. Best is trial 7 with value: 0.3969397105959699.\u001b[0m\n",
      "num_leaves, val_score: 0.396940:  40%|####################                              | 8/20 [00:06<00:10,  1.16it/s]"
     ]
    },
    {
     "name": "stdout",
     "output_type": "stream",
     "text": [
      "Training until validation scores don't improve for 10 rounds\n",
      "[100]\ttrain's multi_logloss: 0.38213\teval's multi_logloss: 0.449706\n",
      "[200]\ttrain's multi_logloss: 0.290347\teval's multi_logloss: 0.404115\n",
      "Early stopping, best iteration is:\n",
      "[277]\ttrain's multi_logloss: 0.247659\teval's multi_logloss: 0.396505\n"
     ]
    },
    {
     "name": "stderr",
     "output_type": "stream",
     "text": [
      "num_leaves, val_score: 0.396505:  45%|######################5                           | 9/20 [00:07<00:08,  1.25it/s]\u001b[32m[I 2021-06-12 21:13:20,565]\u001b[0m Trial 15 finished with value: 0.3965045029827932 and parameters: {'num_leaves': 20}. Best is trial 15 with value: 0.3965045029827932.\u001b[0m\n",
      "num_leaves, val_score: 0.396505:  45%|######################5                           | 9/20 [00:07<00:08,  1.25it/s]"
     ]
    },
    {
     "name": "stdout",
     "output_type": "stream",
     "text": [
      "Training until validation scores don't improve for 10 rounds\n",
      "[100]\ttrain's multi_logloss: 0.3757\teval's multi_logloss: 0.448859\n",
      "[200]\ttrain's multi_logloss: 0.277444\teval's multi_logloss: 0.40306\n",
      "Early stopping, best iteration is:\n",
      "[255]\ttrain's multi_logloss: 0.241694\teval's multi_logloss: 0.39694\n"
     ]
    },
    {
     "name": "stderr",
     "output_type": "stream",
     "text": [
      "num_leaves, val_score: 0.396505:  50%|########################5                        | 10/20 [00:08<00:08,  1.21it/s]\u001b[32m[I 2021-06-12 21:13:21,440]\u001b[0m Trial 16 finished with value: 0.3969397105959699 and parameters: {'num_leaves': 129}. Best is trial 15 with value: 0.3965045029827932.\u001b[0m\n",
      "num_leaves, val_score: 0.396505:  50%|########################5                        | 10/20 [00:08<00:08,  1.21it/s]"
     ]
    },
    {
     "name": "stdout",
     "output_type": "stream",
     "text": [
      "Training until validation scores don't improve for 10 rounds\n",
      "[100]\ttrain's multi_logloss: 0.402452\teval's multi_logloss: 0.455011\n",
      "[200]\ttrain's multi_logloss: 0.324824\teval's multi_logloss: 0.407552\n",
      "[300]\ttrain's multi_logloss: 0.283929\teval's multi_logloss: 0.39548\n",
      "Early stopping, best iteration is:\n",
      "[385]\ttrain's multi_logloss: 0.26203\teval's multi_logloss: 0.391409\n"
     ]
    },
    {
     "name": "stderr",
     "output_type": "stream",
     "text": [
      "num_leaves, val_score: 0.391409:  55%|##########################9                      | 11/20 [00:08<00:06,  1.36it/s]\u001b[32m[I 2021-06-12 21:13:21,968]\u001b[0m Trial 17 finished with value: 0.39140911472642415 and parameters: {'num_leaves': 9}. Best is trial 17 with value: 0.39140911472642415.\u001b[0m\n",
      "num_leaves, val_score: 0.391409:  55%|##########################9                      | 11/20 [00:08<00:06,  1.36it/s]"
     ]
    },
    {
     "name": "stdout",
     "output_type": "stream",
     "text": [
      "Training until validation scores don't improve for 10 rounds\n",
      "[100]\ttrain's multi_logloss: 0.412421\teval's multi_logloss: 0.459019\n",
      "[200]\ttrain's multi_logloss: 0.341417\teval's multi_logloss: 0.411661\n"
     ]
    },
    {
     "name": "stderr",
     "output_type": "stream",
     "text": [
      "num_leaves, val_score: 0.391409:  60%|#############################4                   | 12/20 [00:09<00:05,  1.57it/s]\u001b[32m[I 2021-06-12 21:13:22,380]\u001b[0m Trial 18 finished with value: 0.3921123012983226 and parameters: {'num_leaves': 6}. Best is trial 17 with value: 0.39140911472642415.\u001b[0m\n",
      "num_leaves, val_score: 0.391409:  60%|#############################4                   | 12/20 [00:09<00:05,  1.57it/s]"
     ]
    },
    {
     "name": "stdout",
     "output_type": "stream",
     "text": [
      "[300]\ttrain's multi_logloss: 0.306414\teval's multi_logloss: 0.398108\n",
      "[400]\ttrain's multi_logloss: 0.285874\teval's multi_logloss: 0.392557\n",
      "Early stopping, best iteration is:\n",
      "[395]\ttrain's multi_logloss: 0.286886\teval's multi_logloss: 0.392112\n",
      "Training until validation scores don't improve for 10 rounds\n",
      "[100]\ttrain's multi_logloss: 0.412421\teval's multi_logloss: 0.459019\n",
      "[200]\ttrain's multi_logloss: 0.341417\teval's multi_logloss: 0.411661\n",
      "[300]\ttrain's multi_logloss: 0.306414\teval's multi_logloss: 0.398108\n"
     ]
    },
    {
     "name": "stderr",
     "output_type": "stream",
     "text": [
      "num_leaves, val_score: 0.391409:  65%|###############################8                 | 13/20 [00:09<00:03,  1.76it/s]\u001b[32m[I 2021-06-12 21:13:22,795]\u001b[0m Trial 19 finished with value: 0.3921123012983226 and parameters: {'num_leaves': 6}. Best is trial 17 with value: 0.39140911472642415.\u001b[0m\n",
      "num_leaves, val_score: 0.391409:  65%|###############################8                 | 13/20 [00:09<00:03,  1.76it/s]"
     ]
    },
    {
     "name": "stdout",
     "output_type": "stream",
     "text": [
      "[400]\ttrain's multi_logloss: 0.285874\teval's multi_logloss: 0.392557\n",
      "Early stopping, best iteration is:\n",
      "[395]\ttrain's multi_logloss: 0.286886\teval's multi_logloss: 0.392112\n",
      "Training until validation scores don't improve for 10 rounds\n",
      "[100]\ttrain's multi_logloss: 0.3757\teval's multi_logloss: 0.448859\n",
      "[200]\ttrain's multi_logloss: 0.277444\teval's multi_logloss: 0.40306\n",
      "Early stopping, best iteration is:\n",
      "[255]\ttrain's multi_logloss: 0.241694\teval's multi_logloss: 0.39694\n"
     ]
    },
    {
     "name": "stderr",
     "output_type": "stream",
     "text": [
      "num_leaves, val_score: 0.391409:  70%|##################################3              | 14/20 [00:10<00:03,  1.55it/s]\u001b[32m[I 2021-06-12 21:13:23,614]\u001b[0m Trial 20 finished with value: 0.3969397105959699 and parameters: {'num_leaves': 45}. Best is trial 17 with value: 0.39140911472642415.\u001b[0m\n",
      "num_leaves, val_score: 0.391409:  70%|##################################3              | 14/20 [00:10<00:03,  1.55it/s]"
     ]
    },
    {
     "name": "stdout",
     "output_type": "stream",
     "text": [
      "Training until validation scores don't improve for 10 rounds\n",
      "[100]\ttrain's multi_logloss: 0.3757\teval's multi_logloss: 0.448859\n",
      "[200]\ttrain's multi_logloss: 0.277444\teval's multi_logloss: 0.40306\n"
     ]
    },
    {
     "name": "stderr",
     "output_type": "stream",
     "text": [
      "num_leaves, val_score: 0.391409:  75%|####################################7            | 15/20 [00:11<00:03,  1.39it/s]\u001b[32m[I 2021-06-12 21:13:24,513]\u001b[0m Trial 21 finished with value: 0.3969397105959699 and parameters: {'num_leaves': 46}. Best is trial 17 with value: 0.39140911472642415.\u001b[0m\n",
      "num_leaves, val_score: 0.391409:  75%|####################################7            | 15/20 [00:11<00:03,  1.39it/s]"
     ]
    },
    {
     "name": "stdout",
     "output_type": "stream",
     "text": [
      "Early stopping, best iteration is:\n",
      "[255]\ttrain's multi_logloss: 0.241694\teval's multi_logloss: 0.39694\n",
      "Training until validation scores don't improve for 10 rounds\n",
      "[100]\ttrain's multi_logloss: 0.385902\teval's multi_logloss: 0.449942\n",
      "[200]\ttrain's multi_logloss: 0.296652\teval's multi_logloss: 0.40424\n"
     ]
    },
    {
     "name": "stderr",
     "output_type": "stream",
     "text": [
      "num_leaves, val_score: 0.391409:  80%|#######################################2         | 16/20 [00:12<00:02,  1.48it/s]\u001b[32m[I 2021-06-12 21:13:25,088]\u001b[0m Trial 22 finished with value: 0.39530437904956384 and parameters: {'num_leaves': 17}. Best is trial 17 with value: 0.39140911472642415.\u001b[0m\n",
      "num_leaves, val_score: 0.391409:  80%|#######################################2         | 16/20 [00:12<00:02,  1.48it/s]"
     ]
    },
    {
     "name": "stdout",
     "output_type": "stream",
     "text": [
      "Early stopping, best iteration is:\n",
      "[276]\ttrain's multi_logloss: 0.256246\teval's multi_logloss: 0.395304\n",
      "Training until validation scores don't improve for 10 rounds\n",
      "[100]\ttrain's multi_logloss: 0.3757\teval's multi_logloss: 0.448859\n",
      "[200]\ttrain's multi_logloss: 0.277444\teval's multi_logloss: 0.40306\n",
      "Early stopping, best iteration is:\n",
      "[255]\ttrain's multi_logloss: 0.241694\teval's multi_logloss: 0.39694\n"
     ]
    },
    {
     "name": "stderr",
     "output_type": "stream",
     "text": [
      "num_leaves, val_score: 0.391409:  85%|#########################################6       | 17/20 [00:12<00:02,  1.37it/s]\u001b[32m[I 2021-06-12 21:13:25,946]\u001b[0m Trial 23 finished with value: 0.3969397105959699 and parameters: {'num_leaves': 81}. Best is trial 17 with value: 0.39140911472642415.\u001b[0m\n",
      "num_leaves, val_score: 0.391409:  85%|#########################################6       | 17/20 [00:12<00:02,  1.37it/s]"
     ]
    },
    {
     "name": "stdout",
     "output_type": "stream",
     "text": [
      "Training until validation scores don't improve for 10 rounds\n",
      "[100]\ttrain's multi_logloss: 0.471083\teval's multi_logloss: 0.49545\n",
      "[200]\ttrain's multi_logloss: 0.411842\teval's multi_logloss: 0.448888\n",
      "[300]\ttrain's multi_logloss: 0.383279\teval's multi_logloss: 0.428962\n",
      "[400]\ttrain's multi_logloss: 0.367438\teval's multi_logloss: 0.417707\n"
     ]
    },
    {
     "name": "stderr",
     "output_type": "stream",
     "text": [
      "\r",
      "num_leaves, val_score: 0.391409:  85%|#########################################6       | 17/20 [00:13<00:02,  1.37it/s]"
     ]
    },
    {
     "name": "stdout",
     "output_type": "stream",
     "text": [
      "[500]\ttrain's multi_logloss: 0.356835\teval's multi_logloss: 0.408961\n",
      "[600]\ttrain's multi_logloss: 0.349067\teval's multi_logloss: 0.403407\n",
      "[700]\ttrain's multi_logloss: 0.342699\teval's multi_logloss: 0.399557\n",
      "Early stopping, best iteration is:\n",
      "[740]\ttrain's multi_logloss: 0.340537\teval's multi_logloss: 0.398432\n"
     ]
    },
    {
     "name": "stderr",
     "output_type": "stream",
     "text": [
      "num_leaves, val_score: 0.391409:  90%|############################################1    | 18/20 [00:13<00:01,  1.53it/s]\u001b[32m[I 2021-06-12 21:13:26,417]\u001b[0m Trial 24 finished with value: 0.3984323933111906 and parameters: {'num_leaves': 2}. Best is trial 17 with value: 0.39140911472642415.\u001b[0m\n",
      "num_leaves, val_score: 0.391409:  90%|############################################1    | 18/20 [00:13<00:01,  1.53it/s]"
     ]
    },
    {
     "name": "stdout",
     "output_type": "stream",
     "text": [
      "Training until validation scores don't improve for 10 rounds\n",
      "[100]\ttrain's multi_logloss: 0.3757\teval's multi_logloss: 0.448859\n",
      "[200]\ttrain's multi_logloss: 0.277444\teval's multi_logloss: 0.40306\n",
      "Early stopping, best iteration is:\n",
      "[255]\ttrain's multi_logloss: 0.241694\teval's multi_logloss: 0.39694\n"
     ]
    },
    {
     "name": "stderr",
     "output_type": "stream",
     "text": [
      "num_leaves, val_score: 0.391409:  95%|##############################################5  | 19/20 [00:14<00:00,  1.36it/s]\u001b[32m[I 2021-06-12 21:13:27,345]\u001b[0m Trial 25 finished with value: 0.3969397105959699 and parameters: {'num_leaves': 188}. Best is trial 17 with value: 0.39140911472642415.\u001b[0m\n",
      "num_leaves, val_score: 0.391409:  95%|##############################################5  | 19/20 [00:14<00:00,  1.36it/s]"
     ]
    },
    {
     "name": "stdout",
     "output_type": "stream",
     "text": [
      "Training until validation scores don't improve for 10 rounds\n",
      "[100]\ttrain's multi_logloss: 0.3757\teval's multi_logloss: 0.448859\n",
      "[200]\ttrain's multi_logloss: 0.277444\teval's multi_logloss: 0.40306\n",
      "Early stopping, best iteration is:\n",
      "[255]\ttrain's multi_logloss: 0.241694\teval's multi_logloss: 0.39694\n"
     ]
    },
    {
     "name": "stderr",
     "output_type": "stream",
     "text": [
      "num_leaves, val_score: 0.391409: 100%|#################################################| 20/20 [00:15<00:00,  1.28it/s]\u001b[32m[I 2021-06-12 21:13:28,231]\u001b[0m Trial 26 finished with value: 0.3969397105959699 and parameters: {'num_leaves': 76}. Best is trial 17 with value: 0.39140911472642415.\u001b[0m\n",
      "num_leaves, val_score: 0.391409: 100%|#################################################| 20/20 [00:15<00:00,  1.31it/s]\n",
      "bagging, val_score: 0.391409:   0%|                                                             | 0/10 [00:00<?, ?it/s]"
     ]
    },
    {
     "name": "stdout",
     "output_type": "stream",
     "text": [
      "Training until validation scores don't improve for 10 rounds\n",
      "[100]\ttrain's multi_logloss: 0.402371\teval's multi_logloss: 0.455927\n",
      "[200]\ttrain's multi_logloss: 0.325001\teval's multi_logloss: 0.408219\n",
      "[300]\ttrain's multi_logloss: 0.284824\teval's multi_logloss: 0.393957\n",
      "Early stopping, best iteration is:\n",
      "[315]\ttrain's multi_logloss: 0.280812\teval's multi_logloss: 0.393011\n"
     ]
    },
    {
     "name": "stderr",
     "output_type": "stream",
     "text": [
      "bagging, val_score: 0.391409:  10%|#####3                                               | 1/10 [00:00<00:05,  1.55it/s]\u001b[32m[I 2021-06-12 21:13:28,892]\u001b[0m Trial 27 finished with value: 0.39301099159464975 and parameters: {'bagging_fraction': 0.748993666447411, 'bagging_freq': 3}. Best is trial 27 with value: 0.39301099159464975.\u001b[0m\n",
      "bagging, val_score: 0.391409:  10%|#####3                                               | 1/10 [00:00<00:05,  1.55it/s]"
     ]
    },
    {
     "name": "stdout",
     "output_type": "stream",
     "text": [
      "Training until validation scores don't improve for 10 rounds\n",
      "[100]\ttrain's multi_logloss: 0.404045\teval's multi_logloss: 0.456327\n",
      "[200]\ttrain's multi_logloss: 0.326578\teval's multi_logloss: 0.408376\n",
      "[300]\ttrain's multi_logloss: 0.28734\teval's multi_logloss: 0.395553\n",
      "Early stopping, best iteration is:\n",
      "[346]\ttrain's multi_logloss: 0.275026\teval's multi_logloss: 0.392403\n"
     ]
    },
    {
     "name": "stderr",
     "output_type": "stream",
     "text": [
      "bagging, val_score: 0.391409:  20%|##########6                                          | 2/10 [00:01<00:04,  1.71it/s]\u001b[32m[I 2021-06-12 21:13:29,435]\u001b[0m Trial 28 finished with value: 0.3924032418273194 and parameters: {'bagging_fraction': 0.6555305030723609, 'bagging_freq': 2}. Best is trial 28 with value: 0.3924032418273194.\u001b[0m\n",
      "bagging, val_score: 0.391409:  20%|##########6                                          | 2/10 [00:01<00:04,  1.71it/s]"
     ]
    },
    {
     "name": "stdout",
     "output_type": "stream",
     "text": [
      "Training until validation scores don't improve for 10 rounds\n",
      "[100]\ttrain's multi_logloss: 0.403744\teval's multi_logloss: 0.456105\n",
      "[200]\ttrain's multi_logloss: 0.32735\teval's multi_logloss: 0.407852\n",
      "[300]\ttrain's multi_logloss: 0.287245\teval's multi_logloss: 0.394965\n",
      "Early stopping, best iteration is:\n",
      "[373]\ttrain's multi_logloss: 0.268282\teval's multi_logloss: 0.391688\n"
     ]
    },
    {
     "name": "stderr",
     "output_type": "stream",
     "text": [
      "bagging, val_score: 0.391409:  30%|###############9                                     | 3/10 [00:01<00:04,  1.74it/s]\u001b[32m[I 2021-06-12 21:13:29,999]\u001b[0m Trial 29 finished with value: 0.39168775077227413 and parameters: {'bagging_fraction': 0.6425208916742122, 'bagging_freq': 3}. Best is trial 29 with value: 0.39168775077227413.\u001b[0m\n",
      "bagging, val_score: 0.391409:  30%|###############9                                     | 3/10 [00:01<00:04,  1.74it/s]"
     ]
    },
    {
     "name": "stdout",
     "output_type": "stream",
     "text": [
      "Training until validation scores don't improve for 10 rounds\n",
      "[100]\ttrain's multi_logloss: 0.40336\teval's multi_logloss: 0.456649\n"
     ]
    },
    {
     "name": "stderr",
     "output_type": "stream",
     "text": [
      "\r",
      "bagging, val_score: 0.391409:  30%|###############9                                     | 3/10 [00:02<00:04,  1.74it/s]"
     ]
    },
    {
     "name": "stdout",
     "output_type": "stream",
     "text": [
      "[200]\ttrain's multi_logloss: 0.326891\teval's multi_logloss: 0.409588\n",
      "[300]\ttrain's multi_logloss: 0.286637\teval's multi_logloss: 0.395694\n",
      "Early stopping, best iteration is:\n",
      "[313]\ttrain's multi_logloss: 0.283268\teval's multi_logloss: 0.39503\n"
     ]
    },
    {
     "name": "stderr",
     "output_type": "stream",
     "text": [
      "bagging, val_score: 0.391409:  40%|#####################2                               | 4/10 [00:02<00:03,  1.91it/s]\u001b[32m[I 2021-06-12 21:13:30,445]\u001b[0m Trial 30 finished with value: 0.39503016452697864 and parameters: {'bagging_fraction': 0.683780951418438, 'bagging_freq': 3}. Best is trial 29 with value: 0.39168775077227413.\u001b[0m\n",
      "bagging, val_score: 0.391409:  40%|#####################2                               | 4/10 [00:02<00:03,  1.91it/s]"
     ]
    },
    {
     "name": "stdout",
     "output_type": "stream",
     "text": [
      "Training until validation scores don't improve for 10 rounds\n",
      "[100]\ttrain's multi_logloss: 0.399923\teval's multi_logloss: 0.454783\n",
      "[200]\ttrain's multi_logloss: 0.322526\teval's multi_logloss: 0.408425\n",
      "[300]\ttrain's multi_logloss: 0.282293\teval's multi_logloss: 0.396131\n",
      "Early stopping, best iteration is:\n",
      "[311]\ttrain's multi_logloss: 0.279279\teval's multi_logloss: 0.395474\n"
     ]
    },
    {
     "name": "stderr",
     "output_type": "stream",
     "text": [
      "bagging, val_score: 0.391409:  50%|##########################5                          | 5/10 [00:02<00:02,  1.92it/s]\u001b[32m[I 2021-06-12 21:13:30,963]\u001b[0m Trial 31 finished with value: 0.39547443431111307 and parameters: {'bagging_fraction': 0.8874875675492131, 'bagging_freq': 6}. Best is trial 29 with value: 0.39168775077227413.\u001b[0m\n",
      "bagging, val_score: 0.391409:  50%|##########################5                          | 5/10 [00:02<00:02,  1.92it/s]"
     ]
    },
    {
     "name": "stdout",
     "output_type": "stream",
     "text": [
      "Training until validation scores don't improve for 10 rounds\n",
      "[100]\ttrain's multi_logloss: 0.401145\teval's multi_logloss: 0.45486\n",
      "[200]\ttrain's multi_logloss: 0.323589\teval's multi_logloss: 0.408151\n",
      "[300]\ttrain's multi_logloss: 0.283644\teval's multi_logloss: 0.396488\n",
      "Early stopping, best iteration is:\n",
      "[303]\ttrain's multi_logloss: 0.282731\teval's multi_logloss: 0.396272\n"
     ]
    },
    {
     "name": "stderr",
     "output_type": "stream",
     "text": [
      "bagging, val_score: 0.391409:  60%|###############################8                     | 6/10 [00:03<00:02,  1.84it/s]\u001b[32m[I 2021-06-12 21:13:31,547]\u001b[0m Trial 32 finished with value: 0.3962723052282936 and parameters: {'bagging_fraction': 0.8327633190288546, 'bagging_freq': 7}. Best is trial 29 with value: 0.39168775077227413.\u001b[0m\n",
      "bagging, val_score: 0.391409:  60%|###############################8                     | 6/10 [00:03<00:02,  1.84it/s]"
     ]
    },
    {
     "name": "stdout",
     "output_type": "stream",
     "text": [
      "Training until validation scores don't improve for 10 rounds\n",
      "[100]\ttrain's multi_logloss: 0.405426\teval's multi_logloss: 0.45633\n",
      "[200]\ttrain's multi_logloss: 0.32893\teval's multi_logloss: 0.409602\n",
      "[300]\ttrain's multi_logloss: 0.289423\teval's multi_logloss: 0.395901\n"
     ]
    },
    {
     "name": "stderr",
     "output_type": "stream",
     "text": [
      "bagging, val_score: 0.391409:  70%|#####################################                | 7/10 [00:03<00:01,  1.72it/s]\u001b[32m[I 2021-06-12 21:13:32,203]\u001b[0m Trial 33 finished with value: 0.39182579037741405 and parameters: {'bagging_fraction': 0.5946318009840499, 'bagging_freq': 2}. Best is trial 29 with value: 0.39168775077227413.\u001b[0m\n",
      "bagging, val_score: 0.391409:  70%|#####################################                | 7/10 [00:03<00:01,  1.72it/s]"
     ]
    },
    {
     "name": "stdout",
     "output_type": "stream",
     "text": [
      "Early stopping, best iteration is:\n",
      "[364]\ttrain's multi_logloss: 0.272861\teval's multi_logloss: 0.391826\n",
      "Training until validation scores don't improve for 10 rounds\n",
      "[100]\ttrain's multi_logloss: 0.405227\teval's multi_logloss: 0.45692\n",
      "[200]\ttrain's multi_logloss: 0.3284\teval's multi_logloss: 0.410009\n",
      "[300]\ttrain's multi_logloss: 0.289204\teval's multi_logloss: 0.396793\n",
      "Early stopping, best iteration is:\n",
      "[364]\ttrain's multi_logloss: 0.272756\teval's multi_logloss: 0.392894\n"
     ]
    },
    {
     "name": "stderr",
     "output_type": "stream",
     "text": [
      "bagging, val_score: 0.391409:  80%|##########################################4          | 8/10 [00:04<00:01,  1.59it/s]\u001b[32m[I 2021-06-12 21:13:32,942]\u001b[0m Trial 34 finished with value: 0.3928935351375148 and parameters: {'bagging_fraction': 0.6005618091149135, 'bagging_freq': 2}. Best is trial 29 with value: 0.39168775077227413.\u001b[0m\n",
      "bagging, val_score: 0.391409:  80%|##########################################4          | 8/10 [00:04<00:01,  1.59it/s]"
     ]
    },
    {
     "name": "stdout",
     "output_type": "stream",
     "text": [
      "Training until validation scores don't improve for 10 rounds\n",
      "[100]\ttrain's multi_logloss: 0.407261\teval's multi_logloss: 0.456901\n",
      "[200]\ttrain's multi_logloss: 0.333307\teval's multi_logloss: 0.411916\n",
      "[300]\ttrain's multi_logloss: 0.294296\teval's multi_logloss: 0.396323\n",
      "Early stopping, best iteration is:\n",
      "[346]\ttrain's multi_logloss: 0.281827\teval's multi_logloss: 0.392539\n"
     ]
    },
    {
     "name": "stderr",
     "output_type": "stream",
     "text": [
      "bagging, val_score: 0.391409:  90%|###############################################7     | 9/10 [00:05<00:00,  1.69it/s]\u001b[32m[I 2021-06-12 21:13:33,452]\u001b[0m Trial 35 finished with value: 0.39253940122380593 and parameters: {'bagging_fraction': 0.46052000723929026, 'bagging_freq': 4}. Best is trial 29 with value: 0.39168775077227413.\u001b[0m\n",
      "bagging, val_score: 0.391409:  90%|###############################################7     | 9/10 [00:05<00:00,  1.69it/s]"
     ]
    },
    {
     "name": "stdout",
     "output_type": "stream",
     "text": [
      "Training until validation scores don't improve for 10 rounds\n",
      "[100]\ttrain's multi_logloss: 0.404603\teval's multi_logloss: 0.455959\n",
      "[200]\ttrain's multi_logloss: 0.329103\teval's multi_logloss: 0.409882\n",
      "[300]\ttrain's multi_logloss: 0.28959\teval's multi_logloss: 0.394261\n",
      "Early stopping, best iteration is:\n",
      "[341]\ttrain's multi_logloss: 0.277993\teval's multi_logloss: 0.392279\n"
     ]
    },
    {
     "name": "stderr",
     "output_type": "stream",
     "text": [
      "bagging, val_score: 0.391409: 100%|####################################################| 10/10 [00:05<00:00,  1.79it/s]\u001b[32m[I 2021-06-12 21:13:33,933]\u001b[0m Trial 36 finished with value: 0.39227901393940556 and parameters: {'bagging_fraction': 0.5751720190468287, 'bagging_freq': 6}. Best is trial 29 with value: 0.39168775077227413.\u001b[0m\n",
      "bagging, val_score: 0.391409: 100%|####################################################| 10/10 [00:05<00:00,  1.76it/s]\n",
      "feature_fraction_stage2, val_score: 0.391409:   0%|                                              | 0/6 [00:00<?, ?it/s]"
     ]
    },
    {
     "name": "stdout",
     "output_type": "stream",
     "text": [
      "Training until validation scores don't improve for 10 rounds\n",
      "[100]\ttrain's multi_logloss: 0.386318\teval's multi_logloss: 0.444266\n"
     ]
    },
    {
     "name": "stderr",
     "output_type": "stream",
     "text": [
      "feature_fraction_stage2, val_score: 0.391409:  17%|######3                               | 1/6 [00:00<00:01,  2.58it/s]\u001b[32m[I 2021-06-12 21:13:34,328]\u001b[0m Trial 37 finished with value: 0.3966457834249863 and parameters: {'feature_fraction': 0.6799999999999999}. Best is trial 37 with value: 0.3966457834249863.\u001b[0m\n",
      "feature_fraction_stage2, val_score: 0.391409:  17%|######3                               | 1/6 [00:00<00:01,  2.58it/s]"
     ]
    },
    {
     "name": "stdout",
     "output_type": "stream",
     "text": [
      "[200]\ttrain's multi_logloss: 0.310902\teval's multi_logloss: 0.403062\n",
      "Early stopping, best iteration is:\n",
      "[279]\ttrain's multi_logloss: 0.27975\teval's multi_logloss: 0.396646\n",
      "Training until validation scores don't improve for 10 rounds\n",
      "[100]\ttrain's multi_logloss: 0.402452\teval's multi_logloss: 0.455011\n",
      "[200]\ttrain's multi_logloss: 0.324824\teval's multi_logloss: 0.407552\n",
      "[300]\ttrain's multi_logloss: 0.283929\teval's multi_logloss: 0.39548\n"
     ]
    },
    {
     "name": "stderr",
     "output_type": "stream",
     "text": [
      "feature_fraction_stage2, val_score: 0.391409:  33%|############6                         | 2/6 [00:00<00:01,  2.02it/s]\u001b[32m[I 2021-06-12 21:13:34,900]\u001b[0m Trial 38 finished with value: 0.39140911472642415 and parameters: {'feature_fraction': 0.52}. Best is trial 38 with value: 0.39140911472642415.\u001b[0m\n",
      "feature_fraction_stage2, val_score: 0.391409:  33%|############6                         | 2/6 [00:00<00:01,  2.02it/s]"
     ]
    },
    {
     "name": "stdout",
     "output_type": "stream",
     "text": [
      "Early stopping, best iteration is:\n",
      "[385]\ttrain's multi_logloss: 0.26203\teval's multi_logloss: 0.391409\n",
      "Training until validation scores don't improve for 10 rounds\n",
      "[100]\ttrain's multi_logloss: 0.402452\teval's multi_logloss: 0.455011\n",
      "[200]\ttrain's multi_logloss: 0.324824\teval's multi_logloss: 0.407552\n"
     ]
    },
    {
     "name": "stderr",
     "output_type": "stream",
     "text": [
      "\r",
      "feature_fraction_stage2, val_score: 0.391409:  33%|############6                         | 2/6 [00:01<00:01,  2.02it/s]"
     ]
    },
    {
     "name": "stdout",
     "output_type": "stream",
     "text": [
      "[300]\ttrain's multi_logloss: 0.283929\teval's multi_logloss: 0.39548\n",
      "Early stopping, best iteration is:\n",
      "[385]\ttrain's multi_logloss: 0.26203\teval's multi_logloss: 0.391409\n"
     ]
    },
    {
     "name": "stderr",
     "output_type": "stream",
     "text": [
      "feature_fraction_stage2, val_score: 0.391409:  50%|###################                   | 3/6 [00:01<00:01,  1.90it/s]\u001b[32m[I 2021-06-12 21:13:35,461]\u001b[0m Trial 39 finished with value: 0.39140911472642415 and parameters: {'feature_fraction': 0.552}. Best is trial 38 with value: 0.39140911472642415.\u001b[0m\n",
      "feature_fraction_stage2, val_score: 0.391409:  50%|###################                   | 3/6 [00:01<00:01,  1.90it/s]"
     ]
    },
    {
     "name": "stdout",
     "output_type": "stream",
     "text": [
      "Training until validation scores don't improve for 10 rounds\n",
      "[100]\ttrain's multi_logloss: 0.386318\teval's multi_logloss: 0.444266\n"
     ]
    },
    {
     "name": "stderr",
     "output_type": "stream",
     "text": [
      "feature_fraction_stage2, val_score: 0.391409:  67%|#########################3            | 4/6 [00:02<00:01,  1.86it/s]\u001b[32m[I 2021-06-12 21:13:36,019]\u001b[0m Trial 40 finished with value: 0.3966457834249863 and parameters: {'feature_fraction': 0.616}. Best is trial 38 with value: 0.39140911472642415.\u001b[0m\n",
      "feature_fraction_stage2, val_score: 0.391409:  67%|#########################3            | 4/6 [00:02<00:01,  1.86it/s]"
     ]
    },
    {
     "name": "stdout",
     "output_type": "stream",
     "text": [
      "[200]\ttrain's multi_logloss: 0.310902\teval's multi_logloss: 0.403062\n",
      "Early stopping, best iteration is:\n",
      "[279]\ttrain's multi_logloss: 0.27975\teval's multi_logloss: 0.396646\n",
      "Training until validation scores don't improve for 10 rounds\n",
      "[100]\ttrain's multi_logloss: 0.386318\teval's multi_logloss: 0.444266\n",
      "[200]\ttrain's multi_logloss: 0.310902\teval's multi_logloss: 0.403062\n"
     ]
    },
    {
     "name": "stderr",
     "output_type": "stream",
     "text": [
      "feature_fraction_stage2, val_score: 0.391409:  83%|###############################6      | 5/6 [00:02<00:00,  1.91it/s]\u001b[32m[I 2021-06-12 21:13:36,514]\u001b[0m Trial 41 finished with value: 0.3966457834249863 and parameters: {'feature_fraction': 0.6479999999999999}. Best is trial 38 with value: 0.39140911472642415.\u001b[0m\n",
      "feature_fraction_stage2, val_score: 0.391409:  83%|###############################6      | 5/6 [00:02<00:00,  1.91it/s]"
     ]
    },
    {
     "name": "stdout",
     "output_type": "stream",
     "text": [
      "Early stopping, best iteration is:\n",
      "[279]\ttrain's multi_logloss: 0.27975\teval's multi_logloss: 0.396646\n",
      "Training until validation scores don't improve for 10 rounds\n",
      "[100]\ttrain's multi_logloss: 0.402452\teval's multi_logloss: 0.455011\n",
      "[200]\ttrain's multi_logloss: 0.324824\teval's multi_logloss: 0.407552\n",
      "[300]\ttrain's multi_logloss: 0.283929\teval's multi_logloss: 0.39548\n"
     ]
    },
    {
     "name": "stderr",
     "output_type": "stream",
     "text": [
      "feature_fraction_stage2, val_score: 0.391409: 100%|######################################| 6/6 [00:03<00:00,  1.82it/s]\u001b[32m[I 2021-06-12 21:13:37,115]\u001b[0m Trial 42 finished with value: 0.39140911472642415 and parameters: {'feature_fraction': 0.584}. Best is trial 38 with value: 0.39140911472642415.\u001b[0m\n",
      "feature_fraction_stage2, val_score: 0.391409: 100%|######################################| 6/6 [00:03<00:00,  1.89it/s]\n",
      "regularization_factors, val_score: 0.391409:   0%|                                              | 0/20 [00:00<?, ?it/s]"
     ]
    },
    {
     "name": "stdout",
     "output_type": "stream",
     "text": [
      "Early stopping, best iteration is:\n",
      "[385]\ttrain's multi_logloss: 0.26203\teval's multi_logloss: 0.391409\n",
      "Training until validation scores don't improve for 10 rounds\n",
      "[100]\ttrain's multi_logloss: 0.434739\teval's multi_logloss: 0.473861\n",
      "[200]\ttrain's multi_logloss: 0.369518\teval's multi_logloss: 0.427442\n"
     ]
    },
    {
     "name": "stderr",
     "output_type": "stream",
     "text": [
      "\r",
      "regularization_factors, val_score: 0.391409:   0%|                                              | 0/20 [00:00<?, ?it/s]"
     ]
    },
    {
     "name": "stdout",
     "output_type": "stream",
     "text": [
      "[300]\ttrain's multi_logloss: 0.339452\teval's multi_logloss: 0.411422\n",
      "[400]\ttrain's multi_logloss: 0.32448\teval's multi_logloss: 0.404198\n",
      "Early stopping, best iteration is:\n",
      "[399]\ttrain's multi_logloss: 0.324595\teval's multi_logloss: 0.404168\n"
     ]
    },
    {
     "name": "stderr",
     "output_type": "stream",
     "text": [
      "regularization_factors, val_score: 0.391409:   5%|#9                                    | 1/20 [00:00<00:12,  1.57it/s]\u001b[32m[I 2021-06-12 21:13:37,762]\u001b[0m Trial 43 finished with value: 0.4041684592199044 and parameters: {'lambda_l1': 3.7698797206443313, 'lambda_l2': 0.32002571813403546}. Best is trial 43 with value: 0.4041684592199044.\u001b[0m\n",
      "regularization_factors, val_score: 0.391409:   5%|#9                                    | 1/20 [00:00<00:12,  1.57it/s]"
     ]
    },
    {
     "name": "stdout",
     "output_type": "stream",
     "text": [
      "Training until validation scores don't improve for 10 rounds\n",
      "[100]\ttrain's multi_logloss: 0.402434\teval's multi_logloss: 0.454858\n"
     ]
    },
    {
     "name": "stderr",
     "output_type": "stream",
     "text": [
      "\r",
      "regularization_factors, val_score: 0.391409:   5%|#9                                    | 1/20 [00:01<00:12,  1.57it/s]"
     ]
    },
    {
     "name": "stdout",
     "output_type": "stream",
     "text": [
      "[200]\ttrain's multi_logloss: 0.324819\teval's multi_logloss: 0.407533\n",
      "[300]\ttrain's multi_logloss: 0.284062\teval's multi_logloss: 0.395669\n",
      "Early stopping, best iteration is:\n",
      "[315]\ttrain's multi_logloss: 0.279757\teval's multi_logloss: 0.395025\n"
     ]
    },
    {
     "name": "stderr",
     "output_type": "stream",
     "text": [
      "regularization_factors, val_score: 0.391409:  10%|###8                                  | 2/20 [00:01<00:09,  1.84it/s]\u001b[32m[I 2021-06-12 21:13:38,238]\u001b[0m Trial 44 finished with value: 0.3950252700308629 and parameters: {'lambda_l1': 2.5601320664245825e-07, 'lambda_l2': 0.0029955835519417957}. Best is trial 44 with value: 0.3950252700308629.\u001b[0m\n",
      "regularization_factors, val_score: 0.391409:  10%|###8                                  | 2/20 [00:01<00:09,  1.84it/s]"
     ]
    },
    {
     "name": "stdout",
     "output_type": "stream",
     "text": [
      "Training until validation scores don't improve for 10 rounds\n",
      "[100]\ttrain's multi_logloss: 0.429391\teval's multi_logloss: 0.473157\n",
      "[200]\ttrain's multi_logloss: 0.353957\teval's multi_logloss: 0.42203\n",
      "[300]\ttrain's multi_logloss: 0.316441\teval's multi_logloss: 0.403905\n"
     ]
    },
    {
     "name": "stderr",
     "output_type": "stream",
     "text": [
      "regularization_factors, val_score: 0.391409:  15%|#####7                                | 3/20 [00:01<00:09,  1.80it/s]\u001b[32m[I 2021-06-12 21:13:38,807]\u001b[0m Trial 45 finished with value: 0.39587968090621567 and parameters: {'lambda_l1': 3.3440554832954493e-07, 'lambda_l2': 5.041579554846379}. Best is trial 44 with value: 0.3950252700308629.\u001b[0m\n",
      "regularization_factors, val_score: 0.391409:  15%|#####7                                | 3/20 [00:01<00:09,  1.80it/s]"
     ]
    },
    {
     "name": "stdout",
     "output_type": "stream",
     "text": [
      "[400]\ttrain's multi_logloss: 0.294394\teval's multi_logloss: 0.396051\n",
      "Early stopping, best iteration is:\n",
      "[396]\ttrain's multi_logloss: 0.295237\teval's multi_logloss: 0.39588\n",
      "Training until validation scores don't improve for 10 rounds\n",
      "[100]\ttrain's multi_logloss: 0.435689\teval's multi_logloss: 0.475175\n",
      "[200]\ttrain's multi_logloss: 0.368924\teval's multi_logloss: 0.427578\n",
      "[300]\ttrain's multi_logloss: 0.337686\teval's multi_logloss: 0.411284\n"
     ]
    },
    {
     "name": "stderr",
     "output_type": "stream",
     "text": [
      "regularization_factors, val_score: 0.391409:  20%|#######6                              | 4/20 [00:02<00:08,  1.88it/s]\u001b[32m[I 2021-06-12 21:13:39,305]\u001b[0m Trial 46 finished with value: 0.40366786806310245 and parameters: {'lambda_l1': 3.1215979309249815, 'lambda_l2': 1.650077404252688}. Best is trial 44 with value: 0.3950252700308629.\u001b[0m\n",
      "regularization_factors, val_score: 0.391409:  20%|#######6                              | 4/20 [00:02<00:08,  1.88it/s]"
     ]
    },
    {
     "name": "stdout",
     "output_type": "stream",
     "text": [
      "[400]\ttrain's multi_logloss: 0.321547\teval's multi_logloss: 0.403697\n",
      "Early stopping, best iteration is:\n",
      "[396]\ttrain's multi_logloss: 0.322178\teval's multi_logloss: 0.403668\n",
      "Training until validation scores don't improve for 10 rounds\n",
      "[100]\ttrain's multi_logloss: 0.416705\teval's multi_logloss: 0.464116\n",
      "[200]\ttrain's multi_logloss: 0.340627\teval's multi_logloss: 0.415564\n",
      "[300]\ttrain's multi_logloss: 0.302308\teval's multi_logloss: 0.400107\n",
      "[400]\ttrain's multi_logloss: 0.279412\teval's multi_logloss: 0.393899\n",
      "Early stopping, best iteration is:\n",
      "[395]\ttrain's multi_logloss: 0.280563\teval's multi_logloss: 0.393612\n"
     ]
    },
    {
     "name": "stderr",
     "output_type": "stream",
     "text": [
      "regularization_factors, val_score: 0.391409:  25%|#########5                            | 5/20 [00:02<00:08,  1.73it/s]\u001b[32m[I 2021-06-12 21:13:39,968]\u001b[0m Trial 47 finished with value: 0.3936121396517511 and parameters: {'lambda_l1': 0.0014896088592246015, 'lambda_l2': 2.143351181517962}. Best is trial 47 with value: 0.3936121396517511.\u001b[0m\n",
      "regularization_factors, val_score: 0.391409:  25%|#########5                            | 5/20 [00:02<00:08,  1.73it/s]"
     ]
    },
    {
     "name": "stdout",
     "output_type": "stream",
     "text": [
      "Training until validation scores don't improve for 10 rounds\n",
      "[100]\ttrain's multi_logloss: 0.403449\teval's multi_logloss: 0.455614\n",
      "[200]\ttrain's multi_logloss: 0.325848\teval's multi_logloss: 0.40815\n",
      "[300]\ttrain's multi_logloss: 0.285595\teval's multi_logloss: 0.396063\n"
     ]
    },
    {
     "name": "stderr",
     "output_type": "stream",
     "text": [
      "regularization_factors, val_score: 0.391409:  30%|###########4                          | 6/20 [00:03<00:08,  1.68it/s]\u001b[32m[I 2021-06-12 21:13:40,591]\u001b[0m Trial 48 finished with value: 0.39160738948173784 and parameters: {'lambda_l1': 0.00019804683674066822, 'lambda_l2': 0.1294522586800945}. Best is trial 48 with value: 0.39160738948173784.\u001b[0m\n",
      "regularization_factors, val_score: 0.391409:  30%|###########4                          | 6/20 [00:03<00:08,  1.68it/s]"
     ]
    },
    {
     "name": "stdout",
     "output_type": "stream",
     "text": [
      "[400]\ttrain's multi_logloss: 0.260675\teval's multi_logloss: 0.391986\n",
      "Early stopping, best iteration is:\n",
      "[395]\ttrain's multi_logloss: 0.261952\teval's multi_logloss: 0.391607\n",
      "Training until validation scores don't improve for 10 rounds\n",
      "[100]\ttrain's multi_logloss: 0.402408\teval's multi_logloss: 0.454965\n",
      "[200]\ttrain's multi_logloss: 0.324796\teval's multi_logloss: 0.407604\n"
     ]
    },
    {
     "name": "stderr",
     "output_type": "stream",
     "text": [
      "regularization_factors, val_score: 0.391409:  35%|#############3                        | 7/20 [00:04<00:07,  1.65it/s]\u001b[32m[I 2021-06-12 21:13:41,223]\u001b[0m Trial 49 finished with value: 0.39511608938643744 and parameters: {'lambda_l1': 4.270935471348068e-05, 'lambda_l2': 0.0001165079956706293}. Best is trial 48 with value: 0.39160738948173784.\u001b[0m\n",
      "regularization_factors, val_score: 0.391409:  35%|#############3                        | 7/20 [00:04<00:07,  1.65it/s]"
     ]
    },
    {
     "name": "stdout",
     "output_type": "stream",
     "text": [
      "[300]\ttrain's multi_logloss: 0.284078\teval's multi_logloss: 0.395744\n",
      "Early stopping, best iteration is:\n",
      "[315]\ttrain's multi_logloss: 0.279805\teval's multi_logloss: 0.395116\n",
      "Training until validation scores don't improve for 10 rounds\n",
      "[100]\ttrain's multi_logloss: 0.422629\teval's multi_logloss: 0.466734\n",
      "[200]\ttrain's multi_logloss: 0.353048\teval's multi_logloss: 0.419861\n",
      "[300]\ttrain's multi_logloss: 0.319733\teval's multi_logloss: 0.404288\n",
      "[400]\ttrain's multi_logloss: 0.301253\teval's multi_logloss: 0.39741\n",
      "Early stopping, best iteration is:\n",
      "[396]\ttrain's multi_logloss: 0.301952\teval's multi_logloss: 0.397281\n"
     ]
    },
    {
     "name": "stderr",
     "output_type": "stream",
     "text": [
      "regularization_factors, val_score: 0.391409:  40%|###############2                      | 8/20 [00:04<00:07,  1.61it/s]\u001b[32m[I 2021-06-12 21:13:41,869]\u001b[0m Trial 50 finished with value: 0.3972806617321792 and parameters: {'lambda_l1': 1.9574435181123415, 'lambda_l2': 2.2298225093039157e-05}. Best is trial 48 with value: 0.39160738948173784.\u001b[0m\n",
      "regularization_factors, val_score: 0.391409:  40%|###############2                      | 8/20 [00:04<00:07,  1.61it/s]"
     ]
    },
    {
     "name": "stdout",
     "output_type": "stream",
     "text": [
      "Training until validation scores don't improve for 10 rounds\n",
      "[100]\ttrain's multi_logloss: 0.402404\teval's multi_logloss: 0.454971\n",
      "[200]\ttrain's multi_logloss: 0.324717\teval's multi_logloss: 0.407671\n",
      "[300]\ttrain's multi_logloss: 0.284049\teval's multi_logloss: 0.395935\n"
     ]
    },
    {
     "name": "stderr",
     "output_type": "stream",
     "text": [
      "regularization_factors, val_score: 0.391409:  45%|#################1                    | 9/20 [00:05<00:06,  1.65it/s]\u001b[32m[I 2021-06-12 21:13:42,446]\u001b[0m Trial 51 finished with value: 0.3917494414013137 and parameters: {'lambda_l1': 1.2048244898832752e-05, 'lambda_l2': 0.0001110943999841979}. Best is trial 48 with value: 0.39160738948173784.\u001b[0m\n",
      "regularization_factors, val_score: 0.391409:  45%|#################1                    | 9/20 [00:05<00:06,  1.65it/s]"
     ]
    },
    {
     "name": "stdout",
     "output_type": "stream",
     "text": [
      "Early stopping, best iteration is:\n",
      "[383]\ttrain's multi_logloss: 0.262739\teval's multi_logloss: 0.391749\n",
      "Training until validation scores don't improve for 10 rounds\n",
      "[100]\ttrain's multi_logloss: 0.402616\teval's multi_logloss: 0.45507\n",
      "[200]\ttrain's multi_logloss: 0.324918\teval's multi_logloss: 0.407573\n"
     ]
    },
    {
     "name": "stderr",
     "output_type": "stream",
     "text": [
      "\r",
      "regularization_factors, val_score: 0.391409:  45%|#################1                    | 9/20 [00:05<00:06,  1.65it/s]"
     ]
    },
    {
     "name": "stdout",
     "output_type": "stream",
     "text": [
      "[300]\ttrain's multi_logloss: 0.284359\teval's multi_logloss: 0.395734\n",
      "Early stopping, best iteration is:\n",
      "[385]\ttrain's multi_logloss: 0.26259\teval's multi_logloss: 0.391491\n"
     ]
    },
    {
     "name": "stderr",
     "output_type": "stream",
     "text": [
      "regularization_factors, val_score: 0.391409:  50%|##################5                  | 10/20 [00:06<00:06,  1.59it/s]\u001b[32m[I 2021-06-12 21:13:43,126]\u001b[0m Trial 52 finished with value: 0.39149111090523503 and parameters: {'lambda_l1': 0.010238661621076414, 'lambda_l2': 1.7988219818697534e-05}. Best is trial 52 with value: 0.39149111090523503.\u001b[0m\n",
      "regularization_factors, val_score: 0.391409:  50%|##################5                  | 10/20 [00:06<00:06,  1.59it/s]"
     ]
    },
    {
     "name": "stdout",
     "output_type": "stream",
     "text": [
      "Training until validation scores don't improve for 10 rounds\n",
      "[100]\ttrain's multi_logloss: 0.402513\teval's multi_logloss: 0.455072\n",
      "[200]\ttrain's multi_logloss: 0.324875\teval's multi_logloss: 0.40756\n",
      "[300]\ttrain's multi_logloss: 0.284254\teval's multi_logloss: 0.3959\n"
     ]
    },
    {
     "name": "stderr",
     "output_type": "stream",
     "text": [
      "regularization_factors, val_score: 0.391409:  55%|####################3                | 11/20 [00:06<00:05,  1.60it/s]\u001b[32m[I 2021-06-12 21:13:43,747]\u001b[0m Trial 53 finished with value: 0.39175352672242 and parameters: {'lambda_l1': 0.0056610134031725365, 'lambda_l2': 1.4705290303367477e-08}. Best is trial 52 with value: 0.39149111090523503.\u001b[0m\n",
      "regularization_factors, val_score: 0.391409:  55%|####################3                | 11/20 [00:06<00:05,  1.60it/s]"
     ]
    },
    {
     "name": "stdout",
     "output_type": "stream",
     "text": [
      "[400]\ttrain's multi_logloss: 0.258985\teval's multi_logloss: 0.39214\n",
      "Early stopping, best iteration is:\n",
      "[395]\ttrain's multi_logloss: 0.260278\teval's multi_logloss: 0.391754\n",
      "Training until validation scores don't improve for 10 rounds\n",
      "[100]\ttrain's multi_logloss: 0.40287\teval's multi_logloss: 0.455166\n",
      "[200]\ttrain's multi_logloss: 0.325441\teval's multi_logloss: 0.4079\n",
      "[300]\ttrain's multi_logloss: 0.285209\teval's multi_logloss: 0.39637\n",
      "Early stopping, best iteration is:\n",
      "[387]\ttrain's multi_logloss: 0.263196\teval's multi_logloss: 0.391898\n"
     ]
    },
    {
     "name": "stderr",
     "output_type": "stream",
     "text": [
      "regularization_factors, val_score: 0.391409:  60%|######################2              | 12/20 [00:07<00:05,  1.56it/s]\u001b[32m[I 2021-06-12 21:13:44,430]\u001b[0m Trial 54 finished with value: 0.39189767412063864 and parameters: {'lambda_l1': 0.05274362523511801, 'lambda_l2': 3.060931356828866e-07}. Best is trial 52 with value: 0.39149111090523503.\u001b[0m\n",
      "regularization_factors, val_score: 0.391409:  60%|######################2              | 12/20 [00:07<00:05,  1.56it/s]"
     ]
    },
    {
     "name": "stdout",
     "output_type": "stream",
     "text": [
      "Training until validation scores don't improve for 10 rounds\n",
      "[100]\ttrain's multi_logloss: 0.402927\teval's multi_logloss: 0.45512\n",
      "[200]\ttrain's multi_logloss: 0.325361\teval's multi_logloss: 0.407958\n",
      "[300]\ttrain's multi_logloss: 0.285191\teval's multi_logloss: 0.396373\n"
     ]
    },
    {
     "name": "stderr",
     "output_type": "stream",
     "text": [
      "regularization_factors, val_score: 0.391409:  65%|########################             | 13/20 [00:08<00:04,  1.44it/s]\u001b[32m[I 2021-06-12 21:13:45,241]\u001b[0m Trial 55 finished with value: 0.3917857870288155 and parameters: {'lambda_l1': 0.04076240055319201, 'lambda_l2': 0.018430087857940373}. Best is trial 52 with value: 0.39149111090523503.\u001b[0m\n",
      "regularization_factors, val_score: 0.391409:  65%|########################             | 13/20 [00:08<00:04,  1.44it/s]"
     ]
    },
    {
     "name": "stdout",
     "output_type": "stream",
     "text": [
      "[400]\ttrain's multi_logloss: 0.26028\teval's multi_logloss: 0.392207\n",
      "Early stopping, best iteration is:\n",
      "[395]\ttrain's multi_logloss: 0.261574\teval's multi_logloss: 0.391786\n",
      "Training until validation scores don't improve for 10 rounds\n",
      "[100]\ttrain's multi_logloss: 0.40248\teval's multi_logloss: 0.454981\n",
      "[200]\ttrain's multi_logloss: 0.324863\teval's multi_logloss: 0.40761\n",
      "[300]\ttrain's multi_logloss: 0.284101\teval's multi_logloss: 0.395598\n",
      "Early stopping, best iteration is:\n",
      "[387]\ttrain's multi_logloss: 0.261894\teval's multi_logloss: 0.391421\n"
     ]
    },
    {
     "name": "stderr",
     "output_type": "stream",
     "text": [
      "regularization_factors, val_score: 0.391409:  70%|#########################9           | 14/20 [00:08<00:04,  1.47it/s]\u001b[32m[I 2021-06-12 21:13:45,883]\u001b[0m Trial 56 finished with value: 0.39142068466293517 and parameters: {'lambda_l1': 0.0001261872180303277, 'lambda_l2': 3.3997412060675987e-06}. Best is trial 56 with value: 0.39142068466293517.\u001b[0m\n",
      "regularization_factors, val_score: 0.391409:  70%|#########################9           | 14/20 [00:08<00:04,  1.47it/s]"
     ]
    },
    {
     "name": "stdout",
     "output_type": "stream",
     "text": [
      "Training until validation scores don't improve for 10 rounds\n",
      "[100]\ttrain's multi_logloss: 0.402453\teval's multi_logloss: 0.455008\n",
      "[200]\ttrain's multi_logloss: 0.324739\teval's multi_logloss: 0.40775\n",
      "[300]\ttrain's multi_logloss: 0.283895\teval's multi_logloss: 0.395537\n",
      "Early stopping, best iteration is:\n",
      "[387]\ttrain's multi_logloss: 0.261572\teval's multi_logloss: 0.391108\n"
     ]
    },
    {
     "name": "stderr",
     "output_type": "stream",
     "text": [
      "regularization_factors, val_score: 0.391108:  75%|###########################7         | 15/20 [00:09<00:03,  1.53it/s]\u001b[32m[I 2021-06-12 21:13:46,476]\u001b[0m Trial 57 finished with value: 0.3911081861990804 and parameters: {'lambda_l1': 1.638644119738555e-05, 'lambda_l2': 1.947456907182907e-06}. Best is trial 57 with value: 0.3911081861990804.\u001b[0m\n",
      "regularization_factors, val_score: 0.391108:  75%|###########################7         | 15/20 [00:09<00:03,  1.53it/s]"
     ]
    },
    {
     "name": "stdout",
     "output_type": "stream",
     "text": [
      "Training until validation scores don't improve for 10 rounds\n",
      "[100]\ttrain's multi_logloss: 0.402452\teval's multi_logloss: 0.455011\n",
      "[200]\ttrain's multi_logloss: 0.324824\teval's multi_logloss: 0.407552\n",
      "[300]\ttrain's multi_logloss: 0.283929\teval's multi_logloss: 0.39548\n"
     ]
    },
    {
     "name": "stderr",
     "output_type": "stream",
     "text": [
      "regularization_factors, val_score: 0.391108:  80%|#############################6       | 16/20 [00:09<00:02,  1.55it/s]\u001b[32m[I 2021-06-12 21:13:47,105]\u001b[0m Trial 58 finished with value: 0.39140911508597825 and parameters: {'lambda_l1': 1.0779324756181738e-08, 'lambda_l2': 7.252622982510314e-07}. Best is trial 57 with value: 0.3911081861990804.\u001b[0m\n",
      "regularization_factors, val_score: 0.391108:  80%|#############################6       | 16/20 [00:09<00:02,  1.55it/s]"
     ]
    },
    {
     "name": "stdout",
     "output_type": "stream",
     "text": [
      "Early stopping, best iteration is:\n",
      "[385]\ttrain's multi_logloss: 0.26203\teval's multi_logloss: 0.391409\n",
      "Training until validation scores don't improve for 10 rounds\n",
      "[100]\ttrain's multi_logloss: 0.402452\teval's multi_logloss: 0.455011\n",
      "[200]\ttrain's multi_logloss: 0.324824\teval's multi_logloss: 0.407552\n"
     ]
    },
    {
     "name": "stderr",
     "output_type": "stream",
     "text": [
      "\r",
      "regularization_factors, val_score: 0.391108:  80%|#############################6       | 16/20 [00:10<00:02,  1.55it/s]"
     ]
    },
    {
     "name": "stdout",
     "output_type": "stream",
     "text": [
      "[300]\ttrain's multi_logloss: 0.283929\teval's multi_logloss: 0.39548\n",
      "Early stopping, best iteration is:\n",
      "[385]\ttrain's multi_logloss: 0.26203\teval's multi_logloss: 0.391409\n"
     ]
    },
    {
     "name": "stderr",
     "output_type": "stream",
     "text": [
      "regularization_factors, val_score: 0.391108:  85%|###############################4     | 17/20 [00:10<00:01,  1.59it/s]\u001b[32m[I 2021-06-12 21:13:47,691]\u001b[0m Trial 59 finished with value: 0.3914091147468474 and parameters: {'lambda_l1': 2.09706074590903e-08, 'lambda_l2': 1.530775831098917e-08}. Best is trial 57 with value: 0.3911081861990804.\u001b[0m\n",
      "regularization_factors, val_score: 0.391108:  85%|###############################4     | 17/20 [00:10<00:01,  1.59it/s]"
     ]
    },
    {
     "name": "stdout",
     "output_type": "stream",
     "text": [
      "Training until validation scores don't improve for 10 rounds\n",
      "[100]\ttrain's multi_logloss: 0.402452\teval's multi_logloss: 0.455011\n",
      "[200]\ttrain's multi_logloss: 0.324824\teval's multi_logloss: 0.407552\n",
      "[300]\ttrain's multi_logloss: 0.283929\teval's multi_logloss: 0.39548\n"
     ]
    },
    {
     "name": "stderr",
     "output_type": "stream",
     "text": [
      "regularization_factors, val_score: 0.391108:  90%|#################################3   | 18/20 [00:11<00:01,  1.63it/s]\u001b[32m[I 2021-06-12 21:13:48,267]\u001b[0m Trial 60 finished with value: 0.3914091147484416 and parameters: {'lambda_l1': 1.3216151906114e-08, 'lambda_l2': 1.379832727368214e-08}. Best is trial 57 with value: 0.3911081861990804.\u001b[0m\n",
      "regularization_factors, val_score: 0.391108:  90%|#################################3   | 18/20 [00:11<00:01,  1.63it/s]"
     ]
    },
    {
     "name": "stdout",
     "output_type": "stream",
     "text": [
      "Early stopping, best iteration is:\n",
      "[385]\ttrain's multi_logloss: 0.26203\teval's multi_logloss: 0.391409\n",
      "Training until validation scores don't improve for 10 rounds\n",
      "[100]\ttrain's multi_logloss: 0.402452\teval's multi_logloss: 0.455011\n",
      "[200]\ttrain's multi_logloss: 0.324825\teval's multi_logloss: 0.407552\n"
     ]
    },
    {
     "name": "stderr",
     "output_type": "stream",
     "text": [
      "\r",
      "regularization_factors, val_score: 0.391108:  90%|#################################3   | 18/20 [00:11<00:01,  1.63it/s]"
     ]
    },
    {
     "name": "stdout",
     "output_type": "stream",
     "text": [
      "[300]\ttrain's multi_logloss: 0.28397\teval's multi_logloss: 0.395685\n",
      "Early stopping, best iteration is:\n",
      "[385]\ttrain's multi_logloss: 0.262198\teval's multi_logloss: 0.391442\n"
     ]
    },
    {
     "name": "stderr",
     "output_type": "stream",
     "text": [
      "regularization_factors, val_score: 0.391108:  95%|###################################1 | 19/20 [00:11<00:00,  1.66it/s]\u001b[32m[I 2021-06-12 21:13:48,841]\u001b[0m Trial 61 finished with value: 0.3914424291002935 and parameters: {'lambda_l1': 1.6245554297783675e-06, 'lambda_l2': 1.2036592251873506e-07}. Best is trial 57 with value: 0.3911081861990804.\u001b[0m\n",
      "regularization_factors, val_score: 0.391108:  95%|###################################1 | 19/20 [00:11<00:00,  1.66it/s]"
     ]
    },
    {
     "name": "stdout",
     "output_type": "stream",
     "text": [
      "Training until validation scores don't improve for 10 rounds\n",
      "[100]\ttrain's multi_logloss: 0.402452\teval's multi_logloss: 0.455011\n",
      "[200]\ttrain's multi_logloss: 0.324824\teval's multi_logloss: 0.407552\n",
      "[300]\ttrain's multi_logloss: 0.283929\teval's multi_logloss: 0.39548\n"
     ]
    },
    {
     "name": "stderr",
     "output_type": "stream",
     "text": [
      "regularization_factors, val_score: 0.391108: 100%|#####################################| 20/20 [00:12<00:00,  1.68it/s]\u001b[32m[I 2021-06-12 21:13:49,422]\u001b[0m Trial 62 finished with value: 0.39140911476551954 and parameters: {'lambda_l1': 4.4080542608303655e-08, 'lambda_l2': 4.424310010782929e-08}. Best is trial 57 with value: 0.3911081861990804.\u001b[0m\n",
      "regularization_factors, val_score: 0.391108: 100%|#####################################| 20/20 [00:12<00:00,  1.63it/s]\n",
      "min_data_in_leaf, val_score: 0.391108:   0%|                                                     | 0/5 [00:00<?, ?it/s]"
     ]
    },
    {
     "name": "stdout",
     "output_type": "stream",
     "text": [
      "Early stopping, best iteration is:\n",
      "[385]\ttrain's multi_logloss: 0.26203\teval's multi_logloss: 0.391409\n",
      "Training until validation scores don't improve for 10 rounds\n",
      "[100]\ttrain's multi_logloss: 0.396541\teval's multi_logloss: 0.45648\n",
      "[200]\ttrain's multi_logloss: 0.315477\teval's multi_logloss: 0.410055\n"
     ]
    },
    {
     "name": "stderr",
     "output_type": "stream",
     "text": [
      "min_data_in_leaf, val_score: 0.391108:  20%|#########                                    | 1/5 [00:00<00:02,  1.92it/s]\u001b[32m[I 2021-06-12 21:13:49,954]\u001b[0m Trial 63 finished with value: 0.3965892879968917 and parameters: {'min_child_samples': 10}. Best is trial 63 with value: 0.3965892879968917.\u001b[0m\n",
      "min_data_in_leaf, val_score: 0.391108:  20%|#########                                    | 1/5 [00:00<00:02,  1.92it/s]"
     ]
    },
    {
     "name": "stdout",
     "output_type": "stream",
     "text": [
      "[300]\ttrain's multi_logloss: 0.27248\teval's multi_logloss: 0.398881\n",
      "Early stopping, best iteration is:\n",
      "[350]\ttrain's multi_logloss: 0.258381\teval's multi_logloss: 0.396589\n",
      "Training until validation scores don't improve for 10 rounds\n",
      "[100]\ttrain's multi_logloss: 0.391917\teval's multi_logloss: 0.456071\n",
      "[200]\ttrain's multi_logloss: 0.309767\teval's multi_logloss: 0.41078\n"
     ]
    },
    {
     "name": "stderr",
     "output_type": "stream",
     "text": [
      "min_data_in_leaf, val_score: 0.391108:  40%|##################                           | 2/5 [00:01<00:01,  1.81it/s]\u001b[32m[I 2021-06-12 21:13:50,527]\u001b[0m Trial 64 finished with value: 0.397444709461617 and parameters: {'min_child_samples': 5}. Best is trial 63 with value: 0.3965892879968917.\u001b[0m\n"
     ]
    },
    {
     "name": "stdout",
     "output_type": "stream",
     "text": [
      "[300]\ttrain's multi_logloss: 0.265611\teval's multi_logloss: 0.399487\n",
      "Early stopping, best iteration is:\n",
      "[351]\ttrain's multi_logloss: 0.250871\teval's multi_logloss: 0.397445\n"
     ]
    },
    {
     "name": "stderr",
     "output_type": "stream",
     "text": [
      "\r",
      "min_data_in_leaf, val_score: 0.391108:  40%|##################                           | 2/5 [00:01<00:01,  1.81it/s]"
     ]
    },
    {
     "name": "stdout",
     "output_type": "stream",
     "text": [
      "Training until validation scores don't improve for 10 rounds\n",
      "[100]\ttrain's multi_logloss: 0.413274\teval's multi_logloss: 0.460445\n",
      "[200]\ttrain's multi_logloss: 0.341458\teval's multi_logloss: 0.412837\n",
      "[300]\ttrain's multi_logloss: 0.304842\teval's multi_logloss: 0.397288\n",
      "[400]\ttrain's multi_logloss: 0.28243\teval's multi_logloss: 0.391137\n",
      "Early stopping, best iteration is:\n",
      "[396]\ttrain's multi_logloss: 0.28333\teval's multi_logloss: 0.390894\n"
     ]
    },
    {
     "name": "stderr",
     "output_type": "stream",
     "text": [
      "min_data_in_leaf, val_score: 0.390894:  60%|###########################                  | 3/5 [00:01<00:01,  1.55it/s]\u001b[32m[I 2021-06-12 21:13:51,283]\u001b[0m Trial 65 finished with value: 0.3908940098912119 and parameters: {'min_child_samples': 50}. Best is trial 65 with value: 0.3908940098912119.\u001b[0m\n",
      "min_data_in_leaf, val_score: 0.390894:  60%|###########################                  | 3/5 [00:01<00:01,  1.55it/s]"
     ]
    },
    {
     "name": "stdout",
     "output_type": "stream",
     "text": [
      "Training until validation scores don't improve for 10 rounds\n",
      "[100]\ttrain's multi_logloss: 0.438343\teval's multi_logloss: 0.47054\n",
      "[200]\ttrain's multi_logloss: 0.369347\teval's multi_logloss: 0.419233\n",
      "[300]\ttrain's multi_logloss: 0.335247\teval's multi_logloss: 0.401638\n"
     ]
    },
    {
     "name": "stderr",
     "output_type": "stream",
     "text": [
      "min_data_in_leaf, val_score: 0.390894:  80%|####################################         | 4/5 [00:02<00:00,  1.55it/s]\u001b[32m[I 2021-06-12 21:13:51,926]\u001b[0m Trial 66 finished with value: 0.3942308260980927 and parameters: {'min_child_samples': 100}. Best is trial 65 with value: 0.3908940098912119.\u001b[0m\n",
      "min_data_in_leaf, val_score: 0.390894:  80%|####################################         | 4/5 [00:02<00:00,  1.55it/s]"
     ]
    },
    {
     "name": "stdout",
     "output_type": "stream",
     "text": [
      "[400]\ttrain's multi_logloss: 0.316358\teval's multi_logloss: 0.394334\n",
      "Early stopping, best iteration is:\n",
      "[399]\ttrain's multi_logloss: 0.316558\teval's multi_logloss: 0.394231\n",
      "Training until validation scores don't improve for 10 rounds\n",
      "[100]\ttrain's multi_logloss: 0.404873\teval's multi_logloss: 0.455379\n",
      "[200]\ttrain's multi_logloss: 0.32857\teval's multi_logloss: 0.407895\n",
      "[300]\ttrain's multi_logloss: 0.288682\teval's multi_logloss: 0.394199\n",
      "[400]\ttrain's multi_logloss: 0.263814\teval's multi_logloss: 0.390656\n",
      "Early stopping, best iteration is:\n",
      "[396]\ttrain's multi_logloss: 0.264869\teval's multi_logloss: 0.390189\n"
     ]
    },
    {
     "name": "stderr",
     "output_type": "stream",
     "text": [
      "min_data_in_leaf, val_score: 0.390189: 100%|#############################################| 5/5 [00:03<00:00,  1.59it/s]\u001b[32m[I 2021-06-12 21:13:52,525]\u001b[0m Trial 67 finished with value: 0.39018902450086995 and parameters: {'min_child_samples': 25}. Best is trial 67 with value: 0.39018902450086995.\u001b[0m\n",
      "min_data_in_leaf, val_score: 0.390189: 100%|#############################################| 5/5 [00:03<00:00,  1.61it/s]\n",
      "\u001b[32m[I 2021-06-12 21:13:52,564]\u001b[0m A new study created in memory with name: no-name-f1efb2fd-d41c-4165-8489-35ccef0b647b\u001b[0m\n",
      "feature_fraction, val_score: inf:   0%|                                                          | 0/7 [00:00<?, ?it/s]"
     ]
    },
    {
     "name": "stdout",
     "output_type": "stream",
     "text": [
      "Training until validation scores don't improve for 10 rounds\n",
      "[100]\ttrain's multi_logloss: 0.365703\teval's multi_logloss: 0.416457\n",
      "[200]\ttrain's multi_logloss: 0.269679\teval's multi_logloss: 0.370682\n",
      "Early stopping, best iteration is:\n",
      "[241]\ttrain's multi_logloss: 0.243577\teval's multi_logloss: 0.364889\n"
     ]
    },
    {
     "name": "stderr",
     "output_type": "stream",
     "text": [
      "feature_fraction, val_score: 0.364889:  14%|######4                                      | 1/7 [00:00<00:05,  1.15it/s]\u001b[32m[I 2021-06-12 21:13:53,437]\u001b[0m Trial 0 finished with value: 0.3648890112589308 and parameters: {'feature_fraction': 0.7}. Best is trial 0 with value: 0.3648890112589308.\u001b[0m\n",
      "feature_fraction, val_score: 0.364889:  14%|######4                                      | 1/7 [00:00<00:05,  1.15it/s]"
     ]
    },
    {
     "name": "stdout",
     "output_type": "stream",
     "text": [
      "Training until validation scores don't improve for 10 rounds\n",
      "[100]\ttrain's multi_logloss: 0.344324\teval's multi_logloss: 0.397285\n",
      "[200]\ttrain's multi_logloss: 0.25489\teval's multi_logloss: 0.361084\n",
      "Early stopping, best iteration is:\n",
      "[225]\ttrain's multi_logloss: 0.238139\teval's multi_logloss: 0.359785\n"
     ]
    },
    {
     "name": "stderr",
     "output_type": "stream",
     "text": [
      "feature_fraction, val_score: 0.359785:  29%|############8                                | 2/7 [00:01<00:04,  1.20it/s]\u001b[32m[I 2021-06-12 21:13:54,248]\u001b[0m Trial 1 finished with value: 0.3597849155100368 and parameters: {'feature_fraction': 0.8999999999999999}. Best is trial 1 with value: 0.3597849155100368.\u001b[0m\n",
      "feature_fraction, val_score: 0.359785:  29%|############8                                | 2/7 [00:01<00:04,  1.20it/s]"
     ]
    },
    {
     "name": "stdout",
     "output_type": "stream",
     "text": [
      "Training until validation scores don't improve for 10 rounds\n",
      "[100]\ttrain's multi_logloss: 0.351879\teval's multi_logloss: 0.403627\n",
      "[200]\ttrain's multi_logloss: 0.260058\teval's multi_logloss: 0.363522\n",
      "Early stopping, best iteration is:\n",
      "[225]\ttrain's multi_logloss: 0.243704\teval's multi_logloss: 0.360121\n"
     ]
    },
    {
     "name": "stderr",
     "output_type": "stream",
     "text": [
      "feature_fraction, val_score: 0.359785:  43%|###################2                         | 3/7 [00:02<00:03,  1.21it/s]\u001b[32m[I 2021-06-12 21:13:55,076]\u001b[0m Trial 2 finished with value: 0.3601213788886542 and parameters: {'feature_fraction': 0.8}. Best is trial 1 with value: 0.3597849155100368.\u001b[0m\n",
      "feature_fraction, val_score: 0.359785:  43%|###################2                         | 3/7 [00:02<00:03,  1.21it/s]"
     ]
    },
    {
     "name": "stdout",
     "output_type": "stream",
     "text": [
      "Training until validation scores don't improve for 10 rounds\n",
      "[100]\ttrain's multi_logloss: 0.381746\teval's multi_logloss: 0.431284\n",
      "[200]\ttrain's multi_logloss: 0.286048\teval's multi_logloss: 0.380657\n",
      "Early stopping, best iteration is:\n",
      "[258]\ttrain's multi_logloss: 0.249542\teval's multi_logloss: 0.369835\n"
     ]
    },
    {
     "name": "stderr",
     "output_type": "stream",
     "text": [
      "feature_fraction, val_score: 0.359785:  57%|#########################7                   | 4/7 [00:03<00:02,  1.02it/s]\u001b[32m[I 2021-06-12 21:13:56,294]\u001b[0m Trial 3 finished with value: 0.3698346682794862 and parameters: {'feature_fraction': 0.6}. Best is trial 1 with value: 0.3597849155100368.\u001b[0m\n",
      "feature_fraction, val_score: 0.359785:  57%|#########################7                   | 4/7 [00:03<00:02,  1.02it/s]"
     ]
    },
    {
     "name": "stdout",
     "output_type": "stream",
     "text": [
      "Training until validation scores don't improve for 10 rounds\n",
      "[100]\ttrain's multi_logloss: 0.339838\teval's multi_logloss: 0.391782\n"
     ]
    },
    {
     "name": "stderr",
     "output_type": "stream",
     "text": [
      "feature_fraction, val_score: 0.359785:  71%|################################1            | 5/7 [00:04<00:01,  1.14it/s]\u001b[32m[I 2021-06-12 21:13:56,974]\u001b[0m Trial 4 finished with value: 0.36203346929613045 and parameters: {'feature_fraction': 1.0}. Best is trial 1 with value: 0.3597849155100368.\u001b[0m\n",
      "feature_fraction, val_score: 0.359785:  71%|################################1            | 5/7 [00:04<00:01,  1.14it/s]"
     ]
    },
    {
     "name": "stdout",
     "output_type": "stream",
     "text": [
      "Early stopping, best iteration is:\n",
      "[175]\ttrain's multi_logloss: 0.271858\teval's multi_logloss: 0.362033\n",
      "Training until validation scores don't improve for 10 rounds\n",
      "[100]\ttrain's multi_logloss: 0.381746\teval's multi_logloss: 0.431284\n",
      "[200]\ttrain's multi_logloss: 0.286048\teval's multi_logloss: 0.380657\n",
      "Early stopping, best iteration is:\n",
      "[258]\ttrain's multi_logloss: 0.249542\teval's multi_logloss: 0.369835\n"
     ]
    },
    {
     "name": "stderr",
     "output_type": "stream",
     "text": [
      "feature_fraction, val_score: 0.359785:  86%|######################################5      | 6/7 [00:05<00:00,  1.14it/s]\u001b[32m[I 2021-06-12 21:13:57,858]\u001b[0m Trial 5 finished with value: 0.3698346682794862 and parameters: {'feature_fraction': 0.5}. Best is trial 1 with value: 0.3597849155100368.\u001b[0m\n",
      "feature_fraction, val_score: 0.359785:  86%|######################################5      | 6/7 [00:05<00:00,  1.14it/s]"
     ]
    },
    {
     "name": "stdout",
     "output_type": "stream",
     "text": [
      "Training until validation scores don't improve for 10 rounds\n",
      "[100]\ttrain's multi_logloss: 0.484597\teval's multi_logloss: 0.543133\n",
      "[200]\ttrain's multi_logloss: 0.393608\teval's multi_logloss: 0.501204\n",
      "[300]\ttrain's multi_logloss: 0.3313\teval's multi_logloss: 0.479032\n",
      "Early stopping, best iteration is:\n",
      "[346]\ttrain's multi_logloss: 0.306505\teval's multi_logloss: 0.4696\n"
     ]
    },
    {
     "name": "stderr",
     "output_type": "stream",
     "text": [
      "feature_fraction, val_score: 0.359785: 100%|#############################################| 7/7 [00:06<00:00,  1.04it/s]\u001b[32m[I 2021-06-12 21:13:58,984]\u001b[0m Trial 6 finished with value: 0.4695998811274633 and parameters: {'feature_fraction': 0.4}. Best is trial 1 with value: 0.3597849155100368.\u001b[0m\n",
      "feature_fraction, val_score: 0.359785: 100%|#############################################| 7/7 [00:06<00:00,  1.09it/s]\n",
      "num_leaves, val_score: 0.359785:   0%|                                                          | 0/20 [00:00<?, ?it/s]"
     ]
    },
    {
     "name": "stdout",
     "output_type": "stream",
     "text": [
      "Training until validation scores don't improve for 10 rounds\n",
      "[100]\ttrain's multi_logloss: 0.344324\teval's multi_logloss: 0.397285\n",
      "[200]\ttrain's multi_logloss: 0.25489\teval's multi_logloss: 0.361084\n",
      "Early stopping, best iteration is:\n",
      "[240]\ttrain's multi_logloss: 0.228814\teval's multi_logloss: 0.359662\n"
     ]
    },
    {
     "name": "stderr",
     "output_type": "stream",
     "text": [
      "num_leaves, val_score: 0.359662:   5%|##5                                               | 1/20 [00:01<00:19,  1.04s/it]\u001b[32m[I 2021-06-12 21:14:00,032]\u001b[0m Trial 7 finished with value: 0.3596617751498016 and parameters: {'num_leaves': 104}. Best is trial 7 with value: 0.3596617751498016.\u001b[0m\n",
      "num_leaves, val_score: 0.359662:   5%|##5                                               | 1/20 [00:01<00:19,  1.04s/it]"
     ]
    },
    {
     "name": "stdout",
     "output_type": "stream",
     "text": [
      "Training until validation scores don't improve for 10 rounds\n",
      "[100]\ttrain's multi_logloss: 0.344324\teval's multi_logloss: 0.397285\n",
      "[200]\ttrain's multi_logloss: 0.254927\teval's multi_logloss: 0.361241\n",
      "Early stopping, best iteration is:\n",
      "[240]\ttrain's multi_logloss: 0.228811\teval's multi_logloss: 0.359615\n"
     ]
    },
    {
     "name": "stderr",
     "output_type": "stream",
     "text": [
      "num_leaves, val_score: 0.359615:  10%|#####                                             | 2/20 [00:01<00:16,  1.08it/s]\u001b[32m[I 2021-06-12 21:14:00,884]\u001b[0m Trial 8 finished with value: 0.3596150423346082 and parameters: {'num_leaves': 38}. Best is trial 8 with value: 0.3596150423346082.\u001b[0m\n",
      "num_leaves, val_score: 0.359615:  10%|#####                                             | 2/20 [00:01<00:16,  1.08it/s]"
     ]
    },
    {
     "name": "stdout",
     "output_type": "stream",
     "text": [
      "Training until validation scores don't improve for 10 rounds\n",
      "[100]\ttrain's multi_logloss: 0.344324\teval's multi_logloss: 0.397285\n",
      "[200]\ttrain's multi_logloss: 0.25489\teval's multi_logloss: 0.361084\n",
      "Early stopping, best iteration is:\n",
      "[240]\ttrain's multi_logloss: 0.228814\teval's multi_logloss: 0.359662\n"
     ]
    },
    {
     "name": "stderr",
     "output_type": "stream",
     "text": [
      "num_leaves, val_score: 0.359615:  15%|#######5                                          | 3/20 [00:02<00:15,  1.09it/s]\u001b[32m[I 2021-06-12 21:14:01,790]\u001b[0m Trial 9 finished with value: 0.3596617751498016 and parameters: {'num_leaves': 214}. Best is trial 8 with value: 0.3596150423346082.\u001b[0m\n",
      "num_leaves, val_score: 0.359615:  15%|#######5                                          | 3/20 [00:02<00:15,  1.09it/s]"
     ]
    },
    {
     "name": "stdout",
     "output_type": "stream",
     "text": [
      "Training until validation scores don't improve for 10 rounds\n",
      "[100]\ttrain's multi_logloss: 0.345425\teval's multi_logloss: 0.396537\n"
     ]
    },
    {
     "name": "stderr",
     "output_type": "stream",
     "text": [
      "num_leaves, val_score: 0.359552:  20%|##########                                        | 4/20 [00:03<00:12,  1.25it/s]\u001b[32m[I 2021-06-12 21:14:02,409]\u001b[0m Trial 10 finished with value: 0.35955161090564525 and parameters: {'num_leaves': 27}. Best is trial 10 with value: 0.35955161090564525.\u001b[0m\n",
      "num_leaves, val_score: 0.359552:  20%|##########                                        | 4/20 [00:03<00:12,  1.25it/s]"
     ]
    },
    {
     "name": "stdout",
     "output_type": "stream",
     "text": [
      "[200]\ttrain's multi_logloss: 0.258346\teval's multi_logloss: 0.360473\n",
      "Early stopping, best iteration is:\n",
      "[208]\ttrain's multi_logloss: 0.252998\teval's multi_logloss: 0.359552\n",
      "Training until validation scores don't improve for 10 rounds\n",
      "[100]\ttrain's multi_logloss: 0.344324\teval's multi_logloss: 0.397285\n",
      "[200]\ttrain's multi_logloss: 0.25489\teval's multi_logloss: 0.361084\n",
      "Early stopping, best iteration is:\n",
      "[240]\ttrain's multi_logloss: 0.228814\teval's multi_logloss: 0.359662\n"
     ]
    },
    {
     "name": "stderr",
     "output_type": "stream",
     "text": [
      "num_leaves, val_score: 0.359552:  25%|############5                                     | 5/20 [00:04<00:13,  1.12it/s]\u001b[32m[I 2021-06-12 21:14:03,470]\u001b[0m Trial 11 finished with value: 0.3596617751498016 and parameters: {'num_leaves': 231}. Best is trial 10 with value: 0.35955161090564525.\u001b[0m\n",
      "num_leaves, val_score: 0.359552:  25%|############5                                     | 5/20 [00:04<00:13,  1.12it/s]"
     ]
    },
    {
     "name": "stdout",
     "output_type": "stream",
     "text": [
      "Training until validation scores don't improve for 10 rounds\n",
      "[100]\ttrain's multi_logloss: 0.344324\teval's multi_logloss: 0.397285\n",
      "[200]\ttrain's multi_logloss: 0.25489\teval's multi_logloss: 0.361084\n",
      "Early stopping, best iteration is:\n",
      "[240]\ttrain's multi_logloss: 0.228814\teval's multi_logloss: 0.359662\n"
     ]
    },
    {
     "name": "stderr",
     "output_type": "stream",
     "text": [
      "num_leaves, val_score: 0.359552:  30%|###############                                   | 6/20 [00:05<00:12,  1.09it/s]\u001b[32m[I 2021-06-12 21:14:04,431]\u001b[0m Trial 12 finished with value: 0.3596617751498016 and parameters: {'num_leaves': 66}. Best is trial 10 with value: 0.35955161090564525.\u001b[0m\n",
      "num_leaves, val_score: 0.359552:  30%|###############                                   | 6/20 [00:05<00:12,  1.09it/s]"
     ]
    },
    {
     "name": "stdout",
     "output_type": "stream",
     "text": [
      "Training until validation scores don't improve for 10 rounds\n",
      "[100]\ttrain's multi_logloss: 0.344324\teval's multi_logloss: 0.397285\n",
      "[200]\ttrain's multi_logloss: 0.25489\teval's multi_logloss: 0.361084\n",
      "Early stopping, best iteration is:\n",
      "[240]\ttrain's multi_logloss: 0.228814\teval's multi_logloss: 0.359662\n"
     ]
    },
    {
     "name": "stderr",
     "output_type": "stream",
     "text": [
      "num_leaves, val_score: 0.359552:  35%|#################5                                | 7/20 [00:06<00:12,  1.06it/s]\u001b[32m[I 2021-06-12 21:14:05,423]\u001b[0m Trial 13 finished with value: 0.3596617751498016 and parameters: {'num_leaves': 225}. Best is trial 10 with value: 0.35955161090564525.\u001b[0m\n",
      "num_leaves, val_score: 0.359552:  35%|#################5                                | 7/20 [00:06<00:12,  1.06it/s]"
     ]
    },
    {
     "name": "stdout",
     "output_type": "stream",
     "text": [
      "Training until validation scores don't improve for 10 rounds\n",
      "[100]\ttrain's multi_logloss: 0.344324\teval's multi_logloss: 0.397285\n",
      "[200]\ttrain's multi_logloss: 0.25489\teval's multi_logloss: 0.361084\n",
      "Early stopping, best iteration is:\n",
      "[240]\ttrain's multi_logloss: 0.228814\teval's multi_logloss: 0.359662\n"
     ]
    },
    {
     "name": "stderr",
     "output_type": "stream",
     "text": [
      "num_leaves, val_score: 0.359552:  40%|####################                              | 8/20 [00:07<00:11,  1.06it/s]\u001b[32m[I 2021-06-12 21:14:06,382]\u001b[0m Trial 14 finished with value: 0.3596617751498016 and parameters: {'num_leaves': 166}. Best is trial 10 with value: 0.35955161090564525.\u001b[0m\n",
      "num_leaves, val_score: 0.359552:  40%|####################                              | 8/20 [00:07<00:11,  1.06it/s]"
     ]
    },
    {
     "name": "stdout",
     "output_type": "stream",
     "text": [
      "Training until validation scores don't improve for 10 rounds\n",
      "[100]\ttrain's multi_logloss: 0.344324\teval's multi_logloss: 0.397285\n",
      "[200]\ttrain's multi_logloss: 0.25489\teval's multi_logloss: 0.361084\n",
      "Early stopping, best iteration is:\n",
      "[240]\ttrain's multi_logloss: 0.228814\teval's multi_logloss: 0.359662\n"
     ]
    },
    {
     "name": "stderr",
     "output_type": "stream",
     "text": [
      "num_leaves, val_score: 0.359552:  45%|######################5                           | 9/20 [00:08<00:10,  1.02it/s]\u001b[32m[I 2021-06-12 21:14:07,442]\u001b[0m Trial 15 finished with value: 0.3596617751498016 and parameters: {'num_leaves': 253}. Best is trial 10 with value: 0.35955161090564525.\u001b[0m\n",
      "num_leaves, val_score: 0.359552:  45%|######################5                           | 9/20 [00:08<00:10,  1.02it/s]"
     ]
    },
    {
     "name": "stdout",
     "output_type": "stream",
     "text": [
      "Training until validation scores don't improve for 10 rounds\n",
      "[100]\ttrain's multi_logloss: 0.344324\teval's multi_logloss: 0.397285\n",
      "[200]\ttrain's multi_logloss: 0.25489\teval's multi_logloss: 0.361084\n",
      "Early stopping, best iteration is:\n",
      "[240]\ttrain's multi_logloss: 0.228814\teval's multi_logloss: 0.359662\n"
     ]
    },
    {
     "name": "stderr",
     "output_type": "stream",
     "text": [
      "num_leaves, val_score: 0.359552:  50%|########################5                        | 10/20 [00:09<00:09,  1.01it/s]\u001b[32m[I 2021-06-12 21:14:08,463]\u001b[0m Trial 16 finished with value: 0.3596617751498016 and parameters: {'num_leaves': 155}. Best is trial 10 with value: 0.35955161090564525.\u001b[0m\n",
      "num_leaves, val_score: 0.359552:  50%|########################5                        | 10/20 [00:09<00:09,  1.01it/s]"
     ]
    },
    {
     "name": "stdout",
     "output_type": "stream",
     "text": [
      "Training until validation scores don't improve for 10 rounds\n",
      "[100]\ttrain's multi_logloss: 0.366934\teval's multi_logloss: 0.396827\n"
     ]
    },
    {
     "name": "stderr",
     "output_type": "stream",
     "text": [
      "num_leaves, val_score: 0.353695:  55%|##########################9                      | 11/20 [00:09<00:07,  1.19it/s]\u001b[32m[I 2021-06-12 21:14:08,955]\u001b[0m Trial 17 finished with value: 0.3536950497607451 and parameters: {'num_leaves': 11}. Best is trial 17 with value: 0.3536950497607451.\u001b[0m\n",
      "num_leaves, val_score: 0.353695:  55%|##########################9                      | 11/20 [00:09<00:07,  1.19it/s]"
     ]
    },
    {
     "name": "stdout",
     "output_type": "stream",
     "text": [
      "[200]\ttrain's multi_logloss: 0.299301\teval's multi_logloss: 0.359388\n",
      "Early stopping, best iteration is:\n",
      "[240]\ttrain's multi_logloss: 0.282555\teval's multi_logloss: 0.353695\n",
      "Training until validation scores don't improve for 10 rounds\n",
      "[100]\ttrain's multi_logloss: 0.373677\teval's multi_logloss: 0.39823\n",
      "[200]\ttrain's multi_logloss: 0.309474\teval's multi_logloss: 0.361366\n"
     ]
    },
    {
     "name": "stderr",
     "output_type": "stream",
     "text": [
      "num_leaves, val_score: 0.353280:  60%|#############################4                   | 12/20 [00:10<00:05,  1.35it/s]\u001b[32m[I 2021-06-12 21:14:09,472]\u001b[0m Trial 18 finished with value: 0.3532801778123321 and parameters: {'num_leaves': 9}. Best is trial 18 with value: 0.3532801778123321.\u001b[0m\n",
      "num_leaves, val_score: 0.353280:  60%|#############################4                   | 12/20 [00:10<00:05,  1.35it/s]"
     ]
    },
    {
     "name": "stdout",
     "output_type": "stream",
     "text": [
      "Early stopping, best iteration is:\n",
      "[257]\ttrain's multi_logloss: 0.288913\teval's multi_logloss: 0.35328\n",
      "Training until validation scores don't improve for 10 rounds\n",
      "[100]\ttrain's multi_logloss: 0.364251\teval's multi_logloss: 0.39707\n",
      "[200]\ttrain's multi_logloss: 0.294443\teval's multi_logloss: 0.361047\n"
     ]
    },
    {
     "name": "stderr",
     "output_type": "stream",
     "text": [
      "num_leaves, val_score: 0.353280:  65%|###############################8                 | 13/20 [00:11<00:04,  1.46it/s]\u001b[32m[I 2021-06-12 21:14:10,019]\u001b[0m Trial 19 finished with value: 0.35511442693289347 and parameters: {'num_leaves': 12}. Best is trial 18 with value: 0.3532801778123321.\u001b[0m\n",
      "num_leaves, val_score: 0.353280:  65%|###############################8                 | 13/20 [00:11<00:04,  1.46it/s]"
     ]
    },
    {
     "name": "stdout",
     "output_type": "stream",
     "text": [
      "Early stopping, best iteration is:\n",
      "[240]\ttrain's multi_logloss: 0.277164\teval's multi_logloss: 0.355114\n",
      "Training until validation scores don't improve for 10 rounds\n",
      "[100]\ttrain's multi_logloss: 0.344324\teval's multi_logloss: 0.397285\n",
      "[200]\ttrain's multi_logloss: 0.25489\teval's multi_logloss: 0.361084\n",
      "Early stopping, best iteration is:\n",
      "[240]\ttrain's multi_logloss: 0.228814\teval's multi_logloss: 0.359662\n"
     ]
    },
    {
     "name": "stderr",
     "output_type": "stream",
     "text": [
      "num_leaves, val_score: 0.353280:  70%|##################################3              | 14/20 [00:12<00:05,  1.18it/s]\u001b[32m[I 2021-06-12 21:14:11,237]\u001b[0m Trial 20 finished with value: 0.3596617751498016 and parameters: {'num_leaves': 70}. Best is trial 18 with value: 0.3532801778123321.\u001b[0m\n",
      "num_leaves, val_score: 0.353280:  70%|##################################3              | 14/20 [00:12<00:05,  1.18it/s]"
     ]
    },
    {
     "name": "stdout",
     "output_type": "stream",
     "text": [
      "Training until validation scores don't improve for 10 rounds\n",
      "[100]\ttrain's multi_logloss: 0.401242\teval's multi_logloss: 0.408719\n",
      "[200]\ttrain's multi_logloss: 0.350572\teval's multi_logloss: 0.364831\n"
     ]
    },
    {
     "name": "stderr",
     "output_type": "stream",
     "text": [
      "num_leaves, val_score: 0.346827:  75%|####################################7            | 15/20 [00:12<00:03,  1.37it/s]\u001b[32m[I 2021-06-12 21:14:11,693]\u001b[0m Trial 21 finished with value: 0.34682729008380675 and parameters: {'num_leaves': 4}. Best is trial 21 with value: 0.34682729008380675.\u001b[0m\n",
      "num_leaves, val_score: 0.346827:  75%|####################################7            | 15/20 [00:12<00:03,  1.37it/s]"
     ]
    },
    {
     "name": "stdout",
     "output_type": "stream",
     "text": [
      "[300]\ttrain's multi_logloss: 0.328368\teval's multi_logloss: 0.352869\n",
      "[400]\ttrain's multi_logloss: 0.313676\teval's multi_logloss: 0.348112\n",
      "Early stopping, best iteration is:\n",
      "[445]\ttrain's multi_logloss: 0.308114\teval's multi_logloss: 0.346827\n",
      "Training until validation scores don't improve for 10 rounds\n",
      "[100]\ttrain's multi_logloss: 0.344324\teval's multi_logloss: 0.397285\n",
      "[200]\ttrain's multi_logloss: 0.25489\teval's multi_logloss: 0.361084\n",
      "Early stopping, best iteration is:\n",
      "[240]\ttrain's multi_logloss: 0.228814\teval's multi_logloss: 0.359662\n"
     ]
    },
    {
     "name": "stderr",
     "output_type": "stream",
     "text": [
      "num_leaves, val_score: 0.346827:  80%|#######################################2         | 16/20 [00:13<00:03,  1.30it/s]\u001b[32m[I 2021-06-12 21:14:12,566]\u001b[0m Trial 22 finished with value: 0.3596617751498016 and parameters: {'num_leaves': 71}. Best is trial 21 with value: 0.34682729008380675.\u001b[0m\n",
      "num_leaves, val_score: 0.346827:  80%|#######################################2         | 16/20 [00:13<00:03,  1.30it/s]"
     ]
    },
    {
     "name": "stdout",
     "output_type": "stream",
     "text": [
      "Training until validation scores don't improve for 10 rounds\n",
      "[100]\ttrain's multi_logloss: 0.344324\teval's multi_logloss: 0.397285\n",
      "[200]\ttrain's multi_logloss: 0.25489\teval's multi_logloss: 0.361084\n",
      "Early stopping, best iteration is:\n",
      "[240]\ttrain's multi_logloss: 0.228814\teval's multi_logloss: 0.359662\n"
     ]
    },
    {
     "name": "stderr",
     "output_type": "stream",
     "text": [
      "num_leaves, val_score: 0.346827:  85%|#########################################6       | 17/20 [00:14<00:02,  1.17it/s]\u001b[32m[I 2021-06-12 21:14:13,617]\u001b[0m Trial 23 finished with value: 0.3596617751498016 and parameters: {'num_leaves': 109}. Best is trial 21 with value: 0.34682729008380675.\u001b[0m\n",
      "num_leaves, val_score: 0.346827:  85%|#########################################6       | 17/20 [00:14<00:02,  1.17it/s]"
     ]
    },
    {
     "name": "stdout",
     "output_type": "stream",
     "text": [
      "Training until validation scores don't improve for 10 rounds\n",
      "[100]\ttrain's multi_logloss: 0.401242\teval's multi_logloss: 0.408719\n",
      "[200]\ttrain's multi_logloss: 0.350572\teval's multi_logloss: 0.364831\n"
     ]
    },
    {
     "name": "stderr",
     "output_type": "stream",
     "text": [
      "num_leaves, val_score: 0.346827:  90%|############################################1    | 18/20 [00:15<00:01,  1.40it/s]\u001b[32m[I 2021-06-12 21:14:14,007]\u001b[0m Trial 24 finished with value: 0.34682729008380675 and parameters: {'num_leaves': 4}. Best is trial 21 with value: 0.34682729008380675.\u001b[0m\n",
      "num_leaves, val_score: 0.346827:  90%|############################################1    | 18/20 [00:15<00:01,  1.40it/s]"
     ]
    },
    {
     "name": "stdout",
     "output_type": "stream",
     "text": [
      "[300]\ttrain's multi_logloss: 0.328368\teval's multi_logloss: 0.352869\n",
      "[400]\ttrain's multi_logloss: 0.313676\teval's multi_logloss: 0.348112\n",
      "Early stopping, best iteration is:\n",
      "[445]\ttrain's multi_logloss: 0.308114\teval's multi_logloss: 0.346827\n",
      "Training until validation scores don't improve for 10 rounds\n",
      "[100]\ttrain's multi_logloss: 0.344324\teval's multi_logloss: 0.397285\n",
      "[200]\ttrain's multi_logloss: 0.25489\teval's multi_logloss: 0.361084\n",
      "Early stopping, best iteration is:\n",
      "[240]\ttrain's multi_logloss: 0.228814\teval's multi_logloss: 0.359662\n"
     ]
    },
    {
     "name": "stderr",
     "output_type": "stream",
     "text": [
      "num_leaves, val_score: 0.346827:  95%|##############################################5  | 19/20 [00:15<00:00,  1.29it/s]\u001b[32m[I 2021-06-12 21:14:14,911]\u001b[0m Trial 25 finished with value: 0.3596617751498016 and parameters: {'num_leaves': 47}. Best is trial 21 with value: 0.34682729008380675.\u001b[0m\n",
      "num_leaves, val_score: 0.346827:  95%|##############################################5  | 19/20 [00:15<00:00,  1.29it/s]"
     ]
    },
    {
     "name": "stdout",
     "output_type": "stream",
     "text": [
      "Training until validation scores don't improve for 10 rounds\n",
      "[100]\ttrain's multi_logloss: 0.460349\teval's multi_logloss: 0.45948\n",
      "[200]\ttrain's multi_logloss: 0.412296\teval's multi_logloss: 0.40929\n",
      "[300]\ttrain's multi_logloss: 0.389723\teval's multi_logloss: 0.387806\n",
      "[400]\ttrain's multi_logloss: 0.375701\teval's multi_logloss: 0.375928\n",
      "[500]\ttrain's multi_logloss: 0.366313\teval's multi_logloss: 0.367536\n",
      "[600]\ttrain's multi_logloss: 0.359647\teval's multi_logloss: 0.361361\n",
      "[700]\ttrain's multi_logloss: 0.354369\teval's multi_logloss: 0.357313\n"
     ]
    },
    {
     "name": "stderr",
     "output_type": "stream",
     "text": [
      "num_leaves, val_score: 0.346827: 100%|#################################################| 20/20 [00:16<00:00,  1.44it/s]\u001b[32m[I 2021-06-12 21:14:15,418]\u001b[0m Trial 26 finished with value: 0.35357223220252526 and parameters: {'num_leaves': 2}. Best is trial 21 with value: 0.34682729008380675.\u001b[0m\n",
      "num_leaves, val_score: 0.346827: 100%|#################################################| 20/20 [00:16<00:00,  1.22it/s]\n",
      "bagging, val_score: 0.346827:   0%|                                                             | 0/10 [00:00<?, ?it/s]"
     ]
    },
    {
     "name": "stdout",
     "output_type": "stream",
     "text": [
      "[800]\ttrain's multi_logloss: 0.350092\teval's multi_logloss: 0.353572\n",
      "Early stopping, best iteration is:\n",
      "[800]\ttrain's multi_logloss: 0.350092\teval's multi_logloss: 0.353572\n",
      "Training until validation scores don't improve for 10 rounds\n",
      "[100]\ttrain's multi_logloss: 0.402932\teval's multi_logloss: 0.409583\n"
     ]
    },
    {
     "name": "stderr",
     "output_type": "stream",
     "text": [
      "bagging, val_score: 0.346827:  10%|#####3                                               | 1/10 [00:00<00:02,  3.42it/s]\u001b[32m[I 2021-06-12 21:14:15,723]\u001b[0m Trial 27 finished with value: 0.350704561476414 and parameters: {'bagging_fraction': 0.7447744201958766, 'bagging_freq': 3}. Best is trial 27 with value: 0.350704561476414.\u001b[0m\n",
      "bagging, val_score: 0.346827:  10%|#####3                                               | 1/10 [00:00<00:02,  3.42it/s]"
     ]
    },
    {
     "name": "stdout",
     "output_type": "stream",
     "text": [
      "[200]\ttrain's multi_logloss: 0.351108\teval's multi_logloss: 0.364669\n",
      "[300]\ttrain's multi_logloss: 0.329218\teval's multi_logloss: 0.352081\n",
      "Early stopping, best iteration is:\n",
      "[327]\ttrain's multi_logloss: 0.324649\teval's multi_logloss: 0.350705\n",
      "Training until validation scores don't improve for 10 rounds\n",
      "[100]\ttrain's multi_logloss: 0.402717\teval's multi_logloss: 0.408433\n",
      "[200]\ttrain's multi_logloss: 0.351511\teval's multi_logloss: 0.36365\n",
      "[300]\ttrain's multi_logloss: 0.329465\teval's multi_logloss: 0.351268\n",
      "[400]\ttrain's multi_logloss: 0.31438\teval's multi_logloss: 0.346832\n"
     ]
    },
    {
     "name": "stderr",
     "output_type": "stream",
     "text": [
      "bagging, val_score: 0.346419:  20%|##########6                                          | 2/10 [00:00<00:02,  3.05it/s]\u001b[32m[I 2021-06-12 21:14:16,075]\u001b[0m Trial 28 finished with value: 0.3464186372276691 and parameters: {'bagging_fraction': 0.572644571052503, 'bagging_freq': 1}. Best is trial 28 with value: 0.3464186372276691.\u001b[0m\n",
      "bagging, val_score: 0.346419:  20%|##########6                                          | 2/10 [00:00<00:02,  3.05it/s]"
     ]
    },
    {
     "name": "stdout",
     "output_type": "stream",
     "text": [
      "Early stopping, best iteration is:\n",
      "[407]\ttrain's multi_logloss: 0.313329\teval's multi_logloss: 0.346419\n",
      "Training until validation scores don't improve for 10 rounds\n",
      "[100]\ttrain's multi_logloss: 0.402868\teval's multi_logloss: 0.412673\n"
     ]
    },
    {
     "name": "stderr",
     "output_type": "stream",
     "text": [
      "\r",
      "bagging, val_score: 0.346419:  20%|##########6                                          | 2/10 [00:00<00:02,  3.05it/s]"
     ]
    },
    {
     "name": "stdout",
     "output_type": "stream",
     "text": [
      "[200]\ttrain's multi_logloss: 0.351673\teval's multi_logloss: 0.367297\n",
      "[300]\ttrain's multi_logloss: 0.331013\teval's multi_logloss: 0.357649\n",
      "Early stopping, best iteration is:\n",
      "[368]\ttrain's multi_logloss: 0.321249\teval's multi_logloss: 0.355121\n"
     ]
    },
    {
     "name": "stderr",
     "output_type": "stream",
     "text": [
      "bagging, val_score: 0.346419:  30%|###############9                                     | 3/10 [00:00<00:02,  2.95it/s]\u001b[32m[I 2021-06-12 21:14:16,429]\u001b[0m Trial 29 finished with value: 0.35512071014768476 and parameters: {'bagging_fraction': 0.988519115218338, 'bagging_freq': 4}. Best is trial 28 with value: 0.3464186372276691.\u001b[0m\n",
      "bagging, val_score: 0.346419:  30%|###############9                                     | 3/10 [00:01<00:02,  2.95it/s]"
     ]
    },
    {
     "name": "stdout",
     "output_type": "stream",
     "text": [
      "Training until validation scores don't improve for 10 rounds\n",
      "[100]\ttrain's multi_logloss: 0.403057\teval's multi_logloss: 0.413012\n",
      "[200]\ttrain's multi_logloss: 0.35158\teval's multi_logloss: 0.367676\n"
     ]
    },
    {
     "name": "stderr",
     "output_type": "stream",
     "text": [
      "bagging, val_score: 0.346419:  40%|#####################2                               | 4/10 [00:01<00:02,  2.89it/s]\u001b[32m[I 2021-06-12 21:14:16,785]\u001b[0m Trial 30 finished with value: 0.3534940440006056 and parameters: {'bagging_fraction': 0.9665846686297246, 'bagging_freq': 7}. Best is trial 28 with value: 0.3464186372276691.\u001b[0m\n",
      "bagging, val_score: 0.346419:  40%|#####################2                               | 4/10 [00:01<00:02,  2.89it/s]"
     ]
    },
    {
     "name": "stdout",
     "output_type": "stream",
     "text": [
      "[300]\ttrain's multi_logloss: 0.329884\teval's multi_logloss: 0.356268\n",
      "Early stopping, best iteration is:\n",
      "[381]\ttrain's multi_logloss: 0.318294\teval's multi_logloss: 0.353494\n",
      "Training until validation scores don't improve for 10 rounds\n",
      "[100]\ttrain's multi_logloss: 0.402293\teval's multi_logloss: 0.410169\n"
     ]
    },
    {
     "name": "stderr",
     "output_type": "stream",
     "text": [
      "bagging, val_score: 0.346419:  50%|##########################5                          | 5/10 [00:01<00:01,  3.12it/s]\u001b[32m[I 2021-06-12 21:14:17,061]\u001b[0m Trial 31 finished with value: 0.3552179813138014 and parameters: {'bagging_fraction': 0.8067808595291506, 'bagging_freq': 3}. Best is trial 28 with value: 0.3464186372276691.\u001b[0m\n",
      "bagging, val_score: 0.346419:  50%|##########################5                          | 5/10 [00:01<00:01,  3.12it/s]"
     ]
    },
    {
     "name": "stdout",
     "output_type": "stream",
     "text": [
      "[200]\ttrain's multi_logloss: 0.350657\teval's multi_logloss: 0.365595\n",
      "Early stopping, best iteration is:\n",
      "[267]\ttrain's multi_logloss: 0.334488\teval's multi_logloss: 0.355218\n",
      "Training until validation scores don't improve for 10 rounds\n",
      "[100]\ttrain's multi_logloss: 0.402029\teval's multi_logloss: 0.407647\n"
     ]
    },
    {
     "name": "stderr",
     "output_type": "stream",
     "text": [
      "bagging, val_score: 0.346419:  60%|###############################8                     | 6/10 [00:01<00:01,  3.13it/s]\u001b[32m[I 2021-06-12 21:14:17,377]\u001b[0m Trial 32 finished with value: 0.3509314281871461 and parameters: {'bagging_fraction': 0.7202908087222957, 'bagging_freq': 4}. Best is trial 28 with value: 0.3464186372276691.\u001b[0m\n",
      "bagging, val_score: 0.346419:  60%|###############################8                     | 6/10 [00:01<00:01,  3.13it/s]"
     ]
    },
    {
     "name": "stdout",
     "output_type": "stream",
     "text": [
      "[200]\ttrain's multi_logloss: 0.350577\teval's multi_logloss: 0.363502\n",
      "[300]\ttrain's multi_logloss: 0.329349\teval's multi_logloss: 0.35312\n",
      "Early stopping, best iteration is:\n",
      "[325]\ttrain's multi_logloss: 0.325304\teval's multi_logloss: 0.350931\n",
      "Training until validation scores don't improve for 10 rounds\n"
     ]
    },
    {
     "name": "stderr",
     "output_type": "stream",
     "text": [
      "\r",
      "bagging, val_score: 0.346419:  60%|###############################8                     | 6/10 [00:02<00:01,  3.13it/s]"
     ]
    },
    {
     "name": "stdout",
     "output_type": "stream",
     "text": [
      "[100]\ttrain's multi_logloss: 0.400876\teval's multi_logloss: 0.407118\n",
      "[200]\ttrain's multi_logloss: 0.349591\teval's multi_logloss: 0.363692\n",
      "[300]\ttrain's multi_logloss: 0.328585\teval's multi_logloss: 0.351081\n",
      "Early stopping, best iteration is:\n",
      "[310]\ttrain's multi_logloss: 0.326764\teval's multi_logloss: 0.351059\n"
     ]
    },
    {
     "name": "stderr",
     "output_type": "stream",
     "text": [
      "bagging, val_score: 0.346419:  70%|#####################################                | 7/10 [00:02<00:00,  3.24it/s]\u001b[32m[I 2021-06-12 21:14:17,665]\u001b[0m Trial 33 finished with value: 0.35105905970337054 and parameters: {'bagging_fraction': 0.7751113711085128, 'bagging_freq': 5}. Best is trial 28 with value: 0.3464186372276691.\u001b[0m\n",
      "bagging, val_score: 0.346419:  70%|#####################################                | 7/10 [00:02<00:00,  3.24it/s]"
     ]
    },
    {
     "name": "stdout",
     "output_type": "stream",
     "text": [
      "Training until validation scores don't improve for 10 rounds\n",
      "[100]\ttrain's multi_logloss: 0.40263\teval's multi_logloss: 0.41075\n",
      "[200]\ttrain's multi_logloss: 0.351091\teval's multi_logloss: 0.365703\n"
     ]
    },
    {
     "name": "stderr",
     "output_type": "stream",
     "text": [
      "bagging, val_score: 0.346419:  80%|##########################################4          | 8/10 [00:02<00:00,  3.15it/s]\u001b[32m[I 2021-06-12 21:14:18,002]\u001b[0m Trial 34 finished with value: 0.35178542313058775 and parameters: {'bagging_fraction': 0.8795019592214295, 'bagging_freq': 1}. Best is trial 28 with value: 0.3464186372276691.\u001b[0m\n",
      "bagging, val_score: 0.346419:  80%|##########################################4          | 8/10 [00:02<00:00,  3.15it/s]"
     ]
    },
    {
     "name": "stdout",
     "output_type": "stream",
     "text": [
      "[300]\ttrain's multi_logloss: 0.329467\teval's multi_logloss: 0.35445\n",
      "[400]\ttrain's multi_logloss: 0.3144\teval's multi_logloss: 0.351859\n",
      "Early stopping, best iteration is:\n",
      "[390]\ttrain's multi_logloss: 0.315813\teval's multi_logloss: 0.351785\n",
      "Training until validation scores don't improve for 10 rounds\n",
      "[100]\ttrain's multi_logloss: 0.403089\teval's multi_logloss: 0.408122\n"
     ]
    },
    {
     "name": "stderr",
     "output_type": "stream",
     "text": [
      "bagging, val_score: 0.346419:  90%|###############################################7     | 9/10 [00:02<00:00,  3.19it/s]\u001b[32m[I 2021-06-12 21:14:18,306]\u001b[0m Trial 35 finished with value: 0.350235741759441 and parameters: {'bagging_fraction': 0.49851526240687305, 'bagging_freq': 5}. Best is trial 28 with value: 0.3464186372276691.\u001b[0m\n",
      "bagging, val_score: 0.346419:  90%|###############################################7     | 9/10 [00:02<00:00,  3.19it/s]"
     ]
    },
    {
     "name": "stdout",
     "output_type": "stream",
     "text": [
      "[200]\ttrain's multi_logloss: 0.352542\teval's multi_logloss: 0.36623\n",
      "[300]\ttrain's multi_logloss: 0.3308\teval's multi_logloss: 0.352979\n",
      "Early stopping, best iteration is:\n",
      "[355]\ttrain's multi_logloss: 0.3215\teval's multi_logloss: 0.350236\n",
      "Training until validation scores don't improve for 10 rounds\n"
     ]
    },
    {
     "name": "stderr",
     "output_type": "stream",
     "text": [
      "\r",
      "bagging, val_score: 0.346419:  90%|###############################################7     | 9/10 [00:03<00:00,  3.19it/s]"
     ]
    },
    {
     "name": "stdout",
     "output_type": "stream",
     "text": [
      "[100]\ttrain's multi_logloss: 0.402326\teval's multi_logloss: 0.408862\n",
      "[200]\ttrain's multi_logloss: 0.351011\teval's multi_logloss: 0.365702\n",
      "[300]\ttrain's multi_logloss: 0.328841\teval's multi_logloss: 0.35316\n",
      "Early stopping, best iteration is:\n",
      "[331]\ttrain's multi_logloss: 0.324086\teval's multi_logloss: 0.351462\n"
     ]
    },
    {
     "name": "stderr",
     "output_type": "stream",
     "text": [
      "bagging, val_score: 0.346419: 100%|####################################################| 10/10 [00:03<00:00,  3.26it/s]\u001b[32m[I 2021-06-12 21:14:18,596]\u001b[0m Trial 36 finished with value: 0.35146167400900713 and parameters: {'bagging_fraction': 0.6417293121306344, 'bagging_freq': 6}. Best is trial 28 with value: 0.3464186372276691.\u001b[0m\n",
      "bagging, val_score: 0.346419: 100%|####################################################| 10/10 [00:03<00:00,  3.15it/s]\n",
      "feature_fraction_stage2, val_score: 0.346419:   0%|                                              | 0/6 [00:00<?, ?it/s]"
     ]
    },
    {
     "name": "stdout",
     "output_type": "stream",
     "text": [
      "Training until validation scores don't improve for 10 rounds\n",
      "[100]\ttrain's multi_logloss: 0.397479\teval's multi_logloss: 0.403611\n",
      "[200]\ttrain's multi_logloss: 0.348762\teval's multi_logloss: 0.362826\n",
      "[300]\ttrain's multi_logloss: 0.327305\teval's multi_logloss: 0.351948\n"
     ]
    },
    {
     "name": "stderr",
     "output_type": "stream",
     "text": [
      "feature_fraction_stage2, val_score: 0.346419:  17%|######3                               | 1/6 [00:00<00:01,  3.12it/s]\u001b[32m[I 2021-06-12 21:14:18,927]\u001b[0m Trial 37 finished with value: 0.3484309077791029 and parameters: {'feature_fraction': 0.948}. Best is trial 37 with value: 0.3484309077791029.\u001b[0m\n",
      "feature_fraction_stage2, val_score: 0.346419:  17%|######3                               | 1/6 [00:00<00:01,  3.12it/s]"
     ]
    },
    {
     "name": "stdout",
     "output_type": "stream",
     "text": [
      "Early stopping, best iteration is:\n",
      "[368]\ttrain's multi_logloss: 0.316883\teval's multi_logloss: 0.348431\n",
      "Training until validation scores don't improve for 10 rounds\n",
      "[100]\ttrain's multi_logloss: 0.397479\teval's multi_logloss: 0.403611\n",
      "[200]\ttrain's multi_logloss: 0.348762\teval's multi_logloss: 0.362826\n"
     ]
    },
    {
     "name": "stderr",
     "output_type": "stream",
     "text": [
      "feature_fraction_stage2, val_score: 0.346419:  33%|############6                         | 2/6 [00:00<00:01,  3.11it/s]\u001b[32m[I 2021-06-12 21:14:19,250]\u001b[0m Trial 38 finished with value: 0.3484309077791029 and parameters: {'feature_fraction': 0.9799999999999999}. Best is trial 37 with value: 0.3484309077791029.\u001b[0m\n",
      "feature_fraction_stage2, val_score: 0.346419:  33%|############6                         | 2/6 [00:00<00:01,  3.11it/s]"
     ]
    },
    {
     "name": "stdout",
     "output_type": "stream",
     "text": [
      "[300]\ttrain's multi_logloss: 0.327305\teval's multi_logloss: 0.351948\n",
      "Early stopping, best iteration is:\n",
      "[368]\ttrain's multi_logloss: 0.316883\teval's multi_logloss: 0.348431\n",
      "Training until validation scores don't improve for 10 rounds\n",
      "[100]\ttrain's multi_logloss: 0.402717\teval's multi_logloss: 0.408433\n",
      "[200]\ttrain's multi_logloss: 0.351511\teval's multi_logloss: 0.36365\n",
      "[300]\ttrain's multi_logloss: 0.329465\teval's multi_logloss: 0.351268\n",
      "[400]\ttrain's multi_logloss: 0.31438\teval's multi_logloss: 0.346832\n",
      "Early stopping, best iteration is:\n",
      "[407]\ttrain's multi_logloss: 0.313329\teval's multi_logloss: 0.346419\n"
     ]
    },
    {
     "name": "stderr",
     "output_type": "stream",
     "text": [
      "feature_fraction_stage2, val_score: 0.346419:  50%|###################                   | 3/6 [00:01<00:01,  2.92it/s]\u001b[32m[I 2021-06-12 21:14:19,619]\u001b[0m Trial 39 finished with value: 0.3464186372276691 and parameters: {'feature_fraction': 0.852}. Best is trial 39 with value: 0.3464186372276691.\u001b[0m\n",
      "feature_fraction_stage2, val_score: 0.346419:  50%|###################                   | 3/6 [00:01<00:01,  2.92it/s]"
     ]
    },
    {
     "name": "stdout",
     "output_type": "stream",
     "text": [
      "Training until validation scores don't improve for 10 rounds\n",
      "[100]\ttrain's multi_logloss: 0.402717\teval's multi_logloss: 0.408433\n",
      "[200]\ttrain's multi_logloss: 0.351511\teval's multi_logloss: 0.36365\n",
      "[300]\ttrain's multi_logloss: 0.329465\teval's multi_logloss: 0.351268\n"
     ]
    },
    {
     "name": "stderr",
     "output_type": "stream",
     "text": [
      "feature_fraction_stage2, val_score: 0.346419:  67%|#########################3            | 4/6 [00:01<00:00,  2.88it/s]\u001b[32m[I 2021-06-12 21:14:19,971]\u001b[0m Trial 40 finished with value: 0.3464186372276691 and parameters: {'feature_fraction': 0.9159999999999999}. Best is trial 39 with value: 0.3464186372276691.\u001b[0m\n",
      "feature_fraction_stage2, val_score: 0.346419:  67%|#########################3            | 4/6 [00:01<00:00,  2.88it/s]"
     ]
    },
    {
     "name": "stdout",
     "output_type": "stream",
     "text": [
      "[400]\ttrain's multi_logloss: 0.31438\teval's multi_logloss: 0.346832\n",
      "Early stopping, best iteration is:\n",
      "[407]\ttrain's multi_logloss: 0.313329\teval's multi_logloss: 0.346419\n",
      "Training until validation scores don't improve for 10 rounds\n",
      "[100]\ttrain's multi_logloss: 0.402717\teval's multi_logloss: 0.408433\n"
     ]
    },
    {
     "name": "stderr",
     "output_type": "stream",
     "text": [
      "\r",
      "feature_fraction_stage2, val_score: 0.346419:  67%|#########################3            | 4/6 [00:01<00:00,  2.88it/s]"
     ]
    },
    {
     "name": "stdout",
     "output_type": "stream",
     "text": [
      "[200]\ttrain's multi_logloss: 0.351511\teval's multi_logloss: 0.36365\n",
      "[300]\ttrain's multi_logloss: 0.329465\teval's multi_logloss: 0.351268\n",
      "[400]\ttrain's multi_logloss: 0.31438\teval's multi_logloss: 0.346832\n",
      "Early stopping, best iteration is:\n",
      "[407]\ttrain's multi_logloss: 0.313329\teval's multi_logloss: 0.346419\n"
     ]
    },
    {
     "name": "stderr",
     "output_type": "stream",
     "text": [
      "feature_fraction_stage2, val_score: 0.346419:  83%|###############################6      | 5/6 [00:01<00:00,  2.85it/s]\u001b[32m[I 2021-06-12 21:14:20,330]\u001b[0m Trial 41 finished with value: 0.3464186372276691 and parameters: {'feature_fraction': 0.8839999999999999}. Best is trial 39 with value: 0.3464186372276691.\u001b[0m\n",
      "feature_fraction_stage2, val_score: 0.346419:  83%|###############################6      | 5/6 [00:01<00:00,  2.85it/s]"
     ]
    },
    {
     "name": "stdout",
     "output_type": "stream",
     "text": [
      "Training until validation scores don't improve for 10 rounds\n",
      "[100]\ttrain's multi_logloss: 0.410073\teval's multi_logloss: 0.415826\n",
      "[200]\ttrain's multi_logloss: 0.355389\teval's multi_logloss: 0.367302\n"
     ]
    },
    {
     "name": "stderr",
     "output_type": "stream",
     "text": [
      "feature_fraction_stage2, val_score: 0.345922: 100%|######################################| 6/6 [00:02<00:00,  2.77it/s]\u001b[32m[I 2021-06-12 21:14:20,708]\u001b[0m Trial 42 finished with value: 0.3459216442151215 and parameters: {'feature_fraction': 0.82}. Best is trial 42 with value: 0.3459216442151215.\u001b[0m\n",
      "feature_fraction_stage2, val_score: 0.345922: 100%|######################################| 6/6 [00:02<00:00,  2.85it/s]\n",
      "regularization_factors, val_score: 0.345922:   0%|                                              | 0/20 [00:00<?, ?it/s]"
     ]
    },
    {
     "name": "stdout",
     "output_type": "stream",
     "text": [
      "[300]\ttrain's multi_logloss: 0.33167\teval's multi_logloss: 0.352243\n",
      "[400]\ttrain's multi_logloss: 0.316101\teval's multi_logloss: 0.346255\n",
      "Early stopping, best iteration is:\n",
      "[407]\ttrain's multi_logloss: 0.315228\teval's multi_logloss: 0.345922\n",
      "Training until validation scores don't improve for 10 rounds\n",
      "[100]\ttrain's multi_logloss: 0.410896\teval's multi_logloss: 0.416732\n",
      "[200]\ttrain's multi_logloss: 0.356175\teval's multi_logloss: 0.367944\n",
      "[300]\ttrain's multi_logloss: 0.332697\teval's multi_logloss: 0.352378\n"
     ]
    },
    {
     "name": "stderr",
     "output_type": "stream",
     "text": [
      "regularization_factors, val_score: 0.345389:   5%|#9                                    | 1/20 [00:00<00:08,  2.18it/s]\u001b[32m[I 2021-06-12 21:14:21,176]\u001b[0m Trial 43 finished with value: 0.3453893213135726 and parameters: {'lambda_l1': 0.0002705894285559494, 'lambda_l2': 0.16420629871433118}. Best is trial 43 with value: 0.3453893213135726.\u001b[0m\n",
      "regularization_factors, val_score: 0.345389:   5%|#9                                    | 1/20 [00:00<00:08,  2.18it/s]"
     ]
    },
    {
     "name": "stdout",
     "output_type": "stream",
     "text": [
      "[400]\ttrain's multi_logloss: 0.31735\teval's multi_logloss: 0.346596\n",
      "Early stopping, best iteration is:\n",
      "[442]\ttrain's multi_logloss: 0.312305\teval's multi_logloss: 0.345389\n",
      "Training until validation scores don't improve for 10 rounds\n",
      "[100]\ttrain's multi_logloss: 0.410092\teval's multi_logloss: 0.415883\n",
      "[200]\ttrain's multi_logloss: 0.355421\teval's multi_logloss: 0.367271\n",
      "[300]\ttrain's multi_logloss: 0.33173\teval's multi_logloss: 0.35215\n"
     ]
    },
    {
     "name": "stderr",
     "output_type": "stream",
     "text": [
      "regularization_factors, val_score: 0.345389:  10%|###8                                  | 2/20 [00:00<00:07,  2.36it/s]\u001b[32m[I 2021-06-12 21:14:21,578]\u001b[0m Trial 44 finished with value: 0.34604839244303826 and parameters: {'lambda_l1': 0.0033876863644313002, 'lambda_l2': 4.574131988180354e-06}. Best is trial 43 with value: 0.3453893213135726.\u001b[0m\n",
      "regularization_factors, val_score: 0.345389:  10%|###8                                  | 2/20 [00:00<00:07,  2.36it/s]"
     ]
    },
    {
     "name": "stdout",
     "output_type": "stream",
     "text": [
      "[400]\ttrain's multi_logloss: 0.316106\teval's multi_logloss: 0.346281\n",
      "Early stopping, best iteration is:\n",
      "[407]\ttrain's multi_logloss: 0.31522\teval's multi_logloss: 0.346048\n",
      "Training until validation scores don't improve for 10 rounds\n",
      "[100]\ttrain's multi_logloss: 0.412206\teval's multi_logloss: 0.417871\n",
      "[200]\ttrain's multi_logloss: 0.357879\teval's multi_logloss: 0.369164\n",
      "[300]\ttrain's multi_logloss: 0.334906\teval's multi_logloss: 0.353208\n",
      "[400]\ttrain's multi_logloss: 0.319895\teval's multi_logloss: 0.347044\n",
      "Early stopping, best iteration is:\n",
      "[442]\ttrain's multi_logloss: 0.314918\teval's multi_logloss: 0.345715\n"
     ]
    },
    {
     "name": "stderr",
     "output_type": "stream",
     "text": [
      "regularization_factors, val_score: 0.345389:  15%|#####7                                | 3/20 [00:01<00:07,  2.41it/s]\u001b[32m[I 2021-06-12 21:14:21,982]\u001b[0m Trial 45 finished with value: 0.3457147164701764 and parameters: {'lambda_l1': 0.3608199571058443, 'lambda_l2': 0.00614560701644419}. Best is trial 43 with value: 0.3453893213135726.\u001b[0m\n",
      "regularization_factors, val_score: 0.345389:  15%|#####7                                | 3/20 [00:01<00:07,  2.41it/s]"
     ]
    },
    {
     "name": "stdout",
     "output_type": "stream",
     "text": [
      "Training until validation scores don't improve for 10 rounds\n",
      "[100]\ttrain's multi_logloss: 0.430003\teval's multi_logloss: 0.434458\n",
      "[200]\ttrain's multi_logloss: 0.372696\teval's multi_logloss: 0.380482\n",
      "[300]\ttrain's multi_logloss: 0.348774\teval's multi_logloss: 0.360632\n"
     ]
    },
    {
     "name": "stderr",
     "output_type": "stream",
     "text": [
      "\r",
      "regularization_factors, val_score: 0.345389:  15%|#####7                                | 3/20 [00:01<00:07,  2.41it/s]"
     ]
    },
    {
     "name": "stdout",
     "output_type": "stream",
     "text": [
      "[400]\ttrain's multi_logloss: 0.335055\teval's multi_logloss: 0.352413\n",
      "[500]\ttrain's multi_logloss: 0.325239\teval's multi_logloss: 0.348498\n",
      "Early stopping, best iteration is:\n",
      "[586]\ttrain's multi_logloss: 0.318547\teval's multi_logloss: 0.346333\n"
     ]
    },
    {
     "name": "stderr",
     "output_type": "stream",
     "text": [
      "regularization_factors, val_score: 0.345389:  20%|#######6                              | 4/20 [00:01<00:07,  2.20it/s]\u001b[32m[I 2021-06-12 21:14:22,499]\u001b[0m Trial 46 finished with value: 0.34633286999629237 and parameters: {'lambda_l1': 0.15801526083550668, 'lambda_l2': 4.7134439724540185}. Best is trial 43 with value: 0.3453893213135726.\u001b[0m\n",
      "regularization_factors, val_score: 0.345389:  20%|#######6                              | 4/20 [00:01<00:07,  2.20it/s]"
     ]
    },
    {
     "name": "stdout",
     "output_type": "stream",
     "text": [
      "Training until validation scores don't improve for 10 rounds\n",
      "[100]\ttrain's multi_logloss: 0.410085\teval's multi_logloss: 0.415878\n",
      "[200]\ttrain's multi_logloss: 0.35541\teval's multi_logloss: 0.367264\n"
     ]
    },
    {
     "name": "stderr",
     "output_type": "stream",
     "text": [
      "regularization_factors, val_score: 0.345389:  25%|#########5                            | 5/20 [00:02<00:06,  2.27it/s]\u001b[32m[I 2021-06-12 21:14:22,913]\u001b[0m Trial 47 finished with value: 0.34600901288694297 and parameters: {'lambda_l1': 1.1175381587957228e-08, 'lambda_l2': 0.0020937581010267822}. Best is trial 43 with value: 0.3453893213135726.\u001b[0m\n",
      "regularization_factors, val_score: 0.345389:  25%|#########5                            | 5/20 [00:02<00:06,  2.27it/s]"
     ]
    },
    {
     "name": "stdout",
     "output_type": "stream",
     "text": [
      "[300]\ttrain's multi_logloss: 0.331747\teval's multi_logloss: 0.352182\n",
      "[400]\ttrain's multi_logloss: 0.31617\teval's multi_logloss: 0.346407\n",
      "Early stopping, best iteration is:\n",
      "[407]\ttrain's multi_logloss: 0.315304\teval's multi_logloss: 0.346009\n",
      "Training until validation scores don't improve for 10 rounds\n",
      "[100]\ttrain's multi_logloss: 0.449422\teval's multi_logloss: 0.452235\n",
      "[200]\ttrain's multi_logloss: 0.402592\teval's multi_logloss: 0.405046\n",
      "[300]\ttrain's multi_logloss: 0.385035\teval's multi_logloss: 0.387304\n",
      "[400]\ttrain's multi_logloss: 0.377164\teval's multi_logloss: 0.379515\n",
      "[500]\ttrain's multi_logloss: 0.37259\teval's multi_logloss: 0.375206\n",
      "[600]\ttrain's multi_logloss: 0.369295\teval's multi_logloss: 0.372328\n",
      "[700]\ttrain's multi_logloss: 0.367367\teval's multi_logloss: 0.370459\n",
      "[800]\ttrain's multi_logloss: 0.365436\teval's multi_logloss: 0.368749\n",
      "[900]\ttrain's multi_logloss: 0.363872\teval's multi_logloss: 0.367607\n"
     ]
    },
    {
     "name": "stderr",
     "output_type": "stream",
     "text": [
      "regularization_factors, val_score: 0.345389:  30%|###########4                          | 6/20 [00:02<00:07,  1.85it/s]\u001b[32m[I 2021-06-12 21:14:23,651]\u001b[0m Trial 48 finished with value: 0.36669960015789443 and parameters: {'lambda_l1': 8.616829373818085, 'lambda_l2': 1.984710597547657e-07}. Best is trial 43 with value: 0.3453893213135726.\u001b[0m\n",
      "regularization_factors, val_score: 0.345389:  30%|###########4                          | 6/20 [00:02<00:07,  1.85it/s]"
     ]
    },
    {
     "name": "stdout",
     "output_type": "stream",
     "text": [
      "[1000]\ttrain's multi_logloss: 0.362745\teval's multi_logloss: 0.3667\n",
      "Did not meet early stopping. Best iteration is:\n",
      "[1000]\ttrain's multi_logloss: 0.362745\teval's multi_logloss: 0.3667\n",
      "Training until validation scores don't improve for 10 rounds\n",
      "[100]\ttrain's multi_logloss: 0.410642\teval's multi_logloss: 0.416425\n",
      "[200]\ttrain's multi_logloss: 0.356025\teval's multi_logloss: 0.367812\n",
      "[300]\ttrain's multi_logloss: 0.332551\teval's multi_logloss: 0.352361\n"
     ]
    },
    {
     "name": "stderr",
     "output_type": "stream",
     "text": [
      "regularization_factors, val_score: 0.345117:  35%|#############3                        | 7/20 [00:03<00:06,  2.03it/s]\u001b[32m[I 2021-06-12 21:14:24,044]\u001b[0m Trial 49 finished with value: 0.34511697725007356 and parameters: {'lambda_l1': 0.06255019582278269, 'lambda_l2': 0.05510575239910321}. Best is trial 49 with value: 0.34511697725007356.\u001b[0m\n",
      "regularization_factors, val_score: 0.345117:  35%|#############3                        | 7/20 [00:03<00:06,  2.03it/s]"
     ]
    },
    {
     "name": "stdout",
     "output_type": "stream",
     "text": [
      "[400]\ttrain's multi_logloss: 0.31721\teval's multi_logloss: 0.346393\n",
      "Early stopping, best iteration is:\n",
      "[442]\ttrain's multi_logloss: 0.312114\teval's multi_logloss: 0.345117\n",
      "Training until validation scores don't improve for 10 rounds\n",
      "[100]\ttrain's multi_logloss: 0.410073\teval's multi_logloss: 0.415827\n",
      "[200]\ttrain's multi_logloss: 0.355389\teval's multi_logloss: 0.367302\n",
      "[300]\ttrain's multi_logloss: 0.33167\teval's multi_logloss: 0.352243\n",
      "[400]\ttrain's multi_logloss: 0.316101\teval's multi_logloss: 0.346255\n",
      "Early stopping, best iteration is:\n",
      "[407]\ttrain's multi_logloss: 0.315228\teval's multi_logloss: 0.345922\n"
     ]
    },
    {
     "name": "stderr",
     "output_type": "stream",
     "text": [
      "regularization_factors, val_score: 0.345117:  40%|###############2                      | 8/20 [00:03<00:05,  2.20it/s]\u001b[32m[I 2021-06-12 21:14:24,413]\u001b[0m Trial 50 finished with value: 0.3459216511906853 and parameters: {'lambda_l1': 3.862052190461796e-08, 'lambda_l2': 4.822617108960051e-06}. Best is trial 49 with value: 0.34511697725007356.\u001b[0m\n",
      "regularization_factors, val_score: 0.345117:  40%|###############2                      | 8/20 [00:03<00:05,  2.20it/s]"
     ]
    },
    {
     "name": "stdout",
     "output_type": "stream",
     "text": [
      "Training until validation scores don't improve for 10 rounds\n",
      "[100]\ttrain's multi_logloss: 0.410082\teval's multi_logloss: 0.415875\n",
      "[200]\ttrain's multi_logloss: 0.35541\teval's multi_logloss: 0.367394\n"
     ]
    },
    {
     "name": "stderr",
     "output_type": "stream",
     "text": [
      "regularization_factors, val_score: 0.345117:  45%|#################1                    | 9/20 [00:04<00:04,  2.34it/s]\u001b[32m[I 2021-06-12 21:14:24,782]\u001b[0m Trial 51 finished with value: 0.3459619966693897 and parameters: {'lambda_l1': 0.0012701449888961372, 'lambda_l2': 0.0002368567707189549}. Best is trial 49 with value: 0.34511697725007356.\u001b[0m\n",
      "regularization_factors, val_score: 0.345117:  45%|#################1                    | 9/20 [00:04<00:04,  2.34it/s]"
     ]
    },
    {
     "name": "stdout",
     "output_type": "stream",
     "text": [
      "[300]\ttrain's multi_logloss: 0.331694\teval's multi_logloss: 0.352249\n",
      "[400]\ttrain's multi_logloss: 0.316096\teval's multi_logloss: 0.346355\n",
      "Early stopping, best iteration is:\n",
      "[407]\ttrain's multi_logloss: 0.315231\teval's multi_logloss: 0.345962\n",
      "Training until validation scores don't improve for 10 rounds\n",
      "[100]\ttrain's multi_logloss: 0.410131\teval's multi_logloss: 0.41592\n",
      "[200]\ttrain's multi_logloss: 0.355521\teval's multi_logloss: 0.367172\n",
      "[300]\ttrain's multi_logloss: 0.331993\teval's multi_logloss: 0.352118\n"
     ]
    },
    {
     "name": "stderr",
     "output_type": "stream",
     "text": [
      "regularization_factors, val_score: 0.345117:  50%|##################5                  | 10/20 [00:04<00:04,  2.28it/s]\u001b[32m[I 2021-06-12 21:14:25,246]\u001b[0m Trial 52 finished with value: 0.3460708480382848 and parameters: {'lambda_l1': 0.011947531407354774, 'lambda_l2': 9.417012146246995e-05}. Best is trial 49 with value: 0.34511697725007356.\u001b[0m\n",
      "regularization_factors, val_score: 0.345117:  50%|##################5                  | 10/20 [00:04<00:04,  2.28it/s]"
     ]
    },
    {
     "name": "stdout",
     "output_type": "stream",
     "text": [
      "[400]\ttrain's multi_logloss: 0.316448\teval's multi_logloss: 0.346306\n",
      "Early stopping, best iteration is:\n",
      "[407]\ttrain's multi_logloss: 0.315579\teval's multi_logloss: 0.346071\n",
      "Training until validation scores don't improve for 10 rounds\n",
      "[100]\ttrain's multi_logloss: 0.427355\teval's multi_logloss: 0.43222\n",
      "[200]\ttrain's multi_logloss: 0.370228\teval's multi_logloss: 0.378708\n",
      "[300]\ttrain's multi_logloss: 0.346641\teval's multi_logloss: 0.359485\n",
      "[400]\ttrain's multi_logloss: 0.332707\teval's multi_logloss: 0.351886\n"
     ]
    },
    {
     "name": "stderr",
     "output_type": "stream",
     "text": [
      "regularization_factors, val_score: 0.345117:  55%|####################3                | 11/20 [00:05<00:04,  1.97it/s]\u001b[32m[I 2021-06-12 21:14:25,913]\u001b[0m Trial 53 finished with value: 0.3462090078280717 and parameters: {'lambda_l1': 5.213675540240745e-06, 'lambda_l2': 4.135666991713084}. Best is trial 49 with value: 0.34511697725007356.\u001b[0m\n",
      "regularization_factors, val_score: 0.345117:  55%|####################3                | 11/20 [00:05<00:04,  1.97it/s]"
     ]
    },
    {
     "name": "stdout",
     "output_type": "stream",
     "text": [
      "[500]\ttrain's multi_logloss: 0.322645\teval's multi_logloss: 0.348058\n",
      "Early stopping, best iteration is:\n",
      "[578]\ttrain's multi_logloss: 0.316286\teval's multi_logloss: 0.346209\n",
      "Training until validation scores don't improve for 10 rounds\n",
      "[100]\ttrain's multi_logloss: 0.412333\teval's multi_logloss: 0.418189\n",
      "[200]\ttrain's multi_logloss: 0.357439\teval's multi_logloss: 0.368767\n",
      "[300]\ttrain's multi_logloss: 0.334227\teval's multi_logloss: 0.352923\n"
     ]
    },
    {
     "name": "stderr",
     "output_type": "stream",
     "text": [
      "regularization_factors, val_score: 0.345117:  60%|######################2              | 12/20 [00:05<00:03,  2.09it/s]\u001b[32m[I 2021-06-12 21:14:26,325]\u001b[0m Trial 54 finished with value: 0.34532166592952357 and parameters: {'lambda_l1': 1.6959133213009168e-05, 'lambda_l2': 0.4435757744796576}. Best is trial 49 with value: 0.34511697725007356.\u001b[0m\n",
      "regularization_factors, val_score: 0.345117:  60%|######################2              | 12/20 [00:05<00:03,  2.09it/s]"
     ]
    },
    {
     "name": "stdout",
     "output_type": "stream",
     "text": [
      "[400]\ttrain's multi_logloss: 0.319001\teval's multi_logloss: 0.346599\n",
      "Early stopping, best iteration is:\n",
      "[442]\ttrain's multi_logloss: 0.313912\teval's multi_logloss: 0.345322\n",
      "Training until validation scores don't improve for 10 rounds\n",
      "[100]\ttrain's multi_logloss: 0.410731\teval's multi_logloss: 0.416543\n"
     ]
    },
    {
     "name": "stderr",
     "output_type": "stream",
     "text": [
      "\r",
      "regularization_factors, val_score: 0.345117:  60%|######################2              | 12/20 [00:05<00:03,  2.09it/s]"
     ]
    },
    {
     "name": "stdout",
     "output_type": "stream",
     "text": [
      "[200]\ttrain's multi_logloss: 0.355991\teval's multi_logloss: 0.367751\n",
      "[300]\ttrain's multi_logloss: 0.332396\teval's multi_logloss: 0.352174\n",
      "[400]\ttrain's multi_logloss: 0.317072\teval's multi_logloss: 0.34622\n",
      "Early stopping, best iteration is:\n",
      "[407]\ttrain's multi_logloss: 0.316175\teval's multi_logloss: 0.345914\n"
     ]
    },
    {
     "name": "stderr",
     "output_type": "stream",
     "text": [
      "regularization_factors, val_score: 0.345117:  65%|########################             | 13/20 [00:05<00:03,  2.21it/s]\u001b[32m[I 2021-06-12 21:14:26,715]\u001b[0m Trial 55 finished with value: 0.3459144831174043 and parameters: {'lambda_l1': 3.3287732672502393e-06, 'lambda_l2': 0.13018180240272123}. Best is trial 49 with value: 0.34511697725007356.\u001b[0m\n",
      "regularization_factors, val_score: 0.345117:  65%|########################             | 13/20 [00:06<00:03,  2.21it/s]"
     ]
    },
    {
     "name": "stdout",
     "output_type": "stream",
     "text": [
      "Training until validation scores don't improve for 10 rounds\n",
      "[100]\ttrain's multi_logloss: 0.410677\teval's multi_logloss: 0.416433\n",
      "[200]\ttrain's multi_logloss: 0.355929\teval's multi_logloss: 0.367646\n"
     ]
    },
    {
     "name": "stderr",
     "output_type": "stream",
     "text": [
      "regularization_factors, val_score: 0.344955:  70%|#########################9           | 14/20 [00:06<00:02,  2.27it/s]\u001b[32m[I 2021-06-12 21:14:27,125]\u001b[0m Trial 56 finished with value: 0.3449553510477416 and parameters: {'lambda_l1': 3.3295855887822474e-05, 'lambda_l2': 0.11707571925851243}. Best is trial 56 with value: 0.3449553510477416.\u001b[0m\n",
      "regularization_factors, val_score: 0.344955:  70%|#########################9           | 14/20 [00:06<00:02,  2.27it/s]"
     ]
    },
    {
     "name": "stdout",
     "output_type": "stream",
     "text": [
      "[300]\ttrain's multi_logloss: 0.332326\teval's multi_logloss: 0.352233\n",
      "[400]\ttrain's multi_logloss: 0.317023\teval's multi_logloss: 0.346355\n",
      "Early stopping, best iteration is:\n",
      "[442]\ttrain's multi_logloss: 0.31188\teval's multi_logloss: 0.344955\n",
      "Training until validation scores don't improve for 10 rounds\n",
      "[100]\ttrain's multi_logloss: 0.445698\teval's multi_logloss: 0.448724\n",
      "[200]\ttrain's multi_logloss: 0.398021\teval's multi_logloss: 0.400641\n",
      "[300]\ttrain's multi_logloss: 0.379999\teval's multi_logloss: 0.382564\n",
      "[400]\ttrain's multi_logloss: 0.371717\teval's multi_logloss: 0.37473\n",
      "[500]\ttrain's multi_logloss: 0.366848\teval's multi_logloss: 0.370302\n",
      "[600]\ttrain's multi_logloss: 0.363297\teval's multi_logloss: 0.367495\n",
      "[700]\ttrain's multi_logloss: 0.361119\teval's multi_logloss: 0.365589\n",
      "[800]\ttrain's multi_logloss: 0.359178\teval's multi_logloss: 0.363934\n",
      "[900]\ttrain's multi_logloss: 0.357396\teval's multi_logloss: 0.362823\n",
      "[1000]\ttrain's multi_logloss: 0.356077\teval's multi_logloss: 0.361939\n",
      "Did not meet early stopping. Best iteration is:\n",
      "[1000]\ttrain's multi_logloss: 0.356077\teval's multi_logloss: 0.361939\n"
     ]
    },
    {
     "name": "stderr",
     "output_type": "stream",
     "text": [
      "regularization_factors, val_score: 0.344955:  75%|###########################7         | 15/20 [00:07<00:02,  1.85it/s]\u001b[32m[I 2021-06-12 21:14:27,905]\u001b[0m Trial 57 finished with value: 0.3619393797325675 and parameters: {'lambda_l1': 7.594116176583118, 'lambda_l2': 0.017332711549293493}. Best is trial 56 with value: 0.3449553510477416.\u001b[0m\n",
      "regularization_factors, val_score: 0.344955:  75%|###########################7         | 15/20 [00:07<00:02,  1.85it/s]"
     ]
    },
    {
     "name": "stdout",
     "output_type": "stream",
     "text": [
      "Training until validation scores don't improve for 10 rounds\n",
      "[100]\ttrain's multi_logloss: 0.431817\teval's multi_logloss: 0.436216\n",
      "[200]\ttrain's multi_logloss: 0.373896\teval's multi_logloss: 0.3814\n",
      "[300]\ttrain's multi_logloss: 0.349715\teval's multi_logloss: 0.361297\n",
      "[400]\ttrain's multi_logloss: 0.335884\teval's multi_logloss: 0.352967\n",
      "[500]\ttrain's multi_logloss: 0.326014\teval's multi_logloss: 0.349014\n"
     ]
    },
    {
     "name": "stderr",
     "output_type": "stream",
     "text": [
      "regularization_factors, val_score: 0.344955:  80%|#############################6       | 16/20 [00:07<00:02,  1.86it/s]\u001b[32m[I 2021-06-12 21:14:28,438]\u001b[0m Trial 58 finished with value: 0.34673873445298653 and parameters: {'lambda_l1': 6.346591525350184e-05, 'lambda_l2': 5.521613000546805}. Best is trial 56 with value: 0.3449553510477416.\u001b[0m\n",
      "regularization_factors, val_score: 0.344955:  80%|#############################6       | 16/20 [00:07<00:02,  1.86it/s]"
     ]
    },
    {
     "name": "stdout",
     "output_type": "stream",
     "text": [
      "Early stopping, best iteration is:\n",
      "[586]\ttrain's multi_logloss: 0.319295\teval's multi_logloss: 0.346739\n",
      "Training until validation scores don't improve for 10 rounds\n",
      "[100]\ttrain's multi_logloss: 0.410964\teval's multi_logloss: 0.416866\n",
      "[200]\ttrain's multi_logloss: 0.35628\teval's multi_logloss: 0.368045\n",
      "[300]\ttrain's multi_logloss: 0.332836\teval's multi_logloss: 0.352466\n",
      "[400]\ttrain's multi_logloss: 0.31754\teval's multi_logloss: 0.346602\n",
      "Early stopping, best iteration is:\n",
      "[442]\ttrain's multi_logloss: 0.312507\teval's multi_logloss: 0.345361\n"
     ]
    },
    {
     "name": "stderr",
     "output_type": "stream",
     "text": [
      "regularization_factors, val_score: 0.344955:  85%|###############################4     | 17/20 [00:08<00:01,  1.98it/s]\u001b[32m[I 2021-06-12 21:14:28,865]\u001b[0m Trial 59 finished with value: 0.34536075398463273 and parameters: {'lambda_l1': 0.04890496233030158, 'lambda_l2': 0.12191959629803235}. Best is trial 56 with value: 0.3449553510477416.\u001b[0m\n",
      "regularization_factors, val_score: 0.344955:  85%|###############################4     | 17/20 [00:08<00:01,  1.98it/s]"
     ]
    },
    {
     "name": "stdout",
     "output_type": "stream",
     "text": [
      "Training until validation scores don't improve for 10 rounds\n",
      "[100]\ttrain's multi_logloss: 0.410147\teval's multi_logloss: 0.415942\n",
      "[200]\ttrain's multi_logloss: 0.355477\teval's multi_logloss: 0.36728\n",
      "[300]\ttrain's multi_logloss: 0.331729\teval's multi_logloss: 0.351996\n"
     ]
    },
    {
     "name": "stderr",
     "output_type": "stream",
     "text": [
      "regularization_factors, val_score: 0.344955:  90%|#################################3   | 18/20 [00:08<00:00,  2.15it/s]\u001b[32m[I 2021-06-12 21:14:29,239]\u001b[0m Trial 60 finished with value: 0.3459131947643979 and parameters: {'lambda_l1': 7.508831788211526e-07, 'lambda_l2': 0.015354334418349744}. Best is trial 56 with value: 0.3449553510477416.\u001b[0m\n",
      "regularization_factors, val_score: 0.344955:  90%|#################################3   | 18/20 [00:08<00:00,  2.15it/s]"
     ]
    },
    {
     "name": "stdout",
     "output_type": "stream",
     "text": [
      "[400]\ttrain's multi_logloss: 0.316179\teval's multi_logloss: 0.346166\n",
      "Early stopping, best iteration is:\n",
      "[407]\ttrain's multi_logloss: 0.315306\teval's multi_logloss: 0.345913\n",
      "Training until validation scores don't improve for 10 rounds\n",
      "[100]\ttrain's multi_logloss: 0.419872\teval's multi_logloss: 0.42479\n",
      "[200]\ttrain's multi_logloss: 0.365828\teval's multi_logloss: 0.374165\n",
      "[300]\ttrain's multi_logloss: 0.34352\teval's multi_logloss: 0.356952\n",
      "[400]\ttrain's multi_logloss: 0.329795\teval's multi_logloss: 0.350108\n"
     ]
    },
    {
     "name": "stderr",
     "output_type": "stream",
     "text": [
      "regularization_factors, val_score: 0.344955:  95%|###################################1 | 19/20 [00:09<00:00,  2.07it/s]\u001b[32m[I 2021-06-12 21:14:29,762]\u001b[0m Trial 61 finished with value: 0.34566103921575186 and parameters: {'lambda_l1': 1.05040246380591, 'lambda_l2': 0.6908259811560937}. Best is trial 56 with value: 0.3449553510477416.\u001b[0m\n",
      "regularization_factors, val_score: 0.344955:  95%|###################################1 | 19/20 [00:09<00:00,  2.07it/s]"
     ]
    },
    {
     "name": "stdout",
     "output_type": "stream",
     "text": [
      "[500]\ttrain's multi_logloss: 0.3199\teval's multi_logloss: 0.346396\n",
      "Early stopping, best iteration is:\n",
      "[525]\ttrain's multi_logloss: 0.317609\teval's multi_logloss: 0.345661\n",
      "Training until validation scores don't improve for 10 rounds\n",
      "[100]\ttrain's multi_logloss: 0.410074\teval's multi_logloss: 0.415893\n",
      "[200]\ttrain's multi_logloss: 0.355405\teval's multi_logloss: 0.367414\n",
      "[300]\ttrain's multi_logloss: 0.331776\teval's multi_logloss: 0.352208\n"
     ]
    },
    {
     "name": "stderr",
     "output_type": "stream",
     "text": [
      "regularization_factors, val_score: 0.344955: 100%|#####################################| 20/20 [00:09<00:00,  2.18it/s]\u001b[32m[I 2021-06-12 21:14:30,162]\u001b[0m Trial 62 finished with value: 0.346078522305093 and parameters: {'lambda_l1': 3.955212635503661e-07, 'lambda_l2': 0.000697918994133039}. Best is trial 56 with value: 0.3449553510477416.\u001b[0m\n",
      "regularization_factors, val_score: 0.344955: 100%|#####################################| 20/20 [00:09<00:00,  2.12it/s]\n",
      "min_data_in_leaf, val_score: 0.344955:   0%|                                                     | 0/5 [00:00<?, ?it/s]"
     ]
    },
    {
     "name": "stdout",
     "output_type": "stream",
     "text": [
      "[400]\ttrain's multi_logloss: 0.31609\teval's multi_logloss: 0.346475\n",
      "Early stopping, best iteration is:\n",
      "[407]\ttrain's multi_logloss: 0.315222\teval's multi_logloss: 0.346079\n",
      "Training until validation scores don't improve for 10 rounds\n",
      "[100]\ttrain's multi_logloss: 0.411383\teval's multi_logloss: 0.416856\n",
      "[200]\ttrain's multi_logloss: 0.357265\teval's multi_logloss: 0.368582\n",
      "[300]\ttrain's multi_logloss: 0.333953\teval's multi_logloss: 0.353224\n",
      "[400]\ttrain's multi_logloss: 0.318945\teval's multi_logloss: 0.347318\n",
      "Early stopping, best iteration is:\n",
      "[442]\ttrain's multi_logloss: 0.313933\teval's multi_logloss: 0.345892\n"
     ]
    },
    {
     "name": "stderr",
     "output_type": "stream",
     "text": [
      "min_data_in_leaf, val_score: 0.344955:  20%|#########                                    | 1/5 [00:00<00:01,  2.49it/s]\u001b[32m[I 2021-06-12 21:14:30,574]\u001b[0m Trial 63 finished with value: 0.34589209536294324 and parameters: {'min_child_samples': 25}. Best is trial 63 with value: 0.34589209536294324.\u001b[0m\n",
      "min_data_in_leaf, val_score: 0.344955:  20%|#########                                    | 1/5 [00:00<00:01,  2.49it/s]"
     ]
    },
    {
     "name": "stdout",
     "output_type": "stream",
     "text": [
      "Training until validation scores don't improve for 10 rounds\n",
      "[100]\ttrain's multi_logloss: 0.418303\teval's multi_logloss: 0.423209\n",
      "[200]\ttrain's multi_logloss: 0.366261\teval's multi_logloss: 0.375353\n",
      "[300]\ttrain's multi_logloss: 0.343731\teval's multi_logloss: 0.358251\n"
     ]
    },
    {
     "name": "stderr",
     "output_type": "stream",
     "text": [
      "min_data_in_leaf, val_score: 0.344955:  40%|##################                           | 2/5 [00:00<00:01,  2.52it/s]\u001b[32m[I 2021-06-12 21:14:30,966]\u001b[0m Trial 64 finished with value: 0.35015930699551545 and parameters: {'min_child_samples': 50}. Best is trial 63 with value: 0.34589209536294324.\u001b[0m\n",
      "min_data_in_leaf, val_score: 0.344955:  40%|##################                           | 2/5 [00:00<00:01,  2.52it/s]"
     ]
    },
    {
     "name": "stdout",
     "output_type": "stream",
     "text": [
      "[400]\ttrain's multi_logloss: 0.328958\teval's multi_logloss: 0.35183\n",
      "Early stopping, best iteration is:\n",
      "[442]\ttrain's multi_logloss: 0.324142\teval's multi_logloss: 0.350159\n",
      "Training until validation scores don't improve for 10 rounds\n",
      "[100]\ttrain's multi_logloss: 0.408199\teval's multi_logloss: 0.416336\n",
      "[200]\ttrain's multi_logloss: 0.351495\teval's multi_logloss: 0.365987\n",
      "[300]\ttrain's multi_logloss: 0.326477\teval's multi_logloss: 0.3494\n",
      "[400]\ttrain's multi_logloss: 0.309879\teval's multi_logloss: 0.343557\n",
      "Early stopping, best iteration is:\n",
      "[444]\ttrain's multi_logloss: 0.30398\teval's multi_logloss: 0.342648\n"
     ]
    },
    {
     "name": "stderr",
     "output_type": "stream",
     "text": [
      "min_data_in_leaf, val_score: 0.342648:  60%|###########################                  | 3/5 [00:01<00:00,  2.50it/s]\u001b[32m[I 2021-06-12 21:14:31,370]\u001b[0m Trial 65 finished with value: 0.3426478429341055 and parameters: {'min_child_samples': 5}. Best is trial 65 with value: 0.3426478429341055.\u001b[0m\n",
      "min_data_in_leaf, val_score: 0.342648:  60%|###########################                  | 3/5 [00:01<00:00,  2.50it/s]"
     ]
    },
    {
     "name": "stdout",
     "output_type": "stream",
     "text": [
      "Training until validation scores don't improve for 10 rounds\n",
      "[100]\ttrain's multi_logloss: 0.449639\teval's multi_logloss: 0.450338\n",
      "[200]\ttrain's multi_logloss: 0.387272\teval's multi_logloss: 0.389955\n",
      "[300]\ttrain's multi_logloss: 0.358864\teval's multi_logloss: 0.365195\n",
      "[400]\ttrain's multi_logloss: 0.343384\teval's multi_logloss: 0.354591\n",
      "[500]\ttrain's multi_logloss: 0.332604\teval's multi_logloss: 0.349472\n",
      "[600]\ttrain's multi_logloss: 0.324277\teval's multi_logloss: 0.346269\n",
      "Early stopping, best iteration is:\n",
      "[636]\ttrain's multi_logloss: 0.321558\teval's multi_logloss: 0.34536\n"
     ]
    },
    {
     "name": "stderr",
     "output_type": "stream",
     "text": [
      "min_data_in_leaf, val_score: 0.342648:  80%|####################################         | 4/5 [00:01<00:00,  2.18it/s]\u001b[32m[I 2021-06-12 21:14:31,921]\u001b[0m Trial 66 finished with value: 0.34536027007253006 and parameters: {'min_child_samples': 100}. Best is trial 65 with value: 0.3426478429341055.\u001b[0m\n",
      "min_data_in_leaf, val_score: 0.342648:  80%|####################################         | 4/5 [00:01<00:00,  2.18it/s]"
     ]
    },
    {
     "name": "stdout",
     "output_type": "stream",
     "text": [
      "Training until validation scores don't improve for 10 rounds\n",
      "[100]\ttrain's multi_logloss: 0.408915\teval's multi_logloss: 0.416348\n",
      "[200]\ttrain's multi_logloss: 0.352846\teval's multi_logloss: 0.36661\n"
     ]
    },
    {
     "name": "stderr",
     "output_type": "stream",
     "text": [
      "min_data_in_leaf, val_score: 0.342648: 100%|#############################################| 5/5 [00:02<00:00,  2.25it/s]\u001b[32m[I 2021-06-12 21:14:32,338]\u001b[0m Trial 67 finished with value: 0.3436721452070366 and parameters: {'min_child_samples': 10}. Best is trial 65 with value: 0.3426478429341055.\u001b[0m\n",
      "min_data_in_leaf, val_score: 0.342648: 100%|#############################################| 5/5 [00:02<00:00,  2.30it/s]"
     ]
    },
    {
     "name": "stdout",
     "output_type": "stream",
     "text": [
      "[300]\ttrain's multi_logloss: 0.328393\teval's multi_logloss: 0.351193\n",
      "[400]\ttrain's multi_logloss: 0.312191\teval's multi_logloss: 0.345267\n",
      "Early stopping, best iteration is:\n",
      "[463]\ttrain's multi_logloss: 0.304315\teval's multi_logloss: 0.343672\n"
     ]
    },
    {
     "name": "stderr",
     "output_type": "stream",
     "text": [
      "\n"
     ]
    }
   ],
   "source": [
    "y_lgb_preds = []\n",
    "models = []\n",
    "y_lgb_oof_train = np.zeros((len(X_train),3))\n",
    "cv = StratifiedKFold(n_splits=4, shuffle=True, random_state=0)\n",
    "\n",
    "params = {\n",
    "    'task' : 'train',\n",
    "    'boosting_type' : 'gbdt',\n",
    "    'objective': 'multiclass',\n",
    "    'num_class': 3,\n",
    "    'metric' : 'multi_logloss',\n",
    "    'max_bin' : 255,\n",
    "    'num_leaves' : 40,\n",
    "    'learning_rate' : 0.01,\n",
    "    'feature_fraction' : 0.9,\n",
    "    'bagging_fraction' : 0.8,\n",
    "    'bagging_freq': 5,\n",
    "    'verbose' : -1\n",
    "}\n",
    "\n",
    "# Cross Validation\n",
    "for fold_id, (train_index, valid_index) in enumerate(cv.split(X_train,y_train)):\n",
    "    X_tr = X_train.iloc[train_index, :]\n",
    "    X_val = X_train.iloc[valid_index, :]\n",
    "    y_tr = y_train.iloc[train_index]\n",
    "    y_val = y_train.iloc[valid_index]\n",
    "    \n",
    "    # Train Dataset\n",
    "    lgb_train = lgb.Dataset(X_tr, y_tr)\n",
    "\n",
    "    # Evaluation Dataset (early_stopping_rounds)\n",
    "    lgb_eval = lgb.Dataset(X_val, y_val, reference=lgb_train)\n",
    "    \n",
    "    evals_result = {} #結果を格納するための辞書\n",
    "    # train\n",
    "    gbm = lgb.train(params,\n",
    "                    lgb_train,\n",
    "                    valid_sets=[lgb_train, lgb_eval],\n",
    "                    valid_names=['train','eval'],\n",
    "                    num_boost_round=1000,\n",
    "                    early_stopping_rounds=10,\n",
    "                    verbose_eval=100,\n",
    "                    evals_result=evals_result\n",
    "                   )\n",
    "    # Out-of-hold of train data\n",
    "    y_lgb_oof_train[valid_index] = \\\n",
    "        gbm.predict(X_val, num_iteration=gbm.best_iteration)\n",
    "    \n",
    "    # Prediction for X_test data\n",
    "    y_pred = gbm.predict(X_test, num_iteration=gbm.best_iteration)\n",
    "    \n",
    "    # Append Prediction data \n",
    "    y_lgb_preds.append(y_pred)\n",
    "    models.append(gbm)\n"
   ]
  },
  {
   "cell_type": "markdown",
   "id": "a9c1eaa0",
   "metadata": {},
   "source": [
    "### Validation data vs Prediction Data"
   ]
  },
  {
   "cell_type": "code",
   "execution_count": 17,
   "id": "db436e76",
   "metadata": {},
   "outputs": [
    {
     "data": {
      "text/plain": [
       "([0.6649559118438596,\n",
       "  0.6567365044572846,\n",
       "  0.6486041578733394,\n",
       "  0.6446211126325455,\n",
       "  0.6368650010207828],\n",
       " [0.665342340496868,\n",
       "  0.6574781433641255,\n",
       "  0.6498314828428005,\n",
       "  0.6462079832635712,\n",
       "  0.6386702103058147])"
      ]
     },
     "execution_count": 17,
     "metadata": {},
     "output_type": "execute_result"
    }
   ],
   "source": [
    "train_metric = evals_result['train']['multi_logloss']\n",
    "eval_metric = evals_result['eval']['multi_logloss']\n",
    "\n",
    "train_metric[:5], eval_metric[:5]"
   ]
  },
  {
   "cell_type": "code",
   "execution_count": 18,
   "id": "4a306b06",
   "metadata": {},
   "outputs": [
    {
     "data": {
      "image/png": "[encoded data removed]",
      "text/plain": [
       "<Figure size 720x720 with 1 Axes>"
      ]
     },
     "metadata": {},
     "output_type": "display_data"
    }
   ],
   "source": [
    "plt.figure(figsize=(10, 10))\n",
    "\n",
    "plt.plot(train_metric, label='train multi_logloss')\n",
    "plt.plot(eval_metric, label='eval multi_logloss')\n",
    "plt.grid()\n",
    "plt.legend()\n",
    "plt.ylim(0 , 0.6)\n",
    "\n",
    "plt.xlabel('rounds')\n",
    "plt.ylabel('multi_logloss')\n",
    "plt.grid(True)\n",
    "plt.show()"
   ]
  },
  {
   "cell_type": "code",
   "execution_count": 19,
   "id": "6a7d4854",
   "metadata": {},
   "outputs": [
    {
     "name": "stdout",
     "output_type": "stream",
     "text": [
      "0.7112195893781085\n"
     ]
    },
    {
     "data": {
      "text/plain": [
       "<AxesSubplot:title={'center':'Feature importance'}, xlabel='Feature importance', ylabel='Features'>"
      ]
     },
     "execution_count": 19,
     "metadata": {},
     "output_type": "execute_result"
    },
    {
     "data": {
      "image/png": "[encoded data removed]",
      "text/plain": [
       "<Figure size 576x576 with 1 Axes>"
      ]
     },
     "metadata": {},
     "output_type": "display_data"
    }
   ],
   "source": [
    "y_lgb_oof_train_max = np.argmax(y_lgb_oof_train, axis=1)\n",
    "print(f1_score(y_true=y_train, y_pred=y_lgb_oof_train_max, average='macro'))\n",
    "\n",
    "# LGB plog importance\n",
    "lgb.plot_importance(gbm, height=0.5, figsize=(8,8))"
   ]
  },
  {
   "cell_type": "code",
   "execution_count": 20,
   "id": "d777af0f",
   "metadata": {},
   "outputs": [
    {
     "data": {
      "text/plain": [
       "[0, 2, 0, 0, 0, 0, 0, 0, 0, 0]"
      ]
     },
     "execution_count": 20,
     "metadata": {},
     "output_type": "execute_result"
    }
   ],
   "source": [
    "y_pred_max = np.argmax(sum(y_lgb_preds)/len(y_lgb_preds), axis=1)\n",
    "y_pred_max = list(y_pred_max)\n",
    "y_pred_max[:10]"
   ]
  },
  {
   "cell_type": "code",
   "execution_count": 21,
   "id": "74e6e877",
   "metadata": {},
   "outputs": [
    {
     "data": {
      "text/html": [
       "<div>\n",
       "<style scoped>\n",
       "    .dataframe tbody tr th:only-of-type {\n",
       "        vertical-align: middle;\n",
       "    }\n",
       "\n",
       "    .dataframe tbody tr th {\n",
       "        vertical-align: top;\n",
       "    }\n",
       "\n",
       "    .dataframe thead th {\n",
       "        text-align: right;\n",
       "    }\n",
       "</style>\n",
       "<table border=\"1\" class=\"dataframe\">\n",
       "  <thead>\n",
       "    <tr style=\"text-align: right;\">\n",
       "      <th></th>\n",
       "      <th>0</th>\n",
       "      <th>1</th>\n",
       "    </tr>\n",
       "  </thead>\n",
       "  <tbody>\n",
       "    <tr>\n",
       "      <th>0</th>\n",
       "      <td>13</td>\n",
       "      <td>0</td>\n",
       "    </tr>\n",
       "    <tr>\n",
       "      <th>1</th>\n",
       "      <td>23</td>\n",
       "      <td>0</td>\n",
       "    </tr>\n",
       "    <tr>\n",
       "      <th>2</th>\n",
       "      <td>27</td>\n",
       "      <td>0</td>\n",
       "    </tr>\n",
       "    <tr>\n",
       "      <th>3</th>\n",
       "      <td>28</td>\n",
       "      <td>0</td>\n",
       "    </tr>\n",
       "    <tr>\n",
       "      <th>4</th>\n",
       "      <td>29</td>\n",
       "      <td>0</td>\n",
       "    </tr>\n",
       "  </tbody>\n",
       "</table>\n",
       "</div>"
      ],
      "text/plain": [
       "    0  1\n",
       "0  13  0\n",
       "1  23  0\n",
       "2  27  0\n",
       "3  28  0\n",
       "4  29  0"
      ]
     },
     "execution_count": 21,
     "metadata": {},
     "output_type": "execute_result"
    }
   ],
   "source": [
    "submit_sample.head()"
   ]
  },
  {
   "cell_type": "markdown",
   "id": "bd971b20",
   "metadata": {},
   "source": [
    "提出"
   ]
  },
  {
   "cell_type": "code",
   "execution_count": 22,
   "id": "0a1edf60",
   "metadata": {},
   "outputs": [],
   "source": [
    "submit_sample[1] = y_pred_max\n",
    "submit_sample.to_csv('submit.csv',index = False,  header=None)"
   ]
  },
  {
   "cell_type": "code",
   "execution_count": 23,
   "id": "164c3bbf",
   "metadata": {},
   "outputs": [
    {
     "data": {
      "text/html": [
       "<div>\n",
       "<style scoped>\n",
       "    .dataframe tbody tr th:only-of-type {\n",
       "        vertical-align: middle;\n",
       "    }\n",
       "\n",
       "    .dataframe tbody tr th {\n",
       "        vertical-align: top;\n",
       "    }\n",
       "\n",
       "    .dataframe thead th {\n",
       "        text-align: right;\n",
       "    }\n",
       "</style>\n",
       "<table border=\"1\" class=\"dataframe\">\n",
       "  <thead>\n",
       "    <tr style=\"text-align: right;\">\n",
       "      <th></th>\n",
       "      <th>0</th>\n",
       "      <th>1</th>\n",
       "    </tr>\n",
       "  </thead>\n",
       "  <tbody>\n",
       "    <tr>\n",
       "      <th>0</th>\n",
       "      <td>13</td>\n",
       "      <td>0</td>\n",
       "    </tr>\n",
       "    <tr>\n",
       "      <th>1</th>\n",
       "      <td>23</td>\n",
       "      <td>2</td>\n",
       "    </tr>\n",
       "    <tr>\n",
       "      <th>2</th>\n",
       "      <td>27</td>\n",
       "      <td>0</td>\n",
       "    </tr>\n",
       "    <tr>\n",
       "      <th>3</th>\n",
       "      <td>28</td>\n",
       "      <td>0</td>\n",
       "    </tr>\n",
       "    <tr>\n",
       "      <th>4</th>\n",
       "      <td>29</td>\n",
       "      <td>0</td>\n",
       "    </tr>\n",
       "  </tbody>\n",
       "</table>\n",
       "</div>"
      ],
      "text/plain": [
       "    0  1\n",
       "0  13  0\n",
       "1  23  2\n",
       "2  27  0\n",
       "3  28  0\n",
       "4  29  0"
      ]
     },
     "execution_count": 23,
     "metadata": {},
     "output_type": "execute_result"
    }
   ],
   "source": [
    "submit_sample.head()"
   ]
  },
  {
   "cell_type": "code",
   "execution_count": null,
   "id": "94b94953",
   "metadata": {},
   "outputs": [],
   "source": []
  }
 ],
 "metadata": {
  "kernelspec": {
   "display_name": "Python 3",
   "language": "python",
   "name": "python3"
  },
  "language_info": {
   "codemirror_mode": {
    "name": "ipython",
    "version": 3
   },
   "file_extension": ".py",
   "mimetype": "text/x-python",
   "name": "python",
   "nbconvert_exporter": "python",
   "pygments_lexer": "ipython3",
   "version": "3.8.8"
  }
 },
 "nbformat": 4,
 "nbformat_minor": 5
}
