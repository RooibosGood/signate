{
 "cells": [
  {
   "cell_type": "code",
   "execution_count": 1,
   "id": "ed133a50",
   "metadata": {},
   "outputs": [],
   "source": [
    "import numpy as np # linear algebra\n",
    "import pandas as pd # data processing, CSV file I/O (e.g. pd.read_csv)\n",
    "import datetime as dt\n",
    "import seaborn as sns\n",
    "import matplotlib.pyplot as plt\n",
    "from scipy.stats import norm\n",
    "import statsmodels.api as sm\n",
    "import scipy.stats as stats\n",
    "from sklearn.metrics import mean_absolute_error"
   ]
  },
  {
   "cell_type": "code",
   "execution_count": 2,
   "id": "90aaf563",
   "metadata": {
    "scrolled": true
   },
   "outputs": [
    {
     "name": "stdout",
     "output_type": "stream",
     "text": [
      "<class 'pandas.core.frame.DataFrame'>\n",
      "Int64Index: 2466 entries, 0 to 364\n",
      "Data columns (total 6 columns):\n",
      " #   Column    Non-Null Count  Dtype         \n",
      "---  ------    --------------  -----         \n",
      " 0   datetime  2466 non-null   datetime64[ns]\n",
      " 1   y         2101 non-null   float64       \n",
      " 2   client    2466 non-null   int64         \n",
      " 3   close     2466 non-null   int64         \n",
      " 4   price_am  2466 non-null   int64         \n",
      " 5   price_pm  2466 non-null   int64         \n",
      "dtypes: datetime64[ns](1), float64(1), int64(4)\n",
      "memory usage: 134.9 KB\n"
     ]
    },
    {
     "data": {
      "text/html": [
       "<div>\n",
       "<style scoped>\n",
       "    .dataframe tbody tr th:only-of-type {\n",
       "        vertical-align: middle;\n",
       "    }\n",
       "\n",
       "    .dataframe tbody tr th {\n",
       "        vertical-align: top;\n",
       "    }\n",
       "\n",
       "    .dataframe thead th {\n",
       "        text-align: right;\n",
       "    }\n",
       "</style>\n",
       "<table border=\"1\" class=\"dataframe\">\n",
       "  <thead>\n",
       "    <tr style=\"text-align: right;\">\n",
       "      <th></th>\n",
       "      <th>datetime</th>\n",
       "      <th>y</th>\n",
       "      <th>client</th>\n",
       "      <th>close</th>\n",
       "      <th>price_am</th>\n",
       "      <th>price_pm</th>\n",
       "    </tr>\n",
       "  </thead>\n",
       "  <tbody>\n",
       "    <tr>\n",
       "      <th>0</th>\n",
       "      <td>2010-07-01</td>\n",
       "      <td>17.0</td>\n",
       "      <td>0</td>\n",
       "      <td>0</td>\n",
       "      <td>-1</td>\n",
       "      <td>-1</td>\n",
       "    </tr>\n",
       "    <tr>\n",
       "      <th>1</th>\n",
       "      <td>2010-07-02</td>\n",
       "      <td>18.0</td>\n",
       "      <td>0</td>\n",
       "      <td>0</td>\n",
       "      <td>-1</td>\n",
       "      <td>-1</td>\n",
       "    </tr>\n",
       "    <tr>\n",
       "      <th>2</th>\n",
       "      <td>2010-07-03</td>\n",
       "      <td>20.0</td>\n",
       "      <td>0</td>\n",
       "      <td>0</td>\n",
       "      <td>-1</td>\n",
       "      <td>-1</td>\n",
       "    </tr>\n",
       "    <tr>\n",
       "      <th>3</th>\n",
       "      <td>2010-07-04</td>\n",
       "      <td>20.0</td>\n",
       "      <td>0</td>\n",
       "      <td>0</td>\n",
       "      <td>-1</td>\n",
       "      <td>-1</td>\n",
       "    </tr>\n",
       "    <tr>\n",
       "      <th>4</th>\n",
       "      <td>2010-07-05</td>\n",
       "      <td>14.0</td>\n",
       "      <td>0</td>\n",
       "      <td>0</td>\n",
       "      <td>-1</td>\n",
       "      <td>-1</td>\n",
       "    </tr>\n",
       "    <tr>\n",
       "      <th>5</th>\n",
       "      <td>2010-07-06</td>\n",
       "      <td>14.0</td>\n",
       "      <td>0</td>\n",
       "      <td>0</td>\n",
       "      <td>-1</td>\n",
       "      <td>-1</td>\n",
       "    </tr>\n",
       "    <tr>\n",
       "      <th>6</th>\n",
       "      <td>2010-07-07</td>\n",
       "      <td>4.0</td>\n",
       "      <td>0</td>\n",
       "      <td>0</td>\n",
       "      <td>-1</td>\n",
       "      <td>-1</td>\n",
       "    </tr>\n",
       "    <tr>\n",
       "      <th>7</th>\n",
       "      <td>2010-07-08</td>\n",
       "      <td>10.0</td>\n",
       "      <td>0</td>\n",
       "      <td>0</td>\n",
       "      <td>-1</td>\n",
       "      <td>-1</td>\n",
       "    </tr>\n",
       "    <tr>\n",
       "      <th>8</th>\n",
       "      <td>2010-07-09</td>\n",
       "      <td>12.0</td>\n",
       "      <td>0</td>\n",
       "      <td>0</td>\n",
       "      <td>-1</td>\n",
       "      <td>-1</td>\n",
       "    </tr>\n",
       "    <tr>\n",
       "      <th>9</th>\n",
       "      <td>2010-07-10</td>\n",
       "      <td>21.0</td>\n",
       "      <td>0</td>\n",
       "      <td>0</td>\n",
       "      <td>-1</td>\n",
       "      <td>-1</td>\n",
       "    </tr>\n",
       "  </tbody>\n",
       "</table>\n",
       "</div>"
      ],
      "text/plain": [
       "    datetime     y  client  close  price_am  price_pm\n",
       "0 2010-07-01  17.0       0      0        -1        -1\n",
       "1 2010-07-02  18.0       0      0        -1        -1\n",
       "2 2010-07-03  20.0       0      0        -1        -1\n",
       "3 2010-07-04  20.0       0      0        -1        -1\n",
       "4 2010-07-05  14.0       0      0        -1        -1\n",
       "5 2010-07-06  14.0       0      0        -1        -1\n",
       "6 2010-07-07   4.0       0      0        -1        -1\n",
       "7 2010-07-08  10.0       0      0        -1        -1\n",
       "8 2010-07-09  12.0       0      0        -1        -1\n",
       "9 2010-07-10  21.0       0      0        -1        -1"
      ]
     },
     "execution_count": 2,
     "metadata": {},
     "output_type": "execute_result"
    }
   ],
   "source": [
    "train=pd.read_csv(\"./train.csv\", parse_dates=[0]) # 日付をdatetime型で取得\n",
    "test=pd.read_csv(\"./test.csv\", parse_dates=[0])\n",
    "submit_sample=pd.read_csv(\"./sample_submit.csv\", header=None)\n",
    "\n",
    "df = pd.concat([train, test], sort=False)\n",
    "df.info()\n",
    "df.head(10)"
   ]
  },
  {
   "cell_type": "code",
   "execution_count": 3,
   "id": "46b5d537",
   "metadata": {
    "scrolled": true
   },
   "outputs": [
    {
     "data": {
      "text/html": [
       "<div>\n",
       "<style scoped>\n",
       "    .dataframe tbody tr th:only-of-type {\n",
       "        vertical-align: middle;\n",
       "    }\n",
       "\n",
       "    .dataframe tbody tr th {\n",
       "        vertical-align: top;\n",
       "    }\n",
       "\n",
       "    .dataframe thead th {\n",
       "        text-align: right;\n",
       "    }\n",
       "</style>\n",
       "<table border=\"1\" class=\"dataframe\">\n",
       "  <thead>\n",
       "    <tr style=\"text-align: right;\">\n",
       "      <th></th>\n",
       "      <th>datetime</th>\n",
       "      <th>y</th>\n",
       "      <th>client</th>\n",
       "      <th>close</th>\n",
       "      <th>price_am</th>\n",
       "      <th>price_pm</th>\n",
       "    </tr>\n",
       "  </thead>\n",
       "  <tbody>\n",
       "    <tr>\n",
       "      <th>0</th>\n",
       "      <td>2010-07-01</td>\n",
       "      <td>17.0</td>\n",
       "      <td>0</td>\n",
       "      <td>0</td>\n",
       "      <td>NaN</td>\n",
       "      <td>NaN</td>\n",
       "    </tr>\n",
       "    <tr>\n",
       "      <th>1</th>\n",
       "      <td>2010-07-02</td>\n",
       "      <td>18.0</td>\n",
       "      <td>0</td>\n",
       "      <td>0</td>\n",
       "      <td>NaN</td>\n",
       "      <td>NaN</td>\n",
       "    </tr>\n",
       "    <tr>\n",
       "      <th>2</th>\n",
       "      <td>2010-07-03</td>\n",
       "      <td>20.0</td>\n",
       "      <td>0</td>\n",
       "      <td>0</td>\n",
       "      <td>NaN</td>\n",
       "      <td>NaN</td>\n",
       "    </tr>\n",
       "    <tr>\n",
       "      <th>3</th>\n",
       "      <td>2010-07-04</td>\n",
       "      <td>20.0</td>\n",
       "      <td>0</td>\n",
       "      <td>0</td>\n",
       "      <td>NaN</td>\n",
       "      <td>NaN</td>\n",
       "    </tr>\n",
       "    <tr>\n",
       "      <th>4</th>\n",
       "      <td>2010-07-05</td>\n",
       "      <td>14.0</td>\n",
       "      <td>0</td>\n",
       "      <td>0</td>\n",
       "      <td>NaN</td>\n",
       "      <td>NaN</td>\n",
       "    </tr>\n",
       "  </tbody>\n",
       "</table>\n",
       "</div>"
      ],
      "text/plain": [
       "    datetime     y  client  close  price_am  price_pm\n",
       "0 2010-07-01  17.0       0      0       NaN       NaN\n",
       "1 2010-07-02  18.0       0      0       NaN       NaN\n",
       "2 2010-07-03  20.0       0      0       NaN       NaN\n",
       "3 2010-07-04  20.0       0      0       NaN       NaN\n",
       "4 2010-07-05  14.0       0      0       NaN       NaN"
      ]
     },
     "execution_count": 3,
     "metadata": {},
     "output_type": "execute_result"
    }
   ],
   "source": [
    "df.loc[df['price_am'] == -1, 'price_am'] = np.nan\n",
    "df.loc[df['price_pm'] == -1, 'price_pm'] = np.nan\n",
    "df.head()"
   ]
  },
  {
   "cell_type": "code",
   "execution_count": 4,
   "id": "47bf5de8",
   "metadata": {},
   "outputs": [],
   "source": [
    "### datimeをdatetime64[ns]型に変更。"
   ]
  },
  {
   "cell_type": "code",
   "execution_count": 5,
   "id": "2e65607d",
   "metadata": {},
   "outputs": [],
   "source": [
    "#df['datetime'] = df.datetime.map(dt.datetime.timestamp)\n",
    "#df['datetime'] = df['datetime'].dt.to_pydatetime()\n",
    "df['year'] = df['datetime'].dt.year\n",
    "df['month'] = df['datetime'].dt.month\n",
    "df['day'] = df['datetime'].dt.day\n",
    "df['weekday'] = df['datetime'].dt.weekday"
   ]
  },
  {
   "cell_type": "code",
   "execution_count": 6,
   "id": "9fb8dc3e",
   "metadata": {},
   "outputs": [],
   "source": [
    "df=df.drop(['datetime'], axis=1)"
   ]
  },
  {
   "cell_type": "code",
   "execution_count": 7,
   "id": "b9416d49",
   "metadata": {},
   "outputs": [
    {
     "name": "stdout",
     "output_type": "stream",
     "text": [
      "<class 'pandas.core.frame.DataFrame'>\n",
      "Int64Index: 2466 entries, 0 to 364\n",
      "Data columns (total 9 columns):\n",
      " #   Column    Non-Null Count  Dtype  \n",
      "---  ------    --------------  -----  \n",
      " 0   y         2101 non-null   float64\n",
      " 1   client    2466 non-null   int64  \n",
      " 2   close     2466 non-null   int64  \n",
      " 3   price_am  2250 non-null   float64\n",
      " 4   price_pm  2249 non-null   float64\n",
      " 5   year      2466 non-null   int64  \n",
      " 6   month     2466 non-null   int64  \n",
      " 7   day       2466 non-null   int64  \n",
      " 8   weekday   2466 non-null   int64  \n",
      "dtypes: float64(3), int64(6)\n",
      "memory usage: 192.7 KB\n"
     ]
    }
   ],
   "source": [
    "df.info()"
   ]
  },
  {
   "cell_type": "code",
   "execution_count": 8,
   "id": "95485b72",
   "metadata": {},
   "outputs": [],
   "source": [
    "df['client'] = df['client'].astype(str)\n",
    "df['close'] = df['close'].astype(str)"
   ]
  },
  {
   "cell_type": "code",
   "execution_count": 9,
   "id": "fb8cd5ec",
   "metadata": {},
   "outputs": [
    {
     "name": "stdout",
     "output_type": "stream",
     "text": [
      "CategoricaL:\n",
      "['client', 'close']\n",
      "\n",
      "NumericaL:\n",
      "['y', 'price_am', 'price_pm', 'year', 'month', 'day', 'weekday']\n"
     ]
    }
   ],
   "source": [
    "#divide dataset into two parts(categorical, contineous)\n",
    "categorical, numerical = [],[]\n",
    "for z in df.columns:\n",
    "    t = df.dtypes[z]\n",
    "    if t=='object':\n",
    "        categorical.append(z)\n",
    "    else:\n",
    "        numerical.append(z)\n",
    "print(\"CategoricaL:\\n{}\".format(categorical))\n",
    "print(\"\\nNumericaL:\\n{}\".format(numerical))"
   ]
  },
  {
   "cell_type": "markdown",
   "id": "e42b0f4f",
   "metadata": {},
   "source": [
    "### Pandas Profining"
   ]
  },
  {
   "cell_type": "code",
   "execution_count": 10,
   "id": "9a53ae89",
   "metadata": {},
   "outputs": [],
   "source": [
    "#import pandas_profiling\n",
    "\n",
    "#df.profile_report()"
   ]
  },
  {
   "cell_type": "markdown",
   "id": "2a9bb8be",
   "metadata": {},
   "source": [
    "### Histogram"
   ]
  },
  {
   "cell_type": "code",
   "execution_count": 11,
   "id": "a25fb876",
   "metadata": {},
   "outputs": [
    {
     "name": "stderr",
     "output_type": "stream",
     "text": [
      "C:\\Anaconda\\lib\\site-packages\\seaborn\\distributions.py:2557: FutureWarning: `distplot` is a deprecated function and will be removed in a future version. Please adapt your code to use either `displot` (a figure-level function with similar flexibility) or `histplot` (an axes-level function for histograms).\n",
      "  warnings.warn(msg, FutureWarning)\n",
      "No handles with labels found to put in legend.\n"
     ]
    },
    {
     "data": {
      "image/png": "[encoded data removed]",
      "text/plain": [
       "<Figure size 1080x360 with 2 Axes>"
      ]
     },
     "metadata": {
      "needs_background": "light"
     },
     "output_type": "display_data"
    }
   ],
   "source": [
    "fig, ax = plt.subplots(1,2, figsize= (15,5))\n",
    "# Histogram\n",
    "sns.distplot(\n",
    "    train['y'], label='y',\n",
    "    kde_kws={'label': 'kde','color':'k'},\n",
    "    fit=norm,fit_kws={'label': 'norm','color':'red'},\n",
    "    ax = ax[0]\n",
    ")\n",
    "ax[0].set_title(\"Histogram\")\n",
    "ax[0].grid(True)\n",
    "\n",
    "# QQplot\n",
    "sm.qqplot(train['y'], stats.t, distargs=(4,),fit=True, line=\"45\", ax = ax[1])\n",
    "ax[1].set_title(\"QQplot\")\n",
    "ax[1].grid(True)\n",
    "\n",
    "plt.legend() # 凡例を表示\n",
    "plt.show() #グラフ表示"
   ]
  },
  {
   "cell_type": "markdown",
   "id": "16045d12",
   "metadata": {},
   "source": [
    "### Fill nan"
   ]
  },
  {
   "cell_type": "code",
   "execution_count": 12,
   "id": "2bcce1de",
   "metadata": {},
   "outputs": [],
   "source": [
    "df['price_am'] = df.groupby(['month', 'weekday'])['price_am'].transform(lambda x: x.fillna(x.mean()))\n",
    "df['price_pm'] = df.groupby(['month', 'weekday'])['price_pm'].transform(lambda x: x.fillna(x.mean()))\n",
    "\n",
    "#df['price_am'].fillna(df['price_am'].median(), inplace=True)\n",
    "# df['price_pm'].fillna(df['price_pm'].median(), inplace=True)"
   ]
  },
  {
   "cell_type": "markdown",
   "id": "5c865681",
   "metadata": {},
   "source": [
    "### Dummy"
   ]
  },
  {
   "cell_type": "code",
   "execution_count": 13,
   "id": "f2a7588f",
   "metadata": {},
   "outputs": [],
   "source": [
    "df =pd.get_dummies(df, columns=categorical, drop_first=True)"
   ]
  },
  {
   "cell_type": "code",
   "execution_count": 14,
   "id": "73286739",
   "metadata": {},
   "outputs": [
    {
     "data": {
      "text/html": [
       "<div>\n",
       "<style scoped>\n",
       "    .dataframe tbody tr th:only-of-type {\n",
       "        vertical-align: middle;\n",
       "    }\n",
       "\n",
       "    .dataframe tbody tr th {\n",
       "        vertical-align: top;\n",
       "    }\n",
       "\n",
       "    .dataframe thead th {\n",
       "        text-align: right;\n",
       "    }\n",
       "</style>\n",
       "<table border=\"1\" class=\"dataframe\">\n",
       "  <thead>\n",
       "    <tr style=\"text-align: right;\">\n",
       "      <th></th>\n",
       "      <th>y</th>\n",
       "      <th>price_am</th>\n",
       "      <th>price_pm</th>\n",
       "      <th>year</th>\n",
       "      <th>month</th>\n",
       "      <th>day</th>\n",
       "      <th>weekday</th>\n",
       "      <th>client_1</th>\n",
       "      <th>close_1</th>\n",
       "    </tr>\n",
       "  </thead>\n",
       "  <tbody>\n",
       "    <tr>\n",
       "      <th>0</th>\n",
       "      <td>17.0</td>\n",
       "      <td>0.192308</td>\n",
       "      <td>0.076923</td>\n",
       "      <td>2010</td>\n",
       "      <td>7</td>\n",
       "      <td>1</td>\n",
       "      <td>3</td>\n",
       "      <td>0</td>\n",
       "      <td>0</td>\n",
       "    </tr>\n",
       "    <tr>\n",
       "      <th>1</th>\n",
       "      <td>18.0</td>\n",
       "      <td>0.692308</td>\n",
       "      <td>0.423077</td>\n",
       "      <td>2010</td>\n",
       "      <td>7</td>\n",
       "      <td>2</td>\n",
       "      <td>4</td>\n",
       "      <td>0</td>\n",
       "      <td>0</td>\n",
       "    </tr>\n",
       "    <tr>\n",
       "      <th>2</th>\n",
       "      <td>20.0</td>\n",
       "      <td>1.807692</td>\n",
       "      <td>1.192308</td>\n",
       "      <td>2010</td>\n",
       "      <td>7</td>\n",
       "      <td>3</td>\n",
       "      <td>5</td>\n",
       "      <td>0</td>\n",
       "      <td>0</td>\n",
       "    </tr>\n",
       "    <tr>\n",
       "      <th>3</th>\n",
       "      <td>20.0</td>\n",
       "      <td>1.407407</td>\n",
       "      <td>0.925926</td>\n",
       "      <td>2010</td>\n",
       "      <td>7</td>\n",
       "      <td>4</td>\n",
       "      <td>6</td>\n",
       "      <td>0</td>\n",
       "      <td>0</td>\n",
       "    </tr>\n",
       "    <tr>\n",
       "      <th>4</th>\n",
       "      <td>14.0</td>\n",
       "      <td>0.346154</td>\n",
       "      <td>0.192308</td>\n",
       "      <td>2010</td>\n",
       "      <td>7</td>\n",
       "      <td>5</td>\n",
       "      <td>0</td>\n",
       "      <td>0</td>\n",
       "      <td>0</td>\n",
       "    </tr>\n",
       "    <tr>\n",
       "      <th>5</th>\n",
       "      <td>14.0</td>\n",
       "      <td>0.333333</td>\n",
       "      <td>0.148148</td>\n",
       "      <td>2010</td>\n",
       "      <td>7</td>\n",
       "      <td>6</td>\n",
       "      <td>1</td>\n",
       "      <td>0</td>\n",
       "      <td>0</td>\n",
       "    </tr>\n",
       "    <tr>\n",
       "      <th>6</th>\n",
       "      <td>4.0</td>\n",
       "      <td>0.259259</td>\n",
       "      <td>0.111111</td>\n",
       "      <td>2010</td>\n",
       "      <td>7</td>\n",
       "      <td>7</td>\n",
       "      <td>2</td>\n",
       "      <td>0</td>\n",
       "      <td>0</td>\n",
       "    </tr>\n",
       "    <tr>\n",
       "      <th>7</th>\n",
       "      <td>10.0</td>\n",
       "      <td>0.192308</td>\n",
       "      <td>0.076923</td>\n",
       "      <td>2010</td>\n",
       "      <td>7</td>\n",
       "      <td>8</td>\n",
       "      <td>3</td>\n",
       "      <td>0</td>\n",
       "      <td>0</td>\n",
       "    </tr>\n",
       "    <tr>\n",
       "      <th>8</th>\n",
       "      <td>12.0</td>\n",
       "      <td>0.692308</td>\n",
       "      <td>0.423077</td>\n",
       "      <td>2010</td>\n",
       "      <td>7</td>\n",
       "      <td>9</td>\n",
       "      <td>4</td>\n",
       "      <td>0</td>\n",
       "      <td>0</td>\n",
       "    </tr>\n",
       "    <tr>\n",
       "      <th>9</th>\n",
       "      <td>21.0</td>\n",
       "      <td>1.807692</td>\n",
       "      <td>1.192308</td>\n",
       "      <td>2010</td>\n",
       "      <td>7</td>\n",
       "      <td>10</td>\n",
       "      <td>5</td>\n",
       "      <td>0</td>\n",
       "      <td>0</td>\n",
       "    </tr>\n",
       "  </tbody>\n",
       "</table>\n",
       "</div>"
      ],
      "text/plain": [
       "      y  price_am  price_pm  year  month  day  weekday  client_1  close_1\n",
       "0  17.0  0.192308  0.076923  2010      7    1        3         0        0\n",
       "1  18.0  0.692308  0.423077  2010      7    2        4         0        0\n",
       "2  20.0  1.807692  1.192308  2010      7    3        5         0        0\n",
       "3  20.0  1.407407  0.925926  2010      7    4        6         0        0\n",
       "4  14.0  0.346154  0.192308  2010      7    5        0         0        0\n",
       "5  14.0  0.333333  0.148148  2010      7    6        1         0        0\n",
       "6   4.0  0.259259  0.111111  2010      7    7        2         0        0\n",
       "7  10.0  0.192308  0.076923  2010      7    8        3         0        0\n",
       "8  12.0  0.692308  0.423077  2010      7    9        4         0        0\n",
       "9  21.0  1.807692  1.192308  2010      7   10        5         0        0"
      ]
     },
     "execution_count": 14,
     "metadata": {},
     "output_type": "execute_result"
    }
   ],
   "source": [
    "df.head(10)"
   ]
  },
  {
   "cell_type": "markdown",
   "id": "377e8c89",
   "metadata": {},
   "source": [
    "### Separate Data"
   ]
  },
  {
   "cell_type": "code",
   "execution_count": 15,
   "id": "0bae0102",
   "metadata": {},
   "outputs": [],
   "source": [
    "train = df[:len(train)]\n",
    "test = df[len(train):]"
   ]
  },
  {
   "cell_type": "code",
   "execution_count": 16,
   "id": "6eb73d4b",
   "metadata": {},
   "outputs": [],
   "source": [
    "y_train = train['y']\n",
    "X_train = train.drop(['y'], axis=1)\n",
    "X_test = test.drop(['y'], axis=1)"
   ]
  },
  {
   "cell_type": "code",
   "execution_count": 17,
   "id": "5b6391c2",
   "metadata": {},
   "outputs": [],
   "source": [
    "### 線形回帰"
   ]
  },
  {
   "cell_type": "code",
   "execution_count": 18,
   "id": "1fa31948",
   "metadata": {},
   "outputs": [],
   "source": [
    "from sklearn.linear_model import Lasso, Ridge, LassoCV, RidgeCV\n",
    "from sklearn.ensemble import RandomForestClassifier\n",
    "from sklearn.model_selection import GridSearchCV\n",
    "from sklearn.preprocessing import StandardScaler"
   ]
  },
  {
   "cell_type": "code",
   "execution_count": 19,
   "id": "254a26ae",
   "metadata": {},
   "outputs": [
    {
     "name": "stdout",
     "output_type": "stream",
     "text": [
      "<class 'pandas.core.frame.DataFrame'>\n",
      "Int64Index: 2466 entries, 0 to 364\n",
      "Data columns (total 9 columns):\n",
      " #   Column    Non-Null Count  Dtype  \n",
      "---  ------    --------------  -----  \n",
      " 0   y         2101 non-null   float64\n",
      " 1   price_am  2466 non-null   float64\n",
      " 2   price_pm  2466 non-null   float64\n",
      " 3   year      2466 non-null   int64  \n",
      " 4   month     2466 non-null   int64  \n",
      " 5   day       2466 non-null   int64  \n",
      " 6   weekday   2466 non-null   int64  \n",
      " 7   client_1  2466 non-null   uint8  \n",
      " 8   close_1   2466 non-null   uint8  \n",
      "dtypes: float64(3), int64(4), uint8(2)\n",
      "memory usage: 158.9 KB\n"
     ]
    },
    {
     "data": {
      "text/html": [
       "<div>\n",
       "<style scoped>\n",
       "    .dataframe tbody tr th:only-of-type {\n",
       "        vertical-align: middle;\n",
       "    }\n",
       "\n",
       "    .dataframe tbody tr th {\n",
       "        vertical-align: top;\n",
       "    }\n",
       "\n",
       "    .dataframe thead th {\n",
       "        text-align: right;\n",
       "    }\n",
       "</style>\n",
       "<table border=\"1\" class=\"dataframe\">\n",
       "  <thead>\n",
       "    <tr style=\"text-align: right;\">\n",
       "      <th></th>\n",
       "      <th>y</th>\n",
       "      <th>price_am</th>\n",
       "      <th>price_pm</th>\n",
       "      <th>year</th>\n",
       "      <th>month</th>\n",
       "      <th>day</th>\n",
       "      <th>weekday</th>\n",
       "      <th>client_1</th>\n",
       "      <th>close_1</th>\n",
       "    </tr>\n",
       "  </thead>\n",
       "  <tbody>\n",
       "    <tr>\n",
       "      <th>0</th>\n",
       "      <td>17.0</td>\n",
       "      <td>0.192308</td>\n",
       "      <td>0.076923</td>\n",
       "      <td>2010</td>\n",
       "      <td>7</td>\n",
       "      <td>1</td>\n",
       "      <td>3</td>\n",
       "      <td>0</td>\n",
       "      <td>0</td>\n",
       "    </tr>\n",
       "    <tr>\n",
       "      <th>1</th>\n",
       "      <td>18.0</td>\n",
       "      <td>0.692308</td>\n",
       "      <td>0.423077</td>\n",
       "      <td>2010</td>\n",
       "      <td>7</td>\n",
       "      <td>2</td>\n",
       "      <td>4</td>\n",
       "      <td>0</td>\n",
       "      <td>0</td>\n",
       "    </tr>\n",
       "    <tr>\n",
       "      <th>2</th>\n",
       "      <td>20.0</td>\n",
       "      <td>1.807692</td>\n",
       "      <td>1.192308</td>\n",
       "      <td>2010</td>\n",
       "      <td>7</td>\n",
       "      <td>3</td>\n",
       "      <td>5</td>\n",
       "      <td>0</td>\n",
       "      <td>0</td>\n",
       "    </tr>\n",
       "    <tr>\n",
       "      <th>3</th>\n",
       "      <td>20.0</td>\n",
       "      <td>1.407407</td>\n",
       "      <td>0.925926</td>\n",
       "      <td>2010</td>\n",
       "      <td>7</td>\n",
       "      <td>4</td>\n",
       "      <td>6</td>\n",
       "      <td>0</td>\n",
       "      <td>0</td>\n",
       "    </tr>\n",
       "    <tr>\n",
       "      <th>4</th>\n",
       "      <td>14.0</td>\n",
       "      <td>0.346154</td>\n",
       "      <td>0.192308</td>\n",
       "      <td>2010</td>\n",
       "      <td>7</td>\n",
       "      <td>5</td>\n",
       "      <td>0</td>\n",
       "      <td>0</td>\n",
       "      <td>0</td>\n",
       "    </tr>\n",
       "  </tbody>\n",
       "</table>\n",
       "</div>"
      ],
      "text/plain": [
       "      y  price_am  price_pm  year  month  day  weekday  client_1  close_1\n",
       "0  17.0  0.192308  0.076923  2010      7    1        3         0        0\n",
       "1  18.0  0.692308  0.423077  2010      7    2        4         0        0\n",
       "2  20.0  1.807692  1.192308  2010      7    3        5         0        0\n",
       "3  20.0  1.407407  0.925926  2010      7    4        6         0        0\n",
       "4  14.0  0.346154  0.192308  2010      7    5        0         0        0"
      ]
     },
     "execution_count": 19,
     "metadata": {},
     "output_type": "execute_result"
    }
   ],
   "source": [
    "df.info()\n",
    "df.head()"
   ]
  },
  {
   "cell_type": "code",
   "execution_count": 20,
   "id": "6d453dbe",
   "metadata": {},
   "outputs": [],
   "source": [
    "# データセットの標準化準備\n",
    "scaler= StandardScaler()\n",
    "# データセットの標準化\n",
    "scaler.fit(X_train)\n",
    "X_train_scaler = scaler.transform(X_train)\n",
    "X_test_scaler  = scaler.transform(X_test)"
   ]
  },
  {
   "cell_type": "code",
   "execution_count": 21,
   "id": "7033819c",
   "metadata": {},
   "outputs": [
    {
     "name": "stderr",
     "output_type": "stream",
     "text": [
      "C:\\Anaconda\\lib\\site-packages\\sklearn\\model_selection\\_split.py:670: UserWarning: The least populated class in y has only 1 members, which is less than n_splits=2.\n",
      "  warnings.warn((\"The least populated class in y has only %d\"\n"
     ]
    },
    {
     "name": "stdout",
     "output_type": "stream",
     "text": [
      "{'criterion': 'gini', 'max_depth': 6, 'n_estimators': 40, 'random_state': 0}\n",
      "Score = -5.630652070442646\n",
      "MAE = 5.630652070442646\n"
     ]
    }
   ],
   "source": [
    "# Random Forest\n",
    "\n",
    "params_grid = {\n",
    "    \"n_estimators\":[i for i in range(10,50,10)],\n",
    "    \"criterion\":[\"gini\",\"entropy\"],\n",
    "    \"max_depth\":[i for i in range(6,20,1)],\n",
    "#    \"max_depth\":,\n",
    "    \"random_state\":[0],\n",
    "}\n",
    "# パラメータチューニング\n",
    "clf = GridSearchCV(\n",
    "    estimator = RandomForestClassifier(),\n",
    "    param_grid = params_grid,\n",
    "    cv = 2,\n",
    "    scoring='r2',\n",
    "    n_jobs = -1\n",
    "    )\n",
    "#clf = RandomForestClassifier(max_depth=10, random_state=0)\n",
    "\n",
    "# 線形モデルの重みを学習\n",
    "clf.fit(X_train, y_train) \n",
    "\n",
    "# チューニングしたモデル\n",
    "best_param = clf.best_params_\n",
    "rf_tuned = clf.best_estimator_\n",
    "\n",
    "# 予測値を反映\n",
    "y_rf_pred = rf_tuned.predict(X_train) # Trainデータに対して予測\n",
    "y_rf_test_pred = rf_tuned.predict(X_test) # Testデータに対して予測\n",
    "\n",
    "#print(\"α = {}\".format(clf.alpha_))\n",
    "#print(\"ω = {}\".format(clf.coef_))\n",
    "#print(\"b = {}\".format(clf.intercept_))\n",
    "\n",
    "print(best_param)\n",
    "print(\"Score = {}\".format(clf.score(X_train, y_train)))\n",
    "print(\"MAE = {}\".format(mean_absolute_error(y_train, y_rf_pred)))"
   ]
  },
  {
   "cell_type": "code",
   "execution_count": 22,
   "id": "c96703e1",
   "metadata": {},
   "outputs": [
    {
     "name": "stdout",
     "output_type": "stream",
     "text": [
      "{'alpha': 0.1995262314968793}\n",
      "R^2 = 0.6927406357630592\n",
      "MAE = 7.466346799275585\n"
     ]
    }
   ],
   "source": [
    "# Lasso 交差検証準備\n",
    "# clf = LassoCV(alphas=10 ** np.arange(-6, 1, 0.1), cv = 5)\n",
    "\n",
    "params_grid = {\n",
    "    'alpha': 10 ** np.arange(-6, 1, 0.1)\n",
    "}\n",
    "# パラメータチューニング\n",
    "clf = GridSearchCV(\n",
    "    estimator = Lasso(),\n",
    "    param_grid = params_grid,\n",
    "    cv = 5,\n",
    "    n_jobs = -1\n",
    "    )\n",
    "# 線形モデルの重みを学習\n",
    "clf.fit(X_train_scaler, y_train) \n",
    "\n",
    "# チューニングしたモデル\n",
    "best_param = clf.best_params_\n",
    "lasso_tuned = clf.best_estimator_\n",
    "\n",
    "# 予測値を反映\n",
    "y_lasso_pred = lasso_tuned.predict(X_train_scaler) # Trainデータに対して予測\n",
    "y_lasso_test_pred = lasso_tuned.predict(X_test_scaler) # Testデータに対して予測\n",
    "\n",
    "#print(\"α = {}\".format(clf.alpha_))\n",
    "#print(\"ω = {}\".format(clf.coef_))\n",
    "#print(\"b = {}\".format(clf.intercept_))\n",
    "print(best_param)\n",
    "print(\"R^2 = {}\".format(clf.score(X_train_scaler, y_train)))\n",
    "print(\"MAE = {}\".format(mean_absolute_error(y_train, y_lasso_pred)))"
   ]
  },
  {
   "cell_type": "code",
   "execution_count": 23,
   "id": "beaf3269",
   "metadata": {},
   "outputs": [
    {
     "name": "stdout",
     "output_type": "stream",
     "text": [
      "{'alpha': 1e-06}\n",
      "R^2 = 0.6937089379958357\n",
      "MAE = 7.442459218888964\n"
     ]
    }
   ],
   "source": [
    "params_grid = {\n",
    "    'alpha': 10 ** np.arange(-6, 1, 0.1)\n",
    "}\n",
    "# パラメータチューニング\n",
    "clf = GridSearchCV(\n",
    "    estimator = Ridge(),\n",
    "    param_grid = params_grid,\n",
    "    cv = 5,\n",
    "    n_jobs = -1\n",
    "    )\n",
    "# 線形モデルの重みを学習\n",
    "clf.fit(X_train_scaler, y_train) \n",
    "\n",
    "# チューニングしたモデル\n",
    "best_param = clf.best_params_\n",
    "ridge_tuned = clf.best_estimator_\n",
    "\n",
    "# 予測値を反映\n",
    "y_ridge_pred = ridge_tuned.predict(X_train_scaler) # Trainデータに対して予測\n",
    "y_ridge_test_pred = ridge_tuned.predict(X_test_scaler) # Testデータに対して予測\n",
    "\n",
    "#print(\"α = {}\".format(clf.alpha_))\n",
    "#print(\"ω = {}\".format(clf.coef_))\n",
    "#print(\"b = {}\".format(clf.intercept_))\n",
    "print(best_param)\n",
    "print(\"R^2 = {}\".format(clf.score(X_train_scaler, y_train)))\n",
    "print(\"MAE = {}\".format(mean_absolute_error(y_train, y_ridge_pred)))"
   ]
  },
  {
   "cell_type": "code",
   "execution_count": 24,
   "id": "b73d204e",
   "metadata": {},
   "outputs": [],
   "source": [
    "y_total_pred = (y_lasso_pred + y_ridge_pred + y_rf_pred)/3"
   ]
  },
  {
   "cell_type": "code",
   "execution_count": 25,
   "id": "a0c4f1b3",
   "metadata": {},
   "outputs": [
    {
     "data": {
      "image/png": "[encoded data removed]",
      "text/plain": [
       "<Figure size 432x288 with 1 Axes>"
      ]
     },
     "metadata": {
      "needs_background": "light"
     },
     "output_type": "display_data"
    }
   ],
   "source": [
    "plt.scatter(y_train, y_lasso_pred)\n",
    "plt.scatter(y_train, y_ridge_pred)\n",
    "plt.scatter(y_train, y_rf_pred)\n",
    "plt.scatter(y_train, y_total_pred)\n",
    "\n",
    "\n",
    "plt.title(\"Prediction vs Valid data for SalePrice\")\n",
    "plt.xlabel(\"Prediction\")\n",
    "plt.ylabel(\"Expected value\")\n",
    "# Fitting line\n",
    "x = np.arange(0, max(y_train))\n",
    "y = x\n",
    "plt.plot(x,y,color='red')\n",
    "\n",
    "# MAE\n",
    "result_mae = mean_absolute_error(y_train, y_total_pred)\n",
    "#result_rmsle = rmsle(y_train.values, y_lgb_oof_train)\n",
    "\n",
    "plt.text(1, max(y_train), 'MAE = {}'.format(result_mae))\n",
    "\n",
    "# Grid on\n",
    "plt.grid(True)"
   ]
  },
  {
   "cell_type": "code",
   "execution_count": 26,
   "id": "158b7070",
   "metadata": {},
   "outputs": [],
   "source": [
    "submit_sample[1] = (y_lasso_test_pred + y_ridge_test_pred + y_rf_test_pred)/3\n",
    "submit_sample.to_csv('submit.csv',index = False,  header=None)"
   ]
  },
  {
   "cell_type": "code",
   "execution_count": 27,
   "id": "2c89027d",
   "metadata": {},
   "outputs": [
    {
     "data": {
      "text/html": [
       "<div>\n",
       "<style scoped>\n",
       "    .dataframe tbody tr th:only-of-type {\n",
       "        vertical-align: middle;\n",
       "    }\n",
       "\n",
       "    .dataframe tbody tr th {\n",
       "        vertical-align: top;\n",
       "    }\n",
       "\n",
       "    .dataframe thead th {\n",
       "        text-align: right;\n",
       "    }\n",
       "</style>\n",
       "<table border=\"1\" class=\"dataframe\">\n",
       "  <thead>\n",
       "    <tr style=\"text-align: right;\">\n",
       "      <th></th>\n",
       "      <th>0</th>\n",
       "      <th>1</th>\n",
       "    </tr>\n",
       "  </thead>\n",
       "  <tbody>\n",
       "    <tr>\n",
       "      <th>0</th>\n",
       "      <td>2016-04-01</td>\n",
       "      <td>64.250061</td>\n",
       "    </tr>\n",
       "    <tr>\n",
       "      <th>1</th>\n",
       "      <td>2016-04-02</td>\n",
       "      <td>76.147495</td>\n",
       "    </tr>\n",
       "    <tr>\n",
       "      <th>2</th>\n",
       "      <td>2016-04-03</td>\n",
       "      <td>56.293795</td>\n",
       "    </tr>\n",
       "    <tr>\n",
       "      <th>3</th>\n",
       "      <td>2016-04-04</td>\n",
       "      <td>52.790557</td>\n",
       "    </tr>\n",
       "    <tr>\n",
       "      <th>4</th>\n",
       "      <td>2016-04-05</td>\n",
       "      <td>51.166815</td>\n",
       "    </tr>\n",
       "  </tbody>\n",
       "</table>\n",
       "</div>"
      ],
      "text/plain": [
       "            0          1\n",
       "0  2016-04-01  64.250061\n",
       "1  2016-04-02  76.147495\n",
       "2  2016-04-03  56.293795\n",
       "3  2016-04-04  52.790557\n",
       "4  2016-04-05  51.166815"
      ]
     },
     "execution_count": 27,
     "metadata": {},
     "output_type": "execute_result"
    }
   ],
   "source": [
    "submit_sample.head()"
   ]
  },
  {
   "cell_type": "code",
   "execution_count": null,
   "id": "301ede44",
   "metadata": {},
   "outputs": [],
   "source": []
  }
 ],
 "metadata": {
  "kernelspec": {
   "display_name": "Python 3",
   "language": "python",
   "name": "python3"
  },
  "language_info": {
   "codemirror_mode": {
    "name": "ipython",
    "version": 3
   },
   "file_extension": ".py",
   "mimetype": "text/x-python",
   "name": "python",
   "nbconvert_exporter": "python",
   "pygments_lexer": "ipython3",
   "version": "3.8.8"
  }
 },
 "nbformat": 4,
 "nbformat_minor": 5
}
