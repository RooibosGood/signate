{
 "cells": [
  {
   "cell_type": "code",
   "execution_count": 1,
   "id": "ed133a50",
   "metadata": {},
   "outputs": [],
   "source": [
    "import numpy as np # linear algebra\n",
    "import pandas as pd # data processing, CSV file I/O (e.g. pd.read_csv)\n",
    "import datetime as dt\n",
    "import seaborn as sns\n",
    "import matplotlib.pyplot as plt\n",
    "import seaborn as sns\n",
    "from scipy.stats import norm\n",
    "import statsmodels.api as sm\n",
    "import scipy.stats as stats\n",
    "from sklearn.metrics import mean_absolute_error"
   ]
  },
  {
   "cell_type": "code",
   "execution_count": 2,
   "id": "90aaf563",
   "metadata": {
    "scrolled": true
   },
   "outputs": [
    {
     "name": "stdout",
     "output_type": "stream",
     "text": [
      "<class 'pandas.core.frame.DataFrame'>\n",
      "Int64Index: 2466 entries, 0 to 364\n",
      "Data columns (total 6 columns):\n",
      " #   Column    Non-Null Count  Dtype         \n",
      "---  ------    --------------  -----         \n",
      " 0   datetime  2466 non-null   datetime64[ns]\n",
      " 1   y         2101 non-null   float64       \n",
      " 2   client    2466 non-null   int64         \n",
      " 3   close     2466 non-null   int64         \n",
      " 4   price_am  2466 non-null   int64         \n",
      " 5   price_pm  2466 non-null   int64         \n",
      "dtypes: datetime64[ns](1), float64(1), int64(4)\n",
      "memory usage: 134.9 KB\n"
     ]
    },
    {
     "data": {
      "text/html": [
       "<div>\n",
       "<style scoped>\n",
       "    .dataframe tbody tr th:only-of-type {\n",
       "        vertical-align: middle;\n",
       "    }\n",
       "\n",
       "    .dataframe tbody tr th {\n",
       "        vertical-align: top;\n",
       "    }\n",
       "\n",
       "    .dataframe thead th {\n",
       "        text-align: right;\n",
       "    }\n",
       "</style>\n",
       "<table border=\"1\" class=\"dataframe\">\n",
       "  <thead>\n",
       "    <tr style=\"text-align: right;\">\n",
       "      <th></th>\n",
       "      <th>datetime</th>\n",
       "      <th>y</th>\n",
       "      <th>client</th>\n",
       "      <th>close</th>\n",
       "      <th>price_am</th>\n",
       "      <th>price_pm</th>\n",
       "    </tr>\n",
       "  </thead>\n",
       "  <tbody>\n",
       "    <tr>\n",
       "      <th>0</th>\n",
       "      <td>2010-07-01</td>\n",
       "      <td>17.0</td>\n",
       "      <td>0</td>\n",
       "      <td>0</td>\n",
       "      <td>-1</td>\n",
       "      <td>-1</td>\n",
       "    </tr>\n",
       "    <tr>\n",
       "      <th>1</th>\n",
       "      <td>2010-07-02</td>\n",
       "      <td>18.0</td>\n",
       "      <td>0</td>\n",
       "      <td>0</td>\n",
       "      <td>-1</td>\n",
       "      <td>-1</td>\n",
       "    </tr>\n",
       "    <tr>\n",
       "      <th>2</th>\n",
       "      <td>2010-07-03</td>\n",
       "      <td>20.0</td>\n",
       "      <td>0</td>\n",
       "      <td>0</td>\n",
       "      <td>-1</td>\n",
       "      <td>-1</td>\n",
       "    </tr>\n",
       "    <tr>\n",
       "      <th>3</th>\n",
       "      <td>2010-07-04</td>\n",
       "      <td>20.0</td>\n",
       "      <td>0</td>\n",
       "      <td>0</td>\n",
       "      <td>-1</td>\n",
       "      <td>-1</td>\n",
       "    </tr>\n",
       "    <tr>\n",
       "      <th>4</th>\n",
       "      <td>2010-07-05</td>\n",
       "      <td>14.0</td>\n",
       "      <td>0</td>\n",
       "      <td>0</td>\n",
       "      <td>-1</td>\n",
       "      <td>-1</td>\n",
       "    </tr>\n",
       "    <tr>\n",
       "      <th>5</th>\n",
       "      <td>2010-07-06</td>\n",
       "      <td>14.0</td>\n",
       "      <td>0</td>\n",
       "      <td>0</td>\n",
       "      <td>-1</td>\n",
       "      <td>-1</td>\n",
       "    </tr>\n",
       "    <tr>\n",
       "      <th>6</th>\n",
       "      <td>2010-07-07</td>\n",
       "      <td>4.0</td>\n",
       "      <td>0</td>\n",
       "      <td>0</td>\n",
       "      <td>-1</td>\n",
       "      <td>-1</td>\n",
       "    </tr>\n",
       "    <tr>\n",
       "      <th>7</th>\n",
       "      <td>2010-07-08</td>\n",
       "      <td>10.0</td>\n",
       "      <td>0</td>\n",
       "      <td>0</td>\n",
       "      <td>-1</td>\n",
       "      <td>-1</td>\n",
       "    </tr>\n",
       "    <tr>\n",
       "      <th>8</th>\n",
       "      <td>2010-07-09</td>\n",
       "      <td>12.0</td>\n",
       "      <td>0</td>\n",
       "      <td>0</td>\n",
       "      <td>-1</td>\n",
       "      <td>-1</td>\n",
       "    </tr>\n",
       "    <tr>\n",
       "      <th>9</th>\n",
       "      <td>2010-07-10</td>\n",
       "      <td>21.0</td>\n",
       "      <td>0</td>\n",
       "      <td>0</td>\n",
       "      <td>-1</td>\n",
       "      <td>-1</td>\n",
       "    </tr>\n",
       "  </tbody>\n",
       "</table>\n",
       "</div>"
      ],
      "text/plain": [
       "    datetime     y  client  close  price_am  price_pm\n",
       "0 2010-07-01  17.0       0      0        -1        -1\n",
       "1 2010-07-02  18.0       0      0        -1        -1\n",
       "2 2010-07-03  20.0       0      0        -1        -1\n",
       "3 2010-07-04  20.0       0      0        -1        -1\n",
       "4 2010-07-05  14.0       0      0        -1        -1\n",
       "5 2010-07-06  14.0       0      0        -1        -1\n",
       "6 2010-07-07   4.0       0      0        -1        -1\n",
       "7 2010-07-08  10.0       0      0        -1        -1\n",
       "8 2010-07-09  12.0       0      0        -1        -1\n",
       "9 2010-07-10  21.0       0      0        -1        -1"
      ]
     },
     "execution_count": 2,
     "metadata": {},
     "output_type": "execute_result"
    }
   ],
   "source": [
    "train=pd.read_csv(\"./train.csv\", parse_dates=[0]) # 日付をdatetime型で取得\n",
    "test=pd.read_csv(\"./test.csv\", parse_dates=[0])\n",
    "submit_sample=pd.read_csv(\"./sample_submit.csv\", header=None)\n",
    "\n",
    "df = pd.concat([train, test], sort=False)\n",
    "df.info()\n",
    "df.head(10)"
   ]
  },
  {
   "cell_type": "code",
   "execution_count": 3,
   "id": "46b5d537",
   "metadata": {
    "scrolled": true
   },
   "outputs": [
    {
     "data": {
      "text/html": [
       "<div>\n",
       "<style scoped>\n",
       "    .dataframe tbody tr th:only-of-type {\n",
       "        vertical-align: middle;\n",
       "    }\n",
       "\n",
       "    .dataframe tbody tr th {\n",
       "        vertical-align: top;\n",
       "    }\n",
       "\n",
       "    .dataframe thead th {\n",
       "        text-align: right;\n",
       "    }\n",
       "</style>\n",
       "<table border=\"1\" class=\"dataframe\">\n",
       "  <thead>\n",
       "    <tr style=\"text-align: right;\">\n",
       "      <th></th>\n",
       "      <th>datetime</th>\n",
       "      <th>y</th>\n",
       "      <th>client</th>\n",
       "      <th>close</th>\n",
       "      <th>price_am</th>\n",
       "      <th>price_pm</th>\n",
       "    </tr>\n",
       "  </thead>\n",
       "  <tbody>\n",
       "    <tr>\n",
       "      <th>0</th>\n",
       "      <td>2010-07-01</td>\n",
       "      <td>17.0</td>\n",
       "      <td>0</td>\n",
       "      <td>0</td>\n",
       "      <td>NaN</td>\n",
       "      <td>NaN</td>\n",
       "    </tr>\n",
       "    <tr>\n",
       "      <th>1</th>\n",
       "      <td>2010-07-02</td>\n",
       "      <td>18.0</td>\n",
       "      <td>0</td>\n",
       "      <td>0</td>\n",
       "      <td>NaN</td>\n",
       "      <td>NaN</td>\n",
       "    </tr>\n",
       "    <tr>\n",
       "      <th>2</th>\n",
       "      <td>2010-07-03</td>\n",
       "      <td>20.0</td>\n",
       "      <td>0</td>\n",
       "      <td>0</td>\n",
       "      <td>NaN</td>\n",
       "      <td>NaN</td>\n",
       "    </tr>\n",
       "    <tr>\n",
       "      <th>3</th>\n",
       "      <td>2010-07-04</td>\n",
       "      <td>20.0</td>\n",
       "      <td>0</td>\n",
       "      <td>0</td>\n",
       "      <td>NaN</td>\n",
       "      <td>NaN</td>\n",
       "    </tr>\n",
       "    <tr>\n",
       "      <th>4</th>\n",
       "      <td>2010-07-05</td>\n",
       "      <td>14.0</td>\n",
       "      <td>0</td>\n",
       "      <td>0</td>\n",
       "      <td>NaN</td>\n",
       "      <td>NaN</td>\n",
       "    </tr>\n",
       "  </tbody>\n",
       "</table>\n",
       "</div>"
      ],
      "text/plain": [
       "    datetime     y  client  close  price_am  price_pm\n",
       "0 2010-07-01  17.0       0      0       NaN       NaN\n",
       "1 2010-07-02  18.0       0      0       NaN       NaN\n",
       "2 2010-07-03  20.0       0      0       NaN       NaN\n",
       "3 2010-07-04  20.0       0      0       NaN       NaN\n",
       "4 2010-07-05  14.0       0      0       NaN       NaN"
      ]
     },
     "execution_count": 3,
     "metadata": {},
     "output_type": "execute_result"
    }
   ],
   "source": [
    "df.loc[df['price_am'] == -1, 'price_am'] = np.nan\n",
    "df.loc[df['price_pm'] == -1, 'price_pm'] = np.nan\n",
    "df.head()"
   ]
  },
  {
   "cell_type": "code",
   "execution_count": 4,
   "id": "47bf5de8",
   "metadata": {},
   "outputs": [],
   "source": [
    "### datimeをdatetime64[ns]型に変更。"
   ]
  },
  {
   "cell_type": "code",
   "execution_count": 5,
   "id": "2e65607d",
   "metadata": {},
   "outputs": [],
   "source": [
    "#df['datetime'] = df.datetime.map(dt.datetime.timestamp)\n",
    "#df['datetime'] = df['datetime'].dt.to_pydatetime()\n",
    "df['year'] = df['datetime'].dt.year\n",
    "df['month'] = df['datetime'].dt.month\n",
    "df['day'] = df['datetime'].dt.day\n",
    "df['weekday'] = df['datetime'].dt.weekday"
   ]
  },
  {
   "cell_type": "code",
   "execution_count": 6,
   "id": "9fb8dc3e",
   "metadata": {},
   "outputs": [],
   "source": [
    "#df=df.drop(['datetime','year'], axis=1)\n",
    "df=df.drop(['datetime'], axis=1)"
   ]
  },
  {
   "cell_type": "markdown",
   "id": "aec2f043",
   "metadata": {},
   "source": [
    "### Fill na"
   ]
  },
  {
   "cell_type": "code",
   "execution_count": 7,
   "id": "f3bd6e92",
   "metadata": {},
   "outputs": [],
   "source": [
    "df['price_am'] = df.groupby(['month', 'weekday'])['price_am'].transform(lambda x: x.fillna(x.mean()))\n",
    "df['price_pm'] = df.groupby(['month', 'weekday'])['price_pm'].transform(lambda x: x.fillna(x.mean()))"
   ]
  },
  {
   "cell_type": "markdown",
   "id": "fb7d7109",
   "metadata": {},
   "source": [
    "### New features"
   ]
  },
  {
   "cell_type": "code",
   "execution_count": 8,
   "id": "a8df3091",
   "metadata": {},
   "outputs": [],
   "source": [
    "df['price'] = (df['price_am'] + df['price_pm'])/2"
   ]
  },
  {
   "cell_type": "code",
   "execution_count": 9,
   "id": "b9416d49",
   "metadata": {},
   "outputs": [
    {
     "name": "stdout",
     "output_type": "stream",
     "text": [
      "<class 'pandas.core.frame.DataFrame'>\n",
      "Int64Index: 2466 entries, 0 to 364\n",
      "Data columns (total 10 columns):\n",
      " #   Column    Non-Null Count  Dtype  \n",
      "---  ------    --------------  -----  \n",
      " 0   y         2101 non-null   float64\n",
      " 1   client    2466 non-null   int64  \n",
      " 2   close     2466 non-null   int64  \n",
      " 3   price_am  2466 non-null   float64\n",
      " 4   price_pm  2466 non-null   float64\n",
      " 5   year      2466 non-null   int64  \n",
      " 6   month     2466 non-null   int64  \n",
      " 7   day       2466 non-null   int64  \n",
      " 8   weekday   2466 non-null   int64  \n",
      " 9   price     2466 non-null   float64\n",
      "dtypes: float64(4), int64(6)\n",
      "memory usage: 211.9 KB\n"
     ]
    }
   ],
   "source": [
    "df.info()"
   ]
  },
  {
   "cell_type": "code",
   "execution_count": 10,
   "id": "95485b72",
   "metadata": {},
   "outputs": [],
   "source": [
    "df['client'] = df['client'].astype(str)\n",
    "df['close'] = df['close'].astype(str)\n",
    "df['month'] = df['month'].astype(str)\n",
    "df['weekday'] = df['weekday'].astype(str)"
   ]
  },
  {
   "cell_type": "code",
   "execution_count": 11,
   "id": "fd1bb85c",
   "metadata": {},
   "outputs": [
    {
     "name": "stdout",
     "output_type": "stream",
     "text": [
      "               price_am  price_pm          y\n",
      "month weekday                               \n",
      "1     0        0.142857  0.000000  23.423077\n",
      "      1        0.107143  0.071429  21.846154\n",
      "      2        0.035714  0.000000  22.692308\n",
      "      3        0.178571  0.107143  21.296296\n",
      "      4        0.285714  0.178571  27.444444\n",
      "      5        0.892857  0.464286  36.296296\n",
      "      6        0.428571  0.250000  32.666667\n",
      "10    0        0.518519  0.192308  28.538462\n",
      "      1        0.192308  0.076923  25.769231\n",
      "      2        0.185185  0.074074  28.148148\n",
      "      3        0.222222  0.148148  29.481481\n",
      "      4        0.500000  0.269231  32.222222\n",
      "      5        1.629630  1.111111  39.000000\n",
      "      6        1.346154  0.730769  35.269231\n",
      "11    0        0.120000  0.040000  28.576923\n",
      "      1        0.153846  0.076923  24.000000\n",
      "      2        0.153846  0.076923  24.280000\n",
      "      3        0.160000  0.080000  26.120000\n",
      "      4        0.423077  0.269231  32.269231\n",
      "      5        1.423077  1.000000  38.884615\n",
      "      6        0.807692  0.538462  33.076923\n",
      "12    0        0.384615  0.269231  33.888889\n",
      "      1        0.346154  0.153846  28.962963\n",
      "      2        0.040000  0.000000  29.370370\n",
      "      3        0.269231  0.115385  27.740741\n",
      "      4        0.692308  0.538462  31.538462\n",
      "      5        1.600000  1.240000  38.653846\n",
      "      6        1.192308  0.807692  37.923077\n",
      "2     0        0.586207  0.344828  40.160000\n",
      "      1        0.357143  0.178571  34.083333\n",
      "      2        0.379310  0.206897  34.440000\n",
      "      3        0.357143  0.142857  34.041667\n",
      "      4        0.821429  0.500000  39.083333\n",
      "      5        2.071429  1.535714  46.416667\n",
      "      6        1.392857  0.892857  43.000000\n",
      "3     0        1.933333  1.666667  58.576923\n",
      "      1        2.000000  1.580645  59.185185\n",
      "      2        1.838710  1.709677  56.500000\n",
      "      3        2.031250  1.656250  56.814815\n",
      "      4        2.096774  2.032258  58.038462\n",
      "      5        3.096774  2.741935  59.407407\n",
      "      6        2.677419  2.258065  57.481481\n",
      "4     0        0.730769  0.538462  39.954545\n",
      "      1        0.692308  0.461538  36.863636\n",
      "      2        0.615385  0.384615  36.909091\n",
      "      3        0.400000  0.280000  36.095238\n",
      "      4        1.076923  0.730769  41.047619\n",
      "      5        2.923077  2.423077  46.523810\n",
      "      6        2.120000  1.480000  45.190476\n",
      "5     0        0.307692  0.076923  28.857143\n",
      "      1        0.222222  0.074074  25.409091\n",
      "      2        0.192308  0.076923  25.909091\n",
      "      3        0.259259  0.111111  27.608696\n",
      "      4        0.629630  0.407407  31.347826\n",
      "      5        1.423077  0.961538  36.954545\n",
      "      6        0.962963  0.481481  31.863636\n",
      "6     0        0.230769  0.115385  30.909091\n",
      "      1        0.120000  0.040000  25.761905\n",
      "      2        0.153846  0.038462  21.952381\n",
      "      3        0.230769  0.153846  26.380952\n",
      "      4        0.480000  0.280000  30.666667\n",
      "      5        1.423077  1.153846  45.000000\n",
      "      6        1.115385  0.461538  38.636364\n",
      "7     0        0.346154  0.192308  29.423077\n",
      "      1        0.333333  0.148148  27.333333\n",
      "      2        0.259259  0.111111  25.814815\n",
      "      3        0.192308  0.076923  24.629630\n",
      "      4        0.692308  0.423077  27.814815\n",
      "      5        1.807692  1.192308  36.500000\n",
      "      6        1.407407  0.925926  35.230769\n",
      "8     0        0.153846  0.038462  29.481481\n",
      "      1        0.083333  0.041667  25.076923\n",
      "      2        0.076923  0.076923  23.730769\n",
      "      3        0.153846  0.038462  28.346154\n",
      "      4        0.370370  0.185185  31.111111\n",
      "      5        1.148148  0.851852  35.851852\n",
      "      6        0.730769  0.384615  31.296296\n",
      "9     0        0.538462  0.269231  34.076923\n",
      "      1        0.346154  0.192308  30.807692\n",
      "      2        0.200000  0.120000  27.500000\n",
      "      3        0.307692  0.115385  27.807692\n",
      "      4        0.576923  0.384615  30.320000\n",
      "      5        1.800000  1.200000  36.920000\n",
      "      6        1.500000  1.115385  38.807692\n",
      "      price_am  price_pm          y\n",
      "year                               \n",
      "2010  0.600323  0.374156  16.298913\n",
      "2011  0.788374  0.546766  18.991781\n",
      "2012  0.721484  0.498882  30.500000\n",
      "2013  0.731018  0.474989  40.320548\n",
      "2014  0.837324  0.581719  39.665753\n",
      "2015  0.774530  0.501212  44.597260\n",
      "2016  0.798608  0.579712  55.714286\n",
      "2017  1.218651  1.070238        NaN\n"
     ]
    },
    {
     "name": "stderr",
     "output_type": "stream",
     "text": [
      "<ipython-input-11-ab1e28b0b82f>:2: FutureWarning: Indexing with multiple keys (implicitly converted to a tuple of keys) will be deprecated, use a list instead.\n",
      "  print(df.groupby(['month', 'weekday'])['price_am','price_pm','y'].mean())\n",
      "<ipython-input-11-ab1e28b0b82f>:3: FutureWarning: Indexing with multiple keys (implicitly converted to a tuple of keys) will be deprecated, use a list instead.\n",
      "  print(df.groupby(['year'])['price_am','price_pm','y'].mean())\n"
     ]
    }
   ],
   "source": [
    "pd.set_option('display.max_rows', None)\n",
    "print(df.groupby(['month', 'weekday'])['price_am','price_pm','y'].mean())\n",
    "print(df.groupby(['year'])['price_am','price_pm','y'].mean())"
   ]
  },
  {
   "cell_type": "code",
   "execution_count": 12,
   "id": "fb8cd5ec",
   "metadata": {},
   "outputs": [
    {
     "name": "stdout",
     "output_type": "stream",
     "text": [
      "CategoricaL:\n",
      "['client', 'close', 'month', 'weekday']\n",
      "\n",
      "NumericaL:\n",
      "['y', 'price_am', 'price_pm', 'year', 'day', 'price']\n"
     ]
    }
   ],
   "source": [
    "#divide dataset into two parts(categorical, contineous)\n",
    "categorical, numerical = [],[]\n",
    "for z in df.columns:\n",
    "    t = df.dtypes[z]\n",
    "    if t=='object':\n",
    "        categorical.append(z)\n",
    "    else:\n",
    "        numerical.append(z)\n",
    "print(\"CategoricaL:\\n{}\".format(categorical))\n",
    "print(\"\\nNumericaL:\\n{}\".format(numerical))"
   ]
  },
  {
   "cell_type": "markdown",
   "id": "e42b0f4f",
   "metadata": {},
   "source": [
    "### Pandas Profining"
   ]
  },
  {
   "cell_type": "code",
   "execution_count": 13,
   "id": "9a53ae89",
   "metadata": {},
   "outputs": [],
   "source": [
    "#import pandas_profiling\n",
    "\n",
    "#df.profile_report()"
   ]
  },
  {
   "cell_type": "markdown",
   "id": "d3e90125",
   "metadata": {},
   "source": [
    "### Heat map for Correlation coefficient"
   ]
  },
  {
   "cell_type": "code",
   "execution_count": 14,
   "id": "190c7b43",
   "metadata": {},
   "outputs": [
    {
     "data": {
      "text/plain": [
       "<AxesSubplot:>"
      ]
     },
     "execution_count": 14,
     "metadata": {},
     "output_type": "execute_result"
    },
    {
     "data": {
      "image/png": "[encoded data removed]",
      "text/plain": [
       "<Figure size 1080x1080 with 2 Axes>"
      ]
     },
     "metadata": {
      "needs_background": "light"
     },
     "output_type": "display_data"
    }
   ],
   "source": [
    "df_corr = df.corr()\n",
    "plt.figure(figsize=(15, 15)) \n",
    "sns.heatmap(df_corr, vmax=1, vmin=-1, center=0, square=True, annot=True)"
   ]
  },
  {
   "cell_type": "markdown",
   "id": "2a9bb8be",
   "metadata": {},
   "source": [
    "### Histogram"
   ]
  },
  {
   "cell_type": "code",
   "execution_count": 15,
   "id": "a25fb876",
   "metadata": {},
   "outputs": [
    {
     "name": "stderr",
     "output_type": "stream",
     "text": [
      "C:\\anaconda\\lib\\site-packages\\seaborn\\distributions.py:2557: FutureWarning: `distplot` is a deprecated function and will be removed in a future version. Please adapt your code to use either `displot` (a figure-level function with similar flexibility) or `histplot` (an axes-level function for histograms).\n",
      "  warnings.warn(msg, FutureWarning)\n",
      "No handles with labels found to put in legend.\n"
     ]
    },
    {
     "data": {
      "image/png": "[encoded data removed]",
      "text/plain": [
       "<Figure size 1080x360 with 2 Axes>"
      ]
     },
     "metadata": {
      "needs_background": "light"
     },
     "output_type": "display_data"
    }
   ],
   "source": [
    "fig, ax = plt.subplots(1,2, figsize= (15,5))\n",
    "# Histogram\n",
    "sns.distplot(\n",
    "    train['y'], label='y',\n",
    "    kde_kws={'label': 'kde','color':'k'},\n",
    "    fit=norm,fit_kws={'label': 'norm','color':'red'},\n",
    "    ax = ax[0]\n",
    ")\n",
    "ax[0].set_title(\"Histogram\")\n",
    "ax[0].grid(True)\n",
    "\n",
    "# QQplot\n",
    "sm.qqplot(train['y'], stats.t, distargs=(4,),fit=True, line=\"45\", ax = ax[1])\n",
    "ax[1].set_title(\"QQplot\")\n",
    "ax[1].grid(True)\n",
    "\n",
    "plt.legend() # 凡例を表示\n",
    "plt.show() #グラフ表示"
   ]
  },
  {
   "cell_type": "markdown",
   "id": "5c865681",
   "metadata": {},
   "source": [
    "### Dummy"
   ]
  },
  {
   "cell_type": "code",
   "execution_count": 16,
   "id": "f2a7588f",
   "metadata": {},
   "outputs": [],
   "source": [
    "df =pd.get_dummies(df, columns=categorical, drop_first=True)"
   ]
  },
  {
   "cell_type": "code",
   "execution_count": 17,
   "id": "73286739",
   "metadata": {},
   "outputs": [
    {
     "data": {
      "text/html": [
       "<div>\n",
       "<style scoped>\n",
       "    .dataframe tbody tr th:only-of-type {\n",
       "        vertical-align: middle;\n",
       "    }\n",
       "\n",
       "    .dataframe tbody tr th {\n",
       "        vertical-align: top;\n",
       "    }\n",
       "\n",
       "    .dataframe thead th {\n",
       "        text-align: right;\n",
       "    }\n",
       "</style>\n",
       "<table border=\"1\" class=\"dataframe\">\n",
       "  <thead>\n",
       "    <tr style=\"text-align: right;\">\n",
       "      <th></th>\n",
       "      <th>y</th>\n",
       "      <th>price_am</th>\n",
       "      <th>price_pm</th>\n",
       "      <th>year</th>\n",
       "      <th>day</th>\n",
       "      <th>price</th>\n",
       "      <th>client_1</th>\n",
       "      <th>close_1</th>\n",
       "      <th>month_10</th>\n",
       "      <th>month_11</th>\n",
       "      <th>...</th>\n",
       "      <th>month_6</th>\n",
       "      <th>month_7</th>\n",
       "      <th>month_8</th>\n",
       "      <th>month_9</th>\n",
       "      <th>weekday_1</th>\n",
       "      <th>weekday_2</th>\n",
       "      <th>weekday_3</th>\n",
       "      <th>weekday_4</th>\n",
       "      <th>weekday_5</th>\n",
       "      <th>weekday_6</th>\n",
       "    </tr>\n",
       "  </thead>\n",
       "  <tbody>\n",
       "    <tr>\n",
       "      <th>0</th>\n",
       "      <td>17.0</td>\n",
       "      <td>0.192308</td>\n",
       "      <td>0.076923</td>\n",
       "      <td>2010</td>\n",
       "      <td>1</td>\n",
       "      <td>0.134615</td>\n",
       "      <td>0</td>\n",
       "      <td>0</td>\n",
       "      <td>0</td>\n",
       "      <td>0</td>\n",
       "      <td>...</td>\n",
       "      <td>0</td>\n",
       "      <td>1</td>\n",
       "      <td>0</td>\n",
       "      <td>0</td>\n",
       "      <td>0</td>\n",
       "      <td>0</td>\n",
       "      <td>1</td>\n",
       "      <td>0</td>\n",
       "      <td>0</td>\n",
       "      <td>0</td>\n",
       "    </tr>\n",
       "    <tr>\n",
       "      <th>1</th>\n",
       "      <td>18.0</td>\n",
       "      <td>0.692308</td>\n",
       "      <td>0.423077</td>\n",
       "      <td>2010</td>\n",
       "      <td>2</td>\n",
       "      <td>0.557692</td>\n",
       "      <td>0</td>\n",
       "      <td>0</td>\n",
       "      <td>0</td>\n",
       "      <td>0</td>\n",
       "      <td>...</td>\n",
       "      <td>0</td>\n",
       "      <td>1</td>\n",
       "      <td>0</td>\n",
       "      <td>0</td>\n",
       "      <td>0</td>\n",
       "      <td>0</td>\n",
       "      <td>0</td>\n",
       "      <td>1</td>\n",
       "      <td>0</td>\n",
       "      <td>0</td>\n",
       "    </tr>\n",
       "    <tr>\n",
       "      <th>2</th>\n",
       "      <td>20.0</td>\n",
       "      <td>1.807692</td>\n",
       "      <td>1.192308</td>\n",
       "      <td>2010</td>\n",
       "      <td>3</td>\n",
       "      <td>1.500000</td>\n",
       "      <td>0</td>\n",
       "      <td>0</td>\n",
       "      <td>0</td>\n",
       "      <td>0</td>\n",
       "      <td>...</td>\n",
       "      <td>0</td>\n",
       "      <td>1</td>\n",
       "      <td>0</td>\n",
       "      <td>0</td>\n",
       "      <td>0</td>\n",
       "      <td>0</td>\n",
       "      <td>0</td>\n",
       "      <td>0</td>\n",
       "      <td>1</td>\n",
       "      <td>0</td>\n",
       "    </tr>\n",
       "    <tr>\n",
       "      <th>3</th>\n",
       "      <td>20.0</td>\n",
       "      <td>1.407407</td>\n",
       "      <td>0.925926</td>\n",
       "      <td>2010</td>\n",
       "      <td>4</td>\n",
       "      <td>1.166667</td>\n",
       "      <td>0</td>\n",
       "      <td>0</td>\n",
       "      <td>0</td>\n",
       "      <td>0</td>\n",
       "      <td>...</td>\n",
       "      <td>0</td>\n",
       "      <td>1</td>\n",
       "      <td>0</td>\n",
       "      <td>0</td>\n",
       "      <td>0</td>\n",
       "      <td>0</td>\n",
       "      <td>0</td>\n",
       "      <td>0</td>\n",
       "      <td>0</td>\n",
       "      <td>1</td>\n",
       "    </tr>\n",
       "    <tr>\n",
       "      <th>4</th>\n",
       "      <td>14.0</td>\n",
       "      <td>0.346154</td>\n",
       "      <td>0.192308</td>\n",
       "      <td>2010</td>\n",
       "      <td>5</td>\n",
       "      <td>0.269231</td>\n",
       "      <td>0</td>\n",
       "      <td>0</td>\n",
       "      <td>0</td>\n",
       "      <td>0</td>\n",
       "      <td>...</td>\n",
       "      <td>0</td>\n",
       "      <td>1</td>\n",
       "      <td>0</td>\n",
       "      <td>0</td>\n",
       "      <td>0</td>\n",
       "      <td>0</td>\n",
       "      <td>0</td>\n",
       "      <td>0</td>\n",
       "      <td>0</td>\n",
       "      <td>0</td>\n",
       "    </tr>\n",
       "    <tr>\n",
       "      <th>5</th>\n",
       "      <td>14.0</td>\n",
       "      <td>0.333333</td>\n",
       "      <td>0.148148</td>\n",
       "      <td>2010</td>\n",
       "      <td>6</td>\n",
       "      <td>0.240741</td>\n",
       "      <td>0</td>\n",
       "      <td>0</td>\n",
       "      <td>0</td>\n",
       "      <td>0</td>\n",
       "      <td>...</td>\n",
       "      <td>0</td>\n",
       "      <td>1</td>\n",
       "      <td>0</td>\n",
       "      <td>0</td>\n",
       "      <td>1</td>\n",
       "      <td>0</td>\n",
       "      <td>0</td>\n",
       "      <td>0</td>\n",
       "      <td>0</td>\n",
       "      <td>0</td>\n",
       "    </tr>\n",
       "    <tr>\n",
       "      <th>6</th>\n",
       "      <td>4.0</td>\n",
       "      <td>0.259259</td>\n",
       "      <td>0.111111</td>\n",
       "      <td>2010</td>\n",
       "      <td>7</td>\n",
       "      <td>0.185185</td>\n",
       "      <td>0</td>\n",
       "      <td>0</td>\n",
       "      <td>0</td>\n",
       "      <td>0</td>\n",
       "      <td>...</td>\n",
       "      <td>0</td>\n",
       "      <td>1</td>\n",
       "      <td>0</td>\n",
       "      <td>0</td>\n",
       "      <td>0</td>\n",
       "      <td>1</td>\n",
       "      <td>0</td>\n",
       "      <td>0</td>\n",
       "      <td>0</td>\n",
       "      <td>0</td>\n",
       "    </tr>\n",
       "    <tr>\n",
       "      <th>7</th>\n",
       "      <td>10.0</td>\n",
       "      <td>0.192308</td>\n",
       "      <td>0.076923</td>\n",
       "      <td>2010</td>\n",
       "      <td>8</td>\n",
       "      <td>0.134615</td>\n",
       "      <td>0</td>\n",
       "      <td>0</td>\n",
       "      <td>0</td>\n",
       "      <td>0</td>\n",
       "      <td>...</td>\n",
       "      <td>0</td>\n",
       "      <td>1</td>\n",
       "      <td>0</td>\n",
       "      <td>0</td>\n",
       "      <td>0</td>\n",
       "      <td>0</td>\n",
       "      <td>1</td>\n",
       "      <td>0</td>\n",
       "      <td>0</td>\n",
       "      <td>0</td>\n",
       "    </tr>\n",
       "    <tr>\n",
       "      <th>8</th>\n",
       "      <td>12.0</td>\n",
       "      <td>0.692308</td>\n",
       "      <td>0.423077</td>\n",
       "      <td>2010</td>\n",
       "      <td>9</td>\n",
       "      <td>0.557692</td>\n",
       "      <td>0</td>\n",
       "      <td>0</td>\n",
       "      <td>0</td>\n",
       "      <td>0</td>\n",
       "      <td>...</td>\n",
       "      <td>0</td>\n",
       "      <td>1</td>\n",
       "      <td>0</td>\n",
       "      <td>0</td>\n",
       "      <td>0</td>\n",
       "      <td>0</td>\n",
       "      <td>0</td>\n",
       "      <td>1</td>\n",
       "      <td>0</td>\n",
       "      <td>0</td>\n",
       "    </tr>\n",
       "    <tr>\n",
       "      <th>9</th>\n",
       "      <td>21.0</td>\n",
       "      <td>1.807692</td>\n",
       "      <td>1.192308</td>\n",
       "      <td>2010</td>\n",
       "      <td>10</td>\n",
       "      <td>1.500000</td>\n",
       "      <td>0</td>\n",
       "      <td>0</td>\n",
       "      <td>0</td>\n",
       "      <td>0</td>\n",
       "      <td>...</td>\n",
       "      <td>0</td>\n",
       "      <td>1</td>\n",
       "      <td>0</td>\n",
       "      <td>0</td>\n",
       "      <td>0</td>\n",
       "      <td>0</td>\n",
       "      <td>0</td>\n",
       "      <td>0</td>\n",
       "      <td>1</td>\n",
       "      <td>0</td>\n",
       "    </tr>\n",
       "  </tbody>\n",
       "</table>\n",
       "<p>10 rows × 25 columns</p>\n",
       "</div>"
      ],
      "text/plain": [
       "      y  price_am  price_pm  year  day     price  client_1  close_1  month_10  \\\n",
       "0  17.0  0.192308  0.076923  2010    1  0.134615         0        0         0   \n",
       "1  18.0  0.692308  0.423077  2010    2  0.557692         0        0         0   \n",
       "2  20.0  1.807692  1.192308  2010    3  1.500000         0        0         0   \n",
       "3  20.0  1.407407  0.925926  2010    4  1.166667         0        0         0   \n",
       "4  14.0  0.346154  0.192308  2010    5  0.269231         0        0         0   \n",
       "5  14.0  0.333333  0.148148  2010    6  0.240741         0        0         0   \n",
       "6   4.0  0.259259  0.111111  2010    7  0.185185         0        0         0   \n",
       "7  10.0  0.192308  0.076923  2010    8  0.134615         0        0         0   \n",
       "8  12.0  0.692308  0.423077  2010    9  0.557692         0        0         0   \n",
       "9  21.0  1.807692  1.192308  2010   10  1.500000         0        0         0   \n",
       "\n",
       "   month_11  ...  month_6  month_7  month_8  month_9  weekday_1  weekday_2  \\\n",
       "0         0  ...        0        1        0        0          0          0   \n",
       "1         0  ...        0        1        0        0          0          0   \n",
       "2         0  ...        0        1        0        0          0          0   \n",
       "3         0  ...        0        1        0        0          0          0   \n",
       "4         0  ...        0        1        0        0          0          0   \n",
       "5         0  ...        0        1        0        0          1          0   \n",
       "6         0  ...        0        1        0        0          0          1   \n",
       "7         0  ...        0        1        0        0          0          0   \n",
       "8         0  ...        0        1        0        0          0          0   \n",
       "9         0  ...        0        1        0        0          0          0   \n",
       "\n",
       "   weekday_3  weekday_4  weekday_5  weekday_6  \n",
       "0          1          0          0          0  \n",
       "1          0          1          0          0  \n",
       "2          0          0          1          0  \n",
       "3          0          0          0          1  \n",
       "4          0          0          0          0  \n",
       "5          0          0          0          0  \n",
       "6          0          0          0          0  \n",
       "7          1          0          0          0  \n",
       "8          0          1          0          0  \n",
       "9          0          0          1          0  \n",
       "\n",
       "[10 rows x 25 columns]"
      ]
     },
     "execution_count": 17,
     "metadata": {},
     "output_type": "execute_result"
    }
   ],
   "source": [
    "df.head(10)"
   ]
  },
  {
   "cell_type": "markdown",
   "id": "377e8c89",
   "metadata": {},
   "source": [
    "### Separate Data"
   ]
  },
  {
   "cell_type": "code",
   "execution_count": 18,
   "id": "0bae0102",
   "metadata": {},
   "outputs": [],
   "source": [
    "train = df[:len(train)]\n",
    "test = df[len(train):]"
   ]
  },
  {
   "cell_type": "code",
   "execution_count": 19,
   "id": "6eb73d4b",
   "metadata": {},
   "outputs": [],
   "source": [
    "y_train = train['y']\n",
    "X_train = train.drop(['y'], axis=1)\n",
    "X_test = test.drop(['y'], axis=1)"
   ]
  },
  {
   "cell_type": "code",
   "execution_count": 20,
   "id": "5b6391c2",
   "metadata": {},
   "outputs": [],
   "source": [
    "### 線形回帰"
   ]
  },
  {
   "cell_type": "code",
   "execution_count": 21,
   "id": "1fa31948",
   "metadata": {},
   "outputs": [],
   "source": [
    "from sklearn.linear_model import Lasso, Ridge, LassoCV, RidgeCV\n",
    "from sklearn.model_selection import GridSearchCV, cross_val_score, train_test_split\n",
    "from sklearn.svm import SVC\n",
    "from sklearn.preprocessing import StandardScaler"
   ]
  },
  {
   "cell_type": "code",
   "execution_count": 22,
   "id": "254a26ae",
   "metadata": {},
   "outputs": [
    {
     "name": "stdout",
     "output_type": "stream",
     "text": [
      "<class 'pandas.core.frame.DataFrame'>\n",
      "Int64Index: 2466 entries, 0 to 364\n",
      "Data columns (total 25 columns):\n",
      " #   Column     Non-Null Count  Dtype  \n",
      "---  ------     --------------  -----  \n",
      " 0   y          2101 non-null   float64\n",
      " 1   price_am   2466 non-null   float64\n",
      " 2   price_pm   2466 non-null   float64\n",
      " 3   year       2466 non-null   int64  \n",
      " 4   day        2466 non-null   int64  \n",
      " 5   price      2466 non-null   float64\n",
      " 6   client_1   2466 non-null   uint8  \n",
      " 7   close_1    2466 non-null   uint8  \n",
      " 8   month_10   2466 non-null   uint8  \n",
      " 9   month_11   2466 non-null   uint8  \n",
      " 10  month_12   2466 non-null   uint8  \n",
      " 11  month_2    2466 non-null   uint8  \n",
      " 12  month_3    2466 non-null   uint8  \n",
      " 13  month_4    2466 non-null   uint8  \n",
      " 14  month_5    2466 non-null   uint8  \n",
      " 15  month_6    2466 non-null   uint8  \n",
      " 16  month_7    2466 non-null   uint8  \n",
      " 17  month_8    2466 non-null   uint8  \n",
      " 18  month_9    2466 non-null   uint8  \n",
      " 19  weekday_1  2466 non-null   uint8  \n",
      " 20  weekday_2  2466 non-null   uint8  \n",
      " 21  weekday_3  2466 non-null   uint8  \n",
      " 22  weekday_4  2466 non-null   uint8  \n",
      " 23  weekday_5  2466 non-null   uint8  \n",
      " 24  weekday_6  2466 non-null   uint8  \n",
      "dtypes: float64(4), int64(2), uint8(19)\n",
      "memory usage: 180.6 KB\n"
     ]
    },
    {
     "data": {
      "text/html": [
       "<div>\n",
       "<style scoped>\n",
       "    .dataframe tbody tr th:only-of-type {\n",
       "        vertical-align: middle;\n",
       "    }\n",
       "\n",
       "    .dataframe tbody tr th {\n",
       "        vertical-align: top;\n",
       "    }\n",
       "\n",
       "    .dataframe thead th {\n",
       "        text-align: right;\n",
       "    }\n",
       "</style>\n",
       "<table border=\"1\" class=\"dataframe\">\n",
       "  <thead>\n",
       "    <tr style=\"text-align: right;\">\n",
       "      <th></th>\n",
       "      <th>y</th>\n",
       "      <th>price_am</th>\n",
       "      <th>price_pm</th>\n",
       "      <th>year</th>\n",
       "      <th>day</th>\n",
       "      <th>price</th>\n",
       "      <th>client_1</th>\n",
       "      <th>close_1</th>\n",
       "      <th>month_10</th>\n",
       "      <th>month_11</th>\n",
       "      <th>...</th>\n",
       "      <th>month_6</th>\n",
       "      <th>month_7</th>\n",
       "      <th>month_8</th>\n",
       "      <th>month_9</th>\n",
       "      <th>weekday_1</th>\n",
       "      <th>weekday_2</th>\n",
       "      <th>weekday_3</th>\n",
       "      <th>weekday_4</th>\n",
       "      <th>weekday_5</th>\n",
       "      <th>weekday_6</th>\n",
       "    </tr>\n",
       "  </thead>\n",
       "  <tbody>\n",
       "    <tr>\n",
       "      <th>0</th>\n",
       "      <td>17.0</td>\n",
       "      <td>0.192308</td>\n",
       "      <td>0.076923</td>\n",
       "      <td>2010</td>\n",
       "      <td>1</td>\n",
       "      <td>0.134615</td>\n",
       "      <td>0</td>\n",
       "      <td>0</td>\n",
       "      <td>0</td>\n",
       "      <td>0</td>\n",
       "      <td>...</td>\n",
       "      <td>0</td>\n",
       "      <td>1</td>\n",
       "      <td>0</td>\n",
       "      <td>0</td>\n",
       "      <td>0</td>\n",
       "      <td>0</td>\n",
       "      <td>1</td>\n",
       "      <td>0</td>\n",
       "      <td>0</td>\n",
       "      <td>0</td>\n",
       "    </tr>\n",
       "    <tr>\n",
       "      <th>1</th>\n",
       "      <td>18.0</td>\n",
       "      <td>0.692308</td>\n",
       "      <td>0.423077</td>\n",
       "      <td>2010</td>\n",
       "      <td>2</td>\n",
       "      <td>0.557692</td>\n",
       "      <td>0</td>\n",
       "      <td>0</td>\n",
       "      <td>0</td>\n",
       "      <td>0</td>\n",
       "      <td>...</td>\n",
       "      <td>0</td>\n",
       "      <td>1</td>\n",
       "      <td>0</td>\n",
       "      <td>0</td>\n",
       "      <td>0</td>\n",
       "      <td>0</td>\n",
       "      <td>0</td>\n",
       "      <td>1</td>\n",
       "      <td>0</td>\n",
       "      <td>0</td>\n",
       "    </tr>\n",
       "    <tr>\n",
       "      <th>2</th>\n",
       "      <td>20.0</td>\n",
       "      <td>1.807692</td>\n",
       "      <td>1.192308</td>\n",
       "      <td>2010</td>\n",
       "      <td>3</td>\n",
       "      <td>1.500000</td>\n",
       "      <td>0</td>\n",
       "      <td>0</td>\n",
       "      <td>0</td>\n",
       "      <td>0</td>\n",
       "      <td>...</td>\n",
       "      <td>0</td>\n",
       "      <td>1</td>\n",
       "      <td>0</td>\n",
       "      <td>0</td>\n",
       "      <td>0</td>\n",
       "      <td>0</td>\n",
       "      <td>0</td>\n",
       "      <td>0</td>\n",
       "      <td>1</td>\n",
       "      <td>0</td>\n",
       "    </tr>\n",
       "    <tr>\n",
       "      <th>3</th>\n",
       "      <td>20.0</td>\n",
       "      <td>1.407407</td>\n",
       "      <td>0.925926</td>\n",
       "      <td>2010</td>\n",
       "      <td>4</td>\n",
       "      <td>1.166667</td>\n",
       "      <td>0</td>\n",
       "      <td>0</td>\n",
       "      <td>0</td>\n",
       "      <td>0</td>\n",
       "      <td>...</td>\n",
       "      <td>0</td>\n",
       "      <td>1</td>\n",
       "      <td>0</td>\n",
       "      <td>0</td>\n",
       "      <td>0</td>\n",
       "      <td>0</td>\n",
       "      <td>0</td>\n",
       "      <td>0</td>\n",
       "      <td>0</td>\n",
       "      <td>1</td>\n",
       "    </tr>\n",
       "    <tr>\n",
       "      <th>4</th>\n",
       "      <td>14.0</td>\n",
       "      <td>0.346154</td>\n",
       "      <td>0.192308</td>\n",
       "      <td>2010</td>\n",
       "      <td>5</td>\n",
       "      <td>0.269231</td>\n",
       "      <td>0</td>\n",
       "      <td>0</td>\n",
       "      <td>0</td>\n",
       "      <td>0</td>\n",
       "      <td>...</td>\n",
       "      <td>0</td>\n",
       "      <td>1</td>\n",
       "      <td>0</td>\n",
       "      <td>0</td>\n",
       "      <td>0</td>\n",
       "      <td>0</td>\n",
       "      <td>0</td>\n",
       "      <td>0</td>\n",
       "      <td>0</td>\n",
       "      <td>0</td>\n",
       "    </tr>\n",
       "  </tbody>\n",
       "</table>\n",
       "<p>5 rows × 25 columns</p>\n",
       "</div>"
      ],
      "text/plain": [
       "      y  price_am  price_pm  year  day     price  client_1  close_1  month_10  \\\n",
       "0  17.0  0.192308  0.076923  2010    1  0.134615         0        0         0   \n",
       "1  18.0  0.692308  0.423077  2010    2  0.557692         0        0         0   \n",
       "2  20.0  1.807692  1.192308  2010    3  1.500000         0        0         0   \n",
       "3  20.0  1.407407  0.925926  2010    4  1.166667         0        0         0   \n",
       "4  14.0  0.346154  0.192308  2010    5  0.269231         0        0         0   \n",
       "\n",
       "   month_11  ...  month_6  month_7  month_8  month_9  weekday_1  weekday_2  \\\n",
       "0         0  ...        0        1        0        0          0          0   \n",
       "1         0  ...        0        1        0        0          0          0   \n",
       "2         0  ...        0        1        0        0          0          0   \n",
       "3         0  ...        0        1        0        0          0          0   \n",
       "4         0  ...        0        1        0        0          0          0   \n",
       "\n",
       "   weekday_3  weekday_4  weekday_5  weekday_6  \n",
       "0          1          0          0          0  \n",
       "1          0          1          0          0  \n",
       "2          0          0          1          0  \n",
       "3          0          0          0          1  \n",
       "4          0          0          0          0  \n",
       "\n",
       "[5 rows x 25 columns]"
      ]
     },
     "execution_count": 22,
     "metadata": {},
     "output_type": "execute_result"
    }
   ],
   "source": [
    "df.info()\n",
    "df.head()"
   ]
  },
  {
   "cell_type": "code",
   "execution_count": 23,
   "id": "3a1ffc6c",
   "metadata": {},
   "outputs": [],
   "source": [
    "# データセットの標準化準備\n",
    "scaler= StandardScaler()\n",
    "# データセットの標準化\n",
    "scaler.fit(X_train)\n",
    "scaler.fit(X_test)\n",
    "X_train_scaler = scaler.transform(X_train)\n",
    "X_test_scaler  = scaler.transform(X_test)\n"
   ]
  },
  {
   "cell_type": "code",
   "execution_count": 24,
   "id": "20ff6c6f",
   "metadata": {},
   "outputs": [
    {
     "name": "stdout",
     "output_type": "stream",
     "text": [
      "{'alpha': 0.025118864315094896}\n",
      "R^2 = 0.7392186103726259\n",
      "MAE = 6.871768390587337\n"
     ]
    }
   ],
   "source": [
    "# Lasso 交差検証準備\n",
    "# clf = LassoCV(alphas=10 ** np.arange(-6, 1, 0.1), cv = 5)\n",
    "\n",
    "params_grid = {\n",
    "    'alpha': 10 ** np.arange(-6, 1, 0.1)\n",
    "}\n",
    "# パラメータチューニング\n",
    "clf = GridSearchCV(\n",
    "    estimator = Lasso(),\n",
    "    param_grid = params_grid,\n",
    "    cv = 5,\n",
    "    scoring='r2',\n",
    "    n_jobs = -1\n",
    "    )\n",
    "# 線形モデルの重みを学習\n",
    "clf.fit(X_train_scaler, y_train) \n",
    "\n",
    "# チューニングしたモデル\n",
    "best_param = clf.best_params_\n",
    "lasso_tuned = clf.best_estimator_\n",
    "\n",
    "# 予測値を反映\n",
    "y_lasso_pred = lasso_tuned.predict(X_train_scaler) # Trainデータに対して予測\n",
    "y_lasso_test_pred = lasso_tuned.predict(X_test_scaler) # Testデータに対して予測\n",
    "\n",
    "#print(\"α = {}\".format(clf.alpha_))\n",
    "#print(\"ω = {}\".format(clf.coef_))\n",
    "#print(\"b = {}\".format(clf.intercept_))\n",
    "print(best_param)\n",
    "print(\"R^2 = {}\".format(clf.score(X_train_scaler, y_train)))\n",
    "print(\"MAE = {}\".format(mean_absolute_error(y_train, y_lasso_pred)))\n",
    "#print(cross_val_score(clf, X_train_scaler, y_train, cv=5))"
   ]
  },
  {
   "cell_type": "code",
   "execution_count": 25,
   "id": "85302acd",
   "metadata": {},
   "outputs": [],
   "source": [
    "import optuna.integration.lightgbm as lgb # Optuna \n",
    "#import lightgbm as lgb \n",
    "from sklearn.model_selection import KFold"
   ]
  },
  {
   "cell_type": "code",
   "execution_count": 26,
   "id": "311fdf83",
   "metadata": {},
   "outputs": [
    {
     "name": "stderr",
     "output_type": "stream",
     "text": [
      "\u001b[32m[I 2021-06-20 17:25:03,993]\u001b[0m A new study created in memory with name: no-name-f7a2e33f-f043-40be-82d1-a077dadf1a57\u001b[0m\n",
      "feature_fraction, val_score: inf:   0%|                                                          | 0/7 [00:00<?, ?it/s]"
     ]
    },
    {
     "name": "stdout",
     "output_type": "stream",
     "text": [
      "Training until validation scores don't improve for 100 rounds\n",
      "[100]\ttrain's rmse: 6.43174\teval's rmse: 7.81325\n",
      "[200]\ttrain's rmse: 5.40341\teval's rmse: 7.28161\n",
      "[300]\ttrain's rmse: 4.925\teval's rmse: 7.18169\n",
      "[400]\ttrain's rmse: 4.59197\teval's rmse: 7.1431\n",
      "[500]\ttrain's rmse: 4.31827\teval's rmse: 7.11517\n",
      "[600]\ttrain's rmse: 4.11199\teval's rmse: 7.11287\n",
      "Early stopping, best iteration is:\n",
      "[545]\ttrain's rmse: 4.21467\teval's rmse: 7.08435\n"
     ]
    },
    {
     "name": "stderr",
     "output_type": "stream",
     "text": [
      "feature_fraction, val_score: 7.084349:  14%|######4                                      | 1/7 [00:01<00:07,  1.20s/it]\u001b[32m[I 2021-06-20 17:25:05,343]\u001b[0m Trial 0 finished with value: 7.084348653522763 and parameters: {'feature_fraction': 0.5}. Best is trial 0 with value: 7.084348653522763.\u001b[0m\n",
      "feature_fraction, val_score: 7.084349:  14%|######4                                      | 1/7 [00:01<00:07,  1.20s/it]"
     ]
    },
    {
     "name": "stdout",
     "output_type": "stream",
     "text": [
      "Training until validation scores don't improve for 100 rounds\n",
      "[100]\ttrain's rmse: 5.88447\teval's rmse: 7.89485\n",
      "[200]\ttrain's rmse: 4.80825\teval's rmse: 7.28989\n",
      "[300]\ttrain's rmse: 4.27413\teval's rmse: 7.18736\n",
      "[400]\ttrain's rmse: 3.90658\teval's rmse: 7.14151\n",
      "Early stopping, best iteration is:\n",
      "[391]\ttrain's rmse: 3.92875\teval's rmse: 7.11942\n"
     ]
    },
    {
     "name": "stderr",
     "output_type": "stream",
     "text": [
      "feature_fraction, val_score: 7.084349:  29%|############8                                | 2/7 [00:02<00:06,  1.27s/it]\u001b[32m[I 2021-06-20 17:25:06,666]\u001b[0m Trial 1 finished with value: 7.119422404153562 and parameters: {'feature_fraction': 1.0}. Best is trial 0 with value: 7.084348653522763.\u001b[0m\n",
      "feature_fraction, val_score: 7.084349:  29%|############8                                | 2/7 [00:02<00:06,  1.27s/it]"
     ]
    },
    {
     "name": "stdout",
     "output_type": "stream",
     "text": [
      "Training until validation scores don't improve for 100 rounds\n",
      "[100]\ttrain's rmse: 6.12105\teval's rmse: 7.70016\n",
      "[200]\ttrain's rmse: 5.0541\teval's rmse: 7.16529\n",
      "[300]\ttrain's rmse: 4.52435\teval's rmse: 7.10305\n",
      "[400]\ttrain's rmse: 4.16314\teval's rmse: 7.06131\n"
     ]
    },
    {
     "name": "stderr",
     "output_type": "stream",
     "text": [
      "feature_fraction, val_score: 7.058624:  43%|###################2                         | 3/7 [00:03<00:05,  1.36s/it]\u001b[32m[I 2021-06-20 17:25:08,137]\u001b[0m Trial 2 finished with value: 7.058623576352711 and parameters: {'feature_fraction': 0.7}. Best is trial 2 with value: 7.058623576352711.\u001b[0m\n",
      "feature_fraction, val_score: 7.058624:  43%|###################2                         | 3/7 [00:03<00:05,  1.36s/it]"
     ]
    },
    {
     "name": "stdout",
     "output_type": "stream",
     "text": [
      "Early stopping, best iteration is:\n",
      "[396]\ttrain's rmse: 4.17537\teval's rmse: 7.05862\n",
      "Training until validation scores don't improve for 100 rounds\n",
      "[100]\ttrain's rmse: 5.93456\teval's rmse: 7.8809\n",
      "[200]\ttrain's rmse: 4.84296\teval's rmse: 7.32166\n",
      "[300]\ttrain's rmse: 4.29081\teval's rmse: 7.23366\n",
      "[400]\ttrain's rmse: 3.92812\teval's rmse: 7.16653\n",
      "Early stopping, best iteration is:\n",
      "[390]\ttrain's rmse: 3.95972\teval's rmse: 7.16074\n"
     ]
    },
    {
     "name": "stderr",
     "output_type": "stream",
     "text": [
      "feature_fraction, val_score: 7.058624:  57%|#########################7                   | 4/7 [00:04<00:03,  1.17s/it]\u001b[32m[I 2021-06-20 17:25:09,002]\u001b[0m Trial 3 finished with value: 7.160737485554141 and parameters: {'feature_fraction': 0.8999999999999999}. Best is trial 2 with value: 7.058623576352711.\u001b[0m\n",
      "feature_fraction, val_score: 7.058624:  57%|#########################7                   | 4/7 [00:04<00:03,  1.17s/it]"
     ]
    },
    {
     "name": "stdout",
     "output_type": "stream",
     "text": [
      "Training until validation scores don't improve for 100 rounds\n",
      "[100]\ttrain's rmse: 6.80849\teval's rmse: 7.91683\n",
      "[200]\ttrain's rmse: 5.75734\teval's rmse: 7.34923\n",
      "[300]\ttrain's rmse: 5.24572\teval's rmse: 7.21596\n",
      "[400]\ttrain's rmse: 4.88844\teval's rmse: 7.13829\n",
      "[500]\ttrain's rmse: 4.60883\teval's rmse: 7.11737\n",
      "[600]\ttrain's rmse: 4.40455\teval's rmse: 7.09493\n",
      "[700]\ttrain's rmse: 4.2445\teval's rmse: 7.07937\n",
      "Early stopping, best iteration is:\n",
      "[654]\ttrain's rmse: 4.30483\teval's rmse: 7.06907\n"
     ]
    },
    {
     "name": "stderr",
     "output_type": "stream",
     "text": [
      "feature_fraction, val_score: 7.058624:  71%|################################1            | 5/7 [00:05<00:02,  1.14s/it]\u001b[32m[I 2021-06-20 17:25:10,108]\u001b[0m Trial 4 finished with value: 7.0690744774068675 and parameters: {'feature_fraction': 0.4}. Best is trial 2 with value: 7.058623576352711.\u001b[0m\n",
      "feature_fraction, val_score: 7.058624:  71%|################################1            | 5/7 [00:05<00:02,  1.14s/it]"
     ]
    },
    {
     "name": "stdout",
     "output_type": "stream",
     "text": [
      "Training until validation scores don't improve for 100 rounds\n",
      "[100]\ttrain's rmse: 6.281\teval's rmse: 7.80012\n",
      "[200]\ttrain's rmse: 5.24686\teval's rmse: 7.2858\n",
      "[300]\ttrain's rmse: 4.75101\teval's rmse: 7.20582\n",
      "[400]\ttrain's rmse: 4.40044\teval's rmse: 7.16122\n",
      "[500]\ttrain's rmse: 4.11732\teval's rmse: 7.13721\n",
      "[600]\ttrain's rmse: 3.90058\teval's rmse: 7.15015\n",
      "Early stopping, best iteration is:\n",
      "[545]\ttrain's rmse: 4.01623\teval's rmse: 7.11072\n"
     ]
    },
    {
     "name": "stderr",
     "output_type": "stream",
     "text": [
      "feature_fraction, val_score: 7.058624:  86%|######################################5      | 6/7 [00:06<00:01,  1.10s/it]\u001b[32m[I 2021-06-20 17:25:11,133]\u001b[0m Trial 5 finished with value: 7.110721490274963 and parameters: {'feature_fraction': 0.6}. Best is trial 2 with value: 7.058623576352711.\u001b[0m\n",
      "feature_fraction, val_score: 7.058624:  86%|######################################5      | 6/7 [00:06<00:01,  1.10s/it]"
     ]
    },
    {
     "name": "stdout",
     "output_type": "stream",
     "text": [
      "Training until validation scores don't improve for 100 rounds\n",
      "[100]\ttrain's rmse: 5.99678\teval's rmse: 7.80944\n",
      "[200]\ttrain's rmse: 4.93402\teval's rmse: 7.28409\n",
      "[300]\ttrain's rmse: 4.39025\teval's rmse: 7.18154\n",
      "[400]\ttrain's rmse: 4.02915\teval's rmse: 7.14782\n",
      "[500]\ttrain's rmse: 3.74439\teval's rmse: 7.15917\n",
      "Early stopping, best iteration is:\n",
      "[425]\ttrain's rmse: 3.94944\teval's rmse: 7.12954\n"
     ]
    },
    {
     "name": "stderr",
     "output_type": "stream",
     "text": [
      "feature_fraction, val_score: 7.058624: 100%|#############################################| 7/7 [00:07<00:00,  1.03s/it]\u001b[32m[I 2021-06-20 17:25:12,022]\u001b[0m Trial 6 finished with value: 7.129540226473044 and parameters: {'feature_fraction': 0.8}. Best is trial 2 with value: 7.058623576352711.\u001b[0m\n",
      "feature_fraction, val_score: 7.058624: 100%|#############################################| 7/7 [00:07<00:00,  1.13s/it]\n",
      "num_leaves, val_score: 7.058624:   0%|                                                          | 0/20 [00:00<?, ?it/s]"
     ]
    },
    {
     "name": "stdout",
     "output_type": "stream",
     "text": [
      "Training until validation scores don't improve for 100 rounds\n",
      "[100]\ttrain's rmse: 5.95657\teval's rmse: 7.69256\n",
      "[200]\ttrain's rmse: 4.82448\teval's rmse: 7.23373\n",
      "[300]\ttrain's rmse: 4.2251\teval's rmse: 7.17878\n",
      "[400]\ttrain's rmse: 3.83499\teval's rmse: 7.14212\n",
      "[500]\ttrain's rmse: 3.5246\teval's rmse: 7.15621\n",
      "Early stopping, best iteration is:\n",
      "[431]\ttrain's rmse: 3.72977\teval's rmse: 7.1219\n"
     ]
    },
    {
     "name": "stderr",
     "output_type": "stream",
     "text": [
      "num_leaves, val_score: 7.058624:   5%|##5                                               | 1/20 [00:01<00:23,  1.21s/it]\u001b[32m[I 2021-06-20 17:25:13,248]\u001b[0m Trial 7 finished with value: 7.121898521344351 and parameters: {'num_leaves': 189}. Best is trial 7 with value: 7.121898521344351.\u001b[0m\n",
      "num_leaves, val_score: 7.058624:   5%|##5                                               | 1/20 [00:01<00:23,  1.21s/it]"
     ]
    },
    {
     "name": "stdout",
     "output_type": "stream",
     "text": [
      "Training until validation scores don't improve for 100 rounds\n",
      "[100]\ttrain's rmse: 8.17949\teval's rmse: 8.61366\n",
      "[200]\ttrain's rmse: 7.43635\teval's rmse: 7.8732\n",
      "[300]\ttrain's rmse: 7.10799\teval's rmse: 7.69378\n",
      "[400]\ttrain's rmse: 6.79249\teval's rmse: 7.43968\n",
      "[500]\ttrain's rmse: 6.57678\teval's rmse: 7.36618\n",
      "[600]\ttrain's rmse: 6.42317\teval's rmse: 7.30013\n",
      "[700]\ttrain's rmse: 6.22216\teval's rmse: 7.14609\n",
      "[800]\ttrain's rmse: 6.06829\teval's rmse: 7.01855\n"
     ]
    },
    {
     "name": "stderr",
     "output_type": "stream",
     "text": [
      "num_leaves, val_score: 6.947516:  10%|#####                                             | 2/20 [00:01<00:14,  1.21it/s]\u001b[32m[I 2021-06-20 17:25:13,811]\u001b[0m Trial 8 finished with value: 6.947515656865834 and parameters: {'num_leaves': 4}. Best is trial 8 with value: 6.947515656865834.\u001b[0m\n",
      "num_leaves, val_score: 6.947516:  10%|#####                                             | 2/20 [00:01<00:14,  1.21it/s]"
     ]
    },
    {
     "name": "stdout",
     "output_type": "stream",
     "text": [
      "[900]\ttrain's rmse: 5.9762\teval's rmse: 7.01131\n",
      "[1000]\ttrain's rmse: 5.87439\teval's rmse: 6.94752\n",
      "Did not meet early stopping. Best iteration is:\n",
      "[1000]\ttrain's rmse: 5.87439\teval's rmse: 6.94752\n",
      "Training until validation scores don't improve for 100 rounds\n",
      "[100]\ttrain's rmse: 5.95657\teval's rmse: 7.69256\n",
      "[200]\ttrain's rmse: 4.82448\teval's rmse: 7.23373\n",
      "[300]\ttrain's rmse: 4.2251\teval's rmse: 7.17878\n",
      "[400]\ttrain's rmse: 3.83499\teval's rmse: 7.14212\n",
      "[500]\ttrain's rmse: 3.5246\teval's rmse: 7.15621\n",
      "Early stopping, best iteration is:\n",
      "[431]\ttrain's rmse: 3.72977\teval's rmse: 7.1219\n"
     ]
    },
    {
     "name": "stderr",
     "output_type": "stream",
     "text": [
      "num_leaves, val_score: 6.947516:  15%|#######5                                          | 3/20 [00:02<00:16,  1.03it/s]\u001b[32m[I 2021-06-20 17:25:14,941]\u001b[0m Trial 9 finished with value: 7.121898521344351 and parameters: {'num_leaves': 200}. Best is trial 8 with value: 6.947515656865834.\u001b[0m\n",
      "num_leaves, val_score: 6.947516:  15%|#######5                                          | 3/20 [00:02<00:16,  1.03it/s]"
     ]
    },
    {
     "name": "stdout",
     "output_type": "stream",
     "text": [
      "Training until validation scores don't improve for 100 rounds\n",
      "[100]\ttrain's rmse: 5.95657\teval's rmse: 7.69256\n",
      "[200]\ttrain's rmse: 4.82448\teval's rmse: 7.23373\n",
      "[300]\ttrain's rmse: 4.2251\teval's rmse: 7.17878\n",
      "[400]\ttrain's rmse: 3.83499\teval's rmse: 7.14212\n",
      "[500]\ttrain's rmse: 3.5246\teval's rmse: 7.15621\n"
     ]
    },
    {
     "name": "stderr",
     "output_type": "stream",
     "text": [
      "num_leaves, val_score: 6.947516:  20%|##########                                        | 4/20 [00:03<00:16,  1.01s/it]\u001b[32m[I 2021-06-20 17:25:16,022]\u001b[0m Trial 10 finished with value: 7.121898521344351 and parameters: {'num_leaves': 123}. Best is trial 8 with value: 6.947515656865834.\u001b[0m\n"
     ]
    },
    {
     "name": "stdout",
     "output_type": "stream",
     "text": [
      "Early stopping, best iteration is:\n",
      "[431]\ttrain's rmse: 3.72977\teval's rmse: 7.1219\n"
     ]
    },
    {
     "name": "stderr",
     "output_type": "stream",
     "text": [
      "\r",
      "num_leaves, val_score: 6.947516:  20%|##########                                        | 4/20 [00:03<00:16,  1.01s/it]"
     ]
    },
    {
     "name": "stdout",
     "output_type": "stream",
     "text": [
      "Training until validation scores don't improve for 100 rounds\n",
      "[100]\ttrain's rmse: 6.65315\teval's rmse: 7.94085\n",
      "[200]\ttrain's rmse: 5.68291\teval's rmse: 7.30762\n",
      "[300]\ttrain's rmse: 5.23785\teval's rmse: 7.14714\n",
      "[400]\ttrain's rmse: 4.93163\teval's rmse: 7.04159\n",
      "[500]\ttrain's rmse: 4.70168\teval's rmse: 7.0252\n"
     ]
    },
    {
     "name": "stderr",
     "output_type": "stream",
     "text": [
      "\r",
      "num_leaves, val_score: 6.947516:  20%|##########                                        | 4/20 [00:04<00:16,  1.01s/it]"
     ]
    },
    {
     "name": "stdout",
     "output_type": "stream",
     "text": [
      "[600]\ttrain's rmse: 4.52705\teval's rmse: 7.01891\n",
      "[700]\ttrain's rmse: 4.3719\teval's rmse: 7.02249\n",
      "Early stopping, best iteration is:\n",
      "[649]\ttrain's rmse: 4.44616\teval's rmse: 6.98414\n"
     ]
    },
    {
     "name": "stderr",
     "output_type": "stream",
     "text": [
      "num_leaves, val_score: 6.947516:  25%|############5                                     | 5/20 [00:04<00:13,  1.09it/s]\u001b[32m[I 2021-06-20 17:25:16,768]\u001b[0m Trial 11 finished with value: 6.984140108967469 and parameters: {'num_leaves': 16}. Best is trial 8 with value: 6.947515656865834.\u001b[0m\n",
      "num_leaves, val_score: 6.947516:  25%|############5                                     | 5/20 [00:04<00:13,  1.09it/s]"
     ]
    },
    {
     "name": "stdout",
     "output_type": "stream",
     "text": [
      "Training until validation scores don't improve for 100 rounds\n",
      "[100]\ttrain's rmse: 5.95657\teval's rmse: 7.69256\n",
      "[200]\ttrain's rmse: 4.82448\teval's rmse: 7.23373\n",
      "[300]\ttrain's rmse: 4.2251\teval's rmse: 7.17878\n",
      "[400]\ttrain's rmse: 3.83499\teval's rmse: 7.14212\n",
      "[500]\ttrain's rmse: 3.5246\teval's rmse: 7.15621\n"
     ]
    },
    {
     "name": "stderr",
     "output_type": "stream",
     "text": [
      "num_leaves, val_score: 6.947516:  30%|###############                                   | 6/20 [00:05<00:13,  1.02it/s]"
     ]
    },
    {
     "name": "stdout",
     "output_type": "stream",
     "text": [
      "Early stopping, best iteration is:\n",
      "[431]\ttrain's rmse: 3.72977\teval's rmse: 7.1219\n"
     ]
    },
    {
     "name": "stderr",
     "output_type": "stream",
     "text": [
      "\u001b[32m[I 2021-06-20 17:25:17,861]\u001b[0m Trial 12 finished with value: 7.121898521344351 and parameters: {'num_leaves': 156}. Best is trial 8 with value: 6.947515656865834.\u001b[0m\n",
      "num_leaves, val_score: 6.947516:  30%|###############                                   | 6/20 [00:05<00:13,  1.02it/s]"
     ]
    },
    {
     "name": "stdout",
     "output_type": "stream",
     "text": [
      "Training until validation scores don't improve for 100 rounds\n",
      "[100]\ttrain's rmse: 5.95657\teval's rmse: 7.69256\n",
      "[200]\ttrain's rmse: 4.82448\teval's rmse: 7.23373\n",
      "[300]\ttrain's rmse: 4.2251\teval's rmse: 7.17878\n",
      "[400]\ttrain's rmse: 3.83499\teval's rmse: 7.14212\n",
      "[500]\ttrain's rmse: 3.5246\teval's rmse: 7.15621\n",
      "Early stopping, best iteration is:\n",
      "[431]\ttrain's rmse: 3.72977\teval's rmse: 7.1219\n"
     ]
    },
    {
     "name": "stderr",
     "output_type": "stream",
     "text": [
      "num_leaves, val_score: 6.947516:  35%|#################5                                | 7/20 [00:07<00:15,  1.21s/it]\u001b[32m[I 2021-06-20 17:25:19,557]\u001b[0m Trial 13 finished with value: 7.121898521344351 and parameters: {'num_leaves': 135}. Best is trial 8 with value: 6.947515656865834.\u001b[0m\n",
      "num_leaves, val_score: 6.947516:  35%|#################5                                | 7/20 [00:07<00:15,  1.21s/it]"
     ]
    },
    {
     "name": "stdout",
     "output_type": "stream",
     "text": [
      "Training until validation scores don't improve for 100 rounds\n",
      "[100]\ttrain's rmse: 5.95657\teval's rmse: 7.69256\n",
      "[200]\ttrain's rmse: 4.82448\teval's rmse: 7.23373\n",
      "[300]\ttrain's rmse: 4.2251\teval's rmse: 7.17878\n",
      "[400]\ttrain's rmse: 3.83499\teval's rmse: 7.14212\n",
      "[500]\ttrain's rmse: 3.5246\teval's rmse: 7.15621\n",
      "Early stopping, best iteration is:\n",
      "[431]\ttrain's rmse: 3.72977\teval's rmse: 7.1219\n"
     ]
    },
    {
     "name": "stderr",
     "output_type": "stream",
     "text": [
      "num_leaves, val_score: 6.947516:  40%|####################                              | 8/20 [00:08<00:15,  1.28s/it]\u001b[32m[I 2021-06-20 17:25:20,994]\u001b[0m Trial 14 finished with value: 7.121898521344351 and parameters: {'num_leaves': 161}. Best is trial 8 with value: 6.947515656865834.\u001b[0m\n",
      "num_leaves, val_score: 6.947516:  40%|####################                              | 8/20 [00:08<00:15,  1.28s/it]"
     ]
    },
    {
     "name": "stdout",
     "output_type": "stream",
     "text": [
      "Training until validation scores don't improve for 100 rounds\n",
      "[100]\ttrain's rmse: 5.95657\teval's rmse: 7.69256\n",
      "[200]\ttrain's rmse: 4.82448\teval's rmse: 7.23373\n",
      "[300]\ttrain's rmse: 4.2251\teval's rmse: 7.17878\n",
      "[400]\ttrain's rmse: 3.83499\teval's rmse: 7.14212\n",
      "[500]\ttrain's rmse: 3.5246\teval's rmse: 7.15621\n",
      "Early stopping, best iteration is:\n",
      "[431]\ttrain's rmse: 3.72977\teval's rmse: 7.1219\n"
     ]
    },
    {
     "name": "stderr",
     "output_type": "stream",
     "text": [
      "num_leaves, val_score: 6.947516:  45%|######################5                           | 9/20 [00:10<00:13,  1.26s/it]\u001b[32m[I 2021-06-20 17:25:22,205]\u001b[0m Trial 15 finished with value: 7.121898521344351 and parameters: {'num_leaves': 200}. Best is trial 8 with value: 6.947515656865834.\u001b[0m\n",
      "num_leaves, val_score: 6.947516:  45%|######################5                           | 9/20 [00:10<00:13,  1.26s/it]"
     ]
    },
    {
     "name": "stdout",
     "output_type": "stream",
     "text": [
      "Training until validation scores don't improve for 100 rounds\n",
      "[100]\ttrain's rmse: 5.95657\teval's rmse: 7.69256\n",
      "[200]\ttrain's rmse: 4.82448\teval's rmse: 7.23373\n",
      "[300]\ttrain's rmse: 4.2251\teval's rmse: 7.17878\n",
      "[400]\ttrain's rmse: 3.83499\teval's rmse: 7.14212\n",
      "[500]\ttrain's rmse: 3.5246\teval's rmse: 7.15621\n",
      "Early stopping, best iteration is:\n",
      "[431]\ttrain's rmse: 3.72977\teval's rmse: 7.1219\n"
     ]
    },
    {
     "name": "stderr",
     "output_type": "stream",
     "text": [
      "num_leaves, val_score: 6.947516:  50%|########################5                        | 10/20 [00:12<00:14,  1.47s/it]\u001b[32m[I 2021-06-20 17:25:24,141]\u001b[0m Trial 16 finished with value: 7.121898521344351 and parameters: {'num_leaves': 155}. Best is trial 8 with value: 6.947515656865834.\u001b[0m\n",
      "num_leaves, val_score: 6.947516:  50%|########################5                        | 10/20 [00:12<00:14,  1.47s/it]"
     ]
    },
    {
     "name": "stdout",
     "output_type": "stream",
     "text": [
      "Training until validation scores don't improve for 100 rounds\n",
      "[100]\ttrain's rmse: 6.93595\teval's rmse: 8.03498\n",
      "[200]\ttrain's rmse: 6.00227\teval's rmse: 7.33769\n",
      "[300]\ttrain's rmse: 5.57871\teval's rmse: 7.15342\n",
      "[400]\ttrain's rmse: 5.27055\teval's rmse: 7.04619\n",
      "[500]\ttrain's rmse: 5.04948\teval's rmse: 7.0045\n"
     ]
    },
    {
     "name": "stderr",
     "output_type": "stream",
     "text": [
      "num_leaves, val_score: 6.947516:  55%|##########################9                      | 11/20 [00:12<00:11,  1.26s/it]\u001b[32m[I 2021-06-20 17:25:24,910]\u001b[0m Trial 17 finished with value: 6.969313961666308 and parameters: {'num_leaves': 12}. Best is trial 8 with value: 6.947515656865834.\u001b[0m\n",
      "num_leaves, val_score: 6.947516:  55%|##########################9                      | 11/20 [00:12<00:11,  1.26s/it]"
     ]
    },
    {
     "name": "stdout",
     "output_type": "stream",
     "text": [
      "[600]\ttrain's rmse: 4.88665\teval's rmse: 7.01422\n",
      "[700]\ttrain's rmse: 4.73581\teval's rmse: 6.99835\n",
      "Early stopping, best iteration is:\n",
      "[649]\ttrain's rmse: 4.80651\teval's rmse: 6.96931\n",
      "Training until validation scores don't improve for 100 rounds\n",
      "[100]\ttrain's rmse: 8.55138\teval's rmse: 8.90587\n",
      "[200]\ttrain's rmse: 7.7809\teval's rmse: 8.1028\n",
      "[300]\ttrain's rmse: 7.53517\teval's rmse: 7.95753\n",
      "[400]\ttrain's rmse: 7.26241\teval's rmse: 7.72532\n",
      "[500]\ttrain's rmse: 7.08209\teval's rmse: 7.6249\n"
     ]
    },
    {
     "name": "stderr",
     "output_type": "stream",
     "text": [
      "\r",
      "num_leaves, val_score: 6.947516:  55%|##########################9                      | 11/20 [00:13<00:11,  1.26s/it]"
     ]
    },
    {
     "name": "stdout",
     "output_type": "stream",
     "text": [
      "[600]\ttrain's rmse: 6.95073\teval's rmse: 7.53234\n",
      "[700]\ttrain's rmse: 6.76679\teval's rmse: 7.33629\n",
      "[800]\ttrain's rmse: 6.6296\teval's rmse: 7.1959\n",
      "[900]\ttrain's rmse: 6.5371\teval's rmse: 7.17373\n",
      "[1000]\ttrain's rmse: 6.45359\teval's rmse: 7.10845\n",
      "Did not meet early stopping. Best iteration is:\n",
      "[1000]\ttrain's rmse: 6.45359\teval's rmse: 7.10845\n"
     ]
    },
    {
     "name": "stderr",
     "output_type": "stream",
     "text": [
      "num_leaves, val_score: 6.947516:  60%|#############################4                   | 12/20 [00:13<00:08,  1.02s/it]\u001b[32m[I 2021-06-20 17:25:25,401]\u001b[0m Trial 18 finished with value: 7.108447041196585 and parameters: {'num_leaves': 3}. Best is trial 8 with value: 6.947515656865834.\u001b[0m\n",
      "num_leaves, val_score: 6.947516:  60%|#############################4                   | 12/20 [00:13<00:08,  1.02s/it]"
     ]
    },
    {
     "name": "stdout",
     "output_type": "stream",
     "text": [
      "Training until validation scores don't improve for 100 rounds\n",
      "[100]\ttrain's rmse: 5.95657\teval's rmse: 7.69256\n",
      "[200]\ttrain's rmse: 4.82448\teval's rmse: 7.23373\n",
      "[300]\ttrain's rmse: 4.2251\teval's rmse: 7.17878\n",
      "[400]\ttrain's rmse: 3.83499\teval's rmse: 7.14212\n",
      "[500]\ttrain's rmse: 3.5246\teval's rmse: 7.15621\n"
     ]
    },
    {
     "name": "stderr",
     "output_type": "stream",
     "text": [
      "num_leaves, val_score: 6.947516:  65%|###############################8                 | 13/20 [00:14<00:07,  1.03s/it]\u001b[32m[I 2021-06-20 17:25:26,437]\u001b[0m Trial 19 finished with value: 7.121898521344351 and parameters: {'num_leaves': 60}. Best is trial 8 with value: 6.947515656865834.\u001b[0m\n"
     ]
    },
    {
     "name": "stdout",
     "output_type": "stream",
     "text": [
      "Early stopping, best iteration is:\n",
      "[431]\ttrain's rmse: 3.72977\teval's rmse: 7.1219\n"
     ]
    },
    {
     "name": "stderr",
     "output_type": "stream",
     "text": [
      "\r",
      "num_leaves, val_score: 6.947516:  65%|###############################8                 | 13/20 [00:14<00:07,  1.03s/it]"
     ]
    },
    {
     "name": "stdout",
     "output_type": "stream",
     "text": [
      "Training until validation scores don't improve for 100 rounds\n",
      "[100]\ttrain's rmse: 5.94016\teval's rmse: 7.6689\n",
      "[200]\ttrain's rmse: 4.80415\teval's rmse: 7.18624\n",
      "[300]\ttrain's rmse: 4.22372\teval's rmse: 7.10417\n"
     ]
    },
    {
     "name": "stderr",
     "output_type": "stream",
     "text": [
      "\r",
      "num_leaves, val_score: 6.947516:  65%|###############################8                 | 13/20 [00:15<00:07,  1.03s/it]"
     ]
    },
    {
     "name": "stdout",
     "output_type": "stream",
     "text": [
      "[400]\ttrain's rmse: 3.83825\teval's rmse: 7.11149\n",
      "Early stopping, best iteration is:\n",
      "[335]\ttrain's rmse: 4.06512\teval's rmse: 7.08208\n"
     ]
    },
    {
     "name": "stderr",
     "output_type": "stream",
     "text": [
      "num_leaves, val_score: 6.947516:  70%|##################################3              | 14/20 [00:15<00:05,  1.02it/s]\u001b[32m[I 2021-06-20 17:25:27,308]\u001b[0m Trial 20 finished with value: 7.0820836227688035 and parameters: {'num_leaves': 50}. Best is trial 8 with value: 6.947515656865834.\u001b[0m\n",
      "num_leaves, val_score: 6.947516:  70%|##################################3              | 14/20 [00:15<00:05,  1.02it/s]"
     ]
    },
    {
     "name": "stdout",
     "output_type": "stream",
     "text": [
      "Training until validation scores don't improve for 100 rounds\n",
      "[100]\ttrain's rmse: 5.95657\teval's rmse: 7.69256\n",
      "[200]\ttrain's rmse: 4.82448\teval's rmse: 7.23373\n",
      "[300]\ttrain's rmse: 4.2251\teval's rmse: 7.17878\n",
      "[400]\ttrain's rmse: 3.83499\teval's rmse: 7.14212\n",
      "[500]\ttrain's rmse: 3.5246\teval's rmse: 7.15621\n"
     ]
    },
    {
     "name": "stderr",
     "output_type": "stream",
     "text": [
      "num_leaves, val_score: 6.947516:  75%|####################################7            | 15/20 [00:16<00:05,  1.00s/it]\u001b[32m[I 2021-06-20 17:25:28,368]\u001b[0m Trial 21 finished with value: 7.121898521344351 and parameters: {'num_leaves': 78}. Best is trial 8 with value: 6.947515656865834.\u001b[0m\n"
     ]
    },
    {
     "name": "stdout",
     "output_type": "stream",
     "text": [
      "Early stopping, best iteration is:\n",
      "[431]\ttrain's rmse: 3.72977\teval's rmse: 7.1219\n"
     ]
    },
    {
     "name": "stderr",
     "output_type": "stream",
     "text": [
      "\r",
      "num_leaves, val_score: 6.947516:  75%|####################################7            | 15/20 [00:16<00:05,  1.00s/it]"
     ]
    },
    {
     "name": "stdout",
     "output_type": "stream",
     "text": [
      "Training until validation scores don't improve for 100 rounds\n",
      "[100]\ttrain's rmse: 5.95657\teval's rmse: 7.69256\n",
      "[200]\ttrain's rmse: 4.82448\teval's rmse: 7.23373\n",
      "[300]\ttrain's rmse: 4.2251\teval's rmse: 7.17878\n",
      "[400]\ttrain's rmse: 3.83499\teval's rmse: 7.14212\n",
      "[500]\ttrain's rmse: 3.5246\teval's rmse: 7.15621\n"
     ]
    },
    {
     "name": "stderr",
     "output_type": "stream",
     "text": [
      "\r",
      "num_leaves, val_score: 6.947516:  75%|####################################7            | 15/20 [00:17<00:05,  1.00s/it]"
     ]
    },
    {
     "name": "stdout",
     "output_type": "stream",
     "text": [
      "Early stopping, best iteration is:\n",
      "[431]\ttrain's rmse: 3.72977\teval's rmse: 7.1219\n"
     ]
    },
    {
     "name": "stderr",
     "output_type": "stream",
     "text": [
      "num_leaves, val_score: 6.947516:  80%|#######################################2         | 16/20 [00:17<00:04,  1.05s/it]\u001b[32m[I 2021-06-20 17:25:29,517]\u001b[0m Trial 22 finished with value: 7.121898521344351 and parameters: {'num_leaves': 253}. Best is trial 8 with value: 6.947515656865834.\u001b[0m\n",
      "num_leaves, val_score: 6.947516:  80%|#######################################2         | 16/20 [00:17<00:04,  1.05s/it]"
     ]
    },
    {
     "name": "stdout",
     "output_type": "stream",
     "text": [
      "Training until validation scores don't improve for 100 rounds\n",
      "[100]\ttrain's rmse: 6.1996\teval's rmse: 7.69041\n",
      "[200]\ttrain's rmse: 5.16177\teval's rmse: 7.18877\n",
      "[300]\ttrain's rmse: 4.65775\teval's rmse: 7.0692\n",
      "[400]\ttrain's rmse: 4.31031\teval's rmse: 7.01589\n",
      "[500]\ttrain's rmse: 4.04117\teval's rmse: 7.01749\n",
      "Early stopping, best iteration is:\n",
      "[450]\ttrain's rmse: 4.16361\teval's rmse: 6.9935\n"
     ]
    },
    {
     "name": "stderr",
     "output_type": "stream",
     "text": [
      "num_leaves, val_score: 6.947516:  85%|#########################################6       | 17/20 [00:18<00:02,  1.02it/s]\u001b[32m[I 2021-06-20 17:25:30,343]\u001b[0m Trial 23 finished with value: 6.99350360327536 and parameters: {'num_leaves': 27}. Best is trial 8 with value: 6.947515656865834.\u001b[0m\n",
      "num_leaves, val_score: 6.947516:  85%|#########################################6       | 17/20 [00:18<00:02,  1.02it/s]"
     ]
    },
    {
     "name": "stdout",
     "output_type": "stream",
     "text": [
      "Training until validation scores don't improve for 100 rounds\n",
      "[100]\ttrain's rmse: 5.95657\teval's rmse: 7.69256\n",
      "[200]\ttrain's rmse: 4.82448\teval's rmse: 7.23373\n",
      "[300]\ttrain's rmse: 4.2251\teval's rmse: 7.17878\n",
      "[400]\ttrain's rmse: 3.83499\teval's rmse: 7.14212\n",
      "[500]\ttrain's rmse: 3.5246\teval's rmse: 7.15621\n",
      "Early stopping, best iteration is:\n",
      "[431]\ttrain's rmse: 3.72977\teval's rmse: 7.1219\n"
     ]
    },
    {
     "name": "stderr",
     "output_type": "stream",
     "text": [
      "num_leaves, val_score: 6.947516:  90%|############################################1    | 18/20 [00:19<00:02,  1.09s/it]\u001b[32m[I 2021-06-20 17:25:31,681]\u001b[0m Trial 24 finished with value: 7.121898521344351 and parameters: {'num_leaves': 98}. Best is trial 8 with value: 6.947515656865834.\u001b[0m\n",
      "num_leaves, val_score: 6.947516:  90%|############################################1    | 18/20 [00:19<00:02,  1.09s/it]"
     ]
    },
    {
     "name": "stdout",
     "output_type": "stream",
     "text": [
      "Training until validation scores don't improve for 100 rounds\n",
      "[100]\ttrain's rmse: 8.55138\teval's rmse: 8.90587\n",
      "[200]\ttrain's rmse: 7.7809\teval's rmse: 8.1028\n",
      "[300]\ttrain's rmse: 7.53517\teval's rmse: 7.95753\n",
      "[400]\ttrain's rmse: 7.26241\teval's rmse: 7.72532\n",
      "[500]\ttrain's rmse: 7.08209\teval's rmse: 7.6249\n",
      "[600]\ttrain's rmse: 6.95073\teval's rmse: 7.53234\n",
      "[700]\ttrain's rmse: 6.76679\teval's rmse: 7.33629\n",
      "[800]\ttrain's rmse: 6.6296\teval's rmse: 7.1959\n",
      "[900]\ttrain's rmse: 6.5371\teval's rmse: 7.17373\n"
     ]
    },
    {
     "name": "stderr",
     "output_type": "stream",
     "text": [
      "num_leaves, val_score: 6.947516:  95%|##############################################5  | 19/20 [00:20<00:01,  1.02s/it]\u001b[32m[I 2021-06-20 17:25:32,530]\u001b[0m Trial 25 finished with value: 7.108447041196585 and parameters: {'num_leaves': 3}. Best is trial 8 with value: 6.947515656865834.\u001b[0m\n",
      "num_leaves, val_score: 6.947516:  95%|##############################################5  | 19/20 [00:20<00:01,  1.02s/it]"
     ]
    },
    {
     "name": "stdout",
     "output_type": "stream",
     "text": [
      "[1000]\ttrain's rmse: 6.45359\teval's rmse: 7.10845\n",
      "Did not meet early stopping. Best iteration is:\n",
      "[1000]\ttrain's rmse: 6.45359\teval's rmse: 7.10845\n",
      "Training until validation scores don't improve for 100 rounds\n",
      "[100]\ttrain's rmse: 6.03529\teval's rmse: 7.70703\n",
      "[200]\ttrain's rmse: 4.93888\teval's rmse: 7.23078\n",
      "[300]\ttrain's rmse: 4.39432\teval's rmse: 7.16989\n",
      "[400]\ttrain's rmse: 4.02054\teval's rmse: 7.13222\n"
     ]
    },
    {
     "name": "stderr",
     "output_type": "stream",
     "text": [
      "num_leaves, val_score: 6.947516: 100%|#################################################| 20/20 [00:22<00:00,  1.27s/it]\u001b[32m[I 2021-06-20 17:25:34,385]\u001b[0m Trial 26 finished with value: 7.123570571906276 and parameters: {'num_leaves': 36}. Best is trial 8 with value: 6.947515656865834.\u001b[0m\n",
      "num_leaves, val_score: 6.947516: 100%|#################################################| 20/20 [00:22<00:00,  1.12s/it]\n",
      "  0%|                                                                                           | 0/10 [00:00<?, ?it/s]"
     ]
    },
    {
     "name": "stdout",
     "output_type": "stream",
     "text": [
      "Early stopping, best iteration is:\n",
      "[391]\ttrain's rmse: 4.0472\teval's rmse: 7.12357\n"
     ]
    },
    {
     "name": "stderr",
     "output_type": "stream",
     "text": [
      "\r",
      "bagging, val_score: 6.947516:   0%|                                                             | 0/10 [00:00<?, ?it/s]"
     ]
    },
    {
     "name": "stdout",
     "output_type": "stream",
     "text": [
      "Training until validation scores don't improve for 100 rounds\n",
      "[100]\ttrain's rmse: 8.23507\teval's rmse: 8.60969\n",
      "[200]\ttrain's rmse: 7.71477\teval's rmse: 8.30201\n",
      "[300]\ttrain's rmse: 7.36865\teval's rmse: 8.03943\n",
      "[400]\ttrain's rmse: 7.10358\teval's rmse: 7.85665\n",
      "[500]\ttrain's rmse: 6.90243\teval's rmse: 7.71223\n",
      "[600]\ttrain's rmse: 6.72766\teval's rmse: 7.59788\n",
      "[700]\ttrain's rmse: 6.56683\teval's rmse: 7.5151\n",
      "[800]\ttrain's rmse: 6.42393\teval's rmse: 7.44203\n",
      "[900]\ttrain's rmse: 6.29851\teval's rmse: 7.30123\n"
     ]
    },
    {
     "name": "stderr",
     "output_type": "stream",
     "text": [
      "bagging, val_score: 6.947516:  10%|#####3                                               | 1/10 [00:00<00:05,  1.72it/s]\u001b[32m[I 2021-06-20 17:25:34,980]\u001b[0m Trial 27 finished with value: 7.3056862068371045 and parameters: {'bagging_fraction': 0.6220362799423311, 'bagging_freq': 3}. Best is trial 27 with value: 7.3056862068371045.\u001b[0m\n",
      "bagging, val_score: 6.947516:  10%|#####3                                               | 1/10 [00:00<00:05,  1.72it/s]"
     ]
    },
    {
     "name": "stdout",
     "output_type": "stream",
     "text": [
      "[1000]\ttrain's rmse: 6.19282\teval's rmse: 7.30569\n",
      "Did not meet early stopping. Best iteration is:\n",
      "[1000]\ttrain's rmse: 6.19282\teval's rmse: 7.30569\n",
      "Training until validation scores don't improve for 100 rounds\n",
      "[100]\ttrain's rmse: 7.91291\teval's rmse: 7.95957\n",
      "[200]\ttrain's rmse: 7.31973\teval's rmse: 7.45797\n",
      "[300]\ttrain's rmse: 6.98559\teval's rmse: 7.24983\n",
      "[400]\ttrain's rmse: 6.74359\teval's rmse: 7.0927\n",
      "[500]\ttrain's rmse: 6.53357\teval's rmse: 7.04401\n",
      "[600]\ttrain's rmse: 6.36203\teval's rmse: 6.96092\n",
      "[700]\ttrain's rmse: 6.21669\teval's rmse: 6.9197\n",
      "[800]\ttrain's rmse: 6.09926\teval's rmse: 6.87115\n"
     ]
    },
    {
     "name": "stderr",
     "output_type": "stream",
     "text": [
      "bagging, val_score: 6.815372:  20%|##########6                                          | 2/10 [00:01<00:05,  1.37it/s]\u001b[32m[I 2021-06-20 17:25:35,817]\u001b[0m Trial 28 finished with value: 6.815372398645238 and parameters: {'bagging_fraction': 0.9029131169317636, 'bagging_freq': 3}. Best is trial 28 with value: 6.815372398645238.\u001b[0m\n",
      "bagging, val_score: 6.815372:  20%|##########6                                          | 2/10 [00:01<00:05,  1.37it/s]"
     ]
    },
    {
     "name": "stdout",
     "output_type": "stream",
     "text": [
      "[900]\ttrain's rmse: 5.97427\teval's rmse: 6.81422\n",
      "[1000]\ttrain's rmse: 5.87288\teval's rmse: 6.81537\n",
      "Did not meet early stopping. Best iteration is:\n",
      "[1000]\ttrain's rmse: 5.87288\teval's rmse: 6.81537\n",
      "Training until validation scores don't improve for 100 rounds\n",
      "[100]\ttrain's rmse: 7.88417\teval's rmse: 7.98544\n",
      "[200]\ttrain's rmse: 7.30819\teval's rmse: 7.4815\n",
      "[300]\ttrain's rmse: 6.99233\teval's rmse: 7.28889\n",
      "[400]\ttrain's rmse: 6.75812\teval's rmse: 7.1708\n",
      "[500]\ttrain's rmse: 6.54516\teval's rmse: 7.07533\n",
      "[600]\ttrain's rmse: 6.36692\teval's rmse: 7.01404\n",
      "[700]\ttrain's rmse: 6.22713\teval's rmse: 6.97628\n",
      "[800]\ttrain's rmse: 6.09315\teval's rmse: 6.93822\n",
      "[900]\ttrain's rmse: 5.98191\teval's rmse: 6.9144\n",
      "[1000]\ttrain's rmse: 5.89067\teval's rmse: 6.89013\n",
      "Did not meet early stopping. Best iteration is:\n",
      "[1000]\ttrain's rmse: 5.89067\teval's rmse: 6.89013\n"
     ]
    },
    {
     "name": "stderr",
     "output_type": "stream",
     "text": [
      "bagging, val_score: 6.815372:  30%|###############9                                     | 3/10 [00:02<00:05,  1.19it/s]\u001b[32m[I 2021-06-20 17:25:36,797]\u001b[0m Trial 29 finished with value: 6.890132296138827 and parameters: {'bagging_fraction': 0.9781752118464113, 'bagging_freq': 2}. Best is trial 28 with value: 6.815372398645238.\u001b[0m\n",
      "bagging, val_score: 6.815372:  30%|###############9                                     | 3/10 [00:02<00:05,  1.19it/s]"
     ]
    },
    {
     "name": "stdout",
     "output_type": "stream",
     "text": [
      "Training until validation scores don't improve for 100 rounds\n",
      "[100]\ttrain's rmse: 7.8732\teval's rmse: 7.96861\n",
      "[200]\ttrain's rmse: 7.30245\teval's rmse: 7.45918\n",
      "[300]\ttrain's rmse: 6.96849\teval's rmse: 7.27845\n",
      "[400]\ttrain's rmse: 6.71975\teval's rmse: 7.13549\n",
      "[500]\ttrain's rmse: 6.51763\teval's rmse: 7.08233\n",
      "[600]\ttrain's rmse: 6.3501\teval's rmse: 7.02783\n",
      "[700]\ttrain's rmse: 6.20897\teval's rmse: 6.9858\n",
      "[800]\ttrain's rmse: 6.07989\teval's rmse: 6.92633\n",
      "[900]\ttrain's rmse: 5.96555\teval's rmse: 6.90124\n",
      "[1000]\ttrain's rmse: 5.85311\teval's rmse: 6.84955\n",
      "Did not meet early stopping. Best iteration is:\n",
      "[1000]\ttrain's rmse: 5.85311\teval's rmse: 6.84955\n"
     ]
    },
    {
     "name": "stderr",
     "output_type": "stream",
     "text": [
      "bagging, val_score: 6.815372:  40%|#####################2                               | 4/10 [00:03<00:04,  1.22it/s]\u001b[32m[I 2021-06-20 17:25:37,588]\u001b[0m Trial 30 finished with value: 6.849549800134608 and parameters: {'bagging_fraction': 0.9332306333808753, 'bagging_freq': 3}. Best is trial 28 with value: 6.815372398645238.\u001b[0m\n",
      "bagging, val_score: 6.815372:  40%|#####################2                               | 4/10 [00:03<00:04,  1.22it/s]"
     ]
    },
    {
     "name": "stdout",
     "output_type": "stream",
     "text": [
      "Training until validation scores don't improve for 100 rounds\n",
      "[100]\ttrain's rmse: 8.23976\teval's rmse: 8.67429\n",
      "[200]\ttrain's rmse: 7.74972\teval's rmse: 8.31921\n",
      "[300]\ttrain's rmse: 7.41742\teval's rmse: 8.11335\n",
      "[400]\ttrain's rmse: 7.18003\teval's rmse: 7.92011\n",
      "[500]\ttrain's rmse: 6.9897\teval's rmse: 7.79911\n",
      "[600]\ttrain's rmse: 6.79453\teval's rmse: 7.6946\n",
      "[700]\ttrain's rmse: 6.65846\teval's rmse: 7.60818\n",
      "[800]\ttrain's rmse: 6.53337\teval's rmse: 7.50361\n",
      "[900]\ttrain's rmse: 6.41819\teval's rmse: 7.42207\n"
     ]
    },
    {
     "name": "stderr",
     "output_type": "stream",
     "text": [
      "bagging, val_score: 6.815372:  50%|##########################5                          | 5/10 [00:04<00:04,  1.17it/s]\u001b[32m[I 2021-06-20 17:25:38,488]\u001b[0m Trial 31 finished with value: 7.368640084220442 and parameters: {'bagging_fraction': 0.5374788987446811, 'bagging_freq': 4}. Best is trial 28 with value: 6.815372398645238.\u001b[0m\n",
      "bagging, val_score: 6.815372:  50%|##########################5                          | 5/10 [00:04<00:04,  1.17it/s]"
     ]
    },
    {
     "name": "stdout",
     "output_type": "stream",
     "text": [
      "[1000]\ttrain's rmse: 6.32132\teval's rmse: 7.36864\n",
      "Did not meet early stopping. Best iteration is:\n",
      "[1000]\ttrain's rmse: 6.32132\teval's rmse: 7.36864\n",
      "Training until validation scores don't improve for 100 rounds\n",
      "[100]\ttrain's rmse: 8.20892\teval's rmse: 8.61981\n",
      "[200]\ttrain's rmse: 7.69882\teval's rmse: 8.27611\n",
      "[300]\ttrain's rmse: 7.34034\teval's rmse: 8.03824\n",
      "[400]\ttrain's rmse: 7.07382\teval's rmse: 7.81485\n",
      "[500]\ttrain's rmse: 6.77056\teval's rmse: 7.5749\n",
      "[600]\ttrain's rmse: 6.60264\teval's rmse: 7.47598\n",
      "[700]\ttrain's rmse: 6.45346\teval's rmse: 7.4162\n",
      "[800]\ttrain's rmse: 6.315\teval's rmse: 7.3112\n",
      "[900]\ttrain's rmse: 6.19901\teval's rmse: 7.24357\n",
      "[1000]\ttrain's rmse: 6.10756\teval's rmse: 7.23148\n",
      "Did not meet early stopping. Best iteration is:\n",
      "[1000]\ttrain's rmse: 6.10756\teval's rmse: 7.23148\n"
     ]
    },
    {
     "name": "stderr",
     "output_type": "stream",
     "text": [
      "bagging, val_score: 6.815372:  60%|###############################8                     | 6/10 [00:05<00:03,  1.08it/s]\u001b[32m[I 2021-06-20 17:25:39,574]\u001b[0m Trial 32 finished with value: 7.231478558259526 and parameters: {'bagging_fraction': 0.673558814229275, 'bagging_freq': 4}. Best is trial 28 with value: 6.815372398645238.\u001b[0m\n",
      "bagging, val_score: 6.815372:  60%|###############################8                     | 6/10 [00:05<00:03,  1.08it/s]"
     ]
    },
    {
     "name": "stdout",
     "output_type": "stream",
     "text": [
      "Training until validation scores don't improve for 100 rounds\n",
      "[100]\ttrain's rmse: 8.17887\teval's rmse: 8.58937\n",
      "[200]\ttrain's rmse: 7.54716\teval's rmse: 8.074\n",
      "[300]\ttrain's rmse: 7.22404\teval's rmse: 7.83551\n",
      "[400]\ttrain's rmse: 6.94754\teval's rmse: 7.64998\n",
      "[500]\ttrain's rmse: 6.71094\teval's rmse: 7.49404\n",
      "[600]\ttrain's rmse: 6.48267\teval's rmse: 7.31306\n",
      "[700]\ttrain's rmse: 6.30411\teval's rmse: 7.21387\n",
      "[800]\ttrain's rmse: 6.13259\teval's rmse: 7.07842\n",
      "[900]\ttrain's rmse: 6.0155\teval's rmse: 7.01311"
     ]
    },
    {
     "name": "stderr",
     "output_type": "stream",
     "text": [
      "bagging, val_score: 6.815372:  70%|#####################################                | 7/10 [00:06<00:02,  1.08it/s]\u001b[32m[I 2021-06-20 17:25:40,486]\u001b[0m Trial 33 finished with value: 6.999383322170302 and parameters: {'bagging_fraction': 0.7468629622151657, 'bagging_freq': 1}. Best is trial 28 with value: 6.815372398645238.\u001b[0m\n",
      "bagging, val_score: 6.815372:  70%|#####################################                | 7/10 [00:06<00:02,  1.08it/s]"
     ]
    },
    {
     "name": "stdout",
     "output_type": "stream",
     "text": [
      "\n",
      "[1000]\ttrain's rmse: 5.92342\teval's rmse: 6.99938\n",
      "Did not meet early stopping. Best iteration is:\n",
      "[1000]\ttrain's rmse: 5.92342\teval's rmse: 6.99938\n",
      "Training until validation scores don't improve for 100 rounds\n",
      "[100]\ttrain's rmse: 8.22846\teval's rmse: 8.61608\n",
      "[200]\ttrain's rmse: 7.7261\teval's rmse: 8.30529\n",
      "[300]\ttrain's rmse: 7.3835\teval's rmse: 8.05949\n",
      "[400]\ttrain's rmse: 7.12913\teval's rmse: 7.84014\n",
      "[500]\ttrain's rmse: 6.91782\teval's rmse: 7.7447\n",
      "[600]\ttrain's rmse: 6.74268\teval's rmse: 7.6281\n",
      "[700]\ttrain's rmse: 6.58605\teval's rmse: 7.55155\n",
      "[800]\ttrain's rmse: 6.45015\teval's rmse: 7.49724\n",
      "[900]\ttrain's rmse: 6.32937\teval's rmse: 7.39927\n",
      "[1000]\ttrain's rmse: 6.22668\teval's rmse: 7.36783\n",
      "Did not meet early stopping. Best iteration is:\n",
      "[1000]\ttrain's rmse: 6.22668\teval's rmse: 7.36783\n"
     ]
    },
    {
     "name": "stderr",
     "output_type": "stream",
     "text": [
      "bagging, val_score: 6.815372:  80%|##########################################4          | 8/10 [00:06<00:01,  1.23it/s]\u001b[32m[I 2021-06-20 17:25:41,051]\u001b[0m Trial 34 finished with value: 7.367827148691425 and parameters: {'bagging_fraction': 0.5929220332329175, 'bagging_freq': 1}. Best is trial 28 with value: 6.815372398645238.\u001b[0m\n",
      "bagging, val_score: 6.815372:  80%|##########################################4          | 8/10 [00:06<00:01,  1.23it/s]"
     ]
    },
    {
     "name": "stdout",
     "output_type": "stream",
     "text": [
      "Training until validation scores don't improve for 100 rounds\n",
      "[100]\ttrain's rmse: 8.18548\teval's rmse: 8.59783\n",
      "[200]\ttrain's rmse: 7.45371\teval's rmse: 7.89666\n",
      "[300]\ttrain's rmse: 7.04003\teval's rmse: 7.56968\n",
      "[400]\ttrain's rmse: 6.75881\teval's rmse: 7.40219\n",
      "[500]\ttrain's rmse: 6.52596\teval's rmse: 7.1995\n",
      "[600]\ttrain's rmse: 6.33812\teval's rmse: 7.11625\n",
      "[700]\ttrain's rmse: 6.19208\teval's rmse: 7.03884\n",
      "[800]\ttrain's rmse: 6.04565\teval's rmse: 6.93636\n",
      "[900]\ttrain's rmse: 5.93821\teval's rmse: 6.90379\n",
      "[1000]\ttrain's rmse: 5.85417\teval's rmse: 6.87933\n",
      "Did not meet early stopping. Best iteration is:\n",
      "[1000]\ttrain's rmse: 5.85417\teval's rmse: 6.87933\n"
     ]
    },
    {
     "name": "stderr",
     "output_type": "stream",
     "text": [
      "bagging, val_score: 6.815372:  90%|###############################################7     | 9/10 [00:07<00:00,  1.24it/s]\u001b[32m[I 2021-06-20 17:25:41,849]\u001b[0m Trial 35 finished with value: 6.8793274092853665 and parameters: {'bagging_fraction': 0.8175190724283521, 'bagging_freq': 6}. Best is trial 28 with value: 6.815372398645238.\u001b[0m\n",
      "bagging, val_score: 6.815372:  90%|###############################################7     | 9/10 [00:07<00:00,  1.24it/s]"
     ]
    },
    {
     "name": "stdout",
     "output_type": "stream",
     "text": [
      "Training until validation scores don't improve for 100 rounds\n",
      "[100]\ttrain's rmse: 8.23849\teval's rmse: 8.6642\n",
      "[200]\ttrain's rmse: 7.75573\teval's rmse: 8.31065\n",
      "[300]\ttrain's rmse: 7.42523\teval's rmse: 8.08052\n",
      "[400]\ttrain's rmse: 7.17679\teval's rmse: 7.92577\n",
      "[500]\ttrain's rmse: 6.98563\teval's rmse: 7.80607\n",
      "[600]\ttrain's rmse: 6.80456\teval's rmse: 7.70656\n",
      "[700]\ttrain's rmse: 6.66811\teval's rmse: 7.62844\n",
      "[800]\ttrain's rmse: 6.54243\teval's rmse: 7.52258\n"
     ]
    },
    {
     "name": "stderr",
     "output_type": "stream",
     "text": [
      "bagging, val_score: 6.815372: 100%|####################################################| 10/10 [00:08<00:00,  1.21it/s]\u001b[32m[I 2021-06-20 17:25:42,711]\u001b[0m Trial 36 finished with value: 7.374011935481418 and parameters: {'bagging_fraction': 0.5349683379051716, 'bagging_freq': 4}. Best is trial 28 with value: 6.815372398645238.\u001b[0m\n",
      "bagging, val_score: 6.815372: 100%|####################################################| 10/10 [00:08<00:00,  1.20it/s]\n",
      "feature_fraction_stage2, val_score: 6.815372:   0%|                                              | 0/6 [00:00<?, ?it/s]"
     ]
    },
    {
     "name": "stdout",
     "output_type": "stream",
     "text": [
      "[900]\ttrain's rmse: 6.42327\teval's rmse: 7.44003\n",
      "[1000]\ttrain's rmse: 6.31976\teval's rmse: 7.37401\n",
      "Did not meet early stopping. Best iteration is:\n",
      "[1000]\ttrain's rmse: 6.31976\teval's rmse: 7.37401\n",
      "Training until validation scores don't improve for 100 rounds\n",
      "[100]\ttrain's rmse: 7.92663\teval's rmse: 7.98477\n",
      "[200]\ttrain's rmse: 7.3505\teval's rmse: 7.48462\n",
      "[300]\ttrain's rmse: 7.02104\teval's rmse: 7.29988\n",
      "[400]\ttrain's rmse: 6.76793\teval's rmse: 7.14051\n",
      "[500]\ttrain's rmse: 6.54571\teval's rmse: 7.0486\n",
      "[600]\ttrain's rmse: 6.37038\teval's rmse: 6.96062\n",
      "[700]\ttrain's rmse: 6.22486\teval's rmse: 6.89746\n",
      "[800]\ttrain's rmse: 6.09746\teval's rmse: 6.85958\n"
     ]
    },
    {
     "name": "stderr",
     "output_type": "stream",
     "text": [
      "feature_fraction_stage2, val_score: 6.815372:  17%|######3                               | 1/6 [00:00<00:04,  1.12it/s]\u001b[32m[I 2021-06-20 17:25:43,628]\u001b[0m Trial 37 finished with value: 6.830265712438807 and parameters: {'feature_fraction': 0.6839999999999999}. Best is trial 37 with value: 6.830265712438807.\u001b[0m\n",
      "feature_fraction_stage2, val_score: 6.815372:  17%|######3                               | 1/6 [00:00<00:04,  1.12it/s]"
     ]
    },
    {
     "name": "stdout",
     "output_type": "stream",
     "text": [
      "[900]\ttrain's rmse: 5.97919\teval's rmse: 6.83148\n",
      "[1000]\ttrain's rmse: 5.87899\teval's rmse: 6.83027\n",
      "Did not meet early stopping. Best iteration is:\n",
      "[1000]\ttrain's rmse: 5.87899\teval's rmse: 6.83027\n",
      "Training until validation scores don't improve for 100 rounds\n",
      "[100]\ttrain's rmse: 7.92663\teval's rmse: 7.98477\n",
      "[200]\ttrain's rmse: 7.3505\teval's rmse: 7.48462\n",
      "[300]\ttrain's rmse: 7.02104\teval's rmse: 7.29988\n",
      "[400]\ttrain's rmse: 6.76793\teval's rmse: 7.14051\n",
      "[500]\ttrain's rmse: 6.54571\teval's rmse: 7.0486\n",
      "[600]\ttrain's rmse: 6.37038\teval's rmse: 6.96062\n",
      "[700]\ttrain's rmse: 6.22486\teval's rmse: 6.89746\n",
      "[800]\ttrain's rmse: 6.09746\teval's rmse: 6.85958\n",
      "[900]\ttrain's rmse: 5.97919\teval's rmse: 6.83148\n",
      "[1000]\ttrain's rmse: 5.87899\teval's rmse: 6.83027\n",
      "Did not meet early stopping. Best iteration is:\n",
      "[1000]\ttrain's rmse: 5.87899\teval's rmse: 6.83027\n"
     ]
    },
    {
     "name": "stderr",
     "output_type": "stream",
     "text": [
      "feature_fraction_stage2, val_score: 6.815372:  33%|############6                         | 2/6 [00:01<00:03,  1.19it/s]\u001b[32m[I 2021-06-20 17:25:44,435]\u001b[0m Trial 38 finished with value: 6.830265712438807 and parameters: {'feature_fraction': 0.652}. Best is trial 37 with value: 6.830265712438807.\u001b[0m\n",
      "feature_fraction_stage2, val_score: 6.815372:  33%|############6                         | 2/6 [00:01<00:03,  1.19it/s]"
     ]
    },
    {
     "name": "stdout",
     "output_type": "stream",
     "text": [
      "Training until validation scores don't improve for 100 rounds\n",
      "[100]\ttrain's rmse: 7.90479\teval's rmse: 7.96748\n",
      "[200]\ttrain's rmse: 7.3351\teval's rmse: 7.48894\n",
      "[300]\ttrain's rmse: 7.01778\teval's rmse: 7.27783\n",
      "[400]\ttrain's rmse: 6.77019\teval's rmse: 7.12219\n",
      "[500]\ttrain's rmse: 6.54806\teval's rmse: 7.03567\n",
      "[600]\ttrain's rmse: 6.3724\teval's rmse: 6.94496\n",
      "[700]\ttrain's rmse: 6.21954\teval's rmse: 6.88813\n",
      "[800]\ttrain's rmse: 6.10278\teval's rmse: 6.84725\n"
     ]
    },
    {
     "name": "stderr",
     "output_type": "stream",
     "text": [
      "\r",
      "feature_fraction_stage2, val_score: 6.812435:  33%|############6                         | 2/6 [00:02<00:03,  1.19it/s]"
     ]
    },
    {
     "name": "stdout",
     "output_type": "stream",
     "text": [
      "[900]\ttrain's rmse: 5.98668\teval's rmse: 6.8169\n",
      "[1000]\ttrain's rmse: 5.88441\teval's rmse: 6.81243\n",
      "Did not meet early stopping. Best iteration is:\n",
      "[1000]\ttrain's rmse: 5.88441\teval's rmse: 6.81243\n"
     ]
    },
    {
     "name": "stderr",
     "output_type": "stream",
     "text": [
      "feature_fraction_stage2, val_score: 6.812435:  50%|###################                   | 3/6 [00:02<00:02,  1.24it/s]\u001b[32m[I 2021-06-20 17:25:45,197]\u001b[0m Trial 39 finished with value: 6.812434795103545 and parameters: {'feature_fraction': 0.62}. Best is trial 39 with value: 6.812434795103545.\u001b[0m\n",
      "feature_fraction_stage2, val_score: 6.812435:  50%|###################                   | 3/6 [00:02<00:02,  1.24it/s]"
     ]
    },
    {
     "name": "stdout",
     "output_type": "stream",
     "text": [
      "Training until validation scores don't improve for 100 rounds\n",
      "[100]\ttrain's rmse: 7.87456\teval's rmse: 7.928\n",
      "[200]\ttrain's rmse: 7.29084\teval's rmse: 7.43619\n",
      "[300]\ttrain's rmse: 6.96181\teval's rmse: 7.23448\n",
      "[400]\ttrain's rmse: 6.69898\teval's rmse: 7.04292\n",
      "[500]\ttrain's rmse: 6.47501\teval's rmse: 6.96199\n",
      "[600]\ttrain's rmse: 6.31182\teval's rmse: 6.89633\n",
      "[700]\ttrain's rmse: 6.16883\teval's rmse: 6.84165\n"
     ]
    },
    {
     "name": "stderr",
     "output_type": "stream",
     "text": [
      "feature_fraction_stage2, val_score: 6.760605:  67%|#########################3            | 4/6 [00:03<00:01,  1.28it/s]\u001b[32m[I 2021-06-20 17:25:45,944]\u001b[0m Trial 40 finished with value: 6.760604817586348 and parameters: {'feature_fraction': 0.748}. Best is trial 40 with value: 6.760604817586348.\u001b[0m\n",
      "feature_fraction_stage2, val_score: 6.760605:  67%|#########################3            | 4/6 [00:03<00:01,  1.28it/s]"
     ]
    },
    {
     "name": "stdout",
     "output_type": "stream",
     "text": [
      "[800]\ttrain's rmse: 6.04268\teval's rmse: 6.8006\n",
      "[900]\ttrain's rmse: 5.91614\teval's rmse: 6.75241\n",
      "[1000]\ttrain's rmse: 5.82087\teval's rmse: 6.7606\n",
      "Did not meet early stopping. Best iteration is:\n",
      "[1000]\ttrain's rmse: 5.82087\teval's rmse: 6.7606\n",
      "Training until validation scores don't improve for 100 rounds\n",
      "[100]\ttrain's rmse: 7.91291\teval's rmse: 7.95957\n",
      "[200]\ttrain's rmse: 7.31973\teval's rmse: 7.45797\n",
      "[300]\ttrain's rmse: 6.98559\teval's rmse: 7.24983\n",
      "[400]\ttrain's rmse: 6.74359\teval's rmse: 7.0927\n",
      "[500]\ttrain's rmse: 6.53357\teval's rmse: 7.04401\n",
      "[600]\ttrain's rmse: 6.36203\teval's rmse: 6.96092\n",
      "[700]\ttrain's rmse: 6.21669\teval's rmse: 6.9197\n",
      "[800]\ttrain's rmse: 6.09926\teval's rmse: 6.87115\n",
      "[900]\ttrain's rmse: 5.97427\teval's rmse: 6.81422\n",
      "[1000]\ttrain's rmse: 5.87288\teval's rmse: 6.81537\n",
      "Did not meet early stopping. Best iteration is:\n",
      "[1000]\ttrain's rmse: 5.87288\teval's rmse: 6.81537\n"
     ]
    },
    {
     "name": "stderr",
     "output_type": "stream",
     "text": [
      "feature_fraction_stage2, val_score: 6.760605:  83%|###############################6      | 5/6 [00:03<00:00,  1.43it/s]\u001b[32m[I 2021-06-20 17:25:46,499]\u001b[0m Trial 41 finished with value: 6.815372398645238 and parameters: {'feature_fraction': 0.716}. Best is trial 40 with value: 6.760604817586348.\u001b[0m\n",
      "feature_fraction_stage2, val_score: 6.760605:  83%|###############################6      | 5/6 [00:03<00:00,  1.43it/s]"
     ]
    },
    {
     "name": "stdout",
     "output_type": "stream",
     "text": [
      "Training until validation scores don't improve for 100 rounds\n",
      "[100]\ttrain's rmse: 7.84499\teval's rmse: 7.89856\n",
      "[200]\ttrain's rmse: 7.29559\teval's rmse: 7.44657\n",
      "[300]\ttrain's rmse: 6.9268\teval's rmse: 7.20747\n",
      "[400]\ttrain's rmse: 6.68385\teval's rmse: 7.06407\n",
      "[500]\ttrain's rmse: 6.4754\teval's rmse: 6.99044\n",
      "[600]\ttrain's rmse: 6.30056\teval's rmse: 6.92374\n",
      "[700]\ttrain's rmse: 6.15325\teval's rmse: 6.87429\n",
      "[800]\ttrain's rmse: 6.03591\teval's rmse: 6.82999\n",
      "[900]\ttrain's rmse: 5.92509\teval's rmse: 6.80485\n"
     ]
    },
    {
     "name": "stderr",
     "output_type": "stream",
     "text": [
      "feature_fraction_stage2, val_score: 6.760605: 100%|######################################| 6/6 [00:04<00:00,  1.53it/s]\u001b[32m[I 2021-06-20 17:25:47,065]\u001b[0m Trial 42 finished with value: 6.797545323291371 and parameters: {'feature_fraction': 0.7799999999999999}. Best is trial 40 with value: 6.760604817586348.\u001b[0m\n",
      "feature_fraction_stage2, val_score: 6.760605: 100%|######################################| 6/6 [00:04<00:00,  1.38it/s]\n",
      "regularization_factors, val_score: 6.760605:   0%|                                              | 0/20 [00:00<?, ?it/s]"
     ]
    },
    {
     "name": "stdout",
     "output_type": "stream",
     "text": [
      "[1000]\ttrain's rmse: 5.82901\teval's rmse: 6.79755\n",
      "Did not meet early stopping. Best iteration is:\n",
      "[1000]\ttrain's rmse: 5.82901\teval's rmse: 6.79755\n",
      "Training until validation scores don't improve for 100 rounds\n",
      "[100]\ttrain's rmse: 7.90914\teval's rmse: 7.98903\n",
      "[200]\ttrain's rmse: 7.32169\teval's rmse: 7.47562\n",
      "[300]\ttrain's rmse: 6.98992\teval's rmse: 7.2713\n",
      "[400]\ttrain's rmse: 6.75089\teval's rmse: 7.12252\n",
      "[500]\ttrain's rmse: 6.52415\teval's rmse: 7.03481\n",
      "[600]\ttrain's rmse: 6.35761\teval's rmse: 6.97155\n"
     ]
    },
    {
     "name": "stderr",
     "output_type": "stream",
     "text": [
      "\r",
      "regularization_factors, val_score: 6.760605:   0%|                                              | 0/20 [00:00<?, ?it/s]"
     ]
    },
    {
     "name": "stdout",
     "output_type": "stream",
     "text": [
      "[700]\ttrain's rmse: 6.206\teval's rmse: 6.89625\n",
      "[800]\ttrain's rmse: 6.08098\teval's rmse: 6.83866\n",
      "[900]\ttrain's rmse: 5.96063\teval's rmse: 6.7829\n",
      "[1000]\ttrain's rmse: 5.86331\teval's rmse: 6.80648\n",
      "Did not meet early stopping. Best iteration is:\n",
      "[1000]\ttrain's rmse: 5.86331\teval's rmse: 6.80648\n"
     ]
    },
    {
     "name": "stderr",
     "output_type": "stream",
     "text": [
      "regularization_factors, val_score: 6.760605:   5%|#9                                    | 1/20 [00:00<00:11,  1.61it/s]\u001b[32m[I 2021-06-20 17:25:47,701]\u001b[0m Trial 43 finished with value: 6.8064798936652515 and parameters: {'lambda_l1': 2.9232052372382992e-06, 'lambda_l2': 1.1449139697800856}. Best is trial 43 with value: 6.8064798936652515.\u001b[0m\n",
      "regularization_factors, val_score: 6.760605:   5%|#9                                    | 1/20 [00:00<00:11,  1.61it/s]"
     ]
    },
    {
     "name": "stdout",
     "output_type": "stream",
     "text": [
      "Training until validation scores don't improve for 100 rounds\n",
      "[100]\ttrain's rmse: 7.8706\teval's rmse: 7.92554\n",
      "[200]\ttrain's rmse: 7.28054\teval's rmse: 7.44346\n",
      "[300]\ttrain's rmse: 6.96173\teval's rmse: 7.22857\n",
      "[400]\ttrain's rmse: 6.70868\teval's rmse: 7.05313\n",
      "[500]\ttrain's rmse: 6.48358\teval's rmse: 6.94888\n",
      "[600]\ttrain's rmse: 6.30554\teval's rmse: 6.88553\n",
      "[700]\ttrain's rmse: 6.16712\teval's rmse: 6.83513\n",
      "[800]\ttrain's rmse: 6.04791\teval's rmse: 6.79815\n",
      "[900]\ttrain's rmse: 5.92952\teval's rmse: 6.74692\n",
      "[1000]\ttrain's rmse: 5.82786\teval's rmse: 6.74004\n"
     ]
    },
    {
     "name": "stderr",
     "output_type": "stream",
     "text": [
      "regularization_factors, val_score: 6.740037:  10%|###8                                  | 2/20 [00:01<00:13,  1.29it/s]\u001b[32m[I 2021-06-20 17:25:48,584]\u001b[0m Trial 44 finished with value: 6.740037072733227 and parameters: {'lambda_l1': 3.435766833260534e-07, 'lambda_l2': 0.09405245089777105}. Best is trial 44 with value: 6.740037072733227.\u001b[0m\n",
      "regularization_factors, val_score: 6.740037:  10%|###8                                  | 2/20 [00:01<00:13,  1.29it/s]"
     ]
    },
    {
     "name": "stdout",
     "output_type": "stream",
     "text": [
      "Did not meet early stopping. Best iteration is:\n",
      "[1000]\ttrain's rmse: 5.82786\teval's rmse: 6.74004\n",
      "Training until validation scores don't improve for 100 rounds\n",
      "[100]\ttrain's rmse: 7.87379\teval's rmse: 7.9394\n",
      "[200]\ttrain's rmse: 7.28311\teval's rmse: 7.44022\n",
      "[300]\ttrain's rmse: 6.95437\teval's rmse: 7.24078\n",
      "[400]\ttrain's rmse: 6.70237\teval's rmse: 7.06922\n",
      "[500]\ttrain's rmse: 6.48836\teval's rmse: 6.98439\n",
      "[600]\ttrain's rmse: 6.30955\teval's rmse: 6.9165\n",
      "[700]\ttrain's rmse: 6.16852\teval's rmse: 6.86105\n",
      "[800]\ttrain's rmse: 6.04824\teval's rmse: 6.8083\n",
      "[900]\ttrain's rmse: 5.92614\teval's rmse: 6.75605\n"
     ]
    },
    {
     "name": "stderr",
     "output_type": "stream",
     "text": [
      "regularization_factors, val_score: 6.740037:  15%|#####7                                | 3/20 [00:02<00:13,  1.27it/s]\u001b[32m[I 2021-06-20 17:25:49,396]\u001b[0m Trial 45 finished with value: 6.760350174526886 and parameters: {'lambda_l1': 0.00349368544685422, 'lambda_l2': 0.1738146678608754}. Best is trial 44 with value: 6.740037072733227.\u001b[0m\n",
      "regularization_factors, val_score: 6.740037:  15%|#####7                                | 3/20 [00:02<00:13,  1.27it/s]"
     ]
    },
    {
     "name": "stdout",
     "output_type": "stream",
     "text": [
      "[1000]\ttrain's rmse: 5.82945\teval's rmse: 6.76035\n",
      "Did not meet early stopping. Best iteration is:\n",
      "[1000]\ttrain's rmse: 5.82945\teval's rmse: 6.76035\n",
      "Training until validation scores don't improve for 100 rounds\n",
      "[100]\ttrain's rmse: 7.86954\teval's rmse: 7.92546\n",
      "[200]\ttrain's rmse: 7.28761\teval's rmse: 7.41572\n",
      "[300]\ttrain's rmse: 6.95798\teval's rmse: 7.21355\n",
      "[400]\ttrain's rmse: 6.71115\teval's rmse: 7.05365\n",
      "[500]\ttrain's rmse: 6.4916\teval's rmse: 6.96394\n",
      "[600]\ttrain's rmse: 6.32341\teval's rmse: 6.91256\n",
      "[700]\ttrain's rmse: 6.18218\teval's rmse: 6.85407\n",
      "[800]\ttrain's rmse: 6.05825\teval's rmse: 6.81096\n",
      "[900]\ttrain's rmse: 5.93714\teval's rmse: 6.75872\n",
      "[1000]\ttrain's rmse: 5.83653\teval's rmse: 6.76257\n",
      "Did not meet early stopping. Best iteration is:\n",
      "[1000]\ttrain's rmse: 5.83653\teval's rmse: 6.76257\n"
     ]
    },
    {
     "name": "stderr",
     "output_type": "stream",
     "text": [
      "regularization_factors, val_score: 6.740037:  20%|#######6                              | 4/20 [00:03<00:13,  1.23it/s]\u001b[32m[I 2021-06-20 17:25:50,243]\u001b[0m Trial 46 finished with value: 6.76256596489843 and parameters: {'lambda_l1': 5.488061997263514e-06, 'lambda_l2': 0.19518017417679107}. Best is trial 44 with value: 6.740037072733227.\u001b[0m\n",
      "regularization_factors, val_score: 6.740037:  20%|#######6                              | 4/20 [00:03<00:13,  1.23it/s]"
     ]
    },
    {
     "name": "stdout",
     "output_type": "stream",
     "text": [
      "Training until validation scores don't improve for 100 rounds\n",
      "[100]\ttrain's rmse: 7.87461\teval's rmse: 7.92809\n",
      "[200]\ttrain's rmse: 7.29089\teval's rmse: 7.43624\n",
      "[300]\ttrain's rmse: 6.96188\teval's rmse: 7.23453\n",
      "[400]\ttrain's rmse: 6.70424\teval's rmse: 7.04946\n",
      "[500]\ttrain's rmse: 6.47937\teval's rmse: 6.94148\n",
      "[600]\ttrain's rmse: 6.3066\teval's rmse: 6.89151\n",
      "[700]\ttrain's rmse: 6.16124\teval's rmse: 6.83718\n",
      "[800]\ttrain's rmse: 6.0401\teval's rmse: 6.79127\n"
     ]
    },
    {
     "name": "stderr",
     "output_type": "stream",
     "text": [
      "regularization_factors, val_score: 6.740037:  25%|#########5                            | 5/20 [00:04<00:12,  1.18it/s]\u001b[32m[I 2021-06-20 17:25:51,149]\u001b[0m Trial 47 finished with value: 6.754562723602663 and parameters: {'lambda_l1': 3.337454235648782e-06, 'lambda_l2': 0.0053746318712833}. Best is trial 44 with value: 6.740037072733227.\u001b[0m\n",
      "regularization_factors, val_score: 6.740037:  25%|#########5                            | 5/20 [00:04<00:12,  1.18it/s]"
     ]
    },
    {
     "name": "stdout",
     "output_type": "stream",
     "text": [
      "[900]\ttrain's rmse: 5.92201\teval's rmse: 6.74477\n",
      "[1000]\ttrain's rmse: 5.8279\teval's rmse: 6.75456\n",
      "Did not meet early stopping. Best iteration is:\n",
      "[1000]\ttrain's rmse: 5.8279\teval's rmse: 6.75456\n",
      "Training until validation scores don't improve for 100 rounds\n",
      "[100]\ttrain's rmse: 7.87463\teval's rmse: 7.92809\n",
      "[200]\ttrain's rmse: 7.29096\teval's rmse: 7.43629\n",
      "[300]\ttrain's rmse: 6.96199\teval's rmse: 7.23459\n",
      "[400]\ttrain's rmse: 6.70374\teval's rmse: 7.04816\n",
      "[500]\ttrain's rmse: 6.4853\teval's rmse: 6.96086\n",
      "[600]\ttrain's rmse: 6.3109\teval's rmse: 6.90215\n",
      "[700]\ttrain's rmse: 6.17047\teval's rmse: 6.84897\n",
      "[800]\ttrain's rmse: 6.04112\teval's rmse: 6.80326\n",
      "[900]\ttrain's rmse: 5.91851\teval's rmse: 6.77697\n"
     ]
    },
    {
     "name": "stderr",
     "output_type": "stream",
     "text": [
      "regularization_factors, val_score: 6.740037:  30%|###########4                          | 6/20 [00:04<00:10,  1.32it/s]\u001b[32m[I 2021-06-20 17:25:51,725]\u001b[0m Trial 48 finished with value: 6.788261759193195 and parameters: {'lambda_l1': 0.04710447841607578, 'lambda_l2': 8.88457453271595e-08}. Best is trial 44 with value: 6.740037072733227.\u001b[0m\n",
      "regularization_factors, val_score: 6.740037:  30%|###########4                          | 6/20 [00:04<00:10,  1.32it/s]"
     ]
    },
    {
     "name": "stdout",
     "output_type": "stream",
     "text": [
      "[1000]\ttrain's rmse: 5.82872\teval's rmse: 6.78826\n",
      "Did not meet early stopping. Best iteration is:\n",
      "[1000]\ttrain's rmse: 5.82872\teval's rmse: 6.78826\n",
      "Training until validation scores don't improve for 100 rounds\n",
      "[100]\ttrain's rmse: 7.87456\teval's rmse: 7.928\n",
      "[200]\ttrain's rmse: 7.29084\teval's rmse: 7.43619\n",
      "[300]\ttrain's rmse: 6.96181\teval's rmse: 7.23448\n",
      "[400]\ttrain's rmse: 6.69898\teval's rmse: 7.04292\n",
      "[500]\ttrain's rmse: 6.47501\teval's rmse: 6.96199\n",
      "[600]\ttrain's rmse: 6.31182\teval's rmse: 6.89633\n",
      "[700]\ttrain's rmse: 6.16883\teval's rmse: 6.84166\n",
      "[800]\ttrain's rmse: 6.04268\teval's rmse: 6.8006\n",
      "[900]\ttrain's rmse: 5.91614\teval's rmse: 6.75241\n",
      "[1000]\ttrain's rmse: 5.82087\teval's rmse: 6.7606\n",
      "Did not meet early stopping. Best iteration is:\n",
      "[1000]\ttrain's rmse: 5.82087\teval's rmse: 6.7606\n"
     ]
    },
    {
     "name": "stderr",
     "output_type": "stream",
     "text": [
      "regularization_factors, val_score: 6.740037:  35%|#############3                        | 7/20 [00:05<00:10,  1.28it/s]\u001b[32m[I 2021-06-20 17:25:52,560]\u001b[0m Trial 49 finished with value: 6.760604818465192 and parameters: {'lambda_l1': 6.770434114590381e-07, 'lambda_l2': 1.7627305337419048e-07}. Best is trial 44 with value: 6.740037072733227.\u001b[0m\n",
      "regularization_factors, val_score: 6.740037:  35%|#############3                        | 7/20 [00:05<00:10,  1.28it/s]"
     ]
    },
    {
     "name": "stdout",
     "output_type": "stream",
     "text": [
      "Training until validation scores don't improve for 100 rounds\n",
      "[100]\ttrain's rmse: 7.96322\teval's rmse: 8.03711\n",
      "[200]\ttrain's rmse: 7.36834\teval's rmse: 7.51909\n",
      "[300]\ttrain's rmse: 7.05377\teval's rmse: 7.30267\n",
      "[400]\ttrain's rmse: 6.81892\teval's rmse: 7.15646\n",
      "[500]\ttrain's rmse: 6.60926\teval's rmse: 7.04219\n",
      "[600]\ttrain's rmse: 6.44402\teval's rmse: 6.97101\n",
      "[700]\ttrain's rmse: 6.30449\teval's rmse: 6.90658\n",
      "[800]\ttrain's rmse: 6.17785\teval's rmse: 6.85808\n",
      "[900]\ttrain's rmse: 6.06169\teval's rmse: 6.81518\n",
      "[1000]\ttrain's rmse: 5.97007\teval's rmse: 6.82622"
     ]
    },
    {
     "name": "stderr",
     "output_type": "stream",
     "text": [
      "regularization_factors, val_score: 6.740037:  40%|###############2                      | 8/20 [00:06<00:08,  1.39it/s]\u001b[32m[I 2021-06-20 17:25:53,147]\u001b[0m Trial 50 finished with value: 6.82621712308547 and parameters: {'lambda_l1': 1.5363000611132207e-08, 'lambda_l2': 5.628096394833666}. Best is trial 44 with value: 6.740037072733227.\u001b[0m\n",
      "regularization_factors, val_score: 6.740037:  40%|###############2                      | 8/20 [00:06<00:08,  1.39it/s]"
     ]
    },
    {
     "name": "stdout",
     "output_type": "stream",
     "text": [
      "\n",
      "Did not meet early stopping. Best iteration is:\n",
      "[1000]\ttrain's rmse: 5.97007\teval's rmse: 6.82622\n",
      "Training until validation scores don't improve for 100 rounds\n",
      "[100]\ttrain's rmse: 7.9036\teval's rmse: 7.97808\n",
      "[200]\ttrain's rmse: 7.33441\teval's rmse: 7.4909\n",
      "[300]\ttrain's rmse: 6.98443\teval's rmse: 7.26252\n",
      "[400]\ttrain's rmse: 6.74295\teval's rmse: 7.10271\n",
      "[500]\ttrain's rmse: 6.52451\teval's rmse: 7.01895\n",
      "[600]\ttrain's rmse: 6.35707\teval's rmse: 6.93805\n",
      "[700]\ttrain's rmse: 6.2145\teval's rmse: 6.88032\n",
      "[800]\ttrain's rmse: 6.08474\teval's rmse: 6.83102\n",
      "[900]\ttrain's rmse: 5.96318\teval's rmse: 6.78269\n"
     ]
    },
    {
     "name": "stderr",
     "output_type": "stream",
     "text": [
      "regularization_factors, val_score: 6.740037:  45%|#################1                    | 9/20 [00:06<00:07,  1.45it/s]\u001b[32m[I 2021-06-20 17:25:53,762]\u001b[0m Trial 51 finished with value: 6.783256501733607 and parameters: {'lambda_l1': 2.2564286554530243e-05, 'lambda_l2': 0.7766243194961507}. Best is trial 44 with value: 6.740037072733227.\u001b[0m\n",
      "regularization_factors, val_score: 6.740037:  45%|#################1                    | 9/20 [00:06<00:07,  1.45it/s]"
     ]
    },
    {
     "name": "stdout",
     "output_type": "stream",
     "text": [
      "[1000]\ttrain's rmse: 5.86683\teval's rmse: 6.78326\n",
      "Did not meet early stopping. Best iteration is:\n",
      "[1000]\ttrain's rmse: 5.86683\teval's rmse: 6.78326\n",
      "Training until validation scores don't improve for 100 rounds\n",
      "[100]\ttrain's rmse: 7.86948\teval's rmse: 7.92536\n",
      "[200]\ttrain's rmse: 7.28755\teval's rmse: 7.41565\n",
      "[300]\ttrain's rmse: 6.9579\teval's rmse: 7.2135\n",
      "[400]\ttrain's rmse: 6.71106\teval's rmse: 7.0536\n",
      "[500]\ttrain's rmse: 6.4915\teval's rmse: 6.9639\n",
      "[600]\ttrain's rmse: 6.32331\teval's rmse: 6.91253\n",
      "[700]\ttrain's rmse: 6.18207\teval's rmse: 6.85404\n"
     ]
    },
    {
     "name": "stderr",
     "output_type": "stream",
     "text": [
      "regularization_factors, val_score: 6.740037:  50%|##################5                  | 10/20 [00:07<00:06,  1.56it/s]\u001b[32m[I 2021-06-20 17:25:54,293]\u001b[0m Trial 52 finished with value: 6.762558572274372 and parameters: {'lambda_l1': 3.9455430907819926e-08, 'lambda_l2': 0.18908455551411404}. Best is trial 44 with value: 6.740037072733227.\u001b[0m\n",
      "regularization_factors, val_score: 6.740037:  50%|##################5                  | 10/20 [00:07<00:06,  1.56it/s]"
     ]
    },
    {
     "name": "stdout",
     "output_type": "stream",
     "text": [
      "[800]\ttrain's rmse: 6.05814\teval's rmse: 6.81095\n",
      "[900]\ttrain's rmse: 5.93703\teval's rmse: 6.7587\n",
      "[1000]\ttrain's rmse: 5.83641\teval's rmse: 6.76256\n",
      "Did not meet early stopping. Best iteration is:\n",
      "[1000]\ttrain's rmse: 5.83641\teval's rmse: 6.76256\n",
      "Training until validation scores don't improve for 100 rounds\n",
      "[100]\ttrain's rmse: 7.87554\teval's rmse: 7.90412\n",
      "[200]\ttrain's rmse: 7.32014\teval's rmse: 7.42689\n",
      "[300]\ttrain's rmse: 6.99413\teval's rmse: 7.23271\n",
      "[400]\ttrain's rmse: 6.74282\teval's rmse: 7.07067\n",
      "[500]\ttrain's rmse: 6.52188\teval's rmse: 6.97539\n",
      "[600]\ttrain's rmse: 6.35515\teval's rmse: 6.90501\n",
      "[700]\ttrain's rmse: 6.21437\teval's rmse: 6.85242\n",
      "[800]\ttrain's rmse: 6.08821\teval's rmse: 6.80056\n",
      "[900]\ttrain's rmse: 5.97806\teval's rmse: 6.75714\n",
      "[1000]\ttrain's rmse: 5.88737\teval's rmse: 6.77765"
     ]
    },
    {
     "name": "stderr",
     "output_type": "stream",
     "text": [
      "regularization_factors, val_score: 6.740037:  55%|####################3                | 11/20 [00:07<00:05,  1.64it/s]\u001b[32m[I 2021-06-20 17:25:54,851]\u001b[0m Trial 53 finished with value: 6.777645513485455 and parameters: {'lambda_l1': 4.093908721123763, 'lambda_l2': 2.196787467870131e-05}. Best is trial 44 with value: 6.740037072733227.\u001b[0m\n",
      "regularization_factors, val_score: 6.740037:  55%|####################3                | 11/20 [00:07<00:05,  1.64it/s]"
     ]
    },
    {
     "name": "stdout",
     "output_type": "stream",
     "text": [
      "\n",
      "Did not meet early stopping. Best iteration is:\n",
      "[1000]\ttrain's rmse: 5.88737\teval's rmse: 6.77765\n",
      "Training until validation scores don't improve for 100 rounds\n",
      "[100]\ttrain's rmse: 7.87457\teval's rmse: 7.92801\n",
      "[200]\ttrain's rmse: 7.29085\teval's rmse: 7.4362\n",
      "[300]\ttrain's rmse: 6.96182\teval's rmse: 7.23449\n",
      "[400]\ttrain's rmse: 6.70379\teval's rmse: 7.04954\n",
      "[500]\ttrain's rmse: 6.48392\teval's rmse: 6.96325\n",
      "[600]\ttrain's rmse: 6.31127\teval's rmse: 6.89142\n"
     ]
    },
    {
     "name": "stderr",
     "output_type": "stream",
     "text": [
      "regularization_factors, val_score: 6.740037:  60%|######################2              | 12/20 [00:08<00:04,  1.69it/s]\u001b[32m[I 2021-06-20 17:25:55,391]\u001b[0m Trial 54 finished with value: 6.75664558304026 and parameters: {'lambda_l1': 0.00014509039836189917, 'lambda_l2': 0.0010223091469416332}. Best is trial 44 with value: 6.740037072733227.\u001b[0m\n"
     ]
    },
    {
     "name": "stdout",
     "output_type": "stream",
     "text": [
      "[700]\ttrain's rmse: 6.16268\teval's rmse: 6.83819\n",
      "[800]\ttrain's rmse: 6.04123\teval's rmse: 6.79199\n",
      "[900]\ttrain's rmse: 5.91861\teval's rmse: 6.74606\n",
      "[1000]\ttrain's rmse: 5.82605\teval's rmse: 6.75665\n",
      "Did not meet early stopping. Best iteration is:\n",
      "[1000]\ttrain's rmse: 5.82605\teval's rmse: 6.75665\n"
     ]
    },
    {
     "name": "stderr",
     "output_type": "stream",
     "text": [
      "\r",
      "regularization_factors, val_score: 6.740037:  60%|######################2              | 12/20 [00:08<00:04,  1.69it/s]"
     ]
    },
    {
     "name": "stdout",
     "output_type": "stream",
     "text": [
      "Training until validation scores don't improve for 100 rounds\n",
      "[100]\ttrain's rmse: 7.87459\teval's rmse: 7.92805\n",
      "[200]\ttrain's rmse: 7.29087\teval's rmse: 7.43622\n",
      "[300]\ttrain's rmse: 6.96185\teval's rmse: 7.23451\n",
      "[400]\ttrain's rmse: 6.70382\teval's rmse: 7.04956\n",
      "[500]\ttrain's rmse: 6.48396\teval's rmse: 6.96326\n",
      "[600]\ttrain's rmse: 6.3113\teval's rmse: 6.89143\n",
      "[700]\ttrain's rmse: 6.16272\teval's rmse: 6.8382\n",
      "[800]\ttrain's rmse: 6.04082\teval's rmse: 6.79016\n",
      "[900]\ttrain's rmse: 5.91973\teval's rmse: 6.75014\n",
      "[1000]\ttrain's rmse: 5.82463\teval's rmse: 6.75564\n",
      "Did not meet early stopping. Best iteration is:\n",
      "[1000]\ttrain's rmse: 5.82463\teval's rmse: 6.75564\n"
     ]
    },
    {
     "name": "stderr",
     "output_type": "stream",
     "text": [
      "regularization_factors, val_score: 6.740037:  65%|########################             | 13/20 [00:08<00:04,  1.71it/s]\u001b[32m[I 2021-06-20 17:25:55,955]\u001b[0m Trial 55 finished with value: 6.7556399280673 and parameters: {'lambda_l1': 1.5059051262620286e-07, 'lambda_l2': 0.0030476604870309214}. Best is trial 44 with value: 6.740037072733227.\u001b[0m\n",
      "regularization_factors, val_score: 6.740037:  65%|########################             | 13/20 [00:08<00:04,  1.71it/s]"
     ]
    },
    {
     "name": "stdout",
     "output_type": "stream",
     "text": [
      "Training until validation scores don't improve for 100 rounds\n",
      "[100]\ttrain's rmse: 7.87464\teval's rmse: 7.92813\n",
      "[200]\ttrain's rmse: 7.29091\teval's rmse: 7.43626\n",
      "[300]\ttrain's rmse: 6.96191\teval's rmse: 7.23455\n",
      "[400]\ttrain's rmse: 6.70428\teval's rmse: 7.04948\n",
      "[500]\ttrain's rmse: 6.47942\teval's rmse: 6.9415\n",
      "[600]\ttrain's rmse: 6.30664\teval's rmse: 6.89153\n",
      "[700]\ttrain's rmse: 6.16129\teval's rmse: 6.8372\n",
      "[800]\ttrain's rmse: 6.04015\teval's rmse: 6.79128\n",
      "[900]\ttrain's rmse: 5.92206\teval's rmse: 6.74477\n"
     ]
    },
    {
     "name": "stderr",
     "output_type": "stream",
     "text": [
      "regularization_factors, val_score: 6.740037:  70%|#########################9           | 14/20 [00:09<00:03,  1.75it/s]\u001b[32m[I 2021-06-20 17:25:56,503]\u001b[0m Trial 56 finished with value: 6.751662754584093 and parameters: {'lambda_l1': 0.0007883232114239548, 'lambda_l2': 0.007684008160662919}. Best is trial 44 with value: 6.740037072733227.\u001b[0m\n",
      "regularization_factors, val_score: 6.740037:  70%|#########################9           | 14/20 [00:09<00:03,  1.75it/s]"
     ]
    },
    {
     "name": "stdout",
     "output_type": "stream",
     "text": [
      "[1000]\ttrain's rmse: 5.82736\teval's rmse: 6.75166\n",
      "Did not meet early stopping. Best iteration is:\n",
      "[1000]\ttrain's rmse: 5.82736\teval's rmse: 6.75166\n",
      "Training until validation scores don't improve for 100 rounds\n",
      "[100]\ttrain's rmse: 7.87457\teval's rmse: 7.928\n",
      "[200]\ttrain's rmse: 7.29085\teval's rmse: 7.43619\n",
      "[300]\ttrain's rmse: 6.96182\teval's rmse: 7.23449\n",
      "[400]\ttrain's rmse: 6.70353\teval's rmse: 7.04805\n",
      "[500]\ttrain's rmse: 6.48506\teval's rmse: 6.96075\n",
      "[600]\ttrain's rmse: 6.31063\teval's rmse: 6.90206\n"
     ]
    },
    {
     "name": "stderr",
     "output_type": "stream",
     "text": [
      "\r",
      "regularization_factors, val_score: 6.740037:  70%|#########################9           | 14/20 [00:09<00:03,  1.75it/s]"
     ]
    },
    {
     "name": "stdout",
     "output_type": "stream",
     "text": [
      "[700]\ttrain's rmse: 6.17018\teval's rmse: 6.84888\n",
      "[800]\ttrain's rmse: 6.04086\teval's rmse: 6.80825\n",
      "[900]\ttrain's rmse: 5.91791\teval's rmse: 6.78757\n",
      "[1000]\ttrain's rmse: 5.82679\teval's rmse: 6.79916\n",
      "Did not meet early stopping. Best iteration is:\n",
      "[1000]\ttrain's rmse: 5.82679\teval's rmse: 6.79916\n"
     ]
    },
    {
     "name": "stderr",
     "output_type": "stream",
     "text": [
      "regularization_factors, val_score: 6.740037:  75%|###########################7         | 15/20 [00:09<00:02,  1.75it/s]\u001b[32m[I 2021-06-20 17:25:57,068]\u001b[0m Trial 57 finished with value: 6.799162416768021 and parameters: {'lambda_l1': 0.0031575141532760313, 'lambda_l2': 7.626804507896774e-05}. Best is trial 44 with value: 6.740037072733227.\u001b[0m\n",
      "regularization_factors, val_score: 6.740037:  75%|###########################7         | 15/20 [00:09<00:02,  1.75it/s]"
     ]
    },
    {
     "name": "stdout",
     "output_type": "stream",
     "text": [
      "Training until validation scores don't improve for 100 rounds\n",
      "[100]\ttrain's rmse: 7.87249\teval's rmse: 7.92213\n",
      "[200]\ttrain's rmse: 7.29384\teval's rmse: 7.42792\n",
      "[300]\ttrain's rmse: 6.95643\teval's rmse: 7.22681\n",
      "[400]\ttrain's rmse: 6.71132\teval's rmse: 7.06418\n",
      "[500]\ttrain's rmse: 6.49716\teval's rmse: 6.96343\n",
      "[600]\ttrain's rmse: 6.32476\teval's rmse: 6.91051\n",
      "[700]\ttrain's rmse: 6.17966\teval's rmse: 6.8528\n",
      "[800]\ttrain's rmse: 6.05758\teval's rmse: 6.80343\n",
      "[900]\ttrain's rmse: 5.93306\teval's rmse: 6.75715\n"
     ]
    },
    {
     "name": "stderr",
     "output_type": "stream",
     "text": [
      "regularization_factors, val_score: 6.740037:  80%|#############################6       | 16/20 [00:10<00:02,  1.73it/s]\u001b[32m[I 2021-06-20 17:25:57,660]\u001b[0m Trial 58 finished with value: 6.765328179304831 and parameters: {'lambda_l1': 0.3855566598265265, 'lambda_l2': 0.029640345002556166}. Best is trial 44 with value: 6.740037072733227.\u001b[0m\n",
      "regularization_factors, val_score: 6.740037:  80%|#############################6       | 16/20 [00:10<00:02,  1.73it/s]"
     ]
    },
    {
     "name": "stdout",
     "output_type": "stream",
     "text": [
      "[1000]\ttrain's rmse: 5.84133\teval's rmse: 6.76533\n",
      "Did not meet early stopping. Best iteration is:\n",
      "[1000]\ttrain's rmse: 5.84133\teval's rmse: 6.76533\n",
      "Training until validation scores don't improve for 100 rounds\n",
      "[100]\ttrain's rmse: 7.87456\teval's rmse: 7.928\n",
      "[200]\ttrain's rmse: 7.29084\teval's rmse: 7.43619\n",
      "[300]\ttrain's rmse: 6.96181\teval's rmse: 7.23448\n",
      "[400]\ttrain's rmse: 6.69898\teval's rmse: 7.04292\n",
      "[500]\ttrain's rmse: 6.47501\teval's rmse: 6.96199\n",
      "[600]\ttrain's rmse: 6.31182\teval's rmse: 6.89633\n"
     ]
    },
    {
     "name": "stderr",
     "output_type": "stream",
     "text": [
      "\r",
      "regularization_factors, val_score: 6.740037:  80%|#############################6       | 16/20 [00:11<00:02,  1.73it/s]"
     ]
    },
    {
     "name": "stdout",
     "output_type": "stream",
     "text": [
      "[700]\ttrain's rmse: 6.16883\teval's rmse: 6.84166\n",
      "[800]\ttrain's rmse: 6.04269\teval's rmse: 6.8006\n",
      "[900]\ttrain's rmse: 5.91614\teval's rmse: 6.75241\n",
      "[1000]\ttrain's rmse: 5.82087\teval's rmse: 6.76061\n",
      "Did not meet early stopping. Best iteration is:\n",
      "[1000]\ttrain's rmse: 5.82087\teval's rmse: 6.76061\n"
     ]
    },
    {
     "name": "stderr",
     "output_type": "stream",
     "text": [
      "regularization_factors, val_score: 6.740037:  85%|###############################4     | 17/20 [00:11<00:01,  1.76it/s]\u001b[32m[I 2021-06-20 17:25:58,199]\u001b[0m Trial 59 finished with value: 6.760605036350816 and parameters: {'lambda_l1': 0.00025300948843582434, 'lambda_l2': 1.8554163536795436e-05}. Best is trial 44 with value: 6.740037072733227.\u001b[0m\n",
      "regularization_factors, val_score: 6.740037:  85%|###############################4     | 17/20 [00:11<00:01,  1.76it/s]"
     ]
    },
    {
     "name": "stdout",
     "output_type": "stream",
     "text": [
      "Training until validation scores don't improve for 100 rounds\n",
      "[100]\ttrain's rmse: 7.87472\teval's rmse: 7.92826\n",
      "[200]\ttrain's rmse: 7.29099\teval's rmse: 7.43635\n",
      "[300]\ttrain's rmse: 6.96202\teval's rmse: 7.23462\n",
      "[400]\ttrain's rmse: 6.70375\teval's rmse: 7.04817\n",
      "[500]\ttrain's rmse: 6.48532\teval's rmse: 6.96086\n",
      "[600]\ttrain's rmse: 6.31069\teval's rmse: 6.90069\n",
      "[700]\ttrain's rmse: 6.16676\teval's rmse: 6.85149\n",
      "[800]\ttrain's rmse: 6.04083\teval's rmse: 6.80254\n",
      "[900]\ttrain's rmse: 5.92463\teval's rmse: 6.76868\n",
      "[1000]\ttrain's rmse: 5.82698\teval's rmse: 6.76718\n",
      "Did not meet early stopping. Best iteration is:\n",
      "[1000]\ttrain's rmse: 5.82698\teval's rmse: 6.76718\n"
     ]
    },
    {
     "name": "stderr",
     "output_type": "stream",
     "text": [
      "regularization_factors, val_score: 6.740037:  90%|#################################3   | 18/20 [00:12<00:01,  1.50it/s]\u001b[32m[I 2021-06-20 17:25:59,104]\u001b[0m Trial 60 finished with value: 6.767180932430237 and parameters: {'lambda_l1': 0.0037581369082967785, 'lambda_l2': 0.015215791339137712}. Best is trial 44 with value: 6.740037072733227.\u001b[0m\n",
      "regularization_factors, val_score: 6.740037:  90%|#################################3   | 18/20 [00:12<00:01,  1.50it/s]"
     ]
    },
    {
     "name": "stdout",
     "output_type": "stream",
     "text": [
      "Training until validation scores don't improve for 100 rounds\n",
      "[100]\ttrain's rmse: 7.8747\teval's rmse: 7.92818\n",
      "[200]\ttrain's rmse: 7.29107\teval's rmse: 7.43639\n",
      "[300]\ttrain's rmse: 6.95306\teval's rmse: 7.23427\n",
      "[400]\ttrain's rmse: 6.71244\teval's rmse: 7.08257\n",
      "[500]\ttrain's rmse: 6.49317\teval's rmse: 6.98135\n",
      "[600]\ttrain's rmse: 6.32569\teval's rmse: 6.91559\n",
      "[700]\ttrain's rmse: 6.18163\teval's rmse: 6.85463\n",
      "[800]\ttrain's rmse: 6.05421\teval's rmse: 6.80583\n",
      "[900]\ttrain's rmse: 5.93059\teval's rmse: 6.76062\n"
     ]
    },
    {
     "name": "stderr",
     "output_type": "stream",
     "text": [
      "regularization_factors, val_score: 6.740037:  95%|###################################1 | 19/20 [00:12<00:00,  1.34it/s]\u001b[32m[I 2021-06-20 17:26:00,038]\u001b[0m Trial 61 finished with value: 6.759143747602024 and parameters: {'lambda_l1': 0.0919991433061716, 'lambda_l2': 0.0002281675187018355}. Best is trial 44 with value: 6.740037072733227.\u001b[0m\n",
      "regularization_factors, val_score: 6.740037:  95%|###################################1 | 19/20 [00:12<00:00,  1.34it/s]"
     ]
    },
    {
     "name": "stdout",
     "output_type": "stream",
     "text": [
      "[1000]\ttrain's rmse: 5.83072\teval's rmse: 6.75914\n",
      "Did not meet early stopping. Best iteration is:\n",
      "[1000]\ttrain's rmse: 5.83072\teval's rmse: 6.75914\n",
      "Training until validation scores don't improve for 100 rounds\n",
      "[100]\ttrain's rmse: 7.87456\teval's rmse: 7.928\n",
      "[200]\ttrain's rmse: 7.29084\teval's rmse: 7.43619\n",
      "[300]\ttrain's rmse: 6.96181\teval's rmse: 7.23448\n",
      "[400]\ttrain's rmse: 6.69898\teval's rmse: 7.04292\n",
      "[500]\ttrain's rmse: 6.47501\teval's rmse: 6.96199\n",
      "[600]\ttrain's rmse: 6.31182\teval's rmse: 6.89633\n",
      "[700]\ttrain's rmse: 6.16883\teval's rmse: 6.84166\n",
      "[800]\ttrain's rmse: 6.04268\teval's rmse: 6.8006\n",
      "[900]\ttrain's rmse: 5.91614\teval's rmse: 6.75241\n"
     ]
    },
    {
     "name": "stderr",
     "output_type": "stream",
     "text": [
      "regularization_factors, val_score: 6.740037: 100%|#####################################| 20/20 [00:13<00:00,  1.29it/s]\u001b[32m[I 2021-06-20 17:26:00,882]\u001b[0m Trial 62 finished with value: 6.76060485172282 and parameters: {'lambda_l1': 4.1429027018105146e-05, 'lambda_l2': 1.7102306755260654e-06}. Best is trial 44 with value: 6.740037072733227.\u001b[0m\n",
      "regularization_factors, val_score: 6.740037: 100%|#####################################| 20/20 [00:13<00:00,  1.45it/s]\n",
      "min_data_in_leaf, val_score: 6.740037:   0%|                                                     | 0/5 [00:00<?, ?it/s]"
     ]
    },
    {
     "name": "stdout",
     "output_type": "stream",
     "text": [
      "[1000]\ttrain's rmse: 5.82087\teval's rmse: 6.7606\n",
      "Did not meet early stopping. Best iteration is:\n",
      "[1000]\ttrain's rmse: 5.82087\teval's rmse: 6.7606\n",
      "Training until validation scores don't improve for 100 rounds\n",
      "[100]\ttrain's rmse: 8.22427\teval's rmse: 8.61953\n",
      "[200]\ttrain's rmse: 7.71578\teval's rmse: 8.26252\n",
      "[300]\ttrain's rmse: 7.36622\teval's rmse: 8.07349\n",
      "[400]\ttrain's rmse: 7.11663\teval's rmse: 7.91434\n",
      "[500]\ttrain's rmse: 6.88388\teval's rmse: 7.75654\n",
      "[600]\ttrain's rmse: 6.72148\teval's rmse: 7.67461\n",
      "[700]\ttrain's rmse: 6.56012\teval's rmse: 7.61786\n",
      "[800]\ttrain's rmse: 6.42809\teval's rmse: 7.53373\n"
     ]
    },
    {
     "name": "stderr",
     "output_type": "stream",
     "text": [
      "min_data_in_leaf, val_score: 6.740037:  20%|#########                                    | 1/5 [00:00<00:02,  1.37it/s]\u001b[32m[I 2021-06-20 17:26:01,627]\u001b[0m Trial 63 finished with value: 7.4433698181276675 and parameters: {'min_child_samples': 25}. Best is trial 63 with value: 7.4433698181276675.\u001b[0m\n",
      "min_data_in_leaf, val_score: 6.740037:  20%|#########                                    | 1/5 [00:00<00:02,  1.37it/s]"
     ]
    },
    {
     "name": "stdout",
     "output_type": "stream",
     "text": [
      "[900]\ttrain's rmse: 6.31648\teval's rmse: 7.46393\n",
      "[1000]\ttrain's rmse: 6.21003\teval's rmse: 7.44337\n",
      "Did not meet early stopping. Best iteration is:\n",
      "[1000]\ttrain's rmse: 6.21003\teval's rmse: 7.44337\n",
      "Training until validation scores don't improve for 100 rounds\n",
      "[100]\ttrain's rmse: 7.8641\teval's rmse: 7.94729\n",
      "[200]\ttrain's rmse: 7.25025\teval's rmse: 7.44114\n",
      "[300]\ttrain's rmse: 6.87565\teval's rmse: 7.22996\n",
      "[400]\ttrain's rmse: 6.61469\teval's rmse: 7.08584\n",
      "[500]\ttrain's rmse: 6.37989\teval's rmse: 6.97557\n",
      "[600]\ttrain's rmse: 6.16942\teval's rmse: 6.90286\n"
     ]
    },
    {
     "name": "stderr",
     "output_type": "stream",
     "text": [
      "min_data_in_leaf, val_score: 6.740037:  40%|##################                           | 2/5 [00:01<00:01,  1.64it/s]\u001b[32m[I 2021-06-20 17:26:02,163]\u001b[0m Trial 64 finished with value: 6.7484576407292876 and parameters: {'min_child_samples': 10}. Best is trial 64 with value: 6.7484576407292876.\u001b[0m\n"
     ]
    },
    {
     "name": "stdout",
     "output_type": "stream",
     "text": [
      "[700]\ttrain's rmse: 6.00051\teval's rmse: 6.84789\n",
      "[800]\ttrain's rmse: 5.85305\teval's rmse: 6.77846\n",
      "[900]\ttrain's rmse: 5.72809\teval's rmse: 6.75205\n",
      "Early stopping, best iteration is:\n",
      "[890]\ttrain's rmse: 5.74396\teval's rmse: 6.74846\n"
     ]
    },
    {
     "name": "stderr",
     "output_type": "stream",
     "text": [
      "\r",
      "min_data_in_leaf, val_score: 6.740037:  40%|##################                           | 2/5 [00:01<00:01,  1.64it/s]"
     ]
    },
    {
     "name": "stdout",
     "output_type": "stream",
     "text": [
      "Training until validation scores don't improve for 100 rounds\n",
      "[100]\ttrain's rmse: 7.86498\teval's rmse: 7.95091\n",
      "[200]\ttrain's rmse: 7.24188\teval's rmse: 7.45334\n",
      "[300]\ttrain's rmse: 6.81936\teval's rmse: 7.17207\n",
      "[400]\ttrain's rmse: 6.55566\teval's rmse: 7.07921\n",
      "[500]\ttrain's rmse: 6.30812\teval's rmse: 6.95842\n",
      "[600]\ttrain's rmse: 6.09853\teval's rmse: 6.89014\n",
      "[700]\ttrain's rmse: 5.9326\teval's rmse: 6.81467\n",
      "[800]\ttrain's rmse: 5.78259\teval's rmse: 6.76628\n"
     ]
    },
    {
     "name": "stderr",
     "output_type": "stream",
     "text": [
      "min_data_in_leaf, val_score: 6.727314:  60%|###########################                  | 3/5 [00:02<00:01,  1.43it/s]\u001b[32m[I 2021-06-20 17:26:02,960]\u001b[0m Trial 65 finished with value: 6.727313858252403 and parameters: {'min_child_samples': 5}. Best is trial 65 with value: 6.727313858252403.\u001b[0m\n",
      "min_data_in_leaf, val_score: 6.727314:  60%|###########################                  | 3/5 [00:02<00:01,  1.43it/s]"
     ]
    },
    {
     "name": "stdout",
     "output_type": "stream",
     "text": [
      "[900]\ttrain's rmse: 5.65152\teval's rmse: 6.73609\n",
      "Early stopping, best iteration is:\n",
      "[890]\ttrain's rmse: 5.66737\teval's rmse: 6.72731\n",
      "Training until validation scores don't improve for 100 rounds\n",
      "[100]\ttrain's rmse: 8.63636\teval's rmse: 9.05239\n",
      "[200]\ttrain's rmse: 8.27081\teval's rmse: 8.7509\n",
      "[300]\ttrain's rmse: 8.06053\teval's rmse: 8.57748\n",
      "[400]\ttrain's rmse: 7.89872\teval's rmse: 8.42268\n",
      "[500]\ttrain's rmse: 7.7608\teval's rmse: 8.28191\n",
      "[600]\ttrain's rmse: 7.64899\teval's rmse: 8.18566\n",
      "[700]\ttrain's rmse: 7.54691\teval's rmse: 8.10634\n",
      "[800]\ttrain's rmse: 7.4558\teval's rmse: 8.04819\n",
      "[900]\ttrain's rmse: 7.37339\teval's rmse: 7.9723\n"
     ]
    },
    {
     "name": "stderr",
     "output_type": "stream",
     "text": [
      "min_data_in_leaf, val_score: 6.727314:  80%|####################################         | 4/5 [00:02<00:00,  1.29it/s]\u001b[32m[I 2021-06-20 17:26:03,860]\u001b[0m Trial 66 finished with value: 7.895839391872156 and parameters: {'min_child_samples': 100}. Best is trial 65 with value: 6.727313858252403.\u001b[0m\n",
      "min_data_in_leaf, val_score: 6.727314:  80%|####################################         | 4/5 [00:02<00:00,  1.29it/s]"
     ]
    },
    {
     "name": "stdout",
     "output_type": "stream",
     "text": [
      "[1000]\ttrain's rmse: 7.28571\teval's rmse: 7.89584\n",
      "Did not meet early stopping. Best iteration is:\n",
      "[1000]\ttrain's rmse: 7.28571\teval's rmse: 7.89584\n",
      "Training until validation scores don't improve for 100 rounds\n",
      "[100]\ttrain's rmse: 8.2893\teval's rmse: 8.60062\n",
      "[200]\ttrain's rmse: 7.83912\teval's rmse: 8.29274\n",
      "[300]\ttrain's rmse: 7.56176\teval's rmse: 8.09962\n",
      "[400]\ttrain's rmse: 7.35364\teval's rmse: 7.92421\n",
      "[500]\ttrain's rmse: 7.17534\teval's rmse: 7.74991\n",
      "[600]\ttrain's rmse: 7.03125\teval's rmse: 7.64623\n",
      "[700]\ttrain's rmse: 6.8979\teval's rmse: 7.5622\n",
      "[800]\ttrain's rmse: 6.79394\teval's rmse: 7.49251\n",
      "[900]\ttrain's rmse: 6.6946\teval's rmse: 7.41831\n",
      "[1000]\ttrain's rmse: 6.59907\teval's rmse: 7.37416\n",
      "Did not meet early stopping. Best iteration is:\n",
      "[1000]\ttrain's rmse: 6.59907\teval's rmse: 7.37416"
     ]
    },
    {
     "name": "stderr",
     "output_type": "stream",
     "text": [
      "min_data_in_leaf, val_score: 6.727314: 100%|#############################################| 5/5 [00:03<00:00,  1.24it/s]\u001b[32m[I 2021-06-20 17:26:04,713]\u001b[0m Trial 67 finished with value: 7.374156758158377 and parameters: {'min_child_samples': 50}. Best is trial 65 with value: 6.727313858252403.\u001b[0m\n",
      "min_data_in_leaf, val_score: 6.727314: 100%|#############################################| 5/5 [00:03<00:00,  1.31it/s]\n",
      "\u001b[32m[I 2021-06-20 17:26:04,788]\u001b[0m A new study created in memory with name: no-name-8afcb87d-df5a-4d86-91ee-a126e30e0705\u001b[0m\n",
      "feature_fraction, val_score: inf:   0%|                                                          | 0/7 [00:00<?, ?it/s]"
     ]
    },
    {
     "name": "stdout",
     "output_type": "stream",
     "text": [
      "\n",
      "Training until validation scores don't improve for 100 rounds\n",
      "[100]\ttrain's rmse: 5.7766\teval's rmse: 7.29451\n",
      "[200]\ttrain's rmse: 4.84611\teval's rmse: 6.99057\n",
      "[300]\ttrain's rmse: 4.31085\teval's rmse: 6.81792\n",
      "[400]\ttrain's rmse: 3.95328\teval's rmse: 6.76965\n",
      "[500]\ttrain's rmse: 3.67641\teval's rmse: 6.73031\n",
      "[600]\ttrain's rmse: 3.45294\teval's rmse: 6.71862\n",
      "[700]\ttrain's rmse: 3.25125\teval's rmse: 6.72973\n",
      "Early stopping, best iteration is:\n",
      "[665]\ttrain's rmse: 3.31619\teval's rmse: 6.71006\n"
     ]
    },
    {
     "name": "stderr",
     "output_type": "stream",
     "text": [
      "feature_fraction, val_score: 6.710062:  14%|######4                                      | 1/7 [00:01<00:09,  1.62s/it]\u001b[32m[I 2021-06-20 17:26:06,417]\u001b[0m Trial 0 finished with value: 6.710061836076164 and parameters: {'feature_fraction': 0.8999999999999999}. Best is trial 0 with value: 6.710061836076164.\u001b[0m\n",
      "feature_fraction, val_score: 6.710062:  14%|######4                                      | 1/7 [00:01<00:09,  1.62s/it]"
     ]
    },
    {
     "name": "stdout",
     "output_type": "stream",
     "text": [
      "Training until validation scores don't improve for 100 rounds\n",
      "[100]\ttrain's rmse: 6.28859\teval's rmse: 7.5361\n",
      "[200]\ttrain's rmse: 5.36488\teval's rmse: 7.11626\n",
      "[300]\ttrain's rmse: 4.89864\teval's rmse: 6.91885\n",
      "[400]\ttrain's rmse: 4.57667\teval's rmse: 6.85225\n",
      "[500]\ttrain's rmse: 4.31031\teval's rmse: 6.81545\n",
      "[600]\ttrain's rmse: 4.10374\teval's rmse: 6.75996\n",
      "[700]\ttrain's rmse: 3.94516\teval's rmse: 6.75484\n",
      "[800]\ttrain's rmse: 3.78499\teval's rmse: 6.73656\n"
     ]
    },
    {
     "name": "stderr",
     "output_type": "stream",
     "text": [
      "\r",
      "feature_fraction, val_score: 6.710062:  14%|######4                                      | 1/7 [00:03<00:09,  1.62s/it]"
     ]
    },
    {
     "name": "stdout",
     "output_type": "stream",
     "text": [
      "Early stopping, best iteration is:\n",
      "[751]\ttrain's rmse: 3.86373\teval's rmse: 6.7301\n"
     ]
    },
    {
     "name": "stderr",
     "output_type": "stream",
     "text": [
      "feature_fraction, val_score: 6.710062:  29%|############8                                | 2/7 [00:03<00:08,  1.68s/it]\u001b[32m[I 2021-06-20 17:26:08,135]\u001b[0m Trial 1 finished with value: 6.730104336755141 and parameters: {'feature_fraction': 0.5}. Best is trial 0 with value: 6.710061836076164.\u001b[0m\n",
      "feature_fraction, val_score: 6.710062:  29%|############8                                | 2/7 [00:03<00:08,  1.68s/it]"
     ]
    },
    {
     "name": "stdout",
     "output_type": "stream",
     "text": [
      "Training until validation scores don't improve for 100 rounds\n",
      "[100]\ttrain's rmse: 6.10585\teval's rmse: 7.47514\n",
      "[200]\ttrain's rmse: 5.22398\teval's rmse: 7.10832\n",
      "[300]\ttrain's rmse: 4.71672\teval's rmse: 6.89657\n",
      "[400]\ttrain's rmse: 4.38022\teval's rmse: 6.82102\n",
      "[500]\ttrain's rmse: 4.1079\teval's rmse: 6.76551\n",
      "[600]\ttrain's rmse: 3.89724\teval's rmse: 6.7403\n",
      "[700]\ttrain's rmse: 3.71927\teval's rmse: 6.73002\n",
      "[800]\ttrain's rmse: 3.56364\teval's rmse: 6.73493\n",
      "Early stopping, best iteration is:\n",
      "[721]\ttrain's rmse: 3.67947\teval's rmse: 6.72369\n"
     ]
    },
    {
     "name": "stderr",
     "output_type": "stream",
     "text": [
      "feature_fraction, val_score: 6.710062:  43%|###################2                         | 3/7 [00:05<00:06,  1.71s/it]\u001b[32m[I 2021-06-20 17:26:09,887]\u001b[0m Trial 2 finished with value: 6.723688572936271 and parameters: {'feature_fraction': 0.6}. Best is trial 0 with value: 6.710061836076164.\u001b[0m\n",
      "feature_fraction, val_score: 6.710062:  43%|###################2                         | 3/7 [00:05<00:06,  1.71s/it]"
     ]
    },
    {
     "name": "stdout",
     "output_type": "stream",
     "text": [
      "Training until validation scores don't improve for 100 rounds\n",
      "[100]\ttrain's rmse: 5.93473\teval's rmse: 7.32758\n",
      "[200]\ttrain's rmse: 5.00878\teval's rmse: 7.05742\n",
      "[300]\ttrain's rmse: 4.49273\teval's rmse: 6.88328\n",
      "[400]\ttrain's rmse: 4.14033\teval's rmse: 6.82461\n",
      "[500]\ttrain's rmse: 3.8697\teval's rmse: 6.76165\n",
      "[600]\ttrain's rmse: 3.66467\teval's rmse: 6.74217\n",
      "Early stopping, best iteration is:\n",
      "[588]\ttrain's rmse: 3.68956\teval's rmse: 6.73661\n"
     ]
    },
    {
     "name": "stderr",
     "output_type": "stream",
     "text": [
      "feature_fraction, val_score: 6.710062:  57%|#########################7                   | 4/7 [00:06<00:04,  1.47s/it]\u001b[32m[I 2021-06-20 17:26:10,996]\u001b[0m Trial 3 finished with value: 6.736613070681139 and parameters: {'feature_fraction': 0.7}. Best is trial 0 with value: 6.710061836076164.\u001b[0m\n",
      "feature_fraction, val_score: 6.710062:  57%|#########################7                   | 4/7 [00:06<00:04,  1.47s/it]"
     ]
    },
    {
     "name": "stdout",
     "output_type": "stream",
     "text": [
      "Training until validation scores don't improve for 100 rounds\n",
      "[100]\ttrain's rmse: 5.71124\teval's rmse: 7.28098\n",
      "[200]\ttrain's rmse: 4.79239\teval's rmse: 6.95882\n",
      "[300]\ttrain's rmse: 4.2662\teval's rmse: 6.84087\n",
      "[400]\ttrain's rmse: 3.88944\teval's rmse: 6.79982\n",
      "[500]\ttrain's rmse: 3.60041\teval's rmse: 6.78547\n",
      "[600]\ttrain's rmse: 3.37173\teval's rmse: 6.76605\n",
      "[700]\ttrain's rmse: 3.15627\teval's rmse: 6.79524\n",
      "Early stopping, best iteration is:\n",
      "[608]\ttrain's rmse: 3.35656\teval's rmse: 6.76353\n"
     ]
    },
    {
     "name": "stderr",
     "output_type": "stream",
     "text": [
      "feature_fraction, val_score: 6.710062:  71%|################################1            | 5/7 [00:07<00:02,  1.39s/it]\u001b[32m[I 2021-06-20 17:26:12,249]\u001b[0m Trial 4 finished with value: 6.763529688511174 and parameters: {'feature_fraction': 1.0}. Best is trial 0 with value: 6.710061836076164.\u001b[0m\n",
      "feature_fraction, val_score: 6.710062:  71%|################################1            | 5/7 [00:07<00:02,  1.39s/it]"
     ]
    },
    {
     "name": "stdout",
     "output_type": "stream",
     "text": [
      "Training until validation scores don't improve for 100 rounds\n",
      "[100]\ttrain's rmse: 6.68158\teval's rmse: 7.68348\n",
      "[200]\ttrain's rmse: 5.69125\teval's rmse: 7.20079\n",
      "[300]\ttrain's rmse: 5.19317\teval's rmse: 7.006\n",
      "[400]\ttrain's rmse: 4.85145\teval's rmse: 6.91048\n",
      "[500]\ttrain's rmse: 4.57982\teval's rmse: 6.81776\n",
      "[600]\ttrain's rmse: 4.37866\teval's rmse: 6.7876\n",
      "[700]\ttrain's rmse: 4.22897\teval's rmse: 6.76435\n",
      "[800]\ttrain's rmse: 4.07303\teval's rmse: 6.75426\n",
      "[900]\ttrain's rmse: 3.94845\teval's rmse: 6.73984\n",
      "[1000]\ttrain's rmse: 3.84286\teval's rmse: 6.73725\n",
      "Did not meet early stopping. Best iteration is:\n",
      "[1000]\ttrain's rmse: 3.84286\teval's rmse: 6.73725\n"
     ]
    },
    {
     "name": "stderr",
     "output_type": "stream",
     "text": [
      "feature_fraction, val_score: 6.710062:  86%|######################################5      | 6/7 [00:09<00:01,  1.49s/it]\u001b[32m[I 2021-06-20 17:26:13,924]\u001b[0m Trial 5 finished with value: 6.737247028172589 and parameters: {'feature_fraction': 0.4}. Best is trial 0 with value: 6.710061836076164.\u001b[0m\n",
      "feature_fraction, val_score: 6.710062:  86%|######################################5      | 6/7 [00:09<00:01,  1.49s/it]"
     ]
    },
    {
     "name": "stdout",
     "output_type": "stream",
     "text": [
      "Training until validation scores don't improve for 100 rounds\n",
      "[100]\ttrain's rmse: 5.84602\teval's rmse: 7.33202\n",
      "[200]\ttrain's rmse: 4.93991\teval's rmse: 7.01834\n",
      "[300]\ttrain's rmse: 4.42119\teval's rmse: 6.81104\n",
      "[400]\ttrain's rmse: 4.06074\teval's rmse: 6.76509\n",
      "[500]\ttrain's rmse: 3.78587\teval's rmse: 6.73068\n",
      "[600]\ttrain's rmse: 3.56761\teval's rmse: 6.7208\n",
      "[700]\ttrain's rmse: 3.37943\teval's rmse: 6.72356\n",
      "Early stopping, best iteration is:\n",
      "[614]\ttrain's rmse: 3.54074\teval's rmse: 6.7135\n"
     ]
    },
    {
     "name": "stderr",
     "output_type": "stream",
     "text": [
      "feature_fraction, val_score: 6.710062: 100%|#############################################| 7/7 [00:10<00:00,  1.43s/it]\u001b[32m[I 2021-06-20 17:26:15,224]\u001b[0m Trial 6 finished with value: 6.713504717720966 and parameters: {'feature_fraction': 0.8}. Best is trial 0 with value: 6.710061836076164.\u001b[0m\n",
      "feature_fraction, val_score: 6.710062: 100%|#############################################| 7/7 [00:10<00:00,  1.49s/it]\n",
      "num_leaves, val_score: 6.710062:   0%|                                                          | 0/20 [00:00<?, ?it/s]"
     ]
    },
    {
     "name": "stdout",
     "output_type": "stream",
     "text": [
      "Training until validation scores don't improve for 100 rounds\n",
      "[100]\ttrain's rmse: 5.53274\teval's rmse: 7.29332\n",
      "[200]\ttrain's rmse: 4.53069\teval's rmse: 6.95313\n",
      "[300]\ttrain's rmse: 3.95878\teval's rmse: 6.81799\n",
      "[400]\ttrain's rmse: 3.5421\teval's rmse: 6.76424\n",
      "[500]\ttrain's rmse: 3.22905\teval's rmse: 6.72425\n",
      "[600]\ttrain's rmse: 2.98453\teval's rmse: 6.71946\n",
      "[700]\ttrain's rmse: 2.7673\teval's rmse: 6.71554\n",
      "Early stopping, best iteration is:\n",
      "[630]\ttrain's rmse: 2.90909\teval's rmse: 6.7021\n"
     ]
    },
    {
     "name": "stderr",
     "output_type": "stream",
     "text": [
      "num_leaves, val_score: 6.702100:   5%|##5                                               | 1/20 [00:02<00:45,  2.37s/it]\u001b[32m[I 2021-06-20 17:26:17,604]\u001b[0m Trial 7 finished with value: 6.702100094321922 and parameters: {'num_leaves': 191}. Best is trial 7 with value: 6.702100094321922.\u001b[0m\n",
      "num_leaves, val_score: 6.702100:   5%|##5                                               | 1/20 [00:02<00:45,  2.37s/it]"
     ]
    },
    {
     "name": "stdout",
     "output_type": "stream",
     "text": [
      "Training until validation scores don't improve for 100 rounds\n",
      "[100]\ttrain's rmse: 5.53274\teval's rmse: 7.29332\n",
      "[200]\ttrain's rmse: 4.53069\teval's rmse: 6.95313\n",
      "[300]\ttrain's rmse: 3.95878\teval's rmse: 6.81799\n",
      "[400]\ttrain's rmse: 3.5421\teval's rmse: 6.76424\n",
      "[500]\ttrain's rmse: 3.22905\teval's rmse: 6.72425\n",
      "[600]\ttrain's rmse: 2.98453\teval's rmse: 6.71946\n",
      "[700]\ttrain's rmse: 2.7673\teval's rmse: 6.71554\n",
      "Early stopping, best iteration is:\n",
      "[630]\ttrain's rmse: 2.90909\teval's rmse: 6.7021\n"
     ]
    },
    {
     "name": "stderr",
     "output_type": "stream",
     "text": [
      "num_leaves, val_score: 6.702100:  10%|#####                                             | 2/20 [00:04<00:35,  1.96s/it]\u001b[32m[I 2021-06-20 17:26:19,281]\u001b[0m Trial 8 finished with value: 6.702100094321922 and parameters: {'num_leaves': 192}. Best is trial 7 with value: 6.702100094321922.\u001b[0m\n",
      "num_leaves, val_score: 6.702100:  10%|#####                                             | 2/20 [00:04<00:35,  1.96s/it]"
     ]
    },
    {
     "name": "stdout",
     "output_type": "stream",
     "text": [
      "Training until validation scores don't improve for 100 rounds\n",
      "[100]\ttrain's rmse: 5.53274\teval's rmse: 7.29332\n",
      "[200]\ttrain's rmse: 4.53069\teval's rmse: 6.95313\n",
      "[300]\ttrain's rmse: 3.95878\teval's rmse: 6.81799\n",
      "[400]\ttrain's rmse: 3.5421\teval's rmse: 6.76424\n",
      "[500]\ttrain's rmse: 3.22905\teval's rmse: 6.72425\n",
      "[600]\ttrain's rmse: 2.98453\teval's rmse: 6.71946\n",
      "[700]\ttrain's rmse: 2.7673\teval's rmse: 6.71554\n",
      "Early stopping, best iteration is:\n",
      "[630]\ttrain's rmse: 2.90909\teval's rmse: 6.7021\n"
     ]
    },
    {
     "name": "stderr",
     "output_type": "stream",
     "text": [
      "num_leaves, val_score: 6.702100:  15%|#######5                                          | 3/20 [00:05<00:31,  1.83s/it]\u001b[32m[I 2021-06-20 17:26:20,946]\u001b[0m Trial 9 finished with value: 6.702100094321922 and parameters: {'num_leaves': 248}. Best is trial 7 with value: 6.702100094321922.\u001b[0m\n",
      "num_leaves, val_score: 6.702100:  15%|#######5                                          | 3/20 [00:05<00:31,  1.83s/it]"
     ]
    },
    {
     "name": "stdout",
     "output_type": "stream",
     "text": [
      "Training until validation scores don't improve for 100 rounds\n",
      "[100]\ttrain's rmse: 5.53274\teval's rmse: 7.29332\n",
      "[200]\ttrain's rmse: 4.53069\teval's rmse: 6.95313\n",
      "[300]\ttrain's rmse: 3.95878\teval's rmse: 6.81799\n",
      "[400]\ttrain's rmse: 3.5421\teval's rmse: 6.76424\n",
      "[500]\ttrain's rmse: 3.22905\teval's rmse: 6.72425\n",
      "[600]\ttrain's rmse: 2.98453\teval's rmse: 6.71946\n",
      "[700]\ttrain's rmse: 2.7673\teval's rmse: 6.71554\n",
      "Early stopping, best iteration is:\n",
      "[630]\ttrain's rmse: 2.90909\teval's rmse: 6.7021\n"
     ]
    },
    {
     "name": "stderr",
     "output_type": "stream",
     "text": [
      "num_leaves, val_score: 6.702100:  20%|##########                                        | 4/20 [00:07<00:28,  1.77s/it]\u001b[32m[I 2021-06-20 17:26:22,630]\u001b[0m Trial 10 finished with value: 6.702100094321922 and parameters: {'num_leaves': 161}. Best is trial 7 with value: 6.702100094321922.\u001b[0m\n",
      "num_leaves, val_score: 6.702100:  20%|##########                                        | 4/20 [00:07<00:28,  1.77s/it]"
     ]
    },
    {
     "name": "stdout",
     "output_type": "stream",
     "text": [
      "Training until validation scores don't improve for 100 rounds\n",
      "[100]\ttrain's rmse: 5.53274\teval's rmse: 7.29332\n",
      "[200]\ttrain's rmse: 4.53069\teval's rmse: 6.95313\n",
      "[300]\ttrain's rmse: 3.95878\teval's rmse: 6.81799\n",
      "[400]\ttrain's rmse: 3.5421\teval's rmse: 6.76424\n",
      "[500]\ttrain's rmse: 3.22905\teval's rmse: 6.72425\n",
      "[600]\ttrain's rmse: 2.98453\teval's rmse: 6.71946\n",
      "[700]\ttrain's rmse: 2.7673\teval's rmse: 6.71554\n",
      "Early stopping, best iteration is:\n",
      "[630]\ttrain's rmse: 2.90909\teval's rmse: 6.7021\n"
     ]
    },
    {
     "name": "stderr",
     "output_type": "stream",
     "text": [
      "num_leaves, val_score: 6.702100:  25%|############5                                     | 5/20 [00:09<00:25,  1.71s/it]\u001b[32m[I 2021-06-20 17:26:24,245]\u001b[0m Trial 11 finished with value: 6.702100094321922 and parameters: {'num_leaves': 189}. Best is trial 7 with value: 6.702100094321922.\u001b[0m\n",
      "num_leaves, val_score: 6.702100:  25%|############5                                     | 5/20 [00:09<00:25,  1.71s/it]"
     ]
    },
    {
     "name": "stdout",
     "output_type": "stream",
     "text": [
      "Training until validation scores don't improve for 100 rounds\n",
      "[100]\ttrain's rmse: 5.92237\teval's rmse: 7.34638\n",
      "[200]\ttrain's rmse: 5.05561\teval's rmse: 6.97018\n",
      "[300]\ttrain's rmse: 4.55974\teval's rmse: 6.79813\n",
      "[400]\ttrain's rmse: 4.22865\teval's rmse: 6.75933\n",
      "[500]\ttrain's rmse: 3.96377\teval's rmse: 6.73626\n",
      "[600]\ttrain's rmse: 3.74935\teval's rmse: 6.6888\n",
      "[700]\ttrain's rmse: 3.57166\teval's rmse: 6.67411\n",
      "Early stopping, best iteration is:\n",
      "[657]\ttrain's rmse: 3.64652\teval's rmse: 6.66161\n"
     ]
    },
    {
     "name": "stderr",
     "output_type": "stream",
     "text": [
      "num_leaves, val_score: 6.661612:  30%|###############                                   | 6/20 [00:10<00:20,  1.50s/it]\u001b[32m[I 2021-06-20 17:26:25,319]\u001b[0m Trial 12 finished with value: 6.661611691840706 and parameters: {'num_leaves': 25}. Best is trial 12 with value: 6.661611691840706.\u001b[0m\n",
      "num_leaves, val_score: 6.661612:  30%|###############                                   | 6/20 [00:10<00:20,  1.50s/it]"
     ]
    },
    {
     "name": "stdout",
     "output_type": "stream",
     "text": [
      "Training until validation scores don't improve for 100 rounds\n",
      "[100]\ttrain's rmse: 5.53274\teval's rmse: 7.29332\n",
      "[200]\ttrain's rmse: 4.53069\teval's rmse: 6.95313\n",
      "[300]\ttrain's rmse: 3.95878\teval's rmse: 6.81799\n",
      "[400]\ttrain's rmse: 3.5421\teval's rmse: 6.76424\n",
      "[500]\ttrain's rmse: 3.22905\teval's rmse: 6.72425\n",
      "[600]\ttrain's rmse: 2.98453\teval's rmse: 6.71946\n",
      "[700]\ttrain's rmse: 2.7673\teval's rmse: 6.71554\n",
      "Early stopping, best iteration is:\n",
      "[630]\ttrain's rmse: 2.90909\teval's rmse: 6.7021\n"
     ]
    },
    {
     "name": "stderr",
     "output_type": "stream",
     "text": [
      "num_leaves, val_score: 6.661612:  35%|#################5                                | 7/20 [00:11<00:20,  1.55s/it]\u001b[32m[I 2021-06-20 17:26:26,991]\u001b[0m Trial 13 finished with value: 6.702100094321922 and parameters: {'num_leaves': 176}. Best is trial 12 with value: 6.661611691840706.\u001b[0m\n",
      "num_leaves, val_score: 6.661612:  35%|#################5                                | 7/20 [00:11<00:20,  1.55s/it]"
     ]
    },
    {
     "name": "stdout",
     "output_type": "stream",
     "text": [
      "Training until validation scores don't improve for 100 rounds\n",
      "[100]\ttrain's rmse: 5.53274\teval's rmse: 7.29332\n",
      "[200]\ttrain's rmse: 4.53069\teval's rmse: 6.95313\n",
      "[300]\ttrain's rmse: 3.95878\teval's rmse: 6.81799\n",
      "[400]\ttrain's rmse: 3.5421\teval's rmse: 6.76424\n",
      "[500]\ttrain's rmse: 3.22905\teval's rmse: 6.72425\n",
      "[600]\ttrain's rmse: 2.98453\teval's rmse: 6.71946\n",
      "[700]\ttrain's rmse: 2.7673\teval's rmse: 6.71554\n",
      "Early stopping, best iteration is:\n",
      "[630]\ttrain's rmse: 2.90909\teval's rmse: 6.7021\n"
     ]
    },
    {
     "name": "stderr",
     "output_type": "stream",
     "text": [
      "num_leaves, val_score: 6.661612:  40%|####################                              | 8/20 [00:13<00:18,  1.57s/it]\u001b[32m[I 2021-06-20 17:26:28,596]\u001b[0m Trial 14 finished with value: 6.702100094321922 and parameters: {'num_leaves': 179}. Best is trial 12 with value: 6.661611691840706.\u001b[0m\n",
      "num_leaves, val_score: 6.661612:  40%|####################                              | 8/20 [00:13<00:18,  1.57s/it]"
     ]
    },
    {
     "name": "stdout",
     "output_type": "stream",
     "text": [
      "Training until validation scores don't improve for 100 rounds\n",
      "[100]\ttrain's rmse: 5.53274\teval's rmse: 7.29332\n",
      "[200]\ttrain's rmse: 4.53069\teval's rmse: 6.95313\n",
      "[300]\ttrain's rmse: 3.95878\teval's rmse: 6.81799\n",
      "[400]\ttrain's rmse: 3.5421\teval's rmse: 6.76424\n",
      "[500]\ttrain's rmse: 3.22905\teval's rmse: 6.72425\n",
      "[600]\ttrain's rmse: 2.98453\teval's rmse: 6.71946\n",
      "[700]\ttrain's rmse: 2.7673\teval's rmse: 6.71554\n",
      "Early stopping, best iteration is:\n",
      "[630]\ttrain's rmse: 2.90909\teval's rmse: 6.7021\n"
     ]
    },
    {
     "name": "stderr",
     "output_type": "stream",
     "text": [
      "num_leaves, val_score: 6.661612:  45%|######################5                           | 9/20 [00:14<00:17,  1.56s/it]\u001b[32m[I 2021-06-20 17:26:30,137]\u001b[0m Trial 15 finished with value: 6.702100094321922 and parameters: {'num_leaves': 68}. Best is trial 12 with value: 6.661611691840706.\u001b[0m\n",
      "num_leaves, val_score: 6.661612:  45%|######################5                           | 9/20 [00:14<00:17,  1.56s/it]"
     ]
    },
    {
     "name": "stdout",
     "output_type": "stream",
     "text": [
      "Training until validation scores don't improve for 100 rounds\n",
      "[100]\ttrain's rmse: 5.53274\teval's rmse: 7.29332\n",
      "[200]\ttrain's rmse: 4.53069\teval's rmse: 6.95313\n",
      "[300]\ttrain's rmse: 3.95878\teval's rmse: 6.81799\n",
      "[400]\ttrain's rmse: 3.5421\teval's rmse: 6.76424\n",
      "[500]\ttrain's rmse: 3.22905\teval's rmse: 6.72425\n",
      "[600]\ttrain's rmse: 2.98453\teval's rmse: 6.71946\n",
      "[700]\ttrain's rmse: 2.7673\teval's rmse: 6.71554\n",
      "Early stopping, best iteration is:\n",
      "[630]\ttrain's rmse: 2.90909\teval's rmse: 6.7021\n"
     ]
    },
    {
     "name": "stderr",
     "output_type": "stream",
     "text": [
      "num_leaves, val_score: 6.661612:  50%|########################5                        | 10/20 [00:16<00:15,  1.55s/it]\u001b[32m[I 2021-06-20 17:26:31,672]\u001b[0m Trial 16 finished with value: 6.702100094321922 and parameters: {'num_leaves': 55}. Best is trial 12 with value: 6.661611691840706.\u001b[0m\n",
      "num_leaves, val_score: 6.661612:  50%|########################5                        | 10/20 [00:16<00:15,  1.55s/it]"
     ]
    },
    {
     "name": "stdout",
     "output_type": "stream",
     "text": [
      "Training until validation scores don't improve for 100 rounds\n",
      "[100]\ttrain's rmse: 8.11468\teval's rmse: 8.38248\n",
      "[200]\ttrain's rmse: 7.52132\teval's rmse: 8.00961\n",
      "[300]\ttrain's rmse: 7.26309\teval's rmse: 7.91019\n",
      "[400]\ttrain's rmse: 7.06466\teval's rmse: 7.77773\n",
      "[500]\ttrain's rmse: 6.89388\teval's rmse: 7.67181\n",
      "[600]\ttrain's rmse: 6.76609\teval's rmse: 7.58046\n"
     ]
    },
    {
     "name": "stderr",
     "output_type": "stream",
     "text": [
      "num_leaves, val_score: 6.661612:  55%|##########################9                      | 11/20 [00:16<00:10,  1.22s/it]\u001b[32m[I 2021-06-20 17:26:32,124]\u001b[0m Trial 17 finished with value: 7.329261807874491 and parameters: {'num_leaves': 3}. Best is trial 12 with value: 6.661611691840706.\u001b[0m\n",
      "num_leaves, val_score: 6.661612:  55%|##########################9                      | 11/20 [00:16<00:10,  1.22s/it]"
     ]
    },
    {
     "name": "stdout",
     "output_type": "stream",
     "text": [
      "[700]\ttrain's rmse: 6.65475\teval's rmse: 7.53125\n",
      "[800]\ttrain's rmse: 6.53767\teval's rmse: 7.453\n",
      "[900]\ttrain's rmse: 6.44935\teval's rmse: 7.37676\n",
      "[1000]\ttrain's rmse: 6.37747\teval's rmse: 7.32926\n",
      "Did not meet early stopping. Best iteration is:\n",
      "[1000]\ttrain's rmse: 6.37747\teval's rmse: 7.32926\n",
      "Training until validation scores don't improve for 100 rounds\n",
      "[100]\ttrain's rmse: 5.53274\teval's rmse: 7.29332\n",
      "[200]\ttrain's rmse: 4.53069\teval's rmse: 6.95313\n",
      "[300]\ttrain's rmse: 3.95878\teval's rmse: 6.81799\n",
      "[400]\ttrain's rmse: 3.5421\teval's rmse: 6.76424\n",
      "[500]\ttrain's rmse: 3.22905\teval's rmse: 6.72425\n",
      "[600]\ttrain's rmse: 2.98453\teval's rmse: 6.71946\n",
      "[700]\ttrain's rmse: 2.7673\teval's rmse: 6.71554\n",
      "Early stopping, best iteration is:\n",
      "[630]\ttrain's rmse: 2.90909\teval's rmse: 6.7021\n"
     ]
    },
    {
     "name": "stderr",
     "output_type": "stream",
     "text": [
      "num_leaves, val_score: 6.661612:  60%|#############################4                   | 12/20 [00:18<00:11,  1.39s/it]\u001b[32m[I 2021-06-20 17:26:33,905]\u001b[0m Trial 18 finished with value: 6.702100094321922 and parameters: {'num_leaves': 249}. Best is trial 12 with value: 6.661611691840706.\u001b[0m\n",
      "num_leaves, val_score: 6.661612:  60%|#############################4                   | 12/20 [00:18<00:11,  1.39s/it]"
     ]
    },
    {
     "name": "stdout",
     "output_type": "stream",
     "text": [
      "Training until validation scores don't improve for 100 rounds\n",
      "[100]\ttrain's rmse: 5.53274\teval's rmse: 7.29332\n",
      "[200]\ttrain's rmse: 4.53069\teval's rmse: 6.95313\n",
      "[300]\ttrain's rmse: 3.95878\teval's rmse: 6.81799\n",
      "[400]\ttrain's rmse: 3.5421\teval's rmse: 6.76424\n",
      "[500]\ttrain's rmse: 3.22905\teval's rmse: 6.72425\n",
      "[600]\ttrain's rmse: 2.98453\teval's rmse: 6.71946\n",
      "[700]\ttrain's rmse: 2.7673\teval's rmse: 6.71554\n",
      "Early stopping, best iteration is:\n",
      "[630]\ttrain's rmse: 2.90909\teval's rmse: 6.7021\n"
     ]
    },
    {
     "name": "stderr",
     "output_type": "stream",
     "text": [
      "num_leaves, val_score: 6.661612:  65%|###############################8                 | 13/20 [00:20<00:10,  1.47s/it]\u001b[32m[I 2021-06-20 17:26:35,562]\u001b[0m Trial 19 finished with value: 6.702100094321922 and parameters: {'num_leaves': 113}. Best is trial 12 with value: 6.661611691840706.\u001b[0m\n",
      "num_leaves, val_score: 6.661612:  65%|###############################8                 | 13/20 [00:20<00:10,  1.47s/it]"
     ]
    },
    {
     "name": "stdout",
     "output_type": "stream",
     "text": [
      "Training until validation scores don't improve for 100 rounds\n",
      "[100]\ttrain's rmse: 5.53274\teval's rmse: 7.29332\n",
      "[200]\ttrain's rmse: 4.53069\teval's rmse: 6.95313\n",
      "[300]\ttrain's rmse: 3.95878\teval's rmse: 6.81799\n",
      "[400]\ttrain's rmse: 3.5421\teval's rmse: 6.76424\n",
      "[500]\ttrain's rmse: 3.22905\teval's rmse: 6.72425\n",
      "[600]\ttrain's rmse: 2.98453\teval's rmse: 6.71946\n",
      "[700]\ttrain's rmse: 2.7673\teval's rmse: 6.71554\n",
      "Early stopping, best iteration is:\n",
      "[630]\ttrain's rmse: 2.90909\teval's rmse: 6.7021\n"
     ]
    },
    {
     "name": "stderr",
     "output_type": "stream",
     "text": [
      "num_leaves, val_score: 6.661612:  70%|##################################3              | 14/20 [00:21<00:09,  1.50s/it]\u001b[32m[I 2021-06-20 17:26:37,140]\u001b[0m Trial 20 finished with value: 6.702100094321922 and parameters: {'num_leaves': 111}. Best is trial 12 with value: 6.661611691840706.\u001b[0m\n",
      "num_leaves, val_score: 6.661612:  70%|##################################3              | 14/20 [00:21<00:09,  1.50s/it]"
     ]
    },
    {
     "name": "stdout",
     "output_type": "stream",
     "text": [
      "Training until validation scores don't improve for 100 rounds\n",
      "[100]\ttrain's rmse: 7.31759\teval's rmse: 7.95406\n",
      "[200]\ttrain's rmse: 6.65626\teval's rmse: 7.56274\n",
      "[300]\ttrain's rmse: 6.28298\teval's rmse: 7.33375\n",
      "[400]\ttrain's rmse: 6.03885\teval's rmse: 7.24145\n",
      "[500]\ttrain's rmse: 5.84127\teval's rmse: 7.09001\n",
      "[600]\ttrain's rmse: 5.67809\teval's rmse: 6.97436\n",
      "[700]\ttrain's rmse: 5.54754\teval's rmse: 6.87651\n",
      "[800]\ttrain's rmse: 5.44065\teval's rmse: 6.83494"
     ]
    },
    {
     "name": "stderr",
     "output_type": "stream",
     "text": [
      "num_leaves, val_score: 6.661612:  75%|####################################7            | 15/20 [00:22<00:06,  1.23s/it]\u001b[32m[I 2021-06-20 17:26:37,747]\u001b[0m Trial 21 finished with value: 6.746518140248611 and parameters: {'num_leaves': 6}. Best is trial 12 with value: 6.661611691840706.\u001b[0m\n",
      "num_leaves, val_score: 6.661612:  75%|####################################7            | 15/20 [00:22<00:06,  1.23s/it]"
     ]
    },
    {
     "name": "stdout",
     "output_type": "stream",
     "text": [
      "\n",
      "[900]\ttrain's rmse: 5.31683\teval's rmse: 6.7686\n",
      "[1000]\ttrain's rmse: 5.22798\teval's rmse: 6.74652\n",
      "Did not meet early stopping. Best iteration is:\n",
      "[1000]\ttrain's rmse: 5.22798\teval's rmse: 6.74652\n",
      "Training until validation scores don't improve for 100 rounds\n",
      "[100]\ttrain's rmse: 5.53274\teval's rmse: 7.29332\n",
      "[200]\ttrain's rmse: 4.53069\teval's rmse: 6.95313\n",
      "[300]\ttrain's rmse: 3.95878\teval's rmse: 6.81799\n",
      "[400]\ttrain's rmse: 3.5421\teval's rmse: 6.76424\n",
      "[500]\ttrain's rmse: 3.22905\teval's rmse: 6.72425\n",
      "[600]\ttrain's rmse: 2.98453\teval's rmse: 6.71946\n",
      "[700]\ttrain's rmse: 2.7673\teval's rmse: 6.71554\n",
      "Early stopping, best iteration is:\n",
      "[630]\ttrain's rmse: 2.90909\teval's rmse: 6.7021\n"
     ]
    },
    {
     "name": "stderr",
     "output_type": "stream",
     "text": [
      "num_leaves, val_score: 6.661612:  80%|#######################################2         | 16/20 [00:24<00:05,  1.36s/it]\u001b[32m[I 2021-06-20 17:26:39,403]\u001b[0m Trial 22 finished with value: 6.702100094321922 and parameters: {'num_leaves': 225}. Best is trial 12 with value: 6.661611691840706.\u001b[0m\n",
      "num_leaves, val_score: 6.661612:  80%|#######################################2         | 16/20 [00:24<00:05,  1.36s/it]"
     ]
    },
    {
     "name": "stdout",
     "output_type": "stream",
     "text": [
      "Training until validation scores don't improve for 100 rounds\n",
      "[100]\ttrain's rmse: 5.53274\teval's rmse: 7.29332\n",
      "[200]\ttrain's rmse: 4.53069\teval's rmse: 6.95313\n",
      "[300]\ttrain's rmse: 3.95878\teval's rmse: 6.81799\n",
      "[400]\ttrain's rmse: 3.5421\teval's rmse: 6.76424\n",
      "[500]\ttrain's rmse: 3.22905\teval's rmse: 6.72425\n",
      "[600]\ttrain's rmse: 2.98453\teval's rmse: 6.71946\n",
      "[700]\ttrain's rmse: 2.7673\teval's rmse: 6.71554\n",
      "Early stopping, best iteration is:\n",
      "[630]\ttrain's rmse: 2.90909\teval's rmse: 6.7021\n"
     ]
    },
    {
     "name": "stderr",
     "output_type": "stream",
     "text": [
      "num_leaves, val_score: 6.661612:  85%|#########################################6       | 17/20 [00:26<00:04,  1.52s/it]\u001b[32m[I 2021-06-20 17:26:41,285]\u001b[0m Trial 23 finished with value: 6.702100094321922 and parameters: {'num_leaves': 140}. Best is trial 12 with value: 6.661611691840706.\u001b[0m\n",
      "num_leaves, val_score: 6.661612:  85%|#########################################6       | 17/20 [00:26<00:04,  1.52s/it]"
     ]
    },
    {
     "name": "stdout",
     "output_type": "stream",
     "text": [
      "Training until validation scores don't improve for 100 rounds\n",
      "[100]\ttrain's rmse: 5.53274\teval's rmse: 7.29332\n",
      "[200]\ttrain's rmse: 4.53069\teval's rmse: 6.95313\n",
      "[300]\ttrain's rmse: 3.95878\teval's rmse: 6.81799\n",
      "[400]\ttrain's rmse: 3.5421\teval's rmse: 6.76424\n",
      "[500]\ttrain's rmse: 3.22905\teval's rmse: 6.72425\n",
      "[600]\ttrain's rmse: 2.98453\teval's rmse: 6.71946\n",
      "[700]\ttrain's rmse: 2.7673\teval's rmse: 6.71554\n",
      "Early stopping, best iteration is:\n",
      "[630]\ttrain's rmse: 2.90909\teval's rmse: 6.7021\n"
     ]
    },
    {
     "name": "stderr",
     "output_type": "stream",
     "text": [
      "num_leaves, val_score: 6.661612:  90%|############################################1    | 18/20 [00:27<00:03,  1.56s/it]\u001b[32m[I 2021-06-20 17:26:42,936]\u001b[0m Trial 24 finished with value: 6.702100094321922 and parameters: {'num_leaves': 57}. Best is trial 12 with value: 6.661611691840706.\u001b[0m\n",
      "num_leaves, val_score: 6.661612:  90%|############################################1    | 18/20 [00:27<00:03,  1.56s/it]"
     ]
    },
    {
     "name": "stdout",
     "output_type": "stream",
     "text": [
      "Training until validation scores don't improve for 100 rounds\n",
      "[100]\ttrain's rmse: 5.53274\teval's rmse: 7.29332\n",
      "[200]\ttrain's rmse: 4.53069\teval's rmse: 6.95313\n",
      "[300]\ttrain's rmse: 3.95878\teval's rmse: 6.81799\n",
      "[400]\ttrain's rmse: 3.5421\teval's rmse: 6.76424\n",
      "[500]\ttrain's rmse: 3.22905\teval's rmse: 6.72425\n",
      "[600]\ttrain's rmse: 2.98453\teval's rmse: 6.71946\n",
      "[700]\ttrain's rmse: 2.7673\teval's rmse: 6.71554\n",
      "Early stopping, best iteration is:\n",
      "[630]\ttrain's rmse: 2.90909\teval's rmse: 6.7021\n"
     ]
    },
    {
     "name": "stderr",
     "output_type": "stream",
     "text": [
      "num_leaves, val_score: 6.661612:  95%|##############################################5  | 19/20 [00:29<00:01,  1.61s/it]\u001b[32m[I 2021-06-20 17:26:44,671]\u001b[0m Trial 25 finished with value: 6.702100094321922 and parameters: {'num_leaves': 218}. Best is trial 12 with value: 6.661611691840706.\u001b[0m\n",
      "num_leaves, val_score: 6.661612:  95%|##############################################5  | 19/20 [00:29<00:01,  1.61s/it]"
     ]
    },
    {
     "name": "stdout",
     "output_type": "stream",
     "text": [
      "Training until validation scores don't improve for 100 rounds\n",
      "[100]\ttrain's rmse: 5.53274\teval's rmse: 7.29332\n",
      "[200]\ttrain's rmse: 4.53069\teval's rmse: 6.95313\n",
      "[300]\ttrain's rmse: 3.95878\teval's rmse: 6.81799\n",
      "[400]\ttrain's rmse: 3.5421\teval's rmse: 6.76424\n",
      "[500]\ttrain's rmse: 3.22905\teval's rmse: 6.72425\n",
      "[600]\ttrain's rmse: 2.98453\teval's rmse: 6.71946\n",
      "[700]\ttrain's rmse: 2.7673\teval's rmse: 6.71554\n",
      "Early stopping, best iteration is:\n",
      "[630]\ttrain's rmse: 2.90909\teval's rmse: 6.7021\n"
     ]
    },
    {
     "name": "stderr",
     "output_type": "stream",
     "text": [
      "num_leaves, val_score: 6.661612: 100%|#################################################| 20/20 [00:30<00:00,  1.59s/it]\u001b[32m[I 2021-06-20 17:26:46,212]\u001b[0m Trial 26 finished with value: 6.702100094321922 and parameters: {'num_leaves': 85}. Best is trial 12 with value: 6.661611691840706.\u001b[0m\n",
      "num_leaves, val_score: 6.661612: 100%|#################################################| 20/20 [00:30<00:00,  1.55s/it]\n",
      "bagging, val_score: 6.661612:   0%|                                                             | 0/10 [00:00<?, ?it/s]"
     ]
    },
    {
     "name": "stdout",
     "output_type": "stream",
     "text": [
      "Training until validation scores don't improve for 100 rounds\n",
      "[100]\ttrain's rmse: 6.00033\teval's rmse: 7.41283\n",
      "[200]\ttrain's rmse: 5.10206\teval's rmse: 7.00959\n",
      "[300]\ttrain's rmse: 4.62542\teval's rmse: 6.87331\n",
      "[400]\ttrain's rmse: 4.269\teval's rmse: 6.79281\n",
      "[500]\ttrain's rmse: 4.00456\teval's rmse: 6.75965\n",
      "[600]\ttrain's rmse: 3.78862\teval's rmse: 6.7298\n",
      "[700]\ttrain's rmse: 3.60206\teval's rmse: 6.71948\n",
      "[800]\ttrain's rmse: 3.43724\teval's rmse: 6.71787\n",
      "Early stopping, best iteration is:\n",
      "[753]\ttrain's rmse: 3.51285\teval's rmse: 6.7086\n"
     ]
    },
    {
     "name": "stderr",
     "output_type": "stream",
     "text": [
      "bagging, val_score: 6.661612:  10%|#####3                                               | 1/10 [00:01<00:12,  1.35s/it]\u001b[32m[I 2021-06-20 17:26:47,578]\u001b[0m Trial 27 finished with value: 6.708595398310992 and parameters: {'bagging_fraction': 0.7427364748108076, 'bagging_freq': 2}. Best is trial 27 with value: 6.708595398310992.\u001b[0m\n",
      "bagging, val_score: 6.661612:  10%|#####3                                               | 1/10 [00:01<00:12,  1.35s/it]"
     ]
    },
    {
     "name": "stdout",
     "output_type": "stream",
     "text": [
      "Training until validation scores don't improve for 100 rounds\n",
      "[100]\ttrain's rmse: 5.85903\teval's rmse: 7.19984\n",
      "[200]\ttrain's rmse: 5.0026\teval's rmse: 6.83897\n",
      "[300]\ttrain's rmse: 4.53308\teval's rmse: 6.78193\n",
      "[400]\ttrain's rmse: 4.19248\teval's rmse: 6.71123\n",
      "[500]\ttrain's rmse: 3.93137\teval's rmse: 6.71739\n"
     ]
    },
    {
     "name": "stderr",
     "output_type": "stream",
     "text": [
      "bagging, val_score: 6.661612:  20%|##########6                                          | 2/10 [00:02<00:08,  1.08s/it]\u001b[32m[I 2021-06-20 17:26:48,461]\u001b[0m Trial 28 finished with value: 6.694883422434663 and parameters: {'bagging_fraction': 0.8244302771931724, 'bagging_freq': 4}. Best is trial 28 with value: 6.694883422434663.\u001b[0m\n",
      "bagging, val_score: 6.661612:  20%|##########6                                          | 2/10 [00:02<00:08,  1.08s/it]"
     ]
    },
    {
     "name": "stdout",
     "output_type": "stream",
     "text": [
      "[600]\ttrain's rmse: 3.72203\teval's rmse: 6.70609\n",
      "Early stopping, best iteration is:\n",
      "[527]\ttrain's rmse: 3.8726\teval's rmse: 6.69488\n",
      "Training until validation scores don't improve for 100 rounds\n",
      "[100]\ttrain's rmse: 6.52919\teval's rmse: 7.84388\n",
      "[200]\ttrain's rmse: 5.56481\teval's rmse: 7.44983\n",
      "[300]\ttrain's rmse: 5.02052\teval's rmse: 7.20384\n",
      "[400]\ttrain's rmse: 4.64348\teval's rmse: 7.12422\n",
      "[500]\ttrain's rmse: 4.37992\teval's rmse: 7.04743\n",
      "[600]\ttrain's rmse: 4.13527\teval's rmse: 7.03155\n",
      "[700]\ttrain's rmse: 3.9367\teval's rmse: 6.95289\n",
      "[800]\ttrain's rmse: 3.76763\teval's rmse: 6.95566\n",
      "Early stopping, best iteration is:\n",
      "[736]\ttrain's rmse: 3.87389\teval's rmse: 6.93778\n"
     ]
    },
    {
     "name": "stderr",
     "output_type": "stream",
     "text": [
      "bagging, val_score: 6.661612:  30%|###############9                                     | 3/10 [00:03<00:07,  1.13s/it]\u001b[32m[I 2021-06-20 17:26:49,666]\u001b[0m Trial 29 finished with value: 6.937777276764587 and parameters: {'bagging_fraction': 0.56717084652815, 'bagging_freq': 2}. Best is trial 28 with value: 6.694883422434663.\u001b[0m\n",
      "bagging, val_score: 6.661612:  30%|###############9                                     | 3/10 [00:03<00:07,  1.13s/it]"
     ]
    },
    {
     "name": "stdout",
     "output_type": "stream",
     "text": [
      "Training until validation scores don't improve for 100 rounds\n",
      "[100]\ttrain's rmse: 5.8818\teval's rmse: 7.24068\n",
      "[200]\ttrain's rmse: 5.01848\teval's rmse: 6.91837\n",
      "[300]\ttrain's rmse: 4.54687\teval's rmse: 6.7866\n",
      "[400]\ttrain's rmse: 4.2135\teval's rmse: 6.73522\n",
      "[500]\ttrain's rmse: 3.95604\teval's rmse: 6.71468\n",
      "[600]\ttrain's rmse: 3.74093\teval's rmse: 6.70442\n",
      "[700]\ttrain's rmse: 3.55409\teval's rmse: 6.70425\n",
      "Early stopping, best iteration is:\n",
      "[616]\ttrain's rmse: 3.71195\teval's rmse: 6.69433\n"
     ]
    },
    {
     "name": "stderr",
     "output_type": "stream",
     "text": [
      "bagging, val_score: 6.661612:  40%|#####################2                               | 4/10 [00:04<00:06,  1.11s/it]\u001b[32m[I 2021-06-20 17:26:50,744]\u001b[0m Trial 30 finished with value: 6.6943344000217335 and parameters: {'bagging_fraction': 0.7835907459488467, 'bagging_freq': 2}. Best is trial 30 with value: 6.6943344000217335.\u001b[0m\n",
      "bagging, val_score: 6.661612:  40%|#####################2                               | 4/10 [00:04<00:06,  1.11s/it]"
     ]
    },
    {
     "name": "stdout",
     "output_type": "stream",
     "text": [
      "Training until validation scores don't improve for 100 rounds\n",
      "[100]\ttrain's rmse: 5.79033\teval's rmse: 7.17826\n",
      "[200]\ttrain's rmse: 4.98357\teval's rmse: 6.86094\n",
      "[300]\ttrain's rmse: 4.5017\teval's rmse: 6.70865\n",
      "[400]\ttrain's rmse: 4.15769\teval's rmse: 6.68219\n",
      "[500]\ttrain's rmse: 3.90528\teval's rmse: 6.65356\n",
      "[600]\ttrain's rmse: 3.69004\teval's rmse: 6.62511\n",
      "Early stopping, best iteration is:\n",
      "[574]\ttrain's rmse: 3.73561\teval's rmse: 6.61981\n"
     ]
    },
    {
     "name": "stderr",
     "output_type": "stream",
     "text": [
      "bagging, val_score: 6.619812:  50%|##########################5                          | 5/10 [00:05<00:05,  1.07s/it]\u001b[32m[I 2021-06-20 17:26:51,726]\u001b[0m Trial 31 finished with value: 6.6198120914159615 and parameters: {'bagging_fraction': 0.8692063496433233, 'bagging_freq': 7}. Best is trial 31 with value: 6.6198120914159615.\u001b[0m\n",
      "bagging, val_score: 6.619812:  50%|##########################5                          | 5/10 [00:05<00:05,  1.07s/it]"
     ]
    },
    {
     "name": "stdout",
     "output_type": "stream",
     "text": [
      "Training until validation scores don't improve for 100 rounds\n",
      "[100]\ttrain's rmse: 5.88187\teval's rmse: 7.21697\n",
      "[200]\ttrain's rmse: 5.04228\teval's rmse: 6.91256\n",
      "[300]\ttrain's rmse: 4.56304\teval's rmse: 6.76423\n",
      "[400]\ttrain's rmse: 4.21727\teval's rmse: 6.70273\n",
      "[500]\ttrain's rmse: 3.95007\teval's rmse: 6.69976\n",
      "[600]\ttrain's rmse: 3.73845\teval's rmse: 6.68238\n",
      "[700]\ttrain's rmse: 3.54817\teval's rmse: 6.65042\n",
      "Early stopping, best iteration is:\n",
      "[687]\ttrain's rmse: 3.57004\teval's rmse: 6.63946\n"
     ]
    },
    {
     "name": "stderr",
     "output_type": "stream",
     "text": [
      "bagging, val_score: 6.619812:  60%|###############################8                     | 6/10 [00:06<00:04,  1.08s/it]\u001b[32m[I 2021-06-20 17:26:52,835]\u001b[0m Trial 32 finished with value: 6.639458956278081 and parameters: {'bagging_fraction': 0.8126007568618787, 'bagging_freq': 4}. Best is trial 31 with value: 6.6198120914159615.\u001b[0m\n",
      "bagging, val_score: 6.619812:  60%|###############################8                     | 6/10 [00:06<00:04,  1.08s/it]"
     ]
    },
    {
     "name": "stdout",
     "output_type": "stream",
     "text": [
      "Training until validation scores don't improve for 100 rounds\n",
      "[100]\ttrain's rmse: 5.74529\teval's rmse: 6.9683\n",
      "[200]\ttrain's rmse: 4.92816\teval's rmse: 6.65687\n",
      "[300]\ttrain's rmse: 4.4697\teval's rmse: 6.623\n"
     ]
    },
    {
     "name": "stderr",
     "output_type": "stream",
     "text": [
      "bagging, val_score: 6.603728:  70%|#####################################                | 7/10 [00:07<00:02,  1.07it/s]\u001b[32m[I 2021-06-20 17:26:53,464]\u001b[0m Trial 33 finished with value: 6.603727893753268 and parameters: {'bagging_fraction': 0.9980147935838862, 'bagging_freq': 4}. Best is trial 33 with value: 6.603727893753268.\u001b[0m\n",
      "bagging, val_score: 6.603728:  70%|#####################################                | 7/10 [00:07<00:02,  1.07it/s]"
     ]
    },
    {
     "name": "stdout",
     "output_type": "stream",
     "text": [
      "[400]\ttrain's rmse: 4.15845\teval's rmse: 6.61863\n",
      "Early stopping, best iteration is:\n",
      "[373]\ttrain's rmse: 4.23875\teval's rmse: 6.60373\n",
      "Training until validation scores don't improve for 100 rounds\n",
      "[100]\ttrain's rmse: 5.73352\teval's rmse: 7.05037\n",
      "[200]\ttrain's rmse: 4.89995\teval's rmse: 6.72613\n",
      "[300]\ttrain's rmse: 4.43102\teval's rmse: 6.64548\n"
     ]
    },
    {
     "name": "stderr",
     "output_type": "stream",
     "text": [
      "\r",
      "bagging, val_score: 6.603728:  70%|#####################################                | 7/10 [00:07<00:02,  1.07it/s]"
     ]
    },
    {
     "name": "stdout",
     "output_type": "stream",
     "text": [
      "[400]\ttrain's rmse: 4.1082\teval's rmse: 6.62921\n",
      "[500]\ttrain's rmse: 3.85228\teval's rmse: 6.62954\n",
      "Early stopping, best iteration is:\n",
      "[437]\ttrain's rmse: 4.00545\teval's rmse: 6.62067\n"
     ]
    },
    {
     "name": "stderr",
     "output_type": "stream",
     "text": [
      "bagging, val_score: 6.603728:  80%|##########################################4          | 8/10 [00:07<00:01,  1.15it/s]\u001b[32m[I 2021-06-20 17:26:54,191]\u001b[0m Trial 34 finished with value: 6.620673699383203 and parameters: {'bagging_fraction': 0.9512430581404092, 'bagging_freq': 1}. Best is trial 33 with value: 6.603727893753268.\u001b[0m\n",
      "bagging, val_score: 6.603728:  80%|##########################################4          | 8/10 [00:07<00:01,  1.15it/s]"
     ]
    },
    {
     "name": "stdout",
     "output_type": "stream",
     "text": [
      "Training until validation scores don't improve for 100 rounds\n",
      "[100]\ttrain's rmse: 6.68121\teval's rmse: 7.85185\n",
      "[200]\ttrain's rmse: 5.75042\teval's rmse: 7.51753\n",
      "[300]\ttrain's rmse: 5.23814\teval's rmse: 7.36551\n",
      "[400]\ttrain's rmse: 4.86241\teval's rmse: 7.1997\n",
      "[500]\ttrain's rmse: 4.5888\teval's rmse: 7.13232\n",
      "[600]\ttrain's rmse: 4.3678\teval's rmse: 7.08253\n",
      "[700]\ttrain's rmse: 4.17536\teval's rmse: 7.05775\n",
      "[800]\ttrain's rmse: 4.01971\teval's rmse: 6.9853\n",
      "[900]\ttrain's rmse: 3.87342\teval's rmse: 6.97527\n",
      "Early stopping, best iteration is:\n",
      "[889]\ttrain's rmse: 3.89016\teval's rmse: 6.95102\n"
     ]
    },
    {
     "name": "stderr",
     "output_type": "stream",
     "text": [
      "bagging, val_score: 6.603728:  90%|###############################################7     | 9/10 [00:09<00:01,  1.01s/it]\u001b[32m[I 2021-06-20 17:26:55,519]\u001b[0m Trial 35 finished with value: 6.951015202523802 and parameters: {'bagging_fraction': 0.49207853370511123, 'bagging_freq': 7}. Best is trial 33 with value: 6.603727893753268.\u001b[0m\n",
      "bagging, val_score: 6.603728:  90%|###############################################7     | 9/10 [00:09<00:01,  1.01s/it]"
     ]
    },
    {
     "name": "stdout",
     "output_type": "stream",
     "text": [
      "Training until validation scores don't improve for 100 rounds\n",
      "[100]\ttrain's rmse: 6.86406\teval's rmse: 8.11786\n",
      "[200]\ttrain's rmse: 5.91402\teval's rmse: 7.7314\n",
      "[300]\ttrain's rmse: 5.40776\teval's rmse: 7.53689\n",
      "[400]\ttrain's rmse: 5.02871\teval's rmse: 7.42383\n",
      "[500]\ttrain's rmse: 4.75359\teval's rmse: 7.33015\n",
      "[600]\ttrain's rmse: 4.52244\teval's rmse: 7.2513\n",
      "[700]\ttrain's rmse: 4.34159\teval's rmse: 7.15305\n",
      "[800]\ttrain's rmse: 4.17532\teval's rmse: 7.13598\n",
      "[900]\ttrain's rmse: 4.0253\teval's rmse: 7.10967\n",
      "[1000]\ttrain's rmse: 3.91065\teval's rmse: 7.07764\n",
      "Did not meet early stopping. Best iteration is:\n",
      "[1000]\ttrain's rmse: 3.91065\teval's rmse: 7.07764\n"
     ]
    },
    {
     "name": "stderr",
     "output_type": "stream",
     "text": [
      "bagging, val_score: 6.603728: 100%|####################################################| 10/10 [00:10<00:00,  1.11s/it]\u001b[32m[I 2021-06-20 17:26:56,855]\u001b[0m Trial 36 finished with value: 7.077640338294868 and parameters: {'bagging_fraction': 0.4271652661021421, 'bagging_freq': 3}. Best is trial 33 with value: 6.603727893753268.\u001b[0m\n",
      "bagging, val_score: 6.603728: 100%|####################################################| 10/10 [00:10<00:00,  1.06s/it]\n",
      "feature_fraction_stage2, val_score: 6.603728:   0%|                                              | 0/6 [00:00<?, ?it/s]"
     ]
    },
    {
     "name": "stdout",
     "output_type": "stream",
     "text": [
      "Training until validation scores don't improve for 100 rounds\n",
      "[100]\ttrain's rmse: 5.75089\teval's rmse: 6.98105\n",
      "[200]\ttrain's rmse: 4.92507\teval's rmse: 6.67814\n",
      "[300]\ttrain's rmse: 4.49215\teval's rmse: 6.6012\n",
      "[400]\ttrain's rmse: 4.20217\teval's rmse: 6.58793\n",
      "[500]\ttrain's rmse: 3.97221\teval's rmse: 6.60135\n",
      "Early stopping, best iteration is:\n",
      "[434]\ttrain's rmse: 4.11875\teval's rmse: 6.5815\n"
     ]
    },
    {
     "name": "stderr",
     "output_type": "stream",
     "text": [
      "feature_fraction_stage2, val_score: 6.581500:  17%|######3                               | 1/6 [00:00<00:03,  1.44it/s]\u001b[32m[I 2021-06-20 17:26:57,563]\u001b[0m Trial 37 finished with value: 6.581500428533716 and parameters: {'feature_fraction': 0.852}. Best is trial 37 with value: 6.581500428533716.\u001b[0m\n",
      "feature_fraction_stage2, val_score: 6.581500:  17%|######3                               | 1/6 [00:00<00:03,  1.44it/s]"
     ]
    },
    {
     "name": "stdout",
     "output_type": "stream",
     "text": [
      "Training until validation scores don't improve for 100 rounds\n",
      "[100]\ttrain's rmse: 5.72065\teval's rmse: 7.0372\n",
      "[200]\ttrain's rmse: 4.91065\teval's rmse: 6.73541\n",
      "[300]\ttrain's rmse: 4.46243\teval's rmse: 6.66277\n"
     ]
    },
    {
     "name": "stderr",
     "output_type": "stream",
     "text": [
      "feature_fraction_stage2, val_score: 6.581500:  33%|############6                         | 2/6 [00:01<00:02,  1.44it/s]\u001b[32m[I 2021-06-20 17:26:58,261]\u001b[0m Trial 38 finished with value: 6.638835771195741 and parameters: {'feature_fraction': 0.948}. Best is trial 37 with value: 6.581500428533716.\u001b[0m\n",
      "feature_fraction_stage2, val_score: 6.581500:  33%|############6                         | 2/6 [00:01<00:02,  1.44it/s]"
     ]
    },
    {
     "name": "stdout",
     "output_type": "stream",
     "text": [
      "[400]\ttrain's rmse: 4.14893\teval's rmse: 6.64084\n",
      "[500]\ttrain's rmse: 3.90969\teval's rmse: 6.67786\n",
      "Early stopping, best iteration is:\n",
      "[401]\ttrain's rmse: 4.14633\teval's rmse: 6.63884\n",
      "Training until validation scores don't improve for 100 rounds\n",
      "[100]\ttrain's rmse: 5.74529\teval's rmse: 6.9683\n",
      "[200]\ttrain's rmse: 4.92816\teval's rmse: 6.65687\n",
      "[300]\ttrain's rmse: 4.4697\teval's rmse: 6.623\n"
     ]
    },
    {
     "name": "stderr",
     "output_type": "stream",
     "text": [
      "feature_fraction_stage2, val_score: 6.581500:  50%|###################                   | 3/6 [00:02<00:02,  1.48it/s]\u001b[32m[I 2021-06-20 17:26:58,916]\u001b[0m Trial 39 finished with value: 6.603727893753268 and parameters: {'feature_fraction': 0.9159999999999999}. Best is trial 37 with value: 6.581500428533716.\u001b[0m\n",
      "feature_fraction_stage2, val_score: 6.581500:  50%|###################                   | 3/6 [00:02<00:02,  1.48it/s]"
     ]
    },
    {
     "name": "stdout",
     "output_type": "stream",
     "text": [
      "[400]\ttrain's rmse: 4.15845\teval's rmse: 6.61863\n",
      "Early stopping, best iteration is:\n",
      "[373]\ttrain's rmse: 4.23875\teval's rmse: 6.60373\n",
      "Training until validation scores don't improve for 100 rounds\n",
      "[100]\ttrain's rmse: 5.71965\teval's rmse: 7.01134\n",
      "[200]\ttrain's rmse: 4.90426\teval's rmse: 6.72839\n"
     ]
    },
    {
     "name": "stderr",
     "output_type": "stream",
     "text": [
      "feature_fraction_stage2, val_score: 6.581500:  67%|#########################3            | 4/6 [00:02<00:01,  1.64it/s]\u001b[32m[I 2021-06-20 17:26:59,423]\u001b[0m Trial 40 finished with value: 6.661390410158647 and parameters: {'feature_fraction': 0.9799999999999999}. Best is trial 37 with value: 6.581500428533716.\u001b[0m\n",
      "feature_fraction_stage2, val_score: 6.581500:  67%|#########################3            | 4/6 [00:02<00:01,  1.64it/s]"
     ]
    },
    {
     "name": "stdout",
     "output_type": "stream",
     "text": [
      "[300]\ttrain's rmse: 4.46366\teval's rmse: 6.68298\n",
      "Early stopping, best iteration is:\n",
      "[270]\ttrain's rmse: 4.5756\teval's rmse: 6.66139\n",
      "Training until validation scores don't improve for 100 rounds\n",
      "[100]\ttrain's rmse: 5.75037\teval's rmse: 6.97487\n",
      "[200]\ttrain's rmse: 4.90339\teval's rmse: 6.666\n"
     ]
    },
    {
     "name": "stderr",
     "output_type": "stream",
     "text": [
      "feature_fraction_stage2, val_score: 6.581500:  83%|###############################6      | 5/6 [00:03<00:00,  1.68it/s]"
     ]
    },
    {
     "name": "stdout",
     "output_type": "stream",
     "text": [
      "[300]\ttrain's rmse: 4.47962\teval's rmse: 6.59339\n",
      "[400]\ttrain's rmse: 4.18668\teval's rmse: 6.60119\n",
      "Early stopping, best iteration is:\n",
      "[322]\ttrain's rmse: 4.40501\teval's rmse: 6.58635\n"
     ]
    },
    {
     "name": "stderr",
     "output_type": "stream",
     "text": [
      "\u001b[32m[I 2021-06-20 17:26:59,987]\u001b[0m Trial 41 finished with value: 6.5863500993424156 and parameters: {'feature_fraction': 0.8839999999999999}. Best is trial 37 with value: 6.581500428533716.\u001b[0m\n",
      "feature_fraction_stage2, val_score: 6.581500:  83%|###############################6      | 5/6 [00:03<00:00,  1.68it/s]"
     ]
    },
    {
     "name": "stdout",
     "output_type": "stream",
     "text": [
      "Training until validation scores don't improve for 100 rounds\n",
      "[100]\ttrain's rmse: 5.75089\teval's rmse: 6.98105\n",
      "[200]\ttrain's rmse: 4.92507\teval's rmse: 6.67814\n",
      "[300]\ttrain's rmse: 4.49215\teval's rmse: 6.6012\n"
     ]
    },
    {
     "name": "stderr",
     "output_type": "stream",
     "text": [
      "\r",
      "feature_fraction_stage2, val_score: 6.581500:  83%|###############################6      | 5/6 [00:03<00:00,  1.68it/s]"
     ]
    },
    {
     "name": "stdout",
     "output_type": "stream",
     "text": [
      "[400]\ttrain's rmse: 4.20217\teval's rmse: 6.58793\n",
      "[500]\ttrain's rmse: 3.97221\teval's rmse: 6.60135\n",
      "Early stopping, best iteration is:\n",
      "[434]\ttrain's rmse: 4.11875\teval's rmse: 6.5815\n"
     ]
    },
    {
     "name": "stderr",
     "output_type": "stream",
     "text": [
      "feature_fraction_stage2, val_score: 6.581500: 100%|######################################| 6/6 [00:03<00:00,  1.55it/s]\u001b[32m[I 2021-06-20 17:27:00,735]\u001b[0m Trial 42 finished with value: 6.581500428533716 and parameters: {'feature_fraction': 0.82}. Best is trial 37 with value: 6.581500428533716.\u001b[0m\n",
      "feature_fraction_stage2, val_score: 6.581500: 100%|######################################| 6/6 [00:03<00:00,  1.55it/s]\n",
      "regularization_factors, val_score: 6.581500:   0%|                                              | 0/20 [00:00<?, ?it/s]"
     ]
    },
    {
     "name": "stdout",
     "output_type": "stream",
     "text": [
      "Training until validation scores don't improve for 100 rounds\n",
      "[100]\ttrain's rmse: 5.78449\teval's rmse: 6.99176\n",
      "[200]\ttrain's rmse: 4.96477\teval's rmse: 6.71973\n",
      "[300]\ttrain's rmse: 4.52083\teval's rmse: 6.65419\n"
     ]
    },
    {
     "name": "stderr",
     "output_type": "stream",
     "text": [
      "regularization_factors, val_score: 6.581500:   5%|#9                                    | 1/20 [00:00<00:11,  1.73it/s]\u001b[32m[I 2021-06-20 17:27:01,327]\u001b[0m Trial 43 finished with value: 6.649296495688446 and parameters: {'lambda_l1': 0.006044472203726582, 'lambda_l2': 0.008465433687694621}. Best is trial 43 with value: 6.649296495688446.\u001b[0m\n",
      "regularization_factors, val_score: 6.581500:   5%|#9                                    | 1/20 [00:00<00:11,  1.73it/s]"
     ]
    },
    {
     "name": "stdout",
     "output_type": "stream",
     "text": [
      "[400]\ttrain's rmse: 4.20922\teval's rmse: 6.68335\n",
      "Early stopping, best iteration is:\n",
      "[305]\ttrain's rmse: 4.50397\teval's rmse: 6.6493\n",
      "Training until validation scores don't improve for 100 rounds\n",
      "[100]\ttrain's rmse: 5.87504\teval's rmse: 7.10488\n",
      "[200]\ttrain's rmse: 5.02902\teval's rmse: 6.79499\n"
     ]
    },
    {
     "name": "stderr",
     "output_type": "stream",
     "text": [
      "\r",
      "regularization_factors, val_score: 6.581500:   5%|#9                                    | 1/20 [00:01<00:11,  1.73it/s]"
     ]
    },
    {
     "name": "stdout",
     "output_type": "stream",
     "text": [
      "[300]\ttrain's rmse: 4.59035\teval's rmse: 6.70784\n",
      "[400]\ttrain's rmse: 4.28777\teval's rmse: 6.69791\n",
      "Early stopping, best iteration is:\n",
      "[340]\ttrain's rmse: 4.45861\teval's rmse: 6.68761\n"
     ]
    },
    {
     "name": "stderr",
     "output_type": "stream",
     "text": [
      "regularization_factors, val_score: 6.581500:  10%|###8                                  | 2/20 [00:01<00:10,  1.68it/s]\u001b[32m[I 2021-06-20 17:27:01,932]\u001b[0m Trial 44 finished with value: 6.6876124117422595 and parameters: {'lambda_l1': 2.26926189981299, 'lambda_l2': 1.3438192916799146e-06}. Best is trial 43 with value: 6.649296495688446.\u001b[0m\n",
      "regularization_factors, val_score: 6.581500:  10%|###8                                  | 2/20 [00:01<00:10,  1.68it/s]"
     ]
    },
    {
     "name": "stdout",
     "output_type": "stream",
     "text": [
      "Training until validation scores don't improve for 100 rounds\n",
      "[100]\ttrain's rmse: 5.83371\teval's rmse: 7.0823\n",
      "[200]\ttrain's rmse: 5.00034\teval's rmse: 6.7703\n",
      "[300]\ttrain's rmse: 4.54964\teval's rmse: 6.67915\n"
     ]
    },
    {
     "name": "stderr",
     "output_type": "stream",
     "text": [
      "\r",
      "regularization_factors, val_score: 6.581500:  10%|###8                                  | 2/20 [00:01<00:10,  1.68it/s]"
     ]
    },
    {
     "name": "stdout",
     "output_type": "stream",
     "text": [
      "[400]\ttrain's rmse: 4.24112\teval's rmse: 6.64765\n",
      "[500]\ttrain's rmse: 4.0082\teval's rmse: 6.665\n",
      "Early stopping, best iteration is:\n",
      "[406]\ttrain's rmse: 4.22149\teval's rmse: 6.64553\n"
     ]
    },
    {
     "name": "stderr",
     "output_type": "stream",
     "text": [
      "regularization_factors, val_score: 6.581500:  15%|#####7                                | 3/20 [00:01<00:10,  1.57it/s]\u001b[32m[I 2021-06-20 17:27:02,617]\u001b[0m Trial 45 finished with value: 6.645526172769832 and parameters: {'lambda_l1': 0.948558234880198, 'lambda_l2': 0.016571194811502005}. Best is trial 45 with value: 6.645526172769832.\u001b[0m\n",
      "regularization_factors, val_score: 6.581500:  15%|#####7                                | 3/20 [00:01<00:10,  1.57it/s]"
     ]
    },
    {
     "name": "stdout",
     "output_type": "stream",
     "text": [
      "Training until validation scores don't improve for 100 rounds\n",
      "[100]\ttrain's rmse: 5.79009\teval's rmse: 7.03327\n",
      "[200]\ttrain's rmse: 4.94223\teval's rmse: 6.72725\n",
      "[300]\ttrain's rmse: 4.50301\teval's rmse: 6.64237\n"
     ]
    },
    {
     "name": "stderr",
     "output_type": "stream",
     "text": [
      "regularization_factors, val_score: 6.581500:  20%|#######6                              | 4/20 [00:02<00:09,  1.67it/s]\u001b[32m[I 2021-06-20 17:27:03,160]\u001b[0m Trial 46 finished with value: 6.635797008030312 and parameters: {'lambda_l1': 0.016260812332686368, 'lambda_l2': 3.4038672016659064e-05}. Best is trial 46 with value: 6.635797008030312.\u001b[0m\n",
      "regularization_factors, val_score: 6.581500:  20%|#######6                              | 4/20 [00:02<00:09,  1.67it/s]"
     ]
    },
    {
     "name": "stdout",
     "output_type": "stream",
     "text": [
      "Early stopping, best iteration is:\n",
      "[295]\ttrain's rmse: 4.52194\teval's rmse: 6.6358\n",
      "Training until validation scores don't improve for 100 rounds\n",
      "[100]\ttrain's rmse: 6.13504\teval's rmse: 7.25574\n",
      "[200]\ttrain's rmse: 5.24655\teval's rmse: 6.88913\n",
      "[300]\ttrain's rmse: 4.78219\teval's rmse: 6.74784\n",
      "[400]\ttrain's rmse: 4.45884\teval's rmse: 6.71908\n",
      "[500]\ttrain's rmse: 4.2181\teval's rmse: 6.70223\n",
      "[600]\ttrain's rmse: 4.03142\teval's rmse: 6.69405\n",
      "Early stopping, best iteration is:\n",
      "[574]\ttrain's rmse: 4.07544\teval's rmse: 6.68468\n"
     ]
    },
    {
     "name": "stderr",
     "output_type": "stream",
     "text": [
      "regularization_factors, val_score: 6.581500:  25%|#########5                            | 5/20 [00:03<00:11,  1.34it/s]\u001b[32m[I 2021-06-20 17:27:04,175]\u001b[0m Trial 47 finished with value: 6.684677499906195 and parameters: {'lambda_l1': 0.17812293531854095, 'lambda_l2': 8.650539943261183}. Best is trial 46 with value: 6.635797008030312.\u001b[0m\n",
      "regularization_factors, val_score: 6.581500:  25%|#########5                            | 5/20 [00:03<00:11,  1.34it/s]"
     ]
    },
    {
     "name": "stdout",
     "output_type": "stream",
     "text": [
      "Training until validation scores don't improve for 100 rounds\n",
      "[100]\ttrain's rmse: 5.82686\teval's rmse: 7.03016\n",
      "[200]\ttrain's rmse: 4.98594\teval's rmse: 6.75043\n",
      "[300]\ttrain's rmse: 4.53702\teval's rmse: 6.67228\n",
      "[400]\ttrain's rmse: 4.22431\teval's rmse: 6.66797\n",
      "[500]\ttrain's rmse: 3.98931\teval's rmse: 6.65249\n"
     ]
    },
    {
     "name": "stderr",
     "output_type": "stream",
     "text": [
      "\r",
      "regularization_factors, val_score: 6.581500:  25%|#########5                            | 5/20 [00:04<00:11,  1.34it/s]"
     ]
    },
    {
     "name": "stdout",
     "output_type": "stream",
     "text": [
      "[600]\ttrain's rmse: 3.79371\teval's rmse: 6.66303\n",
      "Early stopping, best iteration is:\n",
      "[559]\ttrain's rmse: 3.86919\teval's rmse: 6.64491\n"
     ]
    },
    {
     "name": "stderr",
     "output_type": "stream",
     "text": [
      "regularization_factors, val_score: 6.581500:  30%|###########4                          | 6/20 [00:04<00:11,  1.21it/s]\u001b[32m[I 2021-06-20 17:27:05,155]\u001b[0m Trial 48 finished with value: 6.644908974962615 and parameters: {'lambda_l1': 2.6114869013946815e-07, 'lambda_l2': 0.5957070710325323}. Best is trial 46 with value: 6.635797008030312.\u001b[0m\n",
      "regularization_factors, val_score: 6.581500:  30%|###########4                          | 6/20 [00:04<00:11,  1.21it/s]"
     ]
    },
    {
     "name": "stdout",
     "output_type": "stream",
     "text": [
      "Training until validation scores don't improve for 100 rounds\n",
      "[100]\ttrain's rmse: 5.82878\teval's rmse: 7.03413\n",
      "[200]\ttrain's rmse: 4.9853\teval's rmse: 6.75085\n",
      "[300]\ttrain's rmse: 4.54094\teval's rmse: 6.66395\n"
     ]
    },
    {
     "name": "stderr",
     "output_type": "stream",
     "text": [
      "regularization_factors, val_score: 6.581500:  35%|#############3                        | 7/20 [00:05<00:09,  1.32it/s]\u001b[32m[I 2021-06-20 17:27:05,777]\u001b[0m Trial 49 finished with value: 6.645037298598136 and parameters: {'lambda_l1': 9.039679592002529e-05, 'lambda_l2': 0.8532559274644645}. Best is trial 46 with value: 6.635797008030312.\u001b[0m\n",
      "regularization_factors, val_score: 6.581500:  35%|#############3                        | 7/20 [00:05<00:09,  1.32it/s]"
     ]
    },
    {
     "name": "stdout",
     "output_type": "stream",
     "text": [
      "[400]\ttrain's rmse: 4.24249\teval's rmse: 6.65076\n",
      "Early stopping, best iteration is:\n",
      "[352]\ttrain's rmse: 4.37667\teval's rmse: 6.64504\n",
      "Training until validation scores don't improve for 100 rounds\n",
      "[100]\ttrain's rmse: 5.76765\teval's rmse: 6.97397\n",
      "[200]\ttrain's rmse: 4.94465\teval's rmse: 6.71116\n"
     ]
    },
    {
     "name": "stderr",
     "output_type": "stream",
     "text": [
      "\r",
      "regularization_factors, val_score: 6.581500:  35%|#############3                        | 7/20 [00:05<00:09,  1.32it/s]"
     ]
    },
    {
     "name": "stdout",
     "output_type": "stream",
     "text": [
      "[300]\ttrain's rmse: 4.50573\teval's rmse: 6.60748\n",
      "[400]\ttrain's rmse: 4.20297\teval's rmse: 6.61014\n",
      "Early stopping, best iteration is:\n",
      "[338]\ttrain's rmse: 4.37881\teval's rmse: 6.60219\n"
     ]
    },
    {
     "name": "stderr",
     "output_type": "stream",
     "text": [
      "regularization_factors, val_score: 6.581500:  40%|###############2                      | 8/20 [00:05<00:08,  1.39it/s]\u001b[32m[I 2021-06-20 17:27:06,409]\u001b[0m Trial 50 finished with value: 6.602193682324579 and parameters: {'lambda_l1': 2.0368743049650162e-08, 'lambda_l2': 0.007173803728798182}. Best is trial 50 with value: 6.602193682324579.\u001b[0m\n",
      "regularization_factors, val_score: 6.581500:  40%|###############2                      | 8/20 [00:05<00:08,  1.39it/s]"
     ]
    },
    {
     "name": "stdout",
     "output_type": "stream",
     "text": [
      "Training until validation scores don't improve for 100 rounds\n",
      "[100]\ttrain's rmse: 5.7589\teval's rmse: 6.97755\n",
      "[200]\ttrain's rmse: 4.93464\teval's rmse: 6.70512\n",
      "[300]\ttrain's rmse: 4.49254\teval's rmse: 6.64148\n"
     ]
    },
    {
     "name": "stderr",
     "output_type": "stream",
     "text": [
      "regularization_factors, val_score: 6.581500:  45%|#################1                    | 9/20 [00:06<00:07,  1.49it/s]\u001b[32m[I 2021-06-20 17:27:06,977]\u001b[0m Trial 51 finished with value: 6.632405629356639 and parameters: {'lambda_l1': 3.6470384462023836e-06, 'lambda_l2': 6.945311214258873e-05}. Best is trial 50 with value: 6.602193682324579.\u001b[0m\n",
      "regularization_factors, val_score: 6.581500:  45%|#################1                    | 9/20 [00:06<00:07,  1.49it/s]"
     ]
    },
    {
     "name": "stdout",
     "output_type": "stream",
     "text": [
      "[400]\ttrain's rmse: 4.18309\teval's rmse: 6.65006\n",
      "Early stopping, best iteration is:\n",
      "[312]\ttrain's rmse: 4.44852\teval's rmse: 6.63241\n",
      "Training until validation scores don't improve for 100 rounds\n",
      "[100]\ttrain's rmse: 6.0199\teval's rmse: 7.23245\n",
      "[200]\ttrain's rmse: 5.20996\teval's rmse: 6.91213\n",
      "[300]\ttrain's rmse: 4.75904\teval's rmse: 6.76905\n",
      "[400]\ttrain's rmse: 4.46105\teval's rmse: 6.71447\n",
      "[500]\ttrain's rmse: 4.27251\teval's rmse: 6.70837\n"
     ]
    },
    {
     "name": "stderr",
     "output_type": "stream",
     "text": [
      "regularization_factors, val_score: 6.581500:  50%|##################5                  | 10/20 [00:07<00:07,  1.34it/s]\u001b[32m[I 2021-06-20 17:27:07,890]\u001b[0m Trial 52 finished with value: 6.699816831170981 and parameters: {'lambda_l1': 8.689724353208756, 'lambda_l2': 1.721612851438795e-07}. Best is trial 50 with value: 6.602193682324579.\u001b[0m\n",
      "regularization_factors, val_score: 6.581500:  50%|##################5                  | 10/20 [00:07<00:07,  1.34it/s]"
     ]
    },
    {
     "name": "stdout",
     "output_type": "stream",
     "text": [
      "[600]\ttrain's rmse: 4.11638\teval's rmse: 6.70757\n",
      "Early stopping, best iteration is:\n",
      "[544]\ttrain's rmse: 4.2067\teval's rmse: 6.69982\n",
      "Training until validation scores don't improve for 100 rounds\n",
      "[100]\ttrain's rmse: 5.78717\teval's rmse: 7.02451\n",
      "[200]\ttrain's rmse: 4.93921\teval's rmse: 6.7246\n",
      "[300]\ttrain's rmse: 4.50252\teval's rmse: 6.63153\n"
     ]
    },
    {
     "name": "stderr",
     "output_type": "stream",
     "text": [
      "regularization_factors, val_score: 6.581500:  55%|####################3                | 11/20 [00:07<00:06,  1.35it/s]"
     ]
    },
    {
     "name": "stdout",
     "output_type": "stream",
     "text": [
      "[400]\ttrain's rmse: 4.19877\teval's rmse: 6.62454\n",
      "[500]\ttrain's rmse: 3.96469\teval's rmse: 6.64832\n",
      "Early stopping, best iteration is:\n",
      "[404]\ttrain's rmse: 4.18786\teval's rmse: 6.62133\n"
     ]
    },
    {
     "name": "stderr",
     "output_type": "stream",
     "text": [
      "\u001b[32m[I 2021-06-20 17:27:08,613]\u001b[0m Trial 53 finished with value: 6.621329846651302 and parameters: {'lambda_l1': 1.1992185703847452e-08, 'lambda_l2': 0.004887095776300163}. Best is trial 50 with value: 6.602193682324579.\u001b[0m\n",
      "regularization_factors, val_score: 6.581500:  55%|####################3                | 11/20 [00:07<00:06,  1.35it/s]"
     ]
    },
    {
     "name": "stdout",
     "output_type": "stream",
     "text": [
      "Training until validation scores don't improve for 100 rounds\n",
      "[100]\ttrain's rmse: 5.79602\teval's rmse: 6.99855\n",
      "[200]\ttrain's rmse: 4.94041\teval's rmse: 6.70293\n",
      "[300]\ttrain's rmse: 4.50655\teval's rmse: 6.62189\n",
      "[400]\ttrain's rmse: 4.20174\teval's rmse: 6.61525\n",
      "[500]\ttrain's rmse: 3.98334\teval's rmse: 6.61809\n",
      "[600]\ttrain's rmse: 3.78801\teval's rmse: 6.60785\n",
      "Early stopping, best iteration is:\n",
      "[575]\ttrain's rmse: 3.83403\teval's rmse: 6.60357\n"
     ]
    },
    {
     "name": "stderr",
     "output_type": "stream",
     "text": [
      "regularization_factors, val_score: 6.581500:  60%|######################2              | 12/20 [00:08<00:06,  1.20it/s]\u001b[32m[I 2021-06-20 17:27:09,654]\u001b[0m Trial 54 finished with value: 6.60356939882551 and parameters: {'lambda_l1': 1.1593922130274818e-08, 'lambda_l2': 0.004155011347650381}. Best is trial 50 with value: 6.602193682324579.\u001b[0m\n",
      "regularization_factors, val_score: 6.581500:  60%|######################2              | 12/20 [00:08<00:06,  1.20it/s]"
     ]
    },
    {
     "name": "stdout",
     "output_type": "stream",
     "text": [
      "Training until validation scores don't improve for 100 rounds\n",
      "[100]\ttrain's rmse: 5.7555\teval's rmse: 6.9928\n",
      "[200]\ttrain's rmse: 4.92215\teval's rmse: 6.72909\n",
      "[300]\ttrain's rmse: 4.48435\teval's rmse: 6.62552\n"
     ]
    },
    {
     "name": "stderr",
     "output_type": "stream",
     "text": [
      "\r",
      "regularization_factors, val_score: 6.581500:  60%|######################2              | 12/20 [00:09<00:06,  1.20it/s]"
     ]
    },
    {
     "name": "stdout",
     "output_type": "stream",
     "text": [
      "[400]\ttrain's rmse: 4.18254\teval's rmse: 6.61219\n",
      "[500]\ttrain's rmse: 3.94966\teval's rmse: 6.62622\n",
      "Early stopping, best iteration is:\n",
      "[426]\ttrain's rmse: 4.11506\teval's rmse: 6.60765\n"
     ]
    },
    {
     "name": "stderr",
     "output_type": "stream",
     "text": [
      "regularization_factors, val_score: 6.581500:  65%|########################             | 13/20 [00:09<00:05,  1.25it/s]\u001b[32m[I 2021-06-20 17:27:10,377]\u001b[0m Trial 55 finished with value: 6.607650669718703 and parameters: {'lambda_l1': 1.148658371893827e-08, 'lambda_l2': 0.0007373025181130307}. Best is trial 50 with value: 6.602193682324579.\u001b[0m\n",
      "regularization_factors, val_score: 6.581500:  65%|########################             | 13/20 [00:09<00:05,  1.25it/s]"
     ]
    },
    {
     "name": "stdout",
     "output_type": "stream",
     "text": [
      "Training until validation scores don't improve for 100 rounds\n",
      "[100]\ttrain's rmse: 5.81721\teval's rmse: 7.01102\n",
      "[200]\ttrain's rmse: 4.99924\teval's rmse: 6.76346\n",
      "[300]\ttrain's rmse: 4.53841\teval's rmse: 6.70215\n",
      "[400]\ttrain's rmse: 4.2358\teval's rmse: 6.66697\n",
      "[500]\ttrain's rmse: 4.00047\teval's rmse: 6.6631\n"
     ]
    },
    {
     "name": "stderr",
     "output_type": "stream",
     "text": [
      "\r",
      "regularization_factors, val_score: 6.581500:  65%|########################             | 13/20 [00:10<00:05,  1.25it/s]"
     ]
    },
    {
     "name": "stdout",
     "output_type": "stream",
     "text": [
      "[600]\ttrain's rmse: 3.81657\teval's rmse: 6.65658\n",
      "Early stopping, best iteration is:\n",
      "[547]\ttrain's rmse: 3.9169\teval's rmse: 6.64893\n"
     ]
    },
    {
     "name": "stderr",
     "output_type": "stream",
     "text": [
      "regularization_factors, val_score: 6.581500:  70%|#########################9           | 14/20 [00:10<00:05,  1.19it/s]\u001b[32m[I 2021-06-20 17:27:11,312]\u001b[0m Trial 56 finished with value: 6.648934571353807 and parameters: {'lambda_l1': 4.883877057681895e-07, 'lambda_l2': 0.37450284711850523}. Best is trial 50 with value: 6.602193682324579.\u001b[0m\n",
      "regularization_factors, val_score: 6.581500:  70%|#########################9           | 14/20 [00:10<00:05,  1.19it/s]"
     ]
    },
    {
     "name": "stdout",
     "output_type": "stream",
     "text": [
      "Training until validation scores don't improve for 100 rounds\n",
      "[100]\ttrain's rmse: 5.77528\teval's rmse: 6.99319\n",
      "[200]\ttrain's rmse: 4.93607\teval's rmse: 6.72046\n",
      "[300]\ttrain's rmse: 4.49485\teval's rmse: 6.65344\n",
      "[400]\ttrain's rmse: 4.19319\teval's rmse: 6.63591\n",
      "[500]\ttrain's rmse: 3.96505\teval's rmse: 6.6357\n",
      "Early stopping, best iteration is:\n",
      "[461]\ttrain's rmse: 4.04211\teval's rmse: 6.62621"
     ]
    },
    {
     "name": "stderr",
     "output_type": "stream",
     "text": [
      "regularization_factors, val_score: 6.581500:  75%|###########################7         | 15/20 [00:11<00:04,  1.18it/s]\u001b[32m[I 2021-06-20 17:27:12,171]\u001b[0m Trial 57 finished with value: 6.626209374273272 and parameters: {'lambda_l1': 1.3583791697671633e-08, 'lambda_l2': 0.06468661268746285}. Best is trial 50 with value: 6.602193682324579.\u001b[0m\n",
      "regularization_factors, val_score: 6.581500:  75%|###########################7         | 15/20 [00:11<00:04,  1.18it/s]"
     ]
    },
    {
     "name": "stdout",
     "output_type": "stream",
     "text": [
      "\n",
      "Training until validation scores don't improve for 100 rounds\n",
      "[100]\ttrain's rmse: 5.75549\teval's rmse: 6.9928\n",
      "[200]\ttrain's rmse: 4.92215\teval's rmse: 6.72909\n",
      "[300]\ttrain's rmse: 4.48435\teval's rmse: 6.62552\n",
      "[400]\ttrain's rmse: 4.18254\teval's rmse: 6.61219\n"
     ]
    },
    {
     "name": "stderr",
     "output_type": "stream",
     "text": [
      "regularization_factors, val_score: 6.581500:  80%|#############################6       | 16/20 [00:12<00:03,  1.23it/s]\u001b[32m[I 2021-06-20 17:27:12,916]\u001b[0m Trial 58 finished with value: 6.6076513846540585 and parameters: {'lambda_l1': 7.077970354962083e-06, 'lambda_l2': 0.0005897569202803531}. Best is trial 50 with value: 6.602193682324579.\u001b[0m\n",
      "regularization_factors, val_score: 6.581500:  80%|#############################6       | 16/20 [00:12<00:03,  1.23it/s]"
     ]
    },
    {
     "name": "stdout",
     "output_type": "stream",
     "text": [
      "[500]\ttrain's rmse: 3.94966\teval's rmse: 6.62622\n",
      "Early stopping, best iteration is:\n",
      "[426]\ttrain's rmse: 4.11506\teval's rmse: 6.60765\n",
      "Training until validation scores don't improve for 100 rounds\n",
      "[100]\ttrain's rmse: 5.7589\teval's rmse: 6.97755\n",
      "[200]\ttrain's rmse: 4.93464\teval's rmse: 6.70512\n"
     ]
    },
    {
     "name": "stderr",
     "output_type": "stream",
     "text": [
      "\r",
      "regularization_factors, val_score: 6.581500:  80%|#############################6       | 16/20 [00:12<00:03,  1.23it/s]"
     ]
    },
    {
     "name": "stdout",
     "output_type": "stream",
     "text": [
      "[300]\ttrain's rmse: 4.49254\teval's rmse: 6.64148\n",
      "[400]\ttrain's rmse: 4.18309\teval's rmse: 6.65006\n",
      "Early stopping, best iteration is:\n",
      "[312]\ttrain's rmse: 4.44852\teval's rmse: 6.63241\n"
     ]
    },
    {
     "name": "stderr",
     "output_type": "stream",
     "text": [
      "regularization_factors, val_score: 6.581500:  85%|###############################4     | 17/20 [00:12<00:02,  1.33it/s]\u001b[32m[I 2021-06-20 17:27:13,524]\u001b[0m Trial 59 finished with value: 6.6324057176339535 and parameters: {'lambda_l1': 2.661563531477639e-07, 'lambda_l2': 7.890857922173994e-06}. Best is trial 50 with value: 6.602193682324579.\u001b[0m\n",
      "regularization_factors, val_score: 6.581500:  85%|###############################4     | 17/20 [00:12<00:02,  1.33it/s]"
     ]
    },
    {
     "name": "stdout",
     "output_type": "stream",
     "text": [
      "Training until validation scores don't improve for 100 rounds\n",
      "[100]\ttrain's rmse: 5.76928\teval's rmse: 6.9822\n",
      "[200]\ttrain's rmse: 4.94462\teval's rmse: 6.68109\n",
      "[300]\ttrain's rmse: 4.51197\teval's rmse: 6.62283\n"
     ]
    },
    {
     "name": "stderr",
     "output_type": "stream",
     "text": [
      "regularization_factors, val_score: 6.581500:  90%|#################################3   | 18/20 [00:13<00:01,  1.41it/s]\u001b[32m[I 2021-06-20 17:27:14,130]\u001b[0m Trial 60 finished with value: 6.6168090635025605 and parameters: {'lambda_l1': 0.00016343177293158282, 'lambda_l2': 1.1520311302338575e-08}. Best is trial 50 with value: 6.602193682324579.\u001b[0m\n",
      "regularization_factors, val_score: 6.581500:  90%|#################################3   | 18/20 [00:13<00:01,  1.41it/s]"
     ]
    },
    {
     "name": "stdout",
     "output_type": "stream",
     "text": [
      "Early stopping, best iteration is:\n",
      "[291]\ttrain's rmse: 4.54561\teval's rmse: 6.61681\n",
      "Training until validation scores don't improve for 100 rounds\n",
      "[100]\ttrain's rmse: 6.1479\teval's rmse: 7.27267\n",
      "[200]\ttrain's rmse: 5.26807\teval's rmse: 6.87949\n",
      "[300]\ttrain's rmse: 4.7954\teval's rmse: 6.72874\n",
      "[400]\ttrain's rmse: 4.47389\teval's rmse: 6.67574\n",
      "[500]\ttrain's rmse: 4.22895\teval's rmse: 6.672\n",
      "[600]\ttrain's rmse: 4.03483\teval's rmse: 6.6617\n",
      "Early stopping, best iteration is:\n",
      "[559]\ttrain's rmse: 4.11141\teval's rmse: 6.65325"
     ]
    },
    {
     "name": "stderr",
     "output_type": "stream",
     "text": [
      "regularization_factors, val_score: 6.581500:  95%|###################################1 | 19/20 [00:14<00:00,  1.24it/s]\u001b[32m[I 2021-06-20 17:27:15,155]\u001b[0m Trial 61 finished with value: 6.653249229733408 and parameters: {'lambda_l1': 1.1757158894970154e-07, 'lambda_l2': 9.879278359303832}. Best is trial 50 with value: 6.602193682324579.\u001b[0m\n",
      "regularization_factors, val_score: 6.581500:  95%|###################################1 | 19/20 [00:14<00:00,  1.24it/s]"
     ]
    },
    {
     "name": "stdout",
     "output_type": "stream",
     "text": [
      "\n",
      "Training until validation scores don't improve for 100 rounds\n",
      "[100]\ttrain's rmse: 5.7679\teval's rmse: 6.98233\n",
      "[200]\ttrain's rmse: 4.945\teval's rmse: 6.70132\n",
      "[300]\ttrain's rmse: 4.50257\teval's rmse: 6.61305\n"
     ]
    },
    {
     "name": "stderr",
     "output_type": "stream",
     "text": [
      "regularization_factors, val_score: 6.581500: 100%|#####################################| 20/20 [00:15<00:00,  1.31it/s]\u001b[32m[I 2021-06-20 17:27:15,817]\u001b[0m Trial 62 finished with value: 6.588127393213137 and parameters: {'lambda_l1': 4.550634632393168e-06, 'lambda_l2': 0.001409373922757467}. Best is trial 62 with value: 6.588127393213137.\u001b[0m\n",
      "regularization_factors, val_score: 6.581500: 100%|#####################################| 20/20 [00:15<00:00,  1.33it/s]\n",
      "min_data_in_leaf, val_score: 6.581500:   0%|                                                     | 0/5 [00:00<?, ?it/s]"
     ]
    },
    {
     "name": "stdout",
     "output_type": "stream",
     "text": [
      "[400]\ttrain's rmse: 4.1955\teval's rmse: 6.59258\n",
      "Early stopping, best iteration is:\n",
      "[338]\ttrain's rmse: 4.37597\teval's rmse: 6.58813\n",
      "Training until validation scores don't improve for 100 rounds\n",
      "[100]\ttrain's rmse: 5.34493\teval's rmse: 7.01543\n",
      "[200]\ttrain's rmse: 4.42164\teval's rmse: 6.73809\n",
      "[300]\ttrain's rmse: 3.92177\teval's rmse: 6.65622\n",
      "[400]\ttrain's rmse: 3.58\teval's rmse: 6.61186\n",
      "[500]\ttrain's rmse: 3.27213\teval's rmse: 6.57104\n",
      "[600]\ttrain's rmse: 3.03315\teval's rmse: 6.55812\n"
     ]
    },
    {
     "name": "stderr",
     "output_type": "stream",
     "text": [
      "min_data_in_leaf, val_score: 6.555840:  20%|#########                                    | 1/5 [00:00<00:03,  1.12it/s]\u001b[32m[I 2021-06-20 17:27:16,719]\u001b[0m Trial 63 finished with value: 6.555839663750849 and parameters: {'min_child_samples': 5}. Best is trial 63 with value: 6.555839663750849.\u001b[0m\n",
      "min_data_in_leaf, val_score: 6.555840:  20%|#########                                    | 1/5 [00:00<00:03,  1.12it/s]"
     ]
    },
    {
     "name": "stdout",
     "output_type": "stream",
     "text": [
      "[700]\ttrain's rmse: 2.83839\teval's rmse: 6.57007\n",
      "Early stopping, best iteration is:\n",
      "[605]\ttrain's rmse: 3.02241\teval's rmse: 6.55584\n",
      "Training until validation scores don't improve for 100 rounds\n",
      "[100]\ttrain's rmse: 5.55755\teval's rmse: 7.06789\n",
      "[200]\ttrain's rmse: 4.71127\teval's rmse: 6.79438\n",
      "[300]\ttrain's rmse: 4.24292\teval's rmse: 6.6892\n",
      "[400]\ttrain's rmse: 3.93174\teval's rmse: 6.64202\n",
      "[500]\ttrain's rmse: 3.6748\teval's rmse: 6.6102\n",
      "[600]\ttrain's rmse: 3.46938\teval's rmse: 6.57835\n",
      "[700]\ttrain's rmse: 3.29423\teval's rmse: 6.58087\n",
      "Early stopping, best iteration is:\n",
      "[623]\ttrain's rmse: 3.4282\teval's rmse: 6.57504\n"
     ]
    },
    {
     "name": "stderr",
     "output_type": "stream",
     "text": [
      "min_data_in_leaf, val_score: 6.555840:  40%|##################                           | 2/5 [00:01<00:02,  1.05it/s]\u001b[32m[I 2021-06-20 17:27:17,712]\u001b[0m Trial 64 finished with value: 6.575044320378157 and parameters: {'min_child_samples': 10}. Best is trial 63 with value: 6.555839663750849.\u001b[0m\n",
      "min_data_in_leaf, val_score: 6.555840:  40%|##################                           | 2/5 [00:01<00:02,  1.05it/s]"
     ]
    },
    {
     "name": "stdout",
     "output_type": "stream",
     "text": [
      "Training until validation scores don't improve for 100 rounds\n",
      "[100]\ttrain's rmse: 7.05928\teval's rmse: 7.99416\n",
      "[200]\ttrain's rmse: 6.16815\teval's rmse: 7.6607\n",
      "[300]\ttrain's rmse: 5.60413\teval's rmse: 7.39562\n",
      "[400]\ttrain's rmse: 5.22297\teval's rmse: 7.22119\n",
      "[500]\ttrain's rmse: 4.94157\teval's rmse: 7.11317\n",
      "[600]\ttrain's rmse: 4.72639\teval's rmse: 7.06723\n",
      "[700]\ttrain's rmse: 4.52901\teval's rmse: 7.01284\n",
      "[800]\ttrain's rmse: 4.36873\teval's rmse: 6.96343\n",
      "[900]\ttrain's rmse: 4.22306\teval's rmse: 6.92523\n",
      "[1000]\ttrain's rmse: 4.0922\teval's rmse: 6.90697\n",
      "Did not meet early stopping. Best iteration is:\n",
      "[1000]\ttrain's rmse: 4.0922\teval's rmse: 6.90697\n"
     ]
    },
    {
     "name": "stderr",
     "output_type": "stream",
     "text": [
      "min_data_in_leaf, val_score: 6.555840:  60%|###########################                  | 3/5 [00:03<00:02,  1.14s/it]\u001b[32m[I 2021-06-20 17:27:19,074]\u001b[0m Trial 65 finished with value: 6.90696777689118 and parameters: {'min_child_samples': 50}. Best is trial 63 with value: 6.555839663750849.\u001b[0m\n",
      "min_data_in_leaf, val_score: 6.555840:  60%|###########################                  | 3/5 [00:03<00:02,  1.14s/it]"
     ]
    },
    {
     "name": "stdout",
     "output_type": "stream",
     "text": [
      "Training until validation scores don't improve for 100 rounds\n",
      "[100]\ttrain's rmse: 8.15719\teval's rmse: 8.61514\n",
      "[200]\ttrain's rmse: 7.42932\teval's rmse: 8.32846\n",
      "[300]\ttrain's rmse: 7.06516\teval's rmse: 8.22894\n",
      "[400]\ttrain's rmse: 6.79509\teval's rmse: 8.1506\n",
      "[500]\ttrain's rmse: 6.5727\teval's rmse: 8.07938\n",
      "[600]\ttrain's rmse: 6.38406\teval's rmse: 7.99175\n",
      "[700]\ttrain's rmse: 6.22024\teval's rmse: 7.93347\n",
      "[800]\ttrain's rmse: 6.05671\teval's rmse: 7.83347\n",
      "[900]\ttrain's rmse: 5.91242\teval's rmse: 7.76962\n",
      "[1000]\ttrain's rmse: 5.78642\teval's rmse: 7.71487\n",
      "Did not meet early stopping. Best iteration is:\n",
      "[1000]\ttrain's rmse: 5.78642\teval's rmse: 7.71487\n"
     ]
    },
    {
     "name": "stderr",
     "output_type": "stream",
     "text": [
      "min_data_in_leaf, val_score: 6.555840:  80%|####################################         | 4/5 [00:04<00:01,  1.06s/it]\u001b[32m[I 2021-06-20 17:27:20,012]\u001b[0m Trial 66 finished with value: 7.714868922839589 and parameters: {'min_child_samples': 100}. Best is trial 63 with value: 6.555839663750849.\u001b[0m\n",
      "min_data_in_leaf, val_score: 6.555840:  80%|####################################         | 4/5 [00:04<00:01,  1.06s/it]"
     ]
    },
    {
     "name": "stdout",
     "output_type": "stream",
     "text": [
      "Training until validation scores don't improve for 100 rounds\n",
      "[100]\ttrain's rmse: 6.28588\teval's rmse: 7.55209\n",
      "[200]\ttrain's rmse: 5.32892\teval's rmse: 7.13445\n",
      "[300]\ttrain's rmse: 4.81922\teval's rmse: 6.99889\n",
      "[400]\ttrain's rmse: 4.45268\teval's rmse: 6.92173\n",
      "[500]\ttrain's rmse: 4.18987\teval's rmse: 6.87983\n",
      "[600]\ttrain's rmse: 3.9758\teval's rmse: 6.85519\n",
      "[700]\ttrain's rmse: 3.78905\teval's rmse: 6.83894\n",
      "[800]\ttrain's rmse: 3.62765\teval's rmse: 6.83556\n",
      "[900]\ttrain's rmse: 3.48996\teval's rmse: 6.82665\n",
      "Early stopping, best iteration is:\n",
      "[862]\ttrain's rmse: 3.54019\teval's rmse: 6.81991\n"
     ]
    },
    {
     "name": "stderr",
     "output_type": "stream",
     "text": [
      "min_data_in_leaf, val_score: 6.555840: 100%|#############################################| 5/5 [00:05<00:00,  1.16s/it]\u001b[32m[I 2021-06-20 17:27:21,363]\u001b[0m Trial 67 finished with value: 6.819909833597275 and parameters: {'min_child_samples': 25}. Best is trial 63 with value: 6.555839663750849.\u001b[0m\n",
      "min_data_in_leaf, val_score: 6.555840: 100%|#############################################| 5/5 [00:05<00:00,  1.11s/it]\n",
      "\u001b[32m[I 2021-06-20 17:27:21,420]\u001b[0m A new study created in memory with name: no-name-501836da-20ef-4e25-baf9-608602ee7abd\u001b[0m\n",
      "feature_fraction, val_score: inf:   0%|                                                          | 0/7 [00:00<?, ?it/s]"
     ]
    },
    {
     "name": "stdout",
     "output_type": "stream",
     "text": [
      "Training until validation scores don't improve for 100 rounds\n",
      "[100]\ttrain's rmse: 6.40221\teval's rmse: 7.106\n",
      "[200]\ttrain's rmse: 5.41091\teval's rmse: 6.64546\n",
      "[300]\ttrain's rmse: 4.88244\teval's rmse: 6.47566\n",
      "[400]\ttrain's rmse: 4.48603\teval's rmse: 6.44015\n",
      "[500]\ttrain's rmse: 4.19776\teval's rmse: 6.43237\n",
      "Early stopping, best iteration is:\n",
      "[475]\ttrain's rmse: 4.26365\teval's rmse: 6.4286\n"
     ]
    },
    {
     "name": "stderr",
     "output_type": "stream",
     "text": [
      "feature_fraction, val_score: 6.428601:  14%|######4                                      | 1/7 [00:00<00:05,  1.14it/s]\u001b[32m[I 2021-06-20 17:27:22,307]\u001b[0m Trial 0 finished with value: 6.428600975550599 and parameters: {'feature_fraction': 0.6}. Best is trial 0 with value: 6.428600975550599.\u001b[0m\n",
      "feature_fraction, val_score: 6.428601:  14%|######4                                      | 1/7 [00:00<00:05,  1.14it/s]"
     ]
    },
    {
     "name": "stdout",
     "output_type": "stream",
     "text": [
      "Training until validation scores don't improve for 100 rounds\n",
      "[100]\ttrain's rmse: 6.24276\teval's rmse: 7.19909\n",
      "[200]\ttrain's rmse: 5.06675\teval's rmse: 6.63685\n",
      "[300]\ttrain's rmse: 4.4683\teval's rmse: 6.47343\n"
     ]
    },
    {
     "name": "stderr",
     "output_type": "stream",
     "text": [
      "feature_fraction, val_score: 6.428601:  29%|############8                                | 2/7 [00:01<00:03,  1.41it/s]\u001b[32m[I 2021-06-20 17:27:22,897]\u001b[0m Trial 1 finished with value: 6.458507957847128 and parameters: {'feature_fraction': 1.0}. Best is trial 0 with value: 6.428600975550599.\u001b[0m\n",
      "feature_fraction, val_score: 6.428601:  29%|############8                                | 2/7 [00:01<00:03,  1.41it/s]"
     ]
    },
    {
     "name": "stdout",
     "output_type": "stream",
     "text": [
      "Early stopping, best iteration is:\n",
      "[284]\ttrain's rmse: 4.54619\teval's rmse: 6.45851\n",
      "Training until validation scores don't improve for 100 rounds\n",
      "[100]\ttrain's rmse: 6.27466\teval's rmse: 7.10255\n",
      "[200]\ttrain's rmse: 5.19922\teval's rmse: 6.6562\n",
      "[300]\ttrain's rmse: 4.63161\teval's rmse: 6.46971\n",
      "[400]\ttrain's rmse: 4.24589\teval's rmse: 6.44766\n",
      "Early stopping, best iteration is:\n",
      "[344]\ttrain's rmse: 4.45226\teval's rmse: 6.4299\n"
     ]
    },
    {
     "name": "stderr",
     "output_type": "stream",
     "text": [
      "feature_fraction, val_score: 6.428601:  43%|###################2                         | 3/7 [00:02<00:02,  1.44it/s]\u001b[32m[I 2021-06-20 17:27:23,579]\u001b[0m Trial 2 finished with value: 6.429900326737228 and parameters: {'feature_fraction': 0.7}. Best is trial 0 with value: 6.428600975550599.\u001b[0m\n",
      "feature_fraction, val_score: 6.428601:  43%|###################2                         | 3/7 [00:02<00:02,  1.44it/s]"
     ]
    },
    {
     "name": "stdout",
     "output_type": "stream",
     "text": [
      "Training until validation scores don't improve for 100 rounds\n",
      "[100]\ttrain's rmse: 6.18699\teval's rmse: 7.06664\n",
      "[200]\ttrain's rmse: 5.13539\teval's rmse: 6.66036\n",
      "[300]\ttrain's rmse: 4.55664\teval's rmse: 6.49798\n",
      "[400]\ttrain's rmse: 4.15778\teval's rmse: 6.44294\n",
      "Early stopping, best iteration is:\n",
      "[399]\ttrain's rmse: 4.16017\teval's rmse: 6.44234\n"
     ]
    },
    {
     "name": "stderr",
     "output_type": "stream",
     "text": [
      "feature_fraction, val_score: 6.428601:  57%|#########################7                   | 4/7 [00:02<00:02,  1.36it/s]\u001b[32m[I 2021-06-20 17:27:24,368]\u001b[0m Trial 3 finished with value: 6.442335575454689 and parameters: {'feature_fraction': 0.8}. Best is trial 0 with value: 6.428600975550599.\u001b[0m\n",
      "feature_fraction, val_score: 6.428601:  57%|#########################7                   | 4/7 [00:02<00:02,  1.36it/s]"
     ]
    },
    {
     "name": "stdout",
     "output_type": "stream",
     "text": [
      "Training until validation scores don't improve for 100 rounds\n",
      "[100]\ttrain's rmse: 6.90232\teval's rmse: 7.5336\n",
      "[200]\ttrain's rmse: 5.91588\teval's rmse: 6.93827\n",
      "[300]\ttrain's rmse: 5.3738\teval's rmse: 6.64923\n",
      "[400]\ttrain's rmse: 4.99587\teval's rmse: 6.59284\n",
      "[500]\ttrain's rmse: 4.68325\teval's rmse: 6.53811\n"
     ]
    },
    {
     "name": "stderr",
     "output_type": "stream",
     "text": [
      "feature_fraction, val_score: 6.428601:  71%|################################1            | 5/7 [00:03<00:01,  1.27it/s]\u001b[32m[I 2021-06-20 17:27:25,247]\u001b[0m Trial 4 finished with value: 6.532088686487777 and parameters: {'feature_fraction': 0.4}. Best is trial 0 with value: 6.428600975550599.\u001b[0m\n",
      "feature_fraction, val_score: 6.428601:  71%|################################1            | 5/7 [00:03<00:01,  1.27it/s]"
     ]
    },
    {
     "name": "stdout",
     "output_type": "stream",
     "text": [
      "[600]\ttrain's rmse: 4.47165\teval's rmse: 6.54177\n",
      "Early stopping, best iteration is:\n",
      "[505]\ttrain's rmse: 4.67232\teval's rmse: 6.53209\n",
      "Training until validation scores don't improve for 100 rounds\n",
      "[100]\ttrain's rmse: 6.13365\teval's rmse: 6.97519\n",
      "[200]\ttrain's rmse: 5.04066\teval's rmse: 6.54662\n",
      "[300]\ttrain's rmse: 4.45953\teval's rmse: 6.45508\n"
     ]
    },
    {
     "name": "stderr",
     "output_type": "stream",
     "text": [
      "feature_fraction, val_score: 6.426115:  86%|######################################5      | 6/7 [00:04<00:00,  1.34it/s]\u001b[32m[I 2021-06-20 17:27:25,913]\u001b[0m Trial 5 finished with value: 6.426114710501622 and parameters: {'feature_fraction': 0.8999999999999999}. Best is trial 5 with value: 6.426114710501622.\u001b[0m\n",
      "feature_fraction, val_score: 6.426115:  86%|######################################5      | 6/7 [00:04<00:00,  1.34it/s]"
     ]
    },
    {
     "name": "stdout",
     "output_type": "stream",
     "text": [
      "[400]\ttrain's rmse: 4.07123\teval's rmse: 6.44351\n",
      "Early stopping, best iteration is:\n",
      "[332]\ttrain's rmse: 4.32937\teval's rmse: 6.42611\n",
      "Training until validation scores don't improve for 100 rounds\n",
      "[100]\ttrain's rmse: 6.57283\teval's rmse: 7.28703\n",
      "[200]\ttrain's rmse: 5.57094\teval's rmse: 6.74673\n",
      "[300]\ttrain's rmse: 5.07125\teval's rmse: 6.54621\n",
      "[400]\ttrain's rmse: 4.70416\teval's rmse: 6.52827\n",
      "[500]\ttrain's rmse: 4.39848\teval's rmse: 6.50161\n",
      "[600]\ttrain's rmse: 4.18818\teval's rmse: 6.51454\n",
      "Early stopping, best iteration is:\n",
      "[549]\ttrain's rmse: 4.29229\teval's rmse: 6.49474\n"
     ]
    },
    {
     "name": "stderr",
     "output_type": "stream",
     "text": [
      "feature_fraction, val_score: 6.426115: 100%|#############################################| 7/7 [00:05<00:00,  1.21it/s]\u001b[32m[I 2021-06-20 17:27:26,909]\u001b[0m Trial 6 finished with value: 6.494739859647574 and parameters: {'feature_fraction': 0.5}. Best is trial 5 with value: 6.426114710501622.\u001b[0m\n",
      "feature_fraction, val_score: 6.426115: 100%|#############################################| 7/7 [00:05<00:00,  1.28it/s]\n",
      "num_leaves, val_score: 6.426115:   0%|                                                          | 0/20 [00:00<?, ?it/s]"
     ]
    },
    {
     "name": "stdout",
     "output_type": "stream",
     "text": [
      "Training until validation scores don't improve for 100 rounds\n",
      "[100]\ttrain's rmse: 5.98104\teval's rmse: 6.96097\n",
      "[200]\ttrain's rmse: 4.77825\teval's rmse: 6.54337\n",
      "[300]\ttrain's rmse: 4.10323\teval's rmse: 6.45546\n"
     ]
    },
    {
     "name": "stderr",
     "output_type": "stream",
     "text": [
      "num_leaves, val_score: 6.426115:   5%|##5                                               | 1/20 [00:00<00:16,  1.13it/s]\u001b[32m[I 2021-06-20 17:27:27,806]\u001b[0m Trial 7 finished with value: 6.435626296854292 and parameters: {'num_leaves': 197}. Best is trial 7 with value: 6.435626296854292.\u001b[0m\n",
      "num_leaves, val_score: 6.426115:   5%|##5                                               | 1/20 [00:00<00:16,  1.13it/s]"
     ]
    },
    {
     "name": "stdout",
     "output_type": "stream",
     "text": [
      "Early stopping, best iteration is:\n",
      "[284]\ttrain's rmse: 4.18803\teval's rmse: 6.43563\n",
      "Training until validation scores don't improve for 100 rounds\n",
      "[100]\ttrain's rmse: 5.98104\teval's rmse: 6.96097\n",
      "[200]\ttrain's rmse: 4.77825\teval's rmse: 6.54337\n",
      "[300]\ttrain's rmse: 4.10323\teval's rmse: 6.45546\n",
      "Early stopping, best iteration is:\n",
      "[284]\ttrain's rmse: 4.18803\teval's rmse: 6.43563\n"
     ]
    },
    {
     "name": "stderr",
     "output_type": "stream",
     "text": [
      "num_leaves, val_score: 6.426115:  10%|#####                                             | 2/20 [00:01<00:15,  1.15it/s]\u001b[32m[I 2021-06-20 17:27:28,661]\u001b[0m Trial 8 finished with value: 6.435626296854292 and parameters: {'num_leaves': 201}. Best is trial 7 with value: 6.435626296854292.\u001b[0m\n",
      "num_leaves, val_score: 6.426115:  10%|#####                                             | 2/20 [00:01<00:15,  1.15it/s]"
     ]
    },
    {
     "name": "stdout",
     "output_type": "stream",
     "text": [
      "Training until validation scores don't improve for 100 rounds\n",
      "[100]\ttrain's rmse: 5.98104\teval's rmse: 6.96097\n",
      "[200]\ttrain's rmse: 4.77825\teval's rmse: 6.54337\n",
      "[300]\ttrain's rmse: 4.10323\teval's rmse: 6.45546\n"
     ]
    },
    {
     "name": "stderr",
     "output_type": "stream",
     "text": [
      "num_leaves, val_score: 6.426115:  15%|#######5                                          | 3/20 [00:02<00:14,  1.16it/s]\u001b[32m[I 2021-06-20 17:27:29,519]\u001b[0m Trial 9 finished with value: 6.435626296854292 and parameters: {'num_leaves': 256}. Best is trial 7 with value: 6.435626296854292.\u001b[0m\n",
      "num_leaves, val_score: 6.426115:  15%|#######5                                          | 3/20 [00:02<00:14,  1.16it/s]"
     ]
    },
    {
     "name": "stdout",
     "output_type": "stream",
     "text": [
      "Early stopping, best iteration is:\n",
      "[284]\ttrain's rmse: 4.18803\teval's rmse: 6.43563\n",
      "Training until validation scores don't improve for 100 rounds\n",
      "[100]\ttrain's rmse: 7.02286\teval's rmse: 7.44381\n",
      "[200]\ttrain's rmse: 6.16212\teval's rmse: 6.9249\n",
      "[300]\ttrain's rmse: 5.67953\teval's rmse: 6.66646\n",
      "[400]\ttrain's rmse: 5.35507\teval's rmse: 6.49245\n"
     ]
    },
    {
     "name": "stderr",
     "output_type": "stream",
     "text": [
      "num_leaves, val_score: 6.426115:  20%|##########                                        | 4/20 [00:03<00:11,  1.35it/s]\u001b[32m[I 2021-06-20 17:27:30,066]\u001b[0m Trial 10 finished with value: 6.434366049014024 and parameters: {'num_leaves': 12}. Best is trial 10 with value: 6.434366049014024.\u001b[0m\n",
      "num_leaves, val_score: 6.426115:  20%|##########                                        | 4/20 [00:03<00:11,  1.35it/s]"
     ]
    },
    {
     "name": "stdout",
     "output_type": "stream",
     "text": [
      "[500]\ttrain's rmse: 5.11073\teval's rmse: 6.44532\n",
      "[600]\ttrain's rmse: 4.91336\teval's rmse: 6.46825\n",
      "Early stopping, best iteration is:\n",
      "[535]\ttrain's rmse: 5.03659\teval's rmse: 6.43437\n",
      "Training until validation scores don't improve for 100 rounds\n",
      "[100]\ttrain's rmse: 5.98104\teval's rmse: 6.96097\n",
      "[200]\ttrain's rmse: 4.77825\teval's rmse: 6.54337\n",
      "[300]\ttrain's rmse: 4.10323\teval's rmse: 6.45546\n"
     ]
    },
    {
     "name": "stderr",
     "output_type": "stream",
     "text": [
      "num_leaves, val_score: 6.426115:  25%|############5                                     | 5/20 [00:03<00:11,  1.29it/s]\u001b[32m[I 2021-06-20 17:27:30,907]\u001b[0m Trial 11 finished with value: 6.435626296854292 and parameters: {'num_leaves': 168}. Best is trial 10 with value: 6.434366049014024.\u001b[0m\n",
      "num_leaves, val_score: 6.426115:  25%|############5                                     | 5/20 [00:03<00:11,  1.29it/s]"
     ]
    },
    {
     "name": "stdout",
     "output_type": "stream",
     "text": [
      "Early stopping, best iteration is:\n",
      "[284]\ttrain's rmse: 4.18803\teval's rmse: 6.43563\n",
      "Training until validation scores don't improve for 100 rounds\n",
      "[100]\ttrain's rmse: 5.98104\teval's rmse: 6.96097\n",
      "[200]\ttrain's rmse: 4.77825\teval's rmse: 6.54337\n",
      "[300]\ttrain's rmse: 4.10323\teval's rmse: 6.45546\n",
      "Early stopping, best iteration is:\n",
      "[284]\ttrain's rmse: 4.18803\teval's rmse: 6.43563\n"
     ]
    },
    {
     "name": "stderr",
     "output_type": "stream",
     "text": [
      "num_leaves, val_score: 6.426115:  30%|###############                                   | 6/20 [00:04<00:11,  1.27it/s]\u001b[32m[I 2021-06-20 17:27:31,720]\u001b[0m Trial 12 finished with value: 6.435626296854292 and parameters: {'num_leaves': 76}. Best is trial 10 with value: 6.434366049014024.\u001b[0m\n",
      "num_leaves, val_score: 6.426115:  30%|###############                                   | 6/20 [00:04<00:11,  1.27it/s]"
     ]
    },
    {
     "name": "stdout",
     "output_type": "stream",
     "text": [
      "Training until validation scores don't improve for 100 rounds\n",
      "[100]\ttrain's rmse: 5.98104\teval's rmse: 6.96097\n",
      "[200]\ttrain's rmse: 4.77825\teval's rmse: 6.54337\n",
      "[300]\ttrain's rmse: 4.10323\teval's rmse: 6.45546\n"
     ]
    },
    {
     "name": "stderr",
     "output_type": "stream",
     "text": [
      "num_leaves, val_score: 6.426115:  35%|#################5                                | 7/20 [00:05<00:10,  1.26it/s]\u001b[32m[I 2021-06-20 17:27:32,515]\u001b[0m Trial 13 finished with value: 6.435626296854292 and parameters: {'num_leaves': 61}. Best is trial 10 with value: 6.434366049014024.\u001b[0m\n",
      "num_leaves, val_score: 6.426115:  35%|#################5                                | 7/20 [00:05<00:10,  1.26it/s]"
     ]
    },
    {
     "name": "stdout",
     "output_type": "stream",
     "text": [
      "Early stopping, best iteration is:\n",
      "[284]\ttrain's rmse: 4.18803\teval's rmse: 6.43563\n",
      "Training until validation scores don't improve for 100 rounds\n",
      "[100]\ttrain's rmse: 5.98104\teval's rmse: 6.96097\n",
      "[200]\ttrain's rmse: 4.77825\teval's rmse: 6.54337\n",
      "[300]\ttrain's rmse: 4.10323\teval's rmse: 6.45546\n",
      "Early stopping, best iteration is:\n",
      "[284]\ttrain's rmse: 4.18803\teval's rmse: 6.43563\n"
     ]
    },
    {
     "name": "stderr",
     "output_type": "stream",
     "text": [
      "num_leaves, val_score: 6.426115:  40%|####################                              | 8/20 [00:06<00:09,  1.22it/s]\u001b[32m[I 2021-06-20 17:27:33,407]\u001b[0m Trial 14 finished with value: 6.435626296854292 and parameters: {'num_leaves': 200}. Best is trial 10 with value: 6.434366049014024.\u001b[0m\n",
      "num_leaves, val_score: 6.426115:  40%|####################                              | 8/20 [00:06<00:09,  1.22it/s]"
     ]
    },
    {
     "name": "stdout",
     "output_type": "stream",
     "text": [
      "Training until validation scores don't improve for 100 rounds\n",
      "[100]\ttrain's rmse: 5.98104\teval's rmse: 6.96097\n",
      "[200]\ttrain's rmse: 4.77825\teval's rmse: 6.54337\n",
      "[300]\ttrain's rmse: 4.10323\teval's rmse: 6.45546\n"
     ]
    },
    {
     "name": "stderr",
     "output_type": "stream",
     "text": [
      "num_leaves, val_score: 6.426115:  45%|######################5                           | 9/20 [00:07<00:09,  1.21it/s]\u001b[32m[I 2021-06-20 17:27:34,244]\u001b[0m Trial 15 finished with value: 6.435626296854292 and parameters: {'num_leaves': 207}. Best is trial 10 with value: 6.434366049014024.\u001b[0m\n",
      "num_leaves, val_score: 6.426115:  45%|######################5                           | 9/20 [00:07<00:09,  1.21it/s]"
     ]
    },
    {
     "name": "stdout",
     "output_type": "stream",
     "text": [
      "Early stopping, best iteration is:\n",
      "[284]\ttrain's rmse: 4.18803\teval's rmse: 6.43563\n",
      "Training until validation scores don't improve for 100 rounds\n",
      "[100]\ttrain's rmse: 5.98104\teval's rmse: 6.96097\n",
      "[200]\ttrain's rmse: 4.77825\teval's rmse: 6.54337\n",
      "[300]\ttrain's rmse: 4.10323\teval's rmse: 6.45546\n",
      "Early stopping, best iteration is:\n",
      "[284]\ttrain's rmse: 4.18803\teval's rmse: 6.43563\n"
     ]
    },
    {
     "name": "stderr",
     "output_type": "stream",
     "text": [
      "num_leaves, val_score: 6.426115:  50%|########################5                        | 10/20 [00:08<00:08,  1.17it/s]\u001b[32m[I 2021-06-20 17:27:35,155]\u001b[0m Trial 16 finished with value: 6.435626296854292 and parameters: {'num_leaves': 232}. Best is trial 10 with value: 6.434366049014024.\u001b[0m\n",
      "num_leaves, val_score: 6.426115:  50%|########################5                        | 10/20 [00:08<00:08,  1.17it/s]"
     ]
    },
    {
     "name": "stdout",
     "output_type": "stream",
     "text": [
      "Training until validation scores don't improve for 100 rounds\n",
      "[100]\ttrain's rmse: 7.79172\teval's rmse: 8.04039\n",
      "[200]\ttrain's rmse: 7.11556\teval's rmse: 7.52563\n",
      "[300]\ttrain's rmse: 6.69504\teval's rmse: 7.25704\n",
      "[400]\ttrain's rmse: 6.40632\teval's rmse: 7.04501\n",
      "[500]\ttrain's rmse: 6.17008\teval's rmse: 6.88868\n",
      "[600]\ttrain's rmse: 5.96514\teval's rmse: 6.73934\n",
      "[700]\ttrain's rmse: 5.80171\teval's rmse: 6.66769\n",
      "[800]\ttrain's rmse: 5.65737\teval's rmse: 6.6339\n"
     ]
    },
    {
     "name": "stderr",
     "output_type": "stream",
     "text": [
      "num_leaves, val_score: 6.426115:  55%|##########################9                      | 11/20 [00:08<00:07,  1.28it/s]\u001b[32m[I 2021-06-20 17:27:35,764]\u001b[0m Trial 17 finished with value: 6.519237797998123 and parameters: {'num_leaves': 6}. Best is trial 10 with value: 6.434366049014024.\u001b[0m\n",
      "num_leaves, val_score: 6.426115:  55%|##########################9                      | 11/20 [00:08<00:07,  1.28it/s]"
     ]
    },
    {
     "name": "stdout",
     "output_type": "stream",
     "text": [
      "[900]\ttrain's rmse: 5.53255\teval's rmse: 6.59701\n",
      "[1000]\ttrain's rmse: 5.42454\teval's rmse: 6.51924\n",
      "Did not meet early stopping. Best iteration is:\n",
      "[1000]\ttrain's rmse: 5.42454\teval's rmse: 6.51924\n",
      "Training until validation scores don't improve for 100 rounds\n",
      "[100]\ttrain's rmse: 5.98104\teval's rmse: 6.96097\n",
      "[200]\ttrain's rmse: 4.77825\teval's rmse: 6.54337\n",
      "[300]\ttrain's rmse: 4.10323\teval's rmse: 6.45546\n",
      "Early stopping, best iteration is:\n",
      "[284]\ttrain's rmse: 4.18803\teval's rmse: 6.43563\n"
     ]
    },
    {
     "name": "stderr",
     "output_type": "stream",
     "text": [
      "num_leaves, val_score: 6.426115:  60%|#############################4                   | 12/20 [00:09<00:06,  1.22it/s]\u001b[32m[I 2021-06-20 17:27:36,669]\u001b[0m Trial 18 finished with value: 6.435626296854292 and parameters: {'num_leaves': 130}. Best is trial 10 with value: 6.434366049014024.\u001b[0m\n",
      "num_leaves, val_score: 6.426115:  60%|#############################4                   | 12/20 [00:09<00:06,  1.22it/s]"
     ]
    },
    {
     "name": "stdout",
     "output_type": "stream",
     "text": [
      "Training until validation scores don't improve for 100 rounds\n",
      "[100]\ttrain's rmse: 8.28055\teval's rmse: 8.4706\n",
      "[200]\ttrain's rmse: 7.72913\teval's rmse: 7.96329\n",
      "[300]\ttrain's rmse: 7.36871\teval's rmse: 7.66385\n",
      "[400]\ttrain's rmse: 7.12655\teval's rmse: 7.49385\n",
      "[500]\ttrain's rmse: 6.91144\teval's rmse: 7.33193\n",
      "[600]\ttrain's rmse: 6.7092\teval's rmse: 7.17744\n",
      "[700]\ttrain's rmse: 6.5435\teval's rmse: 7.06318\n",
      "[800]\ttrain's rmse: 6.38365\teval's rmse: 6.99312\n",
      "[900]\ttrain's rmse: 6.26033\teval's rmse: 6.89053\n",
      "[1000]\ttrain's rmse: 6.14652\teval's rmse: 6.80591"
     ]
    },
    {
     "name": "stderr",
     "output_type": "stream",
     "text": [
      "num_leaves, val_score: 6.426115:  65%|###############################8                 | 13/20 [00:10<00:05,  1.37it/s]\u001b[32m[I 2021-06-20 17:27:37,200]\u001b[0m Trial 19 finished with value: 6.805911204458263 and parameters: {'num_leaves': 4}. Best is trial 10 with value: 6.434366049014024.\u001b[0m\n",
      "num_leaves, val_score: 6.426115:  65%|###############################8                 | 13/20 [00:10<00:05,  1.37it/s]"
     ]
    },
    {
     "name": "stdout",
     "output_type": "stream",
     "text": [
      "\n",
      "Did not meet early stopping. Best iteration is:\n",
      "[1000]\ttrain's rmse: 6.14652\teval's rmse: 6.80591\n",
      "Training until validation scores don't improve for 100 rounds\n",
      "[100]\ttrain's rmse: 5.98104\teval's rmse: 6.96097\n",
      "[200]\ttrain's rmse: 4.77825\teval's rmse: 6.54337\n",
      "[300]\ttrain's rmse: 4.10323\teval's rmse: 6.45546\n",
      "Early stopping, best iteration is:\n",
      "[284]\ttrain's rmse: 4.18803\teval's rmse: 6.43563\n"
     ]
    },
    {
     "name": "stderr",
     "output_type": "stream",
     "text": [
      "num_leaves, val_score: 6.426115:  70%|##################################3              | 14/20 [00:11<00:04,  1.30it/s]\u001b[32m[I 2021-06-20 17:27:38,053]\u001b[0m Trial 20 finished with value: 6.435626296854292 and parameters: {'num_leaves': 143}. Best is trial 10 with value: 6.434366049014024.\u001b[0m\n",
      "num_leaves, val_score: 6.426115:  70%|##################################3              | 14/20 [00:11<00:04,  1.30it/s]"
     ]
    },
    {
     "name": "stdout",
     "output_type": "stream",
     "text": [
      "Training until validation scores don't improve for 100 rounds\n",
      "[100]\ttrain's rmse: 5.98104\teval's rmse: 6.96097\n",
      "[200]\ttrain's rmse: 4.77825\teval's rmse: 6.54337\n",
      "[300]\ttrain's rmse: 4.10323\teval's rmse: 6.45546\n"
     ]
    },
    {
     "name": "stderr",
     "output_type": "stream",
     "text": [
      "num_leaves, val_score: 6.426115:  75%|####################################7            | 15/20 [00:12<00:04,  1.25it/s]\u001b[32m[I 2021-06-20 17:27:38,930]\u001b[0m Trial 21 finished with value: 6.435626296854292 and parameters: {'num_leaves': 87}. Best is trial 10 with value: 6.434366049014024.\u001b[0m\n",
      "num_leaves, val_score: 6.426115:  75%|####################################7            | 15/20 [00:12<00:04,  1.25it/s]"
     ]
    },
    {
     "name": "stdout",
     "output_type": "stream",
     "text": [
      "Early stopping, best iteration is:\n",
      "[284]\ttrain's rmse: 4.18803\teval's rmse: 6.43563\n",
      "Training until validation scores don't improve for 100 rounds\n",
      "[100]\ttrain's rmse: 6.04828\teval's rmse: 6.95435\n",
      "[200]\ttrain's rmse: 4.92226\teval's rmse: 6.49972\n",
      "[300]\ttrain's rmse: 4.31019\teval's rmse: 6.3399\n",
      "[400]\ttrain's rmse: 3.89218\teval's rmse: 6.34286\n"
     ]
    },
    {
     "name": "stderr",
     "output_type": "stream",
     "text": [
      "num_leaves, val_score: 6.323749:  80%|#######################################2         | 16/20 [00:12<00:03,  1.22it/s]\u001b[32m[I 2021-06-20 17:27:39,785]\u001b[0m Trial 22 finished with value: 6.323749377811916 and parameters: {'num_leaves': 36}. Best is trial 22 with value: 6.323749377811916.\u001b[0m\n",
      "num_leaves, val_score: 6.323749:  80%|#######################################2         | 16/20 [00:12<00:03,  1.22it/s]"
     ]
    },
    {
     "name": "stdout",
     "output_type": "stream",
     "text": [
      "Early stopping, best iteration is:\n",
      "[348]\ttrain's rmse: 4.09473\teval's rmse: 6.32375\n",
      "Training until validation scores don't improve for 100 rounds\n",
      "[100]\ttrain's rmse: 6.03026\teval's rmse: 7.04675\n",
      "[200]\ttrain's rmse: 4.89399\teval's rmse: 6.57895\n",
      "[300]\ttrain's rmse: 4.2846\teval's rmse: 6.4328\n",
      "[400]\ttrain's rmse: 3.88202\teval's rmse: 6.43684\n"
     ]
    },
    {
     "name": "stderr",
     "output_type": "stream",
     "text": [
      "num_leaves, val_score: 6.323749:  85%|#########################################6       | 17/20 [00:13<00:02,  1.23it/s]\u001b[32m[I 2021-06-20 17:27:40,595]\u001b[0m Trial 23 finished with value: 6.404021850004085 and parameters: {'num_leaves': 37}. Best is trial 22 with value: 6.323749377811916.\u001b[0m\n",
      "num_leaves, val_score: 6.323749:  85%|#########################################6       | 17/20 [00:13<00:02,  1.23it/s]"
     ]
    },
    {
     "name": "stdout",
     "output_type": "stream",
     "text": [
      "Early stopping, best iteration is:\n",
      "[343]\ttrain's rmse: 4.10269\teval's rmse: 6.40402\n",
      "Training until validation scores don't improve for 100 rounds\n",
      "[100]\ttrain's rmse: 6.00971\teval's rmse: 6.88529\n",
      "[200]\ttrain's rmse: 4.87381\teval's rmse: 6.49462\n",
      "[300]\ttrain's rmse: 4.24405\teval's rmse: 6.36693\n",
      "[400]\ttrain's rmse: 3.8309\teval's rmse: 6.39605\n"
     ]
    },
    {
     "name": "stderr",
     "output_type": "stream",
     "text": [
      "num_leaves, val_score: 6.323749:  90%|############################################1    | 18/20 [00:14<00:01,  1.20it/s]\u001b[32m[I 2021-06-20 17:27:41,471]\u001b[0m Trial 24 finished with value: 6.351286171970569 and parameters: {'num_leaves': 39}. Best is trial 22 with value: 6.323749377811916.\u001b[0m\n",
      "num_leaves, val_score: 6.323749:  90%|############################################1    | 18/20 [00:14<00:01,  1.20it/s]"
     ]
    },
    {
     "name": "stdout",
     "output_type": "stream",
     "text": [
      "Early stopping, best iteration is:\n",
      "[344]\ttrain's rmse: 4.05432\teval's rmse: 6.35129\n",
      "Training until validation scores don't improve for 100 rounds\n",
      "[100]\ttrain's rmse: 5.98104\teval's rmse: 6.96097\n",
      "[200]\ttrain's rmse: 4.77825\teval's rmse: 6.54337\n",
      "[300]\ttrain's rmse: 4.10323\teval's rmse: 6.45546\n",
      "Early stopping, best iteration is:\n",
      "[284]\ttrain's rmse: 4.18803\teval's rmse: 6.43563\n"
     ]
    },
    {
     "name": "stderr",
     "output_type": "stream",
     "text": [
      "num_leaves, val_score: 6.323749:  95%|##############################################5  | 19/20 [00:15<00:00,  1.19it/s]\u001b[32m[I 2021-06-20 17:27:42,334]\u001b[0m Trial 25 finished with value: 6.435626296854292 and parameters: {'num_leaves': 105}. Best is trial 22 with value: 6.323749377811916.\u001b[0m\n",
      "num_leaves, val_score: 6.323749:  95%|##############################################5  | 19/20 [00:15<00:00,  1.19it/s]"
     ]
    },
    {
     "name": "stdout",
     "output_type": "stream",
     "text": [
      "Training until validation scores don't improve for 100 rounds\n",
      "[100]\ttrain's rmse: 5.99542\teval's rmse: 6.93834\n",
      "[200]\ttrain's rmse: 4.83311\teval's rmse: 6.51371\n",
      "[300]\ttrain's rmse: 4.21865\teval's rmse: 6.41833\n"
     ]
    },
    {
     "name": "stderr",
     "output_type": "stream",
     "text": [
      "num_leaves, val_score: 6.323749: 100%|#################################################| 20/20 [00:16<00:00,  1.24it/s]\u001b[32m[I 2021-06-20 17:27:43,064]\u001b[0m Trial 26 finished with value: 6.402287237744464 and parameters: {'num_leaves': 40}. Best is trial 22 with value: 6.323749377811916.\u001b[0m\n",
      "num_leaves, val_score: 6.323749: 100%|#################################################| 20/20 [00:16<00:00,  1.24it/s]\n",
      "bagging, val_score: 6.323749:   0%|                                                             | 0/10 [00:00<?, ?it/s]"
     ]
    },
    {
     "name": "stdout",
     "output_type": "stream",
     "text": [
      "Early stopping, best iteration is:\n",
      "[284]\ttrain's rmse: 4.29852\teval's rmse: 6.40229\n",
      "Training until validation scores don't improve for 100 rounds\n",
      "[100]\ttrain's rmse: 5.79486\teval's rmse: 6.91064\n",
      "[200]\ttrain's rmse: 4.65413\teval's rmse: 6.41188\n",
      "[300]\ttrain's rmse: 4.10011\teval's rmse: 6.36593\n",
      "[400]\ttrain's rmse: 3.71291\teval's rmse: 6.39718\n",
      "Early stopping, best iteration is:\n",
      "[321]\ttrain's rmse: 4.00968\teval's rmse: 6.35912\n"
     ]
    },
    {
     "name": "stderr",
     "output_type": "stream",
     "text": [
      "bagging, val_score: 6.323749:  10%|#####3                                               | 1/10 [00:00<00:06,  1.39it/s]\u001b[32m[I 2021-06-20 17:27:43,795]\u001b[0m Trial 27 finished with value: 6.359123090975679 and parameters: {'bagging_fraction': 0.9672960576226809, 'bagging_freq': 5}. Best is trial 27 with value: 6.359123090975679.\u001b[0m\n",
      "bagging, val_score: 6.323749:  10%|#####3                                               | 1/10 [00:00<00:06,  1.39it/s]"
     ]
    },
    {
     "name": "stdout",
     "output_type": "stream",
     "text": [
      "Training until validation scores don't improve for 100 rounds\n",
      "[100]\ttrain's rmse: 6.02513\teval's rmse: 6.99812\n",
      "[200]\ttrain's rmse: 4.87399\teval's rmse: 6.52208\n",
      "[300]\ttrain's rmse: 4.27491\teval's rmse: 6.4428\n",
      "[400]\ttrain's rmse: 3.87112\teval's rmse: 6.40584\n",
      "[500]\ttrain's rmse: 3.55979\teval's rmse: 6.43485\n",
      "Early stopping, best iteration is:\n",
      "[410]\ttrain's rmse: 3.83545\teval's rmse: 6.40101\n"
     ]
    },
    {
     "name": "stderr",
     "output_type": "stream",
     "text": [
      "bagging, val_score: 6.323749:  20%|##########6                                          | 2/10 [00:01<00:06,  1.16it/s]\u001b[32m[I 2021-06-20 17:27:44,763]\u001b[0m Trial 28 finished with value: 6.401010231811668 and parameters: {'bagging_fraction': 0.8250512787725488, 'bagging_freq': 5}. Best is trial 27 with value: 6.359123090975679.\u001b[0m\n",
      "bagging, val_score: 6.323749:  20%|##########6                                          | 2/10 [00:01<00:06,  1.16it/s]"
     ]
    },
    {
     "name": "stdout",
     "output_type": "stream",
     "text": [
      "Training until validation scores don't improve for 100 rounds\n",
      "[100]\ttrain's rmse: 6.2702\teval's rmse: 7.20987\n",
      "[200]\ttrain's rmse: 5.19404\teval's rmse: 6.71667\n",
      "[300]\ttrain's rmse: 4.63432\teval's rmse: 6.6672\n"
     ]
    },
    {
     "name": "stderr",
     "output_type": "stream",
     "text": [
      "bagging, val_score: 6.323749:  30%|###############9                                     | 3/10 [00:02<00:05,  1.33it/s]\u001b[32m[I 2021-06-20 17:27:45,384]\u001b[0m Trial 29 finished with value: 6.622229490311458 and parameters: {'bagging_fraction': 0.6595039438352641, 'bagging_freq': 6}. Best is trial 27 with value: 6.359123090975679.\u001b[0m\n",
      "bagging, val_score: 6.323749:  30%|###############9                                     | 3/10 [00:02<00:05,  1.33it/s]"
     ]
    },
    {
     "name": "stdout",
     "output_type": "stream",
     "text": [
      "Early stopping, best iteration is:\n",
      "[288]\ttrain's rmse: 4.68082\teval's rmse: 6.62223\n",
      "Training until validation scores don't improve for 100 rounds\n",
      "[100]\ttrain's rmse: 6.18949\teval's rmse: 7.11875\n",
      "[200]\ttrain's rmse: 5.08646\teval's rmse: 6.6629\n",
      "[300]\ttrain's rmse: 4.51499\teval's rmse: 6.60511\n",
      "[400]\ttrain's rmse: 4.09301\teval's rmse: 6.58512\n"
     ]
    },
    {
     "name": "stderr",
     "output_type": "stream",
     "text": [
      "\r",
      "bagging, val_score: 6.323749:  30%|###############9                                     | 3/10 [00:03<00:05,  1.33it/s]"
     ]
    },
    {
     "name": "stdout",
     "output_type": "stream",
     "text": [
      "[500]\ttrain's rmse: 3.78448\teval's rmse: 6.62044\n",
      "Early stopping, best iteration is:\n",
      "[430]\ttrain's rmse: 3.99605\teval's rmse: 6.57864\n"
     ]
    },
    {
     "name": "stderr",
     "output_type": "stream",
     "text": [
      "bagging, val_score: 6.323749:  40%|#####################2                               | 4/10 [00:03<00:05,  1.19it/s]\u001b[32m[I 2021-06-20 17:27:46,350]\u001b[0m Trial 30 finished with value: 6.578638033291411 and parameters: {'bagging_fraction': 0.7018586994186728, 'bagging_freq': 5}. Best is trial 27 with value: 6.359123090975679.\u001b[0m\n",
      "bagging, val_score: 6.323749:  40%|#####################2                               | 4/10 [00:03<00:05,  1.19it/s]"
     ]
    },
    {
     "name": "stdout",
     "output_type": "stream",
     "text": [
      "Training until validation scores don't improve for 100 rounds\n",
      "[100]\ttrain's rmse: 6.35212\teval's rmse: 7.21936\n",
      "[200]\ttrain's rmse: 5.2596\teval's rmse: 6.74057\n",
      "[300]\ttrain's rmse: 4.66626\teval's rmse: 6.64112\n"
     ]
    },
    {
     "name": "stderr",
     "output_type": "stream",
     "text": [
      "bagging, val_score: 6.323749:  50%|##########################5                          | 5/10 [00:04<00:04,  1.22it/s]\u001b[32m[I 2021-06-20 17:27:47,141]\u001b[0m Trial 31 finished with value: 6.591080775660462 and parameters: {'bagging_fraction': 0.6063795205073569, 'bagging_freq': 1}. Best is trial 27 with value: 6.359123090975679.\u001b[0m\n"
     ]
    },
    {
     "name": "stdout",
     "output_type": "stream",
     "text": [
      "[400]\ttrain's rmse: 4.27982\teval's rmse: 6.61069\n",
      "Early stopping, best iteration is:\n",
      "[351]\ttrain's rmse: 4.45966\teval's rmse: 6.59108\n"
     ]
    },
    {
     "name": "stderr",
     "output_type": "stream",
     "text": [
      "\r",
      "bagging, val_score: 6.323749:  50%|##########################5                          | 5/10 [00:04<00:04,  1.22it/s]"
     ]
    },
    {
     "name": "stdout",
     "output_type": "stream",
     "text": [
      "Training until validation scores don't improve for 100 rounds\n",
      "[100]\ttrain's rmse: 6.32754\teval's rmse: 7.19911\n",
      "[200]\ttrain's rmse: 5.26185\teval's rmse: 6.71477\n",
      "[300]\ttrain's rmse: 4.67118\teval's rmse: 6.64723\n"
     ]
    },
    {
     "name": "stderr",
     "output_type": "stream",
     "text": [
      "bagging, val_score: 6.323749:  60%|###############################8                     | 6/10 [00:04<00:03,  1.28it/s]\u001b[32m[I 2021-06-20 17:27:47,854]\u001b[0m Trial 32 finished with value: 6.609265637171169 and parameters: {'bagging_fraction': 0.6290290724804126, 'bagging_freq': 4}. Best is trial 27 with value: 6.359123090975679.\u001b[0m\n",
      "bagging, val_score: 6.323749:  60%|###############################8                     | 6/10 [00:04<00:03,  1.28it/s]"
     ]
    },
    {
     "name": "stdout",
     "output_type": "stream",
     "text": [
      "[400]\ttrain's rmse: 4.29253\teval's rmse: 6.65962\n",
      "Early stopping, best iteration is:\n",
      "[324]\ttrain's rmse: 4.55933\teval's rmse: 6.60927\n",
      "Training until validation scores don't improve for 100 rounds\n",
      "[100]\ttrain's rmse: 6.43609\teval's rmse: 7.36773\n",
      "[200]\ttrain's rmse: 5.38886\teval's rmse: 6.84873\n",
      "[300]\ttrain's rmse: 4.78354\teval's rmse: 6.69936\n",
      "[400]\ttrain's rmse: 4.40928\teval's rmse: 6.68179\n"
     ]
    },
    {
     "name": "stderr",
     "output_type": "stream",
     "text": [
      "bagging, val_score: 6.323749:  70%|#####################################                | 7/10 [00:05<00:02,  1.25it/s]\u001b[32m[I 2021-06-20 17:27:48,683]\u001b[0m Trial 33 finished with value: 6.651883317130182 and parameters: {'bagging_fraction': 0.5939255351210101, 'bagging_freq': 7}. Best is trial 27 with value: 6.359123090975679.\u001b[0m\n",
      "bagging, val_score: 6.323749:  70%|#####################################                | 7/10 [00:05<00:02,  1.25it/s]"
     ]
    },
    {
     "name": "stdout",
     "output_type": "stream",
     "text": [
      "Early stopping, best iteration is:\n",
      "[376]\ttrain's rmse: 4.49279\teval's rmse: 6.65188\n",
      "Training until validation scores don't improve for 100 rounds\n",
      "[100]\ttrain's rmse: 6.78224\teval's rmse: 7.4561\n",
      "[200]\ttrain's rmse: 5.7929\teval's rmse: 6.89352\n",
      "[300]\ttrain's rmse: 5.23693\teval's rmse: 6.69397\n",
      "[400]\ttrain's rmse: 4.85199\teval's rmse: 6.63095\n",
      "Early stopping, best iteration is:\n",
      "[359]\ttrain's rmse: 4.9932\teval's rmse: 6.5966\n"
     ]
    },
    {
     "name": "stderr",
     "output_type": "stream",
     "text": [
      "bagging, val_score: 6.323749:  80%|##########################################4          | 8/10 [00:06<00:01,  1.34it/s]\u001b[32m[I 2021-06-20 17:27:49,315]\u001b[0m Trial 34 finished with value: 6.596599260267841 and parameters: {'bagging_fraction': 0.4660210359757182, 'bagging_freq': 2}. Best is trial 27 with value: 6.359123090975679.\u001b[0m\n",
      "bagging, val_score: 6.323749:  80%|##########################################4          | 8/10 [00:06<00:01,  1.34it/s]"
     ]
    },
    {
     "name": "stdout",
     "output_type": "stream",
     "text": [
      "Training until validation scores don't improve for 100 rounds\n",
      "[100]\ttrain's rmse: 6.3999\teval's rmse: 7.25645\n",
      "[200]\ttrain's rmse: 5.39518\teval's rmse: 6.77872\n",
      "[300]\ttrain's rmse: 4.80836\teval's rmse: 6.5387\n",
      "[400]\ttrain's rmse: 4.3906\teval's rmse: 6.46833\n",
      "[500]\ttrain's rmse: 4.07881\teval's rmse: 6.46434\n",
      "Early stopping, best iteration is:\n",
      "[460]\ttrain's rmse: 4.20168\teval's rmse: 6.43858\n"
     ]
    },
    {
     "name": "stderr",
     "output_type": "stream",
     "text": [
      "bagging, val_score: 6.323749:  90%|###############################################7     | 9/10 [00:07<00:00,  1.24it/s]\u001b[32m[I 2021-06-20 17:27:50,250]\u001b[0m Trial 35 finished with value: 6.438581282708601 and parameters: {'bagging_fraction': 0.5937863325934615, 'bagging_freq': 3}. Best is trial 27 with value: 6.359123090975679.\u001b[0m\n",
      "bagging, val_score: 6.323749:  90%|###############################################7     | 9/10 [00:07<00:00,  1.24it/s]"
     ]
    },
    {
     "name": "stdout",
     "output_type": "stream",
     "text": [
      "Training until validation scores don't improve for 100 rounds\n",
      "[100]\ttrain's rmse: 6.57984\teval's rmse: 7.38417\n",
      "[200]\ttrain's rmse: 5.54616\teval's rmse: 6.9397\n",
      "[300]\ttrain's rmse: 5.01784\teval's rmse: 6.77697\n"
     ]
    },
    {
     "name": "stderr",
     "output_type": "stream",
     "text": [
      "bagging, val_score: 6.323749: 100%|####################################################| 10/10 [00:07<00:00,  1.33it/s]\u001b[32m[I 2021-06-20 17:27:50,875]\u001b[0m Trial 36 finished with value: 6.733444295886175 and parameters: {'bagging_fraction': 0.5444481398517942, 'bagging_freq': 6}. Best is trial 27 with value: 6.359123090975679.\u001b[0m\n",
      "bagging, val_score: 6.323749: 100%|####################################################| 10/10 [00:07<00:00,  1.28it/s]\n",
      "feature_fraction_stage2, val_score: 6.323749:   0%|                                              | 0/6 [00:00<?, ?it/s]"
     ]
    },
    {
     "name": "stdout",
     "output_type": "stream",
     "text": [
      "[400]\ttrain's rmse: 4.62017\teval's rmse: 6.76131\n",
      "Early stopping, best iteration is:\n",
      "[318]\ttrain's rmse: 4.93413\teval's rmse: 6.73344\n",
      "Training until validation scores don't improve for 100 rounds\n",
      "[100]\ttrain's rmse: 6.0987\teval's rmse: 7.05059\n",
      "[200]\ttrain's rmse: 4.97786\teval's rmse: 6.68129\n",
      "[300]\ttrain's rmse: 4.36834\teval's rmse: 6.52009\n",
      "[400]\ttrain's rmse: 3.96528\teval's rmse: 6.49928\n"
     ]
    },
    {
     "name": "stderr",
     "output_type": "stream",
     "text": [
      "feature_fraction_stage2, val_score: 6.323749:  17%|######3                               | 1/6 [00:00<00:04,  1.09it/s]\u001b[32m[I 2021-06-20 17:27:51,800]\u001b[0m Trial 37 finished with value: 6.489955012402444 and parameters: {'feature_fraction': 0.82}. Best is trial 37 with value: 6.489955012402444.\u001b[0m\n",
      "feature_fraction_stage2, val_score: 6.323749:  17%|######3                               | 1/6 [00:00<00:04,  1.09it/s]"
     ]
    },
    {
     "name": "stdout",
     "output_type": "stream",
     "text": [
      "[500]\ttrain's rmse: 3.66879\teval's rmse: 6.52037\n",
      "Early stopping, best iteration is:\n",
      "[421]\ttrain's rmse: 3.90201\teval's rmse: 6.48996\n",
      "Training until validation scores don't improve for 100 rounds\n",
      "[100]\ttrain's rmse: 6.0638\teval's rmse: 6.97939\n",
      "[200]\ttrain's rmse: 4.94895\teval's rmse: 6.61085\n",
      "[300]\ttrain's rmse: 4.34189\teval's rmse: 6.44582\n"
     ]
    },
    {
     "name": "stderr",
     "output_type": "stream",
     "text": [
      "feature_fraction_stage2, val_score: 6.323749:  33%|############6                         | 2/6 [00:01<00:03,  1.20it/s]\u001b[32m[I 2021-06-20 17:27:52,580]\u001b[0m Trial 38 finished with value: 6.43005802309167 and parameters: {'feature_fraction': 0.8839999999999999}. Best is trial 38 with value: 6.43005802309167.\u001b[0m\n"
     ]
    },
    {
     "name": "stdout",
     "output_type": "stream",
     "text": [
      "[400]\ttrain's rmse: 3.92827\teval's rmse: 6.45568\n",
      "Early stopping, best iteration is:\n",
      "[344]\ttrain's rmse: 4.15173\teval's rmse: 6.43006\n"
     ]
    },
    {
     "name": "stderr",
     "output_type": "stream",
     "text": [
      "\r",
      "feature_fraction_stage2, val_score: 6.323749:  33%|############6                         | 2/6 [00:01<00:03,  1.20it/s]"
     ]
    },
    {
     "name": "stdout",
     "output_type": "stream",
     "text": [
      "Training until validation scores don't improve for 100 rounds\n",
      "[100]\ttrain's rmse: 6.07646\teval's rmse: 7.00386\n",
      "[200]\ttrain's rmse: 4.90778\teval's rmse: 6.55211\n",
      "[300]\ttrain's rmse: 4.28124\teval's rmse: 6.41083\n"
     ]
    },
    {
     "name": "stderr",
     "output_type": "stream",
     "text": [
      "feature_fraction_stage2, val_score: 6.323749:  50%|###################                   | 3/6 [00:02<00:02,  1.21it/s]"
     ]
    },
    {
     "name": "stdout",
     "output_type": "stream",
     "text": [
      "[400]\ttrain's rmse: 3.86781\teval's rmse: 6.40632\n",
      "Early stopping, best iteration is:\n",
      "[344]\ttrain's rmse: 4.09438\teval's rmse: 6.38815\n"
     ]
    },
    {
     "name": "stderr",
     "output_type": "stream",
     "text": [
      "\u001b[32m[I 2021-06-20 17:27:53,395]\u001b[0m Trial 39 finished with value: 6.388149695288823 and parameters: {'feature_fraction': 0.948}. Best is trial 39 with value: 6.388149695288823.\u001b[0m\n",
      "feature_fraction_stage2, val_score: 6.323749:  50%|###################                   | 3/6 [00:02<00:02,  1.21it/s]"
     ]
    },
    {
     "name": "stdout",
     "output_type": "stream",
     "text": [
      "Training until validation scores don't improve for 100 rounds\n",
      "[100]\ttrain's rmse: 6.04828\teval's rmse: 6.95435\n",
      "[200]\ttrain's rmse: 4.92226\teval's rmse: 6.49972\n",
      "[300]\ttrain's rmse: 4.31019\teval's rmse: 6.3399\n"
     ]
    },
    {
     "name": "stderr",
     "output_type": "stream",
     "text": [
      "feature_fraction_stage2, val_score: 6.323749:  67%|#########################3            | 4/6 [00:03<00:01,  1.24it/s]\u001b[32m[I 2021-06-20 17:27:54,179]\u001b[0m Trial 40 finished with value: 6.323749377811916 and parameters: {'feature_fraction': 0.9159999999999999}. Best is trial 40 with value: 6.323749377811916.\u001b[0m\n",
      "feature_fraction_stage2, val_score: 6.323749:  67%|#########################3            | 4/6 [00:03<00:01,  1.24it/s]"
     ]
    },
    {
     "name": "stdout",
     "output_type": "stream",
     "text": [
      "[400]\ttrain's rmse: 3.89218\teval's rmse: 6.34286\n",
      "Early stopping, best iteration is:\n",
      "[348]\ttrain's rmse: 4.09473\teval's rmse: 6.32375\n",
      "Training until validation scores don't improve for 100 rounds\n",
      "[100]\ttrain's rmse: 6.0987\teval's rmse: 7.05059\n",
      "[200]\ttrain's rmse: 4.97786\teval's rmse: 6.68129\n",
      "[300]\ttrain's rmse: 4.36834\teval's rmse: 6.52009\n",
      "[400]\ttrain's rmse: 3.96528\teval's rmse: 6.49928\n",
      "[500]\ttrain's rmse: 3.66879\teval's rmse: 6.52037\n",
      "Early stopping, best iteration is:\n",
      "[421]\ttrain's rmse: 3.90201\teval's rmse: 6.48996\n"
     ]
    },
    {
     "name": "stderr",
     "output_type": "stream",
     "text": [
      "feature_fraction_stage2, val_score: 6.323749:  83%|###############################6      | 5/6 [00:04<00:00,  1.16it/s]\u001b[32m[I 2021-06-20 17:27:55,139]\u001b[0m Trial 41 finished with value: 6.489955012402444 and parameters: {'feature_fraction': 0.852}. Best is trial 40 with value: 6.323749377811916.\u001b[0m\n",
      "feature_fraction_stage2, val_score: 6.323749:  83%|###############################6      | 5/6 [00:04<00:00,  1.16it/s]"
     ]
    },
    {
     "name": "stdout",
     "output_type": "stream",
     "text": [
      "Training until validation scores don't improve for 100 rounds\n",
      "[100]\ttrain's rmse: 6.0833\teval's rmse: 7.14059\n",
      "[200]\ttrain's rmse: 4.91567\teval's rmse: 6.59619\n",
      "[300]\ttrain's rmse: 4.27542\teval's rmse: 6.48455\n"
     ]
    },
    {
     "name": "stderr",
     "output_type": "stream",
     "text": [
      "feature_fraction_stage2, val_score: 6.323749: 100%|######################################| 6/6 [00:05<00:00,  1.19it/s]\u001b[32m[I 2021-06-20 17:27:55,931]\u001b[0m Trial 42 finished with value: 6.460026536954625 and parameters: {'feature_fraction': 0.9799999999999999}. Best is trial 40 with value: 6.323749377811916.\u001b[0m\n",
      "feature_fraction_stage2, val_score: 6.323749: 100%|######################################| 6/6 [00:05<00:00,  1.19it/s]\n",
      "  0%|                                                                                           | 0/20 [00:00<?, ?it/s]"
     ]
    },
    {
     "name": "stdout",
     "output_type": "stream",
     "text": [
      "[400]\ttrain's rmse: 3.85262\teval's rmse: 6.51471\n",
      "Early stopping, best iteration is:\n",
      "[346]\ttrain's rmse: 4.06258\teval's rmse: 6.46003\n"
     ]
    },
    {
     "name": "stderr",
     "output_type": "stream",
     "text": [
      "\r",
      "regularization_factors, val_score: 6.323749:   0%|                                              | 0/20 [00:00<?, ?it/s]"
     ]
    },
    {
     "name": "stdout",
     "output_type": "stream",
     "text": [
      "Training until validation scores don't improve for 100 rounds\n",
      "[100]\ttrain's rmse: 6.28368\teval's rmse: 7.17579\n",
      "[200]\ttrain's rmse: 5.23573\teval's rmse: 6.6762\n",
      "[300]\ttrain's rmse: 4.66213\teval's rmse: 6.48025\n",
      "[400]\ttrain's rmse: 4.30105\teval's rmse: 6.44289\n",
      "[500]\ttrain's rmse: 4.0399\teval's rmse: 6.46498\n",
      "Early stopping, best iteration is:\n",
      "[439]\ttrain's rmse: 4.19355\teval's rmse: 6.42916"
     ]
    },
    {
     "name": "stderr",
     "output_type": "stream",
     "text": [
      "regularization_factors, val_score: 6.323749:   5%|#9                                    | 1/20 [00:01<00:19,  1.01s/it]\u001b[32m[I 2021-06-20 17:27:56,954]\u001b[0m Trial 43 finished with value: 6.429155147823147 and parameters: {'lambda_l1': 5.47043330583185, 'lambda_l2': 0.000997188012072333}. Best is trial 43 with value: 6.429155147823147.\u001b[0m\n",
      "regularization_factors, val_score: 6.323749:   5%|#9                                    | 1/20 [00:01<00:19,  1.01s/it]"
     ]
    },
    {
     "name": "stdout",
     "output_type": "stream",
     "text": [
      "\n",
      "Training until validation scores don't improve for 100 rounds\n",
      "[100]\ttrain's rmse: 6.31081\teval's rmse: 7.13649\n",
      "[200]\ttrain's rmse: 5.13262\teval's rmse: 6.61378\n",
      "[300]\ttrain's rmse: 4.52187\teval's rmse: 6.48476\n",
      "[400]\ttrain's rmse: 4.12088\teval's rmse: 6.47175\n"
     ]
    },
    {
     "name": "stderr",
     "output_type": "stream",
     "text": [
      "\r",
      "regularization_factors, val_score: 6.323749:   5%|#9                                    | 1/20 [00:02<00:19,  1.01s/it]"
     ]
    },
    {
     "name": "stdout",
     "output_type": "stream",
     "text": [
      "[500]\ttrain's rmse: 3.8123\teval's rmse: 6.47544\n",
      "Early stopping, best iteration is:\n",
      "[451]\ttrain's rmse: 3.95732\teval's rmse: 6.45048\n"
     ]
    },
    {
     "name": "stderr",
     "output_type": "stream",
     "text": [
      "regularization_factors, val_score: 6.323749:  10%|###8                                  | 2/20 [00:02<00:18,  1.03s/it]\u001b[32m[I 2021-06-20 17:27:57,989]\u001b[0m Trial 44 finished with value: 6.450478544561615 and parameters: {'lambda_l1': 4.149243285979274e-05, 'lambda_l2': 3.2973845404948596}. Best is trial 43 with value: 6.429155147823147.\u001b[0m\n",
      "regularization_factors, val_score: 6.323749:  10%|###8                                  | 2/20 [00:02<00:18,  1.03s/it]"
     ]
    },
    {
     "name": "stdout",
     "output_type": "stream",
     "text": [
      "Training until validation scores don't improve for 100 rounds\n",
      "[100]\ttrain's rmse: 6.073\teval's rmse: 6.99963\n",
      "[200]\ttrain's rmse: 4.9235\teval's rmse: 6.56926\n",
      "[300]\ttrain's rmse: 4.31072\teval's rmse: 6.44685\n"
     ]
    },
    {
     "name": "stderr",
     "output_type": "stream",
     "text": [
      "regularization_factors, val_score: 6.323749:  15%|#####7                                | 3/20 [00:02<00:15,  1.08it/s]\u001b[32m[I 2021-06-20 17:27:58,794]\u001b[0m Trial 45 finished with value: 6.424663145076257 and parameters: {'lambda_l1': 0.00011313181694929264, 'lambda_l2': 3.2960341142845015e-07}. Best is trial 45 with value: 6.424663145076257.\u001b[0m\n",
      "regularization_factors, val_score: 6.323749:  15%|#####7                                | 3/20 [00:02<00:15,  1.08it/s]"
     ]
    },
    {
     "name": "stdout",
     "output_type": "stream",
     "text": [
      "[400]\ttrain's rmse: 3.89574\teval's rmse: 6.45903\n",
      "Early stopping, best iteration is:\n",
      "[344]\ttrain's rmse: 4.12442\teval's rmse: 6.42466\n",
      "Training until validation scores don't improve for 100 rounds\n",
      "[100]\ttrain's rmse: 6.04828\teval's rmse: 6.95435\n",
      "[200]\ttrain's rmse: 4.92226\teval's rmse: 6.49972\n",
      "[300]\ttrain's rmse: 4.30889\teval's rmse: 6.3422\n"
     ]
    },
    {
     "name": "stderr",
     "output_type": "stream",
     "text": [
      "regularization_factors, val_score: 6.323749:  20%|#######6                              | 4/20 [00:03<00:14,  1.14it/s]"
     ]
    },
    {
     "name": "stdout",
     "output_type": "stream",
     "text": [
      "[400]\ttrain's rmse: 3.90251\teval's rmse: 6.3713\n",
      "Early stopping, best iteration is:\n",
      "[343]\ttrain's rmse: 4.12455\teval's rmse: 6.34094\n"
     ]
    },
    {
     "name": "stderr",
     "output_type": "stream",
     "text": [
      "\u001b[32m[I 2021-06-20 17:27:59,595]\u001b[0m Trial 46 finished with value: 6.340935556051927 and parameters: {'lambda_l1': 1.2971645300538639e-07, 'lambda_l2': 3.6730580299313026e-05}. Best is trial 46 with value: 6.340935556051927.\u001b[0m\n",
      "regularization_factors, val_score: 6.323749:  20%|#######6                              | 4/20 [00:03<00:14,  1.14it/s]"
     ]
    },
    {
     "name": "stdout",
     "output_type": "stream",
     "text": [
      "Training until validation scores don't improve for 100 rounds\n",
      "[100]\ttrain's rmse: 6.04828\teval's rmse: 6.95435\n",
      "[200]\ttrain's rmse: 4.92226\teval's rmse: 6.49972\n",
      "[300]\ttrain's rmse: 4.30889\teval's rmse: 6.3422\n"
     ]
    },
    {
     "name": "stderr",
     "output_type": "stream",
     "text": [
      "\r",
      "regularization_factors, val_score: 6.323749:  20%|#######6                              | 4/20 [00:04<00:14,  1.14it/s]"
     ]
    },
    {
     "name": "stdout",
     "output_type": "stream",
     "text": [
      "[400]\ttrain's rmse: 3.90251\teval's rmse: 6.3713\n",
      "Early stopping, best iteration is:\n",
      "[343]\ttrain's rmse: 4.12455\teval's rmse: 6.34094\n"
     ]
    },
    {
     "name": "stderr",
     "output_type": "stream",
     "text": [
      "regularization_factors, val_score: 6.323749:  25%|#########5                            | 5/20 [00:04<00:12,  1.16it/s]\u001b[32m[I 2021-06-20 17:28:00,432]\u001b[0m Trial 47 finished with value: 6.34093558450741 and parameters: {'lambda_l1': 6.617829528699482e-07, 'lambda_l2': 1.7914125766100403e-05}. Best is trial 46 with value: 6.340935556051927.\u001b[0m\n",
      "regularization_factors, val_score: 6.323749:  25%|#########5                            | 5/20 [00:04<00:12,  1.16it/s]"
     ]
    },
    {
     "name": "stdout",
     "output_type": "stream",
     "text": [
      "Training until validation scores don't improve for 100 rounds\n",
      "[100]\ttrain's rmse: 6.06056\teval's rmse: 6.95367\n",
      "[200]\ttrain's rmse: 4.93097\teval's rmse: 6.56777\n",
      "[300]\ttrain's rmse: 4.32725\teval's rmse: 6.4968\n",
      "[400]\ttrain's rmse: 3.91549\teval's rmse: 6.44841\n",
      "Early stopping, best iteration is:\n",
      "[399]\ttrain's rmse: 3.9188\teval's rmse: 6.44761\n"
     ]
    },
    {
     "name": "stderr",
     "output_type": "stream",
     "text": [
      "regularization_factors, val_score: 6.323749:  30%|###########4                          | 6/20 [00:05<00:12,  1.12it/s]\u001b[32m[I 2021-06-20 17:28:01,377]\u001b[0m Trial 48 finished with value: 6.447610615794287 and parameters: {'lambda_l1': 0.0050973828167318715, 'lambda_l2': 4.8380634972109105e-08}. Best is trial 46 with value: 6.340935556051927.\u001b[0m\n",
      "regularization_factors, val_score: 6.323749:  30%|###########4                          | 6/20 [00:05<00:12,  1.12it/s]"
     ]
    },
    {
     "name": "stdout",
     "output_type": "stream",
     "text": [
      "Training until validation scores don't improve for 100 rounds\n",
      "[100]\ttrain's rmse: 6.04828\teval's rmse: 6.95435\n",
      "[200]\ttrain's rmse: 4.92226\teval's rmse: 6.49972\n",
      "[300]\ttrain's rmse: 4.31019\teval's rmse: 6.3399\n"
     ]
    },
    {
     "name": "stderr",
     "output_type": "stream",
     "text": [
      "regularization_factors, val_score: 6.323749:  35%|#############3                        | 7/20 [00:06<00:11,  1.16it/s]\u001b[32m[I 2021-06-20 17:28:02,185]\u001b[0m Trial 49 finished with value: 6.323749378012781 and parameters: {'lambda_l1': 1.177282513515625e-08, 'lambda_l2': 1.2196731278053058e-07}. Best is trial 49 with value: 6.323749378012781.\u001b[0m\n",
      "regularization_factors, val_score: 6.323749:  35%|#############3                        | 7/20 [00:06<00:11,  1.16it/s]"
     ]
    },
    {
     "name": "stdout",
     "output_type": "stream",
     "text": [
      "[400]\ttrain's rmse: 3.89218\teval's rmse: 6.34286\n",
      "Early stopping, best iteration is:\n",
      "[348]\ttrain's rmse: 4.09473\teval's rmse: 6.32375\n",
      "Training until validation scores don't improve for 100 rounds\n",
      "[100]\ttrain's rmse: 6.0534\teval's rmse: 6.91611\n",
      "[200]\ttrain's rmse: 4.94935\teval's rmse: 6.51831\n",
      "[300]\ttrain's rmse: 4.3379\teval's rmse: 6.3917\n"
     ]
    },
    {
     "name": "stderr",
     "output_type": "stream",
     "text": [
      "regularization_factors, val_score: 6.323749:  40%|###############2                      | 8/20 [00:07<00:10,  1.17it/s]\u001b[32m[I 2021-06-20 17:28:03,022]\u001b[0m Trial 50 finished with value: 6.375886246100768 and parameters: {'lambda_l1': 0.026366695481784486, 'lambda_l2': 0.00010472521435887277}. Best is trial 49 with value: 6.323749378012781.\u001b[0m\n",
      "regularization_factors, val_score: 6.323749:  40%|###############2                      | 8/20 [00:07<00:10,  1.17it/s]"
     ]
    },
    {
     "name": "stdout",
     "output_type": "stream",
     "text": [
      "[400]\ttrain's rmse: 3.93964\teval's rmse: 6.41656\n",
      "Early stopping, best iteration is:\n",
      "[331]\ttrain's rmse: 4.20111\teval's rmse: 6.37589\n",
      "Training until validation scores don't improve for 100 rounds\n",
      "[100]\ttrain's rmse: 6.49278\teval's rmse: 7.29796\n",
      "[200]\ttrain's rmse: 5.34921\teval's rmse: 6.71488\n",
      "[300]\ttrain's rmse: 4.77146\teval's rmse: 6.58057\n",
      "[400]\ttrain's rmse: 4.37706\teval's rmse: 6.52073\n"
     ]
    },
    {
     "name": "stderr",
     "output_type": "stream",
     "text": [
      "\r",
      "regularization_factors, val_score: 6.323749:  40%|###############2                      | 8/20 [00:08<00:10,  1.17it/s]"
     ]
    },
    {
     "name": "stdout",
     "output_type": "stream",
     "text": [
      "[500]\ttrain's rmse: 4.09349\teval's rmse: 6.52068\n",
      "Early stopping, best iteration is:\n",
      "[451]\ttrain's rmse: 4.22924\teval's rmse: 6.50513\n"
     ]
    },
    {
     "name": "stderr",
     "output_type": "stream",
     "text": [
      "regularization_factors, val_score: 6.323749:  45%|#################1                    | 9/20 [00:08<00:09,  1.11it/s]\u001b[32m[I 2021-06-20 17:28:04,037]\u001b[0m Trial 51 finished with value: 6.505126987361105 and parameters: {'lambda_l1': 2.397385990552479, 'lambda_l2': 5.676072733590161}. Best is trial 49 with value: 6.323749378012781.\u001b[0m\n",
      "regularization_factors, val_score: 6.323749:  45%|#################1                    | 9/20 [00:08<00:09,  1.11it/s]"
     ]
    },
    {
     "name": "stdout",
     "output_type": "stream",
     "text": [
      "Training until validation scores don't improve for 100 rounds\n",
      "[100]\ttrain's rmse: 6.06893\teval's rmse: 6.97639\n",
      "[200]\ttrain's rmse: 4.92928\teval's rmse: 6.55646\n",
      "[300]\ttrain's rmse: 4.31599\teval's rmse: 6.40131\n",
      "[400]\ttrain's rmse: 3.90943\teval's rmse: 6.37003\n",
      "Early stopping, best iteration is:\n",
      "[385]\ttrain's rmse: 3.96749\teval's rmse: 6.35813\n"
     ]
    },
    {
     "name": "stderr",
     "output_type": "stream",
     "text": [
      "regularization_factors, val_score: 6.323749:  50%|##################5                  | 10/20 [00:09<00:09,  1.09it/s]\u001b[32m[I 2021-06-20 17:28:04,971]\u001b[0m Trial 52 finished with value: 6.358127434361353 and parameters: {'lambda_l1': 3.241242406145943e-05, 'lambda_l2': 0.15870407156192654}. Best is trial 49 with value: 6.323749378012781.\u001b[0m\n",
      "regularization_factors, val_score: 6.323749:  50%|##################5                  | 10/20 [00:09<00:09,  1.09it/s]"
     ]
    },
    {
     "name": "stdout",
     "output_type": "stream",
     "text": [
      "Training until validation scores don't improve for 100 rounds\n",
      "[100]\ttrain's rmse: 6.04828\teval's rmse: 6.95435\n",
      "[200]\ttrain's rmse: 4.92226\teval's rmse: 6.49972\n",
      "[300]\ttrain's rmse: 4.31019\teval's rmse: 6.3399\n"
     ]
    },
    {
     "name": "stderr",
     "output_type": "stream",
     "text": [
      "\r",
      "regularization_factors, val_score: 6.323749:  50%|##################5                  | 10/20 [00:09<00:09,  1.09it/s]"
     ]
    },
    {
     "name": "stdout",
     "output_type": "stream",
     "text": [
      "[400]\ttrain's rmse: 3.89218\teval's rmse: 6.34286\n",
      "Early stopping, best iteration is:\n",
      "[348]\ttrain's rmse: 4.09473\teval's rmse: 6.32375\n"
     ]
    },
    {
     "name": "stderr",
     "output_type": "stream",
     "text": [
      "regularization_factors, val_score: 6.323749:  55%|####################3                | 11/20 [00:09<00:08,  1.11it/s]\u001b[32m[I 2021-06-20 17:28:05,838]\u001b[0m Trial 53 finished with value: 6.323749377869675 and parameters: {'lambda_l1': 5.162026649593656e-08, 'lambda_l2': 1.3201243575012422e-08}. Best is trial 53 with value: 6.323749377869675.\u001b[0m\n",
      "regularization_factors, val_score: 6.323749:  55%|####################3                | 11/20 [00:09<00:08,  1.11it/s]"
     ]
    },
    {
     "name": "stdout",
     "output_type": "stream",
     "text": [
      "Training until validation scores don't improve for 100 rounds\n",
      "[100]\ttrain's rmse: 6.04828\teval's rmse: 6.95435\n",
      "[200]\ttrain's rmse: 4.92226\teval's rmse: 6.49972\n",
      "[300]\ttrain's rmse: 4.31019\teval's rmse: 6.3399\n",
      "[400]\ttrain's rmse: 3.89218\teval's rmse: 6.34286\n",
      "Early stopping, best iteration is:\n",
      "[348]\ttrain's rmse: 4.09473\teval's rmse: 6.32375\n"
     ]
    },
    {
     "name": "stderr",
     "output_type": "stream",
     "text": [
      "regularization_factors, val_score: 6.323749:  60%|######################2              | 12/20 [00:10<00:07,  1.13it/s]\u001b[32m[I 2021-06-20 17:28:06,676]\u001b[0m Trial 54 finished with value: 6.323749377887784 and parameters: {'lambda_l1': 3.211337316484776e-08, 'lambda_l2': 1.2514193629504238e-08}. Best is trial 53 with value: 6.323749377869675.\u001b[0m\n",
      "regularization_factors, val_score: 6.323749:  60%|######################2              | 12/20 [00:10<00:07,  1.13it/s]"
     ]
    },
    {
     "name": "stdout",
     "output_type": "stream",
     "text": [
      "Training until validation scores don't improve for 100 rounds\n",
      "[100]\ttrain's rmse: 6.04828\teval's rmse: 6.95435\n",
      "[200]\ttrain's rmse: 4.92226\teval's rmse: 6.49972\n",
      "[300]\ttrain's rmse: 4.31019\teval's rmse: 6.3399\n"
     ]
    },
    {
     "name": "stderr",
     "output_type": "stream",
     "text": [
      "\r",
      "regularization_factors, val_score: 6.323749:  60%|######################2              | 12/20 [00:11<00:07,  1.13it/s]"
     ]
    },
    {
     "name": "stdout",
     "output_type": "stream",
     "text": [
      "[400]\ttrain's rmse: 3.89218\teval's rmse: 6.34286\n",
      "Early stopping, best iteration is:\n",
      "[348]\ttrain's rmse: 4.09473\teval's rmse: 6.32375\n"
     ]
    },
    {
     "name": "stderr",
     "output_type": "stream",
     "text": [
      "regularization_factors, val_score: 6.323749:  65%|########################             | 13/20 [00:11<00:06,  1.15it/s]\u001b[32m[I 2021-06-20 17:28:07,511]\u001b[0m Trial 55 finished with value: 6.323749374493319 and parameters: {'lambda_l1': 1.2073630982040285e-08, 'lambda_l2': 1.4204630468473756e-06}. Best is trial 55 with value: 6.323749374493319.\u001b[0m\n",
      "regularization_factors, val_score: 6.323749:  65%|########################             | 13/20 [00:11<00:06,  1.15it/s]"
     ]
    },
    {
     "name": "stdout",
     "output_type": "stream",
     "text": [
      "Training until validation scores don't improve for 100 rounds\n",
      "[100]\ttrain's rmse: 6.04828\teval's rmse: 6.95435\n",
      "[200]\ttrain's rmse: 4.92226\teval's rmse: 6.49972\n",
      "[300]\ttrain's rmse: 4.3165\teval's rmse: 6.36358\n",
      "[400]\ttrain's rmse: 3.90573\teval's rmse: 6.33872\n",
      "Early stopping, best iteration is:\n",
      "[353]\ttrain's rmse: 4.08391\teval's rmse: 6.328\n"
     ]
    },
    {
     "name": "stderr",
     "output_type": "stream",
     "text": [
      "regularization_factors, val_score: 6.323749:  70%|#########################9           | 14/20 [00:12<00:05,  1.17it/s]\u001b[32m[I 2021-06-20 17:28:08,339]\u001b[0m Trial 56 finished with value: 6.327997545108862 and parameters: {'lambda_l1': 1.1842636271145459e-06, 'lambda_l2': 4.4206059945119235e-07}. Best is trial 55 with value: 6.323749374493319.\u001b[0m\n",
      "regularization_factors, val_score: 6.323749:  70%|#########################9           | 14/20 [00:12<00:05,  1.17it/s]"
     ]
    },
    {
     "name": "stdout",
     "output_type": "stream",
     "text": [
      "Training until validation scores don't improve for 100 rounds\n",
      "[100]\ttrain's rmse: 6.04828\teval's rmse: 6.95435\n",
      "[200]\ttrain's rmse: 4.92226\teval's rmse: 6.49972\n",
      "[300]\ttrain's rmse: 4.30889\teval's rmse: 6.3422\n"
     ]
    },
    {
     "name": "stderr",
     "output_type": "stream",
     "text": [
      "regularization_factors, val_score: 6.323749:  75%|###########################7         | 15/20 [00:13<00:04,  1.17it/s]\u001b[32m[I 2021-06-20 17:28:09,200]\u001b[0m Trial 57 finished with value: 6.34093560614879 and parameters: {'lambda_l1': 2.4488178060645542e-06, 'lambda_l2': 2.0263028599524e-06}. Best is trial 55 with value: 6.323749374493319.\u001b[0m\n",
      "regularization_factors, val_score: 6.323749:  75%|###########################7         | 15/20 [00:13<00:04,  1.17it/s]"
     ]
    },
    {
     "name": "stdout",
     "output_type": "stream",
     "text": [
      "[400]\ttrain's rmse: 3.90251\teval's rmse: 6.3713\n",
      "Early stopping, best iteration is:\n",
      "[343]\ttrain's rmse: 4.12455\teval's rmse: 6.34094\n",
      "Training until validation scores don't improve for 100 rounds\n",
      "[100]\ttrain's rmse: 6.06062\teval's rmse: 6.9761\n",
      "[200]\ttrain's rmse: 4.93145\teval's rmse: 6.57048\n",
      "[300]\ttrain's rmse: 4.30292\teval's rmse: 6.43288\n"
     ]
    },
    {
     "name": "stderr",
     "output_type": "stream",
     "text": [
      "regularization_factors, val_score: 6.323749:  80%|#############################6       | 16/20 [00:14<00:03,  1.18it/s]\u001b[32m[I 2021-06-20 17:28:10,017]\u001b[0m Trial 58 finished with value: 6.427620907022327 and parameters: {'lambda_l1': 1.9671316277699113e-08, 'lambda_l2': 0.0033607446037062496}. Best is trial 55 with value: 6.323749374493319.\u001b[0m\n"
     ]
    },
    {
     "name": "stdout",
     "output_type": "stream",
     "text": [
      "[400]\ttrain's rmse: 3.89084\teval's rmse: 6.44989\n",
      "Early stopping, best iteration is:\n",
      "[343]\ttrain's rmse: 4.11481\teval's rmse: 6.42762\n"
     ]
    },
    {
     "name": "stderr",
     "output_type": "stream",
     "text": [
      "\r",
      "regularization_factors, val_score: 6.323749:  80%|#############################6       | 16/20 [00:14<00:03,  1.18it/s]"
     ]
    },
    {
     "name": "stdout",
     "output_type": "stream",
     "text": [
      "Training until validation scores don't improve for 100 rounds\n",
      "[100]\ttrain's rmse: 6.04828\teval's rmse: 6.95435\n",
      "[200]\ttrain's rmse: 4.92226\teval's rmse: 6.49972\n",
      "[300]\ttrain's rmse: 4.31019\teval's rmse: 6.3399\n"
     ]
    },
    {
     "name": "stderr",
     "output_type": "stream",
     "text": [
      "\r",
      "regularization_factors, val_score: 6.321478:  80%|#############################6       | 16/20 [00:14<00:03,  1.18it/s]"
     ]
    },
    {
     "name": "stdout",
     "output_type": "stream",
     "text": [
      "[400]\ttrain's rmse: 3.89394\teval's rmse: 6.34248\n",
      "Early stopping, best iteration is:\n",
      "[350]\ttrain's rmse: 4.08648\teval's rmse: 6.32148\n"
     ]
    },
    {
     "name": "stderr",
     "output_type": "stream",
     "text": [
      "regularization_factors, val_score: 6.321478:  85%|###############################4     | 17/20 [00:14<00:02,  1.17it/s]\u001b[32m[I 2021-06-20 17:28:10,901]\u001b[0m Trial 59 finished with value: 6.321477970067871 and parameters: {'lambda_l1': 1.357479966431774e-08, 'lambda_l2': 2.5348986395267523e-06}. Best is trial 59 with value: 6.321477970067871.\u001b[0m\n",
      "regularization_factors, val_score: 6.321478:  85%|###############################4     | 17/20 [00:14<00:02,  1.17it/s]"
     ]
    },
    {
     "name": "stdout",
     "output_type": "stream",
     "text": [
      "Training until validation scores don't improve for 100 rounds\n",
      "[100]\ttrain's rmse: 6.04828\teval's rmse: 6.95435\n",
      "[200]\ttrain's rmse: 4.92226\teval's rmse: 6.49972\n",
      "[300]\ttrain's rmse: 4.31119\teval's rmse: 6.34361\n"
     ]
    },
    {
     "name": "stderr",
     "output_type": "stream",
     "text": [
      "\r",
      "regularization_factors, val_score: 6.321478:  85%|###############################4     | 17/20 [00:15<00:02,  1.17it/s]"
     ]
    },
    {
     "name": "stdout",
     "output_type": "stream",
     "text": [
      "[400]\ttrain's rmse: 3.89381\teval's rmse: 6.36491\n",
      "Early stopping, best iteration is:\n",
      "[346]\ttrain's rmse: 4.11501\teval's rmse: 6.32251\n"
     ]
    },
    {
     "name": "stderr",
     "output_type": "stream",
     "text": [
      "regularization_factors, val_score: 6.321478:  90%|#################################3   | 18/20 [00:15<00:01,  1.15it/s]\u001b[32m[I 2021-06-20 17:28:11,788]\u001b[0m Trial 60 finished with value: 6.3225127496820415 and parameters: {'lambda_l1': 5.80984785634431e-06, 'lambda_l2': 2.6379829610617537e-06}. Best is trial 59 with value: 6.321477970067871.\u001b[0m\n",
      "regularization_factors, val_score: 6.321478:  90%|#################################3   | 18/20 [00:15<00:01,  1.15it/s]"
     ]
    },
    {
     "name": "stdout",
     "output_type": "stream",
     "text": [
      "Training until validation scores don't improve for 100 rounds\n",
      "[100]\ttrain's rmse: 6.05551\teval's rmse: 6.97197\n",
      "[200]\ttrain's rmse: 4.92381\teval's rmse: 6.58915\n",
      "[300]\ttrain's rmse: 4.31801\teval's rmse: 6.45226\n",
      "[400]\ttrain's rmse: 3.91039\teval's rmse: 6.44508\n",
      "[500]\ttrain's rmse: 3.60773\teval's rmse: 6.47136\n"
     ]
    },
    {
     "name": "stderr",
     "output_type": "stream",
     "text": [
      "regularization_factors, val_score: 6.321478:  95%|###################################1 | 19/20 [00:16<00:00,  1.11it/s]\u001b[32m[I 2021-06-20 17:28:12,775]\u001b[0m Trial 61 finished with value: 6.428619200162486 and parameters: {'lambda_l1': 0.0028682764426820016, 'lambda_l2': 4.72105332144326e-06}. Best is trial 59 with value: 6.321477970067871.\u001b[0m\n",
      "regularization_factors, val_score: 6.321478:  95%|###################################1 | 19/20 [00:16<00:00,  1.11it/s]"
     ]
    },
    {
     "name": "stdout",
     "output_type": "stream",
     "text": [
      "Early stopping, best iteration is:\n",
      "[430]\ttrain's rmse: 3.81748\teval's rmse: 6.42862\n",
      "Training until validation scores don't improve for 100 rounds\n",
      "[100]\ttrain's rmse: 6.07263\teval's rmse: 6.95692\n",
      "[200]\ttrain's rmse: 4.94982\teval's rmse: 6.53781\n",
      "[300]\ttrain's rmse: 4.33811\teval's rmse: 6.42266\n",
      "[400]\ttrain's rmse: 3.92143\teval's rmse: 6.38318\n",
      "[500]\ttrain's rmse: 3.61252\teval's rmse: 6.40537\n"
     ]
    },
    {
     "name": "stderr",
     "output_type": "stream",
     "text": [
      "regularization_factors, val_score: 6.321478: 100%|#####################################| 20/20 [00:17<00:00,  1.05it/s]\u001b[32m[I 2021-06-20 17:28:13,839]\u001b[0m Trial 62 finished with value: 6.369863318598323 and parameters: {'lambda_l1': 6.295942787196123e-06, 'lambda_l2': 0.010813555651085861}. Best is trial 59 with value: 6.321477970067871.\u001b[0m\n",
      "regularization_factors, val_score: 6.321478: 100%|#####################################| 20/20 [00:17<00:00,  1.12it/s]\n",
      "min_data_in_leaf, val_score: 6.321478:   0%|                                                     | 0/5 [00:00<?, ?it/s]"
     ]
    },
    {
     "name": "stdout",
     "output_type": "stream",
     "text": [
      "Early stopping, best iteration is:\n",
      "[451]\ttrain's rmse: 3.75715\teval's rmse: 6.36986\n",
      "Training until validation scores don't improve for 100 rounds\n",
      "[100]\ttrain's rmse: 6.34787\teval's rmse: 7.19524\n",
      "[200]\ttrain's rmse: 5.21924\teval's rmse: 6.65323\n",
      "[300]\ttrain's rmse: 4.62055\teval's rmse: 6.56762\n",
      "[400]\ttrain's rmse: 4.20194\teval's rmse: 6.55671\n"
     ]
    },
    {
     "name": "stderr",
     "output_type": "stream",
     "text": [
      "min_data_in_leaf, val_score: 6.321478:  20%|#########                                    | 1/5 [00:00<00:03,  1.19it/s]\u001b[32m[I 2021-06-20 17:28:14,687]\u001b[0m Trial 63 finished with value: 6.52221657178782 and parameters: {'min_child_samples': 25}. Best is trial 63 with value: 6.52221657178782.\u001b[0m\n",
      "min_data_in_leaf, val_score: 6.321478:  20%|#########                                    | 1/5 [00:00<00:03,  1.19it/s]"
     ]
    },
    {
     "name": "stdout",
     "output_type": "stream",
     "text": [
      "Early stopping, best iteration is:\n",
      "[344]\ttrain's rmse: 4.43459\teval's rmse: 6.52222\n",
      "Training until validation scores don't improve for 100 rounds\n",
      "[100]\ttrain's rmse: 8.50347\teval's rmse: 8.86289\n",
      "[200]\ttrain's rmse: 7.89037\teval's rmse: 8.37244\n",
      "[300]\ttrain's rmse: 7.56744\teval's rmse: 8.07852\n",
      "[400]\ttrain's rmse: 7.30068\teval's rmse: 7.90846\n",
      "[500]\ttrain's rmse: 7.09795\teval's rmse: 7.73819\n",
      "[600]\ttrain's rmse: 6.9282\teval's rmse: 7.62422\n",
      "[700]\ttrain's rmse: 6.76953\teval's rmse: 7.55885\n",
      "[800]\ttrain's rmse: 6.62262\teval's rmse: 7.4688\n",
      "[900]\ttrain's rmse: 6.50563\teval's rmse: 7.38413\n",
      "[1000]\ttrain's rmse: 6.41887\teval's rmse: 7.31561"
     ]
    },
    {
     "name": "stderr",
     "output_type": "stream",
     "text": [
      "min_data_in_leaf, val_score: 6.321478:  40%|##################                           | 2/5 [00:01<00:02,  1.18it/s]\u001b[32m[I 2021-06-20 17:28:15,540]\u001b[0m Trial 64 finished with value: 7.315611776189034 and parameters: {'min_child_samples': 100}. Best is trial 63 with value: 6.52221657178782.\u001b[0m\n",
      "min_data_in_leaf, val_score: 6.321478:  40%|##################                           | 2/5 [00:01<00:02,  1.18it/s]"
     ]
    },
    {
     "name": "stdout",
     "output_type": "stream",
     "text": [
      "\n",
      "Did not meet early stopping. Best iteration is:\n",
      "[1000]\ttrain's rmse: 6.41887\teval's rmse: 7.31561\n",
      "Training until validation scores don't improve for 100 rounds\n",
      "[100]\ttrain's rmse: 5.24676\teval's rmse: 6.50062\n",
      "[200]\ttrain's rmse: 4.23823\teval's rmse: 6.26465\n"
     ]
    },
    {
     "name": "stderr",
     "output_type": "stream",
     "text": [
      "min_data_in_leaf, val_score: 6.224877:  60%|###########################                  | 3/5 [00:02<00:01,  1.37it/s]\u001b[32m[I 2021-06-20 17:28:16,126]\u001b[0m Trial 65 finished with value: 6.224876517164645 and parameters: {'min_child_samples': 10}. Best is trial 65 with value: 6.224876517164645.\u001b[0m\n",
      "min_data_in_leaf, val_score: 6.224877:  60%|###########################                  | 3/5 [00:02<00:01,  1.37it/s]"
     ]
    },
    {
     "name": "stdout",
     "output_type": "stream",
     "text": [
      "[300]\ttrain's rmse: 3.70786\teval's rmse: 6.26164\n",
      "Early stopping, best iteration is:\n",
      "[237]\ttrain's rmse: 4.01104\teval's rmse: 6.22488\n",
      "Training until validation scores don't improve for 100 rounds\n",
      "[100]\ttrain's rmse: 4.96254\teval's rmse: 6.42578\n",
      "[200]\ttrain's rmse: 3.85711\teval's rmse: 6.24177\n"
     ]
    },
    {
     "name": "stderr",
     "output_type": "stream",
     "text": [
      "min_data_in_leaf, val_score: 6.208643:  80%|####################################         | 4/5 [00:02<00:00,  1.48it/s]\u001b[32m[I 2021-06-20 17:28:16,724]\u001b[0m Trial 66 finished with value: 6.208643084503683 and parameters: {'min_child_samples': 5}. Best is trial 66 with value: 6.208643084503683.\u001b[0m\n",
      "min_data_in_leaf, val_score: 6.208643:  80%|####################################         | 4/5 [00:02<00:00,  1.48it/s]"
     ]
    },
    {
     "name": "stdout",
     "output_type": "stream",
     "text": [
      "[300]\ttrain's rmse: 3.27777\teval's rmse: 6.24933\n",
      "Early stopping, best iteration is:\n",
      "[225]\ttrain's rmse: 3.68493\teval's rmse: 6.20864\n",
      "Training until validation scores don't improve for 100 rounds\n",
      "[100]\ttrain's rmse: 7.36532\teval's rmse: 7.78271\n",
      "[200]\ttrain's rmse: 6.4873\teval's rmse: 7.17809\n",
      "[300]\ttrain's rmse: 5.92944\teval's rmse: 6.89557\n",
      "[400]\ttrain's rmse: 5.55501\teval's rmse: 6.76527\n",
      "[500]\ttrain's rmse: 5.2762\teval's rmse: 6.67343\n",
      "[600]\ttrain's rmse: 5.06623\teval's rmse: 6.63813\n",
      "[700]\ttrain's rmse: 4.88619\teval's rmse: 6.6104\n",
      "[800]\ttrain's rmse: 4.71471\teval's rmse: 6.57682\n",
      "[900]\ttrain's rmse: 4.57527\teval's rmse: 6.60188\n"
     ]
    },
    {
     "name": "stderr",
     "output_type": "stream",
     "text": [
      "min_data_in_leaf, val_score: 6.208643: 100%|#############################################| 5/5 [00:03<00:00,  1.19it/s]\u001b[32m[I 2021-06-20 17:28:17,850]\u001b[0m Trial 67 finished with value: 6.569593228334644 and parameters: {'min_child_samples': 50}. Best is trial 66 with value: 6.208643084503683.\u001b[0m\n",
      "min_data_in_leaf, val_score: 6.208643: 100%|#############################################| 5/5 [00:04<00:00,  1.25it/s]"
     ]
    },
    {
     "name": "stdout",
     "output_type": "stream",
     "text": [
      "Early stopping, best iteration is:\n",
      "[843]\ttrain's rmse: 4.65059\teval's rmse: 6.56959\n"
     ]
    },
    {
     "name": "stderr",
     "output_type": "stream",
     "text": [
      "\n",
      "\u001b[32m[I 2021-06-20 17:28:17,896]\u001b[0m A new study created in memory with name: no-name-0db61dcd-a75c-4b86-8b7c-d19d8e1e3385\u001b[0m\n",
      "feature_fraction, val_score: inf:   0%|                                                          | 0/7 [00:00<?, ?it/s]"
     ]
    },
    {
     "name": "stdout",
     "output_type": "stream",
     "text": [
      "Training until validation scores don't improve for 100 rounds\n",
      "[100]\ttrain's rmse: 6.20515\teval's rmse: 7.71328\n",
      "[200]\ttrain's rmse: 5.29049\teval's rmse: 7.20925\n",
      "[300]\ttrain's rmse: 4.845\teval's rmse: 7.04591\n",
      "[400]\ttrain's rmse: 4.52181\teval's rmse: 6.93747\n",
      "[500]\ttrain's rmse: 4.26017\teval's rmse: 6.90108\n",
      "[600]\ttrain's rmse: 4.06304\teval's rmse: 6.87073\n",
      "[700]\ttrain's rmse: 3.90158\teval's rmse: 6.85782\n",
      "[800]\ttrain's rmse: 3.74705\teval's rmse: 6.83633\n",
      "Early stopping, best iteration is:\n",
      "[763]\ttrain's rmse: 3.80413\teval's rmse: 6.82067\n"
     ]
    },
    {
     "name": "stderr",
     "output_type": "stream",
     "text": [
      "feature_fraction, val_score: 6.820675:  14%|######4                                      | 1/7 [00:01<00:07,  1.32s/it]\u001b[32m[I 2021-06-20 17:28:19,225]\u001b[0m Trial 0 finished with value: 6.820674724717564 and parameters: {'feature_fraction': 0.5}. Best is trial 0 with value: 6.820674724717564.\u001b[0m\n",
      "feature_fraction, val_score: 6.820675:  14%|######4                                      | 1/7 [00:01<00:07,  1.32s/it]"
     ]
    },
    {
     "name": "stdout",
     "output_type": "stream",
     "text": [
      "Training until validation scores don't improve for 100 rounds\n",
      "[100]\ttrain's rmse: 5.78139\teval's rmse: 7.37505\n",
      "[200]\ttrain's rmse: 4.84496\teval's rmse: 6.96846\n",
      "[300]\ttrain's rmse: 4.37098\teval's rmse: 6.85215\n",
      "[400]\ttrain's rmse: 4.03958\teval's rmse: 6.80575\n",
      "[500]\ttrain's rmse: 3.75997\teval's rmse: 6.77547\n",
      "[600]\ttrain's rmse: 3.5466\teval's rmse: 6.76579\n",
      "[700]\ttrain's rmse: 3.35925\teval's rmse: 6.78516\n"
     ]
    },
    {
     "name": "stderr",
     "output_type": "stream",
     "text": [
      "feature_fraction, val_score: 6.756781:  29%|############8                                | 2/7 [00:02<00:06,  1.25s/it]"
     ]
    },
    {
     "name": "stdout",
     "output_type": "stream",
     "text": [
      "Early stopping, best iteration is:\n",
      "[659]\ttrain's rmse: 3.4395\teval's rmse: 6.75678\n"
     ]
    },
    {
     "name": "stderr",
     "output_type": "stream",
     "text": [
      "\u001b[32m[I 2021-06-20 17:28:20,422]\u001b[0m Trial 1 finished with value: 6.756781253346032 and parameters: {'feature_fraction': 0.8}. Best is trial 1 with value: 6.756781253346032.\u001b[0m\n",
      "feature_fraction, val_score: 6.756781:  29%|############8                                | 2/7 [00:02<00:06,  1.25s/it]"
     ]
    },
    {
     "name": "stdout",
     "output_type": "stream",
     "text": [
      "Training until validation scores don't improve for 100 rounds\n",
      "[100]\ttrain's rmse: 6.60475\teval's rmse: 7.9583\n",
      "[200]\ttrain's rmse: 5.64332\teval's rmse: 7.34642\n",
      "[300]\ttrain's rmse: 5.16111\teval's rmse: 7.12717\n",
      "[400]\ttrain's rmse: 4.81553\teval's rmse: 6.97889\n",
      "[500]\ttrain's rmse: 4.5508\teval's rmse: 6.89843\n",
      "[600]\ttrain's rmse: 4.35206\teval's rmse: 6.85323\n",
      "[700]\ttrain's rmse: 4.19241\teval's rmse: 6.83835\n",
      "[800]\ttrain's rmse: 4.02908\teval's rmse: 6.82675\n",
      "Early stopping, best iteration is:\n",
      "[746]\ttrain's rmse: 4.11801\teval's rmse: 6.8175\n"
     ]
    },
    {
     "name": "stderr",
     "output_type": "stream",
     "text": [
      "feature_fraction, val_score: 6.756781:  43%|###################2                         | 3/7 [00:03<00:04,  1.24s/it]\u001b[32m[I 2021-06-20 17:28:21,655]\u001b[0m Trial 2 finished with value: 6.8174954972423425 and parameters: {'feature_fraction': 0.4}. Best is trial 1 with value: 6.756781253346032.\u001b[0m\n",
      "feature_fraction, val_score: 6.756781:  43%|###################2                         | 3/7 [00:03<00:04,  1.24s/it]"
     ]
    },
    {
     "name": "stdout",
     "output_type": "stream",
     "text": [
      "Training until validation scores don't improve for 100 rounds\n",
      "[100]\ttrain's rmse: 5.6631\teval's rmse: 7.40411\n",
      "[200]\ttrain's rmse: 4.74312\teval's rmse: 7.02005\n",
      "[300]\ttrain's rmse: 4.26277\teval's rmse: 6.8648\n",
      "[400]\ttrain's rmse: 3.9058\teval's rmse: 6.83449\n",
      "[500]\ttrain's rmse: 3.60718\teval's rmse: 6.76699\n"
     ]
    },
    {
     "name": "stderr",
     "output_type": "stream",
     "text": [
      "feature_fraction, val_score: 6.756781:  57%|#########################7                   | 4/7 [00:04<00:03,  1.13s/it]\u001b[32m[I 2021-06-20 17:28:22,616]\u001b[0m Trial 3 finished with value: 6.766424259051247 and parameters: {'feature_fraction': 1.0}. Best is trial 1 with value: 6.756781253346032.\u001b[0m\n",
      "feature_fraction, val_score: 6.756781:  57%|#########################7                   | 4/7 [00:04<00:03,  1.13s/it]"
     ]
    },
    {
     "name": "stdout",
     "output_type": "stream",
     "text": [
      "Early stopping, best iteration is:\n",
      "[497]\ttrain's rmse: 3.61406\teval's rmse: 6.76642\n",
      "Training until validation scores don't improve for 100 rounds\n",
      "[100]\ttrain's rmse: 6.04352\teval's rmse: 7.5975\n",
      "[200]\ttrain's rmse: 5.14165\teval's rmse: 7.10367\n",
      "[300]\ttrain's rmse: 4.66011\teval's rmse: 6.94396\n",
      "[400]\ttrain's rmse: 4.3351\teval's rmse: 6.87302\n",
      "[500]\ttrain's rmse: 4.06592\teval's rmse: 6.82519\n",
      "[600]\ttrain's rmse: 3.86206\teval's rmse: 6.81307\n",
      "[700]\ttrain's rmse: 3.68339\teval's rmse: 6.80361\n",
      "[800]\ttrain's rmse: 3.5275\teval's rmse: 6.79664\n",
      "Early stopping, best iteration is:\n",
      "[743]\ttrain's rmse: 3.61233\teval's rmse: 6.77519\n"
     ]
    },
    {
     "name": "stderr",
     "output_type": "stream",
     "text": [
      "feature_fraction, val_score: 6.756781:  71%|################################1            | 5/7 [00:06<00:02,  1.19s/it]\u001b[32m[I 2021-06-20 17:28:23,925]\u001b[0m Trial 4 finished with value: 6.775187885593642 and parameters: {'feature_fraction': 0.6}. Best is trial 1 with value: 6.756781253346032.\u001b[0m\n",
      "feature_fraction, val_score: 6.756781:  71%|################################1            | 5/7 [00:06<00:02,  1.19s/it]"
     ]
    },
    {
     "name": "stdout",
     "output_type": "stream",
     "text": [
      "Training until validation scores don't improve for 100 rounds\n",
      "[100]\ttrain's rmse: 5.83569\teval's rmse: 7.44701\n",
      "[200]\ttrain's rmse: 4.93585\teval's rmse: 7.05254\n",
      "[300]\ttrain's rmse: 4.44516\teval's rmse: 6.86773\n",
      "[400]\ttrain's rmse: 4.1177\teval's rmse: 6.81678\n",
      "[500]\ttrain's rmse: 3.8473\teval's rmse: 6.7786\n",
      "[600]\ttrain's rmse: 3.6393\teval's rmse: 6.75359\n",
      "[700]\ttrain's rmse: 3.45107\teval's rmse: 6.74827\n",
      "[800]\ttrain's rmse: 3.2844\teval's rmse: 6.74454\n",
      "Early stopping, best iteration is:\n",
      "[754]\ttrain's rmse: 3.35872\teval's rmse: 6.72696\n"
     ]
    },
    {
     "name": "stderr",
     "output_type": "stream",
     "text": [
      "feature_fraction, val_score: 6.726959:  86%|######################################5      | 6/7 [00:07<00:01,  1.25s/it]\u001b[32m[I 2021-06-20 17:28:25,270]\u001b[0m Trial 5 finished with value: 6.726959324213773 and parameters: {'feature_fraction': 0.7}. Best is trial 5 with value: 6.726959324213773.\u001b[0m\n",
      "feature_fraction, val_score: 6.726959:  86%|######################################5      | 6/7 [00:07<00:01,  1.25s/it]"
     ]
    },
    {
     "name": "stdout",
     "output_type": "stream",
     "text": [
      "Training until validation scores don't improve for 100 rounds\n",
      "[100]\ttrain's rmse: 5.68827\teval's rmse: 7.34347\n",
      "[200]\ttrain's rmse: 4.75244\teval's rmse: 6.98451\n",
      "[300]\ttrain's rmse: 4.27762\teval's rmse: 6.86056\n",
      "[400]\ttrain's rmse: 3.94374\teval's rmse: 6.84371\n",
      "[500]\ttrain's rmse: 3.64849\teval's rmse: 6.78342\n"
     ]
    },
    {
     "name": "stderr",
     "output_type": "stream",
     "text": [
      "feature_fraction, val_score: 6.726959: 100%|#############################################| 7/7 [00:08<00:00,  1.15s/it]\u001b[32m[I 2021-06-20 17:28:26,214]\u001b[0m Trial 6 finished with value: 6.77554502247851 and parameters: {'feature_fraction': 0.8999999999999999}. Best is trial 5 with value: 6.726959324213773.\u001b[0m\n",
      "feature_fraction, val_score: 6.726959: 100%|#############################################| 7/7 [00:08<00:00,  1.19s/it]\n",
      "num_leaves, val_score: 6.726959:   0%|                                                          | 0/20 [00:00<?, ?it/s]"
     ]
    },
    {
     "name": "stdout",
     "output_type": "stream",
     "text": [
      "Early stopping, best iteration is:\n",
      "[491]\ttrain's rmse: 3.671\teval's rmse: 6.77555\n",
      "Training until validation scores don't improve for 100 rounds\n",
      "[100]\ttrain's rmse: 5.69388\teval's rmse: 7.45659\n",
      "[200]\ttrain's rmse: 4.72922\teval's rmse: 7.06234\n",
      "[300]\ttrain's rmse: 4.19872\teval's rmse: 6.91935\n",
      "[400]\ttrain's rmse: 3.83746\teval's rmse: 6.86997\n",
      "[500]\ttrain's rmse: 3.54021\teval's rmse: 6.82512\n",
      "[600]\ttrain's rmse: 3.31334\teval's rmse: 6.79656\n",
      "[700]\ttrain's rmse: 3.11205\teval's rmse: 6.82242\n",
      "Early stopping, best iteration is:\n",
      "[614]\ttrain's rmse: 3.28275\teval's rmse: 6.79451\n"
     ]
    },
    {
     "name": "stderr",
     "output_type": "stream",
     "text": [
      "num_leaves, val_score: 6.726959:   5%|##5                                               | 1/20 [00:01<00:27,  1.47s/it]\u001b[32m[I 2021-06-20 17:28:27,693]\u001b[0m Trial 7 finished with value: 6.794508094905798 and parameters: {'num_leaves': 126}. Best is trial 7 with value: 6.794508094905798.\u001b[0m\n",
      "num_leaves, val_score: 6.726959:   5%|##5                                               | 1/20 [00:01<00:27,  1.47s/it]"
     ]
    },
    {
     "name": "stdout",
     "output_type": "stream",
     "text": [
      "Training until validation scores don't improve for 100 rounds\n",
      "[100]\ttrain's rmse: 5.69388\teval's rmse: 7.45659\n",
      "[200]\ttrain's rmse: 4.72922\teval's rmse: 7.06234\n",
      "[300]\ttrain's rmse: 4.19872\teval's rmse: 6.91935\n",
      "[400]\ttrain's rmse: 3.83746\teval's rmse: 6.86997\n",
      "[500]\ttrain's rmse: 3.54021\teval's rmse: 6.82512\n",
      "[600]\ttrain's rmse: 3.31334\teval's rmse: 6.79656\n",
      "[700]\ttrain's rmse: 3.11205\teval's rmse: 6.82242\n",
      "Early stopping, best iteration is:\n",
      "[614]\ttrain's rmse: 3.28275\teval's rmse: 6.79451\n"
     ]
    },
    {
     "name": "stderr",
     "output_type": "stream",
     "text": [
      "num_leaves, val_score: 6.726959:  10%|#####                                             | 2/20 [00:02<00:27,  1.50s/it]\u001b[32m[I 2021-06-20 17:28:29,219]\u001b[0m Trial 8 finished with value: 6.794508094905798 and parameters: {'num_leaves': 220}. Best is trial 7 with value: 6.794508094905798.\u001b[0m\n",
      "num_leaves, val_score: 6.726959:  10%|#####                                             | 2/20 [00:02<00:27,  1.50s/it]"
     ]
    },
    {
     "name": "stdout",
     "output_type": "stream",
     "text": [
      "Training until validation scores don't improve for 100 rounds\n",
      "[100]\ttrain's rmse: 5.69388\teval's rmse: 7.45659\n",
      "[200]\ttrain's rmse: 4.72922\teval's rmse: 7.06234\n",
      "[300]\ttrain's rmse: 4.19872\teval's rmse: 6.91935\n",
      "[400]\ttrain's rmse: 3.83746\teval's rmse: 6.86997\n",
      "[500]\ttrain's rmse: 3.54021\teval's rmse: 6.82512\n",
      "[600]\ttrain's rmse: 3.31334\teval's rmse: 6.79656\n",
      "[700]\ttrain's rmse: 3.11205\teval's rmse: 6.82242\n",
      "Early stopping, best iteration is:\n",
      "[614]\ttrain's rmse: 3.28275\teval's rmse: 6.79451\n"
     ]
    },
    {
     "name": "stderr",
     "output_type": "stream",
     "text": [
      "num_leaves, val_score: 6.726959:  15%|#######5                                          | 3/20 [00:04<00:25,  1.48s/it]\u001b[32m[I 2021-06-20 17:28:30,666]\u001b[0m Trial 9 finished with value: 6.794508094905798 and parameters: {'num_leaves': 98}. Best is trial 7 with value: 6.794508094905798.\u001b[0m\n",
      "num_leaves, val_score: 6.726959:  15%|#######5                                          | 3/20 [00:04<00:25,  1.48s/it]"
     ]
    },
    {
     "name": "stdout",
     "output_type": "stream",
     "text": [
      "Training until validation scores don't improve for 100 rounds\n",
      "[100]\ttrain's rmse: 5.84019\teval's rmse: 7.49778\n",
      "[200]\ttrain's rmse: 4.91909\teval's rmse: 7.09585\n",
      "[300]\ttrain's rmse: 4.42141\teval's rmse: 6.91969\n",
      "[400]\ttrain's rmse: 4.08249\teval's rmse: 6.84792\n",
      "[500]\ttrain's rmse: 3.80951\teval's rmse: 6.7981\n",
      "[600]\ttrain's rmse: 3.60351\teval's rmse: 6.79512\n",
      "[700]\ttrain's rmse: 3.41448\teval's rmse: 6.78923\n",
      "Early stopping, best iteration is:\n",
      "[660]\ttrain's rmse: 3.49023\teval's rmse: 6.77137\n"
     ]
    },
    {
     "name": "stderr",
     "output_type": "stream",
     "text": [
      "num_leaves, val_score: 6.726959:  20%|##########                                        | 4/20 [00:05<00:22,  1.38s/it]\u001b[32m[I 2021-06-20 17:28:31,906]\u001b[0m Trial 10 finished with value: 6.7713702823079185 and parameters: {'num_leaves': 32}. Best is trial 10 with value: 6.7713702823079185.\u001b[0m\n",
      "num_leaves, val_score: 6.726959:  20%|##########                                        | 4/20 [00:05<00:22,  1.38s/it]"
     ]
    },
    {
     "name": "stdout",
     "output_type": "stream",
     "text": [
      "Training until validation scores don't improve for 100 rounds\n",
      "[100]\ttrain's rmse: 5.69388\teval's rmse: 7.45659\n",
      "[200]\ttrain's rmse: 4.72922\teval's rmse: 7.06234\n",
      "[300]\ttrain's rmse: 4.19872\teval's rmse: 6.91935\n",
      "[400]\ttrain's rmse: 3.83746\teval's rmse: 6.86997\n",
      "[500]\ttrain's rmse: 3.54021\teval's rmse: 6.82512\n",
      "[600]\ttrain's rmse: 3.31334\teval's rmse: 6.79656\n",
      "[700]\ttrain's rmse: 3.11205\teval's rmse: 6.82242\n",
      "Early stopping, best iteration is:\n",
      "[614]\ttrain's rmse: 3.28275\teval's rmse: 6.79451\n"
     ]
    },
    {
     "name": "stderr",
     "output_type": "stream",
     "text": [
      "num_leaves, val_score: 6.726959:  25%|############5                                     | 5/20 [00:07<00:21,  1.45s/it]\u001b[32m[I 2021-06-20 17:28:33,481]\u001b[0m Trial 11 finished with value: 6.794508094905798 and parameters: {'num_leaves': 197}. Best is trial 10 with value: 6.7713702823079185.\u001b[0m\n",
      "num_leaves, val_score: 6.726959:  25%|############5                                     | 5/20 [00:07<00:21,  1.45s/it]"
     ]
    },
    {
     "name": "stdout",
     "output_type": "stream",
     "text": [
      "Training until validation scores don't improve for 100 rounds\n",
      "[100]\ttrain's rmse: 5.69388\teval's rmse: 7.45659\n",
      "[200]\ttrain's rmse: 4.72922\teval's rmse: 7.06234\n",
      "[300]\ttrain's rmse: 4.19872\teval's rmse: 6.91935\n",
      "[400]\ttrain's rmse: 3.83746\teval's rmse: 6.86997\n",
      "[500]\ttrain's rmse: 3.54021\teval's rmse: 6.82512\n",
      "[600]\ttrain's rmse: 3.31334\teval's rmse: 6.79656\n",
      "[700]\ttrain's rmse: 3.11205\teval's rmse: 6.82242\n",
      "Early stopping, best iteration is:\n",
      "[614]\ttrain's rmse: 3.28275\teval's rmse: 6.79451\n"
     ]
    },
    {
     "name": "stderr",
     "output_type": "stream",
     "text": [
      "num_leaves, val_score: 6.726959:  30%|###############                                   | 6/20 [00:08<00:20,  1.47s/it]\u001b[32m[I 2021-06-20 17:28:34,973]\u001b[0m Trial 12 finished with value: 6.794508094905798 and parameters: {'num_leaves': 178}. Best is trial 10 with value: 6.7713702823079185.\u001b[0m\n",
      "num_leaves, val_score: 6.726959:  30%|###############                                   | 6/20 [00:08<00:20,  1.47s/it]"
     ]
    },
    {
     "name": "stdout",
     "output_type": "stream",
     "text": [
      "Training until validation scores don't improve for 100 rounds\n",
      "[100]\ttrain's rmse: 5.69388\teval's rmse: 7.45659\n",
      "[200]\ttrain's rmse: 4.72922\teval's rmse: 7.06234\n",
      "[300]\ttrain's rmse: 4.19872\teval's rmse: 6.91935\n",
      "[400]\ttrain's rmse: 3.83746\teval's rmse: 6.86997\n",
      "[500]\ttrain's rmse: 3.54021\teval's rmse: 6.82512\n",
      "[600]\ttrain's rmse: 3.31334\teval's rmse: 6.79656\n",
      "[700]\ttrain's rmse: 3.11205\teval's rmse: 6.82242\n",
      "Early stopping, best iteration is:\n",
      "[614]\ttrain's rmse: 3.28275\teval's rmse: 6.79451\n"
     ]
    },
    {
     "name": "stderr",
     "output_type": "stream",
     "text": [
      "num_leaves, val_score: 6.726959:  35%|#################5                                | 7/20 [00:10<00:19,  1.47s/it]\u001b[32m[I 2021-06-20 17:28:36,438]\u001b[0m Trial 13 finished with value: 6.794508094905798 and parameters: {'num_leaves': 82}. Best is trial 10 with value: 6.7713702823079185.\u001b[0m\n",
      "num_leaves, val_score: 6.726959:  35%|#################5                                | 7/20 [00:10<00:19,  1.47s/it]"
     ]
    },
    {
     "name": "stdout",
     "output_type": "stream",
     "text": [
      "Training until validation scores don't improve for 100 rounds\n",
      "[100]\ttrain's rmse: 5.69388\teval's rmse: 7.45659\n",
      "[200]\ttrain's rmse: 4.72922\teval's rmse: 7.06234\n",
      "[300]\ttrain's rmse: 4.19872\teval's rmse: 6.91935\n",
      "[400]\ttrain's rmse: 3.83746\teval's rmse: 6.86997\n",
      "[500]\ttrain's rmse: 3.54021\teval's rmse: 6.82512\n",
      "[600]\ttrain's rmse: 3.31334\teval's rmse: 6.79656\n",
      "[700]\ttrain's rmse: 3.11205\teval's rmse: 6.82242\n",
      "Early stopping, best iteration is:\n",
      "[614]\ttrain's rmse: 3.28275\teval's rmse: 6.79451\n"
     ]
    },
    {
     "name": "stderr",
     "output_type": "stream",
     "text": [
      "num_leaves, val_score: 6.726959:  40%|####################                              | 8/20 [00:11<00:17,  1.48s/it]\u001b[32m[I 2021-06-20 17:28:37,934]\u001b[0m Trial 14 finished with value: 6.794508094905798 and parameters: {'num_leaves': 182}. Best is trial 10 with value: 6.7713702823079185.\u001b[0m\n",
      "num_leaves, val_score: 6.726959:  40%|####################                              | 8/20 [00:11<00:17,  1.48s/it]"
     ]
    },
    {
     "name": "stdout",
     "output_type": "stream",
     "text": [
      "Training until validation scores don't improve for 100 rounds\n",
      "[100]\ttrain's rmse: 5.69388\teval's rmse: 7.45659\n",
      "[200]\ttrain's rmse: 4.72922\teval's rmse: 7.06234\n",
      "[300]\ttrain's rmse: 4.19872\teval's rmse: 6.91935\n",
      "[400]\ttrain's rmse: 3.83746\teval's rmse: 6.86997\n",
      "[500]\ttrain's rmse: 3.54021\teval's rmse: 6.82512\n",
      "[600]\ttrain's rmse: 3.31334\teval's rmse: 6.79656\n",
      "[700]\ttrain's rmse: 3.11205\teval's rmse: 6.82242\n",
      "Early stopping, best iteration is:\n",
      "[614]\ttrain's rmse: 3.28275\teval's rmse: 6.79451\n"
     ]
    },
    {
     "name": "stderr",
     "output_type": "stream",
     "text": [
      "num_leaves, val_score: 6.726959:  45%|######################5                           | 9/20 [00:13<00:16,  1.50s/it]\u001b[32m[I 2021-06-20 17:28:39,482]\u001b[0m Trial 15 finished with value: 6.794508094905798 and parameters: {'num_leaves': 173}. Best is trial 10 with value: 6.7713702823079185.\u001b[0m\n",
      "num_leaves, val_score: 6.726959:  45%|######################5                           | 9/20 [00:13<00:16,  1.50s/it]"
     ]
    },
    {
     "name": "stdout",
     "output_type": "stream",
     "text": [
      "Training until validation scores don't improve for 100 rounds\n",
      "[100]\ttrain's rmse: 5.69388\teval's rmse: 7.45659\n",
      "[200]\ttrain's rmse: 4.72922\teval's rmse: 7.06234\n",
      "[300]\ttrain's rmse: 4.19872\teval's rmse: 6.91935\n",
      "[400]\ttrain's rmse: 3.83746\teval's rmse: 6.86997\n",
      "[500]\ttrain's rmse: 3.54021\teval's rmse: 6.82512\n",
      "[600]\ttrain's rmse: 3.31334\teval's rmse: 6.79656\n",
      "[700]\ttrain's rmse: 3.11205\teval's rmse: 6.82242\n",
      "Early stopping, best iteration is:\n",
      "[614]\ttrain's rmse: 3.28275\teval's rmse: 6.79451\n"
     ]
    },
    {
     "name": "stderr",
     "output_type": "stream",
     "text": [
      "num_leaves, val_score: 6.726959:  50%|########################5                        | 10/20 [00:15<00:15,  1.59s/it]\u001b[32m[I 2021-06-20 17:28:41,285]\u001b[0m Trial 16 finished with value: 6.794508094905798 and parameters: {'num_leaves': 194}. Best is trial 10 with value: 6.7713702823079185.\u001b[0m\n",
      "num_leaves, val_score: 6.726959:  50%|########################5                        | 10/20 [00:15<00:15,  1.59s/it]"
     ]
    },
    {
     "name": "stdout",
     "output_type": "stream",
     "text": [
      "Training until validation scores don't improve for 100 rounds\n",
      "[100]\ttrain's rmse: 7.17178\teval's rmse: 8.16835\n",
      "[200]\ttrain's rmse: 6.48596\teval's rmse: 7.69287\n",
      "[300]\ttrain's rmse: 6.09896\teval's rmse: 7.44418\n",
      "[400]\ttrain's rmse: 5.84628\teval's rmse: 7.26563\n",
      "[500]\ttrain's rmse: 5.64409\teval's rmse: 7.12251\n",
      "[600]\ttrain's rmse: 5.49184\teval's rmse: 7.03406\n",
      "[700]\ttrain's rmse: 5.36889\teval's rmse: 6.94636\n",
      "[800]\ttrain's rmse: 5.25931\teval's rmse: 6.8815\n",
      "[900]\ttrain's rmse: 5.17314\teval's rmse: 6.87108\n"
     ]
    },
    {
     "name": "stderr",
     "output_type": "stream",
     "text": [
      "num_leaves, val_score: 6.726959:  55%|##########################9                      | 11/20 [00:15<00:11,  1.30s/it]\u001b[32m[I 2021-06-20 17:28:41,931]\u001b[0m Trial 17 finished with value: 6.8651301413787476 and parameters: {'num_leaves': 7}. Best is trial 10 with value: 6.7713702823079185.\u001b[0m\n",
      "num_leaves, val_score: 6.726959:  55%|##########################9                      | 11/20 [00:15<00:11,  1.30s/it]"
     ]
    },
    {
     "name": "stdout",
     "output_type": "stream",
     "text": [
      "[1000]\ttrain's rmse: 5.09723\teval's rmse: 6.86513\n",
      "Did not meet early stopping. Best iteration is:\n",
      "[1000]\ttrain's rmse: 5.09723\teval's rmse: 6.86513\n",
      "Training until validation scores don't improve for 100 rounds\n",
      "[100]\ttrain's rmse: 6.80277\teval's rmse: 7.86883\n",
      "[200]\ttrain's rmse: 6.08718\teval's rmse: 7.36834\n",
      "[300]\ttrain's rmse: 5.68606\teval's rmse: 7.14012\n",
      "[400]\ttrain's rmse: 5.41947\teval's rmse: 7.00742\n",
      "[500]\ttrain's rmse: 5.21514\teval's rmse: 6.90049\n",
      "[600]\ttrain's rmse: 5.06758\teval's rmse: 6.82949\n",
      "[700]\ttrain's rmse: 4.93724\teval's rmse: 6.77695\n",
      "[800]\ttrain's rmse: 4.82477\teval's rmse: 6.73571\n"
     ]
    },
    {
     "name": "stderr",
     "output_type": "stream",
     "text": [
      "num_leaves, val_score: 6.726959:  60%|#############################4                   | 12/20 [00:16<00:08,  1.12s/it]\u001b[32m[I 2021-06-20 17:28:42,635]\u001b[0m Trial 18 finished with value: 6.735109891579835 and parameters: {'num_leaves': 10}. Best is trial 18 with value: 6.735109891579835.\u001b[0m\n",
      "num_leaves, val_score: 6.726959:  60%|#############################4                   | 12/20 [00:16<00:08,  1.12s/it]"
     ]
    },
    {
     "name": "stdout",
     "output_type": "stream",
     "text": [
      "Early stopping, best iteration is:\n",
      "[796]\ttrain's rmse: 4.82921\teval's rmse: 6.73511\n",
      "Training until validation scores don't improve for 100 rounds\n",
      "[100]\ttrain's rmse: 8.10455\teval's rmse: 8.87861\n",
      "[200]\ttrain's rmse: 7.48249\teval's rmse: 8.35338\n",
      "[300]\ttrain's rmse: 7.21902\teval's rmse: 8.19813\n",
      "[400]\ttrain's rmse: 7.01278\teval's rmse: 7.99099\n",
      "[500]\ttrain's rmse: 6.85075\teval's rmse: 7.89015\n",
      "[600]\ttrain's rmse: 6.73737\teval's rmse: 7.79959\n",
      "[700]\ttrain's rmse: 6.62547\teval's rmse: 7.70117\n",
      "[800]\ttrain's rmse: 6.53617\teval's rmse: 7.64339\n"
     ]
    },
    {
     "name": "stderr",
     "output_type": "stream",
     "text": [
      "num_leaves, val_score: 6.726959:  65%|###############################8                 | 13/20 [00:16<00:06,  1.09it/s]\u001b[32m[I 2021-06-20 17:28:43,095]\u001b[0m Trial 19 finished with value: 7.530410139571046 and parameters: {'num_leaves': 3}. Best is trial 18 with value: 6.735109891579835.\u001b[0m\n",
      "num_leaves, val_score: 6.726959:  65%|###############################8                 | 13/20 [00:16<00:06,  1.09it/s]"
     ]
    },
    {
     "name": "stdout",
     "output_type": "stream",
     "text": [
      "[900]\ttrain's rmse: 6.45392\teval's rmse: 7.59149\n",
      "[1000]\ttrain's rmse: 6.38271\teval's rmse: 7.53041\n",
      "Did not meet early stopping. Best iteration is:\n",
      "[1000]\ttrain's rmse: 6.38271\teval's rmse: 7.53041\n",
      "Training until validation scores don't improve for 100 rounds\n",
      "[100]\ttrain's rmse: 5.72233\teval's rmse: 7.47238\n",
      "[200]\ttrain's rmse: 4.7466\teval's rmse: 7.0366\n",
      "[300]\ttrain's rmse: 4.22354\teval's rmse: 6.8775\n",
      "[400]\ttrain's rmse: 3.85791\teval's rmse: 6.83809\n",
      "[500]\ttrain's rmse: 3.56478\teval's rmse: 6.7983\n",
      "[600]\ttrain's rmse: 3.34057\teval's rmse: 6.79715\n",
      "Early stopping, best iteration is:\n",
      "[546]\ttrain's rmse: 3.45952\teval's rmse: 6.76993\n"
     ]
    },
    {
     "name": "stderr",
     "output_type": "stream",
     "text": [
      "num_leaves, val_score: 6.726959:  70%|##################################3              | 14/20 [00:18<00:06,  1.01s/it]\u001b[32m[I 2021-06-20 17:28:44,317]\u001b[0m Trial 20 finished with value: 6.7699261725638635 and parameters: {'num_leaves': 43}. Best is trial 18 with value: 6.735109891579835.\u001b[0m\n",
      "num_leaves, val_score: 6.726959:  70%|##################################3              | 14/20 [00:18<00:06,  1.01s/it]"
     ]
    },
    {
     "name": "stdout",
     "output_type": "stream",
     "text": [
      "Training until validation scores don't improve for 100 rounds\n",
      "[100]\ttrain's rmse: 5.69173\teval's rmse: 7.47092\n",
      "[200]\ttrain's rmse: 4.72163\teval's rmse: 7.06303\n",
      "[300]\ttrain's rmse: 4.19497\teval's rmse: 6.90156\n",
      "[400]\ttrain's rmse: 3.82769\teval's rmse: 6.86478\n",
      "[500]\ttrain's rmse: 3.5329\teval's rmse: 6.80212\n",
      "[600]\ttrain's rmse: 3.30231\teval's rmse: 6.81765\n",
      "Early stopping, best iteration is:\n",
      "[545]\ttrain's rmse: 3.4219\teval's rmse: 6.79812\n"
     ]
    },
    {
     "name": "stderr",
     "output_type": "stream",
     "text": [
      "num_leaves, val_score: 6.726959:  75%|####################################7            | 15/20 [00:19<00:05,  1.09s/it]\u001b[32m[I 2021-06-20 17:28:45,603]\u001b[0m Trial 21 finished with value: 6.798122123441101 and parameters: {'num_leaves': 49}. Best is trial 18 with value: 6.735109891579835.\u001b[0m\n",
      "num_leaves, val_score: 6.726959:  75%|####################################7            | 15/20 [00:19<00:05,  1.09s/it]"
     ]
    },
    {
     "name": "stdout",
     "output_type": "stream",
     "text": [
      "Training until validation scores don't improve for 100 rounds\n",
      "[100]\ttrain's rmse: 5.6939\teval's rmse: 7.45665\n",
      "[200]\ttrain's rmse: 4.72124\teval's rmse: 7.0724\n",
      "[300]\ttrain's rmse: 4.18448\teval's rmse: 6.909\n",
      "[400]\ttrain's rmse: 3.80575\teval's rmse: 6.85032\n",
      "[500]\ttrain's rmse: 3.51253\teval's rmse: 6.81198\n",
      "[600]\ttrain's rmse: 3.28802\teval's rmse: 6.80016\n",
      "[700]\ttrain's rmse: 3.08672\teval's rmse: 6.80972\n",
      "Early stopping, best iteration is:\n",
      "[661]\ttrain's rmse: 3.16524\teval's rmse: 6.7825\n"
     ]
    },
    {
     "name": "stderr",
     "output_type": "stream",
     "text": [
      "num_leaves, val_score: 6.726959:  80%|#######################################2         | 16/20 [00:20<00:04,  1.22s/it]\u001b[32m[I 2021-06-20 17:28:47,125]\u001b[0m Trial 22 finished with value: 6.782495122090498 and parameters: {'num_leaves': 52}. Best is trial 18 with value: 6.735109891579835.\u001b[0m\n",
      "num_leaves, val_score: 6.726959:  80%|#######################################2         | 16/20 [00:20<00:04,  1.22s/it]"
     ]
    },
    {
     "name": "stdout",
     "output_type": "stream",
     "text": [
      "Training until validation scores don't improve for 100 rounds\n",
      "[100]\ttrain's rmse: 6.15669\teval's rmse: 7.51354\n",
      "[200]\ttrain's rmse: 5.31746\teval's rmse: 7.07839\n",
      "[300]\ttrain's rmse: 4.88103\teval's rmse: 6.91596\n",
      "[400]\ttrain's rmse: 4.58565\teval's rmse: 6.80606\n",
      "[500]\ttrain's rmse: 4.3541\teval's rmse: 6.76464\n",
      "[600]\ttrain's rmse: 4.17809\teval's rmse: 6.73209\n",
      "[700]\ttrain's rmse: 4.02305\teval's rmse: 6.71979\n",
      "[800]\ttrain's rmse: 3.87946\teval's rmse: 6.71671\n"
     ]
    },
    {
     "name": "stderr",
     "output_type": "stream",
     "text": [
      "num_leaves, val_score: 6.700441:  85%|#########################################6       | 17/20 [00:21<00:03,  1.18s/it]\u001b[32m[I 2021-06-20 17:28:48,198]\u001b[0m Trial 23 finished with value: 6.700440580169815 and parameters: {'num_leaves': 20}. Best is trial 23 with value: 6.700440580169815.\u001b[0m\n",
      "num_leaves, val_score: 6.700441:  85%|#########################################6       | 17/20 [00:21<00:03,  1.18s/it]"
     ]
    },
    {
     "name": "stdout",
     "output_type": "stream",
     "text": [
      "Early stopping, best iteration is:\n",
      "[747]\ttrain's rmse: 3.9569\teval's rmse: 6.70044\n",
      "Training until validation scores don't improve for 100 rounds\n",
      "[100]\ttrain's rmse: 7.78586\teval's rmse: 8.58121\n",
      "[200]\ttrain's rmse: 7.23099\teval's rmse: 8.1994\n",
      "[300]\ttrain's rmse: 6.88699\teval's rmse: 7.94497\n",
      "[400]\ttrain's rmse: 6.64389\teval's rmse: 7.73613\n",
      "[500]\ttrain's rmse: 6.44293\teval's rmse: 7.61924\n",
      "[600]\ttrain's rmse: 6.29923\teval's rmse: 7.52555\n",
      "[700]\ttrain's rmse: 6.16309\teval's rmse: 7.40744\n",
      "[800]\ttrain's rmse: 6.05289\teval's rmse: 7.31009\n",
      "[900]\ttrain's rmse: 5.94746\teval's rmse: 7.24905\n",
      "[1000]\ttrain's rmse: 5.86328\teval's rmse: 7.19642\n",
      "Did not meet early stopping. Best iteration is:\n",
      "[1000]\ttrain's rmse: 5.86328\teval's rmse: 7.19642\n"
     ]
    },
    {
     "name": "stderr",
     "output_type": "stream",
     "text": [
      "num_leaves, val_score: 6.700441:  90%|############################################1    | 18/20 [00:22<00:01,  1.01it/s]\u001b[32m[I 2021-06-20 17:28:48,754]\u001b[0m Trial 24 finished with value: 7.196422876273996 and parameters: {'num_leaves': 4}. Best is trial 23 with value: 6.700440580169815.\u001b[0m\n",
      "num_leaves, val_score: 6.700441:  90%|############################################1    | 18/20 [00:22<00:01,  1.01it/s]"
     ]
    },
    {
     "name": "stdout",
     "output_type": "stream",
     "text": [
      "Training until validation scores don't improve for 100 rounds\n",
      "[100]\ttrain's rmse: 5.69388\teval's rmse: 7.45659\n",
      "[200]\ttrain's rmse: 4.72922\teval's rmse: 7.06234\n",
      "[300]\ttrain's rmse: 4.19872\teval's rmse: 6.91935\n",
      "[400]\ttrain's rmse: 3.83746\teval's rmse: 6.86997\n",
      "[500]\ttrain's rmse: 3.54021\teval's rmse: 6.82512\n",
      "[600]\ttrain's rmse: 3.31334\teval's rmse: 6.79656\n",
      "[700]\ttrain's rmse: 3.11205\teval's rmse: 6.82242\n",
      "Early stopping, best iteration is:\n",
      "[614]\ttrain's rmse: 3.28275\teval's rmse: 6.79451\n"
     ]
    },
    {
     "name": "stderr",
     "output_type": "stream",
     "text": [
      "num_leaves, val_score: 6.700441:  95%|##############################################5  | 19/20 [00:23<00:01,  1.13s/it]\u001b[32m[I 2021-06-20 17:28:50,194]\u001b[0m Trial 25 finished with value: 6.794508094905798 and parameters: {'num_leaves': 82}. Best is trial 23 with value: 6.700440580169815.\u001b[0m\n",
      "num_leaves, val_score: 6.700441:  95%|##############################################5  | 19/20 [00:23<00:01,  1.13s/it]"
     ]
    },
    {
     "name": "stdout",
     "output_type": "stream",
     "text": [
      "Training until validation scores don't improve for 100 rounds\n",
      "[100]\ttrain's rmse: 5.69388\teval's rmse: 7.45659\n",
      "[200]\ttrain's rmse: 4.72922\teval's rmse: 7.06234\n",
      "[300]\ttrain's rmse: 4.19872\teval's rmse: 6.91935\n",
      "[400]\ttrain's rmse: 3.83746\teval's rmse: 6.86997\n",
      "[500]\ttrain's rmse: 3.54021\teval's rmse: 6.82512\n",
      "[600]\ttrain's rmse: 3.31334\teval's rmse: 6.79656\n",
      "[700]\ttrain's rmse: 3.11205\teval's rmse: 6.82242\n",
      "Early stopping, best iteration is:\n",
      "[614]\ttrain's rmse: 3.28275\teval's rmse: 6.79451\n"
     ]
    },
    {
     "name": "stderr",
     "output_type": "stream",
     "text": [
      "num_leaves, val_score: 6.700441: 100%|#################################################| 20/20 [00:25<00:00,  1.23s/it]\u001b[32m[I 2021-06-20 17:28:51,658]\u001b[0m Trial 26 finished with value: 6.794508094905798 and parameters: {'num_leaves': 136}. Best is trial 23 with value: 6.700440580169815.\u001b[0m\n",
      "num_leaves, val_score: 6.700441: 100%|#################################################| 20/20 [00:25<00:00,  1.27s/it]\n",
      "bagging, val_score: 6.700441:   0%|                                                             | 0/10 [00:00<?, ?it/s]"
     ]
    },
    {
     "name": "stdout",
     "output_type": "stream",
     "text": [
      "Training until validation scores don't improve for 100 rounds\n",
      "[100]\ttrain's rmse: 6.03106\teval's rmse: 7.49201\n",
      "[200]\ttrain's rmse: 5.22506\teval's rmse: 7.05259\n",
      "[300]\ttrain's rmse: 4.80832\teval's rmse: 6.85921\n",
      "[400]\ttrain's rmse: 4.51692\teval's rmse: 6.80541\n",
      "[500]\ttrain's rmse: 4.29108\teval's rmse: 6.77425\n",
      "[600]\ttrain's rmse: 4.11134\teval's rmse: 6.72978\n",
      "[700]\ttrain's rmse: 3.95953\teval's rmse: 6.71184\n",
      "[800]\ttrain's rmse: 3.82406\teval's rmse: 6.69088\n"
     ]
    },
    {
     "name": "stderr",
     "output_type": "stream",
     "text": [
      "bagging, val_score: 6.683375:  10%|#####3                                               | 1/10 [00:01<00:09,  1.10s/it]\u001b[32m[I 2021-06-20 17:28:52,771]\u001b[0m Trial 27 finished with value: 6.683375060482036 and parameters: {'bagging_fraction': 0.8999306811592023, 'bagging_freq': 2}. Best is trial 27 with value: 6.683375060482036.\u001b[0m\n",
      "bagging, val_score: 6.683375:  10%|#####3                                               | 1/10 [00:01<00:09,  1.10s/it]"
     ]
    },
    {
     "name": "stdout",
     "output_type": "stream",
     "text": [
      "[900]\ttrain's rmse: 3.70432\teval's rmse: 6.68849\n",
      "Early stopping, best iteration is:\n",
      "[813]\ttrain's rmse: 3.80628\teval's rmse: 6.68338\n",
      "Training until validation scores don't improve for 100 rounds\n",
      "[100]\ttrain's rmse: 6.83035\teval's rmse: 8.03565\n",
      "[200]\ttrain's rmse: 5.91703\teval's rmse: 7.56543\n",
      "[300]\ttrain's rmse: 5.45828\teval's rmse: 7.25187\n",
      "[400]\ttrain's rmse: 5.11046\teval's rmse: 7.14433\n",
      "[500]\ttrain's rmse: 4.84881\teval's rmse: 7.00418\n",
      "[600]\ttrain's rmse: 4.65333\teval's rmse: 6.96382\n",
      "[700]\ttrain's rmse: 4.48227\teval's rmse: 6.9314\n"
     ]
    },
    {
     "name": "stderr",
     "output_type": "stream",
     "text": [
      "\r",
      "bagging, val_score: 6.683375:  10%|#####3                                               | 1/10 [00:02<00:09,  1.10s/it]"
     ]
    },
    {
     "name": "stdout",
     "output_type": "stream",
     "text": [
      "[800]\ttrain's rmse: 4.33249\teval's rmse: 6.92858\n",
      "Early stopping, best iteration is:\n",
      "[734]\ttrain's rmse: 4.4258\teval's rmse: 6.89522\n"
     ]
    },
    {
     "name": "stderr",
     "output_type": "stream",
     "text": [
      "bagging, val_score: 6.683375:  20%|##########6                                          | 2/10 [00:02<00:09,  1.22s/it]\u001b[32m[I 2021-06-20 17:28:54,074]\u001b[0m Trial 28 finished with value: 6.89522218646018 and parameters: {'bagging_fraction': 0.5171950653665951, 'bagging_freq': 7}. Best is trial 27 with value: 6.683375060482036.\u001b[0m\n",
      "bagging, val_score: 6.683375:  20%|##########6                                          | 2/10 [00:02<00:09,  1.22s/it]"
     ]
    },
    {
     "name": "stdout",
     "output_type": "stream",
     "text": [
      "Training until validation scores don't improve for 100 rounds\n",
      "[100]\ttrain's rmse: 6.78019\teval's rmse: 7.98472\n",
      "[200]\ttrain's rmse: 5.89101\teval's rmse: 7.54256\n",
      "[300]\ttrain's rmse: 5.40875\teval's rmse: 7.28781\n",
      "[400]\ttrain's rmse: 5.09202\teval's rmse: 7.14077\n",
      "[500]\ttrain's rmse: 4.84089\teval's rmse: 7.06605\n",
      "[600]\ttrain's rmse: 4.65637\teval's rmse: 7.00741\n",
      "[700]\ttrain's rmse: 4.48594\teval's rmse: 6.93237\n",
      "[800]\ttrain's rmse: 4.32365\teval's rmse: 6.89562\n",
      "[900]\ttrain's rmse: 4.1962\teval's rmse: 6.84738\n",
      "[1000]\ttrain's rmse: 4.07852\teval's rmse: 6.83906\n",
      "Did not meet early stopping. Best iteration is:\n",
      "[1000]\ttrain's rmse: 4.07852\teval's rmse: 6.83906\n"
     ]
    },
    {
     "name": "stderr",
     "output_type": "stream",
     "text": [
      "bagging, val_score: 6.683375:  30%|###############9                                     | 3/10 [00:03<00:08,  1.26s/it]\u001b[32m[I 2021-06-20 17:28:55,389]\u001b[0m Trial 29 finished with value: 6.839057954003835 and parameters: {'bagging_fraction': 0.5113846580473991, 'bagging_freq': 2}. Best is trial 27 with value: 6.683375060482036.\u001b[0m\n",
      "bagging, val_score: 6.683375:  30%|###############9                                     | 3/10 [00:03<00:08,  1.26s/it]"
     ]
    },
    {
     "name": "stdout",
     "output_type": "stream",
     "text": [
      "Training until validation scores don't improve for 100 rounds\n",
      "[100]\ttrain's rmse: 6.70751\teval's rmse: 7.97701\n",
      "[200]\ttrain's rmse: 5.76932\teval's rmse: 7.45219\n",
      "[300]\ttrain's rmse: 5.28826\teval's rmse: 7.20929\n",
      "[400]\ttrain's rmse: 4.96919\teval's rmse: 7.08587\n",
      "[500]\ttrain's rmse: 4.72627\teval's rmse: 7.01374\n",
      "[600]\ttrain's rmse: 4.53139\teval's rmse: 6.93592\n",
      "[700]\ttrain's rmse: 4.36997\teval's rmse: 6.8976\n",
      "[800]\ttrain's rmse: 4.21117\teval's rmse: 6.88557\n",
      "[900]\ttrain's rmse: 4.07822\teval's rmse: 6.83418\n",
      "[1000]\ttrain's rmse: 3.96244\teval's rmse: 6.83336\n",
      "Did not meet early stopping. Best iteration is:\n",
      "[1000]\ttrain's rmse: 3.96244\teval's rmse: 6.83336\n"
     ]
    },
    {
     "name": "stderr",
     "output_type": "stream",
     "text": [
      "bagging, val_score: 6.683375:  40%|#####################2                               | 4/10 [00:04<00:07,  1.25s/it]\u001b[32m[I 2021-06-20 17:28:56,608]\u001b[0m Trial 30 finished with value: 6.833356357456572 and parameters: {'bagging_fraction': 0.5667290135950933, 'bagging_freq': 2}. Best is trial 27 with value: 6.683375060482036.\u001b[0m\n",
      "bagging, val_score: 6.683375:  40%|#####################2                               | 4/10 [00:04<00:07,  1.25s/it]"
     ]
    },
    {
     "name": "stdout",
     "output_type": "stream",
     "text": [
      "Training until validation scores don't improve for 100 rounds\n",
      "[100]\ttrain's rmse: 6.35674\teval's rmse: 7.76075\n",
      "[200]\ttrain's rmse: 5.40084\teval's rmse: 7.22971\n",
      "[300]\ttrain's rmse: 4.96668\teval's rmse: 7.06881\n",
      "[400]\ttrain's rmse: 4.65349\teval's rmse: 6.96579\n",
      "[500]\ttrain's rmse: 4.42418\teval's rmse: 6.90089\n",
      "[600]\ttrain's rmse: 4.23767\teval's rmse: 6.86163\n",
      "[700]\ttrain's rmse: 4.07813\teval's rmse: 6.83135\n",
      "[800]\ttrain's rmse: 3.93402\teval's rmse: 6.82134\n",
      "Early stopping, best iteration is:\n",
      "[791]\ttrain's rmse: 3.9463\teval's rmse: 6.80707\n"
     ]
    },
    {
     "name": "stderr",
     "output_type": "stream",
     "text": [
      "bagging, val_score: 6.683375:  50%|##########################5                          | 5/10 [00:06<00:05,  1.19s/it]\u001b[32m[I 2021-06-20 17:28:57,693]\u001b[0m Trial 31 finished with value: 6.8070651554136 and parameters: {'bagging_fraction': 0.7453645898980756, 'bagging_freq': 1}. Best is trial 27 with value: 6.683375060482036.\u001b[0m\n",
      "bagging, val_score: 6.683375:  50%|##########################5                          | 5/10 [00:06<00:05,  1.19s/it]"
     ]
    },
    {
     "name": "stdout",
     "output_type": "stream",
     "text": [
      "Training until validation scores don't improve for 100 rounds\n",
      "[100]\ttrain's rmse: 6.12099\teval's rmse: 7.53677\n",
      "[200]\ttrain's rmse: 5.33679\teval's rmse: 7.08807\n",
      "[300]\ttrain's rmse: 4.90352\teval's rmse: 6.93432\n",
      "[400]\ttrain's rmse: 4.60136\teval's rmse: 6.83342\n",
      "[500]\ttrain's rmse: 4.37029\teval's rmse: 6.79433\n",
      "[600]\ttrain's rmse: 4.18257\teval's rmse: 6.75217\n",
      "[700]\ttrain's rmse: 4.02618\teval's rmse: 6.74152\n",
      "Early stopping, best iteration is:\n",
      "[642]\ttrain's rmse: 4.11393\teval's rmse: 6.72086\n"
     ]
    },
    {
     "name": "stderr",
     "output_type": "stream",
     "text": [
      "bagging, val_score: 6.683375:  60%|###############################8                     | 6/10 [00:06<00:04,  1.09s/it]\u001b[32m[I 2021-06-20 17:28:58,593]\u001b[0m Trial 32 finished with value: 6.720863790934351 and parameters: {'bagging_fraction': 0.8172562067007293, 'bagging_freq': 6}. Best is trial 27 with value: 6.683375060482036.\u001b[0m\n",
      "bagging, val_score: 6.683375:  60%|###############################8                     | 6/10 [00:06<00:04,  1.09s/it]"
     ]
    },
    {
     "name": "stdout",
     "output_type": "stream",
     "text": [
      "Training until validation scores don't improve for 100 rounds\n",
      "[100]\ttrain's rmse: 6.01423\teval's rmse: 7.50102\n",
      "[200]\ttrain's rmse: 5.2339\teval's rmse: 7.04765\n",
      "[300]\ttrain's rmse: 4.81823\teval's rmse: 6.89439\n",
      "[400]\ttrain's rmse: 4.53037\teval's rmse: 6.79648\n",
      "[500]\ttrain's rmse: 4.30757\teval's rmse: 6.74124\n",
      "[600]\ttrain's rmse: 4.1276\teval's rmse: 6.71543\n",
      "[700]\ttrain's rmse: 3.97202\teval's rmse: 6.72278\n",
      "[800]\ttrain's rmse: 3.82707\teval's rmse: 6.69268\n"
     ]
    },
    {
     "name": "stderr",
     "output_type": "stream",
     "text": [
      "bagging, val_score: 6.683375:  70%|#####################################                | 7/10 [00:08<00:03,  1.09s/it]\u001b[32m[I 2021-06-20 17:28:59,674]\u001b[0m Trial 33 finished with value: 6.6898134766714366 and parameters: {'bagging_fraction': 0.874033209596767, 'bagging_freq': 1}. Best is trial 27 with value: 6.683375060482036.\u001b[0m\n"
     ]
    },
    {
     "name": "stdout",
     "output_type": "stream",
     "text": [
      "[900]\ttrain's rmse: 3.7073\teval's rmse: 6.69397\n",
      "Early stopping, best iteration is:\n",
      "[807]\ttrain's rmse: 3.81935\teval's rmse: 6.68981\n"
     ]
    },
    {
     "name": "stderr",
     "output_type": "stream",
     "text": [
      "\r",
      "bagging, val_score: 6.683375:  70%|#####################################                | 7/10 [00:08<00:03,  1.09s/it]"
     ]
    },
    {
     "name": "stdout",
     "output_type": "stream",
     "text": [
      "Training until validation scores don't improve for 100 rounds\n",
      "[100]\ttrain's rmse: 6.06064\teval's rmse: 7.484\n",
      "[200]\ttrain's rmse: 5.28048\teval's rmse: 7.05567\n",
      "[300]\ttrain's rmse: 4.84229\teval's rmse: 6.88869\n",
      "[400]\ttrain's rmse: 4.55329\teval's rmse: 6.7847\n",
      "[500]\ttrain's rmse: 4.32099\teval's rmse: 6.75257\n",
      "[600]\ttrain's rmse: 4.1311\teval's rmse: 6.72453\n",
      "[700]\ttrain's rmse: 3.98366\teval's rmse: 6.71573\n",
      "Early stopping, best iteration is:\n",
      "[624]\ttrain's rmse: 4.09072\teval's rmse: 6.71109\n"
     ]
    },
    {
     "name": "stderr",
     "output_type": "stream",
     "text": [
      "bagging, val_score: 6.683375:  80%|##########################################4          | 8/10 [00:08<00:02,  1.02s/it]\u001b[32m[I 2021-06-20 17:29:00,565]\u001b[0m Trial 34 finished with value: 6.711085246597062 and parameters: {'bagging_fraction': 0.9129559745573066, 'bagging_freq': 6}. Best is trial 27 with value: 6.683375060482036.\u001b[0m\n",
      "bagging, val_score: 6.683375:  80%|##########################################4          | 8/10 [00:08<00:02,  1.02s/it]"
     ]
    },
    {
     "name": "stdout",
     "output_type": "stream",
     "text": [
      "Training until validation scores don't improve for 100 rounds\n",
      "[100]\ttrain's rmse: 7.17544\teval's rmse: 8.24894\n",
      "[200]\ttrain's rmse: 6.28523\teval's rmse: 7.76683\n",
      "[300]\ttrain's rmse: 5.81605\teval's rmse: 7.43574\n",
      "[400]\ttrain's rmse: 5.47262\teval's rmse: 7.27804\n",
      "[500]\ttrain's rmse: 5.18642\teval's rmse: 7.11292\n",
      "[600]\ttrain's rmse: 4.99805\teval's rmse: 7.08983\n",
      "[700]\ttrain's rmse: 4.82706\teval's rmse: 7.02993\n",
      "[800]\ttrain's rmse: 4.65526\teval's rmse: 7.06224\n",
      "Early stopping, best iteration is:\n",
      "[707]\ttrain's rmse: 4.80923\teval's rmse: 7.00239\n"
     ]
    },
    {
     "name": "stderr",
     "output_type": "stream",
     "text": [
      "bagging, val_score: 6.683375:  90%|###############################################7     | 9/10 [00:09<00:00,  1.00it/s]\u001b[32m[I 2021-06-20 17:29:01,508]\u001b[0m Trial 35 finished with value: 7.002392067767417 and parameters: {'bagging_fraction': 0.40295920816901254, 'bagging_freq': 7}. Best is trial 27 with value: 6.683375060482036.\u001b[0m\n",
      "bagging, val_score: 6.683375:  90%|###############################################7     | 9/10 [00:09<00:00,  1.00it/s]"
     ]
    },
    {
     "name": "stdout",
     "output_type": "stream",
     "text": [
      "Training until validation scores don't improve for 100 rounds\n",
      "[100]\ttrain's rmse: 6.68261\teval's rmse: 7.90942\n",
      "[200]\ttrain's rmse: 5.81118\teval's rmse: 7.44201\n",
      "[300]\ttrain's rmse: 5.33468\teval's rmse: 7.25721\n",
      "[400]\ttrain's rmse: 5.00521\teval's rmse: 7.11975\n",
      "[500]\ttrain's rmse: 4.76797\teval's rmse: 7.04166\n",
      "[600]\ttrain's rmse: 4.57851\teval's rmse: 7.02028\n",
      "[700]\ttrain's rmse: 4.41159\teval's rmse: 6.99703\n",
      "[800]\ttrain's rmse: 4.26956\teval's rmse: 6.97592\n",
      "[900]\ttrain's rmse: 4.14166\teval's rmse: 6.9235\n"
     ]
    },
    {
     "name": "stderr",
     "output_type": "stream",
     "text": [
      "\r",
      "bagging, val_score: 6.683375:  90%|###############################################7     | 9/10 [00:11<00:00,  1.00it/s]"
     ]
    },
    {
     "name": "stdout",
     "output_type": "stream",
     "text": [
      "[1000]\ttrain's rmse: 4.02315\teval's rmse: 6.90609\n",
      "Did not meet early stopping. Best iteration is:\n",
      "[1000]\ttrain's rmse: 4.02315\teval's rmse: 6.90609\n"
     ]
    },
    {
     "name": "stderr",
     "output_type": "stream",
     "text": [
      "bagging, val_score: 6.683375: 100%|####################################################| 10/10 [00:11<00:00,  1.06s/it]\u001b[32m[I 2021-06-20 17:29:02,720]\u001b[0m Trial 36 finished with value: 6.906086214831711 and parameters: {'bagging_fraction': 0.5507989342423623, 'bagging_freq': 3}. Best is trial 27 with value: 6.683375060482036.\u001b[0m\n",
      "bagging, val_score: 6.683375: 100%|####################################################| 10/10 [00:11<00:00,  1.11s/it]\n",
      "feature_fraction_stage2, val_score: 6.683375:   0%|                                              | 0/6 [00:00<?, ?it/s]"
     ]
    },
    {
     "name": "stdout",
     "output_type": "stream",
     "text": [
      "Training until validation scores don't improve for 100 rounds\n",
      "[100]\ttrain's rmse: 6.03106\teval's rmse: 7.49201\n",
      "[200]\ttrain's rmse: 5.22506\teval's rmse: 7.05259\n",
      "[300]\ttrain's rmse: 4.80832\teval's rmse: 6.85921\n",
      "[400]\ttrain's rmse: 4.51692\teval's rmse: 6.80541\n",
      "[500]\ttrain's rmse: 4.29108\teval's rmse: 6.77425\n",
      "[600]\ttrain's rmse: 4.11134\teval's rmse: 6.72978\n",
      "[700]\ttrain's rmse: 3.95953\teval's rmse: 6.71184\n",
      "[800]\ttrain's rmse: 3.82406\teval's rmse: 6.69088\n",
      "[900]\ttrain's rmse: 3.70432\teval's rmse: 6.68849\n",
      "Early stopping, best iteration is:\n",
      "[813]\ttrain's rmse: 3.80628\teval's rmse: 6.68338\n"
     ]
    },
    {
     "name": "stderr",
     "output_type": "stream",
     "text": [
      "feature_fraction_stage2, val_score: 6.683375:  17%|######3                               | 1/6 [00:01<00:05,  1.12s/it]\u001b[32m[I 2021-06-20 17:29:03,856]\u001b[0m Trial 37 finished with value: 6.683375060482036 and parameters: {'feature_fraction': 0.716}. Best is trial 37 with value: 6.683375060482036.\u001b[0m\n",
      "feature_fraction_stage2, val_score: 6.683375:  17%|######3                               | 1/6 [00:01<00:05,  1.12s/it]"
     ]
    },
    {
     "name": "stdout",
     "output_type": "stream",
     "text": [
      "Training until validation scores don't improve for 100 rounds\n",
      "[100]\ttrain's rmse: 5.99579\teval's rmse: 7.42697\n",
      "[200]\ttrain's rmse: 5.20849\teval's rmse: 7.02744\n",
      "[300]\ttrain's rmse: 4.78601\teval's rmse: 6.84229\n",
      "[400]\ttrain's rmse: 4.49196\teval's rmse: 6.77022\n",
      "[500]\ttrain's rmse: 4.26387\teval's rmse: 6.71093\n",
      "[600]\ttrain's rmse: 4.08465\teval's rmse: 6.68647\n",
      "[700]\ttrain's rmse: 3.93487\teval's rmse: 6.6754\n",
      "[800]\ttrain's rmse: 3.79181\teval's rmse: 6.6549\n"
     ]
    },
    {
     "name": "stderr",
     "output_type": "stream",
     "text": [
      "\r",
      "feature_fraction_stage2, val_score: 6.649361:  17%|######3                               | 1/6 [00:02<00:05,  1.12s/it]"
     ]
    },
    {
     "name": "stdout",
     "output_type": "stream",
     "text": [
      "[900]\ttrain's rmse: 3.66692\teval's rmse: 6.66117\n",
      "Early stopping, best iteration is:\n",
      "[822]\ttrain's rmse: 3.7632\teval's rmse: 6.64936\n"
     ]
    },
    {
     "name": "stderr",
     "output_type": "stream",
     "text": [
      "feature_fraction_stage2, val_score: 6.649361:  33%|############6                         | 2/6 [00:02<00:04,  1.11s/it]\u001b[32m[I 2021-06-20 17:29:04,947]\u001b[0m Trial 38 finished with value: 6.649361071124196 and parameters: {'feature_fraction': 0.748}. Best is trial 38 with value: 6.649361071124196.\u001b[0m\n",
      "feature_fraction_stage2, val_score: 6.649361:  33%|############6                         | 2/6 [00:02<00:04,  1.11s/it]"
     ]
    },
    {
     "name": "stdout",
     "output_type": "stream",
     "text": [
      "Training until validation scores don't improve for 100 rounds\n",
      "[100]\ttrain's rmse: 6.09312\teval's rmse: 7.53807\n",
      "[200]\ttrain's rmse: 5.26556\teval's rmse: 7.07458\n",
      "[300]\ttrain's rmse: 4.85128\teval's rmse: 6.89309\n",
      "[400]\ttrain's rmse: 4.5605\teval's rmse: 6.80819\n",
      "[500]\ttrain's rmse: 4.34045\teval's rmse: 6.74435\n",
      "[600]\ttrain's rmse: 4.16582\teval's rmse: 6.71662\n",
      "[700]\ttrain's rmse: 4.0115\teval's rmse: 6.70316\n",
      "Early stopping, best iteration is:\n",
      "[691]\ttrain's rmse: 4.02559\teval's rmse: 6.69235\n"
     ]
    },
    {
     "name": "stderr",
     "output_type": "stream",
     "text": [
      "feature_fraction_stage2, val_score: 6.649361:  50%|###################                   | 3/6 [00:03<00:03,  1.04s/it]\u001b[32m[I 2021-06-20 17:29:05,916]\u001b[0m Trial 39 finished with value: 6.692346878662977 and parameters: {'feature_fraction': 0.6839999999999999}. Best is trial 38 with value: 6.649361071124196.\u001b[0m\n",
      "feature_fraction_stage2, val_score: 6.649361:  50%|###################                   | 3/6 [00:03<00:03,  1.04s/it]"
     ]
    },
    {
     "name": "stdout",
     "output_type": "stream",
     "text": [
      "Training until validation scores don't improve for 100 rounds\n",
      "[100]\ttrain's rmse: 6.11559\teval's rmse: 7.5593\n",
      "[200]\ttrain's rmse: 5.3122\teval's rmse: 7.13913\n",
      "[300]\ttrain's rmse: 4.88976\teval's rmse: 6.95352\n",
      "[400]\ttrain's rmse: 4.60599\teval's rmse: 6.84136\n",
      "[500]\ttrain's rmse: 4.38335\teval's rmse: 6.76911\n",
      "[600]\ttrain's rmse: 4.21792\teval's rmse: 6.73753\n",
      "[700]\ttrain's rmse: 4.06684\teval's rmse: 6.7301\n",
      "[800]\ttrain's rmse: 3.93286\teval's rmse: 6.71397\n",
      "[900]\ttrain's rmse: 3.81737\teval's rmse: 6.70487\n"
     ]
    },
    {
     "name": "stderr",
     "output_type": "stream",
     "text": [
      "\r",
      "feature_fraction_stage2, val_score: 6.649361:  50%|###################                   | 3/6 [00:04<00:03,  1.04s/it]"
     ]
    },
    {
     "name": "stdout",
     "output_type": "stream",
     "text": [
      "[1000]\ttrain's rmse: 3.71297\teval's rmse: 6.69602\n",
      "Did not meet early stopping. Best iteration is:\n",
      "[1000]\ttrain's rmse: 3.71297\teval's rmse: 6.69602\n"
     ]
    },
    {
     "name": "stderr",
     "output_type": "stream",
     "text": [
      "feature_fraction_stage2, val_score: 6.649361:  67%|#########################3            | 4/6 [00:04<00:02,  1.11s/it]\u001b[32m[I 2021-06-20 17:29:07,139]\u001b[0m Trial 40 finished with value: 6.6960158928480915 and parameters: {'feature_fraction': 0.62}. Best is trial 38 with value: 6.649361071124196.\u001b[0m\n",
      "feature_fraction_stage2, val_score: 6.649361:  67%|#########################3            | 4/6 [00:04<00:02,  1.11s/it]"
     ]
    },
    {
     "name": "stdout",
     "output_type": "stream",
     "text": [
      "Training until validation scores don't improve for 100 rounds\n",
      "[100]\ttrain's rmse: 5.95362\teval's rmse: 7.44055\n",
      "[200]\ttrain's rmse: 5.18579\teval's rmse: 7.0299\n",
      "[300]\ttrain's rmse: 4.75913\teval's rmse: 6.8517\n",
      "[400]\ttrain's rmse: 4.4597\teval's rmse: 6.76834\n",
      "[500]\ttrain's rmse: 4.23913\teval's rmse: 6.70032\n",
      "[600]\ttrain's rmse: 4.05593\teval's rmse: 6.67868\n",
      "[700]\ttrain's rmse: 3.90363\teval's rmse: 6.6751\n",
      "[800]\ttrain's rmse: 3.7536\teval's rmse: 6.66002\n",
      "[900]\ttrain's rmse: 3.62602\teval's rmse: 6.66911\n",
      "Early stopping, best iteration is:\n",
      "[810]\ttrain's rmse: 3.73897\teval's rmse: 6.65633\n"
     ]
    },
    {
     "name": "stderr",
     "output_type": "stream",
     "text": [
      "feature_fraction_stage2, val_score: 6.649361:  83%|###############################6      | 5/6 [00:05<00:01,  1.17s/it]\u001b[32m[I 2021-06-20 17:29:08,420]\u001b[0m Trial 41 finished with value: 6.6563275120873175 and parameters: {'feature_fraction': 0.7799999999999999}. Best is trial 38 with value: 6.649361071124196.\u001b[0m\n",
      "feature_fraction_stage2, val_score: 6.649361:  83%|###############################6      | 5/6 [00:05<00:01,  1.17s/it]"
     ]
    },
    {
     "name": "stdout",
     "output_type": "stream",
     "text": [
      "Training until validation scores don't improve for 100 rounds\n",
      "[100]\ttrain's rmse: 6.09312\teval's rmse: 7.53807\n",
      "[200]\ttrain's rmse: 5.26556\teval's rmse: 7.07458\n",
      "[300]\ttrain's rmse: 4.85128\teval's rmse: 6.89309\n",
      "[400]\ttrain's rmse: 4.5605\teval's rmse: 6.80819\n",
      "[500]\ttrain's rmse: 4.34045\teval's rmse: 6.74435\n",
      "[600]\ttrain's rmse: 4.16582\teval's rmse: 6.71662\n",
      "[700]\ttrain's rmse: 4.0115\teval's rmse: 6.70316\n",
      "Early stopping, best iteration is:\n",
      "[691]\ttrain's rmse: 4.02559\teval's rmse: 6.69235\n"
     ]
    },
    {
     "name": "stderr",
     "output_type": "stream",
     "text": [
      "feature_fraction_stage2, val_score: 6.649361: 100%|######################################| 6/6 [00:06<00:00,  1.15s/it]\u001b[32m[I 2021-06-20 17:29:09,515]\u001b[0m Trial 42 finished with value: 6.692346878662977 and parameters: {'feature_fraction': 0.652}. Best is trial 38 with value: 6.649361071124196.\u001b[0m\n",
      "feature_fraction_stage2, val_score: 6.649361: 100%|######################################| 6/6 [00:06<00:00,  1.13s/it]\n",
      "regularization_factors, val_score: 6.649361:   0%|                                              | 0/20 [00:00<?, ?it/s]"
     ]
    },
    {
     "name": "stdout",
     "output_type": "stream",
     "text": [
      "Training until validation scores don't improve for 100 rounds\n",
      "[100]\ttrain's rmse: 5.98224\teval's rmse: 7.42085\n",
      "[200]\ttrain's rmse: 5.20454\teval's rmse: 7.0442\n",
      "[300]\ttrain's rmse: 4.77785\teval's rmse: 6.85071\n",
      "[400]\ttrain's rmse: 4.4757\teval's rmse: 6.77003\n",
      "[500]\ttrain's rmse: 4.2527\teval's rmse: 6.71475\n",
      "[600]\ttrain's rmse: 4.07666\teval's rmse: 6.69924\n",
      "[700]\ttrain's rmse: 3.92246\teval's rmse: 6.69388\n",
      "[800]\ttrain's rmse: 3.77762\teval's rmse: 6.67688\n",
      "[900]\ttrain's rmse: 3.65674\teval's rmse: 6.679\n",
      "Early stopping, best iteration is:\n",
      "[833]\ttrain's rmse: 3.73497\teval's rmse: 6.66539\n"
     ]
    },
    {
     "name": "stderr",
     "output_type": "stream",
     "text": [
      "regularization_factors, val_score: 6.649361:   5%|#9                                    | 1/20 [00:01<00:22,  1.18s/it]\u001b[32m[I 2021-06-20 17:29:10,714]\u001b[0m Trial 43 finished with value: 6.6653901946057585 and parameters: {'lambda_l1': 8.16472045872246e-07, 'lambda_l2': 4.4252271323384254e-05}. Best is trial 43 with value: 6.6653901946057585.\u001b[0m\n",
      "regularization_factors, val_score: 6.649361:   5%|#9                                    | 1/20 [00:01<00:22,  1.18s/it]"
     ]
    },
    {
     "name": "stdout",
     "output_type": "stream",
     "text": [
      "Training until validation scores don't improve for 100 rounds\n",
      "[100]\ttrain's rmse: 5.98224\teval's rmse: 7.42085\n",
      "[200]\ttrain's rmse: 5.20454\teval's rmse: 7.0442\n",
      "[300]\ttrain's rmse: 4.77785\teval's rmse: 6.85071\n",
      "[400]\ttrain's rmse: 4.4757\teval's rmse: 6.77003\n",
      "[500]\ttrain's rmse: 4.2521\teval's rmse: 6.71547\n",
      "[600]\ttrain's rmse: 4.07703\teval's rmse: 6.70368\n",
      "Early stopping, best iteration is:\n",
      "[575]\ttrain's rmse: 4.11982\teval's rmse: 6.69424\n"
     ]
    },
    {
     "name": "stderr",
     "output_type": "stream",
     "text": [
      "regularization_factors, val_score: 6.649361:  10%|###8                                  | 2/20 [00:02<00:18,  1.03s/it]\u001b[32m[I 2021-06-20 17:29:11,629]\u001b[0m Trial 44 finished with value: 6.694238888762335 and parameters: {'lambda_l1': 1.2796242327286427e-05, 'lambda_l2': 3.6964954693923485e-05}. Best is trial 43 with value: 6.6653901946057585.\u001b[0m\n",
      "regularization_factors, val_score: 6.649361:  10%|###8                                  | 2/20 [00:02<00:18,  1.03s/it]"
     ]
    },
    {
     "name": "stdout",
     "output_type": "stream",
     "text": [
      "Training until validation scores don't improve for 100 rounds\n",
      "[100]\ttrain's rmse: 5.99275\teval's rmse: 7.426\n",
      "[200]\ttrain's rmse: 5.20194\teval's rmse: 7.02382\n",
      "[300]\ttrain's rmse: 4.79315\teval's rmse: 6.84925\n",
      "[400]\ttrain's rmse: 4.50052\teval's rmse: 6.7828\n",
      "[500]\ttrain's rmse: 4.2714\teval's rmse: 6.72328\n",
      "[600]\ttrain's rmse: 4.09072\teval's rmse: 6.70381\n",
      "[700]\ttrain's rmse: 3.9385\teval's rmse: 6.68381\n",
      "[800]\ttrain's rmse: 3.79896\teval's rmse: 6.66847\n",
      "[900]\ttrain's rmse: 3.67044\teval's rmse: 6.66441\n"
     ]
    },
    {
     "name": "stderr",
     "output_type": "stream",
     "text": [
      "regularization_factors, val_score: 6.649361:  15%|#####7                                | 3/20 [00:03<00:18,  1.09s/it]\u001b[32m[I 2021-06-20 17:29:12,802]\u001b[0m Trial 45 finished with value: 6.6614352302554956 and parameters: {'lambda_l1': 5.563147185511294e-07, 'lambda_l2': 0.0001235760675214052}. Best is trial 45 with value: 6.6614352302554956.\u001b[0m\n",
      "regularization_factors, val_score: 6.649361:  15%|#####7                                | 3/20 [00:03<00:18,  1.09s/it]"
     ]
    },
    {
     "name": "stdout",
     "output_type": "stream",
     "text": [
      "Early stopping, best iteration is:\n",
      "[820]\ttrain's rmse: 3.77323\teval's rmse: 6.66144\n",
      "Training until validation scores don't improve for 100 rounds\n",
      "[100]\ttrain's rmse: 6.133\teval's rmse: 7.59335\n",
      "[200]\ttrain's rmse: 5.33012\teval's rmse: 7.1537\n",
      "[300]\ttrain's rmse: 4.887\teval's rmse: 6.93089\n",
      "[400]\ttrain's rmse: 4.59565\teval's rmse: 6.85528\n",
      "[500]\ttrain's rmse: 4.37114\teval's rmse: 6.80505\n",
      "[600]\ttrain's rmse: 4.19015\teval's rmse: 6.7865\n",
      "[700]\ttrain's rmse: 4.04095\teval's rmse: 6.77138\n",
      "[800]\ttrain's rmse: 3.90377\teval's rmse: 6.7413\n",
      "[900]\ttrain's rmse: 3.78019\teval's rmse: 6.75609\n",
      "Early stopping, best iteration is:\n",
      "[800]\ttrain's rmse: 3.90377\teval's rmse: 6.7413\n"
     ]
    },
    {
     "name": "stderr",
     "output_type": "stream",
     "text": [
      "regularization_factors, val_score: 6.649361:  20%|#######6                              | 4/20 [00:04<00:18,  1.14s/it]\u001b[32m[I 2021-06-20 17:29:14,008]\u001b[0m Trial 46 finished with value: 6.741299802965628 and parameters: {'lambda_l1': 0.00532664186152987, 'lambda_l2': 3.351622788966417}. Best is trial 45 with value: 6.6614352302554956.\u001b[0m\n",
      "regularization_factors, val_score: 6.649361:  20%|#######6                              | 4/20 [00:04<00:18,  1.14s/it]"
     ]
    },
    {
     "name": "stdout",
     "output_type": "stream",
     "text": [
      "Training until validation scores don't improve for 100 rounds\n",
      "[100]\ttrain's rmse: 5.9968\teval's rmse: 7.45104\n",
      "[200]\ttrain's rmse: 5.19893\teval's rmse: 7.05244\n",
      "[300]\ttrain's rmse: 4.79163\teval's rmse: 6.84656\n",
      "[400]\ttrain's rmse: 4.49061\teval's rmse: 6.75125\n",
      "[500]\ttrain's rmse: 4.26867\teval's rmse: 6.70858\n",
      "[600]\ttrain's rmse: 4.09131\teval's rmse: 6.68389\n",
      "[700]\ttrain's rmse: 3.94052\teval's rmse: 6.67141\n",
      "[800]\ttrain's rmse: 3.79901\teval's rmse: 6.65587\n",
      "[900]\ttrain's rmse: 3.67283\teval's rmse: 6.66214\n",
      "Early stopping, best iteration is:\n",
      "[822]\ttrain's rmse: 3.76946\teval's rmse: 6.64715\n"
     ]
    },
    {
     "name": "stderr",
     "output_type": "stream",
     "text": [
      "regularization_factors, val_score: 6.647146:  25%|#########5                            | 5/20 [00:05<00:17,  1.15s/it]\u001b[32m[I 2021-06-20 17:29:15,174]\u001b[0m Trial 47 finished with value: 6.647146385773316 and parameters: {'lambda_l1': 0.01790432344597518, 'lambda_l2': 0.07386222779435672}. Best is trial 47 with value: 6.647146385773316.\u001b[0m\n",
      "regularization_factors, val_score: 6.647146:  25%|#########5                            | 5/20 [00:05<00:17,  1.15s/it]"
     ]
    },
    {
     "name": "stdout",
     "output_type": "stream",
     "text": [
      "Training until validation scores don't improve for 100 rounds\n",
      "[100]\ttrain's rmse: 5.98224\teval's rmse: 7.42085\n",
      "[200]\ttrain's rmse: 5.20454\teval's rmse: 7.0442\n",
      "[300]\ttrain's rmse: 4.7756\teval's rmse: 6.83192\n",
      "[400]\ttrain's rmse: 4.48268\teval's rmse: 6.7646\n",
      "[500]\ttrain's rmse: 4.25359\teval's rmse: 6.70705\n",
      "[600]\ttrain's rmse: 4.0831\teval's rmse: 6.68365\n",
      "[700]\ttrain's rmse: 3.93185\teval's rmse: 6.67119\n",
      "[800]\ttrain's rmse: 3.78927\teval's rmse: 6.64921\n",
      "[900]\ttrain's rmse: 3.66059\teval's rmse: 6.64694\n",
      "Early stopping, best iteration is:\n",
      "[838]\ttrain's rmse: 3.73983\teval's rmse: 6.646\n"
     ]
    },
    {
     "name": "stderr",
     "output_type": "stream",
     "text": [
      "regularization_factors, val_score: 6.646001:  30%|###########4                          | 6/20 [00:06<00:16,  1.18s/it]\u001b[32m[I 2021-06-20 17:29:16,404]\u001b[0m Trial 48 finished with value: 6.646000781672475 and parameters: {'lambda_l1': 1.4088379438448751e-08, 'lambda_l2': 9.939603989525886e-05}. Best is trial 48 with value: 6.646000781672475.\u001b[0m\n",
      "regularization_factors, val_score: 6.646001:  30%|###########4                          | 6/20 [00:06<00:16,  1.18s/it]"
     ]
    },
    {
     "name": "stdout",
     "output_type": "stream",
     "text": [
      "Training until validation scores don't improve for 100 rounds\n",
      "[100]\ttrain's rmse: 5.99276\teval's rmse: 7.42601\n",
      "[200]\ttrain's rmse: 5.1952\teval's rmse: 7.04855\n",
      "[300]\ttrain's rmse: 4.76832\teval's rmse: 6.85943\n",
      "[400]\ttrain's rmse: 4.47683\teval's rmse: 6.78191\n",
      "[500]\ttrain's rmse: 4.25319\teval's rmse: 6.73289\n",
      "[600]\ttrain's rmse: 4.07627\teval's rmse: 6.70554\n"
     ]
    },
    {
     "name": "stderr",
     "output_type": "stream",
     "text": [
      "\r",
      "regularization_factors, val_score: 6.646001:  30%|###########4                          | 6/20 [00:07<00:16,  1.18s/it]"
     ]
    },
    {
     "name": "stdout",
     "output_type": "stream",
     "text": [
      "[700]\ttrain's rmse: 3.92093\teval's rmse: 6.70497\n",
      "Early stopping, best iteration is:\n",
      "[648]\ttrain's rmse: 3.99917\teval's rmse: 6.68763\n"
     ]
    },
    {
     "name": "stderr",
     "output_type": "stream",
     "text": [
      "regularization_factors, val_score: 6.646001:  35%|#############3                        | 7/20 [00:07<00:14,  1.10s/it]\u001b[32m[I 2021-06-20 17:29:17,346]\u001b[0m Trial 49 finished with value: 6.687625369221125 and parameters: {'lambda_l1': 4.067534099842969e-05, 'lambda_l2': 0.0005489228089728457}. Best is trial 48 with value: 6.646000781672475.\u001b[0m\n",
      "regularization_factors, val_score: 6.646001:  35%|#############3                        | 7/20 [00:07<00:14,  1.10s/it]"
     ]
    },
    {
     "name": "stdout",
     "output_type": "stream",
     "text": [
      "Training until validation scores don't improve for 100 rounds\n",
      "[100]\ttrain's rmse: 5.98224\teval's rmse: 7.42085\n",
      "[200]\ttrain's rmse: 5.19542\teval's rmse: 7.03135\n",
      "[300]\ttrain's rmse: 4.77272\teval's rmse: 6.84679\n",
      "[400]\ttrain's rmse: 4.47961\teval's rmse: 6.78783\n",
      "[500]\ttrain's rmse: 4.25784\teval's rmse: 6.72202\n",
      "[600]\ttrain's rmse: 4.07371\teval's rmse: 6.69316\n",
      "[700]\ttrain's rmse: 3.91885\teval's rmse: 6.68296\n",
      "[800]\ttrain's rmse: 3.77548\teval's rmse: 6.6565\n",
      "[900]\ttrain's rmse: 3.64836\teval's rmse: 6.6625\n",
      "Early stopping, best iteration is:\n",
      "[814]\ttrain's rmse: 3.75523\teval's rmse: 6.65337\n"
     ]
    },
    {
     "name": "stderr",
     "output_type": "stream",
     "text": [
      "regularization_factors, val_score: 6.646001:  40%|###############2                      | 8/20 [00:08<00:13,  1.11s/it]\u001b[32m[I 2021-06-20 17:29:18,484]\u001b[0m Trial 50 finished with value: 6.6533710703831135 and parameters: {'lambda_l1': 1.1699260999871856e-08, 'lambda_l2': 2.4516809059868536e-05}. Best is trial 48 with value: 6.646000781672475.\u001b[0m\n",
      "regularization_factors, val_score: 6.646001:  40%|###############2                      | 8/20 [00:08<00:13,  1.11s/it]"
     ]
    },
    {
     "name": "stdout",
     "output_type": "stream",
     "text": [
      "Training until validation scores don't improve for 100 rounds\n",
      "[100]\ttrain's rmse: 6.02063\teval's rmse: 7.45992\n",
      "[200]\ttrain's rmse: 5.22322\teval's rmse: 7.0526\n",
      "[300]\ttrain's rmse: 4.81784\teval's rmse: 6.86068\n",
      "[400]\ttrain's rmse: 4.5265\teval's rmse: 6.80473\n",
      "[500]\ttrain's rmse: 4.30597\teval's rmse: 6.75391\n",
      "[600]\ttrain's rmse: 4.12483\teval's rmse: 6.74333\n",
      "[700]\ttrain's rmse: 3.9743\teval's rmse: 6.71961\n",
      "[800]\ttrain's rmse: 3.8365\teval's rmse: 6.69449\n",
      "[900]\ttrain's rmse: 3.71356\teval's rmse: 6.68643\n",
      "Early stopping, best iteration is:\n",
      "[834]\ttrain's rmse: 3.7912\teval's rmse: 6.68632\n"
     ]
    },
    {
     "name": "stderr",
     "output_type": "stream",
     "text": [
      "regularization_factors, val_score: 6.646001:  45%|#################1                    | 9/20 [00:10<00:12,  1.13s/it]\u001b[32m[I 2021-06-20 17:29:19,647]\u001b[0m Trial 51 finished with value: 6.686319355939412 and parameters: {'lambda_l1': 0.10882127885912106, 'lambda_l2': 0.29375880349942}. Best is trial 48 with value: 6.646000781672475.\u001b[0m\n",
      "regularization_factors, val_score: 6.646001:  45%|#################1                    | 9/20 [00:10<00:12,  1.13s/it]"
     ]
    },
    {
     "name": "stdout",
     "output_type": "stream",
     "text": [
      "Training until validation scores don't improve for 100 rounds\n",
      "[100]\ttrain's rmse: 6.01552\teval's rmse: 7.46864\n",
      "[200]\ttrain's rmse: 5.23384\teval's rmse: 7.08425\n",
      "[300]\ttrain's rmse: 4.80463\teval's rmse: 6.9055\n",
      "[400]\ttrain's rmse: 4.51674\teval's rmse: 6.82275\n",
      "[500]\ttrain's rmse: 4.29138\teval's rmse: 6.77284\n",
      "[600]\ttrain's rmse: 4.11287\teval's rmse: 6.74924\n",
      "[700]\ttrain's rmse: 3.95817\teval's rmse: 6.74067\n",
      "[800]\ttrain's rmse: 3.81969\teval's rmse: 6.71477\n"
     ]
    },
    {
     "name": "stderr",
     "output_type": "stream",
     "text": [
      "\r",
      "regularization_factors, val_score: 6.646001:  45%|#################1                    | 9/20 [00:11<00:12,  1.13s/it]"
     ]
    },
    {
     "name": "stdout",
     "output_type": "stream",
     "text": [
      "[900]\ttrain's rmse: 3.70058\teval's rmse: 6.7111\n",
      "Early stopping, best iteration is:\n",
      "[830]\ttrain's rmse: 3.78047\teval's rmse: 6.70954\n"
     ]
    },
    {
     "name": "stderr",
     "output_type": "stream",
     "text": [
      "regularization_factors, val_score: 6.646001:  50%|##################5                  | 10/20 [00:11<00:11,  1.16s/it]\u001b[32m[I 2021-06-20 17:29:20,867]\u001b[0m Trial 52 finished with value: 6.709542016181099 and parameters: {'lambda_l1': 0.1895609047510449, 'lambda_l2': 3.517072021696541e-05}. Best is trial 48 with value: 6.646000781672475.\u001b[0m\n",
      "regularization_factors, val_score: 6.646001:  50%|##################5                  | 10/20 [00:11<00:11,  1.16s/it]"
     ]
    },
    {
     "name": "stdout",
     "output_type": "stream",
     "text": [
      "Training until validation scores don't improve for 100 rounds\n",
      "[100]\ttrain's rmse: 5.99579\teval's rmse: 7.42697\n",
      "[200]\ttrain's rmse: 5.20849\teval's rmse: 7.02744\n",
      "[300]\ttrain's rmse: 4.78601\teval's rmse: 6.84229\n",
      "[400]\ttrain's rmse: 4.49196\teval's rmse: 6.77022\n",
      "[500]\ttrain's rmse: 4.26387\teval's rmse: 6.71093\n",
      "[600]\ttrain's rmse: 4.08465\teval's rmse: 6.68647\n",
      "[700]\ttrain's rmse: 3.93487\teval's rmse: 6.6754\n",
      "[800]\ttrain's rmse: 3.79181\teval's rmse: 6.6549\n"
     ]
    },
    {
     "name": "stderr",
     "output_type": "stream",
     "text": [
      "\r",
      "regularization_factors, val_score: 6.646001:  50%|##################5                  | 10/20 [00:12<00:11,  1.16s/it]"
     ]
    },
    {
     "name": "stdout",
     "output_type": "stream",
     "text": [
      "[900]\ttrain's rmse: 3.66692\teval's rmse: 6.66117\n",
      "Early stopping, best iteration is:\n",
      "[822]\ttrain's rmse: 3.7632\teval's rmse: 6.64936\n"
     ]
    },
    {
     "name": "stderr",
     "output_type": "stream",
     "text": [
      "regularization_factors, val_score: 6.646001:  55%|####################3                | 11/20 [00:12<00:10,  1.15s/it]\u001b[32m[I 2021-06-20 17:29:22,011]\u001b[0m Trial 53 finished with value: 6.649361071448628 and parameters: {'lambda_l1': 1.951551694213059e-08, 'lambda_l2': 2.196260277113796e-08}. Best is trial 48 with value: 6.646000781672475.\u001b[0m\n",
      "regularization_factors, val_score: 6.646001:  55%|####################3                | 11/20 [00:12<00:10,  1.15s/it]"
     ]
    },
    {
     "name": "stdout",
     "output_type": "stream",
     "text": [
      "Training until validation scores don't improve for 100 rounds\n",
      "[100]\ttrain's rmse: 6.13621\teval's rmse: 7.54558\n",
      "[200]\ttrain's rmse: 5.3595\teval's rmse: 7.16445\n",
      "[300]\ttrain's rmse: 4.94059\teval's rmse: 6.95336\n",
      "[400]\ttrain's rmse: 4.66392\teval's rmse: 6.85463\n",
      "[500]\ttrain's rmse: 4.4484\teval's rmse: 6.77035\n",
      "[600]\ttrain's rmse: 4.29517\teval's rmse: 6.74715\n",
      "[700]\ttrain's rmse: 4.1647\teval's rmse: 6.73745\n",
      "[800]\ttrain's rmse: 4.04025\teval's rmse: 6.70491\n"
     ]
    },
    {
     "name": "stderr",
     "output_type": "stream",
     "text": [
      "\r",
      "regularization_factors, val_score: 6.646001:  55%|####################3                | 11/20 [00:13<00:10,  1.15s/it]"
     ]
    },
    {
     "name": "stdout",
     "output_type": "stream",
     "text": [
      "[900]\ttrain's rmse: 3.93809\teval's rmse: 6.70382\n",
      "Early stopping, best iteration is:\n",
      "[814]\ttrain's rmse: 4.02347\teval's rmse: 6.69951\n"
     ]
    },
    {
     "name": "stderr",
     "output_type": "stream",
     "text": [
      "regularization_factors, val_score: 6.646001:  60%|######################2              | 12/20 [00:13<00:09,  1.22s/it]\u001b[32m[I 2021-06-20 17:29:23,384]\u001b[0m Trial 54 finished with value: 6.699510686957232 and parameters: {'lambda_l1': 5.6196857007126075, 'lambda_l2': 0.014302778268690511}. Best is trial 48 with value: 6.646000781672475.\u001b[0m\n",
      "regularization_factors, val_score: 6.646001:  60%|######################2              | 12/20 [00:13<00:09,  1.22s/it]"
     ]
    },
    {
     "name": "stdout",
     "output_type": "stream",
     "text": [
      "Training until validation scores don't improve for 100 rounds\n",
      "[100]\ttrain's rmse: 5.97986\teval's rmse: 7.45123\n",
      "[200]\ttrain's rmse: 5.20109\teval's rmse: 7.06063\n",
      "[300]\ttrain's rmse: 4.77097\teval's rmse: 6.84885\n",
      "[400]\ttrain's rmse: 4.48168\teval's rmse: 6.77987\n",
      "[500]\ttrain's rmse: 4.2598\teval's rmse: 6.74106\n",
      "[600]\ttrain's rmse: 4.07519\teval's rmse: 6.71577\n",
      "[700]\ttrain's rmse: 3.9196\teval's rmse: 6.71349\n",
      "[800]\ttrain's rmse: 3.78169\teval's rmse: 6.69463\n",
      "[900]\ttrain's rmse: 3.66081\teval's rmse: 6.69145\n",
      "Early stopping, best iteration is:\n",
      "[814]\ttrain's rmse: 3.7622\teval's rmse: 6.68651\n"
     ]
    },
    {
     "name": "stderr",
     "output_type": "stream",
     "text": [
      "regularization_factors, val_score: 6.646001:  65%|########################             | 13/20 [00:15<00:09,  1.29s/it]\u001b[32m[I 2021-06-20 17:29:24,834]\u001b[0m Trial 55 finished with value: 6.6865109853830145 and parameters: {'lambda_l1': 0.003704330929903622, 'lambda_l2': 1.787645247478262e-07}. Best is trial 48 with value: 6.646000781672475.\u001b[0m\n",
      "regularization_factors, val_score: 6.646001:  65%|########################             | 13/20 [00:15<00:09,  1.29s/it]"
     ]
    },
    {
     "name": "stdout",
     "output_type": "stream",
     "text": [
      "Training until validation scores don't improve for 100 rounds\n",
      "[100]\ttrain's rmse: 6.0037\teval's rmse: 7.4507\n",
      "[200]\ttrain's rmse: 5.21315\teval's rmse: 7.03895\n",
      "[300]\ttrain's rmse: 4.78097\teval's rmse: 6.84666\n",
      "[400]\ttrain's rmse: 4.48544\teval's rmse: 6.77615\n",
      "[500]\ttrain's rmse: 4.25839\teval's rmse: 6.73354\n",
      "[600]\ttrain's rmse: 4.08404\teval's rmse: 6.72116\n",
      "[700]\ttrain's rmse: 3.93189\teval's rmse: 6.71245\n",
      "[800]\ttrain's rmse: 3.78812\teval's rmse: 6.69906\n"
     ]
    },
    {
     "name": "stderr",
     "output_type": "stream",
     "text": [
      "regularization_factors, val_score: 6.646001:  70%|#########################9           | 14/20 [00:16<00:07,  1.22s/it]\u001b[32m[I 2021-06-20 17:29:25,892]\u001b[0m Trial 56 finished with value: 6.692615101346112 and parameters: {'lambda_l1': 0.0011429250718818327, 'lambda_l2': 0.006218883267548103}. Best is trial 48 with value: 6.646000781672475.\u001b[0m\n",
      "regularization_factors, val_score: 6.646001:  70%|#########################9           | 14/20 [00:16<00:07,  1.22s/it]"
     ]
    },
    {
     "name": "stdout",
     "output_type": "stream",
     "text": [
      "Early stopping, best iteration is:\n",
      "[748]\ttrain's rmse: 3.86203\teval's rmse: 6.69262\n",
      "Training until validation scores don't improve for 100 rounds\n",
      "[100]\ttrain's rmse: 6.15312\teval's rmse: 7.55224\n",
      "[200]\ttrain's rmse: 5.38587\teval's rmse: 7.13976\n",
      "[300]\ttrain's rmse: 4.95651\teval's rmse: 6.93086\n",
      "[400]\ttrain's rmse: 4.67984\teval's rmse: 6.83296\n",
      "[500]\ttrain's rmse: 4.47827\teval's rmse: 6.76542\n",
      "[600]\ttrain's rmse: 4.32629\teval's rmse: 6.72497\n",
      "[700]\ttrain's rmse: 4.20056\teval's rmse: 6.71041\n",
      "[800]\ttrain's rmse: 4.08558\teval's rmse: 6.67054\n"
     ]
    },
    {
     "name": "stderr",
     "output_type": "stream",
     "text": [
      "regularization_factors, val_score: 6.646001:  75%|###########################7         | 15/20 [00:17<00:06,  1.21s/it]\u001b[32m[I 2021-06-20 17:29:27,064]\u001b[0m Trial 57 finished with value: 6.665597903284833 and parameters: {'lambda_l1': 6.675007157150876, 'lambda_l2': 8.725881808993874e-07}. Best is trial 48 with value: 6.646000781672475.\u001b[0m\n"
     ]
    },
    {
     "name": "stdout",
     "output_type": "stream",
     "text": [
      "[900]\ttrain's rmse: 3.98805\teval's rmse: 6.6729\n",
      "Early stopping, best iteration is:\n",
      "[822]\ttrain's rmse: 4.0596\teval's rmse: 6.6656\n"
     ]
    },
    {
     "name": "stderr",
     "output_type": "stream",
     "text": [
      "\r",
      "regularization_factors, val_score: 6.646001:  75%|###########################7         | 15/20 [00:17<00:06,  1.21s/it]"
     ]
    },
    {
     "name": "stdout",
     "output_type": "stream",
     "text": [
      "Training until validation scores don't improve for 100 rounds\n",
      "[100]\ttrain's rmse: 6.01016\teval's rmse: 7.45149\n",
      "[200]\ttrain's rmse: 5.2227\teval's rmse: 7.04628\n",
      "[300]\ttrain's rmse: 4.81089\teval's rmse: 6.89841\n",
      "[400]\ttrain's rmse: 4.51742\teval's rmse: 6.8147\n",
      "[500]\ttrain's rmse: 4.294\teval's rmse: 6.76249\n",
      "[600]\ttrain's rmse: 4.11246\teval's rmse: 6.73826\n",
      "[700]\ttrain's rmse: 3.96304\teval's rmse: 6.72436\n",
      "[800]\ttrain's rmse: 3.82105\teval's rmse: 6.70716\n",
      "[900]\ttrain's rmse: 3.7003\teval's rmse: 6.70448\n",
      "Early stopping, best iteration is:\n",
      "[822]\ttrain's rmse: 3.79449\teval's rmse: 6.69849\n"
     ]
    },
    {
     "name": "stderr",
     "output_type": "stream",
     "text": [
      "regularization_factors, val_score: 6.646001:  80%|#############################6       | 16/20 [00:18<00:04,  1.20s/it]\u001b[32m[I 2021-06-20 17:29:28,239]\u001b[0m Trial 58 finished with value: 6.698489534185034 and parameters: {'lambda_l1': 0.13810695328123396, 'lambda_l2': 0.15697643083250526}. Best is trial 48 with value: 6.646000781672475.\u001b[0m\n",
      "regularization_factors, val_score: 6.646001:  80%|#############################6       | 16/20 [00:18<00:04,  1.20s/it]"
     ]
    },
    {
     "name": "stdout",
     "output_type": "stream",
     "text": [
      "Training until validation scores don't improve for 100 rounds\n",
      "[100]\ttrain's rmse: 5.99856\teval's rmse: 7.41434\n",
      "[200]\ttrain's rmse: 5.19928\teval's rmse: 7.03753\n",
      "[300]\ttrain's rmse: 4.76927\teval's rmse: 6.83694\n",
      "[400]\ttrain's rmse: 4.47717\teval's rmse: 6.76122\n",
      "[500]\ttrain's rmse: 4.25656\teval's rmse: 6.72318\n",
      "[600]\ttrain's rmse: 4.07696\teval's rmse: 6.69822\n",
      "[700]\ttrain's rmse: 3.92729\teval's rmse: 6.69016\n",
      "[800]\ttrain's rmse: 3.78819\teval's rmse: 6.67222\n",
      "[900]\ttrain's rmse: 3.66414\teval's rmse: 6.67695\n",
      "Early stopping, best iteration is:\n",
      "[822]\ttrain's rmse: 3.75895\teval's rmse: 6.6667\n"
     ]
    },
    {
     "name": "stderr",
     "output_type": "stream",
     "text": [
      "regularization_factors, val_score: 6.646001:  85%|###############################4     | 17/20 [00:19<00:03,  1.21s/it]\u001b[32m[I 2021-06-20 17:29:29,488]\u001b[0m Trial 59 finished with value: 6.666698086101882 and parameters: {'lambda_l1': 0.0001233171088210648, 'lambda_l2': 0.0025907204135571936}. Best is trial 48 with value: 6.646000781672475.\u001b[0m\n",
      "regularization_factors, val_score: 6.646001:  85%|###############################4     | 17/20 [00:19<00:03,  1.21s/it]"
     ]
    },
    {
     "name": "stdout",
     "output_type": "stream",
     "text": [
      "Training until validation scores don't improve for 100 rounds\n",
      "[100]\ttrain's rmse: 6.19761\teval's rmse: 7.60603\n",
      "[200]\ttrain's rmse: 5.37733\teval's rmse: 7.20033\n",
      "[300]\ttrain's rmse: 4.94943\teval's rmse: 6.97716\n",
      "[400]\ttrain's rmse: 4.64575\teval's rmse: 6.88778\n",
      "[500]\ttrain's rmse: 4.41905\teval's rmse: 6.81164\n",
      "[600]\ttrain's rmse: 4.24122\teval's rmse: 6.77237\n",
      "[700]\ttrain's rmse: 4.0895\teval's rmse: 6.76558\n",
      "[800]\ttrain's rmse: 3.9498\teval's rmse: 6.72589\n"
     ]
    },
    {
     "name": "stderr",
     "output_type": "stream",
     "text": [
      "\r",
      "regularization_factors, val_score: 6.646001:  85%|###############################4     | 17/20 [00:21<00:03,  1.21s/it]"
     ]
    },
    {
     "name": "stdout",
     "output_type": "stream",
     "text": [
      "[900]\ttrain's rmse: 3.82567\teval's rmse: 6.72752\n",
      "Early stopping, best iteration is:\n",
      "[838]\ttrain's rmse: 3.89774\teval's rmse: 6.72164\n"
     ]
    },
    {
     "name": "stderr",
     "output_type": "stream",
     "text": [
      "regularization_factors, val_score: 6.646001:  90%|#################################3   | 18/20 [00:21<00:02,  1.20s/it]\u001b[32m[I 2021-06-20 17:29:30,671]\u001b[0m Trial 60 finished with value: 6.721640925711831 and parameters: {'lambda_l1': 0.021456633687512428, 'lambda_l2': 4.74998279727524}. Best is trial 48 with value: 6.646000781672475.\u001b[0m\n",
      "regularization_factors, val_score: 6.646001:  90%|#################################3   | 18/20 [00:21<00:02,  1.20s/it]"
     ]
    },
    {
     "name": "stdout",
     "output_type": "stream",
     "text": [
      "Training until validation scores don't improve for 100 rounds\n",
      "[100]\ttrain's rmse: 5.99465\teval's rmse: 7.43559\n",
      "[200]\ttrain's rmse: 5.2003\teval's rmse: 7.0289\n",
      "[300]\ttrain's rmse: 4.78161\teval's rmse: 6.86527\n",
      "[400]\ttrain's rmse: 4.49351\teval's rmse: 6.79226\n",
      "[500]\ttrain's rmse: 4.26357\teval's rmse: 6.73963\n",
      "[600]\ttrain's rmse: 4.08162\teval's rmse: 6.71199\n",
      "[700]\ttrain's rmse: 3.92798\teval's rmse: 6.70075\n",
      "Early stopping, best iteration is:\n",
      "[663]\ttrain's rmse: 3.98233\teval's rmse: 6.69505\n"
     ]
    },
    {
     "name": "stderr",
     "output_type": "stream",
     "text": [
      "regularization_factors, val_score: 6.646001:  95%|###################################1 | 19/20 [00:22<00:01,  1.15s/it]\u001b[32m[I 2021-06-20 17:29:31,683]\u001b[0m Trial 61 finished with value: 6.695047091330319 and parameters: {'lambda_l1': 2.9907574748115947e-06, 'lambda_l2': 0.14496772440015573}. Best is trial 48 with value: 6.646000781672475.\u001b[0m\n",
      "regularization_factors, val_score: 6.646001:  95%|###################################1 | 19/20 [00:22<00:01,  1.15s/it]"
     ]
    },
    {
     "name": "stdout",
     "output_type": "stream",
     "text": [
      "Training until validation scores don't improve for 100 rounds\n",
      "[100]\ttrain's rmse: 6.04942\teval's rmse: 7.48575\n",
      "[200]\ttrain's rmse: 5.26512\teval's rmse: 7.07518\n",
      "[300]\ttrain's rmse: 4.83335\teval's rmse: 6.87557\n",
      "[400]\ttrain's rmse: 4.54133\teval's rmse: 6.78354\n",
      "[500]\ttrain's rmse: 4.32744\teval's rmse: 6.72993\n",
      "[600]\ttrain's rmse: 4.15174\teval's rmse: 6.71885\n",
      "[700]\ttrain's rmse: 4.00264\teval's rmse: 6.69675\n",
      "[800]\ttrain's rmse: 3.87018\teval's rmse: 6.6744\n",
      "[900]\ttrain's rmse: 3.75413\teval's rmse: 6.67207\n",
      "Early stopping, best iteration is:\n",
      "[829]\ttrain's rmse: 3.83455\teval's rmse: 6.67093\n"
     ]
    },
    {
     "name": "stderr",
     "output_type": "stream",
     "text": [
      "regularization_factors, val_score: 6.646001: 100%|#####################################| 20/20 [00:23<00:00,  1.15s/it]\u001b[32m[I 2021-06-20 17:29:32,854]\u001b[0m Trial 62 finished with value: 6.6709295657190415 and parameters: {'lambda_l1': 1.2326928729919286, 'lambda_l2': 2.0833714173874297e-06}. Best is trial 48 with value: 6.646000781672475.\u001b[0m\n",
      "regularization_factors, val_score: 6.646001: 100%|#####################################| 20/20 [00:23<00:00,  1.17s/it]\n",
      "min_data_in_leaf, val_score: 6.646001:   0%|                                                     | 0/5 [00:00<?, ?it/s]"
     ]
    },
    {
     "name": "stdout",
     "output_type": "stream",
     "text": [
      "Training until validation scores don't improve for 100 rounds\n",
      "[100]\ttrain's rmse: 5.66711\teval's rmse: 7.34832\n",
      "[200]\ttrain's rmse: 4.76077\teval's rmse: 6.9904\n",
      "[300]\ttrain's rmse: 4.24096\teval's rmse: 6.89001\n",
      "[400]\ttrain's rmse: 3.86958\teval's rmse: 6.80482\n",
      "[500]\ttrain's rmse: 3.56677\teval's rmse: 6.75565\n",
      "[600]\ttrain's rmse: 3.3334\teval's rmse: 6.73917\n",
      "[700]\ttrain's rmse: 3.12906\teval's rmse: 6.7302\n",
      "[800]\ttrain's rmse: 2.93838\teval's rmse: 6.70253\n",
      "[900]\ttrain's rmse: 2.78238\teval's rmse: 6.7045\n",
      "Early stopping, best iteration is:\n",
      "[853]\ttrain's rmse: 2.85657\teval's rmse: 6.69406\n"
     ]
    },
    {
     "name": "stderr",
     "output_type": "stream",
     "text": [
      "min_data_in_leaf, val_score: 6.646001:  20%|#########                                    | 1/5 [00:01<00:04,  1.14s/it]\u001b[32m[I 2021-06-20 17:29:34,012]\u001b[0m Trial 63 finished with value: 6.69405845651165 and parameters: {'min_child_samples': 5}. Best is trial 63 with value: 6.69405845651165.\u001b[0m\n",
      "min_data_in_leaf, val_score: 6.646001:  20%|#########                                    | 1/5 [00:01<00:04,  1.14s/it]"
     ]
    },
    {
     "name": "stdout",
     "output_type": "stream",
     "text": [
      "Training until validation scores don't improve for 100 rounds\n",
      "[100]\ttrain's rmse: 6.49904\teval's rmse: 7.8417\n",
      "[200]\ttrain's rmse: 5.62218\teval's rmse: 7.39684\n",
      "[300]\ttrain's rmse: 5.12113\teval's rmse: 7.1422\n",
      "[400]\ttrain's rmse: 4.7735\teval's rmse: 7.00917\n",
      "[500]\ttrain's rmse: 4.52264\teval's rmse: 6.93469\n",
      "[600]\ttrain's rmse: 4.33158\teval's rmse: 6.92545\n",
      "[700]\ttrain's rmse: 4.16417\teval's rmse: 6.90147\n",
      "[800]\ttrain's rmse: 4.00965\teval's rmse: 6.88395\n",
      "[900]\ttrain's rmse: 3.87659\teval's rmse: 6.87163\n"
     ]
    },
    {
     "name": "stderr",
     "output_type": "stream",
     "text": [
      "\r",
      "min_data_in_leaf, val_score: 6.646001:  20%|#########                                    | 1/5 [00:02<00:04,  1.14s/it]"
     ]
    },
    {
     "name": "stdout",
     "output_type": "stream",
     "text": [
      "[1000]\ttrain's rmse: 3.75958\teval's rmse: 6.86682\n",
      "Did not meet early stopping. Best iteration is:\n",
      "[1000]\ttrain's rmse: 3.75958\teval's rmse: 6.86682\n"
     ]
    },
    {
     "name": "stderr",
     "output_type": "stream",
     "text": [
      "min_data_in_leaf, val_score: 6.646001:  40%|##################                           | 2/5 [00:02<00:03,  1.22s/it]\u001b[32m[I 2021-06-20 17:29:35,291]\u001b[0m Trial 64 finished with value: 6.866816806246465 and parameters: {'min_child_samples': 25}. Best is trial 63 with value: 6.69405845651165.\u001b[0m\n",
      "min_data_in_leaf, val_score: 6.646001:  40%|##################                           | 2/5 [00:02<00:03,  1.22s/it]"
     ]
    },
    {
     "name": "stdout",
     "output_type": "stream",
     "text": [
      "Training until validation scores don't improve for 100 rounds\n",
      "[100]\ttrain's rmse: 5.79209\teval's rmse: 7.40594\n",
      "[200]\ttrain's rmse: 4.91847\teval's rmse: 6.99824\n",
      "[300]\ttrain's rmse: 4.46113\teval's rmse: 6.85415\n",
      "[400]\ttrain's rmse: 4.1352\teval's rmse: 6.7684\n",
      "[500]\ttrain's rmse: 3.88177\teval's rmse: 6.71653\n",
      "[600]\ttrain's rmse: 3.67879\teval's rmse: 6.71334\n"
     ]
    },
    {
     "name": "stderr",
     "output_type": "stream",
     "text": [
      "\r",
      "min_data_in_leaf, val_score: 6.646001:  40%|##################                           | 2/5 [00:03<00:03,  1.22s/it]"
     ]
    },
    {
     "name": "stdout",
     "output_type": "stream",
     "text": [
      "[700]\ttrain's rmse: 3.50142\teval's rmse: 6.70062\n",
      "Early stopping, best iteration is:\n",
      "[648]\ttrain's rmse: 3.5956\teval's rmse: 6.69077\n"
     ]
    },
    {
     "name": "stderr",
     "output_type": "stream",
     "text": [
      "min_data_in_leaf, val_score: 6.646001:  60%|###########################                  | 3/5 [00:03<00:02,  1.08s/it]\u001b[32m[I 2021-06-20 17:29:36,195]\u001b[0m Trial 65 finished with value: 6.690770813660819 and parameters: {'min_child_samples': 10}. Best is trial 65 with value: 6.690770813660819.\u001b[0m\n",
      "min_data_in_leaf, val_score: 6.646001:  60%|###########################                  | 3/5 [00:03<00:02,  1.08s/it]"
     ]
    },
    {
     "name": "stdout",
     "output_type": "stream",
     "text": [
      "Training until validation scores don't improve for 100 rounds\n",
      "[100]\ttrain's rmse: 7.19375\teval's rmse: 8.24839\n",
      "[200]\ttrain's rmse: 6.36634\teval's rmse: 7.77586\n",
      "[300]\ttrain's rmse: 5.86459\teval's rmse: 7.51035\n",
      "[400]\ttrain's rmse: 5.50852\teval's rmse: 7.31562\n",
      "[500]\ttrain's rmse: 5.23717\teval's rmse: 7.1743\n",
      "[600]\ttrain's rmse: 5.02341\teval's rmse: 7.0716\n",
      "[700]\ttrain's rmse: 4.85404\teval's rmse: 7.00395\n",
      "[800]\ttrain's rmse: 4.70193\teval's rmse: 6.92894\n",
      "[900]\ttrain's rmse: 4.57257\teval's rmse: 6.88837\n",
      "[1000]\ttrain's rmse: 4.4476\teval's rmse: 6.86329\n",
      "Did not meet early stopping. Best iteration is:\n",
      "[1000]\ttrain's rmse: 4.4476\teval's rmse: 6.86329\n"
     ]
    },
    {
     "name": "stderr",
     "output_type": "stream",
     "text": [
      "min_data_in_leaf, val_score: 6.646001:  80%|####################################         | 4/5 [00:04<00:01,  1.13s/it]\u001b[32m[I 2021-06-20 17:29:37,413]\u001b[0m Trial 66 finished with value: 6.863292775966133 and parameters: {'min_child_samples': 50}. Best is trial 65 with value: 6.690770813660819.\u001b[0m\n",
      "min_data_in_leaf, val_score: 6.646001:  80%|####################################         | 4/5 [00:04<00:01,  1.13s/it]"
     ]
    },
    {
     "name": "stdout",
     "output_type": "stream",
     "text": [
      "Training until validation scores don't improve for 100 rounds\n",
      "[100]\ttrain's rmse: 8.28425\teval's rmse: 9.01223\n",
      "[200]\ttrain's rmse: 7.65975\teval's rmse: 8.57706\n",
      "[300]\ttrain's rmse: 7.29255\teval's rmse: 8.38676\n",
      "[400]\ttrain's rmse: 7.03042\teval's rmse: 8.26511\n",
      "[500]\ttrain's rmse: 6.81023\teval's rmse: 8.14577\n",
      "[600]\ttrain's rmse: 6.63745\teval's rmse: 8.05006\n",
      "[700]\ttrain's rmse: 6.4937\teval's rmse: 7.95431\n",
      "[800]\ttrain's rmse: 6.35178\teval's rmse: 7.84442\n",
      "[900]\ttrain's rmse: 6.23016\teval's rmse: 7.79827\n",
      "[1000]\ttrain's rmse: 6.12368\teval's rmse: 7.72266\n",
      "Did not meet early stopping. Best iteration is:\n",
      "[1000]\ttrain's rmse: 6.12368\teval's rmse: 7.72266\n"
     ]
    },
    {
     "name": "stderr",
     "output_type": "stream",
     "text": [
      "min_data_in_leaf, val_score: 6.646001: 100%|#############################################| 5/5 [00:05<00:00,  1.05s/it]\u001b[32m[I 2021-06-20 17:29:38,319]\u001b[0m Trial 67 finished with value: 7.722661141703883 and parameters: {'min_child_samples': 100}. Best is trial 65 with value: 6.690770813660819.\u001b[0m\n",
      "min_data_in_leaf, val_score: 6.646001: 100%|#############################################| 5/5 [00:05<00:00,  1.09s/it]\n",
      "\u001b[32m[I 2021-06-20 17:29:38,389]\u001b[0m A new study created in memory with name: no-name-d861981c-39bc-4fd1-9ec6-977a08bc953f\u001b[0m\n",
      "feature_fraction, val_score: inf:   0%|                                                          | 0/7 [00:00<?, ?it/s]"
     ]
    },
    {
     "name": "stdout",
     "output_type": "stream",
     "text": [
      "Training until validation scores don't improve for 100 rounds\n",
      "[100]\ttrain's rmse: 5.90481\teval's rmse: 6.69342\n",
      "[200]\ttrain's rmse: 4.9467\teval's rmse: 6.27845\n",
      "[300]\ttrain's rmse: 4.40005\teval's rmse: 6.17687\n",
      "[400]\ttrain's rmse: 4.04909\teval's rmse: 6.14173\n",
      "[500]\ttrain's rmse: 3.76213\teval's rmse: 6.08499\n"
     ]
    },
    {
     "name": "stderr",
     "output_type": "stream",
     "text": [
      "feature_fraction, val_score: 6.060474:  14%|######4                                      | 1/7 [00:00<00:05,  1.08it/s]\u001b[32m[I 2021-06-20 17:29:39,327]\u001b[0m Trial 0 finished with value: 6.060473665246335 and parameters: {'feature_fraction': 1.0}. Best is trial 0 with value: 6.060473665246335.\u001b[0m\n",
      "feature_fraction, val_score: 6.060474:  14%|######4                                      | 1/7 [00:00<00:05,  1.08it/s]"
     ]
    },
    {
     "name": "stdout",
     "output_type": "stream",
     "text": [
      "Early stopping, best iteration is:\n",
      "[479]\ttrain's rmse: 3.81123\teval's rmse: 6.06047\n",
      "Training until validation scores don't improve for 100 rounds\n",
      "[100]\ttrain's rmse: 6.06941\teval's rmse: 6.7204\n",
      "[200]\ttrain's rmse: 5.15086\teval's rmse: 6.26626\n",
      "[300]\ttrain's rmse: 4.62576\teval's rmse: 6.10937\n",
      "[400]\ttrain's rmse: 4.28135\teval's rmse: 6.1001\n",
      "[500]\ttrain's rmse: 4.00961\teval's rmse: 6.04626\n",
      "[600]\ttrain's rmse: 3.79016\teval's rmse: 6.05147\n"
     ]
    },
    {
     "name": "stderr",
     "output_type": "stream",
     "text": [
      "feature_fraction, val_score: 6.043708:  29%|############8                                | 2/7 [00:02<00:05,  1.02s/it]\u001b[32m[I 2021-06-20 17:29:40,417]\u001b[0m Trial 1 finished with value: 6.0437078100666035 and parameters: {'feature_fraction': 0.7}. Best is trial 1 with value: 6.0437078100666035.\u001b[0m\n",
      "feature_fraction, val_score: 6.043708:  29%|############8                                | 2/7 [00:02<00:05,  1.02s/it]"
     ]
    },
    {
     "name": "stdout",
     "output_type": "stream",
     "text": [
      "Early stopping, best iteration is:\n",
      "[582]\ttrain's rmse: 3.8288\teval's rmse: 6.04371\n",
      "Training until validation scores don't improve for 100 rounds\n",
      "[100]\ttrain's rmse: 6.30043\teval's rmse: 6.83851\n",
      "[200]\ttrain's rmse: 5.36817\teval's rmse: 6.29983\n",
      "[300]\ttrain's rmse: 4.86078\teval's rmse: 6.15861\n",
      "[400]\ttrain's rmse: 4.51714\teval's rmse: 6.10367\n",
      "[500]\ttrain's rmse: 4.25356\teval's rmse: 6.04027\n",
      "[600]\ttrain's rmse: 4.03624\teval's rmse: 6.04287\n",
      "Early stopping, best iteration is:\n",
      "[506]\ttrain's rmse: 4.23829\teval's rmse: 6.03429\n"
     ]
    },
    {
     "name": "stderr",
     "output_type": "stream",
     "text": [
      "feature_fraction, val_score: 6.034289:  43%|###################2                         | 3/7 [00:02<00:03,  1.01it/s]\u001b[32m[I 2021-06-20 17:29:41,370]\u001b[0m Trial 2 finished with value: 6.034289023783368 and parameters: {'feature_fraction': 0.6}. Best is trial 2 with value: 6.034289023783368.\u001b[0m\n",
      "feature_fraction, val_score: 6.034289:  43%|###################2                         | 3/7 [00:02<00:03,  1.01it/s]"
     ]
    },
    {
     "name": "stdout",
     "output_type": "stream",
     "text": [
      "Training until validation scores don't improve for 100 rounds\n",
      "[100]\ttrain's rmse: 6.01427\teval's rmse: 6.70561\n",
      "[200]\ttrain's rmse: 5.06119\teval's rmse: 6.27155\n",
      "[300]\ttrain's rmse: 4.53788\teval's rmse: 6.14457\n",
      "[400]\ttrain's rmse: 4.18733\teval's rmse: 6.10382\n",
      "[500]\ttrain's rmse: 3.92066\teval's rmse: 6.0516\n",
      "[600]\ttrain's rmse: 3.68673\teval's rmse: 6.04821\n",
      "Early stopping, best iteration is:\n",
      "[580]\ttrain's rmse: 3.73604\teval's rmse: 6.03896\n"
     ]
    },
    {
     "name": "stderr",
     "output_type": "stream",
     "text": [
      "feature_fraction, val_score: 6.034289:  57%|#########################7                   | 4/7 [00:04<00:03,  1.02s/it]\u001b[32m[I 2021-06-20 17:29:42,439]\u001b[0m Trial 3 finished with value: 6.038962162121676 and parameters: {'feature_fraction': 0.8}. Best is trial 2 with value: 6.034289023783368.\u001b[0m\n",
      "feature_fraction, val_score: 6.034289:  57%|#########################7                   | 4/7 [00:04<00:03,  1.02s/it]"
     ]
    },
    {
     "name": "stdout",
     "output_type": "stream",
     "text": [
      "Training until validation scores don't improve for 100 rounds\n",
      "[100]\ttrain's rmse: 5.92307\teval's rmse: 6.66622\n",
      "[200]\ttrain's rmse: 4.96686\teval's rmse: 6.21288\n",
      "[300]\ttrain's rmse: 4.45158\teval's rmse: 6.13403\n",
      "[400]\ttrain's rmse: 4.08543\teval's rmse: 6.09995\n",
      "[500]\ttrain's rmse: 3.80086\teval's rmse: 6.0377\n"
     ]
    },
    {
     "name": "stderr",
     "output_type": "stream",
     "text": [
      "feature_fraction, val_score: 6.032212:  71%|################################1            | 5/7 [00:05<00:02,  1.03s/it]\u001b[32m[I 2021-06-20 17:29:43,470]\u001b[0m Trial 4 finished with value: 6.032212138317387 and parameters: {'feature_fraction': 0.8999999999999999}. Best is trial 4 with value: 6.032212138317387.\u001b[0m\n",
      "feature_fraction, val_score: 6.032212:  71%|################################1            | 5/7 [00:05<00:02,  1.03s/it]"
     ]
    },
    {
     "name": "stdout",
     "output_type": "stream",
     "text": [
      "[600]\ttrain's rmse: 3.5652\teval's rmse: 6.05535\n",
      "Early stopping, best iteration is:\n",
      "[506]\ttrain's rmse: 3.78475\teval's rmse: 6.03221\n",
      "Training until validation scores don't improve for 100 rounds\n",
      "[100]\ttrain's rmse: 6.80804\teval's rmse: 7.27598\n",
      "[200]\ttrain's rmse: 5.82219\teval's rmse: 6.58577\n",
      "[300]\ttrain's rmse: 5.30915\teval's rmse: 6.38422\n",
      "[400]\ttrain's rmse: 4.98056\teval's rmse: 6.28238\n",
      "[500]\ttrain's rmse: 4.71379\teval's rmse: 6.23445\n",
      "[600]\ttrain's rmse: 4.51514\teval's rmse: 6.18793\n",
      "[700]\ttrain's rmse: 4.359\teval's rmse: 6.16295\n",
      "[800]\ttrain's rmse: 4.19618\teval's rmse: 6.15603\n",
      "[900]\ttrain's rmse: 4.07453\teval's rmse: 6.15776\n",
      "[1000]\ttrain's rmse: 3.96726\teval's rmse: 6.15869\n",
      "Did not meet early stopping. Best iteration is:\n",
      "[1000]\ttrain's rmse: 3.96726\teval's rmse: 6.15869\n"
     ]
    },
    {
     "name": "stderr",
     "output_type": "stream",
     "text": [
      "feature_fraction, val_score: 6.032212:  86%|######################################5      | 6/7 [00:06<00:01,  1.18s/it]\u001b[32m[I 2021-06-20 17:29:44,949]\u001b[0m Trial 5 finished with value: 6.158685911634306 and parameters: {'feature_fraction': 0.4}. Best is trial 4 with value: 6.032212138317387.\u001b[0m\n",
      "feature_fraction, val_score: 6.032212:  86%|######################################5      | 6/7 [00:06<00:01,  1.18s/it]"
     ]
    },
    {
     "name": "stdout",
     "output_type": "stream",
     "text": [
      "Training until validation scores don't improve for 100 rounds\n",
      "[100]\ttrain's rmse: 6.45036\teval's rmse: 6.97023\n",
      "[200]\ttrain's rmse: 5.53521\teval's rmse: 6.43332\n",
      "[300]\ttrain's rmse: 5.03365\teval's rmse: 6.25766\n",
      "[400]\ttrain's rmse: 4.69802\teval's rmse: 6.20169\n",
      "[500]\ttrain's rmse: 4.4529\teval's rmse: 6.16353\n",
      "[600]\ttrain's rmse: 4.23729\teval's rmse: 6.12733\n",
      "[700]\ttrain's rmse: 4.0692\teval's rmse: 6.11483\n",
      "Early stopping, best iteration is:\n",
      "[670]\ttrain's rmse: 4.11554\teval's rmse: 6.10596\n"
     ]
    },
    {
     "name": "stderr",
     "output_type": "stream",
     "text": [
      "feature_fraction, val_score: 6.032212: 100%|#############################################| 7/7 [00:07<00:00,  1.18s/it]\u001b[32m[I 2021-06-20 17:29:46,125]\u001b[0m Trial 6 finished with value: 6.105960088479305 and parameters: {'feature_fraction': 0.5}. Best is trial 4 with value: 6.032212138317387.\u001b[0m\n",
      "feature_fraction, val_score: 6.032212: 100%|#############################################| 7/7 [00:07<00:00,  1.10s/it]\n",
      "num_leaves, val_score: 6.032212:   0%|                                                          | 0/20 [00:00<?, ?it/s]"
     ]
    },
    {
     "name": "stdout",
     "output_type": "stream",
     "text": [
      "Training until validation scores don't improve for 100 rounds\n",
      "[100]\ttrain's rmse: 6.08616\teval's rmse: 6.70346\n",
      "[200]\ttrain's rmse: 5.19822\teval's rmse: 6.23216\n",
      "[300]\ttrain's rmse: 4.72636\teval's rmse: 6.14096\n",
      "[400]\ttrain's rmse: 4.40683\teval's rmse: 6.12514\n",
      "[500]\ttrain's rmse: 4.1473\teval's rmse: 6.06499\n"
     ]
    },
    {
     "name": "stderr",
     "output_type": "stream",
     "text": [
      "num_leaves, val_score: 6.032212:   5%|##5                                               | 1/20 [00:00<00:15,  1.22it/s]\u001b[32m[I 2021-06-20 17:29:46,958]\u001b[0m Trial 7 finished with value: 6.057518948835029 and parameters: {'num_leaves': 24}. Best is trial 7 with value: 6.057518948835029.\u001b[0m\n",
      "num_leaves, val_score: 6.032212:   5%|##5                                               | 1/20 [00:00<00:15,  1.22it/s]"
     ]
    },
    {
     "name": "stdout",
     "output_type": "stream",
     "text": [
      "[600]\ttrain's rmse: 3.94088\teval's rmse: 6.08481\n",
      "Early stopping, best iteration is:\n",
      "[505]\ttrain's rmse: 4.13304\teval's rmse: 6.05752\n",
      "Training until validation scores don't improve for 100 rounds\n",
      "[100]\ttrain's rmse: 5.74563\teval's rmse: 6.70403\n",
      "[200]\ttrain's rmse: 4.68162\teval's rmse: 6.255\n",
      "[300]\ttrain's rmse: 4.09472\teval's rmse: 6.20467\n",
      "[400]\ttrain's rmse: 3.69487\teval's rmse: 6.19115\n",
      "Early stopping, best iteration is:\n",
      "[350]\ttrain's rmse: 3.8818\teval's rmse: 6.16062\n"
     ]
    },
    {
     "name": "stderr",
     "output_type": "stream",
     "text": [
      "num_leaves, val_score: 6.032212:  10%|#####                                             | 2/20 [00:01<00:17,  1.03it/s]\u001b[32m[I 2021-06-20 17:29:48,033]\u001b[0m Trial 8 finished with value: 6.1606155546825105 and parameters: {'num_leaves': 222}. Best is trial 7 with value: 6.057518948835029.\u001b[0m\n",
      "num_leaves, val_score: 6.032212:  10%|#####                                             | 2/20 [00:01<00:17,  1.03it/s]"
     ]
    },
    {
     "name": "stdout",
     "output_type": "stream",
     "text": [
      "Training until validation scores don't improve for 100 rounds\n",
      "[100]\ttrain's rmse: 5.84375\teval's rmse: 6.71151\n",
      "[200]\ttrain's rmse: 4.88322\teval's rmse: 6.27452\n",
      "[300]\ttrain's rmse: 4.35065\teval's rmse: 6.17815\n",
      "[400]\ttrain's rmse: 3.98121\teval's rmse: 6.13985\n",
      "[500]\ttrain's rmse: 3.68411\teval's rmse: 6.09566\n"
     ]
    },
    {
     "name": "stderr",
     "output_type": "stream",
     "text": [
      "num_leaves, val_score: 6.032212:  15%|#######5                                          | 3/20 [00:02<00:16,  1.00it/s]\u001b[32m[I 2021-06-20 17:29:49,068]\u001b[0m Trial 9 finished with value: 6.086923430036583 and parameters: {'num_leaves': 34}. Best is trial 7 with value: 6.057518948835029.\u001b[0m\n",
      "num_leaves, val_score: 6.032212:  15%|#######5                                          | 3/20 [00:02<00:16,  1.00it/s]"
     ]
    },
    {
     "name": "stdout",
     "output_type": "stream",
     "text": [
      "Early stopping, best iteration is:\n",
      "[480]\ttrain's rmse: 3.73743\teval's rmse: 6.08692\n",
      "Training until validation scores don't improve for 100 rounds\n",
      "[100]\ttrain's rmse: 5.74563\teval's rmse: 6.70403\n",
      "[200]\ttrain's rmse: 4.68162\teval's rmse: 6.255\n",
      "[300]\ttrain's rmse: 4.09472\teval's rmse: 6.20467\n",
      "[400]\ttrain's rmse: 3.69487\teval's rmse: 6.19115\n",
      "Early stopping, best iteration is:\n",
      "[350]\ttrain's rmse: 3.8818\teval's rmse: 6.16062\n"
     ]
    },
    {
     "name": "stderr",
     "output_type": "stream",
     "text": [
      "num_leaves, val_score: 6.032212:  20%|##########                                        | 4/20 [00:04<00:16,  1.04s/it]\u001b[32m[I 2021-06-20 17:29:50,163]\u001b[0m Trial 10 finished with value: 6.1606155546825105 and parameters: {'num_leaves': 179}. Best is trial 7 with value: 6.057518948835029.\u001b[0m\n",
      "num_leaves, val_score: 6.032212:  20%|##########                                        | 4/20 [00:04<00:16,  1.04s/it]"
     ]
    },
    {
     "name": "stdout",
     "output_type": "stream",
     "text": [
      "Training until validation scores don't improve for 100 rounds\n",
      "[100]\ttrain's rmse: 5.74563\teval's rmse: 6.70403\n",
      "[200]\ttrain's rmse: 4.68162\teval's rmse: 6.255\n",
      "[300]\ttrain's rmse: 4.09472\teval's rmse: 6.20467\n",
      "[400]\ttrain's rmse: 3.69487\teval's rmse: 6.19115\n",
      "Early stopping, best iteration is:\n",
      "[350]\ttrain's rmse: 3.8818\teval's rmse: 6.16062\n"
     ]
    },
    {
     "name": "stderr",
     "output_type": "stream",
     "text": [
      "num_leaves, val_score: 6.032212:  25%|############5                                     | 5/20 [00:04<00:15,  1.01s/it]\u001b[32m[I 2021-06-20 17:29:51,114]\u001b[0m Trial 11 finished with value: 6.1606155546825105 and parameters: {'num_leaves': 95}. Best is trial 7 with value: 6.057518948835029.\u001b[0m\n",
      "num_leaves, val_score: 6.032212:  25%|############5                                     | 5/20 [00:04<00:15,  1.01s/it]"
     ]
    },
    {
     "name": "stdout",
     "output_type": "stream",
     "text": [
      "Training until validation scores don't improve for 100 rounds\n",
      "[100]\ttrain's rmse: 5.74563\teval's rmse: 6.70403\n",
      "[200]\ttrain's rmse: 4.68162\teval's rmse: 6.255\n",
      "[300]\ttrain's rmse: 4.09472\teval's rmse: 6.20467\n",
      "[400]\ttrain's rmse: 3.69487\teval's rmse: 6.19115\n",
      "Early stopping, best iteration is:\n",
      "[350]\ttrain's rmse: 3.8818\teval's rmse: 6.16062\n"
     ]
    },
    {
     "name": "stderr",
     "output_type": "stream",
     "text": [
      "num_leaves, val_score: 6.032212:  30%|###############                                   | 6/20 [00:05<00:14,  1.00s/it]\u001b[32m[I 2021-06-20 17:29:52,116]\u001b[0m Trial 12 finished with value: 6.1606155546825105 and parameters: {'num_leaves': 197}. Best is trial 7 with value: 6.057518948835029.\u001b[0m\n",
      "num_leaves, val_score: 6.032212:  30%|###############                                   | 6/20 [00:05<00:14,  1.00s/it]"
     ]
    },
    {
     "name": "stdout",
     "output_type": "stream",
     "text": [
      "Training until validation scores don't improve for 100 rounds\n",
      "[100]\ttrain's rmse: 6.8131\teval's rmse: 6.98009\n",
      "[200]\ttrain's rmse: 6.02066\teval's rmse: 6.40158\n",
      "[300]\ttrain's rmse: 5.59799\teval's rmse: 6.21735\n",
      "[400]\ttrain's rmse: 5.3286\teval's rmse: 6.15845\n",
      "[500]\ttrain's rmse: 5.11027\teval's rmse: 6.06776\n",
      "[600]\ttrain's rmse: 4.92352\teval's rmse: 6.07018\n"
     ]
    },
    {
     "name": "stderr",
     "output_type": "stream",
     "text": [
      "\r",
      "num_leaves, val_score: 6.028351:  30%|###############                                   | 6/20 [00:06<00:14,  1.00s/it]"
     ]
    },
    {
     "name": "stdout",
     "output_type": "stream",
     "text": [
      "[700]\ttrain's rmse: 4.7706\teval's rmse: 6.04831\n",
      "[800]\ttrain's rmse: 4.6326\teval's rmse: 6.04914\n",
      "Early stopping, best iteration is:\n",
      "[771]\ttrain's rmse: 4.66888\teval's rmse: 6.02835\n"
     ]
    },
    {
     "name": "stderr",
     "output_type": "stream",
     "text": [
      "num_leaves, val_score: 6.028351:  35%|#################5                                | 7/20 [00:06<00:11,  1.09it/s]\u001b[32m[I 2021-06-20 17:29:52,849]\u001b[0m Trial 13 finished with value: 6.028350843782247 and parameters: {'num_leaves': 12}. Best is trial 13 with value: 6.028350843782247.\u001b[0m\n",
      "num_leaves, val_score: 6.028351:  35%|#################5                                | 7/20 [00:06<00:11,  1.09it/s]"
     ]
    },
    {
     "name": "stdout",
     "output_type": "stream",
     "text": [
      "Training until validation scores don't improve for 100 rounds\n",
      "[100]\ttrain's rmse: 5.74563\teval's rmse: 6.70403\n",
      "[200]\ttrain's rmse: 4.68162\teval's rmse: 6.255\n",
      "[300]\ttrain's rmse: 4.09472\teval's rmse: 6.20467\n",
      "[400]\ttrain's rmse: 3.69487\teval's rmse: 6.19115\n",
      "Early stopping, best iteration is:\n",
      "[350]\ttrain's rmse: 3.8818\teval's rmse: 6.16062\n"
     ]
    },
    {
     "name": "stderr",
     "output_type": "stream",
     "text": [
      "num_leaves, val_score: 6.028351:  40%|####################                              | 8/20 [00:07<00:11,  1.05it/s]\u001b[32m[I 2021-06-20 17:29:53,880]\u001b[0m Trial 14 finished with value: 6.1606155546825105 and parameters: {'num_leaves': 160}. Best is trial 13 with value: 6.028350843782247.\u001b[0m\n",
      "num_leaves, val_score: 6.028351:  40%|####################                              | 8/20 [00:07<00:11,  1.05it/s]"
     ]
    },
    {
     "name": "stdout",
     "output_type": "stream",
     "text": [
      "Training until validation scores don't improve for 100 rounds\n",
      "[100]\ttrain's rmse: 5.74563\teval's rmse: 6.70403\n",
      "[200]\ttrain's rmse: 4.68162\teval's rmse: 6.255\n",
      "[300]\ttrain's rmse: 4.09472\teval's rmse: 6.20467\n",
      "[400]\ttrain's rmse: 3.69487\teval's rmse: 6.19115\n",
      "Early stopping, best iteration is:\n",
      "[350]\ttrain's rmse: 3.8818\teval's rmse: 6.16062\n"
     ]
    },
    {
     "name": "stderr",
     "output_type": "stream",
     "text": [
      "num_leaves, val_score: 6.028351:  45%|######################5                           | 9/20 [00:08<00:10,  1.02it/s]\u001b[32m[I 2021-06-20 17:29:54,911]\u001b[0m Trial 15 finished with value: 6.1606155546825105 and parameters: {'num_leaves': 94}. Best is trial 13 with value: 6.028350843782247.\u001b[0m\n",
      "num_leaves, val_score: 6.028351:  45%|######################5                           | 9/20 [00:08<00:10,  1.02it/s]"
     ]
    },
    {
     "name": "stdout",
     "output_type": "stream",
     "text": [
      "Training until validation scores don't improve for 100 rounds\n",
      "[100]\ttrain's rmse: 5.74563\teval's rmse: 6.70403\n",
      "[200]\ttrain's rmse: 4.68162\teval's rmse: 6.255\n",
      "[300]\ttrain's rmse: 4.09472\teval's rmse: 6.20467\n",
      "[400]\ttrain's rmse: 3.69487\teval's rmse: 6.19115\n",
      "Early stopping, best iteration is:\n",
      "[350]\ttrain's rmse: 3.8818\teval's rmse: 6.16062\n"
     ]
    },
    {
     "name": "stderr",
     "output_type": "stream",
     "text": [
      "num_leaves, val_score: 6.028351:  50%|########################5                        | 10/20 [00:10<00:10,  1.08s/it]\u001b[32m[I 2021-06-20 17:29:56,224]\u001b[0m Trial 16 finished with value: 6.1606155546825105 and parameters: {'num_leaves': 62}. Best is trial 13 with value: 6.028350843782247.\u001b[0m\n",
      "num_leaves, val_score: 6.028351:  50%|########################5                        | 10/20 [00:10<00:10,  1.08s/it]"
     ]
    },
    {
     "name": "stdout",
     "output_type": "stream",
     "text": [
      "Training until validation scores don't improve for 100 rounds\n",
      "[100]\ttrain's rmse: 9.57749\teval's rmse: 9.60303\n",
      "[200]\ttrain's rmse: 8.57273\teval's rmse: 8.5059\n",
      "[300]\ttrain's rmse: 8.33479\teval's rmse: 8.25711\n",
      "[400]\ttrain's rmse: 8.23646\teval's rmse: 8.19628\n",
      "[500]\ttrain's rmse: 8.17403\teval's rmse: 8.13865\n",
      "[600]\ttrain's rmse: 8.13101\teval's rmse: 8.09428\n"
     ]
    },
    {
     "name": "stderr",
     "output_type": "stream",
     "text": [
      "num_leaves, val_score: 6.028351:  55%|##########################9                      | 11/20 [00:10<00:07,  1.14it/s]\u001b[32m[I 2021-06-20 17:29:56,632]\u001b[0m Trial 17 finished with value: 7.9801140361468095 and parameters: {'num_leaves': 2}. Best is trial 13 with value: 6.028350843782247.\u001b[0m\n",
      "num_leaves, val_score: 6.028351:  55%|##########################9                      | 11/20 [00:10<00:07,  1.14it/s]"
     ]
    },
    {
     "name": "stdout",
     "output_type": "stream",
     "text": [
      "[700]\ttrain's rmse: 8.09709\teval's rmse: 8.04862\n",
      "[800]\ttrain's rmse: 8.0709\teval's rmse: 8.04541\n",
      "[900]\ttrain's rmse: 8.04606\teval's rmse: 8.00868\n",
      "[1000]\ttrain's rmse: 8.02859\teval's rmse: 7.98011\n",
      "Did not meet early stopping. Best iteration is:\n",
      "[1000]\ttrain's rmse: 8.02859\teval's rmse: 7.98011\n",
      "Training until validation scores don't improve for 100 rounds\n",
      "[100]\ttrain's rmse: 7.9373\teval's rmse: 7.9643\n",
      "[200]\ttrain's rmse: 7.36088\teval's rmse: 7.40499\n",
      "[300]\ttrain's rmse: 7.04585\teval's rmse: 7.11856\n",
      "[400]\ttrain's rmse: 6.78453\teval's rmse: 6.98894\n",
      "[500]\ttrain's rmse: 6.57041\teval's rmse: 6.83574\n",
      "[600]\ttrain's rmse: 6.40928\teval's rmse: 6.73356\n"
     ]
    },
    {
     "name": "stderr",
     "output_type": "stream",
     "text": [
      "\r",
      "num_leaves, val_score: 6.028351:  55%|##########################9                      | 11/20 [00:11<00:07,  1.14it/s]"
     ]
    },
    {
     "name": "stdout",
     "output_type": "stream",
     "text": [
      "[700]\ttrain's rmse: 6.26342\teval's rmse: 6.65763\n",
      "[800]\ttrain's rmse: 6.15928\teval's rmse: 6.57999\n",
      "[900]\ttrain's rmse: 6.04437\teval's rmse: 6.48762\n",
      "[1000]\ttrain's rmse: 5.95562\teval's rmse: 6.41628\n",
      "Did not meet early stopping. Best iteration is:\n",
      "[1000]\ttrain's rmse: 5.95562\teval's rmse: 6.41628\n"
     ]
    },
    {
     "name": "stderr",
     "output_type": "stream",
     "text": [
      "num_leaves, val_score: 6.028351:  60%|#############################4                   | 12/20 [00:11<00:06,  1.30it/s]\u001b[32m[I 2021-06-20 17:29:57,162]\u001b[0m Trial 18 finished with value: 6.416284339629839 and parameters: {'num_leaves': 4}. Best is trial 13 with value: 6.028350843782247.\u001b[0m\n",
      "num_leaves, val_score: 6.028351:  60%|#############################4                   | 12/20 [00:11<00:06,  1.30it/s]"
     ]
    },
    {
     "name": "stdout",
     "output_type": "stream",
     "text": [
      "Training until validation scores don't improve for 100 rounds\n",
      "[100]\ttrain's rmse: 5.76994\teval's rmse: 6.66565\n",
      "[200]\ttrain's rmse: 4.76011\teval's rmse: 6.23336\n",
      "[300]\ttrain's rmse: 4.19141\teval's rmse: 6.11106\n"
     ]
    },
    {
     "name": "stderr",
     "output_type": "stream",
     "text": [
      "num_leaves, val_score: 6.028351:  65%|###############################8                 | 13/20 [00:11<00:05,  1.28it/s]\u001b[32m[I 2021-06-20 17:29:57,965]\u001b[0m Trial 19 finished with value: 6.0903408104147445 and parameters: {'num_leaves': 40}. Best is trial 13 with value: 6.028350843782247.\u001b[0m\n",
      "num_leaves, val_score: 6.028351:  65%|###############################8                 | 13/20 [00:11<00:05,  1.28it/s]"
     ]
    },
    {
     "name": "stdout",
     "output_type": "stream",
     "text": [
      "[400]\ttrain's rmse: 3.79992\teval's rmse: 6.11007\n",
      "Early stopping, best iteration is:\n",
      "[321]\ttrain's rmse: 4.09546\teval's rmse: 6.09034\n",
      "Training until validation scores don't improve for 100 rounds\n",
      "[100]\ttrain's rmse: 9.57749\teval's rmse: 9.60303\n",
      "[200]\ttrain's rmse: 8.57273\teval's rmse: 8.5059\n",
      "[300]\ttrain's rmse: 8.33479\teval's rmse: 8.25711\n",
      "[400]\ttrain's rmse: 8.23646\teval's rmse: 8.19628\n",
      "[500]\ttrain's rmse: 8.17403\teval's rmse: 8.13865\n",
      "[600]\ttrain's rmse: 8.13101\teval's rmse: 8.09428\n",
      "[700]\ttrain's rmse: 8.09709\teval's rmse: 8.04862\n",
      "[800]\ttrain's rmse: 8.0709\teval's rmse: 8.04541"
     ]
    },
    {
     "name": "stderr",
     "output_type": "stream",
     "text": [
      "num_leaves, val_score: 6.028351:  70%|##################################3              | 14/20 [00:12<00:04,  1.50it/s]\u001b[32m[I 2021-06-20 17:29:58,372]\u001b[0m Trial 20 finished with value: 7.9801140361468095 and parameters: {'num_leaves': 2}. Best is trial 13 with value: 6.028350843782247.\u001b[0m\n",
      "num_leaves, val_score: 6.028351:  70%|##################################3              | 14/20 [00:12<00:04,  1.50it/s]"
     ]
    },
    {
     "name": "stdout",
     "output_type": "stream",
     "text": [
      "\n",
      "[900]\ttrain's rmse: 8.04606\teval's rmse: 8.00868\n",
      "[1000]\ttrain's rmse: 8.02859\teval's rmse: 7.98011\n",
      "Did not meet early stopping. Best iteration is:\n",
      "[1000]\ttrain's rmse: 8.02859\teval's rmse: 7.98011\n",
      "Training until validation scores don't improve for 100 rounds\n",
      "[100]\ttrain's rmse: 5.74563\teval's rmse: 6.70403\n",
      "[200]\ttrain's rmse: 4.68162\teval's rmse: 6.255\n",
      "[300]\ttrain's rmse: 4.09472\teval's rmse: 6.20467\n",
      "[400]\ttrain's rmse: 3.69487\teval's rmse: 6.19115\n"
     ]
    },
    {
     "name": "stderr",
     "output_type": "stream",
     "text": [
      "num_leaves, val_score: 6.028351:  75%|####################################7            | 15/20 [00:13<00:03,  1.29it/s]\u001b[32m[I 2021-06-20 17:29:59,398]\u001b[0m Trial 21 finished with value: 6.1606155546825105 and parameters: {'num_leaves': 119}. Best is trial 13 with value: 6.028350843782247.\u001b[0m\n",
      "num_leaves, val_score: 6.028351:  75%|####################################7            | 15/20 [00:13<00:03,  1.29it/s]"
     ]
    },
    {
     "name": "stdout",
     "output_type": "stream",
     "text": [
      "Early stopping, best iteration is:\n",
      "[350]\ttrain's rmse: 3.8818\teval's rmse: 6.16062\n",
      "Training until validation scores don't improve for 100 rounds\n",
      "[100]\ttrain's rmse: 5.74564\teval's rmse: 6.70399\n",
      "[200]\ttrain's rmse: 4.68282\teval's rmse: 6.25534\n",
      "[300]\ttrain's rmse: 4.09806\teval's rmse: 6.19829\n",
      "[400]\ttrain's rmse: 3.6967\teval's rmse: 6.17165\n"
     ]
    },
    {
     "name": "stderr",
     "output_type": "stream",
     "text": [
      "num_leaves, val_score: 6.028351:  80%|#######################################2         | 16/20 [00:14<00:03,  1.14it/s]\u001b[32m[I 2021-06-20 17:30:00,523]\u001b[0m Trial 22 finished with value: 6.164407909170417 and parameters: {'num_leaves': 54}. Best is trial 13 with value: 6.028350843782247.\u001b[0m\n",
      "num_leaves, val_score: 6.028351:  80%|#######################################2         | 16/20 [00:14<00:03,  1.14it/s]"
     ]
    },
    {
     "name": "stdout",
     "output_type": "stream",
     "text": [
      "Early stopping, best iteration is:\n",
      "[395]\ttrain's rmse: 3.71796\teval's rmse: 6.16441\n",
      "Training until validation scores don't improve for 100 rounds\n",
      "[100]\ttrain's rmse: 6.00444\teval's rmse: 6.74254\n",
      "[200]\ttrain's rmse: 5.06854\teval's rmse: 6.26565\n",
      "[300]\ttrain's rmse: 4.56339\teval's rmse: 6.17016\n",
      "[400]\ttrain's rmse: 4.22196\teval's rmse: 6.15694\n",
      "[500]\ttrain's rmse: 3.94225\teval's rmse: 6.06902\n",
      "[600]\ttrain's rmse: 3.7172\teval's rmse: 6.06426\n",
      "Early stopping, best iteration is:\n",
      "[580]\ttrain's rmse: 3.76415\teval's rmse: 6.05009\n"
     ]
    },
    {
     "name": "stderr",
     "output_type": "stream",
     "text": [
      "num_leaves, val_score: 6.028351:  85%|#########################################6       | 17/20 [00:15<00:02,  1.07it/s]\u001b[32m[I 2021-06-20 17:30:01,570]\u001b[0m Trial 23 finished with value: 6.050087145386288 and parameters: {'num_leaves': 28}. Best is trial 13 with value: 6.028350843782247.\u001b[0m\n",
      "num_leaves, val_score: 6.028351:  85%|#########################################6       | 17/20 [00:15<00:02,  1.07it/s]"
     ]
    },
    {
     "name": "stdout",
     "output_type": "stream",
     "text": [
      "Training until validation scores don't improve for 100 rounds\n",
      "[100]\ttrain's rmse: 5.74563\teval's rmse: 6.70403\n",
      "[200]\ttrain's rmse: 4.68162\teval's rmse: 6.255\n",
      "[300]\ttrain's rmse: 4.09472\teval's rmse: 6.20467\n",
      "[400]\ttrain's rmse: 3.69487\teval's rmse: 6.19115\n",
      "Early stopping, best iteration is:\n",
      "[350]\ttrain's rmse: 3.8818\teval's rmse: 6.16062\n"
     ]
    },
    {
     "name": "stderr",
     "output_type": "stream",
     "text": [
      "num_leaves, val_score: 6.028351:  90%|############################################1    | 18/20 [00:16<00:01,  1.07it/s]\u001b[32m[I 2021-06-20 17:30:02,523]\u001b[0m Trial 24 finished with value: 6.1606155546825105 and parameters: {'num_leaves': 77}. Best is trial 13 with value: 6.028350843782247.\u001b[0m\n",
      "num_leaves, val_score: 6.028351:  90%|############################################1    | 18/20 [00:16<00:01,  1.07it/s]"
     ]
    },
    {
     "name": "stdout",
     "output_type": "stream",
     "text": [
      "Training until validation scores don't improve for 100 rounds\n",
      "[100]\ttrain's rmse: 5.74563\teval's rmse: 6.70403\n",
      "[200]\ttrain's rmse: 4.68162\teval's rmse: 6.255\n",
      "[300]\ttrain's rmse: 4.09472\teval's rmse: 6.20467\n",
      "[400]\ttrain's rmse: 3.69487\teval's rmse: 6.19115\n",
      "Early stopping, best iteration is:\n",
      "[350]\ttrain's rmse: 3.8818\teval's rmse: 6.16062\n"
     ]
    },
    {
     "name": "stderr",
     "output_type": "stream",
     "text": [
      "num_leaves, val_score: 6.028351:  95%|##############################################5  | 19/20 [00:17<00:00,  1.05it/s]\u001b[32m[I 2021-06-20 17:30:03,514]\u001b[0m Trial 25 finished with value: 6.1606155546825105 and parameters: {'num_leaves': 141}. Best is trial 13 with value: 6.028350843782247.\u001b[0m\n",
      "num_leaves, val_score: 6.028351:  95%|##############################################5  | 19/20 [00:17<00:00,  1.05it/s]"
     ]
    },
    {
     "name": "stdout",
     "output_type": "stream",
     "text": [
      "Training until validation scores don't improve for 100 rounds\n",
      "[100]\ttrain's rmse: 5.74563\teval's rmse: 6.70403\n",
      "[200]\ttrain's rmse: 4.68162\teval's rmse: 6.255\n",
      "[300]\ttrain's rmse: 4.09472\teval's rmse: 6.20467\n",
      "[400]\ttrain's rmse: 3.69487\teval's rmse: 6.19115\n",
      "Early stopping, best iteration is:\n",
      "[350]\ttrain's rmse: 3.8818\teval's rmse: 6.16062\n"
     ]
    },
    {
     "name": "stderr",
     "output_type": "stream",
     "text": [
      "num_leaves, val_score: 6.028351: 100%|#################################################| 20/20 [00:18<00:00,  1.03it/s]\u001b[32m[I 2021-06-20 17:30:04,532]\u001b[0m Trial 26 finished with value: 6.1606155546825105 and parameters: {'num_leaves': 246}. Best is trial 13 with value: 6.028350843782247.\u001b[0m\n",
      "num_leaves, val_score: 6.028351: 100%|#################################################| 20/20 [00:18<00:00,  1.09it/s]\n",
      "bagging, val_score: 6.028351:   0%|                                                             | 0/10 [00:00<?, ?it/s]"
     ]
    },
    {
     "name": "stdout",
     "output_type": "stream",
     "text": [
      "Training until validation scores don't improve for 100 rounds\n",
      "[100]\ttrain's rmse: 7.52612\teval's rmse: 7.74503\n",
      "[200]\ttrain's rmse: 6.72399\teval's rmse: 7.1443\n",
      "[300]\ttrain's rmse: 6.18685\teval's rmse: 6.76463\n",
      "[400]\ttrain's rmse: 5.87293\teval's rmse: 6.61234\n",
      "[500]\ttrain's rmse: 5.60081\teval's rmse: 6.48387\n",
      "[600]\ttrain's rmse: 5.4285\teval's rmse: 6.39561\n",
      "[700]\ttrain's rmse: 5.26937\teval's rmse: 6.46446\n",
      "Early stopping, best iteration is:\n",
      "[600]\ttrain's rmse: 5.4285\teval's rmse: 6.39561\n"
     ]
    },
    {
     "name": "stderr",
     "output_type": "stream",
     "text": [
      "bagging, val_score: 6.028351:  10%|#####3                                               | 1/10 [00:00<00:05,  1.64it/s]\u001b[32m[I 2021-06-20 17:30:05,154]\u001b[0m Trial 27 finished with value: 6.395610155291118 and parameters: {'bagging_fraction': 0.44558871065724875, 'bagging_freq': 7}. Best is trial 27 with value: 6.395610155291118.\u001b[0m\n",
      "bagging, val_score: 6.028351:  10%|#####3                                               | 1/10 [00:00<00:05,  1.64it/s]"
     ]
    },
    {
     "name": "stdout",
     "output_type": "stream",
     "text": [
      "Training until validation scores don't improve for 100 rounds\n",
      "[100]\ttrain's rmse: 7.46254\teval's rmse: 7.74929\n",
      "[200]\ttrain's rmse: 6.6522\teval's rmse: 7.06218\n",
      "[300]\ttrain's rmse: 6.14925\teval's rmse: 6.7237\n",
      "[400]\ttrain's rmse: 5.83084\teval's rmse: 6.60893\n",
      "[500]\ttrain's rmse: 5.58192\teval's rmse: 6.45787\n",
      "[600]\ttrain's rmse: 5.38356\teval's rmse: 6.35166\n",
      "[700]\ttrain's rmse: 5.22871\teval's rmse: 6.30767\n",
      "[800]\ttrain's rmse: 5.10704\teval's rmse: 6.2473\n",
      "[900]\ttrain's rmse: 5.00569\teval's rmse: 6.23867\n"
     ]
    },
    {
     "name": "stderr",
     "output_type": "stream",
     "text": [
      "bagging, val_score: 6.028351:  20%|##########6                                          | 2/10 [00:01<00:06,  1.29it/s]\u001b[32m[I 2021-06-20 17:30:06,049]\u001b[0m Trial 28 finished with value: 6.211456621516073 and parameters: {'bagging_fraction': 0.4323067442349795, 'bagging_freq': 4}. Best is trial 28 with value: 6.211456621516073.\u001b[0m\n",
      "bagging, val_score: 6.028351:  20%|##########6                                          | 2/10 [00:01<00:06,  1.29it/s]"
     ]
    },
    {
     "name": "stdout",
     "output_type": "stream",
     "text": [
      "[1000]\ttrain's rmse: 4.90859\teval's rmse: 6.21306\n",
      "Did not meet early stopping. Best iteration is:\n",
      "[997]\ttrain's rmse: 4.90821\teval's rmse: 6.21146\n",
      "Training until validation scores don't improve for 100 rounds\n",
      "[100]\ttrain's rmse: 7.22278\teval's rmse: 7.4517\n",
      "[200]\ttrain's rmse: 6.40058\teval's rmse: 6.85263\n",
      "[300]\ttrain's rmse: 5.9346\teval's rmse: 6.52082\n",
      "[400]\ttrain's rmse: 5.59632\teval's rmse: 6.38734\n",
      "[500]\ttrain's rmse: 5.35234\teval's rmse: 6.3035\n",
      "[600]\ttrain's rmse: 5.16645\teval's rmse: 6.20074\n",
      "[700]\ttrain's rmse: 5.00954\teval's rmse: 6.14491\n",
      "[800]\ttrain's rmse: 4.8773\teval's rmse: 6.11726\n"
     ]
    },
    {
     "name": "stderr",
     "output_type": "stream",
     "text": [
      "bagging, val_score: 6.028351:  30%|###############9                                     | 3/10 [00:02<00:05,  1.20it/s]\u001b[32m[I 2021-06-20 17:30:06,952]\u001b[0m Trial 29 finished with value: 6.070185343716424 and parameters: {'bagging_fraction': 0.5697906847418936, 'bagging_freq': 1}. Best is trial 29 with value: 6.070185343716424.\u001b[0m\n",
      "bagging, val_score: 6.028351:  30%|###############9                                     | 3/10 [00:02<00:05,  1.20it/s]"
     ]
    },
    {
     "name": "stdout",
     "output_type": "stream",
     "text": [
      "[900]\ttrain's rmse: 4.75827\teval's rmse: 6.08415\n",
      "Early stopping, best iteration is:\n",
      "[887]\ttrain's rmse: 4.77198\teval's rmse: 6.07019\n",
      "Training until validation scores don't improve for 100 rounds\n",
      "[100]\ttrain's rmse: 6.68805\teval's rmse: 6.84352\n",
      "[200]\ttrain's rmse: 5.93138\teval's rmse: 6.32411\n",
      "[300]\ttrain's rmse: 5.52489\teval's rmse: 6.15783\n",
      "[400]\ttrain's rmse: 5.23803\teval's rmse: 6.10195\n",
      "[500]\ttrain's rmse: 5.02012\teval's rmse: 6.01931\n",
      "[600]\ttrain's rmse: 4.85801\teval's rmse: 5.99202\n",
      "[700]\ttrain's rmse: 4.72349\teval's rmse: 5.95404\n",
      "[800]\ttrain's rmse: 4.59531\teval's rmse: 5.93528\n",
      "[900]\ttrain's rmse: 4.47932\teval's rmse: 5.9146\n",
      "Early stopping, best iteration is:\n",
      "[849]\ttrain's rmse: 4.53555\teval's rmse: 5.9121\n"
     ]
    },
    {
     "name": "stderr",
     "output_type": "stream",
     "text": [
      "bagging, val_score: 5.912100:  40%|#####################2                               | 4/10 [00:03<00:04,  1.21it/s]\u001b[32m[I 2021-06-20 17:30:07,756]\u001b[0m Trial 30 finished with value: 5.912099545396312 and parameters: {'bagging_fraction': 0.8421262361757975, 'bagging_freq': 3}. Best is trial 30 with value: 5.912099545396312.\u001b[0m\n",
      "bagging, val_score: 5.912100:  40%|#####################2                               | 4/10 [00:03<00:04,  1.21it/s]"
     ]
    },
    {
     "name": "stdout",
     "output_type": "stream",
     "text": [
      "Training until validation scores don't improve for 100 rounds\n",
      "[100]\ttrain's rmse: 7.21982\teval's rmse: 7.54878\n",
      "[200]\ttrain's rmse: 6.35631\teval's rmse: 6.83812\n",
      "[300]\ttrain's rmse: 5.85221\teval's rmse: 6.55369\n",
      "[400]\ttrain's rmse: 5.46292\teval's rmse: 6.35731\n",
      "[500]\ttrain's rmse: 5.21101\teval's rmse: 6.22888\n",
      "[600]\ttrain's rmse: 5.04136\teval's rmse: 6.20887\n",
      "[700]\ttrain's rmse: 4.89937\teval's rmse: 6.1711\n",
      "[800]\ttrain's rmse: 4.76896\teval's rmse: 6.16276\n"
     ]
    },
    {
     "name": "stderr",
     "output_type": "stream",
     "text": [
      "\r",
      "bagging, val_score: 5.912100:  40%|#####################2                               | 4/10 [00:04<00:04,  1.21it/s]"
     ]
    },
    {
     "name": "stdout",
     "output_type": "stream",
     "text": [
      "[900]\ttrain's rmse: 4.64487\teval's rmse: 6.09699\n",
      "[1000]\ttrain's rmse: 4.53987\teval's rmse: 6.1084\n",
      "Did not meet early stopping. Best iteration is:\n",
      "[1000]\ttrain's rmse: 4.53987\teval's rmse: 6.1084\n"
     ]
    },
    {
     "name": "stderr",
     "output_type": "stream",
     "text": [
      "bagging, val_score: 5.912100:  50%|##########################5                          | 5/10 [00:04<00:04,  1.18it/s]\u001b[32m[I 2021-06-20 17:30:08,645]\u001b[0m Trial 31 finished with value: 6.108402837772445 and parameters: {'bagging_fraction': 0.7237381900251691, 'bagging_freq': 7}. Best is trial 30 with value: 5.912099545396312.\u001b[0m\n",
      "bagging, val_score: 5.912100:  50%|##########################5                          | 5/10 [00:04<00:04,  1.18it/s]"
     ]
    },
    {
     "name": "stdout",
     "output_type": "stream",
     "text": [
      "Training until validation scores don't improve for 100 rounds\n",
      "[100]\ttrain's rmse: 6.8238\teval's rmse: 7.04674\n",
      "[200]\ttrain's rmse: 5.9683\teval's rmse: 6.42386\n",
      "[300]\ttrain's rmse: 5.52887\teval's rmse: 6.19245\n",
      "[400]\ttrain's rmse: 5.2414\teval's rmse: 6.06645\n",
      "[500]\ttrain's rmse: 5.03217\teval's rmse: 6.04073\n",
      "[600]\ttrain's rmse: 4.8623\teval's rmse: 6.02246\n",
      "[700]\ttrain's rmse: 4.72215\teval's rmse: 6.00142\n",
      "[800]\ttrain's rmse: 4.59558\teval's rmse: 5.96729\n"
     ]
    },
    {
     "name": "stderr",
     "output_type": "stream",
     "text": [
      "bagging, val_score: 5.912100:  60%|###############################8                     | 6/10 [00:04<00:03,  1.18it/s]\u001b[32m[I 2021-06-20 17:30:09,497]\u001b[0m Trial 32 finished with value: 5.941120869321401 and parameters: {'bagging_fraction': 0.7901207964483755, 'bagging_freq': 1}. Best is trial 30 with value: 5.912099545396312.\u001b[0m\n",
      "bagging, val_score: 5.912100:  60%|###############################8                     | 6/10 [00:04<00:03,  1.18it/s]"
     ]
    },
    {
     "name": "stdout",
     "output_type": "stream",
     "text": [
      "[900]\ttrain's rmse: 4.47586\teval's rmse: 5.94817\n",
      "Early stopping, best iteration is:\n",
      "[872]\ttrain's rmse: 4.50439\teval's rmse: 5.94112\n",
      "Training until validation scores don't improve for 100 rounds\n",
      "[100]\ttrain's rmse: 7.44849\teval's rmse: 7.68633\n",
      "[200]\ttrain's rmse: 6.65289\teval's rmse: 7.07893\n",
      "[300]\ttrain's rmse: 6.14621\teval's rmse: 6.77343\n",
      "[400]\ttrain's rmse: 5.83148\teval's rmse: 6.58816\n",
      "[500]\ttrain's rmse: 5.59133\teval's rmse: 6.46719\n",
      "[600]\ttrain's rmse: 5.41274\teval's rmse: 6.4099\n",
      "[700]\ttrain's rmse: 5.24808\teval's rmse: 6.36912\n",
      "[800]\ttrain's rmse: 5.12001\teval's rmse: 6.30339\n"
     ]
    },
    {
     "name": "stderr",
     "output_type": "stream",
     "text": [
      "bagging, val_score: 5.912100:  70%|#####################################                | 7/10 [00:05<00:02,  1.18it/s]\u001b[32m[I 2021-06-20 17:30:10,335]\u001b[0m Trial 33 finished with value: 6.233126410601933 and parameters: {'bagging_fraction': 0.40946270351977226, 'bagging_freq': 2}. Best is trial 30 with value: 5.912099545396312.\u001b[0m\n",
      "bagging, val_score: 5.912100:  70%|#####################################                | 7/10 [00:05<00:02,  1.18it/s]"
     ]
    },
    {
     "name": "stdout",
     "output_type": "stream",
     "text": [
      "[900]\ttrain's rmse: 4.99661\teval's rmse: 6.25945\n",
      "Early stopping, best iteration is:\n",
      "[895]\ttrain's rmse: 5.00006\teval's rmse: 6.23313\n",
      "Training until validation scores don't improve for 100 rounds\n",
      "[100]\ttrain's rmse: 6.65979\teval's rmse: 6.84915\n",
      "[200]\ttrain's rmse: 5.93729\teval's rmse: 6.39464\n",
      "[300]\ttrain's rmse: 5.5276\teval's rmse: 6.1967\n",
      "[400]\ttrain's rmse: 5.23874\teval's rmse: 6.11987\n",
      "[500]\ttrain's rmse: 5.02543\teval's rmse: 6.06991\n",
      "[600]\ttrain's rmse: 4.84257\teval's rmse: 6.00831\n",
      "[700]\ttrain's rmse: 4.69698\teval's rmse: 5.94832\n",
      "[800]\ttrain's rmse: 4.57077\teval's rmse: 5.93579\n",
      "[900]\ttrain's rmse: 4.4508\teval's rmse: 5.91747\n",
      "[1000]\ttrain's rmse: 4.34698\teval's rmse: 5.92309\n",
      "Did not meet early stopping. Best iteration is:\n",
      "[1000]\ttrain's rmse: 4.34698\teval's rmse: 5.92309\n"
     ]
    },
    {
     "name": "stderr",
     "output_type": "stream",
     "text": [
      "bagging, val_score: 5.912100:  80%|##########################################4          | 8/10 [00:06<00:01,  1.15it/s]\u001b[32m[I 2021-06-20 17:30:11,267]\u001b[0m Trial 34 finished with value: 5.923089108942076 and parameters: {'bagging_fraction': 0.9213819176820903, 'bagging_freq': 5}. Best is trial 30 with value: 5.912099545396312.\u001b[0m\n",
      "bagging, val_score: 5.912100:  80%|##########################################4          | 8/10 [00:06<00:01,  1.15it/s]"
     ]
    },
    {
     "name": "stdout",
     "output_type": "stream",
     "text": [
      "Training until validation scores don't improve for 100 rounds\n",
      "[100]\ttrain's rmse: 6.63126\teval's rmse: 6.78869\n",
      "[200]\ttrain's rmse: 5.91618\teval's rmse: 6.35075\n",
      "[300]\ttrain's rmse: 5.53159\teval's rmse: 6.23963\n",
      "[400]\ttrain's rmse: 5.24139\teval's rmse: 6.1824\n",
      "[500]\ttrain's rmse: 5.02367\teval's rmse: 6.1077\n",
      "[600]\ttrain's rmse: 4.85602\teval's rmse: 6.08048\n",
      "[700]\ttrain's rmse: 4.70186\teval's rmse: 6.04524\n",
      "[800]\ttrain's rmse: 4.57658\teval's rmse: 6.03108\n",
      "[900]\ttrain's rmse: 4.46658\teval's rmse: 6.00207\n",
      "Early stopping, best iteration is:\n",
      "[857]\ttrain's rmse: 4.51202\teval's rmse: 5.98887\n"
     ]
    },
    {
     "name": "stderr",
     "output_type": "stream",
     "text": [
      "bagging, val_score: 5.912100:  90%|###############################################7     | 9/10 [00:07<00:00,  1.17it/s]\u001b[32m[I 2021-06-20 17:30:12,072]\u001b[0m Trial 35 finished with value: 5.988867377689885 and parameters: {'bagging_fraction': 0.941022098756165, 'bagging_freq': 7}. Best is trial 30 with value: 5.912099545396312.\u001b[0m\n",
      "bagging, val_score: 5.912100:  90%|###############################################7     | 9/10 [00:07<00:00,  1.17it/s]"
     ]
    },
    {
     "name": "stdout",
     "output_type": "stream",
     "text": [
      "Training until validation scores don't improve for 100 rounds\n",
      "[100]\ttrain's rmse: 6.84109\teval's rmse: 6.99845\n",
      "[200]\ttrain's rmse: 6.02274\teval's rmse: 6.40503\n",
      "[300]\ttrain's rmse: 5.60332\teval's rmse: 6.25941\n",
      "[400]\ttrain's rmse: 5.32945\teval's rmse: 6.2063\n",
      "[500]\ttrain's rmse: 5.11088\teval's rmse: 6.07993\n",
      "[600]\ttrain's rmse: 4.92753\teval's rmse: 6.08058\n"
     ]
    },
    {
     "name": "stderr",
     "output_type": "stream",
     "text": [
      "bagging, val_score: 5.912100: 100%|####################################################| 10/10 [00:08<00:00,  1.32it/s]\u001b[32m[I 2021-06-20 17:30:12,626]\u001b[0m Trial 36 finished with value: 6.06249727634422 and parameters: {'bagging_fraction': 0.795712784959582, 'bagging_freq': 5}. Best is trial 30 with value: 5.912099545396312.\u001b[0m\n",
      "bagging, val_score: 5.912100: 100%|####################################################| 10/10 [00:08<00:00,  1.24it/s]\n",
      "feature_fraction_stage2, val_score: 5.912100:   0%|                                              | 0/6 [00:00<?, ?it/s]"
     ]
    },
    {
     "name": "stdout",
     "output_type": "stream",
     "text": [
      "Early stopping, best iteration is:\n",
      "[520]\ttrain's rmse: 5.06841\teval's rmse: 6.0625\n",
      "Training until validation scores don't improve for 100 rounds\n",
      "[100]\ttrain's rmse: 6.69621\teval's rmse: 6.82005\n",
      "[200]\ttrain's rmse: 5.92929\teval's rmse: 6.3556\n",
      "[300]\ttrain's rmse: 5.51698\teval's rmse: 6.14905\n",
      "[400]\ttrain's rmse: 5.21887\teval's rmse: 6.05413\n"
     ]
    },
    {
     "name": "stderr",
     "output_type": "stream",
     "text": [
      "feature_fraction_stage2, val_score: 5.912100:  17%|######3                               | 1/6 [00:00<00:02,  1.81it/s]\u001b[32m[I 2021-06-20 17:30:13,192]\u001b[0m Trial 37 finished with value: 5.959255122977464 and parameters: {'feature_fraction': 0.9799999999999999}. Best is trial 37 with value: 5.959255122977464.\u001b[0m\n",
      "feature_fraction_stage2, val_score: 5.912100:  17%|######3                               | 1/6 [00:00<00:02,  1.81it/s]"
     ]
    },
    {
     "name": "stdout",
     "output_type": "stream",
     "text": [
      "[500]\ttrain's rmse: 5.00109\teval's rmse: 5.98625\n",
      "[600]\ttrain's rmse: 4.83211\teval's rmse: 5.99039\n",
      "Early stopping, best iteration is:\n",
      "[524]\ttrain's rmse: 4.96004\teval's rmse: 5.95926\n",
      "Training until validation scores don't improve for 100 rounds\n",
      "[100]\ttrain's rmse: 6.67096\teval's rmse: 6.886\n",
      "[200]\ttrain's rmse: 5.90394\teval's rmse: 6.36143\n",
      "[300]\ttrain's rmse: 5.50663\teval's rmse: 6.19778\n",
      "[400]\ttrain's rmse: 5.21321\teval's rmse: 6.08101\n",
      "[500]\ttrain's rmse: 5.00428\teval's rmse: 6.00581\n",
      "[600]\ttrain's rmse: 4.83741\teval's rmse: 5.976\n",
      "[700]\ttrain's rmse: 4.68825\teval's rmse: 5.93207\n",
      "[800]\ttrain's rmse: 4.56382\teval's rmse: 5.91592\n",
      "[900]\ttrain's rmse: 4.44189\teval's rmse: 5.89541\n",
      "Early stopping, best iteration is:\n",
      "[897]\ttrain's rmse: 4.44634\teval's rmse: 5.89235\n"
     ]
    },
    {
     "name": "stderr",
     "output_type": "stream",
     "text": [
      "feature_fraction_stage2, val_score: 5.892347:  33%|############6                         | 2/6 [00:01<00:03,  1.22it/s]\u001b[32m[I 2021-06-20 17:30:14,193]\u001b[0m Trial 38 finished with value: 5.892347174853398 and parameters: {'feature_fraction': 0.948}. Best is trial 38 with value: 5.892347174853398.\u001b[0m\n",
      "feature_fraction_stage2, val_score: 5.892347:  33%|############6                         | 2/6 [00:01<00:03,  1.22it/s]"
     ]
    },
    {
     "name": "stdout",
     "output_type": "stream",
     "text": [
      "Training until validation scores don't improve for 100 rounds\n",
      "[100]\ttrain's rmse: 6.69854\teval's rmse: 6.84305\n",
      "[200]\ttrain's rmse: 5.94852\teval's rmse: 6.38542\n",
      "[300]\ttrain's rmse: 5.54853\teval's rmse: 6.24222\n",
      "[400]\ttrain's rmse: 5.26646\teval's rmse: 6.14044\n",
      "[500]\ttrain's rmse: 5.0555\teval's rmse: 6.05043\n",
      "[600]\ttrain's rmse: 4.8913\teval's rmse: 6.02115\n",
      "[700]\ttrain's rmse: 4.7493\teval's rmse: 5.97698\n",
      "[800]\ttrain's rmse: 4.61759\teval's rmse: 5.97932\n",
      "Early stopping, best iteration is:\n",
      "[721]\ttrain's rmse: 4.71814\teval's rmse: 5.9657\n"
     ]
    },
    {
     "name": "stderr",
     "output_type": "stream",
     "text": [
      "feature_fraction_stage2, val_score: 5.892347:  50%|###################                   | 3/6 [00:02<00:02,  1.30it/s]\u001b[32m[I 2021-06-20 17:30:14,902]\u001b[0m Trial 39 finished with value: 5.965696924495748 and parameters: {'feature_fraction': 0.852}. Best is trial 38 with value: 5.892347174853398.\u001b[0m\n",
      "feature_fraction_stage2, val_score: 5.892347:  50%|###################                   | 3/6 [00:02<00:02,  1.30it/s]"
     ]
    },
    {
     "name": "stdout",
     "output_type": "stream",
     "text": [
      "Training until validation scores don't improve for 100 rounds\n",
      "[100]\ttrain's rmse: 6.68805\teval's rmse: 6.84352\n",
      "[200]\ttrain's rmse: 5.93138\teval's rmse: 6.32411\n",
      "[300]\ttrain's rmse: 5.52489\teval's rmse: 6.15783\n",
      "[400]\ttrain's rmse: 5.23803\teval's rmse: 6.10195\n",
      "[500]\ttrain's rmse: 5.02012\teval's rmse: 6.01931\n",
      "[600]\ttrain's rmse: 4.85801\teval's rmse: 5.99202\n",
      "[700]\ttrain's rmse: 4.72349\teval's rmse: 5.95404\n",
      "[800]\ttrain's rmse: 4.59531\teval's rmse: 5.93528\n"
     ]
    },
    {
     "name": "stderr",
     "output_type": "stream",
     "text": [
      "feature_fraction_stage2, val_score: 5.892347:  67%|#########################3            | 4/6 [00:03<00:01,  1.24it/s]\u001b[32m[I 2021-06-20 17:30:15,775]\u001b[0m Trial 40 finished with value: 5.912099545396312 and parameters: {'feature_fraction': 0.9159999999999999}. Best is trial 38 with value: 5.892347174853398.\u001b[0m\n",
      "feature_fraction_stage2, val_score: 5.892347:  67%|#########################3            | 4/6 [00:03<00:01,  1.24it/s]"
     ]
    },
    {
     "name": "stdout",
     "output_type": "stream",
     "text": [
      "[900]\ttrain's rmse: 4.47932\teval's rmse: 5.9146\n",
      "Early stopping, best iteration is:\n",
      "[849]\ttrain's rmse: 4.53555\teval's rmse: 5.9121\n",
      "Training until validation scores don't improve for 100 rounds\n",
      "[100]\ttrain's rmse: 6.69854\teval's rmse: 6.84305\n",
      "[200]\ttrain's rmse: 5.94852\teval's rmse: 6.38542\n",
      "[300]\ttrain's rmse: 5.54853\teval's rmse: 6.24222\n",
      "[400]\ttrain's rmse: 5.26646\teval's rmse: 6.14044\n",
      "[500]\ttrain's rmse: 5.0555\teval's rmse: 6.05043\n",
      "[600]\ttrain's rmse: 4.8913\teval's rmse: 6.02115\n",
      "[700]\ttrain's rmse: 4.7493\teval's rmse: 5.97698\n"
     ]
    },
    {
     "name": "stderr",
     "output_type": "stream",
     "text": [
      "feature_fraction_stage2, val_score: 5.892347:  83%|###############################6      | 5/6 [00:03<00:00,  1.29it/s]\u001b[32m[I 2021-06-20 17:30:16,485]\u001b[0m Trial 41 finished with value: 5.965696924495748 and parameters: {'feature_fraction': 0.82}. Best is trial 38 with value: 5.892347174853398.\u001b[0m\n",
      "feature_fraction_stage2, val_score: 5.892347:  83%|###############################6      | 5/6 [00:03<00:00,  1.29it/s]"
     ]
    },
    {
     "name": "stdout",
     "output_type": "stream",
     "text": [
      "[800]\ttrain's rmse: 4.61759\teval's rmse: 5.97932\n",
      "Early stopping, best iteration is:\n",
      "[721]\ttrain's rmse: 4.71814\teval's rmse: 5.9657\n",
      "Training until validation scores don't improve for 100 rounds\n",
      "[100]\ttrain's rmse: 6.68726\teval's rmse: 6.81165\n",
      "[200]\ttrain's rmse: 5.94788\teval's rmse: 6.3663\n",
      "[300]\ttrain's rmse: 5.54085\teval's rmse: 6.1905\n",
      "[400]\ttrain's rmse: 5.24779\teval's rmse: 6.10483\n",
      "[500]\ttrain's rmse: 5.02598\teval's rmse: 6.03055\n",
      "[600]\ttrain's rmse: 4.86114\teval's rmse: 6.00533\n",
      "[700]\ttrain's rmse: 4.71608\teval's rmse: 5.96275\n",
      "[800]\ttrain's rmse: 4.59223\teval's rmse: 5.94067\n"
     ]
    },
    {
     "name": "stderr",
     "output_type": "stream",
     "text": [
      "feature_fraction_stage2, val_score: 5.892347: 100%|######################################| 6/6 [00:04<00:00,  1.28it/s]\u001b[32m[I 2021-06-20 17:30:17,280]\u001b[0m Trial 42 finished with value: 5.923577793698951 and parameters: {'feature_fraction': 0.8839999999999999}. Best is trial 38 with value: 5.892347174853398.\u001b[0m\n",
      "feature_fraction_stage2, val_score: 5.892347: 100%|######################################| 6/6 [00:04<00:00,  1.29it/s]\n",
      "regularization_factors, val_score: 5.892347:   0%|                                              | 0/20 [00:00<?, ?it/s]"
     ]
    },
    {
     "name": "stdout",
     "output_type": "stream",
     "text": [
      "[900]\ttrain's rmse: 4.47648\teval's rmse: 5.92897\n",
      "Early stopping, best iteration is:\n",
      "[842]\ttrain's rmse: 4.53632\teval's rmse: 5.92358\n",
      "Training until validation scores don't improve for 100 rounds\n",
      "[100]\ttrain's rmse: 6.6844\teval's rmse: 6.89912\n",
      "[200]\ttrain's rmse: 5.91394\teval's rmse: 6.38897\n",
      "[300]\ttrain's rmse: 5.51986\teval's rmse: 6.22737\n",
      "[400]\ttrain's rmse: 5.22877\teval's rmse: 6.11037\n",
      "[500]\ttrain's rmse: 5.00869\teval's rmse: 6.03883\n",
      "[600]\ttrain's rmse: 4.84848\teval's rmse: 6.01956\n",
      "[700]\ttrain's rmse: 4.71236\teval's rmse: 5.98715\n"
     ]
    },
    {
     "name": "stderr",
     "output_type": "stream",
     "text": [
      "regularization_factors, val_score: 5.892347:   5%|#9                                    | 1/20 [00:01<00:19,  1.01s/it]\u001b[32m[I 2021-06-20 17:30:18,303]\u001b[0m Trial 43 finished with value: 5.974516711965219 and parameters: {'lambda_l1': 0.09180144669391431, 'lambda_l2': 0.09573855608201906}. Best is trial 43 with value: 5.974516711965219.\u001b[0m\n",
      "regularization_factors, val_score: 5.892347:   5%|#9                                    | 1/20 [00:01<00:19,  1.01s/it]"
     ]
    },
    {
     "name": "stdout",
     "output_type": "stream",
     "text": [
      "[800]\ttrain's rmse: 4.58536\teval's rmse: 5.99413\n",
      "Early stopping, best iteration is:\n",
      "[720]\ttrain's rmse: 4.68656\teval's rmse: 5.97452\n",
      "Training until validation scores don't improve for 100 rounds\n",
      "[100]\ttrain's rmse: 6.69201\teval's rmse: 6.91354\n",
      "[200]\ttrain's rmse: 5.93188\teval's rmse: 6.43107\n",
      "[300]\ttrain's rmse: 5.52865\teval's rmse: 6.26974\n",
      "[400]\ttrain's rmse: 5.22618\teval's rmse: 6.13567\n",
      "[500]\ttrain's rmse: 4.99988\teval's rmse: 6.03249\n",
      "[600]\ttrain's rmse: 4.82592\teval's rmse: 6.03033\n",
      "Early stopping, best iteration is:\n",
      "[530]\ttrain's rmse: 4.95028\teval's rmse: 6.01499\n"
     ]
    },
    {
     "name": "stderr",
     "output_type": "stream",
     "text": [
      "regularization_factors, val_score: 5.892347:  10%|###8                                  | 2/20 [00:01<00:15,  1.18it/s]\u001b[32m[I 2021-06-20 17:30:19,034]\u001b[0m Trial 44 finished with value: 6.014988390001174 and parameters: {'lambda_l1': 2.594152905355633e-07, 'lambda_l2': 0.0955872603641747}. Best is trial 43 with value: 5.974516711965219.\u001b[0m\n",
      "regularization_factors, val_score: 5.892347:  10%|###8                                  | 2/20 [00:01<00:15,  1.18it/s]"
     ]
    },
    {
     "name": "stdout",
     "output_type": "stream",
     "text": [
      "Training until validation scores don't improve for 100 rounds\n",
      "[100]\ttrain's rmse: 6.75465\teval's rmse: 6.92985\n",
      "[200]\ttrain's rmse: 5.99342\teval's rmse: 6.41956\n",
      "[300]\ttrain's rmse: 5.59061\teval's rmse: 6.23645\n",
      "[400]\ttrain's rmse: 5.30306\teval's rmse: 6.10911\n",
      "[500]\ttrain's rmse: 5.08734\teval's rmse: 6.04524\n",
      "[600]\ttrain's rmse: 4.92304\teval's rmse: 6.01144\n",
      "[700]\ttrain's rmse: 4.77436\teval's rmse: 5.96913\n"
     ]
    },
    {
     "name": "stderr",
     "output_type": "stream",
     "text": [
      "\r",
      "regularization_factors, val_score: 5.892347:  10%|###8                                  | 2/20 [00:02<00:15,  1.18it/s]"
     ]
    },
    {
     "name": "stdout",
     "output_type": "stream",
     "text": [
      "[800]\ttrain's rmse: 4.64847\teval's rmse: 5.97099\n",
      "Early stopping, best iteration is:\n",
      "[766]\ttrain's rmse: 4.68763\teval's rmse: 5.95396\n"
     ]
    },
    {
     "name": "stderr",
     "output_type": "stream",
     "text": [
      "regularization_factors, val_score: 5.892347:  15%|#####7                                | 3/20 [00:02<00:16,  1.03it/s]\u001b[32m[I 2021-06-20 17:30:20,150]\u001b[0m Trial 45 finished with value: 5.953961264399441 and parameters: {'lambda_l1': 8.372203867465651e-06, 'lambda_l2': 3.031037169559386}. Best is trial 45 with value: 5.953961264399441.\u001b[0m\n",
      "regularization_factors, val_score: 5.892347:  15%|#####7                                | 3/20 [00:02<00:16,  1.03it/s]"
     ]
    },
    {
     "name": "stdout",
     "output_type": "stream",
     "text": [
      "Training until validation scores don't improve for 100 rounds\n",
      "[100]\ttrain's rmse: 6.6747\teval's rmse: 6.865\n",
      "[200]\ttrain's rmse: 5.91412\teval's rmse: 6.37534\n",
      "[300]\ttrain's rmse: 5.51086\teval's rmse: 6.20544\n",
      "[400]\ttrain's rmse: 5.20534\teval's rmse: 6.08186\n",
      "[500]\ttrain's rmse: 4.98554\teval's rmse: 6.0102\n",
      "[600]\ttrain's rmse: 4.82025\teval's rmse: 5.99414\n"
     ]
    },
    {
     "name": "stderr",
     "output_type": "stream",
     "text": [
      "regularization_factors, val_score: 5.892347:  20%|#######6                              | 4/20 [00:03<00:15,  1.05it/s]\u001b[32m[I 2021-06-20 17:30:21,066]\u001b[0m Trial 46 finished with value: 5.94470286609157 and parameters: {'lambda_l1': 0.018389700026432976, 'lambda_l2': 2.078276946602271e-06}. Best is trial 46 with value: 5.94470286609157.\u001b[0m\n",
      "regularization_factors, val_score: 5.892347:  20%|#######6                              | 4/20 [00:03<00:15,  1.05it/s]"
     ]
    },
    {
     "name": "stdout",
     "output_type": "stream",
     "text": [
      "[700]\ttrain's rmse: 4.67837\teval's rmse: 5.95593\n",
      "[800]\ttrain's rmse: 4.55375\teval's rmse: 5.9661\n",
      "Early stopping, best iteration is:\n",
      "[720]\ttrain's rmse: 4.65065\teval's rmse: 5.9447\n",
      "Training until validation scores don't improve for 100 rounds\n",
      "[100]\ttrain's rmse: 6.67096\teval's rmse: 6.886\n",
      "[200]\ttrain's rmse: 5.90394\teval's rmse: 6.36143\n",
      "[300]\ttrain's rmse: 5.50663\teval's rmse: 6.19778\n",
      "[400]\ttrain's rmse: 5.21321\teval's rmse: 6.08101\n",
      "[500]\ttrain's rmse: 5.00428\teval's rmse: 6.00581\n",
      "[600]\ttrain's rmse: 4.83741\teval's rmse: 5.976\n",
      "[700]\ttrain's rmse: 4.68825\teval's rmse: 5.93207\n",
      "[800]\ttrain's rmse: 4.56382\teval's rmse: 5.91592\n",
      "[900]\ttrain's rmse: 4.44189\teval's rmse: 5.89541\n",
      "Early stopping, best iteration is:\n",
      "[897]\ttrain's rmse: 4.44634\teval's rmse: 5.89235"
     ]
    },
    {
     "name": "stderr",
     "output_type": "stream",
     "text": [
      "regularization_factors, val_score: 5.892347:  25%|#########5                            | 5/20 [00:04<00:15,  1.01s/it]\u001b[32m[I 2021-06-20 17:30:22,190]\u001b[0m Trial 47 finished with value: 5.89234717523522 and parameters: {'lambda_l1': 2.1558123220759374e-07, 'lambda_l2': 1.714580412445144e-07}. Best is trial 47 with value: 5.89234717523522.\u001b[0m\n",
      "regularization_factors, val_score: 5.892347:  25%|#########5                            | 5/20 [00:04<00:15,  1.01s/it]"
     ]
    },
    {
     "name": "stdout",
     "output_type": "stream",
     "text": [
      "\n",
      "Training until validation scores don't improve for 100 rounds\n",
      "[100]\ttrain's rmse: 6.67479\teval's rmse: 6.86114\n",
      "[200]\ttrain's rmse: 5.92144\teval's rmse: 6.35529\n",
      "[300]\ttrain's rmse: 5.51587\teval's rmse: 6.22492\n",
      "[400]\ttrain's rmse: 5.21926\teval's rmse: 6.11682\n",
      "[500]\ttrain's rmse: 4.99986\teval's rmse: 6.03963\n",
      "[600]\ttrain's rmse: 4.83756\teval's rmse: 6.00948\n",
      "[700]\ttrain's rmse: 4.6896\teval's rmse: 5.98354\n",
      "[800]\ttrain's rmse: 4.55909\teval's rmse: 5.98097\n",
      "[900]\ttrain's rmse: 4.43945\teval's rmse: 5.95662\n"
     ]
    },
    {
     "name": "stderr",
     "output_type": "stream",
     "text": [
      "regularization_factors, val_score: 5.892347:  30%|###########4                          | 6/20 [00:06<00:15,  1.09s/it]\u001b[32m[I 2021-06-20 17:30:23,436]\u001b[0m Trial 48 finished with value: 5.958001714973249 and parameters: {'lambda_l1': 0.02256303943517604, 'lambda_l2': 0.08833815628822445}. Best is trial 47 with value: 5.89234717523522.\u001b[0m\n",
      "regularization_factors, val_score: 5.892347:  30%|###########4                          | 6/20 [00:06<00:15,  1.09s/it]"
     ]
    },
    {
     "name": "stdout",
     "output_type": "stream",
     "text": [
      "[1000]\ttrain's rmse: 4.33858\teval's rmse: 5.958\n",
      "Did not meet early stopping. Best iteration is:\n",
      "[1000]\ttrain's rmse: 4.33858\teval's rmse: 5.958\n",
      "Training until validation scores don't improve for 100 rounds\n",
      "[100]\ttrain's rmse: 6.67096\teval's rmse: 6.886\n",
      "[200]\ttrain's rmse: 5.90394\teval's rmse: 6.36143\n",
      "[300]\ttrain's rmse: 5.50663\teval's rmse: 6.19778\n",
      "[400]\ttrain's rmse: 5.21321\teval's rmse: 6.08101\n",
      "[500]\ttrain's rmse: 5.00428\teval's rmse: 6.00581\n",
      "[600]\ttrain's rmse: 4.83741\teval's rmse: 5.976\n",
      "[700]\ttrain's rmse: 4.68825\teval's rmse: 5.93207\n",
      "[800]\ttrain's rmse: 4.56382\teval's rmse: 5.91592\n",
      "[900]\ttrain's rmse: 4.44189\teval's rmse: 5.89541\n",
      "Early stopping, best iteration is:\n",
      "[897]\ttrain's rmse: 4.44634\teval's rmse: 5.89235\n"
     ]
    },
    {
     "name": "stderr",
     "output_type": "stream",
     "text": [
      "regularization_factors, val_score: 5.892347:  35%|#############3                        | 7/20 [00:07<00:14,  1.09s/it]\u001b[32m[I 2021-06-20 17:30:24,517]\u001b[0m Trial 49 finished with value: 5.892347174847864 and parameters: {'lambda_l1': 4.165171389658259e-07, 'lambda_l2': 1.2076477931975703e-07}. Best is trial 49 with value: 5.892347174847864.\u001b[0m\n",
      "regularization_factors, val_score: 5.892347:  35%|#############3                        | 7/20 [00:07<00:14,  1.09s/it]"
     ]
    },
    {
     "name": "stdout",
     "output_type": "stream",
     "text": [
      "Training until validation scores don't improve for 100 rounds\n",
      "[100]\ttrain's rmse: 6.76865\teval's rmse: 6.93287\n",
      "[200]\ttrain's rmse: 6.04394\teval's rmse: 6.44004\n",
      "[300]\ttrain's rmse: 5.64561\teval's rmse: 6.25934\n",
      "[400]\ttrain's rmse: 5.36902\teval's rmse: 6.14931\n",
      "[500]\ttrain's rmse: 5.16912\teval's rmse: 6.05705\n",
      "[600]\ttrain's rmse: 5.0174\teval's rmse: 6.03314\n",
      "[700]\ttrain's rmse: 4.88609\teval's rmse: 6.00031\n",
      "[800]\ttrain's rmse: 4.77068\teval's rmse: 5.99687\n",
      "Early stopping, best iteration is:\n",
      "[720]\ttrain's rmse: 4.86388\teval's rmse: 5.99081\n"
     ]
    },
    {
     "name": "stderr",
     "output_type": "stream",
     "text": [
      "regularization_factors, val_score: 5.892347:  40%|###############2                      | 8/20 [00:08<00:11,  1.01it/s]\u001b[32m[I 2021-06-20 17:30:25,303]\u001b[0m Trial 50 finished with value: 5.99081101027526 and parameters: {'lambda_l1': 9.745089326101489, 'lambda_l2': 0.2788040795494562}. Best is trial 49 with value: 5.892347174847864.\u001b[0m\n",
      "regularization_factors, val_score: 5.892347:  40%|###############2                      | 8/20 [00:08<00:11,  1.01it/s]"
     ]
    },
    {
     "name": "stdout",
     "output_type": "stream",
     "text": [
      "Training until validation scores don't improve for 100 rounds\n",
      "[100]\ttrain's rmse: 6.75734\teval's rmse: 6.96672\n",
      "[200]\ttrain's rmse: 6.00768\teval's rmse: 6.43834\n",
      "[300]\ttrain's rmse: 5.61581\teval's rmse: 6.26763\n",
      "[400]\ttrain's rmse: 5.31773\teval's rmse: 6.14457\n",
      "[500]\ttrain's rmse: 5.09794\teval's rmse: 6.06513\n",
      "[600]\ttrain's rmse: 4.92755\teval's rmse: 6.03167\n",
      "[700]\ttrain's rmse: 4.77996\teval's rmse: 6.00235\n"
     ]
    },
    {
     "name": "stderr",
     "output_type": "stream",
     "text": [
      "regularization_factors, val_score: 5.892347:  45%|#################1                    | 9/20 [00:08<00:10,  1.01it/s]\u001b[32m[I 2021-06-20 17:30:26,276]\u001b[0m Trial 51 finished with value: 5.967527673193787 and parameters: {'lambda_l1': 0.18065715742580382, 'lambda_l2': 2.8214012001519757}. Best is trial 49 with value: 5.892347174847864.\u001b[0m\n",
      "regularization_factors, val_score: 5.892347:  45%|#################1                    | 9/20 [00:08<00:10,  1.01it/s]"
     ]
    },
    {
     "name": "stdout",
     "output_type": "stream",
     "text": [
      "[800]\ttrain's rmse: 4.64856\teval's rmse: 5.97599\n",
      "[900]\ttrain's rmse: 4.53224\teval's rmse: 5.97034\n",
      "Early stopping, best iteration is:\n",
      "[825]\ttrain's rmse: 4.61904\teval's rmse: 5.96753\n",
      "Training until validation scores don't improve for 100 rounds\n",
      "[100]\ttrain's rmse: 6.6979\teval's rmse: 6.88846\n",
      "[200]\ttrain's rmse: 5.92814\teval's rmse: 6.39455\n",
      "[300]\ttrain's rmse: 5.52417\teval's rmse: 6.21665\n",
      "[400]\ttrain's rmse: 5.23482\teval's rmse: 6.1246\n",
      "[500]\ttrain's rmse: 5.01533\teval's rmse: 6.04888\n",
      "[600]\ttrain's rmse: 4.85869\teval's rmse: 6.04301\n",
      "[700]\ttrain's rmse: 4.71608\teval's rmse: 5.98679\n",
      "[800]\ttrain's rmse: 4.59569\teval's rmse: 5.97307\n",
      "Early stopping, best iteration is:\n",
      "[761]\ttrain's rmse: 4.63746\teval's rmse: 5.96352\n"
     ]
    },
    {
     "name": "stderr",
     "output_type": "stream",
     "text": [
      "regularization_factors, val_score: 5.892347:  50%|##################5                  | 10/20 [00:09<00:09,  1.08it/s]\u001b[32m[I 2021-06-20 17:30:27,080]\u001b[0m Trial 52 finished with value: 5.963523465150571 and parameters: {'lambda_l1': 0.42899273627413426, 'lambda_l2': 0.0029451546019621574}. Best is trial 49 with value: 5.892347174847864.\u001b[0m\n",
      "regularization_factors, val_score: 5.892347:  50%|##################5                  | 10/20 [00:09<00:09,  1.08it/s]"
     ]
    },
    {
     "name": "stdout",
     "output_type": "stream",
     "text": [
      "Training until validation scores don't improve for 100 rounds\n",
      "[100]\ttrain's rmse: 6.67096\teval's rmse: 6.886\n",
      "[200]\ttrain's rmse: 5.90394\teval's rmse: 6.36143\n",
      "[300]\ttrain's rmse: 5.50663\teval's rmse: 6.19778\n",
      "[400]\ttrain's rmse: 5.21321\teval's rmse: 6.08101\n",
      "[500]\ttrain's rmse: 5.00428\teval's rmse: 6.00581\n",
      "[600]\ttrain's rmse: 4.83741\teval's rmse: 5.976\n",
      "[700]\ttrain's rmse: 4.68825\teval's rmse: 5.93207\n",
      "[800]\ttrain's rmse: 4.56382\teval's rmse: 5.91592\n"
     ]
    },
    {
     "name": "stderr",
     "output_type": "stream",
     "text": [
      "\r",
      "regularization_factors, val_score: 5.892347:  50%|##################5                  | 10/20 [00:10<00:09,  1.08it/s]"
     ]
    },
    {
     "name": "stdout",
     "output_type": "stream",
     "text": [
      "[900]\ttrain's rmse: 4.44189\teval's rmse: 5.89541\n",
      "Early stopping, best iteration is:\n",
      "[897]\ttrain's rmse: 4.44634\teval's rmse: 5.89235\n"
     ]
    },
    {
     "name": "stderr",
     "output_type": "stream",
     "text": [
      "regularization_factors, val_score: 5.892347:  55%|####################3                | 11/20 [00:10<00:08,  1.05it/s]\u001b[32m[I 2021-06-20 17:30:28,081]\u001b[0m Trial 53 finished with value: 5.892347175055897 and parameters: {'lambda_l1': 1.4370297257874771e-08, 'lambda_l2': 1.0237403704231153e-08}. Best is trial 49 with value: 5.892347174847864.\u001b[0m\n",
      "regularization_factors, val_score: 5.892347:  55%|####################3                | 11/20 [00:10<00:08,  1.05it/s]"
     ]
    },
    {
     "name": "stdout",
     "output_type": "stream",
     "text": [
      "Training until validation scores don't improve for 100 rounds\n",
      "[100]\ttrain's rmse: 6.67096\teval's rmse: 6.886\n",
      "[200]\ttrain's rmse: 5.90394\teval's rmse: 6.36143\n",
      "[300]\ttrain's rmse: 5.50663\teval's rmse: 6.19778\n",
      "[400]\ttrain's rmse: 5.21321\teval's rmse: 6.08101\n",
      "[500]\ttrain's rmse: 5.00428\teval's rmse: 6.00581\n",
      "[600]\ttrain's rmse: 4.83741\teval's rmse: 5.976\n",
      "[700]\ttrain's rmse: 4.68825\teval's rmse: 5.93207\n",
      "[800]\ttrain's rmse: 4.56382\teval's rmse: 5.91592\n",
      "[900]\ttrain's rmse: 4.44189\teval's rmse: 5.89541\n"
     ]
    },
    {
     "name": "stderr",
     "output_type": "stream",
     "text": [
      "regularization_factors, val_score: 5.892347:  60%|######################2              | 12/20 [00:11<00:07,  1.05it/s]\u001b[32m[I 2021-06-20 17:30:29,034]\u001b[0m Trial 54 finished with value: 5.892347174991677 and parameters: {'lambda_l1': 1.2822886921014856e-08, 'lambda_l2': 1.3003647817946312e-08}. Best is trial 49 with value: 5.892347174847864.\u001b[0m\n",
      "regularization_factors, val_score: 5.892347:  60%|######################2              | 12/20 [00:11<00:07,  1.05it/s]"
     ]
    },
    {
     "name": "stdout",
     "output_type": "stream",
     "text": [
      "Early stopping, best iteration is:\n",
      "[897]\ttrain's rmse: 4.44634\teval's rmse: 5.89235\n",
      "Training until validation scores don't improve for 100 rounds\n",
      "[100]\ttrain's rmse: 6.67096\teval's rmse: 6.886\n",
      "[200]\ttrain's rmse: 5.90394\teval's rmse: 6.36143\n",
      "[300]\ttrain's rmse: 5.50663\teval's rmse: 6.19778\n",
      "[400]\ttrain's rmse: 5.21321\teval's rmse: 6.08101\n",
      "[500]\ttrain's rmse: 5.00428\teval's rmse: 6.00581\n",
      "[600]\ttrain's rmse: 4.83741\teval's rmse: 5.976\n",
      "[700]\ttrain's rmse: 4.68825\teval's rmse: 5.93207\n",
      "[800]\ttrain's rmse: 4.56382\teval's rmse: 5.91592\n",
      "[900]\ttrain's rmse: 4.44189\teval's rmse: 5.89541\n"
     ]
    },
    {
     "name": "stderr",
     "output_type": "stream",
     "text": [
      "regularization_factors, val_score: 5.892347:  65%|########################             | 13/20 [00:12<00:06,  1.03it/s]\u001b[32m[I 2021-06-20 17:30:30,056]\u001b[0m Trial 55 finished with value: 5.89234718624976 and parameters: {'lambda_l1': 1.282419817648994e-08, 'lambda_l2': 6.694482746809228e-06}. Best is trial 49 with value: 5.892347174847864.\u001b[0m\n",
      "regularization_factors, val_score: 5.892347:  65%|########################             | 13/20 [00:12<00:06,  1.03it/s]"
     ]
    },
    {
     "name": "stdout",
     "output_type": "stream",
     "text": [
      "Early stopping, best iteration is:\n",
      "[897]\ttrain's rmse: 4.44635\teval's rmse: 5.89235\n",
      "Training until validation scores don't improve for 100 rounds\n",
      "[100]\ttrain's rmse: 6.67096\teval's rmse: 6.886\n",
      "[200]\ttrain's rmse: 5.90292\teval's rmse: 6.34562\n",
      "[300]\ttrain's rmse: 5.50811\teval's rmse: 6.20028\n",
      "[400]\ttrain's rmse: 5.20407\teval's rmse: 6.08854\n",
      "[500]\ttrain's rmse: 4.98528\teval's rmse: 6.01936\n",
      "[600]\ttrain's rmse: 4.82393\teval's rmse: 5.99542\n",
      "[700]\ttrain's rmse: 4.68304\teval's rmse: 5.96476\n",
      "[800]\ttrain's rmse: 4.54886\teval's rmse: 5.95656\n",
      "[900]\ttrain's rmse: 4.42854\teval's rmse: 5.92761\n"
     ]
    },
    {
     "name": "stderr",
     "output_type": "stream",
     "text": [
      "regularization_factors, val_score: 5.892347:  70%|#########################9           | 14/20 [00:13<00:05,  1.00it/s]\u001b[32m[I 2021-06-20 17:30:31,109]\u001b[0m Trial 56 finished with value: 5.940503850642035 and parameters: {'lambda_l1': 6.737623956807653e-05, 'lambda_l2': 1.322960997448118e-08}. Best is trial 49 with value: 5.892347174847864.\u001b[0m\n",
      "regularization_factors, val_score: 5.892347:  70%|#########################9           | 14/20 [00:13<00:05,  1.00it/s]"
     ]
    },
    {
     "name": "stdout",
     "output_type": "stream",
     "text": [
      "[1000]\ttrain's rmse: 4.32372\teval's rmse: 5.9405\n",
      "Did not meet early stopping. Best iteration is:\n",
      "[1000]\ttrain's rmse: 4.32372\teval's rmse: 5.9405\n",
      "Training until validation scores don't improve for 100 rounds\n",
      "[100]\ttrain's rmse: 6.67096\teval's rmse: 6.886\n",
      "[200]\ttrain's rmse: 5.90394\teval's rmse: 6.36143\n",
      "[300]\ttrain's rmse: 5.50663\teval's rmse: 6.19778\n",
      "[400]\ttrain's rmse: 5.21321\teval's rmse: 6.08101\n",
      "[500]\ttrain's rmse: 5.00428\teval's rmse: 6.00581\n",
      "[600]\ttrain's rmse: 4.83741\teval's rmse: 5.976\n",
      "[700]\ttrain's rmse: 4.68825\teval's rmse: 5.93207\n",
      "[800]\ttrain's rmse: 4.56383\teval's rmse: 5.91592\n"
     ]
    },
    {
     "name": "stderr",
     "output_type": "stream",
     "text": [
      "\r",
      "regularization_factors, val_score: 5.892347:  70%|#########################9           | 14/20 [00:14<00:05,  1.00it/s]"
     ]
    },
    {
     "name": "stdout",
     "output_type": "stream",
     "text": [
      "[900]\ttrain's rmse: 4.44189\teval's rmse: 5.89541\n",
      "Early stopping, best iteration is:\n",
      "[897]\ttrain's rmse: 4.44635\teval's rmse: 5.89235\n"
     ]
    },
    {
     "name": "stderr",
     "output_type": "stream",
     "text": [
      "regularization_factors, val_score: 5.892347:  75%|###########################7         | 15/20 [00:14<00:04,  1.01it/s]\u001b[32m[I 2021-06-20 17:30:32,071]\u001b[0m Trial 57 finished with value: 5.892347229900769 and parameters: {'lambda_l1': 6.411774944110092e-07, 'lambda_l2': 3.329278898299182e-05}. Best is trial 49 with value: 5.892347174847864.\u001b[0m\n",
      "regularization_factors, val_score: 5.892347:  75%|###########################7         | 15/20 [00:14<00:04,  1.01it/s]"
     ]
    },
    {
     "name": "stdout",
     "output_type": "stream",
     "text": [
      "Training until validation scores don't improve for 100 rounds\n",
      "[100]\ttrain's rmse: 6.67096\teval's rmse: 6.886\n",
      "[200]\ttrain's rmse: 5.90394\teval's rmse: 6.36143\n",
      "[300]\ttrain's rmse: 5.50663\teval's rmse: 6.19778\n",
      "[400]\ttrain's rmse: 5.21321\teval's rmse: 6.08101\n",
      "[500]\ttrain's rmse: 5.00428\teval's rmse: 6.00581\n",
      "[600]\ttrain's rmse: 4.83741\teval's rmse: 5.976\n",
      "[700]\ttrain's rmse: 4.68825\teval's rmse: 5.93207\n",
      "[800]\ttrain's rmse: 4.56382\teval's rmse: 5.91592\n",
      "[900]\ttrain's rmse: 4.44189\teval's rmse: 5.89541\n",
      "Early stopping, best iteration is:\n",
      "[897]\ttrain's rmse: 4.44634\teval's rmse: 5.89235\n"
     ]
    },
    {
     "name": "stderr",
     "output_type": "stream",
     "text": [
      "regularization_factors, val_score: 5.892347:  80%|#############################6       | 16/20 [00:15<00:03,  1.00it/s]\u001b[32m[I 2021-06-20 17:30:33,088]\u001b[0m Trial 58 finished with value: 5.892347174752707 and parameters: {'lambda_l1': 1.6080713904841114e-08, 'lambda_l2': 2.210572201543271e-07}. Best is trial 58 with value: 5.892347174752707.\u001b[0m\n",
      "regularization_factors, val_score: 5.892347:  80%|#############################6       | 16/20 [00:15<00:03,  1.00it/s]"
     ]
    },
    {
     "name": "stdout",
     "output_type": "stream",
     "text": [
      "Training until validation scores don't improve for 100 rounds\n",
      "[100]\ttrain's rmse: 6.67096\teval's rmse: 6.886\n",
      "[200]\ttrain's rmse: 5.90292\teval's rmse: 6.34562\n",
      "[300]\ttrain's rmse: 5.50811\teval's rmse: 6.20028\n",
      "[400]\ttrain's rmse: 5.20407\teval's rmse: 6.08854\n",
      "[500]\ttrain's rmse: 4.98528\teval's rmse: 6.01936\n",
      "[600]\ttrain's rmse: 4.82393\teval's rmse: 5.99542\n",
      "[700]\ttrain's rmse: 4.68304\teval's rmse: 5.96476\n",
      "[800]\ttrain's rmse: 4.54886\teval's rmse: 5.95656\n",
      "[900]\ttrain's rmse: 4.42848\teval's rmse: 5.92608\n",
      "[1000]\ttrain's rmse: 4.32155\teval's rmse: 5.93372\n",
      "Did not meet early stopping. Best iteration is:\n",
      "[1000]\ttrain's rmse: 4.32155\teval's rmse: 5.93372\n"
     ]
    },
    {
     "name": "stderr",
     "output_type": "stream",
     "text": [
      "regularization_factors, val_score: 5.892347:  85%|###############################4     | 17/20 [00:16<00:02,  1.00it/s]\u001b[32m[I 2021-06-20 17:30:34,090]\u001b[0m Trial 59 finished with value: 5.93371594345195 and parameters: {'lambda_l1': 7.1544454057898835e-06, 'lambda_l2': 1.8695229958025343e-07}. Best is trial 58 with value: 5.892347174752707.\u001b[0m\n",
      "regularization_factors, val_score: 5.892347:  85%|###############################4     | 17/20 [00:16<00:02,  1.00it/s]"
     ]
    },
    {
     "name": "stdout",
     "output_type": "stream",
     "text": [
      "Training until validation scores don't improve for 100 rounds\n",
      "[100]\ttrain's rmse: 6.67096\teval's rmse: 6.886\n",
      "[200]\ttrain's rmse: 5.90293\teval's rmse: 6.34562\n",
      "[300]\ttrain's rmse: 5.50812\teval's rmse: 6.20028\n",
      "[400]\ttrain's rmse: 5.20408\teval's rmse: 6.08854\n",
      "[500]\ttrain's rmse: 4.98529\teval's rmse: 6.01936\n",
      "[600]\ttrain's rmse: 4.82526\teval's rmse: 6.00155\n",
      "[700]\ttrain's rmse: 4.67446\teval's rmse: 5.97577\n",
      "[800]\ttrain's rmse: 4.54233\teval's rmse: 5.95705\n",
      "[900]\ttrain's rmse: 4.41869\teval's rmse: 5.92936\n",
      "Early stopping, best iteration is:\n",
      "[898]\ttrain's rmse: 4.42071\teval's rmse: 5.92925\n"
     ]
    },
    {
     "name": "stderr",
     "output_type": "stream",
     "text": [
      "regularization_factors, val_score: 5.892347:  90%|#################################3   | 18/20 [00:17<00:01,  1.02it/s]\u001b[32m[I 2021-06-20 17:30:35,037]\u001b[0m Trial 60 finished with value: 5.929249886574302 and parameters: {'lambda_l1': 0.0007212700087756937, 'lambda_l2': 2.3683700945660288e-07}. Best is trial 58 with value: 5.892347174752707.\u001b[0m\n",
      "regularization_factors, val_score: 5.892347:  90%|#################################3   | 18/20 [00:17<00:01,  1.02it/s]"
     ]
    },
    {
     "name": "stdout",
     "output_type": "stream",
     "text": [
      "Training until validation scores don't improve for 100 rounds\n",
      "[100]\ttrain's rmse: 6.67097\teval's rmse: 6.88601\n",
      "[200]\ttrain's rmse: 5.90293\teval's rmse: 6.34563\n",
      "[300]\ttrain's rmse: 5.50812\teval's rmse: 6.20028\n",
      "[400]\ttrain's rmse: 5.20408\teval's rmse: 6.08854\n",
      "[500]\ttrain's rmse: 4.9853\teval's rmse: 6.01937\n",
      "[600]\ttrain's rmse: 4.82394\teval's rmse: 5.99542\n",
      "[700]\ttrain's rmse: 4.68305\teval's rmse: 5.96476\n",
      "[800]\ttrain's rmse: 4.54888\teval's rmse: 5.95656\n",
      "[900]\ttrain's rmse: 4.4285\teval's rmse: 5.92608\n",
      "[1000]\ttrain's rmse: 4.32156\teval's rmse: 5.93372\n",
      "Did not meet early stopping. Best iteration is:\n",
      "[1000]\ttrain's rmse: 4.32156\teval's rmse: 5.93372\n"
     ]
    },
    {
     "name": "stderr",
     "output_type": "stream",
     "text": [
      "regularization_factors, val_score: 5.892347:  95%|###################################1 | 19/20 [00:18<00:00,  1.02it/s]\u001b[32m[I 2021-06-20 17:30:36,003]\u001b[0m Trial 61 finished with value: 5.933715402183733 and parameters: {'lambda_l1': 8.197574337504524e-08, 'lambda_l2': 0.0005543667986571606}. Best is trial 58 with value: 5.892347174752707.\u001b[0m\n",
      "regularization_factors, val_score: 5.892347:  95%|###################################1 | 19/20 [00:18<00:00,  1.02it/s]"
     ]
    },
    {
     "name": "stdout",
     "output_type": "stream",
     "text": [
      "Training until validation scores don't improve for 100 rounds\n",
      "[100]\ttrain's rmse: 6.67096\teval's rmse: 6.886\n",
      "[200]\ttrain's rmse: 5.90292\teval's rmse: 6.34562\n",
      "[300]\ttrain's rmse: 5.50811\teval's rmse: 6.20028\n",
      "[400]\ttrain's rmse: 5.20407\teval's rmse: 6.08854\n",
      "[500]\ttrain's rmse: 4.98528\teval's rmse: 6.01936\n",
      "[600]\ttrain's rmse: 4.82393\teval's rmse: 5.99542\n",
      "[700]\ttrain's rmse: 4.6821\teval's rmse: 5.96816\n",
      "[800]\ttrain's rmse: 4.55115\teval's rmse: 5.94569\n",
      "[900]\ttrain's rmse: 4.42938\teval's rmse: 5.92969\n",
      "[1000]\ttrain's rmse: 4.32092\teval's rmse: 5.94022\n",
      "Did not meet early stopping. Best iteration is:\n",
      "[1000]\ttrain's rmse: 4.32092\teval's rmse: 5.94022\n"
     ]
    },
    {
     "name": "stderr",
     "output_type": "stream",
     "text": [
      "regularization_factors, val_score: 5.892347: 100%|#####################################| 20/20 [00:19<00:00,  1.01it/s]\u001b[32m[I 2021-06-20 17:30:37,009]\u001b[0m Trial 62 finished with value: 5.9402200082631245 and parameters: {'lambda_l1': 1.966926620056218e-06, 'lambda_l2': 3.001562320672297e-05}. Best is trial 58 with value: 5.892347174752707.\u001b[0m\n",
      "regularization_factors, val_score: 5.892347: 100%|#####################################| 20/20 [00:19<00:00,  1.01it/s]\n",
      "min_data_in_leaf, val_score: 5.892347:   0%|                                                     | 0/5 [00:00<?, ?it/s]"
     ]
    },
    {
     "name": "stdout",
     "output_type": "stream",
     "text": [
      "Training until validation scores don't improve for 100 rounds\n",
      "[100]\ttrain's rmse: 7.22954\teval's rmse: 7.46092\n",
      "[200]\ttrain's rmse: 6.38399\teval's rmse: 6.83634\n",
      "[300]\ttrain's rmse: 5.86558\teval's rmse: 6.50753\n",
      "[400]\ttrain's rmse: 5.52857\teval's rmse: 6.34301\n",
      "[500]\ttrain's rmse: 5.29125\teval's rmse: 6.21484\n",
      "[600]\ttrain's rmse: 5.09928\teval's rmse: 6.14752\n",
      "[700]\ttrain's rmse: 4.93943\teval's rmse: 6.06857\n",
      "[800]\ttrain's rmse: 4.80702\teval's rmse: 6.05492\n",
      "Early stopping, best iteration is:\n",
      "[720]\ttrain's rmse: 4.91223\teval's rmse: 6.04577\n"
     ]
    },
    {
     "name": "stderr",
     "output_type": "stream",
     "text": [
      "min_data_in_leaf, val_score: 5.892347:  20%|#########                                    | 1/5 [00:00<00:03,  1.25it/s]\u001b[32m[I 2021-06-20 17:30:37,821]\u001b[0m Trial 63 finished with value: 6.045768256392917 and parameters: {'min_child_samples': 25}. Best is trial 63 with value: 6.045768256392917.\u001b[0m\n",
      "min_data_in_leaf, val_score: 5.892347:  20%|#########                                    | 1/5 [00:00<00:03,  1.25it/s]"
     ]
    },
    {
     "name": "stdout",
     "output_type": "stream",
     "text": [
      "Training until validation scores don't improve for 100 rounds\n",
      "[100]\ttrain's rmse: 7.58209\teval's rmse: 7.79957\n",
      "[200]\ttrain's rmse: 6.79869\teval's rmse: 7.16079\n",
      "[300]\ttrain's rmse: 6.33409\teval's rmse: 6.81798\n",
      "[400]\ttrain's rmse: 5.97441\teval's rmse: 6.52266\n",
      "[500]\ttrain's rmse: 5.71009\teval's rmse: 6.38096\n",
      "[600]\ttrain's rmse: 5.50978\teval's rmse: 6.31027\n",
      "[700]\ttrain's rmse: 5.35124\teval's rmse: 6.26944\n",
      "[800]\ttrain's rmse: 5.21388\teval's rmse: 6.25019\n",
      "[900]\ttrain's rmse: 5.08573\teval's rmse: 6.20086\n",
      "[1000]\ttrain's rmse: 4.9723\teval's rmse: 6.17083\n",
      "Did not meet early stopping. Best iteration is:\n",
      "[1000]\ttrain's rmse: 4.9723\teval's rmse: 6.17083\n"
     ]
    },
    {
     "name": "stderr",
     "output_type": "stream",
     "text": [
      "min_data_in_leaf, val_score: 5.892347:  40%|##################                           | 2/5 [00:01<00:03,  1.00s/it]\u001b[32m[I 2021-06-20 17:30:38,966]\u001b[0m Trial 64 finished with value: 6.170825792067044 and parameters: {'min_child_samples': 50}. Best is trial 63 with value: 6.045768256392917.\u001b[0m\n",
      "min_data_in_leaf, val_score: 5.892347:  40%|##################                           | 2/5 [00:01<00:03,  1.00s/it]"
     ]
    },
    {
     "name": "stdout",
     "output_type": "stream",
     "text": [
      "Training until validation scores don't improve for 100 rounds\n",
      "[100]\ttrain's rmse: 6.54275\teval's rmse: 6.78003\n",
      "[200]\ttrain's rmse: 5.77324\teval's rmse: 6.40915\n",
      "[300]\ttrain's rmse: 5.32336\teval's rmse: 6.23027\n",
      "[400]\ttrain's rmse: 4.99352\teval's rmse: 6.12811\n",
      "[500]\ttrain's rmse: 4.7333\teval's rmse: 6.05848\n",
      "[600]\ttrain's rmse: 4.53018\teval's rmse: 6.04298\n",
      "[700]\ttrain's rmse: 4.352\teval's rmse: 5.99164\n",
      "[800]\ttrain's rmse: 4.19547\teval's rmse: 5.98417\n"
     ]
    },
    {
     "name": "stderr",
     "output_type": "stream",
     "text": [
      "min_data_in_leaf, val_score: 5.892347:  60%|###########################                  | 3/5 [00:02<00:01,  1.06it/s]\u001b[32m[I 2021-06-20 17:30:39,844]\u001b[0m Trial 65 finished with value: 5.9686418567358475 and parameters: {'min_child_samples': 10}. Best is trial 65 with value: 5.9686418567358475.\u001b[0m\n",
      "min_data_in_leaf, val_score: 5.892347:  60%|###########################                  | 3/5 [00:02<00:01,  1.06it/s]"
     ]
    },
    {
     "name": "stdout",
     "output_type": "stream",
     "text": [
      "Early stopping, best iteration is:\n",
      "[763]\ttrain's rmse: 4.25056\teval's rmse: 5.96864\n",
      "Training until validation scores don't improve for 100 rounds\n",
      "[100]\ttrain's rmse: 6.50606\teval's rmse: 6.84246\n",
      "[200]\ttrain's rmse: 5.66639\teval's rmse: 6.42047\n",
      "[300]\ttrain's rmse: 5.14219\teval's rmse: 6.21163\n",
      "[400]\ttrain's rmse: 4.78015\teval's rmse: 6.11339\n"
     ]
    },
    {
     "name": "stderr",
     "output_type": "stream",
     "text": [
      "min_data_in_leaf, val_score: 5.892347:  80%|####################################         | 4/5 [00:03<00:00,  1.23it/s]\u001b[32m[I 2021-06-20 17:30:40,460]\u001b[0m Trial 66 finished with value: 5.987761676732169 and parameters: {'min_child_samples': 5}. Best is trial 65 with value: 5.9686418567358475.\u001b[0m\n",
      "min_data_in_leaf, val_score: 5.892347:  80%|####################################         | 4/5 [00:03<00:00,  1.23it/s]"
     ]
    },
    {
     "name": "stdout",
     "output_type": "stream",
     "text": [
      "[500]\ttrain's rmse: 4.45218\teval's rmse: 5.99636\n",
      "[600]\ttrain's rmse: 4.20075\teval's rmse: 6.01661\n",
      "Early stopping, best iteration is:\n",
      "[512]\ttrain's rmse: 4.42606\teval's rmse: 5.98776\n",
      "Training until validation scores don't improve for 100 rounds\n",
      "[100]\ttrain's rmse: 8.4813\teval's rmse: 8.56201\n",
      "[200]\ttrain's rmse: 7.86778\teval's rmse: 8.03664\n",
      "[300]\ttrain's rmse: 7.51796\teval's rmse: 7.70709\n",
      "[400]\ttrain's rmse: 7.26412\teval's rmse: 7.53917\n",
      "[500]\ttrain's rmse: 7.01725\teval's rmse: 7.38808\n",
      "[600]\ttrain's rmse: 6.84229\teval's rmse: 7.28982\n",
      "[700]\ttrain's rmse: 6.68295\teval's rmse: 7.19837\n",
      "[800]\ttrain's rmse: 6.54128\teval's rmse: 7.10475\n",
      "[900]\ttrain's rmse: 6.41288\teval's rmse: 7.04313\n",
      "[1000]\ttrain's rmse: 6.30131\teval's rmse: 6.99989\n",
      "Did not meet early stopping. Best iteration is:\n",
      "[1000]\ttrain's rmse: 6.30131\teval's rmse: 6.99989\n"
     ]
    },
    {
     "name": "stderr",
     "output_type": "stream",
     "text": [
      "min_data_in_leaf, val_score: 5.892347: 100%|#############################################| 5/5 [00:04<00:00,  1.11it/s]\u001b[32m[I 2021-06-20 17:30:41,502]\u001b[0m Trial 67 finished with value: 6.999892500890411 and parameters: {'min_child_samples': 100}. Best is trial 65 with value: 5.9686418567358475.\u001b[0m\n",
      "min_data_in_leaf, val_score: 5.892347: 100%|#############################################| 5/5 [00:04<00:00,  1.11it/s]"
     ]
    },
    {
     "name": "stdout",
     "output_type": "stream",
     "text": [
      "4.993399357228004\n"
     ]
    },
    {
     "name": "stderr",
     "output_type": "stream",
     "text": [
      "\n"
     ]
    }
   ],
   "source": [
    "y_lgb_preds = []\n",
    "models = []\n",
    "y_lgb_oof_train = np.zeros((len(X_train),))\n",
    "cv = KFold(n_splits=5, shuffle=True, random_state=0)\n",
    "\n",
    "params = {\n",
    "    'task' : 'train',\n",
    "    'boosting_type' : 'gbdt',\n",
    "    'objective': 'regression',\n",
    "    'metric' : 'rmse',\n",
    "    'max_bin' : 255,\n",
    "    'num_leaves' : 31,\n",
    "    'learning_rate' : 0.05,\n",
    "    'feature_fraction' : 0.9,\n",
    "    'bagging_fraction' : 0.8,\n",
    "    'bagging_freq': 5,\n",
    "    'verbose' : -1\n",
    "}\n",
    "\n",
    "# Cross Validation\n",
    "for fold_id, (train_index, valid_index) in enumerate(cv.split(X_train)):\n",
    "    X_tr = X_train.iloc[train_index, :]\n",
    "    X_val = X_train.iloc[valid_index, :]\n",
    "    y_tr = y_train.iloc[train_index]\n",
    "    y_val = y_train.iloc[valid_index]\n",
    "    \n",
    "    # Train Dataset\n",
    "    lgb_train = lgb.Dataset(X_tr, y_tr)\n",
    "\n",
    "    # Evaluation Dataset (early_stopping_rounds)\n",
    "    lgb_eval = lgb.Dataset(X_val, y_val, reference=lgb_train)\n",
    "    \n",
    "    evals_result = {} #結果を格納するための辞書\n",
    "    # train\n",
    "    gbm = lgb.train(params,\n",
    "                    lgb_train,\n",
    "                    valid_sets=[lgb_train, lgb_eval],\n",
    "                    valid_names=['train','eval'],\n",
    "                    num_boost_round=1000,\n",
    "                    early_stopping_rounds=100,\n",
    "                    verbose_eval=100,\n",
    "                    evals_result=evals_result\n",
    "                   )\n",
    "    # Out-of-hold of train data\n",
    "    y_lgb_oof_train[valid_index] = \\\n",
    "        gbm.predict(X_val, num_iteration=gbm.best_iteration)\n",
    "\n",
    "    \n",
    "    # Prediction for X_test data\n",
    "    y_pred = gbm.predict(X_test, num_iteration=gbm.best_iteration)\n",
    "    \n",
    "    # Append Prediction data \n",
    "    y_lgb_preds.append(y_pred)\n",
    "    models.append(gbm)\n",
    "\n",
    "print(mean_absolute_error(y_train, y_lgb_oof_train))\n"
   ]
  },
  {
   "cell_type": "code",
   "execution_count": 27,
   "id": "24e5697c",
   "metadata": {},
   "outputs": [
    {
     "data": {
      "text/plain": [
       "([17.044518324482933,\n",
       "  16.52636953195697,\n",
       "  16.038394026795523,\n",
       "  15.588878568189024,\n",
       "  15.16654410117542],\n",
       " [16.45715110544725,\n",
       "  15.988000794696239,\n",
       "  15.548508474347324,\n",
       "  15.149263689382124,\n",
       "  14.751252861504375])"
      ]
     },
     "execution_count": 27,
     "metadata": {},
     "output_type": "execute_result"
    }
   ],
   "source": [
    "train_metric = evals_result['train']['rmse']\n",
    "eval_metric = evals_result['eval']['rmse']\n",
    "train_metric[:5], eval_metric[:5]"
   ]
  },
  {
   "cell_type": "code",
   "execution_count": 28,
   "id": "5f2131cd",
   "metadata": {},
   "outputs": [
    {
     "data": {
      "image/png": "[encoded data removed]",
      "text/plain": [
       "<Figure size 432x288 with 1 Axes>"
      ]
     },
     "metadata": {
      "needs_background": "light"
     },
     "output_type": "display_data"
    }
   ],
   "source": [
    "plt.plot(train_metric, label='train rmse')\n",
    "plt.plot(eval_metric, label='eval rmse')\n",
    "plt.grid()\n",
    "plt.legend()\n",
    "plt.ylim(0, 8)\n",
    "\n",
    "plt.xlabel('rounds')\n",
    "plt.ylabel('rmse')\n",
    "plt.grid(True)\n",
    "plt.show()"
   ]
  },
  {
   "cell_type": "code",
   "execution_count": 29,
   "id": "8e384808",
   "metadata": {},
   "outputs": [],
   "source": [
    "#X_train['lasso'] = y_lasso_pred\n",
    "#X_test['lasso'] = y_lasso_test_pred\n",
    "## データセットの標準化\n",
    "#scaler.fit(X_train)\n",
    "#scaler.fit(X_test)\n",
    "#X_train_scaler = scaler.transform(X_train)\n",
    "#X_test_scaler  = scaler.transform(X_test)"
   ]
  },
  {
   "cell_type": "code",
   "execution_count": 30,
   "id": "7033819c",
   "metadata": {},
   "outputs": [
    {
     "name": "stderr",
     "output_type": "stream",
     "text": [
      "C:\\anaconda\\lib\\site-packages\\sklearn\\model_selection\\_split.py:666: UserWarning: The least populated class in y has only 1 members, which is less than n_splits=5.\n",
      "  warnings.warn((\"The least populated class in y has only %d\"\n"
     ]
    },
    {
     "name": "stdout",
     "output_type": "stream",
     "text": [
      "{'C': 10, 'gamma': 0.01, 'kernel': 'rbf'}\n",
      "Score = 0.7963997552009829\n",
      "MAE = 4.990480723465017\n"
     ]
    }
   ],
   "source": [
    "# SVM\n",
    "\n",
    "params_grid = [\n",
    "    {'C': [1, 10], 'kernel':['linear']},\n",
    "    {'C': [1, 10], 'gamma': [0.01, 0.001], 'kernel': ['rbf']}\n",
    "]\n",
    "# パラメータチューニング\n",
    "clf = GridSearchCV(\n",
    "    estimator = SVC(),\n",
    "    param_grid = params_grid,\n",
    "    cv = 5,\n",
    "    scoring='r2',\n",
    "    n_jobs = -1\n",
    "    )\n",
    "#clf = RandomForestClassifier(max_depth=10, random_state=0)\n",
    "\n",
    "# フィッテイング\n",
    "clf.fit(X_train_scaler, y_train) \n",
    "\n",
    "# チューニングしたモデル\n",
    "best_param = clf.best_params_\n",
    "svc_tuned = clf.best_estimator_\n",
    "\n",
    "# 予測値を反映\n",
    "y_svc_pred = svc_tuned.predict(X_train_scaler) # Trainデータに対して予測\n",
    "y_svc_test_pred = svc_tuned.predict(X_test_scaler) # Testデータに対して予測\n",
    "\n",
    "#print(\"α = {}\".format(clf.alpha_))\n",
    "#print(\"ω = {}\".format(clf.coef_))\n",
    "#print(\"b = {}\".format(clf.intercept_))\n",
    "\n",
    "print(best_param)\n",
    "print(\"Score = {}\".format(clf.score(X_train_scaler, y_train)))\n",
    "print(\"MAE = {}\".format(mean_absolute_error(y_train, y_svc_pred)))\n",
    "#print(cross_val_score(clf, X_train, y_train, cv=5))"
   ]
  },
  {
   "cell_type": "code",
   "execution_count": 31,
   "id": "5999828f",
   "metadata": {},
   "outputs": [
    {
     "name": "stdout",
     "output_type": "stream",
     "text": [
      "{'alpha': 7.943282347242366}\n",
      "R^2 = 0.7394874387114629\n",
      "MAE = 6.866621979918095\n"
     ]
    }
   ],
   "source": [
    "params_grid = {\n",
    "    'alpha': 10 ** np.arange(-6, 1, 0.1)\n",
    "}\n",
    "# パラメータチューニング\n",
    "clf = GridSearchCV(\n",
    "    estimator = Ridge(),\n",
    "    param_grid = params_grid,\n",
    "    cv = 5,\n",
    "    scoring='r2',\n",
    "    n_jobs = -1\n",
    "    )\n",
    "# 線形モデルの重みを学習\n",
    "clf.fit(X_train_scaler, y_train) \n",
    "\n",
    "# チューニングしたモデル\n",
    "best_param = clf.best_params_\n",
    "ridge_tuned = clf.best_estimator_\n",
    "\n",
    "# 予測値を反映\n",
    "y_ridge_pred = ridge_tuned.predict(X_train_scaler) # Trainデータに対して予測\n",
    "y_ridge_test_pred = ridge_tuned.predict(X_test_scaler) # Testデータに対して予測\n",
    "\n",
    "#print(\"α = {}\".format(clf.alpha_))\n",
    "#print(\"ω = {}\".format(clf.coef_))\n",
    "#print(\"b = {}\".format(clf.intercept_))\n",
    "print(best_param)\n",
    "print(\"R^2 = {}\".format(clf.score(X_train_scaler, y_train)))\n",
    "print(\"MAE = {}\".format(mean_absolute_error(y_train, y_ridge_pred)))"
   ]
  },
  {
   "cell_type": "code",
   "execution_count": 32,
   "id": "652a3707",
   "metadata": {},
   "outputs": [],
   "source": [
    "y_total_pred = y_lasso_pred*0.0 + y_ridge_pred*0.0 + y_svc_pred*1.0"
   ]
  },
  {
   "cell_type": "code",
   "execution_count": 34,
   "id": "a0c4f1b3",
   "metadata": {},
   "outputs": [
    {
     "data": {
      "image/png": "[encoded data removed]",
      "text/plain": [
       "<Figure size 432x288 with 1 Axes>"
      ]
     },
     "metadata": {
      "needs_background": "light"
     },
     "output_type": "display_data"
    }
   ],
   "source": [
    "#plt.scatter(y_train, y_lasso_pred)\n",
    "#plt.scatter(y_train, y_ridge_pred)\n",
    "plt.scatter(y_train, y_svc_pred)\n",
    "plt.scatter(y_train, y_lgb_oof_train)\n",
    "#plt.scatter(y_train, y_total_pred)\n",
    "\n",
    "\n",
    "\n",
    "plt.title(\"Prediction vs Valid data for SalePrice\")\n",
    "plt.xlabel(\"Prediction\")\n",
    "plt.ylabel(\"Expected value\")\n",
    "# Fitting line\n",
    "x = np.arange(0, max(y_train))\n",
    "y = x\n",
    "plt.plot(x,y,color='red')\n",
    "\n",
    "# MAE\n",
    "#result_mae = mean_absolute_error(y_train, y_total_pred)\n",
    "result_mae = mean_absolute_error(y_train, y_lgb_oof_train)\n",
    "#result_rmsle = rmsle(y_train.values, y_lgb_oof_train)\n",
    "\n",
    "plt.text(1, max(y_train), 'MAE = {}'.format(result_mae))\n",
    "\n",
    "# Grid on\n",
    "plt.grid(True)"
   ]
  },
  {
   "cell_type": "code",
   "execution_count": 35,
   "id": "598499d8",
   "metadata": {},
   "outputs": [],
   "source": [
    "# Average of Prediction data \n",
    "y_lgb_test_pred = sum(y_lgb_preds)/len(y_lgb_preds)"
   ]
  },
  {
   "cell_type": "code",
   "execution_count": 36,
   "id": "e3d59727",
   "metadata": {},
   "outputs": [],
   "source": [
    "submit_sample[1] = y_lgb_test_pred\n",
    "submit_sample.to_csv('submit.csv',index = False,  header=None)"
   ]
  },
  {
   "cell_type": "code",
   "execution_count": 37,
   "id": "c45c7a2b",
   "metadata": {},
   "outputs": [
    {
     "data": {
      "text/html": [
       "<div>\n",
       "<style scoped>\n",
       "    .dataframe tbody tr th:only-of-type {\n",
       "        vertical-align: middle;\n",
       "    }\n",
       "\n",
       "    .dataframe tbody tr th {\n",
       "        vertical-align: top;\n",
       "    }\n",
       "\n",
       "    .dataframe thead th {\n",
       "        text-align: right;\n",
       "    }\n",
       "</style>\n",
       "<table border=\"1\" class=\"dataframe\">\n",
       "  <thead>\n",
       "    <tr style=\"text-align: right;\">\n",
       "      <th></th>\n",
       "      <th>0</th>\n",
       "      <th>1</th>\n",
       "    </tr>\n",
       "  </thead>\n",
       "  <tbody>\n",
       "    <tr>\n",
       "      <th>0</th>\n",
       "      <td>2016-04-01</td>\n",
       "      <td>75.829186</td>\n",
       "    </tr>\n",
       "    <tr>\n",
       "      <th>1</th>\n",
       "      <td>2016-04-02</td>\n",
       "      <td>70.969179</td>\n",
       "    </tr>\n",
       "    <tr>\n",
       "      <th>2</th>\n",
       "      <td>2016-04-03</td>\n",
       "      <td>70.970468</td>\n",
       "    </tr>\n",
       "    <tr>\n",
       "      <th>3</th>\n",
       "      <td>2016-04-04</td>\n",
       "      <td>65.090738</td>\n",
       "    </tr>\n",
       "    <tr>\n",
       "      <th>4</th>\n",
       "      <td>2016-04-05</td>\n",
       "      <td>56.367153</td>\n",
       "    </tr>\n",
       "  </tbody>\n",
       "</table>\n",
       "</div>"
      ],
      "text/plain": [
       "            0          1\n",
       "0  2016-04-01  75.829186\n",
       "1  2016-04-02  70.969179\n",
       "2  2016-04-03  70.970468\n",
       "3  2016-04-04  65.090738\n",
       "4  2016-04-05  56.367153"
      ]
     },
     "execution_count": 37,
     "metadata": {},
     "output_type": "execute_result"
    }
   ],
   "source": [
    "submit_sample.head()"
   ]
  },
  {
   "cell_type": "code",
   "execution_count": null,
   "id": "096d5a1d",
   "metadata": {},
   "outputs": [],
   "source": []
  }
 ],
 "metadata": {
  "kernelspec": {
   "display_name": "Python 3",
   "language": "python",
   "name": "python3"
  },
  "language_info": {
   "codemirror_mode": {
    "name": "ipython",
    "version": 3
   },
   "file_extension": ".py",
   "mimetype": "text/x-python",
   "name": "python",
   "nbconvert_exporter": "python",
   "pygments_lexer": "ipython3",
   "version": "3.8.8"
  }
 },
 "nbformat": 4,
 "nbformat_minor": 5
}
