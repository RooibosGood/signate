{
 "cells": [
  {
   "cell_type": "code",
   "execution_count": 1,
   "id": "ed133a50",
   "metadata": {},
   "outputs": [],
   "source": [
    "import numpy as np # linear algebra\n",
    "import pandas as pd # data processing, CSV file I/O (e.g. pd.read_csv)\n",
    "import datetime as dt\n",
    "import jpholiday\n",
    "import seaborn as sns\n",
    "import matplotlib.pyplot as plt\n",
    "import seaborn as sns\n",
    "from scipy.stats import norm\n",
    "import statsmodels.api as sm\n",
    "import scipy.stats as stats\n",
    "from sklearn.metrics import mean_absolute_error"
   ]
  },
  {
   "cell_type": "code",
   "execution_count": 2,
   "id": "90aaf563",
   "metadata": {
    "scrolled": false
   },
   "outputs": [
    {
     "name": "stdout",
     "output_type": "stream",
     "text": [
      "<class 'pandas.core.frame.DataFrame'>\n",
      "Int64Index: 2466 entries, 0 to 364\n",
      "Data columns (total 6 columns):\n",
      " #   Column    Non-Null Count  Dtype         \n",
      "---  ------    --------------  -----         \n",
      " 0   datetime  2466 non-null   datetime64[ns]\n",
      " 1   y         2101 non-null   float64       \n",
      " 2   client    2466 non-null   int64         \n",
      " 3   close     2466 non-null   int64         \n",
      " 4   price_am  2466 non-null   int64         \n",
      " 5   price_pm  2466 non-null   int64         \n",
      "dtypes: datetime64[ns](1), float64(1), int64(4)\n",
      "memory usage: 134.9 KB\n"
     ]
    },
    {
     "data": {
      "text/html": [
       "<div>\n",
       "<style scoped>\n",
       "    .dataframe tbody tr th:only-of-type {\n",
       "        vertical-align: middle;\n",
       "    }\n",
       "\n",
       "    .dataframe tbody tr th {\n",
       "        vertical-align: top;\n",
       "    }\n",
       "\n",
       "    .dataframe thead th {\n",
       "        text-align: right;\n",
       "    }\n",
       "</style>\n",
       "<table border=\"1\" class=\"dataframe\">\n",
       "  <thead>\n",
       "    <tr style=\"text-align: right;\">\n",
       "      <th></th>\n",
       "      <th>datetime</th>\n",
       "      <th>y</th>\n",
       "      <th>client</th>\n",
       "      <th>close</th>\n",
       "      <th>price_am</th>\n",
       "      <th>price_pm</th>\n",
       "    </tr>\n",
       "  </thead>\n",
       "  <tbody>\n",
       "    <tr>\n",
       "      <th>0</th>\n",
       "      <td>2010-07-01</td>\n",
       "      <td>17.0</td>\n",
       "      <td>0</td>\n",
       "      <td>0</td>\n",
       "      <td>-1</td>\n",
       "      <td>-1</td>\n",
       "    </tr>\n",
       "    <tr>\n",
       "      <th>1</th>\n",
       "      <td>2010-07-02</td>\n",
       "      <td>18.0</td>\n",
       "      <td>0</td>\n",
       "      <td>0</td>\n",
       "      <td>-1</td>\n",
       "      <td>-1</td>\n",
       "    </tr>\n",
       "    <tr>\n",
       "      <th>2</th>\n",
       "      <td>2010-07-03</td>\n",
       "      <td>20.0</td>\n",
       "      <td>0</td>\n",
       "      <td>0</td>\n",
       "      <td>-1</td>\n",
       "      <td>-1</td>\n",
       "    </tr>\n",
       "    <tr>\n",
       "      <th>3</th>\n",
       "      <td>2010-07-04</td>\n",
       "      <td>20.0</td>\n",
       "      <td>0</td>\n",
       "      <td>0</td>\n",
       "      <td>-1</td>\n",
       "      <td>-1</td>\n",
       "    </tr>\n",
       "    <tr>\n",
       "      <th>4</th>\n",
       "      <td>2010-07-05</td>\n",
       "      <td>14.0</td>\n",
       "      <td>0</td>\n",
       "      <td>0</td>\n",
       "      <td>-1</td>\n",
       "      <td>-1</td>\n",
       "    </tr>\n",
       "    <tr>\n",
       "      <th>5</th>\n",
       "      <td>2010-07-06</td>\n",
       "      <td>14.0</td>\n",
       "      <td>0</td>\n",
       "      <td>0</td>\n",
       "      <td>-1</td>\n",
       "      <td>-1</td>\n",
       "    </tr>\n",
       "    <tr>\n",
       "      <th>6</th>\n",
       "      <td>2010-07-07</td>\n",
       "      <td>4.0</td>\n",
       "      <td>0</td>\n",
       "      <td>0</td>\n",
       "      <td>-1</td>\n",
       "      <td>-1</td>\n",
       "    </tr>\n",
       "    <tr>\n",
       "      <th>7</th>\n",
       "      <td>2010-07-08</td>\n",
       "      <td>10.0</td>\n",
       "      <td>0</td>\n",
       "      <td>0</td>\n",
       "      <td>-1</td>\n",
       "      <td>-1</td>\n",
       "    </tr>\n",
       "    <tr>\n",
       "      <th>8</th>\n",
       "      <td>2010-07-09</td>\n",
       "      <td>12.0</td>\n",
       "      <td>0</td>\n",
       "      <td>0</td>\n",
       "      <td>-1</td>\n",
       "      <td>-1</td>\n",
       "    </tr>\n",
       "    <tr>\n",
       "      <th>9</th>\n",
       "      <td>2010-07-10</td>\n",
       "      <td>21.0</td>\n",
       "      <td>0</td>\n",
       "      <td>0</td>\n",
       "      <td>-1</td>\n",
       "      <td>-1</td>\n",
       "    </tr>\n",
       "  </tbody>\n",
       "</table>\n",
       "</div>"
      ],
      "text/plain": [
       "    datetime     y  client  close  price_am  price_pm\n",
       "0 2010-07-01  17.0       0      0        -1        -1\n",
       "1 2010-07-02  18.0       0      0        -1        -1\n",
       "2 2010-07-03  20.0       0      0        -1        -1\n",
       "3 2010-07-04  20.0       0      0        -1        -1\n",
       "4 2010-07-05  14.0       0      0        -1        -1\n",
       "5 2010-07-06  14.0       0      0        -1        -1\n",
       "6 2010-07-07   4.0       0      0        -1        -1\n",
       "7 2010-07-08  10.0       0      0        -1        -1\n",
       "8 2010-07-09  12.0       0      0        -1        -1\n",
       "9 2010-07-10  21.0       0      0        -1        -1"
      ]
     },
     "execution_count": 2,
     "metadata": {},
     "output_type": "execute_result"
    }
   ],
   "source": [
    "train=pd.read_csv(\"./train.csv\", parse_dates=[0]) # 日付をdatetime型で取得\n",
    "test=pd.read_csv(\"./test.csv\", parse_dates=[0])\n",
    "submit_sample=pd.read_csv(\"./sample_submit.csv\", header=None)\n",
    "\n",
    "df = pd.concat([train, test], sort=False)\n",
    "df.info()\n",
    "df.head(10)"
   ]
  },
  {
   "cell_type": "markdown",
   "id": "e43737b6",
   "metadata": {},
   "source": [
    "### 日本の休日"
   ]
  },
  {
   "cell_type": "code",
   "execution_count": 3,
   "id": "7b323224",
   "metadata": {},
   "outputs": [
    {
     "data": {
      "text/plain": [
       "False    2353\n",
       "True      113\n",
       "Name: holiday, dtype: int64"
      ]
     },
     "execution_count": 3,
     "metadata": {},
     "output_type": "execute_result"
    }
   ],
   "source": [
    "i = 0\n",
    "df['holiday'] = np.zeros((len(df),))\n",
    "jpholiday_list =[]\n",
    "for date in df['datetime'].dt.date:\n",
    "    DateJ = dt.date(date.year,date.month,date.day)\n",
    "    jpholiday_list.append(jpholiday.is_holiday(DateJ))\n",
    "    i += 1\n",
    "\n",
    "df['holiday'] = jpholiday_list    \n",
    "df['holiday'].value_counts()"
   ]
  },
  {
   "cell_type": "code",
   "execution_count": 4,
   "id": "46b5d537",
   "metadata": {
    "scrolled": true
   },
   "outputs": [
    {
     "data": {
      "text/html": [
       "<div>\n",
       "<style scoped>\n",
       "    .dataframe tbody tr th:only-of-type {\n",
       "        vertical-align: middle;\n",
       "    }\n",
       "\n",
       "    .dataframe tbody tr th {\n",
       "        vertical-align: top;\n",
       "    }\n",
       "\n",
       "    .dataframe thead th {\n",
       "        text-align: right;\n",
       "    }\n",
       "</style>\n",
       "<table border=\"1\" class=\"dataframe\">\n",
       "  <thead>\n",
       "    <tr style=\"text-align: right;\">\n",
       "      <th></th>\n",
       "      <th>datetime</th>\n",
       "      <th>y</th>\n",
       "      <th>client</th>\n",
       "      <th>close</th>\n",
       "      <th>price_am</th>\n",
       "      <th>price_pm</th>\n",
       "      <th>holiday</th>\n",
       "    </tr>\n",
       "  </thead>\n",
       "  <tbody>\n",
       "    <tr>\n",
       "      <th>0</th>\n",
       "      <td>2010-07-01</td>\n",
       "      <td>17.0</td>\n",
       "      <td>0</td>\n",
       "      <td>0</td>\n",
       "      <td>NaN</td>\n",
       "      <td>NaN</td>\n",
       "      <td>False</td>\n",
       "    </tr>\n",
       "    <tr>\n",
       "      <th>1</th>\n",
       "      <td>2010-07-02</td>\n",
       "      <td>18.0</td>\n",
       "      <td>0</td>\n",
       "      <td>0</td>\n",
       "      <td>NaN</td>\n",
       "      <td>NaN</td>\n",
       "      <td>False</td>\n",
       "    </tr>\n",
       "    <tr>\n",
       "      <th>2</th>\n",
       "      <td>2010-07-03</td>\n",
       "      <td>20.0</td>\n",
       "      <td>0</td>\n",
       "      <td>0</td>\n",
       "      <td>NaN</td>\n",
       "      <td>NaN</td>\n",
       "      <td>False</td>\n",
       "    </tr>\n",
       "    <tr>\n",
       "      <th>3</th>\n",
       "      <td>2010-07-04</td>\n",
       "      <td>20.0</td>\n",
       "      <td>0</td>\n",
       "      <td>0</td>\n",
       "      <td>NaN</td>\n",
       "      <td>NaN</td>\n",
       "      <td>False</td>\n",
       "    </tr>\n",
       "    <tr>\n",
       "      <th>4</th>\n",
       "      <td>2010-07-05</td>\n",
       "      <td>14.0</td>\n",
       "      <td>0</td>\n",
       "      <td>0</td>\n",
       "      <td>NaN</td>\n",
       "      <td>NaN</td>\n",
       "      <td>False</td>\n",
       "    </tr>\n",
       "  </tbody>\n",
       "</table>\n",
       "</div>"
      ],
      "text/plain": [
       "    datetime     y  client  close  price_am  price_pm  holiday\n",
       "0 2010-07-01  17.0       0      0       NaN       NaN    False\n",
       "1 2010-07-02  18.0       0      0       NaN       NaN    False\n",
       "2 2010-07-03  20.0       0      0       NaN       NaN    False\n",
       "3 2010-07-04  20.0       0      0       NaN       NaN    False\n",
       "4 2010-07-05  14.0       0      0       NaN       NaN    False"
      ]
     },
     "execution_count": 4,
     "metadata": {},
     "output_type": "execute_result"
    }
   ],
   "source": [
    "df.loc[df['price_am'] == -1, 'price_am'] = np.nan\n",
    "df.loc[df['price_pm'] == -1, 'price_pm'] = np.nan\n",
    "df.loc[df['close'] == 1, 'price_am'] = 0\n",
    "df.loc[df['close'] == 1, 'price_pm'] = 0\n",
    "df.head()"
   ]
  },
  {
   "cell_type": "code",
   "execution_count": 5,
   "id": "47bf5de8",
   "metadata": {},
   "outputs": [],
   "source": [
    "### datimeをdatetime64[ns]型に変更。"
   ]
  },
  {
   "cell_type": "code",
   "execution_count": 6,
   "id": "2e65607d",
   "metadata": {},
   "outputs": [],
   "source": [
    "#df['datetime'] = df.datetime.map(dt.datetime.timestamp)\n",
    "#df['datetime'] = df['datetime'].dt.to_pydatetime()\n",
    "df['year'] = df['datetime'].dt.year\n",
    "df['month'] = df['datetime'].dt.month\n",
    "df['day'] = df['datetime'].dt.day\n",
    "df['weekday'] = df['datetime'].dt.weekday"
   ]
  },
  {
   "cell_type": "code",
   "execution_count": 7,
   "id": "c5360402",
   "metadata": {},
   "outputs": [],
   "source": [
    "def encode(df, col):\n",
    "    # この方法だと場合によって最大値が変化するデータでは正確な値は出ない\n",
    "    # 例：月の日数が30日や31日の場合がある\n",
    "    df[col + '_cos'] = np.cos(2 * np.pi * df[col] / df[col].max())\n",
    "    df[col + '_sin'] = np.sin(2 * np.pi * df[col] / df[col].max())\n",
    "    return df"
   ]
  },
  {
   "cell_type": "code",
   "execution_count": 8,
   "id": "09c284e6",
   "metadata": {},
   "outputs": [],
   "source": [
    "df = encode(df, 'month')\n",
    "df = encode(df, 'day')\n",
    "df = encode(df, 'weekday')"
   ]
  },
  {
   "cell_type": "code",
   "execution_count": 9,
   "id": "ff20117b",
   "metadata": {},
   "outputs": [
    {
     "data": {
      "image/png": "[encoded data removed]",
      "text/plain": [
       "<Figure size 432x288 with 1 Axes>"
      ]
     },
     "metadata": {
      "needs_background": "light"
     },
     "output_type": "display_data"
    },
    {
     "data": {
      "image/png": "[encoded data removed]",
      "text/plain": [
       "<Figure size 432x288 with 1 Axes>"
      ]
     },
     "metadata": {
      "needs_background": "light"
     },
     "output_type": "display_data"
    },
    {
     "data": {
      "image/png": "[encoded data removed]",
      "text/plain": [
       "<Figure size 432x288 with 1 Axes>"
      ]
     },
     "metadata": {
      "needs_background": "light"
     },
     "output_type": "display_data"
    }
   ],
   "source": [
    "df.plot.scatter('month_sin','month_cos').set_aspect('equal')\n",
    "df.plot.scatter('day_sin','day_cos').set_aspect('equal')\n",
    "df.plot.scatter('weekday_sin','weekday_cos').set_aspect('equal')"
   ]
  },
  {
   "cell_type": "code",
   "execution_count": 10,
   "id": "4aa847f0",
   "metadata": {},
   "outputs": [
    {
     "data": {
      "text/html": [
       "<div>\n",
       "<style scoped>\n",
       "    .dataframe tbody tr th:only-of-type {\n",
       "        vertical-align: middle;\n",
       "    }\n",
       "\n",
       "    .dataframe tbody tr th {\n",
       "        vertical-align: top;\n",
       "    }\n",
       "\n",
       "    .dataframe thead th {\n",
       "        text-align: right;\n",
       "    }\n",
       "</style>\n",
       "<table border=\"1\" class=\"dataframe\">\n",
       "  <thead>\n",
       "    <tr style=\"text-align: right;\">\n",
       "      <th></th>\n",
       "      <th>datetime</th>\n",
       "      <th>y</th>\n",
       "      <th>client</th>\n",
       "      <th>close</th>\n",
       "      <th>price_am</th>\n",
       "      <th>price_pm</th>\n",
       "      <th>holiday</th>\n",
       "      <th>year</th>\n",
       "      <th>month</th>\n",
       "      <th>day</th>\n",
       "      <th>weekday</th>\n",
       "      <th>month_cos</th>\n",
       "      <th>month_sin</th>\n",
       "      <th>day_cos</th>\n",
       "      <th>day_sin</th>\n",
       "      <th>weekday_cos</th>\n",
       "      <th>weekday_sin</th>\n",
       "    </tr>\n",
       "  </thead>\n",
       "  <tbody>\n",
       "    <tr>\n",
       "      <th>0</th>\n",
       "      <td>2010-07-01</td>\n",
       "      <td>17.0</td>\n",
       "      <td>0</td>\n",
       "      <td>0</td>\n",
       "      <td>NaN</td>\n",
       "      <td>NaN</td>\n",
       "      <td>False</td>\n",
       "      <td>2010</td>\n",
       "      <td>7</td>\n",
       "      <td>1</td>\n",
       "      <td>3</td>\n",
       "      <td>-0.866025</td>\n",
       "      <td>-0.5</td>\n",
       "      <td>0.979530</td>\n",
       "      <td>0.201299</td>\n",
       "      <td>-1.0</td>\n",
       "      <td>1.224647e-16</td>\n",
       "    </tr>\n",
       "    <tr>\n",
       "      <th>1</th>\n",
       "      <td>2010-07-02</td>\n",
       "      <td>18.0</td>\n",
       "      <td>0</td>\n",
       "      <td>0</td>\n",
       "      <td>NaN</td>\n",
       "      <td>NaN</td>\n",
       "      <td>False</td>\n",
       "      <td>2010</td>\n",
       "      <td>7</td>\n",
       "      <td>2</td>\n",
       "      <td>4</td>\n",
       "      <td>-0.866025</td>\n",
       "      <td>-0.5</td>\n",
       "      <td>0.918958</td>\n",
       "      <td>0.394356</td>\n",
       "      <td>-0.5</td>\n",
       "      <td>-8.660254e-01</td>\n",
       "    </tr>\n",
       "    <tr>\n",
       "      <th>2</th>\n",
       "      <td>2010-07-03</td>\n",
       "      <td>20.0</td>\n",
       "      <td>0</td>\n",
       "      <td>0</td>\n",
       "      <td>NaN</td>\n",
       "      <td>NaN</td>\n",
       "      <td>False</td>\n",
       "      <td>2010</td>\n",
       "      <td>7</td>\n",
       "      <td>3</td>\n",
       "      <td>5</td>\n",
       "      <td>-0.866025</td>\n",
       "      <td>-0.5</td>\n",
       "      <td>0.820763</td>\n",
       "      <td>0.571268</td>\n",
       "      <td>0.5</td>\n",
       "      <td>-8.660254e-01</td>\n",
       "    </tr>\n",
       "    <tr>\n",
       "      <th>3</th>\n",
       "      <td>2010-07-04</td>\n",
       "      <td>20.0</td>\n",
       "      <td>0</td>\n",
       "      <td>0</td>\n",
       "      <td>NaN</td>\n",
       "      <td>NaN</td>\n",
       "      <td>False</td>\n",
       "      <td>2010</td>\n",
       "      <td>7</td>\n",
       "      <td>4</td>\n",
       "      <td>6</td>\n",
       "      <td>-0.866025</td>\n",
       "      <td>-0.5</td>\n",
       "      <td>0.688967</td>\n",
       "      <td>0.724793</td>\n",
       "      <td>1.0</td>\n",
       "      <td>-2.449294e-16</td>\n",
       "    </tr>\n",
       "    <tr>\n",
       "      <th>4</th>\n",
       "      <td>2010-07-05</td>\n",
       "      <td>14.0</td>\n",
       "      <td>0</td>\n",
       "      <td>0</td>\n",
       "      <td>NaN</td>\n",
       "      <td>NaN</td>\n",
       "      <td>False</td>\n",
       "      <td>2010</td>\n",
       "      <td>7</td>\n",
       "      <td>5</td>\n",
       "      <td>0</td>\n",
       "      <td>-0.866025</td>\n",
       "      <td>-0.5</td>\n",
       "      <td>0.528964</td>\n",
       "      <td>0.848644</td>\n",
       "      <td>1.0</td>\n",
       "      <td>0.000000e+00</td>\n",
       "    </tr>\n",
       "  </tbody>\n",
       "</table>\n",
       "</div>"
      ],
      "text/plain": [
       "    datetime     y  client  close  price_am  price_pm  holiday  year  month  \\\n",
       "0 2010-07-01  17.0       0      0       NaN       NaN    False  2010      7   \n",
       "1 2010-07-02  18.0       0      0       NaN       NaN    False  2010      7   \n",
       "2 2010-07-03  20.0       0      0       NaN       NaN    False  2010      7   \n",
       "3 2010-07-04  20.0       0      0       NaN       NaN    False  2010      7   \n",
       "4 2010-07-05  14.0       0      0       NaN       NaN    False  2010      7   \n",
       "\n",
       "   day  weekday  month_cos  month_sin   day_cos   day_sin  weekday_cos  \\\n",
       "0    1        3  -0.866025       -0.5  0.979530  0.201299         -1.0   \n",
       "1    2        4  -0.866025       -0.5  0.918958  0.394356         -0.5   \n",
       "2    3        5  -0.866025       -0.5  0.820763  0.571268          0.5   \n",
       "3    4        6  -0.866025       -0.5  0.688967  0.724793          1.0   \n",
       "4    5        0  -0.866025       -0.5  0.528964  0.848644          1.0   \n",
       "\n",
       "    weekday_sin  \n",
       "0  1.224647e-16  \n",
       "1 -8.660254e-01  \n",
       "2 -8.660254e-01  \n",
       "3 -2.449294e-16  \n",
       "4  0.000000e+00  "
      ]
     },
     "execution_count": 10,
     "metadata": {},
     "output_type": "execute_result"
    }
   ],
   "source": [
    "df.head()\n",
    "#df.info()\n",
    "#df['epoch'] = df['datetime'].map(pd.Timestamp.timestamp) # TimeStamp型に変更\n",
    "#display(df['epoch'])"
   ]
  },
  {
   "cell_type": "code",
   "execution_count": 11,
   "id": "9fb8dc3e",
   "metadata": {},
   "outputs": [],
   "source": [
    "#df=df.drop(['datetime','year'], axis=1)\n",
    "df=df.drop(['datetime'], axis=1)"
   ]
  },
  {
   "cell_type": "markdown",
   "id": "aec2f043",
   "metadata": {},
   "source": [
    "### Fill na"
   ]
  },
  {
   "cell_type": "code",
   "execution_count": 12,
   "id": "f3bd6e92",
   "metadata": {},
   "outputs": [],
   "source": [
    "df['price_am'] = df.groupby(['month', 'weekday'])['price_am'].transform(lambda x: x.fillna(x.mean()))\n",
    "df['price_pm'] = df.groupby(['month', 'weekday'])['price_pm'].transform(lambda x: x.fillna(x.mean()))"
   ]
  },
  {
   "cell_type": "code",
   "execution_count": 13,
   "id": "cf02bc9d",
   "metadata": {},
   "outputs": [],
   "source": [
    "# 各月,曜日ごとの価格のばらつき\n",
    "df['price_am_std'] = df.groupby(['month', 'weekday'])['price_am'].transform(lambda x: x.std())\n",
    "df['price_pm_std'] = df.groupby(['month', 'weekday'])['price_pm'].transform(lambda x: x.std())"
   ]
  },
  {
   "cell_type": "markdown",
   "id": "fb7d7109",
   "metadata": {},
   "source": [
    "### New features"
   ]
  },
  {
   "cell_type": "code",
   "execution_count": 14,
   "id": "a8df3091",
   "metadata": {},
   "outputs": [],
   "source": [
    "df['price'] = (df['price_am'] + df['price_pm'])/2\n",
    "df['price_times'] = df['price_am'] * df['price_pm']"
   ]
  },
  {
   "cell_type": "code",
   "execution_count": 15,
   "id": "b9416d49",
   "metadata": {},
   "outputs": [
    {
     "name": "stdout",
     "output_type": "stream",
     "text": [
      "<class 'pandas.core.frame.DataFrame'>\n",
      "Int64Index: 2466 entries, 0 to 364\n",
      "Data columns (total 20 columns):\n",
      " #   Column        Non-Null Count  Dtype  \n",
      "---  ------        --------------  -----  \n",
      " 0   y             2101 non-null   float64\n",
      " 1   client        2466 non-null   int64  \n",
      " 2   close         2466 non-null   int64  \n",
      " 3   price_am      2466 non-null   float64\n",
      " 4   price_pm      2466 non-null   float64\n",
      " 5   holiday       2466 non-null   bool   \n",
      " 6   year          2466 non-null   int64  \n",
      " 7   month         2466 non-null   int64  \n",
      " 8   day           2466 non-null   int64  \n",
      " 9   weekday       2466 non-null   int64  \n",
      " 10  month_cos     2466 non-null   float64\n",
      " 11  month_sin     2466 non-null   float64\n",
      " 12  day_cos       2466 non-null   float64\n",
      " 13  day_sin       2466 non-null   float64\n",
      " 14  weekday_cos   2466 non-null   float64\n",
      " 15  weekday_sin   2466 non-null   float64\n",
      " 16  price_am_std  2466 non-null   float64\n",
      " 17  price_pm_std  2466 non-null   float64\n",
      " 18  price         2466 non-null   float64\n",
      " 19  price_times   2466 non-null   float64\n",
      "dtypes: bool(1), float64(13), int64(6)\n",
      "memory usage: 387.7 KB\n"
     ]
    }
   ],
   "source": [
    "df.info()"
   ]
  },
  {
   "cell_type": "code",
   "execution_count": 16,
   "id": "fd1bb85c",
   "metadata": {},
   "outputs": [
    {
     "name": "stdout",
     "output_type": "stream",
     "text": [
      "               price_am  price_pm          y\n",
      "month weekday                               \n",
      "1     0        0.129032  0.000000  23.423077\n",
      "      1        0.096774  0.064516  21.846154\n",
      "      2        0.033333  0.000000  22.692308\n",
      "      3        0.161290  0.096774  21.296296\n",
      "      4        0.258065  0.161290  27.444444\n",
      "      5        0.806452  0.419355  36.296296\n",
      "      6        0.375000  0.218750  32.666667\n",
      "2     0        0.586207  0.344828  40.160000\n",
      "      1        0.357143  0.178571  34.083333\n",
      "      2        0.379310  0.206897  34.440000\n",
      "      3        0.357143  0.142857  34.041667\n",
      "      4        0.821429  0.500000  39.083333\n",
      "      5        2.071429  1.535714  46.416667\n",
      "      6        1.392857  0.892857  43.000000\n",
      "3     0        1.933333  1.666667  58.576923\n",
      "      1        2.000000  1.580645  59.185185\n",
      "      2        1.838710  1.709677  56.500000\n",
      "      3        2.031250  1.656250  56.814815\n",
      "      4        2.096774  2.032258  58.038462\n",
      "      5        3.096774  2.741935  59.407407\n",
      "      6        2.677419  2.258065  57.481481\n",
      "4     0        0.730769  0.538462  39.954545\n",
      "      1        0.692308  0.461538  36.863636\n",
      "      2        0.615385  0.384615  36.909091\n",
      "      3        0.400000  0.280000  36.095238\n",
      "      4        1.076923  0.730769  41.047619\n",
      "      5        2.923077  2.423077  46.523810\n",
      "      6        2.120000  1.480000  45.190476\n",
      "5     0        0.307692  0.076923  28.857143\n",
      "      1        0.222222  0.074074  25.409091\n",
      "      2        0.192308  0.076923  25.909091\n",
      "      3        0.259259  0.111111  27.608696\n",
      "      4        0.629630  0.407407  31.347826\n",
      "      5        1.423077  0.961538  36.954545\n",
      "      6        0.962963  0.481481  31.863636\n",
      "6     0        0.230769  0.115385  30.909091\n",
      "      1        0.120000  0.040000  25.761905\n",
      "      2        0.153846  0.038462  21.952381\n",
      "      3        0.230769  0.153846  26.380952\n",
      "      4        0.480000  0.280000  30.666667\n",
      "      5        1.423077  1.153846  45.000000\n",
      "      6        1.115385  0.461538  38.636364\n",
      "7     0        0.346154  0.192308  29.423077\n",
      "      1        0.333333  0.148148  27.333333\n",
      "      2        0.259259  0.111111  25.814815\n",
      "      3        0.192308  0.076923  24.629630\n",
      "      4        0.692308  0.423077  27.814815\n",
      "      5        1.807692  1.192308  36.500000\n",
      "      6        1.407407  0.925926  35.230769\n",
      "8     0        0.148148  0.037037  29.481481\n",
      "      1        0.076923  0.038462  25.076923\n",
      "      2        0.074074  0.074074  23.730769\n",
      "      3        0.153846  0.038462  28.346154\n",
      "      4        0.370370  0.185185  31.111111\n",
      "      5        1.148148  0.851852  35.851852\n",
      "      6        0.730769  0.384615  31.296296\n",
      "9     0        0.538462  0.269231  34.076923\n",
      "      1        0.346154  0.192308  30.807692\n",
      "      2        0.200000  0.120000  27.500000\n",
      "      3        0.307692  0.115385  27.807692\n",
      "      4        0.576923  0.384615  30.320000\n",
      "      5        1.800000  1.200000  36.920000\n",
      "      6        1.500000  1.115385  38.807692\n",
      "10    0        0.518519  0.192308  28.538462\n",
      "      1        0.192308  0.076923  25.769231\n",
      "      2        0.185185  0.074074  28.148148\n",
      "      3        0.222222  0.148148  29.481481\n",
      "      4        0.500000  0.269231  32.222222\n",
      "      5        1.629630  1.111111  39.000000\n",
      "      6        1.346154  0.730769  35.269231\n",
      "11    0        0.120000  0.040000  28.576923\n",
      "      1        0.153846  0.076923  24.000000\n",
      "      2        0.153846  0.076923  24.280000\n",
      "      3        0.160000  0.080000  26.120000\n",
      "      4        0.423077  0.269231  32.269231\n",
      "      5        1.423077  1.000000  38.884615\n",
      "      6        0.807692  0.538462  33.076923\n",
      "12    0        0.370370  0.259259  33.888889\n",
      "      1        0.333333  0.148148  28.962963\n",
      "      2        0.038462  0.000000  29.370370\n",
      "      3        0.259259  0.111111  27.740741\n",
      "      4        0.666667  0.518519  31.538462\n",
      "      5        1.481481  1.148148  38.653846\n",
      "      6        1.192308  0.807692  37.923077\n",
      "      price_am  price_pm          y\n",
      "year                               \n",
      "2010  0.592135  0.368155  16.298913\n",
      "2011  0.779979  0.541412  18.991781\n",
      "2012  0.718579  0.497268  30.500000\n",
      "2013  0.728767  0.473973  40.320548\n",
      "2014  0.835616  0.580822  39.665753\n",
      "2015  0.769863  0.498630  44.597260\n",
      "2016  0.789617  0.573770  55.714286\n",
      "2017  1.211111  1.066667        NaN\n"
     ]
    },
    {
     "name": "stderr",
     "output_type": "stream",
     "text": [
      "<ipython-input-16-ab1e28b0b82f>:2: FutureWarning: Indexing with multiple keys (implicitly converted to a tuple of keys) will be deprecated, use a list instead.\n",
      "  print(df.groupby(['month', 'weekday'])['price_am','price_pm','y'].mean())\n",
      "<ipython-input-16-ab1e28b0b82f>:3: FutureWarning: Indexing with multiple keys (implicitly converted to a tuple of keys) will be deprecated, use a list instead.\n",
      "  print(df.groupby(['year'])['price_am','price_pm','y'].mean())\n"
     ]
    }
   ],
   "source": [
    "pd.set_option('display.max_rows', None)\n",
    "print(df.groupby(['month', 'weekday'])['price_am','price_pm','y'].mean())\n",
    "print(df.groupby(['year'])['price_am','price_pm','y'].mean())"
   ]
  },
  {
   "cell_type": "code",
   "execution_count": 17,
   "id": "95485b72",
   "metadata": {},
   "outputs": [],
   "source": [
    "df['client'] = df['client'].astype(str)\n",
    "df['close'] = df['close'].astype(str)\n",
    "df['month'] = df['month'].astype(str)\n",
    "df['weekday'] = df['weekday'].astype(str)\n",
    "# df['day'] = df['day'].astype(str)\n",
    "#df=df.drop(['month'], axis=1)\n",
    "#df=df.drop(['day'], axis=1)\n",
    "#df=df.drop(['weekday'], axis=1)"
   ]
  },
  {
   "cell_type": "code",
   "execution_count": 18,
   "id": "fb8cd5ec",
   "metadata": {},
   "outputs": [
    {
     "name": "stdout",
     "output_type": "stream",
     "text": [
      "CategoricaL:\n",
      "['client', 'close', 'month', 'weekday']\n",
      "\n",
      "NumericaL:\n",
      "['y', 'price_am', 'price_pm', 'holiday', 'year', 'day', 'month_cos', 'month_sin', 'day_cos', 'day_sin', 'weekday_cos', 'weekday_sin', 'price_am_std', 'price_pm_std', 'price', 'price_times']\n"
     ]
    }
   ],
   "source": [
    "#divide dataset into two parts(categorical, contineous)\n",
    "categorical, numerical = [],[]\n",
    "for z in df.columns:\n",
    "    t = df.dtypes[z]\n",
    "    if t=='object':\n",
    "        categorical.append(z)\n",
    "    else:\n",
    "        numerical.append(z)\n",
    "print(\"CategoricaL:\\n{}\".format(categorical))\n",
    "print(\"\\nNumericaL:\\n{}\".format(numerical))"
   ]
  },
  {
   "cell_type": "markdown",
   "id": "e42b0f4f",
   "metadata": {},
   "source": [
    "### Pandas Profining"
   ]
  },
  {
   "cell_type": "code",
   "execution_count": 19,
   "id": "9a53ae89",
   "metadata": {},
   "outputs": [],
   "source": [
    "#import pandas_profiling\n",
    "\n",
    "#df.profile_report()"
   ]
  },
  {
   "cell_type": "markdown",
   "id": "d3e90125",
   "metadata": {},
   "source": [
    "### Heat map for Correlation coefficient"
   ]
  },
  {
   "cell_type": "code",
   "execution_count": 20,
   "id": "190c7b43",
   "metadata": {},
   "outputs": [
    {
     "data": {
      "text/plain": [
       "<AxesSubplot:>"
      ]
     },
     "execution_count": 20,
     "metadata": {},
     "output_type": "execute_result"
    },
    {
     "data": {
      "image/png": "[encoded data removed]",
      "text/plain": [
       "<Figure size 1080x1080 with 2 Axes>"
      ]
     },
     "metadata": {
      "needs_background": "light"
     },
     "output_type": "display_data"
    }
   ],
   "source": [
    "df_corr = df.corr()\n",
    "plt.figure(figsize=(15, 15)) \n",
    "sns.heatmap(df_corr, vmax=1, vmin=-1, center=0, square=True, annot=True)"
   ]
  },
  {
   "cell_type": "markdown",
   "id": "2a9bb8be",
   "metadata": {},
   "source": [
    "### Histogram"
   ]
  },
  {
   "cell_type": "code",
   "execution_count": 21,
   "id": "a25fb876",
   "metadata": {},
   "outputs": [
    {
     "name": "stderr",
     "output_type": "stream",
     "text": [
      "C:\\Anaconda\\lib\\site-packages\\seaborn\\distributions.py:2557: FutureWarning: `distplot` is a deprecated function and will be removed in a future version. Please adapt your code to use either `displot` (a figure-level function with similar flexibility) or `histplot` (an axes-level function for histograms).\n",
      "  warnings.warn(msg, FutureWarning)\n",
      "No handles with labels found to put in legend.\n"
     ]
    },
    {
     "data": {
      "image/png": "[encoded data removed]",
      "text/plain": [
       "<Figure size 1080x360 with 2 Axes>"
      ]
     },
     "metadata": {
      "needs_background": "light"
     },
     "output_type": "display_data"
    }
   ],
   "source": [
    "fig, ax = plt.subplots(1,2, figsize= (15,5))\n",
    "# Histogram\n",
    "sns.distplot(\n",
    "    train['y'], label='y',\n",
    "    kde_kws={'label': 'kde','color':'k'},\n",
    "    fit=norm,fit_kws={'label': 'norm','color':'red'},\n",
    "    ax = ax[0]\n",
    ")\n",
    "ax[0].set_title(\"Histogram\")\n",
    "ax[0].grid(True)\n",
    "\n",
    "# QQplot\n",
    "sm.qqplot(train['y'], stats.t, distargs=(4,),fit=True, line=\"45\", ax = ax[1])\n",
    "ax[1].set_title(\"QQplot\")\n",
    "ax[1].grid(True)\n",
    "\n",
    "plt.legend() # 凡例を表示\n",
    "plt.show() #グラフ表示"
   ]
  },
  {
   "cell_type": "markdown",
   "id": "5c865681",
   "metadata": {},
   "source": [
    "### Dummy"
   ]
  },
  {
   "cell_type": "code",
   "execution_count": 22,
   "id": "f2a7588f",
   "metadata": {},
   "outputs": [],
   "source": [
    "df =pd.get_dummies(df, columns=categorical, drop_first=True)"
   ]
  },
  {
   "cell_type": "code",
   "execution_count": 23,
   "id": "73286739",
   "metadata": {},
   "outputs": [
    {
     "data": {
      "text/html": [
       "<div>\n",
       "<style scoped>\n",
       "    .dataframe tbody tr th:only-of-type {\n",
       "        vertical-align: middle;\n",
       "    }\n",
       "\n",
       "    .dataframe tbody tr th {\n",
       "        vertical-align: top;\n",
       "    }\n",
       "\n",
       "    .dataframe thead th {\n",
       "        text-align: right;\n",
       "    }\n",
       "</style>\n",
       "<table border=\"1\" class=\"dataframe\">\n",
       "  <thead>\n",
       "    <tr style=\"text-align: right;\">\n",
       "      <th></th>\n",
       "      <th>y</th>\n",
       "      <th>price_am</th>\n",
       "      <th>price_pm</th>\n",
       "      <th>holiday</th>\n",
       "      <th>year</th>\n",
       "      <th>day</th>\n",
       "      <th>month_cos</th>\n",
       "      <th>month_sin</th>\n",
       "      <th>day_cos</th>\n",
       "      <th>day_sin</th>\n",
       "      <th>...</th>\n",
       "      <th>month_6</th>\n",
       "      <th>month_7</th>\n",
       "      <th>month_8</th>\n",
       "      <th>month_9</th>\n",
       "      <th>weekday_1</th>\n",
       "      <th>weekday_2</th>\n",
       "      <th>weekday_3</th>\n",
       "      <th>weekday_4</th>\n",
       "      <th>weekday_5</th>\n",
       "      <th>weekday_6</th>\n",
       "    </tr>\n",
       "  </thead>\n",
       "  <tbody>\n",
       "    <tr>\n",
       "      <th>0</th>\n",
       "      <td>17.0</td>\n",
       "      <td>0.192308</td>\n",
       "      <td>0.076923</td>\n",
       "      <td>False</td>\n",
       "      <td>2010</td>\n",
       "      <td>1</td>\n",
       "      <td>-0.866025</td>\n",
       "      <td>-0.5</td>\n",
       "      <td>0.979530</td>\n",
       "      <td>0.201299</td>\n",
       "      <td>...</td>\n",
       "      <td>0</td>\n",
       "      <td>1</td>\n",
       "      <td>0</td>\n",
       "      <td>0</td>\n",
       "      <td>0</td>\n",
       "      <td>0</td>\n",
       "      <td>1</td>\n",
       "      <td>0</td>\n",
       "      <td>0</td>\n",
       "      <td>0</td>\n",
       "    </tr>\n",
       "    <tr>\n",
       "      <th>1</th>\n",
       "      <td>18.0</td>\n",
       "      <td>0.692308</td>\n",
       "      <td>0.423077</td>\n",
       "      <td>False</td>\n",
       "      <td>2010</td>\n",
       "      <td>2</td>\n",
       "      <td>-0.866025</td>\n",
       "      <td>-0.5</td>\n",
       "      <td>0.918958</td>\n",
       "      <td>0.394356</td>\n",
       "      <td>...</td>\n",
       "      <td>0</td>\n",
       "      <td>1</td>\n",
       "      <td>0</td>\n",
       "      <td>0</td>\n",
       "      <td>0</td>\n",
       "      <td>0</td>\n",
       "      <td>0</td>\n",
       "      <td>1</td>\n",
       "      <td>0</td>\n",
       "      <td>0</td>\n",
       "    </tr>\n",
       "    <tr>\n",
       "      <th>2</th>\n",
       "      <td>20.0</td>\n",
       "      <td>1.807692</td>\n",
       "      <td>1.192308</td>\n",
       "      <td>False</td>\n",
       "      <td>2010</td>\n",
       "      <td>3</td>\n",
       "      <td>-0.866025</td>\n",
       "      <td>-0.5</td>\n",
       "      <td>0.820763</td>\n",
       "      <td>0.571268</td>\n",
       "      <td>...</td>\n",
       "      <td>0</td>\n",
       "      <td>1</td>\n",
       "      <td>0</td>\n",
       "      <td>0</td>\n",
       "      <td>0</td>\n",
       "      <td>0</td>\n",
       "      <td>0</td>\n",
       "      <td>0</td>\n",
       "      <td>1</td>\n",
       "      <td>0</td>\n",
       "    </tr>\n",
       "    <tr>\n",
       "      <th>3</th>\n",
       "      <td>20.0</td>\n",
       "      <td>1.407407</td>\n",
       "      <td>0.925926</td>\n",
       "      <td>False</td>\n",
       "      <td>2010</td>\n",
       "      <td>4</td>\n",
       "      <td>-0.866025</td>\n",
       "      <td>-0.5</td>\n",
       "      <td>0.688967</td>\n",
       "      <td>0.724793</td>\n",
       "      <td>...</td>\n",
       "      <td>0</td>\n",
       "      <td>1</td>\n",
       "      <td>0</td>\n",
       "      <td>0</td>\n",
       "      <td>0</td>\n",
       "      <td>0</td>\n",
       "      <td>0</td>\n",
       "      <td>0</td>\n",
       "      <td>0</td>\n",
       "      <td>1</td>\n",
       "    </tr>\n",
       "    <tr>\n",
       "      <th>4</th>\n",
       "      <td>14.0</td>\n",
       "      <td>0.346154</td>\n",
       "      <td>0.192308</td>\n",
       "      <td>False</td>\n",
       "      <td>2010</td>\n",
       "      <td>5</td>\n",
       "      <td>-0.866025</td>\n",
       "      <td>-0.5</td>\n",
       "      <td>0.528964</td>\n",
       "      <td>0.848644</td>\n",
       "      <td>...</td>\n",
       "      <td>0</td>\n",
       "      <td>1</td>\n",
       "      <td>0</td>\n",
       "      <td>0</td>\n",
       "      <td>0</td>\n",
       "      <td>0</td>\n",
       "      <td>0</td>\n",
       "      <td>0</td>\n",
       "      <td>0</td>\n",
       "      <td>0</td>\n",
       "    </tr>\n",
       "    <tr>\n",
       "      <th>5</th>\n",
       "      <td>14.0</td>\n",
       "      <td>0.333333</td>\n",
       "      <td>0.148148</td>\n",
       "      <td>False</td>\n",
       "      <td>2010</td>\n",
       "      <td>6</td>\n",
       "      <td>-0.866025</td>\n",
       "      <td>-0.5</td>\n",
       "      <td>0.347305</td>\n",
       "      <td>0.937752</td>\n",
       "      <td>...</td>\n",
       "      <td>0</td>\n",
       "      <td>1</td>\n",
       "      <td>0</td>\n",
       "      <td>0</td>\n",
       "      <td>1</td>\n",
       "      <td>0</td>\n",
       "      <td>0</td>\n",
       "      <td>0</td>\n",
       "      <td>0</td>\n",
       "      <td>0</td>\n",
       "    </tr>\n",
       "    <tr>\n",
       "      <th>6</th>\n",
       "      <td>4.0</td>\n",
       "      <td>0.259259</td>\n",
       "      <td>0.111111</td>\n",
       "      <td>False</td>\n",
       "      <td>2010</td>\n",
       "      <td>7</td>\n",
       "      <td>-0.866025</td>\n",
       "      <td>-0.5</td>\n",
       "      <td>0.151428</td>\n",
       "      <td>0.988468</td>\n",
       "      <td>...</td>\n",
       "      <td>0</td>\n",
       "      <td>1</td>\n",
       "      <td>0</td>\n",
       "      <td>0</td>\n",
       "      <td>0</td>\n",
       "      <td>1</td>\n",
       "      <td>0</td>\n",
       "      <td>0</td>\n",
       "      <td>0</td>\n",
       "      <td>0</td>\n",
       "    </tr>\n",
       "    <tr>\n",
       "      <th>7</th>\n",
       "      <td>10.0</td>\n",
       "      <td>0.192308</td>\n",
       "      <td>0.076923</td>\n",
       "      <td>False</td>\n",
       "      <td>2010</td>\n",
       "      <td>8</td>\n",
       "      <td>-0.866025</td>\n",
       "      <td>-0.5</td>\n",
       "      <td>-0.050649</td>\n",
       "      <td>0.998717</td>\n",
       "      <td>...</td>\n",
       "      <td>0</td>\n",
       "      <td>1</td>\n",
       "      <td>0</td>\n",
       "      <td>0</td>\n",
       "      <td>0</td>\n",
       "      <td>0</td>\n",
       "      <td>1</td>\n",
       "      <td>0</td>\n",
       "      <td>0</td>\n",
       "      <td>0</td>\n",
       "    </tr>\n",
       "    <tr>\n",
       "      <th>8</th>\n",
       "      <td>12.0</td>\n",
       "      <td>0.692308</td>\n",
       "      <td>0.423077</td>\n",
       "      <td>False</td>\n",
       "      <td>2010</td>\n",
       "      <td>9</td>\n",
       "      <td>-0.866025</td>\n",
       "      <td>-0.5</td>\n",
       "      <td>-0.250653</td>\n",
       "      <td>0.968077</td>\n",
       "      <td>...</td>\n",
       "      <td>0</td>\n",
       "      <td>1</td>\n",
       "      <td>0</td>\n",
       "      <td>0</td>\n",
       "      <td>0</td>\n",
       "      <td>0</td>\n",
       "      <td>0</td>\n",
       "      <td>1</td>\n",
       "      <td>0</td>\n",
       "      <td>0</td>\n",
       "    </tr>\n",
       "    <tr>\n",
       "      <th>9</th>\n",
       "      <td>21.0</td>\n",
       "      <td>1.807692</td>\n",
       "      <td>1.192308</td>\n",
       "      <td>False</td>\n",
       "      <td>2010</td>\n",
       "      <td>10</td>\n",
       "      <td>-0.866025</td>\n",
       "      <td>-0.5</td>\n",
       "      <td>-0.440394</td>\n",
       "      <td>0.897805</td>\n",
       "      <td>...</td>\n",
       "      <td>0</td>\n",
       "      <td>1</td>\n",
       "      <td>0</td>\n",
       "      <td>0</td>\n",
       "      <td>0</td>\n",
       "      <td>0</td>\n",
       "      <td>0</td>\n",
       "      <td>0</td>\n",
       "      <td>1</td>\n",
       "      <td>0</td>\n",
       "    </tr>\n",
       "  </tbody>\n",
       "</table>\n",
       "<p>10 rows × 35 columns</p>\n",
       "</div>"
      ],
      "text/plain": [
       "      y  price_am  price_pm  holiday  year  day  month_cos  month_sin  \\\n",
       "0  17.0  0.192308  0.076923    False  2010    1  -0.866025       -0.5   \n",
       "1  18.0  0.692308  0.423077    False  2010    2  -0.866025       -0.5   \n",
       "2  20.0  1.807692  1.192308    False  2010    3  -0.866025       -0.5   \n",
       "3  20.0  1.407407  0.925926    False  2010    4  -0.866025       -0.5   \n",
       "4  14.0  0.346154  0.192308    False  2010    5  -0.866025       -0.5   \n",
       "5  14.0  0.333333  0.148148    False  2010    6  -0.866025       -0.5   \n",
       "6   4.0  0.259259  0.111111    False  2010    7  -0.866025       -0.5   \n",
       "7  10.0  0.192308  0.076923    False  2010    8  -0.866025       -0.5   \n",
       "8  12.0  0.692308  0.423077    False  2010    9  -0.866025       -0.5   \n",
       "9  21.0  1.807692  1.192308    False  2010   10  -0.866025       -0.5   \n",
       "\n",
       "    day_cos   day_sin  ...  month_6  month_7  month_8  month_9  weekday_1  \\\n",
       "0  0.979530  0.201299  ...        0        1        0        0          0   \n",
       "1  0.918958  0.394356  ...        0        1        0        0          0   \n",
       "2  0.820763  0.571268  ...        0        1        0        0          0   \n",
       "3  0.688967  0.724793  ...        0        1        0        0          0   \n",
       "4  0.528964  0.848644  ...        0        1        0        0          0   \n",
       "5  0.347305  0.937752  ...        0        1        0        0          1   \n",
       "6  0.151428  0.988468  ...        0        1        0        0          0   \n",
       "7 -0.050649  0.998717  ...        0        1        0        0          0   \n",
       "8 -0.250653  0.968077  ...        0        1        0        0          0   \n",
       "9 -0.440394  0.897805  ...        0        1        0        0          0   \n",
       "\n",
       "   weekday_2  weekday_3  weekday_4  weekday_5  weekday_6  \n",
       "0          0          1          0          0          0  \n",
       "1          0          0          1          0          0  \n",
       "2          0          0          0          1          0  \n",
       "3          0          0          0          0          1  \n",
       "4          0          0          0          0          0  \n",
       "5          0          0          0          0          0  \n",
       "6          1          0          0          0          0  \n",
       "7          0          1          0          0          0  \n",
       "8          0          0          1          0          0  \n",
       "9          0          0          0          1          0  \n",
       "\n",
       "[10 rows x 35 columns]"
      ]
     },
     "execution_count": 23,
     "metadata": {},
     "output_type": "execute_result"
    }
   ],
   "source": [
    "df.head(10)"
   ]
  },
  {
   "cell_type": "markdown",
   "id": "377e8c89",
   "metadata": {},
   "source": [
    "### Separate Data"
   ]
  },
  {
   "cell_type": "code",
   "execution_count": 24,
   "id": "0bae0102",
   "metadata": {},
   "outputs": [],
   "source": [
    "train = df[:len(train)]\n",
    "test = df[len(train):]"
   ]
  },
  {
   "cell_type": "code",
   "execution_count": 25,
   "id": "6eb73d4b",
   "metadata": {},
   "outputs": [],
   "source": [
    "y_train = train['y']\n",
    "X_train = train.drop(['y'], axis=1)\n",
    "X_test = test.drop(['y'], axis=1)"
   ]
  },
  {
   "cell_type": "code",
   "execution_count": 26,
   "id": "5b6391c2",
   "metadata": {},
   "outputs": [],
   "source": [
    "### 線形回帰"
   ]
  },
  {
   "cell_type": "code",
   "execution_count": 27,
   "id": "1fa31948",
   "metadata": {},
   "outputs": [],
   "source": [
    "from sklearn.linear_model import Lasso, Ridge, LassoCV, RidgeCV\n",
    "from sklearn.model_selection import GridSearchCV, cross_val_score, train_test_split\n",
    "from sklearn.svm import SVC\n",
    "from sklearn.preprocessing import StandardScaler"
   ]
  },
  {
   "cell_type": "code",
   "execution_count": 28,
   "id": "254a26ae",
   "metadata": {},
   "outputs": [
    {
     "name": "stdout",
     "output_type": "stream",
     "text": [
      "<class 'pandas.core.frame.DataFrame'>\n",
      "Int64Index: 2466 entries, 0 to 364\n",
      "Data columns (total 35 columns):\n",
      " #   Column        Non-Null Count  Dtype  \n",
      "---  ------        --------------  -----  \n",
      " 0   y             2101 non-null   float64\n",
      " 1   price_am      2466 non-null   float64\n",
      " 2   price_pm      2466 non-null   float64\n",
      " 3   holiday       2466 non-null   bool   \n",
      " 4   year          2466 non-null   int64  \n",
      " 5   day           2466 non-null   int64  \n",
      " 6   month_cos     2466 non-null   float64\n",
      " 7   month_sin     2466 non-null   float64\n",
      " 8   day_cos       2466 non-null   float64\n",
      " 9   day_sin       2466 non-null   float64\n",
      " 10  weekday_cos   2466 non-null   float64\n",
      " 11  weekday_sin   2466 non-null   float64\n",
      " 12  price_am_std  2466 non-null   float64\n",
      " 13  price_pm_std  2466 non-null   float64\n",
      " 14  price         2466 non-null   float64\n",
      " 15  price_times   2466 non-null   float64\n",
      " 16  client_1      2466 non-null   uint8  \n",
      " 17  close_1       2466 non-null   uint8  \n",
      " 18  month_10      2466 non-null   uint8  \n",
      " 19  month_11      2466 non-null   uint8  \n",
      " 20  month_12      2466 non-null   uint8  \n",
      " 21  month_2       2466 non-null   uint8  \n",
      " 22  month_3       2466 non-null   uint8  \n",
      " 23  month_4       2466 non-null   uint8  \n",
      " 24  month_5       2466 non-null   uint8  \n",
      " 25  month_6       2466 non-null   uint8  \n",
      " 26  month_7       2466 non-null   uint8  \n",
      " 27  month_8       2466 non-null   uint8  \n",
      " 28  month_9       2466 non-null   uint8  \n",
      " 29  weekday_1     2466 non-null   uint8  \n",
      " 30  weekday_2     2466 non-null   uint8  \n",
      " 31  weekday_3     2466 non-null   uint8  \n",
      " 32  weekday_4     2466 non-null   uint8  \n",
      " 33  weekday_5     2466 non-null   uint8  \n",
      " 34  weekday_6     2466 non-null   uint8  \n",
      "dtypes: bool(1), float64(13), int64(2), uint8(19)\n",
      "memory usage: 356.4 KB\n"
     ]
    },
    {
     "data": {
      "text/html": [
       "<div>\n",
       "<style scoped>\n",
       "    .dataframe tbody tr th:only-of-type {\n",
       "        vertical-align: middle;\n",
       "    }\n",
       "\n",
       "    .dataframe tbody tr th {\n",
       "        vertical-align: top;\n",
       "    }\n",
       "\n",
       "    .dataframe thead th {\n",
       "        text-align: right;\n",
       "    }\n",
       "</style>\n",
       "<table border=\"1\" class=\"dataframe\">\n",
       "  <thead>\n",
       "    <tr style=\"text-align: right;\">\n",
       "      <th></th>\n",
       "      <th>y</th>\n",
       "      <th>price_am</th>\n",
       "      <th>price_pm</th>\n",
       "      <th>holiday</th>\n",
       "      <th>year</th>\n",
       "      <th>day</th>\n",
       "      <th>month_cos</th>\n",
       "      <th>month_sin</th>\n",
       "      <th>day_cos</th>\n",
       "      <th>day_sin</th>\n",
       "      <th>...</th>\n",
       "      <th>month_6</th>\n",
       "      <th>month_7</th>\n",
       "      <th>month_8</th>\n",
       "      <th>month_9</th>\n",
       "      <th>weekday_1</th>\n",
       "      <th>weekday_2</th>\n",
       "      <th>weekday_3</th>\n",
       "      <th>weekday_4</th>\n",
       "      <th>weekday_5</th>\n",
       "      <th>weekday_6</th>\n",
       "    </tr>\n",
       "  </thead>\n",
       "  <tbody>\n",
       "    <tr>\n",
       "      <th>0</th>\n",
       "      <td>17.0</td>\n",
       "      <td>0.192308</td>\n",
       "      <td>0.076923</td>\n",
       "      <td>False</td>\n",
       "      <td>2010</td>\n",
       "      <td>1</td>\n",
       "      <td>-0.866025</td>\n",
       "      <td>-0.5</td>\n",
       "      <td>0.979530</td>\n",
       "      <td>0.201299</td>\n",
       "      <td>...</td>\n",
       "      <td>0</td>\n",
       "      <td>1</td>\n",
       "      <td>0</td>\n",
       "      <td>0</td>\n",
       "      <td>0</td>\n",
       "      <td>0</td>\n",
       "      <td>1</td>\n",
       "      <td>0</td>\n",
       "      <td>0</td>\n",
       "      <td>0</td>\n",
       "    </tr>\n",
       "    <tr>\n",
       "      <th>1</th>\n",
       "      <td>18.0</td>\n",
       "      <td>0.692308</td>\n",
       "      <td>0.423077</td>\n",
       "      <td>False</td>\n",
       "      <td>2010</td>\n",
       "      <td>2</td>\n",
       "      <td>-0.866025</td>\n",
       "      <td>-0.5</td>\n",
       "      <td>0.918958</td>\n",
       "      <td>0.394356</td>\n",
       "      <td>...</td>\n",
       "      <td>0</td>\n",
       "      <td>1</td>\n",
       "      <td>0</td>\n",
       "      <td>0</td>\n",
       "      <td>0</td>\n",
       "      <td>0</td>\n",
       "      <td>0</td>\n",
       "      <td>1</td>\n",
       "      <td>0</td>\n",
       "      <td>0</td>\n",
       "    </tr>\n",
       "    <tr>\n",
       "      <th>2</th>\n",
       "      <td>20.0</td>\n",
       "      <td>1.807692</td>\n",
       "      <td>1.192308</td>\n",
       "      <td>False</td>\n",
       "      <td>2010</td>\n",
       "      <td>3</td>\n",
       "      <td>-0.866025</td>\n",
       "      <td>-0.5</td>\n",
       "      <td>0.820763</td>\n",
       "      <td>0.571268</td>\n",
       "      <td>...</td>\n",
       "      <td>0</td>\n",
       "      <td>1</td>\n",
       "      <td>0</td>\n",
       "      <td>0</td>\n",
       "      <td>0</td>\n",
       "      <td>0</td>\n",
       "      <td>0</td>\n",
       "      <td>0</td>\n",
       "      <td>1</td>\n",
       "      <td>0</td>\n",
       "    </tr>\n",
       "    <tr>\n",
       "      <th>3</th>\n",
       "      <td>20.0</td>\n",
       "      <td>1.407407</td>\n",
       "      <td>0.925926</td>\n",
       "      <td>False</td>\n",
       "      <td>2010</td>\n",
       "      <td>4</td>\n",
       "      <td>-0.866025</td>\n",
       "      <td>-0.5</td>\n",
       "      <td>0.688967</td>\n",
       "      <td>0.724793</td>\n",
       "      <td>...</td>\n",
       "      <td>0</td>\n",
       "      <td>1</td>\n",
       "      <td>0</td>\n",
       "      <td>0</td>\n",
       "      <td>0</td>\n",
       "      <td>0</td>\n",
       "      <td>0</td>\n",
       "      <td>0</td>\n",
       "      <td>0</td>\n",
       "      <td>1</td>\n",
       "    </tr>\n",
       "    <tr>\n",
       "      <th>4</th>\n",
       "      <td>14.0</td>\n",
       "      <td>0.346154</td>\n",
       "      <td>0.192308</td>\n",
       "      <td>False</td>\n",
       "      <td>2010</td>\n",
       "      <td>5</td>\n",
       "      <td>-0.866025</td>\n",
       "      <td>-0.5</td>\n",
       "      <td>0.528964</td>\n",
       "      <td>0.848644</td>\n",
       "      <td>...</td>\n",
       "      <td>0</td>\n",
       "      <td>1</td>\n",
       "      <td>0</td>\n",
       "      <td>0</td>\n",
       "      <td>0</td>\n",
       "      <td>0</td>\n",
       "      <td>0</td>\n",
       "      <td>0</td>\n",
       "      <td>0</td>\n",
       "      <td>0</td>\n",
       "    </tr>\n",
       "  </tbody>\n",
       "</table>\n",
       "<p>5 rows × 35 columns</p>\n",
       "</div>"
      ],
      "text/plain": [
       "      y  price_am  price_pm  holiday  year  day  month_cos  month_sin  \\\n",
       "0  17.0  0.192308  0.076923    False  2010    1  -0.866025       -0.5   \n",
       "1  18.0  0.692308  0.423077    False  2010    2  -0.866025       -0.5   \n",
       "2  20.0  1.807692  1.192308    False  2010    3  -0.866025       -0.5   \n",
       "3  20.0  1.407407  0.925926    False  2010    4  -0.866025       -0.5   \n",
       "4  14.0  0.346154  0.192308    False  2010    5  -0.866025       -0.5   \n",
       "\n",
       "    day_cos   day_sin  ...  month_6  month_7  month_8  month_9  weekday_1  \\\n",
       "0  0.979530  0.201299  ...        0        1        0        0          0   \n",
       "1  0.918958  0.394356  ...        0        1        0        0          0   \n",
       "2  0.820763  0.571268  ...        0        1        0        0          0   \n",
       "3  0.688967  0.724793  ...        0        1        0        0          0   \n",
       "4  0.528964  0.848644  ...        0        1        0        0          0   \n",
       "\n",
       "   weekday_2  weekday_3  weekday_4  weekday_5  weekday_6  \n",
       "0          0          1          0          0          0  \n",
       "1          0          0          1          0          0  \n",
       "2          0          0          0          1          0  \n",
       "3          0          0          0          0          1  \n",
       "4          0          0          0          0          0  \n",
       "\n",
       "[5 rows x 35 columns]"
      ]
     },
     "execution_count": 28,
     "metadata": {},
     "output_type": "execute_result"
    }
   ],
   "source": [
    "df.info()\n",
    "df.head()"
   ]
  },
  {
   "cell_type": "code",
   "execution_count": 29,
   "id": "3a1ffc6c",
   "metadata": {},
   "outputs": [],
   "source": [
    "# データセットの標準化準備\n",
    "scaler= StandardScaler()\n",
    "# データセットの標準化\n",
    "scaler.fit(X_train)\n",
    "scaler.fit(X_test)\n",
    "X_train_scaler = scaler.transform(X_train)\n",
    "X_test_scaler  = scaler.transform(X_test)\n"
   ]
  },
  {
   "cell_type": "code",
   "execution_count": 30,
   "id": "20ff6c6f",
   "metadata": {},
   "outputs": [
    {
     "name": "stdout",
     "output_type": "stream",
     "text": [
      "{'alpha': 0.03981071705534823}\n",
      "R^2 = 0.755177962166645\n",
      "MAE = 6.7126026789130435\n"
     ]
    },
    {
     "name": "stderr",
     "output_type": "stream",
     "text": [
      "C:\\Anaconda\\lib\\site-packages\\sklearn\\linear_model\\_coordinate_descent.py:529: ConvergenceWarning: Objective did not converge. You might want to increase the number of iterations. Duality gap: 68.4434912398865, tolerance: 64.13793860066639\n",
      "  model = cd_fast.enet_coordinate_descent(\n"
     ]
    }
   ],
   "source": [
    "# Lasso 交差検証準備\n",
    "# clf = LassoCV(alphas=10 ** np.arange(-6, 1, 0.1), cv = 5)\n",
    "\n",
    "params_grid = {\n",
    "    'alpha': 10 ** np.arange(-6, 1, 0.1)\n",
    "}\n",
    "# パラメータチューニング\n",
    "clf = GridSearchCV(\n",
    "    estimator = Lasso(),\n",
    "    param_grid = params_grid,\n",
    "    cv = 5,\n",
    "    scoring='r2',\n",
    "    n_jobs = -1\n",
    "    )\n",
    "# 線形モデルの重みを学習\n",
    "clf.fit(X_train_scaler, y_train) \n",
    "\n",
    "# チューニングしたモデル\n",
    "best_param = clf.best_params_\n",
    "lasso_tuned = clf.best_estimator_\n",
    "\n",
    "# 予測値を反映\n",
    "y_lasso_pred = lasso_tuned.predict(X_train_scaler) # Trainデータに対して予測\n",
    "y_lasso_test_pred = lasso_tuned.predict(X_test_scaler) # Testデータに対して予測\n",
    "\n",
    "#print(\"α = {}\".format(clf.alpha_))\n",
    "#print(\"ω = {}\".format(clf.coef_))\n",
    "#print(\"b = {}\".format(clf.intercept_))\n",
    "print(best_param)\n",
    "print(\"R^2 = {}\".format(clf.score(X_train_scaler, y_train)))\n",
    "print(\"MAE = {}\".format(mean_absolute_error(y_train, y_lasso_pred)))\n",
    "#print(cross_val_score(clf, X_train_scaler, y_train, cv=5))"
   ]
  },
  {
   "cell_type": "code",
   "execution_count": 31,
   "id": "3862f5cd",
   "metadata": {},
   "outputs": [],
   "source": [
    "import optuna.integration.lightgbm as lgb # Optuna \n",
    "#import lightgbm as lgb \n",
    "from sklearn.model_selection import KFold\n",
    "\n",
    "evals_result = {} #結果を格納するための辞書"
   ]
  },
  {
   "cell_type": "code",
   "execution_count": 32,
   "id": "7eed6770",
   "metadata": {},
   "outputs": [],
   "source": [
    "# データセットの標準化\n",
    "scaler.fit(X_train)\n",
    "scaler.fit(X_test)\n",
    "X_train_scaler = scaler.transform(X_train)\n",
    "X_test_scaler  = scaler.transform(X_test)"
   ]
  },
  {
   "cell_type": "code",
   "execution_count": 33,
   "id": "8c730d76",
   "metadata": {},
   "outputs": [],
   "source": [
    "def ScalerFit(X_tr, X_tst):\n",
    "    scaler.fit(X_tr)\n",
    "    scaler.fit(X_tst)\n",
    "    X_tr_scaler = scaler.transform(X_tr)\n",
    "    X_tst_scaler  = scaler.transform(X_tst)\n",
    "    return X_tr_scaler, X_tst_scaler"
   ]
  },
  {
   "cell_type": "code",
   "execution_count": 34,
   "id": "7033819c",
   "metadata": {
    "scrolled": false
   },
   "outputs": [],
   "source": [
    "def SVC_fit(random_sts):\n",
    "    # SVM\n",
    "    params_grid = [\n",
    "        {'C': [1, 10, 100], 'kernel':['linear']},\n",
    "        {'C': [1, 10, 100], 'gamma': [0.01, 0.001], 'kernel': ['rbf']}\n",
    "    ]\n",
    "    # パラメータチューニング\n",
    "    clf = GridSearchCV(\n",
    "        estimator = SVC(),\n",
    "        param_grid = params_grid,\n",
    "        cv = 5,\n",
    "        scoring='r2',\n",
    "        n_jobs = -1\n",
    "        )\n",
    "\n",
    "    # フィッテイング\n",
    "    clf.fit(X_train_scaler, y_train) \n",
    "\n",
    "    # チューニングしたモデル\n",
    "    best_param = clf.best_params_\n",
    "    svc_tuned = clf.best_estimator_\n",
    "\n",
    "    # 予測値を反映\n",
    "    y_pred = svc_tuned.predict(X_train_scaler) # Trainデータに対して予測\n",
    "    y_test_pred = svc_tuned.predict(X_test_scaler) # Testデータに対して予測\n",
    "\n",
    "    print(best_param)\n",
    "    print(\"Score = {}\".format(clf.score(X_train_scaler, y_train)))\n",
    "    print(\"MAE = {}\".format(mean_absolute_error(y_train, y_pred)))\n",
    "    mae_result = mean_absolute_error(y_train, y_pred)\n",
    "    \n",
    "    X_train['svc'] = y_pred\n",
    "    X_test['svc'] = y_test_pred\n",
    "\n",
    "    return y_pred, y_test_pred, mae_result\n",
    "    "
   ]
  },
  {
   "cell_type": "code",
   "execution_count": 35,
   "id": "18c32a6d",
   "metadata": {},
   "outputs": [],
   "source": [
    "def lightGBM_fit(random_sts):\n",
    "    y_lgb_preds = []\n",
    "    models = []\n",
    "    y_lgb_oof_train = np.zeros((len(X_train),))\n",
    "    cv = KFold(n_splits=5, shuffle=True, random_state=random_sts)\n",
    "\n",
    "    params = {\n",
    "        'task' : 'train',\n",
    "        'boosting_type' : 'gbdt',\n",
    "        'objective': 'regression',\n",
    "        'metric' : 'rmse',\n",
    "        'max_bin' : 255,\n",
    "        'num_leaves' : 31,\n",
    "        'learning_rate' : 0.05,\n",
    "        'feature_fraction' : 0.9,\n",
    "        'bagging_fraction' : 0.8,\n",
    "        'bagging_freq': 5,\n",
    "        'verbose' : -1\n",
    "    }\n",
    "\n",
    "    # Cross Validation\n",
    "    for fold_id, (train_index, valid_index) in enumerate(cv.split(X_train)):\n",
    "        X_tr = X_train.iloc[train_index, :]\n",
    "        X_val = X_train.iloc[valid_index, :]\n",
    "        y_tr = y_train.iloc[train_index]\n",
    "        y_val = y_train.iloc[valid_index]\n",
    "    \n",
    "        # Train Dataset\n",
    "        lgb_train = lgb.Dataset(X_tr, y_tr)\n",
    "\n",
    "        # Evaluation Dataset (early_stopping_rounds)\n",
    "        lgb_eval = lgb.Dataset(X_val, y_val, reference=lgb_train)\n",
    "    \n",
    " #       evals_result = {} #結果を格納するための辞書\n",
    "        # train\n",
    "        gbm = lgb.train(params,\n",
    "                    lgb_train,\n",
    "                    valid_sets=[lgb_train, lgb_eval],\n",
    "                    valid_names=['train','eval'],\n",
    "                    num_boost_round=1000,\n",
    "                    early_stopping_rounds=100,\n",
    "                    verbose_eval=100,\n",
    "                    evals_result=evals_result\n",
    "                   )\n",
    "        # Out-of-hold of train data\n",
    "        y_lgb_oof_train[valid_index] = \\\n",
    "            gbm.predict(X_val, num_iteration=gbm.best_iteration)\n",
    "\n",
    "    \n",
    "        # Prediction for X_test data\n",
    "        y_pred = gbm.predict(X_test, num_iteration=gbm.best_iteration)\n",
    "    \n",
    "        # Append Prediction data \n",
    "        y_lgb_preds.append(y_pred)\n",
    "        models.append(gbm)\n",
    "\n",
    "    mae_result = mean_absolute_error(y_train, y_lgb_oof_train)\n",
    "    print(\"MAE = {}\".format(mae_result))\n",
    "    \n",
    "    X_train['lgb'] = y_lgb_oof_train\n",
    "    X_test['lgb'] = sum(y_lgb_preds)/len(y_lgb_preds)\n",
    "\n",
    "    return y_lgb_oof_train, y_lgb_preds, mae_result"
   ]
  },
  {
   "cell_type": "code",
   "execution_count": 36,
   "id": "ba3b16f3",
   "metadata": {},
   "outputs": [
    {
     "name": "stderr",
     "output_type": "stream",
     "text": [
      "C:\\Anaconda\\lib\\site-packages\\sklearn\\model_selection\\_split.py:670: UserWarning: The least populated class in y has only 1 members, which is less than n_splits=5.\n",
      "  warnings.warn((\"The least populated class in y has only %d\"\n"
     ]
    },
    {
     "name": "stdout",
     "output_type": "stream",
     "text": [
      "{'C': 10, 'gamma': 0.01, 'kernel': 'rbf'}\n"
     ]
    },
    {
     "name": "stderr",
     "output_type": "stream",
     "text": [
      "\u001b[32m[I 2021-06-23 11:26:45,102]\u001b[0m A new study created in memory with name: no-name-3d20135d-53ac-4a11-bbec-57a340f80bed\u001b[0m\n",
      "feature_fraction, val_score: inf:   0%|                  | 0/7 [00:00<?, ?it/s]"
     ]
    },
    {
     "name": "stdout",
     "output_type": "stream",
     "text": [
      "Score = 0.8636937795205477\n",
      "MAE = 3.561161351737268\n",
      "      price_am  price_pm  holiday  year  day     month_cos  month_sin  \\\n",
      "2096       5.0       4.0    False  2016   27  6.123234e-17        1.0   \n",
      "2097       4.0       4.0    False  2016   28  6.123234e-17        1.0   \n",
      "2098       4.0       4.0    False  2016   29  6.123234e-17        1.0   \n",
      "2099       5.0       4.0    False  2016   30  6.123234e-17        1.0   \n",
      "2100       5.0       4.0    False  2016   31  6.123234e-17        1.0   \n",
      "\n",
      "       day_cos       day_sin  weekday_cos  ...  month_7  month_8  month_9  \\\n",
      "2096  0.688967 -7.247928e-01          1.0  ...        0        0        0   \n",
      "2097  0.820763 -5.712682e-01          1.0  ...        0        0        0   \n",
      "2098  0.918958 -3.943559e-01          0.5  ...        0        0        0   \n",
      "2099  0.979530 -2.012985e-01         -0.5  ...        0        0        0   \n",
      "2100  1.000000 -2.449294e-16         -1.0  ...        0        0        0   \n",
      "\n",
      "      weekday_1  weekday_2  weekday_3  weekday_4  weekday_5  weekday_6    svc  \n",
      "2096          0          0          0          0          0          1   94.0  \n",
      "2097          0          0          0          0          0          0   86.0  \n",
      "2098          1          0          0          0          0          0   98.0  \n",
      "2099          0          1          0          0          0          0   99.0  \n",
      "2100          0          0          1          0          0          0  105.0  \n",
      "\n",
      "[5 rows x 35 columns]\n",
      "Training until validation scores don't improve for 100 rounds\n",
      "[100]\ttrain's rmse: 4.33446\teval's rmse: 6.75861\n",
      "[200]\ttrain's rmse: 3.45076\teval's rmse: 6.70067\n",
      "Early stopping, best iteration is:\n",
      "[162]\ttrain's rmse: 3.74075\teval's rmse: 6.68476\n"
     ]
    },
    {
     "name": "stderr",
     "output_type": "stream",
     "text": [
      "feature_fraction, val_score: 6.684765:  14%|7    | 1/7 [00:00<00:02,  2.47it/s]\u001b[32m[I 2021-06-23 11:26:45,524]\u001b[0m Trial 0 finished with value: 6.684764921362566 and parameters: {'feature_fraction': 1.0}. Best is trial 0 with value: 6.684764921362566.\u001b[0m\n",
      "feature_fraction, val_score: 6.684765:  14%|7    | 1/7 [00:00<00:02,  2.47it/s]"
     ]
    },
    {
     "name": "stdout",
     "output_type": "stream",
     "text": [
      "Training until validation scores don't improve for 100 rounds\n",
      "[100]\ttrain's rmse: 4.34867\teval's rmse: 6.69263\n"
     ]
    },
    {
     "name": "stderr",
     "output_type": "stream",
     "text": [
      "feature_fraction, val_score: 6.637274:  29%|#4   | 2/7 [00:00<00:01,  2.50it/s]\u001b[32m[I 2021-06-23 11:26:45,918]\u001b[0m Trial 1 finished with value: 6.637273607382569 and parameters: {'feature_fraction': 0.8}. Best is trial 1 with value: 6.637273607382569.\u001b[0m\n",
      "feature_fraction, val_score: 6.637274:  29%|#4   | 2/7 [00:00<00:01,  2.50it/s]"
     ]
    },
    {
     "name": "stdout",
     "output_type": "stream",
     "text": [
      "[200]\ttrain's rmse: 3.48365\teval's rmse: 6.65135\n",
      "Early stopping, best iteration is:\n",
      "[154]\ttrain's rmse: 3.80525\teval's rmse: 6.63727\n",
      "Training until validation scores don't improve for 100 rounds\n"
     ]
    },
    {
     "name": "stderr",
     "output_type": "stream",
     "text": [
      "feature_fraction, val_score: 6.637274:  43%|##1  | 3/7 [00:01<00:01,  2.64it/s]\u001b[32m[I 2021-06-23 11:26:46,275]\u001b[0m Trial 2 finished with value: 6.714779948997547 and parameters: {'feature_fraction': 0.8999999999999999}. Best is trial 1 with value: 6.637273607382569.\u001b[0m\n",
      "feature_fraction, val_score: 6.637274:  43%|##1  | 3/7 [00:01<00:01,  2.64it/s]"
     ]
    },
    {
     "name": "stdout",
     "output_type": "stream",
     "text": [
      "[100]\ttrain's rmse: 4.34064\teval's rmse: 6.75223\n",
      "[200]\ttrain's rmse: 3.45865\teval's rmse: 6.72488\n",
      "Early stopping, best iteration is:\n",
      "[129]\ttrain's rmse: 4.02061\teval's rmse: 6.71478\n",
      "Training until validation scores don't improve for 100 rounds\n",
      "[100]\ttrain's rmse: 4.36009\teval's rmse: 6.63662\n"
     ]
    },
    {
     "name": "stderr",
     "output_type": "stream",
     "text": [
      "feature_fraction, val_score: 6.562744:  57%|##8  | 4/7 [00:01<00:01,  2.50it/s]\u001b[32m[I 2021-06-23 11:26:46,712]\u001b[0m Trial 3 finished with value: 6.562743932858782 and parameters: {'feature_fraction': 0.7}. Best is trial 3 with value: 6.562743932858782.\u001b[0m\n",
      "feature_fraction, val_score: 6.562744:  57%|##8  | 4/7 [00:01<00:01,  2.50it/s]"
     ]
    },
    {
     "name": "stdout",
     "output_type": "stream",
     "text": [
      "[200]\ttrain's rmse: 3.51263\teval's rmse: 6.5825\n",
      "Early stopping, best iteration is:\n",
      "[161]\ttrain's rmse: 3.7862\teval's rmse: 6.56274\n",
      "Training until validation scores don't improve for 100 rounds\n",
      "[100]\ttrain's rmse: 4.41857\teval's rmse: 6.51831\n",
      "[200]\ttrain's rmse: 3.56421\teval's rmse: 6.48116\n",
      "Early stopping, best iteration is:\n",
      "[159]\ttrain's rmse: 3.85032\teval's rmse: 6.44232\n"
     ]
    },
    {
     "name": "stderr",
     "output_type": "stream",
     "text": [
      "feature_fraction, val_score: 6.442315:  71%|###5 | 5/7 [00:02<00:00,  2.41it/s]\u001b[32m[I 2021-06-23 11:26:47,149]\u001b[0m Trial 4 finished with value: 6.4423152391810685 and parameters: {'feature_fraction': 0.6}. Best is trial 4 with value: 6.4423152391810685.\u001b[0m\n",
      "feature_fraction, val_score: 6.442315:  71%|###5 | 5/7 [00:02<00:00,  2.41it/s]"
     ]
    },
    {
     "name": "stdout",
     "output_type": "stream",
     "text": [
      "Training until validation scores don't improve for 100 rounds\n",
      "[100]\ttrain's rmse: 4.55678\teval's rmse: 6.59959\n",
      "[200]\ttrain's rmse: 3.69602\teval's rmse: 6.46169\n"
     ]
    },
    {
     "name": "stderr",
     "output_type": "stream",
     "text": [
      "feature_fraction, val_score: 6.440740:  86%|####2| 6/7 [00:02<00:00,  2.58it/s]\u001b[32m[I 2021-06-23 11:26:47,483]\u001b[0m Trial 5 finished with value: 6.440740379438651 and parameters: {'feature_fraction': 0.4}. Best is trial 5 with value: 6.440740379438651.\u001b[0m\n",
      "feature_fraction, val_score: 6.440740:  86%|####2| 6/7 [00:02<00:00,  2.58it/s]"
     ]
    },
    {
     "name": "stdout",
     "output_type": "stream",
     "text": [
      "Early stopping, best iteration is:\n",
      "[162]\ttrain's rmse: 3.94565\teval's rmse: 6.44074\n",
      "Training until validation scores don't improve for 100 rounds\n",
      "[100]\ttrain's rmse: 4.45213\teval's rmse: 6.52525\n"
     ]
    },
    {
     "name": "stderr",
     "output_type": "stream",
     "text": [
      "feature_fraction, val_score: 6.396627: 100%|#####| 7/7 [00:02<00:00,  2.56it/s]\u001b[32m[I 2021-06-23 11:26:47,885]\u001b[0m Trial 6 finished with value: 6.396626593499737 and parameters: {'feature_fraction': 0.5}. Best is trial 6 with value: 6.396626593499737.\u001b[0m\n",
      "feature_fraction, val_score: 6.396627: 100%|#####| 7/7 [00:02<00:00,  2.53it/s]\n",
      "num_leaves, val_score: 6.396627:   0%|                  | 0/20 [00:00<?, ?it/s]"
     ]
    },
    {
     "name": "stdout",
     "output_type": "stream",
     "text": [
      "[200]\ttrain's rmse: 3.59134\teval's rmse: 6.43378\n",
      "Early stopping, best iteration is:\n",
      "[162]\ttrain's rmse: 3.84707\teval's rmse: 6.39663\n",
      "Training until validation scores don't improve for 100 rounds\n",
      "[100]\ttrain's rmse: 4.14042\teval's rmse: 6.53656\n",
      "[200]\ttrain's rmse: 3.158\teval's rmse: 6.52879\n",
      "Early stopping, best iteration is:\n",
      "[129]\ttrain's rmse: 3.78333\teval's rmse: 6.47866\n"
     ]
    },
    {
     "name": "stderr",
     "output_type": "stream",
     "text": [
      "num_leaves, val_score: 6.396627:   5%|5         | 1/20 [00:00<00:08,  2.26it/s]\u001b[32m[I 2021-06-23 11:26:48,332]\u001b[0m Trial 7 finished with value: 6.478657768499253 and parameters: {'num_leaves': 75}. Best is trial 7 with value: 6.478657768499253.\u001b[0m\n",
      "num_leaves, val_score: 6.396627:   5%|5         | 1/20 [00:00<00:08,  2.26it/s]"
     ]
    },
    {
     "name": "stdout",
     "output_type": "stream",
     "text": [
      "Training until validation scores don't improve for 100 rounds\n",
      "[100]\ttrain's rmse: 4.14042\teval's rmse: 6.53656\n"
     ]
    },
    {
     "name": "stderr",
     "output_type": "stream",
     "text": [
      "num_leaves, val_score: 6.396627:  10%|#         | 2/20 [00:00<00:08,  2.05it/s]\u001b[32m[I 2021-06-23 11:26:48,848]\u001b[0m Trial 8 finished with value: 6.478657768499253 and parameters: {'num_leaves': 181}. Best is trial 7 with value: 6.478657768499253.\u001b[0m\n",
      "num_leaves, val_score: 6.396627:  10%|#         | 2/20 [00:00<00:08,  2.05it/s]"
     ]
    },
    {
     "name": "stdout",
     "output_type": "stream",
     "text": [
      "[200]\ttrain's rmse: 3.158\teval's rmse: 6.52879\n",
      "Early stopping, best iteration is:\n",
      "[129]\ttrain's rmse: 3.78333\teval's rmse: 6.47866\n",
      "Training until validation scores don't improve for 100 rounds\n",
      "[100]\ttrain's rmse: 4.14042\teval's rmse: 6.53656\n",
      "[200]\ttrain's rmse: 3.158\teval's rmse: 6.52879\n"
     ]
    },
    {
     "name": "stderr",
     "output_type": "stream",
     "text": [
      "num_leaves, val_score: 6.396627:  15%|#5        | 3/20 [00:01<00:08,  2.12it/s]\u001b[32m[I 2021-06-23 11:26:49,304]\u001b[0m Trial 9 finished with value: 6.478657768499253 and parameters: {'num_leaves': 198}. Best is trial 7 with value: 6.478657768499253.\u001b[0m\n",
      "num_leaves, val_score: 6.396627:  15%|#5        | 3/20 [00:01<00:08,  2.12it/s]"
     ]
    },
    {
     "name": "stdout",
     "output_type": "stream",
     "text": [
      "Early stopping, best iteration is:\n",
      "[129]\ttrain's rmse: 3.78333\teval's rmse: 6.47866\n",
      "Training until validation scores don't improve for 100 rounds\n",
      "[100]\ttrain's rmse: 4.14042\teval's rmse: 6.53656\n",
      "[200]\ttrain's rmse: 3.158\teval's rmse: 6.52879\n",
      "Early stopping, best iteration is:\n",
      "[129]\ttrain's rmse: 3.78333\teval's rmse: 6.47866\n"
     ]
    },
    {
     "name": "stderr",
     "output_type": "stream",
     "text": [
      "num_leaves, val_score: 6.396627:  20%|##        | 4/20 [00:01<00:07,  2.15it/s]\u001b[32m[I 2021-06-23 11:26:49,759]\u001b[0m Trial 10 finished with value: 6.478657768499253 and parameters: {'num_leaves': 228}. Best is trial 7 with value: 6.478657768499253.\u001b[0m\n",
      "num_leaves, val_score: 6.396627:  20%|##        | 4/20 [00:01<00:07,  2.15it/s]"
     ]
    },
    {
     "name": "stdout",
     "output_type": "stream",
     "text": [
      "Training until validation scores don't improve for 100 rounds\n",
      "[100]\ttrain's rmse: 4.14042\teval's rmse: 6.53656\n"
     ]
    },
    {
     "name": "stderr",
     "output_type": "stream",
     "text": [
      "num_leaves, val_score: 6.396627:  25%|##5       | 5/20 [00:02<00:07,  2.13it/s]\u001b[32m[I 2021-06-23 11:26:50,242]\u001b[0m Trial 11 finished with value: 6.478657768499253 and parameters: {'num_leaves': 231}. Best is trial 7 with value: 6.478657768499253.\u001b[0m\n",
      "num_leaves, val_score: 6.396627:  25%|##5       | 5/20 [00:02<00:07,  2.13it/s]"
     ]
    },
    {
     "name": "stdout",
     "output_type": "stream",
     "text": [
      "[200]\ttrain's rmse: 3.158\teval's rmse: 6.52879\n",
      "Early stopping, best iteration is:\n",
      "[129]\ttrain's rmse: 3.78333\teval's rmse: 6.47866\n",
      "Training until validation scores don't improve for 100 rounds\n",
      "[100]\ttrain's rmse: 4.14042\teval's rmse: 6.53656\n",
      "[200]\ttrain's rmse: 3.158\teval's rmse: 6.52879\n"
     ]
    },
    {
     "name": "stderr",
     "output_type": "stream",
     "text": [
      "num_leaves, val_score: 6.396627:  30%|###       | 6/20 [00:02<00:06,  2.09it/s]\u001b[32m[I 2021-06-23 11:26:50,730]\u001b[0m Trial 12 finished with value: 6.478657768499253 and parameters: {'num_leaves': 172}. Best is trial 7 with value: 6.478657768499253.\u001b[0m\n",
      "num_leaves, val_score: 6.396627:  30%|###       | 6/20 [00:02<00:06,  2.09it/s]"
     ]
    },
    {
     "name": "stdout",
     "output_type": "stream",
     "text": [
      "Early stopping, best iteration is:\n",
      "[129]\ttrain's rmse: 3.78333\teval's rmse: 6.47866\n",
      "Training until validation scores don't improve for 100 rounds\n",
      "[100]\ttrain's rmse: 4.14042\teval's rmse: 6.53656\n",
      "[200]\ttrain's rmse: 3.158\teval's rmse: 6.52879\n",
      "Early stopping, best iteration is:\n",
      "[129]\ttrain's rmse: 3.78333\teval's rmse: 6.47866\n"
     ]
    },
    {
     "name": "stderr",
     "output_type": "stream",
     "text": [
      "num_leaves, val_score: 6.396627:  35%|###5      | 7/20 [00:03<00:06,  2.09it/s]\u001b[32m[I 2021-06-23 11:26:51,206]\u001b[0m Trial 13 finished with value: 6.478657768499253 and parameters: {'num_leaves': 156}. Best is trial 7 with value: 6.478657768499253.\u001b[0m\n",
      "num_leaves, val_score: 6.396627:  35%|###5      | 7/20 [00:03<00:06,  2.09it/s]"
     ]
    },
    {
     "name": "stdout",
     "output_type": "stream",
     "text": [
      "Training until validation scores don't improve for 100 rounds\n",
      "[100]\ttrain's rmse: 4.14042\teval's rmse: 6.53656\n"
     ]
    },
    {
     "name": "stderr",
     "output_type": "stream",
     "text": [
      "num_leaves, val_score: 6.396627:  40%|####      | 8/20 [00:03<00:05,  2.14it/s]\u001b[32m[I 2021-06-23 11:26:51,656]\u001b[0m Trial 14 finished with value: 6.478657768499253 and parameters: {'num_leaves': 182}. Best is trial 7 with value: 6.478657768499253.\u001b[0m\n",
      "num_leaves, val_score: 6.396627:  40%|####      | 8/20 [00:03<00:05,  2.14it/s]"
     ]
    },
    {
     "name": "stdout",
     "output_type": "stream",
     "text": [
      "[200]\ttrain's rmse: 3.158\teval's rmse: 6.52879\n",
      "Early stopping, best iteration is:\n",
      "[129]\ttrain's rmse: 3.78333\teval's rmse: 6.47866\n",
      "Training until validation scores don't improve for 100 rounds\n",
      "[100]\ttrain's rmse: 4.14042\teval's rmse: 6.53656\n",
      "[200]\ttrain's rmse: 3.158\teval's rmse: 6.52879\n"
     ]
    },
    {
     "name": "stderr",
     "output_type": "stream",
     "text": [
      "num_leaves, val_score: 6.396627:  45%|####5     | 9/20 [00:04<00:05,  2.16it/s]\u001b[32m[I 2021-06-23 11:26:52,112]\u001b[0m Trial 15 finished with value: 6.478657768499253 and parameters: {'num_leaves': 149}. Best is trial 7 with value: 6.478657768499253.\u001b[0m\n",
      "num_leaves, val_score: 6.396627:  45%|####5     | 9/20 [00:04<00:05,  2.16it/s]"
     ]
    },
    {
     "name": "stdout",
     "output_type": "stream",
     "text": [
      "Early stopping, best iteration is:\n",
      "[129]\ttrain's rmse: 3.78333\teval's rmse: 6.47866\n",
      "Training until validation scores don't improve for 100 rounds\n",
      "[100]\ttrain's rmse: 4.14042\teval's rmse: 6.53656\n",
      "[200]\ttrain's rmse: 3.158\teval's rmse: 6.52879\n"
     ]
    },
    {
     "name": "stderr",
     "output_type": "stream",
     "text": [
      "num_leaves, val_score: 6.396627:  50%|####5    | 10/20 [00:04<00:04,  2.13it/s]\u001b[32m[I 2021-06-23 11:26:52,599]\u001b[0m Trial 16 finished with value: 6.478657768499253 and parameters: {'num_leaves': 188}. Best is trial 7 with value: 6.478657768499253.\u001b[0m\n",
      "num_leaves, val_score: 6.396627:  50%|####5    | 10/20 [00:04<00:04,  2.13it/s]"
     ]
    },
    {
     "name": "stdout",
     "output_type": "stream",
     "text": [
      "Early stopping, best iteration is:\n",
      "[129]\ttrain's rmse: 3.78333\teval's rmse: 6.47866\n",
      "Training until validation scores don't improve for 100 rounds\n",
      "[100]\ttrain's rmse: 4.45213\teval's rmse: 6.52525\n",
      "[200]\ttrain's rmse: 3.59134\teval's rmse: 6.43378\n",
      "Early stopping, best iteration is:\n",
      "[162]\ttrain's rmse: 3.84707\teval's rmse: 6.39663"
     ]
    },
    {
     "name": "stderr",
     "output_type": "stream",
     "text": [
      "num_leaves, val_score: 6.396627:  55%|####9    | 11/20 [00:05<00:04,  2.04it/s]\u001b[32m[I 2021-06-23 11:26:53,125]\u001b[0m Trial 17 finished with value: 6.396626593499737 and parameters: {'num_leaves': 31}. Best is trial 17 with value: 6.396626593499737.\u001b[0m\n",
      "num_leaves, val_score: 6.396627:  55%|####9    | 11/20 [00:05<00:04,  2.04it/s]"
     ]
    },
    {
     "name": "stdout",
     "output_type": "stream",
     "text": [
      "\n",
      "Training until validation scores don't improve for 100 rounds\n",
      "[100]\ttrain's rmse: 4.22365\teval's rmse: 6.53735\n",
      "[200]\ttrain's rmse: 3.30699\teval's rmse: 6.50639\n"
     ]
    },
    {
     "name": "stderr",
     "output_type": "stream",
     "text": [
      "num_leaves, val_score: 6.396627:  60%|#####3   | 12/20 [00:05<00:03,  2.07it/s]\u001b[32m[I 2021-06-23 11:26:53,599]\u001b[0m Trial 18 finished with value: 6.465210001961676 and parameters: {'num_leaves': 42}. Best is trial 17 with value: 6.396626593499737.\u001b[0m\n",
      "num_leaves, val_score: 6.396627:  60%|#####3   | 12/20 [00:05<00:03,  2.07it/s]"
     ]
    },
    {
     "name": "stdout",
     "output_type": "stream",
     "text": [
      "Early stopping, best iteration is:\n",
      "[154]\ttrain's rmse: 3.65374\teval's rmse: 6.46521\n",
      "Training until validation scores don't improve for 100 rounds\n",
      "[100]\ttrain's rmse: 5.86918\teval's rmse: 6.73668\n",
      "[200]\ttrain's rmse: 5.44751\teval's rmse: 6.5507\n",
      "[300]\ttrain's rmse: 5.22177\teval's rmse: 6.4944\n",
      "[400]\ttrain's rmse: 5.05143\teval's rmse: 6.46489\n",
      "[500]\ttrain's rmse: 4.91173\teval's rmse: 6.44997\n",
      "[600]\ttrain's rmse: 4.78792\teval's rmse: 6.42566\n",
      "[700]\ttrain's rmse: 4.67482\teval's rmse: 6.40638\n"
     ]
    },
    {
     "name": "stderr",
     "output_type": "stream",
     "text": [
      "num_leaves, val_score: 6.388261:  65%|#####8   | 13/20 [00:06<00:03,  2.12it/s]\u001b[32m[I 2021-06-23 11:26:54,036]\u001b[0m Trial 19 finished with value: 6.388261003276256 and parameters: {'num_leaves': 5}. Best is trial 19 with value: 6.388261003276256.\u001b[0m\n",
      "num_leaves, val_score: 6.388261:  65%|#####8   | 13/20 [00:06<00:03,  2.12it/s]"
     ]
    },
    {
     "name": "stdout",
     "output_type": "stream",
     "text": [
      "Early stopping, best iteration is:\n",
      "[652]\ttrain's rmse: 4.72244\teval's rmse: 6.38826\n",
      "Training until validation scores don't improve for 100 rounds\n",
      "[100]\ttrain's rmse: 5.30972\teval's rmse: 6.4943\n",
      "[200]\ttrain's rmse: 4.73371\teval's rmse: 6.3261\n"
     ]
    },
    {
     "name": "stderr",
     "output_type": "stream",
     "text": [
      "num_leaves, val_score: 6.281486:  70%|######3  | 14/20 [00:06<00:02,  2.25it/s]\u001b[32m[I 2021-06-23 11:26:54,427]\u001b[0m Trial 20 finished with value: 6.281486496735866 and parameters: {'num_leaves': 11}. Best is trial 20 with value: 6.281486496735866.\u001b[0m\n",
      "num_leaves, val_score: 6.281486:  70%|######3  | 14/20 [00:06<00:02,  2.25it/s]"
     ]
    },
    {
     "name": "stdout",
     "output_type": "stream",
     "text": [
      "[300]\ttrain's rmse: 4.4162\teval's rmse: 6.32141\n",
      "[400]\ttrain's rmse: 4.1503\teval's rmse: 6.30521\n",
      "Early stopping, best iteration is:\n",
      "[374]\ttrain's rmse: 4.21267\teval's rmse: 6.28149\n",
      "Training until validation scores don't improve for 100 rounds\n",
      "[100]\ttrain's rmse: 6.21014\teval's rmse: 6.9419\n",
      "[200]\ttrain's rmse: 5.79451\teval's rmse: 6.67691\n",
      "[300]\ttrain's rmse: 5.61672\teval's rmse: 6.6099\n",
      "[400]\ttrain's rmse: 5.50218\teval's rmse: 6.55868\n",
      "[500]\ttrain's rmse: 5.41504\teval's rmse: 6.53923\n",
      "[600]\ttrain's rmse: 5.3344\teval's rmse: 6.53944\n"
     ]
    },
    {
     "name": "stderr",
     "output_type": "stream",
     "text": [
      "num_leaves, val_score: 6.281486:  75%|######7  | 15/20 [00:06<00:02,  2.31it/s]\u001b[32m[I 2021-06-23 11:26:54,824]\u001b[0m Trial 21 finished with value: 6.498083136804201 and parameters: {'num_leaves': 3}. Best is trial 20 with value: 6.281486496735866.\u001b[0m\n",
      "num_leaves, val_score: 6.281486:  75%|######7  | 15/20 [00:06<00:02,  2.31it/s]"
     ]
    },
    {
     "name": "stdout",
     "output_type": "stream",
     "text": [
      "[700]\ttrain's rmse: 5.26194\teval's rmse: 6.509\n",
      "Early stopping, best iteration is:\n",
      "[681]\ttrain's rmse: 5.27209\teval's rmse: 6.49808\n",
      "Training until validation scores don't improve for 100 rounds\n",
      "[100]\ttrain's rmse: 4.14042\teval's rmse: 6.53656\n",
      "[200]\ttrain's rmse: 3.158\teval's rmse: 6.52879\n",
      "Early stopping, best iteration is:\n",
      "[129]\ttrain's rmse: 3.78333\teval's rmse: 6.47866\n"
     ]
    },
    {
     "name": "stderr",
     "output_type": "stream",
     "text": [
      "num_leaves, val_score: 6.281486:  80%|#######2 | 16/20 [00:07<00:01,  2.22it/s]\u001b[32m[I 2021-06-23 11:26:55,319]\u001b[0m Trial 22 finished with value: 6.478657768499253 and parameters: {'num_leaves': 91}. Best is trial 20 with value: 6.281486496735866.\u001b[0m\n",
      "num_leaves, val_score: 6.281486:  80%|#######2 | 16/20 [00:07<00:01,  2.22it/s]"
     ]
    },
    {
     "name": "stdout",
     "output_type": "stream",
     "text": [
      "Training until validation scores don't improve for 100 rounds\n",
      "[100]\ttrain's rmse: 5.7613\teval's rmse: 6.66465\n",
      "[200]\ttrain's rmse: 5.29822\teval's rmse: 6.49411\n",
      "[300]\ttrain's rmse: 5.04703\teval's rmse: 6.43506\n",
      "[400]\ttrain's rmse: 4.84455\teval's rmse: 6.38079\n"
     ]
    },
    {
     "name": "stderr",
     "output_type": "stream",
     "text": [
      "num_leaves, val_score: 6.281486:  85%|#######6 | 17/20 [00:07<00:01,  2.24it/s]\u001b[32m[I 2021-06-23 11:26:55,761]\u001b[0m Trial 23 finished with value: 6.319160126429551 and parameters: {'num_leaves': 6}. Best is trial 20 with value: 6.281486496735866.\u001b[0m\n",
      "num_leaves, val_score: 6.281486:  85%|#######6 | 17/20 [00:07<00:01,  2.24it/s]"
     ]
    },
    {
     "name": "stdout",
     "output_type": "stream",
     "text": [
      "[500]\ttrain's rmse: 4.68573\teval's rmse: 6.35332\n",
      "[600]\ttrain's rmse: 4.55798\teval's rmse: 6.33891\n",
      "[700]\ttrain's rmse: 4.43954\teval's rmse: 6.32696\n",
      "Early stopping, best iteration is:\n",
      "[652]\ttrain's rmse: 4.48556\teval's rmse: 6.31916\n",
      "Training until validation scores don't improve for 100 rounds\n",
      "[100]\ttrain's rmse: 4.14042\teval's rmse: 6.53656\n"
     ]
    },
    {
     "name": "stderr",
     "output_type": "stream",
     "text": [
      "num_leaves, val_score: 6.281486:  90%|########1| 18/20 [00:08<00:00,  2.24it/s]\u001b[32m[I 2021-06-23 11:26:56,208]\u001b[0m Trial 24 finished with value: 6.478657768499253 and parameters: {'num_leaves': 107}. Best is trial 20 with value: 6.281486496735866.\u001b[0m\n",
      "num_leaves, val_score: 6.281486:  90%|########1| 18/20 [00:08<00:00,  2.24it/s]"
     ]
    },
    {
     "name": "stdout",
     "output_type": "stream",
     "text": [
      "[200]\ttrain's rmse: 3.158\teval's rmse: 6.52879\n",
      "Early stopping, best iteration is:\n",
      "[129]\ttrain's rmse: 3.78333\teval's rmse: 6.47866\n",
      "Training until validation scores don't improve for 100 rounds\n",
      "[100]\ttrain's rmse: 4.12208\teval's rmse: 6.5678\n",
      "[200]\ttrain's rmse: 3.1519\teval's rmse: 6.4998\n"
     ]
    },
    {
     "name": "stderr",
     "output_type": "stream",
     "text": [
      "num_leaves, val_score: 6.281486:  95%|########5| 19/20 [00:08<00:00,  2.16it/s]\u001b[32m[I 2021-06-23 11:26:56,710]\u001b[0m Trial 25 finished with value: 6.4832707181264535 and parameters: {'num_leaves': 51}. Best is trial 20 with value: 6.281486496735866.\u001b[0m\n",
      "num_leaves, val_score: 6.281486:  95%|########5| 19/20 [00:08<00:00,  2.16it/s]"
     ]
    },
    {
     "name": "stdout",
     "output_type": "stream",
     "text": [
      "Early stopping, best iteration is:\n",
      "[163]\ttrain's rmse: 3.44162\teval's rmse: 6.48327\n",
      "Training until validation scores don't improve for 100 rounds\n",
      "[100]\ttrain's rmse: 4.92886\teval's rmse: 6.53531\n",
      "[200]\ttrain's rmse: 4.22977\teval's rmse: 6.40274\n",
      "[300]\ttrain's rmse: 3.84066\teval's rmse: 6.4308"
     ]
    },
    {
     "name": "stderr",
     "output_type": "stream",
     "text": [
      "num_leaves, val_score: 6.281486: 100%|#########| 20/20 [00:09<00:00,  2.23it/s]\u001b[32m[I 2021-06-23 11:26:57,123]\u001b[0m Trial 26 finished with value: 6.395027001409873 and parameters: {'num_leaves': 18}. Best is trial 20 with value: 6.281486496735866.\u001b[0m\n",
      "num_leaves, val_score: 6.281486: 100%|#########| 20/20 [00:09<00:00,  2.17it/s]\n",
      "bagging, val_score: 6.281486:   0%|                     | 0/10 [00:00<?, ?it/s]"
     ]
    },
    {
     "name": "stdout",
     "output_type": "stream",
     "text": [
      "\n",
      "Early stopping, best iteration is:\n",
      "[204]\ttrain's rmse: 4.20732\teval's rmse: 6.39503\n",
      "Training until validation scores don't improve for 100 rounds\n",
      "[100]\ttrain's rmse: 5.47712\teval's rmse: 6.66222\n",
      "[200]\ttrain's rmse: 4.93486\teval's rmse: 6.46845\n",
      "[300]\ttrain's rmse: 4.64274\teval's rmse: 6.42709\n",
      "[400]\ttrain's rmse: 4.40145\teval's rmse: 6.41497\n",
      "[500]\ttrain's rmse: 4.21845\teval's rmse: 6.39523\n"
     ]
    },
    {
     "name": "stderr",
     "output_type": "stream",
     "text": [
      "bagging, val_score: 6.281486:  10%|#3           | 1/10 [00:00<00:04,  1.95it/s]\u001b[32m[I 2021-06-23 11:26:57,640]\u001b[0m Trial 27 finished with value: 6.379247643598938 and parameters: {'bagging_fraction': 0.4386929396078322, 'bagging_freq': 5}. Best is trial 27 with value: 6.379247643598938.\u001b[0m\n",
      "bagging, val_score: 6.281486:  10%|#3           | 1/10 [00:00<00:04,  1.95it/s]"
     ]
    },
    {
     "name": "stdout",
     "output_type": "stream",
     "text": [
      "[600]\ttrain's rmse: 4.06018\teval's rmse: 6.4309\n",
      "Early stopping, best iteration is:\n",
      "[558]\ttrain's rmse: 4.1277\teval's rmse: 6.37925\n",
      "Training until validation scores don't improve for 100 rounds\n",
      "[100]\ttrain's rmse: 5.37701\teval's rmse: 6.65566\n"
     ]
    },
    {
     "name": "stderr",
     "output_type": "stream",
     "text": [
      "\r",
      "bagging, val_score: 6.281486:  10%|#3           | 1/10 [00:00<00:04,  1.95it/s]"
     ]
    },
    {
     "name": "stdout",
     "output_type": "stream",
     "text": [
      "[200]\ttrain's rmse: 4.80425\teval's rmse: 6.46881\n",
      "[300]\ttrain's rmse: 4.49396\teval's rmse: 6.43053\n",
      "[400]\ttrain's rmse: 4.25173\teval's rmse: 6.44417\n",
      "Early stopping, best iteration is:\n",
      "[365]\ttrain's rmse: 4.33179\teval's rmse: 6.41507\n"
     ]
    },
    {
     "name": "stderr",
     "output_type": "stream",
     "text": [
      "bagging, val_score: 6.281486:  20%|##6          | 2/10 [00:00<00:03,  2.32it/s]\u001b[32m[I 2021-06-23 11:26:58,014]\u001b[0m Trial 28 finished with value: 6.415068024749694 and parameters: {'bagging_fraction': 0.5864714598807321, 'bagging_freq': 5}. Best is trial 27 with value: 6.379247643598938.\u001b[0m\n",
      "bagging, val_score: 6.281486:  20%|##6          | 2/10 [00:00<00:03,  2.32it/s]"
     ]
    },
    {
     "name": "stdout",
     "output_type": "stream",
     "text": [
      "Training until validation scores don't improve for 100 rounds\n",
      "[100]\ttrain's rmse: 5.50104\teval's rmse: 6.6862\n",
      "[200]\ttrain's rmse: 4.98306\teval's rmse: 6.43522\n",
      "[300]\ttrain's rmse: 4.67744\teval's rmse: 6.43743\n"
     ]
    },
    {
     "name": "stderr",
     "output_type": "stream",
     "text": [
      "bagging, val_score: 6.281486:  30%|###9         | 3/10 [00:01<00:02,  2.68it/s]\u001b[32m[I 2021-06-23 11:26:58,317]\u001b[0m Trial 29 finished with value: 6.407345203622536 and parameters: {'bagging_fraction': 0.4293918115525689, 'bagging_freq': 4}. Best is trial 27 with value: 6.379247643598938.\u001b[0m\n",
      "bagging, val_score: 6.281486:  30%|###9         | 3/10 [00:01<00:02,  2.68it/s]"
     ]
    },
    {
     "name": "stdout",
     "output_type": "stream",
     "text": [
      "Early stopping, best iteration is:\n",
      "[272]\ttrain's rmse: 4.75564\teval's rmse: 6.40735\n",
      "Training until validation scores don't improve for 100 rounds\n",
      "[100]\ttrain's rmse: 5.38593\teval's rmse: 6.65221\n",
      "[200]\ttrain's rmse: 4.82316\teval's rmse: 6.51002\n",
      "[300]\ttrain's rmse: 4.49814\teval's rmse: 6.47564\n",
      "[400]\ttrain's rmse: 4.25914\teval's rmse: 6.4807\n",
      "[500]\ttrain's rmse: 4.06495\teval's rmse: 6.47117\n",
      "Early stopping, best iteration is:\n",
      "[430]\ttrain's rmse: 4.19407\teval's rmse: 6.44866\n"
     ]
    },
    {
     "name": "stderr",
     "output_type": "stream",
     "text": [
      "bagging, val_score: 6.281486:  40%|#####2       | 4/10 [00:01<00:02,  2.46it/s]\u001b[32m[I 2021-06-23 11:26:58,780]\u001b[0m Trial 30 finished with value: 6.448660708243646 and parameters: {'bagging_fraction': 0.552217968846604, 'bagging_freq': 4}. Best is trial 27 with value: 6.379247643598938.\u001b[0m\n",
      "bagging, val_score: 6.281486:  40%|#####2       | 4/10 [00:01<00:02,  2.46it/s]"
     ]
    },
    {
     "name": "stdout",
     "output_type": "stream",
     "text": [
      "Training until validation scores don't improve for 100 rounds\n",
      "[100]\ttrain's rmse: 5.26628\teval's rmse: 6.42342\n",
      "[200]\ttrain's rmse: 4.71578\teval's rmse: 6.32745\n"
     ]
    },
    {
     "name": "stderr",
     "output_type": "stream",
     "text": [
      "bagging, val_score: 6.281486:  50%|######5      | 5/10 [00:02<00:02,  2.42it/s]\u001b[32m[I 2021-06-23 11:26:59,197]\u001b[0m Trial 31 finished with value: 6.283265821332772 and parameters: {'bagging_fraction': 0.9478592257557473, 'bagging_freq': 6}. Best is trial 31 with value: 6.283265821332772.\u001b[0m\n",
      "bagging, val_score: 6.281486:  50%|######5      | 5/10 [00:02<00:02,  2.42it/s]"
     ]
    },
    {
     "name": "stdout",
     "output_type": "stream",
     "text": [
      "[300]\ttrain's rmse: 4.39818\teval's rmse: 6.29552\n",
      "[400]\ttrain's rmse: 4.13487\teval's rmse: 6.28504\n",
      "Early stopping, best iteration is:\n",
      "[393]\ttrain's rmse: 4.15024\teval's rmse: 6.28327\n",
      "Training until validation scores don't improve for 100 rounds\n",
      "[100]\ttrain's rmse: 5.4984\teval's rmse: 6.73247\n",
      "[200]\ttrain's rmse: 4.95362\teval's rmse: 6.59376\n",
      "[300]\ttrain's rmse: 4.65227\teval's rmse: 6.51109\n",
      "[400]\ttrain's rmse: 4.41737\teval's rmse: 6.45394\n"
     ]
    },
    {
     "name": "stderr",
     "output_type": "stream",
     "text": [
      "bagging, val_score: 6.281486:  60%|#######8     | 6/10 [00:02<00:01,  2.36it/s]\u001b[32m[I 2021-06-23 11:26:59,641]\u001b[0m Trial 32 finished with value: 6.426731170229402 and parameters: {'bagging_fraction': 0.4330223847021328, 'bagging_freq': 3}. Best is trial 31 with value: 6.283265821332772.\u001b[0m\n",
      "bagging, val_score: 6.281486:  60%|#######8     | 6/10 [00:02<00:01,  2.36it/s]"
     ]
    },
    {
     "name": "stdout",
     "output_type": "stream",
     "text": [
      "[500]\ttrain's rmse: 4.23418\teval's rmse: 6.4567\n",
      "Early stopping, best iteration is:\n",
      "[468]\ttrain's rmse: 4.2858\teval's rmse: 6.42673\n",
      "Training until validation scores don't improve for 100 rounds\n",
      "[100]\ttrain's rmse: 5.53225\teval's rmse: 6.72141\n"
     ]
    },
    {
     "name": "stderr",
     "output_type": "stream",
     "text": [
      "bagging, val_score: 6.281486:  70%|#########1   | 7/10 [00:02<00:01,  2.52it/s]\u001b[32m[I 2021-06-23 11:26:59,984]\u001b[0m Trial 33 finished with value: 6.49415322615714 and parameters: {'bagging_fraction': 0.4279385375859048, 'bagging_freq': 7}. Best is trial 31 with value: 6.283265821332772.\u001b[0m\n",
      "bagging, val_score: 6.281486:  70%|#########1   | 7/10 [00:02<00:01,  2.52it/s]"
     ]
    },
    {
     "name": "stdout",
     "output_type": "stream",
     "text": [
      "[200]\ttrain's rmse: 4.97493\teval's rmse: 6.60941\n",
      "[300]\ttrain's rmse: 4.68721\teval's rmse: 6.53538\n",
      "[400]\ttrain's rmse: 4.46103\teval's rmse: 6.56778\n",
      "Early stopping, best iteration is:\n",
      "[327]\ttrain's rmse: 4.62251\teval's rmse: 6.49415\n",
      "Training until validation scores don't improve for 100 rounds\n",
      "[100]\ttrain's rmse: 5.41814\teval's rmse: 6.61968\n",
      "[200]\ttrain's rmse: 4.82536\teval's rmse: 6.47237\n"
     ]
    },
    {
     "name": "stderr",
     "output_type": "stream",
     "text": [
      "bagging, val_score: 6.281486:  80%|##########4  | 8/10 [00:03<00:00,  2.46it/s]\u001b[32m[I 2021-06-23 11:27:00,409]\u001b[0m Trial 34 finished with value: 6.392764092172855 and parameters: {'bagging_fraction': 0.6199088780962123, 'bagging_freq': 2}. Best is trial 31 with value: 6.283265821332772.\u001b[0m\n"
     ]
    },
    {
     "name": "stdout",
     "output_type": "stream",
     "text": [
      "[300]\ttrain's rmse: 4.50911\teval's rmse: 6.43679\n",
      "[400]\ttrain's rmse: 4.26152\teval's rmse: 6.41678\n",
      "[500]\ttrain's rmse: 4.0572\teval's rmse: 6.40507\n",
      "Early stopping, best iteration is:\n",
      "[423]\ttrain's rmse: 4.20976\teval's rmse: 6.39276\n"
     ]
    },
    {
     "name": "stderr",
     "output_type": "stream",
     "text": [
      "\r",
      "bagging, val_score: 6.281486:  80%|##########4  | 8/10 [00:03<00:00,  2.46it/s]"
     ]
    },
    {
     "name": "stdout",
     "output_type": "stream",
     "text": [
      "Training until validation scores don't improve for 100 rounds\n",
      "[100]\ttrain's rmse: 5.34369\teval's rmse: 6.52878\n",
      "[200]\ttrain's rmse: 4.75354\teval's rmse: 6.39872\n",
      "[300]\ttrain's rmse: 4.44256\teval's rmse: 6.3996\n"
     ]
    },
    {
     "name": "stderr",
     "output_type": "stream",
     "text": [
      "bagging, val_score: 6.281486:  90%|###########7 | 9/10 [00:03<00:00,  2.72it/s]\u001b[32m[I 2021-06-23 11:27:00,692]\u001b[0m Trial 35 finished with value: 6.3857721745931055 and parameters: {'bagging_fraction': 0.7448729060668992, 'bagging_freq': 1}. Best is trial 31 with value: 6.283265821332772.\u001b[0m\n",
      "bagging, val_score: 6.281486:  90%|###########7 | 9/10 [00:03<00:00,  2.72it/s]"
     ]
    },
    {
     "name": "stdout",
     "output_type": "stream",
     "text": [
      "Early stopping, best iteration is:\n",
      "[212]\ttrain's rmse: 4.7069\teval's rmse: 6.38577\n",
      "Training until validation scores don't improve for 100 rounds\n",
      "[100]\ttrain's rmse: 5.31769\teval's rmse: 6.51651\n"
     ]
    },
    {
     "name": "stderr",
     "output_type": "stream",
     "text": [
      "bagging, val_score: 6.281486: 100%|############| 10/10 [00:03<00:00,  2.73it/s]\u001b[32m[I 2021-06-23 11:27:01,056]\u001b[0m Trial 36 finished with value: 6.326317321997307 and parameters: {'bagging_fraction': 0.8213067233959592, 'bagging_freq': 5}. Best is trial 31 with value: 6.283265821332772.\u001b[0m\n",
      "bagging, val_score: 6.281486: 100%|############| 10/10 [00:03<00:00,  2.54it/s]\n",
      "feature_fraction_stage2, val_score: 6.281486:   0%|      | 0/6 [00:00<?, ?it/s]"
     ]
    },
    {
     "name": "stdout",
     "output_type": "stream",
     "text": [
      "[200]\ttrain's rmse: 4.74287\teval's rmse: 6.35837\n",
      "[300]\ttrain's rmse: 4.41026\teval's rmse: 6.35601\n",
      "Early stopping, best iteration is:\n",
      "[274]\ttrain's rmse: 4.48924\teval's rmse: 6.32632\n",
      "Training until validation scores don't improve for 100 rounds\n"
     ]
    },
    {
     "name": "stderr",
     "output_type": "stream",
     "text": [
      "feature_fraction_stage2, val_score: 6.281486:  17%|1| 1/6 [00:00<00:01,  3.43it\u001b[32m[I 2021-06-23 11:27:01,359]\u001b[0m Trial 37 finished with value: 6.318679277443003 and parameters: {'feature_fraction': 0.484}. Best is trial 37 with value: 6.318679277443003.\u001b[0m\n",
      "feature_fraction_stage2, val_score: 6.281486:  17%|1| 1/6 [00:00<00:01,  3.43it"
     ]
    },
    {
     "name": "stdout",
     "output_type": "stream",
     "text": [
      "[100]\ttrain's rmse: 5.32962\teval's rmse: 6.48973\n",
      "[200]\ttrain's rmse: 4.74628\teval's rmse: 6.35396\n",
      "[300]\ttrain's rmse: 4.44432\teval's rmse: 6.32959\n",
      "Early stopping, best iteration is:\n",
      "[256]\ttrain's rmse: 4.56766\teval's rmse: 6.31868\n",
      "Training until validation scores don't improve for 100 rounds\n",
      "[100]\ttrain's rmse: 5.39562\teval's rmse: 6.54822\n",
      "[200]\ttrain's rmse: 4.78986\teval's rmse: 6.39358\n",
      "[300]\ttrain's rmse: 4.46343\teval's rmse: 6.36577\n"
     ]
    },
    {
     "name": "stderr",
     "output_type": "stream",
     "text": [
      "feature_fraction_stage2, val_score: 6.281486:  33%|3| 2/6 [00:00<00:01,  3.16it\u001b[32m[I 2021-06-23 11:27:01,698]\u001b[0m Trial 38 finished with value: 6.325727207916075 and parameters: {'feature_fraction': 0.45199999999999996}. Best is trial 37 with value: 6.318679277443003.\u001b[0m\n",
      "feature_fraction_stage2, val_score: 6.281486:  33%|3| 2/6 [00:00<00:01,  3.16it"
     ]
    },
    {
     "name": "stdout",
     "output_type": "stream",
     "text": [
      "[400]\ttrain's rmse: 4.18966\teval's rmse: 6.34489\n",
      "Early stopping, best iteration is:\n",
      "[374]\ttrain's rmse: 4.25114\teval's rmse: 6.32573\n",
      "Training until validation scores don't improve for 100 rounds\n",
      "[100]\ttrain's rmse: 5.40736\teval's rmse: 6.55349\n"
     ]
    },
    {
     "name": "stderr",
     "output_type": "stream",
     "text": [
      "\r",
      "feature_fraction_stage2, val_score: 6.281486:  33%|3| 2/6 [00:00<00:01,  3.16it"
     ]
    },
    {
     "name": "stdout",
     "output_type": "stream",
     "text": [
      "[200]\ttrain's rmse: 4.79491\teval's rmse: 6.37589\n",
      "[300]\ttrain's rmse: 4.47229\teval's rmse: 6.34404\n",
      "[400]\ttrain's rmse: 4.20755\teval's rmse: 6.33629\n",
      "Early stopping, best iteration is:\n",
      "[392]\ttrain's rmse: 4.22673\teval's rmse: 6.32902\n"
     ]
    },
    {
     "name": "stderr",
     "output_type": "stream",
     "text": [
      "feature_fraction_stage2, val_score: 6.281486:  50%|5| 3/6 [00:00<00:00,  3.01it\u001b[32m[I 2021-06-23 11:27:02,043]\u001b[0m Trial 39 finished with value: 6.32902276503891 and parameters: {'feature_fraction': 0.42}. Best is trial 37 with value: 6.318679277443003.\u001b[0m\n",
      "feature_fraction_stage2, val_score: 6.281486:  50%|5| 3/6 [00:00<00:00,  3.01it"
     ]
    },
    {
     "name": "stdout",
     "output_type": "stream",
     "text": [
      "Training until validation scores don't improve for 100 rounds\n",
      "[100]\ttrain's rmse: 5.31107\teval's rmse: 6.52264\n",
      "[200]\ttrain's rmse: 4.71609\teval's rmse: 6.3302\n",
      "[300]\ttrain's rmse: 4.39701\teval's rmse: 6.3132\n"
     ]
    },
    {
     "name": "stderr",
     "output_type": "stream",
     "text": [
      "feature_fraction_stage2, val_score: 6.281486:  67%|6| 4/6 [00:01<00:00,  2.90it\u001b[32m[I 2021-06-23 11:27:02,407]\u001b[0m Trial 40 finished with value: 6.2886269375534996 and parameters: {'feature_fraction': 0.58}. Best is trial 40 with value: 6.2886269375534996.\u001b[0m\n",
      "feature_fraction_stage2, val_score: 6.281486:  67%|6| 4/6 [00:01<00:00,  2.90it"
     ]
    },
    {
     "name": "stdout",
     "output_type": "stream",
     "text": [
      "[400]\ttrain's rmse: 4.11641\teval's rmse: 6.30635\n",
      "Early stopping, best iteration is:\n",
      "[376]\ttrain's rmse: 4.17872\teval's rmse: 6.28863\n",
      "Training until validation scores don't improve for 100 rounds\n",
      "[100]\ttrain's rmse: 5.30972\teval's rmse: 6.4943\n",
      "[200]\ttrain's rmse: 4.73371\teval's rmse: 6.3261\n",
      "[300]\ttrain's rmse: 4.4162\teval's rmse: 6.32141\n",
      "[400]\ttrain's rmse: 4.1503\teval's rmse: 6.30521\n"
     ]
    },
    {
     "name": "stderr",
     "output_type": "stream",
     "text": [
      "feature_fraction_stage2, val_score: 6.281486:  83%|8| 5/6 [00:01<00:00,  2.67it\u001b[32m[I 2021-06-23 11:27:02,831]\u001b[0m Trial 41 finished with value: 6.281486496735866 and parameters: {'feature_fraction': 0.516}. Best is trial 41 with value: 6.281486496735866.\u001b[0m\n",
      "feature_fraction_stage2, val_score: 6.281486:  83%|8| 5/6 [00:01<00:00,  2.67it"
     ]
    },
    {
     "name": "stdout",
     "output_type": "stream",
     "text": [
      "Early stopping, best iteration is:\n",
      "[374]\ttrain's rmse: 4.21267\teval's rmse: 6.28149\n",
      "Training until validation scores don't improve for 100 rounds\n",
      "[100]\ttrain's rmse: 5.30793\teval's rmse: 6.50647\n"
     ]
    },
    {
     "name": "stderr",
     "output_type": "stream",
     "text": [
      "feature_fraction_stage2, val_score: 6.281486: 100%|#| 6/6 [00:02<00:00,  2.67it\u001b[32m[I 2021-06-23 11:27:03,205]\u001b[0m Trial 42 finished with value: 6.342013136421321 and parameters: {'feature_fraction': 0.5479999999999999}. Best is trial 41 with value: 6.281486496735866.\u001b[0m\n"
     ]
    },
    {
     "name": "stdout",
     "output_type": "stream",
     "text": [
      "[200]\ttrain's rmse: 4.72253\teval's rmse: 6.37589\n",
      "[300]\ttrain's rmse: 4.40858\teval's rmse: 6.36832\n",
      "[400]\ttrain's rmse: 4.14363\teval's rmse: 6.35825\n",
      "Early stopping, best iteration is:\n",
      "[341]\ttrain's rmse: 4.30069\teval's rmse: 6.34201\n"
     ]
    },
    {
     "name": "stderr",
     "output_type": "stream",
     "text": [
      "feature_fraction_stage2, val_score: 6.281486: 100%|#| 6/6 [00:02<00:00,  2.79it\n",
      "regularization_factors, val_score: 6.281486:   0%|      | 0/20 [00:00<?, ?it/s]"
     ]
    },
    {
     "name": "stdout",
     "output_type": "stream",
     "text": [
      "Training until validation scores don't improve for 100 rounds\n",
      "[100]\ttrain's rmse: 5.32629\teval's rmse: 6.50678\n",
      "[200]\ttrain's rmse: 4.75243\teval's rmse: 6.35494\n",
      "[300]\ttrain's rmse: 4.43376\teval's rmse: 6.34536\n"
     ]
    },
    {
     "name": "stderr",
     "output_type": "stream",
     "text": [
      "regularization_factors, val_score: 6.281486:   5%| | 1/20 [00:00<00:06,  2.75it\u001b[32m[I 2021-06-23 11:27:03,579]\u001b[0m Trial 43 finished with value: 6.329737074967384 and parameters: {'lambda_l1': 0.32177656914762925, 'lambda_l2': 6.562494696002083e-08}. Best is trial 43 with value: 6.329737074967384.\u001b[0m\n",
      "regularization_factors, val_score: 6.281486:   5%| | 1/20 [00:00<00:06,  2.75it"
     ]
    },
    {
     "name": "stdout",
     "output_type": "stream",
     "text": [
      "[400]\ttrain's rmse: 4.16608\teval's rmse: 6.34263\n",
      "Early stopping, best iteration is:\n",
      "[341]\ttrain's rmse: 4.32412\teval's rmse: 6.32974\n",
      "Training until validation scores don't improve for 100 rounds\n",
      "[100]\ttrain's rmse: 5.32021\teval's rmse: 6.49016\n"
     ]
    },
    {
     "name": "stderr",
     "output_type": "stream",
     "text": [
      "\r",
      "regularization_factors, val_score: 6.275713:   5%| | 1/20 [00:00<00:06,  2.75it"
     ]
    },
    {
     "name": "stdout",
     "output_type": "stream",
     "text": [
      "[200]\ttrain's rmse: 4.71791\teval's rmse: 6.31609\n",
      "[300]\ttrain's rmse: 4.40947\teval's rmse: 6.31386\n",
      "[400]\ttrain's rmse: 4.15035\teval's rmse: 6.29143\n",
      "Early stopping, best iteration is:\n",
      "[374]\ttrain's rmse: 4.21013\teval's rmse: 6.27571\n"
     ]
    },
    {
     "name": "stderr",
     "output_type": "stream",
     "text": [
      "regularization_factors, val_score: 6.275713:  10%|1| 2/20 [00:00<00:06,  2.66it\u001b[32m[I 2021-06-23 11:27:03,963]\u001b[0m Trial 44 finished with value: 6.275712686998467 and parameters: {'lambda_l1': 0.18944875958694962, 'lambda_l2': 0.00037604939962979843}. Best is trial 44 with value: 6.275712686998467.\u001b[0m\n",
      "regularization_factors, val_score: 6.275713:  10%|1| 2/20 [00:00<00:06,  2.66it"
     ]
    },
    {
     "name": "stdout",
     "output_type": "stream",
     "text": [
      "Training until validation scores don't improve for 100 rounds\n",
      "[100]\ttrain's rmse: 5.30972\teval's rmse: 6.4943\n",
      "[200]\ttrain's rmse: 4.73371\teval's rmse: 6.3261\n",
      "[300]\ttrain's rmse: 4.41684\teval's rmse: 6.31868\n"
     ]
    },
    {
     "name": "stderr",
     "output_type": "stream",
     "text": [
      "regularization_factors, val_score: 6.275713:  15%|1| 3/20 [00:01<00:06,  2.68it\u001b[32m[I 2021-06-23 11:27:04,337]\u001b[0m Trial 45 finished with value: 6.288311253520713 and parameters: {'lambda_l1': 9.585379974136885e-05, 'lambda_l2': 3.535759433423583e-05}. Best is trial 44 with value: 6.275712686998467.\u001b[0m\n",
      "regularization_factors, val_score: 6.275713:  15%|1| 3/20 [00:01<00:06,  2.68it"
     ]
    },
    {
     "name": "stdout",
     "output_type": "stream",
     "text": [
      "[400]\ttrain's rmse: 4.15372\teval's rmse: 6.31386\n",
      "Early stopping, best iteration is:\n",
      "[365]\ttrain's rmse: 4.23184\teval's rmse: 6.28831\n",
      "Training until validation scores don't improve for 100 rounds\n",
      "[100]\ttrain's rmse: 5.3286\teval's rmse: 6.50436\n",
      "[200]\ttrain's rmse: 4.72967\teval's rmse: 6.34146\n",
      "[300]\ttrain's rmse: 4.40171\teval's rmse: 6.34879\n",
      "[400]\ttrain's rmse: 4.14156\teval's rmse: 6.32634\n"
     ]
    },
    {
     "name": "stderr",
     "output_type": "stream",
     "text": [
      "regularization_factors, val_score: 6.275713:  20%|2| 4/20 [00:01<00:06,  2.61it\u001b[32m[I 2021-06-23 11:27:04,739]\u001b[0m Trial 46 finished with value: 6.315835118193264 and parameters: {'lambda_l1': 7.023662915605619e-08, 'lambda_l2': 0.10460727281708343}. Best is trial 44 with value: 6.275712686998467.\u001b[0m\n",
      "regularization_factors, val_score: 6.275713:  20%|2| 4/20 [00:01<00:06,  2.61it"
     ]
    },
    {
     "name": "stdout",
     "output_type": "stream",
     "text": [
      "Early stopping, best iteration is:\n",
      "[365]\ttrain's rmse: 4.22462\teval's rmse: 6.31584\n",
      "Training until validation scores don't improve for 100 rounds\n",
      "[100]\ttrain's rmse: 5.31764\teval's rmse: 6.50325\n"
     ]
    },
    {
     "name": "stderr",
     "output_type": "stream",
     "text": [
      "regularization_factors, val_score: 6.275713:  25%|2| 5/20 [00:01<00:05,  2.69it\u001b[32m[I 2021-06-23 11:27:05,085]\u001b[0m Trial 47 finished with value: 6.317279141496814 and parameters: {'lambda_l1': 2.9914253783654923e-07, 'lambda_l2': 0.04442070535995803}. Best is trial 44 with value: 6.275712686998467.\u001b[0m\n",
      "regularization_factors, val_score: 6.275713:  25%|2| 5/20 [00:01<00:05,  2.69it"
     ]
    },
    {
     "name": "stdout",
     "output_type": "stream",
     "text": [
      "[200]\ttrain's rmse: 4.7355\teval's rmse: 6.34863\n",
      "[300]\ttrain's rmse: 4.42335\teval's rmse: 6.34134\n",
      "Early stopping, best iteration is:\n",
      "[251]\ttrain's rmse: 4.55974\teval's rmse: 6.31728\n",
      "Training until validation scores don't improve for 100 rounds\n",
      "[100]\ttrain's rmse: 5.30972\teval's rmse: 6.4943\n",
      "[200]\ttrain's rmse: 4.73371\teval's rmse: 6.3261\n",
      "[300]\ttrain's rmse: 4.41684\teval's rmse: 6.31868\n",
      "[400]\ttrain's rmse: 4.15372\teval's rmse: 6.31386\n"
     ]
    },
    {
     "name": "stderr",
     "output_type": "stream",
     "text": [
      "regularization_factors, val_score: 6.275713:  30%|3| 6/20 [00:02<00:05,  2.68it\u001b[32m[I 2021-06-23 11:27:05,467]\u001b[0m Trial 48 finished with value: 6.288311329527718 and parameters: {'lambda_l1': 4.415212982584071e-05, 'lambda_l2': 1.3404781285678916e-05}. Best is trial 44 with value: 6.275712686998467.\u001b[0m\n",
      "regularization_factors, val_score: 6.275713:  30%|3| 6/20 [00:02<00:05,  2.68it"
     ]
    },
    {
     "name": "stdout",
     "output_type": "stream",
     "text": [
      "Early stopping, best iteration is:\n",
      "[365]\ttrain's rmse: 4.23184\teval's rmse: 6.28831\n",
      "Training until validation scores don't improve for 100 rounds\n",
      "[100]\ttrain's rmse: 5.3368\teval's rmse: 6.49998\n",
      "[200]\ttrain's rmse: 4.7372\teval's rmse: 6.342\n"
     ]
    },
    {
     "name": "stderr",
     "output_type": "stream",
     "text": [
      "regularization_factors, val_score: 6.275713:  35%|3| 7/20 [00:02<00:04,  2.88it\u001b[32m[I 2021-06-23 11:27:05,760]\u001b[0m Trial 49 finished with value: 6.33188434045205 and parameters: {'lambda_l1': 0.25094125500396214, 'lambda_l2': 0.24290994659293522}. Best is trial 44 with value: 6.275712686998467.\u001b[0m\n",
      "regularization_factors, val_score: 6.275713:  35%|3| 7/20 [00:02<00:04,  2.88it"
     ]
    },
    {
     "name": "stdout",
     "output_type": "stream",
     "text": [
      "[300]\ttrain's rmse: 4.43607\teval's rmse: 6.35043\n",
      "Early stopping, best iteration is:\n",
      "[247]\ttrain's rmse: 4.58293\teval's rmse: 6.33188\n",
      "Training until validation scores don't improve for 100 rounds\n",
      "[100]\ttrain's rmse: 5.31218\teval's rmse: 6.47859\n"
     ]
    },
    {
     "name": "stderr",
     "output_type": "stream",
     "text": [
      "regularization_factors, val_score: 6.275713:  40%|4| 8/20 [00:02<00:03,  3.03it\u001b[32m[I 2021-06-23 11:27:06,055]\u001b[0m Trial 50 finished with value: 6.304197275995239 and parameters: {'lambda_l1': 0.004797755948037167, 'lambda_l2': 0.0037257321235520577}. Best is trial 44 with value: 6.275712686998467.\u001b[0m\n",
      "regularization_factors, val_score: 6.275713:  40%|4| 8/20 [00:02<00:03,  3.03it"
     ]
    },
    {
     "name": "stdout",
     "output_type": "stream",
     "text": [
      "[200]\ttrain's rmse: 4.72401\teval's rmse: 6.31638\n",
      "[300]\ttrain's rmse: 4.41388\teval's rmse: 6.32188\n",
      "Early stopping, best iteration is:\n",
      "[250]\ttrain's rmse: 4.5566\teval's rmse: 6.3042\n",
      "Training until validation scores don't improve for 100 rounds\n",
      "[100]\ttrain's rmse: 5.31217\teval's rmse: 6.47858\n",
      "[200]\ttrain's rmse: 4.72402\teval's rmse: 6.31638\n",
      "[300]\ttrain's rmse: 4.41414\teval's rmse: 6.32317\n",
      "[400]\ttrain's rmse: 4.15366\teval's rmse: 6.30619\n"
     ]
    },
    {
     "name": "stderr",
     "output_type": "stream",
     "text": [
      "regularization_factors, val_score: 6.275713:  45%|4| 9/20 [00:03<00:03,  2.89it\u001b[32m[I 2021-06-23 11:27:06,431]\u001b[0m Trial 51 finished with value: 6.292143721550627 and parameters: {'lambda_l1': 0.014002206313343275, 'lambda_l2': 0.000281106116254606}. Best is trial 44 with value: 6.275712686998467.\u001b[0m\n",
      "regularization_factors, val_score: 6.275713:  45%|4| 9/20 [00:03<00:03,  2.89it"
     ]
    },
    {
     "name": "stdout",
     "output_type": "stream",
     "text": [
      "Early stopping, best iteration is:\n",
      "[364]\ttrain's rmse: 4.23583\teval's rmse: 6.29214\n",
      "Training until validation scores don't improve for 100 rounds\n",
      "[100]\ttrain's rmse: 5.34711\teval's rmse: 6.5097\n",
      "[200]\ttrain's rmse: 4.76766\teval's rmse: 6.36662\n",
      "[300]\ttrain's rmse: 4.45647\teval's rmse: 6.35555\n",
      "[400]\ttrain's rmse: 4.20748\teval's rmse: 6.33282\n",
      "Early stopping, best iteration is:\n",
      "[365]\ttrain's rmse: 4.28636\teval's rmse: 6.31414\n"
     ]
    },
    {
     "name": "stderr",
     "output_type": "stream",
     "text": [
      "regularization_factors, val_score: 6.275713:  50%|5| 10/20 [00:03<00:03,  2.70i\u001b[32m[I 2021-06-23 11:27:06,858]\u001b[0m Trial 52 finished with value: 6.314143877604948 and parameters: {'lambda_l1': 3.86366250756077, 'lambda_l2': 3.408087284794439e-05}. Best is trial 44 with value: 6.275712686998467.\u001b[0m\n",
      "regularization_factors, val_score: 6.275713:  50%|5| 10/20 [00:03<00:03,  2.70i"
     ]
    },
    {
     "name": "stdout",
     "output_type": "stream",
     "text": [
      "Training until validation scores don't improve for 100 rounds\n",
      "[100]\ttrain's rmse: 5.36763\teval's rmse: 6.53491\n",
      "[200]\ttrain's rmse: 4.78295\teval's rmse: 6.40295\n",
      "[300]\ttrain's rmse: 4.48116\teval's rmse: 6.38447\n"
     ]
    },
    {
     "name": "stderr",
     "output_type": "stream",
     "text": [
      "regularization_factors, val_score: 6.275713:  55%|5| 11/20 [00:04<00:03,  2.61i\u001b[32m[I 2021-06-23 11:27:07,265]\u001b[0m Trial 53 finished with value: 6.344263062688202 and parameters: {'lambda_l1': 7.679845297901324, 'lambda_l2': 1.0645665525238481e-07}. Best is trial 44 with value: 6.275712686998467.\u001b[0m\n",
      "regularization_factors, val_score: 6.275713:  55%|5| 11/20 [00:04<00:03,  2.61i"
     ]
    },
    {
     "name": "stdout",
     "output_type": "stream",
     "text": [
      "[400]\ttrain's rmse: 4.23695\teval's rmse: 6.36536\n",
      "Early stopping, best iteration is:\n",
      "[364]\ttrain's rmse: 4.31309\teval's rmse: 6.34426\n",
      "Training until validation scores don't improve for 100 rounds\n",
      "[100]\ttrain's rmse: 5.30972\teval's rmse: 6.4943\n",
      "[200]\ttrain's rmse: 4.73371\teval's rmse: 6.3261\n",
      "[300]\ttrain's rmse: 4.41684\teval's rmse: 6.31868\n",
      "[400]\ttrain's rmse: 4.15372\teval's rmse: 6.31386\n",
      "Early stopping, best iteration is:\n",
      "[365]\ttrain's rmse: 4.23183\teval's rmse: 6.28831\n"
     ]
    },
    {
     "name": "stderr",
     "output_type": "stream",
     "text": [
      "regularization_factors, val_score: 6.275713:  60%|6| 12/20 [00:04<00:03,  2.61i\u001b[32m[I 2021-06-23 11:27:07,648]\u001b[0m Trial 54 finished with value: 6.28831136911988 and parameters: {'lambda_l1': 1.8181371747366425e-05, 'lambda_l2': 1.0118897724309536e-06}. Best is trial 44 with value: 6.275712686998467.\u001b[0m\n",
      "regularization_factors, val_score: 6.275713:  60%|6| 12/20 [00:04<00:03,  2.61i"
     ]
    },
    {
     "name": "stdout",
     "output_type": "stream",
     "text": [
      "Training until validation scores don't improve for 100 rounds\n",
      "[100]\ttrain's rmse: 5.31535\teval's rmse: 6.50413\n",
      "[200]\ttrain's rmse: 4.73627\teval's rmse: 6.35273\n",
      "[300]\ttrain's rmse: 4.41683\teval's rmse: 6.3533"
     ]
    },
    {
     "name": "stderr",
     "output_type": "stream",
     "text": [
      "regularization_factors, val_score: 6.275713:  65%|6| 13/20 [00:04<00:02,  2.76i\u001b[32m[I 2021-06-23 11:27:07,970]\u001b[0m Trial 55 finished with value: 6.332130583748759 and parameters: {'lambda_l1': 0.0005598638230312645, 'lambda_l2': 0.0020102428216535488}. Best is trial 44 with value: 6.275712686998467.\u001b[0m\n",
      "regularization_factors, val_score: 6.275713:  65%|6| 13/20 [00:04<00:02,  2.76i"
     ]
    },
    {
     "name": "stdout",
     "output_type": "stream",
     "text": [
      "\n",
      "Early stopping, best iteration is:\n",
      "[255]\ttrain's rmse: 4.55257\teval's rmse: 6.33213\n",
      "Training until validation scores don't improve for 100 rounds\n",
      "[100]\ttrain's rmse: 5.30972\teval's rmse: 6.4943\n",
      "[200]\ttrain's rmse: 4.73371\teval's rmse: 6.3261\n",
      "[300]\ttrain's rmse: 4.41684\teval's rmse: 6.31868\n",
      "[400]\ttrain's rmse: 4.15372\teval's rmse: 6.31386\n"
     ]
    },
    {
     "name": "stderr",
     "output_type": "stream",
     "text": [
      "regularization_factors, val_score: 6.275713:  70%|7| 14/20 [00:05<00:02,  2.69i\u001b[32m[I 2021-06-23 11:27:08,366]\u001b[0m Trial 56 finished with value: 6.288311361296708 and parameters: {'lambda_l1': 2.345779677290281e-06, 'lambda_l2': 6.959125501496225e-06}. Best is trial 44 with value: 6.275712686998467.\u001b[0m\n",
      "regularization_factors, val_score: 6.275713:  70%|7| 14/20 [00:05<00:02,  2.69i"
     ]
    },
    {
     "name": "stdout",
     "output_type": "stream",
     "text": [
      "Early stopping, best iteration is:\n",
      "[365]\ttrain's rmse: 4.23183\teval's rmse: 6.28831\n",
      "Training until validation scores don't improve for 100 rounds\n",
      "[100]\ttrain's rmse: 5.31532\teval's rmse: 6.50412\n",
      "[200]\ttrain's rmse: 4.73624\teval's rmse: 6.35273\n"
     ]
    },
    {
     "name": "stderr",
     "output_type": "stream",
     "text": [
      "regularization_factors, val_score: 6.275713:  75%|7| 15/20 [00:05<00:01,  2.80i\u001b[32m[I 2021-06-23 11:27:08,689]\u001b[0m Trial 57 finished with value: 6.332129314060527 and parameters: {'lambda_l1': 0.00045960332349353605, 'lambda_l2': 0.0002640779002722832}. Best is trial 44 with value: 6.275712686998467.\u001b[0m\n",
      "regularization_factors, val_score: 6.275713:  75%|7| 15/20 [00:05<00:01,  2.80i"
     ]
    },
    {
     "name": "stdout",
     "output_type": "stream",
     "text": [
      "[300]\ttrain's rmse: 4.4168\teval's rmse: 6.35331\n",
      "Early stopping, best iteration is:\n",
      "[255]\ttrain's rmse: 4.55254\teval's rmse: 6.33213\n",
      "Training until validation scores don't improve for 100 rounds\n",
      "[100]\ttrain's rmse: 5.45676\teval's rmse: 6.57376\n",
      "[200]\ttrain's rmse: 4.85515\teval's rmse: 6.3696\n",
      "[300]\ttrain's rmse: 4.54691\teval's rmse: 6.32917\n"
     ]
    },
    {
     "name": "stderr",
     "output_type": "stream",
     "text": [
      "regularization_factors, val_score: 6.275713:  80%|8| 16/20 [00:05<00:01,  2.56i\u001b[32m[I 2021-06-23 11:27:09,153]\u001b[0m Trial 58 finished with value: 6.308444096112469 and parameters: {'lambda_l1': 0.02692493319690467, 'lambda_l2': 8.75247692107854}. Best is trial 44 with value: 6.275712686998467.\u001b[0m\n",
      "regularization_factors, val_score: 6.275713:  80%|8| 16/20 [00:05<00:01,  2.56i"
     ]
    },
    {
     "name": "stdout",
     "output_type": "stream",
     "text": [
      "[400]\ttrain's rmse: 4.30001\teval's rmse: 6.32154\n",
      "Early stopping, best iteration is:\n",
      "[367]\ttrain's rmse: 4.37417\teval's rmse: 6.30844\n",
      "Training until validation scores don't improve for 100 rounds\n",
      "[100]\ttrain's rmse: 5.30972\teval's rmse: 6.4943\n",
      "[200]\ttrain's rmse: 4.73371\teval's rmse: 6.3261\n",
      "[300]\ttrain's rmse: 4.41684\teval's rmse: 6.31868\n",
      "[400]\ttrain's rmse: 4.15372\teval's rmse: 6.31386\n"
     ]
    },
    {
     "name": "stderr",
     "output_type": "stream",
     "text": [
      "regularization_factors, val_score: 6.275713:  85%|8| 17/20 [00:06<00:01,  2.56i\u001b[32m[I 2021-06-23 11:27:09,539]\u001b[0m Trial 59 finished with value: 6.288311350711399 and parameters: {'lambda_l1': 5.737723859723015e-05, 'lambda_l2': 1.168876196463352e-06}. Best is trial 44 with value: 6.275712686998467.\u001b[0m\n",
      "regularization_factors, val_score: 6.275713:  85%|8| 17/20 [00:06<00:01,  2.56i"
     ]
    },
    {
     "name": "stdout",
     "output_type": "stream",
     "text": [
      "Early stopping, best iteration is:\n",
      "[365]\ttrain's rmse: 4.23184\teval's rmse: 6.28831\n",
      "Training until validation scores don't improve for 100 rounds\n",
      "[100]\ttrain's rmse: 5.31217\teval's rmse: 6.47858\n"
     ]
    },
    {
     "name": "stderr",
     "output_type": "stream",
     "text": [
      "regularization_factors, val_score: 6.275713:  90%|9| 18/20 [00:06<00:00,  2.72i\u001b[32m[I 2021-06-23 11:27:09,860]\u001b[0m Trial 60 finished with value: 6.304194417815059 and parameters: {'lambda_l1': 0.001842153310959539, 'lambda_l2': 0.004044434393172369}. Best is trial 44 with value: 6.275712686998467.\u001b[0m\n",
      "regularization_factors, val_score: 6.275713:  90%|9| 18/20 [00:06<00:00,  2.72i"
     ]
    },
    {
     "name": "stdout",
     "output_type": "stream",
     "text": [
      "[200]\ttrain's rmse: 4.72399\teval's rmse: 6.31637\n",
      "[300]\ttrain's rmse: 4.41385\teval's rmse: 6.32187\n",
      "Early stopping, best iteration is:\n",
      "[250]\ttrain's rmse: 4.55658\teval's rmse: 6.30419\n",
      "Training until validation scores don't improve for 100 rounds\n"
     ]
    },
    {
     "name": "stderr",
     "output_type": "stream",
     "text": [
      "regularization_factors, val_score: 6.275713:  95%|9| 19/20 [00:06<00:00,  2.85i\u001b[32m[I 2021-06-23 11:27:10,175]\u001b[0m Trial 61 finished with value: 6.3118000686650575 and parameters: {'lambda_l1': 0.14222387916208007, 'lambda_l2': 8.96988641643797e-05}. Best is trial 44 with value: 6.275712686998467.\u001b[0m\n",
      "regularization_factors, val_score: 6.275713:  95%|9| 19/20 [00:06<00:00,  2.85i"
     ]
    },
    {
     "name": "stdout",
     "output_type": "stream",
     "text": [
      "[100]\ttrain's rmse: 5.31321\teval's rmse: 6.48024\n",
      "[200]\ttrain's rmse: 4.72545\teval's rmse: 6.34083\n",
      "[300]\ttrain's rmse: 4.39445\teval's rmse: 6.32462\n",
      "Early stopping, best iteration is:\n",
      "[255]\ttrain's rmse: 4.53157\teval's rmse: 6.3118\n",
      "Training until validation scores don't improve for 100 rounds\n",
      "[100]\ttrain's rmse: 5.30972\teval's rmse: 6.4943\n",
      "[200]\ttrain's rmse: 4.73371\teval's rmse: 6.3261\n"
     ]
    },
    {
     "name": "stderr",
     "output_type": "stream",
     "text": [
      "regularization_factors, val_score: 6.275713: 100%|#| 20/20 [00:07<00:00,  2.59i\u001b[32m[I 2021-06-23 11:27:10,630]\u001b[0m Trial 62 finished with value: 6.288311370562052 and parameters: {'lambda_l1': 4.45947559898454e-06, 'lambda_l2': 2.640828150956402e-06}. Best is trial 44 with value: 6.275712686998467.\u001b[0m\n",
      "regularization_factors, val_score: 6.275713: 100%|#| 20/20 [00:07<00:00,  2.70i\n",
      "min_data_in_leaf, val_score: 6.275713:   0%|             | 0/5 [00:00<?, ?it/s]"
     ]
    },
    {
     "name": "stdout",
     "output_type": "stream",
     "text": [
      "[300]\ttrain's rmse: 4.41684\teval's rmse: 6.31868\n",
      "[400]\ttrain's rmse: 4.15372\teval's rmse: 6.31386\n",
      "Early stopping, best iteration is:\n",
      "[365]\ttrain's rmse: 4.23183\teval's rmse: 6.28831\n",
      "Training until validation scores don't improve for 100 rounds\n",
      "[100]\ttrain's rmse: 6.31869\teval's rmse: 7.0001\n",
      "[200]\ttrain's rmse: 5.80483\teval's rmse: 6.78156\n",
      "[300]\ttrain's rmse: 5.51307\teval's rmse: 6.68371\n",
      "[400]\ttrain's rmse: 5.28904\teval's rmse: 6.63053\n",
      "[500]\ttrain's rmse: 5.12361\teval's rmse: 6.57444\n",
      "[600]\ttrain's rmse: 4.97676\teval's rmse: 6.55999\n"
     ]
    },
    {
     "name": "stderr",
     "output_type": "stream",
     "text": [
      "min_data_in_leaf, val_score: 6.275713:  20%|#    | 1/5 [00:00<00:02,  1.57it/s]\u001b[32m[I 2021-06-23 11:27:11,278]\u001b[0m Trial 63 finished with value: 6.519952514682502 and parameters: {'min_child_samples': 100}. Best is trial 63 with value: 6.519952514682502.\u001b[0m\n",
      "min_data_in_leaf, val_score: 6.275713:  20%|#    | 1/5 [00:00<00:02,  1.57it/s]"
     ]
    },
    {
     "name": "stdout",
     "output_type": "stream",
     "text": [
      "[700]\ttrain's rmse: 4.84697\teval's rmse: 6.54116\n",
      "Early stopping, best iteration is:\n",
      "[652]\ttrain's rmse: 4.90742\teval's rmse: 6.51995\n",
      "Training until validation scores don't improve for 100 rounds\n",
      "[100]\ttrain's rmse: 5.72084\teval's rmse: 6.86305\n",
      "[200]\ttrain's rmse: 5.1756\teval's rmse: 6.64942\n",
      "[300]\ttrain's rmse: 4.86451\teval's rmse: 6.54677\n",
      "[400]\ttrain's rmse: 4.61981\teval's rmse: 6.5093\n",
      "[500]\ttrain's rmse: 4.43793\teval's rmse: 6.46627\n"
     ]
    },
    {
     "name": "stderr",
     "output_type": "stream",
     "text": [
      "min_data_in_leaf, val_score: 6.275713:  40%|##   | 2/5 [00:01<00:01,  1.70it/s]\u001b[32m[I 2021-06-23 11:27:11,833]\u001b[0m Trial 64 finished with value: 6.420136975010826 and parameters: {'min_child_samples': 50}. Best is trial 64 with value: 6.420136975010826.\u001b[0m\n",
      "min_data_in_leaf, val_score: 6.275713:  40%|##   | 2/5 [00:01<00:01,  1.70it/s]"
     ]
    },
    {
     "name": "stdout",
     "output_type": "stream",
     "text": [
      "[600]\ttrain's rmse: 4.27735\teval's rmse: 6.44948\n",
      "[700]\ttrain's rmse: 4.13763\teval's rmse: 6.43053\n",
      "Early stopping, best iteration is:\n",
      "[665]\ttrain's rmse: 4.18204\teval's rmse: 6.42014\n",
      "Training until validation scores don't improve for 100 rounds\n"
     ]
    },
    {
     "name": "stderr",
     "output_type": "stream",
     "text": [
      "\r",
      "min_data_in_leaf, val_score: 6.252198:  40%|##   | 2/5 [00:01<00:01,  1.70it/s]"
     ]
    },
    {
     "name": "stdout",
     "output_type": "stream",
     "text": [
      "[100]\ttrain's rmse: 5.19861\teval's rmse: 6.41739\n",
      "[200]\ttrain's rmse: 4.58529\teval's rmse: 6.26778\n",
      "[300]\ttrain's rmse: 4.223\teval's rmse: 6.26176\n",
      "Early stopping, best iteration is:\n",
      "[281]\ttrain's rmse: 4.27995\teval's rmse: 6.2522\n"
     ]
    },
    {
     "name": "stderr",
     "output_type": "stream",
     "text": [
      "min_data_in_leaf, val_score: 6.252198:  60%|###  | 3/5 [00:01<00:00,  2.16it/s]\u001b[32m[I 2021-06-23 11:27:12,145]\u001b[0m Trial 65 finished with value: 6.252198155119155 and parameters: {'min_child_samples': 10}. Best is trial 65 with value: 6.252198155119155.\u001b[0m\n",
      "min_data_in_leaf, val_score: 6.252198:  60%|###  | 3/5 [00:01<00:00,  2.16it/s]"
     ]
    },
    {
     "name": "stdout",
     "output_type": "stream",
     "text": [
      "Training until validation scores don't improve for 100 rounds\n",
      "[100]\ttrain's rmse: 5.16052\teval's rmse: 6.37358\n",
      "[200]\ttrain's rmse: 4.52275\teval's rmse: 6.26586\n",
      "[300]\ttrain's rmse: 4.12765\teval's rmse: 6.21511\n"
     ]
    },
    {
     "name": "stderr",
     "output_type": "stream",
     "text": [
      "min_data_in_leaf, val_score: 6.212354:  80%|#### | 4/5 [00:01<00:00,  2.50it/s]\u001b[32m[I 2021-06-23 11:27:12,456]\u001b[0m Trial 66 finished with value: 6.212353891981881 and parameters: {'min_child_samples': 5}. Best is trial 66 with value: 6.212353891981881.\u001b[0m\n",
      "min_data_in_leaf, val_score: 6.212354:  80%|#### | 4/5 [00:01<00:00,  2.50it/s]"
     ]
    },
    {
     "name": "stdout",
     "output_type": "stream",
     "text": [
      "Early stopping, best iteration is:\n",
      "[275]\ttrain's rmse: 4.22084\teval's rmse: 6.21235\n",
      "Training until validation scores don't improve for 100 rounds\n",
      "[100]\ttrain's rmse: 5.36592\teval's rmse: 6.54284\n",
      "[200]\ttrain's rmse: 4.80813\teval's rmse: 6.39563\n"
     ]
    },
    {
     "name": "stderr",
     "output_type": "stream",
     "text": [
      "min_data_in_leaf, val_score: 6.212354: 100%|#####| 5/5 [00:02<00:00,  2.66it/s]\u001b[32m[I 2021-06-23 11:27:12,792]\u001b[0m Trial 67 finished with value: 6.351628760339156 and parameters: {'min_child_samples': 25}. Best is trial 66 with value: 6.212353891981881.\u001b[0m\n",
      "min_data_in_leaf, val_score: 6.212354: 100%|#####| 5/5 [00:02<00:00,  2.32it/s]\n",
      "\u001b[32m[I 2021-06-23 11:27:12,823]\u001b[0m A new study created in memory with name: no-name-f613e0ed-5934-4327-a009-d7f284adeb6a\u001b[0m\n",
      "feature_fraction, val_score: inf:   0%|                  | 0/7 [00:00<?, ?it/s]"
     ]
    },
    {
     "name": "stdout",
     "output_type": "stream",
     "text": [
      "[300]\ttrain's rmse: 4.49329\teval's rmse: 6.37881\n",
      "Early stopping, best iteration is:\n",
      "[255]\ttrain's rmse: 4.61881\teval's rmse: 6.35163\n",
      "Training until validation scores don't improve for 100 rounds\n",
      "[100]\ttrain's rmse: 4.58529\teval's rmse: 6.38937\n",
      "[200]\ttrain's rmse: 3.76015\teval's rmse: 6.23597\n"
     ]
    },
    {
     "name": "stderr",
     "output_type": "stream",
     "text": [
      "feature_fraction, val_score: 6.194191:  14%|7    | 1/7 [00:00<00:02,  2.15it/s]\u001b[32m[I 2021-06-23 11:27:13,306]\u001b[0m Trial 0 finished with value: 6.194191223562681 and parameters: {'feature_fraction': 0.4}. Best is trial 0 with value: 6.194191223562681.\u001b[0m\n",
      "feature_fraction, val_score: 6.194191:  14%|7    | 1/7 [00:00<00:02,  2.15it/s]"
     ]
    },
    {
     "name": "stdout",
     "output_type": "stream",
     "text": [
      "[300]\ttrain's rmse: 3.28029\teval's rmse: 6.23086\n",
      "Early stopping, best iteration is:\n",
      "[251]\ttrain's rmse: 3.497\teval's rmse: 6.19419\n",
      "Training until validation scores don't improve for 100 rounds\n",
      "[100]\ttrain's rmse: 4.40495\teval's rmse: 6.29978\n",
      "[200]\ttrain's rmse: 3.5876\teval's rmse: 6.21802\n",
      "Early stopping, best iteration is:\n",
      "[193]\ttrain's rmse: 3.6311\teval's rmse: 6.2069\n"
     ]
    },
    {
     "name": "stderr",
     "output_type": "stream",
     "text": [
      "feature_fraction, val_score: 6.194191:  29%|#4   | 2/7 [00:00<00:02,  2.30it/s]\u001b[32m[I 2021-06-23 11:27:13,713]\u001b[0m Trial 1 finished with value: 6.206901651898036 and parameters: {'feature_fraction': 0.6}. Best is trial 0 with value: 6.194191223562681.\u001b[0m\n",
      "feature_fraction, val_score: 6.194191:  29%|#4   | 2/7 [00:00<00:02,  2.30it/s]"
     ]
    },
    {
     "name": "stdout",
     "output_type": "stream",
     "text": [
      "Training until validation scores don't improve for 100 rounds\n",
      "[100]\ttrain's rmse: 4.37479\teval's rmse: 6.32157\n"
     ]
    },
    {
     "name": "stderr",
     "output_type": "stream",
     "text": [
      "feature_fraction, val_score: 6.194191:  43%|##1  | 3/7 [00:01<00:01,  2.40it/s]\u001b[32m[I 2021-06-23 11:27:14,108]\u001b[0m Trial 2 finished with value: 6.28382413225073 and parameters: {'feature_fraction': 1.0}. Best is trial 0 with value: 6.194191223562681.\u001b[0m\n",
      "feature_fraction, val_score: 6.194191:  43%|##1  | 3/7 [00:01<00:01,  2.40it/s]"
     ]
    },
    {
     "name": "stdout",
     "output_type": "stream",
     "text": [
      "[200]\ttrain's rmse: 3.50906\teval's rmse: 6.30367\n",
      "Early stopping, best iteration is:\n",
      "[180]\ttrain's rmse: 3.64176\teval's rmse: 6.28382\n",
      "Training until validation scores don't improve for 100 rounds\n",
      "[100]\ttrain's rmse: 4.46289\teval's rmse: 6.29512\n",
      "[200]\ttrain's rmse: 3.63759\teval's rmse: 6.20536\n",
      "Early stopping, best iteration is:\n",
      "[188]\ttrain's rmse: 3.70965\teval's rmse: 6.1932"
     ]
    },
    {
     "name": "stderr",
     "output_type": "stream",
     "text": [
      "feature_fraction, val_score: 6.193204:  57%|##8  | 4/7 [00:01<00:01,  2.43it/s]\u001b[32m[I 2021-06-23 11:27:14,513]\u001b[0m Trial 3 finished with value: 6.193203745226868 and parameters: {'feature_fraction': 0.5}. Best is trial 3 with value: 6.193203745226868.\u001b[0m\n",
      "feature_fraction, val_score: 6.193204:  57%|##8  | 4/7 [00:01<00:01,  2.43it/s]"
     ]
    },
    {
     "name": "stdout",
     "output_type": "stream",
     "text": [
      "\n",
      "Training until validation scores don't improve for 100 rounds\n",
      "[100]\ttrain's rmse: 4.35057\teval's rmse: 6.19294\n",
      "[200]\ttrain's rmse: 3.53435\teval's rmse: 6.18759\n",
      "Early stopping, best iteration is:\n",
      "[125]\ttrain's rmse: 4.07671\teval's rmse: 6.16635\n"
     ]
    },
    {
     "name": "stderr",
     "output_type": "stream",
     "text": [
      "feature_fraction, val_score: 6.166354:  71%|###5 | 5/7 [00:02<00:00,  2.46it/s]\u001b[32m[I 2021-06-23 11:27:14,916]\u001b[0m Trial 4 finished with value: 6.166354003458249 and parameters: {'feature_fraction': 0.8}. Best is trial 4 with value: 6.166354003458249.\u001b[0m\n",
      "feature_fraction, val_score: 6.166354:  71%|###5 | 5/7 [00:02<00:00,  2.46it/s]"
     ]
    },
    {
     "name": "stdout",
     "output_type": "stream",
     "text": [
      "Training until validation scores don't improve for 100 rounds\n",
      "[100]\ttrain's rmse: 4.37906\teval's rmse: 6.21227\n"
     ]
    },
    {
     "name": "stderr",
     "output_type": "stream",
     "text": [
      "feature_fraction, val_score: 6.105994:  86%|####2| 6/7 [00:02<00:00,  2.49it/s]\u001b[32m[I 2021-06-23 11:27:15,302]\u001b[0m Trial 5 finished with value: 6.105993760628477 and parameters: {'feature_fraction': 0.7}. Best is trial 5 with value: 6.105993760628477.\u001b[0m\n",
      "feature_fraction, val_score: 6.105994:  86%|####2| 6/7 [00:02<00:00,  2.49it/s]"
     ]
    },
    {
     "name": "stdout",
     "output_type": "stream",
     "text": [
      "[200]\ttrain's rmse: 3.53945\teval's rmse: 6.11144\n",
      "Early stopping, best iteration is:\n",
      "[184]\ttrain's rmse: 3.64157\teval's rmse: 6.10599\n",
      "Training until validation scores don't improve for 100 rounds\n",
      "[100]\ttrain's rmse: 4.36962\teval's rmse: 6.24298\n",
      "[200]\ttrain's rmse: 3.52185\teval's rmse: 6.1975\n"
     ]
    },
    {
     "name": "stderr",
     "output_type": "stream",
     "text": [
      "feature_fraction, val_score: 6.105994: 100%|#####| 7/7 [00:02<00:00,  2.33it/s]\u001b[32m[I 2021-06-23 11:27:15,787]\u001b[0m Trial 6 finished with value: 6.167493009436065 and parameters: {'feature_fraction': 0.8999999999999999}. Best is trial 5 with value: 6.105993760628477.\u001b[0m\n",
      "feature_fraction, val_score: 6.105994: 100%|#####| 7/7 [00:02<00:00,  2.37it/s]\n",
      "num_leaves, val_score: 6.105994:   0%|                  | 0/20 [00:00<?, ?it/s]"
     ]
    },
    {
     "name": "stdout",
     "output_type": "stream",
     "text": [
      "[300]\ttrain's rmse: 2.99275\teval's rmse: 6.21673\n",
      "Early stopping, best iteration is:\n",
      "[257]\ttrain's rmse: 3.19523\teval's rmse: 6.16749\n",
      "Training until validation scores don't improve for 100 rounds\n",
      "[100]\ttrain's rmse: 4.04032\teval's rmse: 6.31713\n",
      "[200]\ttrain's rmse: 3.0774\teval's rmse: 6.32046\n",
      "Early stopping, best iteration is:\n",
      "[127]\ttrain's rmse: 3.69277\teval's rmse: 6.29099\n"
     ]
    },
    {
     "name": "stderr",
     "output_type": "stream",
     "text": [
      "num_leaves, val_score: 6.105994:   5%|5         | 1/20 [00:00<00:08,  2.31it/s]\u001b[32m[I 2021-06-23 11:27:16,232]\u001b[0m Trial 7 finished with value: 6.290994267595509 and parameters: {'num_leaves': 91}. Best is trial 7 with value: 6.290994267595509.\u001b[0m\n",
      "num_leaves, val_score: 6.105994:   5%|5         | 1/20 [00:00<00:08,  2.31it/s]"
     ]
    },
    {
     "name": "stdout",
     "output_type": "stream",
     "text": [
      "Training until validation scores don't improve for 100 rounds\n",
      "[100]\ttrain's rmse: 4.04032\teval's rmse: 6.31713\n"
     ]
    },
    {
     "name": "stderr",
     "output_type": "stream",
     "text": [
      "num_leaves, val_score: 6.105994:  10%|#         | 2/20 [00:00<00:07,  2.41it/s]\u001b[32m[I 2021-06-23 11:27:16,643]\u001b[0m Trial 8 finished with value: 6.290994267595509 and parameters: {'num_leaves': 64}. Best is trial 7 with value: 6.290994267595509.\u001b[0m\n",
      "num_leaves, val_score: 6.105994:  10%|#         | 2/20 [00:00<00:07,  2.41it/s]"
     ]
    },
    {
     "name": "stdout",
     "output_type": "stream",
     "text": [
      "[200]\ttrain's rmse: 3.0774\teval's rmse: 6.32046\n",
      "Early stopping, best iteration is:\n",
      "[127]\ttrain's rmse: 3.69277\teval's rmse: 6.29099\n",
      "Training until validation scores don't improve for 100 rounds\n",
      "[100]\ttrain's rmse: 4.04032\teval's rmse: 6.31713\n",
      "[200]\ttrain's rmse: 3.0774\teval's rmse: 6.32046\n"
     ]
    },
    {
     "name": "stderr",
     "output_type": "stream",
     "text": [
      "num_leaves, val_score: 6.105994:  15%|#5        | 3/20 [00:01<00:08,  2.08it/s]\u001b[32m[I 2021-06-23 11:27:17,200]\u001b[0m Trial 9 finished with value: 6.290994267595509 and parameters: {'num_leaves': 242}. Best is trial 7 with value: 6.290994267595509.\u001b[0m\n",
      "num_leaves, val_score: 6.105994:  15%|#5        | 3/20 [00:01<00:08,  2.08it/s]"
     ]
    },
    {
     "name": "stdout",
     "output_type": "stream",
     "text": [
      "Early stopping, best iteration is:\n",
      "[127]\ttrain's rmse: 3.69277\teval's rmse: 6.29099\n",
      "Training until validation scores don't improve for 100 rounds\n",
      "[100]\ttrain's rmse: 4.04032\teval's rmse: 6.31713\n",
      "[200]\ttrain's rmse: 3.0774\teval's rmse: 6.32046\n",
      "Early stopping, best iteration is:\n",
      "[127]\ttrain's rmse: 3.69277\teval's rmse: 6.29099\n"
     ]
    },
    {
     "name": "stderr",
     "output_type": "stream",
     "text": [
      "num_leaves, val_score: 6.105994:  20%|##        | 4/20 [00:01<00:07,  2.17it/s]\u001b[32m[I 2021-06-23 11:27:17,624]\u001b[0m Trial 10 finished with value: 6.290994267595509 and parameters: {'num_leaves': 121}. Best is trial 7 with value: 6.290994267595509.\u001b[0m\n",
      "num_leaves, val_score: 6.105994:  20%|##        | 4/20 [00:01<00:07,  2.17it/s]"
     ]
    },
    {
     "name": "stdout",
     "output_type": "stream",
     "text": [
      "Training until validation scores don't improve for 100 rounds\n",
      "[100]\ttrain's rmse: 4.04032\teval's rmse: 6.31713\n"
     ]
    },
    {
     "name": "stderr",
     "output_type": "stream",
     "text": [
      "num_leaves, val_score: 6.105994:  25%|##5       | 5/20 [00:02<00:06,  2.20it/s]\u001b[32m[I 2021-06-23 11:27:18,068]\u001b[0m Trial 11 finished with value: 6.290994267595509 and parameters: {'num_leaves': 233}. Best is trial 7 with value: 6.290994267595509.\u001b[0m\n",
      "num_leaves, val_score: 6.105994:  25%|##5       | 5/20 [00:02<00:06,  2.20it/s]"
     ]
    },
    {
     "name": "stdout",
     "output_type": "stream",
     "text": [
      "[200]\ttrain's rmse: 3.0774\teval's rmse: 6.32046\n",
      "Early stopping, best iteration is:\n",
      "[127]\ttrain's rmse: 3.69277\teval's rmse: 6.29099\n",
      "Training until validation scores don't improve for 100 rounds\n",
      "[100]\ttrain's rmse: 4.04032\teval's rmse: 6.31713\n",
      "[200]\ttrain's rmse: 3.0774\teval's rmse: 6.32046\n",
      "Early stopping, best iteration is:\n",
      "[127]\ttrain's rmse: 3.69277\teval's rmse: 6.29099\n"
     ]
    },
    {
     "name": "stderr",
     "output_type": "stream",
     "text": [
      "num_leaves, val_score: 6.105994:  30%|###       | 6/20 [00:02<00:06,  2.25it/s]\u001b[32m[I 2021-06-23 11:27:18,501]\u001b[0m Trial 12 finished with value: 6.290994267595509 and parameters: {'num_leaves': 184}. Best is trial 7 with value: 6.290994267595509.\u001b[0m\n",
      "num_leaves, val_score: 6.105994:  30%|###       | 6/20 [00:02<00:06,  2.25it/s]"
     ]
    },
    {
     "name": "stdout",
     "output_type": "stream",
     "text": [
      "Training until validation scores don't improve for 100 rounds\n",
      "[100]\ttrain's rmse: 4.04032\teval's rmse: 6.31713\n"
     ]
    },
    {
     "name": "stderr",
     "output_type": "stream",
     "text": [
      "num_leaves, val_score: 6.105994:  35%|###5      | 7/20 [00:03<00:06,  2.13it/s]\u001b[32m[I 2021-06-23 11:27:19,019]\u001b[0m Trial 13 finished with value: 6.290994267595509 and parameters: {'num_leaves': 194}. Best is trial 7 with value: 6.290994267595509.\u001b[0m\n",
      "num_leaves, val_score: 6.105994:  35%|###5      | 7/20 [00:03<00:06,  2.13it/s]"
     ]
    },
    {
     "name": "stdout",
     "output_type": "stream",
     "text": [
      "[200]\ttrain's rmse: 3.0774\teval's rmse: 6.32046\n",
      "Early stopping, best iteration is:\n",
      "[127]\ttrain's rmse: 3.69277\teval's rmse: 6.29099\n",
      "Training until validation scores don't improve for 100 rounds\n"
     ]
    },
    {
     "name": "stderr",
     "output_type": "stream",
     "text": [
      "\r",
      "num_leaves, val_score: 6.105994:  35%|###5      | 7/20 [00:03<00:06,  2.13it/s]"
     ]
    },
    {
     "name": "stdout",
     "output_type": "stream",
     "text": [
      "[100]\ttrain's rmse: 4.06022\teval's rmse: 6.29486\n",
      "[200]\ttrain's rmse: 3.11835\teval's rmse: 6.25283\n",
      "Early stopping, best iteration is:\n",
      "[125]\ttrain's rmse: 3.74837\teval's rmse: 6.24067\n"
     ]
    },
    {
     "name": "stderr",
     "output_type": "stream",
     "text": [
      "num_leaves, val_score: 6.105994:  40%|####      | 8/20 [00:03<00:05,  2.23it/s]\u001b[32m[I 2021-06-23 11:27:19,414]\u001b[0m Trial 14 finished with value: 6.240668390619493 and parameters: {'num_leaves': 48}. Best is trial 14 with value: 6.240668390619493.\u001b[0m\n",
      "num_leaves, val_score: 6.105994:  40%|####      | 8/20 [00:03<00:05,  2.23it/s]"
     ]
    },
    {
     "name": "stdout",
     "output_type": "stream",
     "text": [
      "Training until validation scores don't improve for 100 rounds\n",
      "[100]\ttrain's rmse: 4.04032\teval's rmse: 6.31713\n"
     ]
    },
    {
     "name": "stderr",
     "output_type": "stream",
     "text": [
      "num_leaves, val_score: 6.105994:  45%|####5     | 9/20 [00:04<00:04,  2.29it/s]\u001b[32m[I 2021-06-23 11:27:19,829]\u001b[0m Trial 15 finished with value: 6.290994267595509 and parameters: {'num_leaves': 99}. Best is trial 14 with value: 6.240668390619493.\u001b[0m\n",
      "num_leaves, val_score: 6.105994:  45%|####5     | 9/20 [00:04<00:04,  2.29it/s]"
     ]
    },
    {
     "name": "stdout",
     "output_type": "stream",
     "text": [
      "[200]\ttrain's rmse: 3.0774\teval's rmse: 6.32046\n",
      "Early stopping, best iteration is:\n",
      "[127]\ttrain's rmse: 3.69277\teval's rmse: 6.29099\n",
      "Training until validation scores don't improve for 100 rounds\n",
      "[100]\ttrain's rmse: 4.09719\teval's rmse: 6.30437\n",
      "[200]\ttrain's rmse: 3.15503\teval's rmse: 6.25623\n"
     ]
    },
    {
     "name": "stderr",
     "output_type": "stream",
     "text": [
      "num_leaves, val_score: 6.105994:  50%|####5    | 10/20 [00:04<00:04,  2.21it/s]\u001b[32m[I 2021-06-23 11:27:20,314]\u001b[0m Trial 16 finished with value: 6.242802418204374 and parameters: {'num_leaves': 46}. Best is trial 14 with value: 6.240668390619493.\u001b[0m\n",
      "num_leaves, val_score: 6.105994:  50%|####5    | 10/20 [00:04<00:04,  2.21it/s]"
     ]
    },
    {
     "name": "stdout",
     "output_type": "stream",
     "text": [
      "Early stopping, best iteration is:\n",
      "[183]\ttrain's rmse: 3.27335\teval's rmse: 6.2428\n",
      "Training until validation scores don't improve for 100 rounds\n",
      "[100]\ttrain's rmse: 5.87966\teval's rmse: 6.61114\n",
      "[200]\ttrain's rmse: 5.56111\teval's rmse: 6.40136\n"
     ]
    },
    {
     "name": "stderr",
     "output_type": "stream",
     "text": [
      "\r",
      "num_leaves, val_score: 6.105994:  50%|####5    | 10/20 [00:04<00:04,  2.21it/s]"
     ]
    },
    {
     "name": "stdout",
     "output_type": "stream",
     "text": [
      "[300]\ttrain's rmse: 5.36209\teval's rmse: 6.32086\n",
      "[400]\ttrain's rmse: 5.21324\teval's rmse: 6.26807\n",
      "[500]\ttrain's rmse: 5.09108\teval's rmse: 6.23423\n",
      "[600]\ttrain's rmse: 4.99468\teval's rmse: 6.21106\n",
      "[700]\ttrain's rmse: 4.9045\teval's rmse: 6.20407\n",
      "Early stopping, best iteration is:\n",
      "[651]\ttrain's rmse: 4.94531\teval's rmse: 6.19538\n"
     ]
    },
    {
     "name": "stderr",
     "output_type": "stream",
     "text": [
      "num_leaves, val_score: 6.105994:  55%|####9    | 11/20 [00:04<00:03,  2.37it/s]\u001b[32m[I 2021-06-23 11:27:20,677]\u001b[0m Trial 17 finished with value: 6.195379024345895 and parameters: {'num_leaves': 4}. Best is trial 17 with value: 6.195379024345895.\u001b[0m\n",
      "num_leaves, val_score: 6.105994:  55%|####9    | 11/20 [00:04<00:03,  2.37it/s]"
     ]
    },
    {
     "name": "stdout",
     "output_type": "stream",
     "text": [
      "Training until validation scores don't improve for 100 rounds\n",
      "[100]\ttrain's rmse: 5.87966\teval's rmse: 6.61114\n",
      "[200]\ttrain's rmse: 5.56111\teval's rmse: 6.40136\n",
      "[300]\ttrain's rmse: 5.36209\teval's rmse: 6.32086\n",
      "[400]\ttrain's rmse: 5.21324\teval's rmse: 6.26807\n"
     ]
    },
    {
     "name": "stderr",
     "output_type": "stream",
     "text": [
      "num_leaves, val_score: 6.105994:  60%|#####3   | 12/20 [00:05<00:03,  2.35it/s]\u001b[32m[I 2021-06-23 11:27:21,102]\u001b[0m Trial 18 finished with value: 6.195379024345895 and parameters: {'num_leaves': 4}. Best is trial 17 with value: 6.195379024345895.\u001b[0m\n",
      "num_leaves, val_score: 6.105994:  60%|#####3   | 12/20 [00:05<00:03,  2.35it/s]"
     ]
    },
    {
     "name": "stdout",
     "output_type": "stream",
     "text": [
      "[500]\ttrain's rmse: 5.09108\teval's rmse: 6.23423\n",
      "[600]\ttrain's rmse: 4.99468\teval's rmse: 6.21106\n",
      "[700]\ttrain's rmse: 4.9045\teval's rmse: 6.20407\n",
      "Early stopping, best iteration is:\n",
      "[651]\ttrain's rmse: 4.94531\teval's rmse: 6.19538\n",
      "Training until validation scores don't improve for 100 rounds\n",
      "[100]\ttrain's rmse: 5.55668\teval's rmse: 6.44346\n",
      "[200]\ttrain's rmse: 5.14502\teval's rmse: 6.33533\n",
      "[300]\ttrain's rmse: 4.85407\teval's rmse: 6.22604\n",
      "[400]\ttrain's rmse: 4.63358\teval's rmse: 6.185\n",
      "[500]\ttrain's rmse: 4.46461\teval's rmse: 6.17195\n"
     ]
    },
    {
     "name": "stderr",
     "output_type": "stream",
     "text": [
      "num_leaves, val_score: 6.105994:  65%|#####8   | 13/20 [00:05<00:02,  2.39it/s]\u001b[32m[I 2021-06-23 11:27:21,508]\u001b[0m Trial 19 finished with value: 6.158105028400962 and parameters: {'num_leaves': 7}. Best is trial 19 with value: 6.158105028400962.\u001b[0m\n",
      "num_leaves, val_score: 6.105994:  65%|#####8   | 13/20 [00:05<00:02,  2.39it/s]"
     ]
    },
    {
     "name": "stdout",
     "output_type": "stream",
     "text": [
      "[600]\ttrain's rmse: 4.31021\teval's rmse: 6.17312\n",
      "Early stopping, best iteration is:\n",
      "[569]\ttrain's rmse: 4.35741\teval's rmse: 6.15811\n",
      "Training until validation scores don't improve for 100 rounds\n",
      "[100]\ttrain's rmse: 5.55668\teval's rmse: 6.44346\n",
      "[200]\ttrain's rmse: 5.14502\teval's rmse: 6.33533\n",
      "[300]\ttrain's rmse: 4.85407\teval's rmse: 6.22604\n",
      "[400]\ttrain's rmse: 4.63358\teval's rmse: 6.185\n",
      "[500]\ttrain's rmse: 4.46461\teval's rmse: 6.17195\n",
      "[600]\ttrain's rmse: 4.31021\teval's rmse: 6.17312"
     ]
    },
    {
     "name": "stderr",
     "output_type": "stream",
     "text": [
      "num_leaves, val_score: 6.105994:  70%|######3  | 14/20 [00:06<00:02,  2.41it/s]\u001b[32m[I 2021-06-23 11:27:21,916]\u001b[0m Trial 20 finished with value: 6.158105028400962 and parameters: {'num_leaves': 7}. Best is trial 19 with value: 6.158105028400962.\u001b[0m\n",
      "num_leaves, val_score: 6.105994:  70%|######3  | 14/20 [00:06<00:02,  2.41it/s]"
     ]
    },
    {
     "name": "stdout",
     "output_type": "stream",
     "text": [
      "\n",
      "Early stopping, best iteration is:\n",
      "[569]\ttrain's rmse: 4.35741\teval's rmse: 6.15811\n",
      "Training until validation scores don't improve for 100 rounds\n",
      "[100]\ttrain's rmse: 5.03383\teval's rmse: 6.31727\n"
     ]
    },
    {
     "name": "stderr",
     "output_type": "stream",
     "text": [
      "num_leaves, val_score: 6.105994:  75%|######7  | 15/20 [00:06<00:01,  2.53it/s]\u001b[32m[I 2021-06-23 11:27:22,262]\u001b[0m Trial 21 finished with value: 6.164321155978402 and parameters: {'num_leaves': 15}. Best is trial 19 with value: 6.158105028400962.\u001b[0m\n",
      "num_leaves, val_score: 6.105994:  75%|######7  | 15/20 [00:06<00:01,  2.53it/s]"
     ]
    },
    {
     "name": "stdout",
     "output_type": "stream",
     "text": [
      "[200]\ttrain's rmse: 4.3881\teval's rmse: 6.19793\n",
      "[300]\ttrain's rmse: 3.98796\teval's rmse: 6.17614\n",
      "Early stopping, best iteration is:\n",
      "[285]\ttrain's rmse: 4.04261\teval's rmse: 6.16432\n",
      "Training until validation scores don't improve for 100 rounds\n",
      "[100]\ttrain's rmse: 4.50172\teval's rmse: 6.22425\n",
      "[200]\ttrain's rmse: 3.70921\teval's rmse: 6.18561\n",
      "Early stopping, best iteration is:\n",
      "[189]\ttrain's rmse: 3.77673\teval's rmse: 6.16367"
     ]
    },
    {
     "name": "stderr",
     "output_type": "stream",
     "text": [
      "num_leaves, val_score: 6.105994:  80%|#######2 | 16/20 [00:06<00:01,  2.57it/s]\u001b[32m[I 2021-06-23 11:27:22,643]\u001b[0m Trial 22 finished with value: 6.1636670735426735 and parameters: {'num_leaves': 27}. Best is trial 19 with value: 6.158105028400962.\u001b[0m\n",
      "num_leaves, val_score: 6.105994:  80%|#######2 | 16/20 [00:06<00:01,  2.57it/s]"
     ]
    },
    {
     "name": "stdout",
     "output_type": "stream",
     "text": [
      "\n",
      "Training until validation scores don't improve for 100 rounds\n",
      "[100]\ttrain's rmse: 4.04032\teval's rmse: 6.31713\n",
      "[200]\ttrain's rmse: 3.0774\teval's rmse: 6.32046\n"
     ]
    },
    {
     "name": "stderr",
     "output_type": "stream",
     "text": [
      "num_leaves, val_score: 6.105994:  85%|#######6 | 17/20 [00:07<00:01,  2.31it/s]\u001b[32m[I 2021-06-23 11:27:23,172]\u001b[0m Trial 23 finished with value: 6.290994267595509 and parameters: {'num_leaves': 166}. Best is trial 19 with value: 6.158105028400962.\u001b[0m\n",
      "num_leaves, val_score: 6.105994:  85%|#######6 | 17/20 [00:07<00:01,  2.31it/s]"
     ]
    },
    {
     "name": "stdout",
     "output_type": "stream",
     "text": [
      "Early stopping, best iteration is:\n",
      "[127]\ttrain's rmse: 3.69277\teval's rmse: 6.29099\n",
      "Training until validation scores don't improve for 100 rounds\n",
      "[100]\ttrain's rmse: 4.04032\teval's rmse: 6.31713\n",
      "[200]\ttrain's rmse: 3.0774\teval's rmse: 6.32046\n",
      "Early stopping, best iteration is:\n",
      "[127]\ttrain's rmse: 3.69277\teval's rmse: 6.29099\n"
     ]
    },
    {
     "name": "stderr",
     "output_type": "stream",
     "text": [
      "num_leaves, val_score: 6.105994:  90%|########1| 18/20 [00:07<00:00,  2.30it/s]\u001b[32m[I 2021-06-23 11:27:23,606]\u001b[0m Trial 24 finished with value: 6.290994267595509 and parameters: {'num_leaves': 70}. Best is trial 19 with value: 6.158105028400962.\u001b[0m\n",
      "num_leaves, val_score: 6.105994:  90%|########1| 18/20 [00:07<00:00,  2.30it/s]"
     ]
    },
    {
     "name": "stdout",
     "output_type": "stream",
     "text": [
      "Training until validation scores don't improve for 100 rounds\n",
      "[100]\ttrain's rmse: 4.04032\teval's rmse: 6.31713\n"
     ]
    },
    {
     "name": "stderr",
     "output_type": "stream",
     "text": [
      "num_leaves, val_score: 6.105994:  95%|########5| 19/20 [00:08<00:00,  2.32it/s]\u001b[32m[I 2021-06-23 11:27:24,041]\u001b[0m Trial 25 finished with value: 6.290994267595509 and parameters: {'num_leaves': 138}. Best is trial 19 with value: 6.158105028400962.\u001b[0m\n",
      "num_leaves, val_score: 6.105994:  95%|########5| 19/20 [00:08<00:00,  2.32it/s]"
     ]
    },
    {
     "name": "stdout",
     "output_type": "stream",
     "text": [
      "[200]\ttrain's rmse: 3.0774\teval's rmse: 6.32046\n",
      "Early stopping, best iteration is:\n",
      "[127]\ttrain's rmse: 3.69277\teval's rmse: 6.29099\n",
      "Training until validation scores don't improve for 100 rounds\n",
      "[100]\ttrain's rmse: 4.37906\teval's rmse: 6.21227\n",
      "[200]\ttrain's rmse: 3.53945\teval's rmse: 6.11144\n",
      "Early stopping, best iteration is:\n",
      "[184]\ttrain's rmse: 3.64157\teval's rmse: 6.10599\n"
     ]
    },
    {
     "name": "stderr",
     "output_type": "stream",
     "text": [
      "num_leaves, val_score: 6.105994: 100%|#########| 20/20 [00:08<00:00,  2.35it/s]\u001b[32m[I 2021-06-23 11:27:24,445]\u001b[0m Trial 26 finished with value: 6.105993760628477 and parameters: {'num_leaves': 31}. Best is trial 26 with value: 6.105993760628477.\u001b[0m\n",
      "num_leaves, val_score: 6.105994: 100%|#########| 20/20 [00:08<00:00,  2.31it/s]\n",
      "bagging, val_score: 6.105994:   0%|                     | 0/10 [00:00<?, ?it/s]"
     ]
    },
    {
     "name": "stdout",
     "output_type": "stream",
     "text": [
      "Training until validation scores don't improve for 100 rounds\n",
      "[100]\ttrain's rmse: 4.30269\teval's rmse: 6.20675\n"
     ]
    },
    {
     "name": "stderr",
     "output_type": "stream",
     "text": [
      "bagging, val_score: 6.105994:  10%|#3           | 1/10 [00:00<00:03,  2.30it/s]\u001b[32m[I 2021-06-23 11:27:24,890]\u001b[0m Trial 27 finished with value: 6.123613061705684 and parameters: {'bagging_fraction': 0.9245737465403758, 'bagging_freq': 7}. Best is trial 27 with value: 6.123613061705684.\u001b[0m\n",
      "bagging, val_score: 6.105994:  10%|#3           | 1/10 [00:00<00:03,  2.30it/s]"
     ]
    },
    {
     "name": "stdout",
     "output_type": "stream",
     "text": [
      "[200]\ttrain's rmse: 3.4761\teval's rmse: 6.14332\n",
      "Early stopping, best iteration is:\n",
      "[182]\ttrain's rmse: 3.59848\teval's rmse: 6.12361\n",
      "Training until validation scores don't improve for 100 rounds\n",
      "[100]\ttrain's rmse: 4.3573\teval's rmse: 6.2756\n"
     ]
    },
    {
     "name": "stderr",
     "output_type": "stream",
     "text": [
      "\r",
      "bagging, val_score: 6.105994:  10%|#3           | 1/10 [00:00<00:03,  2.30it/s]"
     ]
    },
    {
     "name": "stdout",
     "output_type": "stream",
     "text": [
      "[200]\ttrain's rmse: 3.51729\teval's rmse: 6.22272\n",
      "[300]\ttrain's rmse: 2.99983\teval's rmse: 6.26793\n",
      "Early stopping, best iteration is:\n",
      "[247]\ttrain's rmse: 3.25282\teval's rmse: 6.21413\n"
     ]
    },
    {
     "name": "stderr",
     "output_type": "stream",
     "text": [
      "bagging, val_score: 6.105994:  20%|##6          | 2/10 [00:00<00:03,  2.10it/s]\u001b[32m[I 2021-06-23 11:27:25,396]\u001b[0m Trial 28 finished with value: 6.214134096981693 and parameters: {'bagging_fraction': 0.7933258713338587, 'bagging_freq': 1}. Best is trial 27 with value: 6.123613061705684.\u001b[0m\n",
      "bagging, val_score: 6.105994:  20%|##6          | 2/10 [00:00<00:03,  2.10it/s]"
     ]
    },
    {
     "name": "stdout",
     "output_type": "stream",
     "text": [
      "Training until validation scores don't improve for 100 rounds\n",
      "[100]\ttrain's rmse: 4.31952\teval's rmse: 6.20269\n"
     ]
    },
    {
     "name": "stderr",
     "output_type": "stream",
     "text": [
      "\r",
      "bagging, val_score: 6.105994:  20%|##6          | 2/10 [00:01<00:03,  2.10it/s]"
     ]
    },
    {
     "name": "stdout",
     "output_type": "stream",
     "text": [
      "[200]\ttrain's rmse: 3.4584\teval's rmse: 6.11848\n",
      "[300]\ttrain's rmse: 2.95378\teval's rmse: 6.14437\n",
      "Early stopping, best iteration is:\n",
      "[249]\ttrain's rmse: 3.1865\teval's rmse: 6.11038\n"
     ]
    },
    {
     "name": "stderr",
     "output_type": "stream",
     "text": [
      "bagging, val_score: 6.105994:  30%|###9         | 3/10 [00:01<00:03,  2.09it/s]\u001b[32m[I 2021-06-23 11:27:25,881]\u001b[0m Trial 29 finished with value: 6.110380905185738 and parameters: {'bagging_fraction': 0.9052721901022848, 'bagging_freq': 7}. Best is trial 29 with value: 6.110380905185738.\u001b[0m\n",
      "bagging, val_score: 6.105994:  30%|###9         | 3/10 [00:01<00:03,  2.09it/s]"
     ]
    },
    {
     "name": "stdout",
     "output_type": "stream",
     "text": [
      "Training until validation scores don't improve for 100 rounds\n",
      "[100]\ttrain's rmse: 4.39962\teval's rmse: 6.3601\n"
     ]
    },
    {
     "name": "stderr",
     "output_type": "stream",
     "text": [
      "bagging, val_score: 6.105994:  40%|#####2       | 4/10 [00:01<00:02,  2.18it/s]\u001b[32m[I 2021-06-23 11:27:26,305]\u001b[0m Trial 30 finished with value: 6.290376887759765 and parameters: {'bagging_fraction': 0.7245708331444924, 'bagging_freq': 1}. Best is trial 29 with value: 6.110380905185738.\u001b[0m\n",
      "bagging, val_score: 6.105994:  40%|#####2       | 4/10 [00:01<00:02,  2.18it/s]"
     ]
    },
    {
     "name": "stdout",
     "output_type": "stream",
     "text": [
      "[200]\ttrain's rmse: 3.556\teval's rmse: 6.30475\n",
      "[300]\ttrain's rmse: 3.03651\teval's rmse: 6.33536\n",
      "Early stopping, best iteration is:\n",
      "[213]\ttrain's rmse: 3.47646\teval's rmse: 6.29038\n",
      "Training until validation scores don't improve for 100 rounds\n",
      "[100]\ttrain's rmse: 4.58071\teval's rmse: 6.33614\n",
      "[200]\ttrain's rmse: 3.77238\teval's rmse: 6.25122\n",
      "[300]\ttrain's rmse: 3.2862\teval's rmse: 6.29792\n"
     ]
    },
    {
     "name": "stderr",
     "output_type": "stream",
     "text": [
      "bagging, val_score: 6.105994:  50%|######5      | 5/10 [00:02<00:02,  2.27it/s]\u001b[32m[I 2021-06-23 11:27:26,716]\u001b[0m Trial 31 finished with value: 6.238406612561883 and parameters: {'bagging_fraction': 0.617739498234964, 'bagging_freq': 7}. Best is trial 29 with value: 6.110380905185738.\u001b[0m\n",
      "bagging, val_score: 6.105994:  50%|######5      | 5/10 [00:02<00:02,  2.27it/s]"
     ]
    },
    {
     "name": "stdout",
     "output_type": "stream",
     "text": [
      "Early stopping, best iteration is:\n",
      "[210]\ttrain's rmse: 3.71806\teval's rmse: 6.23841\n",
      "Training until validation scores don't improve for 100 rounds\n",
      "[100]\ttrain's rmse: 4.5877\teval's rmse: 6.39413\n",
      "[200]\ttrain's rmse: 3.82706\teval's rmse: 6.29072\n"
     ]
    },
    {
     "name": "stderr",
     "output_type": "stream",
     "text": [
      "\r",
      "bagging, val_score: 6.105994:  50%|######5      | 5/10 [00:02<00:02,  2.27it/s]"
     ]
    },
    {
     "name": "stdout",
     "output_type": "stream",
     "text": [
      "[300]\ttrain's rmse: 3.34383\teval's rmse: 6.27409\n",
      "[400]\ttrain's rmse: 2.97288\teval's rmse: 6.30422\n",
      "Early stopping, best iteration is:\n",
      "[349]\ttrain's rmse: 3.14302\teval's rmse: 6.26455\n"
     ]
    },
    {
     "name": "stderr",
     "output_type": "stream",
     "text": [
      "bagging, val_score: 6.105994:  60%|#######8     | 6/10 [00:02<00:02,  1.95it/s]\u001b[32m[I 2021-06-23 11:27:27,372]\u001b[0m Trial 32 finished with value: 6.264549028625879 and parameters: {'bagging_fraction': 0.5978617974066488, 'bagging_freq': 5}. Best is trial 29 with value: 6.110380905185738.\u001b[0m\n",
      "bagging, val_score: 6.105994:  60%|#######8     | 6/10 [00:02<00:02,  1.95it/s]"
     ]
    },
    {
     "name": "stdout",
     "output_type": "stream",
     "text": [
      "Training until validation scores don't improve for 100 rounds\n",
      "[100]\ttrain's rmse: 4.90537\teval's rmse: 6.4127\n",
      "[200]\ttrain's rmse: 4.22515\teval's rmse: 6.41622\n"
     ]
    },
    {
     "name": "stderr",
     "output_type": "stream",
     "text": [
      "bagging, val_score: 6.105994:  70%|#########1   | 7/10 [00:03<00:01,  2.07it/s]\u001b[32m[I 2021-06-23 11:27:27,796]\u001b[0m Trial 33 finished with value: 6.343947704340082 and parameters: {'bagging_fraction': 0.42404256797074324, 'bagging_freq': 4}. Best is trial 29 with value: 6.110380905185738.\u001b[0m\n",
      "bagging, val_score: 6.105994:  70%|#########1   | 7/10 [00:03<00:01,  2.07it/s]"
     ]
    },
    {
     "name": "stdout",
     "output_type": "stream",
     "text": [
      "[300]\ttrain's rmse: 3.76663\teval's rmse: 6.35484\n",
      "Early stopping, best iteration is:\n",
      "[296]\ttrain's rmse: 3.78479\teval's rmse: 6.34395\n",
      "Training until validation scores don't improve for 100 rounds\n"
     ]
    },
    {
     "name": "stderr",
     "output_type": "stream",
     "text": [
      "\r",
      "bagging, val_score: 6.105994:  70%|#########1   | 7/10 [00:03<00:01,  2.07it/s]"
     ]
    },
    {
     "name": "stdout",
     "output_type": "stream",
     "text": [
      "[100]\ttrain's rmse: 4.67174\teval's rmse: 6.38909\n",
      "[200]\ttrain's rmse: 3.87874\teval's rmse: 6.33605\n",
      "Early stopping, best iteration is:\n",
      "[179]\ttrain's rmse: 4.00312\teval's rmse: 6.31108\n"
     ]
    },
    {
     "name": "stderr",
     "output_type": "stream",
     "text": [
      "bagging, val_score: 6.105994:  80%|##########4  | 8/10 [00:03<00:00,  2.25it/s]\u001b[32m[I 2021-06-23 11:27:28,151]\u001b[0m Trial 34 finished with value: 6.311076218634822 and parameters: {'bagging_fraction': 0.5185465062577133, 'bagging_freq': 1}. Best is trial 29 with value: 6.110380905185738.\u001b[0m\n",
      "bagging, val_score: 6.105994:  80%|##########4  | 8/10 [00:03<00:00,  2.25it/s]"
     ]
    },
    {
     "name": "stdout",
     "output_type": "stream",
     "text": [
      "Training until validation scores don't improve for 100 rounds\n",
      "[100]\ttrain's rmse: 4.26219\teval's rmse: 6.17795\n",
      "[200]\ttrain's rmse: 3.44311\teval's rmse: 6.14859\n"
     ]
    },
    {
     "name": "stderr",
     "output_type": "stream",
     "text": [
      "bagging, val_score: 6.105994:  90%|###########7 | 9/10 [00:04<00:00,  2.48it/s]\u001b[32m[I 2021-06-23 11:27:28,472]\u001b[0m Trial 35 finished with value: 6.130858545306986 and parameters: {'bagging_fraction': 0.9995383793014103, 'bagging_freq': 6}. Best is trial 29 with value: 6.110380905185738.\u001b[0m\n",
      "bagging, val_score: 6.105994:  90%|###########7 | 9/10 [00:04<00:00,  2.48it/s]"
     ]
    },
    {
     "name": "stdout",
     "output_type": "stream",
     "text": [
      "Early stopping, best iteration is:\n",
      "[129]\ttrain's rmse: 3.94843\teval's rmse: 6.13086\n",
      "Training until validation scores don't improve for 100 rounds\n",
      "[100]\ttrain's rmse: 4.65032\teval's rmse: 6.40632\n",
      "[200]\ttrain's rmse: 3.85771\teval's rmse: 6.29103\n",
      "[300]\ttrain's rmse: 3.35507\teval's rmse: 6.32397\n",
      "Early stopping, best iteration is:\n",
      "[217]\ttrain's rmse: 3.75886\teval's rmse: 6.28443\n"
     ]
    },
    {
     "name": "stderr",
     "output_type": "stream",
     "text": [
      "bagging, val_score: 6.105994: 100%|############| 10/10 [00:04<00:00,  2.30it/s]\u001b[32m[I 2021-06-23 11:27:28,970]\u001b[0m Trial 36 finished with value: 6.284432764193175 and parameters: {'bagging_fraction': 0.5712367327216488, 'bagging_freq': 3}. Best is trial 29 with value: 6.110380905185738.\u001b[0m\n",
      "bagging, val_score: 6.105994: 100%|############| 10/10 [00:04<00:00,  2.21it/s]\n",
      "feature_fraction_stage2, val_score: 6.105994:   0%|      | 0/6 [00:00<?, ?it/s]"
     ]
    },
    {
     "name": "stdout",
     "output_type": "stream",
     "text": [
      "Training until validation scores don't improve for 100 rounds\n",
      "[100]\ttrain's rmse: 4.38572\teval's rmse: 6.24996\n"
     ]
    },
    {
     "name": "stderr",
     "output_type": "stream",
     "text": [
      "feature_fraction_stage2, val_score: 6.105994:  17%|1| 1/6 [00:00<00:02,  2.41it\u001b[32m[I 2021-06-23 11:27:29,403]\u001b[0m Trial 37 finished with value: 6.179639887642084 and parameters: {'feature_fraction': 0.6839999999999999}. Best is trial 37 with value: 6.179639887642084.\u001b[0m\n",
      "feature_fraction_stage2, val_score: 6.105994:  17%|1| 1/6 [00:00<00:02,  2.41it"
     ]
    },
    {
     "name": "stdout",
     "output_type": "stream",
     "text": [
      "[200]\ttrain's rmse: 3.56209\teval's rmse: 6.19156\n",
      "[300]\ttrain's rmse: 3.06371\teval's rmse: 6.21649\n",
      "Early stopping, best iteration is:\n",
      "[211]\ttrain's rmse: 3.49481\teval's rmse: 6.17964\n",
      "Training until validation scores don't improve for 100 rounds\n",
      "[100]\ttrain's rmse: 4.36819\teval's rmse: 6.18022\n",
      "[200]\ttrain's rmse: 3.52873\teval's rmse: 6.15037\n",
      "Early stopping, best iteration is:\n",
      "[180]\ttrain's rmse: 3.65762\teval's rmse: 6.14122\n"
     ]
    },
    {
     "name": "stderr",
     "output_type": "stream",
     "text": [
      "feature_fraction_stage2, val_score: 6.105994:  33%|3| 2/6 [00:00<00:01,  2.48it\u001b[32m[I 2021-06-23 11:27:29,799]\u001b[0m Trial 38 finished with value: 6.1412152866366245 and parameters: {'feature_fraction': 0.7799999999999999}. Best is trial 38 with value: 6.1412152866366245.\u001b[0m\n",
      "feature_fraction_stage2, val_score: 6.105994:  33%|3| 2/6 [00:00<00:01,  2.48it"
     ]
    },
    {
     "name": "stdout",
     "output_type": "stream",
     "text": [
      "Training until validation scores don't improve for 100 rounds\n",
      "[100]\ttrain's rmse: 4.38986\teval's rmse: 6.19607\n",
      "[200]\ttrain's rmse: 3.54053\teval's rmse: 6.19094\n"
     ]
    },
    {
     "name": "stderr",
     "output_type": "stream",
     "text": [
      "feature_fraction_stage2, val_score: 6.105994:  50%|5| 3/6 [00:01<00:01,  2.32it\u001b[32m[I 2021-06-23 11:27:30,254]\u001b[0m Trial 39 finished with value: 6.16434518384985 and parameters: {'feature_fraction': 0.748}. Best is trial 38 with value: 6.1412152866366245.\u001b[0m\n",
      "feature_fraction_stage2, val_score: 6.105994:  50%|5| 3/6 [00:01<00:01,  2.32it"
     ]
    },
    {
     "name": "stdout",
     "output_type": "stream",
     "text": [
      "[300]\ttrain's rmse: 3.02362\teval's rmse: 6.19318\n",
      "Early stopping, best iteration is:\n",
      "[248]\ttrain's rmse: 3.26754\teval's rmse: 6.16435\n",
      "Training until validation scores don't improve for 100 rounds\n",
      "[100]\ttrain's rmse: 4.37906\teval's rmse: 6.21227\n",
      "[200]\ttrain's rmse: 3.53945\teval's rmse: 6.11144\n",
      "Early stopping, best iteration is:\n",
      "[184]\ttrain's rmse: 3.64157\teval's rmse: 6.10599\n"
     ]
    },
    {
     "name": "stderr",
     "output_type": "stream",
     "text": [
      "feature_fraction_stage2, val_score: 6.105994:  67%|6| 4/6 [00:01<00:00,  2.40it\u001b[32m[I 2021-06-23 11:27:30,656]\u001b[0m Trial 40 finished with value: 6.105993760628477 and parameters: {'feature_fraction': 0.716}. Best is trial 40 with value: 6.105993760628477.\u001b[0m\n",
      "feature_fraction_stage2, val_score: 6.105994:  67%|6| 4/6 [00:01<00:00,  2.40it"
     ]
    },
    {
     "name": "stdout",
     "output_type": "stream",
     "text": [
      "Training until validation scores don't improve for 100 rounds\n",
      "[100]\ttrain's rmse: 4.38186\teval's rmse: 6.25209\n"
     ]
    },
    {
     "name": "stderr",
     "output_type": "stream",
     "text": [
      "feature_fraction_stage2, val_score: 6.105994:  83%|8| 5/6 [00:02<00:00,  2.23it\u001b[32m[I 2021-06-23 11:27:31,153]\u001b[0m Trial 41 finished with value: 6.17822513913773 and parameters: {'feature_fraction': 0.652}. Best is trial 40 with value: 6.105993760628477.\u001b[0m\n",
      "feature_fraction_stage2, val_score: 6.105994:  83%|8| 5/6 [00:02<00:00,  2.23it"
     ]
    },
    {
     "name": "stdout",
     "output_type": "stream",
     "text": [
      "[200]\ttrain's rmse: 3.56261\teval's rmse: 6.18269\n",
      "[300]\ttrain's rmse: 3.06446\teval's rmse: 6.23752\n",
      "Early stopping, best iteration is:\n",
      "[206]\ttrain's rmse: 3.52794\teval's rmse: 6.17823\n",
      "Training until validation scores don't improve for 100 rounds\n"
     ]
    },
    {
     "name": "stderr",
     "output_type": "stream",
     "text": [
      "\r",
      "feature_fraction_stage2, val_score: 6.105994:  83%|8| 5/6 [00:02<00:00,  2.23it"
     ]
    },
    {
     "name": "stdout",
     "output_type": "stream",
     "text": [
      "[100]\ttrain's rmse: 4.41422\teval's rmse: 6.30032\n",
      "[200]\ttrain's rmse: 3.5861\teval's rmse: 6.25438\n",
      "Early stopping, best iteration is:\n",
      "[153]\ttrain's rmse: 3.90674\teval's rmse: 6.24253\n"
     ]
    },
    {
     "name": "stderr",
     "output_type": "stream",
     "text": [
      "feature_fraction_stage2, val_score: 6.105994: 100%|#| 6/6 [00:02<00:00,  2.40it\u001b[32m[I 2021-06-23 11:27:31,511]\u001b[0m Trial 42 finished with value: 6.242531743492784 and parameters: {'feature_fraction': 0.62}. Best is trial 40 with value: 6.105993760628477.\u001b[0m\n",
      "feature_fraction_stage2, val_score: 6.105994: 100%|#| 6/6 [00:02<00:00,  2.37it\n",
      "regularization_factors, val_score: 6.105994:   0%|      | 0/20 [00:00<?, ?it/s]"
     ]
    },
    {
     "name": "stdout",
     "output_type": "stream",
     "text": [
      "Training until validation scores don't improve for 100 rounds\n",
      "[100]\ttrain's rmse: 4.37842\teval's rmse: 6.18213\n"
     ]
    },
    {
     "name": "stderr",
     "output_type": "stream",
     "text": [
      "regularization_factors, val_score: 6.105994:   5%| | 1/20 [00:00<00:07,  2.45it\u001b[32m[I 2021-06-23 11:27:31,928]\u001b[0m Trial 43 finished with value: 6.127441247803985 and parameters: {'lambda_l1': 0.0011577080466759458, 'lambda_l2': 0.0039202161852658415}. Best is trial 43 with value: 6.127441247803985.\u001b[0m\n",
      "regularization_factors, val_score: 6.105994:   5%| | 1/20 [00:00<00:07,  2.45it"
     ]
    },
    {
     "name": "stdout",
     "output_type": "stream",
     "text": [
      "[200]\ttrain's rmse: 3.5565\teval's rmse: 6.13816\n",
      "Early stopping, best iteration is:\n",
      "[183]\ttrain's rmse: 3.65687\teval's rmse: 6.12744\n",
      "Training until validation scores don't improve for 100 rounds\n",
      "[100]\ttrain's rmse: 4.37181\teval's rmse: 6.17803\n",
      "[200]\ttrain's rmse: 3.54916\teval's rmse: 6.11772\n"
     ]
    },
    {
     "name": "stderr",
     "output_type": "stream",
     "text": [
      "regularization_factors, val_score: 6.102349:  10%|1| 2/20 [00:00<00:07,  2.32it\u001b[32m[I 2021-06-23 11:27:32,373]\u001b[0m Trial 44 finished with value: 6.102348602698796 and parameters: {'lambda_l1': 0.00029182394714448185, 'lambda_l2': 0.24428798914857894}. Best is trial 44 with value: 6.102348602698796.\u001b[0m\n",
      "regularization_factors, val_score: 6.102349:  10%|1| 2/20 [00:00<00:07,  2.32it"
     ]
    },
    {
     "name": "stdout",
     "output_type": "stream",
     "text": [
      "[300]\ttrain's rmse: 3.04541\teval's rmse: 6.15078\n",
      "Early stopping, best iteration is:\n",
      "[209]\ttrain's rmse: 3.49831\teval's rmse: 6.10235\n",
      "Training until validation scores don't improve for 100 rounds\n",
      "[100]\ttrain's rmse: 4.5222\teval's rmse: 6.25626\n",
      "[200]\ttrain's rmse: 3.69568\teval's rmse: 6.20653\n",
      "[300]\ttrain's rmse: 3.19077\teval's rmse: 6.21438\n"
     ]
    },
    {
     "name": "stderr",
     "output_type": "stream",
     "text": [
      "regularization_factors, val_score: 6.102349:  15%|1| 3/20 [00:01<00:08,  2.07it\u001b[32m[I 2021-06-23 11:27:32,927]\u001b[0m Trial 45 finished with value: 6.174597338676946 and parameters: {'lambda_l1': 1.286631980962306e-06, 'lambda_l2': 3.6910725219161664}. Best is trial 44 with value: 6.102348602698796.\u001b[0m\n",
      "regularization_factors, val_score: 6.102349:  15%|1| 3/20 [00:01<00:08,  2.07it"
     ]
    },
    {
     "name": "stdout",
     "output_type": "stream",
     "text": [
      "Early stopping, best iteration is:\n",
      "[249]\ttrain's rmse: 3.42327\teval's rmse: 6.1746\n",
      "Training until validation scores don't improve for 100 rounds\n",
      "[100]\ttrain's rmse: 4.41118\teval's rmse: 6.18537\n",
      "[200]\ttrain's rmse: 3.59321\teval's rmse: 6.12431\n",
      "Early stopping, best iteration is:\n",
      "[190]\ttrain's rmse: 3.64905\teval's rmse: 6.11557\n"
     ]
    },
    {
     "name": "stderr",
     "output_type": "stream",
     "text": [
      "regularization_factors, val_score: 6.102349:  20%|2| 4/20 [00:01<00:07,  2.14it\u001b[32m[I 2021-06-23 11:27:33,363]\u001b[0m Trial 46 finished with value: 6.115566658476653 and parameters: {'lambda_l1': 1.3246006792270807e-06, 'lambda_l2': 0.8383115502172831}. Best is trial 44 with value: 6.102348602698796.\u001b[0m\n",
      "regularization_factors, val_score: 6.102349:  20%|2| 4/20 [00:01<00:07,  2.14it"
     ]
    },
    {
     "name": "stdout",
     "output_type": "stream",
     "text": [
      "Training until validation scores don't improve for 100 rounds\n",
      "[100]\ttrain's rmse: 4.37906\teval's rmse: 6.21227\n"
     ]
    },
    {
     "name": "stderr",
     "output_type": "stream",
     "text": [
      "regularization_factors, val_score: 6.102349:  25%|2| 5/20 [00:02<00:06,  2.26it\u001b[32m[I 2021-06-23 11:27:33,757]\u001b[0m Trial 47 finished with value: 6.1059937657604415 and parameters: {'lambda_l1': 5.676175528224634e-06, 'lambda_l2': 2.396405825370966e-06}. Best is trial 44 with value: 6.102348602698796.\u001b[0m\n",
      "regularization_factors, val_score: 6.102349:  25%|2| 5/20 [00:02<00:06,  2.26it"
     ]
    },
    {
     "name": "stdout",
     "output_type": "stream",
     "text": [
      "[200]\ttrain's rmse: 3.53945\teval's rmse: 6.11144\n",
      "Early stopping, best iteration is:\n",
      "[184]\ttrain's rmse: 3.64157\teval's rmse: 6.10599\n",
      "Training until validation scores don't improve for 100 rounds\n",
      "[100]\ttrain's rmse: 4.38403\teval's rmse: 6.22158\n",
      "[200]\ttrain's rmse: 3.54001\teval's rmse: 6.17852\n"
     ]
    },
    {
     "name": "stderr",
     "output_type": "stream",
     "text": [
      "regularization_factors, val_score: 6.102349:  30%|3| 6/20 [00:02<00:06,  2.24it\u001b[32m[I 2021-06-23 11:27:34,212]\u001b[0m Trial 48 finished with value: 6.166824032266352 and parameters: {'lambda_l1': 0.011025149655946809, 'lambda_l2': 0.011352445396381111}. Best is trial 44 with value: 6.102348602698796.\u001b[0m\n",
      "regularization_factors, val_score: 6.102349:  30%|3| 6/20 [00:02<00:06,  2.24it"
     ]
    },
    {
     "name": "stdout",
     "output_type": "stream",
     "text": [
      "[300]\ttrain's rmse: 3.03787\teval's rmse: 6.22578\n",
      "Early stopping, best iteration is:\n",
      "[227]\ttrain's rmse: 3.38668\teval's rmse: 6.16682\n",
      "Training until validation scores don't improve for 100 rounds\n",
      "[100]\ttrain's rmse: 4.39633\teval's rmse: 6.24335\n",
      "[200]\ttrain's rmse: 3.58278\teval's rmse: 6.17813\n"
     ]
    },
    {
     "name": "stderr",
     "output_type": "stream",
     "text": [
      "regularization_factors, val_score: 6.102349:  35%|3| 7/20 [00:03<00:05,  2.30it\u001b[32m[I 2021-06-23 11:27:34,626]\u001b[0m Trial 49 finished with value: 6.168944242743216 and parameters: {'lambda_l1': 1.5050695726335062, 'lambda_l2': 0.06921270636584918}. Best is trial 44 with value: 6.102348602698796.\u001b[0m\n",
      "regularization_factors, val_score: 6.102349:  35%|3| 7/20 [00:03<00:05,  2.30it"
     ]
    },
    {
     "name": "stdout",
     "output_type": "stream",
     "text": [
      "Early stopping, best iteration is:\n",
      "[193]\ttrain's rmse: 3.62611\teval's rmse: 6.16894\n",
      "Training until validation scores don't improve for 100 rounds\n",
      "[100]\ttrain's rmse: 4.38916\teval's rmse: 6.24608\n"
     ]
    },
    {
     "name": "stderr",
     "output_type": "stream",
     "text": [
      "regularization_factors, val_score: 6.102349:  40%|4| 8/20 [00:03<00:05,  2.22it\u001b[32m[I 2021-06-23 11:27:35,119]\u001b[0m Trial 50 finished with value: 6.178275192867236 and parameters: {'lambda_l1': 3.891856818342972e-06, 'lambda_l2': 0.026550749377545688}. Best is trial 44 with value: 6.102348602698796.\u001b[0m\n",
      "regularization_factors, val_score: 6.102349:  40%|4| 8/20 [00:03<00:05,  2.22it"
     ]
    },
    {
     "name": "stdout",
     "output_type": "stream",
     "text": [
      "[200]\ttrain's rmse: 3.55201\teval's rmse: 6.19662\n",
      "Early stopping, best iteration is:\n",
      "[183]\ttrain's rmse: 3.66073\teval's rmse: 6.17828\n",
      "Training until validation scores don't improve for 100 rounds\n",
      "[100]\ttrain's rmse: 4.37906\teval's rmse: 6.21227\n",
      "[200]\ttrain's rmse: 3.53945\teval's rmse: 6.11144\n"
     ]
    },
    {
     "name": "stderr",
     "output_type": "stream",
     "text": [
      "regularization_factors, val_score: 6.102349:  45%|4| 9/20 [00:04<00:04,  2.27it\u001b[32m[I 2021-06-23 11:27:35,536]\u001b[0m Trial 51 finished with value: 6.105993771210348 and parameters: {'lambda_l1': 1.3757791333275456e-05, 'lambda_l2': 3.655708875159382e-08}. Best is trial 44 with value: 6.102348602698796.\u001b[0m\n",
      "regularization_factors, val_score: 6.102349:  45%|4| 9/20 [00:04<00:04,  2.27it"
     ]
    },
    {
     "name": "stdout",
     "output_type": "stream",
     "text": [
      "Early stopping, best iteration is:\n",
      "[184]\ttrain's rmse: 3.64157\teval's rmse: 6.10599\n",
      "Training until validation scores don't improve for 100 rounds\n",
      "[100]\ttrain's rmse: 4.37906\teval's rmse: 6.21227\n"
     ]
    },
    {
     "name": "stderr",
     "output_type": "stream",
     "text": [
      "regularization_factors, val_score: 6.102349:  50%|5| 10/20 [00:04<00:04,  2.32i\u001b[32m[I 2021-06-23 11:27:35,948]\u001b[0m Trial 52 finished with value: 6.105993765436134 and parameters: {'lambda_l1': 4.830735129428473e-06, 'lambda_l2': 5.479070968022105e-07}. Best is trial 44 with value: 6.102348602698796.\u001b[0m\n",
      "regularization_factors, val_score: 6.102349:  50%|5| 10/20 [00:04<00:04,  2.32i"
     ]
    },
    {
     "name": "stdout",
     "output_type": "stream",
     "text": [
      "[200]\ttrain's rmse: 3.53945\teval's rmse: 6.11144\n",
      "Early stopping, best iteration is:\n",
      "[184]\ttrain's rmse: 3.64157\teval's rmse: 6.10599\n",
      "Training until validation scores don't improve for 100 rounds\n",
      "[100]\ttrain's rmse: 4.37906\teval's rmse: 6.21227\n",
      "[200]\ttrain's rmse: 3.53945\teval's rmse: 6.11144\n"
     ]
    },
    {
     "name": "stderr",
     "output_type": "stream",
     "text": [
      "regularization_factors, val_score: 6.102349:  55%|5| 11/20 [00:04<00:03,  2.30i\u001b[32m[I 2021-06-23 11:27:36,386]\u001b[0m Trial 53 finished with value: 6.105993772523771 and parameters: {'lambda_l1': 1.1980238056086856e-08, 'lambda_l2': 7.691838191265592e-05}. Best is trial 44 with value: 6.102348602698796.\u001b[0m\n",
      "regularization_factors, val_score: 6.102349:  55%|5| 11/20 [00:04<00:03,  2.30i"
     ]
    },
    {
     "name": "stdout",
     "output_type": "stream",
     "text": [
      "Early stopping, best iteration is:\n",
      "[184]\ttrain's rmse: 3.64157\teval's rmse: 6.10599\n",
      "Training until validation scores don't improve for 100 rounds\n",
      "[100]\ttrain's rmse: 4.37906\teval's rmse: 6.21227\n"
     ]
    },
    {
     "name": "stderr",
     "output_type": "stream",
     "text": [
      "regularization_factors, val_score: 6.102349:  60%|6| 12/20 [00:05<00:03,  2.25i"
     ]
    },
    {
     "name": "stdout",
     "output_type": "stream",
     "text": [
      "[200]\ttrain's rmse: 3.53945\teval's rmse: 6.11144\n",
      "Early stopping, best iteration is:\n",
      "[184]\ttrain's rmse: 3.64157\teval's rmse: 6.10599\n"
     ]
    },
    {
     "name": "stderr",
     "output_type": "stream",
     "text": [
      "\u001b[32m[I 2021-06-23 11:27:36,851]\u001b[0m Trial 54 finished with value: 6.105993760830671 and parameters: {'lambda_l1': 1.0162376564064382e-08, 'lambda_l2': 2.5102775425524383e-08}. Best is trial 44 with value: 6.102348602698796.\u001b[0m\n",
      "regularization_factors, val_score: 6.102349:  60%|6| 12/20 [00:05<00:03,  2.25i"
     ]
    },
    {
     "name": "stdout",
     "output_type": "stream",
     "text": [
      "Training until validation scores don't improve for 100 rounds\n",
      "[100]\ttrain's rmse: 4.37906\teval's rmse: 6.21227\n"
     ]
    },
    {
     "name": "stderr",
     "output_type": "stream",
     "text": [
      "regularization_factors, val_score: 6.102349:  65%|6| 13/20 [00:05<00:03,  2.25i\u001b[32m[I 2021-06-23 11:27:37,299]\u001b[0m Trial 55 finished with value: 6.10599377247697 and parameters: {'lambda_l1': 2.364561312527386e-08, 'lambda_l2': 8.650667339294548e-05}. Best is trial 44 with value: 6.102348602698796.\u001b[0m\n",
      "regularization_factors, val_score: 6.102349:  65%|6| 13/20 [00:05<00:03,  2.25i"
     ]
    },
    {
     "name": "stdout",
     "output_type": "stream",
     "text": [
      "[200]\ttrain's rmse: 3.53946\teval's rmse: 6.11144\n",
      "Early stopping, best iteration is:\n",
      "[184]\ttrain's rmse: 3.64157\teval's rmse: 6.10599\n",
      "Training until validation scores don't improve for 100 rounds\n",
      "[100]\ttrain's rmse: 4.47404\teval's rmse: 6.21824\n",
      "[200]\ttrain's rmse: 3.68342\teval's rmse: 6.1325\n"
     ]
    },
    {
     "name": "stderr",
     "output_type": "stream",
     "text": [
      "regularization_factors, val_score: 6.102349:  70%|7| 14/20 [00:06<00:02,  2.15i\u001b[32m[I 2021-06-23 11:27:37,806]\u001b[0m Trial 56 finished with value: 6.108818923815378 and parameters: {'lambda_l1': 5.63067708915283, 'lambda_l2': 1.047800455746878e-08}. Best is trial 44 with value: 6.102348602698796.\u001b[0m\n",
      "regularization_factors, val_score: 6.102349:  70%|7| 14/20 [00:06<00:02,  2.15i"
     ]
    },
    {
     "name": "stdout",
     "output_type": "stream",
     "text": [
      "[300]\ttrain's rmse: 3.19967\teval's rmse: 6.14974\n",
      "Early stopping, best iteration is:\n",
      "[258]\ttrain's rmse: 3.38338\teval's rmse: 6.10882\n",
      "Training until validation scores don't improve for 100 rounds\n",
      "[100]\ttrain's rmse: 4.60337\teval's rmse: 6.25611\n",
      "[200]\ttrain's rmse: 3.75373\teval's rmse: 6.15666\n"
     ]
    },
    {
     "name": "stderr",
     "output_type": "stream",
     "text": [
      "regularization_factors, val_score: 6.102349:  75%|7| 15/20 [00:06<00:02,  2.09i\u001b[32m[I 2021-06-23 11:27:38,311]\u001b[0m Trial 57 finished with value: 6.139547718682755 and parameters: {'lambda_l1': 0.06921580073413858, 'lambda_l2': 5.89811974933073}. Best is trial 44 with value: 6.102348602698796.\u001b[0m\n",
      "regularization_factors, val_score: 6.102349:  75%|7| 15/20 [00:06<00:02,  2.09i"
     ]
    },
    {
     "name": "stdout",
     "output_type": "stream",
     "text": [
      "[300]\ttrain's rmse: 3.2478\teval's rmse: 6.18617\n",
      "Early stopping, best iteration is:\n",
      "[251]\ttrain's rmse: 3.47617\teval's rmse: 6.13955\n",
      "Training until validation scores don't improve for 100 rounds\n",
      "[100]\ttrain's rmse: 4.37655\teval's rmse: 6.21795\n",
      "[200]\ttrain's rmse: 3.54009\teval's rmse: 6.1549\n"
     ]
    },
    {
     "name": "stderr",
     "output_type": "stream",
     "text": [
      "regularization_factors, val_score: 6.102349:  80%|8| 16/20 [00:07<00:01,  2.14i\u001b[32m[I 2021-06-23 11:27:38,756]\u001b[0m Trial 58 finished with value: 6.128502193881764 and parameters: {'lambda_l1': 9.842266979268645e-08, 'lambda_l2': 0.0007445182772073249}. Best is trial 44 with value: 6.102348602698796.\u001b[0m\n",
      "regularization_factors, val_score: 6.102349:  80%|8| 16/20 [00:07<00:01,  2.14i"
     ]
    },
    {
     "name": "stdout",
     "output_type": "stream",
     "text": [
      "Early stopping, best iteration is:\n",
      "[187]\ttrain's rmse: 3.61922\teval's rmse: 6.1285\n",
      "Training until validation scores don't improve for 100 rounds\n",
      "[100]\ttrain's rmse: 4.37906\teval's rmse: 6.21227\n",
      "[200]\ttrain's rmse: 3.53946\teval's rmse: 6.11144\n"
     ]
    },
    {
     "name": "stderr",
     "output_type": "stream",
     "text": [
      "regularization_factors, val_score: 6.102349:  85%|8| 17/20 [00:07<00:01,  2.13i\u001b[32m[I 2021-06-23 11:27:39,239]\u001b[0m Trial 59 finished with value: 6.105994027138591 and parameters: {'lambda_l1': 0.0003439006022011155, 'lambda_l2': 4.4174921036305266e-06}. Best is trial 44 with value: 6.102348602698796.\u001b[0m\n",
      "regularization_factors, val_score: 6.102349:  85%|8| 17/20 [00:07<00:01,  2.13i"
     ]
    },
    {
     "name": "stdout",
     "output_type": "stream",
     "text": [
      "Early stopping, best iteration is:\n",
      "[184]\ttrain's rmse: 3.64158\teval's rmse: 6.10599\n",
      "Training until validation scores don't improve for 100 rounds\n"
     ]
    },
    {
     "name": "stderr",
     "output_type": "stream",
     "text": [
      "regularization_factors, val_score: 6.102349:  90%|9| 18/20 [00:08<00:00,  2.33i\u001b[32m[I 2021-06-23 11:27:39,565]\u001b[0m Trial 60 finished with value: 6.16014289329199 and parameters: {'lambda_l1': 0.20730033589251418, 'lambda_l2': 0.2696693452960455}. Best is trial 44 with value: 6.102348602698796.\u001b[0m\n",
      "regularization_factors, val_score: 6.102349:  90%|9| 18/20 [00:08<00:00,  2.33i"
     ]
    },
    {
     "name": "stdout",
     "output_type": "stream",
     "text": [
      "[100]\ttrain's rmse: 4.37429\teval's rmse: 6.21493\n",
      "[200]\ttrain's rmse: 3.54294\teval's rmse: 6.18454\n",
      "Early stopping, best iteration is:\n",
      "[114]\ttrain's rmse: 4.20434\teval's rmse: 6.16014\n",
      "Training until validation scores don't improve for 100 rounds\n",
      "[100]\ttrain's rmse: 4.37657\teval's rmse: 6.21795\n"
     ]
    },
    {
     "name": "stderr",
     "output_type": "stream",
     "text": [
      "regularization_factors, val_score: 6.102349:  95%|9| 19/20 [00:08<00:00,  2.32i\u001b[32m[I 2021-06-23 11:27:40,008]\u001b[0m Trial 61 finished with value: 6.128501612498269 and parameters: {'lambda_l1': 6.133497811898093e-05, 'lambda_l2': 0.0013941933603366105}. Best is trial 44 with value: 6.102348602698796.\u001b[0m\n",
      "regularization_factors, val_score: 6.102349:  95%|9| 19/20 [00:08<00:00,  2.32i"
     ]
    },
    {
     "name": "stdout",
     "output_type": "stream",
     "text": [
      "[200]\ttrain's rmse: 3.54012\teval's rmse: 6.1549\n",
      "Early stopping, best iteration is:\n",
      "[187]\ttrain's rmse: 3.61924\teval's rmse: 6.1285\n",
      "Training until validation scores don't improve for 100 rounds\n",
      "[100]\ttrain's rmse: 4.37906\teval's rmse: 6.21227\n",
      "[200]\ttrain's rmse: 3.53945\teval's rmse: 6.11144\n",
      "Early stopping, best iteration is:\n",
      "[184]\ttrain's rmse: 3.64157\teval's rmse: 6.10599\n"
     ]
    },
    {
     "name": "stderr",
     "output_type": "stream",
     "text": [
      "regularization_factors, val_score: 6.102349: 100%|#| 20/20 [00:08<00:00,  2.33i\u001b[32m[I 2021-06-23 11:27:40,435]\u001b[0m Trial 62 finished with value: 6.105993761050262 and parameters: {'lambda_l1': 1.4586223496903842e-07, 'lambda_l2': 1.8285175778448406e-07}. Best is trial 44 with value: 6.102348602698796.\u001b[0m\n",
      "regularization_factors, val_score: 6.102349: 100%|#| 20/20 [00:08<00:00,  2.24i\n",
      "min_data_in_leaf, val_score: 6.102349:   0%|             | 0/5 [00:00<?, ?it/s]"
     ]
    },
    {
     "name": "stdout",
     "output_type": "stream",
     "text": [
      "Training until validation scores don't improve for 100 rounds\n",
      "[100]\ttrain's rmse: 4.1246\teval's rmse: 6.15208\n"
     ]
    },
    {
     "name": "stderr",
     "output_type": "stream",
     "text": [
      "min_data_in_leaf, val_score: 6.102349:  20%|#    | 1/5 [00:00<00:01,  2.16it/s]\u001b[32m[I 2021-06-23 11:27:40,900]\u001b[0m Trial 63 finished with value: 6.14111096824178 and parameters: {'min_child_samples': 10}. Best is trial 63 with value: 6.14111096824178.\u001b[0m\n",
      "min_data_in_leaf, val_score: 6.102349:  20%|#    | 1/5 [00:00<00:01,  2.16it/s]"
     ]
    },
    {
     "name": "stdout",
     "output_type": "stream",
     "text": [
      "[200]\ttrain's rmse: 3.23121\teval's rmse: 6.15192\n",
      "Early stopping, best iteration is:\n",
      "[179]\ttrain's rmse: 3.37216\teval's rmse: 6.14111\n",
      "Training until validation scores don't improve for 100 rounds\n",
      "[100]\ttrain's rmse: 5.2777\teval's rmse: 6.52445\n",
      "[200]\ttrain's rmse: 4.62346\teval's rmse: 6.43123\n",
      "[300]\ttrain's rmse: 4.23556\teval's rmse: 6.41018\n",
      "[400]\ttrain's rmse: 3.92651\teval's rmse: 6.38267\n"
     ]
    },
    {
     "name": "stderr",
     "output_type": "stream",
     "text": [
      "min_data_in_leaf, val_score: 6.102349:  40%|##   | 2/5 [00:00<00:01,  2.00it/s]\u001b[32m[I 2021-06-23 11:27:41,427]\u001b[0m Trial 64 finished with value: 6.363552166610064 and parameters: {'min_child_samples': 50}. Best is trial 63 with value: 6.14111096824178.\u001b[0m\n",
      "min_data_in_leaf, val_score: 6.102349:  40%|##   | 2/5 [00:00<00:01,  2.00it/s]"
     ]
    },
    {
     "name": "stdout",
     "output_type": "stream",
     "text": [
      "Early stopping, best iteration is:\n",
      "[375]\ttrain's rmse: 3.99711\teval's rmse: 6.36355\n",
      "Training until validation scores don't improve for 100 rounds\n",
      "[100]\ttrain's rmse: 4.50406\teval's rmse: 6.24339\n"
     ]
    },
    {
     "name": "stderr",
     "output_type": "stream",
     "text": [
      "min_data_in_leaf, val_score: 6.102349:  60%|###  | 3/5 [00:01<00:00,  2.26it/s]\u001b[32m[I 2021-06-23 11:27:41,796]\u001b[0m Trial 65 finished with value: 6.188493614666814 and parameters: {'min_child_samples': 25}. Best is trial 63 with value: 6.14111096824178.\u001b[0m\n",
      "min_data_in_leaf, val_score: 6.102349:  60%|###  | 3/5 [00:01<00:00,  2.26it/s]"
     ]
    },
    {
     "name": "stdout",
     "output_type": "stream",
     "text": [
      "[200]\ttrain's rmse: 3.7058\teval's rmse: 6.20224\n",
      "Early stopping, best iteration is:\n",
      "[179]\ttrain's rmse: 3.82955\teval's rmse: 6.18849\n",
      "Training until validation scores don't improve for 100 rounds\n",
      "[100]\ttrain's rmse: 3.98797\teval's rmse: 6.20471\n",
      "[200]\ttrain's rmse: 3.04414\teval's rmse: 6.15813\n",
      "Early stopping, best iteration is:\n",
      "[184]\ttrain's rmse: 3.14943\teval's rmse: 6.1433"
     ]
    },
    {
     "name": "stderr",
     "output_type": "stream",
     "text": [
      "min_data_in_leaf, val_score: 6.102349:  80%|#### | 4/5 [00:01<00:00,  2.32it/s]\u001b[32m[I 2021-06-23 11:27:42,211]\u001b[0m Trial 66 finished with value: 6.143303749247668 and parameters: {'min_child_samples': 5}. Best is trial 63 with value: 6.14111096824178.\u001b[0m\n",
      "min_data_in_leaf, val_score: 6.102349:  80%|#### | 4/5 [00:01<00:00,  2.32it/s]"
     ]
    },
    {
     "name": "stdout",
     "output_type": "stream",
     "text": [
      "\n",
      "Training until validation scores don't improve for 100 rounds\n",
      "[100]\ttrain's rmse: 6.28294\teval's rmse: 7.00263\n",
      "[200]\ttrain's rmse: 5.72607\teval's rmse: 6.812\n",
      "[300]\ttrain's rmse: 5.39861\teval's rmse: 6.71687\n",
      "[400]\ttrain's rmse: 5.15872\teval's rmse: 6.68091\n",
      "[500]\ttrain's rmse: 4.96608\teval's rmse: 6.66585\n",
      "[600]\ttrain's rmse: 4.8029\teval's rmse: 6.63033\n",
      "[700]\ttrain's rmse: 4.66123\teval's rmse: 6.59159\n",
      "[800]\ttrain's rmse: 4.53928\teval's rmse: 6.5521\n",
      "[900]\ttrain's rmse: 4.42395\teval's rmse: 6.55231\n",
      "Early stopping, best iteration is:\n",
      "[810]\ttrain's rmse: 4.52882\teval's rmse: 6.54221\n"
     ]
    },
    {
     "name": "stderr",
     "output_type": "stream",
     "text": [
      "min_data_in_leaf, val_score: 6.102349: 100%|#####| 5/5 [00:02<00:00,  1.92it/s]\u001b[32m[I 2021-06-23 11:27:42,888]\u001b[0m Trial 67 finished with value: 6.542214805432025 and parameters: {'min_child_samples': 100}. Best is trial 63 with value: 6.14111096824178.\u001b[0m\n",
      "min_data_in_leaf, val_score: 6.102349: 100%|#####| 5/5 [00:02<00:00,  2.03it/s]\n",
      "\u001b[32m[I 2021-06-23 11:27:42,929]\u001b[0m A new study created in memory with name: no-name-869932b0-2602-4ec3-a5ad-653894ba7a52\u001b[0m\n",
      "feature_fraction, val_score: inf:   0%|                  | 0/7 [00:00<?, ?it/s]"
     ]
    },
    {
     "name": "stdout",
     "output_type": "stream",
     "text": [
      "Training until validation scores don't improve for 100 rounds\n",
      "[100]\ttrain's rmse: 4.54163\teval's rmse: 5.52645\n"
     ]
    },
    {
     "name": "stderr",
     "output_type": "stream",
     "text": [
      "feature_fraction, val_score: 5.489952:  14%|7    | 1/7 [00:00<00:02,  2.98it/s]\u001b[32m[I 2021-06-23 11:27:43,280]\u001b[0m Trial 0 finished with value: 5.48995203076631 and parameters: {'feature_fraction': 0.7}. Best is trial 0 with value: 5.48995203076631.\u001b[0m\n",
      "feature_fraction, val_score: 5.489952:  14%|7    | 1/7 [00:00<00:02,  2.98it/s]"
     ]
    },
    {
     "name": "stdout",
     "output_type": "stream",
     "text": [
      "[200]\ttrain's rmse: 3.60819\teval's rmse: 5.54588\n",
      "Early stopping, best iteration is:\n",
      "[132]\ttrain's rmse: 4.15012\teval's rmse: 5.48995\n",
      "Training until validation scores don't improve for 100 rounds\n",
      "[100]\ttrain's rmse: 4.56425\teval's rmse: 5.59035\n",
      "[200]\ttrain's rmse: 3.66774\teval's rmse: 5.55866\n",
      "Early stopping, best iteration is:\n",
      "[166]\ttrain's rmse: 3.8908\teval's rmse: 5.53001\n"
     ]
    },
    {
     "name": "stderr",
     "output_type": "stream",
     "text": [
      "feature_fraction, val_score: 5.489952:  29%|#4   | 2/7 [00:00<00:01,  2.80it/s]\u001b[32m[I 2021-06-23 11:27:43,646]\u001b[0m Trial 1 finished with value: 5.5300120620653095 and parameters: {'feature_fraction': 0.6}. Best is trial 0 with value: 5.48995203076631.\u001b[0m\n",
      "feature_fraction, val_score: 5.489952:  29%|#4   | 2/7 [00:00<00:01,  2.80it/s]"
     ]
    },
    {
     "name": "stdout",
     "output_type": "stream",
     "text": [
      "Training until validation scores don't improve for 100 rounds\n",
      "[100]\ttrain's rmse: 4.48007\teval's rmse: 5.7436\n"
     ]
    },
    {
     "name": "stderr",
     "output_type": "stream",
     "text": [
      "feature_fraction, val_score: 5.489952:  43%|##1  | 3/7 [00:01<00:01,  2.84it/s]\u001b[32m[I 2021-06-23 11:27:43,990]\u001b[0m Trial 2 finished with value: 5.711013314727847 and parameters: {'feature_fraction': 1.0}. Best is trial 0 with value: 5.48995203076631.\u001b[0m\n",
      "feature_fraction, val_score: 5.489952:  43%|##1  | 3/7 [00:01<00:01,  2.84it/s]"
     ]
    },
    {
     "name": "stdout",
     "output_type": "stream",
     "text": [
      "[200]\ttrain's rmse: 3.57798\teval's rmse: 5.76564\n",
      "Early stopping, best iteration is:\n",
      "[138]\ttrain's rmse: 4.06354\teval's rmse: 5.71101\n",
      "Training until validation scores don't improve for 100 rounds\n"
     ]
    },
    {
     "name": "stderr",
     "output_type": "stream",
     "text": [
      "feature_fraction, val_score: 5.489952:  57%|##8  | 4/7 [00:01<00:01,  2.90it/s]\u001b[32m[I 2021-06-23 11:27:44,323]\u001b[0m Trial 3 finished with value: 5.511453451985299 and parameters: {'feature_fraction': 0.8}. Best is trial 0 with value: 5.48995203076631.\u001b[0m\n"
     ]
    },
    {
     "name": "stdout",
     "output_type": "stream",
     "text": [
      "[100]\ttrain's rmse: 4.51365\teval's rmse: 5.56998\n",
      "[200]\ttrain's rmse: 3.60409\teval's rmse: 5.55382\n",
      "Early stopping, best iteration is:\n",
      "[146]\ttrain's rmse: 4.01194\teval's rmse: 5.51145\n"
     ]
    },
    {
     "name": "stderr",
     "output_type": "stream",
     "text": [
      "\r",
      "feature_fraction, val_score: 5.489952:  57%|##8  | 4/7 [00:01<00:01,  2.90it/s]"
     ]
    },
    {
     "name": "stdout",
     "output_type": "stream",
     "text": [
      "Training until validation scores don't improve for 100 rounds\n",
      "[100]\ttrain's rmse: 4.73005\teval's rmse: 5.6874\n",
      "[200]\ttrain's rmse: 3.84077\teval's rmse: 5.50422\n"
     ]
    },
    {
     "name": "stderr",
     "output_type": "stream",
     "text": [
      "feature_fraction, val_score: 5.489952:  71%|###5 | 5/7 [00:01<00:00,  2.84it/s]\u001b[32m[I 2021-06-23 11:27:44,695]\u001b[0m Trial 4 finished with value: 5.499607178153351 and parameters: {'feature_fraction': 0.4}. Best is trial 0 with value: 5.48995203076631.\u001b[0m\n",
      "feature_fraction, val_score: 5.489952:  71%|###5 | 5/7 [00:01<00:00,  2.84it/s]"
     ]
    },
    {
     "name": "stdout",
     "output_type": "stream",
     "text": [
      "Early stopping, best iteration is:\n",
      "[199]\ttrain's rmse: 3.8449\teval's rmse: 5.49961\n",
      "Training until validation scores don't improve for 100 rounds\n"
     ]
    },
    {
     "name": "stderr",
     "output_type": "stream",
     "text": [
      "feature_fraction, val_score: 5.489952:  86%|####2| 6/7 [00:02<00:00,  2.73it/s]\u001b[32m[I 2021-06-23 11:27:45,082]\u001b[0m Trial 5 finished with value: 5.606091202196344 and parameters: {'feature_fraction': 0.8999999999999999}. Best is trial 0 with value: 5.48995203076631.\u001b[0m\n",
      "feature_fraction, val_score: 5.489952:  86%|####2| 6/7 [00:02<00:00,  2.73it/s]"
     ]
    },
    {
     "name": "stdout",
     "output_type": "stream",
     "text": [
      "[100]\ttrain's rmse: 4.52841\teval's rmse: 5.64682\n",
      "[200]\ttrain's rmse: 3.60386\teval's rmse: 5.67807\n",
      "Early stopping, best iteration is:\n",
      "[111]\ttrain's rmse: 4.36938\teval's rmse: 5.60609\n",
      "Training until validation scores don't improve for 100 rounds\n",
      "[100]\ttrain's rmse: 4.59343\teval's rmse: 5.62767\n",
      "[200]\ttrain's rmse: 3.69944\teval's rmse: 5.53392\n"
     ]
    },
    {
     "name": "stderr",
     "output_type": "stream",
     "text": [
      "feature_fraction, val_score: 5.489952: 100%|#####| 7/7 [00:02<00:00,  2.76it/s]\u001b[32m[I 2021-06-23 11:27:45,436]\u001b[0m Trial 6 finished with value: 5.507797937948154 and parameters: {'feature_fraction': 0.5}. Best is trial 0 with value: 5.48995203076631.\u001b[0m\n",
      "feature_fraction, val_score: 5.489952: 100%|#####| 7/7 [00:02<00:00,  2.80it/s]\n",
      "num_leaves, val_score: 5.489952:   0%|                  | 0/20 [00:00<?, ?it/s]"
     ]
    },
    {
     "name": "stdout",
     "output_type": "stream",
     "text": [
      "Early stopping, best iteration is:\n",
      "[154]\ttrain's rmse: 4.02919\teval's rmse: 5.5078\n",
      "Training until validation scores don't improve for 100 rounds\n",
      "[100]\ttrain's rmse: 4.16609\teval's rmse: 5.57841\n"
     ]
    },
    {
     "name": "stderr",
     "output_type": "stream",
     "text": [
      "num_leaves, val_score: 5.489952:   5%|5         | 1/20 [00:00<00:07,  2.41it/s]\u001b[32m[I 2021-06-23 11:27:45,861]\u001b[0m Trial 7 finished with value: 5.553844015372659 and parameters: {'num_leaves': 161}. Best is trial 7 with value: 5.553844015372659.\u001b[0m\n",
      "num_leaves, val_score: 5.489952:   5%|5         | 1/20 [00:00<00:07,  2.41it/s]"
     ]
    },
    {
     "name": "stdout",
     "output_type": "stream",
     "text": [
      "[200]\ttrain's rmse: 3.14911\teval's rmse: 5.62948\n",
      "Early stopping, best iteration is:\n",
      "[130]\ttrain's rmse: 3.77089\teval's rmse: 5.55384\n",
      "Training until validation scores don't improve for 100 rounds\n",
      "[100]\ttrain's rmse: 4.16609\teval's rmse: 5.57841\n",
      "[200]\ttrain's rmse: 3.14911\teval's rmse: 5.62948\n",
      "Early stopping, best iteration is:\n",
      "[130]\ttrain's rmse: 3.77089\teval's rmse: 5.55384"
     ]
    },
    {
     "name": "stderr",
     "output_type": "stream",
     "text": [
      "num_leaves, val_score: 5.489952:  10%|#         | 2/20 [00:00<00:07,  2.34it/s]\u001b[32m[I 2021-06-23 11:27:46,305]\u001b[0m Trial 8 finished with value: 5.553844015372659 and parameters: {'num_leaves': 138}. Best is trial 7 with value: 5.553844015372659.\u001b[0m\n",
      "num_leaves, val_score: 5.489952:  10%|#         | 2/20 [00:00<00:07,  2.34it/s]"
     ]
    },
    {
     "name": "stdout",
     "output_type": "stream",
     "text": [
      "\n",
      "Training until validation scores don't improve for 100 rounds\n",
      "[100]\ttrain's rmse: 4.16609\teval's rmse: 5.57841\n",
      "[200]\ttrain's rmse: 3.14911\teval's rmse: 5.62948\n",
      "Early stopping, best iteration is:\n",
      "[130]\ttrain's rmse: 3.77089\teval's rmse: 5.55384"
     ]
    },
    {
     "name": "stderr",
     "output_type": "stream",
     "text": [
      "num_leaves, val_score: 5.489952:  15%|#5        | 3/20 [00:01<00:07,  2.33it/s]\u001b[32m[I 2021-06-23 11:27:46,729]\u001b[0m Trial 9 finished with value: 5.553844015372659 and parameters: {'num_leaves': 88}. Best is trial 7 with value: 5.553844015372659.\u001b[0m\n",
      "num_leaves, val_score: 5.489952:  15%|#5        | 3/20 [00:01<00:07,  2.33it/s]"
     ]
    },
    {
     "name": "stdout",
     "output_type": "stream",
     "text": [
      "\n",
      "Training until validation scores don't improve for 100 rounds\n",
      "[100]\ttrain's rmse: 4.16609\teval's rmse: 5.57841\n",
      "[200]\ttrain's rmse: 3.14911\teval's rmse: 5.62948\n",
      "Early stopping, best iteration is:\n",
      "[130]\ttrain's rmse: 3.77089\teval's rmse: 5.55384\n"
     ]
    },
    {
     "name": "stderr",
     "output_type": "stream",
     "text": [
      "num_leaves, val_score: 5.489952:  20%|##        | 4/20 [00:01<00:07,  2.17it/s]\u001b[32m[I 2021-06-23 11:27:47,243]\u001b[0m Trial 10 finished with value: 5.553844015372659 and parameters: {'num_leaves': 239}. Best is trial 7 with value: 5.553844015372659.\u001b[0m\n",
      "num_leaves, val_score: 5.489952:  20%|##        | 4/20 [00:01<00:07,  2.17it/s]"
     ]
    },
    {
     "name": "stdout",
     "output_type": "stream",
     "text": [
      "Training until validation scores don't improve for 100 rounds\n",
      "[100]\ttrain's rmse: 4.16609\teval's rmse: 5.57841\n"
     ]
    },
    {
     "name": "stderr",
     "output_type": "stream",
     "text": [
      "num_leaves, val_score: 5.489952:  25%|##5       | 5/20 [00:02<00:06,  2.22it/s]\u001b[32m[I 2021-06-23 11:27:47,678]\u001b[0m Trial 11 finished with value: 5.553844015372659 and parameters: {'num_leaves': 216}. Best is trial 7 with value: 5.553844015372659.\u001b[0m\n",
      "num_leaves, val_score: 5.489952:  25%|##5       | 5/20 [00:02<00:06,  2.22it/s]"
     ]
    },
    {
     "name": "stdout",
     "output_type": "stream",
     "text": [
      "[200]\ttrain's rmse: 3.14911\teval's rmse: 5.62948\n",
      "Early stopping, best iteration is:\n",
      "[130]\ttrain's rmse: 3.77089\teval's rmse: 5.55384\n",
      "Training until validation scores don't improve for 100 rounds\n",
      "[100]\ttrain's rmse: 6.15173\teval's rmse: 5.76273\n",
      "[200]\ttrain's rmse: 5.82247\teval's rmse: 5.51514\n"
     ]
    },
    {
     "name": "stderr",
     "output_type": "stream",
     "text": [
      "num_leaves, val_score: 5.418264:  30%|###       | 6/20 [00:02<00:05,  2.43it/s]\u001b[32m[I 2021-06-23 11:27:48,003]\u001b[0m Trial 12 finished with value: 5.418263718316743 and parameters: {'num_leaves': 4}. Best is trial 12 with value: 5.418263718316743.\u001b[0m\n",
      "num_leaves, val_score: 5.418264:  30%|###       | 6/20 [00:02<00:05,  2.43it/s]"
     ]
    },
    {
     "name": "stdout",
     "output_type": "stream",
     "text": [
      "[300]\ttrain's rmse: 5.61893\teval's rmse: 5.50063\n",
      "[400]\ttrain's rmse: 5.4617\teval's rmse: 5.43976\n",
      "[500]\ttrain's rmse: 5.33691\teval's rmse: 5.43977\n",
      "[600]\ttrain's rmse: 5.22775\teval's rmse: 5.42678\n",
      "Early stopping, best iteration is:\n",
      "[589]\ttrain's rmse: 5.24104\teval's rmse: 5.41826\n",
      "Training until validation scores don't improve for 100 rounds\n",
      "[100]\ttrain's rmse: 4.16609\teval's rmse: 5.57841\n"
     ]
    },
    {
     "name": "stderr",
     "output_type": "stream",
     "text": [
      "num_leaves, val_score: 5.418264:  35%|###5      | 7/20 [00:02<00:05,  2.41it/s]\u001b[32m[I 2021-06-23 11:27:48,439]\u001b[0m Trial 13 finished with value: 5.553844015372659 and parameters: {'num_leaves': 56}. Best is trial 12 with value: 5.418263718316743.\u001b[0m\n",
      "num_leaves, val_score: 5.418264:  35%|###5      | 7/20 [00:02<00:05,  2.41it/s]"
     ]
    },
    {
     "name": "stdout",
     "output_type": "stream",
     "text": [
      "[200]\ttrain's rmse: 3.14911\teval's rmse: 5.62948\n",
      "Early stopping, best iteration is:\n",
      "[130]\ttrain's rmse: 3.77089\teval's rmse: 5.55384\n",
      "Training until validation scores don't improve for 100 rounds\n",
      "[100]\ttrain's rmse: 4.16609\teval's rmse: 5.57841\n",
      "[200]\ttrain's rmse: 3.14911\teval's rmse: 5.62948\n"
     ]
    },
    {
     "name": "stderr",
     "output_type": "stream",
     "text": [
      "num_leaves, val_score: 5.418264:  40%|####      | 8/20 [00:03<00:05,  2.27it/s]\u001b[32m[I 2021-06-23 11:27:48,925]\u001b[0m Trial 14 finished with value: 5.553844015372659 and parameters: {'num_leaves': 113}. Best is trial 12 with value: 5.418263718316743.\u001b[0m\n",
      "num_leaves, val_score: 5.418264:  40%|####      | 8/20 [00:03<00:05,  2.27it/s]"
     ]
    },
    {
     "name": "stdout",
     "output_type": "stream",
     "text": [
      "Early stopping, best iteration is:\n",
      "[130]\ttrain's rmse: 3.77089\teval's rmse: 5.55384\n",
      "Training until validation scores don't improve for 100 rounds\n",
      "[100]\ttrain's rmse: 4.16609\teval's rmse: 5.57841\n",
      "[200]\ttrain's rmse: 3.14911\teval's rmse: 5.62948\n",
      "Early stopping, best iteration is:\n",
      "[130]\ttrain's rmse: 3.77089\teval's rmse: 5.55384\n"
     ]
    },
    {
     "name": "stderr",
     "output_type": "stream",
     "text": [
      "num_leaves, val_score: 5.418264:  45%|####5     | 9/20 [00:03<00:04,  2.24it/s]\u001b[32m[I 2021-06-23 11:27:49,389]\u001b[0m Trial 15 finished with value: 5.553844015372659 and parameters: {'num_leaves': 125}. Best is trial 12 with value: 5.418263718316743.\u001b[0m\n",
      "num_leaves, val_score: 5.418264:  45%|####5     | 9/20 [00:03<00:04,  2.24it/s]"
     ]
    },
    {
     "name": "stdout",
     "output_type": "stream",
     "text": [
      "Training until validation scores don't improve for 100 rounds\n",
      "[100]\ttrain's rmse: 4.16609\teval's rmse: 5.57841\n"
     ]
    },
    {
     "name": "stderr",
     "output_type": "stream",
     "text": [
      "num_leaves, val_score: 5.418264:  50%|####5    | 10/20 [00:04<00:04,  2.29it/s]\u001b[32m[I 2021-06-23 11:27:49,803]\u001b[0m Trial 16 finished with value: 5.553844015372659 and parameters: {'num_leaves': 91}. Best is trial 12 with value: 5.418263718316743.\u001b[0m\n",
      "num_leaves, val_score: 5.418264:  50%|####5    | 10/20 [00:04<00:04,  2.29it/s]"
     ]
    },
    {
     "name": "stdout",
     "output_type": "stream",
     "text": [
      "[200]\ttrain's rmse: 3.14911\teval's rmse: 5.62948\n",
      "Early stopping, best iteration is:\n",
      "[130]\ttrain's rmse: 3.77089\teval's rmse: 5.55384\n",
      "Training until validation scores don't improve for 100 rounds\n",
      "[100]\ttrain's rmse: 5.3944\teval's rmse: 5.49872\n"
     ]
    },
    {
     "name": "stderr",
     "output_type": "stream",
     "text": [
      "num_leaves, val_score: 5.378264:  55%|####9    | 11/20 [00:04<00:03,  2.65it/s]\u001b[32m[I 2021-06-23 11:27:50,038]\u001b[0m Trial 17 finished with value: 5.378264235316399 and parameters: {'num_leaves': 12}. Best is trial 17 with value: 5.378264235316399.\u001b[0m\n",
      "num_leaves, val_score: 5.378264:  55%|####9    | 11/20 [00:04<00:03,  2.65it/s]"
     ]
    },
    {
     "name": "stdout",
     "output_type": "stream",
     "text": [
      "[200]\ttrain's rmse: 4.76505\teval's rmse: 5.38614\n",
      "Early stopping, best iteration is:\n",
      "[164]\ttrain's rmse: 4.93807\teval's rmse: 5.37826\n",
      "Training until validation scores don't improve for 100 rounds\n",
      "[100]\ttrain's rmse: 5.25847\teval's rmse: 5.50652\n"
     ]
    },
    {
     "name": "stderr",
     "output_type": "stream",
     "text": [
      "num_leaves, val_score: 5.378264:  60%|#####3   | 12/20 [00:04<00:02,  2.95it/s]\u001b[32m[I 2021-06-23 11:27:50,291]\u001b[0m Trial 18 finished with value: 5.404869306386592 and parameters: {'num_leaves': 14}. Best is trial 17 with value: 5.378264235316399.\u001b[0m\n",
      "num_leaves, val_score: 5.378264:  60%|#####3   | 12/20 [00:04<00:02,  2.95it/s]"
     ]
    },
    {
     "name": "stdout",
     "output_type": "stream",
     "text": [
      "[200]\ttrain's rmse: 4.59991\teval's rmse: 5.42759\n",
      "Early stopping, best iteration is:\n",
      "[166]\ttrain's rmse: 4.76538\teval's rmse: 5.40487\n",
      "Training until validation scores don't improve for 100 rounds\n",
      "[100]\ttrain's rmse: 6.89727\teval's rmse: 6.60077\n",
      "[200]\ttrain's rmse: 6.29583\teval's rmse: 5.89987\n",
      "[300]\ttrain's rmse: 6.19474\teval's rmse: 5.79391\n",
      "[400]\ttrain's rmse: 6.13481\teval's rmse: 5.72986\n",
      "[500]\ttrain's rmse: 6.09467\teval's rmse: 5.70513\n",
      "[600]\ttrain's rmse: 6.06794\teval's rmse: 5.69733\n",
      "[700]\ttrain's rmse: 6.04756\teval's rmse: 5.66868\n",
      "[800]\ttrain's rmse: 6.03071\teval's rmse: 5.65954\n",
      "[900]\ttrain's rmse: 6.01654\teval's rmse: 5.64613\n"
     ]
    },
    {
     "name": "stderr",
     "output_type": "stream",
     "text": [
      "num_leaves, val_score: 5.378264:  65%|#####8   | 13/20 [00:05<00:02,  2.73it/s]\u001b[32m[I 2021-06-23 11:27:50,725]\u001b[0m Trial 19 finished with value: 5.644275414730194 and parameters: {'num_leaves': 2}. Best is trial 17 with value: 5.378264235316399.\u001b[0m\n",
      "num_leaves, val_score: 5.378264:  65%|#####8   | 13/20 [00:05<00:02,  2.73it/s]"
     ]
    },
    {
     "name": "stdout",
     "output_type": "stream",
     "text": [
      "Early stopping, best iteration is:\n",
      "[897]\ttrain's rmse: 6.01688\teval's rmse: 5.64428\n",
      "Training until validation scores don't improve for 100 rounds\n",
      "[100]\ttrain's rmse: 4.34667\teval's rmse: 5.52772\n",
      "[200]\ttrain's rmse: 3.40392\teval's rmse: 5.5481\n"
     ]
    },
    {
     "name": "stderr",
     "output_type": "stream",
     "text": [
      "num_leaves, val_score: 5.378264:  70%|######3  | 14/20 [00:05<00:02,  2.42it/s]\u001b[32m[I 2021-06-23 11:27:51,247]\u001b[0m Trial 20 finished with value: 5.505230404063715 and parameters: {'num_leaves': 37}. Best is trial 17 with value: 5.378264235316399.\u001b[0m\n",
      "num_leaves, val_score: 5.378264:  70%|######3  | 14/20 [00:05<00:02,  2.42it/s]"
     ]
    },
    {
     "name": "stdout",
     "output_type": "stream",
     "text": [
      "Early stopping, best iteration is:\n",
      "[121]\ttrain's rmse: 4.08341\teval's rmse: 5.50523\n",
      "Training until validation scores don't improve for 100 rounds\n",
      "[100]\ttrain's rmse: 4.54163\teval's rmse: 5.52645\n",
      "[200]\ttrain's rmse: 3.60819\teval's rmse: 5.54588\n"
     ]
    },
    {
     "name": "stderr",
     "output_type": "stream",
     "text": [
      "num_leaves, val_score: 5.378264:  75%|######7  | 15/20 [00:06<00:02,  2.36it/s]\u001b[32m[I 2021-06-23 11:27:51,693]\u001b[0m Trial 21 finished with value: 5.48995203076631 and parameters: {'num_leaves': 31}. Best is trial 17 with value: 5.378264235316399.\u001b[0m\n",
      "num_leaves, val_score: 5.378264:  75%|######7  | 15/20 [00:06<00:02,  2.36it/s]"
     ]
    },
    {
     "name": "stdout",
     "output_type": "stream",
     "text": [
      "Early stopping, best iteration is:\n",
      "[132]\ttrain's rmse: 4.15012\teval's rmse: 5.48995\n",
      "Training until validation scores don't improve for 100 rounds\n",
      "[100]\ttrain's rmse: 6.15173\teval's rmse: 5.76273\n",
      "[200]\ttrain's rmse: 5.82247\teval's rmse: 5.51514\n",
      "[300]\ttrain's rmse: 5.61893\teval's rmse: 5.50063\n",
      "[400]\ttrain's rmse: 5.4617\teval's rmse: 5.43976\n",
      "[500]\ttrain's rmse: 5.33691\teval's rmse: 5.43977\n",
      "[600]\ttrain's rmse: 5.22775\teval's rmse: 5.42678\n",
      "Early stopping, best iteration is:\n",
      "[589]\ttrain's rmse: 5.24104\teval's rmse: 5.41826\n"
     ]
    },
    {
     "name": "stderr",
     "output_type": "stream",
     "text": [
      "num_leaves, val_score: 5.378264:  80%|#######2 | 16/20 [00:06<00:01,  2.36it/s]\u001b[32m[I 2021-06-23 11:27:52,117]\u001b[0m Trial 22 finished with value: 5.418263718316743 and parameters: {'num_leaves': 4}. Best is trial 17 with value: 5.378264235316399.\u001b[0m\n",
      "num_leaves, val_score: 5.378264:  80%|#######2 | 16/20 [00:06<00:01,  2.36it/s]"
     ]
    },
    {
     "name": "stdout",
     "output_type": "stream",
     "text": [
      "Training until validation scores don't improve for 100 rounds\n",
      "[100]\ttrain's rmse: 4.16609\teval's rmse: 5.57841\n"
     ]
    },
    {
     "name": "stderr",
     "output_type": "stream",
     "text": [
      "num_leaves, val_score: 5.378264:  85%|#######6 | 17/20 [00:07<00:01,  2.12it/s]\u001b[32m[I 2021-06-23 11:27:52,699]\u001b[0m Trial 23 finished with value: 5.553844015372659 and parameters: {'num_leaves': 68}. Best is trial 17 with value: 5.378264235316399.\u001b[0m\n",
      "num_leaves, val_score: 5.378264:  85%|#######6 | 17/20 [00:07<00:01,  2.12it/s]"
     ]
    },
    {
     "name": "stdout",
     "output_type": "stream",
     "text": [
      "[200]\ttrain's rmse: 3.14911\teval's rmse: 5.62948\n",
      "Early stopping, best iteration is:\n",
      "[130]\ttrain's rmse: 3.77089\teval's rmse: 5.55384\n",
      "Training until validation scores don't improve for 100 rounds\n",
      "[100]\ttrain's rmse: 4.47854\teval's rmse: 5.51354\n",
      "[200]\ttrain's rmse: 3.55569\teval's rmse: 5.53956\n"
     ]
    },
    {
     "name": "stderr",
     "output_type": "stream",
     "text": [
      "num_leaves, val_score: 5.378264:  90%|########1| 18/20 [00:07<00:00,  2.07it/s]\u001b[32m[I 2021-06-23 11:27:53,213]\u001b[0m Trial 24 finished with value: 5.476266291356967 and parameters: {'num_leaves': 33}. Best is trial 17 with value: 5.378264235316399.\u001b[0m\n",
      "num_leaves, val_score: 5.378264:  90%|########1| 18/20 [00:07<00:00,  2.07it/s]"
     ]
    },
    {
     "name": "stdout",
     "output_type": "stream",
     "text": [
      "Early stopping, best iteration is:\n",
      "[134]\ttrain's rmse: 4.0861\teval's rmse: 5.47627\n",
      "Training until validation scores don't improve for 100 rounds\n",
      "[100]\ttrain's rmse: 5.89145\teval's rmse: 5.59696\n",
      "[200]\ttrain's rmse: 5.49551\teval's rmse: 5.41797\n"
     ]
    },
    {
     "name": "stderr",
     "output_type": "stream",
     "text": [
      "num_leaves, val_score: 5.366374:  95%|########5| 19/20 [00:08<00:00,  2.23it/s]\u001b[32m[I 2021-06-23 11:27:53,579]\u001b[0m Trial 25 finished with value: 5.366373909997784 and parameters: {'num_leaves': 6}. Best is trial 25 with value: 5.366373909997784.\u001b[0m\n",
      "num_leaves, val_score: 5.366374:  95%|########5| 19/20 [00:08<00:00,  2.23it/s]"
     ]
    },
    {
     "name": "stdout",
     "output_type": "stream",
     "text": [
      "[300]\ttrain's rmse: 5.21165\teval's rmse: 5.41305\n",
      "[400]\ttrain's rmse: 4.99756\teval's rmse: 5.3705\n",
      "Early stopping, best iteration is:\n",
      "[398]\ttrain's rmse: 4.99958\teval's rmse: 5.36637\n",
      "Training until validation scores don't improve for 100 rounds\n",
      "[100]\ttrain's rmse: 4.16609\teval's rmse: 5.57841\n"
     ]
    },
    {
     "name": "stderr",
     "output_type": "stream",
     "text": [
      "num_leaves, val_score: 5.366374: 100%|#########| 20/20 [00:08<00:00,  2.02it/s]\u001b[32m[I 2021-06-23 11:27:54,180]\u001b[0m Trial 26 finished with value: 5.553844015372659 and parameters: {'num_leaves': 174}. Best is trial 25 with value: 5.366373909997784.\u001b[0m\n",
      "num_leaves, val_score: 5.366374: 100%|#########| 20/20 [00:08<00:00,  2.29it/s]\n",
      "bagging, val_score: 5.366374:   0%|                     | 0/10 [00:00<?, ?it/s]"
     ]
    },
    {
     "name": "stdout",
     "output_type": "stream",
     "text": [
      "[200]\ttrain's rmse: 3.14911\teval's rmse: 5.62948\n",
      "Early stopping, best iteration is:\n",
      "[130]\ttrain's rmse: 3.77089\teval's rmse: 5.55384\n",
      "Training until validation scores don't improve for 100 rounds\n",
      "[100]\ttrain's rmse: 5.87777\teval's rmse: 5.61899\n",
      "[200]\ttrain's rmse: 5.469\teval's rmse: 5.41706\n",
      "[300]\ttrain's rmse: 5.20716\teval's rmse: 5.39861\n",
      "[400]\ttrain's rmse: 5.00085\teval's rmse: 5.34484\n"
     ]
    },
    {
     "name": "stderr",
     "output_type": "stream",
     "text": [
      "bagging, val_score: 5.324264:  10%|#3           | 1/10 [00:00<00:03,  2.29it/s]\u001b[32m[I 2021-06-23 11:27:54,628]\u001b[0m Trial 27 finished with value: 5.324264324303239 and parameters: {'bagging_fraction': 0.9576033356650075, 'bagging_freq': 5}. Best is trial 27 with value: 5.324264324303239.\u001b[0m\n",
      "bagging, val_score: 5.324264:  10%|#3           | 1/10 [00:00<00:03,  2.29it/s]"
     ]
    },
    {
     "name": "stdout",
     "output_type": "stream",
     "text": [
      "[500]\ttrain's rmse: 4.83633\teval's rmse: 5.33126\n",
      "[600]\ttrain's rmse: 4.68996\teval's rmse: 5.33299\n",
      "Early stopping, best iteration is:\n",
      "[513]\ttrain's rmse: 4.81209\teval's rmse: 5.32426\n",
      "Training until validation scores don't improve for 100 rounds\n",
      "[100]\ttrain's rmse: 5.90069\teval's rmse: 5.62985\n",
      "[200]\ttrain's rmse: 5.49318\teval's rmse: 5.48005\n",
      "[300]\ttrain's rmse: 5.25235\teval's rmse: 5.45277\n",
      "[400]\ttrain's rmse: 5.0417\teval's rmse: 5.40622\n"
     ]
    },
    {
     "name": "stderr",
     "output_type": "stream",
     "text": [
      "bagging, val_score: 5.324264:  20%|##6          | 2/10 [00:00<00:03,  2.03it/s]\u001b[32m[I 2021-06-23 11:27:55,163]\u001b[0m Trial 28 finished with value: 5.379895799651871 and parameters: {'bagging_fraction': 0.5899214559743853, 'bagging_freq': 4}. Best is trial 27 with value: 5.324264324303239.\u001b[0m\n",
      "bagging, val_score: 5.324264:  20%|##6          | 2/10 [00:00<00:03,  2.03it/s]"
     ]
    },
    {
     "name": "stdout",
     "output_type": "stream",
     "text": [
      "[500]\ttrain's rmse: 4.87935\teval's rmse: 5.4026\n",
      "[600]\ttrain's rmse: 4.745\teval's rmse: 5.39374\n",
      "Early stopping, best iteration is:\n",
      "[547]\ttrain's rmse: 4.81409\teval's rmse: 5.3799\n",
      "Training until validation scores don't improve for 100 rounds\n"
     ]
    },
    {
     "name": "stderr",
     "output_type": "stream",
     "text": [
      "\r",
      "bagging, val_score: 5.324264:  20%|##6          | 2/10 [00:01<00:03,  2.03it/s]"
     ]
    },
    {
     "name": "stdout",
     "output_type": "stream",
     "text": [
      "[100]\ttrain's rmse: 5.92656\teval's rmse: 5.66302\n",
      "[200]\ttrain's rmse: 5.51295\teval's rmse: 5.45484\n",
      "[300]\ttrain's rmse: 5.25495\teval's rmse: 5.42388\n",
      "Early stopping, best iteration is:\n",
      "[284]\ttrain's rmse: 5.29903\teval's rmse: 5.41412\n"
     ]
    },
    {
     "name": "stderr",
     "output_type": "stream",
     "text": [
      "bagging, val_score: 5.324264:  30%|###9         | 3/10 [00:01<00:02,  2.50it/s]\u001b[32m[I 2021-06-23 11:27:55,452]\u001b[0m Trial 29 finished with value: 5.414116765492069 and parameters: {'bagging_fraction': 0.5092450980745687, 'bagging_freq': 1}. Best is trial 27 with value: 5.324264324303239.\u001b[0m\n",
      "bagging, val_score: 5.324264:  30%|###9         | 3/10 [00:01<00:02,  2.50it/s]"
     ]
    },
    {
     "name": "stdout",
     "output_type": "stream",
     "text": [
      "Training until validation scores don't improve for 100 rounds\n",
      "[100]\ttrain's rmse: 5.90474\teval's rmse: 5.69305\n",
      "[200]\ttrain's rmse: 5.47157\teval's rmse: 5.49799\n",
      "[300]\ttrain's rmse: 5.19328\teval's rmse: 5.44012\n"
     ]
    },
    {
     "name": "stderr",
     "output_type": "stream",
     "text": [
      "bagging, val_score: 5.324264:  40%|#####2       | 4/10 [00:01<00:02,  2.67it/s]\u001b[32m[I 2021-06-23 11:27:55,787]\u001b[0m Trial 30 finished with value: 5.426537013177793 and parameters: {'bagging_fraction': 0.8524474336442425, 'bagging_freq': 7}. Best is trial 27 with value: 5.324264324303239.\u001b[0m\n",
      "bagging, val_score: 5.324264:  40%|#####2       | 4/10 [00:01<00:02,  2.67it/s]"
     ]
    },
    {
     "name": "stdout",
     "output_type": "stream",
     "text": [
      "[400]\ttrain's rmse: 4.98384\teval's rmse: 5.44095\n",
      "Early stopping, best iteration is:\n",
      "[350]\ttrain's rmse: 5.07885\teval's rmse: 5.42654\n",
      "Training until validation scores don't improve for 100 rounds\n",
      "[100]\ttrain's rmse: 5.99245\teval's rmse: 5.77784\n",
      "[200]\ttrain's rmse: 5.59889\teval's rmse: 5.58433\n",
      "[300]\ttrain's rmse: 5.3555\teval's rmse: 5.50813\n",
      "[400]\ttrain's rmse: 5.17662\teval's rmse: 5.46832\n",
      "[500]\ttrain's rmse: 5.02611\teval's rmse: 5.43739\n"
     ]
    },
    {
     "name": "stderr",
     "output_type": "stream",
     "text": [
      "bagging, val_score: 5.324264:  50%|######5      | 5/10 [00:02<00:01,  2.55it/s]\u001b[32m[I 2021-06-23 11:27:56,205]\u001b[0m Trial 31 finished with value: 5.432124137138803 and parameters: {'bagging_fraction': 0.40245073770762674, 'bagging_freq': 2}. Best is trial 27 with value: 5.324264324303239.\u001b[0m\n",
      "bagging, val_score: 5.324264:  50%|######5      | 5/10 [00:02<00:01,  2.55it/s]"
     ]
    },
    {
     "name": "stdout",
     "output_type": "stream",
     "text": [
      "Early stopping, best iteration is:\n",
      "[478]\ttrain's rmse: 5.05552\teval's rmse: 5.43212\n",
      "Training until validation scores don't improve for 100 rounds\n",
      "[100]\ttrain's rmse: 5.93567\teval's rmse: 5.67587\n",
      "[200]\ttrain's rmse: 5.51226\teval's rmse: 5.4396\n"
     ]
    },
    {
     "name": "stderr",
     "output_type": "stream",
     "text": [
      "bagging, val_score: 5.324264:  60%|#######8     | 6/10 [00:02<00:01,  2.62it/s]\u001b[32m[I 2021-06-23 11:27:56,573]\u001b[0m Trial 32 finished with value: 5.351267131309969 and parameters: {'bagging_fraction': 0.6305434720483934, 'bagging_freq': 1}. Best is trial 27 with value: 5.324264324303239.\u001b[0m\n",
      "bagging, val_score: 5.324264:  60%|#######8     | 6/10 [00:02<00:01,  2.62it/s]"
     ]
    },
    {
     "name": "stdout",
     "output_type": "stream",
     "text": [
      "[300]\ttrain's rmse: 5.24169\teval's rmse: 5.38506\n",
      "[400]\ttrain's rmse: 5.03045\teval's rmse: 5.35955\n",
      "[500]\ttrain's rmse: 4.87278\teval's rmse: 5.36471\n",
      "Early stopping, best iteration is:\n",
      "[415]\ttrain's rmse: 5.00111\teval's rmse: 5.35127\n",
      "Training until validation scores don't improve for 100 rounds\n",
      "[100]\ttrain's rmse: 5.87625\teval's rmse: 5.61514\n",
      "[200]\ttrain's rmse: 5.46182\teval's rmse: 5.42\n",
      "[300]\ttrain's rmse: 5.2014\teval's rmse: 5.37206\n"
     ]
    },
    {
     "name": "stderr",
     "output_type": "stream",
     "text": [
      "\r",
      "bagging, val_score: 5.312410:  60%|#######8     | 6/10 [00:02<00:01,  2.62it/s]"
     ]
    },
    {
     "name": "stdout",
     "output_type": "stream",
     "text": [
      "[400]\ttrain's rmse: 4.97546\teval's rmse: 5.32354\n",
      "[500]\ttrain's rmse: 4.79001\teval's rmse: 5.31809\n",
      "[600]\ttrain's rmse: 4.63034\teval's rmse: 5.32018\n",
      "Early stopping, best iteration is:\n",
      "[525]\ttrain's rmse: 4.74422\teval's rmse: 5.31241\n"
     ]
    },
    {
     "name": "stderr",
     "output_type": "stream",
     "text": [
      "bagging, val_score: 5.312410:  70%|#########1   | 7/10 [00:02<00:01,  2.37it/s]\u001b[32m[I 2021-06-23 11:27:57,077]\u001b[0m Trial 33 finished with value: 5.31241028338984 and parameters: {'bagging_fraction': 0.9174971363022593, 'bagging_freq': 3}. Best is trial 33 with value: 5.31241028338984.\u001b[0m\n",
      "bagging, val_score: 5.312410:  70%|#########1   | 7/10 [00:02<00:01,  2.37it/s]"
     ]
    },
    {
     "name": "stdout",
     "output_type": "stream",
     "text": [
      "Training until validation scores don't improve for 100 rounds\n",
      "[100]\ttrain's rmse: 5.89173\teval's rmse: 5.64309\n",
      "[200]\ttrain's rmse: 5.44768\teval's rmse: 5.42523\n",
      "[300]\ttrain's rmse: 5.18774\teval's rmse: 5.3767\n"
     ]
    },
    {
     "name": "stderr",
     "output_type": "stream",
     "text": [
      "bagging, val_score: 5.312410:  80%|##########4  | 8/10 [00:03<00:00,  2.48it/s]\u001b[32m[I 2021-06-23 11:27:57,438]\u001b[0m Trial 34 finished with value: 5.357719312964425 and parameters: {'bagging_fraction': 0.8863545266000589, 'bagging_freq': 4}. Best is trial 33 with value: 5.31241028338984.\u001b[0m\n",
      "bagging, val_score: 5.312410:  80%|##########4  | 8/10 [00:03<00:00,  2.48it/s]"
     ]
    },
    {
     "name": "stdout",
     "output_type": "stream",
     "text": [
      "[400]\ttrain's rmse: 4.98701\teval's rmse: 5.36811\n",
      "Early stopping, best iteration is:\n",
      "[391]\ttrain's rmse: 5.00084\teval's rmse: 5.35772\n",
      "Training until validation scores don't improve for 100 rounds\n",
      "[100]\ttrain's rmse: 5.96258\teval's rmse: 5.7148\n",
      "[200]\ttrain's rmse: 5.52659\teval's rmse: 5.50347\n",
      "[300]\ttrain's rmse: 5.2769\teval's rmse: 5.46424\n",
      "[400]\ttrain's rmse: 5.09312\teval's rmse: 5.42628\n",
      "[500]\ttrain's rmse: 4.94015\teval's rmse: 5.40253\n"
     ]
    },
    {
     "name": "stderr",
     "output_type": "stream",
     "text": [
      "bagging, val_score: 5.312410:  90%|###########7 | 9/10 [00:03<00:00,  2.43it/s]\u001b[32m[I 2021-06-23 11:27:57,869]\u001b[0m Trial 35 finished with value: 5.398368848074014 and parameters: {'bagging_fraction': 0.48601286801382004, 'bagging_freq': 2}. Best is trial 33 with value: 5.31241028338984.\u001b[0m\n",
      "bagging, val_score: 5.312410:  90%|###########7 | 9/10 [00:03<00:00,  2.43it/s]"
     ]
    },
    {
     "name": "stdout",
     "output_type": "stream",
     "text": [
      "Early stopping, best iteration is:\n",
      "[492]\ttrain's rmse: 4.94904\teval's rmse: 5.39837\n",
      "Training until validation scores don't improve for 100 rounds\n",
      "[100]\ttrain's rmse: 5.88924\teval's rmse: 5.57562\n",
      "[200]\ttrain's rmse: 5.47736\teval's rmse: 5.39425\n"
     ]
    },
    {
     "name": "stderr",
     "output_type": "stream",
     "text": [
      "bagging, val_score: 5.312410: 100%|############| 10/10 [00:04<00:00,  2.54it/s]\u001b[32m[I 2021-06-23 11:27:58,222]\u001b[0m Trial 36 finished with value: 5.338944166350579 and parameters: {'bagging_fraction': 0.6819705256703841, 'bagging_freq': 5}. Best is trial 33 with value: 5.31241028338984.\u001b[0m\n",
      "bagging, val_score: 5.312410: 100%|############| 10/10 [00:04<00:00,  2.48it/s]\n",
      "feature_fraction_stage2, val_score: 5.312410:   0%|      | 0/6 [00:00<?, ?it/s]"
     ]
    },
    {
     "name": "stdout",
     "output_type": "stream",
     "text": [
      "[300]\ttrain's rmse: 5.21632\teval's rmse: 5.34818\n",
      "[400]\ttrain's rmse: 5.01305\teval's rmse: 5.34066\n",
      "Early stopping, best iteration is:\n",
      "[396]\ttrain's rmse: 5.0185\teval's rmse: 5.33894\n",
      "Training until validation scores don't improve for 100 rounds\n",
      "[100]\ttrain's rmse: 5.87617\teval's rmse: 5.63075\n",
      "[200]\ttrain's rmse: 5.47058\teval's rmse: 5.41551\n",
      "[300]\ttrain's rmse: 5.21541\teval's rmse: 5.36045\n",
      "[400]\ttrain's rmse: 5.00343\teval's rmse: 5.32883\n",
      "[500]\ttrain's rmse: 4.82518\teval's rmse: 5.30525\n",
      "[600]\ttrain's rmse: 4.66362\teval's rmse: 5.28359\n",
      "Early stopping, best iteration is:\n",
      "[596]\ttrain's rmse: 4.66803\teval's rmse: 5.28278\n"
     ]
    },
    {
     "name": "stderr",
     "output_type": "stream",
     "text": [
      "feature_fraction_stage2, val_score: 5.282783:  17%|1| 1/6 [00:00<00:02,  1.67it\u001b[32m[I 2021-06-23 11:27:58,831]\u001b[0m Trial 37 finished with value: 5.2827830798145206 and parameters: {'feature_fraction': 0.6839999999999999}. Best is trial 37 with value: 5.2827830798145206.\u001b[0m\n",
      "feature_fraction_stage2, val_score: 5.282783:  17%|1| 1/6 [00:00<00:02,  1.67it"
     ]
    },
    {
     "name": "stdout",
     "output_type": "stream",
     "text": [
      "Training until validation scores don't improve for 100 rounds\n",
      "[100]\ttrain's rmse: 5.89701\teval's rmse: 5.67236\n",
      "[200]\ttrain's rmse: 5.47539\teval's rmse: 5.45659\n",
      "[300]\ttrain's rmse: 5.22153\teval's rmse: 5.36723\n",
      "[400]\ttrain's rmse: 5.01283\teval's rmse: 5.31346\n",
      "[500]\ttrain's rmse: 4.83585\teval's rmse: 5.29852\n"
     ]
    },
    {
     "name": "stderr",
     "output_type": "stream",
     "text": [
      "feature_fraction_stage2, val_score: 5.282783:  33%|3| 2/6 [00:01<00:02,  1.66it\u001b[32m[I 2021-06-23 11:27:59,439]\u001b[0m Trial 38 finished with value: 5.286441971713204 and parameters: {'feature_fraction': 0.652}. Best is trial 37 with value: 5.2827830798145206.\u001b[0m\n",
      "feature_fraction_stage2, val_score: 5.282783:  33%|3| 2/6 [00:01<00:02,  1.66it"
     ]
    },
    {
     "name": "stdout",
     "output_type": "stream",
     "text": [
      "[600]\ttrain's rmse: 4.67326\teval's rmse: 5.28963\n",
      "Early stopping, best iteration is:\n",
      "[596]\ttrain's rmse: 4.67814\teval's rmse: 5.28644\n",
      "Training until validation scores don't improve for 100 rounds\n",
      "[100]\ttrain's rmse: 5.88141\teval's rmse: 5.61977\n",
      "[200]\ttrain's rmse: 5.45818\teval's rmse: 5.39305\n",
      "[300]\ttrain's rmse: 5.19645\teval's rmse: 5.35011\n"
     ]
    },
    {
     "name": "stderr",
     "output_type": "stream",
     "text": [
      "feature_fraction_stage2, val_score: 5.282783:  50%|5| 3/6 [00:01<00:01,  1.76it\u001b[32m[I 2021-06-23 11:27:59,961]\u001b[0m Trial 39 finished with value: 5.300998971233543 and parameters: {'feature_fraction': 0.748}. Best is trial 37 with value: 5.2827830798145206.\u001b[0m\n",
      "feature_fraction_stage2, val_score: 5.282783:  50%|5| 3/6 [00:01<00:01,  1.76it"
     ]
    },
    {
     "name": "stdout",
     "output_type": "stream",
     "text": [
      "[400]\ttrain's rmse: 4.97905\teval's rmse: 5.31441\n",
      "[500]\ttrain's rmse: 4.79278\teval's rmse: 5.31009\n",
      "Early stopping, best iteration is:\n",
      "[483]\ttrain's rmse: 4.8213\teval's rmse: 5.301\n",
      "Training until validation scores don't improve for 100 rounds\n",
      "[100]\ttrain's rmse: 5.89148\teval's rmse: 5.65568\n",
      "[200]\ttrain's rmse: 5.47064\teval's rmse: 5.44648\n",
      "[300]\ttrain's rmse: 5.21242\teval's rmse: 5.39949\n",
      "[400]\ttrain's rmse: 4.9918\teval's rmse: 5.3687\n",
      "[500]\ttrain's rmse: 4.7982\teval's rmse: 5.34841\n",
      "Early stopping, best iteration is:\n",
      "[475]\ttrain's rmse: 4.84494\teval's rmse: 5.3406\n"
     ]
    },
    {
     "name": "stderr",
     "output_type": "stream",
     "text": [
      "feature_fraction_stage2, val_score: 5.282783:  67%|6| 4/6 [00:02<00:01,  1.83it\u001b[32m[I 2021-06-23 11:28:00,473]\u001b[0m Trial 40 finished with value: 5.340603934369049 and parameters: {'feature_fraction': 0.7799999999999999}. Best is trial 37 with value: 5.2827830798145206.\u001b[0m\n",
      "feature_fraction_stage2, val_score: 5.282783:  67%|6| 4/6 [00:02<00:01,  1.83it"
     ]
    },
    {
     "name": "stdout",
     "output_type": "stream",
     "text": [
      "Training until validation scores don't improve for 100 rounds\n",
      "[100]\ttrain's rmse: 5.89302\teval's rmse: 5.67264\n",
      "[200]\ttrain's rmse: 5.47073\teval's rmse: 5.40368\n",
      "[300]\ttrain's rmse: 5.21916\teval's rmse: 5.33871\n",
      "[400]\ttrain's rmse: 5.01401\teval's rmse: 5.29049\n",
      "[500]\ttrain's rmse: 4.83408\teval's rmse: 5.27439\n"
     ]
    },
    {
     "name": "stderr",
     "output_type": "stream",
     "text": [
      "feature_fraction_stage2, val_score: 5.262335:  83%|8| 5/6 [00:02<00:00,  1.72it\u001b[32m[I 2021-06-23 11:28:01,119]\u001b[0m Trial 41 finished with value: 5.262334613296578 and parameters: {'feature_fraction': 0.62}. Best is trial 41 with value: 5.262334613296578.\u001b[0m\n",
      "feature_fraction_stage2, val_score: 5.262335:  83%|8| 5/6 [00:02<00:00,  1.72it"
     ]
    },
    {
     "name": "stdout",
     "output_type": "stream",
     "text": [
      "[600]\ttrain's rmse: 4.67695\teval's rmse: 5.26563\n",
      "[700]\ttrain's rmse: 4.54717\teval's rmse: 5.27448\n",
      "Early stopping, best iteration is:\n",
      "[612]\ttrain's rmse: 4.66359\teval's rmse: 5.26233\n",
      "Training until validation scores don't improve for 100 rounds\n",
      "[100]\ttrain's rmse: 5.87625\teval's rmse: 5.61514\n",
      "[200]\ttrain's rmse: 5.46182\teval's rmse: 5.42\n",
      "[300]\ttrain's rmse: 5.2014\teval's rmse: 5.37206\n"
     ]
    },
    {
     "name": "stderr",
     "output_type": "stream",
     "text": [
      "\r",
      "feature_fraction_stage2, val_score: 5.262335:  83%|8| 5/6 [00:03<00:00,  1.72it"
     ]
    },
    {
     "name": "stdout",
     "output_type": "stream",
     "text": [
      "[400]\ttrain's rmse: 4.97546\teval's rmse: 5.32354\n",
      "[500]\ttrain's rmse: 4.79001\teval's rmse: 5.31809\n",
      "[600]\ttrain's rmse: 4.63034\teval's rmse: 5.32018\n",
      "Early stopping, best iteration is:\n",
      "[525]\ttrain's rmse: 4.74422\teval's rmse: 5.31241\n"
     ]
    },
    {
     "name": "stderr",
     "output_type": "stream",
     "text": [
      "feature_fraction_stage2, val_score: 5.262335: 100%|#| 6/6 [00:03<00:00,  1.76it\u001b[32m[I 2021-06-23 11:28:01,666]\u001b[0m Trial 42 finished with value: 5.31241028338984 and parameters: {'feature_fraction': 0.716}. Best is trial 41 with value: 5.262334613296578.\u001b[0m\n",
      "feature_fraction_stage2, val_score: 5.262335: 100%|#| 6/6 [00:03<00:00,  1.74it\n",
      "regularization_factors, val_score: 5.262335:   0%|      | 0/20 [00:00<?, ?it/s]"
     ]
    },
    {
     "name": "stdout",
     "output_type": "stream",
     "text": [
      "Training until validation scores don't improve for 100 rounds\n",
      "[100]\ttrain's rmse: 5.89271\teval's rmse: 5.66932\n",
      "[200]\ttrain's rmse: 5.46789\teval's rmse: 5.41269\n"
     ]
    },
    {
     "name": "stderr",
     "output_type": "stream",
     "text": [
      "\r",
      "regularization_factors, val_score: 5.262335:   0%|      | 0/20 [00:00<?, ?it/s]"
     ]
    },
    {
     "name": "stdout",
     "output_type": "stream",
     "text": [
      "[300]\ttrain's rmse: 5.19763\teval's rmse: 5.33441\n",
      "[400]\ttrain's rmse: 4.98869\teval's rmse: 5.27806\n",
      "[500]\ttrain's rmse: 4.82124\teval's rmse: 5.27519\n",
      "Early stopping, best iteration is:\n",
      "[424]\ttrain's rmse: 4.93775\teval's rmse: 5.26454\n"
     ]
    },
    {
     "name": "stderr",
     "output_type": "stream",
     "text": [
      "regularization_factors, val_score: 5.262335:   5%| | 1/20 [00:00<00:09,  2.10it\u001b[32m[I 2021-06-23 11:28:02,153]\u001b[0m Trial 43 finished with value: 5.264539467596117 and parameters: {'lambda_l1': 0.0216143512722528, 'lambda_l2': 2.507663586564664e-05}. Best is trial 43 with value: 5.264539467596117.\u001b[0m\n",
      "regularization_factors, val_score: 5.262335:   5%| | 1/20 [00:00<00:09,  2.10it"
     ]
    },
    {
     "name": "stdout",
     "output_type": "stream",
     "text": [
      "Training until validation scores don't improve for 100 rounds\n",
      "[100]\ttrain's rmse: 5.90146\teval's rmse: 5.67685\n",
      "[200]\ttrain's rmse: 5.46584\teval's rmse: 5.42224\n",
      "[300]\ttrain's rmse: 5.20454\teval's rmse: 5.34358\n",
      "[400]\ttrain's rmse: 4.9909\teval's rmse: 5.2872\n",
      "[500]\ttrain's rmse: 4.82382\teval's rmse: 5.2754\n"
     ]
    },
    {
     "name": "stderr",
     "output_type": "stream",
     "text": [
      "regularization_factors, val_score: 5.262335:  10%|1| 2/20 [00:01<00:10,  1.73it\u001b[32m[I 2021-06-23 11:28:02,801]\u001b[0m Trial 44 finished with value: 5.266278626730586 and parameters: {'lambda_l1': 0.00011962226585853972, 'lambda_l2': 0.13455509800943433}. Best is trial 43 with value: 5.264539467596117.\u001b[0m\n",
      "regularization_factors, val_score: 5.262335:  10%|1| 2/20 [00:01<00:10,  1.73it"
     ]
    },
    {
     "name": "stdout",
     "output_type": "stream",
     "text": [
      "[600]\ttrain's rmse: 4.67568\teval's rmse: 5.27374\n",
      "Early stopping, best iteration is:\n",
      "[521]\ttrain's rmse: 4.79094\teval's rmse: 5.26628\n",
      "Training until validation scores don't improve for 100 rounds\n",
      "[100]\ttrain's rmse: 5.97063\teval's rmse: 5.71483\n",
      "[200]\ttrain's rmse: 5.55819\teval's rmse: 5.43032\n",
      "[300]\ttrain's rmse: 5.29885\teval's rmse: 5.34456\n",
      "[400]\ttrain's rmse: 5.1089\teval's rmse: 5.29354\n",
      "[500]\ttrain's rmse: 4.94272\teval's rmse: 5.28128\n"
     ]
    },
    {
     "name": "stderr",
     "output_type": "stream",
     "text": [
      "regularization_factors, val_score: 5.262335:  15%|1| 3/20 [00:01<00:11,  1.47it\u001b[32m[I 2021-06-23 11:28:03,604]\u001b[0m Trial 45 finished with value: 5.268761567702795 and parameters: {'lambda_l1': 0.002399814862699942, 'lambda_l2': 6.517236375876207}. Best is trial 43 with value: 5.264539467596117.\u001b[0m\n",
      "regularization_factors, val_score: 5.262335:  15%|1| 3/20 [00:01<00:11,  1.47it"
     ]
    },
    {
     "name": "stdout",
     "output_type": "stream",
     "text": [
      "[600]\ttrain's rmse: 4.79996\teval's rmse: 5.2698\n",
      "[700]\ttrain's rmse: 4.66775\teval's rmse: 5.29192\n",
      "Early stopping, best iteration is:\n",
      "[601]\ttrain's rmse: 4.79853\teval's rmse: 5.26876\n",
      "Training until validation scores don't improve for 100 rounds\n",
      "[100]\ttrain's rmse: 5.89302\teval's rmse: 5.67265\n",
      "[200]\ttrain's rmse: 5.4704\teval's rmse: 5.41107\n",
      "[300]\ttrain's rmse: 5.21689\teval's rmse: 5.34436\n",
      "[400]\ttrain's rmse: 5.00724\teval's rmse: 5.28735\n",
      "[500]\ttrain's rmse: 4.83704\teval's rmse: 5.28341\n"
     ]
    },
    {
     "name": "stderr",
     "output_type": "stream",
     "text": [
      "regularization_factors, val_score: 5.262335:  20%|2| 4/20 [00:02<00:10,  1.50it\u001b[32m[I 2021-06-23 11:28:04,247]\u001b[0m Trial 46 finished with value: 5.274751845018794 and parameters: {'lambda_l1': 6.645511552327536e-06, 'lambda_l2': 0.0006427820732407386}. Best is trial 43 with value: 5.264539467596117.\u001b[0m\n",
      "regularization_factors, val_score: 5.262335:  20%|2| 4/20 [00:02<00:10,  1.50it"
     ]
    },
    {
     "name": "stdout",
     "output_type": "stream",
     "text": [
      "Early stopping, best iteration is:\n",
      "[452]\ttrain's rmse: 4.91287\teval's rmse: 5.27475\n",
      "Training until validation scores don't improve for 100 rounds\n",
      "[100]\ttrain's rmse: 5.90386\teval's rmse: 5.68801\n",
      "[200]\ttrain's rmse: 5.46746\teval's rmse: 5.40848\n",
      "[300]\ttrain's rmse: 5.20243\teval's rmse: 5.33589\n"
     ]
    },
    {
     "name": "stderr",
     "output_type": "stream",
     "text": [
      "\r",
      "regularization_factors, val_score: 5.262335:  20%|2| 4/20 [00:03<00:10,  1.50it"
     ]
    },
    {
     "name": "stdout",
     "output_type": "stream",
     "text": [
      "[400]\ttrain's rmse: 4.99277\teval's rmse: 5.28587\n",
      "[500]\ttrain's rmse: 4.82007\teval's rmse: 5.28782\n",
      "Early stopping, best iteration is:\n",
      "[425]\ttrain's rmse: 4.94234\teval's rmse: 5.27891\n"
     ]
    },
    {
     "name": "stderr",
     "output_type": "stream",
     "text": [
      "regularization_factors, val_score: 5.262335:  25%|2| 5/20 [00:03<00:10,  1.48it\u001b[32m[I 2021-06-23 11:28:04,937]\u001b[0m Trial 47 finished with value: 5.278911002935725 and parameters: {'lambda_l1': 0.6863041417166085, 'lambda_l2': 1.7454206673326623e-07}. Best is trial 43 with value: 5.264539467596117.\u001b[0m\n",
      "regularization_factors, val_score: 5.262335:  25%|2| 5/20 [00:03<00:10,  1.48it"
     ]
    },
    {
     "name": "stdout",
     "output_type": "stream",
     "text": [
      "Training until validation scores don't improve for 100 rounds\n",
      "[100]\ttrain's rmse: 5.89302\teval's rmse: 5.67264\n",
      "[200]\ttrain's rmse: 5.4704\teval's rmse: 5.41106\n",
      "[300]\ttrain's rmse: 5.21689\teval's rmse: 5.34436\n",
      "[400]\ttrain's rmse: 5.00723\teval's rmse: 5.28735\n"
     ]
    },
    {
     "name": "stderr",
     "output_type": "stream",
     "text": [
      "regularization_factors, val_score: 5.262335:  30%|3| 6/20 [00:03<00:09,  1.54it\u001b[32m[I 2021-06-23 11:28:05,537]\u001b[0m Trial 48 finished with value: 5.274751517773525 and parameters: {'lambda_l1': 5.034968658633183e-07, 'lambda_l2': 0.00031027332099322073}. Best is trial 43 with value: 5.264539467596117.\u001b[0m\n",
      "regularization_factors, val_score: 5.262335:  30%|3| 6/20 [00:03<00:09,  1.54it"
     ]
    },
    {
     "name": "stdout",
     "output_type": "stream",
     "text": [
      "[500]\ttrain's rmse: 4.83704\teval's rmse: 5.28341\n",
      "Early stopping, best iteration is:\n",
      "[452]\ttrain's rmse: 4.91286\teval's rmse: 5.27475\n",
      "Training until validation scores don't improve for 100 rounds\n",
      "[100]\ttrain's rmse: 5.89302\teval's rmse: 5.67265\n",
      "[200]\ttrain's rmse: 5.47041\teval's rmse: 5.41107\n",
      "[300]\ttrain's rmse: 5.2169\teval's rmse: 5.34436\n",
      "[400]\ttrain's rmse: 5.00724\teval's rmse: 5.28735\n"
     ]
    },
    {
     "name": "stderr",
     "output_type": "stream",
     "text": [
      "regularization_factors, val_score: 5.262335:  35%|3| 7/20 [00:04<00:07,  1.67it\u001b[32m[I 2021-06-23 11:28:06,035]\u001b[0m Trial 49 finished with value: 5.2747520401709656 and parameters: {'lambda_l1': 1.4407662278484873e-06, 'lambda_l2': 0.0008425809461133142}. Best is trial 43 with value: 5.264539467596117.\u001b[0m\n",
      "regularization_factors, val_score: 5.262335:  35%|3| 7/20 [00:04<00:07,  1.67it"
     ]
    },
    {
     "name": "stdout",
     "output_type": "stream",
     "text": [
      "[500]\ttrain's rmse: 4.83704\teval's rmse: 5.28341\n",
      "Early stopping, best iteration is:\n",
      "[452]\ttrain's rmse: 4.91287\teval's rmse: 5.27475\n",
      "Training until validation scores don't improve for 100 rounds\n",
      "[100]\ttrain's rmse: 5.89302\teval's rmse: 5.67264\n",
      "[200]\ttrain's rmse: 5.4704\teval's rmse: 5.41106\n",
      "[300]\ttrain's rmse: 5.21689\teval's rmse: 5.34436\n",
      "[400]\ttrain's rmse: 5.00723\teval's rmse: 5.28735\n",
      "[500]\ttrain's rmse: 4.83703\teval's rmse: 5.28341\n"
     ]
    },
    {
     "name": "stderr",
     "output_type": "stream",
     "text": [
      "regularization_factors, val_score: 5.262335:  40%|4| 8/20 [00:04<00:06,  1.77it\u001b[32m[I 2021-06-23 11:28:06,528]\u001b[0m Trial 50 finished with value: 5.274751237482004 and parameters: {'lambda_l1': 5.13011151011638e-07, 'lambda_l2': 2.5049947823555468e-05}. Best is trial 43 with value: 5.264539467596117.\u001b[0m\n",
      "regularization_factors, val_score: 5.262335:  40%|4| 8/20 [00:04<00:06,  1.77it"
     ]
    },
    {
     "name": "stdout",
     "output_type": "stream",
     "text": [
      "Early stopping, best iteration is:\n",
      "[452]\ttrain's rmse: 4.91286\teval's rmse: 5.27475\n",
      "Training until validation scores don't improve for 100 rounds\n",
      "[100]\ttrain's rmse: 5.9513\teval's rmse: 5.70313\n",
      "[200]\ttrain's rmse: 5.54599\teval's rmse: 5.42391\n",
      "[300]\ttrain's rmse: 5.28781\teval's rmse: 5.35287\n",
      "[400]\ttrain's rmse: 5.09145\teval's rmse: 5.30641\n"
     ]
    },
    {
     "name": "stderr",
     "output_type": "stream",
     "text": [
      "regularization_factors, val_score: 5.262335:  45%|4| 9/20 [00:05<00:06,  1.83it\u001b[32m[I 2021-06-23 11:28:07,030]\u001b[0m Trial 51 finished with value: 5.291749851799634 and parameters: {'lambda_l1': 7.357528628294758, 'lambda_l2': 2.4487731350372246}. Best is trial 43 with value: 5.264539467596117.\u001b[0m\n",
      "regularization_factors, val_score: 5.262335:  45%|4| 9/20 [00:05<00:06,  1.83it"
     ]
    },
    {
     "name": "stdout",
     "output_type": "stream",
     "text": [
      "[500]\ttrain's rmse: 4.92687\teval's rmse: 5.3004\n",
      "Early stopping, best iteration is:\n",
      "[459]\ttrain's rmse: 4.9905\teval's rmse: 5.29175\n",
      "Training until validation scores don't improve for 100 rounds\n",
      "[100]\ttrain's rmse: 5.89303\teval's rmse: 5.67265\n",
      "[200]\ttrain's rmse: 5.47042\teval's rmse: 5.41107\n",
      "[300]\ttrain's rmse: 5.21691\teval's rmse: 5.34436\n",
      "[400]\ttrain's rmse: 5.00726\teval's rmse: 5.28735\n"
     ]
    },
    {
     "name": "stderr",
     "output_type": "stream",
     "text": [
      "regularization_factors, val_score: 5.262335:  50%|5| 10/20 [00:05<00:05,  1.87i\u001b[32m[I 2021-06-23 11:28:07,536]\u001b[0m Trial 52 finished with value: 5.2747522917966165 and parameters: {'lambda_l1': 0.0037191052174784635, 'lambda_l2': 0.0005788281455478301}. Best is trial 43 with value: 5.264539467596117.\u001b[0m\n",
      "regularization_factors, val_score: 5.262335:  50%|5| 10/20 [00:05<00:05,  1.87i"
     ]
    },
    {
     "name": "stdout",
     "output_type": "stream",
     "text": [
      "[500]\ttrain's rmse: 4.83707\teval's rmse: 5.2834\n",
      "Early stopping, best iteration is:\n",
      "[452]\ttrain's rmse: 4.9129\teval's rmse: 5.27475\n",
      "Training until validation scores don't improve for 100 rounds\n",
      "[100]\ttrain's rmse: 5.89488\teval's rmse: 5.67653\n",
      "[200]\ttrain's rmse: 5.47119\teval's rmse: 5.43325\n",
      "[300]\ttrain's rmse: 5.20401\teval's rmse: 5.34425\n"
     ]
    },
    {
     "name": "stderr",
     "output_type": "stream",
     "text": [
      "regularization_factors, val_score: 5.262335:  55%|5| 11/20 [00:06<00:04,  1.93i\u001b[32m[I 2021-06-23 11:28:08,019]\u001b[0m Trial 53 finished with value: 5.284065220943868 and parameters: {'lambda_l1': 0.16884686857547324, 'lambda_l2': 1.2932168557181434e-08}. Best is trial 43 with value: 5.264539467596117.\u001b[0m\n",
      "regularization_factors, val_score: 5.262335:  55%|5| 11/20 [00:06<00:04,  1.93i"
     ]
    },
    {
     "name": "stdout",
     "output_type": "stream",
     "text": [
      "[400]\ttrain's rmse: 5.0123\teval's rmse: 5.30242\n",
      "[500]\ttrain's rmse: 4.84276\teval's rmse: 5.29046\n",
      "Early stopping, best iteration is:\n",
      "[426]\ttrain's rmse: 4.95968\teval's rmse: 5.28407\n",
      "Training until validation scores don't improve for 100 rounds\n",
      "[100]\ttrain's rmse: 5.90675\teval's rmse: 5.67149\n",
      "[200]\ttrain's rmse: 5.4743\teval's rmse: 5.43058\n",
      "[300]\ttrain's rmse: 5.20212\teval's rmse: 5.33259\n"
     ]
    },
    {
     "name": "stderr",
     "output_type": "stream",
     "text": [
      "regularization_factors, val_score: 5.258951:  60%|6| 12/20 [00:06<00:04,  1.91i\u001b[32m[I 2021-06-23 11:28:08,550]\u001b[0m Trial 54 finished with value: 5.258950867588749 and parameters: {'lambda_l1': 0.00021679160437510902, 'lambda_l2': 0.12065101713616137}. Best is trial 54 with value: 5.258950867588749.\u001b[0m\n",
      "regularization_factors, val_score: 5.258951:  60%|6| 12/20 [00:06<00:04,  1.91i"
     ]
    },
    {
     "name": "stdout",
     "output_type": "stream",
     "text": [
      "[400]\ttrain's rmse: 4.99553\teval's rmse: 5.27551\n",
      "[500]\ttrain's rmse: 4.82493\teval's rmse: 5.26577\n",
      "Early stopping, best iteration is:\n",
      "[477]\ttrain's rmse: 4.86617\teval's rmse: 5.25895\n",
      "Training until validation scores don't improve for 100 rounds\n",
      "[100]\ttrain's rmse: 5.90722\teval's rmse: 5.67792\n",
      "[200]\ttrain's rmse: 5.47741\teval's rmse: 5.42934\n"
     ]
    },
    {
     "name": "stderr",
     "output_type": "stream",
     "text": [
      "\r",
      "regularization_factors, val_score: 5.258951:  60%|6| 12/20 [00:07<00:04,  1.91i"
     ]
    },
    {
     "name": "stdout",
     "output_type": "stream",
     "text": [
      "[300]\ttrain's rmse: 5.20543\teval's rmse: 5.34084\n",
      "[400]\ttrain's rmse: 4.99943\teval's rmse: 5.29251\n",
      "[500]\ttrain's rmse: 4.83005\teval's rmse: 5.29691\n",
      "Early stopping, best iteration is:\n",
      "[426]\ttrain's rmse: 4.94599\teval's rmse: 5.28203\n"
     ]
    },
    {
     "name": "stderr",
     "output_type": "stream",
     "text": [
      "regularization_factors, val_score: 5.258951:  65%|6| 13/20 [00:07<00:03,  1.94i\u001b[32m[I 2021-06-23 11:28:09,054]\u001b[0m Trial 55 finished with value: 5.28203421631169 and parameters: {'lambda_l1': 0.038275169083004025, 'lambda_l2': 0.09000419448757951}. Best is trial 54 with value: 5.258950867588749.\u001b[0m\n",
      "regularization_factors, val_score: 5.258951:  65%|6| 13/20 [00:07<00:03,  1.94i"
     ]
    },
    {
     "name": "stdout",
     "output_type": "stream",
     "text": [
      "Training until validation scores don't improve for 100 rounds\n",
      "[100]\ttrain's rmse: 5.89302\teval's rmse: 5.67264\n",
      "[200]\ttrain's rmse: 5.4704\teval's rmse: 5.41106\n"
     ]
    },
    {
     "name": "stderr",
     "output_type": "stream",
     "text": [
      "\r",
      "regularization_factors, val_score: 5.258951:  65%|6| 13/20 [00:07<00:03,  1.94i"
     ]
    },
    {
     "name": "stdout",
     "output_type": "stream",
     "text": [
      "[300]\ttrain's rmse: 5.21689\teval's rmse: 5.34436\n",
      "[400]\ttrain's rmse: 5.00723\teval's rmse: 5.28735\n",
      "[500]\ttrain's rmse: 4.83703\teval's rmse: 5.28341\n",
      "Early stopping, best iteration is:\n",
      "[452]\ttrain's rmse: 4.91286\teval's rmse: 5.27475\n"
     ]
    },
    {
     "name": "stderr",
     "output_type": "stream",
     "text": [
      "regularization_factors, val_score: 5.258951:  70%|7| 14/20 [00:07<00:03,  1.99i\u001b[32m[I 2021-06-23 11:28:09,519]\u001b[0m Trial 56 finished with value: 5.2747512281765765 and parameters: {'lambda_l1': 7.825005006811295e-05, 'lambda_l2': 4.852271445779105e-06}. Best is trial 54 with value: 5.258950867588749.\u001b[0m\n",
      "regularization_factors, val_score: 5.258951:  70%|7| 14/20 [00:07<00:03,  1.99i"
     ]
    },
    {
     "name": "stdout",
     "output_type": "stream",
     "text": [
      "Training until validation scores don't improve for 100 rounds\n",
      "[100]\ttrain's rmse: 5.89422\teval's rmse: 5.66896\n",
      "[200]\ttrain's rmse: 5.47574\teval's rmse: 5.42058\n",
      "[300]\ttrain's rmse: 5.21031\teval's rmse: 5.36352\n"
     ]
    },
    {
     "name": "stderr",
     "output_type": "stream",
     "text": [
      "\r",
      "regularization_factors, val_score: 5.258951:  70%|7| 14/20 [00:08<00:03,  1.99i"
     ]
    },
    {
     "name": "stdout",
     "output_type": "stream",
     "text": [
      "[400]\ttrain's rmse: 5.00271\teval's rmse: 5.31329\n",
      "[500]\ttrain's rmse: 4.83705\teval's rmse: 5.30047\n",
      "[600]\ttrain's rmse: 4.68847\teval's rmse: 5.29825\n",
      "Early stopping, best iteration is:\n",
      "[567]\ttrain's rmse: 4.73657\teval's rmse: 5.29203\n"
     ]
    },
    {
     "name": "stderr",
     "output_type": "stream",
     "text": [
      "regularization_factors, val_score: 5.258951:  75%|7| 15/20 [00:08<00:02,  1.95i\u001b[32m[I 2021-06-23 11:28:10,061]\u001b[0m Trial 57 finished with value: 5.292025641866304 and parameters: {'lambda_l1': 0.0024963692861235502, 'lambda_l2': 0.21468651893291635}. Best is trial 54 with value: 5.258950867588749.\u001b[0m\n",
      "regularization_factors, val_score: 5.258951:  75%|7| 15/20 [00:08<00:02,  1.95i"
     ]
    },
    {
     "name": "stdout",
     "output_type": "stream",
     "text": [
      "Training until validation scores don't improve for 100 rounds\n",
      "[100]\ttrain's rmse: 5.89276\teval's rmse: 5.66936\n",
      "[200]\ttrain's rmse: 5.46793\teval's rmse: 5.4127\n",
      "[300]\ttrain's rmse: 5.20445\teval's rmse: 5.34483\n"
     ]
    },
    {
     "name": "stderr",
     "output_type": "stream",
     "text": [
      "regularization_factors, val_score: 5.258951:  80%|8| 16/20 [00:08<00:01,  2.03i\u001b[32m[I 2021-06-23 11:28:10,509]\u001b[0m Trial 58 finished with value: 5.263321428289297 and parameters: {'lambda_l1': 2.710379274571706e-08, 'lambda_l2': 0.012144411678022942}. Best is trial 54 with value: 5.258950867588749.\u001b[0m\n",
      "regularization_factors, val_score: 5.258951:  80%|8| 16/20 [00:08<00:01,  2.03i"
     ]
    },
    {
     "name": "stdout",
     "output_type": "stream",
     "text": [
      "[400]\ttrain's rmse: 4.99372\teval's rmse: 5.27872\n",
      "[500]\ttrain's rmse: 4.8165\teval's rmse: 5.27459\n",
      "Early stopping, best iteration is:\n",
      "[425]\ttrain's rmse: 4.94228\teval's rmse: 5.26332\n",
      "Training until validation scores don't improve for 100 rounds\n",
      "[100]\ttrain's rmse: 5.89276\teval's rmse: 5.66937\n",
      "[200]\ttrain's rmse: 5.46793\teval's rmse: 5.41271\n",
      "[300]\ttrain's rmse: 5.20447\teval's rmse: 5.34484\n"
     ]
    },
    {
     "name": "stderr",
     "output_type": "stream",
     "text": [
      "regularization_factors, val_score: 5.258951:  85%|8| 17/20 [00:09<00:01,  2.00i\u001b[32m[I 2021-06-23 11:28:11,024]\u001b[0m Trial 59 finished with value: 5.263322608928689 and parameters: {'lambda_l1': 3.361156180366197e-08, 'lambda_l2': 0.0129880989276609}. Best is trial 54 with value: 5.258950867588749.\u001b[0m\n",
      "regularization_factors, val_score: 5.258951:  85%|8| 17/20 [00:09<00:01,  2.00i"
     ]
    },
    {
     "name": "stdout",
     "output_type": "stream",
     "text": [
      "[400]\ttrain's rmse: 4.99374\teval's rmse: 5.27872\n",
      "[500]\ttrain's rmse: 4.81651\teval's rmse: 5.27459\n",
      "Early stopping, best iteration is:\n",
      "[425]\ttrain's rmse: 4.94229\teval's rmse: 5.26332\n",
      "Training until validation scores don't improve for 100 rounds\n",
      "[100]\ttrain's rmse: 5.89278\teval's rmse: 5.66939\n",
      "[200]\ttrain's rmse: 5.46796\teval's rmse: 5.41272\n",
      "[300]\ttrain's rmse: 5.20414\teval's rmse: 5.33936\n",
      "[400]\ttrain's rmse: 4.99741\teval's rmse: 5.26147\n",
      "[500]\ttrain's rmse: 4.82525\teval's rmse: 5.25612\n"
     ]
    },
    {
     "name": "stderr",
     "output_type": "stream",
     "text": [
      "regularization_factors, val_score: 5.250404:  90%|9| 18/20 [00:09<00:01,  1.91i\u001b[32m[I 2021-06-23 11:28:11,606]\u001b[0m Trial 60 finished with value: 5.250403533804878 and parameters: {'lambda_l1': 3.7409679859249176e-08, 'lambda_l2': 0.016056010052536686}. Best is trial 60 with value: 5.250403533804878.\u001b[0m\n",
      "regularization_factors, val_score: 5.250404:  90%|9| 18/20 [00:09<00:01,  1.91i"
     ]
    },
    {
     "name": "stdout",
     "output_type": "stream",
     "text": [
      "[600]\ttrain's rmse: 4.67225\teval's rmse: 5.25809\n",
      "Early stopping, best iteration is:\n",
      "[512]\ttrain's rmse: 4.80505\teval's rmse: 5.2504\n",
      "Training until validation scores don't improve for 100 rounds\n",
      "[100]\ttrain's rmse: 5.92176\teval's rmse: 5.69229\n",
      "[200]\ttrain's rmse: 5.48126\teval's rmse: 5.40563\n",
      "[300]\ttrain's rmse: 5.21462\teval's rmse: 5.32946\n",
      "[400]\ttrain's rmse: 5.02213\teval's rmse: 5.29679\n"
     ]
    },
    {
     "name": "stderr",
     "output_type": "stream",
     "text": [
      "regularization_factors, val_score: 5.250404:  95%|9| 19/20 [00:10<00:00,  1.99i\u001b[32m[I 2021-06-23 11:28:12,057]\u001b[0m Trial 61 finished with value: 5.280961007059594 and parameters: {'lambda_l1': 1.0614690226624871e-08, 'lambda_l2': 1.2828896666641274}. Best is trial 60 with value: 5.250403533804878.\u001b[0m\n",
      "regularization_factors, val_score: 5.250404:  95%|9| 19/20 [00:10<00:00,  1.99i"
     ]
    },
    {
     "name": "stdout",
     "output_type": "stream",
     "text": [
      "[500]\ttrain's rmse: 4.85383\teval's rmse: 5.28811\n",
      "Early stopping, best iteration is:\n",
      "[425]\ttrain's rmse: 4.9724\teval's rmse: 5.28096\n",
      "Training until validation scores don't improve for 100 rounds\n",
      "[100]\ttrain's rmse: 5.89274\teval's rmse: 5.66935\n",
      "[200]\ttrain's rmse: 5.46791\teval's rmse: 5.4127\n",
      "[300]\ttrain's rmse: 5.20443\teval's rmse: 5.34483\n",
      "[400]\ttrain's rmse: 4.9937\teval's rmse: 5.27872\n"
     ]
    },
    {
     "name": "stderr",
     "output_type": "stream",
     "text": [
      "regularization_factors, val_score: 5.250404: 100%|#| 20/20 [00:10<00:00,  2.05i\u001b[32m[I 2021-06-23 11:28:12,507]\u001b[0m Trial 62 finished with value: 5.263318884851045 and parameters: {'lambda_l1': 3.683938914499436e-05, 'lambda_l2': 0.010314083229514708}. Best is trial 60 with value: 5.250403533804878.\u001b[0m\n",
      "regularization_factors, val_score: 5.250404: 100%|#| 20/20 [00:10<00:00,  1.85i\n",
      "min_data_in_leaf, val_score: 5.250404:   0%|             | 0/5 [00:00<?, ?it/s]"
     ]
    },
    {
     "name": "stdout",
     "output_type": "stream",
     "text": [
      "[500]\ttrain's rmse: 4.81647\teval's rmse: 5.27459\n",
      "Early stopping, best iteration is:\n",
      "[425]\ttrain's rmse: 4.94225\teval's rmse: 5.26332\n",
      "Training until validation scores don't improve for 100 rounds\n",
      "[100]\ttrain's rmse: 5.84307\teval's rmse: 5.62928\n",
      "[200]\ttrain's rmse: 5.39172\teval's rmse: 5.39434\n",
      "[300]\ttrain's rmse: 5.09121\teval's rmse: 5.32769\n",
      "[400]\ttrain's rmse: 4.85969\teval's rmse: 5.27141\n",
      "[500]\ttrain's rmse: 4.68004\teval's rmse: 5.27747\n",
      "Early stopping, best iteration is:\n",
      "[425]\ttrain's rmse: 4.8098\teval's rmse: 5.26372\n"
     ]
    },
    {
     "name": "stderr",
     "output_type": "stream",
     "text": [
      "min_data_in_leaf, val_score: 5.250404:  20%|#    | 1/5 [00:00<00:01,  2.32it/s]\u001b[32m[I 2021-06-23 11:28:12,952]\u001b[0m Trial 63 finished with value: 5.263718016970392 and parameters: {'min_child_samples': 10}. Best is trial 63 with value: 5.263718016970392.\u001b[0m\n",
      "min_data_in_leaf, val_score: 5.250404:  20%|#    | 1/5 [00:00<00:01,  2.32it/s]"
     ]
    },
    {
     "name": "stdout",
     "output_type": "stream",
     "text": [
      "Training until validation scores don't improve for 100 rounds\n",
      "[100]\ttrain's rmse: 5.8387\teval's rmse: 5.64168\n",
      "[200]\ttrain's rmse: 5.36055\teval's rmse: 5.40312\n"
     ]
    },
    {
     "name": "stderr",
     "output_type": "stream",
     "text": [
      "\r",
      "min_data_in_leaf, val_score: 5.250404:  20%|#    | 1/5 [00:00<00:01,  2.32it/s]"
     ]
    },
    {
     "name": "stdout",
     "output_type": "stream",
     "text": [
      "[300]\ttrain's rmse: 5.04173\teval's rmse: 5.31304\n",
      "[400]\ttrain's rmse: 4.79214\teval's rmse: 5.28895\n",
      "[500]\ttrain's rmse: 4.58457\teval's rmse: 5.27098\n",
      "[600]\ttrain's rmse: 4.38565\teval's rmse: 5.26887\n",
      "Early stopping, best iteration is:\n",
      "[572]\ttrain's rmse: 4.44175\teval's rmse: 5.25773\n"
     ]
    },
    {
     "name": "stderr",
     "output_type": "stream",
     "text": [
      "min_data_in_leaf, val_score: 5.250404:  40%|##   | 2/5 [00:00<00:01,  2.34it/s]\u001b[32m[I 2021-06-23 11:28:13,376]\u001b[0m Trial 64 finished with value: 5.257729507127387 and parameters: {'min_child_samples': 5}. Best is trial 64 with value: 5.257729507127387.\u001b[0m\n",
      "min_data_in_leaf, val_score: 5.250404:  40%|##   | 2/5 [00:00<00:01,  2.34it/s]"
     ]
    },
    {
     "name": "stdout",
     "output_type": "stream",
     "text": [
      "Training until validation scores don't improve for 100 rounds\n",
      "[100]\ttrain's rmse: 6.52987\teval's rmse: 6.23634\n",
      "[200]\ttrain's rmse: 6.09766\teval's rmse: 5.97572\n",
      "[300]\ttrain's rmse: 5.86656\teval's rmse: 5.87907\n",
      "[400]\ttrain's rmse: 5.68235\teval's rmse: 5.80179\n",
      "[500]\ttrain's rmse: 5.53579\teval's rmse: 5.759\n",
      "[600]\ttrain's rmse: 5.41606\teval's rmse: 5.73347\n",
      "[700]\ttrain's rmse: 5.3049\teval's rmse: 5.71795\n",
      "[800]\ttrain's rmse: 5.2095\teval's rmse: 5.70464\n",
      "[900]\ttrain's rmse: 5.12973\teval's rmse: 5.7054\n"
     ]
    },
    {
     "name": "stderr",
     "output_type": "stream",
     "text": [
      "min_data_in_leaf, val_score: 5.250404:  60%|###  | 3/5 [00:01<00:01,  1.99it/s]\u001b[32m[I 2021-06-23 11:28:13,965]\u001b[0m Trial 65 finished with value: 5.708561222834944 and parameters: {'min_child_samples': 100}. Best is trial 64 with value: 5.257729507127387.\u001b[0m\n",
      "min_data_in_leaf, val_score: 5.250404:  60%|###  | 3/5 [00:01<00:01,  1.99it/s]"
     ]
    },
    {
     "name": "stdout",
     "output_type": "stream",
     "text": [
      "[1000]\ttrain's rmse: 5.03846\teval's rmse: 5.70856\n",
      "Did not meet early stopping. Best iteration is:\n",
      "[1000]\ttrain's rmse: 5.03846\teval's rmse: 5.70856\n",
      "Training until validation scores don't improve for 100 rounds\n",
      "[100]\ttrain's rmse: 6.12309\teval's rmse: 5.7886\n",
      "[200]\ttrain's rmse: 5.72762\teval's rmse: 5.57553\n"
     ]
    },
    {
     "name": "stderr",
     "output_type": "stream",
     "text": [
      "min_data_in_leaf, val_score: 5.250404:  80%|#### | 4/5 [00:01<00:00,  2.25it/s]\u001b[32m[I 2021-06-23 11:28:14,318]\u001b[0m Trial 66 finished with value: 5.448467730933499 and parameters: {'min_child_samples': 50}. Best is trial 64 with value: 5.257729507127387.\u001b[0m\n",
      "min_data_in_leaf, val_score: 5.250404:  80%|#### | 4/5 [00:01<00:00,  2.25it/s]"
     ]
    },
    {
     "name": "stdout",
     "output_type": "stream",
     "text": [
      "[300]\ttrain's rmse: 5.49694\teval's rmse: 5.51805\n",
      "[400]\ttrain's rmse: 5.30188\teval's rmse: 5.47657\n",
      "[500]\ttrain's rmse: 5.15423\teval's rmse: 5.45265\n",
      "Early stopping, best iteration is:\n",
      "[484]\ttrain's rmse: 5.18008\teval's rmse: 5.44847\n",
      "Training until validation scores don't improve for 100 rounds\n",
      "[100]\ttrain's rmse: 5.96322\teval's rmse: 5.70428\n",
      "[200]\ttrain's rmse: 5.54117\teval's rmse: 5.44448\n",
      "[300]\ttrain's rmse: 5.28578\teval's rmse: 5.37916\n",
      "[400]\ttrain's rmse: 5.0823\teval's rmse: 5.33924\n",
      "[500]\ttrain's rmse: 4.90689\teval's rmse: 5.34637\n"
     ]
    },
    {
     "name": "stderr",
     "output_type": "stream",
     "text": [
      "min_data_in_leaf, val_score: 5.250404: 100%|#####| 5/5 [00:02<00:00,  2.49it/s]\u001b[32m[I 2021-06-23 11:28:14,650]\u001b[0m Trial 67 finished with value: 5.323247342051504 and parameters: {'min_child_samples': 25}. Best is trial 64 with value: 5.257729507127387.\u001b[0m\n",
      "min_data_in_leaf, val_score: 5.250404: 100%|#####| 5/5 [00:02<00:00,  2.34it/s]\n",
      "\u001b[32m[I 2021-06-23 11:28:14,683]\u001b[0m A new study created in memory with name: no-name-5f503d27-deb7-4a62-9f4f-a1986b01ca5b\u001b[0m\n",
      "feature_fraction, val_score: inf:   0%|                  | 0/7 [00:00<?, ?it/s]"
     ]
    },
    {
     "name": "stdout",
     "output_type": "stream",
     "text": [
      "Early stopping, best iteration is:\n",
      "[425]\ttrain's rmse: 5.02955\teval's rmse: 5.32325\n",
      "Training until validation scores don't improve for 100 rounds\n",
      "[100]\ttrain's rmse: 4.56022\teval's rmse: 5.82104\n",
      "[200]\ttrain's rmse: 3.61663\teval's rmse: 5.75627\n"
     ]
    },
    {
     "name": "stderr",
     "output_type": "stream",
     "text": [
      "feature_fraction, val_score: 5.726425:  14%|7    | 1/7 [00:00<00:02,  2.20it/s]\u001b[32m[I 2021-06-23 11:28:15,148]\u001b[0m Trial 0 finished with value: 5.726424621426224 and parameters: {'feature_fraction': 1.0}. Best is trial 0 with value: 5.726424621426224.\u001b[0m\n",
      "feature_fraction, val_score: 5.726425:  14%|7    | 1/7 [00:00<00:02,  2.20it/s]"
     ]
    },
    {
     "name": "stdout",
     "output_type": "stream",
     "text": [
      "Early stopping, best iteration is:\n",
      "[155]\ttrain's rmse: 3.9768\teval's rmse: 5.72642\n",
      "Training until validation scores don't improve for 100 rounds\n",
      "[100]\ttrain's rmse: 4.70029\teval's rmse: 5.91905\n"
     ]
    },
    {
     "name": "stderr",
     "output_type": "stream",
     "text": [
      "feature_fraction, val_score: 5.633687:  29%|#4   | 2/7 [00:00<00:02,  2.42it/s]\u001b[32m[I 2021-06-23 11:28:15,542]\u001b[0m Trial 1 finished with value: 5.633686712689426 and parameters: {'feature_fraction': 0.4}. Best is trial 1 with value: 5.633686712689426.\u001b[0m\n",
      "feature_fraction, val_score: 5.633687:  29%|#4   | 2/7 [00:00<00:02,  2.42it/s]"
     ]
    },
    {
     "name": "stdout",
     "output_type": "stream",
     "text": [
      "[200]\ttrain's rmse: 3.81961\teval's rmse: 5.66107\n",
      "[300]\ttrain's rmse: 3.36812\teval's rmse: 5.66024\n",
      "Early stopping, best iteration is:\n",
      "[218]\ttrain's rmse: 3.72358\teval's rmse: 5.63369\n",
      "Training until validation scores don't improve for 100 rounds\n"
     ]
    },
    {
     "name": "stderr",
     "output_type": "stream",
     "text": [
      "feature_fraction, val_score: 5.633687:  43%|##1  | 3/7 [00:01<00:01,  2.62it/s]\u001b[32m[I 2021-06-23 11:28:15,875]\u001b[0m Trial 2 finished with value: 5.693327229604186 and parameters: {'feature_fraction': 0.8999999999999999}. Best is trial 1 with value: 5.633686712689426.\u001b[0m\n"
     ]
    },
    {
     "name": "stdout",
     "output_type": "stream",
     "text": [
      "[100]\ttrain's rmse: 4.55443\teval's rmse: 5.75477\n",
      "[200]\ttrain's rmse: 3.63124\teval's rmse: 5.71182\n",
      "Early stopping, best iteration is:\n",
      "[142]\ttrain's rmse: 4.09172\teval's rmse: 5.69333\n"
     ]
    },
    {
     "name": "stderr",
     "output_type": "stream",
     "text": [
      "\r",
      "feature_fraction, val_score: 5.633687:  43%|##1  | 3/7 [00:01<00:01,  2.62it/s]"
     ]
    },
    {
     "name": "stdout",
     "output_type": "stream",
     "text": [
      "Training until validation scores don't improve for 100 rounds\n",
      "[100]\ttrain's rmse: 4.56127\teval's rmse: 5.79733\n"
     ]
    },
    {
     "name": "stderr",
     "output_type": "stream",
     "text": [
      "feature_fraction, val_score: 5.633687:  57%|##8  | 4/7 [00:01<00:01,  2.61it/s]\u001b[32m[I 2021-06-23 11:28:16,268]\u001b[0m Trial 3 finished with value: 5.654047672778555 and parameters: {'feature_fraction': 0.6}. Best is trial 1 with value: 5.633686712689426.\u001b[0m\n",
      "feature_fraction, val_score: 5.633687:  57%|##8  | 4/7 [00:01<00:01,  2.61it/s]"
     ]
    },
    {
     "name": "stdout",
     "output_type": "stream",
     "text": [
      "[200]\ttrain's rmse: 3.66687\teval's rmse: 5.66878\n",
      "Early stopping, best iteration is:\n",
      "[179]\ttrain's rmse: 3.8249\teval's rmse: 5.65405\n",
      "Training until validation scores don't improve for 100 rounds\n",
      "[100]\ttrain's rmse: 4.5378\teval's rmse: 5.73488\n",
      "[200]\ttrain's rmse: 3.66455\teval's rmse: 5.66417\n",
      "Early stopping, best iteration is:\n",
      "[180]\ttrain's rmse: 3.79393\teval's rmse: 5.64463\n"
     ]
    },
    {
     "name": "stderr",
     "output_type": "stream",
     "text": [
      "feature_fraction, val_score: 5.633687:  71%|###5 | 5/7 [00:01<00:00,  2.56it/s]\u001b[32m[I 2021-06-23 11:28:16,669]\u001b[0m Trial 4 finished with value: 5.6446267608230905 and parameters: {'feature_fraction': 0.7}. Best is trial 1 with value: 5.633686712689426.\u001b[0m\n",
      "feature_fraction, val_score: 5.633687:  71%|###5 | 5/7 [00:01<00:00,  2.56it/s]"
     ]
    },
    {
     "name": "stdout",
     "output_type": "stream",
     "text": [
      "Training until validation scores don't improve for 100 rounds\n",
      "[100]\ttrain's rmse: 4.59424\teval's rmse: 5.83721\n",
      "[200]\ttrain's rmse: 3.73596\teval's rmse: 5.6792\n",
      "[300]\ttrain's rmse: 3.26063\teval's rmse: 5.66014\n"
     ]
    },
    {
     "name": "stderr",
     "output_type": "stream",
     "text": [
      "feature_fraction, val_score: 5.633687:  86%|####2| 6/7 [00:02<00:00,  2.02it/s]\u001b[32m[I 2021-06-23 11:28:17,359]\u001b[0m Trial 5 finished with value: 5.647390580467011 and parameters: {'feature_fraction': 0.5}. Best is trial 1 with value: 5.633686712689426.\u001b[0m\n",
      "feature_fraction, val_score: 5.633687:  86%|####2| 6/7 [00:02<00:00,  2.02it/s]"
     ]
    },
    {
     "name": "stdout",
     "output_type": "stream",
     "text": [
      "[400]\ttrain's rmse: 2.8847\teval's rmse: 5.66769\n",
      "Early stopping, best iteration is:\n",
      "[349]\ttrain's rmse: 3.07501\teval's rmse: 5.64739\n",
      "Training until validation scores don't improve for 100 rounds\n",
      "[100]\ttrain's rmse: 4.54541\teval's rmse: 5.75888\n",
      "[200]\ttrain's rmse: 3.64129\teval's rmse: 5.69533\n"
     ]
    },
    {
     "name": "stderr",
     "output_type": "stream",
     "text": [
      "feature_fraction, val_score: 5.633687: 100%|#####| 7/7 [00:03<00:00,  2.13it/s]\u001b[32m[I 2021-06-23 11:28:17,784]\u001b[0m Trial 6 finished with value: 5.68677831693168 and parameters: {'feature_fraction': 0.8}. Best is trial 1 with value: 5.633686712689426.\u001b[0m\n",
      "feature_fraction, val_score: 5.633687: 100%|#####| 7/7 [00:03<00:00,  2.26it/s]\n",
      "num_leaves, val_score: 5.633687:   0%|                  | 0/20 [00:00<?, ?it/s]"
     ]
    },
    {
     "name": "stdout",
     "output_type": "stream",
     "text": [
      "[300]\ttrain's rmse: 3.12344\teval's rmse: 5.71803\n",
      "Early stopping, best iteration is:\n",
      "[206]\ttrain's rmse: 3.60293\teval's rmse: 5.68678\n",
      "Training until validation scores don't improve for 100 rounds\n",
      "[100]\ttrain's rmse: 4.44031\teval's rmse: 5.92143\n",
      "[200]\ttrain's rmse: 3.44877\teval's rmse: 5.75088\n"
     ]
    },
    {
     "name": "stderr",
     "output_type": "stream",
     "text": [
      "num_leaves, val_score: 5.633687:   5%|5         | 1/20 [00:00<00:09,  2.06it/s]\u001b[32m[I 2021-06-23 11:28:18,287]\u001b[0m Trial 7 finished with value: 5.730074254224495 and parameters: {'num_leaves': 48}. Best is trial 7 with value: 5.730074254224495.\u001b[0m\n",
      "num_leaves, val_score: 5.633687:   5%|5         | 1/20 [00:00<00:09,  2.06it/s]"
     ]
    },
    {
     "name": "stdout",
     "output_type": "stream",
     "text": [
      "[300]\ttrain's rmse: 2.93172\teval's rmse: 5.75976\n",
      "Early stopping, best iteration is:\n",
      "[214]\ttrain's rmse: 3.35447\teval's rmse: 5.73007\n",
      "Training until validation scores don't improve for 100 rounds\n",
      "[100]\ttrain's rmse: 4.44453\teval's rmse: 5.93226\n",
      "[200]\ttrain's rmse: 3.4458\teval's rmse: 5.79116\n"
     ]
    },
    {
     "name": "stderr",
     "output_type": "stream",
     "text": [
      "num_leaves, val_score: 5.633687:  10%|#         | 2/20 [00:00<00:09,  1.99it/s]\u001b[32m[I 2021-06-23 11:28:18,795]\u001b[0m Trial 8 finished with value: 5.7748922461470364 and parameters: {'num_leaves': 77}. Best is trial 7 with value: 5.730074254224495.\u001b[0m\n",
      "num_leaves, val_score: 5.633687:  10%|#         | 2/20 [00:01<00:09,  1.99it/s]"
     ]
    },
    {
     "name": "stdout",
     "output_type": "stream",
     "text": [
      "[300]\ttrain's rmse: 2.90197\teval's rmse: 5.79787\n",
      "Early stopping, best iteration is:\n",
      "[211]\ttrain's rmse: 3.3669\teval's rmse: 5.77489\n",
      "Training until validation scores don't improve for 100 rounds\n",
      "[100]\ttrain's rmse: 4.44453\teval's rmse: 5.93226\n",
      "[200]\ttrain's rmse: 3.4458\teval's rmse: 5.79116\n",
      "[300]\ttrain's rmse: 2.90197\teval's rmse: 5.79787\n",
      "Early stopping, best iteration is:\n",
      "[211]\ttrain's rmse: 3.3669\teval's rmse: 5.77489\n"
     ]
    },
    {
     "name": "stderr",
     "output_type": "stream",
     "text": [
      "num_leaves, val_score: 5.633687:  15%|#5        | 3/20 [00:01<00:10,  1.61it/s]\u001b[32m[I 2021-06-23 11:28:19,561]\u001b[0m Trial 9 finished with value: 5.7748922461470364 and parameters: {'num_leaves': 116}. Best is trial 7 with value: 5.730074254224495.\u001b[0m\n",
      "num_leaves, val_score: 5.633687:  15%|#5        | 3/20 [00:01<00:10,  1.61it/s]"
     ]
    },
    {
     "name": "stdout",
     "output_type": "stream",
     "text": [
      "Training until validation scores don't improve for 100 rounds\n",
      "[100]\ttrain's rmse: 4.44453\teval's rmse: 5.93226\n",
      "[200]\ttrain's rmse: 3.4458\teval's rmse: 5.79116\n",
      "[300]\ttrain's rmse: 2.90197\teval's rmse: 5.79787\n",
      "Early stopping, best iteration is:\n",
      "[211]\ttrain's rmse: 3.3669\teval's rmse: 5.77489\n"
     ]
    },
    {
     "name": "stderr",
     "output_type": "stream",
     "text": [
      "num_leaves, val_score: 5.633687:  20%|##        | 4/20 [00:02<00:09,  1.72it/s]\u001b[32m[I 2021-06-23 11:28:20,079]\u001b[0m Trial 10 finished with value: 5.7748922461470364 and parameters: {'num_leaves': 212}. Best is trial 7 with value: 5.730074254224495.\u001b[0m\n",
      "num_leaves, val_score: 5.633687:  20%|##        | 4/20 [00:02<00:09,  1.72it/s]"
     ]
    },
    {
     "name": "stdout",
     "output_type": "stream",
     "text": [
      "Training until validation scores don't improve for 100 rounds\n",
      "[100]\ttrain's rmse: 4.44453\teval's rmse: 5.93226\n"
     ]
    },
    {
     "name": "stderr",
     "output_type": "stream",
     "text": [
      "\r",
      "num_leaves, val_score: 5.633687:  20%|##        | 4/20 [00:02<00:09,  1.72it/s]"
     ]
    },
    {
     "name": "stdout",
     "output_type": "stream",
     "text": [
      "[200]\ttrain's rmse: 3.4458\teval's rmse: 5.79116\n",
      "[300]\ttrain's rmse: 2.90197\teval's rmse: 5.79787\n",
      "Early stopping, best iteration is:\n",
      "[211]\ttrain's rmse: 3.3669\teval's rmse: 5.77489\n"
     ]
    },
    {
     "name": "stderr",
     "output_type": "stream",
     "text": [
      "num_leaves, val_score: 5.633687:  25%|##5       | 5/20 [00:02<00:08,  1.78it/s]\u001b[32m[I 2021-06-23 11:28:20,605]\u001b[0m Trial 11 finished with value: 5.7748922461470364 and parameters: {'num_leaves': 243}. Best is trial 7 with value: 5.730074254224495.\u001b[0m\n",
      "num_leaves, val_score: 5.633687:  25%|##5       | 5/20 [00:02<00:08,  1.78it/s]"
     ]
    },
    {
     "name": "stdout",
     "output_type": "stream",
     "text": [
      "Training until validation scores don't improve for 100 rounds\n",
      "[100]\ttrain's rmse: 4.44453\teval's rmse: 5.93226\n",
      "[200]\ttrain's rmse: 3.4458\teval's rmse: 5.79116\n",
      "[300]\ttrain's rmse: 2.90197\teval's rmse: 5.79787"
     ]
    },
    {
     "name": "stderr",
     "output_type": "stream",
     "text": [
      "num_leaves, val_score: 5.633687:  30%|###       | 6/20 [00:03<00:08,  1.69it/s]\u001b[32m[I 2021-06-23 11:28:21,263]\u001b[0m Trial 12 finished with value: 5.7748922461470364 and parameters: {'num_leaves': 251}. Best is trial 7 with value: 5.730074254224495.\u001b[0m\n",
      "num_leaves, val_score: 5.633687:  30%|###       | 6/20 [00:03<00:08,  1.69it/s]"
     ]
    },
    {
     "name": "stdout",
     "output_type": "stream",
     "text": [
      "\n",
      "Early stopping, best iteration is:\n",
      "[211]\ttrain's rmse: 3.3669\teval's rmse: 5.77489\n",
      "Training until validation scores don't improve for 100 rounds\n",
      "[100]\ttrain's rmse: 4.4294\teval's rmse: 5.89686\n",
      "[200]\ttrain's rmse: 3.43031\teval's rmse: 5.74347\n"
     ]
    },
    {
     "name": "stderr",
     "output_type": "stream",
     "text": [
      "num_leaves, val_score: 5.633687:  35%|###5      | 7/20 [00:03<00:07,  1.78it/s]\u001b[32m[I 2021-06-23 11:28:21,755]\u001b[0m Trial 13 finished with value: 5.724605712164266 and parameters: {'num_leaves': 53}. Best is trial 13 with value: 5.724605712164266.\u001b[0m\n",
      "num_leaves, val_score: 5.633687:  35%|###5      | 7/20 [00:03<00:07,  1.78it/s]"
     ]
    },
    {
     "name": "stdout",
     "output_type": "stream",
     "text": [
      "[300]\ttrain's rmse: 2.89763\teval's rmse: 5.77121\n",
      "Early stopping, best iteration is:\n",
      "[207]\ttrain's rmse: 3.38874\teval's rmse: 5.72461\n",
      "Training until validation scores don't improve for 100 rounds\n",
      "[100]\ttrain's rmse: 4.44453\teval's rmse: 5.93226\n",
      "[200]\ttrain's rmse: 3.4458\teval's rmse: 5.79116\n"
     ]
    },
    {
     "name": "stderr",
     "output_type": "stream",
     "text": [
      "num_leaves, val_score: 5.633687:  40%|####      | 8/20 [00:04<00:06,  1.72it/s]\u001b[32m[I 2021-06-23 11:28:22,374]\u001b[0m Trial 14 finished with value: 5.7748922461470364 and parameters: {'num_leaves': 153}. Best is trial 13 with value: 5.724605712164266.\u001b[0m\n",
      "num_leaves, val_score: 5.633687:  40%|####      | 8/20 [00:04<00:06,  1.72it/s]"
     ]
    },
    {
     "name": "stdout",
     "output_type": "stream",
     "text": [
      "[300]\ttrain's rmse: 2.90197\teval's rmse: 5.79787\n",
      "Early stopping, best iteration is:\n",
      "[211]\ttrain's rmse: 3.3669\teval's rmse: 5.77489\n",
      "Training until validation scores don't improve for 100 rounds\n",
      "[100]\ttrain's rmse: 4.44453\teval's rmse: 5.93226\n",
      "[200]\ttrain's rmse: 3.4458\teval's rmse: 5.79116\n"
     ]
    },
    {
     "name": "stderr",
     "output_type": "stream",
     "text": [
      "num_leaves, val_score: 5.633687:  45%|####5     | 9/20 [00:05<00:06,  1.63it/s]\u001b[32m[I 2021-06-23 11:28:23,062]\u001b[0m Trial 15 finished with value: 5.7748922461470364 and parameters: {'num_leaves': 232}. Best is trial 13 with value: 5.724605712164266.\u001b[0m\n",
      "num_leaves, val_score: 5.633687:  45%|####5     | 9/20 [00:05<00:06,  1.63it/s]"
     ]
    },
    {
     "name": "stdout",
     "output_type": "stream",
     "text": [
      "[300]\ttrain's rmse: 2.90197\teval's rmse: 5.79787\n",
      "Early stopping, best iteration is:\n",
      "[211]\ttrain's rmse: 3.3669\teval's rmse: 5.77489\n",
      "Training until validation scores don't improve for 100 rounds\n",
      "[100]\ttrain's rmse: 4.44453\teval's rmse: 5.93226\n",
      "[200]\ttrain's rmse: 3.4458\teval's rmse: 5.79116\n"
     ]
    },
    {
     "name": "stderr",
     "output_type": "stream",
     "text": [
      "num_leaves, val_score: 5.633687:  50%|####5    | 10/20 [00:05<00:05,  1.71it/s]\u001b[32m[I 2021-06-23 11:28:23,578]\u001b[0m Trial 16 finished with value: 5.7748922461470364 and parameters: {'num_leaves': 138}. Best is trial 13 with value: 5.724605712164266.\u001b[0m\n",
      "num_leaves, val_score: 5.633687:  50%|####5    | 10/20 [00:05<00:05,  1.71it/s]"
     ]
    },
    {
     "name": "stdout",
     "output_type": "stream",
     "text": [
      "[300]\ttrain's rmse: 2.90197\teval's rmse: 5.79787\n",
      "Early stopping, best iteration is:\n",
      "[211]\ttrain's rmse: 3.3669\teval's rmse: 5.77489\n",
      "Training until validation scores don't improve for 100 rounds\n",
      "[100]\ttrain's rmse: 7.27324\teval's rmse: 7.58702\n",
      "[200]\ttrain's rmse: 6.3266\teval's rmse: 6.61644\n",
      "[300]\ttrain's rmse: 6.15416\teval's rmse: 6.4584\n",
      "[400]\ttrain's rmse: 6.07029\teval's rmse: 6.37322\n",
      "[500]\ttrain's rmse: 6.01642\teval's rmse: 6.30218\n",
      "[600]\ttrain's rmse: 5.97239\teval's rmse: 6.24779\n",
      "[700]\ttrain's rmse: 5.94377\teval's rmse: 6.22078\n",
      "[800]\ttrain's rmse: 5.91866\teval's rmse: 6.19992\n",
      "[900]\ttrain's rmse: 5.89666\teval's rmse: 6.18408\n"
     ]
    },
    {
     "name": "stderr",
     "output_type": "stream",
     "text": [
      "num_leaves, val_score: 5.633687:  55%|####9    | 11/20 [00:06<00:04,  1.90it/s]\u001b[32m[I 2021-06-23 11:28:23,973]\u001b[0m Trial 17 finished with value: 6.170685399721342 and parameters: {'num_leaves': 2}. Best is trial 13 with value: 5.724605712164266.\u001b[0m\n",
      "num_leaves, val_score: 5.633687:  55%|####9    | 11/20 [00:06<00:04,  1.90it/s]"
     ]
    },
    {
     "name": "stdout",
     "output_type": "stream",
     "text": [
      "[1000]\ttrain's rmse: 5.88111\teval's rmse: 6.17069\n",
      "Did not meet early stopping. Best iteration is:\n",
      "[1000]\ttrain's rmse: 5.88111\teval's rmse: 6.17069\n",
      "Training until validation scores don't improve for 100 rounds\n",
      "[100]\ttrain's rmse: 5.44464\teval's rmse: 6.06481\n",
      "[200]\ttrain's rmse: 4.82398\teval's rmse: 5.72851\n"
     ]
    },
    {
     "name": "stderr",
     "output_type": "stream",
     "text": [
      "num_leaves, val_score: 5.600764:  60%|#####3   | 12/20 [00:06<00:03,  2.06it/s]\u001b[32m[I 2021-06-23 11:28:24,375]\u001b[0m Trial 18 finished with value: 5.600763940639068 and parameters: {'num_leaves': 12}. Best is trial 18 with value: 5.600763940639068.\u001b[0m\n",
      "num_leaves, val_score: 5.600764:  60%|#####3   | 12/20 [00:06<00:03,  2.06it/s]"
     ]
    },
    {
     "name": "stdout",
     "output_type": "stream",
     "text": [
      "[300]\ttrain's rmse: 4.47897\teval's rmse: 5.66168\n",
      "[400]\ttrain's rmse: 4.24339\teval's rmse: 5.61197\n",
      "[500]\ttrain's rmse: 4.05047\teval's rmse: 5.60461\n",
      "Early stopping, best iteration is:\n",
      "[449]\ttrain's rmse: 4.14243\teval's rmse: 5.60076\n",
      "Training until validation scores don't improve for 100 rounds\n",
      "[100]\ttrain's rmse: 5.11701\teval's rmse: 5.98398\n",
      "[200]\ttrain's rmse: 4.4047\teval's rmse: 5.69894\n",
      "[300]\ttrain's rmse: 4.01279\teval's rmse: 5.65317\n"
     ]
    },
    {
     "name": "stderr",
     "output_type": "stream",
     "text": [
      "num_leaves, val_score: 5.600764:  65%|#####8   | 13/20 [00:07<00:03,  2.02it/s]\u001b[32m[I 2021-06-23 11:28:24,892]\u001b[0m Trial 19 finished with value: 5.630484737556254 and parameters: {'num_leaves': 18}. Best is trial 18 with value: 5.600763940639068.\u001b[0m\n",
      "num_leaves, val_score: 5.600764:  65%|#####8   | 13/20 [00:07<00:03,  2.02it/s]"
     ]
    },
    {
     "name": "stdout",
     "output_type": "stream",
     "text": [
      "[400]\ttrain's rmse: 3.73912\teval's rmse: 5.63855\n",
      "[500]\ttrain's rmse: 3.51457\teval's rmse: 5.64333\n",
      "Early stopping, best iteration is:\n",
      "[435]\ttrain's rmse: 3.6526\teval's rmse: 5.63048\n",
      "Training until validation scores don't improve for 100 rounds\n",
      "[100]\ttrain's rmse: 6.44064\teval's rmse: 6.83024\n",
      "[200]\ttrain's rmse: 6.0035\teval's rmse: 6.44131\n",
      "[300]\ttrain's rmse: 5.80772\teval's rmse: 6.24013\n",
      "[400]\ttrain's rmse: 5.69091\teval's rmse: 6.12393\n",
      "[500]\ttrain's rmse: 5.59739\teval's rmse: 6.06052\n"
     ]
    },
    {
     "name": "stderr",
     "output_type": "stream",
     "text": [
      "num_leaves, val_score: 5.600764:  70%|######3  | 14/20 [00:07<00:02,  2.07it/s]\u001b[32m[I 2021-06-23 11:28:25,347]\u001b[0m Trial 20 finished with value: 5.8677590959625 and parameters: {'num_leaves': 3}. Best is trial 18 with value: 5.600763940639068.\u001b[0m\n",
      "num_leaves, val_score: 5.600764:  70%|######3  | 14/20 [00:07<00:02,  2.07it/s]"
     ]
    },
    {
     "name": "stdout",
     "output_type": "stream",
     "text": [
      "[600]\ttrain's rmse: 5.51395\teval's rmse: 5.99362\n",
      "[700]\ttrain's rmse: 5.4349\teval's rmse: 5.94858\n",
      "[800]\ttrain's rmse: 5.36527\teval's rmse: 5.91664\n",
      "[900]\ttrain's rmse: 5.32116\teval's rmse: 5.90172\n",
      "[1000]\ttrain's rmse: 5.27157\teval's rmse: 5.86776\n",
      "Did not meet early stopping. Best iteration is:\n",
      "[1000]\ttrain's rmse: 5.27157\teval's rmse: 5.86776\n",
      "Training until validation scores don't improve for 100 rounds\n",
      "[100]\ttrain's rmse: 4.93012\teval's rmse: 5.96374\n",
      "[200]\ttrain's rmse: 4.14736\teval's rmse: 5.6904\n"
     ]
    },
    {
     "name": "stderr",
     "output_type": "stream",
     "text": [
      "num_leaves, val_score: 5.600764:  75%|######7  | 15/20 [00:07<00:02,  2.16it/s]\u001b[32m[I 2021-06-23 11:28:25,761]\u001b[0m Trial 21 finished with value: 5.649286842977492 and parameters: {'num_leaves': 23}. Best is trial 18 with value: 5.600763940639068.\u001b[0m\n",
      "num_leaves, val_score: 5.600764:  75%|######7  | 15/20 [00:07<00:02,  2.16it/s]"
     ]
    },
    {
     "name": "stdout",
     "output_type": "stream",
     "text": [
      "[300]\ttrain's rmse: 3.73693\teval's rmse: 5.65185\n",
      "Early stopping, best iteration is:\n",
      "[296]\ttrain's rmse: 3.7535\teval's rmse: 5.64929\n",
      "Training until validation scores don't improve for 100 rounds\n",
      "[100]\ttrain's rmse: 4.44453\teval's rmse: 5.93226\n",
      "[200]\ttrain's rmse: 3.4458\teval's rmse: 5.79116\n"
     ]
    },
    {
     "name": "stderr",
     "output_type": "stream",
     "text": [
      "num_leaves, val_score: 5.600764:  80%|#######2 | 16/20 [00:08<00:01,  2.09it/s]\u001b[32m[I 2021-06-23 11:28:26,266]\u001b[0m Trial 22 finished with value: 5.7748922461470364 and parameters: {'num_leaves': 92}. Best is trial 18 with value: 5.600763940639068.\u001b[0m\n",
      "num_leaves, val_score: 5.600764:  80%|#######2 | 16/20 [00:08<00:01,  2.09it/s]"
     ]
    },
    {
     "name": "stdout",
     "output_type": "stream",
     "text": [
      "[300]\ttrain's rmse: 2.90197\teval's rmse: 5.79787\n",
      "Early stopping, best iteration is:\n",
      "[211]\ttrain's rmse: 3.3669\teval's rmse: 5.77489\n",
      "Training until validation scores don't improve for 100 rounds\n",
      "[100]\ttrain's rmse: 4.65804\teval's rmse: 5.90152\n"
     ]
    },
    {
     "name": "stderr",
     "output_type": "stream",
     "text": [
      "num_leaves, val_score: 5.600764:  85%|#######6 | 17/20 [00:08<00:01,  2.17it/s]\u001b[32m[I 2021-06-23 11:28:26,690]\u001b[0m Trial 23 finished with value: 5.662600798368779 and parameters: {'num_leaves': 33}. Best is trial 18 with value: 5.600763940639068.\u001b[0m\n",
      "num_leaves, val_score: 5.600764:  85%|#######6 | 17/20 [00:08<00:01,  2.17it/s]"
     ]
    },
    {
     "name": "stdout",
     "output_type": "stream",
     "text": [
      "[200]\ttrain's rmse: 3.76346\teval's rmse: 5.67893\n",
      "[300]\ttrain's rmse: 3.29156\teval's rmse: 5.67709\n",
      "Early stopping, best iteration is:\n",
      "[218]\ttrain's rmse: 3.66199\teval's rmse: 5.6626\n",
      "Training until validation scores don't improve for 100 rounds\n",
      "[100]\ttrain's rmse: 4.44453\teval's rmse: 5.93226\n"
     ]
    },
    {
     "name": "stderr",
     "output_type": "stream",
     "text": [
      "\r",
      "num_leaves, val_score: 5.600764:  85%|#######6 | 17/20 [00:09<00:01,  2.17it/s]"
     ]
    },
    {
     "name": "stdout",
     "output_type": "stream",
     "text": [
      "[200]\ttrain's rmse: 3.4458\teval's rmse: 5.79116\n",
      "[300]\ttrain's rmse: 2.90197\teval's rmse: 5.79787\n",
      "Early stopping, best iteration is:\n",
      "[211]\ttrain's rmse: 3.3669\teval's rmse: 5.77489\n"
     ]
    },
    {
     "name": "stderr",
     "output_type": "stream",
     "text": [
      "num_leaves, val_score: 5.600764:  90%|########1| 18/20 [00:09<00:01,  1.90it/s]\u001b[32m[I 2021-06-23 11:28:27,365]\u001b[0m Trial 24 finished with value: 5.7748922461470364 and parameters: {'num_leaves': 174}. Best is trial 18 with value: 5.600763940639068.\u001b[0m\n",
      "num_leaves, val_score: 5.600764:  90%|########1| 18/20 [00:09<00:01,  1.90it/s]"
     ]
    },
    {
     "name": "stdout",
     "output_type": "stream",
     "text": [
      "Training until validation scores don't improve for 100 rounds\n",
      "[100]\ttrain's rmse: 4.44453\teval's rmse: 5.93226\n"
     ]
    },
    {
     "name": "stderr",
     "output_type": "stream",
     "text": [
      "\r",
      "num_leaves, val_score: 5.600764:  90%|########1| 18/20 [00:10<00:01,  1.90it/s]"
     ]
    },
    {
     "name": "stdout",
     "output_type": "stream",
     "text": [
      "[200]\ttrain's rmse: 3.4458\teval's rmse: 5.79116\n",
      "[300]\ttrain's rmse: 2.90197\teval's rmse: 5.79787\n",
      "Early stopping, best iteration is:\n",
      "[211]\ttrain's rmse: 3.3669\teval's rmse: 5.77489\n"
     ]
    },
    {
     "name": "stderr",
     "output_type": "stream",
     "text": [
      "num_leaves, val_score: 5.600764:  95%|########5| 19/20 [00:10<00:00,  1.91it/s]\u001b[32m[I 2021-06-23 11:28:27,880]\u001b[0m Trial 25 finished with value: 5.7748922461470364 and parameters: {'num_leaves': 76}. Best is trial 18 with value: 5.600763940639068.\u001b[0m\n",
      "num_leaves, val_score: 5.600764:  95%|########5| 19/20 [00:10<00:00,  1.91it/s]"
     ]
    },
    {
     "name": "stdout",
     "output_type": "stream",
     "text": [
      "Training until validation scores don't improve for 100 rounds\n",
      "[100]\ttrain's rmse: 4.81088\teval's rmse: 5.93675\n",
      "[200]\ttrain's rmse: 3.96104\teval's rmse: 5.67544\n"
     ]
    },
    {
     "name": "stderr",
     "output_type": "stream",
     "text": [
      "num_leaves, val_score: 5.600764: 100%|#########| 20/20 [00:10<00:00,  1.95it/s]\u001b[32m[I 2021-06-23 11:28:28,373]\u001b[0m Trial 26 finished with value: 5.647977253180902 and parameters: {'num_leaves': 27}. Best is trial 18 with value: 5.600763940639068.\u001b[0m\n",
      "num_leaves, val_score: 5.600764: 100%|#########| 20/20 [00:10<00:00,  1.89it/s]\n",
      "  0%|                                                   | 0/10 [00:00<?, ?it/s]"
     ]
    },
    {
     "name": "stdout",
     "output_type": "stream",
     "text": [
      "[300]\ttrain's rmse: 3.51771\teval's rmse: 5.6607\n",
      "[400]\ttrain's rmse: 3.19531\teval's rmse: 5.68037\n",
      "Early stopping, best iteration is:\n",
      "[346]\ttrain's rmse: 3.36674\teval's rmse: 5.64798\n"
     ]
    },
    {
     "name": "stderr",
     "output_type": "stream",
     "text": [
      "\r",
      "bagging, val_score: 5.600764:   0%|                     | 0/10 [00:00<?, ?it/s]"
     ]
    },
    {
     "name": "stdout",
     "output_type": "stream",
     "text": [
      "Training until validation scores don't improve for 100 rounds\n",
      "[100]\ttrain's rmse: 5.50231\teval's rmse: 6.08741\n",
      "[200]\ttrain's rmse: 4.89689\teval's rmse: 5.77937\n",
      "[300]\ttrain's rmse: 4.56998\teval's rmse: 5.69809\n"
     ]
    },
    {
     "name": "stderr",
     "output_type": "stream",
     "text": [
      "\r",
      "bagging, val_score: 5.595737:   0%|                     | 0/10 [00:00<?, ?it/s]"
     ]
    },
    {
     "name": "stdout",
     "output_type": "stream",
     "text": [
      "[400]\ttrain's rmse: 4.33128\teval's rmse: 5.62264\n",
      "[500]\ttrain's rmse: 4.12434\teval's rmse: 5.60442\n",
      "[600]\ttrain's rmse: 3.95512\teval's rmse: 5.61144\n",
      "Early stopping, best iteration is:\n",
      "[549]\ttrain's rmse: 4.04388\teval's rmse: 5.59574\n"
     ]
    },
    {
     "name": "stderr",
     "output_type": "stream",
     "text": [
      "bagging, val_score: 5.595737:  10%|#3           | 1/10 [00:00<00:04,  2.15it/s]\u001b[32m[I 2021-06-23 11:28:28,848]\u001b[0m Trial 27 finished with value: 5.59573721642774 and parameters: {'bagging_fraction': 0.6892180532236665, 'bagging_freq': 5}. Best is trial 27 with value: 5.59573721642774.\u001b[0m\n",
      "bagging, val_score: 5.595737:  10%|#3           | 1/10 [00:00<00:04,  2.15it/s]"
     ]
    },
    {
     "name": "stdout",
     "output_type": "stream",
     "text": [
      "Training until validation scores don't improve for 100 rounds\n",
      "[100]\ttrain's rmse: 5.41421\teval's rmse: 6.08632\n",
      "[200]\ttrain's rmse: 4.79713\teval's rmse: 5.79299\n",
      "[300]\ttrain's rmse: 4.44903\teval's rmse: 5.70367\n",
      "[400]\ttrain's rmse: 4.21036\teval's rmse: 5.66529\n",
      "[500]\ttrain's rmse: 4.0176\teval's rmse: 5.6495\n",
      "[600]\ttrain's rmse: 3.84447\teval's rmse: 5.63685\n"
     ]
    },
    {
     "name": "stderr",
     "output_type": "stream",
     "text": [
      "bagging, val_score: 5.595737:  20%|##6          | 2/10 [00:01<00:04,  1.81it/s]\u001b[32m[I 2021-06-23 11:28:29,456]\u001b[0m Trial 28 finished with value: 5.629540593412613 and parameters: {'bagging_fraction': 0.8779651960275037, 'bagging_freq': 4}. Best is trial 27 with value: 5.59573721642774.\u001b[0m\n",
      "bagging, val_score: 5.595737:  20%|##6          | 2/10 [00:01<00:04,  1.81it/s]"
     ]
    },
    {
     "name": "stdout",
     "output_type": "stream",
     "text": [
      "[700]\ttrain's rmse: 3.69547\teval's rmse: 5.63498\n",
      "Early stopping, best iteration is:\n",
      "[671]\ttrain's rmse: 3.72989\teval's rmse: 5.62954\n",
      "Training until validation scores don't improve for 100 rounds\n",
      "[100]\ttrain's rmse: 5.42049\teval's rmse: 6.04457\n",
      "[200]\ttrain's rmse: 4.7984\teval's rmse: 5.73926\n",
      "[300]\ttrain's rmse: 4.46071\teval's rmse: 5.67548\n",
      "[400]\ttrain's rmse: 4.21805\teval's rmse: 5.62859\n",
      "[500]\ttrain's rmse: 4.01957\teval's rmse: 5.61589\n"
     ]
    },
    {
     "name": "stderr",
     "output_type": "stream",
     "text": [
      "bagging, val_score: 5.594609:  30%|###9         | 3/10 [00:01<00:03,  1.83it/s]\u001b[32m[I 2021-06-23 11:28:30,000]\u001b[0m Trial 29 finished with value: 5.594609277333678 and parameters: {'bagging_fraction': 0.8670560028430544, 'bagging_freq': 5}. Best is trial 29 with value: 5.594609277333678.\u001b[0m\n",
      "bagging, val_score: 5.594609:  30%|###9         | 3/10 [00:01<00:03,  1.83it/s]"
     ]
    },
    {
     "name": "stdout",
     "output_type": "stream",
     "text": [
      "[600]\ttrain's rmse: 3.85027\teval's rmse: 5.60202\n",
      "[700]\ttrain's rmse: 3.69513\teval's rmse: 5.59999\n",
      "Early stopping, best iteration is:\n",
      "[664]\ttrain's rmse: 3.74406\teval's rmse: 5.59461\n",
      "Training until validation scores don't improve for 100 rounds\n",
      "[100]\ttrain's rmse: 5.50338\teval's rmse: 6.16237\n",
      "[200]\ttrain's rmse: 4.90414\teval's rmse: 5.81773\n",
      "[300]\ttrain's rmse: 4.57362\teval's rmse: 5.72187\n",
      "[400]\ttrain's rmse: 4.33062\teval's rmse: 5.65448\n",
      "[500]\ttrain's rmse: 4.1377\teval's rmse: 5.61549\n",
      "[600]\ttrain's rmse: 3.9736\teval's rmse: 5.58295\n",
      "[700]\ttrain's rmse: 3.82281\teval's rmse: 5.57217\n",
      "[800]\ttrain's rmse: 3.68244\teval's rmse: 5.5919\n",
      "Early stopping, best iteration is:\n",
      "[721]\ttrain's rmse: 3.79259\teval's rmse: 5.55469\n"
     ]
    },
    {
     "name": "stderr",
     "output_type": "stream",
     "text": [
      "bagging, val_score: 5.554693:  40%|#####2       | 4/10 [00:02<00:04,  1.47it/s]\u001b[32m[I 2021-06-23 11:28:30,893]\u001b[0m Trial 30 finished with value: 5.55469316409695 and parameters: {'bagging_fraction': 0.6711735670006747, 'bagging_freq': 6}. Best is trial 30 with value: 5.55469316409695.\u001b[0m\n",
      "bagging, val_score: 5.554693:  40%|#####2       | 4/10 [00:02<00:04,  1.47it/s]"
     ]
    },
    {
     "name": "stdout",
     "output_type": "stream",
     "text": [
      "Training until validation scores don't improve for 100 rounds\n",
      "[100]\ttrain's rmse: 5.40173\teval's rmse: 6.04584\n",
      "[200]\ttrain's rmse: 4.78847\teval's rmse: 5.69991\n",
      "[300]\ttrain's rmse: 4.4537\teval's rmse: 5.60553\n",
      "[400]\ttrain's rmse: 4.21683\teval's rmse: 5.59099\n"
     ]
    },
    {
     "name": "stderr",
     "output_type": "stream",
     "text": [
      "bagging, val_score: 5.554693:  50%|######5      | 5/10 [00:03<00:03,  1.30it/s]\u001b[32m[I 2021-06-23 11:28:31,810]\u001b[0m Trial 31 finished with value: 5.582798918226815 and parameters: {'bagging_fraction': 0.8392638874546907, 'bagging_freq': 1}. Best is trial 30 with value: 5.55469316409695.\u001b[0m\n",
      "bagging, val_score: 5.554693:  50%|######5      | 5/10 [00:03<00:03,  1.30it/s]"
     ]
    },
    {
     "name": "stdout",
     "output_type": "stream",
     "text": [
      "[500]\ttrain's rmse: 4.01688\teval's rmse: 5.5942\n",
      "Early stopping, best iteration is:\n",
      "[412]\ttrain's rmse: 4.19009\teval's rmse: 5.5828\n",
      "Training until validation scores don't improve for 100 rounds\n",
      "[100]\ttrain's rmse: 5.573\teval's rmse: 6.16116\n",
      "[200]\ttrain's rmse: 5.00915\teval's rmse: 5.86285\n",
      "[300]\ttrain's rmse: 4.67678\teval's rmse: 5.72554\n",
      "[400]\ttrain's rmse: 4.4536\teval's rmse: 5.68041\n",
      "[500]\ttrain's rmse: 4.25736\teval's rmse: 5.68273\n"
     ]
    },
    {
     "name": "stderr",
     "output_type": "stream",
     "text": [
      "bagging, val_score: 5.554693:  60%|#######8     | 6/10 [00:04<00:03,  1.29it/s]\u001b[32m[I 2021-06-23 11:28:32,610]\u001b[0m Trial 32 finished with value: 5.657947018315622 and parameters: {'bagging_fraction': 0.5207326377499893, 'bagging_freq': 4}. Best is trial 30 with value: 5.55469316409695.\u001b[0m\n",
      "bagging, val_score: 5.554693:  60%|#######8     | 6/10 [00:04<00:03,  1.29it/s]"
     ]
    },
    {
     "name": "stdout",
     "output_type": "stream",
     "text": [
      "Early stopping, best iteration is:\n",
      "[481]\ttrain's rmse: 4.29451\teval's rmse: 5.65795\n",
      "Training until validation scores don't improve for 100 rounds\n",
      "[100]\ttrain's rmse: 5.48944\teval's rmse: 6.10226\n",
      "[200]\ttrain's rmse: 4.89538\teval's rmse: 5.83059\n",
      "[300]\ttrain's rmse: 4.56167\teval's rmse: 5.7283\n",
      "[400]\ttrain's rmse: 4.32349\teval's rmse: 5.68212\n",
      "[500]\ttrain's rmse: 4.12572\teval's rmse: 5.68049\n"
     ]
    },
    {
     "name": "stderr",
     "output_type": "stream",
     "text": [
      "bagging, val_score: 5.554693:  70%|#########1   | 7/10 [00:04<00:02,  1.30it/s]\u001b[32m[I 2021-06-23 11:28:33,359]\u001b[0m Trial 33 finished with value: 5.6677502468591925 and parameters: {'bagging_fraction': 0.6818813247039577, 'bagging_freq': 3}. Best is trial 30 with value: 5.55469316409695.\u001b[0m\n",
      "bagging, val_score: 5.554693:  70%|#########1   | 7/10 [00:04<00:02,  1.30it/s]"
     ]
    },
    {
     "name": "stdout",
     "output_type": "stream",
     "text": [
      "[600]\ttrain's rmse: 3.96487\teval's rmse: 5.70373\n",
      "Early stopping, best iteration is:\n",
      "[555]\ttrain's rmse: 4.03828\teval's rmse: 5.66775\n",
      "Training until validation scores don't improve for 100 rounds\n",
      "[100]\ttrain's rmse: 5.48079\teval's rmse: 6.10044\n",
      "[200]\ttrain's rmse: 4.85649\teval's rmse: 5.78342\n",
      "[300]\ttrain's rmse: 4.51578\teval's rmse: 5.68359\n",
      "[400]\ttrain's rmse: 4.27023\teval's rmse: 5.64392\n",
      "[500]\ttrain's rmse: 4.0733\teval's rmse: 5.65019\n"
     ]
    },
    {
     "name": "stderr",
     "output_type": "stream",
     "text": [
      "bagging, val_score: 5.554693:  80%|##########4  | 8/10 [00:05<00:01,  1.49it/s]\u001b[32m[I 2021-06-23 11:28:33,821]\u001b[0m Trial 34 finished with value: 5.627982723091394 and parameters: {'bagging_fraction': 0.7085490590962686, 'bagging_freq': 4}. Best is trial 30 with value: 5.55469316409695.\u001b[0m\n",
      "bagging, val_score: 5.554693:  80%|##########4  | 8/10 [00:05<00:01,  1.49it/s]"
     ]
    },
    {
     "name": "stdout",
     "output_type": "stream",
     "text": [
      "Early stopping, best iteration is:\n",
      "[478]\ttrain's rmse: 4.11784\teval's rmse: 5.62798\n",
      "Training until validation scores don't improve for 100 rounds\n",
      "[100]\ttrain's rmse: 5.53066\teval's rmse: 6.15493\n",
      "[200]\ttrain's rmse: 4.96246\teval's rmse: 5.86736"
     ]
    },
    {
     "name": "stderr",
     "output_type": "stream",
     "text": [
      "bagging, val_score: 5.554693:  90%|###########7 | 9/10 [00:05<00:00,  1.77it/s]\u001b[32m[I 2021-06-23 11:28:34,147]\u001b[0m Trial 35 finished with value: 5.709827864363444 and parameters: {'bagging_fraction': 0.5721542944317268, 'bagging_freq': 6}. Best is trial 30 with value: 5.55469316409695.\u001b[0m\n",
      "bagging, val_score: 5.554693:  90%|###########7 | 9/10 [00:05<00:00,  1.77it/s]"
     ]
    },
    {
     "name": "stdout",
     "output_type": "stream",
     "text": [
      "\n",
      "[300]\ttrain's rmse: 4.63804\teval's rmse: 5.79264\n",
      "[400]\ttrain's rmse: 4.40621\teval's rmse: 5.73567\n",
      "Early stopping, best iteration is:\n",
      "[354]\ttrain's rmse: 4.5076\teval's rmse: 5.70983\n",
      "Training until validation scores don't improve for 100 rounds\n",
      "[100]\ttrain's rmse: 5.57757\teval's rmse: 6.14387\n",
      "[200]\ttrain's rmse: 4.97161\teval's rmse: 5.78754\n",
      "[300]\ttrain's rmse: 4.66872\teval's rmse: 5.71322\n"
     ]
    },
    {
     "name": "stderr",
     "output_type": "stream",
     "text": [
      "bagging, val_score: 5.554693: 100%|############| 10/10 [00:06<00:00,  1.93it/s]\u001b[32m[I 2021-06-23 11:28:34,561]\u001b[0m Trial 36 finished with value: 5.652190097989039 and parameters: {'bagging_fraction': 0.4929495173670029, 'bagging_freq': 2}. Best is trial 30 with value: 5.55469316409695.\u001b[0m\n",
      "bagging, val_score: 5.554693: 100%|############| 10/10 [00:06<00:00,  1.62it/s]\n",
      "feature_fraction_stage2, val_score: 5.554693:   0%|      | 0/3 [00:00<?, ?it/s]"
     ]
    },
    {
     "name": "stdout",
     "output_type": "stream",
     "text": [
      "[400]\ttrain's rmse: 4.45423\teval's rmse: 5.68029\n",
      "[500]\ttrain's rmse: 4.27253\teval's rmse: 5.66754\n",
      "Early stopping, best iteration is:\n",
      "[459]\ttrain's rmse: 4.34313\teval's rmse: 5.65219\n",
      "Training until validation scores don't improve for 100 rounds\n",
      "[100]\ttrain's rmse: 5.43179\teval's rmse: 5.99625\n",
      "[200]\ttrain's rmse: 4.86957\teval's rmse: 5.80745\n",
      "[300]\ttrain's rmse: 4.53866\teval's rmse: 5.76581\n",
      "[400]\ttrain's rmse: 4.28731\teval's rmse: 5.71227\n",
      "[500]\ttrain's rmse: 4.09122\teval's rmse: 5.66233\n",
      "[600]\ttrain's rmse: 3.91304\teval's rmse: 5.66082\n"
     ]
    },
    {
     "name": "stderr",
     "output_type": "stream",
     "text": [
      "feature_fraction_stage2, val_score: 5.554693:  33%|3| 1/3 [00:00<00:01,  1.73it\u001b[32m[I 2021-06-23 11:28:35,158]\u001b[0m Trial 37 finished with value: 5.6487292478441455 and parameters: {'feature_fraction': 0.48000000000000004}. Best is trial 37 with value: 5.6487292478441455.\u001b[0m\n",
      "feature_fraction_stage2, val_score: 5.554693:  33%|3| 1/3 [00:00<00:01,  1.73it"
     ]
    },
    {
     "name": "stdout",
     "output_type": "stream",
     "text": [
      "Early stopping, best iteration is:\n",
      "[572]\ttrain's rmse: 3.96157\teval's rmse: 5.64873\n",
      "Training until validation scores don't improve for 100 rounds\n",
      "[100]\ttrain's rmse: 5.44787\teval's rmse: 6.05751\n",
      "[200]\ttrain's rmse: 4.86805\teval's rmse: 5.76744\n",
      "[300]\ttrain's rmse: 4.53976\teval's rmse: 5.71993\n",
      "[400]\ttrain's rmse: 4.29399\teval's rmse: 5.66129\n",
      "[500]\ttrain's rmse: 4.09223\teval's rmse: 5.61969\n",
      "[600]\ttrain's rmse: 3.93027\teval's rmse: 5.6067\n"
     ]
    },
    {
     "name": "stderr",
     "output_type": "stream",
     "text": [
      "feature_fraction_stage2, val_score: 5.554693:  67%|6| 2/3 [00:01<00:00,  1.89it\u001b[32m[I 2021-06-23 11:28:35,643]\u001b[0m Trial 38 finished with value: 5.599963638014459 and parameters: {'feature_fraction': 0.44800000000000006}. Best is trial 38 with value: 5.599963638014459.\u001b[0m\n",
      "feature_fraction_stage2, val_score: 5.554693:  67%|6| 2/3 [00:01<00:00,  1.89it"
     ]
    },
    {
     "name": "stdout",
     "output_type": "stream",
     "text": [
      "Early stopping, best iteration is:\n",
      "[576]\ttrain's rmse: 3.96883\teval's rmse: 5.59996\n",
      "Training until validation scores don't improve for 100 rounds\n",
      "[100]\ttrain's rmse: 5.47336\teval's rmse: 6.08619\n",
      "[200]\ttrain's rmse: 4.88035\teval's rmse: 5.80266\n",
      "[300]\ttrain's rmse: 4.5478\teval's rmse: 5.73598\n",
      "[400]\ttrain's rmse: 4.30199\teval's rmse: 5.67347\n",
      "[500]\ttrain's rmse: 4.09509\teval's rmse: 5.61068\n",
      "[600]\ttrain's rmse: 3.92122\teval's rmse: 5.60616\n"
     ]
    },
    {
     "name": "stderr",
     "output_type": "stream",
     "text": [
      "feature_fraction_stage2, val_score: 5.554693: 100%|#| 3/3 [00:01<00:00,  1.93it\u001b[32m[I 2021-06-23 11:28:36,156]\u001b[0m Trial 39 finished with value: 5.590186589965694 and parameters: {'feature_fraction': 0.41600000000000004}. Best is trial 39 with value: 5.590186589965694.\u001b[0m\n",
      "feature_fraction_stage2, val_score: 5.554693: 100%|#| 3/3 [00:01<00:00,  1.89it\n",
      "regularization_factors, val_score: 5.554693:   0%|      | 0/20 [00:00<?, ?it/s]"
     ]
    },
    {
     "name": "stdout",
     "output_type": "stream",
     "text": [
      "Early stopping, best iteration is:\n",
      "[576]\ttrain's rmse: 3.96304\teval's rmse: 5.59019\n",
      "Training until validation scores don't improve for 100 rounds\n",
      "[100]\ttrain's rmse: 5.50624\teval's rmse: 6.15057\n",
      "[200]\ttrain's rmse: 4.91563\teval's rmse: 5.83784\n",
      "[300]\ttrain's rmse: 4.57345\teval's rmse: 5.74501\n",
      "[400]\ttrain's rmse: 4.3352\teval's rmse: 5.6733\n",
      "[500]\ttrain's rmse: 4.13838\teval's rmse: 5.6286\n"
     ]
    },
    {
     "name": "stderr",
     "output_type": "stream",
     "text": [
      "regularization_factors, val_score: 5.554693:   5%| | 1/20 [00:00<00:11,  1.69it\u001b[32m[I 2021-06-23 11:28:36,751]\u001b[0m Trial 40 finished with value: 5.5797309448232655 and parameters: {'lambda_l1': 0.0215878516806877, 'lambda_l2': 4.5031335099384604e-06}. Best is trial 40 with value: 5.5797309448232655.\u001b[0m\n",
      "regularization_factors, val_score: 5.554693:   5%| | 1/20 [00:00<00:11,  1.69it"
     ]
    },
    {
     "name": "stdout",
     "output_type": "stream",
     "text": [
      "[600]\ttrain's rmse: 3.97534\teval's rmse: 5.6126\n",
      "[700]\ttrain's rmse: 3.82503\teval's rmse: 5.58722\n",
      "[800]\ttrain's rmse: 3.68662\teval's rmse: 5.60846\n",
      "Early stopping, best iteration is:\n",
      "[721]\ttrain's rmse: 3.79661\teval's rmse: 5.57973\n",
      "Training until validation scores don't improve for 100 rounds\n",
      "[100]\ttrain's rmse: 5.50477\teval's rmse: 6.15618\n",
      "[200]\ttrain's rmse: 4.90286\teval's rmse: 5.82558\n",
      "[300]\ttrain's rmse: 4.57467\teval's rmse: 5.75829\n",
      "[400]\ttrain's rmse: 4.33589\teval's rmse: 5.72145\n",
      "[500]\ttrain's rmse: 4.13918\teval's rmse: 5.67537\n"
     ]
    },
    {
     "name": "stderr",
     "output_type": "stream",
     "text": [
      "regularization_factors, val_score: 5.554693:  10%|1| 2/20 [00:01<00:10,  1.65it\u001b[32m[I 2021-06-23 11:28:37,368]\u001b[0m Trial 41 finished with value: 5.657604796592825 and parameters: {'lambda_l1': 4.7403624011769543e-07, 'lambda_l2': 0.03758009170104323}. Best is trial 40 with value: 5.5797309448232655.\u001b[0m\n",
      "regularization_factors, val_score: 5.554693:  10%|1| 2/20 [00:01<00:10,  1.65it"
     ]
    },
    {
     "name": "stdout",
     "output_type": "stream",
     "text": [
      "[600]\ttrain's rmse: 3.96955\teval's rmse: 5.66493\n",
      "Early stopping, best iteration is:\n",
      "[574]\ttrain's rmse: 4.01159\teval's rmse: 5.6576\n",
      "Training until validation scores don't improve for 100 rounds\n",
      "[100]\ttrain's rmse: 5.50364\teval's rmse: 6.1774\n",
      "[200]\ttrain's rmse: 4.91315\teval's rmse: 5.8761\n",
      "[300]\ttrain's rmse: 4.57733\teval's rmse: 5.77055\n",
      "[400]\ttrain's rmse: 4.34833\teval's rmse: 5.72259\n",
      "[500]\ttrain's rmse: 4.15248\teval's rmse: 5.67916\n"
     ]
    },
    {
     "name": "stderr",
     "output_type": "stream",
     "text": [
      "regularization_factors, val_score: 5.554693:  15%|1| 3/20 [00:01<00:09,  1.86it\u001b[32m[I 2021-06-23 11:28:37,822]\u001b[0m Trial 42 finished with value: 5.676530133536763 and parameters: {'lambda_l1': 0.004361061546766773, 'lambda_l2': 0.5364084679413906}. Best is trial 40 with value: 5.5797309448232655.\u001b[0m\n",
      "regularization_factors, val_score: 5.554693:  15%|1| 3/20 [00:01<00:09,  1.86it"
     ]
    },
    {
     "name": "stdout",
     "output_type": "stream",
     "text": [
      "[600]\ttrain's rmse: 3.98728\teval's rmse: 5.6854\n",
      "Early stopping, best iteration is:\n",
      "[527]\ttrain's rmse: 4.10307\teval's rmse: 5.67653\n",
      "Training until validation scores don't improve for 100 rounds\n",
      "[100]\ttrain's rmse: 5.50338\teval's rmse: 6.16237\n",
      "[200]\ttrain's rmse: 4.90414\teval's rmse: 5.81773\n",
      "[300]\ttrain's rmse: 4.57362\teval's rmse: 5.72187\n",
      "[400]\ttrain's rmse: 4.33062\teval's rmse: 5.65448\n",
      "[500]\ttrain's rmse: 4.1377\teval's rmse: 5.61549\n"
     ]
    },
    {
     "name": "stderr",
     "output_type": "stream",
     "text": [
      "regularization_factors, val_score: 5.554693:  20%|2| 4/20 [00:02<00:08,  1.81it\u001b[32m[I 2021-06-23 11:28:38,398]\u001b[0m Trial 43 finished with value: 5.5546931551437995 and parameters: {'lambda_l1': 1.3455744839734287e-05, 'lambda_l2': 2.163399657570909e-06}. Best is trial 43 with value: 5.5546931551437995.\u001b[0m\n",
      "regularization_factors, val_score: 5.554693:  20%|2| 4/20 [00:02<00:08,  1.81it"
     ]
    },
    {
     "name": "stdout",
     "output_type": "stream",
     "text": [
      "[600]\ttrain's rmse: 3.9736\teval's rmse: 5.58295\n",
      "[700]\ttrain's rmse: 3.82281\teval's rmse: 5.57217\n",
      "[800]\ttrain's rmse: 3.68244\teval's rmse: 5.5919\n",
      "Early stopping, best iteration is:\n",
      "[721]\ttrain's rmse: 3.79259\teval's rmse: 5.55469\n",
      "Training until validation scores don't improve for 100 rounds\n",
      "[100]\ttrain's rmse: 5.50343\teval's rmse: 6.16239\n",
      "[200]\ttrain's rmse: 4.90478\teval's rmse: 5.81815\n",
      "[300]\ttrain's rmse: 4.57486\teval's rmse: 5.73067\n",
      "[400]\ttrain's rmse: 4.3369\teval's rmse: 5.67572\n",
      "[500]\ttrain's rmse: 4.14424\teval's rmse: 5.62613\n",
      "[600]\ttrain's rmse: 3.97458\teval's rmse: 5.61111\n",
      "[700]\ttrain's rmse: 3.82991\teval's rmse: 5.59311"
     ]
    },
    {
     "name": "stderr",
     "output_type": "stream",
     "text": [
      "regularization_factors, val_score: 5.554693:  25%|2| 5/20 [00:02<00:08,  1.70it\u001b[32m[I 2021-06-23 11:28:39,045]\u001b[0m Trial 44 finished with value: 5.58204117392519 and parameters: {'lambda_l1': 0.011077578951957873, 'lambda_l2': 0.00012183426501501144}. Best is trial 43 with value: 5.5546931551437995.\u001b[0m\n"
     ]
    },
    {
     "name": "stdout",
     "output_type": "stream",
     "text": [
      "\n",
      "[800]\ttrain's rmse: 3.6952\teval's rmse: 5.61564\n",
      "Early stopping, best iteration is:\n",
      "[715]\ttrain's rmse: 3.80913\teval's rmse: 5.58204\n"
     ]
    },
    {
     "name": "stderr",
     "output_type": "stream",
     "text": [
      "\r",
      "regularization_factors, val_score: 5.554693:  25%|2| 5/20 [00:02<00:08,  1.70it"
     ]
    },
    {
     "name": "stdout",
     "output_type": "stream",
     "text": [
      "Training until validation scores don't improve for 100 rounds\n",
      "[100]\ttrain's rmse: 5.50338\teval's rmse: 6.16237\n",
      "[200]\ttrain's rmse: 4.90414\teval's rmse: 5.81773\n",
      "[300]\ttrain's rmse: 4.57165\teval's rmse: 5.72062\n",
      "[400]\ttrain's rmse: 4.33606\teval's rmse: 5.66589\n",
      "[500]\ttrain's rmse: 4.14192\teval's rmse: 5.61772\n",
      "[600]\ttrain's rmse: 3.9724\teval's rmse: 5.6033\n"
     ]
    },
    {
     "name": "stderr",
     "output_type": "stream",
     "text": [
      "regularization_factors, val_score: 5.554693:  30%|3| 6/20 [00:03<00:08,  1.70it\u001b[32m[I 2021-06-23 11:28:39,641]\u001b[0m Trial 45 finished with value: 5.574416017173821 and parameters: {'lambda_l1': 9.378195447879213e-05, 'lambda_l2': 1.4866537326549903e-07}. Best is trial 43 with value: 5.5546931551437995.\u001b[0m\n",
      "regularization_factors, val_score: 5.554693:  30%|3| 6/20 [00:03<00:08,  1.70it"
     ]
    },
    {
     "name": "stdout",
     "output_type": "stream",
     "text": [
      "[700]\ttrain's rmse: 3.81979\teval's rmse: 5.58258\n",
      "[800]\ttrain's rmse: 3.68243\teval's rmse: 5.5996\n",
      "Early stopping, best iteration is:\n",
      "[714]\ttrain's rmse: 3.79953\teval's rmse: 5.57442\n",
      "Training until validation scores don't improve for 100 rounds\n",
      "[100]\ttrain's rmse: 5.50179\teval's rmse: 6.16364\n",
      "[200]\ttrain's rmse: 4.91812\teval's rmse: 5.85492\n",
      "[300]\ttrain's rmse: 4.57282\teval's rmse: 5.77539\n",
      "[400]\ttrain's rmse: 4.34481\teval's rmse: 5.71256\n"
     ]
    },
    {
     "name": "stderr",
     "output_type": "stream",
     "text": [
      "regularization_factors, val_score: 5.554693:  35%|3| 7/20 [00:03<00:07,  1.79it\u001b[32m[I 2021-06-23 11:28:40,136]\u001b[0m Trial 46 finished with value: 5.653192166904603 and parameters: {'lambda_l1': 0.7070675049848016, 'lambda_l2': 1.7888495544302348e-05}. Best is trial 43 with value: 5.5546931551437995.\u001b[0m\n",
      "regularization_factors, val_score: 5.554693:  35%|3| 7/20 [00:03<00:07,  1.79it"
     ]
    },
    {
     "name": "stdout",
     "output_type": "stream",
     "text": [
      "[500]\ttrain's rmse: 4.14615\teval's rmse: 5.67496\n",
      "[600]\ttrain's rmse: 3.97599\teval's rmse: 5.66158\n",
      "Early stopping, best iteration is:\n",
      "[583]\ttrain's rmse: 4.0023\teval's rmse: 5.65319\n",
      "Training until validation scores don't improve for 100 rounds\n",
      "[100]\ttrain's rmse: 5.48581\teval's rmse: 6.16051\n",
      "[200]\ttrain's rmse: 4.9047\teval's rmse: 5.83159\n",
      "[300]\ttrain's rmse: 4.56919\teval's rmse: 5.77691\n",
      "[400]\ttrain's rmse: 4.33272\teval's rmse: 5.71215\n",
      "[500]\ttrain's rmse: 4.13411\teval's rmse: 5.67099\n",
      "[600]\ttrain's rmse: 3.97323\teval's rmse: 5.6638\n",
      "[700]\ttrain's rmse: 3.82754\teval's rmse: 5.65143\n",
      "[800]\ttrain's rmse: 3.69636\teval's rmse: 5.66993\n",
      "Early stopping, best iteration is:\n",
      "[721]\ttrain's rmse: 3.79708\teval's rmse: 5.63649\n"
     ]
    },
    {
     "name": "stderr",
     "output_type": "stream",
     "text": [
      "regularization_factors, val_score: 5.554693:  40%|4| 8/20 [00:04<00:06,  1.77it\u001b[32m[I 2021-06-23 11:28:40,720]\u001b[0m Trial 47 finished with value: 5.63648587122207 and parameters: {'lambda_l1': 1.1203237504699861, 'lambda_l2': 1.514536017838825e-08}. Best is trial 43 with value: 5.5546931551437995.\u001b[0m\n",
      "regularization_factors, val_score: 5.554693:  40%|4| 8/20 [00:04<00:06,  1.77it"
     ]
    },
    {
     "name": "stdout",
     "output_type": "stream",
     "text": [
      "Training until validation scores don't improve for 100 rounds\n",
      "[100]\ttrain's rmse: 5.48665\teval's rmse: 6.16668\n",
      "[200]\ttrain's rmse: 4.8989\teval's rmse: 5.85472\n",
      "[300]\ttrain's rmse: 4.56748\teval's rmse: 5.77023\n",
      "[400]\ttrain's rmse: 4.33634\teval's rmse: 5.71602\n",
      "[500]\ttrain's rmse: 4.14108\teval's rmse: 5.6873\n"
     ]
    },
    {
     "name": "stderr",
     "output_type": "stream",
     "text": [
      "regularization_factors, val_score: 5.554693:  45%|4| 9/20 [00:05<00:06,  1.82it\u001b[32m[I 2021-06-23 11:28:41,238]\u001b[0m Trial 48 finished with value: 5.681199851942641 and parameters: {'lambda_l1': 0.0007133145499913919, 'lambda_l2': 0.2834555738854881}. Best is trial 43 with value: 5.5546931551437995.\u001b[0m\n",
      "regularization_factors, val_score: 5.554693:  45%|4| 9/20 [00:05<00:06,  1.82it"
     ]
    },
    {
     "name": "stdout",
     "output_type": "stream",
     "text": [
      "Early stopping, best iteration is:\n",
      "[486]\ttrain's rmse: 4.17058\teval's rmse: 5.6812\n",
      "Training until validation scores don't improve for 100 rounds\n",
      "[100]\ttrain's rmse: 5.49374\teval's rmse: 6.16018\n",
      "[200]\ttrain's rmse: 4.90046\teval's rmse: 5.81579\n",
      "[300]\ttrain's rmse: 4.57735\teval's rmse: 5.74239\n",
      "[400]\ttrain's rmse: 4.3422\teval's rmse: 5.69117\n",
      "[500]\ttrain's rmse: 4.14411\teval's rmse: 5.6428\n",
      "[600]\ttrain's rmse: 3.98125\teval's rmse: 5.63572\n"
     ]
    },
    {
     "name": "stderr",
     "output_type": "stream",
     "text": [
      "regularization_factors, val_score: 5.554693:  50%|5| 10/20 [00:05<00:05,  1.75i\u001b[32m[I 2021-06-23 11:28:41,852]\u001b[0m Trial 49 finished with value: 5.596317909120755 and parameters: {'lambda_l1': 0.005891486711245707, 'lambda_l2': 0.02409985446343885}. Best is trial 43 with value: 5.5546931551437995.\u001b[0m\n",
      "regularization_factors, val_score: 5.554693:  50%|5| 10/20 [00:05<00:05,  1.75i"
     ]
    },
    {
     "name": "stdout",
     "output_type": "stream",
     "text": [
      "[700]\ttrain's rmse: 3.83476\teval's rmse: 5.60933\n",
      "[800]\ttrain's rmse: 3.69755\teval's rmse: 5.63254\n",
      "Early stopping, best iteration is:\n",
      "[717]\ttrain's rmse: 3.81152\teval's rmse: 5.59632\n",
      "Training until validation scores don't improve for 100 rounds\n",
      "[100]\ttrain's rmse: 5.50338\teval's rmse: 6.16237\n",
      "[200]\ttrain's rmse: 4.90414\teval's rmse: 5.81773\n",
      "[300]\ttrain's rmse: 4.57362\teval's rmse: 5.72187\n",
      "[400]\ttrain's rmse: 4.33062\teval's rmse: 5.65448\n",
      "[500]\ttrain's rmse: 4.1377\teval's rmse: 5.61549\n",
      "[600]\ttrain's rmse: 3.9736\teval's rmse: 5.58295\n",
      "[700]\ttrain's rmse: 3.82281\teval's rmse: 5.57217\n"
     ]
    },
    {
     "name": "stderr",
     "output_type": "stream",
     "text": [
      "regularization_factors, val_score: 5.554693:  55%|5| 11/20 [00:06<00:05,  1.71i\u001b[32m[I 2021-06-23 11:28:42,458]\u001b[0m Trial 50 finished with value: 5.554693163951326 and parameters: {'lambda_l1': 1.698965864547224e-08, 'lambda_l2': 3.816083923155238e-07}. Best is trial 43 with value: 5.5546931551437995.\u001b[0m\n",
      "regularization_factors, val_score: 5.554693:  55%|5| 11/20 [00:06<00:05,  1.71i"
     ]
    },
    {
     "name": "stdout",
     "output_type": "stream",
     "text": [
      "[800]\ttrain's rmse: 3.68244\teval's rmse: 5.5919\n",
      "Early stopping, best iteration is:\n",
      "[721]\ttrain's rmse: 3.79259\teval's rmse: 5.55469\n",
      "Training until validation scores don't improve for 100 rounds\n",
      "[100]\ttrain's rmse: 5.50338\teval's rmse: 6.16237\n",
      "[200]\ttrain's rmse: 4.90414\teval's rmse: 5.81773\n",
      "[300]\ttrain's rmse: 4.57362\teval's rmse: 5.72187\n",
      "[400]\ttrain's rmse: 4.33062\teval's rmse: 5.65448\n",
      "[500]\ttrain's rmse: 4.1377\teval's rmse: 5.61549\n",
      "[600]\ttrain's rmse: 3.9736\teval's rmse: 5.58295\n",
      "[700]\ttrain's rmse: 3.82281\teval's rmse: 5.57217\n"
     ]
    },
    {
     "name": "stderr",
     "output_type": "stream",
     "text": [
      "regularization_factors, val_score: 5.554693:  60%|6| 12/20 [00:07<00:05,  1.58i\u001b[32m[I 2021-06-23 11:28:43,215]\u001b[0m Trial 51 finished with value: 5.554693163739773 and parameters: {'lambda_l1': 1.1024739401906205e-08, 'lambda_l2': 5.226543304390859e-07}. Best is trial 43 with value: 5.5546931551437995.\u001b[0m\n",
      "regularization_factors, val_score: 5.554693:  60%|6| 12/20 [00:07<00:05,  1.58i"
     ]
    },
    {
     "name": "stdout",
     "output_type": "stream",
     "text": [
      "[800]\ttrain's rmse: 3.68244\teval's rmse: 5.5919\n",
      "Early stopping, best iteration is:\n",
      "[721]\ttrain's rmse: 3.79259\teval's rmse: 5.55469\n",
      "Training until validation scores don't improve for 100 rounds\n",
      "[100]\ttrain's rmse: 5.50338\teval's rmse: 6.16237\n",
      "[200]\ttrain's rmse: 4.90414\teval's rmse: 5.81773\n",
      "[300]\ttrain's rmse: 4.57362\teval's rmse: 5.72187\n",
      "[400]\ttrain's rmse: 4.33062\teval's rmse: 5.65448\n",
      "[500]\ttrain's rmse: 4.1377\teval's rmse: 5.61549\n"
     ]
    },
    {
     "name": "stderr",
     "output_type": "stream",
     "text": [
      "regularization_factors, val_score: 5.554693:  65%|6| 13/20 [00:07<00:04,  1.60i\u001b[32m[I 2021-06-23 11:28:43,813]\u001b[0m Trial 52 finished with value: 5.55469316017895 and parameters: {'lambda_l1': 5.106546379957584e-06, 'lambda_l2': 1.0416899976027536e-08}. Best is trial 43 with value: 5.5546931551437995.\u001b[0m\n"
     ]
    },
    {
     "name": "stdout",
     "output_type": "stream",
     "text": [
      "[600]\ttrain's rmse: 3.9736\teval's rmse: 5.58295\n",
      "[700]\ttrain's rmse: 3.82281\teval's rmse: 5.57217\n",
      "[800]\ttrain's rmse: 3.68244\teval's rmse: 5.5919\n",
      "Early stopping, best iteration is:\n",
      "[721]\ttrain's rmse: 3.79259\teval's rmse: 5.55469\n"
     ]
    },
    {
     "name": "stderr",
     "output_type": "stream",
     "text": [
      "\r",
      "regularization_factors, val_score: 5.554693:  65%|6| 13/20 [00:07<00:04,  1.60i"
     ]
    },
    {
     "name": "stdout",
     "output_type": "stream",
     "text": [
      "Training until validation scores don't improve for 100 rounds\n",
      "[100]\ttrain's rmse: 5.50338\teval's rmse: 6.16237\n",
      "[200]\ttrain's rmse: 4.90414\teval's rmse: 5.81773\n",
      "[300]\ttrain's rmse: 4.57362\teval's rmse: 5.72187\n",
      "[400]\ttrain's rmse: 4.33062\teval's rmse: 5.65448\n",
      "[500]\ttrain's rmse: 4.1377\teval's rmse: 5.61549\n",
      "[600]\ttrain's rmse: 3.9736\teval's rmse: 5.58295\n",
      "[700]\ttrain's rmse: 3.82281\teval's rmse: 5.57217"
     ]
    },
    {
     "name": "stderr",
     "output_type": "stream",
     "text": [
      "regularization_factors, val_score: 5.554693:  70%|7| 14/20 [00:08<00:03,  1.56i\u001b[32m[I 2021-06-23 11:28:44,491]\u001b[0m Trial 53 finished with value: 5.554693159736247 and parameters: {'lambda_l1': 6.049682199634638e-06, 'lambda_l2': 1.0314678611974699e-08}. Best is trial 43 with value: 5.5546931551437995.\u001b[0m\n",
      "regularization_factors, val_score: 5.554693:  70%|7| 14/20 [00:08<00:03,  1.56i"
     ]
    },
    {
     "name": "stdout",
     "output_type": "stream",
     "text": [
      "\n",
      "[800]\ttrain's rmse: 3.68244\teval's rmse: 5.5919\n",
      "Early stopping, best iteration is:\n",
      "[721]\ttrain's rmse: 3.79259\teval's rmse: 5.55469\n",
      "Training until validation scores don't improve for 100 rounds\n",
      "[100]\ttrain's rmse: 5.50339\teval's rmse: 6.16238\n",
      "[200]\ttrain's rmse: 4.90416\teval's rmse: 5.81774\n",
      "[300]\ttrain's rmse: 4.57168\teval's rmse: 5.72063\n",
      "[400]\ttrain's rmse: 4.33609\teval's rmse: 5.66589\n",
      "[500]\ttrain's rmse: 4.14195\teval's rmse: 5.61772\n",
      "[600]\ttrain's rmse: 3.97243\teval's rmse: 5.6033\n",
      "[700]\ttrain's rmse: 3.81982\teval's rmse: 5.58258\n"
     ]
    },
    {
     "name": "stderr",
     "output_type": "stream",
     "text": [
      "regularization_factors, val_score: 5.554693:  75%|7| 15/20 [00:09<00:03,  1.53i\u001b[32m[I 2021-06-23 11:28:45,178]\u001b[0m Trial 54 finished with value: 5.574412972880008 and parameters: {'lambda_l1': 5.804710380569307e-06, 'lambda_l2': 0.0012126977060154408}. Best is trial 43 with value: 5.5546931551437995.\u001b[0m\n",
      "regularization_factors, val_score: 5.554693:  75%|7| 15/20 [00:09<00:03,  1.53i"
     ]
    },
    {
     "name": "stdout",
     "output_type": "stream",
     "text": [
      "[800]\ttrain's rmse: 3.68246\teval's rmse: 5.5996\n",
      "Early stopping, best iteration is:\n",
      "[714]\ttrain's rmse: 3.79957\teval's rmse: 5.57441\n",
      "Training until validation scores don't improve for 100 rounds\n",
      "[100]\ttrain's rmse: 5.50338\teval's rmse: 6.16237\n",
      "[200]\ttrain's rmse: 4.90414\teval's rmse: 5.81773\n",
      "[300]\ttrain's rmse: 4.57362\teval's rmse: 5.72187\n",
      "[400]\ttrain's rmse: 4.33062\teval's rmse: 5.65448\n",
      "[500]\ttrain's rmse: 4.1377\teval's rmse: 5.61549\n"
     ]
    },
    {
     "name": "stderr",
     "output_type": "stream",
     "text": [
      "regularization_factors, val_score: 5.554693:  80%|8| 16/20 [00:09<00:02,  1.57i\u001b[32m[I 2021-06-23 11:28:45,782]\u001b[0m Trial 55 finished with value: 5.554693164233273 and parameters: {'lambda_l1': 3.1768170288177115e-07, 'lambda_l2': 1.8169973569988602e-08}. Best is trial 43 with value: 5.5546931551437995.\u001b[0m\n",
      "regularization_factors, val_score: 5.554693:  80%|8| 16/20 [00:09<00:02,  1.57i"
     ]
    },
    {
     "name": "stdout",
     "output_type": "stream",
     "text": [
      "[600]\ttrain's rmse: 3.9736\teval's rmse: 5.58295\n",
      "[700]\ttrain's rmse: 3.82281\teval's rmse: 5.57217\n",
      "[800]\ttrain's rmse: 3.68244\teval's rmse: 5.5919\n",
      "Early stopping, best iteration is:\n",
      "[721]\ttrain's rmse: 3.79259\teval's rmse: 5.55469\n",
      "Training until validation scores don't improve for 100 rounds\n",
      "[100]\ttrain's rmse: 5.50338\teval's rmse: 6.16237\n",
      "[200]\ttrain's rmse: 4.90414\teval's rmse: 5.81773\n",
      "[300]\ttrain's rmse: 4.57165\teval's rmse: 5.72062\n",
      "[400]\ttrain's rmse: 4.33606\teval's rmse: 5.66589\n",
      "[500]\ttrain's rmse: 4.14192\teval's rmse: 5.61772\n",
      "[600]\ttrain's rmse: 3.9724\teval's rmse: 5.6033\n",
      "[700]\ttrain's rmse: 3.81979\teval's rmse: 5.58258\n"
     ]
    },
    {
     "name": "stderr",
     "output_type": "stream",
     "text": [
      "regularization_factors, val_score: 5.554693:  85%|8| 17/20 [00:10<00:01,  1.59i\u001b[32m[I 2021-06-23 11:28:46,380]\u001b[0m Trial 56 finished with value: 5.574416129254553 and parameters: {'lambda_l1': 3.1116352350072945e-05, 'lambda_l2': 3.1822400111268226e-06}. Best is trial 43 with value: 5.5546931551437995.\u001b[0m\n",
      "regularization_factors, val_score: 5.554693:  85%|8| 17/20 [00:10<00:01,  1.59i"
     ]
    },
    {
     "name": "stdout",
     "output_type": "stream",
     "text": [
      "[800]\ttrain's rmse: 3.68243\teval's rmse: 5.5996\n",
      "Early stopping, best iteration is:\n",
      "[714]\ttrain's rmse: 3.79953\teval's rmse: 5.57442\n",
      "Training until validation scores don't improve for 100 rounds\n",
      "[100]\ttrain's rmse: 5.50338\teval's rmse: 6.16237\n",
      "[200]\ttrain's rmse: 4.90414\teval's rmse: 5.81773\n",
      "[300]\ttrain's rmse: 4.57362\teval's rmse: 5.72187\n",
      "[400]\ttrain's rmse: 4.33062\teval's rmse: 5.65448\n",
      "[500]\ttrain's rmse: 4.1377\teval's rmse: 5.61549\n",
      "[600]\ttrain's rmse: 3.9736\teval's rmse: 5.58295\n",
      "[700]\ttrain's rmse: 3.82281\teval's rmse: 5.57217\n",
      "[800]\ttrain's rmse: 3.68244\teval's rmse: 5.5919\n",
      "Early stopping, best iteration is:\n",
      "[721]\ttrain's rmse: 3.79259\teval's rmse: 5.55469\n"
     ]
    },
    {
     "name": "stderr",
     "output_type": "stream",
     "text": [
      "regularization_factors, val_score: 5.554693:  90%|9| 18/20 [00:10<00:01,  1.57i\u001b[32m[I 2021-06-23 11:28:47,045]\u001b[0m Trial 57 finished with value: 5.554693163956802 and parameters: {'lambda_l1': 2.1157864433641276e-07, 'lambda_l2': 8.904427820005694e-08}. Best is trial 43 with value: 5.5546931551437995.\u001b[0m\n",
      "regularization_factors, val_score: 5.554693:  90%|9| 18/20 [00:10<00:01,  1.57i"
     ]
    },
    {
     "name": "stdout",
     "output_type": "stream",
     "text": [
      "Training until validation scores don't improve for 100 rounds\n",
      "[100]\ttrain's rmse: 5.50338\teval's rmse: 6.16237\n",
      "[200]\ttrain's rmse: 4.90414\teval's rmse: 5.81773\n",
      "[300]\ttrain's rmse: 4.57165\teval's rmse: 5.72062\n",
      "[400]\ttrain's rmse: 4.33606\teval's rmse: 5.66589\n",
      "[500]\ttrain's rmse: 4.14192\teval's rmse: 5.61772\n",
      "[600]\ttrain's rmse: 3.97241\teval's rmse: 5.6033\n",
      "[700]\ttrain's rmse: 3.81979\teval's rmse: 5.58258\n"
     ]
    },
    {
     "name": "stderr",
     "output_type": "stream",
     "text": [
      "regularization_factors, val_score: 5.554693:  95%|9| 19/20 [00:11<00:00,  1.59i\u001b[32m[I 2021-06-23 11:28:47,651]\u001b[0m Trial 58 finished with value: 5.574415757116425 and parameters: {'lambda_l1': 9.717976721768382e-06, 'lambda_l2': 0.00015873751548211201}. Best is trial 43 with value: 5.5546931551437995.\u001b[0m\n",
      "regularization_factors, val_score: 5.554693:  95%|9| 19/20 [00:11<00:00,  1.59i"
     ]
    },
    {
     "name": "stdout",
     "output_type": "stream",
     "text": [
      "[800]\ttrain's rmse: 3.68243\teval's rmse: 5.5996\n",
      "Early stopping, best iteration is:\n",
      "[714]\ttrain's rmse: 3.79954\teval's rmse: 5.57442\n",
      "Training until validation scores don't improve for 100 rounds\n",
      "[100]\ttrain's rmse: 5.50338\teval's rmse: 6.16237\n",
      "[200]\ttrain's rmse: 4.90414\teval's rmse: 5.81773\n",
      "[300]\ttrain's rmse: 4.57165\teval's rmse: 5.72062\n",
      "[400]\ttrain's rmse: 4.33606\teval's rmse: 5.66589\n",
      "[500]\ttrain's rmse: 4.14192\teval's rmse: 5.61772\n"
     ]
    },
    {
     "name": "stderr",
     "output_type": "stream",
     "text": [
      "regularization_factors, val_score: 5.554693: 100%|#| 20/20 [00:12<00:00,  1.61i\u001b[32m[I 2021-06-23 11:28:48,247]\u001b[0m Trial 59 finished with value: 5.574416499774071 and parameters: {'lambda_l1': 0.00027733371551614335, 'lambda_l2': 4.373252629965365e-06}. Best is trial 43 with value: 5.5546931551437995.\u001b[0m\n",
      "regularization_factors, val_score: 5.554693: 100%|#| 20/20 [00:12<00:00,  1.65i"
     ]
    },
    {
     "name": "stdout",
     "output_type": "stream",
     "text": [
      "[600]\ttrain's rmse: 3.97241\teval's rmse: 5.6033\n",
      "[700]\ttrain's rmse: 3.82055\teval's rmse: 5.58045\n",
      "[800]\ttrain's rmse: 3.6769\teval's rmse: 5.61281\n",
      "Early stopping, best iteration is:\n",
      "[715]\ttrain's rmse: 3.79978\teval's rmse: 5.57442\n"
     ]
    },
    {
     "name": "stderr",
     "output_type": "stream",
     "text": [
      "\n",
      "min_data_in_leaf, val_score: 5.554693:   0%|             | 0/5 [00:00<?, ?it/s]"
     ]
    },
    {
     "name": "stdout",
     "output_type": "stream",
     "text": [
      "Training until validation scores don't improve for 100 rounds\n",
      "[100]\ttrain's rmse: 6.61249\teval's rmse: 7.18438\n",
      "[200]\ttrain's rmse: 6.14095\teval's rmse: 6.91065\n",
      "[300]\ttrain's rmse: 5.89789\teval's rmse: 6.75457\n",
      "[400]\ttrain's rmse: 5.71146\teval's rmse: 6.68478\n",
      "[500]\ttrain's rmse: 5.56454\teval's rmse: 6.6157\n",
      "[600]\ttrain's rmse: 5.43207\teval's rmse: 6.53988\n",
      "[700]\ttrain's rmse: 5.3074\teval's rmse: 6.50142\n",
      "[800]\ttrain's rmse: 5.19653\teval's rmse: 6.45357"
     ]
    },
    {
     "name": "stderr",
     "output_type": "stream",
     "text": [
      "min_data_in_leaf, val_score: 5.554693:  20%|#    | 1/5 [00:00<00:02,  1.63it/s]\u001b[32m[I 2021-06-23 11:28:48,874]\u001b[0m Trial 60 finished with value: 6.423647018872735 and parameters: {'min_child_samples': 100}. Best is trial 60 with value: 6.423647018872735.\u001b[0m\n",
      "min_data_in_leaf, val_score: 5.554693:  20%|#    | 1/5 [00:00<00:02,  1.63it/s]"
     ]
    },
    {
     "name": "stdout",
     "output_type": "stream",
     "text": [
      "\n",
      "[900]\ttrain's rmse: 5.10966\teval's rmse: 6.46148\n",
      "[1000]\ttrain's rmse: 5.02996\teval's rmse: 6.42365\n",
      "Did not meet early stopping. Best iteration is:\n",
      "[1000]\ttrain's rmse: 5.02996\teval's rmse: 6.42365\n",
      "Training until validation scores don't improve for 100 rounds\n",
      "[100]\ttrain's rmse: 5.56097\teval's rmse: 6.12393\n",
      "[200]\ttrain's rmse: 4.9936\teval's rmse: 5.85444\n",
      "[300]\ttrain's rmse: 4.67336\teval's rmse: 5.77048\n",
      "[400]\ttrain's rmse: 4.44323\teval's rmse: 5.68356\n",
      "[500]\ttrain's rmse: 4.25127\teval's rmse: 5.65015\n",
      "[600]\ttrain's rmse: 4.0911\teval's rmse: 5.62781\n",
      "[700]\ttrain's rmse: 3.94042\teval's rmse: 5.59942\n",
      "[800]\ttrain's rmse: 3.81019\teval's rmse: 5.59841\n",
      "Early stopping, best iteration is:\n",
      "[714]\ttrain's rmse: 3.92158\teval's rmse: 5.58314\n"
     ]
    },
    {
     "name": "stderr",
     "output_type": "stream",
     "text": [
      "min_data_in_leaf, val_score: 5.554693:  40%|##   | 2/5 [00:01<00:02,  1.40it/s]\u001b[32m[I 2021-06-23 11:28:49,653]\u001b[0m Trial 61 finished with value: 5.58313557946399 and parameters: {'min_child_samples': 25}. Best is trial 61 with value: 5.58313557946399.\u001b[0m\n",
      "min_data_in_leaf, val_score: 5.554693:  40%|##   | 2/5 [00:01<00:02,  1.40it/s]"
     ]
    },
    {
     "name": "stdout",
     "output_type": "stream",
     "text": [
      "Training until validation scores don't improve for 100 rounds\n",
      "[100]\ttrain's rmse: 5.29208\teval's rmse: 5.99248\n",
      "[200]\ttrain's rmse: 4.64445\teval's rmse: 5.68862\n",
      "[300]\ttrain's rmse: 4.24006\teval's rmse: 5.61575\n",
      "[400]\ttrain's rmse: 3.95853\teval's rmse: 5.54314\n",
      "[500]\ttrain's rmse: 3.69542\teval's rmse: 5.495\n",
      "[600]\ttrain's rmse: 3.4801\teval's rmse: 5.49437\n",
      "[700]\ttrain's rmse: 3.29731\teval's rmse: 5.45741\n"
     ]
    },
    {
     "name": "stderr",
     "output_type": "stream",
     "text": [
      "min_data_in_leaf, val_score: 5.450629:  60%|###  | 3/5 [00:02<00:01,  1.15it/s]\u001b[32m[I 2021-06-23 11:28:50,716]\u001b[0m Trial 62 finished with value: 5.450629422272156 and parameters: {'min_child_samples': 5}. Best is trial 62 with value: 5.450629422272156.\u001b[0m\n",
      "min_data_in_leaf, val_score: 5.450629:  60%|###  | 3/5 [00:02<00:01,  1.15it/s]"
     ]
    },
    {
     "name": "stdout",
     "output_type": "stream",
     "text": [
      "[800]\ttrain's rmse: 3.12561\teval's rmse: 5.47464\n",
      "Early stopping, best iteration is:\n",
      "[716]\ttrain's rmse: 3.2721\teval's rmse: 5.45063\n",
      "Training until validation scores don't improve for 100 rounds\n",
      "[100]\ttrain's rmse: 5.94187\teval's rmse: 6.4757\n",
      "[200]\ttrain's rmse: 5.38252\teval's rmse: 6.19388\n",
      "[300]\ttrain's rmse: 5.07605\teval's rmse: 6.10157\n",
      "[400]\ttrain's rmse: 4.83984\teval's rmse: 6.01587\n",
      "[500]\ttrain's rmse: 4.64186\teval's rmse: 6.0054\n",
      "[600]\ttrain's rmse: 4.48934\teval's rmse: 5.9921\n",
      "[700]\ttrain's rmse: 4.34627\teval's rmse: 5.98421"
     ]
    },
    {
     "name": "stderr",
     "output_type": "stream",
     "text": [
      "min_data_in_leaf, val_score: 5.450629:  80%|#### | 4/5 [00:03<00:00,  1.26it/s]\u001b[32m[I 2021-06-23 11:28:51,395]\u001b[0m Trial 63 finished with value: 5.974854622709875 and parameters: {'min_child_samples': 50}. Best is trial 62 with value: 5.450629422272156.\u001b[0m\n",
      "min_data_in_leaf, val_score: 5.450629:  80%|#### | 4/5 [00:03<00:00,  1.26it/s]"
     ]
    },
    {
     "name": "stdout",
     "output_type": "stream",
     "text": [
      "\n",
      "Early stopping, best iteration is:\n",
      "[675]\ttrain's rmse: 4.37545\teval's rmse: 5.97485\n",
      "Training until validation scores don't improve for 100 rounds\n",
      "[100]\ttrain's rmse: 5.3533\teval's rmse: 6.03547\n",
      "[200]\ttrain's rmse: 4.72826\teval's rmse: 5.69446\n",
      "[300]\ttrain's rmse: 4.35366\teval's rmse: 5.63785\n",
      "[400]\ttrain's rmse: 4.08356\teval's rmse: 5.58468\n",
      "[500]\ttrain's rmse: 3.86256\teval's rmse: 5.54402\n",
      "[600]\ttrain's rmse: 3.66872\teval's rmse: 5.53144\n",
      "[700]\ttrain's rmse: 3.50111\teval's rmse: 5.52469\n"
     ]
    },
    {
     "name": "stderr",
     "output_type": "stream",
     "text": [
      "min_data_in_leaf, val_score: 5.450629: 100%|#####| 5/5 [00:03<00:00,  1.34it/s]\u001b[32m[I 2021-06-23 11:28:52,056]\u001b[0m Trial 64 finished with value: 5.514842941773525 and parameters: {'min_child_samples': 10}. Best is trial 62 with value: 5.450629422272156.\u001b[0m\n",
      "min_data_in_leaf, val_score: 5.450629: 100%|#####| 5/5 [00:03<00:00,  1.32it/s]\n",
      "\u001b[32m[I 2021-06-23 11:28:52,108]\u001b[0m A new study created in memory with name: no-name-27b63627-6762-4b4d-adba-8f6fcb496772\u001b[0m\n",
      "feature_fraction, val_score: inf:   0%|                  | 0/7 [00:00<?, ?it/s]"
     ]
    },
    {
     "name": "stdout",
     "output_type": "stream",
     "text": [
      "[800]\ttrain's rmse: 3.35703\teval's rmse: 5.53815\n",
      "Early stopping, best iteration is:\n",
      "[721]\ttrain's rmse: 3.47042\teval's rmse: 5.51484\n",
      "Training until validation scores don't improve for 100 rounds\n",
      "[100]\ttrain's rmse: 4.5505\teval's rmse: 5.66021\n",
      "[200]\ttrain's rmse: 3.70385\teval's rmse: 5.61132\n"
     ]
    },
    {
     "name": "stderr",
     "output_type": "stream",
     "text": [
      "feature_fraction, val_score: 5.602649:  14%|7    | 1/7 [00:00<00:02,  2.25it/s]\u001b[32m[I 2021-06-23 11:28:52,553]\u001b[0m Trial 0 finished with value: 5.602649314317632 and parameters: {'feature_fraction': 0.8}. Best is trial 0 with value: 5.602649314317632.\u001b[0m\n",
      "feature_fraction, val_score: 5.602649:  14%|7    | 1/7 [00:00<00:02,  2.25it/s]"
     ]
    },
    {
     "name": "stdout",
     "output_type": "stream",
     "text": [
      "Early stopping, best iteration is:\n",
      "[191]\ttrain's rmse: 3.75844\teval's rmse: 5.60265\n",
      "Training until validation scores don't improve for 100 rounds\n",
      "[100]\ttrain's rmse: 4.55522\teval's rmse: 5.58554\n"
     ]
    },
    {
     "name": "stderr",
     "output_type": "stream",
     "text": [
      "\r",
      "feature_fraction, val_score: 5.496223:  14%|7    | 1/7 [00:00<00:02,  2.25it/s]"
     ]
    },
    {
     "name": "stdout",
     "output_type": "stream",
     "text": [
      "[200]\ttrain's rmse: 3.70628\teval's rmse: 5.50003\n",
      "[300]\ttrain's rmse: 3.18487\teval's rmse: 5.56364\n",
      "Early stopping, best iteration is:\n",
      "[203]\ttrain's rmse: 3.68444\teval's rmse: 5.49622\n"
     ]
    },
    {
     "name": "stderr",
     "output_type": "stream",
     "text": [
      "feature_fraction, val_score: 5.496223:  29%|#4   | 2/7 [00:00<00:02,  2.16it/s]\u001b[32m[I 2021-06-23 11:28:53,029]\u001b[0m Trial 1 finished with value: 5.496222512621189 and parameters: {'feature_fraction': 0.7}. Best is trial 1 with value: 5.496222512621189.\u001b[0m\n",
      "feature_fraction, val_score: 5.496223:  29%|#4   | 2/7 [00:00<00:02,  2.16it/s]"
     ]
    },
    {
     "name": "stdout",
     "output_type": "stream",
     "text": [
      "Training until validation scores don't improve for 100 rounds\n",
      "[100]\ttrain's rmse: 4.56587\teval's rmse: 5.6947\n"
     ]
    },
    {
     "name": "stderr",
     "output_type": "stream",
     "text": [
      "feature_fraction, val_score: 5.496223:  43%|##1  | 3/7 [00:01<00:01,  2.45it/s]\u001b[32m[I 2021-06-23 11:28:53,381]\u001b[0m Trial 2 finished with value: 5.66610261198158 and parameters: {'feature_fraction': 1.0}. Best is trial 1 with value: 5.496222512621189.\u001b[0m\n",
      "feature_fraction, val_score: 5.496223:  43%|##1  | 3/7 [00:01<00:01,  2.45it/s]"
     ]
    },
    {
     "name": "stdout",
     "output_type": "stream",
     "text": [
      "[200]\ttrain's rmse: 3.67188\teval's rmse: 5.6852\n",
      "Early stopping, best iteration is:\n",
      "[110]\ttrain's rmse: 4.4435\teval's rmse: 5.6661\n",
      "Training until validation scores don't improve for 100 rounds\n",
      "[100]\ttrain's rmse: 4.53551\teval's rmse: 5.56495\n"
     ]
    },
    {
     "name": "stderr",
     "output_type": "stream",
     "text": [
      "feature_fraction, val_score: 5.496223:  57%|##8  | 4/7 [00:01<00:01,  2.64it/s]\u001b[32m[I 2021-06-23 11:28:53,706]\u001b[0m Trial 3 finished with value: 5.546365985258134 and parameters: {'feature_fraction': 0.8999999999999999}. Best is trial 1 with value: 5.496222512621189.\u001b[0m\n",
      "feature_fraction, val_score: 5.496223:  57%|##8  | 4/7 [00:01<00:01,  2.64it/s]"
     ]
    },
    {
     "name": "stdout",
     "output_type": "stream",
     "text": [
      "[200]\ttrain's rmse: 3.67961\teval's rmse: 5.55146\n",
      "Early stopping, best iteration is:\n",
      "[119]\ttrain's rmse: 4.33176\teval's rmse: 5.54637\n",
      "Training until validation scores don't improve for 100 rounds\n",
      "[100]\ttrain's rmse: 4.57164\teval's rmse: 5.61244\n",
      "[200]\ttrain's rmse: 3.74267\teval's rmse: 5.4929\n"
     ]
    },
    {
     "name": "stderr",
     "output_type": "stream",
     "text": [
      "feature_fraction, val_score: 5.485760:  71%|###5 | 5/7 [00:02<00:00,  2.50it/s]\u001b[32m[I 2021-06-23 11:28:54,142]\u001b[0m Trial 4 finished with value: 5.485759931045246 and parameters: {'feature_fraction': 0.6}. Best is trial 4 with value: 5.485759931045246.\u001b[0m\n",
      "feature_fraction, val_score: 5.485760:  71%|###5 | 5/7 [00:02<00:00,  2.50it/s]"
     ]
    },
    {
     "name": "stdout",
     "output_type": "stream",
     "text": [
      "Early stopping, best iteration is:\n",
      "[195]\ttrain's rmse: 3.77514\teval's rmse: 5.48576\n",
      "Training until validation scores don't improve for 100 rounds\n",
      "[100]\ttrain's rmse: 4.62192\teval's rmse: 5.64357\n"
     ]
    },
    {
     "name": "stderr",
     "output_type": "stream",
     "text": [
      "feature_fraction, val_score: 5.485760:  86%|####2| 6/7 [00:02<00:00,  2.49it/s]\u001b[32m[I 2021-06-23 11:28:54,546]\u001b[0m Trial 5 finished with value: 5.498430814949956 and parameters: {'feature_fraction': 0.5}. Best is trial 4 with value: 5.485759931045246.\u001b[0m\n",
      "feature_fraction, val_score: 5.485760:  86%|####2| 6/7 [00:02<00:00,  2.49it/s]"
     ]
    },
    {
     "name": "stdout",
     "output_type": "stream",
     "text": [
      "[200]\ttrain's rmse: 3.78933\teval's rmse: 5.50418\n",
      "Early stopping, best iteration is:\n",
      "[190]\ttrain's rmse: 3.85416\teval's rmse: 5.49843\n",
      "Training until validation scores don't improve for 100 rounds\n",
      "[100]\ttrain's rmse: 4.77429\teval's rmse: 5.75821\n",
      "[200]\ttrain's rmse: 3.92336\teval's rmse: 5.56421\n"
     ]
    },
    {
     "name": "stderr",
     "output_type": "stream",
     "text": [
      "feature_fraction, val_score: 5.485760: 100%|#####| 7/7 [00:03<00:00,  2.09it/s]\u001b[32m[I 2021-06-23 11:28:55,185]\u001b[0m Trial 6 finished with value: 5.543681175603049 and parameters: {'feature_fraction': 0.4}. Best is trial 4 with value: 5.485759931045246.\u001b[0m\n",
      "feature_fraction, val_score: 5.485760: 100%|#####| 7/7 [00:03<00:00,  2.28it/s]\n",
      "num_leaves, val_score: 5.485760:   0%|                  | 0/20 [00:00<?, ?it/s]"
     ]
    },
    {
     "name": "stdout",
     "output_type": "stream",
     "text": [
      "[300]\ttrain's rmse: 3.4492\teval's rmse: 5.56433\n",
      "Early stopping, best iteration is:\n",
      "[254]\ttrain's rmse: 3.65504\teval's rmse: 5.54368\n",
      "Training until validation scores don't improve for 100 rounds\n",
      "[100]\ttrain's rmse: 4.24863\teval's rmse: 5.62075\n"
     ]
    },
    {
     "name": "stderr",
     "output_type": "stream",
     "text": [
      "num_leaves, val_score: 5.485760:   5%|5         | 1/20 [00:00<00:10,  1.87it/s]\u001b[32m[I 2021-06-23 11:28:55,732]\u001b[0m Trial 7 finished with value: 5.5248576744849 and parameters: {'num_leaves': 101}. Best is trial 7 with value: 5.5248576744849.\u001b[0m\n",
      "num_leaves, val_score: 5.485760:   5%|5         | 1/20 [00:00<00:10,  1.87it/s]"
     ]
    },
    {
     "name": "stdout",
     "output_type": "stream",
     "text": [
      "[200]\ttrain's rmse: 3.28825\teval's rmse: 5.53743\n",
      "Early stopping, best iteration is:\n",
      "[158]\ttrain's rmse: 3.60631\teval's rmse: 5.52486\n",
      "Training until validation scores don't improve for 100 rounds\n",
      "[100]\ttrain's rmse: 6.10804\teval's rmse: 6.04362\n",
      "[200]\ttrain's rmse: 5.75048\teval's rmse: 5.8631\n",
      "[300]\ttrain's rmse: 5.57126\teval's rmse: 5.85225\n",
      "[400]\ttrain's rmse: 5.43436\teval's rmse: 5.81325\n"
     ]
    },
    {
     "name": "stderr",
     "output_type": "stream",
     "text": [
      "num_leaves, val_score: 5.485760:  10%|#         | 2/20 [00:00<00:08,  2.07it/s]\u001b[32m[I 2021-06-23 11:28:56,177]\u001b[0m Trial 8 finished with value: 5.687208303078557 and parameters: {'num_leaves': 4}. Best is trial 7 with value: 5.5248576744849.\u001b[0m\n",
      "num_leaves, val_score: 5.485760:  10%|#         | 2/20 [00:00<00:08,  2.07it/s]"
     ]
    },
    {
     "name": "stdout",
     "output_type": "stream",
     "text": [
      "[500]\ttrain's rmse: 5.30675\teval's rmse: 5.77805\n",
      "[600]\ttrain's rmse: 5.21036\teval's rmse: 5.74658\n",
      "[700]\ttrain's rmse: 5.10428\teval's rmse: 5.69683\n",
      "[800]\ttrain's rmse: 5.00904\teval's rmse: 5.69532\n",
      "Early stopping, best iteration is:\n",
      "[764]\ttrain's rmse: 5.04218\teval's rmse: 5.68721\n",
      "Training until validation scores don't improve for 100 rounds\n",
      "[100]\ttrain's rmse: 4.24863\teval's rmse: 5.62075\n"
     ]
    },
    {
     "name": "stderr",
     "output_type": "stream",
     "text": [
      "num_leaves, val_score: 5.485760:  15%|#5        | 3/20 [00:01<00:08,  2.08it/s]\u001b[32m[I 2021-06-23 11:28:56,657]\u001b[0m Trial 9 finished with value: 5.5248576744849 and parameters: {'num_leaves': 95}. Best is trial 7 with value: 5.5248576744849.\u001b[0m\n",
      "num_leaves, val_score: 5.485760:  15%|#5        | 3/20 [00:01<00:08,  2.08it/s]"
     ]
    },
    {
     "name": "stdout",
     "output_type": "stream",
     "text": [
      "[200]\ttrain's rmse: 3.28825\teval's rmse: 5.53743\n",
      "Early stopping, best iteration is:\n",
      "[158]\ttrain's rmse: 3.60631\teval's rmse: 5.52486\n",
      "Training until validation scores don't improve for 100 rounds\n",
      "[100]\ttrain's rmse: 4.24863\teval's rmse: 5.62075\n"
     ]
    },
    {
     "name": "stderr",
     "output_type": "stream",
     "text": [
      "num_leaves, val_score: 5.485760:  20%|##        | 4/20 [00:02<00:08,  1.88it/s]\u001b[32m[I 2021-06-23 11:28:57,276]\u001b[0m Trial 10 finished with value: 5.5248576744849 and parameters: {'num_leaves': 175}. Best is trial 7 with value: 5.5248576744849.\u001b[0m\n",
      "num_leaves, val_score: 5.485760:  20%|##        | 4/20 [00:02<00:08,  1.88it/s]"
     ]
    },
    {
     "name": "stdout",
     "output_type": "stream",
     "text": [
      "[200]\ttrain's rmse: 3.28825\teval's rmse: 5.53743\n",
      "Early stopping, best iteration is:\n",
      "[158]\ttrain's rmse: 3.60631\teval's rmse: 5.52486\n",
      "Training until validation scores don't improve for 100 rounds\n",
      "[100]\ttrain's rmse: 4.24863\teval's rmse: 5.62075\n"
     ]
    },
    {
     "name": "stderr",
     "output_type": "stream",
     "text": [
      "num_leaves, val_score: 5.485760:  25%|##5       | 5/20 [00:02<00:07,  1.90it/s]\u001b[32m[I 2021-06-23 11:28:57,783]\u001b[0m Trial 11 finished with value: 5.5248576744849 and parameters: {'num_leaves': 116}. Best is trial 7 with value: 5.5248576744849.\u001b[0m\n",
      "num_leaves, val_score: 5.485760:  25%|##5       | 5/20 [00:02<00:07,  1.90it/s]"
     ]
    },
    {
     "name": "stdout",
     "output_type": "stream",
     "text": [
      "[200]\ttrain's rmse: 3.28825\teval's rmse: 5.53743\n",
      "Early stopping, best iteration is:\n",
      "[158]\ttrain's rmse: 3.60631\teval's rmse: 5.52486\n",
      "Training until validation scores don't improve for 100 rounds\n",
      "[100]\ttrain's rmse: 4.24863\teval's rmse: 5.62075\n",
      "[200]\ttrain's rmse: 3.28825\teval's rmse: 5.53743\n"
     ]
    },
    {
     "name": "stderr",
     "output_type": "stream",
     "text": [
      "num_leaves, val_score: 5.485760:  30%|###       | 6/20 [00:03<00:07,  1.82it/s]\u001b[32m[I 2021-06-23 11:28:58,387]\u001b[0m Trial 12 finished with value: 5.5248576744849 and parameters: {'num_leaves': 162}. Best is trial 7 with value: 5.5248576744849.\u001b[0m\n",
      "num_leaves, val_score: 5.485760:  30%|###       | 6/20 [00:03<00:07,  1.82it/s]"
     ]
    },
    {
     "name": "stdout",
     "output_type": "stream",
     "text": [
      "Early stopping, best iteration is:\n",
      "[158]\ttrain's rmse: 3.60631\teval's rmse: 5.52486\n",
      "Training until validation scores don't improve for 100 rounds\n",
      "[100]\ttrain's rmse: 4.24863\teval's rmse: 5.62075\n",
      "[200]\ttrain's rmse: 3.28825\teval's rmse: 5.53743\n"
     ]
    },
    {
     "name": "stderr",
     "output_type": "stream",
     "text": [
      "num_leaves, val_score: 5.485760:  35%|###5      | 7/20 [00:03<00:07,  1.73it/s]\u001b[32m[I 2021-06-23 11:28:59,016]\u001b[0m Trial 13 finished with value: 5.5248576744849 and parameters: {'num_leaves': 249}. Best is trial 7 with value: 5.5248576744849.\u001b[0m\n",
      "num_leaves, val_score: 5.485760:  35%|###5      | 7/20 [00:03<00:07,  1.73it/s]"
     ]
    },
    {
     "name": "stdout",
     "output_type": "stream",
     "text": [
      "Early stopping, best iteration is:\n",
      "[158]\ttrain's rmse: 3.60631\teval's rmse: 5.52486\n",
      "Training until validation scores don't improve for 100 rounds\n",
      "[100]\ttrain's rmse: 4.24863\teval's rmse: 5.62075\n"
     ]
    },
    {
     "name": "stderr",
     "output_type": "stream",
     "text": [
      "num_leaves, val_score: 5.485760:  40%|####      | 8/20 [00:04<00:07,  1.67it/s]\u001b[32m[I 2021-06-23 11:28:59,664]\u001b[0m Trial 14 finished with value: 5.5248576744849 and parameters: {'num_leaves': 92}. Best is trial 7 with value: 5.5248576744849.\u001b[0m\n",
      "num_leaves, val_score: 5.485760:  40%|####      | 8/20 [00:04<00:07,  1.67it/s]"
     ]
    },
    {
     "name": "stdout",
     "output_type": "stream",
     "text": [
      "[200]\ttrain's rmse: 3.28825\teval's rmse: 5.53743\n",
      "Early stopping, best iteration is:\n",
      "[158]\ttrain's rmse: 3.60631\teval's rmse: 5.52486\n",
      "Training until validation scores don't improve for 100 rounds\n",
      "[100]\ttrain's rmse: 4.24863\teval's rmse: 5.62075\n",
      "[200]\ttrain's rmse: 3.28825\teval's rmse: 5.53743\n"
     ]
    },
    {
     "name": "stderr",
     "output_type": "stream",
     "text": [
      "num_leaves, val_score: 5.485760:  45%|####5     | 9/20 [00:04<00:06,  1.75it/s]\u001b[32m[I 2021-06-23 11:29:00,169]\u001b[0m Trial 15 finished with value: 5.5248576744849 and parameters: {'num_leaves': 133}. Best is trial 7 with value: 5.5248576744849.\u001b[0m\n",
      "num_leaves, val_score: 5.485760:  45%|####5     | 9/20 [00:04<00:06,  1.75it/s]"
     ]
    },
    {
     "name": "stdout",
     "output_type": "stream",
     "text": [
      "Early stopping, best iteration is:\n",
      "[158]\ttrain's rmse: 3.60631\teval's rmse: 5.52486\n",
      "Training until validation scores don't improve for 100 rounds\n",
      "[100]\ttrain's rmse: 4.24863\teval's rmse: 5.62075\n",
      "[200]\ttrain's rmse: 3.28825\teval's rmse: 5.53743\n"
     ]
    },
    {
     "name": "stderr",
     "output_type": "stream",
     "text": [
      "num_leaves, val_score: 5.485760:  50%|####5    | 10/20 [00:05<00:05,  1.85it/s]\u001b[32m[I 2021-06-23 11:29:00,654]\u001b[0m Trial 16 finished with value: 5.5248576744849 and parameters: {'num_leaves': 73}. Best is trial 7 with value: 5.5248576744849.\u001b[0m\n",
      "num_leaves, val_score: 5.485760:  50%|####5    | 10/20 [00:05<00:05,  1.85it/s]"
     ]
    },
    {
     "name": "stdout",
     "output_type": "stream",
     "text": [
      "Early stopping, best iteration is:\n",
      "[158]\ttrain's rmse: 3.60631\teval's rmse: 5.52486\n",
      "Training until validation scores don't improve for 100 rounds\n",
      "[100]\ttrain's rmse: 4.41043\teval's rmse: 5.62558\n"
     ]
    },
    {
     "name": "stderr",
     "output_type": "stream",
     "text": [
      "num_leaves, val_score: 5.485760:  55%|####9    | 11/20 [00:06<00:04,  1.82it/s]\u001b[32m[I 2021-06-23 11:29:01,211]\u001b[0m Trial 17 finished with value: 5.525194489509314 and parameters: {'num_leaves': 39}. Best is trial 7 with value: 5.5248576744849.\u001b[0m\n",
      "num_leaves, val_score: 5.485760:  55%|####9    | 11/20 [00:06<00:04,  1.82it/s]"
     ]
    },
    {
     "name": "stdout",
     "output_type": "stream",
     "text": [
      "[200]\ttrain's rmse: 3.51135\teval's rmse: 5.53936\n",
      "Early stopping, best iteration is:\n",
      "[150]\ttrain's rmse: 3.87012\teval's rmse: 5.52519\n",
      "Training until validation scores don't improve for 100 rounds\n",
      "[100]\ttrain's rmse: 4.26044\teval's rmse: 5.63524\n",
      "[200]\ttrain's rmse: 3.31517\teval's rmse: 5.54155\n"
     ]
    },
    {
     "name": "stderr",
     "output_type": "stream",
     "text": [
      "num_leaves, val_score: 5.485760:  60%|#####3   | 12/20 [00:06<00:05,  1.56it/s]\u001b[32m[I 2021-06-23 11:29:02,068]\u001b[0m Trial 18 finished with value: 5.538778035893405 and parameters: {'num_leaves': 47}. Best is trial 7 with value: 5.5248576744849.\u001b[0m\n",
      "num_leaves, val_score: 5.485760:  60%|#####3   | 12/20 [00:06<00:05,  1.56it/s]"
     ]
    },
    {
     "name": "stdout",
     "output_type": "stream",
     "text": [
      "Early stopping, best iteration is:\n",
      "[198]\ttrain's rmse: 3.32995\teval's rmse: 5.53878\n",
      "Training until validation scores don't improve for 100 rounds\n",
      "[100]\ttrain's rmse: 4.24863\teval's rmse: 5.62075\n",
      "[200]\ttrain's rmse: 3.28825\teval's rmse: 5.53743\n"
     ]
    },
    {
     "name": "stderr",
     "output_type": "stream",
     "text": [
      "num_leaves, val_score: 5.485760:  65%|#####8   | 13/20 [00:07<00:04,  1.46it/s]\u001b[32m[I 2021-06-23 11:29:02,856]\u001b[0m Trial 19 finished with value: 5.5248576744849 and parameters: {'num_leaves': 210}. Best is trial 7 with value: 5.5248576744849.\u001b[0m\n",
      "num_leaves, val_score: 5.485760:  65%|#####8   | 13/20 [00:07<00:04,  1.46it/s]"
     ]
    },
    {
     "name": "stdout",
     "output_type": "stream",
     "text": [
      "Early stopping, best iteration is:\n",
      "[158]\ttrain's rmse: 3.60631\teval's rmse: 5.52486\n",
      "Training until validation scores don't improve for 100 rounds\n",
      "[100]\ttrain's rmse: 4.24863\teval's rmse: 5.62075\n",
      "[200]\ttrain's rmse: 3.28825\teval's rmse: 5.53743\n"
     ]
    },
    {
     "name": "stderr",
     "output_type": "stream",
     "text": [
      "num_leaves, val_score: 5.485760:  70%|######3  | 14/20 [00:08<00:04,  1.49it/s]\u001b[32m[I 2021-06-23 11:29:03,495]\u001b[0m Trial 20 finished with value: 5.5248576744849 and parameters: {'num_leaves': 94}. Best is trial 7 with value: 5.5248576744849.\u001b[0m\n",
      "num_leaves, val_score: 5.485760:  70%|######3  | 14/20 [00:08<00:04,  1.49it/s]"
     ]
    },
    {
     "name": "stdout",
     "output_type": "stream",
     "text": [
      "Early stopping, best iteration is:\n",
      "[158]\ttrain's rmse: 3.60631\teval's rmse: 5.52486\n",
      "Training until validation scores don't improve for 100 rounds\n",
      "[100]\ttrain's rmse: 4.24863\teval's rmse: 5.62075\n",
      "[200]\ttrain's rmse: 3.28825\teval's rmse: 5.53743\n"
     ]
    },
    {
     "name": "stderr",
     "output_type": "stream",
     "text": [
      "num_leaves, val_score: 5.485760:  75%|######7  | 15/20 [00:08<00:03,  1.60it/s]\u001b[32m[I 2021-06-23 11:29:04,011]\u001b[0m Trial 21 finished with value: 5.5248576744849 and parameters: {'num_leaves': 128}. Best is trial 7 with value: 5.5248576744849.\u001b[0m\n",
      "num_leaves, val_score: 5.485760:  75%|######7  | 15/20 [00:08<00:03,  1.60it/s]"
     ]
    },
    {
     "name": "stdout",
     "output_type": "stream",
     "text": [
      "Early stopping, best iteration is:\n",
      "[158]\ttrain's rmse: 3.60631\teval's rmse: 5.52486\n",
      "Training until validation scores don't improve for 100 rounds\n"
     ]
    },
    {
     "name": "stderr",
     "output_type": "stream",
     "text": [
      "\r",
      "num_leaves, val_score: 5.485760:  75%|######7  | 15/20 [00:09<00:03,  1.60it/s]"
     ]
    },
    {
     "name": "stdout",
     "output_type": "stream",
     "text": [
      "[100]\ttrain's rmse: 4.41942\teval's rmse: 5.59541\n",
      "[200]\ttrain's rmse: 3.52056\teval's rmse: 5.51725\n",
      "Early stopping, best iteration is:\n",
      "[120]\ttrain's rmse: 4.18424\teval's rmse: 5.4958\n"
     ]
    },
    {
     "name": "stderr",
     "output_type": "stream",
     "text": [
      "num_leaves, val_score: 5.485760:  80%|#######2 | 16/20 [00:09<00:02,  1.82it/s]\u001b[32m[I 2021-06-23 11:29:04,393]\u001b[0m Trial 22 finished with value: 5.495799229164227 and parameters: {'num_leaves': 38}. Best is trial 22 with value: 5.495799229164227.\u001b[0m\n",
      "num_leaves, val_score: 5.485760:  80%|#######2 | 16/20 [00:09<00:02,  1.82it/s]"
     ]
    },
    {
     "name": "stdout",
     "output_type": "stream",
     "text": [
      "Training until validation scores don't improve for 100 rounds\n",
      "[100]\ttrain's rmse: 6.97099\teval's rmse: 6.81775\n",
      "[200]\ttrain's rmse: 6.26152\teval's rmse: 6.0519\n",
      "[300]\ttrain's rmse: 6.13618\teval's rmse: 5.96993\n",
      "[400]\ttrain's rmse: 6.06659\teval's rmse: 5.9069\n",
      "[500]\ttrain's rmse: 6.01883\teval's rmse: 5.88035\n",
      "[600]\ttrain's rmse: 5.98161\teval's rmse: 5.86652\n",
      "[700]\ttrain's rmse: 5.95585\teval's rmse: 5.85349\n"
     ]
    },
    {
     "name": "stderr",
     "output_type": "stream",
     "text": [
      "num_leaves, val_score: 5.485760:  85%|#######6 | 17/20 [00:09<00:01,  2.06it/s]\u001b[32m[I 2021-06-23 11:29:04,726]\u001b[0m Trial 23 finished with value: 5.852395426982702 and parameters: {'num_leaves': 2}. Best is trial 22 with value: 5.495799229164227.\u001b[0m\n",
      "num_leaves, val_score: 5.485760:  85%|#######6 | 17/20 [00:09<00:01,  2.06it/s]"
     ]
    },
    {
     "name": "stdout",
     "output_type": "stream",
     "text": [
      "Early stopping, best iteration is:\n",
      "[699]\ttrain's rmse: 5.95596\teval's rmse: 5.8524\n",
      "Training until validation scores don't improve for 100 rounds\n",
      "[100]\ttrain's rmse: 4.41043\teval's rmse: 5.62558\n",
      "[200]\ttrain's rmse: 3.51135\teval's rmse: 5.53936\n"
     ]
    },
    {
     "name": "stderr",
     "output_type": "stream",
     "text": [
      "num_leaves, val_score: 5.485760:  90%|########1| 18/20 [00:10<00:00,  2.05it/s]\u001b[32m[I 2021-06-23 11:29:05,214]\u001b[0m Trial 24 finished with value: 5.525194489509314 and parameters: {'num_leaves': 39}. Best is trial 22 with value: 5.495799229164227.\u001b[0m\n",
      "num_leaves, val_score: 5.485760:  90%|########1| 18/20 [00:10<00:00,  2.05it/s]"
     ]
    },
    {
     "name": "stdout",
     "output_type": "stream",
     "text": [
      "Early stopping, best iteration is:\n",
      "[150]\ttrain's rmse: 3.87012\teval's rmse: 5.52519\n",
      "Training until validation scores don't improve for 100 rounds\n",
      "[100]\ttrain's rmse: 4.24863\teval's rmse: 5.62075\n",
      "[200]\ttrain's rmse: 3.28825\teval's rmse: 5.53743\n"
     ]
    },
    {
     "name": "stderr",
     "output_type": "stream",
     "text": [
      "num_leaves, val_score: 5.485760:  95%|########5| 19/20 [00:10<00:00,  2.08it/s]\u001b[32m[I 2021-06-23 11:29:05,679]\u001b[0m Trial 25 finished with value: 5.5248576744849 and parameters: {'num_leaves': 61}. Best is trial 22 with value: 5.495799229164227.\u001b[0m\n",
      "num_leaves, val_score: 5.485760:  95%|########5| 19/20 [00:10<00:00,  2.08it/s]"
     ]
    },
    {
     "name": "stdout",
     "output_type": "stream",
     "text": [
      "Early stopping, best iteration is:\n",
      "[158]\ttrain's rmse: 3.60631\teval's rmse: 5.52486\n",
      "Training until validation scores don't improve for 100 rounds\n",
      "[100]\ttrain's rmse: 5.11162\teval's rmse: 5.66891\n"
     ]
    },
    {
     "name": "stderr",
     "output_type": "stream",
     "text": [
      "num_leaves, val_score: 5.485760: 100%|#########| 20/20 [00:10<00:00,  2.18it/s]\u001b[32m[I 2021-06-23 11:29:06,084]\u001b[0m Trial 26 finished with value: 5.529868800991191 and parameters: {'num_leaves': 17}. Best is trial 22 with value: 5.495799229164227.\u001b[0m\n",
      "num_leaves, val_score: 5.485760: 100%|#########| 20/20 [00:10<00:00,  1.84it/s]\n",
      "bagging, val_score: 5.485760:   0%|                     | 0/10 [00:00<?, ?it/s]"
     ]
    },
    {
     "name": "stdout",
     "output_type": "stream",
     "text": [
      "[200]\ttrain's rmse: 4.42437\teval's rmse: 5.53793\n",
      "[300]\ttrain's rmse: 4.02216\teval's rmse: 5.54573\n",
      "Early stopping, best iteration is:\n",
      "[278]\ttrain's rmse: 4.10055\teval's rmse: 5.52987\n",
      "Training until validation scores don't improve for 100 rounds\n",
      "[100]\ttrain's rmse: 4.49335\teval's rmse: 5.60262\n"
     ]
    },
    {
     "name": "stderr",
     "output_type": "stream",
     "text": [
      "bagging, val_score: 5.485760:  10%|#3           | 1/10 [00:00<00:04,  2.10it/s]\u001b[32m[I 2021-06-23 11:29:06,574]\u001b[0m Trial 27 finished with value: 5.525741055524646 and parameters: {'bagging_fraction': 0.9876053768556735, 'bagging_freq': 6}. Best is trial 27 with value: 5.525741055524646.\u001b[0m\n",
      "bagging, val_score: 5.485760:  10%|#3           | 1/10 [00:00<00:04,  2.10it/s]"
     ]
    },
    {
     "name": "stdout",
     "output_type": "stream",
     "text": [
      "[200]\ttrain's rmse: 3.68188\teval's rmse: 5.52897\n",
      "Early stopping, best iteration is:\n",
      "[176]\ttrain's rmse: 3.83124\teval's rmse: 5.52574\n",
      "Training until validation scores don't improve for 100 rounds\n",
      "[100]\ttrain's rmse: 4.78729\teval's rmse: 5.69141\n",
      "[200]\ttrain's rmse: 3.96362\teval's rmse: 5.59648\n"
     ]
    },
    {
     "name": "stderr",
     "output_type": "stream",
     "text": [
      "bagging, val_score: 5.485760:  20%|##6          | 2/10 [00:01<00:04,  1.86it/s]\u001b[32m[I 2021-06-23 11:29:07,153]\u001b[0m Trial 28 finished with value: 5.584612895975736 and parameters: {'bagging_fraction': 0.6163855852567391, 'bagging_freq': 5}. Best is trial 27 with value: 5.525741055524646.\u001b[0m\n",
      "bagging, val_score: 5.485760:  20%|##6          | 2/10 [00:01<00:04,  1.86it/s]"
     ]
    },
    {
     "name": "stdout",
     "output_type": "stream",
     "text": [
      "[300]\ttrain's rmse: 3.48268\teval's rmse: 5.60275\n",
      "Early stopping, best iteration is:\n",
      "[209]\ttrain's rmse: 3.91099\teval's rmse: 5.58461\n",
      "Training until validation scores don't improve for 100 rounds\n",
      "[100]\ttrain's rmse: 5.03268\teval's rmse: 5.76629\n",
      "[200]\ttrain's rmse: 4.24247\teval's rmse: 5.50156\n"
     ]
    },
    {
     "name": "stderr",
     "output_type": "stream",
     "text": [
      "bagging, val_score: 5.473282:  30%|###9         | 3/10 [00:01<00:03,  1.91it/s]\u001b[32m[I 2021-06-23 11:29:07,658]\u001b[0m Trial 29 finished with value: 5.4732824645105405 and parameters: {'bagging_fraction': 0.48915390581618234, 'bagging_freq': 7}. Best is trial 29 with value: 5.4732824645105405.\u001b[0m\n",
      "bagging, val_score: 5.473282:  30%|###9         | 3/10 [00:01<00:03,  1.91it/s]"
     ]
    },
    {
     "name": "stdout",
     "output_type": "stream",
     "text": [
      "[300]\ttrain's rmse: 3.79814\teval's rmse: 5.58563\n",
      "Early stopping, best iteration is:\n",
      "[210]\ttrain's rmse: 4.18851\teval's rmse: 5.47328\n",
      "Training until validation scores don't improve for 100 rounds\n",
      "[100]\ttrain's rmse: 4.54063\teval's rmse: 5.61791\n",
      "[200]\ttrain's rmse: 3.69804\teval's rmse: 5.56335\n"
     ]
    },
    {
     "name": "stderr",
     "output_type": "stream",
     "text": [
      "bagging, val_score: 5.473282:  40%|#####2       | 4/10 [00:02<00:03,  1.91it/s]\u001b[32m[I 2021-06-23 11:29:08,193]\u001b[0m Trial 30 finished with value: 5.550429232332589 and parameters: {'bagging_fraction': 0.8567531728305522, 'bagging_freq': 2}. Best is trial 29 with value: 5.4732824645105405.\u001b[0m\n",
      "bagging, val_score: 5.473282:  40%|#####2       | 4/10 [00:02<00:03,  1.91it/s]"
     ]
    },
    {
     "name": "stdout",
     "output_type": "stream",
     "text": [
      "Early stopping, best iteration is:\n",
      "[192]\ttrain's rmse: 3.75002\teval's rmse: 5.55043\n",
      "Training until validation scores don't improve for 100 rounds\n",
      "[100]\ttrain's rmse: 4.75116\teval's rmse: 5.66603\n",
      "[200]\ttrain's rmse: 3.94669\teval's rmse: 5.55416\n",
      "[300]\ttrain's rmse: 3.4614\teval's rmse: 5.51737\n"
     ]
    },
    {
     "name": "stderr",
     "output_type": "stream",
     "text": [
      "bagging, val_score: 5.473282:  50%|######5      | 5/10 [00:02<00:02,  1.71it/s]\u001b[32m[I 2021-06-23 11:29:08,881]\u001b[0m Trial 31 finished with value: 5.503983966685524 and parameters: {'bagging_fraction': 0.6337959342102946, 'bagging_freq': 4}. Best is trial 29 with value: 5.4732824645105405.\u001b[0m\n",
      "bagging, val_score: 5.473282:  50%|######5      | 5/10 [00:02<00:02,  1.71it/s]"
     ]
    },
    {
     "name": "stdout",
     "output_type": "stream",
     "text": [
      "[400]\ttrain's rmse: 3.08806\teval's rmse: 5.54753\n",
      "Early stopping, best iteration is:\n",
      "[318]\ttrain's rmse: 3.39131\teval's rmse: 5.50398\n",
      "Training until validation scores don't improve for 100 rounds\n",
      "[100]\ttrain's rmse: 4.72267\teval's rmse: 5.61835\n",
      "[200]\ttrain's rmse: 3.92431\teval's rmse: 5.53165\n"
     ]
    },
    {
     "name": "stderr",
     "output_type": "stream",
     "text": [
      "bagging, val_score: 5.473282:  60%|#######8     | 6/10 [00:03<00:02,  1.76it/s]\u001b[32m[I 2021-06-23 11:29:09,409]\u001b[0m Trial 32 finished with value: 5.517297938369803 and parameters: {'bagging_fraction': 0.6456789268321035, 'bagging_freq': 4}. Best is trial 29 with value: 5.4732824645105405.\u001b[0m\n",
      "bagging, val_score: 5.473282:  60%|#######8     | 6/10 [00:03<00:02,  1.76it/s]"
     ]
    },
    {
     "name": "stdout",
     "output_type": "stream",
     "text": [
      "[300]\ttrain's rmse: 3.42466\teval's rmse: 5.55395\n",
      "Early stopping, best iteration is:\n",
      "[224]\ttrain's rmse: 3.78863\teval's rmse: 5.5173\n",
      "Training until validation scores don't improve for 100 rounds\n",
      "[100]\ttrain's rmse: 4.62055\teval's rmse: 5.63487\n",
      "[200]\ttrain's rmse: 3.76278\teval's rmse: 5.52369\n"
     ]
    },
    {
     "name": "stderr",
     "output_type": "stream",
     "text": [
      "bagging, val_score: 5.473282:  70%|#########1   | 7/10 [00:03<00:01,  1.90it/s]\u001b[32m[I 2021-06-23 11:29:09,863]\u001b[0m Trial 33 finished with value: 5.50951926287646 and parameters: {'bagging_fraction': 0.7623028278538759, 'bagging_freq': 3}. Best is trial 29 with value: 5.4732824645105405.\u001b[0m\n",
      "bagging, val_score: 5.473282:  70%|#########1   | 7/10 [00:03<00:01,  1.90it/s]"
     ]
    },
    {
     "name": "stdout",
     "output_type": "stream",
     "text": [
      "[300]\ttrain's rmse: 3.2689\teval's rmse: 5.56092\n",
      "Early stopping, best iteration is:\n",
      "[209]\ttrain's rmse: 3.70711\teval's rmse: 5.50952\n",
      "Training until validation scores don't improve for 100 rounds\n",
      "[100]\ttrain's rmse: 4.94931\teval's rmse: 5.66578\n"
     ]
    },
    {
     "name": "stderr",
     "output_type": "stream",
     "text": [
      "bagging, val_score: 5.473282:  80%|##########4  | 8/10 [00:04<00:00,  2.03it/s]\u001b[32m[I 2021-06-23 11:29:10,277]\u001b[0m Trial 34 finished with value: 5.552115975462511 and parameters: {'bagging_fraction': 0.5125096261468937, 'bagging_freq': 5}. Best is trial 29 with value: 5.4732824645105405.\u001b[0m\n",
      "bagging, val_score: 5.473282:  80%|##########4  | 8/10 [00:04<00:00,  2.03it/s]"
     ]
    },
    {
     "name": "stdout",
     "output_type": "stream",
     "text": [
      "[200]\ttrain's rmse: 4.19054\teval's rmse: 5.56932\n",
      "[300]\ttrain's rmse: 3.73789\teval's rmse: 5.56563\n",
      "Early stopping, best iteration is:\n",
      "[210]\ttrain's rmse: 4.13482\teval's rmse: 5.55212\n",
      "Training until validation scores don't improve for 100 rounds\n",
      "[100]\ttrain's rmse: 5.01702\teval's rmse: 5.82472\n",
      "[200]\ttrain's rmse: 4.29446\teval's rmse: 5.72998\n",
      "[300]\ttrain's rmse: 3.8523\teval's rmse: 5.68928\n"
     ]
    },
    {
     "name": "stderr",
     "output_type": "stream",
     "text": [
      "bagging, val_score: 5.473282:  90%|###########7 | 9/10 [00:04<00:00,  1.95it/s]\u001b[32m[I 2021-06-23 11:29:10,825]\u001b[0m Trial 35 finished with value: 5.650151800326337 and parameters: {'bagging_fraction': 0.467972233440626, 'bagging_freq': 2}. Best is trial 29 with value: 5.4732824645105405.\u001b[0m\n",
      "bagging, val_score: 5.473282:  90%|###########7 | 9/10 [00:04<00:00,  1.95it/s]"
     ]
    },
    {
     "name": "stdout",
     "output_type": "stream",
     "text": [
      "[400]\ttrain's rmse: 3.50238\teval's rmse: 5.69296\n",
      "Early stopping, best iteration is:\n",
      "[357]\ttrain's rmse: 3.64221\teval's rmse: 5.65015\n",
      "Training until validation scores don't improve for 100 rounds\n",
      "[100]\ttrain's rmse: 5.06303\teval's rmse: 5.80138\n",
      "[200]\ttrain's rmse: 4.26411\teval's rmse: 5.57503\n"
     ]
    },
    {
     "name": "stderr",
     "output_type": "stream",
     "text": [
      "bagging, val_score: 5.473282: 100%|############| 10/10 [00:05<00:00,  1.89it/s]\u001b[32m[I 2021-06-23 11:29:11,393]\u001b[0m Trial 36 finished with value: 5.547375031037343 and parameters: {'bagging_fraction': 0.49129924586966595, 'bagging_freq': 7}. Best is trial 29 with value: 5.4732824645105405.\u001b[0m\n",
      "bagging, val_score: 5.473282: 100%|############| 10/10 [00:05<00:00,  1.89it/s]\n",
      "feature_fraction_stage2, val_score: 5.473282:   0%|      | 0/6 [00:00<?, ?it/s]"
     ]
    },
    {
     "name": "stdout",
     "output_type": "stream",
     "text": [
      "[300]\ttrain's rmse: 3.82439\teval's rmse: 5.59433\n",
      "Early stopping, best iteration is:\n",
      "[217]\ttrain's rmse: 4.17125\teval's rmse: 5.54738\n",
      "Training until validation scores don't improve for 100 rounds\n",
      "[100]\ttrain's rmse: 5.01392\teval's rmse: 5.84209\n",
      "[200]\ttrain's rmse: 4.21971\teval's rmse: 5.67927\n"
     ]
    },
    {
     "name": "stderr",
     "output_type": "stream",
     "text": [
      "feature_fraction_stage2, val_score: 5.473282:  17%|1| 1/6 [00:00<00:02,  1.95it\u001b[32m[I 2021-06-23 11:29:11,915]\u001b[0m Trial 37 finished with value: 5.642292980918648 and parameters: {'feature_fraction': 0.6799999999999999}. Best is trial 37 with value: 5.642292980918648.\u001b[0m\n",
      "feature_fraction_stage2, val_score: 5.473282:  17%|1| 1/6 [00:00<00:02,  1.95it"
     ]
    },
    {
     "name": "stdout",
     "output_type": "stream",
     "text": [
      "[300]\ttrain's rmse: 3.78488\teval's rmse: 5.69972\n",
      "Early stopping, best iteration is:\n",
      "[210]\ttrain's rmse: 4.15904\teval's rmse: 5.64229\n",
      "Training until validation scores don't improve for 100 rounds\n",
      "[100]\ttrain's rmse: 5.10052\teval's rmse: 5.82794\n",
      "[200]\ttrain's rmse: 4.33081\teval's rmse: 5.65806\n"
     ]
    },
    {
     "name": "stderr",
     "output_type": "stream",
     "text": [
      "feature_fraction_stage2, val_score: 5.473282:  33%|3| 2/6 [00:01<00:02,  1.78it\u001b[32m[I 2021-06-23 11:29:12,513]\u001b[0m Trial 38 finished with value: 5.610265985840665 and parameters: {'feature_fraction': 0.52}. Best is trial 38 with value: 5.610265985840665.\u001b[0m\n",
      "feature_fraction_stage2, val_score: 5.473282:  33%|3| 2/6 [00:01<00:02,  1.78it"
     ]
    },
    {
     "name": "stdout",
     "output_type": "stream",
     "text": [
      "[300]\ttrain's rmse: 3.89729\teval's rmse: 5.63629\n",
      "[400]\ttrain's rmse: 3.56309\teval's rmse: 5.65475\n",
      "Early stopping, best iteration is:\n",
      "[319]\ttrain's rmse: 3.81959\teval's rmse: 5.61027\n",
      "Training until validation scores don't improve for 100 rounds\n",
      "[100]\ttrain's rmse: 5.05917\teval's rmse: 5.80552\n",
      "[200]\ttrain's rmse: 4.26255\teval's rmse: 5.61709\n",
      "[300]\ttrain's rmse: 3.82396\teval's rmse: 5.60746\n"
     ]
    },
    {
     "name": "stderr",
     "output_type": "stream",
     "text": [
      "feature_fraction_stage2, val_score: 5.473282:  50%|5| 3/6 [00:01<00:01,  2.06it\u001b[32m[I 2021-06-23 11:29:12,915]\u001b[0m Trial 39 finished with value: 5.58721648262912 and parameters: {'feature_fraction': 0.584}. Best is trial 39 with value: 5.58721648262912.\u001b[0m\n",
      "feature_fraction_stage2, val_score: 5.473282:  50%|5| 3/6 [00:01<00:01,  2.06it"
     ]
    },
    {
     "name": "stdout",
     "output_type": "stream",
     "text": [
      "Early stopping, best iteration is:\n",
      "[212]\ttrain's rmse: 4.19412\teval's rmse: 5.58722\n",
      "Training until validation scores don't improve for 100 rounds\n",
      "[100]\ttrain's rmse: 5.01007\teval's rmse: 5.79766\n",
      "[200]\ttrain's rmse: 4.21227\teval's rmse: 5.5844\n"
     ]
    },
    {
     "name": "stderr",
     "output_type": "stream",
     "text": [
      "feature_fraction_stage2, val_score: 5.473282:  67%|6| 4/6 [00:01<00:00,  2.06it\u001b[32m[I 2021-06-23 11:29:13,392]\u001b[0m Trial 40 finished with value: 5.569261287055893 and parameters: {'feature_fraction': 0.6479999999999999}. Best is trial 40 with value: 5.569261287055893.\u001b[0m\n",
      "feature_fraction_stage2, val_score: 5.473282:  67%|6| 4/6 [00:01<00:00,  2.06it"
     ]
    },
    {
     "name": "stdout",
     "output_type": "stream",
     "text": [
      "[300]\ttrain's rmse: 3.77354\teval's rmse: 5.63145\n",
      "Early stopping, best iteration is:\n",
      "[211]\ttrain's rmse: 4.14492\teval's rmse: 5.56926\n",
      "Training until validation scores don't improve for 100 rounds\n",
      "[100]\ttrain's rmse: 5.08109\teval's rmse: 5.82421\n"
     ]
    },
    {
     "name": "stderr",
     "output_type": "stream",
     "text": [
      "feature_fraction_stage2, val_score: 5.473282:  83%|8| 5/6 [00:02<00:00,  2.28it\u001b[32m[I 2021-06-23 11:29:13,746]\u001b[0m Trial 41 finished with value: 5.593152517793363 and parameters: {'feature_fraction': 0.552}. Best is trial 40 with value: 5.569261287055893.\u001b[0m\n",
      "feature_fraction_stage2, val_score: 5.473282:  83%|8| 5/6 [00:02<00:00,  2.28it"
     ]
    },
    {
     "name": "stdout",
     "output_type": "stream",
     "text": [
      "[200]\ttrain's rmse: 4.27963\teval's rmse: 5.62226\n",
      "[300]\ttrain's rmse: 3.83953\teval's rmse: 5.62437\n",
      "Early stopping, best iteration is:\n",
      "[210]\ttrain's rmse: 4.21824\teval's rmse: 5.59315\n",
      "Training until validation scores don't improve for 100 rounds\n",
      "[100]\ttrain's rmse: 5.04197\teval's rmse: 5.79981\n",
      "[200]\ttrain's rmse: 4.24424\teval's rmse: 5.61228\n",
      "[300]\ttrain's rmse: 3.8063\teval's rmse: 5.60961\n"
     ]
    },
    {
     "name": "stderr",
     "output_type": "stream",
     "text": [
      "feature_fraction_stage2, val_score: 5.473282: 100%|#| 6/6 [00:02<00:00,  2.34it\u001b[32m[I 2021-06-23 11:29:14,151]\u001b[0m Trial 42 finished with value: 5.59044680953467 and parameters: {'feature_fraction': 0.616}. Best is trial 40 with value: 5.569261287055893.\u001b[0m\n",
      "feature_fraction_stage2, val_score: 5.473282: 100%|#| 6/6 [00:02<00:00,  2.18it\n",
      "regularization_factors, val_score: 5.473282:   0%|      | 0/20 [00:00<?, ?it/s]"
     ]
    },
    {
     "name": "stdout",
     "output_type": "stream",
     "text": [
      "Early stopping, best iteration is:\n",
      "[210]\ttrain's rmse: 4.18588\teval's rmse: 5.59045\n",
      "Training until validation scores don't improve for 100 rounds\n",
      "[100]\ttrain's rmse: 5.10619\teval's rmse: 5.82727\n",
      "[200]\ttrain's rmse: 4.32395\teval's rmse: 5.61436\n",
      "[300]\ttrain's rmse: 3.88512\teval's rmse: 5.6346\n"
     ]
    },
    {
     "name": "stderr",
     "output_type": "stream",
     "text": [
      "regularization_factors, val_score: 5.473282:   5%| | 1/20 [00:00<00:07,  2.47it\u001b[32m[I 2021-06-23 11:29:14,566]\u001b[0m Trial 43 finished with value: 5.585362663465838 and parameters: {'lambda_l1': 1.299614384792463, 'lambda_l2': 0.5281005422501601}. Best is trial 43 with value: 5.585362663465838.\u001b[0m\n",
      "regularization_factors, val_score: 5.473282:   5%| | 1/20 [00:00<00:07,  2.47it"
     ]
    },
    {
     "name": "stdout",
     "output_type": "stream",
     "text": [
      "Early stopping, best iteration is:\n",
      "[210]\ttrain's rmse: 4.25751\teval's rmse: 5.58536\n",
      "Training until validation scores don't improve for 100 rounds\n",
      "[100]\ttrain's rmse: 5.07123\teval's rmse: 5.78908\n"
     ]
    },
    {
     "name": "stderr",
     "output_type": "stream",
     "text": [
      "regularization_factors, val_score: 5.473282:  10%|1| 2/20 [00:00<00:07,  2.44it\u001b[32m[I 2021-06-23 11:29:14,980]\u001b[0m Trial 44 finished with value: 5.531432875923999 and parameters: {'lambda_l1': 0.00027212834750632445, 'lambda_l2': 0.014983793077054499}. Best is trial 44 with value: 5.531432875923999.\u001b[0m\n",
      "regularization_factors, val_score: 5.473282:  10%|1| 2/20 [00:00<00:07,  2.44it"
     ]
    },
    {
     "name": "stdout",
     "output_type": "stream",
     "text": [
      "[200]\ttrain's rmse: 4.2883\teval's rmse: 5.55271\n",
      "[300]\ttrain's rmse: 3.83032\teval's rmse: 5.62596\n",
      "Early stopping, best iteration is:\n",
      "[207]\ttrain's rmse: 4.24223\teval's rmse: 5.53143\n",
      "Training until validation scores don't improve for 100 rounds\n",
      "[100]\ttrain's rmse: 5.05874\teval's rmse: 5.82635\n"
     ]
    },
    {
     "name": "stderr",
     "output_type": "stream",
     "text": [
      "regularization_factors, val_score: 5.473282:  15%|1| 3/20 [00:01<00:07,  2.37it\u001b[32m[I 2021-06-23 11:29:15,423]\u001b[0m Trial 45 finished with value: 5.572273934863213 and parameters: {'lambda_l1': 0.30129107643604597, 'lambda_l2': 2.0234721233701678e-06}. Best is trial 44 with value: 5.531432875923999.\u001b[0m\n",
      "regularization_factors, val_score: 5.473282:  15%|1| 3/20 [00:01<00:07,  2.37it"
     ]
    },
    {
     "name": "stdout",
     "output_type": "stream",
     "text": [
      "[200]\ttrain's rmse: 4.26836\teval's rmse: 5.60672\n",
      "Early stopping, best iteration is:\n",
      "[185]\ttrain's rmse: 4.36229\teval's rmse: 5.57227\n",
      "Training until validation scores don't improve for 100 rounds\n",
      "[100]\ttrain's rmse: 5.04758\teval's rmse: 5.80371\n",
      "[200]\ttrain's rmse: 4.25314\teval's rmse: 5.6061\n"
     ]
    },
    {
     "name": "stderr",
     "output_type": "stream",
     "text": [
      "regularization_factors, val_score: 5.473282:  20%|2| 4/20 [00:01<00:06,  2.37it\u001b[32m[I 2021-06-23 11:29:15,839]\u001b[0m Trial 46 finished with value: 5.571353205101658 and parameters: {'lambda_l1': 0.07441791248376439, 'lambda_l2': 0.001527691637618471}. Best is trial 44 with value: 5.531432875923999.\u001b[0m\n",
      "regularization_factors, val_score: 5.473282:  20%|2| 4/20 [00:01<00:06,  2.37it"
     ]
    },
    {
     "name": "stdout",
     "output_type": "stream",
     "text": [
      "[300]\ttrain's rmse: 3.82895\teval's rmse: 5.62273\n",
      "Early stopping, best iteration is:\n",
      "[207]\ttrain's rmse: 4.20951\teval's rmse: 5.57135\n",
      "Training until validation scores don't improve for 100 rounds\n",
      "[100]\ttrain's rmse: 5.3651\teval's rmse: 5.92966\n"
     ]
    },
    {
     "name": "stderr",
     "output_type": "stream",
     "text": [
      "regularization_factors, val_score: 5.473282:  25%|2| 5/20 [00:02<00:06,  2.44it\u001b[32m[I 2021-06-23 11:29:16,232]\u001b[0m Trial 47 finished with value: 5.650994409973335 and parameters: {'lambda_l1': 2.365290142061977, 'lambda_l2': 5.893197010974176}. Best is trial 44 with value: 5.531432875923999.\u001b[0m\n",
      "regularization_factors, val_score: 5.473282:  25%|2| 5/20 [00:02<00:06,  2.44it"
     ]
    },
    {
     "name": "stdout",
     "output_type": "stream",
     "text": [
      "[200]\ttrain's rmse: 4.57334\teval's rmse: 5.66464\n",
      "[300]\ttrain's rmse: 4.16416\teval's rmse: 5.70816\n",
      "Early stopping, best iteration is:\n",
      "[210]\ttrain's rmse: 4.52131\teval's rmse: 5.65099\n",
      "Training until validation scores don't improve for 100 rounds\n",
      "[100]\ttrain's rmse: 5.03268\teval's rmse: 5.76629\n"
     ]
    },
    {
     "name": "stderr",
     "output_type": "stream",
     "text": [
      "regularization_factors, val_score: 5.473282:  30%|3| 6/20 [00:02<00:05,  2.39it\u001b[32m[I 2021-06-23 11:29:16,662]\u001b[0m Trial 48 finished with value: 5.473282462183478 and parameters: {'lambda_l1': 4.463764748348541e-06, 'lambda_l2': 1.0927752236581664e-06}. Best is trial 48 with value: 5.473282462183478.\u001b[0m\n",
      "regularization_factors, val_score: 5.473282:  30%|3| 6/20 [00:02<00:05,  2.39it"
     ]
    },
    {
     "name": "stdout",
     "output_type": "stream",
     "text": [
      "[200]\ttrain's rmse: 4.24247\teval's rmse: 5.50156\n",
      "[300]\ttrain's rmse: 3.79814\teval's rmse: 5.58563\n",
      "Early stopping, best iteration is:\n",
      "[210]\ttrain's rmse: 4.18851\teval's rmse: 5.47328\n",
      "Training until validation scores don't improve for 100 rounds\n",
      "[100]\ttrain's rmse: 5.03268\teval's rmse: 5.76629\n",
      "[200]\ttrain's rmse: 4.24247\teval's rmse: 5.50156\n"
     ]
    },
    {
     "name": "stderr",
     "output_type": "stream",
     "text": [
      "regularization_factors, val_score: 5.473282:  35%|3| 7/20 [00:02<00:05,  2.31it\u001b[32m[I 2021-06-23 11:29:17,131]\u001b[0m Trial 49 finished with value: 5.473282471985868 and parameters: {'lambda_l1': 7.252847762266658e-07, 'lambda_l2': 3.055502371943005e-05}. Best is trial 48 with value: 5.473282462183478.\u001b[0m\n",
      "regularization_factors, val_score: 5.473282:  35%|3| 7/20 [00:02<00:05,  2.31it"
     ]
    },
    {
     "name": "stdout",
     "output_type": "stream",
     "text": [
      "[300]\ttrain's rmse: 3.79814\teval's rmse: 5.58563\n",
      "Early stopping, best iteration is:\n",
      "[210]\ttrain's rmse: 4.18851\teval's rmse: 5.47328\n",
      "Training until validation scores don't improve for 100 rounds\n",
      "[100]\ttrain's rmse: 5.07118\teval's rmse: 5.78906\n",
      "[200]\ttrain's rmse: 4.29305\teval's rmse: 5.55824\n",
      "[300]\ttrain's rmse: 3.84937\teval's rmse: 5.62113\n"
     ]
    },
    {
     "name": "stderr",
     "output_type": "stream",
     "text": [
      "regularization_factors, val_score: 5.473282:  40%|4| 8/20 [00:03<00:05,  2.29it\u001b[32m[I 2021-06-23 11:29:17,566]\u001b[0m Trial 50 finished with value: 5.521852688962791 and parameters: {'lambda_l1': 0.006569911254419575, 'lambda_l2': 0.01150902182958359}. Best is trial 48 with value: 5.473282462183478.\u001b[0m\n",
      "regularization_factors, val_score: 5.473282:  40%|4| 8/20 [00:03<00:05,  2.29it"
     ]
    },
    {
     "name": "stdout",
     "output_type": "stream",
     "text": [
      "Early stopping, best iteration is:\n",
      "[212]\ttrain's rmse: 4.2148\teval's rmse: 5.52185\n",
      "Training until validation scores don't improve for 100 rounds\n",
      "[100]\ttrain's rmse: 5.21835\teval's rmse: 5.87675\n"
     ]
    },
    {
     "name": "stderr",
     "output_type": "stream",
     "text": [
      "regularization_factors, val_score: 5.473282:  45%|4| 9/20 [00:03<00:04,  2.33it\u001b[32m[I 2021-06-23 11:29:17,980]\u001b[0m Trial 51 finished with value: 5.58997874936767 and parameters: {'lambda_l1': 0.04026120527903099, 'lambda_l2': 3.022827397550497}. Best is trial 48 with value: 5.473282462183478.\u001b[0m\n",
      "regularization_factors, val_score: 5.473282:  45%|4| 9/20 [00:03<00:04,  2.33it"
     ]
    },
    {
     "name": "stdout",
     "output_type": "stream",
     "text": [
      "[200]\ttrain's rmse: 4.40164\teval's rmse: 5.61381\n",
      "[300]\ttrain's rmse: 3.95612\teval's rmse: 5.61921\n",
      "Early stopping, best iteration is:\n",
      "[216]\ttrain's rmse: 4.31242\teval's rmse: 5.58998\n",
      "Training until validation scores don't improve for 100 rounds\n",
      "[100]\ttrain's rmse: 5.0336\teval's rmse: 5.79682\n",
      "[200]\ttrain's rmse: 4.24654\teval's rmse: 5.60281\n",
      "[300]\ttrain's rmse: 3.82037\teval's rmse: 5.64428\n"
     ]
    },
    {
     "name": "stderr",
     "output_type": "stream",
     "text": [
      "regularization_factors, val_score: 5.473282:  50%|5| 10/20 [00:04<00:04,  2.35i\u001b[32m[I 2021-06-23 11:29:18,395]\u001b[0m Trial 52 finished with value: 5.570856067687968 and parameters: {'lambda_l1': 8.699090884108647e-08, 'lambda_l2': 0.0034282109392565667}. Best is trial 48 with value: 5.473282462183478.\u001b[0m\n",
      "regularization_factors, val_score: 5.473282:  50%|5| 10/20 [00:04<00:04,  2.35i"
     ]
    },
    {
     "name": "stdout",
     "output_type": "stream",
     "text": [
      "Early stopping, best iteration is:\n",
      "[211]\ttrain's rmse: 4.1866\teval's rmse: 5.57086\n",
      "Training until validation scores don't improve for 100 rounds\n",
      "[100]\ttrain's rmse: 5.03268\teval's rmse: 5.76629\n"
     ]
    },
    {
     "name": "stderr",
     "output_type": "stream",
     "text": [
      "regularization_factors, val_score: 5.473282:  55%|5| 11/20 [00:04<00:03,  2.42i\u001b[32m[I 2021-06-23 11:29:18,787]\u001b[0m Trial 53 finished with value: 5.473282451695133 and parameters: {'lambda_l1': 1.6943703970614417e-05, 'lambda_l2': 1.030270999506088e-08}. Best is trial 53 with value: 5.473282451695133.\u001b[0m\n",
      "regularization_factors, val_score: 5.473282:  55%|5| 11/20 [00:04<00:03,  2.42i"
     ]
    },
    {
     "name": "stdout",
     "output_type": "stream",
     "text": [
      "[200]\ttrain's rmse: 4.24247\teval's rmse: 5.50156\n",
      "[300]\ttrain's rmse: 3.79814\teval's rmse: 5.58563\n",
      "Early stopping, best iteration is:\n",
      "[210]\ttrain's rmse: 4.18851\teval's rmse: 5.47328\n",
      "Training until validation scores don't improve for 100 rounds\n",
      "[100]\ttrain's rmse: 5.03268\teval's rmse: 5.76629\n",
      "[200]\ttrain's rmse: 4.24247\teval's rmse: 5.50156\n"
     ]
    },
    {
     "name": "stderr",
     "output_type": "stream",
     "text": [
      "regularization_factors, val_score: 5.473282:  60%|6| 12/20 [00:05<00:03,  2.26i\u001b[32m[I 2021-06-23 11:29:19,295]\u001b[0m Trial 54 finished with value: 5.473282456973237 and parameters: {'lambda_l1': 1.0527355885710046e-05, 'lambda_l2': 1.1195569822235422e-08}. Best is trial 53 with value: 5.473282451695133.\u001b[0m\n",
      "regularization_factors, val_score: 5.473282:  60%|6| 12/20 [00:05<00:03,  2.26i"
     ]
    },
    {
     "name": "stdout",
     "output_type": "stream",
     "text": [
      "[300]\ttrain's rmse: 3.79814\teval's rmse: 5.58563\n",
      "Early stopping, best iteration is:\n",
      "[210]\ttrain's rmse: 4.18851\teval's rmse: 5.47328\n",
      "Training until validation scores don't improve for 100 rounds\n",
      "[100]\ttrain's rmse: 5.03268\teval's rmse: 5.76629\n",
      "[200]\ttrain's rmse: 4.24801\teval's rmse: 5.50876\n"
     ]
    },
    {
     "name": "stderr",
     "output_type": "stream",
     "text": [
      "regularization_factors, val_score: 5.473282:  65%|6| 13/20 [00:05<00:03,  2.29i\u001b[32m[I 2021-06-23 11:29:19,719]\u001b[0m Trial 55 finished with value: 5.49033860741463 and parameters: {'lambda_l1': 9.88445523382488e-05, 'lambda_l2': 1.6053965478951416e-08}. Best is trial 53 with value: 5.473282451695133.\u001b[0m\n",
      "regularization_factors, val_score: 5.473282:  65%|6| 13/20 [00:05<00:03,  2.29i"
     ]
    },
    {
     "name": "stdout",
     "output_type": "stream",
     "text": [
      "[300]\ttrain's rmse: 3.80031\teval's rmse: 5.567\n",
      "Early stopping, best iteration is:\n",
      "[215]\ttrain's rmse: 4.16424\teval's rmse: 5.49034\n",
      "Training until validation scores don't improve for 100 rounds\n",
      "[100]\ttrain's rmse: 5.03268\teval's rmse: 5.76629\n"
     ]
    },
    {
     "name": "stderr",
     "output_type": "stream",
     "text": [
      "regularization_factors, val_score: 5.473282:  70%|7| 14/20 [00:05<00:02,  2.32i\u001b[32m[I 2021-06-23 11:29:20,142]\u001b[0m Trial 56 finished with value: 5.473282452375321 and parameters: {'lambda_l1': 1.587287003950514e-05, 'lambda_l2': 1.865526340374236e-08}. Best is trial 53 with value: 5.473282451695133.\u001b[0m\n",
      "regularization_factors, val_score: 5.473282:  70%|7| 14/20 [00:05<00:02,  2.32i"
     ]
    },
    {
     "name": "stdout",
     "output_type": "stream",
     "text": [
      "[200]\ttrain's rmse: 4.24247\teval's rmse: 5.50156\n",
      "[300]\ttrain's rmse: 3.79814\teval's rmse: 5.58563\n",
      "Early stopping, best iteration is:\n",
      "[210]\ttrain's rmse: 4.18851\teval's rmse: 5.47328\n",
      "Training until validation scores don't improve for 100 rounds\n",
      "[100]\ttrain's rmse: 5.03268\teval's rmse: 5.76629\n",
      "[200]\ttrain's rmse: 4.24247\teval's rmse: 5.50156\n"
     ]
    },
    {
     "name": "stderr",
     "output_type": "stream",
     "text": [
      "regularization_factors, val_score: 5.473282:  75%|7| 15/20 [00:06<00:02,  2.33i\u001b[32m[I 2021-06-23 11:29:20,566]\u001b[0m Trial 57 finished with value: 5.473282464360099 and parameters: {'lambda_l1': 1.8237094993700616e-08, 'lambda_l2': 5.5537439967290503e-08}. Best is trial 53 with value: 5.473282451695133.\u001b[0m\n",
      "regularization_factors, val_score: 5.473282:  75%|7| 15/20 [00:06<00:02,  2.33i"
     ]
    },
    {
     "name": "stdout",
     "output_type": "stream",
     "text": [
      "[300]\ttrain's rmse: 3.79814\teval's rmse: 5.58563\n",
      "Early stopping, best iteration is:\n",
      "[210]\ttrain's rmse: 4.18851\teval's rmse: 5.47328\n",
      "Training until validation scores don't improve for 100 rounds\n",
      "[100]\ttrain's rmse: 5.03268\teval's rmse: 5.76629\n",
      "[200]\ttrain's rmse: 4.24247\teval's rmse: 5.50156\n"
     ]
    },
    {
     "name": "stderr",
     "output_type": "stream",
     "text": [
      "regularization_factors, val_score: 5.473282:  80%|8| 16/20 [00:06<00:01,  2.30i\u001b[32m[I 2021-06-23 11:29:21,003]\u001b[0m Trial 58 finished with value: 5.4732824359675964 and parameters: {'lambda_l1': 3.3728041992734586e-05, 'lambda_l2': 2.784742680936573e-07}. Best is trial 58 with value: 5.4732824359675964.\u001b[0m\n",
      "regularization_factors, val_score: 5.473282:  80%|8| 16/20 [00:06<00:01,  2.30i"
     ]
    },
    {
     "name": "stdout",
     "output_type": "stream",
     "text": [
      "[300]\ttrain's rmse: 3.79814\teval's rmse: 5.58563\n",
      "Early stopping, best iteration is:\n",
      "[210]\ttrain's rmse: 4.18851\teval's rmse: 5.47328\n",
      "Training until validation scores don't improve for 100 rounds\n",
      "[100]\ttrain's rmse: 5.03269\teval's rmse: 5.76629\n",
      "[200]\ttrain's rmse: 4.25377\teval's rmse: 5.50059\n",
      "[300]\ttrain's rmse: 3.80743\teval's rmse: 5.55437\n"
     ]
    },
    {
     "name": "stderr",
     "output_type": "stream",
     "text": [
      "regularization_factors, val_score: 5.467027:  85%|8| 17/20 [00:07<00:01,  2.26i\u001b[32m[I 2021-06-23 11:29:21,468]\u001b[0m Trial 59 finished with value: 5.46702689962372 and parameters: {'lambda_l1': 0.001191557678898301, 'lambda_l2': 3.264418445045712e-07}. Best is trial 59 with value: 5.46702689962372.\u001b[0m\n",
      "regularization_factors, val_score: 5.467027:  85%|8| 17/20 [00:07<00:01,  2.26i"
     ]
    },
    {
     "name": "stdout",
     "output_type": "stream",
     "text": [
      "Early stopping, best iteration is:\n",
      "[217]\ttrain's rmse: 4.15774\teval's rmse: 5.46703\n",
      "Training until validation scores don't improve for 100 rounds\n",
      "[100]\ttrain's rmse: 5.03411\teval's rmse: 5.77515\n",
      "[200]\ttrain's rmse: 4.24823\teval's rmse: 5.58864\n"
     ]
    },
    {
     "name": "stderr",
     "output_type": "stream",
     "text": [
      "regularization_factors, val_score: 5.467027:  90%|9| 18/20 [00:07<00:00,  2.11i\u001b[32m[I 2021-06-23 11:29:22,021]\u001b[0m Trial 60 finished with value: 5.548337822732262 and parameters: {'lambda_l1': 0.0043830514380210905, 'lambda_l2': 9.958664909779549e-07}. Best is trial 59 with value: 5.46702689962372.\u001b[0m\n",
      "regularization_factors, val_score: 5.467027:  90%|9| 18/20 [00:07<00:00,  2.11i"
     ]
    },
    {
     "name": "stdout",
     "output_type": "stream",
     "text": [
      "[300]\ttrain's rmse: 3.82536\teval's rmse: 5.63479\n",
      "Early stopping, best iteration is:\n",
      "[211]\ttrain's rmse: 4.18625\teval's rmse: 5.54834\n",
      "Training until validation scores don't improve for 100 rounds\n",
      "[100]\ttrain's rmse: 5.03409\teval's rmse: 5.77515\n",
      "[200]\ttrain's rmse: 4.25837\teval's rmse: 5.61979\n"
     ]
    },
    {
     "name": "stderr",
     "output_type": "stream",
     "text": [
      "regularization_factors, val_score: 5.467027:  95%|9| 19/20 [00:08<00:00,  1.94i\u001b[32m[I 2021-06-23 11:29:22,627]\u001b[0m Trial 61 finished with value: 5.577875920103409 and parameters: {'lambda_l1': 0.00208836219894161, 'lambda_l2': 3.206973177926205e-05}. Best is trial 59 with value: 5.46702689962372.\u001b[0m\n",
      "regularization_factors, val_score: 5.467027:  95%|9| 19/20 [00:08<00:00,  1.94i"
     ]
    },
    {
     "name": "stdout",
     "output_type": "stream",
     "text": [
      "[300]\ttrain's rmse: 3.82466\teval's rmse: 5.64732\n",
      "Early stopping, best iteration is:\n",
      "[211]\ttrain's rmse: 4.19227\teval's rmse: 5.57788\n",
      "Training until validation scores don't improve for 100 rounds\n",
      "[100]\ttrain's rmse: 5.03268\teval's rmse: 5.76629\n",
      "[200]\ttrain's rmse: 4.25376\teval's rmse: 5.50059\n"
     ]
    },
    {
     "name": "stderr",
     "output_type": "stream",
     "text": [
      "regularization_factors, val_score: 5.467027: 100%|#| 20/20 [00:09<00:00,  1.81i\u001b[32m[I 2021-06-23 11:29:23,265]\u001b[0m Trial 62 finished with value: 5.467027140270337 and parameters: {'lambda_l1': 0.0007058312801724816, 'lambda_l2': 1.3298421114487034e-07}. Best is trial 59 with value: 5.46702689962372.\u001b[0m\n",
      "regularization_factors, val_score: 5.467027: 100%|#| 20/20 [00:09<00:00,  2.20i\n",
      "min_data_in_leaf, val_score: 5.467027:   0%|             | 0/5 [00:00<?, ?it/s]"
     ]
    },
    {
     "name": "stdout",
     "output_type": "stream",
     "text": [
      "[300]\ttrain's rmse: 3.80742\teval's rmse: 5.55437\n",
      "Early stopping, best iteration is:\n",
      "[217]\ttrain's rmse: 4.15773\teval's rmse: 5.46703\n",
      "Training until validation scores don't improve for 100 rounds\n",
      "[100]\ttrain's rmse: 7.08003\teval's rmse: 7.36485\n",
      "[200]\ttrain's rmse: 6.68675\teval's rmse: 7.01036\n",
      "[300]\ttrain's rmse: 6.48633\teval's rmse: 6.92558\n",
      "[400]\ttrain's rmse: 6.30475\teval's rmse: 6.8177\n",
      "[500]\ttrain's rmse: 6.13827\teval's rmse: 6.70596\n",
      "[600]\ttrain's rmse: 6.01283\teval's rmse: 6.6497\n",
      "[700]\ttrain's rmse: 5.89907\teval's rmse: 6.57349\n",
      "[800]\ttrain's rmse: 5.80227\teval's rmse: 6.5291\n",
      "[900]\ttrain's rmse: 5.7091\teval's rmse: 6.48828\n",
      "[1000]\ttrain's rmse: 5.62327\teval's rmse: 6.49425\n",
      "Did not meet early stopping. Best iteration is:\n",
      "[1000]\ttrain's rmse: 5.62327\teval's rmse: 6.49425\n"
     ]
    },
    {
     "name": "stderr",
     "output_type": "stream",
     "text": [
      "min_data_in_leaf, val_score: 5.467027:  20%|#    | 1/5 [00:00<00:02,  1.50it/s]\u001b[32m[I 2021-06-23 11:29:23,942]\u001b[0m Trial 63 finished with value: 6.494247888224199 and parameters: {'min_child_samples': 100}. Best is trial 63 with value: 6.494247888224199.\u001b[0m\n",
      "min_data_in_leaf, val_score: 5.467027:  20%|#    | 1/5 [00:00<00:02,  1.50it/s]"
     ]
    },
    {
     "name": "stdout",
     "output_type": "stream",
     "text": [
      "Training until validation scores don't improve for 100 rounds\n",
      "[100]\ttrain's rmse: 4.35331\teval's rmse: 5.56539\n"
     ]
    },
    {
     "name": "stderr",
     "output_type": "stream",
     "text": [
      "min_data_in_leaf, val_score: 5.467027:  40%|##   | 2/5 [00:01<00:01,  1.77it/s]\u001b[32m[I 2021-06-23 11:29:24,448]\u001b[0m Trial 64 finished with value: 5.475797885246001 and parameters: {'min_child_samples': 5}. Best is trial 64 with value: 5.475797885246001.\u001b[0m\n",
      "min_data_in_leaf, val_score: 5.467027:  40%|##   | 2/5 [00:01<00:01,  1.77it/s]"
     ]
    },
    {
     "name": "stdout",
     "output_type": "stream",
     "text": [
      "[200]\ttrain's rmse: 3.43883\teval's rmse: 5.50779\n",
      "Early stopping, best iteration is:\n",
      "[175]\ttrain's rmse: 3.62145\teval's rmse: 5.4758\n",
      "Training until validation scores don't improve for 100 rounds\n",
      "[100]\ttrain's rmse: 5.32219\teval's rmse: 5.92795\n",
      "[200]\ttrain's rmse: 4.57988\teval's rmse: 5.71511\n",
      "[300]\ttrain's rmse: 4.18569\teval's rmse: 5.69265\n",
      "[400]\ttrain's rmse: 3.86635\teval's rmse: 5.67345\n",
      "Early stopping, best iteration is:\n",
      "[328]\ttrain's rmse: 4.08253\teval's rmse: 5.64374"
     ]
    },
    {
     "name": "stderr",
     "output_type": "stream",
     "text": [
      "min_data_in_leaf, val_score: 5.467027:  60%|###  | 3/5 [00:01<00:01,  1.57it/s]\u001b[32m[I 2021-06-23 11:29:25,156]\u001b[0m Trial 65 finished with value: 5.643739082202638 and parameters: {'min_child_samples': 25}. Best is trial 64 with value: 5.475797885246001.\u001b[0m\n",
      "min_data_in_leaf, val_score: 5.467027:  60%|###  | 3/5 [00:01<00:01,  1.57it/s]"
     ]
    },
    {
     "name": "stdout",
     "output_type": "stream",
     "text": [
      "\n",
      "Training until validation scores don't improve for 100 rounds\n",
      "[100]\ttrain's rmse: 4.5749\teval's rmse: 5.78993\n",
      "[200]\ttrain's rmse: 3.70184\teval's rmse: 5.65328\n"
     ]
    },
    {
     "name": "stderr",
     "output_type": "stream",
     "text": [
      "min_data_in_leaf, val_score: 5.467027:  80%|#### | 4/5 [00:02<00:00,  1.64it/s]\u001b[32m[I 2021-06-23 11:29:25,724]\u001b[0m Trial 66 finished with value: 5.631520626988854 and parameters: {'min_child_samples': 10}. Best is trial 64 with value: 5.475797885246001.\u001b[0m\n",
      "min_data_in_leaf, val_score: 5.467027:  80%|#### | 4/5 [00:02<00:00,  1.64it/s]"
     ]
    },
    {
     "name": "stdout",
     "output_type": "stream",
     "text": [
      "Early stopping, best iteration is:\n",
      "[180]\ttrain's rmse: 3.84878\teval's rmse: 5.63152\n",
      "Training until validation scores don't improve for 100 rounds\n",
      "[100]\ttrain's rmse: 6.12483\teval's rmse: 6.46321\n",
      "[200]\ttrain's rmse: 5.59883\teval's rmse: 6.17724\n",
      "[300]\ttrain's rmse: 5.27841\teval's rmse: 6.15583\n",
      "[400]\ttrain's rmse: 5.03954\teval's rmse: 6.07442\n",
      "[500]\ttrain's rmse: 4.84309\teval's rmse: 6.02541\n",
      "[600]\ttrain's rmse: 4.70071\teval's rmse: 6.03812\n",
      "[700]\ttrain's rmse: 4.5531\teval's rmse: 5.9709\n"
     ]
    },
    {
     "name": "stderr",
     "output_type": "stream",
     "text": [
      "min_data_in_leaf, val_score: 5.467027: 100%|#####| 5/5 [00:03<00:00,  1.52it/s]\u001b[32m[I 2021-06-23 11:29:26,473]\u001b[0m Trial 67 finished with value: 5.942326043223889 and parameters: {'min_child_samples': 50}. Best is trial 64 with value: 5.475797885246001.\u001b[0m\n",
      "min_data_in_leaf, val_score: 5.467027: 100%|#####| 5/5 [00:03<00:00,  1.56it/s]"
     ]
    },
    {
     "name": "stdout",
     "output_type": "stream",
     "text": [
      "Early stopping, best iteration is:\n",
      "[678]\ttrain's rmse: 4.57231\teval's rmse: 5.94233\n",
      "MAE = 4.158574393918498\n",
      "      price_am  price_pm  holiday  year  day     month_cos  month_sin  \\\n",
      "2096       5.0       4.0    False  2016   27  6.123234e-17        1.0   \n",
      "2097       4.0       4.0    False  2016   28  6.123234e-17        1.0   \n",
      "2098       4.0       4.0    False  2016   29  6.123234e-17        1.0   \n",
      "2099       5.0       4.0    False  2016   30  6.123234e-17        1.0   \n",
      "2100       5.0       4.0    False  2016   31  6.123234e-17        1.0   \n",
      "\n",
      "       day_cos       day_sin  weekday_cos  ...  month_8  month_9  weekday_1  \\\n",
      "2096  0.688967 -7.247928e-01          1.0  ...        0        0          0   \n",
      "2097  0.820763 -5.712682e-01          1.0  ...        0        0          0   \n",
      "2098  0.918958 -3.943559e-01          0.5  ...        0        0          1   \n",
      "2099  0.979530 -2.012985e-01         -0.5  ...        0        0          0   \n",
      "2100  1.000000 -2.449294e-16         -1.0  ...        0        0          0   \n",
      "\n",
      "      weekday_2  weekday_3  weekday_4  weekday_5  weekday_6    svc        lgb  \n",
      "2096          0          0          0          0          1   94.0  93.859243  \n",
      "2097          0          0          0          0          0   86.0  91.090284  \n",
      "2098          0          0          0          0          0   98.0  93.925882  \n",
      "2099          1          0          0          0          0   99.0  94.611464  \n",
      "2100          0          1          0          0          0  105.0  93.064276  \n",
      "\n",
      "[5 rows x 36 columns]\n"
     ]
    },
    {
     "name": "stderr",
     "output_type": "stream",
     "text": [
      "\n"
     ]
    }
   ],
   "source": [
    "svc_mae_result = []\n",
    "lgb_mae_result = []\n",
    "for i in range(0,1):\n",
    "    y_svc_pred, y_svc_test_pred,mae_result = SVC_fit(i)\n",
    "    X_train_scaler, X_test_scaler = ScalerFit(X_train, X_test)\n",
    "    svc_mae_result.append(mae_result)\n",
    "    print(X_train.tail())\n",
    "    y_lgb_oof_train, y_lgb_preds, mae_result = lightGBM_fit(i)\n",
    "    X_train_scaler, X_test_scaler = ScalerFit(X_train, X_test)\n",
    "    lgb_mae_result.append(mae_result)\n",
    "    print(X_train.tail())"
   ]
  },
  {
   "cell_type": "code",
   "execution_count": 37,
   "id": "001aa730",
   "metadata": {},
   "outputs": [
    {
     "name": "stdout",
     "output_type": "stream",
     "text": [
      "[3.561161351737268]\n",
      "[4.158574393918498]\n"
     ]
    }
   ],
   "source": [
    "print(svc_mae_result)\n",
    "print(lgb_mae_result)"
   ]
  },
  {
   "cell_type": "code",
   "execution_count": 38,
   "id": "982d748b",
   "metadata": {},
   "outputs": [],
   "source": [
    "X_train['pred'] = y_svc_pred\n",
    "X_test['pred'] = y_svc_test_pred\n",
    "# データセットの標準化\n",
    "scaler.fit(X_train)\n",
    "scaler.fit(X_test)\n",
    "X_train_scaler = scaler.transform(X_train)\n",
    "X_test_scaler  = scaler.transform(X_test)"
   ]
  },
  {
   "cell_type": "code",
   "execution_count": 39,
   "id": "5999828f",
   "metadata": {},
   "outputs": [
    {
     "name": "stdout",
     "output_type": "stream",
     "text": [
      "{'alpha': 1e-06}\n",
      "R^2 = 0.8950820855731456\n",
      "MAE = 4.023915355731786\n"
     ]
    }
   ],
   "source": [
    "params_grid = {\n",
    "    'alpha': 10 ** np.arange(-6, 1, 0.1)\n",
    "}\n",
    "# パラメータチューニング\n",
    "clf = GridSearchCV(\n",
    "    estimator = Ridge(),\n",
    "    param_grid = params_grid,\n",
    "    cv = 5,\n",
    "    scoring='r2',\n",
    "    n_jobs = -1\n",
    "    )\n",
    "# 線形モデルの重みを学習\n",
    "clf.fit(X_train_scaler, y_train) \n",
    "\n",
    "# チューニングしたモデル\n",
    "best_param = clf.best_params_\n",
    "ridge_tuned = clf.best_estimator_\n",
    "\n",
    "# 予測値を反映\n",
    "y_ridge_pred = ridge_tuned.predict(X_train_scaler) # Trainデータに対して予測\n",
    "y_ridge_test_pred = ridge_tuned.predict(X_test_scaler) # Testデータに対して予測\n",
    "\n",
    "#print(\"α = {}\".format(clf.alpha_))\n",
    "#print(\"ω = {}\".format(clf.coef_))\n",
    "#print(\"b = {}\".format(clf.intercept_))\n",
    "print(best_param)\n",
    "print(\"R^2 = {}\".format(clf.score(X_train_scaler, y_train)))\n",
    "print(\"MAE = {}\".format(mean_absolute_error(y_train, y_ridge_pred)))"
   ]
  },
  {
   "cell_type": "code",
   "execution_count": 40,
   "id": "400647af",
   "metadata": {},
   "outputs": [],
   "source": [
    "#X_train['pred'] = y_ridge_pred\n",
    "#X_test['pred'] = y_ridge_test_pred\n",
    "## データセットの標準化\n",
    "#scaler.fit(X_train)\n",
    "#scaler.fit(X_test)\n",
    "#X_train_scaler = scaler.transform(X_train)\n",
    "#X_test_scaler  = scaler.transform(X_test)"
   ]
  },
  {
   "cell_type": "code",
   "execution_count": 41,
   "id": "1a838e65",
   "metadata": {},
   "outputs": [
    {
     "data": {
      "text/plain": [
       "([16.88157199252941,\n",
       "  16.53389945222355,\n",
       "  15.98691893078658,\n",
       "  15.359167560447407,\n",
       "  14.756414014203425],\n",
       " [16.255571687384062,\n",
       "  15.932543865640998,\n",
       "  15.429985681235314,\n",
       "  14.811426936231268,\n",
       "  14.217890263763667])"
      ]
     },
     "execution_count": 41,
     "metadata": {},
     "output_type": "execute_result"
    }
   ],
   "source": [
    "train_metric = evals_result['train']['rmse']\n",
    "eval_metric = evals_result['eval']['rmse']\n",
    "train_metric[:5], eval_metric[:5]"
   ]
  },
  {
   "cell_type": "code",
   "execution_count": 42,
   "id": "5290973d",
   "metadata": {},
   "outputs": [
    {
     "data": {
      "image/png": "[encoded data removed]",
      "text/plain": [
       "<Figure size 432x288 with 1 Axes>"
      ]
     },
     "metadata": {
      "needs_background": "light"
     },
     "output_type": "display_data"
    }
   ],
   "source": [
    "plt.plot(train_metric, label='train rmse')\n",
    "plt.plot(eval_metric, label='eval rmse')\n",
    "plt.grid()\n",
    "plt.legend()\n",
    "plt.ylim(0, 10)\n",
    "\n",
    "plt.xlabel('rounds')\n",
    "plt.ylabel('rmse')\n",
    "plt.grid(True)\n",
    "plt.show()"
   ]
  },
  {
   "cell_type": "code",
   "execution_count": 43,
   "id": "652a3707",
   "metadata": {},
   "outputs": [],
   "source": [
    "y_total_pred = y_lasso_pred*0.0 + y_ridge_pred*0.0 + y_svc_pred*0.0 + y_lgb_oof_train*1.0"
   ]
  },
  {
   "cell_type": "code",
   "execution_count": 44,
   "id": "a0c4f1b3",
   "metadata": {},
   "outputs": [
    {
     "data": {
      "image/png": "[encoded data removed]",
      "text/plain": [
       "<Figure size 432x288 with 1 Axes>"
      ]
     },
     "metadata": {
      "needs_background": "light"
     },
     "output_type": "display_data"
    }
   ],
   "source": [
    "#plt.scatter(y_train, y_lasso_pred)\n",
    "#plt.scatter(y_train, y_ridge_pred)\n",
    "plt.scatter(y_train, y_svc_pred)\n",
    "plt.scatter(y_train, y_lgb_oof_train)\n",
    "plt.scatter(y_train, y_total_pred)\n",
    "\n",
    "\n",
    "\n",
    "plt.title(\"Prediction vs Valid data for SalePrice\")\n",
    "plt.xlabel(\"Prediction\")\n",
    "plt.ylabel(\"Expected value\")\n",
    "# Fitting line\n",
    "x = np.arange(0, max(y_train))\n",
    "y = x\n",
    "plt.plot(x,y,color='red')\n",
    "\n",
    "# MAE\n",
    "result_mae = mean_absolute_error(y_train, y_total_pred)\n",
    "#result_mae = mean_absolute_error(y_train, y_lgb_oof_train)\n",
    "#result_rmsle = rmsle(y_train.values, y_lgb_oof_train)\n",
    "\n",
    "plt.text(1, max(y_train), 'MAE = {}'.format(result_mae))\n",
    "\n",
    "# Grid on\n",
    "plt.grid(True)"
   ]
  },
  {
   "cell_type": "code",
   "execution_count": 45,
   "id": "693dfd0c",
   "metadata": {},
   "outputs": [],
   "source": [
    "# Average of Prediction data (LightGBM)\n",
    "y_lgb_test_pred = sum(y_lgb_preds)/len(y_lgb_preds)"
   ]
  },
  {
   "cell_type": "code",
   "execution_count": 46,
   "id": "e3d59727",
   "metadata": {},
   "outputs": [],
   "source": [
    "submit_sample[1] = y_lgb_test_pred\n",
    "submit_sample.to_csv('submit.csv',index = False,  header=None)"
   ]
  },
  {
   "cell_type": "code",
   "execution_count": 47,
   "id": "c45c7a2b",
   "metadata": {},
   "outputs": [
    {
     "data": {
      "text/html": [
       "<div>\n",
       "<style scoped>\n",
       "    .dataframe tbody tr th:only-of-type {\n",
       "        vertical-align: middle;\n",
       "    }\n",
       "\n",
       "    .dataframe tbody tr th {\n",
       "        vertical-align: top;\n",
       "    }\n",
       "\n",
       "    .dataframe thead th {\n",
       "        text-align: right;\n",
       "    }\n",
       "</style>\n",
       "<table border=\"1\" class=\"dataframe\">\n",
       "  <thead>\n",
       "    <tr style=\"text-align: right;\">\n",
       "      <th></th>\n",
       "      <th>0</th>\n",
       "      <th>1</th>\n",
       "    </tr>\n",
       "  </thead>\n",
       "  <tbody>\n",
       "    <tr>\n",
       "      <th>0</th>\n",
       "      <td>2016-04-01</td>\n",
       "      <td>78.299325</td>\n",
       "    </tr>\n",
       "    <tr>\n",
       "      <th>1</th>\n",
       "      <td>2016-04-02</td>\n",
       "      <td>62.715096</td>\n",
       "    </tr>\n",
       "    <tr>\n",
       "      <th>2</th>\n",
       "      <td>2016-04-03</td>\n",
       "      <td>64.132339</td>\n",
       "    </tr>\n",
       "    <tr>\n",
       "      <th>3</th>\n",
       "      <td>2016-04-04</td>\n",
       "      <td>63.671676</td>\n",
       "    </tr>\n",
       "    <tr>\n",
       "      <th>4</th>\n",
       "      <td>2016-04-05</td>\n",
       "      <td>56.554187</td>\n",
       "    </tr>\n",
       "  </tbody>\n",
       "</table>\n",
       "</div>"
      ],
      "text/plain": [
       "            0          1\n",
       "0  2016-04-01  78.299325\n",
       "1  2016-04-02  62.715096\n",
       "2  2016-04-03  64.132339\n",
       "3  2016-04-04  63.671676\n",
       "4  2016-04-05  56.554187"
      ]
     },
     "execution_count": 47,
     "metadata": {},
     "output_type": "execute_result"
    }
   ],
   "source": [
    "submit_sample.head()"
   ]
  },
  {
   "cell_type": "code",
   "execution_count": null,
   "id": "096d5a1d",
   "metadata": {},
   "outputs": [],
   "source": []
  }
 ],
 "metadata": {
  "kernelspec": {
   "display_name": "Python 3",
   "language": "python",
   "name": "python3"
  },
  "language_info": {
   "codemirror_mode": {
    "name": "ipython",
    "version": 3
   },
   "file_extension": ".py",
   "mimetype": "text/x-python",
   "name": "python",
   "nbconvert_exporter": "python",
   "pygments_lexer": "ipython3",
   "version": "3.8.8"
  }
 },
 "nbformat": 4,
 "nbformat_minor": 5
}
