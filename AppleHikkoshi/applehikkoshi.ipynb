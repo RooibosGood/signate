{
 "cells": [
  {
   "cell_type": "code",
   "execution_count": 1,
   "id": "ed133a50",
   "metadata": {},
   "outputs": [],
   "source": [
    "import numpy as np # linear algebra\n",
    "import pandas as pd # data processing, CSV file I/O (e.g. pd.read_csv)\n",
    "import datetime as dt\n",
    "import jpholiday\n",
    "import seaborn as sns\n",
    "import matplotlib.pyplot as plt\n",
    "import seaborn as sns\n",
    "from scipy.stats import norm\n",
    "import statsmodels.api as sm\n",
    "import scipy.stats as stats\n",
    "from sklearn.metrics import mean_absolute_error"
   ]
  },
  {
   "cell_type": "code",
   "execution_count": 2,
   "id": "90aaf563",
   "metadata": {
    "scrolled": false
   },
   "outputs": [
    {
     "name": "stdout",
     "output_type": "stream",
     "text": [
      "<class 'pandas.core.frame.DataFrame'>\n",
      "Int64Index: 2466 entries, 0 to 364\n",
      "Data columns (total 6 columns):\n",
      " #   Column    Non-Null Count  Dtype         \n",
      "---  ------    --------------  -----         \n",
      " 0   datetime  2466 non-null   datetime64[ns]\n",
      " 1   y         2101 non-null   float64       \n",
      " 2   client    2466 non-null   int64         \n",
      " 3   close     2466 non-null   int64         \n",
      " 4   price_am  2466 non-null   int64         \n",
      " 5   price_pm  2466 non-null   int64         \n",
      "dtypes: datetime64[ns](1), float64(1), int64(4)\n",
      "memory usage: 134.9 KB\n"
     ]
    },
    {
     "data": {
      "text/html": [
       "<div>\n",
       "<style scoped>\n",
       "    .dataframe tbody tr th:only-of-type {\n",
       "        vertical-align: middle;\n",
       "    }\n",
       "\n",
       "    .dataframe tbody tr th {\n",
       "        vertical-align: top;\n",
       "    }\n",
       "\n",
       "    .dataframe thead th {\n",
       "        text-align: right;\n",
       "    }\n",
       "</style>\n",
       "<table border=\"1\" class=\"dataframe\">\n",
       "  <thead>\n",
       "    <tr style=\"text-align: right;\">\n",
       "      <th></th>\n",
       "      <th>datetime</th>\n",
       "      <th>y</th>\n",
       "      <th>client</th>\n",
       "      <th>close</th>\n",
       "      <th>price_am</th>\n",
       "      <th>price_pm</th>\n",
       "    </tr>\n",
       "  </thead>\n",
       "  <tbody>\n",
       "    <tr>\n",
       "      <th>0</th>\n",
       "      <td>2010-07-01</td>\n",
       "      <td>17.0</td>\n",
       "      <td>0</td>\n",
       "      <td>0</td>\n",
       "      <td>-1</td>\n",
       "      <td>-1</td>\n",
       "    </tr>\n",
       "    <tr>\n",
       "      <th>1</th>\n",
       "      <td>2010-07-02</td>\n",
       "      <td>18.0</td>\n",
       "      <td>0</td>\n",
       "      <td>0</td>\n",
       "      <td>-1</td>\n",
       "      <td>-1</td>\n",
       "    </tr>\n",
       "    <tr>\n",
       "      <th>2</th>\n",
       "      <td>2010-07-03</td>\n",
       "      <td>20.0</td>\n",
       "      <td>0</td>\n",
       "      <td>0</td>\n",
       "      <td>-1</td>\n",
       "      <td>-1</td>\n",
       "    </tr>\n",
       "    <tr>\n",
       "      <th>3</th>\n",
       "      <td>2010-07-04</td>\n",
       "      <td>20.0</td>\n",
       "      <td>0</td>\n",
       "      <td>0</td>\n",
       "      <td>-1</td>\n",
       "      <td>-1</td>\n",
       "    </tr>\n",
       "    <tr>\n",
       "      <th>4</th>\n",
       "      <td>2010-07-05</td>\n",
       "      <td>14.0</td>\n",
       "      <td>0</td>\n",
       "      <td>0</td>\n",
       "      <td>-1</td>\n",
       "      <td>-1</td>\n",
       "    </tr>\n",
       "    <tr>\n",
       "      <th>5</th>\n",
       "      <td>2010-07-06</td>\n",
       "      <td>14.0</td>\n",
       "      <td>0</td>\n",
       "      <td>0</td>\n",
       "      <td>-1</td>\n",
       "      <td>-1</td>\n",
       "    </tr>\n",
       "    <tr>\n",
       "      <th>6</th>\n",
       "      <td>2010-07-07</td>\n",
       "      <td>4.0</td>\n",
       "      <td>0</td>\n",
       "      <td>0</td>\n",
       "      <td>-1</td>\n",
       "      <td>-1</td>\n",
       "    </tr>\n",
       "    <tr>\n",
       "      <th>7</th>\n",
       "      <td>2010-07-08</td>\n",
       "      <td>10.0</td>\n",
       "      <td>0</td>\n",
       "      <td>0</td>\n",
       "      <td>-1</td>\n",
       "      <td>-1</td>\n",
       "    </tr>\n",
       "    <tr>\n",
       "      <th>8</th>\n",
       "      <td>2010-07-09</td>\n",
       "      <td>12.0</td>\n",
       "      <td>0</td>\n",
       "      <td>0</td>\n",
       "      <td>-1</td>\n",
       "      <td>-1</td>\n",
       "    </tr>\n",
       "    <tr>\n",
       "      <th>9</th>\n",
       "      <td>2010-07-10</td>\n",
       "      <td>21.0</td>\n",
       "      <td>0</td>\n",
       "      <td>0</td>\n",
       "      <td>-1</td>\n",
       "      <td>-1</td>\n",
       "    </tr>\n",
       "  </tbody>\n",
       "</table>\n",
       "</div>"
      ],
      "text/plain": [
       "    datetime     y  client  close  price_am  price_pm\n",
       "0 2010-07-01  17.0       0      0        -1        -1\n",
       "1 2010-07-02  18.0       0      0        -1        -1\n",
       "2 2010-07-03  20.0       0      0        -1        -1\n",
       "3 2010-07-04  20.0       0      0        -1        -1\n",
       "4 2010-07-05  14.0       0      0        -1        -1\n",
       "5 2010-07-06  14.0       0      0        -1        -1\n",
       "6 2010-07-07   4.0       0      0        -1        -1\n",
       "7 2010-07-08  10.0       0      0        -1        -1\n",
       "8 2010-07-09  12.0       0      0        -1        -1\n",
       "9 2010-07-10  21.0       0      0        -1        -1"
      ]
     },
     "execution_count": 2,
     "metadata": {},
     "output_type": "execute_result"
    }
   ],
   "source": [
    "train=pd.read_csv(\"./train.csv\", parse_dates=[0]) # 日付をdatetime型で取得\n",
    "test=pd.read_csv(\"./test.csv\", parse_dates=[0])\n",
    "submit_sample=pd.read_csv(\"./sample_submit.csv\", header=None)\n",
    "\n",
    "df = pd.concat([train, test], sort=False)\n",
    "df.info()\n",
    "df.head(10)"
   ]
  },
  {
   "cell_type": "markdown",
   "id": "9937d10b",
   "metadata": {},
   "source": [
    "### 日本の休日"
   ]
  },
  {
   "cell_type": "code",
   "execution_count": 3,
   "id": "9a1c35d3",
   "metadata": {},
   "outputs": [
    {
     "data": {
      "text/plain": [
       "False    2353\n",
       "True      113\n",
       "Name: holiday, dtype: int64"
      ]
     },
     "execution_count": 3,
     "metadata": {},
     "output_type": "execute_result"
    }
   ],
   "source": [
    "i = 0\n",
    "df['holiday'] = np.zeros((len(df),))\n",
    "jpholiday_list =[]\n",
    "for date in df['datetime'].dt.date:\n",
    "    DateJ = dt.date(date.year,date.month,date.day)\n",
    "    jpholiday_list.append(jpholiday.is_holiday(DateJ))\n",
    "    i += 1\n",
    "\n",
    "df['holiday'] = jpholiday_list    \n",
    "df['holiday'].value_counts()"
   ]
  },
  {
   "cell_type": "code",
   "execution_count": 4,
   "id": "46b5d537",
   "metadata": {
    "scrolled": true
   },
   "outputs": [
    {
     "data": {
      "text/html": [
       "<div>\n",
       "<style scoped>\n",
       "    .dataframe tbody tr th:only-of-type {\n",
       "        vertical-align: middle;\n",
       "    }\n",
       "\n",
       "    .dataframe tbody tr th {\n",
       "        vertical-align: top;\n",
       "    }\n",
       "\n",
       "    .dataframe thead th {\n",
       "        text-align: right;\n",
       "    }\n",
       "</style>\n",
       "<table border=\"1\" class=\"dataframe\">\n",
       "  <thead>\n",
       "    <tr style=\"text-align: right;\">\n",
       "      <th></th>\n",
       "      <th>datetime</th>\n",
       "      <th>y</th>\n",
       "      <th>client</th>\n",
       "      <th>close</th>\n",
       "      <th>price_am</th>\n",
       "      <th>price_pm</th>\n",
       "      <th>holiday</th>\n",
       "    </tr>\n",
       "  </thead>\n",
       "  <tbody>\n",
       "    <tr>\n",
       "      <th>0</th>\n",
       "      <td>2010-07-01</td>\n",
       "      <td>17.0</td>\n",
       "      <td>0</td>\n",
       "      <td>0</td>\n",
       "      <td>NaN</td>\n",
       "      <td>NaN</td>\n",
       "      <td>False</td>\n",
       "    </tr>\n",
       "    <tr>\n",
       "      <th>1</th>\n",
       "      <td>2010-07-02</td>\n",
       "      <td>18.0</td>\n",
       "      <td>0</td>\n",
       "      <td>0</td>\n",
       "      <td>NaN</td>\n",
       "      <td>NaN</td>\n",
       "      <td>False</td>\n",
       "    </tr>\n",
       "    <tr>\n",
       "      <th>2</th>\n",
       "      <td>2010-07-03</td>\n",
       "      <td>20.0</td>\n",
       "      <td>0</td>\n",
       "      <td>0</td>\n",
       "      <td>NaN</td>\n",
       "      <td>NaN</td>\n",
       "      <td>False</td>\n",
       "    </tr>\n",
       "    <tr>\n",
       "      <th>3</th>\n",
       "      <td>2010-07-04</td>\n",
       "      <td>20.0</td>\n",
       "      <td>0</td>\n",
       "      <td>0</td>\n",
       "      <td>NaN</td>\n",
       "      <td>NaN</td>\n",
       "      <td>False</td>\n",
       "    </tr>\n",
       "    <tr>\n",
       "      <th>4</th>\n",
       "      <td>2010-07-05</td>\n",
       "      <td>14.0</td>\n",
       "      <td>0</td>\n",
       "      <td>0</td>\n",
       "      <td>NaN</td>\n",
       "      <td>NaN</td>\n",
       "      <td>False</td>\n",
       "    </tr>\n",
       "  </tbody>\n",
       "</table>\n",
       "</div>"
      ],
      "text/plain": [
       "    datetime     y  client  close  price_am  price_pm  holiday\n",
       "0 2010-07-01  17.0       0      0       NaN       NaN    False\n",
       "1 2010-07-02  18.0       0      0       NaN       NaN    False\n",
       "2 2010-07-03  20.0       0      0       NaN       NaN    False\n",
       "3 2010-07-04  20.0       0      0       NaN       NaN    False\n",
       "4 2010-07-05  14.0       0      0       NaN       NaN    False"
      ]
     },
     "execution_count": 4,
     "metadata": {},
     "output_type": "execute_result"
    }
   ],
   "source": [
    "df.loc[df['price_am'] == -1, 'price_am'] = np.nan\n",
    "df.loc[df['price_pm'] == -1, 'price_pm'] = np.nan\n",
    "df.loc[df['close'] == 1, 'price_am'] = 0\n",
    "df.loc[df['close'] == 1, 'price_pm'] = 0\n",
    "df.head()"
   ]
  },
  {
   "cell_type": "code",
   "execution_count": 5,
   "id": "47bf5de8",
   "metadata": {},
   "outputs": [],
   "source": [
    "### datimeをdatetime64[ns]型に変更。"
   ]
  },
  {
   "cell_type": "code",
   "execution_count": 6,
   "id": "2e65607d",
   "metadata": {},
   "outputs": [],
   "source": [
    "#df['datetime'] = df.datetime.map(dt.datetime.timestamp)\n",
    "#df['datetime'] = df['datetime'].dt.to_pydatetime()\n",
    "df['year'] = df['datetime'].dt.year\n",
    "df['month'] = df['datetime'].dt.month\n",
    "df['day'] = df['datetime'].dt.day\n",
    "df['weekday'] = df['datetime'].dt.weekday"
   ]
  },
  {
   "cell_type": "code",
   "execution_count": 7,
   "id": "fbd34cf7",
   "metadata": {},
   "outputs": [],
   "source": [
    "#df.info()\n",
    "#df['epoch'] = df['datetime'].map(pd.Timestamp.timestamp) # TimeStamp型に変更\n",
    "#display(df['epoch'])"
   ]
  },
  {
   "cell_type": "code",
   "execution_count": 8,
   "id": "9fb8dc3e",
   "metadata": {},
   "outputs": [],
   "source": [
    "#df=df.drop(['datetime','year'], axis=1)\n",
    "df=df.drop(['datetime'], axis=1)"
   ]
  },
  {
   "cell_type": "markdown",
   "id": "aec2f043",
   "metadata": {},
   "source": [
    "### Fill na"
   ]
  },
  {
   "cell_type": "code",
   "execution_count": 9,
   "id": "f3bd6e92",
   "metadata": {},
   "outputs": [],
   "source": [
    "df['price_am'] = df.groupby(['month', 'weekday'])['price_am'].transform(lambda x: x.fillna(x.mean()))\n",
    "df['price_pm'] = df.groupby(['month', 'weekday'])['price_pm'].transform(lambda x: x.fillna(x.mean()))"
   ]
  },
  {
   "cell_type": "markdown",
   "id": "fb7d7109",
   "metadata": {},
   "source": [
    "### New features"
   ]
  },
  {
   "cell_type": "code",
   "execution_count": 10,
   "id": "a8df3091",
   "metadata": {},
   "outputs": [],
   "source": [
    "df['price'] = (df['price_am'] + df['price_pm'])/2\n",
    "df['price_times'] = df['price_am'] * df['price_pm']"
   ]
  },
  {
   "cell_type": "code",
   "execution_count": 11,
   "id": "b9416d49",
   "metadata": {},
   "outputs": [
    {
     "name": "stdout",
     "output_type": "stream",
     "text": [
      "<class 'pandas.core.frame.DataFrame'>\n",
      "Int64Index: 2466 entries, 0 to 364\n",
      "Data columns (total 12 columns):\n",
      " #   Column       Non-Null Count  Dtype  \n",
      "---  ------       --------------  -----  \n",
      " 0   y            2101 non-null   float64\n",
      " 1   client       2466 non-null   int64  \n",
      " 2   close        2466 non-null   int64  \n",
      " 3   price_am     2466 non-null   float64\n",
      " 4   price_pm     2466 non-null   float64\n",
      " 5   holiday      2466 non-null   bool   \n",
      " 6   year         2466 non-null   int64  \n",
      " 7   month        2466 non-null   int64  \n",
      " 8   day          2466 non-null   int64  \n",
      " 9   weekday      2466 non-null   int64  \n",
      " 10  price        2466 non-null   float64\n",
      " 11  price_times  2466 non-null   float64\n",
      "dtypes: bool(1), float64(5), int64(6)\n",
      "memory usage: 233.6 KB\n"
     ]
    }
   ],
   "source": [
    "df.info()"
   ]
  },
  {
   "cell_type": "code",
   "execution_count": 12,
   "id": "95485b72",
   "metadata": {},
   "outputs": [],
   "source": [
    "df['client'] = df['client'].astype(str)\n",
    "df['close'] = df['close'].astype(str)\n",
    "df['month'] = df['month'].astype(str)\n",
    "df['weekday'] = df['weekday'].astype(str)\n",
    "df['day'] = df['day'].astype(str)"
   ]
  },
  {
   "cell_type": "code",
   "execution_count": 13,
   "id": "fd1bb85c",
   "metadata": {},
   "outputs": [
    {
     "name": "stdout",
     "output_type": "stream",
     "text": [
      "               price_am  price_pm          y\n",
      "month weekday                               \n",
      "1     0        0.129032  0.000000  23.423077\n",
      "      1        0.096774  0.064516  21.846154\n",
      "      2        0.033333  0.000000  22.692308\n",
      "      3        0.161290  0.096774  21.296296\n",
      "      4        0.258065  0.161290  27.444444\n",
      "      5        0.806452  0.419355  36.296296\n",
      "      6        0.375000  0.218750  32.666667\n",
      "10    0        0.518519  0.192308  28.538462\n",
      "      1        0.192308  0.076923  25.769231\n",
      "      2        0.185185  0.074074  28.148148\n",
      "      3        0.222222  0.148148  29.481481\n",
      "      4        0.500000  0.269231  32.222222\n",
      "      5        1.629630  1.111111  39.000000\n",
      "      6        1.346154  0.730769  35.269231\n",
      "11    0        0.120000  0.040000  28.576923\n",
      "      1        0.153846  0.076923  24.000000\n",
      "      2        0.153846  0.076923  24.280000\n",
      "      3        0.160000  0.080000  26.120000\n",
      "      4        0.423077  0.269231  32.269231\n",
      "      5        1.423077  1.000000  38.884615\n",
      "      6        0.807692  0.538462  33.076923\n",
      "12    0        0.370370  0.259259  33.888889\n",
      "      1        0.333333  0.148148  28.962963\n",
      "      2        0.038462  0.000000  29.370370\n",
      "      3        0.259259  0.111111  27.740741\n",
      "      4        0.666667  0.518519  31.538462\n",
      "      5        1.481481  1.148148  38.653846\n",
      "      6        1.192308  0.807692  37.923077\n",
      "2     0        0.586207  0.344828  40.160000\n",
      "      1        0.357143  0.178571  34.083333\n",
      "      2        0.379310  0.206897  34.440000\n",
      "      3        0.357143  0.142857  34.041667\n",
      "      4        0.821429  0.500000  39.083333\n",
      "      5        2.071429  1.535714  46.416667\n",
      "      6        1.392857  0.892857  43.000000\n",
      "3     0        1.933333  1.666667  58.576923\n",
      "      1        2.000000  1.580645  59.185185\n",
      "      2        1.838710  1.709677  56.500000\n",
      "      3        2.031250  1.656250  56.814815\n",
      "      4        2.096774  2.032258  58.038462\n",
      "      5        3.096774  2.741935  59.407407\n",
      "      6        2.677419  2.258065  57.481481\n",
      "4     0        0.730769  0.538462  39.954545\n",
      "      1        0.692308  0.461538  36.863636\n",
      "      2        0.615385  0.384615  36.909091\n",
      "      3        0.400000  0.280000  36.095238\n",
      "      4        1.076923  0.730769  41.047619\n",
      "      5        2.923077  2.423077  46.523810\n",
      "      6        2.120000  1.480000  45.190476\n",
      "5     0        0.307692  0.076923  28.857143\n",
      "      1        0.222222  0.074074  25.409091\n",
      "      2        0.192308  0.076923  25.909091\n",
      "      3        0.259259  0.111111  27.608696\n",
      "      4        0.629630  0.407407  31.347826\n",
      "      5        1.423077  0.961538  36.954545\n",
      "      6        0.962963  0.481481  31.863636\n",
      "6     0        0.230769  0.115385  30.909091\n",
      "      1        0.120000  0.040000  25.761905\n",
      "      2        0.153846  0.038462  21.952381\n",
      "      3        0.230769  0.153846  26.380952\n",
      "      4        0.480000  0.280000  30.666667\n",
      "      5        1.423077  1.153846  45.000000\n",
      "      6        1.115385  0.461538  38.636364\n",
      "7     0        0.346154  0.192308  29.423077\n",
      "      1        0.333333  0.148148  27.333333\n",
      "      2        0.259259  0.111111  25.814815\n",
      "      3        0.192308  0.076923  24.629630\n",
      "      4        0.692308  0.423077  27.814815\n",
      "      5        1.807692  1.192308  36.500000\n",
      "      6        1.407407  0.925926  35.230769\n",
      "8     0        0.148148  0.037037  29.481481\n",
      "      1        0.076923  0.038462  25.076923\n",
      "      2        0.074074  0.074074  23.730769\n",
      "      3        0.153846  0.038462  28.346154\n",
      "      4        0.370370  0.185185  31.111111\n",
      "      5        1.148148  0.851852  35.851852\n",
      "      6        0.730769  0.384615  31.296296\n",
      "9     0        0.538462  0.269231  34.076923\n",
      "      1        0.346154  0.192308  30.807692\n",
      "      2        0.200000  0.120000  27.500000\n",
      "      3        0.307692  0.115385  27.807692\n",
      "      4        0.576923  0.384615  30.320000\n",
      "      5        1.800000  1.200000  36.920000\n",
      "      6        1.500000  1.115385  38.807692\n",
      "      price_am  price_pm          y\n",
      "year                               \n",
      "2010  0.592135  0.368155  16.298913\n",
      "2011  0.779979  0.541412  18.991781\n",
      "2012  0.718579  0.497268  30.500000\n",
      "2013  0.728767  0.473973  40.320548\n",
      "2014  0.835616  0.580822  39.665753\n",
      "2015  0.769863  0.498630  44.597260\n",
      "2016  0.789617  0.573770  55.714286\n",
      "2017  1.211111  1.066667        NaN\n"
     ]
    },
    {
     "name": "stderr",
     "output_type": "stream",
     "text": [
      "<ipython-input-13-ab1e28b0b82f>:2: FutureWarning: Indexing with multiple keys (implicitly converted to a tuple of keys) will be deprecated, use a list instead.\n",
      "  print(df.groupby(['month', 'weekday'])['price_am','price_pm','y'].mean())\n",
      "<ipython-input-13-ab1e28b0b82f>:3: FutureWarning: Indexing with multiple keys (implicitly converted to a tuple of keys) will be deprecated, use a list instead.\n",
      "  print(df.groupby(['year'])['price_am','price_pm','y'].mean())\n"
     ]
    }
   ],
   "source": [
    "pd.set_option('display.max_rows', None)\n",
    "print(df.groupby(['month', 'weekday'])['price_am','price_pm','y'].mean())\n",
    "print(df.groupby(['year'])['price_am','price_pm','y'].mean())"
   ]
  },
  {
   "cell_type": "code",
   "execution_count": 14,
   "id": "fb8cd5ec",
   "metadata": {},
   "outputs": [
    {
     "name": "stdout",
     "output_type": "stream",
     "text": [
      "CategoricaL:\n",
      "['client', 'close', 'month', 'day', 'weekday']\n",
      "\n",
      "NumericaL:\n",
      "['y', 'price_am', 'price_pm', 'holiday', 'year', 'price', 'price_times']\n"
     ]
    }
   ],
   "source": [
    "#divide dataset into two parts(categorical, contineous)\n",
    "categorical, numerical = [],[]\n",
    "for z in df.columns:\n",
    "    t = df.dtypes[z]\n",
    "    if t=='object':\n",
    "        categorical.append(z)\n",
    "    else:\n",
    "        numerical.append(z)\n",
    "print(\"CategoricaL:\\n{}\".format(categorical))\n",
    "print(\"\\nNumericaL:\\n{}\".format(numerical))"
   ]
  },
  {
   "cell_type": "markdown",
   "id": "e42b0f4f",
   "metadata": {},
   "source": [
    "### Pandas Profining"
   ]
  },
  {
   "cell_type": "code",
   "execution_count": 15,
   "id": "9a53ae89",
   "metadata": {},
   "outputs": [],
   "source": [
    "#import pandas_profiling\n",
    "\n",
    "#df.profile_report()"
   ]
  },
  {
   "cell_type": "markdown",
   "id": "d3e90125",
   "metadata": {},
   "source": [
    "### Heat map for Correlation coefficient"
   ]
  },
  {
   "cell_type": "code",
   "execution_count": 16,
   "id": "190c7b43",
   "metadata": {},
   "outputs": [
    {
     "data": {
      "text/plain": [
       "<AxesSubplot:>"
      ]
     },
     "execution_count": 16,
     "metadata": {},
     "output_type": "execute_result"
    },
    {
     "data": {
      "image/png": "[encoded data removed]",
      "text/plain": [
       "<Figure size 1080x1080 with 2 Axes>"
      ]
     },
     "metadata": {
      "needs_background": "light"
     },
     "output_type": "display_data"
    }
   ],
   "source": [
    "df_corr = df.corr()\n",
    "plt.figure(figsize=(15, 15)) \n",
    "sns.heatmap(df_corr, vmax=1, vmin=-1, center=0, square=True, annot=True)"
   ]
  },
  {
   "cell_type": "markdown",
   "id": "2a9bb8be",
   "metadata": {},
   "source": [
    "### Histogram"
   ]
  },
  {
   "cell_type": "code",
   "execution_count": 17,
   "id": "a25fb876",
   "metadata": {},
   "outputs": [
    {
     "name": "stderr",
     "output_type": "stream",
     "text": [
      "C:\\Anaconda\\lib\\site-packages\\seaborn\\distributions.py:2557: FutureWarning: `distplot` is a deprecated function and will be removed in a future version. Please adapt your code to use either `displot` (a figure-level function with similar flexibility) or `histplot` (an axes-level function for histograms).\n",
      "  warnings.warn(msg, FutureWarning)\n",
      "No handles with labels found to put in legend.\n"
     ]
    },
    {
     "data": {
      "image/png": "[encoded data removed]",
      "text/plain": [
       "<Figure size 1080x360 with 2 Axes>"
      ]
     },
     "metadata": {
      "needs_background": "light"
     },
     "output_type": "display_data"
    }
   ],
   "source": [
    "fig, ax = plt.subplots(1,2, figsize= (15,5))\n",
    "# Histogram\n",
    "sns.distplot(\n",
    "    train['y'], label='y',\n",
    "    kde_kws={'label': 'kde','color':'k'},\n",
    "    fit=norm,fit_kws={'label': 'norm','color':'red'},\n",
    "    ax = ax[0]\n",
    ")\n",
    "ax[0].set_title(\"Histogram\")\n",
    "ax[0].grid(True)\n",
    "\n",
    "# QQplot\n",
    "sm.qqplot(train['y'], stats.t, distargs=(4,),fit=True, line=\"45\", ax = ax[1])\n",
    "ax[1].set_title(\"QQplot\")\n",
    "ax[1].grid(True)\n",
    "\n",
    "plt.legend() # 凡例を表示\n",
    "plt.show() #グラフ表示"
   ]
  },
  {
   "cell_type": "markdown",
   "id": "5c865681",
   "metadata": {},
   "source": [
    "### Dummy"
   ]
  },
  {
   "cell_type": "code",
   "execution_count": 18,
   "id": "f2a7588f",
   "metadata": {},
   "outputs": [],
   "source": [
    "df =pd.get_dummies(df, columns=categorical, drop_first=True)"
   ]
  },
  {
   "cell_type": "code",
   "execution_count": 19,
   "id": "73286739",
   "metadata": {},
   "outputs": [
    {
     "data": {
      "text/html": [
       "<div>\n",
       "<style scoped>\n",
       "    .dataframe tbody tr th:only-of-type {\n",
       "        vertical-align: middle;\n",
       "    }\n",
       "\n",
       "    .dataframe tbody tr th {\n",
       "        vertical-align: top;\n",
       "    }\n",
       "\n",
       "    .dataframe thead th {\n",
       "        text-align: right;\n",
       "    }\n",
       "</style>\n",
       "<table border=\"1\" class=\"dataframe\">\n",
       "  <thead>\n",
       "    <tr style=\"text-align: right;\">\n",
       "      <th></th>\n",
       "      <th>y</th>\n",
       "      <th>price_am</th>\n",
       "      <th>price_pm</th>\n",
       "      <th>holiday</th>\n",
       "      <th>year</th>\n",
       "      <th>price</th>\n",
       "      <th>price_times</th>\n",
       "      <th>client_1</th>\n",
       "      <th>close_1</th>\n",
       "      <th>month_10</th>\n",
       "      <th>...</th>\n",
       "      <th>day_6</th>\n",
       "      <th>day_7</th>\n",
       "      <th>day_8</th>\n",
       "      <th>day_9</th>\n",
       "      <th>weekday_1</th>\n",
       "      <th>weekday_2</th>\n",
       "      <th>weekday_3</th>\n",
       "      <th>weekday_4</th>\n",
       "      <th>weekday_5</th>\n",
       "      <th>weekday_6</th>\n",
       "    </tr>\n",
       "  </thead>\n",
       "  <tbody>\n",
       "    <tr>\n",
       "      <th>0</th>\n",
       "      <td>17.0</td>\n",
       "      <td>0.192308</td>\n",
       "      <td>0.076923</td>\n",
       "      <td>False</td>\n",
       "      <td>2010</td>\n",
       "      <td>0.134615</td>\n",
       "      <td>0.014793</td>\n",
       "      <td>0</td>\n",
       "      <td>0</td>\n",
       "      <td>0</td>\n",
       "      <td>...</td>\n",
       "      <td>0</td>\n",
       "      <td>0</td>\n",
       "      <td>0</td>\n",
       "      <td>0</td>\n",
       "      <td>0</td>\n",
       "      <td>0</td>\n",
       "      <td>1</td>\n",
       "      <td>0</td>\n",
       "      <td>0</td>\n",
       "      <td>0</td>\n",
       "    </tr>\n",
       "    <tr>\n",
       "      <th>1</th>\n",
       "      <td>18.0</td>\n",
       "      <td>0.692308</td>\n",
       "      <td>0.423077</td>\n",
       "      <td>False</td>\n",
       "      <td>2010</td>\n",
       "      <td>0.557692</td>\n",
       "      <td>0.292899</td>\n",
       "      <td>0</td>\n",
       "      <td>0</td>\n",
       "      <td>0</td>\n",
       "      <td>...</td>\n",
       "      <td>0</td>\n",
       "      <td>0</td>\n",
       "      <td>0</td>\n",
       "      <td>0</td>\n",
       "      <td>0</td>\n",
       "      <td>0</td>\n",
       "      <td>0</td>\n",
       "      <td>1</td>\n",
       "      <td>0</td>\n",
       "      <td>0</td>\n",
       "    </tr>\n",
       "    <tr>\n",
       "      <th>2</th>\n",
       "      <td>20.0</td>\n",
       "      <td>1.807692</td>\n",
       "      <td>1.192308</td>\n",
       "      <td>False</td>\n",
       "      <td>2010</td>\n",
       "      <td>1.500000</td>\n",
       "      <td>2.155325</td>\n",
       "      <td>0</td>\n",
       "      <td>0</td>\n",
       "      <td>0</td>\n",
       "      <td>...</td>\n",
       "      <td>0</td>\n",
       "      <td>0</td>\n",
       "      <td>0</td>\n",
       "      <td>0</td>\n",
       "      <td>0</td>\n",
       "      <td>0</td>\n",
       "      <td>0</td>\n",
       "      <td>0</td>\n",
       "      <td>1</td>\n",
       "      <td>0</td>\n",
       "    </tr>\n",
       "    <tr>\n",
       "      <th>3</th>\n",
       "      <td>20.0</td>\n",
       "      <td>1.407407</td>\n",
       "      <td>0.925926</td>\n",
       "      <td>False</td>\n",
       "      <td>2010</td>\n",
       "      <td>1.166667</td>\n",
       "      <td>1.303155</td>\n",
       "      <td>0</td>\n",
       "      <td>0</td>\n",
       "      <td>0</td>\n",
       "      <td>...</td>\n",
       "      <td>0</td>\n",
       "      <td>0</td>\n",
       "      <td>0</td>\n",
       "      <td>0</td>\n",
       "      <td>0</td>\n",
       "      <td>0</td>\n",
       "      <td>0</td>\n",
       "      <td>0</td>\n",
       "      <td>0</td>\n",
       "      <td>1</td>\n",
       "    </tr>\n",
       "    <tr>\n",
       "      <th>4</th>\n",
       "      <td>14.0</td>\n",
       "      <td>0.346154</td>\n",
       "      <td>0.192308</td>\n",
       "      <td>False</td>\n",
       "      <td>2010</td>\n",
       "      <td>0.269231</td>\n",
       "      <td>0.066568</td>\n",
       "      <td>0</td>\n",
       "      <td>0</td>\n",
       "      <td>0</td>\n",
       "      <td>...</td>\n",
       "      <td>0</td>\n",
       "      <td>0</td>\n",
       "      <td>0</td>\n",
       "      <td>0</td>\n",
       "      <td>0</td>\n",
       "      <td>0</td>\n",
       "      <td>0</td>\n",
       "      <td>0</td>\n",
       "      <td>0</td>\n",
       "      <td>0</td>\n",
       "    </tr>\n",
       "    <tr>\n",
       "      <th>5</th>\n",
       "      <td>14.0</td>\n",
       "      <td>0.333333</td>\n",
       "      <td>0.148148</td>\n",
       "      <td>False</td>\n",
       "      <td>2010</td>\n",
       "      <td>0.240741</td>\n",
       "      <td>0.049383</td>\n",
       "      <td>0</td>\n",
       "      <td>0</td>\n",
       "      <td>0</td>\n",
       "      <td>...</td>\n",
       "      <td>1</td>\n",
       "      <td>0</td>\n",
       "      <td>0</td>\n",
       "      <td>0</td>\n",
       "      <td>1</td>\n",
       "      <td>0</td>\n",
       "      <td>0</td>\n",
       "      <td>0</td>\n",
       "      <td>0</td>\n",
       "      <td>0</td>\n",
       "    </tr>\n",
       "    <tr>\n",
       "      <th>6</th>\n",
       "      <td>4.0</td>\n",
       "      <td>0.259259</td>\n",
       "      <td>0.111111</td>\n",
       "      <td>False</td>\n",
       "      <td>2010</td>\n",
       "      <td>0.185185</td>\n",
       "      <td>0.028807</td>\n",
       "      <td>0</td>\n",
       "      <td>0</td>\n",
       "      <td>0</td>\n",
       "      <td>...</td>\n",
       "      <td>0</td>\n",
       "      <td>1</td>\n",
       "      <td>0</td>\n",
       "      <td>0</td>\n",
       "      <td>0</td>\n",
       "      <td>1</td>\n",
       "      <td>0</td>\n",
       "      <td>0</td>\n",
       "      <td>0</td>\n",
       "      <td>0</td>\n",
       "    </tr>\n",
       "    <tr>\n",
       "      <th>7</th>\n",
       "      <td>10.0</td>\n",
       "      <td>0.192308</td>\n",
       "      <td>0.076923</td>\n",
       "      <td>False</td>\n",
       "      <td>2010</td>\n",
       "      <td>0.134615</td>\n",
       "      <td>0.014793</td>\n",
       "      <td>0</td>\n",
       "      <td>0</td>\n",
       "      <td>0</td>\n",
       "      <td>...</td>\n",
       "      <td>0</td>\n",
       "      <td>0</td>\n",
       "      <td>1</td>\n",
       "      <td>0</td>\n",
       "      <td>0</td>\n",
       "      <td>0</td>\n",
       "      <td>1</td>\n",
       "      <td>0</td>\n",
       "      <td>0</td>\n",
       "      <td>0</td>\n",
       "    </tr>\n",
       "    <tr>\n",
       "      <th>8</th>\n",
       "      <td>12.0</td>\n",
       "      <td>0.692308</td>\n",
       "      <td>0.423077</td>\n",
       "      <td>False</td>\n",
       "      <td>2010</td>\n",
       "      <td>0.557692</td>\n",
       "      <td>0.292899</td>\n",
       "      <td>0</td>\n",
       "      <td>0</td>\n",
       "      <td>0</td>\n",
       "      <td>...</td>\n",
       "      <td>0</td>\n",
       "      <td>0</td>\n",
       "      <td>0</td>\n",
       "      <td>1</td>\n",
       "      <td>0</td>\n",
       "      <td>0</td>\n",
       "      <td>0</td>\n",
       "      <td>1</td>\n",
       "      <td>0</td>\n",
       "      <td>0</td>\n",
       "    </tr>\n",
       "    <tr>\n",
       "      <th>9</th>\n",
       "      <td>21.0</td>\n",
       "      <td>1.807692</td>\n",
       "      <td>1.192308</td>\n",
       "      <td>False</td>\n",
       "      <td>2010</td>\n",
       "      <td>1.500000</td>\n",
       "      <td>2.155325</td>\n",
       "      <td>0</td>\n",
       "      <td>0</td>\n",
       "      <td>0</td>\n",
       "      <td>...</td>\n",
       "      <td>0</td>\n",
       "      <td>0</td>\n",
       "      <td>0</td>\n",
       "      <td>0</td>\n",
       "      <td>0</td>\n",
       "      <td>0</td>\n",
       "      <td>0</td>\n",
       "      <td>0</td>\n",
       "      <td>1</td>\n",
       "      <td>0</td>\n",
       "    </tr>\n",
       "  </tbody>\n",
       "</table>\n",
       "<p>10 rows × 56 columns</p>\n",
       "</div>"
      ],
      "text/plain": [
       "      y  price_am  price_pm  holiday  year     price  price_times  client_1  \\\n",
       "0  17.0  0.192308  0.076923    False  2010  0.134615     0.014793         0   \n",
       "1  18.0  0.692308  0.423077    False  2010  0.557692     0.292899         0   \n",
       "2  20.0  1.807692  1.192308    False  2010  1.500000     2.155325         0   \n",
       "3  20.0  1.407407  0.925926    False  2010  1.166667     1.303155         0   \n",
       "4  14.0  0.346154  0.192308    False  2010  0.269231     0.066568         0   \n",
       "5  14.0  0.333333  0.148148    False  2010  0.240741     0.049383         0   \n",
       "6   4.0  0.259259  0.111111    False  2010  0.185185     0.028807         0   \n",
       "7  10.0  0.192308  0.076923    False  2010  0.134615     0.014793         0   \n",
       "8  12.0  0.692308  0.423077    False  2010  0.557692     0.292899         0   \n",
       "9  21.0  1.807692  1.192308    False  2010  1.500000     2.155325         0   \n",
       "\n",
       "   close_1  month_10  ...  day_6  day_7  day_8  day_9  weekday_1  weekday_2  \\\n",
       "0        0         0  ...      0      0      0      0          0          0   \n",
       "1        0         0  ...      0      0      0      0          0          0   \n",
       "2        0         0  ...      0      0      0      0          0          0   \n",
       "3        0         0  ...      0      0      0      0          0          0   \n",
       "4        0         0  ...      0      0      0      0          0          0   \n",
       "5        0         0  ...      1      0      0      0          1          0   \n",
       "6        0         0  ...      0      1      0      0          0          1   \n",
       "7        0         0  ...      0      0      1      0          0          0   \n",
       "8        0         0  ...      0      0      0      1          0          0   \n",
       "9        0         0  ...      0      0      0      0          0          0   \n",
       "\n",
       "   weekday_3  weekday_4  weekday_5  weekday_6  \n",
       "0          1          0          0          0  \n",
       "1          0          1          0          0  \n",
       "2          0          0          1          0  \n",
       "3          0          0          0          1  \n",
       "4          0          0          0          0  \n",
       "5          0          0          0          0  \n",
       "6          0          0          0          0  \n",
       "7          1          0          0          0  \n",
       "8          0          1          0          0  \n",
       "9          0          0          1          0  \n",
       "\n",
       "[10 rows x 56 columns]"
      ]
     },
     "execution_count": 19,
     "metadata": {},
     "output_type": "execute_result"
    }
   ],
   "source": [
    "df.head(10)"
   ]
  },
  {
   "cell_type": "markdown",
   "id": "377e8c89",
   "metadata": {},
   "source": [
    "### Separate Data"
   ]
  },
  {
   "cell_type": "code",
   "execution_count": 20,
   "id": "0bae0102",
   "metadata": {},
   "outputs": [],
   "source": [
    "train = df[:len(train)]\n",
    "test = df[len(train):]"
   ]
  },
  {
   "cell_type": "code",
   "execution_count": 21,
   "id": "6eb73d4b",
   "metadata": {},
   "outputs": [],
   "source": [
    "y_train = train['y']\n",
    "X_train = train.drop(['y'], axis=1)\n",
    "X_test = test.drop(['y'], axis=1)"
   ]
  },
  {
   "cell_type": "code",
   "execution_count": 22,
   "id": "5b6391c2",
   "metadata": {},
   "outputs": [],
   "source": [
    "### 線形回帰"
   ]
  },
  {
   "cell_type": "code",
   "execution_count": 23,
   "id": "1fa31948",
   "metadata": {},
   "outputs": [],
   "source": [
    "from sklearn.linear_model import Lasso, Ridge, LassoCV, RidgeCV\n",
    "from sklearn.model_selection import GridSearchCV, cross_val_score, train_test_split\n",
    "from sklearn.svm import SVC\n",
    "from sklearn.preprocessing import StandardScaler"
   ]
  },
  {
   "cell_type": "code",
   "execution_count": 24,
   "id": "254a26ae",
   "metadata": {},
   "outputs": [
    {
     "name": "stdout",
     "output_type": "stream",
     "text": [
      "<class 'pandas.core.frame.DataFrame'>\n",
      "Int64Index: 2466 entries, 0 to 364\n",
      "Data columns (total 56 columns):\n",
      " #   Column       Non-Null Count  Dtype  \n",
      "---  ------       --------------  -----  \n",
      " 0   y            2101 non-null   float64\n",
      " 1   price_am     2466 non-null   float64\n",
      " 2   price_pm     2466 non-null   float64\n",
      " 3   holiday      2466 non-null   bool   \n",
      " 4   year         2466 non-null   int64  \n",
      " 5   price        2466 non-null   float64\n",
      " 6   price_times  2466 non-null   float64\n",
      " 7   client_1     2466 non-null   uint8  \n",
      " 8   close_1      2466 non-null   uint8  \n",
      " 9   month_10     2466 non-null   uint8  \n",
      " 10  month_11     2466 non-null   uint8  \n",
      " 11  month_12     2466 non-null   uint8  \n",
      " 12  month_2      2466 non-null   uint8  \n",
      " 13  month_3      2466 non-null   uint8  \n",
      " 14  month_4      2466 non-null   uint8  \n",
      " 15  month_5      2466 non-null   uint8  \n",
      " 16  month_6      2466 non-null   uint8  \n",
      " 17  month_7      2466 non-null   uint8  \n",
      " 18  month_8      2466 non-null   uint8  \n",
      " 19  month_9      2466 non-null   uint8  \n",
      " 20  day_10       2466 non-null   uint8  \n",
      " 21  day_11       2466 non-null   uint8  \n",
      " 22  day_12       2466 non-null   uint8  \n",
      " 23  day_13       2466 non-null   uint8  \n",
      " 24  day_14       2466 non-null   uint8  \n",
      " 25  day_15       2466 non-null   uint8  \n",
      " 26  day_16       2466 non-null   uint8  \n",
      " 27  day_17       2466 non-null   uint8  \n",
      " 28  day_18       2466 non-null   uint8  \n",
      " 29  day_19       2466 non-null   uint8  \n",
      " 30  day_2        2466 non-null   uint8  \n",
      " 31  day_20       2466 non-null   uint8  \n",
      " 32  day_21       2466 non-null   uint8  \n",
      " 33  day_22       2466 non-null   uint8  \n",
      " 34  day_23       2466 non-null   uint8  \n",
      " 35  day_24       2466 non-null   uint8  \n",
      " 36  day_25       2466 non-null   uint8  \n",
      " 37  day_26       2466 non-null   uint8  \n",
      " 38  day_27       2466 non-null   uint8  \n",
      " 39  day_28       2466 non-null   uint8  \n",
      " 40  day_29       2466 non-null   uint8  \n",
      " 41  day_3        2466 non-null   uint8  \n",
      " 42  day_30       2466 non-null   uint8  \n",
      " 43  day_31       2466 non-null   uint8  \n",
      " 44  day_4        2466 non-null   uint8  \n",
      " 45  day_5        2466 non-null   uint8  \n",
      " 46  day_6        2466 non-null   uint8  \n",
      " 47  day_7        2466 non-null   uint8  \n",
      " 48  day_8        2466 non-null   uint8  \n",
      " 49  day_9        2466 non-null   uint8  \n",
      " 50  weekday_1    2466 non-null   uint8  \n",
      " 51  weekday_2    2466 non-null   uint8  \n",
      " 52  weekday_3    2466 non-null   uint8  \n",
      " 53  weekday_4    2466 non-null   uint8  \n",
      " 54  weekday_5    2466 non-null   uint8  \n",
      " 55  weekday_6    2466 non-null   uint8  \n",
      "dtypes: bool(1), float64(5), int64(1), uint8(49)\n",
      "memory usage: 255.3 KB\n"
     ]
    },
    {
     "data": {
      "text/html": [
       "<div>\n",
       "<style scoped>\n",
       "    .dataframe tbody tr th:only-of-type {\n",
       "        vertical-align: middle;\n",
       "    }\n",
       "\n",
       "    .dataframe tbody tr th {\n",
       "        vertical-align: top;\n",
       "    }\n",
       "\n",
       "    .dataframe thead th {\n",
       "        text-align: right;\n",
       "    }\n",
       "</style>\n",
       "<table border=\"1\" class=\"dataframe\">\n",
       "  <thead>\n",
       "    <tr style=\"text-align: right;\">\n",
       "      <th></th>\n",
       "      <th>y</th>\n",
       "      <th>price_am</th>\n",
       "      <th>price_pm</th>\n",
       "      <th>holiday</th>\n",
       "      <th>year</th>\n",
       "      <th>price</th>\n",
       "      <th>price_times</th>\n",
       "      <th>client_1</th>\n",
       "      <th>close_1</th>\n",
       "      <th>month_10</th>\n",
       "      <th>...</th>\n",
       "      <th>day_6</th>\n",
       "      <th>day_7</th>\n",
       "      <th>day_8</th>\n",
       "      <th>day_9</th>\n",
       "      <th>weekday_1</th>\n",
       "      <th>weekday_2</th>\n",
       "      <th>weekday_3</th>\n",
       "      <th>weekday_4</th>\n",
       "      <th>weekday_5</th>\n",
       "      <th>weekday_6</th>\n",
       "    </tr>\n",
       "  </thead>\n",
       "  <tbody>\n",
       "    <tr>\n",
       "      <th>0</th>\n",
       "      <td>17.0</td>\n",
       "      <td>0.192308</td>\n",
       "      <td>0.076923</td>\n",
       "      <td>False</td>\n",
       "      <td>2010</td>\n",
       "      <td>0.134615</td>\n",
       "      <td>0.014793</td>\n",
       "      <td>0</td>\n",
       "      <td>0</td>\n",
       "      <td>0</td>\n",
       "      <td>...</td>\n",
       "      <td>0</td>\n",
       "      <td>0</td>\n",
       "      <td>0</td>\n",
       "      <td>0</td>\n",
       "      <td>0</td>\n",
       "      <td>0</td>\n",
       "      <td>1</td>\n",
       "      <td>0</td>\n",
       "      <td>0</td>\n",
       "      <td>0</td>\n",
       "    </tr>\n",
       "    <tr>\n",
       "      <th>1</th>\n",
       "      <td>18.0</td>\n",
       "      <td>0.692308</td>\n",
       "      <td>0.423077</td>\n",
       "      <td>False</td>\n",
       "      <td>2010</td>\n",
       "      <td>0.557692</td>\n",
       "      <td>0.292899</td>\n",
       "      <td>0</td>\n",
       "      <td>0</td>\n",
       "      <td>0</td>\n",
       "      <td>...</td>\n",
       "      <td>0</td>\n",
       "      <td>0</td>\n",
       "      <td>0</td>\n",
       "      <td>0</td>\n",
       "      <td>0</td>\n",
       "      <td>0</td>\n",
       "      <td>0</td>\n",
       "      <td>1</td>\n",
       "      <td>0</td>\n",
       "      <td>0</td>\n",
       "    </tr>\n",
       "    <tr>\n",
       "      <th>2</th>\n",
       "      <td>20.0</td>\n",
       "      <td>1.807692</td>\n",
       "      <td>1.192308</td>\n",
       "      <td>False</td>\n",
       "      <td>2010</td>\n",
       "      <td>1.500000</td>\n",
       "      <td>2.155325</td>\n",
       "      <td>0</td>\n",
       "      <td>0</td>\n",
       "      <td>0</td>\n",
       "      <td>...</td>\n",
       "      <td>0</td>\n",
       "      <td>0</td>\n",
       "      <td>0</td>\n",
       "      <td>0</td>\n",
       "      <td>0</td>\n",
       "      <td>0</td>\n",
       "      <td>0</td>\n",
       "      <td>0</td>\n",
       "      <td>1</td>\n",
       "      <td>0</td>\n",
       "    </tr>\n",
       "    <tr>\n",
       "      <th>3</th>\n",
       "      <td>20.0</td>\n",
       "      <td>1.407407</td>\n",
       "      <td>0.925926</td>\n",
       "      <td>False</td>\n",
       "      <td>2010</td>\n",
       "      <td>1.166667</td>\n",
       "      <td>1.303155</td>\n",
       "      <td>0</td>\n",
       "      <td>0</td>\n",
       "      <td>0</td>\n",
       "      <td>...</td>\n",
       "      <td>0</td>\n",
       "      <td>0</td>\n",
       "      <td>0</td>\n",
       "      <td>0</td>\n",
       "      <td>0</td>\n",
       "      <td>0</td>\n",
       "      <td>0</td>\n",
       "      <td>0</td>\n",
       "      <td>0</td>\n",
       "      <td>1</td>\n",
       "    </tr>\n",
       "    <tr>\n",
       "      <th>4</th>\n",
       "      <td>14.0</td>\n",
       "      <td>0.346154</td>\n",
       "      <td>0.192308</td>\n",
       "      <td>False</td>\n",
       "      <td>2010</td>\n",
       "      <td>0.269231</td>\n",
       "      <td>0.066568</td>\n",
       "      <td>0</td>\n",
       "      <td>0</td>\n",
       "      <td>0</td>\n",
       "      <td>...</td>\n",
       "      <td>0</td>\n",
       "      <td>0</td>\n",
       "      <td>0</td>\n",
       "      <td>0</td>\n",
       "      <td>0</td>\n",
       "      <td>0</td>\n",
       "      <td>0</td>\n",
       "      <td>0</td>\n",
       "      <td>0</td>\n",
       "      <td>0</td>\n",
       "    </tr>\n",
       "  </tbody>\n",
       "</table>\n",
       "<p>5 rows × 56 columns</p>\n",
       "</div>"
      ],
      "text/plain": [
       "      y  price_am  price_pm  holiday  year     price  price_times  client_1  \\\n",
       "0  17.0  0.192308  0.076923    False  2010  0.134615     0.014793         0   \n",
       "1  18.0  0.692308  0.423077    False  2010  0.557692     0.292899         0   \n",
       "2  20.0  1.807692  1.192308    False  2010  1.500000     2.155325         0   \n",
       "3  20.0  1.407407  0.925926    False  2010  1.166667     1.303155         0   \n",
       "4  14.0  0.346154  0.192308    False  2010  0.269231     0.066568         0   \n",
       "\n",
       "   close_1  month_10  ...  day_6  day_7  day_8  day_9  weekday_1  weekday_2  \\\n",
       "0        0         0  ...      0      0      0      0          0          0   \n",
       "1        0         0  ...      0      0      0      0          0          0   \n",
       "2        0         0  ...      0      0      0      0          0          0   \n",
       "3        0         0  ...      0      0      0      0          0          0   \n",
       "4        0         0  ...      0      0      0      0          0          0   \n",
       "\n",
       "   weekday_3  weekday_4  weekday_5  weekday_6  \n",
       "0          1          0          0          0  \n",
       "1          0          1          0          0  \n",
       "2          0          0          1          0  \n",
       "3          0          0          0          1  \n",
       "4          0          0          0          0  \n",
       "\n",
       "[5 rows x 56 columns]"
      ]
     },
     "execution_count": 24,
     "metadata": {},
     "output_type": "execute_result"
    }
   ],
   "source": [
    "df.info()\n",
    "df.head()"
   ]
  },
  {
   "cell_type": "code",
   "execution_count": 25,
   "id": "3a1ffc6c",
   "metadata": {},
   "outputs": [],
   "source": [
    "# データセットの標準化準備\n",
    "scaler= StandardScaler()\n",
    "# データセットの標準化\n",
    "scaler.fit(X_train)\n",
    "scaler.fit(X_test)\n",
    "X_train_scaler = scaler.transform(X_train)\n",
    "X_test_scaler  = scaler.transform(X_test)\n"
   ]
  },
  {
   "cell_type": "code",
   "execution_count": 26,
   "id": "20ff6c6f",
   "metadata": {},
   "outputs": [
    {
     "name": "stdout",
     "output_type": "stream",
     "text": [
      "{'alpha': 0.009999999999999672}\n",
      "R^2 = 0.7604623581300229\n",
      "MAE = 6.614762504895048\n"
     ]
    }
   ],
   "source": [
    "# Lasso 交差検証準備\n",
    "# clf = LassoCV(alphas=10 ** np.arange(-6, 1, 0.1), cv = 5)\n",
    "\n",
    "params_grid = {\n",
    "    'alpha': 10 ** np.arange(-6, 1, 0.1)\n",
    "}\n",
    "# パラメータチューニング\n",
    "clf = GridSearchCV(\n",
    "    estimator = Lasso(),\n",
    "    param_grid = params_grid,\n",
    "    cv = 5,\n",
    "    scoring='r2',\n",
    "    n_jobs = -1\n",
    "    )\n",
    "# 線形モデルの重みを学習\n",
    "clf.fit(X_train_scaler, y_train) \n",
    "\n",
    "# チューニングしたモデル\n",
    "best_param = clf.best_params_\n",
    "lasso_tuned = clf.best_estimator_\n",
    "\n",
    "# 予測値を反映\n",
    "y_lasso_pred = lasso_tuned.predict(X_train_scaler) # Trainデータに対して予測\n",
    "y_lasso_test_pred = lasso_tuned.predict(X_test_scaler) # Testデータに対して予測\n",
    "\n",
    "#print(\"α = {}\".format(clf.alpha_))\n",
    "#print(\"ω = {}\".format(clf.coef_))\n",
    "#print(\"b = {}\".format(clf.intercept_))\n",
    "print(best_param)\n",
    "print(\"R^2 = {}\".format(clf.score(X_train_scaler, y_train)))\n",
    "print(\"MAE = {}\".format(mean_absolute_error(y_train, y_lasso_pred)))\n",
    "#print(cross_val_score(clf, X_train_scaler, y_train, cv=5))"
   ]
  },
  {
   "cell_type": "code",
   "execution_count": 27,
   "id": "3862f5cd",
   "metadata": {},
   "outputs": [],
   "source": [
    "import optuna.integration.lightgbm as lgb # Optuna \n",
    "#import lightgbm as lgb \n",
    "from sklearn.model_selection import KFold\n",
    "\n",
    "evals_result = {} #結果を格納するための辞書"
   ]
  },
  {
   "cell_type": "code",
   "execution_count": 28,
   "id": "7eed6770",
   "metadata": {},
   "outputs": [],
   "source": [
    "# データセットの標準化\n",
    "scaler.fit(X_train)\n",
    "scaler.fit(X_test)\n",
    "X_train_scaler = scaler.transform(X_train)\n",
    "X_test_scaler  = scaler.transform(X_test)"
   ]
  },
  {
   "cell_type": "code",
   "execution_count": 29,
   "id": "8c730d76",
   "metadata": {},
   "outputs": [],
   "source": [
    "def ScalerFit(X_tr, X_tst):\n",
    "    scaler.fit(X_tr)\n",
    "    scaler.fit(X_tst)\n",
    "    X_tr_scaler = scaler.transform(X_tr)\n",
    "    X_tst_scaler  = scaler.transform(X_tst)\n",
    "    return X_tr_scaler, X_tst_scaler"
   ]
  },
  {
   "cell_type": "code",
   "execution_count": 30,
   "id": "7033819c",
   "metadata": {
    "scrolled": false
   },
   "outputs": [],
   "source": [
    "def SVC_fit(random_sts):\n",
    "    # SVM\n",
    "    params_grid = [\n",
    "        {'C': [1, 10, 100], 'kernel':['linear']},\n",
    "        {'C': [1, 10, 100], 'gamma': [0.01, 0.001], 'kernel': ['rbf']}\n",
    "    ]\n",
    "    # パラメータチューニング\n",
    "    clf = GridSearchCV(\n",
    "        estimator = SVC(),\n",
    "        param_grid = params_grid,\n",
    "        cv = 5,\n",
    "        scoring='r2',\n",
    "        n_jobs = -1\n",
    "        )\n",
    "\n",
    "    # フィッテイング\n",
    "    clf.fit(X_train_scaler, y_train) \n",
    "\n",
    "    # チューニングしたモデル\n",
    "    best_param = clf.best_params_\n",
    "    svc_tuned = clf.best_estimator_\n",
    "\n",
    "    # 予測値を反映\n",
    "    y_pred = svc_tuned.predict(X_train_scaler) # Trainデータに対して予測\n",
    "    y_test_pred = svc_tuned.predict(X_test_scaler) # Testデータに対して予測\n",
    "\n",
    "    print(best_param)\n",
    "    print(\"Score = {}\".format(clf.score(X_train_scaler, y_train)))\n",
    "    print(\"MAE = {}\".format(mean_absolute_error(y_train, y_pred)))\n",
    "    mae_result = mean_absolute_error(y_train, y_pred)\n",
    "    \n",
    "    X_train['svc'] = y_pred\n",
    "    X_test['svc'] = y_test_pred\n",
    "\n",
    "    return y_pred, y_test_pred, mae_result\n",
    "    "
   ]
  },
  {
   "cell_type": "code",
   "execution_count": 31,
   "id": "18c32a6d",
   "metadata": {},
   "outputs": [],
   "source": [
    "def lightGBM_fit(random_sts):\n",
    "    y_lgb_preds = []\n",
    "    models = []\n",
    "    y_lgb_oof_train = np.zeros((len(X_train),))\n",
    "    cv = KFold(n_splits=5, shuffle=True, random_state=random_sts)\n",
    "\n",
    "    params = {\n",
    "        'task' : 'train',\n",
    "        'boosting_type' : 'gbdt',\n",
    "        'objective': 'regression',\n",
    "        'metric' : 'rmse',\n",
    "        'max_bin' : 255,\n",
    "        'num_leaves' : 31,\n",
    "        'learning_rate' : 0.05,\n",
    "        'feature_fraction' : 0.9,\n",
    "        'bagging_fraction' : 0.8,\n",
    "        'bagging_freq': 5,\n",
    "        'verbose' : -1\n",
    "    }\n",
    "\n",
    "    # Cross Validation\n",
    "    for fold_id, (train_index, valid_index) in enumerate(cv.split(X_train)):\n",
    "        X_tr = X_train.iloc[train_index, :]\n",
    "        X_val = X_train.iloc[valid_index, :]\n",
    "        y_tr = y_train.iloc[train_index]\n",
    "        y_val = y_train.iloc[valid_index]\n",
    "    \n",
    "        # Train Dataset\n",
    "        lgb_train = lgb.Dataset(X_tr, y_tr)\n",
    "\n",
    "        # Evaluation Dataset (early_stopping_rounds)\n",
    "        lgb_eval = lgb.Dataset(X_val, y_val, reference=lgb_train)\n",
    "    \n",
    " #       evals_result = {} #結果を格納するための辞書\n",
    "        # train\n",
    "        gbm = lgb.train(params,\n",
    "                    lgb_train,\n",
    "                    valid_sets=[lgb_train, lgb_eval],\n",
    "                    valid_names=['train','eval'],\n",
    "                    num_boost_round=1000,\n",
    "                    early_stopping_rounds=100,\n",
    "                    verbose_eval=100,\n",
    "                    evals_result=evals_result\n",
    "                   )\n",
    "        # Out-of-hold of train data\n",
    "        y_lgb_oof_train[valid_index] = \\\n",
    "            gbm.predict(X_val, num_iteration=gbm.best_iteration)\n",
    "\n",
    "    \n",
    "        # Prediction for X_test data\n",
    "        y_pred = gbm.predict(X_test, num_iteration=gbm.best_iteration)\n",
    "    \n",
    "        # Append Prediction data \n",
    "        y_lgb_preds.append(y_pred)\n",
    "        models.append(gbm)\n",
    "\n",
    "    mae_result = mean_absolute_error(y_train, y_lgb_oof_train)\n",
    "    print(\"MAE = {}\".format(mae_result))\n",
    "    \n",
    "    X_train['lgb'] = y_lgb_oof_train\n",
    "    X_test['lgb'] = sum(y_lgb_preds)/len(y_lgb_preds)\n",
    "\n",
    "    return y_lgb_oof_train, y_lgb_preds, mae_result"
   ]
  },
  {
   "cell_type": "code",
   "execution_count": 32,
   "id": "ba3b16f3",
   "metadata": {},
   "outputs": [
    {
     "name": "stderr",
     "output_type": "stream",
     "text": [
      "C:\\Anaconda\\lib\\site-packages\\sklearn\\model_selection\\_split.py:670: UserWarning: The least populated class in y has only 1 members, which is less than n_splits=5.\n",
      "  warnings.warn((\"The least populated class in y has only %d\"\n"
     ]
    },
    {
     "name": "stdout",
     "output_type": "stream",
     "text": [
      "{'C': 10, 'gamma': 0.01, 'kernel': 'rbf'}\n"
     ]
    },
    {
     "name": "stderr",
     "output_type": "stream",
     "text": [
      "\u001b[32m[I 2021-06-22 14:14:42,019]\u001b[0m A new study created in memory with name: no-name-cd28622d-2384-4c86-8758-6797d237bfc9\u001b[0m\n",
      "feature_fraction, val_score: inf:   0%|                  | 0/7 [00:00<?, ?it/s]"
     ]
    },
    {
     "name": "stdout",
     "output_type": "stream",
     "text": [
      "Score = 0.997740806718124\n",
      "MAE = 0.08138981437410757\n",
      "      price_am  price_pm  holiday  year  price  price_times  client_1  \\\n",
      "2096       5.0       4.0    False  2016    4.5         20.0         1   \n",
      "2097       4.0       4.0    False  2016    4.0         16.0         1   \n",
      "2098       4.0       4.0    False  2016    4.0         16.0         1   \n",
      "2099       5.0       4.0    False  2016    4.5         20.0         1   \n",
      "2100       5.0       4.0    False  2016    4.5         20.0         1   \n",
      "\n",
      "      close_1  month_10  month_11  ...  day_7  day_8  day_9  weekday_1  \\\n",
      "2096        0         0         0  ...      0      0      0          0   \n",
      "2097        0         0         0  ...      0      0      0          0   \n",
      "2098        0         0         0  ...      0      0      0          1   \n",
      "2099        0         0         0  ...      0      0      0          0   \n",
      "2100        0         0         0  ...      0      0      0          0   \n",
      "\n",
      "      weekday_2  weekday_3  weekday_4  weekday_5  weekday_6    svc  \n",
      "2096          0          0          0          0          1   94.0  \n",
      "2097          0          0          0          0          0   86.0  \n",
      "2098          0          0          0          0          0   98.0  \n",
      "2099          1          0          0          0          0   99.0  \n",
      "2100          0          1          0          0          0  105.0  \n",
      "\n",
      "[5 rows x 56 columns]\n",
      "Training until validation scores don't improve for 100 rounds\n",
      "[100]\ttrain's rmse: 1.13702\teval's rmse: 1.22844\n",
      "[200]\ttrain's rmse: 0.980424\teval's rmse: 1.13649\n",
      "[300]\ttrain's rmse: 0.909365\teval's rmse: 1.12851\n",
      "[400]\ttrain's rmse: 0.855398\teval's rmse: 1.11624\n"
     ]
    },
    {
     "name": "stderr",
     "output_type": "stream",
     "text": [
      "feature_fraction, val_score: 1.112548:  14%|7    | 1/7 [00:00<00:04,  1.29it/s]\u001b[32m[I 2021-06-22 14:14:42,795]\u001b[0m Trial 0 finished with value: 1.1125484537200734 and parameters: {'feature_fraction': 0.8}. Best is trial 0 with value: 1.1125484537200734.\u001b[0m\n",
      "feature_fraction, val_score: 1.112548:  14%|7    | 1/7 [00:00<00:04,  1.29it/s]"
     ]
    },
    {
     "name": "stdout",
     "output_type": "stream",
     "text": [
      "Early stopping, best iteration is:\n",
      "[380]\ttrain's rmse: 0.865916\teval's rmse: 1.11255\n",
      "Training until validation scores don't improve for 100 rounds\n",
      "[100]\ttrain's rmse: 1.79052\teval's rmse: 2.09304\n",
      "[200]\ttrain's rmse: 1.21973\teval's rmse: 1.5608\n",
      "[300]\ttrain's rmse: 1.04933\teval's rmse: 1.4113\n",
      "[400]\ttrain's rmse: 0.97136\teval's rmse: 1.35738\n",
      "[500]\ttrain's rmse: 0.918226\teval's rmse: 1.34056\n",
      "[600]\ttrain's rmse: 0.872488\teval's rmse: 1.32473\n",
      "[700]\ttrain's rmse: 0.835532\teval's rmse: 1.31226\n",
      "[800]\ttrain's rmse: 0.799576\teval's rmse: 1.31423\n",
      "Early stopping, best iteration is:\n",
      "[732]\ttrain's rmse: 0.825624\teval's rmse: 1.312\n"
     ]
    },
    {
     "name": "stderr",
     "output_type": "stream",
     "text": [
      "feature_fraction, val_score: 1.112548:  29%|#4   | 2/7 [00:02<00:05,  1.07s/it]\u001b[32m[I 2021-06-22 14:14:44,078]\u001b[0m Trial 1 finished with value: 1.3119967915067563 and parameters: {'feature_fraction': 0.5}. Best is trial 0 with value: 1.1125484537200734.\u001b[0m\n",
      "feature_fraction, val_score: 1.112548:  29%|#4   | 2/7 [00:02<00:05,  1.07s/it]"
     ]
    },
    {
     "name": "stdout",
     "output_type": "stream",
     "text": [
      "Training until validation scores don't improve for 100 rounds\n",
      "[100]\ttrain's rmse: 1.65089\teval's rmse: 1.93669\n",
      "[200]\ttrain's rmse: 1.16286\teval's rmse: 1.46756\n",
      "[300]\ttrain's rmse: 1.01862\teval's rmse: 1.35175\n",
      "[400]\ttrain's rmse: 0.944734\teval's rmse: 1.31404\n",
      "[500]\ttrain's rmse: 0.89044\teval's rmse: 1.30292\n",
      "[600]\ttrain's rmse: 0.845195\teval's rmse: 1.29289\n",
      "[700]\ttrain's rmse: 0.805827\teval's rmse: 1.29061\n"
     ]
    },
    {
     "name": "stderr",
     "output_type": "stream",
     "text": [
      "feature_fraction, val_score: 1.112548:  43%|##1  | 3/7 [00:03<00:04,  1.11s/it]\u001b[32m[I 2021-06-22 14:14:45,229]\u001b[0m Trial 2 finished with value: 1.29026399424906 and parameters: {'feature_fraction': 0.6}. Best is trial 0 with value: 1.1125484537200734.\u001b[0m\n",
      "feature_fraction, val_score: 1.112548:  43%|##1  | 3/7 [00:03<00:04,  1.11s/it]"
     ]
    },
    {
     "name": "stdout",
     "output_type": "stream",
     "text": [
      "[800]\ttrain's rmse: 0.768932\teval's rmse: 1.29559\n",
      "Early stopping, best iteration is:\n",
      "[703]\ttrain's rmse: 0.80491\teval's rmse: 1.29026\n",
      "Training until validation scores don't improve for 100 rounds\n",
      "[100]\ttrain's rmse: 1.32207\teval's rmse: 1.50209\n",
      "[200]\ttrain's rmse: 1.04888\teval's rmse: 1.27451\n",
      "[300]\ttrain's rmse: 0.96062\teval's rmse: 1.22575\n",
      "[400]\ttrain's rmse: 0.897407\teval's rmse: 1.20915\n",
      "[500]\ttrain's rmse: 0.849907\teval's rmse: 1.21241\n"
     ]
    },
    {
     "name": "stderr",
     "output_type": "stream",
     "text": [
      "feature_fraction, val_score: 1.112548:  57%|##8  | 4/7 [00:04<00:03,  1.03s/it]\u001b[32m[I 2021-06-22 14:14:46,157]\u001b[0m Trial 3 finished with value: 1.2042333748645953 and parameters: {'feature_fraction': 0.7}. Best is trial 0 with value: 1.1125484537200734.\u001b[0m\n",
      "feature_fraction, val_score: 1.112548:  57%|##8  | 4/7 [00:04<00:03,  1.03s/it]"
     ]
    },
    {
     "name": "stdout",
     "output_type": "stream",
     "text": [
      "Early stopping, best iteration is:\n",
      "[475]\ttrain's rmse: 0.860883\teval's rmse: 1.20423\n",
      "Training until validation scores don't improve for 100 rounds\n",
      "[100]\ttrain's rmse: 1.0953\teval's rmse: 1.15787\n",
      "[200]\ttrain's rmse: 0.964342\teval's rmse: 1.11287\n"
     ]
    },
    {
     "name": "stderr",
     "output_type": "stream",
     "text": [
      "feature_fraction, val_score: 1.101008:  71%|###5 | 5/7 [00:04<00:01,  1.21it/s]\u001b[32m[I 2021-06-22 14:14:46,613]\u001b[0m Trial 4 finished with value: 1.1010083663542491 and parameters: {'feature_fraction': 0.8999999999999999}. Best is trial 4 with value: 1.1010083663542491.\u001b[0m\n",
      "feature_fraction, val_score: 1.101008:  71%|###5 | 5/7 [00:04<00:01,  1.21it/s]"
     ]
    },
    {
     "name": "stdout",
     "output_type": "stream",
     "text": [
      "[300]\ttrain's rmse: 0.899267\teval's rmse: 1.11431\n",
      "Early stopping, best iteration is:\n",
      "[210]\ttrain's rmse: 0.956309\teval's rmse: 1.10101\n",
      "Training until validation scores don't improve for 100 rounds\n",
      "[100]\ttrain's rmse: 1.05094\teval's rmse: 1.04676\n"
     ]
    },
    {
     "name": "stderr",
     "output_type": "stream",
     "text": [
      "feature_fraction, val_score: 1.032073:  86%|####2| 6/7 [00:04<00:00,  1.55it/s]\u001b[32m[I 2021-06-22 14:14:46,912]\u001b[0m Trial 5 finished with value: 1.03207272155509 and parameters: {'feature_fraction': 1.0}. Best is trial 5 with value: 1.03207272155509.\u001b[0m\n",
      "feature_fraction, val_score: 1.032073:  86%|####2| 6/7 [00:04<00:00,  1.55it/s]"
     ]
    },
    {
     "name": "stdout",
     "output_type": "stream",
     "text": [
      "Early stopping, best iteration is:\n",
      "[92]\ttrain's rmse: 1.066\teval's rmse: 1.03207\n",
      "Training until validation scores don't improve for 100 rounds\n",
      "[100]\ttrain's rmse: 2.35987\teval's rmse: 2.68497\n",
      "[200]\ttrain's rmse: 1.47001\teval's rmse: 1.85464\n",
      "[300]\ttrain's rmse: 1.20498\teval's rmse: 1.6079\n",
      "[400]\ttrain's rmse: 1.07596\teval's rmse: 1.49814\n",
      "[500]\ttrain's rmse: 1.00082\teval's rmse: 1.43704\n",
      "[600]\ttrain's rmse: 0.946873\teval's rmse: 1.40381\n",
      "[700]\ttrain's rmse: 0.90485\teval's rmse: 1.38363\n",
      "[800]\ttrain's rmse: 0.865435\teval's rmse: 1.37608\n",
      "[900]\ttrain's rmse: 0.835745\teval's rmse: 1.37181\n",
      "[1000]\ttrain's rmse: 0.806917\teval's rmse: 1.37035\n",
      "Did not meet early stopping. Best iteration is:\n",
      "[1000]\ttrain's rmse: 0.806917\teval's rmse: 1.37035\n"
     ]
    },
    {
     "name": "stderr",
     "output_type": "stream",
     "text": [
      "feature_fraction, val_score: 1.032073: 100%|#####| 7/7 [00:06<00:00,  1.09it/s]\u001b[32m[I 2021-06-22 14:14:48,390]\u001b[0m Trial 6 finished with value: 1.3703487844297446 and parameters: {'feature_fraction': 0.4}. Best is trial 5 with value: 1.03207272155509.\u001b[0m\n",
      "feature_fraction, val_score: 1.032073: 100%|#####| 7/7 [00:06<00:00,  1.10it/s]\n",
      "num_leaves, val_score: 1.032073:   0%|                  | 0/20 [00:00<?, ?it/s]"
     ]
    },
    {
     "name": "stdout",
     "output_type": "stream",
     "text": [
      "Training until validation scores don't improve for 100 rounds\n",
      "[100]\ttrain's rmse: 1.04595\teval's rmse: 1.04336\n"
     ]
    },
    {
     "name": "stderr",
     "output_type": "stream",
     "text": [
      "num_leaves, val_score: 1.031056:   5%|5         | 1/20 [00:00<00:07,  2.54it/s]\u001b[32m[I 2021-06-22 14:14:48,795]\u001b[0m Trial 7 finished with value: 1.0310560704291796 and parameters: {'num_leaves': 205}. Best is trial 7 with value: 1.0310560704291796.\u001b[0m\n",
      "num_leaves, val_score: 1.031056:   5%|5         | 1/20 [00:00<00:07,  2.54it/s]"
     ]
    },
    {
     "name": "stdout",
     "output_type": "stream",
     "text": [
      "Early stopping, best iteration is:\n",
      "[92]\ttrain's rmse: 1.06118\teval's rmse: 1.03106\n",
      "Training until validation scores don't improve for 100 rounds\n",
      "[100]\ttrain's rmse: 1.04595\teval's rmse: 1.04336\n",
      "Early stopping, best iteration is:\n",
      "[92]\ttrain's rmse: 1.06118\teval's rmse: 1.03106\n"
     ]
    },
    {
     "name": "stderr",
     "output_type": "stream",
     "text": [
      "num_leaves, val_score: 1.031056:  10%|#         | 2/20 [00:00<00:07,  2.43it/s]\u001b[32m[I 2021-06-22 14:14:49,219]\u001b[0m Trial 8 finished with value: 1.0310560704291796 and parameters: {'num_leaves': 77}. Best is trial 7 with value: 1.0310560704291796.\u001b[0m\n",
      "num_leaves, val_score: 1.031056:  10%|#         | 2/20 [00:00<00:07,  2.43it/s]"
     ]
    },
    {
     "name": "stdout",
     "output_type": "stream",
     "text": [
      "Training until validation scores don't improve for 100 rounds\n",
      "[100]\ttrain's rmse: 1.04595\teval's rmse: 1.04336\n"
     ]
    },
    {
     "name": "stderr",
     "output_type": "stream",
     "text": [
      "num_leaves, val_score: 1.031056:  15%|#5        | 3/20 [00:01<00:07,  2.29it/s]\u001b[32m[I 2021-06-22 14:14:49,685]\u001b[0m Trial 9 finished with value: 1.0310560704291796 and parameters: {'num_leaves': 157}. Best is trial 7 with value: 1.0310560704291796.\u001b[0m\n",
      "num_leaves, val_score: 1.031056:  15%|#5        | 3/20 [00:01<00:07,  2.29it/s]"
     ]
    },
    {
     "name": "stdout",
     "output_type": "stream",
     "text": [
      "Early stopping, best iteration is:\n",
      "[92]\ttrain's rmse: 1.06118\teval's rmse: 1.03106\n",
      "Training until validation scores don't improve for 100 rounds\n",
      "[100]\ttrain's rmse: 1.04595\teval's rmse: 1.04336\n"
     ]
    },
    {
     "name": "stderr",
     "output_type": "stream",
     "text": [
      "num_leaves, val_score: 1.031056:  20%|##        | 4/20 [00:01<00:06,  2.48it/s]\u001b[32m[I 2021-06-22 14:14:50,046]\u001b[0m Trial 10 finished with value: 1.0310560704291796 and parameters: {'num_leaves': 138}. Best is trial 7 with value: 1.0310560704291796.\u001b[0m\n",
      "num_leaves, val_score: 1.031056:  20%|##        | 4/20 [00:01<00:06,  2.48it/s]"
     ]
    },
    {
     "name": "stdout",
     "output_type": "stream",
     "text": [
      "Early stopping, best iteration is:\n",
      "[92]\ttrain's rmse: 1.06118\teval's rmse: 1.03106\n",
      "Training until validation scores don't improve for 100 rounds\n"
     ]
    },
    {
     "name": "stderr",
     "output_type": "stream",
     "text": [
      "\r",
      "num_leaves, val_score: 1.031056:  20%|##        | 4/20 [00:02<00:06,  2.48it/s]"
     ]
    },
    {
     "name": "stdout",
     "output_type": "stream",
     "text": [
      "[100]\ttrain's rmse: 1.04595\teval's rmse: 1.04336\n",
      "Early stopping, best iteration is:\n",
      "[92]\ttrain's rmse: 1.06118\teval's rmse: 1.03106\n"
     ]
    },
    {
     "name": "stderr",
     "output_type": "stream",
     "text": [
      "num_leaves, val_score: 1.031056:  25%|##5       | 5/20 [00:02<00:06,  2.50it/s]\u001b[32m[I 2021-06-22 14:14:50,433]\u001b[0m Trial 11 finished with value: 1.0310560704291796 and parameters: {'num_leaves': 142}. Best is trial 7 with value: 1.0310560704291796.\u001b[0m\n",
      "num_leaves, val_score: 1.031056:  25%|##5       | 5/20 [00:02<00:06,  2.50it/s]"
     ]
    },
    {
     "name": "stdout",
     "output_type": "stream",
     "text": [
      "Training until validation scores don't improve for 100 rounds\n",
      "[100]\ttrain's rmse: 1.04595\teval's rmse: 1.04336\n"
     ]
    },
    {
     "name": "stderr",
     "output_type": "stream",
     "text": [
      "num_leaves, val_score: 1.031056:  30%|###       | 6/20 [00:02<00:05,  2.56it/s]\u001b[32m[I 2021-06-22 14:14:50,807]\u001b[0m Trial 12 finished with value: 1.0310560704291796 and parameters: {'num_leaves': 251}. Best is trial 7 with value: 1.0310560704291796.\u001b[0m\n",
      "num_leaves, val_score: 1.031056:  30%|###       | 6/20 [00:02<00:05,  2.56it/s]"
     ]
    },
    {
     "name": "stdout",
     "output_type": "stream",
     "text": [
      "Early stopping, best iteration is:\n",
      "[92]\ttrain's rmse: 1.06118\teval's rmse: 1.03106\n",
      "Training until validation scores don't improve for 100 rounds\n",
      "[100]\ttrain's rmse: 1.04595\teval's rmse: 1.04336\n"
     ]
    },
    {
     "name": "stderr",
     "output_type": "stream",
     "text": [
      "num_leaves, val_score: 1.031056:  35%|###5      | 7/20 [00:02<00:04,  2.64it/s]\u001b[32m[I 2021-06-22 14:14:51,171]\u001b[0m Trial 13 finished with value: 1.0310560704291796 and parameters: {'num_leaves': 115}. Best is trial 7 with value: 1.0310560704291796.\u001b[0m\n",
      "num_leaves, val_score: 1.031056:  35%|###5      | 7/20 [00:02<00:04,  2.64it/s]"
     ]
    },
    {
     "name": "stdout",
     "output_type": "stream",
     "text": [
      "Early stopping, best iteration is:\n",
      "[92]\ttrain's rmse: 1.06118\teval's rmse: 1.03106\n",
      "Training until validation scores don't improve for 100 rounds\n"
     ]
    },
    {
     "name": "stderr",
     "output_type": "stream",
     "text": [
      "\r",
      "num_leaves, val_score: 1.031056:  35%|###5      | 7/20 [00:03<00:04,  2.64it/s]"
     ]
    },
    {
     "name": "stdout",
     "output_type": "stream",
     "text": [
      "[100]\ttrain's rmse: 1.04595\teval's rmse: 1.04336\n",
      "Early stopping, best iteration is:\n",
      "[92]\ttrain's rmse: 1.06118\teval's rmse: 1.03106\n"
     ]
    },
    {
     "name": "stderr",
     "output_type": "stream",
     "text": [
      "num_leaves, val_score: 1.031056:  40%|####      | 8/20 [00:03<00:04,  2.44it/s]\u001b[32m[I 2021-06-22 14:14:51,642]\u001b[0m Trial 14 finished with value: 1.0310560704291796 and parameters: {'num_leaves': 199}. Best is trial 7 with value: 1.0310560704291796.\u001b[0m\n",
      "num_leaves, val_score: 1.031056:  40%|####      | 8/20 [00:03<00:04,  2.44it/s]"
     ]
    },
    {
     "name": "stdout",
     "output_type": "stream",
     "text": [
      "Training until validation scores don't improve for 100 rounds\n",
      "[100]\ttrain's rmse: 1.04595\teval's rmse: 1.04336\n"
     ]
    },
    {
     "name": "stderr",
     "output_type": "stream",
     "text": [
      "num_leaves, val_score: 1.031056:  45%|####5     | 9/20 [00:03<00:04,  2.56it/s]\u001b[32m[I 2021-06-22 14:14:51,995]\u001b[0m Trial 15 finished with value: 1.0310560704291796 and parameters: {'num_leaves': 95}. Best is trial 7 with value: 1.0310560704291796.\u001b[0m\n",
      "num_leaves, val_score: 1.031056:  45%|####5     | 9/20 [00:03<00:04,  2.56it/s]"
     ]
    },
    {
     "name": "stdout",
     "output_type": "stream",
     "text": [
      "Early stopping, best iteration is:\n",
      "[92]\ttrain's rmse: 1.06118\teval's rmse: 1.03106\n",
      "Training until validation scores don't improve for 100 rounds\n",
      "[100]\ttrain's rmse: 1.04595\teval's rmse: 1.04336\n"
     ]
    },
    {
     "name": "stderr",
     "output_type": "stream",
     "text": [
      "num_leaves, val_score: 1.031056:  50%|####5    | 10/20 [00:03<00:03,  2.59it/s]\u001b[32m[I 2021-06-22 14:14:52,361]\u001b[0m Trial 16 finished with value: 1.0310560704291796 and parameters: {'num_leaves': 159}. Best is trial 7 with value: 1.0310560704291796.\u001b[0m\n",
      "num_leaves, val_score: 1.031056:  50%|####5    | 10/20 [00:03<00:03,  2.59it/s]"
     ]
    },
    {
     "name": "stdout",
     "output_type": "stream",
     "text": [
      "Early stopping, best iteration is:\n",
      "[92]\ttrain's rmse: 1.06118\teval's rmse: 1.03106\n",
      "Training until validation scores don't improve for 100 rounds\n",
      "[100]\ttrain's rmse: 1.05721\teval's rmse: 1.05644\n"
     ]
    },
    {
     "name": "stderr",
     "output_type": "stream",
     "text": [
      "num_leaves, val_score: 1.031056:  55%|####9    | 11/20 [00:04<00:03,  2.85it/s]\u001b[32m[I 2021-06-22 14:14:52,633]\u001b[0m Trial 17 finished with value: 1.0424732833455055 and parameters: {'num_leaves': 25}. Best is trial 7 with value: 1.0310560704291796.\u001b[0m\n",
      "num_leaves, val_score: 1.031056:  55%|####9    | 11/20 [00:04<00:03,  2.85it/s]"
     ]
    },
    {
     "name": "stdout",
     "output_type": "stream",
     "text": [
      "Early stopping, best iteration is:\n",
      "[92]\ttrain's rmse: 1.07131\teval's rmse: 1.04247\n",
      "Training until validation scores don't improve for 100 rounds\n"
     ]
    },
    {
     "name": "stderr",
     "output_type": "stream",
     "text": [
      "num_leaves, val_score: 1.031056:  60%|#####3   | 12/20 [00:04<00:02,  2.84it/s]\u001b[32m[I 2021-06-22 14:14:52,987]\u001b[0m Trial 18 finished with value: 1.0310560704291796 and parameters: {'num_leaves': 64}. Best is trial 7 with value: 1.0310560704291796.\u001b[0m\n",
      "num_leaves, val_score: 1.031056:  60%|#####3   | 12/20 [00:04<00:02,  2.84it/s]"
     ]
    },
    {
     "name": "stdout",
     "output_type": "stream",
     "text": [
      "[100]\ttrain's rmse: 1.04595\teval's rmse: 1.04336\n",
      "Early stopping, best iteration is:\n",
      "[92]\ttrain's rmse: 1.06118\teval's rmse: 1.03106\n",
      "Training until validation scores don't improve for 100 rounds\n",
      "[100]\ttrain's rmse: 1.04595\teval's rmse: 1.04336\n"
     ]
    },
    {
     "name": "stderr",
     "output_type": "stream",
     "text": [
      "num_leaves, val_score: 1.031056:  65%|#####8   | 13/20 [00:05<00:02,  2.61it/s]\u001b[32m[I 2021-06-22 14:14:53,442]\u001b[0m Trial 19 finished with value: 1.0310560704291796 and parameters: {'num_leaves': 232}. Best is trial 7 with value: 1.0310560704291796.\u001b[0m\n",
      "num_leaves, val_score: 1.031056:  65%|#####8   | 13/20 [00:05<00:02,  2.61it/s]"
     ]
    },
    {
     "name": "stdout",
     "output_type": "stream",
     "text": [
      "Early stopping, best iteration is:\n",
      "[92]\ttrain's rmse: 1.06118\teval's rmse: 1.03106\n",
      "Training until validation scores don't improve for 100 rounds\n",
      "[100]\ttrain's rmse: 1.07856\teval's rmse: 1.05303\n"
     ]
    },
    {
     "name": "stderr",
     "output_type": "stream",
     "text": [
      "num_leaves, val_score: 1.031056:  70%|######3  | 14/20 [00:05<00:02,  2.96it/s]\u001b[32m[I 2021-06-22 14:14:53,685]\u001b[0m Trial 20 finished with value: 1.0393235251479886 and parameters: {'num_leaves': 15}. Best is trial 7 with value: 1.0310560704291796.\u001b[0m\n",
      "num_leaves, val_score: 1.031056:  70%|######3  | 14/20 [00:05<00:02,  2.96it/s]"
     ]
    },
    {
     "name": "stdout",
     "output_type": "stream",
     "text": [
      "Early stopping, best iteration is:\n",
      "[91]\ttrain's rmse: 1.09468\teval's rmse: 1.03932\n",
      "Training until validation scores don't improve for 100 rounds\n",
      "[100]\ttrain's rmse: 1.04595\teval's rmse: 1.04336"
     ]
    },
    {
     "name": "stderr",
     "output_type": "stream",
     "text": [
      "\r",
      "num_leaves, val_score: 1.031056:  70%|######3  | 14/20 [00:05<00:02,  2.96it/s]"
     ]
    },
    {
     "name": "stdout",
     "output_type": "stream",
     "text": [
      "\n",
      "Early stopping, best iteration is:\n",
      "[92]\ttrain's rmse: 1.06118\teval's rmse: 1.03106\n"
     ]
    },
    {
     "name": "stderr",
     "output_type": "stream",
     "text": [
      "num_leaves, val_score: 1.031056:  75%|######7  | 15/20 [00:05<00:01,  2.80it/s]\u001b[32m[I 2021-06-22 14:14:54,080]\u001b[0m Trial 21 finished with value: 1.0310560704291796 and parameters: {'num_leaves': 79}. Best is trial 7 with value: 1.0310560704291796.\u001b[0m\n",
      "num_leaves, val_score: 1.031056:  75%|######7  | 15/20 [00:05<00:01,  2.80it/s]"
     ]
    },
    {
     "name": "stdout",
     "output_type": "stream",
     "text": [
      "Training until validation scores don't improve for 100 rounds\n",
      "[100]\ttrain's rmse: 1.04595\teval's rmse: 1.04336\n"
     ]
    },
    {
     "name": "stderr",
     "output_type": "stream",
     "text": [
      "num_leaves, val_score: 1.031056:  80%|#######2 | 16/20 [00:06<00:01,  2.71it/s]\u001b[32m[I 2021-06-22 14:14:54,483]\u001b[0m Trial 22 finished with value: 1.0310560704291796 and parameters: {'num_leaves': 199}. Best is trial 7 with value: 1.0310560704291796.\u001b[0m\n",
      "num_leaves, val_score: 1.031056:  80%|#######2 | 16/20 [00:06<00:01,  2.71it/s]"
     ]
    },
    {
     "name": "stdout",
     "output_type": "stream",
     "text": [
      "Early stopping, best iteration is:\n",
      "[92]\ttrain's rmse: 1.06118\teval's rmse: 1.03106\n",
      "Training until validation scores don't improve for 100 rounds\n"
     ]
    },
    {
     "name": "stderr",
     "output_type": "stream",
     "text": [
      "num_leaves, val_score: 1.030829:  85%|#######6 | 17/20 [00:06<00:01,  2.67it/s]\u001b[32m[I 2021-06-22 14:14:54,859]\u001b[0m Trial 23 finished with value: 1.030829008697612 and parameters: {'num_leaves': 49}. Best is trial 23 with value: 1.030829008697612.\u001b[0m\n",
      "num_leaves, val_score: 1.030829:  85%|#######6 | 17/20 [00:06<00:01,  2.67it/s]"
     ]
    },
    {
     "name": "stdout",
     "output_type": "stream",
     "text": [
      "[100]\ttrain's rmse: 1.04835\teval's rmse: 1.04677\n",
      "Early stopping, best iteration is:\n",
      "[92]\ttrain's rmse: 1.06317\teval's rmse: 1.03083\n",
      "Training until validation scores don't improve for 100 rounds\n",
      "[100]\ttrain's rmse: 1.04595\teval's rmse: 1.04336\n"
     ]
    },
    {
     "name": "stderr",
     "output_type": "stream",
     "text": [
      "num_leaves, val_score: 1.030829:  90%|########1| 18/20 [00:06<00:00,  2.51it/s]\u001b[32m[I 2021-06-22 14:14:55,323]\u001b[0m Trial 24 finished with value: 1.0310560704291796 and parameters: {'num_leaves': 60}. Best is trial 23 with value: 1.030829008697612.\u001b[0m\n",
      "num_leaves, val_score: 1.030829:  90%|########1| 18/20 [00:06<00:00,  2.51it/s]"
     ]
    },
    {
     "name": "stdout",
     "output_type": "stream",
     "text": [
      "Early stopping, best iteration is:\n",
      "[92]\ttrain's rmse: 1.06118\teval's rmse: 1.03106\n",
      "Training until validation scores don't improve for 100 rounds\n"
     ]
    },
    {
     "name": "stderr",
     "output_type": "stream",
     "text": [
      "\r",
      "num_leaves, val_score: 1.030829:  90%|########1| 18/20 [00:07<00:00,  2.51it/s]"
     ]
    },
    {
     "name": "stdout",
     "output_type": "stream",
     "text": [
      "[100]\ttrain's rmse: 1.04595\teval's rmse: 1.04336\n",
      "Early stopping, best iteration is:\n",
      "[92]\ttrain's rmse: 1.06118\teval's rmse: 1.03106\n"
     ]
    },
    {
     "name": "stderr",
     "output_type": "stream",
     "text": [
      "num_leaves, val_score: 1.030829:  95%|########5| 19/20 [00:07<00:00,  2.43it/s]\u001b[32m[I 2021-06-22 14:14:55,759]\u001b[0m Trial 25 finished with value: 1.0310560704291796 and parameters: {'num_leaves': 200}. Best is trial 23 with value: 1.030829008697612.\u001b[0m\n",
      "num_leaves, val_score: 1.005708: 100%|#########| 20/20 [00:07<00:00,  2.92it/s]\u001b[32m[I 2021-06-22 14:14:55,941]\u001b[0m Trial 26 finished with value: 1.0057083996778549 and parameters: {'num_leaves': 4}. Best is trial 26 with value: 1.0057083996778549.\u001b[0m\n",
      "num_leaves, val_score: 1.005708: 100%|#########| 20/20 [00:07<00:00,  2.65it/s]\n",
      "bagging, val_score: 1.005708:   0%|                     | 0/10 [00:00<?, ?it/s]"
     ]
    },
    {
     "name": "stdout",
     "output_type": "stream",
     "text": [
      "Training until validation scores don't improve for 100 rounds\n",
      "[100]\ttrain's rmse: 1.14183\teval's rmse: 1.04122\n",
      "[200]\ttrain's rmse: 1.05724\teval's rmse: 1.01492\n",
      "[300]\ttrain's rmse: 1.03623\teval's rmse: 1.02071\n",
      "Early stopping, best iteration is:\n",
      "[209]\ttrain's rmse: 1.05471\teval's rmse: 1.00571\n",
      "Training until validation scores don't improve for 100 rounds\n"
     ]
    },
    {
     "name": "stderr",
     "output_type": "stream",
     "text": [
      "bagging, val_score: 0.960668:  10%|#3           | 1/10 [00:00<00:01,  5.78it/s]\u001b[32m[I 2021-06-22 14:14:56,124]\u001b[0m Trial 27 finished with value: 0.9606680342470694 and parameters: {'bagging_fraction': 0.8603311826059648, 'bagging_freq': 1}. Best is trial 27 with value: 0.9606680342470694.\u001b[0m\n",
      "bagging, val_score: 0.960668:  10%|#3           | 1/10 [00:00<00:01,  5.78it/s]"
     ]
    },
    {
     "name": "stdout",
     "output_type": "stream",
     "text": [
      "[100]\ttrain's rmse: 1.12809\teval's rmse: 0.993996\n",
      "[200]\ttrain's rmse: 1.03808\teval's rmse: 0.969948\n",
      "Early stopping, best iteration is:\n",
      "[132]\ttrain's rmse: 1.07168\teval's rmse: 0.960668\n",
      "Training until validation scores don't improve for 100 rounds\n",
      "[100]\ttrain's rmse: 1.37625\teval's rmse: 1.39418\n",
      "[200]\ttrain's rmse: 1.26424\teval's rmse: 1.37027\n"
     ]
    },
    {
     "name": "stderr",
     "output_type": "stream",
     "text": [
      "bagging, val_score: 0.960668:  20%|##6          | 2/10 [00:00<00:01,  5.61it/s]\u001b[32m[I 2021-06-22 14:14:56,306]\u001b[0m Trial 28 finished with value: 1.3631787107914404 and parameters: {'bagging_fraction': 0.5270816145349737, 'bagging_freq': 5}. Best is trial 27 with value: 0.9606680342470694.\u001b[0m\n",
      "bagging, val_score: 0.960668:  20%|##6          | 2/10 [00:00<00:01,  5.61it/s]"
     ]
    },
    {
     "name": "stdout",
     "output_type": "stream",
     "text": [
      "[300]\ttrain's rmse: 1.22663\teval's rmse: 1.37464\n",
      "Early stopping, best iteration is:\n",
      "[210]\ttrain's rmse: 1.26402\teval's rmse: 1.36318\n",
      "Training until validation scores don't improve for 100 rounds\n",
      "[100]\ttrain's rmse: 1.28484\teval's rmse: 1.31158\n",
      "[200]\ttrain's rmse: 1.18247\teval's rmse: 1.30108\n",
      "Early stopping, best iteration is:\n",
      "[190]\ttrain's rmse: 1.18898\teval's rmse: 1.29773\n"
     ]
    },
    {
     "name": "stderr",
     "output_type": "stream",
     "text": [
      "bagging, val_score: 0.960668:  30%|###9         | 3/10 [00:00<00:01,  5.70it/s]\u001b[32m[I 2021-06-22 14:14:56,478]\u001b[0m Trial 29 finished with value: 1.2977345710215809 and parameters: {'bagging_fraction': 0.600851835542157, 'bagging_freq': 2}. Best is trial 27 with value: 0.9606680342470694.\u001b[0m\n",
      "bagging, val_score: 0.940323:  40%|#####2       | 4/10 [00:00<00:00,  6.04it/s]\u001b[32m[I 2021-06-22 14:14:56,633]\u001b[0m Trial 30 finished with value: 0.9403226002197995 and parameters: {'bagging_fraction': 0.9931967208444907, 'bagging_freq': 1}. Best is trial 30 with value: 0.9403226002197995.\u001b[0m\n",
      "bagging, val_score: 0.940323:  40%|#####2       | 4/10 [00:00<00:00,  6.04it/s]"
     ]
    },
    {
     "name": "stdout",
     "output_type": "stream",
     "text": [
      "Training until validation scores don't improve for 100 rounds\n",
      "[100]\ttrain's rmse: 1.11345\teval's rmse: 0.972362\n",
      "[200]\ttrain's rmse: 1.0343\teval's rmse: 0.954866\n",
      "Early stopping, best iteration is:\n",
      "[122]\ttrain's rmse: 1.07018\teval's rmse: 0.940323\n",
      "Training until validation scores don't improve for 100 rounds\n",
      "[100]\ttrain's rmse: 1.23787\teval's rmse: 1.28571\n"
     ]
    },
    {
     "name": "stderr",
     "output_type": "stream",
     "text": [
      "bagging, val_score: 0.940323:  50%|######5      | 5/10 [00:00<00:00,  6.02it/s]\u001b[32m[I 2021-06-22 14:14:56,799]\u001b[0m Trial 31 finished with value: 1.2651502207536154 and parameters: {'bagging_fraction': 0.6773244320297443, 'bagging_freq': 7}. Best is trial 30 with value: 0.9403226002197995.\u001b[0m\n",
      "bagging, val_score: 0.940323:  50%|######5      | 5/10 [00:00<00:00,  6.02it/s]"
     ]
    },
    {
     "name": "stdout",
     "output_type": "stream",
     "text": [
      "[200]\ttrain's rmse: 1.15265\teval's rmse: 1.33803\n",
      "Early stopping, best iteration is:\n",
      "[126]\ttrain's rmse: 1.2032\teval's rmse: 1.26515\n",
      "Training until validation scores don't improve for 100 rounds\n",
      "[100]\ttrain's rmse: 1.57431\teval's rmse: 1.65207\n",
      "[200]\ttrain's rmse: 1.40462\teval's rmse: 1.61708\n",
      "[300]\ttrain's rmse: 1.31881\teval's rmse: 1.59564\n"
     ]
    },
    {
     "name": "stderr",
     "output_type": "stream",
     "text": [
      "bagging, val_score: 0.940323:  60%|#######8     | 6/10 [00:01<00:00,  4.46it/s]\u001b[32m[I 2021-06-22 14:14:57,141]\u001b[0m Trial 32 finished with value: 1.5419076721790936 and parameters: {'bagging_fraction': 0.4304252979643762, 'bagging_freq': 1}. Best is trial 30 with value: 0.9403226002197995.\u001b[0m\n",
      "bagging, val_score: 0.940323:  60%|#######8     | 6/10 [00:01<00:00,  4.46it/s]"
     ]
    },
    {
     "name": "stdout",
     "output_type": "stream",
     "text": [
      "[400]\ttrain's rmse: 1.25794\teval's rmse: 1.57112\n",
      "[500]\ttrain's rmse: 1.22413\teval's rmse: 1.55302\n",
      "[600]\ttrain's rmse: 1.20102\teval's rmse: 1.54964\n",
      "Early stopping, best iteration is:\n",
      "[530]\ttrain's rmse: 1.21537\teval's rmse: 1.54191\n",
      "Training until validation scores don't improve for 100 rounds\n"
     ]
    },
    {
     "name": "stderr",
     "output_type": "stream",
     "text": [
      "bagging, val_score: 0.940323:  70%|#########1   | 7/10 [00:01<00:00,  4.75it/s]\u001b[32m[I 2021-06-22 14:14:57,315]\u001b[0m Trial 33 finished with value: 1.0538648938384356 and parameters: {'bagging_fraction': 0.8045078590020387, 'bagging_freq': 7}. Best is trial 30 with value: 0.9403226002197995.\u001b[0m\n",
      "bagging, val_score: 0.940323:  70%|#########1   | 7/10 [00:01<00:00,  4.75it/s]"
     ]
    },
    {
     "name": "stdout",
     "output_type": "stream",
     "text": [
      "[100]\ttrain's rmse: 1.15977\teval's rmse: 1.09609\n",
      "[200]\ttrain's rmse: 1.06141\teval's rmse: 1.06106\n",
      "Early stopping, best iteration is:\n",
      "[126]\ttrain's rmse: 1.1106\teval's rmse: 1.05386\n",
      "Training until validation scores don't improve for 100 rounds\n",
      "[100]\ttrain's rmse: 1.12481\teval's rmse: 0.989163\n"
     ]
    },
    {
     "name": "stderr",
     "output_type": "stream",
     "text": [
      "bagging, val_score: 0.940323:  80%|##########4  | 8/10 [00:01<00:00,  4.88it/s]\u001b[32m[I 2021-06-22 14:14:57,518]\u001b[0m Trial 34 finished with value: 0.9562639330274214 and parameters: {'bagging_fraction': 0.8653693344973641, 'bagging_freq': 2}. Best is trial 30 with value: 0.9403226002197995.\u001b[0m\n",
      "bagging, val_score: 0.940323:  90%|###########7 | 9/10 [00:01<00:00,  5.31it/s]\u001b[32m[I 2021-06-22 14:14:57,660]\u001b[0m Trial 35 finished with value: 1.419163714143466 and parameters: {'bagging_fraction': 0.5161433900637349, 'bagging_freq': 7}. Best is trial 30 with value: 0.9403226002197995.\u001b[0m\n",
      "bagging, val_score: 0.940323:  90%|###########7 | 9/10 [00:01<00:00,  5.31it/s]"
     ]
    },
    {
     "name": "stdout",
     "output_type": "stream",
     "text": [
      "[200]\ttrain's rmse: 1.04714\teval's rmse: 0.975204\n",
      "Early stopping, best iteration is:\n",
      "[144]\ttrain's rmse: 1.06459\teval's rmse: 0.956264\n",
      "Training until validation scores don't improve for 100 rounds\n",
      "[100]\ttrain's rmse: 1.43053\teval's rmse: 1.46574\n",
      "[200]\ttrain's rmse: 1.29649\teval's rmse: 1.45594\n",
      "Early stopping, best iteration is:\n",
      "[126]\ttrain's rmse: 1.38168\teval's rmse: 1.41916\n"
     ]
    },
    {
     "name": "stderr",
     "output_type": "stream",
     "text": [
      "bagging, val_score: 0.940323: 100%|############| 10/10 [00:01<00:00,  5.37it/s]\u001b[32m[I 2021-06-22 14:14:57,852]\u001b[0m Trial 36 finished with value: 1.3712799180578137 and parameters: {'bagging_fraction': 0.5049623567537701, 'bagging_freq': 4}. Best is trial 30 with value: 0.9403226002197995.\u001b[0m\n",
      "bagging, val_score: 0.940323: 100%|############| 10/10 [00:01<00:00,  5.26it/s]\n",
      "feature_fraction_stage2, val_score: 0.940323:   0%|      | 0/3 [00:00<?, ?it/s]"
     ]
    },
    {
     "name": "stdout",
     "output_type": "stream",
     "text": [
      "Training until validation scores don't improve for 100 rounds\n",
      "[100]\ttrain's rmse: 1.40293\teval's rmse: 1.41466\n",
      "[200]\ttrain's rmse: 1.29759\teval's rmse: 1.39557\n",
      "[300]\ttrain's rmse: 1.2335\teval's rmse: 1.40179\n",
      "Early stopping, best iteration is:\n",
      "[247]\ttrain's rmse: 1.25813\teval's rmse: 1.37128\n",
      "Training until validation scores don't improve for 100 rounds\n"
     ]
    },
    {
     "name": "stderr",
     "output_type": "stream",
     "text": [
      "feature_fraction_stage2, val_score: 0.940323:  33%|3| 1/3 [00:00<00:00,  4.29it\u001b[32m[I 2021-06-22 14:14:58,095]\u001b[0m Trial 37 finished with value: 1.0184765995638156 and parameters: {'feature_fraction': 0.9520000000000001}. Best is trial 37 with value: 1.0184765995638156.\u001b[0m\n",
      "feature_fraction_stage2, val_score: 0.940323:  33%|3| 1/3 [00:00<00:00,  4.29it"
     ]
    },
    {
     "name": "stdout",
     "output_type": "stream",
     "text": [
      "[100]\ttrain's rmse: 1.26818\teval's rmse: 1.17535\n",
      "[200]\ttrain's rmse: 1.09735\teval's rmse: 1.03317\n",
      "[300]\ttrain's rmse: 1.04971\teval's rmse: 1.0214\n",
      "[400]\ttrain's rmse: 1.02278\teval's rmse: 1.02861\n",
      "Early stopping, best iteration is:\n",
      "[307]\ttrain's rmse: 1.04746\teval's rmse: 1.01848\n",
      "Training until validation scores don't improve for 100 rounds\n"
     ]
    },
    {
     "name": "stderr",
     "output_type": "stream",
     "text": [
      "feature_fraction_stage2, val_score: 0.940323:  67%|6| 2/3 [00:00<00:00,  4.27it\u001b[32m[I 2021-06-22 14:14:58,327]\u001b[0m Trial 38 finished with value: 1.0301884241523238 and parameters: {'feature_fraction': 0.92}. Best is trial 37 with value: 1.0184765995638156.\u001b[0m\n"
     ]
    },
    {
     "name": "stdout",
     "output_type": "stream",
     "text": [
      "[100]\ttrain's rmse: 1.29173\teval's rmse: 1.21059\n",
      "[200]\ttrain's rmse: 1.108\teval's rmse: 1.04881\n",
      "[300]\ttrain's rmse: 1.05624\teval's rmse: 1.03152\n",
      "[400]\ttrain's rmse: 1.02734\teval's rmse: 1.03277\n",
      "Early stopping, best iteration is:\n",
      "[324]\ttrain's rmse: 1.04745\teval's rmse: 1.03019\n"
     ]
    },
    {
     "name": "stderr",
     "output_type": "stream",
     "text": [
      "feature_fraction_stage2, val_score: 0.940323: 100%|#| 3/3 [00:00<00:00,  4.97it\u001b[32m[I 2021-06-22 14:14:58,489]\u001b[0m Trial 39 finished with value: 0.9766026681364548 and parameters: {'feature_fraction': 0.9840000000000001}. Best is trial 39 with value: 0.9766026681364548.\u001b[0m\n",
      "feature_fraction_stage2, val_score: 0.940323: 100%|#| 3/3 [00:00<00:00,  4.76it\n",
      "regularization_factors, val_score: 0.940323:   0%|      | 0/20 [00:00<?, ?it/s]"
     ]
    },
    {
     "name": "stdout",
     "output_type": "stream",
     "text": [
      "Training until validation scores don't improve for 100 rounds\n",
      "[100]\ttrain's rmse: 1.16049\teval's rmse: 1.0398\n",
      "[200]\ttrain's rmse: 1.05494\teval's rmse: 0.97834\n",
      "Early stopping, best iteration is:\n",
      "[190]\ttrain's rmse: 1.05914\teval's rmse: 0.976603\n",
      "Training until validation scores don't improve for 100 rounds\n"
     ]
    },
    {
     "name": "stderr",
     "output_type": "stream",
     "text": [
      "regularization_factors, val_score: 0.936538:   5%| | 1/20 [00:00<00:03,  5.81it\u001b[32m[I 2021-06-22 14:14:58,682]\u001b[0m Trial 40 finished with value: 0.9365383916954305 and parameters: {'lambda_l1': 0.0008246607870535943, 'lambda_l2': 5.575275140213245}. Best is trial 40 with value: 0.9365383916954305.\u001b[0m\n",
      "regularization_factors, val_score: 0.936538:   5%| | 1/20 [00:00<00:03,  5.81it"
     ]
    },
    {
     "name": "stdout",
     "output_type": "stream",
     "text": [
      "[100]\ttrain's rmse: 1.15622\teval's rmse: 1.01539\n",
      "[200]\ttrain's rmse: 1.04258\teval's rmse: 0.948294\n",
      "Early stopping, best iteration is:\n",
      "[140]\ttrain's rmse: 1.0674\teval's rmse: 0.936538\n",
      "Training until validation scores don't improve for 100 rounds\n",
      "[100]\ttrain's rmse: 1.11353\teval's rmse: 0.970072\n",
      "[200]\ttrain's rmse: 1.0333\teval's rmse: 0.956297\n"
     ]
    },
    {
     "name": "stderr",
     "output_type": "stream",
     "text": [
      "regularization_factors, val_score: 0.936538:  10%|1| 2/20 [00:00<00:02,  6.23it\u001b[32m[I 2021-06-22 14:14:58,832]\u001b[0m Trial 41 finished with value: 0.9393478949843187 and parameters: {'lambda_l1': 0.21745975724731825, 'lambda_l2': 2.67889068221539e-06}. Best is trial 40 with value: 0.9365383916954305.\u001b[0m\n",
      "regularization_factors, val_score: 0.936538:  15%|1| 3/20 [00:00<00:02,  6.39it\u001b[32m[I 2021-06-22 14:14:58,986]\u001b[0m Trial 42 finished with value: 0.9407394126655209 and parameters: {'lambda_l1': 2.8115892519749655, 'lambda_l2': 0.21847700038547774}. Best is trial 40 with value: 0.9365383916954305.\u001b[0m\n",
      "regularization_factors, val_score: 0.936538:  15%|1| 3/20 [00:00<00:02,  6.39it"
     ]
    },
    {
     "name": "stdout",
     "output_type": "stream",
     "text": [
      "Early stopping, best iteration is:\n",
      "[122]\ttrain's rmse: 1.07022\teval's rmse: 0.939348\n",
      "Training until validation scores don't improve for 100 rounds\n",
      "[100]\ttrain's rmse: 1.12023\teval's rmse: 0.978215\n",
      "[200]\ttrain's rmse: 1.04004\teval's rmse: 0.95503\n",
      "Early stopping, best iteration is:\n",
      "[133]\ttrain's rmse: 1.06529\teval's rmse: 0.940739\n"
     ]
    },
    {
     "name": "stderr",
     "output_type": "stream",
     "text": [
      "regularization_factors, val_score: 0.936538:  20%|2| 4/20 [00:00<00:02,  6.31it\u001b[32m[I 2021-06-22 14:14:59,137]\u001b[0m Trial 43 finished with value: 0.9373507972049645 and parameters: {'lambda_l1': 0.011491509162284932, 'lambda_l2': 0.298241770434667}. Best is trial 40 with value: 0.9365383916954305.\u001b[0m\n",
      "regularization_factors, val_score: 0.936538:  20%|2| 4/20 [00:00<00:02,  6.31it"
     ]
    },
    {
     "name": "stdout",
     "output_type": "stream",
     "text": [
      "Training until validation scores don't improve for 100 rounds\n",
      "[100]\ttrain's rmse: 1.11628\teval's rmse: 0.971104\n",
      "[200]\ttrain's rmse: 1.03489\teval's rmse: 0.954643\n",
      "Early stopping, best iteration is:\n",
      "[127]\ttrain's rmse: 1.06614\teval's rmse: 0.937351\n",
      "Training until validation scores don't improve for 100 rounds\n",
      "[100]\ttrain's rmse: 1.11479\teval's rmse: 0.970194\n"
     ]
    },
    {
     "name": "stderr",
     "output_type": "stream",
     "text": [
      "regularization_factors, val_score: 0.936538:  25%|2| 5/20 [00:00<00:02,  5.86it\u001b[32m[I 2021-06-22 14:14:59,330]\u001b[0m Trial 44 finished with value: 0.9384799490889989 and parameters: {'lambda_l1': 0.34285938712664726, 'lambda_l2': 0.0008910109293563208}. Best is trial 40 with value: 0.9365383916954305.\u001b[0m\n",
      "regularization_factors, val_score: 0.936538:  25%|2| 5/20 [00:00<00:02,  5.86it"
     ]
    },
    {
     "name": "stdout",
     "output_type": "stream",
     "text": [
      "[200]\ttrain's rmse: 1.03483\teval's rmse: 0.954936\n",
      "Early stopping, best iteration is:\n",
      "[131]\ttrain's rmse: 1.06359\teval's rmse: 0.93848\n",
      "Training until validation scores don't improve for 100 rounds\n",
      "[100]\ttrain's rmse: 1.14221\teval's rmse: 0.999898\n",
      "[200]\ttrain's rmse: 1.04994\teval's rmse: 0.945104\n",
      "Early stopping, best iteration is:\n",
      "[144]\ttrain's rmse: 1.06894\teval's rmse: 0.938807"
     ]
    },
    {
     "name": "stderr",
     "output_type": "stream",
     "text": [
      "regularization_factors, val_score: 0.936538:  30%|3| 6/20 [00:01<00:02,  5.61it\u001b[32m[I 2021-06-22 14:14:59,522]\u001b[0m Trial 45 finished with value: 0.9388071035019547 and parameters: {'lambda_l1': 7.1034101170231665, 'lambda_l2': 1.9823484443347916}. Best is trial 40 with value: 0.9365383916954305.\u001b[0m\n",
      "regularization_factors, val_score: 0.936538:  35%|3| 7/20 [00:01<00:02,  6.02it\u001b[32m[I 2021-06-22 14:14:59,674]\u001b[0m Trial 46 finished with value: 0.9393045766339575 and parameters: {'lambda_l1': 3.676824906028693, 'lambda_l2': 1.3931401051303425}. Best is trial 40 with value: 0.9365383916954305.\u001b[0m\n",
      "regularization_factors, val_score: 0.936538:  35%|3| 7/20 [00:01<00:02,  6.02it"
     ]
    },
    {
     "name": "stdout",
     "output_type": "stream",
     "text": [
      "\n",
      "Training until validation scores don't improve for 100 rounds\n",
      "[100]\ttrain's rmse: 1.13075\teval's rmse: 0.98663\n",
      "[200]\ttrain's rmse: 1.04361\teval's rmse: 0.950296\n",
      "Early stopping, best iteration is:\n",
      "[135]\ttrain's rmse: 1.06736\teval's rmse: 0.939305\n"
     ]
    },
    {
     "name": "stderr",
     "output_type": "stream",
     "text": [
      "regularization_factors, val_score: 0.936538:  40%|4| 8/20 [00:01<00:01,  6.07it\u001b[32m[I 2021-06-22 14:14:59,826]\u001b[0m Trial 47 finished with value: 0.9391747102950211 and parameters: {'lambda_l1': 7.208194885817232, 'lambda_l2': 1.6310601555145447e-06}. Best is trial 40 with value: 0.9365383916954305.\u001b[0m\n",
      "regularization_factors, val_score: 0.936538:  40%|4| 8/20 [00:01<00:01,  6.07it"
     ]
    },
    {
     "name": "stdout",
     "output_type": "stream",
     "text": [
      "Training until validation scores don't improve for 100 rounds\n",
      "[100]\ttrain's rmse: 1.1288\teval's rmse: 0.983304\n",
      "[200]\ttrain's rmse: 1.04663\teval's rmse: 0.946318\n",
      "Early stopping, best iteration is:\n",
      "[137]\ttrain's rmse: 1.06854\teval's rmse: 0.939175\n",
      "Training until validation scores don't improve for 100 rounds\n",
      "[100]\ttrain's rmse: 1.115\teval's rmse: 0.970517\n"
     ]
    },
    {
     "name": "stderr",
     "output_type": "stream",
     "text": [
      "regularization_factors, val_score: 0.936538:  45%|4| 9/20 [00:01<00:01,  6.13it\u001b[32m[I 2021-06-22 14:14:59,987]\u001b[0m Trial 48 finished with value: 0.9388200410036033 and parameters: {'lambda_l1': 0.48805398560519875, 'lambda_l2': 2.4732296799825227e-06}. Best is trial 40 with value: 0.9365383916954305.\u001b[0m\n",
      "regularization_factors, val_score: 0.936538:  45%|4| 9/20 [00:01<00:01,  6.13it"
     ]
    },
    {
     "name": "stdout",
     "output_type": "stream",
     "text": [
      "[200]\ttrain's rmse: 1.03544\teval's rmse: 0.954954\n",
      "Early stopping, best iteration is:\n",
      "[132]\ttrain's rmse: 1.06359\teval's rmse: 0.93882\n",
      "Training until validation scores don't improve for 100 rounds\n",
      "[100]\ttrain's rmse: 1.11366\teval's rmse: 0.968196\n",
      "[200]\ttrain's rmse: 1.03355\teval's rmse: 0.95422\n",
      "Early stopping, best iteration is:\n",
      "[127]\ttrain's rmse: 1.06675\teval's rmse: 0.93861"
     ]
    },
    {
     "name": "stderr",
     "output_type": "stream",
     "text": [
      "regularization_factors, val_score: 0.936538:  50%|5| 10/20 [00:01<00:01,  6.14i\u001b[32m[I 2021-06-22 14:15:00,150]\u001b[0m Trial 49 finished with value: 0.9386099993005786 and parameters: {'lambda_l1': 0.004797022496508632, 'lambda_l2': 0.025975464186336086}. Best is trial 40 with value: 0.9365383916954305.\u001b[0m\n",
      "regularization_factors, val_score: 0.936538:  55%|5| 11/20 [00:01<00:01,  6.24i\u001b[32m[I 2021-06-22 14:15:00,302]\u001b[0m Trial 50 finished with value: 0.9403226006931249 and parameters: {'lambda_l1': 7.720122716910661e-07, 'lambda_l2': 1.0862609190257282e-08}. Best is trial 40 with value: 0.9365383916954305.\u001b[0m\n",
      "regularization_factors, val_score: 0.936538:  55%|5| 11/20 [00:01<00:01,  6.24i"
     ]
    },
    {
     "name": "stdout",
     "output_type": "stream",
     "text": [
      "\n",
      "Training until validation scores don't improve for 100 rounds\n",
      "[100]\ttrain's rmse: 1.11345\teval's rmse: 0.972362\n",
      "[200]\ttrain's rmse: 1.0343\teval's rmse: 0.954866\n",
      "Early stopping, best iteration is:\n",
      "[122]\ttrain's rmse: 1.07018\teval's rmse: 0.940323\n"
     ]
    },
    {
     "name": "stderr",
     "output_type": "stream",
     "text": [
      "regularization_factors, val_score: 0.936538:  60%|6| 12/20 [00:02<00:01,  5.68i\u001b[32m[I 2021-06-22 14:15:00,523]\u001b[0m Trial 51 finished with value: 0.9377522507662772 and parameters: {'lambda_l1': 9.442981754591336e-05, 'lambda_l2': 7.644732982099187}. Best is trial 40 with value: 0.9365383916954305.\u001b[0m\n",
      "regularization_factors, val_score: 0.936538:  60%|6| 12/20 [00:02<00:01,  5.68i"
     ]
    },
    {
     "name": "stdout",
     "output_type": "stream",
     "text": [
      "Training until validation scores don't improve for 100 rounds\n",
      "[100]\ttrain's rmse: 1.17634\teval's rmse: 1.04458\n",
      "[200]\ttrain's rmse: 1.04412\teval's rmse: 0.948799\n",
      "Early stopping, best iteration is:\n",
      "[149]\ttrain's rmse: 1.06507\teval's rmse: 0.937752\n"
     ]
    },
    {
     "name": "stderr",
     "output_type": "stream",
     "text": [
      "regularization_factors, val_score: 0.936538:  65%|6| 13/20 [00:02<00:01,  5.52i\u001b[32m[I 2021-06-22 14:15:00,707]\u001b[0m Trial 52 finished with value: 0.9392341389774265 and parameters: {'lambda_l1': 0.0007937784001738148, 'lambda_l2': 0.014914667305198857}. Best is trial 40 with value: 0.9365383916954305.\u001b[0m\n",
      "regularization_factors, val_score: 0.936538:  65%|6| 13/20 [00:02<00:01,  5.52i"
     ]
    },
    {
     "name": "stdout",
     "output_type": "stream",
     "text": [
      "Training until validation scores don't improve for 100 rounds\n",
      "[100]\ttrain's rmse: 1.11372\teval's rmse: 0.972501\n",
      "[200]\ttrain's rmse: 1.03411\teval's rmse: 0.95528\n",
      "Early stopping, best iteration is:\n",
      "[121]\ttrain's rmse: 1.07131\teval's rmse: 0.939234\n",
      "Training until validation scores don't improve for 100 rounds\n"
     ]
    },
    {
     "name": "stderr",
     "output_type": "stream",
     "text": [
      "regularization_factors, val_score: 0.935427:  70%|7| 14/20 [00:02<00:01,  5.42i\u001b[32m[I 2021-06-22 14:15:00,900]\u001b[0m Trial 53 finished with value: 0.9354268493499474 and parameters: {'lambda_l1': 1.550123354542972e-05, 'lambda_l2': 9.01379033575314}. Best is trial 53 with value: 0.9354268493499474.\u001b[0m\n",
      "regularization_factors, val_score: 0.935427:  70%|7| 14/20 [00:02<00:01,  5.42i"
     ]
    },
    {
     "name": "stdout",
     "output_type": "stream",
     "text": [
      "[100]\ttrain's rmse: 1.19154\teval's rmse: 1.05968\n",
      "[200]\ttrain's rmse: 1.04568\teval's rmse: 0.945639\n",
      "Early stopping, best iteration is:\n",
      "[149]\ttrain's rmse: 1.06835\teval's rmse: 0.935427\n",
      "Training until validation scores don't improve for 100 rounds\n",
      "[100]\ttrain's rmse: 1.18934\teval's rmse: 1.0589\n"
     ]
    },
    {
     "name": "stderr",
     "output_type": "stream",
     "text": [
      "regularization_factors, val_score: 0.935427:  75%|7| 15/20 [00:02<00:00,  5.45i\u001b[32m[I 2021-06-22 14:15:01,082]\u001b[0m Trial 54 finished with value: 0.9378481514261459 and parameters: {'lambda_l1': 9.142227014607626e-06, 'lambda_l2': 8.818982838281833}. Best is trial 53 with value: 0.9354268493499474.\u001b[0m\n",
      "regularization_factors, val_score: 0.935427:  75%|7| 15/20 [00:02<00:00,  5.45i"
     ]
    },
    {
     "name": "stdout",
     "output_type": "stream",
     "text": [
      "[200]\ttrain's rmse: 1.04533\teval's rmse: 0.948623\n",
      "Early stopping, best iteration is:\n",
      "[161]\ttrain's rmse: 1.05934\teval's rmse: 0.937848\n",
      "Training until validation scores don't improve for 100 rounds\n",
      "[100]\ttrain's rmse: 1.11345\teval's rmse: 0.972368\n",
      "[200]\ttrain's rmse: 1.0343\teval's rmse: 0.954864\n"
     ]
    },
    {
     "name": "stderr",
     "output_type": "stream",
     "text": [
      "regularization_factors, val_score: 0.935427:  80%|8| 16/20 [00:02<00:00,  5.54i\u001b[32m[I 2021-06-22 14:15:01,254]\u001b[0m Trial 55 finished with value: 0.9403243589032227 and parameters: {'lambda_l1': 1.745112815610988e-08, 'lambda_l2': 0.0007006666677944922}. Best is trial 53 with value: 0.9354268493499474.\u001b[0m\n",
      "regularization_factors, val_score: 0.935427:  80%|8| 16/20 [00:02<00:00,  5.54i"
     ]
    },
    {
     "name": "stdout",
     "output_type": "stream",
     "text": [
      "Early stopping, best iteration is:\n",
      "[122]\ttrain's rmse: 1.07018\teval's rmse: 0.940324\n",
      "Training until validation scores don't improve for 100 rounds\n",
      "[100]\ttrain's rmse: 1.1137\teval's rmse: 0.972477\n",
      "[200]\ttrain's rmse: 1.03375\teval's rmse: 0.955975\n",
      "Early stopping, best iteration is:\n",
      "[121]\ttrain's rmse: 1.0713\teval's rmse: 0.939226\n"
     ]
    },
    {
     "name": "stderr",
     "output_type": "stream",
     "text": [
      "regularization_factors, val_score: 0.935427:  85%|8| 17/20 [00:02<00:00,  5.45i\u001b[32m[I 2021-06-22 14:15:01,446]\u001b[0m Trial 56 finished with value: 0.9392257555432161 and parameters: {'lambda_l1': 7.288596430101452e-07, 'lambda_l2': 0.012215711563124503}. Best is trial 53 with value: 0.9354268493499474.\u001b[0m\n",
      "regularization_factors, val_score: 0.935427:  85%|8| 17/20 [00:02<00:00,  5.45i"
     ]
    },
    {
     "name": "stdout",
     "output_type": "stream",
     "text": [
      "Training until validation scores don't improve for 100 rounds\n",
      "[100]\ttrain's rmse: 1.11345\teval's rmse: 0.972363\n",
      "[200]\ttrain's rmse: 1.0343\teval's rmse: 0.954865\n",
      "Early stopping, best iteration is:\n",
      "[122]\ttrain's rmse: 1.07018\teval's rmse: 0.940323\n"
     ]
    },
    {
     "name": "stderr",
     "output_type": "stream",
     "text": [
      "regularization_factors, val_score: 0.935427:  90%|9| 18/20 [00:03<00:00,  5.43i\u001b[32m[I 2021-06-22 14:15:01,635]\u001b[0m Trial 57 finished with value: 0.9403227251397535 and parameters: {'lambda_l1': 2.3506758198959486e-05, 'lambda_l2': 4.3899140019109684e-05}. Best is trial 53 with value: 0.9354268493499474.\u001b[0m\n",
      "regularization_factors, val_score: 0.935427:  95%|9| 19/20 [00:03<00:00,  5.52i\u001b[32m[I 2021-06-22 14:15:01,807]\u001b[0m Trial 58 finished with value: 0.940371623862734 and parameters: {'lambda_l1': 1.1471515890971456e-06, 'lambda_l2': 0.18976566835486272}. Best is trial 53 with value: 0.9354268493499474.\u001b[0m\n",
      "regularization_factors, val_score: 0.935427:  95%|9| 19/20 [00:03<00:00,  5.52i"
     ]
    },
    {
     "name": "stdout",
     "output_type": "stream",
     "text": [
      "Training until validation scores don't improve for 100 rounds\n",
      "[100]\ttrain's rmse: 1.11443\teval's rmse: 0.974914\n",
      "[200]\ttrain's rmse: 1.03297\teval's rmse: 0.957063\n",
      "Early stopping, best iteration is:\n",
      "[124]\ttrain's rmse: 1.06839\teval's rmse: 0.940372\n",
      "Training until validation scores don't improve for 100 rounds\n",
      "[100]\ttrain's rmse: 1.16597\teval's rmse: 1.02784"
     ]
    },
    {
     "name": "stderr",
     "output_type": "stream",
     "text": [
      "regularization_factors, val_score: 0.935427: 100%|#| 20/20 [00:03<00:00,  5.58i\u001b[32m[I 2021-06-22 14:15:01,987]\u001b[0m Trial 59 finished with value: 0.9374227526098498 and parameters: {'lambda_l1': 2.176875365658821e-08, 'lambda_l2': 6.6258434387453375}. Best is trial 53 with value: 0.9354268493499474.\u001b[0m\n",
      "regularization_factors, val_score: 0.935427: 100%|#| 20/20 [00:03<00:00,  5.73i\n",
      "min_data_in_leaf, val_score: 0.935427:   0%|             | 0/5 [00:00<?, ?it/s]"
     ]
    },
    {
     "name": "stdout",
     "output_type": "stream",
     "text": [
      "\n",
      "[200]\ttrain's rmse: 1.04295\teval's rmse: 0.950004\n",
      "Early stopping, best iteration is:\n",
      "[149]\ttrain's rmse: 1.06235\teval's rmse: 0.937423\n",
      "Training until validation scores don't improve for 100 rounds\n",
      "[100]\ttrain's rmse: 1.30848\teval's rmse: 1.306\n"
     ]
    },
    {
     "name": "stderr",
     "output_type": "stream",
     "text": [
      "min_data_in_leaf, val_score: 0.935427:  20%|#    | 1/5 [00:00<00:00,  6.59it/s]\u001b[32m[I 2021-06-22 14:15:02,151]\u001b[0m Trial 60 finished with value: 1.285348997101183 and parameters: {'min_child_samples': 25}. Best is trial 60 with value: 1.285348997101183.\u001b[0m\n",
      "min_data_in_leaf, val_score: 0.838370:  40%|##   | 2/5 [00:00<00:00,  6.59it/s]\u001b[32m[I 2021-06-22 14:15:02,293]\u001b[0m Trial 61 finished with value: 0.8383702174777214 and parameters: {'min_child_samples': 10}. Best is trial 61 with value: 0.8383702174777214.\u001b[0m\n",
      "min_data_in_leaf, val_score: 0.838370:  40%|##   | 2/5 [00:00<00:00,  6.59it/s]"
     ]
    },
    {
     "name": "stdout",
     "output_type": "stream",
     "text": [
      "[200]\ttrain's rmse: 1.15116\teval's rmse: 1.32208\n",
      "Early stopping, best iteration is:\n",
      "[115]\ttrain's rmse: 1.24656\teval's rmse: 1.28535\n",
      "Training until validation scores don't improve for 100 rounds\n",
      "[100]\ttrain's rmse: 1.10051\teval's rmse: 0.980338\n",
      "[200]\ttrain's rmse: 0.903915\teval's rmse: 0.858482\n",
      "Early stopping, best iteration is:\n",
      "[142]\ttrain's rmse: 0.932785\teval's rmse: 0.83837\n",
      "Training until validation scores don't improve for 100 rounds\n",
      "[100]\ttrain's rmse: 1.97338\teval's rmse: 2.07113\n",
      "[200]\ttrain's rmse: 1.80071\teval's rmse: 1.96201\n",
      "[300]\ttrain's rmse: 1.70531\teval's rmse: 1.91812\n",
      "[400]\ttrain's rmse: 1.63266\teval's rmse: 1.89054\n",
      "[500]\ttrain's rmse: 1.58502\teval's rmse: 1.86829\n"
     ]
    },
    {
     "name": "stderr",
     "output_type": "stream",
     "text": [
      "\r",
      "min_data_in_leaf, val_score: 0.838370:  40%|##   | 2/5 [00:00<00:00,  6.59it/s]"
     ]
    },
    {
     "name": "stdout",
     "output_type": "stream",
     "text": [
      "[600]\ttrain's rmse: 1.549\teval's rmse: 1.85049\n",
      "[700]\ttrain's rmse: 1.5194\teval's rmse: 1.83822\n",
      "[800]\ttrain's rmse: 1.49661\teval's rmse: 1.8325\n",
      "[900]\ttrain's rmse: 1.47517\teval's rmse: 1.82299\n",
      "[1000]\ttrain's rmse: 1.45819\teval's rmse: 1.81689\n",
      "Did not meet early stopping. Best iteration is:\n",
      "[1000]\ttrain's rmse: 1.45819\teval's rmse: 1.81689\n"
     ]
    },
    {
     "name": "stderr",
     "output_type": "stream",
     "text": [
      "min_data_in_leaf, val_score: 0.838370:  60%|###  | 3/5 [00:00<00:00,  3.45it/s]\u001b[32m[I 2021-06-22 14:15:02,758]\u001b[0m Trial 62 finished with value: 1.816887833619549 and parameters: {'min_child_samples': 50}. Best is trial 61 with value: 0.8383702174777214.\u001b[0m\n",
      "min_data_in_leaf, val_score: 0.805784:  80%|#### | 4/5 [00:00<00:00,  4.18it/s]\u001b[32m[I 2021-06-22 14:15:02,919]\u001b[0m Trial 63 finished with value: 0.8057835098113186 and parameters: {'min_child_samples': 5}. Best is trial 63 with value: 0.8057835098113186.\u001b[0m\n",
      "min_data_in_leaf, val_score: 0.805784:  80%|#### | 4/5 [00:00<00:00,  4.18it/s]"
     ]
    },
    {
     "name": "stdout",
     "output_type": "stream",
     "text": [
      "Training until validation scores don't improve for 100 rounds\n",
      "[100]\ttrain's rmse: 1.10051\teval's rmse: 0.98188\n",
      "[200]\ttrain's rmse: 0.864117\teval's rmse: 0.806338\n",
      "Early stopping, best iteration is:\n",
      "[190]\ttrain's rmse: 0.867419\teval's rmse: 0.805784\n",
      "Training until validation scores don't improve for 100 rounds\n",
      "[100]\ttrain's rmse: 3.08291\teval's rmse: 3.16222\n",
      "[200]\ttrain's rmse: 2.84769\teval's rmse: 3.00138\n",
      "[300]\ttrain's rmse: 2.76123\teval's rmse: 2.93704\n",
      "[400]\ttrain's rmse: 2.70265\teval's rmse: 2.89936\n",
      "[500]\ttrain's rmse: 2.65527\teval's rmse: 2.87872\n",
      "[600]\ttrain's rmse: 2.60612\teval's rmse: 2.84208\n",
      "[700]\ttrain's rmse: 2.5586\teval's rmse: 2.81039\n"
     ]
    },
    {
     "name": "stderr",
     "output_type": "stream",
     "text": [
      "min_data_in_leaf, val_score: 0.805784: 100%|#####| 5/5 [00:01<00:00,  2.96it/s]\u001b[32m[I 2021-06-22 14:15:03,425]\u001b[0m Trial 64 finished with value: 2.7701708670935963 and parameters: {'min_child_samples': 100}. Best is trial 63 with value: 0.8057835098113186.\u001b[0m\n",
      "min_data_in_leaf, val_score: 0.805784: 100%|#####| 5/5 [00:01<00:00,  3.48it/s]\n",
      "\u001b[32m[I 2021-06-22 14:15:03,455]\u001b[0m A new study created in memory with name: no-name-bbfd9cd6-dd25-4b7f-ad17-db9bd31cca60\u001b[0m\n",
      "  0%|                                                    | 0/7 [00:00<?, ?it/s]"
     ]
    },
    {
     "name": "stdout",
     "output_type": "stream",
     "text": [
      "[800]\ttrain's rmse: 2.5229\teval's rmse: 2.79033\n",
      "[900]\ttrain's rmse: 2.4906\teval's rmse: 2.77507\n",
      "[1000]\ttrain's rmse: 2.47031\teval's rmse: 2.77017\n",
      "Did not meet early stopping. Best iteration is:\n",
      "[1000]\ttrain's rmse: 2.47031\teval's rmse: 2.77017\n"
     ]
    },
    {
     "name": "stderr",
     "output_type": "stream",
     "text": [
      "\r",
      "feature_fraction, val_score: inf:   0%|                  | 0/7 [00:00<?, ?it/s]"
     ]
    },
    {
     "name": "stdout",
     "output_type": "stream",
     "text": [
      "Training until validation scores don't improve for 100 rounds\n",
      "[100]\ttrain's rmse: 2.33024\teval's rmse: 2.61782\n",
      "[200]\ttrain's rmse: 1.46257\teval's rmse: 1.81466\n",
      "[300]\ttrain's rmse: 1.18924\teval's rmse: 1.56902\n",
      "[400]\ttrain's rmse: 1.05166\teval's rmse: 1.45608\n",
      "[500]\ttrain's rmse: 0.966339\teval's rmse: 1.40521\n",
      "[600]\ttrain's rmse: 0.903351\teval's rmse: 1.38515\n",
      "[700]\ttrain's rmse: 0.85705\teval's rmse: 1.36858\n",
      "[800]\ttrain's rmse: 0.816649\teval's rmse: 1.3579\n",
      "[900]\ttrain's rmse: 0.782685\teval's rmse: 1.35583\n",
      "[1000]\ttrain's rmse: 0.750266\teval's rmse: 1.35258\n",
      "Did not meet early stopping. Best iteration is:\n",
      "[1000]\ttrain's rmse: 0.750266\teval's rmse: 1.35258\n"
     ]
    },
    {
     "name": "stderr",
     "output_type": "stream",
     "text": [
      "feature_fraction, val_score: 1.352585:  14%|7    | 1/7 [00:01<00:08,  1.36s/it]\u001b[32m[I 2021-06-22 14:15:04,839]\u001b[0m Trial 0 finished with value: 1.3525845002096715 and parameters: {'feature_fraction': 0.4}. Best is trial 0 with value: 1.3525845002096715.\u001b[0m\n",
      "feature_fraction, val_score: 1.352585:  14%|7    | 1/7 [00:01<00:08,  1.36s/it]"
     ]
    },
    {
     "name": "stdout",
     "output_type": "stream",
     "text": [
      "Training until validation scores don't improve for 100 rounds\n",
      "[100]\ttrain's rmse: 1.76934\teval's rmse: 2.05448\n",
      "[200]\ttrain's rmse: 1.19313\teval's rmse: 1.51704\n",
      "[300]\ttrain's rmse: 1.01635\teval's rmse: 1.36967\n",
      "[400]\ttrain's rmse: 0.928675\teval's rmse: 1.33049\n",
      "[500]\ttrain's rmse: 0.867204\teval's rmse: 1.30832\n",
      "[600]\ttrain's rmse: 0.814652\teval's rmse: 1.3065\n",
      "[700]\ttrain's rmse: 0.775389\teval's rmse: 1.30075\n",
      "Early stopping, best iteration is:\n",
      "[685]\ttrain's rmse: 0.781308\teval's rmse: 1.29952\n"
     ]
    },
    {
     "name": "stderr",
     "output_type": "stream",
     "text": [
      "feature_fraction, val_score: 1.299523:  29%|#4   | 2/7 [00:02<00:06,  1.31s/it]\u001b[32m[I 2021-06-22 14:15:06,103]\u001b[0m Trial 1 finished with value: 1.299522606808107 and parameters: {'feature_fraction': 0.5}. Best is trial 1 with value: 1.299522606808107.\u001b[0m\n",
      "feature_fraction, val_score: 1.299523:  29%|#4   | 2/7 [00:02<00:06,  1.31s/it]"
     ]
    },
    {
     "name": "stdout",
     "output_type": "stream",
     "text": [
      "Training until validation scores don't improve for 100 rounds\n",
      "[100]\ttrain's rmse: 1.03726\teval's rmse: 1.19906\n"
     ]
    },
    {
     "name": "stderr",
     "output_type": "stream",
     "text": [
      "feature_fraction, val_score: 1.144057:  43%|##1  | 3/7 [00:03<00:03,  1.07it/s]\u001b[32m[I 2021-06-22 14:15:06,598]\u001b[0m Trial 2 finished with value: 1.1440565326221517 and parameters: {'feature_fraction': 0.8999999999999999}. Best is trial 2 with value: 1.1440565326221517.\u001b[0m\n",
      "feature_fraction, val_score: 1.144057:  43%|##1  | 3/7 [00:03<00:03,  1.07it/s]"
     ]
    },
    {
     "name": "stdout",
     "output_type": "stream",
     "text": [
      "[200]\ttrain's rmse: 0.914832\teval's rmse: 1.14878\n",
      "Early stopping, best iteration is:\n",
      "[185]\ttrain's rmse: 0.929932\teval's rmse: 1.14406\n",
      "Training until validation scores don't improve for 100 rounds\n",
      "[100]\ttrain's rmse: 1.27797\teval's rmse: 1.5179\n",
      "[200]\ttrain's rmse: 1.00578\teval's rmse: 1.29194\n",
      "[300]\ttrain's rmse: 0.910768\teval's rmse: 1.25873\n"
     ]
    },
    {
     "name": "stderr",
     "output_type": "stream",
     "text": [
      "feature_fraction, val_score: 1.144057:  57%|##8  | 4/7 [00:03<00:02,  1.22it/s]\u001b[32m[I 2021-06-22 14:15:07,242]\u001b[0m Trial 3 finished with value: 1.25507003923923 and parameters: {'feature_fraction': 0.7}. Best is trial 2 with value: 1.1440565326221517.\u001b[0m\n",
      "feature_fraction, val_score: 1.144057:  57%|##8  | 4/7 [00:03<00:02,  1.22it/s]"
     ]
    },
    {
     "name": "stdout",
     "output_type": "stream",
     "text": [
      "[400]\ttrain's rmse: 0.84223\teval's rmse: 1.25904\n",
      "Early stopping, best iteration is:\n",
      "[328]\ttrain's rmse: 0.889735\teval's rmse: 1.25507\n",
      "Training until validation scores don't improve for 100 rounds\n",
      "[100]\ttrain's rmse: 1.6166\teval's rmse: 1.90833\n",
      "[200]\ttrain's rmse: 1.12836\teval's rmse: 1.44994\n",
      "[300]\ttrain's rmse: 0.98172\teval's rmse: 1.34908\n",
      "[400]\ttrain's rmse: 0.897294\teval's rmse: 1.32297\n",
      "[500]\ttrain's rmse: 0.835824\teval's rmse: 1.30638\n",
      "[600]\ttrain's rmse: 0.78232\teval's rmse: 1.31227\n",
      "Early stopping, best iteration is:\n",
      "[530]\ttrain's rmse: 0.820147\teval's rmse: 1.30312\n"
     ]
    },
    {
     "name": "stderr",
     "output_type": "stream",
     "text": [
      "feature_fraction, val_score: 1.144057:  71%|###5 | 5/7 [00:04<00:01,  1.11it/s]\u001b[32m[I 2021-06-22 14:15:08,282]\u001b[0m Trial 4 finished with value: 1.303121002802325 and parameters: {'feature_fraction': 0.6}. Best is trial 2 with value: 1.1440565326221517.\u001b[0m\n",
      "feature_fraction, val_score: 1.144057:  71%|###5 | 5/7 [00:04<00:01,  1.11it/s]"
     ]
    },
    {
     "name": "stdout",
     "output_type": "stream",
     "text": [
      "Training until validation scores don't improve for 100 rounds\n",
      "[100]\ttrain's rmse: 1.0756\teval's rmse: 1.25961\n",
      "[200]\ttrain's rmse: 0.928558\teval's rmse: 1.17449\n"
     ]
    },
    {
     "name": "stderr",
     "output_type": "stream",
     "text": [
      "\r",
      "feature_fraction, val_score: 1.144057:  71%|###5 | 5/7 [00:05<00:01,  1.11it/s]"
     ]
    },
    {
     "name": "stdout",
     "output_type": "stream",
     "text": [
      "[300]\ttrain's rmse: 0.858612\teval's rmse: 1.1711\n",
      "[400]\ttrain's rmse: 0.796304\teval's rmse: 1.17502\n",
      "Early stopping, best iteration is:\n",
      "[325]\ttrain's rmse: 0.841565\teval's rmse: 1.1685\n"
     ]
    },
    {
     "name": "stderr",
     "output_type": "stream",
     "text": [
      "feature_fraction, val_score: 1.144057:  86%|####2| 6/7 [00:05<00:00,  1.26it/s]\u001b[32m[I 2021-06-22 14:15:08,858]\u001b[0m Trial 5 finished with value: 1.1684965895244515 and parameters: {'feature_fraction': 0.8}. Best is trial 2 with value: 1.1440565326221517.\u001b[0m\n",
      "feature_fraction, val_score: 1.144057:  86%|####2| 6/7 [00:05<00:00,  1.26it/s]"
     ]
    },
    {
     "name": "stdout",
     "output_type": "stream",
     "text": [
      "Training until validation scores don't improve for 100 rounds\n",
      "[100]\ttrain's rmse: 0.994437\teval's rmse: 1.09528\n"
     ]
    },
    {
     "name": "stderr",
     "output_type": "stream",
     "text": [
      "feature_fraction, val_score: 1.078290: 100%|#####| 7/7 [00:05<00:00,  1.47it/s]\u001b[32m[I 2021-06-22 14:15:09,313]\u001b[0m Trial 6 finished with value: 1.0782904533684665 and parameters: {'feature_fraction': 1.0}. Best is trial 6 with value: 1.0782904533684665.\u001b[0m\n",
      "feature_fraction, val_score: 1.078290: 100%|#####| 7/7 [00:05<00:00,  1.19it/s]\n",
      "num_leaves, val_score: 1.078290:   0%|                  | 0/20 [00:00<?, ?it/s]"
     ]
    },
    {
     "name": "stdout",
     "output_type": "stream",
     "text": [
      "[200]\ttrain's rmse: 0.903992\teval's rmse: 1.08423\n",
      "Early stopping, best iteration is:\n",
      "[185]\ttrain's rmse: 0.917475\teval's rmse: 1.07829\n",
      "Training until validation scores don't improve for 100 rounds\n",
      "[100]\ttrain's rmse: 0.988975\teval's rmse: 1.10138\n",
      "[200]\ttrain's rmse: 0.895723\teval's rmse: 1.091\n",
      "Early stopping, best iteration is:\n",
      "[130]\ttrain's rmse: 0.951643\teval's rmse: 1.08363\n"
     ]
    },
    {
     "name": "stderr",
     "output_type": "stream",
     "text": [
      "num_leaves, val_score: 1.078290:   5%|5         | 1/20 [00:00<00:10,  1.86it/s]\u001b[32m[I 2021-06-22 14:15:09,860]\u001b[0m Trial 7 finished with value: 1.0836290713241736 and parameters: {'num_leaves': 203}. Best is trial 7 with value: 1.0836290713241736.\u001b[0m\n",
      "num_leaves, val_score: 1.078290:   5%|5         | 1/20 [00:00<00:10,  1.86it/s]"
     ]
    },
    {
     "name": "stdout",
     "output_type": "stream",
     "text": [
      "Training until validation scores don't improve for 100 rounds\n",
      "[100]\ttrain's rmse: 1.01678\teval's rmse: 1.0897\n",
      "[200]\ttrain's rmse: 0.940348\teval's rmse: 1.07923\n",
      "Early stopping, best iteration is:\n",
      "[130]\ttrain's rmse: 0.986101\teval's rmse: 1.07245\n"
     ]
    },
    {
     "name": "stderr",
     "output_type": "stream",
     "text": [
      "num_leaves, val_score: 1.072448:  10%|#         | 2/20 [00:00<00:06,  2.66it/s]\u001b[32m[I 2021-06-22 14:15:10,122]\u001b[0m Trial 8 finished with value: 1.0724482383820373 and parameters: {'num_leaves': 16}. Best is trial 8 with value: 1.0724482383820373.\u001b[0m\n",
      "num_leaves, val_score: 1.072448:  10%|#         | 2/20 [00:00<00:06,  2.66it/s]"
     ]
    },
    {
     "name": "stdout",
     "output_type": "stream",
     "text": [
      "Training until validation scores don't improve for 100 rounds\n",
      "[100]\ttrain's rmse: 0.988975\teval's rmse: 1.10138\n"
     ]
    },
    {
     "name": "stderr",
     "output_type": "stream",
     "text": [
      "num_leaves, val_score: 1.072448:  15%|#5        | 3/20 [00:01<00:06,  2.43it/s]\u001b[32m[I 2021-06-22 14:15:10,577]\u001b[0m Trial 9 finished with value: 1.0836290713241736 and parameters: {'num_leaves': 253}. Best is trial 8 with value: 1.0724482383820373.\u001b[0m\n",
      "num_leaves, val_score: 1.072448:  15%|#5        | 3/20 [00:01<00:06,  2.43it/s]"
     ]
    },
    {
     "name": "stdout",
     "output_type": "stream",
     "text": [
      "[200]\ttrain's rmse: 0.895723\teval's rmse: 1.091\n",
      "Early stopping, best iteration is:\n",
      "[130]\ttrain's rmse: 0.951643\teval's rmse: 1.08363\n",
      "Training until validation scores don't improve for 100 rounds\n",
      "[100]\ttrain's rmse: 0.988975\teval's rmse: 1.10138\n",
      "[200]\ttrain's rmse: 0.895723\teval's rmse: 1.091\n"
     ]
    },
    {
     "name": "stderr",
     "output_type": "stream",
     "text": [
      "num_leaves, val_score: 1.072448:  20%|##        | 4/20 [00:01<00:06,  2.33it/s]\u001b[32m[I 2021-06-22 14:15:11,040]\u001b[0m Trial 10 finished with value: 1.0836290713241736 and parameters: {'num_leaves': 226}. Best is trial 8 with value: 1.0724482383820373.\u001b[0m\n",
      "num_leaves, val_score: 1.072448:  20%|##        | 4/20 [00:01<00:06,  2.33it/s]"
     ]
    },
    {
     "name": "stdout",
     "output_type": "stream",
     "text": [
      "Early stopping, best iteration is:\n",
      "[130]\ttrain's rmse: 0.951643\teval's rmse: 1.08363\n",
      "Training until validation scores don't improve for 100 rounds\n",
      "[100]\ttrain's rmse: 0.988975\teval's rmse: 1.10138\n"
     ]
    },
    {
     "name": "stderr",
     "output_type": "stream",
     "text": [
      "num_leaves, val_score: 1.072448:  25%|##5       | 5/20 [00:02<00:06,  2.16it/s]\u001b[32m[I 2021-06-22 14:15:11,557]\u001b[0m Trial 11 finished with value: 1.0836290713241736 and parameters: {'num_leaves': 74}. Best is trial 8 with value: 1.0724482383820373.\u001b[0m\n",
      "num_leaves, val_score: 1.072448:  25%|##5       | 5/20 [00:02<00:06,  2.16it/s]"
     ]
    },
    {
     "name": "stdout",
     "output_type": "stream",
     "text": [
      "[200]\ttrain's rmse: 0.895723\teval's rmse: 1.091\n",
      "Early stopping, best iteration is:\n",
      "[130]\ttrain's rmse: 0.951643\teval's rmse: 1.08363\n",
      "Training until validation scores don't improve for 100 rounds\n",
      "[100]\ttrain's rmse: 0.988975\teval's rmse: 1.10138\n",
      "[200]\ttrain's rmse: 0.895723\teval's rmse: 1.091\n",
      "Early stopping, best iteration is:\n",
      "[130]\ttrain's rmse: 0.951643\teval's rmse: 1.08363\n"
     ]
    },
    {
     "name": "stderr",
     "output_type": "stream",
     "text": [
      "num_leaves, val_score: 1.072448:  30%|###       | 6/20 [00:02<00:06,  2.21it/s]\u001b[32m[I 2021-06-22 14:15:11,989]\u001b[0m Trial 12 finished with value: 1.0836290713241736 and parameters: {'num_leaves': 206}. Best is trial 8 with value: 1.0724482383820373.\u001b[0m\n",
      "num_leaves, val_score: 1.072448:  30%|###       | 6/20 [00:02<00:06,  2.21it/s]"
     ]
    },
    {
     "name": "stdout",
     "output_type": "stream",
     "text": [
      "Training until validation scores don't improve for 100 rounds\n",
      "[100]\ttrain's rmse: 0.988975\teval's rmse: 1.10138\n"
     ]
    },
    {
     "name": "stderr",
     "output_type": "stream",
     "text": [
      "num_leaves, val_score: 1.072448:  35%|###5      | 7/20 [00:03<00:05,  2.27it/s]\u001b[32m[I 2021-06-22 14:15:12,414]\u001b[0m Trial 13 finished with value: 1.0836290713241736 and parameters: {'num_leaves': 120}. Best is trial 8 with value: 1.0724482383820373.\u001b[0m\n",
      "num_leaves, val_score: 1.072448:  35%|###5      | 7/20 [00:03<00:05,  2.27it/s]"
     ]
    },
    {
     "name": "stdout",
     "output_type": "stream",
     "text": [
      "[200]\ttrain's rmse: 0.895723\teval's rmse: 1.091\n",
      "Early stopping, best iteration is:\n",
      "[130]\ttrain's rmse: 0.951643\teval's rmse: 1.08363\n",
      "Training until validation scores don't improve for 100 rounds\n",
      "[100]\ttrain's rmse: 0.988975\teval's rmse: 1.10138\n",
      "[200]\ttrain's rmse: 0.895723\teval's rmse: 1.091\n",
      "Early stopping, best iteration is:\n",
      "[130]\ttrain's rmse: 0.951643\teval's rmse: 1.08363\n"
     ]
    },
    {
     "name": "stderr",
     "output_type": "stream",
     "text": [
      "num_leaves, val_score: 1.072448:  40%|####      | 8/20 [00:03<00:05,  2.25it/s]\u001b[32m[I 2021-06-22 14:15:12,858]\u001b[0m Trial 14 finished with value: 1.0836290713241736 and parameters: {'num_leaves': 208}. Best is trial 8 with value: 1.0724482383820373.\u001b[0m\n",
      "num_leaves, val_score: 1.072448:  40%|####      | 8/20 [00:03<00:05,  2.25it/s]"
     ]
    },
    {
     "name": "stdout",
     "output_type": "stream",
     "text": [
      "Training until validation scores don't improve for 100 rounds\n",
      "[100]\ttrain's rmse: 0.988975\teval's rmse: 1.10138\n"
     ]
    },
    {
     "name": "stderr",
     "output_type": "stream",
     "text": [
      "num_leaves, val_score: 1.072448:  45%|####5     | 9/20 [00:03<00:04,  2.22it/s]\u001b[32m[I 2021-06-22 14:15:13,333]\u001b[0m Trial 15 finished with value: 1.0836290713241736 and parameters: {'num_leaves': 184}. Best is trial 8 with value: 1.0724482383820373.\u001b[0m\n",
      "num_leaves, val_score: 1.072448:  45%|####5     | 9/20 [00:04<00:04,  2.22it/s]"
     ]
    },
    {
     "name": "stdout",
     "output_type": "stream",
     "text": [
      "[200]\ttrain's rmse: 0.895723\teval's rmse: 1.091\n",
      "Early stopping, best iteration is:\n",
      "[130]\ttrain's rmse: 0.951643\teval's rmse: 1.08363\n",
      "Training until validation scores don't improve for 100 rounds\n",
      "[100]\ttrain's rmse: 0.988975\teval's rmse: 1.10138\n",
      "[200]\ttrain's rmse: 0.895723\teval's rmse: 1.091\n"
     ]
    },
    {
     "name": "stderr",
     "output_type": "stream",
     "text": [
      "num_leaves, val_score: 1.072448:  50%|####5    | 10/20 [00:04<00:04,  2.15it/s]\u001b[32m[I 2021-06-22 14:15:13,826]\u001b[0m Trial 16 finished with value: 1.0836290713241736 and parameters: {'num_leaves': 253}. Best is trial 8 with value: 1.0724482383820373.\u001b[0m\n",
      "num_leaves, val_score: 1.072448:  50%|####5    | 10/20 [00:04<00:04,  2.15it/s]"
     ]
    },
    {
     "name": "stdout",
     "output_type": "stream",
     "text": [
      "Early stopping, best iteration is:\n",
      "[130]\ttrain's rmse: 0.951643\teval's rmse: 1.08363\n",
      "Training until validation scores don't improve for 100 rounds\n",
      "[100]\ttrain's rmse: 1.03637\teval's rmse: 1.08913\n"
     ]
    },
    {
     "name": "stderr",
     "output_type": "stream",
     "text": [
      "num_leaves, val_score: 1.065371:  55%|####9    | 11/20 [00:04<00:03,  2.50it/s]\u001b[32m[I 2021-06-22 14:15:14,071]\u001b[0m Trial 17 finished with value: 1.0653710083864185 and parameters: {'num_leaves': 9}. Best is trial 17 with value: 1.0653710083864185.\u001b[0m\n",
      "num_leaves, val_score: 1.065371:  55%|####9    | 11/20 [00:04<00:03,  2.50it/s]"
     ]
    },
    {
     "name": "stdout",
     "output_type": "stream",
     "text": [
      "[200]\ttrain's rmse: 0.974272\teval's rmse: 1.07051\n",
      "Early stopping, best iteration is:\n",
      "[185]\ttrain's rmse: 0.985007\teval's rmse: 1.06537\n",
      "Training until validation scores don't improve for 100 rounds\n",
      "[100]\ttrain's rmse: 1.02704\teval's rmse: 1.09058\n"
     ]
    },
    {
     "name": "stderr",
     "output_type": "stream",
     "text": [
      "num_leaves, val_score: 1.065371:  60%|#####3   | 12/20 [00:05<00:03,  2.63it/s]\u001b[32m[I 2021-06-22 14:15:14,414]\u001b[0m Trial 18 finished with value: 1.0704420622584896 and parameters: {'num_leaves': 12}. Best is trial 17 with value: 1.0653710083864185.\u001b[0m\n",
      "num_leaves, val_score: 1.065371:  60%|#####3   | 12/20 [00:05<00:03,  2.63it/s]"
     ]
    },
    {
     "name": "stdout",
     "output_type": "stream",
     "text": [
      "[200]\ttrain's rmse: 0.9572\teval's rmse: 1.0771\n",
      "Early stopping, best iteration is:\n",
      "[185]\ttrain's rmse: 0.969093\teval's rmse: 1.07044\n",
      "Training until validation scores don't improve for 100 rounds\n"
     ]
    },
    {
     "name": "stderr",
     "output_type": "stream",
     "text": [
      "num_leaves, val_score: 1.065371:  65%|#####8   | 13/20 [00:05<00:02,  2.90it/s]\u001b[32m[I 2021-06-22 14:15:14,668]\u001b[0m Trial 19 finished with value: 1.0746048108087956 and parameters: {'num_leaves': 5}. Best is trial 17 with value: 1.0653710083864185.\u001b[0m\n",
      "num_leaves, val_score: 1.065371:  65%|#####8   | 13/20 [00:05<00:02,  2.90it/s]"
     ]
    },
    {
     "name": "stdout",
     "output_type": "stream",
     "text": [
      "[100]\ttrain's rmse: 1.06437\teval's rmse: 1.10646\n",
      "[200]\ttrain's rmse: 0.99919\teval's rmse: 1.08001\n",
      "Early stopping, best iteration is:\n",
      "[185]\ttrain's rmse: 1.00719\teval's rmse: 1.0746\n",
      "Training until validation scores don't improve for 100 rounds\n",
      "[100]\ttrain's rmse: 0.990231\teval's rmse: 1.10127\n"
     ]
    },
    {
     "name": "stderr",
     "output_type": "stream",
     "text": [
      "num_leaves, val_score: 1.065371:  70%|######3  | 14/20 [00:05<00:02,  2.28it/s]\u001b[32m[I 2021-06-22 14:15:15,325]\u001b[0m Trial 20 finished with value: 1.0830714585726926 and parameters: {'num_leaves': 46}. Best is trial 17 with value: 1.0653710083864185.\u001b[0m\n",
      "num_leaves, val_score: 1.065371:  70%|######3  | 14/20 [00:06<00:02,  2.28it/s]"
     ]
    },
    {
     "name": "stdout",
     "output_type": "stream",
     "text": [
      "[200]\ttrain's rmse: 0.89593\teval's rmse: 1.0911\n",
      "Early stopping, best iteration is:\n",
      "[130]\ttrain's rmse: 0.952771\teval's rmse: 1.08307\n",
      "Training until validation scores don't improve for 100 rounds\n",
      "[100]\ttrain's rmse: 0.988975\teval's rmse: 1.10138\n"
     ]
    },
    {
     "name": "stderr",
     "output_type": "stream",
     "text": [
      "num_leaves, val_score: 1.065371:  75%|######7  | 15/20 [00:06<00:02,  1.97it/s]\u001b[32m[I 2021-06-22 14:15:15,993]\u001b[0m Trial 21 finished with value: 1.0836290713241736 and parameters: {'num_leaves': 86}. Best is trial 17 with value: 1.0653710083864185.\u001b[0m\n",
      "num_leaves, val_score: 1.065371:  75%|######7  | 15/20 [00:06<00:02,  1.97it/s]"
     ]
    },
    {
     "name": "stdout",
     "output_type": "stream",
     "text": [
      "[200]\ttrain's rmse: 0.895723\teval's rmse: 1.091\n",
      "Early stopping, best iteration is:\n",
      "[130]\ttrain's rmse: 0.951643\teval's rmse: 1.08363\n",
      "Training until validation scores don't improve for 100 rounds\n"
     ]
    },
    {
     "name": "stderr",
     "output_type": "stream",
     "text": [
      "\r",
      "num_leaves, val_score: 1.065371:  75%|######7  | 15/20 [00:07<00:02,  1.97it/s]"
     ]
    },
    {
     "name": "stdout",
     "output_type": "stream",
     "text": [
      "[100]\ttrain's rmse: 0.989405\teval's rmse: 1.09751\n",
      "[200]\ttrain's rmse: 0.898231\teval's rmse: 1.08872\n",
      "Early stopping, best iteration is:\n",
      "[130]\ttrain's rmse: 0.953097\teval's rmse: 1.08054\n"
     ]
    },
    {
     "name": "stderr",
     "output_type": "stream",
     "text": [
      "num_leaves, val_score: 1.065371:  80%|#######2 | 16/20 [00:07<00:01,  2.11it/s]\u001b[32m[I 2021-06-22 14:15:16,397]\u001b[0m Trial 22 finished with value: 1.0805388530436912 and parameters: {'num_leaves': 36}. Best is trial 17 with value: 1.0653710083864185.\u001b[0m\n",
      "num_leaves, val_score: 1.065371:  80%|#######2 | 16/20 [00:07<00:01,  2.11it/s]"
     ]
    },
    {
     "name": "stdout",
     "output_type": "stream",
     "text": [
      "Training until validation scores don't improve for 100 rounds\n",
      "[100]\ttrain's rmse: 0.988975\teval's rmse: 1.10138\n"
     ]
    },
    {
     "name": "stderr",
     "output_type": "stream",
     "text": [
      "num_leaves, val_score: 1.065371:  85%|#######6 | 17/20 [00:07<00:01,  2.13it/s]\u001b[32m[I 2021-06-22 14:15:16,848]\u001b[0m Trial 23 finished with value: 1.0836290713241736 and parameters: {'num_leaves': 146}. Best is trial 17 with value: 1.0653710083864185.\u001b[0m\n",
      "num_leaves, val_score: 1.065371:  85%|#######6 | 17/20 [00:07<00:01,  2.13it/s]"
     ]
    },
    {
     "name": "stdout",
     "output_type": "stream",
     "text": [
      "[200]\ttrain's rmse: 0.895723\teval's rmse: 1.091\n",
      "Early stopping, best iteration is:\n",
      "[130]\ttrain's rmse: 0.951643\teval's rmse: 1.08363\n",
      "Training until validation scores don't improve for 100 rounds\n",
      "[100]\ttrain's rmse: 0.988975\teval's rmse: 1.10138\n",
      "[200]\ttrain's rmse: 0.895723\teval's rmse: 1.091\n"
     ]
    },
    {
     "name": "stderr",
     "output_type": "stream",
     "text": [
      "num_leaves, val_score: 1.065371:  90%|########1| 18/20 [00:07<00:00,  2.16it/s]\u001b[32m[I 2021-06-22 14:15:17,293]\u001b[0m Trial 24 finished with value: 1.0836290713241736 and parameters: {'num_leaves': 61}. Best is trial 17 with value: 1.0653710083864185.\u001b[0m\n",
      "num_leaves, val_score: 1.065371:  90%|########1| 18/20 [00:07<00:00,  2.16it/s]"
     ]
    },
    {
     "name": "stdout",
     "output_type": "stream",
     "text": [
      "Early stopping, best iteration is:\n",
      "[130]\ttrain's rmse: 0.951643\teval's rmse: 1.08363\n",
      "Training until validation scores don't improve for 100 rounds\n",
      "[100]\ttrain's rmse: 1.22979\teval's rmse: 1.27185\n",
      "[200]\ttrain's rmse: 1.02572\teval's rmse: 1.07575\n"
     ]
    },
    {
     "name": "stderr",
     "output_type": "stream",
     "text": [
      "num_leaves, val_score: 1.065371:  95%|########5| 19/20 [00:08<00:00,  2.58it/s]\u001b[32m[I 2021-06-22 14:15:17,506]\u001b[0m Trial 25 finished with value: 1.073936971658887 and parameters: {'num_leaves': 3}. Best is trial 17 with value: 1.0653710083864185.\u001b[0m\n",
      "num_leaves, val_score: 1.065371:  95%|########5| 19/20 [00:08<00:00,  2.58it/s]"
     ]
    },
    {
     "name": "stdout",
     "output_type": "stream",
     "text": [
      "[300]\ttrain's rmse: 1.01069\teval's rmse: 1.07497\n",
      "Early stopping, best iteration is:\n",
      "[205]\ttrain's rmse: 1.02456\teval's rmse: 1.07394\n",
      "Training until validation scores don't improve for 100 rounds\n",
      "[100]\ttrain's rmse: 0.988975\teval's rmse: 1.10138\n"
     ]
    },
    {
     "name": "stderr",
     "output_type": "stream",
     "text": [
      "num_leaves, val_score: 1.065371: 100%|#########| 20/20 [00:08<00:00,  2.53it/s]\u001b[32m[I 2021-06-22 14:15:17,920]\u001b[0m Trial 26 finished with value: 1.0836290713241736 and parameters: {'num_leaves': 121}. Best is trial 17 with value: 1.0653710083864185.\u001b[0m\n",
      "num_leaves, val_score: 1.065371: 100%|#########| 20/20 [00:08<00:00,  2.32it/s]\n",
      "bagging, val_score: 1.065371:   0%|                     | 0/10 [00:00<?, ?it/s]"
     ]
    },
    {
     "name": "stdout",
     "output_type": "stream",
     "text": [
      "[200]\ttrain's rmse: 0.895723\teval's rmse: 1.091\n",
      "Early stopping, best iteration is:\n",
      "[130]\ttrain's rmse: 0.951643\teval's rmse: 1.08363\n",
      "Training until validation scores don't improve for 100 rounds\n",
      "[100]\ttrain's rmse: 1.19229\teval's rmse: 1.22718\n",
      "[200]\ttrain's rmse: 1.11924\teval's rmse: 1.21094\n",
      "[300]\ttrain's rmse: 1.05773\teval's rmse: 1.1841\n",
      "[400]\ttrain's rmse: 1.02901\teval's rmse: 1.18475\n",
      "Early stopping, best iteration is:\n",
      "[356]\ttrain's rmse: 1.03797\teval's rmse: 1.17563\n"
     ]
    },
    {
     "name": "stderr",
     "output_type": "stream",
     "text": [
      "bagging, val_score: 1.065371:  10%|#3           | 1/10 [00:00<00:03,  2.84it/s]\u001b[32m[I 2021-06-22 14:15:18,284]\u001b[0m Trial 27 finished with value: 1.1756299808807011 and parameters: {'bagging_fraction': 0.5778642254083987, 'bagging_freq': 4}. Best is trial 27 with value: 1.1756299808807011.\u001b[0m\n",
      "bagging, val_score: 1.065371:  10%|#3           | 1/10 [00:00<00:03,  2.84it/s]"
     ]
    },
    {
     "name": "stdout",
     "output_type": "stream",
     "text": [
      "Training until validation scores don't improve for 100 rounds\n",
      "[100]\ttrain's rmse: 1.46819\teval's rmse: 1.42386\n",
      "[200]\ttrain's rmse: 1.29174\teval's rmse: 1.29486\n",
      "[300]\ttrain's rmse: 1.251\teval's rmse: 1.28396\n",
      "[400]\ttrain's rmse: 1.19294\teval's rmse: 1.26451\n",
      "[500]\ttrain's rmse: 1.15186\teval's rmse: 1.2564\n",
      "[600]\ttrain's rmse: 1.12794\teval's rmse: 1.25498\n",
      "[700]\ttrain's rmse: 1.10029\teval's rmse: 1.23698\n",
      "[800]\ttrain's rmse: 1.06351\teval's rmse: 1.22938\n"
     ]
    },
    {
     "name": "stderr",
     "output_type": "stream",
     "text": [
      "bagging, val_score: 1.065371:  20%|##6          | 2/10 [00:00<00:04,  1.97it/s]\u001b[32m[I 2021-06-22 14:15:18,899]\u001b[0m Trial 28 finished with value: 1.2179365311717005 and parameters: {'bagging_fraction': 0.4100852813646717, 'bagging_freq': 7}. Best is trial 27 with value: 1.1756299808807011.\u001b[0m\n",
      "bagging, val_score: 1.065371:  20%|##6          | 2/10 [00:00<00:04,  1.97it/s]"
     ]
    },
    {
     "name": "stdout",
     "output_type": "stream",
     "text": [
      "[900]\ttrain's rmse: 1.04336\teval's rmse: 1.23291\n",
      "Early stopping, best iteration is:\n",
      "[854]\ttrain's rmse: 1.04974\teval's rmse: 1.21794\n",
      "Training until validation scores don't improve for 100 rounds\n",
      "[100]\ttrain's rmse: 1.01934\teval's rmse: 1.08934\n"
     ]
    },
    {
     "name": "stderr",
     "output_type": "stream",
     "text": [
      "bagging, val_score: 1.065371:  30%|###9         | 3/10 [00:01<00:02,  2.56it/s]\u001b[32m[I 2021-06-22 14:15:19,152]\u001b[0m Trial 29 finished with value: 1.067655635177472 and parameters: {'bagging_fraction': 0.8852376701695976, 'bagging_freq': 4}. Best is trial 29 with value: 1.067655635177472.\u001b[0m\n",
      "bagging, val_score: 1.065371:  30%|###9         | 3/10 [00:01<00:02,  2.56it/s]"
     ]
    },
    {
     "name": "stdout",
     "output_type": "stream",
     "text": [
      "[200]\ttrain's rmse: 0.959934\teval's rmse: 1.07285\n",
      "[300]\ttrain's rmse: 0.924056\teval's rmse: 1.07071\n",
      "Early stopping, best iteration is:\n",
      "[216]\ttrain's rmse: 0.954756\teval's rmse: 1.06766\n",
      "Training until validation scores don't improve for 100 rounds\n",
      "[100]\ttrain's rmse: 1.01888\teval's rmse: 1.08327\n"
     ]
    },
    {
     "name": "stderr",
     "output_type": "stream",
     "text": [
      "bagging, val_score: 1.061713:  40%|#####2       | 4/10 [00:01<00:02,  2.65it/s]\u001b[32m[I 2021-06-22 14:15:19,506]\u001b[0m Trial 30 finished with value: 1.0617127470873406 and parameters: {'bagging_fraction': 0.9333075313326118, 'bagging_freq': 5}. Best is trial 30 with value: 1.0617127470873406.\u001b[0m\n",
      "bagging, val_score: 1.061713:  40%|#####2       | 4/10 [00:01<00:02,  2.65it/s]"
     ]
    },
    {
     "name": "stdout",
     "output_type": "stream",
     "text": [
      "[200]\ttrain's rmse: 0.960772\teval's rmse: 1.0665\n",
      "[300]\ttrain's rmse: 0.930861\teval's rmse: 1.06698\n",
      "Early stopping, best iteration is:\n",
      "[270]\ttrain's rmse: 0.940868\teval's rmse: 1.06171\n",
      "Training until validation scores don't improve for 100 rounds\n"
     ]
    },
    {
     "name": "stderr",
     "output_type": "stream",
     "text": [
      "bagging, val_score: 1.061713:  50%|######5      | 5/10 [00:01<00:01,  2.92it/s]\u001b[32m[I 2021-06-22 14:15:19,799]\u001b[0m Trial 31 finished with value: 1.0699541962976737 and parameters: {'bagging_fraction': 0.8171335214820283, 'bagging_freq': 1}. Best is trial 30 with value: 1.0617127470873406.\u001b[0m\n",
      "bagging, val_score: 1.061713:  50%|######5      | 5/10 [00:01<00:01,  2.92it/s]"
     ]
    },
    {
     "name": "stdout",
     "output_type": "stream",
     "text": [
      "[100]\ttrain's rmse: 1.02522\teval's rmse: 1.08965\n",
      "[200]\ttrain's rmse: 0.968779\teval's rmse: 1.07491\n",
      "[300]\ttrain's rmse: 0.940966\teval's rmse: 1.07044\n",
      "[400]\ttrain's rmse: 0.91272\teval's rmse: 1.07098\n",
      "Early stopping, best iteration is:\n",
      "[302]\ttrain's rmse: 0.940304\teval's rmse: 1.06995\n",
      "Training until validation scores don't improve for 100 rounds\n",
      "[100]\ttrain's rmse: 1.02068\teval's rmse: 1.08302\n",
      "[200]\ttrain's rmse: 0.959692\teval's rmse: 1.07404\n",
      "[300]\ttrain's rmse: 0.930643\teval's rmse: 1.07183\n",
      "Early stopping, best iteration is:\n",
      "[270]\ttrain's rmse: 0.939726\teval's rmse: 1.06931\n"
     ]
    },
    {
     "name": "stderr",
     "output_type": "stream",
     "text": [
      "bagging, val_score: 1.061713:  60%|#######8     | 6/10 [00:02<00:01,  3.10it/s]\u001b[32m[I 2021-06-22 14:15:20,071]\u001b[0m Trial 32 finished with value: 1.0693091247229853 and parameters: {'bagging_fraction': 0.919633676149187, 'bagging_freq': 5}. Best is trial 30 with value: 1.0617127470873406.\u001b[0m\n",
      "bagging, val_score: 1.061713:  60%|#######8     | 6/10 [00:02<00:01,  3.10it/s]"
     ]
    },
    {
     "name": "stdout",
     "output_type": "stream",
     "text": [
      "Training until validation scores don't improve for 100 rounds\n",
      "[100]\ttrain's rmse: 1.11883\teval's rmse: 1.14011\n",
      "[200]\ttrain's rmse: 1.04407\teval's rmse: 1.10849\n"
     ]
    },
    {
     "name": "stderr",
     "output_type": "stream",
     "text": [
      "bagging, val_score: 1.061713:  70%|#########1   | 7/10 [00:02<00:00,  3.34it/s]\u001b[32m[I 2021-06-22 14:15:20,334]\u001b[0m Trial 33 finished with value: 1.100267676549122 and parameters: {'bagging_fraction': 0.68073620463562, 'bagging_freq': 7}. Best is trial 30 with value: 1.0617127470873406.\u001b[0m\n",
      "bagging, val_score: 1.061713:  70%|#########1   | 7/10 [00:02<00:00,  3.34it/s]"
     ]
    },
    {
     "name": "stdout",
     "output_type": "stream",
     "text": [
      "[300]\ttrain's rmse: 1.00153\teval's rmse: 1.11574\n",
      "Early stopping, best iteration is:\n",
      "[245]\ttrain's rmse: 1.02558\teval's rmse: 1.10027\n",
      "Training until validation scores don't improve for 100 rounds\n",
      "[100]\ttrain's rmse: 1.0685\teval's rmse: 1.09888\n"
     ]
    },
    {
     "name": "stderr",
     "output_type": "stream",
     "text": [
      "bagging, val_score: 1.061713:  80%|##########4  | 8/10 [00:02<00:00,  3.52it/s]\u001b[32m[I 2021-06-22 14:15:20,577]\u001b[0m Trial 34 finished with value: 1.085456045365563 and parameters: {'bagging_fraction': 0.7208450662086017, 'bagging_freq': 6}. Best is trial 30 with value: 1.0617127470873406.\u001b[0m\n",
      "bagging, val_score: 1.061713:  80%|##########4  | 8/10 [00:02<00:00,  3.52it/s]"
     ]
    },
    {
     "name": "stdout",
     "output_type": "stream",
     "text": [
      "[200]\ttrain's rmse: 1.00884\teval's rmse: 1.09081\n",
      "[300]\ttrain's rmse: 0.970787\teval's rmse: 1.09308\n",
      "Early stopping, best iteration is:\n",
      "[216]\ttrain's rmse: 1.00093\teval's rmse: 1.08546\n",
      "Training until validation scores don't improve for 100 rounds\n",
      "[100]\ttrain's rmse: 1.02723\teval's rmse: 1.09121\n"
     ]
    },
    {
     "name": "stderr",
     "output_type": "stream",
     "text": [
      "bagging, val_score: 1.061713:  90%|###########7 | 9/10 [00:02<00:00,  3.60it/s]\u001b[32m[I 2021-06-22 14:15:20,848]\u001b[0m Trial 35 finished with value: 1.0701990026329464 and parameters: {'bagging_fraction': 0.8135859109766279, 'bagging_freq': 1}. Best is trial 30 with value: 1.0617127470873406.\u001b[0m\n",
      "bagging, val_score: 1.061713:  90%|###########7 | 9/10 [00:02<00:00,  3.60it/s]"
     ]
    },
    {
     "name": "stdout",
     "output_type": "stream",
     "text": [
      "[200]\ttrain's rmse: 0.968543\teval's rmse: 1.07638\n",
      "[300]\ttrain's rmse: 0.939117\teval's rmse: 1.0709\n",
      "Early stopping, best iteration is:\n",
      "[267]\ttrain's rmse: 0.948034\teval's rmse: 1.0702\n",
      "Training until validation scores don't improve for 100 rounds\n"
     ]
    },
    {
     "name": "stderr",
     "output_type": "stream",
     "text": [
      "bagging, val_score: 1.061713: 100%|############| 10/10 [00:03<00:00,  3.79it/s]\u001b[32m[I 2021-06-22 14:15:21,072]\u001b[0m Trial 36 finished with value: 1.06335377267225 and parameters: {'bagging_fraction': 0.8760887616334747, 'bagging_freq': 5}. Best is trial 30 with value: 1.0617127470873406.\u001b[0m\n",
      "bagging, val_score: 1.061713: 100%|############| 10/10 [00:03<00:00,  3.17it/s]\n",
      "feature_fraction_stage2, val_score: 1.061713:   0%|      | 0/3 [00:00<?, ?it/s]"
     ]
    },
    {
     "name": "stdout",
     "output_type": "stream",
     "text": [
      "[100]\ttrain's rmse: 1.02631\teval's rmse: 1.08798\n",
      "[200]\ttrain's rmse: 0.967623\teval's rmse: 1.06595\n",
      "Early stopping, best iteration is:\n",
      "[190]\ttrain's rmse: 0.972376\teval's rmse: 1.06335\n",
      "Training until validation scores don't improve for 100 rounds\n",
      "[100]\ttrain's rmse: 1.10117\teval's rmse: 1.22496\n",
      "[200]\ttrain's rmse: 0.980415\teval's rmse: 1.13162\n",
      "[300]\ttrain's rmse: 0.943162\teval's rmse: 1.11494\n",
      "Early stopping, best iteration is:\n",
      "[270]\ttrain's rmse: 0.953533\teval's rmse: 1.11411\n"
     ]
    },
    {
     "name": "stderr",
     "output_type": "stream",
     "text": [
      "feature_fraction_stage2, val_score: 1.061713:  33%|3| 1/3 [00:00<00:00,  2.91it\u001b[32m[I 2021-06-22 14:15:21,426]\u001b[0m Trial 37 finished with value: 1.1141143360284966 and parameters: {'feature_fraction': 0.92}. Best is trial 37 with value: 1.1141143360284966.\u001b[0m\n",
      "feature_fraction_stage2, val_score: 1.061713:  33%|3| 1/3 [00:00<00:00,  2.91it"
     ]
    },
    {
     "name": "stdout",
     "output_type": "stream",
     "text": [
      "Training until validation scores don't improve for 100 rounds\n",
      "[100]\ttrain's rmse: 1.03489\teval's rmse: 1.11593\n",
      "[200]\ttrain's rmse: 0.96036\teval's rmse: 1.08929\n",
      "[300]\ttrain's rmse: 0.928378\teval's rmse: 1.08426\n"
     ]
    },
    {
     "name": "stderr",
     "output_type": "stream",
     "text": [
      "feature_fraction_stage2, val_score: 1.061713:  67%|6| 2/3 [00:00<00:00,  3.20it\u001b[32m[I 2021-06-22 14:15:21,720]\u001b[0m Trial 38 finished with value: 1.0822968884069428 and parameters: {'feature_fraction': 0.9840000000000001}. Best is trial 38 with value: 1.0822968884069428.\u001b[0m\n",
      "feature_fraction_stage2, val_score: 1.061713:  67%|6| 2/3 [00:00<00:00,  3.20it"
     ]
    },
    {
     "name": "stdout",
     "output_type": "stream",
     "text": [
      "Early stopping, best iteration is:\n",
      "[270]\ttrain's rmse: 0.936972\teval's rmse: 1.0823\n",
      "Training until validation scores don't improve for 100 rounds\n",
      "[100]\ttrain's rmse: 1.08964\teval's rmse: 1.21007\n",
      "[200]\ttrain's rmse: 0.976687\teval's rmse: 1.12286\n"
     ]
    },
    {
     "name": "stderr",
     "output_type": "stream",
     "text": [
      "feature_fraction_stage2, val_score: 1.061713: 100%|#| 3/3 [00:00<00:00,  3.40it\u001b[32m[I 2021-06-22 14:15:21,997]\u001b[0m Trial 39 finished with value: 1.1080841196518445 and parameters: {'feature_fraction': 0.9520000000000001}. Best is trial 38 with value: 1.0822968884069428.\u001b[0m\n",
      "feature_fraction_stage2, val_score: 1.061713: 100%|#| 3/3 [00:00<00:00,  3.28it\n",
      "regularization_factors, val_score: 1.061713:   0%|      | 0/20 [00:00<?, ?it/s]"
     ]
    },
    {
     "name": "stdout",
     "output_type": "stream",
     "text": [
      "[300]\ttrain's rmse: 0.939093\teval's rmse: 1.10899\n",
      "Early stopping, best iteration is:\n",
      "[270]\ttrain's rmse: 0.949517\teval's rmse: 1.10808\n",
      "Training until validation scores don't improve for 100 rounds\n",
      "[100]\ttrain's rmse: 1.01888\teval's rmse: 1.08327\n"
     ]
    },
    {
     "name": "stderr",
     "output_type": "stream",
     "text": [
      "regularization_factors, val_score: 1.061713:   5%| | 1/20 [00:00<00:04,  3.80it\u001b[32m[I 2021-06-22 14:15:22,262]\u001b[0m Trial 40 finished with value: 1.063389717145887 and parameters: {'lambda_l1': 0.002486004725289307, 'lambda_l2': 0.0002095521027074215}. Best is trial 40 with value: 1.063389717145887.\u001b[0m\n",
      "regularization_factors, val_score: 1.061713:   5%| | 1/20 [00:00<00:04,  3.80it"
     ]
    },
    {
     "name": "stdout",
     "output_type": "stream",
     "text": [
      "[200]\ttrain's rmse: 0.962043\teval's rmse: 1.06792\n",
      "[300]\ttrain's rmse: 0.932219\teval's rmse: 1.06839\n",
      "Early stopping, best iteration is:\n",
      "[225]\ttrain's rmse: 0.954202\teval's rmse: 1.06339\n",
      "Training until validation scores don't improve for 100 rounds\n",
      "[100]\ttrain's rmse: 1.01888\teval's rmse: 1.08327\n"
     ]
    },
    {
     "name": "stderr",
     "output_type": "stream",
     "text": [
      "regularization_factors, val_score: 1.061713:  10%|1| 2/20 [00:00<00:04,  3.66it\u001b[32m[I 2021-06-22 14:15:22,545]\u001b[0m Trial 41 finished with value: 1.061712893483433 and parameters: {'lambda_l1': 0.0001262090062178698, 'lambda_l2': 1.1379906186203079e-06}. Best is trial 41 with value: 1.061712893483433.\u001b[0m\n",
      "regularization_factors, val_score: 1.061713:  10%|1| 2/20 [00:00<00:04,  3.66it"
     ]
    },
    {
     "name": "stdout",
     "output_type": "stream",
     "text": [
      "[200]\ttrain's rmse: 0.960773\teval's rmse: 1.0665\n",
      "[300]\ttrain's rmse: 0.930862\teval's rmse: 1.06698\n",
      "Early stopping, best iteration is:\n",
      "[270]\ttrain's rmse: 0.940869\teval's rmse: 1.06171\n",
      "Training until validation scores don't improve for 100 rounds\n",
      "[100]\ttrain's rmse: 1.02883\teval's rmse: 1.09168\n"
     ]
    },
    {
     "name": "stderr",
     "output_type": "stream",
     "text": [
      "regularization_factors, val_score: 1.061713:  15%|1| 3/20 [00:00<00:04,  3.65it\u001b[32m[I 2021-06-22 14:15:22,818]\u001b[0m Trial 42 finished with value: 1.0651995519846476 and parameters: {'lambda_l1': 2.2144907112100314, 'lambda_l2': 1.1926312003905755}. Best is trial 41 with value: 1.061712893483433.\u001b[0m\n",
      "regularization_factors, val_score: 1.061713:  15%|1| 3/20 [00:00<00:04,  3.65it"
     ]
    },
    {
     "name": "stdout",
     "output_type": "stream",
     "text": [
      "[200]\ttrain's rmse: 0.968369\teval's rmse: 1.06867\n",
      "[300]\ttrain's rmse: 0.942623\teval's rmse: 1.06697\n",
      "Early stopping, best iteration is:\n",
      "[270]\ttrain's rmse: 0.950362\teval's rmse: 1.0652\n",
      "Training until validation scores don't improve for 100 rounds\n"
     ]
    },
    {
     "name": "stderr",
     "output_type": "stream",
     "text": [
      "regularization_factors, val_score: 1.061713:  20%|2| 4/20 [00:01<00:04,  3.60it\u001b[32m[I 2021-06-22 14:15:23,111]\u001b[0m Trial 43 finished with value: 1.0617127471624994 and parameters: {'lambda_l1': 2.7394447183154914e-08, 'lambda_l2': 1.7584453376264095e-08}. Best is trial 43 with value: 1.0617127471624994.\u001b[0m\n",
      "regularization_factors, val_score: 1.061713:  20%|2| 4/20 [00:01<00:04,  3.60it"
     ]
    },
    {
     "name": "stdout",
     "output_type": "stream",
     "text": [
      "[100]\ttrain's rmse: 1.01888\teval's rmse: 1.08327\n",
      "[200]\ttrain's rmse: 0.960772\teval's rmse: 1.0665\n",
      "[300]\ttrain's rmse: 0.930861\teval's rmse: 1.06698\n",
      "Early stopping, best iteration is:\n",
      "[270]\ttrain's rmse: 0.940868\teval's rmse: 1.06171\n",
      "Training until validation scores don't improve for 100 rounds\n",
      "[100]\ttrain's rmse: 1.01926\teval's rmse: 1.08351\n",
      "[200]\ttrain's rmse: 0.962886\teval's rmse: 1.06823\n",
      "[300]\ttrain's rmse: 0.931963\teval's rmse: 1.068"
     ]
    },
    {
     "name": "stderr",
     "output_type": "stream",
     "text": [
      "regularization_factors, val_score: 1.061713:  25%|2| 5/20 [00:01<00:04,  3.44it\u001b[32m[I 2021-06-22 14:15:23,414]\u001b[0m Trial 44 finished with value: 1.0633696797107546 and parameters: {'lambda_l1': 2.435909392897583e-05, 'lambda_l2': 0.004476200290145963}. Best is trial 43 with value: 1.0617127471624994.\u001b[0m\n",
      "regularization_factors, val_score: 1.061713:  25%|2| 5/20 [00:01<00:04,  3.44it"
     ]
    },
    {
     "name": "stdout",
     "output_type": "stream",
     "text": [
      "\n",
      "Early stopping, best iteration is:\n",
      "[225]\ttrain's rmse: 0.954564\teval's rmse: 1.06337\n",
      "Training until validation scores don't improve for 100 rounds\n",
      "[100]\ttrain's rmse: 1.01888\teval's rmse: 1.08327\n"
     ]
    },
    {
     "name": "stderr",
     "output_type": "stream",
     "text": [
      "regularization_factors, val_score: 1.061713:  30%|3| 6/20 [00:01<00:04,  3.32it\u001b[32m[I 2021-06-22 14:15:23,738]\u001b[0m Trial 45 finished with value: 1.0617127476992947 and parameters: {'lambda_l1': 4.550143862575458e-07, 'lambda_l2': 7.890265025027627e-08}. Best is trial 43 with value: 1.0617127471624994.\u001b[0m\n",
      "regularization_factors, val_score: 1.061713:  30%|3| 6/20 [00:01<00:04,  3.32it"
     ]
    },
    {
     "name": "stdout",
     "output_type": "stream",
     "text": [
      "[200]\ttrain's rmse: 0.960772\teval's rmse: 1.0665\n",
      "[300]\ttrain's rmse: 0.930861\teval's rmse: 1.06698\n",
      "Early stopping, best iteration is:\n",
      "[270]\ttrain's rmse: 0.940868\teval's rmse: 1.06171\n",
      "Training until validation scores don't improve for 100 rounds\n"
     ]
    },
    {
     "name": "stderr",
     "output_type": "stream",
     "text": [
      "regularization_factors, val_score: 1.061713:  35%|3| 7/20 [00:01<00:03,  3.54it\u001b[32m[I 2021-06-22 14:15:23,990]\u001b[0m Trial 46 finished with value: 1.0623884712896767 and parameters: {'lambda_l1': 1.0836787587400696, 'lambda_l2': 5.7104803501228146e-06}. Best is trial 43 with value: 1.0617127471624994.\u001b[0m\n",
      "regularization_factors, val_score: 1.061713:  35%|3| 7/20 [00:01<00:03,  3.54it"
     ]
    },
    {
     "name": "stdout",
     "output_type": "stream",
     "text": [
      "[100]\ttrain's rmse: 1.02032\teval's rmse: 1.08387\n",
      "[200]\ttrain's rmse: 0.964722\teval's rmse: 1.06611\n",
      "[300]\ttrain's rmse: 0.935887\teval's rmse: 1.06563\n",
      "Early stopping, best iteration is:\n",
      "[225]\ttrain's rmse: 0.957644\teval's rmse: 1.06239\n",
      "Training until validation scores don't improve for 100 rounds"
     ]
    },
    {
     "name": "stderr",
     "output_type": "stream",
     "text": [
      "\r",
      "regularization_factors, val_score: 1.061713:  35%|3| 7/20 [00:02<00:03,  3.54it"
     ]
    },
    {
     "name": "stdout",
     "output_type": "stream",
     "text": [
      "\n",
      "[100]\ttrain's rmse: 1.049\teval's rmse: 1.11307\n",
      "[200]\ttrain's rmse: 0.971903\teval's rmse: 1.06885\n",
      "[300]\ttrain's rmse: 0.944329\teval's rmse: 1.06804\n",
      "Early stopping, best iteration is:\n",
      "[225]\ttrain's rmse: 0.964046\teval's rmse: 1.06534\n"
     ]
    },
    {
     "name": "stderr",
     "output_type": "stream",
     "text": [
      "regularization_factors, val_score: 1.061713:  40%|4| 8/20 [00:02<00:03,  3.62it\u001b[32m[I 2021-06-22 14:15:24,243]\u001b[0m Trial 47 finished with value: 1.0653389398232869 and parameters: {'lambda_l1': 0.00024269377575181442, 'lambda_l2': 5.777231693000224}. Best is trial 43 with value: 1.0617127471624994.\u001b[0m\n",
      "regularization_factors, val_score: 1.061713:  40%|4| 8/20 [00:02<00:03,  3.62it"
     ]
    },
    {
     "name": "stdout",
     "output_type": "stream",
     "text": [
      "Training until validation scores don't improve for 100 rounds\n",
      "[100]\ttrain's rmse: 1.01888\teval's rmse: 1.08327\n",
      "[200]\ttrain's rmse: 0.960773\teval's rmse: 1.0665\n",
      "[300]\ttrain's rmse: 0.930861\teval's rmse: 1.06698\n"
     ]
    },
    {
     "name": "stderr",
     "output_type": "stream",
     "text": [
      "regularization_factors, val_score: 1.061713:  45%|4| 9/20 [00:02<00:03,  3.59it\u001b[32m[I 2021-06-22 14:15:24,534]\u001b[0m Trial 48 finished with value: 1.0617129613642924 and parameters: {'lambda_l1': 3.289614238215393e-05, 'lambda_l2': 0.00016680592040725956}. Best is trial 43 with value: 1.0617127471624994.\u001b[0m\n",
      "regularization_factors, val_score: 1.061713:  45%|4| 9/20 [00:02<00:03,  3.59it"
     ]
    },
    {
     "name": "stdout",
     "output_type": "stream",
     "text": [
      "Early stopping, best iteration is:\n",
      "[270]\ttrain's rmse: 0.940868\teval's rmse: 1.06171\n",
      "Training until validation scores don't improve for 100 rounds\n",
      "[100]\ttrain's rmse: 1.01888\teval's rmse: 1.08327\n",
      "[200]\ttrain's rmse: 0.960772\teval's rmse: 1.0665\n"
     ]
    },
    {
     "name": "stderr",
     "output_type": "stream",
     "text": [
      "regularization_factors, val_score: 1.061713:  50%|5| 10/20 [00:02<00:02,  3.58i\u001b[32m[I 2021-06-22 14:15:24,809]\u001b[0m Trial 49 finished with value: 1.0617127524946273 and parameters: {'lambda_l1': 4.736608212908229e-06, 'lambda_l2': 3.796599499545082e-08}. Best is trial 43 with value: 1.0617127471624994.\u001b[0m\n",
      "regularization_factors, val_score: 1.061713:  50%|5| 10/20 [00:02<00:02,  3.58i"
     ]
    },
    {
     "name": "stdout",
     "output_type": "stream",
     "text": [
      "[300]\ttrain's rmse: 0.930861\teval's rmse: 1.06698\n",
      "Early stopping, best iteration is:\n",
      "[270]\ttrain's rmse: 0.940868\teval's rmse: 1.06171\n",
      "Training until validation scores don't improve for 100 rounds\n",
      "[100]\ttrain's rmse: 1.01883\teval's rmse: 1.08283\n"
     ]
    },
    {
     "name": "stderr",
     "output_type": "stream",
     "text": [
      "regularization_factors, val_score: 1.060188:  55%|5| 11/20 [00:03<00:02,  3.60i\u001b[32m[I 2021-06-22 14:15:25,090]\u001b[0m Trial 50 finished with value: 1.0601876300054225 and parameters: {'lambda_l1': 1.2116229355778719e-08, 'lambda_l2': 0.04357394317346865}. Best is trial 50 with value: 1.0601876300054225.\u001b[0m\n",
      "regularization_factors, val_score: 1.060188:  55%|5| 11/20 [00:03<00:02,  3.60i"
     ]
    },
    {
     "name": "stdout",
     "output_type": "stream",
     "text": [
      "[200]\ttrain's rmse: 0.961798\teval's rmse: 1.06487\n",
      "[300]\ttrain's rmse: 0.931324\teval's rmse: 1.06576\n",
      "Early stopping, best iteration is:\n",
      "[225]\ttrain's rmse: 0.953908\teval's rmse: 1.06019\n",
      "Training until validation scores don't improve for 100 rounds\n"
     ]
    },
    {
     "name": "stderr",
     "output_type": "stream",
     "text": [
      "\r",
      "regularization_factors, val_score: 1.060188:  55%|5| 11/20 [00:03<00:02,  3.60i"
     ]
    },
    {
     "name": "stdout",
     "output_type": "stream",
     "text": [
      "[100]\ttrain's rmse: 1.01812\teval's rmse: 1.08166\n",
      "[200]\ttrain's rmse: 0.959786\teval's rmse: 1.06709\n",
      "[300]\ttrain's rmse: 0.929126\teval's rmse: 1.06803\n",
      "Early stopping, best iteration is:\n",
      "[225]\ttrain's rmse: 0.95166\teval's rmse: 1.06198\n"
     ]
    },
    {
     "name": "stderr",
     "output_type": "stream",
     "text": [
      "regularization_factors, val_score: 1.060188:  60%|6| 12/20 [00:03<00:02,  3.39i\u001b[32m[I 2021-06-22 14:15:25,416]\u001b[0m Trial 51 finished with value: 1.0619757659640598 and parameters: {'lambda_l1': 1.3714519227109388e-08, 'lambda_l2': 0.056315129900465444}. Best is trial 50 with value: 1.0601876300054225.\u001b[0m\n",
      "regularization_factors, val_score: 1.060188:  60%|6| 12/20 [00:03<00:02,  3.39i"
     ]
    },
    {
     "name": "stdout",
     "output_type": "stream",
     "text": [
      "Training until validation scores don't improve for 100 rounds\n",
      "[100]\ttrain's rmse: 1.01736\teval's rmse: 1.08365\n",
      "[200]\ttrain's rmse: 0.960366\teval's rmse: 1.06655\n",
      "[300]\ttrain's rmse: 0.929713\teval's rmse: 1.06659\n",
      "Early stopping, best iteration is:\n",
      "[225]\ttrain's rmse: 0.952354\teval's rmse: 1.06227\n"
     ]
    },
    {
     "name": "stderr",
     "output_type": "stream",
     "text": [
      "regularization_factors, val_score: 1.060188:  65%|6| 13/20 [00:03<00:02,  3.44i\u001b[32m[I 2021-06-22 14:15:25,699]\u001b[0m Trial 52 finished with value: 1.0622720008276716 and parameters: {'lambda_l1': 3.9293800456897576e-08, 'lambda_l2': 0.014080881831033865}. Best is trial 50 with value: 1.0601876300054225.\u001b[0m\n",
      "regularization_factors, val_score: 1.060188:  65%|6| 13/20 [00:03<00:02,  3.44i"
     ]
    },
    {
     "name": "stdout",
     "output_type": "stream",
     "text": [
      "Training until validation scores don't improve for 100 rounds\n",
      "[100]\ttrain's rmse: 1.01815\teval's rmse: 1.08237\n",
      "[200]\ttrain's rmse: 0.959874\teval's rmse: 1.06843\n",
      "[300]\ttrain's rmse: 0.929238\teval's rmse: 1.06764\n",
      "Early stopping, best iteration is:\n",
      "[224]\ttrain's rmse: 0.951875\teval's rmse: 1.06426\n"
     ]
    },
    {
     "name": "stderr",
     "output_type": "stream",
     "text": [
      "regularization_factors, val_score: 1.060188:  70%|7| 14/20 [00:03<00:01,  3.57i\u001b[32m[I 2021-06-22 14:15:25,951]\u001b[0m Trial 53 finished with value: 1.064263745136267 and parameters: {'lambda_l1': 2.2415411710470954e-07, 'lambda_l2': 0.2774239366123244}. Best is trial 50 with value: 1.0601876300054225.\u001b[0m\n",
      "regularization_factors, val_score: 1.060188:  70%|7| 14/20 [00:03<00:01,  3.57i"
     ]
    },
    {
     "name": "stdout",
     "output_type": "stream",
     "text": [
      "Training until validation scores don't improve for 100 rounds\n",
      "[100]\ttrain's rmse: 1.01915\teval's rmse: 1.08358\n",
      "[200]\ttrain's rmse: 0.962157\teval's rmse: 1.06812\n",
      "[300]\ttrain's rmse: 0.93183\teval's rmse: 1.06914\n"
     ]
    },
    {
     "name": "stderr",
     "output_type": "stream",
     "text": [
      "regularization_factors, val_score: 1.060188:  75%|7| 15/20 [00:04<00:01,  3.49i\u001b[32m[I 2021-06-22 14:15:26,262]\u001b[0m Trial 54 finished with value: 1.0634680601515072 and parameters: {'lambda_l1': 0.02971588828784205, 'lambda_l2': 0.0038706099318061536}. Best is trial 50 with value: 1.0601876300054225.\u001b[0m\n",
      "regularization_factors, val_score: 1.060188:  75%|7| 15/20 [00:04<00:01,  3.49i"
     ]
    },
    {
     "name": "stdout",
     "output_type": "stream",
     "text": [
      "Early stopping, best iteration is:\n",
      "[270]\ttrain's rmse: 0.942027\teval's rmse: 1.06347\n",
      "Training until validation scores don't improve for 100 rounds\n",
      "[100]\ttrain's rmse: 1.01888\teval's rmse: 1.08327\n",
      "[200]\ttrain's rmse: 0.960772\teval's rmse: 1.0665\n"
     ]
    },
    {
     "name": "stderr",
     "output_type": "stream",
     "text": [
      "regularization_factors, val_score: 1.060188:  80%|8| 16/20 [00:04<00:01,  3.43i\u001b[32m[I 2021-06-22 14:15:26,557]\u001b[0m Trial 55 finished with value: 1.0617127566078552 and parameters: {'lambda_l1': 1.0960802866823253e-08, 'lambda_l2': 9.494865175247173e-06}. Best is trial 50 with value: 1.0601876300054225.\u001b[0m\n",
      "regularization_factors, val_score: 1.060188:  80%|8| 16/20 [00:04<00:01,  3.43i"
     ]
    },
    {
     "name": "stdout",
     "output_type": "stream",
     "text": [
      "[300]\ttrain's rmse: 0.930861\teval's rmse: 1.06698\n",
      "Early stopping, best iteration is:\n",
      "[270]\ttrain's rmse: 0.940868\teval's rmse: 1.06171\n",
      "Training until validation scores don't improve for 100 rounds\n",
      "[100]\ttrain's rmse: 1.01888\teval's rmse: 1.08327\n"
     ]
    },
    {
     "name": "stderr",
     "output_type": "stream",
     "text": [
      "regularization_factors, val_score: 1.060188:  85%|8| 17/20 [00:04<00:00,  3.39i\u001b[32m[I 2021-06-22 14:15:26,865]\u001b[0m Trial 56 finished with value: 1.0617127482122837 and parameters: {'lambda_l1': 9.616983255711691e-07, 'lambda_l2': 1.089014995977996e-08}. Best is trial 50 with value: 1.0601876300054225.\u001b[0m\n",
      "regularization_factors, val_score: 1.060188:  85%|8| 17/20 [00:04<00:00,  3.39i"
     ]
    },
    {
     "name": "stdout",
     "output_type": "stream",
     "text": [
      "[200]\ttrain's rmse: 0.960772\teval's rmse: 1.0665\n",
      "[300]\ttrain's rmse: 0.930861\teval's rmse: 1.06698\n",
      "Early stopping, best iteration is:\n",
      "[270]\ttrain's rmse: 0.940868\teval's rmse: 1.06171\n",
      "Training until validation scores don't improve for 100 rounds\n"
     ]
    },
    {
     "name": "stderr",
     "output_type": "stream",
     "text": [
      "regularization_factors, val_score: 1.060188:  90%|9| 18/20 [00:05<00:00,  3.48i\u001b[32m[I 2021-06-22 14:15:27,130]\u001b[0m Trial 57 finished with value: 1.067352772351113 and parameters: {'lambda_l1': 7.311290531581502e-08, 'lambda_l2': 7.626147213704055}. Best is trial 50 with value: 1.0601876300054225.\u001b[0m\n",
      "regularization_factors, val_score: 1.060188:  90%|9| 18/20 [00:05<00:00,  3.48i"
     ]
    },
    {
     "name": "stdout",
     "output_type": "stream",
     "text": [
      "[100]\ttrain's rmse: 1.0632\teval's rmse: 1.12626\n",
      "[200]\ttrain's rmse: 0.976635\teval's rmse: 1.07046\n",
      "[300]\ttrain's rmse: 0.948553\teval's rmse: 1.07176\n",
      "Early stopping, best iteration is:\n",
      "[225]\ttrain's rmse: 0.968924\teval's rmse: 1.06735\n",
      "Training until validation scores don't improve for 100 rounds\n",
      "[100]\ttrain's rmse: 1.01915\teval's rmse: 1.08405\n",
      "[200]\ttrain's rmse: 0.960929\teval's rmse: 1.06477\n",
      "[300]\ttrain's rmse: 0.930503\teval's rmse: 1.06528\n",
      "Early stopping, best iteration is:\n",
      "[225]\ttrain's rmse: 0.95331\teval's rmse: 1.0606\n"
     ]
    },
    {
     "name": "stderr",
     "output_type": "stream",
     "text": [
      "regularization_factors, val_score: 1.060188:  95%|9| 19/20 [00:05<00:00,  3.23i\u001b[32m[I 2021-06-22 14:15:27,495]\u001b[0m Trial 58 finished with value: 1.0605964245878592 and parameters: {'lambda_l1': 1.0718638197338815e-08, 'lambda_l2': 0.17243040102878124}. Best is trial 50 with value: 1.0601876300054225.\u001b[0m\n",
      "regularization_factors, val_score: 1.060188:  95%|9| 19/20 [00:05<00:00,  3.23i"
     ]
    },
    {
     "name": "stdout",
     "output_type": "stream",
     "text": [
      "Training until validation scores don't improve for 100 rounds\n",
      "[100]\ttrain's rmse: 1.02021\teval's rmse: 1.08339\n",
      "[200]\ttrain's rmse: 0.96195\teval's rmse: 1.06588\n",
      "[300]\ttrain's rmse: 0.931806\teval's rmse: 1.06651\n",
      "Early stopping, best iteration is:\n",
      "[225]\ttrain's rmse: 0.954436\teval's rmse: 1.0612\n"
     ]
    },
    {
     "name": "stderr",
     "output_type": "stream",
     "text": [
      "regularization_factors, val_score: 1.060188: 100%|#| 20/20 [00:05<00:00,  3.41i\u001b[32m[I 2021-06-22 14:15:27,758]\u001b[0m Trial 59 finished with value: 1.061202067903386 and parameters: {'lambda_l1': 2.7152417361535764e-06, 'lambda_l2': 0.22420860489644914}. Best is trial 50 with value: 1.0601876300054225.\u001b[0m\n",
      "regularization_factors, val_score: 1.060188: 100%|#| 20/20 [00:05<00:00,  3.47i\n",
      "min_data_in_leaf, val_score: 1.060188:   0%|             | 0/5 [00:00<?, ?it/s]"
     ]
    },
    {
     "name": "stdout",
     "output_type": "stream",
     "text": [
      "Training until validation scores don't improve for 100 rounds\n",
      "[100]\ttrain's rmse: 1.74495\teval's rmse: 1.60357\n",
      "[200]\ttrain's rmse: 1.56444\teval's rmse: 1.51164\n",
      "[300]\ttrain's rmse: 1.46044\teval's rmse: 1.46806\n"
     ]
    },
    {
     "name": "stderr",
     "output_type": "stream",
     "text": [
      "min_data_in_leaf, val_score: 1.060188:  20%|#    | 1/5 [00:00<00:01,  2.54it/s]\u001b[32m[I 2021-06-22 14:15:28,160]\u001b[0m Trial 60 finished with value: 1.4502877971642205 and parameters: {'min_child_samples': 50}. Best is trial 60 with value: 1.4502877971642205.\u001b[0m\n",
      "min_data_in_leaf, val_score: 1.060188:  20%|#    | 1/5 [00:00<00:01,  2.54it/s]"
     ]
    },
    {
     "name": "stdout",
     "output_type": "stream",
     "text": [
      "[400]\ttrain's rmse: 1.39594\teval's rmse: 1.46175\n",
      "[500]\ttrain's rmse: 1.34309\teval's rmse: 1.46104\n",
      "Early stopping, best iteration is:\n",
      "[420]\ttrain's rmse: 1.38452\teval's rmse: 1.45029\n",
      "Training until validation scores don't improve for 100 rounds\n",
      "[100]\ttrain's rmse: 0.825735\teval's rmse: 0.966037\n"
     ]
    },
    {
     "name": "stderr",
     "output_type": "stream",
     "text": [
      "min_data_in_leaf, val_score: 0.952809:  40%|##   | 2/5 [00:00<00:00,  3.63it/s]\u001b[32m[I 2021-06-22 14:15:28,344]\u001b[0m Trial 61 finished with value: 0.9528091642722983 and parameters: {'min_child_samples': 5}. Best is trial 61 with value: 0.9528091642722983.\u001b[0m\n",
      "min_data_in_leaf, val_score: 0.952809:  40%|##   | 2/5 [00:00<00:00,  3.63it/s]"
     ]
    },
    {
     "name": "stdout",
     "output_type": "stream",
     "text": [
      "[200]\ttrain's rmse: 0.742762\teval's rmse: 0.964504\n",
      "Early stopping, best iteration is:\n",
      "[122]\ttrain's rmse: 0.794142\teval's rmse: 0.952809\n",
      "Training until validation scores don't improve for 100 rounds\n",
      "[100]\ttrain's rmse: 0.854979\teval's rmse: 0.98883\n",
      "[200]\ttrain's rmse: 0.797648\teval's rmse: 0.976731\n"
     ]
    },
    {
     "name": "stderr",
     "output_type": "stream",
     "text": [
      "min_data_in_leaf, val_score: 0.952809:  60%|###  | 3/5 [00:00<00:00,  4.06it/s]\u001b[32m[I 2021-06-22 14:15:28,566]\u001b[0m Trial 62 finished with value: 0.9736379769257579 and parameters: {'min_child_samples': 10}. Best is trial 61 with value: 0.9528091642722983.\u001b[0m\n",
      "min_data_in_leaf, val_score: 0.952809:  60%|###  | 3/5 [00:00<00:00,  4.06it/s]"
     ]
    },
    {
     "name": "stdout",
     "output_type": "stream",
     "text": [
      "Early stopping, best iteration is:\n",
      "[174]\ttrain's rmse: 0.807986\teval's rmse: 0.973638\n",
      "Training until validation scores don't improve for 100 rounds\n",
      "[100]\ttrain's rmse: 3.0277\teval's rmse: 2.6893\n",
      "[200]\ttrain's rmse: 2.7955\teval's rmse: 2.56524\n"
     ]
    },
    {
     "name": "stderr",
     "output_type": "stream",
     "text": [
      "min_data_in_leaf, val_score: 0.952809:  80%|#### | 4/5 [00:01<00:00,  3.37it/s]\u001b[32m[I 2021-06-22 14:15:28,930]\u001b[0m Trial 63 finished with value: 2.49502629674235 and parameters: {'min_child_samples': 100}. Best is trial 61 with value: 0.9528091642722983.\u001b[0m\n",
      "min_data_in_leaf, val_score: 0.952809:  80%|#### | 4/5 [00:01<00:00,  3.37it/s]"
     ]
    },
    {
     "name": "stdout",
     "output_type": "stream",
     "text": [
      "[300]\ttrain's rmse: 2.65923\teval's rmse: 2.51596\n",
      "[400]\ttrain's rmse: 2.56634\teval's rmse: 2.51089\n",
      "[500]\ttrain's rmse: 2.50285\teval's rmse: 2.51355\n",
      "Early stopping, best iteration is:\n",
      "[415]\ttrain's rmse: 2.55995\teval's rmse: 2.49503\n",
      "Training until validation scores don't improve for 100 rounds\n"
     ]
    },
    {
     "name": "stderr",
     "output_type": "stream",
     "text": [
      "min_data_in_leaf, val_score: 0.952809: 100%|#####| 5/5 [00:01<00:00,  3.52it/s]\u001b[32m[I 2021-06-22 14:15:29,192]\u001b[0m Trial 64 finished with value: 1.0791308158193391 and parameters: {'min_child_samples': 25}. Best is trial 61 with value: 0.9528091642722983.\u001b[0m\n",
      "min_data_in_leaf, val_score: 0.952809: 100%|#####| 5/5 [00:01<00:00,  3.49it/s]\n",
      "\u001b[32m[I 2021-06-22 14:15:29,223]\u001b[0m A new study created in memory with name: no-name-85824b94-016d-40a3-87c3-0c7509dc7d22\u001b[0m\n",
      "  0%|                                                    | 0/7 [00:00<?, ?it/s]"
     ]
    },
    {
     "name": "stdout",
     "output_type": "stream",
     "text": [
      "[100]\ttrain's rmse: 1.09743\teval's rmse: 1.1172\n",
      "[200]\ttrain's rmse: 1.03365\teval's rmse: 1.08325\n",
      "[300]\ttrain's rmse: 0.994615\teval's rmse: 1.08209\n",
      "Early stopping, best iteration is:\n",
      "[225]\ttrain's rmse: 1.02394\teval's rmse: 1.07913\n"
     ]
    },
    {
     "name": "stderr",
     "output_type": "stream",
     "text": [
      "\r",
      "feature_fraction, val_score: inf:   0%|                  | 0/7 [00:00<?, ?it/s]"
     ]
    },
    {
     "name": "stdout",
     "output_type": "stream",
     "text": [
      "Training until validation scores don't improve for 100 rounds\n",
      "[100]\ttrain's rmse: 1.0027\teval's rmse: 1.28306\n"
     ]
    },
    {
     "name": "stderr",
     "output_type": "stream",
     "text": [
      "feature_fraction, val_score: 1.280157:  14%|7    | 1/7 [00:00<00:02,  2.05it/s]\u001b[32m[I 2021-06-22 14:15:29,718]\u001b[0m Trial 0 finished with value: 1.2801572933528795 and parameters: {'feature_fraction': 1.0}. Best is trial 0 with value: 1.2801572933528795.\u001b[0m\n",
      "feature_fraction, val_score: 1.280157:  14%|7    | 1/7 [00:00<00:02,  2.05it/s]"
     ]
    },
    {
     "name": "stdout",
     "output_type": "stream",
     "text": [
      "[200]\ttrain's rmse: 0.917251\teval's rmse: 1.28576\n",
      "Early stopping, best iteration is:\n",
      "[161]\ttrain's rmse: 0.945006\teval's rmse: 1.28016\n",
      "Training until validation scores don't improve for 100 rounds\n",
      "[100]\ttrain's rmse: 1.28956\teval's rmse: 1.61895\n",
      "[200]\ttrain's rmse: 1.01531\teval's rmse: 1.45665\n",
      "[300]\ttrain's rmse: 0.927271\teval's rmse: 1.43532\n",
      "[400]\ttrain's rmse: 0.868276\teval's rmse: 1.43018\n"
     ]
    },
    {
     "name": "stderr",
     "output_type": "stream",
     "text": [
      "feature_fraction, val_score: 1.280157:  29%|#4   | 2/7 [00:01<00:03,  1.45it/s]\u001b[32m[I 2021-06-22 14:15:30,556]\u001b[0m Trial 1 finished with value: 1.4219595332830928 and parameters: {'feature_fraction': 0.7}. Best is trial 0 with value: 1.2801572933528795.\u001b[0m\n",
      "feature_fraction, val_score: 1.280157:  29%|#4   | 2/7 [00:01<00:03,  1.45it/s]"
     ]
    },
    {
     "name": "stdout",
     "output_type": "stream",
     "text": [
      "[500]\ttrain's rmse: 0.819933\teval's rmse: 1.43064\n",
      "Early stopping, best iteration is:\n",
      "[445]\ttrain's rmse: 0.847717\teval's rmse: 1.42196\n",
      "Training until validation scores don't improve for 100 rounds\n",
      "[100]\ttrain's rmse: 1.65467\teval's rmse: 1.98789\n",
      "[200]\ttrain's rmse: 1.13809\teval's rmse: 1.61492\n",
      "[300]\ttrain's rmse: 0.992885\teval's rmse: 1.53719\n",
      "[400]\ttrain's rmse: 0.916205\teval's rmse: 1.51171\n",
      "[500]\ttrain's rmse: 0.859542\teval's rmse: 1.49912\n",
      "[600]\ttrain's rmse: 0.809045\teval's rmse: 1.4829\n"
     ]
    },
    {
     "name": "stderr",
     "output_type": "stream",
     "text": [
      "\r",
      "feature_fraction, val_score: 1.280157:  29%|#4   | 2/7 [00:02<00:03,  1.45it/s]"
     ]
    },
    {
     "name": "stdout",
     "output_type": "stream",
     "text": [
      "[700]\ttrain's rmse: 0.769919\teval's rmse: 1.48205\n",
      "Early stopping, best iteration is:\n",
      "[655]\ttrain's rmse: 0.787464\teval's rmse: 1.47934\n"
     ]
    },
    {
     "name": "stderr",
     "output_type": "stream",
     "text": [
      "feature_fraction, val_score: 1.280157:  43%|##1  | 3/7 [00:02<00:03,  1.04it/s]\u001b[32m[I 2021-06-22 14:15:31,837]\u001b[0m Trial 2 finished with value: 1.4793409377270883 and parameters: {'feature_fraction': 0.6}. Best is trial 0 with value: 1.2801572933528795.\u001b[0m\n",
      "feature_fraction, val_score: 1.280157:  43%|##1  | 3/7 [00:02<00:03,  1.04it/s]"
     ]
    },
    {
     "name": "stdout",
     "output_type": "stream",
     "text": [
      "Training until validation scores don't improve for 100 rounds\n",
      "[100]\ttrain's rmse: 1.10037\teval's rmse: 1.40217\n",
      "[200]\ttrain's rmse: 0.953578\teval's rmse: 1.35426\n",
      "[300]\ttrain's rmse: 0.885367\teval's rmse: 1.35065\n",
      "Early stopping, best iteration is:\n",
      "[271]\ttrain's rmse: 0.904086\teval's rmse: 1.34684\n"
     ]
    },
    {
     "name": "stderr",
     "output_type": "stream",
     "text": [
      "feature_fraction, val_score: 1.280157:  57%|##8  | 4/7 [00:03<00:02,  1.25it/s]\u001b[32m[I 2021-06-22 14:15:32,386]\u001b[0m Trial 3 finished with value: 1.3468373264780782 and parameters: {'feature_fraction': 0.8}. Best is trial 0 with value: 1.2801572933528795.\u001b[0m\n",
      "feature_fraction, val_score: 1.280157:  57%|##8  | 4/7 [00:03<00:02,  1.25it/s]"
     ]
    },
    {
     "name": "stdout",
     "output_type": "stream",
     "text": [
      "Training until validation scores don't improve for 100 rounds\n",
      "[100]\ttrain's rmse: 2.36983\teval's rmse: 2.66771\n",
      "[200]\ttrain's rmse: 1.47569\teval's rmse: 1.92639\n",
      "[300]\ttrain's rmse: 1.19278\teval's rmse: 1.73511\n",
      "[400]\ttrain's rmse: 1.0564\teval's rmse: 1.65204\n",
      "[500]\ttrain's rmse: 0.976879\teval's rmse: 1.60132\n",
      "[600]\ttrain's rmse: 0.91277\teval's rmse: 1.57414\n",
      "[700]\ttrain's rmse: 0.867252\teval's rmse: 1.55761\n",
      "[800]\ttrain's rmse: 0.823032\teval's rmse: 1.53759\n",
      "[900]\ttrain's rmse: 0.788899\teval's rmse: 1.52999\n",
      "[1000]\ttrain's rmse: 0.75952\teval's rmse: 1.52157\n",
      "Did not meet early stopping. Best iteration is:\n",
      "[1000]\ttrain's rmse: 0.75952\teval's rmse: 1.52157\n"
     ]
    },
    {
     "name": "stderr",
     "output_type": "stream",
     "text": [
      "feature_fraction, val_score: 1.280157:  71%|###5 | 5/7 [00:04<00:02,  1.11s/it]\u001b[32m[I 2021-06-22 14:15:34,057]\u001b[0m Trial 4 finished with value: 1.521571696831185 and parameters: {'feature_fraction': 0.4}. Best is trial 0 with value: 1.2801572933528795.\u001b[0m\n",
      "feature_fraction, val_score: 1.280157:  71%|###5 | 5/7 [00:04<00:02,  1.11s/it]"
     ]
    },
    {
     "name": "stdout",
     "output_type": "stream",
     "text": [
      "Training until validation scores don't improve for 100 rounds\n",
      "[100]\ttrain's rmse: 1.05436\teval's rmse: 1.36079\n",
      "[200]\ttrain's rmse: 0.934858\teval's rmse: 1.33036\n",
      "[300]\ttrain's rmse: 0.870696\teval's rmse: 1.33069\n"
     ]
    },
    {
     "name": "stderr",
     "output_type": "stream",
     "text": [
      "feature_fraction, val_score: 1.280157:  86%|####2| 6/7 [00:05<00:00,  1.03it/s]\u001b[32m[I 2021-06-22 14:15:34,735]\u001b[0m Trial 5 finished with value: 1.3280879871574622 and parameters: {'feature_fraction': 0.8999999999999999}. Best is trial 0 with value: 1.2801572933528795.\u001b[0m\n",
      "feature_fraction, val_score: 1.280157:  86%|####2| 6/7 [00:05<00:00,  1.03it/s]"
     ]
    },
    {
     "name": "stdout",
     "output_type": "stream",
     "text": [
      "Early stopping, best iteration is:\n",
      "[271]\ttrain's rmse: 0.888888\teval's rmse: 1.32809\n",
      "Training until validation scores don't improve for 100 rounds\n",
      "[100]\ttrain's rmse: 1.81499\teval's rmse: 2.11051\n",
      "[200]\ttrain's rmse: 1.21954\teval's rmse: 1.65281\n",
      "[300]\ttrain's rmse: 1.03904\teval's rmse: 1.55151\n",
      "[400]\ttrain's rmse: 0.958336\teval's rmse: 1.51149\n",
      "[500]\ttrain's rmse: 0.899932\teval's rmse: 1.48879\n",
      "[600]\ttrain's rmse: 0.848838\teval's rmse: 1.4758\n",
      "[700]\ttrain's rmse: 0.807264\teval's rmse: 1.4718\n",
      "[800]\ttrain's rmse: 0.769148\teval's rmse: 1.46517\n",
      "[900]\ttrain's rmse: 0.7363\teval's rmse: 1.46506\n",
      "[1000]\ttrain's rmse: 0.706592\teval's rmse: 1.46051\n",
      "Did not meet early stopping. Best iteration is:\n",
      "[1000]\ttrain's rmse: 0.706592\teval's rmse: 1.46051\n"
     ]
    },
    {
     "name": "stderr",
     "output_type": "stream",
     "text": [
      "feature_fraction, val_score: 1.280157: 100%|#####| 7/7 [00:07<00:00,  1.24s/it]\u001b[32m[I 2021-06-22 14:15:36,537]\u001b[0m Trial 6 finished with value: 1.460512544343433 and parameters: {'feature_fraction': 0.5}. Best is trial 0 with value: 1.2801572933528795.\u001b[0m\n",
      "feature_fraction, val_score: 1.280157: 100%|#####| 7/7 [00:07<00:00,  1.04s/it]\n",
      "num_leaves, val_score: 1.280157:   0%|                  | 0/20 [00:00<?, ?it/s]"
     ]
    },
    {
     "name": "stdout",
     "output_type": "stream",
     "text": [
      "Training until validation scores don't improve for 100 rounds\n",
      "[100]\ttrain's rmse: 1.00671\teval's rmse: 1.28186\n"
     ]
    },
    {
     "name": "stderr",
     "output_type": "stream",
     "text": [
      "num_leaves, val_score: 1.280019:   5%|5         | 1/20 [00:00<00:08,  2.25it/s]\u001b[32m[I 2021-06-22 14:15:36,988]\u001b[0m Trial 7 finished with value: 1.2800185517921 and parameters: {'num_leaves': 183}. Best is trial 7 with value: 1.2800185517921.\u001b[0m\n",
      "num_leaves, val_score: 1.280019:   5%|5         | 1/20 [00:00<00:08,  2.25it/s]"
     ]
    },
    {
     "name": "stdout",
     "output_type": "stream",
     "text": [
      "[200]\ttrain's rmse: 0.916938\teval's rmse: 1.2883\n",
      "Early stopping, best iteration is:\n",
      "[114]\ttrain's rmse: 0.984696\teval's rmse: 1.28002\n",
      "Training until validation scores don't improve for 100 rounds\n",
      "[100]\ttrain's rmse: 1.00671\teval's rmse: 1.28186\n"
     ]
    },
    {
     "name": "stderr",
     "output_type": "stream",
     "text": [
      "num_leaves, val_score: 1.280019:  10%|#         | 2/20 [00:00<00:08,  2.08it/s]\u001b[32m[I 2021-06-22 14:15:37,494]\u001b[0m Trial 8 finished with value: 1.2800185517921 and parameters: {'num_leaves': 114}. Best is trial 7 with value: 1.2800185517921.\u001b[0m\n",
      "num_leaves, val_score: 1.280019:  10%|#         | 2/20 [00:00<00:08,  2.08it/s]"
     ]
    },
    {
     "name": "stdout",
     "output_type": "stream",
     "text": [
      "[200]\ttrain's rmse: 0.916938\teval's rmse: 1.2883\n",
      "Early stopping, best iteration is:\n",
      "[114]\ttrain's rmse: 0.984696\teval's rmse: 1.28002\n",
      "Training until validation scores don't improve for 100 rounds\n",
      "[100]\ttrain's rmse: 1.00671\teval's rmse: 1.28186\n",
      "[200]\ttrain's rmse: 0.916938\teval's rmse: 1.2883\n",
      "Early stopping, best iteration is:\n",
      "[114]\ttrain's rmse: 0.984696\teval's rmse: 1.28002\n"
     ]
    },
    {
     "name": "stderr",
     "output_type": "stream",
     "text": [
      "num_leaves, val_score: 1.280019:  15%|#5        | 3/20 [00:01<00:07,  2.18it/s]\u001b[32m[I 2021-06-22 14:15:37,929]\u001b[0m Trial 9 finished with value: 1.2800185517921 and parameters: {'num_leaves': 61}. Best is trial 7 with value: 1.2800185517921.\u001b[0m\n",
      "num_leaves, val_score: 1.280019:  15%|#5        | 3/20 [00:01<00:07,  2.18it/s]"
     ]
    },
    {
     "name": "stdout",
     "output_type": "stream",
     "text": [
      "Training until validation scores don't improve for 100 rounds\n",
      "[100]\ttrain's rmse: 1.00671\teval's rmse: 1.28186\n"
     ]
    },
    {
     "name": "stderr",
     "output_type": "stream",
     "text": [
      "num_leaves, val_score: 1.280019:  20%|##        | 4/20 [00:01<00:07,  2.23it/s]\u001b[32m[I 2021-06-22 14:15:38,363]\u001b[0m Trial 10 finished with value: 1.2800185517921 and parameters: {'num_leaves': 175}. Best is trial 7 with value: 1.2800185517921.\u001b[0m\n",
      "num_leaves, val_score: 1.280019:  20%|##        | 4/20 [00:01<00:07,  2.23it/s]"
     ]
    },
    {
     "name": "stdout",
     "output_type": "stream",
     "text": [
      "[200]\ttrain's rmse: 0.916938\teval's rmse: 1.2883\n",
      "Early stopping, best iteration is:\n",
      "[114]\ttrain's rmse: 0.984696\teval's rmse: 1.28002\n",
      "Training until validation scores don't improve for 100 rounds\n"
     ]
    },
    {
     "name": "stderr",
     "output_type": "stream",
     "text": [
      "\r",
      "num_leaves, val_score: 1.280019:  20%|##        | 4/20 [00:02<00:07,  2.23it/s]"
     ]
    },
    {
     "name": "stdout",
     "output_type": "stream",
     "text": [
      "[100]\ttrain's rmse: 1.00671\teval's rmse: 1.28186\n",
      "[200]\ttrain's rmse: 0.916938\teval's rmse: 1.2883\n",
      "Early stopping, best iteration is:\n",
      "[114]\ttrain's rmse: 0.984696\teval's rmse: 1.28002\n"
     ]
    },
    {
     "name": "stderr",
     "output_type": "stream",
     "text": [
      "num_leaves, val_score: 1.280019:  25%|##5       | 5/20 [00:02<00:06,  2.33it/s]\u001b[32m[I 2021-06-22 14:15:38,757]\u001b[0m Trial 11 finished with value: 1.2800185517921 and parameters: {'num_leaves': 55}. Best is trial 7 with value: 1.2800185517921.\u001b[0m\n",
      "num_leaves, val_score: 1.280019:  25%|##5       | 5/20 [00:02<00:06,  2.33it/s]"
     ]
    },
    {
     "name": "stdout",
     "output_type": "stream",
     "text": [
      "Training until validation scores don't improve for 100 rounds\n",
      "[100]\ttrain's rmse: 1.00685\teval's rmse: 1.28191\n"
     ]
    },
    {
     "name": "stderr",
     "output_type": "stream",
     "text": [
      "num_leaves, val_score: 1.279966:  30%|###       | 6/20 [00:02<00:05,  2.37it/s]\u001b[32m[I 2021-06-22 14:15:39,170]\u001b[0m Trial 12 finished with value: 1.2799660184938553 and parameters: {'num_leaves': 48}. Best is trial 12 with value: 1.2799660184938553.\u001b[0m\n",
      "num_leaves, val_score: 1.279966:  30%|###       | 6/20 [00:02<00:05,  2.37it/s]"
     ]
    },
    {
     "name": "stdout",
     "output_type": "stream",
     "text": [
      "[200]\ttrain's rmse: 0.916698\teval's rmse: 1.28813\n",
      "Early stopping, best iteration is:\n",
      "[114]\ttrain's rmse: 0.984211\teval's rmse: 1.27997\n",
      "Training until validation scores don't improve for 100 rounds\n",
      "[100]\ttrain's rmse: 1.00671\teval's rmse: 1.28186\n",
      "[200]\ttrain's rmse: 0.916938\teval's rmse: 1.2883\n"
     ]
    },
    {
     "name": "stderr",
     "output_type": "stream",
     "text": [
      "num_leaves, val_score: 1.279966:  35%|###5      | 7/20 [00:03<00:05,  2.20it/s]\u001b[32m[I 2021-06-22 14:15:39,687]\u001b[0m Trial 13 finished with value: 1.2800185517921 and parameters: {'num_leaves': 212}. Best is trial 12 with value: 1.2799660184938553.\u001b[0m\n",
      "num_leaves, val_score: 1.279966:  35%|###5      | 7/20 [00:03<00:05,  2.20it/s]"
     ]
    },
    {
     "name": "stdout",
     "output_type": "stream",
     "text": [
      "Early stopping, best iteration is:\n",
      "[114]\ttrain's rmse: 0.984696\teval's rmse: 1.28002\n",
      "Training until validation scores don't improve for 100 rounds\n",
      "[100]\ttrain's rmse: 1.0087\teval's rmse: 1.27947\n"
     ]
    },
    {
     "name": "stderr",
     "output_type": "stream",
     "text": [
      "num_leaves, val_score: 1.277947:  40%|####      | 8/20 [00:03<00:04,  2.52it/s]\u001b[32m[I 2021-06-22 14:15:39,971]\u001b[0m Trial 14 finished with value: 1.2779469681487832 and parameters: {'num_leaves': 23}. Best is trial 14 with value: 1.2779469681487832.\u001b[0m\n",
      "num_leaves, val_score: 1.277947:  40%|####      | 8/20 [00:03<00:04,  2.52it/s]"
     ]
    },
    {
     "name": "stdout",
     "output_type": "stream",
     "text": [
      "Early stopping, best iteration is:\n",
      "[95]\ttrain's rmse: 1.01599\teval's rmse: 1.27795\n",
      "Training until validation scores don't improve for 100 rounds\n",
      "[100]\ttrain's rmse: 1.00671\teval's rmse: 1.28186\n",
      "[200]\ttrain's rmse: 0.916938\teval's rmse: 1.2883\n"
     ]
    },
    {
     "name": "stderr",
     "output_type": "stream",
     "text": [
      "num_leaves, val_score: 1.277947:  45%|####5     | 9/20 [00:03<00:04,  2.42it/s]\u001b[32m[I 2021-06-22 14:15:40,406]\u001b[0m Trial 15 finished with value: 1.2800185517921 and parameters: {'num_leaves': 197}. Best is trial 14 with value: 1.2779469681487832.\u001b[0m\n",
      "num_leaves, val_score: 1.277947:  45%|####5     | 9/20 [00:03<00:04,  2.42it/s]"
     ]
    },
    {
     "name": "stdout",
     "output_type": "stream",
     "text": [
      "Early stopping, best iteration is:\n",
      "[114]\ttrain's rmse: 0.984696\teval's rmse: 1.28002\n",
      "Training until validation scores don't improve for 100 rounds\n",
      "[100]\ttrain's rmse: 1.00671\teval's rmse: 1.28186\n",
      "[200]\ttrain's rmse: 0.916938\teval's rmse: 1.2883\n",
      "Early stopping, best iteration is:\n",
      "[114]\ttrain's rmse: 0.984696\teval's rmse: 1.28002\n"
     ]
    },
    {
     "name": "stderr",
     "output_type": "stream",
     "text": [
      "num_leaves, val_score: 1.277947:  50%|####5    | 10/20 [00:04<00:04,  2.40it/s]\u001b[32m[I 2021-06-22 14:15:40,839]\u001b[0m Trial 16 finished with value: 1.2800185517921 and parameters: {'num_leaves': 77}. Best is trial 14 with value: 1.2779469681487832.\u001b[0m\n",
      "num_leaves, val_score: 1.277947:  50%|####5    | 10/20 [00:04<00:04,  2.40it/s]"
     ]
    },
    {
     "name": "stdout",
     "output_type": "stream",
     "text": [
      "Training until validation scores don't improve for 100 rounds\n",
      "[100]\ttrain's rmse: 1.01734\teval's rmse: 1.2838\n"
     ]
    },
    {
     "name": "stderr",
     "output_type": "stream",
     "text": [
      "num_leaves, val_score: 1.277947:  55%|####9    | 11/20 [00:04<00:03,  2.64it/s]\u001b[32m[I 2021-06-22 14:15:41,124]\u001b[0m Trial 17 finished with value: 1.2802921095836655 and parameters: {'num_leaves': 14}. Best is trial 14 with value: 1.2779469681487832.\u001b[0m\n",
      "num_leaves, val_score: 1.277947:  55%|####9    | 11/20 [00:04<00:03,  2.64it/s]"
     ]
    },
    {
     "name": "stdout",
     "output_type": "stream",
     "text": [
      "[200]\ttrain's rmse: 0.95087\teval's rmse: 1.28707\n",
      "Early stopping, best iteration is:\n",
      "[163]\ttrain's rmse: 0.972956\teval's rmse: 1.28029\n",
      "Training until validation scores don't improve for 100 rounds\n",
      "[100]\ttrain's rmse: 1.02405\teval's rmse: 1.28661\n"
     ]
    },
    {
     "name": "stderr",
     "output_type": "stream",
     "text": [
      "num_leaves, val_score: 1.277947:  60%|#####3   | 12/20 [00:04<00:02,  2.79it/s]\u001b[32m[I 2021-06-22 14:15:41,438]\u001b[0m Trial 18 finished with value: 1.2832996198049997 and parameters: {'num_leaves': 11}. Best is trial 14 with value: 1.2779469681487832.\u001b[0m\n",
      "num_leaves, val_score: 1.277947:  60%|#####3   | 12/20 [00:04<00:02,  2.79it/s]"
     ]
    },
    {
     "name": "stdout",
     "output_type": "stream",
     "text": [
      "[200]\ttrain's rmse: 0.959489\teval's rmse: 1.28939\n",
      "Early stopping, best iteration is:\n",
      "[165]\ttrain's rmse: 0.979907\teval's rmse: 1.2833\n",
      "Training until validation scores don't improve for 100 rounds\n",
      "[100]\ttrain's rmse: 2.53916\teval's rmse: 2.71399\n"
     ]
    },
    {
     "name": "stderr",
     "output_type": "stream",
     "text": [
      "num_leaves, val_score: 1.277947:  65%|#####8   | 13/20 [00:05<00:02,  3.01it/s]\u001b[32m[I 2021-06-22 14:15:41,713]\u001b[0m Trial 19 finished with value: 1.2842530693273202 and parameters: {'num_leaves': 2}. Best is trial 14 with value: 1.2779469681487832.\u001b[0m\n",
      "num_leaves, val_score: 1.277947:  65%|#####8   | 13/20 [00:05<00:02,  3.01it/s]"
     ]
    },
    {
     "name": "stdout",
     "output_type": "stream",
     "text": [
      "[200]\ttrain's rmse: 1.13538\teval's rmse: 1.35023\n",
      "[300]\ttrain's rmse: 1.05002\teval's rmse: 1.29051\n",
      "[400]\ttrain's rmse: 1.03408\teval's rmse: 1.28672\n",
      "[500]\ttrain's rmse: 1.02698\teval's rmse: 1.291\n",
      "Early stopping, best iteration is:\n",
      "[444]\ttrain's rmse: 1.03222\teval's rmse: 1.28425\n",
      "Training until validation scores don't improve for 100 rounds\n",
      "[100]\ttrain's rmse: 1.00671\teval's rmse: 1.28186\n"
     ]
    },
    {
     "name": "stderr",
     "output_type": "stream",
     "text": [
      "num_leaves, val_score: 1.277947:  70%|######3  | 14/20 [00:05<00:02,  2.71it/s]\u001b[32m[I 2021-06-22 14:15:42,162]\u001b[0m Trial 20 finished with value: 1.2800185517921 and parameters: {'num_leaves': 106}. Best is trial 14 with value: 1.2779469681487832.\u001b[0m\n",
      "num_leaves, val_score: 1.277947:  70%|######3  | 14/20 [00:05<00:02,  2.71it/s]"
     ]
    },
    {
     "name": "stdout",
     "output_type": "stream",
     "text": [
      "[200]\ttrain's rmse: 0.916938\teval's rmse: 1.2883\n",
      "Early stopping, best iteration is:\n",
      "[114]\ttrain's rmse: 0.984696\teval's rmse: 1.28002\n",
      "Training until validation scores don't improve for 100 rounds\n"
     ]
    },
    {
     "name": "stderr",
     "output_type": "stream",
     "text": [
      "\r",
      "num_leaves, val_score: 1.277947:  70%|######3  | 14/20 [00:05<00:02,  2.71it/s]"
     ]
    },
    {
     "name": "stdout",
     "output_type": "stream",
     "text": [
      "[100]\ttrain's rmse: 1.00188\teval's rmse: 1.28212\n",
      "[200]\ttrain's rmse: 0.915749\teval's rmse: 1.29089\n",
      "Early stopping, best iteration is:\n",
      "[114]\ttrain's rmse: 0.98165\teval's rmse: 1.27989\n"
     ]
    },
    {
     "name": "stderr",
     "output_type": "stream",
     "text": [
      "num_leaves, val_score: 1.277947:  75%|######7  | 15/20 [00:05<00:01,  2.72it/s]\u001b[32m[I 2021-06-22 14:15:42,526]\u001b[0m Trial 21 finished with value: 1.279892491067192 and parameters: {'num_leaves': 36}. Best is trial 14 with value: 1.2779469681487832.\u001b[0m\n",
      "num_leaves, val_score: 1.277947:  75%|######7  | 15/20 [00:05<00:01,  2.72it/s]"
     ]
    },
    {
     "name": "stdout",
     "output_type": "stream",
     "text": [
      "Training until validation scores don't improve for 100 rounds\n",
      "[100]\ttrain's rmse: 1.00671\teval's rmse: 1.28186\n"
     ]
    },
    {
     "name": "stderr",
     "output_type": "stream",
     "text": [
      "num_leaves, val_score: 1.277947:  80%|#######2 | 16/20 [00:06<00:01,  2.56it/s]\u001b[32m[I 2021-06-22 14:15:42,970]\u001b[0m Trial 22 finished with value: 1.2800185517921 and parameters: {'num_leaves': 256}. Best is trial 14 with value: 1.2779469681487832.\u001b[0m\n",
      "num_leaves, val_score: 1.277947:  80%|#######2 | 16/20 [00:06<00:01,  2.56it/s]"
     ]
    },
    {
     "name": "stdout",
     "output_type": "stream",
     "text": [
      "[200]\ttrain's rmse: 0.916938\teval's rmse: 1.2883\n",
      "Early stopping, best iteration is:\n",
      "[114]\ttrain's rmse: 0.984696\teval's rmse: 1.28002\n",
      "Training until validation scores don't improve for 100 rounds\n"
     ]
    },
    {
     "name": "stderr",
     "output_type": "stream",
     "text": [
      "num_leaves, val_score: 1.277947:  85%|#######6 | 17/20 [00:06<00:01,  2.68it/s]\u001b[32m[I 2021-06-22 14:15:43,314]\u001b[0m Trial 23 finished with value: 1.2804197106372825 and parameters: {'num_leaves': 28}. Best is trial 14 with value: 1.2779469681487832.\u001b[0m\n",
      "num_leaves, val_score: 1.277947:  85%|#######6 | 17/20 [00:06<00:01,  2.68it/s]"
     ]
    },
    {
     "name": "stdout",
     "output_type": "stream",
     "text": [
      "[100]\ttrain's rmse: 1.00372\teval's rmse: 1.28226\n",
      "Early stopping, best iteration is:\n",
      "[95]\ttrain's rmse: 1.01079\teval's rmse: 1.28042\n",
      "Training until validation scores don't improve for 100 rounds\n"
     ]
    },
    {
     "name": "stderr",
     "output_type": "stream",
     "text": [
      "\r",
      "num_leaves, val_score: 1.277947:  85%|#######6 | 17/20 [00:07<00:01,  2.68it/s]"
     ]
    },
    {
     "name": "stdout",
     "output_type": "stream",
     "text": [
      "[100]\ttrain's rmse: 1.00671\teval's rmse: 1.28186\n",
      "[200]\ttrain's rmse: 0.916938\teval's rmse: 1.2883\n",
      "Early stopping, best iteration is:\n",
      "[114]\ttrain's rmse: 0.984696\teval's rmse: 1.28002\n"
     ]
    },
    {
     "name": "stderr",
     "output_type": "stream",
     "text": [
      "num_leaves, val_score: 1.277947:  90%|########1| 18/20 [00:07<00:00,  2.47it/s]\u001b[32m[I 2021-06-22 14:15:43,790]\u001b[0m Trial 24 finished with value: 1.2800185517921 and parameters: {'num_leaves': 89}. Best is trial 14 with value: 1.2779469681487832.\u001b[0m\n",
      "num_leaves, val_score: 1.277947:  90%|########1| 18/20 [00:07<00:00,  2.47it/s]"
     ]
    },
    {
     "name": "stdout",
     "output_type": "stream",
     "text": [
      "Training until validation scores don't improve for 100 rounds\n",
      "[100]\ttrain's rmse: 1.00671\teval's rmse: 1.28186\n"
     ]
    },
    {
     "name": "stderr",
     "output_type": "stream",
     "text": [
      "num_leaves, val_score: 1.277947:  95%|########5| 19/20 [00:07<00:00,  2.37it/s]\u001b[32m[I 2021-06-22 14:15:44,244]\u001b[0m Trial 25 finished with value: 1.2800185517921 and parameters: {'num_leaves': 149}. Best is trial 14 with value: 1.2779469681487832.\u001b[0m\n",
      "num_leaves, val_score: 1.277947:  95%|########5| 19/20 [00:07<00:00,  2.37it/s]"
     ]
    },
    {
     "name": "stdout",
     "output_type": "stream",
     "text": [
      "[200]\ttrain's rmse: 0.916938\teval's rmse: 1.2883\n",
      "Early stopping, best iteration is:\n",
      "[114]\ttrain's rmse: 0.984696\teval's rmse: 1.28002\n",
      "Training until validation scores don't improve for 100 rounds\n",
      "[100]\ttrain's rmse: 1.0027\teval's rmse: 1.28306\n",
      "[200]\ttrain's rmse: 0.917251\teval's rmse: 1.28576\n"
     ]
    },
    {
     "name": "stderr",
     "output_type": "stream",
     "text": [
      "num_leaves, val_score: 1.277947: 100%|#########| 20/20 [00:08<00:00,  2.33it/s]\u001b[32m[I 2021-06-22 14:15:44,689]\u001b[0m Trial 26 finished with value: 1.2801572933528795 and parameters: {'num_leaves': 31}. Best is trial 14 with value: 1.2779469681487832.\u001b[0m\n",
      "num_leaves, val_score: 1.277947: 100%|#########| 20/20 [00:08<00:00,  2.46it/s]\n",
      "bagging, val_score: 1.277947:   0%|                     | 0/10 [00:00<?, ?it/s]"
     ]
    },
    {
     "name": "stdout",
     "output_type": "stream",
     "text": [
      "Early stopping, best iteration is:\n",
      "[161]\ttrain's rmse: 0.945006\teval's rmse: 1.28016\n",
      "Training until validation scores don't improve for 100 rounds\n",
      "[100]\ttrain's rmse: 0.993339\teval's rmse: 1.29129\n"
     ]
    },
    {
     "name": "stderr",
     "output_type": "stream",
     "text": [
      "bagging, val_score: 1.277947:  10%|#3           | 1/10 [00:00<00:02,  3.44it/s]\u001b[32m[I 2021-06-22 14:15:44,992]\u001b[0m Trial 27 finished with value: 1.2853479977053792 and parameters: {'bagging_fraction': 0.8646277051749404, 'bagging_freq': 7}. Best is trial 27 with value: 1.2853479977053792.\u001b[0m\n",
      "bagging, val_score: 1.277947:  10%|#3           | 1/10 [00:00<00:02,  3.44it/s]"
     ]
    },
    {
     "name": "stdout",
     "output_type": "stream",
     "text": [
      "[200]\ttrain's rmse: 0.911959\teval's rmse: 1.29209\n",
      "Early stopping, best iteration is:\n",
      "[111]\ttrain's rmse: 0.976459\teval's rmse: 1.28535\n",
      "Training until validation scores don't improve for 100 rounds\n",
      "[100]\ttrain's rmse: 1.24328\teval's rmse: 1.45228\n",
      "[200]\ttrain's rmse: 1.1235\teval's rmse: 1.39363\n",
      "[300]\ttrain's rmse: 1.0639\teval's rmse: 1.36799\n",
      "[400]\ttrain's rmse: 1.02165\teval's rmse: 1.35513\n",
      "[500]\ttrain's rmse: 0.984895\teval's rmse: 1.35327\n",
      "[600]\ttrain's rmse: 0.953959\teval's rmse: 1.3491\n",
      "[700]\ttrain's rmse: 0.92735\teval's rmse: 1.34569\n",
      "[800]\ttrain's rmse: 0.900232\teval's rmse: 1.34543\n",
      "Early stopping, best iteration is:\n",
      "[765]\ttrain's rmse: 0.909284\teval's rmse: 1.34318\n"
     ]
    },
    {
     "name": "stderr",
     "output_type": "stream",
     "text": [
      "bagging, val_score: 1.277947:  20%|##6          | 2/10 [00:01<00:07,  1.14it/s]\u001b[32m[I 2021-06-22 14:15:46,288]\u001b[0m Trial 28 finished with value: 1.3431810483761544 and parameters: {'bagging_fraction': 0.5125452301973729, 'bagging_freq': 1}. Best is trial 27 with value: 1.2853479977053792.\u001b[0m\n",
      "bagging, val_score: 1.277947:  20%|##6          | 2/10 [00:01<00:07,  1.14it/s]"
     ]
    },
    {
     "name": "stdout",
     "output_type": "stream",
     "text": [
      "Training until validation scores don't improve for 100 rounds\n",
      "[100]\ttrain's rmse: 1.32322\teval's rmse: 1.54835\n",
      "[200]\ttrain's rmse: 1.1961\teval's rmse: 1.46493\n",
      "[300]\ttrain's rmse: 1.14845\teval's rmse: 1.43743\n",
      "[400]\ttrain's rmse: 1.09591\teval's rmse: 1.40954\n",
      "[500]\ttrain's rmse: 1.0507\teval's rmse: 1.39218\n",
      "[600]\ttrain's rmse: 1.01836\teval's rmse: 1.38108\n",
      "[700]\ttrain's rmse: 0.99033\teval's rmse: 1.37768\n",
      "[800]\ttrain's rmse: 0.958649\teval's rmse: 1.3754\n",
      "Early stopping, best iteration is:\n",
      "[721]\ttrain's rmse: 0.983415\teval's rmse: 1.37215\n"
     ]
    },
    {
     "name": "stderr",
     "output_type": "stream",
     "text": [
      "bagging, val_score: 1.277947:  30%|###9         | 3/10 [00:02<00:06,  1.02it/s]\u001b[32m[I 2021-06-22 14:15:47,377]\u001b[0m Trial 29 finished with value: 1.3721471786123687 and parameters: {'bagging_fraction': 0.4646291628364745, 'bagging_freq': 7}. Best is trial 27 with value: 1.2853479977053792.\u001b[0m\n",
      "bagging, val_score: 1.277947:  30%|###9         | 3/10 [00:02<00:06,  1.02it/s]"
     ]
    },
    {
     "name": "stdout",
     "output_type": "stream",
     "text": [
      "Training until validation scores don't improve for 100 rounds\n",
      "[100]\ttrain's rmse: 1.18151\teval's rmse: 1.42775\n",
      "[200]\ttrain's rmse: 1.06867\teval's rmse: 1.37815\n",
      "[300]\ttrain's rmse: 1.01188\teval's rmse: 1.36517\n",
      "[400]\ttrain's rmse: 0.973367\teval's rmse: 1.35512\n",
      "[500]\ttrain's rmse: 0.934838\teval's rmse: 1.35043\n",
      "[600]\ttrain's rmse: 0.903253\teval's rmse: 1.34957\n",
      "Early stopping, best iteration is:\n",
      "[516]\ttrain's rmse: 0.925855\teval's rmse: 1.3474\n"
     ]
    },
    {
     "name": "stderr",
     "output_type": "stream",
     "text": [
      "bagging, val_score: 1.277947:  40%|#####2       | 4/10 [00:03<00:05,  1.09it/s]\u001b[32m[I 2021-06-22 14:15:48,205]\u001b[0m Trial 30 finished with value: 1.347404327109835 and parameters: {'bagging_fraction': 0.5822074923479901, 'bagging_freq': 6}. Best is trial 27 with value: 1.2853479977053792.\u001b[0m\n",
      "bagging, val_score: 1.277947:  40%|#####2       | 4/10 [00:03<00:05,  1.09it/s]"
     ]
    },
    {
     "name": "stdout",
     "output_type": "stream",
     "text": [
      "Training until validation scores don't improve for 100 rounds\n",
      "[100]\ttrain's rmse: 0.9647\teval's rmse: 1.28497\n"
     ]
    },
    {
     "name": "stderr",
     "output_type": "stream",
     "text": [
      "bagging, val_score: 1.277947:  50%|######5      | 5/10 [00:03<00:03,  1.45it/s]\u001b[32m[I 2021-06-22 14:15:48,488]\u001b[0m Trial 31 finished with value: 1.283785676868527 and parameters: {'bagging_fraction': 0.8839142318094, 'bagging_freq': 2}. Best is trial 31 with value: 1.283785676868527.\u001b[0m\n",
      "bagging, val_score: 1.277947:  50%|######5      | 5/10 [00:03<00:03,  1.45it/s]"
     ]
    },
    {
     "name": "stdout",
     "output_type": "stream",
     "text": [
      "[200]\ttrain's rmse: 0.887521\teval's rmse: 1.2966\n",
      "Early stopping, best iteration is:\n",
      "[102]\ttrain's rmse: 0.962251\teval's rmse: 1.28379\n",
      "Training until validation scores don't improve for 100 rounds\n",
      "[100]\ttrain's rmse: 0.982415\teval's rmse: 1.28727\n"
     ]
    },
    {
     "name": "stderr",
     "output_type": "stream",
     "text": [
      "bagging, val_score: 1.277947:  60%|#######8     | 6/10 [00:04<00:02,  1.72it/s]\u001b[32m[I 2021-06-22 14:15:48,861]\u001b[0m Trial 32 finished with value: 1.2809672647514072 and parameters: {'bagging_fraction': 0.8858385892217137, 'bagging_freq': 6}. Best is trial 32 with value: 1.2809672647514072.\u001b[0m\n",
      "bagging, val_score: 1.277947:  60%|#######8     | 6/10 [00:04<00:02,  1.72it/s]"
     ]
    },
    {
     "name": "stdout",
     "output_type": "stream",
     "text": [
      "[200]\ttrain's rmse: 0.900676\teval's rmse: 1.28251\n",
      "Early stopping, best iteration is:\n",
      "[198]\ttrain's rmse: 0.90187\teval's rmse: 1.28097\n",
      "Training until validation scores don't improve for 100 rounds\n",
      "[100]\ttrain's rmse: 1.10943\teval's rmse: 1.35219\n",
      "[200]\ttrain's rmse: 1.02687\teval's rmse: 1.34619\n",
      "[300]\ttrain's rmse: 0.974163\teval's rmse: 1.34314\n",
      "[400]\ttrain's rmse: 0.932501\teval's rmse: 1.34259\n"
     ]
    },
    {
     "name": "stderr",
     "output_type": "stream",
     "text": [
      "bagging, val_score: 1.277947:  70%|#########1   | 7/10 [00:04<00:01,  1.64it/s]\u001b[32m[I 2021-06-22 14:15:49,529]\u001b[0m Trial 33 finished with value: 1.3353401018403783 and parameters: {'bagging_fraction': 0.6591465943033523, 'bagging_freq': 5}. Best is trial 32 with value: 1.2809672647514072.\u001b[0m\n",
      "bagging, val_score: 1.277947:  70%|#########1   | 7/10 [00:04<00:01,  1.64it/s]"
     ]
    },
    {
     "name": "stdout",
     "output_type": "stream",
     "text": [
      "Early stopping, best iteration is:\n",
      "[344]\ttrain's rmse: 0.952208\teval's rmse: 1.33534\n",
      "Training until validation scores don't improve for 100 rounds\n",
      "[100]\ttrain's rmse: 1.00242\teval's rmse: 1.28365\n"
     ]
    },
    {
     "name": "stderr",
     "output_type": "stream",
     "text": [
      "bagging, val_score: 1.277947:  80%|##########4  | 8/10 [00:05<00:01,  1.98it/s]\u001b[32m[I 2021-06-22 14:15:49,812]\u001b[0m Trial 34 finished with value: 1.2825357268319126 and parameters: {'bagging_fraction': 0.8043486678147262, 'bagging_freq': 3}. Best is trial 32 with value: 1.2809672647514072.\u001b[0m\n",
      "bagging, val_score: 1.277947:  80%|##########4  | 8/10 [00:05<00:01,  1.98it/s]"
     ]
    },
    {
     "name": "stdout",
     "output_type": "stream",
     "text": [
      "[200]\ttrain's rmse: 0.922033\teval's rmse: 1.29259\n",
      "Early stopping, best iteration is:\n",
      "[104]\ttrain's rmse: 0.99805\teval's rmse: 1.28254\n",
      "Training until validation scores don't improve for 100 rounds\n",
      "[100]\ttrain's rmse: 1.07625\teval's rmse: 1.31345\n"
     ]
    },
    {
     "name": "stderr",
     "output_type": "stream",
     "text": [
      "bagging, val_score: 1.277947:  90%|###########7 | 9/10 [00:05<00:00,  2.12it/s]\u001b[32m[I 2021-06-22 14:15:50,216]\u001b[0m Trial 35 finished with value: 1.297657644047654 and parameters: {'bagging_fraction': 0.7177964657726226, 'bagging_freq': 7}. Best is trial 32 with value: 1.2809672647514072.\u001b[0m\n",
      "bagging, val_score: 1.277947:  90%|###########7 | 9/10 [00:05<00:00,  2.12it/s]"
     ]
    },
    {
     "name": "stdout",
     "output_type": "stream",
     "text": [
      "[200]\ttrain's rmse: 0.974937\teval's rmse: 1.30819\n",
      "[300]\ttrain's rmse: 0.936621\teval's rmse: 1.30377\n",
      "Early stopping, best iteration is:\n",
      "[227]\ttrain's rmse: 0.963589\teval's rmse: 1.29766\n",
      "Training until validation scores don't improve for 100 rounds\n",
      "[100]\ttrain's rmse: 1.06485\teval's rmse: 1.30986\n",
      "[200]\ttrain's rmse: 0.997625\teval's rmse: 1.30263\n",
      "[300]\ttrain's rmse: 0.945895\teval's rmse: 1.29971\n"
     ]
    },
    {
     "name": "stderr",
     "output_type": "stream",
     "text": [
      "bagging, val_score: 1.277947: 100%|############| 10/10 [00:06<00:00,  1.97it/s]\u001b[32m[I 2021-06-22 14:15:50,801]\u001b[0m Trial 36 finished with value: 1.2920983102844283 and parameters: {'bagging_fraction': 0.7126456046295621, 'bagging_freq': 4}. Best is trial 32 with value: 1.2809672647514072.\u001b[0m\n",
      "bagging, val_score: 1.277947: 100%|############| 10/10 [00:06<00:00,  1.64it/s]\n",
      "feature_fraction_stage2, val_score: 1.277947:   0%|      | 0/3 [00:00<?, ?it/s]"
     ]
    },
    {
     "name": "stdout",
     "output_type": "stream",
     "text": [
      "[400]\ttrain's rmse: 0.905236\teval's rmse: 1.30433\n",
      "Early stopping, best iteration is:\n",
      "[348]\ttrain's rmse: 0.92452\teval's rmse: 1.2921\n",
      "Training until validation scores don't improve for 100 rounds\n"
     ]
    },
    {
     "name": "stderr",
     "output_type": "stream",
     "text": [
      "\r",
      "feature_fraction_stage2, val_score: 1.277947:   0%|      | 0/3 [00:00<?, ?it/s]"
     ]
    },
    {
     "name": "stdout",
     "output_type": "stream",
     "text": [
      "[100]\ttrain's rmse: 1.00966\teval's rmse: 1.29423\n",
      "[200]\ttrain's rmse: 0.92973\teval's rmse: 1.2973\n",
      "Early stopping, best iteration is:\n",
      "[164]\ttrain's rmse: 0.955138\teval's rmse: 1.29394\n"
     ]
    },
    {
     "name": "stderr",
     "output_type": "stream",
     "text": [
      "feature_fraction_stage2, val_score: 1.277947:  33%|3| 1/3 [00:00<00:00,  2.84it\u001b[32m[I 2021-06-22 14:15:51,157]\u001b[0m Trial 37 finished with value: 1.2939441724499448 and parameters: {'feature_fraction': 0.9840000000000001}. Best is trial 37 with value: 1.2939441724499448.\u001b[0m\n",
      "feature_fraction_stage2, val_score: 1.277947:  33%|3| 1/3 [00:00<00:00,  2.84it"
     ]
    },
    {
     "name": "stdout",
     "output_type": "stream",
     "text": [
      "Training until validation scores don't improve for 100 rounds\n",
      "[100]\ttrain's rmse: 1.03526\teval's rmse: 1.34212\n"
     ]
    },
    {
     "name": "stderr",
     "output_type": "stream",
     "text": [
      "feature_fraction_stage2, val_score: 1.277947:  67%|6| 2/3 [00:00<00:00,  2.47it\u001b[32m[I 2021-06-22 14:15:51,600]\u001b[0m Trial 38 finished with value: 1.3236248200461074 and parameters: {'feature_fraction': 0.9520000000000001}. Best is trial 37 with value: 1.2939441724499448.\u001b[0m\n",
      "feature_fraction_stage2, val_score: 1.277947:  67%|6| 2/3 [00:00<00:00,  2.47it"
     ]
    },
    {
     "name": "stdout",
     "output_type": "stream",
     "text": [
      "[200]\ttrain's rmse: 0.939922\teval's rmse: 1.32638\n",
      "Early stopping, best iteration is:\n",
      "[165]\ttrain's rmse: 0.967024\teval's rmse: 1.32362\n",
      "Training until validation scores don't improve for 100 rounds\n",
      "[100]\ttrain's rmse: 1.04001\teval's rmse: 1.34886\n",
      "[200]\ttrain's rmse: 0.938166\teval's rmse: 1.33154\n"
     ]
    },
    {
     "name": "stderr",
     "output_type": "stream",
     "text": [
      "feature_fraction_stage2, val_score: 1.277947: 100%|#| 3/3 [00:01<00:00,  2.26it\u001b[32m[I 2021-06-22 14:15:52,084]\u001b[0m Trial 39 finished with value: 1.3260485337890295 and parameters: {'feature_fraction': 0.92}. Best is trial 37 with value: 1.2939441724499448.\u001b[0m\n",
      "feature_fraction_stage2, val_score: 1.277947: 100%|#| 3/3 [00:01<00:00,  2.33it\n",
      "regularization_factors, val_score: 1.277947:   0%|      | 0/20 [00:00<?, ?it/s]"
     ]
    },
    {
     "name": "stdout",
     "output_type": "stream",
     "text": [
      "[300]\ttrain's rmse: 0.883046\teval's rmse: 1.3306\n",
      "Early stopping, best iteration is:\n",
      "[271]\ttrain's rmse: 0.900421\teval's rmse: 1.32605\n",
      "Training until validation scores don't improve for 100 rounds\n"
     ]
    },
    {
     "name": "stderr",
     "output_type": "stream",
     "text": [
      "regularization_factors, val_score: 1.277947:   5%| | 1/20 [00:00<00:05,  3.53it\u001b[32m[I 2021-06-22 14:15:52,378]\u001b[0m Trial 40 finished with value: 1.277946968096171 and parameters: {'lambda_l1': 1.1804200268917053e-08, 'lambda_l2': 1.1199394752663343e-07}. Best is trial 40 with value: 1.277946968096171.\u001b[0m\n",
      "regularization_factors, val_score: 1.277947:   5%| | 1/20 [00:00<00:05,  3.53it"
     ]
    },
    {
     "name": "stdout",
     "output_type": "stream",
     "text": [
      "[100]\ttrain's rmse: 1.0087\teval's rmse: 1.27947\n",
      "Early stopping, best iteration is:\n",
      "[95]\ttrain's rmse: 1.01599\teval's rmse: 1.27795\n",
      "Training until validation scores don't improve for 100 rounds\n"
     ]
    },
    {
     "name": "stderr",
     "output_type": "stream",
     "text": [
      "regularization_factors, val_score: 1.277190:  10%|1| 2/20 [00:00<00:05,  3.26it"
     ]
    },
    {
     "name": "stdout",
     "output_type": "stream",
     "text": [
      "[100]\ttrain's rmse: 1.01001\teval's rmse: 1.2786\n",
      "[200]\ttrain's rmse: 0.932015\teval's rmse: 1.28298\n",
      "Early stopping, best iteration is:\n",
      "[150]\ttrain's rmse: 0.962417\teval's rmse: 1.27719\n"
     ]
    },
    {
     "name": "stderr",
     "output_type": "stream",
     "text": [
      "\u001b[32m[I 2021-06-22 14:15:52,712]\u001b[0m Trial 41 finished with value: 1.2771896538229652 and parameters: {'lambda_l1': 0.10481275072208908, 'lambda_l2': 2.8865669537556198e-08}. Best is trial 41 with value: 1.2771896538229652.\u001b[0m\n",
      "regularization_factors, val_score: 1.277190:  10%|1| 2/20 [00:00<00:05,  3.26it"
     ]
    },
    {
     "name": "stdout",
     "output_type": "stream",
     "text": [
      "Training until validation scores don't improve for 100 rounds\n",
      "[100]\ttrain's rmse: 1.04238\teval's rmse: 1.29112\n",
      "[200]\ttrain's rmse: 0.978067\teval's rmse: 1.28084\n",
      "Early stopping, best iteration is:\n",
      "[165]\ttrain's rmse: 0.996256\teval's rmse: 1.27935\n"
     ]
    },
    {
     "name": "stderr",
     "output_type": "stream",
     "text": [
      "regularization_factors, val_score: 1.277190:  15%|1| 3/20 [00:00<00:05,  3.34it\u001b[32m[I 2021-06-22 14:15:52,995]\u001b[0m Trial 42 finished with value: 1.2793528928155413 and parameters: {'lambda_l1': 4.41804869764198, 'lambda_l2': 0.0009119846429515411}. Best is trial 41 with value: 1.2771896538229652.\u001b[0m\n",
      "regularization_factors, val_score: 1.277190:  15%|1| 3/20 [00:00<00:05,  3.34it"
     ]
    },
    {
     "name": "stdout",
     "output_type": "stream",
     "text": [
      "Training until validation scores don't improve for 100 rounds\n",
      "[100]\ttrain's rmse: 1.00619\teval's rmse: 1.28221\n"
     ]
    },
    {
     "name": "stderr",
     "output_type": "stream",
     "text": [
      "regularization_factors, val_score: 1.277190:  20%|2| 4/20 [00:01<00:04,  3.28it\u001b[32m[I 2021-06-22 14:15:53,308]\u001b[0m Trial 43 finished with value: 1.2798419863160575 and parameters: {'lambda_l1': 1.074710895034258e-05, 'lambda_l2': 0.18989953859553985}. Best is trial 41 with value: 1.2771896538229652.\u001b[0m\n",
      "regularization_factors, val_score: 1.277190:  20%|2| 4/20 [00:01<00:04,  3.28it"
     ]
    },
    {
     "name": "stdout",
     "output_type": "stream",
     "text": [
      "[200]\ttrain's rmse: 0.9273\teval's rmse: 1.28721\n",
      "Early stopping, best iteration is:\n",
      "[114]\ttrain's rmse: 0.986529\teval's rmse: 1.27984\n",
      "Training until validation scores don't improve for 100 rounds\n",
      "[100]\ttrain's rmse: 1.02102\teval's rmse: 1.28161\n",
      "[200]\ttrain's rmse: 0.937379\teval's rmse: 1.27722\n",
      "Early stopping, best iteration is:\n",
      "[164]\ttrain's rmse: 0.962347\teval's rmse: 1.2734\n"
     ]
    },
    {
     "name": "stderr",
     "output_type": "stream",
     "text": [
      "regularization_factors, val_score: 1.273399:  25%|2| 5/20 [00:01<00:05,  2.89it\u001b[32m[I 2021-06-22 14:15:53,723]\u001b[0m Trial 44 finished with value: 1.2733992036326782 and parameters: {'lambda_l1': 0.0033363808813453725, 'lambda_l2': 1.1374823225683548}. Best is trial 44 with value: 1.2733992036326782.\u001b[0m\n",
      "regularization_factors, val_score: 1.273399:  25%|2| 5/20 [00:01<00:05,  2.89it"
     ]
    },
    {
     "name": "stdout",
     "output_type": "stream",
     "text": [
      "Training until validation scores don't improve for 100 rounds\n",
      "[100]\ttrain's rmse: 1.05515\teval's rmse: 1.30058\n",
      "[200]\ttrain's rmse: 0.957838\teval's rmse: 1.2793\n"
     ]
    },
    {
     "name": "stderr",
     "output_type": "stream",
     "text": [
      "regularization_factors, val_score: 1.273399:  30%|3| 6/20 [00:01<00:04,  2.90it\u001b[32m[I 2021-06-22 14:15:54,067]\u001b[0m Trial 45 finished with value: 1.2789618084675503 and parameters: {'lambda_l1': 0.00512306790098884, 'lambda_l2': 4.797945197457928}. Best is trial 44 with value: 1.2733992036326782.\u001b[0m\n",
      "regularization_factors, val_score: 1.273399:  30%|3| 6/20 [00:01<00:04,  2.90it"
     ]
    },
    {
     "name": "stdout",
     "output_type": "stream",
     "text": [
      "Early stopping, best iteration is:\n",
      "[164]\ttrain's rmse: 0.985323\teval's rmse: 1.27896\n",
      "Training until validation scores don't improve for 100 rounds\n",
      "[100]\ttrain's rmse: 1.05003\teval's rmse: 1.29476\n"
     ]
    },
    {
     "name": "stderr",
     "output_type": "stream",
     "text": [
      "regularization_factors, val_score: 1.273399:  35%|3| 7/20 [00:02<00:04,  2.93it\u001b[32m[I 2021-06-22 14:15:54,408]\u001b[0m Trial 46 finished with value: 1.2768777210729136 and parameters: {'lambda_l1': 7.096299600535582, 'lambda_l2': 0.0003587184494772994}. Best is trial 44 with value: 1.2733992036326782.\u001b[0m\n",
      "regularization_factors, val_score: 1.273399:  35%|3| 7/20 [00:02<00:04,  2.93it"
     ]
    },
    {
     "name": "stdout",
     "output_type": "stream",
     "text": [
      "[200]\ttrain's rmse: 0.987728\teval's rmse: 1.27986\n",
      "[300]\ttrain's rmse: 0.959017\teval's rmse: 1.28017\n",
      "Early stopping, best iteration is:\n",
      "[269]\ttrain's rmse: 0.971029\teval's rmse: 1.27688\n",
      "Training until validation scores don't improve for 100 rounds\n"
     ]
    },
    {
     "name": "stderr",
     "output_type": "stream",
     "text": [
      "\r",
      "regularization_factors, val_score: 1.273399:  35%|3| 7/20 [00:02<00:04,  2.93it"
     ]
    },
    {
     "name": "stdout",
     "output_type": "stream",
     "text": [
      "[100]\ttrain's rmse: 1.00726\teval's rmse: 1.28583\n",
      "[200]\ttrain's rmse: 0.928998\teval's rmse: 1.28867\n",
      "Early stopping, best iteration is:\n",
      "[165]\ttrain's rmse: 0.953201\teval's rmse: 1.28262\n"
     ]
    },
    {
     "name": "stderr",
     "output_type": "stream",
     "text": [
      "regularization_factors, val_score: 1.273399:  40%|4| 8/20 [00:02<00:04,  2.88it\u001b[32m[I 2021-06-22 14:15:54,764]\u001b[0m Trial 47 finished with value: 1.282617948330345 and parameters: {'lambda_l1': 0.00020619980636798718, 'lambda_l2': 0.4371518435303073}. Best is trial 44 with value: 1.2733992036326782.\u001b[0m\n",
      "regularization_factors, val_score: 1.273399:  40%|4| 8/20 [00:02<00:04,  2.88it"
     ]
    },
    {
     "name": "stdout",
     "output_type": "stream",
     "text": [
      "Training until validation scores don't improve for 100 rounds\n",
      "[100]\ttrain's rmse: 1.00832\teval's rmse: 1.2816\n",
      "Early stopping, best iteration is:\n",
      "[95]\ttrain's rmse: 1.01543\teval's rmse: 1.28038\n"
     ]
    },
    {
     "name": "stderr",
     "output_type": "stream",
     "text": [
      "regularization_factors, val_score: 1.273399:  45%|4| 9/20 [00:02<00:03,  3.11it\u001b[32m[I 2021-06-22 14:15:55,035]\u001b[0m Trial 48 finished with value: 1.2803792651272965 and parameters: {'lambda_l1': 3.7576811658293276e-07, 'lambda_l2': 0.00010176081090695412}. Best is trial 44 with value: 1.2733992036326782.\u001b[0m\n",
      "regularization_factors, val_score: 1.273399:  45%|4| 9/20 [00:02<00:03,  3.11it"
     ]
    },
    {
     "name": "stdout",
     "output_type": "stream",
     "text": [
      "Training until validation scores don't improve for 100 rounds\n",
      "[100]\ttrain's rmse: 1.01655\teval's rmse: 1.27849\n",
      "[200]\ttrain's rmse: 0.943709\teval's rmse: 1.27997"
     ]
    },
    {
     "name": "stderr",
     "output_type": "stream",
     "text": [
      "regularization_factors, val_score: 1.273399:  50%|5| 10/20 [00:03<00:03,  2.93i\u001b[32m[I 2021-06-22 14:15:55,412]\u001b[0m Trial 49 finished with value: 1.2740406923651675 and parameters: {'lambda_l1': 1.0093267331921245, 'lambda_l2': 9.40921645025065e-08}. Best is trial 44 with value: 1.2733992036326782.\u001b[0m\n",
      "regularization_factors, val_score: 1.273399:  50%|5| 10/20 [00:03<00:03,  2.93i"
     ]
    },
    {
     "name": "stdout",
     "output_type": "stream",
     "text": [
      "\n",
      "Early stopping, best iteration is:\n",
      "[164]\ttrain's rmse: 0.965881\teval's rmse: 1.27404\n",
      "Training until validation scores don't improve for 100 rounds\n"
     ]
    },
    {
     "name": "stderr",
     "output_type": "stream",
     "text": [
      "regularization_factors, val_score: 1.273399:  55%|5| 11/20 [00:03<00:03,  2.96i\u001b[32m[I 2021-06-22 14:15:55,745]\u001b[0m Trial 50 finished with value: 1.2806191692953617 and parameters: {'lambda_l1': 0.005968185949882327, 'lambda_l2': 0.02050897088648938}. Best is trial 44 with value: 1.2733992036326782.\u001b[0m\n",
      "regularization_factors, val_score: 1.273399:  55%|5| 11/20 [00:03<00:03,  2.96i"
     ]
    },
    {
     "name": "stdout",
     "output_type": "stream",
     "text": [
      "[100]\ttrain's rmse: 1.00832\teval's rmse: 1.28143\n",
      "[200]\ttrain's rmse: 0.929227\teval's rmse: 1.28804\n",
      "Early stopping, best iteration is:\n",
      "[105]\ttrain's rmse: 1.00092\teval's rmse: 1.28062\n",
      "Training until validation scores don't improve for 100 rounds\n"
     ]
    },
    {
     "name": "stderr",
     "output_type": "stream",
     "text": [
      "regularization_factors, val_score: 1.273399:  60%|6| 12/20 [00:03<00:02,  3.07i\u001b[32m[I 2021-06-22 14:15:56,039]\u001b[0m Trial 51 finished with value: 1.2779631761575576 and parameters: {'lambda_l1': 0.21495934323267607, 'lambda_l2': 4.1423887558063005e-07}. Best is trial 44 with value: 1.2733992036326782.\u001b[0m\n",
      "regularization_factors, val_score: 1.273399:  60%|6| 12/20 [00:03<00:02,  3.07i"
     ]
    },
    {
     "name": "stdout",
     "output_type": "stream",
     "text": [
      "[100]\ttrain's rmse: 1.00997\teval's rmse: 1.27858\n",
      "Early stopping, best iteration is:\n",
      "[96]\ttrain's rmse: 1.0153\teval's rmse: 1.27796\n",
      "Training until validation scores don't improve for 100 rounds\n"
     ]
    },
    {
     "name": "stderr",
     "output_type": "stream",
     "text": [
      "regularization_factors, val_score: 1.273399:  65%|6| 13/20 [00:04<00:02,  3.11i\u001b[32m[I 2021-06-22 14:15:56,352]\u001b[0m Trial 52 finished with value: 1.2777462577267882 and parameters: {'lambda_l1': 0.24162322704931388, 'lambda_l2': 3.837290533084892e-06}. Best is trial 44 with value: 1.2733992036326782.\u001b[0m\n",
      "regularization_factors, val_score: 1.273399:  65%|6| 13/20 [00:04<00:02,  3.11i"
     ]
    },
    {
     "name": "stdout",
     "output_type": "stream",
     "text": [
      "[100]\ttrain's rmse: 1.01193\teval's rmse: 1.28028\n",
      "[200]\ttrain's rmse: 0.933991\teval's rmse: 1.28327\n",
      "Early stopping, best iteration is:\n",
      "[115]\ttrain's rmse: 0.990761\teval's rmse: 1.27775\n",
      "Training until validation scores don't improve for 100 rounds\n",
      "[100]\ttrain's rmse: 1.08758\teval's rmse: 1.31932\n",
      "[200]\ttrain's rmse: 0.96994\teval's rmse: 1.28271\n"
     ]
    },
    {
     "name": "stderr",
     "output_type": "stream",
     "text": [
      "regularization_factors, val_score: 1.273399:  70%|7| 14/20 [00:04<00:01,  3.02i\u001b[32m[I 2021-06-22 14:15:56,708]\u001b[0m Trial 53 finished with value: 1.2825250128292331 and parameters: {'lambda_l1': 0.00025964494517691873, 'lambda_l2': 8.24292597688524}. Best is trial 44 with value: 1.2733992036326782.\u001b[0m\n",
      "regularization_factors, val_score: 1.273399:  70%|7| 14/20 [00:04<00:01,  3.02i"
     ]
    },
    {
     "name": "stdout",
     "output_type": "stream",
     "text": [
      "Early stopping, best iteration is:\n",
      "[163]\ttrain's rmse: 0.997717\teval's rmse: 1.28253\n",
      "Training until validation scores don't improve for 100 rounds\n",
      "[100]\ttrain's rmse: 1.00965\teval's rmse: 1.27867\n"
     ]
    },
    {
     "name": "stderr",
     "output_type": "stream",
     "text": [
      "regularization_factors, val_score: 1.273399:  75%|7| 15/20 [00:04<00:01,  3.17i\u001b[32m[I 2021-06-22 14:15:56,985]\u001b[0m Trial 54 finished with value: 1.2773629075672246 and parameters: {'lambda_l1': 0.01495593053022695, 'lambda_l2': 1.588290407293893e-05}. Best is trial 44 with value: 1.2733992036326782.\u001b[0m\n",
      "regularization_factors, val_score: 1.273399:  75%|7| 15/20 [00:04<00:01,  3.17i"
     ]
    },
    {
     "name": "stdout",
     "output_type": "stream",
     "text": [
      "Early stopping, best iteration is:\n",
      "[95]\ttrain's rmse: 1.01717\teval's rmse: 1.27736\n",
      "Training until validation scores don't improve for 100 rounds\n",
      "[100]\ttrain's rmse: 1.02899\teval's rmse: 1.28401\n"
     ]
    },
    {
     "name": "stderr",
     "output_type": "stream",
     "text": [
      "regularization_factors, val_score: 1.273399:  80%|8| 16/20 [00:05<00:01,  2.95i\u001b[32m[I 2021-06-22 14:15:57,380]\u001b[0m Trial 55 finished with value: 1.2745526987030331 and parameters: {'lambda_l1': 2.319197994996038, 'lambda_l2': 0.006048193265696141}. Best is trial 44 with value: 1.2733992036326782.\u001b[0m\n",
      "regularization_factors, val_score: 1.273399:  80%|8| 16/20 [00:05<00:01,  2.95i"
     ]
    },
    {
     "name": "stdout",
     "output_type": "stream",
     "text": [
      "[200]\ttrain's rmse: 0.958117\teval's rmse: 1.2794\n",
      "Early stopping, best iteration is:\n",
      "[164]\ttrain's rmse: 0.980462\teval's rmse: 1.27455\n",
      "Training until validation scores don't improve for 100 rounds\n"
     ]
    },
    {
     "name": "stderr",
     "output_type": "stream",
     "text": [
      "regularization_factors, val_score: 1.273399:  85%|8| 17/20 [00:05<00:01,  2.83i\u001b[32m[I 2021-06-22 14:15:57,765]\u001b[0m Trial 56 finished with value: 1.2783584093680738 and parameters: {'lambda_l1': 1.7147961286872288e-05, 'lambda_l2': 1.0386368849618189e-08}. Best is trial 44 with value: 1.2733992036326782.\u001b[0m\n",
      "regularization_factors, val_score: 1.273399:  85%|8| 17/20 [00:05<00:01,  2.83i"
     ]
    },
    {
     "name": "stdout",
     "output_type": "stream",
     "text": [
      "[100]\ttrain's rmse: 1.00861\teval's rmse: 1.28002\n",
      "Early stopping, best iteration is:\n",
      "[95]\ttrain's rmse: 1.01593\teval's rmse: 1.27836\n",
      "Training until validation scores don't improve for 100 rounds\n",
      "[100]\ttrain's rmse: 1.01169\teval's rmse: 1.27871\n"
     ]
    },
    {
     "name": "stderr",
     "output_type": "stream",
     "text": [
      "regularization_factors, val_score: 1.273399:  90%|9| 18/20 [00:06<00:00,  2.81i\u001b[32m[I 2021-06-22 14:15:58,129]\u001b[0m Trial 57 finished with value: 1.2785964271513426 and parameters: {'lambda_l1': 0.03341788820855407, 'lambda_l2': 2.627380580322355e-06}. Best is trial 44 with value: 1.2733992036326782.\u001b[0m\n",
      "regularization_factors, val_score: 1.273399:  90%|9| 18/20 [00:06<00:00,  2.81i"
     ]
    },
    {
     "name": "stdout",
     "output_type": "stream",
     "text": [
      "Early stopping, best iteration is:\n",
      "[99]\ttrain's rmse: 1.01309\teval's rmse: 1.2786\n",
      "Training until validation scores don't improve for 100 rounds\n",
      "[100]\ttrain's rmse: 1.00847\teval's rmse: 1.28216\n",
      "[200]\ttrain's rmse: 0.930836\teval's rmse: 1.28584\n"
     ]
    },
    {
     "name": "stderr",
     "output_type": "stream",
     "text": [
      "regularization_factors, val_score: 1.273399:  95%|9| 19/20 [00:06<00:00,  2.45i\u001b[32m[I 2021-06-22 14:15:58,666]\u001b[0m Trial 58 finished with value: 1.2796410437154841 and parameters: {'lambda_l1': 0.0010601633254461236, 'lambda_l2': 0.5714786029043779}. Best is trial 44 with value: 1.2733992036326782.\u001b[0m\n",
      "regularization_factors, val_score: 1.273399:  95%|9| 19/20 [00:06<00:00,  2.45i"
     ]
    },
    {
     "name": "stdout",
     "output_type": "stream",
     "text": [
      "Early stopping, best iteration is:\n",
      "[162]\ttrain's rmse: 0.955886\teval's rmse: 1.27964\n",
      "Training until validation scores don't improve for 100 rounds\n",
      "[100]\ttrain's rmse: 1.01411\teval's rmse: 1.27975\n",
      "[200]\ttrain's rmse: 0.939519\teval's rmse: 1.27961\n"
     ]
    },
    {
     "name": "stderr",
     "output_type": "stream",
     "text": [
      "regularization_factors, val_score: 1.273399: 100%|#| 20/20 [00:07<00:00,  2.18i\u001b[32m[I 2021-06-22 14:15:59,234]\u001b[0m Trial 59 finished with value: 1.2757395764531299 and parameters: {'lambda_l1': 0.8320907055172665, 'lambda_l2': 0.013786000812649834}. Best is trial 44 with value: 1.2733992036326782.\u001b[0m\n",
      "regularization_factors, val_score: 1.273399: 100%|#| 20/20 [00:07<00:00,  2.80i\n",
      "min_data_in_leaf, val_score: 1.273399:   0%|             | 0/5 [00:00<?, ?it/s]"
     ]
    },
    {
     "name": "stdout",
     "output_type": "stream",
     "text": [
      "Early stopping, best iteration is:\n",
      "[163]\ttrain's rmse: 0.963071\teval's rmse: 1.27574\n",
      "Training until validation scores don't improve for 100 rounds\n",
      "[100]\ttrain's rmse: 1.16496\teval's rmse: 1.39367\n",
      "[200]\ttrain's rmse: 1.07145\teval's rmse: 1.37774\n",
      "[300]\ttrain's rmse: 1.01041\teval's rmse: 1.36566\n",
      "[400]\ttrain's rmse: 0.97063\teval's rmse: 1.36337\n"
     ]
    },
    {
     "name": "stderr",
     "output_type": "stream",
     "text": [
      "min_data_in_leaf, val_score: 1.273399:  20%|#    | 1/5 [00:00<00:03,  1.09it/s]\u001b[32m[I 2021-06-22 14:16:00,165]\u001b[0m Trial 60 finished with value: 1.3598079632827103 and parameters: {'min_child_samples': 25}. Best is trial 60 with value: 1.3598079632827103.\u001b[0m\n",
      "min_data_in_leaf, val_score: 1.273399:  20%|#    | 1/5 [00:00<00:03,  1.09it/s]"
     ]
    },
    {
     "name": "stdout",
     "output_type": "stream",
     "text": [
      "[500]\ttrain's rmse: 0.940703\teval's rmse: 1.36523\n",
      "Early stopping, best iteration is:\n",
      "[420]\ttrain's rmse: 0.967359\teval's rmse: 1.35981\n",
      "Training until validation scores don't improve for 100 rounds\n",
      "[100]\ttrain's rmse: 2.05167\teval's rmse: 2.18075\n",
      "[200]\ttrain's rmse: 1.8484\teval's rmse: 2.03729\n",
      "[300]\ttrain's rmse: 1.72163\teval's rmse: 1.93734\n",
      "[400]\ttrain's rmse: 1.64426\teval's rmse: 1.88018\n",
      "[500]\ttrain's rmse: 1.58164\teval's rmse: 1.84369\n",
      "[600]\ttrain's rmse: 1.53134\teval's rmse: 1.81266\n",
      "[700]\ttrain's rmse: 1.493\teval's rmse: 1.79628\n",
      "[800]\ttrain's rmse: 1.45425\teval's rmse: 1.77838\n",
      "[900]\ttrain's rmse: 1.42504\teval's rmse: 1.7729\n"
     ]
    },
    {
     "name": "stderr",
     "output_type": "stream",
     "text": [
      "min_data_in_leaf, val_score: 1.273399:  40%|##   | 2/5 [00:02<00:03,  1.09s/it]\u001b[32m[I 2021-06-22 14:16:01,379]\u001b[0m Trial 61 finished with value: 1.7689161233313295 and parameters: {'min_child_samples': 50}. Best is trial 60 with value: 1.3598079632827103.\u001b[0m\n",
      "min_data_in_leaf, val_score: 1.273399:  40%|##   | 2/5 [00:02<00:03,  1.09s/it]"
     ]
    },
    {
     "name": "stdout",
     "output_type": "stream",
     "text": [
      "[1000]\ttrain's rmse: 1.39571\teval's rmse: 1.76892\n",
      "Did not meet early stopping. Best iteration is:\n",
      "[1000]\ttrain's rmse: 1.39571\teval's rmse: 1.76892\n",
      "Training until validation scores don't improve for 100 rounds\n",
      "[100]\ttrain's rmse: 3.35532\teval's rmse: 3.25608\n",
      "[200]\ttrain's rmse: 3.1025\teval's rmse: 3.01323\n",
      "[300]\ttrain's rmse: 2.97394\teval's rmse: 2.9156\n",
      "[400]\ttrain's rmse: 2.90358\teval's rmse: 2.87725\n",
      "[500]\ttrain's rmse: 2.81922\teval's rmse: 2.81788\n",
      "[600]\ttrain's rmse: 2.76793\teval's rmse: 2.81516\n",
      "[700]\ttrain's rmse: 2.72223\teval's rmse: 2.79767\n"
     ]
    },
    {
     "name": "stderr",
     "output_type": "stream",
     "text": [
      "min_data_in_leaf, val_score: 1.273399:  60%|###  | 3/5 [00:02<00:01,  1.10it/s]\u001b[32m[I 2021-06-22 14:16:02,063]\u001b[0m Trial 62 finished with value: 2.7756353876953352 and parameters: {'min_child_samples': 100}. Best is trial 60 with value: 1.3598079632827103.\u001b[0m\n",
      "min_data_in_leaf, val_score: 1.273399:  60%|###  | 3/5 [00:02<00:01,  1.10it/s]"
     ]
    },
    {
     "name": "stdout",
     "output_type": "stream",
     "text": [
      "[800]\ttrain's rmse: 2.68569\teval's rmse: 2.78314\n",
      "[900]\ttrain's rmse: 2.66492\teval's rmse: 2.78867\n",
      "Early stopping, best iteration is:\n",
      "[815]\ttrain's rmse: 2.68053\teval's rmse: 2.77564\n",
      "Training until validation scores don't improve for 100 rounds\n"
     ]
    },
    {
     "name": "stderr",
     "output_type": "stream",
     "text": [
      "min_data_in_leaf, val_score: 1.236659:  80%|#### | 4/5 [00:03<00:00,  1.53it/s]\u001b[32m[I 2021-06-22 14:16:02,326]\u001b[0m Trial 63 finished with value: 1.2366586410188003 and parameters: {'min_child_samples': 10}. Best is trial 63 with value: 1.2366586410188003.\u001b[0m\n",
      "min_data_in_leaf, val_score: 1.236659:  80%|#### | 4/5 [00:03<00:00,  1.53it/s]"
     ]
    },
    {
     "name": "stdout",
     "output_type": "stream",
     "text": [
      "[100]\ttrain's rmse: 0.760531\teval's rmse: 1.23666\n",
      "[200]\ttrain's rmse: 0.663582\teval's rmse: 1.23997\n",
      "Early stopping, best iteration is:\n",
      "[100]\ttrain's rmse: 0.760531\teval's rmse: 1.23666\n",
      "Training until validation scores don't improve for 100 rounds\n"
     ]
    },
    {
     "name": "stderr",
     "output_type": "stream",
     "text": [
      "min_data_in_leaf, val_score: 1.232443: 100%|#####| 5/5 [00:03<00:00,  1.93it/s]\u001b[32m[I 2021-06-22 14:16:02,610]\u001b[0m Trial 64 finished with value: 1.2324432865147497 and parameters: {'min_child_samples': 5}. Best is trial 64 with value: 1.2324432865147497.\u001b[0m\n",
      "min_data_in_leaf, val_score: 1.232443: 100%|#####| 5/5 [00:03<00:00,  1.49it/s]\n",
      "\u001b[32m[I 2021-06-22 14:16:02,640]\u001b[0m A new study created in memory with name: no-name-aa58eb71-0042-491a-a9ca-42c3eea61bc6\u001b[0m\n",
      "feature_fraction, val_score: inf:   0%|                  | 0/7 [00:00<?, ?it/s]"
     ]
    },
    {
     "name": "stdout",
     "output_type": "stream",
     "text": [
      "[100]\ttrain's rmse: 0.681115\teval's rmse: 1.23338\n",
      "Early stopping, best iteration is:\n",
      "[96]\ttrain's rmse: 0.691741\teval's rmse: 1.23244\n",
      "Training until validation scores don't improve for 100 rounds\n",
      "[100]\ttrain's rmse: 2.31143\teval's rmse: 2.87924\n",
      "[200]\ttrain's rmse: 1.47543\teval's rmse: 2.00262\n",
      "[300]\ttrain's rmse: 1.21092\teval's rmse: 1.73811\n",
      "[400]\ttrain's rmse: 1.07139\teval's rmse: 1.59613\n",
      "[500]\ttrain's rmse: 0.995181\teval's rmse: 1.54495\n",
      "[600]\ttrain's rmse: 0.938612\teval's rmse: 1.51597\n",
      "[700]\ttrain's rmse: 0.896213\teval's rmse: 1.48857\n",
      "[800]\ttrain's rmse: 0.860878\teval's rmse: 1.46509\n",
      "[900]\ttrain's rmse: 0.829856\teval's rmse: 1.46179\n",
      "[1000]\ttrain's rmse: 0.798958\teval's rmse: 1.4546\n",
      "Did not meet early stopping. Best iteration is:\n",
      "[1000]\ttrain's rmse: 0.798958\teval's rmse: 1.4546\n"
     ]
    },
    {
     "name": "stderr",
     "output_type": "stream",
     "text": [
      "feature_fraction, val_score: 1.454605:  14%|7    | 1/7 [00:01<00:08,  1.47s/it]\u001b[32m[I 2021-06-22 14:16:04,115]\u001b[0m Trial 0 finished with value: 1.4546046593236954 and parameters: {'feature_fraction': 0.4}. Best is trial 0 with value: 1.4546046593236954.\u001b[0m\n",
      "feature_fraction, val_score: 1.454605:  14%|7    | 1/7 [00:01<00:08,  1.47s/it]"
     ]
    },
    {
     "name": "stdout",
     "output_type": "stream",
     "text": [
      "Training until validation scores don't improve for 100 rounds\n",
      "[100]\ttrain's rmse: 1.08262\teval's rmse: 1.3409\n",
      "[200]\ttrain's rmse: 0.954787\teval's rmse: 1.28815\n",
      "[300]\ttrain's rmse: 0.879881\teval's rmse: 1.26049\n",
      "[400]\ttrain's rmse: 0.817135\teval's rmse: 1.22745\n"
     ]
    },
    {
     "name": "stderr",
     "output_type": "stream",
     "text": [
      "feature_fraction, val_score: 1.224632:  29%|#4   | 2/7 [00:02<00:05,  1.03s/it]\u001b[32m[I 2021-06-22 14:16:04,842]\u001b[0m Trial 1 finished with value: 1.2246321330017014 and parameters: {'feature_fraction': 0.8999999999999999}. Best is trial 1 with value: 1.2246321330017014.\u001b[0m\n",
      "feature_fraction, val_score: 1.224632:  29%|#4   | 2/7 [00:02<00:05,  1.03s/it]"
     ]
    },
    {
     "name": "stdout",
     "output_type": "stream",
     "text": [
      "[500]\ttrain's rmse: 0.77101\teval's rmse: 1.25609\n",
      "Early stopping, best iteration is:\n",
      "[410]\ttrain's rmse: 0.812811\teval's rmse: 1.22463\n",
      "Training until validation scores don't improve for 100 rounds\n",
      "[100]\ttrain's rmse: 1.79329\teval's rmse: 2.27877\n",
      "[200]\ttrain's rmse: 1.23959\teval's rmse: 1.69021\n",
      "[300]\ttrain's rmse: 1.0569\teval's rmse: 1.50315\n",
      "[400]\ttrain's rmse: 0.964548\teval's rmse: 1.42905\n",
      "[500]\ttrain's rmse: 0.907216\teval's rmse: 1.41507\n",
      "[600]\ttrain's rmse: 0.859934\teval's rmse: 1.39868\n"
     ]
    },
    {
     "name": "stderr",
     "output_type": "stream",
     "text": [
      "feature_fraction, val_score: 1.224632:  43%|##1  | 3/7 [00:03<00:04,  1.11s/it]\u001b[32m[I 2021-06-22 14:16:06,046]\u001b[0m Trial 2 finished with value: 1.3897761925236325 and parameters: {'feature_fraction': 0.5}. Best is trial 1 with value: 1.2246321330017014.\u001b[0m\n",
      "feature_fraction, val_score: 1.224632:  43%|##1  | 3/7 [00:03<00:04,  1.11s/it]"
     ]
    },
    {
     "name": "stdout",
     "output_type": "stream",
     "text": [
      "[700]\ttrain's rmse: 0.821889\teval's rmse: 1.39222\n",
      "Early stopping, best iteration is:\n",
      "[638]\ttrain's rmse: 0.843939\teval's rmse: 1.38978\n",
      "Training until validation scores don't improve for 100 rounds\n",
      "[100]\ttrain's rmse: 1.13158\teval's rmse: 1.40827\n",
      "[200]\ttrain's rmse: 0.975177\teval's rmse: 1.31088\n",
      "[300]\ttrain's rmse: 0.89515\teval's rmse: 1.27651\n",
      "[400]\ttrain's rmse: 0.826023\teval's rmse: 1.23769\n",
      "[500]\ttrain's rmse: 0.779179\teval's rmse: 1.26497\n",
      "Early stopping, best iteration is:\n",
      "[408]\ttrain's rmse: 0.823293\teval's rmse: 1.23515\n"
     ]
    },
    {
     "name": "stderr",
     "output_type": "stream",
     "text": [
      "feature_fraction, val_score: 1.224632:  57%|##8  | 4/7 [00:04<00:02,  1.04it/s]\u001b[32m[I 2021-06-22 14:16:06,788]\u001b[0m Trial 3 finished with value: 1.2351518169260385 and parameters: {'feature_fraction': 0.8}. Best is trial 1 with value: 1.2246321330017014.\u001b[0m\n",
      "feature_fraction, val_score: 1.224632:  57%|##8  | 4/7 [00:04<00:02,  1.04it/s]"
     ]
    },
    {
     "name": "stdout",
     "output_type": "stream",
     "text": [
      "Training until validation scores don't improve for 100 rounds\n",
      "[100]\ttrain's rmse: 1.04288\teval's rmse: 1.2926\n",
      "[200]\ttrain's rmse: 0.950992\teval's rmse: 1.27733\n",
      "[300]\ttrain's rmse: 0.879034\teval's rmse: 1.25714\n",
      "[400]\ttrain's rmse: 0.815618\teval's rmse: 1.23699\n",
      "[500]\ttrain's rmse: 0.77305\teval's rmse: 1.26399\n",
      "Early stopping, best iteration is:\n",
      "[404]\ttrain's rmse: 0.813806\teval's rmse: 1.23664\n"
     ]
    },
    {
     "name": "stderr",
     "output_type": "stream",
     "text": [
      "feature_fraction, val_score: 1.224632:  71%|###5 | 5/7 [00:04<00:01,  1.09it/s]\u001b[32m[I 2021-06-22 14:16:07,610]\u001b[0m Trial 4 finished with value: 1.2366354377192756 and parameters: {'feature_fraction': 1.0}. Best is trial 1 with value: 1.2246321330017014.\u001b[0m\n",
      "feature_fraction, val_score: 1.224632:  71%|###5 | 5/7 [00:04<00:01,  1.09it/s]"
     ]
    },
    {
     "name": "stdout",
     "output_type": "stream",
     "text": [
      "Training until validation scores don't improve for 100 rounds\n",
      "[100]\ttrain's rmse: 1.31119\teval's rmse: 1.70201\n",
      "[200]\ttrain's rmse: 1.04553\teval's rmse: 1.44182\n",
      "[300]\ttrain's rmse: 0.947857\teval's rmse: 1.37856\n",
      "[400]\ttrain's rmse: 0.874579\teval's rmse: 1.33384\n",
      "[500]\ttrain's rmse: 0.824641\teval's rmse: 1.34906\n",
      "Early stopping, best iteration is:\n",
      "[411]\ttrain's rmse: 0.86976\teval's rmse: 1.32896\n"
     ]
    },
    {
     "name": "stderr",
     "output_type": "stream",
     "text": [
      "feature_fraction, val_score: 1.224632:  86%|####2| 6/7 [00:05<00:00,  1.18it/s]\u001b[32m[I 2021-06-22 14:16:08,337]\u001b[0m Trial 5 finished with value: 1.3289560042165536 and parameters: {'feature_fraction': 0.7}. Best is trial 1 with value: 1.2246321330017014.\u001b[0m\n",
      "feature_fraction, val_score: 1.224632:  86%|####2| 6/7 [00:05<00:00,  1.18it/s]"
     ]
    },
    {
     "name": "stdout",
     "output_type": "stream",
     "text": [
      "Training until validation scores don't improve for 100 rounds\n",
      "[100]\ttrain's rmse: 1.62285\teval's rmse: 2.14205\n",
      "[200]\ttrain's rmse: 1.14888\teval's rmse: 1.64972\n",
      "[300]\ttrain's rmse: 1.00423\teval's rmse: 1.51358\n",
      "[400]\ttrain's rmse: 0.920949\teval's rmse: 1.44198\n"
     ]
    },
    {
     "name": "stderr",
     "output_type": "stream",
     "text": [
      "feature_fraction, val_score: 1.224632: 100%|#####| 7/7 [00:06<00:00,  1.21it/s]\u001b[32m[I 2021-06-22 14:16:09,115]\u001b[0m Trial 6 finished with value: 1.4331048299178915 and parameters: {'feature_fraction': 0.6}. Best is trial 1 with value: 1.2246321330017014.\u001b[0m\n",
      "feature_fraction, val_score: 1.224632: 100%|#####| 7/7 [00:06<00:00,  1.08it/s]\n",
      "  0%|                                                   | 0/20 [00:00<?, ?it/s]"
     ]
    },
    {
     "name": "stdout",
     "output_type": "stream",
     "text": [
      "[500]\ttrain's rmse: 0.864274\teval's rmse: 1.44066\n",
      "Early stopping, best iteration is:\n",
      "[445]\ttrain's rmse: 0.895731\teval's rmse: 1.4331\n"
     ]
    },
    {
     "name": "stderr",
     "output_type": "stream",
     "text": [
      "\r",
      "num_leaves, val_score: 1.224632:   0%|                  | 0/20 [00:00<?, ?it/s]"
     ]
    },
    {
     "name": "stdout",
     "output_type": "stream",
     "text": [
      "Training until validation scores don't improve for 100 rounds\n",
      "[100]\ttrain's rmse: 1.09668\teval's rmse: 1.33694\n",
      "[200]\ttrain's rmse: 0.967687\teval's rmse: 1.26995\n",
      "[300]\ttrain's rmse: 0.898547\teval's rmse: 1.24117\n",
      "[400]\ttrain's rmse: 0.839987\teval's rmse: 1.20811\n"
     ]
    },
    {
     "name": "stderr",
     "output_type": "stream",
     "text": [
      "num_leaves, val_score: 1.205879:   5%|5         | 1/20 [00:00<00:13,  1.43it/s]\u001b[32m[I 2021-06-22 14:16:09,823]\u001b[0m Trial 7 finished with value: 1.2058785659336597 and parameters: {'num_leaves': 24}. Best is trial 7 with value: 1.2058785659336597.\u001b[0m\n",
      "num_leaves, val_score: 1.205879:   5%|5         | 1/20 [00:00<00:13,  1.43it/s]"
     ]
    },
    {
     "name": "stdout",
     "output_type": "stream",
     "text": [
      "[500]\ttrain's rmse: 0.798829\teval's rmse: 1.2374\n",
      "Early stopping, best iteration is:\n",
      "[410]\ttrain's rmse: 0.836256\teval's rmse: 1.20588\n",
      "Training until validation scores don't improve for 100 rounds\n",
      "[100]\ttrain's rmse: 1.07698\teval's rmse: 1.33905\n",
      "[200]\ttrain's rmse: 0.944128\teval's rmse: 1.28208\n",
      "[300]\ttrain's rmse: 0.86691\teval's rmse: 1.25952\n",
      "[400]\ttrain's rmse: 0.798508\teval's rmse: 1.23105\n"
     ]
    },
    {
     "name": "stderr",
     "output_type": "stream",
     "text": [
      "num_leaves, val_score: 1.205879:  10%|#         | 2/20 [00:01<00:15,  1.17it/s]\u001b[32m[I 2021-06-22 14:16:10,794]\u001b[0m Trial 8 finished with value: 1.2291278161973498 and parameters: {'num_leaves': 149}. Best is trial 7 with value: 1.2058785659336597.\u001b[0m\n",
      "num_leaves, val_score: 1.205879:  10%|#         | 2/20 [00:01<00:15,  1.17it/s]"
     ]
    },
    {
     "name": "stdout",
     "output_type": "stream",
     "text": [
      "[500]\ttrain's rmse: 0.75024\teval's rmse: 1.25931\n",
      "Early stopping, best iteration is:\n",
      "[408]\ttrain's rmse: 0.794908\teval's rmse: 1.22913\n",
      "Training until validation scores don't improve for 100 rounds\n",
      "[100]\ttrain's rmse: 1.07698\teval's rmse: 1.33905\n",
      "[200]\ttrain's rmse: 0.944128\teval's rmse: 1.28208\n",
      "[300]\ttrain's rmse: 0.86691\teval's rmse: 1.25952\n",
      "[400]\ttrain's rmse: 0.798508\teval's rmse: 1.23105\n",
      "[500]\ttrain's rmse: 0.75024\teval's rmse: 1.25931\n",
      "Early stopping, best iteration is:\n",
      "[408]\ttrain's rmse: 0.794908\teval's rmse: 1.22913"
     ]
    },
    {
     "name": "stderr",
     "output_type": "stream",
     "text": [
      "num_leaves, val_score: 1.205879:  15%|#5        | 3/20 [00:02<00:16,  1.02it/s]\u001b[32m[I 2021-06-22 14:16:11,914]\u001b[0m Trial 9 finished with value: 1.2291278161973498 and parameters: {'num_leaves': 231}. Best is trial 7 with value: 1.2058785659336597.\u001b[0m\n",
      "num_leaves, val_score: 1.205879:  15%|#5        | 3/20 [00:02<00:16,  1.02it/s]"
     ]
    },
    {
     "name": "stdout",
     "output_type": "stream",
     "text": [
      "\n",
      "Training until validation scores don't improve for 100 rounds\n",
      "[100]\ttrain's rmse: 1.07698\teval's rmse: 1.33905\n",
      "[200]\ttrain's rmse: 0.944128\teval's rmse: 1.28208\n",
      "[300]\ttrain's rmse: 0.86691\teval's rmse: 1.25952\n",
      "[400]\ttrain's rmse: 0.798508\teval's rmse: 1.23105\n"
     ]
    },
    {
     "name": "stderr",
     "output_type": "stream",
     "text": [
      "num_leaves, val_score: 1.205879:  20%|##        | 4/20 [00:03<00:15,  1.03it/s]\u001b[32m[I 2021-06-22 14:16:12,872]\u001b[0m Trial 10 finished with value: 1.2291278161973498 and parameters: {'num_leaves': 132}. Best is trial 7 with value: 1.2058785659336597.\u001b[0m\n",
      "num_leaves, val_score: 1.205879:  20%|##        | 4/20 [00:03<00:15,  1.03it/s]"
     ]
    },
    {
     "name": "stdout",
     "output_type": "stream",
     "text": [
      "[500]\ttrain's rmse: 0.75024\teval's rmse: 1.25931\n",
      "Early stopping, best iteration is:\n",
      "[408]\ttrain's rmse: 0.794908\teval's rmse: 1.22913\n",
      "Training until validation scores don't improve for 100 rounds\n",
      "[100]\ttrain's rmse: 1.07698\teval's rmse: 1.33905\n",
      "[200]\ttrain's rmse: 0.944128\teval's rmse: 1.28208\n",
      "[300]\ttrain's rmse: 0.86691\teval's rmse: 1.25952\n",
      "[400]\ttrain's rmse: 0.798508\teval's rmse: 1.23105\n",
      "[500]\ttrain's rmse: 0.75024\teval's rmse: 1.25931\n",
      "Early stopping, best iteration is:\n",
      "[408]\ttrain's rmse: 0.794908\teval's rmse: 1.22913\n"
     ]
    },
    {
     "name": "stderr",
     "output_type": "stream",
     "text": [
      "num_leaves, val_score: 1.205879:  25%|##5       | 5/20 [00:04<00:15,  1.06s/it]\u001b[32m[I 2021-06-22 14:16:14,096]\u001b[0m Trial 11 finished with value: 1.2291278161973498 and parameters: {'num_leaves': 143}. Best is trial 7 with value: 1.2058785659336597.\u001b[0m\n",
      "num_leaves, val_score: 1.205879:  25%|##5       | 5/20 [00:04<00:15,  1.06s/it]"
     ]
    },
    {
     "name": "stdout",
     "output_type": "stream",
     "text": [
      "Training until validation scores don't improve for 100 rounds\n",
      "[100]\ttrain's rmse: 1.08758\teval's rmse: 1.34285\n",
      "[200]\ttrain's rmse: 0.959506\teval's rmse: 1.28302\n",
      "[300]\ttrain's rmse: 0.886088\teval's rmse: 1.25449\n",
      "[400]\ttrain's rmse: 0.824865\teval's rmse: 1.2266\n",
      "[500]\ttrain's rmse: 0.779989\teval's rmse: 1.24872\n",
      "Early stopping, best iteration is:\n",
      "[410]\ttrain's rmse: 0.820681\teval's rmse: 1.22431\n"
     ]
    },
    {
     "name": "stderr",
     "output_type": "stream",
     "text": [
      "num_leaves, val_score: 1.205879:  30%|###       | 6/20 [00:05<00:13,  1.03it/s]\u001b[32m[I 2021-06-22 14:16:14,893]\u001b[0m Trial 12 finished with value: 1.2243103093176815 and parameters: {'num_leaves': 28}. Best is trial 7 with value: 1.2058785659336597.\u001b[0m\n",
      "num_leaves, val_score: 1.205879:  30%|###       | 6/20 [00:05<00:13,  1.03it/s]"
     ]
    },
    {
     "name": "stdout",
     "output_type": "stream",
     "text": [
      "Training until validation scores don't improve for 100 rounds\n",
      "[100]\ttrain's rmse: 1.07698\teval's rmse: 1.33905\n",
      "[200]\ttrain's rmse: 0.944128\teval's rmse: 1.28208\n",
      "[300]\ttrain's rmse: 0.86691\teval's rmse: 1.25952\n",
      "[400]\ttrain's rmse: 0.798508\teval's rmse: 1.23105\n"
     ]
    },
    {
     "name": "stderr",
     "output_type": "stream",
     "text": [
      "num_leaves, val_score: 1.205879:  35%|###5      | 7/20 [00:07<00:13,  1.08s/it]\u001b[32m[I 2021-06-22 14:16:16,189]\u001b[0m Trial 13 finished with value: 1.2291278161973498 and parameters: {'num_leaves': 108}. Best is trial 7 with value: 1.2058785659336597.\u001b[0m\n",
      "num_leaves, val_score: 1.205879:  35%|###5      | 7/20 [00:07<00:13,  1.08s/it]"
     ]
    },
    {
     "name": "stdout",
     "output_type": "stream",
     "text": [
      "[500]\ttrain's rmse: 0.75024\teval's rmse: 1.25931\n",
      "Early stopping, best iteration is:\n",
      "[408]\ttrain's rmse: 0.794908\teval's rmse: 1.22913\n",
      "Training until validation scores don't improve for 100 rounds\n",
      "[100]\ttrain's rmse: 1.07698\teval's rmse: 1.33905\n",
      "[200]\ttrain's rmse: 0.944128\teval's rmse: 1.28208\n",
      "[300]\ttrain's rmse: 0.86691\teval's rmse: 1.25952\n",
      "[400]\ttrain's rmse: 0.798508\teval's rmse: 1.23105\n",
      "[500]\ttrain's rmse: 0.75024\teval's rmse: 1.25931\n",
      "Early stopping, best iteration is:\n",
      "[408]\ttrain's rmse: 0.794908\teval's rmse: 1.22913\n"
     ]
    },
    {
     "name": "stderr",
     "output_type": "stream",
     "text": [
      "num_leaves, val_score: 1.205879:  40%|####      | 8/20 [00:08<00:12,  1.06s/it]\u001b[32m[I 2021-06-22 14:16:17,219]\u001b[0m Trial 14 finished with value: 1.2291278161973498 and parameters: {'num_leaves': 160}. Best is trial 7 with value: 1.2058785659336597.\u001b[0m\n",
      "num_leaves, val_score: 1.205879:  40%|####      | 8/20 [00:08<00:12,  1.06s/it]"
     ]
    },
    {
     "name": "stdout",
     "output_type": "stream",
     "text": [
      "Training until validation scores don't improve for 100 rounds\n",
      "[100]\ttrain's rmse: 1.07698\teval's rmse: 1.33905\n",
      "[200]\ttrain's rmse: 0.944128\teval's rmse: 1.28208\n",
      "[300]\ttrain's rmse: 0.86691\teval's rmse: 1.25952\n",
      "[400]\ttrain's rmse: 0.798508\teval's rmse: 1.23105\n",
      "[500]\ttrain's rmse: 0.75024\teval's rmse: 1.25931\n",
      "Early stopping, best iteration is:\n",
      "[408]\ttrain's rmse: 0.794908\teval's rmse: 1.22913\n"
     ]
    },
    {
     "name": "stderr",
     "output_type": "stream",
     "text": [
      "num_leaves, val_score: 1.205879:  45%|####5     | 9/20 [00:09<00:11,  1.07s/it]\u001b[32m[I 2021-06-22 14:16:18,290]\u001b[0m Trial 15 finished with value: 1.2291278161973498 and parameters: {'num_leaves': 110}. Best is trial 7 with value: 1.2058785659336597.\u001b[0m\n",
      "num_leaves, val_score: 1.205879:  45%|####5     | 9/20 [00:09<00:11,  1.07s/it]"
     ]
    },
    {
     "name": "stdout",
     "output_type": "stream",
     "text": [
      "Training until validation scores don't improve for 100 rounds\n",
      "[100]\ttrain's rmse: 1.13073\teval's rmse: 1.35404\n",
      "[200]\ttrain's rmse: 1.00389\teval's rmse: 1.2634\n"
     ]
    },
    {
     "name": "stderr",
     "output_type": "stream",
     "text": [
      "num_leaves, val_score: 1.188295:  50%|####5    | 10/20 [00:09<00:08,  1.14it/s]"
     ]
    },
    {
     "name": "stdout",
     "output_type": "stream",
     "text": [
      "[300]\ttrain's rmse: 0.94619\teval's rmse: 1.2294\n",
      "[400]\ttrain's rmse: 0.898454\teval's rmse: 1.19042\n",
      "[500]\ttrain's rmse: 0.86643\teval's rmse: 1.21258\n",
      "Early stopping, best iteration is:\n",
      "[410]\ttrain's rmse: 0.895779\teval's rmse: 1.1883\n"
     ]
    },
    {
     "name": "stderr",
     "output_type": "stream",
     "text": [
      "\u001b[32m[I 2021-06-22 14:16:18,762]\u001b[0m Trial 16 finished with value: 1.1882954333367237 and parameters: {'num_leaves': 15}. Best is trial 16 with value: 1.1882954333367237.\u001b[0m\n",
      "num_leaves, val_score: 1.188295:  50%|####5    | 10/20 [00:09<00:08,  1.14it/s]"
     ]
    },
    {
     "name": "stdout",
     "output_type": "stream",
     "text": [
      "Training until validation scores don't improve for 100 rounds\n",
      "[100]\ttrain's rmse: 1.07698\teval's rmse: 1.33905\n",
      "[200]\ttrain's rmse: 0.944128\teval's rmse: 1.28208\n",
      "[300]\ttrain's rmse: 0.86691\teval's rmse: 1.25952\n",
      "[400]\ttrain's rmse: 0.798508\teval's rmse: 1.23105\n",
      "[500]\ttrain's rmse: 0.75024\teval's rmse: 1.25931\n"
     ]
    },
    {
     "name": "stderr",
     "output_type": "stream",
     "text": [
      "num_leaves, val_score: 1.188295:  55%|####9    | 11/20 [00:10<00:08,  1.07it/s]\u001b[32m[I 2021-06-22 14:16:19,805]\u001b[0m Trial 17 finished with value: 1.2291278161973498 and parameters: {'num_leaves': 62}. Best is trial 16 with value: 1.1882954333367237.\u001b[0m\n",
      "num_leaves, val_score: 1.188295:  55%|####9    | 11/20 [00:10<00:08,  1.07it/s]"
     ]
    },
    {
     "name": "stdout",
     "output_type": "stream",
     "text": [
      "Early stopping, best iteration is:\n",
      "[408]\ttrain's rmse: 0.794908\teval's rmse: 1.22913\n",
      "Training until validation scores don't improve for 100 rounds\n",
      "[100]\ttrain's rmse: 1.21257\teval's rmse: 1.3889\n",
      "[200]\ttrain's rmse: 1.04864\teval's rmse: 1.24499\n",
      "[300]\ttrain's rmse: 0.999271\teval's rmse: 1.19743\n",
      "[400]\ttrain's rmse: 0.961141\teval's rmse: 1.15457\n",
      "[500]\ttrain's rmse: 0.93932\teval's rmse: 1.16922\n"
     ]
    },
    {
     "name": "stderr",
     "output_type": "stream",
     "text": [
      "num_leaves, val_score: 1.151881:  60%|#####3   | 12/20 [00:11<00:06,  1.31it/s]\u001b[32m[I 2021-06-22 14:16:20,179]\u001b[0m Trial 18 finished with value: 1.1518814470894991 and parameters: {'num_leaves': 8}. Best is trial 18 with value: 1.1518814470894991.\u001b[0m\n",
      "num_leaves, val_score: 1.151881:  60%|#####3   | 12/20 [00:11<00:06,  1.31it/s]"
     ]
    },
    {
     "name": "stdout",
     "output_type": "stream",
     "text": [
      "Early stopping, best iteration is:\n",
      "[410]\ttrain's rmse: 0.959086\teval's rmse: 1.15188\n",
      "Training until validation scores don't improve for 100 rounds\n",
      "[100]\ttrain's rmse: 1.54888\teval's rmse: 1.69269\n",
      "[200]\ttrain's rmse: 1.20953\teval's rmse: 1.36481\n",
      "[300]\ttrain's rmse: 1.11796\teval's rmse: 1.27796\n"
     ]
    },
    {
     "name": "stderr",
     "output_type": "stream",
     "text": [
      "num_leaves, val_score: 1.151881:  65%|#####8   | 13/20 [00:11<00:04,  1.60it/s]\u001b[32m[I 2021-06-22 14:16:20,493]\u001b[0m Trial 19 finished with value: 1.2012063227417729 and parameters: {'num_leaves': 3}. Best is trial 18 with value: 1.1518814470894991.\u001b[0m\n",
      "num_leaves, val_score: 1.151881:  65%|#####8   | 13/20 [00:11<00:04,  1.60it/s]"
     ]
    },
    {
     "name": "stdout",
     "output_type": "stream",
     "text": [
      "[400]\ttrain's rmse: 1.06832\teval's rmse: 1.21988\n",
      "[500]\ttrain's rmse: 1.04758\teval's rmse: 1.21264\n",
      "[600]\ttrain's rmse: 1.03172\teval's rmse: 1.20138\n",
      "[700]\ttrain's rmse: 1.02257\teval's rmse: 1.20865\n",
      "Early stopping, best iteration is:\n",
      "[614]\ttrain's rmse: 1.03037\teval's rmse: 1.20121\n",
      "Training until validation scores don't improve for 100 rounds\n",
      "[100]\ttrain's rmse: 1.07698\teval's rmse: 1.33905\n",
      "[200]\ttrain's rmse: 0.944128\teval's rmse: 1.28208\n",
      "[300]\ttrain's rmse: 0.86691\teval's rmse: 1.25952\n",
      "[400]\ttrain's rmse: 0.798508\teval's rmse: 1.23105\n"
     ]
    },
    {
     "name": "stderr",
     "output_type": "stream",
     "text": [
      "\r",
      "num_leaves, val_score: 1.151881:  65%|#####8   | 13/20 [00:12<00:04,  1.60it/s]"
     ]
    },
    {
     "name": "stdout",
     "output_type": "stream",
     "text": [
      "[500]\ttrain's rmse: 0.75024\teval's rmse: 1.25931\n",
      "Early stopping, best iteration is:\n",
      "[408]\ttrain's rmse: 0.794908\teval's rmse: 1.22913\n"
     ]
    },
    {
     "name": "stderr",
     "output_type": "stream",
     "text": [
      "num_leaves, val_score: 1.151881:  70%|######3  | 14/20 [00:12<00:04,  1.35it/s]\u001b[32m[I 2021-06-22 14:16:21,501]\u001b[0m Trial 20 finished with value: 1.2291278161973498 and parameters: {'num_leaves': 56}. Best is trial 18 with value: 1.1518814470894991.\u001b[0m\n",
      "num_leaves, val_score: 1.151881:  70%|######3  | 14/20 [00:12<00:04,  1.35it/s]"
     ]
    },
    {
     "name": "stdout",
     "output_type": "stream",
     "text": [
      "Training until validation scores don't improve for 100 rounds\n",
      "[100]\ttrain's rmse: 1.29672\teval's rmse: 1.45687\n",
      "[200]\ttrain's rmse: 1.09603\teval's rmse: 1.2792\n",
      "[300]\ttrain's rmse: 1.0376\teval's rmse: 1.21965\n",
      "[400]\ttrain's rmse: 1.00004\teval's rmse: 1.1681\n"
     ]
    },
    {
     "name": "stderr",
     "output_type": "stream",
     "text": [
      "num_leaves, val_score: 1.151881:  75%|######7  | 15/20 [00:12<00:03,  1.63it/s]\u001b[32m[I 2021-06-22 14:16:21,820]\u001b[0m Trial 21 finished with value: 1.163505186798346 and parameters: {'num_leaves': 5}. Best is trial 18 with value: 1.1518814470894991.\u001b[0m\n",
      "num_leaves, val_score: 1.151881:  75%|######7  | 15/20 [00:12<00:03,  1.63it/s]"
     ]
    },
    {
     "name": "stdout",
     "output_type": "stream",
     "text": [
      "[500]\ttrain's rmse: 0.983204\teval's rmse: 1.17313\n",
      "Early stopping, best iteration is:\n",
      "[410]\ttrain's rmse: 0.998659\teval's rmse: 1.16351\n",
      "Training until validation scores don't improve for 100 rounds\n",
      "[100]\ttrain's rmse: 1.07698\teval's rmse: 1.33905\n",
      "[200]\ttrain's rmse: 0.944128\teval's rmse: 1.28208\n",
      "[300]\ttrain's rmse: 0.86691\teval's rmse: 1.25952\n",
      "[400]\ttrain's rmse: 0.798508\teval's rmse: 1.23105\n"
     ]
    },
    {
     "name": "stderr",
     "output_type": "stream",
     "text": [
      "num_leaves, val_score: 1.151881:  80%|#######2 | 16/20 [00:13<00:02,  1.39it/s]\u001b[32m[I 2021-06-22 14:16:22,773]\u001b[0m Trial 22 finished with value: 1.2291278161973498 and parameters: {'num_leaves': 70}. Best is trial 18 with value: 1.1518814470894991.\u001b[0m\n",
      "num_leaves, val_score: 1.151881:  80%|#######2 | 16/20 [00:13<00:02,  1.39it/s]"
     ]
    },
    {
     "name": "stdout",
     "output_type": "stream",
     "text": [
      "[500]\ttrain's rmse: 0.75024\teval's rmse: 1.25931\n",
      "Early stopping, best iteration is:\n",
      "[408]\ttrain's rmse: 0.794908\teval's rmse: 1.22913\n",
      "Training until validation scores don't improve for 100 rounds\n",
      "[100]\ttrain's rmse: 1.07698\teval's rmse: 1.33905\n",
      "[200]\ttrain's rmse: 0.944128\teval's rmse: 1.28208\n",
      "[300]\ttrain's rmse: 0.86691\teval's rmse: 1.25952\n",
      "[400]\ttrain's rmse: 0.798508\teval's rmse: 1.23105\n",
      "[500]\ttrain's rmse: 0.75024\teval's rmse: 1.25931\n",
      "Early stopping, best iteration is:\n",
      "[408]\ttrain's rmse: 0.794908\teval's rmse: 1.22913\n"
     ]
    },
    {
     "name": "stderr",
     "output_type": "stream",
     "text": [
      "num_leaves, val_score: 1.151881:  85%|#######6 | 17/20 [00:14<00:02,  1.14it/s]\u001b[32m[I 2021-06-22 14:16:24,018]\u001b[0m Trial 23 finished with value: 1.2291278161973498 and parameters: {'num_leaves': 196}. Best is trial 18 with value: 1.1518814470894991.\u001b[0m\n",
      "num_leaves, val_score: 1.151881:  85%|#######6 | 17/20 [00:14<00:02,  1.14it/s]"
     ]
    },
    {
     "name": "stdout",
     "output_type": "stream",
     "text": [
      "Training until validation scores don't improve for 100 rounds\n",
      "[100]\ttrain's rmse: 2.89236\teval's rmse: 2.97961\n",
      "[200]\ttrain's rmse: 1.40122\teval's rmse: 1.52025\n",
      "[300]\ttrain's rmse: 1.24438\teval's rmse: 1.35542\n",
      "[400]\ttrain's rmse: 1.17113\teval's rmse: 1.28244\n",
      "[500]\ttrain's rmse: 1.13053\teval's rmse: 1.24921\n",
      "[600]\ttrain's rmse: 1.10235\teval's rmse: 1.22692\n"
     ]
    },
    {
     "name": "stderr",
     "output_type": "stream",
     "text": [
      "num_leaves, val_score: 1.151881:  90%|########1| 18/20 [00:15<00:01,  1.37it/s]\u001b[32m[I 2021-06-22 14:16:24,412]\u001b[0m Trial 24 finished with value: 1.175988140548957 and parameters: {'num_leaves': 2}. Best is trial 18 with value: 1.1518814470894991.\u001b[0m\n",
      "num_leaves, val_score: 1.151881:  90%|########1| 18/20 [00:15<00:01,  1.37it/s]"
     ]
    },
    {
     "name": "stdout",
     "output_type": "stream",
     "text": [
      "[700]\ttrain's rmse: 1.08451\teval's rmse: 1.21174\n",
      "[800]\ttrain's rmse: 1.07291\teval's rmse: 1.20338\n",
      "[900]\ttrain's rmse: 1.06148\teval's rmse: 1.18598\n",
      "[1000]\ttrain's rmse: 1.05332\teval's rmse: 1.17599\n",
      "Did not meet early stopping. Best iteration is:\n",
      "[1000]\ttrain's rmse: 1.05332\teval's rmse: 1.17599\n",
      "Training until validation scores don't improve for 100 rounds\n",
      "[100]\ttrain's rmse: 1.07589\teval's rmse: 1.34194\n",
      "[200]\ttrain's rmse: 0.943787\teval's rmse: 1.28645\n",
      "[300]\ttrain's rmse: 0.863378\teval's rmse: 1.25924\n",
      "[400]\ttrain's rmse: 0.794919\teval's rmse: 1.23299\n",
      "[500]\ttrain's rmse: 0.747839\teval's rmse: 1.26292\n",
      "Early stopping, best iteration is:\n",
      "[406]\ttrain's rmse: 0.791881\teval's rmse: 1.23102\n"
     ]
    },
    {
     "name": "stderr",
     "output_type": "stream",
     "text": [
      "num_leaves, val_score: 1.151881:  95%|########5| 19/20 [00:16<00:00,  1.26it/s]\u001b[32m[I 2021-06-22 14:16:25,363]\u001b[0m Trial 25 finished with value: 1.2310178330377326 and parameters: {'num_leaves': 42}. Best is trial 18 with value: 1.1518814470894991.\u001b[0m\n",
      "num_leaves, val_score: 1.151881:  95%|########5| 19/20 [00:16<00:00,  1.26it/s]"
     ]
    },
    {
     "name": "stdout",
     "output_type": "stream",
     "text": [
      "Training until validation scores don't improve for 100 rounds\n",
      "[100]\ttrain's rmse: 1.07698\teval's rmse: 1.33905\n",
      "[200]\ttrain's rmse: 0.944128\teval's rmse: 1.28208\n",
      "[300]\ttrain's rmse: 0.86691\teval's rmse: 1.25952\n",
      "[400]\ttrain's rmse: 0.798508\teval's rmse: 1.23105\n"
     ]
    },
    {
     "name": "stderr",
     "output_type": "stream",
     "text": [
      "num_leaves, val_score: 1.151881: 100%|#########| 20/20 [00:17<00:00,  1.14it/s]\u001b[32m[I 2021-06-22 14:16:26,433]\u001b[0m Trial 26 finished with value: 1.2291278161973498 and parameters: {'num_leaves': 91}. Best is trial 18 with value: 1.1518814470894991.\u001b[0m\n",
      "num_leaves, val_score: 1.151881: 100%|#########| 20/20 [00:17<00:00,  1.16it/s]\n",
      "bagging, val_score: 1.151881:   0%|                     | 0/10 [00:00<?, ?it/s]"
     ]
    },
    {
     "name": "stdout",
     "output_type": "stream",
     "text": [
      "[500]\ttrain's rmse: 0.75024\teval's rmse: 1.25931\n",
      "Early stopping, best iteration is:\n",
      "[408]\ttrain's rmse: 0.794908\teval's rmse: 1.22913\n",
      "Training until validation scores don't improve for 100 rounds\n",
      "[100]\ttrain's rmse: 1.16527\teval's rmse: 1.29111\n",
      "[200]\ttrain's rmse: 1.00632\teval's rmse: 1.16678\n",
      "[300]\ttrain's rmse: 0.959265\teval's rmse: 1.1387\n",
      "[400]\ttrain's rmse: 0.9305\teval's rmse: 1.11946\n"
     ]
    },
    {
     "name": "stderr",
     "output_type": "stream",
     "text": [
      "bagging, val_score: 1.118726:  10%|#3           | 1/10 [00:00<00:03,  2.63it/s]\u001b[32m[I 2021-06-22 14:16:26,825]\u001b[0m Trial 27 finished with value: 1.1187258155892166 and parameters: {'bagging_fraction': 0.9108461504648765, 'bagging_freq': 5}. Best is trial 27 with value: 1.1187258155892166.\u001b[0m\n",
      "bagging, val_score: 1.118726:  10%|#3           | 1/10 [00:00<00:03,  2.63it/s]"
     ]
    },
    {
     "name": "stdout",
     "output_type": "stream",
     "text": [
      "[500]\ttrain's rmse: 0.909418\teval's rmse: 1.12869\n",
      "Early stopping, best iteration is:\n",
      "[403]\ttrain's rmse: 0.930042\teval's rmse: 1.11873\n",
      "Training until validation scores don't improve for 100 rounds\n",
      "[100]\ttrain's rmse: 1.13725\teval's rmse: 1.292\n",
      "[200]\ttrain's rmse: 0.976162\teval's rmse: 1.1527\n"
     ]
    },
    {
     "name": "stderr",
     "output_type": "stream",
     "text": [
      "bagging, val_score: 1.118726:  20%|##6          | 2/10 [00:00<00:02,  3.32it/s]\u001b[32m[I 2021-06-22 14:16:27,069]\u001b[0m Trial 28 finished with value: 1.1460124139051777 and parameters: {'bagging_fraction': 0.9765194324705229, 'bagging_freq': 5}. Best is trial 27 with value: 1.1187258155892166.\u001b[0m\n",
      "bagging, val_score: 1.118726:  20%|##6          | 2/10 [00:00<00:02,  3.32it/s]"
     ]
    },
    {
     "name": "stdout",
     "output_type": "stream",
     "text": [
      "[300]\ttrain's rmse: 0.938257\teval's rmse: 1.15122\n",
      "Early stopping, best iteration is:\n",
      "[228]\ttrain's rmse: 0.962399\teval's rmse: 1.14601\n",
      "Training until validation scores don't improve for 100 rounds\n",
      "[100]\ttrain's rmse: 1.14746\teval's rmse: 1.27428\n",
      "[200]\ttrain's rmse: 0.990269\teval's rmse: 1.14565\n"
     ]
    },
    {
     "name": "stderr",
     "output_type": "stream",
     "text": [
      "bagging, val_score: 1.111775:  30%|###9         | 3/10 [00:00<00:02,  3.21it/s]\u001b[32m[I 2021-06-22 14:16:27,403]\u001b[0m Trial 29 finished with value: 1.1117754391613235 and parameters: {'bagging_fraction': 0.9454407710455901, 'bagging_freq': 7}. Best is trial 29 with value: 1.1117754391613235.\u001b[0m\n",
      "bagging, val_score: 1.111775:  30%|###9         | 3/10 [00:00<00:02,  3.21it/s]"
     ]
    },
    {
     "name": "stdout",
     "output_type": "stream",
     "text": [
      "[300]\ttrain's rmse: 0.946676\teval's rmse: 1.11204\n",
      "[400]\ttrain's rmse: 0.921449\teval's rmse: 1.11559\n",
      "Early stopping, best iteration is:\n",
      "[324]\ttrain's rmse: 0.939626\teval's rmse: 1.11178\n",
      "Training until validation scores don't improve for 100 rounds\n",
      "[100]\ttrain's rmse: 1.13486\teval's rmse: 1.2988\n",
      "[200]\ttrain's rmse: 0.975139\teval's rmse: 1.16936\n",
      "[300]\ttrain's rmse: 0.9374\teval's rmse: 1.15848\n",
      "[400]\ttrain's rmse: 0.91134\teval's rmse: 1.15919\n"
     ]
    },
    {
     "name": "stderr",
     "output_type": "stream",
     "text": [
      "bagging, val_score: 1.111775:  40%|#####2       | 4/10 [00:01<00:02,  2.97it/s]\u001b[32m[I 2021-06-22 14:16:27,775]\u001b[0m Trial 30 finished with value: 1.1549729510876403 and parameters: {'bagging_fraction': 0.937279079438796, 'bagging_freq': 1}. Best is trial 29 with value: 1.1117754391613235.\u001b[0m\n",
      "bagging, val_score: 1.111775:  40%|#####2       | 4/10 [00:01<00:02,  2.97it/s]"
     ]
    },
    {
     "name": "stdout",
     "output_type": "stream",
     "text": [
      "Early stopping, best iteration is:\n",
      "[337]\ttrain's rmse: 0.926512\teval's rmse: 1.15497\n",
      "Training until validation scores don't improve for 100 rounds\n",
      "[100]\ttrain's rmse: 1.20942\teval's rmse: 1.36072\n",
      "[200]\ttrain's rmse: 1.04939\teval's rmse: 1.24449\n"
     ]
    },
    {
     "name": "stderr",
     "output_type": "stream",
     "text": [
      "bagging, val_score: 1.111775:  50%|######5      | 5/10 [00:01<00:01,  2.80it/s]\u001b[32m[I 2021-06-22 14:16:28,171]\u001b[0m Trial 31 finished with value: 1.228771733680823 and parameters: {'bagging_fraction': 0.7600953868961677, 'bagging_freq': 2}. Best is trial 29 with value: 1.1117754391613235.\u001b[0m\n",
      "bagging, val_score: 1.111775:  50%|######5      | 5/10 [00:01<00:01,  2.80it/s]"
     ]
    },
    {
     "name": "stdout",
     "output_type": "stream",
     "text": [
      "[300]\ttrain's rmse: 1.00624\teval's rmse: 1.24852\n",
      "[400]\ttrain's rmse: 0.980853\teval's rmse: 1.23648\n",
      "[500]\ttrain's rmse: 0.960979\teval's rmse: 1.23367\n",
      "Early stopping, best iteration is:\n",
      "[446]\ttrain's rmse: 0.970703\teval's rmse: 1.22877\n",
      "Training until validation scores don't improve for 100 rounds\n",
      "[100]\ttrain's rmse: 1.38157\teval's rmse: 1.54351\n",
      "[200]\ttrain's rmse: 1.19503\teval's rmse: 1.44312\n",
      "[300]\ttrain's rmse: 1.11663\teval's rmse: 1.41694\n",
      "Early stopping, best iteration is:\n",
      "[248]\ttrain's rmse: 1.14838\teval's rmse: 1.40491\n"
     ]
    },
    {
     "name": "stderr",
     "output_type": "stream",
     "text": [
      "bagging, val_score: 1.111775:  60%|#######8     | 6/10 [00:01<00:01,  3.04it/s]\u001b[32m[I 2021-06-22 14:16:28,434]\u001b[0m Trial 32 finished with value: 1.4049117539462481 and parameters: {'bagging_fraction': 0.5224922044330857, 'bagging_freq': 4}. Best is trial 29 with value: 1.1117754391613235.\u001b[0m\n",
      "bagging, val_score: 1.111775:  60%|#######8     | 6/10 [00:02<00:01,  3.04it/s]"
     ]
    },
    {
     "name": "stdout",
     "output_type": "stream",
     "text": [
      "Training until validation scores don't improve for 100 rounds\n",
      "[100]\ttrain's rmse: 1.20422\teval's rmse: 1.37485\n",
      "[200]\ttrain's rmse: 1.04826\teval's rmse: 1.26649\n",
      "[300]\ttrain's rmse: 1.00981\teval's rmse: 1.25693\n",
      "Early stopping, best iteration is:\n",
      "[247]\ttrain's rmse: 1.0254\teval's rmse: 1.25469\n"
     ]
    },
    {
     "name": "stderr",
     "output_type": "stream",
     "text": [
      "bagging, val_score: 1.111775:  70%|#########1   | 7/10 [00:02<00:00,  3.30it/s]\u001b[32m[I 2021-06-22 14:16:28,687]\u001b[0m Trial 33 finished with value: 1.2546937869274646 and parameters: {'bagging_fraction': 0.7173080992042664, 'bagging_freq': 1}. Best is trial 29 with value: 1.1117754391613235.\u001b[0m\n",
      "bagging, val_score: 1.111775:  70%|#########1   | 7/10 [00:02<00:00,  3.30it/s]"
     ]
    },
    {
     "name": "stdout",
     "output_type": "stream",
     "text": [
      "Training until validation scores don't improve for 100 rounds\n",
      "[100]\ttrain's rmse: 1.21526\teval's rmse: 1.40379\n",
      "[200]\ttrain's rmse: 1.04718\teval's rmse: 1.26597\n",
      "[300]\ttrain's rmse: 1.00506\teval's rmse: 1.23807\n",
      "[400]\ttrain's rmse: 0.964919\teval's rmse: 1.19812\n"
     ]
    },
    {
     "name": "stderr",
     "output_type": "stream",
     "text": [
      "bagging, val_score: 1.111775:  80%|##########4  | 8/10 [00:02<00:00,  2.81it/s]\u001b[32m[I 2021-06-22 14:16:29,152]\u001b[0m Trial 34 finished with value: 1.157233003799907 and parameters: {'bagging_fraction': 0.8167713631280173, 'bagging_freq': 7}. Best is trial 29 with value: 1.1117754391613235.\u001b[0m\n",
      "bagging, val_score: 1.111775:  80%|##########4  | 8/10 [00:02<00:00,  2.81it/s]"
     ]
    },
    {
     "name": "stdout",
     "output_type": "stream",
     "text": [
      "[500]\ttrain's rmse: 0.934973\teval's rmse: 1.17079\n",
      "[600]\ttrain's rmse: 0.918213\teval's rmse: 1.16627\n",
      "Early stopping, best iteration is:\n",
      "[567]\ttrain's rmse: 0.923853\teval's rmse: 1.15723\n",
      "Training until validation scores don't improve for 100 rounds\n",
      "[100]\ttrain's rmse: 1.19921\teval's rmse: 1.39129\n",
      "[200]\ttrain's rmse: 1.0321\teval's rmse: 1.22374\n",
      "[300]\ttrain's rmse: 0.99157\teval's rmse: 1.21245\n"
     ]
    },
    {
     "name": "stderr",
     "output_type": "stream",
     "text": [
      "\r",
      "bagging, val_score: 1.111775:  80%|##########4  | 8/10 [00:03<00:00,  2.81it/s]"
     ]
    },
    {
     "name": "stdout",
     "output_type": "stream",
     "text": [
      "[400]\ttrain's rmse: 0.951536\teval's rmse: 1.1638\n",
      "[500]\ttrain's rmse: 0.926065\teval's rmse: 1.14605\n",
      "Early stopping, best iteration is:\n",
      "[488]\ttrain's rmse: 0.929856\teval's rmse: 1.13914\n"
     ]
    },
    {
     "name": "stderr",
     "output_type": "stream",
     "text": [
      "bagging, val_score: 1.111775:  90%|###########7 | 9/10 [00:03<00:00,  2.47it/s]\u001b[32m[I 2021-06-22 14:16:29,668]\u001b[0m Trial 35 finished with value: 1.1391404755648766 and parameters: {'bagging_fraction': 0.8456692966191037, 'bagging_freq': 6}. Best is trial 29 with value: 1.1117754391613235.\u001b[0m\n",
      "bagging, val_score: 1.111775:  90%|###########7 | 9/10 [00:03<00:00,  2.47it/s]"
     ]
    },
    {
     "name": "stdout",
     "output_type": "stream",
     "text": [
      "Training until validation scores don't improve for 100 rounds\n",
      "[100]\ttrain's rmse: 1.153\teval's rmse: 1.26588\n",
      "[200]\ttrain's rmse: 0.993737\teval's rmse: 1.12343\n",
      "[300]\ttrain's rmse: 0.9509\teval's rmse: 1.11028\n"
     ]
    },
    {
     "name": "stderr",
     "output_type": "stream",
     "text": [
      "\r",
      "bagging, val_score: 1.098863:  90%|###########7 | 9/10 [00:03<00:00,  2.47it/s]"
     ]
    },
    {
     "name": "stdout",
     "output_type": "stream",
     "text": [
      "[400]\ttrain's rmse: 0.924612\teval's rmse: 1.10966\n",
      "[500]\ttrain's rmse: 0.904\teval's rmse: 1.10058\n",
      "[600]\ttrain's rmse: 0.886294\teval's rmse: 1.10807\n",
      "Early stopping, best iteration is:\n",
      "[530]\ttrain's rmse: 0.897728\teval's rmse: 1.09886\n"
     ]
    },
    {
     "name": "stderr",
     "output_type": "stream",
     "text": [
      "bagging, val_score: 1.098863: 100%|############| 10/10 [00:03<00:00,  2.36it/s]\u001b[32m[I 2021-06-22 14:16:30,133]\u001b[0m Trial 36 finished with value: 1.0988634534248642 and parameters: {'bagging_fraction': 0.9278718894806001, 'bagging_freq': 2}. Best is trial 36 with value: 1.0988634534248642.\u001b[0m\n",
      "bagging, val_score: 1.098863: 100%|############| 10/10 [00:03<00:00,  2.71it/s]\n",
      "feature_fraction_stage2, val_score: 1.098863:   0%|      | 0/6 [00:00<?, ?it/s]"
     ]
    },
    {
     "name": "stdout",
     "output_type": "stream",
     "text": [
      "Training until validation scores don't improve for 100 rounds\n",
      "[100]\ttrain's rmse: 1.12051\teval's rmse: 1.22945\n",
      "[200]\ttrain's rmse: 0.986493\teval's rmse: 1.12747\n",
      "[300]\ttrain's rmse: 0.946438\teval's rmse: 1.11104\n"
     ]
    },
    {
     "name": "stderr",
     "output_type": "stream",
     "text": [
      "feature_fraction_stage2, val_score: 1.098863:  17%|1| 1/6 [00:00<00:01,  3.28it\u001b[32m[I 2021-06-22 14:16:30,446]\u001b[0m Trial 37 finished with value: 1.1086078095023997 and parameters: {'feature_fraction': 0.9159999999999999}. Best is trial 37 with value: 1.1086078095023997.\u001b[0m\n",
      "feature_fraction_stage2, val_score: 1.098863:  17%|1| 1/6 [00:00<00:01,  3.28it"
     ]
    },
    {
     "name": "stdout",
     "output_type": "stream",
     "text": [
      "[400]\ttrain's rmse: 0.921051\teval's rmse: 1.1144\n",
      "Early stopping, best iteration is:\n",
      "[318]\ttrain's rmse: 0.942262\teval's rmse: 1.10861\n",
      "Training until validation scores don't improve for 100 rounds\n",
      "[100]\ttrain's rmse: 1.22844\teval's rmse: 1.35596\n",
      "[200]\ttrain's rmse: 1.01145\teval's rmse: 1.15753\n",
      "[300]\ttrain's rmse: 0.960079\teval's rmse: 1.12959\n",
      "[400]\ttrain's rmse: 0.933079\teval's rmse: 1.12174\n",
      "[500]\ttrain's rmse: 0.909727\teval's rmse: 1.11413\n"
     ]
    },
    {
     "name": "stderr",
     "output_type": "stream",
     "text": [
      "feature_fraction_stage2, val_score: 1.098863:  33%|3| 2/6 [00:00<00:01,  2.54it\u001b[32m[I 2021-06-22 14:16:30,901]\u001b[0m Trial 38 finished with value: 1.111767370313427 and parameters: {'feature_fraction': 0.852}. Best is trial 37 with value: 1.1086078095023997.\u001b[0m\n",
      "feature_fraction_stage2, val_score: 1.098863:  33%|3| 2/6 [00:00<00:01,  2.54it"
     ]
    },
    {
     "name": "stdout",
     "output_type": "stream",
     "text": [
      "[600]\ttrain's rmse: 0.891095\teval's rmse: 1.1206\n",
      "Early stopping, best iteration is:\n",
      "[516]\ttrain's rmse: 0.905818\teval's rmse: 1.11177\n",
      "Training until validation scores don't improve for 100 rounds\n",
      "[100]\ttrain's rmse: 1.11197\teval's rmse: 1.23418\n"
     ]
    },
    {
     "name": "stderr",
     "output_type": "stream",
     "text": [
      "feature_fraction_stage2, val_score: 1.098863:  50%|5| 3/6 [00:01<00:01,  3.00it\u001b[32m[I 2021-06-22 14:16:31,164]\u001b[0m Trial 39 finished with value: 1.1435413824298293 and parameters: {'feature_fraction': 0.948}. Best is trial 37 with value: 1.1086078095023997.\u001b[0m\n",
      "feature_fraction_stage2, val_score: 1.098863:  50%|5| 3/6 [00:01<00:01,  3.00it"
     ]
    },
    {
     "name": "stdout",
     "output_type": "stream",
     "text": [
      "[200]\ttrain's rmse: 0.987586\teval's rmse: 1.14717\n",
      "[300]\ttrain's rmse: 0.948871\teval's rmse: 1.14583\n",
      "Early stopping, best iteration is:\n",
      "[207]\ttrain's rmse: 0.98409\teval's rmse: 1.14354\n",
      "Training until validation scores don't improve for 100 rounds\n",
      "[100]\ttrain's rmse: 1.0472\teval's rmse: 1.17538\n"
     ]
    },
    {
     "name": "stderr",
     "output_type": "stream",
     "text": [
      "feature_fraction_stage2, val_score: 1.098863:  67%|6| 4/6 [00:01<00:00,  3.24it\u001b[32m[I 2021-06-22 14:16:31,437]\u001b[0m Trial 40 finished with value: 1.132698025339354 and parameters: {'feature_fraction': 0.9799999999999999}. Best is trial 37 with value: 1.1086078095023997.\u001b[0m\n",
      "feature_fraction_stage2, val_score: 1.098863:  67%|6| 4/6 [00:01<00:00,  3.24it"
     ]
    },
    {
     "name": "stdout",
     "output_type": "stream",
     "text": [
      "[200]\ttrain's rmse: 0.967582\teval's rmse: 1.13638\n",
      "[300]\ttrain's rmse: 0.934334\teval's rmse: 1.14292\n",
      "Early stopping, best iteration is:\n",
      "[206]\ttrain's rmse: 0.965204\teval's rmse: 1.1327\n",
      "Training until validation scores don't improve for 100 rounds\n",
      "[100]\ttrain's rmse: 1.23762\teval's rmse: 1.35877\n",
      "[200]\ttrain's rmse: 1.01588\teval's rmse: 1.15679\n",
      "[300]\ttrain's rmse: 0.96362\teval's rmse: 1.12838\n",
      "[400]\ttrain's rmse: 0.935829\teval's rmse: 1.1233\n"
     ]
    },
    {
     "name": "stderr",
     "output_type": "stream",
     "text": [
      "feature_fraction_stage2, val_score: 1.098863:  83%|8| 5/6 [00:01<00:00,  2.83it\u001b[32m[I 2021-06-22 14:16:31,870]\u001b[0m Trial 41 finished with value: 1.1163873309043808 and parameters: {'feature_fraction': 0.82}. Best is trial 37 with value: 1.1086078095023997.\u001b[0m\n",
      "feature_fraction_stage2, val_score: 1.098863:  83%|8| 5/6 [00:01<00:00,  2.83it"
     ]
    },
    {
     "name": "stdout",
     "output_type": "stream",
     "text": [
      "[500]\ttrain's rmse: 0.912657\teval's rmse: 1.12014\n",
      "Early stopping, best iteration is:\n",
      "[438]\ttrain's rmse: 0.926673\teval's rmse: 1.11639\n",
      "Training until validation scores don't improve for 100 rounds\n",
      "[100]\ttrain's rmse: 1.153\teval's rmse: 1.26588\n",
      "[200]\ttrain's rmse: 0.993737\teval's rmse: 1.12343\n",
      "[300]\ttrain's rmse: 0.9509\teval's rmse: 1.11028\n",
      "[400]\ttrain's rmse: 0.924612\teval's rmse: 1.10966\n",
      "[500]\ttrain's rmse: 0.904\teval's rmse: 1.10058\n"
     ]
    },
    {
     "name": "stderr",
     "output_type": "stream",
     "text": [
      "feature_fraction_stage2, val_score: 1.098863: 100%|#| 6/6 [00:02<00:00,  2.37it\u001b[32m[I 2021-06-22 14:16:32,426]\u001b[0m Trial 42 finished with value: 1.0988634534248642 and parameters: {'feature_fraction': 0.8839999999999999}. Best is trial 42 with value: 1.0988634534248642.\u001b[0m\n",
      "feature_fraction_stage2, val_score: 1.098863: 100%|#| 6/6 [00:02<00:00,  2.63it\n",
      "regularization_factors, val_score: 1.098863:   0%|      | 0/20 [00:00<?, ?it/s]"
     ]
    },
    {
     "name": "stdout",
     "output_type": "stream",
     "text": [
      "[600]\ttrain's rmse: 0.886294\teval's rmse: 1.10807\n",
      "Early stopping, best iteration is:\n",
      "[530]\ttrain's rmse: 0.897728\teval's rmse: 1.09886\n",
      "Training until validation scores don't improve for 100 rounds\n",
      "[100]\ttrain's rmse: 1.15428\teval's rmse: 1.2673\n",
      "[200]\ttrain's rmse: 0.994426\teval's rmse: 1.12902\n",
      "[300]\ttrain's rmse: 0.952343\teval's rmse: 1.1194\n",
      "[400]\ttrain's rmse: 0.928077\teval's rmse: 1.11579\n",
      "[500]\ttrain's rmse: 0.908064\teval's rmse: 1.10724\n"
     ]
    },
    {
     "name": "stderr",
     "output_type": "stream",
     "text": [
      "regularization_factors, val_score: 1.098863:   5%| | 1/20 [00:00<00:08,  2.20it\u001b[32m[I 2021-06-22 14:16:32,891]\u001b[0m Trial 43 finished with value: 1.1057198819754719 and parameters: {'lambda_l1': 0.5256851259126499, 'lambda_l2': 3.214200429872392e-08}. Best is trial 43 with value: 1.1057198819754719.\u001b[0m\n",
      "regularization_factors, val_score: 1.098863:   5%| | 1/20 [00:00<00:08,  2.20it"
     ]
    },
    {
     "name": "stdout",
     "output_type": "stream",
     "text": [
      "[600]\ttrain's rmse: 0.89102\teval's rmse: 1.11611\n",
      "Early stopping, best iteration is:\n",
      "[509]\ttrain's rmse: 0.90602\teval's rmse: 1.10572\n",
      "Training until validation scores don't improve for 100 rounds\n",
      "[100]\ttrain's rmse: 1.15305\teval's rmse: 1.26595\n",
      "[200]\ttrain's rmse: 0.993332\teval's rmse: 1.12385\n",
      "[300]\ttrain's rmse: 0.95075\teval's rmse: 1.11341\n"
     ]
    },
    {
     "name": "stderr",
     "output_type": "stream",
     "text": [
      "regularization_factors, val_score: 1.098863:  10%|1| 2/20 [00:01<00:11,  1.63it\u001b[32m[I 2021-06-22 14:16:33,620]\u001b[0m Trial 44 finished with value: 1.1105650101895874 and parameters: {'lambda_l1': 0.022418170947057853, 'lambda_l2': 1.5077420608200683e-08}. Best is trial 43 with value: 1.1057198819754719.\u001b[0m\n",
      "regularization_factors, val_score: 1.098863:  10%|1| 2/20 [00:01<00:11,  1.63it"
     ]
    },
    {
     "name": "stdout",
     "output_type": "stream",
     "text": [
      "[400]\ttrain's rmse: 0.925218\teval's rmse: 1.11361\n",
      "Early stopping, best iteration is:\n",
      "[318]\ttrain's rmse: 0.945989\teval's rmse: 1.11057\n",
      "Training until validation scores don't improve for 100 rounds\n",
      "[100]\ttrain's rmse: 1.15433\teval's rmse: 1.26781\n",
      "[200]\ttrain's rmse: 0.994867\teval's rmse: 1.13167\n",
      "[300]\ttrain's rmse: 0.953634\teval's rmse: 1.11925\n",
      "[400]\ttrain's rmse: 0.929698\teval's rmse: 1.11556\n",
      "[500]\ttrain's rmse: 0.909549\teval's rmse: 1.10428\n",
      "[600]\ttrain's rmse: 0.892073\teval's rmse: 1.11222"
     ]
    },
    {
     "name": "stderr",
     "output_type": "stream",
     "text": [
      "regularization_factors, val_score: 1.098863:  15%|1| 3/20 [00:01<00:09,  1.82it\u001b[32m[I 2021-06-22 14:16:34,093]\u001b[0m Trial 45 finished with value: 1.101238217426764 and parameters: {'lambda_l1': 0.5740762028557489, 'lambda_l2': 0.0003184837748496115}. Best is trial 45 with value: 1.101238217426764.\u001b[0m\n",
      "regularization_factors, val_score: 1.098863:  15%|1| 3/20 [00:01<00:09,  1.82it"
     ]
    },
    {
     "name": "stdout",
     "output_type": "stream",
     "text": [
      "\n",
      "Early stopping, best iteration is:\n",
      "[516]\ttrain's rmse: 0.905889\teval's rmse: 1.10124\n",
      "Training until validation scores don't improve for 100 rounds\n",
      "[100]\ttrain's rmse: 1.153\teval's rmse: 1.26588\n",
      "[200]\ttrain's rmse: 0.993737\teval's rmse: 1.12343\n",
      "[300]\ttrain's rmse: 0.9509\teval's rmse: 1.11028\n",
      "[400]\ttrain's rmse: 0.924612\teval's rmse: 1.10966\n",
      "[500]\ttrain's rmse: 0.904\teval's rmse: 1.10058\n"
     ]
    },
    {
     "name": "stderr",
     "output_type": "stream",
     "text": [
      "regularization_factors, val_score: 1.098863:  20%|2| 4/20 [00:02<00:08,  1.89it\u001b[32m[I 2021-06-22 14:16:34,589]\u001b[0m Trial 46 finished with value: 1.0988634450936554 and parameters: {'lambda_l1': 3.00404621233935e-07, 'lambda_l2': 1.3258274859109791e-05}. Best is trial 46 with value: 1.0988634450936554.\u001b[0m\n",
      "regularization_factors, val_score: 1.098863:  20%|2| 4/20 [00:02<00:08,  1.89it"
     ]
    },
    {
     "name": "stdout",
     "output_type": "stream",
     "text": [
      "[600]\ttrain's rmse: 0.886294\teval's rmse: 1.10807\n",
      "Early stopping, best iteration is:\n",
      "[530]\ttrain's rmse: 0.897728\teval's rmse: 1.09886\n",
      "Training until validation scores don't improve for 100 rounds\n",
      "[100]\ttrain's rmse: 1.15062\teval's rmse: 1.26049\n",
      "[200]\ttrain's rmse: 0.990509\teval's rmse: 1.11796\n",
      "[300]\ttrain's rmse: 0.949668\teval's rmse: 1.10667\n",
      "[400]\ttrain's rmse: 0.923586\teval's rmse: 1.10572\n"
     ]
    },
    {
     "name": "stderr",
     "output_type": "stream",
     "text": [
      "regularization_factors, val_score: 1.096363:  25%|2| 5/20 [00:02<00:08,  1.83it\u001b[32m[I 2021-06-22 14:16:35,166]\u001b[0m Trial 47 finished with value: 1.0963632732873638 and parameters: {'lambda_l1': 1.4626573754073666e-08, 'lambda_l2': 0.03185620257386132}. Best is trial 47 with value: 1.0963632732873638.\u001b[0m\n",
      "regularization_factors, val_score: 1.096363:  25%|2| 5/20 [00:02<00:08,  1.83it"
     ]
    },
    {
     "name": "stdout",
     "output_type": "stream",
     "text": [
      "[500]\ttrain's rmse: 0.903233\teval's rmse: 1.0981\n",
      "[600]\ttrain's rmse: 0.88498\teval's rmse: 1.10905\n",
      "Early stopping, best iteration is:\n",
      "[530]\ttrain's rmse: 0.896853\teval's rmse: 1.09636\n",
      "Training until validation scores don't improve for 100 rounds\n",
      "[100]\ttrain's rmse: 1.18796\teval's rmse: 1.2895\n",
      "[200]\ttrain's rmse: 1.02882\teval's rmse: 1.13703\n",
      "[300]\ttrain's rmse: 0.99931\teval's rmse: 1.12219\n",
      "[400]\ttrain's rmse: 0.986938\teval's rmse: 1.11966\n",
      "[500]\ttrain's rmse: 0.977708\teval's rmse: 1.11658\n",
      "[600]\ttrain's rmse: 0.971464\teval's rmse: 1.11657\n"
     ]
    },
    {
     "name": "stderr",
     "output_type": "stream",
     "text": [
      "regularization_factors, val_score: 1.096363:  30%|3| 6/20 [00:03<00:07,  1.79it\u001b[32m[I 2021-06-22 14:16:35,743]\u001b[0m Trial 48 finished with value: 1.1146285730861343 and parameters: {'lambda_l1': 9.517174327469144, 'lambda_l2': 0.23269850587787344}. Best is trial 47 with value: 1.0963632732873638.\u001b[0m\n",
      "regularization_factors, val_score: 1.096363:  30%|3| 6/20 [00:03<00:07,  1.79it"
     ]
    },
    {
     "name": "stdout",
     "output_type": "stream",
     "text": [
      "Early stopping, best iteration is:\n",
      "[566]\ttrain's rmse: 0.973429\teval's rmse: 1.11463\n",
      "Training until validation scores don't improve for 100 rounds\n",
      "[100]\ttrain's rmse: 1.16626\teval's rmse: 1.26934\n",
      "[200]\ttrain's rmse: 1.0048\teval's rmse: 1.12654"
     ]
    },
    {
     "name": "stderr",
     "output_type": "stream",
     "text": [
      "regularization_factors, val_score: 1.096363:  35%|3| 7/20 [00:03<00:06,  2.14it\u001b[32m[I 2021-06-22 14:16:36,026]\u001b[0m Trial 49 finished with value: 1.116969911189986 and parameters: {'lambda_l1': 3.4668766794541472, 'lambda_l2': 0.2395385076593594}. Best is trial 47 with value: 1.0963632732873638.\u001b[0m\n",
      "regularization_factors, val_score: 1.096363:  35%|3| 7/20 [00:03<00:06,  2.14it"
     ]
    },
    {
     "name": "stdout",
     "output_type": "stream",
     "text": [
      "\n",
      "[300]\ttrain's rmse: 0.96735\teval's rmse: 1.11905\n",
      "Early stopping, best iteration is:\n",
      "[280]\ttrain's rmse: 0.97297\teval's rmse: 1.11697\n",
      "Training until validation scores don't improve for 100 rounds\n"
     ]
    },
    {
     "name": "stderr",
     "output_type": "stream",
     "text": [
      "\r",
      "regularization_factors, val_score: 1.096363:  35%|3| 7/20 [00:03<00:06,  2.14it"
     ]
    },
    {
     "name": "stdout",
     "output_type": "stream",
     "text": [
      "[100]\ttrain's rmse: 1.19496\teval's rmse: 1.29303\n",
      "[200]\ttrain's rmse: 1.00471\teval's rmse: 1.1244\n",
      "[300]\ttrain's rmse: 0.960855\teval's rmse: 1.10969\n",
      "Early stopping, best iteration is:\n",
      "[298]\ttrain's rmse: 0.961732\teval's rmse: 1.10849\n"
     ]
    },
    {
     "name": "stderr",
     "output_type": "stream",
     "text": [
      "regularization_factors, val_score: 1.096363:  40%|4| 8/20 [00:03<00:04,  2.43it\u001b[32m[I 2021-06-22 14:16:36,319]\u001b[0m Trial 50 finished with value: 1.1084891387463836 and parameters: {'lambda_l1': 0.019188519268113834, 'lambda_l2': 4.678372264251806}. Best is trial 47 with value: 1.0963632732873638.\u001b[0m\n",
      "regularization_factors, val_score: 1.096363:  40%|4| 8/20 [00:03<00:04,  2.43it"
     ]
    },
    {
     "name": "stdout",
     "output_type": "stream",
     "text": [
      "Training until validation scores don't improve for 100 rounds\n",
      "[100]\ttrain's rmse: 1.15297\teval's rmse: 1.25806\n",
      "[200]\ttrain's rmse: 0.994624\teval's rmse: 1.12674\n",
      "[300]\ttrain's rmse: 0.951516\teval's rmse: 1.11193\n"
     ]
    },
    {
     "name": "stderr",
     "output_type": "stream",
     "text": [
      "regularization_factors, val_score: 1.096363:  45%|4| 9/20 [00:04<00:04,  2.62it\u001b[32m[I 2021-06-22 14:16:36,633]\u001b[0m Trial 51 finished with value: 1.1094240403195765 and parameters: {'lambda_l1': 0.08469874440220568, 'lambda_l2': 7.099291227071464e-06}. Best is trial 47 with value: 1.0963632732873638.\u001b[0m\n",
      "regularization_factors, val_score: 1.096363:  45%|4| 9/20 [00:04<00:04,  2.62it"
     ]
    },
    {
     "name": "stdout",
     "output_type": "stream",
     "text": [
      "[400]\ttrain's rmse: 0.925338\teval's rmse: 1.11308\n",
      "Early stopping, best iteration is:\n",
      "[318]\ttrain's rmse: 0.947003\teval's rmse: 1.10942\n",
      "Training until validation scores don't improve for 100 rounds\n",
      "[100]\ttrain's rmse: 1.153\teval's rmse: 1.26589\n",
      "[200]\ttrain's rmse: 0.9932\teval's rmse: 1.12288\n"
     ]
    },
    {
     "name": "stderr",
     "output_type": "stream",
     "text": [
      "regularization_factors, val_score: 1.096363:  50%|5| 10/20 [00:04<00:03,  2.78i\u001b[32m[I 2021-06-22 14:16:36,947]\u001b[0m Trial 52 finished with value: 1.106745117194865 and parameters: {'lambda_l1': 6.91879584568158e-08, 'lambda_l2': 0.0008457043281906131}. Best is trial 47 with value: 1.0963632732873638.\u001b[0m\n",
      "regularization_factors, val_score: 1.096363:  50%|5| 10/20 [00:04<00:03,  2.78i"
     ]
    },
    {
     "name": "stdout",
     "output_type": "stream",
     "text": [
      "[300]\ttrain's rmse: 0.950113\teval's rmse: 1.11178\n",
      "[400]\ttrain's rmse: 0.924878\teval's rmse: 1.11015\n",
      "Early stopping, best iteration is:\n",
      "[318]\ttrain's rmse: 0.945658\teval's rmse: 1.10675\n",
      "Training until validation scores don't improve for 100 rounds\n",
      "[100]\ttrain's rmse: 1.15011\teval's rmse: 1.26062\n",
      "[200]\ttrain's rmse: 0.991637\teval's rmse: 1.12081\n",
      "[300]\ttrain's rmse: 0.949104\teval's rmse: 1.10669\n",
      "[400]\ttrain's rmse: 0.924707\teval's rmse: 1.10447\n"
     ]
    },
    {
     "name": "stderr",
     "output_type": "stream",
     "text": [
      "regularization_factors, val_score: 1.094602:  55%|5| 11/20 [00:05<00:03,  2.49i\u001b[32m[I 2021-06-22 14:16:37,448]\u001b[0m Trial 53 finished with value: 1.0946023277457368 and parameters: {'lambda_l1': 1.241593614215202e-05, 'lambda_l2': 0.0173963507135189}. Best is trial 53 with value: 1.0946023277457368.\u001b[0m\n",
      "regularization_factors, val_score: 1.094602:  55%|5| 11/20 [00:05<00:03,  2.49i"
     ]
    },
    {
     "name": "stdout",
     "output_type": "stream",
     "text": [
      "[500]\ttrain's rmse: 0.904353\teval's rmse: 1.09619\n",
      "[600]\ttrain's rmse: 0.886477\teval's rmse: 1.10883\n",
      "Early stopping, best iteration is:\n",
      "[509]\ttrain's rmse: 0.902189\teval's rmse: 1.0946\n",
      "Training until validation scores don't improve for 100 rounds\n",
      "[100]\ttrain's rmse: 1.15097\teval's rmse: 1.26201\n",
      "[200]\ttrain's rmse: 0.989687\teval's rmse: 1.12179\n",
      "[300]\ttrain's rmse: 0.948141\teval's rmse: 1.10444\n",
      "[400]\ttrain's rmse: 0.923298\teval's rmse: 1.10501\n"
     ]
    },
    {
     "name": "stderr",
     "output_type": "stream",
     "text": [
      "regularization_factors, val_score: 1.094602:  60%|6| 12/20 [00:05<00:03,  2.31i\u001b[32m[I 2021-06-22 14:16:37,944]\u001b[0m Trial 54 finished with value: 1.0967978977784032 and parameters: {'lambda_l1': 8.39667314175345e-06, 'lambda_l2': 0.02937473094519704}. Best is trial 53 with value: 1.0946023277457368.\u001b[0m\n",
      "regularization_factors, val_score: 1.094602:  60%|6| 12/20 [00:05<00:03,  2.31i"
     ]
    },
    {
     "name": "stdout",
     "output_type": "stream",
     "text": [
      "[500]\ttrain's rmse: 0.902294\teval's rmse: 1.09779\n",
      "[600]\ttrain's rmse: 0.884235\teval's rmse: 1.11001\n",
      "Early stopping, best iteration is:\n",
      "[530]\ttrain's rmse: 0.896231\teval's rmse: 1.0968\n",
      "Training until validation scores don't improve for 100 rounds\n",
      "[100]\ttrain's rmse: 1.15004\teval's rmse: 1.26025\n",
      "[200]\ttrain's rmse: 0.990572\teval's rmse: 1.12135\n",
      "[300]\ttrain's rmse: 0.949064\teval's rmse: 1.1076\n",
      "[400]\ttrain's rmse: 0.924806\teval's rmse: 1.1037\n"
     ]
    },
    {
     "name": "stderr",
     "output_type": "stream",
     "text": [
      "regularization_factors, val_score: 1.093580:  65%|6| 13/20 [00:05<00:03,  2.27i\u001b[32m[I 2021-06-22 14:16:38,399]\u001b[0m Trial 55 finished with value: 1.0935803359930585 and parameters: {'lambda_l1': 0.00012535122114413856, 'lambda_l2': 0.00938090699462016}. Best is trial 55 with value: 1.0935803359930585.\u001b[0m\n",
      "regularization_factors, val_score: 1.093580:  65%|6| 13/20 [00:05<00:03,  2.27i"
     ]
    },
    {
     "name": "stdout",
     "output_type": "stream",
     "text": [
      "[500]\ttrain's rmse: 0.903993\teval's rmse: 1.09512\n",
      "[600]\ttrain's rmse: 0.88619\teval's rmse: 1.10685\n",
      "Early stopping, best iteration is:\n",
      "[509]\ttrain's rmse: 0.902036\teval's rmse: 1.09358\n",
      "Training until validation scores don't improve for 100 rounds\n",
      "[100]\ttrain's rmse: 1.15301\teval's rmse: 1.26591\n",
      "[200]\ttrain's rmse: 0.993056\teval's rmse: 1.12199\n",
      "[300]\ttrain's rmse: 0.949825\teval's rmse: 1.10924\n",
      "[400]\ttrain's rmse: 0.924447\teval's rmse: 1.1083\n",
      "[500]\ttrain's rmse: 0.903354\teval's rmse: 1.09966\n"
     ]
    },
    {
     "name": "stderr",
     "output_type": "stream",
     "text": [
      "regularization_factors, val_score: 1.093580:  70%|7| 14/20 [00:06<00:02,  2.27i\u001b[32m[I 2021-06-22 14:16:38,851]\u001b[0m Trial 56 finished with value: 1.0975223425351557 and parameters: {'lambda_l1': 6.257169826553131e-05, 'lambda_l2': 0.004786569964966344}. Best is trial 55 with value: 1.0935803359930585.\u001b[0m\n",
      "regularization_factors, val_score: 1.093580:  70%|7| 14/20 [00:06<00:02,  2.27i"
     ]
    },
    {
     "name": "stdout",
     "output_type": "stream",
     "text": [
      "[600]\ttrain's rmse: 0.885718\teval's rmse: 1.10915\n",
      "Early stopping, best iteration is:\n",
      "[516]\ttrain's rmse: 0.899803\teval's rmse: 1.09752\n",
      "Training until validation scores don't improve for 100 rounds\n",
      "[100]\ttrain's rmse: 1.16952\teval's rmse: 1.27424\n",
      "[200]\ttrain's rmse: 0.996197\teval's rmse: 1.12073\n"
     ]
    },
    {
     "name": "stderr",
     "output_type": "stream",
     "text": [
      "regularization_factors, val_score: 1.093580:  75%|7| 15/20 [00:06<00:02,  2.33i\u001b[32m[I 2021-06-22 14:16:39,247]\u001b[0m Trial 57 finished with value: 1.1022999003930987 and parameters: {'lambda_l1': 0.0007337765870473099, 'lambda_l2': 2.06940056090185}. Best is trial 55 with value: 1.0935803359930585.\u001b[0m\n",
      "regularization_factors, val_score: 1.093580:  75%|7| 15/20 [00:06<00:02,  2.33i"
     ]
    },
    {
     "name": "stdout",
     "output_type": "stream",
     "text": [
      "[300]\ttrain's rmse: 0.952395\teval's rmse: 1.11041\n",
      "[400]\ttrain's rmse: 0.927925\teval's rmse: 1.11078\n",
      "[500]\ttrain's rmse: 0.907798\teval's rmse: 1.10441\n",
      "Early stopping, best iteration is:\n",
      "[446]\ttrain's rmse: 0.918466\teval's rmse: 1.1023\n",
      "Training until validation scores don't improve for 100 rounds\n",
      "[100]\ttrain's rmse: 1.153\teval's rmse: 1.26588\n",
      "[200]\ttrain's rmse: 0.993737\teval's rmse: 1.12343\n",
      "[300]\ttrain's rmse: 0.950868\teval's rmse: 1.11011\n",
      "[400]\ttrain's rmse: 0.925287\teval's rmse: 1.10488\n",
      "[500]\ttrain's rmse: 0.904202\teval's rmse: 1.09435\n",
      "[600]\ttrain's rmse: 0.886995\teval's rmse: 1.10304\n"
     ]
    },
    {
     "name": "stderr",
     "output_type": "stream",
     "text": [
      "regularization_factors, val_score: 1.093366:  80%|8| 16/20 [00:07<00:01,  2.15i\u001b[32m[I 2021-06-22 14:16:39,793]\u001b[0m Trial 58 finished with value: 1.0933661913389447 and parameters: {'lambda_l1': 5.066770663558269e-06, 'lambda_l2': 1.523855462362355e-05}. Best is trial 58 with value: 1.0933661913389447.\u001b[0m\n",
      "regularization_factors, val_score: 1.093366:  80%|8| 16/20 [00:07<00:01,  2.15i"
     ]
    },
    {
     "name": "stdout",
     "output_type": "stream",
     "text": [
      "Early stopping, best iteration is:\n",
      "[509]\ttrain's rmse: 0.90238\teval's rmse: 1.09337\n",
      "Training until validation scores don't improve for 100 rounds\n",
      "[100]\ttrain's rmse: 1.153\teval's rmse: 1.26589\n",
      "[200]\ttrain's rmse: 0.993344\teval's rmse: 1.12314\n",
      "[300]\ttrain's rmse: 0.950244\teval's rmse: 1.11114\n",
      "[400]\ttrain's rmse: 0.925906\teval's rmse: 1.10995\n",
      "[500]\ttrain's rmse: 0.905195\teval's rmse: 1.10129\n"
     ]
    },
    {
     "name": "stderr",
     "output_type": "stream",
     "text": [
      "regularization_factors, val_score: 1.093366:  85%|8| 17/20 [00:07<00:01,  2.16i\u001b[32m[I 2021-06-22 14:16:40,248]\u001b[0m Trial 59 finished with value: 1.099138276915849 and parameters: {'lambda_l1': 0.0011234277219407981, 'lambda_l2': 2.524223054791563e-06}. Best is trial 58 with value: 1.0933661913389447.\u001b[0m\n",
      "regularization_factors, val_score: 1.093366:  85%|8| 17/20 [00:07<00:01,  2.16i"
     ]
    },
    {
     "name": "stdout",
     "output_type": "stream",
     "text": [
      "[600]\ttrain's rmse: 0.887641\teval's rmse: 1.11071\n",
      "Early stopping, best iteration is:\n",
      "[516]\ttrain's rmse: 0.901871\teval's rmse: 1.09914\n",
      "Training until validation scores don't improve for 100 rounds\n",
      "[100]\ttrain's rmse: 1.153\teval's rmse: 1.26588\n",
      "[200]\ttrain's rmse: 0.993737\teval's rmse: 1.12343\n",
      "[300]\ttrain's rmse: 0.9509\teval's rmse: 1.11028\n",
      "[400]\ttrain's rmse: 0.924612\teval's rmse: 1.10966\n",
      "[500]\ttrain's rmse: 0.904\teval's rmse: 1.10058\n"
     ]
    },
    {
     "name": "stderr",
     "output_type": "stream",
     "text": [
      "regularization_factors, val_score: 1.093366:  90%|9| 18/20 [00:08<00:00,  2.19i\u001b[32m[I 2021-06-22 14:16:40,701]\u001b[0m Trial 60 finished with value: 1.0988634542832258 and parameters: {'lambda_l1': 1.4816301698692955e-06, 'lambda_l2': 6.476759765074952e-07}. Best is trial 58 with value: 1.0933661913389447.\u001b[0m\n",
      "regularization_factors, val_score: 1.093366:  90%|9| 18/20 [00:08<00:00,  2.19i"
     ]
    },
    {
     "name": "stdout",
     "output_type": "stream",
     "text": [
      "[600]\ttrain's rmse: 0.886294\teval's rmse: 1.10807\n",
      "Early stopping, best iteration is:\n",
      "[530]\ttrain's rmse: 0.897728\teval's rmse: 1.09886\n",
      "Training until validation scores don't improve for 100 rounds\n",
      "[100]\ttrain's rmse: 1.153\teval's rmse: 1.26588\n",
      "[200]\ttrain's rmse: 0.993738\teval's rmse: 1.12343\n",
      "[300]\ttrain's rmse: 0.950869\teval's rmse: 1.11011\n",
      "[400]\ttrain's rmse: 0.925266\teval's rmse: 1.10742\n",
      "[500]\ttrain's rmse: 0.90395\teval's rmse: 1.0969\n"
     ]
    },
    {
     "name": "stderr",
     "output_type": "stream",
     "text": [
      "regularization_factors, val_score: 1.093366:  95%|9| 19/20 [00:08<00:00,  2.21i\u001b[32m[I 2021-06-22 14:16:41,148]\u001b[0m Trial 61 finished with value: 1.095370526054466 and parameters: {'lambda_l1': 0.00017960800549349928, 'lambda_l2': 2.2346016011107593e-05}. Best is trial 58 with value: 1.0933661913389447.\u001b[0m\n",
      "regularization_factors, val_score: 1.093366:  95%|9| 19/20 [00:08<00:00,  2.21i"
     ]
    },
    {
     "name": "stdout",
     "output_type": "stream",
     "text": [
      "[600]\ttrain's rmse: 0.886735\teval's rmse: 1.1053\n",
      "Early stopping, best iteration is:\n",
      "[509]\ttrain's rmse: 0.901809\teval's rmse: 1.09537\n",
      "Training until validation scores don't improve for 100 rounds\n",
      "[100]\ttrain's rmse: 1.153\teval's rmse: 1.26588\n",
      "[200]\ttrain's rmse: 0.993737\teval's rmse: 1.12343\n",
      "[300]\ttrain's rmse: 0.9509\teval's rmse: 1.11028\n",
      "[400]\ttrain's rmse: 0.924612\teval's rmse: 1.10966\n",
      "[500]\ttrain's rmse: 0.904\teval's rmse: 1.10058\n"
     ]
    },
    {
     "name": "stderr",
     "output_type": "stream",
     "text": [
      "regularization_factors, val_score: 1.093366: 100%|#| 20/20 [00:09<00:00,  2.07i\u001b[32m[I 2021-06-22 14:16:41,691]\u001b[0m Trial 62 finished with value: 1.0988634075957655 and parameters: {'lambda_l1': 1.9904703142351375e-06, 'lambda_l2': 7.542789805725082e-05}. Best is trial 58 with value: 1.0933661913389447.\u001b[0m\n",
      "regularization_factors, val_score: 1.093366: 100%|#| 20/20 [00:09<00:00,  2.16i\n",
      "min_data_in_leaf, val_score: 1.093366:   0%|             | 0/5 [00:00<?, ?it/s]"
     ]
    },
    {
     "name": "stdout",
     "output_type": "stream",
     "text": [
      "[600]\ttrain's rmse: 0.886294\teval's rmse: 1.10807\n",
      "Early stopping, best iteration is:\n",
      "[530]\ttrain's rmse: 0.897728\teval's rmse: 1.09886\n",
      "Training until validation scores don't improve for 100 rounds\n",
      "[100]\ttrain's rmse: 1.04167\teval's rmse: 1.1207\n"
     ]
    },
    {
     "name": "stderr",
     "output_type": "stream",
     "text": [
      "min_data_in_leaf, val_score: 0.906699:  20%|#    | 1/5 [00:00<00:01,  3.40it/s]\u001b[32m[I 2021-06-22 14:16:41,996]\u001b[0m Trial 63 finished with value: 0.9066985705483217 and parameters: {'min_child_samples': 5}. Best is trial 63 with value: 0.9066985705483217.\u001b[0m\n",
      "min_data_in_leaf, val_score: 0.906699:  20%|#    | 1/5 [00:00<00:01,  3.40it/s]"
     ]
    },
    {
     "name": "stdout",
     "output_type": "stream",
     "text": [
      "[200]\ttrain's rmse: 0.853911\teval's rmse: 0.937676\n",
      "[300]\ttrain's rmse: 0.796515\teval's rmse: 0.908365\n",
      "Early stopping, best iteration is:\n",
      "[298]\ttrain's rmse: 0.798017\teval's rmse: 0.906699\n",
      "Training until validation scores don't improve for 100 rounds\n",
      "[100]\ttrain's rmse: 1.06491\teval's rmse: 1.18452\n",
      "[200]\ttrain's rmse: 0.89665\teval's rmse: 1.01146\n",
      "[300]\ttrain's rmse: 0.852072\teval's rmse: 0.981354\n",
      "[400]\ttrain's rmse: 0.826427\teval's rmse: 0.980696\n",
      "Early stopping, best iteration is:\n",
      "[381]\ttrain's rmse: 0.831926\teval's rmse: 0.978647\n"
     ]
    },
    {
     "name": "stderr",
     "output_type": "stream",
     "text": [
      "min_data_in_leaf, val_score: 0.906699:  40%|##   | 2/5 [00:00<00:00,  3.09it/s]\u001b[32m[I 2021-06-22 14:16:42,338]\u001b[0m Trial 64 finished with value: 0.978646898703244 and parameters: {'min_child_samples': 10}. Best is trial 63 with value: 0.9066985705483217.\u001b[0m\n",
      "min_data_in_leaf, val_score: 0.906699:  40%|##   | 2/5 [00:00<00:00,  3.09it/s]"
     ]
    },
    {
     "name": "stdout",
     "output_type": "stream",
     "text": [
      "Training until validation scores don't improve for 100 rounds\n",
      "[100]\ttrain's rmse: 3.11137\teval's rmse: 3.1429\n",
      "[200]\ttrain's rmse: 2.84272\teval's rmse: 2.82179\n",
      "[300]\ttrain's rmse: 2.72204\teval's rmse: 2.73377\n",
      "[400]\ttrain's rmse: 2.64011\teval's rmse: 2.687\n",
      "[500]\ttrain's rmse: 2.57923\teval's rmse: 2.64505\n",
      "[600]\ttrain's rmse: 2.51659\teval's rmse: 2.62327\n",
      "[700]\ttrain's rmse: 2.4694\teval's rmse: 2.59632\n"
     ]
    },
    {
     "name": "stderr",
     "output_type": "stream",
     "text": [
      "min_data_in_leaf, val_score: 0.906699:  60%|###  | 3/5 [00:01<00:00,  2.08it/s]\u001b[32m[I 2021-06-22 14:16:43,005]\u001b[0m Trial 65 finished with value: 2.5516029692164786 and parameters: {'min_child_samples': 100}. Best is trial 63 with value: 0.9066985705483217.\u001b[0m\n",
      "min_data_in_leaf, val_score: 0.906699:  60%|###  | 3/5 [00:01<00:00,  2.08it/s]"
     ]
    },
    {
     "name": "stdout",
     "output_type": "stream",
     "text": [
      "[800]\ttrain's rmse: 2.429\teval's rmse: 2.5875\n",
      "[900]\ttrain's rmse: 2.39653\teval's rmse: 2.56854\n",
      "[1000]\ttrain's rmse: 2.36092\teval's rmse: 2.5516\n",
      "Did not meet early stopping. Best iteration is:\n",
      "[1000]\ttrain's rmse: 2.36092\teval's rmse: 2.5516\n",
      "Training until validation scores don't improve for 100 rounds\n",
      "[100]\ttrain's rmse: 1.25524\teval's rmse: 1.43408\n",
      "[200]\ttrain's rmse: 1.08859\teval's rmse: 1.33112\n",
      "[300]\ttrain's rmse: 1.03985\teval's rmse: 1.33202\n",
      "Early stopping, best iteration is:\n",
      "[265]\ttrain's rmse: 1.05348\teval's rmse: 1.3264\n"
     ]
    },
    {
     "name": "stderr",
     "output_type": "stream",
     "text": [
      "min_data_in_leaf, val_score: 0.906699:  80%|#### | 4/5 [00:01<00:00,  2.51it/s]\u001b[32m[I 2021-06-22 14:16:43,285]\u001b[0m Trial 66 finished with value: 1.3263958556934454 and parameters: {'min_child_samples': 25}. Best is trial 63 with value: 0.9066985705483217.\u001b[0m\n",
      "min_data_in_leaf, val_score: 0.906699:  80%|#### | 4/5 [00:01<00:00,  2.51it/s]"
     ]
    },
    {
     "name": "stdout",
     "output_type": "stream",
     "text": [
      "Training until validation scores don't improve for 100 rounds\n",
      "[100]\ttrain's rmse: 1.90649\teval's rmse: 2.11547\n",
      "[200]\ttrain's rmse: 1.66246\teval's rmse: 2.00209\n",
      "[300]\ttrain's rmse: 1.56019\teval's rmse: 1.96871\n",
      "[400]\ttrain's rmse: 1.50024\teval's rmse: 1.9463\n",
      "[500]\ttrain's rmse: 1.45066\teval's rmse: 1.92651\n",
      "[600]\ttrain's rmse: 1.4135\teval's rmse: 1.913\n",
      "[700]\ttrain's rmse: 1.38508\teval's rmse: 1.89562\n"
     ]
    },
    {
     "name": "stderr",
     "output_type": "stream",
     "text": [
      "min_data_in_leaf, val_score: 0.906699: 100%|#####| 5/5 [00:02<00:00,  1.91it/s]\u001b[32m[I 2021-06-22 14:16:44,034]\u001b[0m Trial 67 finished with value: 1.8721755426123647 and parameters: {'min_child_samples': 50}. Best is trial 63 with value: 0.9066985705483217.\u001b[0m\n",
      "min_data_in_leaf, val_score: 0.906699: 100%|#####| 5/5 [00:02<00:00,  2.14it/s]"
     ]
    },
    {
     "name": "stdout",
     "output_type": "stream",
     "text": [
      "[800]\ttrain's rmse: 1.36076\teval's rmse: 1.88743\n",
      "[900]\ttrain's rmse: 1.3409\teval's rmse: 1.87747\n",
      "[1000]\ttrain's rmse: 1.32133\teval's rmse: 1.87218\n",
      "Did not meet early stopping. Best iteration is:\n",
      "[1000]\ttrain's rmse: 1.32133\teval's rmse: 1.87218\n"
     ]
    },
    {
     "name": "stderr",
     "output_type": "stream",
     "text": [
      "\n",
      "\u001b[32m[I 2021-06-22 14:16:44,066]\u001b[0m A new study created in memory with name: no-name-b225e408-effb-4083-97ba-f79c3b213bdf\u001b[0m\n",
      "feature_fraction, val_score: inf:   0%|                  | 0/7 [00:00<?, ?it/s]"
     ]
    },
    {
     "name": "stdout",
     "output_type": "stream",
     "text": [
      "Training until validation scores don't improve for 100 rounds\n",
      "[100]\ttrain's rmse: 1.21059\teval's rmse: 1.19282\n"
     ]
    },
    {
     "name": "stderr",
     "output_type": "stream",
     "text": [
      "feature_fraction, val_score: 1.066162:  14%|7    | 1/7 [00:00<00:02,  2.37it/s]\u001b[32m[I 2021-06-22 14:16:44,501]\u001b[0m Trial 0 finished with value: 1.0661620767796667 and parameters: {'feature_fraction': 0.8}. Best is trial 0 with value: 1.0661620767796667.\u001b[0m\n",
      "feature_fraction, val_score: 1.066162:  14%|7    | 1/7 [00:00<00:02,  2.37it/s]"
     ]
    },
    {
     "name": "stdout",
     "output_type": "stream",
     "text": [
      "[200]\ttrain's rmse: 1.05432\teval's rmse: 1.07651\n",
      "Early stopping, best iteration is:\n",
      "[195]\ttrain's rmse: 1.06086\teval's rmse: 1.06616\n",
      "Training until validation scores don't improve for 100 rounds\n",
      "[100]\ttrain's rmse: 1.83987\teval's rmse: 2.1595\n",
      "[200]\ttrain's rmse: 1.29719\teval's rmse: 1.54286\n",
      "[300]\ttrain's rmse: 1.1284\teval's rmse: 1.39033\n",
      "[400]\ttrain's rmse: 1.04057\teval's rmse: 1.34818\n",
      "[500]\ttrain's rmse: 0.978914\teval's rmse: 1.32785\n",
      "[600]\ttrain's rmse: 0.926088\teval's rmse: 1.30263\n",
      "[700]\ttrain's rmse: 0.882401\teval's rmse: 1.28905\n",
      "[800]\ttrain's rmse: 0.847075\teval's rmse: 1.27424\n"
     ]
    },
    {
     "name": "stderr",
     "output_type": "stream",
     "text": [
      "feature_fraction, val_score: 1.066162:  29%|#4   | 2/7 [00:01<00:04,  1.03it/s]\u001b[32m[I 2021-06-22 14:16:45,857]\u001b[0m Trial 1 finished with value: 1.2741448831064242 and parameters: {'feature_fraction': 0.5}. Best is trial 0 with value: 1.0661620767796667.\u001b[0m\n"
     ]
    },
    {
     "name": "stdout",
     "output_type": "stream",
     "text": [
      "[900]\ttrain's rmse: 0.812052\teval's rmse: 1.2867\n",
      "Early stopping, best iteration is:\n",
      "[803]\ttrain's rmse: 0.845997\teval's rmse: 1.27414\n"
     ]
    },
    {
     "name": "stderr",
     "output_type": "stream",
     "text": [
      "\r",
      "feature_fraction, val_score: 1.066162:  29%|#4   | 2/7 [00:01<00:04,  1.03it/s]"
     ]
    },
    {
     "name": "stdout",
     "output_type": "stream",
     "text": [
      "Training until validation scores don't improve for 100 rounds\n",
      "[100]\ttrain's rmse: 1.13018\teval's rmse: 0.968495\n"
     ]
    },
    {
     "name": "stderr",
     "output_type": "stream",
     "text": [
      "feature_fraction, val_score: 0.927781:  43%|##1  | 3/7 [00:02<00:02,  1.41it/s]\u001b[32m[I 2021-06-22 14:16:46,259]\u001b[0m Trial 2 finished with value: 0.9277805851274616 and parameters: {'feature_fraction': 1.0}. Best is trial 2 with value: 0.9277805851274616.\u001b[0m\n",
      "feature_fraction, val_score: 0.927781:  43%|##1  | 3/7 [00:02<00:02,  1.41it/s]"
     ]
    },
    {
     "name": "stdout",
     "output_type": "stream",
     "text": [
      "[200]\ttrain's rmse: 1.03165\teval's rmse: 0.942774\n",
      "Early stopping, best iteration is:\n",
      "[170]\ttrain's rmse: 1.05699\teval's rmse: 0.927781\n",
      "Training until validation scores don't improve for 100 rounds\n",
      "[100]\ttrain's rmse: 1.69134\teval's rmse: 1.97087\n",
      "[200]\ttrain's rmse: 1.24124\teval's rmse: 1.44982\n",
      "[300]\ttrain's rmse: 1.09753\teval's rmse: 1.34691\n",
      "[400]\ttrain's rmse: 1.01371\teval's rmse: 1.31838\n",
      "[500]\ttrain's rmse: 0.949014\teval's rmse: 1.31262\n",
      "[600]\ttrain's rmse: 0.895085\teval's rmse: 1.29531\n"
     ]
    },
    {
     "name": "stderr",
     "output_type": "stream",
     "text": [
      "\r",
      "feature_fraction, val_score: 0.927781:  43%|##1  | 3/7 [00:03<00:02,  1.41it/s]"
     ]
    },
    {
     "name": "stdout",
     "output_type": "stream",
     "text": [
      "[700]\ttrain's rmse: 0.851412\teval's rmse: 1.29192\n",
      "Early stopping, best iteration is:\n",
      "[647]\ttrain's rmse: 0.873989\teval's rmse: 1.28683\n"
     ]
    },
    {
     "name": "stderr",
     "output_type": "stream",
     "text": [
      "feature_fraction, val_score: 0.927781:  57%|##8  | 4/7 [00:03<00:02,  1.18it/s]\u001b[32m[I 2021-06-22 14:16:47,308]\u001b[0m Trial 3 finished with value: 1.2868279364087212 and parameters: {'feature_fraction': 0.6}. Best is trial 2 with value: 0.9277805851274616.\u001b[0m\n",
      "feature_fraction, val_score: 0.927781:  57%|##8  | 4/7 [00:03<00:02,  1.18it/s]"
     ]
    },
    {
     "name": "stdout",
     "output_type": "stream",
     "text": [
      "Training until validation scores don't improve for 100 rounds\n",
      "[100]\ttrain's rmse: 1.38967\teval's rmse: 1.5127\n",
      "[200]\ttrain's rmse: 1.13102\teval's rmse: 1.22819\n",
      "[300]\ttrain's rmse: 1.02784\teval's rmse: 1.20029\n",
      "[400]\ttrain's rmse: 0.960465\teval's rmse: 1.19452\n",
      "[500]\ttrain's rmse: 0.904347\teval's rmse: 1.19608\n",
      "[600]\ttrain's rmse: 0.854774\teval's rmse: 1.18579\n",
      "[700]\ttrain's rmse: 0.812089\teval's rmse: 1.18783\n",
      "Early stopping, best iteration is:\n",
      "[646]\ttrain's rmse: 0.832705\teval's rmse: 1.1792\n"
     ]
    },
    {
     "name": "stderr",
     "output_type": "stream",
     "text": [
      "feature_fraction, val_score: 0.927781:  71%|###5 | 5/7 [00:04<00:01,  1.02it/s]\u001b[32m[I 2021-06-22 14:16:48,541]\u001b[0m Trial 4 finished with value: 1.1791982616911842 and parameters: {'feature_fraction': 0.7}. Best is trial 2 with value: 0.9277805851274616.\u001b[0m\n",
      "feature_fraction, val_score: 0.927781:  71%|###5 | 5/7 [00:04<00:01,  1.02it/s]"
     ]
    },
    {
     "name": "stdout",
     "output_type": "stream",
     "text": [
      "Training until validation scores don't improve for 100 rounds\n",
      "[100]\ttrain's rmse: 1.16699\teval's rmse: 1.11893\n"
     ]
    },
    {
     "name": "stderr",
     "output_type": "stream",
     "text": [
      "feature_fraction, val_score: 0.927781:  86%|####2| 6/7 [00:04<00:00,  1.26it/s]\u001b[32m[I 2021-06-22 14:16:48,955]\u001b[0m Trial 5 finished with value: 1.0235715291765124 and parameters: {'feature_fraction': 0.8999999999999999}. Best is trial 2 with value: 0.9277805851274616.\u001b[0m\n",
      "feature_fraction, val_score: 0.927781:  86%|####2| 6/7 [00:04<00:00,  1.26it/s]"
     ]
    },
    {
     "name": "stdout",
     "output_type": "stream",
     "text": [
      "[200]\ttrain's rmse: 1.03334\teval's rmse: 1.03326\n",
      "Early stopping, best iteration is:\n",
      "[195]\ttrain's rmse: 1.03999\teval's rmse: 1.02357\n",
      "Training until validation scores don't improve for 100 rounds\n",
      "[100]\ttrain's rmse: 2.34228\teval's rmse: 2.78501\n",
      "[200]\ttrain's rmse: 1.52568\teval's rmse: 1.9148\n",
      "[300]\ttrain's rmse: 1.27248\teval's rmse: 1.64315\n",
      "[400]\ttrain's rmse: 1.13999\teval's rmse: 1.52214\n",
      "[500]\ttrain's rmse: 1.05982\teval's rmse: 1.46585\n",
      "[600]\ttrain's rmse: 0.999498\teval's rmse: 1.42689\n",
      "[700]\ttrain's rmse: 0.955308\teval's rmse: 1.40172\n",
      "[800]\ttrain's rmse: 0.918261\teval's rmse: 1.36882\n",
      "[900]\ttrain's rmse: 0.883018\teval's rmse: 1.36713\n"
     ]
    },
    {
     "name": "stderr",
     "output_type": "stream",
     "text": [
      "\r",
      "feature_fraction, val_score: 0.927781:  86%|####2| 6/7 [00:06<00:00,  1.26it/s]"
     ]
    },
    {
     "name": "stdout",
     "output_type": "stream",
     "text": [
      "[1000]\ttrain's rmse: 0.852303\teval's rmse: 1.36354\n",
      "Did not meet early stopping. Best iteration is:\n",
      "[1000]\ttrain's rmse: 0.852303\teval's rmse: 1.36354\n"
     ]
    },
    {
     "name": "stderr",
     "output_type": "stream",
     "text": [
      "feature_fraction, val_score: 0.927781: 100%|#####| 7/7 [00:06<00:00,  1.00it/s]\u001b[32m[I 2021-06-22 14:16:50,378]\u001b[0m Trial 6 finished with value: 1.363544729513236 and parameters: {'feature_fraction': 0.4}. Best is trial 2 with value: 0.9277805851274616.\u001b[0m\n",
      "feature_fraction, val_score: 0.927781: 100%|#####| 7/7 [00:06<00:00,  1.11it/s]\n",
      "num_leaves, val_score: 0.927781:   0%|                  | 0/20 [00:00<?, ?it/s]"
     ]
    },
    {
     "name": "stdout",
     "output_type": "stream",
     "text": [
      "Training until validation scores don't improve for 100 rounds\n",
      "[100]\ttrain's rmse: 1.13146\teval's rmse: 0.968225\n"
     ]
    },
    {
     "name": "stderr",
     "output_type": "stream",
     "text": [
      "num_leaves, val_score: 0.923729:   5%|5         | 1/20 [00:00<00:07,  2.60it/s]\u001b[32m[I 2021-06-22 14:16:50,772]\u001b[0m Trial 7 finished with value: 0.9237290518212359 and parameters: {'num_leaves': 30}. Best is trial 7 with value: 0.9237290518212359.\u001b[0m\n",
      "num_leaves, val_score: 0.923729:   5%|5         | 1/20 [00:00<00:07,  2.60it/s]"
     ]
    },
    {
     "name": "stdout",
     "output_type": "stream",
     "text": [
      "[200]\ttrain's rmse: 1.03262\teval's rmse: 0.938969\n",
      "Early stopping, best iteration is:\n",
      "[170]\ttrain's rmse: 1.05818\teval's rmse: 0.923729\n",
      "Training until validation scores don't improve for 100 rounds\n",
      "[100]\ttrain's rmse: 1.12472\teval's rmse: 0.969779\n",
      "[200]\ttrain's rmse: 1.02059\teval's rmse: 0.942527\n"
     ]
    },
    {
     "name": "stderr",
     "output_type": "stream",
     "text": [
      "num_leaves, val_score: 0.923729:  10%|#         | 2/20 [00:00<00:08,  2.17it/s]\u001b[32m[I 2021-06-22 14:16:51,279]\u001b[0m Trial 8 finished with value: 0.9255871188866075 and parameters: {'num_leaves': 180}. Best is trial 7 with value: 0.9237290518212359.\u001b[0m\n",
      "num_leaves, val_score: 0.923729:  10%|#         | 2/20 [00:00<00:08,  2.17it/s]"
     ]
    },
    {
     "name": "stdout",
     "output_type": "stream",
     "text": [
      "Early stopping, best iteration is:\n",
      "[170]\ttrain's rmse: 1.04733\teval's rmse: 0.925587\n",
      "Training until validation scores don't improve for 100 rounds\n",
      "[100]\ttrain's rmse: 1.12472\teval's rmse: 0.969779\n"
     ]
    },
    {
     "name": "stderr",
     "output_type": "stream",
     "text": [
      "num_leaves, val_score: 0.923729:  15%|#5        | 3/20 [00:01<00:08,  1.92it/s]\u001b[32m[I 2021-06-22 14:16:51,874]\u001b[0m Trial 9 finished with value: 0.9255871188866075 and parameters: {'num_leaves': 68}. Best is trial 7 with value: 0.9237290518212359.\u001b[0m\n",
      "num_leaves, val_score: 0.923729:  15%|#5        | 3/20 [00:01<00:08,  1.92it/s]"
     ]
    },
    {
     "name": "stdout",
     "output_type": "stream",
     "text": [
      "[200]\ttrain's rmse: 1.02059\teval's rmse: 0.942527\n",
      "Early stopping, best iteration is:\n",
      "[170]\ttrain's rmse: 1.04733\teval's rmse: 0.925587\n",
      "Training until validation scores don't improve for 100 rounds\n",
      "[100]\ttrain's rmse: 1.12472\teval's rmse: 0.969779\n",
      "[200]\ttrain's rmse: 1.02059\teval's rmse: 0.942527\n"
     ]
    },
    {
     "name": "stderr",
     "output_type": "stream",
     "text": [
      "num_leaves, val_score: 0.923729:  20%|##        | 4/20 [00:01<00:08,  1.94it/s]\u001b[32m[I 2021-06-22 14:16:52,386]\u001b[0m Trial 10 finished with value: 0.9255871188866075 and parameters: {'num_leaves': 165}. Best is trial 7 with value: 0.9237290518212359.\u001b[0m\n",
      "num_leaves, val_score: 0.923729:  20%|##        | 4/20 [00:02<00:08,  1.94it/s]"
     ]
    },
    {
     "name": "stdout",
     "output_type": "stream",
     "text": [
      "Early stopping, best iteration is:\n",
      "[170]\ttrain's rmse: 1.04733\teval's rmse: 0.925587\n",
      "Training until validation scores don't improve for 100 rounds\n",
      "[100]\ttrain's rmse: 1.12472\teval's rmse: 0.969779\n",
      "[200]\ttrain's rmse: 1.02059\teval's rmse: 0.942527\n"
     ]
    },
    {
     "name": "stderr",
     "output_type": "stream",
     "text": [
      "num_leaves, val_score: 0.923729:  25%|##5       | 5/20 [00:02<00:07,  1.98it/s]\u001b[32m[I 2021-06-22 14:16:52,864]\u001b[0m Trial 11 finished with value: 0.9255871188866075 and parameters: {'num_leaves': 62}. Best is trial 7 with value: 0.9237290518212359.\u001b[0m\n",
      "num_leaves, val_score: 0.923729:  25%|##5       | 5/20 [00:02<00:07,  1.98it/s]"
     ]
    },
    {
     "name": "stdout",
     "output_type": "stream",
     "text": [
      "Early stopping, best iteration is:\n",
      "[170]\ttrain's rmse: 1.04733\teval's rmse: 0.925587\n",
      "Training until validation scores don't improve for 100 rounds\n",
      "[100]\ttrain's rmse: 1.12472\teval's rmse: 0.969779\n",
      "[200]\ttrain's rmse: 1.02059\teval's rmse: 0.942527\n"
     ]
    },
    {
     "name": "stderr",
     "output_type": "stream",
     "text": [
      "num_leaves, val_score: 0.923729:  30%|###       | 6/20 [00:02<00:07,  1.98it/s]\u001b[32m[I 2021-06-22 14:16:53,379]\u001b[0m Trial 12 finished with value: 0.9255871188866075 and parameters: {'num_leaves': 155}. Best is trial 7 with value: 0.9237290518212359.\u001b[0m\n",
      "num_leaves, val_score: 0.923729:  30%|###       | 6/20 [00:02<00:07,  1.98it/s]"
     ]
    },
    {
     "name": "stdout",
     "output_type": "stream",
     "text": [
      "Early stopping, best iteration is:\n",
      "[170]\ttrain's rmse: 1.04733\teval's rmse: 0.925587\n",
      "Training until validation scores don't improve for 100 rounds\n",
      "[100]\ttrain's rmse: 1.12472\teval's rmse: 0.969779\n",
      "[200]\ttrain's rmse: 1.02059\teval's rmse: 0.942527\n"
     ]
    },
    {
     "name": "stderr",
     "output_type": "stream",
     "text": [
      "num_leaves, val_score: 0.923729:  35%|###5      | 7/20 [00:03<00:06,  1.87it/s]\u001b[32m[I 2021-06-22 14:16:53,966]\u001b[0m Trial 13 finished with value: 0.9255871188866075 and parameters: {'num_leaves': 174}. Best is trial 7 with value: 0.9237290518212359.\u001b[0m\n",
      "num_leaves, val_score: 0.923729:  35%|###5      | 7/20 [00:03<00:06,  1.87it/s]"
     ]
    },
    {
     "name": "stdout",
     "output_type": "stream",
     "text": [
      "Early stopping, best iteration is:\n",
      "[170]\ttrain's rmse: 1.04733\teval's rmse: 0.925587\n",
      "Training until validation scores don't improve for 100 rounds\n",
      "[100]\ttrain's rmse: 1.12472\teval's rmse: 0.969779\n",
      "[200]\ttrain's rmse: 1.02059\teval's rmse: 0.942527\n"
     ]
    },
    {
     "name": "stderr",
     "output_type": "stream",
     "text": [
      "num_leaves, val_score: 0.923729:  40%|####      | 8/20 [00:04<00:06,  1.88it/s]\u001b[32m[I 2021-06-22 14:16:54,491]\u001b[0m Trial 14 finished with value: 0.9255871188866075 and parameters: {'num_leaves': 241}. Best is trial 7 with value: 0.9237290518212359.\u001b[0m\n",
      "num_leaves, val_score: 0.923729:  40%|####      | 8/20 [00:04<00:06,  1.88it/s]"
     ]
    },
    {
     "name": "stdout",
     "output_type": "stream",
     "text": [
      "Early stopping, best iteration is:\n",
      "[170]\ttrain's rmse: 1.04733\teval's rmse: 0.925587\n",
      "Training until validation scores don't improve for 100 rounds\n",
      "[100]\ttrain's rmse: 1.12472\teval's rmse: 0.969779\n",
      "[200]\ttrain's rmse: 1.02059\teval's rmse: 0.942527\n"
     ]
    },
    {
     "name": "stderr",
     "output_type": "stream",
     "text": [
      "num_leaves, val_score: 0.923729:  45%|####5     | 9/20 [00:04<00:05,  1.91it/s]\u001b[32m[I 2021-06-22 14:16:55,004]\u001b[0m Trial 15 finished with value: 0.9255871188866075 and parameters: {'num_leaves': 202}. Best is trial 7 with value: 0.9237290518212359.\u001b[0m\n",
      "num_leaves, val_score: 0.923729:  45%|####5     | 9/20 [00:04<00:05,  1.91it/s]"
     ]
    },
    {
     "name": "stdout",
     "output_type": "stream",
     "text": [
      "Early stopping, best iteration is:\n",
      "[170]\ttrain's rmse: 1.04733\teval's rmse: 0.925587\n",
      "Training until validation scores don't improve for 100 rounds\n",
      "[100]\ttrain's rmse: 1.12472\teval's rmse: 0.969779\n",
      "[200]\ttrain's rmse: 1.02059\teval's rmse: 0.942527\n"
     ]
    },
    {
     "name": "stderr",
     "output_type": "stream",
     "text": [
      "num_leaves, val_score: 0.923729:  50%|####5    | 10/20 [00:05<00:05,  1.86it/s]\u001b[32m[I 2021-06-22 14:16:55,563]\u001b[0m Trial 16 finished with value: 0.9255871188866075 and parameters: {'num_leaves': 247}. Best is trial 7 with value: 0.9237290518212359.\u001b[0m\n",
      "num_leaves, val_score: 0.923729:  50%|####5    | 10/20 [00:05<00:05,  1.86it/s]"
     ]
    },
    {
     "name": "stdout",
     "output_type": "stream",
     "text": [
      "Early stopping, best iteration is:\n",
      "[170]\ttrain's rmse: 1.04733\teval's rmse: 0.925587\n",
      "Training until validation scores don't improve for 100 rounds\n",
      "[100]\ttrain's rmse: 1.15804\teval's rmse: 0.961136"
     ]
    },
    {
     "name": "stderr",
     "output_type": "stream",
     "text": [
      "num_leaves, val_score: 0.909976:  55%|####9    | 11/20 [00:05<00:04,  2.18it/s]\u001b[32m[I 2021-06-22 14:16:55,845]\u001b[0m Trial 17 finished with value: 0.9099756174458722 and parameters: {'num_leaves': 12}. Best is trial 17 with value: 0.9099756174458722.\u001b[0m\n",
      "num_leaves, val_score: 0.909976:  55%|####9    | 11/20 [00:05<00:04,  2.18it/s]"
     ]
    },
    {
     "name": "stdout",
     "output_type": "stream",
     "text": [
      "\n",
      "[200]\ttrain's rmse: 1.08592\teval's rmse: 0.923095\n",
      "Early stopping, best iteration is:\n",
      "[170]\ttrain's rmse: 1.10412\teval's rmse: 0.909976\n",
      "Training until validation scores don't improve for 100 rounds\n"
     ]
    },
    {
     "name": "stderr",
     "output_type": "stream",
     "text": [
      "num_leaves, val_score: 0.909976:  60%|#####3   | 12/20 [00:05<00:03,  2.63it/s]\u001b[32m[I 2021-06-22 14:16:56,048]\u001b[0m Trial 18 finished with value: 0.9787566212081614 and parameters: {'num_leaves': 2}. Best is trial 17 with value: 0.9099756174458722.\u001b[0m\n",
      "num_leaves, val_score: 0.909976:  60%|#####3   | 12/20 [00:05<00:03,  2.63it/s]"
     ]
    },
    {
     "name": "stdout",
     "output_type": "stream",
     "text": [
      "[100]\ttrain's rmse: 2.62583\teval's rmse: 2.67936\n",
      "[200]\ttrain's rmse: 1.3045\teval's rmse: 1.12566\n",
      "[300]\ttrain's rmse: 1.20874\teval's rmse: 0.981697\n",
      "[400]\ttrain's rmse: 1.18514\teval's rmse: 0.992076\n",
      "Early stopping, best iteration is:\n",
      "[365]\ttrain's rmse: 1.18928\teval's rmse: 0.978757\n",
      "Training until validation scores don't improve for 100 rounds\n"
     ]
    },
    {
     "name": "stderr",
     "output_type": "stream",
     "text": [
      "num_leaves, val_score: 0.909976:  65%|#####8   | 13/20 [00:05<00:02,  3.03it/s]\u001b[32m[I 2021-06-22 14:16:56,260]\u001b[0m Trial 19 finished with value: 0.9598215886583967 and parameters: {'num_leaves': 3}. Best is trial 17 with value: 0.9099756174458722.\u001b[0m\n",
      "num_leaves, val_score: 0.909976:  65%|#####8   | 13/20 [00:05<00:02,  3.03it/s]"
     ]
    },
    {
     "name": "stdout",
     "output_type": "stream",
     "text": [
      "[100]\ttrain's rmse: 1.3795\teval's rmse: 1.25547\n",
      "[200]\ttrain's rmse: 1.17205\teval's rmse: 0.981378\n",
      "[300]\ttrain's rmse: 1.13012\teval's rmse: 0.968302\n",
      "[400]\ttrain's rmse: 1.10493\teval's rmse: 0.975574\n",
      "Early stopping, best iteration is:\n",
      "[320]\ttrain's rmse: 1.12662\teval's rmse: 0.959822\n",
      "Training until validation scores don't improve for 100 rounds\n",
      "[100]\ttrain's rmse: 1.12473\teval's rmse: 0.969789\n",
      "[200]\ttrain's rmse: 1.01984\teval's rmse: 0.942626\n"
     ]
    },
    {
     "name": "stderr",
     "output_type": "stream",
     "text": [
      "num_leaves, val_score: 0.909976:  70%|######3  | 14/20 [00:06<00:02,  2.57it/s]\u001b[32m[I 2021-06-22 14:16:56,787]\u001b[0m Trial 20 finished with value: 0.9250804548568041 and parameters: {'num_leaves': 52}. Best is trial 17 with value: 0.9099756174458722.\u001b[0m\n",
      "num_leaves, val_score: 0.909976:  70%|######3  | 14/20 [00:06<00:02,  2.57it/s]"
     ]
    },
    {
     "name": "stdout",
     "output_type": "stream",
     "text": [
      "Early stopping, best iteration is:\n",
      "[170]\ttrain's rmse: 1.0468\teval's rmse: 0.92508\n",
      "Training until validation scores don't improve for 100 rounds\n",
      "[100]\ttrain's rmse: 1.12472\teval's rmse: 0.969779\n",
      "[200]\ttrain's rmse: 1.02059\teval's rmse: 0.942527\n"
     ]
    },
    {
     "name": "stderr",
     "output_type": "stream",
     "text": [
      "num_leaves, val_score: 0.909976:  75%|######7  | 15/20 [00:06<00:02,  2.36it/s]\u001b[32m[I 2021-06-22 14:16:57,298]\u001b[0m Trial 21 finished with value: 0.9255871188866075 and parameters: {'num_leaves': 104}. Best is trial 17 with value: 0.9099756174458722.\u001b[0m\n",
      "num_leaves, val_score: 0.909976:  75%|######7  | 15/20 [00:06<00:02,  2.36it/s]"
     ]
    },
    {
     "name": "stdout",
     "output_type": "stream",
     "text": [
      "Early stopping, best iteration is:\n",
      "[170]\ttrain's rmse: 1.04733\teval's rmse: 0.925587\n",
      "Training until validation scores don't improve for 100 rounds\n",
      "[100]\ttrain's rmse: 1.13705\teval's rmse: 0.967307\n",
      "[200]\ttrain's rmse: 1.04315\teval's rmse: 0.933679\n"
     ]
    },
    {
     "name": "stderr",
     "output_type": "stream",
     "text": [
      "num_leaves, val_score: 0.909976:  80%|#######2 | 16/20 [00:07<00:01,  2.31it/s]\u001b[32m[I 2021-06-22 14:16:57,743]\u001b[0m Trial 22 finished with value: 0.9216700929066861 and parameters: {'num_leaves': 24}. Best is trial 17 with value: 0.9099756174458722.\u001b[0m\n",
      "num_leaves, val_score: 0.909976:  80%|#######2 | 16/20 [00:07<00:01,  2.31it/s]"
     ]
    },
    {
     "name": "stdout",
     "output_type": "stream",
     "text": [
      "Early stopping, best iteration is:\n",
      "[170]\ttrain's rmse: 1.0657\teval's rmse: 0.92167\n",
      "Training until validation scores don't improve for 100 rounds\n",
      "[100]\ttrain's rmse: 1.12472\teval's rmse: 0.969779\n",
      "[200]\ttrain's rmse: 1.02059\teval's rmse: 0.942527\n"
     ]
    },
    {
     "name": "stderr",
     "output_type": "stream",
     "text": [
      "num_leaves, val_score: 0.909976:  85%|#######6 | 17/20 [00:07<00:01,  2.20it/s]\u001b[32m[I 2021-06-22 14:16:58,256]\u001b[0m Trial 23 finished with value: 0.9255871188866075 and parameters: {'num_leaves': 101}. Best is trial 17 with value: 0.9099756174458722.\u001b[0m\n",
      "num_leaves, val_score: 0.909976:  85%|#######6 | 17/20 [00:07<00:01,  2.20it/s]"
     ]
    },
    {
     "name": "stdout",
     "output_type": "stream",
     "text": [
      "Early stopping, best iteration is:\n",
      "[170]\ttrain's rmse: 1.04733\teval's rmse: 0.925587\n",
      "Training until validation scores don't improve for 100 rounds\n",
      "[100]\ttrain's rmse: 1.15628\teval's rmse: 0.962087\n"
     ]
    },
    {
     "name": "stderr",
     "output_type": "stream",
     "text": [
      "num_leaves, val_score: 0.909976:  90%|########1| 18/20 [00:08<00:00,  2.46it/s]\u001b[32m[I 2021-06-22 14:16:58,541]\u001b[0m Trial 24 finished with value: 0.9150611018702112 and parameters: {'num_leaves': 16}. Best is trial 17 with value: 0.9099756174458722.\u001b[0m\n",
      "num_leaves, val_score: 0.909976:  90%|########1| 18/20 [00:08<00:00,  2.46it/s]"
     ]
    },
    {
     "name": "stdout",
     "output_type": "stream",
     "text": [
      "[200]\ttrain's rmse: 1.07398\teval's rmse: 0.92721\n",
      "Early stopping, best iteration is:\n",
      "[170]\ttrain's rmse: 1.09498\teval's rmse: 0.915061\n",
      "Training until validation scores don't improve for 100 rounds\n",
      "[100]\ttrain's rmse: 1.12472\teval's rmse: 0.969779\n",
      "[200]\ttrain's rmse: 1.02059\teval's rmse: 0.942527\n"
     ]
    },
    {
     "name": "stderr",
     "output_type": "stream",
     "text": [
      "num_leaves, val_score: 0.909976:  95%|########5| 19/20 [00:08<00:00,  2.29it/s]\u001b[32m[I 2021-06-22 14:16:59,047]\u001b[0m Trial 25 finished with value: 0.9255871188866075 and parameters: {'num_leaves': 90}. Best is trial 17 with value: 0.9099756174458722.\u001b[0m\n",
      "num_leaves, val_score: 0.909976:  95%|########5| 19/20 [00:08<00:00,  2.29it/s]"
     ]
    },
    {
     "name": "stdout",
     "output_type": "stream",
     "text": [
      "Early stopping, best iteration is:\n",
      "[170]\ttrain's rmse: 1.04733\teval's rmse: 0.925587\n",
      "Training until validation scores don't improve for 100 rounds\n",
      "[100]\ttrain's rmse: 1.13705\teval's rmse: 0.967307"
     ]
    },
    {
     "name": "stderr",
     "output_type": "stream",
     "text": [
      "\r",
      "num_leaves, val_score: 0.909976:  95%|########5| 19/20 [00:09<00:00,  2.29it/s]"
     ]
    },
    {
     "name": "stdout",
     "output_type": "stream",
     "text": [
      "\n",
      "[200]\ttrain's rmse: 1.04315\teval's rmse: 0.933679\n",
      "Early stopping, best iteration is:\n",
      "[170]\ttrain's rmse: 1.0657\teval's rmse: 0.92167\n"
     ]
    },
    {
     "name": "stderr",
     "output_type": "stream",
     "text": [
      "num_leaves, val_score: 0.909976: 100%|#########| 20/20 [00:09<00:00,  2.44it/s]\u001b[32m[I 2021-06-22 14:16:59,400]\u001b[0m Trial 26 finished with value: 0.9216700929066861 and parameters: {'num_leaves': 24}. Best is trial 17 with value: 0.9099756174458722.\u001b[0m\n",
      "num_leaves, val_score: 0.909976: 100%|#########| 20/20 [00:09<00:00,  2.22it/s]\n",
      "bagging, val_score: 0.909976:   0%|                     | 0/10 [00:00<?, ?it/s]"
     ]
    },
    {
     "name": "stdout",
     "output_type": "stream",
     "text": [
      "Training until validation scores don't improve for 100 rounds\n",
      "[100]\ttrain's rmse: 1.10168\teval's rmse: 0.931841\n",
      "[200]\ttrain's rmse: 1.03253\teval's rmse: 0.958446\n",
      "Early stopping, best iteration is:\n",
      "[115]\ttrain's rmse: 1.08309\teval's rmse: 0.924753\n"
     ]
    },
    {
     "name": "stderr",
     "output_type": "stream",
     "text": [
      "bagging, val_score: 0.909976:  10%|#3           | 1/10 [00:00<00:02,  3.95it/s]\u001b[32m[I 2021-06-22 14:16:59,663]\u001b[0m Trial 27 finished with value: 0.9247534425051439 and parameters: {'bagging_fraction': 0.9862161077948857, 'bagging_freq': 1}. Best is trial 27 with value: 0.9247534425051439.\u001b[0m\n",
      "bagging, val_score: 0.909976:  10%|#3           | 1/10 [00:00<00:02,  3.95it/s]"
     ]
    },
    {
     "name": "stdout",
     "output_type": "stream",
     "text": [
      "Training until validation scores don't improve for 100 rounds\n",
      "[100]\ttrain's rmse: 1.27962\teval's rmse: 1.0816\n",
      "[200]\ttrain's rmse: 1.18823\teval's rmse: 1.00814\n",
      "[300]\ttrain's rmse: 1.13733\teval's rmse: 0.994651"
     ]
    },
    {
     "name": "stderr",
     "output_type": "stream",
     "text": [
      "bagging, val_score: 0.909976:  20%|##6          | 2/10 [00:00<00:02,  3.54it/s]\u001b[32m[I 2021-06-22 14:16:59,966]\u001b[0m Trial 28 finished with value: 0.9476620892292213 and parameters: {'bagging_fraction': 0.5839108354057179, 'bagging_freq': 7}. Best is trial 27 with value: 0.9247534425051439.\u001b[0m\n",
      "bagging, val_score: 0.909976:  20%|##6          | 2/10 [00:00<00:02,  3.54it/s]"
     ]
    },
    {
     "name": "stdout",
     "output_type": "stream",
     "text": [
      "\n",
      "Early stopping, best iteration is:\n",
      "[238]\ttrain's rmse: 1.17091\teval's rmse: 0.947662\n",
      "Training until validation scores don't improve for 100 rounds\n",
      "[100]\ttrain's rmse: 1.30724\teval's rmse: 1.12065\n"
     ]
    },
    {
     "name": "stderr",
     "output_type": "stream",
     "text": [
      "bagging, val_score: 0.909976:  30%|###9         | 3/10 [00:00<00:01,  3.52it/s]\u001b[32m[I 2021-06-22 14:17:00,250]\u001b[0m Trial 29 finished with value: 0.9808069224625071 and parameters: {'bagging_fraction': 0.554632439848872, 'bagging_freq': 5}. Best is trial 27 with value: 0.9247534425051439.\u001b[0m\n",
      "bagging, val_score: 0.909976:  30%|###9         | 3/10 [00:00<00:01,  3.52it/s]"
     ]
    },
    {
     "name": "stdout",
     "output_type": "stream",
     "text": [
      "[200]\ttrain's rmse: 1.22178\teval's rmse: 0.999301\n",
      "Early stopping, best iteration is:\n",
      "[195]\ttrain's rmse: 1.22736\teval's rmse: 0.980807\n",
      "Training until validation scores don't improve for 100 rounds\n",
      "[100]\ttrain's rmse: 1.24231\teval's rmse: 1.07062"
     ]
    },
    {
     "name": "stderr",
     "output_type": "stream",
     "text": [
      "bagging, val_score: 0.909976:  40%|#####2       | 4/10 [00:01<00:01,  3.68it/s]\u001b[32m[I 2021-06-22 14:17:00,510]\u001b[0m Trial 30 finished with value: 0.9608610210067965 and parameters: {'bagging_fraction': 0.6078562053472883, 'bagging_freq': 2}. Best is trial 27 with value: 0.9247534425051439.\u001b[0m\n",
      "bagging, val_score: 0.909976:  40%|#####2       | 4/10 [00:01<00:01,  3.68it/s]"
     ]
    },
    {
     "name": "stdout",
     "output_type": "stream",
     "text": [
      "\n",
      "[200]\ttrain's rmse: 1.15311\teval's rmse: 0.984773\n",
      "Early stopping, best iteration is:\n",
      "[177]\ttrain's rmse: 1.16568\teval's rmse: 0.960861\n"
     ]
    },
    {
     "name": "stderr",
     "output_type": "stream",
     "text": [
      "bagging, val_score: 0.909976:  50%|######5      | 5/10 [00:01<00:01,  4.00it/s]\u001b[32m[I 2021-06-22 14:17:00,722]\u001b[0m Trial 31 finished with value: 0.9475522611574425 and parameters: {'bagging_fraction': 0.8811714153877983, 'bagging_freq': 7}. Best is trial 27 with value: 0.9247534425051439.\u001b[0m\n",
      "bagging, val_score: 0.909976:  50%|######5      | 5/10 [00:01<00:01,  4.00it/s]"
     ]
    },
    {
     "name": "stdout",
     "output_type": "stream",
     "text": [
      "Training until validation scores don't improve for 100 rounds\n",
      "[100]\ttrain's rmse: 1.13269\teval's rmse: 0.961631\n",
      "[200]\ttrain's rmse: 1.05596\teval's rmse: 0.95041\n",
      "Early stopping, best iteration is:\n",
      "[123]\ttrain's rmse: 1.10636\teval's rmse: 0.947552\n",
      "Training until validation scores don't improve for 100 rounds\n",
      "[100]\ttrain's rmse: 1.32396\teval's rmse: 1.12362\n",
      "[200]\ttrain's rmse: 1.24492\teval's rmse: 1.06595\n",
      "[300]\ttrain's rmse: 1.18984\teval's rmse: 1.06137\n"
     ]
    },
    {
     "name": "stderr",
     "output_type": "stream",
     "text": [
      "bagging, val_score: 0.909976:  60%|#######8     | 6/10 [00:01<00:01,  3.63it/s]\u001b[32m[I 2021-06-22 14:17:01,046]\u001b[0m Trial 32 finished with value: 1.0218221699005865 and parameters: {'bagging_fraction': 0.5433216470486244, 'bagging_freq': 3}. Best is trial 27 with value: 0.9247534425051439.\u001b[0m\n",
      "bagging, val_score: 0.909976:  60%|#######8     | 6/10 [00:01<00:01,  3.63it/s]"
     ]
    },
    {
     "name": "stdout",
     "output_type": "stream",
     "text": [
      "Early stopping, best iteration is:\n",
      "[264]\ttrain's rmse: 1.20685\teval's rmse: 1.02182\n",
      "Training until validation scores don't improve for 100 rounds\n",
      "[100]\ttrain's rmse: 1.34508\teval's rmse: 1.15279\n",
      "[200]\ttrain's rmse: 1.26978\teval's rmse: 1.10826\n",
      "[300]\ttrain's rmse: 1.20637\teval's rmse: 1.11023\n",
      "[400]\ttrain's rmse: 1.16037\teval's rmse: 1.05119\n"
     ]
    },
    {
     "name": "stderr",
     "output_type": "stream",
     "text": [
      "bagging, val_score: 0.909976:  70%|#########1   | 7/10 [00:02<00:01,  2.40it/s]\u001b[32m[I 2021-06-22 14:17:01,751]\u001b[0m Trial 33 finished with value: 1.034230326372466 and parameters: {'bagging_fraction': 0.5133816047888948, 'bagging_freq': 3}. Best is trial 27 with value: 0.9247534425051439.\u001b[0m\n",
      "bagging, val_score: 0.909976:  70%|#########1   | 7/10 [00:02<00:01,  2.40it/s]"
     ]
    },
    {
     "name": "stdout",
     "output_type": "stream",
     "text": [
      "[500]\ttrain's rmse: 1.1281\teval's rmse: 1.04444\n",
      "Early stopping, best iteration is:\n",
      "[477]\ttrain's rmse: 1.13157\teval's rmse: 1.03423\n",
      "Training until validation scores don't improve for 100 rounds\n"
     ]
    },
    {
     "name": "stderr",
     "output_type": "stream",
     "text": [
      "bagging, val_score: 0.909976:  80%|##########4  | 8/10 [00:02<00:00,  2.71it/s]\u001b[32m[I 2021-06-22 14:17:02,014]\u001b[0m Trial 34 finished with value: 0.9524134389793042 and parameters: {'bagging_fraction': 0.7402723543595033, 'bagging_freq': 5}. Best is trial 27 with value: 0.9247534425051439.\u001b[0m\n",
      "bagging, val_score: 0.909976:  80%|##########4  | 8/10 [00:02<00:00,  2.71it/s]"
     ]
    },
    {
     "name": "stdout",
     "output_type": "stream",
     "text": [
      "[100]\ttrain's rmse: 1.19932\teval's rmse: 1.02008\n",
      "[200]\ttrain's rmse: 1.1218\teval's rmse: 0.959367\n",
      "Early stopping, best iteration is:\n",
      "[195]\ttrain's rmse: 1.12635\teval's rmse: 0.952413\n",
      "Training until validation scores don't improve for 100 rounds\n"
     ]
    },
    {
     "name": "stderr",
     "output_type": "stream",
     "text": [
      "bagging, val_score: 0.909976:  90%|###########7 | 9/10 [00:02<00:00,  2.97it/s]\u001b[32m[I 2021-06-22 14:17:02,279]\u001b[0m Trial 35 finished with value: 0.9503296374952315 and parameters: {'bagging_fraction': 0.5909913598511038, 'bagging_freq': 6}. Best is trial 27 with value: 0.9247534425051439.\u001b[0m\n",
      "bagging, val_score: 0.909976:  90%|###########7 | 9/10 [00:02<00:00,  2.97it/s]"
     ]
    },
    {
     "name": "stdout",
     "output_type": "stream",
     "text": [
      "[100]\ttrain's rmse: 1.24845\teval's rmse: 1.03768\n",
      "[200]\ttrain's rmse: 1.16701\teval's rmse: 0.964815\n",
      "[300]\ttrain's rmse: 1.1237\teval's rmse: 0.997118\n",
      "Early stopping, best iteration is:\n",
      "[204]\ttrain's rmse: 1.16795\teval's rmse: 0.95033\n",
      "Training until validation scores don't improve for 100 rounds\n"
     ]
    },
    {
     "name": "stderr",
     "output_type": "stream",
     "text": [
      "bagging, val_score: 0.909976: 100%|############| 10/10 [00:03<00:00,  3.39it/s]\u001b[32m[I 2021-06-22 14:17:02,482]\u001b[0m Trial 36 finished with value: 0.9203897053063053 and parameters: {'bagging_fraction': 0.9415362138406392, 'bagging_freq': 4}. Best is trial 36 with value: 0.9203897053063053.\u001b[0m\n",
      "bagging, val_score: 0.909976: 100%|############| 10/10 [00:03<00:00,  3.25it/s]\n",
      "feature_fraction_stage2, val_score: 0.909976:   0%|      | 0/3 [00:00<?, ?it/s]"
     ]
    },
    {
     "name": "stdout",
     "output_type": "stream",
     "text": [
      "[100]\ttrain's rmse: 1.1084\teval's rmse: 0.92039\n",
      "[200]\ttrain's rmse: 1.03952\teval's rmse: 0.956625\n",
      "Early stopping, best iteration is:\n",
      "[100]\ttrain's rmse: 1.1084\teval's rmse: 0.92039\n",
      "Training until validation scores don't improve for 100 rounds\n",
      "[100]\ttrain's rmse: 1.16951\teval's rmse: 1.00598\n"
     ]
    },
    {
     "name": "stderr",
     "output_type": "stream",
     "text": [
      "feature_fraction_stage2, val_score: 0.909976:  33%|3| 1/3 [00:00<00:00,  3.78it\u001b[32m[I 2021-06-22 14:17:02,754]\u001b[0m Trial 37 finished with value: 0.9307064028770512 and parameters: {'feature_fraction': 0.9840000000000001}. Best is trial 37 with value: 0.9307064028770512.\u001b[0m\n",
      "feature_fraction_stage2, val_score: 0.909976:  33%|3| 1/3 [00:00<00:00,  3.78it"
     ]
    },
    {
     "name": "stdout",
     "output_type": "stream",
     "text": [
      "[200]\ttrain's rmse: 1.08796\teval's rmse: 0.941491\n",
      "Early stopping, best iteration is:\n",
      "[195]\ttrain's rmse: 1.09253\teval's rmse: 0.930706\n",
      "Training until validation scores don't improve for 100 rounds\n",
      "[100]\ttrain's rmse: 1.20308\teval's rmse: 1.04256\n"
     ]
    },
    {
     "name": "stderr",
     "output_type": "stream",
     "text": [
      "feature_fraction_stage2, val_score: 0.909976:  67%|6| 2/3 [00:00<00:00,  3.80it\u001b[32m[I 2021-06-22 14:17:03,017]\u001b[0m Trial 38 finished with value: 0.9458928218600513 and parameters: {'feature_fraction': 0.9520000000000001}. Best is trial 37 with value: 0.9307064028770512.\u001b[0m\n",
      "feature_fraction_stage2, val_score: 0.909976:  67%|6| 2/3 [00:00<00:00,  3.80it"
     ]
    },
    {
     "name": "stdout",
     "output_type": "stream",
     "text": [
      "[200]\ttrain's rmse: 1.09846\teval's rmse: 0.958381\n",
      "Early stopping, best iteration is:\n",
      "[195]\ttrain's rmse: 1.10353\teval's rmse: 0.945893\n",
      "Training until validation scores don't improve for 100 rounds\n",
      "[100]\ttrain's rmse: 1.214\teval's rmse: 1.06571"
     ]
    },
    {
     "name": "stderr",
     "output_type": "stream",
     "text": [
      "feature_fraction_stage2, val_score: 0.909976: 100%|#| 3/3 [00:00<00:00,  3.80it\u001b[32m[I 2021-06-22 14:17:03,280]\u001b[0m Trial 39 finished with value: 0.9539720692495722 and parameters: {'feature_fraction': 0.92}. Best is trial 37 with value: 0.9307064028770512.\u001b[0m\n",
      "feature_fraction_stage2, val_score: 0.909976: 100%|#| 3/3 [00:00<00:00,  3.80it\n",
      "regularization_factors, val_score: 0.909976:   0%|      | 0/20 [00:00<?, ?it/s]"
     ]
    },
    {
     "name": "stdout",
     "output_type": "stream",
     "text": [
      "\n",
      "[200]\ttrain's rmse: 1.09878\teval's rmse: 0.964195\n",
      "Early stopping, best iteration is:\n",
      "[195]\ttrain's rmse: 1.10375\teval's rmse: 0.953972\n",
      "Training until validation scores don't improve for 100 rounds\n",
      "[100]\ttrain's rmse: 1.15804\teval's rmse: 0.961145\n",
      "[200]\ttrain's rmse: 1.08592\teval's rmse: 0.923095\n"
     ]
    },
    {
     "name": "stderr",
     "output_type": "stream",
     "text": [
      "regularization_factors, val_score: 0.909976:   5%| | 1/20 [00:00<00:05,  3.19it\u001b[32m[I 2021-06-22 14:17:03,614]\u001b[0m Trial 40 finished with value: 0.9099762098210652 and parameters: {'lambda_l1': 2.3623293263526695e-06, 'lambda_l2': 0.0009828283322205326}. Best is trial 40 with value: 0.9099762098210652.\u001b[0m\n",
      "regularization_factors, val_score: 0.909976:   5%| | 1/20 [00:00<00:05,  3.19it"
     ]
    },
    {
     "name": "stdout",
     "output_type": "stream",
     "text": [
      "Early stopping, best iteration is:\n",
      "[170]\ttrain's rmse: 1.10412\teval's rmse: 0.909976\n",
      "Training until validation scores don't improve for 100 rounds\n",
      "[100]\ttrain's rmse: 1.15804\teval's rmse: 0.961136\n"
     ]
    },
    {
     "name": "stderr",
     "output_type": "stream",
     "text": [
      "regularization_factors, val_score: 0.909976:  10%|1| 2/20 [00:00<00:05,  3.45it\u001b[32m[I 2021-06-22 14:17:03,884]\u001b[0m Trial 41 finished with value: 0.9099756321630137 and parameters: {'lambda_l1': 4.838231789102002e-06, 'lambda_l2': 2.393650188864386e-05}. Best is trial 41 with value: 0.9099756321630137.\u001b[0m\n",
      "regularization_factors, val_score: 0.909976:  10%|1| 2/20 [00:00<00:05,  3.45it"
     ]
    },
    {
     "name": "stdout",
     "output_type": "stream",
     "text": [
      "[200]\ttrain's rmse: 1.08592\teval's rmse: 0.923095\n",
      "Early stopping, best iteration is:\n",
      "[170]\ttrain's rmse: 1.10412\teval's rmse: 0.909976\n",
      "Training until validation scores don't improve for 100 rounds\n",
      "[100]\ttrain's rmse: 1.15804\teval's rmse: 0.961136\n"
     ]
    },
    {
     "name": "stderr",
     "output_type": "stream",
     "text": [
      "regularization_factors, val_score: 0.909976:  15%|1| 3/20 [00:00<00:04,  3.61it\u001b[32m[I 2021-06-22 14:17:04,139]\u001b[0m Trial 42 finished with value: 0.9099756209943277 and parameters: {'lambda_l1': 5.794980122151351e-05, 'lambda_l2': 2.382283593721673e-06}. Best is trial 42 with value: 0.9099756209943277.\u001b[0m\n",
      "regularization_factors, val_score: 0.909976:  15%|1| 3/20 [00:00<00:04,  3.61it"
     ]
    },
    {
     "name": "stdout",
     "output_type": "stream",
     "text": [
      "[200]\ttrain's rmse: 1.08592\teval's rmse: 0.923094\n",
      "Early stopping, best iteration is:\n",
      "[170]\ttrain's rmse: 1.10412\teval's rmse: 0.909976\n",
      "Training until validation scores don't improve for 100 rounds\n",
      "[100]\ttrain's rmse: 1.16181\teval's rmse: 0.969042\n"
     ]
    },
    {
     "name": "stderr",
     "output_type": "stream",
     "text": [
      "regularization_factors, val_score: 0.909976:  20%|2| 4/20 [00:01<00:04,  3.74it\u001b[32m[I 2021-06-22 14:17:04,392]\u001b[0m Trial 43 finished with value: 0.9202819631682134 and parameters: {'lambda_l1': 7.946984098933845e-06, 'lambda_l2': 0.5675410359190447}. Best is trial 42 with value: 0.9099756209943277.\u001b[0m\n",
      "regularization_factors, val_score: 0.909976:  20%|2| 4/20 [00:01<00:04,  3.74it"
     ]
    },
    {
     "name": "stdout",
     "output_type": "stream",
     "text": [
      "[200]\ttrain's rmse: 1.08656\teval's rmse: 0.93321\n",
      "Early stopping, best iteration is:\n",
      "[170]\ttrain's rmse: 1.10484\teval's rmse: 0.920282\n",
      "Training until validation scores don't improve for 100 rounds\n",
      "[100]\ttrain's rmse: 1.16191\teval's rmse: 0.969185\n"
     ]
    },
    {
     "name": "stderr",
     "output_type": "stream",
     "text": [
      "regularization_factors, val_score: 0.909976:  25%|2| 5/20 [00:01<00:04,  3.71it\u001b[32m[I 2021-06-22 14:17:04,664]\u001b[0m Trial 44 finished with value: 0.9177316891016802 and parameters: {'lambda_l1': 1.2729973380290103e-06, 'lambda_l2': 0.5124822380162591}. Best is trial 42 with value: 0.9099756209943277.\u001b[0m\n",
      "regularization_factors, val_score: 0.909976:  25%|2| 5/20 [00:01<00:04,  3.71it"
     ]
    },
    {
     "name": "stdout",
     "output_type": "stream",
     "text": [
      "[200]\ttrain's rmse: 1.08711\teval's rmse: 0.927117\n",
      "Early stopping, best iteration is:\n",
      "[195]\ttrain's rmse: 1.09112\teval's rmse: 0.917732\n",
      "Training until validation scores don't improve for 100 rounds\n",
      "[100]\ttrain's rmse: 1.15997\teval's rmse: 0.965171\n"
     ]
    },
    {
     "name": "stderr",
     "output_type": "stream",
     "text": [
      "regularization_factors, val_score: 0.909976:  30%|3| 6/20 [00:01<00:03,  3.70it\u001b[32m[I 2021-06-22 14:17:04,937]\u001b[0m Trial 45 finished with value: 0.9148085227576395 and parameters: {'lambda_l1': 0.06244290597722998, 'lambda_l2': 5.533529748075399e-05}. Best is trial 42 with value: 0.9099756209943277.\u001b[0m\n",
      "regularization_factors, val_score: 0.909976:  30%|3| 6/20 [00:01<00:03,  3.70it"
     ]
    },
    {
     "name": "stdout",
     "output_type": "stream",
     "text": [
      "[200]\ttrain's rmse: 1.08743\teval's rmse: 0.926383\n",
      "Early stopping, best iteration is:\n",
      "[195]\ttrain's rmse: 1.09113\teval's rmse: 0.914809\n",
      "Training until validation scores don't improve for 100 rounds\n",
      "[100]\ttrain's rmse: 1.1622\teval's rmse: 0.962402\n"
     ]
    },
    {
     "name": "stderr",
     "output_type": "stream",
     "text": [
      "regularization_factors, val_score: 0.905611:  35%|3| 7/20 [00:01<00:03,  3.61it\u001b[32m[I 2021-06-22 14:17:05,230]\u001b[0m Trial 46 finished with value: 0.9056109327830261 and parameters: {'lambda_l1': 5.313680737470954e-06, 'lambda_l2': 0.009811862489049299}. Best is trial 46 with value: 0.9056109327830261.\u001b[0m\n",
      "regularization_factors, val_score: 0.905611:  35%|3| 7/20 [00:01<00:03,  3.61it"
     ]
    },
    {
     "name": "stdout",
     "output_type": "stream",
     "text": [
      "[200]\ttrain's rmse: 1.08848\teval's rmse: 0.918623\n",
      "[300]\ttrain's rmse: 1.03851\teval's rmse: 0.91821\n",
      "Early stopping, best iteration is:\n",
      "[205]\ttrain's rmse: 1.08687\teval's rmse: 0.905611\n",
      "Training until validation scores don't improve for 100 rounds\n",
      "[100]\ttrain's rmse: 1.16455\teval's rmse: 0.961755\n"
     ]
    },
    {
     "name": "stderr",
     "output_type": "stream",
     "text": [
      "regularization_factors, val_score: 0.905611:  40%|4| 8/20 [00:02<00:03,  3.62it\u001b[32m[I 2021-06-22 14:17:05,503]\u001b[0m Trial 47 finished with value: 0.9056801803345788 and parameters: {'lambda_l1': 1.5527460452621482, 'lambda_l2': 4.846748029977247e-07}. Best is trial 46 with value: 0.9056109327830261.\u001b[0m\n",
      "regularization_factors, val_score: 0.905611:  40%|4| 8/20 [00:02<00:03,  3.62it"
     ]
    },
    {
     "name": "stdout",
     "output_type": "stream",
     "text": [
      "[200]\ttrain's rmse: 1.09466\teval's rmse: 0.917924\n",
      "Early stopping, best iteration is:\n",
      "[170]\ttrain's rmse: 1.11197\teval's rmse: 0.90568\n",
      "Training until validation scores don't improve for 100 rounds\n"
     ]
    },
    {
     "name": "stderr",
     "output_type": "stream",
     "text": [
      "regularization_factors, val_score: 0.905611:  45%|4| 9/20 [00:02<00:03,  3.43it\u001b[32m[I 2021-06-22 14:17:05,826]\u001b[0m Trial 48 finished with value: 0.9056108036073476 and parameters: {'lambda_l1': 1.4917552715031614e-06, 'lambda_l2': 0.009631227492297712}. Best is trial 48 with value: 0.9056108036073476.\u001b[0m\n"
     ]
    },
    {
     "name": "stdout",
     "output_type": "stream",
     "text": [
      "[100]\ttrain's rmse: 1.16219\teval's rmse: 0.9624\n",
      "[200]\ttrain's rmse: 1.08848\teval's rmse: 0.918623\n",
      "[300]\ttrain's rmse: 1.03851\teval's rmse: 0.91821\n",
      "Early stopping, best iteration is:\n",
      "[205]\ttrain's rmse: 1.08687\teval's rmse: 0.905611\n"
     ]
    },
    {
     "name": "stderr",
     "output_type": "stream",
     "text": [
      "\r",
      "regularization_factors, val_score: 0.905611:  45%|4| 9/20 [00:02<00:03,  3.43it"
     ]
    },
    {
     "name": "stdout",
     "output_type": "stream",
     "text": [
      "Training until validation scores don't improve for 100 rounds\n",
      "[100]\ttrain's rmse: 1.16371\teval's rmse: 0.960121\n",
      "[200]\ttrain's rmse: 1.08999\teval's rmse: 0.911818\n",
      "Early stopping, best iteration is:\n",
      "[195]\ttrain's rmse: 1.09393\teval's rmse: 0.904169"
     ]
    },
    {
     "name": "stderr",
     "output_type": "stream",
     "text": [
      "regularization_factors, val_score: 0.904169:  50%|5| 10/20 [00:02<00:02,  3.50i\u001b[32m[I 2021-06-22 14:17:06,107]\u001b[0m Trial 49 finished with value: 0.9041687295049426 and parameters: {'lambda_l1': 0.7185340568347954, 'lambda_l2': 1.5742125533073377e-07}. Best is trial 49 with value: 0.9041687295049426.\u001b[0m\n",
      "regularization_factors, val_score: 0.904169:  50%|5| 10/20 [00:02<00:02,  3.50i"
     ]
    },
    {
     "name": "stdout",
     "output_type": "stream",
     "text": [
      "\n",
      "Training until validation scores don't improve for 100 rounds\n",
      "[100]\ttrain's rmse: 1.15845\teval's rmse: 0.959809\n"
     ]
    },
    {
     "name": "stderr",
     "output_type": "stream",
     "text": [
      "regularization_factors, val_score: 0.904169:  55%|5| 11/20 [00:03<00:02,  3.59i\u001b[32m[I 2021-06-22 14:17:06,372]\u001b[0m Trial 50 finished with value: 0.9099666441281163 and parameters: {'lambda_l1': 0.008178131995265849, 'lambda_l2': 1.1572673800294507e-08}. Best is trial 49 with value: 0.9041687295049426.\u001b[0m\n",
      "regularization_factors, val_score: 0.904169:  55%|5| 11/20 [00:03<00:02,  3.59i"
     ]
    },
    {
     "name": "stdout",
     "output_type": "stream",
     "text": [
      "[200]\ttrain's rmse: 1.08501\teval's rmse: 0.920475\n",
      "Early stopping, best iteration is:\n",
      "[170]\ttrain's rmse: 1.10324\teval's rmse: 0.909967\n",
      "Training until validation scores don't improve for 100 rounds\n",
      "[100]\ttrain's rmse: 1.19061\teval's rmse: 0.995104\n"
     ]
    },
    {
     "name": "stderr",
     "output_type": "stream",
     "text": [
      "regularization_factors, val_score: 0.904169:  60%|6| 12/20 [00:03<00:02,  3.57i\u001b[32m[I 2021-06-22 14:17:06,655]\u001b[0m Trial 51 finished with value: 0.9084120774874351 and parameters: {'lambda_l1': 6.42361611844157, 'lambda_l2': 0.014790343748151882}. Best is trial 49 with value: 0.9041687295049426.\u001b[0m\n",
      "regularization_factors, val_score: 0.904169:  60%|6| 12/20 [00:03<00:02,  3.57i"
     ]
    },
    {
     "name": "stdout",
     "output_type": "stream",
     "text": [
      "[200]\ttrain's rmse: 1.12978\teval's rmse: 0.916501\n",
      "[300]\ttrain's rmse: 1.08752\teval's rmse: 0.91963\n",
      "Early stopping, best iteration is:\n",
      "[205]\ttrain's rmse: 1.12751\teval's rmse: 0.908412\n",
      "Training until validation scores don't improve for 100 rounds\n"
     ]
    },
    {
     "name": "stderr",
     "output_type": "stream",
     "text": [
      "regularization_factors, val_score: 0.904169:  65%|6| 13/20 [00:03<00:02,  3.39i\u001b[32m[I 2021-06-22 14:17:06,978]\u001b[0m Trial 52 finished with value: 0.9099756173913336 and parameters: {'lambda_l1': 6.136798971275306e-08, 'lambda_l2': 3.8796164144385214e-08}. Best is trial 49 with value: 0.9041687295049426.\u001b[0m\n",
      "regularization_factors, val_score: 0.904169:  65%|6| 13/20 [00:03<00:02,  3.39i"
     ]
    },
    {
     "name": "stdout",
     "output_type": "stream",
     "text": [
      "[100]\ttrain's rmse: 1.15804\teval's rmse: 0.961136\n",
      "[200]\ttrain's rmse: 1.08592\teval's rmse: 0.923095\n",
      "Early stopping, best iteration is:\n",
      "[170]\ttrain's rmse: 1.10412\teval's rmse: 0.909976\n",
      "Training until validation scores don't improve for 100 rounds\n",
      "[100]\ttrain's rmse: 1.16208\teval's rmse: 0.966444\n",
      "[200]\ttrain's rmse: 1.0891\teval's rmse: 0.922443\n"
     ]
    },
    {
     "name": "stderr",
     "output_type": "stream",
     "text": [
      "regularization_factors, val_score: 0.904169:  70%|7| 14/20 [00:03<00:01,  3.32i\u001b[32m[I 2021-06-22 14:17:07,289]\u001b[0m Trial 53 finished with value: 0.9095460206723249 and parameters: {'lambda_l1': 2.0596881463729453e-08, 'lambda_l2': 0.0050538778468908335}. Best is trial 49 with value: 0.9041687295049426.\u001b[0m\n",
      "regularization_factors, val_score: 0.904169:  70%|7| 14/20 [00:04<00:01,  3.32i"
     ]
    },
    {
     "name": "stdout",
     "output_type": "stream",
     "text": [
      "Early stopping, best iteration is:\n",
      "[170]\ttrain's rmse: 1.10732\teval's rmse: 0.909546\n",
      "Training until validation scores don't improve for 100 rounds\n",
      "[100]\ttrain's rmse: 1.1862\teval's rmse: 0.999163\n"
     ]
    },
    {
     "name": "stderr",
     "output_type": "stream",
     "text": [
      "regularization_factors, val_score: 0.904169:  75%|7| 15/20 [00:04<00:01,  3.22i\u001b[32m[I 2021-06-22 14:17:07,631]\u001b[0m Trial 54 finished with value: 0.9243146888516126 and parameters: {'lambda_l1': 0.001235237019718986, 'lambda_l2': 2.6881543560740027}. Best is trial 49 with value: 0.9041687295049426.\u001b[0m\n",
      "regularization_factors, val_score: 0.904169:  75%|7| 15/20 [00:04<00:01,  3.22i"
     ]
    },
    {
     "name": "stdout",
     "output_type": "stream",
     "text": [
      "[200]\ttrain's rmse: 1.1055\teval's rmse: 0.940026\n",
      "Early stopping, best iteration is:\n",
      "[170]\ttrain's rmse: 1.12525\teval's rmse: 0.924315\n",
      "Training until validation scores don't improve for 100 rounds\n"
     ]
    },
    {
     "name": "stderr",
     "output_type": "stream",
     "text": [
      "regularization_factors, val_score: 0.904169:  80%|8| 16/20 [00:04<00:01,  3.21i\u001b[32m[I 2021-06-22 14:17:07,936]\u001b[0m Trial 55 finished with value: 0.9154209286110819 and parameters: {'lambda_l1': 0.16490333192595802, 'lambda_l2': 0.05621223769790918}. Best is trial 49 with value: 0.9041687295049426.\u001b[0m\n",
      "regularization_factors, val_score: 0.904169:  80%|8| 16/20 [00:04<00:01,  3.21i"
     ]
    },
    {
     "name": "stdout",
     "output_type": "stream",
     "text": [
      "[100]\ttrain's rmse: 1.16344\teval's rmse: 0.96561\n",
      "[200]\ttrain's rmse: 1.09013\teval's rmse: 0.925484\n",
      "[300]\ttrain's rmse: 1.03904\teval's rmse: 0.932904\n",
      "Early stopping, best iteration is:\n",
      "[205]\ttrain's rmse: 1.08855\teval's rmse: 0.915421\n",
      "Training until validation scores don't improve for 100 rounds\n",
      "[100]\ttrain's rmse: 1.15804\teval's rmse: 0.961139\n",
      "[200]\ttrain's rmse: 1.08721\teval's rmse: 0.921465\n",
      "Early stopping, best iteration is:\n",
      "[195]\ttrain's rmse: 1.09112\teval's rmse: 0.911113\n"
     ]
    },
    {
     "name": "stderr",
     "output_type": "stream",
     "text": [
      "regularization_factors, val_score: 0.904169:  85%|8| 17/20 [00:04<00:00,  3.27i\u001b[32m[I 2021-06-22 14:17:08,229]\u001b[0m Trial 56 finished with value: 0.9111132920537771 and parameters: {'lambda_l1': 0.0002593623581685985, 'lambda_l2': 0.0002796810576505913}. Best is trial 49 with value: 0.9041687295049426.\u001b[0m\n",
      "regularization_factors, val_score: 0.904169:  85%|8| 17/20 [00:04<00:00,  3.27i"
     ]
    },
    {
     "name": "stdout",
     "output_type": "stream",
     "text": [
      "Training until validation scores don't improve for 100 rounds\n",
      "[100]\ttrain's rmse: 1.15804\teval's rmse: 0.961136\n",
      "[200]\ttrain's rmse: 1.08592\teval's rmse: 0.923095\n",
      "Early stopping, best iteration is:\n",
      "[170]\ttrain's rmse: 1.10412\teval's rmse: 0.909976\n"
     ]
    },
    {
     "name": "stderr",
     "output_type": "stream",
     "text": [
      "regularization_factors, val_score: 0.904169:  90%|9| 18/20 [00:05<00:00,  3.38i\u001b[32m[I 2021-06-22 14:17:08,502]\u001b[0m Trial 57 finished with value: 0.9099756176710216 and parameters: {'lambda_l1': 1.1161379601643627e-07, 'lambda_l2': 2.2672377758267878e-07}. Best is trial 49 with value: 0.9041687295049426.\u001b[0m\n",
      "regularization_factors, val_score: 0.904169:  90%|9| 18/20 [00:05<00:00,  3.38i"
     ]
    },
    {
     "name": "stdout",
     "output_type": "stream",
     "text": [
      "Training until validation scores don't improve for 100 rounds\n",
      "[100]\ttrain's rmse: 1.15804\teval's rmse: 0.961136\n",
      "[200]\ttrain's rmse: 1.08592\teval's rmse: 0.923095\n"
     ]
    },
    {
     "name": "stderr",
     "output_type": "stream",
     "text": [
      "regularization_factors, val_score: 0.904169:  95%|9| 19/20 [00:05<00:00,  3.29i\u001b[32m[I 2021-06-22 14:17:08,836]\u001b[0m Trial 58 finished with value: 0.9099756213010738 and parameters: {'lambda_l1': 2.4161488975962355e-07, 'lambda_l2': 6.743708855824508e-06}. Best is trial 49 with value: 0.9041687295049426.\u001b[0m\n",
      "regularization_factors, val_score: 0.904169:  95%|9| 19/20 [00:05<00:00,  3.29i"
     ]
    },
    {
     "name": "stdout",
     "output_type": "stream",
     "text": [
      "Early stopping, best iteration is:\n",
      "[170]\ttrain's rmse: 1.10412\teval's rmse: 0.909976\n",
      "Training until validation scores don't improve for 100 rounds\n",
      "[100]\ttrain's rmse: 1.15804\teval's rmse: 0.961144\n"
     ]
    },
    {
     "name": "stderr",
     "output_type": "stream",
     "text": [
      "regularization_factors, val_score: 0.904169: 100%|#| 20/20 [00:05<00:00,  3.26i\u001b[32m[I 2021-06-22 14:17:09,139]\u001b[0m Trial 59 finished with value: 0.9099761150296585 and parameters: {'lambda_l1': 5.551556360391684e-05, 'lambda_l2': 0.0008229072705547239}. Best is trial 49 with value: 0.9041687295049426.\u001b[0m\n",
      "regularization_factors, val_score: 0.904169: 100%|#| 20/20 [00:05<00:00,  3.41i\n",
      "min_data_in_leaf, val_score: 0.904169:   0%|             | 0/5 [00:00<?, ?it/s]"
     ]
    },
    {
     "name": "stdout",
     "output_type": "stream",
     "text": [
      "[200]\ttrain's rmse: 1.08592\teval's rmse: 0.923095\n",
      "Early stopping, best iteration is:\n",
      "[170]\ttrain's rmse: 1.10412\teval's rmse: 0.909976\n",
      "Training until validation scores don't improve for 100 rounds\n",
      "[100]\ttrain's rmse: 2.05975\teval's rmse: 2.14234\n",
      "[200]\ttrain's rmse: 1.86201\teval's rmse: 1.83125\n",
      "[300]\ttrain's rmse: 1.74065\teval's rmse: 1.70559\n",
      "[400]\ttrain's rmse: 1.67137\teval's rmse: 1.63728\n",
      "[500]\ttrain's rmse: 1.61132\teval's rmse: 1.56547\n",
      "[600]\ttrain's rmse: 1.56898\teval's rmse: 1.54185\n",
      "[700]\ttrain's rmse: 1.53786\teval's rmse: 1.53168\n"
     ]
    },
    {
     "name": "stderr",
     "output_type": "stream",
     "text": [
      "min_data_in_leaf, val_score: 0.904169:  20%|#    | 1/5 [00:00<00:03,  1.32it/s]\u001b[32m[I 2021-06-22 14:17:09,908]\u001b[0m Trial 60 finished with value: 1.507199094189052 and parameters: {'min_child_samples': 50}. Best is trial 60 with value: 1.507199094189052.\u001b[0m\n",
      "min_data_in_leaf, val_score: 0.904169:  20%|#    | 1/5 [00:00<00:03,  1.32it/s]"
     ]
    },
    {
     "name": "stdout",
     "output_type": "stream",
     "text": [
      "Early stopping, best iteration is:\n",
      "[669]\ttrain's rmse: 1.5464\teval's rmse: 1.5072\n",
      "Training until validation scores don't improve for 100 rounds\n",
      "[100]\ttrain's rmse: 0.959765\teval's rmse: 0.57603\n"
     ]
    },
    {
     "name": "stderr",
     "output_type": "stream",
     "text": [
      "min_data_in_leaf, val_score: 0.536243:  40%|##   | 2/5 [00:00<00:01,  2.22it/s]\u001b[32m[I 2021-06-22 14:17:10,141]\u001b[0m Trial 61 finished with value: 0.5362427456583416 and parameters: {'min_child_samples': 10}. Best is trial 61 with value: 0.5362427456583416.\u001b[0m\n",
      "min_data_in_leaf, val_score: 0.536243:  40%|##   | 2/5 [00:00<00:01,  2.22it/s]"
     ]
    },
    {
     "name": "stdout",
     "output_type": "stream",
     "text": [
      "[200]\ttrain's rmse: 0.891953\teval's rmse: 0.570825\n",
      "Early stopping, best iteration is:\n",
      "[145]\ttrain's rmse: 0.922056\teval's rmse: 0.536243\n",
      "Training until validation scores don't improve for 100 rounds\n",
      "[100]\ttrain's rmse: 3.27262\teval's rmse: 3.55327\n",
      "[200]\ttrain's rmse: 3.04261\teval's rmse: 3.22508\n",
      "[300]\ttrain's rmse: 2.93756\teval's rmse: 3.09441\n",
      "[400]\ttrain's rmse: 2.85196\teval's rmse: 2.98098\n",
      "[500]\ttrain's rmse: 2.79108\teval's rmse: 2.91181\n",
      "[600]\ttrain's rmse: 2.74029\teval's rmse: 2.83782\n",
      "[700]\ttrain's rmse: 2.70412\teval's rmse: 2.80042\n",
      "[800]\ttrain's rmse: 2.67445\teval's rmse: 2.78313\n",
      "[900]\ttrain's rmse: 2.63765\teval's rmse: 2.7517\n",
      "[1000]\ttrain's rmse: 2.60952\teval's rmse: 2.72656\n",
      "Did not meet early stopping. Best iteration is:\n",
      "[999]\ttrain's rmse: 2.6095\teval's rmse: 2.72661\n"
     ]
    },
    {
     "name": "stderr",
     "output_type": "stream",
     "text": [
      "min_data_in_leaf, val_score: 0.536243:  60%|###  | 3/5 [00:01<00:01,  1.76it/s]\u001b[32m[I 2021-06-22 14:17:10,847]\u001b[0m Trial 62 finished with value: 2.7266127355264547 and parameters: {'min_child_samples': 100}. Best is trial 61 with value: 0.5362427456583416.\u001b[0m\n",
      "min_data_in_leaf, val_score: 0.506307:  80%|#### | 4/5 [00:01<00:00,  2.37it/s]\u001b[32m[I 2021-06-22 14:17:11,049]\u001b[0m Trial 63 finished with value: 0.5063070282966191 and parameters: {'min_child_samples': 5}. Best is trial 63 with value: 0.5063070282966191.\u001b[0m\n",
      "min_data_in_leaf, val_score: 0.506307:  80%|#### | 4/5 [00:01<00:00,  2.37it/s]"
     ]
    },
    {
     "name": "stdout",
     "output_type": "stream",
     "text": [
      "Training until validation scores don't improve for 100 rounds\n",
      "[100]\ttrain's rmse: 0.896933\teval's rmse: 0.521156\n",
      "[200]\ttrain's rmse: 0.812232\teval's rmse: 0.555056\n",
      "Early stopping, best iteration is:\n",
      "[120]\ttrain's rmse: 0.873773\teval's rmse: 0.506307\n",
      "Training until validation scores don't improve for 100 rounds\n"
     ]
    },
    {
     "name": "stderr",
     "output_type": "stream",
     "text": [
      "min_data_in_leaf, val_score: 0.506307: 100%|#####| 5/5 [00:02<00:00,  2.68it/s]\u001b[32m[I 2021-06-22 14:17:11,332]\u001b[0m Trial 64 finished with value: 0.9536255952676026 and parameters: {'min_child_samples': 25}. Best is trial 63 with value: 0.5063070282966191.\u001b[0m\n",
      "min_data_in_leaf, val_score: 0.506307: 100%|#####| 5/5 [00:02<00:00,  2.28it/s]"
     ]
    },
    {
     "name": "stdout",
     "output_type": "stream",
     "text": [
      "[100]\ttrain's rmse: 1.28134\teval's rmse: 1.07369\n",
      "[200]\ttrain's rmse: 1.19737\teval's rmse: 0.953626\n",
      "[300]\ttrain's rmse: 1.14369\teval's rmse: 0.960414\n",
      "Early stopping, best iteration is:\n",
      "[200]\ttrain's rmse: 1.19737\teval's rmse: 0.953626\n",
      "MAE = 0.26453111002029084\n",
      "      price_am  price_pm  holiday  year  price  price_times  client_1  \\\n",
      "2096       5.0       4.0    False  2016    4.5         20.0         1   \n",
      "2097       4.0       4.0    False  2016    4.0         16.0         1   \n",
      "2098       4.0       4.0    False  2016    4.0         16.0         1   \n",
      "2099       5.0       4.0    False  2016    4.5         20.0         1   \n",
      "2100       5.0       4.0    False  2016    4.5         20.0         1   \n",
      "\n",
      "      close_1  month_10  month_11  ...  day_8  day_9  weekday_1  weekday_2  \\\n",
      "2096        0         0         0  ...      0      0          0          0   \n",
      "2097        0         0         0  ...      0      0          0          0   \n",
      "2098        0         0         0  ...      0      0          1          0   \n",
      "2099        0         0         0  ...      0      0          0          1   \n",
      "2100        0         0         0  ...      0      0          0          0   \n",
      "\n",
      "      weekday_3  weekday_4  weekday_5  weekday_6    svc         lgb  \n",
      "2096          0          0          0          1   94.0   95.179803  \n",
      "2097          0          0          0          0   86.0   85.274276  \n",
      "2098          0          0          0          0   98.0   99.803763  \n",
      "2099          0          0          0          0   99.0  100.614165  \n",
      "2100          1          0          0          0  105.0  100.295121  \n",
      "\n",
      "[5 rows x 57 columns]\n"
     ]
    },
    {
     "name": "stderr",
     "output_type": "stream",
     "text": [
      "\n"
     ]
    }
   ],
   "source": [
    "svc_mae_result = []\n",
    "lgb_mae_result = []\n",
    "for i in range(0,1):\n",
    "    y_svc_pred, y_svc_test_pred,mae_result = SVC_fit(i)\n",
    "    X_train_scaler, X_test_scaler = ScalerFit(X_train, X_test)\n",
    "    svc_mae_result.append(mae_result)\n",
    "    print(X_train.tail())\n",
    "    y_lgb_oof_train, y_lgb_preds, mae_result = lightGBM_fit(i)\n",
    "    X_train_scaler, X_test_scaler = ScalerFit(X_train, X_test)\n",
    "    lgb_mae_result.append(mae_result)\n",
    "    print(X_train.tail())"
   ]
  },
  {
   "cell_type": "code",
   "execution_count": 33,
   "id": "001aa730",
   "metadata": {},
   "outputs": [
    {
     "name": "stdout",
     "output_type": "stream",
     "text": [
      "[0.08138981437410757]\n",
      "[0.26453111002029084]\n"
     ]
    }
   ],
   "source": [
    "print(svc_mae_result)\n",
    "print(lgb_mae_result)"
   ]
  },
  {
   "cell_type": "code",
   "execution_count": 34,
   "id": "982d748b",
   "metadata": {},
   "outputs": [],
   "source": [
    "X_train['pred'] = y_svc_pred\n",
    "X_test['pred'] = y_svc_test_pred\n",
    "# データセットの標準化\n",
    "scaler.fit(X_train)\n",
    "scaler.fit(X_test)\n",
    "X_train_scaler = scaler.transform(X_train)\n",
    "X_test_scaler  = scaler.transform(X_test)"
   ]
  },
  {
   "cell_type": "code",
   "execution_count": 35,
   "id": "5999828f",
   "metadata": {},
   "outputs": [
    {
     "name": "stdout",
     "output_type": "stream",
     "text": [
      "{'alpha': 0.03981071705534823}\n",
      "R^2 = 0.9977956118578531\n",
      "MAE = 0.17125261163351002\n"
     ]
    }
   ],
   "source": [
    "params_grid = {\n",
    "    'alpha': 10 ** np.arange(-6, 1, 0.1)\n",
    "}\n",
    "# パラメータチューニング\n",
    "clf = GridSearchCV(\n",
    "    estimator = Ridge(),\n",
    "    param_grid = params_grid,\n",
    "    cv = 5,\n",
    "    scoring='r2',\n",
    "    n_jobs = -1\n",
    "    )\n",
    "# 線形モデルの重みを学習\n",
    "clf.fit(X_train_scaler, y_train) \n",
    "\n",
    "# チューニングしたモデル\n",
    "best_param = clf.best_params_\n",
    "ridge_tuned = clf.best_estimator_\n",
    "\n",
    "# 予測値を反映\n",
    "y_ridge_pred = ridge_tuned.predict(X_train_scaler) # Trainデータに対して予測\n",
    "y_ridge_test_pred = ridge_tuned.predict(X_test_scaler) # Testデータに対して予測\n",
    "\n",
    "#print(\"α = {}\".format(clf.alpha_))\n",
    "#print(\"ω = {}\".format(clf.coef_))\n",
    "#print(\"b = {}\".format(clf.intercept_))\n",
    "print(best_param)\n",
    "print(\"R^2 = {}\".format(clf.score(X_train_scaler, y_train)))\n",
    "print(\"MAE = {}\".format(mean_absolute_error(y_train, y_ridge_pred)))"
   ]
  },
  {
   "cell_type": "code",
   "execution_count": 36,
   "id": "400647af",
   "metadata": {},
   "outputs": [],
   "source": [
    "#X_train['pred'] = y_ridge_pred\n",
    "#X_test['pred'] = y_ridge_test_pred\n",
    "## データセットの標準化\n",
    "#scaler.fit(X_train)\n",
    "#scaler.fit(X_test)\n",
    "#X_train_scaler = scaler.transform(X_train)\n",
    "#X_test_scaler  = scaler.transform(X_test)"
   ]
  },
  {
   "cell_type": "code",
   "execution_count": 37,
   "id": "1a838e65",
   "metadata": {},
   "outputs": [
    {
     "data": {
      "text/plain": [
       "([16.74081178009016,\n",
       "  15.924452283913181,\n",
       "  15.14815663303815,\n",
       "  14.410188331472947,\n",
       "  13.709187346490605],\n",
       " [16.155165643465555,\n",
       "  15.375815937558839,\n",
       "  14.64239345331226,\n",
       "  13.940595766651041,\n",
       "  13.270664068295705])"
      ]
     },
     "execution_count": 37,
     "metadata": {},
     "output_type": "execute_result"
    }
   ],
   "source": [
    "train_metric = evals_result['train']['rmse']\n",
    "eval_metric = evals_result['eval']['rmse']\n",
    "train_metric[:5], eval_metric[:5]"
   ]
  },
  {
   "cell_type": "code",
   "execution_count": 38,
   "id": "5290973d",
   "metadata": {},
   "outputs": [
    {
     "data": {
      "image/png": "[encoded data removed]",
      "text/plain": [
       "<Figure size 432x288 with 1 Axes>"
      ]
     },
     "metadata": {
      "needs_background": "light"
     },
     "output_type": "display_data"
    }
   ],
   "source": [
    "plt.plot(train_metric, label='train rmse')\n",
    "plt.plot(eval_metric, label='eval rmse')\n",
    "plt.grid()\n",
    "plt.legend()\n",
    "plt.ylim(0, 10)\n",
    "\n",
    "plt.xlabel('rounds')\n",
    "plt.ylabel('rmse')\n",
    "plt.grid(True)\n",
    "plt.show()"
   ]
  },
  {
   "cell_type": "code",
   "execution_count": 39,
   "id": "652a3707",
   "metadata": {},
   "outputs": [],
   "source": [
    "y_total_pred = y_lasso_pred*0.0 + y_ridge_pred*0.0 + y_svc_pred*0.0 + y_lgb_oof_train*1.0"
   ]
  },
  {
   "cell_type": "code",
   "execution_count": 40,
   "id": "a0c4f1b3",
   "metadata": {},
   "outputs": [
    {
     "data": {
      "image/png": "[encoded data removed]",
      "text/plain": [
       "<Figure size 432x288 with 1 Axes>"
      ]
     },
     "metadata": {
      "needs_background": "light"
     },
     "output_type": "display_data"
    }
   ],
   "source": [
    "#plt.scatter(y_train, y_lasso_pred)\n",
    "#plt.scatter(y_train, y_ridge_pred)\n",
    "plt.scatter(y_train, y_svc_pred)\n",
    "plt.scatter(y_train, y_lgb_oof_train)\n",
    "plt.scatter(y_train, y_total_pred)\n",
    "\n",
    "\n",
    "\n",
    "plt.title(\"Prediction vs Valid data for SalePrice\")\n",
    "plt.xlabel(\"Prediction\")\n",
    "plt.ylabel(\"Expected value\")\n",
    "# Fitting line\n",
    "x = np.arange(0, max(y_train))\n",
    "y = x\n",
    "plt.plot(x,y,color='red')\n",
    "\n",
    "# MAE\n",
    "result_mae = mean_absolute_error(y_train, y_total_pred)\n",
    "#result_mae = mean_absolute_error(y_train, y_lgb_oof_train)\n",
    "#result_rmsle = rmsle(y_train.values, y_lgb_oof_train)\n",
    "\n",
    "plt.text(1, max(y_train), 'MAE = {}'.format(result_mae))\n",
    "\n",
    "# Grid on\n",
    "plt.grid(True)"
   ]
  },
  {
   "cell_type": "code",
   "execution_count": 41,
   "id": "693dfd0c",
   "metadata": {},
   "outputs": [],
   "source": [
    "# Average of Prediction data (LightGBM)\n",
    "y_lgb_test_pred = sum(y_lgb_preds)/len(y_lgb_preds)"
   ]
  },
  {
   "cell_type": "code",
   "execution_count": 42,
   "id": "e3d59727",
   "metadata": {},
   "outputs": [],
   "source": [
    "submit_sample[1] = y_lgb_test_pred\n",
    "submit_sample.to_csv('submit.csv',index = False,  header=None)"
   ]
  },
  {
   "cell_type": "code",
   "execution_count": 43,
   "id": "c45c7a2b",
   "metadata": {},
   "outputs": [
    {
     "data": {
      "text/html": [
       "<div>\n",
       "<style scoped>\n",
       "    .dataframe tbody tr th:only-of-type {\n",
       "        vertical-align: middle;\n",
       "    }\n",
       "\n",
       "    .dataframe tbody tr th {\n",
       "        vertical-align: top;\n",
       "    }\n",
       "\n",
       "    .dataframe thead th {\n",
       "        text-align: right;\n",
       "    }\n",
       "</style>\n",
       "<table border=\"1\" class=\"dataframe\">\n",
       "  <thead>\n",
       "    <tr style=\"text-align: right;\">\n",
       "      <th></th>\n",
       "      <th>0</th>\n",
       "      <th>1</th>\n",
       "    </tr>\n",
       "  </thead>\n",
       "  <tbody>\n",
       "    <tr>\n",
       "      <th>0</th>\n",
       "      <td>2016-04-01</td>\n",
       "      <td>61.020092</td>\n",
       "    </tr>\n",
       "    <tr>\n",
       "      <th>1</th>\n",
       "      <td>2016-04-02</td>\n",
       "      <td>68.875727</td>\n",
       "    </tr>\n",
       "    <tr>\n",
       "      <th>2</th>\n",
       "      <td>2016-04-03</td>\n",
       "      <td>74.557969</td>\n",
       "    </tr>\n",
       "    <tr>\n",
       "      <th>3</th>\n",
       "      <td>2016-04-04</td>\n",
       "      <td>57.008723</td>\n",
       "    </tr>\n",
       "    <tr>\n",
       "      <th>4</th>\n",
       "      <td>2016-04-05</td>\n",
       "      <td>17.247618</td>\n",
       "    </tr>\n",
       "  </tbody>\n",
       "</table>\n",
       "</div>"
      ],
      "text/plain": [
       "            0          1\n",
       "0  2016-04-01  61.020092\n",
       "1  2016-04-02  68.875727\n",
       "2  2016-04-03  74.557969\n",
       "3  2016-04-04  57.008723\n",
       "4  2016-04-05  17.247618"
      ]
     },
     "execution_count": 43,
     "metadata": {},
     "output_type": "execute_result"
    }
   ],
   "source": [
    "submit_sample.head()"
   ]
  },
  {
   "cell_type": "code",
   "execution_count": null,
   "id": "096d5a1d",
   "metadata": {},
   "outputs": [],
   "source": []
  }
 ],
 "metadata": {
  "kernelspec": {
   "display_name": "Python 3",
   "language": "python",
   "name": "python3"
  },
  "language_info": {
   "codemirror_mode": {
    "name": "ipython",
    "version": 3
   },
   "file_extension": ".py",
   "mimetype": "text/x-python",
   "name": "python",
   "nbconvert_exporter": "python",
   "pygments_lexer": "ipython3",
   "version": "3.8.8"
  }
 },
 "nbformat": 4,
 "nbformat_minor": 5
}
