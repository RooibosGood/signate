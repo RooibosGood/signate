{
 "cells": [
  {
   "cell_type": "code",
   "execution_count": 1,
   "id": "ed133a50",
   "metadata": {},
   "outputs": [],
   "source": [
    "import numpy as np # linear algebra\n",
    "import pandas as pd # data processing, CSV file I/O (e.g. pd.read_csv)\n",
    "import datetime as dt\n",
    "import jpholiday\n",
    "import seaborn as sns\n",
    "import matplotlib.pyplot as plt\n",
    "import seaborn as sns\n",
    "from scipy.stats import norm\n",
    "import statsmodels.api as sm\n",
    "import scipy.stats as stats\n",
    "from sklearn.metrics import mean_absolute_error"
   ]
  },
  {
   "cell_type": "code",
   "execution_count": 2,
   "id": "90aaf563",
   "metadata": {
    "scrolled": false
   },
   "outputs": [
    {
     "name": "stdout",
     "output_type": "stream",
     "text": [
      "<class 'pandas.core.frame.DataFrame'>\n",
      "Int64Index: 2466 entries, 0 to 364\n",
      "Data columns (total 6 columns):\n",
      " #   Column    Non-Null Count  Dtype         \n",
      "---  ------    --------------  -----         \n",
      " 0   datetime  2466 non-null   datetime64[ns]\n",
      " 1   y         2101 non-null   float64       \n",
      " 2   client    2466 non-null   int64         \n",
      " 3   close     2466 non-null   int64         \n",
      " 4   price_am  2466 non-null   int64         \n",
      " 5   price_pm  2466 non-null   int64         \n",
      "dtypes: datetime64[ns](1), float64(1), int64(4)\n",
      "memory usage: 134.9 KB\n"
     ]
    },
    {
     "data": {
      "text/html": [
       "<div>\n",
       "<style scoped>\n",
       "    .dataframe tbody tr th:only-of-type {\n",
       "        vertical-align: middle;\n",
       "    }\n",
       "\n",
       "    .dataframe tbody tr th {\n",
       "        vertical-align: top;\n",
       "    }\n",
       "\n",
       "    .dataframe thead th {\n",
       "        text-align: right;\n",
       "    }\n",
       "</style>\n",
       "<table border=\"1\" class=\"dataframe\">\n",
       "  <thead>\n",
       "    <tr style=\"text-align: right;\">\n",
       "      <th></th>\n",
       "      <th>datetime</th>\n",
       "      <th>y</th>\n",
       "      <th>client</th>\n",
       "      <th>close</th>\n",
       "      <th>price_am</th>\n",
       "      <th>price_pm</th>\n",
       "    </tr>\n",
       "  </thead>\n",
       "  <tbody>\n",
       "    <tr>\n",
       "      <th>0</th>\n",
       "      <td>2010-07-01</td>\n",
       "      <td>17.0</td>\n",
       "      <td>0</td>\n",
       "      <td>0</td>\n",
       "      <td>-1</td>\n",
       "      <td>-1</td>\n",
       "    </tr>\n",
       "    <tr>\n",
       "      <th>1</th>\n",
       "      <td>2010-07-02</td>\n",
       "      <td>18.0</td>\n",
       "      <td>0</td>\n",
       "      <td>0</td>\n",
       "      <td>-1</td>\n",
       "      <td>-1</td>\n",
       "    </tr>\n",
       "    <tr>\n",
       "      <th>2</th>\n",
       "      <td>2010-07-03</td>\n",
       "      <td>20.0</td>\n",
       "      <td>0</td>\n",
       "      <td>0</td>\n",
       "      <td>-1</td>\n",
       "      <td>-1</td>\n",
       "    </tr>\n",
       "    <tr>\n",
       "      <th>3</th>\n",
       "      <td>2010-07-04</td>\n",
       "      <td>20.0</td>\n",
       "      <td>0</td>\n",
       "      <td>0</td>\n",
       "      <td>-1</td>\n",
       "      <td>-1</td>\n",
       "    </tr>\n",
       "    <tr>\n",
       "      <th>4</th>\n",
       "      <td>2010-07-05</td>\n",
       "      <td>14.0</td>\n",
       "      <td>0</td>\n",
       "      <td>0</td>\n",
       "      <td>-1</td>\n",
       "      <td>-1</td>\n",
       "    </tr>\n",
       "    <tr>\n",
       "      <th>5</th>\n",
       "      <td>2010-07-06</td>\n",
       "      <td>14.0</td>\n",
       "      <td>0</td>\n",
       "      <td>0</td>\n",
       "      <td>-1</td>\n",
       "      <td>-1</td>\n",
       "    </tr>\n",
       "    <tr>\n",
       "      <th>6</th>\n",
       "      <td>2010-07-07</td>\n",
       "      <td>4.0</td>\n",
       "      <td>0</td>\n",
       "      <td>0</td>\n",
       "      <td>-1</td>\n",
       "      <td>-1</td>\n",
       "    </tr>\n",
       "    <tr>\n",
       "      <th>7</th>\n",
       "      <td>2010-07-08</td>\n",
       "      <td>10.0</td>\n",
       "      <td>0</td>\n",
       "      <td>0</td>\n",
       "      <td>-1</td>\n",
       "      <td>-1</td>\n",
       "    </tr>\n",
       "    <tr>\n",
       "      <th>8</th>\n",
       "      <td>2010-07-09</td>\n",
       "      <td>12.0</td>\n",
       "      <td>0</td>\n",
       "      <td>0</td>\n",
       "      <td>-1</td>\n",
       "      <td>-1</td>\n",
       "    </tr>\n",
       "    <tr>\n",
       "      <th>9</th>\n",
       "      <td>2010-07-10</td>\n",
       "      <td>21.0</td>\n",
       "      <td>0</td>\n",
       "      <td>0</td>\n",
       "      <td>-1</td>\n",
       "      <td>-1</td>\n",
       "    </tr>\n",
       "  </tbody>\n",
       "</table>\n",
       "</div>"
      ],
      "text/plain": [
       "    datetime     y  client  close  price_am  price_pm\n",
       "0 2010-07-01  17.0       0      0        -1        -1\n",
       "1 2010-07-02  18.0       0      0        -1        -1\n",
       "2 2010-07-03  20.0       0      0        -1        -1\n",
       "3 2010-07-04  20.0       0      0        -1        -1\n",
       "4 2010-07-05  14.0       0      0        -1        -1\n",
       "5 2010-07-06  14.0       0      0        -1        -1\n",
       "6 2010-07-07   4.0       0      0        -1        -1\n",
       "7 2010-07-08  10.0       0      0        -1        -1\n",
       "8 2010-07-09  12.0       0      0        -1        -1\n",
       "9 2010-07-10  21.0       0      0        -1        -1"
      ]
     },
     "execution_count": 2,
     "metadata": {},
     "output_type": "execute_result"
    }
   ],
   "source": [
    "train=pd.read_csv(\"./train.csv\", parse_dates=[0]) # 日付をdatetime型で取得\n",
    "test=pd.read_csv(\"./test.csv\", parse_dates=[0])\n",
    "submit_sample=pd.read_csv(\"./sample_submit.csv\", header=None)\n",
    "\n",
    "df = pd.concat([train, test], sort=False)\n",
    "df.info()\n",
    "df.head(10)"
   ]
  },
  {
   "cell_type": "markdown",
   "id": "e43737b6",
   "metadata": {},
   "source": [
    "### 日本の休日"
   ]
  },
  {
   "cell_type": "code",
   "execution_count": 3,
   "id": "7b323224",
   "metadata": {},
   "outputs": [
    {
     "data": {
      "text/plain": [
       "False    2353\n",
       "True      113\n",
       "Name: holiday, dtype: int64"
      ]
     },
     "execution_count": 3,
     "metadata": {},
     "output_type": "execute_result"
    }
   ],
   "source": [
    "i = 0\n",
    "df['holiday'] = np.zeros((len(df),))\n",
    "jpholiday_list =[]\n",
    "for date in df['datetime'].dt.date:\n",
    "    DateJ = dt.date(date.year,date.month,date.day)\n",
    "    jpholiday_list.append(jpholiday.is_holiday(DateJ))\n",
    "    i += 1\n",
    "\n",
    "df['holiday'] = jpholiday_list    \n",
    "df['holiday'].value_counts()"
   ]
  },
  {
   "cell_type": "code",
   "execution_count": 4,
   "id": "46b5d537",
   "metadata": {
    "scrolled": true
   },
   "outputs": [
    {
     "data": {
      "text/html": [
       "<div>\n",
       "<style scoped>\n",
       "    .dataframe tbody tr th:only-of-type {\n",
       "        vertical-align: middle;\n",
       "    }\n",
       "\n",
       "    .dataframe tbody tr th {\n",
       "        vertical-align: top;\n",
       "    }\n",
       "\n",
       "    .dataframe thead th {\n",
       "        text-align: right;\n",
       "    }\n",
       "</style>\n",
       "<table border=\"1\" class=\"dataframe\">\n",
       "  <thead>\n",
       "    <tr style=\"text-align: right;\">\n",
       "      <th></th>\n",
       "      <th>datetime</th>\n",
       "      <th>y</th>\n",
       "      <th>client</th>\n",
       "      <th>close</th>\n",
       "      <th>price_am</th>\n",
       "      <th>price_pm</th>\n",
       "      <th>holiday</th>\n",
       "    </tr>\n",
       "  </thead>\n",
       "  <tbody>\n",
       "    <tr>\n",
       "      <th>0</th>\n",
       "      <td>2010-07-01</td>\n",
       "      <td>17.0</td>\n",
       "      <td>0</td>\n",
       "      <td>0</td>\n",
       "      <td>NaN</td>\n",
       "      <td>NaN</td>\n",
       "      <td>False</td>\n",
       "    </tr>\n",
       "    <tr>\n",
       "      <th>1</th>\n",
       "      <td>2010-07-02</td>\n",
       "      <td>18.0</td>\n",
       "      <td>0</td>\n",
       "      <td>0</td>\n",
       "      <td>NaN</td>\n",
       "      <td>NaN</td>\n",
       "      <td>False</td>\n",
       "    </tr>\n",
       "    <tr>\n",
       "      <th>2</th>\n",
       "      <td>2010-07-03</td>\n",
       "      <td>20.0</td>\n",
       "      <td>0</td>\n",
       "      <td>0</td>\n",
       "      <td>NaN</td>\n",
       "      <td>NaN</td>\n",
       "      <td>False</td>\n",
       "    </tr>\n",
       "    <tr>\n",
       "      <th>3</th>\n",
       "      <td>2010-07-04</td>\n",
       "      <td>20.0</td>\n",
       "      <td>0</td>\n",
       "      <td>0</td>\n",
       "      <td>NaN</td>\n",
       "      <td>NaN</td>\n",
       "      <td>False</td>\n",
       "    </tr>\n",
       "    <tr>\n",
       "      <th>4</th>\n",
       "      <td>2010-07-05</td>\n",
       "      <td>14.0</td>\n",
       "      <td>0</td>\n",
       "      <td>0</td>\n",
       "      <td>NaN</td>\n",
       "      <td>NaN</td>\n",
       "      <td>False</td>\n",
       "    </tr>\n",
       "  </tbody>\n",
       "</table>\n",
       "</div>"
      ],
      "text/plain": [
       "    datetime     y  client  close  price_am  price_pm  holiday\n",
       "0 2010-07-01  17.0       0      0       NaN       NaN    False\n",
       "1 2010-07-02  18.0       0      0       NaN       NaN    False\n",
       "2 2010-07-03  20.0       0      0       NaN       NaN    False\n",
       "3 2010-07-04  20.0       0      0       NaN       NaN    False\n",
       "4 2010-07-05  14.0       0      0       NaN       NaN    False"
      ]
     },
     "execution_count": 4,
     "metadata": {},
     "output_type": "execute_result"
    }
   ],
   "source": [
    "df.loc[df['price_am'] == -1, 'price_am'] = np.nan\n",
    "df.loc[df['price_pm'] == -1, 'price_pm'] = np.nan\n",
    "df.loc[df['close'] == 1, 'price_am'] = 0\n",
    "df.loc[df['close'] == 1, 'price_pm'] = 0\n",
    "df.head()"
   ]
  },
  {
   "cell_type": "code",
   "execution_count": 5,
   "id": "47bf5de8",
   "metadata": {},
   "outputs": [],
   "source": [
    "### datimeをdatetime64[ns]型に変更。"
   ]
  },
  {
   "cell_type": "code",
   "execution_count": 6,
   "id": "2e65607d",
   "metadata": {},
   "outputs": [],
   "source": [
    "#df['datetime'] = df.datetime.map(dt.datetime.timestamp)\n",
    "#df['datetime'] = df['datetime'].dt.to_pydatetime()\n",
    "df['year'] = df['datetime'].dt.year\n",
    "df['month'] = df['datetime'].dt.month\n",
    "df['day'] = df['datetime'].dt.day\n",
    "df['weekday'] = df['datetime'].dt.weekday"
   ]
  },
  {
   "cell_type": "code",
   "execution_count": 7,
   "id": "c5360402",
   "metadata": {},
   "outputs": [],
   "source": [
    "def encode(df, col):\n",
    "    # この方法だと場合によって最大値が変化するデータでは正確な値は出ない\n",
    "    # 例：月の日数が30日や31日の場合がある\n",
    "    df[col + '_cos'] = np.cos(2 * np.pi * df[col] / df[col].max())\n",
    "    df[col + '_sin'] = np.sin(2 * np.pi * df[col] / df[col].max())\n",
    "    return df"
   ]
  },
  {
   "cell_type": "code",
   "execution_count": 8,
   "id": "09c284e6",
   "metadata": {},
   "outputs": [],
   "source": [
    "df = encode(df, 'month')\n",
    "df = encode(df, 'day')\n",
    "df = encode(df, 'weekday')"
   ]
  },
  {
   "cell_type": "code",
   "execution_count": 9,
   "id": "ff20117b",
   "metadata": {},
   "outputs": [
    {
     "data": {
      "image/png": "[encoded data removed]",
      "text/plain": [
       "<Figure size 432x288 with 1 Axes>"
      ]
     },
     "metadata": {
      "needs_background": "light"
     },
     "output_type": "display_data"
    },
    {
     "data": {
      "image/png": "[encoded data removed]",
      "text/plain": [
       "<Figure size 432x288 with 1 Axes>"
      ]
     },
     "metadata": {
      "needs_background": "light"
     },
     "output_type": "display_data"
    },
    {
     "data": {
      "image/png": "[encoded data removed]",
      "text/plain": [
       "<Figure size 432x288 with 1 Axes>"
      ]
     },
     "metadata": {
      "needs_background": "light"
     },
     "output_type": "display_data"
    }
   ],
   "source": [
    "df.plot.scatter('month_sin','month_cos').set_aspect('equal')\n",
    "df.plot.scatter('day_sin','day_cos').set_aspect('equal')\n",
    "df.plot.scatter('weekday_sin','weekday_cos').set_aspect('equal')"
   ]
  },
  {
   "cell_type": "code",
   "execution_count": 10,
   "id": "4aa847f0",
   "metadata": {},
   "outputs": [
    {
     "data": {
      "text/html": [
       "<div>\n",
       "<style scoped>\n",
       "    .dataframe tbody tr th:only-of-type {\n",
       "        vertical-align: middle;\n",
       "    }\n",
       "\n",
       "    .dataframe tbody tr th {\n",
       "        vertical-align: top;\n",
       "    }\n",
       "\n",
       "    .dataframe thead th {\n",
       "        text-align: right;\n",
       "    }\n",
       "</style>\n",
       "<table border=\"1\" class=\"dataframe\">\n",
       "  <thead>\n",
       "    <tr style=\"text-align: right;\">\n",
       "      <th></th>\n",
       "      <th>datetime</th>\n",
       "      <th>y</th>\n",
       "      <th>client</th>\n",
       "      <th>close</th>\n",
       "      <th>price_am</th>\n",
       "      <th>price_pm</th>\n",
       "      <th>holiday</th>\n",
       "      <th>year</th>\n",
       "      <th>month</th>\n",
       "      <th>day</th>\n",
       "      <th>weekday</th>\n",
       "      <th>month_cos</th>\n",
       "      <th>month_sin</th>\n",
       "      <th>day_cos</th>\n",
       "      <th>day_sin</th>\n",
       "      <th>weekday_cos</th>\n",
       "      <th>weekday_sin</th>\n",
       "    </tr>\n",
       "  </thead>\n",
       "  <tbody>\n",
       "    <tr>\n",
       "      <th>0</th>\n",
       "      <td>2010-07-01</td>\n",
       "      <td>17.0</td>\n",
       "      <td>0</td>\n",
       "      <td>0</td>\n",
       "      <td>NaN</td>\n",
       "      <td>NaN</td>\n",
       "      <td>False</td>\n",
       "      <td>2010</td>\n",
       "      <td>7</td>\n",
       "      <td>1</td>\n",
       "      <td>3</td>\n",
       "      <td>-0.866025</td>\n",
       "      <td>-0.5</td>\n",
       "      <td>0.979530</td>\n",
       "      <td>0.201299</td>\n",
       "      <td>-1.0</td>\n",
       "      <td>1.224647e-16</td>\n",
       "    </tr>\n",
       "    <tr>\n",
       "      <th>1</th>\n",
       "      <td>2010-07-02</td>\n",
       "      <td>18.0</td>\n",
       "      <td>0</td>\n",
       "      <td>0</td>\n",
       "      <td>NaN</td>\n",
       "      <td>NaN</td>\n",
       "      <td>False</td>\n",
       "      <td>2010</td>\n",
       "      <td>7</td>\n",
       "      <td>2</td>\n",
       "      <td>4</td>\n",
       "      <td>-0.866025</td>\n",
       "      <td>-0.5</td>\n",
       "      <td>0.918958</td>\n",
       "      <td>0.394356</td>\n",
       "      <td>-0.5</td>\n",
       "      <td>-8.660254e-01</td>\n",
       "    </tr>\n",
       "    <tr>\n",
       "      <th>2</th>\n",
       "      <td>2010-07-03</td>\n",
       "      <td>20.0</td>\n",
       "      <td>0</td>\n",
       "      <td>0</td>\n",
       "      <td>NaN</td>\n",
       "      <td>NaN</td>\n",
       "      <td>False</td>\n",
       "      <td>2010</td>\n",
       "      <td>7</td>\n",
       "      <td>3</td>\n",
       "      <td>5</td>\n",
       "      <td>-0.866025</td>\n",
       "      <td>-0.5</td>\n",
       "      <td>0.820763</td>\n",
       "      <td>0.571268</td>\n",
       "      <td>0.5</td>\n",
       "      <td>-8.660254e-01</td>\n",
       "    </tr>\n",
       "    <tr>\n",
       "      <th>3</th>\n",
       "      <td>2010-07-04</td>\n",
       "      <td>20.0</td>\n",
       "      <td>0</td>\n",
       "      <td>0</td>\n",
       "      <td>NaN</td>\n",
       "      <td>NaN</td>\n",
       "      <td>False</td>\n",
       "      <td>2010</td>\n",
       "      <td>7</td>\n",
       "      <td>4</td>\n",
       "      <td>6</td>\n",
       "      <td>-0.866025</td>\n",
       "      <td>-0.5</td>\n",
       "      <td>0.688967</td>\n",
       "      <td>0.724793</td>\n",
       "      <td>1.0</td>\n",
       "      <td>-2.449294e-16</td>\n",
       "    </tr>\n",
       "    <tr>\n",
       "      <th>4</th>\n",
       "      <td>2010-07-05</td>\n",
       "      <td>14.0</td>\n",
       "      <td>0</td>\n",
       "      <td>0</td>\n",
       "      <td>NaN</td>\n",
       "      <td>NaN</td>\n",
       "      <td>False</td>\n",
       "      <td>2010</td>\n",
       "      <td>7</td>\n",
       "      <td>5</td>\n",
       "      <td>0</td>\n",
       "      <td>-0.866025</td>\n",
       "      <td>-0.5</td>\n",
       "      <td>0.528964</td>\n",
       "      <td>0.848644</td>\n",
       "      <td>1.0</td>\n",
       "      <td>0.000000e+00</td>\n",
       "    </tr>\n",
       "  </tbody>\n",
       "</table>\n",
       "</div>"
      ],
      "text/plain": [
       "    datetime     y  client  close  price_am  price_pm  holiday  year  month  \\\n",
       "0 2010-07-01  17.0       0      0       NaN       NaN    False  2010      7   \n",
       "1 2010-07-02  18.0       0      0       NaN       NaN    False  2010      7   \n",
       "2 2010-07-03  20.0       0      0       NaN       NaN    False  2010      7   \n",
       "3 2010-07-04  20.0       0      0       NaN       NaN    False  2010      7   \n",
       "4 2010-07-05  14.0       0      0       NaN       NaN    False  2010      7   \n",
       "\n",
       "   day  weekday  month_cos  month_sin   day_cos   day_sin  weekday_cos  \\\n",
       "0    1        3  -0.866025       -0.5  0.979530  0.201299         -1.0   \n",
       "1    2        4  -0.866025       -0.5  0.918958  0.394356         -0.5   \n",
       "2    3        5  -0.866025       -0.5  0.820763  0.571268          0.5   \n",
       "3    4        6  -0.866025       -0.5  0.688967  0.724793          1.0   \n",
       "4    5        0  -0.866025       -0.5  0.528964  0.848644          1.0   \n",
       "\n",
       "    weekday_sin  \n",
       "0  1.224647e-16  \n",
       "1 -8.660254e-01  \n",
       "2 -8.660254e-01  \n",
       "3 -2.449294e-16  \n",
       "4  0.000000e+00  "
      ]
     },
     "execution_count": 10,
     "metadata": {},
     "output_type": "execute_result"
    }
   ],
   "source": [
    "df.head()\n",
    "#df.info()\n",
    "#df['epoch'] = df['datetime'].map(pd.Timestamp.timestamp) # TimeStamp型に変更\n",
    "#display(df['epoch'])"
   ]
  },
  {
   "cell_type": "code",
   "execution_count": 11,
   "id": "9fb8dc3e",
   "metadata": {},
   "outputs": [],
   "source": [
    "#df=df.drop(['datetime','year'], axis=1)\n",
    "df=df.drop(['datetime'], axis=1)"
   ]
  },
  {
   "cell_type": "markdown",
   "id": "aec2f043",
   "metadata": {},
   "source": [
    "### Fill na"
   ]
  },
  {
   "cell_type": "code",
   "execution_count": 12,
   "id": "f3bd6e92",
   "metadata": {},
   "outputs": [],
   "source": [
    "df['price_am'] = df.groupby(['month', 'weekday'])['price_am'].transform(lambda x: x.fillna(x.mean()))\n",
    "df['price_pm'] = df.groupby(['month', 'weekday'])['price_pm'].transform(lambda x: x.fillna(x.mean()))"
   ]
  },
  {
   "cell_type": "code",
   "execution_count": 13,
   "id": "cf02bc9d",
   "metadata": {},
   "outputs": [],
   "source": [
    "# 各月,曜日ごとの価格のばらつき\n",
    "df['price_am_std'] = df.groupby(['month', 'weekday'])['price_am'].transform(lambda x: x.std())\n",
    "df['price_pm_std'] = df.groupby(['month', 'weekday'])['price_pm'].transform(lambda x: x.std())"
   ]
  },
  {
   "cell_type": "markdown",
   "id": "fb7d7109",
   "metadata": {},
   "source": [
    "### New features"
   ]
  },
  {
   "cell_type": "code",
   "execution_count": 14,
   "id": "a8df3091",
   "metadata": {},
   "outputs": [],
   "source": [
    "df['price'] = (df['price_am'] + df['price_pm'])/2\n",
    "df['price_times'] = df['price_am'] * df['price_pm']"
   ]
  },
  {
   "cell_type": "code",
   "execution_count": 15,
   "id": "b9416d49",
   "metadata": {},
   "outputs": [
    {
     "name": "stdout",
     "output_type": "stream",
     "text": [
      "<class 'pandas.core.frame.DataFrame'>\n",
      "Int64Index: 2466 entries, 0 to 364\n",
      "Data columns (total 20 columns):\n",
      " #   Column        Non-Null Count  Dtype  \n",
      "---  ------        --------------  -----  \n",
      " 0   y             2101 non-null   float64\n",
      " 1   client        2466 non-null   int64  \n",
      " 2   close         2466 non-null   int64  \n",
      " 3   price_am      2466 non-null   float64\n",
      " 4   price_pm      2466 non-null   float64\n",
      " 5   holiday       2466 non-null   bool   \n",
      " 6   year          2466 non-null   int64  \n",
      " 7   month         2466 non-null   int64  \n",
      " 8   day           2466 non-null   int64  \n",
      " 9   weekday       2466 non-null   int64  \n",
      " 10  month_cos     2466 non-null   float64\n",
      " 11  month_sin     2466 non-null   float64\n",
      " 12  day_cos       2466 non-null   float64\n",
      " 13  day_sin       2466 non-null   float64\n",
      " 14  weekday_cos   2466 non-null   float64\n",
      " 15  weekday_sin   2466 non-null   float64\n",
      " 16  price_am_std  2466 non-null   float64\n",
      " 17  price_pm_std  2466 non-null   float64\n",
      " 18  price         2466 non-null   float64\n",
      " 19  price_times   2466 non-null   float64\n",
      "dtypes: bool(1), float64(13), int64(6)\n",
      "memory usage: 387.7 KB\n"
     ]
    }
   ],
   "source": [
    "df.info()"
   ]
  },
  {
   "cell_type": "code",
   "execution_count": 16,
   "id": "fd1bb85c",
   "metadata": {},
   "outputs": [
    {
     "name": "stdout",
     "output_type": "stream",
     "text": [
      "               price_am  price_pm          y\n",
      "month weekday                               \n",
      "1     0        0.129032  0.000000  23.423077\n",
      "      1        0.096774  0.064516  21.846154\n",
      "      2        0.033333  0.000000  22.692308\n",
      "      3        0.161290  0.096774  21.296296\n",
      "      4        0.258065  0.161290  27.444444\n",
      "      5        0.806452  0.419355  36.296296\n",
      "      6        0.375000  0.218750  32.666667\n",
      "2     0        0.586207  0.344828  40.160000\n",
      "      1        0.357143  0.178571  34.083333\n",
      "      2        0.379310  0.206897  34.440000\n",
      "      3        0.357143  0.142857  34.041667\n",
      "      4        0.821429  0.500000  39.083333\n",
      "      5        2.071429  1.535714  46.416667\n",
      "      6        1.392857  0.892857  43.000000\n",
      "3     0        1.933333  1.666667  58.576923\n",
      "      1        2.000000  1.580645  59.185185\n",
      "      2        1.838710  1.709677  56.500000\n",
      "      3        2.031250  1.656250  56.814815\n",
      "      4        2.096774  2.032258  58.038462\n",
      "      5        3.096774  2.741935  59.407407\n",
      "      6        2.677419  2.258065  57.481481\n",
      "4     0        0.730769  0.538462  39.954545\n",
      "      1        0.692308  0.461538  36.863636\n",
      "      2        0.615385  0.384615  36.909091\n",
      "      3        0.400000  0.280000  36.095238\n",
      "      4        1.076923  0.730769  41.047619\n",
      "      5        2.923077  2.423077  46.523810\n",
      "      6        2.120000  1.480000  45.190476\n",
      "5     0        0.307692  0.076923  28.857143\n",
      "      1        0.222222  0.074074  25.409091\n",
      "      2        0.192308  0.076923  25.909091\n",
      "      3        0.259259  0.111111  27.608696\n",
      "      4        0.629630  0.407407  31.347826\n",
      "      5        1.423077  0.961538  36.954545\n",
      "      6        0.962963  0.481481  31.863636\n",
      "6     0        0.230769  0.115385  30.909091\n",
      "      1        0.120000  0.040000  25.761905\n",
      "      2        0.153846  0.038462  21.952381\n",
      "      3        0.230769  0.153846  26.380952\n",
      "      4        0.480000  0.280000  30.666667\n",
      "      5        1.423077  1.153846  45.000000\n",
      "      6        1.115385  0.461538  38.636364\n",
      "7     0        0.346154  0.192308  29.423077\n",
      "      1        0.333333  0.148148  27.333333\n",
      "      2        0.259259  0.111111  25.814815\n",
      "      3        0.192308  0.076923  24.629630\n",
      "      4        0.692308  0.423077  27.814815\n",
      "      5        1.807692  1.192308  36.500000\n",
      "      6        1.407407  0.925926  35.230769\n",
      "8     0        0.148148  0.037037  29.481481\n",
      "      1        0.076923  0.038462  25.076923\n",
      "      2        0.074074  0.074074  23.730769\n",
      "      3        0.153846  0.038462  28.346154\n",
      "      4        0.370370  0.185185  31.111111\n",
      "      5        1.148148  0.851852  35.851852\n",
      "      6        0.730769  0.384615  31.296296\n",
      "9     0        0.538462  0.269231  34.076923\n",
      "      1        0.346154  0.192308  30.807692\n",
      "      2        0.200000  0.120000  27.500000\n",
      "      3        0.307692  0.115385  27.807692\n",
      "      4        0.576923  0.384615  30.320000\n",
      "      5        1.800000  1.200000  36.920000\n",
      "      6        1.500000  1.115385  38.807692\n",
      "10    0        0.518519  0.192308  28.538462\n",
      "      1        0.192308  0.076923  25.769231\n",
      "      2        0.185185  0.074074  28.148148\n",
      "      3        0.222222  0.148148  29.481481\n",
      "      4        0.500000  0.269231  32.222222\n",
      "      5        1.629630  1.111111  39.000000\n",
      "      6        1.346154  0.730769  35.269231\n",
      "11    0        0.120000  0.040000  28.576923\n",
      "      1        0.153846  0.076923  24.000000\n",
      "      2        0.153846  0.076923  24.280000\n",
      "      3        0.160000  0.080000  26.120000\n",
      "      4        0.423077  0.269231  32.269231\n",
      "      5        1.423077  1.000000  38.884615\n",
      "      6        0.807692  0.538462  33.076923\n",
      "12    0        0.370370  0.259259  33.888889\n",
      "      1        0.333333  0.148148  28.962963\n",
      "      2        0.038462  0.000000  29.370370\n",
      "      3        0.259259  0.111111  27.740741\n",
      "      4        0.666667  0.518519  31.538462\n",
      "      5        1.481481  1.148148  38.653846\n",
      "      6        1.192308  0.807692  37.923077\n",
      "      price_am  price_pm          y\n",
      "year                               \n",
      "2010  0.592135  0.368155  16.298913\n",
      "2011  0.779979  0.541412  18.991781\n",
      "2012  0.718579  0.497268  30.500000\n",
      "2013  0.728767  0.473973  40.320548\n",
      "2014  0.835616  0.580822  39.665753\n",
      "2015  0.769863  0.498630  44.597260\n",
      "2016  0.789617  0.573770  55.714286\n",
      "2017  1.211111  1.066667        NaN\n"
     ]
    },
    {
     "name": "stderr",
     "output_type": "stream",
     "text": [
      "<ipython-input-16-ab1e28b0b82f>:2: FutureWarning: Indexing with multiple keys (implicitly converted to a tuple of keys) will be deprecated, use a list instead.\n",
      "  print(df.groupby(['month', 'weekday'])['price_am','price_pm','y'].mean())\n",
      "<ipython-input-16-ab1e28b0b82f>:3: FutureWarning: Indexing with multiple keys (implicitly converted to a tuple of keys) will be deprecated, use a list instead.\n",
      "  print(df.groupby(['year'])['price_am','price_pm','y'].mean())\n"
     ]
    }
   ],
   "source": [
    "pd.set_option('display.max_rows', None)\n",
    "print(df.groupby(['month', 'weekday'])['price_am','price_pm','y'].mean())\n",
    "print(df.groupby(['year'])['price_am','price_pm','y'].mean())"
   ]
  },
  {
   "cell_type": "code",
   "execution_count": 17,
   "id": "95485b72",
   "metadata": {},
   "outputs": [],
   "source": [
    "df['client'] = df['client'].astype(str)\n",
    "df['close'] = df['close'].astype(str)\n",
    "df['month'] = df['month'].astype(str)\n",
    "df['weekday'] = df['weekday'].astype(str)\n",
    "# df['day'] = df['day'].astype(str)\n",
    "#df=df.drop(['month'], axis=1)\n",
    "#df=df.drop(['day'], axis=1)\n",
    "#df=df.drop(['weekday'], axis=1)"
   ]
  },
  {
   "cell_type": "code",
   "execution_count": 18,
   "id": "fb8cd5ec",
   "metadata": {},
   "outputs": [
    {
     "name": "stdout",
     "output_type": "stream",
     "text": [
      "CategoricaL:\n",
      "['client', 'close', 'month', 'weekday']\n",
      "\n",
      "NumericaL:\n",
      "['y', 'price_am', 'price_pm', 'holiday', 'year', 'day', 'month_cos', 'month_sin', 'day_cos', 'day_sin', 'weekday_cos', 'weekday_sin', 'price_am_std', 'price_pm_std', 'price', 'price_times']\n"
     ]
    }
   ],
   "source": [
    "#divide dataset into two parts(categorical, contineous)\n",
    "categorical, numerical = [],[]\n",
    "for z in df.columns:\n",
    "    t = df.dtypes[z]\n",
    "    if t=='object':\n",
    "        categorical.append(z)\n",
    "    else:\n",
    "        numerical.append(z)\n",
    "print(\"CategoricaL:\\n{}\".format(categorical))\n",
    "print(\"\\nNumericaL:\\n{}\".format(numerical))"
   ]
  },
  {
   "cell_type": "markdown",
   "id": "e42b0f4f",
   "metadata": {},
   "source": [
    "### Pandas Profining"
   ]
  },
  {
   "cell_type": "code",
   "execution_count": 19,
   "id": "9a53ae89",
   "metadata": {},
   "outputs": [],
   "source": [
    "#import pandas_profiling\n",
    "\n",
    "#df.profile_report()"
   ]
  },
  {
   "cell_type": "markdown",
   "id": "d3e90125",
   "metadata": {},
   "source": [
    "### Heat map for Correlation coefficient"
   ]
  },
  {
   "cell_type": "code",
   "execution_count": 20,
   "id": "190c7b43",
   "metadata": {},
   "outputs": [
    {
     "data": {
      "text/plain": [
       "<AxesSubplot:>"
      ]
     },
     "execution_count": 20,
     "metadata": {},
     "output_type": "execute_result"
    },
    {
     "data": {
      "image/png": "[encoded data removed]",
      "text/plain": [
       "<Figure size 1080x1080 with 2 Axes>"
      ]
     },
     "metadata": {
      "needs_background": "light"
     },
     "output_type": "display_data"
    }
   ],
   "source": [
    "df_corr = df.corr()\n",
    "plt.figure(figsize=(15, 15)) \n",
    "sns.heatmap(df_corr, vmax=1, vmin=-1, center=0, square=True, annot=True)"
   ]
  },
  {
   "cell_type": "markdown",
   "id": "2a9bb8be",
   "metadata": {},
   "source": [
    "### Histogram"
   ]
  },
  {
   "cell_type": "code",
   "execution_count": 21,
   "id": "a25fb876",
   "metadata": {},
   "outputs": [
    {
     "name": "stderr",
     "output_type": "stream",
     "text": [
      "C:\\anaconda\\lib\\site-packages\\seaborn\\distributions.py:2557: FutureWarning: `distplot` is a deprecated function and will be removed in a future version. Please adapt your code to use either `displot` (a figure-level function with similar flexibility) or `histplot` (an axes-level function for histograms).\n",
      "  warnings.warn(msg, FutureWarning)\n",
      "No handles with labels found to put in legend.\n"
     ]
    },
    {
     "data": {
      "image/png": "[encoded data removed]",
      "text/plain": [
       "<Figure size 1080x360 with 2 Axes>"
      ]
     },
     "metadata": {
      "needs_background": "light"
     },
     "output_type": "display_data"
    }
   ],
   "source": [
    "fig, ax = plt.subplots(1,2, figsize= (15,5))\n",
    "# Histogram\n",
    "sns.distplot(\n",
    "    train['y'], label='y',\n",
    "    kde_kws={'label': 'kde','color':'k'},\n",
    "    fit=norm,fit_kws={'label': 'norm','color':'red'},\n",
    "    ax = ax[0]\n",
    ")\n",
    "ax[0].set_title(\"Histogram\")\n",
    "ax[0].grid(True)\n",
    "\n",
    "# QQplot\n",
    "sm.qqplot(train['y'], stats.t, distargs=(4,),fit=True, line=\"45\", ax = ax[1])\n",
    "ax[1].set_title(\"QQplot\")\n",
    "ax[1].grid(True)\n",
    "\n",
    "plt.legend() # 凡例を表示\n",
    "plt.show() #グラフ表示"
   ]
  },
  {
   "cell_type": "markdown",
   "id": "5c865681",
   "metadata": {},
   "source": [
    "### Dummy"
   ]
  },
  {
   "cell_type": "code",
   "execution_count": 22,
   "id": "f2a7588f",
   "metadata": {},
   "outputs": [],
   "source": [
    "df =pd.get_dummies(df, columns=categorical, drop_first=True)"
   ]
  },
  {
   "cell_type": "code",
   "execution_count": 23,
   "id": "73286739",
   "metadata": {},
   "outputs": [
    {
     "data": {
      "text/plain": [
       "2101"
      ]
     },
     "execution_count": 23,
     "metadata": {},
     "output_type": "execute_result"
    }
   ],
   "source": [
    "df.head(10)\n",
    "len(train)"
   ]
  },
  {
   "cell_type": "code",
   "execution_count": 24,
   "id": "52be15bf",
   "metadata": {},
   "outputs": [
    {
     "name": "stdout",
     "output_type": "stream",
     "text": [
      "[[0.19230769 0.07692308]\n",
      " [0.69230769 0.42307692]\n",
      " [1.80769231 1.19230769]\n",
      " ...\n",
      " [4.         4.        ]\n",
      " [5.         4.        ]\n",
      " [5.         4.        ]]\n",
      "[[-0.5701635  -0.51549656]\n",
      " [-0.07417687 -0.11655155]\n",
      " [ 1.03225484  0.76999291]\n",
      " ...\n",
      " [ 3.20696545  4.00588022]\n",
      " [ 4.19893871  4.00588022]\n",
      " [ 4.19893871  4.00588022]]\n"
     ]
    },
    {
     "data": {
      "text/html": [
       "<div>\n",
       "<style scoped>\n",
       "    .dataframe tbody tr th:only-of-type {\n",
       "        vertical-align: middle;\n",
       "    }\n",
       "\n",
       "    .dataframe tbody tr th {\n",
       "        vertical-align: top;\n",
       "    }\n",
       "\n",
       "    .dataframe thead th {\n",
       "        text-align: right;\n",
       "    }\n",
       "</style>\n",
       "<table border=\"1\" class=\"dataframe\">\n",
       "  <thead>\n",
       "    <tr style=\"text-align: right;\">\n",
       "      <th></th>\n",
       "      <th>y</th>\n",
       "      <th>price_am</th>\n",
       "      <th>price_pm</th>\n",
       "      <th>holiday</th>\n",
       "      <th>year</th>\n",
       "      <th>day</th>\n",
       "      <th>month_cos</th>\n",
       "      <th>month_sin</th>\n",
       "      <th>day_cos</th>\n",
       "      <th>day_sin</th>\n",
       "      <th>...</th>\n",
       "      <th>month_6</th>\n",
       "      <th>month_7</th>\n",
       "      <th>month_8</th>\n",
       "      <th>month_9</th>\n",
       "      <th>weekday_1</th>\n",
       "      <th>weekday_2</th>\n",
       "      <th>weekday_3</th>\n",
       "      <th>weekday_4</th>\n",
       "      <th>weekday_5</th>\n",
       "      <th>weekday_6</th>\n",
       "    </tr>\n",
       "  </thead>\n",
       "  <tbody>\n",
       "    <tr>\n",
       "      <th>0</th>\n",
       "      <td>17.0</td>\n",
       "      <td>-0.570164</td>\n",
       "      <td>-0.515497</td>\n",
       "      <td>False</td>\n",
       "      <td>2010</td>\n",
       "      <td>1</td>\n",
       "      <td>-0.866025</td>\n",
       "      <td>-0.5</td>\n",
       "      <td>0.979530</td>\n",
       "      <td>0.201299</td>\n",
       "      <td>...</td>\n",
       "      <td>0</td>\n",
       "      <td>1</td>\n",
       "      <td>0</td>\n",
       "      <td>0</td>\n",
       "      <td>0</td>\n",
       "      <td>0</td>\n",
       "      <td>1</td>\n",
       "      <td>0</td>\n",
       "      <td>0</td>\n",
       "      <td>0</td>\n",
       "    </tr>\n",
       "    <tr>\n",
       "      <th>1</th>\n",
       "      <td>18.0</td>\n",
       "      <td>-0.074177</td>\n",
       "      <td>-0.116552</td>\n",
       "      <td>False</td>\n",
       "      <td>2010</td>\n",
       "      <td>2</td>\n",
       "      <td>-0.866025</td>\n",
       "      <td>-0.5</td>\n",
       "      <td>0.918958</td>\n",
       "      <td>0.394356</td>\n",
       "      <td>...</td>\n",
       "      <td>0</td>\n",
       "      <td>1</td>\n",
       "      <td>0</td>\n",
       "      <td>0</td>\n",
       "      <td>0</td>\n",
       "      <td>0</td>\n",
       "      <td>0</td>\n",
       "      <td>1</td>\n",
       "      <td>0</td>\n",
       "      <td>0</td>\n",
       "    </tr>\n",
       "    <tr>\n",
       "      <th>2</th>\n",
       "      <td>20.0</td>\n",
       "      <td>1.032255</td>\n",
       "      <td>0.769993</td>\n",
       "      <td>False</td>\n",
       "      <td>2010</td>\n",
       "      <td>3</td>\n",
       "      <td>-0.866025</td>\n",
       "      <td>-0.5</td>\n",
       "      <td>0.820763</td>\n",
       "      <td>0.571268</td>\n",
       "      <td>...</td>\n",
       "      <td>0</td>\n",
       "      <td>1</td>\n",
       "      <td>0</td>\n",
       "      <td>0</td>\n",
       "      <td>0</td>\n",
       "      <td>0</td>\n",
       "      <td>0</td>\n",
       "      <td>0</td>\n",
       "      <td>1</td>\n",
       "      <td>0</td>\n",
       "    </tr>\n",
       "    <tr>\n",
       "      <th>3</th>\n",
       "      <td>20.0</td>\n",
       "      <td>0.635183</td>\n",
       "      <td>0.462986</td>\n",
       "      <td>False</td>\n",
       "      <td>2010</td>\n",
       "      <td>4</td>\n",
       "      <td>-0.866025</td>\n",
       "      <td>-0.5</td>\n",
       "      <td>0.688967</td>\n",
       "      <td>0.724793</td>\n",
       "      <td>...</td>\n",
       "      <td>0</td>\n",
       "      <td>1</td>\n",
       "      <td>0</td>\n",
       "      <td>0</td>\n",
       "      <td>0</td>\n",
       "      <td>0</td>\n",
       "      <td>0</td>\n",
       "      <td>0</td>\n",
       "      <td>0</td>\n",
       "      <td>1</td>\n",
       "    </tr>\n",
       "    <tr>\n",
       "      <th>4</th>\n",
       "      <td>14.0</td>\n",
       "      <td>-0.417552</td>\n",
       "      <td>-0.382515</td>\n",
       "      <td>False</td>\n",
       "      <td>2010</td>\n",
       "      <td>5</td>\n",
       "      <td>-0.866025</td>\n",
       "      <td>-0.5</td>\n",
       "      <td>0.528964</td>\n",
       "      <td>0.848644</td>\n",
       "      <td>...</td>\n",
       "      <td>0</td>\n",
       "      <td>1</td>\n",
       "      <td>0</td>\n",
       "      <td>0</td>\n",
       "      <td>0</td>\n",
       "      <td>0</td>\n",
       "      <td>0</td>\n",
       "      <td>0</td>\n",
       "      <td>0</td>\n",
       "      <td>0</td>\n",
       "    </tr>\n",
       "  </tbody>\n",
       "</table>\n",
       "<p>5 rows × 35 columns</p>\n",
       "</div>"
      ],
      "text/plain": [
       "      y  price_am  price_pm  holiday  year  day  month_cos  month_sin  \\\n",
       "0  17.0 -0.570164 -0.515497    False  2010    1  -0.866025       -0.5   \n",
       "1  18.0 -0.074177 -0.116552    False  2010    2  -0.866025       -0.5   \n",
       "2  20.0  1.032255  0.769993    False  2010    3  -0.866025       -0.5   \n",
       "3  20.0  0.635183  0.462986    False  2010    4  -0.866025       -0.5   \n",
       "4  14.0 -0.417552 -0.382515    False  2010    5  -0.866025       -0.5   \n",
       "\n",
       "    day_cos   day_sin  ...  month_6  month_7  month_8  month_9  weekday_1  \\\n",
       "0  0.979530  0.201299  ...        0        1        0        0          0   \n",
       "1  0.918958  0.394356  ...        0        1        0        0          0   \n",
       "2  0.820763  0.571268  ...        0        1        0        0          0   \n",
       "3  0.688967  0.724793  ...        0        1        0        0          0   \n",
       "4  0.528964  0.848644  ...        0        1        0        0          0   \n",
       "\n",
       "   weekday_2  weekday_3  weekday_4  weekday_5  weekday_6  \n",
       "0          0          1          0          0          0  \n",
       "1          0          0          1          0          0  \n",
       "2          0          0          0          1          0  \n",
       "3          0          0          0          0          1  \n",
       "4          0          0          0          0          0  \n",
       "\n",
       "[5 rows x 35 columns]"
      ]
     },
     "execution_count": 24,
     "metadata": {},
     "output_type": "execute_result"
    }
   ],
   "source": [
    "#df[['price_am', 'price_pm']]\n",
    "from sklearn.preprocessing import StandardScaler\n",
    "scaler = StandardScaler()\n",
    "X_tmp = df[['price_am', 'price_pm']].to_numpy()\n",
    "X_train_tmp = X_tmp[:len(train)]\n",
    "X_test_tmp = X_tmp[len(train):]\n",
    "\n",
    "scaler.fit(X_train_tmp)\n",
    "X_train_scaled = scaler.transform(X_train_tmp)\n",
    "X_test_scaled = scaler.transform(X_test_tmp)\n",
    "\n",
    "print(X_train_tmp)\n",
    "print(X_train_scaled)\n",
    "\n",
    "df_train = pd.DataFrame(X_train_scaled)\n",
    "df_test = pd.DataFrame(X_test_scaled)\n",
    "#df_concat = pd.concat([df_train,df_test], sort=False)\n",
    "df[['price_am', 'price_pm']] = pd.concat([df_train,df_test], sort=False)\n",
    "df.head()"
   ]
  },
  {
   "cell_type": "markdown",
   "id": "377e8c89",
   "metadata": {},
   "source": [
    "### Separate Data"
   ]
  },
  {
   "cell_type": "code",
   "execution_count": 25,
   "id": "0bae0102",
   "metadata": {},
   "outputs": [],
   "source": [
    "train = df[:len(train)]\n",
    "test = df[len(train):]"
   ]
  },
  {
   "cell_type": "code",
   "execution_count": 26,
   "id": "6eb73d4b",
   "metadata": {},
   "outputs": [],
   "source": [
    "y_train = train['y']\n",
    "X_train = train.drop(['y'], axis=1)\n",
    "X_test = test.drop(['y'], axis=1)"
   ]
  },
  {
   "cell_type": "code",
   "execution_count": 27,
   "id": "5b6391c2",
   "metadata": {},
   "outputs": [],
   "source": [
    "### 線形回帰"
   ]
  },
  {
   "cell_type": "code",
   "execution_count": 28,
   "id": "1fa31948",
   "metadata": {},
   "outputs": [],
   "source": [
    "from sklearn.linear_model import Lasso, Ridge, LassoCV, RidgeCV\n",
    "from sklearn.model_selection import GridSearchCV, cross_val_score, train_test_split\n",
    "from sklearn.svm import SVC\n",
    "from sklearn.preprocessing import StandardScaler"
   ]
  },
  {
   "cell_type": "code",
   "execution_count": 29,
   "id": "254a26ae",
   "metadata": {},
   "outputs": [
    {
     "name": "stdout",
     "output_type": "stream",
     "text": [
      "<class 'pandas.core.frame.DataFrame'>\n",
      "Int64Index: 2466 entries, 0 to 364\n",
      "Data columns (total 35 columns):\n",
      " #   Column        Non-Null Count  Dtype  \n",
      "---  ------        --------------  -----  \n",
      " 0   y             2101 non-null   float64\n",
      " 1   price_am      2466 non-null   float64\n",
      " 2   price_pm      2466 non-null   float64\n",
      " 3   holiday       2466 non-null   bool   \n",
      " 4   year          2466 non-null   int64  \n",
      " 5   day           2466 non-null   int64  \n",
      " 6   month_cos     2466 non-null   float64\n",
      " 7   month_sin     2466 non-null   float64\n",
      " 8   day_cos       2466 non-null   float64\n",
      " 9   day_sin       2466 non-null   float64\n",
      " 10  weekday_cos   2466 non-null   float64\n",
      " 11  weekday_sin   2466 non-null   float64\n",
      " 12  price_am_std  2466 non-null   float64\n",
      " 13  price_pm_std  2466 non-null   float64\n",
      " 14  price         2466 non-null   float64\n",
      " 15  price_times   2466 non-null   float64\n",
      " 16  client_1      2466 non-null   uint8  \n",
      " 17  close_1       2466 non-null   uint8  \n",
      " 18  month_10      2466 non-null   uint8  \n",
      " 19  month_11      2466 non-null   uint8  \n",
      " 20  month_12      2466 non-null   uint8  \n",
      " 21  month_2       2466 non-null   uint8  \n",
      " 22  month_3       2466 non-null   uint8  \n",
      " 23  month_4       2466 non-null   uint8  \n",
      " 24  month_5       2466 non-null   uint8  \n",
      " 25  month_6       2466 non-null   uint8  \n",
      " 26  month_7       2466 non-null   uint8  \n",
      " 27  month_8       2466 non-null   uint8  \n",
      " 28  month_9       2466 non-null   uint8  \n",
      " 29  weekday_1     2466 non-null   uint8  \n",
      " 30  weekday_2     2466 non-null   uint8  \n",
      " 31  weekday_3     2466 non-null   uint8  \n",
      " 32  weekday_4     2466 non-null   uint8  \n",
      " 33  weekday_5     2466 non-null   uint8  \n",
      " 34  weekday_6     2466 non-null   uint8  \n",
      "dtypes: bool(1), float64(13), int64(2), uint8(19)\n",
      "memory usage: 356.4 KB\n"
     ]
    },
    {
     "data": {
      "text/html": [
       "<div>\n",
       "<style scoped>\n",
       "    .dataframe tbody tr th:only-of-type {\n",
       "        vertical-align: middle;\n",
       "    }\n",
       "\n",
       "    .dataframe tbody tr th {\n",
       "        vertical-align: top;\n",
       "    }\n",
       "\n",
       "    .dataframe thead th {\n",
       "        text-align: right;\n",
       "    }\n",
       "</style>\n",
       "<table border=\"1\" class=\"dataframe\">\n",
       "  <thead>\n",
       "    <tr style=\"text-align: right;\">\n",
       "      <th></th>\n",
       "      <th>y</th>\n",
       "      <th>price_am</th>\n",
       "      <th>price_pm</th>\n",
       "      <th>holiday</th>\n",
       "      <th>year</th>\n",
       "      <th>day</th>\n",
       "      <th>month_cos</th>\n",
       "      <th>month_sin</th>\n",
       "      <th>day_cos</th>\n",
       "      <th>day_sin</th>\n",
       "      <th>...</th>\n",
       "      <th>month_6</th>\n",
       "      <th>month_7</th>\n",
       "      <th>month_8</th>\n",
       "      <th>month_9</th>\n",
       "      <th>weekday_1</th>\n",
       "      <th>weekday_2</th>\n",
       "      <th>weekday_3</th>\n",
       "      <th>weekday_4</th>\n",
       "      <th>weekday_5</th>\n",
       "      <th>weekday_6</th>\n",
       "    </tr>\n",
       "  </thead>\n",
       "  <tbody>\n",
       "    <tr>\n",
       "      <th>0</th>\n",
       "      <td>17.0</td>\n",
       "      <td>-0.570164</td>\n",
       "      <td>-0.515497</td>\n",
       "      <td>False</td>\n",
       "      <td>2010</td>\n",
       "      <td>1</td>\n",
       "      <td>-0.866025</td>\n",
       "      <td>-0.5</td>\n",
       "      <td>0.979530</td>\n",
       "      <td>0.201299</td>\n",
       "      <td>...</td>\n",
       "      <td>0</td>\n",
       "      <td>1</td>\n",
       "      <td>0</td>\n",
       "      <td>0</td>\n",
       "      <td>0</td>\n",
       "      <td>0</td>\n",
       "      <td>1</td>\n",
       "      <td>0</td>\n",
       "      <td>0</td>\n",
       "      <td>0</td>\n",
       "    </tr>\n",
       "    <tr>\n",
       "      <th>1</th>\n",
       "      <td>18.0</td>\n",
       "      <td>-0.074177</td>\n",
       "      <td>-0.116552</td>\n",
       "      <td>False</td>\n",
       "      <td>2010</td>\n",
       "      <td>2</td>\n",
       "      <td>-0.866025</td>\n",
       "      <td>-0.5</td>\n",
       "      <td>0.918958</td>\n",
       "      <td>0.394356</td>\n",
       "      <td>...</td>\n",
       "      <td>0</td>\n",
       "      <td>1</td>\n",
       "      <td>0</td>\n",
       "      <td>0</td>\n",
       "      <td>0</td>\n",
       "      <td>0</td>\n",
       "      <td>0</td>\n",
       "      <td>1</td>\n",
       "      <td>0</td>\n",
       "      <td>0</td>\n",
       "    </tr>\n",
       "    <tr>\n",
       "      <th>2</th>\n",
       "      <td>20.0</td>\n",
       "      <td>1.032255</td>\n",
       "      <td>0.769993</td>\n",
       "      <td>False</td>\n",
       "      <td>2010</td>\n",
       "      <td>3</td>\n",
       "      <td>-0.866025</td>\n",
       "      <td>-0.5</td>\n",
       "      <td>0.820763</td>\n",
       "      <td>0.571268</td>\n",
       "      <td>...</td>\n",
       "      <td>0</td>\n",
       "      <td>1</td>\n",
       "      <td>0</td>\n",
       "      <td>0</td>\n",
       "      <td>0</td>\n",
       "      <td>0</td>\n",
       "      <td>0</td>\n",
       "      <td>0</td>\n",
       "      <td>1</td>\n",
       "      <td>0</td>\n",
       "    </tr>\n",
       "    <tr>\n",
       "      <th>3</th>\n",
       "      <td>20.0</td>\n",
       "      <td>0.635183</td>\n",
       "      <td>0.462986</td>\n",
       "      <td>False</td>\n",
       "      <td>2010</td>\n",
       "      <td>4</td>\n",
       "      <td>-0.866025</td>\n",
       "      <td>-0.5</td>\n",
       "      <td>0.688967</td>\n",
       "      <td>0.724793</td>\n",
       "      <td>...</td>\n",
       "      <td>0</td>\n",
       "      <td>1</td>\n",
       "      <td>0</td>\n",
       "      <td>0</td>\n",
       "      <td>0</td>\n",
       "      <td>0</td>\n",
       "      <td>0</td>\n",
       "      <td>0</td>\n",
       "      <td>0</td>\n",
       "      <td>1</td>\n",
       "    </tr>\n",
       "    <tr>\n",
       "      <th>4</th>\n",
       "      <td>14.0</td>\n",
       "      <td>-0.417552</td>\n",
       "      <td>-0.382515</td>\n",
       "      <td>False</td>\n",
       "      <td>2010</td>\n",
       "      <td>5</td>\n",
       "      <td>-0.866025</td>\n",
       "      <td>-0.5</td>\n",
       "      <td>0.528964</td>\n",
       "      <td>0.848644</td>\n",
       "      <td>...</td>\n",
       "      <td>0</td>\n",
       "      <td>1</td>\n",
       "      <td>0</td>\n",
       "      <td>0</td>\n",
       "      <td>0</td>\n",
       "      <td>0</td>\n",
       "      <td>0</td>\n",
       "      <td>0</td>\n",
       "      <td>0</td>\n",
       "      <td>0</td>\n",
       "    </tr>\n",
       "  </tbody>\n",
       "</table>\n",
       "<p>5 rows × 35 columns</p>\n",
       "</div>"
      ],
      "text/plain": [
       "      y  price_am  price_pm  holiday  year  day  month_cos  month_sin  \\\n",
       "0  17.0 -0.570164 -0.515497    False  2010    1  -0.866025       -0.5   \n",
       "1  18.0 -0.074177 -0.116552    False  2010    2  -0.866025       -0.5   \n",
       "2  20.0  1.032255  0.769993    False  2010    3  -0.866025       -0.5   \n",
       "3  20.0  0.635183  0.462986    False  2010    4  -0.866025       -0.5   \n",
       "4  14.0 -0.417552 -0.382515    False  2010    5  -0.866025       -0.5   \n",
       "\n",
       "    day_cos   day_sin  ...  month_6  month_7  month_8  month_9  weekday_1  \\\n",
       "0  0.979530  0.201299  ...        0        1        0        0          0   \n",
       "1  0.918958  0.394356  ...        0        1        0        0          0   \n",
       "2  0.820763  0.571268  ...        0        1        0        0          0   \n",
       "3  0.688967  0.724793  ...        0        1        0        0          0   \n",
       "4  0.528964  0.848644  ...        0        1        0        0          0   \n",
       "\n",
       "   weekday_2  weekday_3  weekday_4  weekday_5  weekday_6  \n",
       "0          0          1          0          0          0  \n",
       "1          0          0          1          0          0  \n",
       "2          0          0          0          1          0  \n",
       "3          0          0          0          0          1  \n",
       "4          0          0          0          0          0  \n",
       "\n",
       "[5 rows x 35 columns]"
      ]
     },
     "execution_count": 29,
     "metadata": {},
     "output_type": "execute_result"
    }
   ],
   "source": [
    "df.info()\n",
    "df.head()"
   ]
  },
  {
   "cell_type": "code",
   "execution_count": 30,
   "id": "3a1ffc6c",
   "metadata": {},
   "outputs": [],
   "source": [
    "## データセットの標準化準備\n",
    "##scaler= StandardScaler()\n",
    "## データセットの標準化\n",
    "#scaler.fit(X_train)\n",
    "#X_train_scaler = scaler.transform(X_train)\n",
    "#X_test_scaler  = scaler.transform(X_test)\n"
   ]
  },
  {
   "cell_type": "code",
   "execution_count": 31,
   "id": "df5f713a",
   "metadata": {},
   "outputs": [],
   "source": [
    "#from sklearn.preprocessing import PolynomialFeatures\n",
    "#poly = PolynomialFeatures(degree=2).fit(X_train_scaler[:,0:1])\n",
    "#X_train_poly=poly.transform(X_train_scaler[:,0:1])\n",
    "#X_test_poly=poly.transform(X_test_scaler[:,0:1])\n",
    "#print(\"X_train.shape: {}\".format(X_train.shape))\n",
    "#print(\"X_train_poly.shape: {}\".format(X_train_poly.shape))"
   ]
  },
  {
   "cell_type": "code",
   "execution_count": 32,
   "id": "8f725794",
   "metadata": {},
   "outputs": [
    {
     "data": {
      "text/html": [
       "<div>\n",
       "<style scoped>\n",
       "    .dataframe tbody tr th:only-of-type {\n",
       "        vertical-align: middle;\n",
       "    }\n",
       "\n",
       "    .dataframe tbody tr th {\n",
       "        vertical-align: top;\n",
       "    }\n",
       "\n",
       "    .dataframe thead th {\n",
       "        text-align: right;\n",
       "    }\n",
       "</style>\n",
       "<table border=\"1\" class=\"dataframe\">\n",
       "  <thead>\n",
       "    <tr style=\"text-align: right;\">\n",
       "      <th></th>\n",
       "      <th>price_am</th>\n",
       "      <th>price_pm</th>\n",
       "      <th>holiday</th>\n",
       "      <th>year</th>\n",
       "      <th>day</th>\n",
       "      <th>month_cos</th>\n",
       "      <th>month_sin</th>\n",
       "      <th>day_cos</th>\n",
       "      <th>day_sin</th>\n",
       "      <th>weekday_cos</th>\n",
       "      <th>...</th>\n",
       "      <th>month_6</th>\n",
       "      <th>month_7</th>\n",
       "      <th>month_8</th>\n",
       "      <th>month_9</th>\n",
       "      <th>weekday_1</th>\n",
       "      <th>weekday_2</th>\n",
       "      <th>weekday_3</th>\n",
       "      <th>weekday_4</th>\n",
       "      <th>weekday_5</th>\n",
       "      <th>weekday_6</th>\n",
       "    </tr>\n",
       "  </thead>\n",
       "  <tbody>\n",
       "    <tr>\n",
       "      <th>0</th>\n",
       "      <td>-0.570164</td>\n",
       "      <td>-0.515497</td>\n",
       "      <td>False</td>\n",
       "      <td>2010</td>\n",
       "      <td>1</td>\n",
       "      <td>-0.866025</td>\n",
       "      <td>-0.5</td>\n",
       "      <td>0.979530</td>\n",
       "      <td>0.201299</td>\n",
       "      <td>-1.0</td>\n",
       "      <td>...</td>\n",
       "      <td>0</td>\n",
       "      <td>1</td>\n",
       "      <td>0</td>\n",
       "      <td>0</td>\n",
       "      <td>0</td>\n",
       "      <td>0</td>\n",
       "      <td>1</td>\n",
       "      <td>0</td>\n",
       "      <td>0</td>\n",
       "      <td>0</td>\n",
       "    </tr>\n",
       "    <tr>\n",
       "      <th>1</th>\n",
       "      <td>-0.074177</td>\n",
       "      <td>-0.116552</td>\n",
       "      <td>False</td>\n",
       "      <td>2010</td>\n",
       "      <td>2</td>\n",
       "      <td>-0.866025</td>\n",
       "      <td>-0.5</td>\n",
       "      <td>0.918958</td>\n",
       "      <td>0.394356</td>\n",
       "      <td>-0.5</td>\n",
       "      <td>...</td>\n",
       "      <td>0</td>\n",
       "      <td>1</td>\n",
       "      <td>0</td>\n",
       "      <td>0</td>\n",
       "      <td>0</td>\n",
       "      <td>0</td>\n",
       "      <td>0</td>\n",
       "      <td>1</td>\n",
       "      <td>0</td>\n",
       "      <td>0</td>\n",
       "    </tr>\n",
       "    <tr>\n",
       "      <th>2</th>\n",
       "      <td>1.032255</td>\n",
       "      <td>0.769993</td>\n",
       "      <td>False</td>\n",
       "      <td>2010</td>\n",
       "      <td>3</td>\n",
       "      <td>-0.866025</td>\n",
       "      <td>-0.5</td>\n",
       "      <td>0.820763</td>\n",
       "      <td>0.571268</td>\n",
       "      <td>0.5</td>\n",
       "      <td>...</td>\n",
       "      <td>0</td>\n",
       "      <td>1</td>\n",
       "      <td>0</td>\n",
       "      <td>0</td>\n",
       "      <td>0</td>\n",
       "      <td>0</td>\n",
       "      <td>0</td>\n",
       "      <td>0</td>\n",
       "      <td>1</td>\n",
       "      <td>0</td>\n",
       "    </tr>\n",
       "    <tr>\n",
       "      <th>3</th>\n",
       "      <td>0.635183</td>\n",
       "      <td>0.462986</td>\n",
       "      <td>False</td>\n",
       "      <td>2010</td>\n",
       "      <td>4</td>\n",
       "      <td>-0.866025</td>\n",
       "      <td>-0.5</td>\n",
       "      <td>0.688967</td>\n",
       "      <td>0.724793</td>\n",
       "      <td>1.0</td>\n",
       "      <td>...</td>\n",
       "      <td>0</td>\n",
       "      <td>1</td>\n",
       "      <td>0</td>\n",
       "      <td>0</td>\n",
       "      <td>0</td>\n",
       "      <td>0</td>\n",
       "      <td>0</td>\n",
       "      <td>0</td>\n",
       "      <td>0</td>\n",
       "      <td>1</td>\n",
       "    </tr>\n",
       "    <tr>\n",
       "      <th>4</th>\n",
       "      <td>-0.417552</td>\n",
       "      <td>-0.382515</td>\n",
       "      <td>False</td>\n",
       "      <td>2010</td>\n",
       "      <td>5</td>\n",
       "      <td>-0.866025</td>\n",
       "      <td>-0.5</td>\n",
       "      <td>0.528964</td>\n",
       "      <td>0.848644</td>\n",
       "      <td>1.0</td>\n",
       "      <td>...</td>\n",
       "      <td>0</td>\n",
       "      <td>1</td>\n",
       "      <td>0</td>\n",
       "      <td>0</td>\n",
       "      <td>0</td>\n",
       "      <td>0</td>\n",
       "      <td>0</td>\n",
       "      <td>0</td>\n",
       "      <td>0</td>\n",
       "      <td>0</td>\n",
       "    </tr>\n",
       "  </tbody>\n",
       "</table>\n",
       "<p>5 rows × 34 columns</p>\n",
       "</div>"
      ],
      "text/plain": [
       "   price_am  price_pm  holiday  year  day  month_cos  month_sin   day_cos  \\\n",
       "0 -0.570164 -0.515497    False  2010    1  -0.866025       -0.5  0.979530   \n",
       "1 -0.074177 -0.116552    False  2010    2  -0.866025       -0.5  0.918958   \n",
       "2  1.032255  0.769993    False  2010    3  -0.866025       -0.5  0.820763   \n",
       "3  0.635183  0.462986    False  2010    4  -0.866025       -0.5  0.688967   \n",
       "4 -0.417552 -0.382515    False  2010    5  -0.866025       -0.5  0.528964   \n",
       "\n",
       "    day_sin  weekday_cos  ...  month_6  month_7  month_8  month_9  weekday_1  \\\n",
       "0  0.201299         -1.0  ...        0        1        0        0          0   \n",
       "1  0.394356         -0.5  ...        0        1        0        0          0   \n",
       "2  0.571268          0.5  ...        0        1        0        0          0   \n",
       "3  0.724793          1.0  ...        0        1        0        0          0   \n",
       "4  0.848644          1.0  ...        0        1        0        0          0   \n",
       "\n",
       "   weekday_2  weekday_3  weekday_4  weekday_5  weekday_6  \n",
       "0          0          1          0          0          0  \n",
       "1          0          0          1          0          0  \n",
       "2          0          0          0          1          0  \n",
       "3          0          0          0          0          1  \n",
       "4          0          0          0          0          0  \n",
       "\n",
       "[5 rows x 34 columns]"
      ]
     },
     "execution_count": 32,
     "metadata": {},
     "output_type": "execute_result"
    }
   ],
   "source": [
    "X_train.head()"
   ]
  },
  {
   "cell_type": "code",
   "execution_count": 33,
   "id": "20ff6c6f",
   "metadata": {},
   "outputs": [
    {
     "name": "stdout",
     "output_type": "stream",
     "text": [
      "{'alpha': 0.0031622776601682888}\n",
      "R^2 = 0.7556135633629052\n",
      "MAE = 6.707557715220186\n"
     ]
    },
    {
     "name": "stderr",
     "output_type": "stream",
     "text": [
      "C:\\anaconda\\lib\\site-packages\\sklearn\\linear_model\\_coordinate_descent.py:530: ConvergenceWarning: Objective did not converge. You might want to increase the number of iterations. Duality gap: 1928.6963081468712, tolerance: 64.13793860066633\n",
      "  model = cd_fast.enet_coordinate_descent(\n"
     ]
    }
   ],
   "source": [
    "# Lasso 交差検証準備\n",
    "# clf = LassoCV(alphas=10 ** np.arange(-6, 1, 0.1), cv = 5)\n",
    "\n",
    "params_grid = {\n",
    "    'alpha': 10 ** np.arange(-6, 1, 0.1)\n",
    "}\n",
    "# パラメータチューニング\n",
    "clf = GridSearchCV(\n",
    "    estimator = Lasso(),\n",
    "    param_grid = params_grid,\n",
    "    cv = 5,\n",
    "    scoring='r2',\n",
    "    n_jobs = -1\n",
    "    )\n",
    "# 線形モデルの重みを学習\n",
    "clf.fit(X_train, y_train) \n",
    "\n",
    "# チューニングしたモデル\n",
    "best_param = clf.best_params_\n",
    "lasso_tuned = clf.best_estimator_\n",
    "\n",
    "# 予測値を反映\n",
    "y_lasso_pred = lasso_tuned.predict(X_train) # Trainデータに対して予測\n",
    "y_lasso_test_pred = lasso_tuned.predict(X_test) # Testデータに対して予測\n",
    "\n",
    "#print(\"α = {}\".format(clf.alpha_))\n",
    "#print(\"ω = {}\".format(clf.coef_))\n",
    "#print(\"b = {}\".format(clf.intercept_))\n",
    "print(best_param)\n",
    "print(\"R^2 = {}\".format(clf.score(X_train, y_train)))\n",
    "print(\"MAE = {}\".format(mean_absolute_error(y_train, y_lasso_pred)))\n",
    "#print(cross_val_score(clf, X_train_scaler, y_train, cv=5))"
   ]
  },
  {
   "cell_type": "code",
   "execution_count": 34,
   "id": "3862f5cd",
   "metadata": {},
   "outputs": [],
   "source": [
    "import optuna.integration.lightgbm as lgb # Optuna \n",
    "#import lightgbm as lgb \n",
    "from sklearn.model_selection import KFold\n",
    "\n",
    "evals_result = {} #結果を格納するための辞書"
   ]
  },
  {
   "cell_type": "code",
   "execution_count": 35,
   "id": "7033819c",
   "metadata": {
    "scrolled": false
   },
   "outputs": [],
   "source": [
    "def SVC_fit(random_sts):\n",
    "    # SVM\n",
    "    params_grid = [\n",
    "        {'C': [1, 10, 100], 'kernel':['linear']},\n",
    "        {'C': [1, 10, 100], 'gamma': [0.01, 0.001], 'kernel': ['rbf']}\n",
    "    ]\n",
    "    # パラメータチューニング\n",
    "    clf = GridSearchCV(\n",
    "        estimator = SVC(),\n",
    "        param_grid = params_grid,\n",
    "        cv = 5,\n",
    "        scoring='r2',\n",
    "        n_jobs = -1\n",
    "        )\n",
    "\n",
    "    # フィッテイング\n",
    "    clf.fit(X_train, y_train) \n",
    "\n",
    "    # チューニングしたモデル\n",
    "    best_param = clf.best_params_\n",
    "    svc_tuned = clf.best_estimator_\n",
    "\n",
    "    # 予測値を反映\n",
    "    y_pred = svc_tuned.predict(X_train) # Trainデータに対して予測\n",
    "    y_test_pred = svc_tuned.predict(X_test) # Testデータに対して予測\n",
    "\n",
    "    print(best_param)\n",
    "    print(\"Score = {}\".format(clf.score(X_train, y_train)))\n",
    "    print(\"MAE = {}\".format(mean_absolute_error(y_train, y_pred)))\n",
    "    mae_result = mean_absolute_error(y_train, y_pred)\n",
    "    \n",
    "    X_train['svc'] = y_pred\n",
    "    X_test['svc'] = y_test_pred\n",
    "\n",
    "    return y_pred, y_test_pred, mae_result\n",
    "    "
   ]
  },
  {
   "cell_type": "code",
   "execution_count": 36,
   "id": "18c32a6d",
   "metadata": {},
   "outputs": [],
   "source": [
    "def lightGBM_fit(random_sts):\n",
    "    y_lgb_preds = []\n",
    "    models = []\n",
    "    y_lgb_oof_train = np.zeros((len(X_train),))\n",
    "    cv = KFold(n_splits=5, shuffle=True, random_state=random_sts)\n",
    "\n",
    "    params = {\n",
    "        'task' : 'train',\n",
    "        'boosting_type' : 'gbdt',\n",
    "        'objective': 'regression',\n",
    "        'metric' : 'rmse',\n",
    "        'max_bin' : 255,\n",
    "        'num_leaves' : 31,\n",
    "        'learning_rate' : 0.05,\n",
    "        'feature_fraction' : 0.9,\n",
    "        'bagging_fraction' : 0.8,\n",
    "        'bagging_freq': 5,\n",
    "        'verbose' : -1\n",
    "    }\n",
    "\n",
    "    # Cross Validation\n",
    "    for fold_id, (train_index, valid_index) in enumerate(cv.split(X_train)):\n",
    "        X_tr = X_train.iloc[train_index, :]\n",
    "        X_val = X_train.iloc[valid_index, :]\n",
    "        y_tr = y_train.iloc[train_index]\n",
    "        y_val = y_train.iloc[valid_index]\n",
    "    \n",
    "        # Train Dataset\n",
    "        lgb_train = lgb.Dataset(X_tr, y_tr)\n",
    "\n",
    "        # Evaluation Dataset (early_stopping_rounds)\n",
    "        lgb_eval = lgb.Dataset(X_val, y_val, reference=lgb_train)\n",
    "    \n",
    " #       evals_result = {} #結果を格納するための辞書\n",
    "        # train\n",
    "        gbm = lgb.train(params,\n",
    "                    lgb_train,\n",
    "                    valid_sets=[lgb_train, lgb_eval],\n",
    "                    valid_names=['train','eval'],\n",
    "                    num_boost_round=1000,\n",
    "                    early_stopping_rounds=100,\n",
    "                    verbose_eval=100,\n",
    "                    evals_result=evals_result\n",
    "                   )\n",
    "        # Out-of-hold of train data\n",
    "        y_lgb_oof_train[valid_index] = \\\n",
    "            gbm.predict(X_val, num_iteration=gbm.best_iteration)\n",
    "\n",
    "    \n",
    "        # Prediction for X_test data\n",
    "        y_pred = gbm.predict(X_test, num_iteration=gbm.best_iteration)\n",
    "    \n",
    "        # Append Prediction data \n",
    "        y_lgb_preds.append(y_pred)\n",
    "        models.append(gbm)\n",
    "\n",
    "    mae_result = mean_absolute_error(y_train, y_lgb_oof_train)\n",
    "    print(\"MAE = {}\".format(mae_result))\n",
    "    \n",
    "    X_train['lgb'] = y_lgb_oof_train\n",
    "    X_test['lgb'] = sum(y_lgb_preds)/len(y_lgb_preds)\n",
    "\n",
    "    return y_lgb_oof_train, y_lgb_preds, mae_result"
   ]
  },
  {
   "cell_type": "code",
   "execution_count": 37,
   "id": "ba3b16f3",
   "metadata": {},
   "outputs": [
    {
     "name": "stderr",
     "output_type": "stream",
     "text": [
      "C:\\anaconda\\lib\\site-packages\\sklearn\\model_selection\\_split.py:666: UserWarning: The least populated class in y has only 1 members, which is less than n_splits=5.\n",
      "  warnings.warn((\"The least populated class in y has only %d\"\n"
     ]
    },
    {
     "name": "stdout",
     "output_type": "stream",
     "text": [
      "{'C': 10, 'gamma': 0.01, 'kernel': 'rbf'}\n"
     ]
    },
    {
     "name": "stderr",
     "output_type": "stream",
     "text": [
      "\u001b[32m[I 2021-07-03 17:57:25,576]\u001b[0m A new study created in memory with name: no-name-ebec218c-4f61-4689-ac0a-0ee7de13d300\u001b[0m\n",
      "feature_fraction, val_score: inf:   0%|                                                          | 0/7 [00:00<?, ?it/s]"
     ]
    },
    {
     "name": "stdout",
     "output_type": "stream",
     "text": [
      "Score = 0.7919125514292513\n",
      "MAE = 5.293193717277487\n",
      "      price_am  price_pm  holiday  year  day     month_cos  month_sin  \\\n",
      "2096  4.198939   4.00588    False  2016   27  6.123234e-17        1.0   \n",
      "2097  3.206965   4.00588    False  2016   28  6.123234e-17        1.0   \n",
      "2098  3.206965   4.00588    False  2016   29  6.123234e-17        1.0   \n",
      "2099  4.198939   4.00588    False  2016   30  6.123234e-17        1.0   \n",
      "2100  4.198939   4.00588    False  2016   31  6.123234e-17        1.0   \n",
      "\n",
      "       day_cos       day_sin  weekday_cos  ...  month_7  month_8  month_9  \\\n",
      "2096  0.688967 -7.247928e-01          1.0  ...        0        0        0   \n",
      "2097  0.820763 -5.712682e-01          1.0  ...        0        0        0   \n",
      "2098  0.918958 -3.943559e-01          0.5  ...        0        0        0   \n",
      "2099  0.979530 -2.012985e-01         -0.5  ...        0        0        0   \n",
      "2100  1.000000 -2.449294e-16         -1.0  ...        0        0        0   \n",
      "\n",
      "      weekday_1  weekday_2  weekday_3  weekday_4  weekday_5  weekday_6    svc  \n",
      "2096          0          0          0          0          0          1   96.0  \n",
      "2097          0          0          0          0          0          0   86.0  \n",
      "2098          1          0          0          0          0          0   86.0  \n",
      "2099          0          1          0          0          0          0   99.0  \n",
      "2100          0          0          1          0          0          0  105.0  \n",
      "\n",
      "[5 rows x 35 columns]\n",
      "Training until validation scores don't improve for 100 rounds\n",
      "[100]\ttrain's rmse: 5.16119\teval's rmse: 6.89718\n",
      "[200]\ttrain's rmse: 4.17103\teval's rmse: 6.80167\n"
     ]
    },
    {
     "name": "stderr",
     "output_type": "stream",
     "text": [
      "feature_fraction, val_score: 6.777970:  14%|######4                                      | 1/7 [00:00<00:02,  2.13it/s]\u001b[32m[I 2021-07-03 17:57:26,099]\u001b[0m Trial 0 finished with value: 6.777970301442683 and parameters: {'feature_fraction': 0.4}. Best is trial 0 with value: 6.777970301442683.\u001b[0m\n",
      "feature_fraction, val_score: 6.777970:  14%|######4                                      | 1/7 [00:00<00:02,  2.13it/s]"
     ]
    },
    {
     "name": "stdout",
     "output_type": "stream",
     "text": [
      "Early stopping, best iteration is:\n",
      "[155]\ttrain's rmse: 4.52379\teval's rmse: 6.77797\n",
      "Training until validation scores don't improve for 100 rounds\n",
      "[100]\ttrain's rmse: 4.98127\teval's rmse: 6.99247\n",
      "[200]\ttrain's rmse: 3.92989\teval's rmse: 6.88599\n"
     ]
    },
    {
     "name": "stderr",
     "output_type": "stream",
     "text": [
      "feature_fraction, val_score: 6.777970:  29%|############8                                | 2/7 [00:01<00:02,  1.97it/s]\u001b[32m[I 2021-07-03 17:57:26,632]\u001b[0m Trial 1 finished with value: 6.877301530864931 and parameters: {'feature_fraction': 0.8999999999999999}. Best is trial 0 with value: 6.777970301442683.\u001b[0m\n",
      "feature_fraction, val_score: 6.777970:  29%|############8                                | 2/7 [00:01<00:02,  1.97it/s]"
     ]
    },
    {
     "name": "stdout",
     "output_type": "stream",
     "text": [
      "Early stopping, best iteration is:\n",
      "[173]\ttrain's rmse: 4.15912\teval's rmse: 6.8773\n",
      "Training until validation scores don't improve for 100 rounds\n",
      "[100]\ttrain's rmse: 4.9596\teval's rmse: 6.99739\n",
      "[200]\ttrain's rmse: 3.91799\teval's rmse: 6.93617\n"
     ]
    },
    {
     "name": "stderr",
     "output_type": "stream",
     "text": [
      "feature_fraction, val_score: 6.777970:  43%|###################2                         | 3/7 [00:01<00:02,  1.98it/s]\u001b[32m[I 2021-07-03 17:57:27,133]\u001b[0m Trial 2 finished with value: 6.898491680692074 and parameters: {'feature_fraction': 0.8}. Best is trial 0 with value: 6.777970301442683.\u001b[0m\n",
      "feature_fraction, val_score: 6.777970:  43%|###################2                         | 3/7 [00:01<00:02,  1.98it/s]"
     ]
    },
    {
     "name": "stdout",
     "output_type": "stream",
     "text": [
      "Early stopping, best iteration is:\n",
      "[158]\ttrain's rmse: 4.268\teval's rmse: 6.89849\n",
      "Training until validation scores don't improve for 100 rounds\n",
      "[100]\ttrain's rmse: 4.97495\teval's rmse: 6.98909\n",
      "[200]\ttrain's rmse: 3.96314\teval's rmse: 6.92347\n"
     ]
    },
    {
     "name": "stderr",
     "output_type": "stream",
     "text": [
      "feature_fraction, val_score: 6.777970:  57%|#########################7                   | 4/7 [00:02<00:01,  1.99it/s]\u001b[32m[I 2021-07-03 17:57:27,631]\u001b[0m Trial 3 finished with value: 6.8795053496794285 and parameters: {'feature_fraction': 0.7}. Best is trial 0 with value: 6.777970301442683.\u001b[0m\n",
      "feature_fraction, val_score: 6.777970:  57%|#########################7                   | 4/7 [00:02<00:01,  1.99it/s]"
     ]
    },
    {
     "name": "stdout",
     "output_type": "stream",
     "text": [
      "Early stopping, best iteration is:\n",
      "[157]\ttrain's rmse: 4.3184\teval's rmse: 6.87951\n",
      "Training until validation scores don't improve for 100 rounds\n",
      "[100]\ttrain's rmse: 5.06776\teval's rmse: 6.8912\n",
      "[200]\ttrain's rmse: 4.0556\teval's rmse: 6.85308\n"
     ]
    },
    {
     "name": "stderr",
     "output_type": "stream",
     "text": [
      "feature_fraction, val_score: 6.777970:  71%|################################1            | 5/7 [00:02<00:01,  1.97it/s]\u001b[32m[I 2021-07-03 17:57:28,164]\u001b[0m Trial 4 finished with value: 6.8283387011752845 and parameters: {'feature_fraction': 0.5}. Best is trial 0 with value: 6.777970301442683.\u001b[0m\n",
      "feature_fraction, val_score: 6.777970:  71%|################################1            | 5/7 [00:02<00:01,  1.97it/s]"
     ]
    },
    {
     "name": "stdout",
     "output_type": "stream",
     "text": [
      "Early stopping, best iteration is:\n",
      "[172]\ttrain's rmse: 4.2741\teval's rmse: 6.82834\n",
      "Training until validation scores don't improve for 100 rounds\n",
      "[100]\ttrain's rmse: 5.00608\teval's rmse: 6.87878\n",
      "[200]\ttrain's rmse: 4.0089\teval's rmse: 6.85766\n"
     ]
    },
    {
     "name": "stderr",
     "output_type": "stream",
     "text": [
      "feature_fraction, val_score: 6.777970:  86%|######################################5      | 6/7 [00:03<00:00,  2.00it/s]\u001b[32m[I 2021-07-03 17:57:28,632]\u001b[0m Trial 5 finished with value: 6.822753864619105 and parameters: {'feature_fraction': 0.6}. Best is trial 0 with value: 6.777970301442683.\u001b[0m\n",
      "feature_fraction, val_score: 6.777970:  86%|######################################5      | 6/7 [00:03<00:00,  2.00it/s]"
     ]
    },
    {
     "name": "stdout",
     "output_type": "stream",
     "text": [
      "Early stopping, best iteration is:\n",
      "[159]\ttrain's rmse: 4.33158\teval's rmse: 6.82275\n",
      "Training until validation scores don't improve for 100 rounds\n",
      "[100]\ttrain's rmse: 5.00512\teval's rmse: 7.1026\n",
      "[200]\ttrain's rmse: 3.9193\teval's rmse: 7.08325\n"
     ]
    },
    {
     "name": "stderr",
     "output_type": "stream",
     "text": [
      "feature_fraction, val_score: 6.777970: 100%|#############################################| 7/7 [00:03<00:00,  1.98it/s]\u001b[32m[I 2021-07-03 17:57:29,148]\u001b[0m Trial 6 finished with value: 7.047236417189073 and parameters: {'feature_fraction': 1.0}. Best is trial 0 with value: 6.777970301442683.\u001b[0m\n",
      "feature_fraction, val_score: 6.777970: 100%|#############################################| 7/7 [00:03<00:00,  1.98it/s]\n",
      "num_leaves, val_score: 6.777970:   0%|                                                          | 0/20 [00:00<?, ?it/s]"
     ]
    },
    {
     "name": "stdout",
     "output_type": "stream",
     "text": [
      "Early stopping, best iteration is:\n",
      "[158]\ttrain's rmse: 4.28226\teval's rmse: 7.04724\n",
      "Training until validation scores don't improve for 100 rounds\n",
      "[100]\ttrain's rmse: 4.87529\teval's rmse: 6.95352\n"
     ]
    },
    {
     "name": "stderr",
     "output_type": "stream",
     "text": [
      "num_leaves, val_score: 6.777970:   5%|##5                                               | 1/20 [00:00<00:12,  1.49it/s]\u001b[32m[I 2021-07-03 17:57:29,839]\u001b[0m Trial 7 finished with value: 6.850885132051732 and parameters: {'num_leaves': 202}. Best is trial 7 with value: 6.850885132051732.\u001b[0m\n",
      "num_leaves, val_score: 6.777970:   5%|##5                                               | 1/20 [00:00<00:12,  1.49it/s]"
     ]
    },
    {
     "name": "stdout",
     "output_type": "stream",
     "text": [
      "[200]\ttrain's rmse: 3.75253\teval's rmse: 6.89086\n",
      "Early stopping, best iteration is:\n",
      "[155]\ttrain's rmse: 4.16043\teval's rmse: 6.85089\n",
      "Training until validation scores don't improve for 100 rounds\n",
      "[100]\ttrain's rmse: 4.87529\teval's rmse: 6.95352\n"
     ]
    },
    {
     "name": "stderr",
     "output_type": "stream",
     "text": [
      "num_leaves, val_score: 6.777970:  10%|#####                                             | 2/20 [00:01<00:11,  1.63it/s]\u001b[32m[I 2021-07-03 17:57:30,430]\u001b[0m Trial 8 finished with value: 6.850885132051732 and parameters: {'num_leaves': 255}. Best is trial 7 with value: 6.850885132051732.\u001b[0m\n",
      "num_leaves, val_score: 6.777970:  10%|#####                                             | 2/20 [00:01<00:11,  1.63it/s]"
     ]
    },
    {
     "name": "stdout",
     "output_type": "stream",
     "text": [
      "[200]\ttrain's rmse: 3.75253\teval's rmse: 6.89086\n",
      "Early stopping, best iteration is:\n",
      "[155]\ttrain's rmse: 4.16043\teval's rmse: 6.85089\n",
      "Training until validation scores don't improve for 100 rounds\n",
      "[100]\ttrain's rmse: 4.92102\teval's rmse: 6.90416\n"
     ]
    },
    {
     "name": "stderr",
     "output_type": "stream",
     "text": [
      "num_leaves, val_score: 6.777970:  15%|#######5                                          | 3/20 [00:01<00:11,  1.53it/s]\u001b[32m[I 2021-07-03 17:57:31,124]\u001b[0m Trial 9 finished with value: 6.790057225803327 and parameters: {'num_leaves': 44}. Best is trial 9 with value: 6.790057225803327.\u001b[0m\n",
      "num_leaves, val_score: 6.777970:  15%|#######5                                          | 3/20 [00:01<00:11,  1.53it/s]"
     ]
    },
    {
     "name": "stdout",
     "output_type": "stream",
     "text": [
      "[200]\ttrain's rmse: 3.83991\teval's rmse: 6.83215\n",
      "Early stopping, best iteration is:\n",
      "[155]\ttrain's rmse: 4.23834\teval's rmse: 6.79006\n",
      "Training until validation scores don't improve for 100 rounds\n",
      "[100]\ttrain's rmse: 5.41725\teval's rmse: 6.86507\n"
     ]
    },
    {
     "name": "stderr",
     "output_type": "stream",
     "text": [
      "\r",
      "num_leaves, val_score: 6.709645:  15%|#######5                                          | 3/20 [00:02<00:11,  1.53it/s]"
     ]
    },
    {
     "name": "stdout",
     "output_type": "stream",
     "text": [
      "[200]\ttrain's rmse: 4.51701\teval's rmse: 6.73319\n",
      "[300]\ttrain's rmse: 4.01471\teval's rmse: 6.74669\n",
      "Early stopping, best iteration is:\n",
      "[251]\ttrain's rmse: 4.23911\teval's rmse: 6.70964\n"
     ]
    },
    {
     "name": "stderr",
     "output_type": "stream",
     "text": [
      "num_leaves, val_score: 6.709645:  20%|##########                                        | 4/20 [00:02<00:09,  1.67it/s]\u001b[32m[I 2021-07-03 17:57:31,628]\u001b[0m Trial 10 finished with value: 6.709644588369267 and parameters: {'num_leaves': 24}. Best is trial 10 with value: 6.709644588369267.\u001b[0m\n",
      "num_leaves, val_score: 6.709645:  20%|##########                                        | 4/20 [00:02<00:09,  1.67it/s]"
     ]
    },
    {
     "name": "stdout",
     "output_type": "stream",
     "text": [
      "Training until validation scores don't improve for 100 rounds\n",
      "[100]\ttrain's rmse: 4.87529\teval's rmse: 6.95352\n"
     ]
    },
    {
     "name": "stderr",
     "output_type": "stream",
     "text": [
      "num_leaves, val_score: 6.709645:  25%|############5                                     | 5/20 [00:03<00:08,  1.71it/s]\u001b[32m[I 2021-07-03 17:57:32,184]\u001b[0m Trial 11 finished with value: 6.850885132051732 and parameters: {'num_leaves': 87}. Best is trial 10 with value: 6.709644588369267.\u001b[0m\n",
      "num_leaves, val_score: 6.709645:  25%|############5                                     | 5/20 [00:03<00:08,  1.71it/s]"
     ]
    },
    {
     "name": "stdout",
     "output_type": "stream",
     "text": [
      "[200]\ttrain's rmse: 3.75253\teval's rmse: 6.89086\n",
      "Early stopping, best iteration is:\n",
      "[155]\ttrain's rmse: 4.16043\teval's rmse: 6.85089\n",
      "Training until validation scores don't improve for 100 rounds\n",
      "[100]\ttrain's rmse: 4.87529\teval's rmse: 6.95352\n"
     ]
    },
    {
     "name": "stderr",
     "output_type": "stream",
     "text": [
      "num_leaves, val_score: 6.709645:  30%|###############                                   | 6/20 [00:03<00:08,  1.75it/s]\u001b[32m[I 2021-07-03 17:57:32,749]\u001b[0m Trial 12 finished with value: 6.850885132051732 and parameters: {'num_leaves': 157}. Best is trial 10 with value: 6.709644588369267.\u001b[0m\n",
      "num_leaves, val_score: 6.709645:  30%|###############                                   | 6/20 [00:03<00:08,  1.75it/s]"
     ]
    },
    {
     "name": "stdout",
     "output_type": "stream",
     "text": [
      "[200]\ttrain's rmse: 3.75253\teval's rmse: 6.89086\n",
      "Early stopping, best iteration is:\n",
      "[155]\ttrain's rmse: 4.16043\teval's rmse: 6.85089\n",
      "Training until validation scores don't improve for 100 rounds\n",
      "[100]\ttrain's rmse: 4.87529\teval's rmse: 6.95352\n"
     ]
    },
    {
     "name": "stderr",
     "output_type": "stream",
     "text": [
      "num_leaves, val_score: 6.709645:  35%|#################5                                | 7/20 [00:04<00:07,  1.74it/s]\u001b[32m[I 2021-07-03 17:57:33,315]\u001b[0m Trial 13 finished with value: 6.850885132051732 and parameters: {'num_leaves': 203}. Best is trial 10 with value: 6.709644588369267.\u001b[0m\n",
      "num_leaves, val_score: 6.709645:  35%|#################5                                | 7/20 [00:04<00:07,  1.74it/s]"
     ]
    },
    {
     "name": "stdout",
     "output_type": "stream",
     "text": [
      "[200]\ttrain's rmse: 3.75253\teval's rmse: 6.89086\n",
      "Early stopping, best iteration is:\n",
      "[155]\ttrain's rmse: 4.16043\teval's rmse: 6.85089\n",
      "Training until validation scores don't improve for 100 rounds\n",
      "[100]\ttrain's rmse: 4.87529\teval's rmse: 6.95352\n",
      "[200]\ttrain's rmse: 3.75253\teval's rmse: 6.89086\n"
     ]
    },
    {
     "name": "stderr",
     "output_type": "stream",
     "text": [
      "num_leaves, val_score: 6.709645:  40%|####################                              | 8/20 [00:04<00:06,  1.77it/s]\u001b[32m[I 2021-07-03 17:57:33,860]\u001b[0m Trial 14 finished with value: 6.850885132051732 and parameters: {'num_leaves': 134}. Best is trial 10 with value: 6.709644588369267.\u001b[0m\n",
      "num_leaves, val_score: 6.709645:  40%|####################                              | 8/20 [00:04<00:06,  1.77it/s]"
     ]
    },
    {
     "name": "stdout",
     "output_type": "stream",
     "text": [
      "Early stopping, best iteration is:\n",
      "[155]\ttrain's rmse: 4.16043\teval's rmse: 6.85089\n",
      "Training until validation scores don't improve for 100 rounds\n",
      "[100]\ttrain's rmse: 5.014\teval's rmse: 6.96186\n",
      "[200]\ttrain's rmse: 3.95479\teval's rmse: 6.88789\n"
     ]
    },
    {
     "name": "stderr",
     "output_type": "stream",
     "text": [
      "num_leaves, val_score: 6.709645:  45%|######################5                           | 9/20 [00:05<00:06,  1.80it/s]\u001b[32m[I 2021-07-03 17:57:34,396]\u001b[0m Trial 15 finished with value: 6.841994111991757 and parameters: {'num_leaves': 38}. Best is trial 10 with value: 6.709644588369267.\u001b[0m\n",
      "num_leaves, val_score: 6.709645:  45%|######################5                           | 9/20 [00:05<00:06,  1.80it/s]"
     ]
    },
    {
     "name": "stdout",
     "output_type": "stream",
     "text": [
      "Early stopping, best iteration is:\n",
      "[159]\ttrain's rmse: 4.29604\teval's rmse: 6.84199\n",
      "Training until validation scores don't improve for 100 rounds\n",
      "[100]\ttrain's rmse: 4.87529\teval's rmse: 6.95352\n",
      "[200]\ttrain's rmse: 3.75253\teval's rmse: 6.89086\n"
     ]
    },
    {
     "name": "stderr",
     "output_type": "stream",
     "text": [
      "num_leaves, val_score: 6.709645:  50%|########################5                        | 10/20 [00:05<00:05,  1.81it/s]\u001b[32m[I 2021-07-03 17:57:34,940]\u001b[0m Trial 16 finished with value: 6.850885132051732 and parameters: {'num_leaves': 134}. Best is trial 10 with value: 6.709644588369267.\u001b[0m\n",
      "num_leaves, val_score: 6.709645:  50%|########################5                        | 10/20 [00:05<00:05,  1.81it/s]"
     ]
    },
    {
     "name": "stdout",
     "output_type": "stream",
     "text": [
      "Early stopping, best iteration is:\n",
      "[155]\ttrain's rmse: 4.16043\teval's rmse: 6.85089\n",
      "Training until validation scores don't improve for 100 rounds\n",
      "[100]\ttrain's rmse: 8.17776\teval's rmse: 8.31634\n",
      "[200]\ttrain's rmse: 7.38256\teval's rmse: 7.36788\n",
      "[300]\ttrain's rmse: 7.21828\teval's rmse: 7.18649\n",
      "[400]\ttrain's rmse: 7.13102\teval's rmse: 7.13592\n",
      "[500]\ttrain's rmse: 7.07136\teval's rmse: 7.12151\n",
      "[600]\ttrain's rmse: 7.02696\teval's rmse: 7.10526\n",
      "[700]\ttrain's rmse: 6.9904\teval's rmse: 7.0755\n",
      "[800]\ttrain's rmse: 6.96136\teval's rmse: 7.0686\n"
     ]
    },
    {
     "name": "stderr",
     "output_type": "stream",
     "text": [
      "num_leaves, val_score: 6.709645:  55%|##########################9                      | 11/20 [00:06<00:04,  1.93it/s]\u001b[32m[I 2021-07-03 17:57:35,396]\u001b[0m Trial 17 finished with value: 7.065887478743573 and parameters: {'num_leaves': 2}. Best is trial 10 with value: 6.709644588369267.\u001b[0m\n",
      "num_leaves, val_score: 6.709645:  55%|##########################9                      | 11/20 [00:06<00:04,  1.93it/s]"
     ]
    },
    {
     "name": "stdout",
     "output_type": "stream",
     "text": [
      "Early stopping, best iteration is:\n",
      "[792]\ttrain's rmse: 6.96285\teval's rmse: 7.06589\n",
      "Training until validation scores don't improve for 100 rounds\n",
      "[100]\ttrain's rmse: 4.92102\teval's rmse: 6.90416\n",
      "[200]\ttrain's rmse: 3.83991\teval's rmse: 6.83215\n"
     ]
    },
    {
     "name": "stderr",
     "output_type": "stream",
     "text": [
      "num_leaves, val_score: 6.709645:  60%|#############################4                   | 12/20 [00:06<00:04,  1.91it/s]\u001b[32m[I 2021-07-03 17:57:35,913]\u001b[0m Trial 18 finished with value: 6.790057225803327 and parameters: {'num_leaves': 44}. Best is trial 10 with value: 6.709644588369267.\u001b[0m\n",
      "num_leaves, val_score: 6.709645:  60%|#############################4                   | 12/20 [00:06<00:04,  1.91it/s]"
     ]
    },
    {
     "name": "stdout",
     "output_type": "stream",
     "text": [
      "Early stopping, best iteration is:\n",
      "[155]\ttrain's rmse: 4.23834\teval's rmse: 6.79006\n",
      "Training until validation scores don't improve for 100 rounds\n",
      "[100]\ttrain's rmse: 6.06414\teval's rmse: 6.8561\n",
      "[200]\ttrain's rmse: 5.32114\teval's rmse: 6.71538\n",
      "[300]\ttrain's rmse: 4.88435\teval's rmse: 6.6885\n"
     ]
    },
    {
     "name": "stderr",
     "output_type": "stream",
     "text": [
      "num_leaves, val_score: 6.665238:  65%|###############################8                 | 13/20 [00:07<00:03,  1.98it/s]\u001b[32m[I 2021-07-03 17:57:36,378]\u001b[0m Trial 19 finished with value: 6.665237543810711 and parameters: {'num_leaves': 13}. Best is trial 19 with value: 6.665237543810711.\u001b[0m\n",
      "num_leaves, val_score: 6.665238:  65%|###############################8                 | 13/20 [00:07<00:03,  1.98it/s]"
     ]
    },
    {
     "name": "stdout",
     "output_type": "stream",
     "text": [
      "[400]\ttrain's rmse: 4.55107\teval's rmse: 6.69083\n",
      "Early stopping, best iteration is:\n",
      "[351]\ttrain's rmse: 4.70479\teval's rmse: 6.66524\n",
      "Training until validation scores don't improve for 100 rounds\n",
      "[100]\ttrain's rmse: 6.06414\teval's rmse: 6.8561\n",
      "[200]\ttrain's rmse: 5.32114\teval's rmse: 6.71538\n",
      "[300]\ttrain's rmse: 4.88435\teval's rmse: 6.6885\n"
     ]
    },
    {
     "name": "stderr",
     "output_type": "stream",
     "text": [
      "num_leaves, val_score: 6.665238:  70%|##################################3              | 14/20 [00:07<00:03,  1.97it/s]\u001b[32m[I 2021-07-03 17:57:36,908]\u001b[0m Trial 20 finished with value: 6.665237543810711 and parameters: {'num_leaves': 13}. Best is trial 19 with value: 6.665237543810711.\u001b[0m\n",
      "num_leaves, val_score: 6.665238:  70%|##################################3              | 14/20 [00:07<00:03,  1.97it/s]"
     ]
    },
    {
     "name": "stdout",
     "output_type": "stream",
     "text": [
      "[400]\ttrain's rmse: 4.55107\teval's rmse: 6.69083\n",
      "Early stopping, best iteration is:\n",
      "[351]\ttrain's rmse: 4.70479\teval's rmse: 6.66524\n",
      "Training until validation scores don't improve for 100 rounds\n",
      "[100]\ttrain's rmse: 4.87529\teval's rmse: 6.95352\n",
      "[200]\ttrain's rmse: 3.75253\teval's rmse: 6.89086\n"
     ]
    },
    {
     "name": "stderr",
     "output_type": "stream",
     "text": [
      "num_leaves, val_score: 6.665238:  75%|####################################7            | 15/20 [00:08<00:02,  1.92it/s]\u001b[32m[I 2021-07-03 17:57:37,443]\u001b[0m Trial 21 finished with value: 6.850885132051732 and parameters: {'num_leaves': 89}. Best is trial 19 with value: 6.665237543810711.\u001b[0m\n",
      "num_leaves, val_score: 6.665238:  75%|####################################7            | 15/20 [00:08<00:02,  1.92it/s]"
     ]
    },
    {
     "name": "stdout",
     "output_type": "stream",
     "text": [
      "Early stopping, best iteration is:\n",
      "[155]\ttrain's rmse: 4.16043\teval's rmse: 6.85089\n",
      "Training until validation scores don't improve for 100 rounds\n",
      "[100]\ttrain's rmse: 7.42146\teval's rmse: 7.383\n",
      "[200]\ttrain's rmse: 6.94505\teval's rmse: 6.97335\n",
      "[300]\ttrain's rmse: 6.73073\teval's rmse: 6.83083\n",
      "[400]\ttrain's rmse: 6.5712\teval's rmse: 6.7878\n",
      "[500]\ttrain's rmse: 6.43555\teval's rmse: 6.76541\n",
      "[600]\ttrain's rmse: 6.33458\teval's rmse: 6.75077\n",
      "[700]\ttrain's rmse: 6.22061\teval's rmse: 6.70212"
     ]
    },
    {
     "name": "stderr",
     "output_type": "stream",
     "text": [
      "num_leaves, val_score: 6.665238:  80%|#######################################2         | 16/20 [00:08<00:02,  1.96it/s]\u001b[32m[I 2021-07-03 17:57:37,943]\u001b[0m Trial 22 finished with value: 6.69501401229618 and parameters: {'num_leaves': 3}. Best is trial 19 with value: 6.665237543810711.\u001b[0m\n",
      "num_leaves, val_score: 6.665238:  80%|#######################################2         | 16/20 [00:08<00:02,  1.96it/s]"
     ]
    },
    {
     "name": "stdout",
     "output_type": "stream",
     "text": [
      "\n",
      "[800]\ttrain's rmse: 6.13914\teval's rmse: 6.70655\n",
      "Early stopping, best iteration is:\n",
      "[775]\ttrain's rmse: 6.15662\teval's rmse: 6.69501\n",
      "Training until validation scores don't improve for 100 rounds\n",
      "[100]\ttrain's rmse: 4.87529\teval's rmse: 6.95352\n"
     ]
    },
    {
     "name": "stderr",
     "output_type": "stream",
     "text": [
      "num_leaves, val_score: 6.665238:  85%|#########################################6       | 17/20 [00:09<00:01,  1.93it/s]\u001b[32m[I 2021-07-03 17:57:38,481]\u001b[0m Trial 23 finished with value: 6.850885132051732 and parameters: {'num_leaves': 72}. Best is trial 19 with value: 6.665237543810711.\u001b[0m\n",
      "num_leaves, val_score: 6.665238:  85%|#########################################6       | 17/20 [00:09<00:01,  1.93it/s]"
     ]
    },
    {
     "name": "stdout",
     "output_type": "stream",
     "text": [
      "[200]\ttrain's rmse: 3.75253\teval's rmse: 6.89086\n",
      "Early stopping, best iteration is:\n",
      "[155]\ttrain's rmse: 4.16043\teval's rmse: 6.85089\n",
      "Training until validation scores don't improve for 100 rounds\n",
      "[100]\ttrain's rmse: 6.33177\teval's rmse: 6.89303\n",
      "[200]\ttrain's rmse: 5.66061\teval's rmse: 6.70196\n"
     ]
    },
    {
     "name": "stderr",
     "output_type": "stream",
     "text": [
      "num_leaves, val_score: 6.652627:  90%|############################################1    | 18/20 [00:09<00:00,  2.12it/s]\u001b[32m[I 2021-07-03 17:57:38,828]\u001b[0m Trial 24 finished with value: 6.652627347384017 and parameters: {'num_leaves': 10}. Best is trial 24 with value: 6.652627347384017.\u001b[0m\n",
      "num_leaves, val_score: 6.652627:  90%|############################################1    | 18/20 [00:09<00:00,  2.12it/s]"
     ]
    },
    {
     "name": "stdout",
     "output_type": "stream",
     "text": [
      "[300]\ttrain's rmse: 5.25131\teval's rmse: 6.66139\n",
      "Early stopping, best iteration is:\n",
      "[252]\ttrain's rmse: 5.43376\teval's rmse: 6.65263\n",
      "Training until validation scores don't improve for 100 rounds\n",
      "[100]\ttrain's rmse: 4.87529\teval's rmse: 6.95352\n",
      "[200]\ttrain's rmse: 3.75253\teval's rmse: 6.89086\n"
     ]
    },
    {
     "name": "stderr",
     "output_type": "stream",
     "text": [
      "num_leaves, val_score: 6.652627:  95%|##############################################5  | 19/20 [00:10<00:00,  2.02it/s]\u001b[32m[I 2021-07-03 17:57:39,376]\u001b[0m Trial 25 finished with value: 6.850885132051732 and parameters: {'num_leaves': 79}. Best is trial 24 with value: 6.652627347384017.\u001b[0m\n",
      "num_leaves, val_score: 6.652627:  95%|##############################################5  | 19/20 [00:10<00:00,  2.02it/s]"
     ]
    },
    {
     "name": "stdout",
     "output_type": "stream",
     "text": [
      "Early stopping, best iteration is:\n",
      "[155]\ttrain's rmse: 4.16043\teval's rmse: 6.85089\n",
      "Training until validation scores don't improve for 100 rounds\n",
      "[100]\ttrain's rmse: 4.87529\teval's rmse: 6.95352\n",
      "[200]\ttrain's rmse: 3.75253\teval's rmse: 6.89086\n"
     ]
    },
    {
     "name": "stderr",
     "output_type": "stream",
     "text": [
      "num_leaves, val_score: 6.652627: 100%|#################################################| 20/20 [00:10<00:00,  1.96it/s]\u001b[32m[I 2021-07-03 17:57:39,926]\u001b[0m Trial 26 finished with value: 6.850885132051732 and parameters: {'num_leaves': 60}. Best is trial 24 with value: 6.652627347384017.\u001b[0m\n",
      "num_leaves, val_score: 6.652627: 100%|#################################################| 20/20 [00:10<00:00,  1.86it/s]\n",
      "bagging, val_score: 6.652627:   0%|                                                             | 0/10 [00:00<?, ?it/s]"
     ]
    },
    {
     "name": "stdout",
     "output_type": "stream",
     "text": [
      "Early stopping, best iteration is:\n",
      "[155]\ttrain's rmse: 4.16043\teval's rmse: 6.85089\n",
      "Training until validation scores don't improve for 100 rounds\n",
      "[100]\ttrain's rmse: 6.37685\teval's rmse: 6.96573\n",
      "[200]\ttrain's rmse: 5.67415\teval's rmse: 6.76696\n",
      "[300]\ttrain's rmse: 5.2663\teval's rmse: 6.72956\n"
     ]
    },
    {
     "name": "stderr",
     "output_type": "stream",
     "text": [
      "bagging, val_score: 6.652627:  10%|#####3                                               | 1/10 [00:00<00:03,  2.67it/s]\u001b[32m[I 2021-07-03 17:57:40,316]\u001b[0m Trial 27 finished with value: 6.724944578274685 and parameters: {'bagging_fraction': 0.7738941841698375, 'bagging_freq': 2}. Best is trial 27 with value: 6.724944578274685.\u001b[0m\n",
      "bagging, val_score: 6.652627:  10%|#####3                                               | 1/10 [00:00<00:03,  2.67it/s]"
     ]
    },
    {
     "name": "stdout",
     "output_type": "stream",
     "text": [
      "Early stopping, best iteration is:\n",
      "[298]\ttrain's rmse: 5.27343\teval's rmse: 6.72494\n",
      "Training until validation scores don't improve for 100 rounds\n",
      "[100]\ttrain's rmse: 6.25708\teval's rmse: 6.76567\n"
     ]
    },
    {
     "name": "stderr",
     "output_type": "stream",
     "text": [
      "bagging, val_score: 6.537652:  20%|##########6                                          | 2/10 [00:00<00:02,  2.81it/s]\u001b[32m[I 2021-07-03 17:57:40,671]\u001b[0m Trial 28 finished with value: 6.537652218149499 and parameters: {'bagging_fraction': 0.9545236299931402, 'bagging_freq': 6}. Best is trial 28 with value: 6.537652218149499.\u001b[0m\n",
      "bagging, val_score: 6.537652:  20%|##########6                                          | 2/10 [00:00<00:02,  2.81it/s]"
     ]
    },
    {
     "name": "stdout",
     "output_type": "stream",
     "text": [
      "[200]\ttrain's rmse: 5.57997\teval's rmse: 6.57323\n",
      "[300]\ttrain's rmse: 5.16746\teval's rmse: 6.54674\n",
      "Early stopping, best iteration is:\n",
      "[276]\ttrain's rmse: 5.2631\teval's rmse: 6.53765\n",
      "Training until validation scores don't improve for 100 rounds\n",
      "[100]\ttrain's rmse: 6.26506\teval's rmse: 6.82978\n",
      "[200]\ttrain's rmse: 5.57262\teval's rmse: 6.62881\n"
     ]
    },
    {
     "name": "stderr",
     "output_type": "stream",
     "text": [
      "bagging, val_score: 6.537652:  30%|###############9                                     | 3/10 [00:01<00:02,  2.51it/s]\u001b[32m[I 2021-07-03 17:57:41,105]\u001b[0m Trial 29 finished with value: 6.5442882810843095 and parameters: {'bagging_fraction': 0.9568812612053009, 'bagging_freq': 2}. Best is trial 28 with value: 6.537652218149499.\u001b[0m\n",
      "bagging, val_score: 6.537652:  30%|###############9                                     | 3/10 [00:01<00:02,  2.51it/s]"
     ]
    },
    {
     "name": "stdout",
     "output_type": "stream",
     "text": [
      "[300]\ttrain's rmse: 5.1614\teval's rmse: 6.56247\n",
      "[400]\ttrain's rmse: 4.86274\teval's rmse: 6.55335\n",
      "Early stopping, best iteration is:\n",
      "[375]\ttrain's rmse: 4.93218\teval's rmse: 6.54429\n",
      "Training until validation scores don't improve for 100 rounds\n",
      "[100]\ttrain's rmse: 6.33007\teval's rmse: 6.87873\n",
      "[200]\ttrain's rmse: 5.61426\teval's rmse: 6.68304\n"
     ]
    },
    {
     "name": "stderr",
     "output_type": "stream",
     "text": [
      "bagging, val_score: 6.537652:  40%|#####################2                               | 4/10 [00:01<00:02,  2.77it/s]\u001b[32m[I 2021-07-03 17:57:41,410]\u001b[0m Trial 30 finished with value: 6.66643877455164 and parameters: {'bagging_fraction': 0.816339643670251, 'bagging_freq': 7}. Best is trial 28 with value: 6.537652218149499.\u001b[0m\n",
      "bagging, val_score: 6.537652:  40%|#####################2                               | 4/10 [00:01<00:02,  2.77it/s]"
     ]
    },
    {
     "name": "stdout",
     "output_type": "stream",
     "text": [
      "[300]\ttrain's rmse: 5.23787\teval's rmse: 6.69992\n",
      "Early stopping, best iteration is:\n",
      "[213]\ttrain's rmse: 5.56777\teval's rmse: 6.66644\n",
      "Training until validation scores don't improve for 100 rounds\n",
      "[100]\ttrain's rmse: 6.41277\teval's rmse: 6.92958\n",
      "[200]\ttrain's rmse: 5.74456\teval's rmse: 6.78725\n",
      "[300]\ttrain's rmse: 5.34374\teval's rmse: 6.78038\n"
     ]
    },
    {
     "name": "stderr",
     "output_type": "stream",
     "text": [
      "bagging, val_score: 6.537652:  50%|##########################5                          | 5/10 [00:02<00:02,  2.24it/s]\u001b[32m[I 2021-07-03 17:57:42,005]\u001b[0m Trial 31 finished with value: 6.731317739128456 and parameters: {'bagging_fraction': 0.6311463813969472, 'bagging_freq': 3}. Best is trial 28 with value: 6.537652218149499.\u001b[0m\n",
      "bagging, val_score: 6.537652:  50%|##########################5                          | 5/10 [00:02<00:02,  2.24it/s]"
     ]
    },
    {
     "name": "stdout",
     "output_type": "stream",
     "text": [
      "[400]\ttrain's rmse: 5.06124\teval's rmse: 6.74214\n",
      "[500]\ttrain's rmse: 4.82966\teval's rmse: 6.7711\n",
      "Early stopping, best iteration is:\n",
      "[418]\ttrain's rmse: 5.02186\teval's rmse: 6.73132\n",
      "Training until validation scores don't improve for 100 rounds\n",
      "[100]\ttrain's rmse: 6.58711\teval's rmse: 7.20277\n",
      "[200]\ttrain's rmse: 5.97786\teval's rmse: 7.08976\n",
      "[300]\ttrain's rmse: 5.61213\teval's rmse: 7.06358\n"
     ]
    },
    {
     "name": "stderr",
     "output_type": "stream",
     "text": [
      "bagging, val_score: 6.537652:  60%|###############################8                     | 6/10 [00:02<00:01,  2.29it/s]\u001b[32m[I 2021-07-03 17:57:42,423]\u001b[0m Trial 32 finished with value: 6.958163144017405 and parameters: {'bagging_fraction': 0.4175848503270012, 'bagging_freq': 5}. Best is trial 28 with value: 6.537652218149499.\u001b[0m\n",
      "bagging, val_score: 6.537652:  60%|###############################8                     | 6/10 [00:02<00:01,  2.29it/s]"
     ]
    },
    {
     "name": "stdout",
     "output_type": "stream",
     "text": [
      "[400]\ttrain's rmse: 5.31309\teval's rmse: 6.97136\n",
      "Early stopping, best iteration is:\n",
      "[387]\ttrain's rmse: 5.33942\teval's rmse: 6.95816\n",
      "Training until validation scores don't improve for 100 rounds\n",
      "[100]\ttrain's rmse: 6.20371\teval's rmse: 6.80809\n",
      "[200]\ttrain's rmse: 5.56813\teval's rmse: 6.62351\n",
      "[300]\ttrain's rmse: 5.15032\teval's rmse: 6.59041\n",
      "[400]\ttrain's rmse: 4.84943\teval's rmse: 6.57333"
     ]
    },
    {
     "name": "stderr",
     "output_type": "stream",
     "text": [
      "bagging, val_score: 6.537652:  70%|#####################################                | 7/10 [00:02<00:01,  2.27it/s]\u001b[32m[I 2021-07-03 17:57:42,874]\u001b[0m Trial 33 finished with value: 6.562296956352266 and parameters: {'bagging_fraction': 0.9939141392577595, 'bagging_freq': 5}. Best is trial 28 with value: 6.537652218149499.\u001b[0m\n",
      "bagging, val_score: 6.537652:  70%|#####################################                | 7/10 [00:02<00:01,  2.27it/s]"
     ]
    },
    {
     "name": "stdout",
     "output_type": "stream",
     "text": [
      "\n",
      "[500]\ttrain's rmse: 4.61597\teval's rmse: 6.57881\n",
      "Early stopping, best iteration is:\n",
      "[417]\ttrain's rmse: 4.80515\teval's rmse: 6.5623\n",
      "Training until validation scores don't improve for 100 rounds\n"
     ]
    },
    {
     "name": "stderr",
     "output_type": "stream",
     "text": [
      "bagging, val_score: 6.537652:  80%|##########################################4          | 8/10 [00:03<00:00,  2.54it/s]\u001b[32m[I 2021-07-03 17:57:43,182]\u001b[0m Trial 34 finished with value: 6.700858464099334 and parameters: {'bagging_fraction': 0.7912697404131273, 'bagging_freq': 7}. Best is trial 28 with value: 6.537652218149499.\u001b[0m\n",
      "bagging, val_score: 6.537652:  80%|##########################################4          | 8/10 [00:03<00:00,  2.54it/s]"
     ]
    },
    {
     "name": "stdout",
     "output_type": "stream",
     "text": [
      "[100]\ttrain's rmse: 6.32664\teval's rmse: 6.93691\n",
      "[200]\ttrain's rmse: 5.61996\teval's rmse: 6.73834\n",
      "[300]\ttrain's rmse: 5.23509\teval's rmse: 6.72872\n",
      "Early stopping, best iteration is:\n",
      "[225]\ttrain's rmse: 5.5236\teval's rmse: 6.70086\n",
      "Training until validation scores don't improve for 100 rounds\n",
      "[100]\ttrain's rmse: 6.44163\teval's rmse: 7.04309\n",
      "[200]\ttrain's rmse: 5.79114\teval's rmse: 6.86343\n"
     ]
    },
    {
     "name": "stderr",
     "output_type": "stream",
     "text": [
      "bagging, val_score: 6.537652:  90%|###############################################7     | 9/10 [00:03<00:00,  2.70it/s]\u001b[32m[I 2021-07-03 17:57:43,488]\u001b[0m Trial 35 finished with value: 6.8408514936668485 and parameters: {'bagging_fraction': 0.6168802535632731, 'bagging_freq': 4}. Best is trial 28 with value: 6.537652218149499.\u001b[0m\n",
      "bagging, val_score: 6.537652:  90%|###############################################7     | 9/10 [00:03<00:00,  2.70it/s]"
     ]
    },
    {
     "name": "stdout",
     "output_type": "stream",
     "text": [
      "[300]\ttrain's rmse: 5.41033\teval's rmse: 6.9127\n",
      "Early stopping, best iteration is:\n",
      "[223]\ttrain's rmse: 5.67344\teval's rmse: 6.84085\n",
      "Training until validation scores don't improve for 100 rounds\n",
      "[100]\ttrain's rmse: 6.32736\teval's rmse: 6.86888\n"
     ]
    },
    {
     "name": "stderr",
     "output_type": "stream",
     "text": [
      "bagging, val_score: 6.537652: 100%|####################################################| 10/10 [00:03<00:00,  2.74it/s]\u001b[32m[I 2021-07-03 17:57:43,852]\u001b[0m Trial 36 finished with value: 6.669226493429271 and parameters: {'bagging_fraction': 0.8208614724824363, 'bagging_freq': 6}. Best is trial 28 with value: 6.537652218149499.\u001b[0m\n",
      "bagging, val_score: 6.537652: 100%|####################################################| 10/10 [00:03<00:00,  2.55it/s]\n",
      "  0%|                                                                                            | 0/3 [00:00<?, ?it/s]"
     ]
    },
    {
     "name": "stdout",
     "output_type": "stream",
     "text": [
      "[200]\ttrain's rmse: 5.65325\teval's rmse: 6.72344\n",
      "[300]\ttrain's rmse: 5.25429\teval's rmse: 6.67551\n",
      "[400]\ttrain's rmse: 4.94311\teval's rmse: 6.69325\n",
      "Early stopping, best iteration is:\n",
      "[308]\ttrain's rmse: 5.22313\teval's rmse: 6.66923\n"
     ]
    },
    {
     "name": "stderr",
     "output_type": "stream",
     "text": [
      "\r",
      "feature_fraction_stage2, val_score: 6.537652:   0%|                                              | 0/3 [00:00<?, ?it/s]"
     ]
    },
    {
     "name": "stdout",
     "output_type": "stream",
     "text": [
      "Training until validation scores don't improve for 100 rounds\n",
      "[100]\ttrain's rmse: 6.23771\teval's rmse: 6.82596\n",
      "[200]\ttrain's rmse: 5.58083\teval's rmse: 6.59199\n"
     ]
    },
    {
     "name": "stderr",
     "output_type": "stream",
     "text": [
      "feature_fraction_stage2, val_score: 6.537652:  33%|############6                         | 1/3 [00:00<00:00,  2.25it/s]\u001b[32m[I 2021-07-03 17:57:44,304]\u001b[0m Trial 37 finished with value: 6.551963623726316 and parameters: {'feature_fraction': 0.48000000000000004}. Best is trial 37 with value: 6.551963623726316.\u001b[0m\n",
      "feature_fraction_stage2, val_score: 6.537652:  33%|############6                         | 1/3 [00:00<00:00,  2.25it/s]"
     ]
    },
    {
     "name": "stdout",
     "output_type": "stream",
     "text": [
      "[300]\ttrain's rmse: 5.16531\teval's rmse: 6.55931\n",
      "[400]\ttrain's rmse: 4.84081\teval's rmse: 6.57204\n",
      "Early stopping, best iteration is:\n",
      "[361]\ttrain's rmse: 4.95861\teval's rmse: 6.55196\n",
      "Training until validation scores don't improve for 100 rounds\n",
      "[100]\ttrain's rmse: 6.27542\teval's rmse: 6.82775\n",
      "[200]\ttrain's rmse: 5.57858\teval's rmse: 6.58462\n",
      "[300]\ttrain's rmse: 5.17958\teval's rmse: 6.53294\n",
      "[400]\ttrain's rmse: 4.8627\teval's rmse: 6.52903\n"
     ]
    },
    {
     "name": "stderr",
     "output_type": "stream",
     "text": [
      "feature_fraction_stage2, val_score: 6.505966:  67%|#########################3            | 2/3 [00:00<00:00,  2.37it/s]\u001b[32m[I 2021-07-03 17:57:44,725]\u001b[0m Trial 38 finished with value: 6.505965793445483 and parameters: {'feature_fraction': 0.44800000000000006}. Best is trial 38 with value: 6.505965793445483.\u001b[0m\n",
      "feature_fraction_stage2, val_score: 6.505966:  67%|#########################3            | 2/3 [00:00<00:00,  2.37it/s]"
     ]
    },
    {
     "name": "stdout",
     "output_type": "stream",
     "text": [
      "Early stopping, best iteration is:\n",
      "[358]\ttrain's rmse: 4.99736\teval's rmse: 6.50597\n",
      "Training until validation scores don't improve for 100 rounds\n",
      "[100]\ttrain's rmse: 6.25818\teval's rmse: 6.78029\n",
      "[200]\ttrain's rmse: 5.58506\teval's rmse: 6.55065\n",
      "[300]\ttrain's rmse: 5.17405\teval's rmse: 6.52944\n",
      "[400]\ttrain's rmse: 4.84672\teval's rmse: 6.54186\n",
      "Early stopping, best iteration is:\n",
      "[340]\ttrain's rmse: 5.04268\teval's rmse: 6.51006\n"
     ]
    },
    {
     "name": "stderr",
     "output_type": "stream",
     "text": [
      "feature_fraction_stage2, val_score: 6.505966: 100%|######################################| 3/3 [00:01<00:00,  2.36it/s]\u001b[32m[I 2021-07-03 17:57:45,145]\u001b[0m Trial 39 finished with value: 6.510061726094264 and parameters: {'feature_fraction': 0.41600000000000004}. Best is trial 38 with value: 6.505965793445483.\u001b[0m\n",
      "feature_fraction_stage2, val_score: 6.505966: 100%|######################################| 3/3 [00:01<00:00,  2.33it/s]\n",
      "regularization_factors, val_score: 6.505966:   0%|                                              | 0/20 [00:00<?, ?it/s]"
     ]
    },
    {
     "name": "stdout",
     "output_type": "stream",
     "text": [
      "Training until validation scores don't improve for 100 rounds\n",
      "[100]\ttrain's rmse: 6.32663\teval's rmse: 6.81894\n",
      "[200]\ttrain's rmse: 5.64263\teval's rmse: 6.57925\n"
     ]
    },
    {
     "name": "stderr",
     "output_type": "stream",
     "text": [
      "\r",
      "regularization_factors, val_score: 6.505966:   0%|                                              | 0/20 [00:00<?, ?it/s]"
     ]
    },
    {
     "name": "stdout",
     "output_type": "stream",
     "text": [
      "[300]\ttrain's rmse: 5.25003\teval's rmse: 6.54138\n",
      "[400]\ttrain's rmse: 4.9366\teval's rmse: 6.53472\n",
      "[500]\ttrain's rmse: 4.68941\teval's rmse: 6.53369\n",
      "Early stopping, best iteration is:\n",
      "[414]\ttrain's rmse: 4.90049\teval's rmse: 6.52823\n"
     ]
    },
    {
     "name": "stderr",
     "output_type": "stream",
     "text": [
      "regularization_factors, val_score: 6.505966:   5%|#9                                    | 1/20 [00:00<00:08,  2.12it/s]\u001b[32m[I 2021-07-03 17:57:45,632]\u001b[0m Trial 40 finished with value: 6.528231416419105 and parameters: {'lambda_l1': 0.00015789923937149366, 'lambda_l2': 3.6187354088295516}. Best is trial 40 with value: 6.528231416419105.\u001b[0m\n",
      "regularization_factors, val_score: 6.505966:   5%|#9                                    | 1/20 [00:00<00:08,  2.12it/s]"
     ]
    },
    {
     "name": "stdout",
     "output_type": "stream",
     "text": [
      "Training until validation scores don't improve for 100 rounds\n",
      "[100]\ttrain's rmse: 6.23772\teval's rmse: 6.82228\n",
      "[200]\ttrain's rmse: 5.55638\teval's rmse: 6.59439\n"
     ]
    },
    {
     "name": "stderr",
     "output_type": "stream",
     "text": [
      "regularization_factors, val_score: 6.505966:  10%|###8                                  | 2/20 [00:00<00:07,  2.25it/s]\u001b[32m[I 2021-07-03 17:57:46,041]\u001b[0m Trial 41 finished with value: 6.540460218100278 and parameters: {'lambda_l1': 0.10900441206361733, 'lambda_l2': 2.518484142456894e-07}. Best is trial 40 with value: 6.528231416419105.\u001b[0m\n",
      "regularization_factors, val_score: 6.505966:  10%|###8                                  | 2/20 [00:00<00:07,  2.25it/s]"
     ]
    },
    {
     "name": "stdout",
     "output_type": "stream",
     "text": [
      "[300]\ttrain's rmse: 5.15078\teval's rmse: 6.55754\n",
      "[400]\ttrain's rmse: 4.83758\teval's rmse: 6.55832\n",
      "Early stopping, best iteration is:\n",
      "[353]\ttrain's rmse: 4.98464\teval's rmse: 6.54046\n",
      "Training until validation scores don't improve for 100 rounds\n",
      "[100]\ttrain's rmse: 6.26631\teval's rmse: 6.82392\n",
      "[200]\ttrain's rmse: 5.61292\teval's rmse: 6.61675\n",
      "[300]\ttrain's rmse: 5.24021\teval's rmse: 6.55517\n"
     ]
    },
    {
     "name": "stderr",
     "output_type": "stream",
     "text": [
      "regularization_factors, val_score: 6.505966:  15%|#####7                                | 3/20 [00:01<00:07,  2.24it/s]\u001b[32m[I 2021-07-03 17:57:46,491]\u001b[0m Trial 42 finished with value: 6.533542910778674 and parameters: {'lambda_l1': 9.9456176575308, 'lambda_l2': 1.5903014254042994e-05}. Best is trial 40 with value: 6.528231416419105.\u001b[0m\n",
      "regularization_factors, val_score: 6.505966:  15%|#####7                                | 3/20 [00:01<00:07,  2.24it/s]"
     ]
    },
    {
     "name": "stdout",
     "output_type": "stream",
     "text": [
      "[400]\ttrain's rmse: 4.94537\teval's rmse: 6.54509\n",
      "Early stopping, best iteration is:\n",
      "[381]\ttrain's rmse: 5.00051\teval's rmse: 6.53354\n",
      "Training until validation scores don't improve for 100 rounds\n",
      "[100]\ttrain's rmse: 6.27542\teval's rmse: 6.82776\n",
      "[200]\ttrain's rmse: 5.57858\teval's rmse: 6.58462\n",
      "[300]\ttrain's rmse: 5.17958\teval's rmse: 6.53294\n"
     ]
    },
    {
     "name": "stderr",
     "output_type": "stream",
     "text": [
      "regularization_factors, val_score: 6.505966:  20%|#######6                              | 4/20 [00:01<00:07,  2.26it/s]\u001b[32m[I 2021-07-03 17:57:46,927]\u001b[0m Trial 43 finished with value: 6.505965836424304 and parameters: {'lambda_l1': 3.418103210943074e-05, 'lambda_l2': 6.153968003257089e-06}. Best is trial 43 with value: 6.505965836424304.\u001b[0m\n",
      "regularization_factors, val_score: 6.505966:  20%|#######6                              | 4/20 [00:01<00:07,  2.26it/s]"
     ]
    },
    {
     "name": "stdout",
     "output_type": "stream",
     "text": [
      "[400]\ttrain's rmse: 4.8627\teval's rmse: 6.52903\n",
      "Early stopping, best iteration is:\n",
      "[358]\ttrain's rmse: 4.99736\teval's rmse: 6.50597\n",
      "Training until validation scores don't improve for 100 rounds\n",
      "[100]\ttrain's rmse: 6.2499\teval's rmse: 6.80208\n",
      "[200]\ttrain's rmse: 5.57273\teval's rmse: 6.54289\n",
      "[300]\ttrain's rmse: 5.15937\teval's rmse: 6.53198\n"
     ]
    },
    {
     "name": "stderr",
     "output_type": "stream",
     "text": [
      "regularization_factors, val_score: 6.505966:  25%|#########5                            | 5/20 [00:02<00:06,  2.25it/s]\u001b[32m[I 2021-07-03 17:57:47,374]\u001b[0m Trial 44 finished with value: 6.516558196777378 and parameters: {'lambda_l1': 4.4342845838927555e-07, 'lambda_l2': 0.044115886377582965}. Best is trial 43 with value: 6.505965836424304.\u001b[0m\n",
      "regularization_factors, val_score: 6.505966:  25%|#########5                            | 5/20 [00:02<00:06,  2.25it/s]"
     ]
    },
    {
     "name": "stdout",
     "output_type": "stream",
     "text": [
      "[400]\ttrain's rmse: 4.83583\teval's rmse: 6.5321\n",
      "Early stopping, best iteration is:\n",
      "[369]\ttrain's rmse: 4.93248\teval's rmse: 6.51656\n",
      "Training until validation scores don't improve for 100 rounds\n",
      "[100]\ttrain's rmse: 6.25386\teval's rmse: 6.83854\n",
      "[200]\ttrain's rmse: 5.59418\teval's rmse: 6.61274\n",
      "[300]\ttrain's rmse: 5.2035\teval's rmse: 6.56558\n"
     ]
    },
    {
     "name": "stderr",
     "output_type": "stream",
     "text": [
      "regularization_factors, val_score: 6.505966:  30%|###########4                          | 6/20 [00:02<00:06,  2.22it/s]\u001b[32m[I 2021-07-03 17:57:47,855]\u001b[0m Trial 45 finished with value: 6.525765404974786 and parameters: {'lambda_l1': 4.375422767780454, 'lambda_l2': 0.02639851998495222}. Best is trial 43 with value: 6.505965836424304.\u001b[0m\n",
      "regularization_factors, val_score: 6.505966:  30%|###########4                          | 6/20 [00:02<00:06,  2.22it/s]"
     ]
    },
    {
     "name": "stdout",
     "output_type": "stream",
     "text": [
      "[400]\ttrain's rmse: 4.8962\teval's rmse: 6.53851\n",
      "[500]\ttrain's rmse: 4.65838\teval's rmse: 6.52916\n",
      "Early stopping, best iteration is:\n",
      "[419]\ttrain's rmse: 4.84631\teval's rmse: 6.52577\n",
      "Training until validation scores don't improve for 100 rounds\n",
      "[100]\ttrain's rmse: 6.27542\teval's rmse: 6.82775\n",
      "[200]\ttrain's rmse: 5.57858\teval's rmse: 6.58462\n"
     ]
    },
    {
     "name": "stderr",
     "output_type": "stream",
     "text": [
      "regularization_factors, val_score: 6.505966:  35%|#############3                        | 7/20 [00:03<00:05,  2.20it/s]\u001b[32m[I 2021-07-03 17:57:48,302]\u001b[0m Trial 46 finished with value: 6.505965796402811 and parameters: {'lambda_l1': 1.4819288145426034e-08, 'lambda_l2': 9.648043708623687e-07}. Best is trial 46 with value: 6.505965796402811.\u001b[0m\n",
      "regularization_factors, val_score: 6.505966:  35%|#############3                        | 7/20 [00:03<00:05,  2.20it/s]"
     ]
    },
    {
     "name": "stdout",
     "output_type": "stream",
     "text": [
      "[300]\ttrain's rmse: 5.17958\teval's rmse: 6.53294\n",
      "[400]\ttrain's rmse: 4.8627\teval's rmse: 6.52903\n",
      "Early stopping, best iteration is:\n",
      "[358]\ttrain's rmse: 4.99736\teval's rmse: 6.50597\n",
      "Training until validation scores don't improve for 100 rounds\n",
      "[100]\ttrain's rmse: 6.23798\teval's rmse: 6.82243\n",
      "[200]\ttrain's rmse: 5.56595\teval's rmse: 6.5909\n"
     ]
    },
    {
     "name": "stderr",
     "output_type": "stream",
     "text": [
      "regularization_factors, val_score: 6.505966:  40%|###############2                      | 8/20 [00:03<00:05,  2.23it/s]\u001b[32m[I 2021-07-03 17:57:48,736]\u001b[0m Trial 47 finished with value: 6.553617946798556 and parameters: {'lambda_l1': 0.18085056187402557, 'lambda_l2': 2.5687017761168064e-06}. Best is trial 46 with value: 6.505965796402811.\u001b[0m\n",
      "regularization_factors, val_score: 6.505966:  40%|###############2                      | 8/20 [00:03<00:05,  2.23it/s]"
     ]
    },
    {
     "name": "stdout",
     "output_type": "stream",
     "text": [
      "[300]\ttrain's rmse: 5.15075\teval's rmse: 6.57224\n",
      "[400]\ttrain's rmse: 4.83414\teval's rmse: 6.56897\n",
      "Early stopping, best iteration is:\n",
      "[377]\ttrain's rmse: 4.90864\teval's rmse: 6.55362\n",
      "Training until validation scores don't improve for 100 rounds\n",
      "[100]\ttrain's rmse: 6.27542\teval's rmse: 6.82776\n",
      "[200]\ttrain's rmse: 5.57859\teval's rmse: 6.58462\n",
      "[300]\ttrain's rmse: 5.18228\teval's rmse: 6.53138\n",
      "[400]\ttrain's rmse: 4.87055\teval's rmse: 6.52811\n",
      "[500]\ttrain's rmse: 4.603\teval's rmse: 6.52009\n",
      "Early stopping, best iteration is:\n",
      "[449]\ttrain's rmse: 4.73316\teval's rmse: 6.51179\n"
     ]
    },
    {
     "name": "stderr",
     "output_type": "stream",
     "text": [
      "regularization_factors, val_score: 6.505966:  45%|#################1                    | 9/20 [00:04<00:05,  2.14it/s]\u001b[32m[I 2021-07-03 17:57:49,256]\u001b[0m Trial 48 finished with value: 6.5117880715940455 and parameters: {'lambda_l1': 0.0008901790860663209, 'lambda_l2': 3.4842902998164126e-06}. Best is trial 46 with value: 6.505965796402811.\u001b[0m\n",
      "regularization_factors, val_score: 6.505966:  45%|#################1                    | 9/20 [00:04<00:05,  2.14it/s]"
     ]
    },
    {
     "name": "stdout",
     "output_type": "stream",
     "text": [
      "Training until validation scores don't improve for 100 rounds\n",
      "[100]\ttrain's rmse: 6.27542\teval's rmse: 6.82776\n",
      "[200]\ttrain's rmse: 5.57858\teval's rmse: 6.58462\n"
     ]
    },
    {
     "name": "stderr",
     "output_type": "stream",
     "text": [
      "regularization_factors, val_score: 6.505966:  50%|##################5                  | 10/20 [00:04<00:04,  2.20it/s]\u001b[32m[I 2021-07-03 17:57:49,670]\u001b[0m Trial 49 finished with value: 6.505965850170072 and parameters: {'lambda_l1': 3.991949279048481e-06, 'lambda_l2': 1.967756681941943e-05}. Best is trial 46 with value: 6.505965796402811.\u001b[0m\n",
      "regularization_factors, val_score: 6.505966:  50%|##################5                  | 10/20 [00:04<00:04,  2.20it/s]"
     ]
    },
    {
     "name": "stdout",
     "output_type": "stream",
     "text": [
      "[300]\ttrain's rmse: 5.17958\teval's rmse: 6.53294\n",
      "[400]\ttrain's rmse: 4.8627\teval's rmse: 6.52903\n",
      "Early stopping, best iteration is:\n",
      "[358]\ttrain's rmse: 4.99736\teval's rmse: 6.50597\n",
      "Training until validation scores don't improve for 100 rounds\n",
      "[100]\ttrain's rmse: 6.27542\teval's rmse: 6.82775\n",
      "[200]\ttrain's rmse: 5.57858\teval's rmse: 6.58462\n"
     ]
    },
    {
     "name": "stderr",
     "output_type": "stream",
     "text": [
      "regularization_factors, val_score: 6.505966:  55%|####################3                | 11/20 [00:04<00:04,  2.21it/s]\u001b[32m[I 2021-07-03 17:57:50,119]\u001b[0m Trial 50 finished with value: 6.505965793592721 and parameters: {'lambda_l1': 1.2639852551106964e-08, 'lambda_l2': 2.8943665157519845e-08}. Best is trial 50 with value: 6.505965793592721.\u001b[0m\n",
      "regularization_factors, val_score: 6.505966:  55%|####################3                | 11/20 [00:04<00:04,  2.21it/s]"
     ]
    },
    {
     "name": "stdout",
     "output_type": "stream",
     "text": [
      "[300]\ttrain's rmse: 5.17958\teval's rmse: 6.53294\n",
      "[400]\ttrain's rmse: 4.8627\teval's rmse: 6.52903\n",
      "Early stopping, best iteration is:\n",
      "[358]\ttrain's rmse: 4.99736\teval's rmse: 6.50597\n",
      "Training until validation scores don't improve for 100 rounds\n",
      "[100]\ttrain's rmse: 6.27542\teval's rmse: 6.82775\n",
      "[200]\ttrain's rmse: 5.57858\teval's rmse: 6.58462\n"
     ]
    },
    {
     "name": "stderr",
     "output_type": "stream",
     "text": [
      "regularization_factors, val_score: 6.505966:  60%|######################2              | 12/20 [00:05<00:03,  2.24it/s]\u001b[32m[I 2021-07-03 17:57:50,569]\u001b[0m Trial 51 finished with value: 6.505965793482624 and parameters: {'lambda_l1': 1.277557849643876e-08, 'lambda_l2': 1.1573929615387754e-08}. Best is trial 51 with value: 6.505965793482624.\u001b[0m\n",
      "regularization_factors, val_score: 6.505966:  60%|######################2              | 12/20 [00:05<00:03,  2.24it/s]"
     ]
    },
    {
     "name": "stdout",
     "output_type": "stream",
     "text": [
      "[300]\ttrain's rmse: 5.17958\teval's rmse: 6.53294\n",
      "[400]\ttrain's rmse: 4.8627\teval's rmse: 6.52903\n",
      "Early stopping, best iteration is:\n",
      "[358]\ttrain's rmse: 4.99736\teval's rmse: 6.50597\n",
      "Training until validation scores don't improve for 100 rounds\n",
      "[100]\ttrain's rmse: 6.27542\teval's rmse: 6.82775\n",
      "[200]\ttrain's rmse: 5.57858\teval's rmse: 6.58462\n"
     ]
    },
    {
     "name": "stderr",
     "output_type": "stream",
     "text": [
      "regularization_factors, val_score: 6.505966:  65%|########################             | 13/20 [00:05<00:03,  2.21it/s]\u001b[32m[I 2021-07-03 17:57:51,019]\u001b[0m Trial 52 finished with value: 6.505965793606526 and parameters: {'lambda_l1': 1.665783115893688e-08, 'lambda_l2': 1.1076407263805683e-08}. Best is trial 51 with value: 6.505965793482624.\u001b[0m\n",
      "regularization_factors, val_score: 6.505966:  65%|########################             | 13/20 [00:05<00:03,  2.21it/s]"
     ]
    },
    {
     "name": "stdout",
     "output_type": "stream",
     "text": [
      "[300]\ttrain's rmse: 5.17958\teval's rmse: 6.53294\n",
      "[400]\ttrain's rmse: 4.8627\teval's rmse: 6.52903\n",
      "Early stopping, best iteration is:\n",
      "[358]\ttrain's rmse: 4.99736\teval's rmse: 6.50597\n",
      "Training until validation scores don't improve for 100 rounds\n",
      "[100]\ttrain's rmse: 6.27542\teval's rmse: 6.82775\n",
      "[200]\ttrain's rmse: 5.57858\teval's rmse: 6.58462\n"
     ]
    },
    {
     "name": "stderr",
     "output_type": "stream",
     "text": [
      "regularization_factors, val_score: 6.505966:  70%|#########################9           | 14/20 [00:06<00:02,  2.21it/s]\u001b[32m[I 2021-07-03 17:57:51,470]\u001b[0m Trial 53 finished with value: 6.505965793740672 and parameters: {'lambda_l1': 1.6220473493625075e-07, 'lambda_l2': 1.8719920398646867e-08}. Best is trial 51 with value: 6.505965793482624.\u001b[0m\n",
      "regularization_factors, val_score: 6.505966:  70%|#########################9           | 14/20 [00:06<00:02,  2.21it/s]"
     ]
    },
    {
     "name": "stdout",
     "output_type": "stream",
     "text": [
      "[300]\ttrain's rmse: 5.17958\teval's rmse: 6.53294\n",
      "[400]\ttrain's rmse: 4.8627\teval's rmse: 6.52903\n",
      "Early stopping, best iteration is:\n",
      "[358]\ttrain's rmse: 4.99736\teval's rmse: 6.50597\n",
      "Training until validation scores don't improve for 100 rounds\n",
      "[100]\ttrain's rmse: 6.27542\teval's rmse: 6.82775\n",
      "[200]\ttrain's rmse: 5.57858\teval's rmse: 6.58462\n"
     ]
    },
    {
     "name": "stderr",
     "output_type": "stream",
     "text": [
      "regularization_factors, val_score: 6.505966:  75%|###########################7         | 15/20 [00:06<00:02,  2.21it/s]\u001b[32m[I 2021-07-03 17:57:51,920]\u001b[0m Trial 54 finished with value: 6.505965793568776 and parameters: {'lambda_l1': 1.5645563032773637e-08, 'lambda_l2': 1.0448996573276233e-08}. Best is trial 51 with value: 6.505965793482624.\u001b[0m\n",
      "regularization_factors, val_score: 6.505966:  75%|###########################7         | 15/20 [00:06<00:02,  2.21it/s]"
     ]
    },
    {
     "name": "stdout",
     "output_type": "stream",
     "text": [
      "[300]\ttrain's rmse: 5.17958\teval's rmse: 6.53294\n",
      "[400]\ttrain's rmse: 4.8627\teval's rmse: 6.52903\n",
      "Early stopping, best iteration is:\n",
      "[358]\ttrain's rmse: 4.99736\teval's rmse: 6.50597\n",
      "Training until validation scores don't improve for 100 rounds\n",
      "[100]\ttrain's rmse: 6.27543\teval's rmse: 6.82776\n",
      "[200]\ttrain's rmse: 5.57859\teval's rmse: 6.58462\n"
     ]
    },
    {
     "name": "stderr",
     "output_type": "stream",
     "text": [
      "regularization_factors, val_score: 6.505966:  80%|#############################6       | 16/20 [00:07<00:01,  2.22it/s]\u001b[32m[I 2021-07-03 17:57:52,368]\u001b[0m Trial 55 finished with value: 6.505967043966206 and parameters: {'lambda_l1': 4.85565329734719e-07, 'lambda_l2': 0.0004487312910287309}. Best is trial 51 with value: 6.505965793482624.\u001b[0m\n",
      "regularization_factors, val_score: 6.505966:  80%|#############################6       | 16/20 [00:07<00:01,  2.22it/s]"
     ]
    },
    {
     "name": "stdout",
     "output_type": "stream",
     "text": [
      "[300]\ttrain's rmse: 5.17959\teval's rmse: 6.53294\n",
      "[400]\ttrain's rmse: 4.86271\teval's rmse: 6.52903\n",
      "Early stopping, best iteration is:\n",
      "[358]\ttrain's rmse: 4.99737\teval's rmse: 6.50597\n",
      "Training until validation scores don't improve for 100 rounds\n",
      "[100]\ttrain's rmse: 6.27543\teval's rmse: 6.82776\n",
      "[200]\ttrain's rmse: 5.5786\teval's rmse: 6.58462\n"
     ]
    },
    {
     "name": "stderr",
     "output_type": "stream",
     "text": [
      "regularization_factors, val_score: 6.502329:  85%|###############################4     | 17/20 [00:07<00:01,  2.22it/s]\u001b[32m[I 2021-07-03 17:57:52,819]\u001b[0m Trial 56 finished with value: 6.502329469846445 and parameters: {'lambda_l1': 0.0027864268973054745, 'lambda_l2': 1.1513404740140268e-07}. Best is trial 56 with value: 6.502329469846445.\u001b[0m\n",
      "regularization_factors, val_score: 6.502329:  85%|###############################4     | 17/20 [00:07<00:01,  2.22it/s]"
     ]
    },
    {
     "name": "stdout",
     "output_type": "stream",
     "text": [
      "[300]\ttrain's rmse: 5.17601\teval's rmse: 6.53158\n",
      "[400]\ttrain's rmse: 4.8504\teval's rmse: 6.51775\n",
      "Early stopping, best iteration is:\n",
      "[369]\ttrain's rmse: 4.95389\teval's rmse: 6.50233\n",
      "Training until validation scores don't improve for 100 rounds\n",
      "[100]\ttrain's rmse: 6.27544\teval's rmse: 6.82777\n",
      "[200]\ttrain's rmse: 5.57863\teval's rmse: 6.58463\n"
     ]
    },
    {
     "name": "stderr",
     "output_type": "stream",
     "text": [
      "regularization_factors, val_score: 6.502329:  90%|#################################3   | 18/20 [00:08<00:00,  2.20it/s]\u001b[32m[I 2021-07-03 17:57:53,284]\u001b[0m Trial 57 finished with value: 6.504628540847908 and parameters: {'lambda_l1': 0.006230775381342682, 'lambda_l2': 2.6282172348501734e-07}. Best is trial 56 with value: 6.502329469846445.\u001b[0m\n",
      "regularization_factors, val_score: 6.502329:  90%|#################################3   | 18/20 [00:08<00:00,  2.20it/s]"
     ]
    },
    {
     "name": "stdout",
     "output_type": "stream",
     "text": [
      "[300]\ttrain's rmse: 5.17604\teval's rmse: 6.53158\n",
      "[400]\ttrain's rmse: 4.85365\teval's rmse: 6.52183\n",
      "Early stopping, best iteration is:\n",
      "[369]\ttrain's rmse: 4.95344\teval's rmse: 6.50463\n",
      "Training until validation scores don't improve for 100 rounds\n",
      "[100]\ttrain's rmse: 6.27544\teval's rmse: 6.82777\n",
      "[200]\ttrain's rmse: 5.57863\teval's rmse: 6.58463\n"
     ]
    },
    {
     "name": "stderr",
     "output_type": "stream",
     "text": [
      "regularization_factors, val_score: 6.502329:  95%|###################################1 | 19/20 [00:08<00:00,  2.20it/s]\u001b[32m[I 2021-07-03 17:57:53,751]\u001b[0m Trial 58 finished with value: 6.504628659568757 and parameters: {'lambda_l1': 0.005489027470905034, 'lambda_l2': 0.00018583357839308134}. Best is trial 56 with value: 6.502329469846445.\u001b[0m\n",
      "regularization_factors, val_score: 6.502329:  95%|###################################1 | 19/20 [00:08<00:00,  2.20it/s]"
     ]
    },
    {
     "name": "stdout",
     "output_type": "stream",
     "text": [
      "[300]\ttrain's rmse: 5.17604\teval's rmse: 6.53158\n",
      "[400]\ttrain's rmse: 4.85364\teval's rmse: 6.52183\n",
      "Early stopping, best iteration is:\n",
      "[369]\ttrain's rmse: 4.95343\teval's rmse: 6.50463\n",
      "Training until validation scores don't improve for 100 rounds\n",
      "[100]\ttrain's rmse: 6.27546\teval's rmse: 6.82778\n",
      "[200]\ttrain's rmse: 5.57867\teval's rmse: 6.58464\n"
     ]
    },
    {
     "name": "stderr",
     "output_type": "stream",
     "text": [
      "regularization_factors, val_score: 6.502329: 100%|#####################################| 20/20 [00:09<00:00,  2.19it/s]\u001b[32m[I 2021-07-03 17:57:54,201]\u001b[0m Trial 59 finished with value: 6.504630944619325 and parameters: {'lambda_l1': 0.012412089200366247, 'lambda_l2': 1.6177699838682692e-07}. Best is trial 56 with value: 6.502329469846445.\u001b[0m\n",
      "regularization_factors, val_score: 6.502329: 100%|#####################################| 20/20 [00:09<00:00,  2.21it/s]\n",
      "min_data_in_leaf, val_score: 6.502329:   0%|                                                     | 0/5 [00:00<?, ?it/s]"
     ]
    },
    {
     "name": "stdout",
     "output_type": "stream",
     "text": [
      "[300]\ttrain's rmse: 5.17611\teval's rmse: 6.53159\n",
      "[400]\ttrain's rmse: 4.85373\teval's rmse: 6.52183\n",
      "Early stopping, best iteration is:\n",
      "[369]\ttrain's rmse: 4.95351\teval's rmse: 6.50463\n",
      "Training until validation scores don't improve for 100 rounds\n",
      "[100]\ttrain's rmse: 6.16539\teval's rmse: 6.75652\n",
      "[200]\ttrain's rmse: 5.46897\teval's rmse: 6.53251\n"
     ]
    },
    {
     "name": "stderr",
     "output_type": "stream",
     "text": [
      "min_data_in_leaf, val_score: 6.471813:  20%|#########                                    | 1/5 [00:00<00:01,  2.40it/s]\u001b[32m[I 2021-07-03 17:57:54,638]\u001b[0m Trial 60 finished with value: 6.4718130564469325 and parameters: {'min_child_samples': 10}. Best is trial 60 with value: 6.4718130564469325.\u001b[0m\n",
      "min_data_in_leaf, val_score: 6.471813:  20%|#########                                    | 1/5 [00:00<00:01,  2.40it/s]"
     ]
    },
    {
     "name": "stdout",
     "output_type": "stream",
     "text": [
      "[300]\ttrain's rmse: 5.02919\teval's rmse: 6.49726\n",
      "[400]\ttrain's rmse: 4.65118\teval's rmse: 6.49269\n",
      "Early stopping, best iteration is:\n",
      "[355]\ttrain's rmse: 4.81164\teval's rmse: 6.47181\n",
      "Training until validation scores don't improve for 100 rounds\n",
      "[100]\ttrain's rmse: 6.12253\teval's rmse: 6.73026\n",
      "[200]\ttrain's rmse: 5.35877\teval's rmse: 6.51386\n",
      "[300]\ttrain's rmse: 4.87861\teval's rmse: 6.46521\n"
     ]
    },
    {
     "name": "stderr",
     "output_type": "stream",
     "text": [
      "min_data_in_leaf, val_score: 6.453011:  40%|##################                           | 2/5 [00:00<00:01,  2.44it/s]\u001b[32m[I 2021-07-03 17:57:55,043]\u001b[0m Trial 61 finished with value: 6.4530109663684545 and parameters: {'min_child_samples': 5}. Best is trial 61 with value: 6.4530109663684545.\u001b[0m\n",
      "min_data_in_leaf, val_score: 6.453011:  40%|##################                           | 2/5 [00:00<00:01,  2.44it/s]"
     ]
    },
    {
     "name": "stdout",
     "output_type": "stream",
     "text": [
      "[400]\ttrain's rmse: 4.50684\teval's rmse: 6.46405\n",
      "Early stopping, best iteration is:\n",
      "[323]\ttrain's rmse: 4.79702\teval's rmse: 6.45301\n",
      "Training until validation scores don't improve for 100 rounds\n",
      "[100]\ttrain's rmse: 6.34987\teval's rmse: 6.93217\n",
      "[200]\ttrain's rmse: 5.68411\teval's rmse: 6.76721\n",
      "[300]\ttrain's rmse: 5.288\teval's rmse: 6.73583\n",
      "[400]\ttrain's rmse: 4.98176\teval's rmse: 6.73144\n",
      "[500]\ttrain's rmse: 4.74321\teval's rmse: 6.71801\n"
     ]
    },
    {
     "name": "stderr",
     "output_type": "stream",
     "text": [
      "min_data_in_leaf, val_score: 6.453011:  60%|###########################                  | 3/5 [00:01<00:00,  2.03it/s]\u001b[32m[I 2021-07-03 17:57:55,634]\u001b[0m Trial 62 finished with value: 6.689493736960489 and parameters: {'min_child_samples': 25}. Best is trial 61 with value: 6.4530109663684545.\u001b[0m\n",
      "min_data_in_leaf, val_score: 6.453011:  60%|###########################                  | 3/5 [00:01<00:00,  2.03it/s]"
     ]
    },
    {
     "name": "stdout",
     "output_type": "stream",
     "text": [
      "[600]\ttrain's rmse: 4.537\teval's rmse: 6.69549\n",
      "Early stopping, best iteration is:\n",
      "[585]\ttrain's rmse: 4.56278\teval's rmse: 6.68949\n",
      "Training until validation scores don't improve for 100 rounds\n",
      "[100]\ttrain's rmse: 6.6822\teval's rmse: 7.15376\n",
      "[200]\ttrain's rmse: 6.03327\teval's rmse: 6.96807\n",
      "[300]\ttrain's rmse: 5.67548\teval's rmse: 6.93348\n",
      "[400]\ttrain's rmse: 5.38059\teval's rmse: 6.90335\n",
      "[500]\ttrain's rmse: 5.17016\teval's rmse: 6.87515\n",
      "[600]\ttrain's rmse: 4.9821\teval's rmse: 6.85928\n"
     ]
    },
    {
     "name": "stderr",
     "output_type": "stream",
     "text": [
      "min_data_in_leaf, val_score: 6.453011:  80%|####################################         | 4/5 [00:02<00:00,  1.77it/s]\u001b[32m[I 2021-07-03 17:57:56,306]\u001b[0m Trial 63 finished with value: 6.849705230638158 and parameters: {'min_child_samples': 50}. Best is trial 61 with value: 6.4530109663684545.\u001b[0m\n",
      "min_data_in_leaf, val_score: 6.453011:  80%|####################################         | 4/5 [00:02<00:00,  1.77it/s]"
     ]
    },
    {
     "name": "stdout",
     "output_type": "stream",
     "text": [
      "[700]\ttrain's rmse: 4.80427\teval's rmse: 6.85821\n",
      "Early stopping, best iteration is:\n",
      "[642]\ttrain's rmse: 4.89753\teval's rmse: 6.84971\n",
      "Training until validation scores don't improve for 100 rounds\n",
      "[100]\ttrain's rmse: 7.11241\teval's rmse: 7.62986\n",
      "[200]\ttrain's rmse: 6.47973\teval's rmse: 7.3672\n",
      "[300]\ttrain's rmse: 6.13487\teval's rmse: 7.27564\n",
      "[400]\ttrain's rmse: 5.87837\teval's rmse: 7.2419\n",
      "[500]\ttrain's rmse: 5.6609\teval's rmse: 7.21728\n",
      "[600]\ttrain's rmse: 5.47989\teval's rmse: 7.16719\n",
      "[700]\ttrain's rmse: 5.31964\teval's rmse: 7.13727\n",
      "[800]\ttrain's rmse: 5.17346\teval's rmse: 7.11683\n",
      "[900]\ttrain's rmse: 5.04519\teval's rmse: 7.10743\n"
     ]
    },
    {
     "name": "stderr",
     "output_type": "stream",
     "text": [
      "min_data_in_leaf, val_score: 6.453011: 100%|#############################################| 5/5 [00:02<00:00,  1.47it/s]\u001b[32m[I 2021-07-03 17:57:57,190]\u001b[0m Trial 64 finished with value: 7.085168388754573 and parameters: {'min_child_samples': 100}. Best is trial 61 with value: 6.4530109663684545.\u001b[0m\n",
      "min_data_in_leaf, val_score: 6.453011: 100%|#############################################| 5/5 [00:02<00:00,  1.68it/s]\n",
      "\u001b[32m[I 2021-07-03 17:57:57,243]\u001b[0m A new study created in memory with name: no-name-658a8cfe-13bd-44bb-9bd2-a28ba09c3450\u001b[0m\n",
      "feature_fraction, val_score: inf:   0%|                                                          | 0/7 [00:00<?, ?it/s]"
     ]
    },
    {
     "name": "stdout",
     "output_type": "stream",
     "text": [
      "[1000]\ttrain's rmse: 4.93109\teval's rmse: 7.08517\n",
      "Did not meet early stopping. Best iteration is:\n",
      "[1000]\ttrain's rmse: 4.93109\teval's rmse: 7.08517\n",
      "Training until validation scores don't improve for 100 rounds\n",
      "[100]\ttrain's rmse: 4.99515\teval's rmse: 6.9958\n",
      "[200]\ttrain's rmse: 3.971\teval's rmse: 6.81933\n"
     ]
    },
    {
     "name": "stderr",
     "output_type": "stream",
     "text": [
      "feature_fraction, val_score: 6.787947:  14%|######4                                      | 1/7 [00:00<00:03,  1.55it/s]\u001b[32m[I 2021-07-03 17:57:57,894]\u001b[0m Trial 0 finished with value: 6.78794720118203 and parameters: {'feature_fraction': 1.0}. Best is trial 0 with value: 6.78794720118203.\u001b[0m\n",
      "feature_fraction, val_score: 6.787947:  14%|######4                                      | 1/7 [00:00<00:03,  1.55it/s]"
     ]
    },
    {
     "name": "stdout",
     "output_type": "stream",
     "text": [
      "[300]\ttrain's rmse: 3.35534\teval's rmse: 6.8007\n",
      "Early stopping, best iteration is:\n",
      "[265]\ttrain's rmse: 3.55346\teval's rmse: 6.78795\n",
      "Training until validation scores don't improve for 100 rounds\n",
      "[100]\ttrain's rmse: 4.98585\teval's rmse: 6.96864\n",
      "[200]\ttrain's rmse: 3.97689\teval's rmse: 6.78995\n",
      "[300]\ttrain's rmse: 3.3819\teval's rmse: 6.77968\n"
     ]
    },
    {
     "name": "stderr",
     "output_type": "stream",
     "text": [
      "feature_fraction, val_score: 6.763159:  29%|############8                                | 2/7 [00:01<00:03,  1.47it/s]\u001b[32m[I 2021-07-03 17:57:58,616]\u001b[0m Trial 1 finished with value: 6.763158595090716 and parameters: {'feature_fraction': 0.8}. Best is trial 1 with value: 6.763158595090716.\u001b[0m\n",
      "feature_fraction, val_score: 6.763159:  29%|############8                                | 2/7 [00:01<00:03,  1.47it/s]"
     ]
    },
    {
     "name": "stdout",
     "output_type": "stream",
     "text": [
      "[400]\ttrain's rmse: 2.93608\teval's rmse: 6.8003\n",
      "Early stopping, best iteration is:\n",
      "[311]\ttrain's rmse: 3.33106\teval's rmse: 6.76316\n",
      "Training until validation scores don't improve for 100 rounds\n",
      "[100]\ttrain's rmse: 5.18611\teval's rmse: 6.97635\n",
      "[200]\ttrain's rmse: 4.1953\teval's rmse: 6.77729\n"
     ]
    },
    {
     "name": "stderr",
     "output_type": "stream",
     "text": [
      "feature_fraction, val_score: 6.754650:  43%|###################2                         | 3/7 [00:01<00:02,  1.54it/s]\u001b[32m[I 2021-07-03 17:57:59,215]\u001b[0m Trial 2 finished with value: 6.754649833777667 and parameters: {'feature_fraction': 0.4}. Best is trial 2 with value: 6.754649833777667.\u001b[0m\n",
      "feature_fraction, val_score: 6.754650:  43%|###################2                         | 3/7 [00:01<00:02,  1.54it/s]"
     ]
    },
    {
     "name": "stdout",
     "output_type": "stream",
     "text": [
      "[300]\ttrain's rmse: 3.65033\teval's rmse: 6.77695\n",
      "Early stopping, best iteration is:\n",
      "[276]\ttrain's rmse: 3.76542\teval's rmse: 6.75465\n",
      "Training until validation scores don't improve for 100 rounds\n",
      "[100]\ttrain's rmse: 5.07246\teval's rmse: 6.98957\n",
      "[200]\ttrain's rmse: 4.08605\teval's rmse: 6.75782\n",
      "[300]\ttrain's rmse: 3.52922\teval's rmse: 6.7428\n"
     ]
    },
    {
     "name": "stderr",
     "output_type": "stream",
     "text": [
      "feature_fraction, val_score: 6.719695:  57%|#########################7                   | 4/7 [00:02<00:01,  1.58it/s]\u001b[32m[I 2021-07-03 17:57:59,824]\u001b[0m Trial 3 finished with value: 6.719695237585489 and parameters: {'feature_fraction': 0.5}. Best is trial 3 with value: 6.719695237585489.\u001b[0m\n",
      "feature_fraction, val_score: 6.719695:  57%|#########################7                   | 4/7 [00:02<00:01,  1.58it/s]"
     ]
    },
    {
     "name": "stdout",
     "output_type": "stream",
     "text": [
      "Early stopping, best iteration is:\n",
      "[273]\ttrain's rmse: 3.6668\teval's rmse: 6.7197\n",
      "Training until validation scores don't improve for 100 rounds\n",
      "[100]\ttrain's rmse: 5.00763\teval's rmse: 7.01088\n",
      "[200]\ttrain's rmse: 3.96864\teval's rmse: 6.85319\n"
     ]
    },
    {
     "name": "stderr",
     "output_type": "stream",
     "text": [
      "feature_fraction, val_score: 6.719695:  71%|################################1            | 5/7 [00:03<00:01,  1.54it/s]\u001b[32m[I 2021-07-03 17:58:00,510]\u001b[0m Trial 4 finished with value: 6.7976693521485405 and parameters: {'feature_fraction': 0.8999999999999999}. Best is trial 3 with value: 6.719695237585489.\u001b[0m\n",
      "feature_fraction, val_score: 6.719695:  71%|################################1            | 5/7 [00:03<00:01,  1.54it/s]"
     ]
    },
    {
     "name": "stdout",
     "output_type": "stream",
     "text": [
      "[300]\ttrain's rmse: 3.3741\teval's rmse: 6.80672\n",
      "Early stopping, best iteration is:\n",
      "[263]\ttrain's rmse: 3.57957\teval's rmse: 6.79767\n",
      "Training until validation scores don't improve for 100 rounds\n",
      "[100]\ttrain's rmse: 4.99497\teval's rmse: 6.94532\n",
      "[200]\ttrain's rmse: 4.00865\teval's rmse: 6.78856\n",
      "[300]\ttrain's rmse: 3.42913\teval's rmse: 6.77567\n",
      "[400]\ttrain's rmse: 2.98486\teval's rmse: 6.77603\n"
     ]
    },
    {
     "name": "stderr",
     "output_type": "stream",
     "text": [
      "feature_fraction, val_score: 6.719695:  86%|######################################5      | 6/7 [00:04<00:00,  1.45it/s]\u001b[32m[I 2021-07-03 17:58:01,272]\u001b[0m Trial 5 finished with value: 6.765236578636686 and parameters: {'feature_fraction': 0.7}. Best is trial 3 with value: 6.719695237585489.\u001b[0m\n",
      "feature_fraction, val_score: 6.719695:  86%|######################################5      | 6/7 [00:04<00:00,  1.45it/s]"
     ]
    },
    {
     "name": "stdout",
     "output_type": "stream",
     "text": [
      "Early stopping, best iteration is:\n",
      "[350]\ttrain's rmse: 3.19451\teval's rmse: 6.76524\n",
      "Training until validation scores don't improve for 100 rounds\n",
      "[100]\ttrain's rmse: 5.05532\teval's rmse: 6.98184\n",
      "[200]\ttrain's rmse: 4.06567\teval's rmse: 6.77875\n"
     ]
    },
    {
     "name": "stderr",
     "output_type": "stream",
     "text": [
      "feature_fraction, val_score: 6.719695: 100%|#############################################| 7/7 [00:04<00:00,  1.49it/s]\u001b[32m[I 2021-07-03 17:58:01,898]\u001b[0m Trial 6 finished with value: 6.758571607440669 and parameters: {'feature_fraction': 0.6}. Best is trial 3 with value: 6.719695237585489.\u001b[0m\n",
      "feature_fraction, val_score: 6.719695: 100%|#############################################| 7/7 [00:04<00:00,  1.51it/s]\n",
      "num_leaves, val_score: 6.719695:   0%|                                                          | 0/20 [00:00<?, ?it/s]"
     ]
    },
    {
     "name": "stdout",
     "output_type": "stream",
     "text": [
      "[300]\ttrain's rmse: 3.49078\teval's rmse: 6.78151\n",
      "Early stopping, best iteration is:\n",
      "[278]\ttrain's rmse: 3.60635\teval's rmse: 6.75857\n",
      "Training until validation scores don't improve for 100 rounds\n",
      "[100]\ttrain's rmse: 4.73889\teval's rmse: 6.98249\n",
      "[200]\ttrain's rmse: 3.6136\teval's rmse: 6.82935\n",
      "Early stopping, best iteration is:\n",
      "[190]\ttrain's rmse: 3.69681\teval's rmse: 6.81436\n"
     ]
    },
    {
     "name": "stderr",
     "output_type": "stream",
     "text": [
      "num_leaves, val_score: 6.719695:   5%|##5                                               | 1/20 [00:00<00:13,  1.45it/s]\u001b[32m[I 2021-07-03 17:58:02,606]\u001b[0m Trial 7 finished with value: 6.81435745457277 and parameters: {'num_leaves': 197}. Best is trial 7 with value: 6.81435745457277.\u001b[0m\n",
      "num_leaves, val_score: 6.719695:   5%|##5                                               | 1/20 [00:00<00:13,  1.45it/s]"
     ]
    },
    {
     "name": "stdout",
     "output_type": "stream",
     "text": [
      "Training until validation scores don't improve for 100 rounds\n",
      "[100]\ttrain's rmse: 4.73889\teval's rmse: 6.98249\n",
      "[200]\ttrain's rmse: 3.6136\teval's rmse: 6.82935\n",
      "Early stopping, best iteration is:\n",
      "[190]\ttrain's rmse: 3.69681\teval's rmse: 6.81436\n"
     ]
    },
    {
     "name": "stderr",
     "output_type": "stream",
     "text": [
      "num_leaves, val_score: 6.719695:  10%|#####                                             | 2/20 [00:01<00:12,  1.44it/s]\u001b[32m[I 2021-07-03 17:58:03,308]\u001b[0m Trial 8 finished with value: 6.81435745457277 and parameters: {'num_leaves': 151}. Best is trial 7 with value: 6.81435745457277.\u001b[0m\n",
      "num_leaves, val_score: 6.719695:  10%|#####                                             | 2/20 [00:01<00:12,  1.44it/s]"
     ]
    },
    {
     "name": "stdout",
     "output_type": "stream",
     "text": [
      "Training until validation scores don't improve for 100 rounds\n",
      "[100]\ttrain's rmse: 4.73889\teval's rmse: 6.98249\n",
      "[200]\ttrain's rmse: 3.6136\teval's rmse: 6.82935\n",
      "Early stopping, best iteration is:\n",
      "[190]\ttrain's rmse: 3.69681\teval's rmse: 6.81436\n"
     ]
    },
    {
     "name": "stderr",
     "output_type": "stream",
     "text": [
      "num_leaves, val_score: 6.719695:  15%|#######5                                          | 3/20 [00:02<00:11,  1.42it/s]\u001b[32m[I 2021-07-03 17:58:04,021]\u001b[0m Trial 9 finished with value: 6.81435745457277 and parameters: {'num_leaves': 174}. Best is trial 7 with value: 6.81435745457277.\u001b[0m\n",
      "num_leaves, val_score: 6.719695:  15%|#######5                                          | 3/20 [00:02<00:11,  1.42it/s]"
     ]
    },
    {
     "name": "stdout",
     "output_type": "stream",
     "text": [
      "Training until validation scores don't improve for 100 rounds\n",
      "[100]\ttrain's rmse: 5.11651\teval's rmse: 7.01024\n",
      "[200]\ttrain's rmse: 4.14172\teval's rmse: 6.79548\n",
      "[300]\ttrain's rmse: 3.58329\teval's rmse: 6.78919\n"
     ]
    },
    {
     "name": "stderr",
     "output_type": "stream",
     "text": [
      "num_leaves, val_score: 6.719695:  20%|##########                                        | 4/20 [00:02<00:10,  1.46it/s]\u001b[32m[I 2021-07-03 17:58:04,671]\u001b[0m Trial 10 finished with value: 6.77540991755093 and parameters: {'num_leaves': 30}. Best is trial 10 with value: 6.77540991755093.\u001b[0m\n",
      "num_leaves, val_score: 6.719695:  20%|##########                                        | 4/20 [00:02<00:10,  1.46it/s]"
     ]
    },
    {
     "name": "stdout",
     "output_type": "stream",
     "text": [
      "Early stopping, best iteration is:\n",
      "[270]\ttrain's rmse: 3.73813\teval's rmse: 6.77541\n",
      "Training until validation scores don't improve for 100 rounds\n",
      "[100]\ttrain's rmse: 4.73889\teval's rmse: 6.98249\n",
      "[200]\ttrain's rmse: 3.6136\teval's rmse: 6.82935\n"
     ]
    },
    {
     "name": "stderr",
     "output_type": "stream",
     "text": [
      "num_leaves, val_score: 6.719695:  25%|############5                                     | 5/20 [00:03<00:10,  1.48it/s]\u001b[32m[I 2021-07-03 17:58:05,328]\u001b[0m Trial 11 finished with value: 6.81435745457277 and parameters: {'num_leaves': 204}. Best is trial 10 with value: 6.77540991755093.\u001b[0m\n",
      "num_leaves, val_score: 6.719695:  25%|############5                                     | 5/20 [00:03<00:10,  1.48it/s]"
     ]
    },
    {
     "name": "stdout",
     "output_type": "stream",
     "text": [
      "Early stopping, best iteration is:\n",
      "[190]\ttrain's rmse: 3.69681\teval's rmse: 6.81436\n",
      "Training until validation scores don't improve for 100 rounds\n",
      "[100]\ttrain's rmse: 4.73889\teval's rmse: 6.98249\n",
      "[200]\ttrain's rmse: 3.6136\teval's rmse: 6.82935\n"
     ]
    },
    {
     "name": "stderr",
     "output_type": "stream",
     "text": [
      "num_leaves, val_score: 6.719695:  30%|###############                                   | 6/20 [00:04<00:09,  1.48it/s]\u001b[32m[I 2021-07-03 17:58:06,010]\u001b[0m Trial 12 finished with value: 6.81435745457277 and parameters: {'num_leaves': 219}. Best is trial 10 with value: 6.77540991755093.\u001b[0m\n",
      "num_leaves, val_score: 6.719695:  30%|###############                                   | 6/20 [00:04<00:09,  1.48it/s]"
     ]
    },
    {
     "name": "stdout",
     "output_type": "stream",
     "text": [
      "Early stopping, best iteration is:\n",
      "[190]\ttrain's rmse: 3.69681\teval's rmse: 6.81436\n",
      "Training until validation scores don't improve for 100 rounds\n",
      "[100]\ttrain's rmse: 4.73889\teval's rmse: 6.98249\n",
      "[200]\ttrain's rmse: 3.6136\teval's rmse: 6.82935\n"
     ]
    },
    {
     "name": "stderr",
     "output_type": "stream",
     "text": [
      "num_leaves, val_score: 6.719695:  35%|#################5                                | 7/20 [00:04<00:08,  1.50it/s]\u001b[32m[I 2021-07-03 17:58:06,677]\u001b[0m Trial 13 finished with value: 6.81435745457277 and parameters: {'num_leaves': 204}. Best is trial 10 with value: 6.77540991755093.\u001b[0m\n",
      "num_leaves, val_score: 6.719695:  35%|#################5                                | 7/20 [00:04<00:08,  1.50it/s]"
     ]
    },
    {
     "name": "stdout",
     "output_type": "stream",
     "text": [
      "Early stopping, best iteration is:\n",
      "[190]\ttrain's rmse: 3.69681\teval's rmse: 6.81436\n",
      "Training until validation scores don't improve for 100 rounds\n",
      "[100]\ttrain's rmse: 4.73889\teval's rmse: 6.98249\n",
      "[200]\ttrain's rmse: 3.6136\teval's rmse: 6.82935\n",
      "Early stopping, best iteration is:\n",
      "[190]\ttrain's rmse: 3.69681\teval's rmse: 6.81436\n"
     ]
    },
    {
     "name": "stderr",
     "output_type": "stream",
     "text": [
      "num_leaves, val_score: 6.719695:  40%|####################                              | 8/20 [00:05<00:08,  1.47it/s]\u001b[32m[I 2021-07-03 17:58:07,377]\u001b[0m Trial 14 finished with value: 6.81435745457277 and parameters: {'num_leaves': 115}. Best is trial 10 with value: 6.77540991755093.\u001b[0m\n",
      "num_leaves, val_score: 6.719695:  40%|####################                              | 8/20 [00:05<00:08,  1.47it/s]"
     ]
    },
    {
     "name": "stdout",
     "output_type": "stream",
     "text": [
      "Training until validation scores don't improve for 100 rounds\n",
      "[100]\ttrain's rmse: 4.73889\teval's rmse: 6.98249\n",
      "[200]\ttrain's rmse: 3.6136\teval's rmse: 6.82935\n",
      "Early stopping, best iteration is:\n",
      "[190]\ttrain's rmse: 3.69681\teval's rmse: 6.81436\n"
     ]
    },
    {
     "name": "stderr",
     "output_type": "stream",
     "text": [
      "num_leaves, val_score: 6.719695:  45%|######################5                           | 9/20 [00:06<00:07,  1.46it/s]\u001b[32m[I 2021-07-03 17:58:08,062]\u001b[0m Trial 15 finished with value: 6.81435745457277 and parameters: {'num_leaves': 138}. Best is trial 10 with value: 6.77540991755093.\u001b[0m\n",
      "num_leaves, val_score: 6.719695:  45%|######################5                           | 9/20 [00:06<00:07,  1.46it/s]"
     ]
    },
    {
     "name": "stdout",
     "output_type": "stream",
     "text": [
      "Training until validation scores don't improve for 100 rounds\n",
      "[100]\ttrain's rmse: 4.73889\teval's rmse: 6.98249\n",
      "[200]\ttrain's rmse: 3.6136\teval's rmse: 6.82935\n",
      "Early stopping, best iteration is:\n",
      "[190]\ttrain's rmse: 3.69681\teval's rmse: 6.81436"
     ]
    },
    {
     "name": "stderr",
     "output_type": "stream",
     "text": [
      "num_leaves, val_score: 6.719695:  50%|########################5                        | 10/20 [00:06<00:06,  1.45it/s]\u001b[32m[I 2021-07-03 17:58:08,773]\u001b[0m Trial 16 finished with value: 6.81435745457277 and parameters: {'num_leaves': 204}. Best is trial 10 with value: 6.77540991755093.\u001b[0m\n",
      "num_leaves, val_score: 6.719695:  50%|########################5                        | 10/20 [00:06<00:06,  1.45it/s]"
     ]
    },
    {
     "name": "stdout",
     "output_type": "stream",
     "text": [
      "\n",
      "Training until validation scores don't improve for 100 rounds\n",
      "[100]\ttrain's rmse: 5.82773\teval's rmse: 7.14174\n",
      "[200]\ttrain's rmse: 5.0555\teval's rmse: 6.89319\n",
      "[300]\ttrain's rmse: 4.59279\teval's rmse: 6.78439\n",
      "[400]\ttrain's rmse: 4.23107\teval's rmse: 6.75222\n",
      "[500]\ttrain's rmse: 3.9592\teval's rmse: 6.75777"
     ]
    },
    {
     "name": "stderr",
     "output_type": "stream",
     "text": [
      "num_leaves, val_score: 6.719695:  55%|##########################9                      | 11/20 [00:07<00:06,  1.49it/s]\u001b[32m[I 2021-07-03 17:58:09,387]\u001b[0m Trial 17 finished with value: 6.7442518519466645 and parameters: {'num_leaves': 15}. Best is trial 17 with value: 6.7442518519466645.\u001b[0m\n",
      "num_leaves, val_score: 6.719695:  55%|##########################9                      | 11/20 [00:07<00:06,  1.49it/s]"
     ]
    },
    {
     "name": "stdout",
     "output_type": "stream",
     "text": [
      "\n",
      "Early stopping, best iteration is:\n",
      "[425]\ttrain's rmse: 4.16193\teval's rmse: 6.74425\n",
      "Training until validation scores don't improve for 100 rounds\n",
      "[100]\ttrain's rmse: 6.22777\teval's rmse: 7.36734\n",
      "[200]\ttrain's rmse: 5.55718\teval's rmse: 7.12455\n",
      "[300]\ttrain's rmse: 5.14527\teval's rmse: 6.97887\n",
      "[400]\ttrain's rmse: 4.82009\teval's rmse: 6.91325\n",
      "[500]\ttrain's rmse: 4.58869\teval's rmse: 6.87474\n",
      "[600]\ttrain's rmse: 4.38292\teval's rmse: 6.85623\n",
      "[700]\ttrain's rmse: 4.19765\teval's rmse: 6.83007\n"
     ]
    },
    {
     "name": "stderr",
     "output_type": "stream",
     "text": [
      "num_leaves, val_score: 6.719695:  60%|#############################4                   | 12/20 [00:08<00:05,  1.45it/s]\u001b[32m[I 2021-07-03 17:58:10,133]\u001b[0m Trial 18 finished with value: 6.810979108090439 and parameters: {'num_leaves': 10}. Best is trial 17 with value: 6.7442518519466645.\u001b[0m\n",
      "num_leaves, val_score: 6.719695:  60%|#############################4                   | 12/20 [00:08<00:05,  1.45it/s]"
     ]
    },
    {
     "name": "stdout",
     "output_type": "stream",
     "text": [
      "[800]\ttrain's rmse: 4.02717\teval's rmse: 6.83009\n",
      "Early stopping, best iteration is:\n",
      "[765]\ttrain's rmse: 4.08422\teval's rmse: 6.81098\n",
      "Training until validation scores don't improve for 100 rounds\n",
      "[100]\ttrain's rmse: 6.04775\teval's rmse: 7.22434\n",
      "[200]\ttrain's rmse: 5.32932\teval's rmse: 6.98864\n",
      "[300]\ttrain's rmse: 4.89548\teval's rmse: 6.86926\n",
      "[400]\ttrain's rmse: 4.557\teval's rmse: 6.81759\n",
      "[500]\ttrain's rmse: 4.30474\teval's rmse: 6.80655\n"
     ]
    },
    {
     "name": "stderr",
     "output_type": "stream",
     "text": [
      "num_leaves, val_score: 6.719695:  65%|###############################8                 | 13/20 [00:08<00:04,  1.45it/s]\u001b[32m[I 2021-07-03 17:58:10,815]\u001b[0m Trial 19 finished with value: 6.786542311131211 and parameters: {'num_leaves': 12}. Best is trial 17 with value: 6.7442518519466645.\u001b[0m\n",
      "num_leaves, val_score: 6.719695:  65%|###############################8                 | 13/20 [00:08<00:04,  1.45it/s]"
     ]
    },
    {
     "name": "stdout",
     "output_type": "stream",
     "text": [
      "[600]\ttrain's rmse: 4.0895\teval's rmse: 6.79853\n",
      "Early stopping, best iteration is:\n",
      "[571]\ttrain's rmse: 4.1512\teval's rmse: 6.78654\n",
      "Training until validation scores don't improve for 100 rounds\n",
      "[100]\ttrain's rmse: 4.73889\teval's rmse: 6.98249\n",
      "[200]\ttrain's rmse: 3.6136\teval's rmse: 6.82935\n"
     ]
    },
    {
     "name": "stderr",
     "output_type": "stream",
     "text": [
      "num_leaves, val_score: 6.719695:  70%|##################################3              | 14/20 [00:09<00:04,  1.45it/s]\u001b[32m[I 2021-07-03 17:58:11,509]\u001b[0m Trial 20 finished with value: 6.81435745457277 and parameters: {'num_leaves': 67}. Best is trial 17 with value: 6.7442518519466645.\u001b[0m\n",
      "num_leaves, val_score: 6.719695:  70%|##################################3              | 14/20 [00:09<00:04,  1.45it/s]"
     ]
    },
    {
     "name": "stdout",
     "output_type": "stream",
     "text": [
      "Early stopping, best iteration is:\n",
      "[190]\ttrain's rmse: 3.69681\teval's rmse: 6.81436\n",
      "Training until validation scores don't improve for 100 rounds\n",
      "[100]\ttrain's rmse: 4.75902\teval's rmse: 6.96091\n",
      "[200]\ttrain's rmse: 3.66431\teval's rmse: 6.79245\n"
     ]
    },
    {
     "name": "stderr",
     "output_type": "stream",
     "text": [
      "num_leaves, val_score: 6.719695:  75%|####################################7            | 15/20 [00:10<00:03,  1.43it/s]\u001b[32m[I 2021-07-03 17:58:12,225]\u001b[0m Trial 21 finished with value: 6.777150114603443 and parameters: {'num_leaves': 51}. Best is trial 17 with value: 6.7442518519466645.\u001b[0m\n",
      "num_leaves, val_score: 6.719695:  75%|####################################7            | 15/20 [00:10<00:03,  1.43it/s]"
     ]
    },
    {
     "name": "stdout",
     "output_type": "stream",
     "text": [
      "[300]\ttrain's rmse: 3.0335\teval's rmse: 6.83252\n",
      "Early stopping, best iteration is:\n",
      "[207]\ttrain's rmse: 3.61082\teval's rmse: 6.77715\n",
      "Training until validation scores don't improve for 100 rounds\n",
      "[100]\ttrain's rmse: 4.75902\teval's rmse: 6.96091\n",
      "[200]\ttrain's rmse: 3.66431\teval's rmse: 6.79245\n"
     ]
    },
    {
     "name": "stderr",
     "output_type": "stream",
     "text": [
      "num_leaves, val_score: 6.719695:  80%|#######################################2         | 16/20 [00:11<00:02,  1.43it/s]\u001b[32m[I 2021-07-03 17:58:12,923]\u001b[0m Trial 22 finished with value: 6.777150114603443 and parameters: {'num_leaves': 51}. Best is trial 17 with value: 6.7442518519466645.\u001b[0m\n",
      "num_leaves, val_score: 6.719695:  80%|#######################################2         | 16/20 [00:11<00:02,  1.43it/s]"
     ]
    },
    {
     "name": "stdout",
     "output_type": "stream",
     "text": [
      "[300]\ttrain's rmse: 3.0335\teval's rmse: 6.83252\n",
      "Early stopping, best iteration is:\n",
      "[207]\ttrain's rmse: 3.61082\teval's rmse: 6.77715\n",
      "Training until validation scores don't improve for 100 rounds\n",
      "[100]\ttrain's rmse: 4.73889\teval's rmse: 6.98249\n",
      "[200]\ttrain's rmse: 3.6136\teval's rmse: 6.82935\n"
     ]
    },
    {
     "name": "stderr",
     "output_type": "stream",
     "text": [
      "num_leaves, val_score: 6.719695:  85%|#########################################6       | 17/20 [00:11<00:02,  1.44it/s]\u001b[32m[I 2021-07-03 17:58:13,610]\u001b[0m Trial 23 finished with value: 6.81435745457277 and parameters: {'num_leaves': 90}. Best is trial 17 with value: 6.7442518519466645.\u001b[0m\n",
      "num_leaves, val_score: 6.719695:  85%|#########################################6       | 17/20 [00:11<00:02,  1.44it/s]"
     ]
    },
    {
     "name": "stdout",
     "output_type": "stream",
     "text": [
      "Early stopping, best iteration is:\n",
      "[190]\ttrain's rmse: 3.69681\teval's rmse: 6.81436\n",
      "Training until validation scores don't improve for 100 rounds\n",
      "[100]\ttrain's rmse: 6.22777\teval's rmse: 7.36734\n",
      "[200]\ttrain's rmse: 5.55718\teval's rmse: 7.12455\n",
      "[300]\ttrain's rmse: 5.14527\teval's rmse: 6.97887\n",
      "[400]\ttrain's rmse: 4.82009\teval's rmse: 6.91325\n",
      "[500]\ttrain's rmse: 4.58869\teval's rmse: 6.87474\n",
      "[600]\ttrain's rmse: 4.38292\teval's rmse: 6.85623\n"
     ]
    },
    {
     "name": "stderr",
     "output_type": "stream",
     "text": [
      "num_leaves, val_score: 6.719695:  90%|############################################1    | 18/20 [00:12<00:01,  1.39it/s]\u001b[32m[I 2021-07-03 17:58:14,378]\u001b[0m Trial 24 finished with value: 6.810979108090439 and parameters: {'num_leaves': 10}. Best is trial 17 with value: 6.7442518519466645.\u001b[0m\n"
     ]
    },
    {
     "name": "stdout",
     "output_type": "stream",
     "text": [
      "[700]\ttrain's rmse: 4.19765\teval's rmse: 6.83007\n",
      "[800]\ttrain's rmse: 4.02717\teval's rmse: 6.83009\n",
      "Early stopping, best iteration is:\n",
      "[765]\ttrain's rmse: 4.08422\teval's rmse: 6.81098\n"
     ]
    },
    {
     "name": "stderr",
     "output_type": "stream",
     "text": [
      "\r",
      "num_leaves, val_score: 6.719695:  90%|############################################1    | 18/20 [00:12<00:01,  1.39it/s]"
     ]
    },
    {
     "name": "stdout",
     "output_type": "stream",
     "text": [
      "Training until validation scores don't improve for 100 rounds\n",
      "[100]\ttrain's rmse: 5.07246\teval's rmse: 6.98957\n",
      "[200]\ttrain's rmse: 4.08605\teval's rmse: 6.75782\n",
      "[300]\ttrain's rmse: 3.52922\teval's rmse: 6.7428\n"
     ]
    },
    {
     "name": "stderr",
     "output_type": "stream",
     "text": [
      "num_leaves, val_score: 6.719695:  95%|##############################################5  | 19/20 [00:13<00:00,  1.45it/s]\u001b[32m[I 2021-07-03 17:58:15,003]\u001b[0m Trial 25 finished with value: 6.719695237585489 and parameters: {'num_leaves': 31}. Best is trial 25 with value: 6.719695237585489.\u001b[0m\n",
      "num_leaves, val_score: 6.719695:  95%|##############################################5  | 19/20 [00:13<00:00,  1.45it/s]"
     ]
    },
    {
     "name": "stdout",
     "output_type": "stream",
     "text": [
      "Early stopping, best iteration is:\n",
      "[273]\ttrain's rmse: 3.6668\teval's rmse: 6.7197\n",
      "Training until validation scores don't improve for 100 rounds\n",
      "[100]\ttrain's rmse: 4.73889\teval's rmse: 6.98249\n",
      "[200]\ttrain's rmse: 3.6136\teval's rmse: 6.82935\n",
      "Early stopping, best iteration is:\n",
      "[190]\ttrain's rmse: 3.69681\teval's rmse: 6.81436"
     ]
    },
    {
     "name": "stderr",
     "output_type": "stream",
     "text": [
      "num_leaves, val_score: 6.719695: 100%|#################################################| 20/20 [00:13<00:00,  1.42it/s]\u001b[32m[I 2021-07-03 17:58:15,745]\u001b[0m Trial 26 finished with value: 6.81435745457277 and parameters: {'num_leaves': 98}. Best is trial 25 with value: 6.719695237585489.\u001b[0m\n",
      "num_leaves, val_score: 6.719695: 100%|#################################################| 20/20 [00:13<00:00,  1.45it/s]\n",
      "bagging, val_score: 6.719695:   0%|                                                             | 0/10 [00:00<?, ?it/s]"
     ]
    },
    {
     "name": "stdout",
     "output_type": "stream",
     "text": [
      "\n",
      "Training until validation scores don't improve for 100 rounds\n",
      "[100]\ttrain's rmse: 4.93523\teval's rmse: 6.86373\n",
      "[200]\ttrain's rmse: 3.93453\teval's rmse: 6.67967\n",
      "[300]\ttrain's rmse: 3.38469\teval's rmse: 6.66322\n",
      "[400]\ttrain's rmse: 2.96231\teval's rmse: 6.677\n",
      "Early stopping, best iteration is:\n",
      "[340]\ttrain's rmse: 3.20257\teval's rmse: 6.65331"
     ]
    },
    {
     "name": "stderr",
     "output_type": "stream",
     "text": [
      "bagging, val_score: 6.653313:  10%|#####3                                               | 1/10 [00:00<00:08,  1.06it/s]\u001b[32m[I 2021-07-03 17:58:16,688]\u001b[0m Trial 27 finished with value: 6.65331288795717 and parameters: {'bagging_fraction': 0.9675384055404467, 'bagging_freq': 5}. Best is trial 27 with value: 6.65331288795717.\u001b[0m\n",
      "bagging, val_score: 6.653313:  10%|#####3                                               | 1/10 [00:00<00:08,  1.06it/s]"
     ]
    },
    {
     "name": "stdout",
     "output_type": "stream",
     "text": [
      "\n",
      "Training until validation scores don't improve for 100 rounds\n",
      "[100]\ttrain's rmse: 5.18945\teval's rmse: 6.95731\n",
      "[200]\ttrain's rmse: 4.19299\teval's rmse: 6.84744\n",
      "[300]\ttrain's rmse: 3.61867\teval's rmse: 6.82951\n",
      "[400]\ttrain's rmse: 3.21235\teval's rmse: 6.82785\n"
     ]
    },
    {
     "name": "stderr",
     "output_type": "stream",
     "text": [
      "bagging, val_score: 6.653313:  20%|##########6                                          | 2/10 [00:01<00:06,  1.17it/s]\u001b[32m[I 2021-07-03 17:58:17,498]\u001b[0m Trial 28 finished with value: 6.812700740517733 and parameters: {'bagging_fraction': 0.7240136603448658, 'bagging_freq': 7}. Best is trial 27 with value: 6.65331288795717.\u001b[0m\n",
      "bagging, val_score: 6.653313:  20%|##########6                                          | 2/10 [00:01<00:06,  1.17it/s]"
     ]
    },
    {
     "name": "stdout",
     "output_type": "stream",
     "text": [
      "Early stopping, best iteration is:\n",
      "[342]\ttrain's rmse: 3.43696\teval's rmse: 6.8127\n",
      "Training until validation scores don't improve for 100 rounds\n",
      "[100]\ttrain's rmse: 4.95484\teval's rmse: 6.9077\n",
      "[200]\ttrain's rmse: 3.95453\teval's rmse: 6.74461\n",
      "[300]\ttrain's rmse: 3.40197\teval's rmse: 6.73033\n",
      "[400]\ttrain's rmse: 2.97047\teval's rmse: 6.73288\n",
      "Early stopping, best iteration is:\n",
      "[344]\ttrain's rmse: 3.19699\teval's rmse: 6.71036\n"
     ]
    },
    {
     "name": "stderr",
     "output_type": "stream",
     "text": [
      "bagging, val_score: 6.653313:  30%|###############9                                     | 3/10 [00:02<00:05,  1.22it/s]\u001b[32m[I 2021-07-03 17:58:18,266]\u001b[0m Trial 29 finished with value: 6.710361862282638 and parameters: {'bagging_fraction': 0.9804237709421748, 'bagging_freq': 5}. Best is trial 27 with value: 6.65331288795717.\u001b[0m\n",
      "bagging, val_score: 6.653313:  30%|###############9                                     | 3/10 [00:02<00:05,  1.22it/s]"
     ]
    },
    {
     "name": "stdout",
     "output_type": "stream",
     "text": [
      "Training until validation scores don't improve for 100 rounds\n",
      "[100]\ttrain's rmse: 5.38067\teval's rmse: 7.03137\n",
      "[200]\ttrain's rmse: 4.39765\teval's rmse: 6.80437\n",
      "[300]\ttrain's rmse: 3.8626\teval's rmse: 6.81774\n"
     ]
    },
    {
     "name": "stderr",
     "output_type": "stream",
     "text": [
      "bagging, val_score: 6.653313:  40%|#####################2                               | 4/10 [00:03<00:04,  1.35it/s]\u001b[32m[I 2021-07-03 17:58:18,884]\u001b[0m Trial 30 finished with value: 6.792471074029517 and parameters: {'bagging_fraction': 0.5803540384566434, 'bagging_freq': 2}. Best is trial 27 with value: 6.65331288795717.\u001b[0m\n",
      "bagging, val_score: 6.653313:  40%|#####################2                               | 4/10 [00:03<00:04,  1.35it/s]"
     ]
    },
    {
     "name": "stdout",
     "output_type": "stream",
     "text": [
      "Early stopping, best iteration is:\n",
      "[283]\ttrain's rmse: 3.94409\teval's rmse: 6.79247\n",
      "Training until validation scores don't improve for 100 rounds\n",
      "[100]\ttrain's rmse: 4.99466\teval's rmse: 7.0016\n",
      "[200]\ttrain's rmse: 3.9869\teval's rmse: 6.78712\n"
     ]
    },
    {
     "name": "stderr",
     "output_type": "stream",
     "text": [
      "bagging, val_score: 6.653313:  50%|##########################5                          | 5/10 [00:03<00:03,  1.46it/s]\u001b[32m[I 2021-07-03 17:58:19,462]\u001b[0m Trial 31 finished with value: 6.782167928696503 and parameters: {'bagging_fraction': 0.9252867085141807, 'bagging_freq': 7}. Best is trial 27 with value: 6.65331288795717.\u001b[0m\n",
      "bagging, val_score: 6.653313:  50%|##########################5                          | 5/10 [00:03<00:03,  1.46it/s]"
     ]
    },
    {
     "name": "stdout",
     "output_type": "stream",
     "text": [
      "[300]\ttrain's rmse: 3.4218\teval's rmse: 6.788\n",
      "Early stopping, best iteration is:\n",
      "[212]\ttrain's rmse: 3.90609\teval's rmse: 6.78217\n",
      "Training until validation scores don't improve for 100 rounds\n",
      "[100]\ttrain's rmse: 5.00338\teval's rmse: 6.90375\n",
      "[200]\ttrain's rmse: 4.01572\teval's rmse: 6.75481\n"
     ]
    },
    {
     "name": "stderr",
     "output_type": "stream",
     "text": [
      "bagging, val_score: 6.653313:  60%|###############################8                     | 6/10 [00:04<00:02,  1.48it/s]\u001b[32m[I 2021-07-03 17:58:20,122]\u001b[0m Trial 32 finished with value: 6.741090451547043 and parameters: {'bagging_fraction': 0.8941712602402591, 'bagging_freq': 6}. Best is trial 27 with value: 6.65331288795717.\u001b[0m\n",
      "bagging, val_score: 6.653313:  60%|###############################8                     | 6/10 [00:04<00:02,  1.48it/s]"
     ]
    },
    {
     "name": "stdout",
     "output_type": "stream",
     "text": [
      "[300]\ttrain's rmse: 3.42978\teval's rmse: 6.76277\n",
      "Early stopping, best iteration is:\n",
      "[277]\ttrain's rmse: 3.54804\teval's rmse: 6.74109\n",
      "Training until validation scores don't improve for 100 rounds\n",
      "[100]\ttrain's rmse: 5.47118\teval's rmse: 7.06658\n"
     ]
    },
    {
     "name": "stderr",
     "output_type": "stream",
     "text": [
      "bagging, val_score: 6.653313:  70%|#####################################                | 7/10 [00:04<00:01,  1.64it/s]\u001b[32m[I 2021-07-03 17:58:20,593]\u001b[0m Trial 33 finished with value: 6.9658077023477505 and parameters: {'bagging_fraction': 0.5460367701129599, 'bagging_freq': 5}. Best is trial 27 with value: 6.65331288795717.\u001b[0m\n",
      "bagging, val_score: 6.653313:  70%|#####################################                | 7/10 [00:04<00:01,  1.64it/s]"
     ]
    },
    {
     "name": "stdout",
     "output_type": "stream",
     "text": [
      "[200]\ttrain's rmse: 4.52706\teval's rmse: 6.98951\n",
      "Early stopping, best iteration is:\n",
      "[180]\ttrain's rmse: 4.66407\teval's rmse: 6.96581\n",
      "Training until validation scores don't improve for 100 rounds\n",
      "[100]\ttrain's rmse: 4.93225\teval's rmse: 6.92725\n",
      "[200]\ttrain's rmse: 3.95441\teval's rmse: 6.73963\n",
      "[300]\ttrain's rmse: 3.4023\teval's rmse: 6.68959\n",
      "[400]\ttrain's rmse: 2.99691\teval's rmse: 6.69583\n",
      "Early stopping, best iteration is:\n",
      "[303]\ttrain's rmse: 3.38446\teval's rmse: 6.68485\n"
     ]
    },
    {
     "name": "stderr",
     "output_type": "stream",
     "text": [
      "bagging, val_score: 6.653313:  80%|##########################################4          | 8/10 [00:05<00:01,  1.56it/s]\u001b[32m[I 2021-07-03 17:58:21,302]\u001b[0m Trial 34 finished with value: 6.6848507495273655 and parameters: {'bagging_fraction': 0.9919349957716468, 'bagging_freq': 4}. Best is trial 27 with value: 6.65331288795717.\u001b[0m\n",
      "bagging, val_score: 6.653313:  80%|##########################################4          | 8/10 [00:05<00:01,  1.56it/s]"
     ]
    },
    {
     "name": "stdout",
     "output_type": "stream",
     "text": [
      "Training until validation scores don't improve for 100 rounds\n",
      "[100]\ttrain's rmse: 5.38302\teval's rmse: 6.98271\n"
     ]
    },
    {
     "name": "stderr",
     "output_type": "stream",
     "text": [
      "bagging, val_score: 6.653313:  90%|###############################################7     | 9/10 [00:06<00:00,  1.69it/s]\u001b[32m[I 2021-07-03 17:58:21,790]\u001b[0m Trial 35 finished with value: 6.828460781083812 and parameters: {'bagging_fraction': 0.5546494612271591, 'bagging_freq': 1}. Best is trial 27 with value: 6.65331288795717.\u001b[0m\n",
      "bagging, val_score: 6.653313:  90%|###############################################7     | 9/10 [00:06<00:00,  1.69it/s]"
     ]
    },
    {
     "name": "stdout",
     "output_type": "stream",
     "text": [
      "[200]\ttrain's rmse: 4.47518\teval's rmse: 6.86851\n",
      "Early stopping, best iteration is:\n",
      "[179]\ttrain's rmse: 4.61738\teval's rmse: 6.82846\n",
      "Training until validation scores don't improve for 100 rounds\n",
      "[100]\ttrain's rmse: 5.88706\teval's rmse: 7.13272\n",
      "[200]\ttrain's rmse: 5.06502\teval's rmse: 6.96835\n",
      "[300]\ttrain's rmse: 4.57891\teval's rmse: 6.9132\n",
      "Early stopping, best iteration is:\n",
      "[269]\ttrain's rmse: 4.70144\teval's rmse: 6.88792\n"
     ]
    },
    {
     "name": "stderr",
     "output_type": "stream",
     "text": [
      "bagging, val_score: 6.653313: 100%|####################################################| 10/10 [00:06<00:00,  1.72it/s]\u001b[32m[I 2021-07-03 17:58:22,351]\u001b[0m Trial 36 finished with value: 6.887919743386795 and parameters: {'bagging_fraction': 0.4087478645363541, 'bagging_freq': 6}. Best is trial 27 with value: 6.65331288795717.\u001b[0m\n",
      "bagging, val_score: 6.653313: 100%|####################################################| 10/10 [00:06<00:00,  1.51it/s]\n",
      "feature_fraction_stage2, val_score: 6.653313:   0%|                                              | 0/6 [00:00<?, ?it/s]"
     ]
    },
    {
     "name": "stdout",
     "output_type": "stream",
     "text": [
      "Training until validation scores don't improve for 100 rounds\n",
      "[100]\ttrain's rmse: 5.01594\teval's rmse: 6.91006\n",
      "[200]\ttrain's rmse: 4.01873\teval's rmse: 6.69318\n",
      "[300]\ttrain's rmse: 3.47214\teval's rmse: 6.68792\n"
     ]
    },
    {
     "name": "stderr",
     "output_type": "stream",
     "text": [
      "feature_fraction_stage2, val_score: 6.653313:  17%|######3                               | 1/6 [00:00<00:02,  1.70it/s]\u001b[32m[I 2021-07-03 17:58:22,953]\u001b[0m Trial 37 finished with value: 6.668499099129019 and parameters: {'feature_fraction': 0.45199999999999996}. Best is trial 37 with value: 6.668499099129019.\u001b[0m\n",
      "feature_fraction_stage2, val_score: 6.653313:  17%|######3                               | 1/6 [00:00<00:02,  1.70it/s]"
     ]
    },
    {
     "name": "stdout",
     "output_type": "stream",
     "text": [
      "Early stopping, best iteration is:\n",
      "[260]\ttrain's rmse: 3.67043\teval's rmse: 6.6685\n",
      "Training until validation scores don't improve for 100 rounds\n",
      "[100]\ttrain's rmse: 4.89883\teval's rmse: 6.85605\n",
      "[200]\ttrain's rmse: 3.9337\teval's rmse: 6.70326\n"
     ]
    },
    {
     "name": "stderr",
     "output_type": "stream",
     "text": [
      "feature_fraction_stage2, val_score: 6.653313:  33%|############6                         | 2/6 [00:01<00:02,  1.75it/s]\u001b[32m[I 2021-07-03 17:58:23,510]\u001b[0m Trial 38 finished with value: 6.693460585104531 and parameters: {'feature_fraction': 0.58}. Best is trial 37 with value: 6.668499099129019.\u001b[0m\n",
      "feature_fraction_stage2, val_score: 6.653313:  33%|############6                         | 2/6 [00:01<00:02,  1.75it/s]"
     ]
    },
    {
     "name": "stdout",
     "output_type": "stream",
     "text": [
      "[300]\ttrain's rmse: 3.37721\teval's rmse: 6.70437\n",
      "Early stopping, best iteration is:\n",
      "[236]\ttrain's rmse: 3.71631\teval's rmse: 6.69346\n",
      "Training until validation scores don't improve for 100 rounds\n",
      "[100]\ttrain's rmse: 5.01282\teval's rmse: 6.8672\n",
      "[200]\ttrain's rmse: 4.03386\teval's rmse: 6.7512\n"
     ]
    },
    {
     "name": "stderr",
     "output_type": "stream",
     "text": [
      "feature_fraction_stage2, val_score: 6.653313:  50%|###################                   | 3/6 [00:01<00:01,  1.73it/s]\u001b[32m[I 2021-07-03 17:58:24,108]\u001b[0m Trial 39 finished with value: 6.729679455000843 and parameters: {'feature_fraction': 0.42}. Best is trial 37 with value: 6.668499099129019.\u001b[0m\n",
      "feature_fraction_stage2, val_score: 6.653313:  50%|###################                   | 3/6 [00:01<00:01,  1.73it/s]"
     ]
    },
    {
     "name": "stdout",
     "output_type": "stream",
     "text": [
      "[300]\ttrain's rmse: 3.47992\teval's rmse: 6.74179\n",
      "Early stopping, best iteration is:\n",
      "[268]\ttrain's rmse: 3.64267\teval's rmse: 6.72968\n",
      "Training until validation scores don't improve for 100 rounds\n",
      "[100]\ttrain's rmse: 4.92925\teval's rmse: 6.84252\n",
      "[200]\ttrain's rmse: 3.94144\teval's rmse: 6.65014\n"
     ]
    },
    {
     "name": "stderr",
     "output_type": "stream",
     "text": [
      "feature_fraction_stage2, val_score: 6.632641:  67%|#########################3            | 4/6 [00:02<00:01,  1.74it/s]\u001b[32m[I 2021-07-03 17:58:24,660]\u001b[0m Trial 40 finished with value: 6.632641202505053 and parameters: {'feature_fraction': 0.5479999999999999}. Best is trial 40 with value: 6.632641202505053.\u001b[0m\n",
      "feature_fraction_stage2, val_score: 6.632641:  67%|#########################3            | 4/6 [00:02<00:01,  1.74it/s]"
     ]
    },
    {
     "name": "stdout",
     "output_type": "stream",
     "text": [
      "[300]\ttrain's rmse: 3.39165\teval's rmse: 6.65615\n",
      "Early stopping, best iteration is:\n",
      "[214]\ttrain's rmse: 3.84863\teval's rmse: 6.63264\n",
      "Training until validation scores don't improve for 100 rounds\n",
      "[100]\ttrain's rmse: 4.96624\teval's rmse: 6.88535\n",
      "[200]\ttrain's rmse: 3.96679\teval's rmse: 6.73481\n"
     ]
    },
    {
     "name": "stderr",
     "output_type": "stream",
     "text": [
      "feature_fraction_stage2, val_score: 6.632641:  83%|###############################6      | 5/6 [00:02<00:00,  1.64it/s]\u001b[32m[I 2021-07-03 17:58:25,353]\u001b[0m Trial 41 finished with value: 6.711778619071165 and parameters: {'feature_fraction': 0.484}. Best is trial 40 with value: 6.632641202505053.\u001b[0m\n"
     ]
    },
    {
     "name": "stdout",
     "output_type": "stream",
     "text": [
      "[300]\ttrain's rmse: 3.41291\teval's rmse: 6.71973\n",
      "Early stopping, best iteration is:\n",
      "[291]\ttrain's rmse: 3.45704\teval's rmse: 6.71178\n"
     ]
    },
    {
     "name": "stderr",
     "output_type": "stream",
     "text": [
      "\r",
      "feature_fraction_stage2, val_score: 6.632641:  83%|###############################6      | 5/6 [00:02<00:00,  1.64it/s]"
     ]
    },
    {
     "name": "stdout",
     "output_type": "stream",
     "text": [
      "Training until validation scores don't improve for 100 rounds\n",
      "[100]\ttrain's rmse: 4.93523\teval's rmse: 6.86373\n",
      "[200]\ttrain's rmse: 3.93453\teval's rmse: 6.67967\n",
      "[300]\ttrain's rmse: 3.38469\teval's rmse: 6.66322\n"
     ]
    },
    {
     "name": "stderr",
     "output_type": "stream",
     "text": [
      "feature_fraction_stage2, val_score: 6.632641: 100%|######################################| 6/6 [00:03<00:00,  1.49it/s]\u001b[32m[I 2021-07-03 17:58:26,123]\u001b[0m Trial 42 finished with value: 6.65331288795717 and parameters: {'feature_fraction': 0.516}. Best is trial 40 with value: 6.632641202505053.\u001b[0m\n",
      "feature_fraction_stage2, val_score: 6.632641: 100%|######################################| 6/6 [00:03<00:00,  1.59it/s]\n",
      "regularization_factors, val_score: 6.632641:   0%|                                              | 0/20 [00:00<?, ?it/s]"
     ]
    },
    {
     "name": "stdout",
     "output_type": "stream",
     "text": [
      "[400]\ttrain's rmse: 2.96231\teval's rmse: 6.677\n",
      "Early stopping, best iteration is:\n",
      "[340]\ttrain's rmse: 3.20257\teval's rmse: 6.65331\n",
      "Training until validation scores don't improve for 100 rounds\n",
      "[100]\ttrain's rmse: 5.08278\teval's rmse: 6.92417\n",
      "[200]\ttrain's rmse: 4.14171\teval's rmse: 6.72465\n",
      "[300]\ttrain's rmse: 3.63326\teval's rmse: 6.69582\n",
      "[400]\ttrain's rmse: 3.25493\teval's rmse: 6.69086\n"
     ]
    },
    {
     "name": "stderr",
     "output_type": "stream",
     "text": [
      "regularization_factors, val_score: 6.632641:   5%|#9                                    | 1/20 [00:00<00:15,  1.23it/s]\u001b[32m[I 2021-07-03 17:58:26,948]\u001b[0m Trial 43 finished with value: 6.669828050013063 and parameters: {'lambda_l1': 7.787144724050595, 'lambda_l2': 0.1270148933924706}. Best is trial 43 with value: 6.669828050013063.\u001b[0m\n",
      "regularization_factors, val_score: 6.632641:   5%|#9                                    | 1/20 [00:00<00:15,  1.23it/s]"
     ]
    },
    {
     "name": "stdout",
     "output_type": "stream",
     "text": [
      "Early stopping, best iteration is:\n",
      "[353]\ttrain's rmse: 3.42471\teval's rmse: 6.66983\n",
      "Training until validation scores don't improve for 100 rounds\n",
      "[100]\ttrain's rmse: 5.01855\teval's rmse: 6.85286\n",
      "[200]\ttrain's rmse: 4.02269\teval's rmse: 6.66873\n",
      "[300]\ttrain's rmse: 3.4617\teval's rmse: 6.6601\n"
     ]
    },
    {
     "name": "stderr",
     "output_type": "stream",
     "text": [
      "regularization_factors, val_score: 6.632641:  10%|###8                                  | 2/20 [00:01<00:13,  1.30it/s]\u001b[32m[I 2021-07-03 17:58:27,684]\u001b[0m Trial 44 finished with value: 6.650140474406611 and parameters: {'lambda_l1': 0.046178456799415284, 'lambda_l2': 1.5242297811014367}. Best is trial 44 with value: 6.650140474406611.\u001b[0m\n",
      "regularization_factors, val_score: 6.632641:  10%|###8                                  | 2/20 [00:01<00:13,  1.30it/s]"
     ]
    },
    {
     "name": "stdout",
     "output_type": "stream",
     "text": [
      "Early stopping, best iteration is:\n",
      "[206]\ttrain's rmse: 3.9773\teval's rmse: 6.65014\n",
      "Training until validation scores don't improve for 100 rounds\n",
      "[100]\ttrain's rmse: 4.93647\teval's rmse: 6.87014\n",
      "[200]\ttrain's rmse: 3.94022\teval's rmse: 6.68335\n",
      "[300]\ttrain's rmse: 3.38366\teval's rmse: 6.68298\n",
      "[400]\ttrain's rmse: 2.95601\teval's rmse: 6.6875\n"
     ]
    },
    {
     "name": "stderr",
     "output_type": "stream",
     "text": [
      "regularization_factors, val_score: 6.632641:  15%|#####7                                | 3/20 [00:02<00:14,  1.17it/s]\u001b[32m[I 2021-07-03 17:58:28,649]\u001b[0m Trial 45 finished with value: 6.6603101988053615 and parameters: {'lambda_l1': 0.1105533556026507, 'lambda_l2': 6.081280920858918e-07}. Best is trial 44 with value: 6.650140474406611.\u001b[0m\n",
      "regularization_factors, val_score: 6.632641:  15%|#####7                                | 3/20 [00:02<00:14,  1.17it/s]"
     ]
    },
    {
     "name": "stdout",
     "output_type": "stream",
     "text": [
      "Early stopping, best iteration is:\n",
      "[343]\ttrain's rmse: 3.18755\teval's rmse: 6.66031\n",
      "Training until validation scores don't improve for 100 rounds\n",
      "[100]\ttrain's rmse: 4.98412\teval's rmse: 6.87954\n",
      "[200]\ttrain's rmse: 3.99226\teval's rmse: 6.6789\n"
     ]
    },
    {
     "name": "stderr",
     "output_type": "stream",
     "text": [
      "regularization_factors, val_score: 6.632641:  20%|#######6                              | 4/20 [00:03<00:11,  1.34it/s]\u001b[32m[I 2021-07-03 17:58:29,240]\u001b[0m Trial 46 finished with value: 6.66054161406345 and parameters: {'lambda_l1': 1.8974846478020218, 'lambda_l2': 0.06668799001362813}. Best is trial 44 with value: 6.650140474406611.\u001b[0m\n",
      "regularization_factors, val_score: 6.632641:  20%|#######6                              | 4/20 [00:03<00:11,  1.34it/s]"
     ]
    },
    {
     "name": "stdout",
     "output_type": "stream",
     "text": [
      "[300]\ttrain's rmse: 3.44068\teval's rmse: 6.68229\n",
      "Early stopping, best iteration is:\n",
      "[212]\ttrain's rmse: 3.90413\teval's rmse: 6.66054\n",
      "Training until validation scores don't improve for 100 rounds\n",
      "[100]\ttrain's rmse: 5.33553\teval's rmse: 6.93542\n",
      "[200]\ttrain's rmse: 4.31443\teval's rmse: 6.67053\n",
      "[300]\ttrain's rmse: 3.73153\teval's rmse: 6.64655\n",
      "[400]\ttrain's rmse: 3.31134\teval's rmse: 6.60552\n"
     ]
    },
    {
     "name": "stderr",
     "output_type": "stream",
     "text": [
      "regularization_factors, val_score: 6.600954:  25%|#########5                            | 5/20 [00:04<00:12,  1.20it/s]\u001b[32m[I 2021-07-03 17:58:30,205]\u001b[0m Trial 47 finished with value: 6.600954289895882 and parameters: {'lambda_l1': 6.506425352885691e-05, 'lambda_l2': 9.537202875209154}. Best is trial 47 with value: 6.600954289895882.\u001b[0m\n",
      "regularization_factors, val_score: 6.600954:  25%|#########5                            | 5/20 [00:04<00:12,  1.20it/s]"
     ]
    },
    {
     "name": "stdout",
     "output_type": "stream",
     "text": [
      "Early stopping, best iteration is:\n",
      "[396]\ttrain's rmse: 3.32765\teval's rmse: 6.60095\n",
      "Training until validation scores don't improve for 100 rounds\n",
      "[100]\ttrain's rmse: 4.93205\teval's rmse: 6.87882\n",
      "[200]\ttrain's rmse: 3.94723\teval's rmse: 6.72843\n",
      "[300]\ttrain's rmse: 3.39294\teval's rmse: 6.70365\n",
      "[400]\ttrain's rmse: 2.95827\teval's rmse: 6.69455\n"
     ]
    },
    {
     "name": "stderr",
     "output_type": "stream",
     "text": [
      "regularization_factors, val_score: 6.600954:  30%|###########4                          | 6/20 [00:04<00:11,  1.21it/s]\u001b[32m[I 2021-07-03 17:58:31,031]\u001b[0m Trial 48 finished with value: 6.682982692987894 and parameters: {'lambda_l1': 0.23274049191533358, 'lambda_l2': 7.222628616677645e-06}. Best is trial 47 with value: 6.600954289895882.\u001b[0m\n",
      "regularization_factors, val_score: 6.600954:  30%|###########4                          | 6/20 [00:04<00:11,  1.21it/s]"
     ]
    },
    {
     "name": "stdout",
     "output_type": "stream",
     "text": [
      "Early stopping, best iteration is:\n",
      "[348]\ttrain's rmse: 3.16846\teval's rmse: 6.68298\n",
      "Training until validation scores don't improve for 100 rounds\n",
      "[100]\ttrain's rmse: 4.94788\teval's rmse: 6.853\n",
      "[200]\ttrain's rmse: 3.94057\teval's rmse: 6.69544\n"
     ]
    },
    {
     "name": "stderr",
     "output_type": "stream",
     "text": [
      "regularization_factors, val_score: 6.600954:  35%|#############3                        | 7/20 [00:05<00:09,  1.35it/s]\u001b[32m[I 2021-07-03 17:58:31,588]\u001b[0m Trial 49 finished with value: 6.6842165367873205 and parameters: {'lambda_l1': 0.17189319311492987, 'lambda_l2': 0.0001393623871929468}. Best is trial 47 with value: 6.600954289895882.\u001b[0m\n",
      "regularization_factors, val_score: 6.600954:  35%|#############3                        | 7/20 [00:05<00:09,  1.35it/s]"
     ]
    },
    {
     "name": "stdout",
     "output_type": "stream",
     "text": [
      "Early stopping, best iteration is:\n",
      "[189]\ttrain's rmse: 4.01907\teval's rmse: 6.68422\n",
      "Training until validation scores don't improve for 100 rounds\n",
      "[100]\ttrain's rmse: 4.92925\teval's rmse: 6.84252\n",
      "[200]\ttrain's rmse: 3.94144\teval's rmse: 6.65014\n"
     ]
    },
    {
     "name": "stderr",
     "output_type": "stream",
     "text": [
      "regularization_factors, val_score: 6.600954:  40%|###############2                      | 8/20 [00:06<00:08,  1.44it/s]\u001b[32m[I 2021-07-03 17:58:32,193]\u001b[0m Trial 50 finished with value: 6.632641202225899 and parameters: {'lambda_l1': 1.249241453632416e-07, 'lambda_l2': 5.0443339003943987e-08}. Best is trial 47 with value: 6.600954289895882.\u001b[0m\n",
      "regularization_factors, val_score: 6.600954:  40%|###############2                      | 8/20 [00:06<00:08,  1.44it/s]"
     ]
    },
    {
     "name": "stdout",
     "output_type": "stream",
     "text": [
      "[300]\ttrain's rmse: 3.39165\teval's rmse: 6.65615\n",
      "Early stopping, best iteration is:\n",
      "[214]\ttrain's rmse: 3.84863\teval's rmse: 6.63264\n",
      "Training until validation scores don't improve for 100 rounds\n",
      "[100]\ttrain's rmse: 4.92081\teval's rmse: 6.87531\n",
      "[200]\ttrain's rmse: 3.94106\teval's rmse: 6.68707\n"
     ]
    },
    {
     "name": "stderr",
     "output_type": "stream",
     "text": [
      "regularization_factors, val_score: 6.600954:  45%|#################1                    | 9/20 [00:06<00:07,  1.47it/s]\u001b[32m[I 2021-07-03 17:58:32,838]\u001b[0m Trial 51 finished with value: 6.659312536823683 and parameters: {'lambda_l1': 2.0534793919336456e-07, 'lambda_l2': 0.06821385090590458}. Best is trial 47 with value: 6.600954289895882.\u001b[0m\n",
      "regularization_factors, val_score: 6.600954:  45%|#################1                    | 9/20 [00:06<00:07,  1.47it/s]"
     ]
    },
    {
     "name": "stdout",
     "output_type": "stream",
     "text": [
      "[300]\ttrain's rmse: 3.3942\teval's rmse: 6.66858\n",
      "Early stopping, best iteration is:\n",
      "[262]\ttrain's rmse: 3.58516\teval's rmse: 6.65931\n",
      "Training until validation scores don't improve for 100 rounds\n",
      "[100]\ttrain's rmse: 4.92471\teval's rmse: 6.84839\n",
      "[200]\ttrain's rmse: 3.92225\teval's rmse: 6.65897\n"
     ]
    },
    {
     "name": "stderr",
     "output_type": "stream",
     "text": [
      "regularization_factors, val_score: 6.600954:  50%|##################5                  | 10/20 [00:07<00:06,  1.52it/s]\u001b[32m[I 2021-07-03 17:58:33,456]\u001b[0m Trial 52 finished with value: 6.641504014987276 and parameters: {'lambda_l1': 0.005924493490099314, 'lambda_l2': 0.00261931563164289}. Best is trial 47 with value: 6.600954289895882.\u001b[0m\n",
      "regularization_factors, val_score: 6.600954:  50%|##################5                  | 10/20 [00:07<00:06,  1.52it/s]"
     ]
    },
    {
     "name": "stdout",
     "output_type": "stream",
     "text": [
      "[300]\ttrain's rmse: 3.36976\teval's rmse: 6.66133\n",
      "Early stopping, best iteration is:\n",
      "[227]\ttrain's rmse: 3.7521\teval's rmse: 6.6415\n",
      "Training until validation scores don't improve for 100 rounds\n",
      "[100]\ttrain's rmse: 5.18254\teval's rmse: 6.93063\n",
      "[200]\ttrain's rmse: 4.18458\teval's rmse: 6.70235\n",
      "[300]\ttrain's rmse: 3.61909\teval's rmse: 6.65926\n",
      "[400]\ttrain's rmse: 3.18479\teval's rmse: 6.63563\n"
     ]
    },
    {
     "name": "stderr",
     "output_type": "stream",
     "text": [
      "regularization_factors, val_score: 6.600954:  55%|####################3                | 11/20 [00:08<00:06,  1.33it/s]\u001b[32m[I 2021-07-03 17:58:34,404]\u001b[0m Trial 53 finished with value: 6.632858922055333 and parameters: {'lambda_l1': 2.1636271710408737e-05, 'lambda_l2': 5.538147909620919}. Best is trial 47 with value: 6.600954289895882.\u001b[0m\n",
      "regularization_factors, val_score: 6.600954:  55%|####################3                | 11/20 [00:08<00:06,  1.33it/s]"
     ]
    },
    {
     "name": "stdout",
     "output_type": "stream",
     "text": [
      "Early stopping, best iteration is:\n",
      "[396]\ttrain's rmse: 3.19963\teval's rmse: 6.63286\n",
      "Training until validation scores don't improve for 100 rounds\n",
      "[100]\ttrain's rmse: 4.92925\teval's rmse: 6.84252\n",
      "[200]\ttrain's rmse: 3.94144\teval's rmse: 6.65014\n"
     ]
    },
    {
     "name": "stderr",
     "output_type": "stream",
     "text": [
      "regularization_factors, val_score: 6.600954:  60%|######################2              | 12/20 [00:08<00:05,  1.41it/s]\u001b[32m[I 2021-07-03 17:58:35,038]\u001b[0m Trial 54 finished with value: 6.63264120240972 and parameters: {'lambda_l1': 1.2805541524836743e-08, 'lambda_l2': 2.0456611530679814e-08}. Best is trial 47 with value: 6.600954289895882.\u001b[0m\n",
      "regularization_factors, val_score: 6.600954:  60%|######################2              | 12/20 [00:08<00:05,  1.41it/s]"
     ]
    },
    {
     "name": "stdout",
     "output_type": "stream",
     "text": [
      "[300]\ttrain's rmse: 3.39165\teval's rmse: 6.65615\n",
      "Early stopping, best iteration is:\n",
      "[214]\ttrain's rmse: 3.84863\teval's rmse: 6.63264\n",
      "Training until validation scores don't improve for 100 rounds\n",
      "[100]\ttrain's rmse: 4.92711\teval's rmse: 6.84126\n",
      "[200]\ttrain's rmse: 3.94163\teval's rmse: 6.66034\n",
      "[300]\ttrain's rmse: 3.38343\teval's rmse: 6.65078\n",
      "[400]\ttrain's rmse: 2.96011\teval's rmse: 6.67791\n",
      "Early stopping, best iteration is:\n",
      "[302]\ttrain's rmse: 3.37234\teval's rmse: 6.6484\n"
     ]
    },
    {
     "name": "stderr",
     "output_type": "stream",
     "text": [
      "regularization_factors, val_score: 6.600954:  65%|########################             | 13/20 [00:09<00:05,  1.38it/s]\u001b[32m[I 2021-07-03 17:58:35,786]\u001b[0m Trial 55 finished with value: 6.648395798232907 and parameters: {'lambda_l1': 1.1935937244158812e-05, 'lambda_l2': 1.0437105372837091e-08}. Best is trial 47 with value: 6.600954289895882.\u001b[0m\n",
      "regularization_factors, val_score: 6.600954:  65%|########################             | 13/20 [00:09<00:05,  1.38it/s]"
     ]
    },
    {
     "name": "stdout",
     "output_type": "stream",
     "text": [
      "Training until validation scores don't improve for 100 rounds\n",
      "[100]\ttrain's rmse: 4.92925\teval's rmse: 6.84252\n",
      "[200]\ttrain's rmse: 3.94144\teval's rmse: 6.65014\n",
      "[300]\ttrain's rmse: 3.39165\teval's rmse: 6.65615\n",
      "Early stopping, best iteration is:\n",
      "[214]\ttrain's rmse: 3.84863\teval's rmse: 6.63264\n"
     ]
    },
    {
     "name": "stderr",
     "output_type": "stream",
     "text": [
      "regularization_factors, val_score: 6.600954:  70%|#########################9           | 14/20 [00:10<00:04,  1.46it/s]\u001b[32m[I 2021-07-03 17:58:36,388]\u001b[0m Trial 56 finished with value: 6.632641203176194 and parameters: {'lambda_l1': 4.5113284915879295e-07, 'lambda_l2': 4.5619792992256587e-07}. Best is trial 47 with value: 6.600954289895882.\u001b[0m\n",
      "regularization_factors, val_score: 6.600954:  70%|#########################9           | 14/20 [00:10<00:04,  1.46it/s]"
     ]
    },
    {
     "name": "stdout",
     "output_type": "stream",
     "text": [
      "Training until validation scores don't improve for 100 rounds\n",
      "[100]\ttrain's rmse: 4.92202\teval's rmse: 6.85367\n",
      "[200]\ttrain's rmse: 3.95573\teval's rmse: 6.68427\n",
      "[300]\ttrain's rmse: 3.3916\teval's rmse: 6.6674\n"
     ]
    },
    {
     "name": "stderr",
     "output_type": "stream",
     "text": [
      "regularization_factors, val_score: 6.600954:  75%|###########################7         | 15/20 [00:10<00:03,  1.47it/s]\u001b[32m[I 2021-07-03 17:58:37,046]\u001b[0m Trial 57 finished with value: 6.662186125659924 and parameters: {'lambda_l1': 0.0006041580122799757, 'lambda_l2': 0.00014550843624744402}. Best is trial 47 with value: 6.600954289895882.\u001b[0m\n",
      "regularization_factors, val_score: 6.600954:  75%|###########################7         | 15/20 [00:10<00:03,  1.47it/s]"
     ]
    },
    {
     "name": "stdout",
     "output_type": "stream",
     "text": [
      "Early stopping, best iteration is:\n",
      "[251]\ttrain's rmse: 3.64576\teval's rmse: 6.66219\n",
      "Training until validation scores don't improve for 100 rounds\n",
      "[100]\ttrain's rmse: 4.92925\teval's rmse: 6.84252\n",
      "[200]\ttrain's rmse: 3.94144\teval's rmse: 6.65014\n"
     ]
    },
    {
     "name": "stderr",
     "output_type": "stream",
     "text": [
      "regularization_factors, val_score: 6.600954:  80%|#############################6       | 16/20 [00:11<00:02,  1.53it/s]\u001b[32m[I 2021-07-03 17:58:37,640]\u001b[0m Trial 58 finished with value: 6.632641209201574 and parameters: {'lambda_l1': 1.1403857100801518e-08, 'lambda_l2': 4.900299713548793e-06}. Best is trial 47 with value: 6.600954289895882.\u001b[0m\n",
      "regularization_factors, val_score: 6.600954:  80%|#############################6       | 16/20 [00:11<00:02,  1.53it/s]"
     ]
    },
    {
     "name": "stdout",
     "output_type": "stream",
     "text": [
      "[300]\ttrain's rmse: 3.39165\teval's rmse: 6.65615\n",
      "Early stopping, best iteration is:\n",
      "[214]\ttrain's rmse: 3.84863\teval's rmse: 6.63264\n",
      "Training until validation scores don't improve for 100 rounds\n",
      "[100]\ttrain's rmse: 4.92214\teval's rmse: 6.85368\n",
      "[200]\ttrain's rmse: 3.9537\teval's rmse: 6.69195\n"
     ]
    },
    {
     "name": "stderr",
     "output_type": "stream",
     "text": [
      "regularization_factors, val_score: 6.600954:  85%|###############################4     | 17/20 [00:12<00:01,  1.50it/s]\u001b[32m[I 2021-07-03 17:58:38,333]\u001b[0m Trial 59 finished with value: 6.666975131582942 and parameters: {'lambda_l1': 9.33722254034733e-06, 'lambda_l2': 0.00395133575829624}. Best is trial 47 with value: 6.600954289895882.\u001b[0m\n",
      "regularization_factors, val_score: 6.600954:  85%|###############################4     | 17/20 [00:12<00:01,  1.50it/s]"
     ]
    },
    {
     "name": "stdout",
     "output_type": "stream",
     "text": [
      "[300]\ttrain's rmse: 3.39115\teval's rmse: 6.68337\n",
      "Early stopping, best iteration is:\n",
      "[270]\ttrain's rmse: 3.54325\teval's rmse: 6.66698\n",
      "Training until validation scores don't improve for 100 rounds\n",
      "[100]\ttrain's rmse: 4.92925\teval's rmse: 6.84252\n",
      "[200]\ttrain's rmse: 3.94144\teval's rmse: 6.65014\n",
      "[300]\ttrain's rmse: 3.39165\teval's rmse: 6.65615\n",
      "Early stopping, best iteration is:\n",
      "[214]\ttrain's rmse: 3.84863\teval's rmse: 6.63264\n"
     ]
    },
    {
     "name": "stderr",
     "output_type": "stream",
     "text": [
      "regularization_factors, val_score: 6.600954:  90%|#################################3   | 18/20 [00:12<00:01,  1.55it/s]\u001b[32m[I 2021-07-03 17:58:38,938]\u001b[0m Trial 60 finished with value: 6.632641202497771 and parameters: {'lambda_l1': 3.283170801552376e-07, 'lambda_l2': 5.102672246686007e-08}. Best is trial 47 with value: 6.600954289895882.\u001b[0m\n",
      "regularization_factors, val_score: 6.600954:  90%|#################################3   | 18/20 [00:12<00:01,  1.55it/s]"
     ]
    },
    {
     "name": "stdout",
     "output_type": "stream",
     "text": [
      "Training until validation scores don't improve for 100 rounds\n",
      "[100]\ttrain's rmse: 4.92711\teval's rmse: 6.84126\n",
      "[200]\ttrain's rmse: 3.94163\teval's rmse: 6.66034\n",
      "[300]\ttrain's rmse: 3.38478\teval's rmse: 6.65728\n",
      "Early stopping, best iteration is:\n",
      "[205]\ttrain's rmse: 3.90527\teval's rmse: 6.6495\n"
     ]
    },
    {
     "name": "stderr",
     "output_type": "stream",
     "text": [
      "regularization_factors, val_score: 6.600954:  95%|###################################1 | 19/20 [00:13<00:00,  1.61it/s]\u001b[32m[I 2021-07-03 17:58:39,514]\u001b[0m Trial 61 finished with value: 6.649502943348374 and parameters: {'lambda_l1': 9.259567309718475e-05, 'lambda_l2': 1.777758694420964e-05}. Best is trial 47 with value: 6.600954289895882.\u001b[0m\n",
      "regularization_factors, val_score: 6.600954:  95%|###################################1 | 19/20 [00:13<00:00,  1.61it/s]"
     ]
    },
    {
     "name": "stdout",
     "output_type": "stream",
     "text": [
      "Training until validation scores don't improve for 100 rounds\n",
      "[100]\ttrain's rmse: 5.32599\teval's rmse: 6.91107\n",
      "[200]\ttrain's rmse: 4.28981\teval's rmse: 6.62435\n",
      "[300]\ttrain's rmse: 3.73564\teval's rmse: 6.58838\n"
     ]
    },
    {
     "name": "stderr",
     "output_type": "stream",
     "text": [
      "regularization_factors, val_score: 6.568358: 100%|#####################################| 20/20 [00:14<00:00,  1.46it/s]\u001b[32m[I 2021-07-03 17:58:40,334]\u001b[0m Trial 62 finished with value: 6.5683575627606725 and parameters: {'lambda_l1': 0.0010468880310529872, 'lambda_l2': 9.262055756502567}. Best is trial 62 with value: 6.5683575627606725.\u001b[0m\n",
      "regularization_factors, val_score: 6.568358: 100%|#####################################| 20/20 [00:14<00:00,  1.41it/s]\n",
      "min_data_in_leaf, val_score: 6.568358:   0%|                                                     | 0/5 [00:00<?, ?it/s]"
     ]
    },
    {
     "name": "stdout",
     "output_type": "stream",
     "text": [
      "[400]\ttrain's rmse: 3.30738\teval's rmse: 6.59139\n",
      "Early stopping, best iteration is:\n",
      "[343]\ttrain's rmse: 3.536\teval's rmse: 6.56836\n",
      "Training until validation scores don't improve for 100 rounds\n",
      "[100]\ttrain's rmse: 5.45\teval's rmse: 7.0427\n",
      "[200]\ttrain's rmse: 4.41448\teval's rmse: 6.77209\n",
      "[300]\ttrain's rmse: 3.85132\teval's rmse: 6.74131\n"
     ]
    },
    {
     "name": "stderr",
     "output_type": "stream",
     "text": [
      "min_data_in_leaf, val_score: 6.568358:  20%|#########                                    | 1/5 [00:00<00:03,  1.16it/s]\u001b[32m[I 2021-07-03 17:58:41,213]\u001b[0m Trial 63 finished with value: 6.714638427640165 and parameters: {'min_child_samples': 25}. Best is trial 63 with value: 6.714638427640165.\u001b[0m\n",
      "min_data_in_leaf, val_score: 6.568358:  20%|#########                                    | 1/5 [00:00<00:03,  1.16it/s]"
     ]
    },
    {
     "name": "stdout",
     "output_type": "stream",
     "text": [
      "[400]\ttrain's rmse: 3.43009\teval's rmse: 6.72536\n",
      "Early stopping, best iteration is:\n",
      "[365]\ttrain's rmse: 3.56596\teval's rmse: 6.71464\n",
      "Training until validation scores don't improve for 100 rounds\n",
      "[100]\ttrain's rmse: 5.07193\teval's rmse: 6.797\n",
      "[200]\ttrain's rmse: 4.06367\teval's rmse: 6.54292\n",
      "[300]\ttrain's rmse: 3.48261\teval's rmse: 6.51104\n",
      "[400]\ttrain's rmse: 3.02734\teval's rmse: 6.48968\n",
      "Early stopping, best iteration is:\n",
      "[396]\ttrain's rmse: 3.04776\teval's rmse: 6.48669\n"
     ]
    },
    {
     "name": "stderr",
     "output_type": "stream",
     "text": [
      "min_data_in_leaf, val_score: 6.486686:  40%|##################                           | 2/5 [00:01<00:02,  1.12it/s]\u001b[32m[I 2021-07-03 17:58:42,130]\u001b[0m Trial 64 finished with value: 6.486686142257238 and parameters: {'min_child_samples': 5}. Best is trial 64 with value: 6.486686142257238.\u001b[0m\n",
      "min_data_in_leaf, val_score: 6.486686:  40%|##################                           | 2/5 [00:01<00:02,  1.12it/s]"
     ]
    },
    {
     "name": "stdout",
     "output_type": "stream",
     "text": [
      "Training until validation scores don't improve for 100 rounds\n",
      "[100]\ttrain's rmse: 5.13946\teval's rmse: 6.85367\n",
      "[200]\ttrain's rmse: 4.1053\teval's rmse: 6.64296\n",
      "[300]\ttrain's rmse: 3.54193\teval's rmse: 6.61046\n",
      "[400]\ttrain's rmse: 3.11747\teval's rmse: 6.57848\n",
      "Early stopping, best iteration is:\n",
      "[396]\ttrain's rmse: 3.13285\teval's rmse: 6.5744\n"
     ]
    },
    {
     "name": "stderr",
     "output_type": "stream",
     "text": [
      "min_data_in_leaf, val_score: 6.486686:  60%|###########################                  | 3/5 [00:02<00:01,  1.08it/s]\u001b[32m[I 2021-07-03 17:58:43,093]\u001b[0m Trial 65 finished with value: 6.574402789018359 and parameters: {'min_child_samples': 10}. Best is trial 64 with value: 6.486686142257238.\u001b[0m\n",
      "min_data_in_leaf, val_score: 6.486686:  60%|###########################                  | 3/5 [00:02<00:01,  1.08it/s]"
     ]
    },
    {
     "name": "stdout",
     "output_type": "stream",
     "text": [
      "Training until validation scores don't improve for 100 rounds\n",
      "[100]\ttrain's rmse: 6.16312\teval's rmse: 7.28121\n",
      "[200]\ttrain's rmse: 5.26207\teval's rmse: 7.00911\n",
      "[300]\ttrain's rmse: 4.76194\teval's rmse: 6.88481\n",
      "[400]\ttrain's rmse: 4.37278\teval's rmse: 6.79062\n",
      "[500]\ttrain's rmse: 4.07862\teval's rmse: 6.78873\n",
      "[600]\ttrain's rmse: 3.83283\teval's rmse: 6.77675\n",
      "[700]\ttrain's rmse: 3.61144\teval's rmse: 6.78076\n"
     ]
    },
    {
     "name": "stderr",
     "output_type": "stream",
     "text": [
      "min_data_in_leaf, val_score: 6.486686:  80%|####################################         | 4/5 [00:04<00:01,  1.08s/it]\u001b[32m[I 2021-07-03 17:58:44,416]\u001b[0m Trial 66 finished with value: 6.771695256116339 and parameters: {'min_child_samples': 50}. Best is trial 64 with value: 6.486686142257238.\u001b[0m\n",
      "min_data_in_leaf, val_score: 6.486686:  80%|####################################         | 4/5 [00:04<00:01,  1.08s/it]"
     ]
    },
    {
     "name": "stdout",
     "output_type": "stream",
     "text": [
      "Early stopping, best iteration is:\n",
      "[659]\ttrain's rmse: 3.69342\teval's rmse: 6.7717\n",
      "Training until validation scores don't improve for 100 rounds\n",
      "[100]\ttrain's rmse: 7.0583\teval's rmse: 7.75856\n",
      "[200]\ttrain's rmse: 6.33568\teval's rmse: 7.49916\n",
      "[300]\ttrain's rmse: 5.95437\teval's rmse: 7.35828\n",
      "[400]\ttrain's rmse: 5.6628\teval's rmse: 7.2471\n",
      "[500]\ttrain's rmse: 5.43343\teval's rmse: 7.18935\n",
      "[600]\ttrain's rmse: 5.24579\teval's rmse: 7.16993\n",
      "[700]\ttrain's rmse: 5.07995\teval's rmse: 7.1308\n",
      "[800]\ttrain's rmse: 4.92623\teval's rmse: 7.10536\n",
      "[900]\ttrain's rmse: 4.79092\teval's rmse: 7.08166\n",
      "[1000]\ttrain's rmse: 4.66984\teval's rmse: 7.06717\n",
      "Did not meet early stopping. Best iteration is:\n",
      "[1000]\ttrain's rmse: 4.66984\teval's rmse: 7.06717\n"
     ]
    },
    {
     "name": "stderr",
     "output_type": "stream",
     "text": [
      "min_data_in_leaf, val_score: 6.486686: 100%|#############################################| 5/5 [00:05<00:00,  1.21s/it]\u001b[32m[I 2021-07-03 17:58:45,845]\u001b[0m Trial 67 finished with value: 7.067165415067654 and parameters: {'min_child_samples': 100}. Best is trial 64 with value: 6.486686142257238.\u001b[0m\n",
      "min_data_in_leaf, val_score: 6.486686: 100%|#############################################| 5/5 [00:05<00:00,  1.10s/it]\n",
      "\u001b[32m[I 2021-07-03 17:58:45,900]\u001b[0m A new study created in memory with name: no-name-ab1ebd01-177d-4b71-bdc3-f8457047fed6\u001b[0m\n",
      "feature_fraction, val_score: inf:   0%|                                                          | 0/7 [00:00<?, ?it/s]"
     ]
    },
    {
     "name": "stdout",
     "output_type": "stream",
     "text": [
      "Training until validation scores don't improve for 100 rounds\n",
      "[100]\ttrain's rmse: 5.13466\teval's rmse: 6.59318\n",
      "[200]\ttrain's rmse: 4.1285\teval's rmse: 6.41397\n",
      "[300]\ttrain's rmse: 3.55802\teval's rmse: 6.45861\n"
     ]
    },
    {
     "name": "stderr",
     "output_type": "stream",
     "text": [
      "feature_fraction, val_score: 6.405342:  14%|######4                                      | 1/7 [00:00<00:04,  1.42it/s]\u001b[32m[I 2021-07-03 17:58:46,610]\u001b[0m Trial 0 finished with value: 6.405341513282462 and parameters: {'feature_fraction': 0.6}. Best is trial 0 with value: 6.405341513282462.\u001b[0m\n",
      "feature_fraction, val_score: 6.405342:  14%|######4                                      | 1/7 [00:00<00:04,  1.42it/s]"
     ]
    },
    {
     "name": "stdout",
     "output_type": "stream",
     "text": [
      "Early stopping, best iteration is:\n",
      "[218]\ttrain's rmse: 4.00792\teval's rmse: 6.40534\n",
      "Training until validation scores don't improve for 100 rounds\n",
      "[100]\ttrain's rmse: 5.11475\teval's rmse: 6.72693\n",
      "[200]\ttrain's rmse: 4.04843\teval's rmse: 6.5725\n"
     ]
    },
    {
     "name": "stderr",
     "output_type": "stream",
     "text": [
      "feature_fraction, val_score: 6.405342:  29%|############8                                | 2/7 [00:01<00:03,  1.57it/s]\u001b[32m[I 2021-07-03 17:58:47,202]\u001b[0m Trial 1 finished with value: 6.53442100552937 and parameters: {'feature_fraction': 0.8999999999999999}. Best is trial 0 with value: 6.405341513282462.\u001b[0m\n",
      "feature_fraction, val_score: 6.405342:  29%|############8                                | 2/7 [00:01<00:03,  1.57it/s]"
     ]
    },
    {
     "name": "stdout",
     "output_type": "stream",
     "text": [
      "[300]\ttrain's rmse: 3.44963\teval's rmse: 6.5662\n",
      "Early stopping, best iteration is:\n",
      "[236]\ttrain's rmse: 3.80785\teval's rmse: 6.53442\n",
      "Training until validation scores don't improve for 100 rounds\n",
      "[100]\ttrain's rmse: 5.11288\teval's rmse: 6.6545\n",
      "[200]\ttrain's rmse: 4.08806\teval's rmse: 6.50239\n"
     ]
    },
    {
     "name": "stderr",
     "output_type": "stream",
     "text": [
      "feature_fraction, val_score: 6.405342:  43%|###################2                         | 3/7 [00:01<00:02,  1.57it/s]\u001b[32m[I 2021-07-03 17:58:47,834]\u001b[0m Trial 2 finished with value: 6.479583198582735 and parameters: {'feature_fraction': 0.7}. Best is trial 0 with value: 6.405341513282462.\u001b[0m\n",
      "feature_fraction, val_score: 6.405342:  43%|###################2                         | 3/7 [00:01<00:02,  1.57it/s]"
     ]
    },
    {
     "name": "stdout",
     "output_type": "stream",
     "text": [
      "[300]\ttrain's rmse: 3.50155\teval's rmse: 6.5141\n",
      "Early stopping, best iteration is:\n",
      "[273]\ttrain's rmse: 3.63902\teval's rmse: 6.47958\n",
      "Training until validation scores don't improve for 100 rounds\n",
      "[100]\ttrain's rmse: 5.29089\teval's rmse: 6.72394\n",
      "[200]\ttrain's rmse: 4.30739\teval's rmse: 6.5358\n",
      "[300]\ttrain's rmse: 3.76388\teval's rmse: 6.50323\n"
     ]
    },
    {
     "name": "stderr",
     "output_type": "stream",
     "text": [
      "feature_fraction, val_score: 6.405342:  57%|#########################7                   | 4/7 [00:02<00:01,  1.58it/s]\u001b[32m[I 2021-07-03 17:58:48,459]\u001b[0m Trial 3 finished with value: 6.490240580205761 and parameters: {'feature_fraction': 0.4}. Best is trial 0 with value: 6.405341513282462.\u001b[0m\n",
      "feature_fraction, val_score: 6.405342:  57%|#########################7                   | 4/7 [00:02<00:01,  1.58it/s]"
     ]
    },
    {
     "name": "stdout",
     "output_type": "stream",
     "text": [
      "Early stopping, best iteration is:\n",
      "[288]\ttrain's rmse: 3.81951\teval's rmse: 6.49024\n",
      "Training until validation scores don't improve for 100 rounds\n",
      "[100]\ttrain's rmse: 5.18783\teval's rmse: 6.60283\n",
      "[200]\ttrain's rmse: 4.18303\teval's rmse: 6.47215\n"
     ]
    },
    {
     "name": "stderr",
     "output_type": "stream",
     "text": [
      "feature_fraction, val_score: 6.405342:  71%|################################1            | 5/7 [00:03<00:01,  1.55it/s]\u001b[32m[I 2021-07-03 17:58:49,131]\u001b[0m Trial 4 finished with value: 6.45101324461117 and parameters: {'feature_fraction': 0.5}. Best is trial 0 with value: 6.405341513282462.\u001b[0m\n",
      "feature_fraction, val_score: 6.405342:  71%|################################1            | 5/7 [00:03<00:01,  1.55it/s]"
     ]
    },
    {
     "name": "stdout",
     "output_type": "stream",
     "text": [
      "[300]\ttrain's rmse: 3.63303\teval's rmse: 6.46365\n",
      "Early stopping, best iteration is:\n",
      "[278]\ttrain's rmse: 3.73953\teval's rmse: 6.45101\n",
      "Training until validation scores don't improve for 100 rounds\n",
      "[100]\ttrain's rmse: 5.08715\teval's rmse: 6.70511\n",
      "[200]\ttrain's rmse: 4.04234\teval's rmse: 6.6142\n",
      "[300]\ttrain's rmse: 3.42763\teval's rmse: 6.58829\n"
     ]
    },
    {
     "name": "stderr",
     "output_type": "stream",
     "text": [
      "feature_fraction, val_score: 6.405342:  86%|######################################5      | 6/7 [00:03<00:00,  1.51it/s]\u001b[32m[I 2021-07-03 17:58:49,839]\u001b[0m Trial 5 finished with value: 6.569378787282769 and parameters: {'feature_fraction': 1.0}. Best is trial 0 with value: 6.405341513282462.\u001b[0m\n",
      "feature_fraction, val_score: 6.405342:  86%|######################################5      | 6/7 [00:03<00:00,  1.51it/s]"
     ]
    },
    {
     "name": "stdout",
     "output_type": "stream",
     "text": [
      "Early stopping, best iteration is:\n",
      "[285]\ttrain's rmse: 3.50054\teval's rmse: 6.56938\n",
      "Training until validation scores don't improve for 100 rounds\n",
      "[100]\ttrain's rmse: 5.09792\teval's rmse: 6.74059\n",
      "[200]\ttrain's rmse: 4.07209\teval's rmse: 6.60292\n"
     ]
    },
    {
     "name": "stderr",
     "output_type": "stream",
     "text": [
      "feature_fraction, val_score: 6.405342: 100%|#############################################| 7/7 [00:04<00:00,  1.54it/s]\u001b[32m[I 2021-07-03 17:58:50,451]\u001b[0m Trial 6 finished with value: 6.575835261913784 and parameters: {'feature_fraction': 0.8}. Best is trial 0 with value: 6.405341513282462.\u001b[0m\n",
      "feature_fraction, val_score: 6.405342: 100%|#############################################| 7/7 [00:04<00:00,  1.53it/s]\n",
      "num_leaves, val_score: 6.405342:   0%|                                                          | 0/20 [00:00<?, ?it/s]"
     ]
    },
    {
     "name": "stdout",
     "output_type": "stream",
     "text": [
      "[300]\ttrain's rmse: 3.4774\teval's rmse: 6.60242\n",
      "Early stopping, best iteration is:\n",
      "[261]\ttrain's rmse: 3.68001\teval's rmse: 6.57584\n",
      "Training until validation scores don't improve for 100 rounds\n",
      "[100]\ttrain's rmse: 4.77205\teval's rmse: 6.57993\n",
      "[200]\ttrain's rmse: 3.66029\teval's rmse: 6.46136\n",
      "[300]\ttrain's rmse: 3.01341\teval's rmse: 6.50992"
     ]
    },
    {
     "name": "stderr",
     "output_type": "stream",
     "text": [
      "num_leaves, val_score: 6.405342:   5%|##5                                               | 1/20 [00:00<00:13,  1.36it/s]\u001b[32m[I 2021-07-03 17:58:51,224]\u001b[0m Trial 7 finished with value: 6.451390399076243 and parameters: {'num_leaves': 210}. Best is trial 7 with value: 6.451390399076243.\u001b[0m\n",
      "num_leaves, val_score: 6.405342:   5%|##5                                               | 1/20 [00:00<00:13,  1.36it/s]"
     ]
    },
    {
     "name": "stdout",
     "output_type": "stream",
     "text": [
      "\n",
      "Early stopping, best iteration is:\n",
      "[209]\ttrain's rmse: 3.5879\teval's rmse: 6.45139\n",
      "Training until validation scores don't improve for 100 rounds\n",
      "[100]\ttrain's rmse: 4.77205\teval's rmse: 6.57993\n",
      "[200]\ttrain's rmse: 3.66029\teval's rmse: 6.46136\n"
     ]
    },
    {
     "name": "stderr",
     "output_type": "stream",
     "text": [
      "num_leaves, val_score: 6.405342:  10%|#####                                             | 2/20 [00:01<00:13,  1.38it/s]\u001b[32m[I 2021-07-03 17:58:51,926]\u001b[0m Trial 8 finished with value: 6.451390399076243 and parameters: {'num_leaves': 98}. Best is trial 7 with value: 6.451390399076243.\u001b[0m\n",
      "num_leaves, val_score: 6.405342:  10%|#####                                             | 2/20 [00:01<00:13,  1.38it/s]"
     ]
    },
    {
     "name": "stdout",
     "output_type": "stream",
     "text": [
      "[300]\ttrain's rmse: 3.01341\teval's rmse: 6.50992\n",
      "Early stopping, best iteration is:\n",
      "[209]\ttrain's rmse: 3.5879\teval's rmse: 6.45139\n",
      "Training until validation scores don't improve for 100 rounds\n",
      "[100]\ttrain's rmse: 4.77205\teval's rmse: 6.57993\n",
      "[200]\ttrain's rmse: 3.66029\teval's rmse: 6.46136\n"
     ]
    },
    {
     "name": "stderr",
     "output_type": "stream",
     "text": [
      "num_leaves, val_score: 6.405342:  15%|#######5                                          | 3/20 [00:02<00:16,  1.03it/s]\u001b[32m[I 2021-07-03 17:58:53,193]\u001b[0m Trial 9 finished with value: 6.451390399076243 and parameters: {'num_leaves': 180}. Best is trial 7 with value: 6.451390399076243.\u001b[0m\n",
      "num_leaves, val_score: 6.405342:  15%|#######5                                          | 3/20 [00:02<00:16,  1.03it/s]"
     ]
    },
    {
     "name": "stdout",
     "output_type": "stream",
     "text": [
      "[300]\ttrain's rmse: 3.01341\teval's rmse: 6.50992\n",
      "Early stopping, best iteration is:\n",
      "[209]\ttrain's rmse: 3.5879\teval's rmse: 6.45139\n",
      "Training until validation scores don't improve for 100 rounds\n",
      "[100]\ttrain's rmse: 4.77205\teval's rmse: 6.57993\n",
      "[200]\ttrain's rmse: 3.66029\teval's rmse: 6.46136\n"
     ]
    },
    {
     "name": "stderr",
     "output_type": "stream",
     "text": [
      "num_leaves, val_score: 6.405342:  20%|##########                                        | 4/20 [00:04<00:17,  1.10s/it]\u001b[32m[I 2021-07-03 17:58:54,496]\u001b[0m Trial 10 finished with value: 6.451390399076243 and parameters: {'num_leaves': 121}. Best is trial 7 with value: 6.451390399076243.\u001b[0m\n",
      "num_leaves, val_score: 6.405342:  20%|##########                                        | 4/20 [00:04<00:17,  1.10s/it]"
     ]
    },
    {
     "name": "stdout",
     "output_type": "stream",
     "text": [
      "[300]\ttrain's rmse: 3.01341\teval's rmse: 6.50992\n",
      "Early stopping, best iteration is:\n",
      "[209]\ttrain's rmse: 3.5879\teval's rmse: 6.45139\n",
      "Training until validation scores don't improve for 100 rounds\n",
      "[100]\ttrain's rmse: 4.77205\teval's rmse: 6.57993\n",
      "[200]\ttrain's rmse: 3.66029\teval's rmse: 6.46136\n",
      "[300]\ttrain's rmse: 3.01341\teval's rmse: 6.50992"
     ]
    },
    {
     "name": "stderr",
     "output_type": "stream",
     "text": [
      "num_leaves, val_score: 6.405342:  25%|############5                                     | 5/20 [00:04<00:14,  1.02it/s]\u001b[32m[I 2021-07-03 17:58:55,258]\u001b[0m Trial 11 finished with value: 6.451390399076243 and parameters: {'num_leaves': 228}. Best is trial 7 with value: 6.451390399076243.\u001b[0m\n",
      "num_leaves, val_score: 6.405342:  25%|############5                                     | 5/20 [00:04<00:14,  1.02it/s]"
     ]
    },
    {
     "name": "stdout",
     "output_type": "stream",
     "text": [
      "\n",
      "Early stopping, best iteration is:\n",
      "[209]\ttrain's rmse: 3.5879\teval's rmse: 6.45139\n",
      "Training until validation scores don't improve for 100 rounds\n",
      "[100]\ttrain's rmse: 4.77205\teval's rmse: 6.57993\n",
      "[200]\ttrain's rmse: 3.66029\teval's rmse: 6.46136\n"
     ]
    },
    {
     "name": "stderr",
     "output_type": "stream",
     "text": [
      "num_leaves, val_score: 6.405342:  30%|###############                                   | 6/20 [00:05<00:13,  1.08it/s]\u001b[32m[I 2021-07-03 17:58:56,089]\u001b[0m Trial 12 finished with value: 6.451390399076243 and parameters: {'num_leaves': 227}. Best is trial 7 with value: 6.451390399076243.\u001b[0m\n",
      "num_leaves, val_score: 6.405342:  30%|###############                                   | 6/20 [00:05<00:13,  1.08it/s]"
     ]
    },
    {
     "name": "stdout",
     "output_type": "stream",
     "text": [
      "[300]\ttrain's rmse: 3.01341\teval's rmse: 6.50992\n",
      "Early stopping, best iteration is:\n",
      "[209]\ttrain's rmse: 3.5879\teval's rmse: 6.45139\n",
      "Training until validation scores don't improve for 100 rounds\n",
      "[100]\ttrain's rmse: 6.5431\teval's rmse: 6.92437\n",
      "[200]\ttrain's rmse: 5.96207\teval's rmse: 6.61415\n",
      "[300]\ttrain's rmse: 5.56151\teval's rmse: 6.44445\n",
      "[400]\ttrain's rmse: 5.25553\teval's rmse: 6.34597\n",
      "[500]\ttrain's rmse: 5.02677\teval's rmse: 6.32014\n",
      "Early stopping, best iteration is:\n",
      "[482]\ttrain's rmse: 5.06203\teval's rmse: 6.30976\n"
     ]
    },
    {
     "name": "stderr",
     "output_type": "stream",
     "text": [
      "num_leaves, val_score: 6.309758:  35%|#################5                                | 7/20 [00:06<00:10,  1.19it/s]\u001b[32m[I 2021-07-03 17:58:56,752]\u001b[0m Trial 13 finished with value: 6.309757946784811 and parameters: {'num_leaves': 8}. Best is trial 13 with value: 6.309757946784811.\u001b[0m\n",
      "num_leaves, val_score: 6.309758:  35%|#################5                                | 7/20 [00:06<00:10,  1.19it/s]"
     ]
    },
    {
     "name": "stdout",
     "output_type": "stream",
     "text": [
      "Training until validation scores don't improve for 100 rounds\n",
      "[100]\ttrain's rmse: 5.52153\teval's rmse: 6.61865\n",
      "[200]\ttrain's rmse: 4.6098\teval's rmse: 6.44475\n",
      "[300]\ttrain's rmse: 4.08221\teval's rmse: 6.43448\n"
     ]
    },
    {
     "name": "stderr",
     "output_type": "stream",
     "text": [
      "num_leaves, val_score: 6.309758:  40%|####################                              | 8/20 [00:06<00:09,  1.25it/s]\u001b[32m[I 2021-07-03 17:58:57,463]\u001b[0m Trial 14 finished with value: 6.404998607950479 and parameters: {'num_leaves': 22}. Best is trial 13 with value: 6.309757946784811.\u001b[0m\n",
      "num_leaves, val_score: 6.309758:  40%|####################                              | 8/20 [00:06<00:09,  1.25it/s]"
     ]
    },
    {
     "name": "stdout",
     "output_type": "stream",
     "text": [
      "Early stopping, best iteration is:\n",
      "[274]\ttrain's rmse: 4.2019\teval's rmse: 6.405\n",
      "Training until validation scores don't improve for 100 rounds\n",
      "[100]\ttrain's rmse: 4.77205\teval's rmse: 6.57993\n",
      "[200]\ttrain's rmse: 3.66029\teval's rmse: 6.46136\n"
     ]
    },
    {
     "name": "stderr",
     "output_type": "stream",
     "text": [
      "num_leaves, val_score: 6.309758:  45%|######################5                           | 9/20 [00:08<00:10,  1.07it/s]\u001b[32m[I 2021-07-03 17:58:58,709]\u001b[0m Trial 15 finished with value: 6.451390399076243 and parameters: {'num_leaves': 114}. Best is trial 13 with value: 6.309757946784811.\u001b[0m\n",
      "num_leaves, val_score: 6.309758:  45%|######################5                           | 9/20 [00:08<00:10,  1.07it/s]"
     ]
    },
    {
     "name": "stdout",
     "output_type": "stream",
     "text": [
      "[300]\ttrain's rmse: 3.01341\teval's rmse: 6.50992\n",
      "Early stopping, best iteration is:\n",
      "[209]\ttrain's rmse: 3.5879\teval's rmse: 6.45139\n",
      "Training until validation scores don't improve for 100 rounds\n",
      "[100]\ttrain's rmse: 4.77205\teval's rmse: 6.57993\n",
      "[200]\ttrain's rmse: 3.66029\teval's rmse: 6.46136\n"
     ]
    },
    {
     "name": "stderr",
     "output_type": "stream",
     "text": [
      "num_leaves, val_score: 6.309758:  50%|########################5                        | 10/20 [00:09<00:10,  1.06s/it]\u001b[32m[I 2021-07-03 17:59:00,042]\u001b[0m Trial 16 finished with value: 6.451390399076243 and parameters: {'num_leaves': 224}. Best is trial 13 with value: 6.309757946784811.\u001b[0m\n",
      "num_leaves, val_score: 6.309758:  50%|########################5                        | 10/20 [00:09<00:10,  1.06s/it]"
     ]
    },
    {
     "name": "stdout",
     "output_type": "stream",
     "text": [
      "[300]\ttrain's rmse: 3.01341\teval's rmse: 6.50992\n",
      "Early stopping, best iteration is:\n",
      "[209]\ttrain's rmse: 3.5879\teval's rmse: 6.45139\n",
      "Training until validation scores don't improve for 100 rounds\n",
      "[100]\ttrain's rmse: 6.6918\teval's rmse: 7.03107\n",
      "[200]\ttrain's rmse: 6.16264\teval's rmse: 6.7058\n",
      "[300]\ttrain's rmse: 5.77804\teval's rmse: 6.52133\n",
      "[400]\ttrain's rmse: 5.47591\teval's rmse: 6.41971\n"
     ]
    },
    {
     "name": "stderr",
     "output_type": "stream",
     "text": [
      "num_leaves, val_score: 6.309758:  55%|##########################9                      | 11/20 [00:10<00:08,  1.03it/s]\u001b[32m[I 2021-07-03 17:59:00,804]\u001b[0m Trial 17 finished with value: 6.363568109904583 and parameters: {'num_leaves': 7}. Best is trial 13 with value: 6.309757946784811.\u001b[0m\n",
      "num_leaves, val_score: 6.309758:  55%|##########################9                      | 11/20 [00:10<00:08,  1.03it/s]"
     ]
    },
    {
     "name": "stdout",
     "output_type": "stream",
     "text": [
      "[500]\ttrain's rmse: 5.25747\teval's rmse: 6.37636\n",
      "[600]\ttrain's rmse: 5.06765\teval's rmse: 6.38268\n",
      "Early stopping, best iteration is:\n",
      "[509]\ttrain's rmse: 5.2347\teval's rmse: 6.36357\n",
      "Training until validation scores don't improve for 100 rounds\n",
      "[100]\ttrain's rmse: 6.5431\teval's rmse: 6.92437\n",
      "[200]\ttrain's rmse: 5.96207\teval's rmse: 6.61415\n",
      "[300]\ttrain's rmse: 5.56151\teval's rmse: 6.44445\n",
      "[400]\ttrain's rmse: 5.25553\teval's rmse: 6.34597\n",
      "[500]\ttrain's rmse: 5.02677\teval's rmse: 6.32014\n"
     ]
    },
    {
     "name": "stderr",
     "output_type": "stream",
     "text": [
      "num_leaves, val_score: 6.309758:  60%|#############################4                   | 12/20 [00:10<00:07,  1.14it/s]\u001b[32m[I 2021-07-03 17:59:01,476]\u001b[0m Trial 18 finished with value: 6.309757946784811 and parameters: {'num_leaves': 8}. Best is trial 13 with value: 6.309757946784811.\u001b[0m\n",
      "num_leaves, val_score: 6.309758:  60%|#############################4                   | 12/20 [00:11<00:07,  1.14it/s]"
     ]
    },
    {
     "name": "stdout",
     "output_type": "stream",
     "text": [
      "Early stopping, best iteration is:\n",
      "[482]\ttrain's rmse: 5.06203\teval's rmse: 6.30976\n",
      "Training until validation scores don't improve for 100 rounds\n",
      "[100]\ttrain's rmse: 4.77777\teval's rmse: 6.60908\n",
      "[200]\ttrain's rmse: 3.6589\teval's rmse: 6.50701\n",
      "[300]\ttrain's rmse: 3.03256\teval's rmse: 6.49228\n"
     ]
    },
    {
     "name": "stderr",
     "output_type": "stream",
     "text": [
      "num_leaves, val_score: 6.309758:  65%|###############################8                 | 13/20 [00:12<00:07,  1.11s/it]\u001b[32m[I 2021-07-03 17:59:03,118]\u001b[0m Trial 19 finished with value: 6.489210181243198 and parameters: {'num_leaves': 49}. Best is trial 13 with value: 6.309757946784811.\u001b[0m\n",
      "num_leaves, val_score: 6.309758:  65%|###############################8                 | 13/20 [00:12<00:07,  1.11s/it]"
     ]
    },
    {
     "name": "stdout",
     "output_type": "stream",
     "text": [
      "Early stopping, best iteration is:\n",
      "[274]\ttrain's rmse: 3.17881\teval's rmse: 6.48921\n",
      "Training until validation scores don't improve for 100 rounds\n",
      "[100]\ttrain's rmse: 4.77205\teval's rmse: 6.57993\n",
      "[200]\ttrain's rmse: 3.66029\teval's rmse: 6.46136\n"
     ]
    },
    {
     "name": "stderr",
     "output_type": "stream",
     "text": [
      "num_leaves, val_score: 6.309758:  70%|##################################3              | 14/20 [00:13<00:06,  1.12s/it]\u001b[32m[I 2021-07-03 17:59:04,247]\u001b[0m Trial 20 finished with value: 6.451390399076243 and parameters: {'num_leaves': 63}. Best is trial 13 with value: 6.309757946784811.\u001b[0m\n",
      "num_leaves, val_score: 6.309758:  70%|##################################3              | 14/20 [00:13<00:06,  1.12s/it]"
     ]
    },
    {
     "name": "stdout",
     "output_type": "stream",
     "text": [
      "[300]\ttrain's rmse: 3.01341\teval's rmse: 6.50992\n",
      "Early stopping, best iteration is:\n",
      "[209]\ttrain's rmse: 3.5879\teval's rmse: 6.45139\n",
      "Training until validation scores don't improve for 100 rounds\n",
      "[100]\ttrain's rmse: 7.97441\teval's rmse: 8.16617\n",
      "[200]\ttrain's rmse: 7.35432\teval's rmse: 7.58361\n",
      "[300]\ttrain's rmse: 7.21358\teval's rmse: 7.44366\n",
      "[400]\ttrain's rmse: 7.13811\teval's rmse: 7.3726\n",
      "[500]\ttrain's rmse: 7.08196\teval's rmse: 7.31162\n",
      "[600]\ttrain's rmse: 7.04003\teval's rmse: 7.27251\n",
      "[700]\ttrain's rmse: 7.00555\teval's rmse: 7.25102\n",
      "[800]\ttrain's rmse: 6.97657\teval's rmse: 7.23013\n",
      "[900]\ttrain's rmse: 6.95172\teval's rmse: 7.20667"
     ]
    },
    {
     "name": "stderr",
     "output_type": "stream",
     "text": [
      "num_leaves, val_score: 6.309758:  75%|####################################7            | 15/20 [00:14<00:04,  1.04it/s]\u001b[32m[I 2021-07-03 17:59:04,860]\u001b[0m Trial 21 finished with value: 7.203564326590461 and parameters: {'num_leaves': 2}. Best is trial 13 with value: 6.309757946784811.\u001b[0m\n",
      "num_leaves, val_score: 6.309758:  75%|####################################7            | 15/20 [00:14<00:04,  1.04it/s]"
     ]
    },
    {
     "name": "stdout",
     "output_type": "stream",
     "text": [
      "\n",
      "[1000]\ttrain's rmse: 6.92817\teval's rmse: 7.20356\n",
      "Did not meet early stopping. Best iteration is:\n",
      "[1000]\ttrain's rmse: 6.92817\teval's rmse: 7.20356\n",
      "Training until validation scores don't improve for 100 rounds\n",
      "[100]\ttrain's rmse: 4.77205\teval's rmse: 6.57993\n",
      "[200]\ttrain's rmse: 3.66029\teval's rmse: 6.46136\n"
     ]
    },
    {
     "name": "stderr",
     "output_type": "stream",
     "text": [
      "num_leaves, val_score: 6.309758:  80%|#######################################2         | 16/20 [00:15<00:03,  1.13it/s]\u001b[32m[I 2021-07-03 17:59:05,548]\u001b[0m Trial 22 finished with value: 6.451390399076243 and parameters: {'num_leaves': 55}. Best is trial 13 with value: 6.309757946784811.\u001b[0m\n",
      "num_leaves, val_score: 6.309758:  80%|#######################################2         | 16/20 [00:15<00:03,  1.13it/s]"
     ]
    },
    {
     "name": "stdout",
     "output_type": "stream",
     "text": [
      "[300]\ttrain's rmse: 3.01342\teval's rmse: 6.50987\n",
      "Early stopping, best iteration is:\n",
      "[209]\ttrain's rmse: 3.5879\teval's rmse: 6.45139\n",
      "Training until validation scores don't improve for 100 rounds\n",
      "[100]\ttrain's rmse: 4.77205\teval's rmse: 6.57993\n",
      "[200]\ttrain's rmse: 3.66029\teval's rmse: 6.46136\n"
     ]
    },
    {
     "name": "stderr",
     "output_type": "stream",
     "text": [
      "num_leaves, val_score: 6.309758:  85%|#########################################6       | 17/20 [00:15<00:02,  1.20it/s]\u001b[32m[I 2021-07-03 17:59:06,275]\u001b[0m Trial 23 finished with value: 6.451390399076243 and parameters: {'num_leaves': 167}. Best is trial 13 with value: 6.309757946784811.\u001b[0m\n",
      "num_leaves, val_score: 6.309758:  85%|#########################################6       | 17/20 [00:15<00:02,  1.20it/s]"
     ]
    },
    {
     "name": "stdout",
     "output_type": "stream",
     "text": [
      "[300]\ttrain's rmse: 3.01341\teval's rmse: 6.50992\n",
      "Early stopping, best iteration is:\n",
      "[209]\ttrain's rmse: 3.5879\teval's rmse: 6.45139\n",
      "Training until validation scores don't improve for 100 rounds\n",
      "[100]\ttrain's rmse: 5.18222\teval's rmse: 6.63813\n",
      "[200]\ttrain's rmse: 4.1854\teval's rmse: 6.48582\n"
     ]
    },
    {
     "name": "stderr",
     "output_type": "stream",
     "text": [
      "num_leaves, val_score: 6.309758:  90%|############################################1    | 18/20 [00:16<00:01,  1.29it/s]\u001b[32m[I 2021-07-03 17:59:06,895]\u001b[0m Trial 24 finished with value: 6.456358654936114 and parameters: {'num_leaves': 30}. Best is trial 13 with value: 6.309757946784811.\u001b[0m\n"
     ]
    },
    {
     "name": "stdout",
     "output_type": "stream",
     "text": [
      "[300]\ttrain's rmse: 3.62234\teval's rmse: 6.48485\n",
      "Early stopping, best iteration is:\n",
      "[285]\ttrain's rmse: 3.69223\teval's rmse: 6.45636\n"
     ]
    },
    {
     "name": "stderr",
     "output_type": "stream",
     "text": [
      "\r",
      "num_leaves, val_score: 6.309758:  90%|############################################1    | 18/20 [00:16<00:01,  1.29it/s]"
     ]
    },
    {
     "name": "stdout",
     "output_type": "stream",
     "text": [
      "Training until validation scores don't improve for 100 rounds\n",
      "[100]\ttrain's rmse: 4.77205\teval's rmse: 6.57993\n",
      "[200]\ttrain's rmse: 3.66029\teval's rmse: 6.46136\n",
      "[300]\ttrain's rmse: 3.01341\teval's rmse: 6.50992\n",
      "Early stopping, best iteration is:\n",
      "[209]\ttrain's rmse: 3.5879\teval's rmse: 6.45139\n"
     ]
    },
    {
     "name": "stderr",
     "output_type": "stream",
     "text": [
      "num_leaves, val_score: 6.309758:  95%|##############################################5  | 19/20 [00:17<00:00,  1.34it/s]\u001b[32m[I 2021-07-03 17:59:07,604]\u001b[0m Trial 25 finished with value: 6.451390399076243 and parameters: {'num_leaves': 83}. Best is trial 13 with value: 6.309757946784811.\u001b[0m\n",
      "num_leaves, val_score: 6.309758:  95%|##############################################5  | 19/20 [00:17<00:00,  1.34it/s]"
     ]
    },
    {
     "name": "stdout",
     "output_type": "stream",
     "text": [
      "Training until validation scores don't improve for 100 rounds\n",
      "[100]\ttrain's rmse: 4.77205\teval's rmse: 6.57993\n",
      "[200]\ttrain's rmse: 3.66029\teval's rmse: 6.46136\n",
      "[300]\ttrain's rmse: 3.01341\teval's rmse: 6.50992\n"
     ]
    },
    {
     "name": "stderr",
     "output_type": "stream",
     "text": [
      "num_leaves, val_score: 6.309758: 100%|#################################################| 20/20 [00:17<00:00,  1.35it/s]\u001b[32m[I 2021-07-03 17:59:08,304]\u001b[0m Trial 26 finished with value: 6.451390399076243 and parameters: {'num_leaves': 151}. Best is trial 13 with value: 6.309757946784811.\u001b[0m\n",
      "num_leaves, val_score: 6.309758: 100%|#################################################| 20/20 [00:17<00:00,  1.12it/s]\n",
      "bagging, val_score: 6.309758:   0%|                                                             | 0/10 [00:00<?, ?it/s]"
     ]
    },
    {
     "name": "stdout",
     "output_type": "stream",
     "text": [
      "Early stopping, best iteration is:\n",
      "[209]\ttrain's rmse: 3.5879\teval's rmse: 6.45139\n",
      "Training until validation scores don't improve for 100 rounds\n",
      "[100]\ttrain's rmse: 6.57894\teval's rmse: 6.95246\n",
      "[200]\ttrain's rmse: 5.97674\teval's rmse: 6.56883\n",
      "[300]\ttrain's rmse: 5.58095\teval's rmse: 6.48191\n",
      "[400]\ttrain's rmse: 5.28898\teval's rmse: 6.41597\n",
      "[500]\ttrain's rmse: 5.0672\teval's rmse: 6.3894\n",
      "[600]\ttrain's rmse: 4.86847\teval's rmse: 6.38655\n",
      "[700]\ttrain's rmse: 4.69826\teval's rmse: 6.32659\n",
      "[800]\ttrain's rmse: 4.54432\teval's rmse: 6.30207\n"
     ]
    },
    {
     "name": "stderr",
     "output_type": "stream",
     "text": [
      "bagging, val_score: 6.284022:  10%|#####3                                               | 1/10 [00:00<00:07,  1.28it/s]\u001b[32m[I 2021-07-03 17:59:09,101]\u001b[0m Trial 27 finished with value: 6.284021796250097 and parameters: {'bagging_fraction': 0.7233640984024381, 'bagging_freq': 2}. Best is trial 27 with value: 6.284021796250097.\u001b[0m\n",
      "bagging, val_score: 6.284022:  10%|#####3                                               | 1/10 [00:00<00:07,  1.28it/s]"
     ]
    },
    {
     "name": "stdout",
     "output_type": "stream",
     "text": [
      "[900]\ttrain's rmse: 4.41323\teval's rmse: 6.2892\n",
      "Early stopping, best iteration is:\n",
      "[891]\ttrain's rmse: 4.42343\teval's rmse: 6.28402\n",
      "Training until validation scores don't improve for 100 rounds\n",
      "[100]\ttrain's rmse: 6.56124\teval's rmse: 6.90087\n",
      "[200]\ttrain's rmse: 5.98865\teval's rmse: 6.58896\n",
      "[300]\ttrain's rmse: 5.61144\teval's rmse: 6.45234\n",
      "[400]\ttrain's rmse: 5.27524\teval's rmse: 6.34507\n",
      "[500]\ttrain's rmse: 5.03896\teval's rmse: 6.32196\n",
      "[600]\ttrain's rmse: 4.84251\teval's rmse: 6.30896\n",
      "[700]\ttrain's rmse: 4.66224\teval's rmse: 6.27801\n",
      "[800]\ttrain's rmse: 4.4997\teval's rmse: 6.26862"
     ]
    },
    {
     "name": "stderr",
     "output_type": "stream",
     "text": [
      "bagging, val_score: 6.259823:  20%|##########6                                          | 2/10 [00:01<00:05,  1.42it/s]\u001b[32m[I 2021-07-03 17:59:09,752]\u001b[0m Trial 28 finished with value: 6.259823145091729 and parameters: {'bagging_fraction': 0.8910776129603089, 'bagging_freq': 5}. Best is trial 28 with value: 6.259823145091729.\u001b[0m\n",
      "bagging, val_score: 6.259823:  20%|##########6                                          | 2/10 [00:01<00:05,  1.42it/s]"
     ]
    },
    {
     "name": "stdout",
     "output_type": "stream",
     "text": [
      "\n",
      "Early stopping, best iteration is:\n",
      "[755]\ttrain's rmse: 4.56698\teval's rmse: 6.25982\n",
      "Training until validation scores don't improve for 100 rounds\n",
      "[100]\ttrain's rmse: 6.52414\teval's rmse: 6.88124\n",
      "[200]\ttrain's rmse: 5.94829\teval's rmse: 6.54322\n",
      "[300]\ttrain's rmse: 5.54979\teval's rmse: 6.42795\n",
      "[400]\ttrain's rmse: 5.24466\teval's rmse: 6.3203\n",
      "[500]\ttrain's rmse: 5.0019\teval's rmse: 6.29724\n",
      "[600]\ttrain's rmse: 4.7884\teval's rmse: 6.3017\n",
      "[700]\ttrain's rmse: 4.60959\teval's rmse: 6.26112\n",
      "[800]\ttrain's rmse: 4.45087\teval's rmse: 6.25368\n"
     ]
    },
    {
     "name": "stderr",
     "output_type": "stream",
     "text": [
      "bagging, val_score: 6.232822:  30%|###############9                                     | 3/10 [00:02<00:05,  1.17it/s]\u001b[32m[I 2021-07-03 17:59:10,784]\u001b[0m Trial 29 finished with value: 6.2328215882454066 and parameters: {'bagging_fraction': 0.867758630098511, 'bagging_freq': 1}. Best is trial 29 with value: 6.2328215882454066.\u001b[0m\n",
      "bagging, val_score: 6.232822:  30%|###############9                                     | 3/10 [00:02<00:05,  1.17it/s]"
     ]
    },
    {
     "name": "stdout",
     "output_type": "stream",
     "text": [
      "[900]\ttrain's rmse: 4.30796\teval's rmse: 6.25029\n",
      "Early stopping, best iteration is:\n",
      "[858]\ttrain's rmse: 4.3665\teval's rmse: 6.23282\n",
      "Training until validation scores don't improve for 100 rounds\n",
      "[100]\ttrain's rmse: 6.67657\teval's rmse: 7.11646\n",
      "[200]\ttrain's rmse: 6.11133\teval's rmse: 6.83088\n"
     ]
    },
    {
     "name": "stderr",
     "output_type": "stream",
     "text": [
      "\r",
      "bagging, val_score: 6.232822:  30%|###############9                                     | 3/10 [00:03<00:05,  1.17it/s]"
     ]
    },
    {
     "name": "stdout",
     "output_type": "stream",
     "text": [
      "[300]\ttrain's rmse: 5.7698\teval's rmse: 6.76779\n",
      "[400]\ttrain's rmse: 5.49499\teval's rmse: 6.72061\n",
      "Early stopping, best iteration is:\n",
      "[338]\ttrain's rmse: 5.65341\teval's rmse: 6.69187\n"
     ]
    },
    {
     "name": "stderr",
     "output_type": "stream",
     "text": [
      "bagging, val_score: 6.232822:  40%|#####################2                               | 4/10 [00:03<00:04,  1.31it/s]\u001b[32m[I 2021-07-03 17:59:11,417]\u001b[0m Trial 30 finished with value: 6.691872180920711 and parameters: {'bagging_fraction': 0.4642073010763725, 'bagging_freq': 3}. Best is trial 29 with value: 6.2328215882454066.\u001b[0m\n",
      "bagging, val_score: 6.232822:  40%|#####################2                               | 4/10 [00:03<00:04,  1.31it/s]"
     ]
    },
    {
     "name": "stdout",
     "output_type": "stream",
     "text": [
      "Training until validation scores don't improve for 100 rounds\n",
      "[100]\ttrain's rmse: 6.5455\teval's rmse: 6.88535\n",
      "[200]\ttrain's rmse: 5.96386\teval's rmse: 6.55229\n",
      "[300]\ttrain's rmse: 5.54494\teval's rmse: 6.36911\n",
      "[400]\ttrain's rmse: 5.234\teval's rmse: 6.2815\n",
      "[500]\ttrain's rmse: 4.98991\teval's rmse: 6.22946\n",
      "[600]\ttrain's rmse: 4.80408\teval's rmse: 6.19755\n"
     ]
    },
    {
     "name": "stderr",
     "output_type": "stream",
     "text": [
      "bagging, val_score: 6.184275:  50%|##########################5                          | 5/10 [00:03<00:03,  1.39it/s]\u001b[32m[I 2021-07-03 17:59:12,049]\u001b[0m Trial 31 finished with value: 6.1842750272204094 and parameters: {'bagging_fraction': 0.8711592852310295, 'bagging_freq': 4}. Best is trial 31 with value: 6.1842750272204094.\u001b[0m\n",
      "bagging, val_score: 6.184275:  50%|##########################5                          | 5/10 [00:03<00:03,  1.39it/s]"
     ]
    },
    {
     "name": "stdout",
     "output_type": "stream",
     "text": [
      "[700]\ttrain's rmse: 4.62822\teval's rmse: 6.20651\n",
      "Early stopping, best iteration is:\n",
      "[625]\ttrain's rmse: 4.76165\teval's rmse: 6.18428\n",
      "Training until validation scores don't improve for 100 rounds\n",
      "[100]\ttrain's rmse: 6.5726\teval's rmse: 6.96153\n",
      "[200]\ttrain's rmse: 5.98168\teval's rmse: 6.60947\n",
      "[300]\ttrain's rmse: 5.61002\teval's rmse: 6.52431\n",
      "[400]\ttrain's rmse: 5.30398\teval's rmse: 6.43245\n",
      "[500]\ttrain's rmse: 5.0795\teval's rmse: 6.3937"
     ]
    },
    {
     "name": "stderr",
     "output_type": "stream",
     "text": [
      "bagging, val_score: 6.184275:  60%|###############################8                     | 6/10 [00:04<00:02,  1.56it/s]\u001b[32m[I 2021-07-03 17:59:12,533]\u001b[0m Trial 32 finished with value: 6.389923935283519 and parameters: {'bagging_fraction': 0.7455052046394794, 'bagging_freq': 2}. Best is trial 31 with value: 6.1842750272204094.\u001b[0m\n",
      "bagging, val_score: 6.184275:  60%|###############################8                     | 6/10 [00:04<00:02,  1.56it/s]"
     ]
    },
    {
     "name": "stdout",
     "output_type": "stream",
     "text": [
      "\n",
      "Early stopping, best iteration is:\n",
      "[498]\ttrain's rmse: 5.0827\teval's rmse: 6.38992\n",
      "Training until validation scores don't improve for 100 rounds\n",
      "[100]\ttrain's rmse: 6.63779\teval's rmse: 7.13376\n",
      "[200]\ttrain's rmse: 6.0888\teval's rmse: 6.84936\n",
      "[300]\ttrain's rmse: 5.7107\teval's rmse: 6.6975\n",
      "[400]\ttrain's rmse: 5.42926\teval's rmse: 6.64785\n"
     ]
    },
    {
     "name": "stderr",
     "output_type": "stream",
     "text": [
      "bagging, val_score: 6.184275:  70%|#####################################                | 7/10 [00:04<00:01,  1.81it/s]\u001b[32m[I 2021-07-03 17:59:12,909]\u001b[0m Trial 33 finished with value: 6.627878892395742 and parameters: {'bagging_fraction': 0.5873460882532274, 'bagging_freq': 6}. Best is trial 31 with value: 6.1842750272204094.\u001b[0m\n",
      "bagging, val_score: 6.184275:  70%|#####################################                | 7/10 [00:04<00:01,  1.81it/s]"
     ]
    },
    {
     "name": "stdout",
     "output_type": "stream",
     "text": [
      "Early stopping, best iteration is:\n",
      "[342]\ttrain's rmse: 5.57747\teval's rmse: 6.62788\n",
      "Training until validation scores don't improve for 100 rounds\n",
      "[100]\ttrain's rmse: 6.55243\teval's rmse: 6.91256\n",
      "[200]\ttrain's rmse: 5.95372\teval's rmse: 6.60012\n",
      "[300]\ttrain's rmse: 5.57978\teval's rmse: 6.49758\n",
      "[400]\ttrain's rmse: 5.28011\teval's rmse: 6.38034\n",
      "[500]\ttrain's rmse: 5.03428\teval's rmse: 6.32406\n"
     ]
    },
    {
     "name": "stderr",
     "output_type": "stream",
     "text": [
      "bagging, val_score: 6.184275:  80%|##########################################4          | 8/10 [00:05<00:01,  1.55it/s]\u001b[32m[I 2021-07-03 17:59:13,754]\u001b[0m Trial 34 finished with value: 6.319101623219738 and parameters: {'bagging_fraction': 0.768646273266868, 'bagging_freq': 2}. Best is trial 31 with value: 6.1842750272204094.\u001b[0m\n",
      "bagging, val_score: 6.184275:  80%|##########################################4          | 8/10 [00:05<00:01,  1.55it/s]"
     ]
    },
    {
     "name": "stdout",
     "output_type": "stream",
     "text": [
      "[600]\ttrain's rmse: 4.83632\teval's rmse: 6.33148\n",
      "Early stopping, best iteration is:\n",
      "[514]\ttrain's rmse: 5.008\teval's rmse: 6.3191\n",
      "Training until validation scores don't improve for 100 rounds\n",
      "[100]\ttrain's rmse: 6.55603\teval's rmse: 6.97091\n",
      "[200]\ttrain's rmse: 5.93815\teval's rmse: 6.64023\n",
      "[300]\ttrain's rmse: 5.53844\teval's rmse: 6.49101\n",
      "[400]\ttrain's rmse: 5.2481\teval's rmse: 6.36593\n",
      "[500]\ttrain's rmse: 5.00668\teval's rmse: 6.31555\n",
      "[600]\ttrain's rmse: 4.81424\teval's rmse: 6.32234\n",
      "Early stopping, best iteration is:\n",
      "[555]\ttrain's rmse: 4.89611\teval's rmse: 6.29691\n"
     ]
    },
    {
     "name": "stderr",
     "output_type": "stream",
     "text": [
      "bagging, val_score: 6.184275:  90%|###############################################7     | 9/10 [00:06<00:00,  1.36it/s]\u001b[32m[I 2021-07-03 17:59:14,680]\u001b[0m Trial 35 finished with value: 6.2969149430268505 and parameters: {'bagging_fraction': 0.8153061749974229, 'bagging_freq': 7}. Best is trial 31 with value: 6.1842750272204094.\u001b[0m\n",
      "bagging, val_score: 6.184275:  90%|###############################################7     | 9/10 [00:06<00:00,  1.36it/s]"
     ]
    },
    {
     "name": "stdout",
     "output_type": "stream",
     "text": [
      "Training until validation scores don't improve for 100 rounds\n",
      "[100]\ttrain's rmse: 6.7261\teval's rmse: 7.16607\n"
     ]
    },
    {
     "name": "stderr",
     "output_type": "stream",
     "text": [
      "bagging, val_score: 6.184275: 100%|####################################################| 10/10 [00:06<00:00,  1.54it/s]\u001b[32m[I 2021-07-03 17:59:15,145]\u001b[0m Trial 36 finished with value: 6.848252086617044 and parameters: {'bagging_fraction': 0.4655049865189036, 'bagging_freq': 7}. Best is trial 31 with value: 6.1842750272204094.\u001b[0m\n",
      "bagging, val_score: 6.184275: 100%|####################################################| 10/10 [00:06<00:00,  1.46it/s]\n",
      "  0%|                                                                                            | 0/6 [00:00<?, ?it/s]"
     ]
    },
    {
     "name": "stdout",
     "output_type": "stream",
     "text": [
      "[200]\ttrain's rmse: 6.19111\teval's rmse: 6.94783\n",
      "[300]\ttrain's rmse: 5.84806\teval's rmse: 6.91362\n",
      "Early stopping, best iteration is:\n",
      "[239]\ttrain's rmse: 6.04308\teval's rmse: 6.84825\n"
     ]
    },
    {
     "name": "stderr",
     "output_type": "stream",
     "text": [
      "\r",
      "feature_fraction_stage2, val_score: 6.184275:   0%|                                              | 0/6 [00:00<?, ?it/s]"
     ]
    },
    {
     "name": "stdout",
     "output_type": "stream",
     "text": [
      "Training until validation scores don't improve for 100 rounds\n",
      "[100]\ttrain's rmse: 6.56683\teval's rmse: 6.9299\n",
      "[200]\ttrain's rmse: 5.97887\teval's rmse: 6.54202\n",
      "[300]\ttrain's rmse: 5.57431\teval's rmse: 6.3734\n",
      "[400]\ttrain's rmse: 5.28323\teval's rmse: 6.29935\n",
      "[500]\ttrain's rmse: 5.03946\teval's rmse: 6.22757\n"
     ]
    },
    {
     "name": "stderr",
     "output_type": "stream",
     "text": [
      "feature_fraction_stage2, val_score: 6.184275:  17%|######3                               | 1/6 [00:00<00:03,  1.38it/s]\u001b[32m[I 2021-07-03 17:59:15,884]\u001b[0m Trial 37 finished with value: 6.199163522554419 and parameters: {'feature_fraction': 0.52}. Best is trial 37 with value: 6.199163522554419.\u001b[0m\n",
      "feature_fraction_stage2, val_score: 6.184275:  17%|######3                               | 1/6 [00:00<00:03,  1.38it/s]"
     ]
    },
    {
     "name": "stdout",
     "output_type": "stream",
     "text": [
      "[600]\ttrain's rmse: 4.84126\teval's rmse: 6.20832\n",
      "[700]\ttrain's rmse: 4.66504\teval's rmse: 6.21474\n",
      "Early stopping, best iteration is:\n",
      "[612]\ttrain's rmse: 4.82109\teval's rmse: 6.19916\n",
      "Training until validation scores don't improve for 100 rounds\n",
      "[100]\ttrain's rmse: 6.56005\teval's rmse: 6.88156\n",
      "[200]\ttrain's rmse: 5.97154\teval's rmse: 6.56054\n",
      "[300]\ttrain's rmse: 5.55773\teval's rmse: 6.38361\n",
      "[400]\ttrain's rmse: 5.23863\teval's rmse: 6.29539\n",
      "[500]\ttrain's rmse: 4.989\teval's rmse: 6.24135\n",
      "[600]\ttrain's rmse: 4.78328\teval's rmse: 6.21626\n",
      "[700]\ttrain's rmse: 4.60408\teval's rmse: 6.22054\n"
     ]
    },
    {
     "name": "stderr",
     "output_type": "stream",
     "text": [
      "feature_fraction_stage2, val_score: 6.184275:  33%|############6                         | 2/6 [00:01<00:02,  1.35it/s]\u001b[32m[I 2021-07-03 17:59:16,638]\u001b[0m Trial 38 finished with value: 6.198371059764713 and parameters: {'feature_fraction': 0.616}. Best is trial 38 with value: 6.198371059764713.\u001b[0m\n",
      "feature_fraction_stage2, val_score: 6.184275:  33%|############6                         | 2/6 [00:01<00:02,  1.35it/s]"
     ]
    },
    {
     "name": "stdout",
     "output_type": "stream",
     "text": [
      "Early stopping, best iteration is:\n",
      "[626]\ttrain's rmse: 4.73843\teval's rmse: 6.19837\n",
      "Training until validation scores don't improve for 100 rounds\n",
      "[100]\ttrain's rmse: 6.56317\teval's rmse: 6.9201\n",
      "[200]\ttrain's rmse: 5.96995\teval's rmse: 6.51668\n",
      "[300]\ttrain's rmse: 5.55657\teval's rmse: 6.35379\n",
      "[400]\ttrain's rmse: 5.27069\teval's rmse: 6.29409\n",
      "[500]\ttrain's rmse: 5.026\teval's rmse: 6.2539\n",
      "[600]\ttrain's rmse: 4.82987\teval's rmse: 6.22401\n"
     ]
    },
    {
     "name": "stderr",
     "output_type": "stream",
     "text": [
      "feature_fraction_stage2, val_score: 6.184275:  50%|###################                   | 3/6 [00:02<00:02,  1.25it/s]\u001b[32m[I 2021-07-03 17:59:17,509]\u001b[0m Trial 39 finished with value: 6.213861396659892 and parameters: {'feature_fraction': 0.552}. Best is trial 38 with value: 6.198371059764713.\u001b[0m\n",
      "feature_fraction_stage2, val_score: 6.184275:  50%|###################                   | 3/6 [00:02<00:02,  1.25it/s]"
     ]
    },
    {
     "name": "stdout",
     "output_type": "stream",
     "text": [
      "[700]\ttrain's rmse: 4.65462\teval's rmse: 6.23217\n",
      "Early stopping, best iteration is:\n",
      "[641]\ttrain's rmse: 4.75709\teval's rmse: 6.21386\n",
      "Training until validation scores don't improve for 100 rounds\n",
      "[100]\ttrain's rmse: 6.55201\teval's rmse: 6.91088\n",
      "[200]\ttrain's rmse: 5.98448\teval's rmse: 6.57933\n",
      "[300]\ttrain's rmse: 5.5821\teval's rmse: 6.40079\n",
      "[400]\ttrain's rmse: 5.28318\teval's rmse: 6.33637\n",
      "[500]\ttrain's rmse: 5.03969\teval's rmse: 6.30087\n"
     ]
    },
    {
     "name": "stderr",
     "output_type": "stream",
     "text": [
      "feature_fraction_stage2, val_score: 6.184275:  67%|#########################3            | 4/6 [00:02<00:01,  1.38it/s]\u001b[32m[I 2021-07-03 17:59:18,110]\u001b[0m Trial 40 finished with value: 6.2713973573399056 and parameters: {'feature_fraction': 0.584}. Best is trial 38 with value: 6.198371059764713.\u001b[0m\n",
      "feature_fraction_stage2, val_score: 6.184275:  67%|#########################3            | 4/6 [00:02<00:01,  1.38it/s]"
     ]
    },
    {
     "name": "stdout",
     "output_type": "stream",
     "text": [
      "[600]\ttrain's rmse: 4.84503\teval's rmse: 6.28323\n",
      "[700]\ttrain's rmse: 4.66757\teval's rmse: 6.29099\n",
      "Early stopping, best iteration is:\n",
      "[623]\ttrain's rmse: 4.80751\teval's rmse: 6.2714\n",
      "Training until validation scores don't improve for 100 rounds\n",
      "[100]\ttrain's rmse: 6.55797\teval's rmse: 6.88229\n",
      "[200]\ttrain's rmse: 5.97063\teval's rmse: 6.58185\n",
      "[300]\ttrain's rmse: 5.55228\teval's rmse: 6.39953\n",
      "[400]\ttrain's rmse: 5.23691\teval's rmse: 6.32138\n",
      "[500]\ttrain's rmse: 4.97459\teval's rmse: 6.28033\n"
     ]
    },
    {
     "name": "stderr",
     "output_type": "stream",
     "text": [
      "feature_fraction_stage2, val_score: 6.184275:  83%|###############################6      | 5/6 [00:03<00:00,  1.32it/s]\u001b[32m[I 2021-07-03 17:59:18,934]\u001b[0m Trial 41 finished with value: 6.25605258218593 and parameters: {'feature_fraction': 0.6799999999999999}. Best is trial 38 with value: 6.198371059764713.\u001b[0m\n",
      "feature_fraction_stage2, val_score: 6.184275:  83%|###############################6      | 5/6 [00:03<00:00,  1.32it/s]"
     ]
    },
    {
     "name": "stdout",
     "output_type": "stream",
     "text": [
      "[600]\ttrain's rmse: 4.77965\teval's rmse: 6.26577\n",
      "[700]\ttrain's rmse: 4.60042\teval's rmse: 6.28456\n",
      "Early stopping, best iteration is:\n",
      "[643]\ttrain's rmse: 4.70276\teval's rmse: 6.25605\n",
      "Training until validation scores don't improve for 100 rounds\n",
      "[100]\ttrain's rmse: 6.55857\teval's rmse: 6.88058\n",
      "[200]\ttrain's rmse: 5.97652\teval's rmse: 6.55792\n",
      "[300]\ttrain's rmse: 5.55258\teval's rmse: 6.37247\n",
      "[400]\ttrain's rmse: 5.23896\teval's rmse: 6.32966\n",
      "[500]\ttrain's rmse: 4.9896\teval's rmse: 6.30501\n",
      "[600]\ttrain's rmse: 4.78654\teval's rmse: 6.265\n"
     ]
    },
    {
     "name": "stderr",
     "output_type": "stream",
     "text": [
      "feature_fraction_stage2, val_score: 6.184275: 100%|######################################| 6/6 [00:04<00:00,  1.24it/s]\u001b[32m[I 2021-07-03 17:59:19,832]\u001b[0m Trial 42 finished with value: 6.237324420954387 and parameters: {'feature_fraction': 0.6479999999999999}. Best is trial 38 with value: 6.198371059764713.\u001b[0m\n",
      "feature_fraction_stage2, val_score: 6.184275: 100%|######################################| 6/6 [00:04<00:00,  1.28it/s]\n",
      "regularization_factors, val_score: 6.184275:   0%|                                              | 0/20 [00:00<?, ?it/s]"
     ]
    },
    {
     "name": "stdout",
     "output_type": "stream",
     "text": [
      "[700]\ttrain's rmse: 4.6066\teval's rmse: 6.26246\n",
      "Early stopping, best iteration is:\n",
      "[628]\ttrain's rmse: 4.73562\teval's rmse: 6.23732\n",
      "Training until validation scores don't improve for 100 rounds\n",
      "[100]\ttrain's rmse: 6.54553\teval's rmse: 6.88538\n",
      "[200]\ttrain's rmse: 5.9639\teval's rmse: 6.55232\n",
      "[300]\ttrain's rmse: 5.54686\teval's rmse: 6.36902\n",
      "[400]\ttrain's rmse: 5.23557\teval's rmse: 6.29861\n",
      "[500]\ttrain's rmse: 4.98742\teval's rmse: 6.24933\n",
      "[600]\ttrain's rmse: 4.78653\teval's rmse: 6.20752\n"
     ]
    },
    {
     "name": "stderr",
     "output_type": "stream",
     "text": [
      "regularization_factors, val_score: 6.184275:   5%|#9                                    | 1/20 [00:00<00:17,  1.06it/s]\u001b[32m[I 2021-07-03 17:59:20,794]\u001b[0m Trial 43 finished with value: 6.189334631858273 and parameters: {'lambda_l1': 0.0008770976225504528, 'lambda_l2': 0.002849311786832159}. Best is trial 43 with value: 6.189334631858273.\u001b[0m\n",
      "regularization_factors, val_score: 6.184275:   5%|#9                                    | 1/20 [00:00<00:17,  1.06it/s]"
     ]
    },
    {
     "name": "stdout",
     "output_type": "stream",
     "text": [
      "[700]\ttrain's rmse: 4.60689\teval's rmse: 6.21567\n",
      "Early stopping, best iteration is:\n",
      "[623]\ttrain's rmse: 4.74508\teval's rmse: 6.18933\n",
      "Training until validation scores don't improve for 100 rounds\n",
      "[100]\ttrain's rmse: 6.54583\teval's rmse: 6.88561\n",
      "[200]\ttrain's rmse: 5.97162\teval's rmse: 6.54972\n",
      "[300]\ttrain's rmse: 5.56061\teval's rmse: 6.347\n",
      "[400]\ttrain's rmse: 5.25435\teval's rmse: 6.29935\n",
      "[500]\ttrain's rmse: 5.01087\teval's rmse: 6.25938\n"
     ]
    },
    {
     "name": "stderr",
     "output_type": "stream",
     "text": [
      "regularization_factors, val_score: 6.184275:  10%|###8                                  | 2/20 [00:01<00:13,  1.36it/s]\u001b[32m[I 2021-07-03 17:59:21,396]\u001b[0m Trial 44 finished with value: 6.202928027565023 and parameters: {'lambda_l1': 0.13203080852481652, 'lambda_l2': 1.8130425347643283e-08}. Best is trial 43 with value: 6.189334631858273.\u001b[0m\n",
      "regularization_factors, val_score: 6.184275:  10%|###8                                  | 2/20 [00:01<00:13,  1.36it/s]"
     ]
    },
    {
     "name": "stdout",
     "output_type": "stream",
     "text": [
      "[600]\ttrain's rmse: 4.81331\teval's rmse: 6.2194\n",
      "[700]\ttrain's rmse: 4.6255\teval's rmse: 6.22033\n",
      "Early stopping, best iteration is:\n",
      "[622]\ttrain's rmse: 4.77057\teval's rmse: 6.20293\n",
      "Training until validation scores don't improve for 100 rounds\n",
      "[100]\ttrain's rmse: 6.54564\teval's rmse: 6.88546\n",
      "[200]\ttrain's rmse: 5.96417\teval's rmse: 6.55244\n",
      "[300]\ttrain's rmse: 5.54612\teval's rmse: 6.3507\n",
      "[400]\ttrain's rmse: 5.24068\teval's rmse: 6.28657\n",
      "[500]\ttrain's rmse: 4.99241\teval's rmse: 6.2296\n",
      "[600]\ttrain's rmse: 4.79066\teval's rmse: 6.19716\n",
      "[700]\ttrain's rmse: 4.60539\teval's rmse: 6.19607\n"
     ]
    },
    {
     "name": "stderr",
     "output_type": "stream",
     "text": [
      "regularization_factors, val_score: 6.184275:  15%|#####7                                | 3/20 [00:02<00:11,  1.45it/s]\u001b[32m[I 2021-07-03 17:59:22,014]\u001b[0m Trial 45 finished with value: 6.19086339467626 and parameters: {'lambda_l1': 0.05561052615965642, 'lambda_l2': 3.22220010819869e-05}. Best is trial 43 with value: 6.189334631858273.\u001b[0m\n",
      "regularization_factors, val_score: 6.184275:  15%|#####7                                | 3/20 [00:02<00:11,  1.45it/s]"
     ]
    },
    {
     "name": "stdout",
     "output_type": "stream",
     "text": [
      "Early stopping, best iteration is:\n",
      "[606]\ttrain's rmse: 4.77932\teval's rmse: 6.19086\n",
      "Training until validation scores don't improve for 100 rounds\n",
      "[100]\ttrain's rmse: 6.54551\teval's rmse: 6.88535\n",
      "[200]\ttrain's rmse: 5.96386\teval's rmse: 6.55229\n",
      "[300]\ttrain's rmse: 5.54494\teval's rmse: 6.36912\n",
      "[400]\ttrain's rmse: 5.234\teval's rmse: 6.28151\n"
     ]
    },
    {
     "name": "stderr",
     "output_type": "stream",
     "text": [
      "regularization_factors, val_score: 6.184275:  20%|#######6                              | 4/20 [00:02<00:10,  1.53it/s]\u001b[32m[I 2021-07-03 17:59:22,605]\u001b[0m Trial 46 finished with value: 6.188457533066699 and parameters: {'lambda_l1': 3.431022236066529e-05, 'lambda_l2': 0.00016055238838869586}. Best is trial 46 with value: 6.188457533066699.\u001b[0m\n"
     ]
    },
    {
     "name": "stdout",
     "output_type": "stream",
     "text": [
      "[500]\ttrain's rmse: 4.98992\teval's rmse: 6.22946\n",
      "[600]\ttrain's rmse: 4.80485\teval's rmse: 6.20173\n",
      "[700]\ttrain's rmse: 4.61836\teval's rmse: 6.20878\n",
      "Early stopping, best iteration is:\n",
      "[624]\ttrain's rmse: 4.76359\teval's rmse: 6.18846\n"
     ]
    },
    {
     "name": "stderr",
     "output_type": "stream",
     "text": [
      "\r",
      "regularization_factors, val_score: 6.184275:  20%|#######6                              | 4/20 [00:02<00:10,  1.53it/s]"
     ]
    },
    {
     "name": "stdout",
     "output_type": "stream",
     "text": [
      "Training until validation scores don't improve for 100 rounds\n",
      "[100]\ttrain's rmse: 6.54551\teval's rmse: 6.88535\n",
      "[200]\ttrain's rmse: 5.96386\teval's rmse: 6.55229\n",
      "[300]\ttrain's rmse: 5.5468\teval's rmse: 6.369\n",
      "[400]\ttrain's rmse: 5.2355\teval's rmse: 6.29859\n",
      "[500]\ttrain's rmse: 4.98735\teval's rmse: 6.24932\n"
     ]
    },
    {
     "name": "stderr",
     "output_type": "stream",
     "text": [
      "regularization_factors, val_score: 6.184275:  25%|#########5                            | 5/20 [00:03<00:09,  1.59it/s]\u001b[32m[I 2021-07-03 17:59:23,213]\u001b[0m Trial 47 finished with value: 6.1893196619229425 and parameters: {'lambda_l1': 0.0006482502090510253, 'lambda_l2': 1.8675618352698158e-07}. Best is trial 46 with value: 6.188457533066699.\u001b[0m\n",
      "regularization_factors, val_score: 6.184275:  25%|#########5                            | 5/20 [00:03<00:09,  1.59it/s]"
     ]
    },
    {
     "name": "stdout",
     "output_type": "stream",
     "text": [
      "[600]\ttrain's rmse: 4.78645\teval's rmse: 6.20751\n",
      "[700]\ttrain's rmse: 4.60681\teval's rmse: 6.21566\n",
      "Early stopping, best iteration is:\n",
      "[623]\ttrain's rmse: 4.745\teval's rmse: 6.18932\n",
      "Training until validation scores don't improve for 100 rounds\n",
      "[100]\ttrain's rmse: 6.56268\teval's rmse: 6.9318\n",
      "[200]\ttrain's rmse: 5.96458\teval's rmse: 6.58676\n",
      "[300]\ttrain's rmse: 5.54599\teval's rmse: 6.39878\n",
      "[400]\ttrain's rmse: 5.23386\teval's rmse: 6.33123\n",
      "[500]\ttrain's rmse: 4.99319\teval's rmse: 6.25182\n",
      "[600]\ttrain's rmse: 4.80053\teval's rmse: 6.22779\n",
      "[700]\ttrain's rmse: 4.6262\teval's rmse: 6.2443\n"
     ]
    },
    {
     "name": "stderr",
     "output_type": "stream",
     "text": [
      "regularization_factors, val_score: 6.184275:  30%|###########4                          | 6/20 [00:03<00:08,  1.61it/s]\u001b[32m[I 2021-07-03 17:59:23,801]\u001b[0m Trial 48 finished with value: 6.218287798055445 and parameters: {'lambda_l1': 2.8606124607923552e-05, 'lambda_l2': 0.5728461765668545}. Best is trial 46 with value: 6.188457533066699.\u001b[0m\n",
      "regularization_factors, val_score: 6.184275:  30%|###########4                          | 6/20 [00:03<00:08,  1.61it/s]"
     ]
    },
    {
     "name": "stdout",
     "output_type": "stream",
     "text": [
      "Early stopping, best iteration is:\n",
      "[624]\ttrain's rmse: 4.75782\teval's rmse: 6.21829\n",
      "Training until validation scores don't improve for 100 rounds\n",
      "[100]\ttrain's rmse: 6.54551\teval's rmse: 6.88536\n",
      "[200]\ttrain's rmse: 5.96386\teval's rmse: 6.55229\n",
      "[300]\ttrain's rmse: 5.54495\teval's rmse: 6.36912\n",
      "[400]\ttrain's rmse: 5.234\teval's rmse: 6.28151\n",
      "[500]\ttrain's rmse: 4.98992\teval's rmse: 6.22946\n"
     ]
    },
    {
     "name": "stderr",
     "output_type": "stream",
     "text": [
      "regularization_factors, val_score: 6.184275:  35%|#############3                        | 7/20 [00:04<00:07,  1.65it/s]\u001b[32m[I 2021-07-03 17:59:24,394]\u001b[0m Trial 49 finished with value: 6.18845799867518 and parameters: {'lambda_l1': 2.1867330212597969e-07, 'lambda_l2': 0.00027088026564218943}. Best is trial 46 with value: 6.188457533066699.\u001b[0m\n",
      "regularization_factors, val_score: 6.184275:  35%|#############3                        | 7/20 [00:04<00:07,  1.65it/s]"
     ]
    },
    {
     "name": "stdout",
     "output_type": "stream",
     "text": [
      "[600]\ttrain's rmse: 4.80485\teval's rmse: 6.20174\n",
      "[700]\ttrain's rmse: 4.61836\teval's rmse: 6.20878\n",
      "Early stopping, best iteration is:\n",
      "[624]\ttrain's rmse: 4.76359\teval's rmse: 6.18846\n",
      "Training until validation scores don't improve for 100 rounds\n",
      "[100]\ttrain's rmse: 6.56739\teval's rmse: 6.92836\n",
      "[200]\ttrain's rmse: 5.99431\teval's rmse: 6.57567\n",
      "[300]\ttrain's rmse: 5.57834\teval's rmse: 6.39005\n",
      "[400]\ttrain's rmse: 5.28001\teval's rmse: 6.32307\n",
      "[500]\ttrain's rmse: 5.02573\teval's rmse: 6.28288\n",
      "[600]\ttrain's rmse: 4.82759\teval's rmse: 6.23835\n",
      "[700]\ttrain's rmse: 4.64434\teval's rmse: 6.25251\n"
     ]
    },
    {
     "name": "stderr",
     "output_type": "stream",
     "text": [
      "regularization_factors, val_score: 6.184275:  40%|###############2                      | 8/20 [00:05<00:07,  1.64it/s]\u001b[32m[I 2021-07-03 17:59:25,000]\u001b[0m Trial 50 finished with value: 6.21980949729416 and parameters: {'lambda_l1': 2.810529699488624e-07, 'lambda_l2': 1.0961951775391632}. Best is trial 46 with value: 6.188457533066699.\u001b[0m\n",
      "regularization_factors, val_score: 6.184275:  40%|###############2                      | 8/20 [00:05<00:07,  1.64it/s]"
     ]
    },
    {
     "name": "stdout",
     "output_type": "stream",
     "text": [
      "Early stopping, best iteration is:\n",
      "[626]\ttrain's rmse: 4.77871\teval's rmse: 6.21981\n",
      "Training until validation scores don't improve for 100 rounds\n",
      "[100]\ttrain's rmse: 6.59266\teval's rmse: 6.93069\n",
      "[200]\ttrain's rmse: 6.01924\teval's rmse: 6.59341\n",
      "[300]\ttrain's rmse: 5.60825\teval's rmse: 6.40898\n",
      "[400]\ttrain's rmse: 5.29961\teval's rmse: 6.34289\n",
      "[500]\ttrain's rmse: 5.05668\teval's rmse: 6.29567\n"
     ]
    },
    {
     "name": "stderr",
     "output_type": "stream",
     "text": [
      "regularization_factors, val_score: 6.184275:  45%|#################1                    | 9/20 [00:05<00:06,  1.65it/s]\u001b[32m[I 2021-07-03 17:59:25,592]\u001b[0m Trial 51 finished with value: 6.268221844001483 and parameters: {'lambda_l1': 0.0023290307982453593, 'lambda_l2': 1.6296752425158814}. Best is trial 46 with value: 6.188457533066699.\u001b[0m\n",
      "regularization_factors, val_score: 6.184275:  45%|#################1                    | 9/20 [00:05<00:06,  1.65it/s]"
     ]
    },
    {
     "name": "stdout",
     "output_type": "stream",
     "text": [
      "[600]\ttrain's rmse: 4.86355\teval's rmse: 6.27463\n",
      "[700]\ttrain's rmse: 4.68092\teval's rmse: 6.2851\n",
      "Early stopping, best iteration is:\n",
      "[627]\ttrain's rmse: 4.81392\teval's rmse: 6.26822\n",
      "Training until validation scores don't improve for 100 rounds\n",
      "[100]\ttrain's rmse: 6.55742\teval's rmse: 6.8998\n",
      "[200]\ttrain's rmse: 5.96484\teval's rmse: 6.5693\n",
      "[300]\ttrain's rmse: 5.5599\teval's rmse: 6.38333\n",
      "[400]\ttrain's rmse: 5.2603\teval's rmse: 6.31463\n",
      "[500]\ttrain's rmse: 5.01964\teval's rmse: 6.27493\n",
      "[600]\ttrain's rmse: 4.81877\teval's rmse: 6.21478\n",
      "[700]\ttrain's rmse: 4.64047\teval's rmse: 6.23452\n"
     ]
    },
    {
     "name": "stderr",
     "output_type": "stream",
     "text": [
      "regularization_factors, val_score: 6.184275:  50%|##################5                  | 10/20 [00:06<00:06,  1.65it/s]\u001b[32m[I 2021-07-03 17:59:26,201]\u001b[0m Trial 52 finished with value: 6.204860352388178 and parameters: {'lambda_l1': 2.458630529027798e-08, 'lambda_l2': 0.28632351292544905}. Best is trial 46 with value: 6.188457533066699.\u001b[0m\n",
      "regularization_factors, val_score: 6.184275:  50%|##################5                  | 10/20 [00:06<00:06,  1.65it/s]"
     ]
    },
    {
     "name": "stdout",
     "output_type": "stream",
     "text": [
      "Early stopping, best iteration is:\n",
      "[624]\ttrain's rmse: 4.77763\teval's rmse: 6.20486\n",
      "Training until validation scores don't improve for 100 rounds\n",
      "[100]\ttrain's rmse: 6.55905\teval's rmse: 6.91593\n",
      "[200]\ttrain's rmse: 5.98693\teval's rmse: 6.57688\n",
      "[300]\ttrain's rmse: 5.59137\teval's rmse: 6.39971\n",
      "[400]\ttrain's rmse: 5.28629\teval's rmse: 6.34692\n"
     ]
    },
    {
     "name": "stderr",
     "output_type": "stream",
     "text": [
      "\r",
      "regularization_factors, val_score: 6.184275:  50%|##################5                  | 10/20 [00:06<00:06,  1.65it/s]"
     ]
    },
    {
     "name": "stdout",
     "output_type": "stream",
     "text": [
      "[500]\ttrain's rmse: 5.05254\teval's rmse: 6.28993\n",
      "[600]\ttrain's rmse: 4.86446\teval's rmse: 6.26006\n",
      "[700]\ttrain's rmse: 4.68643\teval's rmse: 6.24919\n",
      "Early stopping, best iteration is:\n",
      "[627]\ttrain's rmse: 4.8187\teval's rmse: 6.23995\n"
     ]
    },
    {
     "name": "stderr",
     "output_type": "stream",
     "text": [
      "regularization_factors, val_score: 6.184275:  55%|####################3                | 11/20 [00:06<00:05,  1.65it/s]\u001b[32m[I 2021-07-03 17:59:26,808]\u001b[0m Trial 53 finished with value: 6.2399463023986845 and parameters: {'lambda_l1': 6.47579134280351, 'lambda_l2': 7.545422255266894e-07}. Best is trial 46 with value: 6.188457533066699.\u001b[0m\n",
      "regularization_factors, val_score: 6.184275:  55%|####################3                | 11/20 [00:06<00:05,  1.65it/s]"
     ]
    },
    {
     "name": "stdout",
     "output_type": "stream",
     "text": [
      "Training until validation scores don't improve for 100 rounds\n",
      "[100]\ttrain's rmse: 6.54551\teval's rmse: 6.88536\n",
      "[200]\ttrain's rmse: 5.96387\teval's rmse: 6.5523\n",
      "[300]\ttrain's rmse: 5.54681\teval's rmse: 6.369\n",
      "[400]\ttrain's rmse: 5.23551\teval's rmse: 6.29859\n",
      "[500]\ttrain's rmse: 4.98539\teval's rmse: 6.24504\n",
      "[600]\ttrain's rmse: 4.79268\teval's rmse: 6.21099\n"
     ]
    },
    {
     "name": "stderr",
     "output_type": "stream",
     "text": [
      "regularization_factors, val_score: 6.184275:  60%|######################2              | 12/20 [00:07<00:04,  1.63it/s]\u001b[32m[I 2021-07-03 17:59:27,449]\u001b[0m Trial 54 finished with value: 6.197029505720803 and parameters: {'lambda_l1': 3.5499781802326134e-06, 'lambda_l2': 0.0009227972008718413}. Best is trial 46 with value: 6.188457533066699.\u001b[0m\n",
      "regularization_factors, val_score: 6.184275:  60%|######################2              | 12/20 [00:07<00:04,  1.63it/s]"
     ]
    },
    {
     "name": "stdout",
     "output_type": "stream",
     "text": [
      "[700]\ttrain's rmse: 4.60785\teval's rmse: 6.21866\n",
      "Early stopping, best iteration is:\n",
      "[625]\ttrain's rmse: 4.74819\teval's rmse: 6.19703\n",
      "Training until validation scores don't improve for 100 rounds\n",
      "[100]\ttrain's rmse: 6.5455\teval's rmse: 6.88535\n",
      "[200]\ttrain's rmse: 5.96386\teval's rmse: 6.55229\n",
      "[300]\ttrain's rmse: 5.54494\teval's rmse: 6.36911\n",
      "[400]\ttrain's rmse: 5.234\teval's rmse: 6.28151\n"
     ]
    },
    {
     "name": "stderr",
     "output_type": "stream",
     "text": [
      "\r",
      "regularization_factors, val_score: 6.184275:  60%|######################2              | 12/20 [00:08<00:04,  1.63it/s]"
     ]
    },
    {
     "name": "stdout",
     "output_type": "stream",
     "text": [
      "[500]\ttrain's rmse: 4.98992\teval's rmse: 6.22946\n",
      "[600]\ttrain's rmse: 4.80408\teval's rmse: 6.19755\n",
      "[700]\ttrain's rmse: 4.62823\teval's rmse: 6.20651\n",
      "Early stopping, best iteration is:\n",
      "[625]\ttrain's rmse: 4.76166\teval's rmse: 6.18428\n"
     ]
    },
    {
     "name": "stderr",
     "output_type": "stream",
     "text": [
      "regularization_factors, val_score: 6.184275:  65%|########################             | 13/20 [00:08<00:04,  1.63it/s]\u001b[32m[I 2021-07-03 17:59:28,055]\u001b[0m Trial 55 finished with value: 6.184275229838288 and parameters: {'lambda_l1': 1.3619592411992658e-08, 'lambda_l2': 3.957289180895261e-05}. Best is trial 55 with value: 6.184275229838288.\u001b[0m\n",
      "regularization_factors, val_score: 6.184275:  65%|########################             | 13/20 [00:08<00:04,  1.63it/s]"
     ]
    },
    {
     "name": "stdout",
     "output_type": "stream",
     "text": [
      "Training until validation scores don't improve for 100 rounds\n",
      "[100]\ttrain's rmse: 6.5455\teval's rmse: 6.88535\n",
      "[200]\ttrain's rmse: 5.96386\teval's rmse: 6.55229\n",
      "[300]\ttrain's rmse: 5.54494\teval's rmse: 6.36911\n",
      "[400]\ttrain's rmse: 5.234\teval's rmse: 6.2815\n",
      "[500]\ttrain's rmse: 4.98992\teval's rmse: 6.22946\n",
      "[600]\ttrain's rmse: 4.80408\teval's rmse: 6.19755\n"
     ]
    },
    {
     "name": "stderr",
     "output_type": "stream",
     "text": [
      "regularization_factors, val_score: 6.184275:  70%|#########################9           | 14/20 [00:08<00:03,  1.63it/s]\u001b[32m[I 2021-07-03 17:59:28,662]\u001b[0m Trial 56 finished with value: 6.184275080455373 and parameters: {'lambda_l1': 1.49719064226358e-08, 'lambda_l2': 1.0023560613359763e-05}. Best is trial 56 with value: 6.184275080455373.\u001b[0m\n",
      "regularization_factors, val_score: 6.184275:  70%|#########################9           | 14/20 [00:08<00:03,  1.63it/s]"
     ]
    },
    {
     "name": "stdout",
     "output_type": "stream",
     "text": [
      "[700]\ttrain's rmse: 4.62822\teval's rmse: 6.20651\n",
      "Early stopping, best iteration is:\n",
      "[625]\ttrain's rmse: 4.76165\teval's rmse: 6.18428\n",
      "Training until validation scores don't improve for 100 rounds\n",
      "[100]\ttrain's rmse: 6.5455\teval's rmse: 6.88535\n",
      "[200]\ttrain's rmse: 5.96386\teval's rmse: 6.55229\n",
      "[300]\ttrain's rmse: 5.54494\teval's rmse: 6.36911\n",
      "[400]\ttrain's rmse: 5.234\teval's rmse: 6.2815\n",
      "[500]\ttrain's rmse: 4.98991\teval's rmse: 6.22946\n",
      "[600]\ttrain's rmse: 4.80408\teval's rmse: 6.19755\n",
      "[700]\ttrain's rmse: 4.62822\teval's rmse: 6.20651\n",
      "Early stopping, best iteration is:\n",
      "[625]\ttrain's rmse: 4.76165\teval's rmse: 6.18428"
     ]
    },
    {
     "name": "stderr",
     "output_type": "stream",
     "text": [
      "regularization_factors, val_score: 6.184275:  75%|###########################7         | 15/20 [00:09<00:03,  1.61it/s]\u001b[32m[I 2021-07-03 17:59:29,300]\u001b[0m Trial 57 finished with value: 6.184275054057893 and parameters: {'lambda_l1': 1.8099022482713624e-08, 'lambda_l2': 4.962789711938421e-06}. Best is trial 57 with value: 6.184275054057893.\u001b[0m\n",
      "regularization_factors, val_score: 6.184275:  75%|###########################7         | 15/20 [00:09<00:03,  1.61it/s]"
     ]
    },
    {
     "name": "stdout",
     "output_type": "stream",
     "text": [
      "\n",
      "Training until validation scores don't improve for 100 rounds\n",
      "[100]\ttrain's rmse: 6.5455\teval's rmse: 6.88535\n",
      "[200]\ttrain's rmse: 5.96386\teval's rmse: 6.55229\n",
      "[300]\ttrain's rmse: 5.54494\teval's rmse: 6.36911\n",
      "[400]\ttrain's rmse: 5.234\teval's rmse: 6.2815\n"
     ]
    },
    {
     "name": "stderr",
     "output_type": "stream",
     "text": [
      "\r",
      "regularization_factors, val_score: 6.184275:  75%|###########################7         | 15/20 [00:10<00:03,  1.61it/s]"
     ]
    },
    {
     "name": "stdout",
     "output_type": "stream",
     "text": [
      "[500]\ttrain's rmse: 4.98991\teval's rmse: 6.22946\n",
      "[600]\ttrain's rmse: 4.80408\teval's rmse: 6.19755\n",
      "[700]\ttrain's rmse: 4.62822\teval's rmse: 6.20651\n",
      "Early stopping, best iteration is:\n",
      "[625]\ttrain's rmse: 4.76165\teval's rmse: 6.18428\n"
     ]
    },
    {
     "name": "stderr",
     "output_type": "stream",
     "text": [
      "regularization_factors, val_score: 6.184275:  80%|#############################6       | 16/20 [00:10<00:02,  1.62it/s]\u001b[32m[I 2021-07-03 17:59:29,904]\u001b[0m Trial 58 finished with value: 6.184275038624825 and parameters: {'lambda_l1': 4.3834313574679166e-07, 'lambda_l2': 1.9669156191716044e-06}. Best is trial 58 with value: 6.184275038624825.\u001b[0m\n",
      "regularization_factors, val_score: 6.184275:  80%|#############################6       | 16/20 [00:10<00:02,  1.62it/s]"
     ]
    },
    {
     "name": "stdout",
     "output_type": "stream",
     "text": [
      "Training until validation scores don't improve for 100 rounds\n",
      "[100]\ttrain's rmse: 6.5455\teval's rmse: 6.88535\n",
      "[200]\ttrain's rmse: 5.96386\teval's rmse: 6.55229\n",
      "[300]\ttrain's rmse: 5.54494\teval's rmse: 6.36911\n",
      "[400]\ttrain's rmse: 5.234\teval's rmse: 6.2815\n",
      "[500]\ttrain's rmse: 4.98991\teval's rmse: 6.22946\n",
      "[600]\ttrain's rmse: 4.80408\teval's rmse: 6.19755\n",
      "[700]\ttrain's rmse: 4.62822\teval's rmse: 6.20651\n"
     ]
    },
    {
     "name": "stderr",
     "output_type": "stream",
     "text": [
      "regularization_factors, val_score: 6.184275:  85%|###############################4     | 17/20 [00:10<00:01,  1.63it/s]\u001b[32m[I 2021-07-03 17:59:30,514]\u001b[0m Trial 59 finished with value: 6.184275037879823 and parameters: {'lambda_l1': 6.205270545886892e-07, 'lambda_l2': 1.8025864622966398e-06}. Best is trial 59 with value: 6.184275037879823.\u001b[0m\n",
      "regularization_factors, val_score: 6.184275:  85%|###############################4     | 17/20 [00:10<00:01,  1.63it/s]"
     ]
    },
    {
     "name": "stdout",
     "output_type": "stream",
     "text": [
      "Early stopping, best iteration is:\n",
      "[625]\ttrain's rmse: 4.76165\teval's rmse: 6.18428\n",
      "Training until validation scores don't improve for 100 rounds\n",
      "[100]\ttrain's rmse: 6.5455\teval's rmse: 6.88535\n",
      "[200]\ttrain's rmse: 5.96386\teval's rmse: 6.55229\n",
      "[300]\ttrain's rmse: 5.54494\teval's rmse: 6.36911\n",
      "[400]\ttrain's rmse: 5.234\teval's rmse: 6.2815\n",
      "[500]\ttrain's rmse: 4.98991\teval's rmse: 6.22946\n",
      "[600]\ttrain's rmse: 4.80408\teval's rmse: 6.19755\n"
     ]
    },
    {
     "name": "stderr",
     "output_type": "stream",
     "text": [
      "regularization_factors, val_score: 6.184275:  90%|#################################3   | 18/20 [00:11<00:01,  1.63it/s]\u001b[32m[I 2021-07-03 17:59:31,131]\u001b[0m Trial 60 finished with value: 6.1842750289401485 and parameters: {'lambda_l1': 8.893104221186441e-07, 'lambda_l2': 2.316222081440801e-08}. Best is trial 60 with value: 6.1842750289401485.\u001b[0m\n",
      "regularization_factors, val_score: 6.184275:  90%|#################################3   | 18/20 [00:11<00:01,  1.63it/s]"
     ]
    },
    {
     "name": "stdout",
     "output_type": "stream",
     "text": [
      "[700]\ttrain's rmse: 4.62822\teval's rmse: 6.20651\n",
      "Early stopping, best iteration is:\n",
      "[625]\ttrain's rmse: 4.76165\teval's rmse: 6.18428\n",
      "Training until validation scores don't improve for 100 rounds\n",
      "[100]\ttrain's rmse: 6.5455\teval's rmse: 6.88535\n",
      "[200]\ttrain's rmse: 5.96386\teval's rmse: 6.55229\n",
      "[300]\ttrain's rmse: 5.54494\teval's rmse: 6.36911\n",
      "[400]\ttrain's rmse: 5.234\teval's rmse: 6.2815\n"
     ]
    },
    {
     "name": "stderr",
     "output_type": "stream",
     "text": [
      "\r",
      "regularization_factors, val_score: 6.184275:  90%|#################################3   | 18/20 [00:11<00:01,  1.63it/s]"
     ]
    },
    {
     "name": "stdout",
     "output_type": "stream",
     "text": [
      "[500]\ttrain's rmse: 4.98991\teval's rmse: 6.22946\n",
      "[600]\ttrain's rmse: 4.80408\teval's rmse: 6.19755\n",
      "[700]\ttrain's rmse: 4.62822\teval's rmse: 6.20651\n",
      "Early stopping, best iteration is:\n",
      "[625]\ttrain's rmse: 4.76165\teval's rmse: 6.18428\n"
     ]
    },
    {
     "name": "stderr",
     "output_type": "stream",
     "text": [
      "regularization_factors, val_score: 6.184275:  95%|###################################1 | 19/20 [00:11<00:00,  1.62it/s]\u001b[32m[I 2021-07-03 17:59:31,751]\u001b[0m Trial 61 finished with value: 6.18427503256987 and parameters: {'lambda_l1': 3.2829803424981975e-06, 'lambda_l2': 1.1819728556060049e-08}. Best is trial 60 with value: 6.1842750289401485.\u001b[0m\n",
      "regularization_factors, val_score: 6.184275:  95%|###################################1 | 19/20 [00:11<00:00,  1.62it/s]"
     ]
    },
    {
     "name": "stdout",
     "output_type": "stream",
     "text": [
      "Training until validation scores don't improve for 100 rounds\n",
      "[100]\ttrain's rmse: 6.5455\teval's rmse: 6.88535\n",
      "[200]\ttrain's rmse: 5.96386\teval's rmse: 6.55229\n",
      "[300]\ttrain's rmse: 5.54494\teval's rmse: 6.36911\n",
      "[400]\ttrain's rmse: 5.234\teval's rmse: 6.2815\n",
      "[500]\ttrain's rmse: 4.98992\teval's rmse: 6.22946\n",
      "[600]\ttrain's rmse: 4.80408\teval's rmse: 6.19755\n",
      "[700]\ttrain's rmse: 4.62822\teval's rmse: 6.20651\n"
     ]
    },
    {
     "name": "stderr",
     "output_type": "stream",
     "text": [
      "regularization_factors, val_score: 6.184275: 100%|#####################################| 20/20 [00:12<00:00,  1.63it/s]\u001b[32m[I 2021-07-03 17:59:32,365]\u001b[0m Trial 62 finished with value: 6.1842750754615246 and parameters: {'lambda_l1': 2.6495179707193902e-05, 'lambda_l2': 1.0458066440508037e-08}. Best is trial 60 with value: 6.1842750289401485.\u001b[0m\n",
      "regularization_factors, val_score: 6.184275: 100%|#####################################| 20/20 [00:12<00:00,  1.60it/s]\n",
      "min_data_in_leaf, val_score: 6.184275:   0%|                                                     | 0/5 [00:00<?, ?it/s]"
     ]
    },
    {
     "name": "stdout",
     "output_type": "stream",
     "text": [
      "Early stopping, best iteration is:\n",
      "[625]\ttrain's rmse: 4.76165\teval's rmse: 6.18428\n",
      "Training until validation scores don't improve for 100 rounds\n",
      "[100]\ttrain's rmse: 7.20581\teval's rmse: 7.57383\n",
      "[200]\ttrain's rmse: 6.63633\teval's rmse: 7.27867\n",
      "[300]\ttrain's rmse: 6.33762\teval's rmse: 7.17992\n",
      "[400]\ttrain's rmse: 6.08843\teval's rmse: 7.08947\n",
      "[500]\ttrain's rmse: 5.90413\teval's rmse: 7.03758\n",
      "[600]\ttrain's rmse: 5.74009\teval's rmse: 6.99557\n",
      "[700]\ttrain's rmse: 5.60036\teval's rmse: 6.95793\n",
      "[800]\ttrain's rmse: 5.46809\teval's rmse: 6.92182\n",
      "[900]\ttrain's rmse: 5.35172\teval's rmse: 6.8799\n",
      "Early stopping, best iteration is:\n",
      "[881]\ttrain's rmse: 5.3704\teval's rmse: 6.86939\n"
     ]
    },
    {
     "name": "stderr",
     "output_type": "stream",
     "text": [
      "min_data_in_leaf, val_score: 6.184275:  20%|#########                                    | 1/5 [00:00<00:03,  1.14it/s]\u001b[32m[I 2021-07-03 17:59:33,254]\u001b[0m Trial 63 finished with value: 6.869386804633364 and parameters: {'min_child_samples': 100}. Best is trial 63 with value: 6.869386804633364.\u001b[0m\n",
      "min_data_in_leaf, val_score: 6.184275:  20%|#########                                    | 1/5 [00:00<00:03,  1.14it/s]"
     ]
    },
    {
     "name": "stdout",
     "output_type": "stream",
     "text": [
      "Training until validation scores don't improve for 100 rounds\n",
      "[100]\ttrain's rmse: 6.43605\teval's rmse: 6.81826\n",
      "[200]\ttrain's rmse: 5.80321\teval's rmse: 6.42034\n",
      "[300]\ttrain's rmse: 5.37453\teval's rmse: 6.2504\n",
      "[400]\ttrain's rmse: 5.04663\teval's rmse: 6.16324\n",
      "[500]\ttrain's rmse: 4.77528\teval's rmse: 6.14062\n",
      "[600]\ttrain's rmse: 4.55036\teval's rmse: 6.10837\n",
      "[700]\ttrain's rmse: 4.34135\teval's rmse: 6.12515\n",
      "Early stopping, best iteration is:\n",
      "[606]\ttrain's rmse: 4.53858\teval's rmse: 6.09865\n"
     ]
    },
    {
     "name": "stderr",
     "output_type": "stream",
     "text": [
      "min_data_in_leaf, val_score: 6.098653:  40%|##################                           | 2/5 [00:01<00:02,  1.47it/s]\u001b[32m[I 2021-07-03 17:59:33,800]\u001b[0m Trial 64 finished with value: 6.098653224991053 and parameters: {'min_child_samples': 10}. Best is trial 64 with value: 6.098653224991053.\u001b[0m\n",
      "min_data_in_leaf, val_score: 6.098653:  40%|##################                           | 2/5 [00:01<00:02,  1.47it/s]"
     ]
    },
    {
     "name": "stdout",
     "output_type": "stream",
     "text": [
      "Training until validation scores don't improve for 100 rounds\n",
      "[100]\ttrain's rmse: 6.41986\teval's rmse: 6.84619\n",
      "[200]\ttrain's rmse: 5.75806\teval's rmse: 6.43703\n",
      "[300]\ttrain's rmse: 5.28736\teval's rmse: 6.24554\n",
      "[400]\ttrain's rmse: 4.9254\teval's rmse: 6.15822\n",
      "[500]\ttrain's rmse: 4.6386\teval's rmse: 6.1377\n",
      "[600]\ttrain's rmse: 4.38748\teval's rmse: 6.09211\n",
      "[700]\ttrain's rmse: 4.15397\teval's rmse: 6.03082\n"
     ]
    },
    {
     "name": "stderr",
     "output_type": "stream",
     "text": [
      "min_data_in_leaf, val_score: 6.030818:  60%|###########################                  | 3/5 [00:02<00:01,  1.53it/s]\u001b[32m[I 2021-07-03 17:59:34,413]\u001b[0m Trial 65 finished with value: 6.030817795691444 and parameters: {'min_child_samples': 5}. Best is trial 65 with value: 6.030817795691444.\u001b[0m\n",
      "min_data_in_leaf, val_score: 6.030818:  60%|###########################                  | 3/5 [00:02<00:01,  1.53it/s]"
     ]
    },
    {
     "name": "stdout",
     "output_type": "stream",
     "text": [
      "[800]\ttrain's rmse: 3.94214\teval's rmse: 6.0423\n",
      "Early stopping, best iteration is:\n",
      "[700]\ttrain's rmse: 4.15397\teval's rmse: 6.03082\n",
      "Training until validation scores don't improve for 100 rounds\n",
      "[100]\ttrain's rmse: 6.61968\teval's rmse: 6.99897\n",
      "[200]\ttrain's rmse: 6.0351\teval's rmse: 6.6713\n",
      "[300]\ttrain's rmse: 5.62287\teval's rmse: 6.50065\n",
      "[400]\ttrain's rmse: 5.32124\teval's rmse: 6.41478\n",
      "[500]\ttrain's rmse: 5.09101\teval's rmse: 6.41043\n"
     ]
    },
    {
     "name": "stderr",
     "output_type": "stream",
     "text": [
      "min_data_in_leaf, val_score: 6.030818:  80%|####################################         | 4/5 [00:02<00:00,  1.73it/s]\u001b[32m[I 2021-07-03 17:59:34,881]\u001b[0m Trial 66 finished with value: 6.400308887661166 and parameters: {'min_child_samples': 25}. Best is trial 65 with value: 6.030817795691444.\u001b[0m\n",
      "min_data_in_leaf, val_score: 6.030818:  80%|####################################         | 4/5 [00:02<00:00,  1.73it/s]"
     ]
    },
    {
     "name": "stdout",
     "output_type": "stream",
     "text": [
      "Early stopping, best iteration is:\n",
      "[452]\ttrain's rmse: 5.19024\teval's rmse: 6.40031\n",
      "Training until validation scores don't improve for 100 rounds\n",
      "[100]\ttrain's rmse: 6.80992\teval's rmse: 7.1745\n",
      "[200]\ttrain's rmse: 6.28457\teval's rmse: 6.8919\n",
      "[300]\ttrain's rmse: 5.94605\teval's rmse: 6.741\n",
      "[400]\ttrain's rmse: 5.66749\teval's rmse: 6.64341\n",
      "[500]\ttrain's rmse: 5.46232\teval's rmse: 6.58865\n",
      "[600]\ttrain's rmse: 5.27992\teval's rmse: 6.55903\n",
      "[700]\ttrain's rmse: 5.12286\teval's rmse: 6.5372\n",
      "[800]\ttrain's rmse: 4.97284\teval's rmse: 6.51718\n",
      "[900]\ttrain's rmse: 4.85914\teval's rmse: 6.50621\n"
     ]
    },
    {
     "name": "stderr",
     "output_type": "stream",
     "text": [
      "min_data_in_leaf, val_score: 6.030818: 100%|#############################################| 5/5 [00:03<00:00,  1.53it/s]\u001b[32m[I 2021-07-03 17:59:35,677]\u001b[0m Trial 67 finished with value: 6.512250997075372 and parameters: {'min_child_samples': 50}. Best is trial 65 with value: 6.030817795691444.\u001b[0m\n",
      "min_data_in_leaf, val_score: 6.030818: 100%|#############################################| 5/5 [00:03<00:00,  1.51it/s]\n",
      "\u001b[32m[I 2021-07-03 17:59:35,741]\u001b[0m A new study created in memory with name: no-name-10d70d46-d770-411e-90d8-d2521913df8f\u001b[0m\n",
      "feature_fraction, val_score: inf:   0%|                                                          | 0/7 [00:00<?, ?it/s]"
     ]
    },
    {
     "name": "stdout",
     "output_type": "stream",
     "text": [
      "[1000]\ttrain's rmse: 4.74005\teval's rmse: 6.51225\n",
      "Did not meet early stopping. Best iteration is:\n",
      "[1000]\ttrain's rmse: 4.74005\teval's rmse: 6.51225\n",
      "Training until validation scores don't improve for 100 rounds\n",
      "[100]\ttrain's rmse: 5.04776\teval's rmse: 6.84101\n",
      "[200]\ttrain's rmse: 4.02337\teval's rmse: 6.63038\n"
     ]
    },
    {
     "name": "stderr",
     "output_type": "stream",
     "text": [
      "feature_fraction, val_score: 6.626041:  14%|######4                                      | 1/7 [00:00<00:03,  1.95it/s]\u001b[32m[I 2021-07-03 17:59:36,261]\u001b[0m Trial 0 finished with value: 6.626040602931097 and parameters: {'feature_fraction': 0.6}. Best is trial 0 with value: 6.626040602931097.\u001b[0m\n",
      "feature_fraction, val_score: 6.626041:  14%|######4                                      | 1/7 [00:00<00:03,  1.95it/s]"
     ]
    },
    {
     "name": "stdout",
     "output_type": "stream",
     "text": [
      "[300]\ttrain's rmse: 3.43029\teval's rmse: 6.70559\n",
      "Early stopping, best iteration is:\n",
      "[206]\ttrain's rmse: 3.98133\teval's rmse: 6.62604\n",
      "Training until validation scores don't improve for 100 rounds\n",
      "[100]\ttrain's rmse: 5.00527\teval's rmse: 6.84807\n",
      "[200]\ttrain's rmse: 3.96041\teval's rmse: 6.71488\n"
     ]
    },
    {
     "name": "stderr",
     "output_type": "stream",
     "text": [
      "feature_fraction, val_score: 6.626041:  29%|############8                                | 2/7 [00:01<00:02,  1.87it/s]\u001b[32m[I 2021-07-03 17:59:36,810]\u001b[0m Trial 1 finished with value: 6.703689630150706 and parameters: {'feature_fraction': 0.7}. Best is trial 0 with value: 6.626040602931097.\u001b[0m\n",
      "feature_fraction, val_score: 6.626041:  29%|############8                                | 2/7 [00:01<00:02,  1.87it/s]"
     ]
    },
    {
     "name": "stdout",
     "output_type": "stream",
     "text": [
      "[300]\ttrain's rmse: 3.36006\teval's rmse: 6.76986\n",
      "Early stopping, best iteration is:\n",
      "[214]\ttrain's rmse: 3.85318\teval's rmse: 6.70369\n",
      "Training until validation scores don't improve for 100 rounds\n",
      "[100]\ttrain's rmse: 5.2102\teval's rmse: 7.00562\n",
      "[200]\ttrain's rmse: 4.20526\teval's rmse: 6.79923\n"
     ]
    },
    {
     "name": "stderr",
     "output_type": "stream",
     "text": [
      "feature_fraction, val_score: 6.626041:  43%|###################2                         | 3/7 [00:01<00:02,  1.92it/s]\u001b[32m[I 2021-07-03 17:59:37,328]\u001b[0m Trial 2 finished with value: 6.783061351173664 and parameters: {'feature_fraction': 0.4}. Best is trial 0 with value: 6.626040602931097.\u001b[0m\n",
      "feature_fraction, val_score: 6.626041:  43%|###################2                         | 3/7 [00:01<00:02,  1.92it/s]"
     ]
    },
    {
     "name": "stdout",
     "output_type": "stream",
     "text": [
      "[300]\ttrain's rmse: 3.64628\teval's rmse: 6.81786\n",
      "Early stopping, best iteration is:\n",
      "[209]\ttrain's rmse: 4.14232\teval's rmse: 6.78306\n",
      "Training until validation scores don't improve for 100 rounds\n",
      "[100]\ttrain's rmse: 5.07862\teval's rmse: 6.8949\n",
      "[200]\ttrain's rmse: 4.07072\teval's rmse: 6.71558\n"
     ]
    },
    {
     "name": "stderr",
     "output_type": "stream",
     "text": [
      "feature_fraction, val_score: 6.626041:  57%|#########################7                   | 4/7 [00:02<00:01,  1.88it/s]\u001b[32m[I 2021-07-03 17:59:37,862]\u001b[0m Trial 3 finished with value: 6.706942438292311 and parameters: {'feature_fraction': 0.5}. Best is trial 0 with value: 6.626040602931097.\u001b[0m\n",
      "feature_fraction, val_score: 6.626041:  57%|#########################7                   | 4/7 [00:02<00:01,  1.88it/s]"
     ]
    },
    {
     "name": "stdout",
     "output_type": "stream",
     "text": [
      "Early stopping, best iteration is:\n",
      "[190]\ttrain's rmse: 4.14803\teval's rmse: 6.70694\n",
      "Training until validation scores don't improve for 100 rounds\n",
      "[100]\ttrain's rmse: 5.05189\teval's rmse: 6.95979\n",
      "[200]\ttrain's rmse: 3.9659\teval's rmse: 6.80035\n"
     ]
    },
    {
     "name": "stderr",
     "output_type": "stream",
     "text": [
      "feature_fraction, val_score: 6.626041:  71%|################################1            | 5/7 [00:02<00:01,  1.77it/s]\u001b[32m[I 2021-07-03 17:59:38,504]\u001b[0m Trial 4 finished with value: 6.778284328258362 and parameters: {'feature_fraction': 1.0}. Best is trial 0 with value: 6.626040602931097.\u001b[0m\n",
      "feature_fraction, val_score: 6.626041:  71%|################################1            | 5/7 [00:02<00:01,  1.77it/s]"
     ]
    },
    {
     "name": "stdout",
     "output_type": "stream",
     "text": [
      "[300]\ttrain's rmse: 3.34184\teval's rmse: 6.82349\n",
      "Early stopping, best iteration is:\n",
      "[245]\ttrain's rmse: 3.66338\teval's rmse: 6.77828\n",
      "Training until validation scores don't improve for 100 rounds\n",
      "[100]\ttrain's rmse: 4.96841\teval's rmse: 6.95827\n"
     ]
    },
    {
     "name": "stderr",
     "output_type": "stream",
     "text": [
      "feature_fraction, val_score: 6.626041:  86%|######################################5      | 6/7 [00:03<00:00,  1.77it/s]\u001b[32m[I 2021-07-03 17:59:39,050]\u001b[0m Trial 5 finished with value: 6.792827701082115 and parameters: {'feature_fraction': 0.8999999999999999}. Best is trial 0 with value: 6.626040602931097.\u001b[0m\n"
     ]
    },
    {
     "name": "stdout",
     "output_type": "stream",
     "text": [
      "[200]\ttrain's rmse: 3.9248\teval's rmse: 6.80041\n",
      "Early stopping, best iteration is:\n",
      "[192]\ttrain's rmse: 3.99105\teval's rmse: 6.79283\n"
     ]
    },
    {
     "name": "stderr",
     "output_type": "stream",
     "text": [
      "\r",
      "feature_fraction, val_score: 6.626041:  86%|######################################5      | 6/7 [00:03<00:00,  1.77it/s]"
     ]
    },
    {
     "name": "stdout",
     "output_type": "stream",
     "text": [
      "Training until validation scores don't improve for 100 rounds\n",
      "[100]\ttrain's rmse: 5.02782\teval's rmse: 6.86705\n"
     ]
    },
    {
     "name": "stderr",
     "output_type": "stream",
     "text": [
      "\r",
      "feature_fraction, val_score: 6.626041:  86%|######################################5      | 6/7 [00:03<00:00,  1.77it/s]"
     ]
    },
    {
     "name": "stdout",
     "output_type": "stream",
     "text": [
      "[200]\ttrain's rmse: 3.96512\teval's rmse: 6.74329\n",
      "[300]\ttrain's rmse: 3.34714\teval's rmse: 6.76554\n",
      "Early stopping, best iteration is:\n",
      "[215]\ttrain's rmse: 3.85483\teval's rmse: 6.73593\n"
     ]
    },
    {
     "name": "stderr",
     "output_type": "stream",
     "text": [
      "feature_fraction, val_score: 6.626041: 100%|#############################################| 7/7 [00:03<00:00,  1.80it/s]\u001b[32m[I 2021-07-03 17:59:39,599]\u001b[0m Trial 6 finished with value: 6.735928606514911 and parameters: {'feature_fraction': 0.8}. Best is trial 0 with value: 6.626040602931097.\u001b[0m\n",
      "feature_fraction, val_score: 6.626041: 100%|#############################################| 7/7 [00:03<00:00,  1.82it/s]\n",
      "num_leaves, val_score: 6.626041:   0%|                                                          | 0/20 [00:00<?, ?it/s]"
     ]
    },
    {
     "name": "stdout",
     "output_type": "stream",
     "text": [
      "Training until validation scores don't improve for 100 rounds\n",
      "[100]\ttrain's rmse: 4.6738\teval's rmse: 6.85465\n",
      "[200]\ttrain's rmse: 3.52071\teval's rmse: 6.77218\n",
      "[300]\ttrain's rmse: 2.8752\teval's rmse: 6.86868\n",
      "Early stopping, best iteration is:\n",
      "[210]\ttrain's rmse: 3.44047\teval's rmse: 6.76264\n"
     ]
    },
    {
     "name": "stderr",
     "output_type": "stream",
     "text": [
      "num_leaves, val_score: 6.626041:   5%|##5                                               | 1/20 [00:00<00:13,  1.46it/s]\u001b[32m[I 2021-07-03 17:59:40,295]\u001b[0m Trial 7 finished with value: 6.762644883349746 and parameters: {'num_leaves': 78}. Best is trial 7 with value: 6.762644883349746.\u001b[0m\n",
      "num_leaves, val_score: 6.626041:   5%|##5                                               | 1/20 [00:00<00:13,  1.46it/s]"
     ]
    },
    {
     "name": "stdout",
     "output_type": "stream",
     "text": [
      "Training until validation scores don't improve for 100 rounds\n",
      "[100]\ttrain's rmse: 4.82057\teval's rmse: 6.81362\n",
      "[200]\ttrain's rmse: 3.72574\teval's rmse: 6.69437\n",
      "[300]\ttrain's rmse: 3.11306\teval's rmse: 6.75189\n",
      "Early stopping, best iteration is:\n",
      "[207]\ttrain's rmse: 3.67404\teval's rmse: 6.68864\n"
     ]
    },
    {
     "name": "stderr",
     "output_type": "stream",
     "text": [
      "num_leaves, val_score: 6.626041:  10%|#####                                             | 2/20 [00:01<00:11,  1.59it/s]\u001b[32m[I 2021-07-03 17:59:40,881]\u001b[0m Trial 8 finished with value: 6.688636950513036 and parameters: {'num_leaves': 39}. Best is trial 8 with value: 6.688636950513036.\u001b[0m\n",
      "num_leaves, val_score: 6.626041:  10%|#####                                             | 2/20 [00:01<00:11,  1.59it/s]"
     ]
    },
    {
     "name": "stdout",
     "output_type": "stream",
     "text": [
      "Training until validation scores don't improve for 100 rounds\n",
      "[100]\ttrain's rmse: 4.6738\teval's rmse: 6.85465\n",
      "[200]\ttrain's rmse: 3.52071\teval's rmse: 6.77218\n"
     ]
    },
    {
     "name": "stderr",
     "output_type": "stream",
     "text": [
      "num_leaves, val_score: 6.626041:  15%|#######5                                          | 3/20 [00:02<00:11,  1.48it/s]\u001b[32m[I 2021-07-03 17:59:41,610]\u001b[0m Trial 9 finished with value: 6.762644883349746 and parameters: {'num_leaves': 242}. Best is trial 8 with value: 6.688636950513036.\u001b[0m\n",
      "num_leaves, val_score: 6.626041:  15%|#######5                                          | 3/20 [00:02<00:11,  1.48it/s]"
     ]
    },
    {
     "name": "stdout",
     "output_type": "stream",
     "text": [
      "[300]\ttrain's rmse: 2.8752\teval's rmse: 6.86868\n",
      "Early stopping, best iteration is:\n",
      "[210]\ttrain's rmse: 3.44047\teval's rmse: 6.76264\n",
      "Training until validation scores don't improve for 100 rounds\n",
      "[100]\ttrain's rmse: 4.6738\teval's rmse: 6.85465\n",
      "[200]\ttrain's rmse: 3.52071\teval's rmse: 6.77218\n"
     ]
    },
    {
     "name": "stderr",
     "output_type": "stream",
     "text": [
      "num_leaves, val_score: 6.626041:  20%|##########                                        | 4/20 [00:02<00:10,  1.48it/s]\u001b[32m[I 2021-07-03 17:59:42,302]\u001b[0m Trial 10 finished with value: 6.762644883349746 and parameters: {'num_leaves': 59}. Best is trial 8 with value: 6.688636950513036.\u001b[0m\n",
      "num_leaves, val_score: 6.626041:  20%|##########                                        | 4/20 [00:02<00:10,  1.48it/s]"
     ]
    },
    {
     "name": "stdout",
     "output_type": "stream",
     "text": [
      "[300]\ttrain's rmse: 2.8752\teval's rmse: 6.86868\n",
      "Early stopping, best iteration is:\n",
      "[210]\ttrain's rmse: 3.44047\teval's rmse: 6.76264\n",
      "Training until validation scores don't improve for 100 rounds\n",
      "[100]\ttrain's rmse: 4.6738\teval's rmse: 6.85465\n",
      "[200]\ttrain's rmse: 3.52071\teval's rmse: 6.77218\n"
     ]
    },
    {
     "name": "stderr",
     "output_type": "stream",
     "text": [
      "num_leaves, val_score: 6.626041:  25%|############5                                     | 5/20 [00:03<00:10,  1.44it/s]\u001b[32m[I 2021-07-03 17:59:43,017]\u001b[0m Trial 11 finished with value: 6.762644883349746 and parameters: {'num_leaves': 71}. Best is trial 8 with value: 6.688636950513036.\u001b[0m\n",
      "num_leaves, val_score: 6.626041:  25%|############5                                     | 5/20 [00:03<00:10,  1.44it/s]"
     ]
    },
    {
     "name": "stdout",
     "output_type": "stream",
     "text": [
      "[300]\ttrain's rmse: 2.8752\teval's rmse: 6.86868\n",
      "Early stopping, best iteration is:\n",
      "[210]\ttrain's rmse: 3.44047\teval's rmse: 6.76264\n",
      "Training until validation scores don't improve for 100 rounds\n",
      "[100]\ttrain's rmse: 4.6738\teval's rmse: 6.85465\n",
      "[200]\ttrain's rmse: 3.52071\teval's rmse: 6.77218\n",
      "[300]\ttrain's rmse: 2.8752\teval's rmse: 6.86868\n"
     ]
    },
    {
     "name": "stderr",
     "output_type": "stream",
     "text": [
      "num_leaves, val_score: 6.626041:  30%|###############                                   | 6/20 [00:04<00:09,  1.42it/s]\u001b[32m[I 2021-07-03 17:59:43,745]\u001b[0m Trial 12 finished with value: 6.762644883349746 and parameters: {'num_leaves': 216}. Best is trial 8 with value: 6.688636950513036.\u001b[0m\n",
      "num_leaves, val_score: 6.626041:  30%|###############                                   | 6/20 [00:04<00:09,  1.42it/s]"
     ]
    },
    {
     "name": "stdout",
     "output_type": "stream",
     "text": [
      "Early stopping, best iteration is:\n",
      "[210]\ttrain's rmse: 3.44047\teval's rmse: 6.76264\n",
      "Training until validation scores don't improve for 100 rounds\n",
      "[100]\ttrain's rmse: 5.45567\teval's rmse: 6.85368\n",
      "[200]\ttrain's rmse: 4.55587\teval's rmse: 6.67837\n"
     ]
    },
    {
     "name": "stderr",
     "output_type": "stream",
     "text": [
      "num_leaves, val_score: 6.626041:  35%|#################5                                | 7/20 [00:04<00:08,  1.58it/s]\u001b[32m[I 2021-07-03 17:59:44,226]\u001b[0m Trial 13 finished with value: 6.663599301691655 and parameters: {'num_leaves': 21}. Best is trial 13 with value: 6.663599301691655.\u001b[0m\n",
      "num_leaves, val_score: 6.626041:  35%|#################5                                | 7/20 [00:04<00:08,  1.58it/s]"
     ]
    },
    {
     "name": "stdout",
     "output_type": "stream",
     "text": [
      "[300]\ttrain's rmse: 4.03843\teval's rmse: 6.67679\n",
      "Early stopping, best iteration is:\n",
      "[245]\ttrain's rmse: 4.30841\teval's rmse: 6.6636\n",
      "Training until validation scores don't improve for 100 rounds\n",
      "[100]\ttrain's rmse: 4.6738\teval's rmse: 6.85465\n",
      "[200]\ttrain's rmse: 3.52071\teval's rmse: 6.77218\n"
     ]
    },
    {
     "name": "stderr",
     "output_type": "stream",
     "text": [
      "num_leaves, val_score: 6.626041:  40%|####################                              | 8/20 [00:05<00:07,  1.51it/s]\u001b[32m[I 2021-07-03 17:59:44,948]\u001b[0m Trial 14 finished with value: 6.762644883349746 and parameters: {'num_leaves': 208}. Best is trial 13 with value: 6.663599301691655.\u001b[0m\n",
      "num_leaves, val_score: 6.626041:  40%|####################                              | 8/20 [00:05<00:07,  1.51it/s]"
     ]
    },
    {
     "name": "stdout",
     "output_type": "stream",
     "text": [
      "[300]\ttrain's rmse: 2.8752\teval's rmse: 6.86868\n",
      "Early stopping, best iteration is:\n",
      "[210]\ttrain's rmse: 3.44047\teval's rmse: 6.76264\n",
      "Training until validation scores don't improve for 100 rounds\n",
      "[100]\ttrain's rmse: 4.6738\teval's rmse: 6.85465\n",
      "[200]\ttrain's rmse: 3.52071\teval's rmse: 6.77218\n"
     ]
    },
    {
     "name": "stderr",
     "output_type": "stream",
     "text": [
      "num_leaves, val_score: 6.626041:  45%|######################5                           | 9/20 [00:06<00:07,  1.46it/s]\u001b[32m[I 2021-07-03 17:59:45,680]\u001b[0m Trial 15 finished with value: 6.762644883349746 and parameters: {'num_leaves': 218}. Best is trial 13 with value: 6.663599301691655.\u001b[0m\n",
      "num_leaves, val_score: 6.626041:  45%|######################5                           | 9/20 [00:06<00:07,  1.46it/s]"
     ]
    },
    {
     "name": "stdout",
     "output_type": "stream",
     "text": [
      "[300]\ttrain's rmse: 2.8752\teval's rmse: 6.86868\n",
      "Early stopping, best iteration is:\n",
      "[210]\ttrain's rmse: 3.44047\teval's rmse: 6.76264\n",
      "Training until validation scores don't improve for 100 rounds\n",
      "[100]\ttrain's rmse: 4.6738\teval's rmse: 6.85465\n",
      "[200]\ttrain's rmse: 3.52071\teval's rmse: 6.77218\n",
      "[300]\ttrain's rmse: 2.8752\teval's rmse: 6.86868\n"
     ]
    },
    {
     "name": "stderr",
     "output_type": "stream",
     "text": [
      "num_leaves, val_score: 6.626041:  50%|########################5                        | 10/20 [00:06<00:07,  1.41it/s]\u001b[32m[I 2021-07-03 17:59:46,442]\u001b[0m Trial 16 finished with value: 6.762644883349746 and parameters: {'num_leaves': 240}. Best is trial 13 with value: 6.663599301691655.\u001b[0m\n",
      "num_leaves, val_score: 6.626041:  50%|########################5                        | 10/20 [00:06<00:07,  1.41it/s]"
     ]
    },
    {
     "name": "stdout",
     "output_type": "stream",
     "text": [
      "Early stopping, best iteration is:\n",
      "[210]\ttrain's rmse: 3.44047\teval's rmse: 6.76264\n",
      "Training until validation scores don't improve for 100 rounds\n",
      "[100]\ttrain's rmse: 4.6738\teval's rmse: 6.85465\n",
      "[200]\ttrain's rmse: 3.52071\teval's rmse: 6.77218\n"
     ]
    },
    {
     "name": "stderr",
     "output_type": "stream",
     "text": [
      "num_leaves, val_score: 6.626041:  55%|##########################9                      | 11/20 [00:07<00:06,  1.41it/s]\u001b[32m[I 2021-07-03 17:59:47,165]\u001b[0m Trial 17 finished with value: 6.762644883349746 and parameters: {'num_leaves': 138}. Best is trial 13 with value: 6.663599301691655.\u001b[0m\n",
      "num_leaves, val_score: 6.626041:  55%|##########################9                      | 11/20 [00:07<00:06,  1.41it/s]"
     ]
    },
    {
     "name": "stdout",
     "output_type": "stream",
     "text": [
      "[300]\ttrain's rmse: 2.8752\teval's rmse: 6.86868\n",
      "Early stopping, best iteration is:\n",
      "[210]\ttrain's rmse: 3.44047\teval's rmse: 6.76264\n",
      "Training until validation scores don't improve for 100 rounds\n",
      "[100]\ttrain's rmse: 7.17492\teval's rmse: 7.7994\n",
      "[200]\ttrain's rmse: 6.79726\teval's rmse: 7.55231\n",
      "[300]\ttrain's rmse: 6.59994\teval's rmse: 7.4704\n",
      "[400]\ttrain's rmse: 6.44529\teval's rmse: 7.35361\n",
      "[500]\ttrain's rmse: 6.32385\teval's rmse: 7.29804\n",
      "[600]\ttrain's rmse: 6.22359\teval's rmse: 7.23688\n",
      "[700]\ttrain's rmse: 6.1477\teval's rmse: 7.20798\n"
     ]
    },
    {
     "name": "stderr",
     "output_type": "stream",
     "text": [
      "num_leaves, val_score: 6.626041:  60%|#############################4                   | 12/20 [00:08<00:05,  1.52it/s]\u001b[32m[I 2021-07-03 17:59:47,688]\u001b[0m Trial 18 finished with value: 7.06172824319417 and parameters: {'num_leaves': 3}. Best is trial 13 with value: 6.663599301691655.\u001b[0m\n",
      "num_leaves, val_score: 6.626041:  60%|#############################4                   | 12/20 [00:08<00:05,  1.52it/s]"
     ]
    },
    {
     "name": "stdout",
     "output_type": "stream",
     "text": [
      "[800]\ttrain's rmse: 6.05533\teval's rmse: 7.13147\n",
      "[900]\ttrain's rmse: 5.98103\teval's rmse: 7.10091\n",
      "[1000]\ttrain's rmse: 5.90729\teval's rmse: 7.06173\n",
      "Did not meet early stopping. Best iteration is:\n",
      "[1000]\ttrain's rmse: 5.90729\teval's rmse: 7.06173\n",
      "Training until validation scores don't improve for 100 rounds\n",
      "[100]\ttrain's rmse: 7.17492\teval's rmse: 7.7994\n",
      "[200]\ttrain's rmse: 6.79726\teval's rmse: 7.55231\n",
      "[300]\ttrain's rmse: 6.59994\teval's rmse: 7.4704\n",
      "[400]\ttrain's rmse: 6.44529\teval's rmse: 7.35361\n",
      "[500]\ttrain's rmse: 6.32385\teval's rmse: 7.29804\n",
      "[600]\ttrain's rmse: 6.22359\teval's rmse: 7.23688\n",
      "[700]\ttrain's rmse: 6.1477\teval's rmse: 7.20798\n",
      "[800]\ttrain's rmse: 6.05533\teval's rmse: 7.13147\n",
      "[900]\ttrain's rmse: 5.98103\teval's rmse: 7.10091\n",
      "[1000]\ttrain's rmse: 5.90729\teval's rmse: 7.06173\n",
      "Did not meet early stopping. Best iteration is:\n",
      "[1000]\ttrain's rmse: 5.90729\teval's rmse: 7.06173\n"
     ]
    },
    {
     "name": "stderr",
     "output_type": "stream",
     "text": [
      "num_leaves, val_score: 6.626041:  65%|###############################8                 | 13/20 [00:08<00:04,  1.61it/s]\u001b[32m[I 2021-07-03 17:59:48,240]\u001b[0m Trial 19 finished with value: 7.06172824319417 and parameters: {'num_leaves': 3}. Best is trial 13 with value: 6.663599301691655.\u001b[0m\n",
      "num_leaves, val_score: 6.626041:  65%|###############################8                 | 13/20 [00:08<00:04,  1.61it/s]"
     ]
    },
    {
     "name": "stdout",
     "output_type": "stream",
     "text": [
      "Training until validation scores don't improve for 100 rounds\n",
      "[100]\ttrain's rmse: 4.95364\teval's rmse: 6.80356\n",
      "[200]\ttrain's rmse: 3.90257\teval's rmse: 6.62964\n",
      "[300]\ttrain's rmse: 3.30524\teval's rmse: 6.68399\n",
      "Early stopping, best iteration is:\n",
      "[206]\ttrain's rmse: 3.86178\teval's rmse: 6.62383\n"
     ]
    },
    {
     "name": "stderr",
     "output_type": "stream",
     "text": [
      "num_leaves, val_score: 6.623835:  70%|##################################3              | 14/20 [00:09<00:03,  1.67it/s]\u001b[32m[I 2021-07-03 17:59:48,780]\u001b[0m Trial 20 finished with value: 6.623834583205554 and parameters: {'num_leaves': 34}. Best is trial 20 with value: 6.623834583205554.\u001b[0m\n",
      "num_leaves, val_score: 6.623835:  70%|##################################3              | 14/20 [00:09<00:03,  1.67it/s]"
     ]
    },
    {
     "name": "stdout",
     "output_type": "stream",
     "text": [
      "Training until validation scores don't improve for 100 rounds\n",
      "[100]\ttrain's rmse: 4.6738\teval's rmse: 6.85465\n",
      "[200]\ttrain's rmse: 3.52071\teval's rmse: 6.77218\n",
      "[300]\ttrain's rmse: 2.8752\teval's rmse: 6.86868\n"
     ]
    },
    {
     "name": "stderr",
     "output_type": "stream",
     "text": [
      "num_leaves, val_score: 6.623835:  75%|####################################7            | 15/20 [00:09<00:03,  1.59it/s]\u001b[32m[I 2021-07-03 17:59:49,492]\u001b[0m Trial 21 finished with value: 6.762644883349746 and parameters: {'num_leaves': 131}. Best is trial 20 with value: 6.623834583205554.\u001b[0m\n",
      "num_leaves, val_score: 6.623835:  75%|####################################7            | 15/20 [00:09<00:03,  1.59it/s]"
     ]
    },
    {
     "name": "stdout",
     "output_type": "stream",
     "text": [
      "Early stopping, best iteration is:\n",
      "[210]\ttrain's rmse: 3.44047\teval's rmse: 6.76264\n",
      "Training until validation scores don't improve for 100 rounds\n",
      "[100]\ttrain's rmse: 5.1788\teval's rmse: 6.87977\n",
      "[200]\ttrain's rmse: 4.21201\teval's rmse: 6.71244\n"
     ]
    },
    {
     "name": "stderr",
     "output_type": "stream",
     "text": [
      "num_leaves, val_score: 6.623835:  80%|#######################################2         | 16/20 [00:10<00:02,  1.64it/s]\u001b[32m[I 2021-07-03 17:59:50,041]\u001b[0m Trial 22 finished with value: 6.706249563831749 and parameters: {'num_leaves': 27}. Best is trial 20 with value: 6.623834583205554.\u001b[0m\n",
      "num_leaves, val_score: 6.623835:  80%|#######################################2         | 16/20 [00:10<00:02,  1.64it/s]"
     ]
    },
    {
     "name": "stdout",
     "output_type": "stream",
     "text": [
      "[300]\ttrain's rmse: 3.65424\teval's rmse: 6.73849\n",
      "Early stopping, best iteration is:\n",
      "[207]\ttrain's rmse: 4.15984\teval's rmse: 6.70625\n",
      "Training until validation scores don't improve for 100 rounds\n",
      "[100]\ttrain's rmse: 4.6738\teval's rmse: 6.85465\n",
      "[200]\ttrain's rmse: 3.52071\teval's rmse: 6.77218\n"
     ]
    },
    {
     "name": "stderr",
     "output_type": "stream",
     "text": [
      "num_leaves, val_score: 6.623835:  85%|#########################################6       | 17/20 [00:11<00:02,  1.23it/s]\u001b[32m[I 2021-07-03 17:59:51,328]\u001b[0m Trial 23 finished with value: 6.762644883349746 and parameters: {'num_leaves': 98}. Best is trial 20 with value: 6.623834583205554.\u001b[0m\n",
      "num_leaves, val_score: 6.623835:  85%|#########################################6       | 17/20 [00:11<00:02,  1.23it/s]"
     ]
    },
    {
     "name": "stdout",
     "output_type": "stream",
     "text": [
      "[300]\ttrain's rmse: 2.8752\teval's rmse: 6.86868\n",
      "Early stopping, best iteration is:\n",
      "[210]\ttrain's rmse: 3.44047\teval's rmse: 6.76264\n",
      "Training until validation scores don't improve for 100 rounds\n",
      "[100]\ttrain's rmse: 4.6738\teval's rmse: 6.85465\n",
      "[200]\ttrain's rmse: 3.52071\teval's rmse: 6.77218\n",
      "[300]\ttrain's rmse: 2.8752\teval's rmse: 6.86868\n",
      "Early stopping, best iteration is:\n",
      "[210]\ttrain's rmse: 3.44047\teval's rmse: 6.76264\n"
     ]
    },
    {
     "name": "stderr",
     "output_type": "stream",
     "text": [
      "num_leaves, val_score: 6.623835:  90%|############################################1    | 18/20 [00:13<00:02,  1.05s/it]\u001b[32m[I 2021-07-03 17:59:52,924]\u001b[0m Trial 24 finished with value: 6.762644883349746 and parameters: {'num_leaves': 163}. Best is trial 20 with value: 6.623834583205554.\u001b[0m\n",
      "num_leaves, val_score: 6.623835:  90%|############################################1    | 18/20 [00:13<00:02,  1.05s/it]"
     ]
    },
    {
     "name": "stdout",
     "output_type": "stream",
     "text": [
      "Training until validation scores don't improve for 100 rounds\n",
      "[100]\ttrain's rmse: 5.11996\teval's rmse: 6.81474\n",
      "[200]\ttrain's rmse: 4.10929\teval's rmse: 6.64844\n"
     ]
    },
    {
     "name": "stderr",
     "output_type": "stream",
     "text": [
      "num_leaves, val_score: 6.623835:  95%|##############################################5  | 19/20 [00:14<00:01,  1.04s/it]\u001b[32m[I 2021-07-03 17:59:53,946]\u001b[0m Trial 25 finished with value: 6.633261339585004 and parameters: {'num_leaves': 29}. Best is trial 20 with value: 6.623834583205554.\u001b[0m\n",
      "num_leaves, val_score: 6.623835:  95%|##############################################5  | 19/20 [00:14<00:01,  1.04s/it]"
     ]
    },
    {
     "name": "stdout",
     "output_type": "stream",
     "text": [
      "[300]\ttrain's rmse: 3.54461\teval's rmse: 6.68427\n",
      "Early stopping, best iteration is:\n",
      "[214]\ttrain's rmse: 4.00639\teval's rmse: 6.63326\n",
      "Training until validation scores don't improve for 100 rounds\n",
      "[100]\ttrain's rmse: 4.68418\teval's rmse: 6.88462\n",
      "[200]\ttrain's rmse: 3.55811\teval's rmse: 6.77977\n"
     ]
    },
    {
     "name": "stderr",
     "output_type": "stream",
     "text": [
      "num_leaves, val_score: 6.623835: 100%|#################################################| 20/20 [00:15<00:00,  1.08s/it]\u001b[32m[I 2021-07-03 17:59:55,113]\u001b[0m Trial 26 finished with value: 6.760378957465499 and parameters: {'num_leaves': 48}. Best is trial 20 with value: 6.623834583205554.\u001b[0m\n",
      "num_leaves, val_score: 6.623835: 100%|#################################################| 20/20 [00:15<00:00,  1.29it/s]\n",
      "bagging, val_score: 6.623835:   0%|                                                             | 0/10 [00:00<?, ?it/s]"
     ]
    },
    {
     "name": "stdout",
     "output_type": "stream",
     "text": [
      "[300]\ttrain's rmse: 2.9259\teval's rmse: 6.85575\n",
      "Early stopping, best iteration is:\n",
      "[213]\ttrain's rmse: 3.46065\teval's rmse: 6.76038\n",
      "Training until validation scores don't improve for 100 rounds\n",
      "[100]\ttrain's rmse: 4.94802\teval's rmse: 6.86383\n",
      "[200]\ttrain's rmse: 3.90204\teval's rmse: 6.72848\n"
     ]
    },
    {
     "name": "stderr",
     "output_type": "stream",
     "text": [
      "bagging, val_score: 6.623835:  10%|#####3                                               | 1/10 [00:00<00:05,  1.50it/s]\u001b[32m[I 2021-07-03 17:59:55,789]\u001b[0m Trial 27 finished with value: 6.718305629290987 and parameters: {'bagging_fraction': 0.800846745957955, 'bagging_freq': 6}. Best is trial 27 with value: 6.718305629290987.\u001b[0m\n",
      "bagging, val_score: 6.623835:  10%|#####3                                               | 1/10 [00:00<00:05,  1.50it/s]"
     ]
    },
    {
     "name": "stdout",
     "output_type": "stream",
     "text": [
      "[300]\ttrain's rmse: 3.30721\teval's rmse: 6.78382\n",
      "Early stopping, best iteration is:\n",
      "[238]\ttrain's rmse: 3.6478\teval's rmse: 6.71831\n",
      "Training until validation scores don't improve for 100 rounds\n",
      "[100]\ttrain's rmse: 5.52756\teval's rmse: 7.12189\n",
      "[200]\ttrain's rmse: 4.57981\teval's rmse: 6.81894\n"
     ]
    },
    {
     "name": "stderr",
     "output_type": "stream",
     "text": [
      "bagging, val_score: 6.623835:  20%|##########6                                          | 2/10 [00:01<00:07,  1.07it/s]\u001b[32m[I 2021-07-03 17:59:56,917]\u001b[0m Trial 28 finished with value: 6.785570597918283 and parameters: {'bagging_fraction': 0.4940268476882694, 'bagging_freq': 2}. Best is trial 27 with value: 6.718305629290987.\u001b[0m\n",
      "bagging, val_score: 6.623835:  20%|##########6                                          | 2/10 [00:01<00:07,  1.07it/s]"
     ]
    },
    {
     "name": "stdout",
     "output_type": "stream",
     "text": [
      "[300]\ttrain's rmse: 4.03234\teval's rmse: 6.81402\n",
      "Early stopping, best iteration is:\n",
      "[220]\ttrain's rmse: 4.44767\teval's rmse: 6.78557\n",
      "Training until validation scores don't improve for 100 rounds\n",
      "[100]\ttrain's rmse: 5.43475\teval's rmse: 6.98293\n",
      "[200]\ttrain's rmse: 4.50904\teval's rmse: 6.84019\n",
      "[300]\ttrain's rmse: 3.98084\teval's rmse: 6.83115\n"
     ]
    },
    {
     "name": "stderr",
     "output_type": "stream",
     "text": [
      "bagging, val_score: 6.623835:  30%|###############9                                     | 3/10 [00:02<00:06,  1.13it/s]\u001b[32m[I 2021-07-03 17:59:57,737]\u001b[0m Trial 29 finished with value: 6.811192147167854 and parameters: {'bagging_fraction': 0.5093386346720571, 'bagging_freq': 3}. Best is trial 27 with value: 6.718305629290987.\u001b[0m\n",
      "bagging, val_score: 6.623835:  30%|###############9                                     | 3/10 [00:02<00:06,  1.13it/s]"
     ]
    },
    {
     "name": "stdout",
     "output_type": "stream",
     "text": [
      "Early stopping, best iteration is:\n",
      "[271]\ttrain's rmse: 4.12329\teval's rmse: 6.81119\n",
      "Training until validation scores don't improve for 100 rounds\n",
      "[100]\ttrain's rmse: 5.72694\teval's rmse: 7.11483\n",
      "[200]\ttrain's rmse: 4.8203\teval's rmse: 6.92904\n"
     ]
    },
    {
     "name": "stderr",
     "output_type": "stream",
     "text": [
      "bagging, val_score: 6.623835:  40%|#####################2                               | 4/10 [00:03<00:04,  1.26it/s]\u001b[32m[I 2021-07-03 17:59:58,399]\u001b[0m Trial 30 finished with value: 6.798793728277201 and parameters: {'bagging_fraction': 0.4507149039586136, 'bagging_freq': 5}. Best is trial 27 with value: 6.718305629290987.\u001b[0m\n",
      "bagging, val_score: 6.623835:  40%|#####################2                               | 4/10 [00:03<00:04,  1.26it/s]"
     ]
    },
    {
     "name": "stdout",
     "output_type": "stream",
     "text": [
      "[300]\ttrain's rmse: 4.27371\teval's rmse: 6.81375\n",
      "Early stopping, best iteration is:\n",
      "[293]\ttrain's rmse: 4.31137\teval's rmse: 6.79879\n",
      "Training until validation scores don't improve for 100 rounds\n",
      "[100]\ttrain's rmse: 5.53454\teval's rmse: 7.11637\n"
     ]
    },
    {
     "name": "stderr",
     "output_type": "stream",
     "text": [
      "bagging, val_score: 6.623835:  50%|##########################5                          | 5/10 [00:03<00:03,  1.43it/s]\u001b[32m[I 2021-07-03 17:59:58,916]\u001b[0m Trial 31 finished with value: 6.919184874926075 and parameters: {'bagging_fraction': 0.4796012593457247, 'bagging_freq': 3}. Best is trial 27 with value: 6.718305629290987.\u001b[0m\n",
      "bagging, val_score: 6.623835:  50%|##########################5                          | 5/10 [00:03<00:03,  1.43it/s]"
     ]
    },
    {
     "name": "stdout",
     "output_type": "stream",
     "text": [
      "[200]\ttrain's rmse: 4.608\teval's rmse: 6.93866\n",
      "Early stopping, best iteration is:\n",
      "[182]\ttrain's rmse: 4.75251\teval's rmse: 6.91918\n",
      "Training until validation scores don't improve for 100 rounds\n",
      "[100]\ttrain's rmse: 5.3797\teval's rmse: 7.08127\n"
     ]
    },
    {
     "name": "stderr",
     "output_type": "stream",
     "text": [
      "bagging, val_score: 6.623835:  60%|###############################8                     | 6/10 [00:04<00:02,  1.50it/s]\u001b[32m[I 2021-07-03 17:59:59,532]\u001b[0m Trial 32 finished with value: 6.922970508375396 and parameters: {'bagging_fraction': 0.5703365628803424, 'bagging_freq': 7}. Best is trial 27 with value: 6.718305629290987.\u001b[0m\n",
      "bagging, val_score: 6.623835:  60%|###############################8                     | 6/10 [00:04<00:02,  1.50it/s]"
     ]
    },
    {
     "name": "stdout",
     "output_type": "stream",
     "text": [
      "[200]\ttrain's rmse: 4.36167\teval's rmse: 6.98059\n",
      "Early stopping, best iteration is:\n",
      "[154]\ttrain's rmse: 4.73122\teval's rmse: 6.92297\n",
      "Training until validation scores don't improve for 100 rounds\n",
      "[100]\ttrain's rmse: 5.11643\teval's rmse: 6.89909\n",
      "[200]\ttrain's rmse: 4.10118\teval's rmse: 6.80996\n"
     ]
    },
    {
     "name": "stderr",
     "output_type": "stream",
     "text": [
      "bagging, val_score: 6.623835:  70%|#####################################                | 7/10 [00:05<00:02,  1.45it/s]\u001b[32m[I 2021-07-03 18:00:00,262]\u001b[0m Trial 33 finished with value: 6.738456328397081 and parameters: {'bagging_fraction': 0.6896379151858034, 'bagging_freq': 7}. Best is trial 27 with value: 6.718305629290987.\u001b[0m\n",
      "bagging, val_score: 6.623835:  70%|#####################################                | 7/10 [00:05<00:02,  1.45it/s]"
     ]
    },
    {
     "name": "stdout",
     "output_type": "stream",
     "text": [
      "[300]\ttrain's rmse: 3.50523\teval's rmse: 6.75427\n",
      "Early stopping, best iteration is:\n",
      "[267]\ttrain's rmse: 3.68602\teval's rmse: 6.73846\n",
      "Training until validation scores don't improve for 100 rounds\n",
      "[100]\ttrain's rmse: 4.77263\teval's rmse: 6.70116\n",
      "[200]\ttrain's rmse: 3.77839\teval's rmse: 6.61168\n"
     ]
    },
    {
     "name": "stderr",
     "output_type": "stream",
     "text": [
      "bagging, val_score: 6.599761:  80%|##########################################4          | 8/10 [00:05<00:01,  1.59it/s]\u001b[32m[I 2021-07-03 18:00:00,757]\u001b[0m Trial 34 finished with value: 6.599760585665036 and parameters: {'bagging_fraction': 0.9945801601711368, 'bagging_freq': 4}. Best is trial 34 with value: 6.599760585665036.\u001b[0m\n",
      "bagging, val_score: 6.599761:  80%|##########################################4          | 8/10 [00:05<00:01,  1.59it/s]"
     ]
    },
    {
     "name": "stdout",
     "output_type": "stream",
     "text": [
      "Early stopping, best iteration is:\n",
      "[154]\ttrain's rmse: 4.14094\teval's rmse: 6.59976\n",
      "Training until validation scores don't improve for 100 rounds\n",
      "[100]\ttrain's rmse: 5.48558\teval's rmse: 7.12266\n",
      "[200]\ttrain's rmse: 4.5509\teval's rmse: 6.95566\n"
     ]
    },
    {
     "name": "stderr",
     "output_type": "stream",
     "text": [
      "bagging, val_score: 6.599761:  90%|###############################################7     | 9/10 [00:06<00:00,  1.72it/s]\u001b[32m[I 2021-07-03 18:00:01,240]\u001b[0m Trial 35 finished with value: 6.925800004299588 and parameters: {'bagging_fraction': 0.49565577285746104, 'bagging_freq': 3}. Best is trial 34 with value: 6.599760585665036.\u001b[0m\n",
      "bagging, val_score: 6.599761:  90%|###############################################7     | 9/10 [00:06<00:00,  1.72it/s]"
     ]
    },
    {
     "name": "stdout",
     "output_type": "stream",
     "text": [
      "Early stopping, best iteration is:\n",
      "[181]\ttrain's rmse: 4.71367\teval's rmse: 6.9258\n",
      "Training until validation scores don't improve for 100 rounds\n",
      "[100]\ttrain's rmse: 5.06671\teval's rmse: 6.82294\n",
      "[200]\ttrain's rmse: 4.01852\teval's rmse: 6.67198\n"
     ]
    },
    {
     "name": "stderr",
     "output_type": "stream",
     "text": [
      "bagging, val_score: 6.599761: 100%|####################################################| 10/10 [00:06<00:00,  1.65it/s]\u001b[32m[I 2021-07-03 18:00:01,895]\u001b[0m Trial 36 finished with value: 6.6513891955386 and parameters: {'bagging_fraction': 0.7079376346461626, 'bagging_freq': 6}. Best is trial 34 with value: 6.599760585665036.\u001b[0m\n",
      "bagging, val_score: 6.599761: 100%|####################################################| 10/10 [00:06<00:00,  1.47it/s]\n",
      "  0%|                                                                                            | 0/6 [00:00<?, ?it/s]"
     ]
    },
    {
     "name": "stdout",
     "output_type": "stream",
     "text": [
      "[300]\ttrain's rmse: 3.42075\teval's rmse: 6.68296\n",
      "Early stopping, best iteration is:\n",
      "[276]\ttrain's rmse: 3.54348\teval's rmse: 6.65139\n"
     ]
    },
    {
     "name": "stderr",
     "output_type": "stream",
     "text": [
      "\r",
      "feature_fraction_stage2, val_score: 6.599761:   0%|                                              | 0/6 [00:00<?, ?it/s]"
     ]
    },
    {
     "name": "stdout",
     "output_type": "stream",
     "text": [
      "Training until validation scores don't improve for 100 rounds\n",
      "[100]\ttrain's rmse: 4.8016\teval's rmse: 6.73566\n"
     ]
    },
    {
     "name": "stderr",
     "output_type": "stream",
     "text": [
      "feature_fraction_stage2, val_score: 6.599761:  17%|######3                               | 1/6 [00:00<00:02,  2.12it/s]\u001b[32m[I 2021-07-03 18:00:02,396]\u001b[0m Trial 37 finished with value: 6.625823839352895 and parameters: {'feature_fraction': 0.616}. Best is trial 37 with value: 6.625823839352895.\u001b[0m\n",
      "feature_fraction_stage2, val_score: 6.599761:  17%|######3                               | 1/6 [00:00<00:02,  2.12it/s]"
     ]
    },
    {
     "name": "stdout",
     "output_type": "stream",
     "text": [
      "[200]\ttrain's rmse: 3.78332\teval's rmse: 6.66523\n",
      "Early stopping, best iteration is:\n",
      "[153]\ttrain's rmse: 4.15483\teval's rmse: 6.62582\n",
      "Training until validation scores don't improve for 100 rounds\n",
      "[100]\ttrain's rmse: 4.81014\teval's rmse: 6.77239\n",
      "[200]\ttrain's rmse: 3.81781\teval's rmse: 6.61986\n"
     ]
    },
    {
     "name": "stderr",
     "output_type": "stream",
     "text": [
      "feature_fraction_stage2, val_score: 6.599761:  33%|############6                         | 2/6 [00:00<00:02,  1.99it/s]\u001b[32m[I 2021-07-03 18:00:02,906]\u001b[0m Trial 38 finished with value: 6.610463768325554 and parameters: {'feature_fraction': 0.584}. Best is trial 38 with value: 6.610463768325554.\u001b[0m\n",
      "feature_fraction_stage2, val_score: 6.599761:  33%|############6                         | 2/6 [00:00<00:02,  1.99it/s]"
     ]
    },
    {
     "name": "stdout",
     "output_type": "stream",
     "text": [
      "Early stopping, best iteration is:\n",
      "[176]\ttrain's rmse: 3.99735\teval's rmse: 6.61046\n",
      "Training until validation scores don't improve for 100 rounds\n",
      "[100]\ttrain's rmse: 4.78354\teval's rmse: 6.77548\n",
      "[200]\ttrain's rmse: 3.78382\teval's rmse: 6.72626\n"
     ]
    },
    {
     "name": "stderr",
     "output_type": "stream",
     "text": [
      "feature_fraction_stage2, val_score: 6.599761:  50%|###################                   | 3/6 [00:01<00:01,  2.01it/s]\u001b[32m[I 2021-07-03 18:00:03,402]\u001b[0m Trial 39 finished with value: 6.707147141176155 and parameters: {'feature_fraction': 0.6479999999999999}. Best is trial 38 with value: 6.610463768325554.\u001b[0m\n",
      "feature_fraction_stage2, val_score: 6.599761:  50%|###################                   | 3/6 [00:01<00:01,  2.01it/s]"
     ]
    },
    {
     "name": "stdout",
     "output_type": "stream",
     "text": [
      "Early stopping, best iteration is:\n",
      "[152]\ttrain's rmse: 4.16697\teval's rmse: 6.70715\n",
      "Training until validation scores don't improve for 100 rounds\n",
      "[100]\ttrain's rmse: 4.84725\teval's rmse: 6.80855\n",
      "[200]\ttrain's rmse: 3.82834\teval's rmse: 6.65349\n"
     ]
    },
    {
     "name": "stderr",
     "output_type": "stream",
     "text": [
      "feature_fraction_stage2, val_score: 6.599761:  67%|#########################3            | 4/6 [00:02<00:01,  1.97it/s]\u001b[32m[I 2021-07-03 18:00:03,921]\u001b[0m Trial 40 finished with value: 6.651831380736182 and parameters: {'feature_fraction': 0.52}. Best is trial 38 with value: 6.610463768325554.\u001b[0m\n",
      "feature_fraction_stage2, val_score: 6.599761:  67%|#########################3            | 4/6 [00:02<00:01,  1.97it/s]"
     ]
    },
    {
     "name": "stdout",
     "output_type": "stream",
     "text": [
      "Early stopping, best iteration is:\n",
      "[190]\ttrain's rmse: 3.90248\teval's rmse: 6.65183\n",
      "Training until validation scores don't improve for 100 rounds\n",
      "[100]\ttrain's rmse: 4.74514\teval's rmse: 6.7511\n",
      "[200]\ttrain's rmse: 3.73734\teval's rmse: 6.71544\n"
     ]
    },
    {
     "name": "stderr",
     "output_type": "stream",
     "text": [
      "feature_fraction_stage2, val_score: 6.599761:  83%|###############################6      | 5/6 [00:02<00:00,  1.98it/s]\u001b[32m[I 2021-07-03 18:00:04,423]\u001b[0m Trial 41 finished with value: 6.6909403207816185 and parameters: {'feature_fraction': 0.6799999999999999}. Best is trial 38 with value: 6.610463768325554.\u001b[0m\n",
      "feature_fraction_stage2, val_score: 6.599761:  83%|###############################6      | 5/6 [00:02<00:00,  1.98it/s]"
     ]
    },
    {
     "name": "stdout",
     "output_type": "stream",
     "text": [
      "Early stopping, best iteration is:\n",
      "[165]\ttrain's rmse: 4.01865\teval's rmse: 6.69094\n",
      "Training until validation scores don't improve for 100 rounds\n",
      "[100]\ttrain's rmse: 4.81658\teval's rmse: 6.83482\n",
      "[200]\ttrain's rmse: 3.82717\teval's rmse: 6.72317\n"
     ]
    },
    {
     "name": "stderr",
     "output_type": "stream",
     "text": [
      "feature_fraction_stage2, val_score: 6.599761: 100%|######################################| 6/6 [00:03<00:00,  1.89it/s]\u001b[32m[I 2021-07-03 18:00:05,000]\u001b[0m Trial 42 finished with value: 6.711395829291795 and parameters: {'feature_fraction': 0.552}. Best is trial 38 with value: 6.610463768325554.\u001b[0m\n",
      "feature_fraction_stage2, val_score: 6.599761: 100%|######################################| 6/6 [00:03<00:00,  1.94it/s]\n",
      "regularization_factors, val_score: 6.599761:   0%|                                              | 0/20 [00:00<?, ?it/s]"
     ]
    },
    {
     "name": "stdout",
     "output_type": "stream",
     "text": [
      "[300]\ttrain's rmse: 3.26817\teval's rmse: 6.73135\n",
      "Early stopping, best iteration is:\n",
      "[213]\ttrain's rmse: 3.74043\teval's rmse: 6.7114\n",
      "Training until validation scores don't improve for 100 rounds\n",
      "[100]\ttrain's rmse: 4.79383\teval's rmse: 6.76036\n",
      "[200]\ttrain's rmse: 3.79101\teval's rmse: 6.62112\n"
     ]
    },
    {
     "name": "stderr",
     "output_type": "stream",
     "text": [
      "regularization_factors, val_score: 6.599761:   5%|#9                                    | 1/20 [00:00<00:10,  1.77it/s]\u001b[32m[I 2021-07-03 18:00:05,586]\u001b[0m Trial 43 finished with value: 6.616388368722548 and parameters: {'lambda_l1': 0.00939548805451775, 'lambda_l2': 0.2915956818027188}. Best is trial 43 with value: 6.616388368722548.\u001b[0m\n",
      "regularization_factors, val_score: 6.599761:   5%|#9                                    | 1/20 [00:00<00:10,  1.77it/s]"
     ]
    },
    {
     "name": "stdout",
     "output_type": "stream",
     "text": [
      "Early stopping, best iteration is:\n",
      "[193]\ttrain's rmse: 3.84332\teval's rmse: 6.61639\n",
      "Training until validation scores don't improve for 100 rounds\n",
      "[100]\ttrain's rmse: 4.98527\teval's rmse: 6.81844\n",
      "[200]\ttrain's rmse: 4.01889\teval's rmse: 6.64855\n"
     ]
    },
    {
     "name": "stderr",
     "output_type": "stream",
     "text": [
      "\r",
      "regularization_factors, val_score: 6.599761:   5%|#9                                    | 1/20 [00:01<00:10,  1.77it/s]"
     ]
    },
    {
     "name": "stdout",
     "output_type": "stream",
     "text": [
      "[300]\ttrain's rmse: 3.48778\teval's rmse: 6.63251\n",
      "[400]\ttrain's rmse: 3.14397\teval's rmse: 6.65205\n",
      "Early stopping, best iteration is:\n",
      "[304]\ttrain's rmse: 3.46976\teval's rmse: 6.62973\n"
     ]
    },
    {
     "name": "stderr",
     "output_type": "stream",
     "text": [
      "regularization_factors, val_score: 6.599761:  10%|###8                                  | 2/20 [00:01<00:11,  1.50it/s]\u001b[32m[I 2021-07-03 18:00:06,322]\u001b[0m Trial 44 finished with value: 6.6297297811695834 and parameters: {'lambda_l1': 9.669380821341736, 'lambda_l2': 1.5807294074977551e-06}. Best is trial 43 with value: 6.616388368722548.\u001b[0m\n",
      "regularization_factors, val_score: 6.599761:  10%|###8                                  | 2/20 [00:01<00:11,  1.50it/s]"
     ]
    },
    {
     "name": "stdout",
     "output_type": "stream",
     "text": [
      "Training until validation scores don't improve for 100 rounds\n",
      "[100]\ttrain's rmse: 4.76379\teval's rmse: 6.7241\n"
     ]
    },
    {
     "name": "stderr",
     "output_type": "stream",
     "text": [
      "regularization_factors, val_score: 6.599761:  15%|#####7                                | 3/20 [00:01<00:10,  1.69it/s]\u001b[32m[I 2021-07-03 18:00:06,828]\u001b[0m Trial 45 finished with value: 6.65456925789422 and parameters: {'lambda_l1': 0.12806377243151534, 'lambda_l2': 9.877068021763901e-08}. Best is trial 43 with value: 6.616388368722548.\u001b[0m\n",
      "regularization_factors, val_score: 6.599761:  15%|#####7                                | 3/20 [00:01<00:10,  1.69it/s]"
     ]
    },
    {
     "name": "stdout",
     "output_type": "stream",
     "text": [
      "[200]\ttrain's rmse: 3.76278\teval's rmse: 6.65988\n",
      "Early stopping, best iteration is:\n",
      "[163]\ttrain's rmse: 4.05598\teval's rmse: 6.65457\n",
      "Training until validation scores don't improve for 100 rounds\n",
      "[100]\ttrain's rmse: 4.77362\teval's rmse: 6.70428\n"
     ]
    },
    {
     "name": "stderr",
     "output_type": "stream",
     "text": [
      "regularization_factors, val_score: 6.599761:  20%|#######6                              | 4/20 [00:02<00:09,  1.65it/s]\u001b[32m[I 2021-07-03 18:00:07,473]\u001b[0m Trial 46 finished with value: 6.601059598066555 and parameters: {'lambda_l1': 0.0030905728192582244, 'lambda_l2': 0.000560520122785778}. Best is trial 46 with value: 6.601059598066555.\u001b[0m\n",
      "regularization_factors, val_score: 6.599761:  20%|#######6                              | 4/20 [00:02<00:09,  1.65it/s]"
     ]
    },
    {
     "name": "stdout",
     "output_type": "stream",
     "text": [
      "[200]\ttrain's rmse: 3.76303\teval's rmse: 6.61304\n",
      "Early stopping, best iteration is:\n",
      "[183]\ttrain's rmse: 3.89449\teval's rmse: 6.60106\n",
      "Training until validation scores don't improve for 100 rounds\n",
      "[100]\ttrain's rmse: 4.79563\teval's rmse: 6.76328\n",
      "[200]\ttrain's rmse: 3.76941\teval's rmse: 6.64194\n",
      "Early stopping, best iteration is:\n",
      "[190]\ttrain's rmse: 3.84098\teval's rmse: 6.63329\n"
     ]
    },
    {
     "name": "stderr",
     "output_type": "stream",
     "text": [
      "regularization_factors, val_score: 6.599761:  25%|#########5                            | 5/20 [00:03<00:09,  1.58it/s]\u001b[32m[I 2021-07-03 18:00:08,134]\u001b[0m Trial 47 finished with value: 6.633290313928317 and parameters: {'lambda_l1': 0.08764785813179048, 'lambda_l2': 0.03407616570834614}. Best is trial 46 with value: 6.601059598066555.\u001b[0m\n",
      "regularization_factors, val_score: 6.599761:  25%|#########5                            | 5/20 [00:03<00:09,  1.58it/s]"
     ]
    },
    {
     "name": "stdout",
     "output_type": "stream",
     "text": [
      "Training until validation scores don't improve for 100 rounds\n",
      "[100]\ttrain's rmse: 4.77343\teval's rmse: 6.76145\n"
     ]
    },
    {
     "name": "stderr",
     "output_type": "stream",
     "text": [
      "regularization_factors, val_score: 6.599761:  30%|###########4                          | 6/20 [00:03<00:09,  1.55it/s]\u001b[32m[I 2021-07-03 18:00:08,799]\u001b[0m Trial 48 finished with value: 6.633271500164586 and parameters: {'lambda_l1': 0.03367594215596597, 'lambda_l2': 1.6082574734182358e-06}. Best is trial 46 with value: 6.601059598066555.\u001b[0m\n",
      "regularization_factors, val_score: 6.599761:  30%|###########4                          | 6/20 [00:03<00:09,  1.55it/s]"
     ]
    },
    {
     "name": "stdout",
     "output_type": "stream",
     "text": [
      "[200]\ttrain's rmse: 3.7648\teval's rmse: 6.64593\n",
      "Early stopping, best iteration is:\n",
      "[177]\ttrain's rmse: 3.93386\teval's rmse: 6.63327\n",
      "Training until validation scores don't improve for 100 rounds\n",
      "[100]\ttrain's rmse: 4.77605\teval's rmse: 6.77713\n",
      "[200]\ttrain's rmse: 3.76444\teval's rmse: 6.65562\n"
     ]
    },
    {
     "name": "stderr",
     "output_type": "stream",
     "text": [
      "regularization_factors, val_score: 6.599761:  35%|#############3                        | 7/20 [00:04<00:09,  1.34it/s]\u001b[32m[I 2021-07-03 18:00:09,756]\u001b[0m Trial 49 finished with value: 6.646115304350162 and parameters: {'lambda_l1': 6.669378143842513e-07, 'lambda_l2': 0.043756033135972545}. Best is trial 46 with value: 6.601059598066555.\u001b[0m\n",
      "regularization_factors, val_score: 6.599761:  35%|#############3                        | 7/20 [00:04<00:09,  1.34it/s]"
     ]
    },
    {
     "name": "stdout",
     "output_type": "stream",
     "text": [
      "Early stopping, best iteration is:\n",
      "[176]\ttrain's rmse: 3.94879\teval's rmse: 6.64612\n",
      "Training until validation scores don't improve for 100 rounds\n",
      "[100]\ttrain's rmse: 5.10669\teval's rmse: 6.86262\n",
      "[200]\ttrain's rmse: 4.06334\teval's rmse: 6.68511\n"
     ]
    },
    {
     "name": "stderr",
     "output_type": "stream",
     "text": [
      "regularization_factors, val_score: 6.599761:  40%|###############2                      | 8/20 [00:05<00:08,  1.37it/s]\u001b[32m[I 2021-07-03 18:00:10,445]\u001b[0m Trial 50 finished with value: 6.655433720269644 and parameters: {'lambda_l1': 0.0009143346837136198, 'lambda_l2': 7.551589862395647}. Best is trial 46 with value: 6.601059598066555.\u001b[0m\n",
      "regularization_factors, val_score: 6.599761:  40%|###############2                      | 8/20 [00:05<00:08,  1.37it/s]"
     ]
    },
    {
     "name": "stdout",
     "output_type": "stream",
     "text": [
      "[300]\ttrain's rmse: 3.49392\teval's rmse: 6.66198\n",
      "Early stopping, best iteration is:\n",
      "[246]\ttrain's rmse: 3.76839\teval's rmse: 6.65543\n",
      "Training until validation scores don't improve for 100 rounds\n",
      "[100]\ttrain's rmse: 4.81614\teval's rmse: 6.78383\n",
      "[200]\ttrain's rmse: 3.79664\teval's rmse: 6.64612"
     ]
    },
    {
     "name": "stderr",
     "output_type": "stream",
     "text": [
      "\r",
      "regularization_factors, val_score: 6.599761:  40%|###############2                      | 8/20 [00:06<00:08,  1.37it/s]"
     ]
    },
    {
     "name": "stdout",
     "output_type": "stream",
     "text": [
      "\n",
      "Early stopping, best iteration is:\n",
      "[186]\ttrain's rmse: 3.90536\teval's rmse: 6.6261\n"
     ]
    },
    {
     "name": "stderr",
     "output_type": "stream",
     "text": [
      "regularization_factors, val_score: 6.599761:  45%|#################1                    | 9/20 [00:06<00:07,  1.42it/s]\u001b[32m[I 2021-07-03 18:00:11,097]\u001b[0m Trial 51 finished with value: 6.626103738959966 and parameters: {'lambda_l1': 1.7563441536727962, 'lambda_l2': 0.011966612662302907}. Best is trial 46 with value: 6.601059598066555.\u001b[0m\n",
      "regularization_factors, val_score: 6.599761:  45%|#################1                    | 9/20 [00:06<00:07,  1.42it/s]"
     ]
    },
    {
     "name": "stdout",
     "output_type": "stream",
     "text": [
      "Training until validation scores don't improve for 100 rounds\n",
      "[100]\ttrain's rmse: 4.7822\teval's rmse: 6.74976\n",
      "[200]\ttrain's rmse: 3.77509\teval's rmse: 6.63508\n"
     ]
    },
    {
     "name": "stderr",
     "output_type": "stream",
     "text": [
      "regularization_factors, val_score: 6.599761:  50%|##################5                  | 10/20 [00:06<00:06,  1.48it/s]\u001b[32m[I 2021-07-03 18:00:11,711]\u001b[0m Trial 52 finished with value: 6.626778445169228 and parameters: {'lambda_l1': 6.163445207933379e-05, 'lambda_l2': 5.396470674526253e-06}. Best is trial 46 with value: 6.601059598066555.\u001b[0m\n",
      "regularization_factors, val_score: 6.599761:  50%|##################5                  | 10/20 [00:06<00:06,  1.48it/s]"
     ]
    },
    {
     "name": "stdout",
     "output_type": "stream",
     "text": [
      "Early stopping, best iteration is:\n",
      "[189]\ttrain's rmse: 3.85697\teval's rmse: 6.62678\n",
      "Training until validation scores don't improve for 100 rounds\n",
      "[100]\ttrain's rmse: 4.79819\teval's rmse: 6.69988\n",
      "[200]\ttrain's rmse: 3.79464\teval's rmse: 6.60137\n"
     ]
    },
    {
     "name": "stderr",
     "output_type": "stream",
     "text": [
      "regularization_factors, val_score: 6.584130:  55%|####################3                | 11/20 [00:07<00:05,  1.54it/s]\u001b[32m[I 2021-07-03 18:00:12,297]\u001b[0m Trial 53 finished with value: 6.584129915375293 and parameters: {'lambda_l1': 7.141322405754493e-06, 'lambda_l2': 0.0003698851568101115}. Best is trial 53 with value: 6.584129915375293.\u001b[0m\n",
      "regularization_factors, val_score: 6.584130:  55%|####################3                | 11/20 [00:07<00:05,  1.54it/s]"
     ]
    },
    {
     "name": "stdout",
     "output_type": "stream",
     "text": [
      "Early stopping, best iteration is:\n",
      "[154]\ttrain's rmse: 4.1618\teval's rmse: 6.58413\n",
      "Training until validation scores don't improve for 100 rounds\n",
      "[100]\ttrain's rmse: 4.79819\teval's rmse: 6.69988\n",
      "[200]\ttrain's rmse: 3.79464\teval's rmse: 6.60137\n"
     ]
    },
    {
     "name": "stderr",
     "output_type": "stream",
     "text": [
      "regularization_factors, val_score: 6.584130:  60%|######################2              | 12/20 [00:07<00:04,  1.65it/s]\u001b[32m[I 2021-07-03 18:00:12,804]\u001b[0m Trial 54 finished with value: 6.584129625144563 and parameters: {'lambda_l1': 3.7707263175178376e-06, 'lambda_l2': 0.0003061124842632695}. Best is trial 54 with value: 6.584129625144563.\u001b[0m\n",
      "regularization_factors, val_score: 6.584130:  60%|######################2              | 12/20 [00:07<00:04,  1.65it/s]"
     ]
    },
    {
     "name": "stdout",
     "output_type": "stream",
     "text": [
      "Early stopping, best iteration is:\n",
      "[154]\ttrain's rmse: 4.16179\teval's rmse: 6.58413\n",
      "Training until validation scores don't improve for 100 rounds\n",
      "[100]\ttrain's rmse: 4.79818\teval's rmse: 6.69988\n",
      "[200]\ttrain's rmse: 3.79463\teval's rmse: 6.60137\n"
     ]
    },
    {
     "name": "stderr",
     "output_type": "stream",
     "text": [
      "regularization_factors, val_score: 6.584129:  65%|########################             | 13/20 [00:08<00:04,  1.73it/s]\u001b[32m[I 2021-07-03 18:00:13,336]\u001b[0m Trial 55 finished with value: 6.584129159408435 and parameters: {'lambda_l1': 1.0117806067546375e-08, 'lambda_l2': 0.000202973059412014}. Best is trial 55 with value: 6.584129159408435.\u001b[0m\n",
      "regularization_factors, val_score: 6.584129:  65%|########################             | 13/20 [00:08<00:04,  1.73it/s]"
     ]
    },
    {
     "name": "stdout",
     "output_type": "stream",
     "text": [
      "Early stopping, best iteration is:\n",
      "[154]\ttrain's rmse: 4.16179\teval's rmse: 6.58413\n",
      "Training until validation scores don't improve for 100 rounds\n",
      "[100]\ttrain's rmse: 4.7919\teval's rmse: 6.72772\n",
      "[200]\ttrain's rmse: 3.77725\teval's rmse: 6.6239\n"
     ]
    },
    {
     "name": "stderr",
     "output_type": "stream",
     "text": [
      "regularization_factors, val_score: 6.584129:  70%|#########################9           | 14/20 [00:08<00:03,  1.74it/s]\u001b[32m[I 2021-07-03 18:00:13,884]\u001b[0m Trial 56 finished with value: 6.60445602458129 and parameters: {'lambda_l1': 1.1642264005934687e-08, 'lambda_l2': 6.074387125917993e-05}. Best is trial 55 with value: 6.584129159408435.\u001b[0m\n",
      "regularization_factors, val_score: 6.584129:  70%|#########################9           | 14/20 [00:08<00:03,  1.74it/s]"
     ]
    },
    {
     "name": "stdout",
     "output_type": "stream",
     "text": [
      "Early stopping, best iteration is:\n",
      "[177]\ttrain's rmse: 3.9613\teval's rmse: 6.60446\n",
      "Training until validation scores don't improve for 100 rounds\n",
      "[100]\ttrain's rmse: 4.78237\teval's rmse: 6.73973\n",
      "[200]\ttrain's rmse: 3.8014\teval's rmse: 6.5945\n"
     ]
    },
    {
     "name": "stderr",
     "output_type": "stream",
     "text": [
      "regularization_factors, val_score: 6.577923:  75%|###########################7         | 15/20 [00:09<00:02,  1.78it/s]\u001b[32m[I 2021-07-03 18:00:14,419]\u001b[0m Trial 57 finished with value: 6.577923069692608 and parameters: {'lambda_l1': 1.1804269739105452e-08, 'lambda_l2': 0.0009905587454214749}. Best is trial 57 with value: 6.577923069692608.\u001b[0m\n",
      "regularization_factors, val_score: 6.577923:  75%|###########################7         | 15/20 [00:09<00:02,  1.78it/s]"
     ]
    },
    {
     "name": "stdout",
     "output_type": "stream",
     "text": [
      "Early stopping, best iteration is:\n",
      "[169]\ttrain's rmse: 4.02338\teval's rmse: 6.57792\n",
      "Training until validation scores don't improve for 100 rounds\n",
      "[100]\ttrain's rmse: 4.7944\teval's rmse: 6.79492\n",
      "[200]\ttrain's rmse: 3.78138\teval's rmse: 6.67433\n"
     ]
    },
    {
     "name": "stderr",
     "output_type": "stream",
     "text": [
      "regularization_factors, val_score: 6.577923:  80%|#############################6       | 16/20 [00:09<00:02,  1.80it/s]\u001b[32m[I 2021-07-03 18:00:14,953]\u001b[0m Trial 58 finished with value: 6.662788584873593 and parameters: {'lambda_l1': 1.633084972967626e-08, 'lambda_l2': 0.00353972233606419}. Best is trial 57 with value: 6.577923069692608.\u001b[0m\n",
      "regularization_factors, val_score: 6.577923:  80%|#############################6       | 16/20 [00:09<00:02,  1.80it/s]"
     ]
    },
    {
     "name": "stdout",
     "output_type": "stream",
     "text": [
      "Early stopping, best iteration is:\n",
      "[164]\ttrain's rmse: 4.06659\teval's rmse: 6.66279\n",
      "Training until validation scores don't improve for 100 rounds\n",
      "[100]\ttrain's rmse: 4.7875\teval's rmse: 6.72441\n",
      "[200]\ttrain's rmse: 3.7656\teval's rmse: 6.61216\n"
     ]
    },
    {
     "name": "stderr",
     "output_type": "stream",
     "text": [
      "\r",
      "regularization_factors, val_score: 6.577923:  80%|#############################6       | 16/20 [00:10<00:02,  1.80it/s]"
     ]
    },
    {
     "name": "stdout",
     "output_type": "stream",
     "text": [
      "[300]\ttrain's rmse: 3.19932\teval's rmse: 6.62084\n",
      "Early stopping, best iteration is:\n",
      "[246]\ttrain's rmse: 3.48937\teval's rmse: 6.6097\n"
     ]
    },
    {
     "name": "stderr",
     "output_type": "stream",
     "text": [
      "regularization_factors, val_score: 6.577923:  85%|###############################4     | 17/20 [00:10<00:01,  1.60it/s]\u001b[32m[I 2021-07-03 18:00:15,753]\u001b[0m Trial 59 finished with value: 6.609704236994688 and parameters: {'lambda_l1': 1.6083814399470313e-07, 'lambda_l2': 1.8324310589871018e-05}. Best is trial 57 with value: 6.577923069692608.\u001b[0m\n",
      "regularization_factors, val_score: 6.577923:  85%|###############################4     | 17/20 [00:10<00:01,  1.60it/s]"
     ]
    },
    {
     "name": "stdout",
     "output_type": "stream",
     "text": [
      "Training until validation scores don't improve for 100 rounds\n",
      "[100]\ttrain's rmse: 4.83253\teval's rmse: 6.76117\n",
      "[200]\ttrain's rmse: 3.83252\teval's rmse: 6.6473\n",
      "[300]\ttrain's rmse: 3.25379\teval's rmse: 6.66789\n"
     ]
    },
    {
     "name": "stderr",
     "output_type": "stream",
     "text": [
      "regularization_factors, val_score: 6.577923:  90%|#################################3   | 18/20 [00:11<00:01,  1.48it/s]\u001b[32m[I 2021-07-03 18:00:16,543]\u001b[0m Trial 60 finished with value: 6.645022549580188 and parameters: {'lambda_l1': 6.942625732924314e-08, 'lambda_l2': 0.9171942051381047}. Best is trial 57 with value: 6.577923069692608.\u001b[0m\n",
      "regularization_factors, val_score: 6.577923:  90%|#################################3   | 18/20 [00:11<00:01,  1.48it/s]"
     ]
    },
    {
     "name": "stdout",
     "output_type": "stream",
     "text": [
      "Early stopping, best iteration is:\n",
      "[206]\ttrain's rmse: 3.79361\teval's rmse: 6.64502\n",
      "Training until validation scores don't improve for 100 rounds\n",
      "[100]\ttrain's rmse: 4.77813\teval's rmse: 6.70979\n"
     ]
    },
    {
     "name": "stderr",
     "output_type": "stream",
     "text": [
      "regularization_factors, val_score: 6.577923:  95%|###################################1 | 19/20 [00:12<00:00,  1.49it/s]\u001b[32m[I 2021-07-03 18:00:17,209]\u001b[0m Trial 61 finished with value: 6.623024269768217 and parameters: {'lambda_l1': 1.0059902257113513e-08, 'lambda_l2': 1.7992264109370523e-08}. Best is trial 57 with value: 6.577923069692608.\u001b[0m\n",
      "regularization_factors, val_score: 6.577923:  95%|###################################1 | 19/20 [00:12<00:00,  1.49it/s]"
     ]
    },
    {
     "name": "stdout",
     "output_type": "stream",
     "text": [
      "[200]\ttrain's rmse: 3.79432\teval's rmse: 6.63234\n",
      "Early stopping, best iteration is:\n",
      "[142]\ttrain's rmse: 4.256\teval's rmse: 6.62302\n",
      "Training until validation scores don't improve for 100 rounds\n",
      "[100]\ttrain's rmse: 4.77765\teval's rmse: 6.76083\n",
      "[200]\ttrain's rmse: 3.76074\teval's rmse: 6.66776\n"
     ]
    },
    {
     "name": "stderr",
     "output_type": "stream",
     "text": [
      "regularization_factors, val_score: 6.577923: 100%|#####################################| 20/20 [00:12<00:00,  1.50it/s]\u001b[32m[I 2021-07-03 18:00:17,864]\u001b[0m Trial 62 finished with value: 6.658146627252377 and parameters: {'lambda_l1': 1.2898311592325721e-06, 'lambda_l2': 0.002104063791691936}. Best is trial 57 with value: 6.577923069692608.\u001b[0m\n",
      "regularization_factors, val_score: 6.577923: 100%|#####################################| 20/20 [00:12<00:00,  1.56it/s]\n",
      "min_data_in_leaf, val_score: 6.577923:   0%|                                                     | 0/5 [00:00<?, ?it/s]"
     ]
    },
    {
     "name": "stdout",
     "output_type": "stream",
     "text": [
      "Early stopping, best iteration is:\n",
      "[192]\ttrain's rmse: 3.82216\teval's rmse: 6.65815\n",
      "Training until validation scores don't improve for 100 rounds\n",
      "[100]\ttrain's rmse: 4.51583\teval's rmse: 6.65228\n",
      "[200]\ttrain's rmse: 3.48093\teval's rmse: 6.52865\n"
     ]
    },
    {
     "name": "stderr",
     "output_type": "stream",
     "text": [
      "min_data_in_leaf, val_score: 6.519053:  20%|#########                                    | 1/5 [00:00<00:03,  1.20it/s]\u001b[32m[I 2021-07-03 18:00:18,713]\u001b[0m Trial 63 finished with value: 6.5190526129375375 and parameters: {'min_child_samples': 10}. Best is trial 63 with value: 6.5190526129375375.\u001b[0m\n",
      "min_data_in_leaf, val_score: 6.519053:  20%|#########                                    | 1/5 [00:00<00:03,  1.20it/s]"
     ]
    },
    {
     "name": "stdout",
     "output_type": "stream",
     "text": [
      "Early stopping, best iteration is:\n",
      "[192]\ttrain's rmse: 3.5446\teval's rmse: 6.51905\n",
      "Training until validation scores don't improve for 100 rounds\n",
      "[100]\ttrain's rmse: 4.34117\teval's rmse: 6.63798\n",
      "[200]\ttrain's rmse: 3.22983\teval's rmse: 6.51161\n"
     ]
    },
    {
     "name": "stderr",
     "output_type": "stream",
     "text": [
      "min_data_in_leaf, val_score: 6.492930:  40%|##################                           | 2/5 [00:01<00:02,  1.25it/s]\u001b[32m[I 2021-07-03 18:00:19,498]\u001b[0m Trial 64 finished with value: 6.492929510546654 and parameters: {'min_child_samples': 5}. Best is trial 64 with value: 6.492929510546654.\u001b[0m\n",
      "min_data_in_leaf, val_score: 6.492930:  40%|##################                           | 2/5 [00:01<00:02,  1.25it/s]"
     ]
    },
    {
     "name": "stdout",
     "output_type": "stream",
     "text": [
      "[300]\ttrain's rmse: 2.58908\teval's rmse: 6.52326\n",
      "Early stopping, best iteration is:\n",
      "[225]\ttrain's rmse: 3.04582\teval's rmse: 6.49293\n",
      "Training until validation scores don't improve for 100 rounds\n",
      "[100]\ttrain's rmse: 4.94607\teval's rmse: 6.80179\n",
      "[200]\ttrain's rmse: 3.91421\teval's rmse: 6.70679\n"
     ]
    },
    {
     "name": "stderr",
     "output_type": "stream",
     "text": [
      "min_data_in_leaf, val_score: 6.492930:  60%|###########################                  | 3/5 [00:02<00:01,  1.33it/s]\u001b[32m[I 2021-07-03 18:00:20,174]\u001b[0m Trial 65 finished with value: 6.69641334281008 and parameters: {'min_child_samples': 25}. Best is trial 64 with value: 6.492929510546654.\u001b[0m\n",
      "min_data_in_leaf, val_score: 6.492930:  60%|###########################                  | 3/5 [00:02<00:01,  1.33it/s]"
     ]
    },
    {
     "name": "stdout",
     "output_type": "stream",
     "text": [
      "[300]\ttrain's rmse: 3.35078\teval's rmse: 6.70419\n",
      "Early stopping, best iteration is:\n",
      "[264]\ttrain's rmse: 3.53334\teval's rmse: 6.69641\n",
      "Training until validation scores don't improve for 100 rounds\n",
      "[100]\ttrain's rmse: 6.98261\teval's rmse: 7.67869\n",
      "[200]\ttrain's rmse: 6.30192\teval's rmse: 7.3083\n",
      "[300]\ttrain's rmse: 5.9138\teval's rmse: 7.15087\n",
      "[400]\ttrain's rmse: 5.60846\teval's rmse: 7.03878\n",
      "[500]\ttrain's rmse: 5.36854\teval's rmse: 6.96638\n",
      "[600]\ttrain's rmse: 5.16685\teval's rmse: 6.9303\n",
      "[700]\ttrain's rmse: 4.98502\teval's rmse: 6.90248\n",
      "[800]\ttrain's rmse: 4.82478\teval's rmse: 6.88143\n",
      "[900]\ttrain's rmse: 4.68455\teval's rmse: 6.87542\n",
      "[1000]\ttrain's rmse: 4.55263\teval's rmse: 6.86352\n",
      "Did not meet early stopping. Best iteration is:\n",
      "[1000]\ttrain's rmse: 4.55263\teval's rmse: 6.86352\n"
     ]
    },
    {
     "name": "stderr",
     "output_type": "stream",
     "text": [
      "min_data_in_leaf, val_score: 6.492930:  80%|####################################         | 4/5 [00:03<00:00,  1.14it/s]\u001b[32m[I 2021-07-03 18:00:21,255]\u001b[0m Trial 66 finished with value: 6.863516922030733 and parameters: {'min_child_samples': 100}. Best is trial 64 with value: 6.492929510546654.\u001b[0m\n",
      "min_data_in_leaf, val_score: 6.492930:  80%|####################################         | 4/5 [00:03<00:00,  1.14it/s]"
     ]
    },
    {
     "name": "stdout",
     "output_type": "stream",
     "text": [
      "Training until validation scores don't improve for 100 rounds\n",
      "[100]\ttrain's rmse: 5.93228\teval's rmse: 7.20879\n",
      "[200]\ttrain's rmse: 5.03453\teval's rmse: 6.95224\n",
      "[300]\ttrain's rmse: 4.49039\teval's rmse: 6.85214\n",
      "[400]\ttrain's rmse: 4.07991\teval's rmse: 6.82335\n",
      "[500]\ttrain's rmse: 3.77413\teval's rmse: 6.85144\n",
      "Early stopping, best iteration is:\n",
      "[408]\ttrain's rmse: 4.04999\teval's rmse: 6.82025\n"
     ]
    },
    {
     "name": "stderr",
     "output_type": "stream",
     "text": [
      "min_data_in_leaf, val_score: 6.492930: 100%|#############################################| 5/5 [00:04<00:00,  1.19it/s]\u001b[32m[I 2021-07-03 18:00:22,033]\u001b[0m Trial 67 finished with value: 6.820248460387414 and parameters: {'min_child_samples': 50}. Best is trial 64 with value: 6.492929510546654.\u001b[0m\n",
      "min_data_in_leaf, val_score: 6.492930: 100%|#############################################| 5/5 [00:04<00:00,  1.20it/s]\n",
      "\u001b[32m[I 2021-07-03 18:00:22,073]\u001b[0m A new study created in memory with name: no-name-c790be15-2142-481a-a427-156293d06f71\u001b[0m\n",
      "feature_fraction, val_score: inf:   0%|                                                          | 0/7 [00:00<?, ?it/s]"
     ]
    },
    {
     "name": "stdout",
     "output_type": "stream",
     "text": [
      "Training until validation scores don't improve for 100 rounds\n",
      "[100]\ttrain's rmse: 5.12535\teval's rmse: 6.43816\n"
     ]
    },
    {
     "name": "stderr",
     "output_type": "stream",
     "text": [
      "feature_fraction, val_score: 6.196796:  14%|######4                                      | 1/7 [00:00<00:03,  1.97it/s]\u001b[32m[I 2021-07-03 18:00:22,589]\u001b[0m Trial 0 finished with value: 6.196795831386643 and parameters: {'feature_fraction': 0.6}. Best is trial 0 with value: 6.196795831386643.\u001b[0m\n"
     ]
    },
    {
     "name": "stdout",
     "output_type": "stream",
     "text": [
      "[200]\ttrain's rmse: 4.14205\teval's rmse: 6.21101\n",
      "[300]\ttrain's rmse: 3.55792\teval's rmse: 6.21071\n",
      "Early stopping, best iteration is:\n",
      "[212]\ttrain's rmse: 4.05773\teval's rmse: 6.1968\n"
     ]
    },
    {
     "name": "stderr",
     "output_type": "stream",
     "text": [
      "\r",
      "feature_fraction, val_score: 6.196796:  14%|######4                                      | 1/7 [00:00<00:03,  1.97it/s]"
     ]
    },
    {
     "name": "stdout",
     "output_type": "stream",
     "text": [
      "Training until validation scores don't improve for 100 rounds\n",
      "[100]\ttrain's rmse: 5.28082\teval's rmse: 6.52139\n"
     ]
    },
    {
     "name": "stderr",
     "output_type": "stream",
     "text": [
      "feature_fraction, val_score: 6.196796:  29%|############8                                | 2/7 [00:01<00:02,  1.98it/s]"
     ]
    },
    {
     "name": "stdout",
     "output_type": "stream",
     "text": [
      "[200]\ttrain's rmse: 4.31532\teval's rmse: 6.30973\n",
      "[300]\ttrain's rmse: 3.77098\teval's rmse: 6.33542\n",
      "Early stopping, best iteration is:\n",
      "[210]\ttrain's rmse: 4.25647\teval's rmse: 6.29515\n"
     ]
    },
    {
     "name": "stderr",
     "output_type": "stream",
     "text": [
      "\u001b[32m[I 2021-07-03 18:00:23,105]\u001b[0m Trial 1 finished with value: 6.295150356832157 and parameters: {'feature_fraction': 0.4}. Best is trial 0 with value: 6.196795831386643.\u001b[0m\n",
      "feature_fraction, val_score: 6.196796:  29%|############8                                | 2/7 [00:01<00:02,  1.98it/s]"
     ]
    },
    {
     "name": "stdout",
     "output_type": "stream",
     "text": [
      "Training until validation scores don't improve for 100 rounds\n",
      "[100]\ttrain's rmse: 5.11676\teval's rmse: 6.44742\n"
     ]
    },
    {
     "name": "stderr",
     "output_type": "stream",
     "text": [
      "\r",
      "feature_fraction, val_score: 6.196796:  29%|############8                                | 2/7 [00:01<00:02,  1.98it/s]"
     ]
    },
    {
     "name": "stdout",
     "output_type": "stream",
     "text": [
      "[200]\ttrain's rmse: 4.11353\teval's rmse: 6.27373\n",
      "[300]\ttrain's rmse: 3.51547\teval's rmse: 6.27138\n",
      "Early stopping, best iteration is:\n",
      "[210]\ttrain's rmse: 4.04274\teval's rmse: 6.25634\n"
     ]
    },
    {
     "name": "stderr",
     "output_type": "stream",
     "text": [
      "feature_fraction, val_score: 6.196796:  43%|###################2                         | 3/7 [00:01<00:02,  1.88it/s]\u001b[32m[I 2021-07-03 18:00:23,669]\u001b[0m Trial 2 finished with value: 6.256339879258134 and parameters: {'feature_fraction': 0.7}. Best is trial 0 with value: 6.196795831386643.\u001b[0m\n",
      "feature_fraction, val_score: 6.196796:  43%|###################2                         | 3/7 [00:01<00:02,  1.88it/s]"
     ]
    },
    {
     "name": "stdout",
     "output_type": "stream",
     "text": [
      "Training until validation scores don't improve for 100 rounds\n",
      "[100]\ttrain's rmse: 5.21\teval's rmse: 6.51413\n"
     ]
    },
    {
     "name": "stderr",
     "output_type": "stream",
     "text": [
      "feature_fraction, val_score: 6.196796:  57%|#########################7                   | 4/7 [00:02<00:01,  1.90it/s]\u001b[32m[I 2021-07-03 18:00:24,173]\u001b[0m Trial 3 finished with value: 6.246659323006383 and parameters: {'feature_fraction': 0.5}. Best is trial 0 with value: 6.196795831386643.\u001b[0m\n"
     ]
    },
    {
     "name": "stdout",
     "output_type": "stream",
     "text": [
      "[200]\ttrain's rmse: 4.22085\teval's rmse: 6.25662\n",
      "[300]\ttrain's rmse: 3.65565\teval's rmse: 6.25927\n",
      "Early stopping, best iteration is:\n",
      "[210]\ttrain's rmse: 4.1513\teval's rmse: 6.24666\n"
     ]
    },
    {
     "name": "stderr",
     "output_type": "stream",
     "text": [
      "\r",
      "feature_fraction, val_score: 6.196796:  57%|#########################7                   | 4/7 [00:02<00:01,  1.90it/s]"
     ]
    },
    {
     "name": "stdout",
     "output_type": "stream",
     "text": [
      "Training until validation scores don't improve for 100 rounds\n",
      "[100]\ttrain's rmse: 5.07403\teval's rmse: 6.5075\n"
     ]
    },
    {
     "name": "stderr",
     "output_type": "stream",
     "text": [
      "\r",
      "feature_fraction, val_score: 6.196796:  57%|#########################7                   | 4/7 [00:02<00:01,  1.90it/s]"
     ]
    },
    {
     "name": "stdout",
     "output_type": "stream",
     "text": [
      "[200]\ttrain's rmse: 4.05249\teval's rmse: 6.32119\n",
      "[300]\ttrain's rmse: 3.4438\teval's rmse: 6.34946\n",
      "Early stopping, best iteration is:\n",
      "[206]\ttrain's rmse: 4.01411\teval's rmse: 6.31526\n"
     ]
    },
    {
     "name": "stderr",
     "output_type": "stream",
     "text": [
      "feature_fraction, val_score: 6.196796:  71%|################################1            | 5/7 [00:02<00:01,  1.89it/s]\u001b[32m[I 2021-07-03 18:00:24,720]\u001b[0m Trial 4 finished with value: 6.31526027267944 and parameters: {'feature_fraction': 0.8}. Best is trial 0 with value: 6.196795831386643.\u001b[0m\n",
      "feature_fraction, val_score: 6.196796:  71%|################################1            | 5/7 [00:02<00:01,  1.89it/s]"
     ]
    },
    {
     "name": "stdout",
     "output_type": "stream",
     "text": [
      "Training until validation scores don't improve for 100 rounds\n",
      "[100]\ttrain's rmse: 5.08972\teval's rmse: 6.55865\n",
      "[200]\ttrain's rmse: 4.04864\teval's rmse: 6.38326\n",
      "[300]\ttrain's rmse: 3.43868\teval's rmse: 6.41225\n",
      "Early stopping, best iteration is:\n",
      "[227]\ttrain's rmse: 3.85985\teval's rmse: 6.38126\n"
     ]
    },
    {
     "name": "stderr",
     "output_type": "stream",
     "text": [
      "feature_fraction, val_score: 6.196796:  86%|######################################5      | 6/7 [00:03<00:00,  1.74it/s]\u001b[32m[I 2021-07-03 18:00:25,367]\u001b[0m Trial 5 finished with value: 6.381255583614419 and parameters: {'feature_fraction': 0.8999999999999999}. Best is trial 0 with value: 6.196795831386643.\u001b[0m\n",
      "feature_fraction, val_score: 6.196796:  86%|######################################5      | 6/7 [00:03<00:00,  1.74it/s]"
     ]
    },
    {
     "name": "stdout",
     "output_type": "stream",
     "text": [
      "Training until validation scores don't improve for 100 rounds\n",
      "[100]\ttrain's rmse: 5.11581\teval's rmse: 6.51352\n",
      "[200]\ttrain's rmse: 4.05048\teval's rmse: 6.27056\n",
      "[300]\ttrain's rmse: 3.43287\teval's rmse: 6.3555\n",
      "Early stopping, best iteration is:\n",
      "[209]\ttrain's rmse: 3.98138\teval's rmse: 6.26178\n"
     ]
    },
    {
     "name": "stderr",
     "output_type": "stream",
     "text": [
      "feature_fraction, val_score: 6.196796: 100%|#############################################| 7/7 [00:03<00:00,  1.76it/s]\u001b[32m[I 2021-07-03 18:00:25,929]\u001b[0m Trial 6 finished with value: 6.261783761920425 and parameters: {'feature_fraction': 1.0}. Best is trial 0 with value: 6.196795831386643.\u001b[0m\n",
      "feature_fraction, val_score: 6.196796: 100%|#############################################| 7/7 [00:03<00:00,  1.82it/s]\n",
      "num_leaves, val_score: 6.196796:   0%|                                                          | 0/20 [00:00<?, ?it/s]"
     ]
    },
    {
     "name": "stdout",
     "output_type": "stream",
     "text": [
      "Training until validation scores don't improve for 100 rounds\n",
      "[100]\ttrain's rmse: 7.96699\teval's rmse: 7.88401\n",
      "[200]\ttrain's rmse: 7.34416\teval's rmse: 7.26156\n",
      "[300]\ttrain's rmse: 7.20409\teval's rmse: 7.1635\n",
      "[400]\ttrain's rmse: 7.12126\teval's rmse: 7.09312\n",
      "[500]\ttrain's rmse: 7.06534\teval's rmse: 7.06959\n",
      "[600]\ttrain's rmse: 7.01962\teval's rmse: 7.05297\n"
     ]
    },
    {
     "name": "stderr",
     "output_type": "stream",
     "text": [
      "num_leaves, val_score: 6.196796:   5%|##5                                               | 1/20 [00:00<00:06,  2.76it/s]\u001b[32m[I 2021-07-03 18:00:26,314]\u001b[0m Trial 7 finished with value: 7.019161551521839 and parameters: {'num_leaves': 2}. Best is trial 7 with value: 7.019161551521839.\u001b[0m\n",
      "num_leaves, val_score: 6.196796:   5%|##5                                               | 1/20 [00:00<00:06,  2.76it/s]"
     ]
    },
    {
     "name": "stdout",
     "output_type": "stream",
     "text": [
      "[700]\ttrain's rmse: 6.98523\teval's rmse: 7.01916\n",
      "[800]\ttrain's rmse: 6.95409\teval's rmse: 7.0434\n",
      "Early stopping, best iteration is:\n",
      "[700]\ttrain's rmse: 6.98523\teval's rmse: 7.01916\n",
      "Training until validation scores don't improve for 100 rounds\n",
      "[100]\ttrain's rmse: 4.7849\teval's rmse: 6.50064\n",
      "[200]\ttrain's rmse: 3.64377\teval's rmse: 6.3538\n"
     ]
    },
    {
     "name": "stderr",
     "output_type": "stream",
     "text": [
      "num_leaves, val_score: 6.196796:  10%|#####                                             | 2/20 [00:01<00:11,  1.59it/s]\u001b[32m[I 2021-07-03 18:00:27,132]\u001b[0m Trial 8 finished with value: 6.32837779580676 and parameters: {'num_leaves': 207}. Best is trial 8 with value: 6.32837779580676.\u001b[0m\n",
      "num_leaves, val_score: 6.196796:  10%|#####                                             | 2/20 [00:01<00:11,  1.59it/s]"
     ]
    },
    {
     "name": "stdout",
     "output_type": "stream",
     "text": [
      "[300]\ttrain's rmse: 3.00373\teval's rmse: 6.36913\n",
      "Early stopping, best iteration is:\n",
      "[210]\ttrain's rmse: 3.56879\teval's rmse: 6.32838\n",
      "Training until validation scores don't improve for 100 rounds\n",
      "[100]\ttrain's rmse: 4.7849\teval's rmse: 6.50064\n",
      "[200]\ttrain's rmse: 3.64377\teval's rmse: 6.3538\n",
      "[300]\ttrain's rmse: 3.00373\teval's rmse: 6.36913\n"
     ]
    },
    {
     "name": "stderr",
     "output_type": "stream",
     "text": [
      "num_leaves, val_score: 6.196796:  15%|#######5                                          | 3/20 [00:01<00:12,  1.40it/s]\u001b[32m[I 2021-07-03 18:00:27,934]\u001b[0m Trial 9 finished with value: 6.32837779580676 and parameters: {'num_leaves': 94}. Best is trial 8 with value: 6.32837779580676.\u001b[0m\n",
      "num_leaves, val_score: 6.196796:  15%|#######5                                          | 3/20 [00:01<00:12,  1.40it/s]"
     ]
    },
    {
     "name": "stdout",
     "output_type": "stream",
     "text": [
      "Early stopping, best iteration is:\n",
      "[210]\ttrain's rmse: 3.56879\teval's rmse: 6.32838\n",
      "Training until validation scores don't improve for 100 rounds\n",
      "[100]\ttrain's rmse: 4.78176\teval's rmse: 6.51098\n",
      "[200]\ttrain's rmse: 3.68881\teval's rmse: 6.35094\n"
     ]
    },
    {
     "name": "stderr",
     "output_type": "stream",
     "text": [
      "num_leaves, val_score: 6.196796:  20%|##########                                        | 4/20 [00:02<00:11,  1.34it/s]\u001b[32m[I 2021-07-03 18:00:28,724]\u001b[0m Trial 10 finished with value: 6.3287969593320526 and parameters: {'num_leaves': 49}. Best is trial 8 with value: 6.32837779580676.\u001b[0m\n",
      "num_leaves, val_score: 6.196796:  20%|##########                                        | 4/20 [00:02<00:11,  1.34it/s]"
     ]
    },
    {
     "name": "stdout",
     "output_type": "stream",
     "text": [
      "[300]\ttrain's rmse: 3.03672\teval's rmse: 6.36379\n",
      "Early stopping, best iteration is:\n",
      "[206]\ttrain's rmse: 3.64272\teval's rmse: 6.3288\n",
      "Training until validation scores don't improve for 100 rounds\n",
      "[100]\ttrain's rmse: 4.7849\teval's rmse: 6.50064\n",
      "[200]\ttrain's rmse: 3.64377\teval's rmse: 6.3538\n",
      "[300]\ttrain's rmse: 3.00373\teval's rmse: 6.36913\n"
     ]
    },
    {
     "name": "stderr",
     "output_type": "stream",
     "text": [
      "num_leaves, val_score: 6.196796:  25%|############5                                     | 5/20 [00:03<00:11,  1.29it/s]\u001b[32m[I 2021-07-03 18:00:29,559]\u001b[0m Trial 11 finished with value: 6.32837779580676 and parameters: {'num_leaves': 132}. Best is trial 8 with value: 6.32837779580676.\u001b[0m\n",
      "num_leaves, val_score: 6.196796:  25%|############5                                     | 5/20 [00:03<00:11,  1.29it/s]"
     ]
    },
    {
     "name": "stdout",
     "output_type": "stream",
     "text": [
      "Early stopping, best iteration is:\n",
      "[210]\ttrain's rmse: 3.56879\teval's rmse: 6.32838\n",
      "Training until validation scores don't improve for 100 rounds\n",
      "[100]\ttrain's rmse: 4.7849\teval's rmse: 6.50064\n",
      "[200]\ttrain's rmse: 3.64377\teval's rmse: 6.3538\n"
     ]
    },
    {
     "name": "stderr",
     "output_type": "stream",
     "text": [
      "num_leaves, val_score: 6.196796:  30%|###############                                   | 6/20 [00:04<00:11,  1.27it/s]\u001b[32m[I 2021-07-03 18:00:30,366]\u001b[0m Trial 12 finished with value: 6.32837779580676 and parameters: {'num_leaves': 89}. Best is trial 8 with value: 6.32837779580676.\u001b[0m\n",
      "num_leaves, val_score: 6.196796:  30%|###############                                   | 6/20 [00:04<00:11,  1.27it/s]"
     ]
    },
    {
     "name": "stdout",
     "output_type": "stream",
     "text": [
      "[300]\ttrain's rmse: 3.00373\teval's rmse: 6.36913\n",
      "Early stopping, best iteration is:\n",
      "[210]\ttrain's rmse: 3.56879\teval's rmse: 6.32838\n",
      "Training until validation scores don't improve for 100 rounds\n",
      "[100]\ttrain's rmse: 5.17708\teval's rmse: 6.52904\n",
      "[200]\ttrain's rmse: 4.21777\teval's rmse: 6.32289\n"
     ]
    },
    {
     "name": "stderr",
     "output_type": "stream",
     "text": [
      "num_leaves, val_score: 6.196796:  35%|#################5                                | 7/20 [00:04<00:09,  1.42it/s]\u001b[32m[I 2021-07-03 18:00:30,896]\u001b[0m Trial 13 finished with value: 6.316020171620742 and parameters: {'num_leaves': 30}. Best is trial 13 with value: 6.316020171620742.\u001b[0m\n",
      "num_leaves, val_score: 6.196796:  35%|#################5                                | 7/20 [00:04<00:09,  1.42it/s]"
     ]
    },
    {
     "name": "stdout",
     "output_type": "stream",
     "text": [
      "[300]\ttrain's rmse: 3.64319\teval's rmse: 6.33135\n",
      "Early stopping, best iteration is:\n",
      "[207]\ttrain's rmse: 4.17056\teval's rmse: 6.31602\n",
      "Training until validation scores don't improve for 100 rounds\n",
      "[100]\ttrain's rmse: 5.72581\teval's rmse: 6.55708\n",
      "[200]\ttrain's rmse: 4.88875\teval's rmse: 6.25712\n"
     ]
    },
    {
     "name": "stderr",
     "output_type": "stream",
     "text": [
      "num_leaves, val_score: 6.196796:  40%|####################                              | 8/20 [00:05<00:07,  1.53it/s]\u001b[32m[I 2021-07-03 18:00:31,442]\u001b[0m Trial 14 finished with value: 6.234537460390997 and parameters: {'num_leaves': 18}. Best is trial 14 with value: 6.234537460390997.\u001b[0m\n",
      "num_leaves, val_score: 6.196796:  40%|####################                              | 8/20 [00:05<00:07,  1.53it/s]"
     ]
    },
    {
     "name": "stdout",
     "output_type": "stream",
     "text": [
      "[300]\ttrain's rmse: 4.38579\teval's rmse: 6.24997\n",
      "[400]\ttrain's rmse: 3.99358\teval's rmse: 6.25308\n",
      "Early stopping, best iteration is:\n",
      "[318]\ttrain's rmse: 4.30696\teval's rmse: 6.23454\n",
      "Training until validation scores don't improve for 100 rounds\n",
      "[100]\ttrain's rmse: 4.7849\teval's rmse: 6.50064\n",
      "[200]\ttrain's rmse: 3.64377\teval's rmse: 6.3538\n",
      "[300]\ttrain's rmse: 3.00373\teval's rmse: 6.36913\n"
     ]
    },
    {
     "name": "stderr",
     "output_type": "stream",
     "text": [
      "num_leaves, val_score: 6.196796:  45%|######################5                           | 9/20 [00:06<00:07,  1.48it/s]\u001b[32m[I 2021-07-03 18:00:32,180]\u001b[0m Trial 15 finished with value: 6.32837779580676 and parameters: {'num_leaves': 132}. Best is trial 14 with value: 6.234537460390997.\u001b[0m\n",
      "num_leaves, val_score: 6.196796:  45%|######################5                           | 9/20 [00:06<00:07,  1.48it/s]"
     ]
    },
    {
     "name": "stdout",
     "output_type": "stream",
     "text": [
      "Early stopping, best iteration is:\n",
      "[210]\ttrain's rmse: 3.56879\teval's rmse: 6.32838\n",
      "Training until validation scores don't improve for 100 rounds\n",
      "[100]\ttrain's rmse: 4.90104\teval's rmse: 6.5141\n",
      "[200]\ttrain's rmse: 3.81746\teval's rmse: 6.36766\n"
     ]
    },
    {
     "name": "stderr",
     "output_type": "stream",
     "text": [
      "num_leaves, val_score: 6.196796:  50%|########################5                        | 10/20 [00:06<00:06,  1.51it/s]\u001b[32m[I 2021-07-03 18:00:32,792]\u001b[0m Trial 16 finished with value: 6.356595547114407 and parameters: {'num_leaves': 42}. Best is trial 14 with value: 6.234537460390997.\u001b[0m\n",
      "num_leaves, val_score: 6.196796:  50%|########################5                        | 10/20 [00:06<00:06,  1.51it/s]"
     ]
    },
    {
     "name": "stdout",
     "output_type": "stream",
     "text": [
      "[300]\ttrain's rmse: 3.18699\teval's rmse: 6.37446\n",
      "Early stopping, best iteration is:\n",
      "[204]\ttrain's rmse: 3.78969\teval's rmse: 6.3566\n",
      "Training until validation scores don't improve for 100 rounds\n",
      "[100]\ttrain's rmse: 4.7849\teval's rmse: 6.50064\n",
      "[200]\ttrain's rmse: 3.64377\teval's rmse: 6.3538\n"
     ]
    },
    {
     "name": "stderr",
     "output_type": "stream",
     "text": [
      "num_leaves, val_score: 6.196796:  55%|##########################9                      | 11/20 [00:07<00:06,  1.44it/s]\u001b[32m[I 2021-07-03 18:00:33,567]\u001b[0m Trial 17 finished with value: 6.32837779580676 and parameters: {'num_leaves': 244}. Best is trial 14 with value: 6.234537460390997.\u001b[0m\n",
      "num_leaves, val_score: 6.196796:  55%|##########################9                      | 11/20 [00:07<00:06,  1.44it/s]"
     ]
    },
    {
     "name": "stdout",
     "output_type": "stream",
     "text": [
      "[300]\ttrain's rmse: 3.00373\teval's rmse: 6.36913\n",
      "Early stopping, best iteration is:\n",
      "[210]\ttrain's rmse: 3.56879\teval's rmse: 6.32838\n",
      "Training until validation scores don't improve for 100 rounds\n",
      "[100]\ttrain's rmse: 6.80392\teval's rmse: 6.96465\n",
      "[200]\ttrain's rmse: 6.27799\teval's rmse: 6.6286\n",
      "[300]\ttrain's rmse: 5.96454\teval's rmse: 6.51016\n",
      "[400]\ttrain's rmse: 5.6907\teval's rmse: 6.39836\n"
     ]
    },
    {
     "name": "stderr",
     "output_type": "stream",
     "text": [
      "\r",
      "num_leaves, val_score: 6.196796:  55%|##########################9                      | 11/20 [00:08<00:06,  1.44it/s]"
     ]
    },
    {
     "name": "stdout",
     "output_type": "stream",
     "text": [
      "[500]\ttrain's rmse: 5.48133\teval's rmse: 6.28933\n",
      "[600]\ttrain's rmse: 5.30188\teval's rmse: 6.2576\n",
      "[700]\ttrain's rmse: 5.15188\teval's rmse: 6.23238\n",
      "Early stopping, best iteration is:\n",
      "[675]\ttrain's rmse: 5.18773\teval's rmse: 6.22516\n"
     ]
    },
    {
     "name": "stderr",
     "output_type": "stream",
     "text": [
      "num_leaves, val_score: 6.196796:  60%|#############################4                   | 12/20 [00:08<00:05,  1.52it/s]\u001b[32m[I 2021-07-03 18:00:34,154]\u001b[0m Trial 18 finished with value: 6.225159684647084 and parameters: {'num_leaves': 6}. Best is trial 18 with value: 6.225159684647084.\u001b[0m\n",
      "num_leaves, val_score: 6.196796:  60%|#############################4                   | 12/20 [00:08<00:05,  1.52it/s]"
     ]
    },
    {
     "name": "stdout",
     "output_type": "stream",
     "text": [
      "Training until validation scores don't improve for 100 rounds\n",
      "[100]\ttrain's rmse: 7.37746\teval's rmse: 7.30024\n",
      "[200]\ttrain's rmse: 6.94029\teval's rmse: 6.96432\n",
      "[300]\ttrain's rmse: 6.74782\teval's rmse: 6.89759\n",
      "[400]\ttrain's rmse: 6.59347\teval's rmse: 6.80519\n",
      "[500]\ttrain's rmse: 6.46103\teval's rmse: 6.75298\n",
      "[600]\ttrain's rmse: 6.36149\teval's rmse: 6.69493\n",
      "[700]\ttrain's rmse: 6.27029\teval's rmse: 6.67044\n",
      "[800]\ttrain's rmse: 6.18506\teval's rmse: 6.65332\n",
      "[900]\ttrain's rmse: 6.11916\teval's rmse: 6.63659\n"
     ]
    },
    {
     "name": "stderr",
     "output_type": "stream",
     "text": [
      "num_leaves, val_score: 6.196796:  65%|###############################8                 | 13/20 [00:08<00:04,  1.60it/s]\u001b[32m[I 2021-07-03 18:00:34,698]\u001b[0m Trial 19 finished with value: 6.582297657444157 and parameters: {'num_leaves': 3}. Best is trial 18 with value: 6.225159684647084.\u001b[0m\n",
      "num_leaves, val_score: 6.196796:  65%|###############################8                 | 13/20 [00:08<00:04,  1.60it/s]"
     ]
    },
    {
     "name": "stdout",
     "output_type": "stream",
     "text": [
      "[1000]\ttrain's rmse: 6.04721\teval's rmse: 6.5823\n",
      "Did not meet early stopping. Best iteration is:\n",
      "[1000]\ttrain's rmse: 6.04721\teval's rmse: 6.5823\n",
      "Training until validation scores don't improve for 100 rounds\n",
      "[100]\ttrain's rmse: 7.12578\teval's rmse: 7.12954\n",
      "[200]\ttrain's rmse: 6.69624\teval's rmse: 6.87137\n",
      "[300]\ttrain's rmse: 6.44849\teval's rmse: 6.78183\n",
      "[400]\ttrain's rmse: 6.2408\teval's rmse: 6.66554\n",
      "[500]\ttrain's rmse: 6.08821\teval's rmse: 6.60004\n",
      "[600]\ttrain's rmse: 5.94937\teval's rmse: 6.54706\n"
     ]
    },
    {
     "name": "stderr",
     "output_type": "stream",
     "text": [
      "\r",
      "num_leaves, val_score: 6.196796:  65%|###############################8                 | 13/20 [00:09<00:04,  1.60it/s]"
     ]
    },
    {
     "name": "stdout",
     "output_type": "stream",
     "text": [
      "[700]\ttrain's rmse: 5.82904\teval's rmse: 6.49738\n",
      "[800]\ttrain's rmse: 5.71328\teval's rmse: 6.49028\n",
      "[900]\ttrain's rmse: 5.62668\teval's rmse: 6.47688\n",
      "[1000]\ttrain's rmse: 5.53781\teval's rmse: 6.43227\n",
      "Did not meet early stopping. Best iteration is:\n",
      "[1000]\ttrain's rmse: 5.53781\teval's rmse: 6.43227\n"
     ]
    },
    {
     "name": "stderr",
     "output_type": "stream",
     "text": [
      "num_leaves, val_score: 6.196796:  70%|##################################3              | 14/20 [00:09<00:03,  1.62it/s]\u001b[32m[I 2021-07-03 18:00:35,287]\u001b[0m Trial 20 finished with value: 6.432270450103499 and parameters: {'num_leaves': 4}. Best is trial 18 with value: 6.225159684647084.\u001b[0m\n",
      "num_leaves, val_score: 6.196796:  70%|##################################3              | 14/20 [00:09<00:03,  1.62it/s]"
     ]
    },
    {
     "name": "stdout",
     "output_type": "stream",
     "text": [
      "Training until validation scores don't improve for 100 rounds\n",
      "[100]\ttrain's rmse: 4.7849\teval's rmse: 6.50064\n",
      "[200]\ttrain's rmse: 3.64377\teval's rmse: 6.3538\n",
      "[300]\ttrain's rmse: 3.00373\teval's rmse: 6.36913\n"
     ]
    },
    {
     "name": "stderr",
     "output_type": "stream",
     "text": [
      "num_leaves, val_score: 6.196796:  75%|####################################7            | 15/20 [00:10<00:03,  1.54it/s]\u001b[32m[I 2021-07-03 18:00:36,014]\u001b[0m Trial 21 finished with value: 6.32837779580676 and parameters: {'num_leaves': 78}. Best is trial 18 with value: 6.225159684647084.\u001b[0m\n",
      "num_leaves, val_score: 6.196796:  75%|####################################7            | 15/20 [00:10<00:03,  1.54it/s]"
     ]
    },
    {
     "name": "stdout",
     "output_type": "stream",
     "text": [
      "Early stopping, best iteration is:\n",
      "[210]\ttrain's rmse: 3.56879\teval's rmse: 6.32838\n",
      "Training until validation scores don't improve for 100 rounds\n",
      "[100]\ttrain's rmse: 4.7849\teval's rmse: 6.50064\n",
      "[200]\ttrain's rmse: 3.64377\teval's rmse: 6.3538\n"
     ]
    },
    {
     "name": "stderr",
     "output_type": "stream",
     "text": [
      "num_leaves, val_score: 6.196796:  80%|#######################################2         | 16/20 [00:10<00:02,  1.43it/s]\u001b[32m[I 2021-07-03 18:00:36,823]\u001b[0m Trial 22 finished with value: 6.32837779580676 and parameters: {'num_leaves': 204}. Best is trial 18 with value: 6.225159684647084.\u001b[0m\n",
      "num_leaves, val_score: 6.196796:  80%|#######################################2         | 16/20 [00:10<00:02,  1.43it/s]"
     ]
    },
    {
     "name": "stdout",
     "output_type": "stream",
     "text": [
      "[300]\ttrain's rmse: 3.00373\teval's rmse: 6.36913\n",
      "Early stopping, best iteration is:\n",
      "[210]\ttrain's rmse: 3.56879\teval's rmse: 6.32838\n",
      "Training until validation scores don't improve for 100 rounds\n",
      "[100]\ttrain's rmse: 5.35653\teval's rmse: 6.46859\n",
      "[200]\ttrain's rmse: 4.42853\teval's rmse: 6.27661\n"
     ]
    },
    {
     "name": "stderr",
     "output_type": "stream",
     "text": [
      "num_leaves, val_score: 6.196796:  85%|#########################################6       | 17/20 [00:11<00:01,  1.55it/s]\u001b[32m[I 2021-07-03 18:00:37,345]\u001b[0m Trial 23 finished with value: 6.257020835147525 and parameters: {'num_leaves': 25}. Best is trial 18 with value: 6.225159684647084.\u001b[0m\n",
      "num_leaves, val_score: 6.196796:  85%|#########################################6       | 17/20 [00:11<00:01,  1.55it/s]"
     ]
    },
    {
     "name": "stdout",
     "output_type": "stream",
     "text": [
      "[300]\ttrain's rmse: 3.88692\teval's rmse: 6.2816\n",
      "Early stopping, best iteration is:\n",
      "[210]\ttrain's rmse: 4.36394\teval's rmse: 6.25702\n",
      "Training until validation scores don't improve for 100 rounds\n",
      "[100]\ttrain's rmse: 4.7849\teval's rmse: 6.50064\n",
      "[200]\ttrain's rmse: 3.64377\teval's rmse: 6.3538\n"
     ]
    },
    {
     "name": "stderr",
     "output_type": "stream",
     "text": [
      "num_leaves, val_score: 6.196796:  90%|############################################1    | 18/20 [00:12<00:01,  1.48it/s]\u001b[32m[I 2021-07-03 18:00:38,099]\u001b[0m Trial 24 finished with value: 6.32837779580676 and parameters: {'num_leaves': 63}. Best is trial 18 with value: 6.225159684647084.\u001b[0m\n",
      "num_leaves, val_score: 6.196796:  90%|############################################1    | 18/20 [00:12<00:01,  1.48it/s]"
     ]
    },
    {
     "name": "stdout",
     "output_type": "stream",
     "text": [
      "[300]\ttrain's rmse: 3.00373\teval's rmse: 6.36913\n",
      "Early stopping, best iteration is:\n",
      "[210]\ttrain's rmse: 3.56879\teval's rmse: 6.32838\n",
      "Training until validation scores don't improve for 100 rounds\n",
      "[100]\ttrain's rmse: 4.7849\teval's rmse: 6.50064\n",
      "[200]\ttrain's rmse: 3.64377\teval's rmse: 6.3538\n"
     ]
    },
    {
     "name": "stderr",
     "output_type": "stream",
     "text": [
      "num_leaves, val_score: 6.196796:  95%|##############################################5  | 19/20 [00:12<00:00,  1.43it/s]\u001b[32m[I 2021-07-03 18:00:38,861]\u001b[0m Trial 25 finished with value: 6.32837779580676 and parameters: {'num_leaves': 163}. Best is trial 18 with value: 6.225159684647084.\u001b[0m\n",
      "num_leaves, val_score: 6.196796:  95%|##############################################5  | 19/20 [00:12<00:00,  1.43it/s]"
     ]
    },
    {
     "name": "stdout",
     "output_type": "stream",
     "text": [
      "[300]\ttrain's rmse: 3.00373\teval's rmse: 6.36913\n",
      "Early stopping, best iteration is:\n",
      "[210]\ttrain's rmse: 3.56879\teval's rmse: 6.32838\n",
      "Training until validation scores don't improve for 100 rounds\n",
      "[100]\ttrain's rmse: 4.7849\teval's rmse: 6.50064\n",
      "[200]\ttrain's rmse: 3.64377\teval's rmse: 6.3538\n",
      "[300]\ttrain's rmse: 3.00373\teval's rmse: 6.36913"
     ]
    },
    {
     "name": "stderr",
     "output_type": "stream",
     "text": [
      "num_leaves, val_score: 6.196796: 100%|#################################################| 20/20 [00:13<00:00,  1.37it/s]\u001b[32m[I 2021-07-03 18:00:39,644]\u001b[0m Trial 26 finished with value: 6.32837779580676 and parameters: {'num_leaves': 110}. Best is trial 18 with value: 6.225159684647084.\u001b[0m\n",
      "num_leaves, val_score: 6.196796: 100%|#################################################| 20/20 [00:13<00:00,  1.46it/s]\n",
      "bagging, val_score: 6.196796:   0%|                                                             | 0/10 [00:00<?, ?it/s]"
     ]
    },
    {
     "name": "stdout",
     "output_type": "stream",
     "text": [
      "\n",
      "Early stopping, best iteration is:\n",
      "[210]\ttrain's rmse: 3.56879\teval's rmse: 6.32838\n",
      "Training until validation scores don't improve for 100 rounds\n",
      "[100]\ttrain's rmse: 5.46913\teval's rmse: 6.6588\n",
      "[200]\ttrain's rmse: 4.47261\teval's rmse: 6.3875\n"
     ]
    },
    {
     "name": "stderr",
     "output_type": "stream",
     "text": [
      "bagging, val_score: 6.196796:  10%|#####3                                               | 1/10 [00:00<00:05,  1.57it/s]\u001b[32m[I 2021-07-03 18:00:40,302]\u001b[0m Trial 27 finished with value: 6.342393529198828 and parameters: {'bagging_fraction': 0.6014288918909751, 'bagging_freq': 7}. Best is trial 27 with value: 6.342393529198828.\u001b[0m\n"
     ]
    },
    {
     "name": "stdout",
     "output_type": "stream",
     "text": [
      "[300]\ttrain's rmse: 3.92353\teval's rmse: 6.35876\n",
      "Early stopping, best iteration is:\n",
      "[293]\ttrain's rmse: 3.95727\teval's rmse: 6.34239\n"
     ]
    },
    {
     "name": "stderr",
     "output_type": "stream",
     "text": [
      "\r",
      "bagging, val_score: 6.196796:  10%|#####3                                               | 1/10 [00:00<00:05,  1.57it/s]"
     ]
    },
    {
     "name": "stdout",
     "output_type": "stream",
     "text": [
      "Training until validation scores don't improve for 100 rounds\n",
      "[100]\ttrain's rmse: 5.87081\teval's rmse: 6.81408\n",
      "[200]\ttrain's rmse: 5.01366\teval's rmse: 6.62074\n",
      "[300]\ttrain's rmse: 4.45083\teval's rmse: 6.63277\n"
     ]
    },
    {
     "name": "stderr",
     "output_type": "stream",
     "text": [
      "bagging, val_score: 6.196796:  20%|##########6                                          | 2/10 [00:01<00:04,  1.67it/s]\u001b[32m[I 2021-07-03 18:00:40,883]\u001b[0m Trial 28 finished with value: 6.583084073798313 and parameters: {'bagging_fraction': 0.4311288904146449, 'bagging_freq': 4}. Best is trial 27 with value: 6.342393529198828.\u001b[0m\n",
      "bagging, val_score: 6.196796:  20%|##########6                                          | 2/10 [00:01<00:04,  1.67it/s]"
     ]
    },
    {
     "name": "stdout",
     "output_type": "stream",
     "text": [
      "Early stopping, best iteration is:\n",
      "[275]\ttrain's rmse: 4.57116\teval's rmse: 6.58308\n",
      "Training until validation scores don't improve for 100 rounds\n",
      "[100]\ttrain's rmse: 4.97328\teval's rmse: 6.2243\n",
      "[200]\ttrain's rmse: 4.00752\teval's rmse: 6.08847\n"
     ]
    },
    {
     "name": "stderr",
     "output_type": "stream",
     "text": [
      "\r",
      "bagging, val_score: 6.034657:  20%|##########6                                          | 2/10 [00:01<00:04,  1.67it/s]"
     ]
    },
    {
     "name": "stdout",
     "output_type": "stream",
     "text": [
      "[300]\ttrain's rmse: 3.44785\teval's rmse: 6.04045\n",
      "[400]\ttrain's rmse: 3.03077\teval's rmse: 6.10542\n",
      "Early stopping, best iteration is:\n",
      "[305]\ttrain's rmse: 3.42361\teval's rmse: 6.03466\n"
     ]
    },
    {
     "name": "stderr",
     "output_type": "stream",
     "text": [
      "bagging, val_score: 6.034657:  30%|###############9                                     | 3/10 [00:01<00:04,  1.55it/s]\u001b[32m[I 2021-07-03 18:00:41,565]\u001b[0m Trial 29 finished with value: 6.034657108821777 and parameters: {'bagging_fraction': 0.9211419092570872, 'bagging_freq': 7}. Best is trial 29 with value: 6.034657108821777.\u001b[0m\n",
      "bagging, val_score: 6.034657:  30%|###############9                                     | 3/10 [00:01<00:04,  1.55it/s]"
     ]
    },
    {
     "name": "stdout",
     "output_type": "stream",
     "text": [
      "Training until validation scores don't improve for 100 rounds\n",
      "[100]\ttrain's rmse: 4.96402\teval's rmse: 6.31743\n",
      "[200]\ttrain's rmse: 4.01476\teval's rmse: 6.14072\n",
      "[300]\ttrain's rmse: 3.4545\teval's rmse: 6.14981\n",
      "Early stopping, best iteration is:\n",
      "[227]\ttrain's rmse: 3.84699\teval's rmse: 6.12279\n"
     ]
    },
    {
     "name": "stderr",
     "output_type": "stream",
     "text": [
      "bagging, val_score: 6.034657:  40%|#####################2                               | 4/10 [00:02<00:03,  1.62it/s]\u001b[32m[I 2021-07-03 18:00:42,137]\u001b[0m Trial 30 finished with value: 6.122792315606768 and parameters: {'bagging_fraction': 0.9804159203750274, 'bagging_freq': 1}. Best is trial 29 with value: 6.034657108821777.\u001b[0m\n",
      "bagging, val_score: 6.034657:  40%|#####################2                               | 4/10 [00:02<00:03,  1.62it/s]"
     ]
    },
    {
     "name": "stdout",
     "output_type": "stream",
     "text": [
      "Training until validation scores don't improve for 100 rounds\n",
      "[100]\ttrain's rmse: 5.9056\teval's rmse: 6.89936\n"
     ]
    },
    {
     "name": "stderr",
     "output_type": "stream",
     "text": [
      "bagging, val_score: 6.034657:  50%|##########################5                          | 5/10 [00:02<00:02,  1.91it/s]\u001b[32m[I 2021-07-03 18:00:42,509]\u001b[0m Trial 31 finished with value: 6.689266687237169 and parameters: {'bagging_fraction': 0.41103188071912256, 'bagging_freq': 5}. Best is trial 29 with value: 6.034657108821777.\u001b[0m\n",
      "bagging, val_score: 6.034657:  50%|##########################5                          | 5/10 [00:02<00:02,  1.91it/s]"
     ]
    },
    {
     "name": "stdout",
     "output_type": "stream",
     "text": [
      "[200]\ttrain's rmse: 5.09624\teval's rmse: 6.75977\n",
      "Early stopping, best iteration is:\n",
      "[156]\ttrain's rmse: 5.37286\teval's rmse: 6.68927\n",
      "Training until validation scores don't improve for 100 rounds\n",
      "[100]\ttrain's rmse: 5.65321\teval's rmse: 6.84062\n",
      "[200]\ttrain's rmse: 4.7464\teval's rmse: 6.63875\n",
      "[300]\ttrain's rmse: 4.18558\teval's rmse: 6.56569\n",
      "[400]\ttrain's rmse: 3.81578\teval's rmse: 6.52303\n"
     ]
    },
    {
     "name": "stderr",
     "output_type": "stream",
     "text": [
      "bagging, val_score: 6.034657:  60%|###############################8                     | 6/10 [00:03<00:02,  1.59it/s]\u001b[32m[I 2021-07-03 18:00:43,324]\u001b[0m Trial 32 finished with value: 6.490435929213198 and parameters: {'bagging_fraction': 0.4863520778891433, 'bagging_freq': 4}. Best is trial 29 with value: 6.034657108821777.\u001b[0m\n",
      "bagging, val_score: 6.034657:  60%|###############################8                     | 6/10 [00:03<00:02,  1.59it/s]"
     ]
    },
    {
     "name": "stdout",
     "output_type": "stream",
     "text": [
      "[500]\ttrain's rmse: 3.50474\teval's rmse: 6.54096\n",
      "Early stopping, best iteration is:\n",
      "[413]\ttrain's rmse: 3.76601\teval's rmse: 6.49044\n",
      "Training until validation scores don't improve for 100 rounds\n",
      "[100]\ttrain's rmse: 5.57341\teval's rmse: 6.77974\n",
      "[200]\ttrain's rmse: 4.67221\teval's rmse: 6.61486\n",
      "[300]\ttrain's rmse: 4.1506\teval's rmse: 6.5252\n",
      "[400]\ttrain's rmse: 3.7234\teval's rmse: 6.48204\n"
     ]
    },
    {
     "name": "stderr",
     "output_type": "stream",
     "text": [
      "bagging, val_score: 6.034657:  70%|#####################################                | 7/10 [00:04<00:02,  1.42it/s]\u001b[32m[I 2021-07-03 18:00:44,186]\u001b[0m Trial 33 finished with value: 6.472227768476554 and parameters: {'bagging_fraction': 0.5107061593801459, 'bagging_freq': 7}. Best is trial 29 with value: 6.034657108821777.\u001b[0m\n",
      "bagging, val_score: 6.034657:  70%|#####################################                | 7/10 [00:04<00:02,  1.42it/s]"
     ]
    },
    {
     "name": "stdout",
     "output_type": "stream",
     "text": [
      "[500]\ttrain's rmse: 3.39737\teval's rmse: 6.5368\n",
      "Early stopping, best iteration is:\n",
      "[422]\ttrain's rmse: 3.64727\teval's rmse: 6.47223\n",
      "Training until validation scores don't improve for 100 rounds\n",
      "[100]\ttrain's rmse: 5.09505\teval's rmse: 6.46116\n",
      "[200]\ttrain's rmse: 4.10236\teval's rmse: 6.22618\n"
     ]
    },
    {
     "name": "stderr",
     "output_type": "stream",
     "text": [
      "bagging, val_score: 6.034657:  80%|##########################################4          | 8/10 [00:05<00:01,  1.50it/s]\u001b[32m[I 2021-07-03 18:00:44,772]\u001b[0m Trial 34 finished with value: 6.173654988313978 and parameters: {'bagging_fraction': 0.8327889879589403, 'bagging_freq': 6}. Best is trial 29 with value: 6.034657108821777.\u001b[0m\n",
      "bagging, val_score: 6.034657:  80%|##########################################4          | 8/10 [00:05<00:01,  1.50it/s]"
     ]
    },
    {
     "name": "stdout",
     "output_type": "stream",
     "text": [
      "[300]\ttrain's rmse: 3.52728\teval's rmse: 6.21009\n",
      "Early stopping, best iteration is:\n",
      "[252]\ttrain's rmse: 3.77646\teval's rmse: 6.17365\n",
      "Training until validation scores don't improve for 100 rounds\n",
      "[100]\ttrain's rmse: 5.37941\teval's rmse: 6.60764\n",
      "[200]\ttrain's rmse: 4.44269\teval's rmse: 6.4936\n",
      "[300]\ttrain's rmse: 3.86221\teval's rmse: 6.45254\n",
      "[400]\ttrain's rmse: 3.45463\teval's rmse: 6.45863\n"
     ]
    },
    {
     "name": "stderr",
     "output_type": "stream",
     "text": [
      "bagging, val_score: 6.034657:  90%|###############################################7     | 9/10 [00:05<00:00,  1.43it/s]\u001b[32m[I 2021-07-03 18:00:45,552]\u001b[0m Trial 35 finished with value: 6.425265600276875 and parameters: {'bagging_fraction': 0.6074773479263759, 'bagging_freq': 4}. Best is trial 29 with value: 6.034657108821777.\u001b[0m\n",
      "bagging, val_score: 6.034657:  90%|###############################################7     | 9/10 [00:05<00:00,  1.43it/s]"
     ]
    },
    {
     "name": "stdout",
     "output_type": "stream",
     "text": [
      "Early stopping, best iteration is:\n",
      "[352]\ttrain's rmse: 3.62988\teval's rmse: 6.42527\n",
      "Training until validation scores don't improve for 100 rounds\n",
      "[100]\ttrain's rmse: 5.29499\teval's rmse: 6.49531\n",
      "[200]\ttrain's rmse: 4.3258\teval's rmse: 6.26727\n"
     ]
    },
    {
     "name": "stderr",
     "output_type": "stream",
     "text": [
      "bagging, val_score: 6.034657: 100%|####################################################| 10/10 [00:06<00:00,  1.53it/s]\u001b[32m[I 2021-07-03 18:00:46,106]\u001b[0m Trial 36 finished with value: 6.250666173726184 and parameters: {'bagging_fraction': 0.6723772355852193, 'bagging_freq': 7}. Best is trial 29 with value: 6.034657108821777.\u001b[0m\n",
      "bagging, val_score: 6.034657: 100%|####################################################| 10/10 [00:06<00:00,  1.55it/s]\n",
      "feature_fraction_stage2, val_score: 6.034657:   0%|                                              | 0/6 [00:00<?, ?it/s]"
     ]
    },
    {
     "name": "stdout",
     "output_type": "stream",
     "text": [
      "[300]\ttrain's rmse: 3.7683\teval's rmse: 6.2624\n",
      "Early stopping, best iteration is:\n",
      "[220]\ttrain's rmse: 4.20601\teval's rmse: 6.25067\n",
      "Training until validation scores don't improve for 100 rounds\n",
      "[100]\ttrain's rmse: 5.00018\teval's rmse: 6.34666\n",
      "[200]\ttrain's rmse: 4.02392\teval's rmse: 6.18952\n",
      "[300]\ttrain's rmse: 3.4758\teval's rmse: 6.15994\n"
     ]
    },
    {
     "name": "stderr",
     "output_type": "stream",
     "text": [
      "feature_fraction_stage2, val_score: 6.034657:  17%|######3                               | 1/6 [00:00<00:03,  1.38it/s]\u001b[32m[I 2021-07-03 18:00:46,857]\u001b[0m Trial 37 finished with value: 6.150370157476033 and parameters: {'feature_fraction': 0.584}. Best is trial 37 with value: 6.150370157476033.\u001b[0m\n",
      "feature_fraction_stage2, val_score: 6.034657:  17%|######3                               | 1/6 [00:00<00:03,  1.38it/s]"
     ]
    },
    {
     "name": "stdout",
     "output_type": "stream",
     "text": [
      "Early stopping, best iteration is:\n",
      "[270]\ttrain's rmse: 3.62614\teval's rmse: 6.15037\n",
      "Training until validation scores don't improve for 100 rounds\n",
      "[100]\ttrain's rmse: 5.04144\teval's rmse: 6.35231\n",
      "[200]\ttrain's rmse: 4.06973\teval's rmse: 6.14654\n",
      "[300]\ttrain's rmse: 3.52376\teval's rmse: 6.1157\n"
     ]
    },
    {
     "name": "stderr",
     "output_type": "stream",
     "text": [
      "feature_fraction_stage2, val_score: 6.034657:  33%|############6                         | 2/6 [00:01<00:03,  1.21it/s]\u001b[32m[I 2021-07-03 18:00:47,742]\u001b[0m Trial 38 finished with value: 6.1019660967736575 and parameters: {'feature_fraction': 0.52}. Best is trial 38 with value: 6.1019660967736575.\u001b[0m\n",
      "feature_fraction_stage2, val_score: 6.034657:  33%|############6                         | 2/6 [00:01<00:03,  1.21it/s]"
     ]
    },
    {
     "name": "stdout",
     "output_type": "stream",
     "text": [
      "[400]\ttrain's rmse: 3.10947\teval's rmse: 6.13009\n",
      "Early stopping, best iteration is:\n",
      "[322]\ttrain's rmse: 3.42994\teval's rmse: 6.10197\n",
      "Training until validation scores don't improve for 100 rounds\n",
      "[100]\ttrain's rmse: 5.03581\teval's rmse: 6.29794\n",
      "[200]\ttrain's rmse: 4.06791\teval's rmse: 6.15907\n",
      "[300]\ttrain's rmse: 3.50938\teval's rmse: 6.11433\n",
      "[400]\ttrain's rmse: 3.09813\teval's rmse: 6.16195\n",
      "Early stopping, best iteration is:\n",
      "[307]\ttrain's rmse: 3.47867\teval's rmse: 6.10643\n"
     ]
    },
    {
     "name": "stderr",
     "output_type": "stream",
     "text": [
      "feature_fraction_stage2, val_score: 6.034657:  50%|###################                   | 3/6 [00:02<00:02,  1.17it/s]\u001b[32m[I 2021-07-03 18:00:48,638]\u001b[0m Trial 39 finished with value: 6.106432975734115 and parameters: {'feature_fraction': 0.552}. Best is trial 38 with value: 6.1019660967736575.\u001b[0m\n",
      "feature_fraction_stage2, val_score: 6.034657:  50%|###################                   | 3/6 [00:02<00:02,  1.17it/s]"
     ]
    },
    {
     "name": "stdout",
     "output_type": "stream",
     "text": [
      "Training until validation scores don't improve for 100 rounds\n",
      "[100]\ttrain's rmse: 4.96194\teval's rmse: 6.27339\n",
      "[200]\ttrain's rmse: 3.97408\teval's rmse: 6.13055\n",
      "[300]\ttrain's rmse: 3.39242\teval's rmse: 6.09883\n",
      "Early stopping, best iteration is:\n",
      "[289]\ttrain's rmse: 3.44968\teval's rmse: 6.08511\n"
     ]
    },
    {
     "name": "stderr",
     "output_type": "stream",
     "text": [
      "feature_fraction_stage2, val_score: 6.034657:  67%|#########################3            | 4/6 [00:03<00:01,  1.21it/s]\u001b[32m[I 2021-07-03 18:00:49,421]\u001b[0m Trial 40 finished with value: 6.085109902920595 and parameters: {'feature_fraction': 0.6799999999999999}. Best is trial 40 with value: 6.085109902920595.\u001b[0m\n",
      "feature_fraction_stage2, val_score: 6.034657:  67%|#########################3            | 4/6 [00:03<00:01,  1.21it/s]"
     ]
    },
    {
     "name": "stdout",
     "output_type": "stream",
     "text": [
      "Training until validation scores don't improve for 100 rounds\n",
      "[100]\ttrain's rmse: 4.9689\teval's rmse: 6.29854\n",
      "[200]\ttrain's rmse: 3.98119\teval's rmse: 6.14651\n"
     ]
    },
    {
     "name": "stderr",
     "output_type": "stream",
     "text": [
      "\r",
      "feature_fraction_stage2, val_score: 6.034657:  67%|#########################3            | 4/6 [00:04<00:01,  1.21it/s]"
     ]
    },
    {
     "name": "stdout",
     "output_type": "stream",
     "text": [
      "[300]\ttrain's rmse: 3.40111\teval's rmse: 6.11553\n",
      "Early stopping, best iteration is:\n",
      "[268]\ttrain's rmse: 3.56625\teval's rmse: 6.10208\n"
     ]
    },
    {
     "name": "stderr",
     "output_type": "stream",
     "text": [
      "feature_fraction_stage2, val_score: 6.034657:  83%|###############################6      | 5/6 [00:04<00:00,  1.23it/s]\u001b[32m[I 2021-07-03 18:00:50,209]\u001b[0m Trial 41 finished with value: 6.102083415981634 and parameters: {'feature_fraction': 0.6479999999999999}. Best is trial 40 with value: 6.085109902920595.\u001b[0m\n",
      "feature_fraction_stage2, val_score: 6.034657:  83%|###############################6      | 5/6 [00:04<00:00,  1.23it/s]"
     ]
    },
    {
     "name": "stdout",
     "output_type": "stream",
     "text": [
      "Training until validation scores don't improve for 100 rounds\n",
      "[100]\ttrain's rmse: 4.96565\teval's rmse: 6.27348\n",
      "[200]\ttrain's rmse: 4.00988\teval's rmse: 6.15267\n"
     ]
    },
    {
     "name": "stderr",
     "output_type": "stream",
     "text": [
      "feature_fraction_stage2, val_score: 6.034657: 100%|######################################| 6/6 [00:04<00:00,  1.27it/s]\u001b[32m[I 2021-07-03 18:00:50,947]\u001b[0m Trial 42 finished with value: 6.115288746491353 and parameters: {'feature_fraction': 0.616}. Best is trial 40 with value: 6.085109902920595.\u001b[0m\n",
      "feature_fraction_stage2, val_score: 6.034657: 100%|######################################| 6/6 [00:04<00:00,  1.24it/s]"
     ]
    },
    {
     "name": "stdout",
     "output_type": "stream",
     "text": [
      "[300]\ttrain's rmse: 3.45478\teval's rmse: 6.11805\n",
      "Early stopping, best iteration is:\n",
      "[283]\ttrain's rmse: 3.53802\teval's rmse: 6.11529\n"
     ]
    },
    {
     "name": "stderr",
     "output_type": "stream",
     "text": [
      "\n",
      "regularization_factors, val_score: 6.034657:   0%|                                              | 0/20 [00:00<?, ?it/s]"
     ]
    },
    {
     "name": "stdout",
     "output_type": "stream",
     "text": [
      "Training until validation scores don't improve for 100 rounds\n",
      "[100]\ttrain's rmse: 4.98438\teval's rmse: 6.31178\n",
      "[200]\ttrain's rmse: 4.00747\teval's rmse: 6.16615\n",
      "[300]\ttrain's rmse: 3.45058\teval's rmse: 6.1166\n"
     ]
    },
    {
     "name": "stderr",
     "output_type": "stream",
     "text": [
      "regularization_factors, val_score: 6.034657:   5%|#9                                    | 1/20 [00:00<00:13,  1.44it/s]\u001b[32m[I 2021-07-03 18:00:51,657]\u001b[0m Trial 43 finished with value: 6.103565144325532 and parameters: {'lambda_l1': 0.001334452987965108, 'lambda_l2': 0.019689897039408814}. Best is trial 43 with value: 6.103565144325532.\u001b[0m\n",
      "regularization_factors, val_score: 6.034657:   5%|#9                                    | 1/20 [00:00<00:13,  1.44it/s]"
     ]
    },
    {
     "name": "stdout",
     "output_type": "stream",
     "text": [
      "Early stopping, best iteration is:\n",
      "[289]\ttrain's rmse: 3.50101\teval's rmse: 6.10357\n",
      "Training until validation scores don't improve for 100 rounds\n",
      "[100]\ttrain's rmse: 4.97328\teval's rmse: 6.2243\n",
      "[200]\ttrain's rmse: 4.00752\teval's rmse: 6.08847\n"
     ]
    },
    {
     "name": "stderr",
     "output_type": "stream",
     "text": [
      "\r",
      "regularization_factors, val_score: 6.034657:   5%|#9                                    | 1/20 [00:01<00:13,  1.44it/s]"
     ]
    },
    {
     "name": "stdout",
     "output_type": "stream",
     "text": [
      "[300]\ttrain's rmse: 3.44785\teval's rmse: 6.04045\n",
      "[400]\ttrain's rmse: 3.03077\teval's rmse: 6.10542\n",
      "Early stopping, best iteration is:\n",
      "[305]\ttrain's rmse: 3.42361\teval's rmse: 6.03466\n"
     ]
    },
    {
     "name": "stderr",
     "output_type": "stream",
     "text": [
      "regularization_factors, val_score: 6.034657:  10%|###8                                  | 2/20 [00:01<00:12,  1.41it/s]\u001b[32m[I 2021-07-03 18:00:52,379]\u001b[0m Trial 44 finished with value: 6.034657108715652 and parameters: {'lambda_l1': 2.8994924849762056e-08, 'lambda_l2': 1.2766127135267533e-08}. Best is trial 44 with value: 6.034657108715652.\u001b[0m\n",
      "regularization_factors, val_score: 6.034657:  10%|###8                                  | 2/20 [00:01<00:12,  1.41it/s]"
     ]
    },
    {
     "name": "stdout",
     "output_type": "stream",
     "text": [
      "Training until validation scores don't improve for 100 rounds\n",
      "[100]\ttrain's rmse: 4.97328\teval's rmse: 6.2243\n",
      "[200]\ttrain's rmse: 4.00752\teval's rmse: 6.08847\n",
      "[300]\ttrain's rmse: 3.45619\teval's rmse: 6.07271\n"
     ]
    },
    {
     "name": "stderr",
     "output_type": "stream",
     "text": [
      "regularization_factors, val_score: 6.034657:  15%|#####7                                | 3/20 [00:02<00:12,  1.39it/s]\u001b[32m[I 2021-07-03 18:00:53,123]\u001b[0m Trial 45 finished with value: 6.050233347282625 and parameters: {'lambda_l1': 2.5851377131348963e-06, 'lambda_l2': 1.3151354927450511e-05}. Best is trial 44 with value: 6.034657108715652.\u001b[0m\n",
      "regularization_factors, val_score: 6.034657:  15%|#####7                                | 3/20 [00:02<00:12,  1.39it/s]"
     ]
    },
    {
     "name": "stdout",
     "output_type": "stream",
     "text": [
      "Early stopping, best iteration is:\n",
      "[270]\ttrain's rmse: 3.6071\teval's rmse: 6.05023\n",
      "Training until validation scores don't improve for 100 rounds\n",
      "[100]\ttrain's rmse: 5.06525\teval's rmse: 6.318\n",
      "[200]\ttrain's rmse: 4.11789\teval's rmse: 6.1312\n"
     ]
    },
    {
     "name": "stderr",
     "output_type": "stream",
     "text": [
      "regularization_factors, val_score: 6.034657:  20%|#######6                              | 4/20 [00:02<00:11,  1.43it/s]\u001b[32m[I 2021-07-03 18:00:53,797]\u001b[0m Trial 46 finished with value: 6.084899096719946 and parameters: {'lambda_l1': 5.030571934864784, 'lambda_l2': 0.010572353103354843}. Best is trial 44 with value: 6.034657108715652.\u001b[0m\n"
     ]
    },
    {
     "name": "stdout",
     "output_type": "stream",
     "text": [
      "[300]\ttrain's rmse: 3.58283\teval's rmse: 6.09048\n",
      "Early stopping, best iteration is:\n",
      "[289]\ttrain's rmse: 3.63368\teval's rmse: 6.0849\n"
     ]
    },
    {
     "name": "stderr",
     "output_type": "stream",
     "text": [
      "\r",
      "regularization_factors, val_score: 6.034657:  20%|#######6                              | 4/20 [00:02<00:11,  1.43it/s]"
     ]
    },
    {
     "name": "stdout",
     "output_type": "stream",
     "text": [
      "Training until validation scores don't improve for 100 rounds\n",
      "[100]\ttrain's rmse: 4.97328\teval's rmse: 6.2243\n",
      "[200]\ttrain's rmse: 4.00752\teval's rmse: 6.08847\n"
     ]
    },
    {
     "name": "stderr",
     "output_type": "stream",
     "text": [
      "\r",
      "regularization_factors, val_score: 6.034657:  20%|#######6                              | 4/20 [00:03<00:11,  1.43it/s]"
     ]
    },
    {
     "name": "stdout",
     "output_type": "stream",
     "text": [
      "[300]\ttrain's rmse: 3.45619\teval's rmse: 6.07271\n",
      "Early stopping, best iteration is:\n",
      "[270]\ttrain's rmse: 3.6071\teval's rmse: 6.05023\n"
     ]
    },
    {
     "name": "stderr",
     "output_type": "stream",
     "text": [
      "regularization_factors, val_score: 6.034657:  25%|#########5                            | 5/20 [00:03<00:12,  1.19it/s]\u001b[32m[I 2021-07-03 18:00:54,874]\u001b[0m Trial 47 finished with value: 6.050233389303753 and parameters: {'lambda_l1': 4.5885306390228793e-07, 'lambda_l2': 3.8981165153528454e-08}. Best is trial 44 with value: 6.034657108715652.\u001b[0m\n",
      "regularization_factors, val_score: 6.034657:  25%|#########5                            | 5/20 [00:03<00:12,  1.19it/s]"
     ]
    },
    {
     "name": "stdout",
     "output_type": "stream",
     "text": [
      "Training until validation scores don't improve for 100 rounds\n",
      "[100]\ttrain's rmse: 4.96877\teval's rmse: 6.23282\n",
      "[200]\ttrain's rmse: 3.99746\teval's rmse: 6.10199\n",
      "[300]\ttrain's rmse: 3.44278\teval's rmse: 6.08525\n"
     ]
    },
    {
     "name": "stderr",
     "output_type": "stream",
     "text": [
      "regularization_factors, val_score: 6.034657:  30%|###########4                          | 6/20 [00:04<00:11,  1.26it/s]\u001b[32m[I 2021-07-03 18:00:55,573]\u001b[0m Trial 48 finished with value: 6.0644882094806505 and parameters: {'lambda_l1': 0.00011393793038705312, 'lambda_l2': 2.889209675435211e-06}. Best is trial 44 with value: 6.034657108715652.\u001b[0m\n",
      "regularization_factors, val_score: 6.034657:  30%|###########4                          | 6/20 [00:04<00:11,  1.26it/s]"
     ]
    },
    {
     "name": "stdout",
     "output_type": "stream",
     "text": [
      "Early stopping, best iteration is:\n",
      "[277]\ttrain's rmse: 3.55282\teval's rmse: 6.06449\n",
      "Training until validation scores don't improve for 100 rounds\n",
      "[100]\ttrain's rmse: 4.97581\teval's rmse: 6.27008\n",
      "[200]\ttrain's rmse: 4.00933\teval's rmse: 6.11007\n",
      "[300]\ttrain's rmse: 3.45036\teval's rmse: 6.0707\n"
     ]
    },
    {
     "name": "stderr",
     "output_type": "stream",
     "text": [
      "regularization_factors, val_score: 6.034657:  35%|#############3                        | 7/20 [00:05<00:11,  1.15it/s]\u001b[32m[I 2021-07-03 18:00:56,606]\u001b[0m Trial 49 finished with value: 6.0667240389673776 and parameters: {'lambda_l1': 3.571194262804076e-08, 'lambda_l2': 0.05020909799350944}. Best is trial 44 with value: 6.034657108715652.\u001b[0m\n",
      "regularization_factors, val_score: 6.034657:  35%|#############3                        | 7/20 [00:05<00:11,  1.15it/s]"
     ]
    },
    {
     "name": "stdout",
     "output_type": "stream",
     "text": [
      "Early stopping, best iteration is:\n",
      "[295]\ttrain's rmse: 3.47333\teval's rmse: 6.06672\n",
      "Training until validation scores don't improve for 100 rounds\n",
      "[100]\ttrain's rmse: 4.9984\teval's rmse: 6.2732\n",
      "[200]\ttrain's rmse: 4.02228\teval's rmse: 6.11229\n",
      "[300]\ttrain's rmse: 3.46109\teval's rmse: 6.07005\n"
     ]
    },
    {
     "name": "stderr",
     "output_type": "stream",
     "text": [
      "regularization_factors, val_score: 6.034657:  40%|###############2                      | 8/20 [00:06<00:10,  1.12it/s]\u001b[32m[I 2021-07-03 18:00:57,551]\u001b[0m Trial 50 finished with value: 6.064812380287595 and parameters: {'lambda_l1': 0.00023428969577699021, 'lambda_l2': 0.05994802180255128}. Best is trial 44 with value: 6.034657108715652.\u001b[0m\n",
      "regularization_factors, val_score: 6.034657:  40%|###############2                      | 8/20 [00:06<00:10,  1.12it/s]"
     ]
    },
    {
     "name": "stdout",
     "output_type": "stream",
     "text": [
      "[400]\ttrain's rmse: 3.03446\teval's rmse: 6.11815\n",
      "Early stopping, best iteration is:\n",
      "[305]\ttrain's rmse: 3.43415\teval's rmse: 6.06481\n",
      "Training until validation scores don't improve for 100 rounds\n",
      "[100]\ttrain's rmse: 4.98085\teval's rmse: 6.30179\n",
      "[200]\ttrain's rmse: 4.02292\teval's rmse: 6.18593\n",
      "[300]\ttrain's rmse: 3.45893\teval's rmse: 6.1301\n"
     ]
    },
    {
     "name": "stderr",
     "output_type": "stream",
     "text": [
      "regularization_factors, val_score: 6.034657:  45%|#################1                    | 9/20 [00:07<00:10,  1.00it/s]\u001b[32m[I 2021-07-03 18:00:58,780]\u001b[0m Trial 51 finished with value: 6.126590569272972 and parameters: {'lambda_l1': 4.127560478456462e-08, 'lambda_l2': 0.26550375931744274}. Best is trial 44 with value: 6.034657108715652.\u001b[0m\n",
      "regularization_factors, val_score: 6.034657:  45%|#################1                    | 9/20 [00:07<00:10,  1.00it/s]"
     ]
    },
    {
     "name": "stdout",
     "output_type": "stream",
     "text": [
      "[400]\ttrain's rmse: 3.04168\teval's rmse: 6.16196\n",
      "Early stopping, best iteration is:\n",
      "[305]\ttrain's rmse: 3.4351\teval's rmse: 6.12659\n",
      "Training until validation scores don't improve for 100 rounds\n",
      "[100]\ttrain's rmse: 4.97609\teval's rmse: 6.26769\n",
      "[200]\ttrain's rmse: 4.00612\teval's rmse: 6.10047\n"
     ]
    },
    {
     "name": "stderr",
     "output_type": "stream",
     "text": [
      "regularization_factors, val_score: 6.034657:  50%|##################5                  | 10/20 [00:08<00:08,  1.12it/s]\u001b[32m[I 2021-07-03 18:00:59,427]\u001b[0m Trial 52 finished with value: 6.081897002515096 and parameters: {'lambda_l1': 0.0009752042077356091, 'lambda_l2': 0.04959137310365236}. Best is trial 44 with value: 6.034657108715652.\u001b[0m\n",
      "regularization_factors, val_score: 6.034657:  50%|##################5                  | 10/20 [00:08<00:08,  1.12it/s]"
     ]
    },
    {
     "name": "stdout",
     "output_type": "stream",
     "text": [
      "[300]\ttrain's rmse: 3.44422\teval's rmse: 6.11076\n",
      "Early stopping, best iteration is:\n",
      "[222]\ttrain's rmse: 3.86134\teval's rmse: 6.0819\n",
      "Training until validation scores don't improve for 100 rounds\n",
      "[100]\ttrain's rmse: 5.01176\teval's rmse: 6.30336\n",
      "[200]\ttrain's rmse: 4.0456\teval's rmse: 6.17245\n",
      "[300]\ttrain's rmse: 3.50962\teval's rmse: 6.14075\n",
      "[400]\ttrain's rmse: 3.09336\teval's rmse: 6.18713\n",
      "Early stopping, best iteration is:\n",
      "[302]\ttrain's rmse: 3.49973\teval's rmse: 6.13998\n"
     ]
    },
    {
     "name": "stderr",
     "output_type": "stream",
     "text": [
      "regularization_factors, val_score: 6.034657:  55%|####################3                | 11/20 [00:09<00:07,  1.17it/s]\u001b[32m[I 2021-07-03 18:01:00,193]\u001b[0m Trial 53 finished with value: 6.139977042152771 and parameters: {'lambda_l1': 1.5590970406056779, 'lambda_l2': 1.7758995239117648e-08}. Best is trial 44 with value: 6.034657108715652.\u001b[0m\n",
      "regularization_factors, val_score: 6.034657:  55%|####################3                | 11/20 [00:09<00:07,  1.17it/s]"
     ]
    },
    {
     "name": "stdout",
     "output_type": "stream",
     "text": [
      "Training until validation scores don't improve for 100 rounds\n",
      "[100]\ttrain's rmse: 4.97328\teval's rmse: 6.2243\n",
      "[200]\ttrain's rmse: 4.00752\teval's rmse: 6.08847\n",
      "[300]\ttrain's rmse: 3.45619\teval's rmse: 6.07271\n"
     ]
    },
    {
     "name": "stderr",
     "output_type": "stream",
     "text": [
      "regularization_factors, val_score: 6.034657:  60%|######################2              | 12/20 [00:09<00:06,  1.26it/s]\u001b[32m[I 2021-07-03 18:01:00,856]\u001b[0m Trial 54 finished with value: 6.050233343383152 and parameters: {'lambda_l1': 1.847124037684651e-06, 'lambda_l2': 1.5336448642620335e-05}. Best is trial 44 with value: 6.034657108715652.\u001b[0m\n",
      "regularization_factors, val_score: 6.034657:  60%|######################2              | 12/20 [00:09<00:06,  1.26it/s]"
     ]
    },
    {
     "name": "stdout",
     "output_type": "stream",
     "text": [
      "Early stopping, best iteration is:\n",
      "[270]\ttrain's rmse: 3.6071\teval's rmse: 6.05023\n",
      "Training until validation scores don't improve for 100 rounds\n",
      "[100]\ttrain's rmse: 4.97328\teval's rmse: 6.2243\n",
      "[200]\ttrain's rmse: 4.00752\teval's rmse: 6.08847\n"
     ]
    },
    {
     "name": "stderr",
     "output_type": "stream",
     "text": [
      "regularization_factors, val_score: 6.034657:  65%|########################             | 13/20 [00:10<00:05,  1.32it/s]\u001b[32m[I 2021-07-03 18:01:01,515]\u001b[0m Trial 55 finished with value: 6.050233378314574 and parameters: {'lambda_l1': 4.893146691066703e-06, 'lambda_l2': 1.1553026198041426e-06}. Best is trial 44 with value: 6.034657108715652.\u001b[0m\n",
      "regularization_factors, val_score: 6.034657:  65%|########################             | 13/20 [00:10<00:05,  1.32it/s]"
     ]
    },
    {
     "name": "stdout",
     "output_type": "stream",
     "text": [
      "[300]\ttrain's rmse: 3.45619\teval's rmse: 6.07271\n",
      "Early stopping, best iteration is:\n",
      "[270]\ttrain's rmse: 3.6071\teval's rmse: 6.05023\n",
      "Training until validation scores don't improve for 100 rounds\n",
      "[100]\ttrain's rmse: 4.97463\teval's rmse: 6.28404\n",
      "[200]\ttrain's rmse: 4.01254\teval's rmse: 6.13887\n",
      "[300]\ttrain's rmse: 3.44863\teval's rmse: 6.1283\n",
      "Early stopping, best iteration is:\n",
      "[216]\ttrain's rmse: 3.90745\teval's rmse: 6.11837\n"
     ]
    },
    {
     "name": "stderr",
     "output_type": "stream",
     "text": [
      "regularization_factors, val_score: 6.034657:  70%|#########################9           | 14/20 [00:11<00:04,  1.41it/s]\u001b[32m[I 2021-07-03 18:01:02,117]\u001b[0m Trial 56 finished with value: 6.118368682689774 and parameters: {'lambda_l1': 1.7577500799795362e-08, 'lambda_l2': 0.00014006566549891103}. Best is trial 44 with value: 6.034657108715652.\u001b[0m\n",
      "regularization_factors, val_score: 6.034657:  70%|#########################9           | 14/20 [00:11<00:04,  1.41it/s]"
     ]
    },
    {
     "name": "stdout",
     "output_type": "stream",
     "text": [
      "Training until validation scores don't improve for 100 rounds\n",
      "[100]\ttrain's rmse: 5.39697\teval's rmse: 6.42003\n",
      "[200]\ttrain's rmse: 4.3577\teval's rmse: 6.16273\n",
      "[300]\ttrain's rmse: 3.79557\teval's rmse: 6.12897\n"
     ]
    },
    {
     "name": "stderr",
     "output_type": "stream",
     "text": [
      "regularization_factors, val_score: 6.034657:  75%|###########################7         | 15/20 [00:11<00:03,  1.40it/s]\u001b[32m[I 2021-07-03 18:01:02,834]\u001b[0m Trial 57 finished with value: 6.1183110075666525 and parameters: {'lambda_l1': 5.830833843068339e-07, 'lambda_l2': 9.417219024499227}. Best is trial 44 with value: 6.034657108715652.\u001b[0m\n",
      "regularization_factors, val_score: 6.034657:  75%|###########################7         | 15/20 [00:11<00:03,  1.40it/s]"
     ]
    },
    {
     "name": "stdout",
     "output_type": "stream",
     "text": [
      "[400]\ttrain's rmse: 3.38329\teval's rmse: 6.13774\n",
      "Early stopping, best iteration is:\n",
      "[318]\ttrain's rmse: 3.70852\teval's rmse: 6.11831\n",
      "Training until validation scores don't improve for 100 rounds\n",
      "[100]\ttrain's rmse: 4.96877\teval's rmse: 6.23282\n",
      "[200]\ttrain's rmse: 3.99746\teval's rmse: 6.10199\n",
      "[300]\ttrain's rmse: 3.44278\teval's rmse: 6.08525\n"
     ]
    },
    {
     "name": "stderr",
     "output_type": "stream",
     "text": [
      "regularization_factors, val_score: 6.034657:  80%|#############################6       | 16/20 [00:12<00:03,  1.22it/s]\u001b[32m[I 2021-07-03 18:01:03,900]\u001b[0m Trial 58 finished with value: 6.064488390115732 and parameters: {'lambda_l1': 2.3485861688074982e-05, 'lambda_l2': 1.4141542521972258e-07}. Best is trial 44 with value: 6.034657108715652.\u001b[0m\n",
      "regularization_factors, val_score: 6.034657:  80%|#############################6       | 16/20 [00:12<00:03,  1.22it/s]"
     ]
    },
    {
     "name": "stdout",
     "output_type": "stream",
     "text": [
      "Early stopping, best iteration is:\n",
      "[277]\ttrain's rmse: 3.55281\teval's rmse: 6.06449\n",
      "Training until validation scores don't improve for 100 rounds\n",
      "[100]\ttrain's rmse: 4.97405\teval's rmse: 6.31904\n",
      "[200]\ttrain's rmse: 4.0031\teval's rmse: 6.16305\n"
     ]
    },
    {
     "name": "stderr",
     "output_type": "stream",
     "text": [
      "\r",
      "regularization_factors, val_score: 6.034657:  80%|#############################6       | 16/20 [00:13<00:03,  1.22it/s]"
     ]
    },
    {
     "name": "stdout",
     "output_type": "stream",
     "text": [
      "[300]\ttrain's rmse: 3.44998\teval's rmse: 6.10971\n",
      "[400]\ttrain's rmse: 3.03905\teval's rmse: 6.15844\n",
      "Early stopping, best iteration is:\n",
      "[303]\ttrain's rmse: 3.4332\teval's rmse: 6.10821\n"
     ]
    },
    {
     "name": "stderr",
     "output_type": "stream",
     "text": [
      "regularization_factors, val_score: 6.034657:  85%|###############################4     | 17/20 [00:13<00:02,  1.24it/s]\u001b[32m[I 2021-07-03 18:01:04,677]\u001b[0m Trial 59 finished with value: 6.1082080721034915 and parameters: {'lambda_l1': 0.02796345921477666, 'lambda_l2': 0.00041476678669582383}. Best is trial 44 with value: 6.034657108715652.\u001b[0m\n",
      "regularization_factors, val_score: 6.034657:  85%|###############################4     | 17/20 [00:13<00:02,  1.24it/s]"
     ]
    },
    {
     "name": "stdout",
     "output_type": "stream",
     "text": [
      "Training until validation scores don't improve for 100 rounds\n",
      "[100]\ttrain's rmse: 4.97463\teval's rmse: 6.28404\n"
     ]
    },
    {
     "name": "stderr",
     "output_type": "stream",
     "text": [
      "\r",
      "regularization_factors, val_score: 6.034657:  85%|###############################4     | 17/20 [00:14<00:02,  1.24it/s]"
     ]
    },
    {
     "name": "stdout",
     "output_type": "stream",
     "text": [
      "[200]\ttrain's rmse: 4.01254\teval's rmse: 6.13887\n",
      "[300]\ttrain's rmse: 3.44863\teval's rmse: 6.1283\n",
      "Early stopping, best iteration is:\n",
      "[216]\ttrain's rmse: 3.90745\teval's rmse: 6.11837\n"
     ]
    },
    {
     "name": "stderr",
     "output_type": "stream",
     "text": [
      "regularization_factors, val_score: 6.034657:  90%|#################################3   | 18/20 [00:14<00:01,  1.36it/s]\u001b[32m[I 2021-07-03 18:01:05,242]\u001b[0m Trial 60 finished with value: 6.118368469534182 and parameters: {'lambda_l1': 2.94981241837046e-07, 'lambda_l2': 0.000224370389385807}. Best is trial 44 with value: 6.034657108715652.\u001b[0m\n",
      "regularization_factors, val_score: 6.034657:  90%|#################################3   | 18/20 [00:14<00:01,  1.36it/s]"
     ]
    },
    {
     "name": "stdout",
     "output_type": "stream",
     "text": [
      "Training until validation scores don't improve for 100 rounds\n",
      "[100]\ttrain's rmse: 4.97328\teval's rmse: 6.2243\n",
      "[200]\ttrain's rmse: 4.00752\teval's rmse: 6.08847\n",
      "[300]\ttrain's rmse: 3.44785\teval's rmse: 6.04045\n"
     ]
    },
    {
     "name": "stderr",
     "output_type": "stream",
     "text": [
      "regularization_factors, val_score: 6.034657:  95%|###################################1 | 19/20 [00:15<00:00,  1.37it/s]\u001b[32m[I 2021-07-03 18:01:05,968]\u001b[0m Trial 61 finished with value: 6.034657106508442 and parameters: {'lambda_l1': 1.4031509247728255e-08, 'lambda_l2': 3.8273313815165314e-07}. Best is trial 61 with value: 6.034657106508442.\u001b[0m\n",
      "regularization_factors, val_score: 6.034657:  95%|###################################1 | 19/20 [00:15<00:00,  1.37it/s]"
     ]
    },
    {
     "name": "stdout",
     "output_type": "stream",
     "text": [
      "[400]\ttrain's rmse: 3.03077\teval's rmse: 6.10542\n",
      "Early stopping, best iteration is:\n",
      "[305]\ttrain's rmse: 3.42361\teval's rmse: 6.03466\n",
      "Training until validation scores don't improve for 100 rounds\n",
      "[100]\ttrain's rmse: 4.97328\teval's rmse: 6.2243\n",
      "[200]\ttrain's rmse: 4.00752\teval's rmse: 6.08847\n"
     ]
    },
    {
     "name": "stderr",
     "output_type": "stream",
     "text": [
      "\r",
      "regularization_factors, val_score: 6.034657:  95%|###################################1 | 19/20 [00:15<00:00,  1.37it/s]"
     ]
    },
    {
     "name": "stdout",
     "output_type": "stream",
     "text": [
      "[300]\ttrain's rmse: 3.44785\teval's rmse: 6.04045\n",
      "[400]\ttrain's rmse: 3.03077\teval's rmse: 6.10542\n",
      "Early stopping, best iteration is:\n",
      "[305]\ttrain's rmse: 3.42361\teval's rmse: 6.03466\n"
     ]
    },
    {
     "name": "stderr",
     "output_type": "stream",
     "text": [
      "regularization_factors, val_score: 6.034657: 100%|#####################################| 20/20 [00:15<00:00,  1.38it/s]\u001b[32m[I 2021-07-03 18:01:06,690]\u001b[0m Trial 62 finished with value: 6.034657107207661 and parameters: {'lambda_l1': 1.021105696905027e-08, 'lambda_l2': 2.353603891113831e-07}. Best is trial 61 with value: 6.034657106508442.\u001b[0m\n",
      "regularization_factors, val_score: 6.034657: 100%|#####################################| 20/20 [00:15<00:00,  1.27it/s]\n",
      "min_data_in_leaf, val_score: 6.034657:   0%|                                                     | 0/5 [00:00<?, ?it/s]"
     ]
    },
    {
     "name": "stdout",
     "output_type": "stream",
     "text": [
      "Training until validation scores don't improve for 100 rounds\n",
      "[100]\ttrain's rmse: 7.07058\teval's rmse: 7.29486\n",
      "[200]\ttrain's rmse: 6.43553\teval's rmse: 6.97614\n",
      "[300]\ttrain's rmse: 6.04842\teval's rmse: 6.77698\n",
      "[400]\ttrain's rmse: 5.75326\teval's rmse: 6.70323\n",
      "[500]\ttrain's rmse: 5.53271\teval's rmse: 6.64529\n"
     ]
    },
    {
     "name": "stderr",
     "output_type": "stream",
     "text": [
      "min_data_in_leaf, val_score: 6.034657:  20%|#########                                    | 1/5 [00:00<00:02,  1.49it/s]\u001b[32m[I 2021-07-03 18:01:07,370]\u001b[0m Trial 63 finished with value: 6.621713165090794 and parameters: {'min_child_samples': 100}. Best is trial 63 with value: 6.621713165090794.\u001b[0m\n",
      "min_data_in_leaf, val_score: 6.034657:  20%|#########                                    | 1/5 [00:00<00:02,  1.49it/s]"
     ]
    },
    {
     "name": "stdout",
     "output_type": "stream",
     "text": [
      "[600]\ttrain's rmse: 5.33509\teval's rmse: 6.63178\n",
      "Early stopping, best iteration is:\n",
      "[563]\ttrain's rmse: 5.40528\teval's rmse: 6.62171\n",
      "Training until validation scores don't improve for 100 rounds\n",
      "[100]\ttrain's rmse: 5.16117\teval's rmse: 6.44729\n",
      "[200]\ttrain's rmse: 4.19946\teval's rmse: 6.2624\n",
      "[300]\ttrain's rmse: 3.63779\teval's rmse: 6.24268\n"
     ]
    },
    {
     "name": "stderr",
     "output_type": "stream",
     "text": [
      "min_data_in_leaf, val_score: 6.034657:  40%|##################                           | 2/5 [00:01<00:02,  1.21it/s]\u001b[32m[I 2021-07-03 18:01:08,305]\u001b[0m Trial 64 finished with value: 6.238992635787175 and parameters: {'min_child_samples': 25}. Best is trial 64 with value: 6.238992635787175.\u001b[0m\n",
      "min_data_in_leaf, val_score: 6.034657:  40%|##################                           | 2/5 [00:01<00:02,  1.21it/s]"
     ]
    },
    {
     "name": "stdout",
     "output_type": "stream",
     "text": [
      "[400]\ttrain's rmse: 3.21643\teval's rmse: 6.29287\n",
      "Early stopping, best iteration is:\n",
      "[305]\ttrain's rmse: 3.61347\teval's rmse: 6.23899\n",
      "Training until validation scores don't improve for 100 rounds\n",
      "[100]\ttrain's rmse: 4.71678\teval's rmse: 6.18889\n",
      "[200]\ttrain's rmse: 3.68912\teval's rmse: 6.04956\n",
      "[300]\ttrain's rmse: 3.08352\teval's rmse: 6.03636"
     ]
    },
    {
     "name": "stderr",
     "output_type": "stream",
     "text": [
      "min_data_in_leaf, val_score: 6.022337:  60%|###########################                  | 3/5 [00:02<00:01,  1.12it/s]\u001b[32m[I 2021-07-03 18:01:09,275]\u001b[0m Trial 65 finished with value: 6.022336656639303 and parameters: {'min_child_samples': 10}. Best is trial 65 with value: 6.022336656639303.\u001b[0m\n",
      "min_data_in_leaf, val_score: 6.022337:  60%|###########################                  | 3/5 [00:02<00:01,  1.12it/s]"
     ]
    },
    {
     "name": "stdout",
     "output_type": "stream",
     "text": [
      "\n",
      "Early stopping, best iteration is:\n",
      "[224]\ttrain's rmse: 3.52653\teval's rmse: 6.02234\n",
      "Training until validation scores don't improve for 100 rounds\n",
      "[100]\ttrain's rmse: 4.53986\teval's rmse: 6.25773\n",
      "[200]\ttrain's rmse: 3.45638\teval's rmse: 6.12254\n"
     ]
    },
    {
     "name": "stderr",
     "output_type": "stream",
     "text": [
      "\r",
      "min_data_in_leaf, val_score: 6.022337:  60%|###########################                  | 3/5 [00:03<00:01,  1.12it/s]"
     ]
    },
    {
     "name": "stdout",
     "output_type": "stream",
     "text": [
      "[300]\ttrain's rmse: 2.79849\teval's rmse: 6.10146\n",
      "Early stopping, best iteration is:\n",
      "[288]\ttrain's rmse: 2.86161\teval's rmse: 6.08657\n"
     ]
    },
    {
     "name": "stderr",
     "output_type": "stream",
     "text": [
      "min_data_in_leaf, val_score: 6.022337:  80%|####################################         | 4/5 [00:03<00:00,  1.20it/s]\u001b[32m[I 2021-07-03 18:01:10,016]\u001b[0m Trial 66 finished with value: 6.086566143621794 and parameters: {'min_child_samples': 5}. Best is trial 65 with value: 6.022336656639303.\u001b[0m\n",
      "min_data_in_leaf, val_score: 6.022337:  80%|####################################         | 4/5 [00:03<00:00,  1.20it/s]"
     ]
    },
    {
     "name": "stdout",
     "output_type": "stream",
     "text": [
      "Training until validation scores don't improve for 100 rounds\n",
      "[100]\ttrain's rmse: 6.05713\teval's rmse: 6.81053\n",
      "[200]\ttrain's rmse: 5.20547\teval's rmse: 6.52759\n",
      "[300]\ttrain's rmse: 4.69276\teval's rmse: 6.41144\n",
      "[400]\ttrain's rmse: 4.30473\teval's rmse: 6.40835\n",
      "[500]\ttrain's rmse: 4.00624\teval's rmse: 6.3937\n",
      "[600]\ttrain's rmse: 3.757\teval's rmse: 6.39397\n",
      "Early stopping, best iteration is:\n",
      "[553]\ttrain's rmse: 3.87392\teval's rmse: 6.3827\n"
     ]
    },
    {
     "name": "stderr",
     "output_type": "stream",
     "text": [
      "min_data_in_leaf, val_score: 6.022337: 100%|#############################################| 5/5 [00:04<00:00,  1.14it/s]\u001b[32m[I 2021-07-03 18:01:10,984]\u001b[0m Trial 67 finished with value: 6.382700333694658 and parameters: {'min_child_samples': 50}. Best is trial 65 with value: 6.022336656639303.\u001b[0m\n",
      "min_data_in_leaf, val_score: 6.022337: 100%|#############################################| 5/5 [00:04<00:00,  1.17it/s]"
     ]
    },
    {
     "name": "stdout",
     "output_type": "stream",
     "text": [
      "MAE = 4.774961410851771\n",
      "      price_am  price_pm  holiday  year  day     month_cos  month_sin  \\\n",
      "2096  4.198939   4.00588    False  2016   27  6.123234e-17        1.0   \n",
      "2097  3.206965   4.00588    False  2016   28  6.123234e-17        1.0   \n",
      "2098  3.206965   4.00588    False  2016   29  6.123234e-17        1.0   \n",
      "2099  4.198939   4.00588    False  2016   30  6.123234e-17        1.0   \n",
      "2100  4.198939   4.00588    False  2016   31  6.123234e-17        1.0   \n",
      "\n",
      "       day_cos       day_sin  weekday_cos  ...  month_8  month_9  weekday_1  \\\n",
      "2096  0.688967 -7.247928e-01          1.0  ...        0        0          0   \n",
      "2097  0.820763 -5.712682e-01          1.0  ...        0        0          0   \n",
      "2098  0.918958 -3.943559e-01          0.5  ...        0        0          1   \n",
      "2099  0.979530 -2.012985e-01         -0.5  ...        0        0          0   \n",
      "2100  1.000000 -2.449294e-16         -1.0  ...        0        0          0   \n",
      "\n",
      "      weekday_2  weekday_3  weekday_4  weekday_5  weekday_6    svc         lgb  \n",
      "2096          0          0          0          0          1   96.0  102.980477  \n",
      "2097          0          0          0          0          0   86.0   95.368093  \n",
      "2098          0          0          0          0          0   86.0   89.200694  \n",
      "2099          1          0          0          0          0   99.0  103.343833  \n",
      "2100          0          1          0          0          0  105.0   92.208715  \n",
      "\n",
      "[5 rows x 36 columns]\n"
     ]
    },
    {
     "name": "stderr",
     "output_type": "stream",
     "text": [
      "\n"
     ]
    }
   ],
   "source": [
    "svc_mae_result = []\n",
    "lgb_mae_result = []\n",
    "for i in range(0,1):\n",
    "    y_svc_pred, y_svc_test_pred,mae_result = SVC_fit(i)\n",
    "    svc_mae_result.append(mae_result)\n",
    "    print(X_train.tail())\n",
    "    y_lgb_oof_train, y_lgb_preds, mae_result = lightGBM_fit(i)\n",
    "    lgb_mae_result.append(mae_result)\n",
    "    print(X_train.tail())"
   ]
  },
  {
   "cell_type": "code",
   "execution_count": 38,
   "id": "001aa730",
   "metadata": {},
   "outputs": [
    {
     "name": "stdout",
     "output_type": "stream",
     "text": [
      "[5.293193717277487]\n",
      "[4.774961410851771]\n"
     ]
    }
   ],
   "source": [
    "print(svc_mae_result)\n",
    "print(lgb_mae_result)"
   ]
  },
  {
   "cell_type": "code",
   "execution_count": 40,
   "id": "5999828f",
   "metadata": {},
   "outputs": [
    {
     "name": "stdout",
     "output_type": "stream",
     "text": [
      "{'alpha': 7.943282347242366}\n",
      "R^2 = 0.8708768687876076\n",
      "MAE = 4.766535166300885\n"
     ]
    }
   ],
   "source": [
    "params_grid = {\n",
    "    'alpha': 10 ** np.arange(-6, 1, 0.1)\n",
    "}\n",
    "# パラメータチューニング\n",
    "clf = GridSearchCV(\n",
    "    estimator = Ridge(),\n",
    "    param_grid = params_grid,\n",
    "    cv = 5,\n",
    "    scoring='r2',\n",
    "    n_jobs = -1\n",
    "    )\n",
    "# 線形モデルの重みを学習\n",
    "clf.fit(X_train, y_train) \n",
    "\n",
    "# チューニングしたモデル\n",
    "best_param = clf.best_params_\n",
    "ridge_tuned = clf.best_estimator_\n",
    "\n",
    "# 予測値を反映\n",
    "y_ridge_pred = ridge_tuned.predict(X_train) # Trainデータに対して予測\n",
    "y_ridge_test_pred = ridge_tuned.predict(X_test) # Testデータに対して予測\n",
    "\n",
    "#print(\"α = {}\".format(clf.alpha_))\n",
    "#print(\"ω = {}\".format(clf.coef_))\n",
    "#print(\"b = {}\".format(clf.intercept_))\n",
    "print(best_param)\n",
    "print(\"R^2 = {}\".format(clf.score(X_train, y_train)))\n",
    "print(\"MAE = {}\".format(mean_absolute_error(y_train, y_ridge_pred)))"
   ]
  },
  {
   "cell_type": "code",
   "execution_count": 41,
   "id": "1a838e65",
   "metadata": {},
   "outputs": [
    {
     "data": {
      "text/plain": [
       "([16.903333453310452,\n",
       "  16.50831856088652,\n",
       "  15.94529941407971,\n",
       "  15.343935674656132,\n",
       "  14.774217379674624],\n",
       " [16.294754061921846,\n",
       "  15.909585181114064,\n",
       "  15.394931615498095,\n",
       "  14.8226831536435,\n",
       "  14.284921195539328])"
      ]
     },
     "execution_count": 41,
     "metadata": {},
     "output_type": "execute_result"
    }
   ],
   "source": [
    "train_metric = evals_result['train']['rmse']\n",
    "eval_metric = evals_result['eval']['rmse']\n",
    "train_metric[:5], eval_metric[:5]"
   ]
  },
  {
   "cell_type": "code",
   "execution_count": 42,
   "id": "5290973d",
   "metadata": {},
   "outputs": [
    {
     "data": {
      "image/png": "[encoded data removed]",
      "text/plain": [
       "<Figure size 432x288 with 1 Axes>"
      ]
     },
     "metadata": {
      "needs_background": "light"
     },
     "output_type": "display_data"
    }
   ],
   "source": [
    "plt.plot(train_metric, label='train rmse')\n",
    "plt.plot(eval_metric, label='eval rmse')\n",
    "plt.grid()\n",
    "plt.legend()\n",
    "plt.ylim(0, 10)\n",
    "\n",
    "plt.xlabel('rounds')\n",
    "plt.ylabel('rmse')\n",
    "plt.grid(True)\n",
    "plt.show()"
   ]
  },
  {
   "cell_type": "code",
   "execution_count": 43,
   "id": "652a3707",
   "metadata": {},
   "outputs": [],
   "source": [
    "y_total_pred = y_lasso_pred*0.0 + y_ridge_pred*0.0 + y_svc_pred*0.0 + y_lgb_oof_train*1.0"
   ]
  },
  {
   "cell_type": "code",
   "execution_count": 44,
   "id": "a0c4f1b3",
   "metadata": {},
   "outputs": [
    {
     "data": {
      "image/png": "[encoded data removed]",
      "text/plain": [
       "<Figure size 432x288 with 1 Axes>"
      ]
     },
     "metadata": {
      "needs_background": "light"
     },
     "output_type": "display_data"
    }
   ],
   "source": [
    "#plt.scatter(y_train, y_lasso_pred)\n",
    "#plt.scatter(y_train, y_ridge_pred)\n",
    "plt.scatter(y_train, y_svc_pred)\n",
    "plt.scatter(y_train, y_lgb_oof_train)\n",
    "plt.scatter(y_train, y_total_pred)\n",
    "\n",
    "\n",
    "\n",
    "plt.title(\"Prediction vs Valid data for SalePrice\")\n",
    "plt.xlabel(\"Prediction\")\n",
    "plt.ylabel(\"Expected value\")\n",
    "# Fitting line\n",
    "x = np.arange(0, max(y_train))\n",
    "y = x\n",
    "plt.plot(x,y,color='red')\n",
    "\n",
    "# MAE\n",
    "result_mae = mean_absolute_error(y_train, y_total_pred)\n",
    "#result_mae = mean_absolute_error(y_train, y_lgb_oof_train)\n",
    "#result_rmsle = rmsle(y_train.values, y_lgb_oof_train)\n",
    "\n",
    "plt.text(1, max(y_train), 'MAE = {}'.format(result_mae))\n",
    "\n",
    "# Grid on\n",
    "plt.grid(True)"
   ]
  },
  {
   "cell_type": "code",
   "execution_count": 45,
   "id": "693dfd0c",
   "metadata": {},
   "outputs": [],
   "source": [
    "# Average of Prediction data (LightGBM)\n",
    "y_lgb_test_pred = sum(y_lgb_preds)/len(y_lgb_preds)"
   ]
  },
  {
   "cell_type": "code",
   "execution_count": 46,
   "id": "e3d59727",
   "metadata": {},
   "outputs": [],
   "source": [
    "submit_sample[1] = y_lgb_test_pred\n",
    "submit_sample.to_csv('submit.csv',index = False,  header=None)"
   ]
  },
  {
   "cell_type": "code",
   "execution_count": 47,
   "id": "c45c7a2b",
   "metadata": {},
   "outputs": [
    {
     "data": {
      "text/html": [
       "<div>\n",
       "<style scoped>\n",
       "    .dataframe tbody tr th:only-of-type {\n",
       "        vertical-align: middle;\n",
       "    }\n",
       "\n",
       "    .dataframe tbody tr th {\n",
       "        vertical-align: top;\n",
       "    }\n",
       "\n",
       "    .dataframe thead th {\n",
       "        text-align: right;\n",
       "    }\n",
       "</style>\n",
       "<table border=\"1\" class=\"dataframe\">\n",
       "  <thead>\n",
       "    <tr style=\"text-align: right;\">\n",
       "      <th></th>\n",
       "      <th>0</th>\n",
       "      <th>1</th>\n",
       "    </tr>\n",
       "  </thead>\n",
       "  <tbody>\n",
       "    <tr>\n",
       "      <th>0</th>\n",
       "      <td>2016-04-01</td>\n",
       "      <td>71.573696</td>\n",
       "    </tr>\n",
       "    <tr>\n",
       "      <th>1</th>\n",
       "      <td>2016-04-02</td>\n",
       "      <td>63.524904</td>\n",
       "    </tr>\n",
       "    <tr>\n",
       "      <th>2</th>\n",
       "      <td>2016-04-03</td>\n",
       "      <td>62.200230</td>\n",
       "    </tr>\n",
       "    <tr>\n",
       "      <th>3</th>\n",
       "      <td>2016-04-04</td>\n",
       "      <td>58.977760</td>\n",
       "    </tr>\n",
       "    <tr>\n",
       "      <th>4</th>\n",
       "      <td>2016-04-05</td>\n",
       "      <td>55.112398</td>\n",
       "    </tr>\n",
       "  </tbody>\n",
       "</table>\n",
       "</div>"
      ],
      "text/plain": [
       "            0          1\n",
       "0  2016-04-01  71.573696\n",
       "1  2016-04-02  63.524904\n",
       "2  2016-04-03  62.200230\n",
       "3  2016-04-04  58.977760\n",
       "4  2016-04-05  55.112398"
      ]
     },
     "execution_count": 47,
     "metadata": {},
     "output_type": "execute_result"
    }
   ],
   "source": [
    "submit_sample.head()"
   ]
  },
  {
   "cell_type": "code",
   "execution_count": null,
   "id": "096d5a1d",
   "metadata": {},
   "outputs": [],
   "source": []
  }
 ],
 "metadata": {
  "kernelspec": {
   "display_name": "Python 3",
   "language": "python",
   "name": "python3"
  },
  "language_info": {
   "codemirror_mode": {
    "name": "ipython",
    "version": 3
   },
   "file_extension": ".py",
   "mimetype": "text/x-python",
   "name": "python",
   "nbconvert_exporter": "python",
   "pygments_lexer": "ipython3",
   "version": "3.8.8"
  }
 },
 "nbformat": 4,
 "nbformat_minor": 5
}
