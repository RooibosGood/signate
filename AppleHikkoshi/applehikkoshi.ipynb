{
 "cells": [
  {
   "cell_type": "code",
   "execution_count": 1,
   "id": "ed133a50",
   "metadata": {},
   "outputs": [],
   "source": [
    "import numpy as np # linear algebra\n",
    "import pandas as pd # data processing, CSV file I/O (e.g. pd.read_csv)\n",
    "import datetime as dt\n",
    "import seaborn as sns\n",
    "import matplotlib.pyplot as plt\n",
    "import seaborn as sns\n",
    "from scipy.stats import norm\n",
    "import statsmodels.api as sm\n",
    "import scipy.stats as stats\n",
    "from sklearn.metrics import mean_absolute_error"
   ]
  },
  {
   "cell_type": "code",
   "execution_count": 2,
   "id": "90aaf563",
   "metadata": {
    "scrolled": true
   },
   "outputs": [
    {
     "name": "stdout",
     "output_type": "stream",
     "text": [
      "<class 'pandas.core.frame.DataFrame'>\n",
      "Int64Index: 2466 entries, 0 to 364\n",
      "Data columns (total 6 columns):\n",
      " #   Column    Non-Null Count  Dtype         \n",
      "---  ------    --------------  -----         \n",
      " 0   datetime  2466 non-null   datetime64[ns]\n",
      " 1   y         2101 non-null   float64       \n",
      " 2   client    2466 non-null   int64         \n",
      " 3   close     2466 non-null   int64         \n",
      " 4   price_am  2466 non-null   int64         \n",
      " 5   price_pm  2466 non-null   int64         \n",
      "dtypes: datetime64[ns](1), float64(1), int64(4)\n",
      "memory usage: 134.9 KB\n"
     ]
    },
    {
     "data": {
      "text/html": [
       "<div>\n",
       "<style scoped>\n",
       "    .dataframe tbody tr th:only-of-type {\n",
       "        vertical-align: middle;\n",
       "    }\n",
       "\n",
       "    .dataframe tbody tr th {\n",
       "        vertical-align: top;\n",
       "    }\n",
       "\n",
       "    .dataframe thead th {\n",
       "        text-align: right;\n",
       "    }\n",
       "</style>\n",
       "<table border=\"1\" class=\"dataframe\">\n",
       "  <thead>\n",
       "    <tr style=\"text-align: right;\">\n",
       "      <th></th>\n",
       "      <th>datetime</th>\n",
       "      <th>y</th>\n",
       "      <th>client</th>\n",
       "      <th>close</th>\n",
       "      <th>price_am</th>\n",
       "      <th>price_pm</th>\n",
       "    </tr>\n",
       "  </thead>\n",
       "  <tbody>\n",
       "    <tr>\n",
       "      <th>0</th>\n",
       "      <td>2010-07-01</td>\n",
       "      <td>17.0</td>\n",
       "      <td>0</td>\n",
       "      <td>0</td>\n",
       "      <td>-1</td>\n",
       "      <td>-1</td>\n",
       "    </tr>\n",
       "    <tr>\n",
       "      <th>1</th>\n",
       "      <td>2010-07-02</td>\n",
       "      <td>18.0</td>\n",
       "      <td>0</td>\n",
       "      <td>0</td>\n",
       "      <td>-1</td>\n",
       "      <td>-1</td>\n",
       "    </tr>\n",
       "    <tr>\n",
       "      <th>2</th>\n",
       "      <td>2010-07-03</td>\n",
       "      <td>20.0</td>\n",
       "      <td>0</td>\n",
       "      <td>0</td>\n",
       "      <td>-1</td>\n",
       "      <td>-1</td>\n",
       "    </tr>\n",
       "    <tr>\n",
       "      <th>3</th>\n",
       "      <td>2010-07-04</td>\n",
       "      <td>20.0</td>\n",
       "      <td>0</td>\n",
       "      <td>0</td>\n",
       "      <td>-1</td>\n",
       "      <td>-1</td>\n",
       "    </tr>\n",
       "    <tr>\n",
       "      <th>4</th>\n",
       "      <td>2010-07-05</td>\n",
       "      <td>14.0</td>\n",
       "      <td>0</td>\n",
       "      <td>0</td>\n",
       "      <td>-1</td>\n",
       "      <td>-1</td>\n",
       "    </tr>\n",
       "    <tr>\n",
       "      <th>5</th>\n",
       "      <td>2010-07-06</td>\n",
       "      <td>14.0</td>\n",
       "      <td>0</td>\n",
       "      <td>0</td>\n",
       "      <td>-1</td>\n",
       "      <td>-1</td>\n",
       "    </tr>\n",
       "    <tr>\n",
       "      <th>6</th>\n",
       "      <td>2010-07-07</td>\n",
       "      <td>4.0</td>\n",
       "      <td>0</td>\n",
       "      <td>0</td>\n",
       "      <td>-1</td>\n",
       "      <td>-1</td>\n",
       "    </tr>\n",
       "    <tr>\n",
       "      <th>7</th>\n",
       "      <td>2010-07-08</td>\n",
       "      <td>10.0</td>\n",
       "      <td>0</td>\n",
       "      <td>0</td>\n",
       "      <td>-1</td>\n",
       "      <td>-1</td>\n",
       "    </tr>\n",
       "    <tr>\n",
       "      <th>8</th>\n",
       "      <td>2010-07-09</td>\n",
       "      <td>12.0</td>\n",
       "      <td>0</td>\n",
       "      <td>0</td>\n",
       "      <td>-1</td>\n",
       "      <td>-1</td>\n",
       "    </tr>\n",
       "    <tr>\n",
       "      <th>9</th>\n",
       "      <td>2010-07-10</td>\n",
       "      <td>21.0</td>\n",
       "      <td>0</td>\n",
       "      <td>0</td>\n",
       "      <td>-1</td>\n",
       "      <td>-1</td>\n",
       "    </tr>\n",
       "  </tbody>\n",
       "</table>\n",
       "</div>"
      ],
      "text/plain": [
       "    datetime     y  client  close  price_am  price_pm\n",
       "0 2010-07-01  17.0       0      0        -1        -1\n",
       "1 2010-07-02  18.0       0      0        -1        -1\n",
       "2 2010-07-03  20.0       0      0        -1        -1\n",
       "3 2010-07-04  20.0       0      0        -1        -1\n",
       "4 2010-07-05  14.0       0      0        -1        -1\n",
       "5 2010-07-06  14.0       0      0        -1        -1\n",
       "6 2010-07-07   4.0       0      0        -1        -1\n",
       "7 2010-07-08  10.0       0      0        -1        -1\n",
       "8 2010-07-09  12.0       0      0        -1        -1\n",
       "9 2010-07-10  21.0       0      0        -1        -1"
      ]
     },
     "execution_count": 2,
     "metadata": {},
     "output_type": "execute_result"
    }
   ],
   "source": [
    "train=pd.read_csv(\"./train.csv\", parse_dates=[0]) # 日付をdatetime型で取得\n",
    "test=pd.read_csv(\"./test.csv\", parse_dates=[0])\n",
    "submit_sample=pd.read_csv(\"./sample_submit.csv\", header=None)\n",
    "\n",
    "df = pd.concat([train, test], sort=False)\n",
    "df.info()\n",
    "df.head(10)"
   ]
  },
  {
   "cell_type": "code",
   "execution_count": 3,
   "id": "46b5d537",
   "metadata": {
    "scrolled": true
   },
   "outputs": [
    {
     "data": {
      "text/html": [
       "<div>\n",
       "<style scoped>\n",
       "    .dataframe tbody tr th:only-of-type {\n",
       "        vertical-align: middle;\n",
       "    }\n",
       "\n",
       "    .dataframe tbody tr th {\n",
       "        vertical-align: top;\n",
       "    }\n",
       "\n",
       "    .dataframe thead th {\n",
       "        text-align: right;\n",
       "    }\n",
       "</style>\n",
       "<table border=\"1\" class=\"dataframe\">\n",
       "  <thead>\n",
       "    <tr style=\"text-align: right;\">\n",
       "      <th></th>\n",
       "      <th>datetime</th>\n",
       "      <th>y</th>\n",
       "      <th>client</th>\n",
       "      <th>close</th>\n",
       "      <th>price_am</th>\n",
       "      <th>price_pm</th>\n",
       "    </tr>\n",
       "  </thead>\n",
       "  <tbody>\n",
       "    <tr>\n",
       "      <th>0</th>\n",
       "      <td>2010-07-01</td>\n",
       "      <td>17.0</td>\n",
       "      <td>0</td>\n",
       "      <td>0</td>\n",
       "      <td>NaN</td>\n",
       "      <td>NaN</td>\n",
       "    </tr>\n",
       "    <tr>\n",
       "      <th>1</th>\n",
       "      <td>2010-07-02</td>\n",
       "      <td>18.0</td>\n",
       "      <td>0</td>\n",
       "      <td>0</td>\n",
       "      <td>NaN</td>\n",
       "      <td>NaN</td>\n",
       "    </tr>\n",
       "    <tr>\n",
       "      <th>2</th>\n",
       "      <td>2010-07-03</td>\n",
       "      <td>20.0</td>\n",
       "      <td>0</td>\n",
       "      <td>0</td>\n",
       "      <td>NaN</td>\n",
       "      <td>NaN</td>\n",
       "    </tr>\n",
       "    <tr>\n",
       "      <th>3</th>\n",
       "      <td>2010-07-04</td>\n",
       "      <td>20.0</td>\n",
       "      <td>0</td>\n",
       "      <td>0</td>\n",
       "      <td>NaN</td>\n",
       "      <td>NaN</td>\n",
       "    </tr>\n",
       "    <tr>\n",
       "      <th>4</th>\n",
       "      <td>2010-07-05</td>\n",
       "      <td>14.0</td>\n",
       "      <td>0</td>\n",
       "      <td>0</td>\n",
       "      <td>NaN</td>\n",
       "      <td>NaN</td>\n",
       "    </tr>\n",
       "  </tbody>\n",
       "</table>\n",
       "</div>"
      ],
      "text/plain": [
       "    datetime     y  client  close  price_am  price_pm\n",
       "0 2010-07-01  17.0       0      0       NaN       NaN\n",
       "1 2010-07-02  18.0       0      0       NaN       NaN\n",
       "2 2010-07-03  20.0       0      0       NaN       NaN\n",
       "3 2010-07-04  20.0       0      0       NaN       NaN\n",
       "4 2010-07-05  14.0       0      0       NaN       NaN"
      ]
     },
     "execution_count": 3,
     "metadata": {},
     "output_type": "execute_result"
    }
   ],
   "source": [
    "df.loc[df['price_am'] == -1, 'price_am'] = np.nan\n",
    "df.loc[df['price_pm'] == -1, 'price_pm'] = np.nan\n",
    "df.head()"
   ]
  },
  {
   "cell_type": "code",
   "execution_count": 4,
   "id": "47bf5de8",
   "metadata": {},
   "outputs": [],
   "source": [
    "### datimeをdatetime64[ns]型に変更。"
   ]
  },
  {
   "cell_type": "code",
   "execution_count": 5,
   "id": "2e65607d",
   "metadata": {},
   "outputs": [],
   "source": [
    "#df['datetime'] = df.datetime.map(dt.datetime.timestamp)\n",
    "#df['datetime'] = df['datetime'].dt.to_pydatetime()\n",
    "df['year'] = df['datetime'].dt.year\n",
    "df['month'] = df['datetime'].dt.month\n",
    "df['day'] = df['datetime'].dt.day\n",
    "df['weekday'] = df['datetime'].dt.weekday"
   ]
  },
  {
   "cell_type": "code",
   "execution_count": 6,
   "id": "9fb8dc3e",
   "metadata": {},
   "outputs": [],
   "source": [
    "#df=df.drop(['datetime','year'], axis=1)\n",
    "df=df.drop(['datetime'], axis=1)"
   ]
  },
  {
   "cell_type": "markdown",
   "id": "aec2f043",
   "metadata": {},
   "source": [
    "### Fill na"
   ]
  },
  {
   "cell_type": "code",
   "execution_count": 7,
   "id": "f3bd6e92",
   "metadata": {},
   "outputs": [],
   "source": [
    "df['price_am'] = df.groupby(['month', 'weekday'])['price_am'].transform(lambda x: x.fillna(x.mean()))\n",
    "df['price_pm'] = df.groupby(['month', 'weekday'])['price_pm'].transform(lambda x: x.fillna(x.mean()))"
   ]
  },
  {
   "cell_type": "markdown",
   "id": "fb7d7109",
   "metadata": {},
   "source": [
    "### New features"
   ]
  },
  {
   "cell_type": "code",
   "execution_count": 8,
   "id": "a8df3091",
   "metadata": {},
   "outputs": [],
   "source": [
    "df['price'] = (df['price_am'] + df['price_pm'])/2"
   ]
  },
  {
   "cell_type": "code",
   "execution_count": 9,
   "id": "b9416d49",
   "metadata": {},
   "outputs": [
    {
     "name": "stdout",
     "output_type": "stream",
     "text": [
      "<class 'pandas.core.frame.DataFrame'>\n",
      "Int64Index: 2466 entries, 0 to 364\n",
      "Data columns (total 10 columns):\n",
      " #   Column    Non-Null Count  Dtype  \n",
      "---  ------    --------------  -----  \n",
      " 0   y         2101 non-null   float64\n",
      " 1   client    2466 non-null   int64  \n",
      " 2   close     2466 non-null   int64  \n",
      " 3   price_am  2466 non-null   float64\n",
      " 4   price_pm  2466 non-null   float64\n",
      " 5   year      2466 non-null   int64  \n",
      " 6   month     2466 non-null   int64  \n",
      " 7   day       2466 non-null   int64  \n",
      " 8   weekday   2466 non-null   int64  \n",
      " 9   price     2466 non-null   float64\n",
      "dtypes: float64(4), int64(6)\n",
      "memory usage: 211.9 KB\n"
     ]
    }
   ],
   "source": [
    "df.info()"
   ]
  },
  {
   "cell_type": "code",
   "execution_count": 10,
   "id": "95485b72",
   "metadata": {},
   "outputs": [],
   "source": [
    "df['client'] = df['client'].astype(str)\n",
    "df['close'] = df['close'].astype(str)\n",
    "df['month'] = df['month'].astype(str)\n",
    "df['weekday'] = df['weekday'].astype(str)"
   ]
  },
  {
   "cell_type": "code",
   "execution_count": 11,
   "id": "fd1bb85c",
   "metadata": {},
   "outputs": [
    {
     "name": "stdout",
     "output_type": "stream",
     "text": [
      "               price_am  price_pm          y\n",
      "month weekday                               \n",
      "1     0        0.142857  0.000000  23.423077\n",
      "      1        0.107143  0.071429  21.846154\n",
      "      2        0.035714  0.000000  22.692308\n",
      "      3        0.178571  0.107143  21.296296\n",
      "      4        0.285714  0.178571  27.444444\n",
      "      5        0.892857  0.464286  36.296296\n",
      "      6        0.428571  0.250000  32.666667\n",
      "10    0        0.518519  0.192308  28.538462\n",
      "      1        0.192308  0.076923  25.769231\n",
      "      2        0.185185  0.074074  28.148148\n",
      "      3        0.222222  0.148148  29.481481\n",
      "      4        0.500000  0.269231  32.222222\n",
      "      5        1.629630  1.111111  39.000000\n",
      "      6        1.346154  0.730769  35.269231\n",
      "11    0        0.120000  0.040000  28.576923\n",
      "      1        0.153846  0.076923  24.000000\n",
      "      2        0.153846  0.076923  24.280000\n",
      "      3        0.160000  0.080000  26.120000\n",
      "      4        0.423077  0.269231  32.269231\n",
      "      5        1.423077  1.000000  38.884615\n",
      "      6        0.807692  0.538462  33.076923\n",
      "12    0        0.384615  0.269231  33.888889\n",
      "      1        0.346154  0.153846  28.962963\n",
      "      2        0.040000  0.000000  29.370370\n",
      "      3        0.269231  0.115385  27.740741\n",
      "      4        0.692308  0.538462  31.538462\n",
      "      5        1.600000  1.240000  38.653846\n",
      "      6        1.192308  0.807692  37.923077\n",
      "2     0        0.586207  0.344828  40.160000\n",
      "      1        0.357143  0.178571  34.083333\n",
      "      2        0.379310  0.206897  34.440000\n",
      "      3        0.357143  0.142857  34.041667\n",
      "      4        0.821429  0.500000  39.083333\n",
      "      5        2.071429  1.535714  46.416667\n",
      "      6        1.392857  0.892857  43.000000\n",
      "3     0        1.933333  1.666667  58.576923\n",
      "      1        2.000000  1.580645  59.185185\n",
      "      2        1.838710  1.709677  56.500000\n",
      "      3        2.031250  1.656250  56.814815\n",
      "      4        2.096774  2.032258  58.038462\n",
      "      5        3.096774  2.741935  59.407407\n",
      "      6        2.677419  2.258065  57.481481\n",
      "4     0        0.730769  0.538462  39.954545\n",
      "      1        0.692308  0.461538  36.863636\n",
      "      2        0.615385  0.384615  36.909091\n",
      "      3        0.400000  0.280000  36.095238\n",
      "      4        1.076923  0.730769  41.047619\n",
      "      5        2.923077  2.423077  46.523810\n",
      "      6        2.120000  1.480000  45.190476\n",
      "5     0        0.307692  0.076923  28.857143\n",
      "      1        0.222222  0.074074  25.409091\n",
      "      2        0.192308  0.076923  25.909091\n",
      "      3        0.259259  0.111111  27.608696\n",
      "      4        0.629630  0.407407  31.347826\n",
      "      5        1.423077  0.961538  36.954545\n",
      "      6        0.962963  0.481481  31.863636\n",
      "6     0        0.230769  0.115385  30.909091\n",
      "      1        0.120000  0.040000  25.761905\n",
      "      2        0.153846  0.038462  21.952381\n",
      "      3        0.230769  0.153846  26.380952\n",
      "      4        0.480000  0.280000  30.666667\n",
      "      5        1.423077  1.153846  45.000000\n",
      "      6        1.115385  0.461538  38.636364\n",
      "7     0        0.346154  0.192308  29.423077\n",
      "      1        0.333333  0.148148  27.333333\n",
      "      2        0.259259  0.111111  25.814815\n",
      "      3        0.192308  0.076923  24.629630\n",
      "      4        0.692308  0.423077  27.814815\n",
      "      5        1.807692  1.192308  36.500000\n",
      "      6        1.407407  0.925926  35.230769\n",
      "8     0        0.153846  0.038462  29.481481\n",
      "      1        0.083333  0.041667  25.076923\n",
      "      2        0.076923  0.076923  23.730769\n",
      "      3        0.153846  0.038462  28.346154\n",
      "      4        0.370370  0.185185  31.111111\n",
      "      5        1.148148  0.851852  35.851852\n",
      "      6        0.730769  0.384615  31.296296\n",
      "9     0        0.538462  0.269231  34.076923\n",
      "      1        0.346154  0.192308  30.807692\n",
      "      2        0.200000  0.120000  27.500000\n",
      "      3        0.307692  0.115385  27.807692\n",
      "      4        0.576923  0.384615  30.320000\n",
      "      5        1.800000  1.200000  36.920000\n",
      "      6        1.500000  1.115385  38.807692\n",
      "      price_am  price_pm          y\n",
      "year                               \n",
      "2010  0.600323  0.374156  16.298913\n",
      "2011  0.788374  0.546766  18.991781\n",
      "2012  0.721484  0.498882  30.500000\n",
      "2013  0.731018  0.474989  40.320548\n",
      "2014  0.837324  0.581719  39.665753\n",
      "2015  0.774530  0.501212  44.597260\n",
      "2016  0.798608  0.579712  55.714286\n",
      "2017  1.218651  1.070238        NaN\n"
     ]
    },
    {
     "name": "stderr",
     "output_type": "stream",
     "text": [
      "<ipython-input-11-ab1e28b0b82f>:2: FutureWarning: Indexing with multiple keys (implicitly converted to a tuple of keys) will be deprecated, use a list instead.\n",
      "  print(df.groupby(['month', 'weekday'])['price_am','price_pm','y'].mean())\n",
      "<ipython-input-11-ab1e28b0b82f>:3: FutureWarning: Indexing with multiple keys (implicitly converted to a tuple of keys) will be deprecated, use a list instead.\n",
      "  print(df.groupby(['year'])['price_am','price_pm','y'].mean())\n"
     ]
    }
   ],
   "source": [
    "pd.set_option('display.max_rows', None)\n",
    "print(df.groupby(['month', 'weekday'])['price_am','price_pm','y'].mean())\n",
    "print(df.groupby(['year'])['price_am','price_pm','y'].mean())"
   ]
  },
  {
   "cell_type": "code",
   "execution_count": 12,
   "id": "fb8cd5ec",
   "metadata": {},
   "outputs": [
    {
     "name": "stdout",
     "output_type": "stream",
     "text": [
      "CategoricaL:\n",
      "['client', 'close', 'month', 'weekday']\n",
      "\n",
      "NumericaL:\n",
      "['y', 'price_am', 'price_pm', 'year', 'day', 'price']\n"
     ]
    }
   ],
   "source": [
    "#divide dataset into two parts(categorical, contineous)\n",
    "categorical, numerical = [],[]\n",
    "for z in df.columns:\n",
    "    t = df.dtypes[z]\n",
    "    if t=='object':\n",
    "        categorical.append(z)\n",
    "    else:\n",
    "        numerical.append(z)\n",
    "print(\"CategoricaL:\\n{}\".format(categorical))\n",
    "print(\"\\nNumericaL:\\n{}\".format(numerical))"
   ]
  },
  {
   "cell_type": "markdown",
   "id": "e42b0f4f",
   "metadata": {},
   "source": [
    "### Pandas Profining"
   ]
  },
  {
   "cell_type": "code",
   "execution_count": 13,
   "id": "9a53ae89",
   "metadata": {},
   "outputs": [],
   "source": [
    "#import pandas_profiling\n",
    "\n",
    "#df.profile_report()"
   ]
  },
  {
   "cell_type": "markdown",
   "id": "d3e90125",
   "metadata": {},
   "source": [
    "### Heat map for Correlation coefficient"
   ]
  },
  {
   "cell_type": "code",
   "execution_count": 14,
   "id": "190c7b43",
   "metadata": {},
   "outputs": [
    {
     "data": {
      "text/plain": [
       "<AxesSubplot:>"
      ]
     },
     "execution_count": 14,
     "metadata": {},
     "output_type": "execute_result"
    },
    {
     "data": {
      "image/png": "[encoded data removed]",
      "text/plain": [
       "<Figure size 1080x1080 with 2 Axes>"
      ]
     },
     "metadata": {
      "needs_background": "light"
     },
     "output_type": "display_data"
    }
   ],
   "source": [
    "df_corr = df.corr()\n",
    "plt.figure(figsize=(15, 15)) \n",
    "sns.heatmap(df_corr, vmax=1, vmin=-1, center=0, square=True, annot=True)"
   ]
  },
  {
   "cell_type": "markdown",
   "id": "2a9bb8be",
   "metadata": {},
   "source": [
    "### Histogram"
   ]
  },
  {
   "cell_type": "code",
   "execution_count": 15,
   "id": "a25fb876",
   "metadata": {},
   "outputs": [
    {
     "name": "stderr",
     "output_type": "stream",
     "text": [
      "C:\\anaconda\\lib\\site-packages\\seaborn\\distributions.py:2557: FutureWarning: `distplot` is a deprecated function and will be removed in a future version. Please adapt your code to use either `displot` (a figure-level function with similar flexibility) or `histplot` (an axes-level function for histograms).\n",
      "  warnings.warn(msg, FutureWarning)\n",
      "No handles with labels found to put in legend.\n"
     ]
    },
    {
     "data": {
      "image/png": "[encoded data removed]",
      "text/plain": [
       "<Figure size 1080x360 with 2 Axes>"
      ]
     },
     "metadata": {
      "needs_background": "light"
     },
     "output_type": "display_data"
    }
   ],
   "source": [
    "fig, ax = plt.subplots(1,2, figsize= (15,5))\n",
    "# Histogram\n",
    "sns.distplot(\n",
    "    train['y'], label='y',\n",
    "    kde_kws={'label': 'kde','color':'k'},\n",
    "    fit=norm,fit_kws={'label': 'norm','color':'red'},\n",
    "    ax = ax[0]\n",
    ")\n",
    "ax[0].set_title(\"Histogram\")\n",
    "ax[0].grid(True)\n",
    "\n",
    "# QQplot\n",
    "sm.qqplot(train['y'], stats.t, distargs=(4,),fit=True, line=\"45\", ax = ax[1])\n",
    "ax[1].set_title(\"QQplot\")\n",
    "ax[1].grid(True)\n",
    "\n",
    "plt.legend() # 凡例を表示\n",
    "plt.show() #グラフ表示"
   ]
  },
  {
   "cell_type": "markdown",
   "id": "5c865681",
   "metadata": {},
   "source": [
    "### Dummy"
   ]
  },
  {
   "cell_type": "code",
   "execution_count": 16,
   "id": "f2a7588f",
   "metadata": {},
   "outputs": [],
   "source": [
    "df =pd.get_dummies(df, columns=categorical, drop_first=True)"
   ]
  },
  {
   "cell_type": "code",
   "execution_count": 17,
   "id": "73286739",
   "metadata": {},
   "outputs": [
    {
     "data": {
      "text/html": [
       "<div>\n",
       "<style scoped>\n",
       "    .dataframe tbody tr th:only-of-type {\n",
       "        vertical-align: middle;\n",
       "    }\n",
       "\n",
       "    .dataframe tbody tr th {\n",
       "        vertical-align: top;\n",
       "    }\n",
       "\n",
       "    .dataframe thead th {\n",
       "        text-align: right;\n",
       "    }\n",
       "</style>\n",
       "<table border=\"1\" class=\"dataframe\">\n",
       "  <thead>\n",
       "    <tr style=\"text-align: right;\">\n",
       "      <th></th>\n",
       "      <th>y</th>\n",
       "      <th>price_am</th>\n",
       "      <th>price_pm</th>\n",
       "      <th>year</th>\n",
       "      <th>day</th>\n",
       "      <th>price</th>\n",
       "      <th>client_1</th>\n",
       "      <th>close_1</th>\n",
       "      <th>month_10</th>\n",
       "      <th>month_11</th>\n",
       "      <th>...</th>\n",
       "      <th>month_6</th>\n",
       "      <th>month_7</th>\n",
       "      <th>month_8</th>\n",
       "      <th>month_9</th>\n",
       "      <th>weekday_1</th>\n",
       "      <th>weekday_2</th>\n",
       "      <th>weekday_3</th>\n",
       "      <th>weekday_4</th>\n",
       "      <th>weekday_5</th>\n",
       "      <th>weekday_6</th>\n",
       "    </tr>\n",
       "  </thead>\n",
       "  <tbody>\n",
       "    <tr>\n",
       "      <th>0</th>\n",
       "      <td>17.0</td>\n",
       "      <td>0.192308</td>\n",
       "      <td>0.076923</td>\n",
       "      <td>2010</td>\n",
       "      <td>1</td>\n",
       "      <td>0.134615</td>\n",
       "      <td>0</td>\n",
       "      <td>0</td>\n",
       "      <td>0</td>\n",
       "      <td>0</td>\n",
       "      <td>...</td>\n",
       "      <td>0</td>\n",
       "      <td>1</td>\n",
       "      <td>0</td>\n",
       "      <td>0</td>\n",
       "      <td>0</td>\n",
       "      <td>0</td>\n",
       "      <td>1</td>\n",
       "      <td>0</td>\n",
       "      <td>0</td>\n",
       "      <td>0</td>\n",
       "    </tr>\n",
       "    <tr>\n",
       "      <th>1</th>\n",
       "      <td>18.0</td>\n",
       "      <td>0.692308</td>\n",
       "      <td>0.423077</td>\n",
       "      <td>2010</td>\n",
       "      <td>2</td>\n",
       "      <td>0.557692</td>\n",
       "      <td>0</td>\n",
       "      <td>0</td>\n",
       "      <td>0</td>\n",
       "      <td>0</td>\n",
       "      <td>...</td>\n",
       "      <td>0</td>\n",
       "      <td>1</td>\n",
       "      <td>0</td>\n",
       "      <td>0</td>\n",
       "      <td>0</td>\n",
       "      <td>0</td>\n",
       "      <td>0</td>\n",
       "      <td>1</td>\n",
       "      <td>0</td>\n",
       "      <td>0</td>\n",
       "    </tr>\n",
       "    <tr>\n",
       "      <th>2</th>\n",
       "      <td>20.0</td>\n",
       "      <td>1.807692</td>\n",
       "      <td>1.192308</td>\n",
       "      <td>2010</td>\n",
       "      <td>3</td>\n",
       "      <td>1.500000</td>\n",
       "      <td>0</td>\n",
       "      <td>0</td>\n",
       "      <td>0</td>\n",
       "      <td>0</td>\n",
       "      <td>...</td>\n",
       "      <td>0</td>\n",
       "      <td>1</td>\n",
       "      <td>0</td>\n",
       "      <td>0</td>\n",
       "      <td>0</td>\n",
       "      <td>0</td>\n",
       "      <td>0</td>\n",
       "      <td>0</td>\n",
       "      <td>1</td>\n",
       "      <td>0</td>\n",
       "    </tr>\n",
       "    <tr>\n",
       "      <th>3</th>\n",
       "      <td>20.0</td>\n",
       "      <td>1.407407</td>\n",
       "      <td>0.925926</td>\n",
       "      <td>2010</td>\n",
       "      <td>4</td>\n",
       "      <td>1.166667</td>\n",
       "      <td>0</td>\n",
       "      <td>0</td>\n",
       "      <td>0</td>\n",
       "      <td>0</td>\n",
       "      <td>...</td>\n",
       "      <td>0</td>\n",
       "      <td>1</td>\n",
       "      <td>0</td>\n",
       "      <td>0</td>\n",
       "      <td>0</td>\n",
       "      <td>0</td>\n",
       "      <td>0</td>\n",
       "      <td>0</td>\n",
       "      <td>0</td>\n",
       "      <td>1</td>\n",
       "    </tr>\n",
       "    <tr>\n",
       "      <th>4</th>\n",
       "      <td>14.0</td>\n",
       "      <td>0.346154</td>\n",
       "      <td>0.192308</td>\n",
       "      <td>2010</td>\n",
       "      <td>5</td>\n",
       "      <td>0.269231</td>\n",
       "      <td>0</td>\n",
       "      <td>0</td>\n",
       "      <td>0</td>\n",
       "      <td>0</td>\n",
       "      <td>...</td>\n",
       "      <td>0</td>\n",
       "      <td>1</td>\n",
       "      <td>0</td>\n",
       "      <td>0</td>\n",
       "      <td>0</td>\n",
       "      <td>0</td>\n",
       "      <td>0</td>\n",
       "      <td>0</td>\n",
       "      <td>0</td>\n",
       "      <td>0</td>\n",
       "    </tr>\n",
       "    <tr>\n",
       "      <th>5</th>\n",
       "      <td>14.0</td>\n",
       "      <td>0.333333</td>\n",
       "      <td>0.148148</td>\n",
       "      <td>2010</td>\n",
       "      <td>6</td>\n",
       "      <td>0.240741</td>\n",
       "      <td>0</td>\n",
       "      <td>0</td>\n",
       "      <td>0</td>\n",
       "      <td>0</td>\n",
       "      <td>...</td>\n",
       "      <td>0</td>\n",
       "      <td>1</td>\n",
       "      <td>0</td>\n",
       "      <td>0</td>\n",
       "      <td>1</td>\n",
       "      <td>0</td>\n",
       "      <td>0</td>\n",
       "      <td>0</td>\n",
       "      <td>0</td>\n",
       "      <td>0</td>\n",
       "    </tr>\n",
       "    <tr>\n",
       "      <th>6</th>\n",
       "      <td>4.0</td>\n",
       "      <td>0.259259</td>\n",
       "      <td>0.111111</td>\n",
       "      <td>2010</td>\n",
       "      <td>7</td>\n",
       "      <td>0.185185</td>\n",
       "      <td>0</td>\n",
       "      <td>0</td>\n",
       "      <td>0</td>\n",
       "      <td>0</td>\n",
       "      <td>...</td>\n",
       "      <td>0</td>\n",
       "      <td>1</td>\n",
       "      <td>0</td>\n",
       "      <td>0</td>\n",
       "      <td>0</td>\n",
       "      <td>1</td>\n",
       "      <td>0</td>\n",
       "      <td>0</td>\n",
       "      <td>0</td>\n",
       "      <td>0</td>\n",
       "    </tr>\n",
       "    <tr>\n",
       "      <th>7</th>\n",
       "      <td>10.0</td>\n",
       "      <td>0.192308</td>\n",
       "      <td>0.076923</td>\n",
       "      <td>2010</td>\n",
       "      <td>8</td>\n",
       "      <td>0.134615</td>\n",
       "      <td>0</td>\n",
       "      <td>0</td>\n",
       "      <td>0</td>\n",
       "      <td>0</td>\n",
       "      <td>...</td>\n",
       "      <td>0</td>\n",
       "      <td>1</td>\n",
       "      <td>0</td>\n",
       "      <td>0</td>\n",
       "      <td>0</td>\n",
       "      <td>0</td>\n",
       "      <td>1</td>\n",
       "      <td>0</td>\n",
       "      <td>0</td>\n",
       "      <td>0</td>\n",
       "    </tr>\n",
       "    <tr>\n",
       "      <th>8</th>\n",
       "      <td>12.0</td>\n",
       "      <td>0.692308</td>\n",
       "      <td>0.423077</td>\n",
       "      <td>2010</td>\n",
       "      <td>9</td>\n",
       "      <td>0.557692</td>\n",
       "      <td>0</td>\n",
       "      <td>0</td>\n",
       "      <td>0</td>\n",
       "      <td>0</td>\n",
       "      <td>...</td>\n",
       "      <td>0</td>\n",
       "      <td>1</td>\n",
       "      <td>0</td>\n",
       "      <td>0</td>\n",
       "      <td>0</td>\n",
       "      <td>0</td>\n",
       "      <td>0</td>\n",
       "      <td>1</td>\n",
       "      <td>0</td>\n",
       "      <td>0</td>\n",
       "    </tr>\n",
       "    <tr>\n",
       "      <th>9</th>\n",
       "      <td>21.0</td>\n",
       "      <td>1.807692</td>\n",
       "      <td>1.192308</td>\n",
       "      <td>2010</td>\n",
       "      <td>10</td>\n",
       "      <td>1.500000</td>\n",
       "      <td>0</td>\n",
       "      <td>0</td>\n",
       "      <td>0</td>\n",
       "      <td>0</td>\n",
       "      <td>...</td>\n",
       "      <td>0</td>\n",
       "      <td>1</td>\n",
       "      <td>0</td>\n",
       "      <td>0</td>\n",
       "      <td>0</td>\n",
       "      <td>0</td>\n",
       "      <td>0</td>\n",
       "      <td>0</td>\n",
       "      <td>1</td>\n",
       "      <td>0</td>\n",
       "    </tr>\n",
       "  </tbody>\n",
       "</table>\n",
       "<p>10 rows × 25 columns</p>\n",
       "</div>"
      ],
      "text/plain": [
       "      y  price_am  price_pm  year  day     price  client_1  close_1  month_10  \\\n",
       "0  17.0  0.192308  0.076923  2010    1  0.134615         0        0         0   \n",
       "1  18.0  0.692308  0.423077  2010    2  0.557692         0        0         0   \n",
       "2  20.0  1.807692  1.192308  2010    3  1.500000         0        0         0   \n",
       "3  20.0  1.407407  0.925926  2010    4  1.166667         0        0         0   \n",
       "4  14.0  0.346154  0.192308  2010    5  0.269231         0        0         0   \n",
       "5  14.0  0.333333  0.148148  2010    6  0.240741         0        0         0   \n",
       "6   4.0  0.259259  0.111111  2010    7  0.185185         0        0         0   \n",
       "7  10.0  0.192308  0.076923  2010    8  0.134615         0        0         0   \n",
       "8  12.0  0.692308  0.423077  2010    9  0.557692         0        0         0   \n",
       "9  21.0  1.807692  1.192308  2010   10  1.500000         0        0         0   \n",
       "\n",
       "   month_11  ...  month_6  month_7  month_8  month_9  weekday_1  weekday_2  \\\n",
       "0         0  ...        0        1        0        0          0          0   \n",
       "1         0  ...        0        1        0        0          0          0   \n",
       "2         0  ...        0        1        0        0          0          0   \n",
       "3         0  ...        0        1        0        0          0          0   \n",
       "4         0  ...        0        1        0        0          0          0   \n",
       "5         0  ...        0        1        0        0          1          0   \n",
       "6         0  ...        0        1        0        0          0          1   \n",
       "7         0  ...        0        1        0        0          0          0   \n",
       "8         0  ...        0        1        0        0          0          0   \n",
       "9         0  ...        0        1        0        0          0          0   \n",
       "\n",
       "   weekday_3  weekday_4  weekday_5  weekday_6  \n",
       "0          1          0          0          0  \n",
       "1          0          1          0          0  \n",
       "2          0          0          1          0  \n",
       "3          0          0          0          1  \n",
       "4          0          0          0          0  \n",
       "5          0          0          0          0  \n",
       "6          0          0          0          0  \n",
       "7          1          0          0          0  \n",
       "8          0          1          0          0  \n",
       "9          0          0          1          0  \n",
       "\n",
       "[10 rows x 25 columns]"
      ]
     },
     "execution_count": 17,
     "metadata": {},
     "output_type": "execute_result"
    }
   ],
   "source": [
    "df.head(10)"
   ]
  },
  {
   "cell_type": "markdown",
   "id": "377e8c89",
   "metadata": {},
   "source": [
    "### Separate Data"
   ]
  },
  {
   "cell_type": "code",
   "execution_count": 18,
   "id": "0bae0102",
   "metadata": {},
   "outputs": [],
   "source": [
    "train = df[:len(train)]\n",
    "test = df[len(train):]"
   ]
  },
  {
   "cell_type": "code",
   "execution_count": 19,
   "id": "6eb73d4b",
   "metadata": {},
   "outputs": [],
   "source": [
    "y_train = train['y']\n",
    "X_train = train.drop(['y'], axis=1)\n",
    "X_test = test.drop(['y'], axis=1)"
   ]
  },
  {
   "cell_type": "code",
   "execution_count": 20,
   "id": "5b6391c2",
   "metadata": {},
   "outputs": [],
   "source": [
    "### 線形回帰"
   ]
  },
  {
   "cell_type": "code",
   "execution_count": 21,
   "id": "1fa31948",
   "metadata": {},
   "outputs": [],
   "source": [
    "from sklearn.linear_model import Lasso, Ridge, LassoCV, RidgeCV\n",
    "from sklearn.model_selection import GridSearchCV, cross_val_score, train_test_split\n",
    "from sklearn.svm import SVC\n",
    "from sklearn.preprocessing import StandardScaler"
   ]
  },
  {
   "cell_type": "code",
   "execution_count": 22,
   "id": "254a26ae",
   "metadata": {},
   "outputs": [
    {
     "name": "stdout",
     "output_type": "stream",
     "text": [
      "<class 'pandas.core.frame.DataFrame'>\n",
      "Int64Index: 2466 entries, 0 to 364\n",
      "Data columns (total 25 columns):\n",
      " #   Column     Non-Null Count  Dtype  \n",
      "---  ------     --------------  -----  \n",
      " 0   y          2101 non-null   float64\n",
      " 1   price_am   2466 non-null   float64\n",
      " 2   price_pm   2466 non-null   float64\n",
      " 3   year       2466 non-null   int64  \n",
      " 4   day        2466 non-null   int64  \n",
      " 5   price      2466 non-null   float64\n",
      " 6   client_1   2466 non-null   uint8  \n",
      " 7   close_1    2466 non-null   uint8  \n",
      " 8   month_10   2466 non-null   uint8  \n",
      " 9   month_11   2466 non-null   uint8  \n",
      " 10  month_12   2466 non-null   uint8  \n",
      " 11  month_2    2466 non-null   uint8  \n",
      " 12  month_3    2466 non-null   uint8  \n",
      " 13  month_4    2466 non-null   uint8  \n",
      " 14  month_5    2466 non-null   uint8  \n",
      " 15  month_6    2466 non-null   uint8  \n",
      " 16  month_7    2466 non-null   uint8  \n",
      " 17  month_8    2466 non-null   uint8  \n",
      " 18  month_9    2466 non-null   uint8  \n",
      " 19  weekday_1  2466 non-null   uint8  \n",
      " 20  weekday_2  2466 non-null   uint8  \n",
      " 21  weekday_3  2466 non-null   uint8  \n",
      " 22  weekday_4  2466 non-null   uint8  \n",
      " 23  weekday_5  2466 non-null   uint8  \n",
      " 24  weekday_6  2466 non-null   uint8  \n",
      "dtypes: float64(4), int64(2), uint8(19)\n",
      "memory usage: 180.6 KB\n"
     ]
    },
    {
     "data": {
      "text/html": [
       "<div>\n",
       "<style scoped>\n",
       "    .dataframe tbody tr th:only-of-type {\n",
       "        vertical-align: middle;\n",
       "    }\n",
       "\n",
       "    .dataframe tbody tr th {\n",
       "        vertical-align: top;\n",
       "    }\n",
       "\n",
       "    .dataframe thead th {\n",
       "        text-align: right;\n",
       "    }\n",
       "</style>\n",
       "<table border=\"1\" class=\"dataframe\">\n",
       "  <thead>\n",
       "    <tr style=\"text-align: right;\">\n",
       "      <th></th>\n",
       "      <th>y</th>\n",
       "      <th>price_am</th>\n",
       "      <th>price_pm</th>\n",
       "      <th>year</th>\n",
       "      <th>day</th>\n",
       "      <th>price</th>\n",
       "      <th>client_1</th>\n",
       "      <th>close_1</th>\n",
       "      <th>month_10</th>\n",
       "      <th>month_11</th>\n",
       "      <th>...</th>\n",
       "      <th>month_6</th>\n",
       "      <th>month_7</th>\n",
       "      <th>month_8</th>\n",
       "      <th>month_9</th>\n",
       "      <th>weekday_1</th>\n",
       "      <th>weekday_2</th>\n",
       "      <th>weekday_3</th>\n",
       "      <th>weekday_4</th>\n",
       "      <th>weekday_5</th>\n",
       "      <th>weekday_6</th>\n",
       "    </tr>\n",
       "  </thead>\n",
       "  <tbody>\n",
       "    <tr>\n",
       "      <th>0</th>\n",
       "      <td>17.0</td>\n",
       "      <td>0.192308</td>\n",
       "      <td>0.076923</td>\n",
       "      <td>2010</td>\n",
       "      <td>1</td>\n",
       "      <td>0.134615</td>\n",
       "      <td>0</td>\n",
       "      <td>0</td>\n",
       "      <td>0</td>\n",
       "      <td>0</td>\n",
       "      <td>...</td>\n",
       "      <td>0</td>\n",
       "      <td>1</td>\n",
       "      <td>0</td>\n",
       "      <td>0</td>\n",
       "      <td>0</td>\n",
       "      <td>0</td>\n",
       "      <td>1</td>\n",
       "      <td>0</td>\n",
       "      <td>0</td>\n",
       "      <td>0</td>\n",
       "    </tr>\n",
       "    <tr>\n",
       "      <th>1</th>\n",
       "      <td>18.0</td>\n",
       "      <td>0.692308</td>\n",
       "      <td>0.423077</td>\n",
       "      <td>2010</td>\n",
       "      <td>2</td>\n",
       "      <td>0.557692</td>\n",
       "      <td>0</td>\n",
       "      <td>0</td>\n",
       "      <td>0</td>\n",
       "      <td>0</td>\n",
       "      <td>...</td>\n",
       "      <td>0</td>\n",
       "      <td>1</td>\n",
       "      <td>0</td>\n",
       "      <td>0</td>\n",
       "      <td>0</td>\n",
       "      <td>0</td>\n",
       "      <td>0</td>\n",
       "      <td>1</td>\n",
       "      <td>0</td>\n",
       "      <td>0</td>\n",
       "    </tr>\n",
       "    <tr>\n",
       "      <th>2</th>\n",
       "      <td>20.0</td>\n",
       "      <td>1.807692</td>\n",
       "      <td>1.192308</td>\n",
       "      <td>2010</td>\n",
       "      <td>3</td>\n",
       "      <td>1.500000</td>\n",
       "      <td>0</td>\n",
       "      <td>0</td>\n",
       "      <td>0</td>\n",
       "      <td>0</td>\n",
       "      <td>...</td>\n",
       "      <td>0</td>\n",
       "      <td>1</td>\n",
       "      <td>0</td>\n",
       "      <td>0</td>\n",
       "      <td>0</td>\n",
       "      <td>0</td>\n",
       "      <td>0</td>\n",
       "      <td>0</td>\n",
       "      <td>1</td>\n",
       "      <td>0</td>\n",
       "    </tr>\n",
       "    <tr>\n",
       "      <th>3</th>\n",
       "      <td>20.0</td>\n",
       "      <td>1.407407</td>\n",
       "      <td>0.925926</td>\n",
       "      <td>2010</td>\n",
       "      <td>4</td>\n",
       "      <td>1.166667</td>\n",
       "      <td>0</td>\n",
       "      <td>0</td>\n",
       "      <td>0</td>\n",
       "      <td>0</td>\n",
       "      <td>...</td>\n",
       "      <td>0</td>\n",
       "      <td>1</td>\n",
       "      <td>0</td>\n",
       "      <td>0</td>\n",
       "      <td>0</td>\n",
       "      <td>0</td>\n",
       "      <td>0</td>\n",
       "      <td>0</td>\n",
       "      <td>0</td>\n",
       "      <td>1</td>\n",
       "    </tr>\n",
       "    <tr>\n",
       "      <th>4</th>\n",
       "      <td>14.0</td>\n",
       "      <td>0.346154</td>\n",
       "      <td>0.192308</td>\n",
       "      <td>2010</td>\n",
       "      <td>5</td>\n",
       "      <td>0.269231</td>\n",
       "      <td>0</td>\n",
       "      <td>0</td>\n",
       "      <td>0</td>\n",
       "      <td>0</td>\n",
       "      <td>...</td>\n",
       "      <td>0</td>\n",
       "      <td>1</td>\n",
       "      <td>0</td>\n",
       "      <td>0</td>\n",
       "      <td>0</td>\n",
       "      <td>0</td>\n",
       "      <td>0</td>\n",
       "      <td>0</td>\n",
       "      <td>0</td>\n",
       "      <td>0</td>\n",
       "    </tr>\n",
       "  </tbody>\n",
       "</table>\n",
       "<p>5 rows × 25 columns</p>\n",
       "</div>"
      ],
      "text/plain": [
       "      y  price_am  price_pm  year  day     price  client_1  close_1  month_10  \\\n",
       "0  17.0  0.192308  0.076923  2010    1  0.134615         0        0         0   \n",
       "1  18.0  0.692308  0.423077  2010    2  0.557692         0        0         0   \n",
       "2  20.0  1.807692  1.192308  2010    3  1.500000         0        0         0   \n",
       "3  20.0  1.407407  0.925926  2010    4  1.166667         0        0         0   \n",
       "4  14.0  0.346154  0.192308  2010    5  0.269231         0        0         0   \n",
       "\n",
       "   month_11  ...  month_6  month_7  month_8  month_9  weekday_1  weekday_2  \\\n",
       "0         0  ...        0        1        0        0          0          0   \n",
       "1         0  ...        0        1        0        0          0          0   \n",
       "2         0  ...        0        1        0        0          0          0   \n",
       "3         0  ...        0        1        0        0          0          0   \n",
       "4         0  ...        0        1        0        0          0          0   \n",
       "\n",
       "   weekday_3  weekday_4  weekday_5  weekday_6  \n",
       "0          1          0          0          0  \n",
       "1          0          1          0          0  \n",
       "2          0          0          1          0  \n",
       "3          0          0          0          1  \n",
       "4          0          0          0          0  \n",
       "\n",
       "[5 rows x 25 columns]"
      ]
     },
     "execution_count": 22,
     "metadata": {},
     "output_type": "execute_result"
    }
   ],
   "source": [
    "df.info()\n",
    "df.head()"
   ]
  },
  {
   "cell_type": "code",
   "execution_count": 23,
   "id": "3a1ffc6c",
   "metadata": {},
   "outputs": [],
   "source": [
    "# データセットの標準化準備\n",
    "scaler= StandardScaler()\n",
    "# データセットの標準化\n",
    "scaler.fit(X_train)\n",
    "scaler.fit(X_test)\n",
    "X_train_scaler = scaler.transform(X_train)\n",
    "X_test_scaler  = scaler.transform(X_test)\n"
   ]
  },
  {
   "cell_type": "code",
   "execution_count": 24,
   "id": "20ff6c6f",
   "metadata": {},
   "outputs": [
    {
     "name": "stdout",
     "output_type": "stream",
     "text": [
      "{'alpha': 0.025118864315094896}\n",
      "R^2 = 0.7392186103726259\n",
      "MAE = 6.871768390587337\n"
     ]
    }
   ],
   "source": [
    "# Lasso 交差検証準備\n",
    "# clf = LassoCV(alphas=10 ** np.arange(-6, 1, 0.1), cv = 5)\n",
    "\n",
    "params_grid = {\n",
    "    'alpha': 10 ** np.arange(-6, 1, 0.1)\n",
    "}\n",
    "# パラメータチューニング\n",
    "clf = GridSearchCV(\n",
    "    estimator = Lasso(),\n",
    "    param_grid = params_grid,\n",
    "    cv = 5,\n",
    "    scoring='r2',\n",
    "    n_jobs = -1\n",
    "    )\n",
    "# 線形モデルの重みを学習\n",
    "clf.fit(X_train_scaler, y_train) \n",
    "\n",
    "# チューニングしたモデル\n",
    "best_param = clf.best_params_\n",
    "lasso_tuned = clf.best_estimator_\n",
    "\n",
    "# 予測値を反映\n",
    "y_lasso_pred = lasso_tuned.predict(X_train_scaler) # Trainデータに対して予測\n",
    "y_lasso_test_pred = lasso_tuned.predict(X_test_scaler) # Testデータに対して予測\n",
    "\n",
    "#print(\"α = {}\".format(clf.alpha_))\n",
    "#print(\"ω = {}\".format(clf.coef_))\n",
    "#print(\"b = {}\".format(clf.intercept_))\n",
    "print(best_param)\n",
    "print(\"R^2 = {}\".format(clf.score(X_train_scaler, y_train)))\n",
    "print(\"MAE = {}\".format(mean_absolute_error(y_train, y_lasso_pred)))\n",
    "#print(cross_val_score(clf, X_train_scaler, y_train, cv=5))"
   ]
  },
  {
   "cell_type": "code",
   "execution_count": 25,
   "id": "7033819c",
   "metadata": {},
   "outputs": [
    {
     "name": "stderr",
     "output_type": "stream",
     "text": [
      "C:\\anaconda\\lib\\site-packages\\sklearn\\model_selection\\_split.py:666: UserWarning: The least populated class in y has only 1 members, which is less than n_splits=5.\n",
      "  warnings.warn((\"The least populated class in y has only %d\"\n"
     ]
    },
    {
     "name": "stdout",
     "output_type": "stream",
     "text": [
      "{'C': 10, 'gamma': 0.01, 'kernel': 'rbf'}\n",
      "Score = 0.7963997552009829\n",
      "MAE = 4.990480723465017\n"
     ]
    }
   ],
   "source": [
    "# SVM\n",
    "\n",
    "params_grid = [\n",
    "    {'C': [1, 10, 100], 'kernel':['linear']},\n",
    "    {'C': [1, 10, 100], 'gamma': [0.01, 0.001], 'kernel': ['rbf']}\n",
    "]\n",
    "# パラメータチューニング\n",
    "clf = GridSearchCV(\n",
    "    estimator = SVC(),\n",
    "    param_grid = params_grid,\n",
    "    cv = 5,\n",
    "    scoring='r2',\n",
    "    n_jobs = -1\n",
    "    )\n",
    "#clf = RandomForestClassifier(max_depth=10, random_state=0)\n",
    "\n",
    "# フィッテイング\n",
    "clf.fit(X_train_scaler, y_train) \n",
    "\n",
    "# チューニングしたモデル\n",
    "best_param = clf.best_params_\n",
    "svc_tuned = clf.best_estimator_\n",
    "\n",
    "# 予測値を反映\n",
    "y_svc_pred = svc_tuned.predict(X_train_scaler) # Trainデータに対して予測\n",
    "y_svc_test_pred = svc_tuned.predict(X_test_scaler) # Testデータに対して予測\n",
    "\n",
    "#print(\"α = {}\".format(clf.alpha_))\n",
    "#print(\"ω = {}\".format(clf.coef_))\n",
    "#print(\"b = {}\".format(clf.intercept_))\n",
    "\n",
    "print(best_param)\n",
    "print(\"Score = {}\".format(clf.score(X_train_scaler, y_train)))\n",
    "print(\"MAE = {}\".format(mean_absolute_error(y_train, y_svc_pred)))\n",
    "#print(cross_val_score(clf, X_train, y_train, cv=5))"
   ]
  },
  {
   "cell_type": "code",
   "execution_count": 26,
   "id": "1d18467e",
   "metadata": {},
   "outputs": [],
   "source": [
    "import optuna.integration.lightgbm as lgb # Optuna \n",
    "#import lightgbm as lgb \n",
    "from sklearn.model_selection import KFold"
   ]
  },
  {
   "cell_type": "code",
   "execution_count": 27,
   "id": "bf24704e",
   "metadata": {},
   "outputs": [],
   "source": [
    "X_train['SVC'] = y_svc_pred\n",
    "X_test['SVC'] = y_svc_test_pred\n",
    "# データセットの標準化\n",
    "scaler.fit(X_train)\n",
    "scaler.fit(X_test)\n",
    "X_train_scaler = scaler.transform(X_train)\n",
    "X_test_scaler  = scaler.transform(X_test)"
   ]
  },
  {
   "cell_type": "code",
   "execution_count": 28,
   "id": "bc3af060",
   "metadata": {},
   "outputs": [
    {
     "name": "stderr",
     "output_type": "stream",
     "text": [
      "\u001b[32m[I 2021-06-20 17:56:19,123]\u001b[0m A new study created in memory with name: no-name-88cf51ff-243a-48af-ae93-b3800b96aaa9\u001b[0m\n",
      "feature_fraction, val_score: inf:   0%|                                                          | 0/7 [00:00<?, ?it/s]"
     ]
    },
    {
     "name": "stdout",
     "output_type": "stream",
     "text": [
      "Training until validation scores don't improve for 100 rounds\n",
      "[100]\ttrain's rmse: 5.37287\teval's rmse: 6.73906\n",
      "[200]\ttrain's rmse: 4.45751\teval's rmse: 6.55916\n",
      "[300]\ttrain's rmse: 3.91489\teval's rmse: 6.54546\n",
      "[400]\ttrain's rmse: 3.53292\teval's rmse: 6.49259\n",
      "Early stopping, best iteration is:\n",
      "[388]\ttrain's rmse: 3.57163\teval's rmse: 6.46966\n"
     ]
    },
    {
     "name": "stderr",
     "output_type": "stream",
     "text": [
      "feature_fraction, val_score: 6.469663:  14%|######4                                      | 1/7 [00:00<00:05,  1.08it/s]\u001b[32m[I 2021-06-20 17:56:20,060]\u001b[0m Trial 0 finished with value: 6.469663306481697 and parameters: {'feature_fraction': 1.0}. Best is trial 0 with value: 6.469663306481697.\u001b[0m\n",
      "feature_fraction, val_score: 6.469663:  14%|######4                                      | 1/7 [00:00<00:05,  1.08it/s]"
     ]
    },
    {
     "name": "stdout",
     "output_type": "stream",
     "text": [
      "Training until validation scores don't improve for 100 rounds\n",
      "[100]\ttrain's rmse: 5.74034\teval's rmse: 6.79945\n",
      "[200]\ttrain's rmse: 4.87014\teval's rmse: 6.62272\n",
      "[300]\ttrain's rmse: 4.36486\teval's rmse: 6.57538\n",
      "[400]\ttrain's rmse: 4.01319\teval's rmse: 6.55583\n",
      "[500]\ttrain's rmse: 3.74359\teval's rmse: 6.53232\n",
      "[600]\ttrain's rmse: 3.50382\teval's rmse: 6.53375\n",
      "Early stopping, best iteration is:\n",
      "[545]\ttrain's rmse: 3.63204\teval's rmse: 6.5201\n"
     ]
    },
    {
     "name": "stderr",
     "output_type": "stream",
     "text": [
      "feature_fraction, val_score: 6.469663:  29%|############8                                | 2/7 [00:02<00:05,  1.02s/it]\u001b[32m[I 2021-06-20 17:56:21,146]\u001b[0m Trial 1 finished with value: 6.520100552698818 and parameters: {'feature_fraction': 0.5}. Best is trial 0 with value: 6.469663306481697.\u001b[0m\n",
      "feature_fraction, val_score: 6.469663:  29%|############8                                | 2/7 [00:02<00:05,  1.02s/it]"
     ]
    },
    {
     "name": "stdout",
     "output_type": "stream",
     "text": [
      "Training until validation scores don't improve for 100 rounds\n",
      "[100]\ttrain's rmse: 5.98357\teval's rmse: 6.89297\n",
      "[200]\ttrain's rmse: 5.17052\teval's rmse: 6.65873\n",
      "[300]\ttrain's rmse: 4.67664\teval's rmse: 6.59796\n"
     ]
    },
    {
     "name": "stderr",
     "output_type": "stream",
     "text": [
      "feature_fraction, val_score: 6.469663:  43%|###################2                         | 3/7 [00:02<00:03,  1.11it/s]\u001b[32m[I 2021-06-20 17:56:21,901]\u001b[0m Trial 2 finished with value: 6.558604301453235 and parameters: {'feature_fraction': 0.4}. Best is trial 0 with value: 6.469663306481697.\u001b[0m\n",
      "feature_fraction, val_score: 6.469663:  43%|###################2                         | 3/7 [00:02<00:03,  1.11it/s]"
     ]
    },
    {
     "name": "stdout",
     "output_type": "stream",
     "text": [
      "[400]\ttrain's rmse: 4.33384\teval's rmse: 6.5746\n",
      "Early stopping, best iteration is:\n",
      "[334]\ttrain's rmse: 4.54317\teval's rmse: 6.5586\n",
      "Training until validation scores don't improve for 100 rounds\n",
      "[100]\ttrain's rmse: 5.60136\teval's rmse: 6.73422\n",
      "[200]\ttrain's rmse: 4.70493\teval's rmse: 6.54361\n",
      "[300]\ttrain's rmse: 4.20211\teval's rmse: 6.52497\n",
      "[400]\ttrain's rmse: 3.85463\teval's rmse: 6.54005\n",
      "Early stopping, best iteration is:\n",
      "[331]\ttrain's rmse: 4.08654\teval's rmse: 6.50222\n"
     ]
    },
    {
     "name": "stderr",
     "output_type": "stream",
     "text": [
      "feature_fraction, val_score: 6.469663:  57%|#########################7                   | 4/7 [00:03<00:02,  1.20it/s]\u001b[32m[I 2021-06-20 17:56:22,637]\u001b[0m Trial 3 finished with value: 6.5022193938483905 and parameters: {'feature_fraction': 0.6}. Best is trial 0 with value: 6.469663306481697.\u001b[0m\n",
      "feature_fraction, val_score: 6.469663:  57%|#########################7                   | 4/7 [00:03<00:02,  1.20it/s]"
     ]
    },
    {
     "name": "stdout",
     "output_type": "stream",
     "text": [
      "Training until validation scores don't improve for 100 rounds\n",
      "[100]\ttrain's rmse: 5.49411\teval's rmse: 6.7573\n",
      "[200]\ttrain's rmse: 4.60941\teval's rmse: 6.61002\n",
      "[300]\ttrain's rmse: 4.09224\teval's rmse: 6.55165\n",
      "[400]\ttrain's rmse: 3.727\teval's rmse: 6.56423\n",
      "Early stopping, best iteration is:\n",
      "[385]\ttrain's rmse: 3.77698\teval's rmse: 6.54231\n"
     ]
    },
    {
     "name": "stderr",
     "output_type": "stream",
     "text": [
      "feature_fraction, val_score: 6.469663:  71%|################################1            | 5/7 [00:04<00:01,  1.19it/s]\u001b[32m[I 2021-06-20 17:56:23,492]\u001b[0m Trial 4 finished with value: 6.54230808916794 and parameters: {'feature_fraction': 0.7}. Best is trial 0 with value: 6.469663306481697.\u001b[0m\n",
      "feature_fraction, val_score: 6.469663:  71%|################################1            | 5/7 [00:04<00:01,  1.19it/s]"
     ]
    },
    {
     "name": "stdout",
     "output_type": "stream",
     "text": [
      "Training until validation scores don't improve for 100 rounds\n",
      "[100]\ttrain's rmse: 5.41323\teval's rmse: 6.76847\n",
      "[200]\ttrain's rmse: 4.53222\teval's rmse: 6.61605\n",
      "[300]\ttrain's rmse: 4.02279\teval's rmse: 6.56196\n",
      "[400]\ttrain's rmse: 3.6513\teval's rmse: 6.5251\n",
      "Early stopping, best iteration is:\n",
      "[390]\ttrain's rmse: 3.68637\teval's rmse: 6.50844\n"
     ]
    },
    {
     "name": "stderr",
     "output_type": "stream",
     "text": [
      "feature_fraction, val_score: 6.469663:  86%|######################################5      | 6/7 [00:05<00:00,  1.18it/s]\u001b[32m[I 2021-06-20 17:56:24,356]\u001b[0m Trial 5 finished with value: 6.508435024263765 and parameters: {'feature_fraction': 0.8}. Best is trial 0 with value: 6.469663306481697.\u001b[0m\n",
      "feature_fraction, val_score: 6.469663:  86%|######################################5      | 6/7 [00:05<00:00,  1.18it/s]"
     ]
    },
    {
     "name": "stdout",
     "output_type": "stream",
     "text": [
      "Training until validation scores don't improve for 100 rounds\n",
      "[100]\ttrain's rmse: 5.43394\teval's rmse: 6.80006\n",
      "[200]\ttrain's rmse: 4.51948\teval's rmse: 6.60963\n",
      "[300]\ttrain's rmse: 3.99638\teval's rmse: 6.56983\n"
     ]
    },
    {
     "name": "stderr",
     "output_type": "stream",
     "text": [
      "feature_fraction, val_score: 6.469663: 100%|#############################################| 7/7 [00:05<00:00,  1.29it/s]\u001b[32m[I 2021-06-20 17:56:24,971]\u001b[0m Trial 6 finished with value: 6.556658616310451 and parameters: {'feature_fraction': 0.8999999999999999}. Best is trial 0 with value: 6.469663306481697.\u001b[0m\n",
      "feature_fraction, val_score: 6.469663: 100%|#############################################| 7/7 [00:05<00:00,  1.20it/s]\n",
      "num_leaves, val_score: 6.469663:   0%|                                                          | 0/20 [00:00<?, ?it/s]"
     ]
    },
    {
     "name": "stdout",
     "output_type": "stream",
     "text": [
      "Early stopping, best iteration is:\n",
      "[251]\ttrain's rmse: 4.2269\teval's rmse: 6.55666\n",
      "Training until validation scores don't improve for 100 rounds\n",
      "[100]\ttrain's rmse: 5.12097\teval's rmse: 6.789\n",
      "[200]\ttrain's rmse: 4.08001\teval's rmse: 6.66507\n",
      "[300]\ttrain's rmse: 3.47245\teval's rmse: 6.61454\n",
      "[400]\ttrain's rmse: 3.03365\teval's rmse: 6.64783\n",
      "Early stopping, best iteration is:\n",
      "[315]\ttrain's rmse: 3.39537\teval's rmse: 6.59344\n"
     ]
    },
    {
     "name": "stderr",
     "output_type": "stream",
     "text": [
      "num_leaves, val_score: 6.469663:   5%|##5                                               | 1/20 [00:00<00:18,  1.00it/s]\u001b[32m[I 2021-06-20 17:56:25,980]\u001b[0m Trial 7 finished with value: 6.593436084519589 and parameters: {'num_leaves': 61}. Best is trial 7 with value: 6.593436084519589.\u001b[0m\n",
      "num_leaves, val_score: 6.469663:   5%|##5                                               | 1/20 [00:01<00:18,  1.00it/s]"
     ]
    },
    {
     "name": "stdout",
     "output_type": "stream",
     "text": [
      "Training until validation scores don't improve for 100 rounds\n",
      "[100]\ttrain's rmse: 5.12097\teval's rmse: 6.789\n",
      "[200]\ttrain's rmse: 4.08001\teval's rmse: 6.66507\n",
      "[300]\ttrain's rmse: 3.47245\teval's rmse: 6.61454\n"
     ]
    },
    {
     "name": "stderr",
     "output_type": "stream",
     "text": [
      "num_leaves, val_score: 6.469663:  10%|#####                                             | 2/20 [00:02<00:18,  1.01s/it]\u001b[32m[I 2021-06-20 17:56:26,993]\u001b[0m Trial 8 finished with value: 6.593436084519589 and parameters: {'num_leaves': 126}. Best is trial 7 with value: 6.593436084519589.\u001b[0m\n",
      "num_leaves, val_score: 6.469663:  10%|#####                                             | 2/20 [00:02<00:18,  1.01s/it]"
     ]
    },
    {
     "name": "stdout",
     "output_type": "stream",
     "text": [
      "[400]\ttrain's rmse: 3.03365\teval's rmse: 6.64783\n",
      "Early stopping, best iteration is:\n",
      "[315]\ttrain's rmse: 3.39537\teval's rmse: 6.59344\n",
      "Training until validation scores don't improve for 100 rounds\n",
      "[100]\ttrain's rmse: 7.36159\teval's rmse: 7.54452\n",
      "[200]\ttrain's rmse: 6.97309\teval's rmse: 7.31664\n",
      "[300]\ttrain's rmse: 6.77108\teval's rmse: 7.19428\n",
      "[400]\ttrain's rmse: 6.61027\teval's rmse: 7.07124\n",
      "[500]\ttrain's rmse: 6.47573\teval's rmse: 7.01894\n"
     ]
    },
    {
     "name": "stderr",
     "output_type": "stream",
     "text": [
      "\r",
      "num_leaves, val_score: 6.469663:  10%|#####                                             | 2/20 [00:02<00:18,  1.01s/it]"
     ]
    },
    {
     "name": "stdout",
     "output_type": "stream",
     "text": [
      "[600]\ttrain's rmse: 6.37037\teval's rmse: 6.95401\n",
      "[700]\ttrain's rmse: 6.25383\teval's rmse: 6.90146\n",
      "[800]\ttrain's rmse: 6.17281\teval's rmse: 6.85131\n",
      "[900]\ttrain's rmse: 6.0868\teval's rmse: 6.82645\n",
      "[1000]\ttrain's rmse: 6.0224\teval's rmse: 6.77979\n",
      "Did not meet early stopping. Best iteration is:\n",
      "[1000]\ttrain's rmse: 6.0224\teval's rmse: 6.77979\n"
     ]
    },
    {
     "name": "stderr",
     "output_type": "stream",
     "text": [
      "num_leaves, val_score: 6.469663:  15%|#######5                                          | 3/20 [00:02<00:13,  1.31it/s]\u001b[32m[I 2021-06-20 17:56:27,471]\u001b[0m Trial 9 finished with value: 6.779792888887593 and parameters: {'num_leaves': 3}. Best is trial 7 with value: 6.593436084519589.\u001b[0m\n",
      "num_leaves, val_score: 6.469663:  15%|#######5                                          | 3/20 [00:02<00:13,  1.31it/s]"
     ]
    },
    {
     "name": "stdout",
     "output_type": "stream",
     "text": [
      "Training until validation scores don't improve for 100 rounds\n",
      "[100]\ttrain's rmse: 6.78488\teval's rmse: 7.29732\n",
      "[200]\ttrain's rmse: 6.27091\teval's rmse: 7.05655\n",
      "[300]\ttrain's rmse: 5.96717\teval's rmse: 6.88921\n",
      "[400]\ttrain's rmse: 5.72135\teval's rmse: 6.78095\n"
     ]
    },
    {
     "name": "stderr",
     "output_type": "stream",
     "text": [
      "\r",
      "num_leaves, val_score: 6.469663:  15%|#######5                                          | 3/20 [00:02<00:13,  1.31it/s]"
     ]
    },
    {
     "name": "stdout",
     "output_type": "stream",
     "text": [
      "[500]\ttrain's rmse: 5.54632\teval's rmse: 6.7541\n",
      "[600]\ttrain's rmse: 5.38946\teval's rmse: 6.70479\n",
      "[700]\ttrain's rmse: 5.24739\teval's rmse: 6.65476\n",
      "Early stopping, best iteration is:\n",
      "[685]\ttrain's rmse: 5.26338\teval's rmse: 6.63537\n"
     ]
    },
    {
     "name": "stderr",
     "output_type": "stream",
     "text": [
      "num_leaves, val_score: 6.469663:  20%|##########                                        | 4/20 [00:02<00:10,  1.52it/s]\u001b[32m[I 2021-06-20 17:56:27,963]\u001b[0m Trial 10 finished with value: 6.635368561173525 and parameters: {'num_leaves': 6}. Best is trial 7 with value: 6.593436084519589.\u001b[0m\n",
      "num_leaves, val_score: 6.469663:  20%|##########                                        | 4/20 [00:02<00:10,  1.52it/s]"
     ]
    },
    {
     "name": "stdout",
     "output_type": "stream",
     "text": [
      "Training until validation scores don't improve for 100 rounds\n",
      "[100]\ttrain's rmse: 6.52335\teval's rmse: 7.14753\n",
      "[200]\ttrain's rmse: 5.96709\teval's rmse: 6.88812\n",
      "[300]\ttrain's rmse: 5.63634\teval's rmse: 6.75849\n",
      "[400]\ttrain's rmse: 5.3651\teval's rmse: 6.62938\n",
      "[500]\ttrain's rmse: 5.16814\teval's rmse: 6.59155\n",
      "[600]\ttrain's rmse: 4.99695\teval's rmse: 6.54106\n",
      "[700]\ttrain's rmse: 4.85017\teval's rmse: 6.53477\n"
     ]
    },
    {
     "name": "stderr",
     "output_type": "stream",
     "text": [
      "num_leaves, val_score: 6.469663:  25%|############5                                     | 5/20 [00:03<00:09,  1.51it/s]\u001b[32m[I 2021-06-20 17:56:28,637]\u001b[0m Trial 11 finished with value: 6.503845061548317 and parameters: {'num_leaves': 8}. Best is trial 11 with value: 6.503845061548317.\u001b[0m\n",
      "num_leaves, val_score: 6.469663:  25%|############5                                     | 5/20 [00:03<00:09,  1.51it/s]"
     ]
    },
    {
     "name": "stdout",
     "output_type": "stream",
     "text": [
      "Early stopping, best iteration is:\n",
      "[685]\ttrain's rmse: 4.86937\teval's rmse: 6.50385\n",
      "Training until validation scores don't improve for 100 rounds\n",
      "[100]\ttrain's rmse: 5.30536\teval's rmse: 6.81395\n",
      "[200]\ttrain's rmse: 4.35166\teval's rmse: 6.61729\n",
      "[300]\ttrain's rmse: 3.78849\teval's rmse: 6.5538\n",
      "[400]\ttrain's rmse: 3.38462\teval's rmse: 6.56468\n",
      "Early stopping, best iteration is:\n",
      "[318]\ttrain's rmse: 3.70353\teval's rmse: 6.54019\n"
     ]
    },
    {
     "name": "stderr",
     "output_type": "stream",
     "text": [
      "num_leaves, val_score: 6.469663:  30%|###############                                   | 6/20 [00:04<00:10,  1.40it/s]\u001b[32m[I 2021-06-20 17:56:29,455]\u001b[0m Trial 12 finished with value: 6.540194577503224 and parameters: {'num_leaves': 34}. Best is trial 11 with value: 6.503845061548317.\u001b[0m\n",
      "num_leaves, val_score: 6.469663:  30%|###############                                   | 6/20 [00:04<00:10,  1.40it/s]"
     ]
    },
    {
     "name": "stdout",
     "output_type": "stream",
     "text": [
      "Training until validation scores don't improve for 100 rounds\n",
      "[100]\ttrain's rmse: 5.12097\teval's rmse: 6.789\n",
      "[200]\ttrain's rmse: 4.08001\teval's rmse: 6.66507\n",
      "[300]\ttrain's rmse: 3.47245\teval's rmse: 6.61454\n"
     ]
    },
    {
     "name": "stderr",
     "output_type": "stream",
     "text": [
      "num_leaves, val_score: 6.469663:  35%|#################5                                | 7/20 [00:05<00:10,  1.24it/s]\u001b[32m[I 2021-06-20 17:56:30,444]\u001b[0m Trial 13 finished with value: 6.593436084519589 and parameters: {'num_leaves': 99}. Best is trial 11 with value: 6.503845061548317.\u001b[0m\n",
      "num_leaves, val_score: 6.469663:  35%|#################5                                | 7/20 [00:05<00:10,  1.24it/s]"
     ]
    },
    {
     "name": "stdout",
     "output_type": "stream",
     "text": [
      "[400]\ttrain's rmse: 3.03365\teval's rmse: 6.64783\n",
      "Early stopping, best iteration is:\n",
      "[315]\ttrain's rmse: 3.39537\teval's rmse: 6.59344\n",
      "Training until validation scores don't improve for 100 rounds\n",
      "[100]\ttrain's rmse: 5.12097\teval's rmse: 6.789\n",
      "[200]\ttrain's rmse: 4.08001\teval's rmse: 6.66507\n",
      "[300]\ttrain's rmse: 3.47245\teval's rmse: 6.61454\n"
     ]
    },
    {
     "name": "stderr",
     "output_type": "stream",
     "text": [
      "num_leaves, val_score: 6.469663:  40%|####################                              | 8/20 [00:06<00:11,  1.07it/s]"
     ]
    },
    {
     "name": "stdout",
     "output_type": "stream",
     "text": [
      "[400]\ttrain's rmse: 3.03365\teval's rmse: 6.64783\n",
      "Early stopping, best iteration is:\n",
      "[315]\ttrain's rmse: 3.39537\teval's rmse: 6.59344\n"
     ]
    },
    {
     "name": "stderr",
     "output_type": "stream",
     "text": [
      "\u001b[32m[I 2021-06-20 17:56:31,660]\u001b[0m Trial 14 finished with value: 6.593436084519589 and parameters: {'num_leaves': 231}. Best is trial 11 with value: 6.503845061548317.\u001b[0m\n",
      "num_leaves, val_score: 6.469663:  40%|####################                              | 8/20 [00:06<00:11,  1.07it/s]"
     ]
    },
    {
     "name": "stdout",
     "output_type": "stream",
     "text": [
      "Training until validation scores don't improve for 100 rounds\n",
      "[100]\ttrain's rmse: 5.12097\teval's rmse: 6.789\n",
      "[200]\ttrain's rmse: 4.08001\teval's rmse: 6.66507\n",
      "[300]\ttrain's rmse: 3.47245\teval's rmse: 6.61454\n"
     ]
    },
    {
     "name": "stderr",
     "output_type": "stream",
     "text": [
      "\r",
      "num_leaves, val_score: 6.469663:  40%|####################                              | 8/20 [00:07<00:11,  1.07it/s]"
     ]
    },
    {
     "name": "stdout",
     "output_type": "stream",
     "text": [
      "[400]\ttrain's rmse: 3.03365\teval's rmse: 6.64783\n",
      "Early stopping, best iteration is:\n",
      "[315]\ttrain's rmse: 3.39537\teval's rmse: 6.59344\n"
     ]
    },
    {
     "name": "stderr",
     "output_type": "stream",
     "text": [
      "num_leaves, val_score: 6.469663:  45%|######################5                           | 9/20 [00:07<00:10,  1.01it/s]\u001b[32m[I 2021-06-20 17:56:32,781]\u001b[0m Trial 15 finished with value: 6.593436084519589 and parameters: {'num_leaves': 211}. Best is trial 11 with value: 6.503845061548317.\u001b[0m\n",
      "num_leaves, val_score: 6.469663:  45%|######################5                           | 9/20 [00:07<00:10,  1.01it/s]"
     ]
    },
    {
     "name": "stdout",
     "output_type": "stream",
     "text": [
      "Training until validation scores don't improve for 100 rounds\n",
      "[100]\ttrain's rmse: 5.12097\teval's rmse: 6.789\n",
      "[200]\ttrain's rmse: 4.08001\teval's rmse: 6.66507\n",
      "[300]\ttrain's rmse: 3.47245\teval's rmse: 6.61454\n"
     ]
    },
    {
     "name": "stderr",
     "output_type": "stream",
     "text": [
      "num_leaves, val_score: 6.469663:  50%|########################5                        | 10/20 [00:08<00:09,  1.00it/s]\u001b[32m[I 2021-06-20 17:56:33,793]\u001b[0m Trial 16 finished with value: 6.593436084519589 and parameters: {'num_leaves': 68}. Best is trial 11 with value: 6.503845061548317.\u001b[0m\n",
      "num_leaves, val_score: 6.469663:  50%|########################5                        | 10/20 [00:08<00:09,  1.00it/s]"
     ]
    },
    {
     "name": "stdout",
     "output_type": "stream",
     "text": [
      "[400]\ttrain's rmse: 3.03365\teval's rmse: 6.64783\n",
      "Early stopping, best iteration is:\n",
      "[315]\ttrain's rmse: 3.39537\teval's rmse: 6.59344\n",
      "Training until validation scores don't improve for 100 rounds\n",
      "[100]\ttrain's rmse: 5.12097\teval's rmse: 6.789\n",
      "[200]\ttrain's rmse: 4.08001\teval's rmse: 6.66507\n",
      "[300]\ttrain's rmse: 3.47245\teval's rmse: 6.61454\n"
     ]
    },
    {
     "name": "stderr",
     "output_type": "stream",
     "text": [
      "num_leaves, val_score: 6.469663:  55%|##########################9                      | 11/20 [00:09<00:09,  1.02s/it]"
     ]
    },
    {
     "name": "stdout",
     "output_type": "stream",
     "text": [
      "[400]\ttrain's rmse: 3.03365\teval's rmse: 6.64783\n",
      "Early stopping, best iteration is:\n",
      "[315]\ttrain's rmse: 3.39537\teval's rmse: 6.59344\n"
     ]
    },
    {
     "name": "stderr",
     "output_type": "stream",
     "text": [
      "\u001b[32m[I 2021-06-20 17:56:34,848]\u001b[0m Trial 17 finished with value: 6.593436084519589 and parameters: {'num_leaves': 179}. Best is trial 11 with value: 6.503845061548317.\u001b[0m\n",
      "num_leaves, val_score: 6.469663:  55%|##########################9                      | 11/20 [00:09<00:09,  1.02s/it]"
     ]
    },
    {
     "name": "stdout",
     "output_type": "stream",
     "text": [
      "Training until validation scores don't improve for 100 rounds\n",
      "[100]\ttrain's rmse: 5.30888\teval's rmse: 6.73502\n",
      "[200]\ttrain's rmse: 4.33511\teval's rmse: 6.53559\n",
      "[300]\ttrain's rmse: 3.77106\teval's rmse: 6.50132\n",
      "[400]\ttrain's rmse: 3.36049\teval's rmse: 6.4658\n",
      "Early stopping, best iteration is:\n",
      "[389]\ttrain's rmse: 3.40099\teval's rmse: 6.44473\n"
     ]
    },
    {
     "name": "stderr",
     "output_type": "stream",
     "text": [
      "num_leaves, val_score: 6.444728:  60%|#############################4                   | 12/20 [00:10<00:08,  1.01s/it]\u001b[32m[I 2021-06-20 17:56:35,838]\u001b[0m Trial 18 finished with value: 6.444727571540453 and parameters: {'num_leaves': 35}. Best is trial 18 with value: 6.444727571540453.\u001b[0m\n",
      "num_leaves, val_score: 6.444728:  60%|#############################4                   | 12/20 [00:10<00:08,  1.01s/it]"
     ]
    },
    {
     "name": "stdout",
     "output_type": "stream",
     "text": [
      "Training until validation scores don't improve for 100 rounds\n",
      "[100]\ttrain's rmse: 6.78488\teval's rmse: 7.29732\n",
      "[200]\ttrain's rmse: 6.27091\teval's rmse: 7.05655\n",
      "[300]\ttrain's rmse: 5.96717\teval's rmse: 6.88921\n",
      "[400]\ttrain's rmse: 5.72135\teval's rmse: 6.78095\n"
     ]
    },
    {
     "name": "stderr",
     "output_type": "stream",
     "text": [
      "\r",
      "num_leaves, val_score: 6.444728:  60%|#############################4                   | 12/20 [00:11<00:08,  1.01s/it]"
     ]
    },
    {
     "name": "stdout",
     "output_type": "stream",
     "text": [
      "[500]\ttrain's rmse: 5.54632\teval's rmse: 6.7541\n",
      "[600]\ttrain's rmse: 5.38946\teval's rmse: 6.70479\n",
      "[700]\ttrain's rmse: 5.24739\teval's rmse: 6.65476\n",
      "Early stopping, best iteration is:\n",
      "[685]\ttrain's rmse: 5.26338\teval's rmse: 6.63537\n"
     ]
    },
    {
     "name": "stderr",
     "output_type": "stream",
     "text": [
      "num_leaves, val_score: 6.444728:  65%|###############################8                 | 13/20 [00:11<00:06,  1.16it/s]\u001b[32m[I 2021-06-20 17:56:36,356]\u001b[0m Trial 19 finished with value: 6.635368561173525 and parameters: {'num_leaves': 6}. Best is trial 18 with value: 6.444727571540453.\u001b[0m\n",
      "num_leaves, val_score: 6.444728:  65%|###############################8                 | 13/20 [00:11<00:06,  1.16it/s]"
     ]
    },
    {
     "name": "stdout",
     "output_type": "stream",
     "text": [
      "Training until validation scores don't improve for 100 rounds\n",
      "[100]\ttrain's rmse: 5.16664\teval's rmse: 6.81802\n",
      "[200]\ttrain's rmse: 4.13543\teval's rmse: 6.67852\n",
      "[300]\ttrain's rmse: 3.5227\teval's rmse: 6.65637\n"
     ]
    },
    {
     "name": "stderr",
     "output_type": "stream",
     "text": [
      "num_leaves, val_score: 6.444728:  70%|##################################3              | 14/20 [00:12<00:04,  1.21it/s]\u001b[32m[I 2021-06-20 17:56:37,118]\u001b[0m Trial 20 finished with value: 6.633381627873135 and parameters: {'num_leaves': 44}. Best is trial 18 with value: 6.444727571540453.\u001b[0m\n",
      "num_leaves, val_score: 6.444728:  70%|##################################3              | 14/20 [00:12<00:04,  1.21it/s]"
     ]
    },
    {
     "name": "stdout",
     "output_type": "stream",
     "text": [
      "Early stopping, best iteration is:\n",
      "[255]\ttrain's rmse: 3.76927\teval's rmse: 6.63338\n",
      "Training until validation scores don't improve for 100 rounds\n",
      "[100]\ttrain's rmse: 5.12097\teval's rmse: 6.789\n",
      "[200]\ttrain's rmse: 4.08001\teval's rmse: 6.66507\n",
      "[300]\ttrain's rmse: 3.47245\teval's rmse: 6.61454\n"
     ]
    },
    {
     "name": "stderr",
     "output_type": "stream",
     "text": [
      "\r",
      "num_leaves, val_score: 6.444728:  70%|##################################3              | 14/20 [00:13<00:04,  1.21it/s]"
     ]
    },
    {
     "name": "stdout",
     "output_type": "stream",
     "text": [
      "[400]\ttrain's rmse: 3.03365\teval's rmse: 6.64783\n",
      "Early stopping, best iteration is:\n",
      "[315]\ttrain's rmse: 3.39537\teval's rmse: 6.59344\n"
     ]
    },
    {
     "name": "stderr",
     "output_type": "stream",
     "text": [
      "num_leaves, val_score: 6.444728:  75%|####################################7            | 15/20 [00:13<00:04,  1.09it/s]\u001b[32m[I 2021-06-20 17:56:38,231]\u001b[0m Trial 21 finished with value: 6.593436084519589 and parameters: {'num_leaves': 94}. Best is trial 18 with value: 6.444727571540453.\u001b[0m\n",
      "num_leaves, val_score: 6.444728:  75%|####################################7            | 15/20 [00:13<00:04,  1.09it/s]"
     ]
    },
    {
     "name": "stdout",
     "output_type": "stream",
     "text": [
      "Training until validation scores don't improve for 100 rounds\n",
      "[100]\ttrain's rmse: 5.6859\teval's rmse: 6.84856\n",
      "[200]\ttrain's rmse: 4.85515\teval's rmse: 6.62111\n",
      "[300]\ttrain's rmse: 4.38643\teval's rmse: 6.53663\n",
      "[400]\ttrain's rmse: 4.03585\teval's rmse: 6.49609\n",
      "Early stopping, best iteration is:\n",
      "[390]\ttrain's rmse: 4.06801\teval's rmse: 6.48617\n"
     ]
    },
    {
     "name": "stderr",
     "output_type": "stream",
     "text": [
      "num_leaves, val_score: 6.444728:  80%|#######################################2         | 16/20 [00:14<00:03,  1.05it/s]\u001b[32m[I 2021-06-20 17:56:39,256]\u001b[0m Trial 22 finished with value: 6.486167999086988 and parameters: {'num_leaves': 22}. Best is trial 18 with value: 6.444727571540453.\u001b[0m\n",
      "num_leaves, val_score: 6.444728:  80%|#######################################2         | 16/20 [00:14<00:03,  1.05it/s]"
     ]
    },
    {
     "name": "stdout",
     "output_type": "stream",
     "text": [
      "Training until validation scores don't improve for 100 rounds\n",
      "[100]\ttrain's rmse: 5.12097\teval's rmse: 6.789\n",
      "[200]\ttrain's rmse: 4.08001\teval's rmse: 6.66507\n",
      "[300]\ttrain's rmse: 3.47245\teval's rmse: 6.61454\n"
     ]
    },
    {
     "name": "stderr",
     "output_type": "stream",
     "text": [
      "num_leaves, val_score: 6.444728:  85%|#########################################6       | 17/20 [00:15<00:03,  1.12s/it]\u001b[32m[I 2021-06-20 17:56:40,772]\u001b[0m Trial 23 finished with value: 6.593436084519589 and parameters: {'num_leaves': 147}. Best is trial 18 with value: 6.444727571540453.\u001b[0m\n",
      "num_leaves, val_score: 6.444728:  85%|#########################################6       | 17/20 [00:15<00:03,  1.12s/it]"
     ]
    },
    {
     "name": "stdout",
     "output_type": "stream",
     "text": [
      "[400]\ttrain's rmse: 3.03365\teval's rmse: 6.64783\n",
      "Early stopping, best iteration is:\n",
      "[315]\ttrain's rmse: 3.39537\teval's rmse: 6.59344\n",
      "Training until validation scores don't improve for 100 rounds\n",
      "[100]\ttrain's rmse: 5.28424\teval's rmse: 6.70564\n",
      "[200]\ttrain's rmse: 4.30956\teval's rmse: 6.52733\n",
      "[300]\ttrain's rmse: 3.7437\teval's rmse: 6.52086\n"
     ]
    },
    {
     "name": "stderr",
     "output_type": "stream",
     "text": [
      "num_leaves, val_score: 6.444728:  90%|############################################1    | 18/20 [00:16<00:02,  1.03s/it]\u001b[32m[I 2021-06-20 17:56:41,578]\u001b[0m Trial 24 finished with value: 6.502663014652614 and parameters: {'num_leaves': 36}. Best is trial 18 with value: 6.444727571540453.\u001b[0m\n",
      "num_leaves, val_score: 6.444728:  90%|############################################1    | 18/20 [00:16<00:02,  1.03s/it]"
     ]
    },
    {
     "name": "stdout",
     "output_type": "stream",
     "text": [
      "Early stopping, best iteration is:\n",
      "[235]\ttrain's rmse: 4.08357\teval's rmse: 6.50266\n",
      "Training until validation scores don't improve for 100 rounds\n",
      "[100]\ttrain's rmse: 5.12097\teval's rmse: 6.789\n",
      "[200]\ttrain's rmse: 4.08001\teval's rmse: 6.66507\n",
      "[300]\ttrain's rmse: 3.47245\teval's rmse: 6.61454\n"
     ]
    },
    {
     "name": "stderr",
     "output_type": "stream",
     "text": [
      "\r",
      "num_leaves, val_score: 6.444728:  90%|############################################1    | 18/20 [00:17<00:02,  1.03s/it]"
     ]
    },
    {
     "name": "stdout",
     "output_type": "stream",
     "text": [
      "[400]\ttrain's rmse: 3.03365\teval's rmse: 6.64783\n",
      "Early stopping, best iteration is:\n",
      "[315]\ttrain's rmse: 3.39537\teval's rmse: 6.59344\n"
     ]
    },
    {
     "name": "stderr",
     "output_type": "stream",
     "text": [
      "num_leaves, val_score: 6.444728:  95%|##############################################5  | 19/20 [00:17<00:01,  1.04s/it]\u001b[32m[I 2021-06-20 17:56:42,664]\u001b[0m Trial 25 finished with value: 6.593436084519589 and parameters: {'num_leaves': 96}. Best is trial 18 with value: 6.444727571540453.\u001b[0m\n",
      "num_leaves, val_score: 6.444728:  95%|##############################################5  | 19/20 [00:17<00:01,  1.04s/it]"
     ]
    },
    {
     "name": "stdout",
     "output_type": "stream",
     "text": [
      "Training until validation scores don't improve for 100 rounds\n",
      "[100]\ttrain's rmse: 5.12097\teval's rmse: 6.789\n",
      "[200]\ttrain's rmse: 4.08001\teval's rmse: 6.66507\n",
      "[300]\ttrain's rmse: 3.47245\teval's rmse: 6.61454\n"
     ]
    },
    {
     "name": "stderr",
     "output_type": "stream",
     "text": [
      "\r",
      "num_leaves, val_score: 6.444728:  95%|##############################################5  | 19/20 [00:18<00:01,  1.04s/it]"
     ]
    },
    {
     "name": "stdout",
     "output_type": "stream",
     "text": [
      "[400]\ttrain's rmse: 3.03365\teval's rmse: 6.64783\n",
      "Early stopping, best iteration is:\n",
      "[315]\ttrain's rmse: 3.39537\teval's rmse: 6.59344\n"
     ]
    },
    {
     "name": "stderr",
     "output_type": "stream",
     "text": [
      "num_leaves, val_score: 6.444728: 100%|#################################################| 20/20 [00:18<00:00,  1.08s/it]\u001b[32m[I 2021-06-20 17:56:43,820]\u001b[0m Trial 26 finished with value: 6.593436084519589 and parameters: {'num_leaves': 72}. Best is trial 18 with value: 6.444727571540453.\u001b[0m\n",
      "num_leaves, val_score: 6.444728: 100%|#################################################| 20/20 [00:18<00:00,  1.06it/s]\n",
      "bagging, val_score: 6.444728:   0%|                                                             | 0/10 [00:00<?, ?it/s]"
     ]
    },
    {
     "name": "stdout",
     "output_type": "stream",
     "text": [
      "Training until validation scores don't improve for 100 rounds\n",
      "[100]\ttrain's rmse: 5.34114\teval's rmse: 6.83819\n",
      "[200]\ttrain's rmse: 4.39551\teval's rmse: 6.7026\n",
      "[300]\ttrain's rmse: 3.84311\teval's rmse: 6.62848\n",
      "[400]\ttrain's rmse: 3.43288\teval's rmse: 6.56712\n",
      "[500]\ttrain's rmse: 3.1161\teval's rmse: 6.58638\n",
      "Early stopping, best iteration is:\n",
      "[420]\ttrain's rmse: 3.36498\teval's rmse: 6.54383\n"
     ]
    },
    {
     "name": "stderr",
     "output_type": "stream",
     "text": [
      "bagging, val_score: 6.444728:  10%|#####3                                               | 1/10 [00:03<00:27,  3.06s/it]\u001b[32m[I 2021-06-20 17:56:46,905]\u001b[0m Trial 27 finished with value: 6.543833346228354 and parameters: {'bagging_fraction': 0.7201277560132078, 'bagging_freq': 3}. Best is trial 27 with value: 6.543833346228354.\u001b[0m\n",
      "bagging, val_score: 6.444728:  10%|#####3                                               | 1/10 [00:03<00:27,  3.06s/it]"
     ]
    },
    {
     "name": "stdout",
     "output_type": "stream",
     "text": [
      "Training until validation scores don't improve for 100 rounds\n",
      "[100]\ttrain's rmse: 5.68461\teval's rmse: 7.01165\n",
      "[200]\ttrain's rmse: 4.80879\teval's rmse: 6.80105\n",
      "[300]\ttrain's rmse: 4.2755\teval's rmse: 6.68837\n",
      "[400]\ttrain's rmse: 3.88971\teval's rmse: 6.64466\n",
      "[500]\ttrain's rmse: 3.57702\teval's rmse: 6.65328\n",
      "Early stopping, best iteration is:\n",
      "[424]\ttrain's rmse: 3.80793\teval's rmse: 6.62442\n"
     ]
    },
    {
     "name": "stderr",
     "output_type": "stream",
     "text": [
      "bagging, val_score: 6.444728:  20%|##########6                                          | 2/10 [00:05<00:19,  2.41s/it]\u001b[32m[I 2021-06-20 17:56:48,851]\u001b[0m Trial 28 finished with value: 6.624417349404176 and parameters: {'bagging_fraction': 0.557772250610589, 'bagging_freq': 4}. Best is trial 27 with value: 6.543833346228354.\u001b[0m\n",
      "bagging, val_score: 6.444728:  20%|##########6                                          | 2/10 [00:05<00:19,  2.41s/it]"
     ]
    },
    {
     "name": "stdout",
     "output_type": "stream",
     "text": [
      "Training until validation scores don't improve for 100 rounds\n",
      "[100]\ttrain's rmse: 5.10423\teval's rmse: 6.69078\n",
      "[200]\ttrain's rmse: 4.11915\teval's rmse: 6.55896\n",
      "[300]\ttrain's rmse: 3.57661\teval's rmse: 6.51847\n"
     ]
    },
    {
     "name": "stderr",
     "output_type": "stream",
     "text": [
      "bagging, val_score: 6.444728:  30%|###############9                                     | 3/10 [00:06<00:13,  1.90s/it]\u001b[32m[I 2021-06-20 17:56:50,157]\u001b[0m Trial 29 finished with value: 6.507850199531 and parameters: {'bagging_fraction': 0.946446525713578, 'bagging_freq': 2}. Best is trial 29 with value: 6.507850199531.\u001b[0m\n",
      "bagging, val_score: 6.444728:  30%|###############9                                     | 3/10 [00:06<00:13,  1.90s/it]"
     ]
    },
    {
     "name": "stdout",
     "output_type": "stream",
     "text": [
      "Early stopping, best iteration is:\n",
      "[280]\ttrain's rmse: 3.67144\teval's rmse: 6.50785\n",
      "Training until validation scores don't improve for 100 rounds\n",
      "[100]\ttrain's rmse: 6.0731\teval's rmse: 6.99821\n",
      "[200]\ttrain's rmse: 5.31296\teval's rmse: 6.71242\n"
     ]
    },
    {
     "name": "stderr",
     "output_type": "stream",
     "text": [
      "bagging, val_score: 6.444728:  40%|#####################2                               | 4/10 [00:07<00:08,  1.48s/it]\u001b[32m[I 2021-06-20 17:56:50,970]\u001b[0m Trial 30 finished with value: 6.677713089516252 and parameters: {'bagging_fraction': 0.4090988307323489, 'bagging_freq': 2}. Best is trial 29 with value: 6.507850199531.\u001b[0m\n",
      "bagging, val_score: 6.444728:  40%|#####################2                               | 4/10 [00:07<00:08,  1.48s/it]"
     ]
    },
    {
     "name": "stdout",
     "output_type": "stream",
     "text": [
      "Early stopping, best iteration is:\n",
      "[192]\ttrain's rmse: 5.35678\teval's rmse: 6.67771\n",
      "Training until validation scores don't improve for 100 rounds\n",
      "[100]\ttrain's rmse: 5.34954\teval's rmse: 6.80745\n",
      "[200]\ttrain's rmse: 4.4086\teval's rmse: 6.63982\n",
      "[300]\ttrain's rmse: 3.85783\teval's rmse: 6.62845\n"
     ]
    },
    {
     "name": "stderr",
     "output_type": "stream",
     "text": [
      "bagging, val_score: 6.444728:  50%|##########################5                          | 5/10 [00:08<00:08,  1.60s/it]\u001b[32m[I 2021-06-20 17:56:52,796]\u001b[0m Trial 31 finished with value: 6.594653894876957 and parameters: {'bagging_fraction': 0.7407426039994089, 'bagging_freq': 6}. Best is trial 29 with value: 6.507850199531.\u001b[0m\n",
      "bagging, val_score: 6.444728:  50%|##########################5                          | 5/10 [00:08<00:08,  1.60s/it]"
     ]
    },
    {
     "name": "stdout",
     "output_type": "stream",
     "text": [
      "Early stopping, best iteration is:\n",
      "[282]\ttrain's rmse: 3.93781\teval's rmse: 6.59465\n",
      "Training until validation scores don't improve for 100 rounds\n",
      "[100]\ttrain's rmse: 6.08512\teval's rmse: 7.23441\n",
      "[200]\ttrain's rmse: 5.31837\teval's rmse: 7.06525\n",
      "[300]\ttrain's rmse: 4.82602\teval's rmse: 7.02348\n",
      "[400]\ttrain's rmse: 4.46796\teval's rmse: 6.97073\n",
      "[500]\ttrain's rmse: 4.21974\teval's rmse: 6.91362\n"
     ]
    },
    {
     "name": "stderr",
     "output_type": "stream",
     "text": [
      "bagging, val_score: 6.444728:  60%|###############################8                     | 6/10 [00:10<00:06,  1.64s/it]\u001b[32m[I 2021-06-20 17:56:54,525]\u001b[0m Trial 32 finished with value: 6.872453027277933 and parameters: {'bagging_fraction': 0.4327972879058176, 'bagging_freq': 5}. Best is trial 29 with value: 6.507850199531.\u001b[0m\n",
      "bagging, val_score: 6.444728:  60%|###############################8                     | 6/10 [00:10<00:06,  1.64s/it]"
     ]
    },
    {
     "name": "stdout",
     "output_type": "stream",
     "text": [
      "Early stopping, best iteration is:\n",
      "[480]\ttrain's rmse: 4.26574\teval's rmse: 6.87245\n",
      "Training until validation scores don't improve for 100 rounds\n",
      "[100]\ttrain's rmse: 5.74372\teval's rmse: 7.11903\n",
      "[200]\ttrain's rmse: 4.82099\teval's rmse: 6.89212\n",
      "[300]\ttrain's rmse: 4.30083\teval's rmse: 6.7931\n",
      "[400]\ttrain's rmse: 3.88717\teval's rmse: 6.7234\n",
      "[500]\ttrain's rmse: 3.58659\teval's rmse: 6.6939\n",
      "Early stopping, best iteration is:\n",
      "[429]\ttrain's rmse: 3.78993\teval's rmse: 6.6667\n"
     ]
    },
    {
     "name": "stderr",
     "output_type": "stream",
     "text": [
      "bagging, val_score: 6.444728:  70%|#####################################                | 7/10 [00:13<00:05,  1.93s/it]\u001b[32m[I 2021-06-20 17:56:57,043]\u001b[0m Trial 33 finished with value: 6.666701990313913 and parameters: {'bagging_fraction': 0.5498118901271897, 'bagging_freq': 6}. Best is trial 29 with value: 6.507850199531.\u001b[0m\n",
      "bagging, val_score: 6.444728:  70%|#####################################                | 7/10 [00:13<00:05,  1.93s/it]"
     ]
    },
    {
     "name": "stdout",
     "output_type": "stream",
     "text": [
      "Training until validation scores don't improve for 100 rounds\n",
      "[100]\ttrain's rmse: 5.26445\teval's rmse: 6.82625\n",
      "[200]\ttrain's rmse: 4.31503\teval's rmse: 6.61511\n",
      "[300]\ttrain's rmse: 3.72943\teval's rmse: 6.57045\n"
     ]
    },
    {
     "name": "stderr",
     "output_type": "stream",
     "text": [
      "bagging, val_score: 6.444728:  80%|##########################################4          | 8/10 [00:15<00:03,  1.96s/it]\u001b[32m[I 2021-06-20 17:56:59,086]\u001b[0m Trial 34 finished with value: 6.560932726376565 and parameters: {'bagging_fraction': 0.8017442369776733, 'bagging_freq': 3}. Best is trial 29 with value: 6.507850199531.\u001b[0m\n",
      "bagging, val_score: 6.444728:  80%|##########################################4          | 8/10 [00:15<00:03,  1.96s/it]"
     ]
    },
    {
     "name": "stdout",
     "output_type": "stream",
     "text": [
      "Early stopping, best iteration is:\n",
      "[234]\ttrain's rmse: 4.08786\teval's rmse: 6.56093\n",
      "Training until validation scores don't improve for 100 rounds\n",
      "[100]\ttrain's rmse: 5.11842\teval's rmse: 6.74446\n",
      "[200]\ttrain's rmse: 4.16316\teval's rmse: 6.54373\n",
      "[300]\ttrain's rmse: 3.6216\teval's rmse: 6.52606\n",
      "Early stopping, best iteration is:\n",
      "[268]\ttrain's rmse: 3.77248\teval's rmse: 6.49753\n"
     ]
    },
    {
     "name": "stderr",
     "output_type": "stream",
     "text": [
      "bagging, val_score: 6.444728:  90%|###############################################7     | 9/10 [00:16<00:01,  1.85s/it]\u001b[32m[I 2021-06-20 17:57:00,672]\u001b[0m Trial 35 finished with value: 6.497526182131999 and parameters: {'bagging_fraction': 0.9838548681425947, 'bagging_freq': 2}. Best is trial 35 with value: 6.497526182131999.\u001b[0m\n",
      "bagging, val_score: 6.444728:  90%|###############################################7     | 9/10 [00:16<00:01,  1.85s/it]"
     ]
    },
    {
     "name": "stdout",
     "output_type": "stream",
     "text": [
      "Training until validation scores don't improve for 100 rounds\n",
      "[100]\ttrain's rmse: 5.82398\teval's rmse: 6.97811\n",
      "[200]\ttrain's rmse: 4.98767\teval's rmse: 6.8184\n",
      "[300]\ttrain's rmse: 4.48233\teval's rmse: 6.68207\n",
      "[400]\ttrain's rmse: 4.11779\teval's rmse: 6.61618\n"
     ]
    },
    {
     "name": "stderr",
     "output_type": "stream",
     "text": [
      "bagging, val_score: 6.444728: 100%|####################################################| 10/10 [00:18<00:00,  1.74s/it]\u001b[32m[I 2021-06-20 17:57:02,174]\u001b[0m Trial 36 finished with value: 6.609696249931135 and parameters: {'bagging_fraction': 0.5003379911916306, 'bagging_freq': 3}. Best is trial 35 with value: 6.497526182131999.\u001b[0m\n",
      "bagging, val_score: 6.444728: 100%|####################################################| 10/10 [00:18<00:00,  1.83s/it]\n",
      "feature_fraction_stage2, val_score: 6.444728:   0%|                                              | 0/3 [00:00<?, ?it/s]"
     ]
    },
    {
     "name": "stdout",
     "output_type": "stream",
     "text": [
      "[500]\ttrain's rmse: 3.80943\teval's rmse: 6.67873\n",
      "Early stopping, best iteration is:\n",
      "[410]\ttrain's rmse: 4.07705\teval's rmse: 6.6097\n",
      "Training until validation scores don't improve for 100 rounds\n",
      "[100]\ttrain's rmse: 5.32045\teval's rmse: 6.7738\n",
      "[200]\ttrain's rmse: 4.3468\teval's rmse: 6.59617\n",
      "[300]\ttrain's rmse: 3.78478\teval's rmse: 6.55176\n",
      "[400]\ttrain's rmse: 3.38481\teval's rmse: 6.5291\n"
     ]
    },
    {
     "name": "stderr",
     "output_type": "stream",
     "text": [
      "feature_fraction_stage2, val_score: 6.444728:  33%|############6                         | 1/3 [00:01<00:02,  1.46s/it]\u001b[32m[I 2021-06-20 17:57:03,647]\u001b[0m Trial 37 finished with value: 6.517823658958533 and parameters: {'feature_fraction': 0.92}. Best is trial 37 with value: 6.517823658958533.\u001b[0m\n",
      "feature_fraction_stage2, val_score: 6.444728:  33%|############6                         | 1/3 [00:01<00:02,  1.46s/it]"
     ]
    },
    {
     "name": "stdout",
     "output_type": "stream",
     "text": [
      "Early stopping, best iteration is:\n",
      "[386]\ttrain's rmse: 3.43328\teval's rmse: 6.51782\n",
      "Training until validation scores don't improve for 100 rounds\n",
      "[100]\ttrain's rmse: 5.30888\teval's rmse: 6.73502\n",
      "[200]\ttrain's rmse: 4.33511\teval's rmse: 6.53559\n",
      "[300]\ttrain's rmse: 3.77106\teval's rmse: 6.50132\n",
      "[400]\ttrain's rmse: 3.36049\teval's rmse: 6.4658\n"
     ]
    },
    {
     "name": "stderr",
     "output_type": "stream",
     "text": [
      "feature_fraction_stage2, val_score: 6.444728:  67%|#########################3            | 2/3 [00:03<00:01,  1.56s/it]\u001b[32m[I 2021-06-20 17:57:05,277]\u001b[0m Trial 38 finished with value: 6.444727571540453 and parameters: {'feature_fraction': 0.9840000000000001}. Best is trial 38 with value: 6.444727571540453.\u001b[0m\n",
      "feature_fraction_stage2, val_score: 6.444728:  67%|#########################3            | 2/3 [00:03<00:01,  1.56s/it]"
     ]
    },
    {
     "name": "stdout",
     "output_type": "stream",
     "text": [
      "Early stopping, best iteration is:\n",
      "[389]\ttrain's rmse: 3.40099\teval's rmse: 6.44473\n",
      "Training until validation scores don't improve for 100 rounds\n",
      "[100]\ttrain's rmse: 5.31423\teval's rmse: 6.73306\n",
      "[200]\ttrain's rmse: 4.35807\teval's rmse: 6.55425\n",
      "[300]\ttrain's rmse: 3.79543\teval's rmse: 6.54422\n",
      "Early stopping, best iteration is:\n",
      "[225]\ttrain's rmse: 4.18911\teval's rmse: 6.50671\n"
     ]
    },
    {
     "name": "stderr",
     "output_type": "stream",
     "text": [
      "feature_fraction_stage2, val_score: 6.444728: 100%|######################################| 3/3 [00:04<00:00,  1.49s/it]\u001b[32m[I 2021-06-20 17:57:06,673]\u001b[0m Trial 39 finished with value: 6.506714351170674 and parameters: {'feature_fraction': 0.9520000000000001}. Best is trial 38 with value: 6.444727571540453.\u001b[0m\n",
      "feature_fraction_stage2, val_score: 6.444728: 100%|######################################| 3/3 [00:04<00:00,  1.50s/it]\n",
      "regularization_factors, val_score: 6.444728:   0%|                                              | 0/20 [00:00<?, ?it/s]"
     ]
    },
    {
     "name": "stdout",
     "output_type": "stream",
     "text": [
      "Training until validation scores don't improve for 100 rounds\n",
      "[100]\ttrain's rmse: 5.27667\teval's rmse: 6.75894\n",
      "[200]\ttrain's rmse: 4.33898\teval's rmse: 6.5703\n"
     ]
    },
    {
     "name": "stderr",
     "output_type": "stream",
     "text": [
      "regularization_factors, val_score: 6.444728:   5%|#9                                    | 1/20 [00:01<00:22,  1.17s/it]\u001b[32m[I 2021-06-20 17:57:07,862]\u001b[0m Trial 40 finished with value: 6.52263293377429 and parameters: {'lambda_l1': 0.00021169199027571336, 'lambda_l2': 6.927818083331707e-05}. Best is trial 40 with value: 6.52263293377429.\u001b[0m\n",
      "regularization_factors, val_score: 6.444728:   5%|#9                                    | 1/20 [00:01<00:22,  1.17s/it]"
     ]
    },
    {
     "name": "stdout",
     "output_type": "stream",
     "text": [
      "[300]\ttrain's rmse: 3.78735\teval's rmse: 6.55542\n",
      "Early stopping, best iteration is:\n",
      "[225]\ttrain's rmse: 4.17318\teval's rmse: 6.52263\n",
      "Training until validation scores don't improve for 100 rounds\n",
      "[100]\ttrain's rmse: 5.57877\teval's rmse: 6.80096\n",
      "[200]\ttrain's rmse: 4.68358\teval's rmse: 6.61781\n",
      "[300]\ttrain's rmse: 4.17657\teval's rmse: 6.56989\n",
      "Early stopping, best iteration is:\n",
      "[255]\ttrain's rmse: 4.37487\teval's rmse: 6.54899\n"
     ]
    },
    {
     "name": "stderr",
     "output_type": "stream",
     "text": [
      "regularization_factors, val_score: 6.444728:  10%|###8                                  | 2/20 [00:02<00:21,  1.18s/it]\u001b[32m[I 2021-06-20 17:57:09,043]\u001b[0m Trial 41 finished with value: 6.548993982281316 and parameters: {'lambda_l1': 9.414635520947625, 'lambda_l2': 3.284240587497432e-08}. Best is trial 40 with value: 6.52263293377429.\u001b[0m\n",
      "regularization_factors, val_score: 6.444728:  10%|###8                                  | 2/20 [00:02<00:21,  1.18s/it]"
     ]
    },
    {
     "name": "stdout",
     "output_type": "stream",
     "text": [
      "Training until validation scores don't improve for 100 rounds\n",
      "[100]\ttrain's rmse: 5.31642\teval's rmse: 6.7076\n",
      "[200]\ttrain's rmse: 4.32899\teval's rmse: 6.56535\n"
     ]
    },
    {
     "name": "stderr",
     "output_type": "stream",
     "text": [
      "\r",
      "regularization_factors, val_score: 6.444728:  10%|###8                                  | 2/20 [00:03<00:21,  1.18s/it]"
     ]
    },
    {
     "name": "stdout",
     "output_type": "stream",
     "text": [
      "[300]\ttrain's rmse: 3.77221\teval's rmse: 6.56594\n",
      "Early stopping, best iteration is:\n",
      "[235]\ttrain's rmse: 4.11106\teval's rmse: 6.53683\n"
     ]
    },
    {
     "name": "stderr",
     "output_type": "stream",
     "text": [
      "regularization_factors, val_score: 6.444728:  15%|#####7                                | 3/20 [00:03<00:19,  1.12s/it]\u001b[32m[I 2021-06-20 17:57:10,106]\u001b[0m Trial 42 finished with value: 6.536830591010882 and parameters: {'lambda_l1': 3.3592397204393387e-07, 'lambda_l2': 0.014653535736986991}. Best is trial 40 with value: 6.52263293377429.\u001b[0m\n",
      "regularization_factors, val_score: 6.444728:  15%|#####7                                | 3/20 [00:03<00:19,  1.12s/it]"
     ]
    },
    {
     "name": "stdout",
     "output_type": "stream",
     "text": [
      "Training until validation scores don't improve for 100 rounds\n",
      "[100]\ttrain's rmse: 5.56927\teval's rmse: 6.75517\n",
      "[200]\ttrain's rmse: 4.66241\teval's rmse: 6.57064\n",
      "[300]\ttrain's rmse: 4.14982\teval's rmse: 6.54509\n"
     ]
    },
    {
     "name": "stderr",
     "output_type": "stream",
     "text": [
      "regularization_factors, val_score: 6.444728:  20%|#######6                              | 4/20 [00:04<00:15,  1.03it/s]\u001b[32m[I 2021-06-20 17:57:10,846]\u001b[0m Trial 43 finished with value: 6.510181182785227 and parameters: {'lambda_l1': 8.360983958388381, 'lambda_l2': 3.280170317192875e-05}. Best is trial 43 with value: 6.510181182785227.\u001b[0m\n",
      "regularization_factors, val_score: 6.444728:  20%|#######6                              | 4/20 [00:04<00:15,  1.03it/s]"
     ]
    },
    {
     "name": "stdout",
     "output_type": "stream",
     "text": [
      "Early stopping, best iteration is:\n",
      "[235]\ttrain's rmse: 4.45554\teval's rmse: 6.51018\n",
      "Training until validation scores don't improve for 100 rounds\n",
      "[100]\ttrain's rmse: 5.28082\teval's rmse: 6.75015\n",
      "[200]\ttrain's rmse: 4.34\teval's rmse: 6.58816\n"
     ]
    },
    {
     "name": "stderr",
     "output_type": "stream",
     "text": [
      "regularization_factors, val_score: 6.444728:  25%|#########5                            | 5/20 [00:05<00:16,  1.08s/it]\u001b[32m[I 2021-06-20 17:57:12,110]\u001b[0m Trial 44 finished with value: 6.525597316476128 and parameters: {'lambda_l1': 3.0837636937967322e-06, 'lambda_l2': 7.64165181024252e-05}. Best is trial 43 with value: 6.510181182785227.\u001b[0m\n"
     ]
    },
    {
     "name": "stdout",
     "output_type": "stream",
     "text": [
      "[300]\ttrain's rmse: 3.77188\teval's rmse: 6.56982\n",
      "Early stopping, best iteration is:\n",
      "[225]\ttrain's rmse: 4.17453\teval's rmse: 6.5256\n"
     ]
    },
    {
     "name": "stderr",
     "output_type": "stream",
     "text": [
      "\r",
      "regularization_factors, val_score: 6.444728:  25%|#########5                            | 5/20 [00:05<00:16,  1.08s/it]"
     ]
    },
    {
     "name": "stdout",
     "output_type": "stream",
     "text": [
      "Training until validation scores don't improve for 100 rounds\n",
      "[100]\ttrain's rmse: 5.27671\teval's rmse: 6.75894\n",
      "[200]\ttrain's rmse: 4.33902\teval's rmse: 6.5703\n"
     ]
    },
    {
     "name": "stderr",
     "output_type": "stream",
     "text": [
      "regularization_factors, val_score: 6.444728:  30%|###########4                          | 6/20 [00:06<00:16,  1.17s/it]\u001b[32m[I 2021-06-20 17:57:13,444]\u001b[0m Trial 45 finished with value: 6.52263040686 and parameters: {'lambda_l1': 9.681599272651373e-08, 'lambda_l2': 0.0014190765370003706}. Best is trial 43 with value: 6.510181182785227.\u001b[0m\n",
      "regularization_factors, val_score: 6.444728:  30%|###########4                          | 6/20 [00:06<00:16,  1.17s/it]"
     ]
    },
    {
     "name": "stdout",
     "output_type": "stream",
     "text": [
      "[300]\ttrain's rmse: 3.78208\teval's rmse: 6.55555\n",
      "Early stopping, best iteration is:\n",
      "[225]\ttrain's rmse: 4.17322\teval's rmse: 6.52263\n",
      "Training until validation scores don't improve for 100 rounds\n",
      "[100]\ttrain's rmse: 5.40559\teval's rmse: 6.78335\n",
      "[200]\ttrain's rmse: 4.42326\teval's rmse: 6.60551\n",
      "[300]\ttrain's rmse: 3.85773\teval's rmse: 6.53267\n",
      "[400]\ttrain's rmse: 3.45725\teval's rmse: 6.50756\n",
      "Early stopping, best iteration is:\n",
      "[384]\ttrain's rmse: 3.51131\teval's rmse: 6.4927\n"
     ]
    },
    {
     "name": "stderr",
     "output_type": "stream",
     "text": [
      "regularization_factors, val_score: 6.444728:  35%|#############3                        | 7/20 [00:08<00:17,  1.32s/it]\u001b[32m[I 2021-06-20 17:57:15,107]\u001b[0m Trial 46 finished with value: 6.492699504723859 and parameters: {'lambda_l1': 0.2305229061766884, 'lambda_l2': 1.4077690948332746}. Best is trial 46 with value: 6.492699504723859.\u001b[0m\n",
      "regularization_factors, val_score: 6.444728:  35%|#############3                        | 7/20 [00:08<00:17,  1.32s/it]"
     ]
    },
    {
     "name": "stdout",
     "output_type": "stream",
     "text": [
      "Training until validation scores don't improve for 100 rounds\n",
      "[100]\ttrain's rmse: 5.29781\teval's rmse: 6.6998\n",
      "[200]\ttrain's rmse: 4.34604\teval's rmse: 6.56092\n",
      "[300]\ttrain's rmse: 3.76781\teval's rmse: 6.53052\n"
     ]
    },
    {
     "name": "stderr",
     "output_type": "stream",
     "text": [
      "regularization_factors, val_score: 6.444728:  40%|###############2                      | 8/20 [00:09<00:14,  1.21s/it]\u001b[32m[I 2021-06-20 17:57:16,064]\u001b[0m Trial 47 finished with value: 6.524153667843526 and parameters: {'lambda_l1': 4.3992820843215305e-06, 'lambda_l2': 6.433924191165028e-08}. Best is trial 46 with value: 6.492699504723859.\u001b[0m\n",
      "regularization_factors, val_score: 6.444728:  40%|###############2                      | 8/20 [00:09<00:14,  1.21s/it]"
     ]
    },
    {
     "name": "stdout",
     "output_type": "stream",
     "text": [
      "Early stopping, best iteration is:\n",
      "[281]\ttrain's rmse: 3.8551\teval's rmse: 6.52415\n",
      "Training until validation scores don't improve for 100 rounds\n",
      "[100]\ttrain's rmse: 5.30875\teval's rmse: 6.77757\n",
      "[200]\ttrain's rmse: 4.32827\teval's rmse: 6.627\n",
      "[300]\ttrain's rmse: 3.75547\teval's rmse: 6.5967\n"
     ]
    },
    {
     "name": "stderr",
     "output_type": "stream",
     "text": [
      "regularization_factors, val_score: 6.444728:  45%|#################1                    | 9/20 [00:10<00:11,  1.06s/it]\u001b[32m[I 2021-06-20 17:57:16,791]\u001b[0m Trial 48 finished with value: 6.554835289105637 and parameters: {'lambda_l1': 1.0575248013711854e-08, 'lambda_l2': 0.004375050760765936}. Best is trial 46 with value: 6.492699504723859.\u001b[0m\n",
      "regularization_factors, val_score: 6.444728:  45%|#################1                    | 9/20 [00:10<00:11,  1.06s/it]"
     ]
    },
    {
     "name": "stdout",
     "output_type": "stream",
     "text": [
      "Early stopping, best iteration is:\n",
      "[235]\ttrain's rmse: 4.10163\teval's rmse: 6.55484\n",
      "Training until validation scores don't improve for 100 rounds\n",
      "[100]\ttrain's rmse: 5.56332\teval's rmse: 6.79731\n",
      "[200]\ttrain's rmse: 4.59096\teval's rmse: 6.62112\n"
     ]
    },
    {
     "name": "stderr",
     "output_type": "stream",
     "text": [
      "regularization_factors, val_score: 6.444728:  50%|##################5                  | 10/20 [00:10<00:09,  1.00it/s]\u001b[32m[I 2021-06-20 17:57:17,645]\u001b[0m Trial 49 finished with value: 6.559779099269916 and parameters: {'lambda_l1': 5.129178650071742e-08, 'lambda_l2': 4.660673618774299}. Best is trial 46 with value: 6.492699504723859.\u001b[0m\n",
      "regularization_factors, val_score: 6.444728:  50%|##################5                  | 10/20 [00:10<00:09,  1.00it/s]"
     ]
    },
    {
     "name": "stdout",
     "output_type": "stream",
     "text": [
      "[300]\ttrain's rmse: 4.03978\teval's rmse: 6.57447\n",
      "Early stopping, best iteration is:\n",
      "[235]\ttrain's rmse: 4.38133\teval's rmse: 6.55978\n",
      "Training until validation scores don't improve for 100 rounds\n",
      "[100]\ttrain's rmse: 5.62943\teval's rmse: 6.86411\n",
      "[200]\ttrain's rmse: 4.66608\teval's rmse: 6.66597\n",
      "[300]\ttrain's rmse: 4.11501\teval's rmse: 6.64052\n",
      "[400]\ttrain's rmse: 3.71419\teval's rmse: 6.61241\n",
      "[500]\ttrain's rmse: 3.36952\teval's rmse: 6.58559\n",
      "Early stopping, best iteration is:\n",
      "[495]\ttrain's rmse: 3.38313\teval's rmse: 6.57942\n"
     ]
    },
    {
     "name": "stderr",
     "output_type": "stream",
     "text": [
      "regularization_factors, val_score: 6.444728:  55%|####################3                | 11/20 [00:12<00:10,  1.16s/it]\u001b[32m[I 2021-06-20 17:57:19,164]\u001b[0m Trial 50 finished with value: 6.5794241734513 and parameters: {'lambda_l1': 0.12638925100371395, 'lambda_l2': 6.807001577697392}. Best is trial 46 with value: 6.492699504723859.\u001b[0m\n",
      "regularization_factors, val_score: 6.444728:  55%|####################3                | 11/20 [00:12<00:10,  1.16s/it]"
     ]
    },
    {
     "name": "stdout",
     "output_type": "stream",
     "text": [
      "Training until validation scores don't improve for 100 rounds\n",
      "[100]\ttrain's rmse: 5.52584\teval's rmse: 6.80979\n",
      "[200]\ttrain's rmse: 4.63919\teval's rmse: 6.60725\n"
     ]
    },
    {
     "name": "stderr",
     "output_type": "stream",
     "text": [
      "regularization_factors, val_score: 6.444728:  60%|######################2              | 12/20 [00:13<00:08,  1.09s/it]\u001b[32m[I 2021-06-20 17:57:20,096]\u001b[0m Trial 51 finished with value: 6.580807079414771 and parameters: {'lambda_l1': 7.488081090499633, 'lambda_l2': 2.731445389098902e-06}. Best is trial 46 with value: 6.492699504723859.\u001b[0m\n",
      "regularization_factors, val_score: 6.444728:  60%|######################2              | 12/20 [00:13<00:08,  1.09s/it]"
     ]
    },
    {
     "name": "stdout",
     "output_type": "stream",
     "text": [
      "[300]\ttrain's rmse: 4.11726\teval's rmse: 6.59337\n",
      "Early stopping, best iteration is:\n",
      "[247]\ttrain's rmse: 4.36721\teval's rmse: 6.58081\n",
      "Training until validation scores don't improve for 100 rounds\n",
      "[100]\ttrain's rmse: 5.34409\teval's rmse: 6.82334\n",
      "[200]\ttrain's rmse: 4.37023\teval's rmse: 6.62162\n",
      "[300]\ttrain's rmse: 3.79846\teval's rmse: 6.57234\n",
      "[400]\ttrain's rmse: 3.39636\teval's rmse: 6.54049\n",
      "Early stopping, best iteration is:\n",
      "[386]\ttrain's rmse: 3.44736\teval's rmse: 6.5204\n"
     ]
    },
    {
     "name": "stderr",
     "output_type": "stream",
     "text": [
      "regularization_factors, val_score: 6.444728:  65%|########################             | 13/20 [00:14<00:07,  1.09s/it]\u001b[32m[I 2021-06-20 17:57:21,216]\u001b[0m Trial 52 finished with value: 6.520404542256296 and parameters: {'lambda_l1': 0.12421313861073419, 'lambda_l2': 0.051013955458015}. Best is trial 46 with value: 6.492699504723859.\u001b[0m\n",
      "regularization_factors, val_score: 6.444728:  65%|########################             | 13/20 [00:14<00:07,  1.09s/it]"
     ]
    },
    {
     "name": "stdout",
     "output_type": "stream",
     "text": [
      "Training until validation scores don't improve for 100 rounds\n",
      "[100]\ttrain's rmse: 5.33488\teval's rmse: 6.71123\n",
      "[200]\ttrain's rmse: 4.35647\teval's rmse: 6.56108\n",
      "[300]\ttrain's rmse: 3.79634\teval's rmse: 6.53361\n"
     ]
    },
    {
     "name": "stderr",
     "output_type": "stream",
     "text": [
      "regularization_factors, val_score: 6.444728:  70%|#########################9           | 14/20 [00:15<00:06,  1.00s/it]\u001b[32m[I 2021-06-20 17:57:22,000]\u001b[0m Trial 53 finished with value: 6.502778404816975 and parameters: {'lambda_l1': 0.19503103709771666, 'lambda_l2': 1.3883992208358335e-06}. Best is trial 46 with value: 6.492699504723859.\u001b[0m\n",
      "regularization_factors, val_score: 6.444728:  70%|#########################9           | 14/20 [00:15<00:06,  1.00s/it]"
     ]
    },
    {
     "name": "stdout",
     "output_type": "stream",
     "text": [
      "Early stopping, best iteration is:\n",
      "[239]\ttrain's rmse: 4.10464\teval's rmse: 6.50278\n",
      "Training until validation scores don't improve for 100 rounds\n",
      "[100]\ttrain's rmse: 5.32353\teval's rmse: 6.76497\n",
      "[200]\ttrain's rmse: 4.34375\teval's rmse: 6.62748\n",
      "[300]\ttrain's rmse: 3.78453\teval's rmse: 6.58362\n",
      "[400]\ttrain's rmse: 3.38954\teval's rmse: 6.54629\n",
      "Early stopping, best iteration is:\n",
      "[391]\ttrain's rmse: 3.42254\teval's rmse: 6.52842\n"
     ]
    },
    {
     "name": "stderr",
     "output_type": "stream",
     "text": [
      "regularization_factors, val_score: 6.444728:  75%|###########################7         | 15/20 [00:16<00:05,  1.08s/it]\u001b[32m[I 2021-06-20 17:57:23,264]\u001b[0m Trial 54 finished with value: 6.528416397559831 and parameters: {'lambda_l1': 0.11627799978605739, 'lambda_l2': 6.189871972294075e-07}. Best is trial 46 with value: 6.492699504723859.\u001b[0m\n",
      "regularization_factors, val_score: 6.444728:  75%|###########################7         | 15/20 [00:16<00:05,  1.08s/it]"
     ]
    },
    {
     "name": "stdout",
     "output_type": "stream",
     "text": [
      "Training until validation scores don't improve for 100 rounds\n",
      "[100]\ttrain's rmse: 5.31266\teval's rmse: 6.71851\n",
      "[200]\ttrain's rmse: 4.34642\teval's rmse: 6.58727\n",
      "[300]\ttrain's rmse: 3.78784\teval's rmse: 6.55028\n",
      "Early stopping, best iteration is:\n",
      "[249]\ttrain's rmse: 4.03729\teval's rmse: 6.53583\n"
     ]
    },
    {
     "name": "stderr",
     "output_type": "stream",
     "text": [
      "regularization_factors, val_score: 6.444728:  80%|#############################6       | 16/20 [00:17<00:04,  1.12s/it]\u001b[32m[I 2021-06-20 17:57:24,473]\u001b[0m Trial 55 finished with value: 6.535828411648527 and parameters: {'lambda_l1': 0.004393625176520174, 'lambda_l2': 0.16894569582734995}. Best is trial 46 with value: 6.492699504723859.\u001b[0m\n",
      "regularization_factors, val_score: 6.444728:  80%|#############################6       | 16/20 [00:17<00:04,  1.12s/it]"
     ]
    },
    {
     "name": "stdout",
     "output_type": "stream",
     "text": [
      "Training until validation scores don't improve for 100 rounds\n",
      "[100]\ttrain's rmse: 5.30265\teval's rmse: 6.78746\n",
      "[200]\ttrain's rmse: 4.33174\teval's rmse: 6.63314\n"
     ]
    },
    {
     "name": "stderr",
     "output_type": "stream",
     "text": [
      "regularization_factors, val_score: 6.444728:  85%|###############################4     | 17/20 [00:18<00:03,  1.06s/it]\u001b[32m[I 2021-06-20 17:57:25,411]\u001b[0m Trial 56 finished with value: 6.6225261278375145 and parameters: {'lambda_l1': 0.001219114182308689, 'lambda_l2': 1.1743163059714764e-06}. Best is trial 46 with value: 6.492699504723859.\u001b[0m\n",
      "regularization_factors, val_score: 6.444728:  85%|###############################4     | 17/20 [00:18<00:03,  1.06s/it]"
     ]
    },
    {
     "name": "stdout",
     "output_type": "stream",
     "text": [
      "[300]\ttrain's rmse: 3.76551\teval's rmse: 6.64531\n",
      "Early stopping, best iteration is:\n",
      "[250]\ttrain's rmse: 4.01745\teval's rmse: 6.62253\n",
      "Training until validation scores don't improve for 100 rounds\n",
      "[100]\ttrain's rmse: 5.38331\teval's rmse: 6.76178\n",
      "[200]\ttrain's rmse: 4.41349\teval's rmse: 6.59433\n",
      "[300]\ttrain's rmse: 3.85575\teval's rmse: 6.55376\n"
     ]
    },
    {
     "name": "stderr",
     "output_type": "stream",
     "text": [
      "regularization_factors, val_score: 6.444728:  90%|#################################3   | 18/20 [00:19<00:01,  1.00it/s]\u001b[32m[I 2021-06-20 17:57:26,259]\u001b[0m Trial 57 finished with value: 6.538597276647275 and parameters: {'lambda_l1': 0.8346557428386093, 'lambda_l2': 0.39945870588496496}. Best is trial 46 with value: 6.492699504723859.\u001b[0m\n",
      "regularization_factors, val_score: 6.444728:  90%|#################################3   | 18/20 [00:19<00:01,  1.00it/s]"
     ]
    },
    {
     "name": "stdout",
     "output_type": "stream",
     "text": [
      "Early stopping, best iteration is:\n",
      "[250]\ttrain's rmse: 4.11004\teval's rmse: 6.5386\n",
      "Training until validation scores don't improve for 100 rounds\n",
      "[100]\ttrain's rmse: 5.31021\teval's rmse: 6.77226\n",
      "[200]\ttrain's rmse: 4.334\teval's rmse: 6.61123\n",
      "[300]\ttrain's rmse: 3.76262\teval's rmse: 6.57919\n",
      "[400]\ttrain's rmse: 3.34627\teval's rmse: 6.57988\n",
      "Early stopping, best iteration is:\n",
      "[385]\ttrain's rmse: 3.40181\teval's rmse: 6.54858\n"
     ]
    },
    {
     "name": "stderr",
     "output_type": "stream",
     "text": [
      "regularization_factors, val_score: 6.444728:  95%|###################################1 | 19/20 [00:20<00:01,  1.01s/it]\u001b[32m[I 2021-06-20 17:57:27,294]\u001b[0m Trial 58 finished with value: 6.548579054800901 and parameters: {'lambda_l1': 0.00760897775678371, 'lambda_l2': 1.0896764056950606e-05}. Best is trial 46 with value: 6.492699504723859.\u001b[0m\n",
      "regularization_factors, val_score: 6.444728:  95%|###################################1 | 19/20 [00:20<00:01,  1.01s/it]"
     ]
    },
    {
     "name": "stdout",
     "output_type": "stream",
     "text": [
      "Training until validation scores don't improve for 100 rounds\n",
      "[100]\ttrain's rmse: 5.27669\teval's rmse: 6.75894\n",
      "[200]\ttrain's rmse: 4.33899\teval's rmse: 6.5703\n",
      "[300]\ttrain's rmse: 3.78205\teval's rmse: 6.55555\n"
     ]
    },
    {
     "name": "stderr",
     "output_type": "stream",
     "text": [
      "regularization_factors, val_score: 6.444728: 100%|#####################################| 20/20 [00:21<00:00,  1.09it/s]\u001b[32m[I 2021-06-20 17:57:27,975]\u001b[0m Trial 59 finished with value: 6.522631963519826 and parameters: {'lambda_l1': 0.00015121826451837436, 'lambda_l2': 0.0005969195131911439}. Best is trial 46 with value: 6.492699504723859.\u001b[0m\n",
      "regularization_factors, val_score: 6.444728: 100%|#####################################| 20/20 [00:21<00:00,  1.06s/it]\n",
      "min_data_in_leaf, val_score: 6.444728:   0%|                                                     | 0/5 [00:00<?, ?it/s]"
     ]
    },
    {
     "name": "stdout",
     "output_type": "stream",
     "text": [
      "Early stopping, best iteration is:\n",
      "[225]\ttrain's rmse: 4.17319\teval's rmse: 6.52263\n",
      "Training until validation scores don't improve for 100 rounds\n",
      "[100]\ttrain's rmse: 4.58992\teval's rmse: 6.66117\n",
      "[200]\ttrain's rmse: 3.52882\teval's rmse: 6.50627\n",
      "[300]\ttrain's rmse: 2.90356\teval's rmse: 6.49385\n",
      "[400]\ttrain's rmse: 2.45315\teval's rmse: 6.5039\n",
      "Early stopping, best iteration is:\n",
      "[328]\ttrain's rmse: 2.7644\teval's rmse: 6.4684\n"
     ]
    },
    {
     "name": "stderr",
     "output_type": "stream",
     "text": [
      "min_data_in_leaf, val_score: 6.444728:  20%|#########                                    | 1/5 [00:00<00:03,  1.06it/s]\u001b[32m[I 2021-06-20 17:57:28,920]\u001b[0m Trial 60 finished with value: 6.468404051001508 and parameters: {'min_child_samples': 5}. Best is trial 60 with value: 6.468404051001508.\u001b[0m\n",
      "min_data_in_leaf, val_score: 6.444728:  20%|#########                                    | 1/5 [00:00<00:03,  1.06it/s]"
     ]
    },
    {
     "name": "stdout",
     "output_type": "stream",
     "text": [
      "Training until validation scores don't improve for 100 rounds\n",
      "[100]\ttrain's rmse: 5.53078\teval's rmse: 6.92539\n",
      "[200]\ttrain's rmse: 4.58433\teval's rmse: 6.7325\n",
      "[300]\ttrain's rmse: 4.03879\teval's rmse: 6.66214\n",
      "[400]\ttrain's rmse: 3.6227\teval's rmse: 6.64385\n",
      "Early stopping, best iteration is:\n",
      "[390]\ttrain's rmse: 3.6584\teval's rmse: 6.62452\n"
     ]
    },
    {
     "name": "stderr",
     "output_type": "stream",
     "text": [
      "min_data_in_leaf, val_score: 6.444728:  40%|##################                           | 2/5 [00:02<00:03,  1.08s/it]\u001b[32m[I 2021-06-20 17:57:30,098]\u001b[0m Trial 61 finished with value: 6.624519895931479 and parameters: {'min_child_samples': 25}. Best is trial 60 with value: 6.468404051001508.\u001b[0m\n",
      "min_data_in_leaf, val_score: 6.444728:  40%|##################                           | 2/5 [00:02<00:03,  1.08s/it]"
     ]
    },
    {
     "name": "stdout",
     "output_type": "stream",
     "text": [
      "Training until validation scores don't improve for 100 rounds\n",
      "[100]\ttrain's rmse: 7.48878\teval's rmse: 7.56021\n",
      "[200]\ttrain's rmse: 7.01206\teval's rmse: 7.2248\n",
      "[300]\ttrain's rmse: 6.6987\teval's rmse: 7.13542\n",
      "[400]\ttrain's rmse: 6.47972\teval's rmse: 7.02993\n",
      "[500]\ttrain's rmse: 6.30746\teval's rmse: 6.98475\n",
      "[600]\ttrain's rmse: 6.16436\teval's rmse: 6.95257\n",
      "[700]\ttrain's rmse: 6.0261\teval's rmse: 6.91126\n",
      "[800]\ttrain's rmse: 5.9155\teval's rmse: 6.85866\n"
     ]
    },
    {
     "name": "stderr",
     "output_type": "stream",
     "text": [
      "min_data_in_leaf, val_score: 6.444728:  60%|###########################                  | 3/5 [00:03<00:01,  1.00it/s]\u001b[32m[I 2021-06-20 17:57:30,993]\u001b[0m Trial 62 finished with value: 6.858656091599816 and parameters: {'min_child_samples': 100}. Best is trial 60 with value: 6.468404051001508.\u001b[0m\n",
      "min_data_in_leaf, val_score: 6.444728:  60%|###########################                  | 3/5 [00:03<00:01,  1.00it/s]"
     ]
    },
    {
     "name": "stdout",
     "output_type": "stream",
     "text": [
      "[900]\ttrain's rmse: 5.81403\teval's rmse: 6.91584\n",
      "Early stopping, best iteration is:\n",
      "[800]\ttrain's rmse: 5.9155\teval's rmse: 6.85866\n",
      "Training until validation scores don't improve for 100 rounds\n",
      "[100]\ttrain's rmse: 4.86876\teval's rmse: 6.69841\n",
      "[200]\ttrain's rmse: 3.85376\teval's rmse: 6.5184\n",
      "[300]\ttrain's rmse: 3.25232\teval's rmse: 6.48806\n",
      "[400]\ttrain's rmse: 2.83141\teval's rmse: 6.49361\n",
      "Early stopping, best iteration is:\n",
      "[330]\ttrain's rmse: 3.11796\teval's rmse: 6.47486\n"
     ]
    },
    {
     "name": "stderr",
     "output_type": "stream",
     "text": [
      "min_data_in_leaf, val_score: 6.444728:  80%|####################################         | 4/5 [00:03<00:00,  1.03it/s]\u001b[32m[I 2021-06-20 17:57:31,933]\u001b[0m Trial 63 finished with value: 6.474863987270993 and parameters: {'min_child_samples': 10}. Best is trial 60 with value: 6.468404051001508.\u001b[0m\n",
      "min_data_in_leaf, val_score: 6.444728:  80%|####################################         | 4/5 [00:03<00:00,  1.03it/s]"
     ]
    },
    {
     "name": "stdout",
     "output_type": "stream",
     "text": [
      "Training until validation scores don't improve for 100 rounds\n",
      "[100]\ttrain's rmse: 6.56987\teval's rmse: 7.18005\n",
      "[200]\ttrain's rmse: 5.85545\teval's rmse: 6.9354\n",
      "[300]\ttrain's rmse: 5.37202\teval's rmse: 6.82094\n",
      "[400]\ttrain's rmse: 5.02152\teval's rmse: 6.78556\n",
      "[500]\ttrain's rmse: 4.74928\teval's rmse: 6.73681\n",
      "[600]\ttrain's rmse: 4.52201\teval's rmse: 6.71013\n"
     ]
    },
    {
     "name": "stderr",
     "output_type": "stream",
     "text": [
      "min_data_in_leaf, val_score: 6.444728: 100%|#############################################| 5/5 [00:05<00:00,  1.15s/it]\u001b[32m[I 2021-06-20 17:57:33,387]\u001b[0m Trial 64 finished with value: 6.678145755035078 and parameters: {'min_child_samples': 50}. Best is trial 60 with value: 6.468404051001508.\u001b[0m\n",
      "min_data_in_leaf, val_score: 6.444728: 100%|#############################################| 5/5 [00:05<00:00,  1.08s/it]"
     ]
    },
    {
     "name": "stdout",
     "output_type": "stream",
     "text": [
      "[700]\ttrain's rmse: 4.32088\teval's rmse: 6.72956\n",
      "Early stopping, best iteration is:\n",
      "[619]\ttrain's rmse: 4.48543\teval's rmse: 6.67815\n"
     ]
    },
    {
     "name": "stderr",
     "output_type": "stream",
     "text": [
      "\n",
      "\u001b[32m[I 2021-06-20 17:57:33,439]\u001b[0m A new study created in memory with name: no-name-f88006e9-df57-4680-a4bc-f2d9fbde6a75\u001b[0m\n",
      "feature_fraction, val_score: inf:   0%|                                                          | 0/7 [00:00<?, ?it/s]"
     ]
    },
    {
     "name": "stdout",
     "output_type": "stream",
     "text": [
      "Training until validation scores don't improve for 100 rounds\n",
      "[100]\ttrain's rmse: 5.34375\teval's rmse: 6.86321\n",
      "[200]\ttrain's rmse: 4.45929\teval's rmse: 6.70357\n"
     ]
    },
    {
     "name": "stderr",
     "output_type": "stream",
     "text": [
      "feature_fraction, val_score: 6.640421:  14%|######4                                      | 1/7 [00:00<00:03,  1.56it/s]\u001b[32m[I 2021-06-20 17:57:34,089]\u001b[0m Trial 0 finished with value: 6.640421026911626 and parameters: {'feature_fraction': 0.8999999999999999}. Best is trial 0 with value: 6.640421026911626.\u001b[0m\n",
      "feature_fraction, val_score: 6.640421:  14%|######4                                      | 1/7 [00:00<00:03,  1.56it/s]"
     ]
    },
    {
     "name": "stdout",
     "output_type": "stream",
     "text": [
      "[300]\ttrain's rmse: 3.92336\teval's rmse: 6.65513\n",
      "Early stopping, best iteration is:\n",
      "[240]\ttrain's rmse: 4.22711\teval's rmse: 6.64042\n",
      "Training until validation scores don't improve for 100 rounds\n",
      "[100]\ttrain's rmse: 5.51724\teval's rmse: 6.91325\n",
      "[200]\ttrain's rmse: 4.66047\teval's rmse: 6.70997\n",
      "[300]\ttrain's rmse: 4.15418\teval's rmse: 6.60104\n",
      "[400]\ttrain's rmse: 3.79484\teval's rmse: 6.56999\n"
     ]
    },
    {
     "name": "stderr",
     "output_type": "stream",
     "text": [
      "feature_fraction, val_score: 6.567658:  29%|############8                                | 2/7 [00:01<00:03,  1.27it/s]\u001b[32m[I 2021-06-20 17:57:34,979]\u001b[0m Trial 1 finished with value: 6.567657508520234 and parameters: {'feature_fraction': 0.6}. Best is trial 1 with value: 6.567657508520234.\u001b[0m\n",
      "feature_fraction, val_score: 6.567658:  29%|############8                                | 2/7 [00:01<00:03,  1.27it/s]"
     ]
    },
    {
     "name": "stdout",
     "output_type": "stream",
     "text": [
      "[500]\ttrain's rmse: 3.51435\teval's rmse: 6.58426\n",
      "Early stopping, best iteration is:\n",
      "[430]\ttrain's rmse: 3.70908\teval's rmse: 6.56766\n",
      "Training until validation scores don't improve for 100 rounds\n",
      "[100]\ttrain's rmse: 5.39591\teval's rmse: 6.8452\n",
      "[200]\ttrain's rmse: 4.56223\teval's rmse: 6.69102\n",
      "[300]\ttrain's rmse: 4.02256\teval's rmse: 6.60106\n",
      "[400]\ttrain's rmse: 3.64505\teval's rmse: 6.61986\n",
      "Early stopping, best iteration is:\n",
      "[317]\ttrain's rmse: 3.95225\teval's rmse: 6.59045\n"
     ]
    },
    {
     "name": "stderr",
     "output_type": "stream",
     "text": [
      "feature_fraction, val_score: 6.567658:  43%|###################2                         | 3/7 [00:02<00:02,  1.41it/s]\u001b[32m[I 2021-06-20 17:57:35,597]\u001b[0m Trial 2 finished with value: 6.5904470951635234 and parameters: {'feature_fraction': 0.7}. Best is trial 1 with value: 6.567657508520234.\u001b[0m\n",
      "feature_fraction, val_score: 6.567658:  43%|###################2                         | 3/7 [00:02<00:02,  1.41it/s]"
     ]
    },
    {
     "name": "stdout",
     "output_type": "stream",
     "text": [
      "Training until validation scores don't improve for 100 rounds\n",
      "[100]\ttrain's rmse: 5.65155\teval's rmse: 6.93253\n",
      "[200]\ttrain's rmse: 4.80683\teval's rmse: 6.71285\n",
      "[300]\ttrain's rmse: 4.30547\teval's rmse: 6.59346\n"
     ]
    },
    {
     "name": "stderr",
     "output_type": "stream",
     "text": [
      "feature_fraction, val_score: 6.567658:  57%|#########################7                   | 4/7 [00:02<00:01,  1.53it/s]\u001b[32m[I 2021-06-20 17:57:36,177]\u001b[0m Trial 3 finished with value: 6.5851407294358255 and parameters: {'feature_fraction': 0.5}. Best is trial 1 with value: 6.567657508520234.\u001b[0m\n",
      "feature_fraction, val_score: 6.567658:  57%|#########################7                   | 4/7 [00:02<00:01,  1.53it/s]"
     ]
    },
    {
     "name": "stdout",
     "output_type": "stream",
     "text": [
      "[400]\ttrain's rmse: 3.9457\teval's rmse: 6.58966\n",
      "Early stopping, best iteration is:\n",
      "[308]\ttrain's rmse: 4.27341\teval's rmse: 6.58514\n",
      "Training until validation scores don't improve for 100 rounds\n",
      "[100]\ttrain's rmse: 5.33852\teval's rmse: 6.85118\n",
      "[200]\ttrain's rmse: 4.44784\teval's rmse: 6.66914\n",
      "[300]\ttrain's rmse: 3.87762\teval's rmse: 6.6388\n",
      "[400]\ttrain's rmse: 3.4744\teval's rmse: 6.66921\n"
     ]
    },
    {
     "name": "stderr",
     "output_type": "stream",
     "text": [
      "feature_fraction, val_score: 6.567658:  71%|################################1            | 5/7 [00:03<00:01,  1.45it/s]\u001b[32m[I 2021-06-20 17:57:36,914]\u001b[0m Trial 4 finished with value: 6.626754425543498 and parameters: {'feature_fraction': 1.0}. Best is trial 1 with value: 6.567657508520234.\u001b[0m\n",
      "feature_fraction, val_score: 6.567658:  71%|################################1            | 5/7 [00:03<00:01,  1.45it/s]"
     ]
    },
    {
     "name": "stdout",
     "output_type": "stream",
     "text": [
      "Early stopping, best iteration is:\n",
      "[356]\ttrain's rmse: 3.63505\teval's rmse: 6.62675\n",
      "Training until validation scores don't improve for 100 rounds\n",
      "[100]\ttrain's rmse: 5.35885\teval's rmse: 6.81256\n",
      "[200]\ttrain's rmse: 4.49714\teval's rmse: 6.643\n",
      "[300]\ttrain's rmse: 3.96442\teval's rmse: 6.57949\n",
      "[400]\ttrain's rmse: 3.58161\teval's rmse: 6.61342"
     ]
    },
    {
     "name": "stderr",
     "output_type": "stream",
     "text": [
      "feature_fraction, val_score: 6.567658:  86%|######################################5      | 6/7 [00:04<00:00,  1.29it/s]\u001b[32m[I 2021-06-20 17:57:37,861]\u001b[0m Trial 5 finished with value: 6.57782880028939 and parameters: {'feature_fraction': 0.8}. Best is trial 1 with value: 6.567657508520234.\u001b[0m\n",
      "feature_fraction, val_score: 6.567658:  86%|######################################5      | 6/7 [00:04<00:00,  1.29it/s]"
     ]
    },
    {
     "name": "stdout",
     "output_type": "stream",
     "text": [
      "\n",
      "Early stopping, best iteration is:\n",
      "[305]\ttrain's rmse: 3.94399\teval's rmse: 6.57783\n",
      "Training until validation scores don't improve for 100 rounds\n",
      "[100]\ttrain's rmse: 5.86797\teval's rmse: 7.05334\n",
      "[200]\ttrain's rmse: 5.0876\teval's rmse: 6.77034\n",
      "[300]\ttrain's rmse: 4.60823\teval's rmse: 6.60583\n",
      "[400]\ttrain's rmse: 4.2733\teval's rmse: 6.55744\n",
      "[500]\ttrain's rmse: 4.01161\teval's rmse: 6.54866\n",
      "[600]\ttrain's rmse: 3.77816\teval's rmse: 6.56085\n",
      "Early stopping, best iteration is:\n",
      "[536]\ttrain's rmse: 3.91632\teval's rmse: 6.53568\n"
     ]
    },
    {
     "name": "stderr",
     "output_type": "stream",
     "text": [
      "feature_fraction, val_score: 6.535684: 100%|#############################################| 7/7 [00:05<00:00,  1.12it/s]\u001b[32m[I 2021-06-20 17:57:39,007]\u001b[0m Trial 6 finished with value: 6.535684052227204 and parameters: {'feature_fraction': 0.4}. Best is trial 6 with value: 6.535684052227204.\u001b[0m\n",
      "feature_fraction, val_score: 6.535684: 100%|#############################################| 7/7 [00:05<00:00,  1.26it/s]\n",
      "num_leaves, val_score: 6.535684:   0%|                                                          | 0/20 [00:00<?, ?it/s]"
     ]
    },
    {
     "name": "stdout",
     "output_type": "stream",
     "text": [
      "Training until validation scores don't improve for 100 rounds\n",
      "[100]\ttrain's rmse: 5.77648\teval's rmse: 7.04934\n",
      "[200]\ttrain's rmse: 4.95533\teval's rmse: 6.78742\n",
      "[300]\ttrain's rmse: 4.42765\teval's rmse: 6.66775\n",
      "[400]\ttrain's rmse: 4.05458\teval's rmse: 6.61072\n",
      "[500]\ttrain's rmse: 3.76925\teval's rmse: 6.62189\n",
      "Early stopping, best iteration is:\n",
      "[445]\ttrain's rmse: 3.91958\teval's rmse: 6.6026\n"
     ]
    },
    {
     "name": "stderr",
     "output_type": "stream",
     "text": [
      "num_leaves, val_score: 6.535684:   5%|##5                                               | 1/20 [00:01<00:21,  1.13s/it]\u001b[32m[I 2021-06-20 17:57:40,163]\u001b[0m Trial 7 finished with value: 6.602599298658899 and parameters: {'num_leaves': 133}. Best is trial 7 with value: 6.602599298658899.\u001b[0m\n",
      "num_leaves, val_score: 6.535684:   5%|##5                                               | 1/20 [00:01<00:21,  1.13s/it]"
     ]
    },
    {
     "name": "stdout",
     "output_type": "stream",
     "text": [
      "Training until validation scores don't improve for 100 rounds\n",
      "[100]\ttrain's rmse: 5.77648\teval's rmse: 7.04934\n",
      "[200]\ttrain's rmse: 4.95533\teval's rmse: 6.78742\n",
      "[300]\ttrain's rmse: 4.42765\teval's rmse: 6.66775\n",
      "[400]\ttrain's rmse: 4.05458\teval's rmse: 6.61072\n",
      "[500]\ttrain's rmse: 3.76925\teval's rmse: 6.62189\n",
      "Early stopping, best iteration is:\n",
      "[445]\ttrain's rmse: 3.91958\teval's rmse: 6.6026\n"
     ]
    },
    {
     "name": "stderr",
     "output_type": "stream",
     "text": [
      "num_leaves, val_score: 6.535684:  10%|#####                                             | 2/20 [00:02<00:24,  1.39s/it]\u001b[32m[I 2021-06-20 17:57:41,714]\u001b[0m Trial 8 finished with value: 6.602599298658899 and parameters: {'num_leaves': 66}. Best is trial 7 with value: 6.602599298658899.\u001b[0m\n",
      "num_leaves, val_score: 6.535684:  10%|#####                                             | 2/20 [00:02<00:24,  1.39s/it]"
     ]
    },
    {
     "name": "stdout",
     "output_type": "stream",
     "text": [
      "Training until validation scores don't improve for 100 rounds\n",
      "[100]\ttrain's rmse: 5.77923\teval's rmse: 7.04044\n",
      "[200]\ttrain's rmse: 4.95733\teval's rmse: 6.79437\n",
      "[300]\ttrain's rmse: 4.43005\teval's rmse: 6.64146\n",
      "[400]\ttrain's rmse: 4.06921\teval's rmse: 6.60208\n",
      "[500]\ttrain's rmse: 3.78422\teval's rmse: 6.6129\n",
      "Early stopping, best iteration is:\n",
      "[430]\ttrain's rmse: 3.9742\teval's rmse: 6.58228"
     ]
    },
    {
     "name": "stderr",
     "output_type": "stream",
     "text": [
      "num_leaves, val_score: 6.535684:  15%|#######5                                          | 3/20 [00:03<00:22,  1.34s/it]\u001b[32m[I 2021-06-20 17:57:42,995]\u001b[0m Trial 9 finished with value: 6.582276815500815 and parameters: {'num_leaves': 49}. Best is trial 9 with value: 6.582276815500815.\u001b[0m\n",
      "num_leaves, val_score: 6.535684:  15%|#######5                                          | 3/20 [00:03<00:22,  1.34s/it]"
     ]
    },
    {
     "name": "stdout",
     "output_type": "stream",
     "text": [
      "\n",
      "Training until validation scores don't improve for 100 rounds\n",
      "[100]\ttrain's rmse: 5.78572\teval's rmse: 7.04907\n",
      "[200]\ttrain's rmse: 4.97154\teval's rmse: 6.80406\n",
      "[300]\ttrain's rmse: 4.444\teval's rmse: 6.68294\n",
      "[400]\ttrain's rmse: 4.07727\teval's rmse: 6.63398\n",
      "[500]\ttrain's rmse: 3.78773\teval's rmse: 6.64064\n"
     ]
    },
    {
     "name": "stderr",
     "output_type": "stream",
     "text": [
      "num_leaves, val_score: 6.535684:  20%|##########                                        | 4/20 [00:05<00:19,  1.22s/it]\u001b[32m[I 2021-06-20 17:57:44,040]\u001b[0m Trial 10 finished with value: 6.617691135845113 and parameters: {'num_leaves': 46}. Best is trial 9 with value: 6.582276815500815.\u001b[0m\n",
      "num_leaves, val_score: 6.535684:  20%|##########                                        | 4/20 [00:05<00:19,  1.22s/it]"
     ]
    },
    {
     "name": "stdout",
     "output_type": "stream",
     "text": [
      "Early stopping, best iteration is:\n",
      "[447]\ttrain's rmse: 3.93461\teval's rmse: 6.61769\n",
      "Training until validation scores don't improve for 100 rounds\n",
      "[100]\ttrain's rmse: 5.77648\teval's rmse: 7.04934\n",
      "[200]\ttrain's rmse: 4.95533\teval's rmse: 6.78742\n",
      "[300]\ttrain's rmse: 4.42765\teval's rmse: 6.66775\n",
      "[400]\ttrain's rmse: 4.05458\teval's rmse: 6.61072\n",
      "[500]\ttrain's rmse: 3.76925\teval's rmse: 6.62189\n"
     ]
    },
    {
     "name": "stderr",
     "output_type": "stream",
     "text": [
      "num_leaves, val_score: 6.535684:  25%|############5                                     | 5/20 [00:06<00:17,  1.16s/it]"
     ]
    },
    {
     "name": "stdout",
     "output_type": "stream",
     "text": [
      "Early stopping, best iteration is:\n",
      "[445]\ttrain's rmse: 3.91958\teval's rmse: 6.6026\n"
     ]
    },
    {
     "name": "stderr",
     "output_type": "stream",
     "text": [
      "\u001b[32m[I 2021-06-20 17:57:45,110]\u001b[0m Trial 11 finished with value: 6.602599298658899 and parameters: {'num_leaves': 80}. Best is trial 9 with value: 6.582276815500815.\u001b[0m\n",
      "num_leaves, val_score: 6.535684:  25%|############5                                     | 5/20 [00:06<00:17,  1.16s/it]"
     ]
    },
    {
     "name": "stdout",
     "output_type": "stream",
     "text": [
      "Training until validation scores don't improve for 100 rounds\n",
      "[100]\ttrain's rmse: 5.77648\teval's rmse: 7.04934\n",
      "[200]\ttrain's rmse: 4.95533\teval's rmse: 6.78742\n",
      "[300]\ttrain's rmse: 4.42765\teval's rmse: 6.66775\n",
      "[400]\ttrain's rmse: 4.05458\teval's rmse: 6.61072\n",
      "[500]\ttrain's rmse: 3.76925\teval's rmse: 6.62189\n",
      "Early stopping, best iteration is:\n",
      "[445]\ttrain's rmse: 3.91958\teval's rmse: 6.6026\n"
     ]
    },
    {
     "name": "stderr",
     "output_type": "stream",
     "text": [
      "num_leaves, val_score: 6.535684:  30%|###############                                   | 6/20 [00:07<00:19,  1.42s/it]\u001b[32m[I 2021-06-20 17:57:47,012]\u001b[0m Trial 12 finished with value: 6.602599298658899 and parameters: {'num_leaves': 246}. Best is trial 9 with value: 6.582276815500815.\u001b[0m\n",
      "num_leaves, val_score: 6.535684:  30%|###############                                   | 6/20 [00:07<00:19,  1.42s/it]"
     ]
    },
    {
     "name": "stdout",
     "output_type": "stream",
     "text": [
      "Training until validation scores don't improve for 100 rounds\n",
      "[100]\ttrain's rmse: 5.77648\teval's rmse: 7.04934\n",
      "[200]\ttrain's rmse: 4.95533\teval's rmse: 6.78742\n",
      "[300]\ttrain's rmse: 4.42765\teval's rmse: 6.66775\n",
      "[400]\ttrain's rmse: 4.05458\teval's rmse: 6.61072\n",
      "[500]\ttrain's rmse: 3.76925\teval's rmse: 6.62189\n",
      "Early stopping, best iteration is:\n",
      "[445]\ttrain's rmse: 3.91958\teval's rmse: 6.6026\n"
     ]
    },
    {
     "name": "stderr",
     "output_type": "stream",
     "text": [
      "num_leaves, val_score: 6.535684:  35%|#################5                                | 7/20 [00:09<00:19,  1.46s/it]\u001b[32m[I 2021-06-20 17:57:48,572]\u001b[0m Trial 13 finished with value: 6.602599298658899 and parameters: {'num_leaves': 201}. Best is trial 9 with value: 6.582276815500815.\u001b[0m\n",
      "num_leaves, val_score: 6.535684:  35%|#################5                                | 7/20 [00:09<00:19,  1.46s/it]"
     ]
    },
    {
     "name": "stdout",
     "output_type": "stream",
     "text": [
      "Training until validation scores don't improve for 100 rounds\n",
      "[100]\ttrain's rmse: 5.77648\teval's rmse: 7.04934\n",
      "[200]\ttrain's rmse: 4.95533\teval's rmse: 6.78742\n",
      "[300]\ttrain's rmse: 4.42765\teval's rmse: 6.66775\n",
      "[400]\ttrain's rmse: 4.05458\teval's rmse: 6.61072\n",
      "[500]\ttrain's rmse: 3.76925\teval's rmse: 6.62189\n",
      "Early stopping, best iteration is:\n",
      "[445]\ttrain's rmse: 3.91958\teval's rmse: 6.6026\n"
     ]
    },
    {
     "name": "stderr",
     "output_type": "stream",
     "text": [
      "num_leaves, val_score: 6.535684:  40%|####################                              | 8/20 [00:10<00:16,  1.33s/it]\u001b[32m[I 2021-06-20 17:57:49,618]\u001b[0m Trial 14 finished with value: 6.602599298658899 and parameters: {'num_leaves': 64}. Best is trial 9 with value: 6.582276815500815.\u001b[0m\n",
      "num_leaves, val_score: 6.535684:  40%|####################                              | 8/20 [00:10<00:16,  1.33s/it]"
     ]
    },
    {
     "name": "stdout",
     "output_type": "stream",
     "text": [
      "Training until validation scores don't improve for 100 rounds\n",
      "[100]\ttrain's rmse: 5.77648\teval's rmse: 7.04934\n",
      "[200]\ttrain's rmse: 4.95533\teval's rmse: 6.78742\n",
      "[300]\ttrain's rmse: 4.42765\teval's rmse: 6.66775\n",
      "[400]\ttrain's rmse: 4.05458\teval's rmse: 6.61072\n",
      "[500]\ttrain's rmse: 3.76925\teval's rmse: 6.62189\n",
      "Early stopping, best iteration is:\n",
      "[445]\ttrain's rmse: 3.91958\teval's rmse: 6.6026\n"
     ]
    },
    {
     "name": "stderr",
     "output_type": "stream",
     "text": [
      "num_leaves, val_score: 6.535684:  45%|######################5                           | 9/20 [00:11<00:14,  1.28s/it]\u001b[32m[I 2021-06-20 17:57:50,768]\u001b[0m Trial 15 finished with value: 6.602599298658899 and parameters: {'num_leaves': 209}. Best is trial 9 with value: 6.582276815500815.\u001b[0m\n",
      "num_leaves, val_score: 6.535684:  45%|######################5                           | 9/20 [00:11<00:14,  1.28s/it]"
     ]
    },
    {
     "name": "stdout",
     "output_type": "stream",
     "text": [
      "Training until validation scores don't improve for 100 rounds\n",
      "[100]\ttrain's rmse: 6.37002\teval's rmse: 7.13911\n",
      "[200]\ttrain's rmse: 5.75157\teval's rmse: 6.85154\n",
      "[300]\ttrain's rmse: 5.40796\teval's rmse: 6.70914\n",
      "[400]\ttrain's rmse: 5.15475\teval's rmse: 6.59205\n",
      "[500]\ttrain's rmse: 4.93831\teval's rmse: 6.53814\n",
      "[600]\ttrain's rmse: 4.7711\teval's rmse: 6.49948\n",
      "[700]\ttrain's rmse: 4.62228\teval's rmse: 6.44844\n",
      "[800]\ttrain's rmse: 4.50491\teval's rmse: 6.41593\n",
      "[900]\ttrain's rmse: 4.39689\teval's rmse: 6.41573\n",
      "[1000]\ttrain's rmse: 4.30237\teval's rmse: 6.42805\n",
      "Did not meet early stopping. Best iteration is:\n",
      "[1000]\ttrain's rmse: 4.30237\teval's rmse: 6.42805\n"
     ]
    },
    {
     "name": "stderr",
     "output_type": "stream",
     "text": [
      "num_leaves, val_score: 6.428046:  50%|########################5                        | 10/20 [00:12<00:11,  1.17s/it]\u001b[32m[I 2021-06-20 17:57:51,719]\u001b[0m Trial 16 finished with value: 6.428046085467944 and parameters: {'num_leaves': 12}. Best is trial 16 with value: 6.428046085467944.\u001b[0m\n",
      "num_leaves, val_score: 6.428046:  50%|########################5                        | 10/20 [00:12<00:11,  1.17s/it]"
     ]
    },
    {
     "name": "stdout",
     "output_type": "stream",
     "text": [
      "Training until validation scores don't improve for 100 rounds\n",
      "[100]\ttrain's rmse: 7.06525\teval's rmse: 7.52151\n",
      "[200]\ttrain's rmse: 6.54201\teval's rmse: 7.25727\n",
      "[300]\ttrain's rmse: 6.26869\teval's rmse: 7.12742\n",
      "[400]\ttrain's rmse: 6.07458\teval's rmse: 7.03062\n",
      "[500]\ttrain's rmse: 5.91579\teval's rmse: 6.94589\n",
      "[600]\ttrain's rmse: 5.78596\teval's rmse: 6.88074\n",
      "[700]\ttrain's rmse: 5.67828\teval's rmse: 6.82093\n",
      "[800]\ttrain's rmse: 5.58022\teval's rmse: 6.76522\n"
     ]
    },
    {
     "name": "stderr",
     "output_type": "stream",
     "text": [
      "num_leaves, val_score: 6.428046:  55%|##########################9                      | 11/20 [00:13<00:08,  1.00it/s]\u001b[32m[I 2021-06-20 17:57:52,316]\u001b[0m Trial 17 finished with value: 6.675809920690966 and parameters: {'num_leaves': 5}. Best is trial 16 with value: 6.428046085467944.\u001b[0m\n",
      "num_leaves, val_score: 6.428046:  55%|##########################9                      | 11/20 [00:13<00:08,  1.00it/s]"
     ]
    },
    {
     "name": "stdout",
     "output_type": "stream",
     "text": [
      "[900]\ttrain's rmse: 5.4861\teval's rmse: 6.7176\n",
      "[1000]\ttrain's rmse: 5.40854\teval's rmse: 6.67581\n",
      "Did not meet early stopping. Best iteration is:\n",
      "[1000]\ttrain's rmse: 5.40854\teval's rmse: 6.67581\n",
      "Training until validation scores don't improve for 100 rounds\n",
      "[100]\ttrain's rmse: 6.88974\teval's rmse: 7.43541\n",
      "[200]\ttrain's rmse: 6.36595\teval's rmse: 7.17318\n",
      "[300]\ttrain's rmse: 6.08971\teval's rmse: 7.04674\n",
      "[400]\ttrain's rmse: 5.88123\teval's rmse: 6.92697\n",
      "[500]\ttrain's rmse: 5.71322\teval's rmse: 6.81451\n",
      "[600]\ttrain's rmse: 5.56911\teval's rmse: 6.74613\n",
      "[700]\ttrain's rmse: 5.44951\teval's rmse: 6.68567\n",
      "[800]\ttrain's rmse: 5.34632\teval's rmse: 6.62453\n",
      "[900]\ttrain's rmse: 5.25028\teval's rmse: 6.58825\n"
     ]
    },
    {
     "name": "stderr",
     "output_type": "stream",
     "text": [
      "num_leaves, val_score: 6.428046:  60%|#############################4                   | 12/20 [00:14<00:07,  1.06it/s]\u001b[32m[I 2021-06-20 17:57:53,147]\u001b[0m Trial 18 finished with value: 6.545726905170211 and parameters: {'num_leaves': 6}. Best is trial 16 with value: 6.428046085467944.\u001b[0m\n",
      "num_leaves, val_score: 6.428046:  60%|#############################4                   | 12/20 [00:14<00:07,  1.06it/s]"
     ]
    },
    {
     "name": "stdout",
     "output_type": "stream",
     "text": [
      "[1000]\ttrain's rmse: 5.16661\teval's rmse: 6.54573\n",
      "Did not meet early stopping. Best iteration is:\n",
      "[1000]\ttrain's rmse: 5.16661\teval's rmse: 6.54573\n",
      "Training until validation scores don't improve for 100 rounds\n",
      "[100]\ttrain's rmse: 7.06525\teval's rmse: 7.52151\n",
      "[200]\ttrain's rmse: 6.54201\teval's rmse: 7.25727\n",
      "[300]\ttrain's rmse: 6.26869\teval's rmse: 7.12742\n",
      "[400]\ttrain's rmse: 6.07458\teval's rmse: 7.03062\n",
      "[500]\ttrain's rmse: 5.91579\teval's rmse: 6.94589\n",
      "[600]\ttrain's rmse: 5.78596\teval's rmse: 6.88074\n",
      "[700]\ttrain's rmse: 5.67828\teval's rmse: 6.82093\n",
      "[800]\ttrain's rmse: 5.58022\teval's rmse: 6.76522"
     ]
    },
    {
     "name": "stderr",
     "output_type": "stream",
     "text": [
      "\r",
      "num_leaves, val_score: 6.428046:  60%|#############################4                   | 12/20 [00:14<00:07,  1.06it/s]"
     ]
    },
    {
     "name": "stdout",
     "output_type": "stream",
     "text": [
      "\n",
      "[900]\ttrain's rmse: 5.4861\teval's rmse: 6.7176\n",
      "[1000]\ttrain's rmse: 5.40854\teval's rmse: 6.67581\n",
      "Did not meet early stopping. Best iteration is:\n",
      "[1000]\ttrain's rmse: 5.40854\teval's rmse: 6.67581\n"
     ]
    },
    {
     "name": "stderr",
     "output_type": "stream",
     "text": [
      "num_leaves, val_score: 6.428046:  65%|###############################8                 | 13/20 [00:14<00:06,  1.10it/s]\u001b[32m[I 2021-06-20 17:57:53,966]\u001b[0m Trial 19 finished with value: 6.675809920690966 and parameters: {'num_leaves': 5}. Best is trial 16 with value: 6.428046085467944.\u001b[0m\n",
      "num_leaves, val_score: 6.428046:  65%|###############################8                 | 13/20 [00:14<00:06,  1.10it/s]"
     ]
    },
    {
     "name": "stdout",
     "output_type": "stream",
     "text": [
      "Training until validation scores don't improve for 100 rounds\n",
      "[100]\ttrain's rmse: 5.77648\teval's rmse: 7.04934\n",
      "[200]\ttrain's rmse: 4.95533\teval's rmse: 6.78742\n",
      "[300]\ttrain's rmse: 4.42765\teval's rmse: 6.66775\n",
      "[400]\ttrain's rmse: 4.05458\teval's rmse: 6.61072\n",
      "[500]\ttrain's rmse: 3.76925\teval's rmse: 6.62189\n",
      "Early stopping, best iteration is:\n",
      "[445]\ttrain's rmse: 3.91958\teval's rmse: 6.6026\n"
     ]
    },
    {
     "name": "stderr",
     "output_type": "stream",
     "text": [
      "num_leaves, val_score: 6.428046:  70%|##################################3              | 14/20 [00:16<00:05,  1.03it/s]\u001b[32m[I 2021-06-20 17:57:55,097]\u001b[0m Trial 20 finished with value: 6.602599298658899 and parameters: {'num_leaves': 120}. Best is trial 16 with value: 6.428046085467944.\u001b[0m\n",
      "num_leaves, val_score: 6.428046:  70%|##################################3              | 14/20 [00:16<00:05,  1.03it/s]"
     ]
    },
    {
     "name": "stdout",
     "output_type": "stream",
     "text": [
      "Training until validation scores don't improve for 100 rounds\n",
      "[100]\ttrain's rmse: 6.42465\teval's rmse: 7.19185\n",
      "[200]\ttrain's rmse: 5.82838\teval's rmse: 6.92002\n",
      "[300]\ttrain's rmse: 5.48755\teval's rmse: 6.75296\n",
      "[400]\ttrain's rmse: 5.23199\teval's rmse: 6.6303\n",
      "[500]\ttrain's rmse: 5.02527\teval's rmse: 6.56031\n",
      "[600]\ttrain's rmse: 4.86655\teval's rmse: 6.5183\n",
      "[700]\ttrain's rmse: 4.72213\teval's rmse: 6.47228\n",
      "[800]\ttrain's rmse: 4.60942\teval's rmse: 6.43005\n",
      "[900]\ttrain's rmse: 4.50127\teval's rmse: 6.41846\n",
      "[1000]\ttrain's rmse: 4.40959\teval's rmse: 6.41155\n",
      "Did not meet early stopping. Best iteration is:\n",
      "[1000]\ttrain's rmse: 4.40959\teval's rmse: 6.41155\n"
     ]
    },
    {
     "name": "stderr",
     "output_type": "stream",
     "text": [
      "num_leaves, val_score: 6.411553:  75%|####################################7            | 15/20 [00:16<00:04,  1.04it/s]\u001b[32m[I 2021-06-20 17:57:56,022]\u001b[0m Trial 21 finished with value: 6.411553283175075 and parameters: {'num_leaves': 11}. Best is trial 21 with value: 6.411553283175075.\u001b[0m\n",
      "num_leaves, val_score: 6.411553:  75%|####################################7            | 15/20 [00:17<00:04,  1.04it/s]"
     ]
    },
    {
     "name": "stdout",
     "output_type": "stream",
     "text": [
      "Training until validation scores don't improve for 100 rounds\n",
      "[100]\ttrain's rmse: 5.94298\teval's rmse: 7.00512\n",
      "[200]\ttrain's rmse: 5.19857\teval's rmse: 6.72516\n",
      "[300]\ttrain's rmse: 4.7377\teval's rmse: 6.56376\n",
      "[400]\ttrain's rmse: 4.419\teval's rmse: 6.51489\n",
      "[500]\ttrain's rmse: 4.17064\teval's rmse: 6.51431\n"
     ]
    },
    {
     "name": "stderr",
     "output_type": "stream",
     "text": [
      "num_leaves, val_score: 6.411553:  80%|#######################################2         | 16/20 [00:17<00:03,  1.06it/s]\u001b[32m[I 2021-06-20 17:57:56,924]\u001b[0m Trial 22 finished with value: 6.50854940259405 and parameters: {'num_leaves': 26}. Best is trial 21 with value: 6.411553283175075.\u001b[0m\n",
      "num_leaves, val_score: 6.411553:  80%|#######################################2         | 16/20 [00:17<00:03,  1.06it/s]"
     ]
    },
    {
     "name": "stdout",
     "output_type": "stream",
     "text": [
      "[600]\ttrain's rmse: 3.95388\teval's rmse: 6.52915\n",
      "Early stopping, best iteration is:\n",
      "[515]\ttrain's rmse: 4.12715\teval's rmse: 6.50855\n",
      "Training until validation scores don't improve for 100 rounds\n",
      "[100]\ttrain's rmse: 5.77648\teval's rmse: 7.04934\n",
      "[200]\ttrain's rmse: 4.95533\teval's rmse: 6.78742\n",
      "[300]\ttrain's rmse: 4.42765\teval's rmse: 6.66775\n",
      "[400]\ttrain's rmse: 4.05458\teval's rmse: 6.61072\n",
      "[500]\ttrain's rmse: 3.76925\teval's rmse: 6.62189\n",
      "Early stopping, best iteration is:\n",
      "[445]\ttrain's rmse: 3.91958\teval's rmse: 6.6026\n"
     ]
    },
    {
     "name": "stderr",
     "output_type": "stream",
     "text": [
      "num_leaves, val_score: 6.411553:  85%|#########################################6       | 17/20 [00:18<00:02,  1.02it/s]\u001b[32m[I 2021-06-20 17:57:58,017]\u001b[0m Trial 23 finished with value: 6.602599298658899 and parameters: {'num_leaves': 106}. Best is trial 21 with value: 6.411553283175075.\u001b[0m\n",
      "num_leaves, val_score: 6.411553:  85%|#########################################6       | 17/20 [00:19<00:02,  1.02it/s]"
     ]
    },
    {
     "name": "stdout",
     "output_type": "stream",
     "text": [
      "Training until validation scores don't improve for 100 rounds\n",
      "[100]\ttrain's rmse: 5.77648\teval's rmse: 7.04934\n",
      "[200]\ttrain's rmse: 4.95533\teval's rmse: 6.78742\n",
      "[300]\ttrain's rmse: 4.42765\teval's rmse: 6.66775\n",
      "[400]\ttrain's rmse: 4.05458\teval's rmse: 6.61072\n",
      "[500]\ttrain's rmse: 3.76925\teval's rmse: 6.62189\n"
     ]
    },
    {
     "name": "stderr",
     "output_type": "stream",
     "text": [
      "\r",
      "num_leaves, val_score: 6.411553:  85%|#########################################6       | 17/20 [00:20<00:02,  1.02it/s]"
     ]
    },
    {
     "name": "stdout",
     "output_type": "stream",
     "text": [
      "Early stopping, best iteration is:\n",
      "[445]\ttrain's rmse: 3.91958\teval's rmse: 6.6026\n"
     ]
    },
    {
     "name": "stderr",
     "output_type": "stream",
     "text": [
      "num_leaves, val_score: 6.411553:  90%|############################################1    | 18/20 [00:20<00:02,  1.02s/it]\u001b[32m[I 2021-06-20 17:57:59,124]\u001b[0m Trial 24 finished with value: 6.602599298658899 and parameters: {'num_leaves': 152}. Best is trial 21 with value: 6.411553283175075.\u001b[0m\n",
      "num_leaves, val_score: 6.411553:  90%|############################################1    | 18/20 [00:20<00:02,  1.02s/it]"
     ]
    },
    {
     "name": "stdout",
     "output_type": "stream",
     "text": [
      "Training until validation scores don't improve for 100 rounds\n",
      "[100]\ttrain's rmse: 5.89711\teval's rmse: 7.00756\n",
      "[200]\ttrain's rmse: 5.13632\teval's rmse: 6.74245\n",
      "[300]\ttrain's rmse: 4.66837\teval's rmse: 6.5912\n",
      "[400]\ttrain's rmse: 4.34811\teval's rmse: 6.55555\n",
      "[500]\ttrain's rmse: 4.09667\teval's rmse: 6.54583\n",
      "Early stopping, best iteration is:\n",
      "[445]\ttrain's rmse: 4.22787\teval's rmse: 6.5354\n"
     ]
    },
    {
     "name": "stderr",
     "output_type": "stream",
     "text": [
      "num_leaves, val_score: 6.411553:  95%|##############################################5  | 19/20 [00:20<00:00,  1.02it/s]\u001b[32m[I 2021-06-20 17:58:00,013]\u001b[0m Trial 25 finished with value: 6.5354009386137015 and parameters: {'num_leaves': 28}. Best is trial 21 with value: 6.411553283175075.\u001b[0m\n",
      "num_leaves, val_score: 6.411553:  95%|##############################################5  | 19/20 [00:20<00:00,  1.02it/s]"
     ]
    },
    {
     "name": "stdout",
     "output_type": "stream",
     "text": [
      "Training until validation scores don't improve for 100 rounds\n",
      "[100]\ttrain's rmse: 5.77648\teval's rmse: 7.04934\n",
      "[200]\ttrain's rmse: 4.95533\teval's rmse: 6.78742\n",
      "[300]\ttrain's rmse: 4.42765\teval's rmse: 6.66775\n",
      "[400]\ttrain's rmse: 4.05458\teval's rmse: 6.61072\n",
      "[500]\ttrain's rmse: 3.76925\teval's rmse: 6.62189\n"
     ]
    },
    {
     "name": "stderr",
     "output_type": "stream",
     "text": [
      "num_leaves, val_score: 6.411553: 100%|#################################################| 20/20 [00:21<00:00,  1.02it/s]\u001b[32m[I 2021-06-20 17:58:00,991]\u001b[0m Trial 26 finished with value: 6.602599298658899 and parameters: {'num_leaves': 92}. Best is trial 21 with value: 6.411553283175075.\u001b[0m\n",
      "num_leaves, val_score: 6.411553: 100%|#################################################| 20/20 [00:21<00:00,  1.10s/it]\n",
      "  0%|                                                                                           | 0/10 [00:00<?, ?it/s]"
     ]
    },
    {
     "name": "stdout",
     "output_type": "stream",
     "text": [
      "Early stopping, best iteration is:\n",
      "[445]\ttrain's rmse: 3.91958\teval's rmse: 6.6026\n"
     ]
    },
    {
     "name": "stderr",
     "output_type": "stream",
     "text": [
      "\r",
      "bagging, val_score: 6.411553:   0%|                                                             | 0/10 [00:00<?, ?it/s]"
     ]
    },
    {
     "name": "stdout",
     "output_type": "stream",
     "text": [
      "Training until validation scores don't improve for 100 rounds\n",
      "[100]\ttrain's rmse: 6.70242\teval's rmse: 7.35582\n",
      "[200]\ttrain's rmse: 6.15725\teval's rmse: 7.15323\n",
      "[300]\ttrain's rmse: 5.82625\teval's rmse: 7.01051\n",
      "[400]\ttrain's rmse: 5.59547\teval's rmse: 6.91689\n",
      "[500]\ttrain's rmse: 5.40738\teval's rmse: 6.81598\n",
      "[600]\ttrain's rmse: 5.24665\teval's rmse: 6.75855\n",
      "[700]\ttrain's rmse: 5.12492\teval's rmse: 6.76846\n",
      "[800]\ttrain's rmse: 5.0111\teval's rmse: 6.74844\n",
      "[900]\ttrain's rmse: 4.89982\teval's rmse: 6.70461\n",
      "[1000]\ttrain's rmse: 4.81709\teval's rmse: 6.68884\n",
      "Did not meet early stopping. Best iteration is:\n",
      "[1000]\ttrain's rmse: 4.81709\teval's rmse: 6.68884\n"
     ]
    },
    {
     "name": "stderr",
     "output_type": "stream",
     "text": [
      "bagging, val_score: 6.411553:  10%|#####3                                               | 1/10 [00:00<00:08,  1.03it/s]\u001b[32m[I 2021-06-20 17:58:01,967]\u001b[0m Trial 27 finished with value: 6.688837596472773 and parameters: {'bagging_fraction': 0.42944127743409627, 'bagging_freq': 5}. Best is trial 27 with value: 6.688837596472773.\u001b[0m\n",
      "bagging, val_score: 6.411553:  10%|#####3                                               | 1/10 [00:00<00:08,  1.03it/s]"
     ]
    },
    {
     "name": "stdout",
     "output_type": "stream",
     "text": [
      "Training until validation scores don't improve for 100 rounds\n",
      "[100]\ttrain's rmse: 6.65786\teval's rmse: 7.33381\n",
      "[200]\ttrain's rmse: 6.07121\teval's rmse: 7.09114\n",
      "[300]\ttrain's rmse: 5.73369\teval's rmse: 6.93665\n",
      "[400]\ttrain's rmse: 5.49605\teval's rmse: 6.84508\n",
      "[500]\ttrain's rmse: 5.31405\teval's rmse: 6.76432\n",
      "[600]\ttrain's rmse: 5.16306\teval's rmse: 6.71793\n",
      "[700]\ttrain's rmse: 5.02833\teval's rmse: 6.66125\n",
      "[800]\ttrain's rmse: 4.92561\teval's rmse: 6.64284\n",
      "[900]\ttrain's rmse: 4.82292\teval's rmse: 6.61803\n",
      "[1000]\ttrain's rmse: 4.72664\teval's rmse: 6.59177\n",
      "Did not meet early stopping. Best iteration is:\n",
      "[1000]\ttrain's rmse: 4.72664\teval's rmse: 6.59177\n"
     ]
    },
    {
     "name": "stderr",
     "output_type": "stream",
     "text": [
      "bagging, val_score: 6.411553:  20%|##########6                                          | 2/10 [00:01<00:07,  1.06it/s]\u001b[32m[I 2021-06-20 17:58:02,889]\u001b[0m Trial 28 finished with value: 6.5917737252132955 and parameters: {'bagging_fraction': 0.5052955430644912, 'bagging_freq': 6}. Best is trial 28 with value: 6.5917737252132955.\u001b[0m\n",
      "bagging, val_score: 6.411553:  20%|##########6                                          | 2/10 [00:01<00:07,  1.06it/s]"
     ]
    },
    {
     "name": "stdout",
     "output_type": "stream",
     "text": [
      "Training until validation scores don't improve for 100 rounds\n",
      "[100]\ttrain's rmse: 6.47323\teval's rmse: 7.15204\n",
      "[200]\ttrain's rmse: 5.8759\teval's rmse: 6.8994\n",
      "[300]\ttrain's rmse: 5.53602\teval's rmse: 6.73623\n",
      "[400]\ttrain's rmse: 5.28127\teval's rmse: 6.64949\n",
      "[500]\ttrain's rmse: 5.07991\teval's rmse: 6.58211\n",
      "[600]\ttrain's rmse: 4.9196\teval's rmse: 6.53454\n",
      "[700]\ttrain's rmse: 4.78681\teval's rmse: 6.51274\n",
      "[800]\ttrain's rmse: 4.67932\teval's rmse: 6.48774\n",
      "[900]\ttrain's rmse: 4.57603\teval's rmse: 6.46057\n",
      "[1000]\ttrain's rmse: 4.47585\teval's rmse: 6.45936\n",
      "Did not meet early stopping. Best iteration is:\n",
      "[1000]\ttrain's rmse: 4.47585\teval's rmse: 6.45936\n"
     ]
    },
    {
     "name": "stderr",
     "output_type": "stream",
     "text": [
      "bagging, val_score: 6.411553:  30%|###############9                                     | 3/10 [00:02<00:06,  1.01it/s]\u001b[32m[I 2021-06-20 17:58:03,941]\u001b[0m Trial 29 finished with value: 6.459356247321418 and parameters: {'bagging_fraction': 0.752866843118891, 'bagging_freq': 1}. Best is trial 29 with value: 6.459356247321418.\u001b[0m\n",
      "bagging, val_score: 6.411553:  30%|###############9                                     | 3/10 [00:02<00:06,  1.01it/s]"
     ]
    },
    {
     "name": "stdout",
     "output_type": "stream",
     "text": [
      "Training until validation scores don't improve for 100 rounds\n",
      "[100]\ttrain's rmse: 6.43679\teval's rmse: 7.18756\n",
      "[200]\ttrain's rmse: 5.83637\teval's rmse: 6.89589\n",
      "[300]\ttrain's rmse: 5.48991\teval's rmse: 6.74918\n",
      "[400]\ttrain's rmse: 5.23433\teval's rmse: 6.66013\n",
      "[500]\ttrain's rmse: 5.04404\teval's rmse: 6.61044\n",
      "[600]\ttrain's rmse: 4.87352\teval's rmse: 6.56492\n",
      "[700]\ttrain's rmse: 4.73022\teval's rmse: 6.5411\n",
      "[800]\ttrain's rmse: 4.6142\teval's rmse: 6.5248\n",
      "[900]\ttrain's rmse: 4.50926\teval's rmse: 6.50498\n",
      "[1000]\ttrain's rmse: 4.40791\teval's rmse: 6.49702\n",
      "Did not meet early stopping. Best iteration is:\n",
      "[1000]\ttrain's rmse: 4.40791\teval's rmse: 6.49702\n"
     ]
    },
    {
     "name": "stderr",
     "output_type": "stream",
     "text": [
      "bagging, val_score: 6.411553:  40%|#####################2                               | 4/10 [00:04<00:06,  1.02s/it]\u001b[32m[I 2021-06-20 17:58:05,014]\u001b[0m Trial 30 finished with value: 6.497018706436579 and parameters: {'bagging_fraction': 0.8080566658805248, 'bagging_freq': 1}. Best is trial 29 with value: 6.459356247321418.\u001b[0m\n",
      "bagging, val_score: 6.411553:  40%|#####################2                               | 4/10 [00:04<00:06,  1.02s/it]"
     ]
    },
    {
     "name": "stdout",
     "output_type": "stream",
     "text": [
      "Training until validation scores don't improve for 100 rounds\n",
      "[100]\ttrain's rmse: 6.39935\teval's rmse: 7.12323\n",
      "[200]\ttrain's rmse: 5.80638\teval's rmse: 6.84117\n",
      "[300]\ttrain's rmse: 5.4529\teval's rmse: 6.69458\n",
      "[400]\ttrain's rmse: 5.1995\teval's rmse: 6.59252\n",
      "[500]\ttrain's rmse: 5.00494\teval's rmse: 6.53793\n",
      "[600]\ttrain's rmse: 4.8356\teval's rmse: 6.50521\n",
      "[700]\ttrain's rmse: 4.70199\teval's rmse: 6.45787\n",
      "[800]\ttrain's rmse: 4.58609\teval's rmse: 6.43479\n",
      "[900]\ttrain's rmse: 4.47618\teval's rmse: 6.41197\n",
      "[1000]\ttrain's rmse: 4.38056\teval's rmse: 6.41276\n",
      "Did not meet early stopping. Best iteration is:\n",
      "[1000]\ttrain's rmse: 4.38056\teval's rmse: 6.41276\n"
     ]
    },
    {
     "name": "stderr",
     "output_type": "stream",
     "text": [
      "bagging, val_score: 6.411553:  50%|##########################5                          | 5/10 [00:04<00:05,  1.01s/it]\u001b[32m[I 2021-06-20 17:58:05,992]\u001b[0m Trial 31 finished with value: 6.41275626916109 and parameters: {'bagging_fraction': 0.8528773414012496, 'bagging_freq': 5}. Best is trial 31 with value: 6.41275626916109.\u001b[0m\n",
      "bagging, val_score: 6.411553:  50%|##########################5                          | 5/10 [00:04<00:05,  1.01s/it]"
     ]
    },
    {
     "name": "stdout",
     "output_type": "stream",
     "text": [
      "Training until validation scores don't improve for 100 rounds\n",
      "[100]\ttrain's rmse: 6.38908\teval's rmse: 7.1187\n",
      "[200]\ttrain's rmse: 5.77706\teval's rmse: 6.85621\n",
      "[300]\ttrain's rmse: 5.43148\teval's rmse: 6.73404\n",
      "[400]\ttrain's rmse: 5.1777\teval's rmse: 6.65548\n",
      "[500]\ttrain's rmse: 4.97934\teval's rmse: 6.58305\n",
      "[600]\ttrain's rmse: 4.80349\teval's rmse: 6.51582\n",
      "[700]\ttrain's rmse: 4.65647\teval's rmse: 6.48338\n",
      "[800]\ttrain's rmse: 4.54316\teval's rmse: 6.47647\n",
      "[900]\ttrain's rmse: 4.43969\teval's rmse: 6.45154\n",
      "[1000]\ttrain's rmse: 4.34433\teval's rmse: 6.44724\n",
      "Did not meet early stopping. Best iteration is:\n",
      "[1000]\ttrain's rmse: 4.34433\teval's rmse: 6.44724\n"
     ]
    },
    {
     "name": "stderr",
     "output_type": "stream",
     "text": [
      "bagging, val_score: 6.411553:  60%|###############################8                     | 6/10 [00:06<00:04,  1.09s/it]\u001b[32m[I 2021-06-20 17:58:07,242]\u001b[0m Trial 32 finished with value: 6.447241924882039 and parameters: {'bagging_fraction': 0.9328628102693604, 'bagging_freq': 7}. Best is trial 31 with value: 6.41275626916109.\u001b[0m\n",
      "bagging, val_score: 6.411553:  60%|###############################8                     | 6/10 [00:06<00:04,  1.09s/it]"
     ]
    },
    {
     "name": "stdout",
     "output_type": "stream",
     "text": [
      "Training until validation scores don't improve for 100 rounds\n",
      "[100]\ttrain's rmse: 6.47327\teval's rmse: 7.16644\n",
      "[200]\ttrain's rmse: 5.88236\teval's rmse: 6.91582\n",
      "[300]\ttrain's rmse: 5.53118\teval's rmse: 6.75583\n",
      "[400]\ttrain's rmse: 5.27824\teval's rmse: 6.68585\n",
      "[500]\ttrain's rmse: 5.07698\teval's rmse: 6.61913\n",
      "[600]\ttrain's rmse: 4.91026\teval's rmse: 6.5767\n",
      "[700]\ttrain's rmse: 4.77632\teval's rmse: 6.53717\n",
      "[800]\ttrain's rmse: 4.67037\teval's rmse: 6.52414\n",
      "[900]\ttrain's rmse: 4.56483\teval's rmse: 6.48816\n"
     ]
    },
    {
     "name": "stderr",
     "output_type": "stream",
     "text": [
      "\r",
      "bagging, val_score: 6.411553:  60%|###############################8                     | 6/10 [00:07<00:04,  1.09s/it]"
     ]
    },
    {
     "name": "stdout",
     "output_type": "stream",
     "text": [
      "[1000]\ttrain's rmse: 4.46936\teval's rmse: 6.48034\n",
      "Did not meet early stopping. Best iteration is:\n",
      "[1000]\ttrain's rmse: 4.46936\teval's rmse: 6.48034\n"
     ]
    },
    {
     "name": "stderr",
     "output_type": "stream",
     "text": [
      "bagging, val_score: 6.411553:  70%|#####################################                | 7/10 [00:07<00:03,  1.06s/it]\u001b[32m[I 2021-06-20 17:58:08,260]\u001b[0m Trial 33 finished with value: 6.48034198229633 and parameters: {'bagging_fraction': 0.7557004837366814, 'bagging_freq': 1}. Best is trial 31 with value: 6.41275626916109.\u001b[0m\n",
      "bagging, val_score: 6.411553:  70%|#####################################                | 7/10 [00:07<00:03,  1.06s/it]"
     ]
    },
    {
     "name": "stdout",
     "output_type": "stream",
     "text": [
      "Training until validation scores don't improve for 100 rounds\n",
      "[100]\ttrain's rmse: 6.64931\teval's rmse: 7.30318\n",
      "[200]\ttrain's rmse: 6.0716\teval's rmse: 7.10459\n",
      "[300]\ttrain's rmse: 5.73648\teval's rmse: 6.93055\n",
      "[400]\ttrain's rmse: 5.50795\teval's rmse: 6.85039\n",
      "[500]\ttrain's rmse: 5.3164\teval's rmse: 6.78652\n",
      "[600]\ttrain's rmse: 5.16735\teval's rmse: 6.759\n",
      "[700]\ttrain's rmse: 5.02359\teval's rmse: 6.71928\n",
      "[800]\ttrain's rmse: 4.91908\teval's rmse: 6.6897\n",
      "[900]\ttrain's rmse: 4.81673\teval's rmse: 6.67096\n",
      "[1000]\ttrain's rmse: 4.72007\teval's rmse: 6.6185\n",
      "Did not meet early stopping. Best iteration is:\n",
      "[1000]\ttrain's rmse: 4.72007\teval's rmse: 6.6185\n"
     ]
    },
    {
     "name": "stderr",
     "output_type": "stream",
     "text": [
      "bagging, val_score: 6.411553:  80%|##########################################4          | 8/10 [00:08<00:02,  1.13s/it]\u001b[32m[I 2021-06-20 17:58:09,526]\u001b[0m Trial 34 finished with value: 6.618498907802873 and parameters: {'bagging_fraction': 0.5029126029359061, 'bagging_freq': 6}. Best is trial 31 with value: 6.41275626916109.\u001b[0m\n",
      "bagging, val_score: 6.411553:  80%|##########################################4          | 8/10 [00:08<00:02,  1.13s/it]"
     ]
    },
    {
     "name": "stdout",
     "output_type": "stream",
     "text": [
      "Training until validation scores don't improve for 100 rounds\n",
      "[100]\ttrain's rmse: 6.57261\teval's rmse: 7.30424\n",
      "[200]\ttrain's rmse: 5.99617\teval's rmse: 7.01433\n",
      "[300]\ttrain's rmse: 5.67522\teval's rmse: 6.85099\n",
      "[400]\ttrain's rmse: 5.43583\teval's rmse: 6.75971\n",
      "[500]\ttrain's rmse: 5.24158\teval's rmse: 6.69974\n",
      "[600]\ttrain's rmse: 5.08388\teval's rmse: 6.64287\n",
      "[700]\ttrain's rmse: 4.95127\teval's rmse: 6.63485\n",
      "[800]\ttrain's rmse: 4.83457\teval's rmse: 6.59\n",
      "[900]\ttrain's rmse: 4.73675\teval's rmse: 6.57981"
     ]
    },
    {
     "name": "stderr",
     "output_type": "stream",
     "text": [
      "\r",
      "bagging, val_score: 6.411553:  80%|##########################################4          | 8/10 [00:09<00:02,  1.13s/it]"
     ]
    },
    {
     "name": "stdout",
     "output_type": "stream",
     "text": [
      "\n",
      "[1000]\ttrain's rmse: 4.64843\teval's rmse: 6.59012\n",
      "Did not meet early stopping. Best iteration is:\n",
      "[1000]\ttrain's rmse: 4.64843\teval's rmse: 6.59012\n"
     ]
    },
    {
     "name": "stderr",
     "output_type": "stream",
     "text": [
      "bagging, val_score: 6.411553:  90%|###############################################7     | 9/10 [00:09<00:01,  1.07s/it]\u001b[32m[I 2021-06-20 17:58:10,449]\u001b[0m Trial 35 finished with value: 6.590123974933367 and parameters: {'bagging_fraction': 0.6009881826672061, 'bagging_freq': 3}. Best is trial 31 with value: 6.41275626916109.\u001b[0m\n",
      "bagging, val_score: 6.411553:  90%|###############################################7     | 9/10 [00:09<00:01,  1.07s/it]"
     ]
    },
    {
     "name": "stdout",
     "output_type": "stream",
     "text": [
      "Training until validation scores don't improve for 100 rounds\n",
      "[100]\ttrain's rmse: 6.39356\teval's rmse: 7.1127\n",
      "[200]\ttrain's rmse: 5.79412\teval's rmse: 6.83502\n",
      "[300]\ttrain's rmse: 5.46776\teval's rmse: 6.69614\n",
      "[400]\ttrain's rmse: 5.19627\teval's rmse: 6.59818\n",
      "[500]\ttrain's rmse: 4.98763\teval's rmse: 6.53889\n",
      "[600]\ttrain's rmse: 4.80509\teval's rmse: 6.49387\n",
      "[700]\ttrain's rmse: 4.66998\teval's rmse: 6.42297\n",
      "[800]\ttrain's rmse: 4.56201\teval's rmse: 6.40316\n",
      "[900]\ttrain's rmse: 4.45501\teval's rmse: 6.38201\n"
     ]
    },
    {
     "name": "stderr",
     "output_type": "stream",
     "text": [
      "bagging, val_score: 6.379664: 100%|####################################################| 10/10 [00:10<00:00,  1.02s/it]\u001b[32m[I 2021-06-20 17:58:11,363]\u001b[0m Trial 36 finished with value: 6.379663972446192 and parameters: {'bagging_fraction': 0.8891166234307473, 'bagging_freq': 5}. Best is trial 36 with value: 6.379663972446192.\u001b[0m\n",
      "bagging, val_score: 6.379664: 100%|####################################################| 10/10 [00:10<00:00,  1.04s/it]\n",
      "feature_fraction_stage2, val_score: 6.379664:   0%|                                              | 0/3 [00:00<?, ?it/s]"
     ]
    },
    {
     "name": "stdout",
     "output_type": "stream",
     "text": [
      "[1000]\ttrain's rmse: 4.35904\teval's rmse: 6.37966\n",
      "Did not meet early stopping. Best iteration is:\n",
      "[1000]\ttrain's rmse: 4.35904\teval's rmse: 6.37966\n",
      "Training until validation scores don't improve for 100 rounds\n",
      "[100]\ttrain's rmse: 6.25498\teval's rmse: 7.02416\n",
      "[200]\ttrain's rmse: 5.6639\teval's rmse: 6.75776\n",
      "[300]\ttrain's rmse: 5.34507\teval's rmse: 6.6733\n",
      "[400]\ttrain's rmse: 5.0781\teval's rmse: 6.57327\n",
      "[500]\ttrain's rmse: 4.87629\teval's rmse: 6.51686\n",
      "[600]\ttrain's rmse: 4.69084\teval's rmse: 6.4666\n",
      "[700]\ttrain's rmse: 4.55297\teval's rmse: 6.42378\n"
     ]
    },
    {
     "name": "stderr",
     "output_type": "stream",
     "text": [
      "\r",
      "feature_fraction_stage2, val_score: 6.379664:   0%|                                              | 0/3 [00:00<?, ?it/s]"
     ]
    },
    {
     "name": "stdout",
     "output_type": "stream",
     "text": [
      "[800]\ttrain's rmse: 4.43345\teval's rmse: 6.4038\n",
      "[900]\ttrain's rmse: 4.32216\teval's rmse: 6.39166\n",
      "Early stopping, best iteration is:\n",
      "[887]\ttrain's rmse: 4.33718\teval's rmse: 6.3862\n"
     ]
    },
    {
     "name": "stderr",
     "output_type": "stream",
     "text": [
      "feature_fraction_stage2, val_score: 6.379664:  33%|############6                         | 1/3 [00:00<00:01,  1.21it/s]\u001b[32m[I 2021-06-20 17:58:12,205]\u001b[0m Trial 37 finished with value: 6.386199430957485 and parameters: {'feature_fraction': 0.48000000000000004}. Best is trial 37 with value: 6.386199430957485.\u001b[0m\n",
      "feature_fraction_stage2, val_score: 6.379664:  33%|############6                         | 1/3 [00:00<00:01,  1.21it/s]"
     ]
    },
    {
     "name": "stdout",
     "output_type": "stream",
     "text": [
      "Training until validation scores don't improve for 100 rounds\n",
      "[100]\ttrain's rmse: 6.39356\teval's rmse: 7.1127\n",
      "[200]\ttrain's rmse: 5.79412\teval's rmse: 6.83502\n",
      "[300]\ttrain's rmse: 5.46776\teval's rmse: 6.69614\n",
      "[400]\ttrain's rmse: 5.19627\teval's rmse: 6.59818\n",
      "[500]\ttrain's rmse: 4.98763\teval's rmse: 6.53889\n",
      "[600]\ttrain's rmse: 4.80509\teval's rmse: 6.49387\n",
      "[700]\ttrain's rmse: 4.66998\teval's rmse: 6.42297\n",
      "[800]\ttrain's rmse: 4.56201\teval's rmse: 6.40316\n",
      "[900]\ttrain's rmse: 4.45501\teval's rmse: 6.38201"
     ]
    },
    {
     "name": "stderr",
     "output_type": "stream",
     "text": [
      "\r",
      "feature_fraction_stage2, val_score: 6.379664:  33%|############6                         | 1/3 [00:01<00:01,  1.21it/s]"
     ]
    },
    {
     "name": "stdout",
     "output_type": "stream",
     "text": [
      "\n",
      "[1000]\ttrain's rmse: 4.35904\teval's rmse: 6.37966\n",
      "Did not meet early stopping. Best iteration is:\n",
      "[1000]\ttrain's rmse: 4.35904\teval's rmse: 6.37966\n"
     ]
    },
    {
     "name": "stderr",
     "output_type": "stream",
     "text": [
      "feature_fraction_stage2, val_score: 6.379664:  67%|#########################3            | 2/3 [00:01<00:00,  1.14it/s]\u001b[32m[I 2021-06-20 17:58:13,112]\u001b[0m Trial 38 finished with value: 6.379663972446192 and parameters: {'feature_fraction': 0.41600000000000004}. Best is trial 38 with value: 6.379663972446192.\u001b[0m\n",
      "feature_fraction_stage2, val_score: 6.379664:  67%|#########################3            | 2/3 [00:01<00:00,  1.14it/s]"
     ]
    },
    {
     "name": "stdout",
     "output_type": "stream",
     "text": [
      "Training until validation scores don't improve for 100 rounds\n",
      "[100]\ttrain's rmse: 6.31965\teval's rmse: 7.07412\n",
      "[200]\ttrain's rmse: 5.73411\teval's rmse: 6.82452\n",
      "[300]\ttrain's rmse: 5.4035\teval's rmse: 6.69426\n",
      "[400]\ttrain's rmse: 5.14745\teval's rmse: 6.60721\n",
      "[500]\ttrain's rmse: 4.93583\teval's rmse: 6.53902\n",
      "[600]\ttrain's rmse: 4.75818\teval's rmse: 6.50617\n",
      "[700]\ttrain's rmse: 4.62066\teval's rmse: 6.44601\n",
      "[800]\ttrain's rmse: 4.50238\teval's rmse: 6.41266\n",
      "[900]\ttrain's rmse: 4.39243\teval's rmse: 6.39605\n",
      "[1000]\ttrain's rmse: 4.28846\teval's rmse: 6.40264\n",
      "Did not meet early stopping. Best iteration is:\n",
      "[1000]\ttrain's rmse: 4.28846\teval's rmse: 6.40264\n"
     ]
    },
    {
     "name": "stderr",
     "output_type": "stream",
     "text": [
      "feature_fraction_stage2, val_score: 6.379664: 100%|######################################| 3/3 [00:02<00:00,  1.09it/s]\u001b[32m[I 2021-06-20 17:58:14,082]\u001b[0m Trial 39 finished with value: 6.402636246113873 and parameters: {'feature_fraction': 0.44800000000000006}. Best is trial 38 with value: 6.379663972446192.\u001b[0m\n",
      "feature_fraction_stage2, val_score: 6.379664: 100%|######################################| 3/3 [00:02<00:00,  1.11it/s]\n",
      "regularization_factors, val_score: 6.379664:   0%|                                              | 0/20 [00:00<?, ?it/s]"
     ]
    },
    {
     "name": "stdout",
     "output_type": "stream",
     "text": [
      "Training until validation scores don't improve for 100 rounds\n",
      "[100]\ttrain's rmse: 6.46127\teval's rmse: 7.1486\n",
      "[200]\ttrain's rmse: 5.88082\teval's rmse: 6.8823\n",
      "[300]\ttrain's rmse: 5.53838\teval's rmse: 6.73991\n",
      "[400]\ttrain's rmse: 5.2771\teval's rmse: 6.6514\n",
      "[500]\ttrain's rmse: 5.07262\teval's rmse: 6.58545\n",
      "[600]\ttrain's rmse: 4.8992\teval's rmse: 6.54037\n",
      "[700]\ttrain's rmse: 4.76442\teval's rmse: 6.48112\n",
      "[800]\ttrain's rmse: 4.65438\teval's rmse: 6.45972\n",
      "[900]\ttrain's rmse: 4.55098\teval's rmse: 6.42649\n",
      "[1000]\ttrain's rmse: 4.45589\teval's rmse: 6.41848\n",
      "Did not meet early stopping. Best iteration is:\n",
      "[1000]\ttrain's rmse: 4.45589\teval's rmse: 6.41848\n"
     ]
    },
    {
     "name": "stderr",
     "output_type": "stream",
     "text": [
      "regularization_factors, val_score: 6.379664:   5%|#9                                    | 1/20 [00:01<00:20,  1.10s/it]\u001b[32m[I 2021-06-20 17:58:15,197]\u001b[0m Trial 40 finished with value: 6.41847747000624 and parameters: {'lambda_l1': 4.508259263279307e-06, 'lambda_l2': 3.772640092998392}. Best is trial 40 with value: 6.41847747000624.\u001b[0m\n",
      "regularization_factors, val_score: 6.379664:   5%|#9                                    | 1/20 [00:01<00:20,  1.10s/it]"
     ]
    },
    {
     "name": "stdout",
     "output_type": "stream",
     "text": [
      "Training until validation scores don't improve for 100 rounds\n",
      "[100]\ttrain's rmse: 6.39356\teval's rmse: 7.1127\n",
      "[200]\ttrain's rmse: 5.79412\teval's rmse: 6.83502\n",
      "[300]\ttrain's rmse: 5.46776\teval's rmse: 6.69614\n",
      "[400]\ttrain's rmse: 5.19627\teval's rmse: 6.59818\n",
      "[500]\ttrain's rmse: 4.98763\teval's rmse: 6.53889\n",
      "[600]\ttrain's rmse: 4.80509\teval's rmse: 6.49387\n",
      "[700]\ttrain's rmse: 4.66998\teval's rmse: 6.42297\n",
      "[800]\ttrain's rmse: 4.56201\teval's rmse: 6.40316\n",
      "[900]\ttrain's rmse: 4.45501\teval's rmse: 6.38201\n"
     ]
    },
    {
     "name": "stderr",
     "output_type": "stream",
     "text": [
      "regularization_factors, val_score: 6.379664:  10%|###8                                  | 2/20 [00:02<00:20,  1.16s/it]\u001b[32m[I 2021-06-20 17:58:16,391]\u001b[0m Trial 41 finished with value: 6.379663975510238 and parameters: {'lambda_l1': 2.5348652255387032e-06, 'lambda_l2': 1.4861801620037662e-07}. Best is trial 41 with value: 6.379663975510238.\u001b[0m\n",
      "regularization_factors, val_score: 6.379664:  10%|###8                                  | 2/20 [00:02<00:20,  1.16s/it]"
     ]
    },
    {
     "name": "stdout",
     "output_type": "stream",
     "text": [
      "[1000]\ttrain's rmse: 4.35904\teval's rmse: 6.37966\n",
      "Did not meet early stopping. Best iteration is:\n",
      "[1000]\ttrain's rmse: 4.35904\teval's rmse: 6.37966\n",
      "Training until validation scores don't improve for 100 rounds\n",
      "[100]\ttrain's rmse: 6.39962\teval's rmse: 7.11714\n",
      "[200]\ttrain's rmse: 5.81244\teval's rmse: 6.85316\n",
      "[300]\ttrain's rmse: 5.47055\teval's rmse: 6.73616\n",
      "[400]\ttrain's rmse: 5.21485\teval's rmse: 6.64904\n",
      "[500]\ttrain's rmse: 5.00111\teval's rmse: 6.56987\n",
      "[600]\ttrain's rmse: 4.81956\teval's rmse: 6.52226\n",
      "[700]\ttrain's rmse: 4.6841\teval's rmse: 6.46967\n",
      "[800]\ttrain's rmse: 4.5787\teval's rmse: 6.44498\n",
      "[900]\ttrain's rmse: 4.47692\teval's rmse: 6.42227"
     ]
    },
    {
     "name": "stderr",
     "output_type": "stream",
     "text": [
      "\r",
      "regularization_factors, val_score: 6.379664:  10%|###8                                  | 2/20 [00:03<00:20,  1.16s/it]"
     ]
    },
    {
     "name": "stdout",
     "output_type": "stream",
     "text": [
      "\n",
      "[1000]\ttrain's rmse: 4.38174\teval's rmse: 6.41614\n",
      "Did not meet early stopping. Best iteration is:\n",
      "[1000]\ttrain's rmse: 4.38174\teval's rmse: 6.41614\n"
     ]
    },
    {
     "name": "stderr",
     "output_type": "stream",
     "text": [
      "regularization_factors, val_score: 6.379664:  15%|#####7                                | 3/20 [00:03<00:18,  1.11s/it]\u001b[32m[I 2021-06-20 17:58:17,450]\u001b[0m Trial 42 finished with value: 6.416136592026647 and parameters: {'lambda_l1': 0.5057425840967963, 'lambda_l2': 0.05732090217391224}. Best is trial 41 with value: 6.379663975510238.\u001b[0m\n",
      "regularization_factors, val_score: 6.379664:  15%|#####7                                | 3/20 [00:03<00:18,  1.11s/it]"
     ]
    },
    {
     "name": "stdout",
     "output_type": "stream",
     "text": [
      "Training until validation scores don't improve for 100 rounds\n",
      "[100]\ttrain's rmse: 6.39356\teval's rmse: 7.1127\n",
      "[200]\ttrain's rmse: 5.79412\teval's rmse: 6.83502\n",
      "[300]\ttrain's rmse: 5.46776\teval's rmse: 6.69614\n",
      "[400]\ttrain's rmse: 5.19627\teval's rmse: 6.59818\n",
      "[500]\ttrain's rmse: 4.98763\teval's rmse: 6.53889\n",
      "[600]\ttrain's rmse: 4.80509\teval's rmse: 6.49387\n",
      "[700]\ttrain's rmse: 4.66998\teval's rmse: 6.42297\n",
      "[800]\ttrain's rmse: 4.56201\teval's rmse: 6.40316\n",
      "[900]\ttrain's rmse: 4.45501\teval's rmse: 6.38201\n",
      "[1000]\ttrain's rmse: 4.35904\teval's rmse: 6.37966\n",
      "Did not meet early stopping. Best iteration is:\n",
      "[1000]\ttrain's rmse: 4.35904\teval's rmse: 6.37966\n"
     ]
    },
    {
     "name": "stderr",
     "output_type": "stream",
     "text": [
      "regularization_factors, val_score: 6.379664:  20%|#######6                              | 4/20 [00:04<00:17,  1.07s/it]\u001b[32m[I 2021-06-20 17:58:18,444]\u001b[0m Trial 43 finished with value: 6.379663975237248 and parameters: {'lambda_l1': 1.3434864734570767e-08, 'lambda_l2': 2.4282299497973998e-06}. Best is trial 43 with value: 6.379663975237248.\u001b[0m\n",
      "regularization_factors, val_score: 6.379664:  20%|#######6                              | 4/20 [00:04<00:17,  1.07s/it]"
     ]
    },
    {
     "name": "stdout",
     "output_type": "stream",
     "text": [
      "Training until validation scores don't improve for 100 rounds\n",
      "[100]\ttrain's rmse: 6.39356\teval's rmse: 7.1127\n",
      "[200]\ttrain's rmse: 5.79412\teval's rmse: 6.83502\n",
      "[300]\ttrain's rmse: 5.46776\teval's rmse: 6.69614\n",
      "[400]\ttrain's rmse: 5.19627\teval's rmse: 6.59818\n",
      "[500]\ttrain's rmse: 4.98763\teval's rmse: 6.53889\n",
      "[600]\ttrain's rmse: 4.80509\teval's rmse: 6.49387\n",
      "[700]\ttrain's rmse: 4.66998\teval's rmse: 6.42297\n",
      "[800]\ttrain's rmse: 4.56201\teval's rmse: 6.40316\n",
      "[900]\ttrain's rmse: 4.45501\teval's rmse: 6.38201\n",
      "[1000]\ttrain's rmse: 4.35904\teval's rmse: 6.37966\n",
      "Did not meet early stopping. Best iteration is:\n",
      "[1000]\ttrain's rmse: 4.35904\teval's rmse: 6.37966\n"
     ]
    },
    {
     "name": "stderr",
     "output_type": "stream",
     "text": [
      "regularization_factors, val_score: 6.379664:  25%|#########5                            | 5/20 [00:05<00:15,  1.01s/it]\u001b[32m[I 2021-06-20 17:58:19,345]\u001b[0m Trial 44 finished with value: 6.379663973016574 and parameters: {'lambda_l1': 3.17070854373357e-08, 'lambda_l2': 4.066759944651789e-07}. Best is trial 44 with value: 6.379663973016574.\u001b[0m\n",
      "regularization_factors, val_score: 6.379664:  25%|#########5                            | 5/20 [00:05<00:15,  1.01s/it]"
     ]
    },
    {
     "name": "stdout",
     "output_type": "stream",
     "text": [
      "Training until validation scores don't improve for 100 rounds\n",
      "[100]\ttrain's rmse: 6.39356\teval's rmse: 7.1127\n",
      "[200]\ttrain's rmse: 5.79412\teval's rmse: 6.83502\n",
      "[300]\ttrain's rmse: 5.46892\teval's rmse: 6.69786\n",
      "[400]\ttrain's rmse: 5.20119\teval's rmse: 6.60406\n",
      "[500]\ttrain's rmse: 4.99554\teval's rmse: 6.54446\n",
      "[600]\ttrain's rmse: 4.81926\teval's rmse: 6.48418\n",
      "[700]\ttrain's rmse: 4.68445\teval's rmse: 6.43433\n",
      "[800]\ttrain's rmse: 4.57465\teval's rmse: 6.41606\n",
      "[900]\ttrain's rmse: 4.46935\teval's rmse: 6.39181\n"
     ]
    },
    {
     "name": "stderr",
     "output_type": "stream",
     "text": [
      "regularization_factors, val_score: 6.377966:  30%|###########4                          | 6/20 [00:06<00:15,  1.14s/it]\u001b[32m[I 2021-06-20 17:58:20,730]\u001b[0m Trial 45 finished with value: 6.377966130154223 and parameters: {'lambda_l1': 0.0004976027492367902, 'lambda_l2': 2.2848531716572846e-05}. Best is trial 45 with value: 6.377966130154223.\u001b[0m\n",
      "regularization_factors, val_score: 6.377966:  30%|###########4                          | 6/20 [00:06<00:15,  1.14s/it]"
     ]
    },
    {
     "name": "stdout",
     "output_type": "stream",
     "text": [
      "[1000]\ttrain's rmse: 4.37165\teval's rmse: 6.37797\n",
      "Did not meet early stopping. Best iteration is:\n",
      "[1000]\ttrain's rmse: 4.37165\teval's rmse: 6.37797\n",
      "Training until validation scores don't improve for 100 rounds\n",
      "[100]\ttrain's rmse: 6.39363\teval's rmse: 7.11272\n",
      "[200]\ttrain's rmse: 5.79419\teval's rmse: 6.83505\n",
      "[300]\ttrain's rmse: 5.46666\teval's rmse: 6.69988\n",
      "[400]\ttrain's rmse: 5.19949\teval's rmse: 6.60703\n",
      "[500]\ttrain's rmse: 4.98901\teval's rmse: 6.54287\n",
      "[600]\ttrain's rmse: 4.81143\teval's rmse: 6.50036\n",
      "[700]\ttrain's rmse: 4.6759\teval's rmse: 6.44871\n",
      "[800]\ttrain's rmse: 4.56729\teval's rmse: 6.4383\n",
      "[900]\ttrain's rmse: 4.46451\teval's rmse: 6.40777\n"
     ]
    },
    {
     "name": "stderr",
     "output_type": "stream",
     "text": [
      "regularization_factors, val_score: 6.377966:  35%|#############3                        | 7/20 [00:07<00:13,  1.07s/it]\u001b[32m[I 2021-06-20 17:58:21,656]\u001b[0m Trial 46 finished with value: 6.411016385488081 and parameters: {'lambda_l1': 0.0007809343310545449, 'lambda_l2': 0.0037848525618668105}. Best is trial 45 with value: 6.377966130154223.\u001b[0m\n",
      "regularization_factors, val_score: 6.377966:  35%|#############3                        | 7/20 [00:07<00:13,  1.07s/it]"
     ]
    },
    {
     "name": "stdout",
     "output_type": "stream",
     "text": [
      "[1000]\ttrain's rmse: 4.36814\teval's rmse: 6.41102\n",
      "Did not meet early stopping. Best iteration is:\n",
      "[1000]\ttrain's rmse: 4.36814\teval's rmse: 6.41102\n",
      "Training until validation scores don't improve for 100 rounds\n",
      "[100]\ttrain's rmse: 6.39375\teval's rmse: 7.11275\n",
      "[200]\ttrain's rmse: 5.79431\teval's rmse: 6.83509\n",
      "[300]\ttrain's rmse: 5.46914\teval's rmse: 6.69794\n",
      "[400]\ttrain's rmse: 5.20143\teval's rmse: 6.60413\n",
      "[500]\ttrain's rmse: 4.9958\teval's rmse: 6.54452\n",
      "[600]\ttrain's rmse: 4.82016\teval's rmse: 6.4873\n",
      "[700]\ttrain's rmse: 4.67725\teval's rmse: 6.43513\n",
      "[800]\ttrain's rmse: 4.56946\teval's rmse: 6.41568\n"
     ]
    },
    {
     "name": "stderr",
     "output_type": "stream",
     "text": [
      "\r",
      "regularization_factors, val_score: 6.377966:  35%|#############3                        | 7/20 [00:08<00:13,  1.07s/it]"
     ]
    },
    {
     "name": "stdout",
     "output_type": "stream",
     "text": [
      "[900]\ttrain's rmse: 4.46284\teval's rmse: 6.3884\n",
      "[1000]\ttrain's rmse: 4.36591\teval's rmse: 6.38844\n",
      "Did not meet early stopping. Best iteration is:\n",
      "[1000]\ttrain's rmse: 4.36591\teval's rmse: 6.38844\n"
     ]
    },
    {
     "name": "stderr",
     "output_type": "stream",
     "text": [
      "regularization_factors, val_score: 6.377966:  40%|###############2                      | 8/20 [00:08<00:11,  1.01it/s]\u001b[32m[I 2021-06-20 17:58:22,479]\u001b[0m Trial 47 finished with value: 6.388441277443624 and parameters: {'lambda_l1': 6.991155010995425e-05, 'lambda_l2': 0.011409974969380041}. Best is trial 45 with value: 6.377966130154223.\u001b[0m\n",
      "regularization_factors, val_score: 6.377966:  40%|###############2                      | 8/20 [00:08<00:11,  1.01it/s]"
     ]
    },
    {
     "name": "stdout",
     "output_type": "stream",
     "text": [
      "Training until validation scores don't improve for 100 rounds\n",
      "[100]\ttrain's rmse: 6.42667\teval's rmse: 7.12149\n",
      "[200]\ttrain's rmse: 5.83703\teval's rmse: 6.83386\n",
      "[300]\ttrain's rmse: 5.50082\teval's rmse: 6.71455\n",
      "[400]\ttrain's rmse: 5.23925\teval's rmse: 6.60513\n",
      "[500]\ttrain's rmse: 5.02823\teval's rmse: 6.54744\n",
      "[600]\ttrain's rmse: 4.85075\teval's rmse: 6.48066\n",
      "[700]\ttrain's rmse: 4.7173\teval's rmse: 6.42941\n",
      "[800]\ttrain's rmse: 4.6062\teval's rmse: 6.40534\n"
     ]
    },
    {
     "name": "stderr",
     "output_type": "stream",
     "text": [
      "\r",
      "regularization_factors, val_score: 6.377966:  40%|###############2                      | 8/20 [00:09<00:11,  1.01it/s]"
     ]
    },
    {
     "name": "stdout",
     "output_type": "stream",
     "text": [
      "[900]\ttrain's rmse: 4.50336\teval's rmse: 6.38189\n",
      "[1000]\ttrain's rmse: 4.40433\teval's rmse: 6.37841\n",
      "Did not meet early stopping. Best iteration is:\n",
      "[1000]\ttrain's rmse: 4.40433\teval's rmse: 6.37841\n"
     ]
    },
    {
     "name": "stderr",
     "output_type": "stream",
     "text": [
      "regularization_factors, val_score: 6.377966:  45%|#################1                    | 9/20 [00:09<00:10,  1.04it/s]\u001b[32m[I 2021-06-20 17:58:23,390]\u001b[0m Trial 48 finished with value: 6.378412620572013 and parameters: {'lambda_l1': 0.008016113701992013, 'lambda_l2': 1.4103765348184314}. Best is trial 45 with value: 6.377966130154223.\u001b[0m\n",
      "regularization_factors, val_score: 6.377966:  45%|#################1                    | 9/20 [00:09<00:10,  1.04it/s]"
     ]
    },
    {
     "name": "stdout",
     "output_type": "stream",
     "text": [
      "Training until validation scores don't improve for 100 rounds\n",
      "[100]\ttrain's rmse: 6.39356\teval's rmse: 7.1127\n",
      "[200]\ttrain's rmse: 5.79413\teval's rmse: 6.83503\n",
      "[300]\ttrain's rmse: 5.46659\teval's rmse: 6.69986\n",
      "[400]\ttrain's rmse: 5.19933\teval's rmse: 6.60441\n",
      "[500]\ttrain's rmse: 4.99234\teval's rmse: 6.53468\n",
      "[600]\ttrain's rmse: 4.81505\teval's rmse: 6.49189\n",
      "[700]\ttrain's rmse: 4.67732\teval's rmse: 6.43587\n",
      "[800]\ttrain's rmse: 4.56643\teval's rmse: 6.41091\n",
      "[900]\ttrain's rmse: 4.46188\teval's rmse: 6.39524\n"
     ]
    },
    {
     "name": "stderr",
     "output_type": "stream",
     "text": [
      "regularization_factors, val_score: 6.377966:  50%|##################5                  | 10/20 [00:10<00:09,  1.08it/s]\u001b[32m[I 2021-06-20 17:58:24,227]\u001b[0m Trial 49 finished with value: 6.385795779293687 and parameters: {'lambda_l1': 0.0013113618909033863, 'lambda_l2': 1.112346906759399e-06}. Best is trial 45 with value: 6.377966130154223.\u001b[0m\n",
      "regularization_factors, val_score: 6.377966:  50%|##################5                  | 10/20 [00:10<00:09,  1.08it/s]"
     ]
    },
    {
     "name": "stdout",
     "output_type": "stream",
     "text": [
      "[1000]\ttrain's rmse: 4.36365\teval's rmse: 6.3858\n",
      "Did not meet early stopping. Best iteration is:\n",
      "[1000]\ttrain's rmse: 4.36365\teval's rmse: 6.3858\n",
      "Training until validation scores don't improve for 100 rounds\n",
      "[100]\ttrain's rmse: 6.42603\teval's rmse: 7.13801\n",
      "[200]\ttrain's rmse: 5.87382\teval's rmse: 6.89264\n",
      "[300]\ttrain's rmse: 5.53836\teval's rmse: 6.77929\n",
      "[400]\ttrain's rmse: 5.29917\teval's rmse: 6.68031\n",
      "[500]\ttrain's rmse: 5.10663\teval's rmse: 6.61396\n",
      "[600]\ttrain's rmse: 4.93978\teval's rmse: 6.57091\n",
      "[700]\ttrain's rmse: 4.81328\teval's rmse: 6.52315\n",
      "[800]\ttrain's rmse: 4.71539\teval's rmse: 6.50068\n",
      "[900]\ttrain's rmse: 4.61937\teval's rmse: 6.47918\n",
      "[1000]\ttrain's rmse: 4.53269\teval's rmse: 6.45898\n",
      "Did not meet early stopping. Best iteration is:\n",
      "[1000]\ttrain's rmse: 4.53269\teval's rmse: 6.45898\n"
     ]
    },
    {
     "name": "stderr",
     "output_type": "stream",
     "text": [
      "regularization_factors, val_score: 6.377966:  55%|####################3                | 11/20 [00:10<00:08,  1.11it/s]\u001b[32m[I 2021-06-20 17:58:25,062]\u001b[0m Trial 50 finished with value: 6.45898414645784 and parameters: {'lambda_l1': 7.017516227611271, 'lambda_l2': 3.38031359214796e-05}. Best is trial 45 with value: 6.377966130154223.\u001b[0m\n",
      "regularization_factors, val_score: 6.377966:  55%|####################3                | 11/20 [00:10<00:08,  1.11it/s]"
     ]
    },
    {
     "name": "stdout",
     "output_type": "stream",
     "text": [
      "Training until validation scores don't improve for 100 rounds\n",
      "[100]\ttrain's rmse: 6.42303\teval's rmse: 7.11933\n",
      "[200]\ttrain's rmse: 5.8397\teval's rmse: 6.83284\n",
      "[300]\ttrain's rmse: 5.49541\teval's rmse: 6.69537\n",
      "[400]\ttrain's rmse: 5.23581\teval's rmse: 6.61624\n",
      "[500]\ttrain's rmse: 5.02611\teval's rmse: 6.55055\n",
      "[600]\ttrain's rmse: 4.85074\teval's rmse: 6.50624\n",
      "[700]\ttrain's rmse: 4.71918\teval's rmse: 6.46003\n",
      "[800]\ttrain's rmse: 4.60917\teval's rmse: 6.44043\n",
      "[900]\ttrain's rmse: 4.50219\teval's rmse: 6.41271\n",
      "[1000]\ttrain's rmse: 4.40407\teval's rmse: 6.40254\n",
      "Did not meet early stopping. Best iteration is:\n",
      "[1000]\ttrain's rmse: 4.40407\teval's rmse: 6.40254\n"
     ]
    },
    {
     "name": "stderr",
     "output_type": "stream",
     "text": [
      "regularization_factors, val_score: 6.377966:  60%|######################2              | 12/20 [00:11<00:07,  1.08it/s]\u001b[32m[I 2021-06-20 17:58:26,053]\u001b[0m Trial 51 finished with value: 6.40253867983995 and parameters: {'lambda_l1': 0.02139009092551555, 'lambda_l2': 1.4183586789808513}. Best is trial 45 with value: 6.377966130154223.\u001b[0m\n",
      "regularization_factors, val_score: 6.377966:  60%|######################2              | 12/20 [00:11<00:07,  1.08it/s]"
     ]
    },
    {
     "name": "stdout",
     "output_type": "stream",
     "text": [
      "Training until validation scores don't improve for 100 rounds\n",
      "[100]\ttrain's rmse: 6.38843\teval's rmse: 7.0984\n",
      "[200]\ttrain's rmse: 5.8014\teval's rmse: 6.84145\n",
      "[300]\ttrain's rmse: 5.46656\teval's rmse: 6.71398\n",
      "[400]\ttrain's rmse: 5.20547\teval's rmse: 6.6211\n",
      "[500]\ttrain's rmse: 5.00299\teval's rmse: 6.57005\n",
      "[600]\ttrain's rmse: 4.825\teval's rmse: 6.51891\n",
      "[700]\ttrain's rmse: 4.68489\teval's rmse: 6.46575\n",
      "[800]\ttrain's rmse: 4.57241\teval's rmse: 6.42586\n",
      "[900]\ttrain's rmse: 4.46735\teval's rmse: 6.40121\n"
     ]
    },
    {
     "name": "stderr",
     "output_type": "stream",
     "text": [
      "\r",
      "regularization_factors, val_score: 6.377966:  60%|######################2              | 12/20 [00:13<00:07,  1.08it/s]"
     ]
    },
    {
     "name": "stdout",
     "output_type": "stream",
     "text": [
      "[1000]\ttrain's rmse: 4.36788\teval's rmse: 6.3932\n",
      "Did not meet early stopping. Best iteration is:\n",
      "[1000]\ttrain's rmse: 4.36788\teval's rmse: 6.3932\n"
     ]
    },
    {
     "name": "stderr",
     "output_type": "stream",
     "text": [
      "regularization_factors, val_score: 6.377966:  65%|########################             | 13/20 [00:13<00:07,  1.01s/it]\u001b[32m[I 2021-06-20 17:58:27,260]\u001b[0m Trial 52 finished with value: 6.393201363653866 and parameters: {'lambda_l1': 0.03759300634588349, 'lambda_l2': 0.0002006532443023242}. Best is trial 45 with value: 6.377966130154223.\u001b[0m\n",
      "regularization_factors, val_score: 6.377966:  65%|########################             | 13/20 [00:13<00:07,  1.01s/it]"
     ]
    },
    {
     "name": "stdout",
     "output_type": "stream",
     "text": [
      "Training until validation scores don't improve for 100 rounds\n",
      "[100]\ttrain's rmse: 6.38794\teval's rmse: 7.1003\n",
      "[200]\ttrain's rmse: 5.79763\teval's rmse: 6.81539\n",
      "[300]\ttrain's rmse: 5.45735\teval's rmse: 6.70418\n",
      "[400]\ttrain's rmse: 5.19057\teval's rmse: 6.60121\n",
      "[500]\ttrain's rmse: 4.98765\teval's rmse: 6.54182\n",
      "[600]\ttrain's rmse: 4.81651\teval's rmse: 6.50942\n",
      "[700]\ttrain's rmse: 4.67848\teval's rmse: 6.44906\n",
      "[800]\ttrain's rmse: 4.57111\teval's rmse: 6.4346\n",
      "[900]\ttrain's rmse: 4.4667\teval's rmse: 6.41869\n",
      "[1000]\ttrain's rmse: 4.36813\teval's rmse: 6.40724\n",
      "Did not meet early stopping. Best iteration is:\n",
      "[1000]\ttrain's rmse: 4.36813\teval's rmse: 6.40724\n"
     ]
    },
    {
     "name": "stderr",
     "output_type": "stream",
     "text": [
      "regularization_factors, val_score: 6.377966:  70%|#########################9           | 14/20 [00:14<00:06,  1.00s/it]\u001b[32m[I 2021-06-20 17:58:28,240]\u001b[0m Trial 53 finished with value: 6.407239383955501 and parameters: {'lambda_l1': 0.01407970663438132, 'lambda_l2': 3.155699364503229e-05}. Best is trial 45 with value: 6.377966130154223.\u001b[0m\n",
      "regularization_factors, val_score: 6.377966:  70%|#########################9           | 14/20 [00:14<00:06,  1.00s/it]"
     ]
    },
    {
     "name": "stdout",
     "output_type": "stream",
     "text": [
      "Training until validation scores don't improve for 100 rounds\n",
      "[100]\ttrain's rmse: 6.38967\teval's rmse: 7.10542\n",
      "[200]\ttrain's rmse: 5.79387\teval's rmse: 6.83007\n",
      "[300]\ttrain's rmse: 5.45522\teval's rmse: 6.70569\n",
      "[400]\ttrain's rmse: 5.19579\teval's rmse: 6.61952\n",
      "[500]\ttrain's rmse: 4.9834\teval's rmse: 6.56282\n",
      "[600]\ttrain's rmse: 4.81309\teval's rmse: 6.51872\n",
      "[700]\ttrain's rmse: 4.67997\teval's rmse: 6.46101\n",
      "[800]\ttrain's rmse: 4.57\teval's rmse: 6.43819\n",
      "[900]\ttrain's rmse: 4.46542\teval's rmse: 6.42149\n",
      "[1000]\ttrain's rmse: 4.36709\teval's rmse: 6.41918\n",
      "Did not meet early stopping. Best iteration is:\n",
      "[1000]\ttrain's rmse: 4.36709\teval's rmse: 6.41918\n"
     ]
    },
    {
     "name": "stderr",
     "output_type": "stream",
     "text": [
      "regularization_factors, val_score: 6.377966:  75%|###########################7         | 15/20 [00:14<00:04,  1.05it/s]\u001b[32m[I 2021-06-20 17:58:29,087]\u001b[0m Trial 54 finished with value: 6.419180862724495 and parameters: {'lambda_l1': 5.015132634226233e-05, 'lambda_l2': 0.2649216842996687}. Best is trial 45 with value: 6.377966130154223.\u001b[0m\n",
      "regularization_factors, val_score: 6.377966:  75%|###########################7         | 15/20 [00:15<00:04,  1.05it/s]"
     ]
    },
    {
     "name": "stdout",
     "output_type": "stream",
     "text": [
      "Training until validation scores don't improve for 100 rounds\n",
      "[100]\ttrain's rmse: 6.39643\teval's rmse: 7.10703\n",
      "[200]\ttrain's rmse: 5.80442\teval's rmse: 6.81596\n",
      "[300]\ttrain's rmse: 5.47273\teval's rmse: 6.69993\n",
      "[400]\ttrain's rmse: 5.21241\teval's rmse: 6.62795\n",
      "[500]\ttrain's rmse: 5.00591\teval's rmse: 6.5634\n",
      "[600]\ttrain's rmse: 4.82506\teval's rmse: 6.51411\n",
      "[700]\ttrain's rmse: 4.68951\teval's rmse: 6.46464\n",
      "[800]\ttrain's rmse: 4.58643\teval's rmse: 6.44156\n",
      "[900]\ttrain's rmse: 4.48195\teval's rmse: 6.42039\n",
      "[1000]\ttrain's rmse: 4.38587\teval's rmse: 6.41249\n",
      "Did not meet early stopping. Best iteration is:\n",
      "[1000]\ttrain's rmse: 4.38587\teval's rmse: 6.41249\n"
     ]
    },
    {
     "name": "stderr",
     "output_type": "stream",
     "text": [
      "regularization_factors, val_score: 6.377966:  80%|#############################6       | 16/20 [00:15<00:03,  1.05it/s]\u001b[32m[I 2021-06-20 17:58:30,032]\u001b[0m Trial 55 finished with value: 6.412488100099818 and parameters: {'lambda_l1': 0.3991782569706715, 'lambda_l2': 0.0010950841043296587}. Best is trial 45 with value: 6.377966130154223.\u001b[0m\n",
      "regularization_factors, val_score: 6.377966:  80%|#############################6       | 16/20 [00:15<00:03,  1.05it/s]"
     ]
    },
    {
     "name": "stdout",
     "output_type": "stream",
     "text": [
      "Training until validation scores don't improve for 100 rounds\n",
      "[100]\ttrain's rmse: 6.39357\teval's rmse: 7.1127\n",
      "[200]\ttrain's rmse: 5.79377\teval's rmse: 6.83448\n",
      "[300]\ttrain's rmse: 5.46468\teval's rmse: 6.71741\n",
      "[400]\ttrain's rmse: 5.19276\teval's rmse: 6.61505\n",
      "[500]\ttrain's rmse: 4.98538\teval's rmse: 6.54889\n",
      "[600]\ttrain's rmse: 4.80475\teval's rmse: 6.49832\n",
      "[700]\ttrain's rmse: 4.6702\teval's rmse: 6.43055\n",
      "[800]\ttrain's rmse: 4.56302\teval's rmse: 6.41417\n",
      "[900]\ttrain's rmse: 4.46021\teval's rmse: 6.39488\n",
      "[1000]\ttrain's rmse: 4.36207\teval's rmse: 6.3867\n",
      "Did not meet early stopping. Best iteration is:\n",
      "[1000]\ttrain's rmse: 4.36207\teval's rmse: 6.3867\n"
     ]
    },
    {
     "name": "stderr",
     "output_type": "stream",
     "text": [
      "regularization_factors, val_score: 6.377966:  85%|###############################4     | 17/20 [00:16<00:02,  1.09it/s]\u001b[32m[I 2021-06-20 17:58:30,878]\u001b[0m Trial 56 finished with value: 6.3867012010061694 and parameters: {'lambda_l1': 0.0026434274503981106, 'lambda_l2': 1.0059444701063478e-08}. Best is trial 45 with value: 6.377966130154223.\u001b[0m\n",
      "regularization_factors, val_score: 6.377966:  85%|###############################4     | 17/20 [00:16<00:02,  1.09it/s]"
     ]
    },
    {
     "name": "stdout",
     "output_type": "stream",
     "text": [
      "Training until validation scores don't improve for 100 rounds\n",
      "[100]\ttrain's rmse: 6.39356\teval's rmse: 7.1127\n",
      "[200]\ttrain's rmse: 5.79412\teval's rmse: 6.83502\n",
      "[300]\ttrain's rmse: 5.46776\teval's rmse: 6.69614\n",
      "[400]\ttrain's rmse: 5.19627\teval's rmse: 6.59818\n",
      "[500]\ttrain's rmse: 4.98763\teval's rmse: 6.53889\n",
      "[600]\ttrain's rmse: 4.8051\teval's rmse: 6.49387\n",
      "[700]\ttrain's rmse: 4.66998\teval's rmse: 6.42297\n",
      "[800]\ttrain's rmse: 4.56202\teval's rmse: 6.40316\n",
      "[900]\ttrain's rmse: 4.45635\teval's rmse: 6.38145\n",
      "[1000]\ttrain's rmse: 4.36274\teval's rmse: 6.38167\n",
      "Did not meet early stopping. Best iteration is:\n",
      "[1000]\ttrain's rmse: 4.36274\teval's rmse: 6.38167\n"
     ]
    },
    {
     "name": "stderr",
     "output_type": "stream",
     "text": [
      "regularization_factors, val_score: 6.377966:  90%|#################################3   | 18/20 [00:17<00:01,  1.11it/s]\u001b[32m[I 2021-06-20 17:58:31,732]\u001b[0m Trial 57 finished with value: 6.381667832943336 and parameters: {'lambda_l1': 5.908344450641058e-06, 'lambda_l2': 3.081094891759507e-05}. Best is trial 45 with value: 6.377966130154223.\u001b[0m\n",
      "regularization_factors, val_score: 6.377966:  90%|#################################3   | 18/20 [00:17<00:01,  1.11it/s]"
     ]
    },
    {
     "name": "stdout",
     "output_type": "stream",
     "text": [
      "Training until validation scores don't improve for 100 rounds\n",
      "[100]\ttrain's rmse: 6.39356\teval's rmse: 7.1127\n",
      "[200]\ttrain's rmse: 5.79412\teval's rmse: 6.83503\n",
      "[300]\ttrain's rmse: 5.46892\teval's rmse: 6.69786\n",
      "[400]\ttrain's rmse: 5.20097\teval's rmse: 6.60476\n",
      "[500]\ttrain's rmse: 4.99265\teval's rmse: 6.54265\n",
      "[600]\ttrain's rmse: 4.81427\teval's rmse: 6.49673\n",
      "[700]\ttrain's rmse: 4.67753\teval's rmse: 6.45164\n",
      "[800]\ttrain's rmse: 4.56715\teval's rmse: 6.43044\n",
      "[900]\ttrain's rmse: 4.4626\teval's rmse: 6.40728\n",
      "[1000]\ttrain's rmse: 4.36537\teval's rmse: 6.40007\n",
      "Did not meet early stopping. Best iteration is:\n",
      "[1000]\ttrain's rmse: 4.36537\teval's rmse: 6.40007\n"
     ]
    },
    {
     "name": "stderr",
     "output_type": "stream",
     "text": [
      "regularization_factors, val_score: 6.377966:  95%|###################################1 | 19/20 [00:18<00:00,  1.10it/s]\u001b[32m[I 2021-06-20 17:58:32,668]\u001b[0m Trial 58 finished with value: 6.400065450661035 and parameters: {'lambda_l1': 0.0001114835624394386, 'lambda_l2': 0.00024970373281341107}. Best is trial 45 with value: 6.377966130154223.\u001b[0m\n",
      "regularization_factors, val_score: 6.377966:  95%|###################################1 | 19/20 [00:18<00:00,  1.10it/s]"
     ]
    },
    {
     "name": "stdout",
     "output_type": "stream",
     "text": [
      "Training until validation scores don't improve for 100 rounds\n",
      "[100]\ttrain's rmse: 6.39356\teval's rmse: 7.1127\n",
      "[200]\ttrain's rmse: 5.79412\teval's rmse: 6.83502\n",
      "[300]\ttrain's rmse: 5.46776\teval's rmse: 6.69614\n",
      "[400]\ttrain's rmse: 5.19627\teval's rmse: 6.59818\n",
      "[500]\ttrain's rmse: 4.98763\teval's rmse: 6.53889\n",
      "[600]\ttrain's rmse: 4.80509\teval's rmse: 6.49387\n",
      "[700]\ttrain's rmse: 4.66998\teval's rmse: 6.42297\n",
      "[800]\ttrain's rmse: 4.56201\teval's rmse: 6.40316\n",
      "[900]\ttrain's rmse: 4.45501\teval's rmse: 6.38201\n"
     ]
    },
    {
     "name": "stderr",
     "output_type": "stream",
     "text": [
      "\r",
      "regularization_factors, val_score: 6.377966:  95%|###################################1 | 19/20 [00:20<00:00,  1.10it/s]"
     ]
    },
    {
     "name": "stdout",
     "output_type": "stream",
     "text": [
      "[1000]\ttrain's rmse: 4.35904\teval's rmse: 6.37966\n",
      "Did not meet early stopping. Best iteration is:\n",
      "[1000]\ttrain's rmse: 4.35904\teval's rmse: 6.37966\n"
     ]
    },
    {
     "name": "stderr",
     "output_type": "stream",
     "text": [
      "regularization_factors, val_score: 6.377966: 100%|#####################################| 20/20 [00:20<00:00,  1.11s/it]\u001b[32m[I 2021-06-20 17:58:34,265]\u001b[0m Trial 59 finished with value: 6.3796639729342495 and parameters: {'lambda_l1': 2.6930319492411935e-07, 'lambda_l2': 4.32423538691384e-08}. Best is trial 45 with value: 6.377966130154223.\u001b[0m\n",
      "regularization_factors, val_score: 6.377966: 100%|#####################################| 20/20 [00:20<00:00,  1.01s/it]\n",
      "min_data_in_leaf, val_score: 6.377966:   0%|                                                     | 0/5 [00:00<?, ?it/s]"
     ]
    },
    {
     "name": "stdout",
     "output_type": "stream",
     "text": [
      "Training until validation scores don't improve for 100 rounds\n",
      "[100]\ttrain's rmse: 6.30118\teval's rmse: 7.1311\n",
      "[200]\ttrain's rmse: 5.65102\teval's rmse: 6.8551\n",
      "[300]\ttrain's rmse: 5.28667\teval's rmse: 6.74067\n",
      "[400]\ttrain's rmse: 4.99745\teval's rmse: 6.66548\n",
      "[500]\ttrain's rmse: 4.76965\teval's rmse: 6.58981\n",
      "[600]\ttrain's rmse: 4.56492\teval's rmse: 6.54385\n",
      "[700]\ttrain's rmse: 4.4091\teval's rmse: 6.51909\n",
      "[800]\ttrain's rmse: 4.28509\teval's rmse: 6.49152\n",
      "[900]\ttrain's rmse: 4.15926\teval's rmse: 6.45963\n"
     ]
    },
    {
     "name": "stderr",
     "output_type": "stream",
     "text": [
      "\r",
      "min_data_in_leaf, val_score: 6.377966:   0%|                                                     | 0/5 [00:01<?, ?it/s]"
     ]
    },
    {
     "name": "stdout",
     "output_type": "stream",
     "text": [
      "[1000]\ttrain's rmse: 4.0449\teval's rmse: 6.45938\n",
      "Did not meet early stopping. Best iteration is:\n",
      "[1000]\ttrain's rmse: 4.0449\teval's rmse: 6.45938\n"
     ]
    },
    {
     "name": "stderr",
     "output_type": "stream",
     "text": [
      "min_data_in_leaf, val_score: 6.377966:  20%|#########                                    | 1/5 [00:01<00:04,  1.24s/it]\u001b[32m[I 2021-06-20 17:58:35,516]\u001b[0m Trial 60 finished with value: 6.459377515141874 and parameters: {'min_child_samples': 10}. Best is trial 60 with value: 6.459377515141874.\u001b[0m\n",
      "min_data_in_leaf, val_score: 6.377966:  20%|#########                                    | 1/5 [00:01<00:04,  1.24s/it]"
     ]
    },
    {
     "name": "stdout",
     "output_type": "stream",
     "text": [
      "Training until validation scores don't improve for 100 rounds\n",
      "[100]\ttrain's rmse: 6.87302\teval's rmse: 7.43625\n",
      "[200]\ttrain's rmse: 6.32526\teval's rmse: 7.19313\n",
      "[300]\ttrain's rmse: 6.00646\teval's rmse: 7.05911\n",
      "[400]\ttrain's rmse: 5.77047\teval's rmse: 6.99655\n",
      "[500]\ttrain's rmse: 5.55957\teval's rmse: 6.90982\n",
      "[600]\ttrain's rmse: 5.39776\teval's rmse: 6.87742\n",
      "[700]\ttrain's rmse: 5.2579\teval's rmse: 6.8381\n",
      "[800]\ttrain's rmse: 5.14092\teval's rmse: 6.80658\n",
      "[900]\ttrain's rmse: 5.04461\teval's rmse: 6.79347\n"
     ]
    },
    {
     "name": "stderr",
     "output_type": "stream",
     "text": [
      "\r",
      "min_data_in_leaf, val_score: 6.377966:  20%|#########                                    | 1/5 [00:02<00:04,  1.24s/it]"
     ]
    },
    {
     "name": "stdout",
     "output_type": "stream",
     "text": [
      "[1000]\ttrain's rmse: 4.95113\teval's rmse: 6.77094\n",
      "Did not meet early stopping. Best iteration is:\n",
      "[1000]\ttrain's rmse: 4.95113\teval's rmse: 6.77094\n"
     ]
    },
    {
     "name": "stderr",
     "output_type": "stream",
     "text": [
      "min_data_in_leaf, val_score: 6.377966:  40%|##################                           | 2/5 [00:02<00:03,  1.24s/it]\u001b[32m[I 2021-06-20 17:58:36,746]\u001b[0m Trial 61 finished with value: 6.770936523922357 and parameters: {'min_child_samples': 50}. Best is trial 60 with value: 6.459377515141874.\u001b[0m\n",
      "min_data_in_leaf, val_score: 6.377966:  40%|##################                           | 2/5 [00:02<00:03,  1.24s/it]"
     ]
    },
    {
     "name": "stdout",
     "output_type": "stream",
     "text": [
      "Training until validation scores don't improve for 100 rounds\n",
      "[100]\ttrain's rmse: 7.41313\teval's rmse: 7.90425\n",
      "[200]\ttrain's rmse: 6.96574\teval's rmse: 7.82415\n",
      "[300]\ttrain's rmse: 6.71299\teval's rmse: 7.73612\n",
      "[400]\ttrain's rmse: 6.53325\teval's rmse: 7.68659\n",
      "[500]\ttrain's rmse: 6.39072\teval's rmse: 7.63274\n",
      "[600]\ttrain's rmse: 6.26063\teval's rmse: 7.60402\n",
      "[700]\ttrain's rmse: 6.14844\teval's rmse: 7.58305\n",
      "[800]\ttrain's rmse: 6.05842\teval's rmse: 7.55584\n",
      "[900]\ttrain's rmse: 5.97259\teval's rmse: 7.53758"
     ]
    },
    {
     "name": "stderr",
     "output_type": "stream",
     "text": [
      "min_data_in_leaf, val_score: 6.377966:  60%|###########################                  | 3/5 [00:03<00:02,  1.09s/it]\u001b[32m[I 2021-06-20 17:58:37,661]\u001b[0m Trial 62 finished with value: 7.5186165454200395 and parameters: {'min_child_samples': 100}. Best is trial 60 with value: 6.459377515141874.\u001b[0m\n"
     ]
    },
    {
     "name": "stdout",
     "output_type": "stream",
     "text": [
      "\n",
      "[1000]\ttrain's rmse: 5.89526\teval's rmse: 7.51862\n",
      "Did not meet early stopping. Best iteration is:\n",
      "[1000]\ttrain's rmse: 5.89526\teval's rmse: 7.51862\n"
     ]
    },
    {
     "name": "stderr",
     "output_type": "stream",
     "text": [
      "\r",
      "min_data_in_leaf, val_score: 6.377966:  60%|###########################                  | 3/5 [00:03<00:02,  1.09s/it]"
     ]
    },
    {
     "name": "stdout",
     "output_type": "stream",
     "text": [
      "Training until validation scores don't improve for 100 rounds\n",
      "[100]\ttrain's rmse: 6.51442\teval's rmse: 7.21378\n",
      "[200]\ttrain's rmse: 5.92513\teval's rmse: 6.94632\n",
      "[300]\ttrain's rmse: 5.60485\teval's rmse: 6.82478\n",
      "[400]\ttrain's rmse: 5.34696\teval's rmse: 6.71556\n",
      "[500]\ttrain's rmse: 5.15028\teval's rmse: 6.6496\n",
      "[600]\ttrain's rmse: 4.97952\teval's rmse: 6.60902\n",
      "[700]\ttrain's rmse: 4.84251\teval's rmse: 6.55731\n",
      "[800]\ttrain's rmse: 4.7375\teval's rmse: 6.52531\n",
      "[900]\ttrain's rmse: 4.6387\teval's rmse: 6.50271\n",
      "[1000]\ttrain's rmse: 4.54175\teval's rmse: 6.49476\n",
      "Did not meet early stopping. Best iteration is:\n",
      "[1000]\ttrain's rmse: 4.54175\teval's rmse: 6.49476\n"
     ]
    },
    {
     "name": "stderr",
     "output_type": "stream",
     "text": [
      "min_data_in_leaf, val_score: 6.377966:  80%|####################################         | 4/5 [00:05<00:01,  1.31s/it]\u001b[32m[I 2021-06-20 17:58:39,322]\u001b[0m Trial 63 finished with value: 6.494757258293211 and parameters: {'min_child_samples': 25}. Best is trial 60 with value: 6.459377515141874.\u001b[0m\n",
      "min_data_in_leaf, val_score: 6.377966:  80%|####################################         | 4/5 [00:05<00:01,  1.31s/it]"
     ]
    },
    {
     "name": "stdout",
     "output_type": "stream",
     "text": [
      "Training until validation scores don't improve for 100 rounds\n",
      "[100]\ttrain's rmse: 6.25596\teval's rmse: 7.17713\n",
      "[200]\ttrain's rmse: 5.57219\teval's rmse: 6.88759\n",
      "[300]\ttrain's rmse: 5.17131\teval's rmse: 6.78652\n",
      "[400]\ttrain's rmse: 4.84999\teval's rmse: 6.70756\n",
      "[500]\ttrain's rmse: 4.6058\teval's rmse: 6.63047\n",
      "[600]\ttrain's rmse: 4.37481\teval's rmse: 6.55995\n",
      "[700]\ttrain's rmse: 4.19917\teval's rmse: 6.52739\n",
      "[800]\ttrain's rmse: 4.06041\teval's rmse: 6.49131\n",
      "[900]\ttrain's rmse: 3.92121\teval's rmse: 6.46326\n"
     ]
    },
    {
     "name": "stderr",
     "output_type": "stream",
     "text": [
      "min_data_in_leaf, val_score: 6.377966: 100%|#############################################| 5/5 [00:06<00:00,  1.37s/it]\u001b[32m[I 2021-06-20 17:58:40,799]\u001b[0m Trial 64 finished with value: 6.448085471551755 and parameters: {'min_child_samples': 5}. Best is trial 64 with value: 6.448085471551755.\u001b[0m\n",
      "min_data_in_leaf, val_score: 6.377966: 100%|#############################################| 5/5 [00:06<00:00,  1.31s/it]\n",
      "\u001b[32m[I 2021-06-20 17:58:40,871]\u001b[0m A new study created in memory with name: no-name-b9802e28-650a-499f-85b2-96595c1dd1cb\u001b[0m\n"
     ]
    },
    {
     "name": "stdout",
     "output_type": "stream",
     "text": [
      "[1000]\ttrain's rmse: 3.79369\teval's rmse: 6.44809\n",
      "Did not meet early stopping. Best iteration is:\n",
      "[1000]\ttrain's rmse: 3.79369\teval's rmse: 6.44809\n"
     ]
    },
    {
     "name": "stderr",
     "output_type": "stream",
     "text": [
      "feature_fraction, val_score: inf:   0%|                                                          | 0/7 [00:00<?, ?it/s]"
     ]
    },
    {
     "name": "stdout",
     "output_type": "stream",
     "text": [
      "Training until validation scores don't improve for 100 rounds\n",
      "[100]\ttrain's rmse: 5.51169\teval's rmse: 6.34455\n",
      "[200]\ttrain's rmse: 4.59614\teval's rmse: 6.13988\n",
      "[300]\ttrain's rmse: 4.07514\teval's rmse: 6.15592\n",
      "Early stopping, best iteration is:\n",
      "[254]\ttrain's rmse: 4.30107\teval's rmse: 6.13194\n"
     ]
    },
    {
     "name": "stderr",
     "output_type": "stream",
     "text": [
      "feature_fraction, val_score: 6.131943:  14%|######4                                      | 1/7 [00:00<00:03,  1.82it/s]\u001b[32m[I 2021-06-20 17:58:41,420]\u001b[0m Trial 0 finished with value: 6.1319433836555675 and parameters: {'feature_fraction': 0.8}. Best is trial 0 with value: 6.1319433836555675.\u001b[0m\n",
      "feature_fraction, val_score: 6.131943:  14%|######4                                      | 1/7 [00:00<00:03,  1.82it/s]"
     ]
    },
    {
     "name": "stdout",
     "output_type": "stream",
     "text": [
      "Training until validation scores don't improve for 100 rounds\n",
      "[100]\ttrain's rmse: 5.52308\teval's rmse: 6.33079\n",
      "[200]\ttrain's rmse: 4.56569\teval's rmse: 6.12199\n",
      "[300]\ttrain's rmse: 4.02586\teval's rmse: 6.09854\n"
     ]
    },
    {
     "name": "stderr",
     "output_type": "stream",
     "text": [
      "feature_fraction, val_score: 6.090067:  29%|############8                                | 2/7 [00:01<00:02,  1.70it/s]\u001b[32m[I 2021-06-20 17:58:42,050]\u001b[0m Trial 1 finished with value: 6.090067474861563 and parameters: {'feature_fraction': 0.8999999999999999}. Best is trial 1 with value: 6.090067474861563.\u001b[0m\n",
      "feature_fraction, val_score: 6.090067:  29%|############8                                | 2/7 [00:01<00:02,  1.70it/s]"
     ]
    },
    {
     "name": "stdout",
     "output_type": "stream",
     "text": [
      "Early stopping, best iteration is:\n",
      "[290]\ttrain's rmse: 4.07131\teval's rmse: 6.09007\n",
      "Training until validation scores don't improve for 100 rounds\n",
      "[100]\ttrain's rmse: 5.5018\teval's rmse: 6.29326\n",
      "[200]\ttrain's rmse: 4.54158\teval's rmse: 6.14973\n",
      "[300]\ttrain's rmse: 3.98189\teval's rmse: 6.08829\n",
      "[400]\ttrain's rmse: 3.58648\teval's rmse: 6.09135\n"
     ]
    },
    {
     "name": "stderr",
     "output_type": "stream",
     "text": [
      "feature_fraction, val_score: 6.072653:  43%|###################2                         | 3/7 [00:02<00:02,  1.41it/s]\u001b[32m[I 2021-06-20 17:58:42,890]\u001b[0m Trial 2 finished with value: 6.0726528211597195 and parameters: {'feature_fraction': 1.0}. Best is trial 2 with value: 6.0726528211597195.\u001b[0m\n",
      "feature_fraction, val_score: 6.072653:  43%|###################2                         | 3/7 [00:02<00:02,  1.41it/s]"
     ]
    },
    {
     "name": "stdout",
     "output_type": "stream",
     "text": [
      "Early stopping, best iteration is:\n",
      "[377]\ttrain's rmse: 3.66215\teval's rmse: 6.07265\n",
      "Training until validation scores don't improve for 100 rounds\n",
      "[100]\ttrain's rmse: 5.59806\teval's rmse: 6.2805\n",
      "[200]\ttrain's rmse: 4.69059\teval's rmse: 6.04343\n"
     ]
    },
    {
     "name": "stderr",
     "output_type": "stream",
     "text": [
      "feature_fraction, val_score: 6.015977:  57%|#########################7                   | 4/7 [00:02<00:02,  1.35it/s]\u001b[32m[I 2021-06-20 17:58:43,682]\u001b[0m Trial 3 finished with value: 6.015977183191399 and parameters: {'feature_fraction': 0.7}. Best is trial 3 with value: 6.015977183191399.\u001b[0m\n",
      "feature_fraction, val_score: 6.015977:  57%|#########################7                   | 4/7 [00:02<00:02,  1.35it/s]"
     ]
    },
    {
     "name": "stdout",
     "output_type": "stream",
     "text": [
      "[300]\ttrain's rmse: 4.17049\teval's rmse: 6.06173\n",
      "Early stopping, best iteration is:\n",
      "[217]\ttrain's rmse: 4.58519\teval's rmse: 6.01598\n",
      "Training until validation scores don't improve for 100 rounds\n",
      "[100]\ttrain's rmse: 5.8282\teval's rmse: 6.37381\n",
      "[200]\ttrain's rmse: 4.93334\teval's rmse: 6.08967\n",
      "[300]\ttrain's rmse: 4.43128\teval's rmse: 6.06147\n",
      "[400]\ttrain's rmse: 4.07553\teval's rmse: 6.07651\n",
      "Early stopping, best iteration is:\n",
      "[345]\ttrain's rmse: 4.2628\teval's rmse: 6.05058\n"
     ]
    },
    {
     "name": "stderr",
     "output_type": "stream",
     "text": [
      "feature_fraction, val_score: 6.015977:  71%|################################1            | 5/7 [00:03<00:01,  1.11it/s]\u001b[32m[I 2021-06-20 17:58:44,877]\u001b[0m Trial 4 finished with value: 6.050577861310842 and parameters: {'feature_fraction': 0.5}. Best is trial 3 with value: 6.015977183191399.\u001b[0m\n",
      "feature_fraction, val_score: 6.015977:  71%|################################1            | 5/7 [00:04<00:01,  1.11it/s]"
     ]
    },
    {
     "name": "stdout",
     "output_type": "stream",
     "text": [
      "Training until validation scores don't improve for 100 rounds\n",
      "[100]\ttrain's rmse: 6.07988\teval's rmse: 6.59962\n",
      "[200]\ttrain's rmse: 5.22957\teval's rmse: 6.1892\n",
      "[300]\ttrain's rmse: 4.73529\teval's rmse: 6.12576\n"
     ]
    },
    {
     "name": "stderr",
     "output_type": "stream",
     "text": [
      "feature_fraction, val_score: 6.015977:  86%|######################################5      | 6/7 [00:05<00:00,  1.04it/s]\u001b[32m[I 2021-06-20 17:58:45,954]\u001b[0m Trial 5 finished with value: 6.121731350096756 and parameters: {'feature_fraction': 0.4}. Best is trial 3 with value: 6.015977183191399.\u001b[0m\n",
      "feature_fraction, val_score: 6.015977:  86%|######################################5      | 6/7 [00:05<00:00,  1.04it/s]"
     ]
    },
    {
     "name": "stdout",
     "output_type": "stream",
     "text": [
      "[400]\ttrain's rmse: 4.39228\teval's rmse: 6.13804\n",
      "Early stopping, best iteration is:\n",
      "[312]\ttrain's rmse: 4.68542\teval's rmse: 6.12173\n",
      "Training until validation scores don't improve for 100 rounds\n",
      "[100]\ttrain's rmse: 5.70517\teval's rmse: 6.31322\n",
      "[200]\ttrain's rmse: 4.79399\teval's rmse: 6.02708\n"
     ]
    },
    {
     "name": "stderr",
     "output_type": "stream",
     "text": [
      "feature_fraction, val_score: 6.000751: 100%|#############################################| 7/7 [00:05<00:00,  1.15it/s]\u001b[32m[I 2021-06-20 17:58:46,620]\u001b[0m Trial 6 finished with value: 6.000751200470994 and parameters: {'feature_fraction': 0.6}. Best is trial 6 with value: 6.000751200470994.\u001b[0m\n",
      "feature_fraction, val_score: 6.000751: 100%|#############################################| 7/7 [00:05<00:00,  1.22it/s]\n",
      "num_leaves, val_score: 6.000751:   0%|                                                          | 0/20 [00:00<?, ?it/s]"
     ]
    },
    {
     "name": "stdout",
     "output_type": "stream",
     "text": [
      "[300]\ttrain's rmse: 4.27743\teval's rmse: 6.03657\n",
      "Early stopping, best iteration is:\n",
      "[238]\ttrain's rmse: 4.58326\teval's rmse: 6.00075\n",
      "Training until validation scores don't improve for 100 rounds\n",
      "[100]\ttrain's rmse: 5.54937\teval's rmse: 6.30231\n",
      "[200]\ttrain's rmse: 4.5465\teval's rmse: 6.06302\n"
     ]
    },
    {
     "name": "stderr",
     "output_type": "stream",
     "text": [
      "num_leaves, val_score: 6.000751:   5%|##5                                               | 1/20 [00:00<00:10,  1.86it/s]\u001b[32m[I 2021-06-20 17:58:47,176]\u001b[0m Trial 7 finished with value: 6.049152236058218 and parameters: {'num_leaves': 44}. Best is trial 7 with value: 6.049152236058218.\u001b[0m\n",
      "num_leaves, val_score: 6.000751:   5%|##5                                               | 1/20 [00:00<00:10,  1.86it/s]"
     ]
    },
    {
     "name": "stdout",
     "output_type": "stream",
     "text": [
      "[300]\ttrain's rmse: 4.00247\teval's rmse: 6.09819\n",
      "Early stopping, best iteration is:\n",
      "[207]\ttrain's rmse: 4.4989\teval's rmse: 6.04915\n",
      "Training until validation scores don't improve for 100 rounds\n",
      "[100]\ttrain's rmse: 5.55987\teval's rmse: 6.32886\n",
      "[200]\ttrain's rmse: 4.53766\teval's rmse: 6.08988\n"
     ]
    },
    {
     "name": "stderr",
     "output_type": "stream",
     "text": [
      "num_leaves, val_score: 6.000751:  10%|#####                                             | 2/20 [00:01<00:10,  1.67it/s]\u001b[32m[I 2021-06-20 17:58:47,816]\u001b[0m Trial 8 finished with value: 6.07018298344987 and parameters: {'num_leaves': 82}. Best is trial 7 with value: 6.049152236058218.\u001b[0m\n",
      "num_leaves, val_score: 6.000751:  10%|#####                                             | 2/20 [00:01<00:10,  1.67it/s]"
     ]
    },
    {
     "name": "stdout",
     "output_type": "stream",
     "text": [
      "[300]\ttrain's rmse: 3.96555\teval's rmse: 6.11064\n",
      "Early stopping, best iteration is:\n",
      "[239]\ttrain's rmse: 4.30644\teval's rmse: 6.07018\n",
      "Training until validation scores don't improve for 100 rounds\n",
      "[100]\ttrain's rmse: 6.58369\teval's rmse: 6.57363\n",
      "[200]\ttrain's rmse: 6.04936\teval's rmse: 6.21009\n",
      "[300]\ttrain's rmse: 5.6886\teval's rmse: 6.06327\n",
      "[400]\ttrain's rmse: 5.44103\teval's rmse: 5.98015\n",
      "[500]\ttrain's rmse: 5.23051\teval's rmse: 5.94445\n",
      "[600]\ttrain's rmse: 5.05565\teval's rmse: 5.92195\n",
      "[700]\ttrain's rmse: 4.90413\teval's rmse: 5.92327\n",
      "[800]\ttrain's rmse: 4.77505\teval's rmse: 5.89923\n"
     ]
    },
    {
     "name": "stderr",
     "output_type": "stream",
     "text": [
      "num_leaves, val_score: 5.895106:  15%|#######5                                          | 3/20 [00:01<00:10,  1.65it/s]\u001b[32m[I 2021-06-20 17:58:48,435]\u001b[0m Trial 9 finished with value: 5.895106062423819 and parameters: {'num_leaves': 9}. Best is trial 9 with value: 5.895106062423819.\u001b[0m\n",
      "num_leaves, val_score: 5.895106:  15%|#######5                                          | 3/20 [00:01<00:10,  1.65it/s]"
     ]
    },
    {
     "name": "stdout",
     "output_type": "stream",
     "text": [
      "Early stopping, best iteration is:\n",
      "[780]\ttrain's rmse: 4.79785\teval's rmse: 5.89511\n",
      "Training until validation scores don't improve for 100 rounds\n",
      "[100]\ttrain's rmse: 5.55987\teval's rmse: 6.32886\n",
      "[200]\ttrain's rmse: 4.53766\teval's rmse: 6.08988\n"
     ]
    },
    {
     "name": "stderr",
     "output_type": "stream",
     "text": [
      "num_leaves, val_score: 5.895106:  20%|##########                                        | 4/20 [00:02<00:10,  1.57it/s]\u001b[32m[I 2021-06-20 17:58:49,121]\u001b[0m Trial 10 finished with value: 6.07018298344987 and parameters: {'num_leaves': 236}. Best is trial 9 with value: 5.895106062423819.\u001b[0m\n",
      "num_leaves, val_score: 5.895106:  20%|##########                                        | 4/20 [00:02<00:10,  1.57it/s]"
     ]
    },
    {
     "name": "stdout",
     "output_type": "stream",
     "text": [
      "[300]\ttrain's rmse: 3.96555\teval's rmse: 6.11064\n",
      "Early stopping, best iteration is:\n",
      "[239]\ttrain's rmse: 4.30644\teval's rmse: 6.07018\n",
      "Training until validation scores don't improve for 100 rounds\n",
      "[100]\ttrain's rmse: 5.55987\teval's rmse: 6.32886\n",
      "[200]\ttrain's rmse: 4.53766\teval's rmse: 6.08988\n"
     ]
    },
    {
     "name": "stderr",
     "output_type": "stream",
     "text": [
      "num_leaves, val_score: 5.895106:  25%|############5                                     | 5/20 [00:03<00:09,  1.56it/s]\u001b[32m[I 2021-06-20 17:58:49,773]\u001b[0m Trial 11 finished with value: 6.07018298344987 and parameters: {'num_leaves': 96}. Best is trial 9 with value: 5.895106062423819.\u001b[0m\n",
      "num_leaves, val_score: 5.895106:  25%|############5                                     | 5/20 [00:03<00:09,  1.56it/s]"
     ]
    },
    {
     "name": "stdout",
     "output_type": "stream",
     "text": [
      "[300]\ttrain's rmse: 3.96555\teval's rmse: 6.11064\n",
      "Early stopping, best iteration is:\n",
      "[239]\ttrain's rmse: 4.30644\teval's rmse: 6.07018\n",
      "Training until validation scores don't improve for 100 rounds\n",
      "[100]\ttrain's rmse: 7.19248\teval's rmse: 7.01551\n",
      "[200]\ttrain's rmse: 6.81872\teval's rmse: 6.6146\n",
      "[300]\ttrain's rmse: 6.59192\teval's rmse: 6.45617\n",
      "[400]\ttrain's rmse: 6.41029\teval's rmse: 6.3395\n",
      "[500]\ttrain's rmse: 6.26004\teval's rmse: 6.26347\n",
      "[600]\ttrain's rmse: 6.14495\teval's rmse: 6.20011\n",
      "[700]\ttrain's rmse: 6.0378\teval's rmse: 6.18027\n",
      "[800]\ttrain's rmse: 5.9318\teval's rmse: 6.13616\n",
      "[900]\ttrain's rmse: 5.84123\teval's rmse: 6.10645\n",
      "[1000]\ttrain's rmse: 5.75426\teval's rmse: 6.08249\n",
      "Did not meet early stopping. Best iteration is:\n",
      "[1000]\ttrain's rmse: 5.75426\teval's rmse: 6.08249\n"
     ]
    },
    {
     "name": "stderr",
     "output_type": "stream",
     "text": [
      "num_leaves, val_score: 5.895106:  30%|###############                                   | 6/20 [00:03<00:08,  1.66it/s]\u001b[32m[I 2021-06-20 17:58:50,281]\u001b[0m Trial 12 finished with value: 6.082485539337075 and parameters: {'num_leaves': 4}. Best is trial 9 with value: 5.895106062423819.\u001b[0m\n",
      "num_leaves, val_score: 5.895106:  30%|###############                                   | 6/20 [00:03<00:08,  1.66it/s]"
     ]
    },
    {
     "name": "stdout",
     "output_type": "stream",
     "text": [
      "Training until validation scores don't improve for 100 rounds\n",
      "[100]\ttrain's rmse: 5.55987\teval's rmse: 6.32886\n",
      "[200]\ttrain's rmse: 4.53766\teval's rmse: 6.08988\n",
      "[300]\ttrain's rmse: 3.96555\teval's rmse: 6.11064\n"
     ]
    },
    {
     "name": "stderr",
     "output_type": "stream",
     "text": [
      "num_leaves, val_score: 5.895106:  35%|#################5                                | 7/20 [00:04<00:08,  1.59it/s]\u001b[32m[I 2021-06-20 17:58:50,970]\u001b[0m Trial 13 finished with value: 6.07018298344987 and parameters: {'num_leaves': 141}. Best is trial 9 with value: 5.895106062423819.\u001b[0m\n",
      "num_leaves, val_score: 5.895106:  35%|#################5                                | 7/20 [00:04<00:08,  1.59it/s]"
     ]
    },
    {
     "name": "stdout",
     "output_type": "stream",
     "text": [
      "Early stopping, best iteration is:\n",
      "[239]\ttrain's rmse: 4.30644\teval's rmse: 6.07018\n",
      "Training until validation scores don't improve for 100 rounds\n",
      "[100]\ttrain's rmse: 5.55987\teval's rmse: 6.32886\n",
      "[200]\ttrain's rmse: 4.53766\teval's rmse: 6.08988\n"
     ]
    },
    {
     "name": "stderr",
     "output_type": "stream",
     "text": [
      "num_leaves, val_score: 5.895106:  40%|####################                              | 8/20 [00:04<00:07,  1.59it/s]\u001b[32m[I 2021-06-20 17:58:51,608]\u001b[0m Trial 14 finished with value: 6.07018298344987 and parameters: {'num_leaves': 81}. Best is trial 9 with value: 5.895106062423819.\u001b[0m\n",
      "num_leaves, val_score: 5.895106:  40%|####################                              | 8/20 [00:04<00:07,  1.59it/s]"
     ]
    },
    {
     "name": "stdout",
     "output_type": "stream",
     "text": [
      "[300]\ttrain's rmse: 3.96555\teval's rmse: 6.11064\n",
      "Early stopping, best iteration is:\n",
      "[239]\ttrain's rmse: 4.30644\teval's rmse: 6.07018\n",
      "Training until validation scores don't improve for 100 rounds\n",
      "[100]\ttrain's rmse: 5.55987\teval's rmse: 6.32886\n",
      "[200]\ttrain's rmse: 4.53766\teval's rmse: 6.08988\n"
     ]
    },
    {
     "name": "stderr",
     "output_type": "stream",
     "text": [
      "\r",
      "num_leaves, val_score: 5.895106:  40%|####################                              | 8/20 [00:06<00:07,  1.59it/s]"
     ]
    },
    {
     "name": "stdout",
     "output_type": "stream",
     "text": [
      "[300]\ttrain's rmse: 3.96555\teval's rmse: 6.11064\n",
      "Early stopping, best iteration is:\n",
      "[239]\ttrain's rmse: 4.30644\teval's rmse: 6.07018\n"
     ]
    },
    {
     "name": "stderr",
     "output_type": "stream",
     "text": [
      "num_leaves, val_score: 5.895106:  45%|######################5                           | 9/20 [00:06<00:08,  1.29it/s]\u001b[32m[I 2021-06-20 17:58:52,701]\u001b[0m Trial 15 finished with value: 6.07018298344987 and parameters: {'num_leaves': 59}. Best is trial 9 with value: 5.895106062423819.\u001b[0m\n",
      "num_leaves, val_score: 5.895106:  45%|######################5                           | 9/20 [00:06<00:08,  1.29it/s]"
     ]
    },
    {
     "name": "stdout",
     "output_type": "stream",
     "text": [
      "Training until validation scores don't improve for 100 rounds\n",
      "[100]\ttrain's rmse: 5.55987\teval's rmse: 6.32886\n",
      "[200]\ttrain's rmse: 4.53766\teval's rmse: 6.08988\n",
      "[300]\ttrain's rmse: 3.96555\teval's rmse: 6.11064\n",
      "Early stopping, best iteration is:\n",
      "[239]\ttrain's rmse: 4.30644\teval's rmse: 6.07018\n"
     ]
    },
    {
     "name": "stderr",
     "output_type": "stream",
     "text": [
      "num_leaves, val_score: 5.895106:  50%|########################5                        | 10/20 [00:07<00:09,  1.11it/s]\u001b[32m[I 2021-06-20 17:58:53,889]\u001b[0m Trial 16 finished with value: 6.07018298344987 and parameters: {'num_leaves': 211}. Best is trial 9 with value: 5.895106062423819.\u001b[0m\n",
      "num_leaves, val_score: 5.895106:  50%|########################5                        | 10/20 [00:07<00:09,  1.11it/s]"
     ]
    },
    {
     "name": "stdout",
     "output_type": "stream",
     "text": [
      "Training until validation scores don't improve for 100 rounds\n",
      "[100]\ttrain's rmse: 6.92087\teval's rmse: 6.7662\n",
      "[200]\ttrain's rmse: 6.4566\teval's rmse: 6.38185\n",
      "[300]\ttrain's rmse: 6.16897\teval's rmse: 6.23591\n",
      "[400]\ttrain's rmse: 5.9656\teval's rmse: 6.15351\n",
      "[500]\ttrain's rmse: 5.76914\teval's rmse: 6.07059\n",
      "[600]\ttrain's rmse: 5.60678\teval's rmse: 6.02398\n",
      "[700]\ttrain's rmse: 5.47451\teval's rmse: 6.00465\n",
      "[800]\ttrain's rmse: 5.35233\teval's rmse: 5.97117\n"
     ]
    },
    {
     "name": "stderr",
     "output_type": "stream",
     "text": [
      "\r",
      "num_leaves, val_score: 5.895106:  50%|########################5                        | 10/20 [00:08<00:09,  1.11it/s]"
     ]
    },
    {
     "name": "stdout",
     "output_type": "stream",
     "text": [
      "[900]\ttrain's rmse: 5.24755\teval's rmse: 5.9398\n",
      "[1000]\ttrain's rmse: 5.14359\teval's rmse: 5.94699\n",
      "Did not meet early stopping. Best iteration is:\n",
      "[1000]\ttrain's rmse: 5.14359\teval's rmse: 5.94699\n"
     ]
    },
    {
     "name": "stderr",
     "output_type": "stream",
     "text": [
      "num_leaves, val_score: 5.895106:  55%|##########################9                      | 11/20 [00:08<00:08,  1.08it/s]\u001b[32m[I 2021-06-20 17:58:54,881]\u001b[0m Trial 17 finished with value: 5.946994017610274 and parameters: {'num_leaves': 6}. Best is trial 9 with value: 5.895106062423819.\u001b[0m\n",
      "num_leaves, val_score: 5.895106:  55%|##########################9                      | 11/20 [00:08<00:08,  1.08it/s]"
     ]
    },
    {
     "name": "stdout",
     "output_type": "stream",
     "text": [
      "Training until validation scores don't improve for 100 rounds\n",
      "[100]\ttrain's rmse: 6.68765\teval's rmse: 6.58868\n",
      "[200]\ttrain's rmse: 6.16672\teval's rmse: 6.21921\n",
      "[300]\ttrain's rmse: 5.82615\teval's rmse: 6.09837\n",
      "[400]\ttrain's rmse: 5.58016\teval's rmse: 6.02511\n",
      "[500]\ttrain's rmse: 5.36872\teval's rmse: 5.97897\n",
      "[600]\ttrain's rmse: 5.20133\teval's rmse: 5.94846\n",
      "[700]\ttrain's rmse: 5.05971\teval's rmse: 5.92747\n",
      "[800]\ttrain's rmse: 4.93246\teval's rmse: 5.90556\n"
     ]
    },
    {
     "name": "stderr",
     "output_type": "stream",
     "text": [
      "num_leaves, val_score: 5.895106:  60%|#############################4                   | 12/20 [00:09<00:07,  1.13it/s]\u001b[32m[I 2021-06-20 17:58:55,658]\u001b[0m Trial 18 finished with value: 5.90018525972381 and parameters: {'num_leaves': 8}. Best is trial 9 with value: 5.895106062423819.\u001b[0m\n",
      "num_leaves, val_score: 5.895106:  60%|#############################4                   | 12/20 [00:09<00:07,  1.13it/s]"
     ]
    },
    {
     "name": "stdout",
     "output_type": "stream",
     "text": [
      "Early stopping, best iteration is:\n",
      "[787]\ttrain's rmse: 4.94954\teval's rmse: 5.90019\n",
      "Training until validation scores don't improve for 100 rounds\n",
      "[100]\ttrain's rmse: 7.38181\teval's rmse: 7.21311\n",
      "[200]\ttrain's rmse: 7.02556\teval's rmse: 6.76646\n",
      "[300]\ttrain's rmse: 6.84185\teval's rmse: 6.61307\n",
      "[400]\ttrain's rmse: 6.69014\teval's rmse: 6.4843\n",
      "[500]\ttrain's rmse: 6.56934\teval's rmse: 6.38085\n",
      "[600]\ttrain's rmse: 6.49016\teval's rmse: 6.31414\n",
      "[700]\ttrain's rmse: 6.41623\teval's rmse: 6.29712\n",
      "[800]\ttrain's rmse: 6.33761\teval's rmse: 6.24277\n"
     ]
    },
    {
     "name": "stderr",
     "output_type": "stream",
     "text": [
      "num_leaves, val_score: 5.895106:  65%|###############################8                 | 13/20 [00:09<00:05,  1.30it/s]\u001b[32m[I 2021-06-20 17:58:56,164]\u001b[0m Trial 19 finished with value: 6.197483839329031 and parameters: {'num_leaves': 3}. Best is trial 9 with value: 5.895106062423819.\u001b[0m\n",
      "num_leaves, val_score: 5.895106:  65%|###############################8                 | 13/20 [00:09<00:05,  1.30it/s]"
     ]
    },
    {
     "name": "stdout",
     "output_type": "stream",
     "text": [
      "[900]\ttrain's rmse: 6.28091\teval's rmse: 6.21938\n",
      "[1000]\ttrain's rmse: 6.2107\teval's rmse: 6.19748\n",
      "Did not meet early stopping. Best iteration is:\n",
      "[1000]\ttrain's rmse: 6.2107\teval's rmse: 6.19748\n",
      "Training until validation scores don't improve for 100 rounds\n",
      "[100]\ttrain's rmse: 5.55987\teval's rmse: 6.32886\n",
      "[200]\ttrain's rmse: 4.53766\teval's rmse: 6.08988\n"
     ]
    },
    {
     "name": "stderr",
     "output_type": "stream",
     "text": [
      "num_leaves, val_score: 5.895106:  70%|##################################3              | 14/20 [00:10<00:04,  1.32it/s]\u001b[32m[I 2021-06-20 17:58:56,886]\u001b[0m Trial 20 finished with value: 6.07018298344987 and parameters: {'num_leaves': 143}. Best is trial 9 with value: 5.895106062423819.\u001b[0m\n",
      "num_leaves, val_score: 5.895106:  70%|##################################3              | 14/20 [00:10<00:04,  1.32it/s]"
     ]
    },
    {
     "name": "stdout",
     "output_type": "stream",
     "text": [
      "[300]\ttrain's rmse: 3.96555\teval's rmse: 6.11064\n",
      "Early stopping, best iteration is:\n",
      "[239]\ttrain's rmse: 4.30644\teval's rmse: 6.07018\n",
      "Training until validation scores don't improve for 100 rounds\n",
      "[100]\ttrain's rmse: 5.76823\teval's rmse: 6.33983\n"
     ]
    },
    {
     "name": "stderr",
     "output_type": "stream",
     "text": [
      "\r",
      "num_leaves, val_score: 5.895106:  70%|##################################3              | 14/20 [00:10<00:04,  1.32it/s]"
     ]
    },
    {
     "name": "stdout",
     "output_type": "stream",
     "text": [
      "[200]\ttrain's rmse: 4.88184\teval's rmse: 6.01847\n",
      "[300]\ttrain's rmse: 4.37596\teval's rmse: 6.03662\n",
      "Early stopping, best iteration is:\n",
      "[213]\ttrain's rmse: 4.8052\teval's rmse: 5.99051\n"
     ]
    },
    {
     "name": "stderr",
     "output_type": "stream",
     "text": [
      "num_leaves, val_score: 5.895106:  75%|####################################7            | 15/20 [00:10<00:03,  1.47it/s]\u001b[32m[I 2021-06-20 17:58:57,389]\u001b[0m Trial 21 finished with value: 5.990508996377649 and parameters: {'num_leaves': 28}. Best is trial 9 with value: 5.895106062423819.\u001b[0m\n",
      "num_leaves, val_score: 5.895106:  75%|####################################7            | 15/20 [00:10<00:03,  1.47it/s]"
     ]
    },
    {
     "name": "stdout",
     "output_type": "stream",
     "text": [
      "Training until validation scores don't improve for 100 rounds\n",
      "[100]\ttrain's rmse: 5.55987\teval's rmse: 6.32886\n",
      "[200]\ttrain's rmse: 4.53766\teval's rmse: 6.08988\n",
      "[300]\ttrain's rmse: 3.96555\teval's rmse: 6.11064\n",
      "Early stopping, best iteration is:\n",
      "[239]\ttrain's rmse: 4.30644\teval's rmse: 6.07018\n"
     ]
    },
    {
     "name": "stderr",
     "output_type": "stream",
     "text": [
      "num_leaves, val_score: 5.895106:  80%|#######################################2         | 16/20 [00:11<00:03,  1.21it/s]\u001b[32m[I 2021-06-20 17:58:58,563]\u001b[0m Trial 22 finished with value: 6.07018298344987 and parameters: {'num_leaves': 183}. Best is trial 9 with value: 5.895106062423819.\u001b[0m\n",
      "num_leaves, val_score: 5.895106:  80%|#######################################2         | 16/20 [00:11<00:03,  1.21it/s]"
     ]
    },
    {
     "name": "stdout",
     "output_type": "stream",
     "text": [
      "Training until validation scores don't improve for 100 rounds\n",
      "[100]\ttrain's rmse: 5.70517\teval's rmse: 6.31322\n",
      "[200]\ttrain's rmse: 4.79399\teval's rmse: 6.02708\n",
      "[300]\ttrain's rmse: 4.27743\teval's rmse: 6.03657\n",
      "Early stopping, best iteration is:\n",
      "[238]\ttrain's rmse: 4.58326\teval's rmse: 6.00075\n"
     ]
    },
    {
     "name": "stderr",
     "output_type": "stream",
     "text": [
      "num_leaves, val_score: 5.895106:  85%|#########################################6       | 17/20 [00:12<00:02,  1.31it/s]\u001b[32m[I 2021-06-20 17:58:59,177]\u001b[0m Trial 23 finished with value: 6.000751200470994 and parameters: {'num_leaves': 31}. Best is trial 9 with value: 5.895106062423819.\u001b[0m\n",
      "num_leaves, val_score: 5.895106:  85%|#########################################6       | 17/20 [00:12<00:02,  1.31it/s]"
     ]
    },
    {
     "name": "stdout",
     "output_type": "stream",
     "text": [
      "Training until validation scores don't improve for 100 rounds\n",
      "[100]\ttrain's rmse: 5.55987\teval's rmse: 6.32886\n",
      "[200]\ttrain's rmse: 4.53766\teval's rmse: 6.08988\n"
     ]
    },
    {
     "name": "stderr",
     "output_type": "stream",
     "text": [
      "\r",
      "num_leaves, val_score: 5.895106:  85%|#########################################6       | 17/20 [00:13<00:02,  1.31it/s]"
     ]
    },
    {
     "name": "stdout",
     "output_type": "stream",
     "text": [
      "[300]\ttrain's rmse: 3.96555\teval's rmse: 6.11064\n",
      "Early stopping, best iteration is:\n",
      "[239]\ttrain's rmse: 4.30644\teval's rmse: 6.07018\n"
     ]
    },
    {
     "name": "stderr",
     "output_type": "stream",
     "text": [
      "num_leaves, val_score: 5.895106:  90%|############################################1    | 18/20 [00:13<00:01,  1.23it/s]\u001b[32m[I 2021-06-20 17:59:00,115]\u001b[0m Trial 24 finished with value: 6.07018298344987 and parameters: {'num_leaves': 106}. Best is trial 9 with value: 5.895106062423819.\u001b[0m\n",
      "num_leaves, val_score: 5.895106:  90%|############################################1    | 18/20 [00:13<00:01,  1.23it/s]"
     ]
    },
    {
     "name": "stdout",
     "output_type": "stream",
     "text": [
      "Training until validation scores don't improve for 100 rounds\n",
      "[100]\ttrain's rmse: 5.55987\teval's rmse: 6.32886\n",
      "[200]\ttrain's rmse: 4.53766\teval's rmse: 6.08988\n"
     ]
    },
    {
     "name": "stderr",
     "output_type": "stream",
     "text": [
      "\r",
      "num_leaves, val_score: 5.895106:  90%|############################################1    | 18/20 [00:14<00:01,  1.23it/s]"
     ]
    },
    {
     "name": "stdout",
     "output_type": "stream",
     "text": [
      "[300]\ttrain's rmse: 3.96555\teval's rmse: 6.11064\n",
      "Early stopping, best iteration is:\n",
      "[239]\ttrain's rmse: 4.30644\teval's rmse: 6.07018\n"
     ]
    },
    {
     "name": "stderr",
     "output_type": "stream",
     "text": [
      "num_leaves, val_score: 5.895106:  95%|##############################################5  | 19/20 [00:14<00:00,  1.13it/s]\u001b[32m[I 2021-06-20 17:59:01,163]\u001b[0m Trial 25 finished with value: 6.07018298344987 and parameters: {'num_leaves': 62}. Best is trial 9 with value: 5.895106062423819.\u001b[0m\n",
      "num_leaves, val_score: 5.895106:  95%|##############################################5  | 19/20 [00:14<00:00,  1.13it/s]"
     ]
    },
    {
     "name": "stdout",
     "output_type": "stream",
     "text": [
      "Training until validation scores don't improve for 100 rounds\n",
      "[100]\ttrain's rmse: 6.1599\teval's rmse: 6.40804\n",
      "[200]\ttrain's rmse: 5.46406\teval's rmse: 6.05697\n",
      "[300]\ttrain's rmse: 5.03667\teval's rmse: 6.00517\n",
      "[400]\ttrain's rmse: 4.73216\teval's rmse: 5.97874\n"
     ]
    },
    {
     "name": "stderr",
     "output_type": "stream",
     "text": [
      "num_leaves, val_score: 5.895106: 100%|#################################################| 20/20 [00:15<00:00,  1.23it/s]\u001b[32m[I 2021-06-20 17:59:01,794]\u001b[0m Trial 26 finished with value: 5.973896314943001 and parameters: {'num_leaves': 16}. Best is trial 9 with value: 5.895106062423819.\u001b[0m\n",
      "num_leaves, val_score: 5.895106: 100%|#################################################| 20/20 [00:15<00:00,  1.32it/s]\n",
      "bagging, val_score: 5.895106:   0%|                                                             | 0/10 [00:00<?, ?it/s]"
     ]
    },
    {
     "name": "stdout",
     "output_type": "stream",
     "text": [
      "Early stopping, best iteration is:\n",
      "[346]\ttrain's rmse: 4.88822\teval's rmse: 5.9739\n",
      "Training until validation scores don't improve for 100 rounds\n",
      "[100]\ttrain's rmse: 6.56336\teval's rmse: 6.57548\n",
      "[200]\ttrain's rmse: 6.00744\teval's rmse: 6.1845\n",
      "[300]\ttrain's rmse: 5.67101\teval's rmse: 6.08097\n",
      "[400]\ttrain's rmse: 5.40959\teval's rmse: 6.0426\n",
      "[500]\ttrain's rmse: 5.20022\teval's rmse: 6.0162\n",
      "[600]\ttrain's rmse: 5.01691\teval's rmse: 5.97572\n",
      "[700]\ttrain's rmse: 4.87177\teval's rmse: 5.97966\n"
     ]
    },
    {
     "name": "stderr",
     "output_type": "stream",
     "text": [
      "bagging, val_score: 5.895106:  10%|#####3                                               | 1/10 [00:00<00:08,  1.01it/s]\u001b[32m[I 2021-06-20 17:59:02,807]\u001b[0m Trial 27 finished with value: 5.973427543363008 and parameters: {'bagging_fraction': 0.8757090382484403, 'bagging_freq': 2}. Best is trial 27 with value: 5.973427543363008.\u001b[0m\n",
      "bagging, val_score: 5.895106:  10%|#####3                                               | 1/10 [00:01<00:08,  1.01it/s]"
     ]
    },
    {
     "name": "stdout",
     "output_type": "stream",
     "text": [
      "Early stopping, best iteration is:\n",
      "[605]\ttrain's rmse: 5.01117\teval's rmse: 5.97343\n",
      "Training until validation scores don't improve for 100 rounds\n",
      "[100]\ttrain's rmse: 6.63435\teval's rmse: 6.63165\n",
      "[200]\ttrain's rmse: 6.06779\teval's rmse: 6.28986\n",
      "[300]\ttrain's rmse: 5.72809\teval's rmse: 6.11806\n",
      "[400]\ttrain's rmse: 5.47233\teval's rmse: 6.04817\n",
      "[500]\ttrain's rmse: 5.26289\teval's rmse: 5.99311\n"
     ]
    },
    {
     "name": "stderr",
     "output_type": "stream",
     "text": [
      "bagging, val_score: 5.895106:  20%|##########6                                          | 2/10 [00:01<00:07,  1.04it/s]\u001b[32m[I 2021-06-20 17:59:03,736]\u001b[0m Trial 28 finished with value: 5.958041294783601 and parameters: {'bagging_fraction': 0.7121737413782163, 'bagging_freq': 7}. Best is trial 28 with value: 5.958041294783601.\u001b[0m\n",
      "bagging, val_score: 5.895106:  20%|##########6                                          | 2/10 [00:01<00:07,  1.04it/s]"
     ]
    },
    {
     "name": "stdout",
     "output_type": "stream",
     "text": [
      "[600]\ttrain's rmse: 5.09833\teval's rmse: 5.97432\n",
      "Early stopping, best iteration is:\n",
      "[545]\ttrain's rmse: 5.18819\teval's rmse: 5.95804\n",
      "Training until validation scores don't improve for 100 rounds\n",
      "[100]\ttrain's rmse: 6.55727\teval's rmse: 6.53083\n",
      "[200]\ttrain's rmse: 5.99115\teval's rmse: 6.15745\n",
      "[300]\ttrain's rmse: 5.64893\teval's rmse: 6.0433\n",
      "[400]\ttrain's rmse: 5.38358\teval's rmse: 5.94211\n",
      "[500]\ttrain's rmse: 5.17232\teval's rmse: 5.92261\n",
      "[600]\ttrain's rmse: 4.9882\teval's rmse: 5.90652\n"
     ]
    },
    {
     "name": "stderr",
     "output_type": "stream",
     "text": [
      "bagging, val_score: 5.891173:  30%|###############9                                     | 3/10 [00:02<00:05,  1.24it/s]\u001b[32m[I 2021-06-20 17:59:04,355]\u001b[0m Trial 29 finished with value: 5.891173004549726 and parameters: {'bagging_fraction': 0.9512207770372786, 'bagging_freq': 5}. Best is trial 29 with value: 5.891173004549726.\u001b[0m\n",
      "bagging, val_score: 5.891173:  30%|###############9                                     | 3/10 [00:02<00:05,  1.24it/s]"
     ]
    },
    {
     "name": "stdout",
     "output_type": "stream",
     "text": [
      "Early stopping, best iteration is:\n",
      "[571]\ttrain's rmse: 5.04014\teval's rmse: 5.89117\n",
      "Training until validation scores don't improve for 100 rounds\n",
      "[100]\ttrain's rmse: 6.8582\teval's rmse: 6.81245\n",
      "[200]\ttrain's rmse: 6.36696\teval's rmse: 6.441\n",
      "[300]\ttrain's rmse: 6.05964\teval's rmse: 6.28768\n",
      "[400]\ttrain's rmse: 5.78626\teval's rmse: 6.13833\n",
      "[500]\ttrain's rmse: 5.58401\teval's rmse: 6.09\n"
     ]
    },
    {
     "name": "stderr",
     "output_type": "stream",
     "text": [
      "bagging, val_score: 5.891173:  40%|#####################2                               | 4/10 [00:03<00:04,  1.47it/s]\u001b[32m[I 2021-06-20 17:59:04,847]\u001b[0m Trial 30 finished with value: 6.029376577734428 and parameters: {'bagging_fraction': 0.4173433177307785, 'bagging_freq': 6}. Best is trial 29 with value: 5.891173004549726.\u001b[0m\n",
      "bagging, val_score: 5.891173:  40%|#####################2                               | 4/10 [00:03<00:04,  1.47it/s]"
     ]
    },
    {
     "name": "stdout",
     "output_type": "stream",
     "text": [
      "[600]\ttrain's rmse: 5.42412\teval's rmse: 6.05786\n",
      "Early stopping, best iteration is:\n",
      "[559]\ttrain's rmse: 5.47797\teval's rmse: 6.02938\n",
      "Training until validation scores don't improve for 100 rounds\n",
      "[100]\ttrain's rmse: 6.60275\teval's rmse: 6.6054\n",
      "[200]\ttrain's rmse: 6.03721\teval's rmse: 6.21758\n",
      "[300]\ttrain's rmse: 5.67985\teval's rmse: 6.07472\n",
      "[400]\ttrain's rmse: 5.42081\teval's rmse: 6.00581\n",
      "[500]\ttrain's rmse: 5.23134\teval's rmse: 5.98112\n"
     ]
    },
    {
     "name": "stderr",
     "output_type": "stream",
     "text": [
      "bagging, val_score: 5.891173:  50%|##########################5                          | 5/10 [00:03<00:03,  1.59it/s]\u001b[32m[I 2021-06-20 17:59:05,387]\u001b[0m Trial 31 finished with value: 5.9054541038249955 and parameters: {'bagging_fraction': 0.7970252429642168, 'bagging_freq': 6}. Best is trial 29 with value: 5.891173004549726.\u001b[0m\n",
      "bagging, val_score: 5.891173:  50%|##########################5                          | 5/10 [00:03<00:03,  1.59it/s]"
     ]
    },
    {
     "name": "stdout",
     "output_type": "stream",
     "text": [
      "[600]\ttrain's rmse: 5.04641\teval's rmse: 5.93975\n",
      "[700]\ttrain's rmse: 4.89421\teval's rmse: 5.93122\n",
      "Early stopping, best iteration is:\n",
      "[645]\ttrain's rmse: 4.97865\teval's rmse: 5.90545\n",
      "Training until validation scores don't improve for 100 rounds\n",
      "[100]\ttrain's rmse: 6.57311\teval's rmse: 6.57978\n",
      "[200]\ttrain's rmse: 6.0455\teval's rmse: 6.21617\n",
      "[300]\ttrain's rmse: 5.70393\teval's rmse: 6.07881\n",
      "[400]\ttrain's rmse: 5.45262\teval's rmse: 5.99956"
     ]
    },
    {
     "name": "stderr",
     "output_type": "stream",
     "text": [
      "\r",
      "bagging, val_score: 5.891173:  50%|##########################5                          | 5/10 [00:04<00:03,  1.59it/s]"
     ]
    },
    {
     "name": "stdout",
     "output_type": "stream",
     "text": [
      "\n",
      "[500]\ttrain's rmse: 5.23654\teval's rmse: 5.98745\n",
      "[600]\ttrain's rmse: 5.06893\teval's rmse: 5.97309\n",
      "Early stopping, best iteration is:\n",
      "[545]\ttrain's rmse: 5.16278\teval's rmse: 5.96658\n"
     ]
    },
    {
     "name": "stderr",
     "output_type": "stream",
     "text": [
      "bagging, val_score: 5.891173:  60%|###############################8                     | 6/10 [00:04<00:02,  1.73it/s]\u001b[32m[I 2021-06-20 17:59:05,868]\u001b[0m Trial 32 finished with value: 5.966577948633024 and parameters: {'bagging_fraction': 0.7519242515304014, 'bagging_freq': 5}. Best is trial 29 with value: 5.891173004549726.\u001b[0m\n",
      "bagging, val_score: 5.891173:  60%|###############################8                     | 6/10 [00:04<00:02,  1.73it/s]"
     ]
    },
    {
     "name": "stdout",
     "output_type": "stream",
     "text": [
      "Training until validation scores don't improve for 100 rounds\n",
      "[100]\ttrain's rmse: 6.65837\teval's rmse: 6.67853\n",
      "[200]\ttrain's rmse: 6.07261\teval's rmse: 6.29997\n",
      "[300]\ttrain's rmse: 5.7427\teval's rmse: 6.12424\n",
      "[400]\ttrain's rmse: 5.494\teval's rmse: 6.08606\n",
      "[500]\ttrain's rmse: 5.2825\teval's rmse: 6.04961\n",
      "[600]\ttrain's rmse: 5.1223\teval's rmse: 6.04687\n",
      "Early stopping, best iteration is:\n",
      "[551]\ttrain's rmse: 5.19516\teval's rmse: 6.01884\n"
     ]
    },
    {
     "name": "stderr",
     "output_type": "stream",
     "text": [
      "bagging, val_score: 5.891173:  70%|#####################################                | 7/10 [00:04<00:01,  1.82it/s]\u001b[32m[I 2021-06-20 17:59:06,357]\u001b[0m Trial 33 finished with value: 6.018844262699265 and parameters: {'bagging_fraction': 0.6866012325818952, 'bagging_freq': 7}. Best is trial 29 with value: 5.891173004549726.\u001b[0m\n",
      "bagging, val_score: 5.891173:  70%|#####################################                | 7/10 [00:04<00:01,  1.82it/s]"
     ]
    },
    {
     "name": "stdout",
     "output_type": "stream",
     "text": [
      "Training until validation scores don't improve for 100 rounds\n",
      "[100]\ttrain's rmse: 6.59746\teval's rmse: 6.60642\n",
      "[200]\ttrain's rmse: 6.03402\teval's rmse: 6.26749\n",
      "[300]\ttrain's rmse: 5.68335\teval's rmse: 6.12564\n",
      "[400]\ttrain's rmse: 5.41934\teval's rmse: 6.0314\n",
      "[500]\ttrain's rmse: 5.22735\teval's rmse: 6.01645\n",
      "[600]\ttrain's rmse: 5.03761\teval's rmse: 5.96779\n",
      "[700]\ttrain's rmse: 4.89045\teval's rmse: 5.94533\n"
     ]
    },
    {
     "name": "stderr",
     "output_type": "stream",
     "text": [
      "bagging, val_score: 5.891173:  80%|##########################################4          | 8/10 [00:05<00:01,  1.80it/s]\u001b[32m[I 2021-06-20 17:59:06,925]\u001b[0m Trial 34 finished with value: 5.934934102526859 and parameters: {'bagging_fraction': 0.7984707106629609, 'bagging_freq': 6}. Best is trial 29 with value: 5.891173004549726.\u001b[0m\n",
      "bagging, val_score: 5.891173:  80%|##########################################4          | 8/10 [00:05<00:01,  1.80it/s]"
     ]
    },
    {
     "name": "stdout",
     "output_type": "stream",
     "text": [
      "Early stopping, best iteration is:\n",
      "[686]\ttrain's rmse: 4.90968\teval's rmse: 5.93493\n",
      "Training until validation scores don't improve for 100 rounds\n",
      "[100]\ttrain's rmse: 6.56325\teval's rmse: 6.5555\n",
      "[200]\ttrain's rmse: 5.999\teval's rmse: 6.16485\n",
      "[300]\ttrain's rmse: 5.66719\teval's rmse: 6.03575\n",
      "[400]\ttrain's rmse: 5.40179\teval's rmse: 5.99364\n",
      "[500]\ttrain's rmse: 5.2091\teval's rmse: 5.95719\n"
     ]
    },
    {
     "name": "stderr",
     "output_type": "stream",
     "text": [
      "bagging, val_score: 5.891173:  90%|###############################################7     | 9/10 [00:05<00:00,  1.83it/s]\u001b[32m[I 2021-06-20 17:59:07,453]\u001b[0m Trial 35 finished with value: 5.9191439380770206 and parameters: {'bagging_fraction': 0.8167934159346579, 'bagging_freq': 2}. Best is trial 29 with value: 5.891173004549726.\u001b[0m\n",
      "bagging, val_score: 5.891173:  90%|###############################################7     | 9/10 [00:05<00:00,  1.83it/s]"
     ]
    },
    {
     "name": "stdout",
     "output_type": "stream",
     "text": [
      "[600]\ttrain's rmse: 5.03104\teval's rmse: 5.93379\n",
      "[700]\ttrain's rmse: 4.88109\teval's rmse: 5.94249\n",
      "Early stopping, best iteration is:\n",
      "[613]\ttrain's rmse: 5.01197\teval's rmse: 5.91914\n",
      "Training until validation scores don't improve for 100 rounds\n",
      "[100]\ttrain's rmse: 6.53716\teval's rmse: 6.53236\n",
      "[200]\ttrain's rmse: 6.01474\teval's rmse: 6.20675\n",
      "[300]\ttrain's rmse: 5.68342\teval's rmse: 6.07362\n",
      "[400]\ttrain's rmse: 5.43448\teval's rmse: 6.02176\n",
      "[500]\ttrain's rmse: 5.23531\teval's rmse: 5.98728\n",
      "[600]\ttrain's rmse: 5.06206\teval's rmse: 5.9508\n",
      "[700]\ttrain's rmse: 4.90537\teval's rmse: 5.94087\n",
      "Early stopping, best iteration is:\n",
      "[634]\ttrain's rmse: 5.00851\teval's rmse: 5.9364\n"
     ]
    },
    {
     "name": "stderr",
     "output_type": "stream",
     "text": [
      "bagging, val_score: 5.891173: 100%|####################################################| 10/10 [00:06<00:00,  1.76it/s]\u001b[32m[I 2021-06-20 17:59:08,066]\u001b[0m Trial 36 finished with value: 5.936398513272684 and parameters: {'bagging_fraction': 0.9999588527488474, 'bagging_freq': 4}. Best is trial 29 with value: 5.891173004549726.\u001b[0m\n",
      "bagging, val_score: 5.891173: 100%|####################################################| 10/10 [00:06<00:00,  1.60it/s]\n",
      "feature_fraction_stage2, val_score: 5.891173:   0%|                                              | 0/6 [00:00<?, ?it/s]"
     ]
    },
    {
     "name": "stdout",
     "output_type": "stream",
     "text": [
      "Training until validation scores don't improve for 100 rounds\n",
      "[100]\ttrain's rmse: 6.55727\teval's rmse: 6.53083\n",
      "[200]\ttrain's rmse: 5.99115\teval's rmse: 6.15745\n",
      "[300]\ttrain's rmse: 5.64893\teval's rmse: 6.0433\n",
      "[400]\ttrain's rmse: 5.38358\teval's rmse: 5.94211\n",
      "[500]\ttrain's rmse: 5.17232\teval's rmse: 5.92261\n",
      "[600]\ttrain's rmse: 4.9882\teval's rmse: 5.90652\n",
      "Early stopping, best iteration is:\n",
      "[571]\ttrain's rmse: 5.04014\teval's rmse: 5.89117\n"
     ]
    },
    {
     "name": "stderr",
     "output_type": "stream",
     "text": [
      "feature_fraction_stage2, val_score: 5.891173:  17%|######3                               | 1/6 [00:00<00:02,  1.99it/s]\u001b[32m[I 2021-06-20 17:59:08,582]\u001b[0m Trial 37 finished with value: 5.891173004549726 and parameters: {'feature_fraction': 0.616}. Best is trial 37 with value: 5.891173004549726.\u001b[0m\n",
      "feature_fraction_stage2, val_score: 5.891173:  17%|######3                               | 1/6 [00:00<00:02,  1.99it/s]"
     ]
    },
    {
     "name": "stdout",
     "output_type": "stream",
     "text": [
      "Training until validation scores don't improve for 100 rounds\n",
      "[100]\ttrain's rmse: 6.59056\teval's rmse: 6.54684\n",
      "[200]\ttrain's rmse: 6.04202\teval's rmse: 6.16936\n",
      "[300]\ttrain's rmse: 5.70579\teval's rmse: 6.04403\n",
      "[400]\ttrain's rmse: 5.44362\teval's rmse: 5.96598\n",
      "[500]\ttrain's rmse: 5.24174\teval's rmse: 5.94621\n",
      "[600]\ttrain's rmse: 5.0522\teval's rmse: 5.91892"
     ]
    },
    {
     "name": "stderr",
     "output_type": "stream",
     "text": [
      "feature_fraction_stage2, val_score: 5.891173:  33%|############6                         | 2/6 [00:01<00:02,  1.77it/s]\u001b[32m[I 2021-06-20 17:59:09,192]\u001b[0m Trial 38 finished with value: 5.911461815301208 and parameters: {'feature_fraction': 0.52}. Best is trial 37 with value: 5.891173004549726.\u001b[0m\n",
      "feature_fraction_stage2, val_score: 5.891173:  33%|############6                         | 2/6 [00:01<00:02,  1.77it/s]"
     ]
    },
    {
     "name": "stdout",
     "output_type": "stream",
     "text": [
      "\n",
      "[700]\ttrain's rmse: 4.90062\teval's rmse: 5.91714\n",
      "Early stopping, best iteration is:\n",
      "[616]\ttrain's rmse: 5.02905\teval's rmse: 5.91146\n",
      "Training until validation scores don't improve for 100 rounds\n",
      "[100]\ttrain's rmse: 6.51444\teval's rmse: 6.46722\n",
      "[200]\ttrain's rmse: 5.96305\teval's rmse: 6.15303\n",
      "[300]\ttrain's rmse: 5.60914\teval's rmse: 6.03416\n",
      "[400]\ttrain's rmse: 5.34074\teval's rmse: 5.96301\n",
      "[500]\ttrain's rmse: 5.12283\teval's rmse: 5.95167\n",
      "[600]\ttrain's rmse: 4.93757\teval's rmse: 5.91373\n",
      "[700]\ttrain's rmse: 4.77822\teval's rmse: 5.90757\n",
      "[800]\ttrain's rmse: 4.64371\teval's rmse: 5.90674\n",
      "Early stopping, best iteration is:\n",
      "[760]\ttrain's rmse: 4.69531\teval's rmse: 5.89662"
     ]
    },
    {
     "name": "stderr",
     "output_type": "stream",
     "text": [
      "feature_fraction_stage2, val_score: 5.891173:  50%|###################                   | 3/6 [00:01<00:01,  1.66it/s]\u001b[32m[I 2021-06-20 17:59:09,836]\u001b[0m Trial 39 finished with value: 5.896618780940778 and parameters: {'feature_fraction': 0.6799999999999999}. Best is trial 37 with value: 5.891173004549726.\u001b[0m\n",
      "feature_fraction_stage2, val_score: 5.891173:  50%|###################                   | 3/6 [00:01<00:01,  1.66it/s]"
     ]
    },
    {
     "name": "stdout",
     "output_type": "stream",
     "text": [
      "\n",
      "Training until validation scores don't improve for 100 rounds\n",
      "[100]\ttrain's rmse: 6.55727\teval's rmse: 6.53083\n",
      "[200]\ttrain's rmse: 5.99115\teval's rmse: 6.15745\n",
      "[300]\ttrain's rmse: 5.64893\teval's rmse: 6.0433\n",
      "[400]\ttrain's rmse: 5.38358\teval's rmse: 5.94211\n",
      "[500]\ttrain's rmse: 5.17232\teval's rmse: 5.92261\n"
     ]
    },
    {
     "name": "stderr",
     "output_type": "stream",
     "text": [
      "feature_fraction_stage2, val_score: 5.891173:  67%|#########################3            | 4/6 [00:02<00:01,  1.78it/s]\u001b[32m[I 2021-06-20 17:59:10,334]\u001b[0m Trial 40 finished with value: 5.891173004549726 and parameters: {'feature_fraction': 0.584}. Best is trial 37 with value: 5.891173004549726.\u001b[0m\n",
      "feature_fraction_stage2, val_score: 5.891173:  67%|#########################3            | 4/6 [00:02<00:01,  1.78it/s]"
     ]
    },
    {
     "name": "stdout",
     "output_type": "stream",
     "text": [
      "[600]\ttrain's rmse: 4.9882\teval's rmse: 5.90652\n",
      "Early stopping, best iteration is:\n",
      "[571]\ttrain's rmse: 5.04014\teval's rmse: 5.89117\n",
      "Training until validation scores don't improve for 100 rounds\n",
      "[100]\ttrain's rmse: 6.516\teval's rmse: 6.49102\n",
      "[200]\ttrain's rmse: 5.95799\teval's rmse: 6.17353\n",
      "[300]\ttrain's rmse: 5.62196\teval's rmse: 6.0568\n",
      "[400]\ttrain's rmse: 5.35719\teval's rmse: 5.96432\n",
      "[500]\ttrain's rmse: 5.15223\teval's rmse: 5.96275\n",
      "[600]\ttrain's rmse: 4.96353\teval's rmse: 5.96687\n",
      "[700]\ttrain's rmse: 4.80059\teval's rmse: 5.9457\n",
      "[800]\ttrain's rmse: 4.6704\teval's rmse: 5.94302\n"
     ]
    },
    {
     "name": "stderr",
     "output_type": "stream",
     "text": [
      "feature_fraction_stage2, val_score: 5.891173:  83%|###############################6      | 5/6 [00:02<00:00,  1.70it/s]\u001b[32m[I 2021-06-20 17:59:10,972]\u001b[0m Trial 41 finished with value: 5.932816778249385 and parameters: {'feature_fraction': 0.6479999999999999}. Best is trial 37 with value: 5.891173004549726.\u001b[0m\n",
      "feature_fraction_stage2, val_score: 5.891173:  83%|###############################6      | 5/6 [00:02<00:00,  1.70it/s]"
     ]
    },
    {
     "name": "stdout",
     "output_type": "stream",
     "text": [
      "Early stopping, best iteration is:\n",
      "[761]\ttrain's rmse: 4.7175\teval's rmse: 5.93282\n",
      "Training until validation scores don't improve for 100 rounds\n",
      "[100]\ttrain's rmse: 6.5629\teval's rmse: 6.56175\n",
      "[200]\ttrain's rmse: 5.9992\teval's rmse: 6.18304\n",
      "[300]\ttrain's rmse: 5.66847\teval's rmse: 6.06361\n",
      "[400]\ttrain's rmse: 5.40913\teval's rmse: 5.97613\n",
      "[500]\ttrain's rmse: 5.20059\teval's rmse: 5.95226\n"
     ]
    },
    {
     "name": "stderr",
     "output_type": "stream",
     "text": [
      "feature_fraction_stage2, val_score: 5.891173: 100%|######################################| 6/6 [00:03<00:00,  1.75it/s]\u001b[32m[I 2021-06-20 17:59:11,508]\u001b[0m Trial 42 finished with value: 5.919880801050558 and parameters: {'feature_fraction': 0.552}. Best is trial 37 with value: 5.891173004549726.\u001b[0m\n",
      "feature_fraction_stage2, val_score: 5.891173: 100%|######################################| 6/6 [00:03<00:00,  1.75it/s]\n",
      "regularization_factors, val_score: 5.891173:   0%|                                              | 0/20 [00:00<?, ?it/s]"
     ]
    },
    {
     "name": "stdout",
     "output_type": "stream",
     "text": [
      "[600]\ttrain's rmse: 5.02088\teval's rmse: 5.92959\n",
      "Early stopping, best iteration is:\n",
      "[572]\ttrain's rmse: 5.06696\teval's rmse: 5.91988\n",
      "Training until validation scores don't improve for 100 rounds\n",
      "[100]\ttrain's rmse: 6.55975\teval's rmse: 6.53158\n",
      "[200]\ttrain's rmse: 6.00838\teval's rmse: 6.18914\n",
      "[300]\ttrain's rmse: 5.67003\teval's rmse: 6.07173\n",
      "[400]\ttrain's rmse: 5.413\teval's rmse: 5.99201\n",
      "[500]\ttrain's rmse: 5.20518\teval's rmse: 5.9554\n",
      "[600]\ttrain's rmse: 5.01622\teval's rmse: 5.92902\n",
      "[700]\ttrain's rmse: 4.85998\teval's rmse: 5.91143\n"
     ]
    },
    {
     "name": "stderr",
     "output_type": "stream",
     "text": [
      "regularization_factors, val_score: 5.891173:   5%|#9                                    | 1/20 [00:00<00:13,  1.46it/s]\u001b[32m[I 2021-06-20 17:59:12,210]\u001b[0m Trial 43 finished with value: 5.899049327003171 and parameters: {'lambda_l1': 0.24491923772584287, 'lambda_l2': 0.0004285396176800158}. Best is trial 43 with value: 5.899049327003171.\u001b[0m\n",
      "regularization_factors, val_score: 5.891173:   5%|#9                                    | 1/20 [00:00<00:13,  1.46it/s]"
     ]
    },
    {
     "name": "stdout",
     "output_type": "stream",
     "text": [
      "[800]\ttrain's rmse: 4.72905\teval's rmse: 5.91086\n",
      "Early stopping, best iteration is:\n",
      "[782]\ttrain's rmse: 4.74976\teval's rmse: 5.89905\n",
      "Training until validation scores don't improve for 100 rounds\n",
      "[100]\ttrain's rmse: 6.55651\teval's rmse: 6.53255\n",
      "[200]\ttrain's rmse: 5.99693\teval's rmse: 6.16131\n",
      "[300]\ttrain's rmse: 5.64642\teval's rmse: 6.03439\n",
      "[400]\ttrain's rmse: 5.37998\teval's rmse: 5.95254\n",
      "[500]\ttrain's rmse: 5.1765\teval's rmse: 5.94247\n",
      "[600]\ttrain's rmse: 4.99226\teval's rmse: 5.90212\n",
      "[700]\ttrain's rmse: 4.83954\teval's rmse: 5.88703\n",
      "[800]\ttrain's rmse: 4.70361\teval's rmse: 5.89248\n"
     ]
    },
    {
     "name": "stderr",
     "output_type": "stream",
     "text": [
      "regularization_factors, val_score: 5.872923:  10%|###8                                  | 2/20 [00:01<00:12,  1.45it/s]\u001b[32m[I 2021-06-20 17:59:12,898]\u001b[0m Trial 44 finished with value: 5.872923263911702 and parameters: {'lambda_l1': 0.0030286068687787283, 'lambda_l2': 3.589517821607864e-05}. Best is trial 44 with value: 5.872923263911702.\u001b[0m\n",
      "regularization_factors, val_score: 5.872923:  10%|###8                                  | 2/20 [00:01<00:12,  1.45it/s]"
     ]
    },
    {
     "name": "stdout",
     "output_type": "stream",
     "text": [
      "Early stopping, best iteration is:\n",
      "[761]\ttrain's rmse: 4.75409\teval's rmse: 5.87292\n",
      "Training until validation scores don't improve for 100 rounds\n",
      "[100]\ttrain's rmse: 6.54977\teval's rmse: 6.53843\n",
      "[200]\ttrain's rmse: 6.00122\teval's rmse: 6.18225\n",
      "[300]\ttrain's rmse: 5.66171\teval's rmse: 6.03956\n",
      "[400]\ttrain's rmse: 5.39196\teval's rmse: 5.95973\n",
      "[500]\ttrain's rmse: 5.18462\teval's rmse: 5.94073\n"
     ]
    },
    {
     "name": "stderr",
     "output_type": "stream",
     "text": [
      "regularization_factors, val_score: 5.872923:  15%|#####7                                | 3/20 [00:01<00:10,  1.64it/s]\u001b[32m[I 2021-06-20 17:59:13,419]\u001b[0m Trial 45 finished with value: 5.909505039042493 and parameters: {'lambda_l1': 0.00014391343834432407, 'lambda_l2': 0.026864007293211742}. Best is trial 44 with value: 5.872923263911702.\u001b[0m\n",
      "regularization_factors, val_score: 5.872923:  15%|#####7                                | 3/20 [00:01<00:10,  1.64it/s]"
     ]
    },
    {
     "name": "stdout",
     "output_type": "stream",
     "text": [
      "[600]\ttrain's rmse: 4.99946\teval's rmse: 5.92358\n",
      "Early stopping, best iteration is:\n",
      "[575]\ttrain's rmse: 5.04191\teval's rmse: 5.90951\n",
      "Training until validation scores don't improve for 100 rounds\n",
      "[100]\ttrain's rmse: 6.60005\teval's rmse: 6.57775\n",
      "[200]\ttrain's rmse: 6.04789\teval's rmse: 6.21233\n",
      "[300]\ttrain's rmse: 5.71246\teval's rmse: 6.06309\n",
      "[400]\ttrain's rmse: 5.4559\teval's rmse: 5.96993\n",
      "[500]\ttrain's rmse: 5.25083\teval's rmse: 5.95483\n",
      "[600]\ttrain's rmse: 5.07279\teval's rmse: 5.92469\n",
      "[700]\ttrain's rmse: 4.90952\teval's rmse: 5.90497\n"
     ]
    },
    {
     "name": "stderr",
     "output_type": "stream",
     "text": [
      "regularization_factors, val_score: 5.872923:  20%|#######6                              | 4/20 [00:02<00:11,  1.43it/s]\u001b[32m[I 2021-06-20 17:59:14,250]\u001b[0m Trial 46 finished with value: 5.899801276344135 and parameters: {'lambda_l1': 6.711355325279341e-07, 'lambda_l2': 2.387397980489523}. Best is trial 44 with value: 5.872923263911702.\u001b[0m\n",
      "regularization_factors, val_score: 5.872923:  20%|#######6                              | 4/20 [00:02<00:11,  1.43it/s]"
     ]
    },
    {
     "name": "stdout",
     "output_type": "stream",
     "text": [
      "[800]\ttrain's rmse: 4.78079\teval's rmse: 5.91091\n",
      "Early stopping, best iteration is:\n",
      "[739]\ttrain's rmse: 4.85633\teval's rmse: 5.8998\n",
      "Training until validation scores don't improve for 100 rounds\n",
      "[100]\ttrain's rmse: 6.5487\teval's rmse: 6.53226\n",
      "[200]\ttrain's rmse: 5.98684\teval's rmse: 6.16244\n",
      "[300]\ttrain's rmse: 5.64344\teval's rmse: 6.04442\n",
      "[400]\ttrain's rmse: 5.38138\teval's rmse: 5.95725\n",
      "[500]\ttrain's rmse: 5.16724\teval's rmse: 5.94744\n",
      "[600]\ttrain's rmse: 4.97853\teval's rmse: 5.90645\n",
      "[700]\ttrain's rmse: 4.82277\teval's rmse: 5.89562\n",
      "[800]\ttrain's rmse: 4.69219\teval's rmse: 5.89614\n",
      "Early stopping, best iteration is:\n",
      "[724]\ttrain's rmse: 4.78756\teval's rmse: 5.88174\n"
     ]
    },
    {
     "name": "stderr",
     "output_type": "stream",
     "text": [
      "regularization_factors, val_score: 5.872923:  25%|#########5                            | 5/20 [00:03<00:10,  1.46it/s]\u001b[32m[I 2021-06-20 17:59:14,911]\u001b[0m Trial 47 finished with value: 5.881743531648714 and parameters: {'lambda_l1': 0.0014001866109736247, 'lambda_l2': 0.008841329684669972}. Best is trial 44 with value: 5.872923263911702.\u001b[0m\n",
      "regularization_factors, val_score: 5.872923:  25%|#########5                            | 5/20 [00:03<00:10,  1.46it/s]"
     ]
    },
    {
     "name": "stdout",
     "output_type": "stream",
     "text": [
      "Training until validation scores don't improve for 100 rounds\n",
      "[100]\ttrain's rmse: 6.55728\teval's rmse: 6.53368\n",
      "[200]\ttrain's rmse: 6.0039\teval's rmse: 6.17912\n",
      "[300]\ttrain's rmse: 5.6723\teval's rmse: 6.06948\n",
      "[400]\ttrain's rmse: 5.41046\teval's rmse: 5.98565\n",
      "[500]\ttrain's rmse: 5.20059\teval's rmse: 5.98764\n",
      "[600]\ttrain's rmse: 5.00742\teval's rmse: 5.97107\n",
      "[700]\ttrain's rmse: 4.84609\teval's rmse: 5.94692\n",
      "[800]\ttrain's rmse: 4.71598\teval's rmse: 5.94759\n",
      "[900]\ttrain's rmse: 4.59596\teval's rmse: 5.9349"
     ]
    },
    {
     "name": "stderr",
     "output_type": "stream",
     "text": [
      "regularization_factors, val_score: 5.872923:  30%|###########4                          | 6/20 [00:04<00:10,  1.37it/s]\u001b[32m[I 2021-06-20 17:59:15,727]\u001b[0m Trial 48 finished with value: 5.932360880956308 and parameters: {'lambda_l1': 7.682870551527217e-07, 'lambda_l2': 0.5777000079472929}. Best is trial 44 with value: 5.872923263911702.\u001b[0m\n",
      "regularization_factors, val_score: 5.872923:  30%|###########4                          | 6/20 [00:04<00:10,  1.37it/s]"
     ]
    },
    {
     "name": "stdout",
     "output_type": "stream",
     "text": [
      "\n",
      "Early stopping, best iteration is:\n",
      "[872]\ttrain's rmse: 4.6293\teval's rmse: 5.93236\n",
      "Training until validation scores don't improve for 100 rounds\n",
      "[100]\ttrain's rmse: 6.59236\teval's rmse: 6.56389\n",
      "[200]\ttrain's rmse: 6.05612\teval's rmse: 6.2124\n",
      "[300]\ttrain's rmse: 5.73475\teval's rmse: 6.09706\n",
      "[400]\ttrain's rmse: 5.47422\teval's rmse: 6.00087\n",
      "[500]\ttrain's rmse: 5.28285\teval's rmse: 5.9783\n",
      "[600]\ttrain's rmse: 5.10517\teval's rmse: 5.94573\n",
      "[700]\ttrain's rmse: 4.96594\teval's rmse: 5.92496\n",
      "[800]\ttrain's rmse: 4.84744\teval's rmse: 5.93086\n"
     ]
    },
    {
     "name": "stderr",
     "output_type": "stream",
     "text": [
      "regularization_factors, val_score: 5.872923:  35%|#############3                        | 7/20 [00:04<00:09,  1.39it/s]\u001b[32m[I 2021-06-20 17:59:16,425]\u001b[0m Trial 49 finished with value: 5.915421096913553 and parameters: {'lambda_l1': 8.31855085327096, 'lambda_l2': 2.427102989318848e-05}. Best is trial 44 with value: 5.872923263911702.\u001b[0m\n",
      "regularization_factors, val_score: 5.872923:  35%|#############3                        | 7/20 [00:04<00:09,  1.39it/s]"
     ]
    },
    {
     "name": "stdout",
     "output_type": "stream",
     "text": [
      "Early stopping, best iteration is:\n",
      "[778]\ttrain's rmse: 4.87366\teval's rmse: 5.91542\n",
      "Training until validation scores don't improve for 100 rounds\n",
      "[100]\ttrain's rmse: 6.5565\teval's rmse: 6.53254\n",
      "[200]\ttrain's rmse: 5.99692\teval's rmse: 6.1613\n",
      "[300]\ttrain's rmse: 5.6464\teval's rmse: 6.03438\n",
      "[400]\ttrain's rmse: 5.37947\teval's rmse: 5.96014\n",
      "[500]\ttrain's rmse: 5.16813\teval's rmse: 5.94301\n",
      "[600]\ttrain's rmse: 4.97172\teval's rmse: 5.91782\n",
      "[700]\ttrain's rmse: 4.81304\teval's rmse: 5.90207\n",
      "[800]\ttrain's rmse: 4.6778\teval's rmse: 5.89469\n",
      "Early stopping, best iteration is:\n",
      "[780]\ttrain's rmse: 4.70627\teval's rmse: 5.88116\n"
     ]
    },
    {
     "name": "stderr",
     "output_type": "stream",
     "text": [
      "regularization_factors, val_score: 5.872923:  40%|###############2                      | 8/20 [00:05<00:08,  1.39it/s]\u001b[32m[I 2021-06-20 17:59:17,154]\u001b[0m Trial 50 finished with value: 5.881157848774331 and parameters: {'lambda_l1': 0.0003573299613636379, 'lambda_l2': 0.00013806166873472575}. Best is trial 44 with value: 5.872923263911702.\u001b[0m\n",
      "regularization_factors, val_score: 5.872923:  40%|###############2                      | 8/20 [00:05<00:08,  1.39it/s]"
     ]
    },
    {
     "name": "stdout",
     "output_type": "stream",
     "text": [
      "Training until validation scores don't improve for 100 rounds\n",
      "[100]\ttrain's rmse: 6.55727\teval's rmse: 6.53083\n",
      "[200]\ttrain's rmse: 5.99115\teval's rmse: 6.15745\n",
      "[300]\ttrain's rmse: 5.64893\teval's rmse: 6.0433\n",
      "[400]\ttrain's rmse: 5.38358\teval's rmse: 5.94211\n",
      "[500]\ttrain's rmse: 5.17232\teval's rmse: 5.92261\n"
     ]
    },
    {
     "name": "stderr",
     "output_type": "stream",
     "text": [
      "regularization_factors, val_score: 5.872923:  45%|#################1                    | 9/20 [00:06<00:08,  1.23it/s]\u001b[32m[I 2021-06-20 17:59:18,165]\u001b[0m Trial 51 finished with value: 5.891172979413561 and parameters: {'lambda_l1': 1.8758312761790544e-08, 'lambda_l2': 6.361328106617422e-05}. Best is trial 44 with value: 5.872923263911702.\u001b[0m\n",
      "regularization_factors, val_score: 5.872923:  45%|#################1                    | 9/20 [00:06<00:08,  1.23it/s]"
     ]
    },
    {
     "name": "stdout",
     "output_type": "stream",
     "text": [
      "[600]\ttrain's rmse: 4.9882\teval's rmse: 5.90652\n",
      "Early stopping, best iteration is:\n",
      "[571]\ttrain's rmse: 5.04014\teval's rmse: 5.89117\n",
      "Training until validation scores don't improve for 100 rounds\n",
      "[100]\ttrain's rmse: 6.54677\teval's rmse: 6.53\n",
      "[200]\ttrain's rmse: 5.99542\teval's rmse: 6.1778\n",
      "[300]\ttrain's rmse: 5.65215\teval's rmse: 6.04906\n",
      "[400]\ttrain's rmse: 5.3863\teval's rmse: 5.96969\n"
     ]
    },
    {
     "name": "stderr",
     "output_type": "stream",
     "text": [
      "regularization_factors, val_score: 5.872923:  50%|##################5                  | 10/20 [00:07<00:07,  1.27it/s]\u001b[32m[I 2021-06-20 17:59:18,899]\u001b[0m Trial 52 finished with value: 5.905472106886103 and parameters: {'lambda_l1': 0.00012083031159999179, 'lambda_l2': 0.15644211841317607}. Best is trial 44 with value: 5.872923263911702.\u001b[0m\n",
      "regularization_factors, val_score: 5.872923:  50%|##################5                  | 10/20 [00:07<00:07,  1.27it/s]"
     ]
    },
    {
     "name": "stdout",
     "output_type": "stream",
     "text": [
      "[500]\ttrain's rmse: 5.17301\teval's rmse: 5.95371\n",
      "[600]\ttrain's rmse: 4.99382\teval's rmse: 5.91882\n",
      "Early stopping, best iteration is:\n",
      "[571]\ttrain's rmse: 5.0423\teval's rmse: 5.90547\n",
      "Training until validation scores don't improve for 100 rounds\n",
      "[100]\ttrain's rmse: 6.55657\teval's rmse: 6.5326\n",
      "[200]\ttrain's rmse: 6.00098\teval's rmse: 6.17381\n",
      "[300]\ttrain's rmse: 5.66403\teval's rmse: 6.04948\n",
      "[400]\ttrain's rmse: 5.39471\teval's rmse: 5.95217\n",
      "[500]\ttrain's rmse: 5.18982\teval's rmse: 5.93677\n"
     ]
    },
    {
     "name": "stderr",
     "output_type": "stream",
     "text": [
      "regularization_factors, val_score: 5.872923:  55%|####################3                | 11/20 [00:08<00:07,  1.21it/s]\u001b[32m[I 2021-06-20 17:59:19,807]\u001b[0m Trial 53 finished with value: 5.903706617725723 and parameters: {'lambda_l1': 0.024062329358436167, 'lambda_l2': 1.821908716040835e-08}. Best is trial 44 with value: 5.872923263911702.\u001b[0m\n",
      "regularization_factors, val_score: 5.872923:  55%|####################3                | 11/20 [00:08<00:07,  1.21it/s]"
     ]
    },
    {
     "name": "stdout",
     "output_type": "stream",
     "text": [
      "[600]\ttrain's rmse: 4.99127\teval's rmse: 5.91758\n",
      "Early stopping, best iteration is:\n",
      "[573]\ttrain's rmse: 5.04136\teval's rmse: 5.90371\n",
      "Training until validation scores don't improve for 100 rounds\n",
      "[100]\ttrain's rmse: 6.5565\teval's rmse: 6.53254\n",
      "[200]\ttrain's rmse: 5.99693\teval's rmse: 6.16131\n",
      "[300]\ttrain's rmse: 5.64642\teval's rmse: 6.03439\n",
      "[400]\ttrain's rmse: 5.37997\teval's rmse: 5.95254\n",
      "[500]\ttrain's rmse: 5.17649\teval's rmse: 5.94247\n",
      "[600]\ttrain's rmse: 4.99226\teval's rmse: 5.90212\n",
      "[700]\ttrain's rmse: 4.83441\teval's rmse: 5.88451\n",
      "[800]\ttrain's rmse: 4.70178\teval's rmse: 5.88292\n"
     ]
    },
    {
     "name": "stderr",
     "output_type": "stream",
     "text": [
      "regularization_factors, val_score: 5.869539:  60%|######################2              | 12/20 [00:09<00:07,  1.14it/s]\u001b[32m[I 2021-06-20 17:59:20,795]\u001b[0m Trial 54 finished with value: 5.869539276476782 and parameters: {'lambda_l1': 0.0025057399699013935, 'lambda_l2': 4.63742352250014e-07}. Best is trial 54 with value: 5.869539276476782.\u001b[0m\n",
      "regularization_factors, val_score: 5.869539:  60%|######################2              | 12/20 [00:09<00:07,  1.14it/s]"
     ]
    },
    {
     "name": "stdout",
     "output_type": "stream",
     "text": [
      "Early stopping, best iteration is:\n",
      "[724]\ttrain's rmse: 4.80045\teval's rmse: 5.86954\n",
      "Training until validation scores don't improve for 100 rounds\n",
      "[100]\ttrain's rmse: 6.55656\teval's rmse: 6.53259\n",
      "[200]\ttrain's rmse: 6.00097\teval's rmse: 6.17381\n",
      "[300]\ttrain's rmse: 5.66402\teval's rmse: 6.04948\n",
      "[400]\ttrain's rmse: 5.39469\teval's rmse: 5.95217\n",
      "[500]\ttrain's rmse: 5.1898\teval's rmse: 5.93677\n"
     ]
    },
    {
     "name": "stderr",
     "output_type": "stream",
     "text": [
      "regularization_factors, val_score: 5.869539:  65%|########################             | 13/20 [00:09<00:05,  1.30it/s]\u001b[32m[I 2021-06-20 17:59:21,318]\u001b[0m Trial 55 finished with value: 5.90370687438465 and parameters: {'lambda_l1': 0.022378854974559013, 'lambda_l2': 1.6438063271425623e-07}. Best is trial 54 with value: 5.869539276476782.\u001b[0m\n",
      "regularization_factors, val_score: 5.869539:  65%|########################             | 13/20 [00:09<00:05,  1.30it/s]"
     ]
    },
    {
     "name": "stdout",
     "output_type": "stream",
     "text": [
      "[600]\ttrain's rmse: 4.99124\teval's rmse: 5.91758\n",
      "Early stopping, best iteration is:\n",
      "[573]\ttrain's rmse: 5.04134\teval's rmse: 5.90371\n",
      "Training until validation scores don't improve for 100 rounds\n",
      "[100]\ttrain's rmse: 6.56206\teval's rmse: 6.5477\n",
      "[200]\ttrain's rmse: 6.00737\teval's rmse: 6.20222\n",
      "[300]\ttrain's rmse: 5.6687\teval's rmse: 6.07275\n",
      "[400]\ttrain's rmse: 5.40987\teval's rmse: 5.9768\n",
      "[500]\ttrain's rmse: 5.20094\teval's rmse: 5.9622\n",
      "[600]\ttrain's rmse: 5.01559\teval's rmse: 5.92888\n",
      "[700]\ttrain's rmse: 4.8627\teval's rmse: 5.9232\n",
      "[800]\ttrain's rmse: 4.73251\teval's rmse: 5.92166\n"
     ]
    },
    {
     "name": "stderr",
     "output_type": "stream",
     "text": [
      "regularization_factors, val_score: 5.869539:  70%|#########################9           | 14/20 [00:10<00:04,  1.31it/s]\u001b[32m[I 2021-06-20 17:59:22,071]\u001b[0m Trial 56 finished with value: 5.904457620743572 and parameters: {'lambda_l1': 2.7707543851901213, 'lambda_l2': 1.8395240801180768e-06}. Best is trial 54 with value: 5.869539276476782.\u001b[0m\n",
      "regularization_factors, val_score: 5.869539:  70%|#########################9           | 14/20 [00:10<00:04,  1.31it/s]"
     ]
    },
    {
     "name": "stdout",
     "output_type": "stream",
     "text": [
      "[900]\ttrain's rmse: 4.60958\teval's rmse: 5.91239\n",
      "Early stopping, best iteration is:\n",
      "[840]\ttrain's rmse: 4.68507\teval's rmse: 5.90446\n",
      "Training until validation scores don't improve for 100 rounds\n",
      "[100]\ttrain's rmse: 6.55727\teval's rmse: 6.53083\n",
      "[200]\ttrain's rmse: 5.99115\teval's rmse: 6.15745\n",
      "[300]\ttrain's rmse: 5.64893\teval's rmse: 6.0433\n",
      "[400]\ttrain's rmse: 5.38358\teval's rmse: 5.94211\n"
     ]
    },
    {
     "name": "stderr",
     "output_type": "stream",
     "text": [
      "regularization_factors, val_score: 5.869539:  75%|###########################7         | 15/20 [00:11<00:03,  1.45it/s]\u001b[32m[I 2021-06-20 17:59:22,592]\u001b[0m Trial 57 finished with value: 5.891173003511836 and parameters: {'lambda_l1': 6.080629195964339e-06, 'lambda_l2': 7.706600512793239e-07}. Best is trial 54 with value: 5.869539276476782.\u001b[0m\n",
      "regularization_factors, val_score: 5.869539:  75%|###########################7         | 15/20 [00:11<00:03,  1.45it/s]"
     ]
    },
    {
     "name": "stdout",
     "output_type": "stream",
     "text": [
      "[500]\ttrain's rmse: 5.17232\teval's rmse: 5.92261\n",
      "[600]\ttrain's rmse: 4.9882\teval's rmse: 5.90652\n",
      "Early stopping, best iteration is:\n",
      "[571]\ttrain's rmse: 5.04014\teval's rmse: 5.89117\n",
      "Training until validation scores don't improve for 100 rounds\n",
      "[100]\ttrain's rmse: 6.55652\teval's rmse: 6.53256\n",
      "[200]\ttrain's rmse: 6.00088\teval's rmse: 6.17376\n",
      "[300]\ttrain's rmse: 5.66268\teval's rmse: 6.05621\n",
      "[400]\ttrain's rmse: 5.39773\teval's rmse: 5.98073\n",
      "[500]\ttrain's rmse: 5.19375\teval's rmse: 5.96624\n",
      "[600]\ttrain's rmse: 5.00208\teval's rmse: 5.9299\n"
     ]
    },
    {
     "name": "stderr",
     "output_type": "stream",
     "text": [
      "regularization_factors, val_score: 5.869539:  80%|#############################6       | 16/20 [00:11<00:02,  1.51it/s]\u001b[32m[I 2021-06-20 17:59:23,194]\u001b[0m Trial 58 finished with value: 5.914087302881112 and parameters: {'lambda_l1': 0.0075541810121011665, 'lambda_l2': 5.591105975338637e-06}. Best is trial 54 with value: 5.869539276476782.\u001b[0m\n",
      "regularization_factors, val_score: 5.869539:  80%|#############################6       | 16/20 [00:11<00:02,  1.51it/s]"
     ]
    },
    {
     "name": "stdout",
     "output_type": "stream",
     "text": [
      "[700]\ttrain's rmse: 4.83653\teval's rmse: 5.91552\n",
      "Early stopping, best iteration is:\n",
      "[694]\ttrain's rmse: 4.84394\teval's rmse: 5.91409\n",
      "Training until validation scores don't improve for 100 rounds\n",
      "[100]\ttrain's rmse: 6.55904\teval's rmse: 6.52617\n",
      "[200]\ttrain's rmse: 6.00558\teval's rmse: 6.16334\n",
      "[300]\ttrain's rmse: 5.65833\teval's rmse: 6.03757\n",
      "[400]\ttrain's rmse: 5.39596\teval's rmse: 5.97143\n",
      "[500]\ttrain's rmse: 5.18273\teval's rmse: 5.94079\n",
      "[600]\ttrain's rmse: 4.9984\teval's rmse: 5.91176\n",
      "[700]\ttrain's rmse: 4.83962\teval's rmse: 5.89231\n",
      "[800]\ttrain's rmse: 4.70688\teval's rmse: 5.89712\n"
     ]
    },
    {
     "name": "stderr",
     "output_type": "stream",
     "text": [
      "regularization_factors, val_score: 5.869539:  85%|###############################4     | 17/20 [00:12<00:02,  1.48it/s]\u001b[32m[I 2021-06-20 17:59:23,891]\u001b[0m Trial 59 finished with value: 5.883760542090862 and parameters: {'lambda_l1': 0.26969775808930685, 'lambda_l2': 1.2244393917424593e-08}. Best is trial 54 with value: 5.869539276476782.\u001b[0m\n",
      "regularization_factors, val_score: 5.869539:  85%|###############################4     | 17/20 [00:12<00:02,  1.48it/s]"
     ]
    },
    {
     "name": "stdout",
     "output_type": "stream",
     "text": [
      "[900]\ttrain's rmse: 4.58714\teval's rmse: 5.89353\n",
      "Early stopping, best iteration is:\n",
      "[840]\ttrain's rmse: 4.66017\teval's rmse: 5.88376\n",
      "Training until validation scores don't improve for 100 rounds\n",
      "[100]\ttrain's rmse: 6.55651\teval's rmse: 6.53255\n",
      "[200]\ttrain's rmse: 5.99693\teval's rmse: 6.16131\n",
      "[300]\ttrain's rmse: 5.64642\teval's rmse: 6.03439\n",
      "[400]\ttrain's rmse: 5.37949\teval's rmse: 5.96015\n",
      "[500]\ttrain's rmse: 5.16815\teval's rmse: 5.94301\n",
      "[600]\ttrain's rmse: 4.97174\teval's rmse: 5.91782\n",
      "[700]\ttrain's rmse: 4.81307\teval's rmse: 5.90206\n"
     ]
    },
    {
     "name": "stderr",
     "output_type": "stream",
     "text": [
      "regularization_factors, val_score: 5.869539:  90%|#################################3   | 18/20 [00:13<00:01,  1.46it/s]\u001b[32m[I 2021-06-20 17:59:24,594]\u001b[0m Trial 60 finished with value: 5.881154063118599 and parameters: {'lambda_l1': 1.0528122451668525e-05, 'lambda_l2': 0.0012091904969020676}. Best is trial 54 with value: 5.869539276476782.\u001b[0m\n",
      "regularization_factors, val_score: 5.869539:  90%|#################################3   | 18/20 [00:13<00:01,  1.46it/s]"
     ]
    },
    {
     "name": "stdout",
     "output_type": "stream",
     "text": [
      "[800]\ttrain's rmse: 4.67782\teval's rmse: 5.89468\n",
      "Early stopping, best iteration is:\n",
      "[780]\ttrain's rmse: 4.70629\teval's rmse: 5.88115\n",
      "Training until validation scores don't improve for 100 rounds\n",
      "[100]\ttrain's rmse: 6.55651\teval's rmse: 6.53255\n",
      "[200]\ttrain's rmse: 5.99693\teval's rmse: 6.16131\n",
      "[300]\ttrain's rmse: 5.64642\teval's rmse: 6.03439\n",
      "[400]\ttrain's rmse: 5.37997\teval's rmse: 5.95254\n",
      "[500]\ttrain's rmse: 5.1765\teval's rmse: 5.94247\n",
      "[600]\ttrain's rmse: 4.99226\teval's rmse: 5.90212\n",
      "[700]\ttrain's rmse: 4.83954\teval's rmse: 5.88703\n",
      "[800]\ttrain's rmse: 4.7036\teval's rmse: 5.89248\n"
     ]
    },
    {
     "name": "stderr",
     "output_type": "stream",
     "text": [
      "regularization_factors, val_score: 5.869539:  95%|###################################1 | 19/20 [00:13<00:00,  1.46it/s]\u001b[32m[I 2021-06-20 17:59:25,288]\u001b[0m Trial 61 finished with value: 5.8729235231995744 and parameters: {'lambda_l1': 0.002961153131146058, 'lambda_l2': 1.352872777887162e-07}. Best is trial 54 with value: 5.869539276476782.\u001b[0m\n",
      "regularization_factors, val_score: 5.869539:  95%|###################################1 | 19/20 [00:13<00:00,  1.46it/s]"
     ]
    },
    {
     "name": "stdout",
     "output_type": "stream",
     "text": [
      "Early stopping, best iteration is:\n",
      "[761]\ttrain's rmse: 4.75409\teval's rmse: 5.87292\n",
      "Training until validation scores don't improve for 100 rounds\n",
      "[100]\ttrain's rmse: 6.55963\teval's rmse: 6.52723\n",
      "[200]\ttrain's rmse: 6.00872\teval's rmse: 6.17402\n",
      "[300]\ttrain's rmse: 5.65946\teval's rmse: 6.0359\n",
      "[400]\ttrain's rmse: 5.39588\teval's rmse: 5.95869\n",
      "[500]\ttrain's rmse: 5.18027\teval's rmse: 5.94393\n",
      "[600]\ttrain's rmse: 5.00017\teval's rmse: 5.92375\n",
      "[700]\ttrain's rmse: 4.84671\teval's rmse: 5.91256\n",
      "[800]\ttrain's rmse: 4.71238\teval's rmse: 5.91608\n",
      "[900]\ttrain's rmse: 4.58341\teval's rmse: 5.90634\n",
      "Early stopping, best iteration is:\n",
      "[844]\ttrain's rmse: 4.65837\teval's rmse: 5.90089\n"
     ]
    },
    {
     "name": "stderr",
     "output_type": "stream",
     "text": [
      "regularization_factors, val_score: 5.869539: 100%|#####################################| 20/20 [00:14<00:00,  1.44it/s]\u001b[32m[I 2021-06-20 17:59:26,003]\u001b[0m Trial 62 finished with value: 5.900894106242745 and parameters: {'lambda_l1': 0.2353096784900506, 'lambda_l2': 1.3898096055335953e-05}. Best is trial 54 with value: 5.869539276476782.\u001b[0m\n",
      "regularization_factors, val_score: 5.869539: 100%|#####################################| 20/20 [00:14<00:00,  1.38it/s]\n",
      "min_data_in_leaf, val_score: 5.869539:   0%|                                                     | 0/5 [00:00<?, ?it/s]"
     ]
    },
    {
     "name": "stdout",
     "output_type": "stream",
     "text": [
      "Training until validation scores don't improve for 100 rounds\n",
      "[100]\ttrain's rmse: 7.42388\teval's rmse: 7.35366\n",
      "[200]\ttrain's rmse: 6.9708\teval's rmse: 6.98167\n",
      "[300]\ttrain's rmse: 6.69338\teval's rmse: 6.80038\n",
      "[400]\ttrain's rmse: 6.47188\teval's rmse: 6.67492\n",
      "[500]\ttrain's rmse: 6.28424\teval's rmse: 6.56609\n",
      "[600]\ttrain's rmse: 6.14263\teval's rmse: 6.49732\n",
      "[700]\ttrain's rmse: 6.02447\teval's rmse: 6.44986"
     ]
    },
    {
     "name": "stderr",
     "output_type": "stream",
     "text": [
      "min_data_in_leaf, val_score: 5.869539:  20%|#########                                    | 1/5 [00:00<00:02,  1.48it/s]"
     ]
    },
    {
     "name": "stdout",
     "output_type": "stream",
     "text": [
      "\n",
      "[800]\ttrain's rmse: 5.91197\teval's rmse: 6.41907\n",
      "Early stopping, best iteration is:\n",
      "[780]\ttrain's rmse: 5.93488\teval's rmse: 6.40617\n"
     ]
    },
    {
     "name": "stderr",
     "output_type": "stream",
     "text": [
      "\u001b[32m[I 2021-06-20 17:59:26,691]\u001b[0m Trial 63 finished with value: 6.406171885100046 and parameters: {'min_child_samples': 100}. Best is trial 63 with value: 6.406171885100046.\u001b[0m\n",
      "min_data_in_leaf, val_score: 5.869539:  20%|#########                                    | 1/5 [00:00<00:02,  1.48it/s]"
     ]
    },
    {
     "name": "stdout",
     "output_type": "stream",
     "text": [
      "Training until validation scores don't improve for 100 rounds\n",
      "[100]\ttrain's rmse: 6.60889\teval's rmse: 6.56828\n",
      "[200]\ttrain's rmse: 6.07507\teval's rmse: 6.20427\n",
      "[300]\ttrain's rmse: 5.75592\teval's rmse: 6.04624\n",
      "[400]\ttrain's rmse: 5.50112\teval's rmse: 5.95636\n",
      "[500]\ttrain's rmse: 5.30213\teval's rmse: 5.92235\n",
      "[600]\ttrain's rmse: 5.12986\teval's rmse: 5.90811\n",
      "[700]\ttrain's rmse: 4.99042\teval's rmse: 5.90247\n"
     ]
    },
    {
     "name": "stderr",
     "output_type": "stream",
     "text": [
      "min_data_in_leaf, val_score: 5.869539:  40%|##################                           | 2/5 [00:01<00:02,  1.43it/s]\u001b[32m[I 2021-06-20 17:59:27,406]\u001b[0m Trial 64 finished with value: 5.891157824970683 and parameters: {'min_child_samples': 25}. Best is trial 64 with value: 5.891157824970683.\u001b[0m\n"
     ]
    },
    {
     "name": "stdout",
     "output_type": "stream",
     "text": [
      "[800]\ttrain's rmse: 4.86882\teval's rmse: 5.90129\n",
      "[900]\ttrain's rmse: 4.75155\teval's rmse: 5.89218\n",
      "Early stopping, best iteration is:\n",
      "[893]\ttrain's rmse: 4.76237\teval's rmse: 5.89116\n"
     ]
    },
    {
     "name": "stderr",
     "output_type": "stream",
     "text": [
      "\r",
      "min_data_in_leaf, val_score: 5.869539:  40%|##################                           | 2/5 [00:01<00:02,  1.43it/s]"
     ]
    },
    {
     "name": "stdout",
     "output_type": "stream",
     "text": [
      "Training until validation scores don't improve for 100 rounds\n",
      "[100]\ttrain's rmse: 6.88866\teval's rmse: 6.81284\n",
      "[200]\ttrain's rmse: 6.40815\teval's rmse: 6.40254\n",
      "[300]\ttrain's rmse: 6.10061\teval's rmse: 6.25588\n",
      "[400]\ttrain's rmse: 5.84802\teval's rmse: 6.12885\n",
      "[500]\ttrain's rmse: 5.65448\teval's rmse: 6.07256\n",
      "[600]\ttrain's rmse: 5.4872\teval's rmse: 5.99961\n",
      "[700]\ttrain's rmse: 5.34512\teval's rmse: 5.971\n"
     ]
    },
    {
     "name": "stderr",
     "output_type": "stream",
     "text": [
      "min_data_in_leaf, val_score: 5.869539:  60%|###########################                  | 3/5 [00:02<00:01,  1.46it/s]\u001b[32m[I 2021-06-20 17:59:28,071]\u001b[0m Trial 65 finished with value: 5.945994793043212 and parameters: {'min_child_samples': 50}. Best is trial 64 with value: 5.891157824970683.\u001b[0m\n",
      "min_data_in_leaf, val_score: 5.869539:  60%|###########################                  | 3/5 [00:02<00:01,  1.46it/s]"
     ]
    },
    {
     "name": "stdout",
     "output_type": "stream",
     "text": [
      "[800]\ttrain's rmse: 5.22751\teval's rmse: 5.95394\n",
      "Early stopping, best iteration is:\n",
      "[760]\ttrain's rmse: 5.27176\teval's rmse: 5.94599\n",
      "Training until validation scores don't improve for 100 rounds\n",
      "[100]\ttrain's rmse: 6.43308\teval's rmse: 6.4807\n",
      "[200]\ttrain's rmse: 5.83915\teval's rmse: 6.13484\n",
      "[300]\ttrain's rmse: 5.461\teval's rmse: 6.02377\n",
      "[400]\ttrain's rmse: 5.16374\teval's rmse: 5.93077\n",
      "[500]\ttrain's rmse: 4.92214\teval's rmse: 5.90963\n",
      "[600]\ttrain's rmse: 4.71456\teval's rmse: 5.87649\n",
      "[700]\ttrain's rmse: 4.53447\teval's rmse: 5.86856\n",
      "[800]\ttrain's rmse: 4.38649\teval's rmse: 5.87189\n"
     ]
    },
    {
     "name": "stderr",
     "output_type": "stream",
     "text": [
      "min_data_in_leaf, val_score: 5.845772:  80%|####################################         | 4/5 [00:02<00:00,  1.43it/s]\u001b[32m[I 2021-06-20 17:59:28,794]\u001b[0m Trial 66 finished with value: 5.845772364298764 and parameters: {'min_child_samples': 10}. Best is trial 66 with value: 5.845772364298764.\u001b[0m\n",
      "min_data_in_leaf, val_score: 5.845772:  80%|####################################         | 4/5 [00:02<00:00,  1.43it/s]"
     ]
    },
    {
     "name": "stdout",
     "output_type": "stream",
     "text": [
      "[900]\ttrain's rmse: 4.25796\teval's rmse: 5.85223\n",
      "Early stopping, best iteration is:\n",
      "[833]\ttrain's rmse: 4.34314\teval's rmse: 5.84577\n",
      "Training until validation scores don't improve for 100 rounds\n",
      "[100]\ttrain's rmse: 6.39087\teval's rmse: 6.49936\n",
      "[200]\ttrain's rmse: 5.76709\teval's rmse: 6.13062\n",
      "[300]\ttrain's rmse: 5.35443\teval's rmse: 5.97627\n",
      "[400]\ttrain's rmse: 5.02158\teval's rmse: 5.88541\n",
      "[500]\ttrain's rmse: 4.76003\teval's rmse: 5.86566\n",
      "[600]\ttrain's rmse: 4.53165\teval's rmse: 5.86234"
     ]
    },
    {
     "name": "stderr",
     "output_type": "stream",
     "text": [
      "min_data_in_leaf, val_score: 5.845772: 100%|#############################################| 5/5 [00:03<00:00,  1.61it/s]\u001b[32m[I 2021-06-20 17:59:29,281]\u001b[0m Trial 67 finished with value: 5.852391641870237 and parameters: {'min_child_samples': 5}. Best is trial 66 with value: 5.845772364298764.\u001b[0m\n",
      "min_data_in_leaf, val_score: 5.845772: 100%|#############################################| 5/5 [00:03<00:00,  1.53it/s]\n",
      "\u001b[32m[I 2021-06-20 17:59:29,359]\u001b[0m A new study created in memory with name: no-name-ca3e24c8-b775-4ebd-9eef-b13fc6a25199\u001b[0m\n"
     ]
    },
    {
     "name": "stdout",
     "output_type": "stream",
     "text": [
      "\n",
      "Early stopping, best iteration is:\n",
      "[573]\ttrain's rmse: 4.58874\teval's rmse: 5.85239\n"
     ]
    },
    {
     "name": "stderr",
     "output_type": "stream",
     "text": [
      "feature_fraction, val_score: inf:   0%|                                                          | 0/7 [00:00<?, ?it/s]"
     ]
    },
    {
     "name": "stdout",
     "output_type": "stream",
     "text": [
      "Training until validation scores don't improve for 100 rounds\n",
      "[100]\ttrain's rmse: 5.31099\teval's rmse: 7.32662\n",
      "[200]\ttrain's rmse: 4.42517\teval's rmse: 7.07238\n",
      "[300]\ttrain's rmse: 3.90831\teval's rmse: 6.99981\n",
      "[400]\ttrain's rmse: 3.5422\teval's rmse: 6.94924\n",
      "[500]\ttrain's rmse: 3.23813\teval's rmse: 6.94935\n"
     ]
    },
    {
     "name": "stderr",
     "output_type": "stream",
     "text": [
      "feature_fraction, val_score: 6.926194:  14%|######4                                      | 1/7 [00:00<00:05,  1.02it/s]\u001b[32m[I 2021-06-20 17:59:30,347]\u001b[0m Trial 0 finished with value: 6.926193591821186 and parameters: {'feature_fraction': 0.8999999999999999}. Best is trial 0 with value: 6.926193591821186.\u001b[0m\n",
      "feature_fraction, val_score: 6.926194:  14%|######4                                      | 1/7 [00:00<00:05,  1.02it/s]"
     ]
    },
    {
     "name": "stdout",
     "output_type": "stream",
     "text": [
      "Early stopping, best iteration is:\n",
      "[490]\ttrain's rmse: 3.26299\teval's rmse: 6.92619\n",
      "Training until validation scores don't improve for 100 rounds\n",
      "[100]\ttrain's rmse: 5.31687\teval's rmse: 7.31597\n",
      "[200]\ttrain's rmse: 4.38076\teval's rmse: 7.05726\n",
      "[300]\ttrain's rmse: 3.86032\teval's rmse: 6.95783\n",
      "[400]\ttrain's rmse: 3.4903\teval's rmse: 6.91128\n",
      "[500]\ttrain's rmse: 3.18264\teval's rmse: 6.88588\n",
      "[600]\ttrain's rmse: 2.93398\teval's rmse: 6.86904\n",
      "[700]\ttrain's rmse: 2.73179\teval's rmse: 6.85916\n",
      "[800]\ttrain's rmse: 2.5434\teval's rmse: 6.83669\n",
      "[900]\ttrain's rmse: 2.37496\teval's rmse: 6.85144\n",
      "Early stopping, best iteration is:\n",
      "[820]\ttrain's rmse: 2.50189\teval's rmse: 6.82791\n"
     ]
    },
    {
     "name": "stderr",
     "output_type": "stream",
     "text": [
      "feature_fraction, val_score: 6.827915:  29%|############8                                | 2/7 [00:03<00:08,  1.62s/it]\u001b[32m[I 2021-06-20 17:59:32,418]\u001b[0m Trial 1 finished with value: 6.827914833483263 and parameters: {'feature_fraction': 1.0}. Best is trial 1 with value: 6.827914833483263.\u001b[0m\n",
      "feature_fraction, val_score: 6.827915:  29%|############8                                | 2/7 [00:03<00:08,  1.62s/it]"
     ]
    },
    {
     "name": "stdout",
     "output_type": "stream",
     "text": [
      "Training until validation scores don't improve for 100 rounds\n",
      "[100]\ttrain's rmse: 5.81759\teval's rmse: 7.42908\n",
      "[200]\ttrain's rmse: 5.05087\teval's rmse: 7.1314\n",
      "[300]\ttrain's rmse: 4.58987\teval's rmse: 7.02362\n",
      "[400]\ttrain's rmse: 4.27215\teval's rmse: 6.99747\n",
      "[500]\ttrain's rmse: 4.01798\teval's rmse: 6.94768\n",
      "[600]\ttrain's rmse: 3.80234\teval's rmse: 6.89923\n",
      "[700]\ttrain's rmse: 3.6307\teval's rmse: 6.86776\n",
      "Early stopping, best iteration is:\n",
      "[660]\ttrain's rmse: 3.69698\teval's rmse: 6.85202\n"
     ]
    },
    {
     "name": "stderr",
     "output_type": "stream",
     "text": [
      "feature_fraction, val_score: 6.827915:  43%|###################2                         | 3/7 [00:04<00:06,  1.69s/it]\u001b[32m[I 2021-06-20 17:59:34,185]\u001b[0m Trial 2 finished with value: 6.852021431442538 and parameters: {'feature_fraction': 0.4}. Best is trial 1 with value: 6.827914833483263.\u001b[0m\n",
      "feature_fraction, val_score: 6.827915:  43%|###################2                         | 3/7 [00:04<00:06,  1.69s/it]"
     ]
    },
    {
     "name": "stdout",
     "output_type": "stream",
     "text": [
      "Training until validation scores don't improve for 100 rounds\n",
      "[100]\ttrain's rmse: 5.27568\teval's rmse: 7.32232\n",
      "[200]\ttrain's rmse: 4.44293\teval's rmse: 7.07237\n",
      "[300]\ttrain's rmse: 3.9405\teval's rmse: 6.976\n",
      "[400]\ttrain's rmse: 3.57949\teval's rmse: 6.93607\n",
      "[500]\ttrain's rmse: 3.29169\teval's rmse: 6.92165\n"
     ]
    },
    {
     "name": "stderr",
     "output_type": "stream",
     "text": [
      "feature_fraction, val_score: 6.827915:  57%|#########################7                   | 4/7 [00:05<00:04,  1.44s/it]\u001b[32m[I 2021-06-20 17:59:35,234]\u001b[0m Trial 3 finished with value: 6.9033544724749065 and parameters: {'feature_fraction': 0.8}. Best is trial 1 with value: 6.827914833483263.\u001b[0m\n",
      "feature_fraction, val_score: 6.827915:  57%|#########################7                   | 4/7 [00:05<00:04,  1.44s/it]"
     ]
    },
    {
     "name": "stdout",
     "output_type": "stream",
     "text": [
      "[600]\ttrain's rmse: 3.04965\teval's rmse: 6.91776\n",
      "Early stopping, best iteration is:\n",
      "[517]\ttrain's rmse: 3.25\teval's rmse: 6.90335\n",
      "Training until validation scores don't improve for 100 rounds\n",
      "[100]\ttrain's rmse: 5.55713\teval's rmse: 7.3334\n",
      "[200]\ttrain's rmse: 4.73939\teval's rmse: 7.06543\n",
      "[300]\ttrain's rmse: 4.24871\teval's rmse: 6.93555\n",
      "[400]\ttrain's rmse: 3.91841\teval's rmse: 6.928\n",
      "[500]\ttrain's rmse: 3.66501\teval's rmse: 6.89554\n",
      "[600]\ttrain's rmse: 3.44492\teval's rmse: 6.86276\n",
      "[700]\ttrain's rmse: 3.2648\teval's rmse: 6.85616\n",
      "Early stopping, best iteration is:\n",
      "[657]\ttrain's rmse: 3.34367\teval's rmse: 6.83274\n"
     ]
    },
    {
     "name": "stderr",
     "output_type": "stream",
     "text": [
      "feature_fraction, val_score: 6.827915:  71%|################################1            | 5/7 [00:07<00:02,  1.35s/it]\u001b[32m[I 2021-06-20 17:59:36,433]\u001b[0m Trial 4 finished with value: 6.832742203647747 and parameters: {'feature_fraction': 0.5}. Best is trial 1 with value: 6.827914833483263.\u001b[0m\n",
      "feature_fraction, val_score: 6.827915:  71%|################################1            | 5/7 [00:07<00:02,  1.35s/it]"
     ]
    },
    {
     "name": "stdout",
     "output_type": "stream",
     "text": [
      "Training until validation scores don't improve for 100 rounds\n",
      "[100]\ttrain's rmse: 5.44299\teval's rmse: 7.26556\n",
      "[200]\ttrain's rmse: 4.62103\teval's rmse: 7.01634\n",
      "[300]\ttrain's rmse: 4.12469\teval's rmse: 6.87831\n"
     ]
    },
    {
     "name": "stderr",
     "output_type": "stream",
     "text": [
      "feature_fraction, val_score: 6.827915:  86%|######################################5      | 6/7 [00:07<00:01,  1.10s/it]\u001b[32m[I 2021-06-20 17:59:37,059]\u001b[0m Trial 5 finished with value: 6.872402603991768 and parameters: {'feature_fraction': 0.6}. Best is trial 1 with value: 6.827914833483263.\u001b[0m\n",
      "feature_fraction, val_score: 6.827915:  86%|######################################5      | 6/7 [00:07<00:01,  1.10s/it]"
     ]
    },
    {
     "name": "stdout",
     "output_type": "stream",
     "text": [
      "[400]\ttrain's rmse: 3.7894\teval's rmse: 6.88382\n",
      "Early stopping, best iteration is:\n",
      "[307]\ttrain's rmse: 4.09684\teval's rmse: 6.8724\n",
      "Training until validation scores don't improve for 100 rounds\n",
      "[100]\ttrain's rmse: 5.35602\teval's rmse: 7.26666\n",
      "[200]\ttrain's rmse: 4.50838\teval's rmse: 6.99103\n",
      "[300]\ttrain's rmse: 4.00905\teval's rmse: 6.90812\n",
      "[400]\ttrain's rmse: 3.65688\teval's rmse: 6.84905\n",
      "[500]\ttrain's rmse: 3.35933\teval's rmse: 6.85321\n",
      "[600]\ttrain's rmse: 3.12714\teval's rmse: 6.85085\n",
      "Early stopping, best iteration is:\n",
      "[520]\ttrain's rmse: 3.30941\teval's rmse: 6.82659\n"
     ]
    },
    {
     "name": "stderr",
     "output_type": "stream",
     "text": [
      "feature_fraction, val_score: 6.826585: 100%|#############################################| 7/7 [00:08<00:00,  1.08s/it]\u001b[32m[I 2021-06-20 17:59:38,075]\u001b[0m Trial 6 finished with value: 6.826585281657924 and parameters: {'feature_fraction': 0.7}. Best is trial 6 with value: 6.826585281657924.\u001b[0m\n",
      "feature_fraction, val_score: 6.826585: 100%|#############################################| 7/7 [00:08<00:00,  1.24s/it]\n",
      "num_leaves, val_score: 6.826585:   0%|                                                          | 0/20 [00:00<?, ?it/s]"
     ]
    },
    {
     "name": "stdout",
     "output_type": "stream",
     "text": [
      "Training until validation scores don't improve for 100 rounds\n",
      "[100]\ttrain's rmse: 5.1571\teval's rmse: 7.26651\n",
      "[200]\ttrain's rmse: 4.2309\teval's rmse: 7.03003\n",
      "[300]\ttrain's rmse: 3.6626\teval's rmse: 6.93439\n",
      "[400]\ttrain's rmse: 3.25638\teval's rmse: 6.92927\n"
     ]
    },
    {
     "name": "stderr",
     "output_type": "stream",
     "text": [
      "num_leaves, val_score: 6.826585:   5%|##5                                               | 1/20 [00:01<00:21,  1.11s/it]\u001b[32m[I 2021-06-20 17:59:39,195]\u001b[0m Trial 7 finished with value: 6.918195032326439 and parameters: {'num_leaves': 108}. Best is trial 7 with value: 6.918195032326439.\u001b[0m\n",
      "num_leaves, val_score: 6.826585:   5%|##5                                               | 1/20 [00:01<00:21,  1.11s/it]"
     ]
    },
    {
     "name": "stdout",
     "output_type": "stream",
     "text": [
      "Early stopping, best iteration is:\n",
      "[388]\ttrain's rmse: 3.30488\teval's rmse: 6.9182\n",
      "Training until validation scores don't improve for 100 rounds\n",
      "[100]\ttrain's rmse: 5.1571\teval's rmse: 7.26651\n",
      "[200]\ttrain's rmse: 4.2309\teval's rmse: 7.03003\n",
      "[300]\ttrain's rmse: 3.6626\teval's rmse: 6.93439\n",
      "[400]\ttrain's rmse: 3.25638\teval's rmse: 6.92927\n",
      "Early stopping, best iteration is:\n",
      "[388]\ttrain's rmse: 3.30488\teval's rmse: 6.9182\n"
     ]
    },
    {
     "name": "stderr",
     "output_type": "stream",
     "text": [
      "num_leaves, val_score: 6.826585:  10%|#####                                             | 2/20 [00:02<00:19,  1.10s/it]\u001b[32m[I 2021-06-20 17:59:40,296]\u001b[0m Trial 8 finished with value: 6.918195032326439 and parameters: {'num_leaves': 201}. Best is trial 7 with value: 6.918195032326439.\u001b[0m\n",
      "num_leaves, val_score: 6.826585:  10%|#####                                             | 2/20 [00:02<00:19,  1.10s/it]"
     ]
    },
    {
     "name": "stdout",
     "output_type": "stream",
     "text": [
      "Training until validation scores don't improve for 100 rounds\n",
      "[100]\ttrain's rmse: 5.32905\teval's rmse: 7.25034\n",
      "[200]\ttrain's rmse: 4.48177\teval's rmse: 7.02376\n",
      "[300]\ttrain's rmse: 3.99457\teval's rmse: 6.91334\n",
      "[400]\ttrain's rmse: 3.62829\teval's rmse: 6.90002\n",
      "Early stopping, best iteration is:\n",
      "[384]\ttrain's rmse: 3.6839\teval's rmse: 6.88719\n"
     ]
    },
    {
     "name": "stderr",
     "output_type": "stream",
     "text": [
      "num_leaves, val_score: 6.826585:  15%|#######5                                          | 3/20 [00:03<00:16,  1.04it/s]\u001b[32m[I 2021-06-20 17:59:41,095]\u001b[0m Trial 9 finished with value: 6.887188725289571 and parameters: {'num_leaves': 32}. Best is trial 9 with value: 6.887188725289571.\u001b[0m\n",
      "num_leaves, val_score: 6.826585:  15%|#######5                                          | 3/20 [00:03<00:16,  1.04it/s]"
     ]
    },
    {
     "name": "stdout",
     "output_type": "stream",
     "text": [
      "Training until validation scores don't improve for 100 rounds\n",
      "[100]\ttrain's rmse: 5.1571\teval's rmse: 7.26651\n",
      "[200]\ttrain's rmse: 4.2309\teval's rmse: 7.03003\n",
      "[300]\ttrain's rmse: 3.6626\teval's rmse: 6.93439\n",
      "[400]\ttrain's rmse: 3.25638\teval's rmse: 6.92927\n"
     ]
    },
    {
     "name": "stderr",
     "output_type": "stream",
     "text": [
      "\r",
      "num_leaves, val_score: 6.826585:  15%|#######5                                          | 3/20 [00:04<00:16,  1.04it/s]"
     ]
    },
    {
     "name": "stdout",
     "output_type": "stream",
     "text": [
      "Early stopping, best iteration is:\n",
      "[388]\ttrain's rmse: 3.30488\teval's rmse: 6.9182\n"
     ]
    },
    {
     "name": "stderr",
     "output_type": "stream",
     "text": [
      "num_leaves, val_score: 6.826585:  20%|##########                                        | 4/20 [00:04<00:21,  1.31s/it]\u001b[32m[I 2021-06-20 17:59:42,942]\u001b[0m Trial 10 finished with value: 6.918195032326439 and parameters: {'num_leaves': 247}. Best is trial 9 with value: 6.887188725289571.\u001b[0m\n",
      "num_leaves, val_score: 6.826585:  20%|##########                                        | 4/20 [00:04<00:21,  1.31s/it]"
     ]
    },
    {
     "name": "stdout",
     "output_type": "stream",
     "text": [
      "Training until validation scores don't improve for 100 rounds\n",
      "[100]\ttrain's rmse: 5.20967\teval's rmse: 7.26405\n",
      "[200]\ttrain's rmse: 4.33116\teval's rmse: 7.02933\n",
      "[300]\ttrain's rmse: 3.80121\teval's rmse: 6.94014\n",
      "[400]\ttrain's rmse: 3.41881\teval's rmse: 6.92654\n",
      "[500]\ttrain's rmse: 3.11143\teval's rmse: 6.90305\n",
      "[600]\ttrain's rmse: 2.86207\teval's rmse: 6.88698\n",
      "[700]\ttrain's rmse: 2.65957\teval's rmse: 6.87794\n",
      "[800]\ttrain's rmse: 2.48076\teval's rmse: 6.86499\n",
      "Early stopping, best iteration is:\n",
      "[765]\ttrain's rmse: 2.54195\teval's rmse: 6.86055\n"
     ]
    },
    {
     "name": "stderr",
     "output_type": "stream",
     "text": [
      "num_leaves, val_score: 6.826585:  25%|############5                                     | 5/20 [00:06<00:24,  1.60s/it]\u001b[32m[I 2021-06-20 17:59:45,063]\u001b[0m Trial 11 finished with value: 6.860550781756822 and parameters: {'num_leaves': 38}. Best is trial 11 with value: 6.860550781756822.\u001b[0m\n",
      "num_leaves, val_score: 6.826585:  25%|############5                                     | 5/20 [00:06<00:24,  1.60s/it]"
     ]
    },
    {
     "name": "stdout",
     "output_type": "stream",
     "text": [
      "Training until validation scores don't improve for 100 rounds\n",
      "[100]\ttrain's rmse: 5.1571\teval's rmse: 7.26651\n",
      "[200]\ttrain's rmse: 4.2309\teval's rmse: 7.03003\n",
      "[300]\ttrain's rmse: 3.6626\teval's rmse: 6.93439\n",
      "[400]\ttrain's rmse: 3.25638\teval's rmse: 6.92927\n",
      "Early stopping, best iteration is:\n",
      "[388]\ttrain's rmse: 3.30488\teval's rmse: 6.9182\n"
     ]
    },
    {
     "name": "stderr",
     "output_type": "stream",
     "text": [
      "num_leaves, val_score: 6.826585:  30%|###############                                   | 6/20 [00:08<00:20,  1.44s/it]\u001b[32m[I 2021-06-20 17:59:46,173]\u001b[0m Trial 12 finished with value: 6.918195032326439 and parameters: {'num_leaves': 248}. Best is trial 11 with value: 6.860550781756822.\u001b[0m\n",
      "num_leaves, val_score: 6.826585:  30%|###############                                   | 6/20 [00:08<00:20,  1.44s/it]"
     ]
    },
    {
     "name": "stdout",
     "output_type": "stream",
     "text": [
      "Training until validation scores don't improve for 100 rounds\n",
      "[100]\ttrain's rmse: 5.1571\teval's rmse: 7.26651\n",
      "[200]\ttrain's rmse: 4.2309\teval's rmse: 7.03003\n",
      "[300]\ttrain's rmse: 3.6626\teval's rmse: 6.93439\n",
      "[400]\ttrain's rmse: 3.25638\teval's rmse: 6.92927\n",
      "Early stopping, best iteration is:\n",
      "[388]\ttrain's rmse: 3.30488\teval's rmse: 6.9182\n"
     ]
    },
    {
     "name": "stderr",
     "output_type": "stream",
     "text": [
      "num_leaves, val_score: 6.826585:  35%|#################5                                | 7/20 [00:09<00:17,  1.32s/it]\u001b[32m[I 2021-06-20 17:59:47,260]\u001b[0m Trial 13 finished with value: 6.918195032326439 and parameters: {'num_leaves': 168}. Best is trial 11 with value: 6.860550781756822.\u001b[0m\n",
      "num_leaves, val_score: 6.826585:  35%|#################5                                | 7/20 [00:09<00:17,  1.32s/it]"
     ]
    },
    {
     "name": "stdout",
     "output_type": "stream",
     "text": [
      "Training until validation scores don't improve for 100 rounds\n",
      "[100]\ttrain's rmse: 5.2084\teval's rmse: 7.29903\n",
      "[200]\ttrain's rmse: 4.30189\teval's rmse: 7.02275\n",
      "[300]\ttrain's rmse: 3.76077\teval's rmse: 6.92664\n",
      "[400]\ttrain's rmse: 3.37304\teval's rmse: 6.90838\n",
      "[500]\ttrain's rmse: 3.05895\teval's rmse: 6.88999\n",
      "[600]\ttrain's rmse: 2.80569\teval's rmse: 6.88077\n",
      "[700]\ttrain's rmse: 2.60023\teval's rmse: 6.87842\n",
      "[800]\ttrain's rmse: 2.4161\teval's rmse: 6.84467\n",
      "Early stopping, best iteration is:\n",
      "[796]\ttrain's rmse: 2.42476\teval's rmse: 6.84369\n"
     ]
    },
    {
     "name": "stderr",
     "output_type": "stream",
     "text": [
      "num_leaves, val_score: 6.826585:  40%|####################                              | 8/20 [00:10<00:17,  1.45s/it]\u001b[32m[I 2021-06-20 17:59:48,984]\u001b[0m Trial 14 finished with value: 6.8436899147659105 and parameters: {'num_leaves': 41}. Best is trial 14 with value: 6.8436899147659105.\u001b[0m\n",
      "num_leaves, val_score: 6.826585:  40%|####################                              | 8/20 [00:10<00:17,  1.45s/it]"
     ]
    },
    {
     "name": "stdout",
     "output_type": "stream",
     "text": [
      "Training until validation scores don't improve for 100 rounds\n",
      "[100]\ttrain's rmse: 5.1571\teval's rmse: 7.26651\n",
      "[200]\ttrain's rmse: 4.2309\teval's rmse: 7.03003\n",
      "[300]\ttrain's rmse: 3.6626\teval's rmse: 6.93439\n",
      "[400]\ttrain's rmse: 3.25638\teval's rmse: 6.92927\n",
      "Early stopping, best iteration is:\n",
      "[388]\ttrain's rmse: 3.30488\teval's rmse: 6.9182\n"
     ]
    },
    {
     "name": "stderr",
     "output_type": "stream",
     "text": [
      "num_leaves, val_score: 6.826585:  45%|######################5                           | 9/20 [00:11<00:14,  1.33s/it]\u001b[32m[I 2021-06-20 17:59:50,044]\u001b[0m Trial 15 finished with value: 6.918195032326439 and parameters: {'num_leaves': 216}. Best is trial 14 with value: 6.8436899147659105.\u001b[0m\n",
      "num_leaves, val_score: 6.826585:  45%|######################5                           | 9/20 [00:11<00:14,  1.33s/it]"
     ]
    },
    {
     "name": "stdout",
     "output_type": "stream",
     "text": [
      "Training until validation scores don't improve for 100 rounds\n",
      "[100]\ttrain's rmse: 5.1571\teval's rmse: 7.26651\n",
      "[200]\ttrain's rmse: 4.2309\teval's rmse: 7.03003\n",
      "[300]\ttrain's rmse: 3.6626\teval's rmse: 6.93439\n",
      "[400]\ttrain's rmse: 3.25638\teval's rmse: 6.92927\n",
      "Early stopping, best iteration is:\n",
      "[388]\ttrain's rmse: 3.30488\teval's rmse: 6.9182\n"
     ]
    },
    {
     "name": "stderr",
     "output_type": "stream",
     "text": [
      "num_leaves, val_score: 6.826585:  50%|########################5                        | 10/20 [00:13<00:12,  1.25s/it]\u001b[32m[I 2021-06-20 17:59:51,104]\u001b[0m Trial 16 finished with value: 6.918195032326439 and parameters: {'num_leaves': 184}. Best is trial 14 with value: 6.8436899147659105.\u001b[0m\n",
      "num_leaves, val_score: 6.826585:  50%|########################5                        | 10/20 [00:13<00:12,  1.25s/it]"
     ]
    },
    {
     "name": "stdout",
     "output_type": "stream",
     "text": [
      "Training until validation scores don't improve for 100 rounds\n",
      "[100]\ttrain's rmse: 5.1571\teval's rmse: 7.26651\n",
      "[200]\ttrain's rmse: 4.2309\teval's rmse: 7.03003\n",
      "[300]\ttrain's rmse: 3.6626\teval's rmse: 6.93439\n",
      "[400]\ttrain's rmse: 3.25638\teval's rmse: 6.92927\n",
      "Early stopping, best iteration is:\n",
      "[388]\ttrain's rmse: 3.30488\teval's rmse: 6.9182\n"
     ]
    },
    {
     "name": "stderr",
     "output_type": "stream",
     "text": [
      "num_leaves, val_score: 6.826585:  55%|##########################9                      | 11/20 [00:14<00:10,  1.18s/it]\u001b[32m[I 2021-06-20 17:59:52,132]\u001b[0m Trial 17 finished with value: 6.918195032326439 and parameters: {'num_leaves': 76}. Best is trial 14 with value: 6.8436899147659105.\u001b[0m\n",
      "num_leaves, val_score: 6.826585:  55%|##########################9                      | 11/20 [00:14<00:10,  1.18s/it]"
     ]
    },
    {
     "name": "stdout",
     "output_type": "stream",
     "text": [
      "Training until validation scores don't improve for 100 rounds\n",
      "[100]\ttrain's rmse: 6.21704\teval's rmse: 7.47234\n",
      "[200]\ttrain's rmse: 5.6471\teval's rmse: 7.23093\n",
      "[300]\ttrain's rmse: 5.28151\teval's rmse: 7.10134\n",
      "[400]\ttrain's rmse: 5.01471\teval's rmse: 7.02861\n",
      "[500]\ttrain's rmse: 4.8046\teval's rmse: 6.98241\n",
      "[600]\ttrain's rmse: 4.64786\teval's rmse: 6.93631\n",
      "[700]\ttrain's rmse: 4.51095\teval's rmse: 6.87007\n"
     ]
    },
    {
     "name": "stderr",
     "output_type": "stream",
     "text": [
      "\r",
      "num_leaves, val_score: 6.787547:  55%|##########################9                      | 11/20 [00:15<00:10,  1.18s/it]"
     ]
    },
    {
     "name": "stdout",
     "output_type": "stream",
     "text": [
      "[800]\ttrain's rmse: 4.387\teval's rmse: 6.81991\n",
      "[900]\ttrain's rmse: 4.27729\teval's rmse: 6.8019\n",
      "[1000]\ttrain's rmse: 4.18382\teval's rmse: 6.78755\n",
      "Did not meet early stopping. Best iteration is:\n",
      "[1000]\ttrain's rmse: 4.18382\teval's rmse: 6.78755\n"
     ]
    },
    {
     "name": "stderr",
     "output_type": "stream",
     "text": [
      "num_leaves, val_score: 6.787547:  60%|#############################4                   | 12/20 [00:15<00:09,  1.14s/it]\u001b[32m[I 2021-06-20 17:59:53,178]\u001b[0m Trial 18 finished with value: 6.787546901964113 and parameters: {'num_leaves': 10}. Best is trial 18 with value: 6.787546901964113.\u001b[0m\n",
      "num_leaves, val_score: 6.787547:  60%|#############################4                   | 12/20 [00:15<00:09,  1.14s/it]"
     ]
    },
    {
     "name": "stdout",
     "output_type": "stream",
     "text": [
      "Training until validation scores don't improve for 100 rounds\n",
      "[100]\ttrain's rmse: 7.70765\teval's rmse: 8.44035\n",
      "[200]\ttrain's rmse: 7.04932\teval's rmse: 7.98884\n",
      "[300]\ttrain's rmse: 6.9101\teval's rmse: 7.92633\n",
      "[400]\ttrain's rmse: 6.84545\teval's rmse: 7.87579\n",
      "[500]\ttrain's rmse: 6.80259\teval's rmse: 7.86317\n",
      "[600]\ttrain's rmse: 6.77144\teval's rmse: 7.82776\n"
     ]
    },
    {
     "name": "stderr",
     "output_type": "stream",
     "text": [
      "num_leaves, val_score: 6.787547:  65%|###############################8                 | 13/20 [00:15<00:06,  1.09it/s]\u001b[32m[I 2021-06-20 17:59:53,587]\u001b[0m Trial 19 finished with value: 7.779484896219685 and parameters: {'num_leaves': 2}. Best is trial 18 with value: 6.787546901964113.\u001b[0m\n",
      "num_leaves, val_score: 6.787547:  65%|###############################8                 | 13/20 [00:15<00:06,  1.09it/s]"
     ]
    },
    {
     "name": "stdout",
     "output_type": "stream",
     "text": [
      "[700]\ttrain's rmse: 6.7476\teval's rmse: 7.81168\n",
      "[800]\ttrain's rmse: 6.7282\teval's rmse: 7.7858\n",
      "[900]\ttrain's rmse: 6.70898\teval's rmse: 7.79247\n",
      "Early stopping, best iteration is:\n",
      "[858]\ttrain's rmse: 6.71703\teval's rmse: 7.77948\n",
      "Training until validation scores don't improve for 100 rounds\n",
      "[100]\ttrain's rmse: 6.38967\teval's rmse: 7.55659\n",
      "[200]\ttrain's rmse: 5.8519\teval's rmse: 7.2921\n",
      "[300]\ttrain's rmse: 5.52856\teval's rmse: 7.16152\n",
      "[400]\ttrain's rmse: 5.2822\teval's rmse: 7.08861\n",
      "[500]\ttrain's rmse: 5.08653\teval's rmse: 7.02534\n",
      "[600]\ttrain's rmse: 4.92994\teval's rmse: 6.97104\n",
      "[700]\ttrain's rmse: 4.79277\teval's rmse: 6.9005\n",
      "[800]\ttrain's rmse: 4.6721\teval's rmse: 6.84396\n",
      "[900]\ttrain's rmse: 4.57107\teval's rmse: 6.83836\n",
      "[1000]\ttrain's rmse: 4.48559\teval's rmse: 6.8171\n",
      "Did not meet early stopping. Best iteration is:\n",
      "[1000]\ttrain's rmse: 4.48559\teval's rmse: 6.8171\n"
     ]
    },
    {
     "name": "stderr",
     "output_type": "stream",
     "text": [
      "num_leaves, val_score: 6.787547:  70%|##################################3              | 14/20 [00:16<00:05,  1.13it/s]\u001b[32m[I 2021-06-20 17:59:54,412]\u001b[0m Trial 20 finished with value: 6.817095147873441 and parameters: {'num_leaves': 8}. Best is trial 18 with value: 6.787546901964113.\u001b[0m\n",
      "num_leaves, val_score: 6.787547:  70%|##################################3              | 14/20 [00:16<00:05,  1.13it/s]"
     ]
    },
    {
     "name": "stdout",
     "output_type": "stream",
     "text": [
      "Training until validation scores don't improve for 100 rounds\n",
      "[100]\ttrain's rmse: 6.74771\teval's rmse: 7.74691\n",
      "[200]\ttrain's rmse: 6.31148\teval's rmse: 7.4679\n",
      "[300]\ttrain's rmse: 6.02757\teval's rmse: 7.30605\n",
      "[400]\ttrain's rmse: 5.81585\teval's rmse: 7.21874\n",
      "[500]\ttrain's rmse: 5.64271\teval's rmse: 7.16686\n",
      "[600]\ttrain's rmse: 5.50025\teval's rmse: 7.10302\n",
      "[700]\ttrain's rmse: 5.38218\teval's rmse: 7.0708\n",
      "[800]\ttrain's rmse: 5.27807\teval's rmse: 6.99977\n",
      "[900]\ttrain's rmse: 5.18756\teval's rmse: 6.97984\n",
      "[1000]\ttrain's rmse: 5.10574\teval's rmse: 6.93902\n",
      "Did not meet early stopping. Best iteration is:\n",
      "[1000]\ttrain's rmse: 5.10574\teval's rmse: 6.93902\n"
     ]
    },
    {
     "name": "stderr",
     "output_type": "stream",
     "text": [
      "num_leaves, val_score: 6.787547:  75%|####################################7            | 15/20 [00:17<00:04,  1.16it/s]\u001b[32m[I 2021-06-20 17:59:55,205]\u001b[0m Trial 21 finished with value: 6.9390238165147915 and parameters: {'num_leaves': 5}. Best is trial 18 with value: 6.787546901964113.\u001b[0m\n",
      "num_leaves, val_score: 6.787547:  75%|####################################7            | 15/20 [00:17<00:04,  1.16it/s]"
     ]
    },
    {
     "name": "stdout",
     "output_type": "stream",
     "text": [
      "Training until validation scores don't improve for 100 rounds\n",
      "[100]\ttrain's rmse: 5.1571\teval's rmse: 7.26651\n",
      "[200]\ttrain's rmse: 4.2309\teval's rmse: 7.03003\n",
      "[300]\ttrain's rmse: 3.6626\teval's rmse: 6.93439\n",
      "[400]\ttrain's rmse: 3.25638\teval's rmse: 6.92927\n",
      "Early stopping, best iteration is:\n",
      "[388]\ttrain's rmse: 3.30488\teval's rmse: 6.9182\n"
     ]
    },
    {
     "name": "stderr",
     "output_type": "stream",
     "text": [
      "num_leaves, val_score: 6.787547:  80%|#######################################2         | 16/20 [00:18<00:04,  1.12s/it]\u001b[32m[I 2021-06-20 17:59:56,928]\u001b[0m Trial 22 finished with value: 6.918195032326439 and parameters: {'num_leaves': 80}. Best is trial 18 with value: 6.787546901964113.\u001b[0m\n",
      "num_leaves, val_score: 6.787547:  80%|#######################################2         | 16/20 [00:18<00:04,  1.12s/it]"
     ]
    },
    {
     "name": "stdout",
     "output_type": "stream",
     "text": [
      "Training until validation scores don't improve for 100 rounds\n",
      "[100]\ttrain's rmse: 5.1571\teval's rmse: 7.26651\n",
      "[200]\ttrain's rmse: 4.2309\teval's rmse: 7.03003\n",
      "[300]\ttrain's rmse: 3.6626\teval's rmse: 6.93439\n",
      "[400]\ttrain's rmse: 3.25638\teval's rmse: 6.92927\n",
      "Early stopping, best iteration is:\n",
      "[388]\ttrain's rmse: 3.30488\teval's rmse: 6.9182\n"
     ]
    },
    {
     "name": "stderr",
     "output_type": "stream",
     "text": [
      "num_leaves, val_score: 6.787547:  85%|#########################################6       | 17/20 [00:20<00:03,  1.29s/it]\u001b[32m[I 2021-06-20 17:59:58,619]\u001b[0m Trial 23 finished with value: 6.918195032326439 and parameters: {'num_leaves': 129}. Best is trial 18 with value: 6.787546901964113.\u001b[0m\n",
      "num_leaves, val_score: 6.787547:  85%|#########################################6       | 17/20 [00:20<00:03,  1.29s/it]"
     ]
    },
    {
     "name": "stdout",
     "output_type": "stream",
     "text": [
      "Training until validation scores don't improve for 100 rounds\n",
      "[100]\ttrain's rmse: 5.64483\teval's rmse: 7.33941\n",
      "[200]\ttrain's rmse: 4.91775\teval's rmse: 7.02741\n",
      "[300]\ttrain's rmse: 4.50484\teval's rmse: 6.91934\n",
      "[400]\ttrain's rmse: 4.19739\teval's rmse: 6.87901\n",
      "[500]\ttrain's rmse: 3.93965\teval's rmse: 6.83129\n"
     ]
    },
    {
     "name": "stderr",
     "output_type": "stream",
     "text": [
      "num_leaves, val_score: 6.787547:  90%|############################################1    | 18/20 [00:21<00:02,  1.14s/it]\u001b[32m[I 2021-06-20 17:59:59,401]\u001b[0m Trial 24 finished with value: 6.80874413642454 and parameters: {'num_leaves': 20}. Best is trial 18 with value: 6.787546901964113.\u001b[0m\n",
      "num_leaves, val_score: 6.787547:  90%|############################################1    | 18/20 [00:21<00:02,  1.14s/it]"
     ]
    },
    {
     "name": "stdout",
     "output_type": "stream",
     "text": [
      "[600]\ttrain's rmse: 3.73689\teval's rmse: 6.84058\n",
      "Early stopping, best iteration is:\n",
      "[521]\ttrain's rmse: 3.89508\teval's rmse: 6.80874\n",
      "Training until validation scores don't improve for 100 rounds\n",
      "[100]\ttrain's rmse: 5.1571\teval's rmse: 7.26651\n",
      "[200]\ttrain's rmse: 4.2309\teval's rmse: 7.03003\n",
      "[300]\ttrain's rmse: 3.6626\teval's rmse: 6.93439\n",
      "[400]\ttrain's rmse: 3.25638\teval's rmse: 6.92927\n",
      "Early stopping, best iteration is:\n",
      "[388]\ttrain's rmse: 3.30488\teval's rmse: 6.9182\n"
     ]
    },
    {
     "name": "stderr",
     "output_type": "stream",
     "text": [
      "num_leaves, val_score: 6.787547:  95%|##############################################5  | 19/20 [00:23<00:01,  1.45s/it]\u001b[32m[I 2021-06-20 18:00:01,591]\u001b[0m Trial 25 finished with value: 6.918195032326439 and parameters: {'num_leaves': 68}. Best is trial 18 with value: 6.787546901964113.\u001b[0m\n",
      "num_leaves, val_score: 6.787547:  95%|##############################################5  | 19/20 [00:23<00:01,  1.45s/it]"
     ]
    },
    {
     "name": "stdout",
     "output_type": "stream",
     "text": [
      "Training until validation scores don't improve for 100 rounds\n",
      "[100]\ttrain's rmse: 5.1571\teval's rmse: 7.26651\n",
      "[200]\ttrain's rmse: 4.2309\teval's rmse: 7.03003\n",
      "[300]\ttrain's rmse: 3.6626\teval's rmse: 6.93439\n",
      "[400]\ttrain's rmse: 3.25638\teval's rmse: 6.92927\n",
      "Early stopping, best iteration is:\n",
      "[388]\ttrain's rmse: 3.30488\teval's rmse: 6.9182\n"
     ]
    },
    {
     "name": "stderr",
     "output_type": "stream",
     "text": [
      "num_leaves, val_score: 6.787547: 100%|#################################################| 20/20 [00:25<00:00,  1.59s/it]\u001b[32m[I 2021-06-20 18:00:03,480]\u001b[0m Trial 26 finished with value: 6.918195032326439 and parameters: {'num_leaves': 131}. Best is trial 18 with value: 6.787546901964113.\u001b[0m\n",
      "num_leaves, val_score: 6.787547: 100%|#################################################| 20/20 [00:25<00:00,  1.27s/it]\n",
      "bagging, val_score: 6.787547:   0%|                                                             | 0/10 [00:00<?, ?it/s]"
     ]
    },
    {
     "name": "stdout",
     "output_type": "stream",
     "text": [
      "Training until validation scores don't improve for 100 rounds\n",
      "[100]\ttrain's rmse: 6.47838\teval's rmse: 7.68633\n",
      "[200]\ttrain's rmse: 5.96801\teval's rmse: 7.39133\n",
      "[300]\ttrain's rmse: 5.63088\teval's rmse: 7.23027\n",
      "[400]\ttrain's rmse: 5.36442\teval's rmse: 7.11007\n",
      "[500]\ttrain's rmse: 5.18045\teval's rmse: 7.08844\n",
      "[600]\ttrain's rmse: 5.03533\teval's rmse: 7.06242\n",
      "[700]\ttrain's rmse: 4.90653\teval's rmse: 7.00146\n",
      "Early stopping, best iteration is:\n",
      "[684]\ttrain's rmse: 4.92623\teval's rmse: 6.98501\n"
     ]
    },
    {
     "name": "stderr",
     "output_type": "stream",
     "text": [
      "bagging, val_score: 6.787547:  10%|#####3                                               | 1/10 [00:00<00:08,  1.06it/s]\u001b[32m[I 2021-06-20 18:00:04,441]\u001b[0m Trial 27 finished with value: 6.985012049899164 and parameters: {'bagging_fraction': 0.42545647826217436, 'bagging_freq': 3}. Best is trial 27 with value: 6.985012049899164.\u001b[0m\n",
      "bagging, val_score: 6.787547:  10%|#####3                                               | 1/10 [00:00<00:08,  1.06it/s]"
     ]
    },
    {
     "name": "stdout",
     "output_type": "stream",
     "text": [
      "Training until validation scores don't improve for 100 rounds\n",
      "[100]\ttrain's rmse: 6.17507\teval's rmse: 7.38111\n",
      "[200]\ttrain's rmse: 5.60364\teval's rmse: 7.13066\n",
      "[300]\ttrain's rmse: 5.25037\teval's rmse: 7.00859\n",
      "[400]\ttrain's rmse: 4.99188\teval's rmse: 6.94347\n",
      "[500]\ttrain's rmse: 4.78578\teval's rmse: 6.87225\n",
      "[600]\ttrain's rmse: 4.62043\teval's rmse: 6.82278\n",
      "[700]\ttrain's rmse: 4.48114\teval's rmse: 6.7863\n",
      "[800]\ttrain's rmse: 4.3614\teval's rmse: 6.77088\n",
      "[900]\ttrain's rmse: 4.24548\teval's rmse: 6.75998\n",
      "Early stopping, best iteration is:\n",
      "[881]\ttrain's rmse: 4.26901\teval's rmse: 6.75336\n"
     ]
    },
    {
     "name": "stderr",
     "output_type": "stream",
     "text": [
      "bagging, val_score: 6.753361:  20%|##########6                                          | 2/10 [00:02<00:08,  1.12s/it]\u001b[32m[I 2021-06-20 18:00:05,686]\u001b[0m Trial 28 finished with value: 6.753361465490807 and parameters: {'bagging_fraction': 0.8912541029461611, 'bagging_freq': 3}. Best is trial 28 with value: 6.753361465490807.\u001b[0m\n",
      "bagging, val_score: 6.753361:  20%|##########6                                          | 2/10 [00:02<00:08,  1.12s/it]"
     ]
    },
    {
     "name": "stdout",
     "output_type": "stream",
     "text": [
      "Training until validation scores don't improve for 100 rounds\n",
      "[100]\ttrain's rmse: 6.40501\teval's rmse: 7.69\n",
      "[200]\ttrain's rmse: 5.8308\teval's rmse: 7.34789\n",
      "[300]\ttrain's rmse: 5.51931\teval's rmse: 7.14936\n",
      "[400]\ttrain's rmse: 5.27811\teval's rmse: 7.11779\n",
      "[500]\ttrain's rmse: 5.08316\teval's rmse: 7.00794\n",
      "Early stopping, best iteration is:\n",
      "[495]\ttrain's rmse: 5.09265\teval's rmse: 6.99849\n"
     ]
    },
    {
     "name": "stderr",
     "output_type": "stream",
     "text": [
      "bagging, val_score: 6.753361:  30%|###############9                                     | 3/10 [00:02<00:05,  1.19it/s]\u001b[32m[I 2021-06-20 18:00:06,188]\u001b[0m Trial 29 finished with value: 6.998492464752722 and parameters: {'bagging_fraction': 0.5264742950536836, 'bagging_freq': 5}. Best is trial 28 with value: 6.753361465490807.\u001b[0m\n",
      "bagging, val_score: 6.753361:  30%|###############9                                     | 3/10 [00:02<00:05,  1.19it/s]"
     ]
    },
    {
     "name": "stdout",
     "output_type": "stream",
     "text": [
      "Training until validation scores don't improve for 100 rounds\n",
      "[100]\ttrain's rmse: 6.40455\teval's rmse: 7.69243\n",
      "[200]\ttrain's rmse: 5.79134\teval's rmse: 7.36239\n",
      "[300]\ttrain's rmse: 5.47834\teval's rmse: 7.23056\n",
      "[400]\ttrain's rmse: 5.23803\teval's rmse: 7.12891\n",
      "[500]\ttrain's rmse: 5.03619\teval's rmse: 7.02799\n",
      "[600]\ttrain's rmse: 4.87973\teval's rmse: 6.96333\n",
      "[700]\ttrain's rmse: 4.73368\teval's rmse: 6.9377\n"
     ]
    },
    {
     "name": "stderr",
     "output_type": "stream",
     "text": [
      "bagging, val_score: 6.753361:  40%|#####################2                               | 4/10 [00:03<00:04,  1.27it/s]\u001b[32m[I 2021-06-20 18:00:06,894]\u001b[0m Trial 30 finished with value: 6.9215395896834355 and parameters: {'bagging_fraction': 0.5695405891751382, 'bagging_freq': 7}. Best is trial 28 with value: 6.753361465490807.\u001b[0m\n",
      "bagging, val_score: 6.753361:  40%|#####################2                               | 4/10 [00:03<00:04,  1.27it/s]"
     ]
    },
    {
     "name": "stdout",
     "output_type": "stream",
     "text": [
      "Early stopping, best iteration is:\n",
      "[692]\ttrain's rmse: 4.74522\teval's rmse: 6.92154\n",
      "Training until validation scores don't improve for 100 rounds\n",
      "[100]\ttrain's rmse: 6.50792\teval's rmse: 7.72074\n",
      "[200]\ttrain's rmse: 5.9878\teval's rmse: 7.46377\n",
      "[300]\ttrain's rmse: 5.63357\teval's rmse: 7.27914\n",
      "[400]\ttrain's rmse: 5.3963\teval's rmse: 7.16116\n",
      "[500]\ttrain's rmse: 5.18343\teval's rmse: 7.0818\n",
      "[600]\ttrain's rmse: 5.03026\teval's rmse: 7.01081\n"
     ]
    },
    {
     "name": "stderr",
     "output_type": "stream",
     "text": [
      "bagging, val_score: 6.753361:  50%|##########################5                          | 5/10 [00:04<00:04,  1.15it/s]\u001b[32m[I 2021-06-20 18:00:07,903]\u001b[0m Trial 31 finished with value: 6.996277729566256 and parameters: {'bagging_fraction': 0.41749530949405067, 'bagging_freq': 4}. Best is trial 28 with value: 6.753361465490807.\u001b[0m\n",
      "bagging, val_score: 6.753361:  50%|##########################5                          | 5/10 [00:04<00:04,  1.15it/s]"
     ]
    },
    {
     "name": "stdout",
     "output_type": "stream",
     "text": [
      "[700]\ttrain's rmse: 4.89785\teval's rmse: 7.04899\n",
      "Early stopping, best iteration is:\n",
      "[607]\ttrain's rmse: 5.02246\teval's rmse: 6.99628\n",
      "Training until validation scores don't improve for 100 rounds\n",
      "[100]\ttrain's rmse: 6.47485\teval's rmse: 7.64507\n",
      "[200]\ttrain's rmse: 5.96537\teval's rmse: 7.36036\n",
      "[300]\ttrain's rmse: 5.65692\teval's rmse: 7.2265\n",
      "[400]\ttrain's rmse: 5.3928\teval's rmse: 7.1283\n"
     ]
    },
    {
     "name": "stderr",
     "output_type": "stream",
     "text": [
      "bagging, val_score: 6.753361:  60%|###############################8                     | 6/10 [00:05<00:03,  1.20it/s]\u001b[32m[I 2021-06-20 18:00:08,663]\u001b[0m Trial 32 finished with value: 7.074998162347113 and parameters: {'bagging_fraction': 0.4148757360194085, 'bagging_freq': 3}. Best is trial 28 with value: 6.753361465490807.\u001b[0m\n",
      "bagging, val_score: 6.753361:  60%|###############################8                     | 6/10 [00:05<00:03,  1.20it/s]"
     ]
    },
    {
     "name": "stdout",
     "output_type": "stream",
     "text": [
      "[500]\ttrain's rmse: 5.20962\teval's rmse: 7.11724\n",
      "Early stopping, best iteration is:\n",
      "[460]\ttrain's rmse: 5.28301\teval's rmse: 7.075\n",
      "Training until validation scores don't improve for 100 rounds\n",
      "[100]\ttrain's rmse: 6.20784\teval's rmse: 7.43282\n",
      "[200]\ttrain's rmse: 5.64001\teval's rmse: 7.18159\n",
      "[300]\ttrain's rmse: 5.29033\teval's rmse: 7.06893\n",
      "[400]\ttrain's rmse: 5.02925\teval's rmse: 7.00839\n",
      "[500]\ttrain's rmse: 4.83458\teval's rmse: 6.92942\n",
      "[600]\ttrain's rmse: 4.65854\teval's rmse: 6.8716\n",
      "[700]\ttrain's rmse: 4.51607\teval's rmse: 6.85197\n",
      "[800]\ttrain's rmse: 4.40242\teval's rmse: 6.8454\n"
     ]
    },
    {
     "name": "stderr",
     "output_type": "stream",
     "text": [
      "bagging, val_score: 6.753361:  70%|#####################################                | 7/10 [00:06<00:02,  1.00it/s]\u001b[32m[I 2021-06-20 18:00:10,005]\u001b[0m Trial 33 finished with value: 6.826473493651344 and parameters: {'bagging_fraction': 0.8055549097909607, 'bagging_freq': 4}. Best is trial 28 with value: 6.753361465490807.\u001b[0m\n",
      "bagging, val_score: 6.753361:  70%|#####################################                | 7/10 [00:06<00:02,  1.00it/s]"
     ]
    },
    {
     "name": "stdout",
     "output_type": "stream",
     "text": [
      "Early stopping, best iteration is:\n",
      "[732]\ttrain's rmse: 4.47939\teval's rmse: 6.82647\n",
      "Training until validation scores don't improve for 100 rounds\n",
      "[100]\ttrain's rmse: 6.16875\teval's rmse: 7.33503\n",
      "[200]\ttrain's rmse: 5.64133\teval's rmse: 7.13401\n",
      "[300]\ttrain's rmse: 5.2992\teval's rmse: 7.03829\n",
      "[400]\ttrain's rmse: 5.03438\teval's rmse: 6.95003\n",
      "[500]\ttrain's rmse: 4.82919\teval's rmse: 6.89069\n",
      "[600]\ttrain's rmse: 4.66133\teval's rmse: 6.84999\n",
      "[700]\ttrain's rmse: 4.51682\teval's rmse: 6.81397\n",
      "[800]\ttrain's rmse: 4.38866\teval's rmse: 6.77943\n",
      "[900]\ttrain's rmse: 4.27987\teval's rmse: 6.75796\n"
     ]
    },
    {
     "name": "stderr",
     "output_type": "stream",
     "text": [
      "bagging, val_score: 6.741905:  80%|##########################################4          | 8/10 [00:07<00:02,  1.04s/it]\u001b[32m[I 2021-06-20 18:00:11,147]\u001b[0m Trial 34 finished with value: 6.741905413789415 and parameters: {'bagging_fraction': 0.9717751614304687, 'bagging_freq': 6}. Best is trial 34 with value: 6.741905413789415.\u001b[0m\n",
      "bagging, val_score: 6.741905:  80%|##########################################4          | 8/10 [00:07<00:02,  1.04s/it]"
     ]
    },
    {
     "name": "stdout",
     "output_type": "stream",
     "text": [
      "[1000]\ttrain's rmse: 4.17715\teval's rmse: 6.74191\n",
      "Did not meet early stopping. Best iteration is:\n",
      "[1000]\ttrain's rmse: 4.17715\teval's rmse: 6.74191\n",
      "Training until validation scores don't improve for 100 rounds\n",
      "[100]\ttrain's rmse: 6.18287\teval's rmse: 7.41716\n",
      "[200]\ttrain's rmse: 5.60995\teval's rmse: 7.18576\n",
      "[300]\ttrain's rmse: 5.26329\teval's rmse: 7.0617\n",
      "[400]\ttrain's rmse: 5.01313\teval's rmse: 6.95002\n",
      "[500]\ttrain's rmse: 4.82332\teval's rmse: 6.89652\n",
      "[600]\ttrain's rmse: 4.65301\teval's rmse: 6.85861\n",
      "[700]\ttrain's rmse: 4.50976\teval's rmse: 6.83461\n",
      "[800]\ttrain's rmse: 4.38899\teval's rmse: 6.78756\n",
      "[900]\ttrain's rmse: 4.28187\teval's rmse: 6.75974\n"
     ]
    },
    {
     "name": "stderr",
     "output_type": "stream",
     "text": [
      "bagging, val_score: 6.741905:  90%|###############################################7     | 9/10 [00:08<00:01,  1.03s/it]\u001b[32m[I 2021-06-20 18:00:12,158]\u001b[0m Trial 35 finished with value: 6.75910077245758 and parameters: {'bagging_fraction': 0.8117439801142314, 'bagging_freq': 2}. Best is trial 34 with value: 6.741905413789415.\u001b[0m\n",
      "bagging, val_score: 6.741905:  90%|###############################################7     | 9/10 [00:08<00:01,  1.03s/it]"
     ]
    },
    {
     "name": "stdout",
     "output_type": "stream",
     "text": [
      "[1000]\ttrain's rmse: 4.18015\teval's rmse: 6.7591\n",
      "Did not meet early stopping. Best iteration is:\n",
      "[1000]\ttrain's rmse: 4.18015\teval's rmse: 6.7591\n",
      "Training until validation scores don't improve for 100 rounds\n",
      "[100]\ttrain's rmse: 6.3103\teval's rmse: 7.64053\n",
      "[200]\ttrain's rmse: 5.75371\teval's rmse: 7.36281\n",
      "[300]\ttrain's rmse: 5.42491\teval's rmse: 7.21701\n",
      "[400]\ttrain's rmse: 5.17469\teval's rmse: 7.15034\n",
      "[500]\ttrain's rmse: 4.97226\teval's rmse: 7.09016\n",
      "[600]\ttrain's rmse: 4.81098\teval's rmse: 7.07085\n"
     ]
    },
    {
     "name": "stderr",
     "output_type": "stream",
     "text": [
      "bagging, val_score: 6.741905: 100%|####################################################| 10/10 [00:09<00:00,  1.06it/s]\u001b[32m[I 2021-06-20 18:00:12,901]\u001b[0m Trial 36 finished with value: 7.015206493656533 and parameters: {'bagging_fraction': 0.6358394536565937, 'bagging_freq': 5}. Best is trial 34 with value: 6.741905413789415.\u001b[0m\n",
      "bagging, val_score: 6.741905: 100%|####################################################| 10/10 [00:09<00:00,  1.06it/s]\n",
      "feature_fraction_stage2, val_score: 6.741905:   0%|                                              | 0/6 [00:00<?, ?it/s]"
     ]
    },
    {
     "name": "stdout",
     "output_type": "stream",
     "text": [
      "[700]\ttrain's rmse: 4.67918\teval's rmse: 7.04733\n",
      "Early stopping, best iteration is:\n",
      "[655]\ttrain's rmse: 4.73801\teval's rmse: 7.01521\n",
      "Training until validation scores don't improve for 100 rounds\n",
      "[100]\ttrain's rmse: 6.18847\teval's rmse: 7.40931\n",
      "[200]\ttrain's rmse: 5.63868\teval's rmse: 7.20358\n",
      "[300]\ttrain's rmse: 5.28111\teval's rmse: 7.09919\n",
      "[400]\ttrain's rmse: 5.00891\teval's rmse: 7.01047\n",
      "[500]\ttrain's rmse: 4.80478\teval's rmse: 6.95707\n",
      "[600]\ttrain's rmse: 4.62813\teval's rmse: 6.93899\n",
      "[700]\ttrain's rmse: 4.48009\teval's rmse: 6.90658\n",
      "[800]\ttrain's rmse: 4.34988\teval's rmse: 6.87201\n"
     ]
    },
    {
     "name": "stderr",
     "output_type": "stream",
     "text": [
      "feature_fraction_stage2, val_score: 6.741905:  17%|######3                               | 1/6 [00:00<00:03,  1.27it/s]\u001b[32m[I 2021-06-20 18:00:13,699]\u001b[0m Trial 37 finished with value: 6.801590991516508 and parameters: {'feature_fraction': 0.748}. Best is trial 37 with value: 6.801590991516508.\u001b[0m\n",
      "feature_fraction_stage2, val_score: 6.741905:  17%|######3                               | 1/6 [00:00<00:03,  1.27it/s]"
     ]
    },
    {
     "name": "stdout",
     "output_type": "stream",
     "text": [
      "[900]\ttrain's rmse: 4.23322\teval's rmse: 6.83115\n",
      "[1000]\ttrain's rmse: 4.12456\teval's rmse: 6.80159\n",
      "Did not meet early stopping. Best iteration is:\n",
      "[1000]\ttrain's rmse: 4.12456\teval's rmse: 6.80159\n",
      "Training until validation scores don't improve for 100 rounds\n",
      "[100]\ttrain's rmse: 6.19205\teval's rmse: 7.41557\n",
      "[200]\ttrain's rmse: 5.65095\teval's rmse: 7.18482\n",
      "[300]\ttrain's rmse: 5.29609\teval's rmse: 7.05104\n",
      "[400]\ttrain's rmse: 5.03245\teval's rmse: 6.9683\n",
      "[500]\ttrain's rmse: 4.83606\teval's rmse: 6.90089\n",
      "[600]\ttrain's rmse: 4.66893\teval's rmse: 6.87211\n",
      "[700]\ttrain's rmse: 4.53078\teval's rmse: 6.82279\n",
      "[800]\ttrain's rmse: 4.40096\teval's rmse: 6.78503\n",
      "[900]\ttrain's rmse: 4.29186\teval's rmse: 6.76103\n",
      "[1000]\ttrain's rmse: 4.19323\teval's rmse: 6.73788\n",
      "Did not meet early stopping. Best iteration is:\n",
      "[1000]\ttrain's rmse: 4.19323\teval's rmse: 6.73788\n"
     ]
    },
    {
     "name": "stderr",
     "output_type": "stream",
     "text": [
      "feature_fraction_stage2, val_score: 6.737875:  33%|############6                         | 2/6 [00:01<00:03,  1.24it/s]\u001b[32m[I 2021-06-20 18:00:14,513]\u001b[0m Trial 38 finished with value: 6.737875382868676 and parameters: {'feature_fraction': 0.652}. Best is trial 38 with value: 6.737875382868676.\u001b[0m\n",
      "feature_fraction_stage2, val_score: 6.737875:  33%|############6                         | 2/6 [00:01<00:03,  1.24it/s]"
     ]
    },
    {
     "name": "stdout",
     "output_type": "stream",
     "text": [
      "Training until validation scores don't improve for 100 rounds\n",
      "[100]\ttrain's rmse: 6.18847\teval's rmse: 7.40931\n",
      "[200]\ttrain's rmse: 5.63868\teval's rmse: 7.20358\n",
      "[300]\ttrain's rmse: 5.28111\teval's rmse: 7.09919\n",
      "[400]\ttrain's rmse: 5.00891\teval's rmse: 7.01047\n",
      "[500]\ttrain's rmse: 4.80478\teval's rmse: 6.95707\n",
      "[600]\ttrain's rmse: 4.62813\teval's rmse: 6.93899\n",
      "[700]\ttrain's rmse: 4.48009\teval's rmse: 6.90658\n",
      "[800]\ttrain's rmse: 4.34988\teval's rmse: 6.87201\n",
      "[900]\ttrain's rmse: 4.23322\teval's rmse: 6.83115\n"
     ]
    },
    {
     "name": "stderr",
     "output_type": "stream",
     "text": [
      "feature_fraction_stage2, val_score: 6.737875:  50%|###################                   | 3/6 [00:02<00:02,  1.21it/s]\u001b[32m[I 2021-06-20 18:00:15,373]\u001b[0m Trial 39 finished with value: 6.801590991516508 and parameters: {'feature_fraction': 0.7799999999999999}. Best is trial 38 with value: 6.737875382868676.\u001b[0m\n",
      "feature_fraction_stage2, val_score: 6.737875:  50%|###################                   | 3/6 [00:02<00:02,  1.21it/s]"
     ]
    },
    {
     "name": "stdout",
     "output_type": "stream",
     "text": [
      "[1000]\ttrain's rmse: 4.12456\teval's rmse: 6.80159\n",
      "Did not meet early stopping. Best iteration is:\n",
      "[1000]\ttrain's rmse: 4.12456\teval's rmse: 6.80159\n",
      "Training until validation scores don't improve for 100 rounds\n",
      "[100]\ttrain's rmse: 6.20165\teval's rmse: 7.40502\n",
      "[200]\ttrain's rmse: 5.66553\teval's rmse: 7.16075\n",
      "[300]\ttrain's rmse: 5.30866\teval's rmse: 7.05874\n",
      "[400]\ttrain's rmse: 5.04434\teval's rmse: 6.97356\n",
      "[500]\ttrain's rmse: 4.83901\teval's rmse: 6.91957\n",
      "[600]\ttrain's rmse: 4.67017\teval's rmse: 6.88401\n",
      "[700]\ttrain's rmse: 4.52717\teval's rmse: 6.86176\n",
      "[800]\ttrain's rmse: 4.40019\teval's rmse: 6.80666\n",
      "[900]\ttrain's rmse: 4.28223\teval's rmse: 6.78421\n",
      "[1000]\ttrain's rmse: 4.1831\teval's rmse: 6.77784\n",
      "Did not meet early stopping. Best iteration is:\n",
      "[1000]\ttrain's rmse: 4.1831\teval's rmse: 6.77784\n"
     ]
    },
    {
     "name": "stderr",
     "output_type": "stream",
     "text": [
      "feature_fraction_stage2, val_score: 6.737875:  67%|#########################3            | 4/6 [00:03<00:01,  1.02it/s]\u001b[32m[I 2021-06-20 18:00:16,599]\u001b[0m Trial 40 finished with value: 6.777836995181327 and parameters: {'feature_fraction': 0.6839999999999999}. Best is trial 38 with value: 6.737875382868676.\u001b[0m\n",
      "feature_fraction_stage2, val_score: 6.737875:  67%|#########################3            | 4/6 [00:03<00:01,  1.02it/s]"
     ]
    },
    {
     "name": "stdout",
     "output_type": "stream",
     "text": [
      "Training until validation scores don't improve for 100 rounds\n",
      "[100]\ttrain's rmse: 6.19205\teval's rmse: 7.41557\n",
      "[200]\ttrain's rmse: 5.65095\teval's rmse: 7.18482\n",
      "[300]\ttrain's rmse: 5.29609\teval's rmse: 7.05104\n",
      "[400]\ttrain's rmse: 5.03245\teval's rmse: 6.9683\n",
      "[500]\ttrain's rmse: 4.83606\teval's rmse: 6.90089\n",
      "[600]\ttrain's rmse: 4.66893\teval's rmse: 6.87211\n",
      "[700]\ttrain's rmse: 4.53078\teval's rmse: 6.82279\n",
      "[800]\ttrain's rmse: 4.40096\teval's rmse: 6.78503\n",
      "[900]\ttrain's rmse: 4.29186\teval's rmse: 6.76103\n"
     ]
    },
    {
     "name": "stderr",
     "output_type": "stream",
     "text": [
      "feature_fraction_stage2, val_score: 6.737875:  83%|###############################6      | 5/6 [00:05<00:01,  1.21s/it]\u001b[32m[I 2021-06-20 18:00:18,212]\u001b[0m Trial 41 finished with value: 6.737875382868676 and parameters: {'feature_fraction': 0.62}. Best is trial 38 with value: 6.737875382868676.\u001b[0m\n",
      "feature_fraction_stage2, val_score: 6.737875:  83%|###############################6      | 5/6 [00:05<00:01,  1.21s/it]"
     ]
    },
    {
     "name": "stdout",
     "output_type": "stream",
     "text": [
      "[1000]\ttrain's rmse: 4.19323\teval's rmse: 6.73788\n",
      "Did not meet early stopping. Best iteration is:\n",
      "[1000]\ttrain's rmse: 4.19323\teval's rmse: 6.73788\n",
      "Training until validation scores don't improve for 100 rounds\n",
      "[100]\ttrain's rmse: 6.16875\teval's rmse: 7.33503\n",
      "[200]\ttrain's rmse: 5.64133\teval's rmse: 7.13401\n",
      "[300]\ttrain's rmse: 5.2992\teval's rmse: 7.03829\n",
      "[400]\ttrain's rmse: 5.03438\teval's rmse: 6.95003\n",
      "[500]\ttrain's rmse: 4.82919\teval's rmse: 6.89069\n",
      "[600]\ttrain's rmse: 4.66133\teval's rmse: 6.84999\n",
      "[700]\ttrain's rmse: 4.51682\teval's rmse: 6.81397\n",
      "[800]\ttrain's rmse: 4.38866\teval's rmse: 6.77943\n",
      "[900]\ttrain's rmse: 4.27987\teval's rmse: 6.75796\n",
      "[1000]\ttrain's rmse: 4.17715\teval's rmse: 6.74191\n",
      "Did not meet early stopping. Best iteration is:\n",
      "[1000]\ttrain's rmse: 4.17715\teval's rmse: 6.74191\n"
     ]
    },
    {
     "name": "stderr",
     "output_type": "stream",
     "text": [
      "feature_fraction_stage2, val_score: 6.737875: 100%|######################################| 6/6 [00:07<00:00,  1.52s/it]\u001b[32m[I 2021-06-20 18:00:20,350]\u001b[0m Trial 42 finished with value: 6.741905413789415 and parameters: {'feature_fraction': 0.716}. Best is trial 38 with value: 6.737875382868676.\u001b[0m\n",
      "feature_fraction_stage2, val_score: 6.737875: 100%|######################################| 6/6 [00:07<00:00,  1.24s/it]\n",
      "regularization_factors, val_score: 6.737875:   0%|                                              | 0/20 [00:00<?, ?it/s]"
     ]
    },
    {
     "name": "stdout",
     "output_type": "stream",
     "text": [
      "Training until validation scores don't improve for 100 rounds\n",
      "[100]\ttrain's rmse: 6.20475\teval's rmse: 7.40376\n",
      "[200]\ttrain's rmse: 5.68233\teval's rmse: 7.16479\n",
      "[300]\ttrain's rmse: 5.34731\teval's rmse: 7.05206\n",
      "[400]\ttrain's rmse: 5.1007\teval's rmse: 6.98518\n",
      "[500]\ttrain's rmse: 4.91022\teval's rmse: 6.94426\n",
      "[600]\ttrain's rmse: 4.74585\teval's rmse: 6.90498\n",
      "[700]\ttrain's rmse: 4.61282\teval's rmse: 6.85845\n",
      "[800]\ttrain's rmse: 4.49592\teval's rmse: 6.83788\n",
      "[900]\ttrain's rmse: 4.39536\teval's rmse: 6.81483\n",
      "[1000]\ttrain's rmse: 4.30319\teval's rmse: 6.78655\n",
      "Did not meet early stopping. Best iteration is:\n",
      "[1000]\ttrain's rmse: 4.30319\teval's rmse: 6.78655\n"
     ]
    },
    {
     "name": "stderr",
     "output_type": "stream",
     "text": [
      "regularization_factors, val_score: 6.737875:   5%|#9                                    | 1/20 [00:01<00:26,  1.37s/it]\u001b[32m[I 2021-06-20 18:00:21,741]\u001b[0m Trial 43 finished with value: 6.786554836114034 and parameters: {'lambda_l1': 4.029710053749639, 'lambda_l2': 0.3395851427509775}. Best is trial 43 with value: 6.786554836114034.\u001b[0m\n",
      "regularization_factors, val_score: 6.737875:   5%|#9                                    | 1/20 [00:01<00:26,  1.37s/it]"
     ]
    },
    {
     "name": "stdout",
     "output_type": "stream",
     "text": [
      "Training until validation scores don't improve for 100 rounds\n",
      "[100]\ttrain's rmse: 6.18823\teval's rmse: 7.38988\n",
      "[200]\ttrain's rmse: 5.66543\teval's rmse: 7.16241\n",
      "[300]\ttrain's rmse: 5.31392\teval's rmse: 7.05393\n",
      "[400]\ttrain's rmse: 5.05248\teval's rmse: 6.97726\n",
      "[500]\ttrain's rmse: 4.85665\teval's rmse: 6.92735\n",
      "[600]\ttrain's rmse: 4.68799\teval's rmse: 6.89759\n",
      "[700]\ttrain's rmse: 4.55314\teval's rmse: 6.85606\n",
      "[800]\ttrain's rmse: 4.4275\teval's rmse: 6.8136\n",
      "[900]\ttrain's rmse: 4.32065\teval's rmse: 6.80004\n",
      "[1000]\ttrain's rmse: 4.22782\teval's rmse: 6.78027\n",
      "Did not meet early stopping. Best iteration is:\n",
      "[1000]\ttrain's rmse: 4.22782\teval's rmse: 6.78027"
     ]
    },
    {
     "name": "stderr",
     "output_type": "stream",
     "text": [
      "regularization_factors, val_score: 6.737875:  10%|###8                                  | 2/20 [00:03<00:29,  1.66s/it]\u001b[32m[I 2021-06-20 18:00:23,618]\u001b[0m Trial 44 finished with value: 6.780273178800684 and parameters: {'lambda_l1': 1.2262973380662077, 'lambda_l2': 0.00569000336476944}. Best is trial 44 with value: 6.780273178800684.\u001b[0m\n"
     ]
    },
    {
     "name": "stdout",
     "output_type": "stream",
     "text": [
      "\n"
     ]
    },
    {
     "name": "stderr",
     "output_type": "stream",
     "text": [
      "\r",
      "regularization_factors, val_score: 6.737875:  10%|###8                                  | 2/20 [00:03<00:29,  1.66s/it]"
     ]
    },
    {
     "name": "stdout",
     "output_type": "stream",
     "text": [
      "Training until validation scores don't improve for 100 rounds\n",
      "[100]\ttrain's rmse: 6.1913\teval's rmse: 7.41349\n",
      "[200]\ttrain's rmse: 5.65388\teval's rmse: 7.15987\n",
      "[300]\ttrain's rmse: 5.29843\teval's rmse: 7.0318\n",
      "[400]\ttrain's rmse: 5.04526\teval's rmse: 6.9722\n",
      "[500]\ttrain's rmse: 4.84798\teval's rmse: 6.90622\n",
      "[600]\ttrain's rmse: 4.67938\teval's rmse: 6.88387\n",
      "[700]\ttrain's rmse: 4.54308\teval's rmse: 6.85971\n",
      "[800]\ttrain's rmse: 4.415\teval's rmse: 6.81107\n",
      "[900]\ttrain's rmse: 4.30637\teval's rmse: 6.80548\n"
     ]
    },
    {
     "name": "stderr",
     "output_type": "stream",
     "text": [
      "\r",
      "regularization_factors, val_score: 6.737875:  10%|###8                                  | 2/20 [00:05<00:29,  1.66s/it]"
     ]
    },
    {
     "name": "stdout",
     "output_type": "stream",
     "text": [
      "[1000]\ttrain's rmse: 4.20794\teval's rmse: 6.77887\n",
      "Did not meet early stopping. Best iteration is:\n",
      "[1000]\ttrain's rmse: 4.20794\teval's rmse: 6.77887\n"
     ]
    },
    {
     "name": "stderr",
     "output_type": "stream",
     "text": [
      "regularization_factors, val_score: 6.737875:  15%|#####7                                | 3/20 [00:05<00:30,  1.79s/it]\u001b[32m[I 2021-06-20 18:00:25,548]\u001b[0m Trial 45 finished with value: 6.778873213053624 and parameters: {'lambda_l1': 0.0008355090422420267, 'lambda_l2': 0.00010653969343677399}. Best is trial 45 with value: 6.778873213053624.\u001b[0m\n",
      "regularization_factors, val_score: 6.737875:  15%|#####7                                | 3/20 [00:05<00:30,  1.79s/it]"
     ]
    },
    {
     "name": "stdout",
     "output_type": "stream",
     "text": [
      "Training until validation scores don't improve for 100 rounds\n",
      "[100]\ttrain's rmse: 6.21358\teval's rmse: 7.44402\n",
      "[200]\ttrain's rmse: 5.65981\teval's rmse: 7.17776\n",
      "[300]\ttrain's rmse: 5.32106\teval's rmse: 7.067\n",
      "[400]\ttrain's rmse: 5.06193\teval's rmse: 6.97986\n",
      "[500]\ttrain's rmse: 4.8671\teval's rmse: 6.89734\n",
      "[600]\ttrain's rmse: 4.70302\teval's rmse: 6.8583\n",
      "[700]\ttrain's rmse: 4.56837\teval's rmse: 6.82279\n",
      "[800]\ttrain's rmse: 4.44509\teval's rmse: 6.78472\n"
     ]
    },
    {
     "name": "stderr",
     "output_type": "stream",
     "text": [
      "regularization_factors, val_score: 6.727528:  20%|#######6                              | 4/20 [00:06<00:25,  1.58s/it]\u001b[32m[I 2021-06-20 18:00:26,813]\u001b[0m Trial 46 finished with value: 6.727528066109271 and parameters: {'lambda_l1': 1.5857614080429325, 'lambda_l2': 0.43940077963341573}. Best is trial 46 with value: 6.727528066109271.\u001b[0m\n",
      "regularization_factors, val_score: 6.727528:  20%|#######6                              | 4/20 [00:06<00:25,  1.58s/it]"
     ]
    },
    {
     "name": "stdout",
     "output_type": "stream",
     "text": [
      "[900]\ttrain's rmse: 4.34118\teval's rmse: 6.75634\n",
      "[1000]\ttrain's rmse: 4.24517\teval's rmse: 6.72753\n",
      "Did not meet early stopping. Best iteration is:\n",
      "[1000]\ttrain's rmse: 4.24517\teval's rmse: 6.72753\n",
      "Training until validation scores don't improve for 100 rounds\n",
      "[100]\ttrain's rmse: 6.1806\teval's rmse: 7.42494\n",
      "[200]\ttrain's rmse: 5.62917\teval's rmse: 7.14015\n",
      "[300]\ttrain's rmse: 5.28296\teval's rmse: 7.02454\n",
      "[400]\ttrain's rmse: 5.03104\teval's rmse: 6.94459\n",
      "[500]\ttrain's rmse: 4.82841\teval's rmse: 6.88757\n",
      "[600]\ttrain's rmse: 4.6656\teval's rmse: 6.85452\n",
      "[700]\ttrain's rmse: 4.52183\teval's rmse: 6.82121\n",
      "[800]\ttrain's rmse: 4.39818\teval's rmse: 6.78353\n",
      "[900]\ttrain's rmse: 4.29188\teval's rmse: 6.77343\n",
      "[1000]\ttrain's rmse: 4.19546\teval's rmse: 6.75528\n",
      "Did not meet early stopping. Best iteration is:\n",
      "[1000]\ttrain's rmse: 4.19546\teval's rmse: 6.75528\n"
     ]
    },
    {
     "name": "stderr",
     "output_type": "stream",
     "text": [
      "regularization_factors, val_score: 6.727528:  25%|#########5                            | 5/20 [00:07<00:22,  1.49s/it]\u001b[32m[I 2021-06-20 18:00:28,154]\u001b[0m Trial 47 finished with value: 6.755279344108889 and parameters: {'lambda_l1': 4.697294901733854e-07, 'lambda_l2': 0.1246268478574147}. Best is trial 46 with value: 6.727528066109271.\u001b[0m\n",
      "regularization_factors, val_score: 6.727528:  25%|#########5                            | 5/20 [00:07<00:22,  1.49s/it]"
     ]
    },
    {
     "name": "stdout",
     "output_type": "stream",
     "text": [
      "Training until validation scores don't improve for 100 rounds\n",
      "[100]\ttrain's rmse: 6.20319\teval's rmse: 7.40804\n",
      "[200]\ttrain's rmse: 5.67763\teval's rmse: 7.16858\n",
      "[300]\ttrain's rmse: 5.3386\teval's rmse: 7.05975\n",
      "[400]\ttrain's rmse: 5.08652\teval's rmse: 6.96186\n",
      "[500]\ttrain's rmse: 4.89075\teval's rmse: 6.90416\n",
      "[600]\ttrain's rmse: 4.71616\teval's rmse: 6.86888\n",
      "[700]\ttrain's rmse: 4.5781\teval's rmse: 6.83608\n",
      "[800]\ttrain's rmse: 4.45661\teval's rmse: 6.79617\n"
     ]
    },
    {
     "name": "stderr",
     "output_type": "stream",
     "text": [
      "regularization_factors, val_score: 6.727528:  30%|###########4                          | 6/20 [00:08<00:18,  1.32s/it]\u001b[32m[I 2021-06-20 18:00:29,145]\u001b[0m Trial 48 finished with value: 6.760280356608307 and parameters: {'lambda_l1': 0.0015612415606045954, 'lambda_l2': 1.7049401646083515}. Best is trial 46 with value: 6.727528066109271.\u001b[0m\n",
      "regularization_factors, val_score: 6.727528:  30%|###########4                          | 6/20 [00:08<00:18,  1.32s/it]"
     ]
    },
    {
     "name": "stdout",
     "output_type": "stream",
     "text": [
      "[900]\ttrain's rmse: 4.35062\teval's rmse: 6.77872\n",
      "[1000]\ttrain's rmse: 4.25274\teval's rmse: 6.76028\n",
      "Did not meet early stopping. Best iteration is:\n",
      "[1000]\ttrain's rmse: 4.25274\teval's rmse: 6.76028\n",
      "Training until validation scores don't improve for 100 rounds\n",
      "[100]\ttrain's rmse: 6.19205\teval's rmse: 7.41557\n",
      "[200]\ttrain's rmse: 5.65095\teval's rmse: 7.18482\n",
      "[300]\ttrain's rmse: 5.29609\teval's rmse: 7.05104\n",
      "[400]\ttrain's rmse: 5.03245\teval's rmse: 6.9683\n",
      "[500]\ttrain's rmse: 4.83606\teval's rmse: 6.90089\n",
      "[600]\ttrain's rmse: 4.66893\teval's rmse: 6.87211\n",
      "[700]\ttrain's rmse: 4.524\teval's rmse: 6.81813\n",
      "[800]\ttrain's rmse: 4.39509\teval's rmse: 6.7813\n",
      "[900]\ttrain's rmse: 4.28723\teval's rmse: 6.76239\n",
      "[1000]\ttrain's rmse: 4.19022\teval's rmse: 6.7396\n",
      "Did not meet early stopping. Best iteration is:\n",
      "[1000]\ttrain's rmse: 4.19022\teval's rmse: 6.7396\n"
     ]
    },
    {
     "name": "stderr",
     "output_type": "stream",
     "text": [
      "regularization_factors, val_score: 6.727528:  35%|#############3                        | 7/20 [00:09<00:15,  1.16s/it]\u001b[32m[I 2021-06-20 18:00:29,954]\u001b[0m Trial 49 finished with value: 6.739599874138087 and parameters: {'lambda_l1': 9.491691177468899e-05, 'lambda_l2': 9.030616477207841e-07}. Best is trial 46 with value: 6.727528066109271.\u001b[0m\n",
      "regularization_factors, val_score: 6.727528:  35%|#############3                        | 7/20 [00:09<00:15,  1.16s/it]"
     ]
    },
    {
     "name": "stdout",
     "output_type": "stream",
     "text": [
      "Training until validation scores don't improve for 100 rounds\n",
      "[100]\ttrain's rmse: 6.21219\teval's rmse: 7.43633\n",
      "[200]\ttrain's rmse: 5.69456\teval's rmse: 7.18358\n",
      "[300]\ttrain's rmse: 5.36723\teval's rmse: 7.07174\n",
      "[400]\ttrain's rmse: 5.12193\teval's rmse: 6.99219\n",
      "[500]\ttrain's rmse: 4.91708\teval's rmse: 6.92345\n",
      "[600]\ttrain's rmse: 4.76183\teval's rmse: 6.89081\n",
      "[700]\ttrain's rmse: 4.63339\teval's rmse: 6.85191\n",
      "[800]\ttrain's rmse: 4.51517\teval's rmse: 6.8258\n",
      "[900]\ttrain's rmse: 4.41311\teval's rmse: 6.80353\n"
     ]
    },
    {
     "name": "stderr",
     "output_type": "stream",
     "text": [
      "regularization_factors, val_score: 6.727528:  40%|###############2                      | 8/20 [00:10<00:12,  1.06s/it]\u001b[32m[I 2021-06-20 18:00:30,809]\u001b[0m Trial 50 finished with value: 6.777679015513357 and parameters: {'lambda_l1': 5.907927191889968, 'lambda_l2': 0.0029898636898462805}. Best is trial 46 with value: 6.727528066109271.\u001b[0m\n",
      "regularization_factors, val_score: 6.727528:  40%|###############2                      | 8/20 [00:10<00:12,  1.06s/it]"
     ]
    },
    {
     "name": "stdout",
     "output_type": "stream",
     "text": [
      "[1000]\ttrain's rmse: 4.3192\teval's rmse: 6.77768\n",
      "Did not meet early stopping. Best iteration is:\n",
      "[1000]\ttrain's rmse: 4.3192\teval's rmse: 6.77768\n",
      "Training until validation scores don't improve for 100 rounds\n",
      "[100]\ttrain's rmse: 6.29884\teval's rmse: 7.47303\n",
      "[200]\ttrain's rmse: 5.77895\teval's rmse: 7.25051\n",
      "[300]\ttrain's rmse: 5.44626\teval's rmse: 7.09315\n",
      "[400]\ttrain's rmse: 5.19394\teval's rmse: 7.01697\n",
      "[500]\ttrain's rmse: 5.00828\teval's rmse: 6.95033\n",
      "[600]\ttrain's rmse: 4.84196\teval's rmse: 6.90911\n",
      "[700]\ttrain's rmse: 4.70063\teval's rmse: 6.86949\n",
      "[800]\ttrain's rmse: 4.58428\teval's rmse: 6.83128\n",
      "[900]\ttrain's rmse: 4.47924\teval's rmse: 6.79965\n",
      "[1000]\ttrain's rmse: 4.38341\teval's rmse: 6.76873\n",
      "Did not meet early stopping. Best iteration is:\n",
      "[1000]\ttrain's rmse: 4.38341\teval's rmse: 6.76873\n"
     ]
    },
    {
     "name": "stderr",
     "output_type": "stream",
     "text": [
      "regularization_factors, val_score: 6.727528:  45%|#################1                    | 9/20 [00:11<00:11,  1.08s/it]\u001b[32m[I 2021-06-20 18:00:31,921]\u001b[0m Trial 51 finished with value: 6.768725604195032 and parameters: {'lambda_l1': 0.4596537671530394, 'lambda_l2': 8.421893969134706}. Best is trial 46 with value: 6.727528066109271.\u001b[0m\n",
      "regularization_factors, val_score: 6.727528:  45%|#################1                    | 9/20 [00:11<00:11,  1.08s/it]"
     ]
    },
    {
     "name": "stdout",
     "output_type": "stream",
     "text": [
      "Training until validation scores don't improve for 100 rounds\n",
      "[100]\ttrain's rmse: 6.1913\teval's rmse: 7.4135\n",
      "[200]\ttrain's rmse: 5.65388\teval's rmse: 7.15987\n",
      "[300]\ttrain's rmse: 5.29844\teval's rmse: 7.0318\n",
      "[400]\ttrain's rmse: 5.04527\teval's rmse: 6.9722\n",
      "[500]\ttrain's rmse: 4.84799\teval's rmse: 6.90622\n",
      "[600]\ttrain's rmse: 4.67938\teval's rmse: 6.88387\n",
      "[700]\ttrain's rmse: 4.54308\teval's rmse: 6.85971\n",
      "[800]\ttrain's rmse: 4.41501\teval's rmse: 6.81107\n",
      "[900]\ttrain's rmse: 4.30637\teval's rmse: 6.80548\n"
     ]
    },
    {
     "name": "stderr",
     "output_type": "stream",
     "text": [
      "regularization_factors, val_score: 6.727528:  50%|##################5                  | 10/20 [00:12<00:10,  1.02s/it]\u001b[32m[I 2021-06-20 18:00:32,805]\u001b[0m Trial 52 finished with value: 6.778873141413658 and parameters: {'lambda_l1': 0.000656067296640622, 'lambda_l2': 0.0004603002355855637}. Best is trial 46 with value: 6.727528066109271.\u001b[0m\n",
      "regularization_factors, val_score: 6.727528:  50%|##################5                  | 10/20 [00:12<00:10,  1.02s/it]"
     ]
    },
    {
     "name": "stdout",
     "output_type": "stream",
     "text": [
      "[1000]\ttrain's rmse: 4.20795\teval's rmse: 6.77887\n",
      "Did not meet early stopping. Best iteration is:\n",
      "[1000]\ttrain's rmse: 4.20795\teval's rmse: 6.77887\n",
      "Training until validation scores don't improve for 100 rounds\n",
      "[100]\ttrain's rmse: 6.18649\teval's rmse: 7.42087\n",
      "[200]\ttrain's rmse: 5.64787\teval's rmse: 7.15991\n",
      "[300]\ttrain's rmse: 5.30206\teval's rmse: 7.02902\n",
      "[400]\ttrain's rmse: 5.04808\teval's rmse: 6.93206\n",
      "[500]\ttrain's rmse: 4.84762\teval's rmse: 6.88245\n",
      "[600]\ttrain's rmse: 4.67961\teval's rmse: 6.86034\n",
      "[700]\ttrain's rmse: 4.54109\teval's rmse: 6.83529\n",
      "[800]\ttrain's rmse: 4.41836\teval's rmse: 6.79859\n"
     ]
    },
    {
     "name": "stderr",
     "output_type": "stream",
     "text": [
      "regularization_factors, val_score: 6.727528:  55%|####################3                | 11/20 [00:13<00:09,  1.00s/it]\u001b[32m[I 2021-06-20 18:00:33,783]\u001b[0m Trial 53 finished with value: 6.772607847811549 and parameters: {'lambda_l1': 0.05449434018469448, 'lambda_l2': 1.2990074748214303e-08}. Best is trial 46 with value: 6.727528066109271.\u001b[0m\n",
      "regularization_factors, val_score: 6.727528:  55%|####################3                | 11/20 [00:13<00:09,  1.00s/it]"
     ]
    },
    {
     "name": "stdout",
     "output_type": "stream",
     "text": [
      "[900]\ttrain's rmse: 4.315\teval's rmse: 6.78714\n",
      "[1000]\ttrain's rmse: 4.21522\teval's rmse: 6.77261\n",
      "Did not meet early stopping. Best iteration is:\n",
      "[1000]\ttrain's rmse: 4.21522\teval's rmse: 6.77261\n",
      "Training until validation scores don't improve for 100 rounds\n",
      "[100]\ttrain's rmse: 6.19205\teval's rmse: 7.41557\n",
      "[200]\ttrain's rmse: 5.65095\teval's rmse: 7.18482\n",
      "[300]\ttrain's rmse: 5.29609\teval's rmse: 7.05104\n",
      "[400]\ttrain's rmse: 5.03245\teval's rmse: 6.9683\n",
      "[500]\ttrain's rmse: 4.83606\teval's rmse: 6.90089\n",
      "[600]\ttrain's rmse: 4.66893\teval's rmse: 6.87211\n",
      "[700]\ttrain's rmse: 4.53078\teval's rmse: 6.82279\n",
      "[800]\ttrain's rmse: 4.40085\teval's rmse: 6.78534\n"
     ]
    },
    {
     "name": "stderr",
     "output_type": "stream",
     "text": [
      "regularization_factors, val_score: 6.727528:  60%|######################2              | 12/20 [00:14<00:07,  1.03it/s]\u001b[32m[I 2021-06-20 18:00:34,687]\u001b[0m Trial 54 finished with value: 6.7510363767754065 and parameters: {'lambda_l1': 1.9486722519411374e-06, 'lambda_l2': 3.547192120667331e-07}. Best is trial 46 with value: 6.727528066109271.\u001b[0m\n",
      "regularization_factors, val_score: 6.727528:  60%|######################2              | 12/20 [00:14<00:07,  1.03it/s]"
     ]
    },
    {
     "name": "stdout",
     "output_type": "stream",
     "text": [
      "[900]\ttrain's rmse: 4.28965\teval's rmse: 6.77473\n",
      "[1000]\ttrain's rmse: 4.19488\teval's rmse: 6.75104\n",
      "Did not meet early stopping. Best iteration is:\n",
      "[1000]\ttrain's rmse: 4.19488\teval's rmse: 6.75104\n",
      "Training until validation scores don't improve for 100 rounds\n",
      "[100]\ttrain's rmse: 6.19205\teval's rmse: 7.41557\n",
      "[200]\ttrain's rmse: 5.65095\teval's rmse: 7.18482\n",
      "[300]\ttrain's rmse: 5.29609\teval's rmse: 7.05104\n",
      "[400]\ttrain's rmse: 5.03245\teval's rmse: 6.9683\n",
      "[500]\ttrain's rmse: 4.83606\teval's rmse: 6.90089\n",
      "[600]\ttrain's rmse: 4.66893\teval's rmse: 6.87211\n",
      "[700]\ttrain's rmse: 4.53078\teval's rmse: 6.82279\n",
      "[800]\ttrain's rmse: 4.40085\teval's rmse: 6.78534\n",
      "[900]\ttrain's rmse: 4.28965\teval's rmse: 6.77473\n"
     ]
    },
    {
     "name": "stderr",
     "output_type": "stream",
     "text": [
      "regularization_factors, val_score: 6.727528:  65%|########################             | 13/20 [00:15<00:06,  1.07it/s]\u001b[32m[I 2021-06-20 18:00:35,515]\u001b[0m Trial 55 finished with value: 6.751036392015417 and parameters: {'lambda_l1': 1.3810382325468307e-05, 'lambda_l2': 5.446264863453356e-06}. Best is trial 46 with value: 6.727528066109271.\u001b[0m\n",
      "regularization_factors, val_score: 6.727528:  65%|########################             | 13/20 [00:15<00:06,  1.07it/s]"
     ]
    },
    {
     "name": "stdout",
     "output_type": "stream",
     "text": [
      "[1000]\ttrain's rmse: 4.19488\teval's rmse: 6.75104\n",
      "Did not meet early stopping. Best iteration is:\n",
      "[1000]\ttrain's rmse: 4.19488\teval's rmse: 6.75104\n",
      "Training until validation scores don't improve for 100 rounds\n",
      "[100]\ttrain's rmse: 6.19205\teval's rmse: 7.41557\n",
      "[200]\ttrain's rmse: 5.65095\teval's rmse: 7.18482\n",
      "[300]\ttrain's rmse: 5.29609\teval's rmse: 7.05104\n",
      "[400]\ttrain's rmse: 5.03245\teval's rmse: 6.9683\n",
      "[500]\ttrain's rmse: 4.83606\teval's rmse: 6.90089\n",
      "[600]\ttrain's rmse: 4.66893\teval's rmse: 6.87211\n",
      "[700]\ttrain's rmse: 4.53078\teval's rmse: 6.82279\n",
      "[800]\ttrain's rmse: 4.40096\teval's rmse: 6.78503\n",
      "[900]\ttrain's rmse: 4.29186\teval's rmse: 6.76103\n"
     ]
    },
    {
     "name": "stderr",
     "output_type": "stream",
     "text": [
      "regularization_factors, val_score: 6.727528:  70%|#########################9           | 14/20 [00:16<00:05,  1.06it/s]\u001b[32m[I 2021-06-20 18:00:36,485]\u001b[0m Trial 56 finished with value: 6.737875382826996 and parameters: {'lambda_l1': 1.6702591980798074e-08, 'lambda_l2': 1.2415669114912737e-08}. Best is trial 46 with value: 6.727528066109271.\u001b[0m\n",
      "regularization_factors, val_score: 6.727528:  70%|#########################9           | 14/20 [00:16<00:05,  1.06it/s]"
     ]
    },
    {
     "name": "stdout",
     "output_type": "stream",
     "text": [
      "[1000]\ttrain's rmse: 4.19323\teval's rmse: 6.73788\n",
      "Did not meet early stopping. Best iteration is:\n",
      "[1000]\ttrain's rmse: 4.19323\teval's rmse: 6.73788\n",
      "Training until validation scores don't improve for 100 rounds\n",
      "[100]\ttrain's rmse: 6.19136\teval's rmse: 7.41352\n",
      "[200]\ttrain's rmse: 5.6495\teval's rmse: 7.17101\n",
      "[300]\ttrain's rmse: 5.29863\teval's rmse: 7.07209\n",
      "[400]\ttrain's rmse: 5.04303\teval's rmse: 6.98552\n",
      "[500]\ttrain's rmse: 4.84364\teval's rmse: 6.92235\n",
      "[600]\ttrain's rmse: 4.67213\teval's rmse: 6.88212\n",
      "[700]\ttrain's rmse: 4.53375\teval's rmse: 6.84579\n",
      "[800]\ttrain's rmse: 4.40941\teval's rmse: 6.81161\n",
      "[900]\ttrain's rmse: 4.29555\teval's rmse: 6.79355\n"
     ]
    },
    {
     "name": "stderr",
     "output_type": "stream",
     "text": [
      "regularization_factors, val_score: 6.727528:  75%|###########################7         | 15/20 [00:17<00:04,  1.03it/s]\u001b[32m[I 2021-06-20 18:00:37,521]\u001b[0m Trial 57 finished with value: 6.768809717823044 and parameters: {'lambda_l1': 0.01982074054395897, 'lambda_l2': 1.447413191498441e-08}. Best is trial 46 with value: 6.727528066109271.\u001b[0m\n",
      "regularization_factors, val_score: 6.727528:  75%|###########################7         | 15/20 [00:17<00:04,  1.03it/s]"
     ]
    },
    {
     "name": "stdout",
     "output_type": "stream",
     "text": [
      "[1000]\ttrain's rmse: 4.20089\teval's rmse: 6.76881\n",
      "Did not meet early stopping. Best iteration is:\n",
      "[1000]\ttrain's rmse: 4.20089\teval's rmse: 6.76881\n",
      "Training until validation scores don't improve for 100 rounds\n",
      "[100]\ttrain's rmse: 6.20098\teval's rmse: 7.42638\n",
      "[200]\ttrain's rmse: 5.65255\teval's rmse: 7.16748\n",
      "[300]\ttrain's rmse: 5.29981\teval's rmse: 7.07207\n",
      "[400]\ttrain's rmse: 5.04218\teval's rmse: 6.99616\n",
      "[500]\ttrain's rmse: 4.84185\teval's rmse: 6.95071\n",
      "[600]\ttrain's rmse: 4.67664\teval's rmse: 6.90079\n",
      "[700]\ttrain's rmse: 4.53889\teval's rmse: 6.85952\n",
      "[800]\ttrain's rmse: 4.4149\teval's rmse: 6.81901\n",
      "[900]\ttrain's rmse: 4.30604\teval's rmse: 6.7922\n",
      "[1000]\ttrain's rmse: 4.20753\teval's rmse: 6.77501\n",
      "Did not meet early stopping. Best iteration is:\n",
      "[1000]\ttrain's rmse: 4.20753\teval's rmse: 6.77501\n"
     ]
    },
    {
     "name": "stderr",
     "output_type": "stream",
     "text": [
      "regularization_factors, val_score: 6.727528:  80%|#############################6       | 16/20 [00:18<00:03,  1.01it/s]\u001b[32m[I 2021-06-20 18:00:38,553]\u001b[0m Trial 58 finished with value: 6.775008141893175 and parameters: {'lambda_l1': 1.2656118302274855e-07, 'lambda_l2': 0.03543545510573082}. Best is trial 46 with value: 6.727528066109271.\u001b[0m\n",
      "regularization_factors, val_score: 6.727528:  80%|#############################6       | 16/20 [00:18<00:03,  1.01it/s]"
     ]
    },
    {
     "name": "stdout",
     "output_type": "stream",
     "text": [
      "Training until validation scores don't improve for 100 rounds\n",
      "[100]\ttrain's rmse: 6.308\teval's rmse: 7.488\n",
      "[200]\ttrain's rmse: 5.78934\teval's rmse: 7.23654\n",
      "[300]\ttrain's rmse: 5.46369\teval's rmse: 7.10318\n",
      "[400]\ttrain's rmse: 5.21443\teval's rmse: 7.01366\n",
      "[500]\ttrain's rmse: 5.01853\teval's rmse: 6.9346\n",
      "[600]\ttrain's rmse: 4.85463\teval's rmse: 6.88902\n",
      "[700]\ttrain's rmse: 4.72449\teval's rmse: 6.85822\n",
      "[800]\ttrain's rmse: 4.60369\teval's rmse: 6.82251\n",
      "[900]\ttrain's rmse: 4.49481\teval's rmse: 6.80427\n",
      "[1000]\ttrain's rmse: 4.39862\teval's rmse: 6.77943\n",
      "Did not meet early stopping. Best iteration is:\n",
      "[1000]\ttrain's rmse: 4.39862\teval's rmse: 6.77943\n"
     ]
    },
    {
     "name": "stderr",
     "output_type": "stream",
     "text": [
      "regularization_factors, val_score: 6.727528:  85%|###############################4     | 17/20 [00:20<00:04,  1.40s/it]\u001b[32m[I 2021-06-20 18:00:40,903]\u001b[0m Trial 59 finished with value: 6.779434343087855 and parameters: {'lambda_l1': 1.045063034232802e-08, 'lambda_l2': 9.821664245003845}. Best is trial 46 with value: 6.727528066109271.\u001b[0m\n",
      "regularization_factors, val_score: 6.727528:  85%|###############################4     | 17/20 [00:20<00:04,  1.40s/it]"
     ]
    },
    {
     "name": "stdout",
     "output_type": "stream",
     "text": [
      "Training until validation scores don't improve for 100 rounds\n",
      "[100]\ttrain's rmse: 6.19205\teval's rmse: 7.41557\n",
      "[200]\ttrain's rmse: 5.65095\teval's rmse: 7.18482\n",
      "[300]\ttrain's rmse: 5.29609\teval's rmse: 7.05104\n",
      "[400]\ttrain's rmse: 5.03245\teval's rmse: 6.9683\n",
      "[500]\ttrain's rmse: 4.83606\teval's rmse: 6.90089\n",
      "[600]\ttrain's rmse: 4.66893\teval's rmse: 6.87211\n",
      "[700]\ttrain's rmse: 4.53078\teval's rmse: 6.82279\n",
      "[800]\ttrain's rmse: 4.40096\teval's rmse: 6.78503\n"
     ]
    },
    {
     "name": "stderr",
     "output_type": "stream",
     "text": [
      "\r",
      "regularization_factors, val_score: 6.727528:  85%|###############################4     | 17/20 [00:21<00:04,  1.40s/it]"
     ]
    },
    {
     "name": "stdout",
     "output_type": "stream",
     "text": [
      "[900]\ttrain's rmse: 4.29186\teval's rmse: 6.76103\n",
      "[1000]\ttrain's rmse: 4.19323\teval's rmse: 6.73788\n",
      "Did not meet early stopping. Best iteration is:\n",
      "[1000]\ttrain's rmse: 4.19323\teval's rmse: 6.73788\n"
     ]
    },
    {
     "name": "stderr",
     "output_type": "stream",
     "text": [
      "regularization_factors, val_score: 6.727528:  90%|#################################3   | 18/20 [00:21<00:02,  1.37s/it]\u001b[32m[I 2021-06-20 18:00:42,188]\u001b[0m Trial 60 finished with value: 6.737875387314563 and parameters: {'lambda_l1': 1.1714495480368771e-08, 'lambda_l2': 3.354406620278939e-05}. Best is trial 46 with value: 6.727528066109271.\u001b[0m\n",
      "regularization_factors, val_score: 6.727528:  90%|#################################3   | 18/20 [00:21<00:02,  1.37s/it]"
     ]
    },
    {
     "name": "stdout",
     "output_type": "stream",
     "text": [
      "Training until validation scores don't improve for 100 rounds\n",
      "[100]\ttrain's rmse: 6.19135\teval's rmse: 7.41351\n",
      "[200]\ttrain's rmse: 5.64384\teval's rmse: 7.15365\n",
      "[300]\ttrain's rmse: 5.30006\teval's rmse: 7.04015\n",
      "[400]\ttrain's rmse: 5.0388\teval's rmse: 6.95452\n",
      "[500]\ttrain's rmse: 4.84258\teval's rmse: 6.88742\n",
      "[600]\ttrain's rmse: 4.67192\teval's rmse: 6.86205\n",
      "[700]\ttrain's rmse: 4.53695\teval's rmse: 6.82632\n",
      "[800]\ttrain's rmse: 4.40963\teval's rmse: 6.79535\n",
      "[900]\ttrain's rmse: 4.30517\teval's rmse: 6.78302\n"
     ]
    },
    {
     "name": "stderr",
     "output_type": "stream",
     "text": [
      "regularization_factors, val_score: 6.727528:  95%|###################################1 | 19/20 [00:23<00:01,  1.41s/it]\u001b[32m[I 2021-06-20 18:00:43,716]\u001b[0m Trial 61 finished with value: 6.765893393151675 and parameters: {'lambda_l1': 0.016280638488921646, 'lambda_l2': 1.0061431762605583e-07}. Best is trial 46 with value: 6.727528066109271.\u001b[0m\n",
      "regularization_factors, val_score: 6.727528:  95%|###################################1 | 19/20 [00:23<00:01,  1.41s/it]"
     ]
    },
    {
     "name": "stdout",
     "output_type": "stream",
     "text": [
      "[1000]\ttrain's rmse: 4.21097\teval's rmse: 6.76589\n",
      "Did not meet early stopping. Best iteration is:\n",
      "[1000]\ttrain's rmse: 4.21097\teval's rmse: 6.76589\n",
      "Training until validation scores don't improve for 100 rounds\n",
      "[100]\ttrain's rmse: 6.19133\teval's rmse: 7.41351\n",
      "[200]\ttrain's rmse: 5.65392\teval's rmse: 7.15989\n",
      "[300]\ttrain's rmse: 5.294\teval's rmse: 7.03412\n",
      "[400]\ttrain's rmse: 5.02916\teval's rmse: 6.95191\n",
      "[500]\ttrain's rmse: 4.83858\teval's rmse: 6.9029\n",
      "[600]\ttrain's rmse: 4.67248\teval's rmse: 6.86097\n",
      "[700]\ttrain's rmse: 4.53484\teval's rmse: 6.82982\n",
      "[800]\ttrain's rmse: 4.40931\teval's rmse: 6.80527\n",
      "[900]\ttrain's rmse: 4.29856\teval's rmse: 6.798\n"
     ]
    },
    {
     "name": "stderr",
     "output_type": "stream",
     "text": [
      "regularization_factors, val_score: 6.727528: 100%|#####################################| 20/20 [00:24<00:00,  1.43s/it]\u001b[32m[I 2021-06-20 18:00:45,188]\u001b[0m Trial 62 finished with value: 6.772861799722585 and parameters: {'lambda_l1': 1.0172005166966303e-05, 'lambda_l2': 0.003333607286854879}. Best is trial 46 with value: 6.727528066109271.\u001b[0m\n",
      "regularization_factors, val_score: 6.727528: 100%|#####################################| 20/20 [00:24<00:00,  1.24s/it]\n",
      "min_data_in_leaf, val_score: 6.727528:   0%|                                                     | 0/5 [00:00<?, ?it/s]"
     ]
    },
    {
     "name": "stdout",
     "output_type": "stream",
     "text": [
      "[1000]\ttrain's rmse: 4.20005\teval's rmse: 6.77286\n",
      "Did not meet early stopping. Best iteration is:\n",
      "[1000]\ttrain's rmse: 4.20005\teval's rmse: 6.77286\n",
      "Training until validation scores don't improve for 100 rounds\n",
      "[100]\ttrain's rmse: 6.13752\teval's rmse: 7.39154\n",
      "[200]\ttrain's rmse: 5.56062\teval's rmse: 7.15061\n",
      "[300]\ttrain's rmse: 5.20004\teval's rmse: 7.04249\n",
      "[400]\ttrain's rmse: 4.9235\teval's rmse: 6.97819\n",
      "[500]\ttrain's rmse: 4.69852\teval's rmse: 6.93849\n",
      "[600]\ttrain's rmse: 4.50662\teval's rmse: 6.92475\n",
      "[700]\ttrain's rmse: 4.34444\teval's rmse: 6.87577\n",
      "[800]\ttrain's rmse: 4.1971\teval's rmse: 6.82051\n",
      "[900]\ttrain's rmse: 4.07084\teval's rmse: 6.80585\n",
      "[1000]\ttrain's rmse: 3.95761\teval's rmse: 6.77794\n",
      "Did not meet early stopping. Best iteration is:\n",
      "[1000]\ttrain's rmse: 3.95761\teval's rmse: 6.77794\n"
     ]
    },
    {
     "name": "stderr",
     "output_type": "stream",
     "text": [
      "min_data_in_leaf, val_score: 6.727528:  20%|#########                                    | 1/5 [00:00<00:03,  1.27it/s]\u001b[32m[I 2021-06-20 18:00:45,987]\u001b[0m Trial 63 finished with value: 6.7779415550865565 and parameters: {'min_child_samples': 10}. Best is trial 63 with value: 6.7779415550865565.\u001b[0m\n",
      "min_data_in_leaf, val_score: 6.727528:  20%|#########                                    | 1/5 [00:00<00:03,  1.27it/s]"
     ]
    },
    {
     "name": "stdout",
     "output_type": "stream",
     "text": [
      "Training until validation scores don't improve for 100 rounds\n",
      "[100]\ttrain's rmse: 6.60487\teval's rmse: 7.70551\n",
      "[200]\ttrain's rmse: 6.08259\teval's rmse: 7.43004\n",
      "[300]\ttrain's rmse: 5.79233\teval's rmse: 7.28955\n",
      "[400]\ttrain's rmse: 5.56338\teval's rmse: 7.18192\n",
      "[500]\ttrain's rmse: 5.38586\teval's rmse: 7.11247\n",
      "[600]\ttrain's rmse: 5.21643\teval's rmse: 7.03972\n",
      "[700]\ttrain's rmse: 5.08498\teval's rmse: 6.9715\n",
      "[800]\ttrain's rmse: 4.97092\teval's rmse: 6.92529\n",
      "[900]\ttrain's rmse: 4.86967\teval's rmse: 6.88812\n"
     ]
    },
    {
     "name": "stderr",
     "output_type": "stream",
     "text": [
      "min_data_in_leaf, val_score: 6.727528:  40%|##################                           | 2/5 [00:01<00:02,  1.26it/s]\u001b[32m[I 2021-06-20 18:00:46,771]\u001b[0m Trial 64 finished with value: 6.859776350170847 and parameters: {'min_child_samples': 50}. Best is trial 63 with value: 6.7779415550865565.\u001b[0m\n",
      "min_data_in_leaf, val_score: 6.727528:  40%|##################                           | 2/5 [00:01<00:02,  1.26it/s]"
     ]
    },
    {
     "name": "stdout",
     "output_type": "stream",
     "text": [
      "[1000]\ttrain's rmse: 4.77738\teval's rmse: 6.85978\n",
      "Did not meet early stopping. Best iteration is:\n",
      "[1000]\ttrain's rmse: 4.77738\teval's rmse: 6.85978\n",
      "Training until validation scores don't improve for 100 rounds\n",
      "[100]\ttrain's rmse: 7.18024\teval's rmse: 8.05338\n",
      "[200]\ttrain's rmse: 6.72389\teval's rmse: 7.81584\n",
      "[300]\ttrain's rmse: 6.44945\teval's rmse: 7.67513\n",
      "[400]\ttrain's rmse: 6.25838\teval's rmse: 7.58061\n",
      "[500]\ttrain's rmse: 6.08272\teval's rmse: 7.51579\n",
      "[600]\ttrain's rmse: 5.92736\teval's rmse: 7.44877\n",
      "[700]\ttrain's rmse: 5.79855\teval's rmse: 7.38797\n",
      "[800]\ttrain's rmse: 5.68329\teval's rmse: 7.33399\n"
     ]
    },
    {
     "name": "stderr",
     "output_type": "stream",
     "text": [
      "min_data_in_leaf, val_score: 6.727528:  60%|###########################                  | 3/5 [00:02<00:01,  1.26it/s]\u001b[32m[I 2021-06-20 18:00:47,582]\u001b[0m Trial 65 finished with value: 7.260530973434053 and parameters: {'min_child_samples': 100}. Best is trial 63 with value: 6.7779415550865565.\u001b[0m\n",
      "min_data_in_leaf, val_score: 6.727528:  60%|###########################                  | 3/5 [00:02<00:01,  1.26it/s]"
     ]
    },
    {
     "name": "stdout",
     "output_type": "stream",
     "text": [
      "[900]\ttrain's rmse: 5.57971\teval's rmse: 7.30124\n",
      "[1000]\ttrain's rmse: 5.48361\teval's rmse: 7.26053\n",
      "Did not meet early stopping. Best iteration is:\n",
      "[1000]\ttrain's rmse: 5.48361\teval's rmse: 7.26053\n",
      "Training until validation scores don't improve for 100 rounds\n",
      "[100]\ttrain's rmse: 6.1065\teval's rmse: 7.36348\n",
      "[200]\ttrain's rmse: 5.50404\teval's rmse: 7.10392\n",
      "[300]\ttrain's rmse: 5.11544\teval's rmse: 7.0149\n",
      "[400]\ttrain's rmse: 4.80077\teval's rmse: 6.95252\n",
      "[500]\ttrain's rmse: 4.56431\teval's rmse: 6.88692\n",
      "[600]\ttrain's rmse: 4.35238\teval's rmse: 6.86759\n",
      "[700]\ttrain's rmse: 4.18005\teval's rmse: 6.80655\n",
      "[800]\ttrain's rmse: 4.01471\teval's rmse: 6.76987\n",
      "[900]\ttrain's rmse: 3.87929\teval's rmse: 6.7437\n",
      "[1000]\ttrain's rmse: 3.74807\teval's rmse: 6.72052\n",
      "Did not meet early stopping. Best iteration is:\n",
      "[1000]\ttrain's rmse: 3.74807\teval's rmse: 6.72052\n"
     ]
    },
    {
     "name": "stderr",
     "output_type": "stream",
     "text": [
      "min_data_in_leaf, val_score: 6.720519:  80%|####################################         | 4/5 [00:03<00:00,  1.25it/s]\u001b[32m[I 2021-06-20 18:00:48,379]\u001b[0m Trial 66 finished with value: 6.720519391354787 and parameters: {'min_child_samples': 5}. Best is trial 66 with value: 6.720519391354787.\u001b[0m\n",
      "min_data_in_leaf, val_score: 6.720519:  80%|####################################         | 4/5 [00:03<00:00,  1.25it/s]"
     ]
    },
    {
     "name": "stdout",
     "output_type": "stream",
     "text": [
      "Training until validation scores don't improve for 100 rounds\n",
      "[100]\ttrain's rmse: 6.25615\teval's rmse: 7.53232\n",
      "[200]\ttrain's rmse: 5.72257\teval's rmse: 7.31495\n",
      "[300]\ttrain's rmse: 5.41113\teval's rmse: 7.23682\n",
      "[400]\ttrain's rmse: 5.1737\teval's rmse: 7.15718\n",
      "[500]\ttrain's rmse: 4.98445\teval's rmse: 7.09548\n",
      "[600]\ttrain's rmse: 4.82994\teval's rmse: 7.07117\n",
      "[700]\ttrain's rmse: 4.70903\teval's rmse: 7.04628\n",
      "[800]\ttrain's rmse: 4.59449\teval's rmse: 7.01935\n"
     ]
    },
    {
     "name": "stderr",
     "output_type": "stream",
     "text": [
      "min_data_in_leaf, val_score: 6.720519: 100%|#############################################| 5/5 [00:04<00:00,  1.14it/s]\u001b[32m[I 2021-06-20 18:00:49,390]\u001b[0m Trial 67 finished with value: 6.980704471573876 and parameters: {'min_child_samples': 25}. Best is trial 66 with value: 6.720519391354787.\u001b[0m\n",
      "min_data_in_leaf, val_score: 6.720519: 100%|#############################################| 5/5 [00:04<00:00,  1.19it/s]"
     ]
    },
    {
     "name": "stdout",
     "output_type": "stream",
     "text": [
      "[900]\ttrain's rmse: 4.49064\teval's rmse: 7.00087\n",
      "[1000]\ttrain's rmse: 4.39944\teval's rmse: 6.9807\n",
      "Did not meet early stopping. Best iteration is:\n",
      "[1000]\ttrain's rmse: 4.39944\teval's rmse: 6.9807\n"
     ]
    },
    {
     "name": "stderr",
     "output_type": "stream",
     "text": [
      "\n",
      "\u001b[32m[I 2021-06-20 18:00:49,449]\u001b[0m A new study created in memory with name: no-name-d1b16709-9481-4f85-ae7c-aedf3ebb7933\u001b[0m\n",
      "feature_fraction, val_score: inf:   0%|                                                          | 0/7 [00:00<?, ?it/s]"
     ]
    },
    {
     "name": "stdout",
     "output_type": "stream",
     "text": [
      "Training until validation scores don't improve for 100 rounds\n",
      "[100]\ttrain's rmse: 5.44596\teval's rmse: 6.69465\n",
      "[200]\ttrain's rmse: 4.53844\teval's rmse: 6.49949\n",
      "[300]\ttrain's rmse: 3.99117\teval's rmse: 6.44422\n",
      "[400]\ttrain's rmse: 3.5921\teval's rmse: 6.43044\n"
     ]
    },
    {
     "name": "stderr",
     "output_type": "stream",
     "text": [
      "feature_fraction, val_score: 6.411969:  14%|######4                                      | 1/7 [00:00<00:05,  1.12it/s]\u001b[32m[I 2021-06-20 18:00:50,349]\u001b[0m Trial 0 finished with value: 6.411969299285164 and parameters: {'feature_fraction': 1.0}. Best is trial 0 with value: 6.411969299285164.\u001b[0m\n",
      "feature_fraction, val_score: 6.411969:  14%|######4                                      | 1/7 [00:00<00:05,  1.12it/s]"
     ]
    },
    {
     "name": "stdout",
     "output_type": "stream",
     "text": [
      "Early stopping, best iteration is:\n",
      "[320]\ttrain's rmse: 3.89558\teval's rmse: 6.41197\n",
      "Training until validation scores don't improve for 100 rounds\n",
      "[100]\ttrain's rmse: 5.60796\teval's rmse: 6.60096\n",
      "[200]\ttrain's rmse: 4.75329\teval's rmse: 6.37913\n",
      "[300]\ttrain's rmse: 4.24375\teval's rmse: 6.34528\n",
      "[400]\ttrain's rmse: 3.90534\teval's rmse: 6.34863\n",
      "Early stopping, best iteration is:\n",
      "[330]\ttrain's rmse: 4.13717\teval's rmse: 6.32982\n"
     ]
    },
    {
     "name": "stderr",
     "output_type": "stream",
     "text": [
      "feature_fraction, val_score: 6.329823:  29%|############8                                | 2/7 [00:01<00:03,  1.26it/s]\u001b[32m[I 2021-06-20 18:00:51,079]\u001b[0m Trial 1 finished with value: 6.32982299254436 and parameters: {'feature_fraction': 0.6}. Best is trial 1 with value: 6.32982299254436.\u001b[0m\n",
      "feature_fraction, val_score: 6.329823:  29%|############8                                | 2/7 [00:01<00:03,  1.26it/s]"
     ]
    },
    {
     "name": "stdout",
     "output_type": "stream",
     "text": [
      "Training until validation scores don't improve for 100 rounds\n",
      "[100]\ttrain's rmse: 5.4431\teval's rmse: 6.67463\n",
      "[200]\ttrain's rmse: 4.54914\teval's rmse: 6.52835\n",
      "[300]\ttrain's rmse: 4.02017\teval's rmse: 6.47074\n",
      "[400]\ttrain's rmse: 3.65022\teval's rmse: 6.45001\n",
      "[500]\ttrain's rmse: 3.33685\teval's rmse: 6.41817\n",
      "[600]\ttrain's rmse: 3.076\teval's rmse: 6.39001\n",
      "Early stopping, best iteration is:\n",
      "[582]\ttrain's rmse: 3.12098\teval's rmse: 6.37658\n"
     ]
    },
    {
     "name": "stderr",
     "output_type": "stream",
     "text": [
      "feature_fraction, val_score: 6.329823:  43%|###################2                         | 3/7 [00:03<00:04,  1.16s/it]\u001b[32m[I 2021-06-20 18:00:52,667]\u001b[0m Trial 2 finished with value: 6.376575905134283 and parameters: {'feature_fraction': 0.8999999999999999}. Best is trial 1 with value: 6.32982299254436.\u001b[0m\n",
      "feature_fraction, val_score: 6.329823:  43%|###################2                         | 3/7 [00:03<00:04,  1.16s/it]"
     ]
    },
    {
     "name": "stdout",
     "output_type": "stream",
     "text": [
      "Training until validation scores don't improve for 100 rounds\n",
      "[100]\ttrain's rmse: 6.00594\teval's rmse: 6.75678\n",
      "[200]\ttrain's rmse: 5.18271\teval's rmse: 6.47877\n",
      "[300]\ttrain's rmse: 4.70246\teval's rmse: 6.3795\n"
     ]
    },
    {
     "name": "stderr",
     "output_type": "stream",
     "text": [
      "feature_fraction, val_score: 6.329823:  57%|#########################7                   | 4/7 [00:03<00:02,  1.01it/s]\u001b[32m[I 2021-06-20 18:00:53,392]\u001b[0m Trial 3 finished with value: 6.375122834591366 and parameters: {'feature_fraction': 0.4}. Best is trial 1 with value: 6.32982299254436.\u001b[0m\n",
      "feature_fraction, val_score: 6.329823:  57%|#########################7                   | 4/7 [00:03<00:02,  1.01it/s]"
     ]
    },
    {
     "name": "stdout",
     "output_type": "stream",
     "text": [
      "[400]\ttrain's rmse: 4.36601\teval's rmse: 6.39128\n",
      "Early stopping, best iteration is:\n",
      "[311]\ttrain's rmse: 4.65669\teval's rmse: 6.37512\n",
      "Training until validation scores don't improve for 100 rounds\n",
      "[100]\ttrain's rmse: 5.43573\teval's rmse: 6.58802\n",
      "[200]\ttrain's rmse: 4.59793\teval's rmse: 6.42267\n",
      "[300]\ttrain's rmse: 4.08211\teval's rmse: 6.38576\n",
      "[400]\ttrain's rmse: 3.71509\teval's rmse: 6.36931\n",
      "[500]\ttrain's rmse: 3.41181\teval's rmse: 6.32398\n",
      "[600]\ttrain's rmse: 3.15863\teval's rmse: 6.31109\n",
      "[700]\ttrain's rmse: 2.94581\teval's rmse: 6.32974\n",
      "Early stopping, best iteration is:\n",
      "[648]\ttrain's rmse: 3.05354\teval's rmse: 6.30076\n"
     ]
    },
    {
     "name": "stderr",
     "output_type": "stream",
     "text": [
      "feature_fraction, val_score: 6.300756:  71%|################################1            | 5/7 [00:06<00:03,  1.70s/it]\u001b[32m[I 2021-06-20 18:00:56,346]\u001b[0m Trial 4 finished with value: 6.300756130903901 and parameters: {'feature_fraction': 0.8}. Best is trial 4 with value: 6.300756130903901.\u001b[0m\n",
      "feature_fraction, val_score: 6.300756:  71%|################################1            | 5/7 [00:06<00:03,  1.70s/it]"
     ]
    },
    {
     "name": "stdout",
     "output_type": "stream",
     "text": [
      "Training until validation scores don't improve for 100 rounds\n",
      "[100]\ttrain's rmse: 5.5029\teval's rmse: 6.59935\n",
      "[200]\ttrain's rmse: 4.65229\teval's rmse: 6.3689\n",
      "[300]\ttrain's rmse: 4.1323\teval's rmse: 6.32345\n"
     ]
    },
    {
     "name": "stderr",
     "output_type": "stream",
     "text": [
      "feature_fraction, val_score: 6.289232:  86%|######################################5      | 6/7 [00:08<00:01,  1.63s/it]\u001b[32m[I 2021-06-20 18:00:57,838]\u001b[0m Trial 5 finished with value: 6.289232370482841 and parameters: {'feature_fraction': 0.7}. Best is trial 5 with value: 6.289232370482841.\u001b[0m\n",
      "feature_fraction, val_score: 6.289232:  86%|######################################5      | 6/7 [00:08<00:01,  1.63s/it]"
     ]
    },
    {
     "name": "stdout",
     "output_type": "stream",
     "text": [
      "[400]\ttrain's rmse: 3.76802\teval's rmse: 6.31734\n",
      "Early stopping, best iteration is:\n",
      "[318]\ttrain's rmse: 4.05738\teval's rmse: 6.28923\n",
      "Training until validation scores don't improve for 100 rounds\n",
      "[100]\ttrain's rmse: 5.71257\teval's rmse: 6.61988\n",
      "[200]\ttrain's rmse: 4.89317\teval's rmse: 6.3955\n",
      "[300]\ttrain's rmse: 4.39344\teval's rmse: 6.34246\n",
      "[400]\ttrain's rmse: 4.0506\teval's rmse: 6.31433\n",
      "[500]\ttrain's rmse: 3.78121\teval's rmse: 6.30822\n",
      "[600]\ttrain's rmse: 3.54157\teval's rmse: 6.29423\n",
      "[700]\ttrain's rmse: 3.34575\teval's rmse: 6.2945\n",
      "Early stopping, best iteration is:\n",
      "[648]\ttrain's rmse: 3.44612\teval's rmse: 6.27766\n"
     ]
    },
    {
     "name": "stderr",
     "output_type": "stream",
     "text": [
      "feature_fraction, val_score: 6.277662: 100%|#############################################| 7/7 [00:10<00:00,  1.75s/it]\u001b[32m[I 2021-06-20 18:00:59,835]\u001b[0m Trial 6 finished with value: 6.277661830252773 and parameters: {'feature_fraction': 0.5}. Best is trial 6 with value: 6.277661830252773.\u001b[0m\n",
      "feature_fraction, val_score: 6.277662: 100%|#############################################| 7/7 [00:10<00:00,  1.48s/it]\n",
      "num_leaves, val_score: 6.277662:   0%|                                                          | 0/20 [00:00<?, ?it/s]"
     ]
    },
    {
     "name": "stdout",
     "output_type": "stream",
     "text": [
      "Training until validation scores don't improve for 100 rounds\n",
      "[100]\ttrain's rmse: 5.57439\teval's rmse: 6.60696\n",
      "[200]\ttrain's rmse: 4.68443\teval's rmse: 6.4079\n",
      "[300]\ttrain's rmse: 4.13984\teval's rmse: 6.35412\n",
      "[400]\ttrain's rmse: 3.75485\teval's rmse: 6.32734\n"
     ]
    },
    {
     "name": "stderr",
     "output_type": "stream",
     "text": [
      "num_leaves, val_score: 6.277662:   5%|##5                                               | 1/20 [00:01<00:22,  1.21s/it]\u001b[32m[I 2021-06-20 18:01:01,059]\u001b[0m Trial 7 finished with value: 6.3176105875527035 and parameters: {'num_leaves': 165}. Best is trial 7 with value: 6.3176105875527035.\u001b[0m\n",
      "num_leaves, val_score: 6.277662:   5%|##5                                               | 1/20 [00:01<00:22,  1.21s/it]"
     ]
    },
    {
     "name": "stdout",
     "output_type": "stream",
     "text": [
      "Early stopping, best iteration is:\n",
      "[351]\ttrain's rmse: 3.93497\teval's rmse: 6.31761\n",
      "Training until validation scores don't improve for 100 rounds\n",
      "[100]\ttrain's rmse: 5.57439\teval's rmse: 6.60696\n",
      "[200]\ttrain's rmse: 4.68443\teval's rmse: 6.4079\n",
      "[300]\ttrain's rmse: 4.13984\teval's rmse: 6.35412\n",
      "[400]\ttrain's rmse: 3.75485\teval's rmse: 6.32734\n"
     ]
    },
    {
     "name": "stderr",
     "output_type": "stream",
     "text": [
      "num_leaves, val_score: 6.277662:  10%|#####                                             | 2/20 [00:02<00:18,  1.04s/it]\u001b[32m[I 2021-06-20 18:01:01,987]\u001b[0m Trial 8 finished with value: 6.3176105875527035 and parameters: {'num_leaves': 141}. Best is trial 7 with value: 6.3176105875527035.\u001b[0m\n",
      "num_leaves, val_score: 6.277662:  10%|#####                                             | 2/20 [00:02<00:18,  1.04s/it]"
     ]
    },
    {
     "name": "stdout",
     "output_type": "stream",
     "text": [
      "Early stopping, best iteration is:\n",
      "[351]\ttrain's rmse: 3.93497\teval's rmse: 6.31761\n",
      "Training until validation scores don't improve for 100 rounds\n",
      "[100]\ttrain's rmse: 5.57439\teval's rmse: 6.60696\n",
      "[200]\ttrain's rmse: 4.68443\teval's rmse: 6.4079\n",
      "[300]\ttrain's rmse: 4.13984\teval's rmse: 6.35412\n",
      "[400]\ttrain's rmse: 3.75485\teval's rmse: 6.32734\n",
      "Early stopping, best iteration is:\n",
      "[351]\ttrain's rmse: 3.93497\teval's rmse: 6.31761\n"
     ]
    },
    {
     "name": "stderr",
     "output_type": "stream",
     "text": [
      "num_leaves, val_score: 6.277662:  15%|#######5                                          | 3/20 [00:03<00:20,  1.21s/it]\u001b[32m[I 2021-06-20 18:01:03,392]\u001b[0m Trial 9 finished with value: 6.3176105875527035 and parameters: {'num_leaves': 113}. Best is trial 7 with value: 6.3176105875527035.\u001b[0m\n",
      "num_leaves, val_score: 6.277662:  15%|#######5                                          | 3/20 [00:03<00:20,  1.21s/it]"
     ]
    },
    {
     "name": "stdout",
     "output_type": "stream",
     "text": [
      "Training until validation scores don't improve for 100 rounds\n",
      "[100]\ttrain's rmse: 5.57439\teval's rmse: 6.60696\n",
      "[200]\ttrain's rmse: 4.68443\teval's rmse: 6.4079\n",
      "[300]\ttrain's rmse: 4.13984\teval's rmse: 6.35412\n",
      "[400]\ttrain's rmse: 3.75485\teval's rmse: 6.32734\n"
     ]
    },
    {
     "name": "stderr",
     "output_type": "stream",
     "text": [
      "\r",
      "num_leaves, val_score: 6.277662:  15%|#######5                                          | 3/20 [00:04<00:20,  1.21s/it]"
     ]
    },
    {
     "name": "stdout",
     "output_type": "stream",
     "text": [
      "Early stopping, best iteration is:\n",
      "[351]\ttrain's rmse: 3.93497\teval's rmse: 6.31761\n"
     ]
    },
    {
     "name": "stderr",
     "output_type": "stream",
     "text": [
      "num_leaves, val_score: 6.277662:  20%|##########                                        | 4/20 [00:04<00:20,  1.30s/it]\u001b[32m[I 2021-06-20 18:01:04,824]\u001b[0m Trial 10 finished with value: 6.3176105875527035 and parameters: {'num_leaves': 160}. Best is trial 7 with value: 6.3176105875527035.\u001b[0m\n",
      "num_leaves, val_score: 6.277662:  20%|##########                                        | 4/20 [00:04<00:20,  1.30s/it]"
     ]
    },
    {
     "name": "stdout",
     "output_type": "stream",
     "text": [
      "Training until validation scores don't improve for 100 rounds\n",
      "[100]\ttrain's rmse: 5.57439\teval's rmse: 6.60696\n",
      "[200]\ttrain's rmse: 4.68443\teval's rmse: 6.4079\n",
      "[300]\ttrain's rmse: 4.13984\teval's rmse: 6.35412\n",
      "[400]\ttrain's rmse: 3.75485\teval's rmse: 6.32734\n",
      "Early stopping, best iteration is:\n",
      "[351]\ttrain's rmse: 3.93497\teval's rmse: 6.31761\n"
     ]
    },
    {
     "name": "stderr",
     "output_type": "stream",
     "text": [
      "num_leaves, val_score: 6.277662:  25%|############5                                     | 5/20 [00:05<00:17,  1.19s/it]\u001b[32m[I 2021-06-20 18:01:05,817]\u001b[0m Trial 11 finished with value: 6.3176105875527035 and parameters: {'num_leaves': 138}. Best is trial 7 with value: 6.3176105875527035.\u001b[0m\n",
      "num_leaves, val_score: 6.277662:  25%|############5                                     | 5/20 [00:05<00:17,  1.19s/it]"
     ]
    },
    {
     "name": "stdout",
     "output_type": "stream",
     "text": [
      "Training until validation scores don't improve for 100 rounds\n",
      "[100]\ttrain's rmse: 6.29895\teval's rmse: 6.76618\n",
      "[200]\ttrain's rmse: 5.70019\teval's rmse: 6.50006\n",
      "[300]\ttrain's rmse: 5.3272\teval's rmse: 6.42093\n",
      "[400]\ttrain's rmse: 5.06338\teval's rmse: 6.38223\n",
      "[500]\ttrain's rmse: 4.85863\teval's rmse: 6.34857\n",
      "[600]\ttrain's rmse: 4.67899\teval's rmse: 6.31314\n",
      "[700]\ttrain's rmse: 4.52965\teval's rmse: 6.29159\n",
      "[800]\ttrain's rmse: 4.40412\teval's rmse: 6.27858\n",
      "[900]\ttrain's rmse: 4.29988\teval's rmse: 6.26372\n",
      "[1000]\ttrain's rmse: 4.19115\teval's rmse: 6.25509\n",
      "Did not meet early stopping. Best iteration is:\n",
      "[1000]\ttrain's rmse: 4.19115\teval's rmse: 6.25509\n"
     ]
    },
    {
     "name": "stderr",
     "output_type": "stream",
     "text": [
      "num_leaves, val_score: 6.255090:  30%|###############                                   | 6/20 [00:06<00:15,  1.09s/it]\u001b[32m[I 2021-06-20 18:01:06,718]\u001b[0m Trial 12 finished with value: 6.255089914616405 and parameters: {'num_leaves': 12}. Best is trial 12 with value: 6.255089914616405.\u001b[0m\n",
      "num_leaves, val_score: 6.255090:  30%|###############                                   | 6/20 [00:06<00:15,  1.09s/it]"
     ]
    },
    {
     "name": "stdout",
     "output_type": "stream",
     "text": [
      "Training until validation scores don't improve for 100 rounds\n",
      "[100]\ttrain's rmse: 5.57439\teval's rmse: 6.60696\n",
      "[200]\ttrain's rmse: 4.68443\teval's rmse: 6.4079\n",
      "[300]\ttrain's rmse: 4.13984\teval's rmse: 6.35412\n",
      "[400]\ttrain's rmse: 3.75485\teval's rmse: 6.32734\n",
      "Early stopping, best iteration is:\n",
      "[351]\ttrain's rmse: 3.93497\teval's rmse: 6.31761\n"
     ]
    },
    {
     "name": "stderr",
     "output_type": "stream",
     "text": [
      "num_leaves, val_score: 6.255090:  35%|#################5                                | 7/20 [00:07<00:13,  1.05s/it]\u001b[32m[I 2021-06-20 18:01:07,672]\u001b[0m Trial 13 finished with value: 6.3176105875527035 and parameters: {'num_leaves': 194}. Best is trial 12 with value: 6.255089914616405.\u001b[0m\n",
      "num_leaves, val_score: 6.255090:  35%|#################5                                | 7/20 [00:07<00:13,  1.05s/it]"
     ]
    },
    {
     "name": "stdout",
     "output_type": "stream",
     "text": [
      "Training until validation scores don't improve for 100 rounds\n",
      "[100]\ttrain's rmse: 5.57439\teval's rmse: 6.60696\n",
      "[200]\ttrain's rmse: 4.68443\teval's rmse: 6.4079\n",
      "[300]\ttrain's rmse: 4.13984\teval's rmse: 6.35412\n",
      "[400]\ttrain's rmse: 3.75485\teval's rmse: 6.32734\n",
      "Early stopping, best iteration is:\n",
      "[351]\ttrain's rmse: 3.93497\teval's rmse: 6.31761\n"
     ]
    },
    {
     "name": "stderr",
     "output_type": "stream",
     "text": [
      "num_leaves, val_score: 6.255090:  40%|####################                              | 8/20 [00:08<00:12,  1.04s/it]\u001b[32m[I 2021-06-20 18:01:08,710]\u001b[0m Trial 14 finished with value: 6.3176105875527035 and parameters: {'num_leaves': 210}. Best is trial 12 with value: 6.255089914616405.\u001b[0m\n",
      "num_leaves, val_score: 6.255090:  40%|####################                              | 8/20 [00:08<00:12,  1.04s/it]"
     ]
    },
    {
     "name": "stdout",
     "output_type": "stream",
     "text": [
      "Training until validation scores don't improve for 100 rounds\n",
      "[100]\ttrain's rmse: 5.60052\teval's rmse: 6.62734\n",
      "[200]\ttrain's rmse: 4.72953\teval's rmse: 6.43331\n",
      "[300]\ttrain's rmse: 4.18406\teval's rmse: 6.36351\n",
      "[400]\ttrain's rmse: 3.8047\teval's rmse: 6.35566\n",
      "[500]\ttrain's rmse: 3.51084\teval's rmse: 6.32077\n",
      "[600]\ttrain's rmse: 3.24803\teval's rmse: 6.28973\n",
      "[700]\ttrain's rmse: 3.04206\teval's rmse: 6.30275\n",
      "Early stopping, best iteration is:\n",
      "[602]\ttrain's rmse: 3.24535\teval's rmse: 6.28736\n"
     ]
    },
    {
     "name": "stderr",
     "output_type": "stream",
     "text": [
      "num_leaves, val_score: 6.255090:  45%|######################5                           | 9/20 [00:10<00:13,  1.21s/it]\u001b[32m[I 2021-06-20 18:01:10,285]\u001b[0m Trial 15 finished with value: 6.2873590155544905 and parameters: {'num_leaves': 43}. Best is trial 12 with value: 6.255089914616405.\u001b[0m\n",
      "num_leaves, val_score: 6.255090:  45%|######################5                           | 9/20 [00:10<00:13,  1.21s/it]"
     ]
    },
    {
     "name": "stdout",
     "output_type": "stream",
     "text": [
      "Training until validation scores don't improve for 100 rounds\n",
      "[100]\ttrain's rmse: 5.57439\teval's rmse: 6.60696\n",
      "[200]\ttrain's rmse: 4.68443\teval's rmse: 6.4079\n",
      "[300]\ttrain's rmse: 4.13984\teval's rmse: 6.35412\n",
      "[400]\ttrain's rmse: 3.75485\teval's rmse: 6.32734\n",
      "Early stopping, best iteration is:\n",
      "[351]\ttrain's rmse: 3.93497\teval's rmse: 6.31761\n"
     ]
    },
    {
     "name": "stderr",
     "output_type": "stream",
     "text": [
      "num_leaves, val_score: 6.255090:  50%|########################5                        | 10/20 [00:11<00:12,  1.28s/it]\u001b[32m[I 2021-06-20 18:01:11,716]\u001b[0m Trial 16 finished with value: 6.3176105875527035 and parameters: {'num_leaves': 237}. Best is trial 12 with value: 6.255089914616405.\u001b[0m\n",
      "num_leaves, val_score: 6.255090:  50%|########################5                        | 10/20 [00:11<00:12,  1.28s/it]"
     ]
    },
    {
     "name": "stdout",
     "output_type": "stream",
     "text": [
      "Training until validation scores don't improve for 100 rounds\n",
      "[100]\ttrain's rmse: 7.00444\teval's rmse: 7.16371\n",
      "[200]\ttrain's rmse: 6.55129\teval's rmse: 6.81486\n",
      "[300]\ttrain's rmse: 6.29014\teval's rmse: 6.74805\n",
      "[400]\ttrain's rmse: 6.09201\teval's rmse: 6.68339\n",
      "[500]\ttrain's rmse: 5.92148\teval's rmse: 6.60412\n",
      "[600]\ttrain's rmse: 5.78194\teval's rmse: 6.53712\n",
      "[700]\ttrain's rmse: 5.66517\teval's rmse: 6.51818\n",
      "[800]\ttrain's rmse: 5.54753\teval's rmse: 6.47728\n"
     ]
    },
    {
     "name": "stderr",
     "output_type": "stream",
     "text": [
      "num_leaves, val_score: 6.255090:  55%|##########################9                      | 11/20 [00:12<00:09,  1.11s/it]"
     ]
    },
    {
     "name": "stdout",
     "output_type": "stream",
     "text": [
      "[900]\ttrain's rmse: 5.45567\teval's rmse: 6.45461\n",
      "[1000]\ttrain's rmse: 5.3661\teval's rmse: 6.40961\n",
      "Did not meet early stopping. Best iteration is:\n",
      "[1000]\ttrain's rmse: 5.3661\teval's rmse: 6.40961\n"
     ]
    },
    {
     "name": "stderr",
     "output_type": "stream",
     "text": [
      "\u001b[32m[I 2021-06-20 18:01:12,443]\u001b[0m Trial 17 finished with value: 6.4096138861631635 and parameters: {'num_leaves': 5}. Best is trial 12 with value: 6.255089914616405.\u001b[0m\n",
      "num_leaves, val_score: 6.255090:  55%|##########################9                      | 11/20 [00:12<00:09,  1.11s/it]"
     ]
    },
    {
     "name": "stdout",
     "output_type": "stream",
     "text": [
      "Training until validation scores don't improve for 100 rounds\n",
      "[100]\ttrain's rmse: 6.72688\teval's rmse: 6.99115\n",
      "[200]\ttrain's rmse: 6.22227\teval's rmse: 6.66979\n",
      "[300]\ttrain's rmse: 5.91959\teval's rmse: 6.6142\n",
      "[400]\ttrain's rmse: 5.69255\teval's rmse: 6.53251\n",
      "[500]\ttrain's rmse: 5.51063\teval's rmse: 6.48373\n",
      "[600]\ttrain's rmse: 5.35551\teval's rmse: 6.422\n",
      "[700]\ttrain's rmse: 5.22681\teval's rmse: 6.39796\n",
      "[800]\ttrain's rmse: 5.10107\teval's rmse: 6.38661\n"
     ]
    },
    {
     "name": "stderr",
     "output_type": "stream",
     "text": [
      "num_leaves, val_score: 6.255090:  60%|#############################4                   | 12/20 [00:13<00:08,  1.01s/it]\u001b[32m[I 2021-06-20 18:01:13,231]\u001b[0m Trial 18 finished with value: 6.379733395748859 and parameters: {'num_leaves': 7}. Best is trial 12 with value: 6.255089914616405.\u001b[0m\n",
      "num_leaves, val_score: 6.255090:  60%|#############################4                   | 12/20 [00:13<00:08,  1.01s/it]"
     ]
    },
    {
     "name": "stdout",
     "output_type": "stream",
     "text": [
      "Early stopping, best iteration is:\n",
      "[766]\ttrain's rmse: 5.13809\teval's rmse: 6.37973\n",
      "Training until validation scores don't improve for 100 rounds\n",
      "[100]\ttrain's rmse: 5.57439\teval's rmse: 6.60696\n",
      "[200]\ttrain's rmse: 4.68443\teval's rmse: 6.4079\n",
      "[300]\ttrain's rmse: 4.13984\teval's rmse: 6.35412\n",
      "[400]\ttrain's rmse: 3.75485\teval's rmse: 6.32734\n",
      "Early stopping, best iteration is:\n",
      "[351]\ttrain's rmse: 3.93497\teval's rmse: 6.31761\n"
     ]
    },
    {
     "name": "stderr",
     "output_type": "stream",
     "text": [
      "num_leaves, val_score: 6.255090:  65%|###############################8                 | 13/20 [00:14<00:07,  1.01s/it]\u001b[32m[I 2021-06-20 18:01:14,247]\u001b[0m Trial 19 finished with value: 6.3176105875527035 and parameters: {'num_leaves': 59}. Best is trial 12 with value: 6.255089914616405.\u001b[0m\n",
      "num_leaves, val_score: 6.255090:  65%|###############################8                 | 13/20 [00:14<00:07,  1.01s/it]"
     ]
    },
    {
     "name": "stdout",
     "output_type": "stream",
     "text": [
      "Training until validation scores don't improve for 100 rounds\n",
      "[100]\ttrain's rmse: 5.57439\teval's rmse: 6.60696\n",
      "[200]\ttrain's rmse: 4.68443\teval's rmse: 6.4079\n",
      "[300]\ttrain's rmse: 4.13984\teval's rmse: 6.35412\n",
      "[400]\ttrain's rmse: 3.75485\teval's rmse: 6.32734\n",
      "Early stopping, best iteration is:\n",
      "[351]\ttrain's rmse: 3.93497\teval's rmse: 6.31761\n"
     ]
    },
    {
     "name": "stderr",
     "output_type": "stream",
     "text": [
      "num_leaves, val_score: 6.255090:  70%|##################################3              | 14/20 [00:15<00:05,  1.03it/s]\u001b[32m[I 2021-06-20 18:01:15,133]\u001b[0m Trial 20 finished with value: 6.3176105875527035 and parameters: {'num_leaves': 56}. Best is trial 12 with value: 6.255089914616405.\u001b[0m\n",
      "num_leaves, val_score: 6.255090:  70%|##################################3              | 14/20 [00:15<00:05,  1.03it/s]"
     ]
    },
    {
     "name": "stdout",
     "output_type": "stream",
     "text": [
      "Training until validation scores don't improve for 100 rounds\n",
      "[100]\ttrain's rmse: 5.57684\teval's rmse: 6.62357\n",
      "[200]\ttrain's rmse: 4.69355\teval's rmse: 6.43445\n",
      "[300]\ttrain's rmse: 4.14484\teval's rmse: 6.39608\n",
      "[400]\ttrain's rmse: 3.76419\teval's rmse: 6.36193\n",
      "[500]\ttrain's rmse: 3.47922\teval's rmse: 6.35489\n",
      "[600]\ttrain's rmse: 3.21135\teval's rmse: 6.33286\n",
      "[700]\ttrain's rmse: 2.99186\teval's rmse: 6.35761\n",
      "Early stopping, best iteration is:\n",
      "[603]\ttrain's rmse: 3.20673\teval's rmse: 6.33267\n"
     ]
    },
    {
     "name": "stderr",
     "output_type": "stream",
     "text": [
      "num_leaves, val_score: 6.255090:  75%|####################################7            | 15/20 [00:16<00:05,  1.09s/it]\u001b[32m[I 2021-06-20 18:01:16,500]\u001b[0m Trial 21 finished with value: 6.332668997262623 and parameters: {'num_leaves': 49}. Best is trial 12 with value: 6.255089914616405.\u001b[0m\n",
      "num_leaves, val_score: 6.255090:  75%|####################################7            | 15/20 [00:16<00:05,  1.09s/it]"
     ]
    },
    {
     "name": "stdout",
     "output_type": "stream",
     "text": [
      "Training until validation scores don't improve for 100 rounds\n",
      "[100]\ttrain's rmse: 5.57439\teval's rmse: 6.60696\n",
      "[200]\ttrain's rmse: 4.68443\teval's rmse: 6.4079\n",
      "[300]\ttrain's rmse: 4.13984\teval's rmse: 6.35412\n",
      "[400]\ttrain's rmse: 3.75485\teval's rmse: 6.32734\n",
      "Early stopping, best iteration is:\n",
      "[351]\ttrain's rmse: 3.93497\teval's rmse: 6.31761\n"
     ]
    },
    {
     "name": "stderr",
     "output_type": "stream",
     "text": [
      "num_leaves, val_score: 6.255090:  80%|#######################################2         | 16/20 [00:17<00:04,  1.05s/it]\u001b[32m[I 2021-06-20 18:01:17,455]\u001b[0m Trial 22 finished with value: 6.3176105875527035 and parameters: {'num_leaves': 83}. Best is trial 12 with value: 6.255089914616405.\u001b[0m\n",
      "num_leaves, val_score: 6.255090:  80%|#######################################2         | 16/20 [00:17<00:04,  1.05s/it]"
     ]
    },
    {
     "name": "stdout",
     "output_type": "stream",
     "text": [
      "Training until validation scores don't improve for 100 rounds\n",
      "[100]\ttrain's rmse: 8.04624\teval's rmse: 8.18091\n",
      "[200]\ttrain's rmse: 7.29442\teval's rmse: 7.27504\n",
      "[300]\ttrain's rmse: 7.15745\teval's rmse: 7.15749\n",
      "[400]\ttrain's rmse: 7.08221\teval's rmse: 7.05104\n",
      "[500]\ttrain's rmse: 7.02652\teval's rmse: 7.00549\n",
      "[600]\ttrain's rmse: 6.98414\teval's rmse: 6.97944\n"
     ]
    },
    {
     "name": "stderr",
     "output_type": "stream",
     "text": [
      "num_leaves, val_score: 6.255090:  85%|#########################################6       | 17/20 [00:17<00:02,  1.18it/s]\u001b[32m[I 2021-06-20 18:01:17,842]\u001b[0m Trial 23 finished with value: 6.959572208458515 and parameters: {'num_leaves': 2}. Best is trial 12 with value: 6.255089914616405.\u001b[0m\n",
      "num_leaves, val_score: 6.255090:  85%|#########################################6       | 17/20 [00:18<00:02,  1.18it/s]"
     ]
    },
    {
     "name": "stdout",
     "output_type": "stream",
     "text": [
      "[700]\ttrain's rmse: 6.9517\teval's rmse: 6.96487\n",
      "[800]\ttrain's rmse: 6.92584\teval's rmse: 6.96789\n",
      "Early stopping, best iteration is:\n",
      "[780]\ttrain's rmse: 6.93125\teval's rmse: 6.95957\n",
      "Training until validation scores don't improve for 100 rounds\n",
      "[100]\ttrain's rmse: 5.75234\teval's rmse: 6.63814\n",
      "[200]\ttrain's rmse: 4.95999\teval's rmse: 6.403\n",
      "[300]\ttrain's rmse: 4.48409\teval's rmse: 6.32721\n",
      "[400]\ttrain's rmse: 4.14844\teval's rmse: 6.32442\n",
      "Early stopping, best iteration is:\n",
      "[330]\ttrain's rmse: 4.37555\teval's rmse: 6.30119\n"
     ]
    },
    {
     "name": "stderr",
     "output_type": "stream",
     "text": [
      "num_leaves, val_score: 6.255090:  90%|############################################1    | 18/20 [00:18<00:01,  1.19it/s]\u001b[32m[I 2021-06-20 18:01:18,653]\u001b[0m Trial 24 finished with value: 6.301186732295196 and parameters: {'num_leaves': 28}. Best is trial 12 with value: 6.255089914616405.\u001b[0m\n",
      "num_leaves, val_score: 6.255090:  90%|############################################1    | 18/20 [00:18<00:01,  1.19it/s]"
     ]
    },
    {
     "name": "stdout",
     "output_type": "stream",
     "text": [
      "Training until validation scores don't improve for 100 rounds\n",
      "[100]\ttrain's rmse: 5.57439\teval's rmse: 6.60696\n",
      "[200]\ttrain's rmse: 4.68443\teval's rmse: 6.4079\n",
      "[300]\ttrain's rmse: 4.13984\teval's rmse: 6.35412\n",
      "[400]\ttrain's rmse: 3.75485\teval's rmse: 6.32734\n",
      "Early stopping, best iteration is:\n",
      "[351]\ttrain's rmse: 3.93497\teval's rmse: 6.31761\n"
     ]
    },
    {
     "name": "stderr",
     "output_type": "stream",
     "text": [
      "num_leaves, val_score: 6.255090:  95%|##############################################5  | 19/20 [00:20<00:01,  1.01s/it]\u001b[32m[I 2021-06-20 18:01:20,044]\u001b[0m Trial 25 finished with value: 6.3176105875527035 and parameters: {'num_leaves': 92}. Best is trial 12 with value: 6.255089914616405.\u001b[0m\n",
      "num_leaves, val_score: 6.255090:  95%|##############################################5  | 19/20 [00:20<00:01,  1.01s/it]"
     ]
    },
    {
     "name": "stdout",
     "output_type": "stream",
     "text": [
      "Training until validation scores don't improve for 100 rounds\n",
      "[100]\ttrain's rmse: 5.86155\teval's rmse: 6.63334\n",
      "[200]\ttrain's rmse: 5.11891\teval's rmse: 6.38578\n",
      "[300]\ttrain's rmse: 4.67297\teval's rmse: 6.31215\n",
      "[400]\ttrain's rmse: 4.354\teval's rmse: 6.28043\n",
      "[500]\ttrain's rmse: 4.11106\teval's rmse: 6.25669\n",
      "[600]\ttrain's rmse: 3.89532\teval's rmse: 6.24761\n",
      "Early stopping, best iteration is:\n",
      "[585]\ttrain's rmse: 3.92271\teval's rmse: 6.23564\n"
     ]
    },
    {
     "name": "stderr",
     "output_type": "stream",
     "text": [
      "num_leaves, val_score: 6.235640: 100%|#################################################| 20/20 [00:21<00:00,  1.01s/it]\u001b[32m[I 2021-06-20 18:01:21,074]\u001b[0m Trial 26 finished with value: 6.235640083280398 and parameters: {'num_leaves': 23}. Best is trial 26 with value: 6.235640083280398.\u001b[0m\n",
      "num_leaves, val_score: 6.235640: 100%|#################################################| 20/20 [00:21<00:00,  1.06s/it]\n",
      "bagging, val_score: 6.235640:   0%|                                                             | 0/10 [00:00<?, ?it/s]"
     ]
    },
    {
     "name": "stdout",
     "output_type": "stream",
     "text": [
      "Training until validation scores don't improve for 100 rounds\n",
      "[100]\ttrain's rmse: 6.27629\teval's rmse: 6.81363\n",
      "[200]\ttrain's rmse: 5.53254\teval's rmse: 6.54145\n",
      "[300]\ttrain's rmse: 5.15555\teval's rmse: 6.47238\n",
      "[400]\ttrain's rmse: 4.85083\teval's rmse: 6.42787\n",
      "[500]\ttrain's rmse: 4.61498\teval's rmse: 6.43911"
     ]
    },
    {
     "name": "stderr",
     "output_type": "stream",
     "text": [
      "bagging, val_score: 6.235640:  10%|#####3                                               | 1/10 [00:00<00:05,  1.56it/s]\u001b[32m[I 2021-06-20 18:01:21,735]\u001b[0m Trial 27 finished with value: 6.396234799310058 and parameters: {'bagging_fraction': 0.5092894767315059, 'bagging_freq': 7}. Best is trial 27 with value: 6.396234799310058.\u001b[0m\n",
      "bagging, val_score: 6.235640:  10%|#####3                                               | 1/10 [00:00<00:05,  1.56it/s]"
     ]
    },
    {
     "name": "stdout",
     "output_type": "stream",
     "text": [
      "\n",
      "Early stopping, best iteration is:\n",
      "[424]\ttrain's rmse: 4.79034\teval's rmse: 6.39623\n",
      "Training until validation scores don't improve for 100 rounds\n",
      "[100]\ttrain's rmse: 5.9903\teval's rmse: 6.71442\n",
      "[200]\ttrain's rmse: 5.25465\teval's rmse: 6.45954\n",
      "[300]\ttrain's rmse: 4.81542\teval's rmse: 6.37498\n",
      "[400]\ttrain's rmse: 4.4852\teval's rmse: 6.31996\n",
      "[500]\ttrain's rmse: 4.24005\teval's rmse: 6.29598\n",
      "[600]\ttrain's rmse: 4.03382\teval's rmse: 6.31582\n"
     ]
    },
    {
     "name": "stderr",
     "output_type": "stream",
     "text": [
      "bagging, val_score: 6.235640:  20%|##########6                                          | 2/10 [00:01<00:06,  1.29it/s]\u001b[32m[I 2021-06-20 18:01:22,608]\u001b[0m Trial 28 finished with value: 6.290672368624961 and parameters: {'bagging_fraction': 0.7040951907742958, 'bagging_freq': 3}. Best is trial 28 with value: 6.290672368624961.\u001b[0m\n",
      "bagging, val_score: 6.235640:  20%|##########6                                          | 2/10 [00:01<00:06,  1.29it/s]"
     ]
    },
    {
     "name": "stdout",
     "output_type": "stream",
     "text": [
      "Early stopping, best iteration is:\n",
      "[570]\ttrain's rmse: 4.09223\teval's rmse: 6.29067\n",
      "Training until validation scores don't improve for 100 rounds\n",
      "[100]\ttrain's rmse: 5.80386\teval's rmse: 6.58673\n",
      "[200]\ttrain's rmse: 5.04106\teval's rmse: 6.38074\n",
      "[300]\ttrain's rmse: 4.61438\teval's rmse: 6.3005\n",
      "[400]\ttrain's rmse: 4.29359\teval's rmse: 6.25007\n",
      "[500]\ttrain's rmse: 4.05006\teval's rmse: 6.25026\n",
      "[600]\ttrain's rmse: 3.83918\teval's rmse: 6.22047\n",
      "[700]\ttrain's rmse: 3.6693\teval's rmse: 6.20688\n"
     ]
    },
    {
     "name": "stderr",
     "output_type": "stream",
     "text": [
      "\r",
      "bagging, val_score: 6.200098:  20%|##########6                                          | 2/10 [00:02<00:06,  1.29it/s]"
     ]
    },
    {
     "name": "stdout",
     "output_type": "stream",
     "text": [
      "[800]\ttrain's rmse: 3.51477\teval's rmse: 6.22634\n",
      "Early stopping, best iteration is:\n",
      "[713]\ttrain's rmse: 3.64643\teval's rmse: 6.2001\n"
     ]
    },
    {
     "name": "stderr",
     "output_type": "stream",
     "text": [
      "bagging, val_score: 6.200098:  30%|###############9                                     | 3/10 [00:02<00:06,  1.09it/s]\u001b[32m[I 2021-06-20 18:01:23,685]\u001b[0m Trial 29 finished with value: 6.200098137721359 and parameters: {'bagging_fraction': 0.8824575975031785, 'bagging_freq': 1}. Best is trial 29 with value: 6.200098137721359.\u001b[0m\n",
      "bagging, val_score: 6.200098:  30%|###############9                                     | 3/10 [00:02<00:06,  1.09it/s]"
     ]
    },
    {
     "name": "stdout",
     "output_type": "stream",
     "text": [
      "Training until validation scores don't improve for 100 rounds\n",
      "[100]\ttrain's rmse: 5.93005\teval's rmse: 6.71106\n",
      "[200]\ttrain's rmse: 5.18359\teval's rmse: 6.49047\n",
      "[300]\ttrain's rmse: 4.73036\teval's rmse: 6.35106\n"
     ]
    },
    {
     "name": "stderr",
     "output_type": "stream",
     "text": [
      "bagging, val_score: 6.200098:  40%|#####################2                               | 4/10 [00:03<00:04,  1.24it/s]\u001b[32m[I 2021-06-20 18:01:24,328]\u001b[0m Trial 30 finished with value: 6.312224849487338 and parameters: {'bagging_fraction': 0.7705787626594174, 'bagging_freq': 1}. Best is trial 29 with value: 6.200098137721359.\u001b[0m\n",
      "bagging, val_score: 6.200098:  40%|#####################2                               | 4/10 [00:03<00:04,  1.24it/s]"
     ]
    },
    {
     "name": "stdout",
     "output_type": "stream",
     "text": [
      "[400]\ttrain's rmse: 4.41719\teval's rmse: 6.31222\n",
      "[500]\ttrain's rmse: 4.17809\teval's rmse: 6.31894\n",
      "Early stopping, best iteration is:\n",
      "[400]\ttrain's rmse: 4.41719\teval's rmse: 6.31222\n",
      "Training until validation scores don't improve for 100 rounds\n",
      "[100]\ttrain's rmse: 5.81256\teval's rmse: 6.57461\n",
      "[200]\ttrain's rmse: 5.05608\teval's rmse: 6.42041\n",
      "[300]\ttrain's rmse: 4.63053\teval's rmse: 6.35712\n",
      "[400]\ttrain's rmse: 4.30467\teval's rmse: 6.29335\n",
      "[500]\ttrain's rmse: 4.07094\teval's rmse: 6.28109\n",
      "[600]\ttrain's rmse: 3.85596\teval's rmse: 6.27727\n",
      "Early stopping, best iteration is:\n",
      "[578]\ttrain's rmse: 3.90023\teval's rmse: 6.27148\n"
     ]
    },
    {
     "name": "stderr",
     "output_type": "stream",
     "text": [
      "bagging, val_score: 6.200098:  50%|##########################5                          | 5/10 [00:04<00:04,  1.19it/s]\u001b[32m[I 2021-06-20 18:01:25,218]\u001b[0m Trial 31 finished with value: 6.271475645823453 and parameters: {'bagging_fraction': 0.8713860324254695, 'bagging_freq': 1}. Best is trial 29 with value: 6.200098137721359.\u001b[0m\n",
      "bagging, val_score: 6.200098:  50%|##########################5                          | 5/10 [00:04<00:04,  1.19it/s]"
     ]
    },
    {
     "name": "stdout",
     "output_type": "stream",
     "text": [
      "Training until validation scores don't improve for 100 rounds\n",
      "[100]\ttrain's rmse: 5.7861\teval's rmse: 6.53956\n",
      "[200]\ttrain's rmse: 5.01447\teval's rmse: 6.34012\n",
      "[300]\ttrain's rmse: 4.58187\teval's rmse: 6.27683\n",
      "[400]\ttrain's rmse: 4.26347\teval's rmse: 6.23392\n",
      "[500]\ttrain's rmse: 4.02486\teval's rmse: 6.21227\n"
     ]
    },
    {
     "name": "stderr",
     "output_type": "stream",
     "text": [
      "bagging, val_score: 6.196492:  60%|###############################8                     | 6/10 [00:04<00:03,  1.20it/s]"
     ]
    },
    {
     "name": "stdout",
     "output_type": "stream",
     "text": [
      "[600]\ttrain's rmse: 3.81093\teval's rmse: 6.20088\n",
      "Early stopping, best iteration is:\n",
      "[550]\ttrain's rmse: 3.91147\teval's rmse: 6.19649\n"
     ]
    },
    {
     "name": "stderr",
     "output_type": "stream",
     "text": [
      "\u001b[32m[I 2021-06-20 18:01:26,057]\u001b[0m Trial 32 finished with value: 6.196492326005032 and parameters: {'bagging_fraction': 0.9187603032430427, 'bagging_freq': 3}. Best is trial 32 with value: 6.196492326005032.\u001b[0m\n",
      "bagging, val_score: 6.196492:  60%|###############################8                     | 6/10 [00:04<00:03,  1.20it/s]"
     ]
    },
    {
     "name": "stdout",
     "output_type": "stream",
     "text": [
      "Training until validation scores don't improve for 100 rounds\n",
      "[100]\ttrain's rmse: 5.97428\teval's rmse: 6.72809\n",
      "[200]\ttrain's rmse: 5.22913\teval's rmse: 6.42433\n",
      "[300]\ttrain's rmse: 4.76249\teval's rmse: 6.29629\n",
      "[400]\ttrain's rmse: 4.44705\teval's rmse: 6.27916\n",
      "[500]\ttrain's rmse: 4.20525\teval's rmse: 6.26105\n",
      "Early stopping, best iteration is:\n",
      "[474]\ttrain's rmse: 4.27018\teval's rmse: 6.25212\n"
     ]
    },
    {
     "name": "stderr",
     "output_type": "stream",
     "text": [
      "bagging, val_score: 6.196492:  70%|#####################################                | 7/10 [00:05<00:02,  1.25it/s]\u001b[32m[I 2021-06-20 18:01:26,784]\u001b[0m Trial 33 finished with value: 6.252115138842476 and parameters: {'bagging_fraction': 0.7324706647095978, 'bagging_freq': 1}. Best is trial 32 with value: 6.196492326005032.\u001b[0m\n",
      "bagging, val_score: 6.196492:  70%|#####################################                | 7/10 [00:05<00:02,  1.25it/s]"
     ]
    },
    {
     "name": "stdout",
     "output_type": "stream",
     "text": [
      "Training until validation scores don't improve for 100 rounds\n",
      "[100]\ttrain's rmse: 5.79369\teval's rmse: 6.56612\n",
      "[200]\ttrain's rmse: 5.02946\teval's rmse: 6.34511\n",
      "[300]\ttrain's rmse: 4.5915\teval's rmse: 6.29135\n",
      "[400]\ttrain's rmse: 4.26879\teval's rmse: 6.22371\n",
      "[500]\ttrain's rmse: 4.02426\teval's rmse: 6.1866\n",
      "[600]\ttrain's rmse: 3.82141\teval's rmse: 6.17699\n",
      "[700]\ttrain's rmse: 3.64987\teval's rmse: 6.16902\n",
      "[800]\ttrain's rmse: 3.4996\teval's rmse: 6.18518\n",
      "Early stopping, best iteration is:\n",
      "[704]\ttrain's rmse: 3.64294\teval's rmse: 6.16422\n"
     ]
    },
    {
     "name": "stderr",
     "output_type": "stream",
     "text": [
      "bagging, val_score: 6.164224:  80%|##########################################4          | 8/10 [00:06<00:01,  1.14it/s]\u001b[32m[I 2021-06-20 18:01:27,808]\u001b[0m Trial 34 finished with value: 6.164224499411891 and parameters: {'bagging_fraction': 0.9101002176191603, 'bagging_freq': 5}. Best is trial 34 with value: 6.164224499411891.\u001b[0m\n",
      "bagging, val_score: 6.164224:  80%|##########################################4          | 8/10 [00:06<00:01,  1.14it/s]"
     ]
    },
    {
     "name": "stdout",
     "output_type": "stream",
     "text": [
      "Training until validation scores don't improve for 100 rounds\n",
      "[100]\ttrain's rmse: 6.05175\teval's rmse: 6.77182\n",
      "[200]\ttrain's rmse: 5.28055\teval's rmse: 6.47829\n",
      "[300]\ttrain's rmse: 4.8367\teval's rmse: 6.376\n",
      "[400]\ttrain's rmse: 4.50777\teval's rmse: 6.32522\n",
      "[500]\ttrain's rmse: 4.27032\teval's rmse: 6.3159\n",
      "[600]\ttrain's rmse: 4.06555\teval's rmse: 6.31166\n",
      "[700]\ttrain's rmse: 3.89251\teval's rmse: 6.29257\n",
      "[800]\ttrain's rmse: 3.74137\teval's rmse: 6.29621\n",
      "Early stopping, best iteration is:\n",
      "[716]\ttrain's rmse: 3.86504\teval's rmse: 6.2785\n"
     ]
    },
    {
     "name": "stderr",
     "output_type": "stream",
     "text": [
      "bagging, val_score: 6.164224:  90%|###############################################7     | 9/10 [00:07<00:00,  1.06it/s]\u001b[32m[I 2021-06-20 18:01:28,893]\u001b[0m Trial 35 finished with value: 6.278497213619126 and parameters: {'bagging_fraction': 0.6689865527351659, 'bagging_freq': 1}. Best is trial 34 with value: 6.164224499411891.\u001b[0m\n",
      "bagging, val_score: 6.164224:  90%|###############################################7     | 9/10 [00:07<00:00,  1.06it/s]"
     ]
    },
    {
     "name": "stdout",
     "output_type": "stream",
     "text": [
      "Training until validation scores don't improve for 100 rounds\n",
      "[100]\ttrain's rmse: 6.04452\teval's rmse: 6.69961\n",
      "[200]\ttrain's rmse: 5.2986\teval's rmse: 6.43365\n",
      "[300]\ttrain's rmse: 4.86738\teval's rmse: 6.372\n",
      "[400]\ttrain's rmse: 4.52836\teval's rmse: 6.30213\n"
     ]
    },
    {
     "name": "stderr",
     "output_type": "stream",
     "text": [
      "bagging, val_score: 6.164224: 100%|####################################################| 10/10 [00:08<00:00,  1.16it/s]\u001b[32m[I 2021-06-20 18:01:29,581]\u001b[0m Trial 36 finished with value: 6.259616808891913 and parameters: {'bagging_fraction': 0.6708805492227554, 'bagging_freq': 6}. Best is trial 34 with value: 6.164224499411891.\u001b[0m\n",
      "bagging, val_score: 6.164224: 100%|####################################################| 10/10 [00:08<00:00,  1.18it/s]\n",
      "feature_fraction_stage2, val_score: 6.164224:   0%|                                              | 0/6 [00:00<?, ?it/s]"
     ]
    },
    {
     "name": "stdout",
     "output_type": "stream",
     "text": [
      "[500]\ttrain's rmse: 4.29022\teval's rmse: 6.27989\n",
      "Early stopping, best iteration is:\n",
      "[461]\ttrain's rmse: 4.38514\teval's rmse: 6.25962\n",
      "Training until validation scores don't improve for 100 rounds\n",
      "[100]\ttrain's rmse: 5.79369\teval's rmse: 6.56612\n",
      "[200]\ttrain's rmse: 5.02946\teval's rmse: 6.34511\n",
      "[300]\ttrain's rmse: 4.5915\teval's rmse: 6.29135\n",
      "[400]\ttrain's rmse: 4.26879\teval's rmse: 6.22371\n",
      "[500]\ttrain's rmse: 4.02426\teval's rmse: 6.1866\n",
      "[600]\ttrain's rmse: 3.82141\teval's rmse: 6.17699\n",
      "[700]\ttrain's rmse: 3.64987\teval's rmse: 6.16902\n"
     ]
    },
    {
     "name": "stderr",
     "output_type": "stream",
     "text": [
      "feature_fraction_stage2, val_score: 6.164224:  17%|######3                               | 1/6 [00:01<00:05,  1.04s/it]\u001b[32m[I 2021-06-20 18:01:30,636]\u001b[0m Trial 37 finished with value: 6.164224499411891 and parameters: {'feature_fraction': 0.516}. Best is trial 37 with value: 6.164224499411891.\u001b[0m\n",
      "feature_fraction_stage2, val_score: 6.164224:  17%|######3                               | 1/6 [00:01<00:05,  1.04s/it]"
     ]
    },
    {
     "name": "stdout",
     "output_type": "stream",
     "text": [
      "[800]\ttrain's rmse: 3.4996\teval's rmse: 6.18518\n",
      "Early stopping, best iteration is:\n",
      "[704]\ttrain's rmse: 3.64294\teval's rmse: 6.16422\n",
      "Training until validation scores don't improve for 100 rounds\n",
      "[100]\ttrain's rmse: 5.74648\teval's rmse: 6.55891\n",
      "[200]\ttrain's rmse: 4.97222\teval's rmse: 6.36943\n",
      "[300]\ttrain's rmse: 4.51688\teval's rmse: 6.29173\n",
      "[400]\ttrain's rmse: 4.19292\teval's rmse: 6.24277\n",
      "[500]\ttrain's rmse: 3.94379\teval's rmse: 6.21291\n",
      "[600]\ttrain's rmse: 3.72688\teval's rmse: 6.20365\n",
      "[700]\ttrain's rmse: 3.55236\teval's rmse: 6.20824\n",
      "Early stopping, best iteration is:\n",
      "[633]\ttrain's rmse: 3.66998\teval's rmse: 6.20202\n"
     ]
    },
    {
     "name": "stderr",
     "output_type": "stream",
     "text": [
      "feature_fraction_stage2, val_score: 6.164224:  33%|############6                         | 2/6 [00:02<00:03,  1.01it/s]\u001b[32m[I 2021-06-20 18:01:31,593]\u001b[0m Trial 38 finished with value: 6.202022653912517 and parameters: {'feature_fraction': 0.58}. Best is trial 37 with value: 6.164224499411891.\u001b[0m\n",
      "feature_fraction_stage2, val_score: 6.164224:  33%|############6                         | 2/6 [00:02<00:03,  1.01it/s]"
     ]
    },
    {
     "name": "stdout",
     "output_type": "stream",
     "text": [
      "Training until validation scores don't improve for 100 rounds\n",
      "[100]\ttrain's rmse: 5.91112\teval's rmse: 6.58145\n",
      "[200]\ttrain's rmse: 5.15854\teval's rmse: 6.37489\n",
      "[300]\ttrain's rmse: 4.73284\teval's rmse: 6.31364\n",
      "[400]\ttrain's rmse: 4.42463\teval's rmse: 6.26105\n",
      "[500]\ttrain's rmse: 4.17784\teval's rmse: 6.24324\n",
      "[600]\ttrain's rmse: 3.97733\teval's rmse: 6.22173\n",
      "[700]\ttrain's rmse: 3.81716\teval's rmse: 6.22235\n"
     ]
    },
    {
     "name": "stderr",
     "output_type": "stream",
     "text": [
      "feature_fraction_stage2, val_score: 6.164224:  50%|###################                   | 3/6 [00:02<00:02,  1.05it/s]\u001b[32m[I 2021-06-20 18:01:32,510]\u001b[0m Trial 39 finished with value: 6.208649873598141 and parameters: {'feature_fraction': 0.45199999999999996}. Best is trial 37 with value: 6.164224499411891.\u001b[0m\n",
      "feature_fraction_stage2, val_score: 6.164224:  50%|###################                   | 3/6 [00:02<00:02,  1.05it/s]"
     ]
    },
    {
     "name": "stdout",
     "output_type": "stream",
     "text": [
      "Early stopping, best iteration is:\n",
      "[623]\ttrain's rmse: 3.93324\teval's rmse: 6.20865\n",
      "Training until validation scores don't improve for 100 rounds\n",
      "[100]\ttrain's rmse: 5.91112\teval's rmse: 6.58145\n",
      "[200]\ttrain's rmse: 5.15854\teval's rmse: 6.37489\n",
      "[300]\ttrain's rmse: 4.73284\teval's rmse: 6.31364\n",
      "[400]\ttrain's rmse: 4.42463\teval's rmse: 6.26105\n",
      "[500]\ttrain's rmse: 4.17784\teval's rmse: 6.24324\n",
      "[600]\ttrain's rmse: 3.97733\teval's rmse: 6.22173\n",
      "[700]\ttrain's rmse: 3.81716\teval's rmse: 6.22235\n",
      "Early stopping, best iteration is:\n",
      "[623]\ttrain's rmse: 3.93324\teval's rmse: 6.20865\n"
     ]
    },
    {
     "name": "stderr",
     "output_type": "stream",
     "text": [
      "feature_fraction_stage2, val_score: 6.164224:  67%|#########################3            | 4/6 [00:03<00:01,  1.05it/s]\u001b[32m[I 2021-06-20 18:01:33,450]\u001b[0m Trial 40 finished with value: 6.208649873598141 and parameters: {'feature_fraction': 0.42}. Best is trial 37 with value: 6.164224499411891.\u001b[0m\n",
      "feature_fraction_stage2, val_score: 6.164224:  67%|#########################3            | 4/6 [00:03<00:01,  1.05it/s]"
     ]
    },
    {
     "name": "stdout",
     "output_type": "stream",
     "text": [
      "Training until validation scores don't improve for 100 rounds\n",
      "[100]\ttrain's rmse: 5.74648\teval's rmse: 6.55891\n",
      "[200]\ttrain's rmse: 4.97222\teval's rmse: 6.36943\n",
      "[300]\ttrain's rmse: 4.51688\teval's rmse: 6.29173\n",
      "[400]\ttrain's rmse: 4.19292\teval's rmse: 6.24277\n",
      "[500]\ttrain's rmse: 3.94379\teval's rmse: 6.21291\n",
      "[600]\ttrain's rmse: 3.72688\teval's rmse: 6.20365\n",
      "[700]\ttrain's rmse: 3.55236\teval's rmse: 6.20824\n",
      "Early stopping, best iteration is:\n",
      "[633]\ttrain's rmse: 3.66998\teval's rmse: 6.20202\n"
     ]
    },
    {
     "name": "stderr",
     "output_type": "stream",
     "text": [
      "feature_fraction_stage2, val_score: 6.164224:  83%|###############################6      | 5/6 [00:04<00:00,  1.05it/s]\u001b[32m[I 2021-06-20 18:01:34,415]\u001b[0m Trial 41 finished with value: 6.202022653912517 and parameters: {'feature_fraction': 0.5479999999999999}. Best is trial 37 with value: 6.164224499411891.\u001b[0m\n",
      "feature_fraction_stage2, val_score: 6.164224:  83%|###############################6      | 5/6 [00:04<00:00,  1.05it/s]"
     ]
    },
    {
     "name": "stdout",
     "output_type": "stream",
     "text": [
      "Training until validation scores don't improve for 100 rounds\n",
      "[100]\ttrain's rmse: 5.8263\teval's rmse: 6.53582\n",
      "[200]\ttrain's rmse: 5.07305\teval's rmse: 6.31152\n",
      "[300]\ttrain's rmse: 4.64558\teval's rmse: 6.26197\n",
      "[400]\ttrain's rmse: 4.33523\teval's rmse: 6.21736\n",
      "[500]\ttrain's rmse: 4.0905\teval's rmse: 6.18984\n",
      "[600]\ttrain's rmse: 3.88358\teval's rmse: 6.18323\n"
     ]
    },
    {
     "name": "stderr",
     "output_type": "stream",
     "text": [
      "feature_fraction_stage2, val_score: 6.164224: 100%|######################################| 6/6 [00:05<00:00,  1.06it/s]\u001b[32m[I 2021-06-20 18:01:35,358]\u001b[0m Trial 42 finished with value: 6.172286737234621 and parameters: {'feature_fraction': 0.484}. Best is trial 37 with value: 6.164224499411891.\u001b[0m\n",
      "feature_fraction_stage2, val_score: 6.164224: 100%|######################################| 6/6 [00:05<00:00,  1.04it/s]\n",
      "  0%|                                                                                           | 0/20 [00:00<?, ?it/s]"
     ]
    },
    {
     "name": "stdout",
     "output_type": "stream",
     "text": [
      "[700]\ttrain's rmse: 3.72023\teval's rmse: 6.18417\n",
      "Early stopping, best iteration is:\n",
      "[625]\ttrain's rmse: 3.83886\teval's rmse: 6.17229\n"
     ]
    },
    {
     "name": "stderr",
     "output_type": "stream",
     "text": [
      "\r",
      "regularization_factors, val_score: 6.164224:   0%|                                              | 0/20 [00:00<?, ?it/s]"
     ]
    },
    {
     "name": "stdout",
     "output_type": "stream",
     "text": [
      "Training until validation scores don't improve for 100 rounds\n",
      "[100]\ttrain's rmse: 5.79753\teval's rmse: 6.56284\n",
      "[200]\ttrain's rmse: 5.03008\teval's rmse: 6.33302\n",
      "[300]\ttrain's rmse: 4.59633\teval's rmse: 6.28651\n",
      "[400]\ttrain's rmse: 4.27965\teval's rmse: 6.22751\n",
      "[500]\ttrain's rmse: 4.03547\teval's rmse: 6.20118\n",
      "[600]\ttrain's rmse: 3.81983\teval's rmse: 6.18752\n"
     ]
    },
    {
     "name": "stderr",
     "output_type": "stream",
     "text": [
      "regularization_factors, val_score: 6.164224:   5%|#9                                    | 1/20 [00:00<00:16,  1.15it/s]\u001b[32m[I 2021-06-20 18:01:36,249]\u001b[0m Trial 43 finished with value: 6.1776793501687175 and parameters: {'lambda_l1': 0.00010764744287551218, 'lambda_l2': 0.0023599553023513436}. Best is trial 43 with value: 6.1776793501687175.\u001b[0m\n",
      "regularization_factors, val_score: 6.164224:   5%|#9                                    | 1/20 [00:00<00:16,  1.15it/s]"
     ]
    },
    {
     "name": "stdout",
     "output_type": "stream",
     "text": [
      "Early stopping, best iteration is:\n",
      "[550]\ttrain's rmse: 3.91918\teval's rmse: 6.17768\n",
      "Training until validation scores don't improve for 100 rounds\n",
      "[100]\ttrain's rmse: 5.7937\teval's rmse: 6.56612\n",
      "[200]\ttrain's rmse: 5.02946\teval's rmse: 6.34511\n",
      "[300]\ttrain's rmse: 4.59147\teval's rmse: 6.28949\n",
      "[400]\ttrain's rmse: 4.27303\teval's rmse: 6.21649\n",
      "[500]\ttrain's rmse: 4.03086\teval's rmse: 6.18398\n"
     ]
    },
    {
     "name": "stderr",
     "output_type": "stream",
     "text": [
      "\r",
      "regularization_factors, val_score: 6.164224:   5%|#9                                    | 1/20 [00:01<00:16,  1.15it/s]"
     ]
    },
    {
     "name": "stdout",
     "output_type": "stream",
     "text": [
      "[600]\ttrain's rmse: 3.81696\teval's rmse: 6.1774\n",
      "Early stopping, best iteration is:\n",
      "[548]\ttrain's rmse: 3.919\teval's rmse: 6.16956\n"
     ]
    },
    {
     "name": "stderr",
     "output_type": "stream",
     "text": [
      "regularization_factors, val_score: 6.164224:  10%|###8                                  | 2/20 [00:01<00:15,  1.15it/s]\u001b[32m[I 2021-06-20 18:01:37,117]\u001b[0m Trial 44 finished with value: 6.1695571012032415 and parameters: {'lambda_l1': 5.097898872845627e-06, 'lambda_l2': 8.141837519750496e-06}. Best is trial 44 with value: 6.1695571012032415.\u001b[0m\n",
      "regularization_factors, val_score: 6.164224:  10%|###8                                  | 2/20 [00:01<00:15,  1.15it/s]"
     ]
    },
    {
     "name": "stdout",
     "output_type": "stream",
     "text": [
      "Training until validation scores don't improve for 100 rounds\n",
      "[100]\ttrain's rmse: 5.80342\teval's rmse: 6.58215\n",
      "[200]\ttrain's rmse: 5.04129\teval's rmse: 6.36289\n",
      "[300]\ttrain's rmse: 4.59892\teval's rmse: 6.29561\n",
      "[400]\ttrain's rmse: 4.2806\teval's rmse: 6.24093\n",
      "[500]\ttrain's rmse: 4.03351\teval's rmse: 6.22233\n",
      "[600]\ttrain's rmse: 3.82192\teval's rmse: 6.20205\n",
      "Early stopping, best iteration is:\n",
      "[590]\ttrain's rmse: 3.8446\teval's rmse: 6.19529\n"
     ]
    },
    {
     "name": "stderr",
     "output_type": "stream",
     "text": [
      "regularization_factors, val_score: 6.164224:  15%|#####7                                | 3/20 [00:02<00:15,  1.12it/s]\u001b[32m[I 2021-06-20 18:01:38,037]\u001b[0m Trial 45 finished with value: 6.195294701997711 and parameters: {'lambda_l1': 0.01660611507379341, 'lambda_l2': 0.030045746804136488}. Best is trial 44 with value: 6.1695571012032415.\u001b[0m\n",
      "regularization_factors, val_score: 6.164224:  15%|#####7                                | 3/20 [00:02<00:15,  1.12it/s]"
     ]
    },
    {
     "name": "stdout",
     "output_type": "stream",
     "text": [
      "Training until validation scores don't improve for 100 rounds\n",
      "[100]\ttrain's rmse: 5.82669\teval's rmse: 6.60177\n",
      "[200]\ttrain's rmse: 5.07077\teval's rmse: 6.41569\n",
      "[300]\ttrain's rmse: 4.62776\teval's rmse: 6.33648\n",
      "[400]\ttrain's rmse: 4.30316\teval's rmse: 6.27631\n",
      "[500]\ttrain's rmse: 4.06564\teval's rmse: 6.23271\n",
      "[600]\ttrain's rmse: 3.85755\teval's rmse: 6.21046\n",
      "[700]\ttrain's rmse: 3.68238\teval's rmse: 6.20312\n"
     ]
    },
    {
     "name": "stderr",
     "output_type": "stream",
     "text": [
      "regularization_factors, val_score: 6.164224:  20%|#######6                              | 4/20 [00:03<00:15,  1.05it/s]\u001b[32m[I 2021-06-20 18:01:39,093]\u001b[0m Trial 46 finished with value: 6.197002003754625 and parameters: {'lambda_l1': 0.4125423164640073, 'lambda_l2': 0.00016440360757849932}. Best is trial 44 with value: 6.1695571012032415.\u001b[0m\n"
     ]
    },
    {
     "name": "stdout",
     "output_type": "stream",
     "text": [
      "[800]\ttrain's rmse: 3.53734\teval's rmse: 6.21151\n",
      "Early stopping, best iteration is:\n",
      "[708]\ttrain's rmse: 3.67021\teval's rmse: 6.197\n"
     ]
    },
    {
     "name": "stderr",
     "output_type": "stream",
     "text": [
      "\r",
      "regularization_factors, val_score: 6.164224:  20%|#######6                              | 4/20 [00:03<00:15,  1.05it/s]"
     ]
    },
    {
     "name": "stdout",
     "output_type": "stream",
     "text": [
      "Training until validation scores don't improve for 100 rounds\n",
      "[100]\ttrain's rmse: 5.83812\teval's rmse: 6.58874\n",
      "[200]\ttrain's rmse: 5.08023\teval's rmse: 6.37169\n",
      "[300]\ttrain's rmse: 4.63423\teval's rmse: 6.31772\n",
      "[400]\ttrain's rmse: 4.31272\teval's rmse: 6.25644\n",
      "[500]\ttrain's rmse: 4.06343\teval's rmse: 6.2163\n",
      "[600]\ttrain's rmse: 3.845\teval's rmse: 6.18783\n",
      "[700]\ttrain's rmse: 3.67436\teval's rmse: 6.1859\n",
      "[800]\ttrain's rmse: 3.52685\teval's rmse: 6.20746\n",
      "Early stopping, best iteration is:\n",
      "[703]\ttrain's rmse: 3.6688\teval's rmse: 6.18297\n"
     ]
    },
    {
     "name": "stderr",
     "output_type": "stream",
     "text": [
      "regularization_factors, val_score: 6.164224:  25%|#########5                            | 5/20 [00:04<00:14,  1.01it/s]\u001b[32m[I 2021-06-20 18:01:40,154]\u001b[0m Trial 47 finished with value: 6.1829655117627365 and parameters: {'lambda_l1': 0.00014623938603101097, 'lambda_l2': 0.7373172795510936}. Best is trial 44 with value: 6.1695571012032415.\u001b[0m\n",
      "regularization_factors, val_score: 6.164224:  25%|#########5                            | 5/20 [00:04<00:14,  1.01it/s]"
     ]
    },
    {
     "name": "stdout",
     "output_type": "stream",
     "text": [
      "Training until validation scores don't improve for 100 rounds\n",
      "[100]\ttrain's rmse: 5.7937\teval's rmse: 6.56612\n",
      "[200]\ttrain's rmse: 5.02073\teval's rmse: 6.35289\n",
      "[300]\ttrain's rmse: 4.58265\teval's rmse: 6.29079\n",
      "[400]\ttrain's rmse: 4.26618\teval's rmse: 6.25601\n",
      "[500]\ttrain's rmse: 4.02492\teval's rmse: 6.21116\n",
      "[600]\ttrain's rmse: 3.81707\teval's rmse: 6.20413\n",
      "[700]\ttrain's rmse: 3.64869\teval's rmse: 6.2011\n"
     ]
    },
    {
     "name": "stderr",
     "output_type": "stream",
     "text": [
      "regularization_factors, val_score: 6.164224:  30%|###########4                          | 6/20 [00:05<00:14,  1.02s/it]\u001b[32m[I 2021-06-20 18:01:41,214]\u001b[0m Trial 48 finished with value: 6.194049452345481 and parameters: {'lambda_l1': 0.00010117893440843555, 'lambda_l2': 5.830350002480703e-08}. Best is trial 44 with value: 6.1695571012032415.\u001b[0m\n",
      "regularization_factors, val_score: 6.164224:  30%|###########4                          | 6/20 [00:05<00:14,  1.02s/it]"
     ]
    },
    {
     "name": "stdout",
     "output_type": "stream",
     "text": [
      "[800]\ttrain's rmse: 3.49734\teval's rmse: 6.21046\n",
      "Early stopping, best iteration is:\n",
      "[703]\ttrain's rmse: 3.64293\teval's rmse: 6.19405\n",
      "Training until validation scores don't improve for 100 rounds\n",
      "[100]\ttrain's rmse: 5.79513\teval's rmse: 6.5621\n",
      "[200]\ttrain's rmse: 5.01458\teval's rmse: 6.33048\n",
      "[300]\ttrain's rmse: 4.58453\teval's rmse: 6.27826\n",
      "[400]\ttrain's rmse: 4.26167\teval's rmse: 6.21742\n",
      "[500]\ttrain's rmse: 4.0239\teval's rmse: 6.19707\n",
      "[600]\ttrain's rmse: 3.808\teval's rmse: 6.16669\n",
      "[700]\ttrain's rmse: 3.63525\teval's rmse: 6.16325\n",
      "[800]\ttrain's rmse: 3.48458\teval's rmse: 6.17531\n",
      "Early stopping, best iteration is:\n",
      "[714]\ttrain's rmse: 3.61076\teval's rmse: 6.153\n"
     ]
    },
    {
     "name": "stderr",
     "output_type": "stream",
     "text": [
      "regularization_factors, val_score: 6.153001:  35%|#############3                        | 7/20 [00:06<00:13,  1.04s/it]\u001b[32m[I 2021-06-20 18:01:42,296]\u001b[0m Trial 49 finished with value: 6.153000919019017 and parameters: {'lambda_l1': 0.0003703308145726047, 'lambda_l2': 0.00023695862457858994}. Best is trial 49 with value: 6.153000919019017.\u001b[0m\n",
      "regularization_factors, val_score: 6.153001:  35%|#############3                        | 7/20 [00:06<00:13,  1.04s/it]"
     ]
    },
    {
     "name": "stdout",
     "output_type": "stream",
     "text": [
      "Training until validation scores don't improve for 100 rounds\n",
      "[100]\ttrain's rmse: 5.78231\teval's rmse: 6.5874\n",
      "[200]\ttrain's rmse: 5.01606\teval's rmse: 6.38735\n",
      "[300]\ttrain's rmse: 4.56928\teval's rmse: 6.31724\n",
      "[400]\ttrain's rmse: 4.25049\teval's rmse: 6.28227\n",
      "[500]\ttrain's rmse: 4.00711\teval's rmse: 6.2566\n",
      "[600]\ttrain's rmse: 3.79547\teval's rmse: 6.23427\n",
      "[700]\ttrain's rmse: 3.62772\teval's rmse: 6.22402\n",
      "[800]\ttrain's rmse: 3.48027\teval's rmse: 6.25672\n"
     ]
    },
    {
     "name": "stderr",
     "output_type": "stream",
     "text": [
      "regularization_factors, val_score: 6.153001:  40%|###############2                      | 8/20 [00:07<00:12,  1.04s/it]\u001b[32m[I 2021-06-20 18:01:43,342]\u001b[0m Trial 50 finished with value: 6.220282017144002 and parameters: {'lambda_l1': 0.0036571179409535305, 'lambda_l2': 5.192819494557571e-07}. Best is trial 49 with value: 6.153000919019017.\u001b[0m\n",
      "regularization_factors, val_score: 6.153001:  40%|###############2                      | 8/20 [00:07<00:12,  1.04s/it]"
     ]
    },
    {
     "name": "stdout",
     "output_type": "stream",
     "text": [
      "Early stopping, best iteration is:\n",
      "[716]\ttrain's rmse: 3.59894\teval's rmse: 6.22028\n",
      "Training until validation scores don't improve for 100 rounds\n",
      "[100]\ttrain's rmse: 6.01522\teval's rmse: 6.67669\n",
      "[200]\ttrain's rmse: 5.24271\teval's rmse: 6.42217\n",
      "[300]\ttrain's rmse: 4.793\teval's rmse: 6.37167\n",
      "[400]\ttrain's rmse: 4.46538\teval's rmse: 6.30481\n",
      "[500]\ttrain's rmse: 4.22204\teval's rmse: 6.25613\n",
      "[600]\ttrain's rmse: 4.00805\teval's rmse: 6.24094\n",
      "Early stopping, best iteration is:\n",
      "[550]\ttrain's rmse: 4.10609\teval's rmse: 6.23252\n"
     ]
    },
    {
     "name": "stderr",
     "output_type": "stream",
     "text": [
      "regularization_factors, val_score: 6.153001:  45%|#################1                    | 9/20 [00:08<00:10,  1.01it/s]\u001b[32m[I 2021-06-20 18:01:44,220]\u001b[0m Trial 51 finished with value: 6.232522278927129 and parameters: {'lambda_l1': 9.515265443267179e-06, 'lambda_l2': 5.664985435458684}. Best is trial 49 with value: 6.153000919019017.\u001b[0m\n",
      "regularization_factors, val_score: 6.153001:  45%|#################1                    | 9/20 [00:08<00:10,  1.01it/s]"
     ]
    },
    {
     "name": "stdout",
     "output_type": "stream",
     "text": [
      "Training until validation scores don't improve for 100 rounds\n",
      "[100]\ttrain's rmse: 5.79752\teval's rmse: 6.56283\n",
      "[200]\ttrain's rmse: 5.03007\teval's rmse: 6.33302\n",
      "[300]\ttrain's rmse: 4.59632\teval's rmse: 6.28651\n",
      "[400]\ttrain's rmse: 4.27964\teval's rmse: 6.22751\n",
      "[500]\ttrain's rmse: 4.03546\teval's rmse: 6.20118\n"
     ]
    },
    {
     "name": "stderr",
     "output_type": "stream",
     "text": [
      "regularization_factors, val_score: 6.153001:  50%|##################5                  | 10/20 [00:09<00:09,  1.05it/s]"
     ]
    },
    {
     "name": "stdout",
     "output_type": "stream",
     "text": [
      "[600]\ttrain's rmse: 3.81837\teval's rmse: 6.188\n",
      "Early stopping, best iteration is:\n",
      "[550]\ttrain's rmse: 3.91916\teval's rmse: 6.17768\n"
     ]
    },
    {
     "name": "stderr",
     "output_type": "stream",
     "text": [
      "\u001b[32m[I 2021-06-20 18:01:45,081]\u001b[0m Trial 52 finished with value: 6.177682035544062 and parameters: {'lambda_l1': 4.75421422183907e-05, 'lambda_l2': 0.0018510272498390022}. Best is trial 49 with value: 6.153000919019017.\u001b[0m\n",
      "regularization_factors, val_score: 6.153001:  50%|##################5                  | 10/20 [00:09<00:09,  1.05it/s]"
     ]
    },
    {
     "name": "stdout",
     "output_type": "stream",
     "text": [
      "Training until validation scores don't improve for 100 rounds\n",
      "[100]\ttrain's rmse: 5.7937\teval's rmse: 6.56612\n",
      "[200]\ttrain's rmse: 5.02946\teval's rmse: 6.34511\n",
      "[300]\ttrain's rmse: 4.5915\teval's rmse: 6.29135\n",
      "[400]\ttrain's rmse: 4.26879\teval's rmse: 6.22371\n",
      "[500]\ttrain's rmse: 4.02625\teval's rmse: 6.1832\n",
      "[600]\ttrain's rmse: 3.81613\teval's rmse: 6.17284\n"
     ]
    },
    {
     "name": "stderr",
     "output_type": "stream",
     "text": [
      "regularization_factors, val_score: 6.153001:  55%|####################3                | 11/20 [00:10<00:08,  1.08it/s]\u001b[32m[I 2021-06-20 18:01:45,956]\u001b[0m Trial 53 finished with value: 6.164427146482366 and parameters: {'lambda_l1': 5.939785467434564e-08, 'lambda_l2': 2.1074065894206082e-05}. Best is trial 49 with value: 6.153000919019017.\u001b[0m\n",
      "regularization_factors, val_score: 6.153001:  55%|####################3                | 11/20 [00:10<00:08,  1.08it/s]"
     ]
    },
    {
     "name": "stdout",
     "output_type": "stream",
     "text": [
      "Early stopping, best iteration is:\n",
      "[545]\ttrain's rmse: 3.92654\teval's rmse: 6.16443\n",
      "Training until validation scores don't improve for 100 rounds\n",
      "[100]\ttrain's rmse: 5.7937\teval's rmse: 6.56612\n",
      "[200]\ttrain's rmse: 5.02946\teval's rmse: 6.34511\n",
      "[300]\ttrain's rmse: 4.5915\teval's rmse: 6.29135\n",
      "[400]\ttrain's rmse: 4.26879\teval's rmse: 6.22371\n",
      "[500]\ttrain's rmse: 4.02625\teval's rmse: 6.1832\n",
      "[600]\ttrain's rmse: 3.81613\teval's rmse: 6.17284\n",
      "Early stopping, best iteration is:\n",
      "[545]\ttrain's rmse: 3.92654\teval's rmse: 6.16443\n"
     ]
    },
    {
     "name": "stderr",
     "output_type": "stream",
     "text": [
      "regularization_factors, val_score: 6.153001:  60%|######################2              | 12/20 [00:11<00:07,  1.09it/s]\u001b[32m[I 2021-06-20 18:01:46,848]\u001b[0m Trial 54 finished with value: 6.164427164880718 and parameters: {'lambda_l1': 3.2609734594056036e-08, 'lambda_l2': 1.5763728700378608e-05}. Best is trial 49 with value: 6.153000919019017.\u001b[0m\n",
      "regularization_factors, val_score: 6.153001:  60%|######################2              | 12/20 [00:11<00:07,  1.09it/s]"
     ]
    },
    {
     "name": "stdout",
     "output_type": "stream",
     "text": [
      "Training until validation scores don't improve for 100 rounds\n",
      "[100]\ttrain's rmse: 5.7937\teval's rmse: 6.56612\n",
      "[200]\ttrain's rmse: 5.02946\teval's rmse: 6.34511\n",
      "[300]\ttrain's rmse: 4.5915\teval's rmse: 6.29135\n",
      "[400]\ttrain's rmse: 4.26879\teval's rmse: 6.22371\n",
      "[500]\ttrain's rmse: 4.02625\teval's rmse: 6.1832\n",
      "[600]\ttrain's rmse: 3.81613\teval's rmse: 6.17284\n",
      "Early stopping, best iteration is:\n",
      "[545]\ttrain's rmse: 3.92654\teval's rmse: 6.16443\n"
     ]
    },
    {
     "name": "stderr",
     "output_type": "stream",
     "text": [
      "regularization_factors, val_score: 6.153001:  65%|########################             | 13/20 [00:12<00:06,  1.11it/s]\u001b[32m[I 2021-06-20 18:01:47,715]\u001b[0m Trial 55 finished with value: 6.164427174759854 and parameters: {'lambda_l1': 2.992984337650953e-08, 'lambda_l2': 1.2454087996548836e-05}. Best is trial 49 with value: 6.153000919019017.\u001b[0m\n",
      "regularization_factors, val_score: 6.153001:  65%|########################             | 13/20 [00:12<00:06,  1.11it/s]"
     ]
    },
    {
     "name": "stdout",
     "output_type": "stream",
     "text": [
      "Training until validation scores don't improve for 100 rounds\n",
      "[100]\ttrain's rmse: 5.79369\teval's rmse: 6.56612\n",
      "[200]\ttrain's rmse: 5.02946\teval's rmse: 6.34511\n",
      "[300]\ttrain's rmse: 4.5915\teval's rmse: 6.29135\n",
      "[400]\ttrain's rmse: 4.26879\teval's rmse: 6.22371\n",
      "[500]\ttrain's rmse: 4.02625\teval's rmse: 6.1832\n",
      "[600]\ttrain's rmse: 3.81613\teval's rmse: 6.17284\n",
      "Early stopping, best iteration is:\n",
      "[545]\ttrain's rmse: 3.92654\teval's rmse: 6.16443\n"
     ]
    },
    {
     "name": "stderr",
     "output_type": "stream",
     "text": [
      "regularization_factors, val_score: 6.153001:  70%|#########################9           | 14/20 [00:13<00:05,  1.12it/s]\u001b[32m[I 2021-06-20 18:01:48,579]\u001b[0m Trial 56 finished with value: 6.164427212610516 and parameters: {'lambda_l1': 7.737501628151616e-07, 'lambda_l2': 5.764853704734487e-07}. Best is trial 49 with value: 6.153000919019017.\u001b[0m\n",
      "regularization_factors, val_score: 6.153001:  70%|#########################9           | 14/20 [00:13<00:05,  1.12it/s]"
     ]
    },
    {
     "name": "stdout",
     "output_type": "stream",
     "text": [
      "Training until validation scores don't improve for 100 rounds\n",
      "[100]\ttrain's rmse: 5.78232\teval's rmse: 6.5874\n",
      "[200]\ttrain's rmse: 5.01092\teval's rmse: 6.37671\n",
      "[300]\ttrain's rmse: 4.57409\teval's rmse: 6.34174\n",
      "[400]\ttrain's rmse: 4.25514\teval's rmse: 6.28511\n",
      "[500]\ttrain's rmse: 4.0109\teval's rmse: 6.25526\n",
      "[600]\ttrain's rmse: 3.79575\teval's rmse: 6.2443\n",
      "[700]\ttrain's rmse: 3.62601\teval's rmse: 6.23456\n",
      "[800]\ttrain's rmse: 3.47501\teval's rmse: 6.2655\n",
      "Early stopping, best iteration is:\n",
      "[704]\ttrain's rmse: 3.61945\teval's rmse: 6.23106\n"
     ]
    },
    {
     "name": "stderr",
     "output_type": "stream",
     "text": [
      "regularization_factors, val_score: 6.153001:  75%|###########################7         | 15/20 [00:14<00:04,  1.05it/s]\u001b[32m[I 2021-06-20 18:01:49,674]\u001b[0m Trial 57 finished with value: 6.2310552962624435 and parameters: {'lambda_l1': 0.00371188215511914, 'lambda_l2': 0.00040871566916774707}. Best is trial 49 with value: 6.153000919019017.\u001b[0m\n",
      "regularization_factors, val_score: 6.153001:  75%|###########################7         | 15/20 [00:14<00:04,  1.05it/s]"
     ]
    },
    {
     "name": "stdout",
     "output_type": "stream",
     "text": [
      "Training until validation scores don't improve for 100 rounds\n",
      "[100]\ttrain's rmse: 5.78946\teval's rmse: 6.60203\n",
      "[200]\ttrain's rmse: 5.02341\teval's rmse: 6.37704\n",
      "[300]\ttrain's rmse: 4.58489\teval's rmse: 6.31405\n",
      "[400]\ttrain's rmse: 4.25512\teval's rmse: 6.25384\n",
      "[500]\ttrain's rmse: 4.01402\teval's rmse: 6.21683\n",
      "[600]\ttrain's rmse: 3.79483\teval's rmse: 6.19602\n"
     ]
    },
    {
     "name": "stderr",
     "output_type": "stream",
     "text": [
      "regularization_factors, val_score: 6.153001:  80%|#############################6       | 16/20 [00:15<00:03,  1.07it/s]\u001b[32m[I 2021-06-20 18:01:50,555]\u001b[0m Trial 58 finished with value: 6.1906429197217685 and parameters: {'lambda_l1': 7.660365996537017e-07, 'lambda_l2': 0.0423148050406813}. Best is trial 49 with value: 6.153000919019017.\u001b[0m\n",
      "regularization_factors, val_score: 6.153001:  80%|#############################6       | 16/20 [00:15<00:03,  1.07it/s]"
     ]
    },
    {
     "name": "stdout",
     "output_type": "stream",
     "text": [
      "Early stopping, best iteration is:\n",
      "[548]\ttrain's rmse: 3.90003\teval's rmse: 6.19064\n",
      "Training until validation scores don't improve for 100 rounds\n",
      "[100]\ttrain's rmse: 5.80668\teval's rmse: 6.60615\n",
      "[200]\ttrain's rmse: 5.05326\teval's rmse: 6.41429\n",
      "[300]\ttrain's rmse: 4.61798\teval's rmse: 6.35874\n",
      "[400]\ttrain's rmse: 4.29958\teval's rmse: 6.29155\n",
      "[500]\ttrain's rmse: 4.05656\teval's rmse: 6.2745\n",
      "[600]\ttrain's rmse: 3.84942\teval's rmse: 6.2283\n"
     ]
    },
    {
     "name": "stderr",
     "output_type": "stream",
     "text": [
      "regularization_factors, val_score: 6.153001:  85%|###############################4     | 17/20 [00:16<00:02,  1.01it/s]\u001b[32m[I 2021-06-20 18:01:51,684]\u001b[0m Trial 59 finished with value: 6.222996861583856 and parameters: {'lambda_l1': 0.22823754579778643, 'lambda_l2': 0.00017792770814330884}. Best is trial 49 with value: 6.153000919019017.\u001b[0m\n"
     ]
    },
    {
     "name": "stdout",
     "output_type": "stream",
     "text": [
      "[700]\ttrain's rmse: 3.67823\teval's rmse: 6.23524\n",
      "Early stopping, best iteration is:\n",
      "[618]\ttrain's rmse: 3.817\teval's rmse: 6.223\n"
     ]
    },
    {
     "name": "stderr",
     "output_type": "stream",
     "text": [
      "\r",
      "regularization_factors, val_score: 6.153001:  85%|###############################4     | 17/20 [00:16<00:02,  1.01it/s]"
     ]
    },
    {
     "name": "stdout",
     "output_type": "stream",
     "text": [
      "Training until validation scores don't improve for 100 rounds\n",
      "[100]\ttrain's rmse: 5.78237\teval's rmse: 6.59658\n",
      "[200]\ttrain's rmse: 5.00969\teval's rmse: 6.36385\n",
      "[300]\ttrain's rmse: 4.57067\teval's rmse: 6.31995\n",
      "[400]\ttrain's rmse: 4.2549\teval's rmse: 6.27354\n",
      "[500]\ttrain's rmse: 4.00792\teval's rmse: 6.24139\n",
      "[600]\ttrain's rmse: 3.79492\teval's rmse: 6.23177\n"
     ]
    },
    {
     "name": "stderr",
     "output_type": "stream",
     "text": [
      "regularization_factors, val_score: 6.153001:  90%|#################################3   | 18/20 [00:17<00:01,  1.02it/s]\u001b[32m[I 2021-06-20 18:01:52,652]\u001b[0m Trial 60 finished with value: 6.225538931365458 and parameters: {'lambda_l1': 0.0020431292030922772, 'lambda_l2': 1.0654361014519103e-08}. Best is trial 49 with value: 6.153000919019017.\u001b[0m\n"
     ]
    },
    {
     "name": "stdout",
     "output_type": "stream",
     "text": [
      "[700]\ttrain's rmse: 3.62405\teval's rmse: 6.2448\n",
      "Early stopping, best iteration is:\n",
      "[618]\ttrain's rmse: 3.76108\teval's rmse: 6.22554\n"
     ]
    },
    {
     "name": "stderr",
     "output_type": "stream",
     "text": [
      "\r",
      "regularization_factors, val_score: 6.153001:  90%|#################################3   | 18/20 [00:17<00:01,  1.02it/s]"
     ]
    },
    {
     "name": "stdout",
     "output_type": "stream",
     "text": [
      "Training until validation scores don't improve for 100 rounds\n",
      "[100]\ttrain's rmse: 5.90659\teval's rmse: 6.6424\n",
      "[200]\ttrain's rmse: 5.17131\teval's rmse: 6.43233\n",
      "[300]\ttrain's rmse: 4.7241\teval's rmse: 6.37995\n",
      "[400]\ttrain's rmse: 4.4296\teval's rmse: 6.34685\n",
      "[500]\ttrain's rmse: 4.18799\teval's rmse: 6.30062\n",
      "[600]\ttrain's rmse: 3.99484\teval's rmse: 6.27749\n",
      "Early stopping, best iteration is:\n",
      "[565]\ttrain's rmse: 4.05332\teval's rmse: 6.26923\n"
     ]
    },
    {
     "name": "stderr",
     "output_type": "stream",
     "text": [
      "regularization_factors, val_score: 6.153001:  95%|###################################1 | 19/20 [00:18<00:00,  1.05it/s]\u001b[32m[I 2021-06-20 18:01:53,543]\u001b[0m Trial 61 finished with value: 6.2692330262078855 and parameters: {'lambda_l1': 4.490032979737521, 'lambda_l2': 1.372178744727025e-06}. Best is trial 49 with value: 6.153000919019017.\u001b[0m\n",
      "regularization_factors, val_score: 6.153001:  95%|###################################1 | 19/20 [00:18<00:00,  1.05it/s]"
     ]
    },
    {
     "name": "stdout",
     "output_type": "stream",
     "text": [
      "Training until validation scores don't improve for 100 rounds\n",
      "[100]\ttrain's rmse: 5.80258\teval's rmse: 6.59608\n",
      "[200]\ttrain's rmse: 5.02818\teval's rmse: 6.35884\n",
      "[300]\ttrain's rmse: 4.58294\teval's rmse: 6.28276\n",
      "[400]\ttrain's rmse: 4.26744\teval's rmse: 6.2285\n",
      "[500]\ttrain's rmse: 4.0225\teval's rmse: 6.19054\n",
      "[600]\ttrain's rmse: 3.81413\teval's rmse: 6.17699\n",
      "Early stopping, best iteration is:\n",
      "[548]\ttrain's rmse: 3.91713\teval's rmse: 6.16666\n"
     ]
    },
    {
     "name": "stderr",
     "output_type": "stream",
     "text": [
      "regularization_factors, val_score: 6.153001: 100%|#####################################| 20/20 [00:19<00:00,  1.08it/s]\u001b[32m[I 2021-06-20 18:01:54,413]\u001b[0m Trial 62 finished with value: 6.166660813227989 and parameters: {'lambda_l1': 2.6037483665101726e-07, 'lambda_l2': 0.03771815599596228}. Best is trial 49 with value: 6.153000919019017.\u001b[0m\n",
      "regularization_factors, val_score: 6.153001: 100%|#####################################| 20/20 [00:19<00:00,  1.05it/s]\n",
      "min_data_in_leaf, val_score: 6.153001:   0%|                                                     | 0/5 [00:00<?, ?it/s]"
     ]
    },
    {
     "name": "stdout",
     "output_type": "stream",
     "text": [
      "Training until validation scores don't improve for 100 rounds\n",
      "[100]\ttrain's rmse: 5.98044\teval's rmse: 6.66721\n",
      "[200]\ttrain's rmse: 5.20939\teval's rmse: 6.4086\n",
      "[300]\ttrain's rmse: 4.7709\teval's rmse: 6.32747\n",
      "[400]\ttrain's rmse: 4.45145\teval's rmse: 6.25547\n",
      "[500]\ttrain's rmse: 4.21158\teval's rmse: 6.23482\n",
      "[600]\ttrain's rmse: 4.00323\teval's rmse: 6.21277\n",
      "Early stopping, best iteration is:\n",
      "[590]\ttrain's rmse: 4.02594\teval's rmse: 6.20577\n"
     ]
    },
    {
     "name": "stderr",
     "output_type": "stream",
     "text": [
      "min_data_in_leaf, val_score: 6.153001:  20%|#########                                    | 1/5 [00:00<00:03,  1.09it/s]\u001b[32m[I 2021-06-20 18:01:55,343]\u001b[0m Trial 63 finished with value: 6.205768871328948 and parameters: {'min_child_samples': 25}. Best is trial 63 with value: 6.205768871328948.\u001b[0m\n",
      "min_data_in_leaf, val_score: 6.153001:  20%|#########                                    | 1/5 [00:00<00:03,  1.09it/s]"
     ]
    },
    {
     "name": "stdout",
     "output_type": "stream",
     "text": [
      "Training until validation scores don't improve for 100 rounds\n",
      "[100]\ttrain's rmse: 6.60214\teval's rmse: 7.18278\n",
      "[200]\ttrain's rmse: 5.91809\teval's rmse: 6.87175\n",
      "[300]\ttrain's rmse: 5.49765\teval's rmse: 6.76517\n",
      "[400]\ttrain's rmse: 5.17511\teval's rmse: 6.63533\n",
      "[500]\ttrain's rmse: 4.93585\teval's rmse: 6.56389\n",
      "[600]\ttrain's rmse: 4.73979\teval's rmse: 6.5264\n",
      "[700]\ttrain's rmse: 4.5728\teval's rmse: 6.48077\n",
      "[800]\ttrain's rmse: 4.42768\teval's rmse: 6.46779\n",
      "[900]\ttrain's rmse: 4.30166\teval's rmse: 6.4163\n",
      "[1000]\ttrain's rmse: 4.18389\teval's rmse: 6.41672\n",
      "Did not meet early stopping. Best iteration is:\n",
      "[1000]\ttrain's rmse: 4.18389\teval's rmse: 6.41672\n"
     ]
    },
    {
     "name": "stderr",
     "output_type": "stream",
     "text": [
      "min_data_in_leaf, val_score: 6.153001:  40%|##################                           | 2/5 [00:02<00:03,  1.11s/it]\u001b[32m[I 2021-06-20 18:01:56,601]\u001b[0m Trial 64 finished with value: 6.416723079917813 and parameters: {'min_child_samples': 50}. Best is trial 63 with value: 6.205768871328948.\u001b[0m\n",
      "min_data_in_leaf, val_score: 6.153001:  40%|##################                           | 2/5 [00:02<00:03,  1.11s/it]"
     ]
    },
    {
     "name": "stdout",
     "output_type": "stream",
     "text": [
      "Training until validation scores don't improve for 100 rounds\n",
      "[100]\ttrain's rmse: 5.53797\teval's rmse: 6.48853\n",
      "[200]\ttrain's rmse: 4.72402\teval's rmse: 6.29208\n",
      "[300]\ttrain's rmse: 4.24639\teval's rmse: 6.24785\n"
     ]
    },
    {
     "name": "stderr",
     "output_type": "stream",
     "text": [
      "min_data_in_leaf, val_score: 6.153001:  60%|###########################                  | 3/5 [00:02<00:01,  1.15it/s]\u001b[32m[I 2021-06-20 18:01:57,179]\u001b[0m Trial 65 finished with value: 6.230553797219418 and parameters: {'min_child_samples': 10}. Best is trial 63 with value: 6.205768871328948.\u001b[0m\n",
      "min_data_in_leaf, val_score: 6.153001:  60%|###########################                  | 3/5 [00:02<00:01,  1.15it/s]"
     ]
    },
    {
     "name": "stdout",
     "output_type": "stream",
     "text": [
      "[400]\ttrain's rmse: 3.88736\teval's rmse: 6.25286\n",
      "Early stopping, best iteration is:\n",
      "[373]\ttrain's rmse: 3.98229\teval's rmse: 6.23055\n",
      "Training until validation scores don't improve for 100 rounds\n",
      "[100]\ttrain's rmse: 7.40217\teval's rmse: 7.71414\n",
      "[200]\ttrain's rmse: 6.91164\teval's rmse: 7.38782\n",
      "[300]\ttrain's rmse: 6.63827\teval's rmse: 7.25941\n",
      "[400]\ttrain's rmse: 6.42964\teval's rmse: 7.13688\n",
      "[500]\ttrain's rmse: 6.26792\teval's rmse: 7.06988\n",
      "[600]\ttrain's rmse: 6.12018\teval's rmse: 7.01782\n",
      "[700]\ttrain's rmse: 5.99096\teval's rmse: 6.97301\n",
      "[800]\ttrain's rmse: 5.88658\teval's rmse: 6.95212\n",
      "[900]\ttrain's rmse: 5.77792\teval's rmse: 6.91042\n",
      "[1000]\ttrain's rmse: 5.69769\teval's rmse: 6.89341\n",
      "Did not meet early stopping. Best iteration is:\n",
      "[1000]\ttrain's rmse: 5.69769\teval's rmse: 6.89341\n"
     ]
    },
    {
     "name": "stderr",
     "output_type": "stream",
     "text": [
      "min_data_in_leaf, val_score: 6.153001:  80%|####################################         | 4/5 [00:03<00:00,  1.13it/s]\u001b[32m[I 2021-06-20 18:01:58,077]\u001b[0m Trial 66 finished with value: 6.893411950082371 and parameters: {'min_child_samples': 100}. Best is trial 63 with value: 6.205768871328948.\u001b[0m\n",
      "min_data_in_leaf, val_score: 6.153001:  80%|####################################         | 4/5 [00:03<00:00,  1.13it/s]"
     ]
    },
    {
     "name": "stdout",
     "output_type": "stream",
     "text": [
      "Training until validation scores don't improve for 100 rounds\n",
      "[100]\ttrain's rmse: 5.40765\teval's rmse: 6.47297\n",
      "[200]\ttrain's rmse: 4.55377\teval's rmse: 6.31494\n",
      "[300]\ttrain's rmse: 4.02486\teval's rmse: 6.2788\n",
      "[400]\ttrain's rmse: 3.63618\teval's rmse: 6.26037\n",
      "Early stopping, best iteration is:\n",
      "[375]\ttrain's rmse: 3.73625\teval's rmse: 6.24671\n"
     ]
    },
    {
     "name": "stderr",
     "output_type": "stream",
     "text": [
      "min_data_in_leaf, val_score: 6.153001: 100%|#############################################| 5/5 [00:04<00:00,  1.29it/s]\u001b[32m[I 2021-06-20 18:01:58,652]\u001b[0m Trial 67 finished with value: 6.246708673843273 and parameters: {'min_child_samples': 5}. Best is trial 63 with value: 6.205768871328948.\u001b[0m\n",
      "min_data_in_leaf, val_score: 6.153001: 100%|#############################################| 5/5 [00:04<00:00,  1.18it/s]"
     ]
    },
    {
     "name": "stdout",
     "output_type": "stream",
     "text": [
      "4.758356156647884\n"
     ]
    },
    {
     "name": "stderr",
     "output_type": "stream",
     "text": [
      "\n"
     ]
    }
   ],
   "source": [
    "y_lgb_preds = []\n",
    "models = []\n",
    "y_lgb_oof_train = np.zeros((len(X_train),))\n",
    "cv = KFold(n_splits=5, shuffle=True, random_state=0)\n",
    "\n",
    "params = {\n",
    "    'task' : 'train',\n",
    "    'boosting_type' : 'gbdt',\n",
    "    'objective': 'regression',\n",
    "    'metric' : 'rmse',\n",
    "    'max_bin' : 255,\n",
    "    'num_leaves' : 31,\n",
    "    'learning_rate' : 0.05,\n",
    "    'feature_fraction' : 0.9,\n",
    "    'bagging_fraction' : 0.8,\n",
    "    'bagging_freq': 5,\n",
    "    'verbose' : -1\n",
    "}\n",
    "\n",
    "# Cross Validation\n",
    "for fold_id, (train_index, valid_index) in enumerate(cv.split(X_train)):\n",
    "    X_tr = X_train.iloc[train_index, :]\n",
    "    X_val = X_train.iloc[valid_index, :]\n",
    "    y_tr = y_train.iloc[train_index]\n",
    "    y_val = y_train.iloc[valid_index]\n",
    "    \n",
    "    # Train Dataset\n",
    "    lgb_train = lgb.Dataset(X_tr, y_tr)\n",
    "\n",
    "    # Evaluation Dataset (early_stopping_rounds)\n",
    "    lgb_eval = lgb.Dataset(X_val, y_val, reference=lgb_train)\n",
    "    \n",
    "    evals_result = {} #結果を格納するための辞書\n",
    "    # train\n",
    "    gbm = lgb.train(params,\n",
    "                    lgb_train,\n",
    "                    valid_sets=[lgb_train, lgb_eval],\n",
    "                    valid_names=['train','eval'],\n",
    "                    num_boost_round=1000,\n",
    "                    early_stopping_rounds=100,\n",
    "                    verbose_eval=100,\n",
    "                    evals_result=evals_result\n",
    "                   )\n",
    "    # Out-of-hold of train data\n",
    "    y_lgb_oof_train[valid_index] = \\\n",
    "        gbm.predict(X_val, num_iteration=gbm.best_iteration)\n",
    "\n",
    "    \n",
    "    # Prediction for X_test data\n",
    "    y_pred = gbm.predict(X_test, num_iteration=gbm.best_iteration)\n",
    "    \n",
    "    # Append Prediction data \n",
    "    y_lgb_preds.append(y_pred)\n",
    "    models.append(gbm)\n",
    "\n",
    "print(mean_absolute_error(y_train, y_lgb_oof_train))\n"
   ]
  },
  {
   "cell_type": "code",
   "execution_count": 29,
   "id": "11f49bee",
   "metadata": {},
   "outputs": [
    {
     "data": {
      "text/plain": [
       "([16.944199940595706,\n",
       "  16.263676228226075,\n",
       "  15.61847686930246,\n",
       "  15.041564037105612,\n",
       "  14.829153293752908],\n",
       " [16.335503152336994,\n",
       "  15.692307881979284,\n",
       "  15.076877363884646,\n",
       "  14.501968235644588,\n",
       "  14.286250758786396])"
      ]
     },
     "execution_count": 29,
     "metadata": {},
     "output_type": "execute_result"
    }
   ],
   "source": [
    "train_metric = evals_result['train']['rmse']\n",
    "eval_metric = evals_result['eval']['rmse']\n",
    "train_metric[:5], eval_metric[:5]"
   ]
  },
  {
   "cell_type": "code",
   "execution_count": 30,
   "id": "8a61a1ed",
   "metadata": {},
   "outputs": [
    {
     "data": {
      "image/png": "[encoded data removed]",
      "text/plain": [
       "<Figure size 432x288 with 1 Axes>"
      ]
     },
     "metadata": {
      "needs_background": "light"
     },
     "output_type": "display_data"
    }
   ],
   "source": [
    "plt.plot(train_metric, label='train rmse')\n",
    "plt.plot(eval_metric, label='eval rmse')\n",
    "plt.grid()\n",
    "plt.legend()\n",
    "plt.ylim(0, 10)\n",
    "\n",
    "plt.xlabel('rounds')\n",
    "plt.ylabel('rmse')\n",
    "plt.grid(True)\n",
    "plt.show()"
   ]
  },
  {
   "cell_type": "code",
   "execution_count": 31,
   "id": "5999828f",
   "metadata": {},
   "outputs": [
    {
     "name": "stdout",
     "output_type": "stream",
     "text": [
      "{'alpha': 1e-06}\n",
      "R^2 = 0.8227281803942648\n",
      "MAE = 5.273054120466753\n"
     ]
    }
   ],
   "source": [
    "params_grid = {\n",
    "    'alpha': 10 ** np.arange(-6, 1, 0.1)\n",
    "}\n",
    "# パラメータチューニング\n",
    "clf = GridSearchCV(\n",
    "    estimator = Ridge(),\n",
    "    param_grid = params_grid,\n",
    "    cv = 5,\n",
    "    scoring='r2',\n",
    "    n_jobs = -1\n",
    "    )\n",
    "# 線形モデルの重みを学習\n",
    "clf.fit(X_train_scaler, y_train) \n",
    "\n",
    "# チューニングしたモデル\n",
    "best_param = clf.best_params_\n",
    "ridge_tuned = clf.best_estimator_\n",
    "\n",
    "# 予測値を反映\n",
    "y_ridge_pred = ridge_tuned.predict(X_train_scaler) # Trainデータに対して予測\n",
    "y_ridge_test_pred = ridge_tuned.predict(X_test_scaler) # Testデータに対して予測\n",
    "\n",
    "#print(\"α = {}\".format(clf.alpha_))\n",
    "#print(\"ω = {}\".format(clf.coef_))\n",
    "#print(\"b = {}\".format(clf.intercept_))\n",
    "print(best_param)\n",
    "print(\"R^2 = {}\".format(clf.score(X_train_scaler, y_train)))\n",
    "print(\"MAE = {}\".format(mean_absolute_error(y_train, y_ridge_pred)))"
   ]
  },
  {
   "cell_type": "code",
   "execution_count": 32,
   "id": "652a3707",
   "metadata": {},
   "outputs": [],
   "source": [
    "y_total_pred = y_lasso_pred*0.0 + y_ridge_pred*0.0 + y_svc_pred*1.0"
   ]
  },
  {
   "cell_type": "code",
   "execution_count": 33,
   "id": "a0c4f1b3",
   "metadata": {},
   "outputs": [
    {
     "data": {
      "image/png": "[encoded data removed]",
      "text/plain": [
       "<Figure size 432x288 with 1 Axes>"
      ]
     },
     "metadata": {
      "needs_background": "light"
     },
     "output_type": "display_data"
    }
   ],
   "source": [
    "#plt.scatter(y_train, y_lasso_pred)\n",
    "#plt.scatter(y_train, y_ridge_pred)\n",
    "plt.scatter(y_train, y_svc_pred)\n",
    "plt.scatter(y_train, y_lgb_oof_train)\n",
    "#plt.scatter(y_train, y_total_pred)\n",
    "\n",
    "\n",
    "\n",
    "plt.title(\"Prediction vs Valid data for SalePrice\")\n",
    "plt.xlabel(\"Prediction\")\n",
    "plt.ylabel(\"Expected value\")\n",
    "# Fitting line\n",
    "x = np.arange(0, max(y_train))\n",
    "y = x\n",
    "plt.plot(x,y,color='red')\n",
    "\n",
    "# MAE\n",
    "#result_mae = mean_absolute_error(y_train, y_total_pred)\n",
    "result_mae = mean_absolute_error(y_train, y_lgb_oof_train)\n",
    "#result_rmsle = rmsle(y_train.values, y_lgb_oof_train)\n",
    "\n",
    "plt.text(1, max(y_train), 'MAE = {}'.format(result_mae))\n",
    "\n",
    "# Grid on\n",
    "plt.grid(True)"
   ]
  },
  {
   "cell_type": "code",
   "execution_count": 34,
   "id": "e70246ab",
   "metadata": {},
   "outputs": [],
   "source": [
    "# Average of Prediction data \n",
    "y_lgb_test_pred = sum(y_lgb_preds)/len(y_lgb_preds)"
   ]
  },
  {
   "cell_type": "code",
   "execution_count": 35,
   "id": "e3d59727",
   "metadata": {},
   "outputs": [],
   "source": [
    "submit_sample[1] = y_lgb_test_pred\n",
    "submit_sample.to_csv('submit.csv',index = False,  header=None)"
   ]
  },
  {
   "cell_type": "code",
   "execution_count": 36,
   "id": "c45c7a2b",
   "metadata": {},
   "outputs": [
    {
     "data": {
      "text/html": [
       "<div>\n",
       "<style scoped>\n",
       "    .dataframe tbody tr th:only-of-type {\n",
       "        vertical-align: middle;\n",
       "    }\n",
       "\n",
       "    .dataframe tbody tr th {\n",
       "        vertical-align: top;\n",
       "    }\n",
       "\n",
       "    .dataframe thead th {\n",
       "        text-align: right;\n",
       "    }\n",
       "</style>\n",
       "<table border=\"1\" class=\"dataframe\">\n",
       "  <thead>\n",
       "    <tr style=\"text-align: right;\">\n",
       "      <th></th>\n",
       "      <th>0</th>\n",
       "      <th>1</th>\n",
       "    </tr>\n",
       "  </thead>\n",
       "  <tbody>\n",
       "    <tr>\n",
       "      <th>0</th>\n",
       "      <td>2016-04-01</td>\n",
       "      <td>79.949189</td>\n",
       "    </tr>\n",
       "    <tr>\n",
       "      <th>1</th>\n",
       "      <td>2016-04-02</td>\n",
       "      <td>84.818843</td>\n",
       "    </tr>\n",
       "    <tr>\n",
       "      <th>2</th>\n",
       "      <td>2016-04-03</td>\n",
       "      <td>71.621613</td>\n",
       "    </tr>\n",
       "    <tr>\n",
       "      <th>3</th>\n",
       "      <td>2016-04-04</td>\n",
       "      <td>67.372086</td>\n",
       "    </tr>\n",
       "    <tr>\n",
       "      <th>4</th>\n",
       "      <td>2016-04-05</td>\n",
       "      <td>63.649101</td>\n",
       "    </tr>\n",
       "  </tbody>\n",
       "</table>\n",
       "</div>"
      ],
      "text/plain": [
       "            0          1\n",
       "0  2016-04-01  79.949189\n",
       "1  2016-04-02  84.818843\n",
       "2  2016-04-03  71.621613\n",
       "3  2016-04-04  67.372086\n",
       "4  2016-04-05  63.649101"
      ]
     },
     "execution_count": 36,
     "metadata": {},
     "output_type": "execute_result"
    }
   ],
   "source": [
    "submit_sample.head()"
   ]
  },
  {
   "cell_type": "code",
   "execution_count": null,
   "id": "096d5a1d",
   "metadata": {},
   "outputs": [],
   "source": []
  }
 ],
 "metadata": {
  "kernelspec": {
   "display_name": "Python 3",
   "language": "python",
   "name": "python3"
  },
  "language_info": {
   "codemirror_mode": {
    "name": "ipython",
    "version": 3
   },
   "file_extension": ".py",
   "mimetype": "text/x-python",
   "name": "python",
   "nbconvert_exporter": "python",
   "pygments_lexer": "ipython3",
   "version": "3.8.8"
  }
 },
 "nbformat": 4,
 "nbformat_minor": 5
}
